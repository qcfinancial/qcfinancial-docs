{
 "cells": [
  {
   "cell_type": "markdown",
   "metadata": {},
   "source": [
    "# Construcción de Operaciones"
   ]
  },
  {
   "cell_type": "markdown",
   "metadata": {
    "editable": true,
    "slideshow": {
     "slide_type": "subslide"
    },
    "tags": []
   },
   "source": [
    "Para ejecutar todos los ejemplos se debe importar la librería. Se sugiere utilizar siempre el alias `qcf`. "
   ]
  },
  {
   "cell_type": "code",
   "metadata": {
    "editable": true,
    "execution": {
     "iopub.execute_input": "2024-08-18T22:25:25.643698Z",
     "iopub.status.busy": "2024-08-18T22:25:25.643456Z",
     "iopub.status.idle": "2024-08-18T22:25:26.211081Z",
     "shell.execute_reply": "2024-08-18T22:25:26.210173Z",
     "shell.execute_reply.started": "2024-08-18T22:25:25.643679Z"
    },
    "slideshow": {
     "slide_type": "fragment"
    },
    "tags": []
   },
   "source": [
    "import qcfinancial as qcf\n",
    "from qcfinancial import FxFixingLagAppliesTo\n",
    "\n",
    "import aux_functions as aux\n",
    "import pandas as pd"
   ],
   "outputs": [],
   "execution_count": null
  },
  {
   "metadata": {},
   "cell_type": "code",
   "source": "qcf.id()",
   "outputs": [],
   "execution_count": null
  },
  {
   "cell_type": "markdown",
   "metadata": {},
   "source": [
    "## Legs"
   ]
  },
  {
   "cell_type": "markdown",
   "metadata": {},
   "source": [
    "Los objetos de tipo `Leg` son una lista (o vector) de objetos `Cashflow` y representan una pata de un instrumento financiero. Un objeto de tipo `Leg` puede construirse *a mano* es decir, dando de alta cashflows y agregándolos uno a uno o con algunos métodos de conveniencia cuyo funcionamiento se mostrará."
   ]
  },
  {
   "cell_type": "markdown",
   "metadata": {},
   "source": [
    "### Construcción Manual"
   ]
  },
  {
   "cell_type": "markdown",
   "metadata": {},
   "source": [
    "Se verá como construir un `Leg` con 2 `SimpleCashflow` de forma *manual*. En particular, este objeto `Leg` podría representar una operación FX por entrega física."
   ]
  },
  {
   "cell_type": "markdown",
   "metadata": {},
   "source": [
    "Primero se construye dos objetos de tipo `SimpleCashflow`:"
   ]
  },
  {
   "cell_type": "code",
   "metadata": {
    "execution": {
     "iopub.execute_input": "2024-08-18T22:25:26.212854Z",
     "iopub.status.busy": "2024-08-18T22:25:26.212253Z",
     "iopub.status.idle": "2024-08-18T22:25:26.217195Z",
     "shell.execute_reply": "2024-08-18T22:25:26.216342Z",
     "shell.execute_reply.started": "2024-08-18T22:25:26.212829Z"
    }
   },
   "source": [
    "fecha_vencimiento = qcf.QCDate(23, 9, 2024)\n",
    "\n",
    "simple_cashflow_1 = qcf.SimpleCashflow(\n",
    "    fecha_vencimiento,    # fecha del flujo\n",
    "    1_000,         # monto\n",
    "    qcf.QCUSD()    # moneda\n",
    ") \n",
    "\n",
    "simple_cashflow_2 = qcf.SimpleCashflow(\n",
    "    fecha_vencimiento,    # fecha del flujo\n",
    "    -900_000,      # monto\n",
    "    qcf.QCCLP())   # moneda"
   ],
   "outputs": [],
   "execution_count": null
  },
  {
   "cell_type": "markdown",
   "metadata": {},
   "source": [
    "Con esto, se construye un objeto de tipo `Leg`. En este momento el objeto está vacío."
   ]
  },
  {
   "cell_type": "code",
   "metadata": {
    "execution": {
     "iopub.execute_input": "2024-08-18T22:25:26.218642Z",
     "iopub.status.busy": "2024-08-18T22:25:26.218132Z",
     "iopub.status.idle": "2024-08-18T22:25:26.221857Z",
     "shell.execute_reply": "2024-08-18T22:25:26.221132Z",
     "shell.execute_reply.started": "2024-08-18T22:25:26.218619Z"
    }
   },
   "source": [
    "leg = qcf.Leg()"
   ],
   "outputs": [],
   "execution_count": null
  },
  {
   "metadata": {},
   "cell_type": "code",
   "source": "leg.size()",
   "outputs": [],
   "execution_count": null
  },
  {
   "cell_type": "markdown",
   "metadata": {},
   "source": [
    "Agregamos los dos cashflows."
   ]
  },
  {
   "cell_type": "code",
   "metadata": {
    "execution": {
     "iopub.execute_input": "2024-08-18T22:25:26.223227Z",
     "iopub.status.busy": "2024-08-18T22:25:26.222970Z",
     "iopub.status.idle": "2024-08-18T22:25:26.226502Z",
     "shell.execute_reply": "2024-08-18T22:25:26.225859Z",
     "shell.execute_reply.started": "2024-08-18T22:25:26.223205Z"
    }
   },
   "source": [
    "leg.append_cashflow(simple_cashflow_1)\n",
    "leg.append_cashflow(simple_cashflow_2)"
   ],
   "outputs": [],
   "execution_count": null
  },
  {
   "cell_type": "markdown",
   "metadata": {},
   "source": [
    "Se observa el resultado (usamos la función del módulo `aux_functions` que a su vez depende del método `show`)."
   ]
  },
  {
   "cell_type": "code",
   "metadata": {
    "execution": {
     "iopub.execute_input": "2024-08-18T22:25:26.227427Z",
     "iopub.status.busy": "2024-08-18T22:25:26.227235Z",
     "iopub.status.idle": "2024-08-18T22:25:26.301615Z",
     "shell.execute_reply": "2024-08-18T22:25:26.301025Z",
     "shell.execute_reply.started": "2024-08-18T22:25:26.227407Z"
    }
   },
   "source": [
    "df = aux.leg_as_dataframe(leg)\n",
    "df.style.format(aux.format_dict)"
   ],
   "outputs": [],
   "execution_count": null
  },
  {
   "cell_type": "markdown",
   "metadata": {},
   "source": [
    "Agregar todo tipo de cashflows a un mismo objeto `Leg` entrega mucha flexibilidad para construir operaciones con estructuras complicadas. Partiremos, sin embargo, explicando como construir objetos `Leg` a partir de cashflows del mismo tipo."
   ]
  },
  {
   "cell_type": "markdown",
   "metadata": {},
   "source": [
    "## Construcción Asistida de un `FixedRateLeg`"
   ]
  },
  {
   "cell_type": "markdown",
   "metadata": {},
   "source": [
    "Se verá como construir objetos `Leg` donde cada `Cashflow` es un objeto de tipo `FixedRateCashflow`, todos con la misma tasa fija. En el primer ejemplo se construye un `Leg` de tipo *bullet*: una única amortización igual al capital vigente de todos los `FixedRateCasflow` en el último flujo."
   ]
  },
  {
   "cell_type": "markdown",
   "metadata": {},
   "source": [
    "Se requieren los siguientes parámetros, los cuales permitirán construir las variedades más comunes de `FixedRateLeg`, entre las cuales están las utilizadas en las operaciones estándar de mercado.\n",
    "\n",
    "- `RecPay`: enum que indica si los flujos se reciben o pagan\n",
    "- `QCDate`: fecha de inicio del primer flujo\n",
    "- `QCDate`: fecha final del último flujo sin considerar ajustes de días feriados\n",
    "- `BusyAdRules`: enum que representa el tipo de ajuste en la fecha final para días feriados (FOLLOW, MOD_FOLLOW)\n",
    "- `Tenor`: la periodicidad de pago\n",
    "- `QCInterestRateLeg::QCStubPeriod`: enum que representa el tipo de período irregular (si aplica)\n",
    "- `QCBusinessCalendar`: calendario que aplica para los ajustes de fechas y fechas de pago\n",
    "- `unsigned int`: lag de pago expresado en días\n",
    "- `float`: nominal inicial\n",
    "- `bool`: si es `True` significa que la amortización es un flujo de caja efectivo\n",
    "- `QCInterestRate`: la tasa a aplicar en cada flujo\n",
    "- `QCCurrency`: moneda del nominal y de los flujos\n",
    "- `bool`: si es `True` fuerza a que las fechas de pago coincidan con las fechas finales. Esto para lograr una valorización acorde a las convenciones de los mercados de renta fija, en caso que la `Leg` represente un bono a tasa fija.\n",
    "- `SettLagBehaviour`: este parámetro indica cómo se calcula un `settlement_date` cuando un `end_date` cae en un día festivo y no se ha definido un ajuste en las fechas finales. Las alternativas son dos, se calcula sumando el `settlement_lag` desde `end_date` o se calcula sumando `settlement_lag` a partir de la primera fecha hábil posterior a `end_date`.\n",
    "\n",
    "El parámetro `SettLagBehaviour` se agregó en la versión 0.11.0 .\n",
    "\n",
    "Vamos a un ejemplo."
   ]
  },
  {
   "cell_type": "markdown",
   "metadata": {},
   "source": [
    "Se da de alta los parámetros requeridos"
   ]
  },
  {
   "cell_type": "code",
   "metadata": {
    "execution": {
     "iopub.execute_input": "2024-08-18T22:25:26.305437Z",
     "iopub.status.busy": "2024-08-18T22:25:26.305173Z",
     "iopub.status.idle": "2024-08-18T22:25:26.421586Z",
     "shell.execute_reply": "2024-08-18T22:25:26.421036Z",
     "shell.execute_reply.started": "2024-08-18T22:25:26.305418Z"
    }
   },
   "source": [
    "rp = qcf.RecPay.RECEIVE\n",
    "fecha_inicio = qcf.QCDate(29, 7, 2024)\n",
    "fecha_final = qcf.QCDate(29, 7, 2026)\n",
    "bus_adj_rule = qcf.BusyAdjRules.FOLLOW\n",
    "periodicidad = qcf.Tenor('6M')\n",
    "periodo_irregular = qcf.StubPeriod.NO\n",
    "calendario = aux.get_business_calendar('CL', range(2024, 2027))  # Se apoya en holidays\n",
    "lag_pago = 0\n",
    "nominal = 100_000_000.0\n",
    "amort_es_flujo = True\n",
    "valor_tasa = .05\n",
    "tasa_cupon = qcf.QCInterestRate(valor_tasa, qcf.QCAct360(), qcf.QCLinearWf())\n",
    "moneda = qcf.QCCLP()\n",
    "es_bono = False"
   ],
   "outputs": [],
   "execution_count": null
  },
  {
   "cell_type": "markdown",
   "metadata": {},
   "source": [
    "Este argumento tiene como valor por default `qcf.SettLagBehaviour.DONT_MOVE`. Aquí, por claridad, se define explícitamente."
   ]
  },
  {
   "cell_type": "code",
   "metadata": {
    "execution": {
     "iopub.execute_input": "2024-08-18T22:25:26.422558Z",
     "iopub.status.busy": "2024-08-18T22:25:26.422346Z",
     "iopub.status.idle": "2024-08-18T22:25:26.425439Z",
     "shell.execute_reply": "2024-08-18T22:25:26.424878Z",
     "shell.execute_reply.started": "2024-08-18T22:25:26.422542Z"
    }
   },
   "source": [
    "sett_lag_behaviour = qcf.SettLagBehaviour.DONT_MOVE"
   ],
   "outputs": [],
   "execution_count": null
  },
  {
   "cell_type": "markdown",
   "metadata": {},
   "source": [
    "Se da de alta el objeto."
   ]
  },
  {
   "cell_type": "code",
   "metadata": {
    "execution": {
     "iopub.execute_input": "2024-08-18T22:25:26.426553Z",
     "iopub.status.busy": "2024-08-18T22:25:26.426391Z",
     "iopub.status.idle": "2024-08-18T22:25:26.432791Z",
     "shell.execute_reply": "2024-08-18T22:25:26.431916Z",
     "shell.execute_reply.started": "2024-08-18T22:25:26.426536Z"
    }
   },
   "source": [
    "fixed_rate_leg = qcf.LegFactory.build_bullet_fixed_rate_leg(\n",
    "    rec_pay=rp,\n",
    "    start_date=fecha_inicio,\n",
    "    end_date=fecha_final,\n",
    "    bus_adj_rule=bus_adj_rule,\n",
    "    settlement_periodicity=periodicidad,\n",
    "    settlement_stub_period=periodo_irregular,\n",
    "    settlement_calendar=calendario,\n",
    "    settlement_lag=lag_pago,\n",
    "    initial_notional=nominal,\n",
    "    amort_is_cashflow=amort_es_flujo,\n",
    "    interest_rate=tasa_cupon,\n",
    "    notional_currency=moneda,\n",
    "    is_bond=es_bono,\n",
    "    sett_lag_behaviour=sett_lag_behaviour,\n",
    ")"
   ],
   "outputs": [],
   "execution_count": null
  },
  {
   "cell_type": "markdown",
   "metadata": {},
   "source": [
    "Como en el capítulo anterior, se puede lograr una muy buena visualización del resultado utilizando un `pandas.Dataframe` de pandas y el método `show`."
   ]
  },
  {
   "cell_type": "code",
   "metadata": {
    "execution": {
     "iopub.execute_input": "2024-08-18T22:25:26.434097Z",
     "iopub.status.busy": "2024-08-18T22:25:26.433749Z",
     "iopub.status.idle": "2024-08-18T22:25:26.442430Z",
     "shell.execute_reply": "2024-08-18T22:25:26.441737Z",
     "shell.execute_reply.started": "2024-08-18T22:25:26.434054Z"
    }
   },
   "source": [
    "df = aux.leg_as_dataframe(fixed_rate_leg)\n",
    "df.style.format(aux.format_dict)"
   ],
   "outputs": [],
   "execution_count": null
  },
  {
   "cell_type": "markdown",
   "metadata": {},
   "source": [
    "### Otros `StubPeriod`"
   ]
  },
  {
   "cell_type": "markdown",
   "metadata": {},
   "source": [
    "Período irregular corto al inicio (`qcf.StubPeriod.SHORTFRONT`)"
   ]
  },
  {
   "cell_type": "code",
   "metadata": {
    "execution": {
     "iopub.execute_input": "2024-08-18T22:25:26.443574Z",
     "iopub.status.busy": "2024-08-18T22:25:26.443176Z",
     "iopub.status.idle": "2024-08-18T22:25:26.449941Z",
     "shell.execute_reply": "2024-08-18T22:25:26.448787Z",
     "shell.execute_reply.started": "2024-08-18T22:25:26.443556Z"
    }
   },
   "source": [
    "fecha_final = fecha_inicio.add_months(27)\n",
    "periodo_irregular = qcf.StubPeriod.SHORTFRONT\n",
    "\n",
    "fixed_rate_leg = qcf.LegFactory.build_bullet_fixed_rate_leg(\n",
    "    rec_pay=rp,\n",
    "    start_date=fecha_inicio,\n",
    "    end_date=fecha_final,\n",
    "    bus_adj_rule=bus_adj_rule,\n",
    "    settlement_periodicity=periodicidad,\n",
    "    settlement_stub_period=periodo_irregular,\n",
    "    settlement_calendar=calendario,\n",
    "    settlement_lag=lag_pago,\n",
    "    initial_notional=nominal,\n",
    "    amort_is_cashflow=amort_es_flujo,\n",
    "    interest_rate=tasa_cupon,\n",
    "    notional_currency=moneda,\n",
    "    is_bond=es_bono,\n",
    "    sett_lag_behaviour=sett_lag_behaviour,\n",
    ")"
   ],
   "outputs": [],
   "execution_count": null
  },
  {
   "cell_type": "code",
   "metadata": {
    "execution": {
     "iopub.execute_input": "2024-08-18T22:25:26.451642Z",
     "iopub.status.busy": "2024-08-18T22:25:26.451378Z",
     "iopub.status.idle": "2024-08-18T22:25:26.460536Z",
     "shell.execute_reply": "2024-08-18T22:25:26.459920Z",
     "shell.execute_reply.started": "2024-08-18T22:25:26.451622Z"
    }
   },
   "source": [
    "df = aux.leg_as_dataframe(fixed_rate_leg)\n",
    "df.style.format(aux.format_dict)"
   ],
   "outputs": [],
   "execution_count": null
  },
  {
   "cell_type": "markdown",
   "metadata": {},
   "source": [
    "Período irregular corto al final (`qcf.StubPeriod.SHORTBACK`)"
   ]
  },
  {
   "cell_type": "code",
   "metadata": {
    "execution": {
     "iopub.execute_input": "2024-08-18T22:25:26.461535Z",
     "iopub.status.busy": "2024-08-18T22:25:26.461381Z",
     "iopub.status.idle": "2024-08-18T22:25:26.467120Z",
     "shell.execute_reply": "2024-08-18T22:25:26.466296Z",
     "shell.execute_reply.started": "2024-08-18T22:25:26.461519Z"
    }
   },
   "source": [
    "periodo_irregular = qcf.StubPeriod.SHORTBACK\n",
    "\n",
    "fixed_rate_leg = qcf.LegFactory.build_bullet_fixed_rate_leg(\n",
    "    rec_pay=rp,\n",
    "    start_date=fecha_inicio,\n",
    "    end_date=fecha_final,\n",
    "    bus_adj_rule=bus_adj_rule,\n",
    "    settlement_periodicity=periodicidad,\n",
    "    settlement_stub_period=periodo_irregular,\n",
    "    settlement_calendar=calendario,\n",
    "    settlement_lag=lag_pago,\n",
    "    initial_notional=nominal,\n",
    "    amort_is_cashflow=amort_es_flujo,\n",
    "    interest_rate=tasa_cupon,\n",
    "    notional_currency=moneda,\n",
    "    is_bond=es_bono,\n",
    "    sett_lag_behaviour=sett_lag_behaviour,\n",
    ")"
   ],
   "outputs": [],
   "execution_count": null
  },
  {
   "cell_type": "code",
   "metadata": {
    "execution": {
     "iopub.execute_input": "2024-08-18T22:25:26.468437Z",
     "iopub.status.busy": "2024-08-18T22:25:26.468016Z",
     "iopub.status.idle": "2024-08-18T22:25:26.476761Z",
     "shell.execute_reply": "2024-08-18T22:25:26.476251Z",
     "shell.execute_reply.started": "2024-08-18T22:25:26.468416Z"
    }
   },
   "source": [
    "df = aux.leg_as_dataframe(fixed_rate_leg)\n",
    "df.style.format(aux.format_dict)"
   ],
   "outputs": [],
   "execution_count": null
  },
  {
   "cell_type": "markdown",
   "metadata": {},
   "source": [
    "Período irregular largo al principio (`qcf.StubPeriod.LONGFRONT`)"
   ]
  },
  {
   "cell_type": "code",
   "metadata": {
    "execution": {
     "iopub.execute_input": "2024-08-18T22:25:26.477937Z",
     "iopub.status.busy": "2024-08-18T22:25:26.477694Z",
     "iopub.status.idle": "2024-08-18T22:25:26.483001Z",
     "shell.execute_reply": "2024-08-18T22:25:26.482279Z",
     "shell.execute_reply.started": "2024-08-18T22:25:26.477919Z"
    }
   },
   "source": [
    "periodo_irregular = qcf.StubPeriod.LONGFRONT\n",
    "\n",
    "fixed_rate_leg = qcf.LegFactory.build_bullet_fixed_rate_leg(\n",
    "    rec_pay=rp,\n",
    "    start_date=fecha_inicio,\n",
    "    end_date=fecha_final,\n",
    "    bus_adj_rule=bus_adj_rule,\n",
    "    settlement_periodicity=periodicidad,\n",
    "    settlement_stub_period=periodo_irregular,\n",
    "    settlement_calendar=calendario,\n",
    "    settlement_lag=lag_pago,\n",
    "    initial_notional=nominal,\n",
    "    amort_is_cashflow=amort_es_flujo,\n",
    "    interest_rate=tasa_cupon,\n",
    "    notional_currency=moneda,\n",
    "    is_bond=es_bono,\n",
    "    sett_lag_behaviour=sett_lag_behaviour,\n",
    ")"
   ],
   "outputs": [],
   "execution_count": null
  },
  {
   "cell_type": "code",
   "metadata": {
    "execution": {
     "iopub.execute_input": "2024-08-18T22:25:26.484131Z",
     "iopub.status.busy": "2024-08-18T22:25:26.483926Z",
     "iopub.status.idle": "2024-08-18T22:25:26.492240Z",
     "shell.execute_reply": "2024-08-18T22:25:26.491678Z",
     "shell.execute_reply.started": "2024-08-18T22:25:26.484113Z"
    }
   },
   "source": [
    "df = aux.leg_as_dataframe(fixed_rate_leg)\n",
    "df.style.format(aux.format_dict)"
   ],
   "outputs": [],
   "execution_count": null
  },
  {
   "cell_type": "markdown",
   "metadata": {},
   "source": [
    "Período irregular largo al final (`qcf.StubPeriod.LONGBACK`)"
   ]
  },
  {
   "cell_type": "code",
   "metadata": {
    "execution": {
     "iopub.execute_input": "2024-08-18T22:25:26.493315Z",
     "iopub.status.busy": "2024-08-18T22:25:26.492989Z",
     "iopub.status.idle": "2024-08-18T22:25:26.499214Z",
     "shell.execute_reply": "2024-08-18T22:25:26.498477Z",
     "shell.execute_reply.started": "2024-08-18T22:25:26.493295Z"
    }
   },
   "source": [
    "periodo_irregular = qcf.StubPeriod.LONGBACK\n",
    "\n",
    "fixed_rate_leg = qcf.LegFactory.build_bullet_fixed_rate_leg(\n",
    "    rec_pay=rp,\n",
    "    start_date=fecha_inicio,\n",
    "    end_date=fecha_final,\n",
    "    bus_adj_rule=bus_adj_rule,\n",
    "    settlement_periodicity=periodicidad,\n",
    "    settlement_stub_period=periodo_irregular,\n",
    "    settlement_calendar=calendario,\n",
    "    settlement_lag=lag_pago,\n",
    "    initial_notional=nominal,\n",
    "    amort_is_cashflow=amort_es_flujo,\n",
    "    interest_rate=tasa_cupon,\n",
    "    notional_currency=moneda,\n",
    "    is_bond=es_bono,\n",
    "    sett_lag_behaviour=sett_lag_behaviour,\n",
    ")"
   ],
   "outputs": [],
   "execution_count": null
  },
  {
   "cell_type": "code",
   "metadata": {
    "execution": {
     "iopub.execute_input": "2024-08-18T22:25:26.500501Z",
     "iopub.status.busy": "2024-08-18T22:25:26.500254Z",
     "iopub.status.idle": "2024-08-18T22:25:26.508433Z",
     "shell.execute_reply": "2024-08-18T22:25:26.507902Z",
     "shell.execute_reply.started": "2024-08-18T22:25:26.500482Z"
    }
   },
   "source": [
    "df = aux.leg_as_dataframe(fixed_rate_leg)\n",
    "df.style.format(aux.format_dict)"
   ],
   "outputs": [],
   "execution_count": null
  },
  {
   "cell_type": "markdown",
   "metadata": {},
   "source": [
    "Período de gracia, usual en la cobertura de créditos (`qcf.StubPeriod.LONGFRONT3`)"
   ]
  },
  {
   "cell_type": "code",
   "metadata": {
    "execution": {
     "iopub.execute_input": "2024-08-18T22:25:26.509608Z",
     "iopub.status.busy": "2024-08-18T22:25:26.509396Z",
     "iopub.status.idle": "2024-08-18T22:25:26.516176Z",
     "shell.execute_reply": "2024-08-18T22:25:26.515551Z",
     "shell.execute_reply.started": "2024-08-18T22:25:26.509589Z"
    }
   },
   "source": [
    "fecha_final = fecha_inicio.add_months(12 * 5)  # Swap de 5Y\n",
    "periodo_irregular = qcf.StubPeriod.LONGFRONT3  # Una de varias opciones parecidas para alargar el primer período de intereses\n",
    "\n",
    "fixed_rate_leg = qcf.LegFactory.build_bullet_fixed_rate_leg(\n",
    "    rec_pay=rp,\n",
    "    start_date=fecha_inicio,\n",
    "    end_date=fecha_final,\n",
    "    bus_adj_rule=bus_adj_rule,\n",
    "    settlement_periodicity=periodicidad,\n",
    "    settlement_stub_period=periodo_irregular,\n",
    "    settlement_calendar=calendario,\n",
    "    settlement_lag=lag_pago,\n",
    "    initial_notional=nominal,\n",
    "    amort_is_cashflow=amort_es_flujo,\n",
    "    interest_rate=tasa_cupon,\n",
    "    notional_currency=moneda,\n",
    "    is_bond=es_bono,\n",
    "    sett_lag_behaviour=sett_lag_behaviour,\n",
    ")"
   ],
   "outputs": [],
   "execution_count": null
  },
  {
   "cell_type": "code",
   "metadata": {
    "execution": {
     "iopub.execute_input": "2024-08-18T22:25:26.517393Z",
     "iopub.status.busy": "2024-08-18T22:25:26.517129Z",
     "iopub.status.idle": "2024-08-18T22:25:26.527009Z",
     "shell.execute_reply": "2024-08-18T22:25:26.526474Z",
     "shell.execute_reply.started": "2024-08-18T22:25:26.517368Z"
    }
   },
   "source": [
    "df = aux.leg_as_dataframe(fixed_rate_leg)\n",
    "df.style.format(aux.format_dict)"
   ],
   "outputs": [],
   "execution_count": null
  },
  {
   "cell_type": "markdown",
   "metadata": {},
   "source": [
    "## Construcción Asistida de un `CustomAmortFixedRateLeg`"
   ]
  },
  {
   "cell_type": "markdown",
   "metadata": {},
   "source": [
    "En este ejemplo se construye un `Leg` con cashflows a tasa fija donde la estructura de amortizaciones es customizada.\n",
    "Se requieren los siguientes parámetros:\n",
    "\n",
    "- `RecPay`: enum que indica si los flujos se reciben o pagan\n",
    "- `QCDate`: fecha de inicio del primer flujo\n",
    "- `QCDate`: fecha final del último flujo sin considerar ajustes de días feriados\n",
    "- `BusyAdRules`: enum que representa el tipo de ajuste en la fecha final para días feriados\n",
    "- `Tenor`: la periodicidad de pago\n",
    "- `QCInterestRateLeg::QCStubPeriod`: enum que representa el tipo de período irregular (si aplica)\n",
    "- `QCBusinessCalendar`: calendario que aplica para las fechas de pago\n",
    "- `unsigned int`: lag de pago expresado en días\n",
    "- `CustomNotionalAndAmort`: vector de capital vigente y amortizaciones customizado\n",
    "- `bool`: si es `True` significa que la amortización es un flujo de caja efectivo\n",
    "- `QCInterestRate`: la tasa a aplicar en cada flujo\n",
    "- `QCCurrency`: moneda del nominal y de los flujos\n",
    "- `SettLagBehaviour`: este parámetro indica cómo se calcula un `settlement_date` cuando un `end_date` cae en un día festivo.\n",
    "\n",
    "Notar que este tipo de `Leg` no admite el parámetro `is_bond`. Se puede lograr el mismo efecto construyendo una pata bullet y luego customizando su amortización."
   ]
  },
  {
   "cell_type": "markdown",
   "metadata": {},
   "source": [
    "Vamos a un ejemplo.\n",
    "\n",
    "Primero se da de alta los parámetros requeridos"
   ]
  },
  {
   "cell_type": "code",
   "metadata": {
    "execution": {
     "iopub.execute_input": "2024-08-18T22:25:26.528231Z",
     "iopub.status.busy": "2024-08-18T22:25:26.527987Z",
     "iopub.status.idle": "2024-08-18T22:25:26.538034Z",
     "shell.execute_reply": "2024-08-18T22:25:26.537411Z",
     "shell.execute_reply.started": "2024-08-18T22:25:26.528209Z"
    }
   },
   "source": [
    "rp = qcf.RecPay.RECEIVE\n",
    "fecha_inicio = qcf.QCDate(31, 1, 2024)\n",
    "fecha_final = qcf.QCDate(31, 1, 2028) \n",
    "\n",
    "calendario = aux.get_business_calendar('US', range(2024, 2027))\n",
    "bus_adj_rule = qcf.BusyAdjRules.NO\n",
    "periodicidad = qcf.Tenor('6M')\n",
    "periodo_irregular = qcf.StubPeriod.NO\n",
    "lag_pago = 1\n",
    "\n",
    "amort_es_flujo = True\n",
    "valor_tasa = .05\n",
    "tasa_cupon = qcf.QCInterestRate(\n",
    "    valor_tasa, \n",
    "    qcf.QC30360(), \n",
    "    qcf.QCLinearWf()\n",
    ")\n",
    "\n",
    "moneda = qcf.QCCLP()\n",
    "sett_lag_behaviour = qcf.SettLagBehaviour.DONT_MOVE"
   ],
   "outputs": [],
   "execution_count": null
  },
  {
   "cell_type": "markdown",
   "metadata": {},
   "source": [
    "Aquí se da de alta el vector de capitales vigentes y amortizaciones. Cada elemento del vector es una tupla que continen el capital vigente y amortización del correspondiente cupón."
   ]
  },
  {
   "cell_type": "code",
   "metadata": {
    "execution": {
     "iopub.execute_input": "2024-08-18T22:25:26.545389Z",
     "iopub.status.busy": "2024-08-18T22:25:26.545144Z",
     "iopub.status.idle": "2024-08-18T22:25:26.549352Z",
     "shell.execute_reply": "2024-08-18T22:25:26.548537Z",
     "shell.execute_reply.started": "2024-08-18T22:25:26.545368Z"
    }
   },
   "source": [
    "custom_notional_amort = qcf.CustomNotionalAmort()\n",
    "custom_notional_amort.set_size(8)  # De la fecha inicio, fecha final y periodicidad se deduce que serán 8 cupones\n",
    "for i in range(0, 8):\n",
    "    custom_notional_amort.set_notional_amort_at(i, 800.0 - i * 100.0, 100.0)"
   ],
   "outputs": [],
   "execution_count": null
  },
  {
   "cell_type": "markdown",
   "metadata": {
    "execution": {
     "iopub.execute_input": "2024-06-09T09:30:33.607739Z",
     "iopub.status.busy": "2024-06-09T09:30:33.607403Z",
     "iopub.status.idle": "2024-06-09T09:30:33.613433Z",
     "shell.execute_reply": "2024-06-09T09:30:33.611854Z",
     "shell.execute_reply.started": "2024-06-09T09:30:33.607711Z"
    }
   },
   "source": [
    "Se da de alta el objeto."
   ]
  },
  {
   "cell_type": "code",
   "metadata": {
    "execution": {
     "iopub.execute_input": "2024-08-18T22:25:26.550306Z",
     "iopub.status.busy": "2024-08-18T22:25:26.550019Z",
     "iopub.status.idle": "2024-08-18T22:25:26.555772Z",
     "shell.execute_reply": "2024-08-18T22:25:26.555148Z",
     "shell.execute_reply.started": "2024-08-18T22:25:26.550288Z"
    }
   },
   "source": [
    "fixed_rate_custom_leg = qcf.LegFactory.build_custom_amort_fixed_rate_leg(\n",
    "    rec_pay=rp,\n",
    "    start_date=fecha_inicio,\n",
    "    end_date=fecha_final,\n",
    "    bus_adj_rule=bus_adj_rule,\n",
    "    settlement_periodicity=periodicidad,\n",
    "    settlement_stub_period=periodo_irregular,\n",
    "    settlement_calendar=calendario,\n",
    "    settlement_lag=lag_pago,\n",
    "    notional_and_amort=custom_notional_amort,\n",
    "    amort_is_cashflow=amort_es_flujo,\n",
    "    interest_rate=tasa_cupon,\n",
    "    notional_currency=moneda,\n",
    "    sett_lag_behaviour=sett_lag_behaviour,\n",
    ")"
   ],
   "outputs": [],
   "execution_count": null
  },
  {
   "cell_type": "code",
   "metadata": {
    "execution": {
     "iopub.execute_input": "2024-08-18T22:25:26.556627Z",
     "iopub.status.busy": "2024-08-18T22:25:26.556460Z",
     "iopub.status.idle": "2024-08-18T22:25:26.569706Z",
     "shell.execute_reply": "2024-08-18T22:25:26.569164Z",
     "shell.execute_reply.started": "2024-08-18T22:25:26.556609Z"
    }
   },
   "source": [
    "df = aux.leg_as_dataframe(fixed_rate_custom_leg)\n",
    "df.style.format(aux.format_dict).set_properties(\n",
    "    **{'background-color': '#FFCFC9', 'color':'black'},\n",
    "    subset=['nocional','amortizacion', 'flujo']\n",
    ").set_properties(\n",
    "    **{'background-color': '#FFCFA9', 'color':'black'},\n",
    "    subset=['flujo']\n",
    ")"
   ],
   "outputs": [],
   "execution_count": null
  },
  {
   "cell_type": "markdown",
   "metadata": {},
   "source": [
    "## Construcción Asistida de un `FixedRateMultiCurrencyLeg`"
   ]
  },
  {
   "cell_type": "markdown",
   "metadata": {},
   "source": [
    "Se verá como construir objetos `Leg` donde cada `Cashflow` es un objeto de tipo `FixedRateMultiCurrencyCashflow`, todos con la misma tasa fija. En el primer ejemplo se construye un `Leg` de tipo *bullet*: una única amortización igual al capital vigente de todos los `FixedRateMultiCurrencyCasflow` en el último flujo.\n",
    "Se requieren los siguientes parámetros:\n",
    "\n",
    "- `RecPay`: enum que indica si los flujos se reciben o pagan\n",
    "- `QCDate`: fecha de inicio del primer flujo\n",
    "- `QCDate`: fecha final del último flujo sin considerar ajustes de días feriados\n",
    "- `BusyAdRules`: enum que representa el tipo de ajuste en la fecha final para días feriados\n",
    "- `Tenor`: la periodicidad de pago\n",
    "- `QCInterestRateLeg::QCStubPeriod`: enum que representa el tipo de período irregular (si aplica)\n",
    "- `QCBusinessCalendar`: calendario que aplica para las fechas de pago\n",
    "- `unsigned int`: lag de pago expresado en días\n",
    "- `float`: nominal inicial\n",
    "- `bool`: si es `True` significa que la amortización es un flujo de caja efectivo\n",
    "- `QCInterestRate`: la tasa a aplicar en cada flujo\n",
    "- `QCCurrency`: moneda del nominal\n",
    "- `bool`: si es `True` fuerza a que las fechas de pago coincidan con las fechas finales. Esto para lograr una valorización acorde a las convenciones de los mercados de renta fija, en caso que la `Leg` represente un bono a tasa fija.\n",
    "- `SettLagBehaviour`: este parámetro indica cómo se calcula un `settlement_date` cuando un `end_date` cae en un día festivo.\n",
    "---\n",
    "**MultiCurrency**\n",
    "- `QCCurrency`: moneda de los flujos\n",
    "- `FXRateIndex`: índice con el cual se transforma cada flujo a la moneda de pago.\n",
    "- `unsigned int`: lag de fijación del valor del índice de tipo de cambio.\n",
    "- `FxFixingLagPivot`: este parámetro indica si el lag de fijación del índice FX se aplica sobre `end_date` o sobre `settlement_date`.\n",
    "- `FxFixingLagAppliesTo`: indica si el lag se refiere a `FIXING_DATE` o `PUBISHING_DATE` del índice."
   ]
  },
  {
   "cell_type": "markdown",
   "metadata": {},
   "source": "Vamos a un ejemplo."
  },
  {
   "cell_type": "markdown",
   "metadata": {},
   "source": [
    "Primero se debe dar de alta un FXRateIndex"
   ]
  },
  {
   "cell_type": "code",
   "metadata": {
    "execution": {
     "iopub.execute_input": "2024-08-18T22:25:26.570966Z",
     "iopub.status.busy": "2024-08-18T22:25:26.570682Z",
     "iopub.status.idle": "2024-08-18T22:25:26.574703Z",
     "shell.execute_reply": "2024-08-18T22:25:26.574031Z",
     "shell.execute_reply.started": "2024-08-18T22:25:26.570946Z"
    }
   },
   "source": [
    "scl = aux.get_business_calendar('CL', range(2024, 2031))\n",
    "ny = aux.get_business_calendar('US', range(2024, 2031))\n",
    "scl_ny = scl + ny\n",
    "\n",
    "usd = qcf.QCUSD()\n",
    "clp = qcf.QCCLP()\n",
    "usdclp = qcf.FXRate(usd, clp)\n",
    "one_d = qcf.Tenor('1D')\n",
    "usdclp_obs = qcf.FXRateIndex(\n",
    "    usdclp, \n",
    "    'USDOBS', # Vamos a suponer que es el Dólar Observado\n",
    "    one_d, \n",
    "    one_d, \n",
    "    scl,  # Es Santiago\n",
    ")"
   ],
   "outputs": [],
   "execution_count": null
  },
  {
   "cell_type": "markdown",
   "metadata": {},
   "source": [
    "Luego se dan de alta los otros parámetros requeridos para la construcción"
   ]
  },
  {
   "cell_type": "code",
   "metadata": {
    "execution": {
     "iopub.execute_input": "2024-08-18T22:25:26.575907Z",
     "iopub.status.busy": "2024-08-18T22:25:26.575626Z",
     "iopub.status.idle": "2024-08-18T22:25:26.579390Z",
     "shell.execute_reply": "2024-08-18T22:25:26.578633Z",
     "shell.execute_reply.started": "2024-08-18T22:25:26.575886Z"
    }
   },
   "source": [
    "rp = qcf.RecPay.RECEIVE\n",
    "fecha_inicio = qcf.QCDate(17, 7, 2024)"
   ],
   "outputs": [],
   "execution_count": null
  },
  {
   "cell_type": "markdown",
   "metadata": {},
   "source": [
    "Vamos a aplicar un truco para el cálculo de la fecha final. Se define el plazo de la pata con un objeto de tipo `qcf.Tenor`."
   ]
  },
  {
   "cell_type": "code",
   "metadata": {
    "execution": {
     "iopub.execute_input": "2024-08-18T22:25:26.580944Z",
     "iopub.status.busy": "2024-08-18T22:25:26.580611Z",
     "iopub.status.idle": "2024-08-18T22:25:26.584831Z",
     "shell.execute_reply": "2024-08-18T22:25:26.584295Z",
     "shell.execute_reply.started": "2024-08-18T22:25:26.580924Z"
    }
   },
   "source": [
    "plazo = qcf.Tenor(\"6Y\")\n",
    "fecha_final = fecha_inicio.add_months(plazo.get_years() * 12 + plazo.get_months())\n",
    "print(f\"Fecha final: {fecha_final}\")"
   ],
   "outputs": [],
   "execution_count": null
  },
  {
   "cell_type": "markdown",
   "metadata": {},
   "source": [
    "Vamos con el resto de parámetros."
   ]
  },
  {
   "cell_type": "code",
   "metadata": {
    "execution": {
     "iopub.execute_input": "2024-08-18T22:25:26.585984Z",
     "iopub.status.busy": "2024-08-18T22:25:26.585772Z",
     "iopub.status.idle": "2024-08-18T22:25:26.589943Z",
     "shell.execute_reply": "2024-08-18T22:25:26.589374Z",
     "shell.execute_reply.started": "2024-08-18T22:25:26.585964Z"
    }
   },
   "source": [
    "bus_adj_rule = qcf.BusyAdjRules.MODFOLLOW\n",
    "periodicidad = qcf.Tenor('6M')\n",
    "periodo_irregular = qcf.StubPeriod.NO\n",
    "lag_pago = 1\n",
    "\n",
    "valor_tasa = .03\n",
    "tasa_cupon = qcf.QCInterestRate(\n",
    "    valor_tasa, \n",
    "    qcf.QC30360(), \n",
    "    qcf.QCLinearWf()\n",
    ")\n",
    "es_bono = False\n",
    "lag_pago = 0\n",
    "sett_lag_behaviour = qcf.SettLagBehaviour.DONT_MOVE\n",
    "\n",
    "fx_rate_index_fixing_lag = 2  # lag de fijación del índice FX\n",
    "fx_fixing_lag_pivot = qcf.FxFixingLagPivot.END_DATE\n",
    "fx_fixing_lag_applies_to = qcf.FxFixingLagAppliesTo.FIXING_DATE"
   ],
   "outputs": [],
   "execution_count": null
  },
  {
   "cell_type": "markdown",
   "metadata": {},
   "source": [
    "Finalmente, se da de alta el objeto."
   ]
  },
  {
   "cell_type": "code",
   "metadata": {
    "execution": {
     "iopub.execute_input": "2024-08-18T22:25:26.591089Z",
     "iopub.status.busy": "2024-08-18T22:25:26.590844Z",
     "iopub.status.idle": "2024-08-18T22:25:26.598050Z",
     "shell.execute_reply": "2024-08-18T22:25:26.596532Z",
     "shell.execute_reply.started": "2024-08-18T22:25:26.591071Z"
    }
   },
   "source": [
    "fixed_rate_mccy_leg = qcf.LegFactory.build_bullet_fixed_rate_mccy_leg(\n",
    "    rec_pay=rp,\n",
    "    start_date=fecha_inicio,\n",
    "    end_date=fecha_final,\n",
    "    bus_adj_rule=bus_adj_rule,\n",
    "    settlement_periodicity=periodicidad,\n",
    "    settlement_stub_period=periodo_irregular,\n",
    "    settlement_calendar=scl_ny,\n",
    "    settlement_lag=lag_pago,\n",
    "    initial_notional=nominal,\n",
    "    amort_is_cashflow=amort_es_flujo,\n",
    "    interest_rate=tasa_cupon,\n",
    "    notional_currency=usd,\n",
    "    is_bond=es_bono,\n",
    "    sett_lag_behaviour=sett_lag_behaviour,\n",
    "    # Parámetros MultiCurrency\n",
    "    settlement_currency=clp,\n",
    "    fx_rate_index=usdclp_obs,\n",
    "    fx_rate_index_fixing_lag=fx_rate_index_fixing_lag,\n",
    "    fx_fixing_lag_pivot=fx_fixing_lag_pivot,\n",
    "    fx_fixing_lag_applies_to=fx_fixing_lag_applies_to\n",
    ")"
   ],
   "outputs": [],
   "execution_count": null
  },
  {
   "metadata": {},
   "cell_type": "code",
   "source": "scl_ny.shift(qcf.QCDate(\"2025-07-17\"), -fx_rate_index_fixing_lag)",
   "outputs": [],
   "execution_count": null
  },
  {
   "cell_type": "markdown",
   "metadata": {},
   "source": [
    "Visualización."
   ]
  },
  {
   "cell_type": "code",
   "metadata": {
    "execution": {
     "iopub.execute_input": "2024-08-18T22:25:26.599283Z",
     "iopub.status.busy": "2024-08-18T22:25:26.599018Z",
     "iopub.status.idle": "2024-08-18T22:25:26.614002Z",
     "shell.execute_reply": "2024-08-18T22:25:26.613037Z",
     "shell.execute_reply.started": "2024-08-18T22:25:26.599263Z"
    }
   },
   "source": [
    "df = aux.leg_as_dataframe(fixed_rate_mccy_leg)\n",
    "df.style.format(aux.format_dict).set_properties(\n",
    "    **{'background-color': '#FFCFC9', 'color':'black'},\n",
    "    subset=['fecha_pago',]\n",
    ").set_properties(\n",
    "    **{'background-color': '#FFCFA9', 'color':'black'},\n",
    "    subset=['fecha_fixing_fx']\n",
    ")"
   ],
   "outputs": [],
   "execution_count": null
  },
  {
   "cell_type": "markdown",
   "metadata": {},
   "source": [
    "Veamos el efecto de cambiar la opción `fix_fixing_lag_pivot`."
   ]
  },
  {
   "cell_type": "code",
   "metadata": {
    "execution": {
     "iopub.execute_input": "2024-08-18T22:25:26.615351Z",
     "iopub.status.busy": "2024-08-18T22:25:26.615069Z",
     "iopub.status.idle": "2024-08-18T22:25:26.621572Z",
     "shell.execute_reply": "2024-08-18T22:25:26.620883Z",
     "shell.execute_reply.started": "2024-08-18T22:25:26.615332Z"
    }
   },
   "source": [
    "fx_fixing_lag_pivot = qcf.FxFixingLagPivot.END_DATE\n",
    "\n",
    "fixed_rate_mccy_leg = qcf.LegFactory.build_bullet_fixed_rate_mccy_leg(\n",
    "    rec_pay=rp,\n",
    "    start_date=fecha_inicio,\n",
    "    end_date=fecha_final,\n",
    "    bus_adj_rule=bus_adj_rule,\n",
    "    settlement_periodicity=periodicidad,\n",
    "    settlement_stub_period=periodo_irregular,\n",
    "    settlement_calendar=calendario,\n",
    "    settlement_lag=lag_pago,\n",
    "    initial_notional=nominal,\n",
    "    amort_is_cashflow=amort_es_flujo,\n",
    "    interest_rate=tasa_cupon,\n",
    "    notional_currency=usd,\n",
    "    settlement_currency=clp,\n",
    "    is_bond=es_bono,\n",
    "    sett_lag_behaviour=sett_lag_behaviour,\n",
    "    # Parámetros MultiCurrency\n",
    "    fx_rate_index=usdclp_obs,\n",
    "    fx_rate_index_fixing_lag=fx_rate_index_fixing_lag,\n",
    "    fx_fixing_lag_pivot=fx_fixing_lag_pivot,\n",
    ")"
   ],
   "outputs": [],
   "execution_count": null
  },
  {
   "cell_type": "code",
   "metadata": {
    "execution": {
     "iopub.execute_input": "2024-08-18T22:25:26.622465Z",
     "iopub.status.busy": "2024-08-18T22:25:26.622300Z",
     "iopub.status.idle": "2024-08-18T22:25:26.636896Z",
     "shell.execute_reply": "2024-08-18T22:25:26.636300Z",
     "shell.execute_reply.started": "2024-08-18T22:25:26.622449Z"
    }
   },
   "source": [
    "df = aux.leg_as_dataframe(fixed_rate_mccy_leg)\n",
    "df.style.format(aux.format_dict).set_properties(\n",
    "    **{'background-color': '#FFCFC9', 'color':'black'},\n",
    "    subset=['fecha_final',]\n",
    ").set_properties(\n",
    "    **{'background-color': '#FFCFA9', 'color':'black'},\n",
    "    subset=['fecha_fixing_fx']\n",
    ")"
   ],
   "outputs": [],
   "execution_count": null
  },
  {
   "cell_type": "markdown",
   "metadata": {},
   "source": [
    "## Construcción Asistida de un `CustomAmortFixedRateMultiCurrencyLeg`"
   ]
  },
  {
   "cell_type": "markdown",
   "metadata": {},
   "source": [
    "Se verá como construir objetos `Leg` donde cada `Cashflow` es un objeto de tipo `FixedRateMultiCurrencyCashflow`, todos con la misma tasa fija. En este ejemplo se construye un `Leg` de tipo *custom_amort*: amortizaciones irregulares en cada `FixedRateMultiCurrencyCasflow`.\n",
    "Se requieren los siguientes parámetros:\n",
    "\n",
    "- `RecPay`: enum que indica si los flujos se reciben o pagan\n",
    "- `QCDate`: fecha de inicio del primer flujo\n",
    "- `QCDate`: fecha final del último flujo sin considerar ajustes de días feriados\n",
    "- `BusyAdRules`: enum que representa el tipo de ajuste en la fecha final para días feriados\n",
    "- `Tenor`: la periodicidad de pago\n",
    "- `QCInterestRateLeg::QCStubPeriod`: enum que representa el tipo de período irregular (si aplica)\n",
    "- `QCBusinessCalendar`: calendario que aplica para las fechas de pago\n",
    "- `unsigned int`: lag de pago expresado en días\n",
    "- `float`: nominal inicial\n",
    "- `bool`: si es `True` significa que la amortización es un flujo de caja efectivo\n",
    "- `QCInterestRate`: la tasa a aplicar en cada flujo\n",
    "- `QCCurrency`: moneda del nominal\n",
    "- `QCCurrency`: moneda de los flujos\n",
    "- `FXRateIndex`: índice con el cual se transforma cada flujo a la moneda de pago.\n",
    "- `bool`: si es `True` fuerza a que las fechas de pago coincidan con las fechas finales. Esto para lograr una valorización acorde a las convenciones de los mercados de renta fija, en caso que la `Leg` represente un bono a tasa fija.\n",
    "- `SettLagBehaviour`: este parámetro indica cómo se calcula un `settlement_date` cuando un `end_date` cae en un día festivo.\n",
    "- `FxFixingLagPivot`: este parámetro indica si el lag de fijación del índice FX se aplica sobre `end_date` o sobre `settlement_date`.\n",
    "\n",
    "Vamos a un ejemplo"
   ]
  },
  {
   "cell_type": "markdown",
   "metadata": {},
   "source": [
    "Primero se debe dar de alta un FXRateIndex"
   ]
  },
  {
   "cell_type": "code",
   "metadata": {
    "execution": {
     "iopub.execute_input": "2024-08-18T22:25:26.637775Z",
     "iopub.status.busy": "2024-08-18T22:25:26.637607Z",
     "iopub.status.idle": "2024-08-18T22:25:26.641531Z",
     "shell.execute_reply": "2024-08-18T22:25:26.640686Z",
     "shell.execute_reply.started": "2024-08-18T22:25:26.637758Z"
    }
   },
   "source": [
    "usd = qcf.QCUSD()\n",
    "clp = qcf.QCCLP()\n",
    "usdclp = qcf.FXRate(usd, clp)\n",
    "one_d = qcf.Tenor('1D')\n",
    "usdclp_obs = qcf.FXRateIndex(\n",
    "    usdclp, \n",
    "    'USDOBS', \n",
    "    one_d, \n",
    "    one_d, \n",
    "    calendario\n",
    ")"
   ],
   "outputs": [],
   "execution_count": null
  },
  {
   "cell_type": "markdown",
   "metadata": {},
   "source": [
    "Luego se dan de alta los otros parámetros requeridos para la construcción"
   ]
  },
  {
   "cell_type": "code",
   "metadata": {
    "execution": {
     "iopub.execute_input": "2024-08-18T22:25:26.642913Z",
     "iopub.status.busy": "2024-08-18T22:25:26.642572Z",
     "iopub.status.idle": "2024-08-18T22:25:26.646988Z",
     "shell.execute_reply": "2024-08-18T22:25:26.646277Z",
     "shell.execute_reply.started": "2024-08-18T22:25:26.642892Z"
    }
   },
   "source": [
    "rp = qcf.RecPay.RECEIVE\n",
    "fecha_inicio = qcf.QCDate(12, 7, 1968)\n",
    "fecha_final = qcf.QCDate(12, 7, 1974) \n",
    "bus_adj_rule = qcf.BusyAdjRules.NO\n",
    "periodicidad = qcf.Tenor('6M')\n",
    "periodo_irregular = qcf.StubPeriod.NO\n",
    "lag_pago = 1\n",
    "es_bono = False\n",
    "fx_rate_index_fixing_lag = 1\n",
    "fx_fixing_lag_pivot = qcf.FxFixingLagPivot.SETTLEMENT_DATE\n",
    "sett_lag_behaviour = qcf.SettLagBehaviour.DONT_MOVE"
   ],
   "outputs": [],
   "execution_count": null
  },
  {
   "cell_type": "markdown",
   "metadata": {},
   "source": [
    "Se da de alta el vector de capitales vigentes y amortizaciones. Cada elemento del vector es el capital vigente y amortización del correspondiente cupón."
   ]
  },
  {
   "cell_type": "code",
   "metadata": {
    "execution": {
     "iopub.execute_input": "2024-08-18T22:25:26.648594Z",
     "iopub.status.busy": "2024-08-18T22:25:26.648018Z",
     "iopub.status.idle": "2024-08-18T22:25:26.652083Z",
     "shell.execute_reply": "2024-08-18T22:25:26.651471Z",
     "shell.execute_reply.started": "2024-08-18T22:25:26.648572Z"
    }
   },
   "source": [
    "custom_notional_amort = qcf.CustomNotionalAmort()\n",
    "custom_notional_amort.set_size(12)  # De la fecha inicio y fecha final se deduce que serán 8 cupones\n",
    "for i in range(0, 12):\n",
    "    custom_notional_amort.set_notional_amort_at(i, 1200.0 - i * 100.0, 100.0)"
   ],
   "outputs": [],
   "execution_count": null
  },
  {
   "cell_type": "markdown",
   "metadata": {},
   "source": [
    "Finalmente, se da de alta el objeto."
   ]
  },
  {
   "cell_type": "code",
   "metadata": {
    "execution": {
     "iopub.execute_input": "2024-08-18T22:25:26.653313Z",
     "iopub.status.busy": "2024-08-18T22:25:26.652950Z",
     "iopub.status.idle": "2024-08-18T22:25:26.659492Z",
     "shell.execute_reply": "2024-08-18T22:25:26.658918Z",
     "shell.execute_reply.started": "2024-08-18T22:25:26.653294Z"
    }
   },
   "source": [
    "fixed_rate_mccy_leg = qcf.LegFactory.build_custom_amort_fixed_rate_mccy_leg(\n",
    "    rec_pay=rp,\n",
    "    start_date=fecha_inicio,\n",
    "    end_date=fecha_final,\n",
    "    bus_adj_rule=bus_adj_rule,\n",
    "    settlement_periodicity=periodicidad,\n",
    "    settlement_stub_period=periodo_irregular,\n",
    "    settlement_calendar=calendario,\n",
    "    settlement_lag=lag_pago,\n",
    "    notional_and_amort=custom_notional_amort,\n",
    "    amort_is_cashflow=amort_es_flujo,\n",
    "    interest_rate=tasa_cupon,\n",
    "    notional_currency=usd,\n",
    "    is_bond=es_bono,\n",
    "    sett_lag_behaviour=sett_lag_behaviour,\n",
    "    # Parámetros MultiCurrency\n",
    "    settlement_currency=clp,\n",
    "    fx_rate_index=usdclp_obs,\n",
    "    fx_rate_index_fixing_lag=fx_rate_index_fixing_lag,\n",
    "    fx_fixing_lag_pivot=fx_fixing_lag_pivot,\n",
    ")"
   ],
   "outputs": [],
   "execution_count": null
  },
  {
   "cell_type": "markdown",
   "metadata": {},
   "source": [
    "Visualización."
   ]
  },
  {
   "cell_type": "code",
   "metadata": {
    "execution": {
     "iopub.execute_input": "2024-08-18T22:25:26.660753Z",
     "iopub.status.busy": "2024-08-18T22:25:26.660378Z",
     "iopub.status.idle": "2024-08-18T22:25:26.676815Z",
     "shell.execute_reply": "2024-08-18T22:25:26.676190Z",
     "shell.execute_reply.started": "2024-08-18T22:25:26.660733Z"
    }
   },
   "source": [
    "aux.leg_as_dataframe(fixed_rate_mccy_leg).style.format(aux.format_dict).set_properties(\n",
    "    **{'background-color': '#FFCFC9', 'color':'black'},\n",
    "    subset=['nominal','amortizacion', 'flujo']\n",
    ").set_properties(\n",
    "    **{'background-color': '#FFCFA9', 'color':'black'},\n",
    "    subset=['flujo']\n",
    ")"
   ],
   "outputs": [],
   "execution_count": null
  },
  {
   "cell_type": "markdown",
   "metadata": {},
   "source": [
    "## Construcción Asistida de un `BulletIborLeg`"
   ]
  },
  {
   "cell_type": "markdown",
   "metadata": {},
   "source": [
    "En este ejemplo se construye un `Leg` con `IborCashflow` y amortización bullet.\n",
    "Se requieren los siguientes parámetros:\n",
    "\n",
    "- `RecPay`: enum que indica si los flujos se reciben o pagan\n",
    "- `QCDate`: fecha de inicio del primer flujo\n",
    "- `QCDate`: fecha final del último flujo sin considerar ajustes de días feriados\n",
    "- `BusyAdRules`: enum que representa el tipo de ajuste en la fecha final para días feriados\n",
    "- `Tenor`: la periodicidad de pago\n",
    "- `QCInterestRateLeg::QCStubPeriod`: enum que representa el tipo de período irregular (si aplica)\n",
    "- `QCBusinessCalendar`: calendario que aplica para las fechas de pago\n",
    "- `unsigned int`: lag de pago expresado en días\n",
    "- `Tenor`: periodicidad de fijación\n",
    "- `QCInterestRateLeg::QCStubPeriod`: enum que representa el tipo de período irregular para el calendario de fijaciones\n",
    "- `QCBusinessCalendar`: calendario que aplica para las fechas de fijación\n",
    "- `unsigned int`: lag de fijación expresado en días\n",
    "- `InterestRateIndex`: índice de tasa de interés utilizado en cada `IborCashflow`\n",
    "- `float`: nominal\n",
    "- `bool`: si es `True` significa que la amortización final es un flujo de caja efectivo\n",
    "- `QCCurrency`: moneda del nominal y de los flujos\n",
    "- `float`: spread aditivo\n",
    "- `gearing`: spread multiplicativo (tasa * gearing + spread)\n",
    "- `SettLagBehaviour`: este parámetro indica cómo se calcula un `settlement_date` cuando un `end_date` cae en un día festivo.\n",
    "\n",
    "**NOTA:** para construir un `Leg` con `IborCashflow` y amortización customizada, sólo se debe cambiar el parámetro **nominal** por **CustomNotionalAndAmort** e invocar el método `qcf.LegFactory.build_custom_amort_ibor_leg(...)`.\n",
    "\n",
    "Vamos a un ejemplo. Primero, se da de alta los parámetros requeridos. "
   ]
  },
  {
   "cell_type": "code",
   "metadata": {
    "execution": {
     "iopub.execute_input": "2024-08-18T22:25:26.677833Z",
     "iopub.status.busy": "2024-08-18T22:25:26.677662Z",
     "iopub.status.idle": "2024-08-18T22:25:26.685508Z",
     "shell.execute_reply": "2024-08-18T22:25:26.684858Z",
     "shell.execute_reply.started": "2024-08-18T22:25:26.677815Z"
    }
   },
   "source": [
    "rp = qcf.RecPay.RECEIVE\n",
    "fecha_inicio = qcf.QCDate(15, 2, 2024)\n",
    "fecha_final = qcf.QCDate(15, 2, 2026) \n",
    "bus_adj_rule = qcf.BusyAdjRules.NO\n",
    "periodicidad_pago = qcf.Tenor('3M')\n",
    "periodo_irregular_pago = qcf.StubPeriod.NO\n",
    "calendario = aux.get_business_calendar('US', range(2024, 2035))\n",
    "lag_pago = 1\n",
    "periodicidad_fijacion = qcf.Tenor('3M')\n",
    "periodo_irregular_fijacion = qcf.StubPeriod.NO\n",
    "sett_lag_behaviour = qcf.SettLagBehaviour.MOVE_TO_WORKING_DAY\n",
    "\n",
    "# Se utilizará el mismo calendario para pago y fijaciones\n",
    "lag_de_fijacion = 2\n",
    "\n",
    "nominal = 1_000_000.0\n",
    "amort_es_flujo = True \n",
    "moneda = usd\n",
    "spread = .01\n",
    "gearing = 1.0"
   ],
   "outputs": [],
   "execution_count": null
  },
  {
   "cell_type": "markdown",
   "metadata": {},
   "source": [
    "Se define el índice de tasa de interés."
   ]
  },
  {
   "cell_type": "code",
   "metadata": {
    "execution": {
     "iopub.execute_input": "2024-08-18T22:25:26.686554Z",
     "iopub.status.busy": "2024-08-18T22:25:26.686214Z",
     "iopub.status.idle": "2024-08-18T22:25:26.690336Z",
     "shell.execute_reply": "2024-08-18T22:25:26.689792Z",
     "shell.execute_reply.started": "2024-08-18T22:25:26.686536Z"
    }
   },
   "source": [
    "codigo = 'TERMSOFR3M'\n",
    "lin_act360 = qcf.QCInterestRate(.0, qcf.QCAct360(), qcf.QCLinearWf())\n",
    "fixing_lag = qcf.Tenor('2d')\n",
    "tenor = qcf.Tenor('3m')\n",
    "fixing_calendar = calendario\n",
    "settlement_calendar = calendario\n",
    "usd = qcf.QCUSD()\n",
    "termsofr_3m = qcf.InterestRateIndex(\n",
    "    codigo,\n",
    "    lin_act360,\n",
    "    fixing_lag,\n",
    "    tenor,\n",
    "    calendario,\n",
    "    calendario,\n",
    "    usd\n",
    ")"
   ],
   "outputs": [],
   "execution_count": null
  },
  {
   "cell_type": "markdown",
   "metadata": {},
   "source": [
    "Se da de alta el objeto, pero antes almacenaremos los parámetros en un `dict`. Esto permitirá una sintaxis un poco más liviana."
   ]
  },
  {
   "cell_type": "code",
   "metadata": {
    "execution": {
     "iopub.execute_input": "2024-08-18T22:25:26.691346Z",
     "iopub.status.busy": "2024-08-18T22:25:26.691175Z",
     "iopub.status.idle": "2024-08-18T22:25:26.695057Z",
     "shell.execute_reply": "2024-08-18T22:25:26.694450Z",
     "shell.execute_reply.started": "2024-08-18T22:25:26.691329Z"
    }
   },
   "source": [
    "params = dict(\n",
    "    rec_pay=rp, \n",
    "    start_date=fecha_inicio, \n",
    "    end_date=fecha_final, \n",
    "    bus_adj_rule=bus_adj_rule, \n",
    "    settlement_periodicity=periodicidad_pago,\n",
    "    settlement_stub_period=periodo_irregular_pago, \n",
    "    settlement_calendar=calendario, \n",
    "    settlement_lag=lag_pago,\n",
    "    fixing_periodicity=periodicidad_fijacion, \n",
    "    fixing_stub_period=periodo_irregular_fijacion,\n",
    "    fixing_calendar=calendario, \n",
    "    fixing_lag=lag_de_fijacion, \n",
    "    interest_rate_index=termsofr_3m,\n",
    "    initial_notional=nominal, \n",
    "    amort_is_cashflow=amort_es_flujo, \n",
    "    notional_currency=moneda, \n",
    "    spread=spread, \n",
    "    gearing=gearing,\n",
    "    sett_lag_behaviour=sett_lag_behaviour,\n",
    ")"
   ],
   "outputs": [],
   "execution_count": null
  },
  {
   "cell_type": "code",
   "metadata": {
    "execution": {
     "iopub.execute_input": "2024-08-18T22:25:26.695932Z",
     "iopub.status.busy": "2024-08-18T22:25:26.695726Z",
     "iopub.status.idle": "2024-08-18T22:25:26.704596Z",
     "shell.execute_reply": "2024-08-18T22:25:26.704002Z",
     "shell.execute_reply.started": "2024-08-18T22:25:26.695908Z"
    }
   },
   "source": [
    "ibor_leg = qcf.LegFactory.build_bullet_ibor_leg(**params)"
   ],
   "outputs": [],
   "execution_count": null
  },
  {
   "cell_type": "markdown",
   "metadata": {},
   "source": [
    "Visualización. Notar que los flujos de intereses corresponden al spread de 1%. No están fijados los valores del índice en cada cupón."
   ]
  },
  {
   "cell_type": "code",
   "metadata": {
    "execution": {
     "iopub.execute_input": "2024-08-18T22:25:26.705808Z",
     "iopub.status.busy": "2024-08-18T22:25:26.705554Z",
     "iopub.status.idle": "2024-08-18T22:25:26.716442Z",
     "shell.execute_reply": "2024-08-18T22:25:26.715934Z",
     "shell.execute_reply.started": "2024-08-18T22:25:26.705790Z"
    }
   },
   "source": [
    "aux.leg_as_dataframe(ibor_leg).style.format(aux.format_dict)"
   ],
   "outputs": [],
   "execution_count": null
  },
  {
   "cell_type": "markdown",
   "metadata": {},
   "source": [
    "### Otras Combinaciones de Períodos Irregulares"
   ]
  },
  {
   "cell_type": "markdown",
   "metadata": {},
   "source": [
    "Las distintas combinaciones de períodos irregulares (de pago y fijación) permiten obtener tablas de desarrollo con muchas características."
   ]
  },
  {
   "cell_type": "markdown",
   "metadata": {},
   "source": [
    "#### `SHORTFRONT` con `SHORTFRONT`"
   ]
  },
  {
   "cell_type": "code",
   "metadata": {
    "execution": {
     "iopub.execute_input": "2024-08-18T22:25:26.717667Z",
     "iopub.status.busy": "2024-08-18T22:25:26.717422Z",
     "iopub.status.idle": "2024-08-18T22:25:26.721156Z",
     "shell.execute_reply": "2024-08-18T22:25:26.720376Z",
     "shell.execute_reply.started": "2024-08-18T22:25:26.717650Z"
    }
   },
   "source": [
    "params[\"start_date\"] = qcf.QCDate(15, 3, 2024)\n",
    "params[\"settlement_stub_period\"] = qcf.StubPeriod.SHORTFRONT\n",
    "params[\"fixing_stub_period\"] = qcf.StubPeriod.SHORTFRONT"
   ],
   "outputs": [],
   "execution_count": null
  },
  {
   "cell_type": "code",
   "metadata": {
    "execution": {
     "iopub.execute_input": "2024-08-18T22:25:26.722182Z",
     "iopub.status.busy": "2024-08-18T22:25:26.721967Z",
     "iopub.status.idle": "2024-08-18T22:25:26.731062Z",
     "shell.execute_reply": "2024-08-18T22:25:26.730207Z",
     "shell.execute_reply.started": "2024-08-18T22:25:26.722163Z"
    }
   },
   "source": [
    "ibor_leg = qcf.LegFactory.build_bullet_ibor_leg(**params)"
   ],
   "outputs": [],
   "execution_count": null
  },
  {
   "cell_type": "markdown",
   "metadata": {},
   "source": [
    "En este caso, las fechas de fijación se sincronizan con las fechas de inicio de los cupones. Notar además que el primer cupón es de dos meses mientras que el índice es de 3M."
   ]
  },
  {
   "cell_type": "code",
   "metadata": {
    "execution": {
     "iopub.execute_input": "2024-08-18T22:25:26.732625Z",
     "iopub.status.busy": "2024-08-18T22:25:26.732206Z",
     "iopub.status.idle": "2024-08-18T22:25:26.742241Z",
     "shell.execute_reply": "2024-08-18T22:25:26.741538Z",
     "shell.execute_reply.started": "2024-08-18T22:25:26.732605Z"
    },
    "scrolled": true
   },
   "source": [
    "aux.leg_as_dataframe(ibor_leg).style.format(aux.format_dict)"
   ],
   "outputs": [],
   "execution_count": null
  },
  {
   "cell_type": "markdown",
   "metadata": {},
   "source": [
    "#### `SHORTFRONT` con `LONGBACK`"
   ]
  },
  {
   "cell_type": "code",
   "metadata": {
    "execution": {
     "iopub.execute_input": "2024-08-18T22:25:26.743512Z",
     "iopub.status.busy": "2024-08-18T22:25:26.743099Z",
     "iopub.status.idle": "2024-08-18T22:25:26.753063Z",
     "shell.execute_reply": "2024-08-18T22:25:26.752421Z",
     "shell.execute_reply.started": "2024-08-18T22:25:26.743493Z"
    }
   },
   "source": [
    "params[\"start_date\"] = qcf.QCDate(31, 1, 2024)\n",
    "params[\"end_date\"] = qcf.QCDate(31, 3, 2026) \n",
    "params[\"settlement_stub_period\"] = qcf.StubPeriod.SHORTFRONT\n",
    "params[\"fixing_stub_period\"] = qcf.StubPeriod.LONGBACK\n",
    "\n",
    "ibor_leg = qcf.LegFactory.build_bullet_ibor_leg(**params)"
   ],
   "outputs": [],
   "execution_count": null
  },
  {
   "cell_type": "markdown",
   "metadata": {},
   "source": [
    "En este caso, las fechas de fijación también se desfasan respecto a las fechas de inicio de los cupones. Ahora las fechas de fijación de los **primeros dos cupones** coinciden."
   ]
  },
  {
   "cell_type": "code",
   "metadata": {
    "execution": {
     "iopub.execute_input": "2024-08-18T22:25:26.754373Z",
     "iopub.status.busy": "2024-08-18T22:25:26.754124Z",
     "iopub.status.idle": "2024-08-18T22:25:26.765323Z",
     "shell.execute_reply": "2024-08-18T22:25:26.764337Z",
     "shell.execute_reply.started": "2024-08-18T22:25:26.754356Z"
    }
   },
   "source": [
    "aux.leg_as_dataframe(ibor_leg).style.format(aux.format_dict)"
   ],
   "outputs": [],
   "execution_count": null
  },
  {
   "cell_type": "markdown",
   "metadata": {},
   "source": [
    "## Construcción Asistida de un `BulletIborMultiCurrencyLeg`"
   ]
  },
  {
   "cell_type": "markdown",
   "metadata": {},
   "source": [
    "Se construye un `Leg` con `IborMultiCurrencyCashflow` y amortización bullet.\n",
    "Se requieren los siguientes parámetros:\n",
    "\n",
    "- `RecPay`: enum que indica si los flujos se reciben o pagan\n",
    "- `QCDate`: fecha de inicio del primer flujo\n",
    "- `QCDate`: fecha final del último flujo sin considerar ajustes de días feriados\n",
    "- `BusyAdRules`: enum que representa el tipo de ajuste en la fecha final para días feriados\n",
    "- `Tenor`: la periodicidad de pago\n",
    "- `QCInterestRateLeg::QCStubPeriod`: enum que representa el tipo de período irregular (si aplica)\n",
    "- `QCBusinessCalendar`: calendario que aplica para las fechas de pago\n",
    "- `unsigned int`: lag de pago expresado en días\n",
    "- `Tenor`: periodicidad de fijación\n",
    "- `QCInterestRateLeg::QCStubPeriod`: enum que representa el tipo de período irregular para el calendario de fijaciones\n",
    "- `QCBusinessCalendar`: calendario que aplica para las fechas de fijación\n",
    "- `unsigned int`: lag de fijación expresado en días\n",
    "- `InterestRateIndex`: índice de tasa de interés utilizado en cada `IborCashflow`\n",
    "- `float`: nominal\n",
    "- `bool`: si es `True` significa que la amortización final es un flujo de caja efectivo\n",
    "- `QCCurrency`: moneda del nominal y de los flujos\n",
    "- `float`: spread aditivo\n",
    "- `gearing`: spread multiplicativo (tasa * gearing + spread)\n",
    "- `SettLagBehaviour`: este parámetro indica cómo se calcula un `settlement_date` cuando un `end_date` cae en un día festivo.\n",
    "---\n",
    "**MultiCurrency**\n",
    "- `QCCurrency`: moneda de pago los flujos\n",
    "- `FXRateIndex`: índice con el cual se transforma cada flujo a la moneda de pago\n",
    "- `int`: lag de fijación del `FXRateIndex`.\n",
    "- `FxFixingLagPivot`: este parámetro indica si el lag de fijación del índice FX se aplica sobre `end_date` o sobre `settlement_date`.\n",
    "- `FxFixingLagAppliesTo`: indica si el lag se refiere a `FIXING_DATE` o `PUBISHING_DATE` del índice.\n",
    "\n",
    "Vamos a un ejemplo."
   ]
  },
  {
   "cell_type": "code",
   "metadata": {
    "execution": {
     "iopub.execute_input": "2024-08-18T22:25:26.766585Z",
     "iopub.status.busy": "2024-08-18T22:25:26.766303Z",
     "iopub.status.idle": "2024-08-18T22:25:26.776048Z",
     "shell.execute_reply": "2024-08-18T22:25:26.775394Z",
     "shell.execute_reply.started": "2024-08-18T22:25:26.766564Z"
    }
   },
   "source": [
    "ibor_mccy_leg = qcf.LegFactory.build_bullet_ibor_mccy_leg(\n",
    "    rec_pay=rp, \n",
    "    start_date=fecha_inicio, \n",
    "    end_date=fecha_final, \n",
    "    bus_adj_rule=bus_adj_rule, \n",
    "    settlement_periodicity=periodicidad_pago,\n",
    "    settlement_stub_period=periodo_irregular_pago, \n",
    "    settlement_calendar=calendario, \n",
    "    settlement_lag=lag_pago,\n",
    "    fixing_periodicity=periodicidad_fijacion, \n",
    "    fixing_stub_period=periodo_irregular_fijacion,\n",
    "    fixing_calendar=calendario, \n",
    "    fixing_lag=lag_de_fijacion, \n",
    "    interest_rate_index=termsofr_3m,\n",
    "    initial_notional=nominal, \n",
    "    amort_is_cashflow=amort_es_flujo, \n",
    "    notional_currency=clp, \n",
    "    spread=spread, \n",
    "    gearing=gearing,\n",
    "    sett_lag_behaviour=sett_lag_behaviour,\n",
    "    # Parámetros MultiCurrency\n",
    "    settlement_currency=usd, \n",
    "    fx_rate_index=usdclp_obs, \n",
    "    fx_rate_index_fixing_lag=fx_rate_index_fixing_lag,\n",
    "    fx_fixing_lag_pivot=fx_fixing_lag_pivot,\n",
    "    fx_fixing_lag_applies_to=qcf.FxFixingLagAppliesTo.PUBLISHING_DATE,\n",
    ")"
   ],
   "outputs": [],
   "execution_count": null
  },
  {
   "cell_type": "code",
   "metadata": {
    "execution": {
     "iopub.execute_input": "2024-08-18T22:25:26.777397Z",
     "iopub.status.busy": "2024-08-18T22:25:26.777129Z",
     "iopub.status.idle": "2024-08-18T22:25:26.789498Z",
     "shell.execute_reply": "2024-08-18T22:25:26.788885Z",
     "shell.execute_reply.started": "2024-08-18T22:25:26.777364Z"
    }
   },
   "source": [
    "aux.leg_as_dataframe(ibor_mccy_leg).style.format(aux.format_dict)"
   ],
   "outputs": [],
   "execution_count": null
  },
  {
   "cell_type": "markdown",
   "metadata": {},
   "source": [
    "Fijemos el valor del tipo de cambio en los cashflows para ver el efecto en las últimas dos columnas."
   ]
  },
  {
   "cell_type": "code",
   "metadata": {
    "execution": {
     "iopub.execute_input": "2024-08-18T22:25:26.790733Z",
     "iopub.status.busy": "2024-08-18T22:25:26.790380Z",
     "iopub.status.idle": "2024-08-18T22:25:26.793799Z",
     "shell.execute_reply": "2024-08-18T22:25:26.793162Z",
     "shell.execute_reply.started": "2024-08-18T22:25:26.790713Z"
    }
   },
   "source": [
    "for cashflow in ibor_mccy_leg.get_cashflows():\n",
    "    cashflow.set_fx_rate_index_value(900.0)"
   ],
   "outputs": [],
   "execution_count": null
  },
  {
   "cell_type": "code",
   "metadata": {
    "execution": {
     "iopub.execute_input": "2024-08-18T22:25:26.794888Z",
     "iopub.status.busy": "2024-08-18T22:25:26.794645Z",
     "iopub.status.idle": "2024-08-18T22:25:26.809002Z",
     "shell.execute_reply": "2024-08-18T22:25:26.808382Z",
     "shell.execute_reply.started": "2024-08-18T22:25:26.794870Z"
    }
   },
   "source": [
    "aux.leg_as_dataframe(ibor_mccy_leg).style.format(aux.format_dict).set_properties(\n",
    "    **{'background-color': '#FFCFC9', 'color':'black'},\n",
    "    subset=['valor_indice_fx','amortizacion_moneda_pago', 'interes_moneda_pago'],\n",
    ")"
   ],
   "outputs": [],
   "execution_count": null
  },
  {
   "cell_type": "markdown",
   "metadata": {},
   "source": [
    "## Construcción Asistida de un `OvernightIndexLeg`"
   ]
  },
  {
   "cell_type": "markdown",
   "metadata": {},
   "source": [
    "En este ejemplo se construye un `Leg` con `OvernightIndexCashflow` y amortización bullet.\n",
    "Se requieren los siguientes parámetros:\n",
    "\n",
    "- `RecPay`: enum que indica si los flujos se reciben o pagan\n",
    "- `QCDate`: fecha de inicio del primer flujo\n",
    "- `QCDate`: fecha final del último flujo sin considerar ajustes de días feriados\n",
    "- `BusyAdRules`: enum que representa el tipo de ajuste en la fecha final para días feriados\n",
    "- `BusyAdRules`: tipo de ajuste en la fecha de fijación de los valores inicial y final del índice en cada cupón\n",
    "- `Tenor`: la periodicidad de pago\n",
    "- `QCInterestRateLeg::QCStubPeriod`: enum que representa el tipo de período irregular (si aplica)\n",
    "- `QCBusinessCalendar`: calendario que aplica para las fechas de pago\n",
    "- `QCBusinessCalendar`: calendario que aplica para las fechas de fijación del índice\n",
    "- `unsigned int`: lag de pago expresado en días\n",
    "- `float`: nominal\n",
    "- `bool`: si es `True` significa que la amortización final es un flujo de caja efectivo\n",
    "- `float`: spread aditivo\n",
    "- `float`: spread multiplicativo o gearing (tasa * gearing + spread)\n",
    "- `QCInterestRate`: representa el tipo de tasa que se usará que se usará para la tasa equivalente\n",
    "- `string`: nombre del índice overnight a utilizar\n",
    "- `unsigned int`: número de decimales de la tasa equivalente\n",
    "- `QCCurrency`: moneda del nocional\n",
    "- `DatesForEquivalentRate`: enum que indica qué fechas se utilizan en el cálculo de la tasa equivalente (fechas de devengo o de índice)\n",
    "- `SettLagBehaviour`: este parámetro indica cómo se calcula un `settlement_date` cuando un `end_date` cae en un día festivo.\n",
    "\n",
    "**NOTA:** para construir un `Leg` con `OvernightIndexCashflow` y amortización customizada, sólo se debe cambiar el parámetro **nominal** por **CustomNotionalAndAmort** e invocar el método `qcf.LegFactory.build_custom_amort_overnight_index_leg(...)`.\n",
    "\n",
    "Vamos al ejemplo. Primeramente, se da de alta los parámetros requeridos"
   ]
  },
  {
   "cell_type": "code",
   "metadata": {
    "execution": {
     "iopub.execute_input": "2024-08-18T22:25:26.809860Z",
     "iopub.status.busy": "2024-08-18T22:25:26.809687Z",
     "iopub.status.idle": "2024-08-18T22:25:26.830866Z",
     "shell.execute_reply": "2024-08-18T22:25:26.830054Z",
     "shell.execute_reply.started": "2024-08-18T22:25:26.809843Z"
    }
   },
   "source": [
    "rp = qcf.RecPay.RECEIVE\n",
    "fecha_inicio = qcf.QCDate(31, 1, 2024)\n",
    "fecha_final = qcf.QCDate(31, 1, 2029) \n",
    "bus_adj_rule = qcf.BusyAdjRules.NO\n",
    "index_adj_rule = qcf.BusyAdjRules.FOLLOW\n",
    "periodicidad_pago = qcf.Tenor('6M')\n",
    "periodo_irregular_pago = qcf.StubPeriod.NO\n",
    "calendario = aux.get_business_calendar('CL', range(2024, 2035))\n",
    "num_decimales_tasa_eq = 8\n",
    "lag_pago = 0\n",
    "nominal = 100_000_000.0\n",
    "amort_es_flujo = True \n",
    "spread = .01\n",
    "gearing = 1.0\n",
    "interest_rate=qcf.QCInterestRate(0.0, qcf.QCAct360(), qcf.QCLinearWf())\n",
    "nombre_indice = 'ICPCLP'\n",
    "dates_for_eq_rate = qcf.DatesForEquivalentRate.ACCRUAL\n",
    "sett_lag_behaviour = qcf.SettLagBehaviour.MOVE_TO_WORKING_DAY"
   ],
   "outputs": [],
   "execution_count": null
  },
  {
   "cell_type": "markdown",
   "metadata": {},
   "source": [
    "Finalmente, se da de alta el objeto."
   ]
  },
  {
   "cell_type": "code",
   "metadata": {
    "execution": {
     "iopub.execute_input": "2024-08-18T22:25:26.832418Z",
     "iopub.status.busy": "2024-08-18T22:25:26.832079Z",
     "iopub.status.idle": "2024-08-18T22:25:26.848720Z",
     "shell.execute_reply": "2024-08-18T22:25:26.848143Z",
     "shell.execute_reply.started": "2024-08-18T22:25:26.832397Z"
    }
   },
   "source": [
    "on_index_leg = qcf.LegFactory.build_bullet_overnight_index_leg(\n",
    "    rec_pay=rp, \n",
    "    start_date=fecha_inicio,\n",
    "    end_date=fecha_final, \n",
    "    bus_adj_rule=bus_adj_rule, \n",
    "    fix_adj_rule=index_adj_rule,\n",
    "    settlement_periodicity=periodicidad_pago,\n",
    "    settlement_stub_period=periodo_irregular_pago, \n",
    "    settlement_calendar=calendario, \n",
    "    fixing_calendar=calendario,\n",
    "    settlement_lag=lag_pago,\n",
    "    initial_notional=nominal, \n",
    "    amort_is_cashflow=amort_es_flujo, \n",
    "    spread=spread, \n",
    "    gearing=gearing,\n",
    "    interest_rate=interest_rate,\n",
    "    index_name=nombre_indice,\n",
    "    eq_rate_decimal_places=num_decimales_tasa_eq,\n",
    "    notional_currency=clp,\n",
    "    dates_for_eq_rate=dates_for_eq_rate,\n",
    "    sett_lag_behaviour=sett_lag_behaviour,\n",
    ")"
   ],
   "outputs": [],
   "execution_count": null
  },
  {
   "cell_type": "markdown",
   "metadata": {},
   "source": [
    "Se visualiza."
   ]
  },
  {
   "cell_type": "code",
   "metadata": {
    "execution": {
     "iopub.execute_input": "2024-08-18T22:25:26.849974Z",
     "iopub.status.busy": "2024-08-18T22:25:26.849704Z",
     "iopub.status.idle": "2024-08-18T22:25:26.862090Z",
     "shell.execute_reply": "2024-08-18T22:25:26.861452Z",
     "shell.execute_reply.started": "2024-08-18T22:25:26.849952Z"
    }
   },
   "source": [
    "aux.leg_as_dataframe(on_index_leg).style.format(aux.format_dict)"
   ],
   "outputs": [],
   "execution_count": null
  },
  {
   "cell_type": "markdown",
   "metadata": {},
   "source": [
    "## Construcción Asistida de un `OvernightIndexMultiCurrencyLeg`"
   ]
  },
  {
   "cell_type": "markdown",
   "metadata": {},
   "source": [
    "En este ejemplo se construye un `Leg` con `OvernightIndexMultiCurrencyCashflow` y amortización bullet.\n",
    "Se requieren los siguientes parámetros:\n",
    "\n",
    "- `RecPay`: enum que indica si los flujos se reciben o pagan\n",
    "- `QCDate`: fecha de inicio del primer flujo\n",
    "- `QCDate`: fecha final del último flujo sin considerar ajustes de días feriados\n",
    "- `BusyAdRules`: enum que representa el tipo de ajuste en la fecha final para días feriados\n",
    "- `BusyAdRules`: tipo de ajuste en la fecha de fijación de los valores inicial y final del índice en cada cupón\n",
    "- `Tenor`: la periodicidad de pago\n",
    "- `QCInterestRateLeg::QCStubPeriod`: enum que representa el tipo de período irregular (si aplica)\n",
    "- `QCBusinessCalendar`: calendario que aplica para las fechas de pago\n",
    "- `QCBusinessCalendar`: calendario que aplica para las fechas de fijación del índice\n",
    "- `unsigned int`: lag de pago expresado en días\n",
    "- `float`: nominal\n",
    "- `bool`: si es `True` significa que la amortización final es un flujo de caja efectivo\n",
    "- `float`: spread aditivo\n",
    "- `float`: spread multiplicativo\n",
    "- `QCInterestRate`: representa el tipo de tasa que se usará que se usará para la tasa equivalente\n",
    "- `string`: nombre del índice overnight a utilizar\n",
    "- `unsigned int`: número de decimales de la tasa equivalente\n",
    "- `QCCurrency`: moneda del nocional\n",
    "- `DatesForEquivalentRate`: enum que indica qué fechas se utilizan en el cálculo de la tasa equivalente (fechas de devengo o de índice)\n",
    "- `SettLagBehaviour`: este parámetro indica cómo se calcula un `settlement_date` cuando un `end_date` cae en un día festivo.\n",
    "---\n",
    "**MultiCurrency**\n",
    "- `QCCurrency`: moneda de pago los flujos\n",
    "- `FXRateIndex`: índice con el cual se transforma cada flujo a la moneda de pago\n",
    "- `int`: lag de fijación del FXRateIndex (respecto a settlement date)\n",
    "- `FxFixingLagPivot`: este parámetro indica si el lag de fijación del índice FX se aplica sobre `end_date` o sobre `settlement_date`.\n",
    "- `FxFixingLagAppliesTo`: indica si el lag se refiere a `FIXING_DATE` o `PUBISHING_DATE` del índice."
   ]
  },
  {
   "cell_type": "markdown",
   "metadata": {},
   "source": [
    "**NOTA:** para construir un `Leg` con `OvernightIndexMultiCurrencyCashflow` y amortización customizada, sólo se debe cambiar el parámetro **nominal** por **CustomNotionalAndAmort** e invocar el método `qcf.LegFactory.build_custom_amort_overnight_index_multi_currency_leg(...)`."
   ]
  },
  {
   "cell_type": "markdown",
   "metadata": {},
   "source": [
    "Vamos al ejemplo. Primeramente, se da de alta los parámetros requeridos."
   ]
  },
  {
   "cell_type": "code",
   "metadata": {
    "execution": {
     "iopub.execute_input": "2024-08-18T22:25:26.863577Z",
     "iopub.status.busy": "2024-08-18T22:25:26.863206Z",
     "iopub.status.idle": "2024-08-18T22:25:26.868952Z",
     "shell.execute_reply": "2024-08-18T22:25:26.868306Z",
     "shell.execute_reply.started": "2024-08-18T22:25:26.863532Z"
    }
   },
   "source": [
    "rp = qcf.RecPay.RECEIVE\n",
    "fecha_inicio = qcf.QCDate(31, 1, 2024)\n",
    "fecha_final = qcf.QCDate(31, 1, 2029) \n",
    "bus_adj_rule = qcf.BusyAdjRules.NO\n",
    "index_adj_rule = qcf.BusyAdjRules.MODFOLLOW\n",
    "periodicidad_pago = qcf.Tenor('6M')\n",
    "periodo_irregular_pago = qcf.StubPeriod.NO\n",
    "calendario = qcf.BusinessCalendar(fecha_inicio, 20)\n",
    "num_decimales_tasa_eq = 8\n",
    "lag_pago = 0\n",
    "nominal = 100_000_000.0\n",
    "amort_es_flujo = True \n",
    "spread = .01\n",
    "gearing = 1.0\n",
    "interest_rate = qcf.QCInterestRate(0.0, qcf.QCAct360(), qcf.QCLinearWf())\n",
    "dates_for_eq_rate = qcf.DatesForEquivalentRate.ACCRUAL\n",
    "nombre_indice = 'ICPCLP'\n",
    "fx_rate_index_fixing_lag = 2\n",
    "sett_lag_behaviour = qcf.SettLagBehaviour.MOVE_TO_WORKING_DAY\n",
    "fx_fixing_lag_pivot = qcf.FxFixingLagPivot.SETTLEMENT_DATE"
   ],
   "outputs": [],
   "execution_count": null
  },
  {
   "cell_type": "markdown",
   "metadata": {},
   "source": [
    "Finalmente, se da de alta el objeto."
   ]
  },
  {
   "cell_type": "code",
   "metadata": {
    "execution": {
     "iopub.execute_input": "2024-08-18T22:25:26.869903Z",
     "iopub.status.busy": "2024-08-18T22:25:26.869677Z",
     "iopub.status.idle": "2024-08-18T22:25:26.874403Z",
     "shell.execute_reply": "2024-08-18T22:25:26.873596Z",
     "shell.execute_reply.started": "2024-08-18T22:25:26.869882Z"
    }
   },
   "source": [
    "on_index_mccy_leg = qcf.LegFactory.build_bullet_overnight_index_multi_currency_leg(\n",
    "    rec_pay=rp, \n",
    "    start_date=fecha_inicio,\n",
    "    end_date=fecha_final, \n",
    "    bus_adj_rule=bus_adj_rule, \n",
    "    fix_adj_rule=index_adj_rule,\n",
    "    settlement_periodicity=periodicidad_pago,\n",
    "    settlement_stub_period=periodo_irregular_pago, \n",
    "    settlement_calendar=calendario, \n",
    "    fixing_calendar=calendario,\n",
    "    settlement_lag=lag_pago,\n",
    "    initial_notional=nominal, \n",
    "    amort_is_cashflow=amort_es_flujo, \n",
    "    spread=spread, \n",
    "    gearing=gearing,\n",
    "    interest_rate=interest_rate,\n",
    "    index_name=nombre_indice,\n",
    "    eq_rate_decimal_places=num_decimales_tasa_eq,\n",
    "    notional_currency=clp,\n",
    "    dates_for_eq_rate=dates_for_eq_rate,\n",
    "    sett_lag_behaviour=sett_lag_behaviour,\n",
    "    # Parámetros MultiCurrency\n",
    "    settlement_currency=usd,\n",
    "    fx_rate_index=usdclp_obs,\n",
    "    fx_rate_index_fixing_lag=fx_rate_index_fixing_lag,\n",
    "    fx_fixing_lag_pivot=fx_fixing_lag_pivot,\n",
    "    fx_fixing_lag_applies_to=qcf.FxFixingLagAppliesTo.PUBLISHING_DATE,\n",
    ")"
   ],
   "outputs": [],
   "execution_count": null
  },
  {
   "cell_type": "markdown",
   "metadata": {},
   "source": [
    "Se visualiza."
   ]
  },
  {
   "cell_type": "code",
   "metadata": {
    "execution": {
     "iopub.execute_input": "2024-08-18T22:25:26.875200Z",
     "iopub.status.busy": "2024-08-18T22:25:26.875037Z",
     "iopub.status.idle": "2024-08-18T22:25:26.891228Z",
     "shell.execute_reply": "2024-08-18T22:25:26.890475Z",
     "shell.execute_reply.started": "2024-08-18T22:25:26.875183Z"
    }
   },
   "source": [
    "aux.leg_as_dataframe(on_index_mccy_leg).style.format(aux.format_dict)"
   ],
   "outputs": [],
   "execution_count": null
  },
  {
   "cell_type": "markdown",
   "metadata": {},
   "source": [
    "## Construcción Asistida de un `CompoundedOvernightRateLeg`"
   ]
  },
  {
   "cell_type": "markdown",
   "metadata": {},
   "source": [
    "En este ejemplo se construye un `Leg` con `CompoundedOvernightRateCashflow2` y amortización bullet.\n",
    "Se requieren los siguientes parámetros:\n",
    "\n",
    "- `RecPay`: enum que indica si los flujos se reciben o pagan\n",
    "- `QCDate`: fecha de inicio del primer flujo\n",
    "- `QCDate`: fecha final del último flujo sin considerar ajustes de días feriados\n",
    "- `BusyAdRules`: enum que representa el tipo de ajuste en la fecha final para días feriados\n",
    "- `Tenor`: la periodicidad de pago\n",
    "- `QCInterestRateLeg::QCStubPeriod`: enum que representa el tipo de período irregular (si aplica)\n",
    "- `QCBusinessCalendar`: calendario que aplica para las fechas de pago\n",
    "- `unsigned int`: lag de pago expresado en días\n",
    "- `QCBusinessCalendar`: calendario que aplica para las fechas de fijación de la tasa overnight\n",
    "- `QCInterestRateIndex`: índice overnight a utilizar\n",
    "- `float`: nominal\n",
    "- `bool`: si es `True` significa que la amortización final es un flujo de caja efectivo\n",
    "- `QCCurrency`: moneda del nocional\n",
    "- `float`: spread aditivo\n",
    "- `float`: spread multiplicativo o gearing (tasa * gearing + spread)\n",
    "- `QCInterestRate`: representa el tipo de tasa que se usará que se usará para la tasa equivalente\n",
    "- `unsigned int`: número de decimales de la tasa equivalente\n",
    "- `unsigned int`: lookback (no implementado)\n",
    "- `unsigned int`: lockout (no implementado)\n",
    "- `SettLagBehaviour`: este parámetro indica cómo se calcula un `settlement_date` cuando un `end_date` cae en un día festivo.\n",
    "\n",
    "**NOTA:** para construir un `Leg` con `CompoundedOvernightRateCashflow` y amortización customizada, sólo se debe cambiar el parámetro **nominal** por **CustomNotionalAndAmort** e invocar el método `qcf.LegFactory.build_custom_amort_compounded_overnight_rate_leg_2(...)`.\n",
    "\n",
    "Vamos al ejemplo. Primeramente, se da de alta los parámetros requeridos"
   ]
  },
  {
   "cell_type": "code",
   "metadata": {
    "execution": {
     "iopub.execute_input": "2024-08-18T22:25:26.892128Z",
     "iopub.status.busy": "2024-08-18T22:25:26.891955Z",
     "iopub.status.idle": "2024-08-18T22:25:26.899486Z",
     "shell.execute_reply": "2024-08-18T22:25:26.898754Z",
     "shell.execute_reply.started": "2024-08-18T22:25:26.892111Z"
    }
   },
   "source": [
    "rp = qcf.RecPay.RECEIVE\n",
    "fecha_inicio = qcf.QCDate(31, 1, 2024)\n",
    "fecha_final = qcf.QCDate(31, 1, 2028)\n",
    "bus_adj_rule = qcf.BusyAdjRules.MODFOLLOW\n",
    "periodicidad_pago = qcf.Tenor('1Y')\n",
    "periodo_irregular_pago = qcf.StubPeriod.NO\n",
    "calendario = aux.get_business_calendar('US', range(2024, 2035))\n",
    "lag_pago = 2\n",
    "nominal = 10_000_000.0\n",
    "amort_es_flujo = True\n",
    "moneda = usd\n",
    "spread = .01\n",
    "gearing = 1.0\n",
    "eq_rate_decimal_places = 8\n",
    "lookback = 0 \n",
    "lockout = 0\n",
    "sett_lag_behaviour = qcf.SettLagBehaviour.MOVE_TO_WORKING_DAY"
   ],
   "outputs": [],
   "execution_count": null
  },
  {
   "cell_type": "markdown",
   "metadata": {},
   "source": [
    "Se define el índice."
   ]
  },
  {
   "cell_type": "code",
   "metadata": {
    "execution": {
     "iopub.execute_input": "2024-08-18T22:25:26.900739Z",
     "iopub.status.busy": "2024-08-18T22:25:26.900470Z",
     "iopub.status.idle": "2024-08-18T22:25:26.904611Z",
     "shell.execute_reply": "2024-08-18T22:25:26.904035Z",
     "shell.execute_reply.started": "2024-08-18T22:25:26.900718Z"
    }
   },
   "source": [
    "codigo = 'SOFRRATE'\n",
    "lin_act360 = qcf.QCInterestRate(.0, qcf.QCAct360(), qcf.QCLinearWf())\n",
    "fixing_lag = qcf.Tenor('0d')\n",
    "tenor = qcf.Tenor('1d')\n",
    "fixing_calendar = calendario\n",
    "settlement_calendar = calendario\n",
    "usd = qcf.QCUSD()\n",
    "oistest = qcf.InterestRateIndex(\n",
    "    codigo,\n",
    "    lin_act360,\n",
    "    fixing_lag,\n",
    "    tenor,\n",
    "    fixing_calendar,\n",
    "    settlement_calendar,\n",
    "    usd\n",
    ")"
   ],
   "outputs": [],
   "execution_count": null
  },
  {
   "cell_type": "markdown",
   "metadata": {},
   "source": [
    "Finalmente, se da de alta el objeto."
   ]
  },
  {
   "cell_type": "code",
   "metadata": {
    "execution": {
     "iopub.execute_input": "2024-08-18T22:25:26.905613Z",
     "iopub.status.busy": "2024-08-18T22:25:26.905449Z",
     "iopub.status.idle": "2024-08-18T22:25:26.916101Z",
     "shell.execute_reply": "2024-08-18T22:25:26.915462Z",
     "shell.execute_reply.started": "2024-08-18T22:25:26.905596Z"
    }
   },
   "source": [
    "cor_leg = qcf.LegFactory.build_bullet_compounded_overnight_rate_leg_2(\n",
    "    rec_pay=rp,\n",
    "    start_date=fecha_inicio,\n",
    "    end_date=fecha_final,\n",
    "    bus_adj_rule=bus_adj_rule,\n",
    "    settlement_periodicity=periodicidad_pago,\n",
    "    settlement_stub_period=periodo_irregular_pago,\n",
    "    settlement_calendar=calendario,\n",
    "    settlement_lag=lag_pago,\n",
    "    fixing_calendar=calendario,\n",
    "    interest_rate_index=oistest,\n",
    "    initial_notional=nominal,\n",
    "    amort_is_cashflow=amort_es_flujo,\n",
    "    notional_currency=usd,\n",
    "    spread=spread,\n",
    "    gearing=gearing,\n",
    "    interest_rate=lin_act360,\n",
    "    eq_rate_decimal_places=8,\n",
    "    lookback=lookback,\n",
    "    lockout=lockout,\n",
    "    sett_lag_behaviour=sett_lag_behaviour,\n",
    ")"
   ],
   "outputs": [],
   "execution_count": null
  },
  {
   "cell_type": "code",
   "metadata": {
    "execution": {
     "iopub.execute_input": "2024-08-18T22:25:26.917030Z",
     "iopub.status.busy": "2024-08-18T22:25:26.916860Z",
     "iopub.status.idle": "2024-08-18T22:25:26.925521Z",
     "shell.execute_reply": "2024-08-18T22:25:26.924997Z",
     "shell.execute_reply.started": "2024-08-18T22:25:26.917013Z"
    }
   },
   "source": [
    "aux.leg_as_dataframe(cor_leg).style.format(aux.format_dict)"
   ],
   "outputs": [],
   "execution_count": null
  },
  {
   "cell_type": "markdown",
   "metadata": {},
   "source": [
    "## Construcción Asistida de un `CompoundedOvernightRateMultiCurrencyLeg`"
   ]
  },
  {
   "cell_type": "markdown",
   "metadata": {},
   "source": [
    "En este ejemplo se construye un `Leg` con `CompoundedOvernightRateMultiCurrencyCashflow2` y amortización bullet.\n",
    "Se requieren los siguientes parámetros:\n",
    "\n",
    "- `RecPay`: enum que indica si los flujos se reciben o pagan\n",
    "- `QCDate`: fecha de inicio del primer flujo\n",
    "- `QCDate`: fecha final del último flujo sin considerar ajustes de días feriados\n",
    "- `BusyAdRules`: enum que representa el tipo de ajuste en la fecha final para días feriados\n",
    "- `Tenor`: la periodicidad de pago\n",
    "- `QCInterestRateLeg::QCStubPeriod`: enum que representa el tipo de período irregular (si aplica)\n",
    "- `QCBusinessCalendar`: calendario que aplica para las fechas de pago\n",
    "- `unsigned int`: lag de pago expresado en días\n",
    "- `QCBusinessCalendar`: calendario que aplica para las fechas de fijación de la tasa overnight\n",
    "- `QCInterestRateIndex`: índice overnight a utilizar\n",
    "- `float`: nominal\n",
    "- `bool`: si es `True` significa que la amortización final es un flujo de caja efectivo\n",
    "- `QCCurrency`: moneda del nocional\n",
    "- `float`: spread aditivo\n",
    "- `float`: spread multiplicativo\n",
    "- `QCInterestRate`: representa el tipo de tasa que se usará que se usará para la tasa equivalente\n",
    "- `unsigned int`: número de decimales de la tasa equivalente\n",
    "- `unsigned int`: lookback (no implementado)\n",
    "- `unsigned int`: lockout (no implementado)\n",
    "- `SettLagBehaviour`: este parámetro indica cómo se calcula un `settlement_date` cuando un `end_date` cae en un día festivo.\n",
    "---\n",
    "**MultiCurrency**\n",
    "- `QCCurrency`: moneda de pago los flujos\n",
    "- `FXRateIndex`: índice con el cual se transforma cada flujo a la moneda de pago\n",
    "- `int`: lag de fijación del FXRateIndex (respecto a settlement date)\n",
    "- `FxFixingLagPivot`: este parámetro indica si el lag de fijación del índice FX se aplica sobre `end_date` o sobre `settlement_date`.\n",
    "- `FxFixingLagAppliesTo`: indica si el lag se refiere a `FIXING_DATE` o `PUBISHING_DATE` del índice."
   ]
  },
  {
   "cell_type": "markdown",
   "metadata": {},
   "source": [
    "**NOTA:** para construir un `Leg` con `CompoundedOvernightRateMultiCurrencyCashflow` y amortización customizada, sólo se debe cambiar el parámetro **nominal** por **CustomNotionalAndAmort** e invocar el método `qcf.LegFactory.build_custom_amort_compounded_overnight_rate_multi_currency_leg_2(...)`.\n",
    "\n",
    "Vamos al ejemplo. Primeramente, se da de alta los parámetros requeridos"
   ]
  },
  {
   "cell_type": "code",
   "metadata": {
    "execution": {
     "iopub.execute_input": "2024-08-18T22:25:26.926587Z",
     "iopub.status.busy": "2024-08-18T22:25:26.926409Z",
     "iopub.status.idle": "2024-08-18T22:25:26.931754Z",
     "shell.execute_reply": "2024-08-18T22:25:26.930882Z",
     "shell.execute_reply.started": "2024-08-18T22:25:26.926569Z"
    }
   },
   "source": [
    "rp = qcf.RecPay.RECEIVE\n",
    "fecha_inicio = qcf.QCDate(31, 1, 2024)\n",
    "fecha_final = qcf.QCDate(31, 1, 2028)\n",
    "bus_adj_rule = qcf.BusyAdjRules.NO\n",
    "periodicidad_pago = qcf.Tenor('6M')\n",
    "periodo_irregular_pago = qcf.StubPeriod.NO\n",
    "calendario = qcf.BusinessCalendar(fecha_inicio, 20)\n",
    "lag_pago = 2\n",
    "nominal = 1000000.0\n",
    "amort_es_flujo = True\n",
    "moneda = usd\n",
    "spread = .01\n",
    "gearing = 1.0\n",
    "eq_rate_decimal_places = 8\n",
    "lookback = 0\n",
    "lockout = 0\n",
    "fx_rate_index_fixing_lag = 1\n",
    "sett_lag_behaviour = qcf.SettLagBehaviour.MOVE_TO_WORKING_DAY\n",
    "fx_fixing_lag_pivot = qcf.FxFixingLagPivot.SETTLEMENT_DATE"
   ],
   "outputs": [],
   "execution_count": null
  },
  {
   "cell_type": "markdown",
   "metadata": {},
   "source": [
    "Se define el índice."
   ]
  },
  {
   "cell_type": "code",
   "metadata": {
    "execution": {
     "iopub.execute_input": "2024-08-18T22:25:26.933178Z",
     "iopub.status.busy": "2024-08-18T22:25:26.932842Z",
     "iopub.status.idle": "2024-08-18T22:25:26.936891Z",
     "shell.execute_reply": "2024-08-18T22:25:26.936234Z",
     "shell.execute_reply.started": "2024-08-18T22:25:26.933157Z"
    }
   },
   "source": [
    "codigo = 'OISTEST'\n",
    "lin_act360 = qcf.QCInterestRate(.0, qcf.QCAct360(), qcf.QCLinearWf())\n",
    "fixing_lag = qcf.Tenor('0d')\n",
    "tenor = qcf.Tenor('1d')\n",
    "fixing_calendar = calendario\n",
    "settlement_calendar = calendario\n",
    "usd = qcf.QCUSD()\n",
    "oistest = qcf.InterestRateIndex(\n",
    "    codigo,\n",
    "    lin_act360,\n",
    "    fixing_lag,\n",
    "    tenor,\n",
    "    fixing_calendar,\n",
    "    settlement_calendar,\n",
    "    usd\n",
    ")"
   ],
   "outputs": [],
   "execution_count": null
  },
  {
   "cell_type": "markdown",
   "metadata": {},
   "source": [
    "Finalmente, se da de alta el objeto."
   ]
  },
  {
   "cell_type": "code",
   "metadata": {
    "execution": {
     "iopub.execute_input": "2024-08-18T22:25:26.937802Z",
     "iopub.status.busy": "2024-08-18T22:25:26.937639Z",
     "iopub.status.idle": "2024-08-18T22:25:26.942764Z",
     "shell.execute_reply": "2024-08-18T22:25:26.942205Z",
     "shell.execute_reply.started": "2024-08-18T22:25:26.937785Z"
    }
   },
   "source": [
    "cor_mccy_leg = qcf.LegFactory.build_bullet_compounded_overnight_rate_mccy_leg_2(\n",
    "    rec_pay=rp,\n",
    "    start_date=fecha_inicio,\n",
    "    end_date=fecha_final,\n",
    "    bus_adj_rule=bus_adj_rule,\n",
    "    settlement_periodicity=periodicidad_pago,\n",
    "    settlement_stub_period=periodo_irregular_pago,\n",
    "    settlement_calendar=calendario,\n",
    "    settlement_lag=lag_pago,\n",
    "    fixing_calendar=calendario,\n",
    "    interest_rate_index=oistest,\n",
    "    initial_notional=nominal,\n",
    "    amort_is_cashflow=amort_es_flujo,\n",
    "    notional_currency=usd,\n",
    "    spread=spread,\n",
    "    gearing=gearing,\n",
    "    interest_rate=lin_act360,\n",
    "    eq_rate_decimal_places=8,\n",
    "    lookback=lookback,\n",
    "    lockout=lockout,\n",
    "    sett_lag_behaviour=sett_lag_behaviour,\n",
    "    # Parámetros MultiCurrency\n",
    "    fx_rate_index_fixing_lag=fx_rate_index_fixing_lag,\n",
    "    settlement_currency=usd,\n",
    "    fx_rate_index=usdclp_obs,\n",
    "    fx_fixing_lag_pivot=fx_fixing_lag_pivot,\n",
    "    fx_fixing_lag_applies_to=qcf.FxFixingLagAppliesTo.FIXING_DATE,\n",
    ")"
   ],
   "outputs": [],
   "execution_count": null
  },
  {
   "cell_type": "code",
   "metadata": {
    "execution": {
     "iopub.execute_input": "2024-08-18T22:25:26.943831Z",
     "iopub.status.busy": "2024-08-18T22:25:26.943611Z",
     "iopub.status.idle": "2024-08-18T22:25:26.956410Z",
     "shell.execute_reply": "2024-08-18T22:25:26.955871Z",
     "shell.execute_reply.started": "2024-08-18T22:25:26.943811Z"
    }
   },
   "source": [
    "aux.leg_as_dataframe(cor_mccy_leg).style.format(aux.format_dict)"
   ],
   "outputs": [],
   "execution_count": null
  },
  {
   "cell_type": "markdown",
   "metadata": {},
   "source": [
    "## Construcción Asistida de un `IcpClfLeg`\n",
    "En este ejemplo se construye un `Leg` con `IcpClfCashflow` y amortización bullet.\n",
    "Se requieren los siguientes parámetros:\n",
    "\n",
    "- `RecPay`: enum que indica si los flujos se reciben o pagan\n",
    "- `QCDate`: fecha de inicio del primer flujo\n",
    "- `QCDate`: fecha final del último flujo sin considerar ajustes de días feriados\n",
    "- `BusyAdRules`: enum que representa el tipo de ajuste en la fecha final para días feriados\n",
    "- `Tenor`: la periodicidad de pago\n",
    "- `QCInterestRateLeg::QCStubPeriod`: enum que representa el tipo de período irregular (si aplica)\n",
    "- `QCBusinessCalendar`: calendario que aplica para las fechas de pago\n",
    "- `unsigned int`: lag de pago expresado en días\n",
    "- `float`: nominal\n",
    "- `bool`: si es `True` significa que la amortización final es un flujo de caja efectivo\n",
    "- `float`: spread aditivo\n",
    "- `gearing`: spread multiplicativo o gearing (tasa * geraing + spread)\n",
    "\n",
    "**NOTA:** para construir un `Leg` con `IcpClfCashflow` y amortización customizada, sólo se debe cambiar el parámetro **nominal** por **CustomNotionalAndAmort** e invocar el método `qcf.LegFactory.build_custom_amort_icp_clf_leg(...)`.\n",
    "\n",
    "Vamos al ejemplo."
   ]
  },
  {
   "cell_type": "markdown",
   "metadata": {},
   "source": [
    "Se da de alta los parámetros requeridos"
   ]
  },
  {
   "cell_type": "code",
   "metadata": {
    "execution": {
     "iopub.execute_input": "2024-08-18T22:25:26.957279Z",
     "iopub.status.busy": "2024-08-18T22:25:26.957108Z",
     "iopub.status.idle": "2024-08-18T22:25:26.961543Z",
     "shell.execute_reply": "2024-08-18T22:25:26.960744Z",
     "shell.execute_reply.started": "2024-08-18T22:25:26.957261Z"
    }
   },
   "source": [
    "rp = qcf.RecPay.RECEIVE\n",
    "fecha_inicio = qcf.QCDate(31, 1, 2024)\n",
    "fecha_final = qcf.QCDate(31, 1, 2028)\n",
    "bus_adj_rule = qcf.BusyAdjRules.MODFOLLOW\n",
    "periodicidad_pago = qcf.Tenor('6M')\n",
    "periodo_irregular_pago = qcf.StubPeriod.NO\n",
    "calendario = qcf.BusinessCalendar(fecha_inicio, 20)\n",
    "lag_pago = 2\n",
    "nominal = 300_000.0\n",
    "amort_es_flujo = True\n",
    "spread = .01\n",
    "gearing = 1.0"
   ],
   "outputs": [],
   "execution_count": null
  },
  {
   "cell_type": "markdown",
   "metadata": {},
   "source": [
    "Se da de alta el objeto."
   ]
  },
  {
   "cell_type": "code",
   "metadata": {
    "execution": {
     "iopub.execute_input": "2024-08-18T22:25:26.975158Z",
     "iopub.status.busy": "2024-08-18T22:25:26.974919Z",
     "iopub.status.idle": "2024-08-18T22:25:26.978677Z",
     "shell.execute_reply": "2024-08-18T22:25:26.978028Z",
     "shell.execute_reply.started": "2024-08-18T22:25:26.975139Z"
    }
   },
   "source": [
    "icp_clf_leg = qcf.LegFactory.build_bullet_icp_clf_leg(\n",
    "    rec_pay=rp,\n",
    "    start_date=fecha_inicio,\n",
    "    end_date=fecha_final,\n",
    "    bus_adj_rule=bus_adj_rule,\n",
    "    settlement_periodicity=periodicidad_pago,\n",
    "    settlement_stub_period=periodo_irregular_pago,\n",
    "    settlement_calendar=calendario,\n",
    "    settlement_lag=lag_pago,\n",
    "    initial_notional=nominal,\n",
    "    amort_is_cashflow=amort_es_flujo,\n",
    "    spread=spread,\n",
    "    gearing=gearing\n",
    ")"
   ],
   "outputs": [],
   "execution_count": null
  },
  {
   "cell_type": "code",
   "metadata": {
    "execution": {
     "iopub.execute_input": "2024-08-18T22:25:26.979996Z",
     "iopub.status.busy": "2024-08-18T22:25:26.979641Z",
     "iopub.status.idle": "2024-08-18T22:25:26.991132Z",
     "shell.execute_reply": "2024-08-18T22:25:26.990548Z",
     "shell.execute_reply.started": "2024-08-18T22:25:26.979976Z"
    }
   },
   "source": [
    "aux.leg_as_dataframe(icp_clf_leg).style.format(aux.format_dict)"
   ],
   "outputs": [],
   "execution_count": null
  }
 ],
 "metadata": {
  "hide_input": false,
  "kernelspec": {
   "display_name": "Python 3 (ipykernel)",
   "language": "python",
   "name": "python3"
  },
  "language_info": {
   "codemirror_mode": {
    "name": "ipython",
    "version": 3
   },
   "file_extension": ".py",
   "mimetype": "text/x-python",
   "name": "python",
   "nbconvert_exporter": "python",
   "pygments_lexer": "ipython3",
   "version": "3.11.5"
  },
  "toc": {
   "base_numbering": 1,
   "nav_menu": {},
   "number_sections": true,
   "sideBar": true,
   "skip_h1_title": true,
   "title_cell": "Table of Contents",
   "title_sidebar": "Contents",
   "toc_cell": false,
   "toc_position": {},
   "toc_section_display": true,
   "toc_window_display": true
  },
  "varInspector": {
   "cols": {
    "lenName": 16,
    "lenType": 16,
    "lenVar": 40
   },
   "kernels_config": {
    "python": {
     "delete_cmd_postfix": "",
     "delete_cmd_prefix": "del ",
     "library": "var_list.py",
     "varRefreshCmd": "print(var_dic_list())"
    },
    "r": {
     "delete_cmd_postfix": ") ",
     "delete_cmd_prefix": "rm(",
     "library": "var_list.r",
     "varRefreshCmd": "cat(var_dic_list()) "
    }
   },
   "types_to_exclude": [
    "module",
    "function",
    "builtin_function_or_method",
    "instance",
    "_Feature"
   ],
   "window_display": false
  }
 },
 "nbformat": 4,
 "nbformat_minor": 4
}
