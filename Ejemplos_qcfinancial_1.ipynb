{
 "cells": [
  {
   "cell_type": "markdown",
   "metadata": {
    "editable": true,
    "slideshow": {
     "slide_type": "slide"
    },
    "tags": []
   },
   "source": [
    "# Objetos Fundamentales"
   ]
  },
  {
   "cell_type": "markdown",
   "metadata": {
    "editable": true,
    "slideshow": {
     "slide_type": "subslide"
    },
    "tags": []
   },
   "source": [
    "Para ejecutar todos los ejemplos se debe importar la librería. Se sugiere utilizar siempre el alias `qcf`. "
   ]
  },
  {
   "cell_type": "code",
   "execution_count": 1,
   "metadata": {
    "ExecuteTime": {
     "end_time": "2022-01-21T13:43:01.933321Z",
     "start_time": "2022-01-21T13:43:01.913344Z"
    },
    "editable": true,
    "execution": {
     "iopub.execute_input": "2024-05-26T12:29:33.262284Z",
     "iopub.status.busy": "2024-05-26T12:29:33.262114Z",
     "iopub.status.idle": "2024-05-26T12:29:33.745366Z",
     "shell.execute_reply": "2024-05-26T12:29:33.744794Z",
     "shell.execute_reply.started": "2024-05-26T12:29:33.262265Z"
    },
    "slideshow": {
     "slide_type": "fragment"
    },
    "tags": []
   },
   "outputs": [],
   "source": [
    "import qcfinancial as qcf\n",
    "import pandas as pd"
   ]
  },
  {
   "cell_type": "markdown",
   "metadata": {
    "editable": true,
    "slideshow": {
     "slide_type": "slide"
    },
    "tags": []
   },
   "source": [
    "## Monedas"
   ]
  },
  {
   "cell_type": "markdown",
   "metadata": {
    "editable": true,
    "slideshow": {
     "slide_type": "fragment"
    },
    "tags": []
   },
   "source": [
    "Las divisas se representan con objetos de tipo `QCCurrency` y sus subclases. En estos momentos, de forma explícita, están implementadas las siguientes divisas:\n",
    "\n",
    "\n",
    "|  Lista | de  | Divisas  |\n",
    "|---|---|---|\n",
    "| AUD  | CNY  | JPY   |\n",
    "| BRL  | COP  | MXN  |\n",
    "| CAD   | DKK   | NOK   |\n",
    "| CHF  | EUR   | PEN  |\n",
    "| CLF  | GBP   | SEK  |\n",
    "| CLP  | HKD   | USD  |\n",
    "\n",
    "Si se requiere otra, solicitarlo ingresando un *issue* en el [git repo](https://github.com/qcfinancial/qcfinancial.git) del proyecto."
   ]
  },
  {
   "cell_type": "markdown",
   "metadata": {
    "editable": true,
    "slideshow": {
     "slide_type": "slide"
    },
    "tags": []
   },
   "source": [
    "El constructor por default retorna USD."
   ]
  },
  {
   "cell_type": "code",
   "execution_count": 2,
   "metadata": {
    "ExecuteTime": {
     "end_time": "2022-01-21T13:43:01.949248Z",
     "start_time": "2022-01-21T13:43:01.935286Z"
    },
    "editable": true,
    "execution": {
     "iopub.execute_input": "2024-05-26T12:29:33.747770Z",
     "iopub.status.busy": "2024-05-26T12:29:33.747426Z",
     "iopub.status.idle": "2024-05-26T12:29:33.753754Z",
     "shell.execute_reply": "2024-05-26T12:29:33.753220Z",
     "shell.execute_reply.started": "2024-05-26T12:29:33.747748Z"
    },
    "slideshow": {
     "slide_type": "fragment"
    },
    "tags": []
   },
   "outputs": [
    {
     "data": {
      "text/plain": [
       "'USD'"
      ]
     },
     "execution_count": 2,
     "metadata": {},
     "output_type": "execute_result"
    }
   ],
   "source": [
    "x = qcf.QCCurrency()\n",
    "x.get_iso_code()"
   ]
  },
  {
   "cell_type": "markdown",
   "metadata": {
    "editable": true,
    "slideshow": {
     "slide_type": "slide"
    },
    "tags": []
   },
   "source": [
    "Alta de divisas CLP, USD y JPY (USD se puede instanciar también de forma explícita)."
   ]
  },
  {
   "cell_type": "code",
   "execution_count": 3,
   "metadata": {
    "ExecuteTime": {
     "end_time": "2022-01-21T13:43:01.965206Z",
     "start_time": "2022-01-21T13:43:01.950246Z"
    },
    "editable": true,
    "execution": {
     "iopub.execute_input": "2024-05-26T12:29:33.754890Z",
     "iopub.status.busy": "2024-05-26T12:29:33.754724Z",
     "iopub.status.idle": "2024-05-26T12:29:33.758153Z",
     "shell.execute_reply": "2024-05-26T12:29:33.757526Z",
     "shell.execute_reply.started": "2024-05-26T12:29:33.754872Z"
    },
    "slideshow": {
     "slide_type": "fragment"
    },
    "tags": []
   },
   "outputs": [],
   "source": [
    "monedas = [\n",
    "    clp:=qcf.QCCLP(),\n",
    "    usd:=qcf.QCUSD(),\n",
    "    jpy:=qcf.QCJPY(),\n",
    "]"
   ]
  },
  {
   "cell_type": "markdown",
   "metadata": {
    "editable": true,
    "slideshow": {
     "slide_type": "slide"
    },
    "tags": []
   },
   "source": [
    "Sin usar las subclases se puede instanciar una divisa que no esté implementada, por ejemplo para el peso argentino ARS:"
   ]
  },
  {
   "cell_type": "code",
   "execution_count": 4,
   "metadata": {
    "editable": true,
    "execution": {
     "iopub.execute_input": "2024-05-26T12:29:33.759040Z",
     "iopub.status.busy": "2024-05-26T12:29:33.758881Z",
     "iopub.status.idle": "2024-05-26T12:29:33.761853Z",
     "shell.execute_reply": "2024-05-26T12:29:33.761181Z",
     "shell.execute_reply.started": "2024-05-26T12:29:33.759023Z"
    },
    "slideshow": {
     "slide_type": "fragment"
    },
    "tags": []
   },
   "outputs": [],
   "source": [
    "ars = qcf.QCCurrency('Peso argentino', 'ARS', 32, 0)\n",
    "monedas.append(ars)"
   ]
  },
  {
   "cell_type": "markdown",
   "metadata": {
    "editable": true,
    "slideshow": {
     "slide_type": "slide"
    },
    "tags": []
   },
   "source": [
    "### Métodos: `get_name`, `get_iso_code`, `get_iso_number`, `get_decimal_places` y `amount`."
   ]
  },
  {
   "cell_type": "markdown",
   "metadata": {
    "editable": true,
    "slideshow": {
     "slide_type": "slide"
    },
    "tags": []
   },
   "source": [
    "El método `amount`debe utilizarse cuando se debe pagar o recibir un monto resultado de un cálculo. De esta forma, el monto se redondea al número correcto de decimales en la divisa (que se obtiene con `get_decimal_places`). Por ejemplo, en CLP, se redondea a 0 decimales ya que en esta divisa no se utilizan los centavos."
   ]
  },
  {
   "cell_type": "code",
   "execution_count": 5,
   "metadata": {
    "ExecuteTime": {
     "end_time": "2022-01-21T13:43:01.980166Z",
     "start_time": "2022-01-21T13:43:01.967201Z"
    },
    "editable": true,
    "execution": {
     "iopub.execute_input": "2024-05-26T12:29:33.763014Z",
     "iopub.status.busy": "2024-05-26T12:29:33.762780Z",
     "iopub.status.idle": "2024-05-26T12:29:33.766562Z",
     "shell.execute_reply": "2024-05-26T12:29:33.766055Z",
     "shell.execute_reply.started": "2024-05-26T12:29:33.762996Z"
    },
    "slideshow": {
     "slide_type": "subslide"
    },
    "tags": []
   },
   "outputs": [
    {
     "name": "stdout",
     "output_type": "stream",
     "text": [
      "Nombre: Chilean Peso\n",
      "Código ISO: CLP\n",
      "Número ISO: 152\n",
      "Número de decimales: 0\n",
      "Cantidad 100.123456 con el número correcto de decimales: 100.0000\n",
      "\n",
      "Nombre: U. S. Dollar\n",
      "Código ISO: USD\n",
      "Número ISO: 840\n",
      "Número de decimales: 2\n",
      "Cantidad 100.123456 con el número correcto de decimales: 100.1200\n",
      "\n",
      "Nombre: Japanese Yen\n",
      "Código ISO: JPY\n",
      "Número ISO: 392\n",
      "Número de decimales: 2\n",
      "Cantidad 100.123456 con el número correcto de decimales: 100.1200\n",
      "\n",
      "Nombre: Peso argentino\n",
      "Código ISO: ARS\n",
      "Número ISO: 32\n",
      "Número de decimales: 0\n",
      "Cantidad 100.123456 con el número correcto de decimales: 100.0000\n",
      "\n"
     ]
    }
   ],
   "source": [
    "cantidad = 100.123456\n",
    "for moneda in monedas:\n",
    "    print(f\"Nombre: {format(moneda.get_name())}\")\n",
    "    print(f\"Código ISO: {moneda.get_iso_code()}\")\n",
    "    print(f\"Número ISO: {moneda.get_iso_number()}\")\n",
    "    print(f\"Número de decimales: {moneda.get_decimal_places()}\")\n",
    "    print(f\"Cantidad {cantidad} con el número correcto de decimales: {moneda.amount(cantidad):.4f}\")\n",
    "    print()"
   ]
  },
  {
   "cell_type": "markdown",
   "metadata": {
    "editable": true,
    "slideshow": {
     "slide_type": "fragment"
    },
    "tags": []
   },
   "source": [
    "Más adelante, cuando veamos el concepto de índice, veremos como disponer de un objeto moneda simplifica la conversión de montos de una moneda a otra."
   ]
  },
  {
   "cell_type": "markdown",
   "metadata": {
    "editable": true,
    "slideshow": {
     "slide_type": "slide"
    },
    "tags": []
   },
   "source": [
    "## Fechas"
   ]
  },
  {
   "cell_type": "markdown",
   "metadata": {
    "editable": true,
    "slideshow": {
     "slide_type": "fragment"
    },
    "tags": []
   },
   "source": [
    "Las fechas se representan con objetos de tipo `QCDate`. Para inicializar un `QCDate` se requiere el día, el mes y el año de la fecha. También se puede inicializar sin valor (default constructor) en cuyo caso se obtendrá el 12-01-1969."
   ]
  },
  {
   "cell_type": "markdown",
   "metadata": {
    "editable": true,
    "slideshow": {
     "slide_type": "slide"
    },
    "tags": []
   },
   "source": [
    "### Constructores"
   ]
  },
  {
   "cell_type": "markdown",
   "metadata": {
    "editable": true,
    "slideshow": {
     "slide_type": "slide"
    },
    "tags": []
   },
   "source": [
    "Inicializar sin valor. Se muestra además los métodos `description()` y `__str__()`."
   ]
  },
  {
   "cell_type": "code",
   "execution_count": 6,
   "metadata": {
    "ExecuteTime": {
     "end_time": "2022-01-21T13:43:01.996123Z",
     "start_time": "2022-01-21T13:43:01.981164Z"
    },
    "editable": true,
    "execution": {
     "iopub.execute_input": "2024-05-26T12:29:33.767573Z",
     "iopub.status.busy": "2024-05-26T12:29:33.767433Z",
     "iopub.status.idle": "2024-05-26T12:29:33.770686Z",
     "shell.execute_reply": "2024-05-26T12:29:33.770243Z",
     "shell.execute_reply.started": "2024-05-26T12:29:33.767558Z"
    },
    "slideshow": {
     "slide_type": "fragment"
    },
    "tags": []
   },
   "outputs": [
    {
     "name": "stdout",
     "output_type": "stream",
     "text": [
      "description(True): 12-01-1969\n",
      "description(False): 1969-01-12\n",
      "iso_code(): 1969-01-12\n",
      "__str__: 1969-01-12\n"
     ]
    }
   ],
   "source": [
    "fecha = qcf.QCDate()\n",
    "print(f\"description(True): {fecha.description(True)}\")\n",
    "print(f\"description(False): {fecha.description(False)}\")\n",
    "print(f\"iso_code(): {fecha.iso_code()}\")\n",
    "print(f\"__str__: {fecha}\")"
   ]
  },
  {
   "cell_type": "markdown",
   "metadata": {
    "editable": true,
    "slideshow": {
     "slide_type": "slide"
    },
    "tags": []
   },
   "source": [
    "Inicializar con una fecha específica. En este caso, el contructor realiza una validación de los parámetros iniciales."
   ]
  },
  {
   "cell_type": "code",
   "execution_count": 7,
   "metadata": {
    "ExecuteTime": {
     "end_time": "2022-01-21T13:43:02.011084Z",
     "start_time": "2022-01-21T13:43:01.997121Z"
    },
    "editable": true,
    "execution": {
     "iopub.execute_input": "2024-05-26T12:29:33.773417Z",
     "iopub.status.busy": "2024-05-26T12:29:33.773255Z",
     "iopub.status.idle": "2024-05-26T12:29:33.776989Z",
     "shell.execute_reply": "2024-05-26T12:29:33.776254Z",
     "shell.execute_reply.started": "2024-05-26T12:29:33.773402Z"
    },
    "slideshow": {
     "slide_type": "fragment"
    },
    "tags": []
   },
   "outputs": [
    {
     "name": "stdout",
     "output_type": "stream",
     "text": [
      "Fecha: 2024-09-14\n"
     ]
    }
   ],
   "source": [
    "fecha1 = qcf.QCDate(14, 9, 2024)  # día, mes, año\n",
    "print(f\"Fecha: {fecha1}\")"
   ]
  },
  {
   "cell_type": "markdown",
   "metadata": {
    "editable": true,
    "slideshow": {
     "slide_type": "slide"
    },
    "tags": []
   },
   "source": [
    "Error al tratar de construir una fecha inválida."
   ]
  },
  {
   "cell_type": "code",
   "execution_count": 8,
   "metadata": {
    "ExecuteTime": {
     "end_time": "2022-01-21T13:43:02.027041Z",
     "start_time": "2022-01-21T13:43:02.012081Z"
    },
    "editable": true,
    "execution": {
     "iopub.execute_input": "2024-05-26T12:29:33.777776Z",
     "iopub.status.busy": "2024-05-26T12:29:33.777633Z",
     "iopub.status.idle": "2024-05-26T12:29:33.781570Z",
     "shell.execute_reply": "2024-05-26T12:29:33.780960Z",
     "shell.execute_reply.started": "2024-05-26T12:29:33.777761Z"
    },
    "slideshow": {
     "slide_type": "fragment"
    },
    "tags": []
   },
   "outputs": [
    {
     "name": "stdout",
     "output_type": "stream",
     "text": [
      "Invalid day for month = 2\n"
     ]
    }
   ],
   "source": [
    "try:\n",
    "    fecha0 = qcf.QCDate(31, 2, 2024)  # ¡¡¡ 31 de febrero !!!\n",
    "except ValueError as e:\n",
    "    print(e)"
   ]
  },
  {
   "cell_type": "markdown",
   "metadata": {
    "editable": true,
    "slideshow": {
     "slide_type": "slide"
    },
    "tags": []
   },
   "source": [
    "### Getters y Setters"
   ]
  },
  {
   "cell_type": "markdown",
   "metadata": {
    "editable": true,
    "slideshow": {
     "slide_type": "slide"
    },
    "tags": []
   },
   "source": [
    "Métodos: `set_day`, `set_month` y `set_year`."
   ]
  },
  {
   "cell_type": "code",
   "execution_count": 9,
   "metadata": {
    "ExecuteTime": {
     "end_time": "2022-01-21T13:43:02.042999Z",
     "start_time": "2022-01-21T13:43:02.028038Z"
    },
    "editable": true,
    "execution": {
     "iopub.execute_input": "2024-05-26T12:29:33.782676Z",
     "iopub.status.busy": "2024-05-26T12:29:33.782484Z",
     "iopub.status.idle": "2024-05-26T12:29:33.785729Z",
     "shell.execute_reply": "2024-05-26T12:29:33.785258Z",
     "shell.execute_reply.started": "2024-05-26T12:29:33.782661Z"
    },
    "slideshow": {
     "slide_type": "fragment"
    },
    "tags": []
   },
   "outputs": [
    {
     "name": "stdout",
     "output_type": "stream",
     "text": [
      "Fecha: 2024-10-17\n"
     ]
    }
   ],
   "source": [
    "fecha1.set_day(17)\n",
    "fecha1.set_month(10)\n",
    "fecha1.set_year(2024)\n",
    "print(f\"Fecha: {fecha1}\")"
   ]
  },
  {
   "cell_type": "markdown",
   "metadata": {
    "editable": true,
    "slideshow": {
     "slide_type": "slide"
    },
    "tags": []
   },
   "source": [
    "Métodos `day`, `month` y `year`."
   ]
  },
  {
   "cell_type": "code",
   "execution_count": 10,
   "metadata": {
    "ExecuteTime": {
     "end_time": "2022-01-21T13:43:02.058956Z",
     "start_time": "2022-01-21T13:43:02.043995Z"
    },
    "editable": true,
    "execution": {
     "iopub.execute_input": "2024-05-26T12:29:33.786799Z",
     "iopub.status.busy": "2024-05-26T12:29:33.786630Z",
     "iopub.status.idle": "2024-05-26T12:29:33.789750Z",
     "shell.execute_reply": "2024-05-26T12:29:33.789157Z",
     "shell.execute_reply.started": "2024-05-26T12:29:33.786784Z"
    },
    "slideshow": {
     "slide_type": "fragment"
    },
    "tags": []
   },
   "outputs": [
    {
     "name": "stdout",
     "output_type": "stream",
     "text": [
      "Día: 17\n",
      "Mes: 10\n",
      "Año: 2024\n"
     ]
    }
   ],
   "source": [
    "print(f\"Día: {fecha1.day()}\")\n",
    "print(f\"Mes: {fecha1.month()}\")\n",
    "print(f\"Año: {fecha1.year()}\")"
   ]
  },
  {
   "cell_type": "markdown",
   "metadata": {
    "editable": true,
    "slideshow": {
     "slide_type": ""
    },
    "tags": []
   },
   "source": [
    "### Método `week_day`"
   ]
  },
  {
   "cell_type": "markdown",
   "metadata": {
    "editable": true,
    "slideshow": {
     "slide_type": "fragment"
    },
    "tags": []
   },
   "source": [
    "Retorna una variable de tipo `enum QC_Financial.WeekDay` que representa el día de la semana al que corresponde a la fecha."
   ]
  },
  {
   "cell_type": "code",
   "execution_count": 11,
   "metadata": {
    "ExecuteTime": {
     "end_time": "2022-01-21T13:43:02.073916Z",
     "start_time": "2022-01-21T13:43:02.060950Z"
    },
    "editable": true,
    "execution": {
     "iopub.execute_input": "2024-05-26T12:29:33.790839Z",
     "iopub.status.busy": "2024-05-26T12:29:33.790642Z",
     "iopub.status.idle": "2024-05-26T12:29:33.793711Z",
     "shell.execute_reply": "2024-05-26T12:29:33.793186Z",
     "shell.execute_reply.started": "2024-05-26T12:29:33.790822Z"
    },
    "slideshow": {
     "slide_type": "fragment"
    },
    "tags": []
   },
   "outputs": [
    {
     "name": "stdout",
     "output_type": "stream",
     "text": [
      "Tipo del retorno: <class 'qcfinancial.WeekDay'>\n",
      "Día de la semana: WeekDay.THU\n"
     ]
    }
   ],
   "source": [
    "dia_semana = fecha1.week_day()\n",
    "print(f\"Tipo del retorno: {type(dia_semana)}\")\n",
    "print(f\"Día de la semana: {dia_semana}\")"
   ]
  },
  {
   "cell_type": "markdown",
   "metadata": {
    "editable": true,
    "slideshow": {
     "slide_type": "slide"
    },
    "tags": []
   },
   "source": [
    "### Método `add_months`"
   ]
  },
  {
   "cell_type": "markdown",
   "metadata": {
    "editable": true,
    "slideshow": {
     "slide_type": "fragment"
    },
    "tags": []
   },
   "source": [
    "Suma **n meses** a `fecha1` y retorna esa nueva fecha sin cambiar el valor de `fecha1`."
   ]
  },
  {
   "cell_type": "code",
   "execution_count": 12,
   "metadata": {
    "ExecuteTime": {
     "end_time": "2022-01-21T13:43:02.088876Z",
     "start_time": "2022-01-21T13:43:02.074913Z"
    },
    "editable": true,
    "execution": {
     "iopub.execute_input": "2024-05-26T12:29:33.794842Z",
     "iopub.status.busy": "2024-05-26T12:29:33.794637Z",
     "iopub.status.idle": "2024-05-26T12:29:33.798463Z",
     "shell.execute_reply": "2024-05-26T12:29:33.797774Z",
     "shell.execute_reply.started": "2024-05-26T12:29:33.794824Z"
    },
    "slideshow": {
     "slide_type": "fragment"
    },
    "tags": []
   },
   "outputs": [
    {
     "name": "stdout",
     "output_type": "stream",
     "text": [
      "fecha1: 2024-10-17\n",
      "fecha2: 2024-11-17\n"
     ]
    }
   ],
   "source": [
    "num_meses = 1\n",
    "fecha2 = fecha1.add_months(num_meses)\n",
    "print(f\"fecha1: {fecha1}\")\n",
    "print(f\"fecha2: {fecha2}\")"
   ]
  },
  {
   "cell_type": "markdown",
   "metadata": {
    "editable": true,
    "slideshow": {
     "slide_type": "slide"
    },
    "tags": []
   },
   "source": [
    "### Método `add_days`"
   ]
  },
  {
   "cell_type": "markdown",
   "metadata": {
    "editable": true,
    "slideshow": {
     "slide_type": "fragment"
    },
    "tags": []
   },
   "source": [
    "Suma **n días** a `fecha1` sin cambiar el valor de `fecha1`."
   ]
  },
  {
   "cell_type": "code",
   "execution_count": 13,
   "metadata": {
    "ExecuteTime": {
     "end_time": "2022-01-21T13:43:02.104833Z",
     "start_time": "2022-01-21T13:43:02.089873Z"
    },
    "editable": true,
    "execution": {
     "iopub.execute_input": "2024-05-26T12:29:33.799920Z",
     "iopub.status.busy": "2024-05-26T12:29:33.799724Z",
     "iopub.status.idle": "2024-05-26T12:29:33.802740Z",
     "shell.execute_reply": "2024-05-26T12:29:33.802280Z",
     "shell.execute_reply.started": "2024-05-26T12:29:33.799904Z"
    },
    "slideshow": {
     "slide_type": "fragment"
    },
    "tags": []
   },
   "outputs": [
    {
     "name": "stdout",
     "output_type": "stream",
     "text": [
      "fecha1: 2024-10-17\n",
      "fecha3: 2024-11-16\n"
     ]
    }
   ],
   "source": [
    "num_dias = 30\n",
    "fecha3 = fecha1.add_days(num_dias)\n",
    "print(f\"fecha1: {fecha1}\")\n",
    "print(f\"fecha3: {fecha3}\")"
   ]
  },
  {
   "cell_type": "markdown",
   "metadata": {
    "editable": true,
    "slideshow": {
     "slide_type": "slide"
    },
    "tags": []
   },
   "source": [
    "### Método `day_diff`"
   ]
  },
  {
   "cell_type": "markdown",
   "metadata": {
    "editable": true,
    "slideshow": {
     "slide_type": "fragment"
    },
    "tags": []
   },
   "source": [
    "Calcula la diferencia en días con otra fecha. Si la otra fecha es mayor el resultado es positivo, si no, es negativo."
   ]
  },
  {
   "cell_type": "code",
   "execution_count": 14,
   "metadata": {
    "ExecuteTime": {
     "end_time": "2022-01-21T13:43:02.120791Z",
     "start_time": "2022-01-21T13:43:02.105831Z"
    },
    "editable": true,
    "execution": {
     "iopub.execute_input": "2024-05-26T12:29:33.804027Z",
     "iopub.status.busy": "2024-05-26T12:29:33.803863Z",
     "iopub.status.idle": "2024-05-26T12:29:33.806799Z",
     "shell.execute_reply": "2024-05-26T12:29:33.806365Z",
     "shell.execute_reply.started": "2024-05-26T12:29:33.804012Z"
    },
    "slideshow": {
     "slide_type": "fragment"
    },
    "tags": []
   },
   "outputs": [
    {
     "name": "stdout",
     "output_type": "stream",
     "text": [
      "fecha1.day_diff(fecha3): 30 (días)\n",
      "fecha3.day_diff(fecha1): -30 (días)\n"
     ]
    }
   ],
   "source": [
    "# Dado que fecha3 > fecha1 entonces el resultado es positivo\n",
    "print(f\"fecha1.day_diff(fecha3): {fecha1.day_diff(fecha3)} (días)\")\n",
    "\n",
    "# Se invierten los roles y el resultado es negativo\n",
    "print(f\"fecha3.day_diff(fecha1): {fecha3.day_diff(fecha1)} (días)\")"
   ]
  },
  {
   "cell_type": "markdown",
   "metadata": {
    "editable": true,
    "slideshow": {
     "slide_type": "slide"
    },
    "tags": []
   },
   "source": [
    "### Orden en `QCDate`"
   ]
  },
  {
   "cell_type": "markdown",
   "metadata": {
    "editable": true,
    "slideshow": {
     "slide_type": "slide"
    },
    "tags": []
   },
   "source": [
    "El orden de `QCDate` permite que las fechas pueden compararse entre si."
   ]
  },
  {
   "cell_type": "code",
   "execution_count": 15,
   "metadata": {
    "ExecuteTime": {
     "end_time": "2022-01-21T13:43:02.136747Z",
     "start_time": "2022-01-21T13:43:02.124780Z"
    },
    "editable": true,
    "execution": {
     "iopub.execute_input": "2024-05-26T12:29:33.807882Z",
     "iopub.status.busy": "2024-05-26T12:29:33.807720Z",
     "iopub.status.idle": "2024-05-26T12:29:33.811214Z",
     "shell.execute_reply": "2024-05-26T12:29:33.810785Z",
     "shell.execute_reply.started": "2024-05-26T12:29:33.807867Z"
    },
    "slideshow": {
     "slide_type": ""
    },
    "tags": []
   },
   "outputs": [
    {
     "name": "stdout",
     "output_type": "stream",
     "text": [
      "fecha1: 2024-10-17\n",
      "fecha2: 2024-11-17\n",
      "fecha1 == fecha2: False\n",
      "fecha1 != fecha2: True\n",
      "fecha1 < fecha2: True\n",
      "fecha1 <= fecha2: True\n",
      "fecha1 > fecha2: False\n",
      "fecha1 >= fecha2: False\n"
     ]
    }
   ],
   "source": [
    "print(f\"fecha1: {fecha1}\")\n",
    "print(f\"fecha2: {fecha2}\")\n",
    "print(f\"fecha1 == fecha2: {fecha1 == fecha2}\")\n",
    "print(f\"fecha1 != fecha2: {fecha1 != fecha2}\")\n",
    "print(f\"fecha1 < fecha2: {fecha1 < fecha2}\")\n",
    "print(f\"fecha1 <= fecha2: {fecha1 <= fecha2}\")\n",
    "print(f\"fecha1 > fecha2: {fecha1 > fecha2}\")\n",
    "print(f\"fecha1 >= fecha2: {fecha1 >= fecha2}\")"
   ]
  },
  {
   "cell_type": "markdown",
   "metadata": {
    "editable": true,
    "slideshow": {
     "slide_type": "slide"
    },
    "tags": []
   },
   "source": [
    "### Un objeto `QCDate` es *hashable*"
   ]
  },
  {
   "cell_type": "markdown",
   "metadata": {
    "editable": true,
    "slideshow": {
     "slide_type": "slide"
    },
    "tags": []
   },
   "source": [
    "Esto permite que las fechas puedan usarse como `key` en un `dict`de Python. El hash que se utiliza coincide con la representación como entero de una fecha que se utiliza en Excel."
   ]
  },
  {
   "cell_type": "code",
   "execution_count": 16,
   "metadata": {
    "ExecuteTime": {
     "end_time": "2022-01-21T13:43:02.152705Z",
     "start_time": "2022-01-21T13:43:02.137746Z"
    },
    "editable": true,
    "execution": {
     "iopub.execute_input": "2024-05-26T12:29:33.812840Z",
     "iopub.status.busy": "2024-05-26T12:29:33.812562Z",
     "iopub.status.idle": "2024-05-26T12:29:33.816147Z",
     "shell.execute_reply": "2024-05-26T12:29:33.815595Z",
     "shell.execute_reply.started": "2024-05-26T12:29:33.812825Z"
    },
    "slideshow": {
     "slide_type": "fragment"
    },
    "tags": []
   },
   "outputs": [
    {
     "name": "stdout",
     "output_type": "stream",
     "text": [
      "45582\n"
     ]
    }
   ],
   "source": [
    "print(fecha1.__hash__())"
   ]
  },
  {
   "cell_type": "markdown",
   "metadata": {
    "editable": true,
    "slideshow": {
     "slide_type": "slide"
    },
    "tags": []
   },
   "source": [
    "Por ejemplo, una serie de tiempo:"
   ]
  },
  {
   "cell_type": "code",
   "execution_count": 17,
   "metadata": {
    "editable": true,
    "execution": {
     "iopub.execute_input": "2024-05-26T12:29:33.816982Z",
     "iopub.status.busy": "2024-05-26T12:29:33.816822Z",
     "iopub.status.idle": "2024-05-26T12:29:33.820138Z",
     "shell.execute_reply": "2024-05-26T12:29:33.819677Z",
     "shell.execute_reply.started": "2024-05-26T12:29:33.816967Z"
    },
    "slideshow": {
     "slide_type": "subslide"
    },
    "tags": []
   },
   "outputs": [
    {
     "name": "stdout",
     "output_type": "stream",
     "text": [
      "Valor al: 2024-05-23 es 100.02\n"
     ]
    }
   ],
   "source": [
    "serie_de_tiempo = {\n",
    "    qcf.QCDate(22, 5, 2024): 100.01,\n",
    "    qcf.QCDate(23, 5, 2024): 100.02,\n",
    "    qcf.QCDate(24, 5, 2024): 100.03,\n",
    "}\n",
    "print(f\"Valor al: {qcf.QCDate(23, 5, 2024)} es {serie_de_tiempo[qcf.QCDate(23, 5, 2024)]}\")"
   ]
  },
  {
   "cell_type": "markdown",
   "metadata": {
    "editable": true,
    "slideshow": {
     "slide_type": "slide"
    },
    "tags": []
   },
   "source": [
    "### Método `build_qcdate_from_string`"
   ]
  },
  {
   "cell_type": "markdown",
   "metadata": {
    "editable": true,
    "slideshow": {
     "slide_type": "slide"
    },
    "tags": []
   },
   "source": [
    "Se trata de un *factory method* que permite inicializar un objeto `QCDate` a partir de un `string`.\n",
    "El formato del `string` debe ser yyyy&mm&dd donde & es un separador arbitrario."
   ]
  },
  {
   "cell_type": "code",
   "execution_count": 18,
   "metadata": {
    "ExecuteTime": {
     "end_time": "2022-01-21T13:43:02.167665Z",
     "start_time": "2022-01-21T13:43:02.153703Z"
    },
    "editable": true,
    "execution": {
     "iopub.execute_input": "2024-05-26T12:29:33.821098Z",
     "iopub.status.busy": "2024-05-26T12:29:33.820964Z",
     "iopub.status.idle": "2024-05-26T12:29:33.825631Z",
     "shell.execute_reply": "2024-05-26T12:29:33.824447Z",
     "shell.execute_reply.started": "2024-05-26T12:29:33.821085Z"
    },
    "slideshow": {
     "slide_type": ""
    },
    "tags": []
   },
   "outputs": [
    {
     "name": "stdout",
     "output_type": "stream",
     "text": [
      "2020-01-01: 2020-01-01\n",
      "2020/01/02: 2020-01-02\n",
      "2020&01&03: 2020-01-03\n"
     ]
    }
   ],
   "source": [
    "str1 = \"2020-01-01\"\n",
    "str2 = \"2020/01/02\"\n",
    "str3 = \"2020&01&03\"\n",
    "\n",
    "fecha4 = qcf.build_qcdate_from_string(str1)\n",
    "print(f\"{str1}: {fecha4}\")\n",
    "\n",
    "fecha4 = qcf.build_qcdate_from_string(str2)\n",
    "print(f\"{str2}: {fecha4}\")\n",
    "\n",
    "fecha4 = qcf.build_qcdate_from_string(str3)\n",
    "print(f\"{str3}: {fecha4}\")"
   ]
  },
  {
   "cell_type": "markdown",
   "metadata": {},
   "source": [
    "## Calendarios\n",
    "Los calendarios se representan con objetos de tipo `BusinesssCalendar` y son **listas** de fechas arbitrarias que representan días feriados en alguna ciudad, país, región o unión de las anteriores. Para dar de alta un calendario se requiere una fecha inicial (`QCDate` y un número entero positivo que representa el plazo inicial total del calendario en años). El objeto `BusinessCalendar` incluye explícitamente todos los días 1 de enero y considera siempre como feriado los días sábado y domingo (aunque no pertenecen de forma explícita a la **lista**).\n",
    "\n",
    "En el siguiente loop, por ejemplo, no se imprime nada."
   ]
  },
  {
   "cell_type": "code",
   "execution_count": 19,
   "metadata": {
    "ExecuteTime": {
     "end_time": "2022-01-21T13:43:02.183622Z",
     "start_time": "2022-01-21T13:43:02.168663Z"
    },
    "execution": {
     "iopub.execute_input": "2024-05-26T12:29:33.827983Z",
     "iopub.status.busy": "2024-05-26T12:29:33.827509Z",
     "iopub.status.idle": "2024-05-26T12:29:33.832392Z",
     "shell.execute_reply": "2024-05-26T12:29:33.831518Z",
     "shell.execute_reply.started": "2024-05-26T12:29:33.827962Z"
    }
   },
   "outputs": [],
   "source": [
    "scl = qcf.BusinessCalendar(fecha1, 10)\n",
    "for holiday in scl.get_holidays():\n",
    "    print(holiday)"
   ]
  },
  {
   "cell_type": "markdown",
   "metadata": {},
   "source": [
    "### Método `add_holiday`"
   ]
  },
  {
   "cell_type": "markdown",
   "metadata": {},
   "source": [
    "Agrega una fecha a la lista."
   ]
  },
  {
   "cell_type": "code",
   "execution_count": 20,
   "metadata": {
    "ExecuteTime": {
     "end_time": "2022-01-21T13:43:02.198582Z",
     "start_time": "2022-01-21T13:43:02.184620Z"
    },
    "execution": {
     "iopub.execute_input": "2024-05-26T12:29:33.833355Z",
     "iopub.status.busy": "2024-05-26T12:29:33.833166Z",
     "iopub.status.idle": "2024-05-26T12:29:33.838059Z",
     "shell.execute_reply": "2024-05-26T12:29:33.836765Z",
     "shell.execute_reply.started": "2024-05-26T12:29:33.833338Z"
    }
   },
   "outputs": [
    {
     "name": "stdout",
     "output_type": "stream",
     "text": [
      "2018-01-02\n"
     ]
    }
   ],
   "source": [
    "scl.add_holiday(qcf.QCDate(2, 1, 2018))\n",
    "for holiday in scl.get_holidays():\n",
    "    print(holiday)"
   ]
  },
  {
   "cell_type": "markdown",
   "metadata": {},
   "source": [
    "### Método `next_busy_day`"
   ]
  },
  {
   "cell_type": "markdown",
   "metadata": {},
   "source": [
    "Dada una fecha, si ésta es hábil retorna la misma fecha, si, por el contrario, la fecha es inhábil, devuelve la siguiente fecha hábil del calendario."
   ]
  },
  {
   "cell_type": "code",
   "execution_count": 21,
   "metadata": {
    "ExecuteTime": {
     "end_time": "2022-01-21T13:43:02.214541Z",
     "start_time": "2022-01-21T13:43:02.199580Z"
    },
    "execution": {
     "iopub.execute_input": "2024-05-26T12:29:33.840019Z",
     "iopub.status.busy": "2024-05-26T12:29:33.839611Z",
     "iopub.status.idle": "2024-05-26T12:29:33.843883Z",
     "shell.execute_reply": "2024-05-26T12:29:33.843306Z",
     "shell.execute_reply.started": "2024-05-26T12:29:33.839998Z"
    }
   },
   "outputs": [
    {
     "name": "stdout",
     "output_type": "stream",
     "text": [
      "next: 2018-09-17\n",
      "Se agrega el 17-9-2018 a la lista\n",
      "nuevo next: 2018-09-18\n"
     ]
    }
   ],
   "source": [
    "print(\"next:\", scl.next_busy_day(qcf.QCDate(15, 9, 2018)))  # es sábado\n",
    "print(\"Se agrega el 17-9-2018 a la lista\")\n",
    "scl.add_holiday(qcf.QCDate(17, 9, 2018))\n",
    "print(\"nuevo next:\", scl.next_busy_day(qcf.QCDate(15, 9, 2018)))"
   ]
  },
  {
   "cell_type": "markdown",
   "metadata": {},
   "source": [
    "### Método `mod_next_busy_day`"
   ]
  },
  {
   "cell_type": "markdown",
   "metadata": {},
   "source": [
    "Opera igual que la función anterior a menos que la función anterior retorne una fecha del mes siguiente, en ese caso retorna la fecha hábil anterior."
   ]
  },
  {
   "cell_type": "code",
   "execution_count": 22,
   "metadata": {
    "ExecuteTime": {
     "end_time": "2022-01-21T13:43:02.230498Z",
     "start_time": "2022-01-21T13:43:02.215538Z"
    },
    "execution": {
     "iopub.execute_input": "2024-05-26T12:29:33.851926Z",
     "iopub.status.busy": "2024-05-26T12:29:33.851688Z",
     "iopub.status.idle": "2024-05-26T12:29:33.856106Z",
     "shell.execute_reply": "2024-05-26T12:29:33.855459Z",
     "shell.execute_reply.started": "2024-05-26T12:29:33.851907Z"
    }
   },
   "outputs": [
    {
     "name": "stdout",
     "output_type": "stream",
     "text": [
      "Abril 30: WeekDay.TUE, 2024-04-30\n",
      "next: 2024-05-01\n",
      "mod next: 2024-04-29\n"
     ]
    }
   ],
   "source": [
    "abril30 = qcf.QCDate(30, 4, 2024)\n",
    "print(f\"Abril 30: {abril30.week_day()}, {abril30}\")\n",
    "\n",
    "scl.add_holiday(abril30)\n",
    "\n",
    "print(\"next:\", scl.next_busy_day(abril30))\n",
    "print(\"mod next:\", scl.mod_next_busy_day(abril30))"
   ]
  },
  {
   "cell_type": "markdown",
   "metadata": {},
   "source": [
    "### Método `prev_busy_day`"
   ]
  },
  {
   "cell_type": "markdown",
   "metadata": {},
   "source": [
    "Opera de forma análoga a `busy_day`, pero retornando la fecha hábil anterior."
   ]
  },
  {
   "cell_type": "code",
   "execution_count": 23,
   "metadata": {
    "ExecuteTime": {
     "end_time": "2022-01-21T13:43:02.246455Z",
     "start_time": "2022-01-21T13:43:02.231495Z"
    },
    "execution": {
     "iopub.execute_input": "2024-05-26T12:29:33.857274Z",
     "iopub.status.busy": "2024-05-26T12:29:33.856904Z",
     "iopub.status.idle": "2024-05-26T12:29:33.860777Z",
     "shell.execute_reply": "2024-05-26T12:29:33.860117Z",
     "shell.execute_reply.started": "2024-05-26T12:29:33.857253Z"
    }
   },
   "outputs": [
    {
     "name": "stdout",
     "output_type": "stream",
     "text": [
      "prev: 2024-04-29\n"
     ]
    }
   ],
   "source": [
    "print(\"prev:\", scl.prev_busy_day(abril30))"
   ]
  },
  {
   "cell_type": "markdown",
   "metadata": {},
   "source": [
    "### Método `shift`"
   ]
  },
  {
   "cell_type": "markdown",
   "metadata": {},
   "source": [
    "Suma un número *n* (positivo o negativo) de días hábiles a una fecha."
   ]
  },
  {
   "cell_type": "code",
   "execution_count": 24,
   "metadata": {
    "ExecuteTime": {
     "end_time": "2022-01-21T13:43:02.261415Z",
     "start_time": "2022-01-21T13:43:02.247452Z"
    },
    "execution": {
     "iopub.execute_input": "2024-05-26T12:29:33.862446Z",
     "iopub.status.busy": "2024-05-26T12:29:33.861975Z",
     "iopub.status.idle": "2024-05-26T12:29:33.867827Z",
     "shell.execute_reply": "2024-05-26T12:29:33.867027Z",
     "shell.execute_reply.started": "2024-05-26T12:29:33.862363Z"
    }
   },
   "outputs": [
    {
     "name": "stdout",
     "output_type": "stream",
     "text": [
      "2024-05-01\n",
      "2024-04-30\n",
      "2024-05-01\n",
      "2024-05-07\n"
     ]
    }
   ],
   "source": [
    "mayo2 = qcf.QCDate(2, 5, 2024)\n",
    "print(scl.shift(mayo2, -1))\n",
    "print(scl.shift(abril30, 0))\n",
    "print(scl.shift(abril30, 1))\n",
    "print(scl.shift(abril30, 5))"
   ]
  },
  {
   "cell_type": "markdown",
   "metadata": {},
   "source": [
    "Agreguemos el 2024-05-01 a los feriados de `scl` y veamos cómo cambia el primer resultado."
   ]
  },
  {
   "cell_type": "code",
   "execution_count": 25,
   "metadata": {
    "execution": {
     "iopub.execute_input": "2024-05-26T12:29:33.869191Z",
     "iopub.status.busy": "2024-05-26T12:29:33.868913Z",
     "iopub.status.idle": "2024-05-26T12:29:33.872820Z",
     "shell.execute_reply": "2024-05-26T12:29:33.872181Z",
     "shell.execute_reply.started": "2024-05-26T12:29:33.869168Z"
    }
   },
   "outputs": [
    {
     "name": "stdout",
     "output_type": "stream",
     "text": [
      "2024-04-29\n"
     ]
    }
   ],
   "source": [
    "scl.add_holiday(qcf.QCDate(1, 5, 2024))\n",
    "print(scl.shift(mayo2, -1))"
   ]
  },
  {
   "cell_type": "markdown",
   "metadata": {},
   "source": [
    "Se va al 29 de abril porque también agregamos como feriado el 30 de abril."
   ]
  },
  {
   "cell_type": "markdown",
   "metadata": {
    "editable": true,
    "heading_collapsed": true,
    "slideshow": {
     "slide_type": ""
    },
    "tags": []
   },
   "source": [
    "## Fracciones de Año"
   ]
  },
  {
   "cell_type": "markdown",
   "metadata": {},
   "source": [
    "Las fracciones de año corresponden a las distintas formas de medir un intervalo de tiempo entre dos fechas que comunmente se utilizan en los productos de tasa de interés."
   ]
  },
  {
   "cell_type": "code",
   "execution_count": 26,
   "metadata": {
    "ExecuteTime": {
     "end_time": "2022-01-21T13:43:02.276375Z",
     "start_time": "2022-01-21T13:43:02.262412Z"
    },
    "execution": {
     "iopub.execute_input": "2024-05-26T12:29:33.874204Z",
     "iopub.status.busy": "2024-05-26T12:29:33.873953Z",
     "iopub.status.idle": "2024-05-26T12:29:33.878574Z",
     "shell.execute_reply": "2024-05-26T12:29:33.877917Z",
     "shell.execute_reply.started": "2024-05-26T12:29:33.874183Z"
    },
    "hidden": true
   },
   "outputs": [],
   "source": [
    "yfs = [\n",
    "    act360:=qcf.QCAct360(),\n",
    "    act365:=qcf.QCAct365(),\n",
    "    act30:=qcf.QCAct30(),\n",
    "    t30360:=qcf.QC30360(),\n",
    "    t3030:=qcf.QC3030(),\n",
    "    \n",
    "    # Corresponde a depósitos a plazo en CLP\n",
    "    act30:=qcf.QCAct30(),\n",
    "\n",
    "    # La utilizan los bonos del tesoro americano\n",
    "    actact:=qcf.QCActAct(),\n",
    "]"
   ]
  },
  {
   "cell_type": "markdown",
   "metadata": {},
   "source": [
    "### Métodos `yf` y `count_days`"
   ]
  },
  {
   "cell_type": "markdown",
   "metadata": {},
   "source": [
    "El método `yf`, que retorna el valor de la fracción de año, está sobrecargado, se puede calcular usando como argumentos un número de días o un par de fechas (`QCDate`)."
   ]
  },
  {
   "cell_type": "code",
   "execution_count": 27,
   "metadata": {
    "ExecuteTime": {
     "end_time": "2022-01-21T13:43:02.292334Z",
     "start_time": "2022-01-21T13:43:02.277372Z"
    },
    "execution": {
     "iopub.execute_input": "2024-05-26T12:29:33.880658Z",
     "iopub.status.busy": "2024-05-26T12:29:33.880054Z",
     "iopub.status.idle": "2024-05-26T12:29:33.889203Z",
     "shell.execute_reply": "2024-05-26T12:29:33.887948Z",
     "shell.execute_reply.started": "2024-05-26T12:29:33.880630Z"
    },
    "hidden": true
   },
   "outputs": [
    {
     "name": "stdout",
     "output_type": "stream",
     "text": [
      "\n",
      "fecha1: 2024-10-17 y fecha3: 2024-11-16\n",
      "---------------------------------------\n",
      "\n",
      "<class 'qcfinancial.QCAct360'>\n",
      "yf(30): 0.083333\n",
      "yf.yf(fecha1, fecha3): 0.083333\n",
      "yf.yf.count_days(fecha1, fecha3): 30\n",
      "\n",
      "<class 'qcfinancial.QCAct365'>\n",
      "yf(30): 0.082192\n",
      "yf.yf(fecha1, fecha3): 0.082192\n",
      "yf.yf.count_days(fecha1, fecha3): 30\n",
      "\n",
      "<class 'qcfinancial.QCAct30'>\n",
      "yf(30): 1.000000\n",
      "yf.yf(fecha1, fecha3): 1.000000\n",
      "yf.yf.count_days(fecha1, fecha3): 30\n",
      "\n",
      "<class 'qcfinancial.QC30360'>\n",
      "yf(30): 0.083333\n",
      "yf.yf(fecha1, fecha3): 0.080556\n",
      "yf.yf.count_days(fecha1, fecha3): 29\n",
      "\n",
      "<class 'qcfinancial.QC3030'>\n",
      "yf(30): 1.000000\n",
      "yf.yf(fecha1, fecha3): 0.966667\n",
      "yf.yf.count_days(fecha1, fecha3): 29\n",
      "\n",
      "<class 'qcfinancial.QCAct30'>\n",
      "yf(30): 1.000000\n",
      "yf.yf(fecha1, fecha3): 1.000000\n",
      "yf.yf.count_days(fecha1, fecha3): 30\n",
      "\n",
      "<class 'qcfinancial.QCActAct'>\n",
      "yf(30): 0.082192\n",
      "yf.yf(fecha1, fecha3): 0.082192\n",
      "yf.yf.count_days(fecha1, fecha3): 30\n",
      "\n"
     ]
    }
   ],
   "source": [
    "print(f\"\\nfecha1: {fecha1} y fecha3: {fecha3}\")\n",
    "print(\"---------------------------------------\\n\")\n",
    "for yf in yfs:\n",
    "    print(type(yf))\n",
    "    print(f\"yf(30): {yf.yf(30):.6f}\")\n",
    "    print(f\"yf.yf(fecha1, fecha3): {yf.yf(fecha1, fecha3):.6f}\")\n",
    "    print(f\"yf.yf.count_days(fecha1, fecha3): {yf.count_days(fecha1, fecha3):.0f}\")\n",
    "    print()"
   ]
  },
  {
   "cell_type": "markdown",
   "metadata": {
    "editable": true,
    "heading_collapsed": true,
    "slideshow": {
     "slide_type": ""
    },
    "tags": []
   },
   "source": [
    "## Funciones y Factores de Capitalización"
   ]
  },
  {
   "cell_type": "markdown",
   "metadata": {
    "editable": true,
    "slideshow": {
     "slide_type": ""
    },
    "tags": []
   },
   "source": [
    "Las funciones de capitalización representan las distintas formas en que se puede usar el valor de una tasa de interés para calcular o traer a valor presente un flujo de caja futuro. Al resultado de la función de capitalización lo llamamos *factor de capitalización*."
   ]
  },
  {
   "cell_type": "markdown",
   "metadata": {
    "editable": true,
    "slideshow": {
     "slide_type": ""
    },
    "tags": []
   },
   "source": [
    "Están disponibles los siguientes 3 tipos de funciones (donde $yf$ es la fracción de año asociada a la tasa de valor $r$):\n",
    "- QCLinearWf     ---> $1 + r \\cdot yf$\n",
    "- QCCompundWf    ---> $1 + r \\cdot yf$\n",
    "- QCContinousWf  ---> $exp(r \\cdot yf)$"
   ]
  },
  {
   "cell_type": "code",
   "execution_count": 28,
   "metadata": {
    "ExecuteTime": {
     "end_time": "2022-01-21T13:43:02.308289Z",
     "start_time": "2022-01-21T13:43:02.293330Z"
    },
    "editable": true,
    "execution": {
     "iopub.execute_input": "2024-05-26T12:29:33.891420Z",
     "iopub.status.busy": "2024-05-26T12:29:33.890902Z",
     "iopub.status.idle": "2024-05-26T12:29:33.895490Z",
     "shell.execute_reply": "2024-05-26T12:29:33.894534Z",
     "shell.execute_reply.started": "2024-05-26T12:29:33.891385Z"
    },
    "hidden": true,
    "slideshow": {
     "slide_type": ""
    },
    "tags": []
   },
   "outputs": [],
   "source": [
    "wfs = [\n",
    "    lin_wf:=qcf.QCLinearWf(),\n",
    "    com_wf:=qcf.QCCompoundWf(),\n",
    "    exp_wf:=qcf.QCContinousWf(),\n",
    "]"
   ]
  },
  {
   "cell_type": "markdown",
   "metadata": {
    "editable": true,
    "slideshow": {
     "slide_type": ""
    },
    "tags": []
   },
   "source": [
    "### Método `wf`"
   ]
  },
  {
   "cell_type": "markdown",
   "metadata": {
    "editable": true,
    "slideshow": {
     "slide_type": ""
    },
    "tags": []
   },
   "source": [
    "Este método permite calcular el factor de capitalización a partir del valor de una tasa y el valor de una fracción de año."
   ]
  },
  {
   "cell_type": "code",
   "execution_count": 29,
   "metadata": {
    "editable": true,
    "execution": {
     "iopub.execute_input": "2024-05-26T12:29:33.896687Z",
     "iopub.status.busy": "2024-05-26T12:29:33.896312Z",
     "iopub.status.idle": "2024-05-26T12:29:33.900567Z",
     "shell.execute_reply": "2024-05-26T12:29:33.899784Z",
     "shell.execute_reply.started": "2024-05-26T12:29:33.896665Z"
    },
    "slideshow": {
     "slide_type": ""
    },
    "tags": []
   },
   "outputs": [
    {
     "name": "stdout",
     "output_type": "stream",
     "text": [
      "Función: Lin. Factor: 1.050000\n",
      "Función: Com. Factor: 1.048809\n",
      "Función: Exp. Factor: 1.051271\n"
     ]
    }
   ],
   "source": [
    "r = .1   # Valor de la tasa\n",
    "yf = .5  # Fracción de año\n",
    "\n",
    "for wf in wfs:\n",
    "    print(f\"Función: {wf}. Factor: {wf.wf(r, yf):6f}\")"
   ]
  },
  {
   "cell_type": "markdown",
   "metadata": {
    "editable": true,
    "slideshow": {
     "slide_type": ""
    },
    "tags": []
   },
   "source": [
    "## Tasas de Interés"
   ]
  },
  {
   "cell_type": "markdown",
   "metadata": {
    "editable": true,
    "slideshow": {
     "slide_type": ""
    },
    "tags": []
   },
   "source": [
    "Utilizando un número real, una fracción de año y un factor de capitalización, se puede dar de alta (instanciar) un objeto de tipo `QCInterestRate` que representa una tasa de interés (ver por ejemplo el video [Convenciones de Tasas](https://youtu.be/AdCMPKBFwgg?si=8v4wT1WER_poqEBg))."
   ]
  },
  {
   "cell_type": "code",
   "execution_count": 30,
   "metadata": {
    "ExecuteTime": {
     "end_time": "2022-01-21T13:43:02.324248Z",
     "start_time": "2022-01-21T13:43:02.309287Z"
    },
    "editable": true,
    "execution": {
     "iopub.execute_input": "2024-05-26T12:29:33.901972Z",
     "iopub.status.busy": "2024-05-26T12:29:33.901656Z",
     "iopub.status.idle": "2024-05-26T12:29:33.905854Z",
     "shell.execute_reply": "2024-05-26T12:29:33.905162Z",
     "shell.execute_reply.started": "2024-05-26T12:29:33.901949Z"
    },
    "slideshow": {
     "slide_type": ""
    },
    "tags": []
   },
   "outputs": [],
   "source": [
    "r0 = 0.1\n",
    "tasas = [\n",
    "    tasa_lin_act360:=qcf.QCInterestRate(0.1, act360, lin_wf),\n",
    "    tasa_com_act365:= qcf.QCInterestRate(0.1, act365, com_wf),\n",
    "    tasa_exp_act365:=qcf.QCInterestRate(0.1, act365, exp_wf),\n",
    "]"
   ]
  },
  {
   "cell_type": "markdown",
   "metadata": {
    "editable": true,
    "slideshow": {
     "slide_type": ""
    },
    "tags": []
   },
   "source": [
    "### Métodos `get_value` y `set_value`"
   ]
  },
  {
   "cell_type": "markdown",
   "metadata": {
    "editable": true,
    "slideshow": {
     "slide_type": ""
    },
    "tags": []
   },
   "source": [
    "Permiten obtener y definir el valor de la tasa de interés."
   ]
  },
  {
   "cell_type": "code",
   "execution_count": 31,
   "metadata": {
    "ExecuteTime": {
     "end_time": "2022-01-21T13:43:02.340204Z",
     "start_time": "2022-01-21T13:43:02.325244Z"
    },
    "editable": true,
    "execution": {
     "iopub.execute_input": "2024-05-26T12:29:33.907402Z",
     "iopub.status.busy": "2024-05-26T12:29:33.907027Z",
     "iopub.status.idle": "2024-05-26T12:29:33.911461Z",
     "shell.execute_reply": "2024-05-26T12:29:33.910601Z",
     "shell.execute_reply.started": "2024-05-26T12:29:33.907379Z"
    },
    "slideshow": {
     "slide_type": ""
    },
    "tags": []
   },
   "outputs": [
    {
     "name": "stdout",
     "output_type": "stream",
     "text": [
      "Descripción: 0.100000 Act360 Lin\n",
      "Obtener valor: 0.1\n",
      "Obtener nuevo valor: 0.12\n",
      "\n",
      "Descripción: 0.100000 Act365 Com\n",
      "Obtener valor: 0.1\n",
      "Obtener nuevo valor: 0.12\n",
      "\n",
      "Descripción: 0.100000 Act365 Exp\n",
      "Obtener valor: 0.1\n",
      "Obtener nuevo valor: 0.12\n",
      "\n"
     ]
    }
   ],
   "source": [
    "for tasa in tasas:\n",
    "    print(f\"Descripción: {tasa}\") # Está definido el método __str__\n",
    "    \n",
    "    # Se obtiene el valor de la tasa utilizando get_value\n",
    "    print(\"Obtener valor:\", tasa.get_value())\n",
    "    \n",
    "    # Se utiliza set_value para cambiar el valor de la tasa\n",
    "    r1 = 0.12\n",
    "    tasa.set_value(r1)\n",
    "    print(\"Obtener nuevo valor:\", tasa.get_value())\n",
    "    print()"
   ]
  },
  {
   "cell_type": "markdown",
   "metadata": {
    "editable": true,
    "slideshow": {
     "slide_type": ""
    },
    "tags": []
   },
   "source": [
    "### Métodos `wf` y `dwf`"
   ]
  },
  {
   "cell_type": "markdown",
   "metadata": {
    "editable": true,
    "slideshow": {
     "slide_type": ""
    },
    "tags": []
   },
   "source": [
    "Tanto `wf` como `dwf`son métodos sobrecargados. El primero permite calcular el valor del factor de capitalización de la tasa de interés utilizando un número de días o un par de fechas, mientras que el segundo calcula la derivada del factor de capitalización respecto a la tasa de interés. \n",
    "\n",
    "¿Cómo se realiza el cálculo de la derivada? Veamos un ejemplo:"
   ]
  },
  {
   "cell_type": "markdown",
   "metadata": {
    "editable": true,
    "slideshow": {
     "slide_type": ""
    },
    "tags": []
   },
   "source": [
    "Consideremos una tasa de interés cuya función de capitalización es $g$. De ese modo el factor de capitalización $wf$ para un valor de tasa $r$ y una fracción de año $yf$ está dado por:\n",
    "\n",
    "$$wf = g\\left(r,yf\\right)$$\n",
    "\n",
    "En muchas situaciones nos interesará saber como cambia el factor de capitalización cuando el valor $r$ de la tasa cambia. Cuando el cambio de valor, es pequeño, digamos un punto básico, resulta conveniente calcular el cambio de valor en $wf$, $\\Delta wf$ usando la derivada de la función $g$ respecto a $r$, más precisamente:\n",
    "\n",
    "$$\\Delta wf = \\frac{dg\\left(r,yf\\right)}{dr}\\left(r_0,yf\\right)\\cdot\\delta$$\n",
    "\n",
    "Donde $r_0$ es el valor inicial de la tasa y $\\delta$ es el cambio en su valor. Tenemos que:\n",
    "\n",
    "- Si $g=1+r\\cdot yf$ entonces $\\Delta wf = yf\\cdot\\delta$\n",
    "  \n",
    "- Si $g=\\left(1+r\\right)^{yf}$ entonces $\\Delta wf = yf\\cdot\\left(1+r_0\\right)^{yf-1}\\cdot\\delta$\n",
    "\n",
    "- Si $g=exp\\left(r\\cdot yf\\right)$ entonces $\\Delta wf = yf\\cdot exp\\left(r_0\\cdot yf\\right)\\cdot\\delta$\n"
   ]
  },
  {
   "cell_type": "markdown",
   "metadata": {
    "editable": true,
    "slideshow": {
     "slide_type": ""
    },
    "tags": []
   },
   "source": [
    "Calculemos `wf` y `dwf` usando un par de fechas."
   ]
  },
  {
   "cell_type": "code",
   "execution_count": 32,
   "metadata": {
    "ExecuteTime": {
     "end_time": "2022-01-21T13:43:02.340204Z",
     "start_time": "2022-01-21T13:43:02.325244Z"
    },
    "editable": true,
    "execution": {
     "iopub.execute_input": "2024-05-26T12:29:33.912956Z",
     "iopub.status.busy": "2024-05-26T12:29:33.912679Z",
     "iopub.status.idle": "2024-05-26T12:29:33.917927Z",
     "shell.execute_reply": "2024-05-26T12:29:33.917269Z",
     "shell.execute_reply.started": "2024-05-26T12:29:33.912934Z"
    },
    "slideshow": {
     "slide_type": ""
    },
    "tags": []
   },
   "outputs": [
    {
     "name": "stdout",
     "output_type": "stream",
     "text": [
      "wf(fecha1, fecha3): 1.01000000\n",
      "dwf(fecha1, fecha3): 0.08333333\n",
      "Check: 0.00833333\n",
      "\n",
      "wf(fecha1, fecha3): 1.00935820\n",
      "dwf(fecha1, fecha3): 0.07407228\n",
      "Check: 0.07530743\n",
      "\n",
      "wf(fecha1, fecha3): 1.00991181\n",
      "dwf(fecha1, fecha3): 0.08300645\n",
      "Check: 0.08300645\n",
      "\n"
     ]
    }
   ],
   "source": [
    "for i, tasa in enumerate(tasas):\n",
    "    # Retorna el factor de capitalización entre las fechas\n",
    "    print(f\"wf(fecha1, fecha3): {tasa.wf(fecha1, fecha3):.8F}\")\n",
    "\n",
    "    # Retorna la derivada del factor de capitalización respecto al valor de la tasa entre las fechas\n",
    "    print(f\"dwf(fecha1, fecha3): {tasa.dwf(fecha1, fecha3):.8f}\")\n",
    "\n",
    "    # Para verificar se calcula \"a mano\" la derivada\n",
    "    match i:\n",
    "        case 0:\n",
    "            print(f\"Check: {tasa.yf(fecha1, fecha3) * r0:.8f}\")\n",
    "        case 1:\n",
    "            yf_ = tasa.yf(fecha1, fecha3)\n",
    "            print(f\"Check: {tasa.yf(fecha1, fecha3) * (1 + r0)**(yf_ - 1):.8f}\")\n",
    "        case 2:\n",
    "            print(f\"Check: {tasa.yf(fecha1, fecha3) * tasa.wf(fecha1, fecha3):.8f}\")\n",
    "    \n",
    "    print()"
   ]
  },
  {
   "cell_type": "markdown",
   "metadata": {
    "editable": true,
    "slideshow": {
     "slide_type": ""
    },
    "tags": []
   },
   "source": [
    "Veamos ahora la sobrecarga y utilicemos un número de días."
   ]
  },
  {
   "cell_type": "code",
   "execution_count": 33,
   "metadata": {
    "ExecuteTime": {
     "end_time": "2022-01-21T13:43:02.340204Z",
     "start_time": "2022-01-21T13:43:02.325244Z"
    },
    "editable": true,
    "execution": {
     "iopub.execute_input": "2024-05-26T12:29:33.919247Z",
     "iopub.status.busy": "2024-05-26T12:29:33.919014Z",
     "iopub.status.idle": "2024-05-26T12:29:33.924360Z",
     "shell.execute_reply": "2024-05-26T12:29:33.923584Z",
     "shell.execute_reply.started": "2024-05-26T12:29:33.919226Z"
    },
    "slideshow": {
     "slide_type": ""
    },
    "tags": []
   },
   "outputs": [
    {
     "name": "stdout",
     "output_type": "stream",
     "text": [
      "wf(dias): 1.13333333\n",
      "dwf(dias): 1.11111111\n",
      "Check: 0.11111111\n",
      "\n",
      "wf(dias): 1.13223756\n",
      "dwf(dias): 1.10786454\n",
      "Check: 1.10595203\n",
      "\n",
      "wf(dias): 1.14054572\n",
      "dwf(dias): 1.24991312\n",
      "Check: 1.24991312\n",
      "\n"
     ]
    }
   ],
   "source": [
    "dias = 400\n",
    "for i, tasa in enumerate(tasas):\n",
    "    # Retorna el factor de capitalización entre las fechas\n",
    "    print(f\"wf(dias): {tasa.wf(dias):.8F}\")\n",
    "\n",
    "    # Retorna la derivada del factor de capitalización respecto al valor de la tasa entre las fechas\n",
    "    print(f\"dwf(dias): {tasa.dwf(dias):.8f}\")\n",
    "\n",
    "    # Para verificar se calcula \"a mano\" la derivada\n",
    "    match i:\n",
    "        case 0:\n",
    "            print(f\"Check: {dias / 360 * r0:.8f}\")\n",
    "        case 1:\n",
    "            yf_ = dias / 365\n",
    "            print(f\"Check: {yf_ * (1 + r0)**(yf_ - 1):.8f}\")\n",
    "        case 2:\n",
    "            print(f\"Check: {dias / 365 * tasa.wf(dias):.8f}\")\n",
    "    \n",
    "    print()"
   ]
  },
  {
   "cell_type": "markdown",
   "metadata": {
    "editable": true,
    "slideshow": {
     "slide_type": ""
    },
    "tags": []
   },
   "source": [
    "### Método `get_rate_from_wf`"
   ]
  },
  {
   "cell_type": "markdown",
   "metadata": {
    "editable": true,
    "slideshow": {
     "slide_type": ""
    },
    "tags": []
   },
   "source": [
    "Este método permite calcular la tasa de interés correspondiente a un dado factor de capitalización, utilizando la función de capitalización y la fracción de año de la tasa. El intervalor de tiempo de la tasa se puede especificar con un par de fechas o con un número de días."
   ]
  },
  {
   "cell_type": "code",
   "execution_count": 34,
   "metadata": {
    "ExecuteTime": {
     "end_time": "2022-01-21T13:43:02.355165Z",
     "start_time": "2022-01-21T13:43:02.344194Z"
    },
    "editable": true,
    "execution": {
     "iopub.execute_input": "2024-05-26T12:29:33.926325Z",
     "iopub.status.busy": "2024-05-26T12:29:33.925865Z",
     "iopub.status.idle": "2024-05-26T12:29:33.931211Z",
     "shell.execute_reply": "2024-05-26T12:29:33.930179Z",
     "shell.execute_reply.started": "2024-05-26T12:29:33.926288Z"
    },
    "slideshow": {
     "slide_type": ""
    },
    "tags": []
   },
   "outputs": [
    {
     "name": "stdout",
     "output_type": "stream",
     "text": [
      "Tasa: Act360 Lin\n",
      "get_rate_from_wf(factor, fecha1, fecha3): 3.0000%\n",
      "get_rate_from_wf(factor, dias): 2.9032%\n",
      "\n",
      "Tasa: Act365 Com\n",
      "get_rate_from_wf(factor, fecha1, fecha3): 3.0845%\n",
      "get_rate_from_wf(factor, dias): 2.9835%\n",
      "\n",
      "Tasa: Act365 Exp\n",
      "get_rate_from_wf(factor, fecha1, fecha3): 3.0379%\n",
      "get_rate_from_wf(factor, dias): 2.9399%\n",
      "\n"
     ]
    }
   ],
   "source": [
    "factor = 1.0025\n",
    "dias = 31\n",
    "for tasa in tasas:\n",
    "    aux = f\"{tasa}\"[-10:]\n",
    "    print(f\"Tasa: {aux}\")\n",
    "    print(f\"get_rate_from_wf(factor, fecha1, fecha3): {tasa.get_rate_from_wf(factor, fecha1, fecha3):.4%}\")\n",
    "    print(f\"get_rate_from_wf(factor, dias): {tasa.get_rate_from_wf(factor, dias):.4%}\\n\")\n"
   ]
  },
  {
   "cell_type": "markdown",
   "metadata": {
    "editable": true,
    "slideshow": {
     "slide_type": ""
    },
    "tags": []
   },
   "source": [
    "## Tenor"
   ]
  },
  {
   "cell_type": "markdown",
   "metadata": {
    "editable": true,
    "slideshow": {
     "slide_type": ""
    },
    "tags": []
   },
   "source": [
    "Es una clase que representa el concepto de plazo estructurado o tenor (1D, 1M, 1Y ...)."
   ]
  },
  {
   "cell_type": "markdown",
   "metadata": {
    "editable": true,
    "slideshow": {
     "slide_type": ""
    },
    "tags": []
   },
   "source": [
    "### Ejemplos"
   ]
  },
  {
   "cell_type": "code",
   "execution_count": 185,
   "metadata": {
    "ExecuteTime": {
     "end_time": "2022-01-21T13:43:02.371122Z",
     "start_time": "2022-01-21T13:43:02.356162Z"
    },
    "editable": true,
    "execution": {
     "iopub.execute_input": "2024-05-26T12:42:17.427558Z",
     "iopub.status.busy": "2024-05-26T12:42:17.427200Z",
     "iopub.status.idle": "2024-05-26T12:42:17.432119Z",
     "shell.execute_reply": "2024-05-26T12:42:17.431212Z",
     "shell.execute_reply.started": "2024-05-26T12:42:17.427527Z"
    },
    "slideshow": {
     "slide_type": ""
    },
    "tags": []
   },
   "outputs": [],
   "source": [
    "tenors = [\n",
    "    _1d:=qcf.Tenor(\"1d\"),\n",
    "    _1m:=qcf.Tenor(\"1M\"),\n",
    "    _1y:=qcf.Tenor(\"1y\"),\n",
    "    _1d_1m_1y:=qcf.Tenor(\"1D1M1Y\"),\n",
    "\n",
    "    # Notar que, en este caso, el constructor es capaz de eliminar\n",
    "    # los espacios y la substr nyse\n",
    "    _2y_3m:=qcf.Tenor(\"2y nyse 3m\"),  \n",
    "]"
   ]
  },
  {
   "cell_type": "markdown",
   "metadata": {
    "editable": true,
    "slideshow": {
     "slide_type": ""
    },
    "tags": []
   },
   "source": [
    "### Métodos `get_string`, `get_days`, `get_months` y `get_years`"
   ]
  },
  {
   "cell_type": "code",
   "execution_count": 187,
   "metadata": {
    "ExecuteTime": {
     "end_time": "2022-01-21T13:43:02.386082Z",
     "start_time": "2022-01-21T13:43:02.372119Z"
    },
    "editable": true,
    "execution": {
     "iopub.execute_input": "2024-05-26T12:44:31.657012Z",
     "iopub.status.busy": "2024-05-26T12:44:31.656643Z",
     "iopub.status.idle": "2024-05-26T12:44:31.662397Z",
     "shell.execute_reply": "2024-05-26T12:44:31.661454Z",
     "shell.execute_reply.started": "2024-05-26T12:44:31.656981Z"
    },
    "slideshow": {
     "slide_type": ""
    },
    "tags": []
   },
   "outputs": [
    {
     "name": "stdout",
     "output_type": "stream",
     "text": [
      "string: 1D\n",
      "dias: 1\n",
      "meses: 0\n",
      "años: 0\n",
      "\n",
      "string: 1M\n",
      "dias: 0\n",
      "meses: 1\n",
      "años: 0\n",
      "\n",
      "string: 1Y\n",
      "dias: 0\n",
      "meses: 0\n",
      "años: 1\n",
      "\n",
      "string: 1Y1M1D\n",
      "dias: 1\n",
      "meses: 1\n",
      "años: 1\n",
      "\n",
      "string: 2Y3M\n",
      "dias: 0\n",
      "meses: 3\n",
      "años: 2\n",
      "\n"
     ]
    }
   ],
   "source": [
    "for tenor in tenors:\n",
    "    print(f\"string: {tenor.get_string()}\")\n",
    "    print(f\"dias: {tenor.get_days()}\")\n",
    "    print(f\"meses: {tenor.get_months()}\")\n",
    "    print(f\"años: {tenor.get_years()}\\n\")"
   ]
  },
  {
   "cell_type": "markdown",
   "metadata": {
    "editable": true,
    "slideshow": {
     "slide_type": ""
    },
    "tags": []
   },
   "source": [
    "### Método `set_tenor`"
   ]
  },
  {
   "cell_type": "code",
   "execution_count": 188,
   "metadata": {
    "editable": true,
    "execution": {
     "iopub.execute_input": "2024-05-26T12:44:33.444569Z",
     "iopub.status.busy": "2024-05-26T12:44:33.444205Z",
     "iopub.status.idle": "2024-05-26T12:44:33.449853Z",
     "shell.execute_reply": "2024-05-26T12:44:33.448820Z",
     "shell.execute_reply.started": "2024-05-26T12:44:33.444538Z"
    },
    "slideshow": {
     "slide_type": ""
    },
    "tags": []
   },
   "outputs": [
    {
     "name": "stdout",
     "output_type": "stream",
     "text": [
      "string: 0D\n",
      "\n",
      "string: 1Y1M1D\n",
      "\n",
      "string: 2Y2M2D\n",
      "\n",
      "string: 3Y3M3D\n",
      "\n",
      "string: 4Y4M4D\n",
      "\n"
     ]
    }
   ],
   "source": [
    "for i, tenor in enumerate(tenors):\n",
    "    tenor.set_tenor(f\"{i}d{i}m{i}y\")\n",
    "    print(f\"string: {tenor.get_string()}\\n\")"
   ]
  },
  {
   "cell_type": "markdown",
   "metadata": {
    "editable": true,
    "heading_collapsed": true,
    "slideshow": {
     "slide_type": ""
    },
    "tags": []
   },
   "source": [
    "## FX Rate"
   ]
  },
  {
   "cell_type": "markdown",
   "metadata": {
    "editable": true,
    "slideshow": {
     "slide_type": ""
    },
    "tags": []
   },
   "source": [
    "Es una clase que representa el concepto de tipo de cambio entre dos monedas. Para dar de alta un FXRate se requiere:\n",
    "\n",
    "- QCCurrency: la moneda fuerte del par.\n",
    "- QCCurrency: la moneda débl del par."
   ]
  },
  {
   "cell_type": "markdown",
   "metadata": {
    "editable": true,
    "slideshow": {
     "slide_type": ""
    },
    "tags": []
   },
   "source": [
    "### Ejemplo: USDCLP"
   ]
  },
  {
   "cell_type": "code",
   "execution_count": 189,
   "metadata": {
    "ExecuteTime": {
     "end_time": "2022-01-21T13:43:02.402039Z",
     "start_time": "2022-01-21T13:43:02.387079Z"
    },
    "editable": true,
    "execution": {
     "iopub.execute_input": "2024-05-26T12:48:11.040540Z",
     "iopub.status.busy": "2024-05-26T12:48:11.040184Z",
     "iopub.status.idle": "2024-05-26T12:48:11.044508Z",
     "shell.execute_reply": "2024-05-26T12:48:11.043646Z",
     "shell.execute_reply.started": "2024-05-26T12:48:11.040510Z"
    },
    "hidden": true,
    "slideshow": {
     "slide_type": ""
    },
    "tags": []
   },
   "outputs": [],
   "source": [
    "usdclp = qcf.FXRate(usd, clp)"
   ]
  },
  {
   "cell_type": "markdown",
   "metadata": {
    "editable": true,
    "slideshow": {
     "slide_type": ""
    },
    "tags": []
   },
   "source": [
    "Utilizando el método `get_code` se puede obtener el código del par según la convención usual."
   ]
  },
  {
   "cell_type": "code",
   "execution_count": 190,
   "metadata": {
    "editable": true,
    "execution": {
     "iopub.execute_input": "2024-05-26T12:48:32.489124Z",
     "iopub.status.busy": "2024-05-26T12:48:32.488799Z",
     "iopub.status.idle": "2024-05-26T12:48:32.493208Z",
     "shell.execute_reply": "2024-05-26T12:48:32.492368Z",
     "shell.execute_reply.started": "2024-05-26T12:48:32.489095Z"
    },
    "slideshow": {
     "slide_type": ""
    },
    "tags": []
   },
   "outputs": [
    {
     "name": "stdout",
     "output_type": "stream",
     "text": [
      "Código: USDCLP\n"
     ]
    }
   ],
   "source": [
    "print(f\"Código: {usdclp.get_code()}\")"
   ]
  },
  {
   "cell_type": "markdown",
   "metadata": {
    "editable": true,
    "slideshow": {
     "slide_type": ""
    },
    "tags": []
   },
   "source": [
    "## FX Rate Index"
   ]
  },
  {
   "cell_type": "markdown",
   "metadata": {
    "editable": true,
    "slideshow": {
     "slide_type": ""
    },
    "tags": []
   },
   "source": [
    "Esta clase representa un índice de tipo de cambio, por ejemplo, el dólar observado que publica el Banco Central de Chile."
   ]
  },
  {
   "cell_type": "markdown",
   "metadata": {
    "editable": true,
    "slideshow": {
     "slide_type": ""
    },
    "tags": []
   },
   "source": [
    "Para dar de alta un FXRateIndex se requiere:\n",
    "\n",
    "- `FXRate`: el FXRate correspoondiente.\n",
    "- `str`: nombre del índice\n",
    "- `Tenor`: la regla de fixing, es 1D como el USD Observado o es 0D como un ínidce de cierre de día.\n",
    "- `Tenor`: la regla para la valuta. Es 1D como el USDCLP o 2D como el EURUSD.\n",
    "- `BusinessCalendar`: el calendario adecuado para aplicar las reglas de fixing y valuta."
   ]
  },
  {
   "cell_type": "markdown",
   "metadata": {
    "editable": true,
    "slideshow": {
     "slide_type": ""
    },
    "tags": []
   },
   "source": [
    "### Ejemplo"
   ]
  },
  {
   "cell_type": "code",
   "execution_count": 198,
   "metadata": {
    "ExecuteTime": {
     "end_time": "2022-01-21T13:43:02.433954Z",
     "start_time": "2022-01-21T13:43:02.418994Z"
    },
    "editable": true,
    "execution": {
     "iopub.execute_input": "2024-05-26T14:23:00.513554Z",
     "iopub.status.busy": "2024-05-26T14:23:00.513208Z",
     "iopub.status.idle": "2024-05-26T14:23:00.517490Z",
     "shell.execute_reply": "2024-05-26T14:23:00.516661Z",
     "shell.execute_reply.started": "2024-05-26T14:23:00.513524Z"
    },
    "slideshow": {
     "slide_type": ""
    },
    "tags": []
   },
   "outputs": [],
   "source": [
    "_1d.set_tenor(\"1d\")\n",
    "usdclp_obs = qcf.FXRateIndex(usdclp, \"USDOBS\", _1d, _1d, scl)"
   ]
  },
  {
   "cell_type": "markdown",
   "metadata": {
    "editable": true,
    "slideshow": {
     "slide_type": ""
    },
    "tags": []
   },
   "source": [
    "### Métodos `fixing_date` y `value_date`"
   ]
  },
  {
   "cell_type": "markdown",
   "metadata": {
    "editable": true,
    "slideshow": {
     "slide_type": ""
    },
    "tags": []
   },
   "source": [
    "El método `fixing_date` retorna la fecha de fixing del índice dada la fecha de publicación. Por su parte, `value_date` retorna la fecha de la valuta dada la fecha de publicación."
   ]
  },
  {
   "cell_type": "code",
   "execution_count": 200,
   "metadata": {
    "editable": true,
    "execution": {
     "iopub.execute_input": "2024-05-26T14:31:01.325415Z",
     "iopub.status.busy": "2024-05-26T14:31:01.325049Z",
     "iopub.status.idle": "2024-05-26T14:31:01.330856Z",
     "shell.execute_reply": "2024-05-26T14:31:01.329961Z",
     "shell.execute_reply.started": "2024-05-26T14:31:01.325384Z"
    },
    "slideshow": {
     "slide_type": ""
    },
    "tags": []
   },
   "outputs": [
    {
     "name": "stdout",
     "output_type": "stream",
     "text": [
      "Fecha de publicación: WeekDay.THU, 2024-10-17\n",
      "Fecha de fixing: 2024-10-16\n",
      "Fecha de valuta: 2024-10-17\n"
     ]
    }
   ],
   "source": [
    "print(f\"Fecha de publicación: {fecha1.week_day()}, {fecha1}\")\n",
    "print(f\"Fecha de fixing: {usdclp_obs.fixing_date(fecha1)}\")\n",
    "print(f\"Fecha de valuta: {usdclp_obs.value_date(fecha1)}\")"
   ]
  },
  {
   "cell_type": "markdown",
   "metadata": {
    "editable": true,
    "slideshow": {
     "slide_type": ""
    },
    "tags": []
   },
   "source": [
    "Notar que la fecha de fixing se calcula aplicando la regla de fixing a la fecha de publicación, mientras que la fecha de valuta se calcula aplicando la regla de valuta a la fecha de fixing."
   ]
  },
  {
   "cell_type": "markdown",
   "metadata": {
    "editable": true,
    "slideshow": {
     "slide_type": ""
    },
    "tags": []
   },
   "source": [
    "### Método `convert`"
   ]
  },
  {
   "cell_type": "markdown",
   "metadata": {
    "editable": true,
    "slideshow": {
     "slide_type": ""
    },
    "tags": []
   },
   "source": [
    "El método `convert` permite pasar rápidamente de una moneda a la otra (de las que forman el par del índice) usando yun valor para el índice."
   ]
  },
  {
   "cell_type": "code",
   "execution_count": 202,
   "metadata": {
    "ExecuteTime": {
     "end_time": "2022-01-21T13:43:02.448914Z",
     "start_time": "2022-01-21T13:43:02.434952Z"
    },
    "editable": true,
    "execution": {
     "iopub.execute_input": "2024-05-26T14:36:43.936190Z",
     "iopub.status.busy": "2024-05-26T14:36:43.935922Z",
     "iopub.status.idle": "2024-05-26T14:36:43.940887Z",
     "shell.execute_reply": "2024-05-26T14:36:43.940082Z",
     "shell.execute_reply.started": "2024-05-26T14:36:43.936168Z"
    },
    "slideshow": {
     "slide_type": ""
    },
    "tags": []
   },
   "outputs": [
    {
     "name": "stdout",
     "output_type": "stream",
     "text": [
      "Monto en CLP es: 900,000,000\n",
      "Monto en USD es: 1,000,000\n"
     ]
    }
   ],
   "source": [
    "monto_usd = 1_000_000\n",
    "monto_clp = 900_000_000\n",
    "valor_usdclp_obs = 900.00\n",
    "\n",
    "result = usdclp_obs.convert(monto_usd, qcf.QCUSD(), valor_usdclp_obs)\n",
    "print(f\"Monto en CLP es: {result:,.0f}\")\n",
    "\n",
    "result = usdclp_obs.convert(monto_clp, qcf.QCCLP(), valor_usdclp_obs)\n",
    "print(f\"Monto en USD es: {result:,.0f}\")"
   ]
  },
  {
   "cell_type": "markdown",
   "metadata": {
    "editable": true,
    "execution": {
     "iopub.execute_input": "2024-05-26T14:21:20.952930Z",
     "iopub.status.busy": "2024-05-26T14:21:20.952572Z",
     "iopub.status.idle": "2024-05-26T14:21:20.958741Z",
     "shell.execute_reply": "2024-05-26T14:21:20.957842Z",
     "shell.execute_reply.started": "2024-05-26T14:21:20.952899Z"
    },
    "slideshow": {
     "slide_type": ""
    },
    "tags": []
   },
   "source": [
    "Esta función es cómoda porque evita tener que controlar en el propio código si la divisa del monto a convertir es la fuerte o la débil del par."
   ]
  },
  {
   "cell_type": "markdown",
   "metadata": {
    "editable": true,
    "slideshow": {
     "slide_type": ""
    },
    "tags": []
   },
   "source": [
    "## QCCurrencyConverter\n",
    "\n",
    "Este es un objeto que permite realizar conversiones de una moneda a otra con un poco más de generalidad que en el caso anterior."
   ]
  },
  {
   "cell_type": "code",
   "execution_count": 42,
   "metadata": {
    "editable": true,
    "execution": {
     "iopub.execute_input": "2024-05-26T12:29:33.970696Z",
     "iopub.status.busy": "2024-05-26T12:29:33.970533Z",
     "iopub.status.idle": "2024-05-26T12:29:33.973835Z",
     "shell.execute_reply": "2024-05-26T12:29:33.973170Z",
     "shell.execute_reply.started": "2024-05-26T12:29:33.970678Z"
    },
    "slideshow": {
     "slide_type": ""
    },
    "tags": []
   },
   "outputs": [],
   "source": [
    "ccy_converter = qcf.QCCurrencyConverter()"
   ]
  },
  {
   "cell_type": "code",
   "execution_count": 43,
   "metadata": {
    "execution": {
     "iopub.execute_input": "2024-05-26T12:29:33.975076Z",
     "iopub.status.busy": "2024-05-26T12:29:33.974714Z",
     "iopub.status.idle": "2024-05-26T12:29:33.977855Z",
     "shell.execute_reply": "2024-05-26T12:29:33.977354Z",
     "shell.execute_reply.started": "2024-05-26T12:29:33.975057Z"
    }
   },
   "outputs": [
    {
     "name": "stdout",
     "output_type": "stream",
     "text": [
      "Monto en CLP: 800,000\n"
     ]
    }
   ],
   "source": [
    "print(f'Monto en CLP: {ccy_converter.convert(1_000, usd, 800, usdclp_obs):,.0f}')"
   ]
  },
  {
   "cell_type": "code",
   "execution_count": 44,
   "metadata": {
    "execution": {
     "iopub.execute_input": "2024-05-26T12:29:33.978921Z",
     "iopub.status.busy": "2024-05-26T12:29:33.978731Z",
     "iopub.status.idle": "2024-05-26T12:29:33.981829Z",
     "shell.execute_reply": "2024-05-26T12:29:33.981309Z",
     "shell.execute_reply.started": "2024-05-26T12:29:33.978904Z"
    }
   },
   "outputs": [
    {
     "name": "stdout",
     "output_type": "stream",
     "text": [
      "Monto en USD: 1,000\n"
     ]
    }
   ],
   "source": [
    "print(f'Monto en USD: {ccy_converter.convert(800_000, clp, 800, usdclp_obs):,.0f}')"
   ]
  },
  {
   "cell_type": "markdown",
   "metadata": {},
   "source": [
    "#### Enum para Monedas"
   ]
  },
  {
   "cell_type": "code",
   "execution_count": 45,
   "metadata": {
    "execution": {
     "iopub.execute_input": "2024-05-26T12:29:33.982689Z",
     "iopub.status.busy": "2024-05-26T12:29:33.982525Z",
     "iopub.status.idle": "2024-05-26T12:29:33.986456Z",
     "shell.execute_reply": "2024-05-26T12:29:33.985816Z",
     "shell.execute_reply.started": "2024-05-26T12:29:33.982672Z"
    }
   },
   "outputs": [
    {
     "data": {
      "text/plain": [
       "<QCCurrencyEnum.AUD: 0>"
      ]
     },
     "execution_count": 45,
     "metadata": {},
     "output_type": "execute_result"
    }
   ],
   "source": [
    "qcf.QCCurrencyEnum.AUD"
   ]
  },
  {
   "cell_type": "code",
   "execution_count": 46,
   "metadata": {
    "collapsed": false,
    "execution": {
     "iopub.execute_input": "2024-05-26T12:29:33.987557Z",
     "iopub.status.busy": "2024-05-26T12:29:33.987305Z",
     "iopub.status.idle": "2024-05-26T12:29:33.991209Z",
     "shell.execute_reply": "2024-05-26T12:29:33.990657Z",
     "shell.execute_reply.started": "2024-05-26T12:29:33.987539Z"
    },
    "jupyter": {
     "outputs_hidden": false
    }
   },
   "outputs": [
    {
     "data": {
      "text/plain": [
       "<QCCurrencyEnum.USD: 18>"
      ]
     },
     "execution_count": 46,
     "metadata": {},
     "output_type": "execute_result"
    }
   ],
   "source": [
    "qcf.QCCurrencyEnum.USD"
   ]
  },
  {
   "cell_type": "markdown",
   "metadata": {},
   "source": [
    "#### Enum para FXRates"
   ]
  },
  {
   "cell_type": "code",
   "execution_count": 47,
   "metadata": {
    "execution": {
     "iopub.execute_input": "2024-05-26T12:29:33.992176Z",
     "iopub.status.busy": "2024-05-26T12:29:33.992014Z",
     "iopub.status.idle": "2024-05-26T12:29:33.995878Z",
     "shell.execute_reply": "2024-05-26T12:29:33.995284Z",
     "shell.execute_reply.started": "2024-05-26T12:29:33.992159Z"
    }
   },
   "outputs": [
    {
     "data": {
      "text/plain": [
       "<QCFxRateEnum.USDCLP: 14>"
      ]
     },
     "execution_count": 47,
     "metadata": {},
     "output_type": "execute_result"
    }
   ],
   "source": [
    "qcf.QCFxRateEnum.USDCLP"
   ]
  },
  {
   "cell_type": "code",
   "execution_count": 48,
   "metadata": {
    "collapsed": false,
    "execution": {
     "iopub.execute_input": "2024-05-26T12:29:33.996906Z",
     "iopub.status.busy": "2024-05-26T12:29:33.996713Z",
     "iopub.status.idle": "2024-05-26T12:29:34.000449Z",
     "shell.execute_reply": "2024-05-26T12:29:33.999891Z",
     "shell.execute_reply.started": "2024-05-26T12:29:33.996889Z"
    },
    "jupyter": {
     "outputs_hidden": false
    }
   },
   "outputs": [
    {
     "data": {
      "text/plain": [
       "<QCFxRateEnum.EURUSD: 30>"
      ]
     },
     "execution_count": 48,
     "metadata": {},
     "output_type": "execute_result"
    }
   ],
   "source": [
    "qcf.QCFxRateEnum.EURUSD"
   ]
  },
  {
   "cell_type": "markdown",
   "metadata": {},
   "source": [
    "Ambos `enum` se pueden utilizar con el método `convert`:"
   ]
  },
  {
   "cell_type": "code",
   "execution_count": 49,
   "metadata": {
    "execution": {
     "iopub.execute_input": "2024-05-26T12:29:34.001648Z",
     "iopub.status.busy": "2024-05-26T12:29:34.001394Z",
     "iopub.status.idle": "2024-05-26T12:29:34.004517Z",
     "shell.execute_reply": "2024-05-26T12:29:34.004025Z",
     "shell.execute_reply.started": "2024-05-26T12:29:34.001629Z"
    }
   },
   "outputs": [
    {
     "name": "stdout",
     "output_type": "stream",
     "text": [
      "Monto en USD: 1,000\n"
     ]
    }
   ],
   "source": [
    "print(f'Monto en USD: {ccy_converter.convert(800_000, qcf.QCCurrencyEnum.CLP, 800, qcf.QCFxRateEnum.USDCLP):,.0f}')"
   ]
  },
  {
   "cell_type": "code",
   "execution_count": 50,
   "metadata": {
    "execution": {
     "iopub.execute_input": "2024-05-26T12:29:34.005834Z",
     "iopub.status.busy": "2024-05-26T12:29:34.005476Z",
     "iopub.status.idle": "2024-05-26T12:29:34.008803Z",
     "shell.execute_reply": "2024-05-26T12:29:34.008285Z",
     "shell.execute_reply.started": "2024-05-26T12:29:34.005817Z"
    }
   },
   "outputs": [
    {
     "name": "stdout",
     "output_type": "stream",
     "text": [
      "Monto en USD: 800,000\n"
     ]
    }
   ],
   "source": [
    "print(f'Monto en USD: {ccy_converter.convert(1_000, qcf.QCCurrencyEnum.USD, 800, qcf.QCFxRateEnum.USDCLP):,.0f}')"
   ]
  },
  {
   "cell_type": "markdown",
   "metadata": {},
   "source": [
    "## Time Series"
   ]
  },
  {
   "cell_type": "code",
   "execution_count": 51,
   "metadata": {
    "ExecuteTime": {
     "end_time": "2022-01-21T13:43:02.510748Z",
     "start_time": "2022-01-21T13:43:02.496786Z"
    },
    "execution": {
     "iopub.execute_input": "2024-05-26T12:29:34.009867Z",
     "iopub.status.busy": "2024-05-26T12:29:34.009676Z",
     "iopub.status.idle": "2024-05-26T12:29:34.012543Z",
     "shell.execute_reply": "2024-05-26T12:29:34.011974Z",
     "shell.execute_reply.started": "2024-05-26T12:29:34.009849Z"
    }
   },
   "outputs": [],
   "source": [
    "ts = qcf.time_series()\n",
    "ts[fecha1] = 10.0"
   ]
  },
  {
   "cell_type": "code",
   "execution_count": 52,
   "metadata": {
    "execution": {
     "iopub.execute_input": "2024-05-26T12:29:34.013535Z",
     "iopub.status.busy": "2024-05-26T12:29:34.013371Z",
     "iopub.status.idle": "2024-05-26T12:29:34.017191Z",
     "shell.execute_reply": "2024-05-26T12:29:34.016689Z",
     "shell.execute_reply.started": "2024-05-26T12:29:34.013517Z"
    }
   },
   "outputs": [
    {
     "data": {
      "text/plain": [
       "qcfinancial.time_series"
      ]
     },
     "execution_count": 52,
     "metadata": {},
     "output_type": "execute_result"
    }
   ],
   "source": [
    "type(ts)"
   ]
  },
  {
   "cell_type": "code",
   "execution_count": 53,
   "metadata": {
    "execution": {
     "iopub.execute_input": "2024-05-26T12:29:34.018027Z",
     "iopub.status.busy": "2024-05-26T12:29:34.017862Z",
     "iopub.status.idle": "2024-05-26T12:29:34.021915Z",
     "shell.execute_reply": "2024-05-26T12:29:34.021351Z",
     "shell.execute_reply.started": "2024-05-26T12:29:34.018009Z"
    }
   },
   "outputs": [
    {
     "name": "stdout",
     "output_type": "stream",
     "text": [
      "2024-10-17 10.0\n"
     ]
    }
   ],
   "source": [
    "for k, v in ts.items():\n",
    "    print(k, v)"
   ]
  },
  {
   "cell_type": "markdown",
   "metadata": {},
   "source": [
    "## Cashflows"
   ]
  },
  {
   "cell_type": "markdown",
   "metadata": {},
   "source": [
    "### Simple Cashflow\n",
    "Un objeto de tipo `SimpleCashflow` representa un flujo de caja cierto en una fecha y moneda."
   ]
  },
  {
   "cell_type": "code",
   "execution_count": 54,
   "metadata": {
    "ExecuteTime": {
     "end_time": "2022-01-21T13:43:02.463874Z",
     "start_time": "2022-01-21T13:43:02.449912Z"
    },
    "execution": {
     "iopub.execute_input": "2024-05-26T12:29:34.023033Z",
     "iopub.status.busy": "2024-05-26T12:29:34.022811Z",
     "iopub.status.idle": "2024-05-26T12:29:34.026004Z",
     "shell.execute_reply": "2024-05-26T12:29:34.025420Z",
     "shell.execute_reply.started": "2024-05-26T12:29:34.023015Z"
    }
   },
   "outputs": [],
   "source": [
    "# Como se inicializa un objeto SimpleCashflow.\n",
    "simple_cashflow = qcf.SimpleCashflow(\n",
    "    fecha1, 100, clp  # fecha del flujo  # monto\n",
    ")  # moneda"
   ]
  },
  {
   "cell_type": "code",
   "execution_count": 55,
   "metadata": {
    "execution": {
     "iopub.execute_input": "2024-05-26T12:29:34.026890Z",
     "iopub.status.busy": "2024-05-26T12:29:34.026728Z",
     "iopub.status.idle": "2024-05-26T12:29:34.030486Z",
     "shell.execute_reply": "2024-05-26T12:29:34.029855Z",
     "shell.execute_reply.started": "2024-05-26T12:29:34.026873Z"
    }
   },
   "outputs": [
    {
     "data": {
      "text/plain": [
       "<qcfinancial.SimpleCashflow at 0x11ef93170>"
      ]
     },
     "execution_count": 55,
     "metadata": {},
     "output_type": "execute_result"
    }
   ],
   "source": [
    "simple_cashflow"
   ]
  },
  {
   "cell_type": "code",
   "execution_count": 56,
   "metadata": {
    "ExecuteTime": {
     "end_time": "2022-01-21T13:43:02.479832Z",
     "start_time": "2022-01-21T13:43:02.464871Z"
    },
    "execution": {
     "iopub.execute_input": "2024-05-26T12:29:34.031354Z",
     "iopub.status.busy": "2024-05-26T12:29:34.031187Z",
     "iopub.status.idle": "2024-05-26T12:29:34.034915Z",
     "shell.execute_reply": "2024-05-26T12:29:34.034378Z",
     "shell.execute_reply.started": "2024-05-26T12:29:34.031337Z"
    }
   },
   "outputs": [
    {
     "name": "stdout",
     "output_type": "stream",
     "text": [
      "100.0\n",
      "CLP\n",
      "2024-10-17\n"
     ]
    }
   ],
   "source": [
    "# Métodos amount, ccy y date\n",
    "print(simple_cashflow.amount())\n",
    "print(simple_cashflow.ccy().get_iso_code())\n",
    "print(simple_cashflow.date())"
   ]
  },
  {
   "cell_type": "markdown",
   "metadata": {},
   "source": [
    " Primer ejemplo de la función `show`. Envuelve de forma cómoda todo el flujo en una tupla. La función show está sobregargada y admite muchos tipos de flujo."
   ]
  },
  {
   "cell_type": "code",
   "execution_count": 57,
   "metadata": {
    "ExecuteTime": {
     "end_time": "2022-01-21T13:43:02.495789Z",
     "start_time": "2022-01-21T13:43:02.480830Z"
    },
    "execution": {
     "iopub.execute_input": "2024-05-26T12:29:34.036083Z",
     "iopub.status.busy": "2024-05-26T12:29:34.035885Z",
     "iopub.status.idle": "2024-05-26T12:29:34.039567Z",
     "shell.execute_reply": "2024-05-26T12:29:34.038970Z",
     "shell.execute_reply.started": "2024-05-26T12:29:34.036064Z"
    }
   },
   "outputs": [
    {
     "data": {
      "text/plain": [
       "('2024-10-17', 100.0, 'CLP')"
      ]
     },
     "execution_count": 57,
     "metadata": {},
     "output_type": "execute_result"
    }
   ],
   "source": [
    "qcf.show(simple_cashflow)"
   ]
  },
  {
   "cell_type": "markdown",
   "metadata": {},
   "source": [
    "### Simple Multicurrency Cashflow\n",
    "Un objeto de tipo `SimpleMultiCurrencyCashflow` representa un flujo de caja cierto en una fecha y moneda, que, sin embargo, se liquidará en una segunda moneda utilizando el valor de un índice de tipo de cambio. Para dar de alta uno de estos objetos se requiere:\n",
    "\n",
    "- `QCDate`: fecha final\n",
    "- `float`: nominal\n",
    "- `QCCurrency`: la moneda del nominal\n",
    "- `QCDate`: la fecha de publicación del `FXRateIndex` que se usará en la conversión\n",
    "- `QCCurrency`: la moneda final del flujo\n",
    "- `FXRateIndex`: el índice de tipo de cambio a utilizar\n",
    "- `float`: el valor del índice de tipo de cambio"
   ]
  },
  {
   "cell_type": "code",
   "execution_count": 58,
   "metadata": {
    "ExecuteTime": {
     "end_time": "2022-01-21T13:43:02.557623Z",
     "start_time": "2022-01-21T13:43:02.542664Z"
    },
    "execution": {
     "iopub.execute_input": "2024-05-26T12:29:34.040719Z",
     "iopub.status.busy": "2024-05-26T12:29:34.040494Z",
     "iopub.status.idle": "2024-05-26T12:29:34.044902Z",
     "shell.execute_reply": "2024-05-26T12:29:34.044358Z",
     "shell.execute_reply.started": "2024-05-26T12:29:34.040702Z"
    }
   },
   "outputs": [
    {
     "name": "stdout",
     "output_type": "stream",
     "text": [
      "fecha flujo: 2024-11-16\n",
      "nominal: 700.0\n",
      "moneda nominal: CLP\n",
      "flujo: 1.0\n",
      "moneda flujo: USD\n"
     ]
    }
   ],
   "source": [
    "# Ejemplo.\n",
    "simple_mccy_cashflow = qcf.SimpleMultiCurrencyCashflow(\n",
    "    fecha3, 700.00, clp, fecha3, usd, usdclp_obs, 700.00\n",
    ")\n",
    "print(\"fecha flujo:\", simple_mccy_cashflow.date())\n",
    "print(\"nominal:\", simple_mccy_cashflow.nominal())\n",
    "print(\"moneda nominal:\", simple_mccy_cashflow.ccy().get_iso_code())\n",
    "print(\"flujo:\", simple_mccy_cashflow.amount())\n",
    "print(\"moneda flujo:\", simple_mccy_cashflow.settlement_ccy().get_iso_code())"
   ]
  },
  {
   "cell_type": "code",
   "execution_count": 59,
   "metadata": {
    "ExecuteTime": {
     "end_time": "2022-01-21T13:43:02.573581Z",
     "start_time": "2022-01-21T13:43:02.558621Z"
    },
    "execution": {
     "iopub.execute_input": "2024-05-26T12:29:34.045895Z",
     "iopub.status.busy": "2024-05-26T12:29:34.045729Z",
     "iopub.status.idle": "2024-05-26T12:29:34.049124Z",
     "shell.execute_reply": "2024-05-26T12:29:34.048559Z",
     "shell.execute_reply.started": "2024-05-26T12:29:34.045877Z"
    }
   },
   "outputs": [
    {
     "name": "stdout",
     "output_type": "stream",
     "text": [
      "flujo: 0.875\n"
     ]
    }
   ],
   "source": [
    "# El valor del índice se puede alterar (existe un setter).\n",
    "simple_mccy_cashflow.set_fx_rate_index_value(800.00)\n",
    "print(\"flujo:\", simple_mccy_cashflow.amount())"
   ]
  },
  {
   "cell_type": "code",
   "execution_count": 60,
   "metadata": {
    "ExecuteTime": {
     "end_time": "2022-01-21T13:43:02.588541Z",
     "start_time": "2022-01-21T13:43:02.574578Z"
    },
    "execution": {
     "iopub.execute_input": "2024-05-26T12:29:34.050064Z",
     "iopub.status.busy": "2024-05-26T12:29:34.049866Z",
     "iopub.status.idle": "2024-05-26T12:29:34.054081Z",
     "shell.execute_reply": "2024-05-26T12:29:34.053536Z",
     "shell.execute_reply.started": "2024-05-26T12:29:34.050044Z"
    }
   },
   "outputs": [
    {
     "name": "stdout",
     "output_type": "stream",
     "text": [
      "fecha flujo: 2024-11-16\n",
      "nominal: 1.0\n",
      "moneda nominal: USD\n",
      "flujo: 700.0\n",
      "moneda flujo: CLP\n"
     ]
    }
   ],
   "source": [
    "# Ejemplo 2. Las monedas están invertidas respecto al caso anterior. El valor del índice se usa de la forma correcta.\n",
    "simple_mccy_cashflow = qcf.SimpleMultiCurrencyCashflow(\n",
    "    fecha3, 1, usd, fecha3, clp, usdclp_obs, 700.00\n",
    ")\n",
    "print(\"fecha flujo:\", simple_mccy_cashflow.date())\n",
    "print(\"nominal:\", simple_mccy_cashflow.nominal())\n",
    "print(\"moneda nominal:\", simple_mccy_cashflow.ccy().get_iso_code())\n",
    "print(\"flujo:\", simple_mccy_cashflow.amount())\n",
    "print(\"moneda flujo:\", simple_mccy_cashflow.settlement_ccy().get_iso_code())"
   ]
  },
  {
   "cell_type": "code",
   "execution_count": 61,
   "metadata": {
    "ExecuteTime": {
     "end_time": "2022-01-21T13:43:02.604498Z",
     "start_time": "2022-01-21T13:43:02.590536Z"
    },
    "execution": {
     "iopub.execute_input": "2024-05-26T12:29:34.055320Z",
     "iopub.status.busy": "2024-05-26T12:29:34.055116Z",
     "iopub.status.idle": "2024-05-26T12:29:34.059928Z",
     "shell.execute_reply": "2024-05-26T12:29:34.059387Z",
     "shell.execute_reply.started": "2024-05-26T12:29:34.055300Z"
    }
   },
   "outputs": [
    {
     "name": "stdout",
     "output_type": "stream",
     "text": [
      "Error: Fx Rate Index provided is not compatible with nominal and settlement currency. \n"
     ]
    }
   ],
   "source": [
    "# Ejemplo 3. Hay inconsistencia entre las monedas y el tipo de cambio del índice.\n",
    "eur = qcf.QCEUR()\n",
    "try:\n",
    "    simple_mccy_cashflow = qcf.SimpleMultiCurrencyCashflow(\n",
    "        fecha3, 1, usd, fecha3, eur, usdclp_obs, 700.00\n",
    "    )\n",
    "except ValueError as e:\n",
    "    print(\"Error:\", e)"
   ]
  },
  {
   "cell_type": "code",
   "execution_count": 62,
   "metadata": {
    "ExecuteTime": {
     "end_time": "2022-01-21T13:43:02.619460Z",
     "start_time": "2022-01-21T13:43:02.605495Z"
    },
    "execution": {
     "iopub.execute_input": "2024-05-26T12:29:34.060828Z",
     "iopub.status.busy": "2024-05-26T12:29:34.060665Z",
     "iopub.status.idle": "2024-05-26T12:29:34.064633Z",
     "shell.execute_reply": "2024-05-26T12:29:34.064077Z",
     "shell.execute_reply.started": "2024-05-26T12:29:34.060811Z"
    }
   },
   "outputs": [
    {
     "data": {
      "text/plain": [
       "('2024-11-16', 1.0, 'USD', '2024-11-16', 'CLP', 'USDOBS', 700.0, 700.0)"
      ]
     },
     "execution_count": 62,
     "metadata": {},
     "output_type": "execute_result"
    }
   ],
   "source": [
    "# Función show\n",
    "qcf.show(simple_mccy_cashflow)"
   ]
  },
  {
   "cell_type": "code",
   "execution_count": 63,
   "metadata": {
    "execution": {
     "iopub.execute_input": "2024-05-26T12:29:34.065731Z",
     "iopub.status.busy": "2024-05-26T12:29:34.065513Z",
     "iopub.status.idle": "2024-05-26T12:29:34.069100Z",
     "shell.execute_reply": "2024-05-26T12:29:34.068495Z",
     "shell.execute_reply.started": "2024-05-26T12:29:34.065713Z"
    }
   },
   "outputs": [
    {
     "data": {
      "text/plain": [
       "'SimpleMultiCurrencyCashflow'"
      ]
     },
     "execution_count": 63,
     "metadata": {},
     "output_type": "execute_result"
    }
   ],
   "source": [
    "simple_mccy_cashflow.get_type()"
   ]
  },
  {
   "cell_type": "markdown",
   "metadata": {},
   "source": [
    "### Fixed Rate Cashflow\n",
    "Un objeto de tipo `FixedRateCashflow` representa un flujo de caja calculado a partir de la aplicación de una tasa prefijada, entre dos fechas prefijadas a un nominal prefijado. Para dar de alta uno de estos objetos se requiere:\n",
    "\n",
    "- `QCDate`: fecha inicio (para la aplicación de la tasa)\n",
    "- `QCDate`: fecha final (para la aplicación de la tasa)\n",
    "- `QCDate`: fecha de pago\n",
    "- `float`: nominal (monto al que se le aplica la tasa)\n",
    "- `float`: amortización (eventual flujo de caja que corresponde a una porción del nominal)\n",
    "- `bool`: indica si la amortización anterior es un flujo de caja o sólo una disminución de nominal\n",
    "- `QCInterestRate`: la tasa de interés a aplicar (su valor y convenciones)\n",
    "- `QCCurrency`: moneda del nominal y del flujo de caja"
   ]
  },
  {
   "cell_type": "code",
   "execution_count": 64,
   "metadata": {
    "ExecuteTime": {
     "end_time": "2022-01-21T13:43:02.635039Z",
     "start_time": "2022-01-21T13:43:02.621077Z"
    },
    "execution": {
     "iopub.execute_input": "2024-05-26T12:29:34.070264Z",
     "iopub.status.busy": "2024-05-26T12:29:34.070032Z",
     "iopub.status.idle": "2024-05-26T12:29:34.073885Z",
     "shell.execute_reply": "2024-05-26T12:29:34.073345Z",
     "shell.execute_reply.started": "2024-05-26T12:29:34.070245Z"
    }
   },
   "outputs": [],
   "source": [
    "# Ejemplo\n",
    "fecha_inicio = qcf.QCDate(20, 9, 2018)\n",
    "fecha_final = qcf.QCDate(20, 9, 2019)\n",
    "fecha_pago = qcf.QCDate(23, 9, 2019)\n",
    "tasa = qcf.QCInterestRate(0.1, act360, lin_wf)\n",
    "fixed_rate_cashflow = qcf.FixedRateCashflow(\n",
    "    fecha_inicio, \n",
    "    fecha_final, \n",
    "    fecha_pago, \n",
    "    1_000_000_000.0, \n",
    "    100_000_000.0, \n",
    "    True, \n",
    "    tasa, \n",
    "    clp\n",
    ")"
   ]
  },
  {
   "cell_type": "code",
   "execution_count": 65,
   "metadata": {
    "ExecuteTime": {
     "end_time": "2022-01-21T13:43:02.650997Z",
     "start_time": "2022-01-21T13:43:02.637034Z"
    },
    "execution": {
     "iopub.execute_input": "2024-05-26T12:29:34.074984Z",
     "iopub.status.busy": "2024-05-26T12:29:34.074751Z",
     "iopub.status.idle": "2024-05-26T12:29:34.078601Z",
     "shell.execute_reply": "2024-05-26T12:29:34.078068Z",
     "shell.execute_reply.started": "2024-05-26T12:29:34.074965Z"
    }
   },
   "outputs": [
    {
     "name": "stdout",
     "output_type": "stream",
     "text": [
      "Fecha Inicio: 2018-09-20\n",
      "Fecha Final: 2019-09-20\n",
      "Fecha Pago: 2019-09-23\n",
      "Moneda: CLP\n",
      "Nominal: 1,000,000,000\n",
      "Amortización: 100,000,000\n"
     ]
    }
   ],
   "source": [
    "# Getters\n",
    "print(\"Fecha Inicio:\", fixed_rate_cashflow.get_start_date())\n",
    "print(\"Fecha Final:\", fixed_rate_cashflow.get_end_date())\n",
    "print(\"Fecha Pago:\", fixed_rate_cashflow.get_settlement_date())\n",
    "print(\"Moneda:\", fixed_rate_cashflow.ccy().get_iso_code())\n",
    "print(f\"Nominal: {fixed_rate_cashflow.get_nominal():,.0f}\")\n",
    "print(f\"Amortización: {fixed_rate_cashflow.get_amortization():,.0f}\")"
   ]
  },
  {
   "cell_type": "code",
   "execution_count": 66,
   "metadata": {
    "ExecuteTime": {
     "end_time": "2022-01-21T13:43:02.666955Z",
     "start_time": "2022-01-21T13:43:02.652992Z"
    },
    "execution": {
     "iopub.execute_input": "2024-05-26T12:29:34.079766Z",
     "iopub.status.busy": "2024-05-26T12:29:34.079542Z",
     "iopub.status.idle": "2024-05-26T12:29:34.083514Z",
     "shell.execute_reply": "2024-05-26T12:29:34.082939Z",
     "shell.execute_reply.started": "2024-05-26T12:29:34.079748Z"
    }
   },
   "outputs": [
    {
     "name": "stdout",
     "output_type": "stream",
     "text": [
      "Nuevo nominal: 2,000,000,000\n",
      "Nueva amortización: 200,000,000\n"
     ]
    }
   ],
   "source": [
    "# Setters\n",
    "# TODO: set_rate\n",
    "nuevo_nominal = 2_000_000_000.0\n",
    "fixed_rate_cashflow.set_nominal(nuevo_nominal)\n",
    "print(f\"Nuevo nominal: {fixed_rate_cashflow.get_nominal():,.0f}\")\n",
    "\n",
    "nueva_amortizacion = 200_000_000.0\n",
    "fixed_rate_cashflow.set_amortization(nueva_amortizacion)\n",
    "print(f\"Nueva amortización: {fixed_rate_cashflow.get_amortization():,.0f}\")"
   ]
  },
  {
   "cell_type": "code",
   "execution_count": 67,
   "metadata": {
    "ExecuteTime": {
     "end_time": "2022-01-21T13:43:02.681915Z",
     "start_time": "2022-01-21T13:43:02.667952Z"
    },
    "execution": {
     "iopub.execute_input": "2024-05-26T12:29:34.102212Z",
     "iopub.status.busy": "2024-05-26T12:29:34.101954Z",
     "iopub.status.idle": "2024-05-26T12:29:34.106631Z",
     "shell.execute_reply": "2024-05-26T12:29:34.106015Z",
     "shell.execute_reply.started": "2024-05-26T12:29:34.102191Z"
    }
   },
   "outputs": [
    {
     "name": "stdout",
     "output_type": "stream",
     "text": [
      "Flujo Total: 402,777,778\n",
      "Check: 402,777,778\n",
      "\n",
      "Interés Devengado: 57,777,778\n",
      "Check: 57,777,778\n"
     ]
    }
   ],
   "source": [
    "# Cálculos\n",
    "print(f\"Flujo Total: {fixed_rate_cashflow.amount():,.0f}\")\n",
    "print(f\"Check: {fixed_rate_cashflow.get_nominal() * 0.1 * 365.0 / 360 + fixed_rate_cashflow.get_amortization():,.0f}\")\n",
    "print()\n",
    "fecha_intermedia = qcf.QCDate(2, 1, 2019)\n",
    "print(f\"Interés Devengado: {fixed_rate_cashflow.accrued_interest(fecha_intermedia):,.0f}\")\n",
    "print(f\"Check: {fixed_rate_cashflow.get_nominal() * 0.1 * fecha_inicio.day_diff(fecha_intermedia) / 360.0:,.0f}\")"
   ]
  },
  {
   "cell_type": "code",
   "execution_count": 68,
   "metadata": {
    "ExecuteTime": {
     "end_time": "2022-01-21T13:43:02.696875Z",
     "start_time": "2022-01-21T13:43:02.682912Z"
    },
    "execution": {
     "iopub.execute_input": "2024-05-26T12:29:34.107721Z",
     "iopub.status.busy": "2024-05-26T12:29:34.107550Z",
     "iopub.status.idle": "2024-05-26T12:29:34.111305Z",
     "shell.execute_reply": "2024-05-26T12:29:34.110568Z",
     "shell.execute_reply.started": "2024-05-26T12:29:34.107703Z"
    }
   },
   "outputs": [
    {
     "name": "stdout",
     "output_type": "stream",
     "text": [
      "('2018-09-20', '2019-09-20', '2019-09-23', 2000000000.0, 200000000.0, 202777777.77777794, True, 402777777.7777779, 'CLP', 0.1, 'LinAct360')\n"
     ]
    }
   ],
   "source": [
    "# Función show\n",
    "print(qcf.show(fixed_rate_cashflow))"
   ]
  },
  {
   "cell_type": "code",
   "execution_count": 69,
   "metadata": {
    "ExecuteTime": {
     "end_time": "2022-01-21T13:43:02.712832Z",
     "start_time": "2022-01-21T13:43:02.698869Z"
    },
    "execution": {
     "iopub.execute_input": "2024-05-26T12:29:34.112515Z",
     "iopub.status.busy": "2024-05-26T12:29:34.112186Z",
     "iopub.status.idle": "2024-05-26T12:29:34.115725Z",
     "shell.execute_reply": "2024-05-26T12:29:34.115063Z",
     "shell.execute_reply.started": "2024-05-26T12:29:34.112495Z"
    }
   },
   "outputs": [
    {
     "name": "stdout",
     "output_type": "stream",
     "text": [
      "Interés total: al 202,777,778\n"
     ]
    }
   ],
   "source": [
    "print(f\"Interés total: al {fixed_rate_cashflow.accrued_interest(fixed_rate_cashflow.get_end_date()):,.0f}\")"
   ]
  },
  {
   "cell_type": "code",
   "execution_count": 70,
   "metadata": {
    "execution": {
     "iopub.execute_input": "2024-05-26T12:29:34.116825Z",
     "iopub.status.busy": "2024-05-26T12:29:34.116598Z",
     "iopub.status.idle": "2024-05-26T12:29:34.120346Z",
     "shell.execute_reply": "2024-05-26T12:29:34.119854Z",
     "shell.execute_reply.started": "2024-05-26T12:29:34.116806Z"
    }
   },
   "outputs": [
    {
     "data": {
      "text/plain": [
       "'FixedRateCashflow'"
      ]
     },
     "execution_count": 70,
     "metadata": {},
     "output_type": "execute_result"
    }
   ],
   "source": [
    "fixed_rate_cashflow.get_type()"
   ]
  },
  {
   "cell_type": "markdown",
   "metadata": {},
   "source": [
    "### Fixed Rate Multi Currency Cashflow\n",
    "Un objeto de tipo `FixedRateMultiCurrencyCashflow` representa un flujo de caja a tasa fija (`FixedRateCashflow`) que se liquidará en una moneda distinta de la moneda del nominal utilizando el valor a una cierta fecha de un índice de tipo de cambio prefijado. Para dar de alta uno de estos objetos se requiere:\n",
    "\n",
    "- `QCDate`: fecha inicio (para la aplicación de la tasa)\n",
    "- `QCDate`: fecha final (para la aplicación de la tasa)\n",
    "- `QCDate`: fecha de pago\n",
    "- `float`: nominal (monto al que se le aplica la tasa)\n",
    "- `float`: amortización (eventual flujo de caja que corresponde a una porción del nominal)\n",
    "- `bool`: indica si la amortización anterior es un flujo de caja o sólo una disminución de nominal\n",
    "- `QCInterestRate`: la tasa de interés a aplicar (su valor y convenciones)\n",
    "- `QCCurrency`: moneda del nominal\n",
    "- `QCDate`: fecha de publicación del índice de tipo de cambio\n",
    "- `QCCurrency`: moneda en la que se liquida el flujo\n",
    "- `FXRateIndex`: índice de tipo de cambio a utilizar\n",
    "- `float`: valor del índice de tipo de cambio"
   ]
  },
  {
   "cell_type": "code",
   "execution_count": 71,
   "metadata": {
    "ExecuteTime": {
     "end_time": "2022-01-21T13:43:02.852459Z",
     "start_time": "2022-01-21T13:43:02.838497Z"
    },
    "execution": {
     "iopub.execute_input": "2024-05-26T12:29:34.121158Z",
     "iopub.status.busy": "2024-05-26T12:29:34.120998Z",
     "iopub.status.idle": "2024-05-26T12:29:34.125771Z",
     "shell.execute_reply": "2024-05-26T12:29:34.125079Z",
     "shell.execute_reply.started": "2024-05-26T12:29:34.121140Z"
    }
   },
   "outputs": [
    {
     "name": "stdout",
     "output_type": "stream",
     "text": [
      "<qcfinancial.FixedRateMultiCurrencyCashflow object at 0x1074a8730>\n"
     ]
    }
   ],
   "source": [
    "# Ejemplo\n",
    "fecha_inicio = qcf.QCDate(20, 9, 2018)\n",
    "fecha_final = qcf.QCDate(20, 9, 2019)\n",
    "fecha_pago = qcf.QCDate(23, 9, 2019)\n",
    "fecha_publicacion = qcf.QCDate(23, 9, 2019)\n",
    "usd = qcf.QCUSD()\n",
    "indice = usdclp_obs\n",
    "valor_indice = 20.0\n",
    "nominal = 1_000.0\n",
    "amort = 1_000.0\n",
    "fixed_rate_mccy_cashflow = qcf.FixedRateMultiCurrencyCashflow(\n",
    "    fecha_inicio,\n",
    "    fecha_final,\n",
    "    fecha_pago,\n",
    "    nominal,\n",
    "    amort,\n",
    "    False,\n",
    "    tasa,\n",
    "    usd,\n",
    "    fecha_publicacion,\n",
    "    clp,\n",
    "    indice,\n",
    "    valor_indice,\n",
    ")\n",
    "print(fixed_rate_mccy_cashflow)"
   ]
  },
  {
   "cell_type": "markdown",
   "metadata": {},
   "source": [
    "**TODO: get_rate.** Este getter no debe ser un getter tradicional, ya que no es necesario que retorne una referencia a todo el objeto ``QCInterestRate``, basta con el valor y la descripción de yf y wf asociado (mejor llamarlo get_rate_info)."
   ]
  },
  {
   "cell_type": "code",
   "execution_count": 72,
   "metadata": {
    "ExecuteTime": {
     "end_time": "2022-01-21T13:43:02.868416Z",
     "start_time": "2022-01-21T13:43:02.853456Z"
    },
    "execution": {
     "iopub.execute_input": "2024-05-26T12:29:34.126792Z",
     "iopub.status.busy": "2024-05-26T12:29:34.126580Z",
     "iopub.status.idle": "2024-05-26T12:29:34.130870Z",
     "shell.execute_reply": "2024-05-26T12:29:34.130364Z",
     "shell.execute_reply.started": "2024-05-26T12:29:34.126774Z"
    }
   },
   "outputs": [
    {
     "name": "stdout",
     "output_type": "stream",
     "text": [
      "Fecha Inicio: 2018-09-20\n",
      "Fecha Final: 2019-09-20\n",
      "Fecha Pago: 2019-09-23\n",
      "Fecha Fijación Índice FX: 2019-09-23\n",
      "Moneda del Nominal: USD\n",
      "Nominal: 1,000\n",
      "Amortización: 1,000\n",
      "Moneda de Liquidación: CLP\n"
     ]
    }
   ],
   "source": [
    "# Getters\n",
    "print(\"Fecha Inicio:\", fixed_rate_mccy_cashflow.get_start_date())\n",
    "print(\"Fecha Final:\", fixed_rate_mccy_cashflow.get_end_date())\n",
    "print(\"Fecha Pago:\", fixed_rate_mccy_cashflow.get_settlement_date())\n",
    "print(\"Fecha Fijación Índice FX:\", fixed_rate_mccy_cashflow.get_fx_fixing_date())\n",
    "print(\"Moneda del Nominal:\", fixed_rate_mccy_cashflow.ccy())\n",
    "print(f\"Nominal: {fixed_rate_mccy_cashflow.get_nominal():,.0f}\")\n",
    "print(f\"Amortización: {fixed_rate_mccy_cashflow.get_amortization():,.0f}\")\n",
    "print(\"Moneda de Liquidación:\", fixed_rate_mccy_cashflow.settlement_currency())"
   ]
  },
  {
   "cell_type": "markdown",
   "metadata": {},
   "source": [
    "**TODO: set_rate_value.** Debe establecer el valor de la tasa de interés."
   ]
  },
  {
   "cell_type": "code",
   "execution_count": 73,
   "metadata": {
    "ExecuteTime": {
     "end_time": "2022-01-21T13:43:02.884373Z",
     "start_time": "2022-01-21T13:43:02.870411Z"
    },
    "execution": {
     "iopub.execute_input": "2024-05-26T12:29:34.131867Z",
     "iopub.status.busy": "2024-05-26T12:29:34.131704Z",
     "iopub.status.idle": "2024-05-26T12:29:34.135276Z",
     "shell.execute_reply": "2024-05-26T12:29:34.134746Z",
     "shell.execute_reply.started": "2024-05-26T12:29:34.131850Z"
    }
   },
   "outputs": [
    {
     "name": "stdout",
     "output_type": "stream",
     "text": [
      "Nuevo nominal: 100.0\n",
      "Nueva amortización: 10.0\n"
     ]
    }
   ],
   "source": [
    "# Setters\n",
    "nuevo_nominal = 100.0\n",
    "fixed_rate_mccy_cashflow.set_nominal(nuevo_nominal)\n",
    "print(f\"Nuevo nominal: {fixed_rate_mccy_cashflow.get_nominal():,.1f}\")\n",
    "\n",
    "nueva_amortizacion = 10.0\n",
    "fixed_rate_mccy_cashflow.set_amortization(nueva_amortizacion)\n",
    "print(f\"Nueva amortización: {fixed_rate_mccy_cashflow.get_amortization():,.1f}\")"
   ]
  },
  {
   "cell_type": "code",
   "execution_count": 74,
   "metadata": {
    "ExecuteTime": {
     "end_time": "2022-01-21T13:43:02.900331Z",
     "start_time": "2022-01-21T13:43:02.885371Z"
    },
    "execution": {
     "iopub.execute_input": "2024-05-26T12:29:34.136414Z",
     "iopub.status.busy": "2024-05-26T12:29:34.136223Z",
     "iopub.status.idle": "2024-05-26T12:29:34.140392Z",
     "shell.execute_reply": "2024-05-26T12:29:34.139818Z",
     "shell.execute_reply.started": "2024-05-26T12:29:34.136396Z"
    }
   },
   "outputs": [
    {
     "name": "stdout",
     "output_type": "stream",
     "text": [
      "Flujo Total: 101.39\n",
      "Check: 2,027.78\n",
      "\n",
      "Interés Devengado: 28.89\n",
      "Check: 28.89\n"
     ]
    }
   ],
   "source": [
    "# Cálculos\n",
    "fixed_rate_mccy_cashflow.set_nominal(nominal)\n",
    "fixed_rate_mccy_cashflow.set_amortization(amort)\n",
    "print(f\"Flujo Total: {fixed_rate_mccy_cashflow.amount():,.2f}\")\n",
    "print(f\"Check: {(fixed_rate_mccy_cashflow.get_nominal() * 0.1 * 365.0 / 360) * valor_indice:,.2f}\")\n",
    "print()\n",
    "fecha_intermedia = qcf.QCDate(2, 1, 2019)\n",
    "print(f\"Interés Devengado: {fixed_rate_mccy_cashflow.accrued_interest(fecha_intermedia):,.02f}\")\n",
    "print(f\"Check: {fixed_rate_mccy_cashflow.get_nominal() * 0.1 * fecha_inicio.day_diff(fecha_intermedia) / 360.0:,.02f}\")"
   ]
  },
  {
   "cell_type": "code",
   "execution_count": 75,
   "metadata": {
    "ExecuteTime": {
     "end_time": "2022-01-21T13:43:02.915291Z",
     "start_time": "2022-01-21T13:43:02.901329Z"
    },
    "execution": {
     "iopub.execute_input": "2024-05-26T12:29:34.141599Z",
     "iopub.status.busy": "2024-05-26T12:29:34.141371Z",
     "iopub.status.idle": "2024-05-26T12:29:34.144132Z",
     "shell.execute_reply": "2024-05-26T12:29:34.143508Z",
     "shell.execute_reply.started": "2024-05-26T12:29:34.141581Z"
    }
   },
   "outputs": [],
   "source": [
    "ts = qcf.time_series()"
   ]
  },
  {
   "cell_type": "code",
   "execution_count": 76,
   "metadata": {
    "ExecuteTime": {
     "end_time": "2022-01-21T13:43:02.930251Z",
     "start_time": "2022-01-21T13:43:02.916289Z"
    },
    "execution": {
     "iopub.execute_input": "2024-05-26T12:29:34.145215Z",
     "iopub.status.busy": "2024-05-26T12:29:34.144952Z",
     "iopub.status.idle": "2024-05-26T12:29:34.147828Z",
     "shell.execute_reply": "2024-05-26T12:29:34.147318Z",
     "shell.execute_reply.started": "2024-05-26T12:29:34.145198Z"
    }
   },
   "outputs": [],
   "source": [
    "ts[fecha_inicio] = 10"
   ]
  },
  {
   "cell_type": "code",
   "execution_count": 77,
   "metadata": {
    "ExecuteTime": {
     "end_time": "2022-01-21T13:43:02.946209Z",
     "start_time": "2022-01-21T13:43:02.931249Z"
    },
    "execution": {
     "iopub.execute_input": "2024-05-26T12:29:34.148961Z",
     "iopub.status.busy": "2024-05-26T12:29:34.148772Z",
     "iopub.status.idle": "2024-05-26T12:29:34.152571Z",
     "shell.execute_reply": "2024-05-26T12:29:34.151802Z",
     "shell.execute_reply.started": "2024-05-26T12:29:34.148944Z"
    }
   },
   "outputs": [
    {
     "data": {
      "text/plain": [
       "10.0"
      ]
     },
     "execution_count": 77,
     "metadata": {},
     "output_type": "execute_result"
    }
   ],
   "source": [
    "ts[fecha_inicio]"
   ]
  },
  {
   "cell_type": "code",
   "execution_count": 78,
   "metadata": {
    "ExecuteTime": {
     "end_time": "2022-01-21T13:43:02.962166Z",
     "start_time": "2022-01-21T13:43:02.948204Z"
    },
    "execution": {
     "iopub.execute_input": "2024-05-26T12:29:34.154069Z",
     "iopub.status.busy": "2024-05-26T12:29:34.153612Z",
     "iopub.status.idle": "2024-05-26T12:29:34.157412Z",
     "shell.execute_reply": "2024-05-26T12:29:34.156707Z",
     "shell.execute_reply.started": "2024-05-26T12:29:34.154037Z"
    }
   },
   "outputs": [],
   "source": [
    "ts[fecha_intermedia] = 15"
   ]
  },
  {
   "cell_type": "code",
   "execution_count": 79,
   "metadata": {
    "ExecuteTime": {
     "end_time": "2022-01-21T13:43:02.978123Z",
     "start_time": "2022-01-21T13:43:02.964161Z"
    },
    "execution": {
     "iopub.execute_input": "2024-05-26T12:29:34.158671Z",
     "iopub.status.busy": "2024-05-26T12:29:34.158407Z",
     "iopub.status.idle": "2024-05-26T12:29:34.162203Z",
     "shell.execute_reply": "2024-05-26T12:29:34.161446Z",
     "shell.execute_reply.started": "2024-05-26T12:29:34.158651Z"
    }
   },
   "outputs": [
    {
     "name": "stdout",
     "output_type": "stream",
     "text": [
      "288.88888888888965\n"
     ]
    }
   ],
   "source": [
    "print(fixed_rate_mccy_cashflow.accrued_interest(fecha_intermedia, fecha_inicio, ts))"
   ]
  },
  {
   "cell_type": "code",
   "execution_count": 80,
   "metadata": {
    "ExecuteTime": {
     "end_time": "2022-01-21T13:43:02.993083Z",
     "start_time": "2022-01-21T13:43:02.979121Z"
    },
    "execution": {
     "iopub.execute_input": "2024-05-26T12:29:34.163149Z",
     "iopub.status.busy": "2024-05-26T12:29:34.162967Z",
     "iopub.status.idle": "2024-05-26T12:29:34.166618Z",
     "shell.execute_reply": "2024-05-26T12:29:34.165957Z",
     "shell.execute_reply.started": "2024-05-26T12:29:34.163130Z"
    }
   },
   "outputs": [
    {
     "name": "stdout",
     "output_type": "stream",
     "text": [
      "433.33333333333445\n"
     ]
    }
   ],
   "source": [
    "print(fixed_rate_mccy_cashflow.accrued_interest(fecha_intermedia, fecha_intermedia, ts))"
   ]
  },
  {
   "cell_type": "code",
   "execution_count": 81,
   "metadata": {
    "ExecuteTime": {
     "end_time": "2022-01-21T13:43:03.039958Z",
     "start_time": "2022-01-21T13:43:03.025996Z"
    },
    "execution": {
     "iopub.execute_input": "2024-05-26T12:29:34.167667Z",
     "iopub.status.busy": "2024-05-26T12:29:34.167454Z",
     "iopub.status.idle": "2024-05-26T12:29:34.170820Z",
     "shell.execute_reply": "2024-05-26T12:29:34.170228Z",
     "shell.execute_reply.started": "2024-05-26T12:29:34.167646Z"
    }
   },
   "outputs": [
    {
     "name": "stdout",
     "output_type": "stream",
     "text": [
      "('2018-09-20', '2019-09-20', '2019-09-23', 1000.0, 1000.0, 101.38888888888897, False, 101.38888888888897, 'USD', 0.1, 'LinAct360', '2019-09-23', 'CLP', 'USDOBS', 20.0, 20000.0, 2027.7777777777794)\n"
     ]
    }
   ],
   "source": [
    "# Función show\n",
    "print(qcf.show(fixed_rate_mccy_cashflow))"
   ]
  },
  {
   "cell_type": "code",
   "execution_count": 82,
   "metadata": {
    "execution": {
     "iopub.execute_input": "2024-05-26T12:29:34.171939Z",
     "iopub.status.busy": "2024-05-26T12:29:34.171673Z",
     "iopub.status.idle": "2024-05-26T12:29:34.176193Z",
     "shell.execute_reply": "2024-05-26T12:29:34.175670Z",
     "shell.execute_reply.started": "2024-05-26T12:29:34.171919Z"
    }
   },
   "outputs": [
    {
     "data": {
      "text/plain": [
       "'FixedRateMultiCurrencyCashflow'"
      ]
     },
     "execution_count": 82,
     "metadata": {},
     "output_type": "execute_result"
    }
   ],
   "source": [
    "fixed_rate_mccy_cashflow.get_type()"
   ]
  },
  {
   "cell_type": "markdown",
   "metadata": {},
   "source": [
    "### Fixed Rate Cashflow 2\n",
    "Un objeto de tipo `FixedRateCashflow2` representa un flujo de caja calculado a partir de la aplicación de una tasa prefijada, entre dos fechas prefijadas a un nominal prefijado. Este tipo de cashflow puede ser *quantizado*, es decir, se puede cambiar su moneda de pago componiéndolo con un objeto adicional. Para dar de alta uno de estos objetos se requiere:\n",
    "\n",
    "- `QCDate`: fecha inicio (para la aplicación de la tasa)\n",
    "- `QCDate`: fecha final (para la aplicación de la tasa)\n",
    "- `QCDate`: fecha de pago\n",
    "- `float`: nominal (monto al que se le aplica la tasa)\n",
    "- `float`: amortización (eventual flujo de caja que corresponde a una porción del nominal)\n",
    "- `bool`: indica si la amortización anterior es un flujo de caja o sólo una disminución de nominal\n",
    "- `QCInterestRate`: la tasa de interés a aplicar (su valor y convenciones)\n",
    "- `QCCurrency`: moneda del nominal y del flujo de caja"
   ]
  },
  {
   "cell_type": "code",
   "execution_count": 83,
   "metadata": {
    "ExecuteTime": {
     "end_time": "2022-01-21T13:43:02.728789Z",
     "start_time": "2022-01-21T13:43:02.713829Z"
    },
    "execution": {
     "iopub.execute_input": "2024-05-26T12:29:34.177189Z",
     "iopub.status.busy": "2024-05-26T12:29:34.177025Z",
     "iopub.status.idle": "2024-05-26T12:29:34.180776Z",
     "shell.execute_reply": "2024-05-26T12:29:34.180125Z",
     "shell.execute_reply.started": "2024-05-26T12:29:34.177172Z"
    }
   },
   "outputs": [],
   "source": [
    "# Ejemplo\n",
    "fecha_inicio = qcf.QCDate(20, 9, 2018)\n",
    "fecha_final = qcf.QCDate(20, 9, 2019)\n",
    "fecha_pago = qcf.QCDate(23, 9, 2019)\n",
    "tasa = qcf.QCInterestRate(0.15, act360, lin_wf)\n",
    "fixed_rate_cashflow_2 = qcf.FixedRateCashflow2(\n",
    "    fecha_inicio, \n",
    "    fecha_final, \n",
    "    fecha_pago, \n",
    "    1_000_000_000.0,\n",
    "    100_000_000.0, \n",
    "    True, \n",
    "    tasa, \n",
    "    clp\n",
    ")"
   ]
  },
  {
   "cell_type": "code",
   "execution_count": 84,
   "metadata": {
    "ExecuteTime": {
     "end_time": "2022-01-21T13:43:02.744747Z",
     "start_time": "2022-01-21T13:43:02.730784Z"
    },
    "execution": {
     "iopub.execute_input": "2024-05-26T12:29:34.181786Z",
     "iopub.status.busy": "2024-05-26T12:29:34.181563Z",
     "iopub.status.idle": "2024-05-26T12:29:34.184884Z",
     "shell.execute_reply": "2024-05-26T12:29:34.184295Z",
     "shell.execute_reply.started": "2024-05-26T12:29:34.181768Z"
    }
   },
   "outputs": [
    {
     "name": "stdout",
     "output_type": "stream",
     "text": [
      "Accrued Fixing: 15.00%\n"
     ]
    }
   ],
   "source": [
    "print(f\"Accrued Fixing: {fixed_rate_cashflow_2.accrued_fixing(fecha_inicio):.2%}\")"
   ]
  },
  {
   "cell_type": "code",
   "execution_count": 85,
   "metadata": {
    "ExecuteTime": {
     "end_time": "2022-01-21T13:43:02.760704Z",
     "start_time": "2022-01-21T13:43:02.745744Z"
    },
    "execution": {
     "iopub.execute_input": "2024-05-26T12:29:34.185863Z",
     "iopub.status.busy": "2024-05-26T12:29:34.185673Z",
     "iopub.status.idle": "2024-05-26T12:29:34.192520Z",
     "shell.execute_reply": "2024-05-26T12:29:34.191844Z",
     "shell.execute_reply.started": "2024-05-26T12:29:34.185845Z"
    }
   },
   "outputs": [
    {
     "name": "stdout",
     "output_type": "stream",
     "text": [
      "amount: 252,083,333\n",
      "currency: CLP\n",
      "date: 2019-09-23\n",
      "start date: 2018-09-20\n",
      "end date: 2019-09-20\n",
      "settlement date: 2019-09-23\n",
      "fixing dates:\n",
      "\t 2018-09-20\n",
      "nominal: 1,000,000,000\n",
      "amortization: 100,000,000\n",
      "interest (1st overload): 152,083,333\n",
      "interest (2nd overload): 152,083,333\n",
      "fixing (1st overload): 15.00%\n",
      "fixing (2nd overload): 15.00%\n",
      "accrued interest (1st overload): 75,416,667\n",
      "accrued interest (2nd overload): 75,416,667\n",
      "accrued fixing (1st overload): 15.00%\n",
      "accrued fixing (2nd overload): 15.00%\n"
     ]
    }
   ],
   "source": [
    "print(f\"amount: {fixed_rate_cashflow_2.amount():,.0f}\")\n",
    "print(\"currency:\", fixed_rate_cashflow_2.ccy().get_iso_code())\n",
    "print(\"date:\", fixed_rate_cashflow_2.date())\n",
    "print(\"start date:\", fixed_rate_cashflow_2.get_start_date())\n",
    "print(\"end date:\", fixed_rate_cashflow_2.get_end_date())\n",
    "print(\"settlement date:\", fixed_rate_cashflow_2.get_settlement_date())\n",
    "print(\"fixing dates:\")\n",
    "for f in fixed_rate_cashflow_2.get_fixing_dates():\n",
    "    print(\"\\t\", f)\n",
    "print(f\"nominal: {fixed_rate_cashflow_2.get_nominal():,.0f}\")\n",
    "print(f\"amortization: {fixed_rate_cashflow_2.get_amortization():,.0f}\")\n",
    "print(f\"interest (1st overload): {fixed_rate_cashflow_2.interest():,.0f}\")\n",
    "\n",
    "ts = qcf.time_series()\n",
    "print(f\"interest (2nd overload): {fixed_rate_cashflow_2.interest(ts):,.0f}\")\n",
    "print(f\"fixing (1st overload): {fixed_rate_cashflow_2.fixing():.2%}\")\n",
    "print(f\"fixing (2nd overload): {fixed_rate_cashflow_2.fixing(ts):.2%}\")\n",
    "fecha_intermedia = qcf.QCDate(20, 3, 2019)\n",
    "print(f\"accrued interest (1st overload): {fixed_rate_cashflow_2.accrued_interest(fecha_intermedia):,.0f}\")\n",
    "print(f\"accrued interest (2nd overload): {fixed_rate_cashflow_2.accrued_interest(fecha_intermedia, ts):,.0f}\")\n",
    "print(f\"accrued fixing (1st overload): {fixed_rate_cashflow_2.accrued_fixing(fecha_intermedia):.2%}\")\n",
    "print(f\"accrued fixing (2nd overload): {fixed_rate_cashflow_2.accrued_fixing(fecha_intermedia, ts):,.2%}\")"
   ]
  },
  {
   "cell_type": "code",
   "execution_count": 86,
   "metadata": {
    "execution": {
     "iopub.execute_input": "2024-05-26T12:29:34.193413Z",
     "iopub.status.busy": "2024-05-26T12:29:34.193245Z",
     "iopub.status.idle": "2024-05-26T12:29:34.197191Z",
     "shell.execute_reply": "2024-05-26T12:29:34.196539Z",
     "shell.execute_reply.started": "2024-05-26T12:29:34.193395Z"
    }
   },
   "outputs": [
    {
     "data": {
      "text/plain": [
       "'FixedRateCashflow2'"
      ]
     },
     "execution_count": 86,
     "metadata": {},
     "output_type": "execute_result"
    }
   ],
   "source": [
    "fixed_rate_cashflow_2.get_type()"
   ]
  },
  {
   "cell_type": "code",
   "execution_count": 87,
   "metadata": {
    "execution": {
     "iopub.execute_input": "2024-05-26T12:29:34.198300Z",
     "iopub.status.busy": "2024-05-26T12:29:34.198055Z",
     "iopub.status.idle": "2024-05-26T12:29:34.202263Z",
     "shell.execute_reply": "2024-05-26T12:29:34.201751Z",
     "shell.execute_reply.started": "2024-05-26T12:29:34.198281Z"
    }
   },
   "outputs": [
    {
     "data": {
      "text/plain": [
       "('2018-09-20',\n",
       " '2019-09-20',\n",
       " '2019-09-23',\n",
       " 1000000000.0,\n",
       " 100000000.0,\n",
       " 152083333.33333334,\n",
       " True,\n",
       " 252083333.33333334,\n",
       " 'CLP',\n",
       " 0.15,\n",
       " 'LinAct360')"
      ]
     },
     "execution_count": 87,
     "metadata": {},
     "output_type": "execute_result"
    }
   ],
   "source": [
    "qcf.show(fixed_rate_cashflow_2)"
   ]
  },
  {
   "cell_type": "markdown",
   "metadata": {},
   "source": [
    "### Ibor Cashflow\n",
    "Un objeto de tipo `IborCashflow` representa un flujo de caja calculado a partir de la aplicación de una tasa flotante fijada en una cierta fecha (Libor, Euribor, TAB, ...) , entre dos fechas prefijadas a un nominal prefijado. Para dar de alta uno de estos objetos se requiere:\n",
    "\n",
    "- `InterestRateIndex`: el índice de tasa de interés prefijado\n",
    "- `QCDate`: fecha inicio (para la aplicación de la tasa)\n",
    "- `QCDate`: fecha final (para la aplicación de la tasa)\n",
    "- `QCDate`: fecha de fijación del índice de tasa de interés \n",
    "- `QCDate`: fecha de pago\n",
    "- `float`: nominal (monto al que se le aplica la tasa)\n",
    "- `float`: amortización (eventual flujo de caja que corresponde a una porción del nominal)\n",
    "- `bool`: indica si la amortización anterior es un flujo de caja o sólo una disminución de nominal\n",
    "- `QCCurrency`: moneda del nominal y del flujo de caja\n",
    "- `float`: spread aditivo a aplicar a la fijación del índice\n",
    "- `float`: spread multiplicativo o gearing a aplicar a la fijación del índice\n",
    "\n",
    "Para dar de alta un `InterestRateIndex` se requiere:\n",
    "\n",
    "- `str`: código del índice\n",
    "- `QCInterestRate`: un objeto tasa de interés que contenga las convenciones del índice\n",
    "- `Tenor`: el lag de inicio del índice respecto a la fecha de fixing (por ejemplo 2d para Libor USD)\n",
    "- `Tenor`: el tenor del índice (3M por ejemplo para Libor USD 3M)\n",
    "- `QCBusinessCalendar`: el calendario de fixing\n",
    "- `QCBusinessCalendar`: el calendario de pago\n",
    "- `QCCurrency`: la moneda a la que corresponde el índice (por ejemplo EUR para EURIBOR 3M)\n"
   ]
  },
  {
   "cell_type": "markdown",
   "metadata": {},
   "source": [
    "**TODO: agregar end_date_adjustment al objeto (FOLLOW o MOD FOLLOW).** Esto debiera tener un correspondiente cambio en la BBDD de Front Desk."
   ]
  },
  {
   "cell_type": "code",
   "execution_count": 88,
   "metadata": {
    "ExecuteTime": {
     "end_time": "2022-01-21T13:43:03.054918Z",
     "start_time": "2022-01-21T13:43:03.040956Z"
    },
    "execution": {
     "iopub.execute_input": "2024-05-26T12:29:34.203233Z",
     "iopub.status.busy": "2024-05-26T12:29:34.203069Z",
     "iopub.status.idle": "2024-05-26T12:29:34.209298Z",
     "shell.execute_reply": "2024-05-26T12:29:34.208678Z",
     "shell.execute_reply.started": "2024-05-26T12:29:34.203216Z"
    }
   },
   "outputs": [
    {
     "name": "stdout",
     "output_type": "stream",
     "text": [
      "Tenor: 3M\n",
      "Tasa: 0.000000 Act360 Lin\n",
      "\n",
      "Fixing Tasa: 0.010000 Act360 Lin\n",
      "Fecha Inicio: 2018-09-24\n",
      "Fecha Final: 2018-12-24\n"
     ]
    }
   ],
   "source": [
    "# Se define el índice\n",
    "codigo = \"LIBORUSD3M\"\n",
    "lin_act360 = qcf.QCInterestRate(0.0, act360, lin_wf)\n",
    "fixing_lag = qcf.Tenor(\"2d\")\n",
    "tenor = qcf.Tenor(\"3m\")\n",
    "fixing_calendar = scl  # No es el calendario correcto, pero sirve para el ejemplo\n",
    "settlement_calendar = scl  # Ídem arriba\n",
    "libor_usd_3m = qcf.InterestRateIndex(\n",
    "    codigo, \n",
    "    lin_act360, \n",
    "    fixing_lag, \n",
    "    tenor, \n",
    "    fixing_calendar, \n",
    "    settlement_calendar, \n",
    "    usd\n",
    ")\n",
    "\n",
    "# Getters\n",
    "print(\"Tenor:\", libor_usd_3m.get_tenor())\n",
    "print(\"Tasa:\", libor_usd_3m.get_rate())\n",
    "print()\n",
    "\n",
    "# Para construir un fixing en particular\n",
    "libor_usd_3m.set_rate_value(0.01)\n",
    "print(\"Fixing Tasa:\", libor_usd_3m.get_rate())\n",
    "fecha_fixing = qcf.QCDate(20, 9, 2018)\n",
    "print(\"Fecha Inicio:\", libor_usd_3m.get_start_date(fecha_fixing))\n",
    "print(\"Fecha Final:\", libor_usd_3m.get_end_date(fecha_fixing))"
   ]
  },
  {
   "cell_type": "code",
   "execution_count": 89,
   "metadata": {
    "ExecuteTime": {
     "end_time": "2022-01-21T13:43:03.070875Z",
     "start_time": "2022-01-21T13:43:03.056913Z"
    },
    "execution": {
     "iopub.execute_input": "2024-05-26T12:29:34.210511Z",
     "iopub.status.busy": "2024-05-26T12:29:34.210165Z",
     "iopub.status.idle": "2024-05-26T12:29:34.214105Z",
     "shell.execute_reply": "2024-05-26T12:29:34.213478Z",
     "shell.execute_reply.started": "2024-05-26T12:29:34.210491Z"
    }
   },
   "outputs": [
    {
     "data": {
      "text/plain": [
       "'LIBORUSD3M'"
      ]
     },
     "execution_count": 89,
     "metadata": {},
     "output_type": "execute_result"
    }
   ],
   "source": [
    "libor_usd_3m.get_code()"
   ]
  },
  {
   "cell_type": "code",
   "execution_count": 90,
   "metadata": {
    "ExecuteTime": {
     "end_time": "2022-01-21T13:43:03.085835Z",
     "start_time": "2022-01-21T13:43:03.071873Z"
    },
    "execution": {
     "iopub.execute_input": "2024-05-26T12:29:34.215286Z",
     "iopub.status.busy": "2024-05-26T12:29:34.215046Z",
     "iopub.status.idle": "2024-05-26T12:29:34.218175Z",
     "shell.execute_reply": "2024-05-26T12:29:34.217550Z",
     "shell.execute_reply.started": "2024-05-26T12:29:34.215268Z"
    }
   },
   "outputs": [],
   "source": [
    "libor_usd_3m.set_rate_value(0.1)"
   ]
  },
  {
   "cell_type": "code",
   "execution_count": 91,
   "metadata": {
    "ExecuteTime": {
     "end_time": "2022-01-21T13:43:03.101793Z",
     "start_time": "2022-01-21T13:43:03.087831Z"
    },
    "execution": {
     "iopub.execute_input": "2024-05-26T12:29:34.219254Z",
     "iopub.status.busy": "2024-05-26T12:29:34.219018Z",
     "iopub.status.idle": "2024-05-26T12:29:34.223666Z",
     "shell.execute_reply": "2024-05-26T12:29:34.223096Z",
     "shell.execute_reply.started": "2024-05-26T12:29:34.219235Z"
    }
   },
   "outputs": [
    {
     "name": "stdout",
     "output_type": "stream",
     "text": [
      "0.100000 Act360 Lin\n"
     ]
    }
   ],
   "source": [
    "print(libor_usd_3m.get_rate())"
   ]
  },
  {
   "cell_type": "code",
   "execution_count": 92,
   "metadata": {
    "ExecuteTime": {
     "end_time": "2022-01-21T13:43:03.117750Z",
     "start_time": "2022-01-21T13:43:03.102790Z"
    },
    "execution": {
     "iopub.execute_input": "2024-05-26T12:29:34.224846Z",
     "iopub.status.busy": "2024-05-26T12:29:34.224552Z",
     "iopub.status.idle": "2024-05-26T12:29:34.228425Z",
     "shell.execute_reply": "2024-05-26T12:29:34.227892Z",
     "shell.execute_reply.started": "2024-05-26T12:29:34.224827Z"
    }
   },
   "outputs": [
    {
     "data": {
      "text/plain": [
       "<qcfinancial.QCInterestRate at 0x11f02b030>"
      ]
     },
     "execution_count": 92,
     "metadata": {},
     "output_type": "execute_result"
    }
   ],
   "source": [
    "libor_usd_3m.get_rate()"
   ]
  },
  {
   "cell_type": "markdown",
   "metadata": {},
   "source": [
    "Con esto, veamos un ejemplo de construcción y uso de un `IborCashflow`."
   ]
  },
  {
   "cell_type": "markdown",
   "metadata": {},
   "source": [
    "**TODO:** Se debe crear un mecanismo de WARNING para las eventuales inconsistencias entre las fechas de inicio y fin del ``InterestRateIndex`` y las fechas de inicio y fin del ``IborCashflow``."
   ]
  },
  {
   "cell_type": "code",
   "execution_count": 93,
   "metadata": {
    "ExecuteTime": {
     "end_time": "2022-01-21T13:43:03.132710Z",
     "start_time": "2022-01-21T13:43:03.118748Z"
    },
    "execution": {
     "iopub.execute_input": "2024-05-26T12:29:34.229435Z",
     "iopub.status.busy": "2024-05-26T12:29:34.229271Z",
     "iopub.status.idle": "2024-05-26T12:29:34.234130Z",
     "shell.execute_reply": "2024-05-26T12:29:34.233506Z",
     "shell.execute_reply.started": "2024-05-26T12:29:34.229418Z"
    }
   },
   "outputs": [],
   "source": [
    "# Ejemplo\n",
    "fecha_inicio = qcf.QCDate(20, 9, 2018)\n",
    "fecha_final = qcf.QCDate(20, 9, 2019)\n",
    "fecha_pago = qcf.QCDate(23, 9, 2019)\n",
    "fecha_fixing = qcf.QCDate(20, 9, 2018)\n",
    "nominal = 1_000_000.0\n",
    "amort = 100_000.0\n",
    "spread = 0.0\n",
    "gearing = 1.0\n",
    "ibor_cashflow = qcf.IborCashflow(\n",
    "    libor_usd_3m,\n",
    "    fecha_inicio,\n",
    "    fecha_final,\n",
    "    fecha_fixing,\n",
    "    fecha_pago,\n",
    "    nominal,\n",
    "    amort,\n",
    "    True,\n",
    "    usd,\n",
    "    spread,\n",
    "    gearing,\n",
    ")"
   ]
  },
  {
   "cell_type": "code",
   "execution_count": 94,
   "metadata": {
    "ExecuteTime": {
     "end_time": "2022-01-21T13:43:03.148668Z",
     "start_time": "2022-01-21T13:43:03.133708Z"
    },
    "execution": {
     "iopub.execute_input": "2024-05-26T12:29:34.235331Z",
     "iopub.status.busy": "2024-05-26T12:29:34.235032Z",
     "iopub.status.idle": "2024-05-26T12:29:34.239492Z",
     "shell.execute_reply": "2024-05-26T12:29:34.238990Z",
     "shell.execute_reply.started": "2024-05-26T12:29:34.235309Z"
    }
   },
   "outputs": [
    {
     "name": "stdout",
     "output_type": "stream",
     "text": [
      "Fecha Fixing:\t 2018-09-20\n",
      "Fecha Inicio:\t 2018-09-20\n",
      "Fecha Final:\t 2019-09-20\n",
      "Fecha Pago:\t 2019-09-23\n",
      "Nominal:\t1,000,000\n",
      "Amortización:\t100,000\n",
      "Moneda:\t\t USD\n",
      "Valor Tasa:\t10.00%\n"
     ]
    }
   ],
   "source": [
    "# Getters\n",
    "print(\"Fecha Fixing:\\t\", ibor_cashflow.get_fixing_date())\n",
    "print(\"Fecha Inicio:\\t\", ibor_cashflow.get_start_date())\n",
    "print(\"Fecha Final:\\t\", ibor_cashflow.get_end_date())\n",
    "print(\"Fecha Pago:\\t\", ibor_cashflow.get_settlement_date())\n",
    "print(f\"Nominal:\\t{ibor_cashflow.get_nominal():,.0f}\")\n",
    "print(f\"Amortización:\\t{ibor_cashflow.get_amortization():,.0f}\")\n",
    "print(\"Moneda:\\t\\t\", ibor_cashflow.ccy())\n",
    "print(f\"Valor Tasa:\\t{ibor_cashflow.get_interest_rate_value():.2%}\")"
   ]
  },
  {
   "cell_type": "code",
   "execution_count": 95,
   "metadata": {
    "ExecuteTime": {
     "end_time": "2022-01-21T13:43:03.163627Z",
     "start_time": "2022-01-21T13:43:03.149665Z"
    },
    "execution": {
     "iopub.execute_input": "2024-05-26T12:29:34.240461Z",
     "iopub.status.busy": "2024-05-26T12:29:34.240293Z",
     "iopub.status.idle": "2024-05-26T12:29:34.244435Z",
     "shell.execute_reply": "2024-05-26T12:29:34.243865Z",
     "shell.execute_reply.started": "2024-05-26T12:29:34.240444Z"
    }
   },
   "outputs": [
    {
     "name": "stdout",
     "output_type": "stream",
     "text": [
      "Nominal:\t2,000,000\n",
      "Amortización:\t200,000\n",
      "Valor Tasa: 2.00%\n"
     ]
    }
   ],
   "source": [
    "# Setters\n",
    "nuevo_nominal = 2_000_000.0\n",
    "ibor_cashflow.set_nominal(nuevo_nominal)\n",
    "print(f\"Nominal:\\t{ibor_cashflow.get_nominal():,.0f}\")\n",
    "\n",
    "nueva_amortizacion = 200_000.0\n",
    "ibor_cashflow.set_amortization(nueva_amortizacion)\n",
    "print(f\"Amortización:\\t{ibor_cashflow.get_amortization():,.0f}\")\n",
    "\n",
    "nuevo_valor_tasa = 0.02\n",
    "ibor_cashflow.set_interest_rate_value(nuevo_valor_tasa)\n",
    "print(f\"Valor Tasa: {ibor_cashflow.get_interest_rate_value():.2%}\")"
   ]
  },
  {
   "cell_type": "code",
   "execution_count": 96,
   "metadata": {
    "ExecuteTime": {
     "end_time": "2022-01-21T13:43:03.179585Z",
     "start_time": "2022-01-21T13:43:03.164625Z"
    },
    "execution": {
     "iopub.execute_input": "2024-05-26T12:29:34.245569Z",
     "iopub.status.busy": "2024-05-26T12:29:34.245293Z",
     "iopub.status.idle": "2024-05-26T12:29:34.249577Z",
     "shell.execute_reply": "2024-05-26T12:29:34.249030Z",
     "shell.execute_reply.started": "2024-05-26T12:29:34.245550Z"
    }
   },
   "outputs": [
    {
     "name": "stdout",
     "output_type": "stream",
     "text": [
      "Flujo: 240,556\n",
      "Interés Devengado al 2019-07-20: 33,667\n",
      "Check: 33,667\n"
     ]
    }
   ],
   "source": [
    "# Cálculos\n",
    "print(f\"Flujo: {ibor_cashflow.amount():,.0f}\")\n",
    "\n",
    "fecha_devengo = qcf.QCDate(20, 7, 2019)\n",
    "print(f\"Interés Devengado al {fecha_devengo}: {ibor_cashflow.accrued_interest(fecha_devengo):,.0f}\")\n",
    "tasa = ibor_cashflow.get_interest_rate_value()\n",
    "\n",
    "check = tasa * fecha_inicio.day_diff(fecha_devengo) / 360.0 * ibor_cashflow.get_nominal()\n",
    "print(f\"Check: {check:,.0f}\")"
   ]
  },
  {
   "cell_type": "code",
   "execution_count": 97,
   "metadata": {
    "ExecuteTime": {
     "end_time": "2022-01-21T13:43:03.195543Z",
     "start_time": "2022-01-21T13:43:03.186566Z"
    },
    "execution": {
     "iopub.execute_input": "2024-05-26T12:29:34.250769Z",
     "iopub.status.busy": "2024-05-26T12:29:34.250530Z",
     "iopub.status.idle": "2024-05-26T12:29:34.253602Z",
     "shell.execute_reply": "2024-05-26T12:29:34.253094Z",
     "shell.execute_reply.started": "2024-05-26T12:29:34.250750Z"
    }
   },
   "outputs": [
    {
     "name": "stdout",
     "output_type": "stream",
     "text": [
      "('2018-09-20', '2019-09-20', '2018-09-20', '2019-09-23', 2000000.0, 200000.0, 40555.55555555568, True, 240555.55555555568, 'USD', 'LIBORUSD3M', 0.02, 0.0, 1.0, 'LinAct360')\n"
     ]
    }
   ],
   "source": [
    "# Función show\n",
    "print(qcf.show(ibor_cashflow))"
   ]
  },
  {
   "cell_type": "markdown",
   "metadata": {},
   "source": [
    "### Ibor Cashflow 2\n",
    "Un objeto de tipo `IborCashflow2` representa un flujo de caja calculado a partir de la aplicación de una tasa flotante fijada en una cierta fecha (Libor, Euribor, TAB, ...) , entre dos fechas prefijadas a un nominal prefijado. Para dar de alta uno de estos objetos se requiere:\n",
    "\n",
    "- `InterestRateIndex`: el índice de tasa de interés prefijado\n",
    "- `QCDate`: fecha inicio (para la aplicación de la tasa)\n",
    "- `QCDate`: fecha final (para la aplicación de la tasa)\n",
    "- `QCDate`: fecha de fijación del índice de tasa de interés \n",
    "- `QCDate`: fecha de pago\n",
    "- `float`: nominal (monto al que se le aplica la tasa)\n",
    "- `float`: amortización (eventual flujo de caja que corresponde a una porción del nominal)\n",
    "- `bool`: indica si la amortización anterior es un flujo de caja o sólo una disminución de nominal\n",
    "- `QCCurrency`: moneda del nominal y del flujo de caja\n",
    "- `float`: spread aditivo a aplicar a la fijación del índice\n",
    "- `float`: spread multiplicativo o gearing a aplicar a la fijación del índice\n",
    "\n",
    "A diferencia de un `IborCashflow`, un `IborCashflow2` puede quantizarse."
   ]
  },
  {
   "cell_type": "code",
   "execution_count": 98,
   "metadata": {
    "ExecuteTime": {
     "end_time": "2022-01-21T13:43:03.211499Z",
     "start_time": "2022-01-21T13:43:03.196541Z"
    },
    "execution": {
     "iopub.execute_input": "2024-05-26T12:29:34.254885Z",
     "iopub.status.busy": "2024-05-26T12:29:34.254652Z",
     "iopub.status.idle": "2024-05-26T12:29:34.258822Z",
     "shell.execute_reply": "2024-05-26T12:29:34.258234Z",
     "shell.execute_reply.started": "2024-05-26T12:29:34.254867Z"
    }
   },
   "outputs": [],
   "source": [
    "# Ejemplo\n",
    "fecha_inicio = qcf.QCDate(20, 9, 2018)\n",
    "fecha_final = qcf.QCDate(20, 9, 2019)\n",
    "fecha_pago = qcf.QCDate(23, 9, 2019)\n",
    "fecha_fixing = qcf.QCDate(20, 9, 2018)\n",
    "nominal = 1000000.0\n",
    "amort = 100000.0\n",
    "spread = 0.0\n",
    "gearing = 1.0\n",
    "ibor_cashflow_2 = qcf.IborCashflow2(\n",
    "    libor_usd_3m,\n",
    "    fecha_inicio,\n",
    "    fecha_final,\n",
    "    fecha_fixing,\n",
    "    fecha_pago,\n",
    "    nominal,\n",
    "    amort,\n",
    "    True,\n",
    "    usd,\n",
    "    spread,\n",
    "    gearing,\n",
    ")"
   ]
  },
  {
   "cell_type": "code",
   "execution_count": 99,
   "metadata": {
    "ExecuteTime": {
     "end_time": "2022-01-21T13:43:03.227457Z",
     "start_time": "2022-01-21T13:43:03.212497Z"
    },
    "execution": {
     "iopub.execute_input": "2024-05-26T12:29:34.259721Z",
     "iopub.status.busy": "2024-05-26T12:29:34.259553Z",
     "iopub.status.idle": "2024-05-26T12:29:34.263942Z",
     "shell.execute_reply": "2024-05-26T12:29:34.263367Z",
     "shell.execute_reply.started": "2024-05-26T12:29:34.259703Z"
    }
   },
   "outputs": [
    {
     "name": "stdout",
     "output_type": "stream",
     "text": [
      "Fecha Fixing:\t DateList[20-9-2018]\n",
      "Fecha Inicio:\t 2018-09-20\n",
      "Fecha Final:\t 2019-09-20\n",
      "Fecha Pago:\t 2019-09-23\n",
      "Nominal:\t1,000,000\n",
      "Amortización:\t100,000\n",
      "Moneda:\t\t USD\n",
      "Valor Tasa:\t2.00%\n"
     ]
    }
   ],
   "source": [
    "# Getters\n",
    "print(\"Fecha Fixing:\\t\", ibor_cashflow_2.get_fixing_dates())\n",
    "print(\"Fecha Inicio:\\t\", ibor_cashflow_2.get_start_date())\n",
    "print(\"Fecha Final:\\t\", ibor_cashflow_2.get_end_date())\n",
    "print(\"Fecha Pago:\\t\", ibor_cashflow_2.get_settlement_date())\n",
    "print(f\"Nominal:\\t{ibor_cashflow_2.get_nominal():,.0f}\")\n",
    "print(f\"Amortización:\\t{ibor_cashflow_2.get_amortization():,.0f}\")\n",
    "print(\"Moneda:\\t\\t\", ibor_cashflow_2.ccy())\n",
    "print(f\"Valor Tasa:\\t{ibor_cashflow_2.fixing():.2%}\")"
   ]
  },
  {
   "cell_type": "code",
   "execution_count": 100,
   "metadata": {
    "execution": {
     "iopub.execute_input": "2024-05-26T12:29:34.264924Z",
     "iopub.status.busy": "2024-05-26T12:29:34.264760Z",
     "iopub.status.idle": "2024-05-26T12:29:34.268768Z",
     "shell.execute_reply": "2024-05-26T12:29:34.268134Z",
     "shell.execute_reply.started": "2024-05-26T12:29:34.264906Z"
    }
   },
   "outputs": [
    {
     "data": {
      "text/plain": [
       "('2018-09-20',\n",
       " '2019-09-20',\n",
       " '2018-09-20',\n",
       " '2019-09-23',\n",
       " 1000000.0,\n",
       " 100000.0,\n",
       " 20277.77777777784,\n",
       " True,\n",
       " 120277.77777777784,\n",
       " 'USD',\n",
       " 'LIBORUSD3M',\n",
       " 0.02,\n",
       " 0.0,\n",
       " 1.0,\n",
       " 'LinAct360')"
      ]
     },
     "execution_count": 100,
     "metadata": {},
     "output_type": "execute_result"
    }
   ],
   "source": [
    "# Función show\n",
    "qcf.show(ibor_cashflow_2)"
   ]
  },
  {
   "cell_type": "markdown",
   "metadata": {},
   "source": [
    "### Ibor Multi Currency Cashflow\n",
    "Un objeto de tipo `IborMultiCurrencyCashflow` representa un flujo de caja a tasa variable (`IborCashflow`) que se liquidará en una moneda distinta de la moneda del nominal utilizando el valor a una cierta fecha de un índice de tipo de cambio prefijado. Para dar de alta uno de estos objetos se requiere:\n",
    "\n",
    "- `InterestRateIndex`: el índice de tasa de interés prefijado\n",
    "- `QCDate`: fecha inicio (para la aplicación de la tasa)\n",
    "- `QCDate`: fecha final (para la aplicación de la tasa)\n",
    "- `QCDate`: fecha de fijación del índice de tasa de interés \n",
    "- `QCDate`: fecha de pago\n",
    "- `float`: nominal (monto al que se le aplica la tasa)\n",
    "- `float`: amortización (eventual flujo de caja que corresponde a una porción del nominal)\n",
    "- `bool`: indica si la amortización anterior es un flujo de caja o sólo una disminución de nominal\n",
    "- `QCCurrency`: moneda del nominal y del flujo de caja\n",
    "- `float`: spread aditivo a aplicar a la fijación del índice\n",
    "- `float`: spread multiplicativo o gearing a aplicar a la fijación del índice\n",
    "- `QCDate`: fecha de publicación del índice de tipo de cambio\n",
    "- `QCCurrency`: moneda en la que se liquida el flujo\n",
    "- `FXRateIndex`: índice de tipo de cambio a utilizar\n",
    "- `float`: valor del índice de tipo de cambio\n"
   ]
  },
  {
   "cell_type": "code",
   "execution_count": 101,
   "metadata": {
    "ExecuteTime": {
     "end_time": "2022-01-21T13:43:03.242417Z",
     "start_time": "2022-01-21T13:43:03.228455Z"
    },
    "execution": {
     "iopub.execute_input": "2024-05-26T12:29:34.269888Z",
     "iopub.status.busy": "2024-05-26T12:29:34.269666Z",
     "iopub.status.idle": "2024-05-26T12:29:34.274538Z",
     "shell.execute_reply": "2024-05-26T12:29:34.273999Z",
     "shell.execute_reply.started": "2024-05-26T12:29:34.269869Z"
    }
   },
   "outputs": [
    {
     "name": "stdout",
     "output_type": "stream",
     "text": [
      "<qcfinancial.IborMultiCurrencyCashflow object at 0x11efd3ab0>\n"
     ]
    }
   ],
   "source": [
    "# Ejemplo\n",
    "fecha_inicio = qcf.QCDate(20, 9, 2019)\n",
    "fecha_final = qcf.QCDate(20, 12, 2019)\n",
    "fecha_pago = qcf.QCDate(20, 12, 2019)\n",
    "fecha_fixing = qcf.QCDate(20, 9, 2019)\n",
    "nominal = 100.0\n",
    "amort = 100.0\n",
    "spread = 0.02\n",
    "gearing = 1.0\n",
    "valor_indice = 10.0\n",
    "fecha_publicacion = qcf.QCDate(20, 9, 2019)\n",
    "libor_usd_3m.set_rate_value(0.01)\n",
    "ibor_mccy_cashflow = qcf.IborMultiCurrencyCashflow(\n",
    "    libor_usd_3m,\n",
    "    fecha_inicio,\n",
    "    fecha_final,\n",
    "    fecha_fixing,\n",
    "    fecha_pago,\n",
    "    nominal,\n",
    "    amort,\n",
    "    True,\n",
    "    usd,\n",
    "    spread,\n",
    "    gearing,\n",
    "    fecha_publicacion,\n",
    "    clp,\n",
    "    indice,\n",
    "    valor_indice,\n",
    ")\n",
    "print(ibor_mccy_cashflow)"
   ]
  },
  {
   "cell_type": "code",
   "execution_count": 102,
   "metadata": {
    "ExecuteTime": {
     "end_time": "2022-01-21T13:43:03.257378Z",
     "start_time": "2022-01-21T13:43:03.244413Z"
    },
    "execution": {
     "iopub.execute_input": "2024-05-26T12:29:34.275645Z",
     "iopub.status.busy": "2024-05-26T12:29:34.275409Z",
     "iopub.status.idle": "2024-05-26T12:29:34.278369Z",
     "shell.execute_reply": "2024-05-26T12:29:34.277795Z",
     "shell.execute_reply.started": "2024-05-26T12:29:34.275627Z"
    }
   },
   "outputs": [],
   "source": [
    "ibor_mccy_cashflow.set_interest_rate_value(0.01)"
   ]
  },
  {
   "cell_type": "code",
   "execution_count": 103,
   "metadata": {
    "ExecuteTime": {
     "end_time": "2022-01-21T13:43:03.273335Z",
     "start_time": "2022-01-21T13:43:03.258375Z"
    },
    "execution": {
     "iopub.execute_input": "2024-05-26T12:29:34.279435Z",
     "iopub.status.busy": "2024-05-26T12:29:34.279237Z",
     "iopub.status.idle": "2024-05-26T12:29:34.282552Z",
     "shell.execute_reply": "2024-05-26T12:29:34.282025Z",
     "shell.execute_reply.started": "2024-05-26T12:29:34.279417Z"
    }
   },
   "outputs": [
    {
     "name": "stdout",
     "output_type": "stream",
     "text": [
      "('2019-09-20', '2019-12-20', '2019-09-20', '2019-12-20', 100.0, 100.0, 0.7583333333333275, True, 1007.5833333333333, 'USD', 'LIBORUSD3M', 0.02, 1.0, 0.01, 'LinAct360', '2019-09-20', 'CLP', 'USDOBS', 10.0, 1000.0, 7.583333333333275)\n"
     ]
    }
   ],
   "source": [
    "print(qcf.show(ibor_mccy_cashflow))"
   ]
  },
  {
   "cell_type": "code",
   "execution_count": 104,
   "metadata": {
    "ExecuteTime": {
     "end_time": "2022-01-21T13:43:03.289292Z",
     "start_time": "2022-01-21T13:43:03.274332Z"
    },
    "execution": {
     "iopub.execute_input": "2024-05-26T12:29:34.283840Z",
     "iopub.status.busy": "2024-05-26T12:29:34.283608Z",
     "iopub.status.idle": "2024-05-26T12:29:34.287279Z",
     "shell.execute_reply": "2024-05-26T12:29:34.286768Z",
     "shell.execute_reply.started": "2024-05-26T12:29:34.283822Z"
    }
   },
   "outputs": [
    {
     "name": "stdout",
     "output_type": "stream",
     "text": [
      "0.24999999999999467\n",
      "0.24999999999999997\n"
     ]
    }
   ],
   "source": [
    "fecha_intermedia = qcf.QCDate(20, 10, 2019)\n",
    "print(ibor_mccy_cashflow.accrued_interest(fecha_intermedia))\n",
    "print(\n",
    "    (0.01 + spread)\n",
    "    * fecha_inicio.day_diff(fecha_intermedia)\n",
    "    / 360.0\n",
    "    * ibor_mccy_cashflow.get_nominal()\n",
    ")"
   ]
  },
  {
   "cell_type": "code",
   "execution_count": 105,
   "metadata": {
    "ExecuteTime": {
     "end_time": "2022-01-21T13:43:03.305251Z",
     "start_time": "2022-01-21T13:43:03.290290Z"
    },
    "execution": {
     "iopub.execute_input": "2024-05-26T12:29:34.288311Z",
     "iopub.status.busy": "2024-05-26T12:29:34.288152Z",
     "iopub.status.idle": "2024-05-26T12:29:34.291987Z",
     "shell.execute_reply": "2024-05-26T12:29:34.291392Z",
     "shell.execute_reply.started": "2024-05-26T12:29:34.288294Z"
    }
   },
   "outputs": [
    {
     "name": "stdout",
     "output_type": "stream",
     "text": [
      "2019-09-20\n",
      "2019-10-20\n",
      "2019-10-20\n",
      "3.0\n"
     ]
    }
   ],
   "source": [
    "ts[fecha_inicio] = 1\n",
    "ts[fecha_intermedia] = 3\n",
    "for k in ts:\n",
    "    print(k)\n",
    "print(fecha_intermedia.description(False))\n",
    "print(ts[fecha_intermedia])"
   ]
  },
  {
   "cell_type": "code",
   "execution_count": 106,
   "metadata": {
    "ExecuteTime": {
     "end_time": "2022-01-21T13:43:03.321207Z",
     "start_time": "2022-01-21T13:43:03.306247Z"
    },
    "execution": {
     "iopub.execute_input": "2024-05-26T12:29:34.293151Z",
     "iopub.status.busy": "2024-05-26T12:29:34.292924Z",
     "iopub.status.idle": "2024-05-26T12:29:34.296449Z",
     "shell.execute_reply": "2024-05-26T12:29:34.295641Z",
     "shell.execute_reply.started": "2024-05-26T12:29:34.293132Z"
    }
   },
   "outputs": [
    {
     "name": "stdout",
     "output_type": "stream",
     "text": [
      "0.749999999999984\n"
     ]
    }
   ],
   "source": [
    "print(ibor_mccy_cashflow.accrued_interest(fecha_intermedia, fecha_intermedia, ts))"
   ]
  },
  {
   "cell_type": "code",
   "execution_count": 107,
   "metadata": {
    "execution": {
     "iopub.execute_input": "2024-05-26T12:29:34.297590Z",
     "iopub.status.busy": "2024-05-26T12:29:34.297353Z",
     "iopub.status.idle": "2024-05-26T12:29:34.301225Z",
     "shell.execute_reply": "2024-05-26T12:29:34.300677Z",
     "shell.execute_reply.started": "2024-05-26T12:29:34.297571Z"
    }
   },
   "outputs": [
    {
     "data": {
      "text/plain": [
       "'IborMultiCurrencyCashflow'"
      ]
     },
     "execution_count": 107,
     "metadata": {},
     "output_type": "execute_result"
    }
   ],
   "source": [
    "ibor_mccy_cashflow.get_type()"
   ]
  },
  {
   "cell_type": "code",
   "execution_count": 108,
   "metadata": {
    "execution": {
     "iopub.execute_input": "2024-05-26T12:29:34.302469Z",
     "iopub.status.busy": "2024-05-26T12:29:34.302224Z",
     "iopub.status.idle": "2024-05-26T12:29:34.306394Z",
     "shell.execute_reply": "2024-05-26T12:29:34.305831Z",
     "shell.execute_reply.started": "2024-05-26T12:29:34.302448Z"
    }
   },
   "outputs": [
    {
     "data": {
      "text/plain": [
       "('2019-09-20',\n",
       " '2019-12-20',\n",
       " '2019-09-20',\n",
       " '2019-12-20',\n",
       " 100.0,\n",
       " 100.0,\n",
       " 0.7583333333333275,\n",
       " True,\n",
       " 1007.5833333333333,\n",
       " 'USD',\n",
       " 'LIBORUSD3M',\n",
       " 0.02,\n",
       " 1.0,\n",
       " 0.01,\n",
       " 'LinAct360',\n",
       " '2019-09-20',\n",
       " 'CLP',\n",
       " 'USDOBS',\n",
       " 10.0,\n",
       " 1000.0,\n",
       " 7.583333333333275)"
      ]
     },
     "execution_count": 108,
     "metadata": {},
     "output_type": "execute_result"
    }
   ],
   "source": [
    "qcf.show(ibor_mccy_cashflow)"
   ]
  },
  {
   "cell_type": "markdown",
   "metadata": {},
   "source": [
    "### Icp Clp Cashflow\n",
    "Un objeto de tipo `IcpClpCashflow` representa un flujo de caja calculado como un cupón de la pata flotante de un swap ICP (cámara promedio) de Chile. Para dar de alta uno de estos objetos se requiere:\n",
    "\n",
    "- `QCDate`: fecha inicio (para la aplicación de la tasa)\n",
    "- `QCDate`: fecha final (para la aplicación de la tasa)\n",
    "- `QCDate`: fecha de pago\n",
    "- `float`: nominal (monto al que se le aplica la tasa)\n",
    "- `float`: amortización (eventual flujo de caja que corresponde a una porción del nominal)\n",
    "- `bool`: indica si la amortización anterior es un flujo de caja o sólo una disminución de nominal\n",
    "- `float`: spread aditivo a aplicar a la fijación de la TNA\n",
    "- `float`: spread multiplicativo o gearing a aplicar a la fijación de la TNA\n",
    "- `float`: el valor del ICP a fecha de inicio (u otro valor arbitrario si el valor es desconocido)\n",
    "- `float`: el valor del ICP a fecha final (u otro valor arbitrario si el valor es desconocido)\n",
    "\n",
    "Recordar que TNA significa **Tasa Nominal Anual** y se determina utilizando los valores del índice ICP en la fecha de inicio y fecha final del `IcpClpCashflow`."
   ]
  },
  {
   "cell_type": "code",
   "execution_count": 109,
   "metadata": {
    "ExecuteTime": {
     "end_time": "2022-01-21T13:43:03.367085Z",
     "start_time": "2022-01-21T13:43:03.352125Z"
    },
    "execution": {
     "iopub.execute_input": "2024-05-26T12:29:34.307539Z",
     "iopub.status.busy": "2024-05-26T12:29:34.307310Z",
     "iopub.status.idle": "2024-05-26T12:29:34.311246Z",
     "shell.execute_reply": "2024-05-26T12:29:34.310624Z",
     "shell.execute_reply.started": "2024-05-26T12:29:34.307519Z"
    }
   },
   "outputs": [],
   "source": [
    "# Ejemplo\n",
    "fecha_inicio = qcf.QCDate(20, 9, 2018)\n",
    "fecha_final = qcf.QCDate(20, 9, 2019)\n",
    "fecha_pago = qcf.QCDate(23, 9, 2019)\n",
    "nominal = 1_000_000_000.0\n",
    "amort = 100_000_000.0\n",
    "spread = 0.0\n",
    "gearing = 1.0\n",
    "icp_clp_cashflow = qcf.IcpClpCashflow(\n",
    "    fecha_inicio,\n",
    "    fecha_final,\n",
    "    fecha_pago,\n",
    "    nominal,\n",
    "    amort,\n",
    "    True,\n",
    "    spread,\n",
    "    gearing,\n",
    "    10_000.0,\n",
    "    10_250.0,\n",
    ")"
   ]
  },
  {
   "cell_type": "code",
   "execution_count": 110,
   "metadata": {
    "ExecuteTime": {
     "end_time": "2022-01-21T13:43:03.382045Z",
     "start_time": "2022-01-21T13:43:03.368083Z"
    },
    "execution": {
     "iopub.execute_input": "2024-05-26T12:29:34.312415Z",
     "iopub.status.busy": "2024-05-26T12:29:34.312184Z",
     "iopub.status.idle": "2024-05-26T12:29:34.317125Z",
     "shell.execute_reply": "2024-05-26T12:29:34.316632Z",
     "shell.execute_reply.started": "2024-05-26T12:29:34.312397Z"
    }
   },
   "outputs": [
    {
     "name": "stdout",
     "output_type": "stream",
     "text": [
      "Fecha Inicio: 2018-09-20\n",
      "Fecha Final: 2019-09-20\n",
      "ICP Fecha Inicio: 10,000.00\n",
      "ICP Fecha Final: 10,250.00\n",
      "Valor TNA Todo el Período: 2.47%\n",
      "Check: 2.47%\n",
      "Nominal: 1,000,000,000\n",
      "Amortización: 100,000,000\n",
      "Tipo de Tasa: LinAct360\n",
      "Moneda: CLP\n"
     ]
    }
   ],
   "source": [
    "# Getters\n",
    "print(\"Fecha Inicio:\", icp_clp_cashflow.get_start_date())\n",
    "print(\"Fecha Final:\", icp_clp_cashflow.get_end_date())\n",
    "print(f\"ICP Fecha Inicio: {icp_clp_cashflow.get_start_date_icp():,.2f}\")\n",
    "print(f\"ICP Fecha Final: {icp_clp_cashflow.get_end_date_icp():,.2f}\")\n",
    "print(f\"Valor TNA Todo el Período: {icp_clp_cashflow.get_rate_value():.2%}\")\n",
    "check = round((10250.0 / 10000 - 1) * 360.0 / fecha_inicio.day_diff(fecha_final), 4)\n",
    "print(f\"Check: {check:.2%}\")\n",
    "print(f\"Nominal: {icp_clp_cashflow.get_nominal():,.0f}\")\n",
    "print(f\"Amortización: {icp_clp_cashflow.get_amortization():,.0f}\")\n",
    "print(\"Tipo de Tasa:\", icp_clp_cashflow.get_type_of_rate())\n",
    "print(\"Moneda:\", icp_clp_cashflow.ccy())"
   ]
  },
  {
   "cell_type": "code",
   "execution_count": 111,
   "metadata": {
    "ExecuteTime": {
     "end_time": "2022-01-21T13:43:03.397004Z",
     "start_time": "2022-01-21T13:43:03.383042Z"
    },
    "execution": {
     "iopub.execute_input": "2024-05-26T12:29:34.318384Z",
     "iopub.status.busy": "2024-05-26T12:29:34.318159Z",
     "iopub.status.idle": "2024-05-26T12:29:34.323040Z",
     "shell.execute_reply": "2024-05-26T12:29:34.322492Z",
     "shell.execute_reply.started": "2024-05-26T12:29:34.318366Z"
    }
   },
   "outputs": [
    {
     "name": "stdout",
     "output_type": "stream",
     "text": [
      "Nueva TNA: 2.4658%\n",
      "Nuevo Nominal: 100.0\n",
      "Nueva Amortización: 10.0\n",
      "Nuevo ICP Inicio: 20,000.00\n",
      "Nuevo ICP Final: 20,600.00\n",
      "Check TNA Final: 2.9589%\n"
     ]
    }
   ],
   "source": [
    "# Setters\n",
    "decimales_para_tna = 6\n",
    "icp_clp_cashflow.set_tna_decimal_places(decimales_para_tna)\n",
    "print(f\"Nueva TNA: {icp_clp_cashflow.get_rate_value():.4%}\")\n",
    "\n",
    "nuevo_nominal = 100\n",
    "icp_clp_cashflow.set_nominal(nuevo_nominal)\n",
    "print(\"Nuevo Nominal:\", icp_clp_cashflow.get_nominal())\n",
    "\n",
    "nueva_amortizacion = 10\n",
    "icp_clp_cashflow.set_amortization(nueva_amortizacion)\n",
    "print(\"Nueva Amortización:\", icp_clp_cashflow.get_amortization())\n",
    "\n",
    "nuevo_icp_inicio = 20_000\n",
    "icp_clp_cashflow.set_start_date_icp(nuevo_icp_inicio)\n",
    "print(f\"Nuevo ICP Inicio: {icp_clp_cashflow.get_start_date_icp():,.2f}\")\n",
    "\n",
    "nuevo_icp_final = 20_600\n",
    "icp_clp_cashflow.set_end_date_icp(nuevo_icp_final)\n",
    "print(f\"Nuevo ICP Final: {icp_clp_cashflow.get_end_date_icp():,.2f}\")\n",
    "print(f\"Check TNA Final: {icp_clp_cashflow.get_rate_value():.4%}\")"
   ]
  },
  {
   "cell_type": "code",
   "execution_count": 112,
   "metadata": {
    "ExecuteTime": {
     "end_time": "2022-01-21T13:43:03.412962Z",
     "start_time": "2022-01-21T13:43:03.398002Z"
    },
    "execution": {
     "iopub.execute_input": "2024-05-26T12:29:34.323936Z",
     "iopub.status.busy": "2024-05-26T12:29:34.323769Z",
     "iopub.status.idle": "2024-05-26T12:29:34.329607Z",
     "shell.execute_reply": "2024-05-26T12:29:34.328887Z",
     "shell.execute_reply.started": "2024-05-26T12:29:34.323919Z"
    }
   },
   "outputs": [
    {
     "name": "stdout",
     "output_type": "stream",
     "text": [
      "Flujo: 13\n",
      "TNA fijada a 29-03-2019: 2.37%\n",
      "Check: 2.37%\n",
      "Interés Devengado al 29-03-2019: 1.2508\n",
      "Check: 1.2508\n"
     ]
    }
   ],
   "source": [
    "# Cálculos\n",
    "decimales_para_tna = 4  # Se vuelve a 4 decimales de tasa\n",
    "icp_clp_cashflow.set_tna_decimal_places(decimales_para_tna)\n",
    "\n",
    "nuevo_icp_inicio = 10_000.0\n",
    "icp_clp_cashflow.set_start_date_icp(nuevo_icp_inicio)\n",
    "\n",
    "nuevo_icp_final = 10_250.0\n",
    "icp_clp_cashflow.set_end_date_icp(nuevo_icp_final)\n",
    "\n",
    "print(f\"Flujo: {icp_clp_cashflow.amount():,.0f}\")\n",
    "\n",
    "fecha_devengo = qcf.QCDate(29, 3, 2019)\n",
    "icp_devengo = 10_125.0\n",
    "tna_devengo = icp_clp_cashflow.get_tna(fecha_devengo, icp_devengo)\n",
    "print(f\"TNA fijada a {fecha_devengo.description(True)}: {tna_devengo:.2%}\")\n",
    "check = round(\n",
    "    (icp_devengo / nuevo_icp_inicio - 1) * 360.0 / fecha_inicio.day_diff(fecha_devengo),\n",
    "    decimales_para_tna,\n",
    ")\n",
    "print(f\"Check: {check:.2%}\")\n",
    "print(f\"Interés Devengado al {fecha_devengo.description(True)}: {icp_clp_cashflow.accrued_interest(fecha_devengo, icp_devengo):,.4f}\")\n",
    "print(f\"Check: {100 * tna_devengo * fecha_inicio.day_diff(fecha_devengo) / 360.0:,.4f}\")"
   ]
  },
  {
   "cell_type": "code",
   "execution_count": 113,
   "metadata": {
    "ExecuteTime": {
     "end_time": "2022-01-21T13:43:03.428919Z",
     "start_time": "2022-01-21T13:43:03.413959Z"
    },
    "execution": {
     "iopub.execute_input": "2024-05-26T12:29:34.330786Z",
     "iopub.status.busy": "2024-05-26T12:29:34.330542Z",
     "iopub.status.idle": "2024-05-26T12:29:34.334196Z",
     "shell.execute_reply": "2024-05-26T12:29:34.333546Z",
     "shell.execute_reply.started": "2024-05-26T12:29:34.330768Z"
    }
   },
   "outputs": [
    {
     "name": "stdout",
     "output_type": "stream",
     "text": [
      "('2018-09-20', '2019-09-20', '2019-09-23', 100.0, 10.0, True, 12.504305555555565, 'CLP', 10000.0, 10250.0, 0.0237, 2.504305555555564, 0.0, 1.0, 'LinAct360')\n"
     ]
    }
   ],
   "source": [
    "print(qcf.show(icp_clp_cashflow))"
   ]
  },
  {
   "cell_type": "code",
   "execution_count": 114,
   "metadata": {
    "execution": {
     "iopub.execute_input": "2024-05-26T12:29:34.335339Z",
     "iopub.status.busy": "2024-05-26T12:29:34.335102Z",
     "iopub.status.idle": "2024-05-26T12:29:34.338826Z",
     "shell.execute_reply": "2024-05-26T12:29:34.338286Z",
     "shell.execute_reply.started": "2024-05-26T12:29:34.335320Z"
    }
   },
   "outputs": [
    {
     "data": {
      "text/plain": [
       "'IcpClpCashflow'"
      ]
     },
     "execution_count": 114,
     "metadata": {},
     "output_type": "execute_result"
    }
   ],
   "source": [
    "icp_clp_cashflow.get_type()"
   ]
  },
  {
   "cell_type": "markdown",
   "metadata": {},
   "source": [
    "### Icp Clp Cashflow 2\n",
    "Un objeto de tipo `IcpClpCashflow2` representa un flujo de caja calculado como un cupón de la pata flotante de un swap ICP (cámara promedio) de Chile. Este tipo de cashflow puede ser *quantizado*, es decir, se puede cambiar su moneda de pago componiéndolo con un objeto adicional. Para dar de alta uno de estos objetos se requiere:\n",
    "\n",
    "- `QCDate`: fecha inicio (para la aplicación de la tasa)\n",
    "- `QCDate`: fecha final (para la aplicación de la tasa)\n",
    "- `QCDate`: fecha de pago\n",
    "- `float`: nominal (monto al que se le aplica la tasa)\n",
    "- `float`: amortización (eventual flujo de caja que corresponde a una porción del nominal)\n",
    "- `bool`: indica si la amortización anterior es un flujo de caja o sólo una disminución de nominal\n",
    "- `float`: spread aditivo a aplicar a la fijación de la TNA\n",
    "- `float`: spread multiplicativo o gearing a aplicar a la fijación de la TNA\n",
    "- `float`: el valor del ICP a fecha de inicio (u otro valor arbitrario si el valor es desconocido)\n",
    "- `float`: el valor del ICP a fecha final (u otro valor arbitrario si el valor es desconocido)\n",
    "\n",
    "Recordar que TNA significa **Tasa Nominal Anual** y se determina utilizando los valores del índice ICP en la fecha de inicio y fecha final del `IcpClpCashflow`."
   ]
  },
  {
   "cell_type": "code",
   "execution_count": 115,
   "metadata": {
    "ExecuteTime": {
     "end_time": "2022-01-21T13:43:03.444877Z",
     "start_time": "2022-01-21T13:43:03.429917Z"
    },
    "execution": {
     "iopub.execute_input": "2024-05-26T12:29:34.339814Z",
     "iopub.status.busy": "2024-05-26T12:29:34.339650Z",
     "iopub.status.idle": "2024-05-26T12:29:34.343805Z",
     "shell.execute_reply": "2024-05-26T12:29:34.343222Z",
     "shell.execute_reply.started": "2024-05-26T12:29:34.339797Z"
    }
   },
   "outputs": [],
   "source": [
    "# Ejemplo\n",
    "fecha_inicio = qcf.QCDate(20, 9, 2018)\n",
    "fecha_final = qcf.QCDate(20, 9, 2019)\n",
    "fecha_pago = qcf.QCDate(23, 9, 2019)\n",
    "nominal = 1_000_000_000.0\n",
    "amort = 100_000_000.0\n",
    "spread = 0.0\n",
    "gearing = 1.0\n",
    "icp_clp_cashflow2 = qcf.IcpClpCashflow2(\n",
    "    fecha_inicio,\n",
    "    fecha_final,\n",
    "    fecha_pago,\n",
    "    nominal,\n",
    "    amort,\n",
    "    True,\n",
    "    spread,\n",
    "    gearing,\n",
    "    True,\n",
    "    10_000.0,\n",
    "    10_250.0,\n",
    ")"
   ]
  },
  {
   "cell_type": "code",
   "execution_count": 116,
   "metadata": {
    "ExecuteTime": {
     "end_time": "2022-01-21T13:43:03.460835Z",
     "start_time": "2022-01-21T13:43:03.445874Z"
    },
    "execution": {
     "iopub.execute_input": "2024-05-26T12:29:34.344755Z",
     "iopub.status.busy": "2024-05-26T12:29:34.344590Z",
     "iopub.status.idle": "2024-05-26T12:29:34.350116Z",
     "shell.execute_reply": "2024-05-26T12:29:34.349475Z",
     "shell.execute_reply.started": "2024-05-26T12:29:34.344737Z"
    }
   },
   "outputs": [
    {
     "name": "stdout",
     "output_type": "stream",
     "text": [
      "Fecha Inicio: 2018-09-20\n",
      "Fecha Final: 2019-09-20\n",
      "ICP Fecha Inicio: 10,000.00\n",
      "ICP Fecha Final: 10,250.00\n",
      "\n",
      "Valor TNA Todo el Período: 2.47%\n",
      "Check: 2.47%\n",
      "\n",
      "Nominal: 1,000,000,000\n",
      "Amortización: 100,000,000\n",
      "Tipo de Tasa: LinAct360\n",
      "Moneda: CLP\n"
     ]
    }
   ],
   "source": [
    "# Getters\n",
    "print(\"Fecha Inicio:\", icp_clp_cashflow2.get_start_date())\n",
    "print(\"Fecha Final:\", icp_clp_cashflow2.get_end_date())\n",
    "print(f\"ICP Fecha Inicio: {icp_clp_cashflow2.get_start_date_icp():,.2f}\")\n",
    "print(f\"ICP Fecha Final: {icp_clp_cashflow2.get_end_date_icp():,.2f}\")\n",
    "\n",
    "print()\n",
    "print(f\"Valor TNA Todo el Período: {icp_clp_cashflow2.get_rate_value():.2%}\")\n",
    "check = round((10250.0 / 10000 - 1) * 360.0 / fecha_inicio.day_diff(fecha_final), 4)\n",
    "print(f\"Check: {check:.2%}\")\n",
    "print()\n",
    "\n",
    "print(f\"Nominal: {icp_clp_cashflow2.get_nominal():,.0f}\")\n",
    "print(f\"Amortización: {icp_clp_cashflow2.get_amortization():,.0f}\")\n",
    "print(\"Tipo de Tasa:\", icp_clp_cashflow2.get_type_of_rate())\n",
    "print(\"Moneda:\", icp_clp_cashflow2.ccy())"
   ]
  },
  {
   "cell_type": "code",
   "execution_count": 117,
   "metadata": {
    "ExecuteTime": {
     "end_time": "2022-01-21T13:43:03.475794Z",
     "start_time": "2022-01-21T13:43:03.462829Z"
    },
    "execution": {
     "iopub.execute_input": "2024-05-26T12:29:34.351204Z",
     "iopub.status.busy": "2024-05-26T12:29:34.351043Z",
     "iopub.status.idle": "2024-05-26T12:29:34.356121Z",
     "shell.execute_reply": "2024-05-26T12:29:34.355578Z",
     "shell.execute_reply.started": "2024-05-26T12:29:34.351187Z"
    }
   },
   "outputs": [
    {
     "name": "stdout",
     "output_type": "stream",
     "text": [
      "Nueva TNA: 2.4658%\n",
      "Nuevo Nominal: 100\n",
      "Nueva Amortización: 10\n",
      "Nuevo ICP Inicio: 20,000.00\n",
      "Nuevo ICP Final: 20,000.00\n",
      "Check TNA Final: 0.0000%\n"
     ]
    }
   ],
   "source": [
    "# Setters\n",
    "decimales_para_tna = 6\n",
    "icp_clp_cashflow2.set_tna_decimal_places(decimales_para_tna)\n",
    "print(f\"Nueva TNA: {icp_clp_cashflow2.get_rate_value():.4%}\")\n",
    "\n",
    "nuevo_nominal = 100\n",
    "icp_clp_cashflow2.set_nominal(nuevo_nominal)\n",
    "print(f\"Nuevo Nominal: {icp_clp_cashflow2.get_nominal():,.0f}\")\n",
    "\n",
    "nueva_amortizacion = 10\n",
    "icp_clp_cashflow2.set_amortization(nueva_amortizacion)\n",
    "print(f\"Nueva Amortización: {icp_clp_cashflow2.get_amortization():,.0f}\")\n",
    "\n",
    "nuevo_icp_inicio = 20_000.0\n",
    "icp_clp_cashflow2.set_start_date_icp(nuevo_icp_inicio)\n",
    "print(f\"Nuevo ICP Inicio: {icp_clp_cashflow2.get_start_date_icp():,.2f}\")\n",
    "\n",
    "nuevo_icp_final = 20_000.0\n",
    "icp_clp_cashflow2.set_end_date_icp(nuevo_icp_final)\n",
    "print(f\"Nuevo ICP Final: {icp_clp_cashflow2.get_end_date_icp():,.2f}\")\n",
    "print(f\"Check TNA Final: {icp_clp_cashflow2.get_rate_value():.4%}\")"
   ]
  },
  {
   "cell_type": "code",
   "execution_count": 118,
   "metadata": {
    "ExecuteTime": {
     "end_time": "2022-01-21T13:43:03.491752Z",
     "start_time": "2022-01-21T13:43:03.477789Z"
    },
    "execution": {
     "iopub.execute_input": "2024-05-26T12:29:34.357270Z",
     "iopub.status.busy": "2024-05-26T12:29:34.357042Z",
     "iopub.status.idle": "2024-05-26T12:29:34.363127Z",
     "shell.execute_reply": "2024-05-26T12:29:34.362402Z",
     "shell.execute_reply.started": "2024-05-26T12:29:34.357252Z"
    }
   },
   "outputs": [
    {
     "name": "stdout",
     "output_type": "stream",
     "text": [
      "Flujo: 12.50\n",
      "\n",
      "TNA fijada al 29-03-2019: 2.37%\n",
      "Check: 2.37%\n",
      "\n",
      "Interés Devengado al 29-03-2019: 1.250833\n",
      "Check: 1.250833\n"
     ]
    }
   ],
   "source": [
    "# Cálculos\n",
    "decimales_para_tna = 4  # Se vuelve a 4 decimales de tasa\n",
    "icp_clp_cashflow2.set_tna_decimal_places(decimales_para_tna)\n",
    "\n",
    "nuevo_icp_inicio = 10_000.0\n",
    "icp_clp_cashflow2.set_start_date_icp(nuevo_icp_inicio)\n",
    "\n",
    "nuevo_icp_final = 10_250.0\n",
    "icp_clp_cashflow2.set_end_date_icp(nuevo_icp_final)\n",
    "\n",
    "print(f\"Flujo: {icp_clp_cashflow2.amount():,.2f}\")\n",
    "print()\n",
    "\n",
    "fecha_devengo = qcf.QCDate(29, 3, 2019)\n",
    "icp_devengo = 10_125.0\n",
    "tna_devengo = icp_clp_cashflow2.get_tna(fecha_devengo, icp_devengo)\n",
    "print(f\"TNA fijada al {fecha_devengo.description(True)}: {tna_devengo:.2%}\")\n",
    "check = round((icp_devengo / nuevo_icp_inicio - 1) * 360.0 / fecha_inicio.day_diff(fecha_devengo), decimales_para_tna)\n",
    "print(f\"Check: {check:.2%}\")\n",
    "print()\n",
    "\n",
    "data = qcf.time_series()\n",
    "data[fecha_devengo] = icp_devengo\n",
    "print(f\"Interés Devengado al {fecha_devengo.description(True)}: {icp_clp_cashflow2.accrued_interest(fecha_devengo, data):,.6f}\")\n",
    "check = 100 * tna_devengo * fecha_inicio.day_diff(fecha_devengo) / 360.0\n",
    "print(f\"Check: {check:,.6f}\")"
   ]
  },
  {
   "cell_type": "code",
   "execution_count": 119,
   "metadata": {
    "ExecuteTime": {
     "end_time": "2022-01-21T13:43:03.506711Z",
     "start_time": "2022-01-21T13:43:03.492748Z"
    },
    "execution": {
     "iopub.execute_input": "2024-05-26T12:29:34.364278Z",
     "iopub.status.busy": "2024-05-26T12:29:34.364047Z",
     "iopub.status.idle": "2024-05-26T12:29:34.367630Z",
     "shell.execute_reply": "2024-05-26T12:29:34.366950Z",
     "shell.execute_reply.started": "2024-05-26T12:29:34.364257Z"
    }
   },
   "outputs": [
    {
     "name": "stdout",
     "output_type": "stream",
     "text": [
      "('2018-09-20', '2019-09-20', '2019-09-23', 100.0, 10.0, True, 12.499999999999991, 'CLP', 10000.0, 10250.0, 0.0247, 2.504305555555564, 0.0, 1.0, 'LinAct360')\n"
     ]
    }
   ],
   "source": [
    "print(qcf.show(icp_clp_cashflow2))"
   ]
  },
  {
   "cell_type": "code",
   "execution_count": 120,
   "metadata": {
    "execution": {
     "iopub.execute_input": "2024-05-26T12:29:34.368627Z",
     "iopub.status.busy": "2024-05-26T12:29:34.368432Z",
     "iopub.status.idle": "2024-05-26T12:29:34.372364Z",
     "shell.execute_reply": "2024-05-26T12:29:34.371870Z",
     "shell.execute_reply.started": "2024-05-26T12:29:34.368609Z"
    }
   },
   "outputs": [
    {
     "data": {
      "text/plain": [
       "'IcpClpCashflow'"
      ]
     },
     "execution_count": 120,
     "metadata": {},
     "output_type": "execute_result"
    }
   ],
   "source": [
    "icp_clp_cashflow2.get_type()"
   ]
  },
  {
   "cell_type": "markdown",
   "metadata": {},
   "source": [
    "### Overnight Index Cashflow\n",
    "Un objeto de tipo `OvernightIndexCashflow` representa un flujo de caja del tipo de la pata flotante de un swap ICP (cámara promedio) de Chile usando cualquier tipo de índice similar (por ejemplo SOFRINDX) y cualquier moneda. Adicionalmente, permite definir en forma independiente a `start_date` y `end_date` las fechas inicial y final utilizadas para los valores del índice. Esto puede resultar útil cuando una de estas operaciones se utiliza para cubrir créditos o bonos a tasa fija. Para dar de alta uno de estos objetos se requiere:\n",
    "\n",
    "- `QCDate`: fecha inicio devengo (para la aplicación de la tasa)\n",
    "- `QCDate`: fecha final devengo (para la aplicación de la tasa)\n",
    "- `QCDate`: fecha inicio índice (para el valor del índice)\n",
    "- `QCDate`: fecha final índice (para el valor del índice)\n",
    "- `QCDate`: fecha de pago\n",
    "- `QCCurrency`: moneda del nocional\n",
    "- `float`: nocional (monto al que se le aplica la tasa)\n",
    "- `float`: amortización (eventual flujo de caja que corresponde a una porción del nominal)\n",
    "- `bool`: indica si la amortización anterior es un flujo de caja o sólo una disminución de nominal\n",
    "- `float`: spread aditivo a aplicar a la fijación de la tasa equivalente (TNA en el caso de un ICPCLP)\n",
    "- `float`: spread multiplicativo o gearing a aplicar a la fijación de la tasa equivalente\n",
    "- `QCInterestRate`: con este objeto se especifica en qué convención se calcula la tasa equivalente\n",
    "- `string`: nombre del índice overnight a utilizar\n",
    "- `unsigned int`: número de decimales a utilizar para determinar la tasa equivalente"
   ]
  },
  {
   "cell_type": "code",
   "execution_count": 121,
   "metadata": {
    "ExecuteTime": {
     "end_time": "2022-01-21T13:43:03.444877Z",
     "start_time": "2022-01-21T13:43:03.429917Z"
    },
    "execution": {
     "iopub.execute_input": "2024-05-26T12:29:34.373319Z",
     "iopub.status.busy": "2024-05-26T12:29:34.373156Z",
     "iopub.status.idle": "2024-05-26T12:29:34.377973Z",
     "shell.execute_reply": "2024-05-26T12:29:34.377318Z",
     "shell.execute_reply.started": "2024-05-26T12:29:34.373301Z"
    }
   },
   "outputs": [],
   "source": [
    "# Ejemplo\n",
    "fecha_inicio_devengo = qcf.QCDate(13, 11, 2023)\n",
    "\n",
    "# Notar que la fecha final de devengo es sábado\n",
    "fecha_final_devengo = qcf.QCDate(18, 11, 2023)\n",
    "\n",
    "fecha_inicio_indice = qcf.QCDate(13, 11, 2023)\n",
    "\n",
    "# Notar que la fecha final de índice es el viernes\n",
    "fecha_final_indice = qcf.QCDate(17, 11, 2023)\n",
    "\n",
    "# La fecha de pago es el lunes siguiente\n",
    "fecha_pago = qcf.QCDate(20, 11, 2023)\n",
    "\n",
    "moneda_nocional = qcf.QCUSD()\n",
    "nocional = 1_000_000_000.0\n",
    "amort = 100_000_000.0\n",
    "amort_es_flujo = True\n",
    "spread = 0.0\n",
    "gearing = 1.0\n",
    "tasa = qcf.QCInterestRate(0.0, qcf.QCAct360(), qcf.QCLinearWf())\n",
    "nombre_indice = 'INDICE'\n",
    "num_decimales = 8\n",
    "valor_indice_inicio = 1.0\n",
    "valor_indice_final = 1 + .1234 * 4 / 360 # Suponemos un valor constante de 10% por 4 días del índice"
   ]
  },
  {
   "cell_type": "code",
   "execution_count": 122,
   "metadata": {
    "execution": {
     "iopub.execute_input": "2024-05-26T12:29:34.379135Z",
     "iopub.status.busy": "2024-05-26T12:29:34.378902Z",
     "iopub.status.idle": "2024-05-26T12:29:34.382478Z",
     "shell.execute_reply": "2024-05-26T12:29:34.381790Z",
     "shell.execute_reply.started": "2024-05-26T12:29:34.379114Z"
    }
   },
   "outputs": [],
   "source": [
    "overnight_index_cashflow = qcf.OvernightIndexCashflow(\n",
    "    fecha_inicio_devengo,\n",
    "    fecha_final_devengo,\n",
    "    fecha_inicio_indice,\n",
    "    fecha_final_indice,\n",
    "    fecha_pago,\n",
    "    moneda_nocional,\n",
    "    nocional,\n",
    "    amort,\n",
    "    amort_es_flujo,\n",
    "    spread,\n",
    "    gearing,\n",
    "    tasa,\n",
    "    nombre_indice,\n",
    "    num_decimales,\n",
    ")"
   ]
  },
  {
   "cell_type": "markdown",
   "metadata": {
    "execution": {
     "iopub.execute_input": "2023-11-14T15:03:37.114645Z",
     "iopub.status.busy": "2023-11-14T15:03:37.114223Z",
     "iopub.status.idle": "2023-11-14T15:03:37.117758Z",
     "shell.execute_reply": "2023-11-14T15:03:37.117154Z",
     "shell.execute_reply.started": "2023-11-14T15:03:37.114618Z"
    }
   },
   "source": [
    "#### Getters"
   ]
  },
  {
   "cell_type": "code",
   "execution_count": 123,
   "metadata": {
    "ExecuteTime": {
     "end_time": "2022-01-21T13:43:03.460835Z",
     "start_time": "2022-01-21T13:43:03.445874Z"
    },
    "execution": {
     "iopub.execute_input": "2024-05-26T12:29:34.383340Z",
     "iopub.status.busy": "2024-05-26T12:29:34.383176Z",
     "iopub.status.idle": "2024-05-26T12:29:34.389040Z",
     "shell.execute_reply": "2024-05-26T12:29:34.388546Z",
     "shell.execute_reply.started": "2024-05-26T12:29:34.383323Z"
    }
   },
   "outputs": [
    {
     "name": "stdout",
     "output_type": "stream",
     "text": [
      "Fecha Inicio Devengo: 2023-11-13\n",
      "Fecha Final Devengo: 2023-11-18\n",
      "Fecha Inicio Índice: 2023-11-13\n",
      "Fecha Final Índice: 2023-11-17\n",
      "Fecha Pago: 2023-11-20\n",
      "Índice Fecha Inicio: 1.00000000\n",
      "ïndice Fecha Final: 1.00000000\n",
      "\n",
      "Valor Tasa Equivalente Todo el Período: 0.000000%\n",
      "Check: 9.872000%\n",
      "\n",
      "Nominal: 1,000,000,000\n",
      "Amortización: 100,000,000\n",
      "Tipo de Tasa: LinAct360\n",
      "Moneda: USD\n"
     ]
    }
   ],
   "source": [
    "print(\"Fecha Inicio Devengo:\", overnight_index_cashflow.get_start_date())\n",
    "print(\"Fecha Final Devengo:\", overnight_index_cashflow.get_end_date())\n",
    "\n",
    "print(\"Fecha Inicio Índice:\", overnight_index_cashflow.get_index_start_date())\n",
    "print(\"Fecha Final Índice:\", overnight_index_cashflow.get_index_end_date())\n",
    "\n",
    "print(\"Fecha Pago:\", overnight_index_cashflow.get_settlement_date())\n",
    "\n",
    "\n",
    "print(f\"Índice Fecha Inicio: {overnight_index_cashflow.get_start_date_index():,.8f}\")\n",
    "print(f\"ïndice Fecha Final: {overnight_index_cashflow.get_end_date_index():,.8f}\")\n",
    "\n",
    "print()\n",
    "print(f\"Valor Tasa Equivalente Todo el Período: {overnight_index_cashflow.get_rate_value():.6%}\")\n",
    "check = round((\n",
    "    valor_indice_final / valor_indice_inicio - 1\n",
    ") * 360.0 / fecha_inicio_devengo.day_diff(fecha_final_devengo), num_decimales)\n",
    "print(f\"Check: {check:.6%}\")\n",
    "print()\n",
    "\n",
    "print(f\"Nominal: {overnight_index_cashflow.get_nominal():,.0f}\")\n",
    "print(f\"Amortización: {overnight_index_cashflow.get_amortization():,.0f}\")\n",
    "print(\"Tipo de Tasa:\", overnight_index_cashflow.get_type_of_rate())\n",
    "print(\"Moneda:\", overnight_index_cashflow.ccy())"
   ]
  },
  {
   "cell_type": "markdown",
   "metadata": {},
   "source": [
    "#### Setters"
   ]
  },
  {
   "cell_type": "code",
   "execution_count": 124,
   "metadata": {
    "ExecuteTime": {
     "end_time": "2022-01-21T13:43:03.475794Z",
     "start_time": "2022-01-21T13:43:03.462829Z"
    },
    "execution": {
     "iopub.execute_input": "2024-05-26T12:29:34.389925Z",
     "iopub.status.busy": "2024-05-26T12:29:34.389751Z",
     "iopub.status.idle": "2024-05-26T12:29:34.393427Z",
     "shell.execute_reply": "2024-05-26T12:29:34.392640Z",
     "shell.execute_reply.started": "2024-05-26T12:29:34.389907Z"
    }
   },
   "outputs": [
    {
     "name": "stdout",
     "output_type": "stream",
     "text": [
      "Nueva Tasa Eq: 0.0000%\n"
     ]
    }
   ],
   "source": [
    "decimales_para_tasa_eq = 4\n",
    "overnight_index_cashflow.set_eq_rate_decimal_places(decimales_para_tasa_eq)\n",
    "print(f\"Nueva Tasa Eq: {overnight_index_cashflow.get_rate_value():.4%}\")"
   ]
  },
  {
   "cell_type": "code",
   "execution_count": 125,
   "metadata": {
    "execution": {
     "iopub.execute_input": "2024-05-26T12:29:34.394493Z",
     "iopub.status.busy": "2024-05-26T12:29:34.394265Z",
     "iopub.status.idle": "2024-05-26T12:29:34.397778Z",
     "shell.execute_reply": "2024-05-26T12:29:34.397053Z",
     "shell.execute_reply.started": "2024-05-26T12:29:34.394476Z"
    }
   },
   "outputs": [
    {
     "name": "stdout",
     "output_type": "stream",
     "text": [
      "Nuevo Nocional: 123,456.00\n"
     ]
    }
   ],
   "source": [
    "new_notional = 123_456\n",
    "overnight_index_cashflow.set_nominal(new_notional)\n",
    "print(f\"Nuevo Nocional: {overnight_index_cashflow.get_nominal():,.2f}\")"
   ]
  },
  {
   "cell_type": "code",
   "execution_count": 126,
   "metadata": {
    "execution": {
     "iopub.execute_input": "2024-05-26T12:29:34.398948Z",
     "iopub.status.busy": "2024-05-26T12:29:34.398734Z",
     "iopub.status.idle": "2024-05-26T12:29:34.402208Z",
     "shell.execute_reply": "2024-05-26T12:29:34.401608Z",
     "shell.execute_reply.started": "2024-05-26T12:29:34.398929Z"
    }
   },
   "outputs": [
    {
     "name": "stdout",
     "output_type": "stream",
     "text": [
      "Nueva Amortización: 100,000.00\n"
     ]
    }
   ],
   "source": [
    "new_amortization = 100_000\n",
    "overnight_index_cashflow.set_amortization(new_amortization)\n",
    "print(f\"Nueva Amortización: {overnight_index_cashflow.get_amortization():,.2f}\")"
   ]
  },
  {
   "cell_type": "code",
   "execution_count": 127,
   "metadata": {
    "execution": {
     "iopub.execute_input": "2024-05-26T12:29:34.403348Z",
     "iopub.status.busy": "2024-05-26T12:29:34.403118Z",
     "iopub.status.idle": "2024-05-26T12:29:34.407034Z",
     "shell.execute_reply": "2024-05-26T12:29:34.406393Z",
     "shell.execute_reply.started": "2024-05-26T12:29:34.403326Z"
    }
   },
   "outputs": [
    {
     "name": "stdout",
     "output_type": "stream",
     "text": [
      "Nuevo Índice Inicio: 20,000.00\n"
     ]
    }
   ],
   "source": [
    "nuevo_indice_inicio = 20_000.0\n",
    "overnight_index_cashflow.set_start_date_index(nuevo_indice_inicio)\n",
    "print(f\"Nuevo Índice Inicio: {overnight_index_cashflow.get_start_date_index():,.2f}\")"
   ]
  },
  {
   "cell_type": "code",
   "execution_count": 128,
   "metadata": {
    "execution": {
     "iopub.execute_input": "2024-05-26T12:29:34.407922Z",
     "iopub.status.busy": "2024-05-26T12:29:34.407750Z",
     "iopub.status.idle": "2024-05-26T12:29:34.411296Z",
     "shell.execute_reply": "2024-05-26T12:29:34.410744Z",
     "shell.execute_reply.started": "2024-05-26T12:29:34.407903Z"
    }
   },
   "outputs": [
    {
     "name": "stdout",
     "output_type": "stream",
     "text": [
      "Nuevo Índice Final: 20,010.00\n",
      "Check Tas Eq. Final: 3.6000%\n"
     ]
    }
   ],
   "source": [
    "nuevo_indice_final = 20_010.0\n",
    "overnight_index_cashflow.set_end_date_index(nuevo_indice_final)\n",
    "print(f\"Nuevo Índice Final: {overnight_index_cashflow.get_end_date_index():,.2f}\")\n",
    "print(f\"Check Tas Eq. Final: {overnight_index_cashflow.get_rate_value():.4%}\")"
   ]
  },
  {
   "cell_type": "markdown",
   "metadata": {},
   "source": [
    "#### Cálculos"
   ]
  },
  {
   "cell_type": "code",
   "execution_count": 129,
   "metadata": {
    "ExecuteTime": {
     "end_time": "2022-01-21T13:43:03.491752Z",
     "start_time": "2022-01-21T13:43:03.477789Z"
    },
    "execution": {
     "iopub.execute_input": "2024-05-26T12:29:34.412352Z",
     "iopub.status.busy": "2024-05-26T12:29:34.412152Z",
     "iopub.status.idle": "2024-05-26T12:29:34.416152Z",
     "shell.execute_reply": "2024-05-26T12:29:34.415627Z",
     "shell.execute_reply.started": "2024-05-26T12:29:34.412334Z"
    }
   },
   "outputs": [
    {
     "name": "stdout",
     "output_type": "stream",
     "text": [
      "Flujo: 100,123.46\n",
      "\n"
     ]
    }
   ],
   "source": [
    "decimales_para_tasa = 8  # Se vuelve a 8 decimales de tasa\n",
    "overnight_index_cashflow.set_eq_rate_decimal_places(decimales_para_tasa)\n",
    "\n",
    "nuevo_indice_inicio = 10_000.0\n",
    "overnight_index_cashflow.set_start_date_index(nuevo_indice_inicio)\n",
    "\n",
    "nuevo_indice_final = 10_010.0\n",
    "overnight_index_cashflow.set_end_date_index(nuevo_indice_final)\n",
    "\n",
    "print(f\"Flujo: {overnight_index_cashflow.amount():,.2f}\")\n",
    "print()"
   ]
  },
  {
   "cell_type": "code",
   "execution_count": 130,
   "metadata": {
    "execution": {
     "iopub.execute_input": "2024-05-26T12:29:34.417271Z",
     "iopub.status.busy": "2024-05-26T12:29:34.417029Z",
     "iopub.status.idle": "2024-05-26T12:29:34.421309Z",
     "shell.execute_reply": "2024-05-26T12:29:34.420716Z",
     "shell.execute_reply.started": "2024-05-26T12:29:34.417252Z"
    }
   },
   "outputs": [
    {
     "name": "stdout",
     "output_type": "stream",
     "text": [
      "Tasa Eq. fijada al 16-11-2023: 6.00%\n",
      "Check: 6.00%\n",
      "\n"
     ]
    }
   ],
   "source": [
    "fecha_devengo = qcf.QCDate(16, 11, 2023)\n",
    "indice_devengo = 10_005.0\n",
    "tasa_devengo = overnight_index_cashflow.get_eq_rate(fecha_devengo, indice_devengo)\n",
    "print(f\"Tasa Eq. fijada al {fecha_devengo.description(True)}: {tasa_devengo:.2%}\")\n",
    "check = round((\n",
    "    indice_devengo / nuevo_indice_inicio - 1\n",
    ") * 360.0 / fecha_inicio_devengo.day_diff(fecha_devengo), decimales_para_tasa)\n",
    "print(f\"Check: {check:.2%}\")\n",
    "print()"
   ]
  },
  {
   "cell_type": "code",
   "execution_count": 131,
   "metadata": {
    "execution": {
     "iopub.execute_input": "2024-05-26T12:29:34.422446Z",
     "iopub.status.busy": "2024-05-26T12:29:34.422193Z",
     "iopub.status.idle": "2024-05-26T12:29:34.426210Z",
     "shell.execute_reply": "2024-05-26T12:29:34.425489Z",
     "shell.execute_reply.started": "2024-05-26T12:29:34.422427Z"
    }
   },
   "outputs": [
    {
     "name": "stdout",
     "output_type": "stream",
     "text": [
      "Interés Devengado al 16-11-2023: 61.728000\n",
      "Check: 61.728000\n"
     ]
    }
   ],
   "source": [
    "data = qcf.time_series()\n",
    "data[fecha_devengo] = indice_devengo\n",
    "print(\n",
    "    f\"Interés Devengado al {fecha_devengo.description(True)}: {overnight_index_cashflow.accrued_interest(fecha_devengo, data):,.6f}\")\n",
    "check = new_notional * tasa_devengo * fecha_inicio_devengo.day_diff(fecha_devengo) / 360.0\n",
    "print(f\"Check: {check:,.6f}\")"
   ]
  },
  {
   "cell_type": "code",
   "execution_count": 132,
   "metadata": {
    "execution": {
     "iopub.execute_input": "2024-05-26T12:29:34.427363Z",
     "iopub.status.busy": "2024-05-26T12:29:34.427019Z",
     "iopub.status.idle": "2024-05-26T12:29:34.430781Z",
     "shell.execute_reply": "2024-05-26T12:29:34.430211Z",
     "shell.execute_reply.started": "2024-05-26T12:29:34.427345Z"
    }
   },
   "outputs": [
    {
     "data": {
      "text/plain": [
       "'OvernightIndexCashflow'"
      ]
     },
     "execution_count": 132,
     "metadata": {},
     "output_type": "execute_result"
    }
   ],
   "source": [
    "overnight_index_cashflow.get_type()"
   ]
  },
  {
   "cell_type": "markdown",
   "metadata": {},
   "source": [
    "#### Show"
   ]
  },
  {
   "cell_type": "code",
   "execution_count": 133,
   "metadata": {
    "ExecuteTime": {
     "end_time": "2022-01-21T13:43:03.506711Z",
     "start_time": "2022-01-21T13:43:03.492748Z"
    },
    "execution": {
     "iopub.execute_input": "2024-05-26T12:29:34.431933Z",
     "iopub.status.busy": "2024-05-26T12:29:34.431709Z",
     "iopub.status.idle": "2024-05-26T12:29:34.455582Z",
     "shell.execute_reply": "2024-05-26T12:29:34.455038Z",
     "shell.execute_reply.started": "2024-05-26T12:29:34.431915Z"
    }
   },
   "outputs": [
    {
     "data": {
      "text/html": [
       "<div>\n",
       "<style scoped>\n",
       "    .dataframe tbody tr th:only-of-type {\n",
       "        vertical-align: middle;\n",
       "    }\n",
       "\n",
       "    .dataframe tbody tr th {\n",
       "        vertical-align: top;\n",
       "    }\n",
       "\n",
       "    .dataframe thead th {\n",
       "        text-align: right;\n",
       "    }\n",
       "</style>\n",
       "<table border=\"1\" class=\"dataframe\">\n",
       "  <thead>\n",
       "    <tr style=\"text-align: right;\">\n",
       "      <th></th>\n",
       "      <th>fecha_inicial_devengo</th>\n",
       "      <th>fecha_final_devengo</th>\n",
       "      <th>fecha_inicial_indice</th>\n",
       "      <th>fecha_final_indice</th>\n",
       "      <th>fecha_pago</th>\n",
       "      <th>nocional</th>\n",
       "      <th>amortizacion</th>\n",
       "      <th>amort_es_flujo</th>\n",
       "      <th>moneda_nocional</th>\n",
       "      <th>nombre_indice</th>\n",
       "      <th>valor_indice_inicial</th>\n",
       "      <th>valor_indice_final</th>\n",
       "      <th>valor_tasa_equivalente</th>\n",
       "      <th>tipo_tasa</th>\n",
       "      <th>interes</th>\n",
       "      <th>flujo</th>\n",
       "      <th>spread</th>\n",
       "      <th>gearing</th>\n",
       "    </tr>\n",
       "  </thead>\n",
       "  <tbody>\n",
       "    <tr>\n",
       "      <th>0</th>\n",
       "      <td>2023-11-13</td>\n",
       "      <td>2023-11-18</td>\n",
       "      <td>2023-11-13</td>\n",
       "      <td>2023-11-17</td>\n",
       "      <td>2023-11-20</td>\n",
       "      <td>123456.0</td>\n",
       "      <td>100000.0</td>\n",
       "      <td>True</td>\n",
       "      <td>USD</td>\n",
       "      <td>INDICE</td>\n",
       "      <td>10000.0</td>\n",
       "      <td>10010.0</td>\n",
       "      <td>0.072</td>\n",
       "      <td>LinAct360</td>\n",
       "      <td>123.456</td>\n",
       "      <td>100123.456</td>\n",
       "      <td>0.0</td>\n",
       "      <td>1.0</td>\n",
       "    </tr>\n",
       "  </tbody>\n",
       "</table>\n",
       "</div>"
      ],
      "text/plain": [
       "  fecha_inicial_devengo fecha_final_devengo fecha_inicial_indice  \\\n",
       "0            2023-11-13          2023-11-18           2023-11-13   \n",
       "\n",
       "  fecha_final_indice  fecha_pago  nocional  amortizacion  amort_es_flujo  \\\n",
       "0         2023-11-17  2023-11-20  123456.0      100000.0            True   \n",
       "\n",
       "  moneda_nocional nombre_indice  valor_indice_inicial  valor_indice_final  \\\n",
       "0             USD        INDICE               10000.0             10010.0   \n",
       "\n",
       "   valor_tasa_equivalente  tipo_tasa  interes       flujo  spread  gearing  \n",
       "0                   0.072  LinAct360  123.456  100123.456     0.0      1.0  "
      ]
     },
     "execution_count": 133,
     "metadata": {},
     "output_type": "execute_result"
    }
   ],
   "source": [
    "data = [qcf.show(overnight_index_cashflow)]\n",
    "pd.DataFrame(data, columns = qcf.get_column_names(\"OvernightIndexCashflow\", \"\"))"
   ]
  },
  {
   "cell_type": "markdown",
   "metadata": {},
   "source": [
    "### Overnight Index Multi Currency Cashflow"
   ]
  },
  {
   "cell_type": "markdown",
   "metadata": {},
   "source": [
    "Un objeto de tipo `OvernightIndexMultiCurrencyCashflow` hereda de `OvernightIndexCashflow` y representa un flujo de caja del tipo de la pata flotante de un swap ICP (cámara promedio) de Chile usando cualquier tipo de índice similar (por ejemplo SOFRINDX), cualquier moneda de nocional, pero con flujos de caja en una moneda distinta a la del nocional, por ejemplo un ICPCLP con contraparte en US que compensa en USD. Al heredar de `OvernightIndexCashflow`, también permite definir en forma independiente a `start_date` y `end_date` las fechas inicial y final utilizadas para los valores del índice. Para dar de alta uno de estos objetos se requiere:\n",
    "\n",
    "- `QCDate`: fecha inicio devengo (para la aplicación de la tasa)\n",
    "- `QCDate`: fecha final devengo (para la aplicación de la tasa)\n",
    "- `QCDate`: fecha inicio índice (para el valor del índice)\n",
    "- `QCDate`: fecha final índice (para el valor del índice)\n",
    "- `QCDate`: fecha de pago\n",
    "- `QCCurrency`: moneda del nocional\n",
    "- `float`: nocional (monto al que se le aplica la tasa)\n",
    "- `float`: amortización (eventual flujo de caja que corresponde a una porción del nominal)\n",
    "- `bool`: indica si la amortización anterior es un flujo de caja o sólo una disminución de nominal\n",
    "- `float`: spread aditivo a aplicar a la fijación de la tasa equivalente (TNA en el caso de un ICPCLP)\n",
    "- `float`: spread multiplicativo o gearing a aplicar a la fijación de la tasa equivalente\n",
    "- `QCInterestRate`: con este objeto se especifica en qué convención se calcula la tasa equivalente\n",
    "- `string`: nombre del índice overnight a utilizar\n",
    "- `unsigned int`: número de decimales a utilizar para determinar la tasa equivalente\n",
    "  \n",
    "Hasta acá son los mismos argumentos necesarios para construir un `OvernightIndexCAshflow`. Se añaden los siguientes argumentos:\n",
    "- `QCDate`: fecha de fixing del índice de tipo de cambio. Esta fecha se refiere a la fecha de publicación del índice, no a la fecha de fixing en sentido financiero.\n",
    "- `QCCurrency`: moneda de pago de los flujos de caja\n",
    "- `FXRateIndex>`: índice de tipo de cambio utilizado para la conversión de los flujos a moneda de pago"
   ]
  },
  {
   "cell_type": "markdown",
   "metadata": {},
   "source": [
    "#### Ejemplo"
   ]
  },
  {
   "cell_type": "code",
   "execution_count": 134,
   "metadata": {
    "execution": {
     "iopub.execute_input": "2024-05-26T12:29:34.456531Z",
     "iopub.status.busy": "2024-05-26T12:29:34.456362Z",
     "iopub.status.idle": "2024-05-26T12:29:34.461797Z",
     "shell.execute_reply": "2024-05-26T12:29:34.461133Z",
     "shell.execute_reply.started": "2024-05-26T12:29:34.456513Z"
    }
   },
   "outputs": [],
   "source": [
    "fecha_inicio_devengo = qcf.QCDate(13, 11, 2023)\n",
    "\n",
    "# Notar que la fecha final de devengo es sábado\n",
    "fecha_final_devengo = qcf.QCDate(18, 11, 2023)\n",
    "\n",
    "fecha_inicio_indice = qcf.QCDate(13, 11, 2023)\n",
    "\n",
    "# Notar que la fecha final de índice es el viernes\n",
    "fecha_final_indice = qcf.QCDate(17, 11, 2023)\n",
    "\n",
    "# La fecha de pago es el lunes siguiente\n",
    "fecha_pago = qcf.QCDate(20, 11, 2023)\n",
    "\n",
    "moneda_nocional = qcf.QCUSD()\n",
    "nocional = 1_000_000_000.0\n",
    "amort = 100_000_000.0\n",
    "amort_es_flujo = True\n",
    "spread = 0.0\n",
    "gearing = 1.0\n",
    "tasa = qcf.QCInterestRate(0.0, qcf.QCAct360(), qcf.QCLinearWf())\n",
    "nombre_indice = 'INDICE'\n",
    "num_decimales = 8\n",
    "valor_indice_inicio = 1.0\n",
    "valor_indice_final = 1 + .1234 * 4 / 360 # Suponemos un valor constante de 10% por 4 días del índice\n",
    "\n",
    "# -------------------------------\n",
    "fecha_fixing_fx_index = fecha_final_devengo\n",
    "moneda_pago = qcf.QCCLP()\n",
    "indice_fx = usdclp_obs"
   ]
  },
  {
   "cell_type": "code",
   "execution_count": 135,
   "metadata": {
    "execution": {
     "iopub.execute_input": "2024-05-26T12:29:34.463087Z",
     "iopub.status.busy": "2024-05-26T12:29:34.462785Z",
     "iopub.status.idle": "2024-05-26T12:29:34.466982Z",
     "shell.execute_reply": "2024-05-26T12:29:34.466201Z",
     "shell.execute_reply.started": "2024-05-26T12:29:34.463057Z"
    }
   },
   "outputs": [],
   "source": [
    "overnight_index_mccy_cashflow = qcf.OvernightIndexMultiCurrencyCashflow(\n",
    "    fecha_inicio_devengo,\n",
    "    fecha_final_devengo,\n",
    "    fecha_inicio_indice,\n",
    "    fecha_final_indice,\n",
    "    fecha_pago,\n",
    "    moneda_nocional,\n",
    "    nocional,\n",
    "    amort,\n",
    "    amort_es_flujo,\n",
    "    spread,\n",
    "    gearing,\n",
    "    tasa,\n",
    "    nombre_indice,\n",
    "    num_decimales,\n",
    "    fecha_fixing_fx_index,\n",
    "    moneda_pago,\n",
    "    indice_fx,\n",
    ")"
   ]
  },
  {
   "cell_type": "code",
   "execution_count": 136,
   "metadata": {
    "execution": {
     "iopub.execute_input": "2024-05-26T12:29:34.468049Z",
     "iopub.status.busy": "2024-05-26T12:29:34.467706Z",
     "iopub.status.idle": "2024-05-26T12:29:34.471802Z",
     "shell.execute_reply": "2024-05-26T12:29:34.471226Z",
     "shell.execute_reply.started": "2024-05-26T12:29:34.468029Z"
    }
   },
   "outputs": [
    {
     "data": {
      "text/plain": [
       "qcfinancial.OvernightIndexMultiCurrencyCashflow"
      ]
     },
     "execution_count": 136,
     "metadata": {},
     "output_type": "execute_result"
    }
   ],
   "source": [
    "type(overnight_index_mccy_cashflow)"
   ]
  },
  {
   "cell_type": "markdown",
   "metadata": {},
   "source": [
    "#### Función `show` "
   ]
  },
  {
   "cell_type": "code",
   "execution_count": 137,
   "metadata": {
    "execution": {
     "iopub.execute_input": "2024-05-26T12:29:34.473151Z",
     "iopub.status.busy": "2024-05-26T12:29:34.472789Z",
     "iopub.status.idle": "2024-05-26T12:29:34.477451Z",
     "shell.execute_reply": "2024-05-26T12:29:34.476694Z",
     "shell.execute_reply.started": "2024-05-26T12:29:34.473130Z"
    }
   },
   "outputs": [
    {
     "data": {
      "text/plain": [
       "('2023-11-13',\n",
       " '2023-11-18',\n",
       " '2023-11-13',\n",
       " '2023-11-17',\n",
       " '2023-11-20',\n",
       " 1000000000.0,\n",
       " 100000000.0,\n",
       " True,\n",
       " 'USD',\n",
       " 'INDICE',\n",
       " 1.0,\n",
       " 1.0,\n",
       " 0.0,\n",
       " 'LinAct360',\n",
       " 0.0,\n",
       " 100000000.0,\n",
       " 0.0,\n",
       " 1.0,\n",
       " 'CLP',\n",
       " 'USDOBS',\n",
       " '2023-11-18',\n",
       " 1.0,\n",
       " 0.0,\n",
       " 100000000.0,\n",
       " 100000000.0)"
      ]
     },
     "execution_count": 137,
     "metadata": {},
     "output_type": "execute_result"
    }
   ],
   "source": [
    "qcf.show(overnight_index_mccy_cashflow)"
   ]
  },
  {
   "cell_type": "markdown",
   "metadata": {},
   "source": [
    "Se envuelve el resultado en un `pd.DataFrame`."
   ]
  },
  {
   "cell_type": "code",
   "execution_count": 138,
   "metadata": {
    "execution": {
     "iopub.execute_input": "2024-05-26T12:29:34.478658Z",
     "iopub.status.busy": "2024-05-26T12:29:34.478325Z",
     "iopub.status.idle": "2024-05-26T12:29:34.498084Z",
     "shell.execute_reply": "2024-05-26T12:29:34.497529Z",
     "shell.execute_reply.started": "2024-05-26T12:29:34.478637Z"
    }
   },
   "outputs": [
    {
     "data": {
      "text/html": [
       "<div>\n",
       "<style scoped>\n",
       "    .dataframe tbody tr th:only-of-type {\n",
       "        vertical-align: middle;\n",
       "    }\n",
       "\n",
       "    .dataframe tbody tr th {\n",
       "        vertical-align: top;\n",
       "    }\n",
       "\n",
       "    .dataframe thead th {\n",
       "        text-align: right;\n",
       "    }\n",
       "</style>\n",
       "<table border=\"1\" class=\"dataframe\">\n",
       "  <thead>\n",
       "    <tr style=\"text-align: right;\">\n",
       "      <th></th>\n",
       "      <th>fecha_inicial_devengo</th>\n",
       "      <th>fecha_final_devengo</th>\n",
       "      <th>fecha_inicial_indice</th>\n",
       "      <th>fecha_final_indice</th>\n",
       "      <th>fecha_pago</th>\n",
       "      <th>nocional</th>\n",
       "      <th>amortizacion</th>\n",
       "      <th>amort_es_flujo</th>\n",
       "      <th>moneda_nocional</th>\n",
       "      <th>nombre_indice</th>\n",
       "      <th>...</th>\n",
       "      <th>flujo</th>\n",
       "      <th>spread</th>\n",
       "      <th>gearing</th>\n",
       "      <th>moneda_pago</th>\n",
       "      <th>indice_fx</th>\n",
       "      <th>fecha_fijacion_indice_fx</th>\n",
       "      <th>valor_indice_fx</th>\n",
       "      <th>interes_moneda_pago</th>\n",
       "      <th>amortizacion_moneda_pago</th>\n",
       "      <th>flujo_moneda_pago</th>\n",
       "    </tr>\n",
       "  </thead>\n",
       "  <tbody>\n",
       "    <tr>\n",
       "      <th>0</th>\n",
       "      <td>2023-11-13</td>\n",
       "      <td>2023-11-18</td>\n",
       "      <td>2023-11-13</td>\n",
       "      <td>2023-11-17</td>\n",
       "      <td>2023-11-20</td>\n",
       "      <td>1.000000e+09</td>\n",
       "      <td>100000000.0</td>\n",
       "      <td>True</td>\n",
       "      <td>USD</td>\n",
       "      <td>INDICE</td>\n",
       "      <td>...</td>\n",
       "      <td>100000000.0</td>\n",
       "      <td>0.0</td>\n",
       "      <td>1.0</td>\n",
       "      <td>CLP</td>\n",
       "      <td>USDOBS</td>\n",
       "      <td>2023-11-18</td>\n",
       "      <td>1.0</td>\n",
       "      <td>0.0</td>\n",
       "      <td>100000000.0</td>\n",
       "      <td>100000000.0</td>\n",
       "    </tr>\n",
       "  </tbody>\n",
       "</table>\n",
       "<p>1 rows × 25 columns</p>\n",
       "</div>"
      ],
      "text/plain": [
       "  fecha_inicial_devengo fecha_final_devengo fecha_inicial_indice  \\\n",
       "0            2023-11-13          2023-11-18           2023-11-13   \n",
       "\n",
       "  fecha_final_indice  fecha_pago      nocional  amortizacion  amort_es_flujo  \\\n",
       "0         2023-11-17  2023-11-20  1.000000e+09   100000000.0            True   \n",
       "\n",
       "  moneda_nocional nombre_indice  ...        flujo  spread  gearing  \\\n",
       "0             USD        INDICE  ...  100000000.0     0.0      1.0   \n",
       "\n",
       "  moneda_pago  indice_fx  fecha_fijacion_indice_fx  valor_indice_fx  \\\n",
       "0         CLP     USDOBS                2023-11-18              1.0   \n",
       "\n",
       "   interes_moneda_pago amortizacion_moneda_pago flujo_moneda_pago  \n",
       "0                  0.0              100000000.0       100000000.0  \n",
       "\n",
       "[1 rows x 25 columns]"
      ]
     },
     "execution_count": 138,
     "metadata": {},
     "output_type": "execute_result"
    }
   ],
   "source": [
    "pd.DataFrame(\n",
    "    [qcf.show(overnight_index_mccy_cashflow),],\n",
    "    columns=qcf.get_column_names(\"OvernightIndexMultiCurrencyCashflow\", \"\")\n",
    ")"
   ]
  },
  {
   "cell_type": "markdown",
   "metadata": {},
   "source": [
    "#### Nuevo Setter"
   ]
  },
  {
   "cell_type": "markdown",
   "metadata": {},
   "source": [
    "Valor del índice de tipo de cambio."
   ]
  },
  {
   "cell_type": "code",
   "execution_count": 139,
   "metadata": {
    "execution": {
     "iopub.execute_input": "2024-05-26T12:29:34.499077Z",
     "iopub.status.busy": "2024-05-26T12:29:34.498909Z",
     "iopub.status.idle": "2024-05-26T12:29:34.502074Z",
     "shell.execute_reply": "2024-05-26T12:29:34.501451Z",
     "shell.execute_reply.started": "2024-05-26T12:29:34.499060Z"
    }
   },
   "outputs": [],
   "source": [
    "overnight_index_mccy_cashflow.set_fx_rate_index_value(.5)"
   ]
  },
  {
   "cell_type": "markdown",
   "metadata": {},
   "source": [
    "Ver el efecto en las últimas dos columnas."
   ]
  },
  {
   "cell_type": "code",
   "execution_count": 140,
   "metadata": {
    "execution": {
     "iopub.execute_input": "2024-05-26T12:29:34.503133Z",
     "iopub.status.busy": "2024-05-26T12:29:34.502904Z",
     "iopub.status.idle": "2024-05-26T12:29:34.518750Z",
     "shell.execute_reply": "2024-05-26T12:29:34.518145Z",
     "shell.execute_reply.started": "2024-05-26T12:29:34.503113Z"
    }
   },
   "outputs": [
    {
     "data": {
      "text/html": [
       "<div>\n",
       "<style scoped>\n",
       "    .dataframe tbody tr th:only-of-type {\n",
       "        vertical-align: middle;\n",
       "    }\n",
       "\n",
       "    .dataframe tbody tr th {\n",
       "        vertical-align: top;\n",
       "    }\n",
       "\n",
       "    .dataframe thead th {\n",
       "        text-align: right;\n",
       "    }\n",
       "</style>\n",
       "<table border=\"1\" class=\"dataframe\">\n",
       "  <thead>\n",
       "    <tr style=\"text-align: right;\">\n",
       "      <th></th>\n",
       "      <th>fecha_inicial_devengo</th>\n",
       "      <th>fecha_final_devengo</th>\n",
       "      <th>fecha_inicial_indice</th>\n",
       "      <th>fecha_final_indice</th>\n",
       "      <th>fecha_pago</th>\n",
       "      <th>nocional</th>\n",
       "      <th>amortizacion</th>\n",
       "      <th>amort_es_flujo</th>\n",
       "      <th>moneda_nocional</th>\n",
       "      <th>nombre_indice</th>\n",
       "      <th>...</th>\n",
       "      <th>flujo</th>\n",
       "      <th>spread</th>\n",
       "      <th>gearing</th>\n",
       "      <th>moneda_pago</th>\n",
       "      <th>indice_fx</th>\n",
       "      <th>fecha_fijacion_indice_fx</th>\n",
       "      <th>valor_indice_fx</th>\n",
       "      <th>interes_moneda_pago</th>\n",
       "      <th>amortizacion_moneda_pago</th>\n",
       "      <th>flujo_moneda_pago</th>\n",
       "    </tr>\n",
       "  </thead>\n",
       "  <tbody>\n",
       "    <tr>\n",
       "      <th>0</th>\n",
       "      <td>2023-11-13</td>\n",
       "      <td>2023-11-18</td>\n",
       "      <td>2023-11-13</td>\n",
       "      <td>2023-11-17</td>\n",
       "      <td>2023-11-20</td>\n",
       "      <td>1.000000e+09</td>\n",
       "      <td>100000000.0</td>\n",
       "      <td>True</td>\n",
       "      <td>USD</td>\n",
       "      <td>INDICE</td>\n",
       "      <td>...</td>\n",
       "      <td>100000000.0</td>\n",
       "      <td>0.0</td>\n",
       "      <td>1.0</td>\n",
       "      <td>CLP</td>\n",
       "      <td>USDOBS</td>\n",
       "      <td>2023-11-18</td>\n",
       "      <td>0.5</td>\n",
       "      <td>0.0</td>\n",
       "      <td>50000000.0</td>\n",
       "      <td>50000000.0</td>\n",
       "    </tr>\n",
       "  </tbody>\n",
       "</table>\n",
       "<p>1 rows × 25 columns</p>\n",
       "</div>"
      ],
      "text/plain": [
       "  fecha_inicial_devengo fecha_final_devengo fecha_inicial_indice  \\\n",
       "0            2023-11-13          2023-11-18           2023-11-13   \n",
       "\n",
       "  fecha_final_indice  fecha_pago      nocional  amortizacion  amort_es_flujo  \\\n",
       "0         2023-11-17  2023-11-20  1.000000e+09   100000000.0            True   \n",
       "\n",
       "  moneda_nocional nombre_indice  ...        flujo  spread  gearing  \\\n",
       "0             USD        INDICE  ...  100000000.0     0.0      1.0   \n",
       "\n",
       "  moneda_pago  indice_fx  fecha_fijacion_indice_fx  valor_indice_fx  \\\n",
       "0         CLP     USDOBS                2023-11-18              0.5   \n",
       "\n",
       "   interes_moneda_pago amortizacion_moneda_pago flujo_moneda_pago  \n",
       "0                  0.0               50000000.0        50000000.0  \n",
       "\n",
       "[1 rows x 25 columns]"
      ]
     },
     "execution_count": 140,
     "metadata": {},
     "output_type": "execute_result"
    }
   ],
   "source": [
    "pd.DataFrame(\n",
    "    [qcf.show(overnight_index_mccy_cashflow),],\n",
    "    columns=qcf.get_column_names(\"OvernightIndexMultiCurrencyCashflow\", \"\")\n",
    ")"
   ]
  },
  {
   "cell_type": "markdown",
   "metadata": {},
   "source": [
    "#### Nuevos Getters"
   ]
  },
  {
   "cell_type": "code",
   "execution_count": 141,
   "metadata": {
    "execution": {
     "iopub.execute_input": "2024-05-26T12:29:34.520132Z",
     "iopub.status.busy": "2024-05-26T12:29:34.519819Z",
     "iopub.status.idle": "2024-05-26T12:29:34.523786Z",
     "shell.execute_reply": "2024-05-26T12:29:34.523136Z",
     "shell.execute_reply.started": "2024-05-26T12:29:34.520108Z"
    }
   },
   "outputs": [
    {
     "data": {
      "text/plain": [
       "<qcfinancial.FXRateIndex at 0x10749ae70>"
      ]
     },
     "execution_count": 141,
     "metadata": {},
     "output_type": "execute_result"
    }
   ],
   "source": [
    "overnight_index_mccy_cashflow.get_fx_rate_index()"
   ]
  },
  {
   "cell_type": "code",
   "execution_count": 142,
   "metadata": {
    "execution": {
     "iopub.execute_input": "2024-05-26T12:29:34.525227Z",
     "iopub.status.busy": "2024-05-26T12:29:34.524758Z",
     "iopub.status.idle": "2024-05-26T12:29:34.528811Z",
     "shell.execute_reply": "2024-05-26T12:29:34.528209Z",
     "shell.execute_reply.started": "2024-05-26T12:29:34.525207Z"
    }
   },
   "outputs": [
    {
     "data": {
      "text/plain": [
       "'OvernightIndexMultiCurrencyCashflow'"
      ]
     },
     "execution_count": 142,
     "metadata": {},
     "output_type": "execute_result"
    }
   ],
   "source": [
    "overnight_index_mccy_cashflow.get_type()"
   ]
  },
  {
   "cell_type": "code",
   "execution_count": 143,
   "metadata": {
    "execution": {
     "iopub.execute_input": "2024-05-26T12:29:34.530232Z",
     "iopub.status.busy": "2024-05-26T12:29:34.529831Z",
     "iopub.status.idle": "2024-05-26T12:29:34.533822Z",
     "shell.execute_reply": "2024-05-26T12:29:34.533218Z",
     "shell.execute_reply.started": "2024-05-26T12:29:34.530212Z"
    }
   },
   "outputs": [
    {
     "data": {
      "text/plain": [
       "'USDOBS'"
      ]
     },
     "execution_count": 143,
     "metadata": {},
     "output_type": "execute_result"
    }
   ],
   "source": [
    "overnight_index_mccy_cashflow.get_fx_rate_index_code()"
   ]
  },
  {
   "cell_type": "code",
   "execution_count": 144,
   "metadata": {
    "execution": {
     "iopub.execute_input": "2024-05-26T12:29:34.535055Z",
     "iopub.status.busy": "2024-05-26T12:29:34.534800Z",
     "iopub.status.idle": "2024-05-26T12:29:34.538649Z",
     "shell.execute_reply": "2024-05-26T12:29:34.538108Z",
     "shell.execute_reply.started": "2024-05-26T12:29:34.535027Z"
    }
   },
   "outputs": [
    {
     "data": {
      "text/plain": [
       "0.5"
      ]
     },
     "execution_count": 144,
     "metadata": {},
     "output_type": "execute_result"
    }
   ],
   "source": [
    "overnight_index_mccy_cashflow.get_fx_rate_index_value()"
   ]
  },
  {
   "cell_type": "markdown",
   "metadata": {},
   "source": [
    "#### Nuevos Cálculos"
   ]
  },
  {
   "cell_type": "markdown",
   "metadata": {},
   "source": [
    "Primero se fijan los valores del índice overnight."
   ]
  },
  {
   "cell_type": "code",
   "execution_count": 145,
   "metadata": {
    "execution": {
     "iopub.execute_input": "2024-05-26T12:29:34.539911Z",
     "iopub.status.busy": "2024-05-26T12:29:34.539565Z",
     "iopub.status.idle": "2024-05-26T12:29:34.543710Z",
     "shell.execute_reply": "2024-05-26T12:29:34.543072Z",
     "shell.execute_reply.started": "2024-05-26T12:29:34.539890Z"
    }
   },
   "outputs": [
    {
     "data": {
      "text/plain": [
       "20000000.00000002"
      ]
     },
     "execution_count": 145,
     "metadata": {},
     "output_type": "execute_result"
    }
   ],
   "source": [
    "overnight_index_mccy_cashflow.set_start_date_index(100)\n",
    "overnight_index_mccy_cashflow.accrued_interest(fecha_final_devengo, 102)"
   ]
  },
  {
   "cell_type": "code",
   "execution_count": 146,
   "metadata": {
    "execution": {
     "iopub.execute_input": "2024-05-26T12:29:34.544920Z",
     "iopub.status.busy": "2024-05-26T12:29:34.544686Z",
     "iopub.status.idle": "2024-05-26T12:29:34.548703Z",
     "shell.execute_reply": "2024-05-26T12:29:34.548066Z",
     "shell.execute_reply.started": "2024-05-26T12:29:34.544902Z"
    }
   },
   "outputs": [
    {
     "data": {
      "text/plain": [
       "-495000000.0"
      ]
     },
     "execution_count": 146,
     "metadata": {},
     "output_type": "execute_result"
    }
   ],
   "source": [
    "overnight_index_mccy_cashflow.settlement_ccy_interest()"
   ]
  },
  {
   "cell_type": "code",
   "execution_count": 147,
   "metadata": {
    "execution": {
     "iopub.execute_input": "2024-05-26T12:29:34.549699Z",
     "iopub.status.busy": "2024-05-26T12:29:34.549477Z",
     "iopub.status.idle": "2024-05-26T12:29:34.553962Z",
     "shell.execute_reply": "2024-05-26T12:29:34.553411Z",
     "shell.execute_reply.started": "2024-05-26T12:29:34.549678Z"
    }
   },
   "outputs": [
    {
     "data": {
      "text/plain": [
       "50000000.0"
      ]
     },
     "execution_count": 147,
     "metadata": {},
     "output_type": "execute_result"
    }
   ],
   "source": [
    "overnight_index_mccy_cashflow.settlement_ccy_amortization()"
   ]
  },
  {
   "cell_type": "code",
   "execution_count": 148,
   "metadata": {
    "execution": {
     "iopub.execute_input": "2024-05-26T12:29:34.555027Z",
     "iopub.status.busy": "2024-05-26T12:29:34.554851Z",
     "iopub.status.idle": "2024-05-26T12:29:34.558720Z",
     "shell.execute_reply": "2024-05-26T12:29:34.558132Z",
     "shell.execute_reply.started": "2024-05-26T12:29:34.555009Z"
    }
   },
   "outputs": [
    {
     "data": {
      "text/plain": [
       "-445000000.0"
      ]
     },
     "execution_count": 148,
     "metadata": {},
     "output_type": "execute_result"
    }
   ],
   "source": [
    "overnight_index_mccy_cashflow.settlement_ccy_amount()"
   ]
  },
  {
   "cell_type": "markdown",
   "metadata": {},
   "source": [
    "### Icp Clf Cashflow\n",
    "Un objeto de tipo `IcpClfCashflow` representa un flujo de caja calculado como un cupón de la pata flotante de un swap ICP (cámara promedio) en UF de Chile. Para dar de alta uno de estos objetos se requiere:\n",
    "\n",
    "- `QCDate`: fecha inicio (para la aplicación de la tasa)\n",
    "- `QCDate`: fecha final (para la aplicación de la tasa)\n",
    "- `QCDate`: fecha de pago\n",
    "- `float`: nominal (monto al que se le aplica la tasa)\n",
    "- `float`: amortización (eventual flujo de caja que corresponde a una porción del nominal)\n",
    "- `bool`: indica si la amortización anterior es un flujo de caja o sólo una disminución de nominal\n",
    "- `float`: spread aditivo a aplicar a la fijación de la TRA\n",
    "- `float`: spread multiplicativo o gearing a aplicar a la fijación de la TRA\n",
    "- `vector<float>`: objeto `double_vec` (en Python) que contiene ICP Inicio, ICP Final, UF Inicio, UF Final (se debe respetar el orden)\n",
    "\n",
    "Recordar que TRA significa **Tasa Real Anual** y se determina utilizando los valores del índice ICP y los valores de la UF en la fecha de inicio y fecha final del `IcpClfCashflow`."
   ]
  },
  {
   "cell_type": "code",
   "execution_count": 149,
   "metadata": {
    "ExecuteTime": {
     "end_time": "2022-01-21T13:43:03.522669Z",
     "start_time": "2022-01-21T13:43:03.507709Z"
    },
    "execution": {
     "iopub.execute_input": "2024-05-26T12:29:34.559923Z",
     "iopub.status.busy": "2024-05-26T12:29:34.559712Z",
     "iopub.status.idle": "2024-05-26T12:29:34.564197Z",
     "shell.execute_reply": "2024-05-26T12:29:34.563648Z",
     "shell.execute_reply.started": "2024-05-26T12:29:34.559905Z"
    }
   },
   "outputs": [],
   "source": [
    "# Ejemplo\n",
    "fecha_inicio = qcf.QCDate(20, 9, 2018)\n",
    "fecha_final = qcf.QCDate(20, 9, 2019)\n",
    "fecha_pago = qcf.QCDate(23, 9, 2019)\n",
    "nominal = 300_000.0\n",
    "amort = 100_000.0\n",
    "spread = 0.0\n",
    "gearing = 1.0\n",
    "\n",
    "icp_uf = qcf.double_vec()\n",
    "# Los primeros dos valores corresponden a icp_inicial e icp_final.\n",
    "# Los segundos dos valores corresponden a uf_inicial y uf_final\n",
    "icp_uf.append(10_000.0)\n",
    "icp_uf.append(10_250.0)\n",
    "icp_uf.append(35_000.0)\n",
    "icp_uf.append(35_500.0)\n",
    "\n",
    "icp_clf_cashflow = qcf.IcpClfCashflow(\n",
    "    fecha_inicio, \n",
    "    fecha_final, \n",
    "    fecha_pago, \n",
    "    nominal, \n",
    "    amort, \n",
    "    True, \n",
    "    spread, \n",
    "    gearing, \n",
    "    icp_uf\n",
    ")"
   ]
  },
  {
   "cell_type": "code",
   "execution_count": 150,
   "metadata": {
    "ExecuteTime": {
     "end_time": "2022-01-21T13:43:03.538625Z",
     "start_time": "2022-01-21T13:43:03.523667Z"
    },
    "execution": {
     "iopub.execute_input": "2024-05-26T12:29:34.565221Z",
     "iopub.status.busy": "2024-05-26T12:29:34.565058Z",
     "iopub.status.idle": "2024-05-26T12:29:34.570632Z",
     "shell.execute_reply": "2024-05-26T12:29:34.570151Z",
     "shell.execute_reply.started": "2024-05-26T12:29:34.565204Z"
    }
   },
   "outputs": [
    {
     "name": "stdout",
     "output_type": "stream",
     "text": [
      "Fecha Inicio: 2018-09-20\n",
      "Fecha Final: 2019-09-20\n",
      "ICP Fecha Inicio: 10,000.00\n",
      "ICP Fecha Final: 10,250.00\n",
      "UF Fecha Inicio: 35,000.00\n",
      "UF Fecha Final: 35,500.00\n",
      "Valor TRA Todo el Período: 1.0461%\n",
      "Check TRA: 1.0461%\n",
      "Nominal: 300,000\n",
      "Amortización: 100,000\n",
      "Tipo de Tasa: LinAct360\n",
      "Moneda: CLF\n"
     ]
    }
   ],
   "source": [
    "# Getters\n",
    "print(\"Fecha Inicio:\", icp_clf_cashflow.get_start_date())\n",
    "print(\"Fecha Final:\", icp_clf_cashflow.get_end_date())\n",
    "\n",
    "print(f\"ICP Fecha Inicio: {icp_clf_cashflow.get_start_date_icp():,.2f}\")\n",
    "print(f\"ICP Fecha Final: {icp_clf_cashflow.get_end_date_icp():,.2f}\")\n",
    "\n",
    "print(f\"UF Fecha Inicio: {icp_clf_cashflow.get_start_date_uf():,.2f}\")\n",
    "print(f\"UF Fecha Final: {icp_clf_cashflow.get_end_date_uf():,.2f}\")\n",
    "\n",
    "print(f\"Valor TRA Todo el Período: {icp_clf_cashflow.get_rate_value():.4%}\")\n",
    "tna = icp_clf_cashflow.get_tna(fecha_final, 10_250.0)\n",
    "dias = fecha_inicio.day_diff(fecha_final)\n",
    "tra = ((1 + tna * dias / 360.0) * 35_000.0 / 35_500.0 - 1) * 360.0 / dias\n",
    "print(f\"Check TRA: {round(tra, 6):.4%}\")\n",
    "\n",
    "print(f\"Nominal: {icp_clf_cashflow.get_nominal():,.0f}\")\n",
    "print(f\"Amortización: {icp_clf_cashflow.get_amortization():,.0f}\")\n",
    "print(\"Tipo de Tasa:\", icp_clf_cashflow.get_type_of_rate())\n",
    "print(\"Moneda:\", icp_clf_cashflow.ccy())"
   ]
  },
  {
   "cell_type": "code",
   "execution_count": 151,
   "metadata": {
    "ExecuteTime": {
     "end_time": "2022-01-21T13:43:03.553586Z",
     "start_time": "2022-01-21T13:43:03.539624Z"
    },
    "execution": {
     "iopub.execute_input": "2024-05-26T12:29:34.571948Z",
     "iopub.status.busy": "2024-05-26T12:29:34.571765Z",
     "iopub.status.idle": "2024-05-26T12:29:34.576928Z",
     "shell.execute_reply": "2024-05-26T12:29:34.576365Z",
     "shell.execute_reply.started": "2024-05-26T12:29:34.571930Z"
    }
   },
   "outputs": [
    {
     "name": "stdout",
     "output_type": "stream",
     "text": [
      "Nueva TRA: 1.046054%\n",
      "Nuevo Nominal: 100,000\n",
      "Nueva Amortización: 10,000\n",
      "Nuevo ICP Inicio: 20,000.00\n",
      "Nuevo ICP Final: 20,500.00\n",
      "Check TNA Final: 2.470000%\n"
     ]
    }
   ],
   "source": [
    "# Setters\n",
    "decimales_para_tra = 8\n",
    "icp_clf_cashflow.set_tra_decimal_places(decimales_para_tra)\n",
    "print(f\"Nueva TRA: {icp_clf_cashflow.get_rate_value():.6%}\")\n",
    "\n",
    "nuevo_nominal = 100_000.0\n",
    "icp_clf_cashflow.set_nominal(nuevo_nominal)\n",
    "print(f\"Nuevo Nominal: {icp_clf_cashflow.get_nominal():,.0f}\")\n",
    "\n",
    "nueva_amortizacion = 10_000.0\n",
    "icp_clf_cashflow.set_amortization(nueva_amortizacion)\n",
    "print(f\"Nueva Amortización: {icp_clf_cashflow.get_amortization():,.0f}\")\n",
    "\n",
    "nuevo_icp_inicio = 20_000.0\n",
    "icp_clf_cashflow.set_start_date_icp(nuevo_icp_inicio)\n",
    "print(f\"Nuevo ICP Inicio: {icp_clf_cashflow.get_start_date_icp():,.2f}\")\n",
    "\n",
    "nuevo_icp_final = 20_500.0\n",
    "icp_clf_cashflow.set_end_date_icp(nuevo_icp_final)\n",
    "print(f\"Nuevo ICP Final: {icp_clf_cashflow.get_end_date_icp():,.2f}\")\n",
    "print(f\"Check TNA Final: {icp_clf_cashflow.get_tna(fecha_final, nuevo_icp_final):.6%}\")"
   ]
  },
  {
   "cell_type": "code",
   "execution_count": 152,
   "metadata": {
    "execution": {
     "iopub.execute_input": "2024-05-26T12:29:34.577857Z",
     "iopub.status.busy": "2024-05-26T12:29:34.577689Z",
     "iopub.status.idle": "2024-05-26T12:29:34.581489Z",
     "shell.execute_reply": "2024-05-26T12:29:34.580852Z",
     "shell.execute_reply.started": "2024-05-26T12:29:34.577839Z"
    }
   },
   "outputs": [
    {
     "data": {
      "text/plain": [
       "'IcpClfCashflow'"
      ]
     },
     "execution_count": 152,
     "metadata": {},
     "output_type": "execute_result"
    }
   ],
   "source": [
    "icp_clf_cashflow.get_type()"
   ]
  },
  {
   "cell_type": "code",
   "execution_count": 153,
   "metadata": {
    "execution": {
     "iopub.execute_input": "2024-05-26T12:29:34.582673Z",
     "iopub.status.busy": "2024-05-26T12:29:34.582417Z",
     "iopub.status.idle": "2024-05-26T12:29:34.586887Z",
     "shell.execute_reply": "2024-05-26T12:29:34.586335Z",
     "shell.execute_reply.started": "2024-05-26T12:29:34.582653Z"
    }
   },
   "outputs": [
    {
     "data": {
      "text/plain": [
       "('2018-09-20',\n",
       " '2019-09-20',\n",
       " '2019-09-23',\n",
       " 100000.0,\n",
       " 10000.0,\n",
       " True,\n",
       " 11060.582527777788,\n",
       " 'CLF',\n",
       " 20000.0,\n",
       " 20500.0,\n",
       " 35000.0,\n",
       " 35500.0,\n",
       " 0.01046054,\n",
       " 1060.582527777787,\n",
       " 0.0,\n",
       " 1.0,\n",
       " 'LinAct360',\n",
       " 392650680.0)"
      ]
     },
     "execution_count": 153,
     "metadata": {},
     "output_type": "execute_result"
    }
   ],
   "source": [
    "qcf.show(icp_clf_cashflow)"
   ]
  },
  {
   "cell_type": "markdown",
   "metadata": {},
   "source": [
    "### Compounded Overnight Rate Cashflow\n",
    "\n",
    "Un objeto de tipo `CompoundedOvernightRateCashflow` representa un flujo de caja calculado como un cupón de la pata flotante de un OIS sobre cualquier índice overnight (SOFR, FF, EONIA). Para dar de alta uno de estos objetos se requiere:\n",
    "\n",
    "- `InterestRateIndex`: el índice de tasa de interés prefijado\n",
    "- `QCDate`: fecha inicio (para la aplicación de la tasa)\n",
    "- `QCDate`: fecha final (para la aplicación de la tasa)\n",
    "- `QCDate`: fecha de pago\n",
    "- `DateList`: fechas de fixing del índice\n",
    "- `float`: nominal (monto al que se le aplica la tasa)\n",
    "- `float`: amortización (eventual flujo de caja que corresponde a una porción del nominal)\n",
    "- `bool`: indica si la amortización anterior es un flujo de caja o sólo una disminución de nominal\n",
    "- `QCCurrency`: moneda del nocional de la operación\n",
    "- `float`: spread aditivo a aplicar a la fijación de la TRA\n",
    "- `float`: spread multiplicativo o gearing a aplicar a la fijación de la TRA\n",
    "- `bool`: si `True` la tasa equivalente se calcula en convención Lin Act/360. En caso contrario es Lin 30/360\n",
    "- `unsigned int`: número de decimales a usar en el cálculo de la tasa equivalente. Por ejemplo para 0.12345678% este valor debe ser 10.\n",
    "- `unsigned int`: número de días de lookback\n",
    "- `unsigned int`: número de días de lockout\n",
    "\n",
    "El efecto de lookback y lockout aún no está implementado."
   ]
  },
  {
   "cell_type": "markdown",
   "metadata": {},
   "source": [
    "#### Constructor"
   ]
  },
  {
   "cell_type": "markdown",
   "metadata": {},
   "source": [
    "Se da de alta un índice overnight ficiticio de test."
   ]
  },
  {
   "cell_type": "code",
   "execution_count": 154,
   "metadata": {
    "ExecuteTime": {
     "end_time": "2022-01-21T13:43:03.569544Z",
     "start_time": "2022-01-21T13:43:03.554583Z"
    },
    "execution": {
     "iopub.execute_input": "2024-05-26T12:29:34.588179Z",
     "iopub.status.busy": "2024-05-26T12:29:34.587943Z",
     "iopub.status.idle": "2024-05-26T12:29:34.591752Z",
     "shell.execute_reply": "2024-05-26T12:29:34.591136Z",
     "shell.execute_reply.started": "2024-05-26T12:29:34.588159Z"
    }
   },
   "outputs": [],
   "source": [
    "codigo = \"OITEST\"\n",
    "lin_act360 = qcf.QCInterestRate(0.0, act360, lin_wf)\n",
    "fixing_lag = qcf.Tenor(\"0d\")\n",
    "tenor = qcf.Tenor(\"1d\")\n",
    "fixing_calendar = scl\n",
    "settlement_calendar = scl\n",
    "oitest = qcf.InterestRateIndex(\n",
    "    codigo, \n",
    "    lin_act360, \n",
    "    fixing_lag, \n",
    "    tenor, \n",
    "    fixing_calendar, \n",
    "    settlement_calendar, \n",
    "    usd\n",
    ")"
   ]
  },
  {
   "cell_type": "code",
   "execution_count": 155,
   "metadata": {
    "ExecuteTime": {
     "end_time": "2022-01-21T13:43:03.584504Z",
     "start_time": "2022-01-21T13:43:03.570541Z"
    },
    "execution": {
     "iopub.execute_input": "2024-05-26T12:29:34.592580Z",
     "iopub.status.busy": "2024-05-26T12:29:34.592420Z",
     "iopub.status.idle": "2024-05-26T12:29:34.595295Z",
     "shell.execute_reply": "2024-05-26T12:29:34.594705Z",
     "shell.execute_reply.started": "2024-05-26T12:29:34.592563Z"
    }
   },
   "outputs": [],
   "source": [
    "fixing_dates = qcf.DateList()"
   ]
  },
  {
   "cell_type": "code",
   "execution_count": 156,
   "metadata": {
    "ExecuteTime": {
     "end_time": "2022-01-21T13:43:03.600461Z",
     "start_time": "2022-01-21T13:43:03.585501Z"
    },
    "execution": {
     "iopub.execute_input": "2024-05-26T12:29:34.596399Z",
     "iopub.status.busy": "2024-05-26T12:29:34.596199Z",
     "iopub.status.idle": "2024-05-26T12:29:34.599627Z",
     "shell.execute_reply": "2024-05-26T12:29:34.599002Z",
     "shell.execute_reply.started": "2024-05-26T12:29:34.596381Z"
    }
   },
   "outputs": [],
   "source": [
    "fixing_dates.append(qcf.QCDate(27, 12, 2021))\n",
    "fixing_dates.append(qcf.QCDate(28, 12, 2021))\n",
    "fixing_dates.append(qcf.QCDate(29, 12, 2021))\n",
    "fixing_dates.append(qcf.QCDate(30, 12, 2021))"
   ]
  },
  {
   "cell_type": "code",
   "execution_count": 157,
   "metadata": {
    "ExecuteTime": {
     "end_time": "2022-01-21T13:43:03.679251Z",
     "start_time": "2022-01-21T13:43:03.601459Z"
    },
    "execution": {
     "iopub.execute_input": "2024-05-26T12:29:34.600864Z",
     "iopub.status.busy": "2024-05-26T12:29:34.600408Z",
     "iopub.status.idle": "2024-05-26T12:29:34.604383Z",
     "shell.execute_reply": "2024-05-26T12:29:34.603837Z",
     "shell.execute_reply.started": "2024-05-26T12:29:34.600845Z"
    }
   },
   "outputs": [],
   "source": [
    "cor_cashflow = qcf.CompoundedOvernightRateCashflow(\n",
    "    oitest,\n",
    "    qcf.QCDate(27, 12, 2021),\n",
    "    qcf.QCDate(31, 12, 2021),\n",
    "    qcf.QCDate(31, 12, 2021),\n",
    "    fixing_dates,\n",
    "    10_000_000.0,\n",
    "    100_000.0,\n",
    "    True,\n",
    "    qcf.QCCLP(),\n",
    "    spread:=0.001,\n",
    "    1.0,\n",
    "    True,\n",
    "    8,\n",
    "    0,\n",
    "    0,\n",
    ")"
   ]
  },
  {
   "cell_type": "markdown",
   "metadata": {},
   "source": [
    "#### Getters"
   ]
  },
  {
   "cell_type": "code",
   "execution_count": 158,
   "metadata": {
    "ExecuteTime": {
     "end_time": "2022-01-21T13:43:03.680249Z",
     "start_time": "2022-01-21T13:43:03.680249Z"
    },
    "execution": {
     "iopub.execute_input": "2024-05-26T12:29:34.605324Z",
     "iopub.status.busy": "2024-05-26T12:29:34.605150Z",
     "iopub.status.idle": "2024-05-26T12:29:34.609810Z",
     "shell.execute_reply": "2024-05-26T12:29:34.609281Z",
     "shell.execute_reply.started": "2024-05-26T12:29:34.605305Z"
    }
   },
   "outputs": [
    {
     "data": {
      "text/plain": [
       "'2021-12-27'"
      ]
     },
     "execution_count": 158,
     "metadata": {},
     "output_type": "execute_result"
    }
   ],
   "source": [
    "cor_cashflow.get_start_date().description(False)"
   ]
  },
  {
   "cell_type": "code",
   "execution_count": 159,
   "metadata": {
    "ExecuteTime": {
     "end_time": "2022-01-21T13:43:03.681246Z",
     "start_time": "2022-01-21T13:43:03.681246Z"
    },
    "execution": {
     "iopub.execute_input": "2024-05-26T12:29:34.610970Z",
     "iopub.status.busy": "2024-05-26T12:29:34.610738Z",
     "iopub.status.idle": "2024-05-26T12:29:34.614852Z",
     "shell.execute_reply": "2024-05-26T12:29:34.614174Z",
     "shell.execute_reply.started": "2024-05-26T12:29:34.610948Z"
    }
   },
   "outputs": [
    {
     "data": {
      "text/plain": [
       "'2021-12-31'"
      ]
     },
     "execution_count": 159,
     "metadata": {},
     "output_type": "execute_result"
    }
   ],
   "source": [
    "cor_cashflow.get_end_date().description(False)"
   ]
  },
  {
   "cell_type": "code",
   "execution_count": 160,
   "metadata": {
    "ExecuteTime": {
     "end_time": "2022-01-21T13:43:03.683241Z",
     "start_time": "2022-01-21T13:43:03.683241Z"
    },
    "execution": {
     "iopub.execute_input": "2024-05-26T12:29:34.616008Z",
     "iopub.status.busy": "2024-05-26T12:29:34.615719Z",
     "iopub.status.idle": "2024-05-26T12:29:34.619993Z",
     "shell.execute_reply": "2024-05-26T12:29:34.619485Z",
     "shell.execute_reply.started": "2024-05-26T12:29:34.615989Z"
    }
   },
   "outputs": [
    {
     "data": {
      "text/plain": [
       "'2021-12-31'"
      ]
     },
     "execution_count": 160,
     "metadata": {},
     "output_type": "execute_result"
    }
   ],
   "source": [
    "cor_cashflow.get_settlement_date().description(False)"
   ]
  },
  {
   "cell_type": "code",
   "execution_count": 161,
   "metadata": {
    "ExecuteTime": {
     "end_time": "2022-01-21T13:43:03.684238Z",
     "start_time": "2022-01-21T13:43:03.684238Z"
    },
    "execution": {
     "iopub.execute_input": "2024-05-26T12:29:34.621088Z",
     "iopub.status.busy": "2024-05-26T12:29:34.620879Z",
     "iopub.status.idle": "2024-05-26T12:29:34.624734Z",
     "shell.execute_reply": "2024-05-26T12:29:34.623928Z",
     "shell.execute_reply.started": "2024-05-26T12:29:34.621070Z"
    }
   },
   "outputs": [
    {
     "name": "stdout",
     "output_type": "stream",
     "text": [
      "2021-12-27\n",
      "2021-12-28\n",
      "2021-12-29\n",
      "2021-12-30\n"
     ]
    }
   ],
   "source": [
    "for d in cor_cashflow.get_fixing_dates():\n",
    "    print(d)"
   ]
  },
  {
   "cell_type": "code",
   "execution_count": 162,
   "metadata": {
    "ExecuteTime": {
     "end_time": "2022-01-21T13:43:03.685235Z",
     "start_time": "2022-01-21T13:43:03.685235Z"
    },
    "execution": {
     "iopub.execute_input": "2024-05-26T12:29:34.625863Z",
     "iopub.status.busy": "2024-05-26T12:29:34.625620Z",
     "iopub.status.idle": "2024-05-26T12:29:34.629137Z",
     "shell.execute_reply": "2024-05-26T12:29:34.628542Z",
     "shell.execute_reply.started": "2024-05-26T12:29:34.625841Z"
    }
   },
   "outputs": [
    {
     "name": "stdout",
     "output_type": "stream",
     "text": [
      "Nominal: 10,000,000\n"
     ]
    }
   ],
   "source": [
    "print(f\"Nominal: {cor_cashflow.get_nominal():,.0f}\")"
   ]
  },
  {
   "cell_type": "code",
   "execution_count": 163,
   "metadata": {
    "ExecuteTime": {
     "end_time": "2022-01-21T13:43:03.687231Z",
     "start_time": "2022-01-21T13:43:03.687231Z"
    },
    "execution": {
     "iopub.execute_input": "2024-05-26T12:29:34.630101Z",
     "iopub.status.busy": "2024-05-26T12:29:34.629894Z",
     "iopub.status.idle": "2024-05-26T12:29:34.632999Z",
     "shell.execute_reply": "2024-05-26T12:29:34.632473Z",
     "shell.execute_reply.started": "2024-05-26T12:29:34.630083Z"
    }
   },
   "outputs": [
    {
     "name": "stdout",
     "output_type": "stream",
     "text": [
      "Amortization: 100,000\n"
     ]
    }
   ],
   "source": [
    "print(f\"Amortization: {cor_cashflow.get_amortization():,.0f}\")"
   ]
  },
  {
   "cell_type": "code",
   "execution_count": 164,
   "metadata": {
    "ExecuteTime": {
     "end_time": "2022-01-21T13:43:03.688227Z",
     "start_time": "2022-01-21T13:43:03.688227Z"
    },
    "execution": {
     "iopub.execute_input": "2024-05-26T12:29:34.634145Z",
     "iopub.status.busy": "2024-05-26T12:29:34.633941Z",
     "iopub.status.idle": "2024-05-26T12:29:34.637923Z",
     "shell.execute_reply": "2024-05-26T12:29:34.637184Z",
     "shell.execute_reply.started": "2024-05-26T12:29:34.634125Z"
    }
   },
   "outputs": [
    {
     "data": {
      "text/plain": [
       "'CLP'"
      ]
     },
     "execution_count": 164,
     "metadata": {},
     "output_type": "execute_result"
    }
   ],
   "source": [
    "cor_cashflow.get_initial_currency().get_iso_code()"
   ]
  },
  {
   "cell_type": "code",
   "execution_count": 165,
   "metadata": {
    "ExecuteTime": {
     "end_time": "2022-01-21T13:43:03.689224Z",
     "start_time": "2022-01-21T13:43:03.689224Z"
    },
    "execution": {
     "iopub.execute_input": "2024-05-26T12:29:34.638928Z",
     "iopub.status.busy": "2024-05-26T12:29:34.638720Z",
     "iopub.status.idle": "2024-05-26T12:29:34.641815Z",
     "shell.execute_reply": "2024-05-26T12:29:34.641285Z",
     "shell.execute_reply.started": "2024-05-26T12:29:34.638909Z"
    }
   },
   "outputs": [
    {
     "name": "stdout",
     "output_type": "stream",
     "text": [
      "Spread: 0.10%\n"
     ]
    }
   ],
   "source": [
    "print(f\"Spread: {cor_cashflow.get_spread():.2%}\")"
   ]
  },
  {
   "cell_type": "code",
   "execution_count": 166,
   "metadata": {
    "ExecuteTime": {
     "end_time": "2022-01-21T13:43:03.690221Z",
     "start_time": "2022-01-21T13:43:03.690221Z"
    },
    "execution": {
     "iopub.execute_input": "2024-05-26T12:29:34.642901Z",
     "iopub.status.busy": "2024-05-26T12:29:34.642694Z",
     "iopub.status.idle": "2024-05-26T12:29:34.646586Z",
     "shell.execute_reply": "2024-05-26T12:29:34.646025Z",
     "shell.execute_reply.started": "2024-05-26T12:29:34.642883Z"
    }
   },
   "outputs": [
    {
     "data": {
      "text/plain": [
       "1.0"
      ]
     },
     "execution_count": 166,
     "metadata": {},
     "output_type": "execute_result"
    }
   ],
   "source": [
    "cor_cashflow.get_gearing()"
   ]
  },
  {
   "cell_type": "code",
   "execution_count": 167,
   "metadata": {
    "ExecuteTime": {
     "end_time": "2022-01-21T13:43:03.691219Z",
     "start_time": "2022-01-21T13:43:03.691219Z"
    },
    "execution": {
     "iopub.execute_input": "2024-05-26T12:29:34.647728Z",
     "iopub.status.busy": "2024-05-26T12:29:34.647499Z",
     "iopub.status.idle": "2024-05-26T12:29:34.651254Z",
     "shell.execute_reply": "2024-05-26T12:29:34.650628Z",
     "shell.execute_reply.started": "2024-05-26T12:29:34.647709Z"
    }
   },
   "outputs": [
    {
     "data": {
      "text/plain": [
       "'CompoundedOvernightRateCashflow'"
      ]
     },
     "execution_count": 167,
     "metadata": {},
     "output_type": "execute_result"
    }
   ],
   "source": [
    "cor_cashflow.get_type()"
   ]
  },
  {
   "cell_type": "code",
   "execution_count": 168,
   "metadata": {
    "ExecuteTime": {
     "end_time": "2022-01-21T13:43:03.692216Z",
     "start_time": "2022-01-21T13:43:03.692216Z"
    },
    "execution": {
     "iopub.execute_input": "2024-05-26T12:29:34.652320Z",
     "iopub.status.busy": "2024-05-26T12:29:34.652059Z",
     "iopub.status.idle": "2024-05-26T12:29:34.655848Z",
     "shell.execute_reply": "2024-05-26T12:29:34.655355Z",
     "shell.execute_reply.started": "2024-05-26T12:29:34.652302Z"
    }
   },
   "outputs": [
    {
     "data": {
      "text/plain": [
       "8"
      ]
     },
     "execution_count": 168,
     "metadata": {},
     "output_type": "execute_result"
    }
   ],
   "source": [
    "cor_cashflow.get_eq_rate_decimal_places()"
   ]
  },
  {
   "cell_type": "code",
   "execution_count": 169,
   "metadata": {
    "ExecuteTime": {
     "end_time": "2022-01-21T13:43:03.693214Z",
     "start_time": "2022-01-21T13:43:03.693214Z"
    },
    "execution": {
     "iopub.execute_input": "2024-05-26T12:29:34.656911Z",
     "iopub.status.busy": "2024-05-26T12:29:34.656716Z",
     "iopub.status.idle": "2024-05-26T12:29:34.659555Z",
     "shell.execute_reply": "2024-05-26T12:29:34.659037Z",
     "shell.execute_reply.started": "2024-05-26T12:29:34.656894Z"
    }
   },
   "outputs": [],
   "source": [
    "derivs = cor_cashflow.get_amount_derivatives()"
   ]
  },
  {
   "cell_type": "code",
   "execution_count": 170,
   "metadata": {
    "ExecuteTime": {
     "end_time": "2022-01-21T13:43:03.695208Z",
     "start_time": "2022-01-21T13:43:03.695208Z"
    },
    "execution": {
     "iopub.execute_input": "2024-05-26T12:29:34.660493Z",
     "iopub.status.busy": "2024-05-26T12:29:34.660334Z",
     "iopub.status.idle": "2024-05-26T12:29:34.664005Z",
     "shell.execute_reply": "2024-05-26T12:29:34.663527Z",
     "shell.execute_reply.started": "2024-05-26T12:29:34.660476Z"
    }
   },
   "outputs": [
    {
     "data": {
      "text/plain": [
       "2"
      ]
     },
     "execution_count": 170,
     "metadata": {},
     "output_type": "execute_result"
    }
   ],
   "source": [
    "len(derivs)"
   ]
  },
  {
   "cell_type": "code",
   "execution_count": 171,
   "metadata": {
    "ExecuteTime": {
     "end_time": "2022-01-21T13:43:03.696205Z",
     "start_time": "2022-01-21T13:43:03.696205Z"
    },
    "execution": {
     "iopub.execute_input": "2024-05-26T12:29:34.665016Z",
     "iopub.status.busy": "2024-05-26T12:29:34.664844Z",
     "iopub.status.idle": "2024-05-26T12:29:34.668315Z",
     "shell.execute_reply": "2024-05-26T12:29:34.667723Z",
     "shell.execute_reply.started": "2024-05-26T12:29:34.664998Z"
    }
   },
   "outputs": [
    {
     "name": "stdout",
     "output_type": "stream",
     "text": [
      "0.0\n",
      "0.0\n"
     ]
    }
   ],
   "source": [
    "for der in derivs:\n",
    "    print(der)"
   ]
  },
  {
   "cell_type": "markdown",
   "metadata": {},
   "source": [
    "#### Setters"
   ]
  },
  {
   "cell_type": "code",
   "execution_count": 172,
   "metadata": {
    "ExecuteTime": {
     "end_time": "2022-01-21T13:43:03.697203Z",
     "start_time": "2022-01-21T13:43:03.697203Z"
    },
    "execution": {
     "iopub.execute_input": "2024-05-26T12:29:34.669327Z",
     "iopub.status.busy": "2024-05-26T12:29:34.669101Z",
     "iopub.status.idle": "2024-05-26T12:29:34.672365Z",
     "shell.execute_reply": "2024-05-26T12:29:34.671793Z",
     "shell.execute_reply.started": "2024-05-26T12:29:34.669310Z"
    }
   },
   "outputs": [
    {
     "name": "stdout",
     "output_type": "stream",
     "text": [
      "Nominal: 1,000\n"
     ]
    }
   ],
   "source": [
    "cor_cashflow.set_nominal(1_000)\n",
    "print(f\"Nominal: {cor_cashflow.get_nominal():,.0f}\")"
   ]
  },
  {
   "cell_type": "code",
   "execution_count": 173,
   "metadata": {
    "ExecuteTime": {
     "end_time": "2022-01-21T13:43:03.698200Z",
     "start_time": "2022-01-21T13:43:03.698200Z"
    },
    "execution": {
     "iopub.execute_input": "2024-05-26T12:29:34.673465Z",
     "iopub.status.busy": "2024-05-26T12:29:34.673267Z",
     "iopub.status.idle": "2024-05-26T12:29:34.677026Z",
     "shell.execute_reply": "2024-05-26T12:29:34.676317Z",
     "shell.execute_reply.started": "2024-05-26T12:29:34.673448Z"
    }
   },
   "outputs": [
    {
     "data": {
      "text/plain": [
       "0.0"
      ]
     },
     "execution_count": 173,
     "metadata": {},
     "output_type": "execute_result"
    }
   ],
   "source": [
    "cor_cashflow.set_amortization(0)\n",
    "cor_cashflow.get_amortization()"
   ]
  },
  {
   "cell_type": "markdown",
   "metadata": {},
   "source": [
    "Se reversa el ejemplo."
   ]
  },
  {
   "cell_type": "code",
   "execution_count": 174,
   "metadata": {
    "ExecuteTime": {
     "end_time": "2022-01-21T13:43:03.699197Z",
     "start_time": "2022-01-21T13:43:03.699197Z"
    },
    "execution": {
     "iopub.execute_input": "2024-05-26T12:29:34.678164Z",
     "iopub.status.busy": "2024-05-26T12:29:34.677879Z",
     "iopub.status.idle": "2024-05-26T12:29:34.680966Z",
     "shell.execute_reply": "2024-05-26T12:29:34.680466Z",
     "shell.execute_reply.started": "2024-05-26T12:29:34.678143Z"
    }
   },
   "outputs": [],
   "source": [
    "cor_cashflow.set_nominal(10_000_000.0)\n",
    "cor_cashflow.set_amortization(100_000.0)"
   ]
  },
  {
   "cell_type": "markdown",
   "metadata": {},
   "source": [
    "#### Accrued Fixing"
   ]
  },
  {
   "cell_type": "markdown",
   "metadata": {},
   "source": [
    "Para el cálculo de `accrued_fixing` se requiere un objeto de tipo `TimeSeries` que contenga los datos históricos del índice overnight."
   ]
  },
  {
   "cell_type": "code",
   "execution_count": 175,
   "metadata": {
    "ExecuteTime": {
     "end_time": "2022-01-21T13:43:03.700195Z",
     "start_time": "2022-01-21T13:43:03.700195Z"
    },
    "execution": {
     "iopub.execute_input": "2024-05-26T12:29:34.682052Z",
     "iopub.status.busy": "2024-05-26T12:29:34.681834Z",
     "iopub.status.idle": "2024-05-26T12:29:34.893334Z",
     "shell.execute_reply": "2024-05-26T12:29:34.888978Z",
     "shell.execute_reply.started": "2024-05-26T12:29:34.682030Z"
    }
   },
   "outputs": [
    {
     "ename": "ValueError",
     "evalue": "A TimeSeries object with overnight rate values is needed.",
     "output_type": "error",
     "traceback": [
      "\u001b[0;31m---------------------------------------------------------------------------\u001b[0m",
      "\u001b[0;31mValueError\u001b[0m                                Traceback (most recent call last)",
      "Cell \u001b[0;32mIn[175], line 1\u001b[0m\n\u001b[0;32m----> 1\u001b[0m \u001b[43mcor_cashflow\u001b[49m\u001b[38;5;241;43m.\u001b[39;49m\u001b[43maccrued_fixing\u001b[49m\u001b[43m(\u001b[49m\u001b[43mqcf\u001b[49m\u001b[38;5;241;43m.\u001b[39;49m\u001b[43mQCDate\u001b[49m\u001b[43m(\u001b[49m\u001b[38;5;241;43m29\u001b[39;49m\u001b[43m,\u001b[49m\u001b[43m \u001b[49m\u001b[38;5;241;43m12\u001b[39;49m\u001b[43m,\u001b[49m\u001b[43m \u001b[49m\u001b[38;5;241;43m2021\u001b[39;49m\u001b[43m)\u001b[49m\u001b[43m)\u001b[49m\n",
      "\u001b[0;31mValueError\u001b[0m: A TimeSeries object with overnight rate values is needed."
     ]
    }
   ],
   "source": [
    "cor_cashflow.accrued_fixing(qcf.QCDate(29, 12, 2021))"
   ]
  },
  {
   "cell_type": "code",
   "execution_count": null,
   "metadata": {
    "ExecuteTime": {
     "end_time": "2022-01-21T13:43:03.701192Z",
     "start_time": "2022-01-21T13:43:03.701192Z"
    },
    "execution": {
     "iopub.status.busy": "2024-05-26T12:29:34.893779Z",
     "iopub.status.idle": "2024-05-26T12:29:34.894033Z",
     "shell.execute_reply": "2024-05-26T12:29:34.893909Z",
     "shell.execute_reply.started": "2024-05-26T12:29:34.893897Z"
    }
   },
   "outputs": [],
   "source": [
    "ts = qcf.time_series()"
   ]
  },
  {
   "cell_type": "code",
   "execution_count": null,
   "metadata": {
    "ExecuteTime": {
     "end_time": "2022-01-21T13:43:03.702189Z",
     "start_time": "2022-01-21T13:43:03.702189Z"
    },
    "execution": {
     "iopub.status.busy": "2024-05-26T12:29:34.894881Z",
     "iopub.status.idle": "2024-05-26T12:29:34.895422Z",
     "shell.execute_reply": "2024-05-26T12:29:34.895266Z",
     "shell.execute_reply.started": "2024-05-26T12:29:34.895251Z"
    }
   },
   "outputs": [],
   "source": [
    "ts[qcf.QCDate(27, 12, 2021)] = 0.01\n",
    "ts[qcf.QCDate(28, 12, 2021)] = 0.02\n",
    "ts[qcf.QCDate(29, 12, 2021)] = 0.03\n",
    "ts[qcf.QCDate(30, 12, 2021)] = 0.04"
   ]
  },
  {
   "cell_type": "code",
   "execution_count": null,
   "metadata": {
    "ExecuteTime": {
     "end_time": "2022-01-21T13:43:03.703186Z",
     "start_time": "2022-01-21T13:43:03.703186Z"
    },
    "execution": {
     "iopub.status.busy": "2024-05-26T12:29:34.896441Z",
     "iopub.status.idle": "2024-05-26T12:29:34.896935Z",
     "shell.execute_reply": "2024-05-26T12:29:34.896804Z",
     "shell.execute_reply.started": "2024-05-26T12:29:34.896789Z"
    }
   },
   "outputs": [],
   "source": [
    "print(f\"Accrued fixing: {cor_cashflow.accrued_fixing(qcf.QCDate(29, 12, 2021), ts):.6%}\")"
   ]
  },
  {
   "cell_type": "code",
   "execution_count": null,
   "metadata": {
    "ExecuteTime": {
     "end_time": "2022-01-21T13:43:03.704184Z",
     "start_time": "2022-01-21T13:43:03.704184Z"
    },
    "execution": {
     "iopub.status.busy": "2024-05-26T12:29:34.897843Z",
     "iopub.status.idle": "2024-05-26T12:29:34.898215Z",
     "shell.execute_reply": "2024-05-26T12:29:34.898081Z",
     "shell.execute_reply.started": "2024-05-26T12:29:34.898067Z"
    }
   },
   "outputs": [],
   "source": [
    "check = ((1 + 0.01 / 360) * (1 + 0.02 / 360.0) - 1) * 360 / 2.0\n",
    "print(f\"Check: {check:.6%}\")"
   ]
  },
  {
   "cell_type": "markdown",
   "metadata": {},
   "source": [
    "#### Accrued Interest"
   ]
  },
  {
   "cell_type": "markdown",
   "metadata": {},
   "source": [
    "Para el cálculo de `accrued_interest` se requiere un objeto de tipo `TimeSeries` que contenga los datos históricos del índice overnight."
   ]
  },
  {
   "cell_type": "code",
   "execution_count": null,
   "metadata": {
    "ExecuteTime": {
     "end_time": "2022-01-21T13:43:03.705181Z",
     "start_time": "2022-01-21T13:43:03.705181Z"
    },
    "execution": {
     "iopub.status.busy": "2024-05-26T12:29:34.898947Z",
     "iopub.status.idle": "2024-05-26T12:29:34.899183Z",
     "shell.execute_reply": "2024-05-26T12:29:34.899063Z",
     "shell.execute_reply.started": "2024-05-26T12:29:34.899051Z"
    }
   },
   "outputs": [],
   "source": [
    "cor_cashflow.accrued_interest(qcf.QCDate(29, 12, 2021))"
   ]
  },
  {
   "cell_type": "code",
   "execution_count": null,
   "metadata": {
    "ExecuteTime": {
     "end_time": "2022-01-21T13:43:03.706179Z",
     "start_time": "2022-01-21T13:43:03.706179Z"
    },
    "execution": {
     "iopub.status.busy": "2024-05-26T12:29:34.900121Z",
     "iopub.status.idle": "2024-05-26T12:29:34.900364Z",
     "shell.execute_reply": "2024-05-26T12:29:34.900242Z",
     "shell.execute_reply.started": "2024-05-26T12:29:34.900231Z"
    }
   },
   "outputs": [],
   "source": [
    "print(f\"Accrued interest: {cor_cashflow.accrued_interest(qcf.QCDate(29, 12, 2021), ts):,.2f}\")"
   ]
  },
  {
   "cell_type": "code",
   "execution_count": null,
   "metadata": {
    "ExecuteTime": {
     "end_time": "2022-01-21T13:43:03.707176Z",
     "start_time": "2022-01-21T13:43:03.707176Z"
    },
    "execution": {
     "iopub.status.busy": "2024-05-26T12:29:34.901255Z",
     "iopub.status.idle": "2024-05-26T12:29:34.901606Z",
     "shell.execute_reply": "2024-05-26T12:29:34.901475Z",
     "shell.execute_reply.started": "2024-05-26T12:29:34.901461Z"
    }
   },
   "outputs": [],
   "source": [
    "check = (\n",
    "    cor_cashflow.get_nominal()\n",
    "    * (cor_cashflow.accrued_fixing(qcf.QCDate(29, 12, 2021), ts) + spread)\n",
    "    * 2\n",
    "    / 360.0\n",
    ")\n",
    "print(f\"Check: {check:,.2f}\")"
   ]
  },
  {
   "cell_type": "code",
   "execution_count": null,
   "metadata": {
    "ExecuteTime": {
     "end_time": "2022-01-21T13:43:03.708174Z",
     "start_time": "2022-01-21T13:43:03.708174Z"
    },
    "execution": {
     "iopub.status.busy": "2024-05-26T12:29:34.902580Z",
     "iopub.status.idle": "2024-05-26T12:29:34.903174Z",
     "shell.execute_reply": "2024-05-26T12:29:34.903037Z",
     "shell.execute_reply.started": "2024-05-26T12:29:34.903022Z"
    }
   },
   "outputs": [],
   "source": [
    "print(f\"Amount: {cor_cashflow.amount():,.2f}\")"
   ]
  },
  {
   "cell_type": "code",
   "execution_count": null,
   "metadata": {
    "ExecuteTime": {
     "end_time": "2022-01-21T13:43:03.710168Z",
     "start_time": "2022-01-21T13:43:03.710168Z"
    },
    "execution": {
     "iopub.status.busy": "2024-05-26T12:29:34.904122Z",
     "iopub.status.idle": "2024-05-26T12:29:34.904493Z",
     "shell.execute_reply": "2024-05-26T12:29:34.904351Z",
     "shell.execute_reply.started": "2024-05-26T12:29:34.904336Z"
    }
   },
   "outputs": [],
   "source": [
    "cor_cashflow.date().description(False)"
   ]
  },
  {
   "cell_type": "code",
   "execution_count": null,
   "metadata": {
    "ExecuteTime": {
     "end_time": "2022-01-21T13:43:03.711165Z",
     "start_time": "2022-01-21T13:43:03.711165Z"
    },
    "execution": {
     "iopub.status.busy": "2024-05-26T12:29:34.905506Z",
     "iopub.status.idle": "2024-05-26T12:29:34.905838Z",
     "shell.execute_reply": "2024-05-26T12:29:34.905713Z",
     "shell.execute_reply.started": "2024-05-26T12:29:34.905701Z"
    }
   },
   "outputs": [],
   "source": [
    "cor_cashflow.fixing(ts)"
   ]
  },
  {
   "cell_type": "code",
   "execution_count": null,
   "metadata": {
    "ExecuteTime": {
     "end_time": "2022-01-21T13:43:03.712162Z",
     "start_time": "2022-01-21T13:43:03.712162Z"
    },
    "execution": {
     "iopub.status.busy": "2024-05-26T12:29:34.906722Z",
     "iopub.status.idle": "2024-05-26T12:29:34.906964Z",
     "shell.execute_reply": "2024-05-26T12:29:34.906843Z",
     "shell.execute_reply.started": "2024-05-26T12:29:34.906831Z"
    }
   },
   "outputs": [],
   "source": [
    "print(f\"Interest: {cor_cashflow.interest():,.2f}\")"
   ]
  },
  {
   "cell_type": "code",
   "execution_count": null,
   "metadata": {
    "ExecuteTime": {
     "end_time": "2022-01-21T13:43:03.713161Z",
     "start_time": "2022-01-21T13:43:03.713161Z"
    },
    "execution": {
     "iopub.status.busy": "2024-05-26T12:29:34.907892Z",
     "iopub.status.idle": "2024-05-26T12:29:34.908136Z",
     "shell.execute_reply": "2024-05-26T12:29:34.908013Z",
     "shell.execute_reply.started": "2024-05-26T12:29:34.908001Z"
    }
   },
   "outputs": [],
   "source": [
    "cor_cashflow.is_expired(qcf.QCDate(29, 12, 2021))"
   ]
  },
  {
   "cell_type": "code",
   "execution_count": null,
   "metadata": {
    "ExecuteTime": {
     "end_time": "2022-01-21T13:43:03.714157Z",
     "start_time": "2022-01-21T13:43:03.714157Z"
    },
    "execution": {
     "iopub.status.busy": "2024-05-26T12:29:34.908990Z",
     "iopub.status.idle": "2024-05-26T12:29:34.909471Z",
     "shell.execute_reply": "2024-05-26T12:29:34.909330Z",
     "shell.execute_reply.started": "2024-05-26T12:29:34.909315Z"
    }
   },
   "outputs": [],
   "source": [
    "cor_cashflow.is_expired(qcf.QCDate(31, 12, 2021))"
   ]
  },
  {
   "cell_type": "code",
   "execution_count": null,
   "metadata": {
    "ExecuteTime": {
     "end_time": "2022-01-21T13:43:03.716152Z",
     "start_time": "2022-01-21T13:43:03.716152Z"
    },
    "execution": {
     "iopub.status.busy": "2024-05-26T12:29:34.910223Z",
     "iopub.status.idle": "2024-05-26T12:29:34.910455Z",
     "shell.execute_reply": "2024-05-26T12:29:34.910337Z",
     "shell.execute_reply.started": "2024-05-26T12:29:34.910325Z"
    }
   },
   "outputs": [],
   "source": [
    "cor_cashflow.is_expired(qcf.QCDate(1, 1, 2022))"
   ]
  },
  {
   "cell_type": "code",
   "execution_count": null,
   "metadata": {
    "execution": {
     "iopub.status.busy": "2024-05-26T12:29:34.911311Z",
     "iopub.status.idle": "2024-05-26T12:29:34.911545Z",
     "shell.execute_reply": "2024-05-26T12:29:34.911427Z",
     "shell.execute_reply.started": "2024-05-26T12:29:34.911416Z"
    }
   },
   "outputs": [],
   "source": [
    "cor_cashflow.get_type()"
   ]
  },
  {
   "cell_type": "code",
   "execution_count": null,
   "metadata": {
    "execution": {
     "iopub.status.busy": "2024-05-26T12:29:34.912394Z",
     "iopub.status.idle": "2024-05-26T12:29:34.912706Z",
     "shell.execute_reply": "2024-05-26T12:29:34.912586Z",
     "shell.execute_reply.started": "2024-05-26T12:29:34.912575Z"
    }
   },
   "outputs": [],
   "source": [
    "qcf.show(cor_cashflow)"
   ]
  },
  {
   "cell_type": "markdown",
   "metadata": {},
   "source": [
    "### Compounded Overnight Rate Cashflow 2\n",
    "\n",
    "Un objeto de tipo `CompoundedOvernightRateCashflow2` representa un flujo de caja calculado como un cupón de la pata flotante de un OIS sobre cualquier índice overnight (SOFR, FF, EONIA). Para dar de alta uno de estos objetos se requiere:\n",
    "\n",
    "- `InterestRateIndex`: el índice de tasa de interés prefijado\n",
    "- `QCDate`: fecha inicio (para la aplicación de la tasa)\n",
    "- `QCDate`: fecha final (para la aplicación de la tasa)\n",
    "- `QCDate`: fecha de pago\n",
    "- `DateList`: fechas de fixing del índice\n",
    "- `float`: nominal (monto al que se le aplica la tasa)\n",
    "- `float`: amortización (eventual flujo de caja que corresponde a una porción del nominal)\n",
    "- `bool`: indica si la amortización anterior es un flujo de caja o sólo una disminución de nominal\n",
    "- `QCCurrency`: moneda del nocional de la operación\n",
    "- `float`: spread aditivo a aplicar a la fijación de la TRA\n",
    "- `float`: spread multiplicativo o gearing a aplicar a la fijación de la TRA\n",
    "- `QCInterestRate`: permite especificar cuál es la convención de cálculo de la tasa equivalente\n",
    "- `unsigned int`: número de decimales a usar en el cálculo de la tasa equivalente. Por ejemplo para 0.12345678% este valor debe ser 10.\n",
    "- `unsigned int`: número de días de lookback\n",
    "- `unsigned int`: número de días de lockout\n",
    "\n",
    "El efecto de lookback y lockout aún no está implementado."
   ]
  },
  {
   "cell_type": "markdown",
   "metadata": {},
   "source": [
    "#### Constructor"
   ]
  },
  {
   "cell_type": "markdown",
   "metadata": {},
   "source": [
    "Se da de alta un índice overnight ficiticio de test."
   ]
  },
  {
   "cell_type": "code",
   "execution_count": null,
   "metadata": {
    "ExecuteTime": {
     "end_time": "2022-01-21T13:43:03.569544Z",
     "start_time": "2022-01-21T13:43:03.554583Z"
    },
    "execution": {
     "iopub.status.busy": "2024-05-26T12:29:34.913451Z",
     "iopub.status.idle": "2024-05-26T12:29:34.913684Z",
     "shell.execute_reply": "2024-05-26T12:29:34.913564Z",
     "shell.execute_reply.started": "2024-05-26T12:29:34.913554Z"
    }
   },
   "outputs": [],
   "source": [
    "codigo = \"OITEST\"\n",
    "lin_act360 = qcf.QCInterestRate(0.0, act360, lin_wf)\n",
    "fixing_lag = qcf.Tenor(\"0d\")\n",
    "tenor = qcf.Tenor(\"1d\")\n",
    "fixing_calendar = scl\n",
    "settlement_calendar = scl\n",
    "oitest = qcf.InterestRateIndex(\n",
    "    codigo, \n",
    "    lin_act360, \n",
    "    fixing_lag, \n",
    "    tenor, \n",
    "    fixing_calendar, \n",
    "    settlement_calendar, \n",
    "    usd\n",
    ")"
   ]
  },
  {
   "cell_type": "code",
   "execution_count": null,
   "metadata": {
    "ExecuteTime": {
     "end_time": "2022-01-21T13:43:03.584504Z",
     "start_time": "2022-01-21T13:43:03.570541Z"
    },
    "execution": {
     "iopub.status.busy": "2024-05-26T12:29:34.914651Z",
     "iopub.status.idle": "2024-05-26T12:29:34.914969Z",
     "shell.execute_reply": "2024-05-26T12:29:34.914836Z",
     "shell.execute_reply.started": "2024-05-26T12:29:34.914823Z"
    }
   },
   "outputs": [],
   "source": [
    "fixing_dates = qcf.DateList()"
   ]
  },
  {
   "cell_type": "code",
   "execution_count": null,
   "metadata": {
    "ExecuteTime": {
     "end_time": "2022-01-21T13:43:03.600461Z",
     "start_time": "2022-01-21T13:43:03.585501Z"
    },
    "execution": {
     "iopub.status.busy": "2024-05-26T12:29:34.915760Z",
     "iopub.status.idle": "2024-05-26T12:29:34.916009Z",
     "shell.execute_reply": "2024-05-26T12:29:34.915885Z",
     "shell.execute_reply.started": "2024-05-26T12:29:34.915873Z"
    }
   },
   "outputs": [],
   "source": [
    "fixing_dates.append(qcf.QCDate(27, 12, 2021))\n",
    "fixing_dates.append(qcf.QCDate(28, 12, 2021))\n",
    "fixing_dates.append(qcf.QCDate(29, 12, 2021))\n",
    "fixing_dates.append(qcf.QCDate(30, 12, 2021))"
   ]
  },
  {
   "cell_type": "code",
   "execution_count": null,
   "metadata": {
    "ExecuteTime": {
     "end_time": "2022-01-21T13:43:03.679251Z",
     "start_time": "2022-01-21T13:43:03.601459Z"
    },
    "execution": {
     "iopub.status.busy": "2024-05-26T12:29:34.917009Z",
     "iopub.status.idle": "2024-05-26T12:29:34.917244Z",
     "shell.execute_reply": "2024-05-26T12:29:34.917124Z",
     "shell.execute_reply.started": "2024-05-26T12:29:34.917113Z"
    }
   },
   "outputs": [],
   "source": [
    "cor_cashflow_2 = qcf.CompoundedOvernightRateCashflow2(\n",
    "    oitest,\n",
    "    qcf.QCDate(27, 12, 2021),\n",
    "    qcf.QCDate(31, 12, 2021),\n",
    "    qcf.QCDate(31, 12, 2021),\n",
    "    fixing_dates,\n",
    "    10_000_000.0,\n",
    "    100_000.0,\n",
    "    True,\n",
    "    qcf.QCCLP(),\n",
    "    spread:=0.001,\n",
    "    1.0,\n",
    "    qcf.QCInterestRate(0.0, qcf.QCAct360(), qcf.QCLinearWf()),\n",
    "    8,\n",
    "    0,\n",
    "    0,\n",
    ")"
   ]
  },
  {
   "cell_type": "markdown",
   "metadata": {},
   "source": [
    "#### Getters"
   ]
  },
  {
   "cell_type": "code",
   "execution_count": null,
   "metadata": {
    "ExecuteTime": {
     "end_time": "2022-01-21T13:43:03.680249Z",
     "start_time": "2022-01-21T13:43:03.680249Z"
    },
    "execution": {
     "iopub.status.busy": "2024-05-26T12:29:34.918150Z",
     "iopub.status.idle": "2024-05-26T12:29:34.918438Z",
     "shell.execute_reply": "2024-05-26T12:29:34.918316Z",
     "shell.execute_reply.started": "2024-05-26T12:29:34.918304Z"
    }
   },
   "outputs": [],
   "source": [
    "cor_cashflow_2.get_start_date().description(False)"
   ]
  },
  {
   "cell_type": "code",
   "execution_count": null,
   "metadata": {
    "ExecuteTime": {
     "end_time": "2022-01-21T13:43:03.681246Z",
     "start_time": "2022-01-21T13:43:03.681246Z"
    },
    "execution": {
     "iopub.status.busy": "2024-05-26T12:29:34.919393Z",
     "iopub.status.idle": "2024-05-26T12:29:34.919633Z",
     "shell.execute_reply": "2024-05-26T12:29:34.919510Z",
     "shell.execute_reply.started": "2024-05-26T12:29:34.919499Z"
    }
   },
   "outputs": [],
   "source": [
    "cor_cashflow_2.get_end_date().description(False)"
   ]
  },
  {
   "cell_type": "code",
   "execution_count": null,
   "metadata": {
    "ExecuteTime": {
     "end_time": "2022-01-21T13:43:03.683241Z",
     "start_time": "2022-01-21T13:43:03.683241Z"
    },
    "execution": {
     "iopub.status.busy": "2024-05-26T12:29:34.920823Z",
     "iopub.status.idle": "2024-05-26T12:29:34.921061Z",
     "shell.execute_reply": "2024-05-26T12:29:34.920940Z",
     "shell.execute_reply.started": "2024-05-26T12:29:34.920929Z"
    }
   },
   "outputs": [],
   "source": [
    "cor_cashflow_2.get_settlement_date().description(False)"
   ]
  },
  {
   "cell_type": "code",
   "execution_count": null,
   "metadata": {
    "ExecuteTime": {
     "end_time": "2022-01-21T13:43:03.684238Z",
     "start_time": "2022-01-21T13:43:03.684238Z"
    },
    "execution": {
     "iopub.status.busy": "2024-05-26T12:29:34.922613Z",
     "iopub.status.idle": "2024-05-26T12:29:34.922949Z",
     "shell.execute_reply": "2024-05-26T12:29:34.922824Z",
     "shell.execute_reply.started": "2024-05-26T12:29:34.922812Z"
    }
   },
   "outputs": [],
   "source": [
    "for d in cor_cashflow_2.get_fixing_dates():\n",
    "    print(d)"
   ]
  },
  {
   "cell_type": "code",
   "execution_count": null,
   "metadata": {
    "ExecuteTime": {
     "end_time": "2022-01-21T13:43:03.685235Z",
     "start_time": "2022-01-21T13:43:03.685235Z"
    },
    "execution": {
     "iopub.status.busy": "2024-05-26T12:29:34.924041Z",
     "iopub.status.idle": "2024-05-26T12:29:34.924463Z",
     "shell.execute_reply": "2024-05-26T12:29:34.924340Z",
     "shell.execute_reply.started": "2024-05-26T12:29:34.924328Z"
    }
   },
   "outputs": [],
   "source": [
    "print(f\"Nocional: {cor_cashflow_2.get_nominal():,.0f}\")"
   ]
  },
  {
   "cell_type": "code",
   "execution_count": null,
   "metadata": {
    "ExecuteTime": {
     "end_time": "2022-01-21T13:43:03.687231Z",
     "start_time": "2022-01-21T13:43:03.687231Z"
    },
    "execution": {
     "iopub.status.busy": "2024-05-26T12:29:34.925425Z",
     "iopub.status.idle": "2024-05-26T12:29:34.925951Z",
     "shell.execute_reply": "2024-05-26T12:29:34.925771Z",
     "shell.execute_reply.started": "2024-05-26T12:29:34.925752Z"
    }
   },
   "outputs": [],
   "source": [
    "print(f\"Amortization: {cor_cashflow_2.get_amortization():,.0f}\")"
   ]
  },
  {
   "cell_type": "code",
   "execution_count": null,
   "metadata": {
    "ExecuteTime": {
     "end_time": "2022-01-21T13:43:03.688227Z",
     "start_time": "2022-01-21T13:43:03.688227Z"
    },
    "execution": {
     "iopub.status.busy": "2024-05-26T12:29:34.927255Z",
     "iopub.status.idle": "2024-05-26T12:29:34.927659Z",
     "shell.execute_reply": "2024-05-26T12:29:34.927482Z",
     "shell.execute_reply.started": "2024-05-26T12:29:34.927465Z"
    }
   },
   "outputs": [],
   "source": [
    "cor_cashflow_2.ccy().get_iso_code()"
   ]
  },
  {
   "cell_type": "code",
   "execution_count": null,
   "metadata": {
    "ExecuteTime": {
     "end_time": "2022-01-21T13:43:03.689224Z",
     "start_time": "2022-01-21T13:43:03.689224Z"
    },
    "execution": {
     "iopub.status.busy": "2024-05-26T12:29:34.929014Z",
     "iopub.status.idle": "2024-05-26T12:29:34.929601Z",
     "shell.execute_reply": "2024-05-26T12:29:34.929462Z",
     "shell.execute_reply.started": "2024-05-26T12:29:34.929448Z"
    }
   },
   "outputs": [],
   "source": [
    "print(f\"Spread: {cor_cashflow_2.get_spread():.2%}\")"
   ]
  },
  {
   "cell_type": "code",
   "execution_count": null,
   "metadata": {
    "ExecuteTime": {
     "end_time": "2022-01-21T13:43:03.690221Z",
     "start_time": "2022-01-21T13:43:03.690221Z"
    },
    "execution": {
     "iopub.status.busy": "2024-05-26T12:29:34.930550Z",
     "iopub.status.idle": "2024-05-26T12:29:34.930881Z",
     "shell.execute_reply": "2024-05-26T12:29:34.930758Z",
     "shell.execute_reply.started": "2024-05-26T12:29:34.930745Z"
    }
   },
   "outputs": [],
   "source": [
    "cor_cashflow_2.get_gearing()"
   ]
  },
  {
   "cell_type": "code",
   "execution_count": null,
   "metadata": {
    "ExecuteTime": {
     "end_time": "2022-01-21T13:43:03.691219Z",
     "start_time": "2022-01-21T13:43:03.691219Z"
    },
    "execution": {
     "iopub.status.busy": "2024-05-26T12:29:34.931652Z",
     "iopub.status.idle": "2024-05-26T12:29:34.931885Z",
     "shell.execute_reply": "2024-05-26T12:29:34.931766Z",
     "shell.execute_reply.started": "2024-05-26T12:29:34.931755Z"
    }
   },
   "outputs": [],
   "source": [
    "cor_cashflow_2.get_type()"
   ]
  },
  {
   "cell_type": "code",
   "execution_count": null,
   "metadata": {
    "ExecuteTime": {
     "end_time": "2022-01-21T13:43:03.692216Z",
     "start_time": "2022-01-21T13:43:03.692216Z"
    },
    "execution": {
     "iopub.status.busy": "2024-05-26T12:29:34.932703Z",
     "iopub.status.idle": "2024-05-26T12:29:34.932949Z",
     "shell.execute_reply": "2024-05-26T12:29:34.932824Z",
     "shell.execute_reply.started": "2024-05-26T12:29:34.932812Z"
    }
   },
   "outputs": [],
   "source": [
    "cor_cashflow_2.get_eq_rate_decimal_places()"
   ]
  },
  {
   "cell_type": "code",
   "execution_count": null,
   "metadata": {
    "ExecuteTime": {
     "end_time": "2022-01-21T13:43:03.693214Z",
     "start_time": "2022-01-21T13:43:03.693214Z"
    },
    "execution": {
     "iopub.status.busy": "2024-05-26T12:29:34.933985Z",
     "iopub.status.idle": "2024-05-26T12:29:34.934385Z",
     "shell.execute_reply": "2024-05-26T12:29:34.934238Z",
     "shell.execute_reply.started": "2024-05-26T12:29:34.934223Z"
    }
   },
   "outputs": [],
   "source": [
    "derivs = cor_cashflow_2.get_amount_derivatives()"
   ]
  },
  {
   "cell_type": "code",
   "execution_count": null,
   "metadata": {
    "ExecuteTime": {
     "end_time": "2022-01-21T13:43:03.695208Z",
     "start_time": "2022-01-21T13:43:03.695208Z"
    },
    "execution": {
     "iopub.status.busy": "2024-05-26T12:29:34.935087Z",
     "iopub.status.idle": "2024-05-26T12:29:34.935321Z",
     "shell.execute_reply": "2024-05-26T12:29:34.935201Z",
     "shell.execute_reply.started": "2024-05-26T12:29:34.935189Z"
    }
   },
   "outputs": [],
   "source": [
    "len(derivs)"
   ]
  },
  {
   "cell_type": "code",
   "execution_count": null,
   "metadata": {
    "ExecuteTime": {
     "end_time": "2022-01-21T13:43:03.696205Z",
     "start_time": "2022-01-21T13:43:03.696205Z"
    },
    "execution": {
     "iopub.status.busy": "2024-05-26T12:29:34.936184Z",
     "iopub.status.idle": "2024-05-26T12:29:34.936462Z",
     "shell.execute_reply": "2024-05-26T12:29:34.936322Z",
     "shell.execute_reply.started": "2024-05-26T12:29:34.936308Z"
    }
   },
   "outputs": [],
   "source": [
    "for der in derivs:\n",
    "    print(der)"
   ]
  },
  {
   "cell_type": "markdown",
   "metadata": {},
   "source": [
    "#### Setters"
   ]
  },
  {
   "cell_type": "code",
   "execution_count": null,
   "metadata": {
    "ExecuteTime": {
     "end_time": "2022-01-21T13:43:03.697203Z",
     "start_time": "2022-01-21T13:43:03.697203Z"
    },
    "execution": {
     "iopub.status.busy": "2024-05-26T12:29:34.937262Z",
     "iopub.status.idle": "2024-05-26T12:29:34.937626Z",
     "shell.execute_reply": "2024-05-26T12:29:34.937492Z",
     "shell.execute_reply.started": "2024-05-26T12:29:34.937478Z"
    }
   },
   "outputs": [],
   "source": [
    "cor_cashflow_2.set_notional(1_000)\n",
    "print(f\"Nocional: {cor_cashflow_2.get_nominal():,.0f}\")"
   ]
  },
  {
   "cell_type": "code",
   "execution_count": null,
   "metadata": {
    "ExecuteTime": {
     "end_time": "2022-01-21T13:43:03.698200Z",
     "start_time": "2022-01-21T13:43:03.698200Z"
    },
    "execution": {
     "iopub.status.busy": "2024-05-26T12:29:34.938349Z",
     "iopub.status.idle": "2024-05-26T12:29:34.938587Z",
     "shell.execute_reply": "2024-05-26T12:29:34.938466Z",
     "shell.execute_reply.started": "2024-05-26T12:29:34.938454Z"
    }
   },
   "outputs": [],
   "source": [
    "cor_cashflow_2.set_amortization(0)\n",
    "cor_cashflow_2.get_amortization()"
   ]
  },
  {
   "cell_type": "markdown",
   "metadata": {},
   "source": [
    "Se reversa el ejemplo."
   ]
  },
  {
   "cell_type": "code",
   "execution_count": null,
   "metadata": {
    "ExecuteTime": {
     "end_time": "2022-01-21T13:43:03.699197Z",
     "start_time": "2022-01-21T13:43:03.699197Z"
    },
    "execution": {
     "iopub.status.busy": "2024-05-26T12:29:34.939623Z",
     "iopub.status.idle": "2024-05-26T12:29:34.939864Z",
     "shell.execute_reply": "2024-05-26T12:29:34.939740Z",
     "shell.execute_reply.started": "2024-05-26T12:29:34.939729Z"
    }
   },
   "outputs": [],
   "source": [
    "cor_cashflow_2.set_notional(10_000_000.0)\n",
    "cor_cashflow_2.set_amortization(100_000.0)"
   ]
  },
  {
   "cell_type": "markdown",
   "metadata": {},
   "source": [
    "#### Accrued Fixing"
   ]
  },
  {
   "cell_type": "markdown",
   "metadata": {},
   "source": [
    "Para el cálculo de `accrued_fixing` se requiere un objeto de tipo `TimeSeries` que contenga los datos históricos del índice overnight."
   ]
  },
  {
   "cell_type": "code",
   "execution_count": null,
   "metadata": {
    "ExecuteTime": {
     "end_time": "2022-01-21T13:43:03.701192Z",
     "start_time": "2022-01-21T13:43:03.701192Z"
    },
    "execution": {
     "iopub.status.busy": "2024-05-26T12:29:34.940902Z",
     "iopub.status.idle": "2024-05-26T12:29:34.941379Z",
     "shell.execute_reply": "2024-05-26T12:29:34.941244Z",
     "shell.execute_reply.started": "2024-05-26T12:29:34.941230Z"
    }
   },
   "outputs": [],
   "source": [
    "ts = qcf.time_series()"
   ]
  },
  {
   "cell_type": "code",
   "execution_count": null,
   "metadata": {
    "ExecuteTime": {
     "end_time": "2022-01-21T13:43:03.702189Z",
     "start_time": "2022-01-21T13:43:03.702189Z"
    },
    "execution": {
     "iopub.status.busy": "2024-05-26T12:29:34.942253Z",
     "iopub.status.idle": "2024-05-26T12:29:34.942639Z",
     "shell.execute_reply": "2024-05-26T12:29:34.942506Z",
     "shell.execute_reply.started": "2024-05-26T12:29:34.942492Z"
    }
   },
   "outputs": [],
   "source": [
    "ts[qcf.QCDate(27, 12, 2021)] = 0.01\n",
    "ts[qcf.QCDate(28, 12, 2021)] = 0.02\n",
    "ts[qcf.QCDate(29, 12, 2021)] = 0.03\n",
    "ts[qcf.QCDate(30, 12, 2021)] = 0.04"
   ]
  },
  {
   "cell_type": "code",
   "execution_count": null,
   "metadata": {
    "ExecuteTime": {
     "end_time": "2022-01-21T13:43:03.703186Z",
     "start_time": "2022-01-21T13:43:03.703186Z"
    },
    "execution": {
     "iopub.status.busy": "2024-05-26T12:29:34.943627Z",
     "iopub.status.idle": "2024-05-26T12:29:34.943944Z",
     "shell.execute_reply": "2024-05-26T12:29:34.943823Z",
     "shell.execute_reply.started": "2024-05-26T12:29:34.943811Z"
    }
   },
   "outputs": [],
   "source": [
    "print(f\"Accrued fixing: {cor_cashflow_2.accrued_fixing(qcf.QCDate(29, 12, 2021), ts):.6%}\")"
   ]
  },
  {
   "cell_type": "code",
   "execution_count": null,
   "metadata": {
    "ExecuteTime": {
     "end_time": "2022-01-21T13:43:03.704184Z",
     "start_time": "2022-01-21T13:43:03.704184Z"
    },
    "execution": {
     "iopub.status.busy": "2024-05-26T12:29:34.944831Z",
     "iopub.status.idle": "2024-05-26T12:29:34.945062Z",
     "shell.execute_reply": "2024-05-26T12:29:34.944943Z",
     "shell.execute_reply.started": "2024-05-26T12:29:34.944932Z"
    }
   },
   "outputs": [],
   "source": [
    "check = ((1 + 0.01 / 360) * (1 + 0.02 / 360.0) - 1) * 360 / 2.0\n",
    "print(f\"Check: {check:.6%}\")"
   ]
  },
  {
   "cell_type": "markdown",
   "metadata": {},
   "source": [
    "#### Accrued Interest"
   ]
  },
  {
   "cell_type": "markdown",
   "metadata": {},
   "source": [
    "Para el cálculo de `accrued_interest` se requiere un objeto de tipo `TimeSeries` que contenga los datos históricos del índice overnight."
   ]
  },
  {
   "cell_type": "code",
   "execution_count": null,
   "metadata": {
    "ExecuteTime": {
     "end_time": "2022-01-21T13:43:03.706179Z",
     "start_time": "2022-01-21T13:43:03.706179Z"
    },
    "execution": {
     "iopub.status.busy": "2024-05-26T12:29:34.946189Z",
     "iopub.status.idle": "2024-05-26T12:29:34.946426Z",
     "shell.execute_reply": "2024-05-26T12:29:34.946305Z",
     "shell.execute_reply.started": "2024-05-26T12:29:34.946294Z"
    }
   },
   "outputs": [],
   "source": [
    "print(f\"Accrued interest: {cor_cashflow_2.accrued_interest(qcf.QCDate(29, 12, 2021), ts):,.2f}\")"
   ]
  },
  {
   "cell_type": "code",
   "execution_count": null,
   "metadata": {
    "ExecuteTime": {
     "end_time": "2022-01-21T13:43:03.707176Z",
     "start_time": "2022-01-21T13:43:03.707176Z"
    },
    "execution": {
     "iopub.status.busy": "2024-05-26T12:29:34.947553Z",
     "iopub.status.idle": "2024-05-26T12:29:34.947788Z",
     "shell.execute_reply": "2024-05-26T12:29:34.947668Z",
     "shell.execute_reply.started": "2024-05-26T12:29:34.947657Z"
    }
   },
   "outputs": [],
   "source": [
    "check = (\n",
    "    cor_cashflow_2.get_nominal()\n",
    "    * (cor_cashflow_2.accrued_fixing(qcf.QCDate(29, 12, 2021), ts) + spread)\n",
    "    * 2\n",
    "    / 360.0\n",
    ")\n",
    "print(f\"Check: {check:,.2f}\")"
   ]
  },
  {
   "cell_type": "code",
   "execution_count": null,
   "metadata": {
    "ExecuteTime": {
     "end_time": "2022-01-21T13:43:03.708174Z",
     "start_time": "2022-01-21T13:43:03.708174Z"
    },
    "execution": {
     "iopub.status.busy": "2024-05-26T12:29:34.948951Z",
     "iopub.status.idle": "2024-05-26T12:29:34.949189Z",
     "shell.execute_reply": "2024-05-26T12:29:34.949067Z",
     "shell.execute_reply.started": "2024-05-26T12:29:34.949056Z"
    }
   },
   "outputs": [],
   "source": [
    "print(f\"Amount: {cor_cashflow_2.amount():,.2f}\")"
   ]
  },
  {
   "cell_type": "code",
   "execution_count": null,
   "metadata": {
    "ExecuteTime": {
     "end_time": "2022-01-21T13:43:03.710168Z",
     "start_time": "2022-01-21T13:43:03.710168Z"
    },
    "execution": {
     "iopub.status.busy": "2024-05-26T12:29:34.950454Z",
     "iopub.status.idle": "2024-05-26T12:29:34.950686Z",
     "shell.execute_reply": "2024-05-26T12:29:34.950567Z",
     "shell.execute_reply.started": "2024-05-26T12:29:34.950556Z"
    }
   },
   "outputs": [],
   "source": [
    "cor_cashflow_2.date().description(False)"
   ]
  },
  {
   "cell_type": "code",
   "execution_count": null,
   "metadata": {
    "ExecuteTime": {
     "end_time": "2022-01-21T13:43:03.712162Z",
     "start_time": "2022-01-21T13:43:03.712162Z"
    },
    "execution": {
     "iopub.status.busy": "2024-05-26T12:29:34.951532Z",
     "iopub.status.idle": "2024-05-26T12:29:34.951768Z",
     "shell.execute_reply": "2024-05-26T12:29:34.951648Z",
     "shell.execute_reply.started": "2024-05-26T12:29:34.951637Z"
    }
   },
   "outputs": [],
   "source": [
    "print(f\"Interest: {cor_cashflow_2.interest_from_spread():,.2f}\")"
   ]
  },
  {
   "cell_type": "code",
   "execution_count": null,
   "metadata": {
    "ExecuteTime": {
     "end_time": "2022-01-21T13:43:03.713161Z",
     "start_time": "2022-01-21T13:43:03.713161Z"
    },
    "execution": {
     "iopub.status.busy": "2024-05-26T12:29:34.952584Z",
     "iopub.status.idle": "2024-05-26T12:29:34.952898Z",
     "shell.execute_reply": "2024-05-26T12:29:34.952772Z",
     "shell.execute_reply.started": "2024-05-26T12:29:34.952759Z"
    }
   },
   "outputs": [],
   "source": [
    "cor_cashflow_2.is_expired(qcf.QCDate(29, 12, 2021))"
   ]
  },
  {
   "cell_type": "code",
   "execution_count": null,
   "metadata": {
    "ExecuteTime": {
     "end_time": "2022-01-21T13:43:03.714157Z",
     "start_time": "2022-01-21T13:43:03.714157Z"
    },
    "execution": {
     "iopub.status.busy": "2024-05-26T12:29:34.953814Z",
     "iopub.status.idle": "2024-05-26T12:29:34.954046Z",
     "shell.execute_reply": "2024-05-26T12:29:34.953928Z",
     "shell.execute_reply.started": "2024-05-26T12:29:34.953917Z"
    }
   },
   "outputs": [],
   "source": [
    "cor_cashflow_2.is_expired(qcf.QCDate(31, 12, 2021))"
   ]
  },
  {
   "cell_type": "code",
   "execution_count": null,
   "metadata": {
    "ExecuteTime": {
     "end_time": "2022-01-21T13:43:03.716152Z",
     "start_time": "2022-01-21T13:43:03.716152Z"
    },
    "execution": {
     "iopub.status.busy": "2024-05-26T12:29:34.955054Z",
     "iopub.status.idle": "2024-05-26T12:29:34.955298Z",
     "shell.execute_reply": "2024-05-26T12:29:34.955174Z",
     "shell.execute_reply.started": "2024-05-26T12:29:34.955162Z"
    }
   },
   "outputs": [],
   "source": [
    "cor_cashflow_2.is_expired(qcf.QCDate(1, 1, 2022))"
   ]
  },
  {
   "cell_type": "code",
   "execution_count": null,
   "metadata": {
    "execution": {
     "iopub.status.busy": "2024-05-26T12:29:34.956148Z",
     "iopub.status.idle": "2024-05-26T12:29:34.956482Z",
     "shell.execute_reply": "2024-05-26T12:29:34.956346Z",
     "shell.execute_reply.started": "2024-05-26T12:29:34.956331Z"
    }
   },
   "outputs": [],
   "source": [
    "cor_cashflow_2.get_type()"
   ]
  },
  {
   "cell_type": "code",
   "execution_count": null,
   "metadata": {
    "execution": {
     "iopub.status.busy": "2024-05-26T12:29:34.957336Z",
     "iopub.status.idle": "2024-05-26T12:29:34.957579Z",
     "shell.execute_reply": "2024-05-26T12:29:34.957450Z",
     "shell.execute_reply.started": "2024-05-26T12:29:34.957439Z"
    }
   },
   "outputs": [],
   "source": [
    "qcf.show(cor_cashflow)"
   ]
  },
  {
   "cell_type": "code",
   "execution_count": null,
   "metadata": {
    "execution": {
     "iopub.status.busy": "2024-05-26T12:29:34.958528Z",
     "iopub.status.idle": "2024-05-26T12:29:34.958761Z",
     "shell.execute_reply": "2024-05-26T12:29:34.958642Z",
     "shell.execute_reply.started": "2024-05-26T12:29:34.958631Z"
    }
   },
   "outputs": [],
   "source": [
    "pd.DataFrame([qcf.show(cor_cashflow)], columns=qcf.get_column_names(\"CompoundedOvernightRateCashflow2\", \"\"))"
   ]
  },
  {
   "cell_type": "markdown",
   "metadata": {},
   "source": [
    "### Compounded Overnight Rate Multi Currency Cashflow 2\n",
    "\n",
    "Un objeto de tipo `CompoundedOvernightRateMultiCurrencyCashflow2` representa un flujo de caja calculado como un cupón de la pata flotante de un OIS sobre cualquier índice overnight (SOFR, FF, EONIA) que se liquidará en una moneda distinta de la moneda del nominal utilizando el valor a una cierta fecha de un índice de tipo de cambio prefijado.. Para dar de alta uno de estos objetos se requiere:\n",
    "\n",
    "- `InterestRateIndex`: el índice de tasa de interés prefijado\n",
    "- `QCDate`: fecha inicio (para la aplicación de la tasa)\n",
    "- `QCDate`: fecha final (para la aplicación de la tasa)\n",
    "- `QCDate`: fecha de pago\n",
    "- `DateList`: fechas de fixing del índice\n",
    "- `float`: nominal (monto al que se le aplica la tasa)\n",
    "- `float`: amortización (eventual flujo de caja que corresponde a una porción del nominal)\n",
    "- `bool`: indica si la amortización anterior es un flujo de caja o sólo una disminución de nominal\n",
    "- `QCCurrency`: moneda del nocional de la operación\n",
    "- `float`: spread aditivo a aplicar a la fijación de la TRA\n",
    "- `float`: spread multiplicativo o gearing a aplicar a la fijación de la TRA\n",
    "- `QCInterestRate`: permite especificar cuál es la convención de cálculo de la tasa equivalente\n",
    "- `unsigned int`: número de decimales a usar en el cálculo de la tasa equivalente. Por ejemplo para 0.12345678% este valor debe ser 10.\n",
    "- `unsigned int`: número de días de lookback\n",
    "- `unsigned int`: número de días de lockout\n",
    "- `QCDate`: fecha de fixing del índice FX\n",
    "- `QCCurrency`: moneda de pago o settlement\n",
    "- `FXRateIndex`: índice de tipo de cambio a utilizar\n",
    "\n",
    "El efecto de lookback y lockout aún no está implementado."
   ]
  },
  {
   "cell_type": "markdown",
   "metadata": {},
   "source": [
    "#### Constructor"
   ]
  },
  {
   "cell_type": "markdown",
   "metadata": {},
   "source": [
    "Se da de alta un índice overnight ficiticio de test."
   ]
  },
  {
   "cell_type": "code",
   "execution_count": null,
   "metadata": {
    "ExecuteTime": {
     "end_time": "2022-01-21T13:43:03.569544Z",
     "start_time": "2022-01-21T13:43:03.554583Z"
    },
    "execution": {
     "iopub.status.busy": "2024-05-26T12:29:34.960026Z",
     "iopub.status.idle": "2024-05-26T12:29:34.960345Z",
     "shell.execute_reply": "2024-05-26T12:29:34.960213Z",
     "shell.execute_reply.started": "2024-05-26T12:29:34.960199Z"
    }
   },
   "outputs": [],
   "source": [
    "codigo = \"OITEST\"\n",
    "lin_act360 = qcf.QCInterestRate(0.0, act360, lin_wf)\n",
    "fixing_lag = qcf.Tenor(\"0d\")\n",
    "tenor = qcf.Tenor(\"1d\")\n",
    "fixing_calendar = scl\n",
    "settlement_calendar = scl\n",
    "oitest = qcf.InterestRateIndex(\n",
    "    codigo, \n",
    "    lin_act360, \n",
    "    fixing_lag, \n",
    "    tenor, \n",
    "    fixing_calendar, \n",
    "    settlement_calendar, \n",
    "    usd\n",
    ")"
   ]
  },
  {
   "cell_type": "code",
   "execution_count": null,
   "metadata": {
    "ExecuteTime": {
     "end_time": "2022-01-21T13:43:03.584504Z",
     "start_time": "2022-01-21T13:43:03.570541Z"
    },
    "execution": {
     "iopub.status.busy": "2024-05-26T12:29:34.961477Z",
     "iopub.status.idle": "2024-05-26T12:29:34.961791Z",
     "shell.execute_reply": "2024-05-26T12:29:34.961668Z",
     "shell.execute_reply.started": "2024-05-26T12:29:34.961656Z"
    }
   },
   "outputs": [],
   "source": [
    "fixing_dates = qcf.DateList()"
   ]
  },
  {
   "cell_type": "code",
   "execution_count": null,
   "metadata": {
    "ExecuteTime": {
     "end_time": "2022-01-21T13:43:03.600461Z",
     "start_time": "2022-01-21T13:43:03.585501Z"
    },
    "execution": {
     "iopub.status.busy": "2024-05-26T12:29:34.962609Z",
     "iopub.status.idle": "2024-05-26T12:29:34.962852Z",
     "shell.execute_reply": "2024-05-26T12:29:34.962725Z",
     "shell.execute_reply.started": "2024-05-26T12:29:34.962714Z"
    }
   },
   "outputs": [],
   "source": [
    "fixing_dates.append(qcf.QCDate(27, 12, 2021))\n",
    "fixing_dates.append(qcf.QCDate(28, 12, 2021))\n",
    "fixing_dates.append(qcf.QCDate(29, 12, 2021))\n",
    "fixing_dates.append(qcf.QCDate(30, 12, 2021))"
   ]
  },
  {
   "cell_type": "code",
   "execution_count": null,
   "metadata": {
    "ExecuteTime": {
     "end_time": "2022-01-21T13:43:03.679251Z",
     "start_time": "2022-01-21T13:43:03.601459Z"
    },
    "execution": {
     "iopub.status.busy": "2024-05-26T12:29:34.963834Z",
     "iopub.status.idle": "2024-05-26T12:29:34.964071Z",
     "shell.execute_reply": "2024-05-26T12:29:34.963949Z",
     "shell.execute_reply.started": "2024-05-26T12:29:34.963938Z"
    }
   },
   "outputs": [],
   "source": [
    "cor_cashflow_mccy_2 = qcf.CompoundedOvernightRateMultiCurrencyCashflow2(\n",
    "    oitest,\n",
    "    qcf.QCDate(27, 12, 2021),\n",
    "    qcf.QCDate(31, 12, 2021),\n",
    "    qcf.QCDate(31, 12, 2021),\n",
    "    fixing_dates,\n",
    "    10_000_000.0,\n",
    "    100_000.0,\n",
    "    True,\n",
    "    qcf.QCCLP(),\n",
    "    spread:=0.001,\n",
    "    1.0,\n",
    "    qcf.QCInterestRate(0.0, qcf.QCAct360(), qcf.QCLinearWf()),\n",
    "    8,\n",
    "    0,\n",
    "    0,\n",
    "    qcf.QCDate(31, 12, 2021),\n",
    "    qcf.QCUSD(),\n",
    "    usdclp_obs,\n",
    ")"
   ]
  },
  {
   "cell_type": "code",
   "execution_count": null,
   "metadata": {
    "execution": {
     "iopub.status.busy": "2024-05-26T12:29:34.965033Z",
     "iopub.status.idle": "2024-05-26T12:29:34.965535Z",
     "shell.execute_reply": "2024-05-26T12:29:34.965370Z",
     "shell.execute_reply.started": "2024-05-26T12:29:34.965357Z"
    }
   },
   "outputs": [],
   "source": [
    "qcf.show(cor_cashflow_mccy_2)"
   ]
  },
  {
   "cell_type": "code",
   "execution_count": null,
   "metadata": {
    "execution": {
     "iopub.status.busy": "2024-05-26T12:29:34.966538Z",
     "iopub.status.idle": "2024-05-26T12:29:34.966894Z",
     "shell.execute_reply": "2024-05-26T12:29:34.966772Z",
     "shell.execute_reply.started": "2024-05-26T12:29:34.966760Z"
    }
   },
   "outputs": [],
   "source": [
    "pd.DataFrame([qcf.show(cor_cashflow_mccy_2)], columns=qcf.get_column_names(\"CompoundedOvernightRateMultiCurrencyCashflow2\", \"\"))"
   ]
  },
  {
   "cell_type": "code",
   "execution_count": null,
   "metadata": {
    "execution": {
     "iopub.status.busy": "2024-05-26T12:29:34.967956Z",
     "iopub.status.idle": "2024-05-26T12:29:34.968264Z",
     "shell.execute_reply": "2024-05-26T12:29:34.968141Z",
     "shell.execute_reply.started": "2024-05-26T12:29:34.968129Z"
    }
   },
   "outputs": [],
   "source": [
    "cor_cashflow_mccy_2.set_fx_rate_index_value(2.0)"
   ]
  },
  {
   "cell_type": "code",
   "execution_count": null,
   "metadata": {
    "execution": {
     "iopub.status.busy": "2024-05-26T12:29:34.969047Z",
     "iopub.status.idle": "2024-05-26T12:29:34.969305Z",
     "shell.execute_reply": "2024-05-26T12:29:34.969162Z",
     "shell.execute_reply.started": "2024-05-26T12:29:34.969151Z"
    }
   },
   "outputs": [],
   "source": [
    "cor_cashflow_mccy_2.interest(ts)"
   ]
  },
  {
   "cell_type": "code",
   "execution_count": null,
   "metadata": {
    "editable": true,
    "execution": {
     "iopub.status.busy": "2024-05-26T12:29:34.970569Z",
     "iopub.status.idle": "2024-05-26T12:29:34.970817Z",
     "shell.execute_reply": "2024-05-26T12:29:34.970686Z",
     "shell.execute_reply.started": "2024-05-26T12:29:34.970675Z"
    },
    "slideshow": {
     "slide_type": ""
    },
    "tags": []
   },
   "outputs": [],
   "source": [
    "cor_cashflow_mccy_2.to_settlement_currency(cor_cashflow_mccy_2.interest(ts))"
   ]
  }
 ],
 "metadata": {
  "hide_input": false,
  "kernelspec": {
   "display_name": "Python 3 (ipykernel)",
   "language": "python",
   "name": "python3"
  },
  "language_info": {
   "codemirror_mode": {
    "name": "ipython",
    "version": 3
   },
   "file_extension": ".py",
   "mimetype": "text/x-python",
   "name": "python",
   "nbconvert_exporter": "python",
   "pygments_lexer": "ipython3",
   "version": "3.11.5"
  },
  "toc": {
   "base_numbering": 1,
   "nav_menu": {},
   "number_sections": true,
   "sideBar": true,
   "skip_h1_title": true,
   "title_cell": "Table of Contents",
   "title_sidebar": "Contenido",
   "toc_cell": false,
   "toc_position": {
    "height": "675.455px",
    "left": "284px",
    "top": "282.284px",
    "width": "235px"
   },
   "toc_section_display": true,
   "toc_window_display": true
  },
  "varInspector": {
   "cols": {
    "lenName": 16,
    "lenType": 16,
    "lenVar": 40
   },
   "kernels_config": {
    "python": {
     "delete_cmd_postfix": "",
     "delete_cmd_prefix": "del ",
     "library": "var_list.py",
     "varRefreshCmd": "print(var_dic_list())"
    },
    "r": {
     "delete_cmd_postfix": ") ",
     "delete_cmd_prefix": "rm(",
     "library": "var_list.r",
     "varRefreshCmd": "cat(var_dic_list()) "
    }
   },
   "types_to_exclude": [
    "module",
    "function",
    "builtin_function_or_method",
    "instance",
    "_Feature"
   ],
   "window_display": false
  }
 },
 "nbformat": 4,
 "nbformat_minor": 4
}
