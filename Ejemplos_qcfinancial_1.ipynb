{
 "cells": [
  {
   "cell_type": "markdown",
   "metadata": {},
   "source": [
    "# Uso de `qcfinancial` (Parte 1)"
   ]
  },
  {
   "cell_type": "markdown",
   "metadata": {},
   "source": [
    "Se importa la librería compilada para Python3."
   ]
  },
  {
   "cell_type": "code",
   "execution_count": 1,
   "metadata": {
    "ExecuteTime": {
     "end_time": "2022-01-21T13:43:01.933321Z",
     "start_time": "2022-01-21T13:43:01.913344Z"
    },
    "execution": {
     "iopub.execute_input": "2023-09-17T13:19:24.284656Z",
     "iopub.status.busy": "2023-09-17T13:19:24.284295Z",
     "iopub.status.idle": "2023-09-17T13:19:24.312674Z",
     "shell.execute_reply": "2023-09-17T13:19:24.311794Z",
     "shell.execute_reply.started": "2023-09-17T13:19:24.284622Z"
    }
   },
   "outputs": [],
   "source": [
    "import qcfinancial as qcf"
   ]
  },
  {
   "cell_type": "markdown",
   "metadata": {},
   "source": [
    "## Monedas"
   ]
  },
  {
   "cell_type": "markdown",
   "metadata": {},
   "source": [
    "Objetos para representar una divisa. En estos momentos sólo las siguientes divisas están implementadas:\n",
    "\n",
    "- BRL\n",
    "- CAD\n",
    "- CLF (esta es una representación del índice de inflación chileno UF como divisa)\n",
    "- CLP\n",
    "- EUR\n",
    "- GBP\n",
    "- JPY\n",
    "- MXN\n",
    "- USD\n",
    "\n",
    "Si se requiere otra, solicitarlo ingresando un *issue* en el [git repo](https://github.com/adiaz-efaa/derivative-valuation-engine) del proyecto."
   ]
  },
  {
   "cell_type": "markdown",
   "metadata": {},
   "source": [
    "El constructor por default retorna USD."
   ]
  },
  {
   "cell_type": "code",
   "execution_count": 2,
   "metadata": {
    "ExecuteTime": {
     "end_time": "2022-01-21T13:43:01.949248Z",
     "start_time": "2022-01-21T13:43:01.935286Z"
    },
    "execution": {
     "iopub.execute_input": "2023-09-17T13:19:24.317793Z",
     "iopub.status.busy": "2023-09-17T13:19:24.317469Z",
     "iopub.status.idle": "2023-09-17T13:19:24.326913Z",
     "shell.execute_reply": "2023-09-17T13:19:24.325896Z",
     "shell.execute_reply.started": "2023-09-17T13:19:24.317766Z"
    }
   },
   "outputs": [
    {
     "data": {
      "text/plain": [
       "'USD'"
      ]
     },
     "execution_count": 2,
     "metadata": {},
     "output_type": "execute_result"
    }
   ],
   "source": [
    "x = qcf.QCCurrency()\n",
    "x.get_iso_code()"
   ]
  },
  {
   "cell_type": "markdown",
   "metadata": {},
   "source": [
    "Alta de divisas CLP, USD y JPY (USD se puede instanciar también de forma explícita)."
   ]
  },
  {
   "cell_type": "code",
   "execution_count": 3,
   "metadata": {
    "ExecuteTime": {
     "end_time": "2022-01-21T13:43:01.965206Z",
     "start_time": "2022-01-21T13:43:01.950246Z"
    },
    "execution": {
     "iopub.execute_input": "2023-09-17T13:19:24.328813Z",
     "iopub.status.busy": "2023-09-17T13:19:24.328437Z",
     "iopub.status.idle": "2023-09-17T13:19:24.332903Z",
     "shell.execute_reply": "2023-09-17T13:19:24.332140Z",
     "shell.execute_reply.started": "2023-09-17T13:19:24.328784Z"
    }
   },
   "outputs": [],
   "source": [
    "clp = qcf.QCCLP()\n",
    "usd = qcf.QCUSD()\n",
    "jpy = qcf.QCJPY()\n",
    "monedas = [clp, usd, jpy]"
   ]
  },
  {
   "cell_type": "markdown",
   "metadata": {},
   "source": [
    "### Métodos: `get_name`, `get_iso_code`, `get_iso_number`, `get_decimal_places` y `amount`."
   ]
  },
  {
   "cell_type": "markdown",
   "metadata": {},
   "source": [
    "El método `amount`debe utilizarse cuando se debe pagar o recibir un monto resultado de un cálculo. De esta forma, el monto se redondea al número correcto de decimales en la divisa (que se obtiene con `get_decimal_places`). Por ejemplo, en CLP, se redondea a 0 decimales ya que en esta divisa no se utilizan los centavos."
   ]
  },
  {
   "cell_type": "code",
   "execution_count": 4,
   "metadata": {
    "ExecuteTime": {
     "end_time": "2022-01-21T13:43:01.980166Z",
     "start_time": "2022-01-21T13:43:01.967201Z"
    },
    "execution": {
     "iopub.execute_input": "2023-09-17T13:19:24.336795Z",
     "iopub.status.busy": "2023-09-17T13:19:24.336471Z",
     "iopub.status.idle": "2023-09-17T13:19:24.342875Z",
     "shell.execute_reply": "2023-09-17T13:19:24.342098Z",
     "shell.execute_reply.started": "2023-09-17T13:19:24.336764Z"
    }
   },
   "outputs": [
    {
     "name": "stdout",
     "output_type": "stream",
     "text": [
      "Nombre: Chilean Peso\n",
      "Código ISO: CLP\n",
      "Número ISO: 152\n",
      "Número de decimales: 0\n",
      "Cantidad 100.123456 con el número correcto de decimales: 100.0\n",
      "\n",
      "Nombre: U. S. Dollar\n",
      "Código ISO: USD\n",
      "Número ISO: 840\n",
      "Número de decimales: 2\n",
      "Cantidad 100.123456 con el número correcto de decimales: 100.12\n",
      "\n",
      "Nombre: Japanese Yen\n",
      "Código ISO: JPY\n",
      "Número ISO: 392\n",
      "Número de decimales: 2\n",
      "Cantidad 100.123456 con el número correcto de decimales: 100.12\n",
      "\n"
     ]
    }
   ],
   "source": [
    "cantidad = 100.123456\n",
    "for moneda in monedas:\n",
    "    print(\"Nombre: {}\".format(moneda.get_name()))\n",
    "    print(\"Código ISO: {}\".format(moneda.get_iso_code()))\n",
    "    print(\"Número ISO: {}\".format(moneda.get_iso_number()))\n",
    "    print(\"Número de decimales: {}\".format(moneda.get_decimal_places()))\n",
    "    print(\n",
    "        \"Cantidad {} con el número correcto de decimales: {}\".format(\n",
    "            cantidad, moneda.amount(100.123456)\n",
    "        )\n",
    "    )\n",
    "    print()"
   ]
  },
  {
   "cell_type": "markdown",
   "metadata": {},
   "source": [
    "## Fechas\n",
    "Las fechas se representan con objetos de tipo QCDate. Para inicializar un QCDate se requiere el día, el mes y el año de la fecha.  También se puede inicializar sin valor (default constructor) en cuyo caso se obtendrá el 12-1-1969."
   ]
  },
  {
   "cell_type": "markdown",
   "metadata": {},
   "source": [
    "### Constructores"
   ]
  },
  {
   "cell_type": "markdown",
   "metadata": {},
   "source": [
    "Inicializar sin valor. Se muestra además los métodos `description()` y `__str__()`."
   ]
  },
  {
   "cell_type": "code",
   "execution_count": 5,
   "metadata": {
    "ExecuteTime": {
     "end_time": "2022-01-21T13:43:01.996123Z",
     "start_time": "2022-01-21T13:43:01.981164Z"
    },
    "execution": {
     "iopub.execute_input": "2023-09-17T13:19:24.351135Z",
     "iopub.status.busy": "2023-09-17T13:19:24.350809Z",
     "iopub.status.idle": "2023-09-17T13:19:24.356148Z",
     "shell.execute_reply": "2023-09-17T13:19:24.355118Z",
     "shell.execute_reply.started": "2023-09-17T13:19:24.351105Z"
    }
   },
   "outputs": [
    {
     "name": "stdout",
     "output_type": "stream",
     "text": [
      "12-01-1969\n",
      "1969-01-12\n",
      "1969-01-12\n"
     ]
    }
   ],
   "source": [
    "fecha = qcf.QCDate()\n",
    "print(fecha.description(True))\n",
    "print(fecha.description(False))\n",
    "print(fecha)"
   ]
  },
  {
   "cell_type": "markdown",
   "metadata": {},
   "source": [
    "Inicializar con una fecha específica. En este caso, el contructor realiza una validación de los parámetros iniciales."
   ]
  },
  {
   "cell_type": "code",
   "execution_count": 6,
   "metadata": {
    "ExecuteTime": {
     "end_time": "2022-01-21T13:43:02.011084Z",
     "start_time": "2022-01-21T13:43:01.997121Z"
    },
    "execution": {
     "iopub.execute_input": "2023-09-17T13:19:24.365619Z",
     "iopub.status.busy": "2023-09-17T13:19:24.365293Z",
     "iopub.status.idle": "2023-09-17T13:19:24.370555Z",
     "shell.execute_reply": "2023-09-17T13:19:24.369738Z",
     "shell.execute_reply.started": "2023-09-17T13:19:24.365590Z"
    }
   },
   "outputs": [
    {
     "name": "stdout",
     "output_type": "stream",
     "text": [
      "Método description: 14-09-2018\n",
      "Print de Python: 2018-09-14\n"
     ]
    }
   ],
   "source": [
    "fecha1 = qcf.QCDate(14, 9, 2018)  # día, mes, año\n",
    "print(\"Método description: {}\".format(fecha1.description(True)))\n",
    "print(\"Print de Python: {}\".format(fecha1))"
   ]
  },
  {
   "cell_type": "markdown",
   "metadata": {},
   "source": [
    "Error al tratar de construir una fecha inválida."
   ]
  },
  {
   "cell_type": "code",
   "execution_count": 7,
   "metadata": {
    "ExecuteTime": {
     "end_time": "2022-01-21T13:43:02.027041Z",
     "start_time": "2022-01-21T13:43:02.012081Z"
    },
    "execution": {
     "iopub.execute_input": "2023-09-17T13:19:24.379968Z",
     "iopub.status.busy": "2023-09-17T13:19:24.379637Z",
     "iopub.status.idle": "2023-09-17T13:19:24.385537Z",
     "shell.execute_reply": "2023-09-17T13:19:24.384677Z",
     "shell.execute_reply.started": "2023-09-17T13:19:24.379939Z"
    }
   },
   "outputs": [
    {
     "name": "stdout",
     "output_type": "stream",
     "text": [
      "Invalid day for month = 2\n"
     ]
    }
   ],
   "source": [
    "try:\n",
    "    fecha0 = qcf.QCDate(31, 2, 2018)  # ¡¡¡ 31 de febrero !!!\n",
    "except ValueError as e:\n",
    "    print(e)"
   ]
  },
  {
   "cell_type": "markdown",
   "metadata": {},
   "source": [
    "### Getters y Setters"
   ]
  },
  {
   "cell_type": "code",
   "execution_count": 8,
   "metadata": {
    "ExecuteTime": {
     "end_time": "2022-01-21T13:43:02.042999Z",
     "start_time": "2022-01-21T13:43:02.028038Z"
    },
    "execution": {
     "iopub.execute_input": "2023-09-17T13:19:24.394527Z",
     "iopub.status.busy": "2023-09-17T13:19:24.394199Z",
     "iopub.status.idle": "2023-09-17T13:19:24.399544Z",
     "shell.execute_reply": "2023-09-17T13:19:24.398685Z",
     "shell.execute_reply.started": "2023-09-17T13:19:24.394497Z"
    }
   },
   "outputs": [
    {
     "name": "stdout",
     "output_type": "stream",
     "text": [
      "Fecha: 17-10-2019\n"
     ]
    }
   ],
   "source": [
    "# Métodos: set_day, set_month, set_year\n",
    "fecha1.set_day(17)\n",
    "fecha1.set_month(10)\n",
    "fecha1.set_year(2019)\n",
    "print(\"Fecha: {}\".format(fecha1.description(True)))"
   ]
  },
  {
   "cell_type": "code",
   "execution_count": 9,
   "metadata": {
    "ExecuteTime": {
     "end_time": "2022-01-21T13:43:02.058956Z",
     "start_time": "2022-01-21T13:43:02.043995Z"
    },
    "execution": {
     "iopub.execute_input": "2023-09-17T13:19:24.409006Z",
     "iopub.status.busy": "2023-09-17T13:19:24.408675Z",
     "iopub.status.idle": "2023-09-17T13:19:24.413929Z",
     "shell.execute_reply": "2023-09-17T13:19:24.413067Z",
     "shell.execute_reply.started": "2023-09-17T13:19:24.408977Z"
    }
   },
   "outputs": [
    {
     "name": "stdout",
     "output_type": "stream",
     "text": [
      "Día: 17\n",
      "Mes: 10\n",
      "Año: 2019\n"
     ]
    }
   ],
   "source": [
    "# Métodos day, month, year, weekday\n",
    "print(\"Día: {}\".format(fecha1.day()))\n",
    "print(\"Mes: {}\".format(fecha1.month()))\n",
    "print(\"Año: {}\".format(fecha1.year()))"
   ]
  },
  {
   "cell_type": "markdown",
   "metadata": {},
   "source": [
    "### Método `week_day`"
   ]
  },
  {
   "cell_type": "markdown",
   "metadata": {},
   "source": [
    "Retorna una variable de tipo `enum QC_Financial.WeekDay` que representa el día de la semana que corresponde a la fecha."
   ]
  },
  {
   "cell_type": "code",
   "execution_count": 10,
   "metadata": {
    "ExecuteTime": {
     "end_time": "2022-01-21T13:43:02.073916Z",
     "start_time": "2022-01-21T13:43:02.060950Z"
    },
    "execution": {
     "iopub.execute_input": "2023-09-17T13:19:24.423382Z",
     "iopub.status.busy": "2023-09-17T13:19:24.423062Z",
     "iopub.status.idle": "2023-09-17T13:19:24.428207Z",
     "shell.execute_reply": "2023-09-17T13:19:24.427408Z",
     "shell.execute_reply.started": "2023-09-17T13:19:24.423354Z"
    }
   },
   "outputs": [
    {
     "name": "stdout",
     "output_type": "stream",
     "text": [
      "Tipo del retorno: <class 'qcfinancial.WeekDay'>\n",
      "Día de la semana: WeekDay.THU\n"
     ]
    }
   ],
   "source": [
    "dia_semana = fecha1.week_day()\n",
    "print(\"Tipo del retorno: {}\".format(type(dia_semana)))\n",
    "print(\"Día de la semana: {}\".format(dia_semana))"
   ]
  },
  {
   "cell_type": "markdown",
   "metadata": {},
   "source": [
    "### Método `add_months`"
   ]
  },
  {
   "cell_type": "markdown",
   "metadata": {},
   "source": [
    "Suma **n meses** a `fecha1` y retorna esa nueva fecha sin cambiar el valor de `fecha1`."
   ]
  },
  {
   "cell_type": "code",
   "execution_count": 11,
   "metadata": {
    "ExecuteTime": {
     "end_time": "2022-01-21T13:43:02.088876Z",
     "start_time": "2022-01-21T13:43:02.074913Z"
    },
    "execution": {
     "iopub.execute_input": "2023-09-17T13:19:24.438160Z",
     "iopub.status.busy": "2023-09-17T13:19:24.437840Z",
     "iopub.status.idle": "2023-09-17T13:19:24.443050Z",
     "shell.execute_reply": "2023-09-17T13:19:24.442245Z",
     "shell.execute_reply.started": "2023-09-17T13:19:24.438131Z"
    }
   },
   "outputs": [
    {
     "name": "stdout",
     "output_type": "stream",
     "text": [
      "fecha1: 17-10-2019\n",
      "fecha2: 17-11-2019\n"
     ]
    }
   ],
   "source": [
    "num_meses = 1\n",
    "fecha2 = fecha1.add_months(num_meses)\n",
    "print(\"fecha1: {}\".format(fecha1.description(True)))\n",
    "print(\"fecha2: {}\".format(fecha2.description(True)))"
   ]
  },
  {
   "cell_type": "markdown",
   "metadata": {},
   "source": [
    "### Método `add_days`"
   ]
  },
  {
   "cell_type": "markdown",
   "metadata": {},
   "source": [
    "Suma **n días** a `fecha1` sin cambiar el valor de `fecha1`."
   ]
  },
  {
   "cell_type": "code",
   "execution_count": 12,
   "metadata": {
    "ExecuteTime": {
     "end_time": "2022-01-21T13:43:02.104833Z",
     "start_time": "2022-01-21T13:43:02.089873Z"
    },
    "execution": {
     "iopub.execute_input": "2023-09-17T13:19:24.452903Z",
     "iopub.status.busy": "2023-09-17T13:19:24.452567Z",
     "iopub.status.idle": "2023-09-17T13:19:24.458318Z",
     "shell.execute_reply": "2023-09-17T13:19:24.457446Z",
     "shell.execute_reply.started": "2023-09-17T13:19:24.452873Z"
    }
   },
   "outputs": [
    {
     "name": "stdout",
     "output_type": "stream",
     "text": [
      "fecha1: 17-10-2019\n",
      "fecha3: 16-11-2019\n"
     ]
    }
   ],
   "source": [
    "num_dias = 30\n",
    "fecha3 = fecha1.add_days(num_dias)\n",
    "print(\"fecha1: {}\".format(fecha1.description(True)))\n",
    "print(\"fecha3: {}\".format(fecha3.description(True)))"
   ]
  },
  {
   "cell_type": "markdown",
   "metadata": {},
   "source": [
    "### Método `day_dif`"
   ]
  },
  {
   "cell_type": "markdown",
   "metadata": {},
   "source": [
    "Calcula la diferencia en días con otra fecha. Si la otra fecha es mayor el resultado es positivo, si no, es negativo."
   ]
  },
  {
   "cell_type": "code",
   "execution_count": 13,
   "metadata": {
    "ExecuteTime": {
     "end_time": "2022-01-21T13:43:02.120791Z",
     "start_time": "2022-01-21T13:43:02.105831Z"
    },
    "execution": {
     "iopub.execute_input": "2023-09-17T13:19:24.467187Z",
     "iopub.status.busy": "2023-09-17T13:19:24.466863Z",
     "iopub.status.idle": "2023-09-17T13:19:24.472233Z",
     "shell.execute_reply": "2023-09-17T13:19:24.471391Z",
     "shell.execute_reply.started": "2023-09-17T13:19:24.467159Z"
    }
   },
   "outputs": [
    {
     "name": "stdout",
     "output_type": "stream",
     "text": [
      "fecha1.day_diff(fecha3): 30 (días)\n",
      "fecha3.day_diff(fecha1): -30 (días)\n"
     ]
    }
   ],
   "source": [
    "# Dado que fecha3 > fecha1 entonces el resultado es positivo\n",
    "print(\"fecha1.day_diff(fecha3): {} (días)\".format(fecha1.day_diff(fecha3)))\n",
    "\n",
    "# Se invierten los roles y el resultado es negativo\n",
    "print(\"fecha3.day_diff(fecha1): {} (días)\".format(fecha3.day_diff(fecha1)))"
   ]
  },
  {
   "cell_type": "markdown",
   "metadata": {},
   "source": [
    "### Orden en `QCDate`"
   ]
  },
  {
   "cell_type": "markdown",
   "metadata": {},
   "source": [
    "El orden de `QCDate` permite que las fechas pueden compararse entre si."
   ]
  },
  {
   "cell_type": "code",
   "execution_count": 14,
   "metadata": {
    "ExecuteTime": {
     "end_time": "2022-01-21T13:43:02.136747Z",
     "start_time": "2022-01-21T13:43:02.124780Z"
    },
    "execution": {
     "iopub.execute_input": "2023-09-17T13:19:24.483463Z",
     "iopub.status.busy": "2023-09-17T13:19:24.483137Z",
     "iopub.status.idle": "2023-09-17T13:19:24.489311Z",
     "shell.execute_reply": "2023-09-17T13:19:24.488482Z",
     "shell.execute_reply.started": "2023-09-17T13:19:24.483435Z"
    }
   },
   "outputs": [
    {
     "name": "stdout",
     "output_type": "stream",
     "text": [
      "fecha1: 2019-10-17\n",
      "fecha2: 2019-11-17\n",
      "fecha1 == fecha2: False\n",
      "fecha1 != fecha2: True\n",
      "fecha1 < fecha2: True\n",
      "fecha1 <= fecha2: True\n",
      "fecha1 > fecha2: False\n",
      "fecha1 >= fecha2: False\n"
     ]
    }
   ],
   "source": [
    "print(\"fecha1: {}\".format(fecha1))\n",
    "print(\"fecha2: {}\".format(fecha2))\n",
    "print(\"fecha1 == fecha2: {}\".format(fecha1 == fecha2))\n",
    "print(\"fecha1 != fecha2: {}\".format(fecha1 != fecha2))\n",
    "print(\"fecha1 < fecha2: {}\".format(fecha1 < fecha2))\n",
    "print(\"fecha1 <= fecha2: {}\".format(fecha1 <= fecha2))\n",
    "print(\"fecha1 > fecha2: {}\".format(fecha1 > fecha2))\n",
    "print(\"fecha1 >= fecha2: {}\".format(fecha1 >= fecha2))"
   ]
  },
  {
   "cell_type": "markdown",
   "metadata": {},
   "source": [
    "### Un objeto `QCDate` es *hashable*"
   ]
  },
  {
   "cell_type": "markdown",
   "metadata": {},
   "source": [
    "Esto permite que las fechas puedan usarse como `key` en un `dict`de Python. El hash que se utiliza coincide con la representación como entero de uan fecha que se utiliza en Excel."
   ]
  },
  {
   "cell_type": "code",
   "execution_count": 15,
   "metadata": {
    "ExecuteTime": {
     "end_time": "2022-01-21T13:43:02.152705Z",
     "start_time": "2022-01-21T13:43:02.137746Z"
    },
    "execution": {
     "iopub.execute_input": "2023-09-17T13:19:24.497947Z",
     "iopub.status.busy": "2023-09-17T13:19:24.497258Z",
     "iopub.status.idle": "2023-09-17T13:19:24.501848Z",
     "shell.execute_reply": "2023-09-17T13:19:24.500938Z",
     "shell.execute_reply.started": "2023-09-17T13:19:24.497919Z"
    }
   },
   "outputs": [
    {
     "name": "stdout",
     "output_type": "stream",
     "text": [
      "43755\n"
     ]
    }
   ],
   "source": [
    "print(fecha1.__hash__())"
   ]
  },
  {
   "cell_type": "markdown",
   "metadata": {},
   "source": [
    "### Método `build_qcdate_from_string`"
   ]
  },
  {
   "cell_type": "markdown",
   "metadata": {},
   "source": [
    "Se trata de un *factory method* que permite inicializar un objeto `QCDate` a partir de un `string`.\n",
    "El formato del `string` debe ser yyyy&mm&dd donde & es un separador arbitrario."
   ]
  },
  {
   "cell_type": "code",
   "execution_count": 16,
   "metadata": {
    "ExecuteTime": {
     "end_time": "2022-01-21T13:43:02.167665Z",
     "start_time": "2022-01-21T13:43:02.153703Z"
    },
    "execution": {
     "iopub.execute_input": "2023-09-17T13:19:24.512193Z",
     "iopub.status.busy": "2023-09-17T13:19:24.511863Z",
     "iopub.status.idle": "2023-09-17T13:19:24.518313Z",
     "shell.execute_reply": "2023-09-17T13:19:24.517522Z",
     "shell.execute_reply.started": "2023-09-17T13:19:24.512165Z"
    }
   },
   "outputs": [
    {
     "name": "stdout",
     "output_type": "stream",
     "text": [
      "2020-01-01: 2020-01-01\n",
      "2020/01/02: 2020-01-02\n",
      "2020&01&03: 2020-01-03\n"
     ]
    }
   ],
   "source": [
    "str1 = \"2020-01-01\"\n",
    "str2 = \"2020/01/02\"\n",
    "str3 = \"2020&01&03\"\n",
    "\n",
    "fecha4 = qcf.build_qcdate_from_string(str1)\n",
    "print((str1 + \": {}\").format(fecha4.description(False)))\n",
    "\n",
    "fecha4 = qcf.build_qcdate_from_string(str2)\n",
    "print((str2 + \": {}\").format(fecha4.description(False)))\n",
    "\n",
    "fecha4 = qcf.build_qcdate_from_string(str3)\n",
    "print((str3 + \": {}\").format(fecha4.description(False)))"
   ]
  },
  {
   "cell_type": "markdown",
   "metadata": {},
   "source": [
    "## Calendarios\n",
    "Los calendarios se representan con objetos de tipo `BusinesssCalendar` y son **listas** de fechas arbitrarias que representan días feriados en alguna ciudad, país, región o unión de las anteriores. Para dar de alta un calendario se requiere una fecha inicial (`QCDate` y un número entero positivo que representa el plazo inicial total del calendario en años). El objeto `BusinessCalendar` incluye explícitamente todos los días 1 de enero y considera siempre como feriado los días sábado y domingo (aunque no pertenecen de forma explícita a la **lista**).   "
   ]
  },
  {
   "cell_type": "code",
   "execution_count": 17,
   "metadata": {
    "ExecuteTime": {
     "end_time": "2022-01-21T13:43:02.183622Z",
     "start_time": "2022-01-21T13:43:02.168663Z"
    },
    "execution": {
     "iopub.execute_input": "2023-09-17T13:19:24.528253Z",
     "iopub.status.busy": "2023-09-17T13:19:24.527933Z",
     "iopub.status.idle": "2023-09-17T13:19:24.533159Z",
     "shell.execute_reply": "2023-09-17T13:19:24.532101Z",
     "shell.execute_reply.started": "2023-09-17T13:19:24.528224Z"
    }
   },
   "outputs": [],
   "source": [
    "scl = qcf.BusinessCalendar(fecha1, 10)\n",
    "for holiday in scl.get_holidays():\n",
    "    print(holiday)"
   ]
  },
  {
   "cell_type": "code",
   "execution_count": 18,
   "metadata": {
    "ExecuteTime": {
     "end_time": "2022-01-21T13:43:02.198582Z",
     "start_time": "2022-01-21T13:43:02.184620Z"
    },
    "execution": {
     "iopub.execute_input": "2023-09-17T13:19:24.544192Z",
     "iopub.status.busy": "2023-09-17T13:19:24.543863Z",
     "iopub.status.idle": "2023-09-17T13:19:24.549111Z",
     "shell.execute_reply": "2023-09-17T13:19:24.548317Z",
     "shell.execute_reply.started": "2023-09-17T13:19:24.544162Z"
    }
   },
   "outputs": [
    {
     "name": "stdout",
     "output_type": "stream",
     "text": [
      "2018-01-02\n"
     ]
    }
   ],
   "source": [
    "# Método add_holiday. Agrega una fecha a la lista.\n",
    "scl.add_holiday(qcf.QCDate(2, 1, 2018))\n",
    "for holiday in scl.get_holidays():\n",
    "    print(holiday)"
   ]
  },
  {
   "cell_type": "code",
   "execution_count": 19,
   "metadata": {
    "ExecuteTime": {
     "end_time": "2022-01-21T13:43:02.214541Z",
     "start_time": "2022-01-21T13:43:02.199580Z"
    },
    "execution": {
     "iopub.execute_input": "2023-09-17T13:19:24.558186Z",
     "iopub.status.busy": "2023-09-17T13:19:24.557867Z",
     "iopub.status.idle": "2023-09-17T13:19:24.563537Z",
     "shell.execute_reply": "2023-09-17T13:19:24.562563Z",
     "shell.execute_reply.started": "2023-09-17T13:19:24.558156Z"
    }
   },
   "outputs": [
    {
     "name": "stdout",
     "output_type": "stream",
     "text": [
      "next: 2018-09-17\n",
      "Se agrega el 17-9-2018 a la lista\n",
      "nuevo next: 2018-09-18\n"
     ]
    }
   ],
   "source": [
    "# Método next_busy_day. Dada una fecha, si ésta es hábil retorna la misma fecha,\n",
    "## si, por el contrario, la fecha es inhábil, devuelve la siguiente fecha hábil del calendario.\n",
    "print(\"next:\", scl.next_busy_day(qcf.QCDate(15, 9, 2018)))  # es sábado\n",
    "print(\"Se agrega el 17-9-2018 a la lista\")\n",
    "scl.add_holiday(qcf.QCDate(17, 9, 2018))\n",
    "print(\"nuevo next:\", scl.next_busy_day(qcf.QCDate(15, 9, 2018)))"
   ]
  },
  {
   "cell_type": "code",
   "execution_count": 20,
   "metadata": {
    "ExecuteTime": {
     "end_time": "2022-01-21T13:43:02.230498Z",
     "start_time": "2022-01-21T13:43:02.215538Z"
    },
    "execution": {
     "iopub.execute_input": "2023-09-17T13:19:24.572902Z",
     "iopub.status.busy": "2023-09-17T13:19:24.572573Z",
     "iopub.status.idle": "2023-09-17T13:19:24.578542Z",
     "shell.execute_reply": "2023-09-17T13:19:24.577650Z",
     "shell.execute_reply.started": "2023-09-17T13:19:24.572873Z"
    }
   },
   "outputs": [
    {
     "name": "stdout",
     "output_type": "stream",
     "text": [
      "fecha: 2018-04-30\n",
      "next: 2018-05-01\n",
      "mod next: 2018-04-27\n",
      "abril30: 2018-04-30\n"
     ]
    }
   ],
   "source": [
    "# Método mod_next_busy_day. Opera igual que la función anterior a menos que la función anterior retorne una fecha\n",
    "# del mes siguiente, en ese caso retorna la fecha hábil anterior.\n",
    "print(\"fecha: 2018-04-30\")\n",
    "abril30 = qcf.QCDate(30, 4, 2018)\n",
    "scl.add_holiday(abril30)\n",
    "print(\"next:\", scl.next_busy_day(abril30))\n",
    "print(\"mod next:\", scl.mod_next_busy_day(qcf.QCDate(30, 4, 2018)))\n",
    "print(\"abril30:\", abril30)"
   ]
  },
  {
   "cell_type": "code",
   "execution_count": 21,
   "metadata": {
    "ExecuteTime": {
     "end_time": "2022-01-21T13:43:02.246455Z",
     "start_time": "2022-01-21T13:43:02.231495Z"
    },
    "execution": {
     "iopub.execute_input": "2023-09-17T13:19:24.586806Z",
     "iopub.status.busy": "2023-09-17T13:19:24.586479Z",
     "iopub.status.idle": "2023-09-17T13:19:24.591040Z",
     "shell.execute_reply": "2023-09-17T13:19:24.590094Z",
     "shell.execute_reply.started": "2023-09-17T13:19:24.586776Z"
    }
   },
   "outputs": [
    {
     "name": "stdout",
     "output_type": "stream",
     "text": [
      "prev: 2018-04-27\n"
     ]
    }
   ],
   "source": [
    "# Método prev_busy_day. Opera de forma análoga a mod_busy_day, pero retornando la fecha hábil anterior.\n",
    "print(\"prev:\", scl.prev_busy_day(abril30).iso_code())"
   ]
  },
  {
   "cell_type": "code",
   "execution_count": 22,
   "metadata": {
    "ExecuteTime": {
     "end_time": "2022-01-21T13:43:02.261415Z",
     "start_time": "2022-01-21T13:43:02.247452Z"
    },
    "execution": {
     "iopub.execute_input": "2023-09-17T13:19:24.601369Z",
     "iopub.status.busy": "2023-09-17T13:19:24.601042Z",
     "iopub.status.idle": "2023-09-17T13:19:24.607112Z",
     "shell.execute_reply": "2023-09-17T13:19:24.606035Z",
     "shell.execute_reply.started": "2023-09-17T13:19:24.601341Z"
    }
   },
   "outputs": [
    {
     "name": "stdout",
     "output_type": "stream",
     "text": [
      "2018-05-01\n",
      "2018-04-30\n",
      "2018-05-01\n",
      "2018-05-07\n"
     ]
    }
   ],
   "source": [
    "# Método shift. Suma un número n de días hábiles a una fecha.\n",
    "mayo2 = qcf.QCDate(2, 5, 2018)\n",
    "print(scl.shift(mayo2, -1))\n",
    "print(scl.shift(abril30, 0))\n",
    "print(scl.shift(abril30, 1))\n",
    "print(scl.shift(abril30, 5))"
   ]
  },
  {
   "cell_type": "markdown",
   "metadata": {
    "heading_collapsed": true
   },
   "source": [
    "## Fracciones de Año"
   ]
  },
  {
   "cell_type": "code",
   "execution_count": 23,
   "metadata": {
    "ExecuteTime": {
     "end_time": "2022-01-21T13:43:02.276375Z",
     "start_time": "2022-01-21T13:43:02.262412Z"
    },
    "execution": {
     "iopub.execute_input": "2023-09-17T13:19:24.609064Z",
     "iopub.status.busy": "2023-09-17T13:19:24.608757Z",
     "iopub.status.idle": "2023-09-17T13:19:24.613595Z",
     "shell.execute_reply": "2023-09-17T13:19:24.612742Z",
     "shell.execute_reply.started": "2023-09-17T13:19:24.609036Z"
    },
    "hidden": true
   },
   "outputs": [],
   "source": [
    "# Existen Act/360, Act/365, 30/360 y Act/30\n",
    "act360 = qcf.QCAct360()\n",
    "act365 = qcf.QCAct365()\n",
    "t30360 = qcf.QC30360()\n",
    "act30 = qcf.QCAct30()\n",
    "yfs = [act360, act365, t30360, act30]"
   ]
  },
  {
   "cell_type": "code",
   "execution_count": 24,
   "metadata": {
    "ExecuteTime": {
     "end_time": "2022-01-21T13:43:02.292334Z",
     "start_time": "2022-01-21T13:43:02.277372Z"
    },
    "execution": {
     "iopub.execute_input": "2023-09-17T13:19:24.618634Z",
     "iopub.status.busy": "2023-09-17T13:19:24.618092Z",
     "iopub.status.idle": "2023-09-17T13:19:24.623081Z",
     "shell.execute_reply": "2023-09-17T13:19:24.622172Z",
     "shell.execute_reply.started": "2023-09-17T13:19:24.618608Z"
    },
    "hidden": true
   },
   "outputs": [
    {
     "name": "stdout",
     "output_type": "stream",
     "text": [
      "0.08333333333333333\n",
      "0.08333333333333333\n",
      "30\n",
      "\n",
      "0.0821917808219178\n",
      "0.0821917808219178\n",
      "30\n",
      "\n",
      "0.08333333333333333\n",
      "0.08055555555555556\n",
      "29\n",
      "\n",
      "1.0\n",
      "1.0\n",
      "30\n",
      "\n"
     ]
    }
   ],
   "source": [
    "# Métodos yf (sobrecargado) y count_days\n",
    "for yf in yfs:\n",
    "    print(yf.yf(30))\n",
    "    print(yf.yf(fecha1, fecha3))\n",
    "    print(yf.count_days(fecha1, fecha3))\n",
    "    print()"
   ]
  },
  {
   "cell_type": "markdown",
   "metadata": {
    "heading_collapsed": true
   },
   "source": [
    "## Factores de Capitalización"
   ]
  },
  {
   "cell_type": "code",
   "execution_count": 25,
   "metadata": {
    "ExecuteTime": {
     "end_time": "2022-01-21T13:43:02.308289Z",
     "start_time": "2022-01-21T13:43:02.293330Z"
    },
    "execution": {
     "iopub.execute_input": "2023-09-17T13:19:24.625364Z",
     "iopub.status.busy": "2023-09-17T13:19:24.625059Z",
     "iopub.status.idle": "2023-09-17T13:19:24.629135Z",
     "shell.execute_reply": "2023-09-17T13:19:24.628351Z",
     "shell.execute_reply.started": "2023-09-17T13:19:24.625339Z"
    },
    "hidden": true
   },
   "outputs": [],
   "source": [
    "# Existen: (yf es la fracción de año asociada a la tasa de valor r)\n",
    "#    QCLinearWf     ---> (1 + r * yf)\n",
    "#    QCCompundWf    ---> (1 + r)**yf\n",
    "#    QCContinousWf  ---> exp(r * yf)\n",
    "lin_wf = qcf.QCLinearWf()\n",
    "com_wf = qcf.QCCompoundWf()\n",
    "exp_wf = qcf.QCContinousWf()"
   ]
  },
  {
   "cell_type": "markdown",
   "metadata": {},
   "source": [
    "## Tasas de Interés"
   ]
  },
  {
   "cell_type": "code",
   "execution_count": 26,
   "metadata": {
    "ExecuteTime": {
     "end_time": "2022-01-21T13:43:02.324248Z",
     "start_time": "2022-01-21T13:43:02.309287Z"
    },
    "execution": {
     "iopub.execute_input": "2023-09-17T13:19:24.630590Z",
     "iopub.status.busy": "2023-09-17T13:19:24.630151Z",
     "iopub.status.idle": "2023-09-17T13:19:24.634673Z",
     "shell.execute_reply": "2023-09-17T13:19:24.633677Z",
     "shell.execute_reply.started": "2023-09-17T13:19:24.630565Z"
    }
   },
   "outputs": [],
   "source": [
    "# Dar de alta una tasa de interés\n",
    "tasa_lin_act360 = qcf.QCInterestRate(0.1, act360, lin_wf)\n",
    "tasa_com_act365 = qcf.QCInterestRate(0.1, act365, com_wf)\n",
    "tasas = [tasa_lin_act360, tasa_com_act365]"
   ]
  },
  {
   "cell_type": "code",
   "execution_count": 27,
   "metadata": {
    "ExecuteTime": {
     "end_time": "2022-01-21T13:43:02.340204Z",
     "start_time": "2022-01-21T13:43:02.325244Z"
    },
    "execution": {
     "iopub.execute_input": "2023-09-17T13:19:24.638107Z",
     "iopub.status.busy": "2023-09-17T13:19:24.637796Z",
     "iopub.status.idle": "2023-09-17T13:19:24.644053Z",
     "shell.execute_reply": "2023-09-17T13:19:24.643104Z",
     "shell.execute_reply.started": "2023-09-17T13:19:24.638079Z"
    }
   },
   "outputs": [
    {
     "name": "stdout",
     "output_type": "stream",
     "text": [
      "get 0.1\n",
      "get nuevo valor 0.12\n",
      "wf 1.01\n",
      "dwf 0.08333333333333333\n",
      "wf1 1.1216666666666666\n",
      "dwf1 1.0138888888888888\n",
      "\n",
      "get 0.1\n",
      "get nuevo valor 0.12\n",
      "wf 1.0093582031654136\n",
      "dwf 0.07407227518337182\n",
      "wf1 1.12\n",
      "dwf1 1.0\n",
      "\n"
     ]
    }
   ],
   "source": [
    "# Métodos get_value, set_value, wf (sobrecargado), dwf (sobrecargado)\n",
    "for tasa in tasas:\n",
    "    print(\"get\", tasa.get_value())\n",
    "    tasa.set_value(0.12)\n",
    "    print(\"get nuevo valor\", tasa.get_value())\n",
    "    print(\n",
    "        \"wf\", tasa.wf(fecha1, fecha3)\n",
    "    )  # Retorna el factor de capitalización entre las fechas\n",
    "    print(\n",
    "        \"dwf\", tasa.dwf(fecha1, fecha3)\n",
    "    )  # Retorna la derivada del factor de capitalización respecto al valor de la tasa\n",
    "    # entre las fechas\n",
    "    print(\n",
    "        \"wf1\", tasa.wf(365)\n",
    "    )  # Retorna el factor de capitalización para el número de días\n",
    "    print(\n",
    "        \"dwf1\", tasa.dwf(365)\n",
    "    )  # Retorna la derivada del factor de capitalización respecto al valor de la tasa\n",
    "    # para el número de días\n",
    "    print()"
   ]
  },
  {
   "cell_type": "code",
   "execution_count": 28,
   "metadata": {
    "ExecuteTime": {
     "end_time": "2022-01-21T13:43:02.355165Z",
     "start_time": "2022-01-21T13:43:02.344194Z"
    },
    "execution": {
     "iopub.execute_input": "2023-09-17T13:19:24.651052Z",
     "iopub.status.busy": "2023-09-17T13:19:24.650726Z",
     "iopub.status.idle": "2023-09-17T13:19:24.656689Z",
     "shell.execute_reply": "2023-09-17T13:19:24.655708Z",
     "shell.execute_reply.started": "2023-09-17T13:19:24.651023Z"
    }
   },
   "outputs": [
    {
     "data": {
      "text/plain": [
       "-0.03600000000000003"
      ]
     },
     "execution_count": 28,
     "metadata": {},
     "output_type": "execute_result"
    }
   ],
   "source": [
    "tasa_lin_act360.get_rate_from_wf(0.99, 100)"
   ]
  },
  {
   "cell_type": "markdown",
   "metadata": {},
   "source": [
    "### Tenor\n",
    "Es una clase que representa el concepto de tenor (1D, 1M, 1Y ...)."
   ]
  },
  {
   "cell_type": "code",
   "execution_count": 29,
   "metadata": {
    "ExecuteTime": {
     "end_time": "2022-01-21T13:43:02.371122Z",
     "start_time": "2022-01-21T13:43:02.356162Z"
    },
    "execution": {
     "iopub.execute_input": "2023-09-17T13:19:24.658965Z",
     "iopub.status.busy": "2023-09-17T13:19:24.658412Z",
     "iopub.status.idle": "2023-09-17T13:19:24.663253Z",
     "shell.execute_reply": "2023-09-17T13:19:24.662399Z",
     "shell.execute_reply.started": "2023-09-17T13:19:24.658936Z"
    }
   },
   "outputs": [],
   "source": [
    "# Ejemplo de Tenor\n",
    "one_d = qcf.Tenor(\"1d\")\n",
    "one_m = qcf.Tenor(\"1M\")\n",
    "one_y = qcf.Tenor(\"1y\")\n",
    "t1d1m1y = qcf.Tenor(\"1D1M1Y\")\n",
    "t2Y3M = qcf.Tenor(\"2yadv3m\")\n",
    "tenors = [one_d, one_m, one_y, t1d1m1y, t2Y3M]"
   ]
  },
  {
   "cell_type": "code",
   "execution_count": 30,
   "metadata": {
    "ExecuteTime": {
     "end_time": "2022-01-21T13:43:02.386082Z",
     "start_time": "2022-01-21T13:43:02.372119Z"
    },
    "execution": {
     "iopub.execute_input": "2023-09-17T13:19:24.668480Z",
     "iopub.status.busy": "2023-09-17T13:19:24.668167Z",
     "iopub.status.idle": "2023-09-17T13:19:24.674026Z",
     "shell.execute_reply": "2023-09-17T13:19:24.673297Z",
     "shell.execute_reply.started": "2023-09-17T13:19:24.668450Z"
    }
   },
   "outputs": [
    {
     "name": "stdout",
     "output_type": "stream",
     "text": [
      "string: 1D\n",
      "dias: 1\n",
      "meses: 0\n",
      "años: 0\n",
      "\n",
      "string: 1M\n",
      "dias: 0\n",
      "meses: 1\n",
      "años: 0\n",
      "\n",
      "string: 1Y\n",
      "dias: 0\n",
      "meses: 0\n",
      "años: 1\n",
      "\n",
      "string: 1Y1M1D\n",
      "dias: 1\n",
      "meses: 1\n",
      "años: 1\n",
      "\n",
      "string: 2Y3M\n",
      "dias: 0\n",
      "meses: 3\n",
      "años: 2\n",
      "\n",
      "32Y1M\n"
     ]
    }
   ],
   "source": [
    "# Métodos get_string, get_years, get_months, get_years\n",
    "for tenor in tenors:\n",
    "    print(\"string:\", tenor.get_string())\n",
    "    print(\"dias:\", tenor.get_days())\n",
    "    print(\"meses:\", tenor.get_months())\n",
    "    print(\"años:\", tenor.get_years())\n",
    "    print()\n",
    "\n",
    "# Método set_tenor\n",
    "t2Y3M.set_tenor(\"1m32y\")\n",
    "print(t2Y3M.get_string())"
   ]
  },
  {
   "cell_type": "markdown",
   "metadata": {
    "heading_collapsed": true
   },
   "source": [
    "## FX Rate\n",
    "Es una clase que representa el concepto de tipo de cambio entre dos monedas. Para dar de alta un FXRate se requiere:\n",
    "\n",
    "- QCCurrency: la moneda fuerte del par.\n",
    "- QCCurrency: la moneda débl del par."
   ]
  },
  {
   "cell_type": "code",
   "execution_count": 31,
   "metadata": {
    "ExecuteTime": {
     "end_time": "2022-01-21T13:43:02.402039Z",
     "start_time": "2022-01-21T13:43:02.387079Z"
    },
    "execution": {
     "iopub.execute_input": "2023-09-17T13:19:24.682487Z",
     "iopub.status.busy": "2023-09-17T13:19:24.682156Z",
     "iopub.status.idle": "2023-09-17T13:19:24.687893Z",
     "shell.execute_reply": "2023-09-17T13:19:24.687038Z",
     "shell.execute_reply.started": "2023-09-17T13:19:24.682457Z"
    },
    "hidden": true
   },
   "outputs": [
    {
     "name": "stdout",
     "output_type": "stream",
     "text": [
      "código: USDCLP\n"
     ]
    }
   ],
   "source": [
    "# Ejemplo. USDCLP. Método get_code. Se retorna el código del par según la convención usual.\n",
    "usdclp = qcf.FXRate(usd, clp)\n",
    "print(\"código:\", usdclp.get_code())"
   ]
  },
  {
   "cell_type": "markdown",
   "metadata": {},
   "source": [
    "### FXRateIndex\n",
    "\n",
    "Representa un índice de tipo de cambio."
   ]
  },
  {
   "cell_type": "code",
   "execution_count": 32,
   "metadata": {
    "execution": {
     "iopub.execute_input": "2023-09-17T13:19:24.697379Z",
     "iopub.status.busy": "2023-09-17T13:19:24.697042Z",
     "iopub.status.idle": "2023-09-17T13:19:24.702811Z",
     "shell.execute_reply": "2023-09-17T13:19:24.701848Z",
     "shell.execute_reply.started": "2023-09-17T13:19:24.697350Z"
    }
   },
   "outputs": [
    {
     "data": {
      "text/plain": [
       "<qcfinancial.FXRate at 0x10e77e3b0>"
      ]
     },
     "execution_count": 32,
     "metadata": {},
     "output_type": "execute_result"
    }
   ],
   "source": [
    "usdclp"
   ]
  },
  {
   "cell_type": "markdown",
   "metadata": {},
   "source": [
    "## Índices\n",
    "Todo índice pertenece a un asset class. Los distintos asset class se representan con un el enum AssetClass. Los asset class disponibles son:\n",
    "\n",
    "- InterestRate\n",
    "- InterestRateVol\n",
    "- Fx\n",
    "- FxVol\n",
    "- Equity\n",
    "- EquityVol\n",
    "- Commodity\n",
    "- CommodityVol\n",
    "- Credit\n",
    "- CreditVol"
   ]
  },
  {
   "cell_type": "code",
   "execution_count": 33,
   "metadata": {
    "ExecuteTime": {
     "end_time": "2022-01-21T13:43:02.417997Z",
     "start_time": "2022-01-21T13:43:02.403037Z"
    },
    "execution": {
     "iopub.execute_input": "2023-09-17T13:19:24.710983Z",
     "iopub.status.busy": "2023-09-17T13:19:24.710665Z",
     "iopub.status.idle": "2023-09-17T13:19:24.715278Z",
     "shell.execute_reply": "2023-09-17T13:19:24.714326Z",
     "shell.execute_reply.started": "2023-09-17T13:19:24.710954Z"
    }
   },
   "outputs": [
    {
     "name": "stdout",
     "output_type": "stream",
     "text": [
      "AssetClass.InterestRate\n",
      "AssetClass.Fx\n"
     ]
    }
   ],
   "source": [
    "# AssetClass. Existen\n",
    "print(qcf.AssetClass.InterestRate)\n",
    "print(qcf.AssetClass.Fx)"
   ]
  },
  {
   "cell_type": "markdown",
   "metadata": {},
   "source": [
    "Para dar de alta un FXRateIndex se requiere:\n",
    "\n",
    "- `FXRate`: el FXRate correspoondiente.\n",
    "- `str`: nombre del índice\n",
    "- `Tenor`: la regla de fixing, es 1D como el USD Observado o es 0D como un ínidce de cierre de día.\n",
    "- `Tenor`: la regla para la valuta. Es 1D como el USDCLP o 2D como el EURUSD.\n",
    "- `BusinessCalendar`: el calendario adecuado para aplicar las reglas de fixing y valuta.\n"
   ]
  },
  {
   "cell_type": "code",
   "execution_count": 34,
   "metadata": {
    "ExecuteTime": {
     "end_time": "2022-01-21T13:43:02.433954Z",
     "start_time": "2022-01-21T13:43:02.418994Z"
    },
    "execution": {
     "iopub.execute_input": "2023-09-17T13:19:24.725035Z",
     "iopub.status.busy": "2023-09-17T13:19:24.724708Z",
     "iopub.status.idle": "2023-09-17T13:19:24.730451Z",
     "shell.execute_reply": "2023-09-17T13:19:24.729661Z",
     "shell.execute_reply.started": "2023-09-17T13:19:24.725006Z"
    }
   },
   "outputs": [
    {
     "name": "stdout",
     "output_type": "stream",
     "text": [
      "fecha de publicación: WeekDay.THU 2019-10-17\n",
      "fecha de fixing: 2019-10-16\n",
      "fecha de valuta: 2019-10-17\n"
     ]
    }
   ],
   "source": [
    "# Ejemplo.\n",
    "usdclp_obs = qcf.FXRateIndex(usdclp, \"USDOBS\", one_d, one_d, scl)\n",
    "print(\"fecha de publicación:\", fecha1.week_day(), fecha1)\n",
    "print(\"fecha de fixing:\", usdclp_obs.fixing_date(fecha1))\n",
    "print(\"fecha de valuta:\", usdclp_obs.value_date(fecha1))"
   ]
  },
  {
   "cell_type": "code",
   "execution_count": 35,
   "metadata": {
    "ExecuteTime": {
     "end_time": "2022-01-21T13:43:02.448914Z",
     "start_time": "2022-01-21T13:43:02.434952Z"
    },
    "execution": {
     "iopub.execute_input": "2023-09-17T13:19:24.739043Z",
     "iopub.status.busy": "2023-09-17T13:19:24.738702Z",
     "iopub.status.idle": "2023-09-17T13:19:24.743783Z",
     "shell.execute_reply": "2023-09-17T13:19:24.742781Z",
     "shell.execute_reply.started": "2023-09-17T13:19:24.739011Z"
    }
   },
   "outputs": [
    {
     "name": "stdout",
     "output_type": "stream",
     "text": [
      "Monto en CLP es: 700,000\n"
     ]
    }
   ],
   "source": [
    "result = usdclp_obs.convert(1000, qcf.QCUSD(), 700)\n",
    "print(f\"Monto en CLP es: {result:,.0f}\")"
   ]
  },
  {
   "cell_type": "markdown",
   "metadata": {},
   "source": [
    "### QCCurrencyConverter\n",
    "\n",
    "Este es un objeto que permite realizar conversiones de una moneda a otra."
   ]
  },
  {
   "cell_type": "code",
   "execution_count": 36,
   "metadata": {
    "execution": {
     "iopub.execute_input": "2023-09-17T13:19:24.745830Z",
     "iopub.status.busy": "2023-09-17T13:19:24.745524Z",
     "iopub.status.idle": "2023-09-17T13:19:24.750063Z",
     "shell.execute_reply": "2023-09-17T13:19:24.749272Z",
     "shell.execute_reply.started": "2023-09-17T13:19:24.745803Z"
    }
   },
   "outputs": [],
   "source": [
    "ccy_converter = qcf.QCCurrencyConverter()"
   ]
  },
  {
   "cell_type": "code",
   "execution_count": 37,
   "metadata": {
    "execution": {
     "iopub.execute_input": "2023-09-17T13:19:24.754501Z",
     "iopub.status.busy": "2023-09-17T13:19:24.754180Z",
     "iopub.status.idle": "2023-09-17T13:19:24.758723Z",
     "shell.execute_reply": "2023-09-17T13:19:24.757800Z",
     "shell.execute_reply.started": "2023-09-17T13:19:24.754471Z"
    }
   },
   "outputs": [
    {
     "name": "stdout",
     "output_type": "stream",
     "text": [
      "Monto en CLP: 800,000\n"
     ]
    }
   ],
   "source": [
    "print(f'Monto en CLP: {ccy_converter.convert(1_000, usd, 800, usdclp_obs):,.0f}')"
   ]
  },
  {
   "cell_type": "code",
   "execution_count": 38,
   "metadata": {
    "execution": {
     "iopub.execute_input": "2023-09-17T13:19:24.768821Z",
     "iopub.status.busy": "2023-09-17T13:19:24.768495Z",
     "iopub.status.idle": "2023-09-17T13:19:24.773391Z",
     "shell.execute_reply": "2023-09-17T13:19:24.772631Z",
     "shell.execute_reply.started": "2023-09-17T13:19:24.768792Z"
    }
   },
   "outputs": [
    {
     "name": "stdout",
     "output_type": "stream",
     "text": [
      "Monto en USD: 1,000\n"
     ]
    }
   ],
   "source": [
    "print(f'Monto en USD: {ccy_converter.convert(800_000, clp, 800, usdclp_obs):,.0f}')"
   ]
  },
  {
   "cell_type": "markdown",
   "metadata": {},
   "source": [
    "#### Enum para Monedas"
   ]
  },
  {
   "cell_type": "code",
   "execution_count": 39,
   "metadata": {
    "execution": {
     "iopub.execute_input": "2023-09-17T13:19:24.782633Z",
     "iopub.status.busy": "2023-09-17T13:19:24.782313Z",
     "iopub.status.idle": "2023-09-17T13:19:24.788151Z",
     "shell.execute_reply": "2023-09-17T13:19:24.787181Z",
     "shell.execute_reply.started": "2023-09-17T13:19:24.782605Z"
    }
   },
   "outputs": [
    {
     "data": {
      "text/plain": [
       "<QCCurrencyEnum.USD: 17>"
      ]
     },
     "execution_count": 39,
     "metadata": {},
     "output_type": "execute_result"
    }
   ],
   "source": [
    "qcf.QCCurrencyEnum.AUD\n",
    "qcf.QCCurrencyEnum.USD"
   ]
  },
  {
   "cell_type": "markdown",
   "metadata": {},
   "source": [
    "#### Enum para FXRates"
   ]
  },
  {
   "cell_type": "code",
   "execution_count": 40,
   "metadata": {
    "execution": {
     "iopub.execute_input": "2023-09-17T13:19:24.796259Z",
     "iopub.status.busy": "2023-09-17T13:19:24.795920Z",
     "iopub.status.idle": "2023-09-17T13:19:24.801678Z",
     "shell.execute_reply": "2023-09-17T13:19:24.800650Z",
     "shell.execute_reply.started": "2023-09-17T13:19:24.796220Z"
    }
   },
   "outputs": [
    {
     "data": {
      "text/plain": [
       "<QCFxRateEnum.EURUSD: 28>"
      ]
     },
     "execution_count": 40,
     "metadata": {},
     "output_type": "execute_result"
    }
   ],
   "source": [
    "qcf.QCFxRateEnum.USDCLP\n",
    "qcf.QCFxRateEnum.EURUSD"
   ]
  },
  {
   "cell_type": "markdown",
   "metadata": {},
   "source": [
    "Ambos `enum` se pueden utilizar con el método `convert`:"
   ]
  },
  {
   "cell_type": "code",
   "execution_count": 41,
   "metadata": {
    "execution": {
     "iopub.execute_input": "2023-09-17T13:19:24.809877Z",
     "iopub.status.busy": "2023-09-17T13:19:24.809548Z",
     "iopub.status.idle": "2023-09-17T13:19:24.814238Z",
     "shell.execute_reply": "2023-09-17T13:19:24.813303Z",
     "shell.execute_reply.started": "2023-09-17T13:19:24.809849Z"
    }
   },
   "outputs": [
    {
     "name": "stdout",
     "output_type": "stream",
     "text": [
      "Monto en USD: 1,000\n"
     ]
    }
   ],
   "source": [
    "print(f'Monto en USD: {ccy_converter.convert(800_000, qcf.QCCurrencyEnum.CLP, 800, qcf.QCFxRateEnum.USDCLP):,.0f}')"
   ]
  },
  {
   "cell_type": "code",
   "execution_count": 42,
   "metadata": {
    "execution": {
     "iopub.execute_input": "2023-09-17T13:19:24.823457Z",
     "iopub.status.busy": "2023-09-17T13:19:24.823133Z",
     "iopub.status.idle": "2023-09-17T13:19:24.828099Z",
     "shell.execute_reply": "2023-09-17T13:19:24.827293Z",
     "shell.execute_reply.started": "2023-09-17T13:19:24.823429Z"
    }
   },
   "outputs": [
    {
     "name": "stdout",
     "output_type": "stream",
     "text": [
      "Monto en USD: 800,000\n"
     ]
    }
   ],
   "source": [
    "print(f'Monto en USD: {ccy_converter.convert(1_000, qcf.QCCurrencyEnum.USD, 800, qcf.QCFxRateEnum.USDCLP):,.0f}')"
   ]
  },
  {
   "cell_type": "markdown",
   "metadata": {},
   "source": [
    "## Time Series"
   ]
  },
  {
   "cell_type": "code",
   "execution_count": 43,
   "metadata": {
    "ExecuteTime": {
     "end_time": "2022-01-21T13:43:02.510748Z",
     "start_time": "2022-01-21T13:43:02.496786Z"
    },
    "execution": {
     "iopub.execute_input": "2023-09-17T13:19:24.830218Z",
     "iopub.status.busy": "2023-09-17T13:19:24.829791Z",
     "iopub.status.idle": "2023-09-17T13:19:24.833784Z",
     "shell.execute_reply": "2023-09-17T13:19:24.832974Z",
     "shell.execute_reply.started": "2023-09-17T13:19:24.830190Z"
    }
   },
   "outputs": [],
   "source": [
    "ts = qcf.time_series()\n",
    "ts[fecha1] = 10.0"
   ]
  },
  {
   "cell_type": "code",
   "execution_count": 44,
   "metadata": {
    "execution": {
     "iopub.execute_input": "2023-09-17T13:19:24.838037Z",
     "iopub.status.busy": "2023-09-17T13:19:24.837734Z",
     "iopub.status.idle": "2023-09-17T13:19:24.843077Z",
     "shell.execute_reply": "2023-09-17T13:19:24.842096Z",
     "shell.execute_reply.started": "2023-09-17T13:19:24.838012Z"
    }
   },
   "outputs": [
    {
     "data": {
      "text/plain": [
       "qcfinancial.time_series"
      ]
     },
     "execution_count": 44,
     "metadata": {},
     "output_type": "execute_result"
    }
   ],
   "source": [
    "type(ts)"
   ]
  },
  {
   "cell_type": "code",
   "execution_count": 45,
   "metadata": {
    "execution": {
     "iopub.execute_input": "2023-09-17T13:19:24.851709Z",
     "iopub.status.busy": "2023-09-17T13:19:24.851384Z",
     "iopub.status.idle": "2023-09-17T13:19:24.856388Z",
     "shell.execute_reply": "2023-09-17T13:19:24.855540Z",
     "shell.execute_reply.started": "2023-09-17T13:19:24.851681Z"
    }
   },
   "outputs": [
    {
     "name": "stdout",
     "output_type": "stream",
     "text": [
      "2019-10-17 10.0\n"
     ]
    }
   ],
   "source": [
    "for k, v in ts.items():\n",
    "    print(k, v)"
   ]
  },
  {
   "cell_type": "markdown",
   "metadata": {},
   "source": [
    "## Cashflows"
   ]
  },
  {
   "cell_type": "markdown",
   "metadata": {},
   "source": [
    "### Simple Cashflow\n",
    "Un objeto de tipo `SimpleCashflow` representa un flujo de caja cierto en una fecha y moneda."
   ]
  },
  {
   "cell_type": "code",
   "execution_count": 46,
   "metadata": {
    "ExecuteTime": {
     "end_time": "2022-01-21T13:43:02.463874Z",
     "start_time": "2022-01-21T13:43:02.449912Z"
    },
    "execution": {
     "iopub.execute_input": "2023-09-17T13:19:24.858588Z",
     "iopub.status.busy": "2023-09-17T13:19:24.858298Z",
     "iopub.status.idle": "2023-09-17T13:19:24.862647Z",
     "shell.execute_reply": "2023-09-17T13:19:24.861663Z",
     "shell.execute_reply.started": "2023-09-17T13:19:24.858563Z"
    }
   },
   "outputs": [],
   "source": [
    "# Como se inicializa un objeto SimpleCashflow.\n",
    "simple_cashflow = qcf.SimpleCashflow(\n",
    "    fecha1, 100, clp  # fecha del flujo  # monto\n",
    ")  # moneda"
   ]
  },
  {
   "cell_type": "code",
   "execution_count": 47,
   "metadata": {
    "execution": {
     "iopub.execute_input": "2023-09-17T13:19:24.866362Z",
     "iopub.status.busy": "2023-09-17T13:19:24.866053Z",
     "iopub.status.idle": "2023-09-17T13:19:24.871590Z",
     "shell.execute_reply": "2023-09-17T13:19:24.870739Z",
     "shell.execute_reply.started": "2023-09-17T13:19:24.866337Z"
    }
   },
   "outputs": [
    {
     "data": {
      "text/plain": [
       "<qcfinancial.SimpleCashflow at 0x10e78d4f0>"
      ]
     },
     "execution_count": 47,
     "metadata": {},
     "output_type": "execute_result"
    }
   ],
   "source": [
    "simple_cashflow"
   ]
  },
  {
   "cell_type": "code",
   "execution_count": 48,
   "metadata": {
    "ExecuteTime": {
     "end_time": "2022-01-21T13:43:02.479832Z",
     "start_time": "2022-01-21T13:43:02.464871Z"
    },
    "execution": {
     "iopub.execute_input": "2023-09-17T13:19:24.879864Z",
     "iopub.status.busy": "2023-09-17T13:19:24.879543Z",
     "iopub.status.idle": "2023-09-17T13:19:24.884603Z",
     "shell.execute_reply": "2023-09-17T13:19:24.883703Z",
     "shell.execute_reply.started": "2023-09-17T13:19:24.879836Z"
    }
   },
   "outputs": [
    {
     "name": "stdout",
     "output_type": "stream",
     "text": [
      "100.0\n",
      "CLP\n",
      "2019-10-17\n"
     ]
    }
   ],
   "source": [
    "# Métodos amount, ccy y date\n",
    "print(simple_cashflow.amount())\n",
    "print(simple_cashflow.ccy().get_iso_code())\n",
    "print(simple_cashflow.date())"
   ]
  },
  {
   "cell_type": "markdown",
   "metadata": {},
   "source": [
    " Primer ejemplo de la función `show`. Envuelve de forma cómoda todo el flujo en una tupla. La función show está sobregargada y admite muchos tipos de flujo."
   ]
  },
  {
   "cell_type": "code",
   "execution_count": 49,
   "metadata": {
    "ExecuteTime": {
     "end_time": "2022-01-21T13:43:02.495789Z",
     "start_time": "2022-01-21T13:43:02.480830Z"
    },
    "execution": {
     "iopub.execute_input": "2023-09-17T13:19:24.892938Z",
     "iopub.status.busy": "2023-09-17T13:19:24.892611Z",
     "iopub.status.idle": "2023-09-17T13:19:24.898695Z",
     "shell.execute_reply": "2023-09-17T13:19:24.897542Z",
     "shell.execute_reply.started": "2023-09-17T13:19:24.892910Z"
    }
   },
   "outputs": [
    {
     "data": {
      "text/plain": [
       "('2019-10-17', 100.0, 'CLP')"
      ]
     },
     "execution_count": 49,
     "metadata": {},
     "output_type": "execute_result"
    }
   ],
   "source": [
    "qcf.show(simple_cashflow)"
   ]
  },
  {
   "cell_type": "markdown",
   "metadata": {},
   "source": [
    "### Simple Multicurrency Cashflow\n",
    "Un objeto de tipo `SimpleMultiCurrencyCashflow` representa un flujo de caja cierto en una fecha y moneda, que, sin embargo, se liquidará en una segunda moneda utilizando el valor de un índice de tipo de cambio. Para dar de alta uno de estos objetos se requiere:\n",
    "\n",
    "- `QCDate`: fecha final\n",
    "- `float`: nominal\n",
    "- `QCCurrency`: la moneda del nominal\n",
    "- `QCDate`: la fecha de publicación del `FXRateIndex` que se usará en la conversión\n",
    "- `QCCurrency`: la moneda final del flujo\n",
    "- `FXRateIndex`: el índice de tipo de cambio a utilizar\n",
    "- `float`: el valor del índice de tipo de cambio"
   ]
  },
  {
   "cell_type": "code",
   "execution_count": 50,
   "metadata": {
    "ExecuteTime": {
     "end_time": "2022-01-21T13:43:02.557623Z",
     "start_time": "2022-01-21T13:43:02.542664Z"
    },
    "execution": {
     "iopub.execute_input": "2023-09-17T13:19:24.907535Z",
     "iopub.status.busy": "2023-09-17T13:19:24.907188Z",
     "iopub.status.idle": "2023-09-17T13:19:24.913604Z",
     "shell.execute_reply": "2023-09-17T13:19:24.912643Z",
     "shell.execute_reply.started": "2023-09-17T13:19:24.907506Z"
    }
   },
   "outputs": [
    {
     "name": "stdout",
     "output_type": "stream",
     "text": [
      "fecha flujo: 2019-11-16\n",
      "nominal: 700.0\n",
      "moneda nominal: CLP\n",
      "flujo: 1.0\n",
      "moneda flujo: USD\n"
     ]
    }
   ],
   "source": [
    "# Ejemplo.\n",
    "simple_mccy_cashflow = qcf.SimpleMultiCurrencyCashflow(\n",
    "    fecha3, 700.00, clp, fecha3, usd, usdclp_obs, 700.00\n",
    ")\n",
    "print(\"fecha flujo:\", simple_mccy_cashflow.date())\n",
    "print(\"nominal:\", simple_mccy_cashflow.nominal())\n",
    "print(\"moneda nominal:\", simple_mccy_cashflow.ccy().get_iso_code())\n",
    "print(\"flujo:\", simple_mccy_cashflow.amount())\n",
    "print(\"moneda flujo:\", simple_mccy_cashflow.settlement_ccy().get_iso_code())"
   ]
  },
  {
   "cell_type": "code",
   "execution_count": 51,
   "metadata": {
    "ExecuteTime": {
     "end_time": "2022-01-21T13:43:02.573581Z",
     "start_time": "2022-01-21T13:43:02.558621Z"
    },
    "execution": {
     "iopub.execute_input": "2023-09-17T13:19:24.920950Z",
     "iopub.status.busy": "2023-09-17T13:19:24.920633Z",
     "iopub.status.idle": "2023-09-17T13:19:24.925219Z",
     "shell.execute_reply": "2023-09-17T13:19:24.924504Z",
     "shell.execute_reply.started": "2023-09-17T13:19:24.920922Z"
    }
   },
   "outputs": [
    {
     "name": "stdout",
     "output_type": "stream",
     "text": [
      "flujo: 0.875\n"
     ]
    }
   ],
   "source": [
    "# El valor del índice se puede alterar (existe un setter).\n",
    "simple_mccy_cashflow.set_fx_rate_index_value(800.00)\n",
    "print(\"flujo:\", simple_mccy_cashflow.amount())"
   ]
  },
  {
   "cell_type": "code",
   "execution_count": 52,
   "metadata": {
    "ExecuteTime": {
     "end_time": "2022-01-21T13:43:02.588541Z",
     "start_time": "2022-01-21T13:43:02.574578Z"
    },
    "execution": {
     "iopub.execute_input": "2023-09-17T13:19:24.935018Z",
     "iopub.status.busy": "2023-09-17T13:19:24.934698Z",
     "iopub.status.idle": "2023-09-17T13:19:24.940854Z",
     "shell.execute_reply": "2023-09-17T13:19:24.940067Z",
     "shell.execute_reply.started": "2023-09-17T13:19:24.934989Z"
    }
   },
   "outputs": [
    {
     "name": "stdout",
     "output_type": "stream",
     "text": [
      "fecha flujo: 2019-11-16\n",
      "nominal: 1.0\n",
      "moneda nominal: USD\n",
      "flujo: 700.0\n",
      "moneda flujo: CLP\n"
     ]
    }
   ],
   "source": [
    "# Ejemplo 2. Las monedas están invertidas respecto al caso anterior. El valor del índice se usa de la forma correcta.\n",
    "simple_mccy_cashflow = qcf.SimpleMultiCurrencyCashflow(\n",
    "    fecha3, 1, usd, fecha3, clp, usdclp_obs, 700.00\n",
    ")\n",
    "print(\"fecha flujo:\", simple_mccy_cashflow.date())\n",
    "print(\"nominal:\", simple_mccy_cashflow.nominal())\n",
    "print(\"moneda nominal:\", simple_mccy_cashflow.ccy().get_iso_code())\n",
    "print(\"flujo:\", simple_mccy_cashflow.amount())\n",
    "print(\"moneda flujo:\", simple_mccy_cashflow.settlement_ccy().get_iso_code())"
   ]
  },
  {
   "cell_type": "code",
   "execution_count": 53,
   "metadata": {
    "ExecuteTime": {
     "end_time": "2022-01-21T13:43:02.604498Z",
     "start_time": "2022-01-21T13:43:02.590536Z"
    },
    "execution": {
     "iopub.execute_input": "2023-09-17T13:19:24.948178Z",
     "iopub.status.busy": "2023-09-17T13:19:24.947860Z",
     "iopub.status.idle": "2023-09-17T13:19:24.953645Z",
     "shell.execute_reply": "2023-09-17T13:19:24.952793Z",
     "shell.execute_reply.started": "2023-09-17T13:19:24.948149Z"
    }
   },
   "outputs": [
    {
     "name": "stdout",
     "output_type": "stream",
     "text": [
      "Error: Fx Rate Index provided is not compatible with nominal and settlement currency. \n"
     ]
    }
   ],
   "source": [
    "# Ejemplo 3. Hay inconsistencia entre las monedas y el tipo de cambio del índice.\n",
    "eur = qcf.QCEUR()\n",
    "try:\n",
    "    simple_mccy_cashflow = qcf.SimpleMultiCurrencyCashflow(\n",
    "        fecha3, 1, usd, fecha3, eur, usdclp_obs, 700.00\n",
    "    )\n",
    "except ValueError as e:\n",
    "    print(\"Error:\", e)"
   ]
  },
  {
   "cell_type": "code",
   "execution_count": 54,
   "metadata": {
    "ExecuteTime": {
     "end_time": "2022-01-21T13:43:02.619460Z",
     "start_time": "2022-01-21T13:43:02.605495Z"
    },
    "execution": {
     "iopub.execute_input": "2023-09-17T13:19:24.961280Z",
     "iopub.status.busy": "2023-09-17T13:19:24.960959Z",
     "iopub.status.idle": "2023-09-17T13:19:24.966734Z",
     "shell.execute_reply": "2023-09-17T13:19:24.965803Z",
     "shell.execute_reply.started": "2023-09-17T13:19:24.961252Z"
    }
   },
   "outputs": [
    {
     "data": {
      "text/plain": [
       "('2019-11-16', 1.0, 'USD', '2019-11-16', 'CLP', 'USDOBS', 700.0, 700.0)"
      ]
     },
     "execution_count": 54,
     "metadata": {},
     "output_type": "execute_result"
    }
   ],
   "source": [
    "# Función show\n",
    "qcf.show(simple_mccy_cashflow)"
   ]
  },
  {
   "cell_type": "code",
   "execution_count": 55,
   "metadata": {
    "execution": {
     "iopub.execute_input": "2023-09-17T13:19:24.974207Z",
     "iopub.status.busy": "2023-09-17T13:19:24.973851Z",
     "iopub.status.idle": "2023-09-17T13:19:24.979388Z",
     "shell.execute_reply": "2023-09-17T13:19:24.978622Z",
     "shell.execute_reply.started": "2023-09-17T13:19:24.974179Z"
    }
   },
   "outputs": [
    {
     "data": {
      "text/plain": [
       "'SimpleMultiCurrencyCashflow'"
      ]
     },
     "execution_count": 55,
     "metadata": {},
     "output_type": "execute_result"
    }
   ],
   "source": [
    "simple_mccy_cashflow.get_type()"
   ]
  },
  {
   "cell_type": "markdown",
   "metadata": {},
   "source": [
    "### Fixed Rate Cashflow\n",
    "Un objeto de tipo `FixedRateCashflow` representa un flujo de caja calculado a partir de la aplicación de una tasa prefijada, entre dos fechas prefijadas a un nominal prefijado. Para dar de alta uno de estos objetos se requiere:\n",
    "\n",
    "- `QCDate`: fecha inicio (para la aplicación de la tasa)\n",
    "- `QCDate`: fecha final (para la aplicación de la tasa)\n",
    "- `QCDate`: fecha de pago\n",
    "- `float`: nominal (monto al que se le aplica la tasa)\n",
    "- `float`: amortización (eventual flujo de caja que corresponde a una porción del nominal)\n",
    "- `bool`: indica si la amortización anterior es un flujo de caja o sólo una disminución de nominal\n",
    "- `QCInterestRate`: la tasa de interés a aplicar (su valor y convenciones)\n",
    "- `QCCurrency`: moneda del nominal y del flujo de caja"
   ]
  },
  {
   "cell_type": "code",
   "execution_count": 56,
   "metadata": {
    "ExecuteTime": {
     "end_time": "2022-01-21T13:43:02.635039Z",
     "start_time": "2022-01-21T13:43:02.621077Z"
    },
    "execution": {
     "iopub.execute_input": "2023-09-17T13:19:24.981712Z",
     "iopub.status.busy": "2023-09-17T13:19:24.981193Z",
     "iopub.status.idle": "2023-09-17T13:19:24.986788Z",
     "shell.execute_reply": "2023-09-17T13:19:24.985645Z",
     "shell.execute_reply.started": "2023-09-17T13:19:24.981684Z"
    }
   },
   "outputs": [],
   "source": [
    "# Ejemplo\n",
    "fecha_inicio = qcf.QCDate(20, 9, 2018)\n",
    "fecha_final = qcf.QCDate(20, 9, 2019)\n",
    "fecha_pago = qcf.QCDate(23, 9, 2019)\n",
    "tasa = qcf.QCInterestRate(0.1, act360, lin_wf)\n",
    "fixed_rate_cashflow = qcf.FixedRateCashflow(\n",
    "    fecha_inicio, \n",
    "    fecha_final, \n",
    "    fecha_pago, \n",
    "    1_000_000_000.0, \n",
    "    100_000_000.0, \n",
    "    True, \n",
    "    tasa, \n",
    "    clp\n",
    ")"
   ]
  },
  {
   "cell_type": "code",
   "execution_count": 57,
   "metadata": {
    "ExecuteTime": {
     "end_time": "2022-01-21T13:43:02.650997Z",
     "start_time": "2022-01-21T13:43:02.637034Z"
    },
    "execution": {
     "iopub.execute_input": "2023-09-17T13:19:24.990268Z",
     "iopub.status.busy": "2023-09-17T13:19:24.989969Z",
     "iopub.status.idle": "2023-09-17T13:19:24.995841Z",
     "shell.execute_reply": "2023-09-17T13:19:24.995029Z",
     "shell.execute_reply.started": "2023-09-17T13:19:24.990243Z"
    }
   },
   "outputs": [
    {
     "name": "stdout",
     "output_type": "stream",
     "text": [
      "Fecha Inicio: 2018-09-20\n",
      "Fecha Final: 2019-09-20\n",
      "Fecha Pago: 2019-09-23\n",
      "Moneda: CLP\n",
      "Nominal: 1,000,000,000\n",
      "Amortización: 100,000,000\n"
     ]
    }
   ],
   "source": [
    "# Getters\n",
    "print(\"Fecha Inicio:\", fixed_rate_cashflow.get_start_date())\n",
    "print(\"Fecha Final:\", fixed_rate_cashflow.get_end_date())\n",
    "print(\"Fecha Pago:\", fixed_rate_cashflow.get_settlement_date())\n",
    "print(\"Moneda:\", fixed_rate_cashflow.ccy().get_iso_code())\n",
    "print(f\"Nominal: {fixed_rate_cashflow.get_nominal():,.0f}\")\n",
    "print(f\"Amortización: {fixed_rate_cashflow.get_amortization():,.0f}\")"
   ]
  },
  {
   "cell_type": "code",
   "execution_count": 58,
   "metadata": {
    "ExecuteTime": {
     "end_time": "2022-01-21T13:43:02.666955Z",
     "start_time": "2022-01-21T13:43:02.652992Z"
    },
    "execution": {
     "iopub.execute_input": "2023-09-17T13:19:25.002489Z",
     "iopub.status.busy": "2023-09-17T13:19:25.002167Z",
     "iopub.status.idle": "2023-09-17T13:19:25.007692Z",
     "shell.execute_reply": "2023-09-17T13:19:25.006862Z",
     "shell.execute_reply.started": "2023-09-17T13:19:25.002460Z"
    }
   },
   "outputs": [
    {
     "name": "stdout",
     "output_type": "stream",
     "text": [
      "Nuevo nominal: 2,000,000,000\n",
      "Nueva amortización: 200,000,000\n"
     ]
    }
   ],
   "source": [
    "# Setters\n",
    "# TODO: set_rate\n",
    "nuevo_nominal = 2_000_000_000.0\n",
    "fixed_rate_cashflow.set_nominal(nuevo_nominal)\n",
    "print(f\"Nuevo nominal: {fixed_rate_cashflow.get_nominal():,.0f}\")\n",
    "\n",
    "nueva_amortizacion = 200_000_000.0\n",
    "fixed_rate_cashflow.set_amortization(nueva_amortizacion)\n",
    "print(f\"Nueva amortización: {fixed_rate_cashflow.get_amortization():,.0f}\")"
   ]
  },
  {
   "cell_type": "code",
   "execution_count": 59,
   "metadata": {
    "ExecuteTime": {
     "end_time": "2022-01-21T13:43:02.681915Z",
     "start_time": "2022-01-21T13:43:02.667952Z"
    },
    "execution": {
     "iopub.execute_input": "2023-09-17T13:19:25.016066Z",
     "iopub.status.busy": "2023-09-17T13:19:25.015748Z",
     "iopub.status.idle": "2023-09-17T13:19:25.021910Z",
     "shell.execute_reply": "2023-09-17T13:19:25.021118Z",
     "shell.execute_reply.started": "2023-09-17T13:19:25.016038Z"
    }
   },
   "outputs": [
    {
     "name": "stdout",
     "output_type": "stream",
     "text": [
      "Flujo Total: 402,777,778\n",
      "Check: 402,777,778\n",
      "\n",
      "Interés Devengado: 57,777,778\n",
      "Check: 57,777,778\n"
     ]
    }
   ],
   "source": [
    "# Cálculos\n",
    "print(f\"Flujo Total: {fixed_rate_cashflow.amount():,.0f}\")\n",
    "print(f\"Check: {fixed_rate_cashflow.get_nominal() * 0.1 * 365.0 / 360 + fixed_rate_cashflow.get_amortization():,.0f}\")\n",
    "print()\n",
    "fecha_intermedia = qcf.QCDate(2, 1, 2019)\n",
    "print(f\"Interés Devengado: {fixed_rate_cashflow.accrued_interest(fecha_intermedia):,.0f}\")\n",
    "print(f\"Check: {fixed_rate_cashflow.get_nominal() * 0.1 * fecha_inicio.day_diff(fecha_intermedia) / 360.0:,.0f}\")"
   ]
  },
  {
   "cell_type": "code",
   "execution_count": 60,
   "metadata": {
    "ExecuteTime": {
     "end_time": "2022-01-21T13:43:02.696875Z",
     "start_time": "2022-01-21T13:43:02.682912Z"
    },
    "execution": {
     "iopub.execute_input": "2023-09-17T13:19:25.029134Z",
     "iopub.status.busy": "2023-09-17T13:19:25.028743Z",
     "iopub.status.idle": "2023-09-17T13:19:25.033457Z",
     "shell.execute_reply": "2023-09-17T13:19:25.032474Z",
     "shell.execute_reply.started": "2023-09-17T13:19:25.029104Z"
    }
   },
   "outputs": [
    {
     "name": "stdout",
     "output_type": "stream",
     "text": [
      "('2018-09-20', '2019-09-20', '2019-09-23', 2000000000.0, 200000000.0, 202777777.77777794, True, 402777777.7777779, 'CLP', 0.1, 'LinAct360')\n"
     ]
    }
   ],
   "source": [
    "# Función show\n",
    "print(qcf.show(fixed_rate_cashflow))"
   ]
  },
  {
   "cell_type": "code",
   "execution_count": 61,
   "metadata": {
    "ExecuteTime": {
     "end_time": "2022-01-21T13:43:02.712832Z",
     "start_time": "2022-01-21T13:43:02.698869Z"
    },
    "execution": {
     "iopub.execute_input": "2023-09-17T13:19:25.042289Z",
     "iopub.status.busy": "2023-09-17T13:19:25.041970Z",
     "iopub.status.idle": "2023-09-17T13:19:25.046513Z",
     "shell.execute_reply": "2023-09-17T13:19:25.045598Z",
     "shell.execute_reply.started": "2023-09-17T13:19:25.042261Z"
    }
   },
   "outputs": [
    {
     "name": "stdout",
     "output_type": "stream",
     "text": [
      "Interés total: al 202,777,778\n"
     ]
    }
   ],
   "source": [
    "print(f\"Interés total: al {fixed_rate_cashflow.accrued_interest(fixed_rate_cashflow.get_end_date()):,.0f}\")"
   ]
  },
  {
   "cell_type": "code",
   "execution_count": 62,
   "metadata": {
    "execution": {
     "iopub.execute_input": "2023-09-17T13:19:25.055187Z",
     "iopub.status.busy": "2023-09-17T13:19:25.054875Z",
     "iopub.status.idle": "2023-09-17T13:19:25.060599Z",
     "shell.execute_reply": "2023-09-17T13:19:25.059721Z",
     "shell.execute_reply.started": "2023-09-17T13:19:25.055159Z"
    }
   },
   "outputs": [
    {
     "data": {
      "text/plain": [
       "'FixedRateCashflow'"
      ]
     },
     "execution_count": 62,
     "metadata": {},
     "output_type": "execute_result"
    }
   ],
   "source": [
    "fixed_rate_cashflow.get_type()"
   ]
  },
  {
   "cell_type": "markdown",
   "metadata": {},
   "source": [
    "### Fixed Rate Multi Currency Cashflow\n",
    "Un objeto de tipo `FixedRateMultiCurrencyCashflow` representa un flujo de caja a tasa fija (`FixedRateCashflow`) que se liquidará en una moneda distinta de la moneda del nominal utilizando el valor a una cierta fecha de un índice de tipo de cambio prefijado. Para dar de alta uno de estos objetos se requiere:\n",
    "\n",
    "- `QCDate`: fecha inicio (para la aplicación de la tasa)\n",
    "- `QCDate`: fecha final (para la aplicación de la tasa)\n",
    "- `QCDate`: fecha de pago\n",
    "- `float`: nominal (monto al que se le aplica la tasa)\n",
    "- `float`: amortización (eventual flujo de caja que corresponde a una porción del nominal)\n",
    "- `bool`: indica si la amortización anterior es un flujo de caja o sólo una disminución de nominal\n",
    "- `QCInterestRate`: la tasa de interés a aplicar (su valor y convenciones)\n",
    "- `QCCurrency`: moneda del nominal\n",
    "- `QCDate`: fecha de publicación del índice de tipo de cambio\n",
    "- `QCCurrency`: moneda en la que se liquida el flujo\n",
    "- `FXRateIndex`: índice de tipo de cambio a utilizar\n",
    "- `float`: valor del índice de tipo de cambio"
   ]
  },
  {
   "cell_type": "code",
   "execution_count": 63,
   "metadata": {
    "ExecuteTime": {
     "end_time": "2022-01-21T13:43:02.852459Z",
     "start_time": "2022-01-21T13:43:02.838497Z"
    },
    "execution": {
     "iopub.execute_input": "2023-09-17T13:19:25.068187Z",
     "iopub.status.busy": "2023-09-17T13:19:25.067853Z",
     "iopub.status.idle": "2023-09-17T13:19:25.074945Z",
     "shell.execute_reply": "2023-09-17T13:19:25.074096Z",
     "shell.execute_reply.started": "2023-09-17T13:19:25.068157Z"
    }
   },
   "outputs": [
    {
     "name": "stdout",
     "output_type": "stream",
     "text": [
      "<qcfinancial.FixedRateMultiCurrencyCashflow object at 0x10e7dc230>\n"
     ]
    }
   ],
   "source": [
    "# Ejemplo\n",
    "fecha_inicio = qcf.QCDate(20, 9, 2018)\n",
    "fecha_final = qcf.QCDate(20, 9, 2019)\n",
    "fecha_pago = qcf.QCDate(23, 9, 2019)\n",
    "fecha_publicacion = qcf.QCDate(23, 9, 2019)\n",
    "usd = qcf.QCUSD()\n",
    "indice = usdclp_obs\n",
    "valor_indice = 20.0\n",
    "nominal = 1_000.0\n",
    "amort = 1_000.0\n",
    "fixed_rate_mccy_cashflow = qcf.FixedRateMultiCurrencyCashflow(\n",
    "    fecha_inicio,\n",
    "    fecha_final,\n",
    "    fecha_pago,\n",
    "    nominal,\n",
    "    amort,\n",
    "    False,\n",
    "    tasa,\n",
    "    usd,\n",
    "    fecha_publicacion,\n",
    "    clp,\n",
    "    indice,\n",
    "    valor_indice,\n",
    ")\n",
    "print(fixed_rate_mccy_cashflow)"
   ]
  },
  {
   "cell_type": "markdown",
   "metadata": {},
   "source": [
    "**TODO: get_rate.** Este getter no debe ser un getter tradicional, ya que no es necesario que retorne una referencia a todo el objeto ``QCInterestRate``, basta con el valor y la descripción de yf y wf asociado (mejor llamarlo get_rate_info)."
   ]
  },
  {
   "cell_type": "code",
   "execution_count": 64,
   "metadata": {
    "ExecuteTime": {
     "end_time": "2022-01-21T13:43:02.868416Z",
     "start_time": "2022-01-21T13:43:02.853456Z"
    },
    "execution": {
     "iopub.execute_input": "2023-09-17T13:19:25.082299Z",
     "iopub.status.busy": "2023-09-17T13:19:25.081985Z",
     "iopub.status.idle": "2023-09-17T13:19:25.088406Z",
     "shell.execute_reply": "2023-09-17T13:19:25.087479Z",
     "shell.execute_reply.started": "2023-09-17T13:19:25.082270Z"
    }
   },
   "outputs": [
    {
     "name": "stdout",
     "output_type": "stream",
     "text": [
      "Fecha Inicio: 2018-09-20\n",
      "Fecha Final: 2019-09-20\n",
      "Fecha Pago: 2019-09-23\n",
      "Fecha Publicación Índice FX: 2019-09-23\n",
      "Moneda del Nominal: USD\n",
      "Nominal: 1,000\n",
      "Amortización: 1,000\n",
      "Moneda de Liquidación: CLP\n"
     ]
    }
   ],
   "source": [
    "# Getters\n",
    "print(\"Fecha Inicio:\", fixed_rate_mccy_cashflow.get_start_date())\n",
    "print(\"Fecha Final:\", fixed_rate_mccy_cashflow.get_end_date())\n",
    "print(\"Fecha Pago:\", fixed_rate_mccy_cashflow.get_settlement_date())\n",
    "print(\"Fecha Publicación Índice FX:\", fixed_rate_mccy_cashflow.get_fx_publish_date())\n",
    "print(\"Moneda del Nominal:\", fixed_rate_mccy_cashflow.ccy())\n",
    "print(f\"Nominal: {fixed_rate_mccy_cashflow.get_nominal():,.0f}\")\n",
    "print(f\"Amortización: {fixed_rate_mccy_cashflow.get_amortization():,.0f}\")\n",
    "print(\"Moneda de Liquidación:\", fixed_rate_mccy_cashflow.settlement_currency())"
   ]
  },
  {
   "cell_type": "markdown",
   "metadata": {},
   "source": [
    "**TODO: set_rate_value.** Debe establecer el valor de la tasa de interés."
   ]
  },
  {
   "cell_type": "code",
   "execution_count": 65,
   "metadata": {
    "ExecuteTime": {
     "end_time": "2022-01-21T13:43:02.884373Z",
     "start_time": "2022-01-21T13:43:02.870411Z"
    },
    "execution": {
     "iopub.execute_input": "2023-09-17T13:19:25.095176Z",
     "iopub.status.busy": "2023-09-17T13:19:25.094864Z",
     "iopub.status.idle": "2023-09-17T13:19:25.100279Z",
     "shell.execute_reply": "2023-09-17T13:19:25.099511Z",
     "shell.execute_reply.started": "2023-09-17T13:19:25.095147Z"
    }
   },
   "outputs": [
    {
     "name": "stdout",
     "output_type": "stream",
     "text": [
      "Nuevo nominal: 100.0\n",
      "Nueva amortización: 10.0\n"
     ]
    }
   ],
   "source": [
    "# Setters\n",
    "nuevo_nominal = 100.0\n",
    "fixed_rate_mccy_cashflow.set_nominal(nuevo_nominal)\n",
    "print(f\"Nuevo nominal: {fixed_rate_mccy_cashflow.get_nominal():,.1f}\")\n",
    "\n",
    "nueva_amortizacion = 10.0\n",
    "fixed_rate_mccy_cashflow.set_amortization(nueva_amortizacion)\n",
    "print(f\"Nueva amortización: {fixed_rate_mccy_cashflow.get_amortization():,.1f}\")"
   ]
  },
  {
   "cell_type": "code",
   "execution_count": 66,
   "metadata": {
    "ExecuteTime": {
     "end_time": "2022-01-21T13:43:02.900331Z",
     "start_time": "2022-01-21T13:43:02.885371Z"
    },
    "execution": {
     "iopub.execute_input": "2023-09-17T13:19:25.108919Z",
     "iopub.status.busy": "2023-09-17T13:19:25.108567Z",
     "iopub.status.idle": "2023-09-17T13:19:25.114934Z",
     "shell.execute_reply": "2023-09-17T13:19:25.113977Z",
     "shell.execute_reply.started": "2023-09-17T13:19:25.108889Z"
    }
   },
   "outputs": [
    {
     "name": "stdout",
     "output_type": "stream",
     "text": [
      "Flujo Total: 2,027.78\n",
      "Check: 2,027.78\n",
      "\n",
      "Interés Devengado: 28.89\n",
      "Check: 28.89\n"
     ]
    }
   ],
   "source": [
    "# Cálculos\n",
    "fixed_rate_mccy_cashflow.set_nominal(nominal)\n",
    "fixed_rate_mccy_cashflow.set_amortization(amort)\n",
    "print(f\"Flujo Total: {fixed_rate_mccy_cashflow.amount():,.2f}\")\n",
    "print(f\"Check: {(fixed_rate_mccy_cashflow.get_nominal() * 0.1 * 365.0 / 360) * valor_indice:,.2f}\")\n",
    "print()\n",
    "fecha_intermedia = qcf.QCDate(2, 1, 2019)\n",
    "print(f\"Interés Devengado: {fixed_rate_mccy_cashflow.accrued_interest(fecha_intermedia):,.02f}\")\n",
    "print(f\"Check: {fixed_rate_mccy_cashflow.get_nominal() * 0.1 * fecha_inicio.day_diff(fecha_intermedia) / 360.0:,.02f}\")"
   ]
  },
  {
   "cell_type": "code",
   "execution_count": 67,
   "metadata": {
    "ExecuteTime": {
     "end_time": "2022-01-21T13:43:02.915291Z",
     "start_time": "2022-01-21T13:43:02.901329Z"
    },
    "execution": {
     "iopub.execute_input": "2023-09-17T13:19:25.117389Z",
     "iopub.status.busy": "2023-09-17T13:19:25.116847Z",
     "iopub.status.idle": "2023-09-17T13:19:25.120614Z",
     "shell.execute_reply": "2023-09-17T13:19:25.119864Z",
     "shell.execute_reply.started": "2023-09-17T13:19:25.117364Z"
    }
   },
   "outputs": [],
   "source": [
    "ts = qcf.time_series()"
   ]
  },
  {
   "cell_type": "code",
   "execution_count": 68,
   "metadata": {
    "ExecuteTime": {
     "end_time": "2022-01-21T13:43:02.930251Z",
     "start_time": "2022-01-21T13:43:02.916289Z"
    },
    "execution": {
     "iopub.execute_input": "2023-09-17T13:19:25.121881Z",
     "iopub.status.busy": "2023-09-17T13:19:25.121548Z",
     "iopub.status.idle": "2023-09-17T13:19:25.144628Z",
     "shell.execute_reply": "2023-09-17T13:19:25.143681Z",
     "shell.execute_reply.started": "2023-09-17T13:19:25.121857Z"
    }
   },
   "outputs": [],
   "source": [
    "ts[fecha_inicio] = 10"
   ]
  },
  {
   "cell_type": "code",
   "execution_count": 69,
   "metadata": {
    "ExecuteTime": {
     "end_time": "2022-01-21T13:43:02.946209Z",
     "start_time": "2022-01-21T13:43:02.931249Z"
    },
    "execution": {
     "iopub.execute_input": "2023-09-17T13:19:25.146841Z",
     "iopub.status.busy": "2023-09-17T13:19:25.146532Z",
     "iopub.status.idle": "2023-09-17T13:19:25.151785Z",
     "shell.execute_reply": "2023-09-17T13:19:25.150870Z",
     "shell.execute_reply.started": "2023-09-17T13:19:25.146811Z"
    }
   },
   "outputs": [
    {
     "data": {
      "text/plain": [
       "10.0"
      ]
     },
     "execution_count": 69,
     "metadata": {},
     "output_type": "execute_result"
    }
   ],
   "source": [
    "ts[fecha_inicio]"
   ]
  },
  {
   "cell_type": "code",
   "execution_count": 70,
   "metadata": {
    "ExecuteTime": {
     "end_time": "2022-01-21T13:43:02.962166Z",
     "start_time": "2022-01-21T13:43:02.948204Z"
    },
    "execution": {
     "iopub.execute_input": "2023-09-17T13:19:25.153198Z",
     "iopub.status.busy": "2023-09-17T13:19:25.152813Z",
     "iopub.status.idle": "2023-09-17T13:19:25.156625Z",
     "shell.execute_reply": "2023-09-17T13:19:25.155816Z",
     "shell.execute_reply.started": "2023-09-17T13:19:25.153173Z"
    }
   },
   "outputs": [],
   "source": [
    "ts[fecha_intermedia] = 15"
   ]
  },
  {
   "cell_type": "code",
   "execution_count": 71,
   "metadata": {
    "ExecuteTime": {
     "end_time": "2022-01-21T13:43:02.978123Z",
     "start_time": "2022-01-21T13:43:02.964161Z"
    },
    "execution": {
     "iopub.execute_input": "2023-09-17T13:19:25.158064Z",
     "iopub.status.busy": "2023-09-17T13:19:25.157614Z",
     "iopub.status.idle": "2023-09-17T13:19:25.161976Z",
     "shell.execute_reply": "2023-09-17T13:19:25.161106Z",
     "shell.execute_reply.started": "2023-09-17T13:19:25.158040Z"
    }
   },
   "outputs": [
    {
     "name": "stdout",
     "output_type": "stream",
     "text": [
      "288.88888888888965\n"
     ]
    }
   ],
   "source": [
    "print(fixed_rate_mccy_cashflow.accrued_interest(fecha_intermedia, fecha_inicio, ts))"
   ]
  },
  {
   "cell_type": "code",
   "execution_count": 72,
   "metadata": {
    "ExecuteTime": {
     "end_time": "2022-01-21T13:43:02.993083Z",
     "start_time": "2022-01-21T13:43:02.979121Z"
    },
    "execution": {
     "iopub.execute_input": "2023-09-17T13:19:25.164816Z",
     "iopub.status.busy": "2023-09-17T13:19:25.164517Z",
     "iopub.status.idle": "2023-09-17T13:19:25.168956Z",
     "shell.execute_reply": "2023-09-17T13:19:25.168269Z",
     "shell.execute_reply.started": "2023-09-17T13:19:25.164791Z"
    }
   },
   "outputs": [
    {
     "name": "stdout",
     "output_type": "stream",
     "text": [
      "433.33333333333445\n"
     ]
    }
   ],
   "source": [
    "print(fixed_rate_mccy_cashflow.accrued_interest(fecha_intermedia, fecha_intermedia, ts))"
   ]
  },
  {
   "cell_type": "code",
   "execution_count": 73,
   "metadata": {
    "ExecuteTime": {
     "end_time": "2022-01-21T13:43:03.039958Z",
     "start_time": "2022-01-21T13:43:03.025996Z"
    },
    "execution": {
     "iopub.execute_input": "2023-09-17T13:19:25.170568Z",
     "iopub.status.busy": "2023-09-17T13:19:25.170253Z",
     "iopub.status.idle": "2023-09-17T13:19:25.174471Z",
     "shell.execute_reply": "2023-09-17T13:19:25.173784Z",
     "shell.execute_reply.started": "2023-09-17T13:19:25.170544Z"
    }
   },
   "outputs": [
    {
     "name": "stdout",
     "output_type": "stream",
     "text": [
      "('2018-09-20', '2019-09-20', '2019-09-23', 1000.0, 1000.0, 101.38888888888897, False, 2027.7777777777794, 'USD', 0.1, 'LinAct360', '2019-09-23', 'CLP', 'USDOBS', 20.0, 20000.0, 2027.7777777777794)\n"
     ]
    }
   ],
   "source": [
    "# Función show\n",
    "print(qcf.show(fixed_rate_mccy_cashflow))"
   ]
  },
  {
   "cell_type": "code",
   "execution_count": 74,
   "metadata": {
    "execution": {
     "iopub.execute_input": "2023-09-17T13:19:25.178189Z",
     "iopub.status.busy": "2023-09-17T13:19:25.177895Z",
     "iopub.status.idle": "2023-09-17T13:19:25.183081Z",
     "shell.execute_reply": "2023-09-17T13:19:25.182183Z",
     "shell.execute_reply.started": "2023-09-17T13:19:25.178164Z"
    }
   },
   "outputs": [
    {
     "data": {
      "text/plain": [
       "'FixedRateMultiCurrencyCashflow'"
      ]
     },
     "execution_count": 74,
     "metadata": {},
     "output_type": "execute_result"
    }
   ],
   "source": [
    "fixed_rate_mccy_cashflow.get_type()"
   ]
  },
  {
   "cell_type": "markdown",
   "metadata": {},
   "source": [
    "### Fixed Rate Cashflow 2\n",
    "Un objeto de tipo `FixedRateCashflow2` representa un flujo de caja calculado a partir de la aplicación de una tasa prefijada, entre dos fechas prefijadas a un nominal prefijado. Este tipo de cashflow puede ser *quantizado*, es decir, se puede cambiar su moneda de pago componiéndolo con un objeto adicional. Para dar de alta uno de estos objetos se requiere:\n",
    "\n",
    "- `QCDate`: fecha inicio (para la aplicación de la tasa)\n",
    "- `QCDate`: fecha final (para la aplicación de la tasa)\n",
    "- `QCDate`: fecha de pago\n",
    "- `float`: nominal (monto al que se le aplica la tasa)\n",
    "- `float`: amortización (eventual flujo de caja que corresponde a una porción del nominal)\n",
    "- `bool`: indica si la amortización anterior es un flujo de caja o sólo una disminución de nominal\n",
    "- `QCInterestRate`: la tasa de interés a aplicar (su valor y convenciones)\n",
    "- `QCCurrency`: moneda del nominal y del flujo de caja"
   ]
  },
  {
   "cell_type": "code",
   "execution_count": 75,
   "metadata": {
    "ExecuteTime": {
     "end_time": "2022-01-21T13:43:02.728789Z",
     "start_time": "2022-01-21T13:43:02.713829Z"
    },
    "execution": {
     "iopub.execute_input": "2023-09-17T13:19:25.185262Z",
     "iopub.status.busy": "2023-09-17T13:19:25.184987Z",
     "iopub.status.idle": "2023-09-17T13:19:25.190121Z",
     "shell.execute_reply": "2023-09-17T13:19:25.189228Z",
     "shell.execute_reply.started": "2023-09-17T13:19:25.185239Z"
    }
   },
   "outputs": [],
   "source": [
    "# Ejemplo\n",
    "fecha_inicio = qcf.QCDate(20, 9, 2018)\n",
    "fecha_final = qcf.QCDate(20, 9, 2019)\n",
    "fecha_pago = qcf.QCDate(23, 9, 2019)\n",
    "tasa = qcf.QCInterestRate(0.15, act360, lin_wf)\n",
    "fixed_rate_cashflow_2 = qcf.FixedRateCashflow2(\n",
    "    fecha_inicio, \n",
    "    fecha_final, \n",
    "    fecha_pago, \n",
    "    1_000_000_000.0,\n",
    "    100_000_000.0, \n",
    "    True, \n",
    "    tasa, \n",
    "    clp\n",
    ")"
   ]
  },
  {
   "cell_type": "code",
   "execution_count": 76,
   "metadata": {
    "ExecuteTime": {
     "end_time": "2022-01-21T13:43:02.744747Z",
     "start_time": "2022-01-21T13:43:02.730784Z"
    },
    "execution": {
     "iopub.execute_input": "2023-09-17T13:19:25.192441Z",
     "iopub.status.busy": "2023-09-17T13:19:25.191920Z",
     "iopub.status.idle": "2023-09-17T13:19:25.196257Z",
     "shell.execute_reply": "2023-09-17T13:19:25.195488Z",
     "shell.execute_reply.started": "2023-09-17T13:19:25.192413Z"
    }
   },
   "outputs": [
    {
     "name": "stdout",
     "output_type": "stream",
     "text": [
      "Accrued Fixing: 15.00%\n"
     ]
    }
   ],
   "source": [
    "print(f\"Accrued Fixing: {fixed_rate_cashflow_2.accrued_fixing(fecha_inicio):.2%}\")"
   ]
  },
  {
   "cell_type": "code",
   "execution_count": 77,
   "metadata": {
    "ExecuteTime": {
     "end_time": "2022-01-21T13:43:02.760704Z",
     "start_time": "2022-01-21T13:43:02.745744Z"
    },
    "execution": {
     "iopub.execute_input": "2023-09-17T13:19:25.205047Z",
     "iopub.status.busy": "2023-09-17T13:19:25.204722Z",
     "iopub.status.idle": "2023-09-17T13:19:25.213771Z",
     "shell.execute_reply": "2023-09-17T13:19:25.212973Z",
     "shell.execute_reply.started": "2023-09-17T13:19:25.205022Z"
    }
   },
   "outputs": [
    {
     "name": "stdout",
     "output_type": "stream",
     "text": [
      "amount: 252,083,333\n",
      "currency: CLP\n",
      "date: 2019-09-23\n",
      "start date: 2018-09-20\n",
      "end date: 2019-09-20\n",
      "settlement date: 2019-09-23\n",
      "fixing dates:\n",
      "\t 2018-09-20\n",
      "nominal: 1,000,000,000\n",
      "amortization: 100,000,000\n",
      "interest (1st overload): 152,083,333\n",
      "interest (2nd overload): 152,083,333\n",
      "fixing (1st overload): 15.00%\n",
      "fixing (2nd overload): 15.00%\n",
      "accrued interest (1st overload): 75,416,667\n",
      "accrued interest (2nd overload): 75,416,667\n",
      "accrued fixing (1st overload): 15.00%\n",
      "accrued fixing (2nd overload): 15.00%\n"
     ]
    }
   ],
   "source": [
    "print(f\"amount: {fixed_rate_cashflow_2.amount():,.0f}\")\n",
    "print(\"currency:\", fixed_rate_cashflow_2.ccy().get_iso_code())\n",
    "print(\"date:\", fixed_rate_cashflow_2.date())\n",
    "print(\"start date:\", fixed_rate_cashflow_2.get_start_date())\n",
    "print(\"end date:\", fixed_rate_cashflow_2.get_end_date())\n",
    "print(\"settlement date:\", fixed_rate_cashflow_2.get_settlement_date())\n",
    "print(\"fixing dates:\")\n",
    "for f in fixed_rate_cashflow_2.get_fixing_dates():\n",
    "    print(\"\\t\", f)\n",
    "print(f\"nominal: {fixed_rate_cashflow_2.get_nominal():,.0f}\")\n",
    "print(f\"amortization: {fixed_rate_cashflow_2.get_amortization():,.0f}\")\n",
    "print(f\"interest (1st overload): {fixed_rate_cashflow_2.interest():,.0f}\")\n",
    "\n",
    "ts = qcf.time_series()\n",
    "print(f\"interest (2nd overload): {fixed_rate_cashflow_2.interest(ts):,.0f}\")\n",
    "print(f\"fixing (1st overload): {fixed_rate_cashflow_2.fixing():.2%}\")\n",
    "print(f\"fixing (2nd overload): {fixed_rate_cashflow_2.fixing(ts):.2%}\")\n",
    "fecha_intermedia = qcf.QCDate(20, 3, 2019)\n",
    "print(f\"accrued interest (1st overload): {fixed_rate_cashflow_2.accrued_interest(fecha_intermedia):,.0f}\")\n",
    "print(f\"accrued interest (2nd overload): {fixed_rate_cashflow_2.accrued_interest(fecha_intermedia, ts):,.0f}\")\n",
    "print(f\"accrued fixing (1st overload): {fixed_rate_cashflow_2.accrued_fixing(fecha_intermedia):.2%}\")\n",
    "print(f\"accrued fixing (2nd overload): {fixed_rate_cashflow_2.accrued_fixing(fecha_intermedia, ts):,.2%}\")"
   ]
  },
  {
   "cell_type": "code",
   "execution_count": 78,
   "metadata": {
    "execution": {
     "iopub.execute_input": "2023-09-17T13:19:25.217698Z",
     "iopub.status.busy": "2023-09-17T13:19:25.217394Z",
     "iopub.status.idle": "2023-09-17T13:19:25.223171Z",
     "shell.execute_reply": "2023-09-17T13:19:25.222387Z",
     "shell.execute_reply.started": "2023-09-17T13:19:25.217671Z"
    }
   },
   "outputs": [
    {
     "data": {
      "text/plain": [
       "'FixedRateCashflow2'"
      ]
     },
     "execution_count": 78,
     "metadata": {},
     "output_type": "execute_result"
    }
   ],
   "source": [
    "fixed_rate_cashflow_2.get_type()"
   ]
  },
  {
   "cell_type": "code",
   "execution_count": 79,
   "metadata": {
    "execution": {
     "iopub.execute_input": "2023-09-17T13:19:25.231646Z",
     "iopub.status.busy": "2023-09-17T13:19:25.231336Z",
     "iopub.status.idle": "2023-09-17T13:19:25.237520Z",
     "shell.execute_reply": "2023-09-17T13:19:25.236509Z",
     "shell.execute_reply.started": "2023-09-17T13:19:25.231618Z"
    }
   },
   "outputs": [
    {
     "data": {
      "text/plain": [
       "('2018-09-20',\n",
       " '2019-09-20',\n",
       " '2019-09-23',\n",
       " 1000000000.0,\n",
       " 100000000.0,\n",
       " 152083333.33333334,\n",
       " True,\n",
       " 252083333.33333334,\n",
       " 'CLP',\n",
       " 0.15,\n",
       " 'LinAct360')"
      ]
     },
     "execution_count": 79,
     "metadata": {},
     "output_type": "execute_result"
    }
   ],
   "source": [
    "qcf.show(fixed_rate_cashflow_2)"
   ]
  },
  {
   "cell_type": "markdown",
   "metadata": {},
   "source": [
    "### Ibor Cashflow\n",
    "Un objeto de tipo `IborCashflow` representa un flujo de caja calculado a partir de la aplicación de una tasa flotante fijada en una cierta fecha (Libor, Euribor, TAB, ...) , entre dos fechas prefijadas a un nominal prefijado. Para dar de alta uno de estos objetos se requiere:\n",
    "\n",
    "- `InterestRateIndex`: el índice de tasa de interés prefijado\n",
    "- `QCDate`: fecha inicio (para la aplicación de la tasa)\n",
    "- `QCDate`: fecha final (para la aplicación de la tasa)\n",
    "- `QCDate`: fecha de fijación del índice de tasa de interés \n",
    "- `QCDate`: fecha de pago\n",
    "- `float`: nominal (monto al que se le aplica la tasa)\n",
    "- `float`: amortización (eventual flujo de caja que corresponde a una porción del nominal)\n",
    "- `bool`: indica si la amortización anterior es un flujo de caja o sólo una disminución de nominal\n",
    "- `QCCurrency`: moneda del nominal y del flujo de caja\n",
    "- `float`: spread aditivo a aplicar a la fijación del índice\n",
    "- `float`: spread multiplicativo o gearing a aplicar a la fijación del índice\n",
    "\n",
    "Para dar de alta un `InterestRateIndex` se requiere:\n",
    "\n",
    "- `str`: código del índice\n",
    "- `QCInterestRate`: un objeto tasa de interés que contenga las convenciones del índice\n",
    "- `Tenor`: el lag de inicio del índice respecto a la fecha de fixing (por ejemplo 2d para Libor USD)\n",
    "- `Tenor`: el tenor del índice (3M por ejemplo para Libor USD 3M)\n",
    "- `QCBusinessCalendar`: el calendario de fixing\n",
    "- `QCBusinessCalendar`: el calendario de pago\n",
    "- `QCCurrency`: la moneda a la que corresponde el índice (por ejemplo EUR para EURIBOR 3M)\n"
   ]
  },
  {
   "cell_type": "markdown",
   "metadata": {},
   "source": [
    "**TODO: agregar end_date_adjustment al objeto (FOLLOW o MOD FOLLOW).** Esto debiera tener un correspondiente cambio en la BBDD de Front Desk."
   ]
  },
  {
   "cell_type": "code",
   "execution_count": 80,
   "metadata": {
    "ExecuteTime": {
     "end_time": "2022-01-21T13:43:03.054918Z",
     "start_time": "2022-01-21T13:43:03.040956Z"
    },
    "execution": {
     "iopub.execute_input": "2023-09-17T13:19:25.245667Z",
     "iopub.status.busy": "2023-09-17T13:19:25.245187Z",
     "iopub.status.idle": "2023-09-17T13:19:25.252876Z",
     "shell.execute_reply": "2023-09-17T13:19:25.252114Z",
     "shell.execute_reply.started": "2023-09-17T13:19:25.245639Z"
    }
   },
   "outputs": [
    {
     "name": "stdout",
     "output_type": "stream",
     "text": [
      "Tenor: 3M\n",
      "Tasa: 0.000000 Act360 Lin\n",
      "\n",
      "Fixing Tasa: 0.010000 Act360 Lin\n",
      "Fecha Inicio: 2018-09-24\n",
      "Fecha Final: 2018-12-24\n"
     ]
    }
   ],
   "source": [
    "# Se define el índice\n",
    "codigo = \"LIBORUSD3M\"\n",
    "lin_act360 = qcf.QCInterestRate(0.0, act360, lin_wf)\n",
    "fixing_lag = qcf.Tenor(\"2d\")\n",
    "tenor = qcf.Tenor(\"3m\")\n",
    "fixing_calendar = scl  # No es el calendario correcto, pero sirve para el ejemplo\n",
    "settlement_calendar = scl  # Ídem arriba\n",
    "libor_usd_3m = qcf.InterestRateIndex(\n",
    "    codigo, \n",
    "    lin_act360, \n",
    "    fixing_lag, \n",
    "    tenor, \n",
    "    fixing_calendar, \n",
    "    settlement_calendar, \n",
    "    usd\n",
    ")\n",
    "\n",
    "# Getters\n",
    "print(\"Tenor:\", libor_usd_3m.get_tenor())\n",
    "print(\"Tasa:\", libor_usd_3m.get_rate())\n",
    "print()\n",
    "\n",
    "# Para construir un fixing en particular\n",
    "libor_usd_3m.set_rate_value(0.01)\n",
    "print(\"Fixing Tasa:\", libor_usd_3m.get_rate())\n",
    "fecha_fixing = qcf.QCDate(20, 9, 2018)\n",
    "print(\"Fecha Inicio:\", libor_usd_3m.get_start_date(fecha_fixing))\n",
    "print(\"Fecha Final:\", libor_usd_3m.get_end_date(fecha_fixing))"
   ]
  },
  {
   "cell_type": "code",
   "execution_count": 81,
   "metadata": {
    "ExecuteTime": {
     "end_time": "2022-01-21T13:43:03.070875Z",
     "start_time": "2022-01-21T13:43:03.056913Z"
    },
    "execution": {
     "iopub.execute_input": "2023-09-17T13:19:25.258301Z",
     "iopub.status.busy": "2023-09-17T13:19:25.257987Z",
     "iopub.status.idle": "2023-09-17T13:19:25.263510Z",
     "shell.execute_reply": "2023-09-17T13:19:25.262414Z",
     "shell.execute_reply.started": "2023-09-17T13:19:25.258272Z"
    }
   },
   "outputs": [
    {
     "data": {
      "text/plain": [
       "'LIBORUSD3M'"
      ]
     },
     "execution_count": 81,
     "metadata": {},
     "output_type": "execute_result"
    }
   ],
   "source": [
    "libor_usd_3m.get_code()"
   ]
  },
  {
   "cell_type": "code",
   "execution_count": 82,
   "metadata": {
    "ExecuteTime": {
     "end_time": "2022-01-21T13:43:03.085835Z",
     "start_time": "2022-01-21T13:43:03.071873Z"
    },
    "execution": {
     "iopub.execute_input": "2023-09-17T13:19:25.265375Z",
     "iopub.status.busy": "2023-09-17T13:19:25.265069Z",
     "iopub.status.idle": "2023-09-17T13:19:25.269019Z",
     "shell.execute_reply": "2023-09-17T13:19:25.268254Z",
     "shell.execute_reply.started": "2023-09-17T13:19:25.265347Z"
    }
   },
   "outputs": [],
   "source": [
    "libor_usd_3m.set_rate_value(0.1)"
   ]
  },
  {
   "cell_type": "code",
   "execution_count": 83,
   "metadata": {
    "ExecuteTime": {
     "end_time": "2022-01-21T13:43:03.101793Z",
     "start_time": "2022-01-21T13:43:03.087831Z"
    },
    "execution": {
     "iopub.execute_input": "2023-09-17T13:19:25.272317Z",
     "iopub.status.busy": "2023-09-17T13:19:25.272024Z",
     "iopub.status.idle": "2023-09-17T13:19:25.276075Z",
     "shell.execute_reply": "2023-09-17T13:19:25.275391Z",
     "shell.execute_reply.started": "2023-09-17T13:19:25.272292Z"
    }
   },
   "outputs": [
    {
     "name": "stdout",
     "output_type": "stream",
     "text": [
      "0.100000 Act360 Lin\n"
     ]
    }
   ],
   "source": [
    "print(libor_usd_3m.get_rate())"
   ]
  },
  {
   "cell_type": "code",
   "execution_count": 84,
   "metadata": {
    "ExecuteTime": {
     "end_time": "2022-01-21T13:43:03.117750Z",
     "start_time": "2022-01-21T13:43:03.102790Z"
    },
    "execution": {
     "iopub.execute_input": "2023-09-17T13:19:25.284775Z",
     "iopub.status.busy": "2023-09-17T13:19:25.284378Z",
     "iopub.status.idle": "2023-09-17T13:19:25.290158Z",
     "shell.execute_reply": "2023-09-17T13:19:25.289282Z",
     "shell.execute_reply.started": "2023-09-17T13:19:25.284745Z"
    }
   },
   "outputs": [
    {
     "data": {
      "text/plain": [
       "<qcfinancial.QCInterestRate at 0x10e7dd870>"
      ]
     },
     "execution_count": 84,
     "metadata": {},
     "output_type": "execute_result"
    }
   ],
   "source": [
    "libor_usd_3m.get_rate()"
   ]
  },
  {
   "cell_type": "markdown",
   "metadata": {},
   "source": [
    "Con esto, veamos un ejemplo de construcción y uso de un `IborCashflow`."
   ]
  },
  {
   "cell_type": "markdown",
   "metadata": {},
   "source": [
    "**TODO:** Se debe crear un mecanismo de WARNING para las eventuales inconsistencias entre las fechas de inicio y fin del ``InterestRateIndex`` y las fechas de inicio y fin del ``IborCashflow``."
   ]
  },
  {
   "cell_type": "code",
   "execution_count": 85,
   "metadata": {
    "ExecuteTime": {
     "end_time": "2022-01-21T13:43:03.132710Z",
     "start_time": "2022-01-21T13:43:03.118748Z"
    },
    "execution": {
     "iopub.execute_input": "2023-09-17T13:19:25.292152Z",
     "iopub.status.busy": "2023-09-17T13:19:25.291757Z",
     "iopub.status.idle": "2023-09-17T13:19:25.298198Z",
     "shell.execute_reply": "2023-09-17T13:19:25.297216Z",
     "shell.execute_reply.started": "2023-09-17T13:19:25.292121Z"
    }
   },
   "outputs": [],
   "source": [
    "# Ejemplo\n",
    "fecha_inicio = qcf.QCDate(20, 9, 2018)\n",
    "fecha_final = qcf.QCDate(20, 9, 2019)\n",
    "fecha_pago = qcf.QCDate(23, 9, 2019)\n",
    "fecha_fixing = qcf.QCDate(20, 9, 2018)\n",
    "nominal = 1_000_000.0\n",
    "amort = 100_000.0\n",
    "spread = 0.0\n",
    "gearing = 1.0\n",
    "ibor_cashflow = qcf.IborCashflow(\n",
    "    libor_usd_3m,\n",
    "    fecha_inicio,\n",
    "    fecha_final,\n",
    "    fecha_fixing,\n",
    "    fecha_pago,\n",
    "    nominal,\n",
    "    amort,\n",
    "    True,\n",
    "    usd,\n",
    "    spread,\n",
    "    gearing,\n",
    ")"
   ]
  },
  {
   "cell_type": "code",
   "execution_count": 86,
   "metadata": {
    "ExecuteTime": {
     "end_time": "2022-01-21T13:43:03.148668Z",
     "start_time": "2022-01-21T13:43:03.133708Z"
    },
    "execution": {
     "iopub.execute_input": "2023-09-17T13:19:25.300287Z",
     "iopub.status.busy": "2023-09-17T13:19:25.299942Z",
     "iopub.status.idle": "2023-09-17T13:19:25.306149Z",
     "shell.execute_reply": "2023-09-17T13:19:25.305269Z",
     "shell.execute_reply.started": "2023-09-17T13:19:25.300258Z"
    }
   },
   "outputs": [
    {
     "name": "stdout",
     "output_type": "stream",
     "text": [
      "Fecha Fixing:\t 2018-09-20\n",
      "Fecha Inicio:\t 2018-09-20\n",
      "Fecha Final:\t 2019-09-20\n",
      "Fecha Pago:\t 2019-09-23\n",
      "Nominal:\t1,000,000\n",
      "Amortización:\t100,000\n",
      "Moneda:\t\t USD\n",
      "Valor Tasa:\t10.00%\n"
     ]
    }
   ],
   "source": [
    "# Getters\n",
    "print(\"Fecha Fixing:\\t\", ibor_cashflow.get_fixing_date())\n",
    "print(\"Fecha Inicio:\\t\", ibor_cashflow.get_start_date())\n",
    "print(\"Fecha Final:\\t\", ibor_cashflow.get_end_date())\n",
    "print(\"Fecha Pago:\\t\", ibor_cashflow.get_settlement_date())\n",
    "print(f\"Nominal:\\t{ibor_cashflow.get_nominal():,.0f}\")\n",
    "print(f\"Amortización:\\t{ibor_cashflow.get_amortization():,.0f}\")\n",
    "print(\"Moneda:\\t\\t\", ibor_cashflow.ccy())\n",
    "print(f\"Valor Tasa:\\t{ibor_cashflow.get_interest_rate_value():.2%}\")"
   ]
  },
  {
   "cell_type": "code",
   "execution_count": 87,
   "metadata": {
    "ExecuteTime": {
     "end_time": "2022-01-21T13:43:03.163627Z",
     "start_time": "2022-01-21T13:43:03.149665Z"
    },
    "execution": {
     "iopub.execute_input": "2023-09-17T13:19:25.312375Z",
     "iopub.status.busy": "2023-09-17T13:19:25.312065Z",
     "iopub.status.idle": "2023-09-17T13:19:25.318081Z",
     "shell.execute_reply": "2023-09-17T13:19:25.317035Z",
     "shell.execute_reply.started": "2023-09-17T13:19:25.312349Z"
    }
   },
   "outputs": [
    {
     "name": "stdout",
     "output_type": "stream",
     "text": [
      "Nominal:\t2,000,000\n",
      "Amortización:\t200,000\n",
      "Valor Tasa: 2.00%\n"
     ]
    }
   ],
   "source": [
    "# Setters\n",
    "nuevo_nominal = 2_000_000.0\n",
    "ibor_cashflow.set_nominal(nuevo_nominal)\n",
    "print(f\"Nominal:\\t{ibor_cashflow.get_nominal():,.0f}\")\n",
    "\n",
    "nueva_amortizacion = 200_000.0\n",
    "ibor_cashflow.set_amortization(nueva_amortizacion)\n",
    "print(f\"Amortización:\\t{ibor_cashflow.get_amortization():,.0f}\")\n",
    "\n",
    "nuevo_valor_tasa = 0.02\n",
    "ibor_cashflow.set_interest_rate_value(nuevo_valor_tasa)\n",
    "print(f\"Valor Tasa: {ibor_cashflow.get_interest_rate_value():.2%}\")"
   ]
  },
  {
   "cell_type": "code",
   "execution_count": 88,
   "metadata": {
    "ExecuteTime": {
     "end_time": "2022-01-21T13:43:03.179585Z",
     "start_time": "2022-01-21T13:43:03.164625Z"
    },
    "execution": {
     "iopub.execute_input": "2023-09-17T13:19:25.325084Z",
     "iopub.status.busy": "2023-09-17T13:19:25.324772Z",
     "iopub.status.idle": "2023-09-17T13:19:25.330700Z",
     "shell.execute_reply": "2023-09-17T13:19:25.329865Z",
     "shell.execute_reply.started": "2023-09-17T13:19:25.325054Z"
    }
   },
   "outputs": [
    {
     "name": "stdout",
     "output_type": "stream",
     "text": [
      "Flujo: 240,556\n",
      "Interés Devengado al 2019-07-20: 33,667\n",
      "Check: 33,667\n"
     ]
    }
   ],
   "source": [
    "# Cálculos\n",
    "print(f\"Flujo: {ibor_cashflow.amount():,.0f}\")\n",
    "\n",
    "fecha_devengo = qcf.QCDate(20, 7, 2019)\n",
    "print(f\"Interés Devengado al {fecha_devengo}: {ibor_cashflow.accrued_interest(fecha_devengo):,.0f}\")\n",
    "tasa = ibor_cashflow.get_interest_rate_value()\n",
    "\n",
    "check = tasa * fecha_inicio.day_diff(fecha_devengo) / 360.0 * ibor_cashflow.get_nominal()\n",
    "print(f\"Check: {check:,.0f}\")"
   ]
  },
  {
   "cell_type": "code",
   "execution_count": 89,
   "metadata": {
    "ExecuteTime": {
     "end_time": "2022-01-21T13:43:03.195543Z",
     "start_time": "2022-01-21T13:43:03.186566Z"
    },
    "execution": {
     "iopub.execute_input": "2023-09-17T13:19:25.337897Z",
     "iopub.status.busy": "2023-09-17T13:19:25.337564Z",
     "iopub.status.idle": "2023-09-17T13:19:25.342057Z",
     "shell.execute_reply": "2023-09-17T13:19:25.341232Z",
     "shell.execute_reply.started": "2023-09-17T13:19:25.337867Z"
    }
   },
   "outputs": [
    {
     "name": "stdout",
     "output_type": "stream",
     "text": [
      "('2018-09-20', '2019-09-20', '2018-09-20', '2019-09-23', 2000000.0, 200000.0, 40555.55555555568, True, 240555.55555555568, 'USD', 'LIBORUSD3M', 0.02, 0.0, 1.0, 'LinAct360')\n"
     ]
    }
   ],
   "source": [
    "# Función show\n",
    "print(qcf.show(ibor_cashflow))"
   ]
  },
  {
   "cell_type": "markdown",
   "metadata": {},
   "source": [
    "### Ibor Cashflow 2\n",
    "Un objeto de tipo `IborCashflow2` representa un flujo de caja calculado a partir de la aplicación de una tasa flotante fijada en una cierta fecha (Libor, Euribor, TAB, ...) , entre dos fechas prefijadas a un nominal prefijado. Para dar de alta uno de estos objetos se requiere:\n",
    "\n",
    "- `InterestRateIndex`: el índice de tasa de interés prefijado\n",
    "- `QCDate`: fecha inicio (para la aplicación de la tasa)\n",
    "- `QCDate`: fecha final (para la aplicación de la tasa)\n",
    "- `QCDate`: fecha de fijación del índice de tasa de interés \n",
    "- `QCDate`: fecha de pago\n",
    "- `float`: nominal (monto al que se le aplica la tasa)\n",
    "- `float`: amortización (eventual flujo de caja que corresponde a una porción del nominal)\n",
    "- `bool`: indica si la amortización anterior es un flujo de caja o sólo una disminución de nominal\n",
    "- `QCCurrency`: moneda del nominal y del flujo de caja\n",
    "- `float`: spread aditivo a aplicar a la fijación del índice\n",
    "- `float`: spread multiplicativo o gearing a aplicar a la fijación del índice\n",
    "\n",
    "A diferencia de un `IborCashflow`, un `IborCashflow2` puede quantizarse."
   ]
  },
  {
   "cell_type": "code",
   "execution_count": 90,
   "metadata": {
    "ExecuteTime": {
     "end_time": "2022-01-21T13:43:03.211499Z",
     "start_time": "2022-01-21T13:43:03.196541Z"
    },
    "execution": {
     "iopub.execute_input": "2023-09-17T13:19:25.344210Z",
     "iopub.status.busy": "2023-09-17T13:19:25.343877Z",
     "iopub.status.idle": "2023-09-17T13:19:25.349607Z",
     "shell.execute_reply": "2023-09-17T13:19:25.348763Z",
     "shell.execute_reply.started": "2023-09-17T13:19:25.344182Z"
    }
   },
   "outputs": [],
   "source": [
    "# Ejemplo\n",
    "fecha_inicio = qcf.QCDate(20, 9, 2018)\n",
    "fecha_final = qcf.QCDate(20, 9, 2019)\n",
    "fecha_pago = qcf.QCDate(23, 9, 2019)\n",
    "fecha_fixing = qcf.QCDate(20, 9, 2018)\n",
    "nominal = 1000000.0\n",
    "amort = 100000.0\n",
    "spread = 0.0\n",
    "gearing = 1.0\n",
    "ibor_cashflow_2 = qcf.IborCashflow2(\n",
    "    libor_usd_3m,\n",
    "    fecha_inicio,\n",
    "    fecha_final,\n",
    "    fecha_fixing,\n",
    "    fecha_pago,\n",
    "    nominal,\n",
    "    amort,\n",
    "    True,\n",
    "    usd,\n",
    "    spread,\n",
    "    gearing,\n",
    ")"
   ]
  },
  {
   "cell_type": "code",
   "execution_count": 91,
   "metadata": {
    "ExecuteTime": {
     "end_time": "2022-01-21T13:43:03.227457Z",
     "start_time": "2022-01-21T13:43:03.212497Z"
    },
    "execution": {
     "iopub.execute_input": "2023-09-17T13:19:25.353069Z",
     "iopub.status.busy": "2023-09-17T13:19:25.352760Z",
     "iopub.status.idle": "2023-09-17T13:19:25.358952Z",
     "shell.execute_reply": "2023-09-17T13:19:25.358218Z",
     "shell.execute_reply.started": "2023-09-17T13:19:25.353040Z"
    }
   },
   "outputs": [
    {
     "name": "stdout",
     "output_type": "stream",
     "text": [
      "Fecha Fixing:\t DateList[20-9-2018]\n",
      "Fecha Inicio:\t 2018-09-20\n",
      "Fecha Final:\t 2019-09-20\n",
      "Fecha Pago:\t 2019-09-23\n",
      "Nominal:\t1,000,000\n",
      "Amortización:\t100,000\n",
      "Moneda:\t\t USD\n",
      "Valor Tasa:\t2.00%\n"
     ]
    }
   ],
   "source": [
    "# Getters\n",
    "print(\"Fecha Fixing:\\t\", ibor_cashflow_2.get_fixing_dates())\n",
    "print(\"Fecha Inicio:\\t\", ibor_cashflow_2.get_start_date())\n",
    "print(\"Fecha Final:\\t\", ibor_cashflow_2.get_end_date())\n",
    "print(\"Fecha Pago:\\t\", ibor_cashflow_2.get_settlement_date())\n",
    "print(f\"Nominal:\\t{ibor_cashflow_2.get_nominal():,.0f}\")\n",
    "print(f\"Amortización:\\t{ibor_cashflow_2.get_amortization():,.0f}\")\n",
    "print(\"Moneda:\\t\\t\", ibor_cashflow_2.ccy())\n",
    "print(f\"Valor Tasa:\\t{ibor_cashflow_2.fixing():.2%}\")"
   ]
  },
  {
   "cell_type": "code",
   "execution_count": 92,
   "metadata": {
    "execution": {
     "iopub.execute_input": "2023-09-17T13:19:25.365847Z",
     "iopub.status.busy": "2023-09-17T13:19:25.365528Z",
     "iopub.status.idle": "2023-09-17T13:19:25.370727Z",
     "shell.execute_reply": "2023-09-17T13:19:25.369951Z",
     "shell.execute_reply.started": "2023-09-17T13:19:25.365821Z"
    }
   },
   "outputs": [
    {
     "data": {
      "text/plain": [
       "('2018-09-20',\n",
       " '2019-09-20',\n",
       " '2018-09-20',\n",
       " '2019-09-23',\n",
       " 1000000.0,\n",
       " 100000.0,\n",
       " 20277.77777777784,\n",
       " True,\n",
       " 120277.77777777784,\n",
       " 'USD',\n",
       " 'LIBORUSD3M',\n",
       " 0.02,\n",
       " 0.0,\n",
       " 1.0,\n",
       " 'LinAct360')"
      ]
     },
     "execution_count": 92,
     "metadata": {},
     "output_type": "execute_result"
    }
   ],
   "source": [
    "# Función show\n",
    "qcf.show(ibor_cashflow_2)"
   ]
  },
  {
   "cell_type": "markdown",
   "metadata": {},
   "source": [
    "### Ibor Multi Currency Cashflow\n",
    "Un objeto de tipo `IborMultiCurrencyCashflow` representa un flujo de caja a tasa variable (`IborCashflow`) que se liquidará en una moneda distinta de la moneda del nominal utilizando el valor a una cierta fecha de un índice de tipo de cambio prefijado. Para dar de alta uno de estos objetos se requiere:\n",
    "\n",
    "- `InterestRateIndex`: el índice de tasa de interés prefijado\n",
    "- `QCDate`: fecha inicio (para la aplicación de la tasa)\n",
    "- `QCDate`: fecha final (para la aplicación de la tasa)\n",
    "- `QCDate`: fecha de fijación del índice de tasa de interés \n",
    "- `QCDate`: fecha de pago\n",
    "- `float`: nominal (monto al que se le aplica la tasa)\n",
    "- `float`: amortización (eventual flujo de caja que corresponde a una porción del nominal)\n",
    "- `bool`: indica si la amortización anterior es un flujo de caja o sólo una disminución de nominal\n",
    "- `QCCurrency`: moneda del nominal y del flujo de caja\n",
    "- `float`: spread aditivo a aplicar a la fijación del índice\n",
    "- `float`: spread multiplicativo o gearing a aplicar a la fijación del índice\n",
    "- `QCDate`: fecha de publicación del índice de tipo de cambio\n",
    "- `QCCurrency`: moneda en la que se liquida el flujo\n",
    "- `FXRateIndex`: índice de tipo de cambio a utilizar\n",
    "- `float`: valor del índice de tipo de cambio\n"
   ]
  },
  {
   "cell_type": "code",
   "execution_count": 93,
   "metadata": {
    "ExecuteTime": {
     "end_time": "2022-01-21T13:43:03.242417Z",
     "start_time": "2022-01-21T13:43:03.228455Z"
    },
    "execution": {
     "iopub.execute_input": "2023-09-17T13:19:25.378752Z",
     "iopub.status.busy": "2023-09-17T13:19:25.378413Z",
     "iopub.status.idle": "2023-09-17T13:19:25.385774Z",
     "shell.execute_reply": "2023-09-17T13:19:25.384902Z",
     "shell.execute_reply.started": "2023-09-17T13:19:25.378725Z"
    }
   },
   "outputs": [
    {
     "name": "stdout",
     "output_type": "stream",
     "text": [
      "<qcfinancial.IborMultiCurrencyCashflow object at 0x10e7b7ef0>\n"
     ]
    }
   ],
   "source": [
    "# Ejemplo\n",
    "fecha_inicio = qcf.QCDate(20, 9, 2019)\n",
    "fecha_final = qcf.QCDate(20, 12, 2019)\n",
    "fecha_pago = qcf.QCDate(20, 12, 2019)\n",
    "fecha_fixing = qcf.QCDate(20, 9, 2019)\n",
    "nominal = 100.0\n",
    "amort = 100.0\n",
    "spread = 0.02\n",
    "gearing = 1.0\n",
    "valor_indice = 10.0\n",
    "fecha_publicacion = qcf.QCDate(20, 9, 2019)\n",
    "libor_usd_3m.set_rate_value(0.01)\n",
    "ibor_mccy_cashflow = qcf.IborMultiCurrencyCashflow(\n",
    "    libor_usd_3m,\n",
    "    fecha_inicio,\n",
    "    fecha_final,\n",
    "    fecha_fixing,\n",
    "    fecha_pago,\n",
    "    nominal,\n",
    "    amort,\n",
    "    True,\n",
    "    usd,\n",
    "    spread,\n",
    "    gearing,\n",
    "    fecha_publicacion,\n",
    "    clp,\n",
    "    indice,\n",
    "    valor_indice,\n",
    ")\n",
    "print(ibor_mccy_cashflow)"
   ]
  },
  {
   "cell_type": "code",
   "execution_count": 94,
   "metadata": {
    "ExecuteTime": {
     "end_time": "2022-01-21T13:43:03.257378Z",
     "start_time": "2022-01-21T13:43:03.244413Z"
    },
    "execution": {
     "iopub.execute_input": "2023-09-17T13:19:25.387945Z",
     "iopub.status.busy": "2023-09-17T13:19:25.387601Z",
     "iopub.status.idle": "2023-09-17T13:19:25.391487Z",
     "shell.execute_reply": "2023-09-17T13:19:25.390674Z",
     "shell.execute_reply.started": "2023-09-17T13:19:25.387918Z"
    }
   },
   "outputs": [],
   "source": [
    "ibor_mccy_cashflow.set_interest_rate_value(0.01)"
   ]
  },
  {
   "cell_type": "code",
   "execution_count": 95,
   "metadata": {
    "ExecuteTime": {
     "end_time": "2022-01-21T13:43:03.273335Z",
     "start_time": "2022-01-21T13:43:03.258375Z"
    },
    "execution": {
     "iopub.execute_input": "2023-09-17T13:19:25.393796Z",
     "iopub.status.busy": "2023-09-17T13:19:25.393211Z",
     "iopub.status.idle": "2023-09-17T13:19:25.397626Z",
     "shell.execute_reply": "2023-09-17T13:19:25.396885Z",
     "shell.execute_reply.started": "2023-09-17T13:19:25.393770Z"
    }
   },
   "outputs": [
    {
     "name": "stdout",
     "output_type": "stream",
     "text": [
      "('2019-09-20', '2019-12-20', '2019-09-20', '2019-12-20', 100.0, 100.0, 0.7583333333333275, True, 1007.5833333333333, 'USD', 'LIBORUSD3M', 0.02, 1.0, 0.01, 'LinAct360', '2019-09-20', 'CLP', 'USDOBS', 10.0, 1000.0, 7.583333333333275)\n"
     ]
    }
   ],
   "source": [
    "print(qcf.show(ibor_mccy_cashflow))"
   ]
  },
  {
   "cell_type": "code",
   "execution_count": 96,
   "metadata": {
    "ExecuteTime": {
     "end_time": "2022-01-21T13:43:03.289292Z",
     "start_time": "2022-01-21T13:43:03.274332Z"
    },
    "execution": {
     "iopub.execute_input": "2023-09-17T13:19:25.405130Z",
     "iopub.status.busy": "2023-09-17T13:19:25.404824Z",
     "iopub.status.idle": "2023-09-17T13:19:25.410273Z",
     "shell.execute_reply": "2023-09-17T13:19:25.409476Z",
     "shell.execute_reply.started": "2023-09-17T13:19:25.405102Z"
    }
   },
   "outputs": [
    {
     "name": "stdout",
     "output_type": "stream",
     "text": [
      "0.24999999999999467\n",
      "0.24999999999999997\n"
     ]
    }
   ],
   "source": [
    "fecha_intermedia = qcf.QCDate(20, 10, 2019)\n",
    "print(ibor_mccy_cashflow.accrued_interest(fecha_intermedia))\n",
    "print(\n",
    "    (0.01 + spread)\n",
    "    * fecha_inicio.day_diff(fecha_intermedia)\n",
    "    / 360.0\n",
    "    * ibor_mccy_cashflow.get_nominal()\n",
    ")"
   ]
  },
  {
   "cell_type": "code",
   "execution_count": 97,
   "metadata": {
    "ExecuteTime": {
     "end_time": "2022-01-21T13:43:03.305251Z",
     "start_time": "2022-01-21T13:43:03.290290Z"
    },
    "execution": {
     "iopub.execute_input": "2023-09-17T13:19:25.418163Z",
     "iopub.status.busy": "2023-09-17T13:19:25.417851Z",
     "iopub.status.idle": "2023-09-17T13:19:25.423684Z",
     "shell.execute_reply": "2023-09-17T13:19:25.422767Z",
     "shell.execute_reply.started": "2023-09-17T13:19:25.418135Z"
    }
   },
   "outputs": [
    {
     "name": "stdout",
     "output_type": "stream",
     "text": [
      "2019-09-20\n",
      "2019-10-20\n",
      "2019-10-20\n",
      "3.0\n"
     ]
    }
   ],
   "source": [
    "ts[fecha_inicio] = 1\n",
    "ts[fecha_intermedia] = 3\n",
    "for k in ts:\n",
    "    print(k)\n",
    "print(fecha_intermedia.description(False))\n",
    "print(ts[fecha_intermedia])"
   ]
  },
  {
   "cell_type": "code",
   "execution_count": 98,
   "metadata": {
    "ExecuteTime": {
     "end_time": "2022-01-21T13:43:03.321207Z",
     "start_time": "2022-01-21T13:43:03.306247Z"
    },
    "execution": {
     "iopub.execute_input": "2023-09-17T13:19:25.430771Z",
     "iopub.status.busy": "2023-09-17T13:19:25.430432Z",
     "iopub.status.idle": "2023-09-17T13:19:25.435358Z",
     "shell.execute_reply": "2023-09-17T13:19:25.434560Z",
     "shell.execute_reply.started": "2023-09-17T13:19:25.430742Z"
    }
   },
   "outputs": [
    {
     "name": "stdout",
     "output_type": "stream",
     "text": [
      "0.749999999999984\n"
     ]
    }
   ],
   "source": [
    "print(ibor_mccy_cashflow.accrued_interest(fecha_intermedia, fecha_intermedia, ts))"
   ]
  },
  {
   "cell_type": "code",
   "execution_count": 99,
   "metadata": {
    "execution": {
     "iopub.execute_input": "2023-09-17T13:19:25.443595Z",
     "iopub.status.busy": "2023-09-17T13:19:25.443282Z",
     "iopub.status.idle": "2023-09-17T13:19:25.448949Z",
     "shell.execute_reply": "2023-09-17T13:19:25.448013Z",
     "shell.execute_reply.started": "2023-09-17T13:19:25.443567Z"
    }
   },
   "outputs": [
    {
     "data": {
      "text/plain": [
       "'IborMultiCurrencyCashflow'"
      ]
     },
     "execution_count": 99,
     "metadata": {},
     "output_type": "execute_result"
    }
   ],
   "source": [
    "ibor_mccy_cashflow.get_type()"
   ]
  },
  {
   "cell_type": "code",
   "execution_count": 100,
   "metadata": {
    "execution": {
     "iopub.execute_input": "2023-09-17T13:19:25.457680Z",
     "iopub.status.busy": "2023-09-17T13:19:25.457293Z",
     "iopub.status.idle": "2023-09-17T13:19:25.463604Z",
     "shell.execute_reply": "2023-09-17T13:19:25.462664Z",
     "shell.execute_reply.started": "2023-09-17T13:19:25.457649Z"
    }
   },
   "outputs": [
    {
     "data": {
      "text/plain": [
       "('2019-09-20',\n",
       " '2019-12-20',\n",
       " '2019-09-20',\n",
       " '2019-12-20',\n",
       " 100.0,\n",
       " 100.0,\n",
       " 0.7583333333333275,\n",
       " True,\n",
       " 1007.5833333333333,\n",
       " 'USD',\n",
       " 'LIBORUSD3M',\n",
       " 0.02,\n",
       " 1.0,\n",
       " 0.01,\n",
       " 'LinAct360',\n",
       " '2019-09-20',\n",
       " 'CLP',\n",
       " 'USDOBS',\n",
       " 10.0,\n",
       " 1000.0,\n",
       " 7.583333333333275)"
      ]
     },
     "execution_count": 100,
     "metadata": {},
     "output_type": "execute_result"
    }
   ],
   "source": [
    "qcf.show(ibor_mccy_cashflow)"
   ]
  },
  {
   "cell_type": "markdown",
   "metadata": {},
   "source": [
    "### Icp Clp Cashflow\n",
    "Un objeto de tipo `IcpClpCashflow` representa un flujo de caja calculado como un cupón de la pata flotante de un swap ICP (cámara promedio) de Chile. Para dar de alta uno de estos objetos se requiere:\n",
    "\n",
    "- `QCDate`: fecha inicio (para la aplicación de la tasa)\n",
    "- `QCDate`: fecha final (para la aplicación de la tasa)\n",
    "- `QCDate`: fecha de pago\n",
    "- `float`: nominal (monto al que se le aplica la tasa)\n",
    "- `float`: amortización (eventual flujo de caja que corresponde a una porción del nominal)\n",
    "- `bool`: indica si la amortización anterior es un flujo de caja o sólo una disminución de nominal\n",
    "- `float`: spread aditivo a aplicar a la fijación de la TNA\n",
    "- `float`: spread multiplicativo o gearing a aplicar a la fijación de la TNA\n",
    "- `float`: el valor del ICP a fecha de inicio (u otro valor arbitrario si el valor es desconocido)\n",
    "- `float`: el valor del ICP a fecha final (u otro valor arbitrario si el valor es desconocido)\n",
    "\n",
    "Recordar que TNA significa **Tasa Nominal Anual** y se determina utilizando los valores del índice ICP en la fecha de inicio y fecha final del `IcpClpCashflow`."
   ]
  },
  {
   "cell_type": "code",
   "execution_count": 101,
   "metadata": {
    "ExecuteTime": {
     "end_time": "2022-01-21T13:43:03.367085Z",
     "start_time": "2022-01-21T13:43:03.352125Z"
    },
    "execution": {
     "iopub.execute_input": "2023-09-17T13:19:25.465577Z",
     "iopub.status.busy": "2023-09-17T13:19:25.465243Z",
     "iopub.status.idle": "2023-09-17T13:19:25.470809Z",
     "shell.execute_reply": "2023-09-17T13:19:25.469851Z",
     "shell.execute_reply.started": "2023-09-17T13:19:25.465550Z"
    }
   },
   "outputs": [],
   "source": [
    "# Ejemplo\n",
    "fecha_inicio = qcf.QCDate(20, 9, 2018)\n",
    "fecha_final = qcf.QCDate(20, 9, 2019)\n",
    "fecha_pago = qcf.QCDate(23, 9, 2019)\n",
    "nominal = 1_000_000_000.0\n",
    "amort = 100_000_000.0\n",
    "spread = 0.0\n",
    "gearing = 1.0\n",
    "icp_clp_cashflow = qcf.IcpClpCashflow(\n",
    "    fecha_inicio,\n",
    "    fecha_final,\n",
    "    fecha_pago,\n",
    "    nominal,\n",
    "    amort,\n",
    "    True,\n",
    "    spread,\n",
    "    gearing,\n",
    "    10_000.0,\n",
    "    10_250.0,\n",
    ")"
   ]
  },
  {
   "cell_type": "code",
   "execution_count": 102,
   "metadata": {
    "ExecuteTime": {
     "end_time": "2022-01-21T13:43:03.382045Z",
     "start_time": "2022-01-21T13:43:03.368083Z"
    },
    "execution": {
     "iopub.execute_input": "2023-09-17T13:19:25.474543Z",
     "iopub.status.busy": "2023-09-17T13:19:25.474012Z",
     "iopub.status.idle": "2023-09-17T13:19:25.481529Z",
     "shell.execute_reply": "2023-09-17T13:19:25.480537Z",
     "shell.execute_reply.started": "2023-09-17T13:19:25.474513Z"
    }
   },
   "outputs": [
    {
     "name": "stdout",
     "output_type": "stream",
     "text": [
      "Fecha Inicio: 2018-09-20\n",
      "Fecha Final: 2019-09-20\n",
      "ICP Fecha Inicio: 10,000.00\n",
      "ICP Fecha Final: 10,250.00\n",
      "Valor TNA Todo el Período: 2.47%\n",
      "Check: 2.47%\n",
      "Nominal: 1,000,000,000\n",
      "Amortización: 100,000,000\n",
      "Tipo de Tasa: LinAct360\n",
      "Moneda: CLP\n"
     ]
    }
   ],
   "source": [
    "# Getters\n",
    "print(\"Fecha Inicio:\", icp_clp_cashflow.get_start_date())\n",
    "print(\"Fecha Final:\", icp_clp_cashflow.get_end_date())\n",
    "print(f\"ICP Fecha Inicio: {icp_clp_cashflow.get_start_date_icp():,.2f}\")\n",
    "print(f\"ICP Fecha Final: {icp_clp_cashflow.get_end_date_icp():,.2f}\")\n",
    "print(f\"Valor TNA Todo el Período: {icp_clp_cashflow.get_rate_value():.2%}\")\n",
    "check = round((10250.0 / 10000 - 1) * 360.0 / fecha_inicio.day_diff(fecha_final), 4)\n",
    "print(f\"Check: {check:.2%}\")\n",
    "print(f\"Nominal: {icp_clp_cashflow.get_nominal():,.0f}\")\n",
    "print(f\"Amortización: {icp_clp_cashflow.get_amortization():,.0f}\")\n",
    "print(\"Tipo de Tasa:\", icp_clp_cashflow.get_type_of_rate())\n",
    "print(\"Moneda:\", icp_clp_cashflow.ccy())"
   ]
  },
  {
   "cell_type": "code",
   "execution_count": 103,
   "metadata": {
    "ExecuteTime": {
     "end_time": "2022-01-21T13:43:03.397004Z",
     "start_time": "2022-01-21T13:43:03.383042Z"
    },
    "execution": {
     "iopub.execute_input": "2023-09-17T13:19:25.486309Z",
     "iopub.status.busy": "2023-09-17T13:19:25.485999Z",
     "iopub.status.idle": "2023-09-17T13:19:25.492844Z",
     "shell.execute_reply": "2023-09-17T13:19:25.492068Z",
     "shell.execute_reply.started": "2023-09-17T13:19:25.486281Z"
    }
   },
   "outputs": [
    {
     "name": "stdout",
     "output_type": "stream",
     "text": [
      "Nueva TNA: 2.4658%\n",
      "Nuevo Nominal: 100.0\n",
      "Nueva Amortización: 10.0\n",
      "Nuevo ICP Inicio: 20,000.00\n",
      "Nuevo ICP Final: 20,600.00\n",
      "Check TNA Final: 2.9589%\n"
     ]
    }
   ],
   "source": [
    "# Setters\n",
    "decimales_para_tna = 6\n",
    "icp_clp_cashflow.set_tna_decimal_places(decimales_para_tna)\n",
    "print(f\"Nueva TNA: {icp_clp_cashflow.get_rate_value():.4%}\")\n",
    "\n",
    "nuevo_nominal = 100\n",
    "icp_clp_cashflow.set_nominal(nuevo_nominal)\n",
    "print(\"Nuevo Nominal:\", icp_clp_cashflow.get_nominal())\n",
    "\n",
    "nueva_amortizacion = 10\n",
    "icp_clp_cashflow.set_amortization(nueva_amortizacion)\n",
    "print(\"Nueva Amortización:\", icp_clp_cashflow.get_amortization())\n",
    "\n",
    "nuevo_icp_inicio = 20_000\n",
    "icp_clp_cashflow.set_start_date_icp(nuevo_icp_inicio)\n",
    "print(f\"Nuevo ICP Inicio: {icp_clp_cashflow.get_start_date_icp():,.2f}\")\n",
    "\n",
    "nuevo_icp_final = 20_600\n",
    "icp_clp_cashflow.set_end_date_icp(nuevo_icp_final)\n",
    "print(f\"Nuevo ICP Final: {icp_clp_cashflow.get_end_date_icp():,.2f}\")\n",
    "print(f\"Check TNA Final: {icp_clp_cashflow.get_rate_value():.4%}\")"
   ]
  },
  {
   "cell_type": "code",
   "execution_count": 104,
   "metadata": {
    "ExecuteTime": {
     "end_time": "2022-01-21T13:43:03.412962Z",
     "start_time": "2022-01-21T13:43:03.398002Z"
    },
    "execution": {
     "iopub.execute_input": "2023-09-17T13:19:25.499141Z",
     "iopub.status.busy": "2023-09-17T13:19:25.498827Z",
     "iopub.status.idle": "2023-09-17T13:19:25.506223Z",
     "shell.execute_reply": "2023-09-17T13:19:25.505387Z",
     "shell.execute_reply.started": "2023-09-17T13:19:25.499113Z"
    }
   },
   "outputs": [
    {
     "name": "stdout",
     "output_type": "stream",
     "text": [
      "Flujo: 13\n",
      "TNA fijada a 29-03-2019: 2.37%\n",
      "Check: 2.37%\n",
      "Interés Devengado al 29-03-2019: 1.2508\n",
      "Check: 1.2508\n"
     ]
    }
   ],
   "source": [
    "# Cálculos\n",
    "decimales_para_tna = 4  # Se vuelve a 4 decimales de tasa\n",
    "icp_clp_cashflow.set_tna_decimal_places(decimales_para_tna)\n",
    "\n",
    "nuevo_icp_inicio = 10_000.0\n",
    "icp_clp_cashflow.set_start_date_icp(nuevo_icp_inicio)\n",
    "\n",
    "nuevo_icp_final = 10_250.0\n",
    "icp_clp_cashflow.set_end_date_icp(nuevo_icp_final)\n",
    "\n",
    "print(f\"Flujo: {icp_clp_cashflow.amount():,.0f}\")\n",
    "\n",
    "fecha_devengo = qcf.QCDate(29, 3, 2019)\n",
    "icp_devengo = 10_125.0\n",
    "tna_devengo = icp_clp_cashflow.get_tna(fecha_devengo, icp_devengo)\n",
    "print(f\"TNA fijada a {fecha_devengo.description(True)}: {tna_devengo:.2%}\")\n",
    "check = round(\n",
    "    (icp_devengo / nuevo_icp_inicio - 1) * 360.0 / fecha_inicio.day_diff(fecha_devengo),\n",
    "    decimales_para_tna,\n",
    ")\n",
    "print(f\"Check: {check:.2%}\")\n",
    "print(f\"Interés Devengado al {fecha_devengo.description(True)}: {icp_clp_cashflow.accrued_interest(fecha_devengo, icp_devengo):,.4f}\")\n",
    "print(f\"Check: {100 * tna_devengo * fecha_inicio.day_diff(fecha_devengo) / 360.0:,.4f}\")"
   ]
  },
  {
   "cell_type": "code",
   "execution_count": 105,
   "metadata": {
    "ExecuteTime": {
     "end_time": "2022-01-21T13:43:03.428919Z",
     "start_time": "2022-01-21T13:43:03.413959Z"
    },
    "execution": {
     "iopub.execute_input": "2023-09-17T13:19:25.511537Z",
     "iopub.status.busy": "2023-09-17T13:19:25.510992Z",
     "iopub.status.idle": "2023-09-17T13:19:25.515545Z",
     "shell.execute_reply": "2023-09-17T13:19:25.514698Z",
     "shell.execute_reply.started": "2023-09-17T13:19:25.511509Z"
    }
   },
   "outputs": [
    {
     "name": "stdout",
     "output_type": "stream",
     "text": [
      "('2018-09-20', '2019-09-20', '2019-09-23', 100.0, 10.0, True, 12.504305555555565, 'CLP', 10000.0, 10250.0, 0.0237, 2.504305555555564, 0.0, 1.0, 'LinAct360')\n"
     ]
    }
   ],
   "source": [
    "print(qcf.show(icp_clp_cashflow))"
   ]
  },
  {
   "cell_type": "code",
   "execution_count": 106,
   "metadata": {
    "execution": {
     "iopub.execute_input": "2023-09-17T13:19:25.523726Z",
     "iopub.status.busy": "2023-09-17T13:19:25.523422Z",
     "iopub.status.idle": "2023-09-17T13:19:25.528963Z",
     "shell.execute_reply": "2023-09-17T13:19:25.527962Z",
     "shell.execute_reply.started": "2023-09-17T13:19:25.523698Z"
    }
   },
   "outputs": [
    {
     "data": {
      "text/plain": [
       "'IcpClpCashflow'"
      ]
     },
     "execution_count": 106,
     "metadata": {},
     "output_type": "execute_result"
    }
   ],
   "source": [
    "icp_clp_cashflow.get_type()"
   ]
  },
  {
   "cell_type": "markdown",
   "metadata": {},
   "source": [
    "### Icp Clp Cashflow 2\n",
    "Un objeto de tipo `IcpClpCashflow2` representa un flujo de caja calculado como un cupón de la pata flotante de un swap ICP (cámara promedio) de Chile. Este tipo de cashflow puede ser *quantizado*, es decir, se puede cambiar su moneda de pago componiéndolo con un objeto adicional. Para dar de alta uno de estos objetos se requiere:\n",
    "\n",
    "- `QCDate`: fecha inicio (para la aplicación de la tasa)\n",
    "- `QCDate`: fecha final (para la aplicación de la tasa)\n",
    "- `QCDate`: fecha de pago\n",
    "- `float`: nominal (monto al que se le aplica la tasa)\n",
    "- `float`: amortización (eventual flujo de caja que corresponde a una porción del nominal)\n",
    "- `bool`: indica si la amortización anterior es un flujo de caja o sólo una disminución de nominal\n",
    "- `float`: spread aditivo a aplicar a la fijación de la TNA\n",
    "- `float`: spread multiplicativo o gearing a aplicar a la fijación de la TNA\n",
    "- `float`: el valor del ICP a fecha de inicio (u otro valor arbitrario si el valor es desconocido)\n",
    "- `float`: el valor del ICP a fecha final (u otro valor arbitrario si el valor es desconocido)\n",
    "\n",
    "Recordar que TNA significa **Tasa Nominal Anual** y se determina utilizando los valores del índice ICP en la fecha de inicio y fecha final del `IcpClpCashflow`."
   ]
  },
  {
   "cell_type": "code",
   "execution_count": 107,
   "metadata": {
    "ExecuteTime": {
     "end_time": "2022-01-21T13:43:03.444877Z",
     "start_time": "2022-01-21T13:43:03.429917Z"
    },
    "execution": {
     "iopub.execute_input": "2023-09-17T13:19:25.530896Z",
     "iopub.status.busy": "2023-09-17T13:19:25.530574Z",
     "iopub.status.idle": "2023-09-17T13:19:25.535795Z",
     "shell.execute_reply": "2023-09-17T13:19:25.535084Z",
     "shell.execute_reply.started": "2023-09-17T13:19:25.530868Z"
    }
   },
   "outputs": [],
   "source": [
    "# Ejemplo\n",
    "fecha_inicio = qcf.QCDate(20, 9, 2018)\n",
    "fecha_final = qcf.QCDate(20, 9, 2019)\n",
    "fecha_pago = qcf.QCDate(23, 9, 2019)\n",
    "nominal = 1_000_000_000.0\n",
    "amort = 100_000_000.0\n",
    "spread = 0.0\n",
    "gearing = 1.0\n",
    "icp_clp_cashflow2 = qcf.IcpClpCashflow2(\n",
    "    fecha_inicio,\n",
    "    fecha_final,\n",
    "    fecha_pago,\n",
    "    nominal,\n",
    "    amort,\n",
    "    True,\n",
    "    spread,\n",
    "    gearing,\n",
    "    True,\n",
    "    10_000.0,\n",
    "    10_250.0,\n",
    ")"
   ]
  },
  {
   "cell_type": "code",
   "execution_count": 108,
   "metadata": {
    "ExecuteTime": {
     "end_time": "2022-01-21T13:43:03.460835Z",
     "start_time": "2022-01-21T13:43:03.445874Z"
    },
    "execution": {
     "iopub.execute_input": "2023-09-17T13:19:25.537990Z",
     "iopub.status.busy": "2023-09-17T13:19:25.537693Z",
     "iopub.status.idle": "2023-09-17T13:19:25.544727Z",
     "shell.execute_reply": "2023-09-17T13:19:25.543916Z",
     "shell.execute_reply.started": "2023-09-17T13:19:25.537961Z"
    }
   },
   "outputs": [
    {
     "name": "stdout",
     "output_type": "stream",
     "text": [
      "Fecha Inicio: 2018-09-20\n",
      "Fecha Final: 2019-09-20\n",
      "ICP Fecha Inicio: 10,000.00\n",
      "ICP Fecha Final: 10,250.00\n",
      "\n",
      "Valor TNA Todo el Período: 2.47%\n",
      "Check: 2.47%\n",
      "\n",
      "Nominal: 1,000,000,000\n",
      "Amortización: 100,000,000\n",
      "Tipo de Tasa: LinAct360\n",
      "Moneda: CLP\n"
     ]
    }
   ],
   "source": [
    "# Getters\n",
    "print(\"Fecha Inicio:\", icp_clp_cashflow2.get_start_date())\n",
    "print(\"Fecha Final:\", icp_clp_cashflow2.get_end_date())\n",
    "print(f\"ICP Fecha Inicio: {icp_clp_cashflow2.get_start_date_icp():,.2f}\")\n",
    "print(f\"ICP Fecha Final: {icp_clp_cashflow2.get_end_date_icp():,.2f}\")\n",
    "\n",
    "print()\n",
    "print(f\"Valor TNA Todo el Período: {icp_clp_cashflow2.get_rate_value():.2%}\")\n",
    "check = round((10250.0 / 10000 - 1) * 360.0 / fecha_inicio.day_diff(fecha_final), 4)\n",
    "print(f\"Check: {check:.2%}\")\n",
    "print()\n",
    "\n",
    "print(f\"Nominal: {icp_clp_cashflow2.get_nominal():,.0f}\")\n",
    "print(f\"Amortización: {icp_clp_cashflow2.get_amortization():,.0f}\")\n",
    "print(\"Tipo de Tasa:\", icp_clp_cashflow2.get_type_of_rate())\n",
    "print(\"Moneda:\", icp_clp_cashflow2.ccy())"
   ]
  },
  {
   "cell_type": "code",
   "execution_count": 109,
   "metadata": {
    "ExecuteTime": {
     "end_time": "2022-01-21T13:43:03.475794Z",
     "start_time": "2022-01-21T13:43:03.462829Z"
    },
    "execution": {
     "iopub.execute_input": "2023-09-17T13:19:25.551013Z",
     "iopub.status.busy": "2023-09-17T13:19:25.550688Z",
     "iopub.status.idle": "2023-09-17T13:19:25.557766Z",
     "shell.execute_reply": "2023-09-17T13:19:25.556948Z",
     "shell.execute_reply.started": "2023-09-17T13:19:25.550984Z"
    }
   },
   "outputs": [
    {
     "name": "stdout",
     "output_type": "stream",
     "text": [
      "Nueva TNA: 2.4658%\n",
      "Nuevo Nominal: 100\n",
      "Nueva Amortización: 10\n",
      "Nuevo ICP Inicio: 20,000.00\n",
      "Nuevo ICP Final: 20,000.00\n",
      "Check TNA Final: 0.0000%\n"
     ]
    }
   ],
   "source": [
    "# Setters\n",
    "decimales_para_tna = 6\n",
    "icp_clp_cashflow2.set_tna_decimal_places(decimales_para_tna)\n",
    "print(f\"Nueva TNA: {icp_clp_cashflow2.get_rate_value():.4%}\")\n",
    "\n",
    "nuevo_nominal = 100\n",
    "icp_clp_cashflow2.set_nominal(nuevo_nominal)\n",
    "print(f\"Nuevo Nominal: {icp_clp_cashflow2.get_nominal():,.0f}\")\n",
    "\n",
    "nueva_amortizacion = 10\n",
    "icp_clp_cashflow2.set_amortization(nueva_amortizacion)\n",
    "print(f\"Nueva Amortización: {icp_clp_cashflow2.get_amortization():,.0f}\")\n",
    "\n",
    "nuevo_icp_inicio = 20_000.0\n",
    "icp_clp_cashflow2.set_start_date_icp(nuevo_icp_inicio)\n",
    "print(f\"Nuevo ICP Inicio: {icp_clp_cashflow2.get_start_date_icp():,.2f}\")\n",
    "\n",
    "nuevo_icp_final = 20_000.0\n",
    "icp_clp_cashflow2.set_end_date_icp(nuevo_icp_final)\n",
    "print(f\"Nuevo ICP Final: {icp_clp_cashflow2.get_end_date_icp():,.2f}\")\n",
    "print(f\"Check TNA Final: {icp_clp_cashflow2.get_rate_value():.4%}\")"
   ]
  },
  {
   "cell_type": "code",
   "execution_count": 110,
   "metadata": {
    "ExecuteTime": {
     "end_time": "2022-01-21T13:43:03.491752Z",
     "start_time": "2022-01-21T13:43:03.477789Z"
    },
    "execution": {
     "iopub.execute_input": "2023-09-17T13:19:25.563969Z",
     "iopub.status.busy": "2023-09-17T13:19:25.563630Z",
     "iopub.status.idle": "2023-09-17T13:19:25.571931Z",
     "shell.execute_reply": "2023-09-17T13:19:25.571104Z",
     "shell.execute_reply.started": "2023-09-17T13:19:25.563939Z"
    }
   },
   "outputs": [
    {
     "name": "stdout",
     "output_type": "stream",
     "text": [
      "Flujo: 12.50\n",
      "\n",
      "TNA fijada al 29-03-2019: 2.37%\n",
      "Check: 2.37%\n",
      "\n",
      "Interés Devengado al 29-03-2019: 1.250833\n",
      "Check: 1.250833\n"
     ]
    }
   ],
   "source": [
    "# Cálculos\n",
    "decimales_para_tna = 4  # Se vuelve a 4 decimales de tasa\n",
    "icp_clp_cashflow2.set_tna_decimal_places(decimales_para_tna)\n",
    "\n",
    "nuevo_icp_inicio = 10_000.0\n",
    "icp_clp_cashflow2.set_start_date_icp(nuevo_icp_inicio)\n",
    "\n",
    "nuevo_icp_final = 10_250.0\n",
    "icp_clp_cashflow2.set_end_date_icp(nuevo_icp_final)\n",
    "\n",
    "print(f\"Flujo: {icp_clp_cashflow2.amount():,.2f}\")\n",
    "print()\n",
    "\n",
    "fecha_devengo = qcf.QCDate(29, 3, 2019)\n",
    "icp_devengo = 10_125.0\n",
    "tna_devengo = icp_clp_cashflow2.get_tna(fecha_devengo, icp_devengo)\n",
    "print(f\"TNA fijada al {fecha_devengo.description(True)}: {tna_devengo:.2%}\")\n",
    "check = round((icp_devengo / nuevo_icp_inicio - 1) * 360.0 / fecha_inicio.day_diff(fecha_devengo), decimales_para_tna)\n",
    "print(f\"Check: {check:.2%}\")\n",
    "print()\n",
    "\n",
    "data = qcf.time_series()\n",
    "data[fecha_devengo] = icp_devengo\n",
    "print(f\"Interés Devengado al {fecha_devengo.description(True)}: {icp_clp_cashflow2.accrued_interest(fecha_devengo, data):,.6f}\")\n",
    "check = 100 * tna_devengo * fecha_inicio.day_diff(fecha_devengo) / 360.0\n",
    "print(f\"Check: {check:,.6f}\")"
   ]
  },
  {
   "cell_type": "code",
   "execution_count": 111,
   "metadata": {
    "ExecuteTime": {
     "end_time": "2022-01-21T13:43:03.506711Z",
     "start_time": "2022-01-21T13:43:03.492748Z"
    },
    "execution": {
     "iopub.execute_input": "2023-09-17T13:19:25.576824Z",
     "iopub.status.busy": "2023-09-17T13:19:25.576512Z",
     "iopub.status.idle": "2023-09-17T13:19:25.580955Z",
     "shell.execute_reply": "2023-09-17T13:19:25.580082Z",
     "shell.execute_reply.started": "2023-09-17T13:19:25.576795Z"
    }
   },
   "outputs": [
    {
     "name": "stdout",
     "output_type": "stream",
     "text": [
      "('2018-09-20', '2019-09-20', '2019-09-23', 100.0, 10.0, True, 12.499999999999991, 'CLP', 10000.0, 10250.0, 0.0247, 2.504305555555564, 0.0, 1.0, 'LinAct360')\n"
     ]
    }
   ],
   "source": [
    "print(qcf.show(icp_clp_cashflow2))"
   ]
  },
  {
   "cell_type": "code",
   "execution_count": 112,
   "metadata": {
    "execution": {
     "iopub.execute_input": "2023-09-17T13:19:25.589989Z",
     "iopub.status.busy": "2023-09-17T13:19:25.589237Z",
     "iopub.status.idle": "2023-09-17T13:19:25.594855Z",
     "shell.execute_reply": "2023-09-17T13:19:25.594024Z",
     "shell.execute_reply.started": "2023-09-17T13:19:25.589962Z"
    }
   },
   "outputs": [
    {
     "data": {
      "text/plain": [
       "'IcpClpCashflow'"
      ]
     },
     "execution_count": 112,
     "metadata": {},
     "output_type": "execute_result"
    }
   ],
   "source": [
    "icp_clp_cashflow2.get_type()"
   ]
  },
  {
   "cell_type": "markdown",
   "metadata": {},
   "source": [
    "### Icp Clf Cashflow\n",
    "Un objeto de tipo `IcpClfCashflow` representa un flujo de caja calculado como un cupón de la pata flotante de un swap ICP (cámara promedio) en UF de Chile. Para dar de alta uno de estos objetos se requiere:\n",
    "\n",
    "- `QCDate`: fecha inicio (para la aplicación de la tasa)\n",
    "- `QCDate`: fecha final (para la aplicación de la tasa)\n",
    "- `QCDate`: fecha de pago\n",
    "- `float`: nominal (monto al que se le aplica la tasa)\n",
    "- `float`: amortización (eventual flujo de caja que corresponde a una porción del nominal)\n",
    "- `bool`: indica si la amortización anterior es un flujo de caja o sólo una disminución de nominal\n",
    "- `float`: spread aditivo a aplicar a la fijación de la TRA\n",
    "- `float`: spread multiplicativo o gearing a aplicar a la fijación de la TRA\n",
    "- `vector<float>`: objeto `double_vec` (en Python) que contiene ICP Inicio, ICP Final, UF Inicio, UF Final (se debe respetar el orden)\n",
    "\n",
    "Recordar que TRA significa **Tasa Real Anual** y se determina utilizando los valores del índice ICP y los valores de la UF en la fecha de inicio y fecha final del `IcpClfCashflow`."
   ]
  },
  {
   "cell_type": "code",
   "execution_count": 113,
   "metadata": {
    "ExecuteTime": {
     "end_time": "2022-01-21T13:43:03.522669Z",
     "start_time": "2022-01-21T13:43:03.507709Z"
    },
    "execution": {
     "iopub.execute_input": "2023-09-17T13:19:25.596943Z",
     "iopub.status.busy": "2023-09-17T13:19:25.596563Z",
     "iopub.status.idle": "2023-09-17T13:19:25.602952Z",
     "shell.execute_reply": "2023-09-17T13:19:25.602088Z",
     "shell.execute_reply.started": "2023-09-17T13:19:25.596915Z"
    }
   },
   "outputs": [],
   "source": [
    "# Ejemplo\n",
    "fecha_inicio = qcf.QCDate(20, 9, 2018)\n",
    "fecha_final = qcf.QCDate(20, 9, 2019)\n",
    "fecha_pago = qcf.QCDate(23, 9, 2019)\n",
    "nominal = 300_000.0\n",
    "amort = 100_000.0\n",
    "spread = 0.0\n",
    "gearing = 1.0\n",
    "\n",
    "icp_uf = qcf.double_vec()\n",
    "# Los primeros dos valores corresponden a icp_inicial e icp_final.\n",
    "# Los segundos dos valores corresponden a uf_inicial y uf_final\n",
    "icp_uf.append(10_000.0)\n",
    "icp_uf.append(10_250.0)\n",
    "icp_uf.append(35_000.0)\n",
    "icp_uf.append(35_500.0)\n",
    "\n",
    "icp_clf_cashflow = qcf.IcpClfCashflow(\n",
    "    fecha_inicio, \n",
    "    fecha_final, \n",
    "    fecha_pago, \n",
    "    nominal, \n",
    "    amort, \n",
    "    True, \n",
    "    spread, \n",
    "    gearing, \n",
    "    icp_uf\n",
    ")"
   ]
  },
  {
   "cell_type": "code",
   "execution_count": 114,
   "metadata": {
    "ExecuteTime": {
     "end_time": "2022-01-21T13:43:03.538625Z",
     "start_time": "2022-01-21T13:43:03.523667Z"
    },
    "execution": {
     "iopub.execute_input": "2023-09-17T13:19:25.605164Z",
     "iopub.status.busy": "2023-09-17T13:19:25.604851Z",
     "iopub.status.idle": "2023-09-17T13:19:25.612739Z",
     "shell.execute_reply": "2023-09-17T13:19:25.611940Z",
     "shell.execute_reply.started": "2023-09-17T13:19:25.605136Z"
    }
   },
   "outputs": [
    {
     "name": "stdout",
     "output_type": "stream",
     "text": [
      "Fecha Inicio: 2018-09-20\n",
      "Fecha Final: 2019-09-20\n",
      "ICP Fecha Inicio: 10,000.00\n",
      "ICP Fecha Final: 10,250.00\n",
      "UF Fecha Inicio: 35,000.00\n",
      "UF Fecha Final: 35,500.00\n",
      "Valor TRA Todo el Período: 1.0461%\n",
      "Check TRA: 1.0461%\n",
      "Nominal: 300,000\n",
      "Amortización: 100,000\n",
      "Tipo de Tasa: LinAct360\n",
      "Moneda: CLF\n"
     ]
    }
   ],
   "source": [
    "# Getters\n",
    "print(\"Fecha Inicio:\", icp_clf_cashflow.get_start_date())\n",
    "print(\"Fecha Final:\", icp_clf_cashflow.get_end_date())\n",
    "\n",
    "print(f\"ICP Fecha Inicio: {icp_clf_cashflow.get_start_date_icp():,.2f}\")\n",
    "print(f\"ICP Fecha Final: {icp_clf_cashflow.get_end_date_icp():,.2f}\")\n",
    "\n",
    "print(f\"UF Fecha Inicio: {icp_clf_cashflow.get_start_date_uf():,.2f}\")\n",
    "print(f\"UF Fecha Final: {icp_clf_cashflow.get_end_date_uf():,.2f}\")\n",
    "\n",
    "print(f\"Valor TRA Todo el Período: {icp_clf_cashflow.get_rate_value():.4%}\")\n",
    "tna = icp_clf_cashflow.get_tna(fecha_final, 10_250.0)\n",
    "dias = fecha_inicio.day_diff(fecha_final)\n",
    "tra = ((1 + tna * dias / 360.0) * 35_000.0 / 35_500.0 - 1) * 360.0 / dias\n",
    "print(f\"Check TRA: {round(tra, 6):.4%}\")\n",
    "\n",
    "print(f\"Nominal: {icp_clf_cashflow.get_nominal():,.0f}\")\n",
    "print(f\"Amortización: {icp_clf_cashflow.get_amortization():,.0f}\")\n",
    "print(\"Tipo de Tasa:\", icp_clf_cashflow.get_type_of_rate())\n",
    "print(\"Moneda:\", icp_clf_cashflow.ccy())"
   ]
  },
  {
   "cell_type": "code",
   "execution_count": 115,
   "metadata": {
    "ExecuteTime": {
     "end_time": "2022-01-21T13:43:03.553586Z",
     "start_time": "2022-01-21T13:43:03.539624Z"
    },
    "execution": {
     "iopub.execute_input": "2023-09-17T13:19:25.617115Z",
     "iopub.status.busy": "2023-09-17T13:19:25.616814Z",
     "iopub.status.idle": "2023-09-17T13:19:25.623790Z",
     "shell.execute_reply": "2023-09-17T13:19:25.622973Z",
     "shell.execute_reply.started": "2023-09-17T13:19:25.617087Z"
    }
   },
   "outputs": [
    {
     "name": "stdout",
     "output_type": "stream",
     "text": [
      "Nueva TRA: 1.046054%\n",
      "Nuevo Nominal: 100,000\n",
      "Nueva Amortización: 10,000\n",
      "Nuevo ICP Inicio: 20,000.00\n",
      "Nuevo ICP Final: 20,500.00\n",
      "Check TNA Final: 2.470000%\n"
     ]
    }
   ],
   "source": [
    "# Setters\n",
    "decimales_para_tra = 8\n",
    "icp_clf_cashflow.set_tra_decimal_places(decimales_para_tra)\n",
    "print(f\"Nueva TRA: {icp_clf_cashflow.get_rate_value():.6%}\")\n",
    "\n",
    "nuevo_nominal = 100_000.0\n",
    "icp_clf_cashflow.set_nominal(nuevo_nominal)\n",
    "print(f\"Nuevo Nominal: {icp_clf_cashflow.get_nominal():,.0f}\")\n",
    "\n",
    "nueva_amortizacion = 10_000.0\n",
    "icp_clf_cashflow.set_amortization(nueva_amortizacion)\n",
    "print(f\"Nueva Amortización: {icp_clf_cashflow.get_amortization():,.0f}\")\n",
    "\n",
    "nuevo_icp_inicio = 20_000.0\n",
    "icp_clf_cashflow.set_start_date_icp(nuevo_icp_inicio)\n",
    "print(f\"Nuevo ICP Inicio: {icp_clf_cashflow.get_start_date_icp():,.2f}\")\n",
    "\n",
    "nuevo_icp_final = 20_500.0\n",
    "icp_clf_cashflow.set_end_date_icp(nuevo_icp_final)\n",
    "print(f\"Nuevo ICP Final: {icp_clf_cashflow.get_end_date_icp():,.2f}\")\n",
    "print(f\"Check TNA Final: {icp_clf_cashflow.get_tna(fecha_final, nuevo_icp_final):.6%}\")"
   ]
  },
  {
   "cell_type": "code",
   "execution_count": 116,
   "metadata": {
    "execution": {
     "iopub.execute_input": "2023-09-17T13:19:25.629740Z",
     "iopub.status.busy": "2023-09-17T13:19:25.629179Z",
     "iopub.status.idle": "2023-09-17T13:19:25.634830Z",
     "shell.execute_reply": "2023-09-17T13:19:25.633850Z",
     "shell.execute_reply.started": "2023-09-17T13:19:25.629711Z"
    }
   },
   "outputs": [
    {
     "data": {
      "text/plain": [
       "'IcpClfCashflow'"
      ]
     },
     "execution_count": 116,
     "metadata": {},
     "output_type": "execute_result"
    }
   ],
   "source": [
    "icp_clf_cashflow.get_type()"
   ]
  },
  {
   "cell_type": "code",
   "execution_count": 117,
   "metadata": {
    "execution": {
     "iopub.execute_input": "2023-09-17T13:19:25.643120Z",
     "iopub.status.busy": "2023-09-17T13:19:25.642770Z",
     "iopub.status.idle": "2023-09-17T13:19:25.648665Z",
     "shell.execute_reply": "2023-09-17T13:19:25.647654Z",
     "shell.execute_reply.started": "2023-09-17T13:19:25.643090Z"
    }
   },
   "outputs": [
    {
     "data": {
      "text/plain": [
       "('2018-09-20',\n",
       " '2019-09-20',\n",
       " '2019-09-23',\n",
       " 100000.0,\n",
       " 10000.0,\n",
       " True,\n",
       " 11056.338028169024,\n",
       " 'CLF',\n",
       " 20000.0,\n",
       " 20500.0,\n",
       " 35000.0,\n",
       " 35500.0,\n",
       " 0.01046054,\n",
       " 1060.582527777787,\n",
       " 0.0,\n",
       " 1.0,\n",
       " 'LinAct360')"
      ]
     },
     "execution_count": 117,
     "metadata": {},
     "output_type": "execute_result"
    }
   ],
   "source": [
    "qcf.show(icp_clf_cashflow)"
   ]
  },
  {
   "cell_type": "markdown",
   "metadata": {},
   "source": [
    "### Compounded Overnight Rate Cashflow\n",
    "\n",
    "Un objeto de tipo `CompoundedOvernightRateCashflow` representa un flujo de caja calculado como un cupón de la pata flotante de un OIS sobre cualquier índice overnight (SOFR, FF, EONIA). Para dar de alta uno de estos objetos se requiere:\n",
    "\n",
    "- `InterestRateIndex`: el índice de tasa de interés prefijado\n",
    "- `QCDate`: fecha inicio (para la aplicación de la tasa)\n",
    "- `QCDate`: fecha final (para la aplicación de la tasa)\n",
    "- `QCDate`: fecha de pago\n",
    "- `DateList`: fechas de fixing del índice\n",
    "- `float`: nominal (monto al que se le aplica la tasa)\n",
    "- `float`: amortización (eventual flujo de caja que corresponde a una porción del nominal)\n",
    "- `bool`: indica si la amortización anterior es un flujo de caja o sólo una disminución de nominal\n",
    "- `QCCurrency`: moneda del nocional de la operación\n",
    "- `float`: spread aditivo a aplicar a la fijación de la TRA\n",
    "- `float`: spread multiplicativo o gearing a aplicar a la fijación de la TRA\n",
    "- `bool`: si `True` la tasa equivalente se calcula en convención Lin Act/360. En caso contrario es Lin 30/360\n",
    "- `unsigned int`: número de decimales a usar en el cálculo de la tasa equivalente. Por ejemplo para 0.12345678% este valor debe ser 10.\n",
    "- `unsigned int`: número de días de lookback\n",
    "- `unsigned int`: número de días de lockout\n",
    "\n",
    "El efecto de lookback y lockout aún no está implementado."
   ]
  },
  {
   "cell_type": "markdown",
   "metadata": {},
   "source": [
    "#### Constructor"
   ]
  },
  {
   "cell_type": "markdown",
   "metadata": {},
   "source": [
    "Se da de alta un índice overnight ficiticio de test."
   ]
  },
  {
   "cell_type": "code",
   "execution_count": 118,
   "metadata": {
    "ExecuteTime": {
     "end_time": "2022-01-21T13:43:03.569544Z",
     "start_time": "2022-01-21T13:43:03.554583Z"
    },
    "execution": {
     "iopub.execute_input": "2023-09-17T13:19:25.650989Z",
     "iopub.status.busy": "2023-09-17T13:19:25.650681Z",
     "iopub.status.idle": "2023-09-17T13:19:25.655917Z",
     "shell.execute_reply": "2023-09-17T13:19:25.654992Z",
     "shell.execute_reply.started": "2023-09-17T13:19:25.650958Z"
    }
   },
   "outputs": [],
   "source": [
    "codigo = \"OITEST\"\n",
    "lin_act360 = qcf.QCInterestRate(0.0, act360, lin_wf)\n",
    "fixing_lag = qcf.Tenor(\"0d\")\n",
    "tenor = qcf.Tenor(\"1d\")\n",
    "fixing_calendar = scl\n",
    "settlement_calendar = scl\n",
    "oitest = qcf.InterestRateIndex(\n",
    "    codigo, \n",
    "    lin_act360, \n",
    "    fixing_lag, \n",
    "    tenor, \n",
    "    fixing_calendar, \n",
    "    settlement_calendar, \n",
    "    usd\n",
    ")"
   ]
  },
  {
   "cell_type": "code",
   "execution_count": 119,
   "metadata": {
    "ExecuteTime": {
     "end_time": "2022-01-21T13:43:03.584504Z",
     "start_time": "2022-01-21T13:43:03.570541Z"
    },
    "execution": {
     "iopub.execute_input": "2023-09-17T13:19:25.657285Z",
     "iopub.status.busy": "2023-09-17T13:19:25.656882Z",
     "iopub.status.idle": "2023-09-17T13:19:25.661084Z",
     "shell.execute_reply": "2023-09-17T13:19:25.660303Z",
     "shell.execute_reply.started": "2023-09-17T13:19:25.657257Z"
    }
   },
   "outputs": [],
   "source": [
    "fixing_dates = qcf.DateList()"
   ]
  },
  {
   "cell_type": "code",
   "execution_count": 120,
   "metadata": {
    "ExecuteTime": {
     "end_time": "2022-01-21T13:43:03.600461Z",
     "start_time": "2022-01-21T13:43:03.585501Z"
    },
    "execution": {
     "iopub.execute_input": "2023-09-17T13:19:25.663898Z",
     "iopub.status.busy": "2023-09-17T13:19:25.663616Z",
     "iopub.status.idle": "2023-09-17T13:19:25.668286Z",
     "shell.execute_reply": "2023-09-17T13:19:25.667513Z",
     "shell.execute_reply.started": "2023-09-17T13:19:25.663873Z"
    }
   },
   "outputs": [],
   "source": [
    "fixing_dates.append(qcf.QCDate(27, 12, 2021))\n",
    "fixing_dates.append(qcf.QCDate(28, 12, 2021))\n",
    "fixing_dates.append(qcf.QCDate(29, 12, 2021))\n",
    "fixing_dates.append(qcf.QCDate(30, 12, 2021))"
   ]
  },
  {
   "cell_type": "code",
   "execution_count": 121,
   "metadata": {
    "ExecuteTime": {
     "end_time": "2022-01-21T13:43:03.679251Z",
     "start_time": "2022-01-21T13:43:03.601459Z"
    },
    "execution": {
     "iopub.execute_input": "2023-09-17T13:19:25.669994Z",
     "iopub.status.busy": "2023-09-17T13:19:25.669230Z",
     "iopub.status.idle": "2023-09-17T13:19:25.674721Z",
     "shell.execute_reply": "2023-09-17T13:19:25.673773Z",
     "shell.execute_reply.started": "2023-09-17T13:19:25.669965Z"
    }
   },
   "outputs": [],
   "source": [
    "cor_cashflow = qcf.CompoundedOvernightRateCashflow(\n",
    "    oitest,\n",
    "    qcf.QCDate(27, 12, 2021),\n",
    "    qcf.QCDate(31, 12, 2021),\n",
    "    qcf.QCDate(31, 12, 2021),\n",
    "    fixing_dates,\n",
    "    10_000_000.0,\n",
    "    100_000.0,\n",
    "    True,\n",
    "    qcf.QCCLP(),\n",
    "    spread:=0.001,\n",
    "    1.0,\n",
    "    True,\n",
    "    8,\n",
    "    0,\n",
    "    0,\n",
    ")"
   ]
  },
  {
   "cell_type": "markdown",
   "metadata": {},
   "source": [
    "#### Getters"
   ]
  },
  {
   "cell_type": "code",
   "execution_count": 122,
   "metadata": {
    "ExecuteTime": {
     "end_time": "2022-01-21T13:43:03.680249Z",
     "start_time": "2022-01-21T13:43:03.680249Z"
    },
    "execution": {
     "iopub.execute_input": "2023-09-17T13:19:25.676185Z",
     "iopub.status.busy": "2023-09-17T13:19:25.675703Z",
     "iopub.status.idle": "2023-09-17T13:19:25.681381Z",
     "shell.execute_reply": "2023-09-17T13:19:25.680567Z",
     "shell.execute_reply.started": "2023-09-17T13:19:25.676157Z"
    }
   },
   "outputs": [
    {
     "data": {
      "text/plain": [
       "'2021-12-27'"
      ]
     },
     "execution_count": 122,
     "metadata": {},
     "output_type": "execute_result"
    }
   ],
   "source": [
    "cor_cashflow.get_start_date().description(False)"
   ]
  },
  {
   "cell_type": "code",
   "execution_count": 123,
   "metadata": {
    "ExecuteTime": {
     "end_time": "2022-01-21T13:43:03.681246Z",
     "start_time": "2022-01-21T13:43:03.681246Z"
    },
    "execution": {
     "iopub.execute_input": "2023-09-17T13:19:25.683823Z",
     "iopub.status.busy": "2023-09-17T13:19:25.683512Z",
     "iopub.status.idle": "2023-09-17T13:19:25.688901Z",
     "shell.execute_reply": "2023-09-17T13:19:25.687978Z",
     "shell.execute_reply.started": "2023-09-17T13:19:25.683797Z"
    }
   },
   "outputs": [
    {
     "data": {
      "text/plain": [
       "'2021-12-31'"
      ]
     },
     "execution_count": 123,
     "metadata": {},
     "output_type": "execute_result"
    }
   ],
   "source": [
    "cor_cashflow.get_end_date().description(False)"
   ]
  },
  {
   "cell_type": "code",
   "execution_count": 124,
   "metadata": {
    "ExecuteTime": {
     "end_time": "2022-01-21T13:43:03.683241Z",
     "start_time": "2022-01-21T13:43:03.683241Z"
    },
    "execution": {
     "iopub.execute_input": "2023-09-17T13:19:25.691217Z",
     "iopub.status.busy": "2023-09-17T13:19:25.690755Z",
     "iopub.status.idle": "2023-09-17T13:19:25.696315Z",
     "shell.execute_reply": "2023-09-17T13:19:25.695434Z",
     "shell.execute_reply.started": "2023-09-17T13:19:25.691188Z"
    }
   },
   "outputs": [
    {
     "data": {
      "text/plain": [
       "'2021-12-31'"
      ]
     },
     "execution_count": 124,
     "metadata": {},
     "output_type": "execute_result"
    }
   ],
   "source": [
    "cor_cashflow.get_settlement_date().description(False)"
   ]
  },
  {
   "cell_type": "code",
   "execution_count": 125,
   "metadata": {
    "ExecuteTime": {
     "end_time": "2022-01-21T13:43:03.684238Z",
     "start_time": "2022-01-21T13:43:03.684238Z"
    },
    "execution": {
     "iopub.execute_input": "2023-09-17T13:19:25.698333Z",
     "iopub.status.busy": "2023-09-17T13:19:25.698040Z",
     "iopub.status.idle": "2023-09-17T13:19:25.702560Z",
     "shell.execute_reply": "2023-09-17T13:19:25.701731Z",
     "shell.execute_reply.started": "2023-09-17T13:19:25.698307Z"
    }
   },
   "outputs": [
    {
     "name": "stdout",
     "output_type": "stream",
     "text": [
      "2021-12-27\n",
      "2021-12-28\n",
      "2021-12-29\n",
      "2021-12-30\n"
     ]
    }
   ],
   "source": [
    "for d in cor_cashflow.get_fixing_dates():\n",
    "    print(d)"
   ]
  },
  {
   "cell_type": "code",
   "execution_count": 126,
   "metadata": {
    "ExecuteTime": {
     "end_time": "2022-01-21T13:43:03.685235Z",
     "start_time": "2022-01-21T13:43:03.685235Z"
    },
    "execution": {
     "iopub.execute_input": "2023-09-17T13:19:25.710095Z",
     "iopub.status.busy": "2023-09-17T13:19:25.709776Z",
     "iopub.status.idle": "2023-09-17T13:19:25.714726Z",
     "shell.execute_reply": "2023-09-17T13:19:25.713873Z",
     "shell.execute_reply.started": "2023-09-17T13:19:25.710067Z"
    }
   },
   "outputs": [
    {
     "name": "stdout",
     "output_type": "stream",
     "text": [
      "Nominal: 10,000,000\n"
     ]
    }
   ],
   "source": [
    "print(f\"Nominal: {cor_cashflow.get_nominal():,.0f}\")"
   ]
  },
  {
   "cell_type": "code",
   "execution_count": 127,
   "metadata": {
    "ExecuteTime": {
     "end_time": "2022-01-21T13:43:03.687231Z",
     "start_time": "2022-01-21T13:43:03.687231Z"
    },
    "execution": {
     "iopub.execute_input": "2023-09-17T13:19:25.722733Z",
     "iopub.status.busy": "2023-09-17T13:19:25.722383Z",
     "iopub.status.idle": "2023-09-17T13:19:25.726867Z",
     "shell.execute_reply": "2023-09-17T13:19:25.726091Z",
     "shell.execute_reply.started": "2023-09-17T13:19:25.722704Z"
    }
   },
   "outputs": [
    {
     "name": "stdout",
     "output_type": "stream",
     "text": [
      "Amortization: 100,000\n"
     ]
    }
   ],
   "source": [
    "print(f\"Amortization: {cor_cashflow.get_amortization():,.0f}\")"
   ]
  },
  {
   "cell_type": "code",
   "execution_count": 128,
   "metadata": {
    "ExecuteTime": {
     "end_time": "2022-01-21T13:43:03.688227Z",
     "start_time": "2022-01-21T13:43:03.688227Z"
    },
    "execution": {
     "iopub.execute_input": "2023-09-17T13:19:25.734794Z",
     "iopub.status.busy": "2023-09-17T13:19:25.734477Z",
     "iopub.status.idle": "2023-09-17T13:19:25.740240Z",
     "shell.execute_reply": "2023-09-17T13:19:25.739411Z",
     "shell.execute_reply.started": "2023-09-17T13:19:25.734765Z"
    }
   },
   "outputs": [
    {
     "data": {
      "text/plain": [
       "'CLP'"
      ]
     },
     "execution_count": 128,
     "metadata": {},
     "output_type": "execute_result"
    }
   ],
   "source": [
    "cor_cashflow.get_initial_currency().get_iso_code()"
   ]
  },
  {
   "cell_type": "code",
   "execution_count": 129,
   "metadata": {
    "ExecuteTime": {
     "end_time": "2022-01-21T13:43:03.689224Z",
     "start_time": "2022-01-21T13:43:03.689224Z"
    },
    "execution": {
     "iopub.execute_input": "2023-09-17T13:19:25.746814Z",
     "iopub.status.busy": "2023-09-17T13:19:25.746503Z",
     "iopub.status.idle": "2023-09-17T13:19:25.751210Z",
     "shell.execute_reply": "2023-09-17T13:19:25.750418Z",
     "shell.execute_reply.started": "2023-09-17T13:19:25.746785Z"
    }
   },
   "outputs": [
    {
     "name": "stdout",
     "output_type": "stream",
     "text": [
      "Spread: 0.10%\n"
     ]
    }
   ],
   "source": [
    "print(f\"Spread: {cor_cashflow.get_spread():.2%}\")"
   ]
  },
  {
   "cell_type": "code",
   "execution_count": 130,
   "metadata": {
    "ExecuteTime": {
     "end_time": "2022-01-21T13:43:03.690221Z",
     "start_time": "2022-01-21T13:43:03.690221Z"
    },
    "execution": {
     "iopub.execute_input": "2023-09-17T13:19:25.758875Z",
     "iopub.status.busy": "2023-09-17T13:19:25.758525Z",
     "iopub.status.idle": "2023-09-17T13:19:25.764325Z",
     "shell.execute_reply": "2023-09-17T13:19:25.763392Z",
     "shell.execute_reply.started": "2023-09-17T13:19:25.758846Z"
    }
   },
   "outputs": [
    {
     "data": {
      "text/plain": [
       "1.0"
      ]
     },
     "execution_count": 130,
     "metadata": {},
     "output_type": "execute_result"
    }
   ],
   "source": [
    "cor_cashflow.get_gearing()"
   ]
  },
  {
   "cell_type": "code",
   "execution_count": 131,
   "metadata": {
    "ExecuteTime": {
     "end_time": "2022-01-21T13:43:03.691219Z",
     "start_time": "2022-01-21T13:43:03.691219Z"
    },
    "execution": {
     "iopub.execute_input": "2023-09-17T13:19:25.771003Z",
     "iopub.status.busy": "2023-09-17T13:19:25.770697Z",
     "iopub.status.idle": "2023-09-17T13:19:25.776425Z",
     "shell.execute_reply": "2023-09-17T13:19:25.775438Z",
     "shell.execute_reply.started": "2023-09-17T13:19:25.770975Z"
    }
   },
   "outputs": [
    {
     "data": {
      "text/plain": [
       "'CompoundedOvernightRateCashflow'"
      ]
     },
     "execution_count": 131,
     "metadata": {},
     "output_type": "execute_result"
    }
   ],
   "source": [
    "cor_cashflow.get_type()"
   ]
  },
  {
   "cell_type": "code",
   "execution_count": 132,
   "metadata": {
    "ExecuteTime": {
     "end_time": "2022-01-21T13:43:03.692216Z",
     "start_time": "2022-01-21T13:43:03.692216Z"
    },
    "execution": {
     "iopub.execute_input": "2023-09-17T13:19:25.783190Z",
     "iopub.status.busy": "2023-09-17T13:19:25.782851Z",
     "iopub.status.idle": "2023-09-17T13:19:25.788452Z",
     "shell.execute_reply": "2023-09-17T13:19:25.787614Z",
     "shell.execute_reply.started": "2023-09-17T13:19:25.783161Z"
    }
   },
   "outputs": [
    {
     "data": {
      "text/plain": [
       "8"
      ]
     },
     "execution_count": 132,
     "metadata": {},
     "output_type": "execute_result"
    }
   ],
   "source": [
    "cor_cashflow.get_eq_rate_decimal_places()"
   ]
  },
  {
   "cell_type": "code",
   "execution_count": 133,
   "metadata": {
    "ExecuteTime": {
     "end_time": "2022-01-21T13:43:03.693214Z",
     "start_time": "2022-01-21T13:43:03.693214Z"
    },
    "execution": {
     "iopub.execute_input": "2023-09-17T13:19:25.790400Z",
     "iopub.status.busy": "2023-09-17T13:19:25.789974Z",
     "iopub.status.idle": "2023-09-17T13:19:25.793875Z",
     "shell.execute_reply": "2023-09-17T13:19:25.793076Z",
     "shell.execute_reply.started": "2023-09-17T13:19:25.790372Z"
    }
   },
   "outputs": [],
   "source": [
    "derivs = cor_cashflow.get_amount_derivatives()"
   ]
  },
  {
   "cell_type": "code",
   "execution_count": 134,
   "metadata": {
    "ExecuteTime": {
     "end_time": "2022-01-21T13:43:03.695208Z",
     "start_time": "2022-01-21T13:43:03.695208Z"
    },
    "execution": {
     "iopub.execute_input": "2023-09-17T13:19:25.797234Z",
     "iopub.status.busy": "2023-09-17T13:19:25.796950Z",
     "iopub.status.idle": "2023-09-17T13:19:25.802205Z",
     "shell.execute_reply": "2023-09-17T13:19:25.801454Z",
     "shell.execute_reply.started": "2023-09-17T13:19:25.797209Z"
    }
   },
   "outputs": [
    {
     "data": {
      "text/plain": [
       "2"
      ]
     },
     "execution_count": 134,
     "metadata": {},
     "output_type": "execute_result"
    }
   ],
   "source": [
    "len(derivs)"
   ]
  },
  {
   "cell_type": "code",
   "execution_count": 135,
   "metadata": {
    "ExecuteTime": {
     "end_time": "2022-01-21T13:43:03.696205Z",
     "start_time": "2022-01-21T13:43:03.696205Z"
    },
    "execution": {
     "iopub.execute_input": "2023-09-17T13:19:25.808251Z",
     "iopub.status.busy": "2023-09-17T13:19:25.807935Z",
     "iopub.status.idle": "2023-09-17T13:19:25.812849Z",
     "shell.execute_reply": "2023-09-17T13:19:25.812060Z",
     "shell.execute_reply.started": "2023-09-17T13:19:25.808222Z"
    }
   },
   "outputs": [
    {
     "name": "stdout",
     "output_type": "stream",
     "text": [
      "0.0\n",
      "0.0\n"
     ]
    }
   ],
   "source": [
    "for der in derivs:\n",
    "    print(der)"
   ]
  },
  {
   "cell_type": "markdown",
   "metadata": {},
   "source": [
    "#### Setters"
   ]
  },
  {
   "cell_type": "code",
   "execution_count": 136,
   "metadata": {
    "ExecuteTime": {
     "end_time": "2022-01-21T13:43:03.697203Z",
     "start_time": "2022-01-21T13:43:03.697203Z"
    },
    "execution": {
     "iopub.execute_input": "2023-09-17T13:19:25.820671Z",
     "iopub.status.busy": "2023-09-17T13:19:25.820354Z",
     "iopub.status.idle": "2023-09-17T13:19:25.825041Z",
     "shell.execute_reply": "2023-09-17T13:19:25.824274Z",
     "shell.execute_reply.started": "2023-09-17T13:19:25.820641Z"
    }
   },
   "outputs": [
    {
     "name": "stdout",
     "output_type": "stream",
     "text": [
      "Nominal: 1,000\n"
     ]
    }
   ],
   "source": [
    "cor_cashflow.set_nominal(1_000)\n",
    "print(f\"Nominal: {cor_cashflow.get_nominal():,.0f}\")"
   ]
  },
  {
   "cell_type": "code",
   "execution_count": 137,
   "metadata": {
    "ExecuteTime": {
     "end_time": "2022-01-21T13:43:03.698200Z",
     "start_time": "2022-01-21T13:43:03.698200Z"
    },
    "execution": {
     "iopub.execute_input": "2023-09-17T13:19:25.832963Z",
     "iopub.status.busy": "2023-09-17T13:19:25.832620Z",
     "iopub.status.idle": "2023-09-17T13:19:25.838718Z",
     "shell.execute_reply": "2023-09-17T13:19:25.837548Z",
     "shell.execute_reply.started": "2023-09-17T13:19:25.832933Z"
    }
   },
   "outputs": [
    {
     "data": {
      "text/plain": [
       "0.0"
      ]
     },
     "execution_count": 137,
     "metadata": {},
     "output_type": "execute_result"
    }
   ],
   "source": [
    "cor_cashflow.set_amortization(0)\n",
    "cor_cashflow.get_amortization()"
   ]
  },
  {
   "cell_type": "markdown",
   "metadata": {},
   "source": [
    "Se reversa el ejemplo."
   ]
  },
  {
   "cell_type": "code",
   "execution_count": 138,
   "metadata": {
    "ExecuteTime": {
     "end_time": "2022-01-21T13:43:03.699197Z",
     "start_time": "2022-01-21T13:43:03.699197Z"
    },
    "execution": {
     "iopub.execute_input": "2023-09-17T13:19:25.840923Z",
     "iopub.status.busy": "2023-09-17T13:19:25.840342Z",
     "iopub.status.idle": "2023-09-17T13:19:25.844397Z",
     "shell.execute_reply": "2023-09-17T13:19:25.843589Z",
     "shell.execute_reply.started": "2023-09-17T13:19:25.840894Z"
    }
   },
   "outputs": [],
   "source": [
    "cor_cashflow.set_nominal(10_000_000.0)\n",
    "cor_cashflow.set_amortization(100_000.0)"
   ]
  },
  {
   "cell_type": "markdown",
   "metadata": {},
   "source": [
    "#### Accrued Fixing"
   ]
  },
  {
   "cell_type": "markdown",
   "metadata": {},
   "source": [
    "Para el cálculo de `accrued_fixing` se requiere un objeto de tipo `TimeSeries` que contenga los datos históricos del índice overnight."
   ]
  },
  {
   "cell_type": "code",
   "execution_count": 139,
   "metadata": {
    "ExecuteTime": {
     "end_time": "2022-01-21T13:43:03.700195Z",
     "start_time": "2022-01-21T13:43:03.700195Z"
    },
    "execution": {
     "iopub.execute_input": "2023-09-17T13:19:25.847980Z",
     "iopub.status.busy": "2023-09-17T13:19:25.847645Z",
     "iopub.status.idle": "2023-09-17T13:19:26.131287Z",
     "shell.execute_reply": "2023-09-17T13:19:26.128287Z",
     "shell.execute_reply.started": "2023-09-17T13:19:25.847952Z"
    }
   },
   "outputs": [
    {
     "ename": "ValueError",
     "evalue": "A TimeSeries object with overnight rate values is needed.",
     "output_type": "error",
     "traceback": [
      "\u001b[0;31m---------------------------------------------------------------------------\u001b[0m",
      "\u001b[0;31mValueError\u001b[0m                                Traceback (most recent call last)",
      "Cell \u001b[0;32mIn[139], line 1\u001b[0m\n\u001b[0;32m----> 1\u001b[0m \u001b[43mcor_cashflow\u001b[49m\u001b[38;5;241;43m.\u001b[39;49m\u001b[43maccrued_fixing\u001b[49m\u001b[43m(\u001b[49m\u001b[43mqcf\u001b[49m\u001b[38;5;241;43m.\u001b[39;49m\u001b[43mQCDate\u001b[49m\u001b[43m(\u001b[49m\u001b[38;5;241;43m29\u001b[39;49m\u001b[43m,\u001b[49m\u001b[43m \u001b[49m\u001b[38;5;241;43m12\u001b[39;49m\u001b[43m,\u001b[49m\u001b[43m \u001b[49m\u001b[38;5;241;43m2021\u001b[39;49m\u001b[43m)\u001b[49m\u001b[43m)\u001b[49m\n",
      "\u001b[0;31mValueError\u001b[0m: A TimeSeries object with overnight rate values is needed."
     ]
    }
   ],
   "source": [
    "cor_cashflow.accrued_fixing(qcf.QCDate(29, 12, 2021))"
   ]
  },
  {
   "cell_type": "code",
   "execution_count": 140,
   "metadata": {
    "ExecuteTime": {
     "end_time": "2022-01-21T13:43:03.701192Z",
     "start_time": "2022-01-21T13:43:03.701192Z"
    },
    "execution": {
     "iopub.execute_input": "2023-09-17T13:20:06.831735Z",
     "iopub.status.busy": "2023-09-17T13:20:06.831391Z",
     "iopub.status.idle": "2023-09-17T13:20:06.835827Z",
     "shell.execute_reply": "2023-09-17T13:20:06.834888Z",
     "shell.execute_reply.started": "2023-09-17T13:20:06.831706Z"
    }
   },
   "outputs": [],
   "source": [
    "ts = qcf.time_series()"
   ]
  },
  {
   "cell_type": "code",
   "execution_count": 141,
   "metadata": {
    "ExecuteTime": {
     "end_time": "2022-01-21T13:43:03.702189Z",
     "start_time": "2022-01-21T13:43:03.702189Z"
    },
    "execution": {
     "iopub.execute_input": "2023-09-17T13:20:06.838002Z",
     "iopub.status.busy": "2023-09-17T13:20:06.837610Z",
     "iopub.status.idle": "2023-09-17T13:20:06.842866Z",
     "shell.execute_reply": "2023-09-17T13:20:06.841960Z",
     "shell.execute_reply.started": "2023-09-17T13:20:06.837973Z"
    }
   },
   "outputs": [],
   "source": [
    "ts[qcf.QCDate(27, 12, 2021)] = 0.01\n",
    "ts[qcf.QCDate(28, 12, 2021)] = 0.02\n",
    "ts[qcf.QCDate(29, 12, 2021)] = 0.03\n",
    "ts[qcf.QCDate(30, 12, 2021)] = 0.04"
   ]
  },
  {
   "cell_type": "code",
   "execution_count": 142,
   "metadata": {
    "ExecuteTime": {
     "end_time": "2022-01-21T13:43:03.703186Z",
     "start_time": "2022-01-21T13:43:03.703186Z"
    },
    "execution": {
     "iopub.execute_input": "2023-09-17T13:20:06.844322Z",
     "iopub.status.busy": "2023-09-17T13:20:06.843792Z",
     "iopub.status.idle": "2023-09-17T13:20:06.848470Z",
     "shell.execute_reply": "2023-09-17T13:20:06.847609Z",
     "shell.execute_reply.started": "2023-09-17T13:20:06.844291Z"
    }
   },
   "outputs": [
    {
     "name": "stdout",
     "output_type": "stream",
     "text": [
      "Accrued fixing: 1.500028%\n"
     ]
    }
   ],
   "source": [
    "print(f\"Accrued fixing: {cor_cashflow.accrued_fixing(qcf.QCDate(29, 12, 2021), ts):.6%}\")"
   ]
  },
  {
   "cell_type": "code",
   "execution_count": 143,
   "metadata": {
    "ExecuteTime": {
     "end_time": "2022-01-21T13:43:03.704184Z",
     "start_time": "2022-01-21T13:43:03.704184Z"
    },
    "execution": {
     "iopub.execute_input": "2023-09-17T13:20:06.851526Z",
     "iopub.status.busy": "2023-09-17T13:20:06.851226Z",
     "iopub.status.idle": "2023-09-17T13:20:06.855695Z",
     "shell.execute_reply": "2023-09-17T13:20:06.854820Z",
     "shell.execute_reply.started": "2023-09-17T13:20:06.851497Z"
    }
   },
   "outputs": [
    {
     "name": "stdout",
     "output_type": "stream",
     "text": [
      "Check: 1.500028%\n"
     ]
    }
   ],
   "source": [
    "check = ((1 + 0.01 / 360) * (1 + 0.02 / 360.0) - 1) * 360 / 2.0\n",
    "print(f\"Check: {check:.6%}\")"
   ]
  },
  {
   "cell_type": "markdown",
   "metadata": {},
   "source": [
    "#### Accrued Interest"
   ]
  },
  {
   "cell_type": "markdown",
   "metadata": {},
   "source": [
    "Para el cálculo de `accrued_interest` se requiere un objeto de tipo `TimeSeries` que contenga los datos históricos del índice overnight."
   ]
  },
  {
   "cell_type": "code",
   "execution_count": 144,
   "metadata": {
    "ExecuteTime": {
     "end_time": "2022-01-21T13:43:03.705181Z",
     "start_time": "2022-01-21T13:43:03.705181Z"
    },
    "execution": {
     "iopub.execute_input": "2023-09-17T13:20:06.857150Z",
     "iopub.status.busy": "2023-09-17T13:20:06.856798Z",
     "iopub.status.idle": "2023-09-17T13:20:06.876461Z",
     "shell.execute_reply": "2023-09-17T13:20:06.874128Z",
     "shell.execute_reply.started": "2023-09-17T13:20:06.857123Z"
    }
   },
   "outputs": [
    {
     "ename": "ValueError",
     "evalue": "A TimeSeries object with overnight rate values is needed.",
     "output_type": "error",
     "traceback": [
      "\u001b[0;31m---------------------------------------------------------------------------\u001b[0m",
      "\u001b[0;31mValueError\u001b[0m                                Traceback (most recent call last)",
      "Cell \u001b[0;32mIn[144], line 1\u001b[0m\n\u001b[0;32m----> 1\u001b[0m \u001b[43mcor_cashflow\u001b[49m\u001b[38;5;241;43m.\u001b[39;49m\u001b[43maccrued_interest\u001b[49m\u001b[43m(\u001b[49m\u001b[43mqcf\u001b[49m\u001b[38;5;241;43m.\u001b[39;49m\u001b[43mQCDate\u001b[49m\u001b[43m(\u001b[49m\u001b[38;5;241;43m29\u001b[39;49m\u001b[43m,\u001b[49m\u001b[43m \u001b[49m\u001b[38;5;241;43m12\u001b[39;49m\u001b[43m,\u001b[49m\u001b[43m \u001b[49m\u001b[38;5;241;43m2021\u001b[39;49m\u001b[43m)\u001b[49m\u001b[43m)\u001b[49m\n",
      "\u001b[0;31mValueError\u001b[0m: A TimeSeries object with overnight rate values is needed."
     ]
    }
   ],
   "source": [
    "cor_cashflow.accrued_interest(qcf.QCDate(29, 12, 2021))"
   ]
  },
  {
   "cell_type": "code",
   "execution_count": 145,
   "metadata": {
    "ExecuteTime": {
     "end_time": "2022-01-21T13:43:03.706179Z",
     "start_time": "2022-01-21T13:43:03.706179Z"
    },
    "execution": {
     "iopub.execute_input": "2023-09-17T13:20:13.212450Z",
     "iopub.status.busy": "2023-09-17T13:20:13.212062Z",
     "iopub.status.idle": "2023-09-17T13:20:13.217462Z",
     "shell.execute_reply": "2023-09-17T13:20:13.216415Z",
     "shell.execute_reply.started": "2023-09-17T13:20:13.212419Z"
    }
   },
   "outputs": [
    {
     "name": "stdout",
     "output_type": "stream",
     "text": [
      "Accrued interest: 888.90\n"
     ]
    }
   ],
   "source": [
    "print(f\"Accrued interest: {cor_cashflow.accrued_interest(qcf.QCDate(29, 12, 2021), ts):,.2f}\")"
   ]
  },
  {
   "cell_type": "code",
   "execution_count": 146,
   "metadata": {
    "ExecuteTime": {
     "end_time": "2022-01-21T13:43:03.707176Z",
     "start_time": "2022-01-21T13:43:03.707176Z"
    },
    "execution": {
     "iopub.execute_input": "2023-09-17T13:20:13.219502Z",
     "iopub.status.busy": "2023-09-17T13:20:13.219186Z",
     "iopub.status.idle": "2023-09-17T13:20:13.224014Z",
     "shell.execute_reply": "2023-09-17T13:20:13.223081Z",
     "shell.execute_reply.started": "2023-09-17T13:20:13.219474Z"
    }
   },
   "outputs": [
    {
     "name": "stdout",
     "output_type": "stream",
     "text": [
      "Check: 888.90\n"
     ]
    }
   ],
   "source": [
    "check = (\n",
    "    cor_cashflow.get_nominal()\n",
    "    * (cor_cashflow.accrued_fixing(qcf.QCDate(29, 12, 2021), ts) + spread)\n",
    "    * 2\n",
    "    / 360.0\n",
    ")\n",
    "print(f\"Check: {check:,.2f}\")"
   ]
  },
  {
   "cell_type": "code",
   "execution_count": 147,
   "metadata": {
    "ExecuteTime": {
     "end_time": "2022-01-21T13:43:03.708174Z",
     "start_time": "2022-01-21T13:43:03.708174Z"
    },
    "execution": {
     "iopub.execute_input": "2023-09-17T13:20:13.225535Z",
     "iopub.status.busy": "2023-09-17T13:20:13.225064Z",
     "iopub.status.idle": "2023-09-17T13:20:13.229370Z",
     "shell.execute_reply": "2023-09-17T13:20:13.228485Z",
     "shell.execute_reply.started": "2023-09-17T13:20:13.225509Z"
    }
   },
   "outputs": [
    {
     "name": "stdout",
     "output_type": "stream",
     "text": [
      "Amount: 100,111.11\n"
     ]
    }
   ],
   "source": [
    "print(f\"Amount: {cor_cashflow.amount():,.2f}\")"
   ]
  },
  {
   "cell_type": "code",
   "execution_count": 148,
   "metadata": {
    "ExecuteTime": {
     "end_time": "2022-01-21T13:43:03.710168Z",
     "start_time": "2022-01-21T13:43:03.710168Z"
    },
    "execution": {
     "iopub.execute_input": "2023-09-17T13:20:13.232524Z",
     "iopub.status.busy": "2023-09-17T13:20:13.232234Z",
     "iopub.status.idle": "2023-09-17T13:20:13.237652Z",
     "shell.execute_reply": "2023-09-17T13:20:13.236851Z",
     "shell.execute_reply.started": "2023-09-17T13:20:13.232496Z"
    }
   },
   "outputs": [
    {
     "data": {
      "text/plain": [
       "'2021-12-31'"
      ]
     },
     "execution_count": 148,
     "metadata": {},
     "output_type": "execute_result"
    }
   ],
   "source": [
    "cor_cashflow.date().description(False)"
   ]
  },
  {
   "cell_type": "code",
   "execution_count": 149,
   "metadata": {
    "ExecuteTime": {
     "end_time": "2022-01-21T13:43:03.711165Z",
     "start_time": "2022-01-21T13:43:03.711165Z"
    },
    "execution": {
     "iopub.execute_input": "2023-09-17T13:20:13.239005Z",
     "iopub.status.busy": "2023-09-17T13:20:13.238580Z",
     "iopub.status.idle": "2023-09-17T13:20:13.257095Z",
     "shell.execute_reply": "2023-09-17T13:20:13.255468Z",
     "shell.execute_reply.started": "2023-09-17T13:20:13.238981Z"
    }
   },
   "outputs": [
    {
     "ename": "ValueError",
     "evalue": "A TimeSeries object with overnight rate values is needed.",
     "output_type": "error",
     "traceback": [
      "\u001b[0;31m---------------------------------------------------------------------------\u001b[0m",
      "\u001b[0;31mValueError\u001b[0m                                Traceback (most recent call last)",
      "Cell \u001b[0;32mIn[149], line 1\u001b[0m\n\u001b[0;32m----> 1\u001b[0m \u001b[43mcor_cashflow\u001b[49m\u001b[38;5;241;43m.\u001b[39;49m\u001b[43mfixing\u001b[49m\u001b[43m(\u001b[49m\u001b[43m)\u001b[49m\n",
      "\u001b[0;31mValueError\u001b[0m: A TimeSeries object with overnight rate values is needed."
     ]
    }
   ],
   "source": [
    "cor_cashflow.fixing()"
   ]
  },
  {
   "cell_type": "code",
   "execution_count": 150,
   "metadata": {
    "ExecuteTime": {
     "end_time": "2022-01-21T13:43:03.712162Z",
     "start_time": "2022-01-21T13:43:03.712162Z"
    },
    "execution": {
     "iopub.execute_input": "2023-09-17T13:20:24.774367Z",
     "iopub.status.busy": "2023-09-17T13:20:24.774028Z",
     "iopub.status.idle": "2023-09-17T13:20:24.778741Z",
     "shell.execute_reply": "2023-09-17T13:20:24.777739Z",
     "shell.execute_reply.started": "2023-09-17T13:20:24.774337Z"
    }
   },
   "outputs": [
    {
     "name": "stdout",
     "output_type": "stream",
     "text": [
      "Interest: 111.11\n"
     ]
    }
   ],
   "source": [
    "print(f\"Interest: {cor_cashflow.interest():,.2f}\")"
   ]
  },
  {
   "cell_type": "code",
   "execution_count": 151,
   "metadata": {
    "ExecuteTime": {
     "end_time": "2022-01-21T13:43:03.713161Z",
     "start_time": "2022-01-21T13:43:03.713161Z"
    },
    "execution": {
     "iopub.execute_input": "2023-09-17T13:20:25.396891Z",
     "iopub.status.busy": "2023-09-17T13:20:25.396553Z",
     "iopub.status.idle": "2023-09-17T13:20:25.402724Z",
     "shell.execute_reply": "2023-09-17T13:20:25.401674Z",
     "shell.execute_reply.started": "2023-09-17T13:20:25.396862Z"
    }
   },
   "outputs": [
    {
     "data": {
      "text/plain": [
       "False"
      ]
     },
     "execution_count": 151,
     "metadata": {},
     "output_type": "execute_result"
    }
   ],
   "source": [
    "cor_cashflow.is_expired(qcf.QCDate(29, 12, 2021))"
   ]
  },
  {
   "cell_type": "code",
   "execution_count": 152,
   "metadata": {
    "ExecuteTime": {
     "end_time": "2022-01-21T13:43:03.714157Z",
     "start_time": "2022-01-21T13:43:03.714157Z"
    },
    "execution": {
     "iopub.execute_input": "2023-09-17T13:20:25.592698Z",
     "iopub.status.busy": "2023-09-17T13:20:25.592356Z",
     "iopub.status.idle": "2023-09-17T13:20:25.598422Z",
     "shell.execute_reply": "2023-09-17T13:20:25.597546Z",
     "shell.execute_reply.started": "2023-09-17T13:20:25.592669Z"
    }
   },
   "outputs": [
    {
     "data": {
      "text/plain": [
       "True"
      ]
     },
     "execution_count": 152,
     "metadata": {},
     "output_type": "execute_result"
    }
   ],
   "source": [
    "cor_cashflow.is_expired(qcf.QCDate(31, 12, 2021))"
   ]
  },
  {
   "cell_type": "code",
   "execution_count": 153,
   "metadata": {
    "ExecuteTime": {
     "end_time": "2022-01-21T13:43:03.716152Z",
     "start_time": "2022-01-21T13:43:03.716152Z"
    },
    "execution": {
     "iopub.execute_input": "2023-09-17T13:20:25.784787Z",
     "iopub.status.busy": "2023-09-17T13:20:25.784436Z",
     "iopub.status.idle": "2023-09-17T13:20:25.790642Z",
     "shell.execute_reply": "2023-09-17T13:20:25.789629Z",
     "shell.execute_reply.started": "2023-09-17T13:20:25.784757Z"
    }
   },
   "outputs": [
    {
     "data": {
      "text/plain": [
       "True"
      ]
     },
     "execution_count": 153,
     "metadata": {},
     "output_type": "execute_result"
    }
   ],
   "source": [
    "cor_cashflow.is_expired(qcf.QCDate(1, 1, 2022))"
   ]
  },
  {
   "cell_type": "code",
   "execution_count": 154,
   "metadata": {
    "execution": {
     "iopub.execute_input": "2023-09-17T13:20:26.643530Z",
     "iopub.status.busy": "2023-09-17T13:20:26.643165Z",
     "iopub.status.idle": "2023-09-17T13:20:26.649375Z",
     "shell.execute_reply": "2023-09-17T13:20:26.648350Z",
     "shell.execute_reply.started": "2023-09-17T13:20:26.643499Z"
    }
   },
   "outputs": [
    {
     "data": {
      "text/plain": [
       "'CompoundedOvernightRateCashflow'"
      ]
     },
     "execution_count": 154,
     "metadata": {},
     "output_type": "execute_result"
    }
   ],
   "source": [
    "cor_cashflow.get_type()"
   ]
  },
  {
   "cell_type": "code",
   "execution_count": 155,
   "metadata": {
    "execution": {
     "iopub.execute_input": "2023-09-17T13:20:27.600454Z",
     "iopub.status.busy": "2023-09-17T13:20:27.600115Z",
     "iopub.status.idle": "2023-09-17T13:20:27.606459Z",
     "shell.execute_reply": "2023-09-17T13:20:27.605466Z",
     "shell.execute_reply.started": "2023-09-17T13:20:27.600425Z"
    }
   },
   "outputs": [
    {
     "data": {
      "text/plain": [
       "('2021-12-27',\n",
       " '2021-12-31',\n",
       " '2021-12-31',\n",
       " 10000000.0,\n",
       " 100000.0,\n",
       " 888.9044444448934,\n",
       " True,\n",
       " 100111.11111111184,\n",
       " 'CLP',\n",
       " 'OITEST',\n",
       " 0.0,\n",
       " 0.001,\n",
       " 1.0,\n",
       " 'LinAct360')"
      ]
     },
     "execution_count": 155,
     "metadata": {},
     "output_type": "execute_result"
    }
   ],
   "source": [
    "qcf.show(cor_cashflow)"
   ]
  }
 ],
 "metadata": {
  "hide_input": false,
  "kernelspec": {
   "display_name": "Python 3 (ipykernel)",
   "language": "python",
   "name": "python3"
  },
  "language_info": {
   "codemirror_mode": {
    "name": "ipython",
    "version": 3
   },
   "file_extension": ".py",
   "mimetype": "text/x-python",
   "name": "python",
   "nbconvert_exporter": "python",
   "pygments_lexer": "ipython3",
   "version": "3.11.5"
  },
  "toc": {
   "base_numbering": 1,
   "nav_menu": {},
   "number_sections": true,
   "sideBar": true,
   "skip_h1_title": true,
   "title_cell": "Table of Contents",
   "title_sidebar": "Contenido",
   "toc_cell": false,
   "toc_position": {
    "height": "675.455px",
    "left": "284px",
    "top": "282.284px",
    "width": "235px"
   },
   "toc_section_display": true,
   "toc_window_display": true
  },
  "varInspector": {
   "cols": {
    "lenName": 16,
    "lenType": 16,
    "lenVar": 40
   },
   "kernels_config": {
    "python": {
     "delete_cmd_postfix": "",
     "delete_cmd_prefix": "del ",
     "library": "var_list.py",
     "varRefreshCmd": "print(var_dic_list())"
    },
    "r": {
     "delete_cmd_postfix": ") ",
     "delete_cmd_prefix": "rm(",
     "library": "var_list.r",
     "varRefreshCmd": "cat(var_dic_list()) "
    }
   },
   "types_to_exclude": [
    "module",
    "function",
    "builtin_function_or_method",
    "instance",
    "_Feature"
   ],
   "window_display": false
  }
 },
 "nbformat": 4,
 "nbformat_minor": 4
}
