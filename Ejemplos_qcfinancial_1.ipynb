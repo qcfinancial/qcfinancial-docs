{
 "cells": [
  {
   "cell_type": "markdown",
   "metadata": {},
   "source": [
    "# Objetos Fundamentales"
   ]
  },
  {
   "cell_type": "markdown",
   "metadata": {},
   "source": [
    "Para ejecutar todos los ejemplos se debe importar la librería. Se sugiere utilizar siempre el alias `qcf`. "
   ]
  },
  {
   "cell_type": "code",
   "execution_count": 3,
   "metadata": {
    "ExecuteTime": {
     "end_time": "2024-01-04T22:24:44.036475Z",
     "start_time": "2024-01-04T22:24:36.071911Z"
    },
    "execution": {
     "iopub.execute_input": "2023-11-15T15:38:58.606985Z",
     "iopub.status.busy": "2023-11-15T15:38:58.606896Z",
     "iopub.status.idle": "2023-11-15T15:39:01.268229Z",
     "shell.execute_reply": "2023-11-15T15:39:01.267445Z",
     "shell.execute_reply.started": "2023-11-15T15:38:58.606975Z"
    }
   },
   "outputs": [],
   "source": [
    "import qcfinancial as qcf\n",
    "import pandas as pd"
   ]
  },
  {
   "cell_type": "markdown",
   "metadata": {},
   "source": [
    "## Monedas"
   ]
  },
  {
   "cell_type": "markdown",
   "metadata": {},
   "source": [
    "Objetos para representar una divisa. En estos momentos sólo las siguientes divisas están implementadas:\n",
    "\n",
    "- BRL\n",
    "- CAD\n",
    "- CLF (esta es una representación del índice de inflación chileno UF como divisa)\n",
    "- CLP\n",
    "- EUR\n",
    "- GBP\n",
    "- JPY\n",
    "- MXN\n",
    "- USD\n",
    "\n",
    "Si se requiere otra, solicitarlo ingresando un *issue* en el [git repo](https://github.com/adiaz-efaa/derivative-valuation-engine) del proyecto."
   ]
  },
  {
   "cell_type": "markdown",
   "metadata": {},
   "source": [
    "El constructor por default retorna USD."
   ]
  },
  {
   "cell_type": "code",
   "execution_count": 4,
   "metadata": {
    "ExecuteTime": {
     "end_time": "2024-01-04T22:24:44.323481Z",
     "start_time": "2024-01-04T22:24:44.024823Z"
    },
    "execution": {
     "iopub.execute_input": "2023-11-15T15:39:01.270890Z",
     "iopub.status.busy": "2023-11-15T15:39:01.270215Z",
     "iopub.status.idle": "2023-11-15T15:39:01.280829Z",
     "shell.execute_reply": "2023-11-15T15:39:01.280103Z",
     "shell.execute_reply.started": "2023-11-15T15:39:01.270841Z"
    }
   },
   "outputs": [
    {
     "data": {
      "text/plain": [
       "'USD'"
      ]
     },
     "execution_count": 4,
     "metadata": {},
     "output_type": "execute_result"
    }
   ],
   "source": [
    "x = qcf.QCCurrency()\n",
    "x.get_iso_code()"
   ]
  },
  {
   "cell_type": "markdown",
   "metadata": {},
   "source": [
    "Alta de divisas CLP, USD y JPY (USD se puede instanciar también de forma explícita)."
   ]
  },
  {
   "cell_type": "code",
   "execution_count": 5,
   "metadata": {
    "ExecuteTime": {
     "end_time": "2024-01-04T22:24:44.633143Z",
     "start_time": "2024-01-04T22:24:44.303663Z"
    },
    "execution": {
     "iopub.execute_input": "2023-11-15T15:39:01.282405Z",
     "iopub.status.busy": "2023-11-15T15:39:01.282121Z",
     "iopub.status.idle": "2023-11-15T15:39:01.286117Z",
     "shell.execute_reply": "2023-11-15T15:39:01.285278Z",
     "shell.execute_reply.started": "2023-11-15T15:39:01.282388Z"
    }
   },
   "outputs": [],
   "source": [
    "clp = qcf.QCCLP()\n",
    "usd = qcf.QCUSD()\n",
    "jpy = qcf.QCJPY()\n",
    "monedas = [clp, usd, jpy]"
   ]
  },
  {
   "cell_type": "markdown",
   "metadata": {},
   "source": [
    "### Métodos: `get_name`, `get_iso_code`, `get_iso_number`, `get_decimal_places` y `amount`."
   ]
  },
  {
   "cell_type": "markdown",
   "metadata": {},
   "source": [
    "El método `amount`debe utilizarse cuando se debe pagar o recibir un monto resultado de un cálculo. De esta forma, el monto se redondea al número correcto de decimales en la divisa (que se obtiene con `get_decimal_places`). Por ejemplo, en CLP, se redondea a 0 decimales ya que en esta divisa no se utilizan los centavos."
   ]
  },
  {
   "cell_type": "code",
   "execution_count": 6,
   "metadata": {
    "ExecuteTime": {
     "end_time": "2024-01-04T22:24:44.992030Z",
     "start_time": "2024-01-04T22:24:44.621999Z"
    },
    "execution": {
     "iopub.execute_input": "2023-11-15T15:39:01.288453Z",
     "iopub.status.busy": "2023-11-15T15:39:01.288179Z",
     "iopub.status.idle": "2023-11-15T15:39:01.294656Z",
     "shell.execute_reply": "2023-11-15T15:39:01.294045Z",
     "shell.execute_reply.started": "2023-11-15T15:39:01.288433Z"
    }
   },
   "outputs": [
    {
     "name": "stdout",
     "output_type": "stream",
     "text": [
      "Nombre: Chilean Peso\n",
      "Código ISO: CLP\n",
      "Número ISO: 152\n",
      "Número de decimales: 0\n",
      "Cantidad 100.123456 con el número correcto de decimales: 100.0\n",
      "\n",
      "Nombre: U. S. Dollar\n",
      "Código ISO: USD\n",
      "Número ISO: 840\n",
      "Número de decimales: 2\n",
      "Cantidad 100.123456 con el número correcto de decimales: 100.12\n",
      "\n",
      "Nombre: Japanese Yen\n",
      "Código ISO: JPY\n",
      "Número ISO: 392\n",
      "Número de decimales: 2\n",
      "Cantidad 100.123456 con el número correcto de decimales: 100.12\n"
     ]
    }
   ],
   "source": [
    "cantidad = 100.123456\n",
    "for moneda in monedas:\n",
    "    print(\"Nombre: {}\".format(moneda.get_name()))\n",
    "    print(\"Código ISO: {}\".format(moneda.get_iso_code()))\n",
    "    print(\"Número ISO: {}\".format(moneda.get_iso_number()))\n",
    "    print(\"Número de decimales: {}\".format(moneda.get_decimal_places()))\n",
    "    print(\n",
    "        \"Cantidad {} con el número correcto de decimales: {}\".format(\n",
    "            cantidad, moneda.amount(100.123456)\n",
    "        )\n",
    "    )\n",
    "    print()"
   ]
  },
  {
   "cell_type": "markdown",
   "metadata": {},
   "source": [
    "## Fechas\n",
    "Las fechas se representan con objetos de tipo QCDate. Para inicializar un QCDate se requiere el día, el mes y el año de la fecha.  También se puede inicializar sin valor (default constructor) en cuyo caso se obtendrá el 12-1-1969."
   ]
  },
  {
   "cell_type": "markdown",
   "metadata": {},
   "source": [
    "### Constructores"
   ]
  },
  {
   "cell_type": "markdown",
   "metadata": {},
   "source": [
    "Inicializar sin valor. Se muestra además los métodos `description()` y `__str__()`."
   ]
  },
  {
   "cell_type": "code",
   "execution_count": 7,
   "metadata": {
    "ExecuteTime": {
     "end_time": "2024-01-04T22:24:45.265198Z",
     "start_time": "2024-01-04T22:24:44.973441Z"
    },
    "execution": {
     "iopub.execute_input": "2023-11-15T15:39:01.295806Z",
     "iopub.status.busy": "2023-11-15T15:39:01.295561Z",
     "iopub.status.idle": "2023-11-15T15:39:01.298804Z",
     "shell.execute_reply": "2023-11-15T15:39:01.298302Z",
     "shell.execute_reply.started": "2023-11-15T15:39:01.295790Z"
    }
   },
   "outputs": [
    {
     "name": "stdout",
     "output_type": "stream",
     "text": [
      "12-01-1969\n",
      "1969-01-12\n",
      "1969-01-12\n"
     ]
    }
   ],
   "source": [
    "fecha = qcf.QCDate()\n",
    "print(fecha.description(True))\n",
    "print(fecha.description(False))\n",
    "print(fecha)"
   ]
  },
  {
   "cell_type": "markdown",
   "metadata": {},
   "source": [
    "Inicializar con una fecha específica. En este caso, el contructor realiza una validación de los parámetros iniciales."
   ]
  },
  {
   "cell_type": "code",
   "execution_count": 8,
   "metadata": {
    "ExecuteTime": {
     "end_time": "2024-01-04T22:24:45.626921Z",
     "start_time": "2024-01-04T22:24:45.244309Z"
    },
    "execution": {
     "iopub.execute_input": "2023-11-15T15:39:01.301353Z",
     "iopub.status.busy": "2023-11-15T15:39:01.301207Z",
     "iopub.status.idle": "2023-11-15T15:39:01.303971Z",
     "shell.execute_reply": "2023-11-15T15:39:01.303543Z",
     "shell.execute_reply.started": "2023-11-15T15:39:01.301341Z"
    }
   },
   "outputs": [
    {
     "name": "stdout",
     "output_type": "stream",
     "text": [
      "Método description: 14-09-2018\n",
      "Print de Python: 2018-09-14\n"
     ]
    }
   ],
   "source": [
    "fecha1 = qcf.QCDate(14, 9, 2018)  # día, mes, año\n",
    "print(\"Método description: {}\".format(fecha1.description(True)))\n",
    "print(\"Print de Python: {}\".format(fecha1))"
   ]
  },
  {
   "cell_type": "markdown",
   "metadata": {},
   "source": [
    "Error al tratar de construir una fecha inválida."
   ]
  },
  {
   "cell_type": "code",
   "execution_count": 9,
   "metadata": {
    "ExecuteTime": {
     "end_time": "2024-01-04T22:24:45.966436Z",
     "start_time": "2024-01-04T22:24:45.609240Z"
    },
    "execution": {
     "iopub.execute_input": "2023-11-15T15:39:01.305845Z",
     "iopub.status.busy": "2023-11-15T15:39:01.305760Z",
     "iopub.status.idle": "2023-11-15T15:39:01.308426Z",
     "shell.execute_reply": "2023-11-15T15:39:01.308046Z",
     "shell.execute_reply.started": "2023-11-15T15:39:01.305835Z"
    }
   },
   "outputs": [
    {
     "name": "stdout",
     "output_type": "stream",
     "text": [
      "Invalid day for month = 2\n"
     ]
    }
   ],
   "source": [
    "try:\n",
    "    fecha0 = qcf.QCDate(31, 2, 2018)  # ¡¡¡ 31 de febrero !!!\n",
    "except ValueError as e:\n",
    "    print(e)"
   ]
  },
  {
   "cell_type": "markdown",
   "metadata": {},
   "source": [
    "### Getters y Setters"
   ]
  },
  {
   "cell_type": "code",
   "execution_count": 10,
   "metadata": {
    "ExecuteTime": {
     "end_time": "2024-01-04T22:24:46.338256Z",
     "start_time": "2024-01-04T22:24:45.944835Z"
    },
    "execution": {
     "iopub.execute_input": "2023-11-15T15:39:01.308975Z",
     "iopub.status.busy": "2023-11-15T15:39:01.308878Z",
     "iopub.status.idle": "2023-11-15T15:39:01.311252Z",
     "shell.execute_reply": "2023-11-15T15:39:01.310917Z",
     "shell.execute_reply.started": "2023-11-15T15:39:01.308965Z"
    }
   },
   "outputs": [
    {
     "name": "stdout",
     "output_type": "stream",
     "text": [
      "Fecha: 17-10-2019\n"
     ]
    }
   ],
   "source": [
    "# Métodos: set_day, set_month, set_year\n",
    "fecha1.set_day(17)\n",
    "fecha1.set_month(10)\n",
    "fecha1.set_year(2019)\n",
    "print(\"Fecha: {}\".format(fecha1.description(True)))"
   ]
  },
  {
   "cell_type": "code",
   "execution_count": 11,
   "metadata": {
    "ExecuteTime": {
     "end_time": "2024-01-04T22:24:46.654841Z",
     "start_time": "2024-01-04T22:24:46.318560Z"
    },
    "execution": {
     "iopub.execute_input": "2023-11-15T15:39:01.311865Z",
     "iopub.status.busy": "2023-11-15T15:39:01.311746Z",
     "iopub.status.idle": "2023-11-15T15:39:01.314149Z",
     "shell.execute_reply": "2023-11-15T15:39:01.313717Z",
     "shell.execute_reply.started": "2023-11-15T15:39:01.311856Z"
    }
   },
   "outputs": [
    {
     "name": "stdout",
     "output_type": "stream",
     "text": [
      "Día: 17\n",
      "Mes: 10\n",
      "Año: 2019\n"
     ]
    }
   ],
   "source": [
    "# Métodos day, month, year, weekday\n",
    "print(\"Día: {}\".format(fecha1.day()))\n",
    "print(\"Mes: {}\".format(fecha1.month()))\n",
    "print(\"Año: {}\".format(fecha1.year()))"
   ]
  },
  {
   "cell_type": "markdown",
   "metadata": {},
   "source": [
    "### Método `week_day`"
   ]
  },
  {
   "cell_type": "markdown",
   "metadata": {},
   "source": [
    "Retorna una variable de tipo `enum QC_Financial.WeekDay` que representa el día de la semana que corresponde a la fecha."
   ]
  },
  {
   "cell_type": "code",
   "execution_count": 12,
   "metadata": {
    "ExecuteTime": {
     "end_time": "2024-01-04T22:24:47.025549Z",
     "start_time": "2024-01-04T22:24:46.632673Z"
    },
    "execution": {
     "iopub.execute_input": "2023-11-15T15:39:01.314792Z",
     "iopub.status.busy": "2023-11-15T15:39:01.314645Z",
     "iopub.status.idle": "2023-11-15T15:39:01.317104Z",
     "shell.execute_reply": "2023-11-15T15:39:01.316802Z",
     "shell.execute_reply.started": "2023-11-15T15:39:01.314779Z"
    }
   },
   "outputs": [
    {
     "name": "stdout",
     "output_type": "stream",
     "text": [
      "Tipo del retorno: <class 'qcfinancial.WeekDay'>\n",
      "Día de la semana: WeekDay.THU\n"
     ]
    }
   ],
   "source": [
    "dia_semana = fecha1.week_day()\n",
    "print(\"Tipo del retorno: {}\".format(type(dia_semana)))\n",
    "print(\"Día de la semana: {}\".format(dia_semana))"
   ]
  },
  {
   "cell_type": "markdown",
   "metadata": {},
   "source": [
    "### Método `add_months`"
   ]
  },
  {
   "cell_type": "markdown",
   "metadata": {},
   "source": [
    "Suma **n meses** a `fecha1` y retorna esa nueva fecha sin cambiar el valor de `fecha1`."
   ]
  },
  {
   "cell_type": "code",
   "execution_count": 13,
   "metadata": {
    "ExecuteTime": {
     "end_time": "2024-01-04T22:24:47.366432Z",
     "start_time": "2024-01-04T22:24:46.985900Z"
    },
    "execution": {
     "iopub.execute_input": "2023-11-15T15:39:01.317646Z",
     "iopub.status.busy": "2023-11-15T15:39:01.317529Z",
     "iopub.status.idle": "2023-11-15T15:39:01.319947Z",
     "shell.execute_reply": "2023-11-15T15:39:01.319637Z",
     "shell.execute_reply.started": "2023-11-15T15:39:01.317637Z"
    }
   },
   "outputs": [
    {
     "name": "stdout",
     "output_type": "stream",
     "text": [
      "fecha1: 17-10-2019\n",
      "fecha2: 17-11-2019\n"
     ]
    }
   ],
   "source": [
    "num_meses = 1\n",
    "fecha2 = fecha1.add_months(num_meses)\n",
    "print(\"fecha1: {}\".format(fecha1.description(True)))\n",
    "print(\"fecha2: {}\".format(fecha2.description(True)))"
   ]
  },
  {
   "cell_type": "markdown",
   "metadata": {},
   "source": [
    "### Método `add_days`"
   ]
  },
  {
   "cell_type": "markdown",
   "metadata": {},
   "source": [
    "Suma **n días** a `fecha1` sin cambiar el valor de `fecha1`."
   ]
  },
  {
   "cell_type": "code",
   "execution_count": 14,
   "metadata": {
    "ExecuteTime": {
     "end_time": "2024-01-04T22:24:48.009979Z",
     "start_time": "2024-01-04T22:24:47.342218Z"
    },
    "execution": {
     "iopub.execute_input": "2023-11-15T15:39:01.320322Z",
     "iopub.status.busy": "2023-11-15T15:39:01.320245Z",
     "iopub.status.idle": "2023-11-15T15:39:01.322727Z",
     "shell.execute_reply": "2023-11-15T15:39:01.322441Z",
     "shell.execute_reply.started": "2023-11-15T15:39:01.320314Z"
    }
   },
   "outputs": [
    {
     "name": "stdout",
     "output_type": "stream",
     "text": [
      "fecha1: 17-10-2019\n",
      "fecha3: 16-11-2019\n"
     ]
    }
   ],
   "source": [
    "num_dias = 30\n",
    "fecha3 = fecha1.add_days(num_dias)\n",
    "print(\"fecha1: {}\".format(fecha1.description(True)))\n",
    "print(\"fecha3: {}\".format(fecha3.description(True)))"
   ]
  },
  {
   "cell_type": "markdown",
   "metadata": {},
   "source": [
    "### Método `day_dif`"
   ]
  },
  {
   "cell_type": "markdown",
   "metadata": {},
   "source": [
    "Calcula la diferencia en días con otra fecha. Si la otra fecha es mayor el resultado es positivo, si no, es negativo."
   ]
  },
  {
   "cell_type": "code",
   "execution_count": 15,
   "metadata": {
    "ExecuteTime": {
     "end_time": "2024-01-04T22:24:48.210917Z",
     "start_time": "2024-01-04T22:24:47.968283Z"
    },
    "execution": {
     "iopub.execute_input": "2023-11-15T15:39:01.323288Z",
     "iopub.status.busy": "2023-11-15T15:39:01.323189Z",
     "iopub.status.idle": "2023-11-15T15:39:01.325332Z",
     "shell.execute_reply": "2023-11-15T15:39:01.325039Z",
     "shell.execute_reply.started": "2023-11-15T15:39:01.323280Z"
    }
   },
   "outputs": [
    {
     "name": "stdout",
     "output_type": "stream",
     "text": [
      "fecha1.day_diff(fecha3): 30 (días)\n",
      "fecha3.day_diff(fecha1): -30 (días)\n"
     ]
    }
   ],
   "source": [
    "# Dado que fecha3 > fecha1 entonces el resultado es positivo\n",
    "print(\"fecha1.day_diff(fecha3): {} (días)\".format(fecha1.day_diff(fecha3)))\n",
    "\n",
    "# Se invierten los roles y el resultado es negativo\n",
    "print(\"fecha3.day_diff(fecha1): {} (días)\".format(fecha3.day_diff(fecha1)))"
   ]
  },
  {
   "cell_type": "markdown",
   "metadata": {},
   "source": [
    "### Orden en `QCDate`"
   ]
  },
  {
   "cell_type": "markdown",
   "metadata": {},
   "source": [
    "El orden de `QCDate` permite que las fechas pueden compararse entre si."
   ]
  },
  {
   "cell_type": "code",
   "execution_count": 16,
   "metadata": {
    "ExecuteTime": {
     "end_time": "2024-01-04T22:24:48.732403Z",
     "start_time": "2024-01-04T22:24:48.187220Z"
    },
    "execution": {
     "iopub.execute_input": "2023-11-15T15:39:01.325750Z",
     "iopub.status.busy": "2023-11-15T15:39:01.325675Z",
     "iopub.status.idle": "2023-11-15T15:39:01.328024Z",
     "shell.execute_reply": "2023-11-15T15:39:01.327719Z",
     "shell.execute_reply.started": "2023-11-15T15:39:01.325741Z"
    }
   },
   "outputs": [
    {
     "name": "stdout",
     "output_type": "stream",
     "text": [
      "fecha1: 2019-10-17\n",
      "fecha2: 2019-11-17\n",
      "fecha1 == fecha2: False\n",
      "fecha1 != fecha2: True\n",
      "fecha1 < fecha2: True\n",
      "fecha1 <= fecha2: True\n",
      "fecha1 > fecha2: False\n",
      "fecha1 >= fecha2: False\n"
     ]
    }
   ],
   "source": [
    "print(\"fecha1: {}\".format(fecha1))\n",
    "print(\"fecha2: {}\".format(fecha2))\n",
    "print(\"fecha1 == fecha2: {}\".format(fecha1 == fecha2))\n",
    "print(\"fecha1 != fecha2: {}\".format(fecha1 != fecha2))\n",
    "print(\"fecha1 < fecha2: {}\".format(fecha1 < fecha2))\n",
    "print(\"fecha1 <= fecha2: {}\".format(fecha1 <= fecha2))\n",
    "print(\"fecha1 > fecha2: {}\".format(fecha1 > fecha2))\n",
    "print(\"fecha1 >= fecha2: {}\".format(fecha1 >= fecha2))"
   ]
  },
  {
   "cell_type": "markdown",
   "metadata": {},
   "source": [
    "### Un objeto `QCDate` es *hashable*"
   ]
  },
  {
   "cell_type": "markdown",
   "metadata": {},
   "source": [
    "Esto permite que las fechas puedan usarse como `key` en un `dict`de Python. El hash que se utiliza coincide con la representación como entero de uan fecha que se utiliza en Excel."
   ]
  },
  {
   "cell_type": "code",
   "execution_count": 17,
   "metadata": {
    "ExecuteTime": {
     "end_time": "2024-01-04T22:24:48.931292Z",
     "start_time": "2024-01-04T22:24:48.717371Z"
    },
    "execution": {
     "iopub.execute_input": "2023-11-15T15:39:01.328512Z",
     "iopub.status.busy": "2023-11-15T15:39:01.328374Z",
     "iopub.status.idle": "2023-11-15T15:39:01.330273Z",
     "shell.execute_reply": "2023-11-15T15:39:01.330042Z",
     "shell.execute_reply.started": "2023-11-15T15:39:01.328501Z"
    }
   },
   "outputs": [
    {
     "name": "stdout",
     "output_type": "stream",
     "text": [
      "43755\n"
     ]
    }
   ],
   "source": [
    "print(fecha1.__hash__())"
   ]
  },
  {
   "cell_type": "markdown",
   "metadata": {},
   "source": [
    "### Método `build_qcdate_from_string`"
   ]
  },
  {
   "cell_type": "markdown",
   "metadata": {},
   "source": [
    "Se trata de un *factory method* que permite inicializar un objeto `QCDate` a partir de un `string`.\n",
    "El formato del `string` debe ser yyyy&mm&dd donde & es un separador arbitrario."
   ]
  },
  {
   "cell_type": "code",
   "execution_count": 18,
   "metadata": {
    "ExecuteTime": {
     "end_time": "2024-01-04T22:24:49.461181Z",
     "start_time": "2024-01-04T22:24:48.919604Z"
    },
    "execution": {
     "iopub.execute_input": "2023-11-15T15:39:01.330603Z",
     "iopub.status.busy": "2023-11-15T15:39:01.330545Z",
     "iopub.status.idle": "2023-11-15T15:39:01.332882Z",
     "shell.execute_reply": "2023-11-15T15:39:01.332660Z",
     "shell.execute_reply.started": "2023-11-15T15:39:01.330597Z"
    }
   },
   "outputs": [
    {
     "name": "stdout",
     "output_type": "stream",
     "text": [
      "2020-01-01: 2020-01-01\n",
      "2020/01/02: 2020-01-02\n",
      "2020&01&03: 2020-01-03\n"
     ]
    }
   ],
   "source": [
    "str1 = \"2020-01-01\"\n",
    "str2 = \"2020/01/02\"\n",
    "str3 = \"2020&01&03\"\n",
    "\n",
    "fecha4 = qcf.build_qcdate_from_string(str1)\n",
    "print((str1 + \": {}\").format(fecha4.description(False)))\n",
    "\n",
    "fecha4 = qcf.build_qcdate_from_string(str2)\n",
    "print((str2 + \": {}\").format(fecha4.description(False)))\n",
    "\n",
    "fecha4 = qcf.build_qcdate_from_string(str3)\n",
    "print((str3 + \": {}\").format(fecha4.description(False)))"
   ]
  },
  {
   "cell_type": "markdown",
   "metadata": {},
   "source": [
    "## Calendarios\n",
    "Los calendarios se representan con objetos de tipo `BusinesssCalendar` y son **listas** de fechas arbitrarias que representan días feriados en alguna ciudad, país, región o unión de las anteriores. Para dar de alta un calendario se requiere una fecha inicial (`QCDate` y un número entero positivo que representa el plazo inicial total del calendario en años). El objeto `BusinessCalendar` incluye explícitamente todos los días 1 de enero y considera siempre como feriado los días sábado y domingo (aunque no pertenecen de forma explícita a la **lista**).   "
   ]
  },
  {
   "cell_type": "code",
   "execution_count": 19,
   "metadata": {
    "ExecuteTime": {
     "end_time": "2024-01-04T22:24:49.632849Z",
     "start_time": "2024-01-04T22:24:49.433984Z"
    },
    "execution": {
     "iopub.execute_input": "2023-11-15T15:39:01.333400Z",
     "iopub.status.busy": "2023-11-15T15:39:01.333291Z",
     "iopub.status.idle": "2023-11-15T15:39:01.335232Z",
     "shell.execute_reply": "2023-11-15T15:39:01.334995Z",
     "shell.execute_reply.started": "2023-11-15T15:39:01.333389Z"
    }
   },
   "outputs": [],
   "source": [
    "scl = qcf.BusinessCalendar(fecha1, 10)\n",
    "for holiday in scl.get_holidays():\n",
    "    print(holiday)"
   ]
  },
  {
   "cell_type": "code",
   "execution_count": 20,
   "metadata": {
    "ExecuteTime": {
     "end_time": "2024-01-04T22:24:50.100629Z",
     "start_time": "2024-01-04T22:24:49.619452Z"
    },
    "execution": {
     "iopub.execute_input": "2023-11-15T15:39:01.335903Z",
     "iopub.status.busy": "2023-11-15T15:39:01.335690Z",
     "iopub.status.idle": "2023-11-15T15:39:01.337890Z",
     "shell.execute_reply": "2023-11-15T15:39:01.337645Z",
     "shell.execute_reply.started": "2023-11-15T15:39:01.335893Z"
    }
   },
   "outputs": [
    {
     "name": "stdout",
     "output_type": "stream",
     "text": [
      "2018-01-02\n"
     ]
    }
   ],
   "source": [
    "# Método add_holiday. Agrega una fecha a la lista.\n",
    "scl.add_holiday(qcf.QCDate(2, 1, 2018))\n",
    "for holiday in scl.get_holidays():\n",
    "    print(holiday)"
   ]
  },
  {
   "cell_type": "code",
   "execution_count": 21,
   "metadata": {
    "ExecuteTime": {
     "end_time": "2024-01-04T22:24:50.262387Z",
     "start_time": "2024-01-04T22:24:50.075746Z"
    },
    "execution": {
     "iopub.execute_input": "2023-11-15T15:39:01.338432Z",
     "iopub.status.busy": "2023-11-15T15:39:01.338342Z",
     "iopub.status.idle": "2023-11-15T15:39:01.340638Z",
     "shell.execute_reply": "2023-11-15T15:39:01.340307Z",
     "shell.execute_reply.started": "2023-11-15T15:39:01.338424Z"
    }
   },
   "outputs": [
    {
     "name": "stdout",
     "output_type": "stream",
     "text": [
      "next: 2018-09-17\n",
      "Se agrega el 17-9-2018 a la lista\n",
      "nuevo next: 2018-09-18\n"
     ]
    }
   ],
   "source": [
    "# Método next_busy_day. Dada una fecha, si ésta es hábil retorna la misma fecha,\n",
    "## si, por el contrario, la fecha es inhábil, devuelve la siguiente fecha hábil del calendario.\n",
    "print(\"next:\", scl.next_busy_day(qcf.QCDate(15, 9, 2018)))  # es sábado\n",
    "print(\"Se agrega el 17-9-2018 a la lista\")\n",
    "scl.add_holiday(qcf.QCDate(17, 9, 2018))\n",
    "print(\"nuevo next:\", scl.next_busy_day(qcf.QCDate(15, 9, 2018)))"
   ]
  },
  {
   "cell_type": "code",
   "execution_count": 22,
   "metadata": {
    "ExecuteTime": {
     "end_time": "2024-01-04T22:24:50.692945Z",
     "start_time": "2024-01-04T22:24:50.236511Z"
    },
    "execution": {
     "iopub.execute_input": "2023-11-15T15:39:01.344020Z",
     "iopub.status.busy": "2023-11-15T15:39:01.343853Z",
     "iopub.status.idle": "2023-11-15T15:39:01.346093Z",
     "shell.execute_reply": "2023-11-15T15:39:01.345789Z",
     "shell.execute_reply.started": "2023-11-15T15:39:01.344012Z"
    }
   },
   "outputs": [
    {
     "name": "stdout",
     "output_type": "stream",
     "text": [
      "fecha: 2018-04-30\n",
      "next: 2018-05-01\n",
      "mod next: 2018-04-27\n",
      "abril30: 2018-04-30\n"
     ]
    }
   ],
   "source": [
    "# Método mod_next_busy_day. Opera igual que la función anterior a menos que la función anterior retorne una fecha\n",
    "# del mes siguiente, en ese caso retorna la fecha hábil anterior.\n",
    "print(\"fecha: 2018-04-30\")\n",
    "abril30 = qcf.QCDate(30, 4, 2018)\n",
    "scl.add_holiday(abril30)\n",
    "print(\"next:\", scl.next_busy_day(abril30))\n",
    "print(\"mod next:\", scl.mod_next_busy_day(qcf.QCDate(30, 4, 2018)))\n",
    "print(\"abril30:\", abril30)"
   ]
  },
  {
   "cell_type": "code",
   "execution_count": 23,
   "metadata": {
    "ExecuteTime": {
     "end_time": "2024-01-04T22:24:50.918553Z",
     "start_time": "2024-01-04T22:24:50.532295Z"
    },
    "execution": {
     "iopub.execute_input": "2023-11-15T15:39:01.346527Z",
     "iopub.status.busy": "2023-11-15T15:39:01.346459Z",
     "iopub.status.idle": "2023-11-15T15:39:01.348278Z",
     "shell.execute_reply": "2023-11-15T15:39:01.348065Z",
     "shell.execute_reply.started": "2023-11-15T15:39:01.346520Z"
    }
   },
   "outputs": [
    {
     "name": "stdout",
     "output_type": "stream",
     "text": [
      "prev: 2018-04-27\n"
     ]
    }
   ],
   "source": [
    "# Método prev_busy_day. Opera de forma análoga a mod_busy_day, pero retornando la fecha hábil anterior.\n",
    "print(\"prev:\", scl.prev_busy_day(abril30).iso_code())"
   ]
  },
  {
   "cell_type": "code",
   "execution_count": 24,
   "metadata": {
    "ExecuteTime": {
     "end_time": "2024-01-04T22:24:51.219810Z",
     "start_time": "2024-01-04T22:24:50.894462Z"
    },
    "execution": {
     "iopub.execute_input": "2023-11-15T15:39:01.348676Z",
     "iopub.status.busy": "2023-11-15T15:39:01.348615Z",
     "iopub.status.idle": "2023-11-15T15:39:01.350707Z",
     "shell.execute_reply": "2023-11-15T15:39:01.350475Z",
     "shell.execute_reply.started": "2023-11-15T15:39:01.348669Z"
    }
   },
   "outputs": [
    {
     "name": "stdout",
     "output_type": "stream",
     "text": [
      "2018-05-01\n",
      "2018-04-30\n",
      "2018-05-01\n",
      "2018-05-07\n"
     ]
    }
   ],
   "source": [
    "# Método shift. Suma un número n de días hábiles a una fecha.\n",
    "mayo2 = qcf.QCDate(2, 5, 2018)\n",
    "print(scl.shift(mayo2, -1))\n",
    "print(scl.shift(abril30, 0))\n",
    "print(scl.shift(abril30, 1))\n",
    "print(scl.shift(abril30, 5))"
   ]
  },
  {
   "cell_type": "markdown",
   "metadata": {
    "heading_collapsed": true
   },
   "source": [
    "## Fracciones de Año"
   ]
  },
  {
   "cell_type": "code",
   "execution_count": 25,
   "metadata": {
    "ExecuteTime": {
     "end_time": "2024-01-04T22:24:51.538352Z",
     "start_time": "2024-01-04T22:24:51.193224Z"
    },
    "execution": {
     "iopub.execute_input": "2023-11-15T15:39:01.351033Z",
     "iopub.status.busy": "2023-11-15T15:39:01.350969Z",
     "iopub.status.idle": "2023-11-15T15:39:01.352805Z",
     "shell.execute_reply": "2023-11-15T15:39:01.352586Z",
     "shell.execute_reply.started": "2023-11-15T15:39:01.351027Z"
    },
    "hidden": true
   },
   "outputs": [],
   "source": [
    "# Existen Act/360, Act/365, 30/360 y Act/30\n",
    "act360 = qcf.QCAct360()\n",
    "act365 = qcf.QCAct365()\n",
    "t30360 = qcf.QC30360()\n",
    "act30 = qcf.QCAct30()\n",
    "yfs = [act360, act365, t30360, act30]"
   ]
  },
  {
   "cell_type": "code",
   "execution_count": 26,
   "metadata": {
    "ExecuteTime": {
     "end_time": "2024-01-04T22:24:52.111381Z",
     "start_time": "2024-01-04T22:24:51.512261Z"
    },
    "execution": {
     "iopub.execute_input": "2023-11-15T15:39:01.353245Z",
     "iopub.status.busy": "2023-11-15T15:39:01.353182Z",
     "iopub.status.idle": "2023-11-15T15:39:01.355197Z",
     "shell.execute_reply": "2023-11-15T15:39:01.354949Z",
     "shell.execute_reply.started": "2023-11-15T15:39:01.353239Z"
    },
    "hidden": true
   },
   "outputs": [
    {
     "name": "stdout",
     "output_type": "stream",
     "text": [
      "0.08333333333333333\n",
      "0.08333333333333333\n",
      "30\n",
      "\n",
      "0.0821917808219178\n",
      "0.0821917808219178\n",
      "30\n",
      "\n",
      "0.08333333333333333\n",
      "0.08055555555555556\n",
      "29\n",
      "\n",
      "1.0\n",
      "1.0\n",
      "30\n"
     ]
    }
   ],
   "source": [
    "# Métodos yf (sobrecargado) y count_days\n",
    "for yf in yfs:\n",
    "    print(yf.yf(30))\n",
    "    print(yf.yf(fecha1, fecha3))\n",
    "    print(yf.count_days(fecha1, fecha3))\n",
    "    print()"
   ]
  },
  {
   "cell_type": "markdown",
   "metadata": {
    "heading_collapsed": true
   },
   "source": [
    "## Factores de Capitalización"
   ]
  },
  {
   "cell_type": "code",
   "execution_count": 27,
   "metadata": {
    "ExecuteTime": {
     "end_time": "2024-01-04T22:24:52.275363Z",
     "start_time": "2024-01-04T22:24:52.081875Z"
    },
    "execution": {
     "iopub.execute_input": "2023-11-15T15:39:01.355701Z",
     "iopub.status.busy": "2023-11-15T15:39:01.355603Z",
     "iopub.status.idle": "2023-11-15T15:39:01.357571Z",
     "shell.execute_reply": "2023-11-15T15:39:01.357216Z",
     "shell.execute_reply.started": "2023-11-15T15:39:01.355695Z"
    },
    "hidden": true
   },
   "outputs": [],
   "source": [
    "# Existen: (yf es la fracción de año asociada a la tasa de valor r)\n",
    "#    QCLinearWf     ---> (1 + r * yf)\n",
    "#    QCCompundWf    ---> (1 + r)**yf\n",
    "#    QCContinousWf  ---> exp(r * yf)\n",
    "lin_wf = qcf.QCLinearWf()\n",
    "com_wf = qcf.QCCompoundWf()\n",
    "exp_wf = qcf.QCContinousWf()"
   ]
  },
  {
   "cell_type": "markdown",
   "metadata": {},
   "source": [
    "## Tasas de Interés"
   ]
  },
  {
   "cell_type": "code",
   "execution_count": 28,
   "metadata": {
    "ExecuteTime": {
     "end_time": "2024-01-04T22:24:52.813326Z",
     "start_time": "2024-01-04T22:24:52.245820Z"
    },
    "execution": {
     "iopub.execute_input": "2023-11-15T15:39:01.357955Z",
     "iopub.status.busy": "2023-11-15T15:39:01.357864Z",
     "iopub.status.idle": "2023-11-15T15:39:01.359870Z",
     "shell.execute_reply": "2023-11-15T15:39:01.359579Z",
     "shell.execute_reply.started": "2023-11-15T15:39:01.357948Z"
    }
   },
   "outputs": [],
   "source": [
    "# Dar de alta una tasa de interés\n",
    "tasa_lin_act360 = qcf.QCInterestRate(0.1, act360, lin_wf)\n",
    "tasa_com_act365 = qcf.QCInterestRate(0.1, act365, com_wf)\n",
    "tasas = [tasa_lin_act360, tasa_com_act365]"
   ]
  },
  {
   "cell_type": "code",
   "execution_count": 29,
   "metadata": {
    "ExecuteTime": {
     "end_time": "2024-01-04T22:24:52.999945Z",
     "start_time": "2024-01-04T22:24:52.785917Z"
    },
    "execution": {
     "iopub.execute_input": "2023-11-15T15:39:01.360535Z",
     "iopub.status.busy": "2023-11-15T15:39:01.360376Z",
     "iopub.status.idle": "2023-11-15T15:39:01.362831Z",
     "shell.execute_reply": "2023-11-15T15:39:01.362498Z",
     "shell.execute_reply.started": "2023-11-15T15:39:01.360524Z"
    }
   },
   "outputs": [
    {
     "name": "stdout",
     "output_type": "stream",
     "text": [
      "get 0.1\n",
      "get nuevo valor 0.12\n",
      "wf 1.01\n",
      "dwf 0.08333333333333333\n",
      "wf1 1.1216666666666666\n",
      "dwf1 1.0138888888888888\n",
      "\n",
      "get 0.1\n",
      "get nuevo valor 0.12\n",
      "wf 1.0093582031654136\n",
      "dwf 0.07407227518337182\n",
      "wf1 1.12\n",
      "dwf1 1.0\n"
     ]
    }
   ],
   "source": [
    "# Métodos get_value, set_value, wf (sobrecargado), dwf (sobrecargado)\n",
    "for tasa in tasas:\n",
    "    print(\"get\", tasa.get_value())\n",
    "    tasa.set_value(0.12)\n",
    "    print(\"get nuevo valor\", tasa.get_value())\n",
    "    print(\n",
    "        \"wf\", tasa.wf(fecha1, fecha3)\n",
    "    )  # Retorna el factor de capitalización entre las fechas\n",
    "    print(\n",
    "        \"dwf\", tasa.dwf(fecha1, fecha3)\n",
    "    )  # Retorna la derivada del factor de capitalización respecto al valor de la tasa\n",
    "    # entre las fechas\n",
    "    print(\n",
    "        \"wf1\", tasa.wf(365)\n",
    "    )  # Retorna el factor de capitalización para el número de días\n",
    "    print(\n",
    "        \"dwf1\", tasa.dwf(365)\n",
    "    )  # Retorna la derivada del factor de capitalización respecto al valor de la tasa\n",
    "    # para el número de días\n",
    "    print()"
   ]
  },
  {
   "cell_type": "code",
   "execution_count": 30,
   "metadata": {
    "ExecuteTime": {
     "end_time": "2024-01-04T22:24:53.247057Z",
     "start_time": "2024-01-04T22:24:52.971985Z"
    },
    "execution": {
     "iopub.execute_input": "2023-11-15T15:39:01.363259Z",
     "iopub.status.busy": "2023-11-15T15:39:01.363200Z",
     "iopub.status.idle": "2023-11-15T15:39:01.365387Z",
     "shell.execute_reply": "2023-11-15T15:39:01.365151Z",
     "shell.execute_reply.started": "2023-11-15T15:39:01.363253Z"
    }
   },
   "outputs": [
    {
     "data": {
      "text/plain": [
       "-0.03600000000000003"
      ]
     },
     "execution_count": 30,
     "metadata": {},
     "output_type": "execute_result"
    }
   ],
   "source": [
    "tasa_lin_act360.get_rate_from_wf(0.99, 100)"
   ]
  },
  {
   "cell_type": "markdown",
   "metadata": {},
   "source": [
    "### Tenor\n",
    "Es una clase que representa el concepto de tenor (1D, 1M, 1Y ...)."
   ]
  },
  {
   "cell_type": "code",
   "execution_count": 31,
   "metadata": {
    "ExecuteTime": {
     "end_time": "2024-01-04T22:24:53.604409Z",
     "start_time": "2024-01-04T22:24:53.234457Z"
    },
    "execution": {
     "iopub.execute_input": "2023-11-15T15:39:01.365872Z",
     "iopub.status.busy": "2023-11-15T15:39:01.365810Z",
     "iopub.status.idle": "2023-11-15T15:39:01.367749Z",
     "shell.execute_reply": "2023-11-15T15:39:01.367509Z",
     "shell.execute_reply.started": "2023-11-15T15:39:01.365867Z"
    }
   },
   "outputs": [],
   "source": [
    "# Ejemplo de Tenor\n",
    "one_d = qcf.Tenor(\"1d\")\n",
    "one_m = qcf.Tenor(\"1M\")\n",
    "one_y = qcf.Tenor(\"1y\")\n",
    "t1d1m1y = qcf.Tenor(\"1D1M1Y\")\n",
    "t2Y3M = qcf.Tenor(\"2yadv3m\")\n",
    "tenors = [one_d, one_m, one_y, t1d1m1y, t2Y3M]"
   ]
  },
  {
   "cell_type": "code",
   "execution_count": 32,
   "metadata": {
    "ExecuteTime": {
     "end_time": "2024-01-04T22:24:54.168103Z",
     "start_time": "2024-01-04T22:24:53.593974Z"
    },
    "execution": {
     "iopub.execute_input": "2023-11-15T15:39:01.368090Z",
     "iopub.status.busy": "2023-11-15T15:39:01.368027Z",
     "iopub.status.idle": "2023-11-15T15:39:01.370136Z",
     "shell.execute_reply": "2023-11-15T15:39:01.369872Z",
     "shell.execute_reply.started": "2023-11-15T15:39:01.368084Z"
    }
   },
   "outputs": [
    {
     "name": "stdout",
     "output_type": "stream",
     "text": [
      "string: 1D\n",
      "dias: 1\n",
      "meses: 0\n",
      "años: 0\n",
      "\n",
      "string: 1M\n",
      "dias: 0\n",
      "meses: 1\n",
      "años: 0\n",
      "\n",
      "string: 1Y\n",
      "dias: 0\n",
      "meses: 0\n",
      "años: 1\n",
      "\n",
      "string: 1Y1M1D\n",
      "dias: 1\n",
      "meses: 1\n",
      "años: 1\n",
      "\n",
      "string: 2Y3M\n",
      "dias: 0\n",
      "meses: 3\n",
      "años: 2\n",
      "\n",
      "32Y1M\n"
     ]
    }
   ],
   "source": [
    "# Métodos get_string, get_years, get_months, get_years\n",
    "for tenor in tenors:\n",
    "    print(\"string:\", tenor.get_string())\n",
    "    print(\"dias:\", tenor.get_days())\n",
    "    print(\"meses:\", tenor.get_months())\n",
    "    print(\"años:\", tenor.get_years())\n",
    "    print()\n",
    "\n",
    "# Método set_tenor\n",
    "t2Y3M.set_tenor(\"1m32y\")\n",
    "print(t2Y3M.get_string())"
   ]
  },
  {
   "cell_type": "markdown",
   "metadata": {
    "heading_collapsed": true
   },
   "source": [
    "## FX Rate\n",
    "Es una clase que representa el concepto de tipo de cambio entre dos monedas. Para dar de alta un FXRate se requiere:\n",
    "\n",
    "- QCCurrency: la moneda fuerte del par.\n",
    "- QCCurrency: la moneda débl del par."
   ]
  },
  {
   "cell_type": "code",
   "execution_count": 33,
   "metadata": {
    "ExecuteTime": {
     "end_time": "2024-01-04T22:24:54.350673Z",
     "start_time": "2024-01-04T22:24:54.138635Z"
    },
    "execution": {
     "iopub.execute_input": "2023-11-15T15:39:01.370647Z",
     "iopub.status.busy": "2023-11-15T15:39:01.370561Z",
     "iopub.status.idle": "2023-11-15T15:39:01.372491Z",
     "shell.execute_reply": "2023-11-15T15:39:01.372244Z",
     "shell.execute_reply.started": "2023-11-15T15:39:01.370640Z"
    },
    "hidden": true
   },
   "outputs": [
    {
     "name": "stdout",
     "output_type": "stream",
     "text": [
      "código: USDCLP\n"
     ]
    }
   ],
   "source": [
    "# Ejemplo. USDCLP. Método get_code. Se retorna el código del par según la convención usual.\n",
    "usdclp = qcf.FXRate(usd, clp)\n",
    "print(\"código:\", usdclp.get_code())"
   ]
  },
  {
   "cell_type": "markdown",
   "metadata": {},
   "source": [
    "### FXRateIndex\n",
    "\n",
    "Representa un índice de tipo de cambio."
   ]
  },
  {
   "cell_type": "code",
   "execution_count": 34,
   "metadata": {
    "ExecuteTime": {
     "end_time": "2024-01-04T22:24:54.855489Z",
     "start_time": "2024-01-04T22:24:54.321760Z"
    },
    "execution": {
     "iopub.execute_input": "2023-11-15T15:39:01.372778Z",
     "iopub.status.busy": "2023-11-15T15:39:01.372723Z",
     "iopub.status.idle": "2023-11-15T15:39:01.374959Z",
     "shell.execute_reply": "2023-11-15T15:39:01.374736Z",
     "shell.execute_reply.started": "2023-11-15T15:39:01.372772Z"
    }
   },
   "outputs": [
    {
     "data": {
      "text/plain": [
       "<qcfinancial.FXRate at 0x1211db5b0>"
      ]
     },
     "execution_count": 34,
     "metadata": {},
     "output_type": "execute_result"
    }
   ],
   "source": [
    "usdclp"
   ]
  },
  {
   "cell_type": "markdown",
   "metadata": {},
   "source": [
    "## Índices\n",
    "Todo índice pertenece a un asset class. Los distintos asset class se representan con un el enum AssetClass. Los asset class disponibles son:\n",
    "\n",
    "- InterestRate\n",
    "- InterestRateVol\n",
    "- Fx\n",
    "- FxVol\n",
    "- Equity\n",
    "- EquityVol\n",
    "- Commodity\n",
    "- CommodityVol\n",
    "- Credit\n",
    "- CreditVol"
   ]
  },
  {
   "cell_type": "code",
   "execution_count": 35,
   "metadata": {
    "ExecuteTime": {
     "end_time": "2024-01-04T22:24:55.029024Z",
     "start_time": "2024-01-04T22:24:54.831447Z"
    },
    "execution": {
     "iopub.execute_input": "2023-11-15T15:39:01.375306Z",
     "iopub.status.busy": "2023-11-15T15:39:01.375238Z",
     "iopub.status.idle": "2023-11-15T15:39:01.377088Z",
     "shell.execute_reply": "2023-11-15T15:39:01.376866Z",
     "shell.execute_reply.started": "2023-11-15T15:39:01.375300Z"
    }
   },
   "outputs": [
    {
     "name": "stdout",
     "output_type": "stream",
     "text": [
      "AssetClass.InterestRate\n",
      "AssetClass.Fx\n"
     ]
    }
   ],
   "source": [
    "# AssetClass. Existen\n",
    "print(qcf.AssetClass.InterestRate)\n",
    "print(qcf.AssetClass.Fx)"
   ]
  },
  {
   "cell_type": "markdown",
   "metadata": {},
   "source": [
    "Para dar de alta un FXRateIndex se requiere:\n",
    "\n",
    "- `FXRate`: el FXRate correspoondiente.\n",
    "- `str`: nombre del índice\n",
    "- `Tenor`: la regla de fixing, es 1D como el USD Observado o es 0D como un ínidce de cierre de día.\n",
    "- `Tenor`: la regla para la valuta. Es 1D como el USDCLP o 2D como el EURUSD.\n",
    "- `BusinessCalendar`: el calendario adecuado para aplicar las reglas de fixing y valuta.\n"
   ]
  },
  {
   "cell_type": "code",
   "execution_count": 36,
   "metadata": {
    "ExecuteTime": {
     "end_time": "2024-01-04T22:24:55.551333Z",
     "start_time": "2024-01-04T22:24:55.016191Z"
    },
    "execution": {
     "iopub.execute_input": "2023-11-15T15:39:01.377477Z",
     "iopub.status.busy": "2023-11-15T15:39:01.377410Z",
     "iopub.status.idle": "2023-11-15T15:39:01.379629Z",
     "shell.execute_reply": "2023-11-15T15:39:01.379244Z",
     "shell.execute_reply.started": "2023-11-15T15:39:01.377470Z"
    }
   },
   "outputs": [
    {
     "name": "stdout",
     "output_type": "stream",
     "text": [
      "fecha de publicación: WeekDay.THU 2019-10-17\n",
      "fecha de fixing: 2019-10-16\n",
      "fecha de valuta: 2019-10-17\n"
     ]
    }
   ],
   "source": [
    "# Ejemplo.\n",
    "usdclp_obs = qcf.FXRateIndex(usdclp, \"USDOBS\", one_d, one_d, scl)\n",
    "print(\"fecha de publicación:\", fecha1.week_day(), fecha1)\n",
    "print(\"fecha de fixing:\", usdclp_obs.fixing_date(fecha1))\n",
    "print(\"fecha de valuta:\", usdclp_obs.value_date(fecha1))"
   ]
  },
  {
   "cell_type": "code",
   "execution_count": 37,
   "metadata": {
    "ExecuteTime": {
     "end_time": "2024-01-04T22:24:55.761253Z",
     "start_time": "2024-01-04T22:24:55.525112Z"
    },
    "execution": {
     "iopub.execute_input": "2023-11-15T15:39:01.380046Z",
     "iopub.status.busy": "2023-11-15T15:39:01.379939Z",
     "iopub.status.idle": "2023-11-15T15:39:01.381864Z",
     "shell.execute_reply": "2023-11-15T15:39:01.381651Z",
     "shell.execute_reply.started": "2023-11-15T15:39:01.380036Z"
    }
   },
   "outputs": [
    {
     "name": "stdout",
     "output_type": "stream",
     "text": [
      "Monto en CLP es: 700,000\n"
     ]
    }
   ],
   "source": [
    "result = usdclp_obs.convert(1000, qcf.QCUSD(), 700)\n",
    "print(f\"Monto en CLP es: {result:,.0f}\")"
   ]
  },
  {
   "cell_type": "markdown",
   "metadata": {},
   "source": [
    "### QCCurrencyConverter\n",
    "\n",
    "Este es un objeto que permite realizar conversiones de una moneda a otra."
   ]
  },
  {
   "cell_type": "code",
   "execution_count": 38,
   "metadata": {
    "ExecuteTime": {
     "end_time": "2024-01-04T22:24:56.234641Z",
     "start_time": "2024-01-04T22:24:55.734637Z"
    },
    "execution": {
     "iopub.execute_input": "2023-11-15T15:39:01.382326Z",
     "iopub.status.busy": "2023-11-15T15:39:01.382257Z",
     "iopub.status.idle": "2023-11-15T15:39:01.384074Z",
     "shell.execute_reply": "2023-11-15T15:39:01.383853Z",
     "shell.execute_reply.started": "2023-11-15T15:39:01.382320Z"
    }
   },
   "outputs": [],
   "source": [
    "ccy_converter = qcf.QCCurrencyConverter()"
   ]
  },
  {
   "cell_type": "code",
   "execution_count": 39,
   "metadata": {
    "ExecuteTime": {
     "end_time": "2024-01-04T22:24:56.415735Z",
     "start_time": "2024-01-04T22:24:56.220995Z"
    },
    "execution": {
     "iopub.execute_input": "2023-11-15T15:39:01.384554Z",
     "iopub.status.busy": "2023-11-15T15:39:01.384448Z",
     "iopub.status.idle": "2023-11-15T15:39:01.386498Z",
     "shell.execute_reply": "2023-11-15T15:39:01.386261Z",
     "shell.execute_reply.started": "2023-11-15T15:39:01.384547Z"
    }
   },
   "outputs": [
    {
     "name": "stdout",
     "output_type": "stream",
     "text": [
      "Monto en CLP: 800,000\n"
     ]
    }
   ],
   "source": [
    "print(f'Monto en CLP: {ccy_converter.convert(1_000, usd, 800, usdclp_obs):,.0f}')"
   ]
  },
  {
   "cell_type": "code",
   "execution_count": 40,
   "metadata": {
    "ExecuteTime": {
     "end_time": "2024-01-04T22:24:56.634419Z",
     "start_time": "2024-01-04T22:24:56.389415Z"
    },
    "execution": {
     "iopub.execute_input": "2023-11-15T15:39:01.386811Z",
     "iopub.status.busy": "2023-11-15T15:39:01.386752Z",
     "iopub.status.idle": "2023-11-15T15:39:01.388600Z",
     "shell.execute_reply": "2023-11-15T15:39:01.388311Z",
     "shell.execute_reply.started": "2023-11-15T15:39:01.386805Z"
    }
   },
   "outputs": [
    {
     "name": "stdout",
     "output_type": "stream",
     "text": [
      "Monto en USD: 1,000\n"
     ]
    }
   ],
   "source": [
    "print(f'Monto en USD: {ccy_converter.convert(800_000, clp, 800, usdclp_obs):,.0f}')"
   ]
  },
  {
   "cell_type": "markdown",
   "metadata": {},
   "source": [
    "#### Enum para Monedas"
   ]
  },
  {
   "cell_type": "code",
   "execution_count": 41,
   "metadata": {
    "ExecuteTime": {
     "end_time": "2024-01-04T22:24:56.945944Z",
     "start_time": "2024-01-04T22:24:56.619510Z"
    },
    "execution": {
     "iopub.execute_input": "2023-11-15T15:39:01.388946Z",
     "iopub.status.busy": "2023-11-15T15:39:01.388889Z",
     "iopub.status.idle": "2023-11-15T15:39:01.391308Z",
     "shell.execute_reply": "2023-11-15T15:39:01.391062Z",
     "shell.execute_reply.started": "2023-11-15T15:39:01.388939Z"
    }
   },
   "outputs": [
    {
     "data": {
      "text/plain": [
       "<QCCurrencyEnum.AUD: 0>"
      ]
     },
     "execution_count": 41,
     "metadata": {},
     "output_type": "execute_result"
    }
   ],
   "source": [
    "qcf.QCCurrencyEnum.AUD"
   ]
  },
  {
   "cell_type": "code",
   "execution_count": 42,
   "metadata": {
    "ExecuteTime": {
     "end_time": "2024-01-04T22:24:57.284887Z",
     "start_time": "2024-01-04T22:24:56.931746Z"
    },
    "collapsed": false,
    "execution": {
     "iopub.execute_input": "2023-11-15T15:39:01.391747Z",
     "iopub.status.busy": "2023-11-15T15:39:01.391676Z",
     "iopub.status.idle": "2023-11-15T15:39:01.393929Z",
     "shell.execute_reply": "2023-11-15T15:39:01.393685Z",
     "shell.execute_reply.started": "2023-11-15T15:39:01.391739Z"
    },
    "jupyter": {
     "outputs_hidden": false
    }
   },
   "outputs": [
    {
     "data": {
      "text/plain": [
       "<QCCurrencyEnum.USD: 17>"
      ]
     },
     "execution_count": 42,
     "metadata": {},
     "output_type": "execute_result"
    }
   ],
   "source": [
    "qcf.QCCurrencyEnum.USD"
   ]
  },
  {
   "cell_type": "markdown",
   "metadata": {},
   "source": [
    "#### Enum para FXRates"
   ]
  },
  {
   "cell_type": "code",
   "execution_count": 43,
   "metadata": {
    "ExecuteTime": {
     "end_time": "2024-01-04T22:24:57.618906Z",
     "start_time": "2024-01-04T22:24:57.271498Z"
    },
    "execution": {
     "iopub.execute_input": "2023-11-15T15:39:01.394359Z",
     "iopub.status.busy": "2023-11-15T15:39:01.394300Z",
     "iopub.status.idle": "2023-11-15T15:39:01.396575Z",
     "shell.execute_reply": "2023-11-15T15:39:01.396357Z",
     "shell.execute_reply.started": "2023-11-15T15:39:01.394354Z"
    }
   },
   "outputs": [
    {
     "data": {
      "text/plain": [
       "<QCFxRateEnum.USDCLP: 14>"
      ]
     },
     "execution_count": 43,
     "metadata": {},
     "output_type": "execute_result"
    }
   ],
   "source": [
    "qcf.QCFxRateEnum.USDCLP"
   ]
  },
  {
   "cell_type": "code",
   "execution_count": 44,
   "metadata": {
    "ExecuteTime": {
     "end_time": "2024-01-04T22:24:57.969343Z",
     "start_time": "2024-01-04T22:24:57.581392Z"
    },
    "collapsed": false,
    "execution": {
     "iopub.execute_input": "2023-11-15T15:39:01.397095Z",
     "iopub.status.busy": "2023-11-15T15:39:01.396884Z",
     "iopub.status.idle": "2023-11-15T15:39:01.399223Z",
     "shell.execute_reply": "2023-11-15T15:39:01.398976Z",
     "shell.execute_reply.started": "2023-11-15T15:39:01.397088Z"
    },
    "jupyter": {
     "outputs_hidden": false
    }
   },
   "outputs": [
    {
     "data": {
      "text/plain": [
       "<QCFxRateEnum.EURUSD: 28>"
      ]
     },
     "execution_count": 44,
     "metadata": {},
     "output_type": "execute_result"
    }
   ],
   "source": [
    "qcf.QCFxRateEnum.EURUSD"
   ]
  },
  {
   "cell_type": "markdown",
   "metadata": {},
   "source": [
    "Ambos `enum` se pueden utilizar con el método `convert`:"
   ]
  },
  {
   "cell_type": "code",
   "execution_count": 45,
   "metadata": {
    "ExecuteTime": {
     "end_time": "2024-01-04T22:24:58.296972Z",
     "start_time": "2024-01-04T22:24:57.957005Z"
    },
    "execution": {
     "iopub.execute_input": "2023-11-15T15:39:01.399678Z",
     "iopub.status.busy": "2023-11-15T15:39:01.399618Z",
     "iopub.status.idle": "2023-11-15T15:39:01.401582Z",
     "shell.execute_reply": "2023-11-15T15:39:01.401367Z",
     "shell.execute_reply.started": "2023-11-15T15:39:01.399671Z"
    }
   },
   "outputs": [
    {
     "name": "stdout",
     "output_type": "stream",
     "text": [
      "Monto en USD: 1,000\n"
     ]
    }
   ],
   "source": [
    "print(f'Monto en USD: {ccy_converter.convert(800_000, qcf.QCCurrencyEnum.CLP, 800, qcf.QCFxRateEnum.USDCLP):,.0f}')"
   ]
  },
  {
   "cell_type": "code",
   "execution_count": 46,
   "metadata": {
    "ExecuteTime": {
     "end_time": "2024-01-04T22:24:58.683038Z",
     "start_time": "2024-01-04T22:24:58.259469Z"
    },
    "execution": {
     "iopub.execute_input": "2023-11-15T15:39:01.401944Z",
     "iopub.status.busy": "2023-11-15T15:39:01.401884Z",
     "iopub.status.idle": "2023-11-15T15:39:01.403687Z",
     "shell.execute_reply": "2023-11-15T15:39:01.403477Z",
     "shell.execute_reply.started": "2023-11-15T15:39:01.401938Z"
    }
   },
   "outputs": [
    {
     "name": "stdout",
     "output_type": "stream",
     "text": [
      "Monto en USD: 800,000\n"
     ]
    }
   ],
   "source": [
    "print(f'Monto en USD: {ccy_converter.convert(1_000, qcf.QCCurrencyEnum.USD, 800, qcf.QCFxRateEnum.USDCLP):,.0f}')"
   ]
  },
  {
   "cell_type": "markdown",
   "metadata": {},
   "source": [
    "## Time Series"
   ]
  },
  {
   "cell_type": "code",
   "execution_count": 47,
   "metadata": {
    "ExecuteTime": {
     "end_time": "2024-01-04T22:24:59.036356Z",
     "start_time": "2024-01-04T22:24:58.646203Z"
    },
    "execution": {
     "iopub.execute_input": "2023-11-15T15:39:01.404120Z",
     "iopub.status.busy": "2023-11-15T15:39:01.404038Z",
     "iopub.status.idle": "2023-11-15T15:39:01.405708Z",
     "shell.execute_reply": "2023-11-15T15:39:01.405487Z",
     "shell.execute_reply.started": "2023-11-15T15:39:01.404114Z"
    }
   },
   "outputs": [],
   "source": [
    "ts = qcf.time_series()\n",
    "ts[fecha1] = 10.0"
   ]
  },
  {
   "cell_type": "code",
   "execution_count": 48,
   "metadata": {
    "ExecuteTime": {
     "end_time": "2024-01-04T22:24:59.368276Z",
     "start_time": "2024-01-04T22:24:59.012647Z"
    },
    "execution": {
     "iopub.execute_input": "2023-11-15T15:39:01.406264Z",
     "iopub.status.busy": "2023-11-15T15:39:01.406145Z",
     "iopub.status.idle": "2023-11-15T15:39:01.408288Z",
     "shell.execute_reply": "2023-11-15T15:39:01.408044Z",
     "shell.execute_reply.started": "2023-11-15T15:39:01.406255Z"
    }
   },
   "outputs": [
    {
     "data": {
      "text/plain": [
       "qcfinancial.time_series"
      ]
     },
     "execution_count": 48,
     "metadata": {},
     "output_type": "execute_result"
    }
   ],
   "source": [
    "type(ts)"
   ]
  },
  {
   "cell_type": "code",
   "execution_count": 49,
   "metadata": {
    "ExecuteTime": {
     "end_time": "2024-01-04T22:24:59.651950Z",
     "start_time": "2024-01-04T22:24:59.351250Z"
    },
    "execution": {
     "iopub.execute_input": "2023-11-15T15:39:01.408848Z",
     "iopub.status.busy": "2023-11-15T15:39:01.408748Z",
     "iopub.status.idle": "2023-11-15T15:39:01.410740Z",
     "shell.execute_reply": "2023-11-15T15:39:01.410492Z",
     "shell.execute_reply.started": "2023-11-15T15:39:01.408842Z"
    }
   },
   "outputs": [
    {
     "name": "stdout",
     "output_type": "stream",
     "text": [
      "2019-10-17 10.0\n"
     ]
    }
   ],
   "source": [
    "for k, v in ts.items():\n",
    "    print(k, v)"
   ]
  },
  {
   "cell_type": "markdown",
   "metadata": {},
   "source": [
    "## Cashflows"
   ]
  },
  {
   "cell_type": "markdown",
   "metadata": {},
   "source": [
    "### Simple Cashflow\n",
    "Un objeto de tipo `SimpleCashflow` representa un flujo de caja cierto en una fecha y moneda."
   ]
  },
  {
   "cell_type": "code",
   "execution_count": 50,
   "metadata": {
    "ExecuteTime": {
     "end_time": "2024-01-04T22:24:59.986692Z",
     "start_time": "2024-01-04T22:24:59.626817Z"
    },
    "execution": {
     "iopub.execute_input": "2023-11-15T15:39:01.411134Z",
     "iopub.status.busy": "2023-11-15T15:39:01.411077Z",
     "iopub.status.idle": "2023-11-15T15:39:01.412906Z",
     "shell.execute_reply": "2023-11-15T15:39:01.412680Z",
     "shell.execute_reply.started": "2023-11-15T15:39:01.411127Z"
    }
   },
   "outputs": [],
   "source": [
    "# Como se inicializa un objeto SimpleCashflow.\n",
    "simple_cashflow = qcf.SimpleCashflow(\n",
    "    fecha1, 100, clp  # fecha del flujo  # monto\n",
    ")  # moneda"
   ]
  },
  {
   "cell_type": "code",
   "execution_count": 51,
   "metadata": {
    "ExecuteTime": {
     "end_time": "2024-01-04T22:25:00.329729Z",
     "start_time": "2024-01-04T22:24:59.961417Z"
    },
    "execution": {
     "iopub.execute_input": "2023-11-15T15:39:01.413354Z",
     "iopub.status.busy": "2023-11-15T15:39:01.413285Z",
     "iopub.status.idle": "2023-11-15T15:39:01.415332Z",
     "shell.execute_reply": "2023-11-15T15:39:01.415107Z",
     "shell.execute_reply.started": "2023-11-15T15:39:01.413348Z"
    }
   },
   "outputs": [
    {
     "data": {
      "text/plain": [
       "<qcfinancial.SimpleCashflow at 0x109429670>"
      ]
     },
     "execution_count": 51,
     "metadata": {},
     "output_type": "execute_result"
    }
   ],
   "source": [
    "simple_cashflow"
   ]
  },
  {
   "cell_type": "code",
   "execution_count": 52,
   "metadata": {
    "ExecuteTime": {
     "end_time": "2024-01-04T22:25:00.582635Z",
     "start_time": "2024-01-04T22:25:00.303765Z"
    },
    "execution": {
     "iopub.execute_input": "2023-11-15T15:39:01.415723Z",
     "iopub.status.busy": "2023-11-15T15:39:01.415664Z",
     "iopub.status.idle": "2023-11-15T15:39:01.417722Z",
     "shell.execute_reply": "2023-11-15T15:39:01.417476Z",
     "shell.execute_reply.started": "2023-11-15T15:39:01.415717Z"
    }
   },
   "outputs": [
    {
     "name": "stdout",
     "output_type": "stream",
     "text": [
      "100.0\n",
      "CLP\n",
      "2019-10-17\n"
     ]
    }
   ],
   "source": [
    "# Métodos amount, ccy y date\n",
    "print(simple_cashflow.amount())\n",
    "print(simple_cashflow.ccy().get_iso_code())\n",
    "print(simple_cashflow.date())"
   ]
  },
  {
   "cell_type": "markdown",
   "metadata": {},
   "source": [
    " Primer ejemplo de la función `show`. Envuelve de forma cómoda todo el flujo en una tupla. La función show está sobregargada y admite muchos tipos de flujo."
   ]
  },
  {
   "cell_type": "code",
   "execution_count": 53,
   "metadata": {
    "ExecuteTime": {
     "end_time": "2024-01-04T22:25:00.912009Z",
     "start_time": "2024-01-04T22:25:00.555091Z"
    },
    "execution": {
     "iopub.execute_input": "2023-11-15T15:39:01.418109Z",
     "iopub.status.busy": "2023-11-15T15:39:01.418045Z",
     "iopub.status.idle": "2023-11-15T15:39:01.420233Z",
     "shell.execute_reply": "2023-11-15T15:39:01.420017Z",
     "shell.execute_reply.started": "2023-11-15T15:39:01.418102Z"
    }
   },
   "outputs": [
    {
     "data": {
      "text/plain": [
       "('2019-10-17', 100.0, 'CLP')"
      ]
     },
     "execution_count": 53,
     "metadata": {},
     "output_type": "execute_result"
    }
   ],
   "source": [
    "qcf.show(simple_cashflow)"
   ]
  },
  {
   "cell_type": "markdown",
   "metadata": {},
   "source": [
    "### Simple Multicurrency Cashflow\n",
    "Un objeto de tipo `SimpleMultiCurrencyCashflow` representa un flujo de caja cierto en una fecha y moneda, que, sin embargo, se liquidará en una segunda moneda utilizando el valor de un índice de tipo de cambio. Para dar de alta uno de estos objetos se requiere:\n",
    "\n",
    "- `QCDate`: fecha final\n",
    "- `float`: nominal\n",
    "- `QCCurrency`: la moneda del nominal\n",
    "- `QCDate`: la fecha de publicación del `FXRateIndex` que se usará en la conversión\n",
    "- `QCCurrency`: la moneda final del flujo\n",
    "- `FXRateIndex`: el índice de tipo de cambio a utilizar\n",
    "- `float`: el valor del índice de tipo de cambio"
   ]
  },
  {
   "cell_type": "code",
   "execution_count": 54,
   "metadata": {
    "ExecuteTime": {
     "end_time": "2024-01-04T22:25:01.282770Z",
     "start_time": "2024-01-04T22:25:00.748982Z"
    },
    "execution": {
     "iopub.execute_input": "2023-11-15T15:39:01.420787Z",
     "iopub.status.busy": "2023-11-15T15:39:01.420677Z",
     "iopub.status.idle": "2023-11-15T15:39:01.422862Z",
     "shell.execute_reply": "2023-11-15T15:39:01.422586Z",
     "shell.execute_reply.started": "2023-11-15T15:39:01.420781Z"
    }
   },
   "outputs": [
    {
     "name": "stdout",
     "output_type": "stream",
     "text": [
      "fecha flujo: 2019-11-16\n",
      "nominal: 700.0\n",
      "moneda nominal: CLP\n",
      "flujo: 1.0\n",
      "moneda flujo: USD\n"
     ]
    }
   ],
   "source": [
    "# Ejemplo.\n",
    "simple_mccy_cashflow = qcf.SimpleMultiCurrencyCashflow(\n",
    "    fecha3, 700.00, clp, fecha3, usd, usdclp_obs, 700.00\n",
    ")\n",
    "print(\"fecha flujo:\", simple_mccy_cashflow.date())\n",
    "print(\"nominal:\", simple_mccy_cashflow.nominal())\n",
    "print(\"moneda nominal:\", simple_mccy_cashflow.ccy().get_iso_code())\n",
    "print(\"flujo:\", simple_mccy_cashflow.amount())\n",
    "print(\"moneda flujo:\", simple_mccy_cashflow.settlement_ccy().get_iso_code())"
   ]
  },
  {
   "cell_type": "code",
   "execution_count": 55,
   "metadata": {
    "ExecuteTime": {
     "end_time": "2024-01-04T22:25:01.613134Z",
     "start_time": "2024-01-04T22:25:01.254994Z"
    },
    "execution": {
     "iopub.execute_input": "2023-11-15T15:39:01.423164Z",
     "iopub.status.busy": "2023-11-15T15:39:01.423110Z",
     "iopub.status.idle": "2023-11-15T15:39:01.425081Z",
     "shell.execute_reply": "2023-11-15T15:39:01.424873Z",
     "shell.execute_reply.started": "2023-11-15T15:39:01.423158Z"
    }
   },
   "outputs": [
    {
     "name": "stdout",
     "output_type": "stream",
     "text": [
      "flujo: 0.875\n"
     ]
    }
   ],
   "source": [
    "# El valor del índice se puede alterar (existe un setter).\n",
    "simple_mccy_cashflow.set_fx_rate_index_value(800.00)\n",
    "print(\"flujo:\", simple_mccy_cashflow.amount())"
   ]
  },
  {
   "cell_type": "code",
   "execution_count": 56,
   "metadata": {
    "ExecuteTime": {
     "end_time": "2024-01-04T22:25:01.906232Z",
     "start_time": "2024-01-04T22:25:01.599882Z"
    },
    "execution": {
     "iopub.execute_input": "2023-11-15T15:39:01.425579Z",
     "iopub.status.busy": "2023-11-15T15:39:01.425504Z",
     "iopub.status.idle": "2023-11-15T15:39:01.428089Z",
     "shell.execute_reply": "2023-11-15T15:39:01.427845Z",
     "shell.execute_reply.started": "2023-11-15T15:39:01.425571Z"
    }
   },
   "outputs": [
    {
     "name": "stdout",
     "output_type": "stream",
     "text": [
      "fecha flujo: 2019-11-16\n",
      "nominal: 1.0\n",
      "moneda nominal: USD\n",
      "flujo: 700.0\n",
      "moneda flujo: CLP\n"
     ]
    }
   ],
   "source": [
    "# Ejemplo 2. Las monedas están invertidas respecto al caso anterior. El valor del índice se usa de la forma correcta.\n",
    "simple_mccy_cashflow = qcf.SimpleMultiCurrencyCashflow(\n",
    "    fecha3, 1, usd, fecha3, clp, usdclp_obs, 700.00\n",
    ")\n",
    "print(\"fecha flujo:\", simple_mccy_cashflow.date())\n",
    "print(\"nominal:\", simple_mccy_cashflow.nominal())\n",
    "print(\"moneda nominal:\", simple_mccy_cashflow.ccy().get_iso_code())\n",
    "print(\"flujo:\", simple_mccy_cashflow.amount())\n",
    "print(\"moneda flujo:\", simple_mccy_cashflow.settlement_ccy().get_iso_code())"
   ]
  },
  {
   "cell_type": "code",
   "execution_count": 57,
   "metadata": {
    "ExecuteTime": {
     "end_time": "2024-01-04T22:25:02.094725Z",
     "start_time": "2024-01-04T22:25:01.894358Z"
    },
    "execution": {
     "iopub.execute_input": "2023-11-15T15:39:01.428565Z",
     "iopub.status.busy": "2023-11-15T15:39:01.428493Z",
     "iopub.status.idle": "2023-11-15T15:39:01.430888Z",
     "shell.execute_reply": "2023-11-15T15:39:01.430550Z",
     "shell.execute_reply.started": "2023-11-15T15:39:01.428558Z"
    }
   },
   "outputs": [
    {
     "name": "stdout",
     "output_type": "stream",
     "text": [
      "Error: Fx Rate Index provided is not compatible with nominal and settlement currency. \n"
     ]
    }
   ],
   "source": [
    "# Ejemplo 3. Hay inconsistencia entre las monedas y el tipo de cambio del índice.\n",
    "eur = qcf.QCEUR()\n",
    "try:\n",
    "    simple_mccy_cashflow = qcf.SimpleMultiCurrencyCashflow(\n",
    "        fecha3, 1, usd, fecha3, eur, usdclp_obs, 700.00\n",
    "    )\n",
    "except ValueError as e:\n",
    "    print(\"Error:\", e)"
   ]
  },
  {
   "cell_type": "code",
   "execution_count": 58,
   "metadata": {
    "ExecuteTime": {
     "end_time": "2024-01-04T22:25:02.545463Z",
     "start_time": "2024-01-04T22:25:02.066999Z"
    },
    "execution": {
     "iopub.execute_input": "2023-11-15T15:39:01.431245Z",
     "iopub.status.busy": "2023-11-15T15:39:01.431172Z",
     "iopub.status.idle": "2023-11-15T15:39:01.433293Z",
     "shell.execute_reply": "2023-11-15T15:39:01.433055Z",
     "shell.execute_reply.started": "2023-11-15T15:39:01.431238Z"
    }
   },
   "outputs": [
    {
     "data": {
      "text/plain": [
       "('2019-11-16', 1.0, 'USD', '2019-11-16', 'CLP', 'USDOBS', 700.0, 700.0)"
      ]
     },
     "execution_count": 58,
     "metadata": {},
     "output_type": "execute_result"
    }
   ],
   "source": [
    "# Función show\n",
    "qcf.show(simple_mccy_cashflow)"
   ]
  },
  {
   "cell_type": "code",
   "execution_count": 59,
   "metadata": {
    "ExecuteTime": {
     "end_time": "2024-01-04T22:25:02.766661Z",
     "start_time": "2024-01-04T22:25:02.518946Z"
    },
    "execution": {
     "iopub.execute_input": "2023-11-15T15:39:01.433785Z",
     "iopub.status.busy": "2023-11-15T15:39:01.433655Z",
     "iopub.status.idle": "2023-11-15T15:39:01.435664Z",
     "shell.execute_reply": "2023-11-15T15:39:01.435450Z",
     "shell.execute_reply.started": "2023-11-15T15:39:01.433778Z"
    }
   },
   "outputs": [
    {
     "data": {
      "text/plain": [
       "'SimpleMultiCurrencyCashflow'"
      ]
     },
     "execution_count": 59,
     "metadata": {},
     "output_type": "execute_result"
    }
   ],
   "source": [
    "simple_mccy_cashflow.get_type()"
   ]
  },
  {
   "cell_type": "markdown",
   "metadata": {},
   "source": [
    "### Fixed Rate Cashflow\n",
    "Un objeto de tipo `FixedRateCashflow` representa un flujo de caja calculado a partir de la aplicación de una tasa prefijada, entre dos fechas prefijadas a un nominal prefijado. Para dar de alta uno de estos objetos se requiere:\n",
    "\n",
    "- `QCDate`: fecha inicio (para la aplicación de la tasa)\n",
    "- `QCDate`: fecha final (para la aplicación de la tasa)\n",
    "- `QCDate`: fecha de pago\n",
    "- `float`: nominal (monto al que se le aplica la tasa)\n",
    "- `float`: amortización (eventual flujo de caja que corresponde a una porción del nominal)\n",
    "- `bool`: indica si la amortización anterior es un flujo de caja o sólo una disminución de nominal\n",
    "- `QCInterestRate`: la tasa de interés a aplicar (su valor y convenciones)\n",
    "- `QCCurrency`: moneda del nominal y del flujo de caja"
   ]
  },
  {
   "cell_type": "code",
   "execution_count": 60,
   "metadata": {
    "ExecuteTime": {
     "end_time": "2024-01-04T22:25:03.323926Z",
     "start_time": "2024-01-04T22:25:02.752585Z"
    },
    "execution": {
     "iopub.execute_input": "2023-11-15T15:39:01.436006Z",
     "iopub.status.busy": "2023-11-15T15:39:01.435936Z",
     "iopub.status.idle": "2023-11-15T15:39:01.437993Z",
     "shell.execute_reply": "2023-11-15T15:39:01.437764Z",
     "shell.execute_reply.started": "2023-11-15T15:39:01.436000Z"
    }
   },
   "outputs": [],
   "source": [
    "# Ejemplo\n",
    "fecha_inicio = qcf.QCDate(20, 9, 2018)\n",
    "fecha_final = qcf.QCDate(20, 9, 2019)\n",
    "fecha_pago = qcf.QCDate(23, 9, 2019)\n",
    "tasa = qcf.QCInterestRate(0.1, act360, lin_wf)\n",
    "fixed_rate_cashflow = qcf.FixedRateCashflow(\n",
    "    fecha_inicio, \n",
    "    fecha_final, \n",
    "    fecha_pago, \n",
    "    1_000_000_000.0, \n",
    "    100_000_000.0, \n",
    "    True, \n",
    "    tasa, \n",
    "    clp\n",
    ")"
   ]
  },
  {
   "cell_type": "code",
   "execution_count": 61,
   "metadata": {
    "ExecuteTime": {
     "end_time": "2024-01-04T22:25:03.539730Z",
     "start_time": "2024-01-04T22:25:03.282354Z"
    },
    "execution": {
     "iopub.execute_input": "2023-11-15T15:39:01.438387Z",
     "iopub.status.busy": "2023-11-15T15:39:01.438331Z",
     "iopub.status.idle": "2023-11-15T15:39:01.440492Z",
     "shell.execute_reply": "2023-11-15T15:39:01.440216Z",
     "shell.execute_reply.started": "2023-11-15T15:39:01.438381Z"
    }
   },
   "outputs": [
    {
     "name": "stdout",
     "output_type": "stream",
     "text": [
      "Fecha Inicio: 2018-09-20\n",
      "Fecha Final: 2019-09-20\n",
      "Fecha Pago: 2019-09-23\n",
      "Moneda: CLP\n",
      "Nominal: 1,000,000,000\n",
      "Amortización: 100,000,000\n"
     ]
    }
   ],
   "source": [
    "# Getters\n",
    "print(\"Fecha Inicio:\", fixed_rate_cashflow.get_start_date())\n",
    "print(\"Fecha Final:\", fixed_rate_cashflow.get_end_date())\n",
    "print(\"Fecha Pago:\", fixed_rate_cashflow.get_settlement_date())\n",
    "print(\"Moneda:\", fixed_rate_cashflow.ccy().get_iso_code())\n",
    "print(f\"Nominal: {fixed_rate_cashflow.get_nominal():,.0f}\")\n",
    "print(f\"Amortización: {fixed_rate_cashflow.get_amortization():,.0f}\")"
   ]
  },
  {
   "cell_type": "code",
   "execution_count": 62,
   "metadata": {
    "ExecuteTime": {
     "end_time": "2024-01-04T22:25:03.937524Z",
     "start_time": "2024-01-04T22:25:03.522785Z"
    },
    "execution": {
     "iopub.execute_input": "2023-11-15T15:39:01.440929Z",
     "iopub.status.busy": "2023-11-15T15:39:01.440858Z",
     "iopub.status.idle": "2023-11-15T15:39:01.442958Z",
     "shell.execute_reply": "2023-11-15T15:39:01.442704Z",
     "shell.execute_reply.started": "2023-11-15T15:39:01.440922Z"
    }
   },
   "outputs": [
    {
     "name": "stdout",
     "output_type": "stream",
     "text": [
      "Nuevo nominal: 2,000,000,000\n",
      "Nueva amortización: 200,000,000\n"
     ]
    }
   ],
   "source": [
    "# Setters\n",
    "# TODO: set_rate\n",
    "nuevo_nominal = 2_000_000_000.0\n",
    "fixed_rate_cashflow.set_nominal(nuevo_nominal)\n",
    "print(f\"Nuevo nominal: {fixed_rate_cashflow.get_nominal():,.0f}\")\n",
    "\n",
    "nueva_amortizacion = 200_000_000.0\n",
    "fixed_rate_cashflow.set_amortization(nueva_amortizacion)\n",
    "print(f\"Nueva amortización: {fixed_rate_cashflow.get_amortization():,.0f}\")"
   ]
  },
  {
   "cell_type": "code",
   "execution_count": 63,
   "metadata": {
    "ExecuteTime": {
     "end_time": "2024-01-04T22:25:04.125503Z",
     "start_time": "2024-01-04T22:25:03.927669Z"
    },
    "execution": {
     "iopub.execute_input": "2023-11-15T15:39:01.443456Z",
     "iopub.status.busy": "2023-11-15T15:39:01.443346Z",
     "iopub.status.idle": "2023-11-15T15:39:01.445492Z",
     "shell.execute_reply": "2023-11-15T15:39:01.445240Z",
     "shell.execute_reply.started": "2023-11-15T15:39:01.443449Z"
    }
   },
   "outputs": [
    {
     "name": "stdout",
     "output_type": "stream",
     "text": [
      "Flujo Total: 402,777,778\n",
      "Check: 402,777,778\n",
      "\n",
      "Interés Devengado: 57,777,778\n",
      "Check: 57,777,778\n"
     ]
    }
   ],
   "source": [
    "# Cálculos\n",
    "print(f\"Flujo Total: {fixed_rate_cashflow.amount():,.0f}\")\n",
    "print(f\"Check: {fixed_rate_cashflow.get_nominal() * 0.1 * 365.0 / 360 + fixed_rate_cashflow.get_amortization():,.0f}\")\n",
    "print()\n",
    "fecha_intermedia = qcf.QCDate(2, 1, 2019)\n",
    "print(f\"Interés Devengado: {fixed_rate_cashflow.accrued_interest(fecha_intermedia):,.0f}\")\n",
    "print(f\"Check: {fixed_rate_cashflow.get_nominal() * 0.1 * fecha_inicio.day_diff(fecha_intermedia) / 360.0:,.0f}\")"
   ]
  },
  {
   "cell_type": "code",
   "execution_count": 64,
   "metadata": {
    "ExecuteTime": {
     "end_time": "2024-01-04T22:25:04.647803Z",
     "start_time": "2024-01-04T22:25:04.096391Z"
    },
    "execution": {
     "iopub.execute_input": "2023-11-15T15:39:01.445842Z",
     "iopub.status.busy": "2023-11-15T15:39:01.445778Z",
     "iopub.status.idle": "2023-11-15T15:39:01.447793Z",
     "shell.execute_reply": "2023-11-15T15:39:01.447571Z",
     "shell.execute_reply.started": "2023-11-15T15:39:01.445835Z"
    }
   },
   "outputs": [
    {
     "name": "stdout",
     "output_type": "stream",
     "text": [
      "('2018-09-20', '2019-09-20', '2019-09-23', 2000000000.0, 200000000.0, 202777777.77777794, True, 402777777.7777779, 'CLP', 0.1, 'LinAct360')\n"
     ]
    }
   ],
   "source": [
    "# Función show\n",
    "print(qcf.show(fixed_rate_cashflow))"
   ]
  },
  {
   "cell_type": "code",
   "execution_count": 65,
   "metadata": {
    "ExecuteTime": {
     "end_time": "2024-01-04T22:25:04.948527Z",
     "start_time": "2024-01-04T22:25:04.618266Z"
    },
    "execution": {
     "iopub.execute_input": "2023-11-15T15:39:01.448192Z",
     "iopub.status.busy": "2023-11-15T15:39:01.448134Z",
     "iopub.status.idle": "2023-11-15T15:39:01.450155Z",
     "shell.execute_reply": "2023-11-15T15:39:01.449839Z",
     "shell.execute_reply.started": "2023-11-15T15:39:01.448186Z"
    }
   },
   "outputs": [
    {
     "name": "stdout",
     "output_type": "stream",
     "text": [
      "Interés total: al 202,777,778\n"
     ]
    }
   ],
   "source": [
    "print(f\"Interés total: al {fixed_rate_cashflow.accrued_interest(fixed_rate_cashflow.get_end_date()):,.0f}\")"
   ]
  },
  {
   "cell_type": "code",
   "execution_count": 66,
   "metadata": {
    "ExecuteTime": {
     "end_time": "2024-01-04T22:25:05.440380Z",
     "start_time": "2024-01-04T22:25:04.907276Z"
    },
    "execution": {
     "iopub.execute_input": "2023-11-15T15:39:01.450499Z",
     "iopub.status.busy": "2023-11-15T15:39:01.450430Z",
     "iopub.status.idle": "2023-11-15T15:39:01.452458Z",
     "shell.execute_reply": "2023-11-15T15:39:01.452258Z",
     "shell.execute_reply.started": "2023-11-15T15:39:01.450492Z"
    }
   },
   "outputs": [
    {
     "data": {
      "text/plain": [
       "'FixedRateCashflow'"
      ]
     },
     "execution_count": 66,
     "metadata": {},
     "output_type": "execute_result"
    }
   ],
   "source": [
    "fixed_rate_cashflow.get_type()"
   ]
  },
  {
   "cell_type": "markdown",
   "metadata": {},
   "source": [
    "### Fixed Rate Multi Currency Cashflow\n",
    "Un objeto de tipo `FixedRateMultiCurrencyCashflow` representa un flujo de caja a tasa fija (`FixedRateCashflow`) que se liquidará en una moneda distinta de la moneda del nominal utilizando el valor a una cierta fecha de un índice de tipo de cambio prefijado. Para dar de alta uno de estos objetos se requiere:\n",
    "\n",
    "- `QCDate`: fecha inicio (para la aplicación de la tasa)\n",
    "- `QCDate`: fecha final (para la aplicación de la tasa)\n",
    "- `QCDate`: fecha de pago\n",
    "- `float`: nominal (monto al que se le aplica la tasa)\n",
    "- `float`: amortización (eventual flujo de caja que corresponde a una porción del nominal)\n",
    "- `bool`: indica si la amortización anterior es un flujo de caja o sólo una disminución de nominal\n",
    "- `QCInterestRate`: la tasa de interés a aplicar (su valor y convenciones)\n",
    "- `QCCurrency`: moneda del nominal\n",
    "- `QCDate`: fecha de publicación del índice de tipo de cambio\n",
    "- `QCCurrency`: moneda en la que se liquida el flujo\n",
    "- `FXRateIndex`: índice de tipo de cambio a utilizar\n",
    "- `float`: valor del índice de tipo de cambio"
   ]
  },
  {
   "cell_type": "code",
   "execution_count": 67,
   "metadata": {
    "ExecuteTime": {
     "end_time": "2024-01-04T22:25:05.649673Z",
     "start_time": "2024-01-04T22:25:05.428900Z"
    },
    "execution": {
     "iopub.execute_input": "2023-11-15T15:39:01.460004Z",
     "iopub.status.busy": "2023-11-15T15:39:01.459837Z",
     "iopub.status.idle": "2023-11-15T15:39:01.462336Z",
     "shell.execute_reply": "2023-11-15T15:39:01.461969Z",
     "shell.execute_reply.started": "2023-11-15T15:39:01.459996Z"
    }
   },
   "outputs": [
    {
     "name": "stdout",
     "output_type": "stream",
     "text": [
      "<qcfinancial.FixedRateMultiCurrencyCashflow object at 0x1212e6a30>\n"
     ]
    }
   ],
   "source": [
    "# Ejemplo\n",
    "fecha_inicio = qcf.QCDate(20, 9, 2018)\n",
    "fecha_final = qcf.QCDate(20, 9, 2019)\n",
    "fecha_pago = qcf.QCDate(23, 9, 2019)\n",
    "fecha_publicacion = qcf.QCDate(23, 9, 2019)\n",
    "usd = qcf.QCUSD()\n",
    "indice = usdclp_obs\n",
    "valor_indice = 20.0\n",
    "nominal = 1_000.0\n",
    "amort = 1_000.0\n",
    "fixed_rate_mccy_cashflow = qcf.FixedRateMultiCurrencyCashflow(\n",
    "    fecha_inicio,\n",
    "    fecha_final,\n",
    "    fecha_pago,\n",
    "    nominal,\n",
    "    amort,\n",
    "    False,\n",
    "    tasa,\n",
    "    usd,\n",
    "    fecha_publicacion,\n",
    "    clp,\n",
    "    indice,\n",
    "    valor_indice,\n",
    ")\n",
    "print(fixed_rate_mccy_cashflow)"
   ]
  },
  {
   "cell_type": "markdown",
   "metadata": {},
   "source": [
    "**TODO: get_rate.** Este getter no debe ser un getter tradicional, ya que no es necesario que retorne una referencia a todo el objeto ``QCInterestRate``, basta con el valor y la descripción de yf y wf asociado (mejor llamarlo get_rate_info)."
   ]
  },
  {
   "cell_type": "code",
   "execution_count": 68,
   "metadata": {
    "ExecuteTime": {
     "end_time": "2024-01-04T22:25:06.244457Z",
     "start_time": "2024-01-04T22:25:05.620946Z"
    },
    "execution": {
     "iopub.execute_input": "2023-11-15T15:39:01.462705Z",
     "iopub.status.busy": "2023-11-15T15:39:01.462635Z",
     "iopub.status.idle": "2023-11-15T15:39:01.464935Z",
     "shell.execute_reply": "2023-11-15T15:39:01.464705Z",
     "shell.execute_reply.started": "2023-11-15T15:39:01.462698Z"
    }
   },
   "outputs": [
    {
     "name": "stdout",
     "output_type": "stream",
     "text": [
      "Fecha Inicio: 2018-09-20\n",
      "Fecha Final: 2019-09-20\n",
      "Fecha Pago: 2019-09-23\n"
     ]
    },
    {
     "ename": "AttributeError",
     "evalue": "'qcfinancial.FixedRateMultiCurrencyCashflow' object has no attribute 'get_fx_publish_date'",
     "output_type": "error",
     "traceback": [
      "\u001b[0;31m---------------------------------------------------------------------------\u001b[0m",
      "\u001b[0;31mAttributeError\u001b[0m                            Traceback (most recent call last)",
      "Cell \u001b[0;32mIn[68], line 5\u001b[0m\n\u001b[1;32m      3\u001b[0m \u001b[38;5;28mprint\u001b[39m(\u001b[38;5;124m\"\u001b[39m\u001b[38;5;124mFecha Final:\u001b[39m\u001b[38;5;124m\"\u001b[39m, fixed_rate_mccy_cashflow\u001b[38;5;241m.\u001b[39mget_end_date())\n\u001b[1;32m      4\u001b[0m \u001b[38;5;28mprint\u001b[39m(\u001b[38;5;124m\"\u001b[39m\u001b[38;5;124mFecha Pago:\u001b[39m\u001b[38;5;124m\"\u001b[39m, fixed_rate_mccy_cashflow\u001b[38;5;241m.\u001b[39mget_settlement_date())\n\u001b[0;32m----> 5\u001b[0m \u001b[38;5;28mprint\u001b[39m(\u001b[38;5;124m\"\u001b[39m\u001b[38;5;124mFecha Publicación Índice FX:\u001b[39m\u001b[38;5;124m\"\u001b[39m, \u001b[43mfixed_rate_mccy_cashflow\u001b[49m\u001b[38;5;241;43m.\u001b[39;49m\u001b[43mget_fx_publish_date\u001b[49m())\n\u001b[1;32m      6\u001b[0m \u001b[38;5;28mprint\u001b[39m(\u001b[38;5;124m\"\u001b[39m\u001b[38;5;124mMoneda del Nominal:\u001b[39m\u001b[38;5;124m\"\u001b[39m, fixed_rate_mccy_cashflow\u001b[38;5;241m.\u001b[39mccy())\n\u001b[1;32m      7\u001b[0m \u001b[38;5;28mprint\u001b[39m(\u001b[38;5;124mf\u001b[39m\u001b[38;5;124m\"\u001b[39m\u001b[38;5;124mNominal: \u001b[39m\u001b[38;5;132;01m{\u001b[39;00mfixed_rate_mccy_cashflow\u001b[38;5;241m.\u001b[39mget_nominal()\u001b[38;5;132;01m:\u001b[39;00m\u001b[38;5;124m,.0f\u001b[39m\u001b[38;5;132;01m}\u001b[39;00m\u001b[38;5;124m\"\u001b[39m)\n",
      "\u001b[0;31mAttributeError\u001b[0m: 'qcfinancial.FixedRateMultiCurrencyCashflow' object has no attribute 'get_fx_publish_date'"
     ]
    }
   ],
   "source": [
    "# Getters\n",
    "print(\"Fecha Inicio:\", fixed_rate_mccy_cashflow.get_start_date())\n",
    "print(\"Fecha Final:\", fixed_rate_mccy_cashflow.get_end_date())\n",
    "print(\"Fecha Pago:\", fixed_rate_mccy_cashflow.get_settlement_date())\n",
    "print(\"Fecha Publicación Índice FX:\", fixed_rate_mccy_cashflow.get_fx_publish_date())\n",
    "print(\"Moneda del Nominal:\", fixed_rate_mccy_cashflow.ccy())\n",
    "print(f\"Nominal: {fixed_rate_mccy_cashflow.get_nominal():,.0f}\")\n",
    "print(f\"Amortización: {fixed_rate_mccy_cashflow.get_amortization():,.0f}\")\n",
    "print(\"Moneda de Liquidación:\", fixed_rate_mccy_cashflow.settlement_currency())"
   ]
  },
  {
   "cell_type": "markdown",
   "metadata": {},
   "source": [
    "**TODO: set_rate_value.** Debe establecer el valor de la tasa de interés."
   ]
  },
  {
   "cell_type": "code",
   "execution_count": 69,
   "metadata": {
    "ExecuteTime": {
     "end_time": "2024-01-04T22:25:06.341346Z",
     "start_time": "2024-01-04T22:25:06.129193Z"
    },
    "execution": {
     "iopub.execute_input": "2023-11-15T15:39:01.465311Z",
     "iopub.status.busy": "2023-11-15T15:39:01.465246Z",
     "iopub.status.idle": "2023-11-15T15:39:01.467388Z",
     "shell.execute_reply": "2023-11-15T15:39:01.467137Z",
     "shell.execute_reply.started": "2023-11-15T15:39:01.465305Z"
    }
   },
   "outputs": [
    {
     "name": "stdout",
     "output_type": "stream",
     "text": [
      "Nuevo nominal: 100.0\n",
      "Nueva amortización: 10.0\n"
     ]
    }
   ],
   "source": [
    "# Setters\n",
    "nuevo_nominal = 100.0\n",
    "fixed_rate_mccy_cashflow.set_nominal(nuevo_nominal)\n",
    "print(f\"Nuevo nominal: {fixed_rate_mccy_cashflow.get_nominal():,.1f}\")\n",
    "\n",
    "nueva_amortizacion = 10.0\n",
    "fixed_rate_mccy_cashflow.set_amortization(nueva_amortizacion)\n",
    "print(f\"Nueva amortización: {fixed_rate_mccy_cashflow.get_amortization():,.1f}\")"
   ]
  },
  {
   "cell_type": "code",
   "execution_count": 70,
   "metadata": {
    "ExecuteTime": {
     "end_time": "2024-01-04T22:25:11.555829Z",
     "start_time": "2024-01-04T22:25:06.312210Z"
    },
    "execution": {
     "iopub.execute_input": "2023-11-15T15:39:01.467814Z",
     "iopub.status.busy": "2023-11-15T15:39:01.467744Z",
     "iopub.status.idle": "2023-11-15T15:39:01.470200Z",
     "shell.execute_reply": "2023-11-15T15:39:01.469886Z",
     "shell.execute_reply.started": "2023-11-15T15:39:01.467807Z"
    }
   },
   "outputs": [
    {
     "name": "stdout",
     "output_type": "stream",
     "text": [
      "Flujo Total: 101.39\n",
      "Check: 2,027.78\n",
      "\n",
      "Interés Devengado: 28.89\n",
      "Check: 28.89\n"
     ]
    }
   ],
   "source": [
    "# Cálculos\n",
    "fixed_rate_mccy_cashflow.set_nominal(nominal)\n",
    "fixed_rate_mccy_cashflow.set_amortization(amort)\n",
    "print(f\"Flujo Total: {fixed_rate_mccy_cashflow.amount():,.2f}\")\n",
    "print(f\"Check: {(fixed_rate_mccy_cashflow.get_nominal() * 0.1 * 365.0 / 360) * valor_indice:,.2f}\")\n",
    "print()\n",
    "fecha_intermedia = qcf.QCDate(2, 1, 2019)\n",
    "print(f\"Interés Devengado: {fixed_rate_mccy_cashflow.accrued_interest(fecha_intermedia):,.02f}\")\n",
    "print(f\"Check: {fixed_rate_mccy_cashflow.get_nominal() * 0.1 * fecha_inicio.day_diff(fecha_intermedia) / 360.0:,.02f}\")"
   ]
  },
  {
   "cell_type": "code",
   "execution_count": 71,
   "metadata": {
    "ExecuteTime": {
     "end_time": "2024-01-04T22:25:11.899024Z",
     "start_time": "2024-01-04T22:25:11.529153Z"
    },
    "execution": {
     "iopub.execute_input": "2023-11-15T15:39:01.470864Z",
     "iopub.status.busy": "2023-11-15T15:39:01.470630Z",
     "iopub.status.idle": "2023-11-15T15:39:01.472457Z",
     "shell.execute_reply": "2023-11-15T15:39:01.472151Z",
     "shell.execute_reply.started": "2023-11-15T15:39:01.470856Z"
    }
   },
   "outputs": [],
   "source": [
    "ts = qcf.time_series()"
   ]
  },
  {
   "cell_type": "code",
   "execution_count": 72,
   "metadata": {
    "ExecuteTime": {
     "end_time": "2024-01-04T22:25:12.223519Z",
     "start_time": "2024-01-04T22:25:11.861913Z"
    },
    "execution": {
     "iopub.execute_input": "2023-11-15T15:39:01.472815Z",
     "iopub.status.busy": "2023-11-15T15:39:01.472754Z",
     "iopub.status.idle": "2023-11-15T15:39:01.474725Z",
     "shell.execute_reply": "2023-11-15T15:39:01.474480Z",
     "shell.execute_reply.started": "2023-11-15T15:39:01.472809Z"
    }
   },
   "outputs": [],
   "source": [
    "ts[fecha_inicio] = 10"
   ]
  },
  {
   "cell_type": "code",
   "execution_count": 73,
   "metadata": {
    "ExecuteTime": {
     "end_time": "2024-01-04T22:25:12.542901Z",
     "start_time": "2024-01-04T22:25:12.210143Z"
    },
    "execution": {
     "iopub.execute_input": "2023-11-15T15:39:01.475107Z",
     "iopub.status.busy": "2023-11-15T15:39:01.475035Z",
     "iopub.status.idle": "2023-11-15T15:39:01.477274Z",
     "shell.execute_reply": "2023-11-15T15:39:01.477029Z",
     "shell.execute_reply.started": "2023-11-15T15:39:01.475099Z"
    }
   },
   "outputs": [
    {
     "data": {
      "text/plain": [
       "10.0"
      ]
     },
     "execution_count": 73,
     "metadata": {},
     "output_type": "execute_result"
    }
   ],
   "source": [
    "ts[fecha_inicio]"
   ]
  },
  {
   "cell_type": "code",
   "execution_count": 74,
   "metadata": {
    "ExecuteTime": {
     "end_time": "2024-01-04T22:25:12.756444Z",
     "start_time": "2024-01-04T22:25:12.518979Z"
    },
    "execution": {
     "iopub.execute_input": "2023-11-15T15:39:01.477629Z",
     "iopub.status.busy": "2023-11-15T15:39:01.477568Z",
     "iopub.status.idle": "2023-11-15T15:39:01.479153Z",
     "shell.execute_reply": "2023-11-15T15:39:01.478828Z",
     "shell.execute_reply.started": "2023-11-15T15:39:01.477622Z"
    }
   },
   "outputs": [],
   "source": [
    "ts[fecha_intermedia] = 15"
   ]
  },
  {
   "cell_type": "code",
   "execution_count": 75,
   "metadata": {
    "ExecuteTime": {
     "end_time": "2024-01-04T22:25:12.936546Z",
     "start_time": "2024-01-04T22:25:12.743091Z"
    },
    "execution": {
     "iopub.execute_input": "2023-11-15T15:39:01.479531Z",
     "iopub.status.busy": "2023-11-15T15:39:01.479467Z",
     "iopub.status.idle": "2023-11-15T15:39:01.481538Z",
     "shell.execute_reply": "2023-11-15T15:39:01.481318Z",
     "shell.execute_reply.started": "2023-11-15T15:39:01.479525Z"
    }
   },
   "outputs": [
    {
     "name": "stdout",
     "output_type": "stream",
     "text": [
      "288.88888888888965\n"
     ]
    }
   ],
   "source": [
    "print(fixed_rate_mccy_cashflow.accrued_interest(fecha_intermedia, fecha_inicio, ts))"
   ]
  },
  {
   "cell_type": "code",
   "execution_count": 76,
   "metadata": {
    "ExecuteTime": {
     "end_time": "2024-01-04T22:25:13.299839Z",
     "start_time": "2024-01-04T22:25:12.908640Z"
    },
    "execution": {
     "iopub.execute_input": "2023-11-15T15:39:01.481857Z",
     "iopub.status.busy": "2023-11-15T15:39:01.481798Z",
     "iopub.status.idle": "2023-11-15T15:39:01.483619Z",
     "shell.execute_reply": "2023-11-15T15:39:01.483383Z",
     "shell.execute_reply.started": "2023-11-15T15:39:01.481851Z"
    }
   },
   "outputs": [
    {
     "name": "stdout",
     "output_type": "stream",
     "text": [
      "433.33333333333445\n"
     ]
    }
   ],
   "source": [
    "print(fixed_rate_mccy_cashflow.accrued_interest(fecha_intermedia, fecha_intermedia, ts))"
   ]
  },
  {
   "cell_type": "code",
   "execution_count": 77,
   "metadata": {
    "ExecuteTime": {
     "end_time": "2024-01-04T22:25:13.491633Z",
     "start_time": "2024-01-04T22:25:13.274316Z"
    },
    "execution": {
     "iopub.execute_input": "2023-11-15T15:39:01.484056Z",
     "iopub.status.busy": "2023-11-15T15:39:01.483981Z",
     "iopub.status.idle": "2023-11-15T15:39:01.485792Z",
     "shell.execute_reply": "2023-11-15T15:39:01.485585Z",
     "shell.execute_reply.started": "2023-11-15T15:39:01.484050Z"
    }
   },
   "outputs": [
    {
     "name": "stdout",
     "output_type": "stream",
     "text": [
      "('2018-09-20', '2019-09-20', '2019-09-23', 1000.0, 1000.0, 101.38888888888897, False, 101.38888888888897, 'USD', 0.1, 'LinAct360', '2019-09-23', 'CLP', 'USDOBS', 20.0, 20000.0, 2027.7777777777794)\n"
     ]
    }
   ],
   "source": [
    "# Función show\n",
    "print(qcf.show(fixed_rate_mccy_cashflow))"
   ]
  },
  {
   "cell_type": "code",
   "execution_count": 78,
   "metadata": {
    "ExecuteTime": {
     "end_time": "2024-01-04T22:25:13.945263Z",
     "start_time": "2024-01-04T22:25:13.479365Z"
    },
    "execution": {
     "iopub.execute_input": "2023-11-15T15:39:01.486221Z",
     "iopub.status.busy": "2023-11-15T15:39:01.486157Z",
     "iopub.status.idle": "2023-11-15T15:39:01.488139Z",
     "shell.execute_reply": "2023-11-15T15:39:01.487910Z",
     "shell.execute_reply.started": "2023-11-15T15:39:01.486214Z"
    }
   },
   "outputs": [
    {
     "data": {
      "text/plain": [
       "'FixedRateMultiCurrencyCashflow'"
      ]
     },
     "execution_count": 78,
     "metadata": {},
     "output_type": "execute_result"
    }
   ],
   "source": [
    "fixed_rate_mccy_cashflow.get_type()"
   ]
  },
  {
   "cell_type": "markdown",
   "metadata": {},
   "source": [
    "### Fixed Rate Cashflow 2\n",
    "Un objeto de tipo `FixedRateCashflow2` representa un flujo de caja calculado a partir de la aplicación de una tasa prefijada, entre dos fechas prefijadas a un nominal prefijado. Este tipo de cashflow puede ser *quantizado*, es decir, se puede cambiar su moneda de pago componiéndolo con un objeto adicional. Para dar de alta uno de estos objetos se requiere:\n",
    "\n",
    "- `QCDate`: fecha inicio (para la aplicación de la tasa)\n",
    "- `QCDate`: fecha final (para la aplicación de la tasa)\n",
    "- `QCDate`: fecha de pago\n",
    "- `float`: nominal (monto al que se le aplica la tasa)\n",
    "- `float`: amortización (eventual flujo de caja que corresponde a una porción del nominal)\n",
    "- `bool`: indica si la amortización anterior es un flujo de caja o sólo una disminución de nominal\n",
    "- `QCInterestRate`: la tasa de interés a aplicar (su valor y convenciones)\n",
    "- `QCCurrency`: moneda del nominal y del flujo de caja"
   ]
  },
  {
   "cell_type": "code",
   "execution_count": 79,
   "metadata": {
    "ExecuteTime": {
     "end_time": "2024-01-04T22:25:14.186430Z",
     "start_time": "2024-01-04T22:25:13.933540Z"
    },
    "execution": {
     "iopub.execute_input": "2023-11-15T15:39:01.488484Z",
     "iopub.status.busy": "2023-11-15T15:39:01.488381Z",
     "iopub.status.idle": "2023-11-15T15:39:01.490480Z",
     "shell.execute_reply": "2023-11-15T15:39:01.490247Z",
     "shell.execute_reply.started": "2023-11-15T15:39:01.488473Z"
    }
   },
   "outputs": [],
   "source": [
    "# Ejemplo\n",
    "fecha_inicio = qcf.QCDate(20, 9, 2018)\n",
    "fecha_final = qcf.QCDate(20, 9, 2019)\n",
    "fecha_pago = qcf.QCDate(23, 9, 2019)\n",
    "tasa = qcf.QCInterestRate(0.15, act360, lin_wf)\n",
    "fixed_rate_cashflow_2 = qcf.FixedRateCashflow2(\n",
    "    fecha_inicio, \n",
    "    fecha_final, \n",
    "    fecha_pago, \n",
    "    1_000_000_000.0,\n",
    "    100_000_000.0, \n",
    "    True, \n",
    "    tasa, \n",
    "    clp\n",
    ")"
   ]
  },
  {
   "cell_type": "code",
   "execution_count": 80,
   "metadata": {
    "ExecuteTime": {
     "end_time": "2024-01-04T22:25:14.740859Z",
     "start_time": "2024-01-04T22:25:14.156310Z"
    },
    "execution": {
     "iopub.execute_input": "2023-11-15T15:39:01.490974Z",
     "iopub.status.busy": "2023-11-15T15:39:01.490885Z",
     "iopub.status.idle": "2023-11-15T15:39:01.492576Z",
     "shell.execute_reply": "2023-11-15T15:39:01.492219Z",
     "shell.execute_reply.started": "2023-11-15T15:39:01.490967Z"
    }
   },
   "outputs": [
    {
     "name": "stdout",
     "output_type": "stream",
     "text": [
      "Accrued Fixing: 15.00%\n"
     ]
    }
   ],
   "source": [
    "print(f\"Accrued Fixing: {fixed_rate_cashflow_2.accrued_fixing(fecha_inicio):.2%}\")"
   ]
  },
  {
   "cell_type": "code",
   "execution_count": 81,
   "metadata": {
    "ExecuteTime": {
     "end_time": "2024-01-04T22:25:14.909641Z",
     "start_time": "2024-01-04T22:25:14.728823Z"
    },
    "execution": {
     "iopub.execute_input": "2023-11-15T15:39:01.492950Z",
     "iopub.status.busy": "2023-11-15T15:39:01.492888Z",
     "iopub.status.idle": "2023-11-15T15:39:01.496090Z",
     "shell.execute_reply": "2023-11-15T15:39:01.495863Z",
     "shell.execute_reply.started": "2023-11-15T15:39:01.492944Z"
    }
   },
   "outputs": [
    {
     "name": "stdout",
     "output_type": "stream",
     "text": [
      "amount: 252,083,333\n",
      "currency: CLP\n",
      "date: 2019-09-23\n",
      "start date: 2018-09-20\n",
      "end date: 2019-09-20\n",
      "settlement date: 2019-09-23\n",
      "fixing dates:\n",
      "\t 2018-09-20\n",
      "nominal: 1,000,000,000\n",
      "amortization: 100,000,000\n",
      "interest (1st overload): 152,083,333\n",
      "interest (2nd overload): 152,083,333\n",
      "fixing (1st overload): 15.00%\n",
      "fixing (2nd overload): 15.00%\n",
      "accrued interest (1st overload): 75,416,667\n",
      "accrued interest (2nd overload): 75,416,667\n",
      "accrued fixing (1st overload): 15.00%\n",
      "accrued fixing (2nd overload): 15.00%\n"
     ]
    }
   ],
   "source": [
    "print(f\"amount: {fixed_rate_cashflow_2.amount():,.0f}\")\n",
    "print(\"currency:\", fixed_rate_cashflow_2.ccy().get_iso_code())\n",
    "print(\"date:\", fixed_rate_cashflow_2.date())\n",
    "print(\"start date:\", fixed_rate_cashflow_2.get_start_date())\n",
    "print(\"end date:\", fixed_rate_cashflow_2.get_end_date())\n",
    "print(\"settlement date:\", fixed_rate_cashflow_2.get_settlement_date())\n",
    "print(\"fixing dates:\")\n",
    "for f in fixed_rate_cashflow_2.get_fixing_dates():\n",
    "    print(\"\\t\", f)\n",
    "print(f\"nominal: {fixed_rate_cashflow_2.get_nominal():,.0f}\")\n",
    "print(f\"amortization: {fixed_rate_cashflow_2.get_amortization():,.0f}\")\n",
    "print(f\"interest (1st overload): {fixed_rate_cashflow_2.interest():,.0f}\")\n",
    "\n",
    "ts = qcf.time_series()\n",
    "print(f\"interest (2nd overload): {fixed_rate_cashflow_2.interest(ts):,.0f}\")\n",
    "print(f\"fixing (1st overload): {fixed_rate_cashflow_2.fixing():.2%}\")\n",
    "print(f\"fixing (2nd overload): {fixed_rate_cashflow_2.fixing(ts):.2%}\")\n",
    "fecha_intermedia = qcf.QCDate(20, 3, 2019)\n",
    "print(f\"accrued interest (1st overload): {fixed_rate_cashflow_2.accrued_interest(fecha_intermedia):,.0f}\")\n",
    "print(f\"accrued interest (2nd overload): {fixed_rate_cashflow_2.accrued_interest(fecha_intermedia, ts):,.0f}\")\n",
    "print(f\"accrued fixing (1st overload): {fixed_rate_cashflow_2.accrued_fixing(fecha_intermedia):.2%}\")\n",
    "print(f\"accrued fixing (2nd overload): {fixed_rate_cashflow_2.accrued_fixing(fecha_intermedia, ts):,.2%}\")"
   ]
  },
  {
   "cell_type": "code",
   "execution_count": 82,
   "metadata": {
    "ExecuteTime": {
     "end_time": "2024-01-04T22:25:15.465821Z",
     "start_time": "2024-01-04T22:25:14.886513Z"
    },
    "execution": {
     "iopub.execute_input": "2023-11-15T15:39:01.496784Z",
     "iopub.status.busy": "2023-11-15T15:39:01.496542Z",
     "iopub.status.idle": "2023-11-15T15:39:01.498639Z",
     "shell.execute_reply": "2023-11-15T15:39:01.498414Z",
     "shell.execute_reply.started": "2023-11-15T15:39:01.496776Z"
    }
   },
   "outputs": [
    {
     "data": {
      "text/plain": [
       "'FixedRateCashflow2'"
      ]
     },
     "execution_count": 82,
     "metadata": {},
     "output_type": "execute_result"
    }
   ],
   "source": [
    "fixed_rate_cashflow_2.get_type()"
   ]
  },
  {
   "cell_type": "code",
   "execution_count": 83,
   "metadata": {
    "ExecuteTime": {
     "end_time": "2024-01-04T22:25:15.761024Z",
     "start_time": "2024-01-04T22:25:15.421767Z"
    },
    "execution": {
     "iopub.execute_input": "2023-11-15T15:39:01.498972Z",
     "iopub.status.busy": "2023-11-15T15:39:01.498908Z",
     "iopub.status.idle": "2023-11-15T15:39:01.501067Z",
     "shell.execute_reply": "2023-11-15T15:39:01.500828Z",
     "shell.execute_reply.started": "2023-11-15T15:39:01.498966Z"
    }
   },
   "outputs": [
    {
     "data": {
      "text/plain": [
       "('2018-09-20',\n",
       " '2019-09-20',\n",
       " '2019-09-23',\n",
       " 1000000000.0,\n",
       " 100000000.0,\n",
       " 152083333.33333334,\n",
       " True,\n",
       " 252083333.33333334,\n",
       " 'CLP',\n",
       " 0.15,\n",
       " 'LinAct360')"
      ]
     },
     "execution_count": 83,
     "metadata": {},
     "output_type": "execute_result"
    }
   ],
   "source": [
    "qcf.show(fixed_rate_cashflow_2)"
   ]
  },
  {
   "cell_type": "markdown",
   "metadata": {},
   "source": [
    "### Ibor Cashflow\n",
    "Un objeto de tipo `IborCashflow` representa un flujo de caja calculado a partir de la aplicación de una tasa flotante fijada en una cierta fecha (Libor, Euribor, TAB, ...) , entre dos fechas prefijadas a un nominal prefijado. Para dar de alta uno de estos objetos se requiere:\n",
    "\n",
    "- `InterestRateIndex`: el índice de tasa de interés prefijado\n",
    "- `QCDate`: fecha inicio (para la aplicación de la tasa)\n",
    "- `QCDate`: fecha final (para la aplicación de la tasa)\n",
    "- `QCDate`: fecha de fijación del índice de tasa de interés \n",
    "- `QCDate`: fecha de pago\n",
    "- `float`: nominal (monto al que se le aplica la tasa)\n",
    "- `float`: amortización (eventual flujo de caja que corresponde a una porción del nominal)\n",
    "- `bool`: indica si la amortización anterior es un flujo de caja o sólo una disminución de nominal\n",
    "- `QCCurrency`: moneda del nominal y del flujo de caja\n",
    "- `float`: spread aditivo a aplicar a la fijación del índice\n",
    "- `float`: spread multiplicativo o gearing a aplicar a la fijación del índice\n",
    "\n",
    "Para dar de alta un `InterestRateIndex` se requiere:\n",
    "\n",
    "- `str`: código del índice\n",
    "- `QCInterestRate`: un objeto tasa de interés que contenga las convenciones del índice\n",
    "- `Tenor`: el lag de inicio del índice respecto a la fecha de fixing (por ejemplo 2d para Libor USD)\n",
    "- `Tenor`: el tenor del índice (3M por ejemplo para Libor USD 3M)\n",
    "- `QCBusinessCalendar`: el calendario de fixing\n",
    "- `QCBusinessCalendar`: el calendario de pago\n",
    "- `QCCurrency`: la moneda a la que corresponde el índice (por ejemplo EUR para EURIBOR 3M)\n"
   ]
  },
  {
   "cell_type": "markdown",
   "metadata": {},
   "source": [
    "**TODO: agregar end_date_adjustment al objeto (FOLLOW o MOD FOLLOW).** Esto debiera tener un correspondiente cambio en la BBDD de Front Desk."
   ]
  },
  {
   "cell_type": "code",
   "execution_count": 84,
   "metadata": {
    "ExecuteTime": {
     "end_time": "2024-01-04T22:25:16.347201Z",
     "start_time": "2024-01-04T22:25:15.728291Z"
    },
    "execution": {
     "iopub.execute_input": "2023-11-15T15:39:01.501394Z",
     "iopub.status.busy": "2023-11-15T15:39:01.501336Z",
     "iopub.status.idle": "2023-11-15T15:39:01.504089Z",
     "shell.execute_reply": "2023-11-15T15:39:01.503856Z",
     "shell.execute_reply.started": "2023-11-15T15:39:01.501388Z"
    }
   },
   "outputs": [
    {
     "name": "stdout",
     "output_type": "stream",
     "text": [
      "Tenor: 3M\n",
      "Tasa: 0.000000 Act360 Lin\n",
      "\n",
      "Fixing Tasa: 0.010000 Act360 Lin\n",
      "Fecha Inicio: 2018-09-24\n",
      "Fecha Final: 2018-12-24\n"
     ]
    }
   ],
   "source": [
    "# Se define el índice\n",
    "codigo = \"LIBORUSD3M\"\n",
    "lin_act360 = qcf.QCInterestRate(0.0, act360, lin_wf)\n",
    "fixing_lag = qcf.Tenor(\"2d\")\n",
    "tenor = qcf.Tenor(\"3m\")\n",
    "fixing_calendar = scl  # No es el calendario correcto, pero sirve para el ejemplo\n",
    "settlement_calendar = scl  # Ídem arriba\n",
    "libor_usd_3m = qcf.InterestRateIndex(\n",
    "    codigo, \n",
    "    lin_act360, \n",
    "    fixing_lag, \n",
    "    tenor, \n",
    "    fixing_calendar, \n",
    "    settlement_calendar, \n",
    "    usd\n",
    ")\n",
    "\n",
    "# Getters\n",
    "print(\"Tenor:\", libor_usd_3m.get_tenor())\n",
    "print(\"Tasa:\", libor_usd_3m.get_rate())\n",
    "print()\n",
    "\n",
    "# Para construir un fixing en particular\n",
    "libor_usd_3m.set_rate_value(0.01)\n",
    "print(\"Fixing Tasa:\", libor_usd_3m.get_rate())\n",
    "fecha_fixing = qcf.QCDate(20, 9, 2018)\n",
    "print(\"Fecha Inicio:\", libor_usd_3m.get_start_date(fecha_fixing))\n",
    "print(\"Fecha Final:\", libor_usd_3m.get_end_date(fecha_fixing))"
   ]
  },
  {
   "cell_type": "code",
   "execution_count": 85,
   "metadata": {
    "ExecuteTime": {
     "end_time": "2024-01-04T22:25:16.786248Z",
     "start_time": "2024-01-04T22:25:16.307761Z"
    },
    "execution": {
     "iopub.execute_input": "2023-11-15T15:39:01.504426Z",
     "iopub.status.busy": "2023-11-15T15:39:01.504372Z",
     "iopub.status.idle": "2023-11-15T15:39:01.506418Z",
     "shell.execute_reply": "2023-11-15T15:39:01.506209Z",
     "shell.execute_reply.started": "2023-11-15T15:39:01.504420Z"
    }
   },
   "outputs": [
    {
     "data": {
      "text/plain": [
       "'LIBORUSD3M'"
      ]
     },
     "execution_count": 85,
     "metadata": {},
     "output_type": "execute_result"
    }
   ],
   "source": [
    "libor_usd_3m.get_code()"
   ]
  },
  {
   "cell_type": "code",
   "execution_count": 86,
   "metadata": {
    "ExecuteTime": {
     "end_time": "2024-01-04T22:25:17.076148Z",
     "start_time": "2024-01-04T22:25:16.748145Z"
    },
    "execution": {
     "iopub.execute_input": "2023-11-15T15:39:01.506823Z",
     "iopub.status.busy": "2023-11-15T15:39:01.506765Z",
     "iopub.status.idle": "2023-11-15T15:39:01.508517Z",
     "shell.execute_reply": "2023-11-15T15:39:01.508283Z",
     "shell.execute_reply.started": "2023-11-15T15:39:01.506817Z"
    }
   },
   "outputs": [],
   "source": [
    "libor_usd_3m.set_rate_value(0.1)"
   ]
  },
  {
   "cell_type": "code",
   "execution_count": 87,
   "metadata": {
    "ExecuteTime": {
     "end_time": "2024-01-04T22:25:17.502709Z",
     "start_time": "2024-01-04T22:25:17.050695Z"
    },
    "execution": {
     "iopub.execute_input": "2023-11-15T15:39:01.509022Z",
     "iopub.status.busy": "2023-11-15T15:39:01.508920Z",
     "iopub.status.idle": "2023-11-15T15:39:01.510548Z",
     "shell.execute_reply": "2023-11-15T15:39:01.510270Z",
     "shell.execute_reply.started": "2023-11-15T15:39:01.509015Z"
    }
   },
   "outputs": [
    {
     "name": "stdout",
     "output_type": "stream",
     "text": [
      "0.100000 Act360 Lin\n"
     ]
    }
   ],
   "source": [
    "print(libor_usd_3m.get_rate())"
   ]
  },
  {
   "cell_type": "code",
   "execution_count": 88,
   "metadata": {
    "ExecuteTime": {
     "end_time": "2024-01-04T22:25:17.806156Z",
     "start_time": "2024-01-04T22:25:17.459325Z"
    },
    "execution": {
     "iopub.execute_input": "2023-11-15T15:39:01.511164Z",
     "iopub.status.busy": "2023-11-15T15:39:01.511082Z",
     "iopub.status.idle": "2023-11-15T15:39:01.513317Z",
     "shell.execute_reply": "2023-11-15T15:39:01.513077Z",
     "shell.execute_reply.started": "2023-11-15T15:39:01.511157Z"
    }
   },
   "outputs": [
    {
     "data": {
      "text/plain": [
       "<qcfinancial.QCInterestRate at 0x1217b87b0>"
      ]
     },
     "execution_count": 88,
     "metadata": {},
     "output_type": "execute_result"
    }
   ],
   "source": [
    "libor_usd_3m.get_rate()"
   ]
  },
  {
   "cell_type": "markdown",
   "metadata": {},
   "source": [
    "Con esto, veamos un ejemplo de construcción y uso de un `IborCashflow`."
   ]
  },
  {
   "cell_type": "markdown",
   "metadata": {},
   "source": [
    "**TODO:** Se debe crear un mecanismo de WARNING para las eventuales inconsistencias entre las fechas de inicio y fin del ``InterestRateIndex`` y las fechas de inicio y fin del ``IborCashflow``."
   ]
  },
  {
   "cell_type": "code",
   "execution_count": 89,
   "metadata": {
    "ExecuteTime": {
     "end_time": "2024-01-04T22:25:18.175874Z",
     "start_time": "2024-01-04T22:25:17.794215Z"
    },
    "execution": {
     "iopub.execute_input": "2023-11-15T15:39:01.513693Z",
     "iopub.status.busy": "2023-11-15T15:39:01.513601Z",
     "iopub.status.idle": "2023-11-15T15:39:01.515940Z",
     "shell.execute_reply": "2023-11-15T15:39:01.515701Z",
     "shell.execute_reply.started": "2023-11-15T15:39:01.513685Z"
    }
   },
   "outputs": [],
   "source": [
    "# Ejemplo\n",
    "fecha_inicio = qcf.QCDate(20, 9, 2018)\n",
    "fecha_final = qcf.QCDate(20, 9, 2019)\n",
    "fecha_pago = qcf.QCDate(23, 9, 2019)\n",
    "fecha_fixing = qcf.QCDate(20, 9, 2018)\n",
    "nominal = 1_000_000.0\n",
    "amort = 100_000.0\n",
    "spread = 0.0\n",
    "gearing = 1.0\n",
    "ibor_cashflow = qcf.IborCashflow(\n",
    "    libor_usd_3m,\n",
    "    fecha_inicio,\n",
    "    fecha_final,\n",
    "    fecha_fixing,\n",
    "    fecha_pago,\n",
    "    nominal,\n",
    "    amort,\n",
    "    True,\n",
    "    usd,\n",
    "    spread,\n",
    "    gearing,\n",
    ")"
   ]
  },
  {
   "cell_type": "code",
   "execution_count": 90,
   "metadata": {
    "ExecuteTime": {
     "end_time": "2024-01-04T22:25:18.764248Z",
     "start_time": "2024-01-04T22:25:18.150962Z"
    },
    "execution": {
     "iopub.execute_input": "2023-11-15T15:39:01.516272Z",
     "iopub.status.busy": "2023-11-15T15:39:01.516212Z",
     "iopub.status.idle": "2023-11-15T15:39:01.518690Z",
     "shell.execute_reply": "2023-11-15T15:39:01.518390Z",
     "shell.execute_reply.started": "2023-11-15T15:39:01.516266Z"
    }
   },
   "outputs": [
    {
     "name": "stdout",
     "output_type": "stream",
     "text": [
      "Fecha Fixing:\t 2018-09-20\n",
      "Fecha Inicio:\t 2018-09-20\n",
      "Fecha Final:\t 2019-09-20\n",
      "Fecha Pago:\t 2019-09-23\n",
      "Nominal:\t1,000,000\n",
      "Amortización:\t100,000\n",
      "Moneda:\t\t USD\n",
      "Valor Tasa:\t10.00%\n"
     ]
    }
   ],
   "source": [
    "# Getters\n",
    "print(\"Fecha Fixing:\\t\", ibor_cashflow.get_fixing_date())\n",
    "print(\"Fecha Inicio:\\t\", ibor_cashflow.get_start_date())\n",
    "print(\"Fecha Final:\\t\", ibor_cashflow.get_end_date())\n",
    "print(\"Fecha Pago:\\t\", ibor_cashflow.get_settlement_date())\n",
    "print(f\"Nominal:\\t{ibor_cashflow.get_nominal():,.0f}\")\n",
    "print(f\"Amortización:\\t{ibor_cashflow.get_amortization():,.0f}\")\n",
    "print(\"Moneda:\\t\\t\", ibor_cashflow.ccy())\n",
    "print(f\"Valor Tasa:\\t{ibor_cashflow.get_interest_rate_value():.2%}\")"
   ]
  },
  {
   "cell_type": "code",
   "execution_count": 91,
   "metadata": {
    "ExecuteTime": {
     "end_time": "2024-01-04T22:25:18.974289Z",
     "start_time": "2024-01-04T22:25:18.575661Z"
    },
    "execution": {
     "iopub.execute_input": "2023-11-15T15:39:01.519413Z",
     "iopub.status.busy": "2023-11-15T15:39:01.519259Z",
     "iopub.status.idle": "2023-11-15T15:39:01.521318Z",
     "shell.execute_reply": "2023-11-15T15:39:01.521071Z",
     "shell.execute_reply.started": "2023-11-15T15:39:01.519405Z"
    }
   },
   "outputs": [
    {
     "name": "stdout",
     "output_type": "stream",
     "text": [
      "Nominal:\t2,000,000\n",
      "Amortización:\t200,000\n",
      "Valor Tasa: 2.00%\n"
     ]
    }
   ],
   "source": [
    "# Setters\n",
    "nuevo_nominal = 2_000_000.0\n",
    "ibor_cashflow.set_nominal(nuevo_nominal)\n",
    "print(f\"Nominal:\\t{ibor_cashflow.get_nominal():,.0f}\")\n",
    "\n",
    "nueva_amortizacion = 200_000.0\n",
    "ibor_cashflow.set_amortization(nueva_amortizacion)\n",
    "print(f\"Amortización:\\t{ibor_cashflow.get_amortization():,.0f}\")\n",
    "\n",
    "nuevo_valor_tasa = 0.02\n",
    "ibor_cashflow.set_interest_rate_value(nuevo_valor_tasa)\n",
    "print(f\"Valor Tasa: {ibor_cashflow.get_interest_rate_value():.2%}\")"
   ]
  },
  {
   "cell_type": "code",
   "execution_count": 92,
   "metadata": {
    "ExecuteTime": {
     "end_time": "2024-01-04T22:25:19.541230Z",
     "start_time": "2024-01-04T22:25:18.952209Z"
    },
    "execution": {
     "iopub.execute_input": "2023-11-15T15:39:01.521811Z",
     "iopub.status.busy": "2023-11-15T15:39:01.521748Z",
     "iopub.status.idle": "2023-11-15T15:39:01.524063Z",
     "shell.execute_reply": "2023-11-15T15:39:01.523801Z",
     "shell.execute_reply.started": "2023-11-15T15:39:01.521804Z"
    }
   },
   "outputs": [
    {
     "name": "stdout",
     "output_type": "stream",
     "text": [
      "Flujo: 240,556\n",
      "Interés Devengado al 2019-07-20: 33,667\n",
      "Check: 33,667\n"
     ]
    }
   ],
   "source": [
    "# Cálculos\n",
    "print(f\"Flujo: {ibor_cashflow.amount():,.0f}\")\n",
    "\n",
    "fecha_devengo = qcf.QCDate(20, 7, 2019)\n",
    "print(f\"Interés Devengado al {fecha_devengo}: {ibor_cashflow.accrued_interest(fecha_devengo):,.0f}\")\n",
    "tasa = ibor_cashflow.get_interest_rate_value()\n",
    "\n",
    "check = tasa * fecha_inicio.day_diff(fecha_devengo) / 360.0 * ibor_cashflow.get_nominal()\n",
    "print(f\"Check: {check:,.0f}\")"
   ]
  },
  {
   "cell_type": "code",
   "execution_count": 93,
   "metadata": {
    "ExecuteTime": {
     "end_time": "2024-01-04T22:25:19.831894Z",
     "start_time": "2024-01-04T22:25:19.494298Z"
    },
    "execution": {
     "iopub.execute_input": "2023-11-15T15:39:01.524586Z",
     "iopub.status.busy": "2023-11-15T15:39:01.524505Z",
     "iopub.status.idle": "2023-11-15T15:39:01.526210Z",
     "shell.execute_reply": "2023-11-15T15:39:01.525978Z",
     "shell.execute_reply.started": "2023-11-15T15:39:01.524579Z"
    }
   },
   "outputs": [
    {
     "name": "stdout",
     "output_type": "stream",
     "text": [
      "('2018-09-20', '2019-09-20', '2018-09-20', '2019-09-23', 2000000.0, 200000.0, 40555.55555555568, True, 240555.55555555568, 'USD', 'LIBORUSD3M', 0.02, 0.0, 1.0, 'LinAct360')\n"
     ]
    }
   ],
   "source": [
    "# Función show\n",
    "print(qcf.show(ibor_cashflow))"
   ]
  },
  {
   "cell_type": "markdown",
   "metadata": {},
   "source": [
    "### Ibor Cashflow 2\n",
    "Un objeto de tipo `IborCashflow2` representa un flujo de caja calculado a partir de la aplicación de una tasa flotante fijada en una cierta fecha (Libor, Euribor, TAB, ...) , entre dos fechas prefijadas a un nominal prefijado. Para dar de alta uno de estos objetos se requiere:\n",
    "\n",
    "- `InterestRateIndex`: el índice de tasa de interés prefijado\n",
    "- `QCDate`: fecha inicio (para la aplicación de la tasa)\n",
    "- `QCDate`: fecha final (para la aplicación de la tasa)\n",
    "- `QCDate`: fecha de fijación del índice de tasa de interés \n",
    "- `QCDate`: fecha de pago\n",
    "- `float`: nominal (monto al que se le aplica la tasa)\n",
    "- `float`: amortización (eventual flujo de caja que corresponde a una porción del nominal)\n",
    "- `bool`: indica si la amortización anterior es un flujo de caja o sólo una disminución de nominal\n",
    "- `QCCurrency`: moneda del nominal y del flujo de caja\n",
    "- `float`: spread aditivo a aplicar a la fijación del índice\n",
    "- `float`: spread multiplicativo o gearing a aplicar a la fijación del índice\n",
    "\n",
    "A diferencia de un `IborCashflow`, un `IborCashflow2` puede quantizarse."
   ]
  },
  {
   "cell_type": "code",
   "execution_count": 94,
   "metadata": {
    "ExecuteTime": {
     "end_time": "2024-01-04T22:25:20.347652Z",
     "start_time": "2024-01-04T22:25:19.787672Z"
    },
    "execution": {
     "iopub.execute_input": "2023-11-15T15:39:01.526676Z",
     "iopub.status.busy": "2023-11-15T15:39:01.526613Z",
     "iopub.status.idle": "2023-11-15T15:39:01.528764Z",
     "shell.execute_reply": "2023-11-15T15:39:01.528551Z",
     "shell.execute_reply.started": "2023-11-15T15:39:01.526670Z"
    }
   },
   "outputs": [],
   "source": [
    "# Ejemplo\n",
    "fecha_inicio = qcf.QCDate(20, 9, 2018)\n",
    "fecha_final = qcf.QCDate(20, 9, 2019)\n",
    "fecha_pago = qcf.QCDate(23, 9, 2019)\n",
    "fecha_fixing = qcf.QCDate(20, 9, 2018)\n",
    "nominal = 1000000.0\n",
    "amort = 100000.0\n",
    "spread = 0.0\n",
    "gearing = 1.0\n",
    "ibor_cashflow_2 = qcf.IborCashflow2(\n",
    "    libor_usd_3m,\n",
    "    fecha_inicio,\n",
    "    fecha_final,\n",
    "    fecha_fixing,\n",
    "    fecha_pago,\n",
    "    nominal,\n",
    "    amort,\n",
    "    True,\n",
    "    usd,\n",
    "    spread,\n",
    "    gearing,\n",
    ")"
   ]
  },
  {
   "cell_type": "code",
   "execution_count": 95,
   "metadata": {
    "ExecuteTime": {
     "end_time": "2024-01-04T22:25:20.584970Z",
     "start_time": "2024-01-04T22:25:20.329198Z"
    },
    "execution": {
     "iopub.execute_input": "2023-11-15T15:39:01.529265Z",
     "iopub.status.busy": "2023-11-15T15:39:01.529117Z",
     "iopub.status.idle": "2023-11-15T15:39:01.531304Z",
     "shell.execute_reply": "2023-11-15T15:39:01.531068Z",
     "shell.execute_reply.started": "2023-11-15T15:39:01.529258Z"
    }
   },
   "outputs": [
    {
     "name": "stdout",
     "output_type": "stream",
     "text": [
      "Fecha Fixing:\t DateList[20-9-2018]\n",
      "Fecha Inicio:\t 2018-09-20\n",
      "Fecha Final:\t 2019-09-20\n",
      "Fecha Pago:\t 2019-09-23\n",
      "Nominal:\t1,000,000\n",
      "Amortización:\t100,000\n",
      "Moneda:\t\t USD\n",
      "Valor Tasa:\t2.00%\n"
     ]
    }
   ],
   "source": [
    "# Getters\n",
    "print(\"Fecha Fixing:\\t\", ibor_cashflow_2.get_fixing_dates())\n",
    "print(\"Fecha Inicio:\\t\", ibor_cashflow_2.get_start_date())\n",
    "print(\"Fecha Final:\\t\", ibor_cashflow_2.get_end_date())\n",
    "print(\"Fecha Pago:\\t\", ibor_cashflow_2.get_settlement_date())\n",
    "print(f\"Nominal:\\t{ibor_cashflow_2.get_nominal():,.0f}\")\n",
    "print(f\"Amortización:\\t{ibor_cashflow_2.get_amortization():,.0f}\")\n",
    "print(\"Moneda:\\t\\t\", ibor_cashflow_2.ccy())\n",
    "print(f\"Valor Tasa:\\t{ibor_cashflow_2.fixing():.2%}\")"
   ]
  },
  {
   "cell_type": "code",
   "execution_count": 96,
   "metadata": {
    "ExecuteTime": {
     "end_time": "2024-01-04T22:25:21.085432Z",
     "start_time": "2024-01-04T22:25:20.551213Z"
    },
    "execution": {
     "iopub.execute_input": "2023-11-15T15:39:01.531949Z",
     "iopub.status.busy": "2023-11-15T15:39:01.531735Z",
     "iopub.status.idle": "2023-11-15T15:39:01.534192Z",
     "shell.execute_reply": "2023-11-15T15:39:01.533894Z",
     "shell.execute_reply.started": "2023-11-15T15:39:01.531931Z"
    }
   },
   "outputs": [
    {
     "data": {
      "text/plain": [
       "('2018-09-20',\n",
       " '2019-09-20',\n",
       " '2018-09-20',\n",
       " '2019-09-23',\n",
       " 1000000.0,\n",
       " 100000.0,\n",
       " 20277.77777777784,\n",
       " True,\n",
       " 120277.77777777784,\n",
       " 'USD',\n",
       " 'LIBORUSD3M',\n",
       " 0.02,\n",
       " 0.0,\n",
       " 1.0,\n",
       " 'LinAct360')"
      ]
     },
     "execution_count": 96,
     "metadata": {},
     "output_type": "execute_result"
    }
   ],
   "source": [
    "# Función show\n",
    "qcf.show(ibor_cashflow_2)"
   ]
  },
  {
   "cell_type": "markdown",
   "metadata": {},
   "source": [
    "### Ibor Multi Currency Cashflow\n",
    "Un objeto de tipo `IborMultiCurrencyCashflow` representa un flujo de caja a tasa variable (`IborCashflow`) que se liquidará en una moneda distinta de la moneda del nominal utilizando el valor a una cierta fecha de un índice de tipo de cambio prefijado. Para dar de alta uno de estos objetos se requiere:\n",
    "\n",
    "- `InterestRateIndex`: el índice de tasa de interés prefijado\n",
    "- `QCDate`: fecha inicio (para la aplicación de la tasa)\n",
    "- `QCDate`: fecha final (para la aplicación de la tasa)\n",
    "- `QCDate`: fecha de fijación del índice de tasa de interés \n",
    "- `QCDate`: fecha de pago\n",
    "- `float`: nominal (monto al que se le aplica la tasa)\n",
    "- `float`: amortización (eventual flujo de caja que corresponde a una porción del nominal)\n",
    "- `bool`: indica si la amortización anterior es un flujo de caja o sólo una disminución de nominal\n",
    "- `QCCurrency`: moneda del nominal y del flujo de caja\n",
    "- `float`: spread aditivo a aplicar a la fijación del índice\n",
    "- `float`: spread multiplicativo o gearing a aplicar a la fijación del índice\n",
    "- `QCDate`: fecha de publicación del índice de tipo de cambio\n",
    "- `QCCurrency`: moneda en la que se liquida el flujo\n",
    "- `FXRateIndex`: índice de tipo de cambio a utilizar\n",
    "- `float`: valor del índice de tipo de cambio\n"
   ]
  },
  {
   "cell_type": "code",
   "execution_count": 97,
   "metadata": {
    "ExecuteTime": {
     "end_time": "2024-01-04T22:25:21.572310Z",
     "start_time": "2024-01-04T22:25:21.044377Z"
    },
    "execution": {
     "iopub.execute_input": "2023-11-15T15:39:01.534563Z",
     "iopub.status.busy": "2023-11-15T15:39:01.534504Z",
     "iopub.status.idle": "2023-11-15T15:39:01.537073Z",
     "shell.execute_reply": "2023-11-15T15:39:01.536873Z",
     "shell.execute_reply.started": "2023-11-15T15:39:01.534557Z"
    }
   },
   "outputs": [
    {
     "name": "stdout",
     "output_type": "stream",
     "text": [
      "<qcfinancial.IborMultiCurrencyCashflow object at 0x1217dc2b0>\n"
     ]
    }
   ],
   "source": [
    "# Ejemplo\n",
    "fecha_inicio = qcf.QCDate(20, 9, 2019)\n",
    "fecha_final = qcf.QCDate(20, 12, 2019)\n",
    "fecha_pago = qcf.QCDate(20, 12, 2019)\n",
    "fecha_fixing = qcf.QCDate(20, 9, 2019)\n",
    "nominal = 100.0\n",
    "amort = 100.0\n",
    "spread = 0.02\n",
    "gearing = 1.0\n",
    "valor_indice = 10.0\n",
    "fecha_publicacion = qcf.QCDate(20, 9, 2019)\n",
    "libor_usd_3m.set_rate_value(0.01)\n",
    "ibor_mccy_cashflow = qcf.IborMultiCurrencyCashflow(\n",
    "    libor_usd_3m,\n",
    "    fecha_inicio,\n",
    "    fecha_final,\n",
    "    fecha_fixing,\n",
    "    fecha_pago,\n",
    "    nominal,\n",
    "    amort,\n",
    "    True,\n",
    "    usd,\n",
    "    spread,\n",
    "    gearing,\n",
    "    fecha_publicacion,\n",
    "    clp,\n",
    "    indice,\n",
    "    valor_indice,\n",
    ")\n",
    "print(ibor_mccy_cashflow)"
   ]
  },
  {
   "cell_type": "code",
   "execution_count": 98,
   "metadata": {
    "ExecuteTime": {
     "end_time": "2024-01-04T22:25:22.077806Z",
     "start_time": "2024-01-04T22:25:21.385011Z"
    },
    "execution": {
     "iopub.execute_input": "2023-11-15T15:39:01.537396Z",
     "iopub.status.busy": "2023-11-15T15:39:01.537339Z",
     "iopub.status.idle": "2023-11-15T15:39:01.539059Z",
     "shell.execute_reply": "2023-11-15T15:39:01.538778Z",
     "shell.execute_reply.started": "2023-11-15T15:39:01.537390Z"
    }
   },
   "outputs": [],
   "source": [
    "ibor_mccy_cashflow.set_interest_rate_value(0.01)"
   ]
  },
  {
   "cell_type": "code",
   "execution_count": 99,
   "metadata": {
    "ExecuteTime": {
     "end_time": "2024-01-04T22:25:22.499067Z",
     "start_time": "2024-01-04T22:25:22.061579Z"
    },
    "execution": {
     "iopub.execute_input": "2023-11-15T15:39:01.539773Z",
     "iopub.status.busy": "2023-11-15T15:39:01.539558Z",
     "iopub.status.idle": "2023-11-15T15:39:01.541501Z",
     "shell.execute_reply": "2023-11-15T15:39:01.541265Z",
     "shell.execute_reply.started": "2023-11-15T15:39:01.539766Z"
    }
   },
   "outputs": [
    {
     "name": "stdout",
     "output_type": "stream",
     "text": [
      "('2019-09-20', '2019-12-20', '2019-09-20', '2019-12-20', 100.0, 100.0, 0.7583333333333275, True, 1007.5833333333333, 'USD', 'LIBORUSD3M', 0.02, 1.0, 0.01, 'LinAct360', '2019-09-20', 'CLP', 'USDOBS', 10.0, 1000.0, 7.583333333333275)\n"
     ]
    }
   ],
   "source": [
    "print(qcf.show(ibor_mccy_cashflow))"
   ]
  },
  {
   "cell_type": "code",
   "execution_count": 100,
   "metadata": {
    "ExecuteTime": {
     "end_time": "2024-01-04T22:25:22.767143Z",
     "start_time": "2024-01-04T22:25:22.485686Z"
    },
    "execution": {
     "iopub.execute_input": "2023-11-15T15:39:01.542078Z",
     "iopub.status.busy": "2023-11-15T15:39:01.541916Z",
     "iopub.status.idle": "2023-11-15T15:39:01.543974Z",
     "shell.execute_reply": "2023-11-15T15:39:01.543735Z",
     "shell.execute_reply.started": "2023-11-15T15:39:01.542071Z"
    }
   },
   "outputs": [
    {
     "name": "stdout",
     "output_type": "stream",
     "text": [
      "0.24999999999999467\n",
      "0.24999999999999997\n"
     ]
    }
   ],
   "source": [
    "fecha_intermedia = qcf.QCDate(20, 10, 2019)\n",
    "print(ibor_mccy_cashflow.accrued_interest(fecha_intermedia))\n",
    "print(\n",
    "    (0.01 + spread)\n",
    "    * fecha_inicio.day_diff(fecha_intermedia)\n",
    "    / 360.0\n",
    "    * ibor_mccy_cashflow.get_nominal()\n",
    ")"
   ]
  },
  {
   "cell_type": "code",
   "execution_count": 101,
   "metadata": {
    "ExecuteTime": {
     "end_time": "2024-01-04T22:25:23.203714Z",
     "start_time": "2024-01-04T22:25:22.730481Z"
    },
    "execution": {
     "iopub.execute_input": "2023-11-15T15:39:01.544385Z",
     "iopub.status.busy": "2023-11-15T15:39:01.544323Z",
     "iopub.status.idle": "2023-11-15T15:39:01.546298Z",
     "shell.execute_reply": "2023-11-15T15:39:01.546029Z",
     "shell.execute_reply.started": "2023-11-15T15:39:01.544379Z"
    }
   },
   "outputs": [
    {
     "name": "stdout",
     "output_type": "stream",
     "text": [
      "2019-09-20\n",
      "2019-10-20\n",
      "2019-10-20\n",
      "3.0\n"
     ]
    }
   ],
   "source": [
    "ts[fecha_inicio] = 1\n",
    "ts[fecha_intermedia] = 3\n",
    "for k in ts:\n",
    "    print(k)\n",
    "print(fecha_intermedia.description(False))\n",
    "print(ts[fecha_intermedia])"
   ]
  },
  {
   "cell_type": "code",
   "execution_count": 102,
   "metadata": {
    "ExecuteTime": {
     "end_time": "2024-01-04T22:25:23.716438Z",
     "start_time": "2024-01-04T22:25:23.172153Z"
    },
    "execution": {
     "iopub.execute_input": "2023-11-15T15:39:01.546626Z",
     "iopub.status.busy": "2023-11-15T15:39:01.546564Z",
     "iopub.status.idle": "2023-11-15T15:39:01.548266Z",
     "shell.execute_reply": "2023-11-15T15:39:01.547943Z",
     "shell.execute_reply.started": "2023-11-15T15:39:01.546620Z"
    }
   },
   "outputs": [
    {
     "name": "stdout",
     "output_type": "stream",
     "text": [
      "0.749999999999984\n"
     ]
    }
   ],
   "source": [
    "print(ibor_mccy_cashflow.accrued_interest(fecha_intermedia, fecha_intermedia, ts))"
   ]
  },
  {
   "cell_type": "code",
   "execution_count": 103,
   "metadata": {
    "ExecuteTime": {
     "end_time": "2024-01-04T22:25:23.980902Z",
     "start_time": "2024-01-04T22:25:23.680691Z"
    },
    "execution": {
     "iopub.execute_input": "2023-11-15T15:39:01.548567Z",
     "iopub.status.busy": "2023-11-15T15:39:01.548504Z",
     "iopub.status.idle": "2023-11-15T15:39:01.550792Z",
     "shell.execute_reply": "2023-11-15T15:39:01.550548Z",
     "shell.execute_reply.started": "2023-11-15T15:39:01.548561Z"
    }
   },
   "outputs": [
    {
     "data": {
      "text/plain": [
       "'IborMultiCurrencyCashflow'"
      ]
     },
     "execution_count": 103,
     "metadata": {},
     "output_type": "execute_result"
    }
   ],
   "source": [
    "ibor_mccy_cashflow.get_type()"
   ]
  },
  {
   "cell_type": "code",
   "execution_count": 104,
   "metadata": {
    "ExecuteTime": {
     "end_time": "2024-01-04T22:25:24.529407Z",
     "start_time": "2024-01-04T22:25:23.965513Z"
    },
    "execution": {
     "iopub.execute_input": "2023-11-15T15:39:01.551163Z",
     "iopub.status.busy": "2023-11-15T15:39:01.551109Z",
     "iopub.status.idle": "2023-11-15T15:39:01.553875Z",
     "shell.execute_reply": "2023-11-15T15:39:01.553659Z",
     "shell.execute_reply.started": "2023-11-15T15:39:01.551157Z"
    }
   },
   "outputs": [
    {
     "data": {
      "text/plain": [
       "('2019-09-20',\n",
       " '2019-12-20',\n",
       " '2019-09-20',\n",
       " '2019-12-20',\n",
       " 100.0,\n",
       " 100.0,\n",
       " 0.7583333333333275,\n",
       " True,\n",
       " 1007.5833333333333,\n",
       " 'USD',\n",
       " 'LIBORUSD3M',\n",
       " 0.02,\n",
       " 1.0,\n",
       " 0.01,\n",
       " 'LinAct360',\n",
       " '2019-09-20',\n",
       " 'CLP',\n",
       " 'USDOBS',\n",
       " 10.0,\n",
       " 1000.0,\n",
       " 7.583333333333275)"
      ]
     },
     "execution_count": 104,
     "metadata": {},
     "output_type": "execute_result"
    }
   ],
   "source": [
    "qcf.show(ibor_mccy_cashflow)"
   ]
  },
  {
   "cell_type": "markdown",
   "metadata": {},
   "source": [
    "### Icp Clp Cashflow\n",
    "Un objeto de tipo `IcpClpCashflow` representa un flujo de caja calculado como un cupón de la pata flotante de un swap ICP (cámara promedio) de Chile. Para dar de alta uno de estos objetos se requiere:\n",
    "\n",
    "- `QCDate`: fecha inicio (para la aplicación de la tasa)\n",
    "- `QCDate`: fecha final (para la aplicación de la tasa)\n",
    "- `QCDate`: fecha de pago\n",
    "- `float`: nominal (monto al que se le aplica la tasa)\n",
    "- `float`: amortización (eventual flujo de caja que corresponde a una porción del nominal)\n",
    "- `bool`: indica si la amortización anterior es un flujo de caja o sólo una disminución de nominal\n",
    "- `float`: spread aditivo a aplicar a la fijación de la TNA\n",
    "- `float`: spread multiplicativo o gearing a aplicar a la fijación de la TNA\n",
    "- `float`: el valor del ICP a fecha de inicio (u otro valor arbitrario si el valor es desconocido)\n",
    "- `float`: el valor del ICP a fecha final (u otro valor arbitrario si el valor es desconocido)\n",
    "\n",
    "Recordar que TNA significa **Tasa Nominal Anual** y se determina utilizando los valores del índice ICP en la fecha de inicio y fecha final del `IcpClpCashflow`."
   ]
  },
  {
   "cell_type": "code",
   "execution_count": 105,
   "metadata": {
    "ExecuteTime": {
     "end_time": "2024-01-04T22:25:24.771230Z",
     "start_time": "2024-01-04T22:25:24.490505Z"
    },
    "execution": {
     "iopub.execute_input": "2023-11-15T15:39:01.554354Z",
     "iopub.status.busy": "2023-11-15T15:39:01.554225Z",
     "iopub.status.idle": "2023-11-15T15:39:01.556412Z",
     "shell.execute_reply": "2023-11-15T15:39:01.556098Z",
     "shell.execute_reply.started": "2023-11-15T15:39:01.554348Z"
    }
   },
   "outputs": [],
   "source": [
    "# Ejemplo\n",
    "fecha_inicio = qcf.QCDate(20, 9, 2018)\n",
    "fecha_final = qcf.QCDate(20, 9, 2019)\n",
    "fecha_pago = qcf.QCDate(23, 9, 2019)\n",
    "nominal = 1_000_000_000.0\n",
    "amort = 100_000_000.0\n",
    "spread = 0.0\n",
    "gearing = 1.0\n",
    "icp_clp_cashflow = qcf.IcpClpCashflow(\n",
    "    fecha_inicio,\n",
    "    fecha_final,\n",
    "    fecha_pago,\n",
    "    nominal,\n",
    "    amort,\n",
    "    True,\n",
    "    spread,\n",
    "    gearing,\n",
    "    10_000.0,\n",
    "    10_250.0,\n",
    ")"
   ]
  },
  {
   "cell_type": "code",
   "execution_count": 106,
   "metadata": {
    "ExecuteTime": {
     "end_time": "2024-01-04T22:25:25.357682Z",
     "start_time": "2024-01-04T22:25:24.731979Z"
    },
    "execution": {
     "iopub.execute_input": "2023-11-15T15:39:01.556702Z",
     "iopub.status.busy": "2023-11-15T15:39:01.556646Z",
     "iopub.status.idle": "2023-11-15T15:39:01.559012Z",
     "shell.execute_reply": "2023-11-15T15:39:01.558795Z",
     "shell.execute_reply.started": "2023-11-15T15:39:01.556696Z"
    }
   },
   "outputs": [
    {
     "name": "stdout",
     "output_type": "stream",
     "text": [
      "Fecha Inicio: 2018-09-20\n",
      "Fecha Final: 2019-09-20\n",
      "ICP Fecha Inicio: 10,000.00\n",
      "ICP Fecha Final: 10,250.00\n",
      "Valor TNA Todo el Período: 2.47%\n",
      "Check: 2.47%\n",
      "Nominal: 1,000,000,000\n",
      "Amortización: 100,000,000\n",
      "Tipo de Tasa: LinAct360\n",
      "Moneda: CLP\n"
     ]
    }
   ],
   "source": [
    "# Getters\n",
    "print(\"Fecha Inicio:\", icp_clp_cashflow.get_start_date())\n",
    "print(\"Fecha Final:\", icp_clp_cashflow.get_end_date())\n",
    "print(f\"ICP Fecha Inicio: {icp_clp_cashflow.get_start_date_icp():,.2f}\")\n",
    "print(f\"ICP Fecha Final: {icp_clp_cashflow.get_end_date_icp():,.2f}\")\n",
    "print(f\"Valor TNA Todo el Período: {icp_clp_cashflow.get_rate_value():.2%}\")\n",
    "check = round((10250.0 / 10000 - 1) * 360.0 / fecha_inicio.day_diff(fecha_final), 4)\n",
    "print(f\"Check: {check:.2%}\")\n",
    "print(f\"Nominal: {icp_clp_cashflow.get_nominal():,.0f}\")\n",
    "print(f\"Amortización: {icp_clp_cashflow.get_amortization():,.0f}\")\n",
    "print(\"Tipo de Tasa:\", icp_clp_cashflow.get_type_of_rate())\n",
    "print(\"Moneda:\", icp_clp_cashflow.ccy())"
   ]
  },
  {
   "cell_type": "code",
   "execution_count": 107,
   "metadata": {
    "ExecuteTime": {
     "end_time": "2024-01-04T22:25:25.539867Z",
     "start_time": "2024-01-04T22:25:25.345678Z"
    },
    "execution": {
     "iopub.execute_input": "2023-11-15T15:39:01.559446Z",
     "iopub.status.busy": "2023-11-15T15:39:01.559383Z",
     "iopub.status.idle": "2023-11-15T15:39:01.561917Z",
     "shell.execute_reply": "2023-11-15T15:39:01.561584Z",
     "shell.execute_reply.started": "2023-11-15T15:39:01.559440Z"
    }
   },
   "outputs": [
    {
     "name": "stdout",
     "output_type": "stream",
     "text": [
      "Nueva TNA: 2.4658%\n",
      "Nuevo Nominal: 100.0\n",
      "Nueva Amortización: 10.0\n",
      "Nuevo ICP Inicio: 20,000.00\n",
      "Nuevo ICP Final: 20,600.00\n",
      "Check TNA Final: 2.9589%\n"
     ]
    }
   ],
   "source": [
    "# Setters\n",
    "decimales_para_tna = 6\n",
    "icp_clp_cashflow.set_tna_decimal_places(decimales_para_tna)\n",
    "print(f\"Nueva TNA: {icp_clp_cashflow.get_rate_value():.4%}\")\n",
    "\n",
    "nuevo_nominal = 100\n",
    "icp_clp_cashflow.set_nominal(nuevo_nominal)\n",
    "print(\"Nuevo Nominal:\", icp_clp_cashflow.get_nominal())\n",
    "\n",
    "nueva_amortizacion = 10\n",
    "icp_clp_cashflow.set_amortization(nueva_amortizacion)\n",
    "print(\"Nueva Amortización:\", icp_clp_cashflow.get_amortization())\n",
    "\n",
    "nuevo_icp_inicio = 20_000\n",
    "icp_clp_cashflow.set_start_date_icp(nuevo_icp_inicio)\n",
    "print(f\"Nuevo ICP Inicio: {icp_clp_cashflow.get_start_date_icp():,.2f}\")\n",
    "\n",
    "nuevo_icp_final = 20_600\n",
    "icp_clp_cashflow.set_end_date_icp(nuevo_icp_final)\n",
    "print(f\"Nuevo ICP Final: {icp_clp_cashflow.get_end_date_icp():,.2f}\")\n",
    "print(f\"Check TNA Final: {icp_clp_cashflow.get_rate_value():.4%}\")"
   ]
  },
  {
   "cell_type": "code",
   "execution_count": 108,
   "metadata": {
    "ExecuteTime": {
     "end_time": "2024-01-04T22:25:26.035967Z",
     "start_time": "2024-01-04T22:25:25.529225Z"
    },
    "execution": {
     "iopub.execute_input": "2023-11-15T15:39:01.562251Z",
     "iopub.status.busy": "2023-11-15T15:39:01.562185Z",
     "iopub.status.idle": "2023-11-15T15:39:01.564814Z",
     "shell.execute_reply": "2023-11-15T15:39:01.564575Z",
     "shell.execute_reply.started": "2023-11-15T15:39:01.562244Z"
    }
   },
   "outputs": [
    {
     "name": "stdout",
     "output_type": "stream",
     "text": [
      "Flujo: 13\n",
      "TNA fijada a 29-03-2019: 2.37%\n",
      "Check: 2.37%\n",
      "Interés Devengado al 29-03-2019: 1.2508\n",
      "Check: 1.2508\n"
     ]
    }
   ],
   "source": [
    "# Cálculos\n",
    "decimales_para_tna = 4  # Se vuelve a 4 decimales de tasa\n",
    "icp_clp_cashflow.set_tna_decimal_places(decimales_para_tna)\n",
    "\n",
    "nuevo_icp_inicio = 10_000.0\n",
    "icp_clp_cashflow.set_start_date_icp(nuevo_icp_inicio)\n",
    "\n",
    "nuevo_icp_final = 10_250.0\n",
    "icp_clp_cashflow.set_end_date_icp(nuevo_icp_final)\n",
    "\n",
    "print(f\"Flujo: {icp_clp_cashflow.amount():,.0f}\")\n",
    "\n",
    "fecha_devengo = qcf.QCDate(29, 3, 2019)\n",
    "icp_devengo = 10_125.0\n",
    "tna_devengo = icp_clp_cashflow.get_tna(fecha_devengo, icp_devengo)\n",
    "print(f\"TNA fijada a {fecha_devengo.description(True)}: {tna_devengo:.2%}\")\n",
    "check = round(\n",
    "    (icp_devengo / nuevo_icp_inicio - 1) * 360.0 / fecha_inicio.day_diff(fecha_devengo),\n",
    "    decimales_para_tna,\n",
    ")\n",
    "print(f\"Check: {check:.2%}\")\n",
    "print(f\"Interés Devengado al {fecha_devengo.description(True)}: {icp_clp_cashflow.accrued_interest(fecha_devengo, icp_devengo):,.4f}\")\n",
    "print(f\"Check: {100 * tna_devengo * fecha_inicio.day_diff(fecha_devengo) / 360.0:,.4f}\")"
   ]
  },
  {
   "cell_type": "code",
   "execution_count": 109,
   "metadata": {
    "ExecuteTime": {
     "end_time": "2024-01-04T22:25:26.294802Z",
     "start_time": "2024-01-04T22:25:25.995529Z"
    },
    "execution": {
     "iopub.execute_input": "2023-11-15T15:39:01.565298Z",
     "iopub.status.busy": "2023-11-15T15:39:01.565213Z",
     "iopub.status.idle": "2023-11-15T15:39:01.567017Z",
     "shell.execute_reply": "2023-11-15T15:39:01.566748Z",
     "shell.execute_reply.started": "2023-11-15T15:39:01.565292Z"
    }
   },
   "outputs": [
    {
     "name": "stdout",
     "output_type": "stream",
     "text": [
      "('2018-09-20', '2019-09-20', '2019-09-23', 100.0, 10.0, True, 12.504305555555565, 'CLP', 10000.0, 10250.0, 0.0237, 2.504305555555564, 0.0, 1.0, 'LinAct360')\n"
     ]
    }
   ],
   "source": [
    "print(qcf.show(icp_clp_cashflow))"
   ]
  },
  {
   "cell_type": "code",
   "execution_count": 110,
   "metadata": {
    "ExecuteTime": {
     "end_time": "2024-01-04T22:25:26.877101Z",
     "start_time": "2024-01-04T22:25:26.266653Z"
    },
    "execution": {
     "iopub.execute_input": "2023-11-15T15:39:01.567321Z",
     "iopub.status.busy": "2023-11-15T15:39:01.567268Z",
     "iopub.status.idle": "2023-11-15T15:39:01.569898Z",
     "shell.execute_reply": "2023-11-15T15:39:01.569683Z",
     "shell.execute_reply.started": "2023-11-15T15:39:01.567315Z"
    }
   },
   "outputs": [
    {
     "data": {
      "text/plain": [
       "'IcpClpCashflow'"
      ]
     },
     "execution_count": 110,
     "metadata": {},
     "output_type": "execute_result"
    }
   ],
   "source": [
    "icp_clp_cashflow.get_type()"
   ]
  },
  {
   "cell_type": "markdown",
   "metadata": {},
   "source": [
    "### Icp Clp Cashflow 2\n",
    "Un objeto de tipo `IcpClpCashflow2` representa un flujo de caja calculado como un cupón de la pata flotante de un swap ICP (cámara promedio) de Chile. Este tipo de cashflow puede ser *quantizado*, es decir, se puede cambiar su moneda de pago componiéndolo con un objeto adicional. Para dar de alta uno de estos objetos se requiere:\n",
    "\n",
    "- `QCDate`: fecha inicio (para la aplicación de la tasa)\n",
    "- `QCDate`: fecha final (para la aplicación de la tasa)\n",
    "- `QCDate`: fecha de pago\n",
    "- `float`: nominal (monto al que se le aplica la tasa)\n",
    "- `float`: amortización (eventual flujo de caja que corresponde a una porción del nominal)\n",
    "- `bool`: indica si la amortización anterior es un flujo de caja o sólo una disminución de nominal\n",
    "- `float`: spread aditivo a aplicar a la fijación de la TNA\n",
    "- `float`: spread multiplicativo o gearing a aplicar a la fijación de la TNA\n",
    "- `float`: el valor del ICP a fecha de inicio (u otro valor arbitrario si el valor es desconocido)\n",
    "- `float`: el valor del ICP a fecha final (u otro valor arbitrario si el valor es desconocido)\n",
    "\n",
    "Recordar que TNA significa **Tasa Nominal Anual** y se determina utilizando los valores del índice ICP en la fecha de inicio y fecha final del `IcpClpCashflow`."
   ]
  },
  {
   "cell_type": "code",
   "execution_count": 111,
   "metadata": {
    "ExecuteTime": {
     "end_time": "2024-01-04T22:25:27.332504Z",
     "start_time": "2024-01-04T22:25:26.834492Z"
    },
    "execution": {
     "iopub.execute_input": "2023-11-15T15:39:01.570366Z",
     "iopub.status.busy": "2023-11-15T15:39:01.570291Z",
     "iopub.status.idle": "2023-11-15T15:39:01.572497Z",
     "shell.execute_reply": "2023-11-15T15:39:01.572174Z",
     "shell.execute_reply.started": "2023-11-15T15:39:01.570359Z"
    }
   },
   "outputs": [],
   "source": [
    "# Ejemplo\n",
    "fecha_inicio = qcf.QCDate(20, 9, 2018)\n",
    "fecha_final = qcf.QCDate(20, 9, 2019)\n",
    "fecha_pago = qcf.QCDate(23, 9, 2019)\n",
    "nominal = 1_000_000_000.0\n",
    "amort = 100_000_000.0\n",
    "spread = 0.0\n",
    "gearing = 1.0\n",
    "icp_clp_cashflow2 = qcf.IcpClpCashflow2(\n",
    "    fecha_inicio,\n",
    "    fecha_final,\n",
    "    fecha_pago,\n",
    "    nominal,\n",
    "    amort,\n",
    "    True,\n",
    "    spread,\n",
    "    gearing,\n",
    "    True,\n",
    "    10_000.0,\n",
    "    10_250.0,\n",
    ")"
   ]
  },
  {
   "cell_type": "code",
   "execution_count": 112,
   "metadata": {
    "ExecuteTime": {
     "end_time": "2024-01-04T22:25:27.735912Z",
     "start_time": "2024-01-04T22:25:27.297277Z"
    },
    "execution": {
     "iopub.execute_input": "2023-11-15T15:39:01.572883Z",
     "iopub.status.busy": "2023-11-15T15:39:01.572790Z",
     "iopub.status.idle": "2023-11-15T15:39:01.575413Z",
     "shell.execute_reply": "2023-11-15T15:39:01.575165Z",
     "shell.execute_reply.started": "2023-11-15T15:39:01.572877Z"
    }
   },
   "outputs": [
    {
     "name": "stdout",
     "output_type": "stream",
     "text": [
      "Fecha Inicio: 2018-09-20\n",
      "Fecha Final: 2019-09-20\n",
      "ICP Fecha Inicio: 10,000.00\n",
      "ICP Fecha Final: 10,250.00\n",
      "\n",
      "Valor TNA Todo el Período: 2.47%\n",
      "Check: 2.47%\n",
      "\n",
      "Nominal: 1,000,000,000\n",
      "Amortización: 100,000,000\n",
      "Tipo de Tasa: LinAct360\n",
      "Moneda: CLP\n"
     ]
    }
   ],
   "source": [
    "# Getters\n",
    "print(\"Fecha Inicio:\", icp_clp_cashflow2.get_start_date())\n",
    "print(\"Fecha Final:\", icp_clp_cashflow2.get_end_date())\n",
    "print(f\"ICP Fecha Inicio: {icp_clp_cashflow2.get_start_date_icp():,.2f}\")\n",
    "print(f\"ICP Fecha Final: {icp_clp_cashflow2.get_end_date_icp():,.2f}\")\n",
    "\n",
    "print()\n",
    "print(f\"Valor TNA Todo el Período: {icp_clp_cashflow2.get_rate_value():.2%}\")\n",
    "check = round((10250.0 / 10000 - 1) * 360.0 / fecha_inicio.day_diff(fecha_final), 4)\n",
    "print(f\"Check: {check:.2%}\")\n",
    "print()\n",
    "\n",
    "print(f\"Nominal: {icp_clp_cashflow2.get_nominal():,.0f}\")\n",
    "print(f\"Amortización: {icp_clp_cashflow2.get_amortization():,.0f}\")\n",
    "print(\"Tipo de Tasa:\", icp_clp_cashflow2.get_type_of_rate())\n",
    "print(\"Moneda:\", icp_clp_cashflow2.ccy())"
   ]
  },
  {
   "cell_type": "code",
   "execution_count": 113,
   "metadata": {
    "ExecuteTime": {
     "end_time": "2024-01-04T22:25:28.112913Z",
     "start_time": "2024-01-04T22:25:27.724429Z"
    },
    "execution": {
     "iopub.execute_input": "2023-11-15T15:39:01.575939Z",
     "iopub.status.busy": "2023-11-15T15:39:01.575875Z",
     "iopub.status.idle": "2023-11-15T15:39:01.583659Z",
     "shell.execute_reply": "2023-11-15T15:39:01.583408Z",
     "shell.execute_reply.started": "2023-11-15T15:39:01.575932Z"
    }
   },
   "outputs": [
    {
     "name": "stdout",
     "output_type": "stream",
     "text": [
      "Nueva TNA: 2.4658%\n",
      "Nuevo Nominal: 100\n",
      "Nueva Amortización: 10\n",
      "Nuevo ICP Inicio: 20,000.00\n",
      "Nuevo ICP Final: 20,000.00\n",
      "Check TNA Final: 0.0000%\n"
     ]
    }
   ],
   "source": [
    "# Setters\n",
    "decimales_para_tna = 6\n",
    "icp_clp_cashflow2.set_tna_decimal_places(decimales_para_tna)\n",
    "print(f\"Nueva TNA: {icp_clp_cashflow2.get_rate_value():.4%}\")\n",
    "\n",
    "nuevo_nominal = 100\n",
    "icp_clp_cashflow2.set_nominal(nuevo_nominal)\n",
    "print(f\"Nuevo Nominal: {icp_clp_cashflow2.get_nominal():,.0f}\")\n",
    "\n",
    "nueva_amortizacion = 10\n",
    "icp_clp_cashflow2.set_amortization(nueva_amortizacion)\n",
    "print(f\"Nueva Amortización: {icp_clp_cashflow2.get_amortization():,.0f}\")\n",
    "\n",
    "nuevo_icp_inicio = 20_000.0\n",
    "icp_clp_cashflow2.set_start_date_icp(nuevo_icp_inicio)\n",
    "print(f\"Nuevo ICP Inicio: {icp_clp_cashflow2.get_start_date_icp():,.2f}\")\n",
    "\n",
    "nuevo_icp_final = 20_000.0\n",
    "icp_clp_cashflow2.set_end_date_icp(nuevo_icp_final)\n",
    "print(f\"Nuevo ICP Final: {icp_clp_cashflow2.get_end_date_icp():,.2f}\")\n",
    "print(f\"Check TNA Final: {icp_clp_cashflow2.get_rate_value():.4%}\")"
   ]
  },
  {
   "cell_type": "code",
   "execution_count": 114,
   "metadata": {
    "ExecuteTime": {
     "end_time": "2024-01-04T22:25:28.455190Z",
     "start_time": "2024-01-04T22:25:28.104704Z"
    },
    "execution": {
     "iopub.execute_input": "2023-11-15T15:39:01.584092Z",
     "iopub.status.busy": "2023-11-15T15:39:01.584023Z",
     "iopub.status.idle": "2023-11-15T15:39:01.586920Z",
     "shell.execute_reply": "2023-11-15T15:39:01.586715Z",
     "shell.execute_reply.started": "2023-11-15T15:39:01.584086Z"
    }
   },
   "outputs": [
    {
     "name": "stdout",
     "output_type": "stream",
     "text": [
      "Flujo: 12.50\n",
      "\n",
      "TNA fijada al 29-03-2019: 2.37%\n",
      "Check: 2.37%\n",
      "\n",
      "Interés Devengado al 29-03-2019: 1.250833\n",
      "Check: 1.250833\n"
     ]
    }
   ],
   "source": [
    "# Cálculos\n",
    "decimales_para_tna = 4  # Se vuelve a 4 decimales de tasa\n",
    "icp_clp_cashflow2.set_tna_decimal_places(decimales_para_tna)\n",
    "\n",
    "nuevo_icp_inicio = 10_000.0\n",
    "icp_clp_cashflow2.set_start_date_icp(nuevo_icp_inicio)\n",
    "\n",
    "nuevo_icp_final = 10_250.0\n",
    "icp_clp_cashflow2.set_end_date_icp(nuevo_icp_final)\n",
    "\n",
    "print(f\"Flujo: {icp_clp_cashflow2.amount():,.2f}\")\n",
    "print()\n",
    "\n",
    "fecha_devengo = qcf.QCDate(29, 3, 2019)\n",
    "icp_devengo = 10_125.0\n",
    "tna_devengo = icp_clp_cashflow2.get_tna(fecha_devengo, icp_devengo)\n",
    "print(f\"TNA fijada al {fecha_devengo.description(True)}: {tna_devengo:.2%}\")\n",
    "check = round((icp_devengo / nuevo_icp_inicio - 1) * 360.0 / fecha_inicio.day_diff(fecha_devengo), decimales_para_tna)\n",
    "print(f\"Check: {check:.2%}\")\n",
    "print()\n",
    "\n",
    "data = qcf.time_series()\n",
    "data[fecha_devengo] = icp_devengo\n",
    "print(f\"Interés Devengado al {fecha_devengo.description(True)}: {icp_clp_cashflow2.accrued_interest(fecha_devengo, data):,.6f}\")\n",
    "check = 100 * tna_devengo * fecha_inicio.day_diff(fecha_devengo) / 360.0\n",
    "print(f\"Check: {check:,.6f}\")"
   ]
  },
  {
   "cell_type": "code",
   "execution_count": 115,
   "metadata": {
    "ExecuteTime": {
     "end_time": "2024-01-04T22:25:28.804413Z",
     "start_time": "2024-01-04T22:25:28.421366Z"
    },
    "execution": {
     "iopub.execute_input": "2023-11-15T15:39:01.587453Z",
     "iopub.status.busy": "2023-11-15T15:39:01.587342Z",
     "iopub.status.idle": "2023-11-15T15:39:01.589111Z",
     "shell.execute_reply": "2023-11-15T15:39:01.588764Z",
     "shell.execute_reply.started": "2023-11-15T15:39:01.587446Z"
    }
   },
   "outputs": [
    {
     "name": "stdout",
     "output_type": "stream",
     "text": [
      "('2018-09-20', '2019-09-20', '2019-09-23', 100.0, 10.0, True, 12.499999999999991, 'CLP', 10000.0, 10250.0, 0.0247, 2.504305555555564, 0.0, 1.0, 'LinAct360')\n"
     ]
    }
   ],
   "source": [
    "print(qcf.show(icp_clp_cashflow2))"
   ]
  },
  {
   "cell_type": "code",
   "execution_count": 116,
   "metadata": {
    "ExecuteTime": {
     "end_time": "2024-01-04T22:25:29.128401Z",
     "start_time": "2024-01-04T22:25:28.771469Z"
    },
    "execution": {
     "iopub.execute_input": "2023-11-15T15:39:01.589592Z",
     "iopub.status.busy": "2023-11-15T15:39:01.589517Z",
     "iopub.status.idle": "2023-11-15T15:39:01.591643Z",
     "shell.execute_reply": "2023-11-15T15:39:01.591405Z",
     "shell.execute_reply.started": "2023-11-15T15:39:01.589586Z"
    }
   },
   "outputs": [
    {
     "data": {
      "text/plain": [
       "'IcpClpCashflow'"
      ]
     },
     "execution_count": 116,
     "metadata": {},
     "output_type": "execute_result"
    }
   ],
   "source": [
    "icp_clp_cashflow2.get_type()"
   ]
  },
  {
   "cell_type": "markdown",
   "metadata": {},
   "source": [
    "### Overnight Index Cashflow\n",
    "Un objeto de tipo `OvernightIndexCashflow` representa un flujo de caja del tipo de la pata flotante de un swap ICP (cámara promedio) de Chile usando cualquier tipo de índice similar (por ejemplo SOFRINDX) y cualquier moneda. Adicionalmente, permite definir en forma independiente a `start_date` y `end_date` las fechas inicial y final utilizadas para los valores del índice. Esto puede resultar útil cuando una de estas operaciones se utiliza para cubrir créditos o bonos a tasa fija. Para dar de alta uno de estos objetos se requiere:\n",
    "\n",
    "- `QCDate`: fecha inicio devengo (para la aplicación de la tasa)\n",
    "- `QCDate`: fecha final devengo (para la aplicación de la tasa)\n",
    "- `QCDate`: fecha inicio índice (para el valor del índice)\n",
    "- `QCDate`: fecha final índice (para el valor del índice)\n",
    "- `QCDate`: fecha de pago\n",
    "- `QCCurrency`: moneda del nocional\n",
    "- `float`: nocional (monto al que se le aplica la tasa)\n",
    "- `float`: amortización (eventual flujo de caja que corresponde a una porción del nominal)\n",
    "- `bool`: indica si la amortización anterior es un flujo de caja o sólo una disminución de nominal\n",
    "- `float`: spread aditivo a aplicar a la fijación de la tasa equivalente (TNA en el caso de un ICPCLP)\n",
    "- `float`: spread multiplicativo o gearing a aplicar a la fijación de la tasa equivalente\n",
    "- `QCInterestRate`: con este objeto se especifica en qué convención se calcula la tasa equivalente\n",
    "- `string`: nombre del índice overnight a utilizar\n",
    "- `unsigned int`: número de decimales a utilizar para determinar la tasa equivalente"
   ]
  },
  {
   "cell_type": "code",
   "execution_count": 117,
   "metadata": {
    "ExecuteTime": {
     "end_time": "2024-01-04T22:25:29.546340Z",
     "start_time": "2024-01-04T22:25:29.115469Z"
    },
    "execution": {
     "iopub.execute_input": "2023-11-15T15:39:01.592195Z",
     "iopub.status.busy": "2023-11-15T15:39:01.592089Z",
     "iopub.status.idle": "2023-11-15T15:39:01.594883Z",
     "shell.execute_reply": "2023-11-15T15:39:01.594617Z",
     "shell.execute_reply.started": "2023-11-15T15:39:01.592186Z"
    }
   },
   "outputs": [],
   "source": [
    "# Ejemplo\n",
    "fecha_inicio_devengo = qcf.QCDate(13, 11, 2023)\n",
    "\n",
    "# Notar que la fecha final de devengo es sábado\n",
    "fecha_final_devengo = qcf.QCDate(18, 11, 2023)\n",
    "\n",
    "fecha_inicio_indice = qcf.QCDate(13, 11, 2023)\n",
    "\n",
    "# Notar que la fecha final de índice es el viernes\n",
    "fecha_final_indice = qcf.QCDate(17, 11, 2023)\n",
    "\n",
    "# La fecha de pago es el lunes siguiente\n",
    "fecha_pago = qcf.QCDate(20, 11, 2023)\n",
    "\n",
    "moneda_nocional = qcf.QCUSD()\n",
    "nocional = 1_000_000_000.0\n",
    "amort = 100_000_000.0\n",
    "amort_es_flujo = True\n",
    "spread = 0.0\n",
    "gearing = 1.0\n",
    "tasa = qcf.QCInterestRate(0.0, qcf.QCAct360(), qcf.QCLinearWf())\n",
    "nombre_indice = 'INDICE'\n",
    "num_decimales = 8\n",
    "valor_indice_inicio = 1.0\n",
    "valor_indice_final = 1 + .1234 * 4 / 360 # Suponemos un valor constante de 10% por 4 días del índice"
   ]
  },
  {
   "cell_type": "code",
   "execution_count": 118,
   "metadata": {
    "ExecuteTime": {
     "end_time": "2024-01-04T22:25:30.070632Z",
     "start_time": "2024-01-04T22:25:29.533365Z"
    },
    "execution": {
     "iopub.execute_input": "2023-11-15T15:39:01.595472Z",
     "iopub.status.busy": "2023-11-15T15:39:01.595268Z",
     "iopub.status.idle": "2023-11-15T15:39:01.597461Z",
     "shell.execute_reply": "2023-11-15T15:39:01.597190Z",
     "shell.execute_reply.started": "2023-11-15T15:39:01.595463Z"
    }
   },
   "outputs": [],
   "source": [
    "overnight_index_cashflow = qcf.OvernightIndexCashflow(\n",
    "    fecha_inicio_devengo,\n",
    "    fecha_final_devengo,\n",
    "    fecha_inicio_indice,\n",
    "    fecha_final_indice,\n",
    "    fecha_pago,\n",
    "    moneda_nocional,\n",
    "    nocional,\n",
    "    amort,\n",
    "    amort_es_flujo,\n",
    "    spread,\n",
    "    gearing,\n",
    "    tasa,\n",
    "    nombre_indice,\n",
    "    num_decimales,\n",
    ")"
   ]
  },
  {
   "cell_type": "markdown",
   "metadata": {
    "execution": {
     "iopub.execute_input": "2023-11-14T15:03:37.114645Z",
     "iopub.status.busy": "2023-11-14T15:03:37.114223Z",
     "iopub.status.idle": "2023-11-14T15:03:37.117758Z",
     "shell.execute_reply": "2023-11-14T15:03:37.117154Z",
     "shell.execute_reply.started": "2023-11-14T15:03:37.114618Z"
    }
   },
   "source": [
    "#### Getters"
   ]
  },
  {
   "cell_type": "code",
   "execution_count": 189,
   "metadata": {
    "ExecuteTime": {
     "end_time": "2024-01-04T22:27:03.076868Z",
     "start_time": "2024-01-04T22:27:02.745501Z"
    },
    "execution": {
     "iopub.execute_input": "2023-11-15T15:39:01.597872Z",
     "iopub.status.busy": "2023-11-15T15:39:01.597788Z",
     "iopub.status.idle": "2023-11-15T15:39:01.603477Z",
     "shell.execute_reply": "2023-11-15T15:39:01.603249Z",
     "shell.execute_reply.started": "2023-11-15T15:39:01.597862Z"
    }
   },
   "outputs": [
    {
     "name": "stdout",
     "output_type": "stream",
     "text": [
      "Fecha Inicio Devengo: 2023-11-13\n",
      "Fecha Final Devengo: 2023-11-18\n",
      "Fecha Inicio Índice: 2023-11-13\n",
      "Fecha Final Índice: 2023-11-17\n",
      "Fecha Pago: 2023-11-20\n",
      "Índice Fecha Inicio: 10,000.00000000\n",
      "ïndice Fecha Final: 10,010.00000000\n",
      "\n",
      "Valor Tasa Equivalente Todo el Período: 7.200000%\n",
      "Check: 9.872000%\n",
      "\n",
      "Nominal: 1,000,000,000\n",
      "Amortización: 100,000\n",
      "Tipo de Tasa: LinAct360\n",
      "Moneda: USD\n"
     ]
    }
   ],
   "source": [
    "print(\"Fecha Inicio Devengo:\", overnight_index_cashflow.get_start_date())\n",
    "print(\"Fecha Final Devengo:\", overnight_index_cashflow.get_end_date())\n",
    "\n",
    "print(\"Fecha Inicio Índice:\", overnight_index_cashflow.get_index_start_date())\n",
    "print(\"Fecha Final Índice:\", overnight_index_cashflow.get_index_end_date())\n",
    "\n",
    "print(\"Fecha Pago:\", overnight_index_cashflow.get_settlement_date())\n",
    "\n",
    "\n",
    "print(f\"Índice Fecha Inicio: {overnight_index_cashflow.get_start_date_index():,.8f}\")\n",
    "print(f\"ïndice Fecha Final: {overnight_index_cashflow.get_end_date_index():,.8f}\")\n",
    "\n",
    "print()\n",
    "print(f\"Valor Tasa Equivalente Todo el Período: {overnight_index_cashflow.get_rate_value():.6%}\")\n",
    "check = round((\n",
    "    valor_indice_final / valor_indice_inicio - 1\n",
    ") * 360.0 / fecha_inicio_devengo.day_diff(fecha_final_devengo), num_decimales)\n",
    "print(f\"Check: {check:.6%}\")\n",
    "print()\n",
    "\n",
    "print(f\"Nominal: {overnight_index_cashflow.get_nominal():,.0f}\")\n",
    "print(f\"Amortización: {overnight_index_cashflow.get_amortization():,.0f}\")\n",
    "print(\"Tipo de Tasa:\", overnight_index_cashflow.get_type_of_rate())\n",
    "print(\"Moneda:\", overnight_index_cashflow.ccy())"
   ]
  },
  {
   "cell_type": "markdown",
   "metadata": {},
   "source": [
    "#### Setters"
   ]
  },
  {
   "cell_type": "code",
   "execution_count": 190,
   "metadata": {
    "ExecuteTime": {
     "end_time": "2024-01-04T22:27:11.647752Z",
     "start_time": "2024-01-04T22:27:11.333968Z"
    },
    "execution": {
     "iopub.execute_input": "2023-11-15T15:39:01.603953Z",
     "iopub.status.busy": "2023-11-15T15:39:01.603887Z",
     "iopub.status.idle": "2023-11-15T15:39:01.611283Z",
     "shell.execute_reply": "2023-11-15T15:39:01.610987Z",
     "shell.execute_reply.started": "2023-11-15T15:39:01.603947Z"
    }
   },
   "outputs": [
    {
     "name": "stdout",
     "output_type": "stream",
     "text": [
      "Nueva Tasa Eq: 7.2000%\n"
     ]
    }
   ],
   "source": [
    "decimales_para_tasa_eq = 4\n",
    "overnight_index_cashflow.set_eq_rate_decimal_places(decimales_para_tasa_eq)\n",
    "print(f\"Nueva Tasa Eq: {overnight_index_cashflow.get_rate_value():.4%}\")"
   ]
  },
  {
   "cell_type": "code",
   "execution_count": 193,
   "metadata": {
    "ExecuteTime": {
     "end_time": "2024-01-04T22:27:49.925428Z",
     "start_time": "2024-01-04T22:27:49.708437Z"
    },
    "execution": {
     "iopub.execute_input": "2023-11-15T15:39:01.611657Z",
     "iopub.status.busy": "2023-11-15T15:39:01.611580Z",
     "iopub.status.idle": "2023-11-15T15:39:01.613380Z",
     "shell.execute_reply": "2023-11-15T15:39:01.613149Z",
     "shell.execute_reply.started": "2023-11-15T15:39:01.611650Z"
    }
   },
   "outputs": [
    {
     "name": "stdout",
     "output_type": "stream",
     "text": [
      "Nuevo Nocional: 123,456.00\n"
     ]
    }
   ],
   "source": [
    "new_notional = 123_456\n",
    "overnight_index_cashflow.set_nominal(new_notional)\n",
    "print(f\"Nuevo Nocional: {overnight_index_cashflow.get_nominal():,.2f}\")"
   ]
  },
  {
   "cell_type": "code",
   "execution_count": 194,
   "metadata": {
    "ExecuteTime": {
     "end_time": "2024-01-04T22:27:54.507482Z",
     "start_time": "2024-01-04T22:27:54.251406Z"
    },
    "execution": {
     "iopub.execute_input": "2023-11-15T15:39:01.613661Z",
     "iopub.status.busy": "2023-11-15T15:39:01.613606Z",
     "iopub.status.idle": "2023-11-15T15:39:01.615556Z",
     "shell.execute_reply": "2023-11-15T15:39:01.615198Z",
     "shell.execute_reply.started": "2023-11-15T15:39:01.613655Z"
    }
   },
   "outputs": [
    {
     "name": "stdout",
     "output_type": "stream",
     "text": [
      "Nueva Amortización: 100,000.00\n"
     ]
    }
   ],
   "source": [
    "new_amortization = 100_000\n",
    "overnight_index_cashflow.set_amortization(new_amortization)\n",
    "print(f\"Nueva Amortización: {overnight_index_cashflow.get_amortization():,.2f}\")"
   ]
  },
  {
   "cell_type": "code",
   "execution_count": 195,
   "metadata": {
    "ExecuteTime": {
     "end_time": "2024-01-04T22:27:55.688927Z",
     "start_time": "2024-01-04T22:27:55.476341Z"
    },
    "execution": {
     "iopub.execute_input": "2023-11-15T15:39:01.616029Z",
     "iopub.status.busy": "2023-11-15T15:39:01.615830Z",
     "iopub.status.idle": "2023-11-15T15:39:01.617788Z",
     "shell.execute_reply": "2023-11-15T15:39:01.617557Z",
     "shell.execute_reply.started": "2023-11-15T15:39:01.616019Z"
    }
   },
   "outputs": [
    {
     "name": "stdout",
     "output_type": "stream",
     "text": [
      "Nuevo Índice Inicio: 20,000.00\n"
     ]
    }
   ],
   "source": [
    "nuevo_indice_inicio = 20_000.0\n",
    "overnight_index_cashflow.set_start_date_index(nuevo_indice_inicio)\n",
    "print(f\"Nuevo Índice Inicio: {overnight_index_cashflow.get_start_date_index():,.2f}\")"
   ]
  },
  {
   "cell_type": "code",
   "execution_count": 196,
   "metadata": {
    "ExecuteTime": {
     "end_time": "2024-01-04T22:27:58.163951Z",
     "start_time": "2024-01-04T22:27:57.757355Z"
    },
    "execution": {
     "iopub.execute_input": "2023-11-15T15:39:01.618085Z",
     "iopub.status.busy": "2023-11-15T15:39:01.618028Z",
     "iopub.status.idle": "2023-11-15T15:39:01.620167Z",
     "shell.execute_reply": "2023-11-15T15:39:01.619928Z",
     "shell.execute_reply.started": "2023-11-15T15:39:01.618079Z"
    }
   },
   "outputs": [
    {
     "name": "stdout",
     "output_type": "stream",
     "text": [
      "Nuevo Índice Final: 20,010.00\n",
      "Check Tas Eq. Final: 3.6000%\n"
     ]
    }
   ],
   "source": [
    "nuevo_indice_final = 20_010.0\n",
    "overnight_index_cashflow.set_end_date_index(nuevo_indice_final)\n",
    "print(f\"Nuevo Índice Final: {overnight_index_cashflow.get_end_date_index():,.2f}\")\n",
    "print(f\"Check Tas Eq. Final: {overnight_index_cashflow.get_rate_value():.4%}\")"
   ]
  },
  {
   "cell_type": "markdown",
   "metadata": {},
   "source": [
    "#### Cálculos"
   ]
  },
  {
   "cell_type": "code",
   "execution_count": 197,
   "metadata": {
    "ExecuteTime": {
     "end_time": "2024-01-04T22:27:59.630204Z",
     "start_time": "2024-01-04T22:27:59.307894Z"
    },
    "execution": {
     "iopub.execute_input": "2023-11-15T15:39:01.620521Z",
     "iopub.status.busy": "2023-11-15T15:39:01.620460Z",
     "iopub.status.idle": "2023-11-15T15:39:01.622418Z",
     "shell.execute_reply": "2023-11-15T15:39:01.622096Z",
     "shell.execute_reply.started": "2023-11-15T15:39:01.620515Z"
    }
   },
   "outputs": [
    {
     "name": "stdout",
     "output_type": "stream",
     "text": [
      "Flujo: 100,123.46\n"
     ]
    }
   ],
   "source": [
    "decimales_para_tasa = 8  # Se vuelve a 8 decimales de tasa\n",
    "overnight_index_cashflow.set_eq_rate_decimal_places(decimales_para_tasa)\n",
    "\n",
    "nuevo_indice_inicio = 10_000.0\n",
    "overnight_index_cashflow.set_start_date_index(nuevo_indice_inicio)\n",
    "\n",
    "nuevo_indice_final = 10_010.0\n",
    "overnight_index_cashflow.set_end_date_index(nuevo_indice_final)\n",
    "\n",
    "print(f\"Flujo: {overnight_index_cashflow.amount():,.2f}\")\n",
    "print()"
   ]
  },
  {
   "cell_type": "code",
   "execution_count": 198,
   "metadata": {
    "ExecuteTime": {
     "end_time": "2024-01-04T22:28:02.092217Z",
     "start_time": "2024-01-04T22:28:01.723152Z"
    },
    "execution": {
     "iopub.execute_input": "2023-11-15T15:39:01.622834Z",
     "iopub.status.busy": "2023-11-15T15:39:01.622767Z",
     "iopub.status.idle": "2023-11-15T15:39:01.625030Z",
     "shell.execute_reply": "2023-11-15T15:39:01.624751Z",
     "shell.execute_reply.started": "2023-11-15T15:39:01.622827Z"
    }
   },
   "outputs": [
    {
     "name": "stdout",
     "output_type": "stream",
     "text": [
      "Tasa Eq. fijada al 16-11-2023: 6.00%\n",
      "Check: 6.00%\n"
     ]
    }
   ],
   "source": [
    "fecha_devengo = qcf.QCDate(16, 11, 2023)\n",
    "indice_devengo = 10_005.0\n",
    "tasa_devengo = overnight_index_cashflow.get_eq_rate(fecha_devengo, indice_devengo)\n",
    "print(f\"Tasa Eq. fijada al {fecha_devengo.description(True)}: {tasa_devengo:.2%}\")\n",
    "check = round((\n",
    "    indice_devengo / nuevo_indice_inicio - 1\n",
    ") * 360.0 / fecha_inicio_devengo.day_diff(fecha_devengo), decimales_para_tasa)\n",
    "print(f\"Check: {check:.2%}\")\n",
    "print()"
   ]
  },
  {
   "cell_type": "code",
   "execution_count": 199,
   "metadata": {
    "ExecuteTime": {
     "end_time": "2024-01-04T22:28:03.637516Z",
     "start_time": "2024-01-04T22:28:03.144068Z"
    },
    "execution": {
     "iopub.execute_input": "2023-11-15T15:39:01.625378Z",
     "iopub.status.busy": "2023-11-15T15:39:01.625308Z",
     "iopub.status.idle": "2023-11-15T15:39:01.627415Z",
     "shell.execute_reply": "2023-11-15T15:39:01.627038Z",
     "shell.execute_reply.started": "2023-11-15T15:39:01.625371Z"
    }
   },
   "outputs": [
    {
     "name": "stdout",
     "output_type": "stream",
     "text": [
      "Interés Devengado al 16-11-2023: 61.728000\n",
      "Check: 61.728000\n"
     ]
    }
   ],
   "source": [
    "data = qcf.time_series()\n",
    "data[fecha_devengo] = indice_devengo\n",
    "print(\n",
    "    f\"Interés Devengado al {fecha_devengo.description(True)}: {overnight_index_cashflow.accrued_interest(fecha_devengo, data):,.6f}\")\n",
    "check = new_notional * tasa_devengo * fecha_inicio_devengo.day_diff(fecha_devengo) / 360.0\n",
    "print(f\"Check: {check:,.6f}\")"
   ]
  },
  {
   "cell_type": "code",
   "execution_count": 200,
   "metadata": {
    "ExecuteTime": {
     "end_time": "2024-01-04T22:28:05.446139Z",
     "start_time": "2024-01-04T22:28:04.981961Z"
    },
    "execution": {
     "iopub.execute_input": "2023-11-15T15:39:01.627790Z",
     "iopub.status.busy": "2023-11-15T15:39:01.627702Z",
     "iopub.status.idle": "2023-11-15T15:39:01.630017Z",
     "shell.execute_reply": "2023-11-15T15:39:01.629812Z",
     "shell.execute_reply.started": "2023-11-15T15:39:01.627780Z"
    }
   },
   "outputs": [
    {
     "data": {
      "text/plain": [
       "'OvernightIndexCashflow'"
      ]
     },
     "execution_count": 200,
     "metadata": {},
     "output_type": "execute_result"
    }
   ],
   "source": [
    "overnight_index_cashflow.get_type()"
   ]
  },
  {
   "cell_type": "markdown",
   "metadata": {},
   "source": [
    "#### Show"
   ]
  },
  {
   "cell_type": "code",
   "execution_count": 201,
   "metadata": {
    "ExecuteTime": {
     "end_time": "2024-01-04T22:28:09.580619Z",
     "start_time": "2024-01-04T22:28:09.137486Z"
    },
    "execution": {
     "iopub.execute_input": "2023-11-15T15:39:01.630493Z",
     "iopub.status.busy": "2023-11-15T15:39:01.630353Z",
     "iopub.status.idle": "2023-11-15T15:39:01.641655Z",
     "shell.execute_reply": "2023-11-15T15:39:01.641383Z",
     "shell.execute_reply.started": "2023-11-15T15:39:01.630484Z"
    }
   },
   "outputs": [
    {
     "data": {
      "text/html": [
       "<div>\n",
       "<style scoped>\n",
       "    .dataframe tbody tr th:only-of-type {\n",
       "        vertical-align: middle;\n",
       "    }\n",
       "\n",
       "    .dataframe tbody tr th {\n",
       "        vertical-align: top;\n",
       "    }\n",
       "\n",
       "    .dataframe thead th {\n",
       "        text-align: right;\n",
       "    }\n",
       "</style>\n",
       "<table border=\"1\" class=\"dataframe\">\n",
       "  <thead>\n",
       "    <tr style=\"text-align: right;\">\n",
       "      <th></th>\n",
       "      <th>fecha_inicial_devengo</th>\n",
       "      <th>fecha_final_devengo</th>\n",
       "      <th>fecha_inicial_indice</th>\n",
       "      <th>fecha_final_indice</th>\n",
       "      <th>fecha_pago</th>\n",
       "      <th>nocional</th>\n",
       "      <th>amortizacion</th>\n",
       "      <th>amort_es_flujo</th>\n",
       "      <th>moneda_nocional</th>\n",
       "      <th>nombre_indice</th>\n",
       "      <th>valor_indice_inicial</th>\n",
       "      <th>valor_indice_final</th>\n",
       "      <th>valor_tasa_equivalente</th>\n",
       "      <th>tipo_tasa</th>\n",
       "      <th>interes</th>\n",
       "      <th>flujo</th>\n",
       "      <th>spread</th>\n",
       "      <th>gearing</th>\n",
       "    </tr>\n",
       "  </thead>\n",
       "  <tbody>\n",
       "    <tr>\n",
       "      <th>0</th>\n",
       "      <td>2023-11-13</td>\n",
       "      <td>2023-11-18</td>\n",
       "      <td>2023-11-13</td>\n",
       "      <td>2023-11-17</td>\n",
       "      <td>2023-11-20</td>\n",
       "      <td>123456.0</td>\n",
       "      <td>100000.0</td>\n",
       "      <td>True</td>\n",
       "      <td>USD</td>\n",
       "      <td>INDICE</td>\n",
       "      <td>10000.0</td>\n",
       "      <td>10010.0</td>\n",
       "      <td>0.072</td>\n",
       "      <td>LinAct360</td>\n",
       "      <td>123.456</td>\n",
       "      <td>100123.456</td>\n",
       "      <td>0.0</td>\n",
       "      <td>1.0</td>\n",
       "    </tr>\n",
       "  </tbody>\n",
       "</table>\n",
       "</div>"
      ],
      "text/plain": [
       "  fecha_inicial_devengo fecha_final_devengo fecha_inicial_indice  \\\n",
       "0            2023-11-13          2023-11-18           2023-11-13   \n",
       "\n",
       "  fecha_final_indice  fecha_pago  nocional  amortizacion  amort_es_flujo  \\\n",
       "0         2023-11-17  2023-11-20  123456.0      100000.0            True   \n",
       "\n",
       "  moneda_nocional nombre_indice  valor_indice_inicial  valor_indice_final  \\\n",
       "0             USD        INDICE               10000.0             10010.0   \n",
       "\n",
       "   valor_tasa_equivalente  tipo_tasa  interes       flujo  spread  gearing  \n",
       "0                   0.072  LinAct360  123.456  100123.456     0.0      1.0  "
      ]
     },
     "execution_count": 201,
     "metadata": {},
     "output_type": "execute_result"
    }
   ],
   "source": [
    "data = [qcf.show(overnight_index_cashflow)]\n",
    "pd.DataFrame(data, columns = qcf.get_column_names(\"OvernightIndexCashflow\", \"\"))"
   ]
  },
  {
   "cell_type": "markdown",
   "metadata": {},
   "source": [
    "### Overnight Index Multi Currency Cashflow"
   ]
  },
  {
   "cell_type": "markdown",
   "metadata": {},
   "source": [
    "Un objeto de tipo `OvernightIndexMultiCurrencyCashflow` hereda de `OvernightIndexCashflow` y representa un flujo de caja del tipo de la pata flotante de un swap ICP (cámara promedio) de Chile usando cualquier tipo de índice similar (por ejemplo SOFRINDX), cualquier moneda de nocional, pero con flujos de caja en una moneda distinta a la del nocional, por ejemplo un ICPCLP con contraparte en US que compensa en USD. Al heredar de `OvernightIndexCashflow`, también permite definir en forma independiente a `start_date` y `end_date` las fechas inicial y final utilizadas para los valores del índice. Para dar de alta uno de estos objetos se requiere:\n",
    "\n",
    "- `QCDate`: fecha inicio devengo (para la aplicación de la tasa)\n",
    "- `QCDate`: fecha final devengo (para la aplicación de la tasa)\n",
    "- `QCDate`: fecha inicio índice (para el valor del índice)\n",
    "- `QCDate`: fecha final índice (para el valor del índice)\n",
    "- `QCDate`: fecha de pago\n",
    "- `QCCurrency`: moneda del nocional\n",
    "- `float`: nocional (monto al que se le aplica la tasa)\n",
    "- `float`: amortización (eventual flujo de caja que corresponde a una porción del nominal)\n",
    "- `bool`: indica si la amortización anterior es un flujo de caja o sólo una disminución de nominal\n",
    "- `float`: spread aditivo a aplicar a la fijación de la tasa equivalente (TNA en el caso de un ICPCLP)\n",
    "- `float`: spread multiplicativo o gearing a aplicar a la fijación de la tasa equivalente\n",
    "- `QCInterestRate`: con este objeto se especifica en qué convención se calcula la tasa equivalente\n",
    "- `string`: nombre del índice overnight a utilizar\n",
    "- `unsigned int`: número de decimales a utilizar para determinar la tasa equivalente\n",
    "---\n",
    "Hasta acá son los mismos argumentos necesarios para construir un `OvernightIndexCAshflow`. Se añaden los siguientes argumentos:\n",
    "- `QCDate`: fecha de fixing del índice de tipo de cambio. Esta fecha se refiere a la fecha de publicación del índice, no a la fecha de fixing en sentido financiero.\n",
    "- `QCCurrency`: moneda de pago de los flujos de caja\n",
    "- `FXRateIndex>`: índice de tipo de cambio utilizado para la conversión de los flujos a moneda de pago"
   ]
  },
  {
   "cell_type": "markdown",
   "metadata": {},
   "source": [
    "#### Ejemplo"
   ]
  },
  {
   "cell_type": "code",
   "execution_count": 202,
   "metadata": {
    "ExecuteTime": {
     "end_time": "2024-01-04T22:28:18.885065Z",
     "start_time": "2024-01-04T22:28:18.532287Z"
    },
    "execution": {
     "iopub.execute_input": "2023-11-15T15:39:01.642105Z",
     "iopub.status.busy": "2023-11-15T15:39:01.642032Z",
     "iopub.status.idle": "2023-11-15T15:39:01.644777Z",
     "shell.execute_reply": "2023-11-15T15:39:01.644451Z",
     "shell.execute_reply.started": "2023-11-15T15:39:01.642097Z"
    }
   },
   "outputs": [],
   "source": [
    "fecha_inicio_devengo = qcf.QCDate(13, 11, 2023)\n",
    "\n",
    "# Notar que la fecha final de devengo es sábado\n",
    "fecha_final_devengo = qcf.QCDate(18, 11, 2023)\n",
    "\n",
    "fecha_inicio_indice = qcf.QCDate(13, 11, 2023)\n",
    "\n",
    "# Notar que la fecha final de índice es el viernes\n",
    "fecha_final_indice = qcf.QCDate(17, 11, 2023)\n",
    "\n",
    "# La fecha de pago es el lunes siguiente\n",
    "fecha_pago = qcf.QCDate(20, 11, 2023)\n",
    "\n",
    "moneda_nocional = qcf.QCUSD()\n",
    "nocional = 1_000_000_000.0\n",
    "amort = 100_000_000.0\n",
    "amort_es_flujo = True\n",
    "spread = 0.0\n",
    "gearing = 1.0\n",
    "tasa = qcf.QCInterestRate(0.0, qcf.QCAct360(), qcf.QCLinearWf())\n",
    "nombre_indice = 'INDICE'\n",
    "num_decimales = 8\n",
    "valor_indice_inicio = 1.0\n",
    "valor_indice_final = 1 + .1234 * 4 / 360 # Suponemos un valor constante de 10% por 4 días del índice\n",
    "\n",
    "# -------------------------------\n",
    "fecha_fixing_fx_index = fecha_final_devengo\n",
    "moneda_pago = qcf.QCCLP()\n",
    "indice_fx = usdclp_obs"
   ]
  },
  {
   "cell_type": "code",
   "execution_count": 203,
   "metadata": {
    "ExecuteTime": {
     "end_time": "2024-01-04T22:28:20.114655Z",
     "start_time": "2024-01-04T22:28:19.800310Z"
    },
    "execution": {
     "iopub.execute_input": "2023-11-15T15:39:01.645140Z",
     "iopub.status.busy": "2023-11-15T15:39:01.645067Z",
     "iopub.status.idle": "2023-11-15T15:39:01.647095Z",
     "shell.execute_reply": "2023-11-15T15:39:01.646772Z",
     "shell.execute_reply.started": "2023-11-15T15:39:01.645133Z"
    }
   },
   "outputs": [],
   "source": [
    "overnight_index_mccy_cashflow = qcf.OvernightIndexMultiCurrencyCashflow(\n",
    "    fecha_inicio_devengo,\n",
    "    fecha_final_devengo,\n",
    "    fecha_inicio_indice,\n",
    "    fecha_final_indice,\n",
    "    fecha_pago,\n",
    "    moneda_nocional,\n",
    "    nocional,\n",
    "    amort,\n",
    "    amort_es_flujo,\n",
    "    spread,\n",
    "    gearing,\n",
    "    tasa,\n",
    "    nombre_indice,\n",
    "    num_decimales,\n",
    "    fecha_fixing_fx_index,\n",
    "    moneda_pago,\n",
    "    indice_fx,\n",
    ")"
   ]
  },
  {
   "cell_type": "code",
   "execution_count": 204,
   "metadata": {
    "ExecuteTime": {
     "end_time": "2024-01-04T22:28:22.036729Z",
     "start_time": "2024-01-04T22:28:21.619559Z"
    },
    "execution": {
     "iopub.execute_input": "2023-11-15T15:39:01.647423Z",
     "iopub.status.busy": "2023-11-15T15:39:01.647350Z",
     "iopub.status.idle": "2023-11-15T15:39:01.649378Z",
     "shell.execute_reply": "2023-11-15T15:39:01.649169Z",
     "shell.execute_reply.started": "2023-11-15T15:39:01.647416Z"
    }
   },
   "outputs": [
    {
     "data": {
      "text/plain": [
       "qcfinancial.OvernightIndexMultiCurrencyCashflow"
      ]
     },
     "execution_count": 204,
     "metadata": {},
     "output_type": "execute_result"
    }
   ],
   "source": [
    "type(overnight_index_mccy_cashflow)"
   ]
  },
  {
   "cell_type": "markdown",
   "metadata": {},
   "source": [
    "#### Función `show` "
   ]
  },
  {
   "cell_type": "code",
   "execution_count": 205,
   "metadata": {
    "ExecuteTime": {
     "end_time": "2024-01-04T22:28:24.580715Z",
     "start_time": "2024-01-04T22:28:24.333979Z"
    },
    "execution": {
     "iopub.execute_input": "2023-11-15T15:39:01.649757Z",
     "iopub.status.busy": "2023-11-15T15:39:01.649696Z",
     "iopub.status.idle": "2023-11-15T15:39:01.651960Z",
     "shell.execute_reply": "2023-11-15T15:39:01.651758Z",
     "shell.execute_reply.started": "2023-11-15T15:39:01.649751Z"
    }
   },
   "outputs": [
    {
     "data": {
      "text/plain": [
       "('2023-11-13',\n",
       " '2023-11-18',\n",
       " '2023-11-13',\n",
       " '2023-11-17',\n",
       " '2023-11-20',\n",
       " 1000000000.0,\n",
       " 100000000.0,\n",
       " True,\n",
       " 'USD',\n",
       " 'INDICE',\n",
       " 1.0,\n",
       " 1.0,\n",
       " 0.0,\n",
       " 'LinAct360',\n",
       " 0.0,\n",
       " 100000000.0,\n",
       " 0.0,\n",
       " 1.0,\n",
       " 'CLP',\n",
       " 'USDOBS',\n",
       " '2023-11-18',\n",
       " 1.0,\n",
       " 0.0,\n",
       " 100000000.0,\n",
       " 100000000.0)"
      ]
     },
     "execution_count": 205,
     "metadata": {},
     "output_type": "execute_result"
    }
   ],
   "source": [
    "qcf.show(overnight_index_mccy_cashflow)"
   ]
  },
  {
   "cell_type": "markdown",
   "metadata": {},
   "source": [
    "Se envuelve el resultado en un `pd.DataFrame`."
   ]
  },
  {
   "cell_type": "code",
   "execution_count": 206,
   "metadata": {
    "ExecuteTime": {
     "end_time": "2024-01-04T22:28:27.915634Z",
     "start_time": "2024-01-04T22:28:27.646506Z"
    },
    "execution": {
     "iopub.execute_input": "2023-11-15T15:39:01.652341Z",
     "iopub.status.busy": "2023-11-15T15:39:01.652284Z",
     "iopub.status.idle": "2023-11-15T15:39:01.658206Z",
     "shell.execute_reply": "2023-11-15T15:39:01.657995Z",
     "shell.execute_reply.started": "2023-11-15T15:39:01.652334Z"
    }
   },
   "outputs": [
    {
     "data": {
      "text/html": [
       "<div>\n",
       "<style scoped>\n",
       "    .dataframe tbody tr th:only-of-type {\n",
       "        vertical-align: middle;\n",
       "    }\n",
       "\n",
       "    .dataframe tbody tr th {\n",
       "        vertical-align: top;\n",
       "    }\n",
       "\n",
       "    .dataframe thead th {\n",
       "        text-align: right;\n",
       "    }\n",
       "</style>\n",
       "<table border=\"1\" class=\"dataframe\">\n",
       "  <thead>\n",
       "    <tr style=\"text-align: right;\">\n",
       "      <th></th>\n",
       "      <th>fecha_inicial_devengo</th>\n",
       "      <th>fecha_final_devengo</th>\n",
       "      <th>fecha_inicial_indice</th>\n",
       "      <th>fecha_final_indice</th>\n",
       "      <th>fecha_pago</th>\n",
       "      <th>nocional</th>\n",
       "      <th>amortizacion</th>\n",
       "      <th>amort_es_flujo</th>\n",
       "      <th>moneda_nocional</th>\n",
       "      <th>nombre_indice</th>\n",
       "      <th>...</th>\n",
       "      <th>flujo</th>\n",
       "      <th>spread</th>\n",
       "      <th>gearing</th>\n",
       "      <th>moneda_pago</th>\n",
       "      <th>indice_fx</th>\n",
       "      <th>fecha_fijacion_indice_fx</th>\n",
       "      <th>valor_indice_fx</th>\n",
       "      <th>interes_moneda_pago</th>\n",
       "      <th>amortizacion_moneda_pago</th>\n",
       "      <th>flujo_moneda_pago</th>\n",
       "    </tr>\n",
       "  </thead>\n",
       "  <tbody>\n",
       "    <tr>\n",
       "      <th>0</th>\n",
       "      <td>2023-11-13</td>\n",
       "      <td>2023-11-18</td>\n",
       "      <td>2023-11-13</td>\n",
       "      <td>2023-11-17</td>\n",
       "      <td>2023-11-20</td>\n",
       "      <td>1.000000e+09</td>\n",
       "      <td>100000000.0</td>\n",
       "      <td>True</td>\n",
       "      <td>USD</td>\n",
       "      <td>INDICE</td>\n",
       "      <td>...</td>\n",
       "      <td>100000000.0</td>\n",
       "      <td>0.0</td>\n",
       "      <td>1.0</td>\n",
       "      <td>CLP</td>\n",
       "      <td>USDOBS</td>\n",
       "      <td>2023-11-18</td>\n",
       "      <td>1.0</td>\n",
       "      <td>0.0</td>\n",
       "      <td>100000000.0</td>\n",
       "      <td>100000000.0</td>\n",
       "    </tr>\n",
       "  </tbody>\n",
       "</table>\n",
       "<p>1 rows × 25 columns</p>\n",
       "</div>"
      ],
      "text/plain": [
       "  fecha_inicial_devengo fecha_final_devengo fecha_inicial_indice  \\\n",
       "0            2023-11-13          2023-11-18           2023-11-13   \n",
       "\n",
       "  fecha_final_indice  fecha_pago      nocional  amortizacion  amort_es_flujo  \\\n",
       "0         2023-11-17  2023-11-20  1.000000e+09   100000000.0            True   \n",
       "\n",
       "  moneda_nocional nombre_indice  ...        flujo  spread  gearing  \\\n",
       "0             USD        INDICE  ...  100000000.0     0.0      1.0   \n",
       "\n",
       "  moneda_pago  indice_fx  fecha_fijacion_indice_fx  valor_indice_fx  \\\n",
       "0         CLP     USDOBS                2023-11-18              1.0   \n",
       "\n",
       "   interes_moneda_pago amortizacion_moneda_pago flujo_moneda_pago  \n",
       "0                  0.0              100000000.0       100000000.0  \n",
       "\n",
       "[1 rows x 25 columns]"
      ]
     },
     "execution_count": 206,
     "metadata": {},
     "output_type": "execute_result"
    }
   ],
   "source": [
    "pd.DataFrame(\n",
    "    [qcf.show(overnight_index_mccy_cashflow),],\n",
    "    columns=qcf.get_column_names(\"OvernightIndexMultiCurrencyCashflow\", \"\")\n",
    ")"
   ]
  },
  {
   "cell_type": "markdown",
   "metadata": {},
   "source": [
    "#### Nuevo Setter"
   ]
  },
  {
   "cell_type": "markdown",
   "metadata": {},
   "source": [
    "Valor del índice de tipo de cambio."
   ]
  },
  {
   "cell_type": "code",
   "execution_count": 207,
   "metadata": {
    "ExecuteTime": {
     "end_time": "2024-01-04T22:28:35.586422Z",
     "start_time": "2024-01-04T22:28:35.355891Z"
    },
    "execution": {
     "iopub.execute_input": "2023-11-15T15:39:01.658574Z",
     "iopub.status.busy": "2023-11-15T15:39:01.658505Z",
     "iopub.status.idle": "2023-11-15T15:39:01.660080Z",
     "shell.execute_reply": "2023-11-15T15:39:01.659763Z",
     "shell.execute_reply.started": "2023-11-15T15:39:01.658567Z"
    }
   },
   "outputs": [],
   "source": [
    "overnight_index_mccy_cashflow.set_fx_rate_index_value(.5)"
   ]
  },
  {
   "cell_type": "markdown",
   "metadata": {},
   "source": [
    "Ver el efecto en las últimas dos columnas."
   ]
  },
  {
   "cell_type": "code",
   "execution_count": 208,
   "metadata": {
    "ExecuteTime": {
     "end_time": "2024-01-04T22:28:37.900302Z",
     "start_time": "2024-01-04T22:28:37.665097Z"
    },
    "execution": {
     "iopub.execute_input": "2023-11-15T15:39:01.660505Z",
     "iopub.status.busy": "2023-11-15T15:39:01.660418Z",
     "iopub.status.idle": "2023-11-15T15:39:01.666493Z",
     "shell.execute_reply": "2023-11-15T15:39:01.666164Z",
     "shell.execute_reply.started": "2023-11-15T15:39:01.660497Z"
    }
   },
   "outputs": [
    {
     "data": {
      "text/html": [
       "<div>\n",
       "<style scoped>\n",
       "    .dataframe tbody tr th:only-of-type {\n",
       "        vertical-align: middle;\n",
       "    }\n",
       "\n",
       "    .dataframe tbody tr th {\n",
       "        vertical-align: top;\n",
       "    }\n",
       "\n",
       "    .dataframe thead th {\n",
       "        text-align: right;\n",
       "    }\n",
       "</style>\n",
       "<table border=\"1\" class=\"dataframe\">\n",
       "  <thead>\n",
       "    <tr style=\"text-align: right;\">\n",
       "      <th></th>\n",
       "      <th>fecha_inicial_devengo</th>\n",
       "      <th>fecha_final_devengo</th>\n",
       "      <th>fecha_inicial_indice</th>\n",
       "      <th>fecha_final_indice</th>\n",
       "      <th>fecha_pago</th>\n",
       "      <th>nocional</th>\n",
       "      <th>amortizacion</th>\n",
       "      <th>amort_es_flujo</th>\n",
       "      <th>moneda_nocional</th>\n",
       "      <th>nombre_indice</th>\n",
       "      <th>...</th>\n",
       "      <th>flujo</th>\n",
       "      <th>spread</th>\n",
       "      <th>gearing</th>\n",
       "      <th>moneda_pago</th>\n",
       "      <th>indice_fx</th>\n",
       "      <th>fecha_fijacion_indice_fx</th>\n",
       "      <th>valor_indice_fx</th>\n",
       "      <th>interes_moneda_pago</th>\n",
       "      <th>amortizacion_moneda_pago</th>\n",
       "      <th>flujo_moneda_pago</th>\n",
       "    </tr>\n",
       "  </thead>\n",
       "  <tbody>\n",
       "    <tr>\n",
       "      <th>0</th>\n",
       "      <td>2023-11-13</td>\n",
       "      <td>2023-11-18</td>\n",
       "      <td>2023-11-13</td>\n",
       "      <td>2023-11-17</td>\n",
       "      <td>2023-11-20</td>\n",
       "      <td>1.000000e+09</td>\n",
       "      <td>100000000.0</td>\n",
       "      <td>True</td>\n",
       "      <td>USD</td>\n",
       "      <td>INDICE</td>\n",
       "      <td>...</td>\n",
       "      <td>100000000.0</td>\n",
       "      <td>0.0</td>\n",
       "      <td>1.0</td>\n",
       "      <td>CLP</td>\n",
       "      <td>USDOBS</td>\n",
       "      <td>2023-11-18</td>\n",
       "      <td>0.5</td>\n",
       "      <td>0.0</td>\n",
       "      <td>50000000.0</td>\n",
       "      <td>50000000.0</td>\n",
       "    </tr>\n",
       "  </tbody>\n",
       "</table>\n",
       "<p>1 rows × 25 columns</p>\n",
       "</div>"
      ],
      "text/plain": [
       "  fecha_inicial_devengo fecha_final_devengo fecha_inicial_indice  \\\n",
       "0            2023-11-13          2023-11-18           2023-11-13   \n",
       "\n",
       "  fecha_final_indice  fecha_pago      nocional  amortizacion  amort_es_flujo  \\\n",
       "0         2023-11-17  2023-11-20  1.000000e+09   100000000.0            True   \n",
       "\n",
       "  moneda_nocional nombre_indice  ...        flujo  spread  gearing  \\\n",
       "0             USD        INDICE  ...  100000000.0     0.0      1.0   \n",
       "\n",
       "  moneda_pago  indice_fx  fecha_fijacion_indice_fx  valor_indice_fx  \\\n",
       "0         CLP     USDOBS                2023-11-18              0.5   \n",
       "\n",
       "   interes_moneda_pago amortizacion_moneda_pago flujo_moneda_pago  \n",
       "0                  0.0               50000000.0        50000000.0  \n",
       "\n",
       "[1 rows x 25 columns]"
      ]
     },
     "execution_count": 208,
     "metadata": {},
     "output_type": "execute_result"
    }
   ],
   "source": [
    "pd.DataFrame(\n",
    "    [qcf.show(overnight_index_mccy_cashflow),],\n",
    "    columns=qcf.get_column_names(\"OvernightIndexMultiCurrencyCashflow\", \"\")\n",
    ")"
   ]
  },
  {
   "cell_type": "markdown",
   "metadata": {},
   "source": [
    "#### Nuevos Getters"
   ]
  },
  {
   "cell_type": "code",
   "execution_count": 209,
   "metadata": {
    "ExecuteTime": {
     "end_time": "2024-01-04T22:28:44.659318Z",
     "start_time": "2024-01-04T22:28:44.441958Z"
    },
    "execution": {
     "iopub.execute_input": "2023-11-15T15:39:01.666890Z",
     "iopub.status.busy": "2023-11-15T15:39:01.666804Z",
     "iopub.status.idle": "2023-11-15T15:39:01.668950Z",
     "shell.execute_reply": "2023-11-15T15:39:01.668741Z",
     "shell.execute_reply.started": "2023-11-15T15:39:01.666883Z"
    }
   },
   "outputs": [
    {
     "data": {
      "text/plain": [
       "<qcfinancial.FXRateIndex at 0x108e613b0>"
      ]
     },
     "execution_count": 209,
     "metadata": {},
     "output_type": "execute_result"
    }
   ],
   "source": [
    "overnight_index_mccy_cashflow.get_fx_rate_index()"
   ]
  },
  {
   "cell_type": "code",
   "execution_count": 210,
   "metadata": {
    "ExecuteTime": {
     "end_time": "2024-01-04T22:28:46.066167Z",
     "start_time": "2024-01-04T22:28:45.735102Z"
    },
    "execution": {
     "iopub.execute_input": "2023-11-15T15:39:01.669373Z",
     "iopub.status.busy": "2023-11-15T15:39:01.669307Z",
     "iopub.status.idle": "2023-11-15T15:39:01.671366Z",
     "shell.execute_reply": "2023-11-15T15:39:01.671135Z",
     "shell.execute_reply.started": "2023-11-15T15:39:01.669367Z"
    }
   },
   "outputs": [
    {
     "data": {
      "text/plain": [
       "'OvernightIndexMultiCurrencyCashflow'"
      ]
     },
     "execution_count": 210,
     "metadata": {},
     "output_type": "execute_result"
    }
   ],
   "source": [
    "overnight_index_mccy_cashflow.get_type()"
   ]
  },
  {
   "cell_type": "code",
   "execution_count": 211,
   "metadata": {
    "ExecuteTime": {
     "end_time": "2024-01-04T22:28:47.022960Z",
     "start_time": "2024-01-04T22:28:46.815329Z"
    },
    "execution": {
     "iopub.execute_input": "2023-11-15T15:39:01.671864Z",
     "iopub.status.busy": "2023-11-15T15:39:01.671770Z",
     "iopub.status.idle": "2023-11-15T15:39:01.673618Z",
     "shell.execute_reply": "2023-11-15T15:39:01.673362Z",
     "shell.execute_reply.started": "2023-11-15T15:39:01.671856Z"
    }
   },
   "outputs": [
    {
     "data": {
      "text/plain": [
       "'USDOBS'"
      ]
     },
     "execution_count": 211,
     "metadata": {},
     "output_type": "execute_result"
    }
   ],
   "source": [
    "overnight_index_mccy_cashflow.get_fx_rate_index_code()"
   ]
  },
  {
   "cell_type": "code",
   "execution_count": 212,
   "metadata": {
    "ExecuteTime": {
     "end_time": "2024-01-04T22:28:48.224681Z",
     "start_time": "2024-01-04T22:28:47.855198Z"
    },
    "execution": {
     "iopub.execute_input": "2023-11-15T15:39:01.673975Z",
     "iopub.status.busy": "2023-11-15T15:39:01.673917Z",
     "iopub.status.idle": "2023-11-15T15:39:01.675989Z",
     "shell.execute_reply": "2023-11-15T15:39:01.675779Z",
     "shell.execute_reply.started": "2023-11-15T15:39:01.673969Z"
    }
   },
   "outputs": [
    {
     "data": {
      "text/plain": [
       "0.5"
      ]
     },
     "execution_count": 212,
     "metadata": {},
     "output_type": "execute_result"
    }
   ],
   "source": [
    "overnight_index_mccy_cashflow.get_fx_rate_index_value()"
   ]
  },
  {
   "cell_type": "markdown",
   "metadata": {},
   "source": [
    "#### Nuevos Cálculos"
   ]
  },
  {
   "cell_type": "markdown",
   "metadata": {},
   "source": [
    "Primero se fijan los valores del índice overnight."
   ]
  },
  {
   "cell_type": "code",
   "execution_count": 213,
   "metadata": {
    "ExecuteTime": {
     "end_time": "2024-01-04T22:28:52.799070Z",
     "start_time": "2024-01-04T22:28:52.402523Z"
    },
    "execution": {
     "iopub.execute_input": "2023-11-15T15:39:01.676325Z",
     "iopub.status.busy": "2023-11-15T15:39:01.676266Z",
     "iopub.status.idle": "2023-11-15T15:39:01.678593Z",
     "shell.execute_reply": "2023-11-15T15:39:01.678354Z",
     "shell.execute_reply.started": "2023-11-15T15:39:01.676318Z"
    }
   },
   "outputs": [
    {
     "data": {
      "text/plain": [
       "20000000.00000002"
      ]
     },
     "execution_count": 213,
     "metadata": {},
     "output_type": "execute_result"
    }
   ],
   "source": [
    "overnight_index_mccy_cashflow.set_start_date_index(100)\n",
    "overnight_index_mccy_cashflow.accrued_interest(fecha_final_devengo, 102)"
   ]
  },
  {
   "cell_type": "code",
   "execution_count": 214,
   "metadata": {
    "ExecuteTime": {
     "end_time": "2024-01-04T22:28:53.811406Z",
     "start_time": "2024-01-04T22:28:53.616495Z"
    },
    "execution": {
     "iopub.execute_input": "2023-11-15T15:39:01.678934Z",
     "iopub.status.busy": "2023-11-15T15:39:01.678871Z",
     "iopub.status.idle": "2023-11-15T15:39:01.680881Z",
     "shell.execute_reply": "2023-11-15T15:39:01.680680Z",
     "shell.execute_reply.started": "2023-11-15T15:39:01.678927Z"
    }
   },
   "outputs": [
    {
     "data": {
      "text/plain": [
       "-495000000.0"
      ]
     },
     "execution_count": 214,
     "metadata": {},
     "output_type": "execute_result"
    }
   ],
   "source": [
    "overnight_index_mccy_cashflow.settlement_ccy_interest()"
   ]
  },
  {
   "cell_type": "code",
   "execution_count": 215,
   "metadata": {
    "ExecuteTime": {
     "end_time": "2024-01-04T22:28:54.811130Z",
     "start_time": "2024-01-04T22:28:54.507377Z"
    },
    "execution": {
     "iopub.execute_input": "2023-11-15T15:39:01.681330Z",
     "iopub.status.busy": "2023-11-15T15:39:01.681248Z",
     "iopub.status.idle": "2023-11-15T15:39:01.683379Z",
     "shell.execute_reply": "2023-11-15T15:39:01.683126Z",
     "shell.execute_reply.started": "2023-11-15T15:39:01.681323Z"
    }
   },
   "outputs": [
    {
     "data": {
      "text/plain": [
       "50000000.0"
      ]
     },
     "execution_count": 215,
     "metadata": {},
     "output_type": "execute_result"
    }
   ],
   "source": [
    "overnight_index_mccy_cashflow.settlement_ccy_amortization()"
   ]
  },
  {
   "cell_type": "code",
   "execution_count": 216,
   "metadata": {
    "ExecuteTime": {
     "end_time": "2024-01-04T22:28:55.716916Z",
     "start_time": "2024-01-04T22:28:55.424602Z"
    },
    "execution": {
     "iopub.execute_input": "2023-11-15T15:39:01.683747Z",
     "iopub.status.busy": "2023-11-15T15:39:01.683677Z",
     "iopub.status.idle": "2023-11-15T15:39:01.686085Z",
     "shell.execute_reply": "2023-11-15T15:39:01.685862Z",
     "shell.execute_reply.started": "2023-11-15T15:39:01.683740Z"
    }
   },
   "outputs": [
    {
     "data": {
      "text/plain": [
       "-445000000.0"
      ]
     },
     "execution_count": 216,
     "metadata": {},
     "output_type": "execute_result"
    }
   ],
   "source": [
    "overnight_index_mccy_cashflow.settlement_ccy_amount()"
   ]
  },
  {
   "cell_type": "markdown",
   "metadata": {},
   "source": [
    "### Icp Clf Cashflow\n",
    "Un objeto de tipo `IcpClfCashflow` representa un flujo de caja calculado como un cupón de la pata flotante de un swap ICP (cámara promedio) en UF de Chile. Para dar de alta uno de estos objetos se requiere:\n",
    "\n",
    "- `QCDate`: fecha inicio (para la aplicación de la tasa)\n",
    "- `QCDate`: fecha final (para la aplicación de la tasa)\n",
    "- `QCDate`: fecha de pago\n",
    "- `float`: nominal (monto al que se le aplica la tasa)\n",
    "- `float`: amortización (eventual flujo de caja que corresponde a una porción del nominal)\n",
    "- `bool`: indica si la amortización anterior es un flujo de caja o sólo una disminución de nominal\n",
    "- `float`: spread aditivo a aplicar a la fijación de la TRA\n",
    "- `float`: spread multiplicativo o gearing a aplicar a la fijación de la TRA\n",
    "- `vector<float>`: objeto `double_vec` (en Python) que contiene ICP Inicio, ICP Final, UF Inicio, UF Final (se debe respetar el orden)\n",
    "\n",
    "Recordar que TRA significa **Tasa Real Anual** y se determina utilizando los valores del índice ICP y los valores de la UF en la fecha de inicio y fecha final del `IcpClfCashflow`."
   ]
  },
  {
   "cell_type": "code",
   "execution_count": 217,
   "metadata": {
    "ExecuteTime": {
     "end_time": "2024-01-04T22:28:57.500073Z",
     "start_time": "2024-01-04T22:28:57.160307Z"
    },
    "execution": {
     "iopub.execute_input": "2023-11-15T15:39:01.686551Z",
     "iopub.status.busy": "2023-11-15T15:39:01.686481Z",
     "iopub.status.idle": "2023-11-15T15:39:01.688972Z",
     "shell.execute_reply": "2023-11-15T15:39:01.688664Z",
     "shell.execute_reply.started": "2023-11-15T15:39:01.686543Z"
    }
   },
   "outputs": [],
   "source": [
    "# Ejemplo\n",
    "fecha_inicio = qcf.QCDate(20, 9, 2018)\n",
    "fecha_final = qcf.QCDate(20, 9, 2019)\n",
    "fecha_pago = qcf.QCDate(23, 9, 2019)\n",
    "nominal = 300_000.0\n",
    "amort = 100_000.0\n",
    "spread = 0.0\n",
    "gearing = 1.0\n",
    "\n",
    "icp_uf = qcf.double_vec()\n",
    "# Los primeros dos valores corresponden a icp_inicial e icp_final.\n",
    "# Los segundos dos valores corresponden a uf_inicial y uf_final\n",
    "icp_uf.append(10_000.0)\n",
    "icp_uf.append(10_250.0)\n",
    "icp_uf.append(35_000.0)\n",
    "icp_uf.append(35_500.0)\n",
    "\n",
    "icp_clf_cashflow = qcf.IcpClfCashflow(\n",
    "    fecha_inicio, \n",
    "    fecha_final, \n",
    "    fecha_pago, \n",
    "    nominal, \n",
    "    amort, \n",
    "    True, \n",
    "    spread, \n",
    "    gearing, \n",
    "    icp_uf\n",
    ")"
   ]
  },
  {
   "cell_type": "code",
   "execution_count": 218,
   "metadata": {
    "ExecuteTime": {
     "end_time": "2024-01-04T22:28:58.215703Z",
     "start_time": "2024-01-04T22:28:57.898491Z"
    },
    "execution": {
     "iopub.execute_input": "2023-11-15T15:39:01.689322Z",
     "iopub.status.busy": "2023-11-15T15:39:01.689250Z",
     "iopub.status.idle": "2023-11-15T15:39:01.691955Z",
     "shell.execute_reply": "2023-11-15T15:39:01.691733Z",
     "shell.execute_reply.started": "2023-11-15T15:39:01.689314Z"
    }
   },
   "outputs": [
    {
     "name": "stdout",
     "output_type": "stream",
     "text": [
      "Fecha Inicio: 2018-09-20\n",
      "Fecha Final: 2019-09-20\n",
      "ICP Fecha Inicio: 10,000.00\n",
      "ICP Fecha Final: 10,250.00\n",
      "UF Fecha Inicio: 35,000.00\n",
      "UF Fecha Final: 35,500.00\n",
      "Valor TRA Todo el Período: 1.0461%\n",
      "Check TRA: 1.0461%\n",
      "Nominal: 300,000\n",
      "Amortización: 100,000\n",
      "Tipo de Tasa: LinAct360\n",
      "Moneda: CLF\n"
     ]
    }
   ],
   "source": [
    "# Getters\n",
    "print(\"Fecha Inicio:\", icp_clf_cashflow.get_start_date())\n",
    "print(\"Fecha Final:\", icp_clf_cashflow.get_end_date())\n",
    "\n",
    "print(f\"ICP Fecha Inicio: {icp_clf_cashflow.get_start_date_icp():,.2f}\")\n",
    "print(f\"ICP Fecha Final: {icp_clf_cashflow.get_end_date_icp():,.2f}\")\n",
    "\n",
    "print(f\"UF Fecha Inicio: {icp_clf_cashflow.get_start_date_uf():,.2f}\")\n",
    "print(f\"UF Fecha Final: {icp_clf_cashflow.get_end_date_uf():,.2f}\")\n",
    "\n",
    "print(f\"Valor TRA Todo el Período: {icp_clf_cashflow.get_rate_value():.4%}\")\n",
    "tna = icp_clf_cashflow.get_tna(fecha_final, 10_250.0)\n",
    "dias = fecha_inicio.day_diff(fecha_final)\n",
    "tra = ((1 + tna * dias / 360.0) * 35_000.0 / 35_500.0 - 1) * 360.0 / dias\n",
    "print(f\"Check TRA: {round(tra, 6):.4%}\")\n",
    "\n",
    "print(f\"Nominal: {icp_clf_cashflow.get_nominal():,.0f}\")\n",
    "print(f\"Amortización: {icp_clf_cashflow.get_amortization():,.0f}\")\n",
    "print(\"Tipo de Tasa:\", icp_clf_cashflow.get_type_of_rate())\n",
    "print(\"Moneda:\", icp_clf_cashflow.ccy())"
   ]
  },
  {
   "cell_type": "code",
   "execution_count": 219,
   "metadata": {
    "ExecuteTime": {
     "end_time": "2024-01-04T22:28:58.965735Z",
     "start_time": "2024-01-04T22:28:58.653687Z"
    },
    "execution": {
     "iopub.execute_input": "2023-11-15T15:39:01.692477Z",
     "iopub.status.busy": "2023-11-15T15:39:01.692410Z",
     "iopub.status.idle": "2023-11-15T15:39:01.694831Z",
     "shell.execute_reply": "2023-11-15T15:39:01.694610Z",
     "shell.execute_reply.started": "2023-11-15T15:39:01.692471Z"
    }
   },
   "outputs": [
    {
     "name": "stdout",
     "output_type": "stream",
     "text": [
      "Nueva TRA: 1.046054%\n",
      "Nuevo Nominal: 100,000\n",
      "Nueva Amortización: 10,000\n",
      "Nuevo ICP Inicio: 20,000.00\n",
      "Nuevo ICP Final: 20,500.00\n",
      "Check TNA Final: 2.470000%\n"
     ]
    }
   ],
   "source": [
    "# Setters\n",
    "decimales_para_tra = 8\n",
    "icp_clf_cashflow.set_tra_decimal_places(decimales_para_tra)\n",
    "print(f\"Nueva TRA: {icp_clf_cashflow.get_rate_value():.6%}\")\n",
    "\n",
    "nuevo_nominal = 100_000.0\n",
    "icp_clf_cashflow.set_nominal(nuevo_nominal)\n",
    "print(f\"Nuevo Nominal: {icp_clf_cashflow.get_nominal():,.0f}\")\n",
    "\n",
    "nueva_amortizacion = 10_000.0\n",
    "icp_clf_cashflow.set_amortization(nueva_amortizacion)\n",
    "print(f\"Nueva Amortización: {icp_clf_cashflow.get_amortization():,.0f}\")\n",
    "\n",
    "nuevo_icp_inicio = 20_000.0\n",
    "icp_clf_cashflow.set_start_date_icp(nuevo_icp_inicio)\n",
    "print(f\"Nuevo ICP Inicio: {icp_clf_cashflow.get_start_date_icp():,.2f}\")\n",
    "\n",
    "nuevo_icp_final = 20_500.0\n",
    "icp_clf_cashflow.set_end_date_icp(nuevo_icp_final)\n",
    "print(f\"Nuevo ICP Final: {icp_clf_cashflow.get_end_date_icp():,.2f}\")\n",
    "print(f\"Check TNA Final: {icp_clf_cashflow.get_tna(fecha_final, nuevo_icp_final):.6%}\")"
   ]
  },
  {
   "cell_type": "code",
   "execution_count": 220,
   "metadata": {
    "ExecuteTime": {
     "end_time": "2024-01-04T22:28:59.790083Z",
     "start_time": "2024-01-04T22:28:59.583708Z"
    },
    "execution": {
     "iopub.execute_input": "2023-11-15T15:39:01.695359Z",
     "iopub.status.busy": "2023-11-15T15:39:01.695275Z",
     "iopub.status.idle": "2023-11-15T15:39:01.697377Z",
     "shell.execute_reply": "2023-11-15T15:39:01.697149Z",
     "shell.execute_reply.started": "2023-11-15T15:39:01.695352Z"
    }
   },
   "outputs": [
    {
     "data": {
      "text/plain": [
       "'IcpClfCashflow'"
      ]
     },
     "execution_count": 220,
     "metadata": {},
     "output_type": "execute_result"
    }
   ],
   "source": [
    "icp_clf_cashflow.get_type()"
   ]
  },
  {
   "cell_type": "code",
   "execution_count": 221,
   "metadata": {
    "ExecuteTime": {
     "end_time": "2024-01-04T22:29:00.754478Z",
     "start_time": "2024-01-04T22:29:00.380575Z"
    },
    "execution": {
     "iopub.execute_input": "2023-11-15T15:39:01.697810Z",
     "iopub.status.busy": "2023-11-15T15:39:01.697725Z",
     "iopub.status.idle": "2023-11-15T15:39:01.699960Z",
     "shell.execute_reply": "2023-11-15T15:39:01.699735Z",
     "shell.execute_reply.started": "2023-11-15T15:39:01.697803Z"
    }
   },
   "outputs": [
    {
     "data": {
      "text/plain": [
       "('2018-09-20',\n",
       " '2019-09-20',\n",
       " '2019-09-23',\n",
       " 100000.0,\n",
       " 10000.0,\n",
       " True,\n",
       " 11056.338028169024,\n",
       " 'CLF',\n",
       " 20000.0,\n",
       " 20500.0,\n",
       " 35000.0,\n",
       " 35500.0,\n",
       " 0.01046054,\n",
       " 1060.582527777787,\n",
       " 0.0,\n",
       " 1.0,\n",
       " 'LinAct360')"
      ]
     },
     "execution_count": 221,
     "metadata": {},
     "output_type": "execute_result"
    }
   ],
   "source": [
    "qcf.show(icp_clf_cashflow)"
   ]
  },
  {
   "cell_type": "markdown",
   "metadata": {},
   "source": [
    "### Compounded Overnight Rate Cashflow\n",
    "\n",
    "Un objeto de tipo `CompoundedOvernightRateCashflow` representa un flujo de caja calculado como un cupón de la pata flotante de un OIS sobre cualquier índice overnight (SOFR, FF, EONIA). Para dar de alta uno de estos objetos se requiere:\n",
    "\n",
    "- `InterestRateIndex`: el índice de tasa de interés prefijado\n",
    "- `QCDate`: fecha inicio (para la aplicación de la tasa)\n",
    "- `QCDate`: fecha final (para la aplicación de la tasa)\n",
    "- `QCDate`: fecha de pago\n",
    "- `DateList`: fechas de fixing del índice\n",
    "- `float`: nominal (monto al que se le aplica la tasa)\n",
    "- `float`: amortización (eventual flujo de caja que corresponde a una porción del nominal)\n",
    "- `bool`: indica si la amortización anterior es un flujo de caja o sólo una disminución de nominal\n",
    "- `QCCurrency`: moneda del nocional de la operación\n",
    "- `float`: spread aditivo a aplicar a la fijación de la TRA\n",
    "- `float`: spread multiplicativo o gearing a aplicar a la fijación de la TRA\n",
    "- `bool`: si `True` la tasa equivalente se calcula en convención Lin Act/360. En caso contrario es Lin 30/360\n",
    "- `unsigned int`: número de decimales a usar en el cálculo de la tasa equivalente. Por ejemplo para 0.12345678% este valor debe ser 10.\n",
    "- `unsigned int`: número de días de lookback\n",
    "- `unsigned int`: número de días de lockout\n",
    "\n",
    "El efecto de lookback y lockout aún no está implementado."
   ]
  },
  {
   "cell_type": "markdown",
   "metadata": {},
   "source": [
    "#### Constructor"
   ]
  },
  {
   "cell_type": "markdown",
   "metadata": {},
   "source": [
    "Se da de alta un índice overnight ficiticio de test."
   ]
  },
  {
   "cell_type": "code",
   "execution_count": 222,
   "metadata": {
    "ExecuteTime": {
     "end_time": "2024-01-04T22:29:04.174423Z",
     "start_time": "2024-01-04T22:29:03.938483Z"
    },
    "execution": {
     "iopub.execute_input": "2023-11-15T15:39:01.700434Z",
     "iopub.status.busy": "2023-11-15T15:39:01.700325Z",
     "iopub.status.idle": "2023-11-15T15:39:01.702415Z",
     "shell.execute_reply": "2023-11-15T15:39:01.702174Z",
     "shell.execute_reply.started": "2023-11-15T15:39:01.700424Z"
    }
   },
   "outputs": [],
   "source": [
    "codigo = \"OITEST\"\n",
    "lin_act360 = qcf.QCInterestRate(0.0, act360, lin_wf)\n",
    "fixing_lag = qcf.Tenor(\"0d\")\n",
    "tenor = qcf.Tenor(\"1d\")\n",
    "fixing_calendar = scl\n",
    "settlement_calendar = scl\n",
    "oitest = qcf.InterestRateIndex(\n",
    "    codigo, \n",
    "    lin_act360, \n",
    "    fixing_lag, \n",
    "    tenor, \n",
    "    fixing_calendar, \n",
    "    settlement_calendar, \n",
    "    usd\n",
    ")"
   ]
  },
  {
   "cell_type": "code",
   "execution_count": 223,
   "metadata": {
    "ExecuteTime": {
     "end_time": "2024-01-04T22:29:05.344713Z",
     "start_time": "2024-01-04T22:29:05.031955Z"
    },
    "execution": {
     "iopub.execute_input": "2023-11-15T15:39:01.702838Z",
     "iopub.status.busy": "2023-11-15T15:39:01.702775Z",
     "iopub.status.idle": "2023-11-15T15:39:01.704380Z",
     "shell.execute_reply": "2023-11-15T15:39:01.704173Z",
     "shell.execute_reply.started": "2023-11-15T15:39:01.702831Z"
    }
   },
   "outputs": [],
   "source": [
    "fixing_dates = qcf.DateList()"
   ]
  },
  {
   "cell_type": "code",
   "execution_count": 224,
   "metadata": {
    "ExecuteTime": {
     "end_time": "2024-01-04T22:29:06.044977Z",
     "start_time": "2024-01-04T22:29:05.692181Z"
    },
    "execution": {
     "iopub.execute_input": "2023-11-15T15:39:01.704770Z",
     "iopub.status.busy": "2023-11-15T15:39:01.704713Z",
     "iopub.status.idle": "2023-11-15T15:39:01.706659Z",
     "shell.execute_reply": "2023-11-15T15:39:01.706443Z",
     "shell.execute_reply.started": "2023-11-15T15:39:01.704764Z"
    }
   },
   "outputs": [],
   "source": [
    "fixing_dates.append(qcf.QCDate(27, 12, 2021))\n",
    "fixing_dates.append(qcf.QCDate(28, 12, 2021))\n",
    "fixing_dates.append(qcf.QCDate(29, 12, 2021))\n",
    "fixing_dates.append(qcf.QCDate(30, 12, 2021))"
   ]
  },
  {
   "cell_type": "code",
   "execution_count": 225,
   "metadata": {
    "ExecuteTime": {
     "end_time": "2024-01-04T22:29:07.311199Z",
     "start_time": "2024-01-04T22:29:06.959540Z"
    },
    "execution": {
     "iopub.execute_input": "2023-11-15T15:39:01.706989Z",
     "iopub.status.busy": "2023-11-15T15:39:01.706924Z",
     "iopub.status.idle": "2023-11-15T15:39:01.708972Z",
     "shell.execute_reply": "2023-11-15T15:39:01.708725Z",
     "shell.execute_reply.started": "2023-11-15T15:39:01.706983Z"
    }
   },
   "outputs": [],
   "source": [
    "cor_cashflow = qcf.CompoundedOvernightRateCashflow(\n",
    "    oitest,\n",
    "    qcf.QCDate(27, 12, 2021),\n",
    "    qcf.QCDate(31, 12, 2021),\n",
    "    qcf.QCDate(31, 12, 2021),\n",
    "    fixing_dates,\n",
    "    10_000_000.0,\n",
    "    100_000.0,\n",
    "    True,\n",
    "    qcf.QCCLP(),\n",
    "    spread:=0.001,\n",
    "    1.0,\n",
    "    True,\n",
    "    8,\n",
    "    0,\n",
    "    0,\n",
    ")"
   ]
  },
  {
   "cell_type": "markdown",
   "metadata": {},
   "source": [
    "#### Getters"
   ]
  },
  {
   "cell_type": "code",
   "execution_count": 226,
   "metadata": {
    "ExecuteTime": {
     "end_time": "2024-01-04T22:29:09.126304Z",
     "start_time": "2024-01-04T22:29:08.799638Z"
    },
    "execution": {
     "iopub.execute_input": "2023-11-15T15:39:01.709272Z",
     "iopub.status.busy": "2023-11-15T15:39:01.709215Z",
     "iopub.status.idle": "2023-11-15T15:39:01.711267Z",
     "shell.execute_reply": "2023-11-15T15:39:01.711030Z",
     "shell.execute_reply.started": "2023-11-15T15:39:01.709266Z"
    }
   },
   "outputs": [
    {
     "data": {
      "text/plain": [
       "'2021-12-27'"
      ]
     },
     "execution_count": 226,
     "metadata": {},
     "output_type": "execute_result"
    }
   ],
   "source": [
    "cor_cashflow.get_start_date().description(False)"
   ]
  },
  {
   "cell_type": "code",
   "execution_count": 227,
   "metadata": {
    "ExecuteTime": {
     "end_time": "2024-01-04T22:29:09.840091Z",
     "start_time": "2024-01-04T22:29:09.513333Z"
    },
    "execution": {
     "iopub.execute_input": "2023-11-15T15:39:01.711755Z",
     "iopub.status.busy": "2023-11-15T15:39:01.711665Z",
     "iopub.status.idle": "2023-11-15T15:39:01.713701Z",
     "shell.execute_reply": "2023-11-15T15:39:01.713507Z",
     "shell.execute_reply.started": "2023-11-15T15:39:01.711748Z"
    }
   },
   "outputs": [
    {
     "data": {
      "text/plain": [
       "'2021-12-31'"
      ]
     },
     "execution_count": 227,
     "metadata": {},
     "output_type": "execute_result"
    }
   ],
   "source": [
    "cor_cashflow.get_end_date().description(False)"
   ]
  },
  {
   "cell_type": "code",
   "execution_count": 228,
   "metadata": {
    "ExecuteTime": {
     "end_time": "2024-01-04T22:29:10.601089Z",
     "start_time": "2024-01-04T22:29:10.265674Z"
    },
    "execution": {
     "iopub.execute_input": "2023-11-15T15:39:01.713995Z",
     "iopub.status.busy": "2023-11-15T15:39:01.713924Z",
     "iopub.status.idle": "2023-11-15T15:39:01.716003Z",
     "shell.execute_reply": "2023-11-15T15:39:01.715794Z",
     "shell.execute_reply.started": "2023-11-15T15:39:01.713987Z"
    }
   },
   "outputs": [
    {
     "data": {
      "text/plain": [
       "'2021-12-31'"
      ]
     },
     "execution_count": 228,
     "metadata": {},
     "output_type": "execute_result"
    }
   ],
   "source": [
    "cor_cashflow.get_settlement_date().description(False)"
   ]
  },
  {
   "cell_type": "code",
   "execution_count": 229,
   "metadata": {
    "ExecuteTime": {
     "end_time": "2024-01-04T22:29:11.341178Z",
     "start_time": "2024-01-04T22:29:10.951911Z"
    },
    "execution": {
     "iopub.execute_input": "2023-11-15T15:39:01.716521Z",
     "iopub.status.busy": "2023-11-15T15:39:01.716413Z",
     "iopub.status.idle": "2023-11-15T15:39:01.718305Z",
     "shell.execute_reply": "2023-11-15T15:39:01.717932Z",
     "shell.execute_reply.started": "2023-11-15T15:39:01.716514Z"
    }
   },
   "outputs": [
    {
     "name": "stdout",
     "output_type": "stream",
     "text": [
      "2021-12-27\n",
      "2021-12-28\n",
      "2021-12-29\n",
      "2021-12-30\n"
     ]
    }
   ],
   "source": [
    "for d in cor_cashflow.get_fixing_dates():\n",
    "    print(d)"
   ]
  },
  {
   "cell_type": "code",
   "execution_count": 230,
   "metadata": {
    "ExecuteTime": {
     "end_time": "2024-01-04T22:29:12.116831Z",
     "start_time": "2024-01-04T22:29:11.951443Z"
    },
    "execution": {
     "iopub.execute_input": "2023-11-15T15:39:01.718682Z",
     "iopub.status.busy": "2023-11-15T15:39:01.718591Z",
     "iopub.status.idle": "2023-11-15T15:39:01.720487Z",
     "shell.execute_reply": "2023-11-15T15:39:01.720189Z",
     "shell.execute_reply.started": "2023-11-15T15:39:01.718672Z"
    }
   },
   "outputs": [
    {
     "name": "stdout",
     "output_type": "stream",
     "text": [
      "Nominal: 10,000,000\n"
     ]
    }
   ],
   "source": [
    "print(f\"Nominal: {cor_cashflow.get_nominal():,.0f}\")"
   ]
  },
  {
   "cell_type": "code",
   "execution_count": 231,
   "metadata": {
    "ExecuteTime": {
     "end_time": "2024-01-04T22:29:12.802089Z",
     "start_time": "2024-01-04T22:29:12.562904Z"
    },
    "execution": {
     "iopub.execute_input": "2023-11-15T15:39:01.720891Z",
     "iopub.status.busy": "2023-11-15T15:39:01.720777Z",
     "iopub.status.idle": "2023-11-15T15:39:01.722660Z",
     "shell.execute_reply": "2023-11-15T15:39:01.722437Z",
     "shell.execute_reply.started": "2023-11-15T15:39:01.720884Z"
    }
   },
   "outputs": [
    {
     "name": "stdout",
     "output_type": "stream",
     "text": [
      "Amortization: 100,000\n"
     ]
    }
   ],
   "source": [
    "print(f\"Amortization: {cor_cashflow.get_amortization():,.0f}\")"
   ]
  },
  {
   "cell_type": "code",
   "execution_count": 232,
   "metadata": {
    "ExecuteTime": {
     "end_time": "2024-01-04T22:29:13.538410Z",
     "start_time": "2024-01-04T22:29:13.276843Z"
    },
    "execution": {
     "iopub.execute_input": "2023-11-15T15:39:01.723013Z",
     "iopub.status.busy": "2023-11-15T15:39:01.722948Z",
     "iopub.status.idle": "2023-11-15T15:39:01.725103Z",
     "shell.execute_reply": "2023-11-15T15:39:01.724831Z",
     "shell.execute_reply.started": "2023-11-15T15:39:01.723006Z"
    }
   },
   "outputs": [
    {
     "data": {
      "text/plain": [
       "'CLP'"
      ]
     },
     "execution_count": 232,
     "metadata": {},
     "output_type": "execute_result"
    }
   ],
   "source": [
    "cor_cashflow.get_initial_currency().get_iso_code()"
   ]
  },
  {
   "cell_type": "code",
   "execution_count": 233,
   "metadata": {
    "ExecuteTime": {
     "end_time": "2024-01-04T22:29:14.326736Z",
     "start_time": "2024-01-04T22:29:14.098520Z"
    },
    "execution": {
     "iopub.execute_input": "2023-11-15T15:39:01.725515Z",
     "iopub.status.busy": "2023-11-15T15:39:01.725425Z",
     "iopub.status.idle": "2023-11-15T15:39:01.727339Z",
     "shell.execute_reply": "2023-11-15T15:39:01.727075Z",
     "shell.execute_reply.started": "2023-11-15T15:39:01.725505Z"
    }
   },
   "outputs": [
    {
     "name": "stdout",
     "output_type": "stream",
     "text": [
      "Spread: 0.10%\n"
     ]
    }
   ],
   "source": [
    "print(f\"Spread: {cor_cashflow.get_spread():.2%}\")"
   ]
  },
  {
   "cell_type": "code",
   "execution_count": 234,
   "metadata": {
    "ExecuteTime": {
     "end_time": "2024-01-04T22:29:15.238821Z",
     "start_time": "2024-01-04T22:29:14.930630Z"
    },
    "execution": {
     "iopub.execute_input": "2023-11-15T15:39:01.727683Z",
     "iopub.status.busy": "2023-11-15T15:39:01.727626Z",
     "iopub.status.idle": "2023-11-15T15:39:01.729754Z",
     "shell.execute_reply": "2023-11-15T15:39:01.729497Z",
     "shell.execute_reply.started": "2023-11-15T15:39:01.727677Z"
    }
   },
   "outputs": [
    {
     "data": {
      "text/plain": [
       "1.0"
      ]
     },
     "execution_count": 234,
     "metadata": {},
     "output_type": "execute_result"
    }
   ],
   "source": [
    "cor_cashflow.get_gearing()"
   ]
  },
  {
   "cell_type": "code",
   "execution_count": 235,
   "metadata": {
    "ExecuteTime": {
     "end_time": "2024-01-04T22:29:15.963540Z",
     "start_time": "2024-01-04T22:29:15.620807Z"
    },
    "execution": {
     "iopub.execute_input": "2023-11-15T15:39:01.730377Z",
     "iopub.status.busy": "2023-11-15T15:39:01.730217Z",
     "iopub.status.idle": "2023-11-15T15:39:01.732232Z",
     "shell.execute_reply": "2023-11-15T15:39:01.731911Z",
     "shell.execute_reply.started": "2023-11-15T15:39:01.730366Z"
    }
   },
   "outputs": [
    {
     "data": {
      "text/plain": [
       "'CompoundedOvernightRateCashflow'"
      ]
     },
     "execution_count": 235,
     "metadata": {},
     "output_type": "execute_result"
    }
   ],
   "source": [
    "cor_cashflow.get_type()"
   ]
  },
  {
   "cell_type": "code",
   "execution_count": 236,
   "metadata": {
    "ExecuteTime": {
     "end_time": "2024-01-04T22:29:16.882913Z",
     "start_time": "2024-01-04T22:29:16.654245Z"
    },
    "execution": {
     "iopub.execute_input": "2023-11-15T15:39:01.732581Z",
     "iopub.status.busy": "2023-11-15T15:39:01.732502Z",
     "iopub.status.idle": "2023-11-15T15:39:01.734613Z",
     "shell.execute_reply": "2023-11-15T15:39:01.734393Z",
     "shell.execute_reply.started": "2023-11-15T15:39:01.732572Z"
    }
   },
   "outputs": [
    {
     "data": {
      "text/plain": [
       "8"
      ]
     },
     "execution_count": 236,
     "metadata": {},
     "output_type": "execute_result"
    }
   ],
   "source": [
    "cor_cashflow.get_eq_rate_decimal_places()"
   ]
  },
  {
   "cell_type": "code",
   "execution_count": 237,
   "metadata": {
    "ExecuteTime": {
     "end_time": "2024-01-04T22:29:17.597466Z",
     "start_time": "2024-01-04T22:29:17.383157Z"
    },
    "execution": {
     "iopub.execute_input": "2023-11-15T15:39:01.734919Z",
     "iopub.status.busy": "2023-11-15T15:39:01.734855Z",
     "iopub.status.idle": "2023-11-15T15:39:01.736519Z",
     "shell.execute_reply": "2023-11-15T15:39:01.736306Z",
     "shell.execute_reply.started": "2023-11-15T15:39:01.734912Z"
    }
   },
   "outputs": [],
   "source": [
    "derivs = cor_cashflow.get_amount_derivatives()"
   ]
  },
  {
   "cell_type": "code",
   "execution_count": 238,
   "metadata": {
    "ExecuteTime": {
     "end_time": "2024-01-04T22:29:18.296119Z",
     "start_time": "2024-01-04T22:29:18.074948Z"
    },
    "execution": {
     "iopub.execute_input": "2023-11-15T15:39:01.736880Z",
     "iopub.status.busy": "2023-11-15T15:39:01.736824Z",
     "iopub.status.idle": "2023-11-15T15:39:01.738903Z",
     "shell.execute_reply": "2023-11-15T15:39:01.738663Z",
     "shell.execute_reply.started": "2023-11-15T15:39:01.736873Z"
    }
   },
   "outputs": [
    {
     "data": {
      "text/plain": [
       "2"
      ]
     },
     "execution_count": 238,
     "metadata": {},
     "output_type": "execute_result"
    }
   ],
   "source": [
    "len(derivs)"
   ]
  },
  {
   "cell_type": "code",
   "execution_count": 239,
   "metadata": {
    "ExecuteTime": {
     "end_time": "2024-01-04T22:29:19.246984Z",
     "start_time": "2024-01-04T22:29:18.901554Z"
    },
    "execution": {
     "iopub.execute_input": "2023-11-15T15:39:01.739307Z",
     "iopub.status.busy": "2023-11-15T15:39:01.739245Z",
     "iopub.status.idle": "2023-11-15T15:39:01.741255Z",
     "shell.execute_reply": "2023-11-15T15:39:01.740974Z",
     "shell.execute_reply.started": "2023-11-15T15:39:01.739301Z"
    }
   },
   "outputs": [
    {
     "name": "stdout",
     "output_type": "stream",
     "text": [
      "0.0\n",
      "0.0\n"
     ]
    }
   ],
   "source": [
    "for der in derivs:\n",
    "    print(der)"
   ]
  },
  {
   "cell_type": "markdown",
   "metadata": {},
   "source": [
    "#### Setters"
   ]
  },
  {
   "cell_type": "code",
   "execution_count": 240,
   "metadata": {
    "ExecuteTime": {
     "end_time": "2024-01-04T22:29:20.628682Z",
     "start_time": "2024-01-04T22:29:20.316841Z"
    },
    "execution": {
     "iopub.execute_input": "2023-11-15T15:39:01.741675Z",
     "iopub.status.busy": "2023-11-15T15:39:01.741579Z",
     "iopub.status.idle": "2023-11-15T15:39:01.743414Z",
     "shell.execute_reply": "2023-11-15T15:39:01.743186Z",
     "shell.execute_reply.started": "2023-11-15T15:39:01.741666Z"
    }
   },
   "outputs": [
    {
     "name": "stdout",
     "output_type": "stream",
     "text": [
      "Nominal: 1,000\n"
     ]
    }
   ],
   "source": [
    "cor_cashflow.set_nominal(1_000)\n",
    "print(f\"Nominal: {cor_cashflow.get_nominal():,.0f}\")"
   ]
  },
  {
   "cell_type": "code",
   "execution_count": 241,
   "metadata": {
    "ExecuteTime": {
     "end_time": "2024-01-04T22:29:21.546030Z",
     "start_time": "2024-01-04T22:29:21.277643Z"
    },
    "execution": {
     "iopub.execute_input": "2023-11-15T15:39:01.743856Z",
     "iopub.status.busy": "2023-11-15T15:39:01.743795Z",
     "iopub.status.idle": "2023-11-15T15:39:01.745835Z",
     "shell.execute_reply": "2023-11-15T15:39:01.745527Z",
     "shell.execute_reply.started": "2023-11-15T15:39:01.743849Z"
    }
   },
   "outputs": [
    {
     "data": {
      "text/plain": [
       "0.0"
      ]
     },
     "execution_count": 241,
     "metadata": {},
     "output_type": "execute_result"
    }
   ],
   "source": [
    "cor_cashflow.set_amortization(0)\n",
    "cor_cashflow.get_amortization()"
   ]
  },
  {
   "cell_type": "markdown",
   "metadata": {},
   "source": [
    "Se reversa el ejemplo."
   ]
  },
  {
   "cell_type": "code",
   "execution_count": 242,
   "metadata": {
    "ExecuteTime": {
     "end_time": "2024-01-04T22:29:23.067189Z",
     "start_time": "2024-01-04T22:29:22.841389Z"
    },
    "execution": {
     "iopub.execute_input": "2023-11-15T15:39:01.746260Z",
     "iopub.status.busy": "2023-11-15T15:39:01.746097Z",
     "iopub.status.idle": "2023-11-15T15:39:01.747774Z",
     "shell.execute_reply": "2023-11-15T15:39:01.747550Z",
     "shell.execute_reply.started": "2023-11-15T15:39:01.746253Z"
    }
   },
   "outputs": [],
   "source": [
    "cor_cashflow.set_nominal(10_000_000.0)\n",
    "cor_cashflow.set_amortization(100_000.0)"
   ]
  },
  {
   "cell_type": "markdown",
   "metadata": {},
   "source": [
    "#### Accrued Fixing"
   ]
  },
  {
   "cell_type": "markdown",
   "metadata": {},
   "source": [
    "Para el cálculo de `accrued_fixing` se requiere un objeto de tipo `TimeSeries` que contenga los datos históricos del índice overnight."
   ]
  },
  {
   "cell_type": "code",
   "execution_count": 243,
   "metadata": {
    "ExecuteTime": {
     "end_time": "2024-01-04T22:29:25.484562Z",
     "start_time": "2024-01-04T22:29:25.140094Z"
    },
    "execution": {
     "iopub.execute_input": "2023-11-15T15:39:01.748092Z",
     "iopub.status.busy": "2023-11-15T15:39:01.748039Z",
     "iopub.status.idle": "2023-11-15T15:39:01.839454Z",
     "shell.execute_reply": "2023-11-15T15:39:01.838954Z",
     "shell.execute_reply.started": "2023-11-15T15:39:01.748086Z"
    }
   },
   "outputs": [
    {
     "ename": "ValueError",
     "evalue": "A TimeSeries object with overnight rate values is needed.",
     "output_type": "error",
     "traceback": [
      "\u001b[0;31m---------------------------------------------------------------------------\u001b[0m",
      "\u001b[0;31mValueError\u001b[0m                                Traceback (most recent call last)",
      "Cell \u001b[0;32mIn[243], line 1\u001b[0m\n\u001b[0;32m----> 1\u001b[0m \u001b[43mcor_cashflow\u001b[49m\u001b[38;5;241;43m.\u001b[39;49m\u001b[43maccrued_fixing\u001b[49m\u001b[43m(\u001b[49m\u001b[43mqcf\u001b[49m\u001b[38;5;241;43m.\u001b[39;49m\u001b[43mQCDate\u001b[49m\u001b[43m(\u001b[49m\u001b[38;5;241;43m29\u001b[39;49m\u001b[43m,\u001b[49m\u001b[43m \u001b[49m\u001b[38;5;241;43m12\u001b[39;49m\u001b[43m,\u001b[49m\u001b[43m \u001b[49m\u001b[38;5;241;43m2021\u001b[39;49m\u001b[43m)\u001b[49m\u001b[43m)\u001b[49m\n",
      "\u001b[0;31mValueError\u001b[0m: A TimeSeries object with overnight rate values is needed."
     ]
    }
   ],
   "source": [
    "cor_cashflow.accrued_fixing(qcf.QCDate(29, 12, 2021))"
   ]
  },
  {
   "cell_type": "code",
   "execution_count": 244,
   "metadata": {
    "ExecuteTime": {
     "end_time": "2024-01-04T22:29:30.931319Z",
     "start_time": "2024-01-04T22:29:30.540216Z"
    },
    "execution": {
     "iopub.status.busy": "2023-11-15T15:39:01.839715Z",
     "iopub.status.idle": "2023-11-15T15:39:01.839819Z",
     "shell.execute_reply": "2023-11-15T15:39:01.839762Z",
     "shell.execute_reply.started": "2023-11-15T15:39:01.839757Z"
    }
   },
   "outputs": [],
   "source": [
    "ts = qcf.time_series()"
   ]
  },
  {
   "cell_type": "code",
   "execution_count": 245,
   "metadata": {
    "ExecuteTime": {
     "end_time": "2024-01-04T22:29:31.661191Z",
     "start_time": "2024-01-04T22:29:31.419233Z"
    },
    "execution": {
     "iopub.status.busy": "2023-11-15T15:39:01.840326Z",
     "iopub.status.idle": "2023-11-15T15:39:01.840434Z",
     "shell.execute_reply": "2023-11-15T15:39:01.840378Z",
     "shell.execute_reply.started": "2023-11-15T15:39:01.840374Z"
    }
   },
   "outputs": [],
   "source": [
    "ts[qcf.QCDate(27, 12, 2021)] = 0.01\n",
    "ts[qcf.QCDate(28, 12, 2021)] = 0.02\n",
    "ts[qcf.QCDate(29, 12, 2021)] = 0.03\n",
    "ts[qcf.QCDate(30, 12, 2021)] = 0.04"
   ]
  },
  {
   "cell_type": "code",
   "execution_count": 246,
   "metadata": {
    "ExecuteTime": {
     "end_time": "2024-01-04T22:29:32.897315Z",
     "start_time": "2024-01-04T22:29:32.544088Z"
    },
    "execution": {
     "iopub.status.busy": "2023-11-15T15:39:01.840938Z",
     "iopub.status.idle": "2023-11-15T15:39:01.841077Z",
     "shell.execute_reply": "2023-11-15T15:39:01.841007Z",
     "shell.execute_reply.started": "2023-11-15T15:39:01.841003Z"
    }
   },
   "outputs": [
    {
     "name": "stdout",
     "output_type": "stream",
     "text": [
      "Accrued fixing: 1.500028%\n"
     ]
    }
   ],
   "source": [
    "print(f\"Accrued fixing: {cor_cashflow.accrued_fixing(qcf.QCDate(29, 12, 2021), ts):.6%}\")"
   ]
  },
  {
   "cell_type": "code",
   "execution_count": 247,
   "metadata": {
    "ExecuteTime": {
     "end_time": "2024-01-04T22:29:34.201474Z",
     "start_time": "2024-01-04T22:29:33.914619Z"
    },
    "execution": {
     "iopub.status.busy": "2023-11-15T15:39:01.841469Z",
     "iopub.status.idle": "2023-11-15T15:39:01.841577Z",
     "shell.execute_reply": "2023-11-15T15:39:01.841520Z",
     "shell.execute_reply.started": "2023-11-15T15:39:01.841516Z"
    }
   },
   "outputs": [
    {
     "name": "stdout",
     "output_type": "stream",
     "text": [
      "Check: 1.500028%\n"
     ]
    }
   ],
   "source": [
    "check = ((1 + 0.01 / 360) * (1 + 0.02 / 360.0) - 1) * 360 / 2.0\n",
    "print(f\"Check: {check:.6%}\")"
   ]
  },
  {
   "cell_type": "markdown",
   "metadata": {},
   "source": [
    "#### Accrued Interest"
   ]
  },
  {
   "cell_type": "markdown",
   "metadata": {},
   "source": [
    "Para el cálculo de `accrued_interest` se requiere un objeto de tipo `TimeSeries` que contenga los datos históricos del índice overnight."
   ]
  },
  {
   "cell_type": "code",
   "execution_count": 248,
   "metadata": {
    "ExecuteTime": {
     "end_time": "2024-01-04T22:29:37.132309Z",
     "start_time": "2024-01-04T22:29:36.878017Z"
    },
    "execution": {
     "iopub.status.busy": "2023-11-15T15:39:01.842079Z",
     "iopub.status.idle": "2023-11-15T15:39:01.842204Z",
     "shell.execute_reply": "2023-11-15T15:39:01.842127Z",
     "shell.execute_reply.started": "2023-11-15T15:39:01.842122Z"
    }
   },
   "outputs": [
    {
     "ename": "ValueError",
     "evalue": "A TimeSeries object with overnight rate values is needed.",
     "output_type": "error",
     "traceback": [
      "\u001b[0;31m---------------------------------------------------------------------------\u001b[0m",
      "\u001b[0;31mValueError\u001b[0m                                Traceback (most recent call last)",
      "Cell \u001b[0;32mIn[248], line 1\u001b[0m\n\u001b[0;32m----> 1\u001b[0m \u001b[43mcor_cashflow\u001b[49m\u001b[38;5;241;43m.\u001b[39;49m\u001b[43maccrued_interest\u001b[49m\u001b[43m(\u001b[49m\u001b[43mqcf\u001b[49m\u001b[38;5;241;43m.\u001b[39;49m\u001b[43mQCDate\u001b[49m\u001b[43m(\u001b[49m\u001b[38;5;241;43m29\u001b[39;49m\u001b[43m,\u001b[49m\u001b[43m \u001b[49m\u001b[38;5;241;43m12\u001b[39;49m\u001b[43m,\u001b[49m\u001b[43m \u001b[49m\u001b[38;5;241;43m2021\u001b[39;49m\u001b[43m)\u001b[49m\u001b[43m)\u001b[49m\n",
      "\u001b[0;31mValueError\u001b[0m: A TimeSeries object with overnight rate values is needed."
     ]
    }
   ],
   "source": [
    "cor_cashflow.accrued_interest(qcf.QCDate(29, 12, 2021))"
   ]
  },
  {
   "cell_type": "code",
   "execution_count": 249,
   "metadata": {
    "ExecuteTime": {
     "end_time": "2024-01-04T22:29:38.412157Z",
     "start_time": "2024-01-04T22:29:38.165297Z"
    },
    "execution": {
     "iopub.status.busy": "2023-11-15T15:39:01.842698Z",
     "iopub.status.idle": "2023-11-15T15:39:01.842808Z",
     "shell.execute_reply": "2023-11-15T15:39:01.842740Z",
     "shell.execute_reply.started": "2023-11-15T15:39:01.842737Z"
    }
   },
   "outputs": [
    {
     "name": "stdout",
     "output_type": "stream",
     "text": [
      "Accrued interest: 888.90\n"
     ]
    }
   ],
   "source": [
    "print(f\"Accrued interest: {cor_cashflow.accrued_interest(qcf.QCDate(29, 12, 2021), ts):,.2f}\")"
   ]
  },
  {
   "cell_type": "code",
   "execution_count": 250,
   "metadata": {
    "ExecuteTime": {
     "end_time": "2024-01-04T22:29:41.190239Z",
     "start_time": "2024-01-04T22:29:40.961652Z"
    },
    "execution": {
     "iopub.status.busy": "2023-11-15T15:39:01.843220Z",
     "iopub.status.idle": "2023-11-15T15:39:01.843337Z",
     "shell.execute_reply": "2023-11-15T15:39:01.843262Z",
     "shell.execute_reply.started": "2023-11-15T15:39:01.843258Z"
    }
   },
   "outputs": [
    {
     "name": "stdout",
     "output_type": "stream",
     "text": [
      "Check: 888.90\n"
     ]
    }
   ],
   "source": [
    "check = (\n",
    "    cor_cashflow.get_nominal()\n",
    "    * (cor_cashflow.accrued_fixing(qcf.QCDate(29, 12, 2021), ts) + spread)\n",
    "    * 2\n",
    "    / 360.0\n",
    ")\n",
    "print(f\"Check: {check:,.2f}\")"
   ]
  },
  {
   "cell_type": "code",
   "execution_count": 251,
   "metadata": {
    "ExecuteTime": {
     "end_time": "2024-01-04T22:29:43.148210Z",
     "start_time": "2024-01-04T22:29:42.747682Z"
    },
    "execution": {
     "iopub.status.busy": "2023-11-15T15:39:01.843734Z",
     "iopub.status.idle": "2023-11-15T15:39:01.843829Z",
     "shell.execute_reply": "2023-11-15T15:39:01.843782Z",
     "shell.execute_reply.started": "2023-11-15T15:39:01.843778Z"
    }
   },
   "outputs": [
    {
     "name": "stdout",
     "output_type": "stream",
     "text": [
      "Amount: 100,111.11\n"
     ]
    }
   ],
   "source": [
    "print(f\"Amount: {cor_cashflow.amount():,.2f}\")"
   ]
  },
  {
   "cell_type": "code",
   "execution_count": 252,
   "metadata": {
    "ExecuteTime": {
     "end_time": "2024-01-04T22:29:44.359546Z",
     "start_time": "2024-01-04T22:29:44.031307Z"
    },
    "execution": {
     "iopub.status.busy": "2023-11-15T15:39:01.844202Z",
     "iopub.status.idle": "2023-11-15T15:39:01.844362Z",
     "shell.execute_reply": "2023-11-15T15:39:01.844296Z",
     "shell.execute_reply.started": "2023-11-15T15:39:01.844292Z"
    }
   },
   "outputs": [
    {
     "data": {
      "text/plain": [
       "'2021-12-31'"
      ]
     },
     "execution_count": 252,
     "metadata": {},
     "output_type": "execute_result"
    }
   ],
   "source": [
    "cor_cashflow.date().description(False)"
   ]
  },
  {
   "cell_type": "code",
   "execution_count": 254,
   "metadata": {
    "ExecuteTime": {
     "end_time": "2024-01-04T22:30:23.243002Z",
     "start_time": "2024-01-04T22:30:23.014969Z"
    },
    "execution": {
     "iopub.status.busy": "2023-11-15T15:39:01.845344Z",
     "iopub.status.idle": "2023-11-15T15:39:01.845469Z",
     "shell.execute_reply": "2023-11-15T15:39:01.845397Z",
     "shell.execute_reply.started": "2023-11-15T15:39:01.845393Z"
    }
   },
   "outputs": [
    {
     "name": "stdout",
     "output_type": "stream",
     "text": [
      "Interest: 111.11\n"
     ]
    }
   ],
   "source": [
    "print(f\"Interest: {cor_cashflow.interest():,.2f}\")"
   ]
  },
  {
   "cell_type": "code",
   "execution_count": 255,
   "metadata": {
    "ExecuteTime": {
     "end_time": "2024-01-04T22:30:24.379430Z",
     "start_time": "2024-01-04T22:30:24.054249Z"
    },
    "execution": {
     "iopub.status.busy": "2023-11-15T15:39:01.845927Z",
     "iopub.status.idle": "2023-11-15T15:39:01.846032Z",
     "shell.execute_reply": "2023-11-15T15:39:01.845966Z",
     "shell.execute_reply.started": "2023-11-15T15:39:01.845963Z"
    }
   },
   "outputs": [
    {
     "data": {
      "text/plain": [
       "False"
      ]
     },
     "execution_count": 255,
     "metadata": {},
     "output_type": "execute_result"
    }
   ],
   "source": [
    "cor_cashflow.is_expired(qcf.QCDate(29, 12, 2021))"
   ]
  },
  {
   "cell_type": "code",
   "execution_count": 256,
   "metadata": {
    "ExecuteTime": {
     "end_time": "2024-01-04T22:30:25.743536Z",
     "start_time": "2024-01-04T22:30:25.348759Z"
    },
    "execution": {
     "iopub.status.busy": "2023-11-15T15:39:01.846513Z",
     "iopub.status.idle": "2023-11-15T15:39:01.846618Z",
     "shell.execute_reply": "2023-11-15T15:39:01.846560Z",
     "shell.execute_reply.started": "2023-11-15T15:39:01.846556Z"
    }
   },
   "outputs": [
    {
     "data": {
      "text/plain": [
       "True"
      ]
     },
     "execution_count": 256,
     "metadata": {},
     "output_type": "execute_result"
    }
   ],
   "source": [
    "cor_cashflow.is_expired(qcf.QCDate(31, 12, 2021))"
   ]
  },
  {
   "cell_type": "code",
   "execution_count": 257,
   "metadata": {
    "ExecuteTime": {
     "end_time": "2024-01-04T22:30:26.648689Z",
     "start_time": "2024-01-04T22:30:26.441488Z"
    },
    "execution": {
     "iopub.status.busy": "2023-11-15T15:39:01.847037Z",
     "iopub.status.idle": "2023-11-15T15:39:01.847133Z",
     "shell.execute_reply": "2023-11-15T15:39:01.847077Z",
     "shell.execute_reply.started": "2023-11-15T15:39:01.847074Z"
    }
   },
   "outputs": [
    {
     "data": {
      "text/plain": [
       "True"
      ]
     },
     "execution_count": 257,
     "metadata": {},
     "output_type": "execute_result"
    }
   ],
   "source": [
    "cor_cashflow.is_expired(qcf.QCDate(1, 1, 2022))"
   ]
  },
  {
   "cell_type": "code",
   "execution_count": 258,
   "metadata": {
    "ExecuteTime": {
     "end_time": "2024-01-04T22:30:27.735037Z",
     "start_time": "2024-01-04T22:30:27.421036Z"
    },
    "execution": {
     "iopub.status.busy": "2023-11-15T15:39:01.847597Z",
     "iopub.status.idle": "2023-11-15T15:39:01.847749Z",
     "shell.execute_reply": "2023-11-15T15:39:01.847663Z",
     "shell.execute_reply.started": "2023-11-15T15:39:01.847658Z"
    }
   },
   "outputs": [
    {
     "data": {
      "text/plain": [
       "'CompoundedOvernightRateCashflow'"
      ]
     },
     "execution_count": 258,
     "metadata": {},
     "output_type": "execute_result"
    }
   ],
   "source": [
    "cor_cashflow.get_type()"
   ]
  },
  {
   "cell_type": "code",
   "execution_count": 259,
   "metadata": {
    "ExecuteTime": {
     "end_time": "2024-01-04T22:30:29.020947Z",
     "start_time": "2024-01-04T22:30:28.676540Z"
    },
    "execution": {
     "iopub.status.busy": "2023-11-15T15:39:01.848218Z",
     "iopub.status.idle": "2023-11-15T15:39:01.848317Z",
     "shell.execute_reply": "2023-11-15T15:39:01.848263Z",
     "shell.execute_reply.started": "2023-11-15T15:39:01.848259Z"
    }
   },
   "outputs": [
    {
     "data": {
      "text/plain": [
       "('2021-12-27',\n",
       " '2021-12-31',\n",
       " '2021-12-31',\n",
       " 10000000.0,\n",
       " 100000.0,\n",
       " 888.9044444448934,\n",
       " True,\n",
       " 100111.11111111184,\n",
       " 'CLP',\n",
       " 'OITEST',\n",
       " 0.0,\n",
       " 0.001,\n",
       " 1.0,\n",
       " 'LinAct360')"
      ]
     },
     "execution_count": 259,
     "metadata": {},
     "output_type": "execute_result"
    }
   ],
   "source": [
    "qcf.show(cor_cashflow)"
   ]
  }
 ],
 "metadata": {
  "hide_input": false,
  "kernelspec": {
   "display_name": "Python 3 (ipykernel)",
   "language": "python",
   "name": "python3"
  },
  "language_info": {
   "codemirror_mode": {
    "name": "ipython",
    "version": 3
   },
   "file_extension": ".py",
   "mimetype": "text/x-python",
   "name": "python",
   "nbconvert_exporter": "python",
   "pygments_lexer": "ipython3",
   "version": "3.11.5"
  },
  "toc": {
   "base_numbering": 1,
   "nav_menu": {},
   "number_sections": true,
   "sideBar": true,
   "skip_h1_title": true,
   "title_cell": "Table of Contents",
   "title_sidebar": "Contenido",
   "toc_cell": false,
   "toc_position": {
    "height": "675.455px",
    "left": "284px",
    "top": "282.284px",
    "width": "235px"
   },
   "toc_section_display": true,
   "toc_window_display": true
  },
  "varInspector": {
   "cols": {
    "lenName": 16,
    "lenType": 16,
    "lenVar": 40
   },
   "kernels_config": {
    "python": {
     "delete_cmd_postfix": "",
     "delete_cmd_prefix": "del ",
     "library": "var_list.py",
     "varRefreshCmd": "print(var_dic_list())"
    },
    "r": {
     "delete_cmd_postfix": ") ",
     "delete_cmd_prefix": "rm(",
     "library": "var_list.r",
     "varRefreshCmd": "cat(var_dic_list()) "
    }
   },
   "types_to_exclude": [
    "module",
    "function",
    "builtin_function_or_method",
    "instance",
    "_Feature"
   ],
   "window_display": false
  }
 },
 "nbformat": 4,
 "nbformat_minor": 4
}
