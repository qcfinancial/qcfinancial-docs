{
 "cells": [
  {
   "cell_type": "markdown",
   "metadata": {},
   "source": [
    "# Objetos Fundamentales"
   ]
  },
  {
   "cell_type": "markdown",
   "metadata": {},
   "source": [
    "Para ejecutar todos los ejemplos se debe importar la librería. Se sugiere utilizar siempre el alias `qcf`. "
   ]
  },
  {
   "cell_type": "code",
   "execution_count": 1,
   "metadata": {
    "ExecuteTime": {
     "end_time": "2022-01-21T13:43:01.933321Z",
     "start_time": "2022-01-21T13:43:01.913344Z"
    },
    "execution": {
     "iopub.execute_input": "2024-01-04T22:43:14.515156Z",
     "iopub.status.busy": "2024-01-04T22:43:14.514791Z",
     "iopub.status.idle": "2024-01-04T22:43:15.133027Z",
     "shell.execute_reply": "2024-01-04T22:43:15.132165Z",
     "shell.execute_reply.started": "2024-01-04T22:43:14.515122Z"
    }
   },
   "outputs": [],
   "source": [
    "import qcfinancial as qcf\n",
    "import pandas as pd"
   ]
  },
  {
   "cell_type": "markdown",
   "metadata": {},
   "source": [
    "## Monedas"
   ]
  },
  {
   "cell_type": "markdown",
   "metadata": {},
   "source": [
    "Objetos para representar una divisa. En estos momentos sólo las siguientes divisas están implementadas:\n",
    "\n",
    "- BRL\n",
    "- CAD\n",
    "- CLF (esta es una representación del índice de inflación chileno UF como divisa)\n",
    "- CLP\n",
    "- EUR\n",
    "- GBP\n",
    "- JPY\n",
    "- MXN\n",
    "- USD\n",
    "\n",
    "Si se requiere otra, solicitarlo ingresando un *issue* en el [git repo](https://github.com/adiaz-efaa/derivative-valuation-engine) del proyecto."
   ]
  },
  {
   "cell_type": "markdown",
   "metadata": {},
   "source": [
    "El constructor por default retorna USD."
   ]
  },
  {
   "cell_type": "code",
   "execution_count": 2,
   "metadata": {
    "ExecuteTime": {
     "end_time": "2022-01-21T13:43:01.949248Z",
     "start_time": "2022-01-21T13:43:01.935286Z"
    },
    "execution": {
     "iopub.execute_input": "2024-01-04T22:43:15.135194Z",
     "iopub.status.busy": "2024-01-04T22:43:15.134771Z",
     "iopub.status.idle": "2024-01-04T22:43:15.144479Z",
     "shell.execute_reply": "2024-01-04T22:43:15.143516Z",
     "shell.execute_reply.started": "2024-01-04T22:43:15.135163Z"
    }
   },
   "outputs": [
    {
     "data": {
      "text/plain": [
       "'USD'"
      ]
     },
     "execution_count": 2,
     "metadata": {},
     "output_type": "execute_result"
    }
   ],
   "source": [
    "x = qcf.QCCurrency()\n",
    "x.get_iso_code()"
   ]
  },
  {
   "cell_type": "markdown",
   "metadata": {},
   "source": [
    "Alta de divisas CLP, USD y JPY (USD se puede instanciar también de forma explícita)."
   ]
  },
  {
   "cell_type": "code",
   "execution_count": 3,
   "metadata": {
    "ExecuteTime": {
     "end_time": "2022-01-21T13:43:01.965206Z",
     "start_time": "2022-01-21T13:43:01.950246Z"
    },
    "execution": {
     "iopub.execute_input": "2024-01-04T22:43:15.145781Z",
     "iopub.status.busy": "2024-01-04T22:43:15.145405Z",
     "iopub.status.idle": "2024-01-04T22:43:15.150445Z",
     "shell.execute_reply": "2024-01-04T22:43:15.149579Z",
     "shell.execute_reply.started": "2024-01-04T22:43:15.145756Z"
    }
   },
   "outputs": [],
   "source": [
    "clp = qcf.QCCLP()\n",
    "usd = qcf.QCUSD()\n",
    "jpy = qcf.QCJPY()\n",
    "monedas = [clp, usd, jpy]"
   ]
  },
  {
   "cell_type": "markdown",
   "metadata": {},
   "source": [
    "### Métodos: `get_name`, `get_iso_code`, `get_iso_number`, `get_decimal_places` y `amount`."
   ]
  },
  {
   "cell_type": "markdown",
   "metadata": {},
   "source": [
    "El método `amount`debe utilizarse cuando se debe pagar o recibir un monto resultado de un cálculo. De esta forma, el monto se redondea al número correcto de decimales en la divisa (que se obtiene con `get_decimal_places`). Por ejemplo, en CLP, se redondea a 0 decimales ya que en esta divisa no se utilizan los centavos."
   ]
  },
  {
   "cell_type": "code",
   "execution_count": 4,
   "metadata": {
    "ExecuteTime": {
     "end_time": "2022-01-21T13:43:01.980166Z",
     "start_time": "2022-01-21T13:43:01.967201Z"
    },
    "execution": {
     "iopub.execute_input": "2024-01-04T22:43:15.153363Z",
     "iopub.status.busy": "2024-01-04T22:43:15.153004Z",
     "iopub.status.idle": "2024-01-04T22:43:15.159666Z",
     "shell.execute_reply": "2024-01-04T22:43:15.158780Z",
     "shell.execute_reply.started": "2024-01-04T22:43:15.153336Z"
    }
   },
   "outputs": [
    {
     "name": "stdout",
     "output_type": "stream",
     "text": [
      "Nombre: Chilean Peso\n",
      "Código ISO: CLP\n",
      "Número ISO: 152\n",
      "Número de decimales: 0\n",
      "Cantidad 100.123456 con el número correcto de decimales: 100.0\n",
      "\n",
      "Nombre: U. S. Dollar\n",
      "Código ISO: USD\n",
      "Número ISO: 840\n",
      "Número de decimales: 2\n",
      "Cantidad 100.123456 con el número correcto de decimales: 100.12\n",
      "\n",
      "Nombre: Japanese Yen\n",
      "Código ISO: JPY\n",
      "Número ISO: 392\n",
      "Número de decimales: 2\n",
      "Cantidad 100.123456 con el número correcto de decimales: 100.12\n",
      "\n"
     ]
    }
   ],
   "source": [
    "cantidad = 100.123456\n",
    "for moneda in monedas:\n",
    "    print(\"Nombre: {}\".format(moneda.get_name()))\n",
    "    print(\"Código ISO: {}\".format(moneda.get_iso_code()))\n",
    "    print(\"Número ISO: {}\".format(moneda.get_iso_number()))\n",
    "    print(\"Número de decimales: {}\".format(moneda.get_decimal_places()))\n",
    "    print(\n",
    "        \"Cantidad {} con el número correcto de decimales: {}\".format(\n",
    "            cantidad, moneda.amount(100.123456)\n",
    "        )\n",
    "    )\n",
    "    print()"
   ]
  },
  {
   "cell_type": "markdown",
   "metadata": {},
   "source": [
    "## Fechas\n",
    "Las fechas se representan con objetos de tipo QCDate. Para inicializar un QCDate se requiere el día, el mes y el año de la fecha.  También se puede inicializar sin valor (default constructor) en cuyo caso se obtendrá el 12-1-1969."
   ]
  },
  {
   "cell_type": "markdown",
   "metadata": {},
   "source": [
    "### Constructores"
   ]
  },
  {
   "cell_type": "markdown",
   "metadata": {},
   "source": [
    "Inicializar sin valor. Se muestra además los métodos `description()` y `__str__()`."
   ]
  },
  {
   "cell_type": "code",
   "execution_count": 5,
   "metadata": {
    "ExecuteTime": {
     "end_time": "2022-01-21T13:43:01.996123Z",
     "start_time": "2022-01-21T13:43:01.981164Z"
    },
    "execution": {
     "iopub.execute_input": "2024-01-04T22:43:15.161023Z",
     "iopub.status.busy": "2024-01-04T22:43:15.160601Z",
     "iopub.status.idle": "2024-01-04T22:43:15.165908Z",
     "shell.execute_reply": "2024-01-04T22:43:15.165057Z",
     "shell.execute_reply.started": "2024-01-04T22:43:15.160995Z"
    }
   },
   "outputs": [
    {
     "name": "stdout",
     "output_type": "stream",
     "text": [
      "12-01-1969\n",
      "1969-01-12\n",
      "1969-01-12\n"
     ]
    }
   ],
   "source": [
    "fecha = qcf.QCDate()\n",
    "print(fecha.description(True))\n",
    "print(fecha.description(False))\n",
    "print(fecha)"
   ]
  },
  {
   "cell_type": "markdown",
   "metadata": {},
   "source": [
    "Inicializar con una fecha específica. En este caso, el contructor realiza una validación de los parámetros iniciales."
   ]
  },
  {
   "cell_type": "code",
   "execution_count": 6,
   "metadata": {
    "ExecuteTime": {
     "end_time": "2022-01-21T13:43:02.011084Z",
     "start_time": "2022-01-21T13:43:01.997121Z"
    },
    "execution": {
     "iopub.execute_input": "2024-01-04T22:43:15.167763Z",
     "iopub.status.busy": "2024-01-04T22:43:15.167403Z",
     "iopub.status.idle": "2024-01-04T22:43:15.172163Z",
     "shell.execute_reply": "2024-01-04T22:43:15.171331Z",
     "shell.execute_reply.started": "2024-01-04T22:43:15.167736Z"
    }
   },
   "outputs": [
    {
     "name": "stdout",
     "output_type": "stream",
     "text": [
      "Método description: 14-09-2018\n",
      "Print de Python: 2018-09-14\n"
     ]
    }
   ],
   "source": [
    "fecha1 = qcf.QCDate(14, 9, 2018)  # día, mes, año\n",
    "print(\"Método description: {}\".format(fecha1.description(True)))\n",
    "print(\"Print de Python: {}\".format(fecha1))"
   ]
  },
  {
   "cell_type": "markdown",
   "metadata": {},
   "source": [
    "Error al tratar de construir una fecha inválida."
   ]
  },
  {
   "cell_type": "code",
   "execution_count": 7,
   "metadata": {
    "ExecuteTime": {
     "end_time": "2022-01-21T13:43:02.027041Z",
     "start_time": "2022-01-21T13:43:02.012081Z"
    },
    "execution": {
     "iopub.execute_input": "2024-01-04T22:43:15.173876Z",
     "iopub.status.busy": "2024-01-04T22:43:15.173467Z",
     "iopub.status.idle": "2024-01-04T22:43:15.179334Z",
     "shell.execute_reply": "2024-01-04T22:43:15.178641Z",
     "shell.execute_reply.started": "2024-01-04T22:43:15.173850Z"
    }
   },
   "outputs": [
    {
     "name": "stdout",
     "output_type": "stream",
     "text": [
      "Invalid day for month = 2\n"
     ]
    }
   ],
   "source": [
    "try:\n",
    "    fecha0 = qcf.QCDate(31, 2, 2018)  # ¡¡¡ 31 de febrero !!!\n",
    "except ValueError as e:\n",
    "    print(e)"
   ]
  },
  {
   "cell_type": "markdown",
   "metadata": {},
   "source": [
    "### Getters y Setters"
   ]
  },
  {
   "cell_type": "code",
   "execution_count": 8,
   "metadata": {
    "ExecuteTime": {
     "end_time": "2022-01-21T13:43:02.042999Z",
     "start_time": "2022-01-21T13:43:02.028038Z"
    },
    "execution": {
     "iopub.execute_input": "2024-01-04T22:43:15.180968Z",
     "iopub.status.busy": "2024-01-04T22:43:15.180655Z",
     "iopub.status.idle": "2024-01-04T22:43:15.185529Z",
     "shell.execute_reply": "2024-01-04T22:43:15.184858Z",
     "shell.execute_reply.started": "2024-01-04T22:43:15.180938Z"
    }
   },
   "outputs": [
    {
     "name": "stdout",
     "output_type": "stream",
     "text": [
      "Fecha: 17-10-2019\n"
     ]
    }
   ],
   "source": [
    "# Métodos: set_day, set_month, set_year\n",
    "fecha1.set_day(17)\n",
    "fecha1.set_month(10)\n",
    "fecha1.set_year(2019)\n",
    "print(\"Fecha: {}\".format(fecha1.description(True)))"
   ]
  },
  {
   "cell_type": "code",
   "execution_count": 9,
   "metadata": {
    "ExecuteTime": {
     "end_time": "2022-01-21T13:43:02.058956Z",
     "start_time": "2022-01-21T13:43:02.043995Z"
    },
    "execution": {
     "iopub.execute_input": "2024-01-04T22:43:15.187176Z",
     "iopub.status.busy": "2024-01-04T22:43:15.186699Z",
     "iopub.status.idle": "2024-01-04T22:43:15.191580Z",
     "shell.execute_reply": "2024-01-04T22:43:15.190777Z",
     "shell.execute_reply.started": "2024-01-04T22:43:15.187151Z"
    }
   },
   "outputs": [
    {
     "name": "stdout",
     "output_type": "stream",
     "text": [
      "Día: 17\n",
      "Mes: 10\n",
      "Año: 2019\n"
     ]
    }
   ],
   "source": [
    "# Métodos day, month, year, weekday\n",
    "print(\"Día: {}\".format(fecha1.day()))\n",
    "print(\"Mes: {}\".format(fecha1.month()))\n",
    "print(\"Año: {}\".format(fecha1.year()))"
   ]
  },
  {
   "cell_type": "markdown",
   "metadata": {},
   "source": [
    "### Método `week_day`"
   ]
  },
  {
   "cell_type": "markdown",
   "metadata": {},
   "source": [
    "Retorna una variable de tipo `enum QC_Financial.WeekDay` que representa el día de la semana que corresponde a la fecha."
   ]
  },
  {
   "cell_type": "code",
   "execution_count": 10,
   "metadata": {
    "ExecuteTime": {
     "end_time": "2022-01-21T13:43:02.073916Z",
     "start_time": "2022-01-21T13:43:02.060950Z"
    },
    "execution": {
     "iopub.execute_input": "2024-01-04T22:43:15.196301Z",
     "iopub.status.busy": "2024-01-04T22:43:15.195983Z",
     "iopub.status.idle": "2024-01-04T22:43:15.200917Z",
     "shell.execute_reply": "2024-01-04T22:43:15.200097Z",
     "shell.execute_reply.started": "2024-01-04T22:43:15.196273Z"
    }
   },
   "outputs": [
    {
     "name": "stdout",
     "output_type": "stream",
     "text": [
      "Tipo del retorno: <class 'qcfinancial.WeekDay'>\n",
      "Día de la semana: WeekDay.THU\n"
     ]
    }
   ],
   "source": [
    "dia_semana = fecha1.week_day()\n",
    "print(\"Tipo del retorno: {}\".format(type(dia_semana)))\n",
    "print(\"Día de la semana: {}\".format(dia_semana))"
   ]
  },
  {
   "cell_type": "markdown",
   "metadata": {},
   "source": [
    "### Método `add_months`"
   ]
  },
  {
   "cell_type": "markdown",
   "metadata": {},
   "source": [
    "Suma **n meses** a `fecha1` y retorna esa nueva fecha sin cambiar el valor de `fecha1`."
   ]
  },
  {
   "cell_type": "code",
   "execution_count": 11,
   "metadata": {
    "ExecuteTime": {
     "end_time": "2022-01-21T13:43:02.088876Z",
     "start_time": "2022-01-21T13:43:02.074913Z"
    },
    "execution": {
     "iopub.execute_input": "2024-01-04T22:43:15.202122Z",
     "iopub.status.busy": "2024-01-04T22:43:15.201754Z",
     "iopub.status.idle": "2024-01-04T22:43:15.206784Z",
     "shell.execute_reply": "2024-01-04T22:43:15.205958Z",
     "shell.execute_reply.started": "2024-01-04T22:43:15.202096Z"
    }
   },
   "outputs": [
    {
     "name": "stdout",
     "output_type": "stream",
     "text": [
      "fecha1: 17-10-2019\n",
      "fecha2: 17-11-2019\n"
     ]
    }
   ],
   "source": [
    "num_meses = 1\n",
    "fecha2 = fecha1.add_months(num_meses)\n",
    "print(\"fecha1: {}\".format(fecha1.description(True)))\n",
    "print(\"fecha2: {}\".format(fecha2.description(True)))"
   ]
  },
  {
   "cell_type": "markdown",
   "metadata": {},
   "source": [
    "### Método `add_days`"
   ]
  },
  {
   "cell_type": "markdown",
   "metadata": {},
   "source": [
    "Suma **n días** a `fecha1` sin cambiar el valor de `fecha1`."
   ]
  },
  {
   "cell_type": "code",
   "execution_count": 12,
   "metadata": {
    "ExecuteTime": {
     "end_time": "2022-01-21T13:43:02.104833Z",
     "start_time": "2022-01-21T13:43:02.089873Z"
    },
    "execution": {
     "iopub.execute_input": "2024-01-04T22:43:15.208614Z",
     "iopub.status.busy": "2024-01-04T22:43:15.208278Z",
     "iopub.status.idle": "2024-01-04T22:43:15.212931Z",
     "shell.execute_reply": "2024-01-04T22:43:15.212118Z",
     "shell.execute_reply.started": "2024-01-04T22:43:15.208588Z"
    }
   },
   "outputs": [
    {
     "name": "stdout",
     "output_type": "stream",
     "text": [
      "fecha1: 17-10-2019\n",
      "fecha3: 16-11-2019\n"
     ]
    }
   ],
   "source": [
    "num_dias = 30\n",
    "fecha3 = fecha1.add_days(num_dias)\n",
    "print(\"fecha1: {}\".format(fecha1.description(True)))\n",
    "print(\"fecha3: {}\".format(fecha3.description(True)))"
   ]
  },
  {
   "cell_type": "markdown",
   "metadata": {},
   "source": [
    "### Método `day_dif`"
   ]
  },
  {
   "cell_type": "markdown",
   "metadata": {},
   "source": [
    "Calcula la diferencia en días con otra fecha. Si la otra fecha es mayor el resultado es positivo, si no, es negativo."
   ]
  },
  {
   "cell_type": "code",
   "execution_count": 13,
   "metadata": {
    "ExecuteTime": {
     "end_time": "2022-01-21T13:43:02.120791Z",
     "start_time": "2022-01-21T13:43:02.105831Z"
    },
    "execution": {
     "iopub.execute_input": "2024-01-04T22:43:15.214331Z",
     "iopub.status.busy": "2024-01-04T22:43:15.214015Z",
     "iopub.status.idle": "2024-01-04T22:43:15.218448Z",
     "shell.execute_reply": "2024-01-04T22:43:15.217631Z",
     "shell.execute_reply.started": "2024-01-04T22:43:15.214307Z"
    }
   },
   "outputs": [
    {
     "name": "stdout",
     "output_type": "stream",
     "text": [
      "fecha1.day_diff(fecha3): 30 (días)\n",
      "fecha3.day_diff(fecha1): -30 (días)\n"
     ]
    }
   ],
   "source": [
    "# Dado que fecha3 > fecha1 entonces el resultado es positivo\n",
    "print(\"fecha1.day_diff(fecha3): {} (días)\".format(fecha1.day_diff(fecha3)))\n",
    "\n",
    "# Se invierten los roles y el resultado es negativo\n",
    "print(\"fecha3.day_diff(fecha1): {} (días)\".format(fecha3.day_diff(fecha1)))"
   ]
  },
  {
   "cell_type": "markdown",
   "metadata": {},
   "source": [
    "### Orden en `QCDate`"
   ]
  },
  {
   "cell_type": "markdown",
   "metadata": {},
   "source": [
    "El orden de `QCDate` permite que las fechas pueden compararse entre si."
   ]
  },
  {
   "cell_type": "code",
   "execution_count": 14,
   "metadata": {
    "ExecuteTime": {
     "end_time": "2022-01-21T13:43:02.136747Z",
     "start_time": "2022-01-21T13:43:02.124780Z"
    },
    "execution": {
     "iopub.execute_input": "2024-01-04T22:43:15.219784Z",
     "iopub.status.busy": "2024-01-04T22:43:15.219431Z",
     "iopub.status.idle": "2024-01-04T22:43:15.225678Z",
     "shell.execute_reply": "2024-01-04T22:43:15.224867Z",
     "shell.execute_reply.started": "2024-01-04T22:43:15.219759Z"
    }
   },
   "outputs": [
    {
     "name": "stdout",
     "output_type": "stream",
     "text": [
      "fecha1: 2019-10-17\n",
      "fecha2: 2019-11-17\n",
      "fecha1 == fecha2: False\n",
      "fecha1 != fecha2: True\n",
      "fecha1 < fecha2: True\n",
      "fecha1 <= fecha2: True\n",
      "fecha1 > fecha2: False\n",
      "fecha1 >= fecha2: False\n"
     ]
    }
   ],
   "source": [
    "print(\"fecha1: {}\".format(fecha1))\n",
    "print(\"fecha2: {}\".format(fecha2))\n",
    "print(\"fecha1 == fecha2: {}\".format(fecha1 == fecha2))\n",
    "print(\"fecha1 != fecha2: {}\".format(fecha1 != fecha2))\n",
    "print(\"fecha1 < fecha2: {}\".format(fecha1 < fecha2))\n",
    "print(\"fecha1 <= fecha2: {}\".format(fecha1 <= fecha2))\n",
    "print(\"fecha1 > fecha2: {}\".format(fecha1 > fecha2))\n",
    "print(\"fecha1 >= fecha2: {}\".format(fecha1 >= fecha2))"
   ]
  },
  {
   "cell_type": "markdown",
   "metadata": {},
   "source": [
    "### Un objeto `QCDate` es *hashable*"
   ]
  },
  {
   "cell_type": "markdown",
   "metadata": {},
   "source": [
    "Esto permite que las fechas puedan usarse como `key` en un `dict`de Python. El hash que se utiliza coincide con la representación como entero de uan fecha que se utiliza en Excel."
   ]
  },
  {
   "cell_type": "code",
   "execution_count": 15,
   "metadata": {
    "ExecuteTime": {
     "end_time": "2022-01-21T13:43:02.152705Z",
     "start_time": "2022-01-21T13:43:02.137746Z"
    },
    "execution": {
     "iopub.execute_input": "2024-01-04T22:43:15.227036Z",
     "iopub.status.busy": "2024-01-04T22:43:15.226689Z",
     "iopub.status.idle": "2024-01-04T22:43:15.230756Z",
     "shell.execute_reply": "2024-01-04T22:43:15.229930Z",
     "shell.execute_reply.started": "2024-01-04T22:43:15.227010Z"
    }
   },
   "outputs": [
    {
     "name": "stdout",
     "output_type": "stream",
     "text": [
      "43755\n"
     ]
    }
   ],
   "source": [
    "print(fecha1.__hash__())"
   ]
  },
  {
   "cell_type": "markdown",
   "metadata": {},
   "source": [
    "### Método `build_qcdate_from_string`"
   ]
  },
  {
   "cell_type": "markdown",
   "metadata": {},
   "source": [
    "Se trata de un *factory method* que permite inicializar un objeto `QCDate` a partir de un `string`.\n",
    "El formato del `string` debe ser yyyy&mm&dd donde & es un separador arbitrario."
   ]
  },
  {
   "cell_type": "code",
   "execution_count": 16,
   "metadata": {
    "ExecuteTime": {
     "end_time": "2022-01-21T13:43:02.167665Z",
     "start_time": "2022-01-21T13:43:02.153703Z"
    },
    "execution": {
     "iopub.execute_input": "2024-01-04T22:43:15.232250Z",
     "iopub.status.busy": "2024-01-04T22:43:15.231911Z",
     "iopub.status.idle": "2024-01-04T22:43:15.238046Z",
     "shell.execute_reply": "2024-01-04T22:43:15.237196Z",
     "shell.execute_reply.started": "2024-01-04T22:43:15.232226Z"
    }
   },
   "outputs": [
    {
     "name": "stdout",
     "output_type": "stream",
     "text": [
      "2020-01-01: 2020-01-01\n",
      "2020/01/02: 2020-01-02\n",
      "2020&01&03: 2020-01-03\n"
     ]
    }
   ],
   "source": [
    "str1 = \"2020-01-01\"\n",
    "str2 = \"2020/01/02\"\n",
    "str3 = \"2020&01&03\"\n",
    "\n",
    "fecha4 = qcf.build_qcdate_from_string(str1)\n",
    "print((str1 + \": {}\").format(fecha4.description(False)))\n",
    "\n",
    "fecha4 = qcf.build_qcdate_from_string(str2)\n",
    "print((str2 + \": {}\").format(fecha4.description(False)))\n",
    "\n",
    "fecha4 = qcf.build_qcdate_from_string(str3)\n",
    "print((str3 + \": {}\").format(fecha4.description(False)))"
   ]
  },
  {
   "cell_type": "markdown",
   "metadata": {},
   "source": [
    "## Calendarios\n",
    "Los calendarios se representan con objetos de tipo `BusinesssCalendar` y son **listas** de fechas arbitrarias que representan días feriados en alguna ciudad, país, región o unión de las anteriores. Para dar de alta un calendario se requiere una fecha inicial (`QCDate` y un número entero positivo que representa el plazo inicial total del calendario en años). El objeto `BusinessCalendar` incluye explícitamente todos los días 1 de enero y considera siempre como feriado los días sábado y domingo (aunque no pertenecen de forma explícita a la **lista**).   "
   ]
  },
  {
   "cell_type": "code",
   "execution_count": 17,
   "metadata": {
    "ExecuteTime": {
     "end_time": "2022-01-21T13:43:02.183622Z",
     "start_time": "2022-01-21T13:43:02.168663Z"
    },
    "execution": {
     "iopub.execute_input": "2024-01-04T22:43:15.239548Z",
     "iopub.status.busy": "2024-01-04T22:43:15.239219Z",
     "iopub.status.idle": "2024-01-04T22:43:15.244512Z",
     "shell.execute_reply": "2024-01-04T22:43:15.243712Z",
     "shell.execute_reply.started": "2024-01-04T22:43:15.239524Z"
    }
   },
   "outputs": [],
   "source": [
    "scl = qcf.BusinessCalendar(fecha1, 10)\n",
    "for holiday in scl.get_holidays():\n",
    "    print(holiday)"
   ]
  },
  {
   "cell_type": "code",
   "execution_count": 18,
   "metadata": {
    "ExecuteTime": {
     "end_time": "2022-01-21T13:43:02.198582Z",
     "start_time": "2022-01-21T13:43:02.184620Z"
    },
    "execution": {
     "iopub.execute_input": "2024-01-04T22:43:15.246243Z",
     "iopub.status.busy": "2024-01-04T22:43:15.245932Z",
     "iopub.status.idle": "2024-01-04T22:43:15.250505Z",
     "shell.execute_reply": "2024-01-04T22:43:15.249828Z",
     "shell.execute_reply.started": "2024-01-04T22:43:15.246218Z"
    }
   },
   "outputs": [
    {
     "name": "stdout",
     "output_type": "stream",
     "text": [
      "2018-01-02\n"
     ]
    }
   ],
   "source": [
    "# Método add_holiday. Agrega una fecha a la lista.\n",
    "scl.add_holiday(qcf.QCDate(2, 1, 2018))\n",
    "for holiday in scl.get_holidays():\n",
    "    print(holiday)"
   ]
  },
  {
   "cell_type": "code",
   "execution_count": 19,
   "metadata": {
    "ExecuteTime": {
     "end_time": "2022-01-21T13:43:02.214541Z",
     "start_time": "2022-01-21T13:43:02.199580Z"
    },
    "execution": {
     "iopub.execute_input": "2024-01-04T22:43:15.252017Z",
     "iopub.status.busy": "2024-01-04T22:43:15.251680Z",
     "iopub.status.idle": "2024-01-04T22:43:15.256995Z",
     "shell.execute_reply": "2024-01-04T22:43:15.256347Z",
     "shell.execute_reply.started": "2024-01-04T22:43:15.251992Z"
    }
   },
   "outputs": [
    {
     "name": "stdout",
     "output_type": "stream",
     "text": [
      "next: 2018-09-17\n",
      "Se agrega el 17-9-2018 a la lista\n",
      "nuevo next: 2018-09-18\n"
     ]
    }
   ],
   "source": [
    "# Método next_busy_day. Dada una fecha, si ésta es hábil retorna la misma fecha,\n",
    "## si, por el contrario, la fecha es inhábil, devuelve la siguiente fecha hábil del calendario.\n",
    "print(\"next:\", scl.next_busy_day(qcf.QCDate(15, 9, 2018)))  # es sábado\n",
    "print(\"Se agrega el 17-9-2018 a la lista\")\n",
    "scl.add_holiday(qcf.QCDate(17, 9, 2018))\n",
    "print(\"nuevo next:\", scl.next_busy_day(qcf.QCDate(15, 9, 2018)))"
   ]
  },
  {
   "cell_type": "code",
   "execution_count": 20,
   "metadata": {
    "ExecuteTime": {
     "end_time": "2022-01-21T13:43:02.230498Z",
     "start_time": "2022-01-21T13:43:02.215538Z"
    },
    "execution": {
     "iopub.execute_input": "2024-01-04T22:43:15.258819Z",
     "iopub.status.busy": "2024-01-04T22:43:15.258298Z",
     "iopub.status.idle": "2024-01-04T22:43:15.263763Z",
     "shell.execute_reply": "2024-01-04T22:43:15.263063Z",
     "shell.execute_reply.started": "2024-01-04T22:43:15.258792Z"
    }
   },
   "outputs": [
    {
     "name": "stdout",
     "output_type": "stream",
     "text": [
      "fecha: 2018-04-30\n",
      "next: 2018-05-01\n",
      "mod next: 2018-04-27\n",
      "abril30: 2018-04-30\n"
     ]
    }
   ],
   "source": [
    "# Método mod_next_busy_day. Opera igual que la función anterior a menos que la función anterior retorne una fecha\n",
    "# del mes siguiente, en ese caso retorna la fecha hábil anterior.\n",
    "print(\"fecha: 2018-04-30\")\n",
    "abril30 = qcf.QCDate(30, 4, 2018)\n",
    "scl.add_holiday(abril30)\n",
    "print(\"next:\", scl.next_busy_day(abril30))\n",
    "print(\"mod next:\", scl.mod_next_busy_day(qcf.QCDate(30, 4, 2018)))\n",
    "print(\"abril30:\", abril30)"
   ]
  },
  {
   "cell_type": "code",
   "execution_count": 21,
   "metadata": {
    "ExecuteTime": {
     "end_time": "2022-01-21T13:43:02.246455Z",
     "start_time": "2022-01-21T13:43:02.231495Z"
    },
    "execution": {
     "iopub.execute_input": "2024-01-04T22:43:15.265360Z",
     "iopub.status.busy": "2024-01-04T22:43:15.264887Z",
     "iopub.status.idle": "2024-01-04T22:43:15.269255Z",
     "shell.execute_reply": "2024-01-04T22:43:15.268462Z",
     "shell.execute_reply.started": "2024-01-04T22:43:15.265332Z"
    }
   },
   "outputs": [
    {
     "name": "stdout",
     "output_type": "stream",
     "text": [
      "prev: 2018-04-27\n"
     ]
    }
   ],
   "source": [
    "# Método prev_busy_day. Opera de forma análoga a mod_busy_day, pero retornando la fecha hábil anterior.\n",
    "print(\"prev:\", scl.prev_busy_day(abril30).iso_code())"
   ]
  },
  {
   "cell_type": "code",
   "execution_count": 22,
   "metadata": {
    "ExecuteTime": {
     "end_time": "2022-01-21T13:43:02.261415Z",
     "start_time": "2022-01-21T13:43:02.247452Z"
    },
    "execution": {
     "iopub.execute_input": "2024-01-04T22:43:15.270991Z",
     "iopub.status.busy": "2024-01-04T22:43:15.270646Z",
     "iopub.status.idle": "2024-01-04T22:43:15.276232Z",
     "shell.execute_reply": "2024-01-04T22:43:15.275494Z",
     "shell.execute_reply.started": "2024-01-04T22:43:15.270966Z"
    }
   },
   "outputs": [
    {
     "name": "stdout",
     "output_type": "stream",
     "text": [
      "2018-05-01\n",
      "2018-04-30\n",
      "2018-05-01\n",
      "2018-05-07\n"
     ]
    }
   ],
   "source": [
    "# Método shift. Suma un número n de días hábiles a una fecha.\n",
    "mayo2 = qcf.QCDate(2, 5, 2018)\n",
    "print(scl.shift(mayo2, -1))\n",
    "print(scl.shift(abril30, 0))\n",
    "print(scl.shift(abril30, 1))\n",
    "print(scl.shift(abril30, 5))"
   ]
  },
  {
   "cell_type": "markdown",
   "metadata": {
    "heading_collapsed": true
   },
   "source": [
    "## Fracciones de Año"
   ]
  },
  {
   "cell_type": "code",
   "execution_count": 23,
   "metadata": {
    "ExecuteTime": {
     "end_time": "2022-01-21T13:43:02.276375Z",
     "start_time": "2022-01-21T13:43:02.262412Z"
    },
    "execution": {
     "iopub.execute_input": "2024-01-04T22:43:15.277662Z",
     "iopub.status.busy": "2024-01-04T22:43:15.277384Z",
     "iopub.status.idle": "2024-01-04T22:43:15.282043Z",
     "shell.execute_reply": "2024-01-04T22:43:15.281343Z",
     "shell.execute_reply.started": "2024-01-04T22:43:15.277634Z"
    },
    "hidden": true
   },
   "outputs": [],
   "source": [
    "# Existen Act/360, Act/365, 30/360 y Act/30\n",
    "act360 = qcf.QCAct360()\n",
    "act365 = qcf.QCAct365()\n",
    "t30360 = qcf.QC30360()\n",
    "act30 = qcf.QCAct30()\n",
    "yfs = [act360, act365, t30360, act30]"
   ]
  },
  {
   "cell_type": "code",
   "execution_count": 24,
   "metadata": {
    "ExecuteTime": {
     "end_time": "2022-01-21T13:43:02.292334Z",
     "start_time": "2022-01-21T13:43:02.277372Z"
    },
    "execution": {
     "iopub.execute_input": "2024-01-04T22:43:15.283600Z",
     "iopub.status.busy": "2024-01-04T22:43:15.283275Z",
     "iopub.status.idle": "2024-01-04T22:43:15.288291Z",
     "shell.execute_reply": "2024-01-04T22:43:15.287341Z",
     "shell.execute_reply.started": "2024-01-04T22:43:15.283575Z"
    },
    "hidden": true
   },
   "outputs": [
    {
     "name": "stdout",
     "output_type": "stream",
     "text": [
      "0.08333333333333333\n",
      "0.08333333333333333\n",
      "30\n",
      "\n",
      "0.0821917808219178\n",
      "0.0821917808219178\n",
      "30\n",
      "\n",
      "0.08333333333333333\n",
      "0.08055555555555556\n",
      "29\n",
      "\n",
      "1.0\n",
      "1.0\n",
      "30\n",
      "\n"
     ]
    }
   ],
   "source": [
    "# Métodos yf (sobrecargado) y count_days\n",
    "for yf in yfs:\n",
    "    print(yf.yf(30))\n",
    "    print(yf.yf(fecha1, fecha3))\n",
    "    print(yf.count_days(fecha1, fecha3))\n",
    "    print()"
   ]
  },
  {
   "cell_type": "markdown",
   "metadata": {
    "heading_collapsed": true
   },
   "source": [
    "## Factores de Capitalización"
   ]
  },
  {
   "cell_type": "code",
   "execution_count": 25,
   "metadata": {
    "ExecuteTime": {
     "end_time": "2022-01-21T13:43:02.308289Z",
     "start_time": "2022-01-21T13:43:02.293330Z"
    },
    "execution": {
     "iopub.execute_input": "2024-01-04T22:43:15.289551Z",
     "iopub.status.busy": "2024-01-04T22:43:15.289177Z",
     "iopub.status.idle": "2024-01-04T22:43:15.293486Z",
     "shell.execute_reply": "2024-01-04T22:43:15.292814Z",
     "shell.execute_reply.started": "2024-01-04T22:43:15.289527Z"
    },
    "hidden": true
   },
   "outputs": [],
   "source": [
    "# Existen: (yf es la fracción de año asociada a la tasa de valor r)\n",
    "#    QCLinearWf     ---> (1 + r * yf)\n",
    "#    QCCompundWf    ---> (1 + r)**yf\n",
    "#    QCContinousWf  ---> exp(r * yf)\n",
    "lin_wf = qcf.QCLinearWf()\n",
    "com_wf = qcf.QCCompoundWf()\n",
    "exp_wf = qcf.QCContinousWf()"
   ]
  },
  {
   "cell_type": "markdown",
   "metadata": {},
   "source": [
    "## Tasas de Interés"
   ]
  },
  {
   "cell_type": "code",
   "execution_count": 26,
   "metadata": {
    "ExecuteTime": {
     "end_time": "2022-01-21T13:43:02.324248Z",
     "start_time": "2022-01-21T13:43:02.309287Z"
    },
    "execution": {
     "iopub.execute_input": "2024-01-04T22:43:15.294855Z",
     "iopub.status.busy": "2024-01-04T22:43:15.294406Z",
     "iopub.status.idle": "2024-01-04T22:43:15.298664Z",
     "shell.execute_reply": "2024-01-04T22:43:15.297978Z",
     "shell.execute_reply.started": "2024-01-04T22:43:15.294831Z"
    }
   },
   "outputs": [],
   "source": [
    "# Dar de alta una tasa de interés\n",
    "tasa_lin_act360 = qcf.QCInterestRate(0.1, act360, lin_wf)\n",
    "tasa_com_act365 = qcf.QCInterestRate(0.1, act365, com_wf)\n",
    "tasas = [tasa_lin_act360, tasa_com_act365]"
   ]
  },
  {
   "cell_type": "code",
   "execution_count": 27,
   "metadata": {
    "ExecuteTime": {
     "end_time": "2022-01-21T13:43:02.340204Z",
     "start_time": "2022-01-21T13:43:02.325244Z"
    },
    "execution": {
     "iopub.execute_input": "2024-01-04T22:43:15.300203Z",
     "iopub.status.busy": "2024-01-04T22:43:15.299759Z",
     "iopub.status.idle": "2024-01-04T22:43:15.306191Z",
     "shell.execute_reply": "2024-01-04T22:43:15.305489Z",
     "shell.execute_reply.started": "2024-01-04T22:43:15.300175Z"
    }
   },
   "outputs": [
    {
     "name": "stdout",
     "output_type": "stream",
     "text": [
      "get 0.1\n",
      "get nuevo valor 0.12\n",
      "wf 1.01\n",
      "dwf 0.08333333333333333\n",
      "wf1 1.1216666666666666\n",
      "dwf1 1.0138888888888888\n",
      "\n",
      "get 0.1\n",
      "get nuevo valor 0.12\n",
      "wf 1.0093582031654136\n",
      "dwf 0.07407227518337182\n",
      "wf1 1.12\n",
      "dwf1 1.0\n",
      "\n"
     ]
    }
   ],
   "source": [
    "# Métodos get_value, set_value, wf (sobrecargado), dwf (sobrecargado)\n",
    "for tasa in tasas:\n",
    "    print(\"get\", tasa.get_value())\n",
    "    tasa.set_value(0.12)\n",
    "    print(\"get nuevo valor\", tasa.get_value())\n",
    "    print(\n",
    "        \"wf\", tasa.wf(fecha1, fecha3)\n",
    "    )  # Retorna el factor de capitalización entre las fechas\n",
    "    print(\n",
    "        \"dwf\", tasa.dwf(fecha1, fecha3)\n",
    "    )  # Retorna la derivada del factor de capitalización respecto al valor de la tasa\n",
    "    # entre las fechas\n",
    "    print(\n",
    "        \"wf1\", tasa.wf(365)\n",
    "    )  # Retorna el factor de capitalización para el número de días\n",
    "    print(\n",
    "        \"dwf1\", tasa.dwf(365)\n",
    "    )  # Retorna la derivada del factor de capitalización respecto al valor de la tasa\n",
    "    # para el número de días\n",
    "    print()"
   ]
  },
  {
   "cell_type": "code",
   "execution_count": 28,
   "metadata": {
    "ExecuteTime": {
     "end_time": "2022-01-21T13:43:02.355165Z",
     "start_time": "2022-01-21T13:43:02.344194Z"
    },
    "execution": {
     "iopub.execute_input": "2024-01-04T22:43:15.314447Z",
     "iopub.status.busy": "2024-01-04T22:43:15.314138Z",
     "iopub.status.idle": "2024-01-04T22:43:15.319912Z",
     "shell.execute_reply": "2024-01-04T22:43:15.318855Z",
     "shell.execute_reply.started": "2024-01-04T22:43:15.314419Z"
    }
   },
   "outputs": [
    {
     "data": {
      "text/plain": [
       "-0.03600000000000003"
      ]
     },
     "execution_count": 28,
     "metadata": {},
     "output_type": "execute_result"
    }
   ],
   "source": [
    "tasa_lin_act360.get_rate_from_wf(0.99, 100)"
   ]
  },
  {
   "cell_type": "markdown",
   "metadata": {},
   "source": [
    "### Tenor\n",
    "Es una clase que representa el concepto de tenor (1D, 1M, 1Y ...)."
   ]
  },
  {
   "cell_type": "code",
   "execution_count": 29,
   "metadata": {
    "ExecuteTime": {
     "end_time": "2022-01-21T13:43:02.371122Z",
     "start_time": "2022-01-21T13:43:02.356162Z"
    },
    "execution": {
     "iopub.execute_input": "2024-01-04T22:43:15.321677Z",
     "iopub.status.busy": "2024-01-04T22:43:15.320946Z",
     "iopub.status.idle": "2024-01-04T22:43:15.326091Z",
     "shell.execute_reply": "2024-01-04T22:43:15.325398Z",
     "shell.execute_reply.started": "2024-01-04T22:43:15.321649Z"
    }
   },
   "outputs": [],
   "source": [
    "# Ejemplo de Tenor\n",
    "one_d = qcf.Tenor(\"1d\")\n",
    "one_m = qcf.Tenor(\"1M\")\n",
    "one_y = qcf.Tenor(\"1y\")\n",
    "t1d1m1y = qcf.Tenor(\"1D1M1Y\")\n",
    "t2Y3M = qcf.Tenor(\"2yadv3m\")\n",
    "tenors = [one_d, one_m, one_y, t1d1m1y, t2Y3M]"
   ]
  },
  {
   "cell_type": "code",
   "execution_count": 30,
   "metadata": {
    "ExecuteTime": {
     "end_time": "2022-01-21T13:43:02.386082Z",
     "start_time": "2022-01-21T13:43:02.372119Z"
    },
    "execution": {
     "iopub.execute_input": "2024-01-04T22:43:15.327533Z",
     "iopub.status.busy": "2024-01-04T22:43:15.327063Z",
     "iopub.status.idle": "2024-01-04T22:43:15.332935Z",
     "shell.execute_reply": "2024-01-04T22:43:15.332029Z",
     "shell.execute_reply.started": "2024-01-04T22:43:15.327505Z"
    }
   },
   "outputs": [
    {
     "name": "stdout",
     "output_type": "stream",
     "text": [
      "string: 1D\n",
      "dias: 1\n",
      "meses: 0\n",
      "años: 0\n",
      "\n",
      "string: 1M\n",
      "dias: 0\n",
      "meses: 1\n",
      "años: 0\n",
      "\n",
      "string: 1Y\n",
      "dias: 0\n",
      "meses: 0\n",
      "años: 1\n",
      "\n",
      "string: 1Y1M1D\n",
      "dias: 1\n",
      "meses: 1\n",
      "años: 1\n",
      "\n",
      "string: 2Y3M\n",
      "dias: 0\n",
      "meses: 3\n",
      "años: 2\n",
      "\n",
      "32Y1M\n"
     ]
    }
   ],
   "source": [
    "# Métodos get_string, get_years, get_months, get_years\n",
    "for tenor in tenors:\n",
    "    print(\"string:\", tenor.get_string())\n",
    "    print(\"dias:\", tenor.get_days())\n",
    "    print(\"meses:\", tenor.get_months())\n",
    "    print(\"años:\", tenor.get_years())\n",
    "    print()\n",
    "\n",
    "# Método set_tenor\n",
    "t2Y3M.set_tenor(\"1m32y\")\n",
    "print(t2Y3M.get_string())"
   ]
  },
  {
   "cell_type": "markdown",
   "metadata": {
    "heading_collapsed": true
   },
   "source": [
    "## FX Rate\n",
    "Es una clase que representa el concepto de tipo de cambio entre dos monedas. Para dar de alta un FXRate se requiere:\n",
    "\n",
    "- QCCurrency: la moneda fuerte del par.\n",
    "- QCCurrency: la moneda débl del par."
   ]
  },
  {
   "cell_type": "code",
   "execution_count": 31,
   "metadata": {
    "ExecuteTime": {
     "end_time": "2022-01-21T13:43:02.402039Z",
     "start_time": "2022-01-21T13:43:02.387079Z"
    },
    "execution": {
     "iopub.execute_input": "2024-01-04T22:43:15.334116Z",
     "iopub.status.busy": "2024-01-04T22:43:15.333741Z",
     "iopub.status.idle": "2024-01-04T22:43:15.338212Z",
     "shell.execute_reply": "2024-01-04T22:43:15.337410Z",
     "shell.execute_reply.started": "2024-01-04T22:43:15.334090Z"
    },
    "hidden": true
   },
   "outputs": [
    {
     "name": "stdout",
     "output_type": "stream",
     "text": [
      "código: USDCLP\n"
     ]
    }
   ],
   "source": [
    "# Ejemplo. USDCLP. Método get_code. Se retorna el código del par según la convención usual.\n",
    "usdclp = qcf.FXRate(usd, clp)\n",
    "print(\"código:\", usdclp.get_code())"
   ]
  },
  {
   "cell_type": "markdown",
   "metadata": {},
   "source": [
    "### FXRateIndex\n",
    "\n",
    "Representa un índice de tipo de cambio."
   ]
  },
  {
   "cell_type": "code",
   "execution_count": 32,
   "metadata": {
    "execution": {
     "iopub.execute_input": "2024-01-04T22:43:15.339706Z",
     "iopub.status.busy": "2024-01-04T22:43:15.339384Z",
     "iopub.status.idle": "2024-01-04T22:43:15.344892Z",
     "shell.execute_reply": "2024-01-04T22:43:15.344054Z",
     "shell.execute_reply.started": "2024-01-04T22:43:15.339682Z"
    }
   },
   "outputs": [
    {
     "data": {
      "text/plain": [
       "<qcfinancial.FXRate at 0x112bbdef0>"
      ]
     },
     "execution_count": 32,
     "metadata": {},
     "output_type": "execute_result"
    }
   ],
   "source": [
    "usdclp"
   ]
  },
  {
   "cell_type": "markdown",
   "metadata": {},
   "source": [
    "## Índices\n",
    "Todo índice pertenece a un asset class. Los distintos asset class se representan con un el enum AssetClass. Los asset class disponibles son:\n",
    "\n",
    "- InterestRate\n",
    "- InterestRateVol\n",
    "- Fx\n",
    "- FxVol\n",
    "- Equity\n",
    "- EquityVol\n",
    "- Commodity\n",
    "- CommodityVol\n",
    "- Credit\n",
    "- CreditVol"
   ]
  },
  {
   "cell_type": "code",
   "execution_count": 33,
   "metadata": {
    "ExecuteTime": {
     "end_time": "2022-01-21T13:43:02.417997Z",
     "start_time": "2022-01-21T13:43:02.403037Z"
    },
    "execution": {
     "iopub.execute_input": "2024-01-04T22:43:15.346356Z",
     "iopub.status.busy": "2024-01-04T22:43:15.345935Z",
     "iopub.status.idle": "2024-01-04T22:43:15.350336Z",
     "shell.execute_reply": "2024-01-04T22:43:15.349517Z",
     "shell.execute_reply.started": "2024-01-04T22:43:15.346331Z"
    }
   },
   "outputs": [
    {
     "name": "stdout",
     "output_type": "stream",
     "text": [
      "AssetClass.InterestRate\n",
      "AssetClass.Fx\n"
     ]
    }
   ],
   "source": [
    "# AssetClass. Existen\n",
    "print(qcf.AssetClass.InterestRate)\n",
    "print(qcf.AssetClass.Fx)"
   ]
  },
  {
   "cell_type": "markdown",
   "metadata": {},
   "source": [
    "Para dar de alta un FXRateIndex se requiere:\n",
    "\n",
    "- `FXRate`: el FXRate correspoondiente.\n",
    "- `str`: nombre del índice\n",
    "- `Tenor`: la regla de fixing, es 1D como el USD Observado o es 0D como un ínidce de cierre de día.\n",
    "- `Tenor`: la regla para la valuta. Es 1D como el USDCLP o 2D como el EURUSD.\n",
    "- `BusinessCalendar`: el calendario adecuado para aplicar las reglas de fixing y valuta.\n"
   ]
  },
  {
   "cell_type": "code",
   "execution_count": 34,
   "metadata": {
    "ExecuteTime": {
     "end_time": "2022-01-21T13:43:02.433954Z",
     "start_time": "2022-01-21T13:43:02.418994Z"
    },
    "execution": {
     "iopub.execute_input": "2024-01-04T22:43:15.351975Z",
     "iopub.status.busy": "2024-01-04T22:43:15.351654Z",
     "iopub.status.idle": "2024-01-04T22:43:15.357065Z",
     "shell.execute_reply": "2024-01-04T22:43:15.356243Z",
     "shell.execute_reply.started": "2024-01-04T22:43:15.351949Z"
    }
   },
   "outputs": [
    {
     "name": "stdout",
     "output_type": "stream",
     "text": [
      "fecha de publicación: WeekDay.THU 2019-10-17\n",
      "fecha de fixing: 2019-10-16\n",
      "fecha de valuta: 2019-10-17\n"
     ]
    }
   ],
   "source": [
    "# Ejemplo.\n",
    "usdclp_obs = qcf.FXRateIndex(usdclp, \"USDOBS\", one_d, one_d, scl)\n",
    "print(\"fecha de publicación:\", fecha1.week_day(), fecha1)\n",
    "print(\"fecha de fixing:\", usdclp_obs.fixing_date(fecha1))\n",
    "print(\"fecha de valuta:\", usdclp_obs.value_date(fecha1))"
   ]
  },
  {
   "cell_type": "code",
   "execution_count": 35,
   "metadata": {
    "ExecuteTime": {
     "end_time": "2022-01-21T13:43:02.448914Z",
     "start_time": "2022-01-21T13:43:02.434952Z"
    },
    "execution": {
     "iopub.execute_input": "2024-01-04T22:43:15.358670Z",
     "iopub.status.busy": "2024-01-04T22:43:15.358319Z",
     "iopub.status.idle": "2024-01-04T22:43:15.362759Z",
     "shell.execute_reply": "2024-01-04T22:43:15.362062Z",
     "shell.execute_reply.started": "2024-01-04T22:43:15.358640Z"
    }
   },
   "outputs": [
    {
     "name": "stdout",
     "output_type": "stream",
     "text": [
      "Monto en CLP es: 700,000\n"
     ]
    }
   ],
   "source": [
    "result = usdclp_obs.convert(1000, qcf.QCUSD(), 700)\n",
    "print(f\"Monto en CLP es: {result:,.0f}\")"
   ]
  },
  {
   "cell_type": "markdown",
   "metadata": {},
   "source": [
    "### QCCurrencyConverter\n",
    "\n",
    "Este es un objeto que permite realizar conversiones de una moneda a otra."
   ]
  },
  {
   "cell_type": "code",
   "execution_count": 36,
   "metadata": {
    "execution": {
     "iopub.execute_input": "2024-01-04T22:43:15.364250Z",
     "iopub.status.busy": "2024-01-04T22:43:15.363896Z",
     "iopub.status.idle": "2024-01-04T22:43:15.367952Z",
     "shell.execute_reply": "2024-01-04T22:43:15.367082Z",
     "shell.execute_reply.started": "2024-01-04T22:43:15.364224Z"
    }
   },
   "outputs": [],
   "source": [
    "ccy_converter = qcf.QCCurrencyConverter()"
   ]
  },
  {
   "cell_type": "code",
   "execution_count": 37,
   "metadata": {
    "execution": {
     "iopub.execute_input": "2024-01-04T22:43:15.369595Z",
     "iopub.status.busy": "2024-01-04T22:43:15.369249Z",
     "iopub.status.idle": "2024-01-04T22:43:15.373405Z",
     "shell.execute_reply": "2024-01-04T22:43:15.372673Z",
     "shell.execute_reply.started": "2024-01-04T22:43:15.369569Z"
    }
   },
   "outputs": [
    {
     "name": "stdout",
     "output_type": "stream",
     "text": [
      "Monto en CLP: 800,000\n"
     ]
    }
   ],
   "source": [
    "print(f'Monto en CLP: {ccy_converter.convert(1_000, usd, 800, usdclp_obs):,.0f}')"
   ]
  },
  {
   "cell_type": "code",
   "execution_count": 38,
   "metadata": {
    "execution": {
     "iopub.execute_input": "2024-01-04T22:43:15.374948Z",
     "iopub.status.busy": "2024-01-04T22:43:15.374605Z",
     "iopub.status.idle": "2024-01-04T22:43:15.378885Z",
     "shell.execute_reply": "2024-01-04T22:43:15.378077Z",
     "shell.execute_reply.started": "2024-01-04T22:43:15.374922Z"
    }
   },
   "outputs": [
    {
     "name": "stdout",
     "output_type": "stream",
     "text": [
      "Monto en USD: 1,000\n"
     ]
    }
   ],
   "source": [
    "print(f'Monto en USD: {ccy_converter.convert(800_000, clp, 800, usdclp_obs):,.0f}')"
   ]
  },
  {
   "cell_type": "markdown",
   "metadata": {},
   "source": [
    "#### Enum para Monedas"
   ]
  },
  {
   "cell_type": "code",
   "execution_count": 39,
   "metadata": {
    "execution": {
     "iopub.execute_input": "2024-01-04T22:43:15.380303Z",
     "iopub.status.busy": "2024-01-04T22:43:15.379960Z",
     "iopub.status.idle": "2024-01-04T22:43:15.385128Z",
     "shell.execute_reply": "2024-01-04T22:43:15.384393Z",
     "shell.execute_reply.started": "2024-01-04T22:43:15.380278Z"
    }
   },
   "outputs": [
    {
     "data": {
      "text/plain": [
       "<QCCurrencyEnum.AUD: 0>"
      ]
     },
     "execution_count": 39,
     "metadata": {},
     "output_type": "execute_result"
    }
   ],
   "source": [
    "qcf.QCCurrencyEnum.AUD"
   ]
  },
  {
   "cell_type": "code",
   "execution_count": 40,
   "metadata": {
    "collapsed": false,
    "execution": {
     "iopub.execute_input": "2024-01-04T22:43:15.390523Z",
     "iopub.status.busy": "2024-01-04T22:43:15.390255Z",
     "iopub.status.idle": "2024-01-04T22:43:15.395550Z",
     "shell.execute_reply": "2024-01-04T22:43:15.394702Z",
     "shell.execute_reply.started": "2024-01-04T22:43:15.390498Z"
    },
    "jupyter": {
     "outputs_hidden": false
    }
   },
   "outputs": [
    {
     "data": {
      "text/plain": [
       "<QCCurrencyEnum.USD: 17>"
      ]
     },
     "execution_count": 40,
     "metadata": {},
     "output_type": "execute_result"
    }
   ],
   "source": [
    "qcf.QCCurrencyEnum.USD"
   ]
  },
  {
   "cell_type": "markdown",
   "metadata": {},
   "source": [
    "#### Enum para FXRates"
   ]
  },
  {
   "cell_type": "code",
   "execution_count": 41,
   "metadata": {
    "execution": {
     "iopub.execute_input": "2024-01-04T22:43:15.397195Z",
     "iopub.status.busy": "2024-01-04T22:43:15.396889Z",
     "iopub.status.idle": "2024-01-04T22:43:15.402083Z",
     "shell.execute_reply": "2024-01-04T22:43:15.401265Z",
     "shell.execute_reply.started": "2024-01-04T22:43:15.397170Z"
    }
   },
   "outputs": [
    {
     "data": {
      "text/plain": [
       "<QCFxRateEnum.USDCLP: 14>"
      ]
     },
     "execution_count": 41,
     "metadata": {},
     "output_type": "execute_result"
    }
   ],
   "source": [
    "qcf.QCFxRateEnum.USDCLP"
   ]
  },
  {
   "cell_type": "code",
   "execution_count": 42,
   "metadata": {
    "collapsed": false,
    "execution": {
     "iopub.execute_input": "2024-01-04T22:43:15.403411Z",
     "iopub.status.busy": "2024-01-04T22:43:15.403120Z",
     "iopub.status.idle": "2024-01-04T22:43:15.408622Z",
     "shell.execute_reply": "2024-01-04T22:43:15.407855Z",
     "shell.execute_reply.started": "2024-01-04T22:43:15.403384Z"
    },
    "jupyter": {
     "outputs_hidden": false
    }
   },
   "outputs": [
    {
     "data": {
      "text/plain": [
       "<QCFxRateEnum.EURUSD: 28>"
      ]
     },
     "execution_count": 42,
     "metadata": {},
     "output_type": "execute_result"
    }
   ],
   "source": [
    "qcf.QCFxRateEnum.EURUSD"
   ]
  },
  {
   "cell_type": "markdown",
   "metadata": {},
   "source": [
    "Ambos `enum` se pueden utilizar con el método `convert`:"
   ]
  },
  {
   "cell_type": "code",
   "execution_count": 43,
   "metadata": {
    "execution": {
     "iopub.execute_input": "2024-01-04T22:43:15.410215Z",
     "iopub.status.busy": "2024-01-04T22:43:15.409904Z",
     "iopub.status.idle": "2024-01-04T22:43:15.414261Z",
     "shell.execute_reply": "2024-01-04T22:43:15.413528Z",
     "shell.execute_reply.started": "2024-01-04T22:43:15.410187Z"
    }
   },
   "outputs": [
    {
     "name": "stdout",
     "output_type": "stream",
     "text": [
      "Monto en USD: 1,000\n"
     ]
    }
   ],
   "source": [
    "print(f'Monto en USD: {ccy_converter.convert(800_000, qcf.QCCurrencyEnum.CLP, 800, qcf.QCFxRateEnum.USDCLP):,.0f}')"
   ]
  },
  {
   "cell_type": "code",
   "execution_count": 44,
   "metadata": {
    "execution": {
     "iopub.execute_input": "2024-01-04T22:43:15.417300Z",
     "iopub.status.busy": "2024-01-04T22:43:15.417031Z",
     "iopub.status.idle": "2024-01-04T22:43:15.421467Z",
     "shell.execute_reply": "2024-01-04T22:43:15.420625Z",
     "shell.execute_reply.started": "2024-01-04T22:43:15.417276Z"
    }
   },
   "outputs": [
    {
     "name": "stdout",
     "output_type": "stream",
     "text": [
      "Monto en USD: 800,000\n"
     ]
    }
   ],
   "source": [
    "print(f'Monto en USD: {ccy_converter.convert(1_000, qcf.QCCurrencyEnum.USD, 800, qcf.QCFxRateEnum.USDCLP):,.0f}')"
   ]
  },
  {
   "cell_type": "markdown",
   "metadata": {},
   "source": [
    "## Time Series"
   ]
  },
  {
   "cell_type": "code",
   "execution_count": 45,
   "metadata": {
    "ExecuteTime": {
     "end_time": "2022-01-21T13:43:02.510748Z",
     "start_time": "2022-01-21T13:43:02.496786Z"
    },
    "execution": {
     "iopub.execute_input": "2024-01-04T22:43:15.422746Z",
     "iopub.status.busy": "2024-01-04T22:43:15.422378Z",
     "iopub.status.idle": "2024-01-04T22:43:15.426212Z",
     "shell.execute_reply": "2024-01-04T22:43:15.425445Z",
     "shell.execute_reply.started": "2024-01-04T22:43:15.422720Z"
    }
   },
   "outputs": [],
   "source": [
    "ts = qcf.time_series()\n",
    "ts[fecha1] = 10.0"
   ]
  },
  {
   "cell_type": "code",
   "execution_count": 46,
   "metadata": {
    "execution": {
     "iopub.execute_input": "2024-01-04T22:43:15.433426Z",
     "iopub.status.busy": "2024-01-04T22:43:15.433133Z",
     "iopub.status.idle": "2024-01-04T22:43:15.438399Z",
     "shell.execute_reply": "2024-01-04T22:43:15.437696Z",
     "shell.execute_reply.started": "2024-01-04T22:43:15.433401Z"
    }
   },
   "outputs": [
    {
     "data": {
      "text/plain": [
       "qcfinancial.time_series"
      ]
     },
     "execution_count": 46,
     "metadata": {},
     "output_type": "execute_result"
    }
   ],
   "source": [
    "type(ts)"
   ]
  },
  {
   "cell_type": "code",
   "execution_count": 47,
   "metadata": {
    "execution": {
     "iopub.execute_input": "2024-01-04T22:43:15.457029Z",
     "iopub.status.busy": "2024-01-04T22:43:15.456586Z",
     "iopub.status.idle": "2024-01-04T22:43:15.462513Z",
     "shell.execute_reply": "2024-01-04T22:43:15.461429Z",
     "shell.execute_reply.started": "2024-01-04T22:43:15.457002Z"
    }
   },
   "outputs": [
    {
     "name": "stdout",
     "output_type": "stream",
     "text": [
      "2019-10-17 10.0\n"
     ]
    }
   ],
   "source": [
    "for k, v in ts.items():\n",
    "    print(k, v)"
   ]
  },
  {
   "cell_type": "markdown",
   "metadata": {},
   "source": [
    "## Cashflows"
   ]
  },
  {
   "cell_type": "markdown",
   "metadata": {},
   "source": [
    "### Simple Cashflow\n",
    "Un objeto de tipo `SimpleCashflow` representa un flujo de caja cierto en una fecha y moneda."
   ]
  },
  {
   "cell_type": "code",
   "execution_count": 48,
   "metadata": {
    "ExecuteTime": {
     "end_time": "2022-01-21T13:43:02.463874Z",
     "start_time": "2022-01-21T13:43:02.449912Z"
    },
    "execution": {
     "iopub.execute_input": "2024-01-04T22:43:15.464421Z",
     "iopub.status.busy": "2024-01-04T22:43:15.464114Z",
     "iopub.status.idle": "2024-01-04T22:43:15.468343Z",
     "shell.execute_reply": "2024-01-04T22:43:15.467382Z",
     "shell.execute_reply.started": "2024-01-04T22:43:15.464392Z"
    }
   },
   "outputs": [],
   "source": [
    "# Como se inicializa un objeto SimpleCashflow.\n",
    "simple_cashflow = qcf.SimpleCashflow(\n",
    "    fecha1, 100, clp  # fecha del flujo  # monto\n",
    ")  # moneda"
   ]
  },
  {
   "cell_type": "code",
   "execution_count": 49,
   "metadata": {
    "execution": {
     "iopub.execute_input": "2024-01-04T22:43:15.481106Z",
     "iopub.status.busy": "2024-01-04T22:43:15.480790Z",
     "iopub.status.idle": "2024-01-04T22:43:15.486303Z",
     "shell.execute_reply": "2024-01-04T22:43:15.485438Z",
     "shell.execute_reply.started": "2024-01-04T22:43:15.481077Z"
    }
   },
   "outputs": [
    {
     "data": {
      "text/plain": [
       "<qcfinancial.SimpleCashflow at 0x129f98c30>"
      ]
     },
     "execution_count": 49,
     "metadata": {},
     "output_type": "execute_result"
    }
   ],
   "source": [
    "simple_cashflow"
   ]
  },
  {
   "cell_type": "code",
   "execution_count": 50,
   "metadata": {
    "ExecuteTime": {
     "end_time": "2022-01-21T13:43:02.479832Z",
     "start_time": "2022-01-21T13:43:02.464871Z"
    },
    "execution": {
     "iopub.execute_input": "2024-01-04T22:43:15.504047Z",
     "iopub.status.busy": "2024-01-04T22:43:15.503721Z",
     "iopub.status.idle": "2024-01-04T22:43:15.509070Z",
     "shell.execute_reply": "2024-01-04T22:43:15.508205Z",
     "shell.execute_reply.started": "2024-01-04T22:43:15.504018Z"
    }
   },
   "outputs": [
    {
     "name": "stdout",
     "output_type": "stream",
     "text": [
      "100.0\n",
      "CLP\n",
      "2019-10-17\n"
     ]
    }
   ],
   "source": [
    "# Métodos amount, ccy y date\n",
    "print(simple_cashflow.amount())\n",
    "print(simple_cashflow.ccy().get_iso_code())\n",
    "print(simple_cashflow.date())"
   ]
  },
  {
   "cell_type": "markdown",
   "metadata": {},
   "source": [
    " Primer ejemplo de la función `show`. Envuelve de forma cómoda todo el flujo en una tupla. La función show está sobregargada y admite muchos tipos de flujo."
   ]
  },
  {
   "cell_type": "code",
   "execution_count": 51,
   "metadata": {
    "ExecuteTime": {
     "end_time": "2022-01-21T13:43:02.495789Z",
     "start_time": "2022-01-21T13:43:02.480830Z"
    },
    "execution": {
     "iopub.execute_input": "2024-01-04T22:43:15.527094Z",
     "iopub.status.busy": "2024-01-04T22:43:15.526768Z",
     "iopub.status.idle": "2024-01-04T22:43:15.532802Z",
     "shell.execute_reply": "2024-01-04T22:43:15.532063Z",
     "shell.execute_reply.started": "2024-01-04T22:43:15.527065Z"
    }
   },
   "outputs": [
    {
     "data": {
      "text/plain": [
       "('2019-10-17', 100.0, 'CLP')"
      ]
     },
     "execution_count": 51,
     "metadata": {},
     "output_type": "execute_result"
    }
   ],
   "source": [
    "qcf.show(simple_cashflow)"
   ]
  },
  {
   "cell_type": "markdown",
   "metadata": {},
   "source": [
    "### Simple Multicurrency Cashflow\n",
    "Un objeto de tipo `SimpleMultiCurrencyCashflow` representa un flujo de caja cierto en una fecha y moneda, que, sin embargo, se liquidará en una segunda moneda utilizando el valor de un índice de tipo de cambio. Para dar de alta uno de estos objetos se requiere:\n",
    "\n",
    "- `QCDate`: fecha final\n",
    "- `float`: nominal\n",
    "- `QCCurrency`: la moneda del nominal\n",
    "- `QCDate`: la fecha de publicación del `FXRateIndex` que se usará en la conversión\n",
    "- `QCCurrency`: la moneda final del flujo\n",
    "- `FXRateIndex`: el índice de tipo de cambio a utilizar\n",
    "- `float`: el valor del índice de tipo de cambio"
   ]
  },
  {
   "cell_type": "code",
   "execution_count": 52,
   "metadata": {
    "ExecuteTime": {
     "end_time": "2022-01-21T13:43:02.557623Z",
     "start_time": "2022-01-21T13:43:02.542664Z"
    },
    "execution": {
     "iopub.execute_input": "2024-01-04T22:43:15.551000Z",
     "iopub.status.busy": "2024-01-04T22:43:15.550670Z",
     "iopub.status.idle": "2024-01-04T22:43:15.556665Z",
     "shell.execute_reply": "2024-01-04T22:43:15.555911Z",
     "shell.execute_reply.started": "2024-01-04T22:43:15.550971Z"
    }
   },
   "outputs": [
    {
     "name": "stdout",
     "output_type": "stream",
     "text": [
      "fecha flujo: 2019-11-16\n",
      "nominal: 700.0\n",
      "moneda nominal: CLP\n",
      "flujo: 1.0\n",
      "moneda flujo: USD\n"
     ]
    }
   ],
   "source": [
    "# Ejemplo.\n",
    "simple_mccy_cashflow = qcf.SimpleMultiCurrencyCashflow(\n",
    "    fecha3, 700.00, clp, fecha3, usd, usdclp_obs, 700.00\n",
    ")\n",
    "print(\"fecha flujo:\", simple_mccy_cashflow.date())\n",
    "print(\"nominal:\", simple_mccy_cashflow.nominal())\n",
    "print(\"moneda nominal:\", simple_mccy_cashflow.ccy().get_iso_code())\n",
    "print(\"flujo:\", simple_mccy_cashflow.amount())\n",
    "print(\"moneda flujo:\", simple_mccy_cashflow.settlement_ccy().get_iso_code())"
   ]
  },
  {
   "cell_type": "code",
   "execution_count": 53,
   "metadata": {
    "ExecuteTime": {
     "end_time": "2022-01-21T13:43:02.573581Z",
     "start_time": "2022-01-21T13:43:02.558621Z"
    },
    "execution": {
     "iopub.execute_input": "2024-01-04T22:43:15.573823Z",
     "iopub.status.busy": "2024-01-04T22:43:15.573503Z",
     "iopub.status.idle": "2024-01-04T22:43:15.578659Z",
     "shell.execute_reply": "2024-01-04T22:43:15.577850Z",
     "shell.execute_reply.started": "2024-01-04T22:43:15.573794Z"
    }
   },
   "outputs": [
    {
     "name": "stdout",
     "output_type": "stream",
     "text": [
      "flujo: 0.875\n"
     ]
    }
   ],
   "source": [
    "# El valor del índice se puede alterar (existe un setter).\n",
    "simple_mccy_cashflow.set_fx_rate_index_value(800.00)\n",
    "print(\"flujo:\", simple_mccy_cashflow.amount())"
   ]
  },
  {
   "cell_type": "code",
   "execution_count": 54,
   "metadata": {
    "ExecuteTime": {
     "end_time": "2022-01-21T13:43:02.588541Z",
     "start_time": "2022-01-21T13:43:02.574578Z"
    },
    "execution": {
     "iopub.execute_input": "2024-01-04T22:43:15.597787Z",
     "iopub.status.busy": "2024-01-04T22:43:15.597450Z",
     "iopub.status.idle": "2024-01-04T22:43:15.603628Z",
     "shell.execute_reply": "2024-01-04T22:43:15.602841Z",
     "shell.execute_reply.started": "2024-01-04T22:43:15.597758Z"
    }
   },
   "outputs": [
    {
     "name": "stdout",
     "output_type": "stream",
     "text": [
      "fecha flujo: 2019-11-16\n",
      "nominal: 1.0\n",
      "moneda nominal: USD\n",
      "flujo: 700.0\n",
      "moneda flujo: CLP\n"
     ]
    }
   ],
   "source": [
    "# Ejemplo 2. Las monedas están invertidas respecto al caso anterior. El valor del índice se usa de la forma correcta.\n",
    "simple_mccy_cashflow = qcf.SimpleMultiCurrencyCashflow(\n",
    "    fecha3, 1, usd, fecha3, clp, usdclp_obs, 700.00\n",
    ")\n",
    "print(\"fecha flujo:\", simple_mccy_cashflow.date())\n",
    "print(\"nominal:\", simple_mccy_cashflow.nominal())\n",
    "print(\"moneda nominal:\", simple_mccy_cashflow.ccy().get_iso_code())\n",
    "print(\"flujo:\", simple_mccy_cashflow.amount())\n",
    "print(\"moneda flujo:\", simple_mccy_cashflow.settlement_ccy().get_iso_code())"
   ]
  },
  {
   "cell_type": "code",
   "execution_count": 55,
   "metadata": {
    "ExecuteTime": {
     "end_time": "2022-01-21T13:43:02.604498Z",
     "start_time": "2022-01-21T13:43:02.590536Z"
    },
    "execution": {
     "iopub.execute_input": "2024-01-04T22:43:15.620498Z",
     "iopub.status.busy": "2024-01-04T22:43:15.620178Z",
     "iopub.status.idle": "2024-01-04T22:43:15.626402Z",
     "shell.execute_reply": "2024-01-04T22:43:15.625586Z",
     "shell.execute_reply.started": "2024-01-04T22:43:15.620469Z"
    }
   },
   "outputs": [
    {
     "name": "stdout",
     "output_type": "stream",
     "text": [
      "Error: Fx Rate Index provided is not compatible with nominal and settlement currency. \n"
     ]
    }
   ],
   "source": [
    "# Ejemplo 3. Hay inconsistencia entre las monedas y el tipo de cambio del índice.\n",
    "eur = qcf.QCEUR()\n",
    "try:\n",
    "    simple_mccy_cashflow = qcf.SimpleMultiCurrencyCashflow(\n",
    "        fecha3, 1, usd, fecha3, eur, usdclp_obs, 700.00\n",
    "    )\n",
    "except ValueError as e:\n",
    "    print(\"Error:\", e)"
   ]
  },
  {
   "cell_type": "code",
   "execution_count": 56,
   "metadata": {
    "ExecuteTime": {
     "end_time": "2022-01-21T13:43:02.619460Z",
     "start_time": "2022-01-21T13:43:02.605495Z"
    },
    "execution": {
     "iopub.execute_input": "2024-01-04T22:43:15.643158Z",
     "iopub.status.busy": "2024-01-04T22:43:15.642831Z",
     "iopub.status.idle": "2024-01-04T22:43:15.648530Z",
     "shell.execute_reply": "2024-01-04T22:43:15.647711Z",
     "shell.execute_reply.started": "2024-01-04T22:43:15.643130Z"
    }
   },
   "outputs": [
    {
     "data": {
      "text/plain": [
       "('2019-11-16', 1.0, 'USD', '2019-11-16', 'CLP', 'USDOBS', 700.0, 700.0)"
      ]
     },
     "execution_count": 56,
     "metadata": {},
     "output_type": "execute_result"
    }
   ],
   "source": [
    "# Función show\n",
    "qcf.show(simple_mccy_cashflow)"
   ]
  },
  {
   "cell_type": "code",
   "execution_count": 57,
   "metadata": {
    "execution": {
     "iopub.execute_input": "2024-01-04T22:43:15.666349Z",
     "iopub.status.busy": "2024-01-04T22:43:15.666007Z",
     "iopub.status.idle": "2024-01-04T22:43:15.671517Z",
     "shell.execute_reply": "2024-01-04T22:43:15.670573Z",
     "shell.execute_reply.started": "2024-01-04T22:43:15.666320Z"
    }
   },
   "outputs": [
    {
     "data": {
      "text/plain": [
       "'SimpleMultiCurrencyCashflow'"
      ]
     },
     "execution_count": 57,
     "metadata": {},
     "output_type": "execute_result"
    }
   ],
   "source": [
    "simple_mccy_cashflow.get_type()"
   ]
  },
  {
   "cell_type": "markdown",
   "metadata": {},
   "source": [
    "### Fixed Rate Cashflow\n",
    "Un objeto de tipo `FixedRateCashflow` representa un flujo de caja calculado a partir de la aplicación de una tasa prefijada, entre dos fechas prefijadas a un nominal prefijado. Para dar de alta uno de estos objetos se requiere:\n",
    "\n",
    "- `QCDate`: fecha inicio (para la aplicación de la tasa)\n",
    "- `QCDate`: fecha final (para la aplicación de la tasa)\n",
    "- `QCDate`: fecha de pago\n",
    "- `float`: nominal (monto al que se le aplica la tasa)\n",
    "- `float`: amortización (eventual flujo de caja que corresponde a una porción del nominal)\n",
    "- `bool`: indica si la amortización anterior es un flujo de caja o sólo una disminución de nominal\n",
    "- `QCInterestRate`: la tasa de interés a aplicar (su valor y convenciones)\n",
    "- `QCCurrency`: moneda del nominal y del flujo de caja"
   ]
  },
  {
   "cell_type": "code",
   "execution_count": 58,
   "metadata": {
    "ExecuteTime": {
     "end_time": "2022-01-21T13:43:02.635039Z",
     "start_time": "2022-01-21T13:43:02.621077Z"
    },
    "execution": {
     "iopub.execute_input": "2024-01-04T22:43:15.673555Z",
     "iopub.status.busy": "2024-01-04T22:43:15.673235Z",
     "iopub.status.idle": "2024-01-04T22:43:15.679194Z",
     "shell.execute_reply": "2024-01-04T22:43:15.678280Z",
     "shell.execute_reply.started": "2024-01-04T22:43:15.673526Z"
    }
   },
   "outputs": [],
   "source": [
    "# Ejemplo\n",
    "fecha_inicio = qcf.QCDate(20, 9, 2018)\n",
    "fecha_final = qcf.QCDate(20, 9, 2019)\n",
    "fecha_pago = qcf.QCDate(23, 9, 2019)\n",
    "tasa = qcf.QCInterestRate(0.1, act360, lin_wf)\n",
    "fixed_rate_cashflow = qcf.FixedRateCashflow(\n",
    "    fecha_inicio, \n",
    "    fecha_final, \n",
    "    fecha_pago, \n",
    "    1_000_000_000.0, \n",
    "    100_000_000.0, \n",
    "    True, \n",
    "    tasa, \n",
    "    clp\n",
    ")"
   ]
  },
  {
   "cell_type": "code",
   "execution_count": 59,
   "metadata": {
    "ExecuteTime": {
     "end_time": "2022-01-21T13:43:02.650997Z",
     "start_time": "2022-01-21T13:43:02.637034Z"
    },
    "execution": {
     "iopub.execute_input": "2024-01-04T22:43:15.691694Z",
     "iopub.status.busy": "2024-01-04T22:43:15.691378Z",
     "iopub.status.idle": "2024-01-04T22:43:15.697336Z",
     "shell.execute_reply": "2024-01-04T22:43:15.696501Z",
     "shell.execute_reply.started": "2024-01-04T22:43:15.691666Z"
    }
   },
   "outputs": [
    {
     "name": "stdout",
     "output_type": "stream",
     "text": [
      "Fecha Inicio: 2018-09-20\n",
      "Fecha Final: 2019-09-20\n",
      "Fecha Pago: 2019-09-23\n",
      "Moneda: CLP\n",
      "Nominal: 1,000,000,000\n",
      "Amortización: 100,000,000\n"
     ]
    }
   ],
   "source": [
    "# Getters\n",
    "print(\"Fecha Inicio:\", fixed_rate_cashflow.get_start_date())\n",
    "print(\"Fecha Final:\", fixed_rate_cashflow.get_end_date())\n",
    "print(\"Fecha Pago:\", fixed_rate_cashflow.get_settlement_date())\n",
    "print(\"Moneda:\", fixed_rate_cashflow.ccy().get_iso_code())\n",
    "print(f\"Nominal: {fixed_rate_cashflow.get_nominal():,.0f}\")\n",
    "print(f\"Amortización: {fixed_rate_cashflow.get_amortization():,.0f}\")"
   ]
  },
  {
   "cell_type": "code",
   "execution_count": 60,
   "metadata": {
    "ExecuteTime": {
     "end_time": "2022-01-21T13:43:02.666955Z",
     "start_time": "2022-01-21T13:43:02.652992Z"
    },
    "execution": {
     "iopub.execute_input": "2024-01-04T22:43:15.714776Z",
     "iopub.status.busy": "2024-01-04T22:43:15.714454Z",
     "iopub.status.idle": "2024-01-04T22:43:15.720199Z",
     "shell.execute_reply": "2024-01-04T22:43:15.719299Z",
     "shell.execute_reply.started": "2024-01-04T22:43:15.714747Z"
    }
   },
   "outputs": [
    {
     "name": "stdout",
     "output_type": "stream",
     "text": [
      "Nuevo nominal: 2,000,000,000\n",
      "Nueva amortización: 200,000,000\n"
     ]
    }
   ],
   "source": [
    "# Setters\n",
    "# TODO: set_rate\n",
    "nuevo_nominal = 2_000_000_000.0\n",
    "fixed_rate_cashflow.set_nominal(nuevo_nominal)\n",
    "print(f\"Nuevo nominal: {fixed_rate_cashflow.get_nominal():,.0f}\")\n",
    "\n",
    "nueva_amortizacion = 200_000_000.0\n",
    "fixed_rate_cashflow.set_amortization(nueva_amortizacion)\n",
    "print(f\"Nueva amortización: {fixed_rate_cashflow.get_amortization():,.0f}\")"
   ]
  },
  {
   "cell_type": "code",
   "execution_count": 61,
   "metadata": {
    "ExecuteTime": {
     "end_time": "2022-01-21T13:43:02.681915Z",
     "start_time": "2022-01-21T13:43:02.667952Z"
    },
    "execution": {
     "iopub.execute_input": "2024-01-04T22:43:15.738621Z",
     "iopub.status.busy": "2024-01-04T22:43:15.738289Z",
     "iopub.status.idle": "2024-01-04T22:43:15.744257Z",
     "shell.execute_reply": "2024-01-04T22:43:15.743395Z",
     "shell.execute_reply.started": "2024-01-04T22:43:15.738593Z"
    }
   },
   "outputs": [
    {
     "name": "stdout",
     "output_type": "stream",
     "text": [
      "Flujo Total: 402,777,778\n",
      "Check: 402,777,778\n",
      "\n",
      "Interés Devengado: 57,777,778\n",
      "Check: 57,777,778\n"
     ]
    }
   ],
   "source": [
    "# Cálculos\n",
    "print(f\"Flujo Total: {fixed_rate_cashflow.amount():,.0f}\")\n",
    "print(f\"Check: {fixed_rate_cashflow.get_nominal() * 0.1 * 365.0 / 360 + fixed_rate_cashflow.get_amortization():,.0f}\")\n",
    "print()\n",
    "fecha_intermedia = qcf.QCDate(2, 1, 2019)\n",
    "print(f\"Interés Devengado: {fixed_rate_cashflow.accrued_interest(fecha_intermedia):,.0f}\")\n",
    "print(f\"Check: {fixed_rate_cashflow.get_nominal() * 0.1 * fecha_inicio.day_diff(fecha_intermedia) / 360.0:,.0f}\")"
   ]
  },
  {
   "cell_type": "code",
   "execution_count": 62,
   "metadata": {
    "ExecuteTime": {
     "end_time": "2022-01-21T13:43:02.696875Z",
     "start_time": "2022-01-21T13:43:02.682912Z"
    },
    "execution": {
     "iopub.execute_input": "2024-01-04T22:43:15.761505Z",
     "iopub.status.busy": "2024-01-04T22:43:15.761177Z",
     "iopub.status.idle": "2024-01-04T22:43:15.765888Z",
     "shell.execute_reply": "2024-01-04T22:43:15.765049Z",
     "shell.execute_reply.started": "2024-01-04T22:43:15.761476Z"
    }
   },
   "outputs": [
    {
     "name": "stdout",
     "output_type": "stream",
     "text": [
      "('2018-09-20', '2019-09-20', '2019-09-23', 2000000000.0, 200000000.0, 202777777.77777794, True, 402777777.7777779, 'CLP', 0.1, 'LinAct360')\n"
     ]
    }
   ],
   "source": [
    "# Función show\n",
    "print(qcf.show(fixed_rate_cashflow))"
   ]
  },
  {
   "cell_type": "code",
   "execution_count": 63,
   "metadata": {
    "ExecuteTime": {
     "end_time": "2022-01-21T13:43:02.712832Z",
     "start_time": "2022-01-21T13:43:02.698869Z"
    },
    "execution": {
     "iopub.execute_input": "2024-01-04T22:43:15.784240Z",
     "iopub.status.busy": "2024-01-04T22:43:15.783911Z",
     "iopub.status.idle": "2024-01-04T22:43:15.789025Z",
     "shell.execute_reply": "2024-01-04T22:43:15.788017Z",
     "shell.execute_reply.started": "2024-01-04T22:43:15.784211Z"
    }
   },
   "outputs": [
    {
     "name": "stdout",
     "output_type": "stream",
     "text": [
      "Interés total: al 202,777,778\n"
     ]
    }
   ],
   "source": [
    "print(f\"Interés total: al {fixed_rate_cashflow.accrued_interest(fixed_rate_cashflow.get_end_date()):,.0f}\")"
   ]
  },
  {
   "cell_type": "code",
   "execution_count": 64,
   "metadata": {
    "execution": {
     "iopub.execute_input": "2024-01-04T22:43:15.806913Z",
     "iopub.status.busy": "2024-01-04T22:43:15.806587Z",
     "iopub.status.idle": "2024-01-04T22:43:15.812356Z",
     "shell.execute_reply": "2024-01-04T22:43:15.811530Z",
     "shell.execute_reply.started": "2024-01-04T22:43:15.806884Z"
    }
   },
   "outputs": [
    {
     "data": {
      "text/plain": [
       "'FixedRateCashflow'"
      ]
     },
     "execution_count": 64,
     "metadata": {},
     "output_type": "execute_result"
    }
   ],
   "source": [
    "fixed_rate_cashflow.get_type()"
   ]
  },
  {
   "cell_type": "markdown",
   "metadata": {},
   "source": [
    "### Fixed Rate Multi Currency Cashflow\n",
    "Un objeto de tipo `FixedRateMultiCurrencyCashflow` representa un flujo de caja a tasa fija (`FixedRateCashflow`) que se liquidará en una moneda distinta de la moneda del nominal utilizando el valor a una cierta fecha de un índice de tipo de cambio prefijado. Para dar de alta uno de estos objetos se requiere:\n",
    "\n",
    "- `QCDate`: fecha inicio (para la aplicación de la tasa)\n",
    "- `QCDate`: fecha final (para la aplicación de la tasa)\n",
    "- `QCDate`: fecha de pago\n",
    "- `float`: nominal (monto al que se le aplica la tasa)\n",
    "- `float`: amortización (eventual flujo de caja que corresponde a una porción del nominal)\n",
    "- `bool`: indica si la amortización anterior es un flujo de caja o sólo una disminución de nominal\n",
    "- `QCInterestRate`: la tasa de interés a aplicar (su valor y convenciones)\n",
    "- `QCCurrency`: moneda del nominal\n",
    "- `QCDate`: fecha de publicación del índice de tipo de cambio\n",
    "- `QCCurrency`: moneda en la que se liquida el flujo\n",
    "- `FXRateIndex`: índice de tipo de cambio a utilizar\n",
    "- `float`: valor del índice de tipo de cambio"
   ]
  },
  {
   "cell_type": "code",
   "execution_count": 65,
   "metadata": {
    "ExecuteTime": {
     "end_time": "2022-01-21T13:43:02.852459Z",
     "start_time": "2022-01-21T13:43:02.838497Z"
    },
    "execution": {
     "iopub.execute_input": "2024-01-04T22:43:15.829701Z",
     "iopub.status.busy": "2024-01-04T22:43:15.829376Z",
     "iopub.status.idle": "2024-01-04T22:43:15.836080Z",
     "shell.execute_reply": "2024-01-04T22:43:15.835304Z",
     "shell.execute_reply.started": "2024-01-04T22:43:15.829671Z"
    }
   },
   "outputs": [
    {
     "name": "stdout",
     "output_type": "stream",
     "text": [
      "<qcfinancial.FixedRateMultiCurrencyCashflow object at 0x129fb90b0>\n"
     ]
    }
   ],
   "source": [
    "# Ejemplo\n",
    "fecha_inicio = qcf.QCDate(20, 9, 2018)\n",
    "fecha_final = qcf.QCDate(20, 9, 2019)\n",
    "fecha_pago = qcf.QCDate(23, 9, 2019)\n",
    "fecha_publicacion = qcf.QCDate(23, 9, 2019)\n",
    "usd = qcf.QCUSD()\n",
    "indice = usdclp_obs\n",
    "valor_indice = 20.0\n",
    "nominal = 1_000.0\n",
    "amort = 1_000.0\n",
    "fixed_rate_mccy_cashflow = qcf.FixedRateMultiCurrencyCashflow(\n",
    "    fecha_inicio,\n",
    "    fecha_final,\n",
    "    fecha_pago,\n",
    "    nominal,\n",
    "    amort,\n",
    "    False,\n",
    "    tasa,\n",
    "    usd,\n",
    "    fecha_publicacion,\n",
    "    clp,\n",
    "    indice,\n",
    "    valor_indice,\n",
    ")\n",
    "print(fixed_rate_mccy_cashflow)"
   ]
  },
  {
   "cell_type": "markdown",
   "metadata": {},
   "source": [
    "**TODO: get_rate.** Este getter no debe ser un getter tradicional, ya que no es necesario que retorne una referencia a todo el objeto ``QCInterestRate``, basta con el valor y la descripción de yf y wf asociado (mejor llamarlo get_rate_info)."
   ]
  },
  {
   "cell_type": "code",
   "execution_count": 149,
   "metadata": {
    "ExecuteTime": {
     "end_time": "2022-01-21T13:43:02.868416Z",
     "start_time": "2022-01-21T13:43:02.853456Z"
    },
    "execution": {
     "iopub.execute_input": "2024-01-04T22:44:28.413668Z",
     "iopub.status.busy": "2024-01-04T22:44:28.413317Z",
     "iopub.status.idle": "2024-01-04T22:44:28.420389Z",
     "shell.execute_reply": "2024-01-04T22:44:28.419577Z",
     "shell.execute_reply.started": "2024-01-04T22:44:28.413638Z"
    }
   },
   "outputs": [
    {
     "name": "stdout",
     "output_type": "stream",
     "text": [
      "Fecha Inicio: 2018-09-20\n",
      "Fecha Final: 2019-09-20\n",
      "Fecha Pago: 2019-09-23\n",
      "Fecha Fijación Índice FX: 2019-09-23\n",
      "Moneda del Nominal: USD\n",
      "Nominal: 1,000\n",
      "Amortización: 1,000\n",
      "Moneda de Liquidación: CLP\n"
     ]
    }
   ],
   "source": [
    "# Getters\n",
    "print(\"Fecha Inicio:\", fixed_rate_mccy_cashflow.get_start_date())\n",
    "print(\"Fecha Final:\", fixed_rate_mccy_cashflow.get_end_date())\n",
    "print(\"Fecha Pago:\", fixed_rate_mccy_cashflow.get_settlement_date())\n",
    "print(\"Fecha Fijación Índice FX:\", fixed_rate_mccy_cashflow.get_fx_fixing_date())\n",
    "print(\"Moneda del Nominal:\", fixed_rate_mccy_cashflow.ccy())\n",
    "print(f\"Nominal: {fixed_rate_mccy_cashflow.get_nominal():,.0f}\")\n",
    "print(f\"Amortización: {fixed_rate_mccy_cashflow.get_amortization():,.0f}\")\n",
    "print(\"Moneda de Liquidación:\", fixed_rate_mccy_cashflow.settlement_currency())"
   ]
  },
  {
   "cell_type": "markdown",
   "metadata": {},
   "source": [
    "**TODO: set_rate_value.** Debe establecer el valor de la tasa de interés."
   ]
  },
  {
   "cell_type": "code",
   "execution_count": 150,
   "metadata": {
    "ExecuteTime": {
     "end_time": "2022-01-21T13:43:02.884373Z",
     "start_time": "2022-01-21T13:43:02.870411Z"
    },
    "execution": {
     "iopub.execute_input": "2024-01-04T22:44:38.258710Z",
     "iopub.status.busy": "2024-01-04T22:44:38.258367Z",
     "iopub.status.idle": "2024-01-04T22:44:38.264096Z",
     "shell.execute_reply": "2024-01-04T22:44:38.263310Z",
     "shell.execute_reply.started": "2024-01-04T22:44:38.258680Z"
    }
   },
   "outputs": [
    {
     "name": "stdout",
     "output_type": "stream",
     "text": [
      "Nuevo nominal: 100.0\n",
      "Nueva amortización: 10.0\n"
     ]
    }
   ],
   "source": [
    "# Setters\n",
    "nuevo_nominal = 100.0\n",
    "fixed_rate_mccy_cashflow.set_nominal(nuevo_nominal)\n",
    "print(f\"Nuevo nominal: {fixed_rate_mccy_cashflow.get_nominal():,.1f}\")\n",
    "\n",
    "nueva_amortizacion = 10.0\n",
    "fixed_rate_mccy_cashflow.set_amortization(nueva_amortizacion)\n",
    "print(f\"Nueva amortización: {fixed_rate_mccy_cashflow.get_amortization():,.1f}\")"
   ]
  },
  {
   "cell_type": "code",
   "execution_count": 151,
   "metadata": {
    "ExecuteTime": {
     "end_time": "2022-01-21T13:43:02.900331Z",
     "start_time": "2022-01-21T13:43:02.885371Z"
    },
    "execution": {
     "iopub.execute_input": "2024-01-04T22:44:39.131501Z",
     "iopub.status.busy": "2024-01-04T22:44:39.131134Z",
     "iopub.status.idle": "2024-01-04T22:44:39.138197Z",
     "shell.execute_reply": "2024-01-04T22:44:39.137244Z",
     "shell.execute_reply.started": "2024-01-04T22:44:39.131470Z"
    }
   },
   "outputs": [
    {
     "name": "stdout",
     "output_type": "stream",
     "text": [
      "Flujo Total: 10.14\n",
      "Check: 101.39\n",
      "\n",
      "Interés Devengado: 2.89\n",
      "Check: -7.25\n"
     ]
    }
   ],
   "source": [
    "# Cálculos\n",
    "fixed_rate_mccy_cashflow.set_nominal(nominal)\n",
    "fixed_rate_mccy_cashflow.set_amortization(amort)\n",
    "print(f\"Flujo Total: {fixed_rate_mccy_cashflow.amount():,.2f}\")\n",
    "print(f\"Check: {(fixed_rate_mccy_cashflow.get_nominal() * 0.1 * 365.0 / 360) * valor_indice:,.2f}\")\n",
    "print()\n",
    "fecha_intermedia = qcf.QCDate(2, 1, 2019)\n",
    "print(f\"Interés Devengado: {fixed_rate_mccy_cashflow.accrued_interest(fecha_intermedia):,.02f}\")\n",
    "print(f\"Check: {fixed_rate_mccy_cashflow.get_nominal() * 0.1 * fecha_inicio.day_diff(fecha_intermedia) / 360.0:,.02f}\")"
   ]
  },
  {
   "cell_type": "code",
   "execution_count": 152,
   "metadata": {
    "ExecuteTime": {
     "end_time": "2022-01-21T13:43:02.915291Z",
     "start_time": "2022-01-21T13:43:02.901329Z"
    },
    "execution": {
     "iopub.execute_input": "2024-01-04T22:44:39.936667Z",
     "iopub.status.busy": "2024-01-04T22:44:39.936297Z",
     "iopub.status.idle": "2024-01-04T22:44:39.940765Z",
     "shell.execute_reply": "2024-01-04T22:44:39.939719Z",
     "shell.execute_reply.started": "2024-01-04T22:44:39.936635Z"
    }
   },
   "outputs": [],
   "source": [
    "ts = qcf.time_series()"
   ]
  },
  {
   "cell_type": "code",
   "execution_count": 153,
   "metadata": {
    "ExecuteTime": {
     "end_time": "2022-01-21T13:43:02.930251Z",
     "start_time": "2022-01-21T13:43:02.916289Z"
    },
    "execution": {
     "iopub.execute_input": "2024-01-04T22:44:40.712899Z",
     "iopub.status.busy": "2024-01-04T22:44:40.712555Z",
     "iopub.status.idle": "2024-01-04T22:44:40.716701Z",
     "shell.execute_reply": "2024-01-04T22:44:40.715743Z",
     "shell.execute_reply.started": "2024-01-04T22:44:40.712870Z"
    }
   },
   "outputs": [],
   "source": [
    "ts[fecha_inicio] = 10"
   ]
  },
  {
   "cell_type": "code",
   "execution_count": 154,
   "metadata": {
    "ExecuteTime": {
     "end_time": "2022-01-21T13:43:02.946209Z",
     "start_time": "2022-01-21T13:43:02.931249Z"
    },
    "execution": {
     "iopub.execute_input": "2024-01-04T22:44:41.364768Z",
     "iopub.status.busy": "2024-01-04T22:44:41.364411Z",
     "iopub.status.idle": "2024-01-04T22:44:41.370210Z",
     "shell.execute_reply": "2024-01-04T22:44:41.369309Z",
     "shell.execute_reply.started": "2024-01-04T22:44:41.364737Z"
    }
   },
   "outputs": [
    {
     "data": {
      "text/plain": [
       "10.0"
      ]
     },
     "execution_count": 154,
     "metadata": {},
     "output_type": "execute_result"
    }
   ],
   "source": [
    "ts[fecha_inicio]"
   ]
  },
  {
   "cell_type": "code",
   "execution_count": 155,
   "metadata": {
    "ExecuteTime": {
     "end_time": "2022-01-21T13:43:02.962166Z",
     "start_time": "2022-01-21T13:43:02.948204Z"
    },
    "execution": {
     "iopub.execute_input": "2024-01-04T22:44:41.993037Z",
     "iopub.status.busy": "2024-01-04T22:44:41.992638Z",
     "iopub.status.idle": "2024-01-04T22:44:41.997188Z",
     "shell.execute_reply": "2024-01-04T22:44:41.996204Z",
     "shell.execute_reply.started": "2024-01-04T22:44:41.993006Z"
    }
   },
   "outputs": [],
   "source": [
    "ts[fecha_intermedia] = 15"
   ]
  },
  {
   "cell_type": "code",
   "execution_count": 156,
   "metadata": {
    "ExecuteTime": {
     "end_time": "2022-01-21T13:43:02.978123Z",
     "start_time": "2022-01-21T13:43:02.964161Z"
    },
    "execution": {
     "iopub.execute_input": "2024-01-04T22:44:42.624748Z",
     "iopub.status.busy": "2024-01-04T22:44:42.624364Z",
     "iopub.status.idle": "2024-01-04T22:44:42.629722Z",
     "shell.execute_reply": "2024-01-04T22:44:42.628798Z",
     "shell.execute_reply.started": "2024-01-04T22:44:42.624717Z"
    }
   },
   "outputs": [
    {
     "name": "stdout",
     "output_type": "stream",
     "text": [
      "28.888888888888964\n"
     ]
    }
   ],
   "source": [
    "print(fixed_rate_mccy_cashflow.accrued_interest(fecha_intermedia, fecha_inicio, ts))"
   ]
  },
  {
   "cell_type": "code",
   "execution_count": 157,
   "metadata": {
    "ExecuteTime": {
     "end_time": "2022-01-21T13:43:02.993083Z",
     "start_time": "2022-01-21T13:43:02.979121Z"
    },
    "execution": {
     "iopub.execute_input": "2024-01-04T22:44:43.260979Z",
     "iopub.status.busy": "2024-01-04T22:44:43.260627Z",
     "iopub.status.idle": "2024-01-04T22:44:43.265759Z",
     "shell.execute_reply": "2024-01-04T22:44:43.264951Z",
     "shell.execute_reply.started": "2024-01-04T22:44:43.260949Z"
    }
   },
   "outputs": [
    {
     "name": "stdout",
     "output_type": "stream",
     "text": [
      "43.33333333333344\n"
     ]
    }
   ],
   "source": [
    "print(fixed_rate_mccy_cashflow.accrued_interest(fecha_intermedia, fecha_intermedia, ts))"
   ]
  },
  {
   "cell_type": "code",
   "execution_count": 158,
   "metadata": {
    "ExecuteTime": {
     "end_time": "2022-01-21T13:43:03.039958Z",
     "start_time": "2022-01-21T13:43:03.025996Z"
    },
    "execution": {
     "iopub.execute_input": "2024-01-04T22:44:43.912752Z",
     "iopub.status.busy": "2024-01-04T22:44:43.912385Z",
     "iopub.status.idle": "2024-01-04T22:44:43.917633Z",
     "shell.execute_reply": "2024-01-04T22:44:43.916777Z",
     "shell.execute_reply.started": "2024-01-04T22:44:43.912721Z"
    }
   },
   "outputs": [
    {
     "name": "stdout",
     "output_type": "stream",
     "text": [
      "('2018-09-20', '2019-09-20', '2019-09-23', 100.0, 100.0, 10.138888888888896, False, 10.138888888888896, 'USD', 0.1, 'LinAct360', '2019-09-23', 'CLP', 'USDOBS', 20.0, 2000.0, 202.77777777777794)\n"
     ]
    }
   ],
   "source": [
    "# Función show\n",
    "print(qcf.show(fixed_rate_mccy_cashflow))"
   ]
  },
  {
   "cell_type": "code",
   "execution_count": 159,
   "metadata": {
    "execution": {
     "iopub.execute_input": "2024-01-04T22:44:44.496964Z",
     "iopub.status.busy": "2024-01-04T22:44:44.496598Z",
     "iopub.status.idle": "2024-01-04T22:44:44.502811Z",
     "shell.execute_reply": "2024-01-04T22:44:44.501957Z",
     "shell.execute_reply.started": "2024-01-04T22:44:44.496933Z"
    }
   },
   "outputs": [
    {
     "data": {
      "text/plain": [
       "'FixedRateMultiCurrencyCashflow'"
      ]
     },
     "execution_count": 159,
     "metadata": {},
     "output_type": "execute_result"
    }
   ],
   "source": [
    "fixed_rate_mccy_cashflow.get_type()"
   ]
  },
  {
   "cell_type": "markdown",
   "metadata": {},
   "source": [
    "### Fixed Rate Cashflow 2\n",
    "Un objeto de tipo `FixedRateCashflow2` representa un flujo de caja calculado a partir de la aplicación de una tasa prefijada, entre dos fechas prefijadas a un nominal prefijado. Este tipo de cashflow puede ser *quantizado*, es decir, se puede cambiar su moneda de pago componiéndolo con un objeto adicional. Para dar de alta uno de estos objetos se requiere:\n",
    "\n",
    "- `QCDate`: fecha inicio (para la aplicación de la tasa)\n",
    "- `QCDate`: fecha final (para la aplicación de la tasa)\n",
    "- `QCDate`: fecha de pago\n",
    "- `float`: nominal (monto al que se le aplica la tasa)\n",
    "- `float`: amortización (eventual flujo de caja que corresponde a una porción del nominal)\n",
    "- `bool`: indica si la amortización anterior es un flujo de caja o sólo una disminución de nominal\n",
    "- `QCInterestRate`: la tasa de interés a aplicar (su valor y convenciones)\n",
    "- `QCCurrency`: moneda del nominal y del flujo de caja"
   ]
  },
  {
   "cell_type": "code",
   "execution_count": 160,
   "metadata": {
    "ExecuteTime": {
     "end_time": "2022-01-21T13:43:02.728789Z",
     "start_time": "2022-01-21T13:43:02.713829Z"
    },
    "execution": {
     "iopub.execute_input": "2024-01-04T22:44:45.673162Z",
     "iopub.status.busy": "2024-01-04T22:44:45.672796Z",
     "iopub.status.idle": "2024-01-04T22:44:45.678631Z",
     "shell.execute_reply": "2024-01-04T22:44:45.677809Z",
     "shell.execute_reply.started": "2024-01-04T22:44:45.673132Z"
    }
   },
   "outputs": [],
   "source": [
    "# Ejemplo\n",
    "fecha_inicio = qcf.QCDate(20, 9, 2018)\n",
    "fecha_final = qcf.QCDate(20, 9, 2019)\n",
    "fecha_pago = qcf.QCDate(23, 9, 2019)\n",
    "tasa = qcf.QCInterestRate(0.15, act360, lin_wf)\n",
    "fixed_rate_cashflow_2 = qcf.FixedRateCashflow2(\n",
    "    fecha_inicio, \n",
    "    fecha_final, \n",
    "    fecha_pago, \n",
    "    1_000_000_000.0,\n",
    "    100_000_000.0, \n",
    "    True, \n",
    "    tasa, \n",
    "    clp\n",
    ")"
   ]
  },
  {
   "cell_type": "code",
   "execution_count": 161,
   "metadata": {
    "ExecuteTime": {
     "end_time": "2022-01-21T13:43:02.744747Z",
     "start_time": "2022-01-21T13:43:02.730784Z"
    },
    "execution": {
     "iopub.execute_input": "2024-01-04T22:44:45.946966Z",
     "iopub.status.busy": "2024-01-04T22:44:45.946638Z",
     "iopub.status.idle": "2024-01-04T22:44:45.951042Z",
     "shell.execute_reply": "2024-01-04T22:44:45.950289Z",
     "shell.execute_reply.started": "2024-01-04T22:44:45.946940Z"
    }
   },
   "outputs": [
    {
     "name": "stdout",
     "output_type": "stream",
     "text": [
      "Accrued Fixing: 15.00%\n"
     ]
    }
   ],
   "source": [
    "print(f\"Accrued Fixing: {fixed_rate_cashflow_2.accrued_fixing(fecha_inicio):.2%}\")"
   ]
  },
  {
   "cell_type": "code",
   "execution_count": 162,
   "metadata": {
    "ExecuteTime": {
     "end_time": "2022-01-21T13:43:02.760704Z",
     "start_time": "2022-01-21T13:43:02.745744Z"
    },
    "execution": {
     "iopub.execute_input": "2024-01-04T22:44:46.318242Z",
     "iopub.status.busy": "2024-01-04T22:44:46.317894Z",
     "iopub.status.idle": "2024-01-04T22:44:46.327818Z",
     "shell.execute_reply": "2024-01-04T22:44:46.326968Z",
     "shell.execute_reply.started": "2024-01-04T22:44:46.318212Z"
    }
   },
   "outputs": [
    {
     "name": "stdout",
     "output_type": "stream",
     "text": [
      "amount: 252,083,333\n",
      "currency: CLP\n",
      "date: 2019-09-23\n",
      "start date: 2018-09-20\n",
      "end date: 2019-09-20\n",
      "settlement date: 2019-09-23\n",
      "fixing dates:\n",
      "\t 2018-09-20\n",
      "nominal: 1,000,000,000\n",
      "amortization: 100,000,000\n",
      "interest (1st overload): 152,083,333\n",
      "interest (2nd overload): 152,083,333\n",
      "fixing (1st overload): 15.00%\n",
      "fixing (2nd overload): 15.00%\n",
      "accrued interest (1st overload): 75,416,667\n",
      "accrued interest (2nd overload): 75,416,667\n",
      "accrued fixing (1st overload): 15.00%\n",
      "accrued fixing (2nd overload): 15.00%\n"
     ]
    }
   ],
   "source": [
    "print(f\"amount: {fixed_rate_cashflow_2.amount():,.0f}\")\n",
    "print(\"currency:\", fixed_rate_cashflow_2.ccy().get_iso_code())\n",
    "print(\"date:\", fixed_rate_cashflow_2.date())\n",
    "print(\"start date:\", fixed_rate_cashflow_2.get_start_date())\n",
    "print(\"end date:\", fixed_rate_cashflow_2.get_end_date())\n",
    "print(\"settlement date:\", fixed_rate_cashflow_2.get_settlement_date())\n",
    "print(\"fixing dates:\")\n",
    "for f in fixed_rate_cashflow_2.get_fixing_dates():\n",
    "    print(\"\\t\", f)\n",
    "print(f\"nominal: {fixed_rate_cashflow_2.get_nominal():,.0f}\")\n",
    "print(f\"amortization: {fixed_rate_cashflow_2.get_amortization():,.0f}\")\n",
    "print(f\"interest (1st overload): {fixed_rate_cashflow_2.interest():,.0f}\")\n",
    "\n",
    "ts = qcf.time_series()\n",
    "print(f\"interest (2nd overload): {fixed_rate_cashflow_2.interest(ts):,.0f}\")\n",
    "print(f\"fixing (1st overload): {fixed_rate_cashflow_2.fixing():.2%}\")\n",
    "print(f\"fixing (2nd overload): {fixed_rate_cashflow_2.fixing(ts):.2%}\")\n",
    "fecha_intermedia = qcf.QCDate(20, 3, 2019)\n",
    "print(f\"accrued interest (1st overload): {fixed_rate_cashflow_2.accrued_interest(fecha_intermedia):,.0f}\")\n",
    "print(f\"accrued interest (2nd overload): {fixed_rate_cashflow_2.accrued_interest(fecha_intermedia, ts):,.0f}\")\n",
    "print(f\"accrued fixing (1st overload): {fixed_rate_cashflow_2.accrued_fixing(fecha_intermedia):.2%}\")\n",
    "print(f\"accrued fixing (2nd overload): {fixed_rate_cashflow_2.accrued_fixing(fecha_intermedia, ts):,.2%}\")"
   ]
  },
  {
   "cell_type": "code",
   "execution_count": 163,
   "metadata": {
    "execution": {
     "iopub.execute_input": "2024-01-04T22:44:46.583132Z",
     "iopub.status.busy": "2024-01-04T22:44:46.582791Z",
     "iopub.status.idle": "2024-01-04T22:44:46.588465Z",
     "shell.execute_reply": "2024-01-04T22:44:46.587646Z",
     "shell.execute_reply.started": "2024-01-04T22:44:46.583102Z"
    }
   },
   "outputs": [
    {
     "data": {
      "text/plain": [
       "'FixedRateCashflow2'"
      ]
     },
     "execution_count": 163,
     "metadata": {},
     "output_type": "execute_result"
    }
   ],
   "source": [
    "fixed_rate_cashflow_2.get_type()"
   ]
  },
  {
   "cell_type": "code",
   "execution_count": 164,
   "metadata": {
    "execution": {
     "iopub.execute_input": "2024-01-04T22:44:46.886525Z",
     "iopub.status.busy": "2024-01-04T22:44:46.886181Z",
     "iopub.status.idle": "2024-01-04T22:44:46.892428Z",
     "shell.execute_reply": "2024-01-04T22:44:46.891593Z",
     "shell.execute_reply.started": "2024-01-04T22:44:46.886495Z"
    }
   },
   "outputs": [
    {
     "data": {
      "text/plain": [
       "('2018-09-20',\n",
       " '2019-09-20',\n",
       " '2019-09-23',\n",
       " 1000000000.0,\n",
       " 100000000.0,\n",
       " 152083333.33333334,\n",
       " True,\n",
       " 252083333.33333334,\n",
       " 'CLP',\n",
       " 0.15,\n",
       " 'LinAct360')"
      ]
     },
     "execution_count": 164,
     "metadata": {},
     "output_type": "execute_result"
    }
   ],
   "source": [
    "qcf.show(fixed_rate_cashflow_2)"
   ]
  },
  {
   "cell_type": "markdown",
   "metadata": {},
   "source": [
    "### Ibor Cashflow\n",
    "Un objeto de tipo `IborCashflow` representa un flujo de caja calculado a partir de la aplicación de una tasa flotante fijada en una cierta fecha (Libor, Euribor, TAB, ...) , entre dos fechas prefijadas a un nominal prefijado. Para dar de alta uno de estos objetos se requiere:\n",
    "\n",
    "- `InterestRateIndex`: el índice de tasa de interés prefijado\n",
    "- `QCDate`: fecha inicio (para la aplicación de la tasa)\n",
    "- `QCDate`: fecha final (para la aplicación de la tasa)\n",
    "- `QCDate`: fecha de fijación del índice de tasa de interés \n",
    "- `QCDate`: fecha de pago\n",
    "- `float`: nominal (monto al que se le aplica la tasa)\n",
    "- `float`: amortización (eventual flujo de caja que corresponde a una porción del nominal)\n",
    "- `bool`: indica si la amortización anterior es un flujo de caja o sólo una disminución de nominal\n",
    "- `QCCurrency`: moneda del nominal y del flujo de caja\n",
    "- `float`: spread aditivo a aplicar a la fijación del índice\n",
    "- `float`: spread multiplicativo o gearing a aplicar a la fijación del índice\n",
    "\n",
    "Para dar de alta un `InterestRateIndex` se requiere:\n",
    "\n",
    "- `str`: código del índice\n",
    "- `QCInterestRate`: un objeto tasa de interés que contenga las convenciones del índice\n",
    "- `Tenor`: el lag de inicio del índice respecto a la fecha de fixing (por ejemplo 2d para Libor USD)\n",
    "- `Tenor`: el tenor del índice (3M por ejemplo para Libor USD 3M)\n",
    "- `QCBusinessCalendar`: el calendario de fixing\n",
    "- `QCBusinessCalendar`: el calendario de pago\n",
    "- `QCCurrency`: la moneda a la que corresponde el índice (por ejemplo EUR para EURIBOR 3M)\n"
   ]
  },
  {
   "cell_type": "markdown",
   "metadata": {},
   "source": [
    "**TODO: agregar end_date_adjustment al objeto (FOLLOW o MOD FOLLOW).** Esto debiera tener un correspondiente cambio en la BBDD de Front Desk."
   ]
  },
  {
   "cell_type": "code",
   "execution_count": 165,
   "metadata": {
    "ExecuteTime": {
     "end_time": "2022-01-21T13:43:03.054918Z",
     "start_time": "2022-01-21T13:43:03.040956Z"
    },
    "execution": {
     "iopub.execute_input": "2024-01-04T22:44:47.660806Z",
     "iopub.status.busy": "2024-01-04T22:44:47.660459Z",
     "iopub.status.idle": "2024-01-04T22:44:47.668459Z",
     "shell.execute_reply": "2024-01-04T22:44:47.667514Z",
     "shell.execute_reply.started": "2024-01-04T22:44:47.660776Z"
    }
   },
   "outputs": [
    {
     "name": "stdout",
     "output_type": "stream",
     "text": [
      "Tenor: 3M\n",
      "Tasa: 0.000000 Act360 Lin\n",
      "\n",
      "Fixing Tasa: 0.010000 Act360 Lin\n",
      "Fecha Inicio: 2018-09-24\n",
      "Fecha Final: 2018-12-24\n"
     ]
    }
   ],
   "source": [
    "# Se define el índice\n",
    "codigo = \"LIBORUSD3M\"\n",
    "lin_act360 = qcf.QCInterestRate(0.0, act360, lin_wf)\n",
    "fixing_lag = qcf.Tenor(\"2d\")\n",
    "tenor = qcf.Tenor(\"3m\")\n",
    "fixing_calendar = scl  # No es el calendario correcto, pero sirve para el ejemplo\n",
    "settlement_calendar = scl  # Ídem arriba\n",
    "libor_usd_3m = qcf.InterestRateIndex(\n",
    "    codigo, \n",
    "    lin_act360, \n",
    "    fixing_lag, \n",
    "    tenor, \n",
    "    fixing_calendar, \n",
    "    settlement_calendar, \n",
    "    usd\n",
    ")\n",
    "\n",
    "# Getters\n",
    "print(\"Tenor:\", libor_usd_3m.get_tenor())\n",
    "print(\"Tasa:\", libor_usd_3m.get_rate())\n",
    "print()\n",
    "\n",
    "# Para construir un fixing en particular\n",
    "libor_usd_3m.set_rate_value(0.01)\n",
    "print(\"Fixing Tasa:\", libor_usd_3m.get_rate())\n",
    "fecha_fixing = qcf.QCDate(20, 9, 2018)\n",
    "print(\"Fecha Inicio:\", libor_usd_3m.get_start_date(fecha_fixing))\n",
    "print(\"Fecha Final:\", libor_usd_3m.get_end_date(fecha_fixing))"
   ]
  },
  {
   "cell_type": "code",
   "execution_count": 166,
   "metadata": {
    "ExecuteTime": {
     "end_time": "2022-01-21T13:43:03.070875Z",
     "start_time": "2022-01-21T13:43:03.056913Z"
    },
    "execution": {
     "iopub.execute_input": "2024-01-04T22:44:47.871923Z",
     "iopub.status.busy": "2024-01-04T22:44:47.871581Z",
     "iopub.status.idle": "2024-01-04T22:44:47.877179Z",
     "shell.execute_reply": "2024-01-04T22:44:47.876227Z",
     "shell.execute_reply.started": "2024-01-04T22:44:47.871894Z"
    }
   },
   "outputs": [
    {
     "data": {
      "text/plain": [
       "'LIBORUSD3M'"
      ]
     },
     "execution_count": 166,
     "metadata": {},
     "output_type": "execute_result"
    }
   ],
   "source": [
    "libor_usd_3m.get_code()"
   ]
  },
  {
   "cell_type": "code",
   "execution_count": 167,
   "metadata": {
    "ExecuteTime": {
     "end_time": "2022-01-21T13:43:03.085835Z",
     "start_time": "2022-01-21T13:43:03.071873Z"
    },
    "execution": {
     "iopub.execute_input": "2024-01-04T22:44:48.196956Z",
     "iopub.status.busy": "2024-01-04T22:44:48.196601Z",
     "iopub.status.idle": "2024-01-04T22:44:48.200995Z",
     "shell.execute_reply": "2024-01-04T22:44:48.199942Z",
     "shell.execute_reply.started": "2024-01-04T22:44:48.196926Z"
    }
   },
   "outputs": [],
   "source": [
    "libor_usd_3m.set_rate_value(0.1)"
   ]
  },
  {
   "cell_type": "code",
   "execution_count": 168,
   "metadata": {
    "ExecuteTime": {
     "end_time": "2022-01-21T13:43:03.101793Z",
     "start_time": "2022-01-21T13:43:03.087831Z"
    },
    "execution": {
     "iopub.execute_input": "2024-01-04T22:44:48.418722Z",
     "iopub.status.busy": "2024-01-04T22:44:48.418099Z",
     "iopub.status.idle": "2024-01-04T22:44:48.423277Z",
     "shell.execute_reply": "2024-01-04T22:44:48.422126Z",
     "shell.execute_reply.started": "2024-01-04T22:44:48.418693Z"
    }
   },
   "outputs": [
    {
     "name": "stdout",
     "output_type": "stream",
     "text": [
      "0.100000 Act360 Lin\n"
     ]
    }
   ],
   "source": [
    "print(libor_usd_3m.get_rate())"
   ]
  },
  {
   "cell_type": "code",
   "execution_count": 169,
   "metadata": {
    "ExecuteTime": {
     "end_time": "2022-01-21T13:43:03.117750Z",
     "start_time": "2022-01-21T13:43:03.102790Z"
    },
    "execution": {
     "iopub.execute_input": "2024-01-04T22:44:48.726587Z",
     "iopub.status.busy": "2024-01-04T22:44:48.726229Z",
     "iopub.status.idle": "2024-01-04T22:44:48.732056Z",
     "shell.execute_reply": "2024-01-04T22:44:48.731191Z",
     "shell.execute_reply.started": "2024-01-04T22:44:48.726557Z"
    }
   },
   "outputs": [
    {
     "data": {
      "text/plain": [
       "<qcfinancial.QCInterestRate at 0x12aa57bf0>"
      ]
     },
     "execution_count": 169,
     "metadata": {},
     "output_type": "execute_result"
    }
   ],
   "source": [
    "libor_usd_3m.get_rate()"
   ]
  },
  {
   "cell_type": "markdown",
   "metadata": {},
   "source": [
    "Con esto, veamos un ejemplo de construcción y uso de un `IborCashflow`."
   ]
  },
  {
   "cell_type": "markdown",
   "metadata": {},
   "source": [
    "**TODO:** Se debe crear un mecanismo de WARNING para las eventuales inconsistencias entre las fechas de inicio y fin del ``InterestRateIndex`` y las fechas de inicio y fin del ``IborCashflow``."
   ]
  },
  {
   "cell_type": "code",
   "execution_count": 171,
   "metadata": {
    "ExecuteTime": {
     "end_time": "2022-01-21T13:43:03.132710Z",
     "start_time": "2022-01-21T13:43:03.118748Z"
    },
    "execution": {
     "iopub.execute_input": "2024-01-04T22:45:30.350005Z",
     "iopub.status.busy": "2024-01-04T22:45:30.349658Z",
     "iopub.status.idle": "2024-01-04T22:45:30.355673Z",
     "shell.execute_reply": "2024-01-04T22:45:30.354794Z",
     "shell.execute_reply.started": "2024-01-04T22:45:30.349976Z"
    }
   },
   "outputs": [],
   "source": [
    "# Ejemplo\n",
    "fecha_inicio = qcf.QCDate(20, 9, 2018)\n",
    "fecha_final = qcf.QCDate(20, 9, 2019)\n",
    "fecha_pago = qcf.QCDate(23, 9, 2019)\n",
    "fecha_fixing = qcf.QCDate(20, 9, 2018)\n",
    "nominal = 1_000_000.0\n",
    "amort = 100_000.0\n",
    "spread = 0.0\n",
    "gearing = 1.0\n",
    "ibor_cashflow = qcf.IborCashflow(\n",
    "    libor_usd_3m,\n",
    "    fecha_inicio,\n",
    "    fecha_final,\n",
    "    fecha_fixing,\n",
    "    fecha_pago,\n",
    "    nominal,\n",
    "    amort,\n",
    "    True,\n",
    "    usd,\n",
    "    spread,\n",
    "    gearing,\n",
    ")"
   ]
  },
  {
   "cell_type": "code",
   "execution_count": 172,
   "metadata": {
    "ExecuteTime": {
     "end_time": "2022-01-21T13:43:03.148668Z",
     "start_time": "2022-01-21T13:43:03.133708Z"
    },
    "execution": {
     "iopub.execute_input": "2024-01-04T22:45:32.306293Z",
     "iopub.status.busy": "2024-01-04T22:45:32.305951Z",
     "iopub.status.idle": "2024-01-04T22:45:32.312473Z",
     "shell.execute_reply": "2024-01-04T22:45:32.311641Z",
     "shell.execute_reply.started": "2024-01-04T22:45:32.306263Z"
    }
   },
   "outputs": [
    {
     "name": "stdout",
     "output_type": "stream",
     "text": [
      "Fecha Fixing:\t 2018-09-20\n",
      "Fecha Inicio:\t 2018-09-20\n",
      "Fecha Final:\t 2019-09-20\n",
      "Fecha Pago:\t 2019-09-23\n",
      "Nominal:\t1,000,000\n",
      "Amortización:\t100,000\n",
      "Moneda:\t\t USD\n",
      "Valor Tasa:\t10.00%\n"
     ]
    }
   ],
   "source": [
    "# Getters\n",
    "print(\"Fecha Fixing:\\t\", ibor_cashflow.get_fixing_date())\n",
    "print(\"Fecha Inicio:\\t\", ibor_cashflow.get_start_date())\n",
    "print(\"Fecha Final:\\t\", ibor_cashflow.get_end_date())\n",
    "print(\"Fecha Pago:\\t\", ibor_cashflow.get_settlement_date())\n",
    "print(f\"Nominal:\\t{ibor_cashflow.get_nominal():,.0f}\")\n",
    "print(f\"Amortización:\\t{ibor_cashflow.get_amortization():,.0f}\")\n",
    "print(\"Moneda:\\t\\t\", ibor_cashflow.ccy())\n",
    "print(f\"Valor Tasa:\\t{ibor_cashflow.get_interest_rate_value():.2%}\")"
   ]
  },
  {
   "cell_type": "code",
   "execution_count": 173,
   "metadata": {
    "ExecuteTime": {
     "end_time": "2022-01-21T13:43:03.163627Z",
     "start_time": "2022-01-21T13:43:03.149665Z"
    },
    "execution": {
     "iopub.execute_input": "2024-01-04T22:45:35.805891Z",
     "iopub.status.busy": "2024-01-04T22:45:35.805525Z",
     "iopub.status.idle": "2024-01-04T22:45:35.812093Z",
     "shell.execute_reply": "2024-01-04T22:45:35.811180Z",
     "shell.execute_reply.started": "2024-01-04T22:45:35.805860Z"
    }
   },
   "outputs": [
    {
     "name": "stdout",
     "output_type": "stream",
     "text": [
      "Nominal:\t2,000,000\n",
      "Amortización:\t200,000\n",
      "Valor Tasa: 2.00%\n"
     ]
    }
   ],
   "source": [
    "# Setters\n",
    "nuevo_nominal = 2_000_000.0\n",
    "ibor_cashflow.set_nominal(nuevo_nominal)\n",
    "print(f\"Nominal:\\t{ibor_cashflow.get_nominal():,.0f}\")\n",
    "\n",
    "nueva_amortizacion = 200_000.0\n",
    "ibor_cashflow.set_amortization(nueva_amortizacion)\n",
    "print(f\"Amortización:\\t{ibor_cashflow.get_amortization():,.0f}\")\n",
    "\n",
    "nuevo_valor_tasa = 0.02\n",
    "ibor_cashflow.set_interest_rate_value(nuevo_valor_tasa)\n",
    "print(f\"Valor Tasa: {ibor_cashflow.get_interest_rate_value():.2%}\")"
   ]
  },
  {
   "cell_type": "code",
   "execution_count": 174,
   "metadata": {
    "ExecuteTime": {
     "end_time": "2022-01-21T13:43:03.179585Z",
     "start_time": "2022-01-21T13:43:03.164625Z"
    },
    "execution": {
     "iopub.execute_input": "2024-01-04T22:45:39.472364Z",
     "iopub.status.busy": "2024-01-04T22:45:39.472023Z",
     "iopub.status.idle": "2024-01-04T22:45:39.478174Z",
     "shell.execute_reply": "2024-01-04T22:45:39.477342Z",
     "shell.execute_reply.started": "2024-01-04T22:45:39.472333Z"
    }
   },
   "outputs": [
    {
     "name": "stdout",
     "output_type": "stream",
     "text": [
      "Flujo: 240,556\n",
      "Interés Devengado al 2019-07-20: 33,667\n",
      "Check: 33,667\n"
     ]
    }
   ],
   "source": [
    "# Cálculos\n",
    "print(f\"Flujo: {ibor_cashflow.amount():,.0f}\")\n",
    "\n",
    "fecha_devengo = qcf.QCDate(20, 7, 2019)\n",
    "print(f\"Interés Devengado al {fecha_devengo}: {ibor_cashflow.accrued_interest(fecha_devengo):,.0f}\")\n",
    "tasa = ibor_cashflow.get_interest_rate_value()\n",
    "\n",
    "check = tasa * fecha_inicio.day_diff(fecha_devengo) / 360.0 * ibor_cashflow.get_nominal()\n",
    "print(f\"Check: {check:,.0f}\")"
   ]
  },
  {
   "cell_type": "code",
   "execution_count": 175,
   "metadata": {
    "ExecuteTime": {
     "end_time": "2022-01-21T13:43:03.195543Z",
     "start_time": "2022-01-21T13:43:03.186566Z"
    },
    "execution": {
     "iopub.execute_input": "2024-01-04T22:45:42.115345Z",
     "iopub.status.busy": "2024-01-04T22:45:42.115003Z",
     "iopub.status.idle": "2024-01-04T22:45:42.119707Z",
     "shell.execute_reply": "2024-01-04T22:45:42.118797Z",
     "shell.execute_reply.started": "2024-01-04T22:45:42.115316Z"
    }
   },
   "outputs": [
    {
     "name": "stdout",
     "output_type": "stream",
     "text": [
      "('2018-09-20', '2019-09-20', '2018-09-20', '2019-09-23', 2000000.0, 200000.0, 40555.55555555568, True, 240555.55555555568, 'USD', 'LIBORUSD3M', 0.02, 0.0, 1.0, 'LinAct360')\n"
     ]
    }
   ],
   "source": [
    "# Función show\n",
    "print(qcf.show(ibor_cashflow))"
   ]
  },
  {
   "cell_type": "markdown",
   "metadata": {},
   "source": [
    "### Ibor Cashflow 2\n",
    "Un objeto de tipo `IborCashflow2` representa un flujo de caja calculado a partir de la aplicación de una tasa flotante fijada en una cierta fecha (Libor, Euribor, TAB, ...) , entre dos fechas prefijadas a un nominal prefijado. Para dar de alta uno de estos objetos se requiere:\n",
    "\n",
    "- `InterestRateIndex`: el índice de tasa de interés prefijado\n",
    "- `QCDate`: fecha inicio (para la aplicación de la tasa)\n",
    "- `QCDate`: fecha final (para la aplicación de la tasa)\n",
    "- `QCDate`: fecha de fijación del índice de tasa de interés \n",
    "- `QCDate`: fecha de pago\n",
    "- `float`: nominal (monto al que se le aplica la tasa)\n",
    "- `float`: amortización (eventual flujo de caja que corresponde a una porción del nominal)\n",
    "- `bool`: indica si la amortización anterior es un flujo de caja o sólo una disminución de nominal\n",
    "- `QCCurrency`: moneda del nominal y del flujo de caja\n",
    "- `float`: spread aditivo a aplicar a la fijación del índice\n",
    "- `float`: spread multiplicativo o gearing a aplicar a la fijación del índice\n",
    "\n",
    "A diferencia de un `IborCashflow`, un `IborCashflow2` puede quantizarse."
   ]
  },
  {
   "cell_type": "code",
   "execution_count": 176,
   "metadata": {
    "ExecuteTime": {
     "end_time": "2022-01-21T13:43:03.211499Z",
     "start_time": "2022-01-21T13:43:03.196541Z"
    },
    "execution": {
     "iopub.execute_input": "2024-01-04T22:45:44.654154Z",
     "iopub.status.busy": "2024-01-04T22:45:44.653801Z",
     "iopub.status.idle": "2024-01-04T22:45:44.659830Z",
     "shell.execute_reply": "2024-01-04T22:45:44.658849Z",
     "shell.execute_reply.started": "2024-01-04T22:45:44.654125Z"
    }
   },
   "outputs": [],
   "source": [
    "# Ejemplo\n",
    "fecha_inicio = qcf.QCDate(20, 9, 2018)\n",
    "fecha_final = qcf.QCDate(20, 9, 2019)\n",
    "fecha_pago = qcf.QCDate(23, 9, 2019)\n",
    "fecha_fixing = qcf.QCDate(20, 9, 2018)\n",
    "nominal = 1000000.0\n",
    "amort = 100000.0\n",
    "spread = 0.0\n",
    "gearing = 1.0\n",
    "ibor_cashflow_2 = qcf.IborCashflow2(\n",
    "    libor_usd_3m,\n",
    "    fecha_inicio,\n",
    "    fecha_final,\n",
    "    fecha_fixing,\n",
    "    fecha_pago,\n",
    "    nominal,\n",
    "    amort,\n",
    "    True,\n",
    "    usd,\n",
    "    spread,\n",
    "    gearing,\n",
    ")"
   ]
  },
  {
   "cell_type": "code",
   "execution_count": 177,
   "metadata": {
    "ExecuteTime": {
     "end_time": "2022-01-21T13:43:03.227457Z",
     "start_time": "2022-01-21T13:43:03.212497Z"
    },
    "execution": {
     "iopub.execute_input": "2024-01-04T22:45:46.262570Z",
     "iopub.status.busy": "2024-01-04T22:45:46.262228Z",
     "iopub.status.idle": "2024-01-04T22:45:46.268607Z",
     "shell.execute_reply": "2024-01-04T22:45:46.267834Z",
     "shell.execute_reply.started": "2024-01-04T22:45:46.262541Z"
    }
   },
   "outputs": [
    {
     "name": "stdout",
     "output_type": "stream",
     "text": [
      "Fecha Fixing:\t DateList[20-9-2018]\n",
      "Fecha Inicio:\t 2018-09-20\n",
      "Fecha Final:\t 2019-09-20\n",
      "Fecha Pago:\t 2019-09-23\n",
      "Nominal:\t1,000,000\n",
      "Amortización:\t100,000\n",
      "Moneda:\t\t USD\n",
      "Valor Tasa:\t2.00%\n"
     ]
    }
   ],
   "source": [
    "# Getters\n",
    "print(\"Fecha Fixing:\\t\", ibor_cashflow_2.get_fixing_dates())\n",
    "print(\"Fecha Inicio:\\t\", ibor_cashflow_2.get_start_date())\n",
    "print(\"Fecha Final:\\t\", ibor_cashflow_2.get_end_date())\n",
    "print(\"Fecha Pago:\\t\", ibor_cashflow_2.get_settlement_date())\n",
    "print(f\"Nominal:\\t{ibor_cashflow_2.get_nominal():,.0f}\")\n",
    "print(f\"Amortización:\\t{ibor_cashflow_2.get_amortization():,.0f}\")\n",
    "print(\"Moneda:\\t\\t\", ibor_cashflow_2.ccy())\n",
    "print(f\"Valor Tasa:\\t{ibor_cashflow_2.fixing():.2%}\")"
   ]
  },
  {
   "cell_type": "code",
   "execution_count": 178,
   "metadata": {
    "execution": {
     "iopub.execute_input": "2024-01-04T22:45:47.364594Z",
     "iopub.status.busy": "2024-01-04T22:45:47.364248Z",
     "iopub.status.idle": "2024-01-04T22:45:47.370570Z",
     "shell.execute_reply": "2024-01-04T22:45:47.369696Z",
     "shell.execute_reply.started": "2024-01-04T22:45:47.364565Z"
    }
   },
   "outputs": [
    {
     "data": {
      "text/plain": [
       "('2018-09-20',\n",
       " '2019-09-20',\n",
       " '2018-09-20',\n",
       " '2019-09-23',\n",
       " 1000000.0,\n",
       " 100000.0,\n",
       " 20277.77777777784,\n",
       " True,\n",
       " 120277.77777777784,\n",
       " 'USD',\n",
       " 'LIBORUSD3M',\n",
       " 0.02,\n",
       " 0.0,\n",
       " 1.0,\n",
       " 'LinAct360')"
      ]
     },
     "execution_count": 178,
     "metadata": {},
     "output_type": "execute_result"
    }
   ],
   "source": [
    "# Función show\n",
    "qcf.show(ibor_cashflow_2)"
   ]
  },
  {
   "cell_type": "markdown",
   "metadata": {},
   "source": [
    "### Ibor Multi Currency Cashflow\n",
    "Un objeto de tipo `IborMultiCurrencyCashflow` representa un flujo de caja a tasa variable (`IborCashflow`) que se liquidará en una moneda distinta de la moneda del nominal utilizando el valor a una cierta fecha de un índice de tipo de cambio prefijado. Para dar de alta uno de estos objetos se requiere:\n",
    "\n",
    "- `InterestRateIndex`: el índice de tasa de interés prefijado\n",
    "- `QCDate`: fecha inicio (para la aplicación de la tasa)\n",
    "- `QCDate`: fecha final (para la aplicación de la tasa)\n",
    "- `QCDate`: fecha de fijación del índice de tasa de interés \n",
    "- `QCDate`: fecha de pago\n",
    "- `float`: nominal (monto al que se le aplica la tasa)\n",
    "- `float`: amortización (eventual flujo de caja que corresponde a una porción del nominal)\n",
    "- `bool`: indica si la amortización anterior es un flujo de caja o sólo una disminución de nominal\n",
    "- `QCCurrency`: moneda del nominal y del flujo de caja\n",
    "- `float`: spread aditivo a aplicar a la fijación del índice\n",
    "- `float`: spread multiplicativo o gearing a aplicar a la fijación del índice\n",
    "- `QCDate`: fecha de publicación del índice de tipo de cambio\n",
    "- `QCCurrency`: moneda en la que se liquida el flujo\n",
    "- `FXRateIndex`: índice de tipo de cambio a utilizar\n",
    "- `float`: valor del índice de tipo de cambio\n"
   ]
  },
  {
   "cell_type": "code",
   "execution_count": 179,
   "metadata": {
    "ExecuteTime": {
     "end_time": "2022-01-21T13:43:03.242417Z",
     "start_time": "2022-01-21T13:43:03.228455Z"
    },
    "execution": {
     "iopub.execute_input": "2024-01-04T22:45:49.685062Z",
     "iopub.status.busy": "2024-01-04T22:45:49.684712Z",
     "iopub.status.idle": "2024-01-04T22:45:49.692240Z",
     "shell.execute_reply": "2024-01-04T22:45:49.691341Z",
     "shell.execute_reply.started": "2024-01-04T22:45:49.685033Z"
    }
   },
   "outputs": [
    {
     "name": "stdout",
     "output_type": "stream",
     "text": [
      "<qcfinancial.IborMultiCurrencyCashflow object at 0x12aa60c70>\n"
     ]
    }
   ],
   "source": [
    "# Ejemplo\n",
    "fecha_inicio = qcf.QCDate(20, 9, 2019)\n",
    "fecha_final = qcf.QCDate(20, 12, 2019)\n",
    "fecha_pago = qcf.QCDate(20, 12, 2019)\n",
    "fecha_fixing = qcf.QCDate(20, 9, 2019)\n",
    "nominal = 100.0\n",
    "amort = 100.0\n",
    "spread = 0.02\n",
    "gearing = 1.0\n",
    "valor_indice = 10.0\n",
    "fecha_publicacion = qcf.QCDate(20, 9, 2019)\n",
    "libor_usd_3m.set_rate_value(0.01)\n",
    "ibor_mccy_cashflow = qcf.IborMultiCurrencyCashflow(\n",
    "    libor_usd_3m,\n",
    "    fecha_inicio,\n",
    "    fecha_final,\n",
    "    fecha_fixing,\n",
    "    fecha_pago,\n",
    "    nominal,\n",
    "    amort,\n",
    "    True,\n",
    "    usd,\n",
    "    spread,\n",
    "    gearing,\n",
    "    fecha_publicacion,\n",
    "    clp,\n",
    "    indice,\n",
    "    valor_indice,\n",
    ")\n",
    "print(ibor_mccy_cashflow)"
   ]
  },
  {
   "cell_type": "code",
   "execution_count": 180,
   "metadata": {
    "ExecuteTime": {
     "end_time": "2022-01-21T13:43:03.257378Z",
     "start_time": "2022-01-21T13:43:03.244413Z"
    },
    "execution": {
     "iopub.execute_input": "2024-01-04T22:45:50.841943Z",
     "iopub.status.busy": "2024-01-04T22:45:50.841092Z",
     "iopub.status.idle": "2024-01-04T22:45:50.845515Z",
     "shell.execute_reply": "2024-01-04T22:45:50.844660Z",
     "shell.execute_reply.started": "2024-01-04T22:45:50.841911Z"
    }
   },
   "outputs": [],
   "source": [
    "ibor_mccy_cashflow.set_interest_rate_value(0.01)"
   ]
  },
  {
   "cell_type": "code",
   "execution_count": 181,
   "metadata": {
    "ExecuteTime": {
     "end_time": "2022-01-21T13:43:03.273335Z",
     "start_time": "2022-01-21T13:43:03.258375Z"
    },
    "execution": {
     "iopub.execute_input": "2024-01-04T22:45:51.548146Z",
     "iopub.status.busy": "2024-01-04T22:45:51.547807Z",
     "iopub.status.idle": "2024-01-04T22:45:51.552918Z",
     "shell.execute_reply": "2024-01-04T22:45:51.552113Z",
     "shell.execute_reply.started": "2024-01-04T22:45:51.548117Z"
    }
   },
   "outputs": [
    {
     "name": "stdout",
     "output_type": "stream",
     "text": [
      "('2019-09-20', '2019-12-20', '2019-09-20', '2019-12-20', 100.0, 100.0, 0.7583333333333275, True, 1007.5833333333333, 'USD', 'LIBORUSD3M', 0.02, 1.0, 0.01, 'LinAct360', '2019-09-20', 'CLP', 'USDOBS', 10.0, 1000.0, 7.583333333333275)\n"
     ]
    }
   ],
   "source": [
    "print(qcf.show(ibor_mccy_cashflow))"
   ]
  },
  {
   "cell_type": "code",
   "execution_count": 182,
   "metadata": {
    "ExecuteTime": {
     "end_time": "2022-01-21T13:43:03.289292Z",
     "start_time": "2022-01-21T13:43:03.274332Z"
    },
    "execution": {
     "iopub.execute_input": "2024-01-04T22:45:52.727322Z",
     "iopub.status.busy": "2024-01-04T22:45:52.726979Z",
     "iopub.status.idle": "2024-01-04T22:45:52.732469Z",
     "shell.execute_reply": "2024-01-04T22:45:52.731671Z",
     "shell.execute_reply.started": "2024-01-04T22:45:52.727293Z"
    }
   },
   "outputs": [
    {
     "name": "stdout",
     "output_type": "stream",
     "text": [
      "0.24999999999999467\n",
      "0.24999999999999997\n"
     ]
    }
   ],
   "source": [
    "fecha_intermedia = qcf.QCDate(20, 10, 2019)\n",
    "print(ibor_mccy_cashflow.accrued_interest(fecha_intermedia))\n",
    "print(\n",
    "    (0.01 + spread)\n",
    "    * fecha_inicio.day_diff(fecha_intermedia)\n",
    "    / 360.0\n",
    "    * ibor_mccy_cashflow.get_nominal()\n",
    ")"
   ]
  },
  {
   "cell_type": "code",
   "execution_count": 183,
   "metadata": {
    "ExecuteTime": {
     "end_time": "2022-01-21T13:43:03.305251Z",
     "start_time": "2022-01-21T13:43:03.290290Z"
    },
    "execution": {
     "iopub.execute_input": "2024-01-04T22:45:53.916872Z",
     "iopub.status.busy": "2024-01-04T22:45:53.916529Z",
     "iopub.status.idle": "2024-01-04T22:45:53.922312Z",
     "shell.execute_reply": "2024-01-04T22:45:53.921556Z",
     "shell.execute_reply.started": "2024-01-04T22:45:53.916843Z"
    }
   },
   "outputs": [
    {
     "name": "stdout",
     "output_type": "stream",
     "text": [
      "2019-09-20\n",
      "2019-10-20\n",
      "2019-10-20\n",
      "3.0\n"
     ]
    }
   ],
   "source": [
    "ts[fecha_inicio] = 1\n",
    "ts[fecha_intermedia] = 3\n",
    "for k in ts:\n",
    "    print(k)\n",
    "print(fecha_intermedia.description(False))\n",
    "print(ts[fecha_intermedia])"
   ]
  },
  {
   "cell_type": "code",
   "execution_count": 184,
   "metadata": {
    "ExecuteTime": {
     "end_time": "2022-01-21T13:43:03.321207Z",
     "start_time": "2022-01-21T13:43:03.306247Z"
    },
    "execution": {
     "iopub.execute_input": "2024-01-04T22:45:55.159481Z",
     "iopub.status.busy": "2024-01-04T22:45:55.159136Z",
     "iopub.status.idle": "2024-01-04T22:45:55.164094Z",
     "shell.execute_reply": "2024-01-04T22:45:55.163223Z",
     "shell.execute_reply.started": "2024-01-04T22:45:55.159452Z"
    }
   },
   "outputs": [
    {
     "name": "stdout",
     "output_type": "stream",
     "text": [
      "0.749999999999984\n"
     ]
    }
   ],
   "source": [
    "print(ibor_mccy_cashflow.accrued_interest(fecha_intermedia, fecha_intermedia, ts))"
   ]
  },
  {
   "cell_type": "code",
   "execution_count": 185,
   "metadata": {
    "execution": {
     "iopub.execute_input": "2024-01-04T22:45:56.423785Z",
     "iopub.status.busy": "2024-01-04T22:45:56.423445Z",
     "iopub.status.idle": "2024-01-04T22:45:56.429131Z",
     "shell.execute_reply": "2024-01-04T22:45:56.428324Z",
     "shell.execute_reply.started": "2024-01-04T22:45:56.423756Z"
    }
   },
   "outputs": [
    {
     "data": {
      "text/plain": [
       "'IborMultiCurrencyCashflow'"
      ]
     },
     "execution_count": 185,
     "metadata": {},
     "output_type": "execute_result"
    }
   ],
   "source": [
    "ibor_mccy_cashflow.get_type()"
   ]
  },
  {
   "cell_type": "code",
   "execution_count": 186,
   "metadata": {
    "execution": {
     "iopub.execute_input": "2024-01-04T22:45:57.430871Z",
     "iopub.status.busy": "2024-01-04T22:45:57.430528Z",
     "iopub.status.idle": "2024-01-04T22:45:57.436935Z",
     "shell.execute_reply": "2024-01-04T22:45:57.436060Z",
     "shell.execute_reply.started": "2024-01-04T22:45:57.430842Z"
    }
   },
   "outputs": [
    {
     "data": {
      "text/plain": [
       "('2019-09-20',\n",
       " '2019-12-20',\n",
       " '2019-09-20',\n",
       " '2019-12-20',\n",
       " 100.0,\n",
       " 100.0,\n",
       " 0.7583333333333275,\n",
       " True,\n",
       " 1007.5833333333333,\n",
       " 'USD',\n",
       " 'LIBORUSD3M',\n",
       " 0.02,\n",
       " 1.0,\n",
       " 0.01,\n",
       " 'LinAct360',\n",
       " '2019-09-20',\n",
       " 'CLP',\n",
       " 'USDOBS',\n",
       " 10.0,\n",
       " 1000.0,\n",
       " 7.583333333333275)"
      ]
     },
     "execution_count": 186,
     "metadata": {},
     "output_type": "execute_result"
    }
   ],
   "source": [
    "qcf.show(ibor_mccy_cashflow)"
   ]
  },
  {
   "cell_type": "markdown",
   "metadata": {},
   "source": [
    "### Icp Clp Cashflow\n",
    "Un objeto de tipo `IcpClpCashflow` representa un flujo de caja calculado como un cupón de la pata flotante de un swap ICP (cámara promedio) de Chile. Para dar de alta uno de estos objetos se requiere:\n",
    "\n",
    "- `QCDate`: fecha inicio (para la aplicación de la tasa)\n",
    "- `QCDate`: fecha final (para la aplicación de la tasa)\n",
    "- `QCDate`: fecha de pago\n",
    "- `float`: nominal (monto al que se le aplica la tasa)\n",
    "- `float`: amortización (eventual flujo de caja que corresponde a una porción del nominal)\n",
    "- `bool`: indica si la amortización anterior es un flujo de caja o sólo una disminución de nominal\n",
    "- `float`: spread aditivo a aplicar a la fijación de la TNA\n",
    "- `float`: spread multiplicativo o gearing a aplicar a la fijación de la TNA\n",
    "- `float`: el valor del ICP a fecha de inicio (u otro valor arbitrario si el valor es desconocido)\n",
    "- `float`: el valor del ICP a fecha final (u otro valor arbitrario si el valor es desconocido)\n",
    "\n",
    "Recordar que TNA significa **Tasa Nominal Anual** y se determina utilizando los valores del índice ICP en la fecha de inicio y fecha final del `IcpClpCashflow`."
   ]
  },
  {
   "cell_type": "code",
   "execution_count": 187,
   "metadata": {
    "ExecuteTime": {
     "end_time": "2022-01-21T13:43:03.367085Z",
     "start_time": "2022-01-21T13:43:03.352125Z"
    },
    "execution": {
     "iopub.execute_input": "2024-01-04T22:46:00.621378Z",
     "iopub.status.busy": "2024-01-04T22:46:00.621031Z",
     "iopub.status.idle": "2024-01-04T22:46:00.626910Z",
     "shell.execute_reply": "2024-01-04T22:46:00.626106Z",
     "shell.execute_reply.started": "2024-01-04T22:46:00.621348Z"
    }
   },
   "outputs": [],
   "source": [
    "# Ejemplo\n",
    "fecha_inicio = qcf.QCDate(20, 9, 2018)\n",
    "fecha_final = qcf.QCDate(20, 9, 2019)\n",
    "fecha_pago = qcf.QCDate(23, 9, 2019)\n",
    "nominal = 1_000_000_000.0\n",
    "amort = 100_000_000.0\n",
    "spread = 0.0\n",
    "gearing = 1.0\n",
    "icp_clp_cashflow = qcf.IcpClpCashflow(\n",
    "    fecha_inicio,\n",
    "    fecha_final,\n",
    "    fecha_pago,\n",
    "    nominal,\n",
    "    amort,\n",
    "    True,\n",
    "    spread,\n",
    "    gearing,\n",
    "    10_000.0,\n",
    "    10_250.0,\n",
    ")"
   ]
  },
  {
   "cell_type": "code",
   "execution_count": 188,
   "metadata": {
    "ExecuteTime": {
     "end_time": "2022-01-21T13:43:03.382045Z",
     "start_time": "2022-01-21T13:43:03.368083Z"
    },
    "execution": {
     "iopub.execute_input": "2024-01-04T22:46:01.474210Z",
     "iopub.status.busy": "2024-01-04T22:46:01.473868Z",
     "iopub.status.idle": "2024-01-04T22:46:01.481051Z",
     "shell.execute_reply": "2024-01-04T22:46:01.480274Z",
     "shell.execute_reply.started": "2024-01-04T22:46:01.474181Z"
    }
   },
   "outputs": [
    {
     "name": "stdout",
     "output_type": "stream",
     "text": [
      "Fecha Inicio: 2018-09-20\n",
      "Fecha Final: 2019-09-20\n",
      "ICP Fecha Inicio: 10,000.00\n",
      "ICP Fecha Final: 10,250.00\n",
      "Valor TNA Todo el Período: 2.47%\n",
      "Check: 2.47%\n",
      "Nominal: 1,000,000,000\n",
      "Amortización: 100,000,000\n",
      "Tipo de Tasa: LinAct360\n",
      "Moneda: CLP\n"
     ]
    }
   ],
   "source": [
    "# Getters\n",
    "print(\"Fecha Inicio:\", icp_clp_cashflow.get_start_date())\n",
    "print(\"Fecha Final:\", icp_clp_cashflow.get_end_date())\n",
    "print(f\"ICP Fecha Inicio: {icp_clp_cashflow.get_start_date_icp():,.2f}\")\n",
    "print(f\"ICP Fecha Final: {icp_clp_cashflow.get_end_date_icp():,.2f}\")\n",
    "print(f\"Valor TNA Todo el Período: {icp_clp_cashflow.get_rate_value():.2%}\")\n",
    "check = round((10250.0 / 10000 - 1) * 360.0 / fecha_inicio.day_diff(fecha_final), 4)\n",
    "print(f\"Check: {check:.2%}\")\n",
    "print(f\"Nominal: {icp_clp_cashflow.get_nominal():,.0f}\")\n",
    "print(f\"Amortización: {icp_clp_cashflow.get_amortization():,.0f}\")\n",
    "print(\"Tipo de Tasa:\", icp_clp_cashflow.get_type_of_rate())\n",
    "print(\"Moneda:\", icp_clp_cashflow.ccy())"
   ]
  },
  {
   "cell_type": "code",
   "execution_count": 189,
   "metadata": {
    "ExecuteTime": {
     "end_time": "2022-01-21T13:43:03.397004Z",
     "start_time": "2022-01-21T13:43:03.383042Z"
    },
    "execution": {
     "iopub.execute_input": "2024-01-04T22:46:02.482472Z",
     "iopub.status.busy": "2024-01-04T22:46:02.482098Z",
     "iopub.status.idle": "2024-01-04T22:46:02.489593Z",
     "shell.execute_reply": "2024-01-04T22:46:02.488743Z",
     "shell.execute_reply.started": "2024-01-04T22:46:02.482440Z"
    }
   },
   "outputs": [
    {
     "name": "stdout",
     "output_type": "stream",
     "text": [
      "Nueva TNA: 2.4658%\n",
      "Nuevo Nominal: 100.0\n",
      "Nueva Amortización: 10.0\n",
      "Nuevo ICP Inicio: 20,000.00\n",
      "Nuevo ICP Final: 20,600.00\n",
      "Check TNA Final: 2.9589%\n"
     ]
    }
   ],
   "source": [
    "# Setters\n",
    "decimales_para_tna = 6\n",
    "icp_clp_cashflow.set_tna_decimal_places(decimales_para_tna)\n",
    "print(f\"Nueva TNA: {icp_clp_cashflow.get_rate_value():.4%}\")\n",
    "\n",
    "nuevo_nominal = 100\n",
    "icp_clp_cashflow.set_nominal(nuevo_nominal)\n",
    "print(\"Nuevo Nominal:\", icp_clp_cashflow.get_nominal())\n",
    "\n",
    "nueva_amortizacion = 10\n",
    "icp_clp_cashflow.set_amortization(nueva_amortizacion)\n",
    "print(\"Nueva Amortización:\", icp_clp_cashflow.get_amortization())\n",
    "\n",
    "nuevo_icp_inicio = 20_000\n",
    "icp_clp_cashflow.set_start_date_icp(nuevo_icp_inicio)\n",
    "print(f\"Nuevo ICP Inicio: {icp_clp_cashflow.get_start_date_icp():,.2f}\")\n",
    "\n",
    "nuevo_icp_final = 20_600\n",
    "icp_clp_cashflow.set_end_date_icp(nuevo_icp_final)\n",
    "print(f\"Nuevo ICP Final: {icp_clp_cashflow.get_end_date_icp():,.2f}\")\n",
    "print(f\"Check TNA Final: {icp_clp_cashflow.get_rate_value():.4%}\")"
   ]
  },
  {
   "cell_type": "code",
   "execution_count": 190,
   "metadata": {
    "ExecuteTime": {
     "end_time": "2022-01-21T13:43:03.412962Z",
     "start_time": "2022-01-21T13:43:03.398002Z"
    },
    "execution": {
     "iopub.execute_input": "2024-01-04T22:46:04.927502Z",
     "iopub.status.busy": "2024-01-04T22:46:04.927112Z",
     "iopub.status.idle": "2024-01-04T22:46:04.935403Z",
     "shell.execute_reply": "2024-01-04T22:46:04.934509Z",
     "shell.execute_reply.started": "2024-01-04T22:46:04.927471Z"
    }
   },
   "outputs": [
    {
     "name": "stdout",
     "output_type": "stream",
     "text": [
      "Flujo: 13\n",
      "TNA fijada a 29-03-2019: 2.37%\n",
      "Check: 2.37%\n",
      "Interés Devengado al 29-03-2019: 1.2508\n",
      "Check: 1.2508\n"
     ]
    }
   ],
   "source": [
    "# Cálculos\n",
    "decimales_para_tna = 4  # Se vuelve a 4 decimales de tasa\n",
    "icp_clp_cashflow.set_tna_decimal_places(decimales_para_tna)\n",
    "\n",
    "nuevo_icp_inicio = 10_000.0\n",
    "icp_clp_cashflow.set_start_date_icp(nuevo_icp_inicio)\n",
    "\n",
    "nuevo_icp_final = 10_250.0\n",
    "icp_clp_cashflow.set_end_date_icp(nuevo_icp_final)\n",
    "\n",
    "print(f\"Flujo: {icp_clp_cashflow.amount():,.0f}\")\n",
    "\n",
    "fecha_devengo = qcf.QCDate(29, 3, 2019)\n",
    "icp_devengo = 10_125.0\n",
    "tna_devengo = icp_clp_cashflow.get_tna(fecha_devengo, icp_devengo)\n",
    "print(f\"TNA fijada a {fecha_devengo.description(True)}: {tna_devengo:.2%}\")\n",
    "check = round(\n",
    "    (icp_devengo / nuevo_icp_inicio - 1) * 360.0 / fecha_inicio.day_diff(fecha_devengo),\n",
    "    decimales_para_tna,\n",
    ")\n",
    "print(f\"Check: {check:.2%}\")\n",
    "print(f\"Interés Devengado al {fecha_devengo.description(True)}: {icp_clp_cashflow.accrued_interest(fecha_devengo, icp_devengo):,.4f}\")\n",
    "print(f\"Check: {100 * tna_devengo * fecha_inicio.day_diff(fecha_devengo) / 360.0:,.4f}\")"
   ]
  },
  {
   "cell_type": "code",
   "execution_count": 191,
   "metadata": {
    "ExecuteTime": {
     "end_time": "2022-01-21T13:43:03.428919Z",
     "start_time": "2022-01-21T13:43:03.413959Z"
    },
    "execution": {
     "iopub.execute_input": "2024-01-04T22:46:06.068464Z",
     "iopub.status.busy": "2024-01-04T22:46:06.068127Z",
     "iopub.status.idle": "2024-01-04T22:46:06.072909Z",
     "shell.execute_reply": "2024-01-04T22:46:06.071924Z",
     "shell.execute_reply.started": "2024-01-04T22:46:06.068435Z"
    }
   },
   "outputs": [
    {
     "name": "stdout",
     "output_type": "stream",
     "text": [
      "('2018-09-20', '2019-09-20', '2019-09-23', 100.0, 10.0, True, 12.504305555555565, 'CLP', 10000.0, 10250.0, 0.0237, 2.504305555555564, 0.0, 1.0, 'LinAct360')\n"
     ]
    }
   ],
   "source": [
    "print(qcf.show(icp_clp_cashflow))"
   ]
  },
  {
   "cell_type": "code",
   "execution_count": 192,
   "metadata": {
    "execution": {
     "iopub.execute_input": "2024-01-04T22:46:08.250438Z",
     "iopub.status.busy": "2024-01-04T22:46:08.250095Z",
     "iopub.status.idle": "2024-01-04T22:46:08.255700Z",
     "shell.execute_reply": "2024-01-04T22:46:08.254905Z",
     "shell.execute_reply.started": "2024-01-04T22:46:08.250409Z"
    }
   },
   "outputs": [
    {
     "data": {
      "text/plain": [
       "'IcpClpCashflow'"
      ]
     },
     "execution_count": 192,
     "metadata": {},
     "output_type": "execute_result"
    }
   ],
   "source": [
    "icp_clp_cashflow.get_type()"
   ]
  },
  {
   "cell_type": "markdown",
   "metadata": {},
   "source": [
    "### Icp Clp Cashflow 2\n",
    "Un objeto de tipo `IcpClpCashflow2` representa un flujo de caja calculado como un cupón de la pata flotante de un swap ICP (cámara promedio) de Chile. Este tipo de cashflow puede ser *quantizado*, es decir, se puede cambiar su moneda de pago componiéndolo con un objeto adicional. Para dar de alta uno de estos objetos se requiere:\n",
    "\n",
    "- `QCDate`: fecha inicio (para la aplicación de la tasa)\n",
    "- `QCDate`: fecha final (para la aplicación de la tasa)\n",
    "- `QCDate`: fecha de pago\n",
    "- `float`: nominal (monto al que se le aplica la tasa)\n",
    "- `float`: amortización (eventual flujo de caja que corresponde a una porción del nominal)\n",
    "- `bool`: indica si la amortización anterior es un flujo de caja o sólo una disminución de nominal\n",
    "- `float`: spread aditivo a aplicar a la fijación de la TNA\n",
    "- `float`: spread multiplicativo o gearing a aplicar a la fijación de la TNA\n",
    "- `float`: el valor del ICP a fecha de inicio (u otro valor arbitrario si el valor es desconocido)\n",
    "- `float`: el valor del ICP a fecha final (u otro valor arbitrario si el valor es desconocido)\n",
    "\n",
    "Recordar que TNA significa **Tasa Nominal Anual** y se determina utilizando los valores del índice ICP en la fecha de inicio y fecha final del `IcpClpCashflow`."
   ]
  },
  {
   "cell_type": "code",
   "execution_count": 193,
   "metadata": {
    "ExecuteTime": {
     "end_time": "2022-01-21T13:43:03.444877Z",
     "start_time": "2022-01-21T13:43:03.429917Z"
    },
    "execution": {
     "iopub.execute_input": "2024-01-04T22:46:09.827273Z",
     "iopub.status.busy": "2024-01-04T22:46:09.826924Z",
     "iopub.status.idle": "2024-01-04T22:46:09.832807Z",
     "shell.execute_reply": "2024-01-04T22:46:09.832012Z",
     "shell.execute_reply.started": "2024-01-04T22:46:09.827244Z"
    }
   },
   "outputs": [],
   "source": [
    "# Ejemplo\n",
    "fecha_inicio = qcf.QCDate(20, 9, 2018)\n",
    "fecha_final = qcf.QCDate(20, 9, 2019)\n",
    "fecha_pago = qcf.QCDate(23, 9, 2019)\n",
    "nominal = 1_000_000_000.0\n",
    "amort = 100_000_000.0\n",
    "spread = 0.0\n",
    "gearing = 1.0\n",
    "icp_clp_cashflow2 = qcf.IcpClpCashflow2(\n",
    "    fecha_inicio,\n",
    "    fecha_final,\n",
    "    fecha_pago,\n",
    "    nominal,\n",
    "    amort,\n",
    "    True,\n",
    "    spread,\n",
    "    gearing,\n",
    "    True,\n",
    "    10_000.0,\n",
    "    10_250.0,\n",
    ")"
   ]
  },
  {
   "cell_type": "code",
   "execution_count": 194,
   "metadata": {
    "ExecuteTime": {
     "end_time": "2022-01-21T13:43:03.460835Z",
     "start_time": "2022-01-21T13:43:03.445874Z"
    },
    "execution": {
     "iopub.execute_input": "2024-01-04T22:46:10.822021Z",
     "iopub.status.busy": "2024-01-04T22:46:10.821672Z",
     "iopub.status.idle": "2024-01-04T22:46:10.829275Z",
     "shell.execute_reply": "2024-01-04T22:46:10.828348Z",
     "shell.execute_reply.started": "2024-01-04T22:46:10.821991Z"
    }
   },
   "outputs": [
    {
     "name": "stdout",
     "output_type": "stream",
     "text": [
      "Fecha Inicio: 2018-09-20\n",
      "Fecha Final: 2019-09-20\n",
      "ICP Fecha Inicio: 10,000.00\n",
      "ICP Fecha Final: 10,250.00\n",
      "\n",
      "Valor TNA Todo el Período: 2.47%\n",
      "Check: 2.47%\n",
      "\n",
      "Nominal: 1,000,000,000\n",
      "Amortización: 100,000,000\n",
      "Tipo de Tasa: LinAct360\n",
      "Moneda: CLP\n"
     ]
    }
   ],
   "source": [
    "# Getters\n",
    "print(\"Fecha Inicio:\", icp_clp_cashflow2.get_start_date())\n",
    "print(\"Fecha Final:\", icp_clp_cashflow2.get_end_date())\n",
    "print(f\"ICP Fecha Inicio: {icp_clp_cashflow2.get_start_date_icp():,.2f}\")\n",
    "print(f\"ICP Fecha Final: {icp_clp_cashflow2.get_end_date_icp():,.2f}\")\n",
    "\n",
    "print()\n",
    "print(f\"Valor TNA Todo el Período: {icp_clp_cashflow2.get_rate_value():.2%}\")\n",
    "check = round((10250.0 / 10000 - 1) * 360.0 / fecha_inicio.day_diff(fecha_final), 4)\n",
    "print(f\"Check: {check:.2%}\")\n",
    "print()\n",
    "\n",
    "print(f\"Nominal: {icp_clp_cashflow2.get_nominal():,.0f}\")\n",
    "print(f\"Amortización: {icp_clp_cashflow2.get_amortization():,.0f}\")\n",
    "print(\"Tipo de Tasa:\", icp_clp_cashflow2.get_type_of_rate())\n",
    "print(\"Moneda:\", icp_clp_cashflow2.ccy())"
   ]
  },
  {
   "cell_type": "code",
   "execution_count": 195,
   "metadata": {
    "ExecuteTime": {
     "end_time": "2022-01-21T13:43:03.475794Z",
     "start_time": "2022-01-21T13:43:03.462829Z"
    },
    "execution": {
     "iopub.execute_input": "2024-01-04T22:46:12.889321Z",
     "iopub.status.busy": "2024-01-04T22:46:12.888988Z",
     "iopub.status.idle": "2024-01-04T22:46:12.896501Z",
     "shell.execute_reply": "2024-01-04T22:46:12.895467Z",
     "shell.execute_reply.started": "2024-01-04T22:46:12.889292Z"
    }
   },
   "outputs": [
    {
     "name": "stdout",
     "output_type": "stream",
     "text": [
      "Nueva TNA: 2.4658%\n",
      "Nuevo Nominal: 100\n",
      "Nueva Amortización: 10\n",
      "Nuevo ICP Inicio: 20,000.00\n",
      "Nuevo ICP Final: 20,000.00\n",
      "Check TNA Final: 0.0000%\n"
     ]
    }
   ],
   "source": [
    "# Setters\n",
    "decimales_para_tna = 6\n",
    "icp_clp_cashflow2.set_tna_decimal_places(decimales_para_tna)\n",
    "print(f\"Nueva TNA: {icp_clp_cashflow2.get_rate_value():.4%}\")\n",
    "\n",
    "nuevo_nominal = 100\n",
    "icp_clp_cashflow2.set_nominal(nuevo_nominal)\n",
    "print(f\"Nuevo Nominal: {icp_clp_cashflow2.get_nominal():,.0f}\")\n",
    "\n",
    "nueva_amortizacion = 10\n",
    "icp_clp_cashflow2.set_amortization(nueva_amortizacion)\n",
    "print(f\"Nueva Amortización: {icp_clp_cashflow2.get_amortization():,.0f}\")\n",
    "\n",
    "nuevo_icp_inicio = 20_000.0\n",
    "icp_clp_cashflow2.set_start_date_icp(nuevo_icp_inicio)\n",
    "print(f\"Nuevo ICP Inicio: {icp_clp_cashflow2.get_start_date_icp():,.2f}\")\n",
    "\n",
    "nuevo_icp_final = 20_000.0\n",
    "icp_clp_cashflow2.set_end_date_icp(nuevo_icp_final)\n",
    "print(f\"Nuevo ICP Final: {icp_clp_cashflow2.get_end_date_icp():,.2f}\")\n",
    "print(f\"Check TNA Final: {icp_clp_cashflow2.get_rate_value():.4%}\")"
   ]
  },
  {
   "cell_type": "code",
   "execution_count": 196,
   "metadata": {
    "ExecuteTime": {
     "end_time": "2022-01-21T13:43:03.491752Z",
     "start_time": "2022-01-21T13:43:03.477789Z"
    },
    "execution": {
     "iopub.execute_input": "2024-01-04T22:46:13.919817Z",
     "iopub.status.busy": "2024-01-04T22:46:13.919474Z",
     "iopub.status.idle": "2024-01-04T22:46:13.928074Z",
     "shell.execute_reply": "2024-01-04T22:46:13.927253Z",
     "shell.execute_reply.started": "2024-01-04T22:46:13.919788Z"
    }
   },
   "outputs": [
    {
     "name": "stdout",
     "output_type": "stream",
     "text": [
      "Flujo: 12.50\n",
      "\n",
      "TNA fijada al 29-03-2019: 2.37%\n",
      "Check: 2.37%\n",
      "\n",
      "Interés Devengado al 29-03-2019: 1.250833\n",
      "Check: 1.250833\n"
     ]
    }
   ],
   "source": [
    "# Cálculos\n",
    "decimales_para_tna = 4  # Se vuelve a 4 decimales de tasa\n",
    "icp_clp_cashflow2.set_tna_decimal_places(decimales_para_tna)\n",
    "\n",
    "nuevo_icp_inicio = 10_000.0\n",
    "icp_clp_cashflow2.set_start_date_icp(nuevo_icp_inicio)\n",
    "\n",
    "nuevo_icp_final = 10_250.0\n",
    "icp_clp_cashflow2.set_end_date_icp(nuevo_icp_final)\n",
    "\n",
    "print(f\"Flujo: {icp_clp_cashflow2.amount():,.2f}\")\n",
    "print()\n",
    "\n",
    "fecha_devengo = qcf.QCDate(29, 3, 2019)\n",
    "icp_devengo = 10_125.0\n",
    "tna_devengo = icp_clp_cashflow2.get_tna(fecha_devengo, icp_devengo)\n",
    "print(f\"TNA fijada al {fecha_devengo.description(True)}: {tna_devengo:.2%}\")\n",
    "check = round((icp_devengo / nuevo_icp_inicio - 1) * 360.0 / fecha_inicio.day_diff(fecha_devengo), decimales_para_tna)\n",
    "print(f\"Check: {check:.2%}\")\n",
    "print()\n",
    "\n",
    "data = qcf.time_series()\n",
    "data[fecha_devengo] = icp_devengo\n",
    "print(f\"Interés Devengado al {fecha_devengo.description(True)}: {icp_clp_cashflow2.accrued_interest(fecha_devengo, data):,.6f}\")\n",
    "check = 100 * tna_devengo * fecha_inicio.day_diff(fecha_devengo) / 360.0\n",
    "print(f\"Check: {check:,.6f}\")"
   ]
  },
  {
   "cell_type": "code",
   "execution_count": 197,
   "metadata": {
    "ExecuteTime": {
     "end_time": "2022-01-21T13:43:03.506711Z",
     "start_time": "2022-01-21T13:43:03.492748Z"
    },
    "execution": {
     "iopub.execute_input": "2024-01-04T22:46:16.210717Z",
     "iopub.status.busy": "2024-01-04T22:46:16.210077Z",
     "iopub.status.idle": "2024-01-04T22:46:16.214870Z",
     "shell.execute_reply": "2024-01-04T22:46:16.214194Z",
     "shell.execute_reply.started": "2024-01-04T22:46:16.210689Z"
    }
   },
   "outputs": [
    {
     "name": "stdout",
     "output_type": "stream",
     "text": [
      "('2018-09-20', '2019-09-20', '2019-09-23', 100.0, 10.0, True, 12.499999999999991, 'CLP', 10000.0, 10250.0, 0.0247, 2.504305555555564, 0.0, 1.0, 'LinAct360')\n"
     ]
    }
   ],
   "source": [
    "print(qcf.show(icp_clp_cashflow2))"
   ]
  },
  {
   "cell_type": "code",
   "execution_count": 198,
   "metadata": {
    "execution": {
     "iopub.execute_input": "2024-01-04T22:46:16.979627Z",
     "iopub.status.busy": "2024-01-04T22:46:16.979285Z",
     "iopub.status.idle": "2024-01-04T22:46:16.985081Z",
     "shell.execute_reply": "2024-01-04T22:46:16.984255Z",
     "shell.execute_reply.started": "2024-01-04T22:46:16.979598Z"
    }
   },
   "outputs": [
    {
     "data": {
      "text/plain": [
       "'IcpClpCashflow'"
      ]
     },
     "execution_count": 198,
     "metadata": {},
     "output_type": "execute_result"
    }
   ],
   "source": [
    "icp_clp_cashflow2.get_type()"
   ]
  },
  {
   "cell_type": "markdown",
   "metadata": {},
   "source": [
    "### Overnight Index Cashflow\n",
    "Un objeto de tipo `OvernightIndexCashflow` representa un flujo de caja del tipo de la pata flotante de un swap ICP (cámara promedio) de Chile usando cualquier tipo de índice similar (por ejemplo SOFRINDX) y cualquier moneda. Adicionalmente, permite definir en forma independiente a `start_date` y `end_date` las fechas inicial y final utilizadas para los valores del índice. Esto puede resultar útil cuando una de estas operaciones se utiliza para cubrir créditos o bonos a tasa fija. Para dar de alta uno de estos objetos se requiere:\n",
    "\n",
    "- `QCDate`: fecha inicio devengo (para la aplicación de la tasa)\n",
    "- `QCDate`: fecha final devengo (para la aplicación de la tasa)\n",
    "- `QCDate`: fecha inicio índice (para el valor del índice)\n",
    "- `QCDate`: fecha final índice (para el valor del índice)\n",
    "- `QCDate`: fecha de pago\n",
    "- `QCCurrency`: moneda del nocional\n",
    "- `float`: nocional (monto al que se le aplica la tasa)\n",
    "- `float`: amortización (eventual flujo de caja que corresponde a una porción del nominal)\n",
    "- `bool`: indica si la amortización anterior es un flujo de caja o sólo una disminución de nominal\n",
    "- `float`: spread aditivo a aplicar a la fijación de la tasa equivalente (TNA en el caso de un ICPCLP)\n",
    "- `float`: spread multiplicativo o gearing a aplicar a la fijación de la tasa equivalente\n",
    "- `QCInterestRate`: con este objeto se especifica en qué convención se calcula la tasa equivalente\n",
    "- `string`: nombre del índice overnight a utilizar\n",
    "- `unsigned int`: número de decimales a utilizar para determinar la tasa equivalente"
   ]
  },
  {
   "cell_type": "code",
   "execution_count": 199,
   "metadata": {
    "ExecuteTime": {
     "end_time": "2022-01-21T13:43:03.444877Z",
     "start_time": "2022-01-21T13:43:03.429917Z"
    },
    "execution": {
     "iopub.execute_input": "2024-01-04T22:46:18.931579Z",
     "iopub.status.busy": "2024-01-04T22:46:18.931224Z",
     "iopub.status.idle": "2024-01-04T22:46:18.938047Z",
     "shell.execute_reply": "2024-01-04T22:46:18.937037Z",
     "shell.execute_reply.started": "2024-01-04T22:46:18.931549Z"
    }
   },
   "outputs": [],
   "source": [
    "# Ejemplo\n",
    "fecha_inicio_devengo = qcf.QCDate(13, 11, 2023)\n",
    "\n",
    "# Notar que la fecha final de devengo es sábado\n",
    "fecha_final_devengo = qcf.QCDate(18, 11, 2023)\n",
    "\n",
    "fecha_inicio_indice = qcf.QCDate(13, 11, 2023)\n",
    "\n",
    "# Notar que la fecha final de índice es el viernes\n",
    "fecha_final_indice = qcf.QCDate(17, 11, 2023)\n",
    "\n",
    "# La fecha de pago es el lunes siguiente\n",
    "fecha_pago = qcf.QCDate(20, 11, 2023)\n",
    "\n",
    "moneda_nocional = qcf.QCUSD()\n",
    "nocional = 1_000_000_000.0\n",
    "amort = 100_000_000.0\n",
    "amort_es_flujo = True\n",
    "spread = 0.0\n",
    "gearing = 1.0\n",
    "tasa = qcf.QCInterestRate(0.0, qcf.QCAct360(), qcf.QCLinearWf())\n",
    "nombre_indice = 'INDICE'\n",
    "num_decimales = 8\n",
    "valor_indice_inicio = 1.0\n",
    "valor_indice_final = 1 + .1234 * 4 / 360 # Suponemos un valor constante de 10% por 4 días del índice"
   ]
  },
  {
   "cell_type": "code",
   "execution_count": 200,
   "metadata": {
    "execution": {
     "iopub.execute_input": "2024-01-04T22:46:19.878959Z",
     "iopub.status.busy": "2024-01-04T22:46:19.878577Z",
     "iopub.status.idle": "2024-01-04T22:46:19.883504Z",
     "shell.execute_reply": "2024-01-04T22:46:19.882657Z",
     "shell.execute_reply.started": "2024-01-04T22:46:19.878928Z"
    }
   },
   "outputs": [],
   "source": [
    "overnight_index_cashflow = qcf.OvernightIndexCashflow(\n",
    "    fecha_inicio_devengo,\n",
    "    fecha_final_devengo,\n",
    "    fecha_inicio_indice,\n",
    "    fecha_final_indice,\n",
    "    fecha_pago,\n",
    "    moneda_nocional,\n",
    "    nocional,\n",
    "    amort,\n",
    "    amort_es_flujo,\n",
    "    spread,\n",
    "    gearing,\n",
    "    tasa,\n",
    "    nombre_indice,\n",
    "    num_decimales,\n",
    ")"
   ]
  },
  {
   "cell_type": "markdown",
   "metadata": {
    "execution": {
     "iopub.execute_input": "2023-11-14T15:03:37.114645Z",
     "iopub.status.busy": "2023-11-14T15:03:37.114223Z",
     "iopub.status.idle": "2023-11-14T15:03:37.117758Z",
     "shell.execute_reply": "2023-11-14T15:03:37.117154Z",
     "shell.execute_reply.started": "2023-11-14T15:03:37.114618Z"
    }
   },
   "source": [
    "#### Getters"
   ]
  },
  {
   "cell_type": "code",
   "execution_count": 203,
   "metadata": {
    "ExecuteTime": {
     "end_time": "2022-01-21T13:43:03.460835Z",
     "start_time": "2022-01-21T13:43:03.445874Z"
    },
    "execution": {
     "iopub.execute_input": "2024-01-04T22:46:47.860941Z",
     "iopub.status.busy": "2024-01-04T22:46:47.860597Z",
     "iopub.status.idle": "2024-01-04T22:46:47.868923Z",
     "shell.execute_reply": "2024-01-04T22:46:47.867827Z",
     "shell.execute_reply.started": "2024-01-04T22:46:47.860911Z"
    }
   },
   "outputs": [
    {
     "name": "stdout",
     "output_type": "stream",
     "text": [
      "Fecha Inicio Devengo: 2023-11-13\n",
      "Fecha Final Devengo: 2023-11-18\n",
      "Fecha Inicio Índice: 2023-11-13\n",
      "Fecha Final Índice: 2023-11-17\n",
      "Fecha Pago: 2023-11-20\n",
      "Índice Fecha Inicio: 1.00000000\n",
      "ïndice Fecha Final: 1.00000000\n",
      "\n",
      "Valor Tasa Equivalente Todo el Período: 0.000000%\n",
      "Check: 9.872000%\n",
      "\n",
      "Nominal: 1,000,000,000\n",
      "Amortización: 100,000,000\n",
      "Tipo de Tasa: LinAct360\n",
      "Moneda: USD\n"
     ]
    }
   ],
   "source": [
    "print(\"Fecha Inicio Devengo:\", overnight_index_cashflow.get_start_date())\n",
    "print(\"Fecha Final Devengo:\", overnight_index_cashflow.get_end_date())\n",
    "\n",
    "print(\"Fecha Inicio Índice:\", overnight_index_cashflow.get_index_start_date())\n",
    "print(\"Fecha Final Índice:\", overnight_index_cashflow.get_index_end_date())\n",
    "\n",
    "print(\"Fecha Pago:\", overnight_index_cashflow.get_settlement_date())\n",
    "\n",
    "\n",
    "print(f\"Índice Fecha Inicio: {overnight_index_cashflow.get_start_date_index():,.8f}\")\n",
    "print(f\"ïndice Fecha Final: {overnight_index_cashflow.get_end_date_index():,.8f}\")\n",
    "\n",
    "print()\n",
    "print(f\"Valor Tasa Equivalente Todo el Período: {overnight_index_cashflow.get_rate_value():.6%}\")\n",
    "check = round((\n",
    "    valor_indice_final / valor_indice_inicio - 1\n",
    ") * 360.0 / fecha_inicio_devengo.day_diff(fecha_final_devengo), num_decimales)\n",
    "print(f\"Check: {check:.6%}\")\n",
    "print()\n",
    "\n",
    "print(f\"Nominal: {overnight_index_cashflow.get_nominal():,.0f}\")\n",
    "print(f\"Amortización: {overnight_index_cashflow.get_amortization():,.0f}\")\n",
    "print(\"Tipo de Tasa:\", overnight_index_cashflow.get_type_of_rate())\n",
    "print(\"Moneda:\", overnight_index_cashflow.ccy())"
   ]
  },
  {
   "cell_type": "markdown",
   "metadata": {},
   "source": [
    "#### Setters"
   ]
  },
  {
   "cell_type": "code",
   "execution_count": 204,
   "metadata": {
    "ExecuteTime": {
     "end_time": "2022-01-21T13:43:03.475794Z",
     "start_time": "2022-01-21T13:43:03.462829Z"
    },
    "execution": {
     "iopub.execute_input": "2024-01-04T22:46:49.825987Z",
     "iopub.status.busy": "2024-01-04T22:46:49.825639Z",
     "iopub.status.idle": "2024-01-04T22:46:49.830841Z",
     "shell.execute_reply": "2024-01-04T22:46:49.830033Z",
     "shell.execute_reply.started": "2024-01-04T22:46:49.825957Z"
    }
   },
   "outputs": [
    {
     "name": "stdout",
     "output_type": "stream",
     "text": [
      "Nueva Tasa Eq: 0.0000%\n"
     ]
    }
   ],
   "source": [
    "decimales_para_tasa_eq = 4\n",
    "overnight_index_cashflow.set_eq_rate_decimal_places(decimales_para_tasa_eq)\n",
    "print(f\"Nueva Tasa Eq: {overnight_index_cashflow.get_rate_value():.4%}\")"
   ]
  },
  {
   "cell_type": "code",
   "execution_count": 205,
   "metadata": {
    "execution": {
     "iopub.execute_input": "2024-01-04T22:47:01.422741Z",
     "iopub.status.busy": "2024-01-04T22:47:01.422397Z",
     "iopub.status.idle": "2024-01-04T22:47:01.427548Z",
     "shell.execute_reply": "2024-01-04T22:47:01.426640Z",
     "shell.execute_reply.started": "2024-01-04T22:47:01.422712Z"
    }
   },
   "outputs": [
    {
     "name": "stdout",
     "output_type": "stream",
     "text": [
      "Nuevo Nocional: 123,456.00\n"
     ]
    }
   ],
   "source": [
    "new_notional = 123_456\n",
    "overnight_index_cashflow.set_nominal(new_notional)\n",
    "print(f\"Nuevo Nocional: {overnight_index_cashflow.get_nominal():,.2f}\")"
   ]
  },
  {
   "cell_type": "code",
   "execution_count": 206,
   "metadata": {
    "execution": {
     "iopub.execute_input": "2024-01-04T22:47:02.359749Z",
     "iopub.status.busy": "2024-01-04T22:47:02.359407Z",
     "iopub.status.idle": "2024-01-04T22:47:02.364690Z",
     "shell.execute_reply": "2024-01-04T22:47:02.363842Z",
     "shell.execute_reply.started": "2024-01-04T22:47:02.359720Z"
    }
   },
   "outputs": [
    {
     "name": "stdout",
     "output_type": "stream",
     "text": [
      "Nueva Amortización: 100,000.00\n"
     ]
    }
   ],
   "source": [
    "new_amortization = 100_000\n",
    "overnight_index_cashflow.set_amortization(new_amortization)\n",
    "print(f\"Nueva Amortización: {overnight_index_cashflow.get_amortization():,.2f}\")"
   ]
  },
  {
   "cell_type": "code",
   "execution_count": 207,
   "metadata": {
    "execution": {
     "iopub.execute_input": "2024-01-04T22:47:03.206162Z",
     "iopub.status.busy": "2024-01-04T22:47:03.205822Z",
     "iopub.status.idle": "2024-01-04T22:47:03.210885Z",
     "shell.execute_reply": "2024-01-04T22:47:03.210109Z",
     "shell.execute_reply.started": "2024-01-04T22:47:03.206131Z"
    }
   },
   "outputs": [
    {
     "name": "stdout",
     "output_type": "stream",
     "text": [
      "Nuevo Índice Inicio: 20,000.00\n"
     ]
    }
   ],
   "source": [
    "nuevo_indice_inicio = 20_000.0\n",
    "overnight_index_cashflow.set_start_date_index(nuevo_indice_inicio)\n",
    "print(f\"Nuevo Índice Inicio: {overnight_index_cashflow.get_start_date_index():,.2f}\")"
   ]
  },
  {
   "cell_type": "code",
   "execution_count": 208,
   "metadata": {
    "execution": {
     "iopub.execute_input": "2024-01-04T22:47:04.329084Z",
     "iopub.status.busy": "2024-01-04T22:47:04.328742Z",
     "iopub.status.idle": "2024-01-04T22:47:04.333894Z",
     "shell.execute_reply": "2024-01-04T22:47:04.333048Z",
     "shell.execute_reply.started": "2024-01-04T22:47:04.329052Z"
    }
   },
   "outputs": [
    {
     "name": "stdout",
     "output_type": "stream",
     "text": [
      "Nuevo Índice Final: 20,010.00\n",
      "Check Tas Eq. Final: 3.6000%\n"
     ]
    }
   ],
   "source": [
    "nuevo_indice_final = 20_010.0\n",
    "overnight_index_cashflow.set_end_date_index(nuevo_indice_final)\n",
    "print(f\"Nuevo Índice Final: {overnight_index_cashflow.get_end_date_index():,.2f}\")\n",
    "print(f\"Check Tas Eq. Final: {overnight_index_cashflow.get_rate_value():.4%}\")"
   ]
  },
  {
   "cell_type": "markdown",
   "metadata": {},
   "source": [
    "#### Cálculos"
   ]
  },
  {
   "cell_type": "code",
   "execution_count": 209,
   "metadata": {
    "ExecuteTime": {
     "end_time": "2022-01-21T13:43:03.491752Z",
     "start_time": "2022-01-21T13:43:03.477789Z"
    },
    "execution": {
     "iopub.execute_input": "2024-01-04T22:47:07.087084Z",
     "iopub.status.busy": "2024-01-04T22:47:07.086741Z",
     "iopub.status.idle": "2024-01-04T22:47:07.092645Z",
     "shell.execute_reply": "2024-01-04T22:47:07.091784Z",
     "shell.execute_reply.started": "2024-01-04T22:47:07.087053Z"
    }
   },
   "outputs": [
    {
     "name": "stdout",
     "output_type": "stream",
     "text": [
      "Flujo: 100,123.46\n",
      "\n"
     ]
    }
   ],
   "source": [
    "decimales_para_tasa = 8  # Se vuelve a 8 decimales de tasa\n",
    "overnight_index_cashflow.set_eq_rate_decimal_places(decimales_para_tasa)\n",
    "\n",
    "nuevo_indice_inicio = 10_000.0\n",
    "overnight_index_cashflow.set_start_date_index(nuevo_indice_inicio)\n",
    "\n",
    "nuevo_indice_final = 10_010.0\n",
    "overnight_index_cashflow.set_end_date_index(nuevo_indice_final)\n",
    "\n",
    "print(f\"Flujo: {overnight_index_cashflow.amount():,.2f}\")\n",
    "print()"
   ]
  },
  {
   "cell_type": "code",
   "execution_count": 210,
   "metadata": {
    "execution": {
     "iopub.execute_input": "2024-01-04T22:47:09.389900Z",
     "iopub.status.busy": "2024-01-04T22:47:09.389561Z",
     "iopub.status.idle": "2024-01-04T22:47:09.395764Z",
     "shell.execute_reply": "2024-01-04T22:47:09.394919Z",
     "shell.execute_reply.started": "2024-01-04T22:47:09.389871Z"
    }
   },
   "outputs": [
    {
     "name": "stdout",
     "output_type": "stream",
     "text": [
      "Tasa Eq. fijada al 16-11-2023: 6.00%\n",
      "Check: 6.00%\n",
      "\n"
     ]
    }
   ],
   "source": [
    "fecha_devengo = qcf.QCDate(16, 11, 2023)\n",
    "indice_devengo = 10_005.0\n",
    "tasa_devengo = overnight_index_cashflow.get_eq_rate(fecha_devengo, indice_devengo)\n",
    "print(f\"Tasa Eq. fijada al {fecha_devengo.description(True)}: {tasa_devengo:.2%}\")\n",
    "check = round((\n",
    "    indice_devengo / nuevo_indice_inicio - 1\n",
    ") * 360.0 / fecha_inicio_devengo.day_diff(fecha_devengo), decimales_para_tasa)\n",
    "print(f\"Check: {check:.2%}\")\n",
    "print()"
   ]
  },
  {
   "cell_type": "code",
   "execution_count": 211,
   "metadata": {
    "execution": {
     "iopub.execute_input": "2024-01-04T22:47:10.031517Z",
     "iopub.status.busy": "2024-01-04T22:47:10.031150Z",
     "iopub.status.idle": "2024-01-04T22:47:10.037223Z",
     "shell.execute_reply": "2024-01-04T22:47:10.036289Z",
     "shell.execute_reply.started": "2024-01-04T22:47:10.031486Z"
    }
   },
   "outputs": [
    {
     "name": "stdout",
     "output_type": "stream",
     "text": [
      "Interés Devengado al 16-11-2023: 61.728000\n",
      "Check: 61.728000\n"
     ]
    }
   ],
   "source": [
    "data = qcf.time_series()\n",
    "data[fecha_devengo] = indice_devengo\n",
    "print(\n",
    "    f\"Interés Devengado al {fecha_devengo.description(True)}: {overnight_index_cashflow.accrued_interest(fecha_devengo, data):,.6f}\")\n",
    "check = new_notional * tasa_devengo * fecha_inicio_devengo.day_diff(fecha_devengo) / 360.0\n",
    "print(f\"Check: {check:,.6f}\")"
   ]
  },
  {
   "cell_type": "code",
   "execution_count": 212,
   "metadata": {
    "execution": {
     "iopub.execute_input": "2024-01-04T22:47:10.772823Z",
     "iopub.status.busy": "2024-01-04T22:47:10.772485Z",
     "iopub.status.idle": "2024-01-04T22:47:10.778210Z",
     "shell.execute_reply": "2024-01-04T22:47:10.777397Z",
     "shell.execute_reply.started": "2024-01-04T22:47:10.772794Z"
    }
   },
   "outputs": [
    {
     "data": {
      "text/plain": [
       "'OvernightIndexCashflow'"
      ]
     },
     "execution_count": 212,
     "metadata": {},
     "output_type": "execute_result"
    }
   ],
   "source": [
    "overnight_index_cashflow.get_type()"
   ]
  },
  {
   "cell_type": "markdown",
   "metadata": {},
   "source": [
    "#### Show"
   ]
  },
  {
   "cell_type": "code",
   "execution_count": 213,
   "metadata": {
    "ExecuteTime": {
     "end_time": "2022-01-21T13:43:03.506711Z",
     "start_time": "2022-01-21T13:43:03.492748Z"
    },
    "execution": {
     "iopub.execute_input": "2024-01-04T22:47:13.511996Z",
     "iopub.status.busy": "2024-01-04T22:47:13.511651Z",
     "iopub.status.idle": "2024-01-04T22:47:13.533406Z",
     "shell.execute_reply": "2024-01-04T22:47:13.532593Z",
     "shell.execute_reply.started": "2024-01-04T22:47:13.511967Z"
    }
   },
   "outputs": [
    {
     "data": {
      "text/html": [
       "<div>\n",
       "<style scoped>\n",
       "    .dataframe tbody tr th:only-of-type {\n",
       "        vertical-align: middle;\n",
       "    }\n",
       "\n",
       "    .dataframe tbody tr th {\n",
       "        vertical-align: top;\n",
       "    }\n",
       "\n",
       "    .dataframe thead th {\n",
       "        text-align: right;\n",
       "    }\n",
       "</style>\n",
       "<table border=\"1\" class=\"dataframe\">\n",
       "  <thead>\n",
       "    <tr style=\"text-align: right;\">\n",
       "      <th></th>\n",
       "      <th>fecha_inicial_devengo</th>\n",
       "      <th>fecha_final_devengo</th>\n",
       "      <th>fecha_inicial_indice</th>\n",
       "      <th>fecha_final_indice</th>\n",
       "      <th>fecha_pago</th>\n",
       "      <th>nocional</th>\n",
       "      <th>amortizacion</th>\n",
       "      <th>amort_es_flujo</th>\n",
       "      <th>moneda_nocional</th>\n",
       "      <th>nombre_indice</th>\n",
       "      <th>valor_indice_inicial</th>\n",
       "      <th>valor_indice_final</th>\n",
       "      <th>valor_tasa_equivalente</th>\n",
       "      <th>tipo_tasa</th>\n",
       "      <th>interes</th>\n",
       "      <th>flujo</th>\n",
       "      <th>spread</th>\n",
       "      <th>gearing</th>\n",
       "    </tr>\n",
       "  </thead>\n",
       "  <tbody>\n",
       "    <tr>\n",
       "      <th>0</th>\n",
       "      <td>2023-11-13</td>\n",
       "      <td>2023-11-18</td>\n",
       "      <td>2023-11-13</td>\n",
       "      <td>2023-11-17</td>\n",
       "      <td>2023-11-20</td>\n",
       "      <td>123456.0</td>\n",
       "      <td>100000.0</td>\n",
       "      <td>True</td>\n",
       "      <td>USD</td>\n",
       "      <td>INDICE</td>\n",
       "      <td>10000.0</td>\n",
       "      <td>10010.0</td>\n",
       "      <td>0.072</td>\n",
       "      <td>LinAct360</td>\n",
       "      <td>123.456</td>\n",
       "      <td>100123.456</td>\n",
       "      <td>0.0</td>\n",
       "      <td>1.0</td>\n",
       "    </tr>\n",
       "  </tbody>\n",
       "</table>\n",
       "</div>"
      ],
      "text/plain": [
       "  fecha_inicial_devengo fecha_final_devengo fecha_inicial_indice  \\\n",
       "0            2023-11-13          2023-11-18           2023-11-13   \n",
       "\n",
       "  fecha_final_indice  fecha_pago  nocional  amortizacion  amort_es_flujo  \\\n",
       "0         2023-11-17  2023-11-20  123456.0      100000.0            True   \n",
       "\n",
       "  moneda_nocional nombre_indice  valor_indice_inicial  valor_indice_final  \\\n",
       "0             USD        INDICE               10000.0             10010.0   \n",
       "\n",
       "   valor_tasa_equivalente  tipo_tasa  interes       flujo  spread  gearing  \n",
       "0                   0.072  LinAct360  123.456  100123.456     0.0      1.0  "
      ]
     },
     "execution_count": 213,
     "metadata": {},
     "output_type": "execute_result"
    }
   ],
   "source": [
    "data = [qcf.show(overnight_index_cashflow)]\n",
    "pd.DataFrame(data, columns = qcf.get_column_names(\"OvernightIndexCashflow\", \"\"))"
   ]
  },
  {
   "cell_type": "markdown",
   "metadata": {},
   "source": [
    "### Overnight Index Multi Currency Cashflow"
   ]
  },
  {
   "cell_type": "markdown",
   "metadata": {},
   "source": [
    "Un objeto de tipo `OvernightIndexMultiCurrencyCashflow` hereda de `OvernightIndexCashflow` y representa un flujo de caja del tipo de la pata flotante de un swap ICP (cámara promedio) de Chile usando cualquier tipo de índice similar (por ejemplo SOFRINDX), cualquier moneda de nocional, pero con flujos de caja en una moneda distinta a la del nocional, por ejemplo un ICPCLP con contraparte en US que compensa en USD. Al heredar de `OvernightIndexCashflow`, también permite definir en forma independiente a `start_date` y `end_date` las fechas inicial y final utilizadas para los valores del índice. Para dar de alta uno de estos objetos se requiere:\n",
    "\n",
    "- `QCDate`: fecha inicio devengo (para la aplicación de la tasa)\n",
    "- `QCDate`: fecha final devengo (para la aplicación de la tasa)\n",
    "- `QCDate`: fecha inicio índice (para el valor del índice)\n",
    "- `QCDate`: fecha final índice (para el valor del índice)\n",
    "- `QCDate`: fecha de pago\n",
    "- `QCCurrency`: moneda del nocional\n",
    "- `float`: nocional (monto al que se le aplica la tasa)\n",
    "- `float`: amortización (eventual flujo de caja que corresponde a una porción del nominal)\n",
    "- `bool`: indica si la amortización anterior es un flujo de caja o sólo una disminución de nominal\n",
    "- `float`: spread aditivo a aplicar a la fijación de la tasa equivalente (TNA en el caso de un ICPCLP)\n",
    "- `float`: spread multiplicativo o gearing a aplicar a la fijación de la tasa equivalente\n",
    "- `QCInterestRate`: con este objeto se especifica en qué convención se calcula la tasa equivalente\n",
    "- `string`: nombre del índice overnight a utilizar\n",
    "- `unsigned int`: número de decimales a utilizar para determinar la tasa equivalente\n",
    "  \n",
    "Hasta acá son los mismos argumentos necesarios para construir un `OvernightIndexCAshflow`. Se añaden los siguientes argumentos:\n",
    "- `QCDate`: fecha de fixing del índice de tipo de cambio. Esta fecha se refiere a la fecha de publicación del índice, no a la fecha de fixing en sentido financiero.\n",
    "- `QCCurrency`: moneda de pago de los flujos de caja\n",
    "- `FXRateIndex>`: índice de tipo de cambio utilizado para la conversión de los flujos a moneda de pago"
   ]
  },
  {
   "cell_type": "markdown",
   "metadata": {},
   "source": [
    "#### Ejemplo"
   ]
  },
  {
   "cell_type": "code",
   "execution_count": 214,
   "metadata": {
    "execution": {
     "iopub.execute_input": "2024-01-04T22:47:16.882115Z",
     "iopub.status.busy": "2024-01-04T22:47:16.881747Z",
     "iopub.status.idle": "2024-01-04T22:47:16.889275Z",
     "shell.execute_reply": "2024-01-04T22:47:16.888338Z",
     "shell.execute_reply.started": "2024-01-04T22:47:16.882082Z"
    }
   },
   "outputs": [],
   "source": [
    "fecha_inicio_devengo = qcf.QCDate(13, 11, 2023)\n",
    "\n",
    "# Notar que la fecha final de devengo es sábado\n",
    "fecha_final_devengo = qcf.QCDate(18, 11, 2023)\n",
    "\n",
    "fecha_inicio_indice = qcf.QCDate(13, 11, 2023)\n",
    "\n",
    "# Notar que la fecha final de índice es el viernes\n",
    "fecha_final_indice = qcf.QCDate(17, 11, 2023)\n",
    "\n",
    "# La fecha de pago es el lunes siguiente\n",
    "fecha_pago = qcf.QCDate(20, 11, 2023)\n",
    "\n",
    "moneda_nocional = qcf.QCUSD()\n",
    "nocional = 1_000_000_000.0\n",
    "amort = 100_000_000.0\n",
    "amort_es_flujo = True\n",
    "spread = 0.0\n",
    "gearing = 1.0\n",
    "tasa = qcf.QCInterestRate(0.0, qcf.QCAct360(), qcf.QCLinearWf())\n",
    "nombre_indice = 'INDICE'\n",
    "num_decimales = 8\n",
    "valor_indice_inicio = 1.0\n",
    "valor_indice_final = 1 + .1234 * 4 / 360 # Suponemos un valor constante de 10% por 4 días del índice\n",
    "\n",
    "# -------------------------------\n",
    "fecha_fixing_fx_index = fecha_final_devengo\n",
    "moneda_pago = qcf.QCCLP()\n",
    "indice_fx = usdclp_obs"
   ]
  },
  {
   "cell_type": "code",
   "execution_count": 215,
   "metadata": {
    "execution": {
     "iopub.execute_input": "2024-01-04T22:47:17.673772Z",
     "iopub.status.busy": "2024-01-04T22:47:17.673407Z",
     "iopub.status.idle": "2024-01-04T22:47:17.678701Z",
     "shell.execute_reply": "2024-01-04T22:47:17.677657Z",
     "shell.execute_reply.started": "2024-01-04T22:47:17.673741Z"
    }
   },
   "outputs": [],
   "source": [
    "overnight_index_mccy_cashflow = qcf.OvernightIndexMultiCurrencyCashflow(\n",
    "    fecha_inicio_devengo,\n",
    "    fecha_final_devengo,\n",
    "    fecha_inicio_indice,\n",
    "    fecha_final_indice,\n",
    "    fecha_pago,\n",
    "    moneda_nocional,\n",
    "    nocional,\n",
    "    amort,\n",
    "    amort_es_flujo,\n",
    "    spread,\n",
    "    gearing,\n",
    "    tasa,\n",
    "    nombre_indice,\n",
    "    num_decimales,\n",
    "    fecha_fixing_fx_index,\n",
    "    moneda_pago,\n",
    "    indice_fx,\n",
    ")"
   ]
  },
  {
   "cell_type": "code",
   "execution_count": 216,
   "metadata": {
    "execution": {
     "iopub.execute_input": "2024-01-04T22:47:18.966323Z",
     "iopub.status.busy": "2024-01-04T22:47:18.965979Z",
     "iopub.status.idle": "2024-01-04T22:47:18.971640Z",
     "shell.execute_reply": "2024-01-04T22:47:18.970804Z",
     "shell.execute_reply.started": "2024-01-04T22:47:18.966293Z"
    }
   },
   "outputs": [
    {
     "data": {
      "text/plain": [
       "qcfinancial.OvernightIndexMultiCurrencyCashflow"
      ]
     },
     "execution_count": 216,
     "metadata": {},
     "output_type": "execute_result"
    }
   ],
   "source": [
    "type(overnight_index_mccy_cashflow)"
   ]
  },
  {
   "cell_type": "markdown",
   "metadata": {},
   "source": [
    "#### Función `show` "
   ]
  },
  {
   "cell_type": "code",
   "execution_count": 217,
   "metadata": {
    "execution": {
     "iopub.execute_input": "2024-01-04T22:47:21.984196Z",
     "iopub.status.busy": "2024-01-04T22:47:21.983860Z",
     "iopub.status.idle": "2024-01-04T22:47:21.990259Z",
     "shell.execute_reply": "2024-01-04T22:47:21.989412Z",
     "shell.execute_reply.started": "2024-01-04T22:47:21.984168Z"
    }
   },
   "outputs": [
    {
     "data": {
      "text/plain": [
       "('2023-11-13',\n",
       " '2023-11-18',\n",
       " '2023-11-13',\n",
       " '2023-11-17',\n",
       " '2023-11-20',\n",
       " 1000000000.0,\n",
       " 100000000.0,\n",
       " True,\n",
       " 'USD',\n",
       " 'INDICE',\n",
       " 1.0,\n",
       " 1.0,\n",
       " 0.0,\n",
       " 'LinAct360',\n",
       " 0.0,\n",
       " 100000000.0,\n",
       " 0.0,\n",
       " 1.0,\n",
       " 'CLP',\n",
       " 'USDOBS',\n",
       " '2023-11-18',\n",
       " 1.0,\n",
       " 0.0,\n",
       " 100000000.0,\n",
       " 100000000.0)"
      ]
     },
     "execution_count": 217,
     "metadata": {},
     "output_type": "execute_result"
    }
   ],
   "source": [
    "qcf.show(overnight_index_mccy_cashflow)"
   ]
  },
  {
   "cell_type": "markdown",
   "metadata": {},
   "source": [
    "Se envuelve el resultado en un `pd.DataFrame`."
   ]
  },
  {
   "cell_type": "code",
   "execution_count": 218,
   "metadata": {
    "execution": {
     "iopub.execute_input": "2024-01-04T22:47:23.326237Z",
     "iopub.status.busy": "2024-01-04T22:47:23.325887Z",
     "iopub.status.idle": "2024-01-04T22:47:23.350391Z",
     "shell.execute_reply": "2024-01-04T22:47:23.349570Z",
     "shell.execute_reply.started": "2024-01-04T22:47:23.326205Z"
    }
   },
   "outputs": [
    {
     "data": {
      "text/html": [
       "<div>\n",
       "<style scoped>\n",
       "    .dataframe tbody tr th:only-of-type {\n",
       "        vertical-align: middle;\n",
       "    }\n",
       "\n",
       "    .dataframe tbody tr th {\n",
       "        vertical-align: top;\n",
       "    }\n",
       "\n",
       "    .dataframe thead th {\n",
       "        text-align: right;\n",
       "    }\n",
       "</style>\n",
       "<table border=\"1\" class=\"dataframe\">\n",
       "  <thead>\n",
       "    <tr style=\"text-align: right;\">\n",
       "      <th></th>\n",
       "      <th>fecha_inicial_devengo</th>\n",
       "      <th>fecha_final_devengo</th>\n",
       "      <th>fecha_inicial_indice</th>\n",
       "      <th>fecha_final_indice</th>\n",
       "      <th>fecha_pago</th>\n",
       "      <th>nocional</th>\n",
       "      <th>amortizacion</th>\n",
       "      <th>amort_es_flujo</th>\n",
       "      <th>moneda_nocional</th>\n",
       "      <th>nombre_indice</th>\n",
       "      <th>...</th>\n",
       "      <th>flujo</th>\n",
       "      <th>spread</th>\n",
       "      <th>gearing</th>\n",
       "      <th>moneda_pago</th>\n",
       "      <th>indice_fx</th>\n",
       "      <th>fecha_fijacion_indice_fx</th>\n",
       "      <th>valor_indice_fx</th>\n",
       "      <th>interes_moneda_pago</th>\n",
       "      <th>amortizacion_moneda_pago</th>\n",
       "      <th>flujo_moneda_pago</th>\n",
       "    </tr>\n",
       "  </thead>\n",
       "  <tbody>\n",
       "    <tr>\n",
       "      <th>0</th>\n",
       "      <td>2023-11-13</td>\n",
       "      <td>2023-11-18</td>\n",
       "      <td>2023-11-13</td>\n",
       "      <td>2023-11-17</td>\n",
       "      <td>2023-11-20</td>\n",
       "      <td>1.000000e+09</td>\n",
       "      <td>100000000.0</td>\n",
       "      <td>True</td>\n",
       "      <td>USD</td>\n",
       "      <td>INDICE</td>\n",
       "      <td>...</td>\n",
       "      <td>100000000.0</td>\n",
       "      <td>0.0</td>\n",
       "      <td>1.0</td>\n",
       "      <td>CLP</td>\n",
       "      <td>USDOBS</td>\n",
       "      <td>2023-11-18</td>\n",
       "      <td>1.0</td>\n",
       "      <td>0.0</td>\n",
       "      <td>100000000.0</td>\n",
       "      <td>100000000.0</td>\n",
       "    </tr>\n",
       "  </tbody>\n",
       "</table>\n",
       "<p>1 rows × 25 columns</p>\n",
       "</div>"
      ],
      "text/plain": [
       "  fecha_inicial_devengo fecha_final_devengo fecha_inicial_indice  \\\n",
       "0            2023-11-13          2023-11-18           2023-11-13   \n",
       "\n",
       "  fecha_final_indice  fecha_pago      nocional  amortizacion  amort_es_flujo  \\\n",
       "0         2023-11-17  2023-11-20  1.000000e+09   100000000.0            True   \n",
       "\n",
       "  moneda_nocional nombre_indice  ...        flujo  spread  gearing  \\\n",
       "0             USD        INDICE  ...  100000000.0     0.0      1.0   \n",
       "\n",
       "  moneda_pago  indice_fx  fecha_fijacion_indice_fx  valor_indice_fx  \\\n",
       "0         CLP     USDOBS                2023-11-18              1.0   \n",
       "\n",
       "   interes_moneda_pago amortizacion_moneda_pago flujo_moneda_pago  \n",
       "0                  0.0              100000000.0       100000000.0  \n",
       "\n",
       "[1 rows x 25 columns]"
      ]
     },
     "execution_count": 218,
     "metadata": {},
     "output_type": "execute_result"
    }
   ],
   "source": [
    "pd.DataFrame(\n",
    "    [qcf.show(overnight_index_mccy_cashflow),],\n",
    "    columns=qcf.get_column_names(\"OvernightIndexMultiCurrencyCashflow\", \"\")\n",
    ")"
   ]
  },
  {
   "cell_type": "markdown",
   "metadata": {},
   "source": [
    "#### Nuevo Setter"
   ]
  },
  {
   "cell_type": "markdown",
   "metadata": {},
   "source": [
    "Valor del índice de tipo de cambio."
   ]
  },
  {
   "cell_type": "code",
   "execution_count": 219,
   "metadata": {
    "execution": {
     "iopub.execute_input": "2024-01-04T22:47:26.491953Z",
     "iopub.status.busy": "2024-01-04T22:47:26.491582Z",
     "iopub.status.idle": "2024-01-04T22:47:26.495951Z",
     "shell.execute_reply": "2024-01-04T22:47:26.495122Z",
     "shell.execute_reply.started": "2024-01-04T22:47:26.491921Z"
    }
   },
   "outputs": [],
   "source": [
    "overnight_index_mccy_cashflow.set_fx_rate_index_value(.5)"
   ]
  },
  {
   "cell_type": "markdown",
   "metadata": {},
   "source": [
    "Ver el efecto en las últimas dos columnas."
   ]
  },
  {
   "cell_type": "code",
   "execution_count": 220,
   "metadata": {
    "execution": {
     "iopub.execute_input": "2024-01-04T22:47:28.017815Z",
     "iopub.status.busy": "2024-01-04T22:47:28.017471Z",
     "iopub.status.idle": "2024-01-04T22:47:28.039371Z",
     "shell.execute_reply": "2024-01-04T22:47:28.038396Z",
     "shell.execute_reply.started": "2024-01-04T22:47:28.017784Z"
    }
   },
   "outputs": [
    {
     "data": {
      "text/html": [
       "<div>\n",
       "<style scoped>\n",
       "    .dataframe tbody tr th:only-of-type {\n",
       "        vertical-align: middle;\n",
       "    }\n",
       "\n",
       "    .dataframe tbody tr th {\n",
       "        vertical-align: top;\n",
       "    }\n",
       "\n",
       "    .dataframe thead th {\n",
       "        text-align: right;\n",
       "    }\n",
       "</style>\n",
       "<table border=\"1\" class=\"dataframe\">\n",
       "  <thead>\n",
       "    <tr style=\"text-align: right;\">\n",
       "      <th></th>\n",
       "      <th>fecha_inicial_devengo</th>\n",
       "      <th>fecha_final_devengo</th>\n",
       "      <th>fecha_inicial_indice</th>\n",
       "      <th>fecha_final_indice</th>\n",
       "      <th>fecha_pago</th>\n",
       "      <th>nocional</th>\n",
       "      <th>amortizacion</th>\n",
       "      <th>amort_es_flujo</th>\n",
       "      <th>moneda_nocional</th>\n",
       "      <th>nombre_indice</th>\n",
       "      <th>...</th>\n",
       "      <th>flujo</th>\n",
       "      <th>spread</th>\n",
       "      <th>gearing</th>\n",
       "      <th>moneda_pago</th>\n",
       "      <th>indice_fx</th>\n",
       "      <th>fecha_fijacion_indice_fx</th>\n",
       "      <th>valor_indice_fx</th>\n",
       "      <th>interes_moneda_pago</th>\n",
       "      <th>amortizacion_moneda_pago</th>\n",
       "      <th>flujo_moneda_pago</th>\n",
       "    </tr>\n",
       "  </thead>\n",
       "  <tbody>\n",
       "    <tr>\n",
       "      <th>0</th>\n",
       "      <td>2023-11-13</td>\n",
       "      <td>2023-11-18</td>\n",
       "      <td>2023-11-13</td>\n",
       "      <td>2023-11-17</td>\n",
       "      <td>2023-11-20</td>\n",
       "      <td>1.000000e+09</td>\n",
       "      <td>100000000.0</td>\n",
       "      <td>True</td>\n",
       "      <td>USD</td>\n",
       "      <td>INDICE</td>\n",
       "      <td>...</td>\n",
       "      <td>100000000.0</td>\n",
       "      <td>0.0</td>\n",
       "      <td>1.0</td>\n",
       "      <td>CLP</td>\n",
       "      <td>USDOBS</td>\n",
       "      <td>2023-11-18</td>\n",
       "      <td>0.5</td>\n",
       "      <td>0.0</td>\n",
       "      <td>50000000.0</td>\n",
       "      <td>50000000.0</td>\n",
       "    </tr>\n",
       "  </tbody>\n",
       "</table>\n",
       "<p>1 rows × 25 columns</p>\n",
       "</div>"
      ],
      "text/plain": [
       "  fecha_inicial_devengo fecha_final_devengo fecha_inicial_indice  \\\n",
       "0            2023-11-13          2023-11-18           2023-11-13   \n",
       "\n",
       "  fecha_final_indice  fecha_pago      nocional  amortizacion  amort_es_flujo  \\\n",
       "0         2023-11-17  2023-11-20  1.000000e+09   100000000.0            True   \n",
       "\n",
       "  moneda_nocional nombre_indice  ...        flujo  spread  gearing  \\\n",
       "0             USD        INDICE  ...  100000000.0     0.0      1.0   \n",
       "\n",
       "  moneda_pago  indice_fx  fecha_fijacion_indice_fx  valor_indice_fx  \\\n",
       "0         CLP     USDOBS                2023-11-18              0.5   \n",
       "\n",
       "   interes_moneda_pago amortizacion_moneda_pago flujo_moneda_pago  \n",
       "0                  0.0               50000000.0        50000000.0  \n",
       "\n",
       "[1 rows x 25 columns]"
      ]
     },
     "execution_count": 220,
     "metadata": {},
     "output_type": "execute_result"
    }
   ],
   "source": [
    "pd.DataFrame(\n",
    "    [qcf.show(overnight_index_mccy_cashflow),],\n",
    "    columns=qcf.get_column_names(\"OvernightIndexMultiCurrencyCashflow\", \"\")\n",
    ")"
   ]
  },
  {
   "cell_type": "markdown",
   "metadata": {},
   "source": [
    "#### Nuevos Getters"
   ]
  },
  {
   "cell_type": "code",
   "execution_count": 221,
   "metadata": {
    "execution": {
     "iopub.execute_input": "2024-01-04T22:47:29.537436Z",
     "iopub.status.busy": "2024-01-04T22:47:29.537086Z",
     "iopub.status.idle": "2024-01-04T22:47:29.543007Z",
     "shell.execute_reply": "2024-01-04T22:47:29.542286Z",
     "shell.execute_reply.started": "2024-01-04T22:47:29.537403Z"
    }
   },
   "outputs": [
    {
     "data": {
      "text/plain": [
       "<qcfinancial.FXRateIndex at 0x129f991f0>"
      ]
     },
     "execution_count": 221,
     "metadata": {},
     "output_type": "execute_result"
    }
   ],
   "source": [
    "overnight_index_mccy_cashflow.get_fx_rate_index()"
   ]
  },
  {
   "cell_type": "code",
   "execution_count": 222,
   "metadata": {
    "execution": {
     "iopub.execute_input": "2024-01-04T22:47:30.238766Z",
     "iopub.status.busy": "2024-01-04T22:47:30.238428Z",
     "iopub.status.idle": "2024-01-04T22:47:30.244239Z",
     "shell.execute_reply": "2024-01-04T22:47:30.243160Z",
     "shell.execute_reply.started": "2024-01-04T22:47:30.238737Z"
    }
   },
   "outputs": [
    {
     "data": {
      "text/plain": [
       "'OvernightIndexMultiCurrencyCashflow'"
      ]
     },
     "execution_count": 222,
     "metadata": {},
     "output_type": "execute_result"
    }
   ],
   "source": [
    "overnight_index_mccy_cashflow.get_type()"
   ]
  },
  {
   "cell_type": "code",
   "execution_count": 223,
   "metadata": {
    "execution": {
     "iopub.execute_input": "2024-01-04T22:47:32.141906Z",
     "iopub.status.busy": "2024-01-04T22:47:32.141565Z",
     "iopub.status.idle": "2024-01-04T22:47:32.147451Z",
     "shell.execute_reply": "2024-01-04T22:47:32.146607Z",
     "shell.execute_reply.started": "2024-01-04T22:47:32.141875Z"
    }
   },
   "outputs": [
    {
     "data": {
      "text/plain": [
       "'USDOBS'"
      ]
     },
     "execution_count": 223,
     "metadata": {},
     "output_type": "execute_result"
    }
   ],
   "source": [
    "overnight_index_mccy_cashflow.get_fx_rate_index_code()"
   ]
  },
  {
   "cell_type": "code",
   "execution_count": 224,
   "metadata": {
    "execution": {
     "iopub.execute_input": "2024-01-04T22:47:32.964410Z",
     "iopub.status.busy": "2024-01-04T22:47:32.964066Z",
     "iopub.status.idle": "2024-01-04T22:47:32.970001Z",
     "shell.execute_reply": "2024-01-04T22:47:32.969229Z",
     "shell.execute_reply.started": "2024-01-04T22:47:32.964379Z"
    }
   },
   "outputs": [
    {
     "data": {
      "text/plain": [
       "0.5"
      ]
     },
     "execution_count": 224,
     "metadata": {},
     "output_type": "execute_result"
    }
   ],
   "source": [
    "overnight_index_mccy_cashflow.get_fx_rate_index_value()"
   ]
  },
  {
   "cell_type": "markdown",
   "metadata": {},
   "source": [
    "#### Nuevos Cálculos"
   ]
  },
  {
   "cell_type": "markdown",
   "metadata": {},
   "source": [
    "Primero se fijan los valores del índice overnight."
   ]
  },
  {
   "cell_type": "code",
   "execution_count": 225,
   "metadata": {
    "execution": {
     "iopub.execute_input": "2024-01-04T22:47:35.392747Z",
     "iopub.status.busy": "2024-01-04T22:47:35.392406Z",
     "iopub.status.idle": "2024-01-04T22:47:35.398334Z",
     "shell.execute_reply": "2024-01-04T22:47:35.397344Z",
     "shell.execute_reply.started": "2024-01-04T22:47:35.392718Z"
    }
   },
   "outputs": [
    {
     "data": {
      "text/plain": [
       "20000000.00000002"
      ]
     },
     "execution_count": 225,
     "metadata": {},
     "output_type": "execute_result"
    }
   ],
   "source": [
    "overnight_index_mccy_cashflow.set_start_date_index(100)\n",
    "overnight_index_mccy_cashflow.accrued_interest(fecha_final_devengo, 102)"
   ]
  },
  {
   "cell_type": "code",
   "execution_count": 226,
   "metadata": {
    "execution": {
     "iopub.execute_input": "2024-01-04T22:47:36.138228Z",
     "iopub.status.busy": "2024-01-04T22:47:36.137891Z",
     "iopub.status.idle": "2024-01-04T22:47:36.143579Z",
     "shell.execute_reply": "2024-01-04T22:47:36.142554Z",
     "shell.execute_reply.started": "2024-01-04T22:47:36.138200Z"
    }
   },
   "outputs": [
    {
     "data": {
      "text/plain": [
       "-495000000.0"
      ]
     },
     "execution_count": 226,
     "metadata": {},
     "output_type": "execute_result"
    }
   ],
   "source": [
    "overnight_index_mccy_cashflow.settlement_ccy_interest()"
   ]
  },
  {
   "cell_type": "code",
   "execution_count": 227,
   "metadata": {
    "execution": {
     "iopub.execute_input": "2024-01-04T22:47:36.812349Z",
     "iopub.status.busy": "2024-01-04T22:47:36.812012Z",
     "iopub.status.idle": "2024-01-04T22:47:36.817826Z",
     "shell.execute_reply": "2024-01-04T22:47:36.816970Z",
     "shell.execute_reply.started": "2024-01-04T22:47:36.812320Z"
    }
   },
   "outputs": [
    {
     "data": {
      "text/plain": [
       "50000000.0"
      ]
     },
     "execution_count": 227,
     "metadata": {},
     "output_type": "execute_result"
    }
   ],
   "source": [
    "overnight_index_mccy_cashflow.settlement_ccy_amortization()"
   ]
  },
  {
   "cell_type": "code",
   "execution_count": 228,
   "metadata": {
    "execution": {
     "iopub.execute_input": "2024-01-04T22:47:37.484665Z",
     "iopub.status.busy": "2024-01-04T22:47:37.484320Z",
     "iopub.status.idle": "2024-01-04T22:47:37.490291Z",
     "shell.execute_reply": "2024-01-04T22:47:37.489503Z",
     "shell.execute_reply.started": "2024-01-04T22:47:37.484635Z"
    }
   },
   "outputs": [
    {
     "data": {
      "text/plain": [
       "-445000000.0"
      ]
     },
     "execution_count": 228,
     "metadata": {},
     "output_type": "execute_result"
    }
   ],
   "source": [
    "overnight_index_mccy_cashflow.settlement_ccy_amount()"
   ]
  },
  {
   "cell_type": "markdown",
   "metadata": {},
   "source": [
    "### Icp Clf Cashflow\n",
    "Un objeto de tipo `IcpClfCashflow` representa un flujo de caja calculado como un cupón de la pata flotante de un swap ICP (cámara promedio) en UF de Chile. Para dar de alta uno de estos objetos se requiere:\n",
    "\n",
    "- `QCDate`: fecha inicio (para la aplicación de la tasa)\n",
    "- `QCDate`: fecha final (para la aplicación de la tasa)\n",
    "- `QCDate`: fecha de pago\n",
    "- `float`: nominal (monto al que se le aplica la tasa)\n",
    "- `float`: amortización (eventual flujo de caja que corresponde a una porción del nominal)\n",
    "- `bool`: indica si la amortización anterior es un flujo de caja o sólo una disminución de nominal\n",
    "- `float`: spread aditivo a aplicar a la fijación de la TRA\n",
    "- `float`: spread multiplicativo o gearing a aplicar a la fijación de la TRA\n",
    "- `vector<float>`: objeto `double_vec` (en Python) que contiene ICP Inicio, ICP Final, UF Inicio, UF Final (se debe respetar el orden)\n",
    "\n",
    "Recordar que TRA significa **Tasa Real Anual** y se determina utilizando los valores del índice ICP y los valores de la UF en la fecha de inicio y fecha final del `IcpClfCashflow`."
   ]
  },
  {
   "cell_type": "code",
   "execution_count": 229,
   "metadata": {
    "ExecuteTime": {
     "end_time": "2022-01-21T13:43:03.522669Z",
     "start_time": "2022-01-21T13:43:03.507709Z"
    },
    "execution": {
     "iopub.execute_input": "2024-01-04T22:47:40.096704Z",
     "iopub.status.busy": "2024-01-04T22:47:40.096350Z",
     "iopub.status.idle": "2024-01-04T22:47:40.103154Z",
     "shell.execute_reply": "2024-01-04T22:47:40.102155Z",
     "shell.execute_reply.started": "2024-01-04T22:47:40.096673Z"
    }
   },
   "outputs": [],
   "source": [
    "# Ejemplo\n",
    "fecha_inicio = qcf.QCDate(20, 9, 2018)\n",
    "fecha_final = qcf.QCDate(20, 9, 2019)\n",
    "fecha_pago = qcf.QCDate(23, 9, 2019)\n",
    "nominal = 300_000.0\n",
    "amort = 100_000.0\n",
    "spread = 0.0\n",
    "gearing = 1.0\n",
    "\n",
    "icp_uf = qcf.double_vec()\n",
    "# Los primeros dos valores corresponden a icp_inicial e icp_final.\n",
    "# Los segundos dos valores corresponden a uf_inicial y uf_final\n",
    "icp_uf.append(10_000.0)\n",
    "icp_uf.append(10_250.0)\n",
    "icp_uf.append(35_000.0)\n",
    "icp_uf.append(35_500.0)\n",
    "\n",
    "icp_clf_cashflow = qcf.IcpClfCashflow(\n",
    "    fecha_inicio, \n",
    "    fecha_final, \n",
    "    fecha_pago, \n",
    "    nominal, \n",
    "    amort, \n",
    "    True, \n",
    "    spread, \n",
    "    gearing, \n",
    "    icp_uf\n",
    ")"
   ]
  },
  {
   "cell_type": "code",
   "execution_count": 230,
   "metadata": {
    "ExecuteTime": {
     "end_time": "2022-01-21T13:43:03.538625Z",
     "start_time": "2022-01-21T13:43:03.523667Z"
    },
    "execution": {
     "iopub.execute_input": "2024-01-04T22:47:41.217649Z",
     "iopub.status.busy": "2024-01-04T22:47:41.217303Z",
     "iopub.status.idle": "2024-01-04T22:47:41.225374Z",
     "shell.execute_reply": "2024-01-04T22:47:41.224572Z",
     "shell.execute_reply.started": "2024-01-04T22:47:41.217619Z"
    }
   },
   "outputs": [
    {
     "name": "stdout",
     "output_type": "stream",
     "text": [
      "Fecha Inicio: 2018-09-20\n",
      "Fecha Final: 2019-09-20\n",
      "ICP Fecha Inicio: 10,000.00\n",
      "ICP Fecha Final: 10,250.00\n",
      "UF Fecha Inicio: 35,000.00\n",
      "UF Fecha Final: 35,500.00\n",
      "Valor TRA Todo el Período: 1.0461%\n",
      "Check TRA: 1.0461%\n",
      "Nominal: 300,000\n",
      "Amortización: 100,000\n",
      "Tipo de Tasa: LinAct360\n",
      "Moneda: CLF\n"
     ]
    }
   ],
   "source": [
    "# Getters\n",
    "print(\"Fecha Inicio:\", icp_clf_cashflow.get_start_date())\n",
    "print(\"Fecha Final:\", icp_clf_cashflow.get_end_date())\n",
    "\n",
    "print(f\"ICP Fecha Inicio: {icp_clf_cashflow.get_start_date_icp():,.2f}\")\n",
    "print(f\"ICP Fecha Final: {icp_clf_cashflow.get_end_date_icp():,.2f}\")\n",
    "\n",
    "print(f\"UF Fecha Inicio: {icp_clf_cashflow.get_start_date_uf():,.2f}\")\n",
    "print(f\"UF Fecha Final: {icp_clf_cashflow.get_end_date_uf():,.2f}\")\n",
    "\n",
    "print(f\"Valor TRA Todo el Período: {icp_clf_cashflow.get_rate_value():.4%}\")\n",
    "tna = icp_clf_cashflow.get_tna(fecha_final, 10_250.0)\n",
    "dias = fecha_inicio.day_diff(fecha_final)\n",
    "tra = ((1 + tna * dias / 360.0) * 35_000.0 / 35_500.0 - 1) * 360.0 / dias\n",
    "print(f\"Check TRA: {round(tra, 6):.4%}\")\n",
    "\n",
    "print(f\"Nominal: {icp_clf_cashflow.get_nominal():,.0f}\")\n",
    "print(f\"Amortización: {icp_clf_cashflow.get_amortization():,.0f}\")\n",
    "print(\"Tipo de Tasa:\", icp_clf_cashflow.get_type_of_rate())\n",
    "print(\"Moneda:\", icp_clf_cashflow.ccy())"
   ]
  },
  {
   "cell_type": "code",
   "execution_count": 231,
   "metadata": {
    "ExecuteTime": {
     "end_time": "2022-01-21T13:43:03.553586Z",
     "start_time": "2022-01-21T13:43:03.539624Z"
    },
    "execution": {
     "iopub.execute_input": "2024-01-04T22:47:42.284602Z",
     "iopub.status.busy": "2024-01-04T22:47:42.284232Z",
     "iopub.status.idle": "2024-01-04T22:47:42.292138Z",
     "shell.execute_reply": "2024-01-04T22:47:42.291154Z",
     "shell.execute_reply.started": "2024-01-04T22:47:42.284569Z"
    }
   },
   "outputs": [
    {
     "name": "stdout",
     "output_type": "stream",
     "text": [
      "Nueva TRA: 1.046054%\n",
      "Nuevo Nominal: 100,000\n",
      "Nueva Amortización: 10,000\n",
      "Nuevo ICP Inicio: 20,000.00\n",
      "Nuevo ICP Final: 20,500.00\n",
      "Check TNA Final: 2.470000%\n"
     ]
    }
   ],
   "source": [
    "# Setters\n",
    "decimales_para_tra = 8\n",
    "icp_clf_cashflow.set_tra_decimal_places(decimales_para_tra)\n",
    "print(f\"Nueva TRA: {icp_clf_cashflow.get_rate_value():.6%}\")\n",
    "\n",
    "nuevo_nominal = 100_000.0\n",
    "icp_clf_cashflow.set_nominal(nuevo_nominal)\n",
    "print(f\"Nuevo Nominal: {icp_clf_cashflow.get_nominal():,.0f}\")\n",
    "\n",
    "nueva_amortizacion = 10_000.0\n",
    "icp_clf_cashflow.set_amortization(nueva_amortizacion)\n",
    "print(f\"Nueva Amortización: {icp_clf_cashflow.get_amortization():,.0f}\")\n",
    "\n",
    "nuevo_icp_inicio = 20_000.0\n",
    "icp_clf_cashflow.set_start_date_icp(nuevo_icp_inicio)\n",
    "print(f\"Nuevo ICP Inicio: {icp_clf_cashflow.get_start_date_icp():,.2f}\")\n",
    "\n",
    "nuevo_icp_final = 20_500.0\n",
    "icp_clf_cashflow.set_end_date_icp(nuevo_icp_final)\n",
    "print(f\"Nuevo ICP Final: {icp_clf_cashflow.get_end_date_icp():,.2f}\")\n",
    "print(f\"Check TNA Final: {icp_clf_cashflow.get_tna(fecha_final, nuevo_icp_final):.6%}\")"
   ]
  },
  {
   "cell_type": "code",
   "execution_count": 232,
   "metadata": {
    "execution": {
     "iopub.execute_input": "2024-01-04T22:47:43.460743Z",
     "iopub.status.busy": "2024-01-04T22:47:43.460400Z",
     "iopub.status.idle": "2024-01-04T22:47:43.466066Z",
     "shell.execute_reply": "2024-01-04T22:47:43.465302Z",
     "shell.execute_reply.started": "2024-01-04T22:47:43.460713Z"
    }
   },
   "outputs": [
    {
     "data": {
      "text/plain": [
       "'IcpClfCashflow'"
      ]
     },
     "execution_count": 232,
     "metadata": {},
     "output_type": "execute_result"
    }
   ],
   "source": [
    "icp_clf_cashflow.get_type()"
   ]
  },
  {
   "cell_type": "code",
   "execution_count": 233,
   "metadata": {
    "execution": {
     "iopub.execute_input": "2024-01-04T22:47:44.503552Z",
     "iopub.status.busy": "2024-01-04T22:47:44.502946Z",
     "iopub.status.idle": "2024-01-04T22:47:44.509243Z",
     "shell.execute_reply": "2024-01-04T22:47:44.508469Z",
     "shell.execute_reply.started": "2024-01-04T22:47:44.503523Z"
    }
   },
   "outputs": [
    {
     "data": {
      "text/plain": [
       "('2018-09-20',\n",
       " '2019-09-20',\n",
       " '2019-09-23',\n",
       " 100000.0,\n",
       " 10000.0,\n",
       " True,\n",
       " 11056.338028169024,\n",
       " 'CLF',\n",
       " 20000.0,\n",
       " 20500.0,\n",
       " 35000.0,\n",
       " 35500.0,\n",
       " 0.01046054,\n",
       " 1060.582527777787,\n",
       " 0.0,\n",
       " 1.0,\n",
       " 'LinAct360')"
      ]
     },
     "execution_count": 233,
     "metadata": {},
     "output_type": "execute_result"
    }
   ],
   "source": [
    "qcf.show(icp_clf_cashflow)"
   ]
  },
  {
   "cell_type": "markdown",
   "metadata": {},
   "source": [
    "### Compounded Overnight Rate Cashflow\n",
    "\n",
    "Un objeto de tipo `CompoundedOvernightRateCashflow` representa un flujo de caja calculado como un cupón de la pata flotante de un OIS sobre cualquier índice overnight (SOFR, FF, EONIA). Para dar de alta uno de estos objetos se requiere:\n",
    "\n",
    "- `InterestRateIndex`: el índice de tasa de interés prefijado\n",
    "- `QCDate`: fecha inicio (para la aplicación de la tasa)\n",
    "- `QCDate`: fecha final (para la aplicación de la tasa)\n",
    "- `QCDate`: fecha de pago\n",
    "- `DateList`: fechas de fixing del índice\n",
    "- `float`: nominal (monto al que se le aplica la tasa)\n",
    "- `float`: amortización (eventual flujo de caja que corresponde a una porción del nominal)\n",
    "- `bool`: indica si la amortización anterior es un flujo de caja o sólo una disminución de nominal\n",
    "- `QCCurrency`: moneda del nocional de la operación\n",
    "- `float`: spread aditivo a aplicar a la fijación de la TRA\n",
    "- `float`: spread multiplicativo o gearing a aplicar a la fijación de la TRA\n",
    "- `bool`: si `True` la tasa equivalente se calcula en convención Lin Act/360. En caso contrario es Lin 30/360\n",
    "- `unsigned int`: número de decimales a usar en el cálculo de la tasa equivalente. Por ejemplo para 0.12345678% este valor debe ser 10.\n",
    "- `unsigned int`: número de días de lookback\n",
    "- `unsigned int`: número de días de lockout\n",
    "\n",
    "El efecto de lookback y lockout aún no está implementado."
   ]
  },
  {
   "cell_type": "markdown",
   "metadata": {},
   "source": [
    "#### Constructor"
   ]
  },
  {
   "cell_type": "markdown",
   "metadata": {},
   "source": [
    "Se da de alta un índice overnight ficiticio de test."
   ]
  },
  {
   "cell_type": "code",
   "execution_count": 234,
   "metadata": {
    "ExecuteTime": {
     "end_time": "2022-01-21T13:43:03.569544Z",
     "start_time": "2022-01-21T13:43:03.554583Z"
    },
    "execution": {
     "iopub.execute_input": "2024-01-04T22:47:48.382815Z",
     "iopub.status.busy": "2024-01-04T22:47:48.382449Z",
     "iopub.status.idle": "2024-01-04T22:47:48.388299Z",
     "shell.execute_reply": "2024-01-04T22:47:48.387366Z",
     "shell.execute_reply.started": "2024-01-04T22:47:48.382784Z"
    }
   },
   "outputs": [],
   "source": [
    "codigo = \"OITEST\"\n",
    "lin_act360 = qcf.QCInterestRate(0.0, act360, lin_wf)\n",
    "fixing_lag = qcf.Tenor(\"0d\")\n",
    "tenor = qcf.Tenor(\"1d\")\n",
    "fixing_calendar = scl\n",
    "settlement_calendar = scl\n",
    "oitest = qcf.InterestRateIndex(\n",
    "    codigo, \n",
    "    lin_act360, \n",
    "    fixing_lag, \n",
    "    tenor, \n",
    "    fixing_calendar, \n",
    "    settlement_calendar, \n",
    "    usd\n",
    ")"
   ]
  },
  {
   "cell_type": "code",
   "execution_count": 235,
   "metadata": {
    "ExecuteTime": {
     "end_time": "2022-01-21T13:43:03.584504Z",
     "start_time": "2022-01-21T13:43:03.570541Z"
    },
    "execution": {
     "iopub.execute_input": "2024-01-04T22:47:49.252623Z",
     "iopub.status.busy": "2024-01-04T22:47:49.252254Z",
     "iopub.status.idle": "2024-01-04T22:47:49.256635Z",
     "shell.execute_reply": "2024-01-04T22:47:49.255673Z",
     "shell.execute_reply.started": "2024-01-04T22:47:49.252592Z"
    }
   },
   "outputs": [],
   "source": [
    "fixing_dates = qcf.DateList()"
   ]
  },
  {
   "cell_type": "code",
   "execution_count": 236,
   "metadata": {
    "ExecuteTime": {
     "end_time": "2022-01-21T13:43:03.600461Z",
     "start_time": "2022-01-21T13:43:03.585501Z"
    },
    "execution": {
     "iopub.execute_input": "2024-01-04T22:47:50.930477Z",
     "iopub.status.busy": "2024-01-04T22:47:50.930111Z",
     "iopub.status.idle": "2024-01-04T22:47:50.936413Z",
     "shell.execute_reply": "2024-01-04T22:47:50.935494Z",
     "shell.execute_reply.started": "2024-01-04T22:47:50.930446Z"
    }
   },
   "outputs": [],
   "source": [
    "fixing_dates.append(qcf.QCDate(27, 12, 2021))\n",
    "fixing_dates.append(qcf.QCDate(28, 12, 2021))\n",
    "fixing_dates.append(qcf.QCDate(29, 12, 2021))\n",
    "fixing_dates.append(qcf.QCDate(30, 12, 2021))"
   ]
  },
  {
   "cell_type": "code",
   "execution_count": 237,
   "metadata": {
    "ExecuteTime": {
     "end_time": "2022-01-21T13:43:03.679251Z",
     "start_time": "2022-01-21T13:43:03.601459Z"
    },
    "execution": {
     "iopub.execute_input": "2024-01-04T22:47:51.567664Z",
     "iopub.status.busy": "2024-01-04T22:47:51.566998Z",
     "iopub.status.idle": "2024-01-04T22:47:51.572400Z",
     "shell.execute_reply": "2024-01-04T22:47:51.571535Z",
     "shell.execute_reply.started": "2024-01-04T22:47:51.567632Z"
    }
   },
   "outputs": [],
   "source": [
    "cor_cashflow = qcf.CompoundedOvernightRateCashflow(\n",
    "    oitest,\n",
    "    qcf.QCDate(27, 12, 2021),\n",
    "    qcf.QCDate(31, 12, 2021),\n",
    "    qcf.QCDate(31, 12, 2021),\n",
    "    fixing_dates,\n",
    "    10_000_000.0,\n",
    "    100_000.0,\n",
    "    True,\n",
    "    qcf.QCCLP(),\n",
    "    spread:=0.001,\n",
    "    1.0,\n",
    "    True,\n",
    "    8,\n",
    "    0,\n",
    "    0,\n",
    ")"
   ]
  },
  {
   "cell_type": "markdown",
   "metadata": {},
   "source": [
    "#### Getters"
   ]
  },
  {
   "cell_type": "code",
   "execution_count": 238,
   "metadata": {
    "ExecuteTime": {
     "end_time": "2022-01-21T13:43:03.680249Z",
     "start_time": "2022-01-21T13:43:03.680249Z"
    },
    "execution": {
     "iopub.execute_input": "2024-01-04T22:47:54.369193Z",
     "iopub.status.busy": "2024-01-04T22:47:54.368851Z",
     "iopub.status.idle": "2024-01-04T22:47:54.374846Z",
     "shell.execute_reply": "2024-01-04T22:47:54.373990Z",
     "shell.execute_reply.started": "2024-01-04T22:47:54.369163Z"
    }
   },
   "outputs": [
    {
     "data": {
      "text/plain": [
       "'2021-12-27'"
      ]
     },
     "execution_count": 238,
     "metadata": {},
     "output_type": "execute_result"
    }
   ],
   "source": [
    "cor_cashflow.get_start_date().description(False)"
   ]
  },
  {
   "cell_type": "code",
   "execution_count": 239,
   "metadata": {
    "ExecuteTime": {
     "end_time": "2022-01-21T13:43:03.681246Z",
     "start_time": "2022-01-21T13:43:03.681246Z"
    },
    "execution": {
     "iopub.execute_input": "2024-01-04T22:47:55.206540Z",
     "iopub.status.busy": "2024-01-04T22:47:55.206197Z",
     "iopub.status.idle": "2024-01-04T22:47:55.211922Z",
     "shell.execute_reply": "2024-01-04T22:47:55.211112Z",
     "shell.execute_reply.started": "2024-01-04T22:47:55.206510Z"
    }
   },
   "outputs": [
    {
     "data": {
      "text/plain": [
       "'2021-12-31'"
      ]
     },
     "execution_count": 239,
     "metadata": {},
     "output_type": "execute_result"
    }
   ],
   "source": [
    "cor_cashflow.get_end_date().description(False)"
   ]
  },
  {
   "cell_type": "code",
   "execution_count": 240,
   "metadata": {
    "ExecuteTime": {
     "end_time": "2022-01-21T13:43:03.683241Z",
     "start_time": "2022-01-21T13:43:03.683241Z"
    },
    "execution": {
     "iopub.execute_input": "2024-01-04T22:47:56.047421Z",
     "iopub.status.busy": "2024-01-04T22:47:56.047079Z",
     "iopub.status.idle": "2024-01-04T22:47:56.052725Z",
     "shell.execute_reply": "2024-01-04T22:47:56.051887Z",
     "shell.execute_reply.started": "2024-01-04T22:47:56.047390Z"
    }
   },
   "outputs": [
    {
     "data": {
      "text/plain": [
       "'2021-12-31'"
      ]
     },
     "execution_count": 240,
     "metadata": {},
     "output_type": "execute_result"
    }
   ],
   "source": [
    "cor_cashflow.get_settlement_date().description(False)"
   ]
  },
  {
   "cell_type": "code",
   "execution_count": 241,
   "metadata": {
    "ExecuteTime": {
     "end_time": "2022-01-21T13:43:03.684238Z",
     "start_time": "2022-01-21T13:43:03.684238Z"
    },
    "execution": {
     "iopub.execute_input": "2024-01-04T22:47:56.816389Z",
     "iopub.status.busy": "2024-01-04T22:47:56.816050Z",
     "iopub.status.idle": "2024-01-04T22:47:56.820968Z",
     "shell.execute_reply": "2024-01-04T22:47:56.820226Z",
     "shell.execute_reply.started": "2024-01-04T22:47:56.816359Z"
    }
   },
   "outputs": [
    {
     "name": "stdout",
     "output_type": "stream",
     "text": [
      "2021-12-27\n",
      "2021-12-28\n",
      "2021-12-29\n",
      "2021-12-30\n"
     ]
    }
   ],
   "source": [
    "for d in cor_cashflow.get_fixing_dates():\n",
    "    print(d)"
   ]
  },
  {
   "cell_type": "code",
   "execution_count": 242,
   "metadata": {
    "ExecuteTime": {
     "end_time": "2022-01-21T13:43:03.685235Z",
     "start_time": "2022-01-21T13:43:03.685235Z"
    },
    "execution": {
     "iopub.execute_input": "2024-01-04T22:47:57.707364Z",
     "iopub.status.busy": "2024-01-04T22:47:57.707018Z",
     "iopub.status.idle": "2024-01-04T22:47:57.711670Z",
     "shell.execute_reply": "2024-01-04T22:47:57.710830Z",
     "shell.execute_reply.started": "2024-01-04T22:47:57.707334Z"
    }
   },
   "outputs": [
    {
     "name": "stdout",
     "output_type": "stream",
     "text": [
      "Nominal: 10,000,000\n"
     ]
    }
   ],
   "source": [
    "print(f\"Nominal: {cor_cashflow.get_nominal():,.0f}\")"
   ]
  },
  {
   "cell_type": "code",
   "execution_count": 243,
   "metadata": {
    "ExecuteTime": {
     "end_time": "2022-01-21T13:43:03.687231Z",
     "start_time": "2022-01-21T13:43:03.687231Z"
    },
    "execution": {
     "iopub.execute_input": "2024-01-04T22:47:59.623479Z",
     "iopub.status.busy": "2024-01-04T22:47:59.622894Z",
     "iopub.status.idle": "2024-01-04T22:47:59.627574Z",
     "shell.execute_reply": "2024-01-04T22:47:59.626697Z",
     "shell.execute_reply.started": "2024-01-04T22:47:59.623449Z"
    }
   },
   "outputs": [
    {
     "name": "stdout",
     "output_type": "stream",
     "text": [
      "Amortization: 100,000\n"
     ]
    }
   ],
   "source": [
    "print(f\"Amortization: {cor_cashflow.get_amortization():,.0f}\")"
   ]
  },
  {
   "cell_type": "code",
   "execution_count": 244,
   "metadata": {
    "ExecuteTime": {
     "end_time": "2022-01-21T13:43:03.688227Z",
     "start_time": "2022-01-21T13:43:03.688227Z"
    },
    "execution": {
     "iopub.execute_input": "2024-01-04T22:48:00.323782Z",
     "iopub.status.busy": "2024-01-04T22:48:00.323415Z",
     "iopub.status.idle": "2024-01-04T22:48:00.329591Z",
     "shell.execute_reply": "2024-01-04T22:48:00.328619Z",
     "shell.execute_reply.started": "2024-01-04T22:48:00.323750Z"
    }
   },
   "outputs": [
    {
     "data": {
      "text/plain": [
       "'CLP'"
      ]
     },
     "execution_count": 244,
     "metadata": {},
     "output_type": "execute_result"
    }
   ],
   "source": [
    "cor_cashflow.get_initial_currency().get_iso_code()"
   ]
  },
  {
   "cell_type": "code",
   "execution_count": 245,
   "metadata": {
    "ExecuteTime": {
     "end_time": "2022-01-21T13:43:03.689224Z",
     "start_time": "2022-01-21T13:43:03.689224Z"
    },
    "execution": {
     "iopub.execute_input": "2024-01-04T22:48:00.864498Z",
     "iopub.status.busy": "2024-01-04T22:48:00.864159Z",
     "iopub.status.idle": "2024-01-04T22:48:00.868998Z",
     "shell.execute_reply": "2024-01-04T22:48:00.868139Z",
     "shell.execute_reply.started": "2024-01-04T22:48:00.864470Z"
    }
   },
   "outputs": [
    {
     "name": "stdout",
     "output_type": "stream",
     "text": [
      "Spread: 0.10%\n"
     ]
    }
   ],
   "source": [
    "print(f\"Spread: {cor_cashflow.get_spread():.2%}\")"
   ]
  },
  {
   "cell_type": "code",
   "execution_count": 246,
   "metadata": {
    "ExecuteTime": {
     "end_time": "2022-01-21T13:43:03.690221Z",
     "start_time": "2022-01-21T13:43:03.690221Z"
    },
    "execution": {
     "iopub.execute_input": "2024-01-04T22:48:01.566216Z",
     "iopub.status.busy": "2024-01-04T22:48:01.565875Z",
     "iopub.status.idle": "2024-01-04T22:48:01.571640Z",
     "shell.execute_reply": "2024-01-04T22:48:01.570795Z",
     "shell.execute_reply.started": "2024-01-04T22:48:01.566187Z"
    }
   },
   "outputs": [
    {
     "data": {
      "text/plain": [
       "1.0"
      ]
     },
     "execution_count": 246,
     "metadata": {},
     "output_type": "execute_result"
    }
   ],
   "source": [
    "cor_cashflow.get_gearing()"
   ]
  },
  {
   "cell_type": "code",
   "execution_count": 247,
   "metadata": {
    "ExecuteTime": {
     "end_time": "2022-01-21T13:43:03.691219Z",
     "start_time": "2022-01-21T13:43:03.691219Z"
    },
    "execution": {
     "iopub.execute_input": "2024-01-04T22:48:02.334400Z",
     "iopub.status.busy": "2024-01-04T22:48:02.334049Z",
     "iopub.status.idle": "2024-01-04T22:48:02.339687Z",
     "shell.execute_reply": "2024-01-04T22:48:02.338928Z",
     "shell.execute_reply.started": "2024-01-04T22:48:02.334363Z"
    }
   },
   "outputs": [
    {
     "data": {
      "text/plain": [
       "'CompoundedOvernightRateCashflow'"
      ]
     },
     "execution_count": 247,
     "metadata": {},
     "output_type": "execute_result"
    }
   ],
   "source": [
    "cor_cashflow.get_type()"
   ]
  },
  {
   "cell_type": "code",
   "execution_count": 248,
   "metadata": {
    "ExecuteTime": {
     "end_time": "2022-01-21T13:43:03.692216Z",
     "start_time": "2022-01-21T13:43:03.692216Z"
    },
    "execution": {
     "iopub.execute_input": "2024-01-04T22:48:04.381958Z",
     "iopub.status.busy": "2024-01-04T22:48:04.381605Z",
     "iopub.status.idle": "2024-01-04T22:48:04.387546Z",
     "shell.execute_reply": "2024-01-04T22:48:04.386724Z",
     "shell.execute_reply.started": "2024-01-04T22:48:04.381926Z"
    }
   },
   "outputs": [
    {
     "data": {
      "text/plain": [
       "8"
      ]
     },
     "execution_count": 248,
     "metadata": {},
     "output_type": "execute_result"
    }
   ],
   "source": [
    "cor_cashflow.get_eq_rate_decimal_places()"
   ]
  },
  {
   "cell_type": "code",
   "execution_count": 249,
   "metadata": {
    "ExecuteTime": {
     "end_time": "2022-01-21T13:43:03.693214Z",
     "start_time": "2022-01-21T13:43:03.693214Z"
    },
    "execution": {
     "iopub.execute_input": "2024-01-04T22:48:05.021123Z",
     "iopub.status.busy": "2024-01-04T22:48:05.020767Z",
     "iopub.status.idle": "2024-01-04T22:48:05.024938Z",
     "shell.execute_reply": "2024-01-04T22:48:05.024208Z",
     "shell.execute_reply.started": "2024-01-04T22:48:05.021092Z"
    }
   },
   "outputs": [],
   "source": [
    "derivs = cor_cashflow.get_amount_derivatives()"
   ]
  },
  {
   "cell_type": "code",
   "execution_count": 250,
   "metadata": {
    "ExecuteTime": {
     "end_time": "2022-01-21T13:43:03.695208Z",
     "start_time": "2022-01-21T13:43:03.695208Z"
    },
    "execution": {
     "iopub.execute_input": "2024-01-04T22:48:05.840632Z",
     "iopub.status.busy": "2024-01-04T22:48:05.840263Z",
     "iopub.status.idle": "2024-01-04T22:48:05.846373Z",
     "shell.execute_reply": "2024-01-04T22:48:05.845476Z",
     "shell.execute_reply.started": "2024-01-04T22:48:05.840600Z"
    }
   },
   "outputs": [
    {
     "data": {
      "text/plain": [
       "2"
      ]
     },
     "execution_count": 250,
     "metadata": {},
     "output_type": "execute_result"
    }
   ],
   "source": [
    "len(derivs)"
   ]
  },
  {
   "cell_type": "code",
   "execution_count": 251,
   "metadata": {
    "ExecuteTime": {
     "end_time": "2022-01-21T13:43:03.696205Z",
     "start_time": "2022-01-21T13:43:03.696205Z"
    },
    "execution": {
     "iopub.execute_input": "2024-01-04T22:48:06.535900Z",
     "iopub.status.busy": "2024-01-04T22:48:06.535564Z",
     "iopub.status.idle": "2024-01-04T22:48:06.540394Z",
     "shell.execute_reply": "2024-01-04T22:48:06.539474Z",
     "shell.execute_reply.started": "2024-01-04T22:48:06.535870Z"
    }
   },
   "outputs": [
    {
     "name": "stdout",
     "output_type": "stream",
     "text": [
      "0.0\n",
      "0.0\n"
     ]
    }
   ],
   "source": [
    "for der in derivs:\n",
    "    print(der)"
   ]
  },
  {
   "cell_type": "markdown",
   "metadata": {},
   "source": [
    "#### Setters"
   ]
  },
  {
   "cell_type": "code",
   "execution_count": 252,
   "metadata": {
    "ExecuteTime": {
     "end_time": "2022-01-21T13:43:03.697203Z",
     "start_time": "2022-01-21T13:43:03.697203Z"
    },
    "execution": {
     "iopub.execute_input": "2024-01-04T22:48:07.896023Z",
     "iopub.status.busy": "2024-01-04T22:48:07.895674Z",
     "iopub.status.idle": "2024-01-04T22:48:07.900611Z",
     "shell.execute_reply": "2024-01-04T22:48:07.899683Z",
     "shell.execute_reply.started": "2024-01-04T22:48:07.895990Z"
    }
   },
   "outputs": [
    {
     "name": "stdout",
     "output_type": "stream",
     "text": [
      "Nominal: 1,000\n"
     ]
    }
   ],
   "source": [
    "cor_cashflow.set_nominal(1_000)\n",
    "print(f\"Nominal: {cor_cashflow.get_nominal():,.0f}\")"
   ]
  },
  {
   "cell_type": "code",
   "execution_count": 253,
   "metadata": {
    "ExecuteTime": {
     "end_time": "2022-01-21T13:43:03.698200Z",
     "start_time": "2022-01-21T13:43:03.698200Z"
    },
    "execution": {
     "iopub.execute_input": "2024-01-04T22:48:08.529269Z",
     "iopub.status.busy": "2024-01-04T22:48:08.528908Z",
     "iopub.status.idle": "2024-01-04T22:48:08.535012Z",
     "shell.execute_reply": "2024-01-04T22:48:08.534160Z",
     "shell.execute_reply.started": "2024-01-04T22:48:08.529238Z"
    }
   },
   "outputs": [
    {
     "data": {
      "text/plain": [
       "0.0"
      ]
     },
     "execution_count": 253,
     "metadata": {},
     "output_type": "execute_result"
    }
   ],
   "source": [
    "cor_cashflow.set_amortization(0)\n",
    "cor_cashflow.get_amortization()"
   ]
  },
  {
   "cell_type": "markdown",
   "metadata": {},
   "source": [
    "Se reversa el ejemplo."
   ]
  },
  {
   "cell_type": "code",
   "execution_count": 254,
   "metadata": {
    "ExecuteTime": {
     "end_time": "2022-01-21T13:43:03.699197Z",
     "start_time": "2022-01-21T13:43:03.699197Z"
    },
    "execution": {
     "iopub.execute_input": "2024-01-04T22:48:09.893113Z",
     "iopub.status.busy": "2024-01-04T22:48:09.892765Z",
     "iopub.status.idle": "2024-01-04T22:48:09.897145Z",
     "shell.execute_reply": "2024-01-04T22:48:09.896306Z",
     "shell.execute_reply.started": "2024-01-04T22:48:09.893084Z"
    }
   },
   "outputs": [],
   "source": [
    "cor_cashflow.set_nominal(10_000_000.0)\n",
    "cor_cashflow.set_amortization(100_000.0)"
   ]
  },
  {
   "cell_type": "markdown",
   "metadata": {},
   "source": [
    "#### Accrued Fixing"
   ]
  },
  {
   "cell_type": "markdown",
   "metadata": {},
   "source": [
    "Para el cálculo de `accrued_fixing` se requiere un objeto de tipo `TimeSeries` que contenga los datos históricos del índice overnight."
   ]
  },
  {
   "cell_type": "code",
   "execution_count": 255,
   "metadata": {
    "ExecuteTime": {
     "end_time": "2022-01-21T13:43:03.700195Z",
     "start_time": "2022-01-21T13:43:03.700195Z"
    },
    "execution": {
     "iopub.execute_input": "2024-01-04T22:48:12.243588Z",
     "iopub.status.busy": "2024-01-04T22:48:12.243227Z",
     "iopub.status.idle": "2024-01-04T22:48:12.263854Z",
     "shell.execute_reply": "2024-01-04T22:48:12.262423Z",
     "shell.execute_reply.started": "2024-01-04T22:48:12.243559Z"
    }
   },
   "outputs": [
    {
     "ename": "ValueError",
     "evalue": "A TimeSeries object with overnight rate values is needed.",
     "output_type": "error",
     "traceback": [
      "\u001b[0;31m---------------------------------------------------------------------------\u001b[0m",
      "\u001b[0;31mValueError\u001b[0m                                Traceback (most recent call last)",
      "Cell \u001b[0;32mIn[255], line 1\u001b[0m\n\u001b[0;32m----> 1\u001b[0m \u001b[43mcor_cashflow\u001b[49m\u001b[38;5;241;43m.\u001b[39;49m\u001b[43maccrued_fixing\u001b[49m\u001b[43m(\u001b[49m\u001b[43mqcf\u001b[49m\u001b[38;5;241;43m.\u001b[39;49m\u001b[43mQCDate\u001b[49m\u001b[43m(\u001b[49m\u001b[38;5;241;43m29\u001b[39;49m\u001b[43m,\u001b[49m\u001b[43m \u001b[49m\u001b[38;5;241;43m12\u001b[39;49m\u001b[43m,\u001b[49m\u001b[43m \u001b[49m\u001b[38;5;241;43m2021\u001b[39;49m\u001b[43m)\u001b[49m\u001b[43m)\u001b[49m\n",
      "\u001b[0;31mValueError\u001b[0m: A TimeSeries object with overnight rate values is needed."
     ]
    }
   ],
   "source": [
    "cor_cashflow.accrued_fixing(qcf.QCDate(29, 12, 2021))"
   ]
  },
  {
   "cell_type": "code",
   "execution_count": 256,
   "metadata": {
    "ExecuteTime": {
     "end_time": "2022-01-21T13:43:03.701192Z",
     "start_time": "2022-01-21T13:43:03.701192Z"
    },
    "execution": {
     "iopub.execute_input": "2024-01-04T22:48:12.583641Z",
     "iopub.status.busy": "2024-01-04T22:48:12.583303Z",
     "iopub.status.idle": "2024-01-04T22:48:12.587401Z",
     "shell.execute_reply": "2024-01-04T22:48:12.586576Z",
     "shell.execute_reply.started": "2024-01-04T22:48:12.583613Z"
    }
   },
   "outputs": [],
   "source": [
    "ts = qcf.time_series()"
   ]
  },
  {
   "cell_type": "code",
   "execution_count": 257,
   "metadata": {
    "ExecuteTime": {
     "end_time": "2022-01-21T13:43:03.702189Z",
     "start_time": "2022-01-21T13:43:03.702189Z"
    },
    "execution": {
     "iopub.execute_input": "2024-01-04T22:48:16.863296Z",
     "iopub.status.busy": "2024-01-04T22:48:16.862942Z",
     "iopub.status.idle": "2024-01-04T22:48:16.868153Z",
     "shell.execute_reply": "2024-01-04T22:48:16.867325Z",
     "shell.execute_reply.started": "2024-01-04T22:48:16.863266Z"
    }
   },
   "outputs": [],
   "source": [
    "ts[qcf.QCDate(27, 12, 2021)] = 0.01\n",
    "ts[qcf.QCDate(28, 12, 2021)] = 0.02\n",
    "ts[qcf.QCDate(29, 12, 2021)] = 0.03\n",
    "ts[qcf.QCDate(30, 12, 2021)] = 0.04"
   ]
  },
  {
   "cell_type": "code",
   "execution_count": 258,
   "metadata": {
    "ExecuteTime": {
     "end_time": "2022-01-21T13:43:03.703186Z",
     "start_time": "2022-01-21T13:43:03.703186Z"
    },
    "execution": {
     "iopub.execute_input": "2024-01-04T22:48:17.678963Z",
     "iopub.status.busy": "2024-01-04T22:48:17.678626Z",
     "iopub.status.idle": "2024-01-04T22:48:17.683550Z",
     "shell.execute_reply": "2024-01-04T22:48:17.682730Z",
     "shell.execute_reply.started": "2024-01-04T22:48:17.678934Z"
    }
   },
   "outputs": [
    {
     "name": "stdout",
     "output_type": "stream",
     "text": [
      "Accrued fixing: 1.500028%\n"
     ]
    }
   ],
   "source": [
    "print(f\"Accrued fixing: {cor_cashflow.accrued_fixing(qcf.QCDate(29, 12, 2021), ts):.6%}\")"
   ]
  },
  {
   "cell_type": "code",
   "execution_count": 259,
   "metadata": {
    "ExecuteTime": {
     "end_time": "2022-01-21T13:43:03.704184Z",
     "start_time": "2022-01-21T13:43:03.704184Z"
    },
    "execution": {
     "iopub.execute_input": "2024-01-04T22:48:18.421381Z",
     "iopub.status.busy": "2024-01-04T22:48:18.421034Z",
     "iopub.status.idle": "2024-01-04T22:48:18.426447Z",
     "shell.execute_reply": "2024-01-04T22:48:18.425622Z",
     "shell.execute_reply.started": "2024-01-04T22:48:18.421351Z"
    }
   },
   "outputs": [
    {
     "name": "stdout",
     "output_type": "stream",
     "text": [
      "Check: 1.500028%\n"
     ]
    }
   ],
   "source": [
    "check = ((1 + 0.01 / 360) * (1 + 0.02 / 360.0) - 1) * 360 / 2.0\n",
    "print(f\"Check: {check:.6%}\")"
   ]
  },
  {
   "cell_type": "markdown",
   "metadata": {},
   "source": [
    "#### Accrued Interest"
   ]
  },
  {
   "cell_type": "markdown",
   "metadata": {},
   "source": [
    "Para el cálculo de `accrued_interest` se requiere un objeto de tipo `TimeSeries` que contenga los datos históricos del índice overnight."
   ]
  },
  {
   "cell_type": "code",
   "execution_count": 260,
   "metadata": {
    "ExecuteTime": {
     "end_time": "2022-01-21T13:43:03.705181Z",
     "start_time": "2022-01-21T13:43:03.705181Z"
    },
    "execution": {
     "iopub.execute_input": "2024-01-04T22:48:22.401609Z",
     "iopub.status.busy": "2024-01-04T22:48:22.401270Z",
     "iopub.status.idle": "2024-01-04T22:48:22.420157Z",
     "shell.execute_reply": "2024-01-04T22:48:22.418965Z",
     "shell.execute_reply.started": "2024-01-04T22:48:22.401579Z"
    }
   },
   "outputs": [
    {
     "ename": "ValueError",
     "evalue": "A TimeSeries object with overnight rate values is needed.",
     "output_type": "error",
     "traceback": [
      "\u001b[0;31m---------------------------------------------------------------------------\u001b[0m",
      "\u001b[0;31mValueError\u001b[0m                                Traceback (most recent call last)",
      "Cell \u001b[0;32mIn[260], line 1\u001b[0m\n\u001b[0;32m----> 1\u001b[0m \u001b[43mcor_cashflow\u001b[49m\u001b[38;5;241;43m.\u001b[39;49m\u001b[43maccrued_interest\u001b[49m\u001b[43m(\u001b[49m\u001b[43mqcf\u001b[49m\u001b[38;5;241;43m.\u001b[39;49m\u001b[43mQCDate\u001b[49m\u001b[43m(\u001b[49m\u001b[38;5;241;43m29\u001b[39;49m\u001b[43m,\u001b[49m\u001b[43m \u001b[49m\u001b[38;5;241;43m12\u001b[39;49m\u001b[43m,\u001b[49m\u001b[43m \u001b[49m\u001b[38;5;241;43m2021\u001b[39;49m\u001b[43m)\u001b[49m\u001b[43m)\u001b[49m\n",
      "\u001b[0;31mValueError\u001b[0m: A TimeSeries object with overnight rate values is needed."
     ]
    }
   ],
   "source": [
    "cor_cashflow.accrued_interest(qcf.QCDate(29, 12, 2021))"
   ]
  },
  {
   "cell_type": "code",
   "execution_count": 261,
   "metadata": {
    "ExecuteTime": {
     "end_time": "2022-01-21T13:43:03.706179Z",
     "start_time": "2022-01-21T13:43:03.706179Z"
    },
    "execution": {
     "iopub.execute_input": "2024-01-04T22:48:25.987427Z",
     "iopub.status.busy": "2024-01-04T22:48:25.987081Z",
     "iopub.status.idle": "2024-01-04T22:48:25.992220Z",
     "shell.execute_reply": "2024-01-04T22:48:25.991385Z",
     "shell.execute_reply.started": "2024-01-04T22:48:25.987396Z"
    }
   },
   "outputs": [
    {
     "name": "stdout",
     "output_type": "stream",
     "text": [
      "Accrued interest: 888.90\n"
     ]
    }
   ],
   "source": [
    "print(f\"Accrued interest: {cor_cashflow.accrued_interest(qcf.QCDate(29, 12, 2021), ts):,.2f}\")"
   ]
  },
  {
   "cell_type": "code",
   "execution_count": 262,
   "metadata": {
    "ExecuteTime": {
     "end_time": "2022-01-21T13:43:03.707176Z",
     "start_time": "2022-01-21T13:43:03.707176Z"
    },
    "execution": {
     "iopub.execute_input": "2024-01-04T22:48:26.908091Z",
     "iopub.status.busy": "2024-01-04T22:48:26.907732Z",
     "iopub.status.idle": "2024-01-04T22:48:26.913340Z",
     "shell.execute_reply": "2024-01-04T22:48:26.912549Z",
     "shell.execute_reply.started": "2024-01-04T22:48:26.908061Z"
    }
   },
   "outputs": [
    {
     "name": "stdout",
     "output_type": "stream",
     "text": [
      "Check: 888.90\n"
     ]
    }
   ],
   "source": [
    "check = (\n",
    "    cor_cashflow.get_nominal()\n",
    "    * (cor_cashflow.accrued_fixing(qcf.QCDate(29, 12, 2021), ts) + spread)\n",
    "    * 2\n",
    "    / 360.0\n",
    ")\n",
    "print(f\"Check: {check:,.2f}\")"
   ]
  },
  {
   "cell_type": "code",
   "execution_count": 263,
   "metadata": {
    "ExecuteTime": {
     "end_time": "2022-01-21T13:43:03.708174Z",
     "start_time": "2022-01-21T13:43:03.708174Z"
    },
    "execution": {
     "iopub.execute_input": "2024-01-04T22:48:27.496372Z",
     "iopub.status.busy": "2024-01-04T22:48:27.496029Z",
     "iopub.status.idle": "2024-01-04T22:48:27.500758Z",
     "shell.execute_reply": "2024-01-04T22:48:27.499823Z",
     "shell.execute_reply.started": "2024-01-04T22:48:27.496343Z"
    }
   },
   "outputs": [
    {
     "name": "stdout",
     "output_type": "stream",
     "text": [
      "Amount: 100,111.11\n"
     ]
    }
   ],
   "source": [
    "print(f\"Amount: {cor_cashflow.amount():,.2f}\")"
   ]
  },
  {
   "cell_type": "code",
   "execution_count": 264,
   "metadata": {
    "ExecuteTime": {
     "end_time": "2022-01-21T13:43:03.710168Z",
     "start_time": "2022-01-21T13:43:03.710168Z"
    },
    "execution": {
     "iopub.execute_input": "2024-01-04T22:48:28.328112Z",
     "iopub.status.busy": "2024-01-04T22:48:28.327746Z",
     "iopub.status.idle": "2024-01-04T22:48:28.333891Z",
     "shell.execute_reply": "2024-01-04T22:48:28.332912Z",
     "shell.execute_reply.started": "2024-01-04T22:48:28.328081Z"
    }
   },
   "outputs": [
    {
     "data": {
      "text/plain": [
       "'2021-12-31'"
      ]
     },
     "execution_count": 264,
     "metadata": {},
     "output_type": "execute_result"
    }
   ],
   "source": [
    "cor_cashflow.date().description(False)"
   ]
  },
  {
   "cell_type": "code",
   "execution_count": 267,
   "metadata": {
    "ExecuteTime": {
     "end_time": "2022-01-21T13:43:03.711165Z",
     "start_time": "2022-01-21T13:43:03.711165Z"
    },
    "execution": {
     "iopub.execute_input": "2024-01-04T22:49:08.469491Z",
     "iopub.status.busy": "2024-01-04T22:49:08.469152Z",
     "iopub.status.idle": "2024-01-04T22:49:08.474751Z",
     "shell.execute_reply": "2024-01-04T22:49:08.473900Z",
     "shell.execute_reply.started": "2024-01-04T22:49:08.469461Z"
    }
   },
   "outputs": [
    {
     "data": {
      "text/plain": [
       "0.02500243"
      ]
     },
     "execution_count": 267,
     "metadata": {},
     "output_type": "execute_result"
    }
   ],
   "source": [
    "cor_cashflow.fixing(ts)"
   ]
  },
  {
   "cell_type": "code",
   "execution_count": 268,
   "metadata": {
    "ExecuteTime": {
     "end_time": "2022-01-21T13:43:03.712162Z",
     "start_time": "2022-01-21T13:43:03.712162Z"
    },
    "execution": {
     "iopub.execute_input": "2024-01-04T22:49:09.712976Z",
     "iopub.status.busy": "2024-01-04T22:49:09.712640Z",
     "iopub.status.idle": "2024-01-04T22:49:09.717525Z",
     "shell.execute_reply": "2024-01-04T22:49:09.716633Z",
     "shell.execute_reply.started": "2024-01-04T22:49:09.712946Z"
    }
   },
   "outputs": [
    {
     "name": "stdout",
     "output_type": "stream",
     "text": [
      "Interest: 111.11\n"
     ]
    }
   ],
   "source": [
    "print(f\"Interest: {cor_cashflow.interest():,.2f}\")"
   ]
  },
  {
   "cell_type": "code",
   "execution_count": 269,
   "metadata": {
    "ExecuteTime": {
     "end_time": "2022-01-21T13:43:03.713161Z",
     "start_time": "2022-01-21T13:43:03.713161Z"
    },
    "execution": {
     "iopub.execute_input": "2024-01-04T22:49:10.697457Z",
     "iopub.status.busy": "2024-01-04T22:49:10.697124Z",
     "iopub.status.idle": "2024-01-04T22:49:10.703142Z",
     "shell.execute_reply": "2024-01-04T22:49:10.702291Z",
     "shell.execute_reply.started": "2024-01-04T22:49:10.697429Z"
    }
   },
   "outputs": [
    {
     "data": {
      "text/plain": [
       "False"
      ]
     },
     "execution_count": 269,
     "metadata": {},
     "output_type": "execute_result"
    }
   ],
   "source": [
    "cor_cashflow.is_expired(qcf.QCDate(29, 12, 2021))"
   ]
  },
  {
   "cell_type": "code",
   "execution_count": 270,
   "metadata": {
    "ExecuteTime": {
     "end_time": "2022-01-21T13:43:03.714157Z",
     "start_time": "2022-01-21T13:43:03.714157Z"
    },
    "execution": {
     "iopub.execute_input": "2024-01-04T22:49:11.634138Z",
     "iopub.status.busy": "2024-01-04T22:49:11.633398Z",
     "iopub.status.idle": "2024-01-04T22:49:11.639832Z",
     "shell.execute_reply": "2024-01-04T22:49:11.638788Z",
     "shell.execute_reply.started": "2024-01-04T22:49:11.634106Z"
    }
   },
   "outputs": [
    {
     "data": {
      "text/plain": [
       "True"
      ]
     },
     "execution_count": 270,
     "metadata": {},
     "output_type": "execute_result"
    }
   ],
   "source": [
    "cor_cashflow.is_expired(qcf.QCDate(31, 12, 2021))"
   ]
  },
  {
   "cell_type": "code",
   "execution_count": 271,
   "metadata": {
    "ExecuteTime": {
     "end_time": "2022-01-21T13:43:03.716152Z",
     "start_time": "2022-01-21T13:43:03.716152Z"
    },
    "execution": {
     "iopub.execute_input": "2024-01-04T22:49:13.577744Z",
     "iopub.status.busy": "2024-01-04T22:49:13.577386Z",
     "iopub.status.idle": "2024-01-04T22:49:13.583281Z",
     "shell.execute_reply": "2024-01-04T22:49:13.582497Z",
     "shell.execute_reply.started": "2024-01-04T22:49:13.577715Z"
    }
   },
   "outputs": [
    {
     "data": {
      "text/plain": [
       "True"
      ]
     },
     "execution_count": 271,
     "metadata": {},
     "output_type": "execute_result"
    }
   ],
   "source": [
    "cor_cashflow.is_expired(qcf.QCDate(1, 1, 2022))"
   ]
  },
  {
   "cell_type": "code",
   "execution_count": 272,
   "metadata": {
    "execution": {
     "iopub.execute_input": "2024-01-04T22:49:14.450372Z",
     "iopub.status.busy": "2024-01-04T22:49:14.450026Z",
     "iopub.status.idle": "2024-01-04T22:49:14.455961Z",
     "shell.execute_reply": "2024-01-04T22:49:14.455158Z",
     "shell.execute_reply.started": "2024-01-04T22:49:14.450342Z"
    }
   },
   "outputs": [
    {
     "data": {
      "text/plain": [
       "'CompoundedOvernightRateCashflow'"
      ]
     },
     "execution_count": 272,
     "metadata": {},
     "output_type": "execute_result"
    }
   ],
   "source": [
    "cor_cashflow.get_type()"
   ]
  },
  {
   "cell_type": "code",
   "execution_count": 273,
   "metadata": {
    "execution": {
     "iopub.execute_input": "2024-01-04T22:49:15.030103Z",
     "iopub.status.busy": "2024-01-04T22:49:15.029763Z",
     "iopub.status.idle": "2024-01-04T22:49:15.035538Z",
     "shell.execute_reply": "2024-01-04T22:49:15.034484Z",
     "shell.execute_reply.started": "2024-01-04T22:49:15.030073Z"
    }
   },
   "outputs": [
    {
     "data": {
      "text/plain": [
       "('2021-12-27',\n",
       " '2021-12-31',\n",
       " '2021-12-31',\n",
       " 10000000.0,\n",
       " 100000.0,\n",
       " 888.9044444448934,\n",
       " True,\n",
       " 102889.15896133445,\n",
       " 'CLP',\n",
       " 'OITEST',\n",
       " 0.025002430652003582,\n",
       " 0.001,\n",
       " 1.0,\n",
       " 'LinAct360')"
      ]
     },
     "execution_count": 273,
     "metadata": {},
     "output_type": "execute_result"
    }
   ],
   "source": [
    "qcf.show(cor_cashflow)"
   ]
  },
  {
   "cell_type": "markdown",
   "metadata": {},
   "source": [
    "### Compounded Overnight Rate Cashflow 2\n",
    "\n",
    "Un objeto de tipo `CompoundedOvernightRateCashflow2` representa un flujo de caja calculado como un cupón de la pata flotante de un OIS sobre cualquier índice overnight (SOFR, FF, EONIA). Para dar de alta uno de estos objetos se requiere:\n",
    "\n",
    "- `InterestRateIndex`: el índice de tasa de interés prefijado\n",
    "- `QCDate`: fecha inicio (para la aplicación de la tasa)\n",
    "- `QCDate`: fecha final (para la aplicación de la tasa)\n",
    "- `QCDate`: fecha de pago\n",
    "- `DateList`: fechas de fixing del índice\n",
    "- `float`: nominal (monto al que se le aplica la tasa)\n",
    "- `float`: amortización (eventual flujo de caja que corresponde a una porción del nominal)\n",
    "- `bool`: indica si la amortización anterior es un flujo de caja o sólo una disminución de nominal\n",
    "- `QCCurrency`: moneda del nocional de la operación\n",
    "- `float`: spread aditivo a aplicar a la fijación de la TRA\n",
    "- `float`: spread multiplicativo o gearing a aplicar a la fijación de la TRA\n",
    "- `QCInterestRate`: permite especificar cuál es la convención de cálculo de la tasa equivalente\n",
    "- `unsigned int`: número de decimales a usar en el cálculo de la tasa equivalente. Por ejemplo para 0.12345678% este valor debe ser 10.\n",
    "- `unsigned int`: número de días de lookback\n",
    "- `unsigned int`: número de días de lockout\n",
    "\n",
    "El efecto de lookback y lockout aún no está implementado."
   ]
  },
  {
   "cell_type": "markdown",
   "metadata": {},
   "source": [
    "#### Constructor"
   ]
  },
  {
   "cell_type": "markdown",
   "metadata": {},
   "source": [
    "Se da de alta un índice overnight ficiticio de test."
   ]
  },
  {
   "cell_type": "code",
   "execution_count": 274,
   "metadata": {
    "ExecuteTime": {
     "end_time": "2022-01-21T13:43:03.569544Z",
     "start_time": "2022-01-21T13:43:03.554583Z"
    },
    "execution": {
     "iopub.execute_input": "2024-01-04T22:49:20.050374Z",
     "iopub.status.busy": "2024-01-04T22:49:20.050007Z",
     "iopub.status.idle": "2024-01-04T22:49:20.055783Z",
     "shell.execute_reply": "2024-01-04T22:49:20.054742Z",
     "shell.execute_reply.started": "2024-01-04T22:49:20.050341Z"
    }
   },
   "outputs": [],
   "source": [
    "codigo = \"OITEST\"\n",
    "lin_act360 = qcf.QCInterestRate(0.0, act360, lin_wf)\n",
    "fixing_lag = qcf.Tenor(\"0d\")\n",
    "tenor = qcf.Tenor(\"1d\")\n",
    "fixing_calendar = scl\n",
    "settlement_calendar = scl\n",
    "oitest = qcf.InterestRateIndex(\n",
    "    codigo, \n",
    "    lin_act360, \n",
    "    fixing_lag, \n",
    "    tenor, \n",
    "    fixing_calendar, \n",
    "    settlement_calendar, \n",
    "    usd\n",
    ")"
   ]
  },
  {
   "cell_type": "code",
   "execution_count": 275,
   "metadata": {
    "ExecuteTime": {
     "end_time": "2022-01-21T13:43:03.584504Z",
     "start_time": "2022-01-21T13:43:03.570541Z"
    },
    "execution": {
     "iopub.execute_input": "2024-01-04T22:49:20.821926Z",
     "iopub.status.busy": "2024-01-04T22:49:20.821545Z",
     "iopub.status.idle": "2024-01-04T22:49:20.825830Z",
     "shell.execute_reply": "2024-01-04T22:49:20.824950Z",
     "shell.execute_reply.started": "2024-01-04T22:49:20.821894Z"
    }
   },
   "outputs": [],
   "source": [
    "fixing_dates = qcf.DateList()"
   ]
  },
  {
   "cell_type": "code",
   "execution_count": 276,
   "metadata": {
    "ExecuteTime": {
     "end_time": "2022-01-21T13:43:03.600461Z",
     "start_time": "2022-01-21T13:43:03.585501Z"
    },
    "execution": {
     "iopub.execute_input": "2024-01-04T22:49:21.354666Z",
     "iopub.status.busy": "2024-01-04T22:49:21.354274Z",
     "iopub.status.idle": "2024-01-04T22:49:21.359476Z",
     "shell.execute_reply": "2024-01-04T22:49:21.358632Z",
     "shell.execute_reply.started": "2024-01-04T22:49:21.354635Z"
    }
   },
   "outputs": [],
   "source": [
    "fixing_dates.append(qcf.QCDate(27, 12, 2021))\n",
    "fixing_dates.append(qcf.QCDate(28, 12, 2021))\n",
    "fixing_dates.append(qcf.QCDate(29, 12, 2021))\n",
    "fixing_dates.append(qcf.QCDate(30, 12, 2021))"
   ]
  },
  {
   "cell_type": "code",
   "execution_count": 277,
   "metadata": {
    "ExecuteTime": {
     "end_time": "2022-01-21T13:43:03.679251Z",
     "start_time": "2022-01-21T13:43:03.601459Z"
    },
    "execution": {
     "iopub.execute_input": "2024-01-04T22:49:21.978551Z",
     "iopub.status.busy": "2024-01-04T22:49:21.978190Z",
     "iopub.status.idle": "2024-01-04T22:49:21.985300Z",
     "shell.execute_reply": "2024-01-04T22:49:21.984271Z",
     "shell.execute_reply.started": "2024-01-04T22:49:21.978520Z"
    }
   },
   "outputs": [],
   "source": [
    "cor_cashflow_2 = qcf.CompoundedOvernightRateCashflow2(\n",
    "    oitest,\n",
    "    qcf.QCDate(27, 12, 2021),\n",
    "    qcf.QCDate(31, 12, 2021),\n",
    "    qcf.QCDate(31, 12, 2021),\n",
    "    fixing_dates,\n",
    "    10_000_000.0,\n",
    "    100_000.0,\n",
    "    True,\n",
    "    qcf.QCCLP(),\n",
    "    spread:=0.001,\n",
    "    1.0,\n",
    "    qcf.QCInterestRate(0.0, qcf.QCAct360(), qcf.QCLinearWf()),\n",
    "    8,\n",
    "    0,\n",
    "    0,\n",
    ")"
   ]
  },
  {
   "cell_type": "markdown",
   "metadata": {},
   "source": [
    "#### Getters"
   ]
  },
  {
   "cell_type": "code",
   "execution_count": 278,
   "metadata": {
    "ExecuteTime": {
     "end_time": "2022-01-21T13:43:03.680249Z",
     "start_time": "2022-01-21T13:43:03.680249Z"
    },
    "execution": {
     "iopub.execute_input": "2024-01-04T22:49:23.341031Z",
     "iopub.status.busy": "2024-01-04T22:49:23.340689Z",
     "iopub.status.idle": "2024-01-04T22:49:23.346414Z",
     "shell.execute_reply": "2024-01-04T22:49:23.345467Z",
     "shell.execute_reply.started": "2024-01-04T22:49:23.341002Z"
    }
   },
   "outputs": [
    {
     "data": {
      "text/plain": [
       "'2021-12-27'"
      ]
     },
     "execution_count": 278,
     "metadata": {},
     "output_type": "execute_result"
    }
   ],
   "source": [
    "cor_cashflow_2.get_start_date().description(False)"
   ]
  },
  {
   "cell_type": "code",
   "execution_count": 279,
   "metadata": {
    "ExecuteTime": {
     "end_time": "2022-01-21T13:43:03.681246Z",
     "start_time": "2022-01-21T13:43:03.681246Z"
    },
    "execution": {
     "iopub.execute_input": "2024-01-04T22:49:24.077447Z",
     "iopub.status.busy": "2024-01-04T22:49:24.077085Z",
     "iopub.status.idle": "2024-01-04T22:49:24.083546Z",
     "shell.execute_reply": "2024-01-04T22:49:24.082366Z",
     "shell.execute_reply.started": "2024-01-04T22:49:24.077414Z"
    }
   },
   "outputs": [
    {
     "data": {
      "text/plain": [
       "'2021-12-31'"
      ]
     },
     "execution_count": 279,
     "metadata": {},
     "output_type": "execute_result"
    }
   ],
   "source": [
    "cor_cashflow_2.get_end_date().description(False)"
   ]
  },
  {
   "cell_type": "code",
   "execution_count": 280,
   "metadata": {
    "ExecuteTime": {
     "end_time": "2022-01-21T13:43:03.683241Z",
     "start_time": "2022-01-21T13:43:03.683241Z"
    },
    "execution": {
     "iopub.execute_input": "2024-01-04T22:49:24.716692Z",
     "iopub.status.busy": "2024-01-04T22:49:24.716352Z",
     "iopub.status.idle": "2024-01-04T22:49:24.722048Z",
     "shell.execute_reply": "2024-01-04T22:49:24.721178Z",
     "shell.execute_reply.started": "2024-01-04T22:49:24.716663Z"
    }
   },
   "outputs": [
    {
     "data": {
      "text/plain": [
       "'2021-12-31'"
      ]
     },
     "execution_count": 280,
     "metadata": {},
     "output_type": "execute_result"
    }
   ],
   "source": [
    "cor_cashflow_2.get_settlement_date().description(False)"
   ]
  },
  {
   "cell_type": "code",
   "execution_count": 281,
   "metadata": {
    "ExecuteTime": {
     "end_time": "2022-01-21T13:43:03.684238Z",
     "start_time": "2022-01-21T13:43:03.684238Z"
    },
    "execution": {
     "iopub.execute_input": "2024-01-04T22:49:25.409995Z",
     "iopub.status.busy": "2024-01-04T22:49:25.409654Z",
     "iopub.status.idle": "2024-01-04T22:49:25.414892Z",
     "shell.execute_reply": "2024-01-04T22:49:25.414057Z",
     "shell.execute_reply.started": "2024-01-04T22:49:25.409965Z"
    }
   },
   "outputs": [
    {
     "name": "stdout",
     "output_type": "stream",
     "text": [
      "2021-12-27\n",
      "2021-12-28\n",
      "2021-12-29\n",
      "2021-12-30\n"
     ]
    }
   ],
   "source": [
    "for d in cor_cashflow_2.get_fixing_dates():\n",
    "    print(d)"
   ]
  },
  {
   "cell_type": "code",
   "execution_count": 284,
   "metadata": {
    "ExecuteTime": {
     "end_time": "2022-01-21T13:43:03.685235Z",
     "start_time": "2022-01-21T13:43:03.685235Z"
    },
    "execution": {
     "iopub.execute_input": "2024-01-04T22:49:36.311648Z",
     "iopub.status.busy": "2024-01-04T22:49:36.311311Z",
     "iopub.status.idle": "2024-01-04T22:49:36.316174Z",
     "shell.execute_reply": "2024-01-04T22:49:36.315176Z",
     "shell.execute_reply.started": "2024-01-04T22:49:36.311620Z"
    }
   },
   "outputs": [
    {
     "name": "stdout",
     "output_type": "stream",
     "text": [
      "Nocional: 10,000,000\n"
     ]
    }
   ],
   "source": [
    "print(f\"Nocional: {cor_cashflow_2.get_nominal():,.0f}\")"
   ]
  },
  {
   "cell_type": "code",
   "execution_count": 285,
   "metadata": {
    "ExecuteTime": {
     "end_time": "2022-01-21T13:43:03.687231Z",
     "start_time": "2022-01-21T13:43:03.687231Z"
    },
    "execution": {
     "iopub.execute_input": "2024-01-04T22:49:37.424282Z",
     "iopub.status.busy": "2024-01-04T22:49:37.423945Z",
     "iopub.status.idle": "2024-01-04T22:49:37.428612Z",
     "shell.execute_reply": "2024-01-04T22:49:37.427808Z",
     "shell.execute_reply.started": "2024-01-04T22:49:37.424253Z"
    }
   },
   "outputs": [
    {
     "name": "stdout",
     "output_type": "stream",
     "text": [
      "Amortization: 100,000\n"
     ]
    }
   ],
   "source": [
    "print(f\"Amortization: {cor_cashflow_2.get_amortization():,.0f}\")"
   ]
  },
  {
   "cell_type": "code",
   "execution_count": 286,
   "metadata": {
    "ExecuteTime": {
     "end_time": "2022-01-21T13:43:03.688227Z",
     "start_time": "2022-01-21T13:43:03.688227Z"
    },
    "execution": {
     "iopub.execute_input": "2024-01-04T22:49:38.325121Z",
     "iopub.status.busy": "2024-01-04T22:49:38.324779Z",
     "iopub.status.idle": "2024-01-04T22:49:38.330567Z",
     "shell.execute_reply": "2024-01-04T22:49:38.329806Z",
     "shell.execute_reply.started": "2024-01-04T22:49:38.325092Z"
    }
   },
   "outputs": [
    {
     "data": {
      "text/plain": [
       "'CLP'"
      ]
     },
     "execution_count": 286,
     "metadata": {},
     "output_type": "execute_result"
    }
   ],
   "source": [
    "cor_cashflow_2.ccy().get_iso_code()"
   ]
  },
  {
   "cell_type": "code",
   "execution_count": 287,
   "metadata": {
    "ExecuteTime": {
     "end_time": "2022-01-21T13:43:03.689224Z",
     "start_time": "2022-01-21T13:43:03.689224Z"
    },
    "execution": {
     "iopub.execute_input": "2024-01-04T22:49:39.501253Z",
     "iopub.status.busy": "2024-01-04T22:49:39.500901Z",
     "iopub.status.idle": "2024-01-04T22:49:39.505844Z",
     "shell.execute_reply": "2024-01-04T22:49:39.504925Z",
     "shell.execute_reply.started": "2024-01-04T22:49:39.501222Z"
    }
   },
   "outputs": [
    {
     "name": "stdout",
     "output_type": "stream",
     "text": [
      "Spread: 0.10%\n"
     ]
    }
   ],
   "source": [
    "print(f\"Spread: {cor_cashflow_2.get_spread():.2%}\")"
   ]
  },
  {
   "cell_type": "code",
   "execution_count": 288,
   "metadata": {
    "ExecuteTime": {
     "end_time": "2022-01-21T13:43:03.690221Z",
     "start_time": "2022-01-21T13:43:03.690221Z"
    },
    "execution": {
     "iopub.execute_input": "2024-01-04T22:49:40.219208Z",
     "iopub.status.busy": "2024-01-04T22:49:40.218869Z",
     "iopub.status.idle": "2024-01-04T22:49:40.224698Z",
     "shell.execute_reply": "2024-01-04T22:49:40.223836Z",
     "shell.execute_reply.started": "2024-01-04T22:49:40.219179Z"
    }
   },
   "outputs": [
    {
     "data": {
      "text/plain": [
       "1.0"
      ]
     },
     "execution_count": 288,
     "metadata": {},
     "output_type": "execute_result"
    }
   ],
   "source": [
    "cor_cashflow_2.get_gearing()"
   ]
  },
  {
   "cell_type": "code",
   "execution_count": 289,
   "metadata": {
    "ExecuteTime": {
     "end_time": "2022-01-21T13:43:03.691219Z",
     "start_time": "2022-01-21T13:43:03.691219Z"
    },
    "execution": {
     "iopub.execute_input": "2024-01-04T22:49:40.997324Z",
     "iopub.status.busy": "2024-01-04T22:49:40.996959Z",
     "iopub.status.idle": "2024-01-04T22:49:41.003044Z",
     "shell.execute_reply": "2024-01-04T22:49:41.002160Z",
     "shell.execute_reply.started": "2024-01-04T22:49:40.997292Z"
    }
   },
   "outputs": [
    {
     "data": {
      "text/plain": [
       "'CompoundedOvernightRateCashflow2'"
      ]
     },
     "execution_count": 289,
     "metadata": {},
     "output_type": "execute_result"
    }
   ],
   "source": [
    "cor_cashflow_2.get_type()"
   ]
  },
  {
   "cell_type": "code",
   "execution_count": 290,
   "metadata": {
    "ExecuteTime": {
     "end_time": "2022-01-21T13:43:03.692216Z",
     "start_time": "2022-01-21T13:43:03.692216Z"
    },
    "execution": {
     "iopub.execute_input": "2024-01-04T22:49:41.766001Z",
     "iopub.status.busy": "2024-01-04T22:49:41.765659Z",
     "iopub.status.idle": "2024-01-04T22:49:41.772550Z",
     "shell.execute_reply": "2024-01-04T22:49:41.771767Z",
     "shell.execute_reply.started": "2024-01-04T22:49:41.765972Z"
    }
   },
   "outputs": [
    {
     "data": {
      "text/plain": [
       "8"
      ]
     },
     "execution_count": 290,
     "metadata": {},
     "output_type": "execute_result"
    }
   ],
   "source": [
    "cor_cashflow_2.get_eq_rate_decimal_places()"
   ]
  },
  {
   "cell_type": "code",
   "execution_count": 291,
   "metadata": {
    "ExecuteTime": {
     "end_time": "2022-01-21T13:43:03.693214Z",
     "start_time": "2022-01-21T13:43:03.693214Z"
    },
    "execution": {
     "iopub.execute_input": "2024-01-04T22:49:42.453468Z",
     "iopub.status.busy": "2024-01-04T22:49:42.453102Z",
     "iopub.status.idle": "2024-01-04T22:49:42.458108Z",
     "shell.execute_reply": "2024-01-04T22:49:42.457195Z",
     "shell.execute_reply.started": "2024-01-04T22:49:42.453436Z"
    }
   },
   "outputs": [],
   "source": [
    "derivs = cor_cashflow_2.get_amount_derivatives()"
   ]
  },
  {
   "cell_type": "code",
   "execution_count": 292,
   "metadata": {
    "ExecuteTime": {
     "end_time": "2022-01-21T13:43:03.695208Z",
     "start_time": "2022-01-21T13:43:03.695208Z"
    },
    "execution": {
     "iopub.execute_input": "2024-01-04T22:49:43.037158Z",
     "iopub.status.busy": "2024-01-04T22:49:43.036803Z",
     "iopub.status.idle": "2024-01-04T22:49:43.042852Z",
     "shell.execute_reply": "2024-01-04T22:49:43.042011Z",
     "shell.execute_reply.started": "2024-01-04T22:49:43.037126Z"
    }
   },
   "outputs": [
    {
     "data": {
      "text/plain": [
       "2"
      ]
     },
     "execution_count": 292,
     "metadata": {},
     "output_type": "execute_result"
    }
   ],
   "source": [
    "len(derivs)"
   ]
  },
  {
   "cell_type": "code",
   "execution_count": 293,
   "metadata": {
    "ExecuteTime": {
     "end_time": "2022-01-21T13:43:03.696205Z",
     "start_time": "2022-01-21T13:43:03.696205Z"
    },
    "execution": {
     "iopub.execute_input": "2024-01-04T22:49:43.931692Z",
     "iopub.status.busy": "2024-01-04T22:49:43.931350Z",
     "iopub.status.idle": "2024-01-04T22:49:43.936320Z",
     "shell.execute_reply": "2024-01-04T22:49:43.935425Z",
     "shell.execute_reply.started": "2024-01-04T22:49:43.931662Z"
    }
   },
   "outputs": [
    {
     "name": "stdout",
     "output_type": "stream",
     "text": [
      "0.0\n",
      "0.0\n"
     ]
    }
   ],
   "source": [
    "for der in derivs:\n",
    "    print(der)"
   ]
  },
  {
   "cell_type": "markdown",
   "metadata": {},
   "source": [
    "#### Setters"
   ]
  },
  {
   "cell_type": "code",
   "execution_count": 295,
   "metadata": {
    "ExecuteTime": {
     "end_time": "2022-01-21T13:43:03.697203Z",
     "start_time": "2022-01-21T13:43:03.697203Z"
    },
    "execution": {
     "iopub.execute_input": "2024-01-04T22:49:54.291430Z",
     "iopub.status.busy": "2024-01-04T22:49:54.291086Z",
     "iopub.status.idle": "2024-01-04T22:49:54.295957Z",
     "shell.execute_reply": "2024-01-04T22:49:54.295165Z",
     "shell.execute_reply.started": "2024-01-04T22:49:54.291400Z"
    }
   },
   "outputs": [
    {
     "name": "stdout",
     "output_type": "stream",
     "text": [
      "Nocional: 1,000\n"
     ]
    }
   ],
   "source": [
    "cor_cashflow_2.set_notional(1_000)\n",
    "print(f\"Nocional: {cor_cashflow_2.get_nominal():,.0f}\")"
   ]
  },
  {
   "cell_type": "code",
   "execution_count": 296,
   "metadata": {
    "ExecuteTime": {
     "end_time": "2022-01-21T13:43:03.698200Z",
     "start_time": "2022-01-21T13:43:03.698200Z"
    },
    "execution": {
     "iopub.execute_input": "2024-01-04T22:49:55.213011Z",
     "iopub.status.busy": "2024-01-04T22:49:55.212676Z",
     "iopub.status.idle": "2024-01-04T22:49:55.218689Z",
     "shell.execute_reply": "2024-01-04T22:49:55.217894Z",
     "shell.execute_reply.started": "2024-01-04T22:49:55.212982Z"
    }
   },
   "outputs": [
    {
     "data": {
      "text/plain": [
       "0.0"
      ]
     },
     "execution_count": 296,
     "metadata": {},
     "output_type": "execute_result"
    }
   ],
   "source": [
    "cor_cashflow_2.set_amortization(0)\n",
    "cor_cashflow_2.get_amortization()"
   ]
  },
  {
   "cell_type": "markdown",
   "metadata": {},
   "source": [
    "Se reversa el ejemplo."
   ]
  },
  {
   "cell_type": "code",
   "execution_count": 297,
   "metadata": {
    "ExecuteTime": {
     "end_time": "2022-01-21T13:43:03.699197Z",
     "start_time": "2022-01-21T13:43:03.699197Z"
    },
    "execution": {
     "iopub.execute_input": "2024-01-04T22:49:58.066882Z",
     "iopub.status.busy": "2024-01-04T22:49:58.066540Z",
     "iopub.status.idle": "2024-01-04T22:49:58.070837Z",
     "shell.execute_reply": "2024-01-04T22:49:58.070054Z",
     "shell.execute_reply.started": "2024-01-04T22:49:58.066852Z"
    }
   },
   "outputs": [],
   "source": [
    "cor_cashflow_2.set_notional(10_000_000.0)\n",
    "cor_cashflow_2.set_amortization(100_000.0)"
   ]
  },
  {
   "cell_type": "markdown",
   "metadata": {},
   "source": [
    "#### Accrued Fixing"
   ]
  },
  {
   "cell_type": "markdown",
   "metadata": {},
   "source": [
    "Para el cálculo de `accrued_fixing` se requiere un objeto de tipo `TimeSeries` que contenga los datos históricos del índice overnight."
   ]
  },
  {
   "cell_type": "code",
   "execution_count": 298,
   "metadata": {
    "ExecuteTime": {
     "end_time": "2022-01-21T13:43:03.701192Z",
     "start_time": "2022-01-21T13:43:03.701192Z"
    },
    "execution": {
     "iopub.execute_input": "2024-01-04T22:49:59.859007Z",
     "iopub.status.busy": "2024-01-04T22:49:59.858643Z",
     "iopub.status.idle": "2024-01-04T22:49:59.863139Z",
     "shell.execute_reply": "2024-01-04T22:49:59.862229Z",
     "shell.execute_reply.started": "2024-01-04T22:49:59.858975Z"
    }
   },
   "outputs": [],
   "source": [
    "ts = qcf.time_series()"
   ]
  },
  {
   "cell_type": "code",
   "execution_count": 299,
   "metadata": {
    "ExecuteTime": {
     "end_time": "2022-01-21T13:43:03.702189Z",
     "start_time": "2022-01-21T13:43:03.702189Z"
    },
    "execution": {
     "iopub.execute_input": "2024-01-04T22:50:00.458907Z",
     "iopub.status.busy": "2024-01-04T22:50:00.458545Z",
     "iopub.status.idle": "2024-01-04T22:50:00.463915Z",
     "shell.execute_reply": "2024-01-04T22:50:00.462854Z",
     "shell.execute_reply.started": "2024-01-04T22:50:00.458877Z"
    }
   },
   "outputs": [],
   "source": [
    "ts[qcf.QCDate(27, 12, 2021)] = 0.01\n",
    "ts[qcf.QCDate(28, 12, 2021)] = 0.02\n",
    "ts[qcf.QCDate(29, 12, 2021)] = 0.03\n",
    "ts[qcf.QCDate(30, 12, 2021)] = 0.04"
   ]
  },
  {
   "cell_type": "code",
   "execution_count": 300,
   "metadata": {
    "ExecuteTime": {
     "end_time": "2022-01-21T13:43:03.703186Z",
     "start_time": "2022-01-21T13:43:03.703186Z"
    },
    "execution": {
     "iopub.execute_input": "2024-01-04T22:50:01.055375Z",
     "iopub.status.busy": "2024-01-04T22:50:01.055008Z",
     "iopub.status.idle": "2024-01-04T22:50:01.060133Z",
     "shell.execute_reply": "2024-01-04T22:50:01.059339Z",
     "shell.execute_reply.started": "2024-01-04T22:50:01.055344Z"
    }
   },
   "outputs": [
    {
     "name": "stdout",
     "output_type": "stream",
     "text": [
      "Accrued fixing: 1.500028%\n"
     ]
    }
   ],
   "source": [
    "print(f\"Accrued fixing: {cor_cashflow_2.accrued_fixing(qcf.QCDate(29, 12, 2021), ts):.6%}\")"
   ]
  },
  {
   "cell_type": "code",
   "execution_count": 301,
   "metadata": {
    "ExecuteTime": {
     "end_time": "2022-01-21T13:43:03.704184Z",
     "start_time": "2022-01-21T13:43:03.704184Z"
    },
    "execution": {
     "iopub.execute_input": "2024-01-04T22:50:01.828621Z",
     "iopub.status.busy": "2024-01-04T22:50:01.828288Z",
     "iopub.status.idle": "2024-01-04T22:50:01.833302Z",
     "shell.execute_reply": "2024-01-04T22:50:01.832487Z",
     "shell.execute_reply.started": "2024-01-04T22:50:01.828592Z"
    }
   },
   "outputs": [
    {
     "name": "stdout",
     "output_type": "stream",
     "text": [
      "Check: 1.500028%\n"
     ]
    }
   ],
   "source": [
    "check = ((1 + 0.01 / 360) * (1 + 0.02 / 360.0) - 1) * 360 / 2.0\n",
    "print(f\"Check: {check:.6%}\")"
   ]
  },
  {
   "cell_type": "markdown",
   "metadata": {},
   "source": [
    "#### Accrued Interest"
   ]
  },
  {
   "cell_type": "markdown",
   "metadata": {},
   "source": [
    "Para el cálculo de `accrued_interest` se requiere un objeto de tipo `TimeSeries` que contenga los datos históricos del índice overnight."
   ]
  },
  {
   "cell_type": "code",
   "execution_count": 302,
   "metadata": {
    "ExecuteTime": {
     "end_time": "2022-01-21T13:43:03.706179Z",
     "start_time": "2022-01-21T13:43:03.706179Z"
    },
    "execution": {
     "iopub.execute_input": "2024-01-04T22:50:06.994556Z",
     "iopub.status.busy": "2024-01-04T22:50:06.994194Z",
     "iopub.status.idle": "2024-01-04T22:50:06.999358Z",
     "shell.execute_reply": "2024-01-04T22:50:06.998214Z",
     "shell.execute_reply.started": "2024-01-04T22:50:06.994526Z"
    }
   },
   "outputs": [
    {
     "name": "stdout",
     "output_type": "stream",
     "text": [
      "Accrued interest: 888.90\n"
     ]
    }
   ],
   "source": [
    "print(f\"Accrued interest: {cor_cashflow_2.accrued_interest(qcf.QCDate(29, 12, 2021), ts):,.2f}\")"
   ]
  },
  {
   "cell_type": "code",
   "execution_count": 304,
   "metadata": {
    "ExecuteTime": {
     "end_time": "2022-01-21T13:43:03.707176Z",
     "start_time": "2022-01-21T13:43:03.707176Z"
    },
    "execution": {
     "iopub.execute_input": "2024-01-04T22:50:15.450885Z",
     "iopub.status.busy": "2024-01-04T22:50:15.450546Z",
     "iopub.status.idle": "2024-01-04T22:50:15.456003Z",
     "shell.execute_reply": "2024-01-04T22:50:15.455235Z",
     "shell.execute_reply.started": "2024-01-04T22:50:15.450856Z"
    }
   },
   "outputs": [
    {
     "name": "stdout",
     "output_type": "stream",
     "text": [
      "Check: 888.90\n"
     ]
    }
   ],
   "source": [
    "check = (\n",
    "    cor_cashflow_2.get_nominal()\n",
    "    * (cor_cashflow_2.accrued_fixing(qcf.QCDate(29, 12, 2021), ts) + spread)\n",
    "    * 2\n",
    "    / 360.0\n",
    ")\n",
    "print(f\"Check: {check:,.2f}\")"
   ]
  },
  {
   "cell_type": "code",
   "execution_count": 305,
   "metadata": {
    "ExecuteTime": {
     "end_time": "2022-01-21T13:43:03.708174Z",
     "start_time": "2022-01-21T13:43:03.708174Z"
    },
    "execution": {
     "iopub.execute_input": "2024-01-04T22:50:18.089134Z",
     "iopub.status.busy": "2024-01-04T22:50:18.088788Z",
     "iopub.status.idle": "2024-01-04T22:50:18.093647Z",
     "shell.execute_reply": "2024-01-04T22:50:18.092766Z",
     "shell.execute_reply.started": "2024-01-04T22:50:18.089105Z"
    }
   },
   "outputs": [
    {
     "name": "stdout",
     "output_type": "stream",
     "text": [
      "Amount: 100,111.11\n"
     ]
    }
   ],
   "source": [
    "print(f\"Amount: {cor_cashflow_2.amount():,.2f}\")"
   ]
  },
  {
   "cell_type": "code",
   "execution_count": 306,
   "metadata": {
    "ExecuteTime": {
     "end_time": "2022-01-21T13:43:03.710168Z",
     "start_time": "2022-01-21T13:43:03.710168Z"
    },
    "execution": {
     "iopub.execute_input": "2024-01-04T22:50:19.030608Z",
     "iopub.status.busy": "2024-01-04T22:50:19.030254Z",
     "iopub.status.idle": "2024-01-04T22:50:19.036253Z",
     "shell.execute_reply": "2024-01-04T22:50:19.035353Z",
     "shell.execute_reply.started": "2024-01-04T22:50:19.030578Z"
    }
   },
   "outputs": [
    {
     "data": {
      "text/plain": [
       "'2021-12-31'"
      ]
     },
     "execution_count": 306,
     "metadata": {},
     "output_type": "execute_result"
    }
   ],
   "source": [
    "cor_cashflow_2.date().description(False)"
   ]
  },
  {
   "cell_type": "code",
   "execution_count": 307,
   "metadata": {
    "ExecuteTime": {
     "end_time": "2022-01-21T13:43:03.712162Z",
     "start_time": "2022-01-21T13:43:03.712162Z"
    },
    "execution": {
     "iopub.execute_input": "2024-01-04T22:50:20.069279Z",
     "iopub.status.busy": "2024-01-04T22:50:20.068941Z",
     "iopub.status.idle": "2024-01-04T22:50:20.073678Z",
     "shell.execute_reply": "2024-01-04T22:50:20.072915Z",
     "shell.execute_reply.started": "2024-01-04T22:50:20.069250Z"
    }
   },
   "outputs": [
    {
     "name": "stdout",
     "output_type": "stream",
     "text": [
      "Interest: 111.11\n"
     ]
    }
   ],
   "source": [
    "print(f\"Interest: {cor_cashflow_2.interest_from_spread():,.2f}\")"
   ]
  },
  {
   "cell_type": "code",
   "execution_count": 308,
   "metadata": {
    "ExecuteTime": {
     "end_time": "2022-01-21T13:43:03.713161Z",
     "start_time": "2022-01-21T13:43:03.713161Z"
    },
    "execution": {
     "iopub.execute_input": "2024-01-04T22:50:21.000887Z",
     "iopub.status.busy": "2024-01-04T22:50:21.000518Z",
     "iopub.status.idle": "2024-01-04T22:50:21.006806Z",
     "shell.execute_reply": "2024-01-04T22:50:21.005926Z",
     "shell.execute_reply.started": "2024-01-04T22:50:21.000856Z"
    }
   },
   "outputs": [
    {
     "data": {
      "text/plain": [
       "False"
      ]
     },
     "execution_count": 308,
     "metadata": {},
     "output_type": "execute_result"
    }
   ],
   "source": [
    "cor_cashflow_2.is_expired(qcf.QCDate(29, 12, 2021))"
   ]
  },
  {
   "cell_type": "code",
   "execution_count": 309,
   "metadata": {
    "ExecuteTime": {
     "end_time": "2022-01-21T13:43:03.714157Z",
     "start_time": "2022-01-21T13:43:03.714157Z"
    },
    "execution": {
     "iopub.execute_input": "2024-01-04T22:50:21.548045Z",
     "iopub.status.busy": "2024-01-04T22:50:21.547709Z",
     "iopub.status.idle": "2024-01-04T22:50:21.553754Z",
     "shell.execute_reply": "2024-01-04T22:50:21.552979Z",
     "shell.execute_reply.started": "2024-01-04T22:50:21.548016Z"
    }
   },
   "outputs": [
    {
     "data": {
      "text/plain": [
       "False"
      ]
     },
     "execution_count": 309,
     "metadata": {},
     "output_type": "execute_result"
    }
   ],
   "source": [
    "cor_cashflow_2.is_expired(qcf.QCDate(31, 12, 2021))"
   ]
  },
  {
   "cell_type": "code",
   "execution_count": 310,
   "metadata": {
    "ExecuteTime": {
     "end_time": "2022-01-21T13:43:03.716152Z",
     "start_time": "2022-01-21T13:43:03.716152Z"
    },
    "execution": {
     "iopub.execute_input": "2024-01-04T22:50:23.608448Z",
     "iopub.status.busy": "2024-01-04T22:50:23.608108Z",
     "iopub.status.idle": "2024-01-04T22:50:23.614032Z",
     "shell.execute_reply": "2024-01-04T22:50:23.613191Z",
     "shell.execute_reply.started": "2024-01-04T22:50:23.608419Z"
    }
   },
   "outputs": [
    {
     "data": {
      "text/plain": [
       "True"
      ]
     },
     "execution_count": 310,
     "metadata": {},
     "output_type": "execute_result"
    }
   ],
   "source": [
    "cor_cashflow_2.is_expired(qcf.QCDate(1, 1, 2022))"
   ]
  },
  {
   "cell_type": "code",
   "execution_count": 311,
   "metadata": {
    "execution": {
     "iopub.execute_input": "2024-01-04T22:50:24.291528Z",
     "iopub.status.busy": "2024-01-04T22:50:24.291191Z",
     "iopub.status.idle": "2024-01-04T22:50:24.296820Z",
     "shell.execute_reply": "2024-01-04T22:50:24.296019Z",
     "shell.execute_reply.started": "2024-01-04T22:50:24.291499Z"
    }
   },
   "outputs": [
    {
     "data": {
      "text/plain": [
       "'CompoundedOvernightRateCashflow2'"
      ]
     },
     "execution_count": 311,
     "metadata": {},
     "output_type": "execute_result"
    }
   ],
   "source": [
    "cor_cashflow_2.get_type()"
   ]
  },
  {
   "cell_type": "code",
   "execution_count": 312,
   "metadata": {
    "execution": {
     "iopub.execute_input": "2024-01-04T22:50:25.171208Z",
     "iopub.status.busy": "2024-01-04T22:50:25.170856Z",
     "iopub.status.idle": "2024-01-04T22:50:25.177117Z",
     "shell.execute_reply": "2024-01-04T22:50:25.176221Z",
     "shell.execute_reply.started": "2024-01-04T22:50:25.171178Z"
    }
   },
   "outputs": [
    {
     "data": {
      "text/plain": [
       "('2021-12-27',\n",
       " '2021-12-31',\n",
       " '2021-12-31',\n",
       " 10000000.0,\n",
       " 100000.0,\n",
       " 888.9044444448934,\n",
       " True,\n",
       " 102889.15896133445,\n",
       " 'CLP',\n",
       " 'OITEST',\n",
       " 0.025002430652003582,\n",
       " 0.001,\n",
       " 1.0,\n",
       " 'LinAct360')"
      ]
     },
     "execution_count": 312,
     "metadata": {},
     "output_type": "execute_result"
    }
   ],
   "source": [
    "qcf.show(cor_cashflow)"
   ]
  },
  {
   "cell_type": "code",
   "execution_count": 313,
   "metadata": {
    "execution": {
     "iopub.execute_input": "2024-01-04T22:50:26.204461Z",
     "iopub.status.busy": "2024-01-04T22:50:26.204122Z",
     "iopub.status.idle": "2024-01-04T22:50:26.220600Z",
     "shell.execute_reply": "2024-01-04T22:50:26.219798Z",
     "shell.execute_reply.started": "2024-01-04T22:50:26.204432Z"
    }
   },
   "outputs": [
    {
     "data": {
      "text/html": [
       "<div>\n",
       "<style scoped>\n",
       "    .dataframe tbody tr th:only-of-type {\n",
       "        vertical-align: middle;\n",
       "    }\n",
       "\n",
       "    .dataframe tbody tr th {\n",
       "        vertical-align: top;\n",
       "    }\n",
       "\n",
       "    .dataframe thead th {\n",
       "        text-align: right;\n",
       "    }\n",
       "</style>\n",
       "<table border=\"1\" class=\"dataframe\">\n",
       "  <thead>\n",
       "    <tr style=\"text-align: right;\">\n",
       "      <th></th>\n",
       "      <th>fecha_inicial</th>\n",
       "      <th>fecha_final</th>\n",
       "      <th>fecha_pago</th>\n",
       "      <th>nominal</th>\n",
       "      <th>amortizacion</th>\n",
       "      <th>interes</th>\n",
       "      <th>amort_es_flujo</th>\n",
       "      <th>flujo</th>\n",
       "      <th>moneda</th>\n",
       "      <th>codigo_indice_tasa</th>\n",
       "      <th>valor_tasa</th>\n",
       "      <th>spread</th>\n",
       "      <th>gearing</th>\n",
       "      <th>tipo_tasa</th>\n",
       "    </tr>\n",
       "  </thead>\n",
       "  <tbody>\n",
       "    <tr>\n",
       "      <th>0</th>\n",
       "      <td>2021-12-27</td>\n",
       "      <td>2021-12-31</td>\n",
       "      <td>2021-12-31</td>\n",
       "      <td>10000000.0</td>\n",
       "      <td>100000.0</td>\n",
       "      <td>888.904444</td>\n",
       "      <td>True</td>\n",
       "      <td>102889.158961</td>\n",
       "      <td>CLP</td>\n",
       "      <td>OITEST</td>\n",
       "      <td>0.025002</td>\n",
       "      <td>0.001</td>\n",
       "      <td>1.0</td>\n",
       "      <td>LinAct360</td>\n",
       "    </tr>\n",
       "  </tbody>\n",
       "</table>\n",
       "</div>"
      ],
      "text/plain": [
       "  fecha_inicial fecha_final  fecha_pago     nominal  amortizacion     interes  \\\n",
       "0    2021-12-27  2021-12-31  2021-12-31  10000000.0      100000.0  888.904444   \n",
       "\n",
       "   amort_es_flujo          flujo moneda codigo_indice_tasa  valor_tasa  \\\n",
       "0            True  102889.158961    CLP             OITEST    0.025002   \n",
       "\n",
       "   spread  gearing  tipo_tasa  \n",
       "0   0.001      1.0  LinAct360  "
      ]
     },
     "execution_count": 313,
     "metadata": {},
     "output_type": "execute_result"
    }
   ],
   "source": [
    "pd.DataFrame([qcf.show(cor_cashflow)], columns=qcf.get_column_names(\"CompoundedOvernightRateCashflow2\", \"\"))"
   ]
  },
  {
   "cell_type": "markdown",
   "metadata": {},
   "source": [
    "### Compounded Overnight Rate Multi Currency Cashflow 2\n",
    "\n",
    "Un objeto de tipo `CompoundedOvernightRateMultiCurrencyCashflow2` representa un flujo de caja calculado como un cupón de la pata flotante de un OIS sobre cualquier índice overnight (SOFR, FF, EONIA) que se liquidará en una moneda distinta de la moneda del nominal utilizando el valor a una cierta fecha de un índice de tipo de cambio prefijado.. Para dar de alta uno de estos objetos se requiere:\n",
    "\n",
    "- `InterestRateIndex`: el índice de tasa de interés prefijado\n",
    "- `QCDate`: fecha inicio (para la aplicación de la tasa)\n",
    "- `QCDate`: fecha final (para la aplicación de la tasa)\n",
    "- `QCDate`: fecha de pago\n",
    "- `DateList`: fechas de fixing del índice\n",
    "- `float`: nominal (monto al que se le aplica la tasa)\n",
    "- `float`: amortización (eventual flujo de caja que corresponde a una porción del nominal)\n",
    "- `bool`: indica si la amortización anterior es un flujo de caja o sólo una disminución de nominal\n",
    "- `QCCurrency`: moneda del nocional de la operación\n",
    "- `float`: spread aditivo a aplicar a la fijación de la TRA\n",
    "- `float`: spread multiplicativo o gearing a aplicar a la fijación de la TRA\n",
    "- `QCInterestRate`: permite especificar cuál es la convención de cálculo de la tasa equivalente\n",
    "- `unsigned int`: número de decimales a usar en el cálculo de la tasa equivalente. Por ejemplo para 0.12345678% este valor debe ser 10.\n",
    "- `unsigned int`: número de días de lookback\n",
    "- `unsigned int`: número de días de lockout\n",
    "- `QCDate`: fecha de fixing del índice FX\n",
    "- `QCCurrency`: moneda de pago o settlement\n",
    "- `FXRateIndex`: índice de tipo de cambio a utilizar\n",
    "\n",
    "El efecto de lookback y lockout aún no está implementado."
   ]
  },
  {
   "cell_type": "markdown",
   "metadata": {},
   "source": [
    "#### Constructor"
   ]
  },
  {
   "cell_type": "markdown",
   "metadata": {},
   "source": [
    "Se da de alta un índice overnight ficiticio de test."
   ]
  },
  {
   "cell_type": "code",
   "execution_count": 314,
   "metadata": {
    "ExecuteTime": {
     "end_time": "2022-01-21T13:43:03.569544Z",
     "start_time": "2022-01-21T13:43:03.554583Z"
    },
    "execution": {
     "iopub.execute_input": "2024-01-04T22:50:29.893688Z",
     "iopub.status.busy": "2024-01-04T22:50:29.893321Z",
     "iopub.status.idle": "2024-01-04T22:50:29.899439Z",
     "shell.execute_reply": "2024-01-04T22:50:29.898316Z",
     "shell.execute_reply.started": "2024-01-04T22:50:29.893656Z"
    }
   },
   "outputs": [],
   "source": [
    "codigo = \"OITEST\"\n",
    "lin_act360 = qcf.QCInterestRate(0.0, act360, lin_wf)\n",
    "fixing_lag = qcf.Tenor(\"0d\")\n",
    "tenor = qcf.Tenor(\"1d\")\n",
    "fixing_calendar = scl\n",
    "settlement_calendar = scl\n",
    "oitest = qcf.InterestRateIndex(\n",
    "    codigo, \n",
    "    lin_act360, \n",
    "    fixing_lag, \n",
    "    tenor, \n",
    "    fixing_calendar, \n",
    "    settlement_calendar, \n",
    "    usd\n",
    ")"
   ]
  },
  {
   "cell_type": "code",
   "execution_count": 315,
   "metadata": {
    "ExecuteTime": {
     "end_time": "2022-01-21T13:43:03.584504Z",
     "start_time": "2022-01-21T13:43:03.570541Z"
    },
    "execution": {
     "iopub.execute_input": "2024-01-04T22:50:30.779117Z",
     "iopub.status.busy": "2024-01-04T22:50:30.778770Z",
     "iopub.status.idle": "2024-01-04T22:50:30.782946Z",
     "shell.execute_reply": "2024-01-04T22:50:30.782090Z",
     "shell.execute_reply.started": "2024-01-04T22:50:30.779089Z"
    }
   },
   "outputs": [],
   "source": [
    "fixing_dates = qcf.DateList()"
   ]
  },
  {
   "cell_type": "code",
   "execution_count": 316,
   "metadata": {
    "ExecuteTime": {
     "end_time": "2022-01-21T13:43:03.600461Z",
     "start_time": "2022-01-21T13:43:03.585501Z"
    },
    "execution": {
     "iopub.execute_input": "2024-01-04T22:50:31.472035Z",
     "iopub.status.busy": "2024-01-04T22:50:31.471671Z",
     "iopub.status.idle": "2024-01-04T22:50:31.477254Z",
     "shell.execute_reply": "2024-01-04T22:50:31.476184Z",
     "shell.execute_reply.started": "2024-01-04T22:50:31.472004Z"
    }
   },
   "outputs": [],
   "source": [
    "fixing_dates.append(qcf.QCDate(27, 12, 2021))\n",
    "fixing_dates.append(qcf.QCDate(28, 12, 2021))\n",
    "fixing_dates.append(qcf.QCDate(29, 12, 2021))\n",
    "fixing_dates.append(qcf.QCDate(30, 12, 2021))"
   ]
  },
  {
   "cell_type": "code",
   "execution_count": 317,
   "metadata": {
    "ExecuteTime": {
     "end_time": "2022-01-21T13:43:03.679251Z",
     "start_time": "2022-01-21T13:43:03.601459Z"
    },
    "execution": {
     "iopub.execute_input": "2024-01-04T22:50:32.255638Z",
     "iopub.status.busy": "2024-01-04T22:50:32.255276Z",
     "iopub.status.idle": "2024-01-04T22:50:32.261417Z",
     "shell.execute_reply": "2024-01-04T22:50:32.260550Z",
     "shell.execute_reply.started": "2024-01-04T22:50:32.255608Z"
    }
   },
   "outputs": [],
   "source": [
    "cor_cashflow_mccy_2 = qcf.CompoundedOvernightRateMultiCurrencyCashflow2(\n",
    "    oitest,\n",
    "    qcf.QCDate(27, 12, 2021),\n",
    "    qcf.QCDate(31, 12, 2021),\n",
    "    qcf.QCDate(31, 12, 2021),\n",
    "    fixing_dates,\n",
    "    10_000_000.0,\n",
    "    100_000.0,\n",
    "    True,\n",
    "    qcf.QCCLP(),\n",
    "    spread:=0.001,\n",
    "    1.0,\n",
    "    qcf.QCInterestRate(0.0, qcf.QCAct360(), qcf.QCLinearWf()),\n",
    "    8,\n",
    "    0,\n",
    "    0,\n",
    "    qcf.QCDate(31, 12, 2021),\n",
    "    qcf.QCUSD(),\n",
    "    usdclp_obs,\n",
    ")"
   ]
  },
  {
   "cell_type": "code",
   "execution_count": 318,
   "metadata": {
    "execution": {
     "iopub.execute_input": "2024-01-04T22:50:34.293517Z",
     "iopub.status.busy": "2024-01-04T22:50:34.293181Z",
     "iopub.status.idle": "2024-01-04T22:50:34.299067Z",
     "shell.execute_reply": "2024-01-04T22:50:34.298146Z",
     "shell.execute_reply.started": "2024-01-04T22:50:34.293488Z"
    }
   },
   "outputs": [
    {
     "data": {
      "text/plain": [
       "('2021-12-27',\n",
       " '2021-12-31',\n",
       " '2021-12-31',\n",
       " 10000000.0,\n",
       " 100000.0,\n",
       " 111.11111111183902,\n",
       " True,\n",
       " 100111.11111111184,\n",
       " 'CLP',\n",
       " 'OITEST',\n",
       " 'LinAct360',\n",
       " 0.001,\n",
       " 1.0,\n",
       " 0.0,\n",
       " 'USD',\n",
       " 'USDOBS',\n",
       " '2021-12-31',\n",
       " 1.0,\n",
       " 111.11111111183902,\n",
       " 100000.0,\n",
       " 100111.11111111184)"
      ]
     },
     "execution_count": 318,
     "metadata": {},
     "output_type": "execute_result"
    }
   ],
   "source": [
    "qcf.show(cor_cashflow_mccy_2)"
   ]
  },
  {
   "cell_type": "code",
   "execution_count": 319,
   "metadata": {
    "execution": {
     "iopub.execute_input": "2024-01-04T22:50:35.280813Z",
     "iopub.status.busy": "2024-01-04T22:50:35.280469Z",
     "iopub.status.idle": "2024-01-04T22:50:35.302214Z",
     "shell.execute_reply": "2024-01-04T22:50:35.301207Z",
     "shell.execute_reply.started": "2024-01-04T22:50:35.280784Z"
    }
   },
   "outputs": [
    {
     "data": {
      "text/html": [
       "<div>\n",
       "<style scoped>\n",
       "    .dataframe tbody tr th:only-of-type {\n",
       "        vertical-align: middle;\n",
       "    }\n",
       "\n",
       "    .dataframe tbody tr th {\n",
       "        vertical-align: top;\n",
       "    }\n",
       "\n",
       "    .dataframe thead th {\n",
       "        text-align: right;\n",
       "    }\n",
       "</style>\n",
       "<table border=\"1\" class=\"dataframe\">\n",
       "  <thead>\n",
       "    <tr style=\"text-align: right;\">\n",
       "      <th></th>\n",
       "      <th>fecha_inicial</th>\n",
       "      <th>fecha_final</th>\n",
       "      <th>fecha_pago</th>\n",
       "      <th>nominal</th>\n",
       "      <th>amortizacion</th>\n",
       "      <th>interes</th>\n",
       "      <th>amort_es_flujo</th>\n",
       "      <th>flujo</th>\n",
       "      <th>moneda</th>\n",
       "      <th>codigo_indice_tasa</th>\n",
       "      <th>...</th>\n",
       "      <th>spread</th>\n",
       "      <th>gearing</th>\n",
       "      <th>tipo_tasa</th>\n",
       "      <th>moneda_pago</th>\n",
       "      <th>fx_rate_index</th>\n",
       "      <th>fecha_fixing_fx</th>\n",
       "      <th>valor_indice_fx</th>\n",
       "      <th>interes_moneda_pago</th>\n",
       "      <th>amortizacion_moneda_pago</th>\n",
       "      <th>flujo_moneda_pago</th>\n",
       "    </tr>\n",
       "  </thead>\n",
       "  <tbody>\n",
       "    <tr>\n",
       "      <th>0</th>\n",
       "      <td>2021-12-27</td>\n",
       "      <td>2021-12-31</td>\n",
       "      <td>2021-12-31</td>\n",
       "      <td>10000000.0</td>\n",
       "      <td>100000.0</td>\n",
       "      <td>111.111111</td>\n",
       "      <td>True</td>\n",
       "      <td>100111.111111</td>\n",
       "      <td>CLP</td>\n",
       "      <td>OITEST</td>\n",
       "      <td>...</td>\n",
       "      <td>0.001</td>\n",
       "      <td>1.0</td>\n",
       "      <td>0.0</td>\n",
       "      <td>USD</td>\n",
       "      <td>USDOBS</td>\n",
       "      <td>2021-12-31</td>\n",
       "      <td>1.0</td>\n",
       "      <td>111.111111</td>\n",
       "      <td>100000.0</td>\n",
       "      <td>100111.111111</td>\n",
       "    </tr>\n",
       "  </tbody>\n",
       "</table>\n",
       "<p>1 rows × 21 columns</p>\n",
       "</div>"
      ],
      "text/plain": [
       "  fecha_inicial fecha_final  fecha_pago     nominal  amortizacion     interes  \\\n",
       "0    2021-12-27  2021-12-31  2021-12-31  10000000.0      100000.0  111.111111   \n",
       "\n",
       "   amort_es_flujo          flujo moneda codigo_indice_tasa  ... spread  \\\n",
       "0            True  100111.111111    CLP             OITEST  ...  0.001   \n",
       "\n",
       "   gearing  tipo_tasa  moneda_pago fx_rate_index fecha_fixing_fx  \\\n",
       "0      1.0        0.0          USD        USDOBS      2021-12-31   \n",
       "\n",
       "  valor_indice_fx  interes_moneda_pago  amortizacion_moneda_pago  \\\n",
       "0             1.0           111.111111                  100000.0   \n",
       "\n",
       "   flujo_moneda_pago  \n",
       "0      100111.111111  \n",
       "\n",
       "[1 rows x 21 columns]"
      ]
     },
     "execution_count": 319,
     "metadata": {},
     "output_type": "execute_result"
    }
   ],
   "source": [
    "pd.DataFrame([qcf.show(cor_cashflow_mccy_2)], columns=qcf.get_column_names(\"CompoundedOvernightRateMultiCurrencyCashflow2\", \"\"))"
   ]
  },
  {
   "cell_type": "code",
   "execution_count": 320,
   "metadata": {
    "execution": {
     "iopub.execute_input": "2024-01-04T22:50:37.207382Z",
     "iopub.status.busy": "2024-01-04T22:50:37.206761Z",
     "iopub.status.idle": "2024-01-04T22:50:37.210747Z",
     "shell.execute_reply": "2024-01-04T22:50:37.209957Z",
     "shell.execute_reply.started": "2024-01-04T22:50:37.207351Z"
    }
   },
   "outputs": [],
   "source": [
    "cor_cashflow_mccy_2.set_fx_rate_index_value(2.0)"
   ]
  },
  {
   "cell_type": "code",
   "execution_count": 321,
   "metadata": {
    "execution": {
     "iopub.execute_input": "2024-01-04T22:50:37.881856Z",
     "iopub.status.busy": "2024-01-04T22:50:37.881505Z",
     "iopub.status.idle": "2024-01-04T22:50:37.887372Z",
     "shell.execute_reply": "2024-01-04T22:50:37.886438Z",
     "shell.execute_reply.started": "2024-01-04T22:50:37.881826Z"
    }
   },
   "outputs": [
    {
     "data": {
      "text/plain": [
       "2889.158888887966"
      ]
     },
     "execution_count": 321,
     "metadata": {},
     "output_type": "execute_result"
    }
   ],
   "source": [
    "cor_cashflow_mccy_2.interest(ts)"
   ]
  },
  {
   "cell_type": "code",
   "execution_count": 322,
   "metadata": {
    "execution": {
     "iopub.execute_input": "2024-01-04T22:50:39.752837Z",
     "iopub.status.busy": "2024-01-04T22:50:39.752217Z",
     "iopub.status.idle": "2024-01-04T22:50:39.758453Z",
     "shell.execute_reply": "2024-01-04T22:50:39.757420Z",
     "shell.execute_reply.started": "2024-01-04T22:50:39.752807Z"
    }
   },
   "outputs": [
    {
     "data": {
      "text/plain": [
       "1444.579444443983"
      ]
     },
     "execution_count": 322,
     "metadata": {},
     "output_type": "execute_result"
    }
   ],
   "source": [
    "cor_cashflow_mccy_2.to_settlement_currency(cor_cashflow_mccy_2.interest(ts))"
   ]
  }
 ],
 "metadata": {
  "hide_input": false,
  "kernelspec": {
   "display_name": "Python 3 (ipykernel)",
   "language": "python",
   "name": "python3"
  },
  "language_info": {
   "codemirror_mode": {
    "name": "ipython",
    "version": 3
   },
   "file_extension": ".py",
   "mimetype": "text/x-python",
   "name": "python",
   "nbconvert_exporter": "python",
   "pygments_lexer": "ipython3",
   "version": "3.11.5"
  },
  "toc": {
   "base_numbering": 1,
   "nav_menu": {},
   "number_sections": true,
   "sideBar": true,
   "skip_h1_title": true,
   "title_cell": "Table of Contents",
   "title_sidebar": "Contenido",
   "toc_cell": false,
   "toc_position": {
    "height": "675.455px",
    "left": "284px",
    "top": "282.284px",
    "width": "235px"
   },
   "toc_section_display": true,
   "toc_window_display": true
  },
  "varInspector": {
   "cols": {
    "lenName": 16,
    "lenType": 16,
    "lenVar": 40
   },
   "kernels_config": {
    "python": {
     "delete_cmd_postfix": "",
     "delete_cmd_prefix": "del ",
     "library": "var_list.py",
     "varRefreshCmd": "print(var_dic_list())"
    },
    "r": {
     "delete_cmd_postfix": ") ",
     "delete_cmd_prefix": "rm(",
     "library": "var_list.r",
     "varRefreshCmd": "cat(var_dic_list()) "
    }
   },
   "types_to_exclude": [
    "module",
    "function",
    "builtin_function_or_method",
    "instance",
    "_Feature"
   ],
   "window_display": false
  }
 },
 "nbformat": 4,
 "nbformat_minor": 4
}
