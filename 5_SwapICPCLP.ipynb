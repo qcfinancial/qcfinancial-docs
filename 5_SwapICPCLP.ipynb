{
 "cells": [
  {
   "cell_type": "markdown",
   "metadata": {},
   "source": [
    "# Configurar un SwapICPCLP de Mercado"
   ]
  },
  {
   "cell_type": "markdown",
   "metadata": {
    "editable": true,
    "slideshow": {
     "slide_type": "subslide"
    },
    "tags": []
   },
   "source": [
    "Se muestra una forma posible de configurar una operación de Swap ICPCLP de mercado. Se definirán algunos parámetros por default y sólo será necesario especificar el nocional, el plazo, el valor de la tasa fija y si ésta se recibe o se paga para obtener la estructura completa.\n",
    "\n",
    "Para ejecutar todos los ejemplos se debe importar la librería. Se sugiere utilizar siempre el alias `qcf`. "
   ]
  },
  {
   "cell_type": "code",
   "metadata": {
    "editable": true,
    "execution": {
     "iopub.execute_input": "2024-06-16T19:27:17.604419Z",
     "iopub.status.busy": "2024-06-16T19:27:17.604093Z",
     "iopub.status.idle": "2024-06-16T19:27:18.156438Z",
     "shell.execute_reply": "2024-06-16T19:27:18.155732Z",
     "shell.execute_reply.started": "2024-06-16T19:27:17.604394Z"
    },
    "slideshow": {
     "slide_type": "fragment"
    },
    "tags": [],
    "ExecuteTime": {
     "end_time": "2025-08-25T15:09:04.535363Z",
     "start_time": "2025-08-25T15:09:04.532844Z"
    }
   },
   "source": [
    "import qcfinancial as qcf\n",
    "import aux_functions as aux"
   ],
   "outputs": [],
   "execution_count": 11
  },
  {
   "cell_type": "markdown",
   "metadata": {},
   "source": [
    "Se verifica la versión y build de `qcfinancial`."
   ]
  },
  {
   "cell_type": "markdown",
   "metadata": {},
   "source": [
    "## Parámetros por Default de la Operación"
   ]
  },
  {
   "cell_type": "markdown",
   "metadata": {},
   "source": [
    "Se comienza estableciendo una fecha de trade y dando de alta un `dict` con los parámetros por default comunes y los específicos de ambas patas."
   ]
  },
  {
   "cell_type": "code",
   "metadata": {
    "execution": {
     "iopub.execute_input": "2024-06-16T19:27:18.167828Z",
     "iopub.status.busy": "2024-06-16T19:27:18.167060Z",
     "iopub.status.idle": "2024-06-16T19:27:18.171839Z",
     "shell.execute_reply": "2024-06-16T19:27:18.170826Z",
     "shell.execute_reply.started": "2024-06-16T19:27:18.167788Z"
    },
    "ExecuteTime": {
     "end_time": "2025-08-25T15:09:04.545708Z",
     "start_time": "2025-08-25T15:09:04.543811Z"
    }
   },
   "source": [
    "trade_date = qcf.QCDate(14, 6, 2024)"
   ],
   "outputs": [],
   "execution_count": 12
  },
  {
   "cell_type": "code",
   "metadata": {
    "execution": {
     "iopub.execute_input": "2024-06-16T19:27:18.173411Z",
     "iopub.status.busy": "2024-06-16T19:27:18.172998Z",
     "iopub.status.idle": "2024-06-16T19:27:18.180364Z",
     "shell.execute_reply": "2024-06-16T19:27:18.179182Z",
     "shell.execute_reply.started": "2024-06-16T19:27:18.173378Z"
    },
    "ExecuteTime": {
     "end_time": "2025-08-25T15:09:04.554631Z",
     "start_time": "2025-08-25T15:09:04.552359Z"
    }
   },
   "source": [
    "both_default_values = {\n",
    "    \"bus_adj_rule\": qcf.BusyAdjRules.MODFOLLOW,\n",
    "    \"settlement_calendar\": qcf.BusinessCalendar(trade_date, 20),\n",
    "    \"settlement_stub_period\": qcf.StubPeriod.NO,\n",
    "    \"settlement_lag\": 1,\n",
    "    \"amort_is_cashflow\": False,\n",
    "    \"notional_currency\": qcf.QCCLP(),\n",
    "    \"sett_lag_behaviour\": qcf.SettLagBehaviour.DONT_MOVE\n",
    "}\n",
    "\n",
    "icpclp_default_values = {\n",
    "    \"fix_adj_rule\": qcf.BusyAdjRules.MODFOLLOW,\n",
    "    \"fixing_calendar\": qcf.BusinessCalendar(trade_date, 20),\n",
    "    \"dates_for_eq_rate\": qcf.DatesForEquivalentRate.ACCRUAL,\n",
    "    \"interest_rate\": qcf.QCInterestRate(.0, qcf.QCAct360(), qcf.QCLinearWf()),\n",
    "    \"eq_rate_decimal_places\": 4,\n",
    "}\n",
    "\n",
    "fixed_rate_default_values = {\n",
    "    \"is_bond\":False,  \n",
    "}"
   ],
   "outputs": [],
   "execution_count": 13
  },
  {
   "cell_type": "markdown",
   "metadata": {},
   "source": [
    "## Pata Fija"
   ]
  },
  {
   "cell_type": "markdown",
   "metadata": {},
   "source": [
    "Se da de alta los parámetros variables de la pata fija. Notar la utilización del parámetro auxiliar `maturity` que permite calcular la fecha final."
   ]
  },
  {
   "cell_type": "code",
   "metadata": {
    "execution": {
     "iopub.execute_input": "2024-06-16T19:27:18.182237Z",
     "iopub.status.busy": "2024-06-16T19:27:18.181763Z",
     "iopub.status.idle": "2024-06-16T19:27:18.186341Z",
     "shell.execute_reply": "2024-06-16T19:27:18.185597Z",
     "shell.execute_reply.started": "2024-06-16T19:27:18.182136Z"
    },
    "ExecuteTime": {
     "end_time": "2025-08-25T15:09:04.563849Z",
     "start_time": "2025-08-25T15:09:04.561732Z"
    }
   },
   "source": [
    "str_maturity = \"1Y\"\n",
    "maturity = qcf.Tenor(str_maturity)\n",
    "meses = maturity.get_months() + 12 * maturity.get_years()"
   ],
   "outputs": [],
   "execution_count": 14
  },
  {
   "cell_type": "markdown",
   "metadata": {},
   "source": [
    "Se da de alta el objeto."
   ]
  },
  {
   "cell_type": "code",
   "metadata": {
    "execution": {
     "iopub.execute_input": "2024-06-16T19:27:18.187735Z",
     "iopub.status.busy": "2024-06-16T19:27:18.187305Z",
     "iopub.status.idle": "2024-06-16T19:27:18.192833Z",
     "shell.execute_reply": "2024-06-16T19:27:18.192104Z",
     "shell.execute_reply.started": "2024-06-16T19:27:18.187714Z"
    },
    "ExecuteTime": {
     "end_time": "2025-08-25T15:09:04.572455Z",
     "start_time": "2025-08-25T15:09:04.570497Z"
    }
   },
   "source": [
    "fixed_rate_value = .03\n",
    "fixed_rate_leg_other_values = {\n",
    "    \"settlement_periodicity\": qcf.Tenor('2Y') if str_maturity in ['1M', '2M', '3M', '6M', '9M', '12M', '1Y', '18M'] else qcf.Tenor('6M'),\n",
    "    \"rec_pay\": qcf.RecPay.RECEIVE,\n",
    "    \"initial_notional\": 1_000_000_000.0,\n",
    "    \"start_date\": (start_date:=qcf.QCDate(18, 6, 2024)),\n",
    "    \"end_date\": start_date.add_months(meses),\n",
    "    \"interest_rate\": qcf.QCInterestRate(fixed_rate_value, qcf.QCAct360(), qcf.QCLinearWf()),  \n",
    "}"
   ],
   "outputs": [],
   "execution_count": 15
  },
  {
   "cell_type": "code",
   "metadata": {
    "execution": {
     "iopub.execute_input": "2024-06-16T19:27:18.195979Z",
     "iopub.status.busy": "2024-06-16T19:27:18.195763Z",
     "iopub.status.idle": "2024-06-16T19:27:18.199185Z",
     "shell.execute_reply": "2024-06-16T19:27:18.198507Z",
     "shell.execute_reply.started": "2024-06-16T19:27:18.195960Z"
    },
    "ExecuteTime": {
     "end_time": "2025-08-25T15:09:04.579594Z",
     "start_time": "2025-08-25T15:09:04.577954Z"
    }
   },
   "source": [
    "fixed_rate_leg = qcf.LegFactory.build_bullet_fixed_rate_leg(\n",
    "    **(both_default_values | fixed_rate_default_values | fixed_rate_leg_other_values)\n",
    ")"
   ],
   "outputs": [],
   "execution_count": 16
  },
  {
   "cell_type": "markdown",
   "metadata": {},
   "source": [
    "Se visualiza el resultado."
   ]
  },
  {
   "cell_type": "code",
   "metadata": {
    "execution": {
     "iopub.execute_input": "2024-06-16T19:27:18.200258Z",
     "iopub.status.busy": "2024-06-16T19:27:18.200037Z",
     "iopub.status.idle": "2024-06-16T19:27:18.281528Z",
     "shell.execute_reply": "2024-06-16T19:27:18.280921Z",
     "shell.execute_reply.started": "2024-06-16T19:27:18.200239Z"
    },
    "ExecuteTime": {
     "end_time": "2025-08-25T15:09:04.588639Z",
     "start_time": "2025-08-25T15:09:04.584338Z"
    }
   },
   "source": [
    "aux.leg_as_dataframe(fixed_rate_leg).style.format(aux.format_dict)"
   ],
   "outputs": [
    {
     "data": {
      "text/plain": [
       "<pandas.io.formats.style.Styler at 0x1094a2d50>"
      ],
      "text/html": [
       "<style type=\"text/css\">\n",
       "</style>\n",
       "<table id=\"T_d1d24\">\n",
       "  <thead>\n",
       "    <tr>\n",
       "      <th class=\"blank level0\" >&nbsp;</th>\n",
       "      <th id=\"T_d1d24_level0_col0\" class=\"col_heading level0 col0\" >fecha_inicial</th>\n",
       "      <th id=\"T_d1d24_level0_col1\" class=\"col_heading level0 col1\" >fecha_final</th>\n",
       "      <th id=\"T_d1d24_level0_col2\" class=\"col_heading level0 col2\" >fecha_pago</th>\n",
       "      <th id=\"T_d1d24_level0_col3\" class=\"col_heading level0 col3\" >nocional</th>\n",
       "      <th id=\"T_d1d24_level0_col4\" class=\"col_heading level0 col4\" >amortizacion</th>\n",
       "      <th id=\"T_d1d24_level0_col5\" class=\"col_heading level0 col5\" >interes</th>\n",
       "      <th id=\"T_d1d24_level0_col6\" class=\"col_heading level0 col6\" >amort_es_flujo</th>\n",
       "      <th id=\"T_d1d24_level0_col7\" class=\"col_heading level0 col7\" >flujo</th>\n",
       "      <th id=\"T_d1d24_level0_col8\" class=\"col_heading level0 col8\" >moneda_nocional</th>\n",
       "      <th id=\"T_d1d24_level0_col9\" class=\"col_heading level0 col9\" >valor_tasa</th>\n",
       "      <th id=\"T_d1d24_level0_col10\" class=\"col_heading level0 col10\" >tipo_tasa</th>\n",
       "    </tr>\n",
       "  </thead>\n",
       "  <tbody>\n",
       "    <tr>\n",
       "      <th id=\"T_d1d24_level0_row0\" class=\"row_heading level0 row0\" >0</th>\n",
       "      <td id=\"T_d1d24_row0_col0\" class=\"data row0 col0\" >2024-06-18</td>\n",
       "      <td id=\"T_d1d24_row0_col1\" class=\"data row0 col1\" >2025-06-18</td>\n",
       "      <td id=\"T_d1d24_row0_col2\" class=\"data row0 col2\" >2025-06-19</td>\n",
       "      <td id=\"T_d1d24_row0_col3\" class=\"data row0 col3\" >1,000,000,000.00</td>\n",
       "      <td id=\"T_d1d24_row0_col4\" class=\"data row0 col4\" >1,000,000,000.00</td>\n",
       "      <td id=\"T_d1d24_row0_col5\" class=\"data row0 col5\" >30,416,666.67</td>\n",
       "      <td id=\"T_d1d24_row0_col6\" class=\"data row0 col6\" >False</td>\n",
       "      <td id=\"T_d1d24_row0_col7\" class=\"data row0 col7\" >30,416,666.67</td>\n",
       "      <td id=\"T_d1d24_row0_col8\" class=\"data row0 col8\" >CLP</td>\n",
       "      <td id=\"T_d1d24_row0_col9\" class=\"data row0 col9\" >3.0000%</td>\n",
       "      <td id=\"T_d1d24_row0_col10\" class=\"data row0 col10\" >LinAct360</td>\n",
       "    </tr>\n",
       "  </tbody>\n",
       "</table>\n"
      ]
     },
     "execution_count": 17,
     "metadata": {},
     "output_type": "execute_result"
    }
   ],
   "execution_count": 17
  },
  {
   "cell_type": "markdown",
   "metadata": {},
   "source": [
    "## Pata OvernightIndex"
   ]
  },
  {
   "cell_type": "markdown",
   "metadata": {},
   "source": [
    "Se da de alta los parámetros variables de la pata OvernightIndex. Notar que se reutilizan algunos de los parámetros de la pata fija."
   ]
  },
  {
   "cell_type": "code",
   "metadata": {
    "execution": {
     "iopub.execute_input": "2024-06-16T19:27:18.282832Z",
     "iopub.status.busy": "2024-06-16T19:27:18.282444Z",
     "iopub.status.idle": "2024-06-16T19:27:18.286888Z",
     "shell.execute_reply": "2024-06-16T19:27:18.286278Z",
     "shell.execute_reply.started": "2024-06-16T19:27:18.282811Z"
    },
    "ExecuteTime": {
     "end_time": "2025-08-25T15:09:04.597685Z",
     "start_time": "2025-08-25T15:09:04.595657Z"
    }
   },
   "source": [
    "rp = qcf.RecPay.RECEIVE if fixed_rate_leg_other_values['rec_pay'] == qcf.RecPay.PAY else qcf.RecPay.RECEIVE\n",
    "\n",
    "icpclp_leg_other_values = {\n",
    "    \"rec_pay\": rp,\n",
    "    \"initial_notional\": fixed_rate_leg_other_values[\"initial_notional\"],\n",
    "    \"start_date\": fixed_rate_leg_other_values[\"start_date\"],\n",
    "    \"end_date\": fixed_rate_leg_other_values[\"end_date\"],\n",
    "    \"settlement_periodicity\": fixed_rate_leg_other_values[\"settlement_periodicity\"],\n",
    "    \"interest_rate\": qcf.QCInterestRate(0.0, qcf.QCAct360(), qcf.QCLinearWf()),\n",
    "    \"index_name\": \"ICPCLP\",\n",
    "    \"spread\": 0.0,\n",
    "    \"gearing\": 1.0,\n",
    "}"
   ],
   "outputs": [],
   "execution_count": 18
  },
  {
   "cell_type": "markdown",
   "metadata": {},
   "source": [
    "Finalmente, se da de alta el objeto."
   ]
  },
  {
   "cell_type": "code",
   "metadata": {
    "execution": {
     "iopub.execute_input": "2024-06-16T19:27:18.288233Z",
     "iopub.status.busy": "2024-06-16T19:27:18.287824Z",
     "iopub.status.idle": "2024-06-16T19:27:18.291307Z",
     "shell.execute_reply": "2024-06-16T19:27:18.290667Z",
     "shell.execute_reply.started": "2024-06-16T19:27:18.288213Z"
    },
    "ExecuteTime": {
     "end_time": "2025-08-25T15:09:04.605006Z",
     "start_time": "2025-08-25T15:09:04.603484Z"
    }
   },
   "source": [
    "on_index_leg = qcf.LegFactory.build_bullet_overnight_index_leg(\n",
    "    **(both_default_values | icpclp_default_values | icpclp_leg_other_values)\n",
    ")"
   ],
   "outputs": [],
   "execution_count": 19
  },
  {
   "cell_type": "markdown",
   "metadata": {},
   "source": [
    "Se visualiza."
   ]
  },
  {
   "cell_type": "code",
   "metadata": {
    "execution": {
     "iopub.execute_input": "2024-06-16T19:27:18.292257Z",
     "iopub.status.busy": "2024-06-16T19:27:18.292087Z",
     "iopub.status.idle": "2024-06-16T19:27:18.301895Z",
     "shell.execute_reply": "2024-06-16T19:27:18.301202Z",
     "shell.execute_reply.started": "2024-06-16T19:27:18.292240Z"
    },
    "ExecuteTime": {
     "end_time": "2025-08-25T15:09:04.616259Z",
     "start_time": "2025-08-25T15:09:04.611998Z"
    }
   },
   "source": [
    "aux.leg_as_dataframe(on_index_leg).style.format(aux.format_dict)"
   ],
   "outputs": [
    {
     "data": {
      "text/plain": [
       "<pandas.io.formats.style.Styler at 0x109b60190>"
      ],
      "text/html": [
       "<style type=\"text/css\">\n",
       "</style>\n",
       "<table id=\"T_73327\">\n",
       "  <thead>\n",
       "    <tr>\n",
       "      <th class=\"blank level0\" >&nbsp;</th>\n",
       "      <th id=\"T_73327_level0_col0\" class=\"col_heading level0 col0\" >fecha_inicial</th>\n",
       "      <th id=\"T_73327_level0_col1\" class=\"col_heading level0 col1\" >fecha_final</th>\n",
       "      <th id=\"T_73327_level0_col2\" class=\"col_heading level0 col2\" >fecha_inicial_indice</th>\n",
       "      <th id=\"T_73327_level0_col3\" class=\"col_heading level0 col3\" >fecha_final_indice</th>\n",
       "      <th id=\"T_73327_level0_col4\" class=\"col_heading level0 col4\" >fecha_pago</th>\n",
       "      <th id=\"T_73327_level0_col5\" class=\"col_heading level0 col5\" >nocional</th>\n",
       "      <th id=\"T_73327_level0_col6\" class=\"col_heading level0 col6\" >amortizacion</th>\n",
       "      <th id=\"T_73327_level0_col7\" class=\"col_heading level0 col7\" >amort_es_flujo</th>\n",
       "      <th id=\"T_73327_level0_col8\" class=\"col_heading level0 col8\" >moneda_nocional</th>\n",
       "      <th id=\"T_73327_level0_col9\" class=\"col_heading level0 col9\" >nombre_indice</th>\n",
       "      <th id=\"T_73327_level0_col10\" class=\"col_heading level0 col10\" >valor_indice_inicial</th>\n",
       "      <th id=\"T_73327_level0_col11\" class=\"col_heading level0 col11\" >valor_indice_final</th>\n",
       "      <th id=\"T_73327_level0_col12\" class=\"col_heading level0 col12\" >valor_tasa</th>\n",
       "      <th id=\"T_73327_level0_col13\" class=\"col_heading level0 col13\" >tipo_tasa</th>\n",
       "      <th id=\"T_73327_level0_col14\" class=\"col_heading level0 col14\" >interes</th>\n",
       "      <th id=\"T_73327_level0_col15\" class=\"col_heading level0 col15\" >flujo</th>\n",
       "      <th id=\"T_73327_level0_col16\" class=\"col_heading level0 col16\" >spread</th>\n",
       "      <th id=\"T_73327_level0_col17\" class=\"col_heading level0 col17\" >gearing</th>\n",
       "    </tr>\n",
       "  </thead>\n",
       "  <tbody>\n",
       "    <tr>\n",
       "      <th id=\"T_73327_level0_row0\" class=\"row_heading level0 row0\" >0</th>\n",
       "      <td id=\"T_73327_row0_col0\" class=\"data row0 col0\" >2024-06-18</td>\n",
       "      <td id=\"T_73327_row0_col1\" class=\"data row0 col1\" >2025-06-18</td>\n",
       "      <td id=\"T_73327_row0_col2\" class=\"data row0 col2\" >2024-06-18</td>\n",
       "      <td id=\"T_73327_row0_col3\" class=\"data row0 col3\" >2025-06-18</td>\n",
       "      <td id=\"T_73327_row0_col4\" class=\"data row0 col4\" >2025-06-19</td>\n",
       "      <td id=\"T_73327_row0_col5\" class=\"data row0 col5\" >1,000,000,000.00</td>\n",
       "      <td id=\"T_73327_row0_col6\" class=\"data row0 col6\" >1,000,000,000.00</td>\n",
       "      <td id=\"T_73327_row0_col7\" class=\"data row0 col7\" >False</td>\n",
       "      <td id=\"T_73327_row0_col8\" class=\"data row0 col8\" >CLP</td>\n",
       "      <td id=\"T_73327_row0_col9\" class=\"data row0 col9\" >ICPCLP</td>\n",
       "      <td id=\"T_73327_row0_col10\" class=\"data row0 col10\" >1.000000</td>\n",
       "      <td id=\"T_73327_row0_col11\" class=\"data row0 col11\" >1.000000</td>\n",
       "      <td id=\"T_73327_row0_col12\" class=\"data row0 col12\" >0.0000%</td>\n",
       "      <td id=\"T_73327_row0_col13\" class=\"data row0 col13\" >LinAct360</td>\n",
       "      <td id=\"T_73327_row0_col14\" class=\"data row0 col14\" >0.00</td>\n",
       "      <td id=\"T_73327_row0_col15\" class=\"data row0 col15\" >0.00</td>\n",
       "      <td id=\"T_73327_row0_col16\" class=\"data row0 col16\" >0.0000%</td>\n",
       "      <td id=\"T_73327_row0_col17\" class=\"data row0 col17\" >1.00</td>\n",
       "    </tr>\n",
       "  </tbody>\n",
       "</table>\n"
      ]
     },
     "execution_count": 20,
     "metadata": {},
     "output_type": "execute_result"
    }
   ],
   "execution_count": 20
  }
 ],
 "metadata": {
  "hide_input": false,
  "kernelspec": {
   "display_name": "Python 3 (ipykernel)",
   "language": "python",
   "name": "python3"
  },
  "language_info": {
   "codemirror_mode": {
    "name": "ipython",
    "version": 3
   },
   "file_extension": ".py",
   "mimetype": "text/x-python",
   "name": "python",
   "nbconvert_exporter": "python",
   "pygments_lexer": "ipython3",
   "version": "3.11.5"
  },
  "toc": {
   "base_numbering": 1,
   "nav_menu": {},
   "number_sections": true,
   "sideBar": true,
   "skip_h1_title": true,
   "title_cell": "Table of Contents",
   "title_sidebar": "Contents",
   "toc_cell": false,
   "toc_position": {},
   "toc_section_display": true,
   "toc_window_display": true
  },
  "varInspector": {
   "cols": {
    "lenName": 16,
    "lenType": 16,
    "lenVar": 40
   },
   "kernels_config": {
    "python": {
     "delete_cmd_postfix": "",
     "delete_cmd_prefix": "del ",
     "library": "var_list.py",
     "varRefreshCmd": "print(var_dic_list())"
    },
    "r": {
     "delete_cmd_postfix": ") ",
     "delete_cmd_prefix": "rm(",
     "library": "var_list.r",
     "varRefreshCmd": "cat(var_dic_list()) "
    }
   },
   "types_to_exclude": [
    "module",
    "function",
    "builtin_function_or_method",
    "instance",
    "_Feature"
   ],
   "window_display": false
  }
 },
 "nbformat": 4,
 "nbformat_minor": 4
}
