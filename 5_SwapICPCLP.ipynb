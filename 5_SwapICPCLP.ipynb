{
 "cells": [
  {
   "cell_type": "markdown",
   "metadata": {},
   "source": [
    "# Configurar un SwapICPCLP de Mercado"
   ]
  },
  {
   "cell_type": "markdown",
   "metadata": {
    "editable": true,
    "slideshow": {
     "slide_type": "subslide"
    },
    "tags": []
   },
   "source": [
    "Se muestra una forma posible de configurar una operación de Swap ICPCLP de mercado. Se definirán algunos parámetros por default y sólo será necesario especificar el nocional, el plazo, el valor de la tasa fija y si ésta se recibe o se paga para obtener la estructura completa.\n",
    "\n",
    "Para ejecutar todos los ejemplos se debe importar la librería. Se sugiere utilizar siempre el alias `qcf`. "
   ]
  },
  {
   "cell_type": "code",
   "metadata": {
    "editable": true,
    "execution": {
     "iopub.execute_input": "2024-06-16T19:27:17.604419Z",
     "iopub.status.busy": "2024-06-16T19:27:17.604093Z",
     "iopub.status.idle": "2024-06-16T19:27:18.156438Z",
     "shell.execute_reply": "2024-06-16T19:27:18.155732Z",
     "shell.execute_reply.started": "2024-06-16T19:27:17.604394Z"
    },
    "slideshow": {
     "slide_type": "fragment"
    },
    "tags": []
   },
   "source": [
    "import qcfinancial as qcf\n",
    "import aux_functions as aux"
   ],
   "outputs": [],
   "execution_count": null
  },
  {
   "cell_type": "markdown",
   "metadata": {},
   "source": [
    "Se verifica la versión y build de `qcfinancial`."
   ]
  },
  {
   "cell_type": "markdown",
   "metadata": {},
   "source": [
    "## Parámetros por Default de la Operación"
   ]
  },
  {
   "cell_type": "markdown",
   "metadata": {},
   "source": [
    "Se comienza estableciendo una fecha de trade y dando de alta un `dict` con los parámetros por default comunes y los específicos de ambas patas."
   ]
  },
  {
   "cell_type": "code",
   "metadata": {
    "execution": {
     "iopub.execute_input": "2024-06-16T19:27:18.167828Z",
     "iopub.status.busy": "2024-06-16T19:27:18.167060Z",
     "iopub.status.idle": "2024-06-16T19:27:18.171839Z",
     "shell.execute_reply": "2024-06-16T19:27:18.170826Z",
     "shell.execute_reply.started": "2024-06-16T19:27:18.167788Z"
    }
   },
   "source": [
    "trade_date = qcf.QCDate(14, 6, 2024)"
   ],
   "outputs": [],
   "execution_count": null
  },
  {
   "cell_type": "code",
   "metadata": {
    "execution": {
     "iopub.execute_input": "2024-06-16T19:27:18.173411Z",
     "iopub.status.busy": "2024-06-16T19:27:18.172998Z",
     "iopub.status.idle": "2024-06-16T19:27:18.180364Z",
     "shell.execute_reply": "2024-06-16T19:27:18.179182Z",
     "shell.execute_reply.started": "2024-06-16T19:27:18.173378Z"
    }
   },
   "source": [
    "both_default_values = {\n",
    "    \"bus_adj_rule\": qcf.BusyAdjRules.MODFOLLOW,\n",
    "    \"settlement_calendar\": qcf.BusinessCalendar(trade_date, 20),\n",
    "    \"settlement_stub_period\": qcf.StubPeriod.NO,\n",
    "    \"settlement_lag\": 1,\n",
    "    \"amort_is_cashflow\": False,\n",
    "    \"notional_currency\": qcf.QCCLP(),\n",
    "    \"sett_lag_behaviour\": qcf.SettLagBehaviour.DONT_MOVE\n",
    "}\n",
    "\n",
    "icpclp_default_values = {\n",
    "    \"fix_adj_rule\": qcf.BusyAdjRules.MODFOLLOW,\n",
    "    \"fixing_calendar\": qcf.BusinessCalendar(trade_date, 20),\n",
    "    \"dates_for_eq_rate\": qcf.DatesForEquivalentRate.ACCRUAL,\n",
    "    \"interest_rate\": qcf.QCInterestRate(.0, qcf.QCAct360(), qcf.QCLinearWf()),\n",
    "    \"eq_rate_decimal_places\": 4,\n",
    "}\n",
    "\n",
    "fixed_rate_default_values = {\n",
    "    \"is_bond\":False,  \n",
    "}"
   ],
   "outputs": [],
   "execution_count": null
  },
  {
   "cell_type": "markdown",
   "metadata": {},
   "source": [
    "## Pata Fija"
   ]
  },
  {
   "cell_type": "markdown",
   "metadata": {},
   "source": [
    "Se da de alta los parámetros variables de la pata fija. Notar la utilización del parámetro auxiliar `maturity` que permite calcular la fecha final."
   ]
  },
  {
   "cell_type": "code",
   "metadata": {
    "execution": {
     "iopub.execute_input": "2024-06-16T19:27:18.182237Z",
     "iopub.status.busy": "2024-06-16T19:27:18.181763Z",
     "iopub.status.idle": "2024-06-16T19:27:18.186341Z",
     "shell.execute_reply": "2024-06-16T19:27:18.185597Z",
     "shell.execute_reply.started": "2024-06-16T19:27:18.182136Z"
    }
   },
   "source": [
    "str_maturity = \"1Y\"\n",
    "maturity = qcf.Tenor(str_maturity)\n",
    "meses = maturity.get_months() + 12 * maturity.get_years()"
   ],
   "outputs": [],
   "execution_count": null
  },
  {
   "cell_type": "markdown",
   "metadata": {},
   "source": [
    "Se da de alta el objeto."
   ]
  },
  {
   "cell_type": "code",
   "metadata": {
    "execution": {
     "iopub.execute_input": "2024-06-16T19:27:18.187735Z",
     "iopub.status.busy": "2024-06-16T19:27:18.187305Z",
     "iopub.status.idle": "2024-06-16T19:27:18.192833Z",
     "shell.execute_reply": "2024-06-16T19:27:18.192104Z",
     "shell.execute_reply.started": "2024-06-16T19:27:18.187714Z"
    }
   },
   "source": [
    "fixed_rate_value = .03\n",
    "fixed_rate_leg_other_values = {\n",
    "    \"settlement_periodicity\": qcf.Tenor('2Y') if str_maturity in ['1M', '2M', '3M', '6M', '9M', '12M', '1Y', '18M'] else qcf.Tenor('6M'),\n",
    "    \"rec_pay\": qcf.RecPay.RECEIVE,\n",
    "    \"initial_notional\": 1_000_000_000.0,\n",
    "    \"start_date\": (start_date:=qcf.QCDate(18, 6, 2024)),\n",
    "    \"end_date\": start_date.add_months(meses),\n",
    "    \"interest_rate\": qcf.QCInterestRate(fixed_rate_value, qcf.QCAct360(), qcf.QCLinearWf()),  \n",
    "}"
   ],
   "outputs": [],
   "execution_count": null
  },
  {
   "cell_type": "code",
   "metadata": {
    "execution": {
     "iopub.execute_input": "2024-06-16T19:27:18.195979Z",
     "iopub.status.busy": "2024-06-16T19:27:18.195763Z",
     "iopub.status.idle": "2024-06-16T19:27:18.199185Z",
     "shell.execute_reply": "2024-06-16T19:27:18.198507Z",
     "shell.execute_reply.started": "2024-06-16T19:27:18.195960Z"
    }
   },
   "source": [
    "fixed_rate_leg = qcf.LegFactory.build_bullet_fixed_rate_leg(\n",
    "    **(both_default_values | fixed_rate_default_values | fixed_rate_leg_other_values)\n",
    ")"
   ],
   "outputs": [],
   "execution_count": null
  },
  {
   "cell_type": "markdown",
   "metadata": {},
   "source": [
    "Se visualiza el resultado."
   ]
  },
  {
   "cell_type": "code",
   "metadata": {
    "execution": {
     "iopub.execute_input": "2024-06-16T19:27:18.200258Z",
     "iopub.status.busy": "2024-06-16T19:27:18.200037Z",
     "iopub.status.idle": "2024-06-16T19:27:18.281528Z",
     "shell.execute_reply": "2024-06-16T19:27:18.280921Z",
     "shell.execute_reply.started": "2024-06-16T19:27:18.200239Z"
    }
   },
   "source": [
    "aux.leg_as_dataframe(fixed_rate_leg).style.format(aux.format_dict)"
   ],
   "outputs": [],
   "execution_count": null
  },
  {
   "cell_type": "markdown",
   "metadata": {},
   "source": [
    "## Pata OvernightIndex"
   ]
  },
  {
   "cell_type": "markdown",
   "metadata": {},
   "source": [
    "Se da de alta los parámetros variables de la pata OvernightIndex. Notar que se reutilizan algunos de los parámetros de la pata fija."
   ]
  },
  {
   "cell_type": "code",
   "metadata": {
    "execution": {
     "iopub.execute_input": "2024-06-16T19:27:18.282832Z",
     "iopub.status.busy": "2024-06-16T19:27:18.282444Z",
     "iopub.status.idle": "2024-06-16T19:27:18.286888Z",
     "shell.execute_reply": "2024-06-16T19:27:18.286278Z",
     "shell.execute_reply.started": "2024-06-16T19:27:18.282811Z"
    }
   },
   "source": [
    "rp = qcf.RecPay.RECEIVE if fixed_rate_leg_other_values['rec_pay'] == qcf.RecPay.PAY else qcf.RecPay.RECEIVE\n",
    "\n",
    "icpclp_leg_other_values = {\n",
    "    \"rec_pay\": rp,\n",
    "    \"initial_notional\": fixed_rate_leg_other_values[\"initial_notional\"],\n",
    "    \"start_date\": fixed_rate_leg_other_values[\"start_date\"],\n",
    "    \"end_date\": fixed_rate_leg_other_values[\"end_date\"],\n",
    "    \"settlement_periodicity\": fixed_rate_leg_other_values[\"settlement_periodicity\"],\n",
    "    \"interest_rate\": qcf.QCInterestRate(0.0, qcf.QCAct360(), qcf.QCLinearWf()),\n",
    "    \"index_name\": \"ICPCLP\",\n",
    "    \"spread\": 0.0,\n",
    "    \"gearing\": 1.0,\n",
    "}"
   ],
   "outputs": [],
   "execution_count": null
  },
  {
   "cell_type": "markdown",
   "metadata": {},
   "source": [
    "Finalmente, se da de alta el objeto."
   ]
  },
  {
   "cell_type": "code",
   "metadata": {
    "execution": {
     "iopub.execute_input": "2024-06-16T19:27:18.288233Z",
     "iopub.status.busy": "2024-06-16T19:27:18.287824Z",
     "iopub.status.idle": "2024-06-16T19:27:18.291307Z",
     "shell.execute_reply": "2024-06-16T19:27:18.290667Z",
     "shell.execute_reply.started": "2024-06-16T19:27:18.288213Z"
    }
   },
   "source": [
    "on_index_leg = qcf.LegFactory.build_bullet_overnight_index_leg(\n",
    "    **(both_default_values | icpclp_default_values | icpclp_leg_other_values)\n",
    ")"
   ],
   "outputs": [],
   "execution_count": null
  },
  {
   "cell_type": "markdown",
   "metadata": {},
   "source": [
    "Se visualiza."
   ]
  },
  {
   "cell_type": "code",
   "metadata": {
    "execution": {
     "iopub.execute_input": "2024-06-16T19:27:18.292257Z",
     "iopub.status.busy": "2024-06-16T19:27:18.292087Z",
     "iopub.status.idle": "2024-06-16T19:27:18.301895Z",
     "shell.execute_reply": "2024-06-16T19:27:18.301202Z",
     "shell.execute_reply.started": "2024-06-16T19:27:18.292240Z"
    }
   },
   "source": [
    "aux.leg_as_dataframe(on_index_leg).style.format(aux.format_dict)"
   ],
   "outputs": [],
   "execution_count": null
  }
 ],
 "metadata": {
  "hide_input": false,
  "kernelspec": {
   "display_name": "Python 3 (ipykernel)",
   "language": "python",
   "name": "python3"
  },
  "language_info": {
   "codemirror_mode": {
    "name": "ipython",
    "version": 3
   },
   "file_extension": ".py",
   "mimetype": "text/x-python",
   "name": "python",
   "nbconvert_exporter": "python",
   "pygments_lexer": "ipython3",
   "version": "3.11.5"
  },
  "toc": {
   "base_numbering": 1,
   "nav_menu": {},
   "number_sections": true,
   "sideBar": true,
   "skip_h1_title": true,
   "title_cell": "Table of Contents",
   "title_sidebar": "Contents",
   "toc_cell": false,
   "toc_position": {},
   "toc_section_display": true,
   "toc_window_display": true
  },
  "varInspector": {
   "cols": {
    "lenName": 16,
    "lenType": 16,
    "lenVar": 40
   },
   "kernels_config": {
    "python": {
     "delete_cmd_postfix": "",
     "delete_cmd_prefix": "del ",
     "library": "var_list.py",
     "varRefreshCmd": "print(var_dic_list())"
    },
    "r": {
     "delete_cmd_postfix": ") ",
     "delete_cmd_prefix": "rm(",
     "library": "var_list.r",
     "varRefreshCmd": "cat(var_dic_list()) "
    }
   },
   "types_to_exclude": [
    "module",
    "function",
    "builtin_function_or_method",
    "instance",
    "_Feature"
   ],
   "window_display": false
  }
 },
 "nbformat": 4,
 "nbformat_minor": 4
}
