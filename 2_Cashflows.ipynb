{
 "cells": [
  {
   "cell_type": "markdown",
   "metadata": {
    "editable": true,
    "slideshow": {
     "slide_type": "slide"
    },
    "tags": []
   },
   "source": [
    "# Cashflows"
   ]
  },
  {
   "cell_type": "markdown",
   "metadata": {
    "editable": true,
    "slideshow": {
     "slide_type": "slide"
    },
    "tags": []
   },
   "source": [
    "Para ejecutar todos los ejemplos se debe importar la librería. Se sugiere utilizar siempre el alias `qcf`. "
   ]
  },
  {
   "cell_type": "code",
   "metadata": {
    "editable": true,
    "execution": {
     "iopub.execute_input": "2024-07-22T23:53:32.436121Z",
     "iopub.status.busy": "2024-07-22T23:53:32.435763Z",
     "iopub.status.idle": "2024-07-22T23:53:32.787841Z",
     "shell.execute_reply": "2024-07-22T23:53:32.787190Z",
     "shell.execute_reply.started": "2024-07-22T23:53:32.436094Z"
    },
    "slideshow": {
     "slide_type": "fragment"
    },
    "tags": []
   },
   "source": [
    "import qcfinancial as qcf\n",
    "import aux_functions as aux\n",
    "import pandas as pd"
   ],
   "outputs": [],
   "execution_count": null
  },
  {
   "metadata": {},
   "cell_type": "code",
   "source": "qcf.id()",
   "outputs": [],
   "execution_count": null
  },
  {
   "cell_type": "markdown",
   "metadata": {
    "editable": true,
    "slideshow": {
     "slide_type": "slide"
    },
    "tags": []
   },
   "source": "## Simple Cashflow"
  },
  {
   "cell_type": "markdown",
   "metadata": {
    "editable": true,
    "slideshow": {
     "slide_type": "fragment"
    },
    "tags": []
   },
   "source": [
    "Un objeto de tipo `SimpleCashflow` representa un flujo de caja cierto en una fecha y moneda. Para instanciar un objeto de este tipo se requiere:\n",
    "\n",
    "- `QCDate`: fecha del flujo\n",
    "- `float`: monto del flujo\n",
    "- `QCCurrency`: moneda del flujo"
   ]
  },
  {
   "cell_type": "markdown",
   "metadata": {
    "editable": true,
    "slideshow": {
     "slide_type": "slide"
    },
    "tags": []
   },
   "source": [
    "Veamos un ejemplo. Primero se define los parámetros."
   ]
  },
  {
   "cell_type": "code",
   "metadata": {
    "editable": true,
    "execution": {
     "iopub.execute_input": "2024-07-22T23:53:32.789677Z",
     "iopub.status.busy": "2024-07-22T23:53:32.789279Z",
     "iopub.status.idle": "2024-07-22T23:53:32.793623Z",
     "shell.execute_reply": "2024-07-22T23:53:32.792458Z",
     "shell.execute_reply.started": "2024-07-22T23:53:32.789657Z"
    },
    "slideshow": {
     "slide_type": "fragment"
    },
    "tags": []
   },
   "source": [
    "fecha1 = qcf.QCDate(24, 8, 2024)\n",
    "monto = 1_000_000\n",
    "clp = qcf.QCCLP()"
   ],
   "outputs": [],
   "execution_count": null
  },
  {
   "cell_type": "markdown",
   "metadata": {
    "editable": true,
    "slideshow": {
     "slide_type": "slide"
    },
    "tags": []
   },
   "source": [
    "Luego, se instancia el objeto."
   ]
  },
  {
   "cell_type": "code",
   "metadata": {
    "editable": true,
    "execution": {
     "iopub.execute_input": "2024-07-22T23:53:32.795206Z",
     "iopub.status.busy": "2024-07-22T23:53:32.794674Z",
     "iopub.status.idle": "2024-07-22T23:53:32.798243Z",
     "shell.execute_reply": "2024-07-22T23:53:32.797608Z",
     "shell.execute_reply.started": "2024-07-22T23:53:32.795185Z"
    },
    "slideshow": {
     "slide_type": "fragment"
    },
    "tags": []
   },
   "source": [
    "simple_cashflow = qcf.SimpleCashflow(\n",
    "    fecha1, \n",
    "    monto, \n",
    "    clp,\n",
    ")"
   ],
   "outputs": [],
   "execution_count": null
  },
  {
   "cell_type": "markdown",
   "metadata": {
    "editable": true,
    "slideshow": {
     "slide_type": "slide"
    },
    "tags": []
   },
   "source": [
    "### Métodos `amount`, `ccy` y `date`"
   ]
  },
  {
   "cell_type": "markdown",
   "metadata": {
    "editable": true,
    "slideshow": {
     "slide_type": "fragment"
    },
    "tags": []
   },
   "source": [
    "Permiten obtener el monto, la moneda y la fecha del flujo."
   ]
  },
  {
   "cell_type": "code",
   "metadata": {
    "editable": true,
    "execution": {
     "iopub.execute_input": "2024-07-22T23:53:32.800766Z",
     "iopub.status.busy": "2024-07-22T23:53:32.800404Z",
     "iopub.status.idle": "2024-07-22T23:53:32.804170Z",
     "shell.execute_reply": "2024-07-22T23:53:32.803431Z",
     "shell.execute_reply.started": "2024-07-22T23:53:32.800744Z"
    },
    "slideshow": {
     "slide_type": "fragment"
    },
    "tags": []
   },
   "source": [
    "print(f\"Monto: {simple_cashflow.amount():,.0f}\")"
   ],
   "outputs": [],
   "execution_count": null
  },
  {
   "cell_type": "code",
   "metadata": {
    "execution": {
     "iopub.execute_input": "2024-07-22T23:53:32.805032Z",
     "iopub.status.busy": "2024-07-22T23:53:32.804861Z",
     "iopub.status.idle": "2024-07-22T23:53:32.808509Z",
     "shell.execute_reply": "2024-07-22T23:53:32.807817Z",
     "shell.execute_reply.started": "2024-07-22T23:53:32.805014Z"
    }
   },
   "source": [
    "print(f\"Moneda: {simple_cashflow.ccy()}\")"
   ],
   "outputs": [],
   "execution_count": null
  },
  {
   "cell_type": "code",
   "metadata": {
    "execution": {
     "iopub.execute_input": "2024-07-22T23:53:32.809796Z",
     "iopub.status.busy": "2024-07-22T23:53:32.809495Z",
     "iopub.status.idle": "2024-07-22T23:53:32.813123Z",
     "shell.execute_reply": "2024-07-22T23:53:32.812539Z",
     "shell.execute_reply.started": "2024-07-22T23:53:32.809768Z"
    }
   },
   "source": [
    "print(f\"Fecha: {simple_cashflow.date()}\")"
   ],
   "outputs": [],
   "execution_count": null
  },
  {
   "cell_type": "markdown",
   "metadata": {},
   "source": [
    "### Método `is_expired`"
   ]
  },
  {
   "cell_type": "markdown",
   "metadata": {},
   "source": [
    "Todos los cashflows tienen el método de conveniencia `is_expired` que sirve para indicar si un flujo ya ocurrió o está vencido."
   ]
  },
  {
   "cell_type": "code",
   "metadata": {
    "editable": true,
    "execution": {
     "iopub.execute_input": "2024-07-22T23:53:32.814085Z",
     "iopub.status.busy": "2024-07-22T23:53:32.813876Z",
     "iopub.status.idle": "2024-07-22T23:53:32.820418Z",
     "shell.execute_reply": "2024-07-22T23:53:32.819724Z",
     "shell.execute_reply.started": "2024-07-22T23:53:32.814066Z"
    },
    "slideshow": {
     "slide_type": "fragment"
    },
    "tags": []
   },
   "source": [
    "simple_cashflow.is_expired(qcf.QCDate(\"2024-09-01\"))"
   ],
   "outputs": [],
   "execution_count": null
  },
  {
   "cell_type": "markdown",
   "metadata": {},
   "source": [
    "Notar que **no** se considera vencido si la fecha de referencia es menor o igual a la fecha de vencimiento."
   ]
  },
  {
   "cell_type": "code",
   "metadata": {
    "execution": {
     "iopub.execute_input": "2024-07-22T23:53:32.821428Z",
     "iopub.status.busy": "2024-07-22T23:53:32.821242Z",
     "iopub.status.idle": "2024-07-22T23:53:32.825662Z",
     "shell.execute_reply": "2024-07-22T23:53:32.824905Z",
     "shell.execute_reply.started": "2024-07-22T23:53:32.821409Z"
    }
   },
   "source": [
    "simple_cashflow.is_expired(fecha1)"
   ],
   "outputs": [],
   "execution_count": null
  },
  {
   "cell_type": "code",
   "metadata": {
    "execution": {
     "iopub.execute_input": "2024-07-22T23:53:32.826849Z",
     "iopub.status.busy": "2024-07-22T23:53:32.826623Z",
     "iopub.status.idle": "2024-07-22T23:53:32.830754Z",
     "shell.execute_reply": "2024-07-22T23:53:32.830225Z",
     "shell.execute_reply.started": "2024-07-22T23:53:32.826830Z"
    }
   },
   "source": [
    "simple_cashflow.is_expired(qcf.QCDate(\"2024-01-01\"))"
   ],
   "outputs": [],
   "execution_count": null
  },
  {
   "cell_type": "markdown",
   "metadata": {
    "editable": true,
    "slideshow": {
     "slide_type": "slide"
    },
    "tags": []
   },
   "source": [
    "### Función `show`"
   ]
  },
  {
   "cell_type": "markdown",
   "metadata": {
    "editable": true,
    "slideshow": {
     "slide_type": "fragment"
    },
    "tags": []
   },
   "source": [
    "Esta función envuelve de forma cómoda todo el flujo en un objeto `tuple`. La función `show` está sobrecargada y admite todos los tipos de flujo de `qcfinancial`."
   ]
  },
  {
   "cell_type": "code",
   "metadata": {
    "editable": true,
    "execution": {
     "iopub.execute_input": "2024-07-22T23:53:32.834455Z",
     "iopub.status.busy": "2024-07-22T23:53:32.834225Z",
     "iopub.status.idle": "2024-07-22T23:53:32.838389Z",
     "shell.execute_reply": "2024-07-22T23:53:32.837637Z",
     "shell.execute_reply.started": "2024-07-22T23:53:32.834436Z"
    },
    "slideshow": {
     "slide_type": "fragment"
    },
    "tags": []
   },
   "source": [
    "qcf.show(simple_cashflow)"
   ],
   "outputs": [],
   "execution_count": null
  },
  {
   "cell_type": "markdown",
   "metadata": {
    "editable": true,
    "slideshow": {
     "slide_type": "slide"
    },
    "tags": []
   },
   "source": [
    "### Función `get_column_names`"
   ]
  },
  {
   "cell_type": "markdown",
   "metadata": {
    "editable": true,
    "slideshow": {
     "slide_type": "fragment"
    },
    "tags": []
   },
   "source": [
    "Para nombrar los elementos de la tupla anterior, se puede utilizar la función `get_column_names`."
   ]
  },
  {
   "cell_type": "code",
   "metadata": {
    "editable": true,
    "execution": {
     "iopub.execute_input": "2024-07-22T23:53:32.839786Z",
     "iopub.status.busy": "2024-07-22T23:53:32.839382Z",
     "iopub.status.idle": "2024-07-22T23:53:32.844195Z",
     "shell.execute_reply": "2024-07-22T23:53:32.843571Z",
     "shell.execute_reply.started": "2024-07-22T23:53:32.839766Z"
    },
    "slideshow": {
     "slide_type": "fragment"
    },
    "tags": []
   },
   "source": [
    "qcf.get_column_names('SimpleCashflow')"
   ],
   "outputs": [],
   "execution_count": null
  },
  {
   "cell_type": "markdown",
   "metadata": {
    "editable": true,
    "slideshow": {
     "slide_type": "slide"
    },
    "tags": []
   },
   "source": [
    "Con ella podemos, por ejemplo, estructurar aún más el output de `show` utilizando un `pandas.DataFrame`."
   ]
  },
  {
   "cell_type": "code",
   "metadata": {
    "editable": true,
    "execution": {
     "iopub.execute_input": "2024-07-22T23:53:32.845284Z",
     "iopub.status.busy": "2024-07-22T23:53:32.845046Z",
     "iopub.status.idle": "2024-07-22T23:53:32.901042Z",
     "shell.execute_reply": "2024-07-22T23:53:32.900523Z",
     "shell.execute_reply.started": "2024-07-22T23:53:32.845264Z"
    },
    "slideshow": {
     "slide_type": "fragment"
    },
    "tags": []
   },
   "source": [
    "df = pd.DataFrame([qcf.show(simple_cashflow)])\n",
    "df.columns = list(qcf.get_column_names('SimpleCashflow'))\n",
    "df.style.format({'monto':'{:,.0f}'})"
   ],
   "outputs": [],
   "execution_count": null
  },
  {
   "cell_type": "markdown",
   "metadata": {
    "editable": true,
    "slideshow": {
     "slide_type": "slide"
    },
    "tags": []
   },
   "source": [
    "## Simple Multicurrency Cashflow"
   ]
  },
  {
   "cell_type": "markdown",
   "metadata": {
    "editable": true,
    "slideshow": {
     "slide_type": "slide"
    },
    "tags": []
   },
   "source": [
    "Un objeto de tipo `SimpleMultiCurrencyCashflow` representa un flujo de caja cierto en una fecha y moneda, el cual, sin embargo, se liquidará en una segunda moneda utilizando el valor de un índice de tipo de cambio a una fecha futura. Para dar de alta uno de estos objetos se requiere:\n",
    "\n",
    "- `QCDate`: fecha final\n",
    "- `float`: monto nominal\n",
    "- `QCCurrency`: la moneda del monto nominal\n",
    "- `QCDate`: la fecha de publicación del `FXRateIndex` que se usará en la conversión\n",
    "- `QCCurrency`: la moneda final del flujo\n",
    "- `FXRateIndex`: el índice de tipo de cambio a utilizar\n",
    "- `float`: el valor del índice de tipo de cambio"
   ]
  },
  {
   "cell_type": "markdown",
   "metadata": {
    "editable": true,
    "slideshow": {
     "slide_type": "slide"
    },
    "tags": []
   },
   "source": [
    "### Ejemplo 1"
   ]
  },
  {
   "cell_type": "markdown",
   "metadata": {
    "editable": true,
    "slideshow": {
     "slide_type": "fragment"
    },
    "tags": []
   },
   "source": [
    "Se da de alta los objetos que el constructor del índice de tipo de cambio necesita."
   ]
  },
  {
   "cell_type": "code",
   "metadata": {
    "editable": true,
    "execution": {
     "iopub.execute_input": "2024-07-22T23:53:32.902863Z",
     "iopub.status.busy": "2024-07-22T23:53:32.902149Z",
     "iopub.status.idle": "2024-07-22T23:53:32.905981Z",
     "shell.execute_reply": "2024-07-22T23:53:32.905090Z",
     "shell.execute_reply.started": "2024-07-22T23:53:32.902845Z"
    },
    "slideshow": {
     "slide_type": "fragment"
    },
    "tags": []
   },
   "source": [
    "# moneda\n",
    "usd = qcf.QCUSD()\n",
    "\n",
    "# tipo de cambio\n",
    "usdclp = qcf.FXRate(usd, clp)\n",
    "\n",
    "# tenor\n",
    "_1d = qcf.Tenor('1D')"
   ],
   "outputs": [],
   "execution_count": null
  },
  {
   "cell_type": "markdown",
   "metadata": {
    "editable": true,
    "slideshow": {
     "slide_type": "slide"
    },
    "tags": []
   },
   "source": [
    "Aquí utilizamos `aux.get_business_calendar` para apoyarnos en la librería `holidays` y obtener el calendario de Santiago."
   ]
  },
  {
   "cell_type": "code",
   "metadata": {
    "editable": true,
    "execution": {
     "iopub.execute_input": "2024-07-22T23:53:32.907354Z",
     "iopub.status.busy": "2024-07-22T23:53:32.907071Z",
     "iopub.status.idle": "2024-07-22T23:53:32.984837Z",
     "shell.execute_reply": "2024-07-22T23:53:32.984191Z",
     "shell.execute_reply.started": "2024-07-22T23:53:32.907334Z"
    },
    "slideshow": {
     "slide_type": "fragment"
    },
    "tags": []
   },
   "source": [
    "# calendario Santiago\n",
    "scl = aux.get_business_calendar(\"CL\", range(2024, 2035))\n",
    "\n",
    "# dólar observado\n",
    "usdclp_obs = qcf.FXRateIndex(usdclp, \"USDOBS\", _1d, _1d, scl)\n",
    "\n",
    "# valor del índice\n",
    "fx_rate_value = 900.0"
   ],
   "outputs": [],
   "execution_count": null
  },
  {
   "cell_type": "markdown",
   "metadata": {
    "editable": true,
    "slideshow": {
     "slide_type": "slide"
    },
    "tags": []
   },
   "source": [
    "Se da de alta el cashflow."
   ]
  },
  {
   "cell_type": "code",
   "metadata": {
    "editable": true,
    "execution": {
     "iopub.execute_input": "2024-07-22T23:53:32.986110Z",
     "iopub.status.busy": "2024-07-22T23:53:32.985715Z",
     "iopub.status.idle": "2024-07-22T23:53:32.989068Z",
     "shell.execute_reply": "2024-07-22T23:53:32.988537Z",
     "shell.execute_reply.started": "2024-07-22T23:53:32.986092Z"
    },
    "slideshow": {
     "slide_type": "fragment"
    },
    "tags": []
   },
   "source": [
    "simple_mccy_cashflow = qcf.SimpleMultiCurrencyCashflow(\n",
    "    fecha1, \n",
    "    monto, \n",
    "    clp,  # nominal en CLP\n",
    "    fecha1, \n",
    "    usd,  # pago en USD\n",
    "    usdclp_obs, \n",
    "    fx_rate_value\n",
    ")"
   ],
   "outputs": [],
   "execution_count": null
  },
  {
   "cell_type": "markdown",
   "metadata": {
    "editable": true,
    "slideshow": {
     "slide_type": "slide"
    },
    "tags": []
   },
   "source": [
    "Este objeto hereda de `SimpleCashflow` y por lo tanto, los métodos `amount`, `date` y `ccy` siguen disponibles."
   ]
  },
  {
   "cell_type": "code",
   "metadata": {
    "editable": true,
    "execution": {
     "iopub.execute_input": "2024-07-22T23:53:32.990742Z",
     "iopub.status.busy": "2024-07-22T23:53:32.990235Z",
     "iopub.status.idle": "2024-07-22T23:53:32.995765Z",
     "shell.execute_reply": "2024-07-22T23:53:32.995134Z",
     "shell.execute_reply.started": "2024-07-22T23:53:32.990719Z"
    },
    "slideshow": {
     "slide_type": "fragment"
    },
    "tags": []
   },
   "source": [
    "print(f\"Monto: {simple_mccy_cashflow.amount():,.2f}\")\n",
    "print(f\"Fecha: {simple_mccy_cashflow.date()}\")\n",
    "print(f\"Moneda: {simple_mccy_cashflow.ccy()}\")"
   ],
   "outputs": [],
   "execution_count": null
  },
  {
   "cell_type": "markdown",
   "metadata": {
    "editable": true,
    "slideshow": {
     "slide_type": "slide"
    },
    "tags": []
   },
   "source": [
    "Para obtener el monto en la moneda de pago y la moneda de pago están los métodos `settlement_amount` y `settlement_ccy`."
   ]
  },
  {
   "cell_type": "code",
   "metadata": {
    "editable": true,
    "execution": {
     "iopub.execute_input": "2024-07-22T23:53:32.996543Z",
     "iopub.status.busy": "2024-07-22T23:53:32.996389Z",
     "iopub.status.idle": "2024-07-22T23:53:33.000842Z",
     "shell.execute_reply": "2024-07-22T23:53:33.000071Z",
     "shell.execute_reply.started": "2024-07-22T23:53:32.996527Z"
    },
    "slideshow": {
     "slide_type": "fragment"
    },
    "tags": []
   },
   "source": [
    "print(f\"Monto de pago: {simple_mccy_cashflow.settlement_amount():,.0f}\")"
   ],
   "outputs": [],
   "execution_count": null
  },
  {
   "cell_type": "code",
   "metadata": {
    "execution": {
     "iopub.execute_input": "2024-07-22T23:53:33.002099Z",
     "iopub.status.busy": "2024-07-22T23:53:33.001849Z",
     "iopub.status.idle": "2024-07-22T23:53:33.004997Z",
     "shell.execute_reply": "2024-07-22T23:53:33.004392Z",
     "shell.execute_reply.started": "2024-07-22T23:53:33.002080Z"
    }
   },
   "source": [
    "print(f\"Moneda de pago: {simple_mccy_cashflow.settlement_ccy()}\")"
   ],
   "outputs": [],
   "execution_count": null
  },
  {
   "cell_type": "markdown",
   "metadata": {
    "editable": true,
    "slideshow": {
     "slide_type": "slide"
    },
    "tags": []
   },
   "source": [
    "El valor del índice de tipo de cambio se puede alterar con el método `set_fx_rate_index_value`."
   ]
  },
  {
   "cell_type": "code",
   "metadata": {
    "editable": true,
    "execution": {
     "iopub.execute_input": "2024-07-22T23:53:33.006161Z",
     "iopub.status.busy": "2024-07-22T23:53:33.005938Z",
     "iopub.status.idle": "2024-07-22T23:53:33.009684Z",
     "shell.execute_reply": "2024-07-22T23:53:33.009035Z",
     "shell.execute_reply.started": "2024-07-22T23:53:33.006140Z"
    },
    "slideshow": {
     "slide_type": "fragment"
    },
    "tags": []
   },
   "source": [
    "simple_mccy_cashflow.set_fx_rate_index_value(800.00)\n",
    "print(f\"Flujo: {simple_mccy_cashflow.settlement_amount():,.2f} {simple_mccy_cashflow.settlement_ccy()}\")"
   ],
   "outputs": [],
   "execution_count": null
  },
  {
   "cell_type": "markdown",
   "metadata": {
    "editable": true,
    "slideshow": {
     "slide_type": "slide"
    },
    "tags": []
   },
   "source": [
    "### Ejemplo 2"
   ]
  },
  {
   "cell_type": "markdown",
   "metadata": {
    "editable": true,
    "slideshow": {
     "slide_type": "fragment"
    },
    "tags": []
   },
   "source": [
    "Aquí, las monedas están invertidas respecto al caso anterior. El valor del índice se usa de la forma correcta."
   ]
  },
  {
   "cell_type": "code",
   "metadata": {
    "editable": true,
    "execution": {
     "iopub.execute_input": "2024-07-22T23:53:33.010744Z",
     "iopub.status.busy": "2024-07-22T23:53:33.010529Z",
     "iopub.status.idle": "2024-07-22T23:53:33.013760Z",
     "shell.execute_reply": "2024-07-22T23:53:33.013279Z",
     "shell.execute_reply.started": "2024-07-22T23:53:33.010724Z"
    },
    "slideshow": {
     "slide_type": "fragment"
    },
    "tags": []
   },
   "source": [
    "simple_mccy_cashflow = qcf.SimpleMultiCurrencyCashflow(\n",
    "    fecha1, \n",
    "    1_000_000, \n",
    "    usd,  # nominal en USD\n",
    "    fecha1, \n",
    "    clp,  # pago en CLP\n",
    "    usdclp_obs, \n",
    "    fx_rate_value,\n",
    ")"
   ],
   "outputs": [],
   "execution_count": null
  },
  {
   "cell_type": "markdown",
   "metadata": {
    "editable": true,
    "slideshow": {
     "slide_type": "slide"
    },
    "tags": []
   },
   "source": [
    "Se repite los cálculos del ejemplo anterior."
   ]
  },
  {
   "cell_type": "code",
   "metadata": {
    "editable": true,
    "execution": {
     "iopub.execute_input": "2024-07-22T23:53:33.014796Z",
     "iopub.status.busy": "2024-07-22T23:53:33.014596Z",
     "iopub.status.idle": "2024-07-22T23:53:33.018477Z",
     "shell.execute_reply": "2024-07-22T23:53:33.017953Z",
     "shell.execute_reply.started": "2024-07-22T23:53:33.014778Z"
    },
    "slideshow": {
     "slide_type": "fragment"
    },
    "tags": []
   },
   "source": [
    "print(f\"Fecha: {simple_mccy_cashflow.date()}\")\n",
    "print(f\"Nominal: {simple_mccy_cashflow.nominal():,.2f}\")\n",
    "print(f\"Moneda nominal: {simple_mccy_cashflow.ccy().get_iso_code()}\")\n",
    "print(f\"Flujo: {simple_mccy_cashflow.settlement_amount():,.0f}\")\n",
    "print(f\"Moneda flujo: {simple_mccy_cashflow.settlement_ccy().get_iso_code()}\")"
   ],
   "outputs": [],
   "execution_count": null
  },
  {
   "cell_type": "markdown",
   "metadata": {
    "editable": true,
    "slideshow": {
     "slide_type": "slide"
    },
    "tags": []
   },
   "source": [
    "### Ejemplo 3"
   ]
  },
  {
   "cell_type": "markdown",
   "metadata": {
    "editable": true,
    "slideshow": {
     "slide_type": "fragment"
    },
    "tags": []
   },
   "source": [
    "En este caso, hay inconsistencia entre las monedas y el tipo de cambio del índice y vemos que se produce un error."
   ]
  },
  {
   "cell_type": "code",
   "metadata": {
    "editable": true,
    "execution": {
     "iopub.execute_input": "2024-07-22T23:53:33.019668Z",
     "iopub.status.busy": "2024-07-22T23:53:33.019428Z",
     "iopub.status.idle": "2024-07-22T23:53:33.023851Z",
     "shell.execute_reply": "2024-07-22T23:53:33.023169Z",
     "shell.execute_reply.started": "2024-07-22T23:53:33.019647Z"
    },
    "slideshow": {
     "slide_type": "fragment"
    },
    "tags": []
   },
   "source": [
    "eur = qcf.QCEUR()\n",
    "try:\n",
    "    simple_mccy_cashflow = qcf.SimpleMultiCurrencyCashflow(\n",
    "        fecha1,\n",
    "        1_000_000,\n",
    "        usd,         # nominal en USD\n",
    "        fecha1,\n",
    "        eur,         # pago en EUR\n",
    "        usdclp_obs,  # ¡usamos el dólar observado!\n",
    "        fx_rate_value,\n",
    "    )\n",
    "except ValueError as e:\n",
    "    print(\"Error:\", e)"
   ],
   "outputs": [],
   "execution_count": null
  },
  {
   "cell_type": "markdown",
   "metadata": {
    "editable": true,
    "slideshow": {
     "slide_type": "slide"
    },
    "tags": []
   },
   "source": [
    "### Funciones `show` y `get_columns`"
   ]
  },
  {
   "cell_type": "code",
   "metadata": {
    "editable": true,
    "execution": {
     "iopub.execute_input": "2024-07-22T23:53:33.025290Z",
     "iopub.status.busy": "2024-07-22T23:53:33.024912Z",
     "iopub.status.idle": "2024-07-22T23:53:33.029171Z",
     "shell.execute_reply": "2024-07-22T23:53:33.028644Z",
     "shell.execute_reply.started": "2024-07-22T23:53:33.025244Z"
    },
    "slideshow": {
     "slide_type": "fragment"
    },
    "tags": []
   },
   "source": [
    "qcf.show(simple_mccy_cashflow)"
   ],
   "outputs": [],
   "execution_count": null
  },
  {
   "cell_type": "code",
   "metadata": {
    "editable": true,
    "execution": {
     "iopub.execute_input": "2024-07-22T23:53:33.030378Z",
     "iopub.status.busy": "2024-07-22T23:53:33.030140Z",
     "iopub.status.idle": "2024-07-22T23:53:33.034221Z",
     "shell.execute_reply": "2024-07-22T23:53:33.033714Z",
     "shell.execute_reply.started": "2024-07-22T23:53:33.030360Z"
    },
    "slideshow": {
     "slide_type": "fragment"
    },
    "tags": []
   },
   "source": [
    "qcf.get_column_names('SimpleMultiCurrencyCashflow')"
   ],
   "outputs": [],
   "execution_count": null
  },
  {
   "cell_type": "markdown",
   "metadata": {
    "editable": true,
    "slideshow": {
     "slide_type": "slide"
    },
    "tags": []
   },
   "source": [
    "Nuevamente, usando estas funciones podemos visualizar el flujo utilizando un `pandas.DataFrame`."
   ]
  },
  {
   "cell_type": "code",
   "metadata": {
    "editable": true,
    "execution": {
     "iopub.execute_input": "2024-07-22T23:53:33.035285Z",
     "iopub.status.busy": "2024-07-22T23:53:33.035115Z",
     "iopub.status.idle": "2024-07-22T23:53:33.043037Z",
     "shell.execute_reply": "2024-07-22T23:53:33.042262Z",
     "shell.execute_reply.started": "2024-07-22T23:53:33.035267Z"
    },
    "slideshow": {
     "slide_type": "fragment"
    },
    "tags": []
   },
   "source": [
    "df = pd.DataFrame([qcf.show(simple_mccy_cashflow)])\n",
    "df.columns = list(qcf.get_column_names('SimpleMultiCurrencyCashflow'))\n",
    "df.style.format({\n",
    "    'monto_nominal':'{:,.0f}',\n",
    "    'monto_moneda_pago':'{:,.0f}',\n",
    "    'valor_indice_fx':'{:,.2f}'\n",
    "})"
   ],
   "outputs": [],
   "execution_count": null
  },
  {
   "cell_type": "markdown",
   "metadata": {
    "editable": true,
    "slideshow": {
     "slide_type": "slide"
    },
    "tags": []
   },
   "source": [
    "## Fixed Rate Cashflow"
   ]
  },
  {
   "cell_type": "markdown",
   "metadata": {
    "editable": true,
    "slideshow": {
     "slide_type": "fragment"
    },
    "tags": []
   },
   "source": [
    "Un objeto de tipo `FixedRateCashflow` representa un flujo de caja calculado a partir de la aplicación de una tasa prefijada, entre dos fechas prefijadas a un nominal prefijado. Para dar de alta uno de estos objetos se requiere:\n",
    "\n",
    "- `QCDate`: fecha inicio (para la aplicación de la tasa)\n",
    "- `QCDate`: fecha final (para la aplicación de la tasa)\n",
    "- `QCDate`: fecha de pago\n",
    "- `float`: nominal (monto al que se le aplica la tasa)\n",
    "- `float`: amortización (eventual flujo de caja que corresponde a una porción del nominal)\n",
    "- `bool`: indica si la amortización anterior es un flujo de caja o sólo una disminución de nominal\n",
    "- `QCInterestRate`: la tasa de interés a aplicar (su valor y convenciones)\n",
    "- `QCCurrency`: moneda del nominal y del flujo de caja"
   ]
  },
  {
   "cell_type": "markdown",
   "metadata": {
    "editable": true,
    "slideshow": {
     "slide_type": "slide"
    },
    "tags": []
   },
   "source": [
    "### Construcción"
   ]
  },
  {
   "cell_type": "markdown",
   "metadata": {
    "editable": true,
    "slideshow": {
     "slide_type": "fragment"
    },
    "tags": []
   },
   "source": [
    "Se define los parámetros requeridos."
   ]
  },
  {
   "cell_type": "code",
   "metadata": {
    "editable": true,
    "execution": {
     "iopub.execute_input": "2024-07-22T23:53:33.044157Z",
     "iopub.status.busy": "2024-07-22T23:53:33.043913Z",
     "iopub.status.idle": "2024-07-22T23:53:33.047268Z",
     "shell.execute_reply": "2024-07-22T23:53:33.046752Z",
     "shell.execute_reply.started": "2024-07-22T23:53:33.044139Z"
    },
    "slideshow": {
     "slide_type": "fragment"
    },
    "tags": []
   },
   "source": [
    "fecha_inicio = qcf.QCDate(20, 5, 2024)\n",
    "fecha_final = qcf.QCDate(20, 5, 2025)\n",
    "fecha_pago = qcf.QCDate(22, 5, 2025)\n",
    "nominal = 1_000_000_000.0\n",
    "amortizacion = 100_000_000.0\n",
    "amort_is_cashflow = False"
   ],
   "outputs": [],
   "execution_count": null
  },
  {
   "cell_type": "markdown",
   "metadata": {},
   "source": [
    "Se define la yearFraction, wealthFunction el valor de la tasa y finalmente la tasa de interés."
   ]
  },
  {
   "cell_type": "code",
   "metadata": {
    "execution": {
     "iopub.execute_input": "2024-07-22T23:53:33.048300Z",
     "iopub.status.busy": "2024-07-22T23:53:33.048127Z",
     "iopub.status.idle": "2024-07-22T23:53:33.051475Z",
     "shell.execute_reply": "2024-07-22T23:53:33.050994Z",
     "shell.execute_reply.started": "2024-07-22T23:53:33.048282Z"
    }
   },
   "source": [
    "act360 = qcf.QCAct360()\n",
    "lin_wf = qcf.QCLinearWf()\n",
    "valor_tasa_fija = .1\n",
    "tasa = qcf.QCInterestRate(valor_tasa_fija, act360, lin_wf)"
   ],
   "outputs": [],
   "execution_count": null
  },
  {
   "cell_type": "markdown",
   "metadata": {
    "editable": true,
    "slideshow": {
     "slide_type": "slide"
    },
    "tags": []
   },
   "source": [
    "Se instancia el cashflow."
   ]
  },
  {
   "cell_type": "code",
   "metadata": {
    "editable": true,
    "execution": {
     "iopub.execute_input": "2024-07-22T23:53:33.060326Z",
     "iopub.status.busy": "2024-07-22T23:53:33.060059Z",
     "iopub.status.idle": "2024-07-22T23:53:33.063623Z",
     "shell.execute_reply": "2024-07-22T23:53:33.062947Z",
     "shell.execute_reply.started": "2024-07-22T23:53:33.060303Z"
    },
    "slideshow": {
     "slide_type": "fragment"
    },
    "tags": []
   },
   "source": [
    "fixed_rate_cashflow = qcf.FixedRateCashflow(\n",
    "    fecha_inicio, \n",
    "    fecha_final, \n",
    "    fecha_pago, \n",
    "    nominal, \n",
    "    amortizacion, \n",
    "    amort_is_cashflow, \n",
    "    tasa, \n",
    "    clp,\n",
    ")"
   ],
   "outputs": [],
   "execution_count": null
  },
  {
   "cell_type": "markdown",
   "metadata": {
    "editable": true,
    "slideshow": {
     "slide_type": "slide"
    },
    "tags": []
   },
   "source": [
    "### Getters"
   ]
  },
  {
   "cell_type": "code",
   "metadata": {
    "editable": true,
    "execution": {
     "iopub.execute_input": "2024-07-22T23:53:33.064713Z",
     "iopub.status.busy": "2024-07-22T23:53:33.064475Z",
     "iopub.status.idle": "2024-07-22T23:53:33.068791Z",
     "shell.execute_reply": "2024-07-22T23:53:33.068249Z",
     "shell.execute_reply.started": "2024-07-22T23:53:33.064695Z"
    },
    "slideshow": {
     "slide_type": "fragment"
    },
    "tags": []
   },
   "source": [
    "print(f\"Tipo de flujo: {fixed_rate_cashflow.get_type()}\")\n",
    "print(f\"Fecha Inicio: {fixed_rate_cashflow.get_start_date()}\")\n",
    "print(f\"Fecha Final: {fixed_rate_cashflow.get_end_date()}\")\n",
    "print(f\"Fecha Pago: {fixed_rate_cashflow.get_settlement_date()}\")\n",
    "print(f\"Moneda: {fixed_rate_cashflow.ccy()}\") # __str__ devuelve el ISO Code de la moneda\n",
    "print(f\"Nominal: {fixed_rate_cashflow.get_nominal():,.0f}\")\n",
    "print(f\"Amortización: {fixed_rate_cashflow.get_amortization():,.0f}\")\n",
    "print(f\"Tasa de interés: {fixed_rate_cashflow.get_rate()}\")"
   ],
   "outputs": [],
   "execution_count": null
  },
  {
   "cell_type": "markdown",
   "metadata": {
    "editable": true,
    "slideshow": {
     "slide_type": "fragment"
    },
    "tags": []
   },
   "source": [
    "Para obtener el valor de la tasa fija, se usa además un getter de `QCInterestRate`."
   ]
  },
  {
   "cell_type": "code",
   "metadata": {
    "editable": true,
    "execution": {
     "iopub.execute_input": "2024-07-22T23:53:33.069820Z",
     "iopub.status.busy": "2024-07-22T23:53:33.069651Z",
     "iopub.status.idle": "2024-07-22T23:53:33.073247Z",
     "shell.execute_reply": "2024-07-22T23:53:33.072507Z",
     "shell.execute_reply.started": "2024-07-22T23:53:33.069802Z"
    },
    "slideshow": {
     "slide_type": "fragment"
    },
    "tags": []
   },
   "source": [
    "print(f\"Tasa de interés: {fixed_rate_cashflow.get_rate().get_value():.2%}\")"
   ],
   "outputs": [],
   "execution_count": null
  },
  {
   "cell_type": "markdown",
   "metadata": {
    "editable": true,
    "slideshow": {
     "slide_type": "slide"
    },
    "tags": []
   },
   "source": [
    "### Setters"
   ]
  },
  {
   "cell_type": "markdown",
   "metadata": {
    "editable": true,
    "slideshow": {
     "slide_type": "fragment"
    },
    "tags": []
   },
   "source": [
    "Cambiar el nominal."
   ]
  },
  {
   "cell_type": "code",
   "metadata": {
    "editable": true,
    "execution": {
     "iopub.execute_input": "2024-07-22T23:53:33.074409Z",
     "iopub.status.busy": "2024-07-22T23:53:33.074184Z",
     "iopub.status.idle": "2024-07-22T23:53:33.077870Z",
     "shell.execute_reply": "2024-07-22T23:53:33.077295Z",
     "shell.execute_reply.started": "2024-07-22T23:53:33.074389Z"
    },
    "slideshow": {
     "slide_type": "fragment"
    },
    "tags": []
   },
   "source": [
    "nuevo_nominal = 2_000_000_000.0\n",
    "fixed_rate_cashflow.set_nominal(nuevo_nominal)\n",
    "print(f\"Nuevo nominal: {fixed_rate_cashflow.get_nominal():,.0f}\")"
   ],
   "outputs": [],
   "execution_count": null
  },
  {
   "cell_type": "markdown",
   "metadata": {
    "editable": true,
    "slideshow": {
     "slide_type": "fragment"
    },
    "tags": []
   },
   "source": [
    "Cambiar la amortización."
   ]
  },
  {
   "cell_type": "code",
   "metadata": {
    "editable": true,
    "execution": {
     "iopub.execute_input": "2024-07-22T23:53:33.079123Z",
     "iopub.status.busy": "2024-07-22T23:53:33.078817Z",
     "iopub.status.idle": "2024-07-22T23:53:33.082171Z",
     "shell.execute_reply": "2024-07-22T23:53:33.081641Z",
     "shell.execute_reply.started": "2024-07-22T23:53:33.079104Z"
    },
    "slideshow": {
     "slide_type": "fragment"
    },
    "tags": []
   },
   "source": [
    "nueva_amortizacion = 200_000_000.0\n",
    "fixed_rate_cashflow.set_amortization(nueva_amortizacion)\n",
    "print(f\"Nueva amortización: {fixed_rate_cashflow.get_amortization():,.0f}\")"
   ],
   "outputs": [],
   "execution_count": null
  },
  {
   "cell_type": "markdown",
   "metadata": {
    "editable": true,
    "slideshow": {
     "slide_type": "slide"
    },
    "tags": []
   },
   "source": [
    "Cambiar el valor de la tasa."
   ]
  },
  {
   "cell_type": "code",
   "metadata": {
    "editable": true,
    "execution": {
     "iopub.execute_input": "2024-07-22T23:53:33.083204Z",
     "iopub.status.busy": "2024-07-22T23:53:33.083032Z",
     "iopub.status.idle": "2024-07-22T23:53:33.086497Z",
     "shell.execute_reply": "2024-07-22T23:53:33.085907Z",
     "shell.execute_reply.started": "2024-07-22T23:53:33.083186Z"
    },
    "slideshow": {
     "slide_type": "fragment"
    },
    "tags": []
   },
   "source": [
    "fixed_rate_cashflow.set_rate_value(new_rate_value:=.12)\n",
    "print(f\"Nuevo valor de la tasa: {fixed_rate_cashflow.get_rate().get_value():.2%}\")"
   ],
   "outputs": [],
   "execution_count": null
  },
  {
   "cell_type": "markdown",
   "metadata": {
    "editable": true,
    "slideshow": {
     "slide_type": "slide"
    },
    "tags": []
   },
   "source": [
    "### Cálculos"
   ]
  },
  {
   "cell_type": "markdown",
   "metadata": {
    "editable": true,
    "slideshow": {
     "slide_type": "fragment"
    },
    "tags": []
   },
   "source": [
    "Se devuelve el valor de la tasa fija al original."
   ]
  },
  {
   "cell_type": "code",
   "metadata": {
    "editable": true,
    "execution": {
     "iopub.execute_input": "2024-07-22T23:53:33.087605Z",
     "iopub.status.busy": "2024-07-22T23:53:33.087361Z",
     "iopub.status.idle": "2024-07-22T23:53:33.090647Z",
     "shell.execute_reply": "2024-07-22T23:53:33.089916Z",
     "shell.execute_reply.started": "2024-07-22T23:53:33.087586Z"
    },
    "slideshow": {
     "slide_type": "fragment"
    },
    "tags": []
   },
   "source": [
    "fixed_rate_cashflow.set_rate_value(valor_tasa_fija)"
   ],
   "outputs": [],
   "execution_count": null
  },
  {
   "cell_type": "markdown",
   "metadata": {
    "editable": true,
    "slideshow": {
     "slide_type": "slide"
    },
    "tags": []
   },
   "source": [
    "Método `amount`."
   ]
  },
  {
   "cell_type": "code",
   "metadata": {
    "editable": true,
    "execution": {
     "iopub.execute_input": "2024-07-22T23:53:33.091725Z",
     "iopub.status.busy": "2024-07-22T23:53:33.091478Z",
     "iopub.status.idle": "2024-07-22T23:53:33.095211Z",
     "shell.execute_reply": "2024-07-22T23:53:33.094564Z",
     "shell.execute_reply.started": "2024-07-22T23:53:33.091705Z"
    },
    "slideshow": {
     "slide_type": "fragment"
    },
    "tags": []
   },
   "source": [
    "print(f\"Flujo Total: {fixed_rate_cashflow.amount():,.0f}\")"
   ],
   "outputs": [],
   "execution_count": null
  },
  {
   "cell_type": "markdown",
   "metadata": {
    "editable": true,
    "slideshow": {
     "slide_type": "fragment"
    },
    "tags": []
   },
   "source": [
    "Vemos que el flujo incluye los intereses, pero no la amortización (`amort_is_cashflow = False`). Podemos verificar a mano este resultado."
   ]
  },
  {
   "cell_type": "code",
   "metadata": {
    "editable": true,
    "execution": {
     "iopub.execute_input": "2024-07-22T23:53:33.096260Z",
     "iopub.status.busy": "2024-07-22T23:53:33.096041Z",
     "iopub.status.idle": "2024-07-22T23:53:33.099866Z",
     "shell.execute_reply": "2024-07-22T23:53:33.099200Z",
     "shell.execute_reply.started": "2024-07-22T23:53:33.096241Z"
    },
    "slideshow": {
     "slide_type": "fragment"
    },
    "tags": []
   },
   "source": [
    "dias_devengo = fecha_inicio.day_diff(fecha_final)\n",
    "print(f\"Días de devengo: {dias_devengo}\")\n",
    "print(f\"Check: {fixed_rate_cashflow.get_nominal() * valor_tasa_fija * dias_devengo / 360:,.0f}\")"
   ],
   "outputs": [],
   "execution_count": null
  },
  {
   "cell_type": "markdown",
   "metadata": {
    "editable": true,
    "slideshow": {
     "slide_type": "slide"
    },
    "tags": []
   },
   "source": [
    "Método `accrued_interest`. Calcula el interés devengado a una cierta fecha."
   ]
  },
  {
   "cell_type": "code",
   "metadata": {
    "editable": true,
    "execution": {
     "iopub.execute_input": "2024-07-22T23:53:33.100893Z",
     "iopub.status.busy": "2024-07-22T23:53:33.100687Z",
     "iopub.status.idle": "2024-07-22T23:53:33.104564Z",
     "shell.execute_reply": "2024-07-22T23:53:33.104059Z",
     "shell.execute_reply.started": "2024-07-22T23:53:33.100874Z"
    },
    "slideshow": {
     "slide_type": "fragment"
    },
    "tags": []
   },
   "source": [
    "fecha_intermedia = qcf.QCDate(15, 1, 2025)\n",
    "print(f\"Interés Devengado: {fixed_rate_cashflow.accrued_interest(fecha_intermedia):,.0f}\")\n",
    "dias_devengo = fecha_inicio.day_diff(fecha_intermedia)\n",
    "print(f\"Días de devengo: {dias_devengo}\")\n",
    "print(f\"Check: {fixed_rate_cashflow.get_nominal() * valor_tasa_fija * dias_devengo / 360.0:,.0f}\")"
   ],
   "outputs": [],
   "execution_count": null
  },
  {
   "cell_type": "markdown",
   "metadata": {
    "editable": true,
    "slideshow": {
     "slide_type": "fragment"
    },
    "tags": []
   },
   "source": [
    "Con este método, utilizando la fecha final del flujo se puede obtener el interés total."
   ]
  },
  {
   "cell_type": "code",
   "metadata": {
    "editable": true,
    "execution": {
     "iopub.execute_input": "2024-07-22T23:53:33.105871Z",
     "iopub.status.busy": "2024-07-22T23:53:33.105575Z",
     "iopub.status.idle": "2024-07-22T23:53:33.109406Z",
     "shell.execute_reply": "2024-07-22T23:53:33.108805Z",
     "shell.execute_reply.started": "2024-07-22T23:53:33.105849Z"
    },
    "slideshow": {
     "slide_type": "fragment"
    },
    "tags": []
   },
   "source": [
    "print(f\"Interés total: al {fixed_rate_cashflow.accrued_interest(fixed_rate_cashflow.get_end_date()):,.0f}\")"
   ],
   "outputs": [],
   "execution_count": null
  },
  {
   "cell_type": "markdown",
   "metadata": {
    "editable": true,
    "slideshow": {
     "slide_type": "slide"
    },
    "tags": []
   },
   "source": [
    "### Función `show`"
   ]
  },
  {
   "cell_type": "code",
   "metadata": {
    "editable": true,
    "execution": {
     "iopub.execute_input": "2024-07-22T23:53:33.110535Z",
     "iopub.status.busy": "2024-07-22T23:53:33.110263Z",
     "iopub.status.idle": "2024-07-22T23:53:33.113701Z",
     "shell.execute_reply": "2024-07-22T23:53:33.113080Z",
     "shell.execute_reply.started": "2024-07-22T23:53:33.110517Z"
    },
    "slideshow": {
     "slide_type": "fragment"
    },
    "tags": []
   },
   "source": [
    "print(qcf.show(fixed_rate_cashflow))"
   ],
   "outputs": [],
   "execution_count": null
  },
  {
   "cell_type": "markdown",
   "metadata": {
    "editable": true,
    "execution": {
     "iopub.execute_input": "2024-05-26T12:29:34.116825Z",
     "iopub.status.busy": "2024-05-26T12:29:34.116598Z",
     "iopub.status.idle": "2024-05-26T12:29:34.120346Z",
     "shell.execute_reply": "2024-05-26T12:29:34.119854Z",
     "shell.execute_reply.started": "2024-05-26T12:29:34.116806Z"
    },
    "slideshow": {
     "slide_type": "slide"
    },
    "tags": []
   },
   "source": [
    "### Función `get_column_names`"
   ]
  },
  {
   "cell_type": "code",
   "metadata": {
    "editable": true,
    "execution": {
     "iopub.execute_input": "2024-07-22T23:53:33.114766Z",
     "iopub.status.busy": "2024-07-22T23:53:33.114562Z",
     "iopub.status.idle": "2024-07-22T23:53:33.118695Z",
     "shell.execute_reply": "2024-07-22T23:53:33.118025Z",
     "shell.execute_reply.started": "2024-07-22T23:53:33.114748Z"
    },
    "slideshow": {
     "slide_type": "fragment"
    },
    "tags": []
   },
   "source": [
    "qcf.get_column_names(fixed_rate_cashflow.get_type())"
   ],
   "outputs": [],
   "execution_count": null
  },
  {
   "cell_type": "markdown",
   "metadata": {
    "editable": true,
    "slideshow": {
     "slide_type": "slide"
    },
    "tags": []
   },
   "source": [
    "Nuevamente, juntando las últimas dos funciones se obtiene una representación tabular del flujo usando `pandas.DataFrame`."
   ]
  },
  {
   "cell_type": "code",
   "metadata": {
    "editable": true,
    "execution": {
     "iopub.execute_input": "2024-07-22T23:53:33.119689Z",
     "iopub.status.busy": "2024-07-22T23:53:33.119481Z",
     "iopub.status.idle": "2024-07-22T23:53:33.127851Z",
     "shell.execute_reply": "2024-07-22T23:53:33.127145Z",
     "shell.execute_reply.started": "2024-07-22T23:53:33.119671Z"
    },
    "slideshow": {
     "slide_type": "fragment"
    },
    "tags": []
   },
   "source": [
    "df = pd.DataFrame(\n",
    "    [qcf.show(fixed_rate_cashflow)], \n",
    "    columns=qcf.get_column_names(fixed_rate_cashflow.get_type())\n",
    ")\n",
    "df.style.format({\n",
    "    'nominal':'{:,.0f}', \n",
    "    'amortizacion':'{:,.0f}', \n",
    "    'interes':'{:,.0f}', \n",
    "    'flujo':'{:,.0f}',\n",
    "    'valor_tasa':'{:.2%}'\n",
    "})"
   ],
   "outputs": [],
   "execution_count": null
  },
  {
   "cell_type": "markdown",
   "metadata": {
    "editable": true,
    "slideshow": {
     "slide_type": "slide"
    },
    "tags": []
   },
   "source": [
    "## Fixed Rate Multi Currency Cashflow"
   ]
  },
  {
   "cell_type": "markdown",
   "metadata": {
    "editable": true,
    "slideshow": {
     "slide_type": "slide"
    },
    "tags": []
   },
   "source": [
    "Un objeto de tipo `FixedRateMultiCurrencyCashflow` representa un flujo de caja a tasa fija (`FixedRateCashflow`) que se liquidará en una moneda distinta de la moneda del nominal utilizando el valor a una cierta fecha de un índice de tipo de cambio prefijado. Para dar de alta uno de estos objetos se requiere:\n",
    "\n",
    "- `QCDate`: fecha inicio (para la aplicación de la tasa)\n",
    "- `QCDate`: fecha final (para la aplicación de la tasa)\n",
    "- `QCDate`: fecha de pago\n",
    "- `float`: nominal (monto al que se le aplica la tasa)\n",
    "- `float`: amortización (eventual flujo de caja que corresponde a una porción del nominal)\n",
    "- `bool`: indica si la amortización anterior es un flujo de caja o sólo una disminución de nominal\n",
    "- `QCInterestRate`: la tasa de interés a aplicar (su valor y convenciones)\n",
    "- `QCCurrency`: moneda del nominal\n",
    "- `QCDate`: fecha de fijación del índice de tipo de cambio\n",
    "- `QCCurrency`: moneda en la que se liquida el flujo\n",
    "- `FXRateIndex`: índice de tipo de cambio a utilizar\n",
    "- `float`: valor del índice de tipo de cambio"
   ]
  },
  {
   "cell_type": "markdown",
   "metadata": {
    "editable": true,
    "slideshow": {
     "slide_type": "slide"
    },
    "tags": []
   },
   "source": [
    "### Construcción"
   ]
  },
  {
   "cell_type": "markdown",
   "metadata": {
    "editable": true,
    "slideshow": {
     "slide_type": "fragment"
    },
    "tags": []
   },
   "source": [
    "Cuando coinciden, se usan los mismos parámetros que en el ejemplo anterior y agregamos los nuevos parámetros requeridos."
   ]
  },
  {
   "cell_type": "code",
   "metadata": {
    "editable": true,
    "execution": {
     "iopub.execute_input": "2024-07-22T23:53:33.129352Z",
     "iopub.status.busy": "2024-07-22T23:53:33.128872Z",
     "iopub.status.idle": "2024-07-22T23:53:33.132480Z",
     "shell.execute_reply": "2024-07-22T23:53:33.131901Z",
     "shell.execute_reply.started": "2024-07-22T23:53:33.129331Z"
    },
    "slideshow": {
     "slide_type": "fragment"
    },
    "tags": []
   },
   "source": [
    "fecha_fijacion = fecha_final\n",
    "usd = qcf.QCUSD()\n",
    "indice = usdclp_obs\n",
    "valor_indice = 900.0\n",
    "nominal = 1_000_000.0\n",
    "amort = 100_000.0\n",
    "amort_is_cashflow = True"
   ],
   "outputs": [],
   "execution_count": null
  },
  {
   "cell_type": "markdown",
   "metadata": {
    "editable": true,
    "slideshow": {
     "slide_type": "slide"
    },
    "tags": []
   },
   "source": [
    "Se instancia el objeto."
   ]
  },
  {
   "cell_type": "code",
   "metadata": {
    "editable": true,
    "execution": {
     "iopub.execute_input": "2024-07-22T23:53:33.133415Z",
     "iopub.status.busy": "2024-07-22T23:53:33.133241Z",
     "iopub.status.idle": "2024-07-22T23:53:33.136723Z",
     "shell.execute_reply": "2024-07-22T23:53:33.136194Z",
     "shell.execute_reply.started": "2024-07-22T23:53:33.133397Z"
    },
    "slideshow": {
     "slide_type": "fragment"
    },
    "tags": []
   },
   "source": [
    "fixed_rate_mccy_cashflow = qcf.FixedRateMultiCurrencyCashflow(\n",
    "    fecha_inicio,\n",
    "    fecha_final,\n",
    "    fecha_pago,\n",
    "    nominal,\n",
    "    amort,\n",
    "    amort_is_cashflow,\n",
    "    tasa,\n",
    "    usd,\n",
    "    fecha_fijacion,\n",
    "    clp,\n",
    "    indice,\n",
    "    valor_indice,\n",
    ")"
   ],
   "outputs": [],
   "execution_count": null
  },
  {
   "cell_type": "markdown",
   "metadata": {
    "editable": true,
    "slideshow": {
     "slide_type": "slide"
    },
    "tags": []
   },
   "source": [
    "### Getters"
   ]
  },
  {
   "cell_type": "markdown",
   "metadata": {
    "editable": true,
    "slideshow": {
     "slide_type": "fragment"
    },
    "tags": []
   },
   "source": [
    "La clase `FixedRateMultiCurrencyCashflow` es una subclase de `FixedRateCashflow` y por lo tanto, hereda todos sus métodos y variables."
   ]
  },
  {
   "cell_type": "code",
   "metadata": {
    "editable": true,
    "execution": {
     "iopub.execute_input": "2024-07-22T23:53:33.137753Z",
     "iopub.status.busy": "2024-07-22T23:53:33.137581Z",
     "iopub.status.idle": "2024-07-22T23:53:33.142483Z",
     "shell.execute_reply": "2024-07-22T23:53:33.141878Z",
     "shell.execute_reply.started": "2024-07-22T23:53:33.137735Z"
    },
    "slideshow": {
     "slide_type": "fragment"
    },
    "tags": []
   },
   "source": [
    "print(f\"Tipo de flujo: {fixed_rate_mccy_cashflow.get_type()}\")\n",
    "print(f\"Fecha Inicio: {fixed_rate_mccy_cashflow.get_start_date()}\")\n",
    "print(f\"Fecha Final: {fixed_rate_mccy_cashflow.get_end_date()}\")\n",
    "print(f\"Fecha Pago: {fixed_rate_mccy_cashflow.get_settlement_date()}\")\n",
    "print(f\"Fecha Fijación Índice FX: {fixed_rate_mccy_cashflow.get_fx_fixing_date()}\")\n",
    "print(f\"Moneda del Nominal: {fixed_rate_mccy_cashflow.ccy()}\")\n",
    "print(f\"Nominal: {fixed_rate_mccy_cashflow.get_nominal():,.0f}\")\n",
    "print(f\"Amortización: {fixed_rate_mccy_cashflow.get_amortization():,.0f}\")\n",
    "print(f\"Moneda de Liquidación: {fixed_rate_mccy_cashflow.settlement_currency()}\")\n",
    "\n",
    "# Aquí se usa un getter de QCInterestRate\n",
    "print(f\"Tasa de interés: {fixed_rate_mccy_cashflow.get_rate().get_value():.2%}\")"
   ],
   "outputs": [],
   "execution_count": null
  },
  {
   "cell_type": "markdown",
   "metadata": {
    "editable": true,
    "slideshow": {
     "slide_type": "slide"
    },
    "tags": []
   },
   "source": [
    "### Setters"
   ]
  },
  {
   "cell_type": "markdown",
   "metadata": {
    "editable": true,
    "slideshow": {
     "slide_type": "fragment"
    },
    "tags": []
   },
   "source": [
    "Nuevo nominal."
   ]
  },
  {
   "cell_type": "code",
   "metadata": {
    "editable": true,
    "execution": {
     "iopub.execute_input": "2024-07-22T23:53:33.143550Z",
     "iopub.status.busy": "2024-07-22T23:53:33.143378Z",
     "iopub.status.idle": "2024-07-22T23:53:33.146874Z",
     "shell.execute_reply": "2024-07-22T23:53:33.146242Z",
     "shell.execute_reply.started": "2024-07-22T23:53:33.143532Z"
    },
    "slideshow": {
     "slide_type": "fragment"
    },
    "tags": []
   },
   "source": [
    "nuevo_nominal = 100.0\n",
    "fixed_rate_mccy_cashflow.set_nominal(nuevo_nominal)\n",
    "print(f\"Nuevo nominal: {fixed_rate_mccy_cashflow.get_nominal():,.1f}\")"
   ],
   "outputs": [],
   "execution_count": null
  },
  {
   "cell_type": "markdown",
   "metadata": {
    "editable": true,
    "slideshow": {
     "slide_type": "fragment"
    },
    "tags": []
   },
   "source": [
    "Nueva amortización."
   ]
  },
  {
   "cell_type": "code",
   "metadata": {
    "editable": true,
    "execution": {
     "iopub.execute_input": "2024-07-22T23:53:33.147927Z",
     "iopub.status.busy": "2024-07-22T23:53:33.147699Z",
     "iopub.status.idle": "2024-07-22T23:53:33.151032Z",
     "shell.execute_reply": "2024-07-22T23:53:33.150516Z",
     "shell.execute_reply.started": "2024-07-22T23:53:33.147910Z"
    },
    "slideshow": {
     "slide_type": "fragment"
    },
    "tags": []
   },
   "source": [
    "nueva_amortizacion = 10.0\n",
    "fixed_rate_mccy_cashflow.set_amortization(nueva_amortizacion)\n",
    "print(f\"Nueva amortización: {fixed_rate_mccy_cashflow.get_amortization():,.1f}\")"
   ],
   "outputs": [],
   "execution_count": null
  },
  {
   "cell_type": "markdown",
   "metadata": {
    "editable": true,
    "slideshow": {
     "slide_type": "slide"
    },
    "tags": []
   },
   "source": [
    "Cambiar el valor de la tasa."
   ]
  },
  {
   "cell_type": "code",
   "metadata": {
    "editable": true,
    "execution": {
     "iopub.execute_input": "2024-07-22T23:53:33.152164Z",
     "iopub.status.busy": "2024-07-22T23:53:33.151920Z",
     "iopub.status.idle": "2024-07-22T23:53:33.155183Z",
     "shell.execute_reply": "2024-07-22T23:53:33.154697Z",
     "shell.execute_reply.started": "2024-07-22T23:53:33.152146Z"
    },
    "slideshow": {
     "slide_type": "fragment"
    },
    "tags": []
   },
   "source": [
    "fixed_rate_mccy_cashflow.set_rate_value(new_rate_value)\n",
    "print(f\"Nuevo valor de la tasa: {fixed_rate_mccy_cashflow.get_rate().get_value():.2%}\")"
   ],
   "outputs": [],
   "execution_count": null
  },
  {
   "cell_type": "markdown",
   "metadata": {
    "editable": true,
    "slideshow": {
     "slide_type": "slide"
    },
    "tags": []
   },
   "source": [
    "### Cálculos"
   ]
  },
  {
   "cell_type": "markdown",
   "metadata": {
    "editable": true,
    "slideshow": {
     "slide_type": "fragment"
    },
    "tags": []
   },
   "source": [
    "Se vuelve al nominal, amortización y valor de la tasa iniciales."
   ]
  },
  {
   "cell_type": "code",
   "metadata": {
    "editable": true,
    "execution": {
     "iopub.execute_input": "2024-07-22T23:53:33.156240Z",
     "iopub.status.busy": "2024-07-22T23:53:33.156062Z",
     "iopub.status.idle": "2024-07-22T23:53:33.159225Z",
     "shell.execute_reply": "2024-07-22T23:53:33.158712Z",
     "shell.execute_reply.started": "2024-07-22T23:53:33.156222Z"
    },
    "slideshow": {
     "slide_type": "fragment"
    },
    "tags": []
   },
   "source": [
    "fixed_rate_mccy_cashflow.set_nominal(nominal)\n",
    "fixed_rate_mccy_cashflow.set_amortization(amort)\n",
    "fixed_rate_mccy_cashflow.set_rate_value(valor_tasa_fija)"
   ],
   "outputs": [],
   "execution_count": null
  },
  {
   "cell_type": "markdown",
   "metadata": {
    "editable": true,
    "slideshow": {
     "slide_type": "slide"
    },
    "tags": []
   },
   "source": [
    "Método `amount`. En este caso sí se incluye la amortización (`amort_is_cashflow = True`)."
   ]
  },
  {
   "cell_type": "code",
   "metadata": {
    "editable": true,
    "execution": {
     "iopub.execute_input": "2024-07-22T23:53:33.160307Z",
     "iopub.status.busy": "2024-07-22T23:53:33.160102Z",
     "iopub.status.idle": "2024-07-22T23:53:33.163939Z",
     "shell.execute_reply": "2024-07-22T23:53:33.163304Z",
     "shell.execute_reply.started": "2024-07-22T23:53:33.160289Z"
    },
    "slideshow": {
     "slide_type": "fragment"
    },
    "tags": []
   },
   "source": [
    "print(f\"Flujo Total: {fixed_rate_mccy_cashflow.amount():,.2f}\")\n",
    "dias_devengo = fecha_inicio.day_diff(fecha_final)\n",
    "print(\n",
    "    f\"Check: {fixed_rate_mccy_cashflow.get_nominal() * valor_tasa_fija * dias_devengo / 360 + fixed_rate_mccy_cashflow.get_amortization():,.2f}\"\n",
    ")"
   ],
   "outputs": [],
   "execution_count": null
  },
  {
   "cell_type": "markdown",
   "metadata": {
    "editable": true,
    "slideshow": {
     "slide_type": "slide"
    },
    "tags": []
   },
   "source": [
    "Método `accrued_interest`."
   ]
  },
  {
   "cell_type": "code",
   "metadata": {
    "editable": true,
    "execution": {
     "iopub.execute_input": "2024-07-22T23:53:33.164847Z",
     "iopub.status.busy": "2024-07-22T23:53:33.164675Z",
     "iopub.status.idle": "2024-07-22T23:53:33.168361Z",
     "shell.execute_reply": "2024-07-22T23:53:33.167817Z",
     "shell.execute_reply.started": "2024-07-22T23:53:33.164830Z"
    },
    "slideshow": {
     "slide_type": "fragment"
    },
    "tags": []
   },
   "source": [
    "fecha_intermedia = qcf.QCDate(15, 1, 2025)\n",
    "print(f\"Interés Devengado: {(interes_devengado:=fixed_rate_mccy_cashflow.accrued_interest(fecha_intermedia)):,.02f}\")\n",
    "print(f\"Check: {fixed_rate_mccy_cashflow.get_nominal() * valor_tasa_fija * fecha_inicio.day_diff(fecha_intermedia) / 360.0:,.02f}\")"
   ],
   "outputs": [],
   "execution_count": null
  },
  {
   "cell_type": "markdown",
   "metadata": {
    "editable": true,
    "slideshow": {
     "slide_type": "slide"
    },
    "tags": []
   },
   "source": [
    "Método `accrued_interest_in_sett_currency`. Retorna el interés devengado en moneda de pago. Para esto requiere de un objeto de tipo `time_series` que contenga el valor del índice a la fecha de devengo solicitada."
   ]
  },
  {
   "cell_type": "code",
   "metadata": {
    "editable": true,
    "execution": {
     "iopub.execute_input": "2024-07-22T23:53:33.169613Z",
     "iopub.status.busy": "2024-07-22T23:53:33.169375Z",
     "iopub.status.idle": "2024-07-22T23:53:33.172375Z",
     "shell.execute_reply": "2024-07-22T23:53:33.171876Z",
     "shell.execute_reply.started": "2024-07-22T23:53:33.169595Z"
    },
    "slideshow": {
     "slide_type": "fragment"
    },
    "tags": []
   },
   "source": [
    "ts = qcf.time_series()\n",
    "ts[fecha_inicio] = 900\n",
    "ts[fecha_intermedia] = 950"
   ],
   "outputs": [],
   "execution_count": null
  },
  {
   "cell_type": "code",
   "metadata": {
    "editable": true,
    "execution": {
     "iopub.execute_input": "2024-07-22T23:53:33.173404Z",
     "iopub.status.busy": "2024-07-22T23:53:33.173236Z",
     "iopub.status.idle": "2024-07-22T23:53:33.178057Z",
     "shell.execute_reply": "2024-07-22T23:53:33.177493Z",
     "shell.execute_reply.started": "2024-07-22T23:53:33.173387Z"
    },
    "slideshow": {
     "slide_type": "fragment"
    },
    "tags": []
   },
   "source": [
    "print(f\"Interés devengado en moneda de pago: {fixed_rate_mccy_cashflow.accrued_interest_in_sett_ccy(fecha_intermedia, ts):,.2f}\")\n",
    "print(f\"Check: {interes_devengado * ts[fecha_intermedia]:,.2f}\")"
   ],
   "outputs": [],
   "execution_count": null
  },
  {
   "cell_type": "markdown",
   "metadata": {
    "editable": true,
    "slideshow": {
     "slide_type": "slide"
    },
    "tags": []
   },
   "source": [
    "### Funciones `show` y `get_column_names`"
   ]
  },
  {
   "cell_type": "markdown",
   "metadata": {
    "editable": true,
    "slideshow": {
     "slide_type": "slide"
    },
    "tags": []
   },
   "source": [
    "Juntando estas dos funciones se obtiene una representación tabular del flujo usando `pandas.DataFrame`."
   ]
  },
  {
   "cell_type": "code",
   "metadata": {
    "editable": true,
    "execution": {
     "iopub.execute_input": "2024-07-22T23:53:33.179012Z",
     "iopub.status.busy": "2024-07-22T23:53:33.178835Z",
     "iopub.status.idle": "2024-07-22T23:53:33.188199Z",
     "shell.execute_reply": "2024-07-22T23:53:33.187654Z",
     "shell.execute_reply.started": "2024-07-22T23:53:33.178994Z"
    },
    "slideshow": {
     "slide_type": "fragment"
    },
    "tags": []
   },
   "source": [
    "df = pd.DataFrame(\n",
    "    [qcf.show(fixed_rate_mccy_cashflow)], \n",
    "    columns=qcf.get_column_names(fixed_rate_mccy_cashflow.get_type())\n",
    ")\n",
    "df.style.format({\n",
    "    'nominal':'{:,.2f}', \n",
    "    'amortizacion':'{:,.2f}', \n",
    "    'amortizacion_moneda_pago':'{:,.0f}', \n",
    "    'interes':'{:,.2f}', \n",
    "    'interes_moneda_pago':'{:,.0f}', \n",
    "    'flujo':'{:,.2f}',\n",
    "    'valor_tasa':'{:.2%}',\n",
    "    'valor_indice_fx':'{:.2f}'\n",
    "})"
   ],
   "outputs": [],
   "execution_count": null
  },
  {
   "cell_type": "markdown",
   "metadata": {
    "editable": true,
    "slideshow": {
     "slide_type": "slide"
    },
    "tags": []
   },
   "source": [
    "## Ibor Cashflow"
   ]
  },
  {
   "cell_type": "markdown",
   "metadata": {
    "editable": true,
    "slideshow": {
     "slide_type": "slide"
    },
    "tags": []
   },
   "source": [
    "Un objeto de tipo `IborCashflow` representa un flujo de caja calculado a partir de la aplicación de una tasa flotante fijada en una cierta fecha (TERMSOFR, Euribor, ...) , entre dos fechas prefijadas a un nominal prefijado. Para dar de alta uno de estos objetos se requiere:\n",
    "\n",
    "- `InterestRateIndex`: el índice de tasa de interés prefijado\n",
    "- `QCDate`: fecha inicio (para la aplicación de la tasa)\n",
    "- `QCDate`: fecha final (para la aplicación de la tasa)\n",
    "- `QCDate`: fecha de fijación del índice de tasa de interés \n",
    "- `QCDate`: fecha de pago\n",
    "- `float`: nominal (monto al que se le aplica la tasa)\n",
    "- `float`: amortización (eventual flujo de caja que corresponde a una porción del nominal)\n",
    "- `bool`: indica si la amortización anterior es un flujo de caja o sólo una disminución de nominal\n",
    "- `QCCurrency`: moneda del nominal y del flujo de caja\n",
    "- `float`: spread aditivo a aplicar a la fijación del índice\n",
    "- `float`: spread multiplicativo o gearing a aplicar a la fijación del índice\n",
    "\n",
    "Para dar de alta un `InterestRateIndex` se requiere:\n",
    "\n",
    "- `str`: código del índice\n",
    "- `QCInterestRate`: un objeto tasa de interés que contenga las convenciones del índice\n",
    "- `Tenor`: el lag de inicio del índice respecto a la fecha de fixing (por ejemplo 2d para Libor USD)\n",
    "- `Tenor`: el tenor del índice (3M por ejemplo para Libor USD 3M)\n",
    "- `QCBusinessCalendar`: el calendario de fixing\n",
    "- `QCBusinessCalendar`: el calendario de pago\n",
    "- `QCCurrency`: la moneda a la que corresponde el índice (por ejemplo EUR para EURIBOR 3M)\n"
   ]
  },
  {
   "cell_type": "markdown",
   "metadata": {},
   "source": [
    "### Construcción"
   ]
  },
  {
   "cell_type": "markdown",
   "metadata": {},
   "source": [
    "Se define primero el índice de tasa de interés."
   ]
  },
  {
   "cell_type": "code",
   "metadata": {
    "execution": {
     "iopub.execute_input": "2024-07-22T23:53:33.189246Z",
     "iopub.status.busy": "2024-07-22T23:53:33.189063Z",
     "iopub.status.idle": "2024-07-22T23:53:33.195527Z",
     "shell.execute_reply": "2024-07-22T23:53:33.194918Z",
     "shell.execute_reply.started": "2024-07-22T23:53:33.189226Z"
    }
   },
   "source": [
    "codigo = \"TERMSOFR6M\"\n",
    "lin_act360 = qcf.QCInterestRate(0.0, act360, lin_wf)\n",
    "fixing_lag = qcf.Tenor(\"2D\")\n",
    "tenor = qcf.Tenor(\"6M\")\n",
    "fixing_calendar = aux.get_business_calendar('US', range(2024, 2035))\n",
    "settlement_calendar = fixing_calendar\n",
    "term_sofr_6m = qcf.InterestRateIndex(\n",
    "    codigo, \n",
    "    lin_act360, \n",
    "    fixing_lag, \n",
    "    tenor, \n",
    "    fixing_calendar, \n",
    "    settlement_calendar, \n",
    "    usd\n",
    ")"
   ],
   "outputs": [],
   "execution_count": null
  },
  {
   "cell_type": "markdown",
   "metadata": {},
   "source": [
    "Getters del objeto `InterestRateIndex`."
   ]
  },
  {
   "cell_type": "code",
   "metadata": {
    "execution": {
     "iopub.execute_input": "2024-07-22T23:53:33.196503Z",
     "iopub.status.busy": "2024-07-22T23:53:33.196295Z",
     "iopub.status.idle": "2024-07-22T23:53:33.199845Z",
     "shell.execute_reply": "2024-07-22T23:53:33.199284Z",
     "shell.execute_reply.started": "2024-07-22T23:53:33.196486Z"
    }
   },
   "source": [
    "print(f\"Code: {term_sofr_6m.get_code()}\")\n",
    "print(f\"Tenor: {term_sofr_6m.get_tenor()}\")\n",
    "print(f\"Tasa: {term_sofr_6m.get_rate()}\")"
   ],
   "outputs": [],
   "execution_count": null
  },
  {
   "cell_type": "markdown",
   "metadata": {},
   "source": [
    "Para fijar el valor del índice en una fecha en particular."
   ]
  },
  {
   "cell_type": "code",
   "metadata": {
    "execution": {
     "iopub.execute_input": "2024-07-22T23:53:33.201021Z",
     "iopub.status.busy": "2024-07-22T23:53:33.200790Z",
     "iopub.status.idle": "2024-07-22T23:53:33.204112Z",
     "shell.execute_reply": "2024-07-22T23:53:33.203569Z",
     "shell.execute_reply.started": "2024-07-22T23:53:33.201003Z"
    }
   },
   "source": [
    "term_sofr_6m.set_rate_value(0.01)\n",
    "print(f\"Fixing Tasa: {term_sofr_6m.get_rate().get_value():.2%}\")"
   ],
   "outputs": [],
   "execution_count": null
  },
  {
   "cell_type": "code",
   "metadata": {
    "execution": {
     "iopub.execute_input": "2024-07-22T23:53:33.205223Z",
     "iopub.status.busy": "2024-07-22T23:53:33.205022Z",
     "iopub.status.idle": "2024-07-22T23:53:33.208622Z",
     "shell.execute_reply": "2024-07-22T23:53:33.208047Z",
     "shell.execute_reply.started": "2024-07-22T23:53:33.205205Z"
    }
   },
   "source": [
    "fecha_fixing = qcf.QCDate(20, 9, 2018)\n",
    "print(f\"Fecha Inicio: {term_sofr_6m.get_start_date(fecha_fixing)}\")\n",
    "print(f\"Fecha Final: {term_sofr_6m.get_end_date(fecha_fixing)}\")"
   ],
   "outputs": [],
   "execution_count": null
  },
  {
   "cell_type": "markdown",
   "metadata": {},
   "source": [
    "Con esto, veamos un ejemplo de construcción y uso de un `IborCashflow`."
   ]
  },
  {
   "cell_type": "code",
   "metadata": {
    "execution": {
     "iopub.execute_input": "2024-07-22T23:53:33.209931Z",
     "iopub.status.busy": "2024-07-22T23:53:33.209674Z",
     "iopub.status.idle": "2024-07-22T23:53:33.214135Z",
     "shell.execute_reply": "2024-07-22T23:53:33.213474Z",
     "shell.execute_reply.started": "2024-07-22T23:53:33.209909Z"
    }
   },
   "source": [
    "fecha_inicio = qcf.QCDate(20, 9, 2018)\n",
    "fecha_final = qcf.QCDate(20, 9, 2019)\n",
    "fecha_pago = qcf.QCDate(23, 9, 2019)\n",
    "fecha_fixing = qcf.QCDate(18, 9, 2018)\n",
    "nominal = 1_000_000.0\n",
    "amort = 100_000.0\n",
    "amort_is_cashflow = True\n",
    "spread = 0.0\n",
    "gearing = 1.0\n",
    "\n",
    "ibor_cashflow = qcf.IborCashflow(\n",
    "    term_sofr_6m,\n",
    "    fecha_inicio,\n",
    "    fecha_final,\n",
    "    fecha_fixing,\n",
    "    fecha_pago,\n",
    "    nominal,\n",
    "    amort,\n",
    "    amort_is_cashflow,\n",
    "    usd,\n",
    "    spread,\n",
    "    gearing,\n",
    ")"
   ],
   "outputs": [],
   "execution_count": null
  },
  {
   "cell_type": "markdown",
   "metadata": {},
   "source": [
    "### Getters"
   ]
  },
  {
   "cell_type": "code",
   "metadata": {
    "execution": {
     "iopub.execute_input": "2024-07-22T23:53:33.215178Z",
     "iopub.status.busy": "2024-07-22T23:53:33.214968Z",
     "iopub.status.idle": "2024-07-22T23:53:33.219700Z",
     "shell.execute_reply": "2024-07-22T23:53:33.219074Z",
     "shell.execute_reply.started": "2024-07-22T23:53:33.215160Z"
    }
   },
   "source": [
    "print(f\"Tipo Cashflow:\\t{ibor_cashflow.get_type()}\")\n",
    "print(f\"Fecha Fixing:\\t{ibor_cashflow.get_fixing_date()}\")\n",
    "print(f\"Fecha Inicio:\\t{ibor_cashflow.get_start_date()}\")\n",
    "print(f\"Fecha Final:\\t{ibor_cashflow.get_end_date()}\")\n",
    "print(f\"Fecha Pago:\\t{ibor_cashflow.get_settlement_date()}\")\n",
    "print(f\"Nominal:\\t{ibor_cashflow.get_nominal():,.0f}\")\n",
    "print(f\"Amortización:\\t{ibor_cashflow.get_amortization():,.0f}\")\n",
    "print(f\"Moneda:\\t\\t{ibor_cashflow.ccy()}\")\n",
    "print(f\"Valor Tasa:\\t{ibor_cashflow.get_interest_rate_value():.2%}\")\n",
    "print(f\"Valor Spread:\\t{ibor_cashflow.get_spread():.2%}\")\n",
    "print(f\"Valor Gearing:\\t{ibor_cashflow.get_gearing():.2f}\")"
   ],
   "outputs": [],
   "execution_count": null
  },
  {
   "cell_type": "markdown",
   "metadata": {},
   "source": [
    "### Setters"
   ]
  },
  {
   "cell_type": "markdown",
   "metadata": {},
   "source": [
    "Nuevo nominal."
   ]
  },
  {
   "cell_type": "code",
   "metadata": {
    "execution": {
     "iopub.execute_input": "2024-07-22T23:53:33.220796Z",
     "iopub.status.busy": "2024-07-22T23:53:33.220560Z",
     "iopub.status.idle": "2024-07-22T23:53:33.223916Z",
     "shell.execute_reply": "2024-07-22T23:53:33.223380Z",
     "shell.execute_reply.started": "2024-07-22T23:53:33.220778Z"
    }
   },
   "source": [
    "nuevo_nominal = 2_000_000.0\n",
    "ibor_cashflow.set_nominal(nuevo_nominal)\n",
    "print(f\"Nominal: {ibor_cashflow.get_nominal():,.0f}\")"
   ],
   "outputs": [],
   "execution_count": null
  },
  {
   "cell_type": "markdown",
   "metadata": {},
   "source": [
    "Nueva amortización."
   ]
  },
  {
   "cell_type": "code",
   "metadata": {
    "execution": {
     "iopub.execute_input": "2024-07-22T23:53:33.225092Z",
     "iopub.status.busy": "2024-07-22T23:53:33.224885Z",
     "iopub.status.idle": "2024-07-22T23:53:33.228337Z",
     "shell.execute_reply": "2024-07-22T23:53:33.227789Z",
     "shell.execute_reply.started": "2024-07-22T23:53:33.225074Z"
    }
   },
   "source": [
    "nueva_amortizacion = 200_000.0\n",
    "ibor_cashflow.set_amortization(nueva_amortizacion)\n",
    "print(f\"Amortización: {ibor_cashflow.get_amortization():,.0f}\")"
   ],
   "outputs": [],
   "execution_count": null
  },
  {
   "cell_type": "markdown",
   "metadata": {},
   "source": [
    "Cambia el valor del índice."
   ]
  },
  {
   "cell_type": "code",
   "metadata": {
    "execution": {
     "iopub.execute_input": "2024-07-22T23:53:33.229502Z",
     "iopub.status.busy": "2024-07-22T23:53:33.229301Z",
     "iopub.status.idle": "2024-07-22T23:53:33.232673Z",
     "shell.execute_reply": "2024-07-22T23:53:33.232044Z",
     "shell.execute_reply.started": "2024-07-22T23:53:33.229484Z"
    }
   },
   "source": [
    "ibor_cashflow.set_interest_rate_value(nuevo_valor_indice:=.02)\n",
    "print(f\"Valor Tasa: {ibor_cashflow.get_interest_rate_value():.2%}\")"
   ],
   "outputs": [],
   "execution_count": null
  },
  {
   "cell_type": "markdown",
   "metadata": {},
   "source": "Cambia el valor del spread."
  },
  {
   "cell_type": "code",
   "metadata": {
    "execution": {
     "iopub.execute_input": "2024-07-22T23:53:33.233510Z",
     "iopub.status.busy": "2024-07-22T23:53:33.233341Z",
     "iopub.status.idle": "2024-07-22T23:53:33.236591Z",
     "shell.execute_reply": "2024-07-22T23:53:33.236101Z",
     "shell.execute_reply.started": "2024-07-22T23:53:33.233492Z"
    }
   },
   "source": [
    "ibor_cashflow.set_spread(.01)\n",
    "print(f\"Valor Spread: {ibor_cashflow.get_spread():.2%}\")"
   ],
   "outputs": [],
   "execution_count": null
  },
  {
   "metadata": {},
   "cell_type": "markdown",
   "source": "Cambia el valor del gearing."
  },
  {
   "metadata": {
    "execution": {
     "iopub.execute_input": "2024-07-22T23:53:33.233510Z",
     "iopub.status.busy": "2024-07-22T23:53:33.233341Z",
     "iopub.status.idle": "2024-07-22T23:53:33.236591Z",
     "shell.execute_reply": "2024-07-22T23:53:33.236101Z",
     "shell.execute_reply.started": "2024-07-22T23:53:33.233492Z"
    }
   },
   "cell_type": "code",
   "source": [
    "ibor_cashflow.set_gearing(1.2)\n",
    "print(f\"Valor Spread: {ibor_cashflow.get_gearing():.2}\")"
   ],
   "outputs": [],
   "execution_count": null
  },
  {
   "cell_type": "markdown",
   "metadata": {},
   "source": [
    "### Cálculos"
   ]
  },
  {
   "cell_type": "markdown",
   "metadata": {},
   "source": [
    "Método `amount`. Retorna el flujo total incluyendo la amortización si corresponde."
   ]
  },
  {
   "cell_type": "code",
   "metadata": {
    "execution": {
     "iopub.execute_input": "2024-07-22T23:53:33.237769Z",
     "iopub.status.busy": "2024-07-22T23:53:33.237539Z",
     "iopub.status.idle": "2024-07-22T23:53:33.240780Z",
     "shell.execute_reply": "2024-07-22T23:53:33.240134Z",
     "shell.execute_reply.started": "2024-07-22T23:53:33.237751Z"
    }
   },
   "source": [
    "print(f\"Flujo: {ibor_cashflow.amount():,.2f}\")"
   ],
   "outputs": [],
   "execution_count": null
  },
  {
   "cell_type": "markdown",
   "metadata": {},
   "source": [
    "Método `accrued_interest`. Retorna el interés devengado a una cierta fecha."
   ]
  },
  {
   "cell_type": "code",
   "metadata": {
    "execution": {
     "iopub.execute_input": "2024-07-22T23:53:33.241716Z",
     "iopub.status.busy": "2024-07-22T23:53:33.241548Z",
     "iopub.status.idle": "2024-07-22T23:53:33.245660Z",
     "shell.execute_reply": "2024-07-22T23:53:33.245148Z",
     "shell.execute_reply.started": "2024-07-22T23:53:33.241698Z"
    }
   },
   "source": [
    "fecha_devengo = qcf.QCDate(20, 7, 2019)\n",
    "print(f\"Interés Devengado al {fecha_devengo}: {ibor_cashflow.accrued_interest(fecha_devengo):,.2f}\")\n",
    "\n",
    "# La tasa es el valor del índice más el spread\n",
    "tasa = ibor_cashflow.get_interest_rate_value() * ibor_cashflow.get_gearing() + ibor_cashflow.get_spread()\n",
    "\n",
    "check = tasa * fecha_inicio.day_diff(fecha_devengo) / 360.0 * ibor_cashflow.get_nominal()\n",
    "print(f\"Check: {check:,.2f}\")"
   ],
   "outputs": [],
   "execution_count": null
  },
  {
   "cell_type": "markdown",
   "metadata": {},
   "source": [
    "### Funciones `show` y `get_column_names`"
   ]
  },
  {
   "cell_type": "markdown",
   "metadata": {},
   "source": [
    "Al igual que en casos anteriores, juntando estas dos funciones se obtiene una representación tabular del flujo usando `pandas.DataFrame`."
   ]
  },
  {
   "cell_type": "code",
   "metadata": {
    "execution": {
     "iopub.execute_input": "2024-07-22T23:53:33.247047Z",
     "iopub.status.busy": "2024-07-22T23:53:33.246615Z",
     "iopub.status.idle": "2024-07-22T23:53:33.255585Z",
     "shell.execute_reply": "2024-07-22T23:53:33.255018Z",
     "shell.execute_reply.started": "2024-07-22T23:53:33.247026Z"
    }
   },
   "source": [
    "df = pd.DataFrame(\n",
    "    [qcf.show(ibor_cashflow)], \n",
    "    columns=qcf.get_column_names(ibor_cashflow.get_type())\n",
    ")\n",
    "df.style.format({\n",
    "    'nominal':'{:,.2f}', \n",
    "    'amortizacion':'{:,.2f}', \n",
    "    'interes':'{:,.2f}', \n",
    "    'flujo':'{:,.2f}',\n",
    "    'valor_tasa':'{:.2%}',\n",
    "    'spread':'{:.2%}',\n",
    "    'gearing':'{:.2f}',\n",
    "})"
   ],
   "outputs": [],
   "execution_count": null
  },
  {
   "cell_type": "markdown",
   "metadata": {},
   "source": [
    "## Ibor Multi Currency Cashflow"
   ]
  },
  {
   "cell_type": "markdown",
   "metadata": {},
   "source": [
    "Un objeto de tipo `IborMultiCurrencyCashflow` representa un flujo de caja a tasa variable (`IborCashflow`) que se liquidará en una moneda distinta de la moneda del nominal utilizando el valor a una cierta fecha de un índice de tipo de cambio prefijado. Para dar de alta uno de estos objetos se requiere:\n",
    "\n",
    "- `InterestRateIndex`: el índice de tasa de interés prefijado\n",
    "- `QCDate`: fecha inicio (para la aplicación de la tasa)\n",
    "- `QCDate`: fecha final (para la aplicación de la tasa)\n",
    "- `QCDate`: fecha de fijación del índice de tasa de interés \n",
    "- `QCDate`: fecha de pago\n",
    "- `float`: nominal (monto al que se le aplica la tasa)\n",
    "- `float`: amortización (eventual flujo de caja que corresponde a una porción del nominal)\n",
    "- `bool`: indica si la amortización anterior es un flujo de caja o sólo una disminución de nominal\n",
    "- `QCCurrency`: moneda del nominal y del flujo de caja\n",
    "- `float`: spread aditivo a aplicar a la fijación del índice\n",
    "- `float`: spread multiplicativo o gearing a aplicar a la fijación del índice\n",
    "- `QCDate`: fecha de publicación del índice de tipo de cambio\n",
    "- `QCCurrency`: moneda en la que se liquida el flujo\n",
    "- `FXRateIndex`: índice de tipo de cambio a utilizar\n",
    "- `float`: valor del índice de tipo de cambio"
   ]
  },
  {
   "cell_type": "markdown",
   "metadata": {},
   "source": [
    "### Construcción"
   ]
  },
  {
   "cell_type": "markdown",
   "metadata": {},
   "source": [
    "Parámetros iniciales, sólo agregamos los parámetros relacionados al MultiCurrency y fijamos el valor del índice de tasa de interés en 1.00%."
   ]
  },
  {
   "cell_type": "code",
   "metadata": {
    "execution": {
     "iopub.execute_input": "2024-07-22T23:53:33.256513Z",
     "iopub.status.busy": "2024-07-22T23:53:33.256332Z",
     "iopub.status.idle": "2024-07-22T23:53:33.260030Z",
     "shell.execute_reply": "2024-07-22T23:53:33.259361Z",
     "shell.execute_reply.started": "2024-07-22T23:53:33.256496Z"
    }
   },
   "source": [
    "valor_indice_fx = 900.0\n",
    "fecha_publicacion = qcf.QCDate(20, 9, 2019)\n",
    "term_sofr_6m.set_rate_value(0.01)"
   ],
   "outputs": [],
   "execution_count": null
  },
  {
   "cell_type": "markdown",
   "metadata": {},
   "source": [
    "Se da de alta el objeto."
   ]
  },
  {
   "cell_type": "code",
   "metadata": {
    "execution": {
     "iopub.execute_input": "2024-07-22T23:53:33.261202Z",
     "iopub.status.busy": "2024-07-22T23:53:33.260994Z",
     "iopub.status.idle": "2024-07-22T23:53:33.264427Z",
     "shell.execute_reply": "2024-07-22T23:53:33.263873Z",
     "shell.execute_reply.started": "2024-07-22T23:53:33.261183Z"
    }
   },
   "source": [
    "ibor_mccy_cashflow = qcf.IborMultiCurrencyCashflow(\n",
    "    term_sofr_6m,\n",
    "    fecha_inicio,\n",
    "    fecha_final,\n",
    "    fecha_fixing,\n",
    "    fecha_pago,\n",
    "    nominal,\n",
    "    amort,\n",
    "    amort_is_cashflow,\n",
    "    usd,\n",
    "    spread,\n",
    "    gearing,\n",
    "    fecha_publicacion,\n",
    "    clp,\n",
    "    indice,\n",
    "    valor_indice,\n",
    ")"
   ],
   "outputs": [],
   "execution_count": null
  },
  {
   "cell_type": "markdown",
   "metadata": {},
   "source": [
    "### Getters"
   ]
  },
  {
   "cell_type": "markdown",
   "metadata": {},
   "source": [
    "El objeto `IborMultiCurrencyCashflow` es una subclase de `IborCashflow` y por lo tanto, hereda todos sus métodos y variables."
   ]
  },
  {
   "cell_type": "code",
   "metadata": {
    "execution": {
     "iopub.execute_input": "2024-07-22T23:53:33.265306Z",
     "iopub.status.busy": "2024-07-22T23:53:33.265136Z",
     "iopub.status.idle": "2024-07-22T23:53:33.269835Z",
     "shell.execute_reply": "2024-07-22T23:53:33.269302Z",
     "shell.execute_reply.started": "2024-07-22T23:53:33.265288Z"
    }
   },
   "source": [
    "print(f\"Tipo Cashflow:\\t {ibor_mccy_cashflow.get_type()}\")\n",
    "print(f\"Fecha Fixing:\\t {ibor_mccy_cashflow.get_fixing_date()}\")\n",
    "print(f\"Fecha Inicio:\\t {ibor_mccy_cashflow.get_start_date()}\")\n",
    "print(f\"Fecha Final:\\t {ibor_mccy_cashflow.get_end_date()}\")\n",
    "print(f\"Fecha Pago:\\t {ibor_mccy_cashflow.get_settlement_date()}\")\n",
    "print(f\"Nominal:\\t {ibor_mccy_cashflow.get_nominal():,.0f}\")\n",
    "print(f\"Amortización:\\t {ibor_mccy_cashflow.get_amortization():,.0f}\")\n",
    "print(f\"Moneda:\\t\\t {ibor_mccy_cashflow.ccy()}\")\n",
    "print(f\"Valor Tasa:\\t {ibor_mccy_cashflow.get_interest_rate_value():.2%}\")\n",
    "print(f\"Valor Spread:\\t {ibor_mccy_cashflow.get_spread():.2%}\")\n",
    "print(f\"Valor Gearing:\\t {ibor_mccy_cashflow.get_gearing():.2f}\")"
   ],
   "outputs": [],
   "execution_count": null
  },
  {
   "cell_type": "markdown",
   "metadata": {},
   "source": [
    "Adicionalmente tenemos:"
   ]
  },
  {
   "cell_type": "code",
   "metadata": {
    "execution": {
     "iopub.execute_input": "2024-07-22T23:53:33.271069Z",
     "iopub.status.busy": "2024-07-22T23:53:33.270865Z",
     "iopub.status.idle": "2024-07-22T23:53:33.274407Z",
     "shell.execute_reply": "2024-07-22T23:53:33.273705Z",
     "shell.execute_reply.started": "2024-07-22T23:53:33.271051Z"
    }
   },
   "source": [
    "print(f\"Fecha Fixing FX: {ibor_mccy_cashflow.get_fx_fixing_date()}\")\n",
    "print(f\"Valor Índice FX: {ibor_mccy_cashflow.get_fx_rate_index_value():,.2f}\")"
   ],
   "outputs": [],
   "execution_count": null
  },
  {
   "cell_type": "markdown",
   "metadata": {},
   "source": [
    "### Setters"
   ]
  },
  {
   "cell_type": "markdown",
   "metadata": {},
   "source": [
    "Nuevo nominal."
   ]
  },
  {
   "cell_type": "code",
   "metadata": {
    "execution": {
     "iopub.execute_input": "2024-07-22T23:53:33.275642Z",
     "iopub.status.busy": "2024-07-22T23:53:33.275306Z",
     "iopub.status.idle": "2024-07-22T23:53:33.278855Z",
     "shell.execute_reply": "2024-07-22T23:53:33.278235Z",
     "shell.execute_reply.started": "2024-07-22T23:53:33.275622Z"
    }
   },
   "source": [
    "nuevo_nominal = 2_000_000.0\n",
    "ibor_mccy_cashflow.set_nominal(nuevo_nominal)\n",
    "print(f\"Nominal: {ibor_mccy_cashflow.get_nominal():,.0f}\")"
   ],
   "outputs": [],
   "execution_count": null
  },
  {
   "cell_type": "markdown",
   "metadata": {},
   "source": [
    "Nueva amortización."
   ]
  },
  {
   "cell_type": "code",
   "metadata": {
    "execution": {
     "iopub.execute_input": "2024-07-22T23:53:33.280019Z",
     "iopub.status.busy": "2024-07-22T23:53:33.279731Z",
     "iopub.status.idle": "2024-07-22T23:53:33.283341Z",
     "shell.execute_reply": "2024-07-22T23:53:33.282774Z",
     "shell.execute_reply.started": "2024-07-22T23:53:33.279999Z"
    }
   },
   "source": [
    "nueva_amortizacion = 200_000.0\n",
    "ibor_mccy_cashflow.set_amortization(nueva_amortizacion)\n",
    "print(f\"Amortización: {ibor_mccy_cashflow.get_amortization():,.0f}\")"
   ],
   "outputs": [],
   "execution_count": null
  },
  {
   "cell_type": "markdown",
   "metadata": {},
   "source": [
    "Cambia el valor del índice de tasa de interés."
   ]
  },
  {
   "cell_type": "code",
   "metadata": {
    "execution": {
     "iopub.execute_input": "2024-07-22T23:53:33.284401Z",
     "iopub.status.busy": "2024-07-22T23:53:33.284165Z",
     "iopub.status.idle": "2024-07-22T23:53:33.287760Z",
     "shell.execute_reply": "2024-07-22T23:53:33.287148Z",
     "shell.execute_reply.started": "2024-07-22T23:53:33.284382Z"
    }
   },
   "source": [
    "ibor_mccy_cashflow.set_interest_rate_value(nuevo_valor_indice:=.02)\n",
    "print(f\"Valor Tasa: {ibor_mccy_cashflow.get_interest_rate_value():.2%}\")"
   ],
   "outputs": [],
   "execution_count": null
  },
  {
   "cell_type": "markdown",
   "metadata": {},
   "source": [
    "Nuevo valor para el índice FX."
   ]
  },
  {
   "cell_type": "code",
   "metadata": {
    "execution": {
     "iopub.execute_input": "2024-07-22T23:53:33.288707Z",
     "iopub.status.busy": "2024-07-22T23:53:33.288540Z",
     "iopub.status.idle": "2024-07-22T23:53:33.291789Z",
     "shell.execute_reply": "2024-07-22T23:53:33.291239Z",
     "shell.execute_reply.started": "2024-07-22T23:53:33.288690Z"
    }
   },
   "source": [
    "ibor_mccy_cashflow.set_fx_rate_index_value(950.0)\n",
    "print(f\"Valor Índice FX: {ibor_mccy_cashflow.get_fx_rate_index_value():,.2f}\")"
   ],
   "outputs": [],
   "execution_count": null
  },
  {
   "cell_type": "markdown",
   "metadata": {},
   "source": [
    "### Cálculos"
   ]
  },
  {
   "cell_type": "markdown",
   "metadata": {},
   "source": [
    "Método `amount`. Retorna el flujo total incluyendo la amortización si corresponde."
   ]
  },
  {
   "cell_type": "code",
   "metadata": {
    "execution": {
     "iopub.execute_input": "2024-07-22T23:53:33.292644Z",
     "iopub.status.busy": "2024-07-22T23:53:33.292476Z",
     "iopub.status.idle": "2024-07-22T23:53:33.296472Z",
     "shell.execute_reply": "2024-07-22T23:53:33.295857Z",
     "shell.execute_reply.started": "2024-07-22T23:53:33.292626Z"
    }
   },
   "source": [
    "print(f\"Flujo: {ibor_mccy_cashflow.amount():,.2f}\")\n",
    "check = ibor_mccy_cashflow.get_nominal() * fecha_inicio.day_diff(fecha_final) / 360.0 * (\n",
    "    ibor_mccy_cashflow.get_interest_rate_value() * ibor_mccy_cashflow.get_gearing() + spread) + ibor_mccy_cashflow.get_amortization()\n",
    "print(f\"Check: {check:,.2f}\")"
   ],
   "outputs": [],
   "execution_count": null
  },
  {
   "cell_type": "markdown",
   "metadata": {},
   "source": [
    "Método `accrued_interest`. Retorna el interés devengado a una cierta fecha."
   ]
  },
  {
   "cell_type": "code",
   "metadata": {
    "execution": {
     "iopub.execute_input": "2024-07-22T23:53:33.297612Z",
     "iopub.status.busy": "2024-07-22T23:53:33.297401Z",
     "iopub.status.idle": "2024-07-22T23:53:33.301571Z",
     "shell.execute_reply": "2024-07-22T23:53:33.301006Z",
     "shell.execute_reply.started": "2024-07-22T23:53:33.297594Z"
    }
   },
   "source": [
    "fecha_devengo = qcf.QCDate(20, 7, 2019)\n",
    "print(f\"Interés Devengado al {fecha_devengo}: {ibor_mccy_cashflow.accrued_interest(fecha_devengo):,.2f}\")\n",
    "\n",
    "tasa = ibor_mccy_cashflow.get_interest_rate_value() * ibor_mccy_cashflow.get_gearing() + ibor_mccy_cashflow.get_spread()\n",
    "\n",
    "check = tasa * fecha_inicio.day_diff(fecha_devengo) / 360.0 * ibor_cashflow.get_nominal()\n",
    "print(f\"Check: {check:,.2f}\")"
   ],
   "outputs": [],
   "execution_count": null
  },
  {
   "cell_type": "markdown",
   "metadata": {},
   "source": [
    "Se agrega el método `accrued_interest_in_sett_ccy` que retorna el interés devengado en moneda de pago. Para utilizarlo se requiere un objeto de tipo `time_series`."
   ]
  },
  {
   "cell_type": "code",
   "metadata": {
    "execution": {
     "iopub.execute_input": "2024-07-22T23:53:33.302689Z",
     "iopub.status.busy": "2024-07-22T23:53:33.302447Z",
     "iopub.status.idle": "2024-07-22T23:53:33.305448Z",
     "shell.execute_reply": "2024-07-22T23:53:33.304938Z",
     "shell.execute_reply.started": "2024-07-22T23:53:33.302671Z"
    }
   },
   "source": [
    "ts[fecha_inicio] = 800.0\n",
    "ts[fecha_devengo] = 950.0"
   ],
   "outputs": [],
   "execution_count": null
  },
  {
   "cell_type": "code",
   "metadata": {
    "execution": {
     "iopub.execute_input": "2024-07-22T23:53:33.306521Z",
     "iopub.status.busy": "2024-07-22T23:53:33.306323Z",
     "iopub.status.idle": "2024-07-22T23:53:33.309787Z",
     "shell.execute_reply": "2024-07-22T23:53:33.309252Z",
     "shell.execute_reply.started": "2024-07-22T23:53:33.306504Z"
    }
   },
   "source": [
    "print(f\"Interés devengado en moneda de pago: {ibor_mccy_cashflow.accrued_interest_in_sett_ccy(fecha_devengo, ts):,.0f}\")\n",
    "print(f\"Check: {check * 950.0:,.0f}\")"
   ],
   "outputs": [],
   "execution_count": null
  },
  {
   "cell_type": "markdown",
   "metadata": {},
   "source": [
    "### Funciones `show` y `get_column_names`"
   ]
  },
  {
   "cell_type": "markdown",
   "metadata": {},
   "source": [
    "Al igual que en casos anteriores, juntando estas dos funciones se obtiene una representación tabular del flujo usando `pandas.DataFrame`."
   ]
  },
  {
   "cell_type": "code",
   "metadata": {
    "execution": {
     "iopub.execute_input": "2024-07-22T23:53:33.310995Z",
     "iopub.status.busy": "2024-07-22T23:53:33.310738Z",
     "iopub.status.idle": "2024-07-22T23:53:33.320900Z",
     "shell.execute_reply": "2024-07-22T23:53:33.320171Z",
     "shell.execute_reply.started": "2024-07-22T23:53:33.310975Z"
    }
   },
   "source": [
    "df = pd.DataFrame(\n",
    "    [qcf.show(ibor_mccy_cashflow)], \n",
    "    columns=qcf.get_column_names(ibor_mccy_cashflow.get_type())\n",
    ")\n",
    "df.style.format({\n",
    "    'nocional':'{:,.2f}', \n",
    "    'amortizacion':'{:,.2f}', \n",
    "    'amortizacion_moneda_pago':'{:,.2f}', \n",
    "    'interes':'{:,.2f}',\n",
    "    'interes_moneda_pago':'{:,.2f}',\n",
    "    'flujo':'{:,.2f}',\n",
    "    'flujo_moneda_pago':'{:,.2f}',\n",
    "    'valor_tasa':'{:.2%}',\n",
    "    'spread':'{:.2%}',\n",
    "    'valor_indice_fx':'{:,.2f}',\n",
    "})"
   ],
   "outputs": [],
   "execution_count": null
  },
  {
   "cell_type": "markdown",
   "metadata": {},
   "source": [
    "## Overnight Index Cashflow"
   ]
  },
  {
   "cell_type": "markdown",
   "metadata": {},
   "source": [
    "Un objeto de tipo `OvernightIndexCashflow` representa un flujo de caja del tipo de la pata flotante de un swap ICPCLP (cámara promedio) de Chile usando cualquier tipo de índice similar (por ejemplo SOFRINDX) y cualquier moneda. Adicionalmente, permite definir en forma independiente a `start_date` y `end_date` las fechas inicial y final utilizadas para los valores del índice. Esto puede resultar útil cuando una de estas operaciones se utiliza para cubrir créditos o bonos a tasa fija y tiene, por lo tanto, vencimientos en fechas inhábiles. Para dar de alta uno de estos objetos se requiere:\n",
    "\n",
    "- `QCDate`: fecha inicio devengo (para la aplicación de la tasa)\n",
    "- `QCDate`: fecha final devengo (para la aplicación de la tasa)\n",
    "- `QCDate`: fecha inicio índice (para el valor del índice)\n",
    "- `QCDate`: fecha final índice (para el valor del índice)\n",
    "- `QCDate`: fecha de pago\n",
    "- `QCCurrency`: moneda del nocional\n",
    "- `float`: nocional (monto al que se le aplica la tasa)\n",
    "- `float`: amortización (eventual flujo de caja que corresponde a una porción del nominal)\n",
    "- `bool`: indica si la amortización anterior es un flujo de caja o sólo una disminución de nominal\n",
    "- `float`: spread aditivo a aplicar a la fijación de la tasa equivalente (TNA en el caso de un ICPCLP)\n",
    "- `float`: spread multiplicativo o gearing a aplicar a la fijación de la tasa equivalente\n",
    "- `QCInterestRate`: con este objeto se especifica en qué convención se calcula la tasa equivalente\n",
    "- `string`: nombre del índice overnight a utilizar\n",
    "- `unsigned int`: número de decimales a utilizar para determinar la tasa equivalente\n",
    "- `DatesForEquivalentRate`: enum que indica qué fechas se utilizan en el cálculo de la tasa equivalente."
   ]
  },
  {
   "cell_type": "markdown",
   "metadata": {},
   "source": [
    "### Construcción"
   ]
  },
  {
   "cell_type": "markdown",
   "metadata": {},
   "source": [
    "Alta de parámetros iniciales."
   ]
  },
  {
   "cell_type": "code",
   "metadata": {
    "execution": {
     "iopub.execute_input": "2024-07-22T23:53:33.321728Z",
     "iopub.status.busy": "2024-07-22T23:53:33.321557Z",
     "iopub.status.idle": "2024-07-22T23:53:33.327041Z",
     "shell.execute_reply": "2024-07-22T23:53:33.326371Z",
     "shell.execute_reply.started": "2024-07-22T23:53:33.321710Z"
    }
   },
   "source": [
    "# Fecha inicio de devengo es un domingo\n",
    "fecha_inicio_devengo = qcf.QCDate(12, 11, 2023)\n",
    "\n",
    "# Fecha final de devengo es sábado\n",
    "fecha_final_devengo = qcf.QCDate(18, 11, 2023)\n",
    "\n",
    "# Estas fechas deben corresponder a días hábiles\n",
    "# En ambos casos vamos a la fecha hábil siguiente\n",
    "fecha_inicio_indice = qcf.QCDate(13, 11, 2023)\n",
    "fecha_final_indice = qcf.QCDate(20, 11, 2023)\n",
    "\n",
    "# La fecha de pago es el lunes siguiente\n",
    "fecha_pago = qcf.QCDate(20, 11, 2023)\n",
    "\n",
    "# Se usan las fechas de inicio y fin de devengo para\n",
    "# el cálculo de la tasa equivalente\n",
    "dates_for_eq_rate = qcf.DatesForEquivalentRate.ACCRUAL\n",
    "\n",
    "moneda_nocional = qcf.QCUSD()\n",
    "nocional = 1_000_000_000.0\n",
    "amort = 100_000_000.0\n",
    "amort_es_flujo = True\n",
    "spread = 0.0\n",
    "gearing = 1.0\n",
    "tasa = qcf.QCInterestRate(0.0, qcf.QCAct360(), qcf.QCLinearWf())\n",
    "nombre_indice = 'INDICE'\n",
    "num_decimales = 8 # decimales como número <-> 6 decimales como porcentaje"
   ],
   "outputs": [],
   "execution_count": null
  },
  {
   "cell_type": "markdown",
   "metadata": {},
   "source": [
    "Se da de alta el objeto."
   ]
  },
  {
   "cell_type": "code",
   "metadata": {
    "execution": {
     "iopub.execute_input": "2024-07-22T23:53:33.328377Z",
     "iopub.status.busy": "2024-07-22T23:53:33.328168Z",
     "iopub.status.idle": "2024-07-22T23:53:33.331753Z",
     "shell.execute_reply": "2024-07-22T23:53:33.331232Z",
     "shell.execute_reply.started": "2024-07-22T23:53:33.328359Z"
    }
   },
   "source": [
    "overnight_index_cashflow = qcf.OvernightIndexCashflow(\n",
    "    fecha_inicio_devengo,\n",
    "    fecha_final_devengo,\n",
    "    fecha_inicio_indice,\n",
    "    fecha_final_indice,\n",
    "    fecha_pago,\n",
    "    moneda_nocional,\n",
    "    nocional,\n",
    "    amort,\n",
    "    amort_es_flujo,\n",
    "    spread,\n",
    "    gearing,\n",
    "    tasa,\n",
    "    nombre_indice,\n",
    "    num_decimales,\n",
    "    dates_for_eq_rate,\n",
    ")"
   ],
   "outputs": [],
   "execution_count": null
  },
  {
   "cell_type": "markdown",
   "metadata": {
    "execution": {
     "iopub.execute_input": "2023-11-14T15:03:37.114645Z",
     "iopub.status.busy": "2023-11-14T15:03:37.114223Z",
     "iopub.status.idle": "2023-11-14T15:03:37.117758Z",
     "shell.execute_reply": "2023-11-14T15:03:37.117154Z",
     "shell.execute_reply.started": "2023-11-14T15:03:37.114618Z"
    }
   },
   "source": [
    "### Getters"
   ]
  },
  {
   "cell_type": "code",
   "metadata": {
    "execution": {
     "iopub.execute_input": "2024-07-22T23:53:33.350855Z",
     "iopub.status.busy": "2024-07-22T23:53:33.350605Z",
     "iopub.status.idle": "2024-07-22T23:53:33.356183Z",
     "shell.execute_reply": "2024-07-22T23:53:33.355466Z",
     "shell.execute_reply.started": "2024-07-22T23:53:33.350833Z"
    }
   },
   "source": [
    "print(f\"Tipo Cashflow:\\t\\t\\t{overnight_index_cashflow.get_type()}\")\n",
    "print(f\"Nominal:\\t\\t\\t{overnight_index_cashflow.get_nominal():,.0f}\")\n",
    "print(f\"Amortización:\\t\\t\\t{overnight_index_cashflow.get_amortization():,.0f}\")\n",
    "print(f\"Fecha Inicio Devengo:\\t\\t{overnight_index_cashflow.get_start_date()}\")\n",
    "print(f\"Fecha Final Devengo:\\t\\t{overnight_index_cashflow.get_end_date()}\")\n",
    "print(f\"Fecha Inicio Índice:\\t\\t{overnight_index_cashflow.get_index_start_date()}\")\n",
    "print(f\"Fecha Final Índice:\\t\\t{overnight_index_cashflow.get_index_end_date()}\")\n",
    "print(f\"Fecha Pago:\\t\\t\\t{overnight_index_cashflow.get_settlement_date()}\")\n",
    "print(f\"Valor Índice Fecha Inicio:\\t{overnight_index_cashflow.get_start_date_index():,.8f}\")\n",
    "print(f\"Valor Índice Fecha Final:\\t{overnight_index_cashflow.get_end_date_index():,.8f}\")\n",
    "print(f\"Valor Tasa Eq:\\t\\t\\t{overnight_index_cashflow.get_rate_value():.4%}\")\n",
    "print(f\"Tipo de Tasa:\\t\\t\\t{overnight_index_cashflow.get_type_of_rate()}\")\n",
    "print(f\"Moneda:\\t\\t\\t\\t{overnight_index_cashflow.ccy()}\")"
   ],
   "outputs": [],
   "execution_count": null
  },
  {
   "cell_type": "markdown",
   "metadata": {},
   "source": [
    "### Setters"
   ]
  },
  {
   "cell_type": "markdown",
   "metadata": {},
   "source": [
    "Se fijan los valores inicial y final del índice."
   ]
  },
  {
   "cell_type": "code",
   "metadata": {
    "execution": {
     "iopub.execute_input": "2024-07-22T23:53:33.357225Z",
     "iopub.status.busy": "2024-07-22T23:53:33.356946Z",
     "iopub.status.idle": "2024-07-22T23:53:33.361028Z",
     "shell.execute_reply": "2024-07-22T23:53:33.360381Z",
     "shell.execute_reply.started": "2024-07-22T23:53:33.357200Z"
    }
   },
   "source": [
    "valor_indice_inicio = 10_000.0\n",
    "overnight_index_cashflow.set_start_date_index(valor_indice_inicio)\n",
    "print(f\"Valor Índice Fecha Inicio: {overnight_index_cashflow.get_start_date_index():,.2f}\")"
   ],
   "outputs": [],
   "execution_count": null
  },
  {
   "cell_type": "code",
   "metadata": {
    "execution": {
     "iopub.execute_input": "2024-07-22T23:53:33.362023Z",
     "iopub.status.busy": "2024-07-22T23:53:33.361810Z",
     "iopub.status.idle": "2024-07-22T23:53:33.365638Z",
     "shell.execute_reply": "2024-07-22T23:53:33.365097Z",
     "shell.execute_reply.started": "2024-07-22T23:53:33.362003Z"
    }
   },
   "source": [
    "valor_indice_final = valor_indice_inicio * (1 + .051234 * 7 / 360.0)\n",
    "overnight_index_cashflow.set_end_date_index(valor_indice_final)\n",
    "print(f\"Valor Índice Fecha Final: {overnight_index_cashflow.get_end_date_index():,.8f}\")"
   ],
   "outputs": [],
   "execution_count": null
  },
  {
   "cell_type": "markdown",
   "metadata": {},
   "source": [
    "Decimales para el cálculo de la tasa equivalente."
   ]
  },
  {
   "cell_type": "code",
   "metadata": {
    "execution": {
     "iopub.execute_input": "2024-07-22T23:53:33.366802Z",
     "iopub.status.busy": "2024-07-22T23:53:33.366602Z",
     "iopub.status.idle": "2024-07-22T23:53:33.370107Z",
     "shell.execute_reply": "2024-07-22T23:53:33.369429Z",
     "shell.execute_reply.started": "2024-07-22T23:53:33.366784Z"
    }
   },
   "source": [
    "decimales_para_tasa_eq = 4\n",
    "overnight_index_cashflow.set_eq_rate_decimal_places(decimales_para_tasa_eq)\n",
    "print(f\"Nueva Tasa Eq: {overnight_index_cashflow.get_rate_value():.4%}\")"
   ],
   "outputs": [],
   "execution_count": null
  },
  {
   "cell_type": "code",
   "metadata": {
    "execution": {
     "iopub.execute_input": "2024-07-22T23:53:33.371165Z",
     "iopub.status.busy": "2024-07-22T23:53:33.370954Z",
     "iopub.status.idle": "2024-07-22T23:53:33.374770Z",
     "shell.execute_reply": "2024-07-22T23:53:33.374144Z",
     "shell.execute_reply.started": "2024-07-22T23:53:33.371146Z"
    }
   },
   "source": [
    "decimales_para_tasa_eq = 6\n",
    "overnight_index_cashflow.set_eq_rate_decimal_places(decimales_para_tasa_eq)\n",
    "print(f\"Nueva Tasa Eq: {overnight_index_cashflow.get_rate_value():.4%}\")"
   ],
   "outputs": [],
   "execution_count": null
  },
  {
   "cell_type": "markdown",
   "metadata": {},
   "source": [
    "Nuevo nocional."
   ]
  },
  {
   "cell_type": "code",
   "metadata": {
    "execution": {
     "iopub.execute_input": "2024-07-22T23:53:33.376217Z",
     "iopub.status.busy": "2024-07-22T23:53:33.375840Z",
     "iopub.status.idle": "2024-07-22T23:53:33.379584Z",
     "shell.execute_reply": "2024-07-22T23:53:33.379072Z",
     "shell.execute_reply.started": "2024-07-22T23:53:33.376194Z"
    }
   },
   "source": [
    "new_notional = 123_456\n",
    "overnight_index_cashflow.set_nominal(new_notional)\n",
    "print(f\"Nuevo Nocional: {overnight_index_cashflow.get_nominal():,.2f}\")"
   ],
   "outputs": [],
   "execution_count": null
  },
  {
   "cell_type": "markdown",
   "metadata": {},
   "source": [
    "Nueva amortización."
   ]
  },
  {
   "cell_type": "code",
   "metadata": {
    "execution": {
     "iopub.execute_input": "2024-07-22T23:53:33.380774Z",
     "iopub.status.busy": "2024-07-22T23:53:33.380531Z",
     "iopub.status.idle": "2024-07-22T23:53:33.384029Z",
     "shell.execute_reply": "2024-07-22T23:53:33.383373Z",
     "shell.execute_reply.started": "2024-07-22T23:53:33.380754Z"
    }
   },
   "source": [
    "new_amortization = 100_000\n",
    "overnight_index_cashflow.set_amortization(new_amortization)\n",
    "print(f\"Nueva Amortización: {overnight_index_cashflow.get_amortization():,.2f}\")"
   ],
   "outputs": [],
   "execution_count": null
  },
  {
   "cell_type": "markdown",
   "metadata": {},
   "source": [
    "### Cálculos"
   ]
  },
  {
   "cell_type": "markdown",
   "metadata": {},
   "source": [
    "Tasa equivalente del período."
   ]
  },
  {
   "cell_type": "code",
   "metadata": {
    "execution": {
     "iopub.execute_input": "2024-07-22T23:53:33.385124Z",
     "iopub.status.busy": "2024-07-22T23:53:33.384885Z",
     "iopub.status.idle": "2024-07-22T23:53:33.388515Z",
     "shell.execute_reply": "2024-07-22T23:53:33.387987Z",
     "shell.execute_reply.started": "2024-07-22T23:53:33.385105Z"
    }
   },
   "source": [
    "print(f\"Valor Tasa Equivalente Todo el Período: {overnight_index_cashflow.get_rate_value():.4%}\")\n",
    "check = round((\n",
    "    valor_indice_final / valor_indice_inicio - 1\n",
    ") * 360.0 / fecha_inicio_devengo.day_diff(fecha_final_devengo), decimales_para_tasa_eq)\n",
    "print(f\"Check: {check:.4%}\")"
   ],
   "outputs": [],
   "execution_count": null
  },
  {
   "cell_type": "markdown",
   "metadata": {},
   "source": [
    "Se cambian las fechas utilizadas para el cálculo de la tasa equivalente."
   ]
  },
  {
   "cell_type": "code",
   "metadata": {
    "execution": {
     "iopub.execute_input": "2024-07-22T23:53:33.389846Z",
     "iopub.status.busy": "2024-07-22T23:53:33.389501Z",
     "iopub.status.idle": "2024-07-22T23:53:33.393684Z",
     "shell.execute_reply": "2024-07-22T23:53:33.393122Z",
     "shell.execute_reply.started": "2024-07-22T23:53:33.389823Z"
    }
   },
   "source": [
    "overnight_index_cashflow.set_dates_for_eq_rate(qcf.DatesForEquivalentRate.INDEX)\n",
    "print(f\"Valor Tasa Equivalente Todo el Período: {overnight_index_cashflow.get_rate_value():.4%}\")\n",
    "check = round((\n",
    "    valor_indice_final / valor_indice_inicio - 1\n",
    ") * 360.0 / fecha_inicio_indice.day_diff(fecha_final_indice), decimales_para_tasa_eq)\n",
    "print(f\"Check: {check:.4%}\")"
   ],
   "outputs": [],
   "execution_count": null
  },
  {
   "cell_type": "markdown",
   "metadata": {},
   "source": [
    "Método `accrued_interest`. Este método tiene dos sobrecargas. En la primera, el valor del índice se entrega explícitamente. En el ejemplo se utilizan las dos opciones para el parámetro `dates_for_eq_rate`."
   ]
  },
  {
   "cell_type": "code",
   "metadata": {
    "execution": {
     "iopub.execute_input": "2024-07-22T23:53:33.394860Z",
     "iopub.status.busy": "2024-07-22T23:53:33.394615Z",
     "iopub.status.idle": "2024-07-22T23:53:33.397463Z",
     "shell.execute_reply": "2024-07-22T23:53:33.396954Z",
     "shell.execute_reply.started": "2024-07-22T23:53:33.394842Z"
    }
   },
   "source": [
    "# Volvemos el nocional y la amortización al valor inicial\n",
    "overnight_index_cashflow.set_nominal(nocional)\n",
    "overnight_index_cashflow.set_amortization(amort)"
   ],
   "outputs": [],
   "execution_count": null
  },
  {
   "cell_type": "code",
   "metadata": {
    "execution": {
     "iopub.execute_input": "2024-07-22T23:53:33.398598Z",
     "iopub.status.busy": "2024-07-22T23:53:33.398397Z",
     "iopub.status.idle": "2024-07-22T23:53:33.401682Z",
     "shell.execute_reply": "2024-07-22T23:53:33.401189Z",
     "shell.execute_reply.started": "2024-07-22T23:53:33.398581Z"
    }
   },
   "source": [
    "fecha_devengo = qcf.QCDate(17, 11, 2023)\n",
    "valor_indice_devengo = 10_000.0 * (1 + .051234 * 4 / 360)"
   ],
   "outputs": [],
   "execution_count": null
  },
  {
   "cell_type": "code",
   "metadata": {
    "execution": {
     "iopub.execute_input": "2024-07-22T23:53:33.402681Z",
     "iopub.status.busy": "2024-07-22T23:53:33.402516Z",
     "iopub.status.idle": "2024-07-22T23:53:33.407185Z",
     "shell.execute_reply": "2024-07-22T23:53:33.406410Z",
     "shell.execute_reply.started": "2024-07-22T23:53:33.402664Z"
    }
   },
   "source": [
    "overnight_index_cashflow.set_dates_for_eq_rate(qcf.DatesForEquivalentRate.ACCRUAL)\n",
    "print(f\"Interés devengado (dates_for_eq_rate = ACCRUAL): {overnight_index_cashflow.accrued_interest(fecha_devengo, valor_indice_devengo): ,.4f}\")\n",
    "tasa = round((\n",
    "    valor_indice_devengo / valor_indice_inicio - 1\n",
    ") * 360.0 / fecha_inicio_devengo.day_diff(fecha_devengo), decimales_para_tasa_eq)\n",
    "print(f\"Check: {nocional * fecha_inicio_devengo.day_diff(fecha_devengo) * tasa / 360.0:,.4f}\\n\")"
   ],
   "outputs": [],
   "execution_count": null
  },
  {
   "cell_type": "code",
   "metadata": {
    "execution": {
     "iopub.execute_input": "2024-07-22T23:53:33.408131Z",
     "iopub.status.busy": "2024-07-22T23:53:33.407915Z",
     "iopub.status.idle": "2024-07-22T23:53:33.411934Z",
     "shell.execute_reply": "2024-07-22T23:53:33.411427Z",
     "shell.execute_reply.started": "2024-07-22T23:53:33.408110Z"
    }
   },
   "source": [
    "overnight_index_cashflow.set_dates_for_eq_rate(qcf.DatesForEquivalentRate.INDEX)\n",
    "print(f\"Interés devengado (dates_for_eq_rate = INDEX): {overnight_index_cashflow.accrued_interest(fecha_devengo, valor_indice_devengo): ,.4f}\")\n",
    "tasa = round((\n",
    "    valor_indice_devengo / valor_indice_inicio - 1\n",
    ") * 360.0 / fecha_inicio_indice.day_diff(fecha_devengo), decimales_para_tasa_eq)\n",
    "print(f\"Check: {nocional * fecha_inicio_devengo.day_diff(fecha_devengo) * tasa / 360.0:,.4f}\")"
   ],
   "outputs": [],
   "execution_count": null
  },
  {
   "cell_type": "markdown",
   "metadata": {},
   "source": [
    "La segunda sobrecarga de `accrued_interest` permite empaquetar el valor del índice a fecha de devengo en un objeto de tipo `time_series`."
   ]
  },
  {
   "cell_type": "code",
   "metadata": {
    "execution": {
     "iopub.execute_input": "2024-07-22T23:53:33.413060Z",
     "iopub.status.busy": "2024-07-22T23:53:33.412825Z",
     "iopub.status.idle": "2024-07-22T23:53:33.416105Z",
     "shell.execute_reply": "2024-07-22T23:53:33.415632Z",
     "shell.execute_reply.started": "2024-07-22T23:53:33.413043Z"
    }
   },
   "source": [
    "data = qcf.time_series()\n",
    "data[fecha_devengo] = valor_indice_devengo\n",
    "\n",
    "overnight_index_cashflow.set_dates_for_eq_rate(qcf.DatesForEquivalentRate.ACCRUAL)"
   ],
   "outputs": [],
   "execution_count": null
  },
  {
   "cell_type": "code",
   "metadata": {
    "execution": {
     "iopub.execute_input": "2024-07-22T23:53:33.417257Z",
     "iopub.status.busy": "2024-07-22T23:53:33.417050Z",
     "iopub.status.idle": "2024-07-22T23:53:33.421285Z",
     "shell.execute_reply": "2024-07-22T23:53:33.420749Z",
     "shell.execute_reply.started": "2024-07-22T23:53:33.417239Z"
    }
   },
   "source": [
    "# El segundo parámetro de accrued_interest es ahora data\n",
    "print(f\"Interés devengado (dates_for_eq_rate = ACCRUAL): {overnight_index_cashflow.accrued_interest(fecha_devengo, data): ,.4f}\")\n",
    "\n",
    "# En este caso, en los dias para el cálculo de la tasa equivalente\n",
    "# coinciden con los días de devengo, aunque cualquiera de las dos\n",
    "# fechas de devengo sea inhábil.\n",
    "dias_calculo_tasa_eq = fecha_inicio_devengo.day_diff(fecha_devengo)\n",
    "tasa = (valor_indice_devengo / valor_indice_inicio - 1) * 360.0 / dias_calculo_tasa_eq\n",
    "tasa = round(tasa, decimales_para_tasa_eq)\n",
    "\n",
    "dias_devengo = dias_calculo_tasa_eq\n",
    "print(f\"Check: {nocional * tasa * dias_devengo / 360.0:,.4f}\\n\")\n",
    "\n",
    "overnight_index_cashflow.set_dates_for_eq_rate(qcf.DatesForEquivalentRate.INDEX)"
   ],
   "outputs": [],
   "execution_count": null
  },
  {
   "cell_type": "code",
   "metadata": {
    "execution": {
     "iopub.execute_input": "2024-07-22T23:53:33.422534Z",
     "iopub.status.busy": "2024-07-22T23:53:33.422176Z",
     "iopub.status.idle": "2024-07-22T23:53:33.426650Z",
     "shell.execute_reply": "2024-07-22T23:53:33.426074Z",
     "shell.execute_reply.started": "2024-07-22T23:53:33.422515Z"
    }
   },
   "source": [
    "# El segundo parámetro de accrued_interest es ahora data\n",
    "print(f\"Interés devengado (dates_for_eq_rate = INDEX): {overnight_index_cashflow.accrued_interest(fecha_devengo, data): ,.4f}\")\n",
    "\n",
    "# En este caso, en los días para el cálculo de la tasa equivalente \n",
    "# se utiliza las fecha de inicio del índice.\n",
    "dias_calculo_tasa_eq = fecha_inicio_indice.day_diff(fecha_devengo)\n",
    "tasa = (valor_indice_devengo / valor_indice_inicio - 1) * 360.0 / dias_calculo_tasa_eq\n",
    "tasa = round(tasa, decimales_para_tasa_eq)\n",
    "\n",
    "# Para el devengo siempre se utiliza, los días de devengo\n",
    "print(f\"Check: {nocional * tasa * dias_devengo / 360.0:,.4f}\\n\")"
   ],
   "outputs": [],
   "execution_count": null
  },
  {
   "cell_type": "markdown",
   "metadata": {},
   "source": [
    "Método `amount`"
   ]
  },
  {
   "cell_type": "code",
   "metadata": {
    "execution": {
     "iopub.execute_input": "2024-07-22T23:53:33.427810Z",
     "iopub.status.busy": "2024-07-22T23:53:33.427530Z",
     "iopub.status.idle": "2024-07-22T23:53:33.431581Z",
     "shell.execute_reply": "2024-07-22T23:53:33.430920Z",
     "shell.execute_reply.started": "2024-07-22T23:53:33.427790Z"
    }
   },
   "source": [
    "overnight_index_cashflow.set_dates_for_eq_rate(qcf.DatesForEquivalentRate.ACCRUAL)\n",
    "print(f\"Amount (ACCRUAL): {overnight_index_cashflow.amount():,.4f}\")\n",
    "dias_calculo_tasa_eq = fecha_inicio_devengo.day_diff(fecha_final_devengo)\n",
    "tasa = (valor_indice_final / valor_indice_inicio - 1) * 360.0 / dias_calculo_tasa_eq\n",
    "dias_devengo = dias_calculo_tasa_eq\n",
    "print(f\"Check: {nocional * (1 + tasa * dias_devengo / 360.0):,.4f}\\n\")"
   ],
   "outputs": [],
   "execution_count": null
  },
  {
   "cell_type": "code",
   "metadata": {
    "execution": {
     "iopub.execute_input": "2024-07-22T23:53:33.432433Z",
     "iopub.status.busy": "2024-07-22T23:53:33.432270Z",
     "iopub.status.idle": "2024-07-22T23:53:33.436123Z",
     "shell.execute_reply": "2024-07-22T23:53:33.435578Z",
     "shell.execute_reply.started": "2024-07-22T23:53:33.432416Z"
    }
   },
   "source": [
    "overnight_index_cashflow.set_dates_for_eq_rate(qcf.DatesForEquivalentRate.INDEX)\n",
    "print(f\"Amount (INDEX): {overnight_index_cashflow.amount():,.4f}\")\n",
    "dias_calculo_tasa_eq = fecha_inicio_indice.day_diff(fecha_final_indice)\n",
    "tasa = (valor_indice_final / valor_indice_inicio - 1) * 360.0 / dias_calculo_tasa_eq\n",
    "print(f\"Check: {nocional * (1 + tasa * dias_devengo / 360.0):,.4f}\\n\")"
   ],
   "outputs": [],
   "execution_count": null
  },
  {
   "cell_type": "markdown",
   "metadata": {},
   "source": [
    "### Funciones `show` y `get_column_names`"
   ]
  },
  {
   "cell_type": "markdown",
   "metadata": {},
   "source": [
    "Al igual que en casos anteriores, juntando estas dos funciones se obtiene una representación tabular del flujo usando `pandas.DataFrame`."
   ]
  },
  {
   "cell_type": "code",
   "metadata": {
    "execution": {
     "iopub.execute_input": "2024-07-22T23:53:33.437318Z",
     "iopub.status.busy": "2024-07-22T23:53:33.437082Z",
     "iopub.status.idle": "2024-07-22T23:53:33.446526Z",
     "shell.execute_reply": "2024-07-22T23:53:33.445993Z",
     "shell.execute_reply.started": "2024-07-22T23:53:33.437297Z"
    }
   },
   "source": [
    "df = pd.DataFrame(\n",
    "    [qcf.show(overnight_index_cashflow)], \n",
    "    columns=qcf.get_column_names(overnight_index_cashflow.get_type())\n",
    ")\n",
    "df.style.format({\n",
    "    'nocional':'{:,.2f}', \n",
    "    'amortizacion':'{:,.2f}', \n",
    "    'amortizacion_moneda_pago':'{:,.2f}', \n",
    "    'interes':'{:,.2f}',\n",
    "    'interes_moneda_pago':'{:,.2f}',\n",
    "    'flujo':'{:,.2f}',\n",
    "    'flujo_moneda_pago':'{:,.2f}',\n",
    "    'valor_tasa_equivalente':'{:.6%}',\n",
    "    'spread':'{:.2%}',\n",
    "    'valor_indice_inicial':'{:,.2f}',\n",
    "    'valor_indice_final':'{:,.2f}',\n",
    "})"
   ],
   "outputs": [],
   "execution_count": null
  },
  {
   "cell_type": "markdown",
   "metadata": {},
   "source": [
    "## Overnight Index Multi Currency Cashflow"
   ]
  },
  {
   "cell_type": "markdown",
   "metadata": {},
   "source": [
    "Un objeto de tipo `OvernightIndexMultiCurrencyCashflow` hereda de `OvernightIndexCashflow` y representa un flujo de caja del tipo de la pata flotante de un swap ICPCLP (cámara promedio) de Chile usando cualquier tipo de índice similar (por ejemplo SOFRINDX), cualquier moneda de nocional, pero con flujos de caja en una moneda distinta a la del nocional, por ejemplo un ICPCLP con contraparte en USA que compensa en USD. Al heredar de `OvernightIndexCashflow`, también permite definir en forma independiente a `start_date` y `end_date` las fechas inicial y final utilizadas para los valores del índice. Para dar de alta uno de estos objetos se requiere:\n",
    "\n",
    "- `QCDate`: fecha inicio devengo (para la aplicación de la tasa)\n",
    "- `QCDate`: fecha final devengo (para la aplicación de la tasa)\n",
    "- `QCDate`: fecha inicio índice (para el valor del índice)\n",
    "- `QCDate`: fecha final índice (para el valor del índice)\n",
    "- `QCDate`: fecha de pago\n",
    "- `QCCurrency`: moneda del nocional\n",
    "- `float`: nocional (monto al que se le aplica la tasa)\n",
    "- `float`: amortización (eventual flujo de caja que corresponde a una porción del nominal)\n",
    "- `bool`: indica si la amortización anterior es un flujo de caja o sólo una disminución de nominal\n",
    "- `float`: spread aditivo a aplicar a la fijación de la tasa equivalente (TNA en el caso de un ICPCLP)\n",
    "- `float`: spread multiplicativo o gearing a aplicar a la fijación de la tasa equivalente\n",
    "- `QCInterestRate`: con este objeto se especifica en qué convención se calcula la tasa equivalente\n",
    "- `string`: nombre del índice overnight a utilizar\n",
    "- `unsigned int`: número de decimales a utilizar para determinar la tasa equivalente\n",
    "- `DatesForEquivalentRate`: enum que indica qué fechas se utilizan en el cálculo de la tasa equivalente.\n",
    "  \n",
    "Hasta acá son los mismos argumentos necesarios para construir un `OvernightIndexCashflow`. Se añaden los siguientes argumentos:\n",
    "- `QCDate`: fecha de fixing del índice de tipo de cambio. Esta fecha se refiere a la fecha de publicación del índice, no a la fecha de fixing en sentido financiero.\n",
    "- `QCCurrency`: moneda de pago de los flujos de caja\n",
    "- `FXRateIndex`: índice de tipo de cambio utilizado para la conversión de los flujos a moneda de pago"
   ]
  },
  {
   "cell_type": "markdown",
   "metadata": {},
   "source": [
    "### Ejemplo"
   ]
  },
  {
   "cell_type": "code",
   "metadata": {
    "execution": {
     "iopub.execute_input": "2024-07-22T23:53:33.447831Z",
     "iopub.status.busy": "2024-07-22T23:53:33.447507Z",
     "iopub.status.idle": "2024-07-22T23:53:33.452665Z",
     "shell.execute_reply": "2024-07-22T23:53:33.451855Z",
     "shell.execute_reply.started": "2024-07-22T23:53:33.447810Z"
    }
   },
   "source": [
    "fecha_inicio_devengo = qcf.QCDate(13, 11, 2023)\n",
    "\n",
    "# Notar que la fecha final de devengo es sábado\n",
    "fecha_final_devengo = qcf.QCDate(18, 11, 2023)\n",
    "\n",
    "fecha_inicio_indice = qcf.QCDate(13, 11, 2023)\n",
    "\n",
    "# Notar que la fecha final de índice es el viernes\n",
    "fecha_final_indice = qcf.QCDate(17, 11, 2023)\n",
    "\n",
    "# La fecha de pago es el lunes siguiente\n",
    "fecha_pago = qcf.QCDate(20, 11, 2023)\n",
    "\n",
    "moneda_nocional = qcf.QCUSD()\n",
    "nocional = 10_000_000.0\n",
    "amort = 1_000_000.0\n",
    "amort_es_flujo = True\n",
    "spread = 0.0\n",
    "gearing = 1.0\n",
    "tasa = qcf.QCInterestRate(0.0, qcf.QCAct360(), qcf.QCLinearWf())\n",
    "nombre_indice = 'INDICE'\n",
    "num_decimales = 8\n",
    "dates_for_eq_rate = qcf.DatesForEquivalentRate.ACCRUAL"
   ],
   "outputs": [],
   "execution_count": null
  },
  {
   "cell_type": "markdown",
   "metadata": {},
   "source": [
    "Parámetros para la parte MultiCurrency."
   ]
  },
  {
   "cell_type": "code",
   "metadata": {
    "execution": {
     "iopub.execute_input": "2024-07-22T23:53:33.453823Z",
     "iopub.status.busy": "2024-07-22T23:53:33.453389Z",
     "iopub.status.idle": "2024-07-22T23:53:33.456639Z",
     "shell.execute_reply": "2024-07-22T23:53:33.456096Z",
     "shell.execute_reply.started": "2024-07-22T23:53:33.453804Z"
    }
   },
   "source": [
    "fecha_fixing_fx_index = fecha_final_devengo\n",
    "moneda_pago = qcf.QCCLP()\n",
    "indice_fx = usdclp_obs"
   ],
   "outputs": [],
   "execution_count": null
  },
  {
   "cell_type": "code",
   "metadata": {
    "execution": {
     "iopub.execute_input": "2024-07-22T23:53:33.457995Z",
     "iopub.status.busy": "2024-07-22T23:53:33.457723Z",
     "iopub.status.idle": "2024-07-22T23:53:33.461418Z",
     "shell.execute_reply": "2024-07-22T23:53:33.460873Z",
     "shell.execute_reply.started": "2024-07-22T23:53:33.457974Z"
    }
   },
   "source": [
    "overnight_index_mccy_cashflow = qcf.OvernightIndexMultiCurrencyCashflow(\n",
    "    fecha_inicio_devengo,\n",
    "    fecha_final_devengo,\n",
    "    fecha_inicio_indice,\n",
    "    fecha_final_indice,\n",
    "    fecha_pago,\n",
    "    moneda_nocional,\n",
    "    nocional,\n",
    "    amort,\n",
    "    amort_es_flujo,\n",
    "    spread,\n",
    "    gearing,\n",
    "    tasa,\n",
    "    nombre_indice,\n",
    "    num_decimales,\n",
    "    dates_for_eq_rate,\n",
    "    fecha_fixing_fx_index,\n",
    "    moneda_pago,\n",
    "    indice_fx,\n",
    ")"
   ],
   "outputs": [],
   "execution_count": null
  },
  {
   "cell_type": "markdown",
   "metadata": {},
   "source": [
    "#### Nuevos Getters"
   ]
  },
  {
   "cell_type": "code",
   "metadata": {
    "execution": {
     "iopub.execute_input": "2024-07-22T23:53:33.462557Z",
     "iopub.status.busy": "2024-07-22T23:53:33.462331Z",
     "iopub.status.idle": "2024-07-22T23:53:33.465778Z",
     "shell.execute_reply": "2024-07-22T23:53:33.465135Z",
     "shell.execute_reply.started": "2024-07-22T23:53:33.462535Z"
    }
   },
   "source": [
    "print(f\"Tipo de flujo: {overnight_index_mccy_cashflow.get_type()}\")"
   ],
   "outputs": [],
   "execution_count": null
  },
  {
   "cell_type": "markdown",
   "metadata": {},
   "source": [
    "Este *getter* retorna todo el objeto `FXRateIndex`."
   ]
  },
  {
   "cell_type": "code",
   "metadata": {
    "execution": {
     "iopub.execute_input": "2024-07-22T23:53:33.466872Z",
     "iopub.status.busy": "2024-07-22T23:53:33.466645Z",
     "iopub.status.idle": "2024-07-22T23:53:33.470455Z",
     "shell.execute_reply": "2024-07-22T23:53:33.469980Z",
     "shell.execute_reply.started": "2024-07-22T23:53:33.466854Z"
    }
   },
   "source": [
    "overnight_index_mccy_cashflow.get_fx_rate_index()"
   ],
   "outputs": [],
   "execution_count": null
  },
  {
   "cell_type": "code",
   "metadata": {
    "execution": {
     "iopub.execute_input": "2024-07-22T23:53:33.471628Z",
     "iopub.status.busy": "2024-07-22T23:53:33.471399Z",
     "iopub.status.idle": "2024-07-22T23:53:33.474830Z",
     "shell.execute_reply": "2024-07-22T23:53:33.474146Z",
     "shell.execute_reply.started": "2024-07-22T23:53:33.471610Z"
    }
   },
   "source": [
    "print(f\"Código del índice FX: {overnight_index_mccy_cashflow.get_fx_rate_index_code()}\")"
   ],
   "outputs": [],
   "execution_count": null
  },
  {
   "cell_type": "code",
   "metadata": {
    "execution": {
     "iopub.execute_input": "2024-07-22T23:53:33.475838Z",
     "iopub.status.busy": "2024-07-22T23:53:33.475630Z",
     "iopub.status.idle": "2024-07-22T23:53:33.479069Z",
     "shell.execute_reply": "2024-07-22T23:53:33.478488Z",
     "shell.execute_reply.started": "2024-07-22T23:53:33.475818Z"
    }
   },
   "source": [
    "print(f\"Valor del índice FX: {overnight_index_mccy_cashflow.get_fx_rate_index_value():,.2f}\")"
   ],
   "outputs": [],
   "execution_count": null
  },
  {
   "cell_type": "markdown",
   "metadata": {},
   "source": [
    "#### Nuevos Cálculos"
   ]
  },
  {
   "cell_type": "markdown",
   "metadata": {},
   "source": [
    "Primero se fijan los valores del índice overnight."
   ]
  },
  {
   "cell_type": "code",
   "metadata": {
    "execution": {
     "iopub.execute_input": "2024-07-22T23:53:33.480075Z",
     "iopub.status.busy": "2024-07-22T23:53:33.479873Z",
     "iopub.status.idle": "2024-07-22T23:53:33.482802Z",
     "shell.execute_reply": "2024-07-22T23:53:33.482315Z",
     "shell.execute_reply.started": "2024-07-22T23:53:33.480058Z"
    }
   },
   "source": [
    "valor_indice_inicio = 1.0\n",
    "valor_indice_final = 1 + .1234 * 4 / 360 # Suponemos un valor constante de 12.34% por 4 días del índice"
   ],
   "outputs": [],
   "execution_count": null
  },
  {
   "cell_type": "code",
   "metadata": {
    "execution": {
     "iopub.execute_input": "2024-07-22T23:53:33.483968Z",
     "iopub.status.busy": "2024-07-22T23:53:33.483745Z",
     "iopub.status.idle": "2024-07-22T23:53:33.486555Z",
     "shell.execute_reply": "2024-07-22T23:53:33.486087Z",
     "shell.execute_reply.started": "2024-07-22T23:53:33.483951Z"
    }
   },
   "source": [
    "overnight_index_mccy_cashflow.set_start_date_index(valor_indice_inicio)\n",
    "overnight_index_mccy_cashflow.set_end_date_index(valor_indice_final)"
   ],
   "outputs": [],
   "execution_count": null
  },
  {
   "cell_type": "code",
   "metadata": {
    "execution": {
     "iopub.execute_input": "2024-07-22T23:53:33.487675Z",
     "iopub.status.busy": "2024-07-22T23:53:33.487469Z",
     "iopub.status.idle": "2024-07-22T23:53:33.490810Z",
     "shell.execute_reply": "2024-07-22T23:53:33.490182Z",
     "shell.execute_reply.started": "2024-07-22T23:53:33.487657Z"
    }
   },
   "source": [
    "print(f\"Amount: {overnight_index_mccy_cashflow.amount():,.2f}\")"
   ],
   "outputs": [],
   "execution_count": null
  },
  {
   "cell_type": "code",
   "metadata": {
    "execution": {
     "iopub.execute_input": "2024-07-22T23:53:33.491854Z",
     "iopub.status.busy": "2024-07-22T23:53:33.491627Z",
     "iopub.status.idle": "2024-07-22T23:53:33.495017Z",
     "shell.execute_reply": "2024-07-22T23:53:33.494343Z",
     "shell.execute_reply.started": "2024-07-22T23:53:33.491837Z"
    }
   },
   "source": [
    "print(f\"Interés en moneda de pago: {overnight_index_mccy_cashflow.settlement_ccy_interest():,.0f}\")"
   ],
   "outputs": [],
   "execution_count": null
  },
  {
   "cell_type": "code",
   "metadata": {
    "execution": {
     "iopub.execute_input": "2024-07-22T23:53:33.495954Z",
     "iopub.status.busy": "2024-07-22T23:53:33.495777Z",
     "iopub.status.idle": "2024-07-22T23:53:33.499076Z",
     "shell.execute_reply": "2024-07-22T23:53:33.498611Z",
     "shell.execute_reply.started": "2024-07-22T23:53:33.495935Z"
    }
   },
   "source": [
    "print(f\"Amortización en moneda de pago {overnight_index_mccy_cashflow.settlement_ccy_amortization():,.0f}\")"
   ],
   "outputs": [],
   "execution_count": null
  },
  {
   "cell_type": "markdown",
   "metadata": {},
   "source": [
    "#### Funciones `show` y `get_column_names`"
   ]
  },
  {
   "cell_type": "markdown",
   "metadata": {},
   "source": [
    "Se envuelve el resultado de la función `show` en un `pd.DataFrame`."
   ]
  },
  {
   "cell_type": "code",
   "metadata": {
    "execution": {
     "iopub.execute_input": "2024-07-22T23:53:33.500395Z",
     "iopub.status.busy": "2024-07-22T23:53:33.500189Z",
     "iopub.status.idle": "2024-07-22T23:53:33.510056Z",
     "shell.execute_reply": "2024-07-22T23:53:33.509436Z",
     "shell.execute_reply.started": "2024-07-22T23:53:33.500377Z"
    }
   },
   "source": [
    "df = pd.DataFrame(\n",
    "    [qcf.show(overnight_index_mccy_cashflow),],\n",
    "    columns=qcf.get_column_names(\"OvernightIndexMultiCurrencyCashflow\", \"\")\n",
    ")\n",
    "df.style.format(aux.format_dict)"
   ],
   "outputs": [],
   "execution_count": null
  },
  {
   "cell_type": "markdown",
   "metadata": {},
   "source": [
    "#### Nuevo Setter"
   ]
  },
  {
   "cell_type": "markdown",
   "metadata": {},
   "source": [
    "Valor del índice de tipo de cambio."
   ]
  },
  {
   "cell_type": "code",
   "metadata": {
    "execution": {
     "iopub.execute_input": "2024-07-22T23:53:33.511248Z",
     "iopub.status.busy": "2024-07-22T23:53:33.511031Z",
     "iopub.status.idle": "2024-07-22T23:53:33.514129Z",
     "shell.execute_reply": "2024-07-22T23:53:33.513496Z",
     "shell.execute_reply.started": "2024-07-22T23:53:33.511229Z"
    }
   },
   "source": [
    "overnight_index_mccy_cashflow.set_fx_rate_index_value(900.0)"
   ],
   "outputs": [],
   "execution_count": null
  },
  {
   "cell_type": "markdown",
   "metadata": {},
   "source": [
    "Ver el efecto en las últimas dos columnas."
   ]
  },
  {
   "cell_type": "code",
   "metadata": {
    "execution": {
     "iopub.execute_input": "2024-07-22T23:53:33.515109Z",
     "iopub.status.busy": "2024-07-22T23:53:33.514912Z",
     "iopub.status.idle": "2024-07-22T23:53:33.524686Z",
     "shell.execute_reply": "2024-07-22T23:53:33.524048Z",
     "shell.execute_reply.started": "2024-07-22T23:53:33.515092Z"
    }
   },
   "source": [
    "pd.DataFrame(\n",
    "    [qcf.show(overnight_index_mccy_cashflow),],\n",
    "    columns=qcf.get_column_names(\"OvernightIndexMultiCurrencyCashflow\", \"\")\n",
    ").style.format(aux.format_dict)"
   ],
   "outputs": [],
   "execution_count": null
  },
  {
   "cell_type": "markdown",
   "metadata": {},
   "source": [
    "## Compounded Overnight Rate Cashflow 2"
   ]
  },
  {
   "cell_type": "markdown",
   "metadata": {},
   "source": [
    "Un objeto de tipo `CompoundedOvernightRateCashflow2` representa un flujo de caja calculado como un cupón de la pata flotante de un OIS sobre cualquier índice overnight (SOFR, FF, ESTR). Para dar de alta uno de estos objetos se requiere:\n",
    "\n",
    "- `InterestRateIndex`: el índice de tasa de interés prefijado\n",
    "- `QCDate`: fecha inicio (para la aplicación de la tasa)\n",
    "- `QCDate`: fecha final (para la aplicación de la tasa)\n",
    "- `QCDate`: fecha de pago\n",
    "- `DateList`: fechas de fixing del índice\n",
    "- `float`: nominal (monto al que se le aplica la tasa)\n",
    "- `float`: amortización (eventual flujo de caja que corresponde a una porción del nominal)\n",
    "- `bool`: indica si la amortización anterior es un flujo de caja o sólo una disminución de nominal\n",
    "- `QCCurrency`: moneda del nocional de la operación\n",
    "- `float`: spread aditivo a aplicar a la fijación de la tasa equivalente\n",
    "- `float`: spread multiplicativo o gearing a aplicar a la fijación de la tasa equivalente\n",
    "- `QCInterestRate`: permite especificar cuál es la convención de cálculo de la tasa equivalente\n",
    "- `unsigned int`: número de decimales a usar en el cálculo de la tasa equivalente. Por ejemplo para 0.12345678% este valor debe ser 10.\n",
    "- `unsigned int`: número de días de lookback\n",
    "- `unsigned int`: número de días de lockout\n",
    "\n",
    "El efecto de lookback y lockout aún no está implementado."
   ]
  },
  {
   "cell_type": "markdown",
   "metadata": {},
   "source": [
    "### Constructor"
   ]
  },
  {
   "cell_type": "markdown",
   "metadata": {},
   "source": [
    "Se da de alta un índice overnight ficiticio de test."
   ]
  },
  {
   "cell_type": "code",
   "metadata": {
    "execution": {
     "iopub.execute_input": "2024-07-22T23:53:33.525589Z",
     "iopub.status.busy": "2024-07-22T23:53:33.525413Z",
     "iopub.status.idle": "2024-07-22T23:53:33.532036Z",
     "shell.execute_reply": "2024-07-22T23:53:33.531468Z",
     "shell.execute_reply.started": "2024-07-22T23:53:33.525572Z"
    }
   },
   "source": [
    "codigo = \"OITEST\"\n",
    "lin_act360 = qcf.QCInterestRate(0.0, act360, lin_wf)\n",
    "fixing_lag = qcf.Tenor(\"0d\")\n",
    "tenor = qcf.Tenor(\"1d\")\n",
    "fixing_calendar = aux.get_business_calendar(\"US\", range(2024, 2035))\n",
    "settlement_calendar = fixing_calendar\n",
    "oitest = qcf.InterestRateIndex(\n",
    "    codigo, \n",
    "    lin_act360, \n",
    "    fixing_lag, \n",
    "    tenor, \n",
    "    fixing_calendar, \n",
    "    settlement_calendar, \n",
    "    usd\n",
    ")"
   ],
   "outputs": [],
   "execution_count": null
  },
  {
   "cell_type": "markdown",
   "metadata": {},
   "source": [
    "Al dar de alta directamente este cashflow es necesario entregar explícitamente las fechas de fijación. En el capítulo relacionado a construcción de `qcf.Leg` veremos cómo este proceso se simplifica."
   ]
  },
  {
   "cell_type": "code",
   "metadata": {
    "execution": {
     "iopub.execute_input": "2024-07-22T23:53:33.533051Z",
     "iopub.status.busy": "2024-07-22T23:53:33.532880Z",
     "iopub.status.idle": "2024-07-22T23:53:33.535976Z",
     "shell.execute_reply": "2024-07-22T23:53:33.535236Z",
     "shell.execute_reply.started": "2024-07-22T23:53:33.533034Z"
    }
   },
   "source": [
    "fixing_dates = qcf.DateList()"
   ],
   "outputs": [],
   "execution_count": null
  },
  {
   "cell_type": "code",
   "metadata": {
    "execution": {
     "iopub.execute_input": "2024-07-22T23:53:33.537251Z",
     "iopub.status.busy": "2024-07-22T23:53:33.537015Z",
     "iopub.status.idle": "2024-07-22T23:53:33.540850Z",
     "shell.execute_reply": "2024-07-22T23:53:33.540213Z",
     "shell.execute_reply.started": "2024-07-22T23:53:33.537233Z"
    }
   },
   "source": [
    "fixing_dates.append(qcf.QCDate(27, 12, 2021))\n",
    "fixing_dates.append(qcf.QCDate(28, 12, 2021))\n",
    "fixing_dates.append(qcf.QCDate(29, 12, 2021))\n",
    "fixing_dates.append(qcf.QCDate(30, 12, 2021))"
   ],
   "outputs": [],
   "execution_count": null
  },
  {
   "cell_type": "markdown",
   "metadata": {},
   "source": [
    "Damos de alta las variables que faltan."
   ]
  },
  {
   "cell_type": "code",
   "metadata": {
    "execution": {
     "iopub.execute_input": "2024-07-22T23:53:33.541746Z",
     "iopub.status.busy": "2024-07-22T23:53:33.541574Z",
     "iopub.status.idle": "2024-07-22T23:53:33.546192Z",
     "shell.execute_reply": "2024-07-22T23:53:33.545538Z",
     "shell.execute_reply.started": "2024-07-22T23:53:33.541728Z"
    }
   },
   "source": [
    "fecha_inicio = qcf.QCDate(27, 12, 2021)\n",
    "fecha_final = qcf.QCDate(31, 12, 2021)\n",
    "fecha_pago = qcf.QCDate(2, 1, 2022)\n",
    "nocional = 10_000_000.0\n",
    "amortizacion = 100_000.0\n",
    "amort_is_cashflow = True\n",
    "notional_currency = qcf.QCUSD()\n",
    "spread = 0.001\n",
    "gearing = 1.5\n",
    "interest_rate = qcf.QCInterestRate(0.0, qcf.QCAct360(), qcf.QCLinearWf())\n",
    "eq_rate_decimal_places = 8"
   ],
   "outputs": [],
   "execution_count": null
  },
  {
   "cell_type": "markdown",
   "metadata": {},
   "source": [
    "Se da de alta el cashflow."
   ]
  },
  {
   "cell_type": "code",
   "metadata": {
    "execution": {
     "iopub.execute_input": "2024-07-22T23:53:33.547338Z",
     "iopub.status.busy": "2024-07-22T23:53:33.547116Z",
     "iopub.status.idle": "2024-07-22T23:53:33.550550Z",
     "shell.execute_reply": "2024-07-22T23:53:33.550050Z",
     "shell.execute_reply.started": "2024-07-22T23:53:33.547320Z"
    }
   },
   "source": [
    "cor_cashflow_2 = qcf.CompoundedOvernightRateCashflow2(\n",
    "    oitest,\n",
    "    fecha_inicio,\n",
    "    fecha_final,\n",
    "    fecha_pago,\n",
    "    fixing_dates,\n",
    "    nocional,\n",
    "    amortizacion,\n",
    "    amort_is_cashflow,\n",
    "    notional_currency,\n",
    "    spread,\n",
    "    gearing,\n",
    "    interest_rate,\n",
    "    eq_rate_decimal_places,\n",
    "    lookback := 0,\n",
    "    lockout := 0,\n",
    ")"
   ],
   "outputs": [],
   "execution_count": null
  },
  {
   "cell_type": "markdown",
   "metadata": {},
   "source": [
    "### Getters"
   ]
  },
  {
   "cell_type": "code",
   "metadata": {
    "execution": {
     "iopub.execute_input": "2024-07-22T23:53:33.551761Z",
     "iopub.status.busy": "2024-07-22T23:53:33.551525Z",
     "iopub.status.idle": "2024-07-22T23:53:33.556389Z",
     "shell.execute_reply": "2024-07-22T23:53:33.555763Z",
     "shell.execute_reply.started": "2024-07-22T23:53:33.551743Z"
    }
   },
   "source": [
    "print(f\"Type of cashflow:\\t\\t{cor_cashflow_2.get_type()}\")\n",
    "print(f\"Fecha Inicio:\\t\\t\\t{cor_cashflow_2.get_start_date()}\")\n",
    "print(f\"Fecha Final:\\t\\t\\t{cor_cashflow_2.get_end_date()}\")\n",
    "print(f\"Fecha Pago:\\t\\t\\t{cor_cashflow_2.get_settlement_date()}\")\n",
    "print(f\"Nocional:\\t\\t\\t{cor_cashflow_2.get_nominal():,.0f}\")\n",
    "print(f\"Amortización:\\t\\t\\t{cor_cashflow_2.get_amortization():,.0f}\")\n",
    "print(f\"Moneda del nocional:\\t\\t{cor_cashflow_2.ccy()}\")\n",
    "print(f\"Spread:\\t\\t\\t\\t{cor_cashflow_2.get_spread():.2%}\")\n",
    "print(f\"Gearing:\\t\\t\\t{cor_cashflow_2.get_gearing():.2f}\")\n",
    "print(f\"Número de decimales de tasa:\\t{cor_cashflow_2.get_eq_rate_decimal_places()}\")"
   ],
   "outputs": [],
   "execution_count": null
  },
  {
   "cell_type": "code",
   "metadata": {
    "execution": {
     "iopub.execute_input": "2024-07-22T23:53:33.557552Z",
     "iopub.status.busy": "2024-07-22T23:53:33.557330Z",
     "iopub.status.idle": "2024-07-22T23:53:33.561292Z",
     "shell.execute_reply": "2024-07-22T23:53:33.560710Z",
     "shell.execute_reply.started": "2024-07-22T23:53:33.557532Z"
    }
   },
   "source": [
    "print(\"Fechas de fijación:\")\n",
    "for d in cor_cashflow_2.get_fixing_dates():\n",
    "    print(d)"
   ],
   "outputs": [],
   "execution_count": null
  },
  {
   "cell_type": "markdown",
   "metadata": {},
   "source": [
    "### Setters"
   ]
  },
  {
   "cell_type": "code",
   "metadata": {
    "execution": {
     "iopub.execute_input": "2024-07-22T23:53:33.562481Z",
     "iopub.status.busy": "2024-07-22T23:53:33.562200Z",
     "iopub.status.idle": "2024-07-22T23:53:33.565446Z",
     "shell.execute_reply": "2024-07-22T23:53:33.564919Z",
     "shell.execute_reply.started": "2024-07-22T23:53:33.562461Z"
    }
   },
   "source": [
    "cor_cashflow_2.set_notional(1_000)\n",
    "print(f\"Nocional: {cor_cashflow_2.get_nominal():,.0f}\")"
   ],
   "outputs": [],
   "execution_count": null
  },
  {
   "cell_type": "code",
   "metadata": {
    "execution": {
     "iopub.execute_input": "2024-07-22T23:53:33.566532Z",
     "iopub.status.busy": "2024-07-22T23:53:33.566322Z",
     "iopub.status.idle": "2024-07-22T23:53:33.569657Z",
     "shell.execute_reply": "2024-07-22T23:53:33.568980Z",
     "shell.execute_reply.started": "2024-07-22T23:53:33.566514Z"
    }
   },
   "source": [
    "cor_cashflow_2.set_amortization(0)\n",
    "print(f\"Amortización: {cor_cashflow_2.get_amortization()}\")"
   ],
   "outputs": [],
   "execution_count": null
  },
  {
   "cell_type": "markdown",
   "metadata": {},
   "source": [
    "Se reversa el ejemplo."
   ]
  },
  {
   "cell_type": "code",
   "metadata": {
    "execution": {
     "iopub.execute_input": "2024-07-22T23:53:33.570545Z",
     "iopub.status.busy": "2024-07-22T23:53:33.570376Z",
     "iopub.status.idle": "2024-07-22T23:53:33.573738Z",
     "shell.execute_reply": "2024-07-22T23:53:33.573026Z",
     "shell.execute_reply.started": "2024-07-22T23:53:33.570527Z"
    }
   },
   "source": [
    "cor_cashflow_2.set_notional(nocional)\n",
    "cor_cashflow_2.set_amortization(amortizacion)"
   ],
   "outputs": [],
   "execution_count": null
  },
  {
   "cell_type": "markdown",
   "metadata": {},
   "source": [
    "### Cálculos"
   ]
  },
  {
   "cell_type": "markdown",
   "metadata": {},
   "source": [
    "El `accrued_fixing` corresponde a la fijación de tasa equivalente en una fecha anterior a la fecha final del cashflow. Para el cálculo de `accrued_fixing` se requiere un objeto de tipo `TimeSeries` que contenga los datos históricos del índice overnight."
   ]
  },
  {
   "cell_type": "code",
   "metadata": {
    "execution": {
     "iopub.execute_input": "2024-07-22T23:53:33.574758Z",
     "iopub.status.busy": "2024-07-22T23:53:33.574581Z",
     "iopub.status.idle": "2024-07-22T23:53:33.577709Z",
     "shell.execute_reply": "2024-07-22T23:53:33.577167Z",
     "shell.execute_reply.started": "2024-07-22T23:53:33.574741Z"
    }
   },
   "source": [
    "ts = qcf.time_series()"
   ],
   "outputs": [],
   "execution_count": null
  },
  {
   "cell_type": "code",
   "metadata": {
    "execution": {
     "iopub.execute_input": "2024-07-22T23:53:33.578914Z",
     "iopub.status.busy": "2024-07-22T23:53:33.578699Z",
     "iopub.status.idle": "2024-07-22T23:53:33.582386Z",
     "shell.execute_reply": "2024-07-22T23:53:33.581866Z",
     "shell.execute_reply.started": "2024-07-22T23:53:33.578895Z"
    }
   },
   "source": [
    "ts[qcf.QCDate(27, 12, 2021)] = 0.01\n",
    "ts[qcf.QCDate(28, 12, 2021)] = 0.02\n",
    "ts[qcf.QCDate(29, 12, 2021)] = 0.03\n",
    "ts[qcf.QCDate(30, 12, 2021)] = 0.04"
   ],
   "outputs": [],
   "execution_count": null
  },
  {
   "cell_type": "code",
   "metadata": {
    "execution": {
     "iopub.execute_input": "2024-07-22T23:53:33.583542Z",
     "iopub.status.busy": "2024-07-22T23:53:33.583306Z",
     "iopub.status.idle": "2024-07-22T23:53:33.586667Z",
     "shell.execute_reply": "2024-07-22T23:53:33.586037Z",
     "shell.execute_reply.started": "2024-07-22T23:53:33.583525Z"
    }
   },
   "source": [
    "print(f\"Accrued fixing: {cor_cashflow_2.accrued_fixing(qcf.QCDate(29, 12, 2021), ts):.6%}\")"
   ],
   "outputs": [],
   "execution_count": null
  },
  {
   "cell_type": "code",
   "metadata": {
    "execution": {
     "iopub.execute_input": "2024-07-22T23:53:33.587681Z",
     "iopub.status.busy": "2024-07-22T23:53:33.587455Z",
     "iopub.status.idle": "2024-07-22T23:53:33.591257Z",
     "shell.execute_reply": "2024-07-22T23:53:33.590560Z",
     "shell.execute_reply.started": "2024-07-22T23:53:33.587664Z"
    }
   },
   "source": [
    "check = ((1 + 0.01 / 360) * (1 + 0.02 / 360.0) - 1) * 360 / 2.0\n",
    "print(f\"Check: {check:.6%}\")"
   ],
   "outputs": [],
   "execution_count": null
  },
  {
   "cell_type": "markdown",
   "metadata": {},
   "source": [
    "El `accrued_interest` corresponde a los intereses devengados en una fecha anterior a la fecha final del cashflow. Para el cálculo de `accrued_interest` también se requiere un objeto de tipo `TimeSeries` que contenga los datos históricos del índice overnight."
   ]
  },
  {
   "cell_type": "code",
   "metadata": {
    "execution": {
     "iopub.execute_input": "2024-07-22T23:53:33.592637Z",
     "iopub.status.busy": "2024-07-22T23:53:33.592064Z",
     "iopub.status.idle": "2024-07-22T23:53:33.595685Z",
     "shell.execute_reply": "2024-07-22T23:53:33.595119Z",
     "shell.execute_reply.started": "2024-07-22T23:53:33.592615Z"
    }
   },
   "source": [
    "print(f\"Accrued interest: {cor_cashflow_2.accrued_interest(qcf.QCDate(29, 12, 2021), ts):,.2f}\")"
   ],
   "outputs": [],
   "execution_count": null
  },
  {
   "cell_type": "code",
   "metadata": {
    "execution": {
     "iopub.execute_input": "2024-07-22T23:53:33.596773Z",
     "iopub.status.busy": "2024-07-22T23:53:33.596528Z",
     "iopub.status.idle": "2024-07-22T23:53:33.600347Z",
     "shell.execute_reply": "2024-07-22T23:53:33.599757Z",
     "shell.execute_reply.started": "2024-07-22T23:53:33.596754Z"
    }
   },
   "source": [
    "check = (\n",
    "    cor_cashflow_2.get_nominal()\n",
    "    * (cor_cashflow_2.accrued_fixing(qcf.QCDate(29, 12, 2021), ts) * gearing + spread) * 2 / 360.0\n",
    ")\n",
    "print(f\"Check: {check:,.2f}\")"
   ],
   "outputs": [],
   "execution_count": null
  },
  {
   "cell_type": "markdown",
   "metadata": {},
   "source": [
    "Para que el método `amount` retorne el resultado correcto, es necesario ejecutar primero el método `fixings` que realiza la fijación de todas las tasas overnight necesarias."
   ]
  },
  {
   "cell_type": "code",
   "metadata": {
    "execution": {
     "iopub.execute_input": "2024-07-22T23:53:33.601423Z",
     "iopub.status.busy": "2024-07-22T23:53:33.601194Z",
     "iopub.status.idle": "2024-07-22T23:53:33.604345Z",
     "shell.execute_reply": "2024-07-22T23:53:33.603865Z",
     "shell.execute_reply.started": "2024-07-22T23:53:33.601406Z"
    }
   },
   "source": [
    "fixing = cor_cashflow_2.fixing(ts)\n",
    "print(f\"Fixing: {fixing:.6%}\")"
   ],
   "outputs": [],
   "execution_count": null
  },
  {
   "cell_type": "markdown",
   "metadata": {},
   "source": [
    "De esa forma."
   ]
  },
  {
   "cell_type": "code",
   "metadata": {
    "execution": {
     "iopub.execute_input": "2024-07-22T23:53:33.605624Z",
     "iopub.status.busy": "2024-07-22T23:53:33.605400Z",
     "iopub.status.idle": "2024-07-22T23:53:33.608902Z",
     "shell.execute_reply": "2024-07-22T23:53:33.608225Z",
     "shell.execute_reply.started": "2024-07-22T23:53:33.605603Z"
    }
   },
   "source": [
    "print(f\"Amount: {cor_cashflow_2.amount():,.2f}\")"
   ],
   "outputs": [],
   "execution_count": null
  },
  {
   "cell_type": "code",
   "metadata": {
    "execution": {
     "iopub.execute_input": "2024-07-22T23:53:33.610025Z",
     "iopub.status.busy": "2024-07-22T23:53:33.609781Z",
     "iopub.status.idle": "2024-07-22T23:53:33.613361Z",
     "shell.execute_reply": "2024-07-22T23:53:33.612852Z",
     "shell.execute_reply.started": "2024-07-22T23:53:33.610007Z"
    }
   },
   "source": [
    "check = ((1 + 0.01 / 360) * (1 + 0.02 / 360.0) * (1 + 0.03 / 360.0) * (1 + 0.04 / 360.0) - 1) * 360 / 4.0\n",
    "print(f\"Check: {nocional * (check * gearing + spread) * 4 / 360 + amortizacion:,.2f}\")"
   ],
   "outputs": [],
   "execution_count": null
  },
  {
   "cell_type": "markdown",
   "metadata": {},
   "source": [
    "Se puede calcular el interés que depende del spread."
   ]
  },
  {
   "cell_type": "code",
   "metadata": {
    "execution": {
     "iopub.execute_input": "2024-07-22T23:53:33.614371Z",
     "iopub.status.busy": "2024-07-22T23:53:33.614206Z",
     "iopub.status.idle": "2024-07-22T23:53:33.617340Z",
     "shell.execute_reply": "2024-07-22T23:53:33.616862Z",
     "shell.execute_reply.started": "2024-07-22T23:53:33.614354Z"
    }
   },
   "source": [
    "print(f\"Interés del spread: {cor_cashflow_2.interest_from_spread():,.2f}\")"
   ],
   "outputs": [],
   "execution_count": null
  },
  {
   "cell_type": "code",
   "metadata": {
    "execution": {
     "iopub.execute_input": "2024-07-22T23:53:33.618432Z",
     "iopub.status.busy": "2024-07-22T23:53:33.618233Z",
     "iopub.status.idle": "2024-07-22T23:53:33.621380Z",
     "shell.execute_reply": "2024-07-22T23:53:33.620873Z",
     "shell.execute_reply.started": "2024-07-22T23:53:33.618415Z"
    }
   },
   "source": [
    "print(f\"Check: {nocional * spread * 4 / 360:,.2f}\")"
   ],
   "outputs": [],
   "execution_count": null
  },
  {
   "cell_type": "markdown",
   "metadata": {
    "execution": {
     "iopub.status.busy": "2024-06-08T12:16:03.982891Z",
     "iopub.status.idle": "2024-06-08T12:16:03.983354Z",
     "shell.execute_reply": "2024-06-08T12:16:03.983197Z",
     "shell.execute_reply.started": "2024-06-08T12:16:03.983182Z"
    }
   },
   "source": [
    "### Funciones `show` y `get_column_names`"
   ]
  },
  {
   "cell_type": "code",
   "metadata": {
    "execution": {
     "iopub.execute_input": "2024-07-22T23:53:33.622601Z",
     "iopub.status.busy": "2024-07-22T23:53:33.622327Z",
     "iopub.status.idle": "2024-07-22T23:53:33.630615Z",
     "shell.execute_reply": "2024-07-22T23:53:33.630038Z",
     "shell.execute_reply.started": "2024-07-22T23:53:33.622548Z"
    }
   },
   "source": [
    "df = pd.DataFrame(\n",
    "    [qcf.show(cor_cashflow_2)], \n",
    "    columns=qcf.get_column_names(\"CompoundedOvernightRateCashflow2\", \"\")\n",
    ")\n",
    "df.style.format(aux.format_dict)"
   ],
   "outputs": [],
   "execution_count": null
  },
  {
   "cell_type": "markdown",
   "metadata": {},
   "source": [
    "## Compounded Overnight Rate Multi Currency Cashflow 2"
   ]
  },
  {
   "cell_type": "markdown",
   "metadata": {},
   "source": [
    "Un objeto de tipo `CompoundedOvernightRateMultiCurrencyCashflow2` representa un flujo de caja calculado como un cupón de la pata flotante de un OIS sobre cualquier índice overnight (SOFR, FF, EONIA) con la característica adicional de liquidar sus flujos en una moneda distina a la del nocional. Para dar de alta uno de estos objetos se requiere:\n",
    "\n",
    "- `InterestRateIndex`: el índice de tasa de interés prefijado\n",
    "- `QCDate`: fecha inicio (para la aplicación de la tasa)\n",
    "- `QCDate`: fecha final (para la aplicación de la tasa)\n",
    "- `QCDate`: fecha de pago\n",
    "- `DateList`: fechas de fixing del índice\n",
    "- `float`: nominal (monto al que se le aplica la tasa)\n",
    "- `float`: amortización (eventual flujo de caja que corresponde a una porción del nominal)\n",
    "- `bool`: indica si la amortización anterior es un flujo de caja o sólo una disminución de nominal\n",
    "- `QCCurrency`: moneda del nocional de la operación\n",
    "- `float`: spread aditivo a aplicar a la fijación de la tasa equivalente\n",
    "- `float`: spread multiplicativo o gearing a aplicar a la fijación de la tasa equivalente\n",
    "- `QCInterestRate`: permite especificar cuál es la convención de cálculo de la tasa equivalente\n",
    "- `unsigned int`: número de decimales a usar en el cálculo de la tasa equivalente. Por ejemplo para 0.12345678% este valor debe ser 10.\n",
    "- `unsigned int`: número de días de lookback\n",
    "- `unsigned int`: número de días de lockout\n",
    "\n",
    "Estos argumentos son los heredados de un `CompoundedOvernightRateCashflow`. También en este caso, el efecto de lookback y lockout aún no está implementado.\n",
    "\n",
    "A estos argumentos se debe agregar:\n",
    "\n",
    "- `QCDate`: fecha de fixing del índice de tipo de cambio. Esta fecha se refiere a la fecha de publicación del índice, no a la fecha de fixing en sentido financiero.\n",
    "- `QCCurrency`: moneda de pago de los flujos de caja\n",
    "- `FXRateIndex`: índice de tipo de cambio utilizado para la conversión de los flujos a moneda de pago"
   ]
  },
  {
   "cell_type": "markdown",
   "metadata": {},
   "source": [
    "### Constructor"
   ]
  },
  {
   "cell_type": "markdown",
   "metadata": {},
   "source": [
    "Se da de alta un índice overnight ficiticio de test."
   ]
  },
  {
   "cell_type": "code",
   "metadata": {
    "execution": {
     "iopub.execute_input": "2024-07-22T23:53:33.631779Z",
     "iopub.status.busy": "2024-07-22T23:53:33.631506Z",
     "iopub.status.idle": "2024-07-22T23:53:33.635594Z",
     "shell.execute_reply": "2024-07-22T23:53:33.635059Z",
     "shell.execute_reply.started": "2024-07-22T23:53:33.631759Z"
    }
   },
   "source": [
    "codigo = \"OITEST\"\n",
    "lin_act360 = qcf.QCInterestRate(0.0, act360, lin_wf)\n",
    "fixing_lag = qcf.Tenor(\"0d\")\n",
    "tenor = qcf.Tenor(\"1d\")\n",
    "fixing_calendar = scl\n",
    "settlement_calendar = scl\n",
    "oitest = qcf.InterestRateIndex(\n",
    "    codigo, \n",
    "    lin_act360, \n",
    "    fixing_lag, \n",
    "    tenor, \n",
    "    fixing_calendar, \n",
    "    settlement_calendar, \n",
    "    usd\n",
    ")"
   ],
   "outputs": [],
   "execution_count": null
  },
  {
   "cell_type": "markdown",
   "metadata": {},
   "source": [
    "Al dar de alta directamente este cashflow es necesario entregar explícitamente las fechas de fijación. En el capítulo relacionado a construcción de `qcf.Leg` veremos cómo este proceso se simplifica."
   ]
  },
  {
   "cell_type": "code",
   "metadata": {
    "execution": {
     "iopub.execute_input": "2024-07-22T23:53:33.636564Z",
     "iopub.status.busy": "2024-07-22T23:53:33.636389Z",
     "iopub.status.idle": "2024-07-22T23:53:33.639319Z",
     "shell.execute_reply": "2024-07-22T23:53:33.638766Z",
     "shell.execute_reply.started": "2024-07-22T23:53:33.636547Z"
    }
   },
   "source": [
    "fixing_dates = qcf.DateList()"
   ],
   "outputs": [],
   "execution_count": null
  },
  {
   "cell_type": "code",
   "metadata": {
    "execution": {
     "iopub.execute_input": "2024-07-22T23:53:33.640417Z",
     "iopub.status.busy": "2024-07-22T23:53:33.640216Z",
     "iopub.status.idle": "2024-07-22T23:53:33.643909Z",
     "shell.execute_reply": "2024-07-22T23:53:33.643384Z",
     "shell.execute_reply.started": "2024-07-22T23:53:33.640399Z"
    }
   },
   "source": [
    "fixing_dates.append(qcf.QCDate(27, 12, 2021))\n",
    "fixing_dates.append(qcf.QCDate(28, 12, 2021))\n",
    "fixing_dates.append(qcf.QCDate(29, 12, 2021))\n",
    "fixing_dates.append(qcf.QCDate(30, 12, 2021))"
   ],
   "outputs": [],
   "execution_count": null
  },
  {
   "cell_type": "markdown",
   "metadata": {},
   "source": [
    "Damos de alta las variables que faltan."
   ]
  },
  {
   "cell_type": "code",
   "metadata": {
    "execution": {
     "iopub.execute_input": "2024-07-22T23:53:33.644910Z",
     "iopub.status.busy": "2024-07-22T23:53:33.644738Z",
     "iopub.status.idle": "2024-07-22T23:53:33.649074Z",
     "shell.execute_reply": "2024-07-22T23:53:33.648441Z",
     "shell.execute_reply.started": "2024-07-22T23:53:33.644892Z"
    }
   },
   "source": [
    "fecha_inicio = qcf.QCDate(27, 12, 2021)\n",
    "fecha_final = qcf.QCDate(31, 12, 2021)\n",
    "fecha_pago = qcf.QCDate(2, 1, 2022)\n",
    "nocional = 10_000_000.0\n",
    "amortizacion = 100_000.0\n",
    "amort_is_cashflow = True\n",
    "notional_currency = qcf.QCUSD()\n",
    "spread = 0.001\n",
    "gearing = 1.5\n",
    "interest_rate = qcf.QCInterestRate(0.0, qcf.QCAct360(), qcf.QCLinearWf())\n",
    "eq_rate_decimal_places = 8\n",
    "# ---------------------Para el MultiCurrency ----------------------------\n",
    "fecha_fixing_fx = fecha_pago\n",
    "moneda_pago = qcf.QCCLP()"
   ],
   "outputs": [],
   "execution_count": null
  },
  {
   "cell_type": "markdown",
   "metadata": {},
   "source": [
    "Se da de alta el objeto."
   ]
  },
  {
   "cell_type": "code",
   "metadata": {
    "execution": {
     "iopub.execute_input": "2024-07-22T23:53:33.649984Z",
     "iopub.status.busy": "2024-07-22T23:53:33.649813Z",
     "iopub.status.idle": "2024-07-22T23:53:33.653345Z",
     "shell.execute_reply": "2024-07-22T23:53:33.652811Z",
     "shell.execute_reply.started": "2024-07-22T23:53:33.649967Z"
    }
   },
   "source": [
    "cor_cashflow_mccy_2 = qcf.CompoundedOvernightRateMultiCurrencyCashflow2(\n",
    "    oitest,\n",
    "    fecha_inicio,\n",
    "    fecha_final,\n",
    "    fecha_pago,\n",
    "    fixing_dates,\n",
    "    nocional,\n",
    "    amortizacion,\n",
    "    amort_is_cashflow,\n",
    "    notional_currency,\n",
    "    spread,\n",
    "    gearing,\n",
    "    interest_rate,\n",
    "    eq_rate_decimal_places,\n",
    "    lookback,\n",
    "    lockout,\n",
    "    fecha_fixing_fx,\n",
    "    moneda_pago,\n",
    "    usdclp_obs,\n",
    ")"
   ],
   "outputs": [],
   "execution_count": null
  },
  {
   "cell_type": "markdown",
   "metadata": {},
   "source": [
    "### Nuevos Getters"
   ]
  },
  {
   "cell_type": "code",
   "metadata": {
    "execution": {
     "iopub.execute_input": "2024-07-22T23:53:33.654313Z",
     "iopub.status.busy": "2024-07-22T23:53:33.654146Z",
     "iopub.status.idle": "2024-07-22T23:53:33.657834Z",
     "shell.execute_reply": "2024-07-22T23:53:33.657272Z",
     "shell.execute_reply.started": "2024-07-22T23:53:33.654295Z"
    }
   },
   "source": [
    "print(f\"Fx Rate Index: {cor_cashflow_mccy_2.get_fx_rate_index()}\")\n",
    "print(f\"Fx Rate Index Value: {cor_cashflow_mccy_2.get_fx_rate_index_value()}\")\n",
    "print(f\"Fx Rate Index Code: {cor_cashflow_mccy_2.get_fx_rate_index_code()}\")\n",
    "print(f\"Fx Rate Index Fxing Date: {cor_cashflow_mccy_2.get_fx_rate_index_fixing_date()}\")"
   ],
   "outputs": [],
   "execution_count": null
  },
  {
   "cell_type": "markdown",
   "metadata": {},
   "source": [
    "### Nuevo Setter"
   ]
  },
  {
   "cell_type": "code",
   "metadata": {
    "execution": {
     "iopub.execute_input": "2024-07-22T23:53:33.659024Z",
     "iopub.status.busy": "2024-07-22T23:53:33.658776Z",
     "iopub.status.idle": "2024-07-22T23:53:33.662189Z",
     "shell.execute_reply": "2024-07-22T23:53:33.661615Z",
     "shell.execute_reply.started": "2024-07-22T23:53:33.659005Z"
    }
   },
   "source": [
    "cor_cashflow_mccy_2.set_fx_rate_index_value(900.0)\n",
    "print(f\"Fx Rate Index Value: {cor_cashflow_mccy_2.get_fx_rate_index_value()}\")"
   ],
   "outputs": [],
   "execution_count": null
  },
  {
   "cell_type": "markdown",
   "metadata": {},
   "source": [
    "### Nuevos Cálculos"
   ]
  },
  {
   "cell_type": "code",
   "metadata": {
    "execution": {
     "iopub.execute_input": "2024-07-22T23:53:33.663097Z",
     "iopub.status.busy": "2024-07-22T23:53:33.662926Z",
     "iopub.status.idle": "2024-07-22T23:53:33.666312Z",
     "shell.execute_reply": "2024-07-22T23:53:33.665729Z",
     "shell.execute_reply.started": "2024-07-22T23:53:33.663080Z"
    }
   },
   "source": [
    "print(f\"Interest: {cor_cashflow_mccy_2.interest(ts):,.2f}\")"
   ],
   "outputs": [],
   "execution_count": null
  },
  {
   "cell_type": "code",
   "metadata": {
    "editable": true,
    "execution": {
     "iopub.execute_input": "2024-07-22T23:53:33.667276Z",
     "iopub.status.busy": "2024-07-22T23:53:33.667074Z",
     "iopub.status.idle": "2024-07-22T23:53:33.670270Z",
     "shell.execute_reply": "2024-07-22T23:53:33.669744Z",
     "shell.execute_reply.started": "2024-07-22T23:53:33.667259Z"
    },
    "slideshow": {
     "slide_type": ""
    },
    "tags": []
   },
   "source": [
    "print(f\"To settlement currency: {cor_cashflow_mccy_2.to_settlement_currency(cor_cashflow_mccy_2.interest(ts)):,.0f}\")"
   ],
   "outputs": [],
   "execution_count": null
  },
  {
   "cell_type": "markdown",
   "metadata": {},
   "source": [
    "### Funciones `show` y `get_column_names`"
   ]
  },
  {
   "cell_type": "code",
   "metadata": {
    "execution": {
     "iopub.execute_input": "2024-07-22T23:53:33.671401Z",
     "iopub.status.busy": "2024-07-22T23:53:33.671185Z",
     "iopub.status.idle": "2024-07-22T23:53:33.680316Z",
     "shell.execute_reply": "2024-07-22T23:53:33.679805Z",
     "shell.execute_reply.started": "2024-07-22T23:53:33.671381Z"
    }
   },
   "source": [
    "df = pd.DataFrame(\n",
    "    [qcf.show(cor_cashflow_mccy_2)],\n",
    "    columns=qcf.get_column_names(\"CompoundedOvernightRateMultiCurrencyCashflow2\", \"\")\n",
    ")\n",
    "df.style.format(aux.format_dict)"
   ],
   "outputs": [],
   "execution_count": null
  },
  {
   "cell_type": "markdown",
   "metadata": {},
   "source": [
    "## Icp Clf Cashflow"
   ]
  },
  {
   "cell_type": "markdown",
   "metadata": {},
   "source": [
    "Un objeto de tipo `IcpClfCashflow` representa un flujo de caja calculado como un cupón de la pata flotante de un swap ICP (cámara promedio) en UF de Chile. Para dar de alta uno de estos objetos se requiere:\n",
    "\n",
    "- `QCDate`: fecha inicio (para la aplicación de la tasa)\n",
    "- `QCDate`: fecha final (para la aplicación de la tasa)\n",
    "- `QCDate`: fecha de pago\n",
    "- `float`: nominal (monto al que se le aplica la tasa)\n",
    "- `float`: amortización (eventual flujo de caja que corresponde a una porción del nominal)\n",
    "- `bool`: indica si la amortización anterior es un flujo de caja o sólo una disminución de nominal\n",
    "- `float`: spread aditivo a aplicar a la fijación de la TRA\n",
    "- `float`: spread multiplicativo o gearing a aplicar a la fijación de la TRA\n",
    "- `vector<float>`: objeto `double_vec` (en Python) que contiene ICP Inicio, ICP Final, UF Inicio, UF Final (se debe respetar el orden)\n",
    "\n",
    "Recordar que TRA significa **Tasa Real Anual** y se determina utilizando los valores del índice ICP y los valores de la UF en la fecha de inicio y fecha final del `IcpClfCashflow`."
   ]
  },
  {
   "cell_type": "markdown",
   "metadata": {},
   "source": [
    "### Constructor"
   ]
  },
  {
   "cell_type": "markdown",
   "metadata": {},
   "source": [
    "Parámetros iniciales."
   ]
  },
  {
   "cell_type": "code",
   "metadata": {
    "execution": {
     "iopub.execute_input": "2024-07-22T23:53:33.681400Z",
     "iopub.status.busy": "2024-07-22T23:53:33.681152Z",
     "iopub.status.idle": "2024-07-22T23:53:33.685413Z",
     "shell.execute_reply": "2024-07-22T23:53:33.684860Z",
     "shell.execute_reply.started": "2024-07-22T23:53:33.681381Z"
    }
   },
   "source": [
    "fecha_inicio = qcf.QCDate(20, 9, 2018)\n",
    "fecha_final = qcf.QCDate(20, 9, 2019)\n",
    "fecha_pago = qcf.QCDate(23, 9, 2019)\n",
    "nominal = 300_000.0\n",
    "amort = 100_000.0\n",
    "spread = 0.0\n",
    "gearing = 1.0\n",
    "\n",
    "icp_uf = qcf.double_vec()\n",
    "# Los primeros dos valores corresponden a icp_inicial e icp_final.\n",
    "# Los segundos dos valores corresponden a uf_inicial y uf_final\n",
    "icp_uf.append(10_000.0)\n",
    "icp_uf.append(10_250.0)\n",
    "icp_uf.append(35_000.0)\n",
    "icp_uf.append(35_500.0)"
   ],
   "outputs": [],
   "execution_count": null
  },
  {
   "cell_type": "markdown",
   "metadata": {},
   "source": [
    "Alta del objeto."
   ]
  },
  {
   "cell_type": "code",
   "metadata": {
    "execution": {
     "iopub.execute_input": "2024-07-22T23:53:33.686547Z",
     "iopub.status.busy": "2024-07-22T23:53:33.686304Z",
     "iopub.status.idle": "2024-07-22T23:53:33.689707Z",
     "shell.execute_reply": "2024-07-22T23:53:33.688992Z",
     "shell.execute_reply.started": "2024-07-22T23:53:33.686530Z"
    }
   },
   "source": [
    "icp_clf_cashflow = qcf.IcpClfCashflow(\n",
    "    fecha_inicio, \n",
    "    fecha_final, \n",
    "    fecha_pago, \n",
    "    nominal, \n",
    "    amort, \n",
    "    True, \n",
    "    spread, \n",
    "    gearing, \n",
    "    icp_uf\n",
    ")"
   ],
   "outputs": [],
   "execution_count": null
  },
  {
   "cell_type": "markdown",
   "metadata": {},
   "source": [
    "### Getters"
   ]
  },
  {
   "cell_type": "code",
   "metadata": {
    "execution": {
     "iopub.execute_input": "2024-07-22T23:53:33.690747Z",
     "iopub.status.busy": "2024-07-22T23:53:33.690578Z",
     "iopub.status.idle": "2024-07-22T23:53:33.696948Z",
     "shell.execute_reply": "2024-07-22T23:53:33.696300Z",
     "shell.execute_reply.started": "2024-07-22T23:53:33.690730Z"
    }
   },
   "source": [
    "print(\"Fecha Inicio:\", icp_clf_cashflow.get_start_date())\n",
    "print(\"Fecha Final:\", icp_clf_cashflow.get_end_date())\n",
    "\n",
    "print(f\"ICP Fecha Inicio: {icp_clf_cashflow.get_start_date_icp():,.2f}\")\n",
    "print(f\"ICP Fecha Final: {icp_clf_cashflow.get_end_date_icp():,.2f}\")\n",
    "\n",
    "print(f\"UF Fecha Inicio: {icp_clf_cashflow.get_start_date_uf():,.2f}\")\n",
    "print(f\"UF Fecha Final: {icp_clf_cashflow.get_end_date_uf():,.2f}\")\n",
    "\n",
    "print(f\"Valor TRA Todo el Período: {icp_clf_cashflow.get_rate_value():.4%}\")\n",
    "tna = icp_clf_cashflow.get_tna(fecha_final, 10_250.0)\n",
    "dias = fecha_inicio.day_diff(fecha_final)\n",
    "tra = ((1 + tna * dias / 360.0) * icp_uf[2]/ icp_uf[3] - 1) * 360.0 / dias\n",
    "print(f\"Check TRA: {round(tra, 6):.4%}\")\n",
    "\n",
    "print(f\"Nominal: {icp_clf_cashflow.get_nominal():,.0f}\")\n",
    "print(f\"Amortización: {icp_clf_cashflow.get_amortization():,.0f}\")\n",
    "print(\"Tipo de Tasa:\", icp_clf_cashflow.get_type_of_rate())\n",
    "print(\"Moneda:\", icp_clf_cashflow.ccy())"
   ],
   "outputs": [],
   "execution_count": null
  },
  {
   "cell_type": "markdown",
   "metadata": {},
   "source": [
    "### Setters"
   ]
  },
  {
   "cell_type": "code",
   "metadata": {
    "execution": {
     "iopub.execute_input": "2024-07-22T23:53:33.697878Z",
     "iopub.status.busy": "2024-07-22T23:53:33.697703Z",
     "iopub.status.idle": "2024-07-22T23:53:33.703082Z",
     "shell.execute_reply": "2024-07-22T23:53:33.702425Z",
     "shell.execute_reply.started": "2024-07-22T23:53:33.697860Z"
    }
   },
   "source": [
    "decimales_para_tra = 8\n",
    "icp_clf_cashflow.set_tra_decimal_places(decimales_para_tra)\n",
    "print(f\"Nueva TRA: {icp_clf_cashflow.get_rate_value():.6%}\")\n",
    "\n",
    "nuevo_nominal = 100_000.0\n",
    "icp_clf_cashflow.set_nominal(nuevo_nominal)\n",
    "print(f\"Nuevo Nominal: {icp_clf_cashflow.get_nominal():,.0f}\")\n",
    "\n",
    "nueva_amortizacion = 10_000.0\n",
    "icp_clf_cashflow.set_amortization(nueva_amortizacion)\n",
    "print(f\"Nueva Amortización: {icp_clf_cashflow.get_amortization():,.0f}\")\n",
    "\n",
    "nuevo_icp_inicio = 20_000.0\n",
    "icp_clf_cashflow.set_start_date_icp(nuevo_icp_inicio)\n",
    "print(f\"Nuevo ICP Inicio: {icp_clf_cashflow.get_start_date_icp():,.2f}\")\n",
    "\n",
    "nuevo_icp_final = 20_500.0\n",
    "icp_clf_cashflow.set_end_date_icp(nuevo_icp_final)\n",
    "print(f\"Nuevo ICP Final: {icp_clf_cashflow.get_end_date_icp():,.2f}\")\n",
    "print(f\"Check TNA Final: {icp_clf_cashflow.get_tna(fecha_final, nuevo_icp_final):.6%}\")"
   ],
   "outputs": [],
   "execution_count": null
  },
  {
   "cell_type": "markdown",
   "metadata": {},
   "source": [
    "### Funciones `show` y `get_column_names`"
   ]
  },
  {
   "cell_type": "code",
   "metadata": {
    "execution": {
     "iopub.execute_input": "2024-07-22T23:53:33.704154Z",
     "iopub.status.busy": "2024-07-22T23:53:33.703900Z",
     "iopub.status.idle": "2024-07-22T23:53:33.712330Z",
     "shell.execute_reply": "2024-07-22T23:53:33.711776Z",
     "shell.execute_reply.started": "2024-07-22T23:53:33.704133Z"
    }
   },
   "source": [
    "df = pd.DataFrame([qcf.show(icp_clf_cashflow)], columns=qcf.get_column_names(\"IcpClfCashflow\", \"\"))\n",
    "df.style.format(aux.format_dict)"
   ],
   "outputs": [],
   "execution_count": null
  }
 ],
 "metadata": {
  "hide_input": false,
  "kernelspec": {
   "display_name": "Python 3 (ipykernel)",
   "language": "python",
   "name": "python3"
  },
  "language_info": {
   "codemirror_mode": {
    "name": "ipython",
    "version": 3
   },
   "file_extension": ".py",
   "mimetype": "text/x-python",
   "name": "python",
   "nbconvert_exporter": "python",
   "pygments_lexer": "ipython3",
   "version": "3.11.5"
  },
  "toc": {
   "base_numbering": 1,
   "nav_menu": {},
   "number_sections": true,
   "sideBar": true,
   "skip_h1_title": true,
   "title_cell": "Table of Contents",
   "title_sidebar": "Contenido",
   "toc_cell": false,
   "toc_position": {
    "height": "675.455px",
    "left": "284px",
    "top": "282.284px",
    "width": "235px"
   },
   "toc_section_display": true,
   "toc_window_display": true
  },
  "varInspector": {
   "cols": {
    "lenName": 16,
    "lenType": 16,
    "lenVar": 40
   },
   "kernels_config": {
    "python": {
     "delete_cmd_postfix": "",
     "delete_cmd_prefix": "del ",
     "library": "var_list.py",
     "varRefreshCmd": "print(var_dic_list())"
    },
    "r": {
     "delete_cmd_postfix": ") ",
     "delete_cmd_prefix": "rm(",
     "library": "var_list.r",
     "varRefreshCmd": "cat(var_dic_list()) "
    }
   },
   "types_to_exclude": [
    "module",
    "function",
    "builtin_function_or_method",
    "instance",
    "_Feature"
   ],
   "window_display": false
  }
 },
 "nbformat": 4,
 "nbformat_minor": 4
}
