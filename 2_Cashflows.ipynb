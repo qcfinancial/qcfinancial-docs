{
 "cells": [
  {
   "cell_type": "markdown",
   "metadata": {
    "editable": true,
    "slideshow": {
     "slide_type": "slide"
    },
    "tags": []
   },
   "source": [
    "# Cashflows"
   ]
  },
  {
   "cell_type": "markdown",
   "metadata": {
    "editable": true,
    "slideshow": {
     "slide_type": "slide"
    },
    "tags": []
   },
   "source": [
    "Para ejecutar todos los ejemplos se debe importar la librería. Se sugiere utilizar siempre el alias `qcf`. "
   ]
  },
  {
   "cell_type": "code",
   "execution_count": 1,
   "metadata": {
    "ExecuteTime": {
     "end_time": "2022-01-21T13:43:01.933321Z",
     "start_time": "2022-01-21T13:43:01.913344Z"
    },
    "editable": true,
    "execution": {
     "iopub.execute_input": "2024-07-20T21:15:58.997815Z",
     "iopub.status.busy": "2024-07-20T21:15:58.997519Z",
     "iopub.status.idle": "2024-07-20T21:15:59.553350Z",
     "shell.execute_reply": "2024-07-20T21:15:59.552565Z",
     "shell.execute_reply.started": "2024-07-20T21:15:58.997781Z"
    },
    "slideshow": {
     "slide_type": "fragment"
    },
    "tags": []
   },
   "outputs": [],
   "source": [
    "import qcfinancial as qcf\n",
    "import aux_functions as aux\n",
    "import pandas as pd"
   ]
  },
  {
   "cell_type": "code",
   "execution_count": 2,
   "metadata": {
    "execution": {
     "iopub.execute_input": "2024-07-20T21:15:59.554829Z",
     "iopub.status.busy": "2024-07-20T21:15:59.554361Z",
     "iopub.status.idle": "2024-07-20T21:15:59.562812Z",
     "shell.execute_reply": "2024-07-20T21:15:59.562022Z",
     "shell.execute_reply.started": "2024-07-20T21:15:59.554803Z"
    }
   },
   "outputs": [
    {
     "data": {
      "text/plain": [
       "'version: 0.12.1, build: 2024-07-20 15:45'"
      ]
     },
     "execution_count": 2,
     "metadata": {},
     "output_type": "execute_result"
    }
   ],
   "source": [
    "qcf.id()"
   ]
  },
  {
   "cell_type": "markdown",
   "metadata": {
    "editable": true,
    "slideshow": {
     "slide_type": "slide"
    },
    "tags": []
   },
   "source": [
    "## Simple Cashflow"
   ]
  },
  {
   "cell_type": "markdown",
   "metadata": {
    "editable": true,
    "slideshow": {
     "slide_type": "fragment"
    },
    "tags": []
   },
   "source": [
    "Un objeto de tipo `SimpleCashflow` representa un flujo de caja cierto en una fecha y moneda. Para instanciar un objeto de este tipo se requiere:\n",
    "\n",
    "- `QCDate`: fecha del flujo\n",
    "- `float`: monto del flujo\n",
    "- `QCCurrency`: moneda del flujo"
   ]
  },
  {
   "cell_type": "markdown",
   "metadata": {
    "editable": true,
    "slideshow": {
     "slide_type": "slide"
    },
    "tags": []
   },
   "source": [
    "Veamos un ejemplo. Primero se define los parámetros."
   ]
  },
  {
   "cell_type": "code",
   "execution_count": 3,
   "metadata": {
    "ExecuteTime": {
     "end_time": "2022-01-21T13:43:02.463874Z",
     "start_time": "2022-01-21T13:43:02.449912Z"
    },
    "editable": true,
    "execution": {
     "iopub.execute_input": "2024-07-20T21:15:59.564360Z",
     "iopub.status.busy": "2024-07-20T21:15:59.563860Z",
     "iopub.status.idle": "2024-07-20T21:15:59.567932Z",
     "shell.execute_reply": "2024-07-20T21:15:59.567212Z",
     "shell.execute_reply.started": "2024-07-20T21:15:59.564336Z"
    },
    "slideshow": {
     "slide_type": "fragment"
    },
    "tags": []
   },
   "outputs": [],
   "source": [
    "fecha1 = qcf.QCDate(24, 8, 2024)\n",
    "monto = 1_000_000\n",
    "clp = qcf.QCCLP()"
   ]
  },
  {
   "cell_type": "markdown",
   "metadata": {
    "editable": true,
    "slideshow": {
     "slide_type": "slide"
    },
    "tags": []
   },
   "source": [
    "Luego, se instancia el objeto."
   ]
  },
  {
   "cell_type": "code",
   "execution_count": 4,
   "metadata": {
    "editable": true,
    "execution": {
     "iopub.execute_input": "2024-07-20T21:15:59.569081Z",
     "iopub.status.busy": "2024-07-20T21:15:59.568712Z",
     "iopub.status.idle": "2024-07-20T21:15:59.572741Z",
     "shell.execute_reply": "2024-07-20T21:15:59.572100Z",
     "shell.execute_reply.started": "2024-07-20T21:15:59.569053Z"
    },
    "slideshow": {
     "slide_type": "fragment"
    },
    "tags": []
   },
   "outputs": [],
   "source": [
    "simple_cashflow = qcf.SimpleCashflow(\n",
    "    fecha1, \n",
    "    monto, \n",
    "    clp,\n",
    ")"
   ]
  },
  {
   "cell_type": "code",
   "execution_count": 5,
   "metadata": {
    "editable": true,
    "execution": {
     "iopub.execute_input": "2024-07-20T21:15:59.574127Z",
     "iopub.status.busy": "2024-07-20T21:15:59.573837Z",
     "iopub.status.idle": "2024-07-20T21:15:59.578308Z",
     "shell.execute_reply": "2024-07-20T21:15:59.577611Z",
     "shell.execute_reply.started": "2024-07-20T21:15:59.574104Z"
    },
    "slideshow": {
     "slide_type": "fragment"
    },
    "tags": []
   },
   "outputs": [
    {
     "data": {
      "text/plain": [
       "<qcfinancial.SimpleCashflow at 0x107d3c270>"
      ]
     },
     "execution_count": 5,
     "metadata": {},
     "output_type": "execute_result"
    }
   ],
   "source": [
    "simple_cashflow"
   ]
  },
  {
   "cell_type": "markdown",
   "metadata": {
    "editable": true,
    "slideshow": {
     "slide_type": "slide"
    },
    "tags": []
   },
   "source": [
    "### Métodos `amount`, `ccy` y `date`"
   ]
  },
  {
   "cell_type": "markdown",
   "metadata": {
    "editable": true,
    "slideshow": {
     "slide_type": "fragment"
    },
    "tags": []
   },
   "source": [
    "Permiten obtener el monto, la moneda y la fecha del flujo."
   ]
  },
  {
   "cell_type": "code",
   "execution_count": 6,
   "metadata": {
    "ExecuteTime": {
     "end_time": "2022-01-21T13:43:02.479832Z",
     "start_time": "2022-01-21T13:43:02.464871Z"
    },
    "editable": true,
    "execution": {
     "iopub.execute_input": "2024-07-20T21:15:59.582446Z",
     "iopub.status.busy": "2024-07-20T21:15:59.581981Z",
     "iopub.status.idle": "2024-07-20T21:15:59.585777Z",
     "shell.execute_reply": "2024-07-20T21:15:59.585125Z",
     "shell.execute_reply.started": "2024-07-20T21:15:59.582422Z"
    },
    "slideshow": {
     "slide_type": "fragment"
    },
    "tags": []
   },
   "outputs": [
    {
     "name": "stdout",
     "output_type": "stream",
     "text": [
      "Monto: 1,000,000\n"
     ]
    }
   ],
   "source": [
    "print(f\"Monto: {simple_cashflow.amount():,.0f}\")"
   ]
  },
  {
   "cell_type": "code",
   "execution_count": 7,
   "metadata": {
    "execution": {
     "iopub.execute_input": "2024-07-20T21:15:59.586932Z",
     "iopub.status.busy": "2024-07-20T21:15:59.586595Z",
     "iopub.status.idle": "2024-07-20T21:15:59.590427Z",
     "shell.execute_reply": "2024-07-20T21:15:59.589721Z",
     "shell.execute_reply.started": "2024-07-20T21:15:59.586907Z"
    }
   },
   "outputs": [
    {
     "name": "stdout",
     "output_type": "stream",
     "text": [
      "Moneda: CLP\n"
     ]
    }
   ],
   "source": [
    "print(f\"Moneda: {simple_cashflow.ccy()}\")"
   ]
  },
  {
   "cell_type": "code",
   "execution_count": 8,
   "metadata": {
    "execution": {
     "iopub.execute_input": "2024-07-20T21:15:59.591326Z",
     "iopub.status.busy": "2024-07-20T21:15:59.591128Z",
     "iopub.status.idle": "2024-07-20T21:15:59.595039Z",
     "shell.execute_reply": "2024-07-20T21:15:59.594265Z",
     "shell.execute_reply.started": "2024-07-20T21:15:59.591304Z"
    }
   },
   "outputs": [
    {
     "name": "stdout",
     "output_type": "stream",
     "text": [
      "Fecha: 2024-08-24\n"
     ]
    }
   ],
   "source": [
    "print(f\"Fecha: {simple_cashflow.date()}\")"
   ]
  },
  {
   "cell_type": "markdown",
   "metadata": {
    "editable": true,
    "slideshow": {
     "slide_type": "slide"
    },
    "tags": []
   },
   "source": [
    "### Función `show`"
   ]
  },
  {
   "cell_type": "markdown",
   "metadata": {
    "editable": true,
    "slideshow": {
     "slide_type": "fragment"
    },
    "tags": []
   },
   "source": [
    "Esta función envuelve de forma cómoda todo el flujo en un objeto `tuple`. La función `show` está sobrecargada y admite todos los tipos de flujo de `qcfinancial`."
   ]
  },
  {
   "cell_type": "code",
   "execution_count": 9,
   "metadata": {
    "ExecuteTime": {
     "end_time": "2022-01-21T13:43:02.495789Z",
     "start_time": "2022-01-21T13:43:02.480830Z"
    },
    "editable": true,
    "execution": {
     "iopub.execute_input": "2024-07-20T21:15:59.596288Z",
     "iopub.status.busy": "2024-07-20T21:15:59.595973Z",
     "iopub.status.idle": "2024-07-20T21:15:59.600201Z",
     "shell.execute_reply": "2024-07-20T21:15:59.599705Z",
     "shell.execute_reply.started": "2024-07-20T21:15:59.596266Z"
    },
    "slideshow": {
     "slide_type": "fragment"
    },
    "tags": []
   },
   "outputs": [
    {
     "data": {
      "text/plain": [
       "('2024-08-24', 1000000.0, 'CLP')"
      ]
     },
     "execution_count": 9,
     "metadata": {},
     "output_type": "execute_result"
    }
   ],
   "source": [
    "qcf.show(simple_cashflow)"
   ]
  },
  {
   "cell_type": "markdown",
   "metadata": {
    "editable": true,
    "slideshow": {
     "slide_type": "slide"
    },
    "tags": []
   },
   "source": [
    "### Función `get_column_names`"
   ]
  },
  {
   "cell_type": "markdown",
   "metadata": {
    "editable": true,
    "slideshow": {
     "slide_type": "fragment"
    },
    "tags": []
   },
   "source": [
    "Para nombrar los elementos de la tupla anterior, se puede utilizar la función `get_column_names`."
   ]
  },
  {
   "cell_type": "code",
   "execution_count": 10,
   "metadata": {
    "editable": true,
    "execution": {
     "iopub.execute_input": "2024-07-20T21:15:59.601457Z",
     "iopub.status.busy": "2024-07-20T21:15:59.601195Z",
     "iopub.status.idle": "2024-07-20T21:15:59.605399Z",
     "shell.execute_reply": "2024-07-20T21:15:59.604671Z",
     "shell.execute_reply.started": "2024-07-20T21:15:59.601436Z"
    },
    "slideshow": {
     "slide_type": "fragment"
    },
    "tags": []
   },
   "outputs": [
    {
     "data": {
      "text/plain": [
       "('fecha_pago', 'monto', 'moneda')"
      ]
     },
     "execution_count": 10,
     "metadata": {},
     "output_type": "execute_result"
    }
   ],
   "source": [
    "qcf.get_column_names('SimpleCashflow')"
   ]
  },
  {
   "cell_type": "markdown",
   "metadata": {
    "editable": true,
    "slideshow": {
     "slide_type": "slide"
    },
    "tags": []
   },
   "source": [
    "Con ella podemos, por ejemplo, estructurar aún más el output de `show` utilizando un `pandas.DataFrame`."
   ]
  },
  {
   "cell_type": "code",
   "execution_count": 11,
   "metadata": {
    "editable": true,
    "execution": {
     "iopub.execute_input": "2024-07-20T21:15:59.606391Z",
     "iopub.status.busy": "2024-07-20T21:15:59.606190Z",
     "iopub.status.idle": "2024-07-20T21:15:59.679384Z",
     "shell.execute_reply": "2024-07-20T21:15:59.678704Z",
     "shell.execute_reply.started": "2024-07-20T21:15:59.606372Z"
    },
    "slideshow": {
     "slide_type": "fragment"
    },
    "tags": []
   },
   "outputs": [
    {
     "data": {
      "text/html": [
       "<style type=\"text/css\">\n",
       "</style>\n",
       "<table id=\"T_2356f\">\n",
       "  <thead>\n",
       "    <tr>\n",
       "      <th class=\"blank level0\" >&nbsp;</th>\n",
       "      <th id=\"T_2356f_level0_col0\" class=\"col_heading level0 col0\" >fecha_pago</th>\n",
       "      <th id=\"T_2356f_level0_col1\" class=\"col_heading level0 col1\" >monto</th>\n",
       "      <th id=\"T_2356f_level0_col2\" class=\"col_heading level0 col2\" >moneda</th>\n",
       "    </tr>\n",
       "  </thead>\n",
       "  <tbody>\n",
       "    <tr>\n",
       "      <th id=\"T_2356f_level0_row0\" class=\"row_heading level0 row0\" >0</th>\n",
       "      <td id=\"T_2356f_row0_col0\" class=\"data row0 col0\" >2024-08-24</td>\n",
       "      <td id=\"T_2356f_row0_col1\" class=\"data row0 col1\" >1,000,000</td>\n",
       "      <td id=\"T_2356f_row0_col2\" class=\"data row0 col2\" >CLP</td>\n",
       "    </tr>\n",
       "  </tbody>\n",
       "</table>\n"
      ],
      "text/plain": [
       "<pandas.io.formats.style.Styler at 0x106afdd10>"
      ]
     },
     "execution_count": 11,
     "metadata": {},
     "output_type": "execute_result"
    }
   ],
   "source": [
    "df = pd.DataFrame([qcf.show(simple_cashflow)])\n",
    "df.columns = list(qcf.get_column_names('SimpleCashflow'))\n",
    "df.style.format({'monto':'{:,.0f}'})"
   ]
  },
  {
   "cell_type": "markdown",
   "metadata": {
    "editable": true,
    "slideshow": {
     "slide_type": "slide"
    },
    "tags": []
   },
   "source": [
    "## Simple Multicurrency Cashflow"
   ]
  },
  {
   "cell_type": "markdown",
   "metadata": {
    "editable": true,
    "slideshow": {
     "slide_type": "slide"
    },
    "tags": []
   },
   "source": [
    "Un objeto de tipo `SimpleMultiCurrencyCashflow` representa un flujo de caja cierto en una fecha y moneda, el cual, sin embargo, se liquidará en una segunda moneda utilizando el valor de un índice de tipo de cambio a una fecha futura. Para dar de alta uno de estos objetos se requiere:\n",
    "\n",
    "- `QCDate`: fecha final\n",
    "- `float`: monto nominal\n",
    "- `QCCurrency`: la moneda del monto nominal\n",
    "- `QCDate`: la fecha de publicación del `FXRateIndex` que se usará en la conversión\n",
    "- `QCCurrency`: la moneda final del flujo\n",
    "- `FXRateIndex`: el índice de tipo de cambio a utilizar\n",
    "- `float`: el valor del índice de tipo de cambio"
   ]
  },
  {
   "cell_type": "markdown",
   "metadata": {
    "editable": true,
    "slideshow": {
     "slide_type": "slide"
    },
    "tags": []
   },
   "source": [
    "### Ejemplo 1"
   ]
  },
  {
   "cell_type": "markdown",
   "metadata": {
    "editable": true,
    "slideshow": {
     "slide_type": "fragment"
    },
    "tags": []
   },
   "source": [
    "Se da de alta los objetos que el constructor del índice de tipo de cambio necesita."
   ]
  },
  {
   "cell_type": "code",
   "execution_count": 12,
   "metadata": {
    "ExecuteTime": {
     "end_time": "2022-01-21T13:43:02.557623Z",
     "start_time": "2022-01-21T13:43:02.542664Z"
    },
    "editable": true,
    "execution": {
     "iopub.execute_input": "2024-07-20T21:15:59.680282Z",
     "iopub.status.busy": "2024-07-20T21:15:59.680074Z",
     "iopub.status.idle": "2024-07-20T21:15:59.683978Z",
     "shell.execute_reply": "2024-07-20T21:15:59.683192Z",
     "shell.execute_reply.started": "2024-07-20T21:15:59.680264Z"
    },
    "slideshow": {
     "slide_type": "fragment"
    },
    "tags": []
   },
   "outputs": [],
   "source": [
    "# moneda\n",
    "usd = qcf.QCUSD()\n",
    "\n",
    "# tipo de cambio\n",
    "usdclp = qcf.FXRate(usd, clp)\n",
    "\n",
    "# tenor\n",
    "_1d = qcf.Tenor('1D')"
   ]
  },
  {
   "cell_type": "markdown",
   "metadata": {
    "editable": true,
    "slideshow": {
     "slide_type": "slide"
    },
    "tags": []
   },
   "source": [
    "Aquí utilizamos `aux.get_business_calendar` para apoyarnos en la librería `holidays` y obtener el calendario de Santiago."
   ]
  },
  {
   "cell_type": "code",
   "execution_count": 13,
   "metadata": {
    "editable": true,
    "execution": {
     "iopub.execute_input": "2024-07-20T21:15:59.685619Z",
     "iopub.status.busy": "2024-07-20T21:15:59.685174Z",
     "iopub.status.idle": "2024-07-20T21:15:59.819649Z",
     "shell.execute_reply": "2024-07-20T21:15:59.819098Z",
     "shell.execute_reply.started": "2024-07-20T21:15:59.685598Z"
    },
    "slideshow": {
     "slide_type": "fragment"
    },
    "tags": []
   },
   "outputs": [],
   "source": [
    "# calendario Santiago\n",
    "scl = aux.get_business_calendar(\"CL\", range(2024, 2035))\n",
    "\n",
    "# dólar observado\n",
    "usdclp_obs = qcf.FXRateIndex(usdclp, \"USDOBS\", _1d, _1d, scl)\n",
    "\n",
    "# valor del índice\n",
    "fx_rate_value = 900.0"
   ]
  },
  {
   "cell_type": "markdown",
   "metadata": {
    "editable": true,
    "slideshow": {
     "slide_type": "slide"
    },
    "tags": []
   },
   "source": [
    "Se da de alta el cashflow."
   ]
  },
  {
   "cell_type": "code",
   "execution_count": 14,
   "metadata": {
    "editable": true,
    "execution": {
     "iopub.execute_input": "2024-07-20T21:15:59.820698Z",
     "iopub.status.busy": "2024-07-20T21:15:59.820562Z",
     "iopub.status.idle": "2024-07-20T21:15:59.824956Z",
     "shell.execute_reply": "2024-07-20T21:15:59.824133Z",
     "shell.execute_reply.started": "2024-07-20T21:15:59.820683Z"
    },
    "slideshow": {
     "slide_type": "fragment"
    },
    "tags": []
   },
   "outputs": [],
   "source": [
    "simple_mccy_cashflow = qcf.SimpleMultiCurrencyCashflow(\n",
    "    fecha1, \n",
    "    monto, \n",
    "    clp,  # nominal en CLP\n",
    "    fecha1, \n",
    "    usd,  # pago en USD\n",
    "    usdclp_obs, \n",
    "    fx_rate_value\n",
    ")"
   ]
  },
  {
   "cell_type": "markdown",
   "metadata": {
    "editable": true,
    "slideshow": {
     "slide_type": "slide"
    },
    "tags": []
   },
   "source": [
    "Este objeto hereda de `SimpleCashflow` y por lo tanto, los métodos `amount`, `date` y `ccy` siguen disponibles."
   ]
  },
  {
   "cell_type": "code",
   "execution_count": 15,
   "metadata": {
    "editable": true,
    "execution": {
     "iopub.execute_input": "2024-07-20T21:15:59.826231Z",
     "iopub.status.busy": "2024-07-20T21:15:59.825708Z",
     "iopub.status.idle": "2024-07-20T21:15:59.831044Z",
     "shell.execute_reply": "2024-07-20T21:15:59.830346Z",
     "shell.execute_reply.started": "2024-07-20T21:15:59.826212Z"
    },
    "slideshow": {
     "slide_type": "fragment"
    },
    "tags": []
   },
   "outputs": [
    {
     "name": "stdout",
     "output_type": "stream",
     "text": [
      "Monto: 1,000,000.00\n",
      "Fecha: 2024-08-24\n",
      "Moneda: CLP\n"
     ]
    }
   ],
   "source": [
    "print(f\"Monto: {simple_mccy_cashflow.amount():,.2f}\")\n",
    "print(f\"Fecha: {simple_mccy_cashflow.date()}\")\n",
    "print(f\"Moneda: {simple_mccy_cashflow.ccy()}\")"
   ]
  },
  {
   "cell_type": "markdown",
   "metadata": {
    "editable": true,
    "slideshow": {
     "slide_type": "slide"
    },
    "tags": []
   },
   "source": [
    "Para obtener el monto en la moneda de pago y la moneda de pago están los métodos `settlement_amount` y `settlement_ccy`."
   ]
  },
  {
   "cell_type": "code",
   "execution_count": 16,
   "metadata": {
    "editable": true,
    "execution": {
     "iopub.execute_input": "2024-07-20T21:15:59.832734Z",
     "iopub.status.busy": "2024-07-20T21:15:59.832327Z",
     "iopub.status.idle": "2024-07-20T21:15:59.837072Z",
     "shell.execute_reply": "2024-07-20T21:15:59.836472Z",
     "shell.execute_reply.started": "2024-07-20T21:15:59.832697Z"
    },
    "slideshow": {
     "slide_type": "fragment"
    },
    "tags": []
   },
   "outputs": [
    {
     "name": "stdout",
     "output_type": "stream",
     "text": [
      "Monto de pago: 1,111\n"
     ]
    }
   ],
   "source": [
    "print(f\"Monto de pago: {simple_mccy_cashflow.settlement_amount():,.0f}\")"
   ]
  },
  {
   "cell_type": "code",
   "execution_count": 17,
   "metadata": {
    "execution": {
     "iopub.execute_input": "2024-07-20T21:15:59.838340Z",
     "iopub.status.busy": "2024-07-20T21:15:59.838168Z",
     "iopub.status.idle": "2024-07-20T21:15:59.841928Z",
     "shell.execute_reply": "2024-07-20T21:15:59.840890Z",
     "shell.execute_reply.started": "2024-07-20T21:15:59.838324Z"
    }
   },
   "outputs": [
    {
     "name": "stdout",
     "output_type": "stream",
     "text": [
      "Moneda de pago: USD\n"
     ]
    }
   ],
   "source": [
    "print(f\"Moneda de pago: {simple_mccy_cashflow.settlement_ccy()}\")"
   ]
  },
  {
   "cell_type": "markdown",
   "metadata": {
    "editable": true,
    "slideshow": {
     "slide_type": "slide"
    },
    "tags": []
   },
   "source": [
    "El valor del índice de tipo de cambio se puede alterar con el método `set_fx_rate_index_value`."
   ]
  },
  {
   "cell_type": "code",
   "execution_count": 18,
   "metadata": {
    "ExecuteTime": {
     "end_time": "2022-01-21T13:43:02.573581Z",
     "start_time": "2022-01-21T13:43:02.558621Z"
    },
    "editable": true,
    "execution": {
     "iopub.execute_input": "2024-07-20T21:15:59.843631Z",
     "iopub.status.busy": "2024-07-20T21:15:59.843427Z",
     "iopub.status.idle": "2024-07-20T21:15:59.847760Z",
     "shell.execute_reply": "2024-07-20T21:15:59.847052Z",
     "shell.execute_reply.started": "2024-07-20T21:15:59.843614Z"
    },
    "slideshow": {
     "slide_type": "fragment"
    },
    "tags": []
   },
   "outputs": [
    {
     "name": "stdout",
     "output_type": "stream",
     "text": [
      "Flujo: 1,250.00 USD\n"
     ]
    }
   ],
   "source": [
    "simple_mccy_cashflow.set_fx_rate_index_value(800.00)\n",
    "print(f\"Flujo: {simple_mccy_cashflow.settlement_amount():,.2f} {simple_mccy_cashflow.settlement_ccy()}\")"
   ]
  },
  {
   "cell_type": "markdown",
   "metadata": {
    "editable": true,
    "slideshow": {
     "slide_type": "slide"
    },
    "tags": []
   },
   "source": [
    "### Ejemplo 2"
   ]
  },
  {
   "cell_type": "markdown",
   "metadata": {
    "editable": true,
    "slideshow": {
     "slide_type": "fragment"
    },
    "tags": []
   },
   "source": [
    "Aquí, las monedas están invertidas respecto al caso anterior. El valor del índice se usa de la forma correcta."
   ]
  },
  {
   "cell_type": "code",
   "execution_count": 19,
   "metadata": {
    "ExecuteTime": {
     "end_time": "2022-01-21T13:43:02.588541Z",
     "start_time": "2022-01-21T13:43:02.574578Z"
    },
    "editable": true,
    "execution": {
     "iopub.execute_input": "2024-07-20T21:15:59.849693Z",
     "iopub.status.busy": "2024-07-20T21:15:59.849222Z",
     "iopub.status.idle": "2024-07-20T21:15:59.853902Z",
     "shell.execute_reply": "2024-07-20T21:15:59.852990Z",
     "shell.execute_reply.started": "2024-07-20T21:15:59.849673Z"
    },
    "slideshow": {
     "slide_type": "fragment"
    },
    "tags": []
   },
   "outputs": [],
   "source": [
    "simple_mccy_cashflow = qcf.SimpleMultiCurrencyCashflow(\n",
    "    fecha1, \n",
    "    1_000_000, \n",
    "    usd,  # nominal en USD\n",
    "    fecha1, \n",
    "    clp,  # pago en CLP\n",
    "    usdclp_obs, \n",
    "    fx_rate_value,\n",
    ")"
   ]
  },
  {
   "cell_type": "markdown",
   "metadata": {
    "editable": true,
    "slideshow": {
     "slide_type": "slide"
    },
    "tags": []
   },
   "source": [
    "Se repite los cálculos del ejemplo anterior."
   ]
  },
  {
   "cell_type": "code",
   "execution_count": 20,
   "metadata": {
    "editable": true,
    "execution": {
     "iopub.execute_input": "2024-07-20T21:15:59.855119Z",
     "iopub.status.busy": "2024-07-20T21:15:59.854941Z",
     "iopub.status.idle": "2024-07-20T21:15:59.860017Z",
     "shell.execute_reply": "2024-07-20T21:15:59.858997Z",
     "shell.execute_reply.started": "2024-07-20T21:15:59.855103Z"
    },
    "slideshow": {
     "slide_type": "fragment"
    },
    "tags": []
   },
   "outputs": [
    {
     "name": "stdout",
     "output_type": "stream",
     "text": [
      "Fecha: 2024-08-24\n",
      "Nominal: 1,000,000.00\n",
      "Moneda nominal: USD\n",
      "Flujo: 900,000,000\n",
      "Moneda flujo: CLP\n"
     ]
    }
   ],
   "source": [
    "print(f\"Fecha: {simple_mccy_cashflow.date()}\")\n",
    "print(f\"Nominal: {simple_mccy_cashflow.nominal():,.2f}\")\n",
    "print(f\"Moneda nominal: {simple_mccy_cashflow.ccy().get_iso_code()}\")\n",
    "print(f\"Flujo: {simple_mccy_cashflow.settlement_amount():,.0f}\")\n",
    "print(f\"Moneda flujo: {simple_mccy_cashflow.settlement_ccy().get_iso_code()}\")"
   ]
  },
  {
   "cell_type": "markdown",
   "metadata": {
    "editable": true,
    "slideshow": {
     "slide_type": "slide"
    },
    "tags": []
   },
   "source": [
    "### Ejemplo 3"
   ]
  },
  {
   "cell_type": "markdown",
   "metadata": {
    "editable": true,
    "slideshow": {
     "slide_type": "fragment"
    },
    "tags": []
   },
   "source": [
    "En este caso, hay inconsistencia entre las monedas y el tipo de cambio del índice y vemos que se produce un error."
   ]
  },
  {
   "cell_type": "code",
   "execution_count": 21,
   "metadata": {
    "ExecuteTime": {
     "end_time": "2022-01-21T13:43:02.604498Z",
     "start_time": "2022-01-21T13:43:02.590536Z"
    },
    "editable": true,
    "execution": {
     "iopub.execute_input": "2024-07-20T21:15:59.869635Z",
     "iopub.status.busy": "2024-07-20T21:15:59.869175Z",
     "iopub.status.idle": "2024-07-20T21:15:59.874160Z",
     "shell.execute_reply": "2024-07-20T21:15:59.873340Z",
     "shell.execute_reply.started": "2024-07-20T21:15:59.869616Z"
    },
    "slideshow": {
     "slide_type": "fragment"
    },
    "tags": []
   },
   "outputs": [
    {
     "name": "stdout",
     "output_type": "stream",
     "text": [
      "Error: Fx Rate Index provided is not compatible with nominal and settlement currency. \n"
     ]
    }
   ],
   "source": [
    "eur = qcf.QCEUR()\n",
    "try:\n",
    "    simple_mccy_cashflow = qcf.SimpleMultiCurrencyCashflow(\n",
    "        fecha1,\n",
    "        1_000_000,\n",
    "        usd,         # nominal en USD\n",
    "        fecha1,\n",
    "        eur,         # pago en EUR\n",
    "        usdclp_obs,  # ¡usamos el dólar observado!\n",
    "        fx_rate_value,\n",
    "    )\n",
    "except ValueError as e:\n",
    "    print(\"Error:\", e)"
   ]
  },
  {
   "cell_type": "markdown",
   "metadata": {
    "editable": true,
    "slideshow": {
     "slide_type": "slide"
    },
    "tags": []
   },
   "source": [
    "### Funciones `show` y `get_columns`"
   ]
  },
  {
   "cell_type": "code",
   "execution_count": 22,
   "metadata": {
    "ExecuteTime": {
     "end_time": "2022-01-21T13:43:02.619460Z",
     "start_time": "2022-01-21T13:43:02.605495Z"
    },
    "editable": true,
    "execution": {
     "iopub.execute_input": "2024-07-20T21:15:59.876027Z",
     "iopub.status.busy": "2024-07-20T21:15:59.875625Z",
     "iopub.status.idle": "2024-07-20T21:15:59.881239Z",
     "shell.execute_reply": "2024-07-20T21:15:59.880537Z",
     "shell.execute_reply.started": "2024-07-20T21:15:59.876012Z"
    },
    "slideshow": {
     "slide_type": "fragment"
    },
    "tags": []
   },
   "outputs": [
    {
     "data": {
      "text/plain": [
       "('2024-08-24',\n",
       " 1000000.0,\n",
       " 'USD',\n",
       " '2024-08-24',\n",
       " 'CLP',\n",
       " 'USDOBS',\n",
       " 900.0,\n",
       " 900000000.0)"
      ]
     },
     "execution_count": 22,
     "metadata": {},
     "output_type": "execute_result"
    }
   ],
   "source": [
    "qcf.show(simple_mccy_cashflow)"
   ]
  },
  {
   "cell_type": "code",
   "execution_count": 23,
   "metadata": {
    "editable": true,
    "execution": {
     "iopub.execute_input": "2024-07-20T21:15:59.882692Z",
     "iopub.status.busy": "2024-07-20T21:15:59.882127Z",
     "iopub.status.idle": "2024-07-20T21:15:59.889075Z",
     "shell.execute_reply": "2024-07-20T21:15:59.888176Z",
     "shell.execute_reply.started": "2024-07-20T21:15:59.882644Z"
    },
    "slideshow": {
     "slide_type": "fragment"
    },
    "tags": []
   },
   "outputs": [
    {
     "data": {
      "text/plain": [
       "('fecha_pago',\n",
       " 'monto_nominal',\n",
       " 'moneda_nominal',\n",
       " 'fecha_fixing',\n",
       " 'moneda_pago',\n",
       " 'codigo_indice_fx',\n",
       " 'valor_indice_fx',\n",
       " 'monto_moneda_pago')"
      ]
     },
     "execution_count": 23,
     "metadata": {},
     "output_type": "execute_result"
    }
   ],
   "source": [
    "qcf.get_column_names('SimpleMultiCurrencyCashflow')"
   ]
  },
  {
   "cell_type": "markdown",
   "metadata": {
    "editable": true,
    "slideshow": {
     "slide_type": "slide"
    },
    "tags": []
   },
   "source": [
    "Nuevamente, usando estas funciones podemos visualizar el flujo utilizando un `pandas.DataFrame`."
   ]
  },
  {
   "cell_type": "code",
   "execution_count": 24,
   "metadata": {
    "editable": true,
    "execution": {
     "iopub.execute_input": "2024-07-20T21:15:59.890598Z",
     "iopub.status.busy": "2024-07-20T21:15:59.890206Z",
     "iopub.status.idle": "2024-07-20T21:15:59.899947Z",
     "shell.execute_reply": "2024-07-20T21:15:59.899019Z",
     "shell.execute_reply.started": "2024-07-20T21:15:59.890581Z"
    },
    "slideshow": {
     "slide_type": "fragment"
    },
    "tags": []
   },
   "outputs": [
    {
     "data": {
      "text/html": [
       "<style type=\"text/css\">\n",
       "</style>\n",
       "<table id=\"T_5dcf7\">\n",
       "  <thead>\n",
       "    <tr>\n",
       "      <th class=\"blank level0\" >&nbsp;</th>\n",
       "      <th id=\"T_5dcf7_level0_col0\" class=\"col_heading level0 col0\" >fecha_pago</th>\n",
       "      <th id=\"T_5dcf7_level0_col1\" class=\"col_heading level0 col1\" >monto_nominal</th>\n",
       "      <th id=\"T_5dcf7_level0_col2\" class=\"col_heading level0 col2\" >moneda_nominal</th>\n",
       "      <th id=\"T_5dcf7_level0_col3\" class=\"col_heading level0 col3\" >fecha_fixing</th>\n",
       "      <th id=\"T_5dcf7_level0_col4\" class=\"col_heading level0 col4\" >moneda_pago</th>\n",
       "      <th id=\"T_5dcf7_level0_col5\" class=\"col_heading level0 col5\" >codigo_indice_fx</th>\n",
       "      <th id=\"T_5dcf7_level0_col6\" class=\"col_heading level0 col6\" >valor_indice_fx</th>\n",
       "      <th id=\"T_5dcf7_level0_col7\" class=\"col_heading level0 col7\" >monto_moneda_pago</th>\n",
       "    </tr>\n",
       "  </thead>\n",
       "  <tbody>\n",
       "    <tr>\n",
       "      <th id=\"T_5dcf7_level0_row0\" class=\"row_heading level0 row0\" >0</th>\n",
       "      <td id=\"T_5dcf7_row0_col0\" class=\"data row0 col0\" >2024-08-24</td>\n",
       "      <td id=\"T_5dcf7_row0_col1\" class=\"data row0 col1\" >1,000,000</td>\n",
       "      <td id=\"T_5dcf7_row0_col2\" class=\"data row0 col2\" >USD</td>\n",
       "      <td id=\"T_5dcf7_row0_col3\" class=\"data row0 col3\" >2024-08-24</td>\n",
       "      <td id=\"T_5dcf7_row0_col4\" class=\"data row0 col4\" >CLP</td>\n",
       "      <td id=\"T_5dcf7_row0_col5\" class=\"data row0 col5\" >USDOBS</td>\n",
       "      <td id=\"T_5dcf7_row0_col6\" class=\"data row0 col6\" >900.00</td>\n",
       "      <td id=\"T_5dcf7_row0_col7\" class=\"data row0 col7\" >900,000,000</td>\n",
       "    </tr>\n",
       "  </tbody>\n",
       "</table>\n"
      ],
      "text/plain": [
       "<pandas.io.formats.style.Styler at 0x106afe390>"
      ]
     },
     "execution_count": 24,
     "metadata": {},
     "output_type": "execute_result"
    }
   ],
   "source": [
    "df = pd.DataFrame([qcf.show(simple_mccy_cashflow)])\n",
    "df.columns = list(qcf.get_column_names('SimpleMultiCurrencyCashflow'))\n",
    "df.style.format({\n",
    "    'monto_nominal':'{:,.0f}',\n",
    "    'monto_moneda_pago':'{:,.0f}',\n",
    "    'valor_indice_fx':'{:,.2f}'\n",
    "})"
   ]
  },
  {
   "cell_type": "markdown",
   "metadata": {
    "editable": true,
    "slideshow": {
     "slide_type": "slide"
    },
    "tags": []
   },
   "source": [
    "## Fixed Rate Cashflow"
   ]
  },
  {
   "cell_type": "markdown",
   "metadata": {
    "editable": true,
    "slideshow": {
     "slide_type": "fragment"
    },
    "tags": []
   },
   "source": [
    "Un objeto de tipo `FixedRateCashflow` representa un flujo de caja calculado a partir de la aplicación de una tasa prefijada, entre dos fechas prefijadas a un nominal prefijado. Para dar de alta uno de estos objetos se requiere:\n",
    "\n",
    "- `QCDate`: fecha inicio (para la aplicación de la tasa)\n",
    "- `QCDate`: fecha final (para la aplicación de la tasa)\n",
    "- `QCDate`: fecha de pago\n",
    "- `float`: nominal (monto al que se le aplica la tasa)\n",
    "- `float`: amortización (eventual flujo de caja que corresponde a una porción del nominal)\n",
    "- `bool`: indica si la amortización anterior es un flujo de caja o sólo una disminución de nominal\n",
    "- `QCInterestRate`: la tasa de interés a aplicar (su valor y convenciones)\n",
    "- `QCCurrency`: moneda del nominal y del flujo de caja"
   ]
  },
  {
   "cell_type": "markdown",
   "metadata": {
    "editable": true,
    "slideshow": {
     "slide_type": "slide"
    },
    "tags": []
   },
   "source": [
    "### Construcción"
   ]
  },
  {
   "cell_type": "markdown",
   "metadata": {
    "editable": true,
    "slideshow": {
     "slide_type": "fragment"
    },
    "tags": []
   },
   "source": [
    "Se define los parámetros requeridos."
   ]
  },
  {
   "cell_type": "code",
   "execution_count": 25,
   "metadata": {
    "ExecuteTime": {
     "end_time": "2022-01-21T13:43:02.635039Z",
     "start_time": "2022-01-21T13:43:02.621077Z"
    },
    "editable": true,
    "execution": {
     "iopub.execute_input": "2024-07-20T21:15:59.901988Z",
     "iopub.status.busy": "2024-07-20T21:15:59.901589Z",
     "iopub.status.idle": "2024-07-20T21:15:59.905656Z",
     "shell.execute_reply": "2024-07-20T21:15:59.904951Z",
     "shell.execute_reply.started": "2024-07-20T21:15:59.901970Z"
    },
    "slideshow": {
     "slide_type": "fragment"
    },
    "tags": []
   },
   "outputs": [],
   "source": [
    "fecha_inicio = qcf.QCDate(20, 5, 2024)\n",
    "fecha_final = qcf.QCDate(20, 5, 2025)\n",
    "fecha_pago = qcf.QCDate(22, 5, 2025)\n",
    "nominal = 1_000_000_000.0\n",
    "amortizacion = 100_000_000.0\n",
    "amort_is_cashflow = False"
   ]
  },
  {
   "cell_type": "markdown",
   "metadata": {},
   "source": [
    "Se define la yearFraction, wealthFunction el valor de la tasa y finalmente la tasa de interés."
   ]
  },
  {
   "cell_type": "code",
   "execution_count": 26,
   "metadata": {
    "execution": {
     "iopub.execute_input": "2024-07-20T21:15:59.906539Z",
     "iopub.status.busy": "2024-07-20T21:15:59.906369Z",
     "iopub.status.idle": "2024-07-20T21:15:59.910029Z",
     "shell.execute_reply": "2024-07-20T21:15:59.909364Z",
     "shell.execute_reply.started": "2024-07-20T21:15:59.906522Z"
    }
   },
   "outputs": [],
   "source": [
    "act360 = qcf.QCAct360()\n",
    "lin_wf = qcf.QCLinearWf()\n",
    "valor_tasa_fija = .1\n",
    "tasa = qcf.QCInterestRate(valor_tasa_fija, act360, lin_wf)"
   ]
  },
  {
   "cell_type": "markdown",
   "metadata": {
    "editable": true,
    "slideshow": {
     "slide_type": "slide"
    },
    "tags": []
   },
   "source": [
    "Se instancia el cashflow."
   ]
  },
  {
   "cell_type": "code",
   "execution_count": 27,
   "metadata": {
    "editable": true,
    "execution": {
     "iopub.execute_input": "2024-07-20T21:15:59.911079Z",
     "iopub.status.busy": "2024-07-20T21:15:59.910847Z",
     "iopub.status.idle": "2024-07-20T21:15:59.914028Z",
     "shell.execute_reply": "2024-07-20T21:15:59.913485Z",
     "shell.execute_reply.started": "2024-07-20T21:15:59.911061Z"
    },
    "slideshow": {
     "slide_type": "fragment"
    },
    "tags": []
   },
   "outputs": [],
   "source": [
    "fixed_rate_cashflow = qcf.FixedRateCashflow(\n",
    "    fecha_inicio, \n",
    "    fecha_final, \n",
    "    fecha_pago, \n",
    "    nominal, \n",
    "    amortizacion, \n",
    "    amort_is_cashflow, \n",
    "    tasa, \n",
    "    clp,\n",
    ")"
   ]
  },
  {
   "cell_type": "markdown",
   "metadata": {
    "editable": true,
    "slideshow": {
     "slide_type": "slide"
    },
    "tags": []
   },
   "source": [
    "### Getters"
   ]
  },
  {
   "cell_type": "code",
   "execution_count": 28,
   "metadata": {
    "ExecuteTime": {
     "end_time": "2022-01-21T13:43:02.650997Z",
     "start_time": "2022-01-21T13:43:02.637034Z"
    },
    "editable": true,
    "execution": {
     "iopub.execute_input": "2024-07-20T21:15:59.915157Z",
     "iopub.status.busy": "2024-07-20T21:15:59.914945Z",
     "iopub.status.idle": "2024-07-20T21:15:59.919695Z",
     "shell.execute_reply": "2024-07-20T21:15:59.918991Z",
     "shell.execute_reply.started": "2024-07-20T21:15:59.915138Z"
    },
    "slideshow": {
     "slide_type": "fragment"
    },
    "tags": []
   },
   "outputs": [
    {
     "name": "stdout",
     "output_type": "stream",
     "text": [
      "Tipo de flujo: FixedRateCashflow\n",
      "Fecha Inicio: 2024-05-20\n",
      "Fecha Final: 2025-05-20\n",
      "Fecha Pago: 2025-05-22\n",
      "Moneda: CLP\n",
      "Nominal: 1,000,000,000\n",
      "Amortización: 100,000,000\n",
      "Tasa de interés: 0.100000 Act360 Lin\n"
     ]
    }
   ],
   "source": [
    "print(f\"Tipo de flujo: {fixed_rate_cashflow.get_type()}\")\n",
    "print(f\"Fecha Inicio: {fixed_rate_cashflow.get_start_date()}\")\n",
    "print(f\"Fecha Final: {fixed_rate_cashflow.get_end_date()}\")\n",
    "print(f\"Fecha Pago: {fixed_rate_cashflow.get_settlement_date()}\")\n",
    "print(f\"Moneda: {fixed_rate_cashflow.ccy()}\") # __str__ devuelve el ISO Code de la moneda\n",
    "print(f\"Nominal: {fixed_rate_cashflow.get_nominal():,.0f}\")\n",
    "print(f\"Amortización: {fixed_rate_cashflow.get_amortization():,.0f}\")\n",
    "print(f\"Tasa de interés: {fixed_rate_cashflow.get_rate()}\")"
   ]
  },
  {
   "cell_type": "markdown",
   "metadata": {
    "editable": true,
    "slideshow": {
     "slide_type": "fragment"
    },
    "tags": []
   },
   "source": [
    "Para obtener el valor de la tasa fija, se usa además un getter de `QCInterestRate`."
   ]
  },
  {
   "cell_type": "code",
   "execution_count": 29,
   "metadata": {
    "editable": true,
    "execution": {
     "iopub.execute_input": "2024-07-20T21:15:59.920831Z",
     "iopub.status.busy": "2024-07-20T21:15:59.920578Z",
     "iopub.status.idle": "2024-07-20T21:15:59.924109Z",
     "shell.execute_reply": "2024-07-20T21:15:59.923427Z",
     "shell.execute_reply.started": "2024-07-20T21:15:59.920810Z"
    },
    "slideshow": {
     "slide_type": "fragment"
    },
    "tags": []
   },
   "outputs": [
    {
     "name": "stdout",
     "output_type": "stream",
     "text": [
      "Tasa de interés: 10.00%\n"
     ]
    }
   ],
   "source": [
    "print(f\"Tasa de interés: {fixed_rate_cashflow.get_rate().get_value():.2%}\")"
   ]
  },
  {
   "cell_type": "markdown",
   "metadata": {
    "editable": true,
    "slideshow": {
     "slide_type": "slide"
    },
    "tags": []
   },
   "source": [
    "### Setters"
   ]
  },
  {
   "cell_type": "markdown",
   "metadata": {
    "editable": true,
    "slideshow": {
     "slide_type": "fragment"
    },
    "tags": []
   },
   "source": [
    "Cambiar el nominal."
   ]
  },
  {
   "cell_type": "code",
   "execution_count": 30,
   "metadata": {
    "ExecuteTime": {
     "end_time": "2022-01-21T13:43:02.666955Z",
     "start_time": "2022-01-21T13:43:02.652992Z"
    },
    "editable": true,
    "execution": {
     "iopub.execute_input": "2024-07-20T21:15:59.925318Z",
     "iopub.status.busy": "2024-07-20T21:15:59.924993Z",
     "iopub.status.idle": "2024-07-20T21:15:59.928674Z",
     "shell.execute_reply": "2024-07-20T21:15:59.928083Z",
     "shell.execute_reply.started": "2024-07-20T21:15:59.925292Z"
    },
    "slideshow": {
     "slide_type": "fragment"
    },
    "tags": []
   },
   "outputs": [
    {
     "name": "stdout",
     "output_type": "stream",
     "text": [
      "Nuevo nominal: 2,000,000,000\n"
     ]
    }
   ],
   "source": [
    "nuevo_nominal = 2_000_000_000.0\n",
    "fixed_rate_cashflow.set_nominal(nuevo_nominal)\n",
    "print(f\"Nuevo nominal: {fixed_rate_cashflow.get_nominal():,.0f}\")"
   ]
  },
  {
   "cell_type": "markdown",
   "metadata": {
    "editable": true,
    "slideshow": {
     "slide_type": "fragment"
    },
    "tags": []
   },
   "source": [
    "Cambiar la amortización."
   ]
  },
  {
   "cell_type": "code",
   "execution_count": 31,
   "metadata": {
    "editable": true,
    "execution": {
     "iopub.execute_input": "2024-07-20T21:15:59.929749Z",
     "iopub.status.busy": "2024-07-20T21:15:59.929512Z",
     "iopub.status.idle": "2024-07-20T21:15:59.933115Z",
     "shell.execute_reply": "2024-07-20T21:15:59.932395Z",
     "shell.execute_reply.started": "2024-07-20T21:15:59.929730Z"
    },
    "slideshow": {
     "slide_type": "fragment"
    },
    "tags": []
   },
   "outputs": [
    {
     "name": "stdout",
     "output_type": "stream",
     "text": [
      "Nueva amortización: 200,000,000\n"
     ]
    }
   ],
   "source": [
    "nueva_amortizacion = 200_000_000.0\n",
    "fixed_rate_cashflow.set_amortization(nueva_amortizacion)\n",
    "print(f\"Nueva amortización: {fixed_rate_cashflow.get_amortization():,.0f}\")"
   ]
  },
  {
   "cell_type": "markdown",
   "metadata": {
    "editable": true,
    "slideshow": {
     "slide_type": "slide"
    },
    "tags": []
   },
   "source": [
    "Cambiar el valor de la tasa."
   ]
  },
  {
   "cell_type": "code",
   "execution_count": 32,
   "metadata": {
    "editable": true,
    "execution": {
     "iopub.execute_input": "2024-07-20T21:15:59.934219Z",
     "iopub.status.busy": "2024-07-20T21:15:59.934012Z",
     "iopub.status.idle": "2024-07-20T21:15:59.937589Z",
     "shell.execute_reply": "2024-07-20T21:15:59.936997Z",
     "shell.execute_reply.started": "2024-07-20T21:15:59.934200Z"
    },
    "slideshow": {
     "slide_type": "fragment"
    },
    "tags": []
   },
   "outputs": [
    {
     "name": "stdout",
     "output_type": "stream",
     "text": [
      "Nuevo valor de la tasa: 12.00%\n"
     ]
    }
   ],
   "source": [
    "fixed_rate_cashflow.set_rate_value(new_rate_value:=.12)\n",
    "print(f\"Nuevo valor de la tasa: {fixed_rate_cashflow.get_rate().get_value():.2%}\")"
   ]
  },
  {
   "cell_type": "markdown",
   "metadata": {
    "editable": true,
    "slideshow": {
     "slide_type": "slide"
    },
    "tags": []
   },
   "source": [
    "### Cálculos"
   ]
  },
  {
   "cell_type": "markdown",
   "metadata": {
    "editable": true,
    "slideshow": {
     "slide_type": "fragment"
    },
    "tags": []
   },
   "source": [
    "Se devuelve el valor de la tasa fija al original."
   ]
  },
  {
   "cell_type": "code",
   "execution_count": 33,
   "metadata": {
    "editable": true,
    "execution": {
     "iopub.execute_input": "2024-07-20T21:15:59.938711Z",
     "iopub.status.busy": "2024-07-20T21:15:59.938449Z",
     "iopub.status.idle": "2024-07-20T21:15:59.941624Z",
     "shell.execute_reply": "2024-07-20T21:15:59.941030Z",
     "shell.execute_reply.started": "2024-07-20T21:15:59.938678Z"
    },
    "slideshow": {
     "slide_type": "fragment"
    },
    "tags": []
   },
   "outputs": [],
   "source": [
    "fixed_rate_cashflow.set_rate_value(valor_tasa_fija)"
   ]
  },
  {
   "cell_type": "markdown",
   "metadata": {
    "editable": true,
    "slideshow": {
     "slide_type": "slide"
    },
    "tags": []
   },
   "source": [
    "Método `amount`."
   ]
  },
  {
   "cell_type": "code",
   "execution_count": 34,
   "metadata": {
    "editable": true,
    "execution": {
     "iopub.execute_input": "2024-07-20T21:15:59.942691Z",
     "iopub.status.busy": "2024-07-20T21:15:59.942477Z",
     "iopub.status.idle": "2024-07-20T21:15:59.945651Z",
     "shell.execute_reply": "2024-07-20T21:15:59.945106Z",
     "shell.execute_reply.started": "2024-07-20T21:15:59.942672Z"
    },
    "slideshow": {
     "slide_type": "fragment"
    },
    "tags": []
   },
   "outputs": [
    {
     "name": "stdout",
     "output_type": "stream",
     "text": [
      "Flujo Total: 202,777,778\n"
     ]
    }
   ],
   "source": [
    "print(f\"Flujo Total: {fixed_rate_cashflow.amount():,.0f}\")"
   ]
  },
  {
   "cell_type": "markdown",
   "metadata": {
    "editable": true,
    "slideshow": {
     "slide_type": "fragment"
    },
    "tags": []
   },
   "source": [
    "Vemos que el flujo incluye los intereses, pero no la amortización (`amort_is_cashflow = False`). Podemos verificar a mano este resultado."
   ]
  },
  {
   "cell_type": "code",
   "execution_count": 35,
   "metadata": {
    "ExecuteTime": {
     "end_time": "2022-01-21T13:43:02.681915Z",
     "start_time": "2022-01-21T13:43:02.667952Z"
    },
    "editable": true,
    "execution": {
     "iopub.execute_input": "2024-07-20T21:15:59.946691Z",
     "iopub.status.busy": "2024-07-20T21:15:59.946523Z",
     "iopub.status.idle": "2024-07-20T21:15:59.950194Z",
     "shell.execute_reply": "2024-07-20T21:15:59.949516Z",
     "shell.execute_reply.started": "2024-07-20T21:15:59.946673Z"
    },
    "slideshow": {
     "slide_type": "fragment"
    },
    "tags": []
   },
   "outputs": [
    {
     "name": "stdout",
     "output_type": "stream",
     "text": [
      "Días de devengo: 365\n",
      "Check: 202,777,778\n"
     ]
    }
   ],
   "source": [
    "dias_devengo = fecha_inicio.day_diff(fecha_final)\n",
    "print(f\"Días de devengo: {dias_devengo}\")\n",
    "print(f\"Check: {fixed_rate_cashflow.get_nominal() * valor_tasa_fija * dias_devengo / 360:,.0f}\")"
   ]
  },
  {
   "cell_type": "markdown",
   "metadata": {
    "editable": true,
    "slideshow": {
     "slide_type": "slide"
    },
    "tags": []
   },
   "source": [
    "Método `accrued_interest`. Calcula el interés devengado a una cierta fecha."
   ]
  },
  {
   "cell_type": "code",
   "execution_count": 36,
   "metadata": {
    "editable": true,
    "execution": {
     "iopub.execute_input": "2024-07-20T21:15:59.951362Z",
     "iopub.status.busy": "2024-07-20T21:15:59.951110Z",
     "iopub.status.idle": "2024-07-20T21:15:59.955102Z",
     "shell.execute_reply": "2024-07-20T21:15:59.954524Z",
     "shell.execute_reply.started": "2024-07-20T21:15:59.951343Z"
    },
    "slideshow": {
     "slide_type": "fragment"
    },
    "tags": []
   },
   "outputs": [
    {
     "name": "stdout",
     "output_type": "stream",
     "text": [
      "Interés Devengado: 133,333,333\n",
      "Días de devengo: 240\n",
      "Check: 133,333,333\n"
     ]
    }
   ],
   "source": [
    "fecha_intermedia = qcf.QCDate(15, 1, 2025)\n",
    "print(f\"Interés Devengado: {fixed_rate_cashflow.accrued_interest(fecha_intermedia):,.0f}\")\n",
    "dias_devengo = fecha_inicio.day_diff(fecha_intermedia)\n",
    "print(f\"Días de devengo: {dias_devengo}\")\n",
    "print(f\"Check: {fixed_rate_cashflow.get_nominal() * valor_tasa_fija * dias_devengo / 360.0:,.0f}\")"
   ]
  },
  {
   "cell_type": "markdown",
   "metadata": {
    "editable": true,
    "slideshow": {
     "slide_type": "fragment"
    },
    "tags": []
   },
   "source": [
    "Con este método, utilizando la fecha final del flujo se puede obtener el interés total."
   ]
  },
  {
   "cell_type": "code",
   "execution_count": 37,
   "metadata": {
    "ExecuteTime": {
     "end_time": "2022-01-21T13:43:02.712832Z",
     "start_time": "2022-01-21T13:43:02.698869Z"
    },
    "editable": true,
    "execution": {
     "iopub.execute_input": "2024-07-20T21:15:59.956387Z",
     "iopub.status.busy": "2024-07-20T21:15:59.956131Z",
     "iopub.status.idle": "2024-07-20T21:15:59.959653Z",
     "shell.execute_reply": "2024-07-20T21:15:59.958966Z",
     "shell.execute_reply.started": "2024-07-20T21:15:59.956367Z"
    },
    "slideshow": {
     "slide_type": "fragment"
    },
    "tags": []
   },
   "outputs": [
    {
     "name": "stdout",
     "output_type": "stream",
     "text": [
      "Interés total: al 202,777,778\n"
     ]
    }
   ],
   "source": [
    "print(f\"Interés total: al {fixed_rate_cashflow.accrued_interest(fixed_rate_cashflow.get_end_date()):,.0f}\")"
   ]
  },
  {
   "cell_type": "markdown",
   "metadata": {
    "editable": true,
    "slideshow": {
     "slide_type": "slide"
    },
    "tags": []
   },
   "source": [
    "### Función `show`"
   ]
  },
  {
   "cell_type": "code",
   "execution_count": 38,
   "metadata": {
    "ExecuteTime": {
     "end_time": "2022-01-21T13:43:02.696875Z",
     "start_time": "2022-01-21T13:43:02.682912Z"
    },
    "editable": true,
    "execution": {
     "iopub.execute_input": "2024-07-20T21:15:59.960782Z",
     "iopub.status.busy": "2024-07-20T21:15:59.960549Z",
     "iopub.status.idle": "2024-07-20T21:15:59.963993Z",
     "shell.execute_reply": "2024-07-20T21:15:59.963361Z",
     "shell.execute_reply.started": "2024-07-20T21:15:59.960763Z"
    },
    "slideshow": {
     "slide_type": "fragment"
    },
    "tags": []
   },
   "outputs": [
    {
     "name": "stdout",
     "output_type": "stream",
     "text": [
      "('2024-05-20', '2025-05-20', '2025-05-22', 2000000000.0, 200000000.0, 202777777.77777794, False, 202777777.77777794, 'CLP', 0.1, 'LinAct360')\n"
     ]
    }
   ],
   "source": [
    "print(qcf.show(fixed_rate_cashflow))"
   ]
  },
  {
   "cell_type": "markdown",
   "metadata": {
    "editable": true,
    "execution": {
     "iopub.execute_input": "2024-05-26T12:29:34.116825Z",
     "iopub.status.busy": "2024-05-26T12:29:34.116598Z",
     "iopub.status.idle": "2024-05-26T12:29:34.120346Z",
     "shell.execute_reply": "2024-05-26T12:29:34.119854Z",
     "shell.execute_reply.started": "2024-05-26T12:29:34.116806Z"
    },
    "slideshow": {
     "slide_type": "slide"
    },
    "tags": []
   },
   "source": [
    "### Función `get_column_names`"
   ]
  },
  {
   "cell_type": "code",
   "execution_count": 39,
   "metadata": {
    "editable": true,
    "execution": {
     "iopub.execute_input": "2024-07-20T21:15:59.965046Z",
     "iopub.status.busy": "2024-07-20T21:15:59.964850Z",
     "iopub.status.idle": "2024-07-20T21:15:59.970052Z",
     "shell.execute_reply": "2024-07-20T21:15:59.969439Z",
     "shell.execute_reply.started": "2024-07-20T21:15:59.965028Z"
    },
    "slideshow": {
     "slide_type": "fragment"
    },
    "tags": []
   },
   "outputs": [
    {
     "data": {
      "text/plain": [
       "('fecha_inicial',\n",
       " 'fecha_final',\n",
       " 'fecha_pago',\n",
       " 'nominal',\n",
       " 'amortizacion',\n",
       " 'interes',\n",
       " 'amort_es_flujo',\n",
       " 'flujo',\n",
       " 'moneda',\n",
       " 'valor_tasa',\n",
       " 'tipo_tasa')"
      ]
     },
     "execution_count": 39,
     "metadata": {},
     "output_type": "execute_result"
    }
   ],
   "source": [
    "qcf.get_column_names(fixed_rate_cashflow.get_type())"
   ]
  },
  {
   "cell_type": "markdown",
   "metadata": {
    "editable": true,
    "slideshow": {
     "slide_type": "slide"
    },
    "tags": []
   },
   "source": [
    "Nuevamente, juntando las últimas dos funciones se obtiene una representación tabular del flujo usando `pandas.DataFrame`."
   ]
  },
  {
   "cell_type": "code",
   "execution_count": 40,
   "metadata": {
    "editable": true,
    "execution": {
     "iopub.execute_input": "2024-07-20T21:15:59.971131Z",
     "iopub.status.busy": "2024-07-20T21:15:59.970879Z",
     "iopub.status.idle": "2024-07-20T21:15:59.978954Z",
     "shell.execute_reply": "2024-07-20T21:15:59.978414Z",
     "shell.execute_reply.started": "2024-07-20T21:15:59.971113Z"
    },
    "slideshow": {
     "slide_type": "fragment"
    },
    "tags": []
   },
   "outputs": [
    {
     "data": {
      "text/html": [
       "<style type=\"text/css\">\n",
       "</style>\n",
       "<table id=\"T_4cd0b\">\n",
       "  <thead>\n",
       "    <tr>\n",
       "      <th class=\"blank level0\" >&nbsp;</th>\n",
       "      <th id=\"T_4cd0b_level0_col0\" class=\"col_heading level0 col0\" >fecha_inicial</th>\n",
       "      <th id=\"T_4cd0b_level0_col1\" class=\"col_heading level0 col1\" >fecha_final</th>\n",
       "      <th id=\"T_4cd0b_level0_col2\" class=\"col_heading level0 col2\" >fecha_pago</th>\n",
       "      <th id=\"T_4cd0b_level0_col3\" class=\"col_heading level0 col3\" >nominal</th>\n",
       "      <th id=\"T_4cd0b_level0_col4\" class=\"col_heading level0 col4\" >amortizacion</th>\n",
       "      <th id=\"T_4cd0b_level0_col5\" class=\"col_heading level0 col5\" >interes</th>\n",
       "      <th id=\"T_4cd0b_level0_col6\" class=\"col_heading level0 col6\" >amort_es_flujo</th>\n",
       "      <th id=\"T_4cd0b_level0_col7\" class=\"col_heading level0 col7\" >flujo</th>\n",
       "      <th id=\"T_4cd0b_level0_col8\" class=\"col_heading level0 col8\" >moneda</th>\n",
       "      <th id=\"T_4cd0b_level0_col9\" class=\"col_heading level0 col9\" >valor_tasa</th>\n",
       "      <th id=\"T_4cd0b_level0_col10\" class=\"col_heading level0 col10\" >tipo_tasa</th>\n",
       "    </tr>\n",
       "  </thead>\n",
       "  <tbody>\n",
       "    <tr>\n",
       "      <th id=\"T_4cd0b_level0_row0\" class=\"row_heading level0 row0\" >0</th>\n",
       "      <td id=\"T_4cd0b_row0_col0\" class=\"data row0 col0\" >2024-05-20</td>\n",
       "      <td id=\"T_4cd0b_row0_col1\" class=\"data row0 col1\" >2025-05-20</td>\n",
       "      <td id=\"T_4cd0b_row0_col2\" class=\"data row0 col2\" >2025-05-22</td>\n",
       "      <td id=\"T_4cd0b_row0_col3\" class=\"data row0 col3\" >2,000,000,000</td>\n",
       "      <td id=\"T_4cd0b_row0_col4\" class=\"data row0 col4\" >200,000,000</td>\n",
       "      <td id=\"T_4cd0b_row0_col5\" class=\"data row0 col5\" >202,777,778</td>\n",
       "      <td id=\"T_4cd0b_row0_col6\" class=\"data row0 col6\" >False</td>\n",
       "      <td id=\"T_4cd0b_row0_col7\" class=\"data row0 col7\" >202,777,778</td>\n",
       "      <td id=\"T_4cd0b_row0_col8\" class=\"data row0 col8\" >CLP</td>\n",
       "      <td id=\"T_4cd0b_row0_col9\" class=\"data row0 col9\" >10.00%</td>\n",
       "      <td id=\"T_4cd0b_row0_col10\" class=\"data row0 col10\" >LinAct360</td>\n",
       "    </tr>\n",
       "  </tbody>\n",
       "</table>\n"
      ],
      "text/plain": [
       "<pandas.io.formats.style.Styler at 0x11ec1e390>"
      ]
     },
     "execution_count": 40,
     "metadata": {},
     "output_type": "execute_result"
    }
   ],
   "source": [
    "df = pd.DataFrame(\n",
    "    [qcf.show(fixed_rate_cashflow)], \n",
    "    columns=qcf.get_column_names(fixed_rate_cashflow.get_type())\n",
    ")\n",
    "df.style.format({\n",
    "    'nominal':'{:,.0f}', \n",
    "    'amortizacion':'{:,.0f}', \n",
    "    'interes':'{:,.0f}', \n",
    "    'flujo':'{:,.0f}',\n",
    "    'valor_tasa':'{:.2%}'\n",
    "})"
   ]
  },
  {
   "cell_type": "markdown",
   "metadata": {
    "editable": true,
    "slideshow": {
     "slide_type": "slide"
    },
    "tags": []
   },
   "source": [
    "## Fixed Rate Multi Currency Cashflow"
   ]
  },
  {
   "cell_type": "markdown",
   "metadata": {
    "editable": true,
    "slideshow": {
     "slide_type": "slide"
    },
    "tags": []
   },
   "source": [
    "Un objeto de tipo `FixedRateMultiCurrencyCashflow` representa un flujo de caja a tasa fija (`FixedRateCashflow`) que se liquidará en una moneda distinta de la moneda del nominal utilizando el valor a una cierta fecha de un índice de tipo de cambio prefijado. Para dar de alta uno de estos objetos se requiere:\n",
    "\n",
    "- `QCDate`: fecha inicio (para la aplicación de la tasa)\n",
    "- `QCDate`: fecha final (para la aplicación de la tasa)\n",
    "- `QCDate`: fecha de pago\n",
    "- `float`: nominal (monto al que se le aplica la tasa)\n",
    "- `float`: amortización (eventual flujo de caja que corresponde a una porción del nominal)\n",
    "- `bool`: indica si la amortización anterior es un flujo de caja o sólo una disminución de nominal\n",
    "- `QCInterestRate`: la tasa de interés a aplicar (su valor y convenciones)\n",
    "- `QCCurrency`: moneda del nominal\n",
    "- `QCDate`: fecha de fijación del índice de tipo de cambio\n",
    "- `QCCurrency`: moneda en la que se liquida el flujo\n",
    "- `FXRateIndex`: índice de tipo de cambio a utilizar\n",
    "- `float`: valor del índice de tipo de cambio"
   ]
  },
  {
   "cell_type": "markdown",
   "metadata": {
    "editable": true,
    "slideshow": {
     "slide_type": "slide"
    },
    "tags": []
   },
   "source": [
    "### Construcción"
   ]
  },
  {
   "cell_type": "markdown",
   "metadata": {
    "editable": true,
    "slideshow": {
     "slide_type": "fragment"
    },
    "tags": []
   },
   "source": [
    "Cuando coinciden, se usan los mismos parámetros que en el ejemplo anterior y agregamos los nuevos parámetros requeridos."
   ]
  },
  {
   "cell_type": "code",
   "execution_count": 41,
   "metadata": {
    "ExecuteTime": {
     "end_time": "2022-01-21T13:43:02.852459Z",
     "start_time": "2022-01-21T13:43:02.838497Z"
    },
    "editable": true,
    "execution": {
     "iopub.execute_input": "2024-07-20T21:15:59.980057Z",
     "iopub.status.busy": "2024-07-20T21:15:59.979855Z",
     "iopub.status.idle": "2024-07-20T21:15:59.983476Z",
     "shell.execute_reply": "2024-07-20T21:15:59.982630Z",
     "shell.execute_reply.started": "2024-07-20T21:15:59.980038Z"
    },
    "slideshow": {
     "slide_type": "fragment"
    },
    "tags": []
   },
   "outputs": [],
   "source": [
    "fecha_fijacion = fecha_final\n",
    "usd = qcf.QCUSD()\n",
    "indice = usdclp_obs\n",
    "valor_indice = 900.0\n",
    "nominal = 1_000_000.0\n",
    "amort = 100_000.0\n",
    "amort_is_cashflow = True"
   ]
  },
  {
   "cell_type": "markdown",
   "metadata": {
    "editable": true,
    "slideshow": {
     "slide_type": "slide"
    },
    "tags": []
   },
   "source": [
    "Se instancia el objeto."
   ]
  },
  {
   "cell_type": "code",
   "execution_count": 42,
   "metadata": {
    "editable": true,
    "execution": {
     "iopub.execute_input": "2024-07-20T21:15:59.984637Z",
     "iopub.status.busy": "2024-07-20T21:15:59.984353Z",
     "iopub.status.idle": "2024-07-20T21:15:59.987727Z",
     "shell.execute_reply": "2024-07-20T21:15:59.987185Z",
     "shell.execute_reply.started": "2024-07-20T21:15:59.984590Z"
    },
    "slideshow": {
     "slide_type": "fragment"
    },
    "tags": []
   },
   "outputs": [],
   "source": [
    "fixed_rate_mccy_cashflow = qcf.FixedRateMultiCurrencyCashflow(\n",
    "    fecha_inicio,\n",
    "    fecha_final,\n",
    "    fecha_pago,\n",
    "    nominal,\n",
    "    amort,\n",
    "    amort_is_cashflow,\n",
    "    tasa,\n",
    "    usd,\n",
    "    fecha_fijacion,\n",
    "    clp,\n",
    "    indice,\n",
    "    valor_indice,\n",
    ")"
   ]
  },
  {
   "cell_type": "markdown",
   "metadata": {
    "editable": true,
    "slideshow": {
     "slide_type": "slide"
    },
    "tags": []
   },
   "source": [
    "### Getters"
   ]
  },
  {
   "cell_type": "markdown",
   "metadata": {
    "editable": true,
    "slideshow": {
     "slide_type": "fragment"
    },
    "tags": []
   },
   "source": [
    "La clase `FixedRateMultiCurrencyCashflow` es una subclase de `FixedRateCashflow` y por lo tanto, hereda todos sus métodos y variables."
   ]
  },
  {
   "cell_type": "code",
   "execution_count": 43,
   "metadata": {
    "ExecuteTime": {
     "end_time": "2022-01-21T13:43:02.868416Z",
     "start_time": "2022-01-21T13:43:02.853456Z"
    },
    "editable": true,
    "execution": {
     "iopub.execute_input": "2024-07-20T21:15:59.988916Z",
     "iopub.status.busy": "2024-07-20T21:15:59.988692Z",
     "iopub.status.idle": "2024-07-20T21:15:59.993385Z",
     "shell.execute_reply": "2024-07-20T21:15:59.992849Z",
     "shell.execute_reply.started": "2024-07-20T21:15:59.988896Z"
    },
    "slideshow": {
     "slide_type": "fragment"
    },
    "tags": []
   },
   "outputs": [
    {
     "name": "stdout",
     "output_type": "stream",
     "text": [
      "Tipo de flujo: FixedRateMultiCurrencyCashflow\n",
      "Fecha Inicio: 2024-05-20\n",
      "Fecha Final: 2025-05-20\n",
      "Fecha Pago: 2025-05-22\n",
      "Fecha Fijación Índice FX: 2025-05-20\n",
      "Moneda del Nominal: USD\n",
      "Nominal: 1,000,000\n",
      "Amortización: 100,000\n",
      "Moneda de Liquidación: CLP\n",
      "Tasa de interés: 10.00%\n"
     ]
    }
   ],
   "source": [
    "print(f\"Tipo de flujo: {fixed_rate_mccy_cashflow.get_type()}\")\n",
    "print(f\"Fecha Inicio: {fixed_rate_mccy_cashflow.get_start_date()}\")\n",
    "print(f\"Fecha Final: {fixed_rate_mccy_cashflow.get_end_date()}\")\n",
    "print(f\"Fecha Pago: {fixed_rate_mccy_cashflow.get_settlement_date()}\")\n",
    "print(f\"Fecha Fijación Índice FX: {fixed_rate_mccy_cashflow.get_fx_fixing_date()}\")\n",
    "print(f\"Moneda del Nominal: {fixed_rate_mccy_cashflow.ccy()}\")\n",
    "print(f\"Nominal: {fixed_rate_mccy_cashflow.get_nominal():,.0f}\")\n",
    "print(f\"Amortización: {fixed_rate_mccy_cashflow.get_amortization():,.0f}\")\n",
    "print(f\"Moneda de Liquidación: {fixed_rate_mccy_cashflow.settlement_currency()}\")\n",
    "\n",
    "# Aquí se usa un getter de QCInterestRate\n",
    "print(f\"Tasa de interés: {fixed_rate_mccy_cashflow.get_rate().get_value():.2%}\")"
   ]
  },
  {
   "cell_type": "markdown",
   "metadata": {
    "editable": true,
    "slideshow": {
     "slide_type": "slide"
    },
    "tags": []
   },
   "source": [
    "### Setters"
   ]
  },
  {
   "cell_type": "markdown",
   "metadata": {
    "editable": true,
    "slideshow": {
     "slide_type": "fragment"
    },
    "tags": []
   },
   "source": [
    "Nuevo nominal."
   ]
  },
  {
   "cell_type": "code",
   "execution_count": 44,
   "metadata": {
    "editable": true,
    "execution": {
     "iopub.execute_input": "2024-07-20T21:15:59.994486Z",
     "iopub.status.busy": "2024-07-20T21:15:59.994307Z",
     "iopub.status.idle": "2024-07-20T21:15:59.997840Z",
     "shell.execute_reply": "2024-07-20T21:15:59.997234Z",
     "shell.execute_reply.started": "2024-07-20T21:15:59.994467Z"
    },
    "slideshow": {
     "slide_type": "fragment"
    },
    "tags": []
   },
   "outputs": [
    {
     "name": "stdout",
     "output_type": "stream",
     "text": [
      "Nuevo nominal: 100.0\n"
     ]
    }
   ],
   "source": [
    "nuevo_nominal = 100.0\n",
    "fixed_rate_mccy_cashflow.set_nominal(nuevo_nominal)\n",
    "print(f\"Nuevo nominal: {fixed_rate_mccy_cashflow.get_nominal():,.1f}\")"
   ]
  },
  {
   "cell_type": "markdown",
   "metadata": {
    "editable": true,
    "slideshow": {
     "slide_type": "fragment"
    },
    "tags": []
   },
   "source": [
    "Nueva amortización."
   ]
  },
  {
   "cell_type": "code",
   "execution_count": 45,
   "metadata": {
    "ExecuteTime": {
     "end_time": "2022-01-21T13:43:02.884373Z",
     "start_time": "2022-01-21T13:43:02.870411Z"
    },
    "editable": true,
    "execution": {
     "iopub.execute_input": "2024-07-20T21:15:59.999033Z",
     "iopub.status.busy": "2024-07-20T21:15:59.998753Z",
     "iopub.status.idle": "2024-07-20T21:16:00.002739Z",
     "shell.execute_reply": "2024-07-20T21:16:00.002046Z",
     "shell.execute_reply.started": "2024-07-20T21:15:59.999012Z"
    },
    "slideshow": {
     "slide_type": "fragment"
    },
    "tags": []
   },
   "outputs": [
    {
     "name": "stdout",
     "output_type": "stream",
     "text": [
      "Nueva amortización: 10.0\n"
     ]
    }
   ],
   "source": [
    "nueva_amortizacion = 10.0\n",
    "fixed_rate_mccy_cashflow.set_amortization(nueva_amortizacion)\n",
    "print(f\"Nueva amortización: {fixed_rate_mccy_cashflow.get_amortization():,.1f}\")"
   ]
  },
  {
   "cell_type": "markdown",
   "metadata": {
    "editable": true,
    "slideshow": {
     "slide_type": "slide"
    },
    "tags": []
   },
   "source": [
    "Cambiar el valor de la tasa."
   ]
  },
  {
   "cell_type": "code",
   "execution_count": 46,
   "metadata": {
    "editable": true,
    "execution": {
     "iopub.execute_input": "2024-07-20T21:16:00.004154Z",
     "iopub.status.busy": "2024-07-20T21:16:00.003891Z",
     "iopub.status.idle": "2024-07-20T21:16:00.007444Z",
     "shell.execute_reply": "2024-07-20T21:16:00.006742Z",
     "shell.execute_reply.started": "2024-07-20T21:16:00.004129Z"
    },
    "slideshow": {
     "slide_type": "fragment"
    },
    "tags": []
   },
   "outputs": [
    {
     "name": "stdout",
     "output_type": "stream",
     "text": [
      "Nuevo valor de la tasa: 12.00%\n"
     ]
    }
   ],
   "source": [
    "fixed_rate_mccy_cashflow.set_rate_value(new_rate_value)\n",
    "print(f\"Nuevo valor de la tasa: {fixed_rate_mccy_cashflow.get_rate().get_value():.2%}\")"
   ]
  },
  {
   "cell_type": "markdown",
   "metadata": {
    "editable": true,
    "slideshow": {
     "slide_type": "slide"
    },
    "tags": []
   },
   "source": [
    "### Cálculos"
   ]
  },
  {
   "cell_type": "markdown",
   "metadata": {
    "editable": true,
    "slideshow": {
     "slide_type": "fragment"
    },
    "tags": []
   },
   "source": [
    "Se vuelve al nominal, amortización y valor de la tasa iniciales."
   ]
  },
  {
   "cell_type": "code",
   "execution_count": 47,
   "metadata": {
    "ExecuteTime": {
     "end_time": "2022-01-21T13:43:02.900331Z",
     "start_time": "2022-01-21T13:43:02.885371Z"
    },
    "editable": true,
    "execution": {
     "iopub.execute_input": "2024-07-20T21:16:00.008707Z",
     "iopub.status.busy": "2024-07-20T21:16:00.008428Z",
     "iopub.status.idle": "2024-07-20T21:16:00.011842Z",
     "shell.execute_reply": "2024-07-20T21:16:00.011206Z",
     "shell.execute_reply.started": "2024-07-20T21:16:00.008685Z"
    },
    "slideshow": {
     "slide_type": "fragment"
    },
    "tags": []
   },
   "outputs": [],
   "source": [
    "fixed_rate_mccy_cashflow.set_nominal(nominal)\n",
    "fixed_rate_mccy_cashflow.set_amortization(amort)\n",
    "fixed_rate_mccy_cashflow.set_rate_value(valor_tasa_fija)"
   ]
  },
  {
   "cell_type": "markdown",
   "metadata": {
    "editable": true,
    "slideshow": {
     "slide_type": "slide"
    },
    "tags": []
   },
   "source": [
    "Método `amount`. En este caso sí se incluye la amortización (`amort_is_cashflow = True`)."
   ]
  },
  {
   "cell_type": "code",
   "execution_count": 48,
   "metadata": {
    "editable": true,
    "execution": {
     "iopub.execute_input": "2024-07-20T21:16:00.012793Z",
     "iopub.status.busy": "2024-07-20T21:16:00.012595Z",
     "iopub.status.idle": "2024-07-20T21:16:00.016139Z",
     "shell.execute_reply": "2024-07-20T21:16:00.015553Z",
     "shell.execute_reply.started": "2024-07-20T21:16:00.012774Z"
    },
    "slideshow": {
     "slide_type": "fragment"
    },
    "tags": []
   },
   "outputs": [
    {
     "name": "stdout",
     "output_type": "stream",
     "text": [
      "Flujo Total: 201,388.89\n",
      "Check: 201,388.89\n"
     ]
    }
   ],
   "source": [
    "print(f\"Flujo Total: {fixed_rate_mccy_cashflow.amount():,.2f}\")\n",
    "dias_devengo = fecha_inicio.day_diff(fecha_final)\n",
    "print(\n",
    "    f\"Check: {fixed_rate_mccy_cashflow.get_nominal() * valor_tasa_fija * dias_devengo / 360 + fixed_rate_mccy_cashflow.get_amortization():,.2f}\"\n",
    ")"
   ]
  },
  {
   "cell_type": "markdown",
   "metadata": {
    "editable": true,
    "slideshow": {
     "slide_type": "slide"
    },
    "tags": []
   },
   "source": [
    "Método `accrued_interest`."
   ]
  },
  {
   "cell_type": "code",
   "execution_count": 49,
   "metadata": {
    "editable": true,
    "execution": {
     "iopub.execute_input": "2024-07-20T21:16:00.017423Z",
     "iopub.status.busy": "2024-07-20T21:16:00.017180Z",
     "iopub.status.idle": "2024-07-20T21:16:00.020889Z",
     "shell.execute_reply": "2024-07-20T21:16:00.020289Z",
     "shell.execute_reply.started": "2024-07-20T21:16:00.017402Z"
    },
    "slideshow": {
     "slide_type": "fragment"
    },
    "tags": []
   },
   "outputs": [
    {
     "name": "stdout",
     "output_type": "stream",
     "text": [
      "Interés Devengado: 66,666.67\n",
      "Check: 66,666.67\n"
     ]
    }
   ],
   "source": [
    "fecha_intermedia = qcf.QCDate(15, 1, 2025)\n",
    "print(f\"Interés Devengado: {(interes_devengado:=fixed_rate_mccy_cashflow.accrued_interest(fecha_intermedia)):,.02f}\")\n",
    "print(f\"Check: {fixed_rate_mccy_cashflow.get_nominal() * valor_tasa_fija * fecha_inicio.day_diff(fecha_intermedia) / 360.0:,.02f}\")"
   ]
  },
  {
   "cell_type": "markdown",
   "metadata": {
    "editable": true,
    "slideshow": {
     "slide_type": "slide"
    },
    "tags": []
   },
   "source": [
    "Método `accrued_interest_in_sett_currency`. Retorna el interés devengado en moneda de pago. Para esto requiere de un objeto de tipo `time_series` que contenga el valor del índice a la fecha de devengo solicitada."
   ]
  },
  {
   "cell_type": "code",
   "execution_count": 50,
   "metadata": {
    "ExecuteTime": {
     "end_time": "2022-01-21T13:43:02.915291Z",
     "start_time": "2022-01-21T13:43:02.901329Z"
    },
    "editable": true,
    "execution": {
     "iopub.execute_input": "2024-07-20T21:16:00.022064Z",
     "iopub.status.busy": "2024-07-20T21:16:00.021792Z",
     "iopub.status.idle": "2024-07-20T21:16:00.025334Z",
     "shell.execute_reply": "2024-07-20T21:16:00.024683Z",
     "shell.execute_reply.started": "2024-07-20T21:16:00.022045Z"
    },
    "slideshow": {
     "slide_type": "fragment"
    },
    "tags": []
   },
   "outputs": [],
   "source": [
    "ts = qcf.time_series()\n",
    "ts[fecha_inicio] = 900\n",
    "ts[fecha_intermedia] = 950"
   ]
  },
  {
   "cell_type": "code",
   "execution_count": 51,
   "metadata": {
    "ExecuteTime": {
     "end_time": "2022-01-21T13:43:02.978123Z",
     "start_time": "2022-01-21T13:43:02.964161Z"
    },
    "editable": true,
    "execution": {
     "iopub.execute_input": "2024-07-20T21:16:00.026511Z",
     "iopub.status.busy": "2024-07-20T21:16:00.026250Z",
     "iopub.status.idle": "2024-07-20T21:16:00.029979Z",
     "shell.execute_reply": "2024-07-20T21:16:00.029323Z",
     "shell.execute_reply.started": "2024-07-20T21:16:00.026490Z"
    },
    "slideshow": {
     "slide_type": "fragment"
    },
    "tags": []
   },
   "outputs": [
    {
     "name": "stdout",
     "output_type": "stream",
     "text": [
      "Interés devengado en moneda de pago: 63,333,333.33\n",
      "Check: 63,333,333.33\n"
     ]
    }
   ],
   "source": [
    "print(f\"Interés devengado en moneda de pago: {fixed_rate_mccy_cashflow.accrued_interest_in_sett_ccy(fecha_intermedia, ts):,.2f}\")\n",
    "print(f\"Check: {interes_devengado * ts[fecha_intermedia]:,.2f}\")"
   ]
  },
  {
   "cell_type": "markdown",
   "metadata": {
    "editable": true,
    "slideshow": {
     "slide_type": "slide"
    },
    "tags": []
   },
   "source": [
    "### Funciones `show` y `get_column_names`"
   ]
  },
  {
   "cell_type": "markdown",
   "metadata": {
    "editable": true,
    "slideshow": {
     "slide_type": "slide"
    },
    "tags": []
   },
   "source": [
    "Juntando estas dos funciones se obtiene una representación tabular del flujo usando `pandas.DataFrame`."
   ]
  },
  {
   "cell_type": "code",
   "execution_count": 52,
   "metadata": {
    "editable": true,
    "execution": {
     "iopub.execute_input": "2024-07-20T21:16:00.030852Z",
     "iopub.status.busy": "2024-07-20T21:16:00.030672Z",
     "iopub.status.idle": "2024-07-20T21:16:00.040162Z",
     "shell.execute_reply": "2024-07-20T21:16:00.039453Z",
     "shell.execute_reply.started": "2024-07-20T21:16:00.030834Z"
    },
    "slideshow": {
     "slide_type": "fragment"
    },
    "tags": []
   },
   "outputs": [
    {
     "data": {
      "text/html": [
       "<style type=\"text/css\">\n",
       "</style>\n",
       "<table id=\"T_2bafe\">\n",
       "  <thead>\n",
       "    <tr>\n",
       "      <th class=\"blank level0\" >&nbsp;</th>\n",
       "      <th id=\"T_2bafe_level0_col0\" class=\"col_heading level0 col0\" >fecha_inicial</th>\n",
       "      <th id=\"T_2bafe_level0_col1\" class=\"col_heading level0 col1\" >fecha_final</th>\n",
       "      <th id=\"T_2bafe_level0_col2\" class=\"col_heading level0 col2\" >fecha_pago</th>\n",
       "      <th id=\"T_2bafe_level0_col3\" class=\"col_heading level0 col3\" >nominal</th>\n",
       "      <th id=\"T_2bafe_level0_col4\" class=\"col_heading level0 col4\" >amortizacion</th>\n",
       "      <th id=\"T_2bafe_level0_col5\" class=\"col_heading level0 col5\" >interes</th>\n",
       "      <th id=\"T_2bafe_level0_col6\" class=\"col_heading level0 col6\" >amort_es_flujo</th>\n",
       "      <th id=\"T_2bafe_level0_col7\" class=\"col_heading level0 col7\" >flujo</th>\n",
       "      <th id=\"T_2bafe_level0_col8\" class=\"col_heading level0 col8\" >moneda_nocional</th>\n",
       "      <th id=\"T_2bafe_level0_col9\" class=\"col_heading level0 col9\" >valor_tasa</th>\n",
       "      <th id=\"T_2bafe_level0_col10\" class=\"col_heading level0 col10\" >tipo_tasa</th>\n",
       "      <th id=\"T_2bafe_level0_col11\" class=\"col_heading level0 col11\" >fecha_fixing_fx</th>\n",
       "      <th id=\"T_2bafe_level0_col12\" class=\"col_heading level0 col12\" >moneda_pago</th>\n",
       "      <th id=\"T_2bafe_level0_col13\" class=\"col_heading level0 col13\" >indice_fx</th>\n",
       "      <th id=\"T_2bafe_level0_col14\" class=\"col_heading level0 col14\" >valor_indice_fx</th>\n",
       "      <th id=\"T_2bafe_level0_col15\" class=\"col_heading level0 col15\" >amortizacion_moneda_pago</th>\n",
       "      <th id=\"T_2bafe_level0_col16\" class=\"col_heading level0 col16\" >interes_moneda_pago</th>\n",
       "    </tr>\n",
       "  </thead>\n",
       "  <tbody>\n",
       "    <tr>\n",
       "      <th id=\"T_2bafe_level0_row0\" class=\"row_heading level0 row0\" >0</th>\n",
       "      <td id=\"T_2bafe_row0_col0\" class=\"data row0 col0\" >2024-05-20</td>\n",
       "      <td id=\"T_2bafe_row0_col1\" class=\"data row0 col1\" >2025-05-20</td>\n",
       "      <td id=\"T_2bafe_row0_col2\" class=\"data row0 col2\" >2025-05-22</td>\n",
       "      <td id=\"T_2bafe_row0_col3\" class=\"data row0 col3\" >1,000,000.00</td>\n",
       "      <td id=\"T_2bafe_row0_col4\" class=\"data row0 col4\" >100,000.00</td>\n",
       "      <td id=\"T_2bafe_row0_col5\" class=\"data row0 col5\" >101,388.89</td>\n",
       "      <td id=\"T_2bafe_row0_col6\" class=\"data row0 col6\" >True</td>\n",
       "      <td id=\"T_2bafe_row0_col7\" class=\"data row0 col7\" >201,388.89</td>\n",
       "      <td id=\"T_2bafe_row0_col8\" class=\"data row0 col8\" >USD</td>\n",
       "      <td id=\"T_2bafe_row0_col9\" class=\"data row0 col9\" >10.00%</td>\n",
       "      <td id=\"T_2bafe_row0_col10\" class=\"data row0 col10\" >LinAct360</td>\n",
       "      <td id=\"T_2bafe_row0_col11\" class=\"data row0 col11\" >2025-05-20</td>\n",
       "      <td id=\"T_2bafe_row0_col12\" class=\"data row0 col12\" >CLP</td>\n",
       "      <td id=\"T_2bafe_row0_col13\" class=\"data row0 col13\" >USDOBS</td>\n",
       "      <td id=\"T_2bafe_row0_col14\" class=\"data row0 col14\" >900.00</td>\n",
       "      <td id=\"T_2bafe_row0_col15\" class=\"data row0 col15\" >90,000,000</td>\n",
       "      <td id=\"T_2bafe_row0_col16\" class=\"data row0 col16\" >91,250,000</td>\n",
       "    </tr>\n",
       "  </tbody>\n",
       "</table>\n"
      ],
      "text/plain": [
       "<pandas.io.formats.style.Styler at 0x11ec3eb90>"
      ]
     },
     "execution_count": 52,
     "metadata": {},
     "output_type": "execute_result"
    }
   ],
   "source": [
    "df = pd.DataFrame(\n",
    "    [qcf.show(fixed_rate_mccy_cashflow)], \n",
    "    columns=qcf.get_column_names(fixed_rate_mccy_cashflow.get_type())\n",
    ")\n",
    "df.style.format({\n",
    "    'nominal':'{:,.2f}', \n",
    "    'amortizacion':'{:,.2f}', \n",
    "    'amortizacion_moneda_pago':'{:,.0f}', \n",
    "    'interes':'{:,.2f}', \n",
    "    'interes_moneda_pago':'{:,.0f}', \n",
    "    'flujo':'{:,.2f}',\n",
    "    'valor_tasa':'{:.2%}',\n",
    "    'valor_indice_fx':'{:.2f}'\n",
    "})"
   ]
  },
  {
   "cell_type": "markdown",
   "metadata": {
    "editable": true,
    "slideshow": {
     "slide_type": "slide"
    },
    "tags": []
   },
   "source": [
    "## Ibor Cashflow"
   ]
  },
  {
   "cell_type": "markdown",
   "metadata": {
    "editable": true,
    "slideshow": {
     "slide_type": "slide"
    },
    "tags": []
   },
   "source": [
    "Un objeto de tipo `IborCashflow` representa un flujo de caja calculado a partir de la aplicación de una tasa flotante fijada en una cierta fecha (TERMSOFR, Euribor, ...) , entre dos fechas prefijadas a un nominal prefijado. Para dar de alta uno de estos objetos se requiere:\n",
    "\n",
    "- `InterestRateIndex`: el índice de tasa de interés prefijado\n",
    "- `QCDate`: fecha inicio (para la aplicación de la tasa)\n",
    "- `QCDate`: fecha final (para la aplicación de la tasa)\n",
    "- `QCDate`: fecha de fijación del índice de tasa de interés \n",
    "- `QCDate`: fecha de pago\n",
    "- `float`: nominal (monto al que se le aplica la tasa)\n",
    "- `float`: amortización (eventual flujo de caja que corresponde a una porción del nominal)\n",
    "- `bool`: indica si la amortización anterior es un flujo de caja o sólo una disminución de nominal\n",
    "- `QCCurrency`: moneda del nominal y del flujo de caja\n",
    "- `float`: spread aditivo a aplicar a la fijación del índice\n",
    "- `float`: spread multiplicativo o gearing a aplicar a la fijación del índice\n",
    "\n",
    "Para dar de alta un `InterestRateIndex` se requiere:\n",
    "\n",
    "- `str`: código del índice\n",
    "- `QCInterestRate`: un objeto tasa de interés que contenga las convenciones del índice\n",
    "- `Tenor`: el lag de inicio del índice respecto a la fecha de fixing (por ejemplo 2d para Libor USD)\n",
    "- `Tenor`: el tenor del índice (3M por ejemplo para Libor USD 3M)\n",
    "- `QCBusinessCalendar`: el calendario de fixing\n",
    "- `QCBusinessCalendar`: el calendario de pago\n",
    "- `QCCurrency`: la moneda a la que corresponde el índice (por ejemplo EUR para EURIBOR 3M)\n"
   ]
  },
  {
   "cell_type": "markdown",
   "metadata": {},
   "source": [
    "### Construcción"
   ]
  },
  {
   "cell_type": "markdown",
   "metadata": {},
   "source": [
    "Se define primero el índice de tasa de interés."
   ]
  },
  {
   "cell_type": "code",
   "execution_count": 53,
   "metadata": {
    "execution": {
     "iopub.execute_input": "2024-07-20T21:16:00.041334Z",
     "iopub.status.busy": "2024-07-20T21:16:00.041001Z",
     "iopub.status.idle": "2024-07-20T21:16:00.047303Z",
     "shell.execute_reply": "2024-07-20T21:16:00.046756Z",
     "shell.execute_reply.started": "2024-07-20T21:16:00.041313Z"
    }
   },
   "outputs": [],
   "source": [
    "codigo = \"TERMSOFR6M\"\n",
    "lin_act360 = qcf.QCInterestRate(0.0, act360, lin_wf)\n",
    "fixing_lag = qcf.Tenor(\"2D\")\n",
    "tenor = qcf.Tenor(\"6M\")\n",
    "fixing_calendar = aux.get_business_calendar('US', range(2024, 2035))\n",
    "settlement_calendar = fixing_calendar\n",
    "term_sofr_6m = qcf.InterestRateIndex(\n",
    "    codigo, \n",
    "    lin_act360, \n",
    "    fixing_lag, \n",
    "    tenor, \n",
    "    fixing_calendar, \n",
    "    settlement_calendar, \n",
    "    usd\n",
    ")"
   ]
  },
  {
   "cell_type": "markdown",
   "metadata": {},
   "source": [
    "Getters del objeto `InterestRateIndex`."
   ]
  },
  {
   "cell_type": "code",
   "execution_count": 54,
   "metadata": {
    "execution": {
     "iopub.execute_input": "2024-07-20T21:16:00.048155Z",
     "iopub.status.busy": "2024-07-20T21:16:00.047943Z",
     "iopub.status.idle": "2024-07-20T21:16:00.051837Z",
     "shell.execute_reply": "2024-07-20T21:16:00.051090Z",
     "shell.execute_reply.started": "2024-07-20T21:16:00.048135Z"
    }
   },
   "outputs": [
    {
     "name": "stdout",
     "output_type": "stream",
     "text": [
      "Code: TERMSOFR6M\n",
      "Tenor: 6M\n",
      "Tasa: 0.000000 Act360 Lin\n"
     ]
    }
   ],
   "source": [
    "print(f\"Code: {term_sofr_6m.get_code()}\")\n",
    "print(f\"Tenor: {term_sofr_6m.get_tenor()}\")\n",
    "print(f\"Tasa: {term_sofr_6m.get_rate()}\")"
   ]
  },
  {
   "cell_type": "markdown",
   "metadata": {},
   "source": [
    "Para fijar el valor del índice en una fecha en particular."
   ]
  },
  {
   "cell_type": "code",
   "execution_count": 55,
   "metadata": {
    "ExecuteTime": {
     "end_time": "2022-01-21T13:43:03.054918Z",
     "start_time": "2022-01-21T13:43:03.040956Z"
    },
    "execution": {
     "iopub.execute_input": "2024-07-20T21:16:00.053062Z",
     "iopub.status.busy": "2024-07-20T21:16:00.052716Z",
     "iopub.status.idle": "2024-07-20T21:16:00.056199Z",
     "shell.execute_reply": "2024-07-20T21:16:00.055708Z",
     "shell.execute_reply.started": "2024-07-20T21:16:00.053041Z"
    }
   },
   "outputs": [
    {
     "name": "stdout",
     "output_type": "stream",
     "text": [
      "Fixing Tasa: 1.00%\n"
     ]
    }
   ],
   "source": [
    "term_sofr_6m.set_rate_value(0.01)\n",
    "print(f\"Fixing Tasa: {term_sofr_6m.get_rate().get_value():.2%}\")"
   ]
  },
  {
   "cell_type": "code",
   "execution_count": 56,
   "metadata": {
    "execution": {
     "iopub.execute_input": "2024-07-20T21:16:00.057680Z",
     "iopub.status.busy": "2024-07-20T21:16:00.057237Z",
     "iopub.status.idle": "2024-07-20T21:16:00.061062Z",
     "shell.execute_reply": "2024-07-20T21:16:00.060533Z",
     "shell.execute_reply.started": "2024-07-20T21:16:00.057658Z"
    }
   },
   "outputs": [
    {
     "name": "stdout",
     "output_type": "stream",
     "text": [
      "Fecha Inicio: 2018-09-24\n",
      "Fecha Final: 2019-03-25\n"
     ]
    }
   ],
   "source": [
    "fecha_fixing = qcf.QCDate(20, 9, 2018)\n",
    "print(f\"Fecha Inicio: {term_sofr_6m.get_start_date(fecha_fixing)}\")\n",
    "print(f\"Fecha Final: {term_sofr_6m.get_end_date(fecha_fixing)}\")"
   ]
  },
  {
   "cell_type": "markdown",
   "metadata": {},
   "source": [
    "Con esto, veamos un ejemplo de construcción y uso de un `IborCashflow`."
   ]
  },
  {
   "cell_type": "code",
   "execution_count": 57,
   "metadata": {
    "ExecuteTime": {
     "end_time": "2022-01-21T13:43:03.132710Z",
     "start_time": "2022-01-21T13:43:03.118748Z"
    },
    "execution": {
     "iopub.execute_input": "2024-07-20T21:16:00.062288Z",
     "iopub.status.busy": "2024-07-20T21:16:00.062042Z",
     "iopub.status.idle": "2024-07-20T21:16:00.066728Z",
     "shell.execute_reply": "2024-07-20T21:16:00.065879Z",
     "shell.execute_reply.started": "2024-07-20T21:16:00.062266Z"
    }
   },
   "outputs": [],
   "source": [
    "fecha_inicio = qcf.QCDate(20, 9, 2018)\n",
    "fecha_final = qcf.QCDate(20, 9, 2019)\n",
    "fecha_pago = qcf.QCDate(23, 9, 2019)\n",
    "fecha_fixing = qcf.QCDate(18, 9, 2018)\n",
    "nominal = 1_000_000.0\n",
    "amort = 100_000.0\n",
    "amort_is_cashflow = True\n",
    "spread = 0.0\n",
    "gearing = 1.0\n",
    "\n",
    "ibor_cashflow = qcf.IborCashflow(\n",
    "    term_sofr_6m,\n",
    "    fecha_inicio,\n",
    "    fecha_final,\n",
    "    fecha_fixing,\n",
    "    fecha_pago,\n",
    "    nominal,\n",
    "    amort,\n",
    "    amort_is_cashflow,\n",
    "    usd,\n",
    "    spread,\n",
    "    gearing,\n",
    ")"
   ]
  },
  {
   "cell_type": "markdown",
   "metadata": {},
   "source": [
    "### Getters"
   ]
  },
  {
   "cell_type": "code",
   "execution_count": 58,
   "metadata": {
    "ExecuteTime": {
     "end_time": "2022-01-21T13:43:03.148668Z",
     "start_time": "2022-01-21T13:43:03.133708Z"
    },
    "execution": {
     "iopub.execute_input": "2024-07-20T21:16:00.068044Z",
     "iopub.status.busy": "2024-07-20T21:16:00.067764Z",
     "iopub.status.idle": "2024-07-20T21:16:00.072901Z",
     "shell.execute_reply": "2024-07-20T21:16:00.072234Z",
     "shell.execute_reply.started": "2024-07-20T21:16:00.068022Z"
    }
   },
   "outputs": [
    {
     "name": "stdout",
     "output_type": "stream",
     "text": [
      "Tipo Cashflow:\tIborCashflow\n",
      "Fecha Fixing:\t2018-09-18\n",
      "Fecha Inicio:\t2018-09-20\n",
      "Fecha Final:\t2019-09-20\n",
      "Fecha Pago:\t2019-09-23\n",
      "Nominal:\t1,000,000\n",
      "Amortización:\t100,000\n",
      "Moneda:\t\tUSD\n",
      "Valor Tasa:\t1.00%\n",
      "Valor Spread:\t0.00%\n",
      "Valor Gearing:\t1.00\n"
     ]
    }
   ],
   "source": [
    "print(f\"Tipo Cashflow:\\t{ibor_cashflow.get_type()}\")\n",
    "print(f\"Fecha Fixing:\\t{ibor_cashflow.get_fixing_date()}\")\n",
    "print(f\"Fecha Inicio:\\t{ibor_cashflow.get_start_date()}\")\n",
    "print(f\"Fecha Final:\\t{ibor_cashflow.get_end_date()}\")\n",
    "print(f\"Fecha Pago:\\t{ibor_cashflow.get_settlement_date()}\")\n",
    "print(f\"Nominal:\\t{ibor_cashflow.get_nominal():,.0f}\")\n",
    "print(f\"Amortización:\\t{ibor_cashflow.get_amortization():,.0f}\")\n",
    "print(f\"Moneda:\\t\\t{ibor_cashflow.ccy()}\")\n",
    "print(f\"Valor Tasa:\\t{ibor_cashflow.get_interest_rate_value():.2%}\")\n",
    "print(f\"Valor Spread:\\t{ibor_cashflow.get_spread():.2%}\")\n",
    "print(f\"Valor Gearing:\\t{ibor_cashflow.get_gearing():.2f}\")"
   ]
  },
  {
   "cell_type": "markdown",
   "metadata": {},
   "source": [
    "### Setters"
   ]
  },
  {
   "cell_type": "markdown",
   "metadata": {},
   "source": [
    "Nuevo nominal."
   ]
  },
  {
   "cell_type": "code",
   "execution_count": 59,
   "metadata": {
    "ExecuteTime": {
     "end_time": "2022-01-21T13:43:03.163627Z",
     "start_time": "2022-01-21T13:43:03.149665Z"
    },
    "execution": {
     "iopub.execute_input": "2024-07-20T21:16:00.073812Z",
     "iopub.status.busy": "2024-07-20T21:16:00.073638Z",
     "iopub.status.idle": "2024-07-20T21:16:00.077415Z",
     "shell.execute_reply": "2024-07-20T21:16:00.076871Z",
     "shell.execute_reply.started": "2024-07-20T21:16:00.073793Z"
    }
   },
   "outputs": [
    {
     "name": "stdout",
     "output_type": "stream",
     "text": [
      "Nominal: 2,000,000\n"
     ]
    }
   ],
   "source": [
    "nuevo_nominal = 2_000_000.0\n",
    "ibor_cashflow.set_nominal(nuevo_nominal)\n",
    "print(f\"Nominal: {ibor_cashflow.get_nominal():,.0f}\")"
   ]
  },
  {
   "cell_type": "markdown",
   "metadata": {},
   "source": [
    "Nueva amortización."
   ]
  },
  {
   "cell_type": "code",
   "execution_count": 60,
   "metadata": {
    "execution": {
     "iopub.execute_input": "2024-07-20T21:16:00.078405Z",
     "iopub.status.busy": "2024-07-20T21:16:00.078241Z",
     "iopub.status.idle": "2024-07-20T21:16:00.081539Z",
     "shell.execute_reply": "2024-07-20T21:16:00.081051Z",
     "shell.execute_reply.started": "2024-07-20T21:16:00.078387Z"
    }
   },
   "outputs": [
    {
     "name": "stdout",
     "output_type": "stream",
     "text": [
      "Amortización: 200,000\n"
     ]
    }
   ],
   "source": [
    "nueva_amortizacion = 200_000.0\n",
    "ibor_cashflow.set_amortization(nueva_amortizacion)\n",
    "print(f\"Amortización: {ibor_cashflow.get_amortization():,.0f}\")"
   ]
  },
  {
   "cell_type": "markdown",
   "metadata": {},
   "source": [
    "Cambia el valor del índice."
   ]
  },
  {
   "cell_type": "code",
   "execution_count": 61,
   "metadata": {
    "execution": {
     "iopub.execute_input": "2024-07-20T21:16:00.082827Z",
     "iopub.status.busy": "2024-07-20T21:16:00.082573Z",
     "iopub.status.idle": "2024-07-20T21:16:00.086484Z",
     "shell.execute_reply": "2024-07-20T21:16:00.085798Z",
     "shell.execute_reply.started": "2024-07-20T21:16:00.082789Z"
    }
   },
   "outputs": [
    {
     "name": "stdout",
     "output_type": "stream",
     "text": [
      "Valor Tasa: 2.00%\n"
     ]
    }
   ],
   "source": [
    "ibor_cashflow.set_interest_rate_value(nuevo_valor_indice:=.02)\n",
    "print(f\"Valor Tasa: {ibor_cashflow.get_interest_rate_value():.2%}\")"
   ]
  },
  {
   "cell_type": "markdown",
   "metadata": {},
   "source": [
    "Cambia el valor del sepread."
   ]
  },
  {
   "cell_type": "code",
   "execution_count": 62,
   "metadata": {
    "execution": {
     "iopub.execute_input": "2024-07-20T21:16:00.087354Z",
     "iopub.status.busy": "2024-07-20T21:16:00.087187Z",
     "iopub.status.idle": "2024-07-20T21:16:00.090676Z",
     "shell.execute_reply": "2024-07-20T21:16:00.090062Z",
     "shell.execute_reply.started": "2024-07-20T21:16:00.087336Z"
    }
   },
   "outputs": [
    {
     "name": "stdout",
     "output_type": "stream",
     "text": [
      "Valor Spread: 1.00%\n"
     ]
    }
   ],
   "source": [
    "ibor_cashflow.set_spread(.01)\n",
    "print(f\"Valor Spread: {ibor_cashflow.get_spread():.2%}\")"
   ]
  },
  {
   "cell_type": "markdown",
   "metadata": {},
   "source": [
    "### Cálculos"
   ]
  },
  {
   "cell_type": "markdown",
   "metadata": {},
   "source": [
    "Método `amount`. Retorna el flujo total incluyendo la amortización si corresponde."
   ]
  },
  {
   "cell_type": "code",
   "execution_count": 63,
   "metadata": {
    "ExecuteTime": {
     "end_time": "2022-01-21T13:43:03.179585Z",
     "start_time": "2022-01-21T13:43:03.164625Z"
    },
    "execution": {
     "iopub.execute_input": "2024-07-20T21:16:00.091944Z",
     "iopub.status.busy": "2024-07-20T21:16:00.091722Z",
     "iopub.status.idle": "2024-07-20T21:16:00.095063Z",
     "shell.execute_reply": "2024-07-20T21:16:00.094399Z",
     "shell.execute_reply.started": "2024-07-20T21:16:00.091924Z"
    }
   },
   "outputs": [
    {
     "name": "stdout",
     "output_type": "stream",
     "text": [
      "Flujo: 240,555.56\n"
     ]
    }
   ],
   "source": [
    "print(f\"Flujo: {ibor_cashflow.amount():,.2f}\")"
   ]
  },
  {
   "cell_type": "markdown",
   "metadata": {},
   "source": [
    "Método `accrued_interest`. Retorna el interés devengado a una cierta fecha."
   ]
  },
  {
   "cell_type": "code",
   "execution_count": 64,
   "metadata": {
    "execution": {
     "iopub.execute_input": "2024-07-20T21:16:00.096181Z",
     "iopub.status.busy": "2024-07-20T21:16:00.095949Z",
     "iopub.status.idle": "2024-07-20T21:16:00.100282Z",
     "shell.execute_reply": "2024-07-20T21:16:00.099560Z",
     "shell.execute_reply.started": "2024-07-20T21:16:00.096162Z"
    }
   },
   "outputs": [
    {
     "name": "stdout",
     "output_type": "stream",
     "text": [
      "Interés Devengado al 2019-07-20: 50,500.00\n",
      "Check: 50,500.00\n"
     ]
    }
   ],
   "source": [
    "fecha_devengo = qcf.QCDate(20, 7, 2019)\n",
    "print(f\"Interés Devengado al {fecha_devengo}: {ibor_cashflow.accrued_interest(fecha_devengo):,.2f}\")\n",
    "\n",
    "# La tasa es el valor del índice más el spread\n",
    "tasa = ibor_cashflow.get_interest_rate_value() * ibor_cashflow.get_gearing() + ibor_cashflow.get_spread()\n",
    "\n",
    "check = tasa * fecha_inicio.day_diff(fecha_devengo) / 360.0 * ibor_cashflow.get_nominal()\n",
    "print(f\"Check: {check:,.2f}\")"
   ]
  },
  {
   "cell_type": "markdown",
   "metadata": {},
   "source": [
    "### Funciones `show` y `get_column_names`"
   ]
  },
  {
   "cell_type": "markdown",
   "metadata": {},
   "source": [
    "Al igual que en casos anteriores, juntando estas dos funciones se obtiene una representación tabular del flujo usando `pandas.DataFrame`."
   ]
  },
  {
   "cell_type": "code",
   "execution_count": 65,
   "metadata": {
    "execution": {
     "iopub.execute_input": "2024-07-20T21:16:00.101541Z",
     "iopub.status.busy": "2024-07-20T21:16:00.101290Z",
     "iopub.status.idle": "2024-07-20T21:16:00.110033Z",
     "shell.execute_reply": "2024-07-20T21:16:00.109445Z",
     "shell.execute_reply.started": "2024-07-20T21:16:00.101521Z"
    }
   },
   "outputs": [
    {
     "data": {
      "text/html": [
       "<style type=\"text/css\">\n",
       "</style>\n",
       "<table id=\"T_4fc30\">\n",
       "  <thead>\n",
       "    <tr>\n",
       "      <th class=\"blank level0\" >&nbsp;</th>\n",
       "      <th id=\"T_4fc30_level0_col0\" class=\"col_heading level0 col0\" >fecha_inicial</th>\n",
       "      <th id=\"T_4fc30_level0_col1\" class=\"col_heading level0 col1\" >fecha_final</th>\n",
       "      <th id=\"T_4fc30_level0_col2\" class=\"col_heading level0 col2\" >fecha_fixing</th>\n",
       "      <th id=\"T_4fc30_level0_col3\" class=\"col_heading level0 col3\" >fecha_pago</th>\n",
       "      <th id=\"T_4fc30_level0_col4\" class=\"col_heading level0 col4\" >nominal</th>\n",
       "      <th id=\"T_4fc30_level0_col5\" class=\"col_heading level0 col5\" >amortizacion</th>\n",
       "      <th id=\"T_4fc30_level0_col6\" class=\"col_heading level0 col6\" >interes</th>\n",
       "      <th id=\"T_4fc30_level0_col7\" class=\"col_heading level0 col7\" >amort_es_flujo</th>\n",
       "      <th id=\"T_4fc30_level0_col8\" class=\"col_heading level0 col8\" >flujo</th>\n",
       "      <th id=\"T_4fc30_level0_col9\" class=\"col_heading level0 col9\" >moneda</th>\n",
       "      <th id=\"T_4fc30_level0_col10\" class=\"col_heading level0 col10\" >codigo_indice_tasa</th>\n",
       "      <th id=\"T_4fc30_level0_col11\" class=\"col_heading level0 col11\" >valor_tasa</th>\n",
       "      <th id=\"T_4fc30_level0_col12\" class=\"col_heading level0 col12\" >spread</th>\n",
       "      <th id=\"T_4fc30_level0_col13\" class=\"col_heading level0 col13\" >gearing</th>\n",
       "      <th id=\"T_4fc30_level0_col14\" class=\"col_heading level0 col14\" >tipo_tasa</th>\n",
       "    </tr>\n",
       "  </thead>\n",
       "  <tbody>\n",
       "    <tr>\n",
       "      <th id=\"T_4fc30_level0_row0\" class=\"row_heading level0 row0\" >0</th>\n",
       "      <td id=\"T_4fc30_row0_col0\" class=\"data row0 col0\" >2018-09-20</td>\n",
       "      <td id=\"T_4fc30_row0_col1\" class=\"data row0 col1\" >2019-09-20</td>\n",
       "      <td id=\"T_4fc30_row0_col2\" class=\"data row0 col2\" >2018-09-18</td>\n",
       "      <td id=\"T_4fc30_row0_col3\" class=\"data row0 col3\" >2019-09-23</td>\n",
       "      <td id=\"T_4fc30_row0_col4\" class=\"data row0 col4\" >2,000,000.00</td>\n",
       "      <td id=\"T_4fc30_row0_col5\" class=\"data row0 col5\" >200,000.00</td>\n",
       "      <td id=\"T_4fc30_row0_col6\" class=\"data row0 col6\" >40,555.56</td>\n",
       "      <td id=\"T_4fc30_row0_col7\" class=\"data row0 col7\" >True</td>\n",
       "      <td id=\"T_4fc30_row0_col8\" class=\"data row0 col8\" >240,555.56</td>\n",
       "      <td id=\"T_4fc30_row0_col9\" class=\"data row0 col9\" >USD</td>\n",
       "      <td id=\"T_4fc30_row0_col10\" class=\"data row0 col10\" >TERMSOFR6M</td>\n",
       "      <td id=\"T_4fc30_row0_col11\" class=\"data row0 col11\" >2.00%</td>\n",
       "      <td id=\"T_4fc30_row0_col12\" class=\"data row0 col12\" >1.00%</td>\n",
       "      <td id=\"T_4fc30_row0_col13\" class=\"data row0 col13\" >1.00</td>\n",
       "      <td id=\"T_4fc30_row0_col14\" class=\"data row0 col14\" >LinAct360</td>\n",
       "    </tr>\n",
       "  </tbody>\n",
       "</table>\n"
      ],
      "text/plain": [
       "<pandas.io.formats.style.Styler at 0x11ebe6390>"
      ]
     },
     "execution_count": 65,
     "metadata": {},
     "output_type": "execute_result"
    }
   ],
   "source": [
    "df = pd.DataFrame(\n",
    "    [qcf.show(ibor_cashflow)], \n",
    "    columns=qcf.get_column_names(ibor_cashflow.get_type())\n",
    ")\n",
    "df.style.format({\n",
    "    'nominal':'{:,.2f}', \n",
    "    'amortizacion':'{:,.2f}', \n",
    "    'interes':'{:,.2f}', \n",
    "    'flujo':'{:,.2f}',\n",
    "    'valor_tasa':'{:.2%}',\n",
    "    'spread':'{:.2%}',\n",
    "    'gearing':'{:.2f}',\n",
    "})"
   ]
  },
  {
   "cell_type": "markdown",
   "metadata": {},
   "source": [
    "## Ibor Multi Currency Cashflow"
   ]
  },
  {
   "cell_type": "markdown",
   "metadata": {},
   "source": [
    "Un objeto de tipo `IborMultiCurrencyCashflow` representa un flujo de caja a tasa variable (`IborCashflow`) que se liquidará en una moneda distinta de la moneda del nominal utilizando el valor a una cierta fecha de un índice de tipo de cambio prefijado. Para dar de alta uno de estos objetos se requiere:\n",
    "\n",
    "- `InterestRateIndex`: el índice de tasa de interés prefijado\n",
    "- `QCDate`: fecha inicio (para la aplicación de la tasa)\n",
    "- `QCDate`: fecha final (para la aplicación de la tasa)\n",
    "- `QCDate`: fecha de fijación del índice de tasa de interés \n",
    "- `QCDate`: fecha de pago\n",
    "- `float`: nominal (monto al que se le aplica la tasa)\n",
    "- `float`: amortización (eventual flujo de caja que corresponde a una porción del nominal)\n",
    "- `bool`: indica si la amortización anterior es un flujo de caja o sólo una disminución de nominal\n",
    "- `QCCurrency`: moneda del nominal y del flujo de caja\n",
    "- `float`: spread aditivo a aplicar a la fijación del índice\n",
    "- `float`: spread multiplicativo o gearing a aplicar a la fijación del índice\n",
    "- `QCDate`: fecha de publicación del índice de tipo de cambio\n",
    "- `QCCurrency`: moneda en la que se liquida el flujo\n",
    "- `FXRateIndex`: índice de tipo de cambio a utilizar\n",
    "- `float`: valor del índice de tipo de cambio"
   ]
  },
  {
   "cell_type": "markdown",
   "metadata": {},
   "source": [
    "### Construcción"
   ]
  },
  {
   "cell_type": "markdown",
   "metadata": {},
   "source": [
    "Parámetros iniciales, sólo agregamos los parámetros relacionados al MultiCurrency y fijamos el valor del índice de tasa de interés en 1.00%."
   ]
  },
  {
   "cell_type": "code",
   "execution_count": 66,
   "metadata": {
    "ExecuteTime": {
     "end_time": "2022-01-21T13:43:03.242417Z",
     "start_time": "2022-01-21T13:43:03.228455Z"
    },
    "execution": {
     "iopub.execute_input": "2024-07-20T21:30:35.137161Z",
     "iopub.status.busy": "2024-07-20T21:30:35.135619Z",
     "iopub.status.idle": "2024-07-20T21:30:35.147013Z",
     "shell.execute_reply": "2024-07-20T21:30:35.146044Z",
     "shell.execute_reply.started": "2024-07-20T21:30:35.137091Z"
    }
   },
   "outputs": [],
   "source": [
    "valor_indice_fx = 900.0\n",
    "fecha_publicacion = qcf.QCDate(20, 9, 2019)\n",
    "term_sofr_6m.set_rate_value(0.01)"
   ]
  },
  {
   "cell_type": "markdown",
   "metadata": {},
   "source": [
    "Se da de alta el objeto."
   ]
  },
  {
   "cell_type": "code",
   "execution_count": 67,
   "metadata": {
    "execution": {
     "iopub.execute_input": "2024-07-20T21:30:38.591107Z",
     "iopub.status.busy": "2024-07-20T21:30:38.590747Z",
     "iopub.status.idle": "2024-07-20T21:30:38.595424Z",
     "shell.execute_reply": "2024-07-20T21:30:38.594672Z",
     "shell.execute_reply.started": "2024-07-20T21:30:38.591084Z"
    }
   },
   "outputs": [],
   "source": [
    "ibor_mccy_cashflow = qcf.IborMultiCurrencyCashflow(\n",
    "    term_sofr_6m,\n",
    "    fecha_inicio,\n",
    "    fecha_final,\n",
    "    fecha_fixing,\n",
    "    fecha_pago,\n",
    "    nominal,\n",
    "    amort,\n",
    "    amort_is_cashflow,\n",
    "    usd,\n",
    "    spread,\n",
    "    gearing,\n",
    "    fecha_publicacion,\n",
    "    clp,\n",
    "    indice,\n",
    "    valor_indice,\n",
    ")"
   ]
  },
  {
   "cell_type": "markdown",
   "metadata": {},
   "source": [
    "### Getters"
   ]
  },
  {
   "cell_type": "markdown",
   "metadata": {},
   "source": [
    "El objeto `IborMultiCurrencyCashflow` es una subclase de `IborCashflow` y por lo tanto, hereda todos sus métodos y variables."
   ]
  },
  {
   "cell_type": "code",
   "execution_count": 68,
   "metadata": {
    "ExecuteTime": {
     "end_time": "2022-01-21T13:43:03.148668Z",
     "start_time": "2022-01-21T13:43:03.133708Z"
    },
    "execution": {
     "iopub.execute_input": "2024-07-20T21:30:56.939886Z",
     "iopub.status.busy": "2024-07-20T21:30:56.939573Z",
     "iopub.status.idle": "2024-07-20T21:30:56.947277Z",
     "shell.execute_reply": "2024-07-20T21:30:56.946460Z",
     "shell.execute_reply.started": "2024-07-20T21:30:56.939851Z"
    }
   },
   "outputs": [
    {
     "name": "stdout",
     "output_type": "stream",
     "text": [
      "Tipo Cashflow:\t IborMultiCurrencyCashflow\n",
      "Fecha Fixing:\t 2018-09-18\n",
      "Fecha Inicio:\t 2018-09-20\n",
      "Fecha Final:\t 2019-09-20\n",
      "Fecha Pago:\t 2019-09-23\n",
      "Nominal:\t 1,000,000\n",
      "Amortización:\t 100,000\n",
      "Moneda:\t\t USD\n",
      "Valor Tasa:\t 1.00%\n",
      "Valor Spread:\t 0.00%\n",
      "Valor Gearing:\t 1.00\n"
     ]
    }
   ],
   "source": [
    "print(f\"Tipo Cashflow:\\t {ibor_mccy_cashflow.get_type()}\")\n",
    "print(f\"Fecha Fixing:\\t {ibor_mccy_cashflow.get_fixing_date()}\")\n",
    "print(f\"Fecha Inicio:\\t {ibor_mccy_cashflow.get_start_date()}\")\n",
    "print(f\"Fecha Final:\\t {ibor_mccy_cashflow.get_end_date()}\")\n",
    "print(f\"Fecha Pago:\\t {ibor_mccy_cashflow.get_settlement_date()}\")\n",
    "print(f\"Nominal:\\t {ibor_mccy_cashflow.get_nominal():,.0f}\")\n",
    "print(f\"Amortización:\\t {ibor_mccy_cashflow.get_amortization():,.0f}\")\n",
    "print(f\"Moneda:\\t\\t {ibor_mccy_cashflow.ccy()}\")\n",
    "print(f\"Valor Tasa:\\t {ibor_mccy_cashflow.get_interest_rate_value():.2%}\")\n",
    "print(f\"Valor Spread:\\t {ibor_mccy_cashflow.get_spread():.2%}\")\n",
    "print(f\"Valor Gearing:\\t {ibor_mccy_cashflow.get_gearing():.2f}\")"
   ]
  },
  {
   "cell_type": "markdown",
   "metadata": {},
   "source": [
    "Adicionalmente tenemos:"
   ]
  },
  {
   "cell_type": "code",
   "execution_count": 69,
   "metadata": {
    "execution": {
     "iopub.execute_input": "2024-07-20T21:31:28.806766Z",
     "iopub.status.busy": "2024-07-20T21:31:28.806355Z",
     "iopub.status.idle": "2024-07-20T21:31:28.810678Z",
     "shell.execute_reply": "2024-07-20T21:31:28.809969Z",
     "shell.execute_reply.started": "2024-07-20T21:31:28.806740Z"
    }
   },
   "outputs": [
    {
     "name": "stdout",
     "output_type": "stream",
     "text": [
      "Fecha Fixing FX: 2019-09-20\n",
      "Valor Índice FX: 900.00\n"
     ]
    }
   ],
   "source": [
    "print(f\"Fecha Fixing FX: {ibor_mccy_cashflow.get_fx_fixing_date()}\")\n",
    "print(f\"Valor Índice FX: {ibor_mccy_cashflow.get_fx_rate_index_value():,.2f}\")"
   ]
  },
  {
   "cell_type": "markdown",
   "metadata": {},
   "source": [
    "### Setters"
   ]
  },
  {
   "cell_type": "markdown",
   "metadata": {},
   "source": [
    "Nuevo nominal."
   ]
  },
  {
   "cell_type": "code",
   "execution_count": 70,
   "metadata": {
    "ExecuteTime": {
     "end_time": "2022-01-21T13:43:03.163627Z",
     "start_time": "2022-01-21T13:43:03.149665Z"
    },
    "execution": {
     "iopub.execute_input": "2024-07-20T21:31:49.096332Z",
     "iopub.status.busy": "2024-07-20T21:31:49.096073Z",
     "iopub.status.idle": "2024-07-20T21:31:49.100332Z",
     "shell.execute_reply": "2024-07-20T21:31:49.099387Z",
     "shell.execute_reply.started": "2024-07-20T21:31:49.096310Z"
    }
   },
   "outputs": [
    {
     "name": "stdout",
     "output_type": "stream",
     "text": [
      "Nominal: 2,000,000\n"
     ]
    }
   ],
   "source": [
    "nuevo_nominal = 2_000_000.0\n",
    "ibor_mccy_cashflow.set_nominal(nuevo_nominal)\n",
    "print(f\"Nominal: {ibor_mccy_cashflow.get_nominal():,.0f}\")"
   ]
  },
  {
   "cell_type": "markdown",
   "metadata": {},
   "source": [
    "Nueva amortización."
   ]
  },
  {
   "cell_type": "code",
   "execution_count": 71,
   "metadata": {
    "execution": {
     "iopub.execute_input": "2024-07-20T21:31:57.399786Z",
     "iopub.status.busy": "2024-07-20T21:31:57.399440Z",
     "iopub.status.idle": "2024-07-20T21:31:57.404358Z",
     "shell.execute_reply": "2024-07-20T21:31:57.403582Z",
     "shell.execute_reply.started": "2024-07-20T21:31:57.399758Z"
    }
   },
   "outputs": [
    {
     "name": "stdout",
     "output_type": "stream",
     "text": [
      "Amortización: 200,000\n"
     ]
    }
   ],
   "source": [
    "nueva_amortizacion = 200_000.0\n",
    "ibor_mccy_cashflow.set_amortization(nueva_amortizacion)\n",
    "print(f\"Amortización: {ibor_mccy_cashflow.get_amortization():,.0f}\")"
   ]
  },
  {
   "cell_type": "markdown",
   "metadata": {},
   "source": [
    "Cambia el valor del índice de tasa de interés."
   ]
  },
  {
   "cell_type": "code",
   "execution_count": 72,
   "metadata": {
    "execution": {
     "iopub.execute_input": "2024-07-20T21:32:04.274660Z",
     "iopub.status.busy": "2024-07-20T21:32:04.274390Z",
     "iopub.status.idle": "2024-07-20T21:32:04.278737Z",
     "shell.execute_reply": "2024-07-20T21:32:04.277908Z",
     "shell.execute_reply.started": "2024-07-20T21:32:04.274636Z"
    }
   },
   "outputs": [
    {
     "name": "stdout",
     "output_type": "stream",
     "text": [
      "Valor Tasa: 2.00%\n"
     ]
    }
   ],
   "source": [
    "ibor_mccy_cashflow.set_interest_rate_value(nuevo_valor_indice:=.02)\n",
    "print(f\"Valor Tasa: {ibor_mccy_cashflow.get_interest_rate_value():.2%}\")"
   ]
  },
  {
   "cell_type": "markdown",
   "metadata": {},
   "source": [
    "Nuevo valor para el índice FX."
   ]
  },
  {
   "cell_type": "code",
   "execution_count": 73,
   "metadata": {
    "execution": {
     "iopub.execute_input": "2024-07-20T21:32:13.721128Z",
     "iopub.status.busy": "2024-07-20T21:32:13.720832Z",
     "iopub.status.idle": "2024-07-20T21:32:13.726132Z",
     "shell.execute_reply": "2024-07-20T21:32:13.725254Z",
     "shell.execute_reply.started": "2024-07-20T21:32:13.721103Z"
    }
   },
   "outputs": [
    {
     "name": "stdout",
     "output_type": "stream",
     "text": [
      "Valor Índice FX: 950.00\n"
     ]
    }
   ],
   "source": [
    "ibor_mccy_cashflow.set_fx_rate_index_value(950.0)\n",
    "print(f\"Valor Índice FX: {ibor_mccy_cashflow.get_fx_rate_index_value():,.2f}\")"
   ]
  },
  {
   "cell_type": "markdown",
   "metadata": {},
   "source": [
    "### Cálculos"
   ]
  },
  {
   "cell_type": "markdown",
   "metadata": {},
   "source": [
    "Método `amount`. Retorna el flujo total incluyendo la amortización si corresponde."
   ]
  },
  {
   "cell_type": "code",
   "execution_count": 74,
   "metadata": {
    "ExecuteTime": {
     "end_time": "2022-01-21T13:43:03.179585Z",
     "start_time": "2022-01-21T13:43:03.164625Z"
    },
    "execution": {
     "iopub.execute_input": "2024-07-20T21:33:19.957841Z",
     "iopub.status.busy": "2024-07-20T21:33:19.957292Z",
     "iopub.status.idle": "2024-07-20T21:33:19.962589Z",
     "shell.execute_reply": "2024-07-20T21:33:19.961659Z",
     "shell.execute_reply.started": "2024-07-20T21:33:19.957816Z"
    }
   },
   "outputs": [
    {
     "name": "stdout",
     "output_type": "stream",
     "text": [
      "Flujo: 240,555.56\n",
      "Check: 240,555.56\n"
     ]
    }
   ],
   "source": [
    "print(f\"Flujo: {ibor_mccy_cashflow.amount():,.2f}\")\n",
    "check = ibor_mccy_cashflow.get_nominal() * fecha_inicio.day_diff(fecha_final) / 360.0 * (\n",
    "    ibor_mccy_cashflow.get_interest_rate_value() * ibor_mccy_cashflow.get_gearing() + spread) + ibor_mccy_cashflow.get_amortization()\n",
    "print(f\"Check: {check:,.2f}\")"
   ]
  },
  {
   "cell_type": "markdown",
   "metadata": {},
   "source": [
    "Método `accrued_interest`. Retorna el interés devengado a una cierta fecha."
   ]
  },
  {
   "cell_type": "code",
   "execution_count": 75,
   "metadata": {
    "execution": {
     "iopub.execute_input": "2024-07-20T21:34:22.919412Z",
     "iopub.status.busy": "2024-07-20T21:34:22.919095Z",
     "iopub.status.idle": "2024-07-20T21:34:22.925480Z",
     "shell.execute_reply": "2024-07-20T21:34:22.924361Z",
     "shell.execute_reply.started": "2024-07-20T21:34:22.919383Z"
    }
   },
   "outputs": [
    {
     "name": "stdout",
     "output_type": "stream",
     "text": [
      "Interés Devengado al 2019-07-20: 33,666.67\n",
      "Check: 33,666.67\n"
     ]
    }
   ],
   "source": [
    "fecha_devengo = qcf.QCDate(20, 7, 2019)\n",
    "print(f\"Interés Devengado al {fecha_devengo}: {ibor_mccy_cashflow.accrued_interest(fecha_devengo):,.2f}\")\n",
    "\n",
    "tasa = ibor_mccy_cashflow.get_interest_rate_value() * ibor_mccy_cashflow.get_gearing() + ibor_mccy_cashflow.get_spread()\n",
    "\n",
    "check = tasa * fecha_inicio.day_diff(fecha_devengo) / 360.0 * ibor_cashflow.get_nominal()\n",
    "print(f\"Check: {check:,.2f}\")"
   ]
  },
  {
   "cell_type": "markdown",
   "metadata": {},
   "source": [
    "Se agrega el método `accrued_interest_in_sett_ccy` que retorna el interés devengado en moneda de pago. Para utilizarlo se requiere un objeto de tipo `time_series`."
   ]
  },
  {
   "cell_type": "code",
   "execution_count": 76,
   "metadata": {
    "ExecuteTime": {
     "end_time": "2022-01-21T13:43:03.305251Z",
     "start_time": "2022-01-21T13:43:03.290290Z"
    },
    "execution": {
     "iopub.execute_input": "2024-07-20T21:35:10.348245Z",
     "iopub.status.busy": "2024-07-20T21:35:10.347871Z",
     "iopub.status.idle": "2024-07-20T21:35:10.351890Z",
     "shell.execute_reply": "2024-07-20T21:35:10.351065Z",
     "shell.execute_reply.started": "2024-07-20T21:35:10.348218Z"
    }
   },
   "outputs": [],
   "source": [
    "ts[fecha_inicio] = 800.0\n",
    "ts[fecha_devengo] = 950.0"
   ]
  },
  {
   "cell_type": "code",
   "execution_count": 77,
   "metadata": {
    "ExecuteTime": {
     "end_time": "2022-01-21T13:43:03.321207Z",
     "start_time": "2022-01-21T13:43:03.306247Z"
    },
    "execution": {
     "iopub.execute_input": "2024-07-20T21:35:18.391522Z",
     "iopub.status.busy": "2024-07-20T21:35:18.391197Z",
     "iopub.status.idle": "2024-07-20T21:35:18.396143Z",
     "shell.execute_reply": "2024-07-20T21:35:18.395377Z",
     "shell.execute_reply.started": "2024-07-20T21:35:18.391498Z"
    }
   },
   "outputs": [
    {
     "name": "stdout",
     "output_type": "stream",
     "text": [
      "Interés devengado en moneda de pago: 31,983,333\n",
      "Check: 31,983,333\n"
     ]
    }
   ],
   "source": [
    "print(f\"Interés devengado en moneda de pago: {ibor_mccy_cashflow.accrued_interest_in_sett_ccy(fecha_devengo, ts):,.0f}\")\n",
    "print(f\"Check: {check * 950.0:,.0f}\")"
   ]
  },
  {
   "cell_type": "markdown",
   "metadata": {},
   "source": [
    "### Funciones `show` y `get_column_names`"
   ]
  },
  {
   "cell_type": "markdown",
   "metadata": {},
   "source": [
    "Al igual que en casos anteriores, juntando estas dos funciones se obtiene una representación tabular del flujo usando `pandas.DataFrame`."
   ]
  },
  {
   "cell_type": "code",
   "execution_count": 78,
   "metadata": {
    "execution": {
     "iopub.execute_input": "2024-07-20T21:35:40.208308Z",
     "iopub.status.busy": "2024-07-20T21:35:40.207951Z",
     "iopub.status.idle": "2024-07-20T21:35:40.223452Z",
     "shell.execute_reply": "2024-07-20T21:35:40.222616Z",
     "shell.execute_reply.started": "2024-07-20T21:35:40.208283Z"
    }
   },
   "outputs": [
    {
     "data": {
      "text/html": [
       "<style type=\"text/css\">\n",
       "</style>\n",
       "<table id=\"T_ba2cd\">\n",
       "  <thead>\n",
       "    <tr>\n",
       "      <th class=\"blank level0\" >&nbsp;</th>\n",
       "      <th id=\"T_ba2cd_level0_col0\" class=\"col_heading level0 col0\" >fecha_inicial</th>\n",
       "      <th id=\"T_ba2cd_level0_col1\" class=\"col_heading level0 col1\" >fecha_final</th>\n",
       "      <th id=\"T_ba2cd_level0_col2\" class=\"col_heading level0 col2\" >fecha_fixing</th>\n",
       "      <th id=\"T_ba2cd_level0_col3\" class=\"col_heading level0 col3\" >fecha_pago</th>\n",
       "      <th id=\"T_ba2cd_level0_col4\" class=\"col_heading level0 col4\" >nocional</th>\n",
       "      <th id=\"T_ba2cd_level0_col5\" class=\"col_heading level0 col5\" >amortizacion</th>\n",
       "      <th id=\"T_ba2cd_level0_col6\" class=\"col_heading level0 col6\" >interes</th>\n",
       "      <th id=\"T_ba2cd_level0_col7\" class=\"col_heading level0 col7\" >amort_es_flujo</th>\n",
       "      <th id=\"T_ba2cd_level0_col8\" class=\"col_heading level0 col8\" >flujo</th>\n",
       "      <th id=\"T_ba2cd_level0_col9\" class=\"col_heading level0 col9\" >moneda_nocional</th>\n",
       "      <th id=\"T_ba2cd_level0_col10\" class=\"col_heading level0 col10\" >codigo_indice_tasa</th>\n",
       "      <th id=\"T_ba2cd_level0_col11\" class=\"col_heading level0 col11\" >spread</th>\n",
       "      <th id=\"T_ba2cd_level0_col12\" class=\"col_heading level0 col12\" >gearing</th>\n",
       "      <th id=\"T_ba2cd_level0_col13\" class=\"col_heading level0 col13\" >valor_tasa</th>\n",
       "      <th id=\"T_ba2cd_level0_col14\" class=\"col_heading level0 col14\" >tipo_tasa</th>\n",
       "      <th id=\"T_ba2cd_level0_col15\" class=\"col_heading level0 col15\" >fecha_fixing_fx</th>\n",
       "      <th id=\"T_ba2cd_level0_col16\" class=\"col_heading level0 col16\" >moneda_pago</th>\n",
       "      <th id=\"T_ba2cd_level0_col17\" class=\"col_heading level0 col17\" >codigo_indice_fx</th>\n",
       "      <th id=\"T_ba2cd_level0_col18\" class=\"col_heading level0 col18\" >valor_indice_fx</th>\n",
       "      <th id=\"T_ba2cd_level0_col19\" class=\"col_heading level0 col19\" >amortizacion_moneda_pago</th>\n",
       "      <th id=\"T_ba2cd_level0_col20\" class=\"col_heading level0 col20\" >interes_moneda_pago</th>\n",
       "    </tr>\n",
       "  </thead>\n",
       "  <tbody>\n",
       "    <tr>\n",
       "      <th id=\"T_ba2cd_level0_row0\" class=\"row_heading level0 row0\" >0</th>\n",
       "      <td id=\"T_ba2cd_row0_col0\" class=\"data row0 col0\" >2018-09-20</td>\n",
       "      <td id=\"T_ba2cd_row0_col1\" class=\"data row0 col1\" >2019-09-20</td>\n",
       "      <td id=\"T_ba2cd_row0_col2\" class=\"data row0 col2\" >2018-09-18</td>\n",
       "      <td id=\"T_ba2cd_row0_col3\" class=\"data row0 col3\" >2019-09-23</td>\n",
       "      <td id=\"T_ba2cd_row0_col4\" class=\"data row0 col4\" >2,000,000.00</td>\n",
       "      <td id=\"T_ba2cd_row0_col5\" class=\"data row0 col5\" >200,000.00</td>\n",
       "      <td id=\"T_ba2cd_row0_col6\" class=\"data row0 col6\" >40,555.56</td>\n",
       "      <td id=\"T_ba2cd_row0_col7\" class=\"data row0 col7\" >True</td>\n",
       "      <td id=\"T_ba2cd_row0_col8\" class=\"data row0 col8\" >240,555.56</td>\n",
       "      <td id=\"T_ba2cd_row0_col9\" class=\"data row0 col9\" >USD</td>\n",
       "      <td id=\"T_ba2cd_row0_col10\" class=\"data row0 col10\" >TERMSOFR6M</td>\n",
       "      <td id=\"T_ba2cd_row0_col11\" class=\"data row0 col11\" >0.00%</td>\n",
       "      <td id=\"T_ba2cd_row0_col12\" class=\"data row0 col12\" >1.000000</td>\n",
       "      <td id=\"T_ba2cd_row0_col13\" class=\"data row0 col13\" >2.00%</td>\n",
       "      <td id=\"T_ba2cd_row0_col14\" class=\"data row0 col14\" >LinAct360</td>\n",
       "      <td id=\"T_ba2cd_row0_col15\" class=\"data row0 col15\" >2019-09-20</td>\n",
       "      <td id=\"T_ba2cd_row0_col16\" class=\"data row0 col16\" >CLP</td>\n",
       "      <td id=\"T_ba2cd_row0_col17\" class=\"data row0 col17\" >USDOBS</td>\n",
       "      <td id=\"T_ba2cd_row0_col18\" class=\"data row0 col18\" >950.00</td>\n",
       "      <td id=\"T_ba2cd_row0_col19\" class=\"data row0 col19\" >190,000,000.00</td>\n",
       "      <td id=\"T_ba2cd_row0_col20\" class=\"data row0 col20\" >38,527,777.78</td>\n",
       "    </tr>\n",
       "  </tbody>\n",
       "</table>\n"
      ],
      "text/plain": [
       "<pandas.io.formats.style.Styler at 0x11ec59510>"
      ]
     },
     "execution_count": 78,
     "metadata": {},
     "output_type": "execute_result"
    }
   ],
   "source": [
    "df = pd.DataFrame(\n",
    "    [qcf.show(ibor_mccy_cashflow)], \n",
    "    columns=qcf.get_column_names(ibor_mccy_cashflow.get_type())\n",
    ")\n",
    "df.style.format({\n",
    "    'nocional':'{:,.2f}', \n",
    "    'amortizacion':'{:,.2f}', \n",
    "    'amortizacion_moneda_pago':'{:,.2f}', \n",
    "    'interes':'{:,.2f}',\n",
    "    'interes_moneda_pago':'{:,.2f}',\n",
    "    'flujo':'{:,.2f}',\n",
    "    'flujo_moneda_pago':'{:,.2f}',\n",
    "    'valor_tasa':'{:.2%}',\n",
    "    'spread':'{:.2%}',\n",
    "    'valor_indice_fx':'{:,.2f}',\n",
    "})"
   ]
  },
  {
   "cell_type": "markdown",
   "metadata": {},
   "source": [
    "### Icp Clp Cashflow\n",
    "Un objeto de tipo `IcpClpCashflow` representa un flujo de caja calculado como un cupón de la pata flotante de un swap ICP (cámara promedio) de Chile. Para dar de alta uno de estos objetos se requiere:\n",
    "\n",
    "- `QCDate`: fecha inicio (para la aplicación de la tasa)\n",
    "- `QCDate`: fecha final (para la aplicación de la tasa)\n",
    "- `QCDate`: fecha de pago\n",
    "- `float`: nominal (monto al que se le aplica la tasa)\n",
    "- `float`: amortización (eventual flujo de caja que corresponde a una porción del nominal)\n",
    "- `bool`: indica si la amortización anterior es un flujo de caja o sólo una disminución de nominal\n",
    "- `float`: spread aditivo a aplicar a la fijación de la TNA\n",
    "- `float`: spread multiplicativo o gearing a aplicar a la fijación de la TNA\n",
    "- `float`: el valor del ICP a fecha de inicio (u otro valor arbitrario si el valor es desconocido)\n",
    "- `float`: el valor del ICP a fecha final (u otro valor arbitrario si el valor es desconocido)\n",
    "\n",
    "Recordar que TNA significa **Tasa Nominal Anual** y se determina utilizando los valores del índice ICP en la fecha de inicio y fecha final del `IcpClpCashflow`."
   ]
  },
  {
   "cell_type": "code",
   "execution_count": null,
   "metadata": {
    "ExecuteTime": {
     "end_time": "2022-01-21T13:43:03.367085Z",
     "start_time": "2022-01-21T13:43:03.352125Z"
    }
   },
   "outputs": [],
   "source": [
    "# Ejemplo\n",
    "fecha_inicio = qcf.QCDate(20, 9, 2018)\n",
    "fecha_final = qcf.QCDate(20, 9, 2019)\n",
    "fecha_pago = qcf.QCDate(23, 9, 2019)\n",
    "nominal = 1_000_000_000.0\n",
    "amort = 100_000_000.0\n",
    "spread = 0.0\n",
    "gearing = 1.0\n",
    "icp_clp_cashflow = qcf.IcpClpCashflow(\n",
    "    fecha_inicio,\n",
    "    fecha_final,\n",
    "    fecha_pago,\n",
    "    nominal,\n",
    "    amort,\n",
    "    True,\n",
    "    spread,\n",
    "    gearing,\n",
    "    10_000.0,\n",
    "    10_250.0,\n",
    ")"
   ]
  },
  {
   "cell_type": "code",
   "execution_count": null,
   "metadata": {
    "ExecuteTime": {
     "end_time": "2022-01-21T13:43:03.382045Z",
     "start_time": "2022-01-21T13:43:03.368083Z"
    }
   },
   "outputs": [],
   "source": [
    "# Getters\n",
    "print(\"Fecha Inicio:\", icp_clp_cashflow.get_start_date())\n",
    "print(\"Fecha Final:\", icp_clp_cashflow.get_end_date())\n",
    "print(f\"ICP Fecha Inicio: {icp_clp_cashflow.get_start_date_icp():,.2f}\")\n",
    "print(f\"ICP Fecha Final: {icp_clp_cashflow.get_end_date_icp():,.2f}\")\n",
    "print(f\"Valor TNA Todo el Período: {icp_clp_cashflow.get_rate_value():.2%}\")\n",
    "check = round((10250.0 / 10000 - 1) * 360.0 / fecha_inicio.day_diff(fecha_final), 4)\n",
    "print(f\"Check: {check:.2%}\")\n",
    "print(f\"Nominal: {icp_clp_cashflow.get_nominal():,.0f}\")\n",
    "print(f\"Amortización: {icp_clp_cashflow.get_amortization():,.0f}\")\n",
    "print(\"Tipo de Tasa:\", icp_clp_cashflow.get_type_of_rate())\n",
    "print(\"Moneda:\", icp_clp_cashflow.ccy())"
   ]
  },
  {
   "cell_type": "code",
   "execution_count": null,
   "metadata": {
    "ExecuteTime": {
     "end_time": "2022-01-21T13:43:03.397004Z",
     "start_time": "2022-01-21T13:43:03.383042Z"
    }
   },
   "outputs": [],
   "source": [
    "# Setters\n",
    "decimales_para_tna = 6\n",
    "icp_clp_cashflow.set_tna_decimal_places(decimales_para_tna)\n",
    "print(f\"Nueva TNA: {icp_clp_cashflow.get_rate_value():.4%}\")\n",
    "\n",
    "nuevo_nominal = 100\n",
    "icp_clp_cashflow.set_nominal(nuevo_nominal)\n",
    "print(\"Nuevo Nominal:\", icp_clp_cashflow.get_nominal())\n",
    "\n",
    "nueva_amortizacion = 10\n",
    "icp_clp_cashflow.set_amortization(nueva_amortizacion)\n",
    "print(\"Nueva Amortización:\", icp_clp_cashflow.get_amortization())\n",
    "\n",
    "nuevo_icp_inicio = 20_000\n",
    "icp_clp_cashflow.set_start_date_icp(nuevo_icp_inicio)\n",
    "print(f\"Nuevo ICP Inicio: {icp_clp_cashflow.get_start_date_icp():,.2f}\")\n",
    "\n",
    "nuevo_icp_final = 20_600\n",
    "icp_clp_cashflow.set_end_date_icp(nuevo_icp_final)\n",
    "print(f\"Nuevo ICP Final: {icp_clp_cashflow.get_end_date_icp():,.2f}\")\n",
    "print(f\"Check TNA Final: {icp_clp_cashflow.get_rate_value():.4%}\")"
   ]
  },
  {
   "cell_type": "code",
   "execution_count": null,
   "metadata": {
    "ExecuteTime": {
     "end_time": "2022-01-21T13:43:03.412962Z",
     "start_time": "2022-01-21T13:43:03.398002Z"
    }
   },
   "outputs": [],
   "source": [
    "# Cálculos\n",
    "decimales_para_tna = 4  # Se vuelve a 4 decimales de tasa\n",
    "icp_clp_cashflow.set_tna_decimal_places(decimales_para_tna)\n",
    "\n",
    "nuevo_icp_inicio = 10_000.0\n",
    "icp_clp_cashflow.set_start_date_icp(nuevo_icp_inicio)\n",
    "\n",
    "nuevo_icp_final = 10_250.0\n",
    "icp_clp_cashflow.set_end_date_icp(nuevo_icp_final)\n",
    "\n",
    "print(f\"Flujo: {icp_clp_cashflow.amount():,.0f}\")\n",
    "\n",
    "fecha_devengo = qcf.QCDate(29, 3, 2019)\n",
    "icp_devengo = 10_125.0\n",
    "tna_devengo = icp_clp_cashflow.get_tna(fecha_devengo, icp_devengo)\n",
    "print(f\"TNA fijada a {fecha_devengo.description(True)}: {tna_devengo:.2%}\")\n",
    "check = round(\n",
    "    (icp_devengo / nuevo_icp_inicio - 1) * 360.0 / fecha_inicio.day_diff(fecha_devengo),\n",
    "    decimales_para_tna,\n",
    ")\n",
    "print(f\"Check: {check:.2%}\")\n",
    "print(f\"Interés Devengado al {fecha_devengo.description(True)}: {icp_clp_cashflow.accrued_interest(fecha_devengo, icp_devengo):,.4f}\")\n",
    "print(f\"Check: {100 * tna_devengo * fecha_inicio.day_diff(fecha_devengo) / 360.0:,.4f}\")"
   ]
  },
  {
   "cell_type": "code",
   "execution_count": null,
   "metadata": {
    "ExecuteTime": {
     "end_time": "2022-01-21T13:43:03.428919Z",
     "start_time": "2022-01-21T13:43:03.413959Z"
    }
   },
   "outputs": [],
   "source": [
    "print(qcf.show(icp_clp_cashflow))"
   ]
  },
  {
   "cell_type": "code",
   "execution_count": null,
   "metadata": {},
   "outputs": [],
   "source": [
    "icp_clp_cashflow.get_type()"
   ]
  },
  {
   "cell_type": "markdown",
   "metadata": {},
   "source": [
    "### Icp Clp Cashflow 2\n",
    "Un objeto de tipo `IcpClpCashflow2` representa un flujo de caja calculado como un cupón de la pata flotante de un swap ICP (cámara promedio) de Chile. Este tipo de cashflow puede ser *quantizado*, es decir, se puede cambiar su moneda de pago componiéndolo con un objeto adicional. Para dar de alta uno de estos objetos se requiere:\n",
    "\n",
    "- `QCDate`: fecha inicio (para la aplicación de la tasa)\n",
    "- `QCDate`: fecha final (para la aplicación de la tasa)\n",
    "- `QCDate`: fecha de pago\n",
    "- `float`: nominal (monto al que se le aplica la tasa)\n",
    "- `float`: amortización (eventual flujo de caja que corresponde a una porción del nominal)\n",
    "- `bool`: indica si la amortización anterior es un flujo de caja o sólo una disminución de nominal\n",
    "- `float`: spread aditivo a aplicar a la fijación de la TNA\n",
    "- `float`: spread multiplicativo o gearing a aplicar a la fijación de la TNA\n",
    "- `float`: el valor del ICP a fecha de inicio (u otro valor arbitrario si el valor es desconocido)\n",
    "- `float`: el valor del ICP a fecha final (u otro valor arbitrario si el valor es desconocido)\n",
    "\n",
    "Recordar que TNA significa **Tasa Nominal Anual** y se determina utilizando los valores del índice ICP en la fecha de inicio y fecha final del `IcpClpCashflow`."
   ]
  },
  {
   "cell_type": "code",
   "execution_count": null,
   "metadata": {
    "ExecuteTime": {
     "end_time": "2022-01-21T13:43:03.444877Z",
     "start_time": "2022-01-21T13:43:03.429917Z"
    }
   },
   "outputs": [],
   "source": [
    "# Ejemplo\n",
    "fecha_inicio = qcf.QCDate(20, 9, 2018)\n",
    "fecha_final = qcf.QCDate(20, 9, 2019)\n",
    "fecha_pago = qcf.QCDate(23, 9, 2019)\n",
    "nominal = 1_000_000_000.0\n",
    "amort = 100_000_000.0\n",
    "spread = 0.0\n",
    "gearing = 1.0\n",
    "icp_clp_cashflow2 = qcf.IcpClpCashflow2(\n",
    "    fecha_inicio,\n",
    "    fecha_final,\n",
    "    fecha_pago,\n",
    "    nominal,\n",
    "    amort,\n",
    "    True,\n",
    "    spread,\n",
    "    gearing,\n",
    "    True,\n",
    "    10_000.0,\n",
    "    10_250.0,\n",
    ")"
   ]
  },
  {
   "cell_type": "code",
   "execution_count": null,
   "metadata": {
    "ExecuteTime": {
     "end_time": "2022-01-21T13:43:03.460835Z",
     "start_time": "2022-01-21T13:43:03.445874Z"
    }
   },
   "outputs": [],
   "source": [
    "# Getters\n",
    "print(\"Fecha Inicio:\", icp_clp_cashflow2.get_start_date())\n",
    "print(\"Fecha Final:\", icp_clp_cashflow2.get_end_date())\n",
    "print(f\"ICP Fecha Inicio: {icp_clp_cashflow2.get_start_date_icp():,.2f}\")\n",
    "print(f\"ICP Fecha Final: {icp_clp_cashflow2.get_end_date_icp():,.2f}\")\n",
    "\n",
    "print()\n",
    "print(f\"Valor TNA Todo el Período: {icp_clp_cashflow2.get_rate_value():.2%}\")\n",
    "check = round((10250.0 / 10000 - 1) * 360.0 / fecha_inicio.day_diff(fecha_final), 4)\n",
    "print(f\"Check: {check:.2%}\")\n",
    "print()\n",
    "\n",
    "print(f\"Nominal: {icp_clp_cashflow2.get_nominal():,.0f}\")\n",
    "print(f\"Amortización: {icp_clp_cashflow2.get_amortization():,.0f}\")\n",
    "print(\"Tipo de Tasa:\", icp_clp_cashflow2.get_type_of_rate())\n",
    "print(\"Moneda:\", icp_clp_cashflow2.ccy())"
   ]
  },
  {
   "cell_type": "code",
   "execution_count": null,
   "metadata": {
    "ExecuteTime": {
     "end_time": "2022-01-21T13:43:03.475794Z",
     "start_time": "2022-01-21T13:43:03.462829Z"
    }
   },
   "outputs": [],
   "source": [
    "# Setters\n",
    "decimales_para_tna = 6\n",
    "icp_clp_cashflow2.set_tna_decimal_places(decimales_para_tna)\n",
    "print(f\"Nueva TNA: {icp_clp_cashflow2.get_rate_value():.4%}\")\n",
    "\n",
    "nuevo_nominal = 100\n",
    "icp_clp_cashflow2.set_nominal(nuevo_nominal)\n",
    "print(f\"Nuevo Nominal: {icp_clp_cashflow2.get_nominal():,.0f}\")\n",
    "\n",
    "nueva_amortizacion = 10\n",
    "icp_clp_cashflow2.set_amortization(nueva_amortizacion)\n",
    "print(f\"Nueva Amortización: {icp_clp_cashflow2.get_amortization():,.0f}\")\n",
    "\n",
    "nuevo_icp_inicio = 20_000.0\n",
    "icp_clp_cashflow2.set_start_date_icp(nuevo_icp_inicio)\n",
    "print(f\"Nuevo ICP Inicio: {icp_clp_cashflow2.get_start_date_icp():,.2f}\")\n",
    "\n",
    "nuevo_icp_final = 20_000.0\n",
    "icp_clp_cashflow2.set_end_date_icp(nuevo_icp_final)\n",
    "print(f\"Nuevo ICP Final: {icp_clp_cashflow2.get_end_date_icp():,.2f}\")\n",
    "print(f\"Check TNA Final: {icp_clp_cashflow2.get_rate_value():.4%}\")"
   ]
  },
  {
   "cell_type": "code",
   "execution_count": null,
   "metadata": {
    "ExecuteTime": {
     "end_time": "2022-01-21T13:43:03.491752Z",
     "start_time": "2022-01-21T13:43:03.477789Z"
    }
   },
   "outputs": [],
   "source": [
    "# Cálculos\n",
    "decimales_para_tna = 4  # Se vuelve a 4 decimales de tasa\n",
    "icp_clp_cashflow2.set_tna_decimal_places(decimales_para_tna)\n",
    "\n",
    "nuevo_icp_inicio = 10_000.0\n",
    "icp_clp_cashflow2.set_start_date_icp(nuevo_icp_inicio)\n",
    "\n",
    "nuevo_icp_final = 10_250.0\n",
    "icp_clp_cashflow2.set_end_date_icp(nuevo_icp_final)\n",
    "\n",
    "print(f\"Flujo: {icp_clp_cashflow2.amount():,.2f}\")\n",
    "print()\n",
    "\n",
    "fecha_devengo = qcf.QCDate(29, 3, 2019)\n",
    "icp_devengo = 10_125.0\n",
    "tna_devengo = icp_clp_cashflow2.get_tna(fecha_devengo, icp_devengo)\n",
    "print(f\"TNA fijada al {fecha_devengo.description(True)}: {tna_devengo:.2%}\")\n",
    "check = round((icp_devengo / nuevo_icp_inicio - 1) * 360.0 / fecha_inicio.day_diff(fecha_devengo), decimales_para_tna)\n",
    "print(f\"Check: {check:.2%}\")\n",
    "print()\n",
    "\n",
    "data = qcf.time_series()\n",
    "data[fecha_devengo] = icp_devengo\n",
    "print(f\"Interés Devengado al {fecha_devengo.description(True)}: {icp_clp_cashflow2.accrued_interest(fecha_devengo, data):,.6f}\")\n",
    "check = 100 * tna_devengo * fecha_inicio.day_diff(fecha_devengo) / 360.0\n",
    "print(f\"Check: {check:,.6f}\")"
   ]
  },
  {
   "cell_type": "code",
   "execution_count": null,
   "metadata": {
    "ExecuteTime": {
     "end_time": "2022-01-21T13:43:03.506711Z",
     "start_time": "2022-01-21T13:43:03.492748Z"
    }
   },
   "outputs": [],
   "source": [
    "print(qcf.show(icp_clp_cashflow2))"
   ]
  },
  {
   "cell_type": "code",
   "execution_count": null,
   "metadata": {},
   "outputs": [],
   "source": [
    "icp_clp_cashflow2.get_type()"
   ]
  },
  {
   "cell_type": "markdown",
   "metadata": {},
   "source": [
    "## Overnight Index Cashflow"
   ]
  },
  {
   "cell_type": "markdown",
   "metadata": {},
   "source": [
    "Un objeto de tipo `OvernightIndexCashflow` representa un flujo de caja del tipo de la pata flotante de un swap ICP (cámara promedio) de Chile usando cualquier tipo de índice similar (por ejemplo SOFRINDX) y cualquier moneda. Adicionalmente, permite definir en forma independiente a `start_date` y `end_date` las fechas inicial y final utilizadas para los valores del índice. Esto puede resultar útil cuando una de estas operaciones se utiliza para cubrir créditos o bonos a tasa fija. Para dar de alta uno de estos objetos se requiere:\n",
    "\n",
    "- `QCDate`: fecha inicio devengo (para la aplicación de la tasa)\n",
    "- `QCDate`: fecha final devengo (para la aplicación de la tasa)\n",
    "- `QCDate`: fecha inicio índice (para el valor del índice)\n",
    "- `QCDate`: fecha final índice (para el valor del índice)\n",
    "- `QCDate`: fecha de pago\n",
    "- `QCCurrency`: moneda del nocional\n",
    "- `float`: nocional (monto al que se le aplica la tasa)\n",
    "- `float`: amortización (eventual flujo de caja que corresponde a una porción del nominal)\n",
    "- `bool`: indica si la amortización anterior es un flujo de caja o sólo una disminución de nominal\n",
    "- `float`: spread aditivo a aplicar a la fijación de la tasa equivalente (TNA en el caso de un ICPCLP)\n",
    "- `float`: spread multiplicativo o gearing a aplicar a la fijación de la tasa equivalente\n",
    "- `QCInterestRate`: con este objeto se especifica en qué convención se calcula la tasa equivalente\n",
    "- `string`: nombre del índice overnight a utilizar\n",
    "- `unsigned int`: número de decimales a utilizar para determinar la tasa equivalente\n",
    "- `DatesForEquivalentRate`: enum que indica qué fechas se utilizan en el cálculo de la tasa equivalente."
   ]
  },
  {
   "cell_type": "markdown",
   "metadata": {},
   "source": [
    "### Construcción"
   ]
  },
  {
   "cell_type": "markdown",
   "metadata": {},
   "source": [
    "Alta de parámetros iniciales."
   ]
  },
  {
   "cell_type": "code",
   "execution_count": null,
   "metadata": {
    "ExecuteTime": {
     "end_time": "2022-01-21T13:43:03.444877Z",
     "start_time": "2022-01-21T13:43:03.429917Z"
    }
   },
   "outputs": [],
   "source": [
    "# Fecha inicio de devengo es un domingo\n",
    "fecha_inicio_devengo = qcf.QCDate(12, 11, 2023)\n",
    "\n",
    "# Fecha final de devengo es sábado\n",
    "fecha_final_devengo = qcf.QCDate(18, 11, 2023)\n",
    "\n",
    "# Estas fechas deben corresponder a días hábiles\n",
    "# En ambos casos vamos a la fecha hábil siguiente\n",
    "fecha_inicio_indice = qcf.QCDate(13, 11, 2023)\n",
    "fecha_final_indice = qcf.QCDate(20, 11, 2023)\n",
    "\n",
    "# La fecha de pago es el lunes siguiente\n",
    "fecha_pago = qcf.QCDate(20, 11, 2023)\n",
    "\n",
    "# Se usan las fechas de inicio y fin de devengo para\n",
    "# el cálculo de la tasa equivalente\n",
    "dates_for_eq_rate = qcf.DatesForEquivalentRate.ACCRUAL\n",
    "\n",
    "moneda_nocional = qcf.QCUSD()\n",
    "nocional = 1_000_000_000.0\n",
    "amort = 100_000_000.0\n",
    "amort_es_flujo = True\n",
    "spread = 0.0\n",
    "gearing = 1.0\n",
    "tasa = qcf.QCInterestRate(0.0, qcf.QCAct360(), qcf.QCLinearWf())\n",
    "nombre_indice = 'INDICE'\n",
    "num_decimales = 8\n",
    "valor_indice_inicio = 1.0\n",
    "valor_indice_final = 1 + .1234 * 4 / 360 # Suponemos un valor constante de 10% por 4 días del índice"
   ]
  },
  {
   "cell_type": "markdown",
   "metadata": {},
   "source": [
    "Se da de alta el objeto."
   ]
  },
  {
   "cell_type": "code",
   "execution_count": null,
   "metadata": {},
   "outputs": [],
   "source": [
    "overnight_index_cashflow = qcf.OvernightIndexCashflow(\n",
    "    fecha_inicio_devengo,\n",
    "    fecha_final_devengo,\n",
    "    fecha_inicio_indice,\n",
    "    fecha_final_indice,\n",
    "    fecha_pago,\n",
    "    moneda_nocional,\n",
    "    nocional,\n",
    "    amort,\n",
    "    amort_es_flujo,\n",
    "    spread,\n",
    "    gearing,\n",
    "    tasa,\n",
    "    nombre_indice,\n",
    "    num_decimales,\n",
    "    dates_for_eq_rate,\n",
    ")"
   ]
  },
  {
   "cell_type": "markdown",
   "metadata": {
    "execution": {
     "iopub.execute_input": "2023-11-14T15:03:37.114645Z",
     "iopub.status.busy": "2023-11-14T15:03:37.114223Z",
     "iopub.status.idle": "2023-11-14T15:03:37.117758Z",
     "shell.execute_reply": "2023-11-14T15:03:37.117154Z",
     "shell.execute_reply.started": "2023-11-14T15:03:37.114618Z"
    }
   },
   "source": [
    "### Getters"
   ]
  },
  {
   "cell_type": "code",
   "execution_count": null,
   "metadata": {
    "ExecuteTime": {
     "end_time": "2022-01-21T13:43:03.460835Z",
     "start_time": "2022-01-21T13:43:03.445874Z"
    }
   },
   "outputs": [],
   "source": [
    "print(f\"Type of Cashflow: {overnight_index_cashflow.get_type()}\")\n",
    "print(f\"Nominal: {overnight_index_cashflow.get_nominal():,.0f}\")\n",
    "print(f\"Amortización: {overnight_index_cashflow.get_amortization():,.0f}\")\n",
    "print(f\"Fecha Inicio Devengo: {overnight_index_cashflow.get_start_date()}\")\n",
    "print(f\"Fecha Final Devengo: {overnight_index_cashflow.get_end_date()}\")\n",
    "print(f\"Fecha Inicio Índice: {overnight_index_cashflow.get_index_start_date()}\")\n",
    "print(f\"Fecha Final Índice: {overnight_index_cashflow.get_index_end_date()}\")\n",
    "print(f\"Fecha Pago: {overnight_index_cashflow.get_settlement_date()}\")\n",
    "print(f\"Valor Índice Fecha Inicio: {overnight_index_cashflow.get_start_date_index():,.8f}\")\n",
    "print(f\"Valor ïndice Fecha Final: {overnight_index_cashflow.get_end_date_index():,.8f}\")\n",
    "print(f\"Valor Tasa Eq: {overnight_index_cashflow.get_rate_value():.4%}\")\n",
    "print(f\"Tipo de Tasa: {overnight_index_cashflow.get_type_of_rate()}\")\n",
    "print(f\"Moneda: {overnight_index_cashflow.ccy()}\")"
   ]
  },
  {
   "cell_type": "markdown",
   "metadata": {},
   "source": [
    "### Setters"
   ]
  },
  {
   "cell_type": "markdown",
   "metadata": {},
   "source": [
    "Se fijan los valores inicial y final del índice."
   ]
  },
  {
   "cell_type": "code",
   "execution_count": null,
   "metadata": {},
   "outputs": [],
   "source": [
    "valor_indice_inicio = 10_000.0\n",
    "overnight_index_cashflow.set_start_date_index(valor_indice_inicio)\n",
    "print(f\"Valor Índice Fecha Inicio: {overnight_index_cashflow.get_start_date_index():,.2f}\")\n",
    "\n",
    "valor_indice_final = 10_000.0 * (1 + .051234 * 7 / 360.0)\n",
    "overnight_index_cashflow.set_end_date_index(valor_indice_final)\n",
    "print(f\"Valor ïndice Fecha Final: {overnight_index_cashflow.get_end_date_index():,.2f}\")"
   ]
  },
  {
   "cell_type": "markdown",
   "metadata": {},
   "source": [
    "Decimales para el cálculo de la tasa equivalente."
   ]
  },
  {
   "cell_type": "code",
   "execution_count": null,
   "metadata": {
    "ExecuteTime": {
     "end_time": "2022-01-21T13:43:03.475794Z",
     "start_time": "2022-01-21T13:43:03.462829Z"
    }
   },
   "outputs": [],
   "source": [
    "decimales_para_tasa_eq = 4\n",
    "overnight_index_cashflow.set_eq_rate_decimal_places(decimales_para_tasa_eq)\n",
    "print(f\"Nueva Tasa Eq: {overnight_index_cashflow.get_rate_value():.4%}\")"
   ]
  },
  {
   "cell_type": "code",
   "execution_count": null,
   "metadata": {},
   "outputs": [],
   "source": [
    "decimales_para_tasa_eq = 6\n",
    "overnight_index_cashflow.set_eq_rate_decimal_places(decimales_para_tasa_eq)\n",
    "print(f\"Nueva Tasa Eq: {overnight_index_cashflow.get_rate_value():.4%}\")"
   ]
  },
  {
   "cell_type": "markdown",
   "metadata": {},
   "source": [
    "Nuevo nocional."
   ]
  },
  {
   "cell_type": "code",
   "execution_count": null,
   "metadata": {},
   "outputs": [],
   "source": [
    "new_notional = 123_456\n",
    "overnight_index_cashflow.set_nominal(new_notional)\n",
    "print(f\"Nuevo Nocional: {overnight_index_cashflow.get_nominal():,.2f}\")"
   ]
  },
  {
   "cell_type": "markdown",
   "metadata": {},
   "source": [
    "Nueva amortización."
   ]
  },
  {
   "cell_type": "code",
   "execution_count": null,
   "metadata": {},
   "outputs": [],
   "source": [
    "new_amortization = 100_000\n",
    "overnight_index_cashflow.set_amortization(new_amortization)\n",
    "print(f\"Nueva Amortización: {overnight_index_cashflow.get_amortization():,.2f}\")"
   ]
  },
  {
   "cell_type": "markdown",
   "metadata": {},
   "source": [
    "### Cálculos"
   ]
  },
  {
   "cell_type": "markdown",
   "metadata": {},
   "source": [
    "Tasa equivalente del período."
   ]
  },
  {
   "cell_type": "code",
   "execution_count": null,
   "metadata": {},
   "outputs": [],
   "source": [
    "print(f\"Valor Tasa Equivalente Todo el Período: {overnight_index_cashflow.get_rate_value():.6%}\")\n",
    "check = round((\n",
    "    valor_indice_final / valor_indice_inicio - 1\n",
    ") * 360.0 / fecha_inicio_devengo.day_diff(fecha_final_devengo), decimales_para_tasa_eq)\n",
    "print(f\"Check: {check:.6%}\")"
   ]
  },
  {
   "cell_type": "markdown",
   "metadata": {},
   "source": [
    "Se cambian las fechas utilizadas para el cálculo de la tasa equivalente."
   ]
  },
  {
   "cell_type": "code",
   "execution_count": null,
   "metadata": {},
   "outputs": [],
   "source": [
    "overnight_index_cashflow.set_dates_for_eq_rate(qcf.DatesForEquivalentRate.INDEX)\n",
    "print(f\"Valor Tasa Equivalente Todo el Período: {overnight_index_cashflow.get_rate_value():.6%}\")\n",
    "check = round((\n",
    "    valor_indice_final / valor_indice_inicio - 1\n",
    ") * 360.0 / fecha_inicio_indice.day_diff(fecha_final_indice), decimales_para_tasa_eq)\n",
    "print(f\"Check: {check:.6%}\")"
   ]
  },
  {
   "cell_type": "markdown",
   "metadata": {},
   "source": [
    "Método `accrued_interest`. Este método tiene dos sobrecargas. En la primera, el valor del índice se entrega explícitamente. En el ejemplo se utilizan las dos opciones para el parámetro `dates_for_eq_rate`."
   ]
  },
  {
   "cell_type": "code",
   "execution_count": null,
   "metadata": {},
   "outputs": [],
   "source": [
    "# Volvemos el nocional y la amortización al valor inicial\n",
    "overnight_index_cashflow.set_nominal(nocional)\n",
    "overnight_index_cashflow.set_amortization(amort)\n",
    "\n",
    "fecha_devengo = qcf.QCDate(17, 11, 2023)\n",
    "valor_indice_devengo = 10_000.0 * (1 + .051234 * 4 / 360)\n",
    "\n",
    "overnight_index_cashflow.set_dates_for_eq_rate(qcf.DatesForEquivalentRate.ACCRUAL)\n",
    "print(f\"Interés devengado (dates_for_eq_rate = ACCRUAL): {overnight_index_cashflow.accrued_interest(fecha_devengo, valor_indice_devengo): ,.4f}\")\n",
    "tasa = round((\n",
    "    valor_indice_devengo / valor_indice_inicio - 1\n",
    ") * 360.0 / fecha_inicio_devengo.day_diff(fecha_devengo), decimales_para_tasa_eq)\n",
    "print(f\"Check: {nocional * fecha_inicio_devengo.day_diff(fecha_devengo) * tasa / 360.0:,.4f}\\n\")\n",
    "\n",
    "overnight_index_cashflow.set_dates_for_eq_rate(qcf.DatesForEquivalentRate.INDEX)\n",
    "print(f\"Interés devengado (dates_for_eq_rate = INDEX): {overnight_index_cashflow.accrued_interest(fecha_devengo, valor_indice_devengo): ,.4f}\")\n",
    "tasa = round((\n",
    "    valor_indice_devengo / valor_indice_inicio - 1\n",
    ") * 360.0 / fecha_inicio_indice.day_diff(fecha_devengo), decimales_para_tasa_eq)\n",
    "print(f\"Check: {nocional * fecha_inicio_devengo.day_diff(fecha_devengo) * tasa / 360.0:,.4f}\")"
   ]
  },
  {
   "cell_type": "markdown",
   "metadata": {},
   "source": [
    "La segunda sobrecarga de `accrued_interest` permite empaquetar el valor del índice a fecha de devengo en un objeto de tipo `time_series`."
   ]
  },
  {
   "cell_type": "code",
   "execution_count": null,
   "metadata": {},
   "outputs": [],
   "source": [
    "data = qcf.time_series()\n",
    "data[fecha_devengo] = valor_indice_devengo\n",
    "\n",
    "overnight_index_cashflow.set_dates_for_eq_rate(qcf.DatesForEquivalentRate.ACCRUAL)\n",
    "\n",
    "# El segundo parámetro de accrued_interest es ahora data\n",
    "print(f\"Interés devengado (dates_for_eq_rate = ACCRUAL): {overnight_index_cashflow.accrued_interest(fecha_devengo, data): ,.4f}\")\n",
    "\n",
    "# En este caso, en los dias para el cálculo de la tasa equivalente\n",
    "# coinciden con los días de devengo, aunque cualquiera de las dos\n",
    "# fechas de devengo sea inhábil.\n",
    "dias_calculo_tasa_eq = fecha_inicio_devengo.day_diff(fecha_devengo)\n",
    "tasa = (valor_indice_devengo / valor_indice_inicio - 1) * 360.0 / dias_calculo_tasa_eq\n",
    "tasa = round(tasa, decimales_para_tasa_eq)\n",
    "\n",
    "dias_devengo = dias_calculo_tasa_eq\n",
    "print(f\"Check: {nocional * tasa * dias_devengo / 360.0:,.4f}\\n\")\n",
    "\n",
    "overnight_index_cashflow.set_dates_for_eq_rate(qcf.DatesForEquivalentRate.INDEX)\n",
    "\n",
    "# El segundo parámetro de accrued_interest es ahora data\n",
    "print(f\"Interés devengado (dates_for_eq_rate = INDEX): {overnight_index_cashflow.accrued_interest(fecha_devengo, data): ,.4f}\")\n",
    "\n",
    "# En este caso, en los días para el cálculo de la tasa equivalente \n",
    "# se utiliza las fecha de inicio del índice.\n",
    "dias_calculo_tasa_eq = fecha_inicio_indice.day_diff(fecha_devengo)\n",
    "tasa = (valor_indice_devengo / valor_indice_inicio - 1) * 360.0 / dias_calculo_tasa_eq\n",
    "tasa = round(tasa, decimales_para_tasa_eq)\n",
    "\n",
    "# Para el devengo siempre se utiliza, los días de devengo\n",
    "print(f\"Check: {nocional * tasa * dias_devengo / 360.0:,.4f}\\n\")"
   ]
  },
  {
   "cell_type": "markdown",
   "metadata": {},
   "source": [
    "Método `amount`"
   ]
  },
  {
   "cell_type": "code",
   "execution_count": null,
   "metadata": {},
   "outputs": [],
   "source": [
    "overnight_index_cashflow.set_dates_for_eq_rate(qcf.DatesForEquivalentRate.ACCRUAL)\n",
    "print(f\"Amount (ACCRUAL): {overnight_index_cashflow.amount():,.4f}\")\n",
    "dias_calculo_tasa_eq = fecha_inicio_devengo.day_diff(fecha_final_devengo)\n",
    "tasa = (valor_indice_final / valor_indice_inicio - 1) * 360.0 / dias_calculo_tasa_eq\n",
    "dias_devengo = dias_calculo_tasa_eq\n",
    "print(f\"Check: {nocional * (1 + tasa * dias_devengo / 360.0):,.4f}\\n\")\n",
    "\n",
    "overnight_index_cashflow.set_dates_for_eq_rate(qcf.DatesForEquivalentRate.INDEX)\n",
    "print(f\"Amount (INDEX): {overnight_index_cashflow.amount():,.4f}\")\n",
    "dias_calculo_tasa_eq = fecha_inicio_indice.day_diff(fecha_final_indice)\n",
    "tasa = (valor_indice_final / valor_indice_inicio - 1) * 360.0 / dias_calculo_tasa_eq\n",
    "print(f\"Check: {nocional * (1 + tasa * dias_devengo / 360.0):,.4f}\\n\")"
   ]
  },
  {
   "cell_type": "markdown",
   "metadata": {},
   "source": [
    "### Funciones `show` y `get_column_names`"
   ]
  },
  {
   "cell_type": "markdown",
   "metadata": {},
   "source": [
    "Al igual que en casos anteriores, juntando estas dos funciones se obtiene una representación tabular del flujo usando `pandas.DataFrame`."
   ]
  },
  {
   "cell_type": "code",
   "execution_count": null,
   "metadata": {},
   "outputs": [],
   "source": [
    "df = pd.DataFrame([qcf.show(overnight_index_cashflow)], columns=qcf.get_column_names(overnight_index_cashflow.get_type()))\n",
    "df.style.format({\n",
    "    'nocional':'{:,.2f}', \n",
    "    'amortizacion':'{:,.2f}', \n",
    "    'amortizacion_moneda_pago':'{:,.2f}', \n",
    "    'interes':'{:,.2f}',\n",
    "    'interes_moneda_pago':'{:,.2f}',\n",
    "    'flujo':'{:,.2f}',\n",
    "    'flujo_moneda_pago':'{:,.2f}',\n",
    "    'valor_tasa_equivalente':'{:.6%}',\n",
    "    'spread':'{:.2%}',\n",
    "    'valor_indice_inicial':'{:,.2f}',\n",
    "    'valor_indice_final':'{:,.2f}',\n",
    "})"
   ]
  },
  {
   "cell_type": "markdown",
   "metadata": {},
   "source": [
    "## Overnight Index Multi Currency Cashflow"
   ]
  },
  {
   "cell_type": "markdown",
   "metadata": {},
   "source": [
    "Un objeto de tipo `OvernightIndexMultiCurrencyCashflow` hereda de `OvernightIndexCashflow` y representa un flujo de caja del tipo de la pata flotante de un swap ICP (cámara promedio) de Chile usando cualquier tipo de índice similar (por ejemplo SOFRINDX), cualquier moneda de nocional, pero con flujos de caja en una moneda distinta a la del nocional, por ejemplo un ICPCLP con contraparte en US que compensa en USD. Al heredar de `OvernightIndexCashflow`, también permite definir en forma independiente a `start_date` y `end_date` las fechas inicial y final utilizadas para los valores del índice. Para dar de alta uno de estos objetos se requiere:\n",
    "\n",
    "- `QCDate`: fecha inicio devengo (para la aplicación de la tasa)\n",
    "- `QCDate`: fecha final devengo (para la aplicación de la tasa)\n",
    "- `QCDate`: fecha inicio índice (para el valor del índice)\n",
    "- `QCDate`: fecha final índice (para el valor del índice)\n",
    "- `QCDate`: fecha de pago\n",
    "- `QCCurrency`: moneda del nocional\n",
    "- `float`: nocional (monto al que se le aplica la tasa)\n",
    "- `float`: amortización (eventual flujo de caja que corresponde a una porción del nominal)\n",
    "- `bool`: indica si la amortización anterior es un flujo de caja o sólo una disminución de nominal\n",
    "- `float`: spread aditivo a aplicar a la fijación de la tasa equivalente (TNA en el caso de un ICPCLP)\n",
    "- `float`: spread multiplicativo o gearing a aplicar a la fijación de la tasa equivalente\n",
    "- `QCInterestRate`: con este objeto se especifica en qué convención se calcula la tasa equivalente\n",
    "- `string`: nombre del índice overnight a utilizar\n",
    "- `unsigned int`: número de decimales a utilizar para determinar la tasa equivalente\n",
    "- `DatesForEquivalentRate`: enum que indica qué fechas se utilizan en el cálculo de la tasa equivalente.\n",
    "  \n",
    "Hasta acá son los mismos argumentos necesarios para construir un `OvernightIndexCashflow`. Se añaden los siguientes argumentos:\n",
    "- `QCDate`: fecha de fixing del índice de tipo de cambio. Esta fecha se refiere a la fecha de publicación del índice, no a la fecha de fixing en sentido financiero.\n",
    "- `QCCurrency`: moneda de pago de los flujos de caja\n",
    "- `FXRateIndex>`: índice de tipo de cambio utilizado para la conversión de los flujos a moneda de pago"
   ]
  },
  {
   "cell_type": "markdown",
   "metadata": {},
   "source": [
    "#### Ejemplo"
   ]
  },
  {
   "cell_type": "code",
   "execution_count": null,
   "metadata": {},
   "outputs": [],
   "source": [
    "fecha_inicio_devengo = qcf.QCDate(13, 11, 2023)\n",
    "\n",
    "# Notar que la fecha final de devengo es sábado\n",
    "fecha_final_devengo = qcf.QCDate(18, 11, 2023)\n",
    "\n",
    "fecha_inicio_indice = qcf.QCDate(13, 11, 2023)\n",
    "\n",
    "# Notar que la fecha final de índice es el viernes\n",
    "fecha_final_indice = qcf.QCDate(17, 11, 2023)\n",
    "\n",
    "# La fecha de pago es el lunes siguiente\n",
    "fecha_pago = qcf.QCDate(20, 11, 2023)\n",
    "\n",
    "moneda_nocional = qcf.QCUSD()\n",
    "nocional = 1_000_000_000.0\n",
    "amort = 100_000_000.0\n",
    "amort_es_flujo = True\n",
    "spread = 0.0\n",
    "gearing = 1.0\n",
    "tasa = qcf.QCInterestRate(0.0, qcf.QCAct360(), qcf.QCLinearWf())\n",
    "nombre_indice = 'INDICE'\n",
    "num_decimales = 8\n",
    "valor_indice_inicio = 1.0\n",
    "valor_indice_final = 1 + .1234 * 4 / 360 # Suponemos un valor constante de 12.34% por 4 días del índice\n",
    "dates_for_eq_rate = qcf.DatesForEquivalentRate.ACCRUAL\n",
    "\n",
    "# -----------------------------------------------\n",
    "fecha_fixing_fx_index = fecha_final_devengo\n",
    "moneda_pago = qcf.QCCLP()\n",
    "indice_fx = usdclp_obs"
   ]
  },
  {
   "cell_type": "code",
   "execution_count": null,
   "metadata": {},
   "outputs": [],
   "source": [
    "overnight_index_mccy_cashflow = qcf.OvernightIndexMultiCurrencyCashflow(\n",
    "    fecha_inicio_devengo,\n",
    "    fecha_final_devengo,\n",
    "    fecha_inicio_indice,\n",
    "    fecha_final_indice,\n",
    "    fecha_pago,\n",
    "    moneda_nocional,\n",
    "    nocional,\n",
    "    amort,\n",
    "    amort_es_flujo,\n",
    "    spread,\n",
    "    gearing,\n",
    "    tasa,\n",
    "    nombre_indice,\n",
    "    num_decimales,\n",
    "    dates_for_eq_rate,\n",
    "    fecha_fixing_fx_index,\n",
    "    moneda_pago,\n",
    "    indice_fx,\n",
    ")"
   ]
  },
  {
   "cell_type": "code",
   "execution_count": null,
   "metadata": {},
   "outputs": [],
   "source": [
    "type(overnight_index_mccy_cashflow)"
   ]
  },
  {
   "cell_type": "markdown",
   "metadata": {},
   "source": [
    "#### Nuevos Getters"
   ]
  },
  {
   "cell_type": "code",
   "execution_count": null,
   "metadata": {},
   "outputs": [],
   "source": [
    "overnight_index_mccy_cashflow.get_fx_rate_index()"
   ]
  },
  {
   "cell_type": "code",
   "execution_count": null,
   "metadata": {},
   "outputs": [],
   "source": [
    "overnight_index_mccy_cashflow.get_type()"
   ]
  },
  {
   "cell_type": "code",
   "execution_count": null,
   "metadata": {},
   "outputs": [],
   "source": [
    "overnight_index_mccy_cashflow.get_fx_rate_index_code()"
   ]
  },
  {
   "cell_type": "code",
   "execution_count": null,
   "metadata": {},
   "outputs": [],
   "source": [
    "overnight_index_mccy_cashflow.get_fx_rate_index_value()"
   ]
  },
  {
   "cell_type": "markdown",
   "metadata": {},
   "source": [
    "#### Nuevos Cálculos"
   ]
  },
  {
   "cell_type": "markdown",
   "metadata": {},
   "source": [
    "Primero se fijan los valores del índice overnight."
   ]
  },
  {
   "cell_type": "code",
   "execution_count": null,
   "metadata": {},
   "outputs": [],
   "source": [
    "overnight_index_mccy_cashflow.set_start_date_index(valor_indice_inicio)\n",
    "overnight_index_mccy_cashflow.set_end_date_index(valor_indice_final)"
   ]
  },
  {
   "cell_type": "code",
   "execution_count": null,
   "metadata": {},
   "outputs": [],
   "source": [
    "print(f\"Amount: {overnight_index_mccy_cashflow.amount():,.2f}\")"
   ]
  },
  {
   "cell_type": "code",
   "execution_count": null,
   "metadata": {},
   "outputs": [],
   "source": [
    "print(f\"Interés en moneda de pago: {overnight_index_mccy_cashflow.settlement_ccy_interest():,.0f}\")"
   ]
  },
  {
   "cell_type": "code",
   "execution_count": null,
   "metadata": {},
   "outputs": [],
   "source": [
    "print(f\"Amortización en moneda de pago {overnight_index_mccy_cashflow.settlement_ccy_amortization():,.0f}\")"
   ]
  },
  {
   "cell_type": "markdown",
   "metadata": {},
   "source": [
    "#### Funciones `show` y `get_column_names`"
   ]
  },
  {
   "cell_type": "markdown",
   "metadata": {},
   "source": [
    "Se envuelve el resultado de la función `show` en un `pd.DataFrame`."
   ]
  },
  {
   "cell_type": "code",
   "execution_count": null,
   "metadata": {},
   "outputs": [],
   "source": [
    "df = pd.DataFrame(\n",
    "    [qcf.show(overnight_index_mccy_cashflow),],\n",
    "    columns=qcf.get_column_names(\"OvernightIndexMultiCurrencyCashflow\", \"\")\n",
    ")\n",
    "df.style.format(format_dict)"
   ]
  },
  {
   "cell_type": "markdown",
   "metadata": {},
   "source": [
    "#### Nuevo Setter"
   ]
  },
  {
   "cell_type": "markdown",
   "metadata": {},
   "source": [
    "Valor del índice de tipo de cambio."
   ]
  },
  {
   "cell_type": "code",
   "execution_count": null,
   "metadata": {},
   "outputs": [],
   "source": [
    "overnight_index_mccy_cashflow.set_fx_rate_index_value(900.0)"
   ]
  },
  {
   "cell_type": "markdown",
   "metadata": {},
   "source": [
    "Ver el efecto en las últimas dos columnas."
   ]
  },
  {
   "cell_type": "code",
   "execution_count": null,
   "metadata": {},
   "outputs": [],
   "source": [
    "pd.DataFrame(\n",
    "    [qcf.show(overnight_index_mccy_cashflow),],\n",
    "    columns=qcf.get_column_names(\"OvernightIndexMultiCurrencyCashflow\", \"\")\n",
    ").style.format(format_dict)"
   ]
  },
  {
   "cell_type": "markdown",
   "metadata": {},
   "source": [
    "## Compounded Overnight Rate Cashflow 2"
   ]
  },
  {
   "cell_type": "markdown",
   "metadata": {},
   "source": [
    "Un objeto de tipo `CompoundedOvernightRateCashflow2` representa un flujo de caja calculado como un cupón de la pata flotante de un OIS sobre cualquier índice overnight (SOFR, FF, EONIA). Para dar de alta uno de estos objetos se requiere:\n",
    "\n",
    "- `InterestRateIndex`: el índice de tasa de interés prefijado\n",
    "- `QCDate`: fecha inicio (para la aplicación de la tasa)\n",
    "- `QCDate`: fecha final (para la aplicación de la tasa)\n",
    "- `QCDate`: fecha de pago\n",
    "- `DateList`: fechas de fixing del índice\n",
    "- `float`: nominal (monto al que se le aplica la tasa)\n",
    "- `float`: amortización (eventual flujo de caja que corresponde a una porción del nominal)\n",
    "- `bool`: indica si la amortización anterior es un flujo de caja o sólo una disminución de nominal\n",
    "- `QCCurrency`: moneda del nocional de la operación\n",
    "- `float`: spread aditivo a aplicar a la fijación de la tasa equivalente\n",
    "- `float`: spread multiplicativo o gearing a aplicar a la fijación de la tasa equivalente\n",
    "- `QCInterestRate`: permite especificar cuál es la convención de cálculo de la tasa equivalente\n",
    "- `unsigned int`: número de decimales a usar en el cálculo de la tasa equivalente. Por ejemplo para 0.12345678% este valor debe ser 10.\n",
    "- `unsigned int`: número de días de lookback\n",
    "- `unsigned int`: número de días de lockout\n",
    "\n",
    "El efecto de lookback y lockout aún no está implementado."
   ]
  },
  {
   "cell_type": "markdown",
   "metadata": {},
   "source": [
    "### Constructor"
   ]
  },
  {
   "cell_type": "markdown",
   "metadata": {},
   "source": [
    "Se da de alta un índice overnight ficiticio de test."
   ]
  },
  {
   "cell_type": "code",
   "execution_count": null,
   "metadata": {
    "ExecuteTime": {
     "end_time": "2022-01-21T13:43:03.569544Z",
     "start_time": "2022-01-21T13:43:03.554583Z"
    }
   },
   "outputs": [],
   "source": [
    "codigo = \"OITEST\"\n",
    "lin_act360 = qcf.QCInterestRate(0.0, act360, lin_wf)\n",
    "fixing_lag = qcf.Tenor(\"0d\")\n",
    "tenor = qcf.Tenor(\"1d\")\n",
    "fixing_calendar = scl\n",
    "settlement_calendar = scl\n",
    "oitest = qcf.InterestRateIndex(\n",
    "    codigo, \n",
    "    lin_act360, \n",
    "    fixing_lag, \n",
    "    tenor, \n",
    "    fixing_calendar, \n",
    "    settlement_calendar, \n",
    "    usd\n",
    ")"
   ]
  },
  {
   "cell_type": "markdown",
   "metadata": {},
   "source": [
    "Al dar de alta directamente este cashflow es necesario entregar explícitamente las fechas de fijación. En el capítulo relacionado a construcción de `qcf.Leg` veremos cómo este proceso se simplifica."
   ]
  },
  {
   "cell_type": "code",
   "execution_count": null,
   "metadata": {
    "ExecuteTime": {
     "end_time": "2022-01-21T13:43:03.584504Z",
     "start_time": "2022-01-21T13:43:03.570541Z"
    }
   },
   "outputs": [],
   "source": [
    "fixing_dates = qcf.DateList()"
   ]
  },
  {
   "cell_type": "code",
   "execution_count": null,
   "metadata": {
    "ExecuteTime": {
     "end_time": "2022-01-21T13:43:03.600461Z",
     "start_time": "2022-01-21T13:43:03.585501Z"
    }
   },
   "outputs": [],
   "source": [
    "fixing_dates.append(qcf.QCDate(27, 12, 2021))\n",
    "fixing_dates.append(qcf.QCDate(28, 12, 2021))\n",
    "fixing_dates.append(qcf.QCDate(29, 12, 2021))\n",
    "fixing_dates.append(qcf.QCDate(30, 12, 2021))"
   ]
  },
  {
   "cell_type": "markdown",
   "metadata": {},
   "source": [
    "Se da de alta el cashflow."
   ]
  },
  {
   "cell_type": "code",
   "execution_count": null,
   "metadata": {
    "ExecuteTime": {
     "end_time": "2022-01-21T13:43:03.679251Z",
     "start_time": "2022-01-21T13:43:03.601459Z"
    }
   },
   "outputs": [],
   "source": [
    "cor_cashflow_2 = qcf.CompoundedOvernightRateCashflow2(\n",
    "    oitest,\n",
    "    qcf.QCDate(27, 12, 2021),\n",
    "    qcf.QCDate(31, 12, 2021),\n",
    "    qcf.QCDate(2, 1, 2022),\n",
    "    fixing_dates,\n",
    "    10_000_000.0,\n",
    "    100_000.0,\n",
    "    True,\n",
    "    qcf.QCCLP(),\n",
    "    spread:=0.001,\n",
    "    1.0,\n",
    "    qcf.QCInterestRate(0.0, qcf.QCAct360(), qcf.QCLinearWf()),\n",
    "    8,\n",
    "    0,\n",
    "    0,\n",
    ")"
   ]
  },
  {
   "cell_type": "markdown",
   "metadata": {},
   "source": [
    "### Getters"
   ]
  },
  {
   "cell_type": "code",
   "execution_count": null,
   "metadata": {
    "ExecuteTime": {
     "end_time": "2022-01-21T13:43:03.680249Z",
     "start_time": "2022-01-21T13:43:03.680249Z"
    }
   },
   "outputs": [],
   "source": [
    "print(f\"Type of cashflow: {cor_cashflow_2.get_type()}\")\n",
    "print(f\"Fecha Inicio: {cor_cashflow_2.get_start_date()}\")\n",
    "print(f\"Fecha Final: {cor_cashflow_2.get_end_date()}\")\n",
    "print(f\"Fecha Pago: {cor_cashflow_2.get_settlement_date()}\")\n",
    "print(f\"Nocional: {cor_cashflow_2.get_nominal():,.0f}\")\n",
    "print(f\"Amortización: {cor_cashflow_2.get_amortization():,.0f}\")\n",
    "print(f\"Moneda del nocional: {cor_cashflow_2.ccy().get_iso_code()}\")\n",
    "print(f\"Spread: {cor_cashflow_2.get_spread():.2%}\")\n",
    "print(f\"Gearing: {cor_cashflow_2.get_gearing():.2f}\")\n",
    "print(f\"Número de decimales de tasa: {cor_cashflow_2.get_eq_rate_decimal_places()}\")"
   ]
  },
  {
   "cell_type": "code",
   "execution_count": null,
   "metadata": {
    "ExecuteTime": {
     "end_time": "2022-01-21T13:43:03.684238Z",
     "start_time": "2022-01-21T13:43:03.684238Z"
    }
   },
   "outputs": [],
   "source": [
    "print(\"Fechas de fijación\")\n",
    "for d in cor_cashflow_2.get_fixing_dates():\n",
    "    print(d)"
   ]
  },
  {
   "cell_type": "markdown",
   "metadata": {},
   "source": [
    "### Setters"
   ]
  },
  {
   "cell_type": "code",
   "execution_count": null,
   "metadata": {
    "ExecuteTime": {
     "end_time": "2022-01-21T13:43:03.697203Z",
     "start_time": "2022-01-21T13:43:03.697203Z"
    }
   },
   "outputs": [],
   "source": [
    "cor_cashflow_2.set_notional(1_000)\n",
    "print(f\"Nocional: {cor_cashflow_2.get_nominal():,.0f}\")"
   ]
  },
  {
   "cell_type": "code",
   "execution_count": null,
   "metadata": {
    "ExecuteTime": {
     "end_time": "2022-01-21T13:43:03.698200Z",
     "start_time": "2022-01-21T13:43:03.698200Z"
    }
   },
   "outputs": [],
   "source": [
    "cor_cashflow_2.set_amortization(0)\n",
    "cor_cashflow_2.get_amortization()"
   ]
  },
  {
   "cell_type": "markdown",
   "metadata": {},
   "source": [
    "Se reversa el ejemplo."
   ]
  },
  {
   "cell_type": "code",
   "execution_count": null,
   "metadata": {
    "ExecuteTime": {
     "end_time": "2022-01-21T13:43:03.699197Z",
     "start_time": "2022-01-21T13:43:03.699197Z"
    }
   },
   "outputs": [],
   "source": [
    "cor_cashflow_2.set_notional(10_000_000.0)\n",
    "cor_cashflow_2.set_amortization(100_000.0)"
   ]
  },
  {
   "cell_type": "markdown",
   "metadata": {},
   "source": [
    "### Cálculos"
   ]
  },
  {
   "cell_type": "markdown",
   "metadata": {},
   "source": [
    "El `accrued_fixing` corresponde a la fijación de tasa equivalente en una fecha anterior a la fecha final del cashflow. Para el cálculo de `accrued_fixing` se requiere un objeto de tipo `TimeSeries` que contenga los datos históricos del índice overnight."
   ]
  },
  {
   "cell_type": "code",
   "execution_count": null,
   "metadata": {
    "ExecuteTime": {
     "end_time": "2022-01-21T13:43:03.701192Z",
     "start_time": "2022-01-21T13:43:03.701192Z"
    }
   },
   "outputs": [],
   "source": [
    "ts = qcf.time_series()"
   ]
  },
  {
   "cell_type": "code",
   "execution_count": null,
   "metadata": {
    "ExecuteTime": {
     "end_time": "2022-01-21T13:43:03.702189Z",
     "start_time": "2022-01-21T13:43:03.702189Z"
    }
   },
   "outputs": [],
   "source": [
    "ts[qcf.QCDate(27, 12, 2021)] = 0.01\n",
    "ts[qcf.QCDate(28, 12, 2021)] = 0.02\n",
    "ts[qcf.QCDate(29, 12, 2021)] = 0.03\n",
    "ts[qcf.QCDate(30, 12, 2021)] = 0.04"
   ]
  },
  {
   "cell_type": "code",
   "execution_count": null,
   "metadata": {
    "ExecuteTime": {
     "end_time": "2022-01-21T13:43:03.703186Z",
     "start_time": "2022-01-21T13:43:03.703186Z"
    }
   },
   "outputs": [],
   "source": [
    "print(f\"Accrued fixing: {cor_cashflow_2.accrued_fixing(qcf.QCDate(29, 12, 2021), ts):.6%}\")"
   ]
  },
  {
   "cell_type": "code",
   "execution_count": null,
   "metadata": {
    "ExecuteTime": {
     "end_time": "2022-01-21T13:43:03.704184Z",
     "start_time": "2022-01-21T13:43:03.704184Z"
    }
   },
   "outputs": [],
   "source": [
    "check = ((1 + 0.01 / 360) * (1 + 0.02 / 360.0) - 1) * 360 / 2.0\n",
    "print(f\"Check: {check:.6%}\")"
   ]
  },
  {
   "cell_type": "markdown",
   "metadata": {},
   "source": [
    "El `accrued_interest` corresponde a los intereses devengados en una fecha anterior a la fecha final del cashflow. Para el cálculo de `accrued_interest` se requiere un objeto de tipo `TimeSeries` que contenga los datos históricos del índice overnight."
   ]
  },
  {
   "cell_type": "code",
   "execution_count": null,
   "metadata": {
    "ExecuteTime": {
     "end_time": "2022-01-21T13:43:03.706179Z",
     "start_time": "2022-01-21T13:43:03.706179Z"
    }
   },
   "outputs": [],
   "source": [
    "print(f\"Accrued interest: {cor_cashflow_2.accrued_interest(qcf.QCDate(29, 12, 2021), ts):,.2f}\")"
   ]
  },
  {
   "cell_type": "code",
   "execution_count": null,
   "metadata": {
    "ExecuteTime": {
     "end_time": "2022-01-21T13:43:03.707176Z",
     "start_time": "2022-01-21T13:43:03.707176Z"
    }
   },
   "outputs": [],
   "source": [
    "check = (\n",
    "    cor_cashflow_2.get_nominal()\n",
    "    * (cor_cashflow_2.accrued_fixing(qcf.QCDate(29, 12, 2021), ts) + spread)\n",
    "    * 2\n",
    "    / 360.0\n",
    ")\n",
    "print(f\"Check: {check:,.2f}\")"
   ]
  },
  {
   "cell_type": "markdown",
   "metadata": {},
   "source": [
    "Otros."
   ]
  },
  {
   "cell_type": "code",
   "execution_count": null,
   "metadata": {
    "ExecuteTime": {
     "end_time": "2022-01-21T13:43:03.708174Z",
     "start_time": "2022-01-21T13:43:03.708174Z"
    }
   },
   "outputs": [],
   "source": [
    "print(f\"Amount: {cor_cashflow_2.amount():,.2f}\")\n",
    "print(f\"Interés del spread: {cor_cashflow_2.interest_from_spread():,.2f}\")"
   ]
  },
  {
   "cell_type": "markdown",
   "metadata": {},
   "source": [
    "### Método `is_expired`"
   ]
  },
  {
   "cell_type": "markdown",
   "metadata": {},
   "source": [
    "Un `CompoundedOvernightRateCashflow` se considera vencido en una fecha posterior a la fecha de pago."
   ]
  },
  {
   "cell_type": "code",
   "execution_count": null,
   "metadata": {},
   "outputs": [],
   "source": [
    "print(f\"Fecha Pago: {cor_cashflow_2.get_settlement_date()}\")"
   ]
  },
  {
   "cell_type": "code",
   "execution_count": null,
   "metadata": {
    "ExecuteTime": {
     "end_time": "2022-01-21T13:43:03.713161Z",
     "start_time": "2022-01-21T13:43:03.713161Z"
    }
   },
   "outputs": [],
   "source": [
    "cor_cashflow_2.is_expired(qcf.QCDate(29, 12, 2021))"
   ]
  },
  {
   "cell_type": "code",
   "execution_count": null,
   "metadata": {
    "ExecuteTime": {
     "end_time": "2022-01-21T13:43:03.714157Z",
     "start_time": "2022-01-21T13:43:03.714157Z"
    }
   },
   "outputs": [],
   "source": [
    "cor_cashflow_2.is_expired(qcf.QCDate(2, 1, 2022))"
   ]
  },
  {
   "cell_type": "code",
   "execution_count": null,
   "metadata": {
    "ExecuteTime": {
     "end_time": "2022-01-21T13:43:03.716152Z",
     "start_time": "2022-01-21T13:43:03.716152Z"
    }
   },
   "outputs": [],
   "source": [
    "cor_cashflow_2.is_expired(qcf.QCDate(3, 1, 2022))"
   ]
  },
  {
   "cell_type": "markdown",
   "metadata": {
    "execution": {
     "iopub.status.busy": "2024-06-08T12:16:03.982891Z",
     "iopub.status.idle": "2024-06-08T12:16:03.983354Z",
     "shell.execute_reply": "2024-06-08T12:16:03.983197Z",
     "shell.execute_reply.started": "2024-06-08T12:16:03.983182Z"
    }
   },
   "source": [
    "### Funciones `show` y `get_column_names`"
   ]
  },
  {
   "cell_type": "code",
   "execution_count": null,
   "metadata": {},
   "outputs": [],
   "source": [
    "pd.DataFrame([qcf.show(cor_cashflow_2)], columns=qcf.get_column_names(\"CompoundedOvernightRateCashflow2\", \"\"))"
   ]
  },
  {
   "cell_type": "markdown",
   "metadata": {},
   "source": [
    "## Compounded Overnight Rate Multi Currency Cashflow 2"
   ]
  },
  {
   "cell_type": "markdown",
   "metadata": {},
   "source": [
    "Un objeto de tipo `CompoundedOvernightRateMultiCurrencyCashflow2` representa un flujo de caja calculado como un cupón de la pata flotante de un OIS sobre cualquier índice overnight (SOFR, FF, EONIA) con la característica adicional de liquidar sus flujos en una moneda distina a la del nocional. Para dar de alta uno de estos objetos se requiere:\n",
    "\n",
    "- `InterestRateIndex`: el índice de tasa de interés prefijado\n",
    "- `QCDate`: fecha inicio (para la aplicación de la tasa)\n",
    "- `QCDate`: fecha final (para la aplicación de la tasa)\n",
    "- `QCDate`: fecha de pago\n",
    "- `DateList`: fechas de fixing del índice\n",
    "- `float`: nominal (monto al que se le aplica la tasa)\n",
    "- `float`: amortización (eventual flujo de caja que corresponde a una porción del nominal)\n",
    "- `bool`: indica si la amortización anterior es un flujo de caja o sólo una disminución de nominal\n",
    "- `QCCurrency`: moneda del nocional de la operación\n",
    "- `float`: spread aditivo a aplicar a la fijación de la tasa equivalente\n",
    "- `float`: spread multiplicativo o gearing a aplicar a la fijación de la tasa equivalente\n",
    "- `QCInterestRate`: permite especificar cuál es la convención de cálculo de la tasa equivalente\n",
    "- `unsigned int`: número de decimales a usar en el cálculo de la tasa equivalente. Por ejemplo para 0.12345678% este valor debe ser 10.\n",
    "- `unsigned int`: número de días de lookback\n",
    "- `unsigned int`: número de días de lockout\n",
    "\n",
    "Estos argumentos son los heredados de un `CompoundedOvernightRateCashflow`. También en este caso, el efecto de lookback y lockout aún no está implementado.\n",
    "\n",
    "A estos argumentos se debe agregar:\n",
    "\n",
    "- `QCDate`: fecha de fixing del índice de tipo de cambio. Esta fecha se refiere a la fecha de publicación del índice, no a la fecha de fixing en sentido financiero.\n",
    "- `QCCurrency`: moneda de pago de los flujos de caja\n",
    "- `FXRateIndex>`: índice de tipo de cambio utilizado para la conversión de los flujos a moneda de pago"
   ]
  },
  {
   "cell_type": "markdown",
   "metadata": {},
   "source": [
    "### Constructor"
   ]
  },
  {
   "cell_type": "markdown",
   "metadata": {},
   "source": [
    "Se da de alta un índice overnight ficiticio de test."
   ]
  },
  {
   "cell_type": "code",
   "execution_count": null,
   "metadata": {
    "ExecuteTime": {
     "end_time": "2022-01-21T13:43:03.569544Z",
     "start_time": "2022-01-21T13:43:03.554583Z"
    }
   },
   "outputs": [],
   "source": [
    "codigo = \"OITEST\"\n",
    "lin_act360 = qcf.QCInterestRate(0.0, act360, lin_wf)\n",
    "fixing_lag = qcf.Tenor(\"0d\")\n",
    "tenor = qcf.Tenor(\"1d\")\n",
    "fixing_calendar = scl\n",
    "settlement_calendar = scl\n",
    "oitest = qcf.InterestRateIndex(\n",
    "    codigo, \n",
    "    lin_act360, \n",
    "    fixing_lag, \n",
    "    tenor, \n",
    "    fixing_calendar, \n",
    "    settlement_calendar, \n",
    "    usd\n",
    ")"
   ]
  },
  {
   "cell_type": "markdown",
   "metadata": {},
   "source": [
    "Al dar de alta directamente este cashflow es necesario entregar explícitamente las fechas de fijación. En el capítulo relacionado a construcción de `qcf.Leg` veremos cómo este proceso se simplifica."
   ]
  },
  {
   "cell_type": "code",
   "execution_count": null,
   "metadata": {
    "ExecuteTime": {
     "end_time": "2022-01-21T13:43:03.584504Z",
     "start_time": "2022-01-21T13:43:03.570541Z"
    }
   },
   "outputs": [],
   "source": [
    "fixing_dates = qcf.DateList()"
   ]
  },
  {
   "cell_type": "code",
   "execution_count": null,
   "metadata": {
    "ExecuteTime": {
     "end_time": "2022-01-21T13:43:03.600461Z",
     "start_time": "2022-01-21T13:43:03.585501Z"
    }
   },
   "outputs": [],
   "source": [
    "fixing_dates.append(qcf.QCDate(27, 12, 2021))\n",
    "fixing_dates.append(qcf.QCDate(28, 12, 2021))\n",
    "fixing_dates.append(qcf.QCDate(29, 12, 2021))\n",
    "fixing_dates.append(qcf.QCDate(30, 12, 2021))"
   ]
  },
  {
   "cell_type": "markdown",
   "metadata": {},
   "source": [
    "Se da de alta el objeto."
   ]
  },
  {
   "cell_type": "code",
   "execution_count": null,
   "metadata": {
    "ExecuteTime": {
     "end_time": "2022-01-21T13:43:03.679251Z",
     "start_time": "2022-01-21T13:43:03.601459Z"
    }
   },
   "outputs": [],
   "source": [
    "cor_cashflow_mccy_2 = qcf.CompoundedOvernightRateMultiCurrencyCashflow2(\n",
    "    oitest,\n",
    "    qcf.QCDate(27, 12, 2021),\n",
    "    qcf.QCDate(31, 12, 2021),\n",
    "    qcf.QCDate(31, 12, 2021),\n",
    "    fixing_dates,\n",
    "    10_000_000.0,\n",
    "    100_000.0,\n",
    "    True,\n",
    "    qcf.QCCLP(),\n",
    "    spread:=0.001,\n",
    "    1.0,\n",
    "    qcf.QCInterestRate(0.0, qcf.QCAct360(), qcf.QCLinearWf()),\n",
    "    8,\n",
    "    0,\n",
    "    0,\n",
    "    qcf.QCDate(31, 12, 2021),\n",
    "    qcf.QCUSD(),\n",
    "    usdclp_obs,\n",
    ")"
   ]
  },
  {
   "cell_type": "markdown",
   "metadata": {},
   "source": [
    "### Nuevos Getters"
   ]
  },
  {
   "cell_type": "code",
   "execution_count": null,
   "metadata": {},
   "outputs": [],
   "source": [
    "print(f\"Fx Rate Index: {cor_cashflow_mccy_2.get_fx_rate_index()}\")\n",
    "print(f\"Fx Rate Index Value: {cor_cashflow_mccy_2.get_fx_rate_index_value()}\")\n",
    "print(f\"Fx Rate Index Code: {cor_cashflow_mccy_2.get_fx_rate_index_code()}\")\n",
    "print(f\"Fx Rate Index Fxing Date: {cor_cashflow_mccy_2.get_fx_rate_index_fixing_date()}\")"
   ]
  },
  {
   "cell_type": "markdown",
   "metadata": {},
   "source": [
    "### Nuevo Setter"
   ]
  },
  {
   "cell_type": "code",
   "execution_count": null,
   "metadata": {},
   "outputs": [],
   "source": [
    "cor_cashflow_mccy_2.set_fx_rate_index_value(2.0)\n",
    "print(f\"Fx Rate Index Value: {cor_cashflow_mccy_2.get_fx_rate_index_value()}\")"
   ]
  },
  {
   "cell_type": "markdown",
   "metadata": {},
   "source": [
    "### Nuevos Cálculos"
   ]
  },
  {
   "cell_type": "code",
   "execution_count": null,
   "metadata": {},
   "outputs": [],
   "source": [
    "print(f\"Interest: {cor_cashflow_mccy_2.interest(ts):,.2f}\")"
   ]
  },
  {
   "cell_type": "code",
   "execution_count": null,
   "metadata": {
    "editable": true,
    "slideshow": {
     "slide_type": ""
    },
    "tags": []
   },
   "outputs": [],
   "source": [
    "print(f\"To settlement currency: {cor_cashflow_mccy_2.to_settlement_currency(cor_cashflow_mccy_2.interest(ts)):,.0f}\")"
   ]
  },
  {
   "cell_type": "markdown",
   "metadata": {},
   "source": [
    "### Funciones `show` y `get_column_names`"
   ]
  },
  {
   "cell_type": "code",
   "execution_count": null,
   "metadata": {},
   "outputs": [],
   "source": [
    "pd.DataFrame([qcf.show(cor_cashflow_mccy_2)], columns=qcf.get_column_names(\"CompoundedOvernightRateMultiCurrencyCashflow2\", \"\"))"
   ]
  },
  {
   "cell_type": "markdown",
   "metadata": {},
   "source": [
    "## Icp Clf Cashflow"
   ]
  },
  {
   "cell_type": "markdown",
   "metadata": {},
   "source": [
    "Un objeto de tipo `IcpClfCashflow` representa un flujo de caja calculado como un cupón de la pata flotante de un swap ICP (cámara promedio) en UF de Chile. Para dar de alta uno de estos objetos se requiere:\n",
    "\n",
    "- `QCDate`: fecha inicio (para la aplicación de la tasa)\n",
    "- `QCDate`: fecha final (para la aplicación de la tasa)\n",
    "- `QCDate`: fecha de pago\n",
    "- `float`: nominal (monto al que se le aplica la tasa)\n",
    "- `float`: amortización (eventual flujo de caja que corresponde a una porción del nominal)\n",
    "- `bool`: indica si la amortización anterior es un flujo de caja o sólo una disminución de nominal\n",
    "- `float`: spread aditivo a aplicar a la fijación de la TRA\n",
    "- `float`: spread multiplicativo o gearing a aplicar a la fijación de la TRA\n",
    "- `vector<float>`: objeto `double_vec` (en Python) que contiene ICP Inicio, ICP Final, UF Inicio, UF Final (se debe respetar el orden)\n",
    "\n",
    "Recordar que TRA significa **Tasa Real Anual** y se determina utilizando los valores del índice ICP y los valores de la UF en la fecha de inicio y fecha final del `IcpClfCashflow`."
   ]
  },
  {
   "cell_type": "markdown",
   "metadata": {},
   "source": [
    "### Constructor"
   ]
  },
  {
   "cell_type": "markdown",
   "metadata": {},
   "source": [
    "Parámetros iniciales."
   ]
  },
  {
   "cell_type": "code",
   "execution_count": null,
   "metadata": {
    "ExecuteTime": {
     "end_time": "2022-01-21T13:43:03.522669Z",
     "start_time": "2022-01-21T13:43:03.507709Z"
    }
   },
   "outputs": [],
   "source": [
    "fecha_inicio = qcf.QCDate(20, 9, 2018)\n",
    "fecha_final = qcf.QCDate(20, 9, 2019)\n",
    "fecha_pago = qcf.QCDate(23, 9, 2019)\n",
    "nominal = 300_000.0\n",
    "amort = 100_000.0\n",
    "spread = 0.0\n",
    "gearing = 1.0\n",
    "\n",
    "icp_uf = qcf.double_vec()\n",
    "# Los primeros dos valores corresponden a icp_inicial e icp_final.\n",
    "# Los segundos dos valores corresponden a uf_inicial y uf_final\n",
    "icp_uf.append(10_000.0)\n",
    "icp_uf.append(10_250.0)\n",
    "icp_uf.append(35_000.0)\n",
    "icp_uf.append(35_500.0)"
   ]
  },
  {
   "cell_type": "markdown",
   "metadata": {},
   "source": [
    "Alta del objeto."
   ]
  },
  {
   "cell_type": "code",
   "execution_count": null,
   "metadata": {},
   "outputs": [],
   "source": [
    "icp_clf_cashflow = qcf.IcpClfCashflow(\n",
    "    fecha_inicio, \n",
    "    fecha_final, \n",
    "    fecha_pago, \n",
    "    nominal, \n",
    "    amort, \n",
    "    True, \n",
    "    spread, \n",
    "    gearing, \n",
    "    icp_uf\n",
    ")"
   ]
  },
  {
   "cell_type": "markdown",
   "metadata": {},
   "source": [
    "### Getters"
   ]
  },
  {
   "cell_type": "code",
   "execution_count": null,
   "metadata": {
    "ExecuteTime": {
     "end_time": "2022-01-21T13:43:03.538625Z",
     "start_time": "2022-01-21T13:43:03.523667Z"
    }
   },
   "outputs": [],
   "source": [
    "print(\"Fecha Inicio:\", icp_clf_cashflow.get_start_date())\n",
    "print(\"Fecha Final:\", icp_clf_cashflow.get_end_date())\n",
    "\n",
    "print(f\"ICP Fecha Inicio: {icp_clf_cashflow.get_start_date_icp():,.2f}\")\n",
    "print(f\"ICP Fecha Final: {icp_clf_cashflow.get_end_date_icp():,.2f}\")\n",
    "\n",
    "print(f\"UF Fecha Inicio: {icp_clf_cashflow.get_start_date_uf():,.2f}\")\n",
    "print(f\"UF Fecha Final: {icp_clf_cashflow.get_end_date_uf():,.2f}\")\n",
    "\n",
    "print(f\"Valor TRA Todo el Período: {icp_clf_cashflow.get_rate_value():.4%}\")\n",
    "tna = icp_clf_cashflow.get_tna(fecha_final, 10_250.0)\n",
    "dias = fecha_inicio.day_diff(fecha_final)\n",
    "tra = ((1 + tna * dias / 360.0) * icp_uf[2]/ icp_uf[3] - 1) * 360.0 / dias\n",
    "print(f\"Check TRA: {round(tra, 6):.4%}\")\n",
    "\n",
    "print(f\"Nominal: {icp_clf_cashflow.get_nominal():,.0f}\")\n",
    "print(f\"Amortización: {icp_clf_cashflow.get_amortization():,.0f}\")\n",
    "print(\"Tipo de Tasa:\", icp_clf_cashflow.get_type_of_rate())\n",
    "print(\"Moneda:\", icp_clf_cashflow.ccy())"
   ]
  },
  {
   "cell_type": "markdown",
   "metadata": {},
   "source": [
    "### Setters"
   ]
  },
  {
   "cell_type": "code",
   "execution_count": null,
   "metadata": {
    "ExecuteTime": {
     "end_time": "2022-01-21T13:43:03.553586Z",
     "start_time": "2022-01-21T13:43:03.539624Z"
    }
   },
   "outputs": [],
   "source": [
    "decimales_para_tra = 8\n",
    "icp_clf_cashflow.set_tra_decimal_places(decimales_para_tra)\n",
    "print(f\"Nueva TRA: {icp_clf_cashflow.get_rate_value():.6%}\")\n",
    "\n",
    "nuevo_nominal = 100_000.0\n",
    "icp_clf_cashflow.set_nominal(nuevo_nominal)\n",
    "print(f\"Nuevo Nominal: {icp_clf_cashflow.get_nominal():,.0f}\")\n",
    "\n",
    "nueva_amortizacion = 10_000.0\n",
    "icp_clf_cashflow.set_amortization(nueva_amortizacion)\n",
    "print(f\"Nueva Amortización: {icp_clf_cashflow.get_amortization():,.0f}\")\n",
    "\n",
    "nuevo_icp_inicio = 20_000.0\n",
    "icp_clf_cashflow.set_start_date_icp(nuevo_icp_inicio)\n",
    "print(f\"Nuevo ICP Inicio: {icp_clf_cashflow.get_start_date_icp():,.2f}\")\n",
    "\n",
    "nuevo_icp_final = 20_500.0\n",
    "icp_clf_cashflow.set_end_date_icp(nuevo_icp_final)\n",
    "print(f\"Nuevo ICP Final: {icp_clf_cashflow.get_end_date_icp():,.2f}\")\n",
    "print(f\"Check TNA Final: {icp_clf_cashflow.get_tna(fecha_final, nuevo_icp_final):.6%}\")"
   ]
  },
  {
   "cell_type": "markdown",
   "metadata": {},
   "source": [
    "### Funciones `show` y `get_column_names`"
   ]
  },
  {
   "cell_type": "code",
   "execution_count": null,
   "metadata": {},
   "outputs": [],
   "source": [
    "df = pd.DataFrame([qcf.show(icp_clf_cashflow)], columns=qcf.get_column_names(\"IcpClfCashflow\", \"\"))\n",
    "format_dict['icp_inicial'] = '{:,.2f}'\n",
    "format_dict['icp_final'] = '{:,.2f}'\n",
    "format_dict['uf_inicial'] = '{:,.2f}'\n",
    "format_dict['uf_final'] = '{:,.2f}'\n",
    "df.style.format(format_dict)"
   ]
  }
 ],
 "metadata": {
  "hide_input": false,
  "kernelspec": {
   "display_name": "Python 3 (ipykernel)",
   "language": "python",
   "name": "python3"
  },
  "language_info": {
   "codemirror_mode": {
    "name": "ipython",
    "version": 3
   },
   "file_extension": ".py",
   "mimetype": "text/x-python",
   "name": "python",
   "nbconvert_exporter": "python",
   "pygments_lexer": "ipython3",
   "version": "3.11.5"
  },
  "toc": {
   "base_numbering": 1,
   "nav_menu": {},
   "number_sections": true,
   "sideBar": true,
   "skip_h1_title": true,
   "title_cell": "Table of Contents",
   "title_sidebar": "Contenido",
   "toc_cell": false,
   "toc_position": {
    "height": "675.455px",
    "left": "284px",
    "top": "282.284px",
    "width": "235px"
   },
   "toc_section_display": true,
   "toc_window_display": true
  },
  "varInspector": {
   "cols": {
    "lenName": 16,
    "lenType": 16,
    "lenVar": 40
   },
   "kernels_config": {
    "python": {
     "delete_cmd_postfix": "",
     "delete_cmd_prefix": "del ",
     "library": "var_list.py",
     "varRefreshCmd": "print(var_dic_list())"
    },
    "r": {
     "delete_cmd_postfix": ") ",
     "delete_cmd_prefix": "rm(",
     "library": "var_list.r",
     "varRefreshCmd": "cat(var_dic_list()) "
    }
   },
   "types_to_exclude": [
    "module",
    "function",
    "builtin_function_or_method",
    "instance",
    "_Feature"
   ],
   "window_display": false
  }
 },
 "nbformat": 4,
 "nbformat_minor": 4
}
