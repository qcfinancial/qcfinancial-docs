{
 "cells": [
  {
   "cell_type": "markdown",
   "metadata": {
    "editable": true,
    "slideshow": {
     "slide_type": "slide"
    },
    "tags": []
   },
   "source": [
    "# Cashflows"
   ]
  },
  {
   "cell_type": "markdown",
   "metadata": {
    "editable": true,
    "slideshow": {
     "slide_type": "subslide"
    },
    "tags": []
   },
   "source": [
    "Para ejecutar todos los ejemplos se debe importar la librería. Se sugiere utilizar siempre el alias `qcf`. "
   ]
  },
  {
   "cell_type": "code",
   "execution_count": 1,
   "metadata": {
    "ExecuteTime": {
     "end_time": "2022-01-21T13:43:01.933321Z",
     "start_time": "2022-01-21T13:43:01.913344Z"
    },
    "editable": true,
    "execution": {
     "iopub.execute_input": "2024-06-08T12:16:01.941635Z",
     "iopub.status.busy": "2024-06-08T12:16:01.941462Z",
     "iopub.status.idle": "2024-06-08T12:16:03.028594Z",
     "shell.execute_reply": "2024-06-08T12:16:03.027665Z",
     "shell.execute_reply.started": "2024-06-08T12:16:01.941612Z"
    },
    "slideshow": {
     "slide_type": "fragment"
    },
    "tags": []
   },
   "outputs": [],
   "source": [
    "import qcfinancial as qcf\n",
    "import pandas as pd"
   ]
  },
  {
   "cell_type": "markdown",
   "metadata": {},
   "source": [
    "Se verifica la versión y build de `qcfinancial`."
   ]
  },
  {
   "cell_type": "code",
   "execution_count": 2,
   "metadata": {
    "execution": {
     "iopub.execute_input": "2024-06-08T12:16:03.031567Z",
     "iopub.status.busy": "2024-06-08T12:16:03.031171Z",
     "iopub.status.idle": "2024-06-08T12:16:03.038900Z",
     "shell.execute_reply": "2024-06-08T12:16:03.038201Z",
     "shell.execute_reply.started": "2024-06-08T12:16:03.031540Z"
    }
   },
   "outputs": [
    {
     "data": {
      "text/plain": [
       "'version: 0.10.0, build: 2024-06-08 08:15'"
      ]
     },
     "execution_count": 2,
     "metadata": {},
     "output_type": "execute_result"
    }
   ],
   "source": [
    "qcf.id()"
   ]
  },
  {
   "cell_type": "markdown",
   "metadata": {},
   "source": [
    "Permite formatear los `DataFrames` que serán utilizados."
   ]
  },
  {
   "cell_type": "code",
   "execution_count": 237,
   "metadata": {
    "execution": {
     "iopub.execute_input": "2024-06-08T21:42:24.793671Z",
     "iopub.status.busy": "2024-06-08T21:42:24.793336Z",
     "iopub.status.idle": "2024-06-08T21:42:24.798648Z",
     "shell.execute_reply": "2024-06-08T21:42:24.797628Z",
     "shell.execute_reply.started": "2024-06-08T21:42:24.793641Z"
    }
   },
   "outputs": [],
   "source": [
    "format_dict = {\n",
    "    'nocional':'{:,.2f}', \n",
    "    'nominal':'{:,.2f}', \n",
    "    'amortizacion':'{:,.2f}', \n",
    "    'amortizacion_moneda_pago':'{:,.2f}', \n",
    "    'interes':'{:,.2f}',\n",
    "    'interes_moneda_pago':'{:,.2f}',\n",
    "    'flujo':'{:,.2f}',\n",
    "    'flujo_en_clp':'{:,.0f}',\n",
    "    'flujo_moneda_pago':'{:,.2f}',\n",
    "    'valor_tasa':'{:.6%}',\n",
    "    'valor_tasa_equivalente':'{:.6%}',\n",
    "    'spread':'{:.2%}',\n",
    "    'valor_indice_inicial':'{:,.2f}',\n",
    "    'valor_indice_final':'{:,.2f}',\n",
    "}"
   ]
  },
  {
   "cell_type": "markdown",
   "metadata": {},
   "source": [
    "## Simple Cashflow\n",
    "Un objeto de tipo `SimpleCashflow` representa un flujo de caja cierto en una fecha y moneda. Para instanciar un objeto de este tipo se requiere:\n",
    "\n",
    "- `QCDate`: fecha del flujo\n",
    "- `float`: monto del flujo\n",
    "- `QCCurrency`: moneda del flujo"
   ]
  },
  {
   "cell_type": "markdown",
   "metadata": {},
   "source": [
    "Se define los parámetros."
   ]
  },
  {
   "cell_type": "code",
   "execution_count": 3,
   "metadata": {
    "ExecuteTime": {
     "end_time": "2022-01-21T13:43:02.463874Z",
     "start_time": "2022-01-21T13:43:02.449912Z"
    },
    "execution": {
     "iopub.execute_input": "2024-06-08T12:16:03.039861Z",
     "iopub.status.busy": "2024-06-08T12:16:03.039656Z",
     "iopub.status.idle": "2024-06-08T12:16:03.043803Z",
     "shell.execute_reply": "2024-06-08T12:16:03.043090Z",
     "shell.execute_reply.started": "2024-06-08T12:16:03.039839Z"
    }
   },
   "outputs": [],
   "source": [
    "fecha1 = qcf.QCDate(24, 5, 2024)\n",
    "monto = 1_000_000\n",
    "clp = qcf.QCCLP()"
   ]
  },
  {
   "cell_type": "markdown",
   "metadata": {},
   "source": [
    "Se instancia el objeto."
   ]
  },
  {
   "cell_type": "code",
   "execution_count": 4,
   "metadata": {
    "execution": {
     "iopub.execute_input": "2024-06-08T12:16:03.045006Z",
     "iopub.status.busy": "2024-06-08T12:16:03.044766Z",
     "iopub.status.idle": "2024-06-08T12:16:03.048207Z",
     "shell.execute_reply": "2024-06-08T12:16:03.047590Z",
     "shell.execute_reply.started": "2024-06-08T12:16:03.044984Z"
    }
   },
   "outputs": [],
   "source": [
    "simple_cashflow = qcf.SimpleCashflow(\n",
    "    fecha1, \n",
    "    monto, \n",
    "    clp,\n",
    ")"
   ]
  },
  {
   "cell_type": "code",
   "execution_count": 170,
   "metadata": {
    "execution": {
     "iopub.execute_input": "2024-06-08T16:54:52.171155Z",
     "iopub.status.busy": "2024-06-08T16:54:52.170823Z",
     "iopub.status.idle": "2024-06-08T16:54:52.176595Z",
     "shell.execute_reply": "2024-06-08T16:54:52.175842Z",
     "shell.execute_reply.started": "2024-06-08T16:54:52.171127Z"
    }
   },
   "outputs": [
    {
     "data": {
      "text/plain": [
       "<qcfinancial.SimpleCashflow at 0x10ea9cb30>"
      ]
     },
     "execution_count": 170,
     "metadata": {},
     "output_type": "execute_result"
    }
   ],
   "source": [
    "simple_cashflow"
   ]
  },
  {
   "cell_type": "markdown",
   "metadata": {},
   "source": [
    "### Métodos `amount`, `ccy` y `date`"
   ]
  },
  {
   "cell_type": "code",
   "execution_count": 6,
   "metadata": {
    "ExecuteTime": {
     "end_time": "2022-01-21T13:43:02.479832Z",
     "start_time": "2022-01-21T13:43:02.464871Z"
    },
    "execution": {
     "iopub.execute_input": "2024-06-08T12:16:03.055062Z",
     "iopub.status.busy": "2024-06-08T12:16:03.054789Z",
     "iopub.status.idle": "2024-06-08T12:16:03.058792Z",
     "shell.execute_reply": "2024-06-08T12:16:03.058223Z",
     "shell.execute_reply.started": "2024-06-08T12:16:03.055038Z"
    }
   },
   "outputs": [
    {
     "name": "stdout",
     "output_type": "stream",
     "text": [
      "Monto: 1,000,000\n",
      "Moneda: CLP\n",
      "Fecha: 2024-05-24\n"
     ]
    }
   ],
   "source": [
    "print(f\"Monto: {simple_cashflow.amount():,.0f}\")\n",
    "print(f\"Moneda: {simple_cashflow.ccy().get_iso_code()}\")\n",
    "print(f\"Fecha: {simple_cashflow.date()}\")"
   ]
  },
  {
   "cell_type": "markdown",
   "metadata": {},
   "source": [
    "### Función `show`"
   ]
  },
  {
   "cell_type": "markdown",
   "metadata": {},
   "source": [
    "Esta función envuelve de forma cómoda todo el flujo en un objeto `tuple`. La función `show` está sobregargada y admite todos los tipos de flujo de `qcfinancial`."
   ]
  },
  {
   "cell_type": "code",
   "execution_count": 7,
   "metadata": {
    "ExecuteTime": {
     "end_time": "2022-01-21T13:43:02.495789Z",
     "start_time": "2022-01-21T13:43:02.480830Z"
    },
    "execution": {
     "iopub.execute_input": "2024-06-08T12:16:03.062348Z",
     "iopub.status.busy": "2024-06-08T12:16:03.062115Z",
     "iopub.status.idle": "2024-06-08T12:16:03.066700Z",
     "shell.execute_reply": "2024-06-08T12:16:03.066092Z",
     "shell.execute_reply.started": "2024-06-08T12:16:03.062326Z"
    }
   },
   "outputs": [
    {
     "data": {
      "text/plain": [
       "('2024-05-24', 1000000.0, 'CLP')"
      ]
     },
     "execution_count": 7,
     "metadata": {},
     "output_type": "execute_result"
    }
   ],
   "source": [
    "qcf.show(simple_cashflow)"
   ]
  },
  {
   "cell_type": "markdown",
   "metadata": {},
   "source": [
    "### Función `get_columns_names`"
   ]
  },
  {
   "cell_type": "markdown",
   "metadata": {},
   "source": [
    "Para nombrar los elementos de la tupla anterior, se puede utilizar la función `get_column_names`."
   ]
  },
  {
   "cell_type": "code",
   "execution_count": 8,
   "metadata": {
    "execution": {
     "iopub.execute_input": "2024-06-08T12:16:03.067700Z",
     "iopub.status.busy": "2024-06-08T12:16:03.067492Z",
     "iopub.status.idle": "2024-06-08T12:16:03.071660Z",
     "shell.execute_reply": "2024-06-08T12:16:03.071030Z",
     "shell.execute_reply.started": "2024-06-08T12:16:03.067681Z"
    }
   },
   "outputs": [
    {
     "data": {
      "text/plain": [
       "('fecha_pago', 'monto', 'moneda')"
      ]
     },
     "execution_count": 8,
     "metadata": {},
     "output_type": "execute_result"
    }
   ],
   "source": [
    "qcf.get_column_names('SimpleCashflow')"
   ]
  },
  {
   "cell_type": "markdown",
   "metadata": {},
   "source": [
    "Con ella podemos, por ejemplo, estructurar aún más el output de `show` utilizando un `pandas.DataFrame`."
   ]
  },
  {
   "cell_type": "code",
   "execution_count": 9,
   "metadata": {
    "execution": {
     "iopub.execute_input": "2024-06-08T12:16:03.072885Z",
     "iopub.status.busy": "2024-06-08T12:16:03.072643Z",
     "iopub.status.idle": "2024-06-08T12:16:03.154254Z",
     "shell.execute_reply": "2024-06-08T12:16:03.153613Z",
     "shell.execute_reply.started": "2024-06-08T12:16:03.072865Z"
    }
   },
   "outputs": [
    {
     "data": {
      "text/html": [
       "<style type=\"text/css\">\n",
       "</style>\n",
       "<table id=\"T_5684d\">\n",
       "  <thead>\n",
       "    <tr>\n",
       "      <th class=\"blank level0\" >&nbsp;</th>\n",
       "      <th id=\"T_5684d_level0_col0\" class=\"col_heading level0 col0\" >fecha_pago</th>\n",
       "      <th id=\"T_5684d_level0_col1\" class=\"col_heading level0 col1\" >monto</th>\n",
       "      <th id=\"T_5684d_level0_col2\" class=\"col_heading level0 col2\" >moneda</th>\n",
       "    </tr>\n",
       "  </thead>\n",
       "  <tbody>\n",
       "    <tr>\n",
       "      <th id=\"T_5684d_level0_row0\" class=\"row_heading level0 row0\" >0</th>\n",
       "      <td id=\"T_5684d_row0_col0\" class=\"data row0 col0\" >2024-05-24</td>\n",
       "      <td id=\"T_5684d_row0_col1\" class=\"data row0 col1\" >1,000,000</td>\n",
       "      <td id=\"T_5684d_row0_col2\" class=\"data row0 col2\" >CLP</td>\n",
       "    </tr>\n",
       "  </tbody>\n",
       "</table>\n"
      ],
      "text/plain": [
       "<pandas.io.formats.style.Styler at 0x124d37610>"
      ]
     },
     "execution_count": 9,
     "metadata": {},
     "output_type": "execute_result"
    }
   ],
   "source": [
    "df = pd.DataFrame([qcf.show(simple_cashflow)])\n",
    "df.columns = list(qcf.get_column_names('SimpleCashflow'))\n",
    "df.style.format({'monto':'{:,.0f}'})"
   ]
  },
  {
   "cell_type": "markdown",
   "metadata": {},
   "source": [
    "## Simple Multicurrency Cashflow"
   ]
  },
  {
   "cell_type": "markdown",
   "metadata": {},
   "source": [
    "Un objeto de tipo `SimpleMultiCurrencyCashflow` representa un flujo de caja cierto en una fecha y moneda, el cual, sin embargo, se liquidará en una segunda moneda utilizando el valor de un índice de tipo de cambio. Para dar de alta uno de estos objetos se requiere:\n",
    "\n",
    "- `QCDate`: fecha final\n",
    "- `float`: nominal\n",
    "- `QCCurrency`: la moneda del nominal\n",
    "- `QCDate`: la fecha de publicación del `FXRateIndex` que se usará en la conversión\n",
    "- `QCCurrency`: la moneda final del flujo\n",
    "- `FXRateIndex`: el índice de tipo de cambio a utilizar\n",
    "- `float`: el valor del índice de tipo de cambio"
   ]
  },
  {
   "cell_type": "markdown",
   "metadata": {},
   "source": [
    "### Ejemplo 1"
   ]
  },
  {
   "cell_type": "markdown",
   "metadata": {},
   "source": [
    "Se da de alta los objetos que el constructor necesita."
   ]
  },
  {
   "cell_type": "code",
   "execution_count": 10,
   "metadata": {
    "ExecuteTime": {
     "end_time": "2022-01-21T13:43:02.557623Z",
     "start_time": "2022-01-21T13:43:02.542664Z"
    },
    "execution": {
     "iopub.execute_input": "2024-06-08T12:16:03.155748Z",
     "iopub.status.busy": "2024-06-08T12:16:03.155146Z",
     "iopub.status.idle": "2024-06-08T12:16:03.159470Z",
     "shell.execute_reply": "2024-06-08T12:16:03.158737Z",
     "shell.execute_reply.started": "2024-06-08T12:16:03.155724Z"
    }
   },
   "outputs": [],
   "source": [
    "usd = qcf.QCUSD()\n",
    "usdclp = qcf.FXRate(usd, clp)\n",
    "_1d = qcf.Tenor('1D')\n",
    "scl = qcf.BusinessCalendar(qcf.QCDate(1, 2, 2024), 10)\n",
    "usdclp_obs = qcf.FXRateIndex(usdclp, \"USDOBS\", _1d, _1d, scl)\n",
    "fx_rate_value = 900.0"
   ]
  },
  {
   "cell_type": "markdown",
   "metadata": {},
   "source": [
    "Se da de alta el cashflow."
   ]
  },
  {
   "cell_type": "code",
   "execution_count": 11,
   "metadata": {
    "execution": {
     "iopub.execute_input": "2024-06-08T12:16:03.161063Z",
     "iopub.status.busy": "2024-06-08T12:16:03.160630Z",
     "iopub.status.idle": "2024-06-08T12:16:03.164360Z",
     "shell.execute_reply": "2024-06-08T12:16:03.163747Z",
     "shell.execute_reply.started": "2024-06-08T12:16:03.161040Z"
    }
   },
   "outputs": [],
   "source": [
    "simple_mccy_cashflow = qcf.SimpleMultiCurrencyCashflow(\n",
    "    fecha1, \n",
    "    monto, \n",
    "    clp, \n",
    "    fecha1, \n",
    "    usd, \n",
    "    usdclp_obs, \n",
    "    fx_rate_value\n",
    ")"
   ]
  },
  {
   "cell_type": "markdown",
   "metadata": {},
   "source": [
    "Este objeto hereda de `SimpleCashflow` y por lo tanto, los métodos `amount`, `date` y `ccy` siguen disponibles."
   ]
  },
  {
   "cell_type": "code",
   "execution_count": 12,
   "metadata": {
    "execution": {
     "iopub.execute_input": "2024-06-08T12:16:03.165842Z",
     "iopub.status.busy": "2024-06-08T12:16:03.165560Z",
     "iopub.status.idle": "2024-06-08T12:16:03.169513Z",
     "shell.execute_reply": "2024-06-08T12:16:03.168840Z",
     "shell.execute_reply.started": "2024-06-08T12:16:03.165817Z"
    }
   },
   "outputs": [
    {
     "name": "stdout",
     "output_type": "stream",
     "text": [
      "Monto: 1,000,000.00\n",
      "Fecha: 2024-05-24\n",
      "Moneda: CLP\n"
     ]
    }
   ],
   "source": [
    "print(f\"Monto: {simple_mccy_cashflow.amount():,.2f}\")\n",
    "print(f\"Fecha: {simple_mccy_cashflow.date()}\")\n",
    "print(f\"Moneda: {simple_mccy_cashflow.ccy().get_iso_code()}\")"
   ]
  },
  {
   "cell_type": "markdown",
   "metadata": {},
   "source": [
    "Para obtener el monto en la moneda de pago y la moneda de pago están los métodos `settlement_amount` y `settlement_ccy`."
   ]
  },
  {
   "cell_type": "code",
   "execution_count": 13,
   "metadata": {
    "execution": {
     "iopub.execute_input": "2024-06-08T12:16:03.170897Z",
     "iopub.status.busy": "2024-06-08T12:16:03.170608Z",
     "iopub.status.idle": "2024-06-08T12:16:03.174489Z",
     "shell.execute_reply": "2024-06-08T12:16:03.173804Z",
     "shell.execute_reply.started": "2024-06-08T12:16:03.170874Z"
    }
   },
   "outputs": [
    {
     "name": "stdout",
     "output_type": "stream",
     "text": [
      "Monto de pago: 1,111\n",
      "Moneda de pago: USD\n"
     ]
    }
   ],
   "source": [
    "print(f\"Monto de pago: {simple_mccy_cashflow.settlement_amount():,.0f}\")\n",
    "print(f\"Moneda de pago: {simple_mccy_cashflow.settlement_ccy().get_iso_code()}\")"
   ]
  },
  {
   "cell_type": "markdown",
   "metadata": {},
   "source": [
    "El valor del índice de tipo de cambio se puede alterar con el método `set_fx_rate_index_value`."
   ]
  },
  {
   "cell_type": "code",
   "execution_count": 14,
   "metadata": {
    "ExecuteTime": {
     "end_time": "2022-01-21T13:43:02.573581Z",
     "start_time": "2022-01-21T13:43:02.558621Z"
    },
    "execution": {
     "iopub.execute_input": "2024-06-08T12:16:03.175851Z",
     "iopub.status.busy": "2024-06-08T12:16:03.175526Z",
     "iopub.status.idle": "2024-06-08T12:16:03.179238Z",
     "shell.execute_reply": "2024-06-08T12:16:03.178691Z",
     "shell.execute_reply.started": "2024-06-08T12:16:03.175828Z"
    }
   },
   "outputs": [
    {
     "name": "stdout",
     "output_type": "stream",
     "text": [
      "Flujo: 1,250.00 USD\n"
     ]
    }
   ],
   "source": [
    "simple_mccy_cashflow.set_fx_rate_index_value(800.00)\n",
    "print(f\"Flujo: {simple_mccy_cashflow.settlement_amount():,.2f} {simple_mccy_cashflow.settlement_ccy().get_iso_code()}\")"
   ]
  },
  {
   "cell_type": "markdown",
   "metadata": {},
   "source": [
    "### Ejemplo 2"
   ]
  },
  {
   "cell_type": "markdown",
   "metadata": {},
   "source": [
    "Aquí, las monedas están invertidas respecto al caso anterior. El valor del índice se usa de la forma correcta."
   ]
  },
  {
   "cell_type": "code",
   "execution_count": 15,
   "metadata": {
    "ExecuteTime": {
     "end_time": "2022-01-21T13:43:02.588541Z",
     "start_time": "2022-01-21T13:43:02.574578Z"
    },
    "execution": {
     "iopub.execute_input": "2024-06-08T12:16:03.180505Z",
     "iopub.status.busy": "2024-06-08T12:16:03.180290Z",
     "iopub.status.idle": "2024-06-08T12:16:03.183882Z",
     "shell.execute_reply": "2024-06-08T12:16:03.183104Z",
     "shell.execute_reply.started": "2024-06-08T12:16:03.180486Z"
    }
   },
   "outputs": [],
   "source": [
    "simple_mccy_cashflow = qcf.SimpleMultiCurrencyCashflow(\n",
    "    fecha1, \n",
    "    1_000_000, \n",
    "    usd, fecha1, \n",
    "    clp, \n",
    "    usdclp_obs, \n",
    "    fx_rate_value,\n",
    ")"
   ]
  },
  {
   "cell_type": "markdown",
   "metadata": {},
   "source": [
    "Se repite los cálculos del ejemplo anterior."
   ]
  },
  {
   "cell_type": "code",
   "execution_count": 16,
   "metadata": {
    "execution": {
     "iopub.execute_input": "2024-06-08T12:16:03.185086Z",
     "iopub.status.busy": "2024-06-08T12:16:03.184849Z",
     "iopub.status.idle": "2024-06-08T12:16:03.189092Z",
     "shell.execute_reply": "2024-06-08T12:16:03.188477Z",
     "shell.execute_reply.started": "2024-06-08T12:16:03.185065Z"
    }
   },
   "outputs": [
    {
     "name": "stdout",
     "output_type": "stream",
     "text": [
      "Fecha: 2024-05-24\n",
      "Nominal: 1,000,000.00\n",
      "Moneda nominal: USD\n",
      "Flujo: 900,000,000\n",
      "Moneda flujo: CLP\n"
     ]
    }
   ],
   "source": [
    "print(f\"Fecha: {simple_mccy_cashflow.date()}\")\n",
    "print(f\"Nominal: {simple_mccy_cashflow.nominal():,.2f}\")\n",
    "print(f\"Moneda nominal: {simple_mccy_cashflow.ccy().get_iso_code()}\")\n",
    "print(f\"Flujo: {simple_mccy_cashflow.settlement_amount():,.0f}\")\n",
    "print(f\"Moneda flujo: {simple_mccy_cashflow.settlement_ccy().get_iso_code()}\")"
   ]
  },
  {
   "cell_type": "markdown",
   "metadata": {},
   "source": [
    "### Ejemplo 3"
   ]
  },
  {
   "cell_type": "markdown",
   "metadata": {},
   "source": [
    "En este caso, hay inconsistencia entre las monedas y el tipo de cambio del índice y vemos que se produce un error."
   ]
  },
  {
   "cell_type": "code",
   "execution_count": 17,
   "metadata": {
    "ExecuteTime": {
     "end_time": "2022-01-21T13:43:02.604498Z",
     "start_time": "2022-01-21T13:43:02.590536Z"
    },
    "execution": {
     "iopub.execute_input": "2024-06-08T12:16:03.190369Z",
     "iopub.status.busy": "2024-06-08T12:16:03.190106Z",
     "iopub.status.idle": "2024-06-08T12:16:03.194543Z",
     "shell.execute_reply": "2024-06-08T12:16:03.194016Z",
     "shell.execute_reply.started": "2024-06-08T12:16:03.190349Z"
    }
   },
   "outputs": [
    {
     "name": "stdout",
     "output_type": "stream",
     "text": [
      "Error: Fx Rate Index provided is not compatible with nominal and settlement currency. \n"
     ]
    }
   ],
   "source": [
    "eur = qcf.QCEUR()\n",
    "try:\n",
    "    simple_mccy_cashflow = qcf.SimpleMultiCurrencyCashflow(\n",
    "        fecha1,\n",
    "        1_000_000,\n",
    "        usd, \n",
    "        fecha1,\n",
    "        eur,\n",
    "        usdclp_obs,\n",
    "        fx_rate_value,\n",
    "    )\n",
    "except ValueError as e:\n",
    "    print(\"Error:\", e)"
   ]
  },
  {
   "cell_type": "markdown",
   "metadata": {},
   "source": [
    "### Funciones `show` y `get_columns`"
   ]
  },
  {
   "cell_type": "code",
   "execution_count": 18,
   "metadata": {
    "ExecuteTime": {
     "end_time": "2022-01-21T13:43:02.619460Z",
     "start_time": "2022-01-21T13:43:02.605495Z"
    },
    "execution": {
     "iopub.execute_input": "2024-06-08T12:16:03.195742Z",
     "iopub.status.busy": "2024-06-08T12:16:03.195454Z",
     "iopub.status.idle": "2024-06-08T12:16:03.199763Z",
     "shell.execute_reply": "2024-06-08T12:16:03.199151Z",
     "shell.execute_reply.started": "2024-06-08T12:16:03.195723Z"
    }
   },
   "outputs": [
    {
     "data": {
      "text/plain": [
       "('2024-05-24',\n",
       " 1000000.0,\n",
       " 'USD',\n",
       " '2024-05-24',\n",
       " 'CLP',\n",
       " 'USDOBS',\n",
       " 900.0,\n",
       " 1000000.0)"
      ]
     },
     "execution_count": 18,
     "metadata": {},
     "output_type": "execute_result"
    }
   ],
   "source": [
    "qcf.show(simple_mccy_cashflow)"
   ]
  },
  {
   "cell_type": "code",
   "execution_count": 19,
   "metadata": {
    "execution": {
     "iopub.execute_input": "2024-06-08T12:16:03.201011Z",
     "iopub.status.busy": "2024-06-08T12:16:03.200774Z",
     "iopub.status.idle": "2024-06-08T12:16:03.204626Z",
     "shell.execute_reply": "2024-06-08T12:16:03.204080Z",
     "shell.execute_reply.started": "2024-06-08T12:16:03.200992Z"
    }
   },
   "outputs": [
    {
     "data": {
      "text/plain": [
       "('fecha_pago',\n",
       " 'monto_nominal',\n",
       " 'moneda_nominal',\n",
       " 'fecha_fixing',\n",
       " 'moneda_pago',\n",
       " 'codigo_indice_fx',\n",
       " 'valor_indice_fx',\n",
       " 'monto_moneda_pago')"
      ]
     },
     "execution_count": 19,
     "metadata": {},
     "output_type": "execute_result"
    }
   ],
   "source": [
    "qcf.get_column_names('SimpleMultiCurrencyCashflow')"
   ]
  },
  {
   "cell_type": "markdown",
   "metadata": {},
   "source": [
    "Con ella podemos, por ejemplo, estructurar aún más el output de `show` utilizando un `pandas.DataFrame`."
   ]
  },
  {
   "cell_type": "code",
   "execution_count": 20,
   "metadata": {
    "execution": {
     "iopub.execute_input": "2024-06-08T12:16:03.205817Z",
     "iopub.status.busy": "2024-06-08T12:16:03.205586Z",
     "iopub.status.idle": "2024-06-08T12:16:03.213096Z",
     "shell.execute_reply": "2024-06-08T12:16:03.212553Z",
     "shell.execute_reply.started": "2024-06-08T12:16:03.205798Z"
    }
   },
   "outputs": [
    {
     "data": {
      "text/html": [
       "<style type=\"text/css\">\n",
       "</style>\n",
       "<table id=\"T_e4eb0\">\n",
       "  <thead>\n",
       "    <tr>\n",
       "      <th class=\"blank level0\" >&nbsp;</th>\n",
       "      <th id=\"T_e4eb0_level0_col0\" class=\"col_heading level0 col0\" >fecha_pago</th>\n",
       "      <th id=\"T_e4eb0_level0_col1\" class=\"col_heading level0 col1\" >monto_nominal</th>\n",
       "      <th id=\"T_e4eb0_level0_col2\" class=\"col_heading level0 col2\" >moneda_nominal</th>\n",
       "      <th id=\"T_e4eb0_level0_col3\" class=\"col_heading level0 col3\" >fecha_fixing</th>\n",
       "      <th id=\"T_e4eb0_level0_col4\" class=\"col_heading level0 col4\" >moneda_pago</th>\n",
       "      <th id=\"T_e4eb0_level0_col5\" class=\"col_heading level0 col5\" >codigo_indice_fx</th>\n",
       "      <th id=\"T_e4eb0_level0_col6\" class=\"col_heading level0 col6\" >valor_indice_fx</th>\n",
       "      <th id=\"T_e4eb0_level0_col7\" class=\"col_heading level0 col7\" >monto_moneda_pago</th>\n",
       "    </tr>\n",
       "  </thead>\n",
       "  <tbody>\n",
       "    <tr>\n",
       "      <th id=\"T_e4eb0_level0_row0\" class=\"row_heading level0 row0\" >0</th>\n",
       "      <td id=\"T_e4eb0_row0_col0\" class=\"data row0 col0\" >2024-05-24</td>\n",
       "      <td id=\"T_e4eb0_row0_col1\" class=\"data row0 col1\" >1,000,000</td>\n",
       "      <td id=\"T_e4eb0_row0_col2\" class=\"data row0 col2\" >USD</td>\n",
       "      <td id=\"T_e4eb0_row0_col3\" class=\"data row0 col3\" >2024-05-24</td>\n",
       "      <td id=\"T_e4eb0_row0_col4\" class=\"data row0 col4\" >CLP</td>\n",
       "      <td id=\"T_e4eb0_row0_col5\" class=\"data row0 col5\" >USDOBS</td>\n",
       "      <td id=\"T_e4eb0_row0_col6\" class=\"data row0 col6\" >900.00</td>\n",
       "      <td id=\"T_e4eb0_row0_col7\" class=\"data row0 col7\" >1,000,000</td>\n",
       "    </tr>\n",
       "  </tbody>\n",
       "</table>\n"
      ],
      "text/plain": [
       "<pandas.io.formats.style.Styler at 0x125480c50>"
      ]
     },
     "execution_count": 20,
     "metadata": {},
     "output_type": "execute_result"
    }
   ],
   "source": [
    "df = pd.DataFrame([qcf.show(simple_mccy_cashflow)])\n",
    "df.columns = list(qcf.get_column_names('SimpleMultiCurrencyCashflow'))\n",
    "df.style.format({\n",
    "    'monto_nominal':'{:,.0f}',\n",
    "    'monto_moneda_pago':'{:,.0f}',\n",
    "    'valor_indice_fx':'{:,.2f}'\n",
    "})"
   ]
  },
  {
   "cell_type": "markdown",
   "metadata": {},
   "source": [
    "## Fixed Rate Cashflow"
   ]
  },
  {
   "cell_type": "markdown",
   "metadata": {},
   "source": [
    "Un objeto de tipo `FixedRateCashflow` representa un flujo de caja calculado a partir de la aplicación de una tasa prefijada, entre dos fechas prefijadas a un nominal prefijado. Para dar de alta uno de estos objetos se requiere:\n",
    "\n",
    "- `QCDate`: fecha inicio (para la aplicación de la tasa)\n",
    "- `QCDate`: fecha final (para la aplicación de la tasa)\n",
    "- `QCDate`: fecha de pago\n",
    "- `float`: nominal (monto al que se le aplica la tasa)\n",
    "- `float`: amortización (eventual flujo de caja que corresponde a una porción del nominal)\n",
    "- `bool`: indica si la amortización anterior es un flujo de caja o sólo una disminución de nominal\n",
    "- `QCInterestRate`: la tasa de interés a aplicar (su valor y convenciones)\n",
    "- `QCCurrency`: moneda del nominal y del flujo de caja"
   ]
  },
  {
   "cell_type": "markdown",
   "metadata": {},
   "source": [
    "### Construcción"
   ]
  },
  {
   "cell_type": "markdown",
   "metadata": {},
   "source": [
    "Se define los parámetros requeridos."
   ]
  },
  {
   "cell_type": "code",
   "execution_count": 21,
   "metadata": {
    "ExecuteTime": {
     "end_time": "2022-01-21T13:43:02.635039Z",
     "start_time": "2022-01-21T13:43:02.621077Z"
    },
    "execution": {
     "iopub.execute_input": "2024-06-08T12:16:03.213919Z",
     "iopub.status.busy": "2024-06-08T12:16:03.213752Z",
     "iopub.status.idle": "2024-06-08T12:16:03.217972Z",
     "shell.execute_reply": "2024-06-08T12:16:03.217235Z",
     "shell.execute_reply.started": "2024-06-08T12:16:03.213901Z"
    }
   },
   "outputs": [],
   "source": [
    "fecha_inicio = qcf.QCDate(20, 5, 2024)\n",
    "fecha_final = qcf.QCDate(20, 5, 2025)\n",
    "fecha_pago = qcf.QCDate(22, 5, 2025)\n",
    "valor_tasa_fija = .1\n",
    "nominal = 1_000_000_000.0\n",
    "amortizacion = 100_000_000.0\n",
    "act360 = qcf.QCAct360()\n",
    "lin_wf = qcf.QCLinearWf()\n",
    "tasa = qcf.QCInterestRate(valor_tasa_fija, act360, lin_wf)\n",
    "amort_is_cashflow = True"
   ]
  },
  {
   "cell_type": "markdown",
   "metadata": {},
   "source": [
    "Se instancia el cashflow."
   ]
  },
  {
   "cell_type": "code",
   "execution_count": 22,
   "metadata": {
    "execution": {
     "iopub.execute_input": "2024-06-08T12:16:03.225528Z",
     "iopub.status.busy": "2024-06-08T12:16:03.225296Z",
     "iopub.status.idle": "2024-06-08T12:16:03.228748Z",
     "shell.execute_reply": "2024-06-08T12:16:03.228029Z",
     "shell.execute_reply.started": "2024-06-08T12:16:03.225507Z"
    }
   },
   "outputs": [],
   "source": [
    "fixed_rate_cashflow = qcf.FixedRateCashflow(\n",
    "    fecha_inicio, \n",
    "    fecha_final, \n",
    "    fecha_pago, \n",
    "    nominal, \n",
    "    amortizacion, \n",
    "    amort_is_cashflow, \n",
    "    tasa, \n",
    "    clp,\n",
    ")"
   ]
  },
  {
   "cell_type": "markdown",
   "metadata": {},
   "source": [
    "### Getters"
   ]
  },
  {
   "cell_type": "code",
   "execution_count": 23,
   "metadata": {
    "ExecuteTime": {
     "end_time": "2022-01-21T13:43:02.650997Z",
     "start_time": "2022-01-21T13:43:02.637034Z"
    },
    "execution": {
     "iopub.execute_input": "2024-06-08T12:16:03.229614Z",
     "iopub.status.busy": "2024-06-08T12:16:03.229432Z",
     "iopub.status.idle": "2024-06-08T12:16:03.234439Z",
     "shell.execute_reply": "2024-06-08T12:16:03.233817Z",
     "shell.execute_reply.started": "2024-06-08T12:16:03.229596Z"
    }
   },
   "outputs": [
    {
     "name": "stdout",
     "output_type": "stream",
     "text": [
      "Tipo de flujo: FixedRateCashflow\n",
      "Fecha Inicio: 2024-05-20\n",
      "Fecha Final: 2025-05-20\n",
      "Fecha Pago: 2025-05-22\n",
      "Moneda: CLP\n",
      "Nominal: 1,000,000,000\n",
      "Amortización: 100,000,000\n",
      "Tasa de interés: 10.00%\n"
     ]
    }
   ],
   "source": [
    "print(f\"Tipo de flujo: {fixed_rate_cashflow.get_type()}\")\n",
    "print(f\"Fecha Inicio: {fixed_rate_cashflow.get_start_date()}\")\n",
    "print(f\"Fecha Final: {fixed_rate_cashflow.get_end_date()}\")\n",
    "print(f\"Fecha Pago: {fixed_rate_cashflow.get_settlement_date()}\")\n",
    "print(f\"Moneda: {fixed_rate_cashflow.ccy().get_iso_code()}\")\n",
    "print(f\"Nominal: {fixed_rate_cashflow.get_nominal():,.0f}\")\n",
    "print(f\"Amortización: {fixed_rate_cashflow.get_amortization():,.0f}\")\n",
    "\n",
    "# Aquí además se usa un getter de QCInterestRate\n",
    "print(f\"Tasa de interés: {fixed_rate_cashflow.get_rate().get_value():.2%}\")"
   ]
  },
  {
   "cell_type": "markdown",
   "metadata": {},
   "source": [
    "### Setters"
   ]
  },
  {
   "cell_type": "markdown",
   "metadata": {},
   "source": [
    "Cambiar el nominal."
   ]
  },
  {
   "cell_type": "code",
   "execution_count": 24,
   "metadata": {
    "ExecuteTime": {
     "end_time": "2022-01-21T13:43:02.666955Z",
     "start_time": "2022-01-21T13:43:02.652992Z"
    },
    "execution": {
     "iopub.execute_input": "2024-06-08T12:16:03.235285Z",
     "iopub.status.busy": "2024-06-08T12:16:03.235120Z",
     "iopub.status.idle": "2024-06-08T12:16:03.238662Z",
     "shell.execute_reply": "2024-06-08T12:16:03.237947Z",
     "shell.execute_reply.started": "2024-06-08T12:16:03.235268Z"
    }
   },
   "outputs": [
    {
     "name": "stdout",
     "output_type": "stream",
     "text": [
      "Nuevo nominal: 2,000,000,000\n"
     ]
    }
   ],
   "source": [
    "nuevo_nominal = 2_000_000_000.0\n",
    "fixed_rate_cashflow.set_nominal(nuevo_nominal)\n",
    "print(f\"Nuevo nominal: {fixed_rate_cashflow.get_nominal():,.0f}\")"
   ]
  },
  {
   "cell_type": "markdown",
   "metadata": {},
   "source": [
    "Cambiar la amortización."
   ]
  },
  {
   "cell_type": "code",
   "execution_count": 25,
   "metadata": {
    "execution": {
     "iopub.execute_input": "2024-06-08T12:16:03.240057Z",
     "iopub.status.busy": "2024-06-08T12:16:03.239701Z",
     "iopub.status.idle": "2024-06-08T12:16:03.243657Z",
     "shell.execute_reply": "2024-06-08T12:16:03.243034Z",
     "shell.execute_reply.started": "2024-06-08T12:16:03.240036Z"
    }
   },
   "outputs": [
    {
     "name": "stdout",
     "output_type": "stream",
     "text": [
      "Nueva amortización: 200,000,000\n"
     ]
    }
   ],
   "source": [
    "nueva_amortizacion = 200_000_000.0\n",
    "fixed_rate_cashflow.set_amortization(nueva_amortizacion)\n",
    "print(f\"Nueva amortización: {fixed_rate_cashflow.get_amortization():,.0f}\")"
   ]
  },
  {
   "cell_type": "markdown",
   "metadata": {},
   "source": [
    "Cambiar el valor de la tasa."
   ]
  },
  {
   "cell_type": "code",
   "execution_count": 26,
   "metadata": {
    "execution": {
     "iopub.execute_input": "2024-06-08T12:16:03.244873Z",
     "iopub.status.busy": "2024-06-08T12:16:03.244566Z",
     "iopub.status.idle": "2024-06-08T12:16:03.248338Z",
     "shell.execute_reply": "2024-06-08T12:16:03.247719Z",
     "shell.execute_reply.started": "2024-06-08T12:16:03.244848Z"
    }
   },
   "outputs": [
    {
     "name": "stdout",
     "output_type": "stream",
     "text": [
      "Nuevo valor de la tasa: 12.00%\n"
     ]
    }
   ],
   "source": [
    "fixed_rate_cashflow.set_rate_value(new_rate_value:=.12)\n",
    "print(f\"Nuevo valor de la tasa: {fixed_rate_cashflow.get_rate().get_value():.2%}\")"
   ]
  },
  {
   "cell_type": "markdown",
   "metadata": {},
   "source": [
    "### Cálculos"
   ]
  },
  {
   "cell_type": "markdown",
   "metadata": {},
   "source": [
    "Se devuelve el valor de la tasa fija al original."
   ]
  },
  {
   "cell_type": "code",
   "execution_count": 27,
   "metadata": {
    "execution": {
     "iopub.execute_input": "2024-06-08T12:16:03.249633Z",
     "iopub.status.busy": "2024-06-08T12:16:03.249366Z",
     "iopub.status.idle": "2024-06-08T12:16:03.252664Z",
     "shell.execute_reply": "2024-06-08T12:16:03.252120Z",
     "shell.execute_reply.started": "2024-06-08T12:16:03.249611Z"
    }
   },
   "outputs": [],
   "source": [
    "fixed_rate_cashflow.set_rate_value(valor_tasa_fija)"
   ]
  },
  {
   "cell_type": "markdown",
   "metadata": {},
   "source": [
    "Método `amount`."
   ]
  },
  {
   "cell_type": "code",
   "execution_count": 28,
   "metadata": {
    "execution": {
     "iopub.execute_input": "2024-06-08T12:16:03.253741Z",
     "iopub.status.busy": "2024-06-08T12:16:03.253538Z",
     "iopub.status.idle": "2024-06-08T12:16:03.256920Z",
     "shell.execute_reply": "2024-06-08T12:16:03.256243Z",
     "shell.execute_reply.started": "2024-06-08T12:16:03.253724Z"
    }
   },
   "outputs": [
    {
     "name": "stdout",
     "output_type": "stream",
     "text": [
      "Flujo Total: 402,777,778\n"
     ]
    }
   ],
   "source": [
    "print(f\"Flujo Total: {fixed_rate_cashflow.amount():,.0f}\")"
   ]
  },
  {
   "cell_type": "markdown",
   "metadata": {},
   "source": [
    "Vemos que el flujo incluye los intereses y la amortización (`amort_is_cashflow = True`). Podemos verificar a mano este resultado."
   ]
  },
  {
   "cell_type": "code",
   "execution_count": 29,
   "metadata": {
    "ExecuteTime": {
     "end_time": "2022-01-21T13:43:02.681915Z",
     "start_time": "2022-01-21T13:43:02.667952Z"
    },
    "execution": {
     "iopub.execute_input": "2024-06-08T12:16:03.257902Z",
     "iopub.status.busy": "2024-06-08T12:16:03.257704Z",
     "iopub.status.idle": "2024-06-08T12:16:03.261098Z",
     "shell.execute_reply": "2024-06-08T12:16:03.260625Z",
     "shell.execute_reply.started": "2024-06-08T12:16:03.257885Z"
    }
   },
   "outputs": [
    {
     "name": "stdout",
     "output_type": "stream",
     "text": [
      "Días de devengo: 365\n",
      "Check: 402,777,778\n"
     ]
    }
   ],
   "source": [
    "dias_devengo = fecha_inicio.day_diff(fecha_final)\n",
    "print(f\"Días de devengo: {dias_devengo}\")\n",
    "print(f\"Check: {fixed_rate_cashflow.get_nominal() * valor_tasa_fija * dias_devengo / 360 + fixed_rate_cashflow.get_amortization():,.0f}\")"
   ]
  },
  {
   "cell_type": "markdown",
   "metadata": {},
   "source": [
    "Método `accrued_interest`. Calcula el interés devengado a una cierta fecha."
   ]
  },
  {
   "cell_type": "code",
   "execution_count": 30,
   "metadata": {
    "execution": {
     "iopub.execute_input": "2024-06-08T12:16:03.262166Z",
     "iopub.status.busy": "2024-06-08T12:16:03.261973Z",
     "iopub.status.idle": "2024-06-08T12:16:03.265654Z",
     "shell.execute_reply": "2024-06-08T12:16:03.265123Z",
     "shell.execute_reply.started": "2024-06-08T12:16:03.262148Z"
    }
   },
   "outputs": [
    {
     "name": "stdout",
     "output_type": "stream",
     "text": [
      "Interés Devengado: 133,333,333\n",
      "Días de devengo: 240\n",
      "Check: 133,333,333\n"
     ]
    }
   ],
   "source": [
    "fecha_intermedia = qcf.QCDate(15, 1, 2025)\n",
    "print(f\"Interés Devengado: {fixed_rate_cashflow.accrued_interest(fecha_intermedia):,.0f}\")\n",
    "dias_devengo = fecha_inicio.day_diff(fecha_intermedia)\n",
    "print(f\"Días de devengo: {dias_devengo}\")\n",
    "print(f\"Check: {fixed_rate_cashflow.get_nominal() * valor_tasa_fija * dias_devengo / 360.0:,.0f}\")"
   ]
  },
  {
   "cell_type": "markdown",
   "metadata": {},
   "source": [
    "### Función `show`"
   ]
  },
  {
   "cell_type": "code",
   "execution_count": 31,
   "metadata": {
    "ExecuteTime": {
     "end_time": "2022-01-21T13:43:02.696875Z",
     "start_time": "2022-01-21T13:43:02.682912Z"
    },
    "execution": {
     "iopub.execute_input": "2024-06-08T12:16:03.266833Z",
     "iopub.status.busy": "2024-06-08T12:16:03.266605Z",
     "iopub.status.idle": "2024-06-08T12:16:03.269891Z",
     "shell.execute_reply": "2024-06-08T12:16:03.269321Z",
     "shell.execute_reply.started": "2024-06-08T12:16:03.266815Z"
    }
   },
   "outputs": [
    {
     "name": "stdout",
     "output_type": "stream",
     "text": [
      "('2024-05-20', '2025-05-20', '2025-05-22', 2000000000.0, 200000000.0, 202777777.77777794, True, 402777777.7777779, 'CLP', 0.1, 'LinAct360')\n"
     ]
    }
   ],
   "source": [
    "print(qcf.show(fixed_rate_cashflow))"
   ]
  },
  {
   "cell_type": "code",
   "execution_count": 32,
   "metadata": {
    "ExecuteTime": {
     "end_time": "2022-01-21T13:43:02.712832Z",
     "start_time": "2022-01-21T13:43:02.698869Z"
    },
    "execution": {
     "iopub.execute_input": "2024-06-08T12:16:03.271019Z",
     "iopub.status.busy": "2024-06-08T12:16:03.270811Z",
     "iopub.status.idle": "2024-06-08T12:16:03.274008Z",
     "shell.execute_reply": "2024-06-08T12:16:03.273496Z",
     "shell.execute_reply.started": "2024-06-08T12:16:03.271000Z"
    }
   },
   "outputs": [
    {
     "name": "stdout",
     "output_type": "stream",
     "text": [
      "Interés total: al 202,777,778\n"
     ]
    }
   ],
   "source": [
    "print(f\"Interés total: al {fixed_rate_cashflow.accrued_interest(fixed_rate_cashflow.get_end_date()):,.0f}\")"
   ]
  },
  {
   "cell_type": "markdown",
   "metadata": {
    "execution": {
     "iopub.execute_input": "2024-05-26T12:29:34.116825Z",
     "iopub.status.busy": "2024-05-26T12:29:34.116598Z",
     "iopub.status.idle": "2024-05-26T12:29:34.120346Z",
     "shell.execute_reply": "2024-05-26T12:29:34.119854Z",
     "shell.execute_reply.started": "2024-05-26T12:29:34.116806Z"
    }
   },
   "source": [
    "### Función `get_column_names`"
   ]
  },
  {
   "cell_type": "code",
   "execution_count": 33,
   "metadata": {
    "execution": {
     "iopub.execute_input": "2024-06-08T12:16:03.275009Z",
     "iopub.status.busy": "2024-06-08T12:16:03.274838Z",
     "iopub.status.idle": "2024-06-08T12:16:03.278865Z",
     "shell.execute_reply": "2024-06-08T12:16:03.278368Z",
     "shell.execute_reply.started": "2024-06-08T12:16:03.274991Z"
    }
   },
   "outputs": [
    {
     "data": {
      "text/plain": [
       "('fecha_inicial',\n",
       " 'fecha_final',\n",
       " 'fecha_pago',\n",
       " 'nominal',\n",
       " 'amortizacion',\n",
       " 'interes',\n",
       " 'amort_es_flujo',\n",
       " 'flujo',\n",
       " 'moneda',\n",
       " 'valor_tasa',\n",
       " 'tipo_tasa')"
      ]
     },
     "execution_count": 33,
     "metadata": {},
     "output_type": "execute_result"
    }
   ],
   "source": [
    "qcf.get_column_names(fixed_rate_cashflow.get_type())"
   ]
  },
  {
   "cell_type": "markdown",
   "metadata": {},
   "source": [
    "Juntando las últimas dos funciones se obtiene una representación tabular del flujo usando `pandas.DataFrame`."
   ]
  },
  {
   "cell_type": "code",
   "execution_count": 34,
   "metadata": {
    "execution": {
     "iopub.execute_input": "2024-06-08T12:16:03.279867Z",
     "iopub.status.busy": "2024-06-08T12:16:03.279704Z",
     "iopub.status.idle": "2024-06-08T12:16:03.287711Z",
     "shell.execute_reply": "2024-06-08T12:16:03.287210Z",
     "shell.execute_reply.started": "2024-06-08T12:16:03.279849Z"
    }
   },
   "outputs": [
    {
     "data": {
      "text/html": [
       "<style type=\"text/css\">\n",
       "</style>\n",
       "<table id=\"T_af3ad\">\n",
       "  <thead>\n",
       "    <tr>\n",
       "      <th class=\"blank level0\" >&nbsp;</th>\n",
       "      <th id=\"T_af3ad_level0_col0\" class=\"col_heading level0 col0\" >fecha_inicial</th>\n",
       "      <th id=\"T_af3ad_level0_col1\" class=\"col_heading level0 col1\" >fecha_final</th>\n",
       "      <th id=\"T_af3ad_level0_col2\" class=\"col_heading level0 col2\" >fecha_pago</th>\n",
       "      <th id=\"T_af3ad_level0_col3\" class=\"col_heading level0 col3\" >nominal</th>\n",
       "      <th id=\"T_af3ad_level0_col4\" class=\"col_heading level0 col4\" >amortizacion</th>\n",
       "      <th id=\"T_af3ad_level0_col5\" class=\"col_heading level0 col5\" >interes</th>\n",
       "      <th id=\"T_af3ad_level0_col6\" class=\"col_heading level0 col6\" >amort_es_flujo</th>\n",
       "      <th id=\"T_af3ad_level0_col7\" class=\"col_heading level0 col7\" >flujo</th>\n",
       "      <th id=\"T_af3ad_level0_col8\" class=\"col_heading level0 col8\" >moneda</th>\n",
       "      <th id=\"T_af3ad_level0_col9\" class=\"col_heading level0 col9\" >valor_tasa</th>\n",
       "      <th id=\"T_af3ad_level0_col10\" class=\"col_heading level0 col10\" >tipo_tasa</th>\n",
       "    </tr>\n",
       "  </thead>\n",
       "  <tbody>\n",
       "    <tr>\n",
       "      <th id=\"T_af3ad_level0_row0\" class=\"row_heading level0 row0\" >0</th>\n",
       "      <td id=\"T_af3ad_row0_col0\" class=\"data row0 col0\" >2024-05-20</td>\n",
       "      <td id=\"T_af3ad_row0_col1\" class=\"data row0 col1\" >2025-05-20</td>\n",
       "      <td id=\"T_af3ad_row0_col2\" class=\"data row0 col2\" >2025-05-22</td>\n",
       "      <td id=\"T_af3ad_row0_col3\" class=\"data row0 col3\" >2,000,000,000</td>\n",
       "      <td id=\"T_af3ad_row0_col4\" class=\"data row0 col4\" >200,000,000</td>\n",
       "      <td id=\"T_af3ad_row0_col5\" class=\"data row0 col5\" >202,777,778</td>\n",
       "      <td id=\"T_af3ad_row0_col6\" class=\"data row0 col6\" >True</td>\n",
       "      <td id=\"T_af3ad_row0_col7\" class=\"data row0 col7\" >402,777,778</td>\n",
       "      <td id=\"T_af3ad_row0_col8\" class=\"data row0 col8\" >CLP</td>\n",
       "      <td id=\"T_af3ad_row0_col9\" class=\"data row0 col9\" >10.00%</td>\n",
       "      <td id=\"T_af3ad_row0_col10\" class=\"data row0 col10\" >LinAct360</td>\n",
       "    </tr>\n",
       "  </tbody>\n",
       "</table>\n"
      ],
      "text/plain": [
       "<pandas.io.formats.style.Styler at 0x1252e1f10>"
      ]
     },
     "execution_count": 34,
     "metadata": {},
     "output_type": "execute_result"
    }
   ],
   "source": [
    "df = pd.DataFrame([qcf.show(fixed_rate_cashflow)], columns=qcf.get_column_names(fixed_rate_cashflow.get_type()))\n",
    "df.style.format({\n",
    "    'nominal':'{:,.0f}', \n",
    "    'amortizacion':'{:,.0f}', \n",
    "    'interes':'{:,.0f}', \n",
    "    'flujo':'{:,.0f}',\n",
    "    'valor_tasa':'{:.2%}'\n",
    "})"
   ]
  },
  {
   "cell_type": "markdown",
   "metadata": {},
   "source": [
    "## Fixed Rate Multi Currency Cashflow"
   ]
  },
  {
   "cell_type": "markdown",
   "metadata": {},
   "source": [
    "Un objeto de tipo `FixedRateMultiCurrencyCashflow` representa un flujo de caja a tasa fija (`FixedRateCashflow`) que se liquidará en una moneda distinta de la moneda del nominal utilizando el valor a una cierta fecha de un índice de tipo de cambio prefijado. Para dar de alta uno de estos objetos se requiere:\n",
    "\n",
    "- `QCDate`: fecha inicio (para la aplicación de la tasa)\n",
    "- `QCDate`: fecha final (para la aplicación de la tasa)\n",
    "- `QCDate`: fecha de pago\n",
    "- `float`: nominal (monto al que se le aplica la tasa)\n",
    "- `float`: amortización (eventual flujo de caja que corresponde a una porción del nominal)\n",
    "- `bool`: indica si la amortización anterior es un flujo de caja o sólo una disminución de nominal\n",
    "- `QCInterestRate`: la tasa de interés a aplicar (su valor y convenciones)\n",
    "- `QCCurrency`: moneda del nominal\n",
    "- `QCDate`: fecha de fijación del índice de tipo de cambio\n",
    "- `QCCurrency`: moneda en la que se liquida el flujo\n",
    "- `FXRateIndex`: índice de tipo de cambio a utilizar\n",
    "- `float`: valor del índice de tipo de cambio"
   ]
  },
  {
   "cell_type": "markdown",
   "metadata": {},
   "source": [
    "### Construcción"
   ]
  },
  {
   "cell_type": "markdown",
   "metadata": {},
   "source": [
    "Cuando coinciden, se usan los mismos parámetros que en el ejemplo anterior."
   ]
  },
  {
   "cell_type": "code",
   "execution_count": 35,
   "metadata": {
    "ExecuteTime": {
     "end_time": "2022-01-21T13:43:02.852459Z",
     "start_time": "2022-01-21T13:43:02.838497Z"
    },
    "execution": {
     "iopub.execute_input": "2024-06-08T12:16:03.288692Z",
     "iopub.status.busy": "2024-06-08T12:16:03.288518Z",
     "iopub.status.idle": "2024-06-08T12:16:03.292092Z",
     "shell.execute_reply": "2024-06-08T12:16:03.291519Z",
     "shell.execute_reply.started": "2024-06-08T12:16:03.288674Z"
    }
   },
   "outputs": [],
   "source": [
    "fecha_fijacion = fecha_final\n",
    "usd = qcf.QCUSD()\n",
    "indice = usdclp_obs\n",
    "valor_indice = 900.0\n",
    "nominal = 1_000_000.0\n",
    "amort = 100_000.0\n",
    "amort_is_cashflow = False"
   ]
  },
  {
   "cell_type": "markdown",
   "metadata": {},
   "source": [
    "Se instancia el objeto."
   ]
  },
  {
   "cell_type": "code",
   "execution_count": 36,
   "metadata": {
    "execution": {
     "iopub.execute_input": "2024-06-08T12:16:03.292941Z",
     "iopub.status.busy": "2024-06-08T12:16:03.292776Z",
     "iopub.status.idle": "2024-06-08T12:16:03.296077Z",
     "shell.execute_reply": "2024-06-08T12:16:03.295510Z",
     "shell.execute_reply.started": "2024-06-08T12:16:03.292924Z"
    }
   },
   "outputs": [],
   "source": [
    "fixed_rate_mccy_cashflow = qcf.FixedRateMultiCurrencyCashflow(\n",
    "    fecha_inicio,\n",
    "    fecha_final,\n",
    "    fecha_pago,\n",
    "    nominal,\n",
    "    amort,\n",
    "    False,\n",
    "    tasa,\n",
    "    usd,\n",
    "    fecha_fijacion,\n",
    "    clp,\n",
    "    indice,\n",
    "    valor_indice,\n",
    ")"
   ]
  },
  {
   "cell_type": "markdown",
   "metadata": {},
   "source": [
    "### Getters"
   ]
  },
  {
   "cell_type": "markdown",
   "metadata": {},
   "source": [
    "La clase `FixedRateMultiCurrencyCashflow` es una subclase de `FixedRateCashflow` y por lo tanto, hereda todos sus métodos y variables."
   ]
  },
  {
   "cell_type": "code",
   "execution_count": 37,
   "metadata": {
    "ExecuteTime": {
     "end_time": "2022-01-21T13:43:02.868416Z",
     "start_time": "2022-01-21T13:43:02.853456Z"
    },
    "execution": {
     "iopub.execute_input": "2024-06-08T12:16:03.297177Z",
     "iopub.status.busy": "2024-06-08T12:16:03.296929Z",
     "iopub.status.idle": "2024-06-08T12:16:03.301939Z",
     "shell.execute_reply": "2024-06-08T12:16:03.301229Z",
     "shell.execute_reply.started": "2024-06-08T12:16:03.297158Z"
    }
   },
   "outputs": [
    {
     "name": "stdout",
     "output_type": "stream",
     "text": [
      "Fecha Inicio: 2024-05-20\n",
      "Fecha Final: 2025-05-20\n",
      "Fecha Pago: 2025-05-22\n",
      "Fecha Fijación Índice FX: 2025-05-20\n",
      "Moneda del Nominal: USD\n",
      "Nominal: 1,000,000\n",
      "Amortización: 100,000\n",
      "Moneda de Liquidación: CLP\n",
      "Tasa de interés: 10.00%\n"
     ]
    }
   ],
   "source": [
    "print(f\"Fecha Inicio: {fixed_rate_mccy_cashflow.get_start_date()}\")\n",
    "print(f\"Fecha Final: {fixed_rate_mccy_cashflow.get_end_date()}\")\n",
    "print(f\"Fecha Pago: {fixed_rate_mccy_cashflow.get_settlement_date()}\")\n",
    "print(f\"Fecha Fijación Índice FX: {fixed_rate_mccy_cashflow.get_fx_fixing_date()}\")\n",
    "print(f\"Moneda del Nominal: {fixed_rate_mccy_cashflow.ccy()}\")\n",
    "print(f\"Nominal: {fixed_rate_mccy_cashflow.get_nominal():,.0f}\")\n",
    "print(f\"Amortización: {fixed_rate_mccy_cashflow.get_amortization():,.0f}\")\n",
    "print(f\"Moneda de Liquidación: {fixed_rate_mccy_cashflow.settlement_currency()}\")\n",
    "\n",
    "# Aquí se usa un getter de QCInterestRate\n",
    "print(f\"Tasa de interés: {fixed_rate_mccy_cashflow.get_rate().get_value():.2%}\")"
   ]
  },
  {
   "cell_type": "markdown",
   "metadata": {},
   "source": [
    "### Setters"
   ]
  },
  {
   "cell_type": "markdown",
   "metadata": {},
   "source": [
    "Nuevo nominal."
   ]
  },
  {
   "cell_type": "code",
   "execution_count": 38,
   "metadata": {
    "execution": {
     "iopub.execute_input": "2024-06-08T12:16:03.302979Z",
     "iopub.status.busy": "2024-06-08T12:16:03.302806Z",
     "iopub.status.idle": "2024-06-08T12:16:03.306248Z",
     "shell.execute_reply": "2024-06-08T12:16:03.305758Z",
     "shell.execute_reply.started": "2024-06-08T12:16:03.302960Z"
    }
   },
   "outputs": [
    {
     "name": "stdout",
     "output_type": "stream",
     "text": [
      "Nuevo nominal: 100.0\n"
     ]
    }
   ],
   "source": [
    "nuevo_nominal = 100.0\n",
    "fixed_rate_mccy_cashflow.set_nominal(nuevo_nominal)\n",
    "print(f\"Nuevo nominal: {fixed_rate_mccy_cashflow.get_nominal():,.1f}\")"
   ]
  },
  {
   "cell_type": "markdown",
   "metadata": {},
   "source": [
    "Nueva amortización."
   ]
  },
  {
   "cell_type": "code",
   "execution_count": 39,
   "metadata": {
    "ExecuteTime": {
     "end_time": "2022-01-21T13:43:02.884373Z",
     "start_time": "2022-01-21T13:43:02.870411Z"
    },
    "execution": {
     "iopub.execute_input": "2024-06-08T12:16:03.307346Z",
     "iopub.status.busy": "2024-06-08T12:16:03.307153Z",
     "iopub.status.idle": "2024-06-08T12:16:03.310718Z",
     "shell.execute_reply": "2024-06-08T12:16:03.310135Z",
     "shell.execute_reply.started": "2024-06-08T12:16:03.307328Z"
    }
   },
   "outputs": [
    {
     "name": "stdout",
     "output_type": "stream",
     "text": [
      "Nueva amortización: 10.0\n"
     ]
    }
   ],
   "source": [
    "nueva_amortizacion = 10.0\n",
    "fixed_rate_mccy_cashflow.set_amortization(nueva_amortizacion)\n",
    "print(f\"Nueva amortización: {fixed_rate_mccy_cashflow.get_amortization():,.1f}\")"
   ]
  },
  {
   "cell_type": "markdown",
   "metadata": {},
   "source": [
    "Cambiar el valor de la tasa."
   ]
  },
  {
   "cell_type": "code",
   "execution_count": 40,
   "metadata": {
    "execution": {
     "iopub.execute_input": "2024-06-08T12:16:03.311714Z",
     "iopub.status.busy": "2024-06-08T12:16:03.311553Z",
     "iopub.status.idle": "2024-06-08T12:16:03.314812Z",
     "shell.execute_reply": "2024-06-08T12:16:03.314338Z",
     "shell.execute_reply.started": "2024-06-08T12:16:03.311697Z"
    }
   },
   "outputs": [
    {
     "name": "stdout",
     "output_type": "stream",
     "text": [
      "Nuevo valor de la tasa: 12.00%\n"
     ]
    }
   ],
   "source": [
    "fixed_rate_mccy_cashflow.set_rate_value(new_rate_value)\n",
    "print(f\"Nuevo valor de la tasa: {fixed_rate_mccy_cashflow.get_rate().get_value():.2%}\")"
   ]
  },
  {
   "cell_type": "markdown",
   "metadata": {},
   "source": [
    "### Cálculos"
   ]
  },
  {
   "cell_type": "markdown",
   "metadata": {},
   "source": [
    "Se vuelve al nominal, amortización y valor de la tasa iniciales."
   ]
  },
  {
   "cell_type": "code",
   "execution_count": 41,
   "metadata": {
    "ExecuteTime": {
     "end_time": "2022-01-21T13:43:02.900331Z",
     "start_time": "2022-01-21T13:43:02.885371Z"
    },
    "execution": {
     "iopub.execute_input": "2024-06-08T12:16:03.315955Z",
     "iopub.status.busy": "2024-06-08T12:16:03.315753Z",
     "iopub.status.idle": "2024-06-08T12:16:03.318950Z",
     "shell.execute_reply": "2024-06-08T12:16:03.318447Z",
     "shell.execute_reply.started": "2024-06-08T12:16:03.315937Z"
    }
   },
   "outputs": [],
   "source": [
    "fixed_rate_mccy_cashflow.set_nominal(nominal)\n",
    "fixed_rate_mccy_cashflow.set_amortization(amort)\n",
    "fixed_rate_mccy_cashflow.set_rate_value(valor_tasa_fija)"
   ]
  },
  {
   "cell_type": "markdown",
   "metadata": {},
   "source": [
    "Método `amount`. En este caso no se incluye la amortización (`amort_is_cashflow = False`)."
   ]
  },
  {
   "cell_type": "code",
   "execution_count": 42,
   "metadata": {
    "execution": {
     "iopub.execute_input": "2024-06-08T12:16:03.319928Z",
     "iopub.status.busy": "2024-06-08T12:16:03.319765Z",
     "iopub.status.idle": "2024-06-08T12:16:03.323369Z",
     "shell.execute_reply": "2024-06-08T12:16:03.322763Z",
     "shell.execute_reply.started": "2024-06-08T12:16:03.319911Z"
    }
   },
   "outputs": [
    {
     "name": "stdout",
     "output_type": "stream",
     "text": [
      "Flujo Total: 101,388.89\n",
      "Check: 101,388.89\n"
     ]
    }
   ],
   "source": [
    "print(f\"Flujo Total: {fixed_rate_mccy_cashflow.amount():,.2f}\")\n",
    "dias_devengo = fecha_inicio.day_diff(fecha_final)\n",
    "print(f\"Check: {fixed_rate_mccy_cashflow.get_nominal() * valor_tasa_fija * dias_devengo / 360:,.2f}\")"
   ]
  },
  {
   "cell_type": "markdown",
   "metadata": {},
   "source": [
    "Método `accrued_interest`."
   ]
  },
  {
   "cell_type": "code",
   "execution_count": 43,
   "metadata": {
    "execution": {
     "iopub.execute_input": "2024-06-08T12:16:03.324386Z",
     "iopub.status.busy": "2024-06-08T12:16:03.324188Z",
     "iopub.status.idle": "2024-06-08T12:16:03.328064Z",
     "shell.execute_reply": "2024-06-08T12:16:03.327423Z",
     "shell.execute_reply.started": "2024-06-08T12:16:03.324369Z"
    }
   },
   "outputs": [
    {
     "name": "stdout",
     "output_type": "stream",
     "text": [
      "Interés Devengado: 66,666.67\n",
      "Check: 66,666.67\n"
     ]
    }
   ],
   "source": [
    "fecha_intermedia = qcf.QCDate(15, 1, 2025)\n",
    "print(f\"Interés Devengado: {(interes_devengado:=fixed_rate_mccy_cashflow.accrued_interest(fecha_intermedia)):,.02f}\")\n",
    "print(f\"Check: {fixed_rate_mccy_cashflow.get_nominal() * valor_tasa_fija * fecha_inicio.day_diff(fecha_intermedia) / 360.0:,.02f}\")"
   ]
  },
  {
   "cell_type": "markdown",
   "metadata": {},
   "source": [
    "Método `accrued_interest_in_sett_currency`. Retorna el interés devengado en moneda de pago. Para esto requiere de un objeto de tipo `time_series` que contenga el valor del índice a la fecha de devengo solicitada."
   ]
  },
  {
   "cell_type": "code",
   "execution_count": 44,
   "metadata": {
    "ExecuteTime": {
     "end_time": "2022-01-21T13:43:02.915291Z",
     "start_time": "2022-01-21T13:43:02.901329Z"
    },
    "execution": {
     "iopub.execute_input": "2024-06-08T12:16:03.329072Z",
     "iopub.status.busy": "2024-06-08T12:16:03.328867Z",
     "iopub.status.idle": "2024-06-08T12:16:03.332293Z",
     "shell.execute_reply": "2024-06-08T12:16:03.331684Z",
     "shell.execute_reply.started": "2024-06-08T12:16:03.329054Z"
    }
   },
   "outputs": [],
   "source": [
    "ts = qcf.time_series()\n",
    "ts[fecha_inicio] = 900\n",
    "ts[fecha_intermedia] = 950"
   ]
  },
  {
   "cell_type": "code",
   "execution_count": 45,
   "metadata": {
    "ExecuteTime": {
     "end_time": "2022-01-21T13:43:02.978123Z",
     "start_time": "2022-01-21T13:43:02.964161Z"
    },
    "execution": {
     "iopub.execute_input": "2024-06-08T12:16:03.333240Z",
     "iopub.status.busy": "2024-06-08T12:16:03.333067Z",
     "iopub.status.idle": "2024-06-08T12:16:03.336852Z",
     "shell.execute_reply": "2024-06-08T12:16:03.336243Z",
     "shell.execute_reply.started": "2024-06-08T12:16:03.333222Z"
    }
   },
   "outputs": [
    {
     "name": "stdout",
     "output_type": "stream",
     "text": [
      "Interés devengado en moneda de pago: 63,333,333.33\n",
      "Check: 63,333,333.33\n"
     ]
    }
   ],
   "source": [
    "print(f\"Interés devengado en moneda de pago: {fixed_rate_mccy_cashflow.accrued_interest_in_sett_ccy(fecha_intermedia, ts):,.2f}\")\n",
    "print(f\"Check: {interes_devengado * ts[fecha_intermedia]:,.2f}\")"
   ]
  },
  {
   "cell_type": "markdown",
   "metadata": {},
   "source": [
    "### Funciones `show` y `get_column_names`"
   ]
  },
  {
   "cell_type": "code",
   "execution_count": 46,
   "metadata": {
    "execution": {
     "iopub.execute_input": "2024-06-08T12:16:03.337968Z",
     "iopub.status.busy": "2024-06-08T12:16:03.337758Z",
     "iopub.status.idle": "2024-06-08T12:16:03.341956Z",
     "shell.execute_reply": "2024-06-08T12:16:03.341285Z",
     "shell.execute_reply.started": "2024-06-08T12:16:03.337949Z"
    }
   },
   "outputs": [
    {
     "data": {
      "text/html": [
       "<style>.jp-OutputArea-output {display:flex}</style>"
      ],
      "text/plain": [
       "<IPython.core.display.HTML object>"
      ]
     },
     "metadata": {},
     "output_type": "display_data"
    }
   ],
   "source": [
    "from IPython.display import display, HTML\n",
    "display(HTML(\"<style>.jp-OutputArea-output {display:flex}</style>\"))"
   ]
  },
  {
   "cell_type": "markdown",
   "metadata": {},
   "source": [
    "Juntando estas dos funciones se obtiene una representación tabular del flujo usando `pandas.DataFrame`."
   ]
  },
  {
   "cell_type": "code",
   "execution_count": 47,
   "metadata": {
    "execution": {
     "iopub.execute_input": "2024-06-08T12:16:03.342981Z",
     "iopub.status.busy": "2024-06-08T12:16:03.342737Z",
     "iopub.status.idle": "2024-06-08T12:16:03.352334Z",
     "shell.execute_reply": "2024-06-08T12:16:03.351731Z",
     "shell.execute_reply.started": "2024-06-08T12:16:03.342961Z"
    }
   },
   "outputs": [
    {
     "data": {
      "text/html": [
       "<style type=\"text/css\">\n",
       "</style>\n",
       "<table id=\"T_ce9e1\">\n",
       "  <thead>\n",
       "    <tr>\n",
       "      <th class=\"blank level0\" >&nbsp;</th>\n",
       "      <th id=\"T_ce9e1_level0_col0\" class=\"col_heading level0 col0\" >fecha_inicial</th>\n",
       "      <th id=\"T_ce9e1_level0_col1\" class=\"col_heading level0 col1\" >fecha_final</th>\n",
       "      <th id=\"T_ce9e1_level0_col2\" class=\"col_heading level0 col2\" >fecha_pago</th>\n",
       "      <th id=\"T_ce9e1_level0_col3\" class=\"col_heading level0 col3\" >nominal</th>\n",
       "      <th id=\"T_ce9e1_level0_col4\" class=\"col_heading level0 col4\" >amortizacion</th>\n",
       "      <th id=\"T_ce9e1_level0_col5\" class=\"col_heading level0 col5\" >interes</th>\n",
       "      <th id=\"T_ce9e1_level0_col6\" class=\"col_heading level0 col6\" >amort_es_flujo</th>\n",
       "      <th id=\"T_ce9e1_level0_col7\" class=\"col_heading level0 col7\" >flujo</th>\n",
       "      <th id=\"T_ce9e1_level0_col8\" class=\"col_heading level0 col8\" >moneda_nocional</th>\n",
       "      <th id=\"T_ce9e1_level0_col9\" class=\"col_heading level0 col9\" >valor_tasa</th>\n",
       "      <th id=\"T_ce9e1_level0_col10\" class=\"col_heading level0 col10\" >tipo_tasa</th>\n",
       "      <th id=\"T_ce9e1_level0_col11\" class=\"col_heading level0 col11\" >fecha_fixing_fx</th>\n",
       "      <th id=\"T_ce9e1_level0_col12\" class=\"col_heading level0 col12\" >moneda_pago</th>\n",
       "      <th id=\"T_ce9e1_level0_col13\" class=\"col_heading level0 col13\" >indice_fx</th>\n",
       "      <th id=\"T_ce9e1_level0_col14\" class=\"col_heading level0 col14\" >valor_indice_fx</th>\n",
       "      <th id=\"T_ce9e1_level0_col15\" class=\"col_heading level0 col15\" >amortizacion_moneda_pago</th>\n",
       "      <th id=\"T_ce9e1_level0_col16\" class=\"col_heading level0 col16\" >interes_moneda_pago</th>\n",
       "    </tr>\n",
       "  </thead>\n",
       "  <tbody>\n",
       "    <tr>\n",
       "      <th id=\"T_ce9e1_level0_row0\" class=\"row_heading level0 row0\" >0</th>\n",
       "      <td id=\"T_ce9e1_row0_col0\" class=\"data row0 col0\" >2024-05-20</td>\n",
       "      <td id=\"T_ce9e1_row0_col1\" class=\"data row0 col1\" >2025-05-20</td>\n",
       "      <td id=\"T_ce9e1_row0_col2\" class=\"data row0 col2\" >2025-05-22</td>\n",
       "      <td id=\"T_ce9e1_row0_col3\" class=\"data row0 col3\" >1,000,000.00</td>\n",
       "      <td id=\"T_ce9e1_row0_col4\" class=\"data row0 col4\" >100,000.00</td>\n",
       "      <td id=\"T_ce9e1_row0_col5\" class=\"data row0 col5\" >101,388.89</td>\n",
       "      <td id=\"T_ce9e1_row0_col6\" class=\"data row0 col6\" >False</td>\n",
       "      <td id=\"T_ce9e1_row0_col7\" class=\"data row0 col7\" >101,389</td>\n",
       "      <td id=\"T_ce9e1_row0_col8\" class=\"data row0 col8\" >USD</td>\n",
       "      <td id=\"T_ce9e1_row0_col9\" class=\"data row0 col9\" >10.00%</td>\n",
       "      <td id=\"T_ce9e1_row0_col10\" class=\"data row0 col10\" >LinAct360</td>\n",
       "      <td id=\"T_ce9e1_row0_col11\" class=\"data row0 col11\" >2025-05-20</td>\n",
       "      <td id=\"T_ce9e1_row0_col12\" class=\"data row0 col12\" >CLP</td>\n",
       "      <td id=\"T_ce9e1_row0_col13\" class=\"data row0 col13\" >USDOBS</td>\n",
       "      <td id=\"T_ce9e1_row0_col14\" class=\"data row0 col14\" >900.00</td>\n",
       "      <td id=\"T_ce9e1_row0_col15\" class=\"data row0 col15\" >90,000,000</td>\n",
       "      <td id=\"T_ce9e1_row0_col16\" class=\"data row0 col16\" >91,250,000</td>\n",
       "    </tr>\n",
       "  </tbody>\n",
       "</table>\n"
      ],
      "text/plain": [
       "<pandas.io.formats.style.Styler at 0x1254cd510>"
      ]
     },
     "execution_count": 47,
     "metadata": {},
     "output_type": "execute_result"
    }
   ],
   "source": [
    "df = pd.DataFrame([qcf.show(fixed_rate_mccy_cashflow)], columns=qcf.get_column_names(fixed_rate_mccy_cashflow.get_type()))\n",
    "df.style.format({\n",
    "    'nominal':'{:,.2f}', \n",
    "    'amortizacion':'{:,.2f}', \n",
    "    'amortizacion_moneda_pago':'{:,.0f}', \n",
    "    'interes':'{:,.2f}', \n",
    "    'interes_moneda_pago':'{:,.0f}', \n",
    "    'flujo':'{:,.0f}',\n",
    "    'valor_tasa':'{:.2%}',\n",
    "    'valor_indice_fx':'{:.2f}'\n",
    "})"
   ]
  },
  {
   "cell_type": "markdown",
   "metadata": {},
   "source": [
    "## Ibor Cashflow"
   ]
  },
  {
   "cell_type": "markdown",
   "metadata": {},
   "source": [
    "Un objeto de tipo `IborCashflow` representa un flujo de caja calculado a partir de la aplicación de una tasa flotante fijada en una cierta fecha (Libor, Euribor, TAB, ...) , entre dos fechas prefijadas a un nominal prefijado. Para dar de alta uno de estos objetos se requiere:\n",
    "\n",
    "- `InterestRateIndex`: el índice de tasa de interés prefijado\n",
    "- `QCDate`: fecha inicio (para la aplicación de la tasa)\n",
    "- `QCDate`: fecha final (para la aplicación de la tasa)\n",
    "- `QCDate`: fecha de fijación del índice de tasa de interés \n",
    "- `QCDate`: fecha de pago\n",
    "- `float`: nominal (monto al que se le aplica la tasa)\n",
    "- `float`: amortización (eventual flujo de caja que corresponde a una porción del nominal)\n",
    "- `bool`: indica si la amortización anterior es un flujo de caja o sólo una disminución de nominal\n",
    "- `QCCurrency`: moneda del nominal y del flujo de caja\n",
    "- `float`: spread aditivo a aplicar a la fijación del índice\n",
    "- `float`: spread multiplicativo o gearing a aplicar a la fijación del índice\n",
    "\n",
    "Para dar de alta un `InterestRateIndex` se requiere:\n",
    "\n",
    "- `str`: código del índice\n",
    "- `QCInterestRate`: un objeto tasa de interés que contenga las convenciones del índice\n",
    "- `Tenor`: el lag de inicio del índice respecto a la fecha de fixing (por ejemplo 2d para Libor USD)\n",
    "- `Tenor`: el tenor del índice (3M por ejemplo para Libor USD 3M)\n",
    "- `QCBusinessCalendar`: el calendario de fixing\n",
    "- `QCBusinessCalendar`: el calendario de pago\n",
    "- `QCCurrency`: la moneda a la que corresponde el índice (por ejemplo EUR para EURIBOR 3M)\n"
   ]
  },
  {
   "cell_type": "markdown",
   "metadata": {},
   "source": [
    "### Construcción"
   ]
  },
  {
   "cell_type": "markdown",
   "metadata": {},
   "source": [
    "Se define primero el índice de tasa de interés."
   ]
  },
  {
   "cell_type": "code",
   "execution_count": 48,
   "metadata": {
    "execution": {
     "iopub.execute_input": "2024-06-08T12:16:03.353500Z",
     "iopub.status.busy": "2024-06-08T12:16:03.353204Z",
     "iopub.status.idle": "2024-06-08T12:16:03.356881Z",
     "shell.execute_reply": "2024-06-08T12:16:03.356347Z",
     "shell.execute_reply.started": "2024-06-08T12:16:03.353479Z"
    }
   },
   "outputs": [],
   "source": [
    "codigo = \"TERMSOFR6M\"\n",
    "lin_act360 = qcf.QCInterestRate(0.0, act360, lin_wf)\n",
    "fixing_lag = qcf.Tenor(\"2D\")\n",
    "tenor = qcf.Tenor(\"6M\")\n",
    "fixing_calendar = scl  # No es el calendario correcto, pero sirve para el ejemplo\n",
    "settlement_calendar = scl  # Ídem arriba\n",
    "term_sofr_6m = qcf.InterestRateIndex(\n",
    "    codigo, \n",
    "    lin_act360, \n",
    "    fixing_lag, \n",
    "    tenor, \n",
    "    fixing_calendar, \n",
    "    settlement_calendar, \n",
    "    usd\n",
    ")"
   ]
  },
  {
   "cell_type": "markdown",
   "metadata": {},
   "source": [
    "Getters del objeto `InterestRateIndex`."
   ]
  },
  {
   "cell_type": "code",
   "execution_count": 49,
   "metadata": {
    "execution": {
     "iopub.execute_input": "2024-06-08T12:16:03.357913Z",
     "iopub.status.busy": "2024-06-08T12:16:03.357742Z",
     "iopub.status.idle": "2024-06-08T12:16:03.361354Z",
     "shell.execute_reply": "2024-06-08T12:16:03.360661Z",
     "shell.execute_reply.started": "2024-06-08T12:16:03.357896Z"
    }
   },
   "outputs": [
    {
     "name": "stdout",
     "output_type": "stream",
     "text": [
      "Code: TERMSOFR6M\n",
      "Tenor: 6M\n",
      "Tasa: 0.000000 Act360 Lin\n"
     ]
    }
   ],
   "source": [
    "print(f\"Code: {term_sofr_6m.get_code()}\")\n",
    "print(f\"Tenor: {term_sofr_6m.get_tenor()}\")\n",
    "print(f\"Tasa: {term_sofr_6m.get_rate()}\")"
   ]
  },
  {
   "cell_type": "markdown",
   "metadata": {},
   "source": [
    "Para fijar el valor del índice en una fecha en particular."
   ]
  },
  {
   "cell_type": "code",
   "execution_count": 50,
   "metadata": {
    "ExecuteTime": {
     "end_time": "2022-01-21T13:43:03.054918Z",
     "start_time": "2022-01-21T13:43:03.040956Z"
    },
    "execution": {
     "iopub.execute_input": "2024-06-08T12:16:03.362239Z",
     "iopub.status.busy": "2024-06-08T12:16:03.362075Z",
     "iopub.status.idle": "2024-06-08T12:16:03.366186Z",
     "shell.execute_reply": "2024-06-08T12:16:03.365521Z",
     "shell.execute_reply.started": "2024-06-08T12:16:03.362221Z"
    }
   },
   "outputs": [
    {
     "name": "stdout",
     "output_type": "stream",
     "text": [
      "Fixing Tasa: 1.00%\n",
      "Fecha Inicio: 2018-09-24\n",
      "Fecha Final: 2019-03-25\n"
     ]
    }
   ],
   "source": [
    "term_sofr_6m.set_rate_value(0.01)\n",
    "print(f\"Fixing Tasa: {term_sofr_6m.get_rate().get_value():.2%}\")\n",
    "fecha_fixing = qcf.QCDate(20, 9, 2018)\n",
    "print(f\"Fecha Inicio: {term_sofr_6m.get_start_date(fecha_fixing)}\")\n",
    "print(f\"Fecha Final: {term_sofr_6m.get_end_date(fecha_fixing)}\")"
   ]
  },
  {
   "cell_type": "markdown",
   "metadata": {},
   "source": [
    "Con esto, veamos un ejemplo de construcción y uso de un `IborCashflow`."
   ]
  },
  {
   "cell_type": "code",
   "execution_count": 51,
   "metadata": {
    "ExecuteTime": {
     "end_time": "2022-01-21T13:43:03.132710Z",
     "start_time": "2022-01-21T13:43:03.118748Z"
    },
    "execution": {
     "iopub.execute_input": "2024-06-08T12:16:03.367562Z",
     "iopub.status.busy": "2024-06-08T12:16:03.367318Z",
     "iopub.status.idle": "2024-06-08T12:16:03.371643Z",
     "shell.execute_reply": "2024-06-08T12:16:03.371098Z",
     "shell.execute_reply.started": "2024-06-08T12:16:03.367542Z"
    }
   },
   "outputs": [],
   "source": [
    "fecha_inicio = qcf.QCDate(20, 9, 2018)\n",
    "fecha_final = qcf.QCDate(20, 9, 2019)\n",
    "fecha_pago = qcf.QCDate(23, 9, 2019)\n",
    "fecha_fixing = qcf.QCDate(20, 9, 2018)\n",
    "nominal = 1_000_000.0\n",
    "amort = 100_000.0\n",
    "spread = 0.0\n",
    "gearing = 1.0\n",
    "\n",
    "ibor_cashflow = qcf.IborCashflow(\n",
    "    term_sofr_6m,\n",
    "    fecha_inicio,\n",
    "    fecha_final,\n",
    "    fecha_fixing,\n",
    "    fecha_pago,\n",
    "    nominal,\n",
    "    amort,\n",
    "    True,\n",
    "    usd,\n",
    "    spread,\n",
    "    gearing,\n",
    ")"
   ]
  },
  {
   "cell_type": "markdown",
   "metadata": {},
   "source": [
    "### Getters"
   ]
  },
  {
   "cell_type": "code",
   "execution_count": 52,
   "metadata": {
    "ExecuteTime": {
     "end_time": "2022-01-21T13:43:03.148668Z",
     "start_time": "2022-01-21T13:43:03.133708Z"
    },
    "execution": {
     "iopub.execute_input": "2024-06-08T12:16:03.373006Z",
     "iopub.status.busy": "2024-06-08T12:16:03.372656Z",
     "iopub.status.idle": "2024-06-08T12:16:03.377754Z",
     "shell.execute_reply": "2024-06-08T12:16:03.377036Z",
     "shell.execute_reply.started": "2024-06-08T12:16:03.372986Z"
    }
   },
   "outputs": [
    {
     "name": "stdout",
     "output_type": "stream",
     "text": [
      "Fecha Fixing:\t2018-09-20\n",
      "Fecha Inicio:\t2018-09-20\n",
      "Fecha Final:\t2019-09-20\n",
      "Fecha Pago:\t2019-09-23\n",
      "Nominal:\t1,000,000\n",
      "Amortización:\t100,000\n",
      "Moneda:\t\tUSD\n",
      "Valor Tasa:\t1.00%\n",
      "Valor Spread:\t0.00%\n"
     ]
    }
   ],
   "source": [
    "print(f\"Fecha Fixing:\\t{ibor_cashflow.get_fixing_date()}\")\n",
    "print(f\"Fecha Inicio:\\t{ibor_cashflow.get_start_date()}\")\n",
    "print(f\"Fecha Final:\\t{ibor_cashflow.get_end_date()}\")\n",
    "print(f\"Fecha Pago:\\t{ibor_cashflow.get_settlement_date()}\")\n",
    "print(f\"Nominal:\\t{ibor_cashflow.get_nominal():,.0f}\")\n",
    "print(f\"Amortización:\\t{ibor_cashflow.get_amortization():,.0f}\")\n",
    "print(f\"Moneda:\\t\\t{ibor_cashflow.ccy()}\")\n",
    "print(f\"Valor Tasa:\\t{ibor_cashflow.get_interest_rate_value():.2%}\")\n",
    "print(f\"Valor Spread:\\t{ibor_cashflow.get_spread():.2%}\")"
   ]
  },
  {
   "cell_type": "markdown",
   "metadata": {},
   "source": [
    "### Setters"
   ]
  },
  {
   "cell_type": "markdown",
   "metadata": {},
   "source": [
    "Nuevo nominal."
   ]
  },
  {
   "cell_type": "code",
   "execution_count": 53,
   "metadata": {
    "ExecuteTime": {
     "end_time": "2022-01-21T13:43:03.163627Z",
     "start_time": "2022-01-21T13:43:03.149665Z"
    },
    "execution": {
     "iopub.execute_input": "2024-06-08T12:16:03.378802Z",
     "iopub.status.busy": "2024-06-08T12:16:03.378595Z",
     "iopub.status.idle": "2024-06-08T12:16:03.382296Z",
     "shell.execute_reply": "2024-06-08T12:16:03.381620Z",
     "shell.execute_reply.started": "2024-06-08T12:16:03.378783Z"
    }
   },
   "outputs": [
    {
     "name": "stdout",
     "output_type": "stream",
     "text": [
      "Nominal: 2,000,000\n"
     ]
    }
   ],
   "source": [
    "nuevo_nominal = 2_000_000.0\n",
    "ibor_cashflow.set_nominal(nuevo_nominal)\n",
    "print(f\"Nominal: {ibor_cashflow.get_nominal():,.0f}\")"
   ]
  },
  {
   "cell_type": "markdown",
   "metadata": {},
   "source": [
    "Nueva amortización."
   ]
  },
  {
   "cell_type": "code",
   "execution_count": 54,
   "metadata": {
    "execution": {
     "iopub.execute_input": "2024-06-08T12:16:03.383692Z",
     "iopub.status.busy": "2024-06-08T12:16:03.383316Z",
     "iopub.status.idle": "2024-06-08T12:16:03.387089Z",
     "shell.execute_reply": "2024-06-08T12:16:03.386503Z",
     "shell.execute_reply.started": "2024-06-08T12:16:03.383668Z"
    }
   },
   "outputs": [
    {
     "name": "stdout",
     "output_type": "stream",
     "text": [
      "Amortización: 200,000\n"
     ]
    }
   ],
   "source": [
    "nueva_amortizacion = 200_000.0\n",
    "ibor_cashflow.set_amortization(nueva_amortizacion)\n",
    "print(f\"Amortización: {ibor_cashflow.get_amortization():,.0f}\")"
   ]
  },
  {
   "cell_type": "markdown",
   "metadata": {},
   "source": [
    "Cambia el valor del índice."
   ]
  },
  {
   "cell_type": "code",
   "execution_count": 55,
   "metadata": {
    "execution": {
     "iopub.execute_input": "2024-06-08T12:16:03.388266Z",
     "iopub.status.busy": "2024-06-08T12:16:03.387938Z",
     "iopub.status.idle": "2024-06-08T12:16:03.391202Z",
     "shell.execute_reply": "2024-06-08T12:16:03.390706Z",
     "shell.execute_reply.started": "2024-06-08T12:16:03.388245Z"
    }
   },
   "outputs": [
    {
     "name": "stdout",
     "output_type": "stream",
     "text": [
      "Valor Tasa: 2.00%\n"
     ]
    }
   ],
   "source": [
    "ibor_cashflow.set_interest_rate_value(nuevo_valor_indice:=.02)\n",
    "print(f\"Valor Tasa: {ibor_cashflow.get_interest_rate_value():.2%}\")"
   ]
  },
  {
   "cell_type": "markdown",
   "metadata": {},
   "source": [
    "Cambia el valor del sepread."
   ]
  },
  {
   "cell_type": "code",
   "execution_count": 56,
   "metadata": {
    "execution": {
     "iopub.execute_input": "2024-06-08T12:16:03.392243Z",
     "iopub.status.busy": "2024-06-08T12:16:03.392051Z",
     "iopub.status.idle": "2024-06-08T12:16:03.395282Z",
     "shell.execute_reply": "2024-06-08T12:16:03.394688Z",
     "shell.execute_reply.started": "2024-06-08T12:16:03.392225Z"
    }
   },
   "outputs": [
    {
     "name": "stdout",
     "output_type": "stream",
     "text": [
      "Valor Spread: 1.00%\n"
     ]
    }
   ],
   "source": [
    "ibor_cashflow.set_spread(.01)\n",
    "print(f\"Valor Spread: {ibor_cashflow.get_spread():.2%}\")"
   ]
  },
  {
   "cell_type": "markdown",
   "metadata": {},
   "source": [
    "### Cálculos"
   ]
  },
  {
   "cell_type": "markdown",
   "metadata": {},
   "source": [
    "Método `amount`. Retorna el flujo total incluyendo la amortización si corresponde."
   ]
  },
  {
   "cell_type": "code",
   "execution_count": 57,
   "metadata": {
    "ExecuteTime": {
     "end_time": "2022-01-21T13:43:03.179585Z",
     "start_time": "2022-01-21T13:43:03.164625Z"
    },
    "execution": {
     "iopub.execute_input": "2024-06-08T12:16:03.396238Z",
     "iopub.status.busy": "2024-06-08T12:16:03.396036Z",
     "iopub.status.idle": "2024-06-08T12:16:03.399654Z",
     "shell.execute_reply": "2024-06-08T12:16:03.398909Z",
     "shell.execute_reply.started": "2024-06-08T12:16:03.396217Z"
    }
   },
   "outputs": [
    {
     "name": "stdout",
     "output_type": "stream",
     "text": [
      "Flujo: 240,555.56\n"
     ]
    }
   ],
   "source": [
    "print(f\"Flujo: {ibor_cashflow.amount():,.2f}\")"
   ]
  },
  {
   "cell_type": "markdown",
   "metadata": {},
   "source": [
    "Método `accrued_interest`. Retorna el interés devengado a una cierta fecha."
   ]
  },
  {
   "cell_type": "code",
   "execution_count": 58,
   "metadata": {
    "execution": {
     "iopub.execute_input": "2024-06-08T12:16:03.400701Z",
     "iopub.status.busy": "2024-06-08T12:16:03.400493Z",
     "iopub.status.idle": "2024-06-08T12:16:03.404549Z",
     "shell.execute_reply": "2024-06-08T12:16:03.404003Z",
     "shell.execute_reply.started": "2024-06-08T12:16:03.400682Z"
    }
   },
   "outputs": [
    {
     "name": "stdout",
     "output_type": "stream",
     "text": [
      "Interés Devengado al 2019-07-20: 50,500.00\n",
      "Check: 50,500.00\n"
     ]
    }
   ],
   "source": [
    "fecha_devengo = qcf.QCDate(20, 7, 2019)\n",
    "print(f\"Interés Devengado al {fecha_devengo}: {ibor_cashflow.accrued_interest(fecha_devengo):,.2f}\")\n",
    "\n",
    "# La tasa es el valor del índice más el spread\n",
    "tasa = ibor_cashflow.get_interest_rate_value() + ibor_cashflow.get_spread()\n",
    "\n",
    "check = tasa * fecha_inicio.day_diff(fecha_devengo) / 360.0 * ibor_cashflow.get_nominal()\n",
    "print(f\"Check: {check:,.2f}\")"
   ]
  },
  {
   "cell_type": "markdown",
   "metadata": {},
   "source": [
    "### Funciones `show` y `get_column_names`"
   ]
  },
  {
   "cell_type": "markdown",
   "metadata": {},
   "source": [
    "Al igual que en casos anteriores, juntando estas dos funciones se obtiene una representación tabular del flujo usando `pandas.DataFrame`."
   ]
  },
  {
   "cell_type": "code",
   "execution_count": 59,
   "metadata": {
    "execution": {
     "iopub.execute_input": "2024-06-08T12:16:03.405690Z",
     "iopub.status.busy": "2024-06-08T12:16:03.405469Z",
     "iopub.status.idle": "2024-06-08T12:16:03.414163Z",
     "shell.execute_reply": "2024-06-08T12:16:03.413430Z",
     "shell.execute_reply.started": "2024-06-08T12:16:03.405672Z"
    }
   },
   "outputs": [
    {
     "data": {
      "text/html": [
       "<style type=\"text/css\">\n",
       "</style>\n",
       "<table id=\"T_625d7\">\n",
       "  <thead>\n",
       "    <tr>\n",
       "      <th class=\"blank level0\" >&nbsp;</th>\n",
       "      <th id=\"T_625d7_level0_col0\" class=\"col_heading level0 col0\" >fecha_inicial</th>\n",
       "      <th id=\"T_625d7_level0_col1\" class=\"col_heading level0 col1\" >fecha_final</th>\n",
       "      <th id=\"T_625d7_level0_col2\" class=\"col_heading level0 col2\" >fecha_fixing</th>\n",
       "      <th id=\"T_625d7_level0_col3\" class=\"col_heading level0 col3\" >fecha_pago</th>\n",
       "      <th id=\"T_625d7_level0_col4\" class=\"col_heading level0 col4\" >nominal</th>\n",
       "      <th id=\"T_625d7_level0_col5\" class=\"col_heading level0 col5\" >amortizacion</th>\n",
       "      <th id=\"T_625d7_level0_col6\" class=\"col_heading level0 col6\" >interes</th>\n",
       "      <th id=\"T_625d7_level0_col7\" class=\"col_heading level0 col7\" >amort_es_flujo</th>\n",
       "      <th id=\"T_625d7_level0_col8\" class=\"col_heading level0 col8\" >flujo</th>\n",
       "      <th id=\"T_625d7_level0_col9\" class=\"col_heading level0 col9\" >moneda</th>\n",
       "      <th id=\"T_625d7_level0_col10\" class=\"col_heading level0 col10\" >codigo_indice_tasa</th>\n",
       "      <th id=\"T_625d7_level0_col11\" class=\"col_heading level0 col11\" >valor_tasa</th>\n",
       "      <th id=\"T_625d7_level0_col12\" class=\"col_heading level0 col12\" >spread</th>\n",
       "      <th id=\"T_625d7_level0_col13\" class=\"col_heading level0 col13\" >gearing</th>\n",
       "      <th id=\"T_625d7_level0_col14\" class=\"col_heading level0 col14\" >tipo_tasa</th>\n",
       "    </tr>\n",
       "  </thead>\n",
       "  <tbody>\n",
       "    <tr>\n",
       "      <th id=\"T_625d7_level0_row0\" class=\"row_heading level0 row0\" >0</th>\n",
       "      <td id=\"T_625d7_row0_col0\" class=\"data row0 col0\" >2018-09-20</td>\n",
       "      <td id=\"T_625d7_row0_col1\" class=\"data row0 col1\" >2019-09-20</td>\n",
       "      <td id=\"T_625d7_row0_col2\" class=\"data row0 col2\" >2018-09-20</td>\n",
       "      <td id=\"T_625d7_row0_col3\" class=\"data row0 col3\" >2019-09-23</td>\n",
       "      <td id=\"T_625d7_row0_col4\" class=\"data row0 col4\" >2,000,000.00</td>\n",
       "      <td id=\"T_625d7_row0_col5\" class=\"data row0 col5\" >200,000.00</td>\n",
       "      <td id=\"T_625d7_row0_col6\" class=\"data row0 col6\" >40,555.56</td>\n",
       "      <td id=\"T_625d7_row0_col7\" class=\"data row0 col7\" >True</td>\n",
       "      <td id=\"T_625d7_row0_col8\" class=\"data row0 col8\" >240,555.56</td>\n",
       "      <td id=\"T_625d7_row0_col9\" class=\"data row0 col9\" >USD</td>\n",
       "      <td id=\"T_625d7_row0_col10\" class=\"data row0 col10\" >TERMSOFR6M</td>\n",
       "      <td id=\"T_625d7_row0_col11\" class=\"data row0 col11\" >2.00%</td>\n",
       "      <td id=\"T_625d7_row0_col12\" class=\"data row0 col12\" >1.00%</td>\n",
       "      <td id=\"T_625d7_row0_col13\" class=\"data row0 col13\" >1.000000</td>\n",
       "      <td id=\"T_625d7_row0_col14\" class=\"data row0 col14\" >LinAct360</td>\n",
       "    </tr>\n",
       "  </tbody>\n",
       "</table>\n"
      ],
      "text/plain": [
       "<pandas.io.formats.style.Styler at 0x1254d8750>"
      ]
     },
     "execution_count": 59,
     "metadata": {},
     "output_type": "execute_result"
    }
   ],
   "source": [
    "df = pd.DataFrame([qcf.show(ibor_cashflow)], columns=qcf.get_column_names(ibor_cashflow.get_type()))\n",
    "df.style.format({\n",
    "    'nominal':'{:,.2f}', \n",
    "    'amortizacion':'{:,.2f}', \n",
    "    'interes':'{:,.2f}', \n",
    "    'flujo':'{:,.2f}',\n",
    "    'valor_tasa':'{:.2%}',\n",
    "    'spread':'{:.2%}',\n",
    "})"
   ]
  },
  {
   "cell_type": "markdown",
   "metadata": {},
   "source": [
    "## Ibor Multi Currency Cashflow"
   ]
  },
  {
   "cell_type": "markdown",
   "metadata": {},
   "source": [
    "Un objeto de tipo `IborMultiCurrencyCashflow` representa un flujo de caja a tasa variable (`IborCashflow`) que se liquidará en una moneda distinta de la moneda del nominal utilizando el valor a una cierta fecha de un índice de tipo de cambio prefijado. Para dar de alta uno de estos objetos se requiere:\n",
    "\n",
    "- `InterestRateIndex`: el índice de tasa de interés prefijado\n",
    "- `QCDate`: fecha inicio (para la aplicación de la tasa)\n",
    "- `QCDate`: fecha final (para la aplicación de la tasa)\n",
    "- `QCDate`: fecha de fijación del índice de tasa de interés \n",
    "- `QCDate`: fecha de pago\n",
    "- `float`: nominal (monto al que se le aplica la tasa)\n",
    "- `float`: amortización (eventual flujo de caja que corresponde a una porción del nominal)\n",
    "- `bool`: indica si la amortización anterior es un flujo de caja o sólo una disminución de nominal\n",
    "- `QCCurrency`: moneda del nominal y del flujo de caja\n",
    "- `float`: spread aditivo a aplicar a la fijación del índice\n",
    "- `float`: spread multiplicativo o gearing a aplicar a la fijación del índice\n",
    "- `QCDate`: fecha de publicación del índice de tipo de cambio\n",
    "- `QCCurrency`: moneda en la que se liquida el flujo\n",
    "- `FXRateIndex`: índice de tipo de cambio a utilizar\n",
    "- `float`: valor del índice de tipo de cambio"
   ]
  },
  {
   "cell_type": "markdown",
   "metadata": {},
   "source": [
    "### Construcción"
   ]
  },
  {
   "cell_type": "markdown",
   "metadata": {},
   "source": [
    "Parámetros iniciales."
   ]
  },
  {
   "cell_type": "code",
   "execution_count": 60,
   "metadata": {
    "ExecuteTime": {
     "end_time": "2022-01-21T13:43:03.242417Z",
     "start_time": "2022-01-21T13:43:03.228455Z"
    },
    "execution": {
     "iopub.execute_input": "2024-06-08T12:16:03.415602Z",
     "iopub.status.busy": "2024-06-08T12:16:03.415363Z",
     "iopub.status.idle": "2024-06-08T12:16:03.420008Z",
     "shell.execute_reply": "2024-06-08T12:16:03.419457Z",
     "shell.execute_reply.started": "2024-06-08T12:16:03.415581Z"
    }
   },
   "outputs": [],
   "source": [
    "fecha_inicio = qcf.QCDate(20, 9, 2019)\n",
    "fecha_final = qcf.QCDate(20, 12, 2019)\n",
    "fecha_pago = qcf.QCDate(20, 12, 2019)\n",
    "fecha_fixing = qcf.QCDate(20, 9, 2019)\n",
    "nominal = 10_000_000.0\n",
    "amort = 1_000_000.0\n",
    "spread = 0.02\n",
    "gearing = 1.0\n",
    "valor_indice_fx = 900.0\n",
    "fecha_publicacion = qcf.QCDate(20, 9, 2019)\n",
    "term_sofr_6m.set_rate_value(0.01)\n",
    "amort_is_cashflow = True"
   ]
  },
  {
   "cell_type": "markdown",
   "metadata": {},
   "source": [
    "Se da de alta el objeto."
   ]
  },
  {
   "cell_type": "code",
   "execution_count": 61,
   "metadata": {
    "execution": {
     "iopub.execute_input": "2024-06-08T12:16:03.421307Z",
     "iopub.status.busy": "2024-06-08T12:16:03.420902Z",
     "iopub.status.idle": "2024-06-08T12:16:03.424566Z",
     "shell.execute_reply": "2024-06-08T12:16:03.424064Z",
     "shell.execute_reply.started": "2024-06-08T12:16:03.421287Z"
    }
   },
   "outputs": [],
   "source": [
    "ibor_mccy_cashflow = qcf.IborMultiCurrencyCashflow(\n",
    "    term_sofr_6m,\n",
    "    fecha_inicio,\n",
    "    fecha_final,\n",
    "    fecha_fixing,\n",
    "    fecha_pago,\n",
    "    nominal,\n",
    "    amort,\n",
    "    amort_is_cashflow,\n",
    "    usd,\n",
    "    spread,\n",
    "    gearing,\n",
    "    fecha_publicacion,\n",
    "    clp,\n",
    "    indice,\n",
    "    valor_indice,\n",
    ")"
   ]
  },
  {
   "cell_type": "markdown",
   "metadata": {},
   "source": [
    "### Getters"
   ]
  },
  {
   "cell_type": "markdown",
   "metadata": {},
   "source": [
    "El objeto `IborMultiCurrencyCashflow` es una subclase de `IborCashflow` y por lo tanto, hereda todos sus métodos y variables."
   ]
  },
  {
   "cell_type": "code",
   "execution_count": 62,
   "metadata": {
    "ExecuteTime": {
     "end_time": "2022-01-21T13:43:03.148668Z",
     "start_time": "2022-01-21T13:43:03.133708Z"
    },
    "execution": {
     "iopub.execute_input": "2024-06-08T12:16:03.425794Z",
     "iopub.status.busy": "2024-06-08T12:16:03.425560Z",
     "iopub.status.idle": "2024-06-08T12:16:03.429898Z",
     "shell.execute_reply": "2024-06-08T12:16:03.429359Z",
     "shell.execute_reply.started": "2024-06-08T12:16:03.425776Z"
    }
   },
   "outputs": [
    {
     "name": "stdout",
     "output_type": "stream",
     "text": [
      "Fecha Fixing:\t 2019-09-20\n",
      "Fecha Inicio:\t 2019-09-20\n",
      "Fecha Final:\t 2019-12-20\n",
      "Fecha Pago:\t 2019-12-20\n",
      "Nominal:\t 10,000,000\n",
      "Amortización:\t 1,000,000\n",
      "Moneda:\t\t USD\n",
      "Valor Tasa:\t 1.00%\n",
      "Valor Spread:\t 2.00%\n"
     ]
    }
   ],
   "source": [
    "print(f\"Fecha Fixing:\\t {ibor_mccy_cashflow.get_fixing_date()}\")\n",
    "print(f\"Fecha Inicio:\\t {ibor_mccy_cashflow.get_start_date()}\")\n",
    "print(f\"Fecha Final:\\t {ibor_mccy_cashflow.get_end_date()}\")\n",
    "print(f\"Fecha Pago:\\t {ibor_mccy_cashflow.get_settlement_date()}\")\n",
    "print(f\"Nominal:\\t {ibor_mccy_cashflow.get_nominal():,.0f}\")\n",
    "print(f\"Amortización:\\t {ibor_mccy_cashflow.get_amortization():,.0f}\")\n",
    "print(f\"Moneda:\\t\\t {ibor_mccy_cashflow.ccy()}\")\n",
    "print(f\"Valor Tasa:\\t {ibor_mccy_cashflow.get_interest_rate_value():.2%}\")\n",
    "print(f\"Valor Spread:\\t {ibor_mccy_cashflow.get_spread():.2%}\")"
   ]
  },
  {
   "cell_type": "markdown",
   "metadata": {},
   "source": [
    "Adicionalmente tenemos:"
   ]
  },
  {
   "cell_type": "code",
   "execution_count": 63,
   "metadata": {
    "execution": {
     "iopub.execute_input": "2024-06-08T12:16:03.431057Z",
     "iopub.status.busy": "2024-06-08T12:16:03.430797Z",
     "iopub.status.idle": "2024-06-08T12:16:03.434745Z",
     "shell.execute_reply": "2024-06-08T12:16:03.434083Z",
     "shell.execute_reply.started": "2024-06-08T12:16:03.431036Z"
    }
   },
   "outputs": [
    {
     "name": "stdout",
     "output_type": "stream",
     "text": [
      "Fecha Fixing FX: 2019-09-20\n",
      "Valor Índice FX: 900.00\n"
     ]
    }
   ],
   "source": [
    "print(f\"Fecha Fixing FX: {ibor_mccy_cashflow.get_fx_fixing_date()}\")\n",
    "print(f\"Valor Índice FX: {ibor_mccy_cashflow.get_fx_rate_index_value():,.2f}\")"
   ]
  },
  {
   "cell_type": "markdown",
   "metadata": {},
   "source": [
    "### Setters"
   ]
  },
  {
   "cell_type": "markdown",
   "metadata": {},
   "source": [
    "Nuevo nominal."
   ]
  },
  {
   "cell_type": "code",
   "execution_count": 64,
   "metadata": {
    "ExecuteTime": {
     "end_time": "2022-01-21T13:43:03.163627Z",
     "start_time": "2022-01-21T13:43:03.149665Z"
    },
    "execution": {
     "iopub.execute_input": "2024-06-08T12:16:03.435662Z",
     "iopub.status.busy": "2024-06-08T12:16:03.435501Z",
     "iopub.status.idle": "2024-06-08T12:16:03.438890Z",
     "shell.execute_reply": "2024-06-08T12:16:03.438385Z",
     "shell.execute_reply.started": "2024-06-08T12:16:03.435645Z"
    }
   },
   "outputs": [
    {
     "name": "stdout",
     "output_type": "stream",
     "text": [
      "Nominal: 2,000,000\n"
     ]
    }
   ],
   "source": [
    "nuevo_nominal = 2_000_000.0\n",
    "ibor_mccy_cashflow.set_nominal(nuevo_nominal)\n",
    "print(f\"Nominal: {ibor_mccy_cashflow.get_nominal():,.0f}\")"
   ]
  },
  {
   "cell_type": "markdown",
   "metadata": {},
   "source": [
    "Nueva amortización."
   ]
  },
  {
   "cell_type": "code",
   "execution_count": 65,
   "metadata": {
    "execution": {
     "iopub.execute_input": "2024-06-08T12:16:03.439917Z",
     "iopub.status.busy": "2024-06-08T12:16:03.439753Z",
     "iopub.status.idle": "2024-06-08T12:16:03.443292Z",
     "shell.execute_reply": "2024-06-08T12:16:03.442668Z",
     "shell.execute_reply.started": "2024-06-08T12:16:03.439899Z"
    }
   },
   "outputs": [
    {
     "name": "stdout",
     "output_type": "stream",
     "text": [
      "Amortización: 200,000\n"
     ]
    }
   ],
   "source": [
    "nueva_amortizacion = 200_000.0\n",
    "ibor_mccy_cashflow.set_amortization(nueva_amortizacion)\n",
    "print(f\"Amortización: {ibor_mccy_cashflow.get_amortization():,.0f}\")"
   ]
  },
  {
   "cell_type": "markdown",
   "metadata": {},
   "source": [
    "Cambia el valor del índice de tasa de interés."
   ]
  },
  {
   "cell_type": "code",
   "execution_count": 66,
   "metadata": {
    "execution": {
     "iopub.execute_input": "2024-06-08T12:16:03.444318Z",
     "iopub.status.busy": "2024-06-08T12:16:03.444091Z",
     "iopub.status.idle": "2024-06-08T12:16:03.447586Z",
     "shell.execute_reply": "2024-06-08T12:16:03.446982Z",
     "shell.execute_reply.started": "2024-06-08T12:16:03.444300Z"
    }
   },
   "outputs": [
    {
     "name": "stdout",
     "output_type": "stream",
     "text": [
      "Valor Tasa: 2.00%\n"
     ]
    }
   ],
   "source": [
    "ibor_mccy_cashflow.set_interest_rate_value(nuevo_valor_indice:=.02)\n",
    "print(f\"Valor Tasa: {ibor_mccy_cashflow.get_interest_rate_value():.2%}\")"
   ]
  },
  {
   "cell_type": "markdown",
   "metadata": {},
   "source": [
    "Nuevo valor para el índice FX."
   ]
  },
  {
   "cell_type": "code",
   "execution_count": 67,
   "metadata": {
    "execution": {
     "iopub.execute_input": "2024-06-08T12:16:03.467531Z",
     "iopub.status.busy": "2024-06-08T12:16:03.467310Z",
     "iopub.status.idle": "2024-06-08T12:16:03.470893Z",
     "shell.execute_reply": "2024-06-08T12:16:03.470186Z",
     "shell.execute_reply.started": "2024-06-08T12:16:03.467511Z"
    }
   },
   "outputs": [
    {
     "name": "stdout",
     "output_type": "stream",
     "text": [
      "Valor Índice FX: 950.00\n"
     ]
    }
   ],
   "source": [
    "ibor_mccy_cashflow.set_fx_rate_index_value(950.0)\n",
    "print(f\"Valor Índice FX: {ibor_mccy_cashflow.get_fx_rate_index_value():,.2f}\")"
   ]
  },
  {
   "cell_type": "markdown",
   "metadata": {},
   "source": [
    "### Cálculos"
   ]
  },
  {
   "cell_type": "markdown",
   "metadata": {},
   "source": [
    "Método `amount`. Retorna el flujo total incluyendo la amortización si corresponde."
   ]
  },
  {
   "cell_type": "code",
   "execution_count": 68,
   "metadata": {
    "ExecuteTime": {
     "end_time": "2022-01-21T13:43:03.179585Z",
     "start_time": "2022-01-21T13:43:03.164625Z"
    },
    "execution": {
     "iopub.execute_input": "2024-06-08T12:16:03.471889Z",
     "iopub.status.busy": "2024-06-08T12:16:03.471719Z",
     "iopub.status.idle": "2024-06-08T12:16:03.475585Z",
     "shell.execute_reply": "2024-06-08T12:16:03.475058Z",
     "shell.execute_reply.started": "2024-06-08T12:16:03.471872Z"
    }
   },
   "outputs": [
    {
     "name": "stdout",
     "output_type": "stream",
     "text": [
      "Flujo: 220,222.22\n",
      "Check: 220,222.22\n"
     ]
    }
   ],
   "source": [
    "print(f\"Flujo: {ibor_mccy_cashflow.amount():,.2f}\")\n",
    "check = ibor_mccy_cashflow.get_nominal() * fecha_inicio.day_diff(fecha_final) / 360.0 * (\n",
    "    ibor_mccy_cashflow.get_interest_rate_value() + spread) + ibor_mccy_cashflow.get_amortization()\n",
    "print(f\"Check: {check:,.2f}\")"
   ]
  },
  {
   "cell_type": "markdown",
   "metadata": {},
   "source": [
    "Método `accrued_interest`. Retorna el interés devengado a una cierta fecha."
   ]
  },
  {
   "cell_type": "code",
   "execution_count": 69,
   "metadata": {
    "execution": {
     "iopub.execute_input": "2024-06-08T12:16:03.476632Z",
     "iopub.status.busy": "2024-06-08T12:16:03.476476Z",
     "iopub.status.idle": "2024-06-08T12:16:03.480697Z",
     "shell.execute_reply": "2024-06-08T12:16:03.479958Z",
     "shell.execute_reply.started": "2024-06-08T12:16:03.476616Z"
    }
   },
   "outputs": [
    {
     "name": "stdout",
     "output_type": "stream",
     "text": [
      "Interés Devengado al 2019-10-20: 6,666.67\n",
      "Check: 6,666.67\n"
     ]
    }
   ],
   "source": [
    "fecha_devengo = qcf.QCDate(20, 10, 2019)\n",
    "print(f\"Interés Devengado al {fecha_devengo}: {ibor_mccy_cashflow.accrued_interest(fecha_devengo):,.2f}\")\n",
    "\n",
    "tasa = ibor_mccy_cashflow.get_interest_rate_value() + ibor_mccy_cashflow.get_spread()\n",
    "\n",
    "check = tasa * fecha_inicio.day_diff(fecha_devengo) / 360.0 * ibor_cashflow.get_nominal()\n",
    "print(f\"Check: {check:,.2f}\")"
   ]
  },
  {
   "cell_type": "markdown",
   "metadata": {},
   "source": [
    "Se agrega el método `accrued_interest_in_sett_ccy` que retorna el interés devengo en moneda de pago. Para utilizarlo se requiere un objeto de tipo `time_series`."
   ]
  },
  {
   "cell_type": "code",
   "execution_count": 70,
   "metadata": {
    "ExecuteTime": {
     "end_time": "2022-01-21T13:43:03.305251Z",
     "start_time": "2022-01-21T13:43:03.290290Z"
    },
    "execution": {
     "iopub.execute_input": "2024-06-08T12:16:03.481828Z",
     "iopub.status.busy": "2024-06-08T12:16:03.481490Z",
     "iopub.status.idle": "2024-06-08T12:16:03.484937Z",
     "shell.execute_reply": "2024-06-08T12:16:03.484327Z",
     "shell.execute_reply.started": "2024-06-08T12:16:03.481807Z"
    }
   },
   "outputs": [],
   "source": [
    "ts[fecha_inicio] = 800.0\n",
    "ts[fecha_devengo] = 950.0"
   ]
  },
  {
   "cell_type": "code",
   "execution_count": 71,
   "metadata": {
    "ExecuteTime": {
     "end_time": "2022-01-21T13:43:03.321207Z",
     "start_time": "2022-01-21T13:43:03.306247Z"
    },
    "execution": {
     "iopub.execute_input": "2024-06-08T12:16:03.485861Z",
     "iopub.status.busy": "2024-06-08T12:16:03.485696Z",
     "iopub.status.idle": "2024-06-08T12:16:03.489530Z",
     "shell.execute_reply": "2024-06-08T12:16:03.488830Z",
     "shell.execute_reply.started": "2024-06-08T12:16:03.485843Z"
    }
   },
   "outputs": [
    {
     "name": "stdout",
     "output_type": "stream",
     "text": [
      "Interés devengado en moneda de pago: 6,333,333\n",
      "Check: 6,333,333\n"
     ]
    }
   ],
   "source": [
    "print(f\"Interés devengado en moneda de pago: {ibor_mccy_cashflow.accrued_interest_in_sett_ccy(fecha_devengo, ts):,.0f}\")\n",
    "print(f\"Check: {check * 950.0:,.0f}\")"
   ]
  },
  {
   "cell_type": "markdown",
   "metadata": {},
   "source": [
    "### Funciones `show` y `get_column_names`"
   ]
  },
  {
   "cell_type": "markdown",
   "metadata": {},
   "source": [
    "Al igual que en casos anteriores, juntando estas dos funciones se obtiene una representación tabular del flujo usando `pandas.DataFrame`."
   ]
  },
  {
   "cell_type": "code",
   "execution_count": 72,
   "metadata": {
    "execution": {
     "iopub.execute_input": "2024-06-08T12:16:03.490780Z",
     "iopub.status.busy": "2024-06-08T12:16:03.490516Z",
     "iopub.status.idle": "2024-06-08T12:16:03.501376Z",
     "shell.execute_reply": "2024-06-08T12:16:03.500743Z",
     "shell.execute_reply.started": "2024-06-08T12:16:03.490761Z"
    }
   },
   "outputs": [
    {
     "data": {
      "text/html": [
       "<style type=\"text/css\">\n",
       "</style>\n",
       "<table id=\"T_ffaca\">\n",
       "  <thead>\n",
       "    <tr>\n",
       "      <th class=\"blank level0\" >&nbsp;</th>\n",
       "      <th id=\"T_ffaca_level0_col0\" class=\"col_heading level0 col0\" >fecha_inicial</th>\n",
       "      <th id=\"T_ffaca_level0_col1\" class=\"col_heading level0 col1\" >fecha_final</th>\n",
       "      <th id=\"T_ffaca_level0_col2\" class=\"col_heading level0 col2\" >fecha_fixing</th>\n",
       "      <th id=\"T_ffaca_level0_col3\" class=\"col_heading level0 col3\" >fecha_pago</th>\n",
       "      <th id=\"T_ffaca_level0_col4\" class=\"col_heading level0 col4\" >nocional</th>\n",
       "      <th id=\"T_ffaca_level0_col5\" class=\"col_heading level0 col5\" >amortizacion</th>\n",
       "      <th id=\"T_ffaca_level0_col6\" class=\"col_heading level0 col6\" >interes</th>\n",
       "      <th id=\"T_ffaca_level0_col7\" class=\"col_heading level0 col7\" >amort_es_flujo</th>\n",
       "      <th id=\"T_ffaca_level0_col8\" class=\"col_heading level0 col8\" >flujo</th>\n",
       "      <th id=\"T_ffaca_level0_col9\" class=\"col_heading level0 col9\" >moneda_nocional</th>\n",
       "      <th id=\"T_ffaca_level0_col10\" class=\"col_heading level0 col10\" >codigo_indice_tasa</th>\n",
       "      <th id=\"T_ffaca_level0_col11\" class=\"col_heading level0 col11\" >spread</th>\n",
       "      <th id=\"T_ffaca_level0_col12\" class=\"col_heading level0 col12\" >gearing</th>\n",
       "      <th id=\"T_ffaca_level0_col13\" class=\"col_heading level0 col13\" >valor_tasa</th>\n",
       "      <th id=\"T_ffaca_level0_col14\" class=\"col_heading level0 col14\" >tipo_tasa</th>\n",
       "      <th id=\"T_ffaca_level0_col15\" class=\"col_heading level0 col15\" >fecha_fixing_fx</th>\n",
       "      <th id=\"T_ffaca_level0_col16\" class=\"col_heading level0 col16\" >moneda_pago</th>\n",
       "      <th id=\"T_ffaca_level0_col17\" class=\"col_heading level0 col17\" >codigo_indice_fx</th>\n",
       "      <th id=\"T_ffaca_level0_col18\" class=\"col_heading level0 col18\" >valor_indice_fx</th>\n",
       "      <th id=\"T_ffaca_level0_col19\" class=\"col_heading level0 col19\" >amortizacion_moneda_pago</th>\n",
       "      <th id=\"T_ffaca_level0_col20\" class=\"col_heading level0 col20\" >interes_moneda_pago</th>\n",
       "    </tr>\n",
       "  </thead>\n",
       "  <tbody>\n",
       "    <tr>\n",
       "      <th id=\"T_ffaca_level0_row0\" class=\"row_heading level0 row0\" >0</th>\n",
       "      <td id=\"T_ffaca_row0_col0\" class=\"data row0 col0\" >2019-09-20</td>\n",
       "      <td id=\"T_ffaca_row0_col1\" class=\"data row0 col1\" >2019-12-20</td>\n",
       "      <td id=\"T_ffaca_row0_col2\" class=\"data row0 col2\" >2019-09-20</td>\n",
       "      <td id=\"T_ffaca_row0_col3\" class=\"data row0 col3\" >2019-12-20</td>\n",
       "      <td id=\"T_ffaca_row0_col4\" class=\"data row0 col4\" >2,000,000.00</td>\n",
       "      <td id=\"T_ffaca_row0_col5\" class=\"data row0 col5\" >200,000.00</td>\n",
       "      <td id=\"T_ffaca_row0_col6\" class=\"data row0 col6\" >20,222.22</td>\n",
       "      <td id=\"T_ffaca_row0_col7\" class=\"data row0 col7\" >True</td>\n",
       "      <td id=\"T_ffaca_row0_col8\" class=\"data row0 col8\" >220,222.22</td>\n",
       "      <td id=\"T_ffaca_row0_col9\" class=\"data row0 col9\" >USD</td>\n",
       "      <td id=\"T_ffaca_row0_col10\" class=\"data row0 col10\" >TERMSOFR6M</td>\n",
       "      <td id=\"T_ffaca_row0_col11\" class=\"data row0 col11\" >2.00%</td>\n",
       "      <td id=\"T_ffaca_row0_col12\" class=\"data row0 col12\" >1.000000</td>\n",
       "      <td id=\"T_ffaca_row0_col13\" class=\"data row0 col13\" >2.00%</td>\n",
       "      <td id=\"T_ffaca_row0_col14\" class=\"data row0 col14\" >LinAct360</td>\n",
       "      <td id=\"T_ffaca_row0_col15\" class=\"data row0 col15\" >2019-09-20</td>\n",
       "      <td id=\"T_ffaca_row0_col16\" class=\"data row0 col16\" >CLP</td>\n",
       "      <td id=\"T_ffaca_row0_col17\" class=\"data row0 col17\" >USDOBS</td>\n",
       "      <td id=\"T_ffaca_row0_col18\" class=\"data row0 col18\" >950.00</td>\n",
       "      <td id=\"T_ffaca_row0_col19\" class=\"data row0 col19\" >190,000,000.00</td>\n",
       "      <td id=\"T_ffaca_row0_col20\" class=\"data row0 col20\" >19,211,111.11</td>\n",
       "    </tr>\n",
       "  </tbody>\n",
       "</table>\n"
      ],
      "text/plain": [
       "<pandas.io.formats.style.Styler at 0x1254e8110>"
      ]
     },
     "execution_count": 72,
     "metadata": {},
     "output_type": "execute_result"
    }
   ],
   "source": [
    "df = pd.DataFrame([qcf.show(ibor_mccy_cashflow)], columns=qcf.get_column_names(ibor_mccy_cashflow.get_type()))\n",
    "df.style.format({\n",
    "    'nocional':'{:,.2f}', \n",
    "    'amortizacion':'{:,.2f}', \n",
    "    'amortizacion_moneda_pago':'{:,.2f}', \n",
    "    'interes':'{:,.2f}',\n",
    "    'interes_moneda_pago':'{:,.2f}',\n",
    "    'flujo':'{:,.2f}',\n",
    "    'flujo_moneda_pago':'{:,.2f}',\n",
    "    'valor_tasa':'{:.2%}',\n",
    "    'spread':'{:.2%}',\n",
    "    'valor_indice_fx':'{:,.2f}',\n",
    "})"
   ]
  },
  {
   "cell_type": "markdown",
   "metadata": {},
   "source": [
    "### Icp Clp Cashflow\n",
    "Un objeto de tipo `IcpClpCashflow` representa un flujo de caja calculado como un cupón de la pata flotante de un swap ICP (cámara promedio) de Chile. Para dar de alta uno de estos objetos se requiere:\n",
    "\n",
    "- `QCDate`: fecha inicio (para la aplicación de la tasa)\n",
    "- `QCDate`: fecha final (para la aplicación de la tasa)\n",
    "- `QCDate`: fecha de pago\n",
    "- `float`: nominal (monto al que se le aplica la tasa)\n",
    "- `float`: amortización (eventual flujo de caja que corresponde a una porción del nominal)\n",
    "- `bool`: indica si la amortización anterior es un flujo de caja o sólo una disminución de nominal\n",
    "- `float`: spread aditivo a aplicar a la fijación de la TNA\n",
    "- `float`: spread multiplicativo o gearing a aplicar a la fijación de la TNA\n",
    "- `float`: el valor del ICP a fecha de inicio (u otro valor arbitrario si el valor es desconocido)\n",
    "- `float`: el valor del ICP a fecha final (u otro valor arbitrario si el valor es desconocido)\n",
    "\n",
    "Recordar que TNA significa **Tasa Nominal Anual** y se determina utilizando los valores del índice ICP en la fecha de inicio y fecha final del `IcpClpCashflow`."
   ]
  },
  {
   "cell_type": "code",
   "execution_count": 73,
   "metadata": {
    "ExecuteTime": {
     "end_time": "2022-01-21T13:43:03.367085Z",
     "start_time": "2022-01-21T13:43:03.352125Z"
    },
    "execution": {
     "iopub.execute_input": "2024-06-08T12:16:03.502468Z",
     "iopub.status.busy": "2024-06-08T12:16:03.502251Z",
     "iopub.status.idle": "2024-06-08T12:16:03.506513Z",
     "shell.execute_reply": "2024-06-08T12:16:03.505911Z",
     "shell.execute_reply.started": "2024-06-08T12:16:03.502449Z"
    }
   },
   "outputs": [],
   "source": [
    "# Ejemplo\n",
    "fecha_inicio = qcf.QCDate(20, 9, 2018)\n",
    "fecha_final = qcf.QCDate(20, 9, 2019)\n",
    "fecha_pago = qcf.QCDate(23, 9, 2019)\n",
    "nominal = 1_000_000_000.0\n",
    "amort = 100_000_000.0\n",
    "spread = 0.0\n",
    "gearing = 1.0\n",
    "icp_clp_cashflow = qcf.IcpClpCashflow(\n",
    "    fecha_inicio,\n",
    "    fecha_final,\n",
    "    fecha_pago,\n",
    "    nominal,\n",
    "    amort,\n",
    "    True,\n",
    "    spread,\n",
    "    gearing,\n",
    "    10_000.0,\n",
    "    10_250.0,\n",
    ")"
   ]
  },
  {
   "cell_type": "code",
   "execution_count": 74,
   "metadata": {
    "ExecuteTime": {
     "end_time": "2022-01-21T13:43:03.382045Z",
     "start_time": "2022-01-21T13:43:03.368083Z"
    },
    "execution": {
     "iopub.execute_input": "2024-06-08T12:16:03.507659Z",
     "iopub.status.busy": "2024-06-08T12:16:03.507376Z",
     "iopub.status.idle": "2024-06-08T12:16:03.512422Z",
     "shell.execute_reply": "2024-06-08T12:16:03.511870Z",
     "shell.execute_reply.started": "2024-06-08T12:16:03.507640Z"
    }
   },
   "outputs": [
    {
     "name": "stdout",
     "output_type": "stream",
     "text": [
      "Fecha Inicio: 2018-09-20\n",
      "Fecha Final: 2019-09-20\n",
      "ICP Fecha Inicio: 10,000.00\n",
      "ICP Fecha Final: 10,250.00\n",
      "Valor TNA Todo el Período: 2.47%\n",
      "Check: 2.47%\n",
      "Nominal: 1,000,000,000\n",
      "Amortización: 100,000,000\n",
      "Tipo de Tasa: LinAct360\n",
      "Moneda: CLP\n"
     ]
    }
   ],
   "source": [
    "# Getters\n",
    "print(\"Fecha Inicio:\", icp_clp_cashflow.get_start_date())\n",
    "print(\"Fecha Final:\", icp_clp_cashflow.get_end_date())\n",
    "print(f\"ICP Fecha Inicio: {icp_clp_cashflow.get_start_date_icp():,.2f}\")\n",
    "print(f\"ICP Fecha Final: {icp_clp_cashflow.get_end_date_icp():,.2f}\")\n",
    "print(f\"Valor TNA Todo el Período: {icp_clp_cashflow.get_rate_value():.2%}\")\n",
    "check = round((10250.0 / 10000 - 1) * 360.0 / fecha_inicio.day_diff(fecha_final), 4)\n",
    "print(f\"Check: {check:.2%}\")\n",
    "print(f\"Nominal: {icp_clp_cashflow.get_nominal():,.0f}\")\n",
    "print(f\"Amortización: {icp_clp_cashflow.get_amortization():,.0f}\")\n",
    "print(\"Tipo de Tasa:\", icp_clp_cashflow.get_type_of_rate())\n",
    "print(\"Moneda:\", icp_clp_cashflow.ccy())"
   ]
  },
  {
   "cell_type": "code",
   "execution_count": 75,
   "metadata": {
    "ExecuteTime": {
     "end_time": "2022-01-21T13:43:03.397004Z",
     "start_time": "2022-01-21T13:43:03.383042Z"
    },
    "execution": {
     "iopub.execute_input": "2024-06-08T12:16:03.513750Z",
     "iopub.status.busy": "2024-06-08T12:16:03.513385Z",
     "iopub.status.idle": "2024-06-08T12:16:03.518569Z",
     "shell.execute_reply": "2024-06-08T12:16:03.518032Z",
     "shell.execute_reply.started": "2024-06-08T12:16:03.513731Z"
    }
   },
   "outputs": [
    {
     "name": "stdout",
     "output_type": "stream",
     "text": [
      "Nueva TNA: 2.4658%\n",
      "Nuevo Nominal: 100.0\n",
      "Nueva Amortización: 10.0\n",
      "Nuevo ICP Inicio: 20,000.00\n",
      "Nuevo ICP Final: 20,600.00\n",
      "Check TNA Final: 2.9589%\n"
     ]
    }
   ],
   "source": [
    "# Setters\n",
    "decimales_para_tna = 6\n",
    "icp_clp_cashflow.set_tna_decimal_places(decimales_para_tna)\n",
    "print(f\"Nueva TNA: {icp_clp_cashflow.get_rate_value():.4%}\")\n",
    "\n",
    "nuevo_nominal = 100\n",
    "icp_clp_cashflow.set_nominal(nuevo_nominal)\n",
    "print(\"Nuevo Nominal:\", icp_clp_cashflow.get_nominal())\n",
    "\n",
    "nueva_amortizacion = 10\n",
    "icp_clp_cashflow.set_amortization(nueva_amortizacion)\n",
    "print(\"Nueva Amortización:\", icp_clp_cashflow.get_amortization())\n",
    "\n",
    "nuevo_icp_inicio = 20_000\n",
    "icp_clp_cashflow.set_start_date_icp(nuevo_icp_inicio)\n",
    "print(f\"Nuevo ICP Inicio: {icp_clp_cashflow.get_start_date_icp():,.2f}\")\n",
    "\n",
    "nuevo_icp_final = 20_600\n",
    "icp_clp_cashflow.set_end_date_icp(nuevo_icp_final)\n",
    "print(f\"Nuevo ICP Final: {icp_clp_cashflow.get_end_date_icp():,.2f}\")\n",
    "print(f\"Check TNA Final: {icp_clp_cashflow.get_rate_value():.4%}\")"
   ]
  },
  {
   "cell_type": "code",
   "execution_count": 76,
   "metadata": {
    "ExecuteTime": {
     "end_time": "2022-01-21T13:43:03.412962Z",
     "start_time": "2022-01-21T13:43:03.398002Z"
    },
    "execution": {
     "iopub.execute_input": "2024-06-08T12:16:03.519760Z",
     "iopub.status.busy": "2024-06-08T12:16:03.519529Z",
     "iopub.status.idle": "2024-06-08T12:16:03.525909Z",
     "shell.execute_reply": "2024-06-08T12:16:03.525142Z",
     "shell.execute_reply.started": "2024-06-08T12:16:03.519740Z"
    }
   },
   "outputs": [
    {
     "name": "stdout",
     "output_type": "stream",
     "text": [
      "Flujo: 13\n",
      "TNA fijada a 29-03-2019: 2.37%\n",
      "Check: 2.37%\n",
      "Interés Devengado al 29-03-2019: 1.2508\n",
      "Check: 1.2508\n"
     ]
    }
   ],
   "source": [
    "# Cálculos\n",
    "decimales_para_tna = 4  # Se vuelve a 4 decimales de tasa\n",
    "icp_clp_cashflow.set_tna_decimal_places(decimales_para_tna)\n",
    "\n",
    "nuevo_icp_inicio = 10_000.0\n",
    "icp_clp_cashflow.set_start_date_icp(nuevo_icp_inicio)\n",
    "\n",
    "nuevo_icp_final = 10_250.0\n",
    "icp_clp_cashflow.set_end_date_icp(nuevo_icp_final)\n",
    "\n",
    "print(f\"Flujo: {icp_clp_cashflow.amount():,.0f}\")\n",
    "\n",
    "fecha_devengo = qcf.QCDate(29, 3, 2019)\n",
    "icp_devengo = 10_125.0\n",
    "tna_devengo = icp_clp_cashflow.get_tna(fecha_devengo, icp_devengo)\n",
    "print(f\"TNA fijada a {fecha_devengo.description(True)}: {tna_devengo:.2%}\")\n",
    "check = round(\n",
    "    (icp_devengo / nuevo_icp_inicio - 1) * 360.0 / fecha_inicio.day_diff(fecha_devengo),\n",
    "    decimales_para_tna,\n",
    ")\n",
    "print(f\"Check: {check:.2%}\")\n",
    "print(f\"Interés Devengado al {fecha_devengo.description(True)}: {icp_clp_cashflow.accrued_interest(fecha_devengo, icp_devengo):,.4f}\")\n",
    "print(f\"Check: {100 * tna_devengo * fecha_inicio.day_diff(fecha_devengo) / 360.0:,.4f}\")"
   ]
  },
  {
   "cell_type": "code",
   "execution_count": 77,
   "metadata": {
    "ExecuteTime": {
     "end_time": "2022-01-21T13:43:03.428919Z",
     "start_time": "2022-01-21T13:43:03.413959Z"
    },
    "execution": {
     "iopub.execute_input": "2024-06-08T12:16:03.526789Z",
     "iopub.status.busy": "2024-06-08T12:16:03.526622Z",
     "iopub.status.idle": "2024-06-08T12:16:03.530190Z",
     "shell.execute_reply": "2024-06-08T12:16:03.529481Z",
     "shell.execute_reply.started": "2024-06-08T12:16:03.526771Z"
    }
   },
   "outputs": [
    {
     "name": "stdout",
     "output_type": "stream",
     "text": [
      "('2018-09-20', '2019-09-20', '2019-09-23', 100.0, 10.0, True, 12.504305555555565, 'CLP', 10000.0, 10250.0, 0.0237, 2.504305555555564, 0.0, 1.0, 'LinAct360')\n"
     ]
    }
   ],
   "source": [
    "print(qcf.show(icp_clp_cashflow))"
   ]
  },
  {
   "cell_type": "code",
   "execution_count": 78,
   "metadata": {
    "execution": {
     "iopub.execute_input": "2024-06-08T12:16:03.531129Z",
     "iopub.status.busy": "2024-06-08T12:16:03.530968Z",
     "iopub.status.idle": "2024-06-08T12:16:03.535047Z",
     "shell.execute_reply": "2024-06-08T12:16:03.534404Z",
     "shell.execute_reply.started": "2024-06-08T12:16:03.531112Z"
    }
   },
   "outputs": [
    {
     "data": {
      "text/plain": [
       "'IcpClpCashflow'"
      ]
     },
     "execution_count": 78,
     "metadata": {},
     "output_type": "execute_result"
    }
   ],
   "source": [
    "icp_clp_cashflow.get_type()"
   ]
  },
  {
   "cell_type": "markdown",
   "metadata": {},
   "source": [
    "### Icp Clp Cashflow 2\n",
    "Un objeto de tipo `IcpClpCashflow2` representa un flujo de caja calculado como un cupón de la pata flotante de un swap ICP (cámara promedio) de Chile. Este tipo de cashflow puede ser *quantizado*, es decir, se puede cambiar su moneda de pago componiéndolo con un objeto adicional. Para dar de alta uno de estos objetos se requiere:\n",
    "\n",
    "- `QCDate`: fecha inicio (para la aplicación de la tasa)\n",
    "- `QCDate`: fecha final (para la aplicación de la tasa)\n",
    "- `QCDate`: fecha de pago\n",
    "- `float`: nominal (monto al que se le aplica la tasa)\n",
    "- `float`: amortización (eventual flujo de caja que corresponde a una porción del nominal)\n",
    "- `bool`: indica si la amortización anterior es un flujo de caja o sólo una disminución de nominal\n",
    "- `float`: spread aditivo a aplicar a la fijación de la TNA\n",
    "- `float`: spread multiplicativo o gearing a aplicar a la fijación de la TNA\n",
    "- `float`: el valor del ICP a fecha de inicio (u otro valor arbitrario si el valor es desconocido)\n",
    "- `float`: el valor del ICP a fecha final (u otro valor arbitrario si el valor es desconocido)\n",
    "\n",
    "Recordar que TNA significa **Tasa Nominal Anual** y se determina utilizando los valores del índice ICP en la fecha de inicio y fecha final del `IcpClpCashflow`."
   ]
  },
  {
   "cell_type": "code",
   "execution_count": 79,
   "metadata": {
    "ExecuteTime": {
     "end_time": "2022-01-21T13:43:03.444877Z",
     "start_time": "2022-01-21T13:43:03.429917Z"
    },
    "execution": {
     "iopub.execute_input": "2024-06-08T12:16:03.536296Z",
     "iopub.status.busy": "2024-06-08T12:16:03.536005Z",
     "iopub.status.idle": "2024-06-08T12:16:03.540218Z",
     "shell.execute_reply": "2024-06-08T12:16:03.539564Z",
     "shell.execute_reply.started": "2024-06-08T12:16:03.536275Z"
    }
   },
   "outputs": [],
   "source": [
    "# Ejemplo\n",
    "fecha_inicio = qcf.QCDate(20, 9, 2018)\n",
    "fecha_final = qcf.QCDate(20, 9, 2019)\n",
    "fecha_pago = qcf.QCDate(23, 9, 2019)\n",
    "nominal = 1_000_000_000.0\n",
    "amort = 100_000_000.0\n",
    "spread = 0.0\n",
    "gearing = 1.0\n",
    "icp_clp_cashflow2 = qcf.IcpClpCashflow2(\n",
    "    fecha_inicio,\n",
    "    fecha_final,\n",
    "    fecha_pago,\n",
    "    nominal,\n",
    "    amort,\n",
    "    True,\n",
    "    spread,\n",
    "    gearing,\n",
    "    True,\n",
    "    10_000.0,\n",
    "    10_250.0,\n",
    ")"
   ]
  },
  {
   "cell_type": "code",
   "execution_count": 80,
   "metadata": {
    "ExecuteTime": {
     "end_time": "2022-01-21T13:43:03.460835Z",
     "start_time": "2022-01-21T13:43:03.445874Z"
    },
    "execution": {
     "iopub.execute_input": "2024-06-08T12:16:03.541278Z",
     "iopub.status.busy": "2024-06-08T12:16:03.541081Z",
     "iopub.status.idle": "2024-06-08T12:16:03.546456Z",
     "shell.execute_reply": "2024-06-08T12:16:03.545747Z",
     "shell.execute_reply.started": "2024-06-08T12:16:03.541260Z"
    }
   },
   "outputs": [
    {
     "name": "stdout",
     "output_type": "stream",
     "text": [
      "Fecha Inicio: 2018-09-20\n",
      "Fecha Final: 2019-09-20\n",
      "ICP Fecha Inicio: 10,000.00\n",
      "ICP Fecha Final: 10,250.00\n",
      "\n",
      "Valor TNA Todo el Período: 2.47%\n",
      "Check: 2.47%\n",
      "\n",
      "Nominal: 1,000,000,000\n",
      "Amortización: 100,000,000\n",
      "Tipo de Tasa: LinAct360\n",
      "Moneda: CLP\n"
     ]
    }
   ],
   "source": [
    "# Getters\n",
    "print(\"Fecha Inicio:\", icp_clp_cashflow2.get_start_date())\n",
    "print(\"Fecha Final:\", icp_clp_cashflow2.get_end_date())\n",
    "print(f\"ICP Fecha Inicio: {icp_clp_cashflow2.get_start_date_icp():,.2f}\")\n",
    "print(f\"ICP Fecha Final: {icp_clp_cashflow2.get_end_date_icp():,.2f}\")\n",
    "\n",
    "print()\n",
    "print(f\"Valor TNA Todo el Período: {icp_clp_cashflow2.get_rate_value():.2%}\")\n",
    "check = round((10250.0 / 10000 - 1) * 360.0 / fecha_inicio.day_diff(fecha_final), 4)\n",
    "print(f\"Check: {check:.2%}\")\n",
    "print()\n",
    "\n",
    "print(f\"Nominal: {icp_clp_cashflow2.get_nominal():,.0f}\")\n",
    "print(f\"Amortización: {icp_clp_cashflow2.get_amortization():,.0f}\")\n",
    "print(\"Tipo de Tasa:\", icp_clp_cashflow2.get_type_of_rate())\n",
    "print(\"Moneda:\", icp_clp_cashflow2.ccy())"
   ]
  },
  {
   "cell_type": "code",
   "execution_count": 81,
   "metadata": {
    "ExecuteTime": {
     "end_time": "2022-01-21T13:43:03.475794Z",
     "start_time": "2022-01-21T13:43:03.462829Z"
    },
    "execution": {
     "iopub.execute_input": "2024-06-08T12:16:03.547473Z",
     "iopub.status.busy": "2024-06-08T12:16:03.547303Z",
     "iopub.status.idle": "2024-06-08T12:16:03.552460Z",
     "shell.execute_reply": "2024-06-08T12:16:03.551875Z",
     "shell.execute_reply.started": "2024-06-08T12:16:03.547455Z"
    }
   },
   "outputs": [
    {
     "name": "stdout",
     "output_type": "stream",
     "text": [
      "Nueva TNA: 2.4658%\n",
      "Nuevo Nominal: 100\n",
      "Nueva Amortización: 10\n",
      "Nuevo ICP Inicio: 20,000.00\n",
      "Nuevo ICP Final: 20,000.00\n",
      "Check TNA Final: 0.0000%\n"
     ]
    }
   ],
   "source": [
    "# Setters\n",
    "decimales_para_tna = 6\n",
    "icp_clp_cashflow2.set_tna_decimal_places(decimales_para_tna)\n",
    "print(f\"Nueva TNA: {icp_clp_cashflow2.get_rate_value():.4%}\")\n",
    "\n",
    "nuevo_nominal = 100\n",
    "icp_clp_cashflow2.set_nominal(nuevo_nominal)\n",
    "print(f\"Nuevo Nominal: {icp_clp_cashflow2.get_nominal():,.0f}\")\n",
    "\n",
    "nueva_amortizacion = 10\n",
    "icp_clp_cashflow2.set_amortization(nueva_amortizacion)\n",
    "print(f\"Nueva Amortización: {icp_clp_cashflow2.get_amortization():,.0f}\")\n",
    "\n",
    "nuevo_icp_inicio = 20_000.0\n",
    "icp_clp_cashflow2.set_start_date_icp(nuevo_icp_inicio)\n",
    "print(f\"Nuevo ICP Inicio: {icp_clp_cashflow2.get_start_date_icp():,.2f}\")\n",
    "\n",
    "nuevo_icp_final = 20_000.0\n",
    "icp_clp_cashflow2.set_end_date_icp(nuevo_icp_final)\n",
    "print(f\"Nuevo ICP Final: {icp_clp_cashflow2.get_end_date_icp():,.2f}\")\n",
    "print(f\"Check TNA Final: {icp_clp_cashflow2.get_rate_value():.4%}\")"
   ]
  },
  {
   "cell_type": "code",
   "execution_count": 82,
   "metadata": {
    "ExecuteTime": {
     "end_time": "2022-01-21T13:43:03.491752Z",
     "start_time": "2022-01-21T13:43:03.477789Z"
    },
    "execution": {
     "iopub.execute_input": "2024-06-08T12:16:03.553366Z",
     "iopub.status.busy": "2024-06-08T12:16:03.553203Z",
     "iopub.status.idle": "2024-06-08T12:16:03.559179Z",
     "shell.execute_reply": "2024-06-08T12:16:03.558635Z",
     "shell.execute_reply.started": "2024-06-08T12:16:03.553348Z"
    }
   },
   "outputs": [
    {
     "name": "stdout",
     "output_type": "stream",
     "text": [
      "Flujo: 12.50\n",
      "\n",
      "TNA fijada al 29-03-2019: 2.37%\n",
      "Check: 2.37%\n",
      "\n",
      "Interés Devengado al 29-03-2019: 1.250833\n",
      "Check: 1.250833\n"
     ]
    }
   ],
   "source": [
    "# Cálculos\n",
    "decimales_para_tna = 4  # Se vuelve a 4 decimales de tasa\n",
    "icp_clp_cashflow2.set_tna_decimal_places(decimales_para_tna)\n",
    "\n",
    "nuevo_icp_inicio = 10_000.0\n",
    "icp_clp_cashflow2.set_start_date_icp(nuevo_icp_inicio)\n",
    "\n",
    "nuevo_icp_final = 10_250.0\n",
    "icp_clp_cashflow2.set_end_date_icp(nuevo_icp_final)\n",
    "\n",
    "print(f\"Flujo: {icp_clp_cashflow2.amount():,.2f}\")\n",
    "print()\n",
    "\n",
    "fecha_devengo = qcf.QCDate(29, 3, 2019)\n",
    "icp_devengo = 10_125.0\n",
    "tna_devengo = icp_clp_cashflow2.get_tna(fecha_devengo, icp_devengo)\n",
    "print(f\"TNA fijada al {fecha_devengo.description(True)}: {tna_devengo:.2%}\")\n",
    "check = round((icp_devengo / nuevo_icp_inicio - 1) * 360.0 / fecha_inicio.day_diff(fecha_devengo), decimales_para_tna)\n",
    "print(f\"Check: {check:.2%}\")\n",
    "print()\n",
    "\n",
    "data = qcf.time_series()\n",
    "data[fecha_devengo] = icp_devengo\n",
    "print(f\"Interés Devengado al {fecha_devengo.description(True)}: {icp_clp_cashflow2.accrued_interest(fecha_devengo, data):,.6f}\")\n",
    "check = 100 * tna_devengo * fecha_inicio.day_diff(fecha_devengo) / 360.0\n",
    "print(f\"Check: {check:,.6f}\")"
   ]
  },
  {
   "cell_type": "code",
   "execution_count": 83,
   "metadata": {
    "ExecuteTime": {
     "end_time": "2022-01-21T13:43:03.506711Z",
     "start_time": "2022-01-21T13:43:03.492748Z"
    },
    "execution": {
     "iopub.execute_input": "2024-06-08T12:16:03.560531Z",
     "iopub.status.busy": "2024-06-08T12:16:03.560276Z",
     "iopub.status.idle": "2024-06-08T12:16:03.563563Z",
     "shell.execute_reply": "2024-06-08T12:16:03.563019Z",
     "shell.execute_reply.started": "2024-06-08T12:16:03.560512Z"
    }
   },
   "outputs": [
    {
     "name": "stdout",
     "output_type": "stream",
     "text": [
      "('2018-09-20', '2019-09-20', '2019-09-23', 100.0, 10.0, True, 12.499999999999991, 'CLP', 10000.0, 10250.0, 0.0247, 2.504305555555564, 0.0, 1.0, 'LinAct360')\n"
     ]
    }
   ],
   "source": [
    "print(qcf.show(icp_clp_cashflow2))"
   ]
  },
  {
   "cell_type": "code",
   "execution_count": 84,
   "metadata": {
    "execution": {
     "iopub.execute_input": "2024-06-08T12:16:03.564678Z",
     "iopub.status.busy": "2024-06-08T12:16:03.564466Z",
     "iopub.status.idle": "2024-06-08T12:16:03.568532Z",
     "shell.execute_reply": "2024-06-08T12:16:03.567973Z",
     "shell.execute_reply.started": "2024-06-08T12:16:03.564656Z"
    }
   },
   "outputs": [
    {
     "data": {
      "text/plain": [
       "'IcpClpCashflow'"
      ]
     },
     "execution_count": 84,
     "metadata": {},
     "output_type": "execute_result"
    }
   ],
   "source": [
    "icp_clp_cashflow2.get_type()"
   ]
  },
  {
   "cell_type": "markdown",
   "metadata": {},
   "source": [
    "## Overnight Index Cashflow"
   ]
  },
  {
   "cell_type": "markdown",
   "metadata": {},
   "source": [
    "Un objeto de tipo `OvernightIndexCashflow` representa un flujo de caja del tipo de la pata flotante de un swap ICP (cámara promedio) de Chile usando cualquier tipo de índice similar (por ejemplo SOFRINDX) y cualquier moneda. Adicionalmente, permite definir en forma independiente a `start_date` y `end_date` las fechas inicial y final utilizadas para los valores del índice. Esto puede resultar útil cuando una de estas operaciones se utiliza para cubrir créditos o bonos a tasa fija. Para dar de alta uno de estos objetos se requiere:\n",
    "\n",
    "- `QCDate`: fecha inicio devengo (para la aplicación de la tasa)\n",
    "- `QCDate`: fecha final devengo (para la aplicación de la tasa)\n",
    "- `QCDate`: fecha inicio índice (para el valor del índice)\n",
    "- `QCDate`: fecha final índice (para el valor del índice)\n",
    "- `QCDate`: fecha de pago\n",
    "- `QCCurrency`: moneda del nocional\n",
    "- `float`: nocional (monto al que se le aplica la tasa)\n",
    "- `float`: amortización (eventual flujo de caja que corresponde a una porción del nominal)\n",
    "- `bool`: indica si la amortización anterior es un flujo de caja o sólo una disminución de nominal\n",
    "- `float`: spread aditivo a aplicar a la fijación de la tasa equivalente (TNA en el caso de un ICPCLP)\n",
    "- `float`: spread multiplicativo o gearing a aplicar a la fijación de la tasa equivalente\n",
    "- `QCInterestRate`: con este objeto se especifica en qué convención se calcula la tasa equivalente\n",
    "- `string`: nombre del índice overnight a utilizar\n",
    "- `unsigned int`: número de decimales a utilizar para determinar la tasa equivalente\n",
    "- `DatesForEquivalentRate`: enum que indica qué fechas se utilizan en el cálculo de la tasa equivalente."
   ]
  },
  {
   "cell_type": "markdown",
   "metadata": {},
   "source": [
    "### Construcción"
   ]
  },
  {
   "cell_type": "markdown",
   "metadata": {},
   "source": [
    "Alta de parámetros iniciales."
   ]
  },
  {
   "cell_type": "code",
   "execution_count": 85,
   "metadata": {
    "ExecuteTime": {
     "end_time": "2022-01-21T13:43:03.444877Z",
     "start_time": "2022-01-21T13:43:03.429917Z"
    },
    "execution": {
     "iopub.execute_input": "2024-06-08T12:16:03.569633Z",
     "iopub.status.busy": "2024-06-08T12:16:03.569430Z",
     "iopub.status.idle": "2024-06-08T12:16:03.574535Z",
     "shell.execute_reply": "2024-06-08T12:16:03.573991Z",
     "shell.execute_reply.started": "2024-06-08T12:16:03.569614Z"
    }
   },
   "outputs": [],
   "source": [
    "# Fecha inicio de devengo es un domingo\n",
    "fecha_inicio_devengo = qcf.QCDate(12, 11, 2023)\n",
    "\n",
    "# Fecha final de devengo es sábado\n",
    "fecha_final_devengo = qcf.QCDate(18, 11, 2023)\n",
    "\n",
    "# Estas fechas deben corresponder a días hábiles\n",
    "# En ambos casos vamos a la fecha hábil siguiente\n",
    "fecha_inicio_indice = qcf.QCDate(13, 11, 2023)\n",
    "fecha_final_indice = qcf.QCDate(20, 11, 2023)\n",
    "\n",
    "# La fecha de pago es el lunes siguiente\n",
    "fecha_pago = qcf.QCDate(20, 11, 2023)\n",
    "\n",
    "# Se usan las fechas de inicio y fin de devengo para\n",
    "# el cálculo de la tasa equivalente\n",
    "dates_for_eq_rate = qcf.DatesForEquivalentRate.ACCRUAL\n",
    "\n",
    "moneda_nocional = qcf.QCUSD()\n",
    "nocional = 1_000_000_000.0\n",
    "amort = 100_000_000.0\n",
    "amort_es_flujo = True\n",
    "spread = 0.0\n",
    "gearing = 1.0\n",
    "tasa = qcf.QCInterestRate(0.0, qcf.QCAct360(), qcf.QCLinearWf())\n",
    "nombre_indice = 'INDICE'\n",
    "num_decimales = 8\n",
    "valor_indice_inicio = 1.0\n",
    "valor_indice_final = 1 + .1234 * 4 / 360 # Suponemos un valor constante de 10% por 4 días del índice"
   ]
  },
  {
   "cell_type": "markdown",
   "metadata": {},
   "source": [
    "Se da de alta el objeto."
   ]
  },
  {
   "cell_type": "code",
   "execution_count": 86,
   "metadata": {
    "execution": {
     "iopub.execute_input": "2024-06-08T12:16:03.575443Z",
     "iopub.status.busy": "2024-06-08T12:16:03.575278Z",
     "iopub.status.idle": "2024-06-08T12:16:03.579092Z",
     "shell.execute_reply": "2024-06-08T12:16:03.578456Z",
     "shell.execute_reply.started": "2024-06-08T12:16:03.575426Z"
    }
   },
   "outputs": [],
   "source": [
    "overnight_index_cashflow = qcf.OvernightIndexCashflow(\n",
    "    fecha_inicio_devengo,\n",
    "    fecha_final_devengo,\n",
    "    fecha_inicio_indice,\n",
    "    fecha_final_indice,\n",
    "    fecha_pago,\n",
    "    moneda_nocional,\n",
    "    nocional,\n",
    "    amort,\n",
    "    amort_es_flujo,\n",
    "    spread,\n",
    "    gearing,\n",
    "    tasa,\n",
    "    nombre_indice,\n",
    "    num_decimales,\n",
    "    dates_for_eq_rate,\n",
    ")"
   ]
  },
  {
   "cell_type": "markdown",
   "metadata": {
    "execution": {
     "iopub.execute_input": "2023-11-14T15:03:37.114645Z",
     "iopub.status.busy": "2023-11-14T15:03:37.114223Z",
     "iopub.status.idle": "2023-11-14T15:03:37.117758Z",
     "shell.execute_reply": "2023-11-14T15:03:37.117154Z",
     "shell.execute_reply.started": "2023-11-14T15:03:37.114618Z"
    }
   },
   "source": [
    "### Getters"
   ]
  },
  {
   "cell_type": "code",
   "execution_count": 87,
   "metadata": {
    "ExecuteTime": {
     "end_time": "2022-01-21T13:43:03.460835Z",
     "start_time": "2022-01-21T13:43:03.445874Z"
    },
    "execution": {
     "iopub.execute_input": "2024-06-08T12:16:03.579962Z",
     "iopub.status.busy": "2024-06-08T12:16:03.579793Z",
     "iopub.status.idle": "2024-06-08T12:16:03.587345Z",
     "shell.execute_reply": "2024-06-08T12:16:03.586277Z",
     "shell.execute_reply.started": "2024-06-08T12:16:03.579945Z"
    }
   },
   "outputs": [
    {
     "name": "stdout",
     "output_type": "stream",
     "text": [
      "Type of Cashflow: OvernightIndexCashflow\n",
      "Nominal: 1,000,000,000\n",
      "Amortización: 100,000,000\n",
      "Fecha Inicio Devengo: 2023-11-12\n",
      "Fecha Final Devengo: 2023-11-18\n",
      "Fecha Inicio Índice: 2023-11-13\n",
      "Fecha Final Índice: 2023-11-20\n",
      "Fecha Pago: 2023-11-20\n",
      "Valor Índice Fecha Inicio: 1.00000000\n",
      "Valor ïndice Fecha Final: 1.00000000\n",
      "Valor Tasa Eq: 0.0000%\n",
      "Tipo de Tasa: LinAct360\n",
      "Moneda: USD\n"
     ]
    }
   ],
   "source": [
    "print(f\"Type of Cashflow: {overnight_index_cashflow.get_type()}\")\n",
    "print(f\"Nominal: {overnight_index_cashflow.get_nominal():,.0f}\")\n",
    "print(f\"Amortización: {overnight_index_cashflow.get_amortization():,.0f}\")\n",
    "print(f\"Fecha Inicio Devengo: {overnight_index_cashflow.get_start_date()}\")\n",
    "print(f\"Fecha Final Devengo: {overnight_index_cashflow.get_end_date()}\")\n",
    "print(f\"Fecha Inicio Índice: {overnight_index_cashflow.get_index_start_date()}\")\n",
    "print(f\"Fecha Final Índice: {overnight_index_cashflow.get_index_end_date()}\")\n",
    "print(f\"Fecha Pago: {overnight_index_cashflow.get_settlement_date()}\")\n",
    "print(f\"Valor Índice Fecha Inicio: {overnight_index_cashflow.get_start_date_index():,.8f}\")\n",
    "print(f\"Valor ïndice Fecha Final: {overnight_index_cashflow.get_end_date_index():,.8f}\")\n",
    "print(f\"Valor Tasa Eq: {overnight_index_cashflow.get_rate_value():.4%}\")\n",
    "print(f\"Tipo de Tasa: {overnight_index_cashflow.get_type_of_rate()}\")\n",
    "print(f\"Moneda: {overnight_index_cashflow.ccy()}\")"
   ]
  },
  {
   "cell_type": "markdown",
   "metadata": {},
   "source": [
    "### Setters"
   ]
  },
  {
   "cell_type": "markdown",
   "metadata": {},
   "source": [
    "Se fijan los valores inicial y final del índice."
   ]
  },
  {
   "cell_type": "code",
   "execution_count": 88,
   "metadata": {
    "execution": {
     "iopub.execute_input": "2024-06-08T12:16:03.589036Z",
     "iopub.status.busy": "2024-06-08T12:16:03.588721Z",
     "iopub.status.idle": "2024-06-08T12:16:03.593230Z",
     "shell.execute_reply": "2024-06-08T12:16:03.592646Z",
     "shell.execute_reply.started": "2024-06-08T12:16:03.589007Z"
    }
   },
   "outputs": [
    {
     "name": "stdout",
     "output_type": "stream",
     "text": [
      "Valor Índice Fecha Inicio: 10,000.00\n",
      "Valor ïndice Fecha Final: 10,009.96\n"
     ]
    }
   ],
   "source": [
    "valor_indice_inicio = 10_000.0\n",
    "overnight_index_cashflow.set_start_date_index(valor_indice_inicio)\n",
    "print(f\"Valor Índice Fecha Inicio: {overnight_index_cashflow.get_start_date_index():,.2f}\")\n",
    "\n",
    "valor_indice_final = 10_000.0 * (1 + .051234 * 7 / 360.0)\n",
    "overnight_index_cashflow.set_end_date_index(valor_indice_final)\n",
    "print(f\"Valor ïndice Fecha Final: {overnight_index_cashflow.get_end_date_index():,.2f}\")"
   ]
  },
  {
   "cell_type": "markdown",
   "metadata": {},
   "source": [
    "Decimales para el cálculo de la tasa equivalente."
   ]
  },
  {
   "cell_type": "code",
   "execution_count": 89,
   "metadata": {
    "ExecuteTime": {
     "end_time": "2022-01-21T13:43:03.475794Z",
     "start_time": "2022-01-21T13:43:03.462829Z"
    },
    "execution": {
     "iopub.execute_input": "2024-06-08T12:16:03.594755Z",
     "iopub.status.busy": "2024-06-08T12:16:03.594084Z",
     "iopub.status.idle": "2024-06-08T12:16:03.598124Z",
     "shell.execute_reply": "2024-06-08T12:16:03.597390Z",
     "shell.execute_reply.started": "2024-06-08T12:16:03.594734Z"
    }
   },
   "outputs": [
    {
     "name": "stdout",
     "output_type": "stream",
     "text": [
      "Nueva Tasa Eq: 5.9800%\n"
     ]
    }
   ],
   "source": [
    "decimales_para_tasa_eq = 4\n",
    "overnight_index_cashflow.set_eq_rate_decimal_places(decimales_para_tasa_eq)\n",
    "print(f\"Nueva Tasa Eq: {overnight_index_cashflow.get_rate_value():.4%}\")"
   ]
  },
  {
   "cell_type": "code",
   "execution_count": 90,
   "metadata": {
    "execution": {
     "iopub.execute_input": "2024-06-08T12:16:03.599326Z",
     "iopub.status.busy": "2024-06-08T12:16:03.599051Z",
     "iopub.status.idle": "2024-06-08T12:16:03.602611Z",
     "shell.execute_reply": "2024-06-08T12:16:03.602090Z",
     "shell.execute_reply.started": "2024-06-08T12:16:03.599306Z"
    }
   },
   "outputs": [
    {
     "name": "stdout",
     "output_type": "stream",
     "text": [
      "Nueva Tasa Eq: 5.9773%\n"
     ]
    }
   ],
   "source": [
    "decimales_para_tasa_eq = 6\n",
    "overnight_index_cashflow.set_eq_rate_decimal_places(decimales_para_tasa_eq)\n",
    "print(f\"Nueva Tasa Eq: {overnight_index_cashflow.get_rate_value():.4%}\")"
   ]
  },
  {
   "cell_type": "markdown",
   "metadata": {},
   "source": [
    "Nuevo nocional."
   ]
  },
  {
   "cell_type": "code",
   "execution_count": 91,
   "metadata": {
    "execution": {
     "iopub.execute_input": "2024-06-08T12:16:03.603799Z",
     "iopub.status.busy": "2024-06-08T12:16:03.603568Z",
     "iopub.status.idle": "2024-06-08T12:16:03.607057Z",
     "shell.execute_reply": "2024-06-08T12:16:03.606376Z",
     "shell.execute_reply.started": "2024-06-08T12:16:03.603780Z"
    }
   },
   "outputs": [
    {
     "name": "stdout",
     "output_type": "stream",
     "text": [
      "Nuevo Nocional: 123,456.00\n"
     ]
    }
   ],
   "source": [
    "new_notional = 123_456\n",
    "overnight_index_cashflow.set_nominal(new_notional)\n",
    "print(f\"Nuevo Nocional: {overnight_index_cashflow.get_nominal():,.2f}\")"
   ]
  },
  {
   "cell_type": "markdown",
   "metadata": {},
   "source": [
    "Nueva amortización."
   ]
  },
  {
   "cell_type": "code",
   "execution_count": 92,
   "metadata": {
    "execution": {
     "iopub.execute_input": "2024-06-08T12:16:03.608053Z",
     "iopub.status.busy": "2024-06-08T12:16:03.607854Z",
     "iopub.status.idle": "2024-06-08T12:16:03.611373Z",
     "shell.execute_reply": "2024-06-08T12:16:03.610756Z",
     "shell.execute_reply.started": "2024-06-08T12:16:03.608034Z"
    }
   },
   "outputs": [
    {
     "name": "stdout",
     "output_type": "stream",
     "text": [
      "Nueva Amortización: 100,000.00\n"
     ]
    }
   ],
   "source": [
    "new_amortization = 100_000\n",
    "overnight_index_cashflow.set_amortization(new_amortization)\n",
    "print(f\"Nueva Amortización: {overnight_index_cashflow.get_amortization():,.2f}\")"
   ]
  },
  {
   "cell_type": "markdown",
   "metadata": {},
   "source": [
    "### Cálculos"
   ]
  },
  {
   "cell_type": "markdown",
   "metadata": {},
   "source": [
    "Tasa equivalente del período."
   ]
  },
  {
   "cell_type": "code",
   "execution_count": 93,
   "metadata": {
    "execution": {
     "iopub.execute_input": "2024-06-08T12:16:03.612164Z",
     "iopub.status.busy": "2024-06-08T12:16:03.612007Z",
     "iopub.status.idle": "2024-06-08T12:16:03.615750Z",
     "shell.execute_reply": "2024-06-08T12:16:03.615189Z",
     "shell.execute_reply.started": "2024-06-08T12:16:03.612147Z"
    }
   },
   "outputs": [
    {
     "name": "stdout",
     "output_type": "stream",
     "text": [
      "Valor Tasa Equivalente Todo el Período: 5.977300%\n",
      "Check: 5.977300%\n"
     ]
    }
   ],
   "source": [
    "print(f\"Valor Tasa Equivalente Todo el Período: {overnight_index_cashflow.get_rate_value():.6%}\")\n",
    "check = round((\n",
    "    valor_indice_final / valor_indice_inicio - 1\n",
    ") * 360.0 / fecha_inicio_devengo.day_diff(fecha_final_devengo), decimales_para_tasa_eq)\n",
    "print(f\"Check: {check:.6%}\")"
   ]
  },
  {
   "cell_type": "markdown",
   "metadata": {},
   "source": [
    "Se cambian las fechas utilizadas para el cálculo de la tasa equivalente."
   ]
  },
  {
   "cell_type": "code",
   "execution_count": 94,
   "metadata": {
    "execution": {
     "iopub.execute_input": "2024-06-08T12:16:03.616963Z",
     "iopub.status.busy": "2024-06-08T12:16:03.616644Z",
     "iopub.status.idle": "2024-06-08T12:16:03.620502Z",
     "shell.execute_reply": "2024-06-08T12:16:03.619895Z",
     "shell.execute_reply.started": "2024-06-08T12:16:03.616944Z"
    }
   },
   "outputs": [
    {
     "name": "stdout",
     "output_type": "stream",
     "text": [
      "Valor Tasa Equivalente Todo el Período: 5.123400%\n",
      "Check: 5.123400%\n"
     ]
    }
   ],
   "source": [
    "overnight_index_cashflow.set_dates_for_eq_rate(qcf.DatesForEquivalentRate.INDEX)\n",
    "print(f\"Valor Tasa Equivalente Todo el Período: {overnight_index_cashflow.get_rate_value():.6%}\")\n",
    "check = round((\n",
    "    valor_indice_final / valor_indice_inicio - 1\n",
    ") * 360.0 / fecha_inicio_indice.day_diff(fecha_final_indice), decimales_para_tasa_eq)\n",
    "print(f\"Check: {check:.6%}\")"
   ]
  },
  {
   "cell_type": "markdown",
   "metadata": {},
   "source": [
    "Método `accrued_interest`. Este método tiene dos sobrecargas. En la primera, el valor del índice se entrega explícitamente. En el ejemplo se utilizan las dos opciones para el parámetro `dates_for_eq_rate`."
   ]
  },
  {
   "cell_type": "code",
   "execution_count": 95,
   "metadata": {
    "execution": {
     "iopub.execute_input": "2024-06-08T12:16:03.621654Z",
     "iopub.status.busy": "2024-06-08T12:16:03.621382Z",
     "iopub.status.idle": "2024-06-08T12:16:03.626851Z",
     "shell.execute_reply": "2024-06-08T12:16:03.626326Z",
     "shell.execute_reply.started": "2024-06-08T12:16:03.621635Z"
    }
   },
   "outputs": [
    {
     "name": "stdout",
     "output_type": "stream",
     "text": [
      "Interés devengado (dates_for_eq_rate = ACCRUAL):  569,263.8889\n",
      "Check: 569,263.8889\n",
      "\n",
      "Interés devengado (dates_for_eq_rate = INDEX):  711,583.3333\n",
      "Check: 711,583.3333\n"
     ]
    }
   ],
   "source": [
    "# Volvemos el nocional y la amortización al valor inicial\n",
    "overnight_index_cashflow.set_nominal(nocional)\n",
    "overnight_index_cashflow.set_amortization(amort)\n",
    "\n",
    "fecha_devengo = qcf.QCDate(17, 11, 2023)\n",
    "valor_indice_devengo = 10_000.0 * (1 + .051234 * 4 / 360)\n",
    "\n",
    "overnight_index_cashflow.set_dates_for_eq_rate(qcf.DatesForEquivalentRate.ACCRUAL)\n",
    "print(f\"Interés devengado (dates_for_eq_rate = ACCRUAL): {overnight_index_cashflow.accrued_interest(fecha_devengo, valor_indice_devengo): ,.4f}\")\n",
    "tasa = round((\n",
    "    valor_indice_devengo / valor_indice_inicio - 1\n",
    ") * 360.0 / fecha_inicio_devengo.day_diff(fecha_devengo), decimales_para_tasa_eq)\n",
    "print(f\"Check: {nocional * fecha_inicio_devengo.day_diff(fecha_devengo) * tasa / 360.0:,.4f}\\n\")\n",
    "\n",
    "overnight_index_cashflow.set_dates_for_eq_rate(qcf.DatesForEquivalentRate.INDEX)\n",
    "print(f\"Interés devengado (dates_for_eq_rate = INDEX): {overnight_index_cashflow.accrued_interest(fecha_devengo, valor_indice_devengo): ,.4f}\")\n",
    "tasa = round((\n",
    "    valor_indice_devengo / valor_indice_inicio - 1\n",
    ") * 360.0 / fecha_inicio_indice.day_diff(fecha_devengo), decimales_para_tasa_eq)\n",
    "print(f\"Check: {nocional * fecha_inicio_devengo.day_diff(fecha_devengo) * tasa / 360.0:,.4f}\")"
   ]
  },
  {
   "cell_type": "markdown",
   "metadata": {},
   "source": [
    "La segunda sobrecarga de `accrued_interest` permite empaquetar el valor del índice a fecha de devengo en un objeto de tipo `time_series`."
   ]
  },
  {
   "cell_type": "code",
   "execution_count": 96,
   "metadata": {
    "execution": {
     "iopub.execute_input": "2024-06-08T12:16:03.627853Z",
     "iopub.status.busy": "2024-06-08T12:16:03.627690Z",
     "iopub.status.idle": "2024-06-08T12:16:03.633780Z",
     "shell.execute_reply": "2024-06-08T12:16:03.633068Z",
     "shell.execute_reply.started": "2024-06-08T12:16:03.627836Z"
    }
   },
   "outputs": [
    {
     "name": "stdout",
     "output_type": "stream",
     "text": [
      "Interés devengado (dates_for_eq_rate = ACCRUAL):  569,263.8889\n",
      "Check: 569,263.8889\n",
      "\n",
      "Interés devengado (dates_for_eq_rate = INDEX):  711,583.3333\n",
      "Check: 711,583.3333\n",
      "\n"
     ]
    }
   ],
   "source": [
    "data = qcf.time_series()\n",
    "data[fecha_devengo] = valor_indice_devengo\n",
    "\n",
    "overnight_index_cashflow.set_dates_for_eq_rate(qcf.DatesForEquivalentRate.ACCRUAL)\n",
    "\n",
    "# El segundo parámetro de accrued_interest es ahora data\n",
    "print(f\"Interés devengado (dates_for_eq_rate = ACCRUAL): {overnight_index_cashflow.accrued_interest(fecha_devengo, data): ,.4f}\")\n",
    "\n",
    "# En este caso, en los dias para el cálculo de la tasa equivalente\n",
    "# coinciden con los días de devengo, aunque cualquiera de las dos\n",
    "# fechas de devengo sea inhábil.\n",
    "dias_calculo_tasa_eq = fecha_inicio_devengo.day_diff(fecha_devengo)\n",
    "tasa = (valor_indice_devengo / valor_indice_inicio - 1) * 360.0 / dias_calculo_tasa_eq\n",
    "tasa = round(tasa, decimales_para_tasa_eq)\n",
    "\n",
    "dias_devengo = dias_calculo_tasa_eq\n",
    "print(f\"Check: {nocional * tasa * dias_devengo / 360.0:,.4f}\\n\")\n",
    "\n",
    "overnight_index_cashflow.set_dates_for_eq_rate(qcf.DatesForEquivalentRate.INDEX)\n",
    "\n",
    "# El segundo parámetro de accrued_interest es ahora data\n",
    "print(f\"Interés devengado (dates_for_eq_rate = INDEX): {overnight_index_cashflow.accrued_interest(fecha_devengo, data): ,.4f}\")\n",
    "\n",
    "# En este caso, en los días para el cálculo de la tasa equivalente \n",
    "# se utiliza las fecha de inicio del índice.\n",
    "dias_calculo_tasa_eq = fecha_inicio_indice.day_diff(fecha_devengo)\n",
    "tasa = (valor_indice_devengo / valor_indice_inicio - 1) * 360.0 / dias_calculo_tasa_eq\n",
    "tasa = round(tasa, decimales_para_tasa_eq)\n",
    "\n",
    "# Para el devengo siempre se utiliza, los días de devengo\n",
    "print(f\"Check: {nocional * tasa * dias_devengo / 360.0:,.4f}\\n\")"
   ]
  },
  {
   "cell_type": "markdown",
   "metadata": {},
   "source": [
    "Método `amount`"
   ]
  },
  {
   "cell_type": "code",
   "execution_count": 97,
   "metadata": {
    "execution": {
     "iopub.execute_input": "2024-06-08T12:16:03.635159Z",
     "iopub.status.busy": "2024-06-08T12:16:03.634906Z",
     "iopub.status.idle": "2024-06-08T12:16:03.639978Z",
     "shell.execute_reply": "2024-06-08T12:16:03.639271Z",
     "shell.execute_reply.started": "2024-06-08T12:16:03.635139Z"
    }
   },
   "outputs": [
    {
     "name": "stdout",
     "output_type": "stream",
     "text": [
      "Amount (ACCRUAL): 100,996,216.6667\n",
      "Check: 1,000,996,216.6667\n",
      "\n",
      "Amount (INDEX): 100,853,900.0000\n",
      "Check: 1,000,853,900.0000\n",
      "\n"
     ]
    }
   ],
   "source": [
    "overnight_index_cashflow.set_dates_for_eq_rate(qcf.DatesForEquivalentRate.ACCRUAL)\n",
    "print(f\"Amount (ACCRUAL): {overnight_index_cashflow.amount():,.4f}\")\n",
    "dias_calculo_tasa_eq = fecha_inicio_devengo.day_diff(fecha_final_devengo)\n",
    "tasa = (valor_indice_final / valor_indice_inicio - 1) * 360.0 / dias_calculo_tasa_eq\n",
    "dias_devengo = dias_calculo_tasa_eq\n",
    "print(f\"Check: {nocional * (1 + tasa * dias_devengo / 360.0):,.4f}\\n\")\n",
    "\n",
    "overnight_index_cashflow.set_dates_for_eq_rate(qcf.DatesForEquivalentRate.INDEX)\n",
    "print(f\"Amount (INDEX): {overnight_index_cashflow.amount():,.4f}\")\n",
    "dias_calculo_tasa_eq = fecha_inicio_indice.day_diff(fecha_final_indice)\n",
    "tasa = (valor_indice_final / valor_indice_inicio - 1) * 360.0 / dias_calculo_tasa_eq\n",
    "print(f\"Check: {nocional * (1 + tasa * dias_devengo / 360.0):,.4f}\\n\")"
   ]
  },
  {
   "cell_type": "markdown",
   "metadata": {},
   "source": [
    "### Funciones `show` y `get_column_names`"
   ]
  },
  {
   "cell_type": "markdown",
   "metadata": {},
   "source": [
    "Al igual que en casos anteriores, juntando estas dos funciones se obtiene una representación tabular del flujo usando `pandas.DataFrame`."
   ]
  },
  {
   "cell_type": "code",
   "execution_count": 98,
   "metadata": {
    "execution": {
     "iopub.execute_input": "2024-06-08T12:16:03.641001Z",
     "iopub.status.busy": "2024-06-08T12:16:03.640685Z",
     "iopub.status.idle": "2024-06-08T12:16:03.650127Z",
     "shell.execute_reply": "2024-06-08T12:16:03.649310Z",
     "shell.execute_reply.started": "2024-06-08T12:16:03.640981Z"
    }
   },
   "outputs": [
    {
     "data": {
      "text/html": [
       "<style type=\"text/css\">\n",
       "</style>\n",
       "<table id=\"T_4da74\">\n",
       "  <thead>\n",
       "    <tr>\n",
       "      <th class=\"blank level0\" >&nbsp;</th>\n",
       "      <th id=\"T_4da74_level0_col0\" class=\"col_heading level0 col0\" >fecha_inicial_devengo</th>\n",
       "      <th id=\"T_4da74_level0_col1\" class=\"col_heading level0 col1\" >fecha_final_devengo</th>\n",
       "      <th id=\"T_4da74_level0_col2\" class=\"col_heading level0 col2\" >fecha_inicial_indice</th>\n",
       "      <th id=\"T_4da74_level0_col3\" class=\"col_heading level0 col3\" >fecha_final_indice</th>\n",
       "      <th id=\"T_4da74_level0_col4\" class=\"col_heading level0 col4\" >fecha_pago</th>\n",
       "      <th id=\"T_4da74_level0_col5\" class=\"col_heading level0 col5\" >nocional</th>\n",
       "      <th id=\"T_4da74_level0_col6\" class=\"col_heading level0 col6\" >amortizacion</th>\n",
       "      <th id=\"T_4da74_level0_col7\" class=\"col_heading level0 col7\" >amort_es_flujo</th>\n",
       "      <th id=\"T_4da74_level0_col8\" class=\"col_heading level0 col8\" >moneda_nocional</th>\n",
       "      <th id=\"T_4da74_level0_col9\" class=\"col_heading level0 col9\" >nombre_indice</th>\n",
       "      <th id=\"T_4da74_level0_col10\" class=\"col_heading level0 col10\" >valor_indice_inicial</th>\n",
       "      <th id=\"T_4da74_level0_col11\" class=\"col_heading level0 col11\" >valor_indice_final</th>\n",
       "      <th id=\"T_4da74_level0_col12\" class=\"col_heading level0 col12\" >valor_tasa_equivalente</th>\n",
       "      <th id=\"T_4da74_level0_col13\" class=\"col_heading level0 col13\" >tipo_tasa</th>\n",
       "      <th id=\"T_4da74_level0_col14\" class=\"col_heading level0 col14\" >interes</th>\n",
       "      <th id=\"T_4da74_level0_col15\" class=\"col_heading level0 col15\" >flujo</th>\n",
       "      <th id=\"T_4da74_level0_col16\" class=\"col_heading level0 col16\" >spread</th>\n",
       "      <th id=\"T_4da74_level0_col17\" class=\"col_heading level0 col17\" >gearing</th>\n",
       "    </tr>\n",
       "  </thead>\n",
       "  <tbody>\n",
       "    <tr>\n",
       "      <th id=\"T_4da74_level0_row0\" class=\"row_heading level0 row0\" >0</th>\n",
       "      <td id=\"T_4da74_row0_col0\" class=\"data row0 col0\" >2023-11-12</td>\n",
       "      <td id=\"T_4da74_row0_col1\" class=\"data row0 col1\" >2023-11-18</td>\n",
       "      <td id=\"T_4da74_row0_col2\" class=\"data row0 col2\" >2023-11-13</td>\n",
       "      <td id=\"T_4da74_row0_col3\" class=\"data row0 col3\" >2023-11-20</td>\n",
       "      <td id=\"T_4da74_row0_col4\" class=\"data row0 col4\" >2023-11-20</td>\n",
       "      <td id=\"T_4da74_row0_col5\" class=\"data row0 col5\" >1,000,000,000.00</td>\n",
       "      <td id=\"T_4da74_row0_col6\" class=\"data row0 col6\" >100,000,000.00</td>\n",
       "      <td id=\"T_4da74_row0_col7\" class=\"data row0 col7\" >True</td>\n",
       "      <td id=\"T_4da74_row0_col8\" class=\"data row0 col8\" >USD</td>\n",
       "      <td id=\"T_4da74_row0_col9\" class=\"data row0 col9\" >INDICE</td>\n",
       "      <td id=\"T_4da74_row0_col10\" class=\"data row0 col10\" >10,000.00</td>\n",
       "      <td id=\"T_4da74_row0_col11\" class=\"data row0 col11\" >10,009.96</td>\n",
       "      <td id=\"T_4da74_row0_col12\" class=\"data row0 col12\" >5.123400%</td>\n",
       "      <td id=\"T_4da74_row0_col13\" class=\"data row0 col13\" >LinAct360</td>\n",
       "      <td id=\"T_4da74_row0_col14\" class=\"data row0 col14\" >1,195,466.67</td>\n",
       "      <td id=\"T_4da74_row0_col15\" class=\"data row0 col15\" >101,195,466.67</td>\n",
       "      <td id=\"T_4da74_row0_col16\" class=\"data row0 col16\" >0.00%</td>\n",
       "      <td id=\"T_4da74_row0_col17\" class=\"data row0 col17\" >1.000000</td>\n",
       "    </tr>\n",
       "  </tbody>\n",
       "</table>\n"
      ],
      "text/plain": [
       "<pandas.io.formats.style.Styler at 0x1252f9f10>"
      ]
     },
     "execution_count": 98,
     "metadata": {},
     "output_type": "execute_result"
    }
   ],
   "source": [
    "df = pd.DataFrame([qcf.show(overnight_index_cashflow)], columns=qcf.get_column_names(overnight_index_cashflow.get_type()))\n",
    "df.style.format({\n",
    "    'nocional':'{:,.2f}', \n",
    "    'amortizacion':'{:,.2f}', \n",
    "    'amortizacion_moneda_pago':'{:,.2f}', \n",
    "    'interes':'{:,.2f}',\n",
    "    'interes_moneda_pago':'{:,.2f}',\n",
    "    'flujo':'{:,.2f}',\n",
    "    'flujo_moneda_pago':'{:,.2f}',\n",
    "    'valor_tasa_equivalente':'{:.6%}',\n",
    "    'spread':'{:.2%}',\n",
    "    'valor_indice_inicial':'{:,.2f}',\n",
    "    'valor_indice_final':'{:,.2f}',\n",
    "})"
   ]
  },
  {
   "cell_type": "markdown",
   "metadata": {},
   "source": [
    "## Overnight Index Multi Currency Cashflow"
   ]
  },
  {
   "cell_type": "markdown",
   "metadata": {},
   "source": [
    "Un objeto de tipo `OvernightIndexMultiCurrencyCashflow` hereda de `OvernightIndexCashflow` y representa un flujo de caja del tipo de la pata flotante de un swap ICP (cámara promedio) de Chile usando cualquier tipo de índice similar (por ejemplo SOFRINDX), cualquier moneda de nocional, pero con flujos de caja en una moneda distinta a la del nocional, por ejemplo un ICPCLP con contraparte en US que compensa en USD. Al heredar de `OvernightIndexCashflow`, también permite definir en forma independiente a `start_date` y `end_date` las fechas inicial y final utilizadas para los valores del índice. Para dar de alta uno de estos objetos se requiere:\n",
    "\n",
    "- `QCDate`: fecha inicio devengo (para la aplicación de la tasa)\n",
    "- `QCDate`: fecha final devengo (para la aplicación de la tasa)\n",
    "- `QCDate`: fecha inicio índice (para el valor del índice)\n",
    "- `QCDate`: fecha final índice (para el valor del índice)\n",
    "- `QCDate`: fecha de pago\n",
    "- `QCCurrency`: moneda del nocional\n",
    "- `float`: nocional (monto al que se le aplica la tasa)\n",
    "- `float`: amortización (eventual flujo de caja que corresponde a una porción del nominal)\n",
    "- `bool`: indica si la amortización anterior es un flujo de caja o sólo una disminución de nominal\n",
    "- `float`: spread aditivo a aplicar a la fijación de la tasa equivalente (TNA en el caso de un ICPCLP)\n",
    "- `float`: spread multiplicativo o gearing a aplicar a la fijación de la tasa equivalente\n",
    "- `QCInterestRate`: con este objeto se especifica en qué convención se calcula la tasa equivalente\n",
    "- `string`: nombre del índice overnight a utilizar\n",
    "- `unsigned int`: número de decimales a utilizar para determinar la tasa equivalente\n",
    "- `DatesForEquivalentRate`: enum que indica qué fechas se utilizan en el cálculo de la tasa equivalente.\n",
    "  \n",
    "Hasta acá son los mismos argumentos necesarios para construir un `OvernightIndexCashflow`. Se añaden los siguientes argumentos:\n",
    "- `QCDate`: fecha de fixing del índice de tipo de cambio. Esta fecha se refiere a la fecha de publicación del índice, no a la fecha de fixing en sentido financiero.\n",
    "- `QCCurrency`: moneda de pago de los flujos de caja\n",
    "- `FXRateIndex>`: índice de tipo de cambio utilizado para la conversión de los flujos a moneda de pago"
   ]
  },
  {
   "cell_type": "markdown",
   "metadata": {},
   "source": [
    "#### Ejemplo"
   ]
  },
  {
   "cell_type": "code",
   "execution_count": 99,
   "metadata": {
    "execution": {
     "iopub.execute_input": "2024-06-08T12:16:03.651511Z",
     "iopub.status.busy": "2024-06-08T12:16:03.651098Z",
     "iopub.status.idle": "2024-06-08T12:16:03.656587Z",
     "shell.execute_reply": "2024-06-08T12:16:03.655971Z",
     "shell.execute_reply.started": "2024-06-08T12:16:03.651490Z"
    }
   },
   "outputs": [],
   "source": [
    "fecha_inicio_devengo = qcf.QCDate(13, 11, 2023)\n",
    "\n",
    "# Notar que la fecha final de devengo es sábado\n",
    "fecha_final_devengo = qcf.QCDate(18, 11, 2023)\n",
    "\n",
    "fecha_inicio_indice = qcf.QCDate(13, 11, 2023)\n",
    "\n",
    "# Notar que la fecha final de índice es el viernes\n",
    "fecha_final_indice = qcf.QCDate(17, 11, 2023)\n",
    "\n",
    "# La fecha de pago es el lunes siguiente\n",
    "fecha_pago = qcf.QCDate(20, 11, 2023)\n",
    "\n",
    "moneda_nocional = qcf.QCUSD()\n",
    "nocional = 1_000_000_000.0\n",
    "amort = 100_000_000.0\n",
    "amort_es_flujo = True\n",
    "spread = 0.0\n",
    "gearing = 1.0\n",
    "tasa = qcf.QCInterestRate(0.0, qcf.QCAct360(), qcf.QCLinearWf())\n",
    "nombre_indice = 'INDICE'\n",
    "num_decimales = 8\n",
    "valor_indice_inicio = 1.0\n",
    "valor_indice_final = 1 + .1234 * 4 / 360 # Suponemos un valor constante de 12.34% por 4 días del índice\n",
    "dates_for_eq_rate = qcf.DatesForEquivalentRate.ACCRUAL\n",
    "\n",
    "# -----------------------------------------------\n",
    "fecha_fixing_fx_index = fecha_final_devengo\n",
    "moneda_pago = qcf.QCCLP()\n",
    "indice_fx = usdclp_obs"
   ]
  },
  {
   "cell_type": "code",
   "execution_count": 101,
   "metadata": {
    "execution": {
     "iopub.execute_input": "2024-06-08T12:16:36.184612Z",
     "iopub.status.busy": "2024-06-08T12:16:36.184285Z",
     "iopub.status.idle": "2024-06-08T12:16:36.189109Z",
     "shell.execute_reply": "2024-06-08T12:16:36.188321Z",
     "shell.execute_reply.started": "2024-06-08T12:16:36.184582Z"
    }
   },
   "outputs": [],
   "source": [
    "overnight_index_mccy_cashflow = qcf.OvernightIndexMultiCurrencyCashflow(\n",
    "    fecha_inicio_devengo,\n",
    "    fecha_final_devengo,\n",
    "    fecha_inicio_indice,\n",
    "    fecha_final_indice,\n",
    "    fecha_pago,\n",
    "    moneda_nocional,\n",
    "    nocional,\n",
    "    amort,\n",
    "    amort_es_flujo,\n",
    "    spread,\n",
    "    gearing,\n",
    "    tasa,\n",
    "    nombre_indice,\n",
    "    num_decimales,\n",
    "    dates_for_eq_rate,\n",
    "    fecha_fixing_fx_index,\n",
    "    moneda_pago,\n",
    "    indice_fx,\n",
    ")"
   ]
  },
  {
   "cell_type": "code",
   "execution_count": 102,
   "metadata": {
    "execution": {
     "iopub.execute_input": "2024-06-08T12:16:45.609645Z",
     "iopub.status.busy": "2024-06-08T12:16:45.609327Z",
     "iopub.status.idle": "2024-06-08T12:16:45.614757Z",
     "shell.execute_reply": "2024-06-08T12:16:45.613873Z",
     "shell.execute_reply.started": "2024-06-08T12:16:45.609617Z"
    }
   },
   "outputs": [
    {
     "data": {
      "text/plain": [
       "qcfinancial.OvernightIndexMultiCurrencyCashflow"
      ]
     },
     "execution_count": 102,
     "metadata": {},
     "output_type": "execute_result"
    }
   ],
   "source": [
    "type(overnight_index_mccy_cashflow)"
   ]
  },
  {
   "cell_type": "markdown",
   "metadata": {},
   "source": [
    "#### Nuevos Getters"
   ]
  },
  {
   "cell_type": "code",
   "execution_count": 118,
   "metadata": {
    "execution": {
     "iopub.execute_input": "2024-06-08T12:41:39.492873Z",
     "iopub.status.busy": "2024-06-08T12:41:39.492510Z",
     "iopub.status.idle": "2024-06-08T12:41:39.498712Z",
     "shell.execute_reply": "2024-06-08T12:41:39.497885Z",
     "shell.execute_reply.started": "2024-06-08T12:41:39.492842Z"
    }
   },
   "outputs": [
    {
     "data": {
      "text/plain": [
       "<qcfinancial.FXRateIndex at 0x10d861bf0>"
      ]
     },
     "execution_count": 118,
     "metadata": {},
     "output_type": "execute_result"
    }
   ],
   "source": [
    "overnight_index_mccy_cashflow.get_fx_rate_index()"
   ]
  },
  {
   "cell_type": "code",
   "execution_count": 119,
   "metadata": {
    "execution": {
     "iopub.execute_input": "2024-06-08T12:41:39.752839Z",
     "iopub.status.busy": "2024-06-08T12:41:39.752503Z",
     "iopub.status.idle": "2024-06-08T12:41:39.757928Z",
     "shell.execute_reply": "2024-06-08T12:41:39.757134Z",
     "shell.execute_reply.started": "2024-06-08T12:41:39.752812Z"
    }
   },
   "outputs": [
    {
     "data": {
      "text/plain": [
       "'OvernightIndexMultiCurrencyCashflow'"
      ]
     },
     "execution_count": 119,
     "metadata": {},
     "output_type": "execute_result"
    }
   ],
   "source": [
    "overnight_index_mccy_cashflow.get_type()"
   ]
  },
  {
   "cell_type": "code",
   "execution_count": 120,
   "metadata": {
    "execution": {
     "iopub.execute_input": "2024-06-08T12:41:39.932942Z",
     "iopub.status.busy": "2024-06-08T12:41:39.932607Z",
     "iopub.status.idle": "2024-06-08T12:41:39.938347Z",
     "shell.execute_reply": "2024-06-08T12:41:39.937629Z",
     "shell.execute_reply.started": "2024-06-08T12:41:39.932913Z"
    }
   },
   "outputs": [
    {
     "data": {
      "text/plain": [
       "'USDOBS'"
      ]
     },
     "execution_count": 120,
     "metadata": {},
     "output_type": "execute_result"
    }
   ],
   "source": [
    "overnight_index_mccy_cashflow.get_fx_rate_index_code()"
   ]
  },
  {
   "cell_type": "code",
   "execution_count": 121,
   "metadata": {
    "execution": {
     "iopub.execute_input": "2024-06-08T12:41:40.104326Z",
     "iopub.status.busy": "2024-06-08T12:41:40.104027Z",
     "iopub.status.idle": "2024-06-08T12:41:40.109178Z",
     "shell.execute_reply": "2024-06-08T12:41:40.108243Z",
     "shell.execute_reply.started": "2024-06-08T12:41:40.104301Z"
    }
   },
   "outputs": [
    {
     "data": {
      "text/plain": [
       "900.0"
      ]
     },
     "execution_count": 121,
     "metadata": {},
     "output_type": "execute_result"
    }
   ],
   "source": [
    "overnight_index_mccy_cashflow.get_fx_rate_index_value()"
   ]
  },
  {
   "cell_type": "markdown",
   "metadata": {},
   "source": [
    "#### Nuevos Cálculos"
   ]
  },
  {
   "cell_type": "markdown",
   "metadata": {},
   "source": [
    "Primero se fijan los valores del índice overnight."
   ]
  },
  {
   "cell_type": "code",
   "execution_count": 124,
   "metadata": {
    "execution": {
     "iopub.execute_input": "2024-06-08T12:43:28.095318Z",
     "iopub.status.busy": "2024-06-08T12:43:28.094991Z",
     "iopub.status.idle": "2024-06-08T12:43:28.099086Z",
     "shell.execute_reply": "2024-06-08T12:43:28.098300Z",
     "shell.execute_reply.started": "2024-06-08T12:43:28.095289Z"
    }
   },
   "outputs": [],
   "source": [
    "overnight_index_mccy_cashflow.set_start_date_index(valor_indice_inicio)\n",
    "overnight_index_mccy_cashflow.set_end_date_index(valor_indice_final)"
   ]
  },
  {
   "cell_type": "code",
   "execution_count": 128,
   "metadata": {
    "execution": {
     "iopub.execute_input": "2024-06-08T12:44:48.907975Z",
     "iopub.status.busy": "2024-06-08T12:44:48.907721Z",
     "iopub.status.idle": "2024-06-08T12:44:48.911256Z",
     "shell.execute_reply": "2024-06-08T12:44:48.910651Z",
     "shell.execute_reply.started": "2024-06-08T12:44:48.907952Z"
    }
   },
   "outputs": [
    {
     "name": "stdout",
     "output_type": "stream",
     "text": [
      "Amount: 101,371,111.11\n"
     ]
    }
   ],
   "source": [
    "print(f\"Amount: {overnight_index_mccy_cashflow.amount():,.2f}\")"
   ]
  },
  {
   "cell_type": "code",
   "execution_count": 129,
   "metadata": {
    "execution": {
     "iopub.execute_input": "2024-06-08T12:45:28.488046Z",
     "iopub.status.busy": "2024-06-08T12:45:28.487709Z",
     "iopub.status.idle": "2024-06-08T12:45:28.492612Z",
     "shell.execute_reply": "2024-06-08T12:45:28.491809Z",
     "shell.execute_reply.started": "2024-06-08T12:45:28.488017Z"
    }
   },
   "outputs": [
    {
     "name": "stdout",
     "output_type": "stream",
     "text": [
      "Interés en moneda de pago: 1,233,999,999\n"
     ]
    }
   ],
   "source": [
    "print(f\"Interés en moneda de pago: {overnight_index_mccy_cashflow.settlement_ccy_interest():,.0f}\")"
   ]
  },
  {
   "cell_type": "code",
   "execution_count": 130,
   "metadata": {
    "execution": {
     "iopub.execute_input": "2024-06-08T12:50:19.991993Z",
     "iopub.status.busy": "2024-06-08T12:50:19.991718Z",
     "iopub.status.idle": "2024-06-08T12:50:19.995686Z",
     "shell.execute_reply": "2024-06-08T12:50:19.994980Z",
     "shell.execute_reply.started": "2024-06-08T12:50:19.991970Z"
    }
   },
   "outputs": [
    {
     "name": "stdout",
     "output_type": "stream",
     "text": [
      "Amortización en moneda de pago 90,000,000,000\n"
     ]
    }
   ],
   "source": [
    "print(f\"Amortización en moneda de pago {overnight_index_mccy_cashflow.settlement_ccy_amortization():,.0f}\")"
   ]
  },
  {
   "cell_type": "markdown",
   "metadata": {},
   "source": [
    "#### Funciones `show` y `get_column_names`"
   ]
  },
  {
   "cell_type": "markdown",
   "metadata": {},
   "source": [
    "Se envuelve el resultado de la función `show` en un `pd.DataFrame`."
   ]
  },
  {
   "cell_type": "code",
   "execution_count": 226,
   "metadata": {
    "execution": {
     "iopub.execute_input": "2024-06-08T21:37:15.298148Z",
     "iopub.status.busy": "2024-06-08T21:37:15.297783Z",
     "iopub.status.idle": "2024-06-08T21:37:15.337280Z",
     "shell.execute_reply": "2024-06-08T21:37:15.335283Z",
     "shell.execute_reply.started": "2024-06-08T21:37:15.298116Z"
    }
   },
   "outputs": [
    {
     "data": {
      "text/html": [
       "<style type=\"text/css\">\n",
       "</style>\n",
       "<table id=\"T_89a2c\">\n",
       "  <thead>\n",
       "    <tr>\n",
       "      <th class=\"blank level0\" >&nbsp;</th>\n",
       "      <th id=\"T_89a2c_level0_col0\" class=\"col_heading level0 col0\" >fecha_inicial_devengo</th>\n",
       "      <th id=\"T_89a2c_level0_col1\" class=\"col_heading level0 col1\" >fecha_final_devengo</th>\n",
       "      <th id=\"T_89a2c_level0_col2\" class=\"col_heading level0 col2\" >fecha_inicial_indice</th>\n",
       "      <th id=\"T_89a2c_level0_col3\" class=\"col_heading level0 col3\" >fecha_final_indice</th>\n",
       "      <th id=\"T_89a2c_level0_col4\" class=\"col_heading level0 col4\" >fecha_pago</th>\n",
       "      <th id=\"T_89a2c_level0_col5\" class=\"col_heading level0 col5\" >nocional</th>\n",
       "      <th id=\"T_89a2c_level0_col6\" class=\"col_heading level0 col6\" >amortizacion</th>\n",
       "      <th id=\"T_89a2c_level0_col7\" class=\"col_heading level0 col7\" >amort_es_flujo</th>\n",
       "      <th id=\"T_89a2c_level0_col8\" class=\"col_heading level0 col8\" >moneda_nocional</th>\n",
       "      <th id=\"T_89a2c_level0_col9\" class=\"col_heading level0 col9\" >nombre_indice</th>\n",
       "      <th id=\"T_89a2c_level0_col10\" class=\"col_heading level0 col10\" >valor_indice_inicial</th>\n",
       "      <th id=\"T_89a2c_level0_col11\" class=\"col_heading level0 col11\" >valor_indice_final</th>\n",
       "      <th id=\"T_89a2c_level0_col12\" class=\"col_heading level0 col12\" >valor_tasa_equivalente</th>\n",
       "      <th id=\"T_89a2c_level0_col13\" class=\"col_heading level0 col13\" >tipo_tasa</th>\n",
       "      <th id=\"T_89a2c_level0_col14\" class=\"col_heading level0 col14\" >interes</th>\n",
       "      <th id=\"T_89a2c_level0_col15\" class=\"col_heading level0 col15\" >flujo</th>\n",
       "      <th id=\"T_89a2c_level0_col16\" class=\"col_heading level0 col16\" >spread</th>\n",
       "      <th id=\"T_89a2c_level0_col17\" class=\"col_heading level0 col17\" >gearing</th>\n",
       "      <th id=\"T_89a2c_level0_col18\" class=\"col_heading level0 col18\" >moneda_pago</th>\n",
       "      <th id=\"T_89a2c_level0_col19\" class=\"col_heading level0 col19\" >indice_fx</th>\n",
       "      <th id=\"T_89a2c_level0_col20\" class=\"col_heading level0 col20\" >fecha_fijacion_indice_fx</th>\n",
       "      <th id=\"T_89a2c_level0_col21\" class=\"col_heading level0 col21\" >valor_indice_fx</th>\n",
       "      <th id=\"T_89a2c_level0_col22\" class=\"col_heading level0 col22\" >interes_moneda_pago</th>\n",
       "      <th id=\"T_89a2c_level0_col23\" class=\"col_heading level0 col23\" >amortizacion_moneda_pago</th>\n",
       "      <th id=\"T_89a2c_level0_col24\" class=\"col_heading level0 col24\" >flujo_moneda_pago</th>\n",
       "    </tr>\n",
       "  </thead>\n",
       "  <tbody>\n",
       "    <tr>\n",
       "      <th id=\"T_89a2c_level0_row0\" class=\"row_heading level0 row0\" >0</th>\n",
       "      <td id=\"T_89a2c_row0_col0\" class=\"data row0 col0\" >2023-11-13</td>\n",
       "      <td id=\"T_89a2c_row0_col1\" class=\"data row0 col1\" >2023-11-18</td>\n",
       "      <td id=\"T_89a2c_row0_col2\" class=\"data row0 col2\" >2023-11-13</td>\n",
       "      <td id=\"T_89a2c_row0_col3\" class=\"data row0 col3\" >2023-11-17</td>\n",
       "      <td id=\"T_89a2c_row0_col4\" class=\"data row0 col4\" >2023-11-20</td>\n",
       "      <td id=\"T_89a2c_row0_col5\" class=\"data row0 col5\" >1,000,000,000.00</td>\n",
       "      <td id=\"T_89a2c_row0_col6\" class=\"data row0 col6\" >100,000,000.00</td>\n",
       "      <td id=\"T_89a2c_row0_col7\" class=\"data row0 col7\" >True</td>\n",
       "      <td id=\"T_89a2c_row0_col8\" class=\"data row0 col8\" >USD</td>\n",
       "      <td id=\"T_89a2c_row0_col9\" class=\"data row0 col9\" >INDICE</td>\n",
       "      <td id=\"T_89a2c_row0_col10\" class=\"data row0 col10\" >1.00</td>\n",
       "      <td id=\"T_89a2c_row0_col11\" class=\"data row0 col11\" >1.00</td>\n",
       "      <td id=\"T_89a2c_row0_col12\" class=\"data row0 col12\" >9.872000%</td>\n",
       "      <td id=\"T_89a2c_row0_col13\" class=\"data row0 col13\" >LinAct360</td>\n",
       "      <td id=\"T_89a2c_row0_col14\" class=\"data row0 col14\" >1,371,111.11</td>\n",
       "      <td id=\"T_89a2c_row0_col15\" class=\"data row0 col15\" >101,371,111.11</td>\n",
       "      <td id=\"T_89a2c_row0_col16\" class=\"data row0 col16\" >0.00%</td>\n",
       "      <td id=\"T_89a2c_row0_col17\" class=\"data row0 col17\" >1.000000</td>\n",
       "      <td id=\"T_89a2c_row0_col18\" class=\"data row0 col18\" >CLP</td>\n",
       "      <td id=\"T_89a2c_row0_col19\" class=\"data row0 col19\" >USDOBS</td>\n",
       "      <td id=\"T_89a2c_row0_col20\" class=\"data row0 col20\" >2023-11-18</td>\n",
       "      <td id=\"T_89a2c_row0_col21\" class=\"data row0 col21\" >900.000000</td>\n",
       "      <td id=\"T_89a2c_row0_col22\" class=\"data row0 col22\" >1,233,999,999.00</td>\n",
       "      <td id=\"T_89a2c_row0_col23\" class=\"data row0 col23\" >90,000,000,000.00</td>\n",
       "      <td id=\"T_89a2c_row0_col24\" class=\"data row0 col24\" >91,233,999,999.00</td>\n",
       "    </tr>\n",
       "  </tbody>\n",
       "</table>\n"
      ],
      "text/plain": [
       "<pandas.io.formats.style.Styler at 0x127d7ae10>"
      ]
     },
     "execution_count": 226,
     "metadata": {},
     "output_type": "execute_result"
    }
   ],
   "source": [
    "df = pd.DataFrame(\n",
    "    [qcf.show(overnight_index_mccy_cashflow),],\n",
    "    columns=qcf.get_column_names(\"OvernightIndexMultiCurrencyCashflow\", \"\")\n",
    ")\n",
    "df.style.format(format_dict)"
   ]
  },
  {
   "cell_type": "markdown",
   "metadata": {},
   "source": [
    "#### Nuevo Setter"
   ]
  },
  {
   "cell_type": "markdown",
   "metadata": {},
   "source": [
    "Valor del índice de tipo de cambio."
   ]
  },
  {
   "cell_type": "code",
   "execution_count": 112,
   "metadata": {
    "execution": {
     "iopub.execute_input": "2024-06-08T12:40:51.273273Z",
     "iopub.status.busy": "2024-06-08T12:40:51.272917Z",
     "iopub.status.idle": "2024-06-08T12:40:51.277622Z",
     "shell.execute_reply": "2024-06-08T12:40:51.276532Z",
     "shell.execute_reply.started": "2024-06-08T12:40:51.273242Z"
    }
   },
   "outputs": [],
   "source": [
    "overnight_index_mccy_cashflow.set_fx_rate_index_value(900.0)"
   ]
  },
  {
   "cell_type": "markdown",
   "metadata": {},
   "source": [
    "Ver el efecto en las últimas dos columnas."
   ]
  },
  {
   "cell_type": "code",
   "execution_count": 113,
   "metadata": {
    "execution": {
     "iopub.execute_input": "2024-06-08T12:40:54.823018Z",
     "iopub.status.busy": "2024-06-08T12:40:54.822693Z",
     "iopub.status.idle": "2024-06-08T12:40:54.834675Z",
     "shell.execute_reply": "2024-06-08T12:40:54.833984Z",
     "shell.execute_reply.started": "2024-06-08T12:40:54.822991Z"
    }
   },
   "outputs": [
    {
     "data": {
      "text/html": [
       "<style type=\"text/css\">\n",
       "</style>\n",
       "<table id=\"T_eaa85\">\n",
       "  <thead>\n",
       "    <tr>\n",
       "      <th class=\"blank level0\" >&nbsp;</th>\n",
       "      <th id=\"T_eaa85_level0_col0\" class=\"col_heading level0 col0\" >fecha_inicial_devengo</th>\n",
       "      <th id=\"T_eaa85_level0_col1\" class=\"col_heading level0 col1\" >fecha_final_devengo</th>\n",
       "      <th id=\"T_eaa85_level0_col2\" class=\"col_heading level0 col2\" >fecha_inicial_indice</th>\n",
       "      <th id=\"T_eaa85_level0_col3\" class=\"col_heading level0 col3\" >fecha_final_indice</th>\n",
       "      <th id=\"T_eaa85_level0_col4\" class=\"col_heading level0 col4\" >fecha_pago</th>\n",
       "      <th id=\"T_eaa85_level0_col5\" class=\"col_heading level0 col5\" >nocional</th>\n",
       "      <th id=\"T_eaa85_level0_col6\" class=\"col_heading level0 col6\" >amortizacion</th>\n",
       "      <th id=\"T_eaa85_level0_col7\" class=\"col_heading level0 col7\" >amort_es_flujo</th>\n",
       "      <th id=\"T_eaa85_level0_col8\" class=\"col_heading level0 col8\" >moneda_nocional</th>\n",
       "      <th id=\"T_eaa85_level0_col9\" class=\"col_heading level0 col9\" >nombre_indice</th>\n",
       "      <th id=\"T_eaa85_level0_col10\" class=\"col_heading level0 col10\" >valor_indice_inicial</th>\n",
       "      <th id=\"T_eaa85_level0_col11\" class=\"col_heading level0 col11\" >valor_indice_final</th>\n",
       "      <th id=\"T_eaa85_level0_col12\" class=\"col_heading level0 col12\" >valor_tasa_equivalente</th>\n",
       "      <th id=\"T_eaa85_level0_col13\" class=\"col_heading level0 col13\" >tipo_tasa</th>\n",
       "      <th id=\"T_eaa85_level0_col14\" class=\"col_heading level0 col14\" >interes</th>\n",
       "      <th id=\"T_eaa85_level0_col15\" class=\"col_heading level0 col15\" >flujo</th>\n",
       "      <th id=\"T_eaa85_level0_col16\" class=\"col_heading level0 col16\" >spread</th>\n",
       "      <th id=\"T_eaa85_level0_col17\" class=\"col_heading level0 col17\" >gearing</th>\n",
       "      <th id=\"T_eaa85_level0_col18\" class=\"col_heading level0 col18\" >moneda_pago</th>\n",
       "      <th id=\"T_eaa85_level0_col19\" class=\"col_heading level0 col19\" >indice_fx</th>\n",
       "      <th id=\"T_eaa85_level0_col20\" class=\"col_heading level0 col20\" >fecha_fijacion_indice_fx</th>\n",
       "      <th id=\"T_eaa85_level0_col21\" class=\"col_heading level0 col21\" >valor_indice_fx</th>\n",
       "      <th id=\"T_eaa85_level0_col22\" class=\"col_heading level0 col22\" >interes_moneda_pago</th>\n",
       "      <th id=\"T_eaa85_level0_col23\" class=\"col_heading level0 col23\" >amortizacion_moneda_pago</th>\n",
       "      <th id=\"T_eaa85_level0_col24\" class=\"col_heading level0 col24\" >flujo_moneda_pago</th>\n",
       "    </tr>\n",
       "  </thead>\n",
       "  <tbody>\n",
       "    <tr>\n",
       "      <th id=\"T_eaa85_level0_row0\" class=\"row_heading level0 row0\" >0</th>\n",
       "      <td id=\"T_eaa85_row0_col0\" class=\"data row0 col0\" >2023-11-13</td>\n",
       "      <td id=\"T_eaa85_row0_col1\" class=\"data row0 col1\" >2023-11-18</td>\n",
       "      <td id=\"T_eaa85_row0_col2\" class=\"data row0 col2\" >2023-11-13</td>\n",
       "      <td id=\"T_eaa85_row0_col3\" class=\"data row0 col3\" >2023-11-17</td>\n",
       "      <td id=\"T_eaa85_row0_col4\" class=\"data row0 col4\" >2023-11-20</td>\n",
       "      <td id=\"T_eaa85_row0_col5\" class=\"data row0 col5\" >1,000,000,000.00</td>\n",
       "      <td id=\"T_eaa85_row0_col6\" class=\"data row0 col6\" >100,000,000.00</td>\n",
       "      <td id=\"T_eaa85_row0_col7\" class=\"data row0 col7\" >True</td>\n",
       "      <td id=\"T_eaa85_row0_col8\" class=\"data row0 col8\" >USD</td>\n",
       "      <td id=\"T_eaa85_row0_col9\" class=\"data row0 col9\" >INDICE</td>\n",
       "      <td id=\"T_eaa85_row0_col10\" class=\"data row0 col10\" >1.00</td>\n",
       "      <td id=\"T_eaa85_row0_col11\" class=\"data row0 col11\" >1.00</td>\n",
       "      <td id=\"T_eaa85_row0_col12\" class=\"data row0 col12\" >0.000000%</td>\n",
       "      <td id=\"T_eaa85_row0_col13\" class=\"data row0 col13\" >LinAct360</td>\n",
       "      <td id=\"T_eaa85_row0_col14\" class=\"data row0 col14\" >0.00</td>\n",
       "      <td id=\"T_eaa85_row0_col15\" class=\"data row0 col15\" >100,000,000.00</td>\n",
       "      <td id=\"T_eaa85_row0_col16\" class=\"data row0 col16\" >0.00%</td>\n",
       "      <td id=\"T_eaa85_row0_col17\" class=\"data row0 col17\" >1.000000</td>\n",
       "      <td id=\"T_eaa85_row0_col18\" class=\"data row0 col18\" >CLP</td>\n",
       "      <td id=\"T_eaa85_row0_col19\" class=\"data row0 col19\" >USDOBS</td>\n",
       "      <td id=\"T_eaa85_row0_col20\" class=\"data row0 col20\" >2023-11-18</td>\n",
       "      <td id=\"T_eaa85_row0_col21\" class=\"data row0 col21\" >900.000000</td>\n",
       "      <td id=\"T_eaa85_row0_col22\" class=\"data row0 col22\" >0.00</td>\n",
       "      <td id=\"T_eaa85_row0_col23\" class=\"data row0 col23\" >90,000,000,000.00</td>\n",
       "      <td id=\"T_eaa85_row0_col24\" class=\"data row0 col24\" >90,000,000,000.00</td>\n",
       "    </tr>\n",
       "  </tbody>\n",
       "</table>\n"
      ],
      "text/plain": [
       "<pandas.io.formats.style.Styler at 0x127ce8090>"
      ]
     },
     "execution_count": 113,
     "metadata": {},
     "output_type": "execute_result"
    }
   ],
   "source": [
    "pd.DataFrame(\n",
    "    [qcf.show(overnight_index_mccy_cashflow),],\n",
    "    columns=qcf.get_column_names(\"OvernightIndexMultiCurrencyCashflow\", \"\")\n",
    ").style.format(format_dict)"
   ]
  },
  {
   "cell_type": "markdown",
   "metadata": {},
   "source": [
    "## Compounded Overnight Rate Cashflow 2"
   ]
  },
  {
   "cell_type": "markdown",
   "metadata": {},
   "source": [
    "Un objeto de tipo `CompoundedOvernightRateCashflow2` representa un flujo de caja calculado como un cupón de la pata flotante de un OIS sobre cualquier índice overnight (SOFR, FF, EONIA). Para dar de alta uno de estos objetos se requiere:\n",
    "\n",
    "- `InterestRateIndex`: el índice de tasa de interés prefijado\n",
    "- `QCDate`: fecha inicio (para la aplicación de la tasa)\n",
    "- `QCDate`: fecha final (para la aplicación de la tasa)\n",
    "- `QCDate`: fecha de pago\n",
    "- `DateList`: fechas de fixing del índice\n",
    "- `float`: nominal (monto al que se le aplica la tasa)\n",
    "- `float`: amortización (eventual flujo de caja que corresponde a una porción del nominal)\n",
    "- `bool`: indica si la amortización anterior es un flujo de caja o sólo una disminución de nominal\n",
    "- `QCCurrency`: moneda del nocional de la operación\n",
    "- `float`: spread aditivo a aplicar a la fijación de la tasa equivalente\n",
    "- `float`: spread multiplicativo o gearing a aplicar a la fijación de la tasa equivalente\n",
    "- `QCInterestRate`: permite especificar cuál es la convención de cálculo de la tasa equivalente\n",
    "- `unsigned int`: número de decimales a usar en el cálculo de la tasa equivalente. Por ejemplo para 0.12345678% este valor debe ser 10.\n",
    "- `unsigned int`: número de días de lookback\n",
    "- `unsigned int`: número de días de lockout\n",
    "\n",
    "El efecto de lookback y lockout aún no está implementado."
   ]
  },
  {
   "cell_type": "markdown",
   "metadata": {},
   "source": [
    "### Constructor"
   ]
  },
  {
   "cell_type": "markdown",
   "metadata": {},
   "source": [
    "Se da de alta un índice overnight ficiticio de test."
   ]
  },
  {
   "cell_type": "code",
   "execution_count": 135,
   "metadata": {
    "ExecuteTime": {
     "end_time": "2022-01-21T13:43:03.569544Z",
     "start_time": "2022-01-21T13:43:03.554583Z"
    },
    "execution": {
     "iopub.execute_input": "2024-06-08T16:28:36.468050Z",
     "iopub.status.busy": "2024-06-08T16:28:36.467672Z",
     "iopub.status.idle": "2024-06-08T16:28:36.478501Z",
     "shell.execute_reply": "2024-06-08T16:28:36.476905Z",
     "shell.execute_reply.started": "2024-06-08T16:28:36.468017Z"
    }
   },
   "outputs": [],
   "source": [
    "codigo = \"OITEST\"\n",
    "lin_act360 = qcf.QCInterestRate(0.0, act360, lin_wf)\n",
    "fixing_lag = qcf.Tenor(\"0d\")\n",
    "tenor = qcf.Tenor(\"1d\")\n",
    "fixing_calendar = scl\n",
    "settlement_calendar = scl\n",
    "oitest = qcf.InterestRateIndex(\n",
    "    codigo, \n",
    "    lin_act360, \n",
    "    fixing_lag, \n",
    "    tenor, \n",
    "    fixing_calendar, \n",
    "    settlement_calendar, \n",
    "    usd\n",
    ")"
   ]
  },
  {
   "cell_type": "markdown",
   "metadata": {},
   "source": [
    "Al dar de alta directamente este cashflow es necesario entregar explícitamente las fechas de fijación. En el capítulo relacionado a construcción de `qcf.Leg` veremos cómo este proceso se simplifica."
   ]
  },
  {
   "cell_type": "code",
   "execution_count": 144,
   "metadata": {
    "ExecuteTime": {
     "end_time": "2022-01-21T13:43:03.584504Z",
     "start_time": "2022-01-21T13:43:03.570541Z"
    },
    "execution": {
     "iopub.execute_input": "2024-06-08T16:33:40.673507Z",
     "iopub.status.busy": "2024-06-08T16:33:40.673139Z",
     "iopub.status.idle": "2024-06-08T16:33:40.678699Z",
     "shell.execute_reply": "2024-06-08T16:33:40.677738Z",
     "shell.execute_reply.started": "2024-06-08T16:33:40.673474Z"
    }
   },
   "outputs": [],
   "source": [
    "fixing_dates = qcf.DateList()"
   ]
  },
  {
   "cell_type": "code",
   "execution_count": 145,
   "metadata": {
    "ExecuteTime": {
     "end_time": "2022-01-21T13:43:03.600461Z",
     "start_time": "2022-01-21T13:43:03.585501Z"
    },
    "execution": {
     "iopub.execute_input": "2024-06-08T16:33:42.761861Z",
     "iopub.status.busy": "2024-06-08T16:33:42.761166Z",
     "iopub.status.idle": "2024-06-08T16:33:42.771277Z",
     "shell.execute_reply": "2024-06-08T16:33:42.769836Z",
     "shell.execute_reply.started": "2024-06-08T16:33:42.761828Z"
    }
   },
   "outputs": [],
   "source": [
    "fixing_dates.append(qcf.QCDate(27, 12, 2021))\n",
    "fixing_dates.append(qcf.QCDate(28, 12, 2021))\n",
    "fixing_dates.append(qcf.QCDate(29, 12, 2021))\n",
    "fixing_dates.append(qcf.QCDate(30, 12, 2021))"
   ]
  },
  {
   "cell_type": "markdown",
   "metadata": {},
   "source": [
    "Se da de alta el cashflow."
   ]
  },
  {
   "cell_type": "code",
   "execution_count": 181,
   "metadata": {
    "ExecuteTime": {
     "end_time": "2022-01-21T13:43:03.679251Z",
     "start_time": "2022-01-21T13:43:03.601459Z"
    },
    "execution": {
     "iopub.execute_input": "2024-06-08T17:02:24.009241Z",
     "iopub.status.busy": "2024-06-08T17:02:24.008881Z",
     "iopub.status.idle": "2024-06-08T17:02:24.018348Z",
     "shell.execute_reply": "2024-06-08T17:02:24.017443Z",
     "shell.execute_reply.started": "2024-06-08T17:02:24.009209Z"
    }
   },
   "outputs": [],
   "source": [
    "cor_cashflow_2 = qcf.CompoundedOvernightRateCashflow2(\n",
    "    oitest,\n",
    "    qcf.QCDate(27, 12, 2021),\n",
    "    qcf.QCDate(31, 12, 2021),\n",
    "    qcf.QCDate(2, 1, 2022),\n",
    "    fixing_dates,\n",
    "    10_000_000.0,\n",
    "    100_000.0,\n",
    "    True,\n",
    "    qcf.QCCLP(),\n",
    "    spread:=0.001,\n",
    "    1.0,\n",
    "    qcf.QCInterestRate(0.0, qcf.QCAct360(), qcf.QCLinearWf()),\n",
    "    8,\n",
    "    0,\n",
    "    0,\n",
    ")"
   ]
  },
  {
   "cell_type": "markdown",
   "metadata": {},
   "source": [
    "### Getters"
   ]
  },
  {
   "cell_type": "code",
   "execution_count": 182,
   "metadata": {
    "ExecuteTime": {
     "end_time": "2022-01-21T13:43:03.680249Z",
     "start_time": "2022-01-21T13:43:03.680249Z"
    },
    "execution": {
     "iopub.execute_input": "2024-06-08T17:02:25.106568Z",
     "iopub.status.busy": "2024-06-08T17:02:25.106234Z",
     "iopub.status.idle": "2024-06-08T17:02:25.116084Z",
     "shell.execute_reply": "2024-06-08T17:02:25.115367Z",
     "shell.execute_reply.started": "2024-06-08T17:02:25.106540Z"
    }
   },
   "outputs": [
    {
     "name": "stdout",
     "output_type": "stream",
     "text": [
      "Type of cashflow: CompoundedOvernightRateCashflow2\n",
      "Fecha Inicio: 2021-12-27\n",
      "Fecha Final: 2021-12-31\n",
      "Fecha Pago: 2022-01-02\n",
      "Nocional: 10,000,000\n",
      "Amortización: 100,000\n",
      "Moneda del nocional: CLP\n",
      "Spread: 0.10%\n",
      "Gearing: 1.00\n",
      "Número de decimales de tasa: 8\n"
     ]
    }
   ],
   "source": [
    "print(f\"Type of cashflow: {cor_cashflow_2.get_type()}\")\n",
    "print(f\"Fecha Inicio: {cor_cashflow_2.get_start_date()}\")\n",
    "print(f\"Fecha Final: {cor_cashflow_2.get_end_date()}\")\n",
    "print(f\"Fecha Pago: {cor_cashflow_2.get_settlement_date()}\")\n",
    "print(f\"Nocional: {cor_cashflow_2.get_nominal():,.0f}\")\n",
    "print(f\"Amortización: {cor_cashflow_2.get_amortization():,.0f}\")\n",
    "print(f\"Moneda del nocional: {cor_cashflow_2.ccy().get_iso_code()}\")\n",
    "print(f\"Spread: {cor_cashflow_2.get_spread():.2%}\")\n",
    "print(f\"Gearing: {cor_cashflow_2.get_gearing():.2f}\")\n",
    "print(f\"Número de decimales de tasa: {cor_cashflow_2.get_eq_rate_decimal_places()}\")"
   ]
  },
  {
   "cell_type": "code",
   "execution_count": 183,
   "metadata": {
    "ExecuteTime": {
     "end_time": "2022-01-21T13:43:03.684238Z",
     "start_time": "2022-01-21T13:43:03.684238Z"
    },
    "execution": {
     "iopub.execute_input": "2024-06-08T17:02:25.868120Z",
     "iopub.status.busy": "2024-06-08T17:02:25.867758Z",
     "iopub.status.idle": "2024-06-08T17:02:25.874626Z",
     "shell.execute_reply": "2024-06-08T17:02:25.873599Z",
     "shell.execute_reply.started": "2024-06-08T17:02:25.868089Z"
    }
   },
   "outputs": [
    {
     "name": "stdout",
     "output_type": "stream",
     "text": [
      "Fechas de fijación\n",
      "2021-12-27\n",
      "2021-12-28\n",
      "2021-12-29\n",
      "2021-12-30\n"
     ]
    }
   ],
   "source": [
    "print(\"Fechas de fijación\")\n",
    "for d in cor_cashflow_2.get_fixing_dates():\n",
    "    print(d)"
   ]
  },
  {
   "cell_type": "markdown",
   "metadata": {},
   "source": [
    "### Setters"
   ]
  },
  {
   "cell_type": "code",
   "execution_count": 184,
   "metadata": {
    "ExecuteTime": {
     "end_time": "2022-01-21T13:43:03.697203Z",
     "start_time": "2022-01-21T13:43:03.697203Z"
    },
    "execution": {
     "iopub.execute_input": "2024-06-08T17:02:26.977232Z",
     "iopub.status.busy": "2024-06-08T17:02:26.976869Z",
     "iopub.status.idle": "2024-06-08T17:02:26.982102Z",
     "shell.execute_reply": "2024-06-08T17:02:26.981302Z",
     "shell.execute_reply.started": "2024-06-08T17:02:26.977201Z"
    }
   },
   "outputs": [
    {
     "name": "stdout",
     "output_type": "stream",
     "text": [
      "Nocional: 1,000\n"
     ]
    }
   ],
   "source": [
    "cor_cashflow_2.set_notional(1_000)\n",
    "print(f\"Nocional: {cor_cashflow_2.get_nominal():,.0f}\")"
   ]
  },
  {
   "cell_type": "code",
   "execution_count": 185,
   "metadata": {
    "ExecuteTime": {
     "end_time": "2022-01-21T13:43:03.698200Z",
     "start_time": "2022-01-21T13:43:03.698200Z"
    },
    "execution": {
     "iopub.execute_input": "2024-06-08T17:02:27.610724Z",
     "iopub.status.busy": "2024-06-08T17:02:27.610365Z",
     "iopub.status.idle": "2024-06-08T17:02:27.616656Z",
     "shell.execute_reply": "2024-06-08T17:02:27.615843Z",
     "shell.execute_reply.started": "2024-06-08T17:02:27.610693Z"
    }
   },
   "outputs": [
    {
     "data": {
      "text/plain": [
       "0.0"
      ]
     },
     "execution_count": 185,
     "metadata": {},
     "output_type": "execute_result"
    }
   ],
   "source": [
    "cor_cashflow_2.set_amortization(0)\n",
    "cor_cashflow_2.get_amortization()"
   ]
  },
  {
   "cell_type": "markdown",
   "metadata": {},
   "source": [
    "Se reversa el ejemplo."
   ]
  },
  {
   "cell_type": "code",
   "execution_count": 186,
   "metadata": {
    "ExecuteTime": {
     "end_time": "2022-01-21T13:43:03.699197Z",
     "start_time": "2022-01-21T13:43:03.699197Z"
    },
    "execution": {
     "iopub.execute_input": "2024-06-08T17:02:29.096627Z",
     "iopub.status.busy": "2024-06-08T17:02:29.096265Z",
     "iopub.status.idle": "2024-06-08T17:02:29.100992Z",
     "shell.execute_reply": "2024-06-08T17:02:29.100070Z",
     "shell.execute_reply.started": "2024-06-08T17:02:29.096595Z"
    }
   },
   "outputs": [],
   "source": [
    "cor_cashflow_2.set_notional(10_000_000.0)\n",
    "cor_cashflow_2.set_amortization(100_000.0)"
   ]
  },
  {
   "cell_type": "markdown",
   "metadata": {},
   "source": [
    "### Cálculos"
   ]
  },
  {
   "cell_type": "markdown",
   "metadata": {},
   "source": [
    "El `accrued_fixing` corresponde a la fijación de tasa equivalente en una fecha anterior a la fecha final del cashflow. Para el cálculo de `accrued_fixing` se requiere un objeto de tipo `TimeSeries` que contenga los datos históricos del índice overnight."
   ]
  },
  {
   "cell_type": "code",
   "execution_count": 187,
   "metadata": {
    "ExecuteTime": {
     "end_time": "2022-01-21T13:43:03.701192Z",
     "start_time": "2022-01-21T13:43:03.701192Z"
    },
    "execution": {
     "iopub.execute_input": "2024-06-08T17:02:31.473878Z",
     "iopub.status.busy": "2024-06-08T17:02:31.473520Z",
     "iopub.status.idle": "2024-06-08T17:02:31.477885Z",
     "shell.execute_reply": "2024-06-08T17:02:31.476972Z",
     "shell.execute_reply.started": "2024-06-08T17:02:31.473847Z"
    }
   },
   "outputs": [],
   "source": [
    "ts = qcf.time_series()"
   ]
  },
  {
   "cell_type": "code",
   "execution_count": 188,
   "metadata": {
    "ExecuteTime": {
     "end_time": "2022-01-21T13:43:03.702189Z",
     "start_time": "2022-01-21T13:43:03.702189Z"
    },
    "execution": {
     "iopub.execute_input": "2024-06-08T17:02:32.434695Z",
     "iopub.status.busy": "2024-06-08T17:02:32.434305Z",
     "iopub.status.idle": "2024-06-08T17:02:32.441038Z",
     "shell.execute_reply": "2024-06-08T17:02:32.440220Z",
     "shell.execute_reply.started": "2024-06-08T17:02:32.434665Z"
    }
   },
   "outputs": [],
   "source": [
    "ts[qcf.QCDate(27, 12, 2021)] = 0.01\n",
    "ts[qcf.QCDate(28, 12, 2021)] = 0.02\n",
    "ts[qcf.QCDate(29, 12, 2021)] = 0.03\n",
    "ts[qcf.QCDate(30, 12, 2021)] = 0.04"
   ]
  },
  {
   "cell_type": "code",
   "execution_count": 189,
   "metadata": {
    "ExecuteTime": {
     "end_time": "2022-01-21T13:43:03.703186Z",
     "start_time": "2022-01-21T13:43:03.703186Z"
    },
    "execution": {
     "iopub.execute_input": "2024-06-08T17:02:33.441590Z",
     "iopub.status.busy": "2024-06-08T17:02:33.441318Z",
     "iopub.status.idle": "2024-06-08T17:02:33.445715Z",
     "shell.execute_reply": "2024-06-08T17:02:33.445085Z",
     "shell.execute_reply.started": "2024-06-08T17:02:33.441566Z"
    }
   },
   "outputs": [
    {
     "name": "stdout",
     "output_type": "stream",
     "text": [
      "Accrued fixing: 1.500028%\n"
     ]
    }
   ],
   "source": [
    "print(f\"Accrued fixing: {cor_cashflow_2.accrued_fixing(qcf.QCDate(29, 12, 2021), ts):.6%}\")"
   ]
  },
  {
   "cell_type": "code",
   "execution_count": 190,
   "metadata": {
    "ExecuteTime": {
     "end_time": "2022-01-21T13:43:03.704184Z",
     "start_time": "2022-01-21T13:43:03.704184Z"
    },
    "execution": {
     "iopub.execute_input": "2024-06-08T17:02:35.177196Z",
     "iopub.status.busy": "2024-06-08T17:02:35.176887Z",
     "iopub.status.idle": "2024-06-08T17:02:35.181383Z",
     "shell.execute_reply": "2024-06-08T17:02:35.180629Z",
     "shell.execute_reply.started": "2024-06-08T17:02:35.177169Z"
    }
   },
   "outputs": [
    {
     "name": "stdout",
     "output_type": "stream",
     "text": [
      "Check: 1.500028%\n"
     ]
    }
   ],
   "source": [
    "check = ((1 + 0.01 / 360) * (1 + 0.02 / 360.0) - 1) * 360 / 2.0\n",
    "print(f\"Check: {check:.6%}\")"
   ]
  },
  {
   "cell_type": "markdown",
   "metadata": {},
   "source": [
    "El `accrued_interest` corresponde a los intereses devengados en una fecha anterior a la fecha final del cashflow. Para el cálculo de `accrued_interest` se requiere un objeto de tipo `TimeSeries` que contenga los datos históricos del índice overnight."
   ]
  },
  {
   "cell_type": "code",
   "execution_count": 191,
   "metadata": {
    "ExecuteTime": {
     "end_time": "2022-01-21T13:43:03.706179Z",
     "start_time": "2022-01-21T13:43:03.706179Z"
    },
    "execution": {
     "iopub.execute_input": "2024-06-08T17:02:36.109879Z",
     "iopub.status.busy": "2024-06-08T17:02:36.109528Z",
     "iopub.status.idle": "2024-06-08T17:02:36.114709Z",
     "shell.execute_reply": "2024-06-08T17:02:36.113653Z",
     "shell.execute_reply.started": "2024-06-08T17:02:36.109848Z"
    }
   },
   "outputs": [
    {
     "name": "stdout",
     "output_type": "stream",
     "text": [
      "Accrued interest: 888.90\n"
     ]
    }
   ],
   "source": [
    "print(f\"Accrued interest: {cor_cashflow_2.accrued_interest(qcf.QCDate(29, 12, 2021), ts):,.2f}\")"
   ]
  },
  {
   "cell_type": "code",
   "execution_count": 192,
   "metadata": {
    "ExecuteTime": {
     "end_time": "2022-01-21T13:43:03.707176Z",
     "start_time": "2022-01-21T13:43:03.707176Z"
    },
    "execution": {
     "iopub.execute_input": "2024-06-08T17:02:36.582212Z",
     "iopub.status.busy": "2024-06-08T17:02:36.581853Z",
     "iopub.status.idle": "2024-06-08T17:02:36.588790Z",
     "shell.execute_reply": "2024-06-08T17:02:36.587769Z",
     "shell.execute_reply.started": "2024-06-08T17:02:36.582181Z"
    }
   },
   "outputs": [
    {
     "name": "stdout",
     "output_type": "stream",
     "text": [
      "Check: 888.90\n"
     ]
    }
   ],
   "source": [
    "check = (\n",
    "    cor_cashflow_2.get_nominal()\n",
    "    * (cor_cashflow_2.accrued_fixing(qcf.QCDate(29, 12, 2021), ts) + spread)\n",
    "    * 2\n",
    "    / 360.0\n",
    ")\n",
    "print(f\"Check: {check:,.2f}\")"
   ]
  },
  {
   "cell_type": "markdown",
   "metadata": {},
   "source": [
    "Otros."
   ]
  },
  {
   "cell_type": "code",
   "execution_count": 193,
   "metadata": {
    "ExecuteTime": {
     "end_time": "2022-01-21T13:43:03.708174Z",
     "start_time": "2022-01-21T13:43:03.708174Z"
    },
    "execution": {
     "iopub.execute_input": "2024-06-08T17:02:37.657072Z",
     "iopub.status.busy": "2024-06-08T17:02:37.656706Z",
     "iopub.status.idle": "2024-06-08T17:02:37.662429Z",
     "shell.execute_reply": "2024-06-08T17:02:37.661485Z",
     "shell.execute_reply.started": "2024-06-08T17:02:37.657038Z"
    }
   },
   "outputs": [
    {
     "name": "stdout",
     "output_type": "stream",
     "text": [
      "Amount: 100,111.11\n",
      "Interés del spread: 111.11\n"
     ]
    }
   ],
   "source": [
    "print(f\"Amount: {cor_cashflow_2.amount():,.2f}\")\n",
    "print(f\"Interés del spread: {cor_cashflow_2.interest_from_spread():,.2f}\")"
   ]
  },
  {
   "cell_type": "markdown",
   "metadata": {},
   "source": [
    "### Método `is_expired`"
   ]
  },
  {
   "cell_type": "markdown",
   "metadata": {},
   "source": [
    "Un `CompoundedOvernightRateCashflow` se considera vencido en una fecha posterior a la fecha de pago."
   ]
  },
  {
   "cell_type": "code",
   "execution_count": 194,
   "metadata": {
    "execution": {
     "iopub.execute_input": "2024-06-08T17:02:39.504943Z",
     "iopub.status.busy": "2024-06-08T17:02:39.504580Z",
     "iopub.status.idle": "2024-06-08T17:02:39.510060Z",
     "shell.execute_reply": "2024-06-08T17:02:39.509000Z",
     "shell.execute_reply.started": "2024-06-08T17:02:39.504911Z"
    }
   },
   "outputs": [
    {
     "name": "stdout",
     "output_type": "stream",
     "text": [
      "Fecha Pago: 2022-01-02\n"
     ]
    }
   ],
   "source": [
    "print(f\"Fecha Pago: {cor_cashflow_2.get_settlement_date()}\")"
   ]
  },
  {
   "cell_type": "code",
   "execution_count": 195,
   "metadata": {
    "ExecuteTime": {
     "end_time": "2022-01-21T13:43:03.713161Z",
     "start_time": "2022-01-21T13:43:03.713161Z"
    },
    "execution": {
     "iopub.execute_input": "2024-06-08T17:02:40.302017Z",
     "iopub.status.busy": "2024-06-08T17:02:40.301659Z",
     "iopub.status.idle": "2024-06-08T17:02:40.308160Z",
     "shell.execute_reply": "2024-06-08T17:02:40.307165Z",
     "shell.execute_reply.started": "2024-06-08T17:02:40.301987Z"
    }
   },
   "outputs": [
    {
     "data": {
      "text/plain": [
       "False"
      ]
     },
     "execution_count": 195,
     "metadata": {},
     "output_type": "execute_result"
    }
   ],
   "source": [
    "cor_cashflow_2.is_expired(qcf.QCDate(29, 12, 2021))"
   ]
  },
  {
   "cell_type": "code",
   "execution_count": 198,
   "metadata": {
    "ExecuteTime": {
     "end_time": "2022-01-21T13:43:03.714157Z",
     "start_time": "2022-01-21T13:43:03.714157Z"
    },
    "execution": {
     "iopub.execute_input": "2024-06-08T17:02:53.652758Z",
     "iopub.status.busy": "2024-06-08T17:02:53.652392Z",
     "iopub.status.idle": "2024-06-08T17:02:53.658463Z",
     "shell.execute_reply": "2024-06-08T17:02:53.657381Z",
     "shell.execute_reply.started": "2024-06-08T17:02:53.652725Z"
    }
   },
   "outputs": [
    {
     "data": {
      "text/plain": [
       "False"
      ]
     },
     "execution_count": 198,
     "metadata": {},
     "output_type": "execute_result"
    }
   ],
   "source": [
    "cor_cashflow_2.is_expired(qcf.QCDate(2, 1, 2022))"
   ]
  },
  {
   "cell_type": "code",
   "execution_count": 199,
   "metadata": {
    "ExecuteTime": {
     "end_time": "2022-01-21T13:43:03.716152Z",
     "start_time": "2022-01-21T13:43:03.716152Z"
    },
    "execution": {
     "iopub.execute_input": "2024-06-08T17:02:57.605190Z",
     "iopub.status.busy": "2024-06-08T17:02:57.604827Z",
     "iopub.status.idle": "2024-06-08T17:02:57.611137Z",
     "shell.execute_reply": "2024-06-08T17:02:57.610318Z",
     "shell.execute_reply.started": "2024-06-08T17:02:57.605157Z"
    }
   },
   "outputs": [
    {
     "data": {
      "text/plain": [
       "True"
      ]
     },
     "execution_count": 199,
     "metadata": {},
     "output_type": "execute_result"
    }
   ],
   "source": [
    "cor_cashflow_2.is_expired(qcf.QCDate(3, 1, 2022))"
   ]
  },
  {
   "cell_type": "markdown",
   "metadata": {
    "execution": {
     "iopub.status.busy": "2024-06-08T12:16:03.982891Z",
     "iopub.status.idle": "2024-06-08T12:16:03.983354Z",
     "shell.execute_reply": "2024-06-08T12:16:03.983197Z",
     "shell.execute_reply.started": "2024-06-08T12:16:03.983182Z"
    }
   },
   "source": [
    "### Funciones `show` y `get_column_names`"
   ]
  },
  {
   "cell_type": "code",
   "execution_count": 200,
   "metadata": {
    "execution": {
     "iopub.execute_input": "2024-06-08T17:03:01.155988Z",
     "iopub.status.busy": "2024-06-08T17:03:01.155721Z",
     "iopub.status.idle": "2024-06-08T17:03:01.169574Z",
     "shell.execute_reply": "2024-06-08T17:03:01.168867Z",
     "shell.execute_reply.started": "2024-06-08T17:03:01.155966Z"
    }
   },
   "outputs": [
    {
     "data": {
      "text/html": [
       "<div>\n",
       "<style scoped>\n",
       "    .dataframe tbody tr th:only-of-type {\n",
       "        vertical-align: middle;\n",
       "    }\n",
       "\n",
       "    .dataframe tbody tr th {\n",
       "        vertical-align: top;\n",
       "    }\n",
       "\n",
       "    .dataframe thead th {\n",
       "        text-align: right;\n",
       "    }\n",
       "</style>\n",
       "<table border=\"1\" class=\"dataframe\">\n",
       "  <thead>\n",
       "    <tr style=\"text-align: right;\">\n",
       "      <th></th>\n",
       "      <th>fecha_inicial</th>\n",
       "      <th>fecha_final</th>\n",
       "      <th>fecha_pago</th>\n",
       "      <th>nominal</th>\n",
       "      <th>amortizacion</th>\n",
       "      <th>interes</th>\n",
       "      <th>amort_es_flujo</th>\n",
       "      <th>flujo</th>\n",
       "      <th>moneda</th>\n",
       "      <th>codigo_indice_tasa</th>\n",
       "      <th>tipo_tasa</th>\n",
       "      <th>valor_tasa</th>\n",
       "      <th>spread</th>\n",
       "      <th>gearing</th>\n",
       "    </tr>\n",
       "  </thead>\n",
       "  <tbody>\n",
       "    <tr>\n",
       "      <th>0</th>\n",
       "      <td>2021-12-27</td>\n",
       "      <td>2021-12-31</td>\n",
       "      <td>2022-01-02</td>\n",
       "      <td>10000000.0</td>\n",
       "      <td>100000.0</td>\n",
       "      <td>888.904444</td>\n",
       "      <td>True</td>\n",
       "      <td>100111.111111</td>\n",
       "      <td>CLP</td>\n",
       "      <td>OITEST</td>\n",
       "      <td>LinAct360</td>\n",
       "      <td>0.0</td>\n",
       "      <td>0.001</td>\n",
       "      <td>1.0</td>\n",
       "    </tr>\n",
       "  </tbody>\n",
       "</table>\n",
       "</div>"
      ],
      "text/plain": [
       "  fecha_inicial fecha_final  fecha_pago     nominal  amortizacion     interes  \\\n",
       "0    2021-12-27  2021-12-31  2022-01-02  10000000.0      100000.0  888.904444   \n",
       "\n",
       "   amort_es_flujo          flujo moneda codigo_indice_tasa  tipo_tasa  \\\n",
       "0            True  100111.111111    CLP             OITEST  LinAct360   \n",
       "\n",
       "   valor_tasa  spread  gearing  \n",
       "0         0.0   0.001      1.0  "
      ]
     },
     "execution_count": 200,
     "metadata": {},
     "output_type": "execute_result"
    }
   ],
   "source": [
    "pd.DataFrame([qcf.show(cor_cashflow_2)], columns=qcf.get_column_names(\"CompoundedOvernightRateCashflow2\", \"\"))"
   ]
  },
  {
   "cell_type": "markdown",
   "metadata": {},
   "source": [
    "## Compounded Overnight Rate Multi Currency Cashflow 2"
   ]
  },
  {
   "cell_type": "markdown",
   "metadata": {},
   "source": [
    "Un objeto de tipo `CompoundedOvernightRateMultiCurrencyCashflow2` representa un flujo de caja calculado como un cupón de la pata flotante de un OIS sobre cualquier índice overnight (SOFR, FF, EONIA) con la característica adicional de liquidar sus flujos en una moneda distina a la del nocional. Para dar de alta uno de estos objetos se requiere:\n",
    "\n",
    "- `InterestRateIndex`: el índice de tasa de interés prefijado\n",
    "- `QCDate`: fecha inicio (para la aplicación de la tasa)\n",
    "- `QCDate`: fecha final (para la aplicación de la tasa)\n",
    "- `QCDate`: fecha de pago\n",
    "- `DateList`: fechas de fixing del índice\n",
    "- `float`: nominal (monto al que se le aplica la tasa)\n",
    "- `float`: amortización (eventual flujo de caja que corresponde a una porción del nominal)\n",
    "- `bool`: indica si la amortización anterior es un flujo de caja o sólo una disminución de nominal\n",
    "- `QCCurrency`: moneda del nocional de la operación\n",
    "- `float`: spread aditivo a aplicar a la fijación de la tasa equivalente\n",
    "- `float`: spread multiplicativo o gearing a aplicar a la fijación de la tasa equivalente\n",
    "- `QCInterestRate`: permite especificar cuál es la convención de cálculo de la tasa equivalente\n",
    "- `unsigned int`: número de decimales a usar en el cálculo de la tasa equivalente. Por ejemplo para 0.12345678% este valor debe ser 10.\n",
    "- `unsigned int`: número de días de lookback\n",
    "- `unsigned int`: número de días de lockout\n",
    "\n",
    "Estos argumentos son los heredados de un `CompoundedOvernightRateCashflow`. También en este caso, el efecto de lookback y lockout aún no está implementado.\n",
    "\n",
    "A estos argumentos se debe agregar:\n",
    "\n",
    "- `QCDate`: fecha de fixing del índice de tipo de cambio. Esta fecha se refiere a la fecha de publicación del índice, no a la fecha de fixing en sentido financiero.\n",
    "- `QCCurrency`: moneda de pago de los flujos de caja\n",
    "- `FXRateIndex>`: índice de tipo de cambio utilizado para la conversión de los flujos a moneda de pago"
   ]
  },
  {
   "cell_type": "markdown",
   "metadata": {},
   "source": [
    "### Constructor"
   ]
  },
  {
   "cell_type": "markdown",
   "metadata": {},
   "source": [
    "Se da de alta un índice overnight ficiticio de test."
   ]
  },
  {
   "cell_type": "code",
   "execution_count": 201,
   "metadata": {
    "ExecuteTime": {
     "end_time": "2022-01-21T13:43:03.569544Z",
     "start_time": "2022-01-21T13:43:03.554583Z"
    },
    "execution": {
     "iopub.execute_input": "2024-06-08T21:06:46.080964Z",
     "iopub.status.busy": "2024-06-08T21:06:46.078901Z",
     "iopub.status.idle": "2024-06-08T21:06:46.097775Z",
     "shell.execute_reply": "2024-06-08T21:06:46.096680Z",
     "shell.execute_reply.started": "2024-06-08T21:06:46.080877Z"
    }
   },
   "outputs": [],
   "source": [
    "codigo = \"OITEST\"\n",
    "lin_act360 = qcf.QCInterestRate(0.0, act360, lin_wf)\n",
    "fixing_lag = qcf.Tenor(\"0d\")\n",
    "tenor = qcf.Tenor(\"1d\")\n",
    "fixing_calendar = scl\n",
    "settlement_calendar = scl\n",
    "oitest = qcf.InterestRateIndex(\n",
    "    codigo, \n",
    "    lin_act360, \n",
    "    fixing_lag, \n",
    "    tenor, \n",
    "    fixing_calendar, \n",
    "    settlement_calendar, \n",
    "    usd\n",
    ")"
   ]
  },
  {
   "cell_type": "markdown",
   "metadata": {},
   "source": [
    "Al dar de alta directamente este cashflow es necesario entregar explícitamente las fechas de fijación. En el capítulo relacionado a construcción de `qcf.Leg` veremos cómo este proceso se simplifica."
   ]
  },
  {
   "cell_type": "code",
   "execution_count": 202,
   "metadata": {
    "ExecuteTime": {
     "end_time": "2022-01-21T13:43:03.584504Z",
     "start_time": "2022-01-21T13:43:03.570541Z"
    },
    "execution": {
     "iopub.execute_input": "2024-06-08T21:07:32.279053Z",
     "iopub.status.busy": "2024-06-08T21:07:32.278382Z",
     "iopub.status.idle": "2024-06-08T21:07:32.283997Z",
     "shell.execute_reply": "2024-06-08T21:07:32.282973Z",
     "shell.execute_reply.started": "2024-06-08T21:07:32.279021Z"
    }
   },
   "outputs": [],
   "source": [
    "fixing_dates = qcf.DateList()"
   ]
  },
  {
   "cell_type": "code",
   "execution_count": 203,
   "metadata": {
    "ExecuteTime": {
     "end_time": "2022-01-21T13:43:03.600461Z",
     "start_time": "2022-01-21T13:43:03.585501Z"
    },
    "execution": {
     "iopub.execute_input": "2024-06-08T21:07:34.351752Z",
     "iopub.status.busy": "2024-06-08T21:07:34.351376Z",
     "iopub.status.idle": "2024-06-08T21:07:34.357765Z",
     "shell.execute_reply": "2024-06-08T21:07:34.356725Z",
     "shell.execute_reply.started": "2024-06-08T21:07:34.351721Z"
    }
   },
   "outputs": [],
   "source": [
    "fixing_dates.append(qcf.QCDate(27, 12, 2021))\n",
    "fixing_dates.append(qcf.QCDate(28, 12, 2021))\n",
    "fixing_dates.append(qcf.QCDate(29, 12, 2021))\n",
    "fixing_dates.append(qcf.QCDate(30, 12, 2021))"
   ]
  },
  {
   "cell_type": "markdown",
   "metadata": {},
   "source": [
    "Se da de alta el objeto."
   ]
  },
  {
   "cell_type": "code",
   "execution_count": 208,
   "metadata": {
    "ExecuteTime": {
     "end_time": "2022-01-21T13:43:03.679251Z",
     "start_time": "2022-01-21T13:43:03.601459Z"
    },
    "execution": {
     "iopub.execute_input": "2024-06-08T21:14:12.876624Z",
     "iopub.status.busy": "2024-06-08T21:14:12.876280Z",
     "iopub.status.idle": "2024-06-08T21:14:12.883672Z",
     "shell.execute_reply": "2024-06-08T21:14:12.882830Z",
     "shell.execute_reply.started": "2024-06-08T21:14:12.876594Z"
    }
   },
   "outputs": [],
   "source": [
    "cor_cashflow_mccy_2 = qcf.CompoundedOvernightRateMultiCurrencyCashflow2(\n",
    "    oitest,\n",
    "    qcf.QCDate(27, 12, 2021),\n",
    "    qcf.QCDate(31, 12, 2021),\n",
    "    qcf.QCDate(31, 12, 2021),\n",
    "    fixing_dates,\n",
    "    10_000_000.0,\n",
    "    100_000.0,\n",
    "    True,\n",
    "    qcf.QCCLP(),\n",
    "    spread:=0.001,\n",
    "    1.0,\n",
    "    qcf.QCInterestRate(0.0, qcf.QCAct360(), qcf.QCLinearWf()),\n",
    "    8,\n",
    "    0,\n",
    "    0,\n",
    "    qcf.QCDate(31, 12, 2021),\n",
    "    qcf.QCUSD(),\n",
    "    usdclp_obs,\n",
    ")"
   ]
  },
  {
   "cell_type": "markdown",
   "metadata": {},
   "source": [
    "### Nuevos Getters"
   ]
  },
  {
   "cell_type": "code",
   "execution_count": 213,
   "metadata": {
    "execution": {
     "iopub.execute_input": "2024-06-08T21:16:01.315824Z",
     "iopub.status.busy": "2024-06-08T21:16:01.315458Z",
     "iopub.status.idle": "2024-06-08T21:16:01.321165Z",
     "shell.execute_reply": "2024-06-08T21:16:01.320321Z",
     "shell.execute_reply.started": "2024-06-08T21:16:01.315794Z"
    }
   },
   "outputs": [
    {
     "name": "stdout",
     "output_type": "stream",
     "text": [
      "Fx Rate Index: <qcfinancial.FXRateIndex object at 0x10d861bf0>\n",
      "Fx Rate Index Value: 1.0\n",
      "Fx Rate Index Code: USDOBS\n",
      "Fx Rate Index Fxing Date: 2021-12-31\n"
     ]
    }
   ],
   "source": [
    "print(f\"Fx Rate Index: {cor_cashflow_mccy_2.get_fx_rate_index()}\")\n",
    "print(f\"Fx Rate Index Value: {cor_cashflow_mccy_2.get_fx_rate_index_value()}\")\n",
    "print(f\"Fx Rate Index Code: {cor_cashflow_mccy_2.get_fx_rate_index_code()}\")\n",
    "print(f\"Fx Rate Index Fxing Date: {cor_cashflow_mccy_2.get_fx_rate_index_fixing_date()}\")"
   ]
  },
  {
   "cell_type": "markdown",
   "metadata": {},
   "source": [
    "### Nuevo Setter"
   ]
  },
  {
   "cell_type": "code",
   "execution_count": 214,
   "metadata": {
    "execution": {
     "iopub.execute_input": "2024-06-08T21:16:30.933518Z",
     "iopub.status.busy": "2024-06-08T21:16:30.933159Z",
     "iopub.status.idle": "2024-06-08T21:16:30.938788Z",
     "shell.execute_reply": "2024-06-08T21:16:30.937885Z",
     "shell.execute_reply.started": "2024-06-08T21:16:30.933486Z"
    }
   },
   "outputs": [
    {
     "name": "stdout",
     "output_type": "stream",
     "text": [
      "Fx Rate Index Value: 2.0\n"
     ]
    }
   ],
   "source": [
    "cor_cashflow_mccy_2.set_fx_rate_index_value(2.0)\n",
    "print(f\"Fx Rate Index Value: {cor_cashflow_mccy_2.get_fx_rate_index_value()}\")"
   ]
  },
  {
   "cell_type": "markdown",
   "metadata": {},
   "source": [
    "### Nuevos Cálculos"
   ]
  },
  {
   "cell_type": "code",
   "execution_count": 216,
   "metadata": {
    "execution": {
     "iopub.execute_input": "2024-06-08T21:17:26.669385Z",
     "iopub.status.busy": "2024-06-08T21:17:26.669031Z",
     "iopub.status.idle": "2024-06-08T21:17:26.674177Z",
     "shell.execute_reply": "2024-06-08T21:17:26.673272Z",
     "shell.execute_reply.started": "2024-06-08T21:17:26.669353Z"
    }
   },
   "outputs": [
    {
     "name": "stdout",
     "output_type": "stream",
     "text": [
      "Interest: 2,889.16\n"
     ]
    }
   ],
   "source": [
    "print(f\"Interest: {cor_cashflow_mccy_2.interest(ts):,.2f}\")"
   ]
  },
  {
   "cell_type": "code",
   "execution_count": 217,
   "metadata": {
    "editable": true,
    "execution": {
     "iopub.execute_input": "2024-06-08T21:18:04.541431Z",
     "iopub.status.busy": "2024-06-08T21:18:04.541085Z",
     "iopub.status.idle": "2024-06-08T21:18:04.548486Z",
     "shell.execute_reply": "2024-06-08T21:18:04.547639Z",
     "shell.execute_reply.started": "2024-06-08T21:18:04.541401Z"
    },
    "slideshow": {
     "slide_type": ""
    },
    "tags": []
   },
   "outputs": [
    {
     "name": "stdout",
     "output_type": "stream",
     "text": [
      "To settlement currency: 1,445\n"
     ]
    }
   ],
   "source": [
    "print(f\"To settlement currency: {cor_cashflow_mccy_2.to_settlement_currency(cor_cashflow_mccy_2.interest(ts)):,.0f}\")"
   ]
  },
  {
   "cell_type": "markdown",
   "metadata": {},
   "source": [
    "### Funciones `show` y `get_column_names`"
   ]
  },
  {
   "cell_type": "code",
   "execution_count": 218,
   "metadata": {
    "execution": {
     "iopub.execute_input": "2024-06-08T21:18:56.167192Z",
     "iopub.status.busy": "2024-06-08T21:18:56.166829Z",
     "iopub.status.idle": "2024-06-08T21:18:56.206490Z",
     "shell.execute_reply": "2024-06-08T21:18:56.205669Z",
     "shell.execute_reply.started": "2024-06-08T21:18:56.167159Z"
    }
   },
   "outputs": [
    {
     "data": {
      "text/html": [
       "<div>\n",
       "<style scoped>\n",
       "    .dataframe tbody tr th:only-of-type {\n",
       "        vertical-align: middle;\n",
       "    }\n",
       "\n",
       "    .dataframe tbody tr th {\n",
       "        vertical-align: top;\n",
       "    }\n",
       "\n",
       "    .dataframe thead th {\n",
       "        text-align: right;\n",
       "    }\n",
       "</style>\n",
       "<table border=\"1\" class=\"dataframe\">\n",
       "  <thead>\n",
       "    <tr style=\"text-align: right;\">\n",
       "      <th></th>\n",
       "      <th>fecha_inicial</th>\n",
       "      <th>fecha_final</th>\n",
       "      <th>fecha_pago</th>\n",
       "      <th>nominal</th>\n",
       "      <th>amortizacion</th>\n",
       "      <th>interes</th>\n",
       "      <th>amort_es_flujo</th>\n",
       "      <th>flujo</th>\n",
       "      <th>moneda</th>\n",
       "      <th>codigo_indice_tasa</th>\n",
       "      <th>...</th>\n",
       "      <th>spread</th>\n",
       "      <th>gearing</th>\n",
       "      <th>valor_tasa</th>\n",
       "      <th>moneda_pago</th>\n",
       "      <th>fx_rate_index</th>\n",
       "      <th>fecha_fixing_fx</th>\n",
       "      <th>valor_indice_fx</th>\n",
       "      <th>interes_moneda_pago</th>\n",
       "      <th>amortizacion_moneda_pago</th>\n",
       "      <th>flujo_moneda_pago</th>\n",
       "    </tr>\n",
       "  </thead>\n",
       "  <tbody>\n",
       "    <tr>\n",
       "      <th>0</th>\n",
       "      <td>2021-12-27</td>\n",
       "      <td>2021-12-31</td>\n",
       "      <td>2021-12-31</td>\n",
       "      <td>10000000.0</td>\n",
       "      <td>100000.0</td>\n",
       "      <td>2889.158889</td>\n",
       "      <td>True</td>\n",
       "      <td>102889.158961</td>\n",
       "      <td>CLP</td>\n",
       "      <td>OITEST</td>\n",
       "      <td>...</td>\n",
       "      <td>0.001</td>\n",
       "      <td>1.0</td>\n",
       "      <td>0.025002</td>\n",
       "      <td>USD</td>\n",
       "      <td>USDOBS</td>\n",
       "      <td>2021-12-31</td>\n",
       "      <td>2.0</td>\n",
       "      <td>1444.579444</td>\n",
       "      <td>50000.0</td>\n",
       "      <td>51444.579444</td>\n",
       "    </tr>\n",
       "  </tbody>\n",
       "</table>\n",
       "<p>1 rows × 21 columns</p>\n",
       "</div>"
      ],
      "text/plain": [
       "  fecha_inicial fecha_final  fecha_pago     nominal  amortizacion  \\\n",
       "0    2021-12-27  2021-12-31  2021-12-31  10000000.0      100000.0   \n",
       "\n",
       "       interes  amort_es_flujo          flujo moneda codigo_indice_tasa  ...  \\\n",
       "0  2889.158889            True  102889.158961    CLP             OITEST  ...   \n",
       "\n",
       "  spread  gearing  valor_tasa  moneda_pago fx_rate_index fecha_fixing_fx  \\\n",
       "0  0.001      1.0    0.025002          USD        USDOBS      2021-12-31   \n",
       "\n",
       "  valor_indice_fx  interes_moneda_pago  amortizacion_moneda_pago  \\\n",
       "0             2.0          1444.579444                   50000.0   \n",
       "\n",
       "   flujo_moneda_pago  \n",
       "0       51444.579444  \n",
       "\n",
       "[1 rows x 21 columns]"
      ]
     },
     "execution_count": 218,
     "metadata": {},
     "output_type": "execute_result"
    }
   ],
   "source": [
    "pd.DataFrame([qcf.show(cor_cashflow_mccy_2)], columns=qcf.get_column_names(\"CompoundedOvernightRateMultiCurrencyCashflow2\", \"\"))"
   ]
  },
  {
   "cell_type": "markdown",
   "metadata": {},
   "source": [
    "## Icp Clf Cashflow"
   ]
  },
  {
   "cell_type": "markdown",
   "metadata": {},
   "source": [
    "Un objeto de tipo `IcpClfCashflow` representa un flujo de caja calculado como un cupón de la pata flotante de un swap ICP (cámara promedio) en UF de Chile. Para dar de alta uno de estos objetos se requiere:\n",
    "\n",
    "- `QCDate`: fecha inicio (para la aplicación de la tasa)\n",
    "- `QCDate`: fecha final (para la aplicación de la tasa)\n",
    "- `QCDate`: fecha de pago\n",
    "- `float`: nominal (monto al que se le aplica la tasa)\n",
    "- `float`: amortización (eventual flujo de caja que corresponde a una porción del nominal)\n",
    "- `bool`: indica si la amortización anterior es un flujo de caja o sólo una disminución de nominal\n",
    "- `float`: spread aditivo a aplicar a la fijación de la TRA\n",
    "- `float`: spread multiplicativo o gearing a aplicar a la fijación de la TRA\n",
    "- `vector<float>`: objeto `double_vec` (en Python) que contiene ICP Inicio, ICP Final, UF Inicio, UF Final (se debe respetar el orden)\n",
    "\n",
    "Recordar que TRA significa **Tasa Real Anual** y se determina utilizando los valores del índice ICP y los valores de la UF en la fecha de inicio y fecha final del `IcpClfCashflow`."
   ]
  },
  {
   "cell_type": "markdown",
   "metadata": {},
   "source": [
    "### Constructor"
   ]
  },
  {
   "cell_type": "markdown",
   "metadata": {},
   "source": [
    "Parámetros iniciales."
   ]
  },
  {
   "cell_type": "code",
   "execution_count": 220,
   "metadata": {
    "ExecuteTime": {
     "end_time": "2022-01-21T13:43:03.522669Z",
     "start_time": "2022-01-21T13:43:03.507709Z"
    },
    "execution": {
     "iopub.execute_input": "2024-06-08T21:24:08.376456Z",
     "iopub.status.busy": "2024-06-08T21:24:08.376103Z",
     "iopub.status.idle": "2024-06-08T21:24:08.384118Z",
     "shell.execute_reply": "2024-06-08T21:24:08.383056Z",
     "shell.execute_reply.started": "2024-06-08T21:24:08.376424Z"
    }
   },
   "outputs": [],
   "source": [
    "fecha_inicio = qcf.QCDate(20, 9, 2018)\n",
    "fecha_final = qcf.QCDate(20, 9, 2019)\n",
    "fecha_pago = qcf.QCDate(23, 9, 2019)\n",
    "nominal = 300_000.0\n",
    "amort = 100_000.0\n",
    "spread = 0.0\n",
    "gearing = 1.0\n",
    "\n",
    "icp_uf = qcf.double_vec()\n",
    "# Los primeros dos valores corresponden a icp_inicial e icp_final.\n",
    "# Los segundos dos valores corresponden a uf_inicial y uf_final\n",
    "icp_uf.append(10_000.0)\n",
    "icp_uf.append(10_250.0)\n",
    "icp_uf.append(35_000.0)\n",
    "icp_uf.append(35_500.0)"
   ]
  },
  {
   "cell_type": "markdown",
   "metadata": {},
   "source": [
    "Alta del objeto."
   ]
  },
  {
   "cell_type": "code",
   "execution_count": 221,
   "metadata": {
    "execution": {
     "iopub.execute_input": "2024-06-08T21:24:17.338965Z",
     "iopub.status.busy": "2024-06-08T21:24:17.338605Z",
     "iopub.status.idle": "2024-06-08T21:24:17.344355Z",
     "shell.execute_reply": "2024-06-08T21:24:17.343482Z",
     "shell.execute_reply.started": "2024-06-08T21:24:17.338934Z"
    }
   },
   "outputs": [],
   "source": [
    "icp_clf_cashflow = qcf.IcpClfCashflow(\n",
    "    fecha_inicio, \n",
    "    fecha_final, \n",
    "    fecha_pago, \n",
    "    nominal, \n",
    "    amort, \n",
    "    True, \n",
    "    spread, \n",
    "    gearing, \n",
    "    icp_uf\n",
    ")"
   ]
  },
  {
   "cell_type": "markdown",
   "metadata": {},
   "source": [
    "### Getters"
   ]
  },
  {
   "cell_type": "code",
   "execution_count": 223,
   "metadata": {
    "ExecuteTime": {
     "end_time": "2022-01-21T13:43:03.538625Z",
     "start_time": "2022-01-21T13:43:03.523667Z"
    },
    "execution": {
     "iopub.execute_input": "2024-06-08T21:25:30.706526Z",
     "iopub.status.busy": "2024-06-08T21:25:30.706187Z",
     "iopub.status.idle": "2024-06-08T21:25:30.714488Z",
     "shell.execute_reply": "2024-06-08T21:25:30.713439Z",
     "shell.execute_reply.started": "2024-06-08T21:25:30.706497Z"
    }
   },
   "outputs": [
    {
     "name": "stdout",
     "output_type": "stream",
     "text": [
      "Fecha Inicio: 2018-09-20\n",
      "Fecha Final: 2019-09-20\n",
      "ICP Fecha Inicio: 10,000.00\n",
      "ICP Fecha Final: 10,250.00\n",
      "UF Fecha Inicio: 35,000.00\n",
      "UF Fecha Final: 35,500.00\n",
      "Valor TRA Todo el Período: 1.0461%\n",
      "Check TRA: 1.0461%\n",
      "Nominal: 300,000\n",
      "Amortización: 100,000\n",
      "Tipo de Tasa: LinAct360\n",
      "Moneda: CLF\n"
     ]
    }
   ],
   "source": [
    "print(\"Fecha Inicio:\", icp_clf_cashflow.get_start_date())\n",
    "print(\"Fecha Final:\", icp_clf_cashflow.get_end_date())\n",
    "\n",
    "print(f\"ICP Fecha Inicio: {icp_clf_cashflow.get_start_date_icp():,.2f}\")\n",
    "print(f\"ICP Fecha Final: {icp_clf_cashflow.get_end_date_icp():,.2f}\")\n",
    "\n",
    "print(f\"UF Fecha Inicio: {icp_clf_cashflow.get_start_date_uf():,.2f}\")\n",
    "print(f\"UF Fecha Final: {icp_clf_cashflow.get_end_date_uf():,.2f}\")\n",
    "\n",
    "print(f\"Valor TRA Todo el Período: {icp_clf_cashflow.get_rate_value():.4%}\")\n",
    "tna = icp_clf_cashflow.get_tna(fecha_final, 10_250.0)\n",
    "dias = fecha_inicio.day_diff(fecha_final)\n",
    "tra = ((1 + tna * dias / 360.0) * icp_uf[2]/ icp_uf[3] - 1) * 360.0 / dias\n",
    "print(f\"Check TRA: {round(tra, 6):.4%}\")\n",
    "\n",
    "print(f\"Nominal: {icp_clf_cashflow.get_nominal():,.0f}\")\n",
    "print(f\"Amortización: {icp_clf_cashflow.get_amortization():,.0f}\")\n",
    "print(\"Tipo de Tasa:\", icp_clf_cashflow.get_type_of_rate())\n",
    "print(\"Moneda:\", icp_clf_cashflow.ccy())"
   ]
  },
  {
   "cell_type": "markdown",
   "metadata": {},
   "source": [
    "### Setters"
   ]
  },
  {
   "cell_type": "code",
   "execution_count": 224,
   "metadata": {
    "ExecuteTime": {
     "end_time": "2022-01-21T13:43:03.553586Z",
     "start_time": "2022-01-21T13:43:03.539624Z"
    },
    "execution": {
     "iopub.execute_input": "2024-06-08T21:26:04.372119Z",
     "iopub.status.busy": "2024-06-08T21:26:04.371756Z",
     "iopub.status.idle": "2024-06-08T21:26:04.380953Z",
     "shell.execute_reply": "2024-06-08T21:26:04.380060Z",
     "shell.execute_reply.started": "2024-06-08T21:26:04.372087Z"
    }
   },
   "outputs": [
    {
     "name": "stdout",
     "output_type": "stream",
     "text": [
      "Nueva TRA: 1.046054%\n",
      "Nuevo Nominal: 100,000\n",
      "Nueva Amortización: 10,000\n",
      "Nuevo ICP Inicio: 20,000.00\n",
      "Nuevo ICP Final: 20,500.00\n",
      "Check TNA Final: 2.470000%\n"
     ]
    }
   ],
   "source": [
    "decimales_para_tra = 8\n",
    "icp_clf_cashflow.set_tra_decimal_places(decimales_para_tra)\n",
    "print(f\"Nueva TRA: {icp_clf_cashflow.get_rate_value():.6%}\")\n",
    "\n",
    "nuevo_nominal = 100_000.0\n",
    "icp_clf_cashflow.set_nominal(nuevo_nominal)\n",
    "print(f\"Nuevo Nominal: {icp_clf_cashflow.get_nominal():,.0f}\")\n",
    "\n",
    "nueva_amortizacion = 10_000.0\n",
    "icp_clf_cashflow.set_amortization(nueva_amortizacion)\n",
    "print(f\"Nueva Amortización: {icp_clf_cashflow.get_amortization():,.0f}\")\n",
    "\n",
    "nuevo_icp_inicio = 20_000.0\n",
    "icp_clf_cashflow.set_start_date_icp(nuevo_icp_inicio)\n",
    "print(f\"Nuevo ICP Inicio: {icp_clf_cashflow.get_start_date_icp():,.2f}\")\n",
    "\n",
    "nuevo_icp_final = 20_500.0\n",
    "icp_clf_cashflow.set_end_date_icp(nuevo_icp_final)\n",
    "print(f\"Nuevo ICP Final: {icp_clf_cashflow.get_end_date_icp():,.2f}\")\n",
    "print(f\"Check TNA Final: {icp_clf_cashflow.get_tna(fecha_final, nuevo_icp_final):.6%}\")"
   ]
  },
  {
   "cell_type": "markdown",
   "metadata": {},
   "source": [
    "### Funciones `show` y `get_column_names`"
   ]
  },
  {
   "cell_type": "code",
   "execution_count": 238,
   "metadata": {
    "execution": {
     "iopub.execute_input": "2024-06-08T21:42:34.696936Z",
     "iopub.status.busy": "2024-06-08T21:42:34.696576Z",
     "iopub.status.idle": "2024-06-08T21:42:34.709361Z",
     "shell.execute_reply": "2024-06-08T21:42:34.708528Z",
     "shell.execute_reply.started": "2024-06-08T21:42:34.696904Z"
    }
   },
   "outputs": [
    {
     "data": {
      "text/html": [
       "<style type=\"text/css\">\n",
       "</style>\n",
       "<table id=\"T_96602\">\n",
       "  <thead>\n",
       "    <tr>\n",
       "      <th class=\"blank level0\" >&nbsp;</th>\n",
       "      <th id=\"T_96602_level0_col0\" class=\"col_heading level0 col0\" >fecha_inicial</th>\n",
       "      <th id=\"T_96602_level0_col1\" class=\"col_heading level0 col1\" >fecha_final</th>\n",
       "      <th id=\"T_96602_level0_col2\" class=\"col_heading level0 col2\" >fecha_pago</th>\n",
       "      <th id=\"T_96602_level0_col3\" class=\"col_heading level0 col3\" >nominal</th>\n",
       "      <th id=\"T_96602_level0_col4\" class=\"col_heading level0 col4\" >amortizacion</th>\n",
       "      <th id=\"T_96602_level0_col5\" class=\"col_heading level0 col5\" >amort_es_flujo</th>\n",
       "      <th id=\"T_96602_level0_col6\" class=\"col_heading level0 col6\" >flujo</th>\n",
       "      <th id=\"T_96602_level0_col7\" class=\"col_heading level0 col7\" >moneda</th>\n",
       "      <th id=\"T_96602_level0_col8\" class=\"col_heading level0 col8\" >icp_inicial</th>\n",
       "      <th id=\"T_96602_level0_col9\" class=\"col_heading level0 col9\" >icp_final</th>\n",
       "      <th id=\"T_96602_level0_col10\" class=\"col_heading level0 col10\" >uf_inicial</th>\n",
       "      <th id=\"T_96602_level0_col11\" class=\"col_heading level0 col11\" >uf_final</th>\n",
       "      <th id=\"T_96602_level0_col12\" class=\"col_heading level0 col12\" >valor_tasa</th>\n",
       "      <th id=\"T_96602_level0_col13\" class=\"col_heading level0 col13\" >interes</th>\n",
       "      <th id=\"T_96602_level0_col14\" class=\"col_heading level0 col14\" >spread</th>\n",
       "      <th id=\"T_96602_level0_col15\" class=\"col_heading level0 col15\" >gearing</th>\n",
       "      <th id=\"T_96602_level0_col16\" class=\"col_heading level0 col16\" >tipo_tasa</th>\n",
       "      <th id=\"T_96602_level0_col17\" class=\"col_heading level0 col17\" >flujo_en_clp</th>\n",
       "    </tr>\n",
       "  </thead>\n",
       "  <tbody>\n",
       "    <tr>\n",
       "      <th id=\"T_96602_level0_row0\" class=\"row_heading level0 row0\" >0</th>\n",
       "      <td id=\"T_96602_row0_col0\" class=\"data row0 col0\" >2018-09-20</td>\n",
       "      <td id=\"T_96602_row0_col1\" class=\"data row0 col1\" >2019-09-20</td>\n",
       "      <td id=\"T_96602_row0_col2\" class=\"data row0 col2\" >2019-09-23</td>\n",
       "      <td id=\"T_96602_row0_col3\" class=\"data row0 col3\" >100,000.00</td>\n",
       "      <td id=\"T_96602_row0_col4\" class=\"data row0 col4\" >10,000.00</td>\n",
       "      <td id=\"T_96602_row0_col5\" class=\"data row0 col5\" >True</td>\n",
       "      <td id=\"T_96602_row0_col6\" class=\"data row0 col6\" >11,060.58</td>\n",
       "      <td id=\"T_96602_row0_col7\" class=\"data row0 col7\" >CLF</td>\n",
       "      <td id=\"T_96602_row0_col8\" class=\"data row0 col8\" >20,000.00</td>\n",
       "      <td id=\"T_96602_row0_col9\" class=\"data row0 col9\" >20,500.00</td>\n",
       "      <td id=\"T_96602_row0_col10\" class=\"data row0 col10\" >35,000.00</td>\n",
       "      <td id=\"T_96602_row0_col11\" class=\"data row0 col11\" >35,500.00</td>\n",
       "      <td id=\"T_96602_row0_col12\" class=\"data row0 col12\" >1.046054%</td>\n",
       "      <td id=\"T_96602_row0_col13\" class=\"data row0 col13\" >1,060.58</td>\n",
       "      <td id=\"T_96602_row0_col14\" class=\"data row0 col14\" >0.00%</td>\n",
       "      <td id=\"T_96602_row0_col15\" class=\"data row0 col15\" >1.000000</td>\n",
       "      <td id=\"T_96602_row0_col16\" class=\"data row0 col16\" >LinAct360</td>\n",
       "      <td id=\"T_96602_row0_col17\" class=\"data row0 col17\" >392,650,680</td>\n",
       "    </tr>\n",
       "  </tbody>\n",
       "</table>\n"
      ],
      "text/plain": [
       "<pandas.io.formats.style.Styler at 0x127d80d50>"
      ]
     },
     "execution_count": 238,
     "metadata": {},
     "output_type": "execute_result"
    }
   ],
   "source": [
    "df = pd.DataFrame([qcf.show(icp_clf_cashflow)], columns=qcf.get_column_names(\"IcpClfCashflow\", \"\"))\n",
    "format_dict['icp_inicial'] = '{:,.2f}'\n",
    "format_dict['icp_final'] = '{:,.2f}'\n",
    "format_dict['uf_inicial'] = '{:,.2f}'\n",
    "format_dict['uf_final'] = '{:,.2f}'\n",
    "df.style.format(format_dict)"
   ]
  }
 ],
 "metadata": {
  "hide_input": false,
  "kernelspec": {
   "display_name": "Python 3 (ipykernel)",
   "language": "python",
   "name": "python3"
  },
  "language_info": {
   "codemirror_mode": {
    "name": "ipython",
    "version": 3
   },
   "file_extension": ".py",
   "mimetype": "text/x-python",
   "name": "python",
   "nbconvert_exporter": "python",
   "pygments_lexer": "ipython3",
   "version": "3.11.5"
  },
  "toc": {
   "base_numbering": 1,
   "nav_menu": {},
   "number_sections": true,
   "sideBar": true,
   "skip_h1_title": true,
   "title_cell": "Table of Contents",
   "title_sidebar": "Contenido",
   "toc_cell": false,
   "toc_position": {
    "height": "675.455px",
    "left": "284px",
    "top": "282.284px",
    "width": "235px"
   },
   "toc_section_display": true,
   "toc_window_display": true
  },
  "varInspector": {
   "cols": {
    "lenName": 16,
    "lenType": 16,
    "lenVar": 40
   },
   "kernels_config": {
    "python": {
     "delete_cmd_postfix": "",
     "delete_cmd_prefix": "del ",
     "library": "var_list.py",
     "varRefreshCmd": "print(var_dic_list())"
    },
    "r": {
     "delete_cmd_postfix": ") ",
     "delete_cmd_prefix": "rm(",
     "library": "var_list.r",
     "varRefreshCmd": "cat(var_dic_list()) "
    }
   },
   "types_to_exclude": [
    "module",
    "function",
    "builtin_function_or_method",
    "instance",
    "_Feature"
   ],
   "window_display": false
  }
 },
 "nbformat": 4,
 "nbformat_minor": 4
}
