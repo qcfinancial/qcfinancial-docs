{
 "cells": [
  {
   "cell_type": "markdown",
   "metadata": {},
   "source": [
    "# Uso de `qcfinancial` (Parte 1)"
   ]
  },
  {
   "cell_type": "markdown",
   "metadata": {},
   "source": [
    "Se importa la librería compilada para Python3."
   ]
  },
  {
   "cell_type": "code",
   "execution_count": 1,
   "metadata": {
    "ExecuteTime": {
     "end_time": "2022-01-21T13:43:01.933321Z",
     "start_time": "2022-01-21T13:43:01.913344Z"
    },
    "execution": {
     "iopub.execute_input": "2023-06-28T19:21:08.316195Z",
     "iopub.status.busy": "2023-06-28T19:21:08.315688Z",
     "iopub.status.idle": "2023-06-28T19:21:09.395377Z",
     "shell.execute_reply": "2023-06-28T19:21:09.394022Z",
     "shell.execute_reply.started": "2023-06-28T19:21:08.316166Z"
    }
   },
   "outputs": [],
   "source": [
    "import qcfinancial as qcf"
   ]
  },
  {
   "cell_type": "markdown",
   "metadata": {},
   "source": [
    "## Monedas"
   ]
  },
  {
   "cell_type": "markdown",
   "metadata": {},
   "source": [
    "Objetos para representar una divisa. En estos momentos sólo las siguientes divisas están implementadas:\n",
    "\n",
    "- BRL\n",
    "- CAD\n",
    "- CLF (esta es una representación del índice de inflación chileno UF como divisa)\n",
    "- CLP\n",
    "- EUR\n",
    "- GBP\n",
    "- JPY\n",
    "- MXN\n",
    "- USD\n",
    "\n",
    "Si se requiere otra, solicitarlo ingresando un *issue* en el [git repo](https://github.com/adiaz-efaa/derivative-valuation-engine) del proyecto."
   ]
  },
  {
   "cell_type": "markdown",
   "metadata": {},
   "source": [
    "El constructor por default retorna USD."
   ]
  },
  {
   "cell_type": "code",
   "execution_count": 2,
   "metadata": {
    "ExecuteTime": {
     "end_time": "2022-01-21T13:43:01.949248Z",
     "start_time": "2022-01-21T13:43:01.935286Z"
    },
    "execution": {
     "iopub.execute_input": "2023-06-28T19:21:09.398017Z",
     "iopub.status.busy": "2023-06-28T19:21:09.397640Z",
     "iopub.status.idle": "2023-06-28T19:21:09.403751Z",
     "shell.execute_reply": "2023-06-28T19:21:09.403127Z",
     "shell.execute_reply.started": "2023-06-28T19:21:09.397998Z"
    }
   },
   "outputs": [
    {
     "data": {
      "text/plain": [
       "'USD'"
      ]
     },
     "execution_count": 2,
     "metadata": {},
     "output_type": "execute_result"
    }
   ],
   "source": [
    "x = qcf.QCCurrency()\n",
    "x.get_iso_code()"
   ]
  },
  {
   "cell_type": "markdown",
   "metadata": {},
   "source": [
    "Alta de divisas CLP, USD y JPY (USD se puede instanciar también de forma explícita)."
   ]
  },
  {
   "cell_type": "code",
   "execution_count": 3,
   "metadata": {
    "ExecuteTime": {
     "end_time": "2022-01-21T13:43:01.965206Z",
     "start_time": "2022-01-21T13:43:01.950246Z"
    },
    "execution": {
     "iopub.execute_input": "2023-06-28T19:21:09.404648Z",
     "iopub.status.busy": "2023-06-28T19:21:09.404479Z",
     "iopub.status.idle": "2023-06-28T19:21:09.408692Z",
     "shell.execute_reply": "2023-06-28T19:21:09.407956Z",
     "shell.execute_reply.started": "2023-06-28T19:21:09.404632Z"
    }
   },
   "outputs": [],
   "source": [
    "clp = qcf.QCCLP()\n",
    "usd = qcf.QCUSD()\n",
    "jpy = qcf.QCJPY()\n",
    "monedas = [clp, usd, jpy]"
   ]
  },
  {
   "cell_type": "markdown",
   "metadata": {},
   "source": [
    "### Métodos: `get_name`, `get_iso_code`, `get_iso_number`, `get_decimal_places` y `amount`."
   ]
  },
  {
   "cell_type": "markdown",
   "metadata": {},
   "source": [
    "El método `amount`debe utilizarse cuando se debe pagar o recibir un monto resultado de un cálculo. De esta forma, el monto se redondea al número correcto de decimales en la divisa (que se obtiene con `get_decimal_places`). Por ejemplo, en CLP, se redondea a 0 decimales ya que en esta divisa no se utilizan los centavos."
   ]
  },
  {
   "cell_type": "code",
   "execution_count": 4,
   "metadata": {
    "ExecuteTime": {
     "end_time": "2022-01-21T13:43:01.980166Z",
     "start_time": "2022-01-21T13:43:01.967201Z"
    },
    "execution": {
     "iopub.execute_input": "2023-06-28T19:21:09.410110Z",
     "iopub.status.busy": "2023-06-28T19:21:09.409873Z",
     "iopub.status.idle": "2023-06-28T19:21:09.414279Z",
     "shell.execute_reply": "2023-06-28T19:21:09.413635Z",
     "shell.execute_reply.started": "2023-06-28T19:21:09.410091Z"
    }
   },
   "outputs": [
    {
     "name": "stdout",
     "output_type": "stream",
     "text": [
      "Nombre: Chilean Peso\n",
      "Código ISO: CLP\n",
      "Número ISO: 152\n",
      "Número de decimales: 0\n",
      "Cantidad 100.123456 con el número correcto de decimales: 100.0\n",
      "\n",
      "Nombre: U. S. Dollar\n",
      "Código ISO: USD\n",
      "Número ISO: 840\n",
      "Número de decimales: 2\n",
      "Cantidad 100.123456 con el número correcto de decimales: 100.12\n",
      "\n",
      "Nombre: Japanese Yen\n",
      "Código ISO: JPY\n",
      "Número ISO: 392\n",
      "Número de decimales: 2\n",
      "Cantidad 100.123456 con el número correcto de decimales: 100.12\n",
      "\n"
     ]
    }
   ],
   "source": [
    "cantidad = 100.123456\n",
    "for moneda in monedas:\n",
    "    print(\"Nombre: {}\".format(moneda.get_name()))\n",
    "    print(\"Código ISO: {}\".format(moneda.get_iso_code()))\n",
    "    print(\"Número ISO: {}\".format(moneda.get_iso_number()))\n",
    "    print(\"Número de decimales: {}\".format(moneda.get_decimal_places()))\n",
    "    print(\n",
    "        \"Cantidad {} con el número correcto de decimales: {}\".format(\n",
    "            cantidad, moneda.amount(100.123456)\n",
    "        )\n",
    "    )\n",
    "    print()"
   ]
  },
  {
   "cell_type": "markdown",
   "metadata": {},
   "source": [
    "## Fechas\n",
    "Las fechas se representan con objetos de tipo QCDate. Para inicializar un QCDate se requiere el día, el mes y el año de la fecha.  También se puede inicializar sin valor (default constructor) en cuyo caso se obtendrá el 12-1-1969."
   ]
  },
  {
   "cell_type": "markdown",
   "metadata": {},
   "source": [
    "### Constructores"
   ]
  },
  {
   "cell_type": "markdown",
   "metadata": {},
   "source": [
    "Inicializar sin valor. Se muestra además los métodos `description()` y `__str__()`."
   ]
  },
  {
   "cell_type": "code",
   "execution_count": 5,
   "metadata": {
    "ExecuteTime": {
     "end_time": "2022-01-21T13:43:01.996123Z",
     "start_time": "2022-01-21T13:43:01.981164Z"
    },
    "execution": {
     "iopub.execute_input": "2023-06-28T19:21:09.417813Z",
     "iopub.status.busy": "2023-06-28T19:21:09.417557Z",
     "iopub.status.idle": "2023-06-28T19:21:09.421258Z",
     "shell.execute_reply": "2023-06-28T19:21:09.420566Z",
     "shell.execute_reply.started": "2023-06-28T19:21:09.417794Z"
    }
   },
   "outputs": [
    {
     "name": "stdout",
     "output_type": "stream",
     "text": [
      "12-01-1969\n",
      "1969-01-12\n",
      "1969-01-12\n"
     ]
    }
   ],
   "source": [
    "fecha = qcf.QCDate()\n",
    "print(fecha.description(True))\n",
    "print(fecha.description(False))\n",
    "print(fecha)"
   ]
  },
  {
   "cell_type": "markdown",
   "metadata": {},
   "source": [
    "Inicializar con una fecha específica. En este caso, el contructor realiza una validación de los parámetros iniciales."
   ]
  },
  {
   "cell_type": "code",
   "execution_count": 6,
   "metadata": {
    "ExecuteTime": {
     "end_time": "2022-01-21T13:43:02.011084Z",
     "start_time": "2022-01-21T13:43:01.997121Z"
    },
    "execution": {
     "iopub.execute_input": "2023-06-28T19:21:09.422529Z",
     "iopub.status.busy": "2023-06-28T19:21:09.422261Z",
     "iopub.status.idle": "2023-06-28T19:21:09.425987Z",
     "shell.execute_reply": "2023-06-28T19:21:09.425390Z",
     "shell.execute_reply.started": "2023-06-28T19:21:09.422509Z"
    }
   },
   "outputs": [
    {
     "name": "stdout",
     "output_type": "stream",
     "text": [
      "Método description: 14-09-2018\n",
      "Print de Python: 2018-09-14\n"
     ]
    }
   ],
   "source": [
    "fecha1 = qcf.QCDate(14, 9, 2018)  # día, mes, año\n",
    "print(\"Método description: {}\".format(fecha1.description(True)))\n",
    "print(\"Print de Python: {}\".format(fecha1))"
   ]
  },
  {
   "cell_type": "markdown",
   "metadata": {},
   "source": [
    "Error al tratar de construir una fecha inválida."
   ]
  },
  {
   "cell_type": "code",
   "execution_count": 7,
   "metadata": {
    "ExecuteTime": {
     "end_time": "2022-01-21T13:43:02.027041Z",
     "start_time": "2022-01-21T13:43:02.012081Z"
    },
    "execution": {
     "iopub.execute_input": "2023-06-28T19:21:09.427023Z",
     "iopub.status.busy": "2023-06-28T19:21:09.426819Z",
     "iopub.status.idle": "2023-06-28T19:21:09.430533Z",
     "shell.execute_reply": "2023-06-28T19:21:09.430025Z",
     "shell.execute_reply.started": "2023-06-28T19:21:09.427005Z"
    }
   },
   "outputs": [
    {
     "name": "stdout",
     "output_type": "stream",
     "text": [
      "Invalid day for month = 2\n"
     ]
    }
   ],
   "source": [
    "try:\n",
    "    fecha0 = qcf.QCDate(31, 2, 2018)  # ¡¡¡ 31 de febrero !!!\n",
    "except ValueError as e:\n",
    "    print(e)"
   ]
  },
  {
   "cell_type": "markdown",
   "metadata": {},
   "source": [
    "### Getters y Setters"
   ]
  },
  {
   "cell_type": "code",
   "execution_count": 8,
   "metadata": {
    "ExecuteTime": {
     "end_time": "2022-01-21T13:43:02.042999Z",
     "start_time": "2022-01-21T13:43:02.028038Z"
    },
    "execution": {
     "iopub.execute_input": "2023-06-28T19:21:09.431650Z",
     "iopub.status.busy": "2023-06-28T19:21:09.431437Z",
     "iopub.status.idle": "2023-06-28T19:21:09.435144Z",
     "shell.execute_reply": "2023-06-28T19:21:09.434578Z",
     "shell.execute_reply.started": "2023-06-28T19:21:09.431631Z"
    }
   },
   "outputs": [
    {
     "name": "stdout",
     "output_type": "stream",
     "text": [
      "Fecha: 17-10-2019\n"
     ]
    }
   ],
   "source": [
    "# Métodos: set_day, set_month, set_year\n",
    "fecha1.set_day(17)\n",
    "fecha1.set_month(10)\n",
    "fecha1.set_year(2019)\n",
    "print(\"Fecha: {}\".format(fecha1.description(True)))"
   ]
  },
  {
   "cell_type": "code",
   "execution_count": 9,
   "metadata": {
    "ExecuteTime": {
     "end_time": "2022-01-21T13:43:02.058956Z",
     "start_time": "2022-01-21T13:43:02.043995Z"
    },
    "execution": {
     "iopub.execute_input": "2023-06-28T19:21:09.436297Z",
     "iopub.status.busy": "2023-06-28T19:21:09.436069Z",
     "iopub.status.idle": "2023-06-28T19:21:09.439585Z",
     "shell.execute_reply": "2023-06-28T19:21:09.438941Z",
     "shell.execute_reply.started": "2023-06-28T19:21:09.436281Z"
    }
   },
   "outputs": [
    {
     "name": "stdout",
     "output_type": "stream",
     "text": [
      "Día: 17\n",
      "Mes: 10\n",
      "Año: 2019\n"
     ]
    }
   ],
   "source": [
    "# Métodos day, month, year, weekday\n",
    "print(\"Día: {}\".format(fecha1.day()))\n",
    "print(\"Mes: {}\".format(fecha1.month()))\n",
    "print(\"Año: {}\".format(fecha1.year()))"
   ]
  },
  {
   "cell_type": "markdown",
   "metadata": {},
   "source": [
    "### Método `week_day`"
   ]
  },
  {
   "cell_type": "markdown",
   "metadata": {},
   "source": [
    "Retorna una variable de tipo `enum QC_Financial.WeekDay` que representa el día de la semana que corresponde a la fecha."
   ]
  },
  {
   "cell_type": "code",
   "execution_count": 10,
   "metadata": {
    "ExecuteTime": {
     "end_time": "2022-01-21T13:43:02.073916Z",
     "start_time": "2022-01-21T13:43:02.060950Z"
    },
    "execution": {
     "iopub.execute_input": "2023-06-28T19:21:09.440676Z",
     "iopub.status.busy": "2023-06-28T19:21:09.440495Z",
     "iopub.status.idle": "2023-06-28T19:21:09.445178Z",
     "shell.execute_reply": "2023-06-28T19:21:09.444574Z",
     "shell.execute_reply.started": "2023-06-28T19:21:09.440660Z"
    }
   },
   "outputs": [
    {
     "name": "stdout",
     "output_type": "stream",
     "text": [
      "Tipo del retorno: <class 'qcfinancial.QCDate.WeekDay'>\n",
      "Día de la semana: WeekDay.THU\n"
     ]
    }
   ],
   "source": [
    "dia_semana = fecha1.week_day()\n",
    "print(\"Tipo del retorno: {}\".format(type(dia_semana)))\n",
    "print(\"Día de la semana: {}\".format(dia_semana))"
   ]
  },
  {
   "cell_type": "markdown",
   "metadata": {},
   "source": [
    "### Método `add_months`"
   ]
  },
  {
   "cell_type": "markdown",
   "metadata": {},
   "source": [
    "Suma **n meses** a `fecha1` y retorna esa nueva fecha sin cambiar el valor de `fecha1`."
   ]
  },
  {
   "cell_type": "code",
   "execution_count": 11,
   "metadata": {
    "ExecuteTime": {
     "end_time": "2022-01-21T13:43:02.088876Z",
     "start_time": "2022-01-21T13:43:02.074913Z"
    },
    "execution": {
     "iopub.execute_input": "2023-06-28T19:21:09.446549Z",
     "iopub.status.busy": "2023-06-28T19:21:09.446304Z",
     "iopub.status.idle": "2023-06-28T19:21:09.449878Z",
     "shell.execute_reply": "2023-06-28T19:21:09.449239Z",
     "shell.execute_reply.started": "2023-06-28T19:21:09.446532Z"
    }
   },
   "outputs": [
    {
     "name": "stdout",
     "output_type": "stream",
     "text": [
      "fecha1: 17-10-2019\n",
      "fecha2: 17-11-2019\n"
     ]
    }
   ],
   "source": [
    "num_meses = 1\n",
    "fecha2 = fecha1.add_months(num_meses)\n",
    "print(\"fecha1: {}\".format(fecha1.description(True)))\n",
    "print(\"fecha2: {}\".format(fecha2.description(True)))"
   ]
  },
  {
   "cell_type": "markdown",
   "metadata": {},
   "source": [
    "### Método `add_days`"
   ]
  },
  {
   "cell_type": "markdown",
   "metadata": {},
   "source": [
    "Suma **n días** a `fecha1` sin cambiar el valor de `fecha1`."
   ]
  },
  {
   "cell_type": "code",
   "execution_count": 12,
   "metadata": {
    "ExecuteTime": {
     "end_time": "2022-01-21T13:43:02.104833Z",
     "start_time": "2022-01-21T13:43:02.089873Z"
    },
    "execution": {
     "iopub.execute_input": "2023-06-28T19:21:09.451162Z",
     "iopub.status.busy": "2023-06-28T19:21:09.450828Z",
     "iopub.status.idle": "2023-06-28T19:21:09.454158Z",
     "shell.execute_reply": "2023-06-28T19:21:09.453574Z",
     "shell.execute_reply.started": "2023-06-28T19:21:09.451143Z"
    }
   },
   "outputs": [
    {
     "name": "stdout",
     "output_type": "stream",
     "text": [
      "fecha1: 17-10-2019\n",
      "fecha3: 16-11-2019\n"
     ]
    }
   ],
   "source": [
    "num_dias = 30\n",
    "fecha3 = fecha1.add_days(num_dias)\n",
    "print(\"fecha1: {}\".format(fecha1.description(True)))\n",
    "print(\"fecha3: {}\".format(fecha3.description(True)))"
   ]
  },
  {
   "cell_type": "markdown",
   "metadata": {},
   "source": [
    "### Método `day_dif`"
   ]
  },
  {
   "cell_type": "markdown",
   "metadata": {},
   "source": [
    "Calcula la diferencia en días con otra fecha. Si la otra fecha es mayor el resultado es positivo, si no, es negativo."
   ]
  },
  {
   "cell_type": "code",
   "execution_count": 13,
   "metadata": {
    "ExecuteTime": {
     "end_time": "2022-01-21T13:43:02.120791Z",
     "start_time": "2022-01-21T13:43:02.105831Z"
    },
    "execution": {
     "iopub.execute_input": "2023-06-28T19:21:09.455283Z",
     "iopub.status.busy": "2023-06-28T19:21:09.455017Z",
     "iopub.status.idle": "2023-06-28T19:21:09.458550Z",
     "shell.execute_reply": "2023-06-28T19:21:09.457900Z",
     "shell.execute_reply.started": "2023-06-28T19:21:09.455264Z"
    }
   },
   "outputs": [
    {
     "name": "stdout",
     "output_type": "stream",
     "text": [
      "fecha1.day_diff(fecha3): 30 (días)\n",
      "fecha3.day_diff(fecha1): -30 (días)\n"
     ]
    }
   ],
   "source": [
    "# Dado que fecha3 > fecha1 entonces el resultado es positivo\n",
    "print(\"fecha1.day_diff(fecha3): {} (días)\".format(fecha1.day_diff(fecha3)))\n",
    "\n",
    "# Se invierten los roles y el resultado es negativo\n",
    "print(\"fecha3.day_diff(fecha1): {} (días)\".format(fecha3.day_diff(fecha1)))"
   ]
  },
  {
   "cell_type": "markdown",
   "metadata": {},
   "source": [
    "### Orden en `QCDate`"
   ]
  },
  {
   "cell_type": "markdown",
   "metadata": {},
   "source": [
    "El orden de `QCDate` permite que las fechas pueden compararse entre si."
   ]
  },
  {
   "cell_type": "code",
   "execution_count": 14,
   "metadata": {
    "ExecuteTime": {
     "end_time": "2022-01-21T13:43:02.136747Z",
     "start_time": "2022-01-21T13:43:02.124780Z"
    },
    "execution": {
     "iopub.execute_input": "2023-06-28T19:21:09.463270Z",
     "iopub.status.busy": "2023-06-28T19:21:09.463044Z",
     "iopub.status.idle": "2023-06-28T19:21:09.467572Z",
     "shell.execute_reply": "2023-06-28T19:21:09.466923Z",
     "shell.execute_reply.started": "2023-06-28T19:21:09.463253Z"
    }
   },
   "outputs": [
    {
     "name": "stdout",
     "output_type": "stream",
     "text": [
      "fecha1: 2019-10-17\n",
      "fecha2: 2019-11-17\n",
      "fecha1 == fecha2: False\n",
      "fecha1 != fecha2: True\n",
      "fecha1 < fecha2: True\n",
      "fecha1 <= fecha2: True\n",
      "fecha1 > fecha2: False\n",
      "fecha1 >= fecha2: False\n"
     ]
    }
   ],
   "source": [
    "print(\"fecha1: {}\".format(fecha1))\n",
    "print(\"fecha2: {}\".format(fecha2))\n",
    "print(\"fecha1 == fecha2: {}\".format(fecha1 == fecha2))\n",
    "print(\"fecha1 != fecha2: {}\".format(fecha1 != fecha2))\n",
    "print(\"fecha1 < fecha2: {}\".format(fecha1 < fecha2))\n",
    "print(\"fecha1 <= fecha2: {}\".format(fecha1 <= fecha2))\n",
    "print(\"fecha1 > fecha2: {}\".format(fecha1 > fecha2))\n",
    "print(\"fecha1 >= fecha2: {}\".format(fecha1 >= fecha2))"
   ]
  },
  {
   "cell_type": "markdown",
   "metadata": {},
   "source": [
    "### Un objeto `QCDate` es *hashable*"
   ]
  },
  {
   "cell_type": "markdown",
   "metadata": {},
   "source": [
    "Esto permite que las fechas puedan usarse como `key` en un `dict`de Python. El hash que se utiliza coincide con la representación como entero de uan fecha que se utiliza en Excel."
   ]
  },
  {
   "cell_type": "code",
   "execution_count": 15,
   "metadata": {
    "ExecuteTime": {
     "end_time": "2022-01-21T13:43:02.152705Z",
     "start_time": "2022-01-21T13:43:02.137746Z"
    },
    "execution": {
     "iopub.execute_input": "2023-06-28T19:21:09.468704Z",
     "iopub.status.busy": "2023-06-28T19:21:09.468497Z",
     "iopub.status.idle": "2023-06-28T19:21:09.471932Z",
     "shell.execute_reply": "2023-06-28T19:21:09.471250Z",
     "shell.execute_reply.started": "2023-06-28T19:21:09.468687Z"
    }
   },
   "outputs": [
    {
     "name": "stdout",
     "output_type": "stream",
     "text": [
      "43755\n"
     ]
    }
   ],
   "source": [
    "print(fecha1.__hash__())"
   ]
  },
  {
   "cell_type": "markdown",
   "metadata": {},
   "source": [
    "### Método `build_qcdate_from_string`"
   ]
  },
  {
   "cell_type": "markdown",
   "metadata": {},
   "source": [
    "Se trata de un *factory method* que permite inicializar un objeto `QCDate` a partir de un `string`.\n",
    "El formato del `string` debe ser yyyy&mm&dd donde & es un separador arbitrario."
   ]
  },
  {
   "cell_type": "code",
   "execution_count": 16,
   "metadata": {
    "ExecuteTime": {
     "end_time": "2022-01-21T13:43:02.167665Z",
     "start_time": "2022-01-21T13:43:02.153703Z"
    },
    "execution": {
     "iopub.execute_input": "2023-06-28T19:21:09.472736Z",
     "iopub.status.busy": "2023-06-28T19:21:09.472576Z",
     "iopub.status.idle": "2023-06-28T19:21:09.476810Z",
     "shell.execute_reply": "2023-06-28T19:21:09.476251Z",
     "shell.execute_reply.started": "2023-06-28T19:21:09.472721Z"
    }
   },
   "outputs": [
    {
     "name": "stdout",
     "output_type": "stream",
     "text": [
      "2020-01-01: 2020-01-01\n",
      "2020/01/02: 2020-01-02\n",
      "2020&01&03: 2020-01-03\n"
     ]
    }
   ],
   "source": [
    "str1 = \"2020-01-01\"\n",
    "str2 = \"2020/01/02\"\n",
    "str3 = \"2020&01&03\"\n",
    "\n",
    "fecha4 = qcf.build_qcdate_from_string(str1)\n",
    "print((str1 + \": {}\").format(fecha4.description(False)))\n",
    "\n",
    "fecha4 = qcf.build_qcdate_from_string(str2)\n",
    "print((str2 + \": {}\").format(fecha4.description(False)))\n",
    "\n",
    "fecha4 = qcf.build_qcdate_from_string(str3)\n",
    "print((str3 + \": {}\").format(fecha4.description(False)))"
   ]
  },
  {
   "cell_type": "markdown",
   "metadata": {},
   "source": [
    "## Calendarios\n",
    "Los calendarios se representan con objetos de tipo `BusinesssCalendar` y son **listas** de fechas arbitrarias que representan días feriados en alguna ciudad, país, región o unión de las anteriores. Para dar de alta un calendario se requiere una fecha inicial (`QCDate` y un número entero positivo que representa el plazo inicial total del calendario en años). El objeto `BusinessCalendar` incluye explícitamente todos los días 1 de enero y considera siempre como feriado los días sábado y domingo (aunque no pertenecen de forma explícita a la **lista**).   "
   ]
  },
  {
   "cell_type": "code",
   "execution_count": 17,
   "metadata": {
    "ExecuteTime": {
     "end_time": "2022-01-21T13:43:02.183622Z",
     "start_time": "2022-01-21T13:43:02.168663Z"
    },
    "execution": {
     "iopub.execute_input": "2023-06-28T19:21:09.477804Z",
     "iopub.status.busy": "2023-06-28T19:21:09.477644Z",
     "iopub.status.idle": "2023-06-28T19:21:09.481462Z",
     "shell.execute_reply": "2023-06-28T19:21:09.480751Z",
     "shell.execute_reply.started": "2023-06-28T19:21:09.477788Z"
    }
   },
   "outputs": [
    {
     "name": "stdout",
     "output_type": "stream",
     "text": [
      "2019-01-01\n",
      "2020-01-01\n",
      "2021-01-01\n",
      "2022-01-01\n",
      "2023-01-01\n",
      "2024-01-01\n",
      "2025-01-01\n",
      "2026-01-01\n",
      "2027-01-01\n",
      "2028-01-01\n",
      "2029-01-01\n"
     ]
    }
   ],
   "source": [
    "scl = qcf.BusinessCalendar(fecha1, 10)\n",
    "for holiday in scl.get_holidays():\n",
    "    print(holiday)"
   ]
  },
  {
   "cell_type": "code",
   "execution_count": 18,
   "metadata": {
    "ExecuteTime": {
     "end_time": "2022-01-21T13:43:02.198582Z",
     "start_time": "2022-01-21T13:43:02.184620Z"
    },
    "execution": {
     "iopub.execute_input": "2023-06-28T19:21:09.482314Z",
     "iopub.status.busy": "2023-06-28T19:21:09.482151Z",
     "iopub.status.idle": "2023-06-28T19:21:09.486215Z",
     "shell.execute_reply": "2023-06-28T19:21:09.485372Z",
     "shell.execute_reply.started": "2023-06-28T19:21:09.482298Z"
    }
   },
   "outputs": [
    {
     "name": "stdout",
     "output_type": "stream",
     "text": [
      "2018-01-02\n",
      "2019-01-01\n",
      "2020-01-01\n",
      "2021-01-01\n",
      "2022-01-01\n",
      "2023-01-01\n",
      "2024-01-01\n",
      "2025-01-01\n",
      "2026-01-01\n",
      "2027-01-01\n",
      "2028-01-01\n",
      "2029-01-01\n"
     ]
    }
   ],
   "source": [
    "# Método add_holiday. Agrega una fecha a la lista.\n",
    "scl.add_holiday(qcf.QCDate(2, 1, 2018))\n",
    "for holiday in scl.get_holidays():\n",
    "    print(holiday)"
   ]
  },
  {
   "cell_type": "code",
   "execution_count": 19,
   "metadata": {
    "ExecuteTime": {
     "end_time": "2022-01-21T13:43:02.214541Z",
     "start_time": "2022-01-21T13:43:02.199580Z"
    },
    "execution": {
     "iopub.execute_input": "2023-06-28T19:21:09.487332Z",
     "iopub.status.busy": "2023-06-28T19:21:09.487121Z",
     "iopub.status.idle": "2023-06-28T19:21:09.491152Z",
     "shell.execute_reply": "2023-06-28T19:21:09.490563Z",
     "shell.execute_reply.started": "2023-06-28T19:21:09.487313Z"
    }
   },
   "outputs": [
    {
     "name": "stdout",
     "output_type": "stream",
     "text": [
      "next: 2018-09-17\n",
      "Se agrega el 17-9-2018 a la lista\n",
      "nuevo next: 2018-09-18\n"
     ]
    }
   ],
   "source": [
    "# Método next_busy_day. Dada una fecha, si ésta es hábil retorna la misma fecha,\n",
    "## si, por el contrario, la fecha es inhábil, devuelve la siguiente fecha hábil del calendario.\n",
    "print(\"next:\", scl.next_busy_day(qcf.QCDate(15, 9, 2018)))  # es sábado\n",
    "print(\"Se agrega el 17-9-2018 a la lista\")\n",
    "scl.add_holiday(qcf.QCDate(17, 9, 2018))\n",
    "print(\"nuevo next:\", scl.next_busy_day(qcf.QCDate(15, 9, 2018)))"
   ]
  },
  {
   "cell_type": "code",
   "execution_count": 20,
   "metadata": {
    "ExecuteTime": {
     "end_time": "2022-01-21T13:43:02.230498Z",
     "start_time": "2022-01-21T13:43:02.215538Z"
    },
    "execution": {
     "iopub.execute_input": "2023-06-28T19:21:09.492029Z",
     "iopub.status.busy": "2023-06-28T19:21:09.491841Z",
     "iopub.status.idle": "2023-06-28T19:21:09.496425Z",
     "shell.execute_reply": "2023-06-28T19:21:09.495688Z",
     "shell.execute_reply.started": "2023-06-28T19:21:09.492011Z"
    }
   },
   "outputs": [
    {
     "name": "stdout",
     "output_type": "stream",
     "text": [
      "fecha: 2018-04-30\n",
      "next: 2018-05-01\n",
      "mod next: 2018-04-27\n",
      "abril30: 2018-04-30\n"
     ]
    }
   ],
   "source": [
    "# Método mod_next_busy_day. Opera igual que la función anterior a menos que la función anterior retorne una fecha\n",
    "# del mes siguiente, en ese caso retorna la fecha hábil anterior.\n",
    "print(\"fecha: 2018-04-30\")\n",
    "abril30 = qcf.QCDate(30, 4, 2018)\n",
    "scl.add_holiday(abril30)\n",
    "print(\"next:\", scl.next_busy_day(abril30))\n",
    "print(\"mod next:\", scl.mod_next_busy_day(qcf.QCDate(30, 4, 2018)))\n",
    "print(\"abril30:\", abril30)"
   ]
  },
  {
   "cell_type": "code",
   "execution_count": 21,
   "metadata": {
    "ExecuteTime": {
     "end_time": "2022-01-21T13:43:02.246455Z",
     "start_time": "2022-01-21T13:43:02.231495Z"
    },
    "execution": {
     "iopub.execute_input": "2023-06-28T19:21:09.497772Z",
     "iopub.status.busy": "2023-06-28T19:21:09.497396Z",
     "iopub.status.idle": "2023-06-28T19:21:09.500835Z",
     "shell.execute_reply": "2023-06-28T19:21:09.500208Z",
     "shell.execute_reply.started": "2023-06-28T19:21:09.497752Z"
    }
   },
   "outputs": [
    {
     "name": "stdout",
     "output_type": "stream",
     "text": [
      "prev: 2018-04-27\n"
     ]
    }
   ],
   "source": [
    "# Método prev_busy_day. Opera de forma análoga a mod_busy_day, pero retornando la fecha hábil anterior.\n",
    "print(\"prev:\", scl.prev_busy_day(abril30).iso_code())"
   ]
  },
  {
   "cell_type": "code",
   "execution_count": 22,
   "metadata": {
    "ExecuteTime": {
     "end_time": "2022-01-21T13:43:02.261415Z",
     "start_time": "2022-01-21T13:43:02.247452Z"
    },
    "execution": {
     "iopub.execute_input": "2023-06-28T19:21:09.501898Z",
     "iopub.status.busy": "2023-06-28T19:21:09.501661Z",
     "iopub.status.idle": "2023-06-28T19:21:09.505425Z",
     "shell.execute_reply": "2023-06-28T19:21:09.504908Z",
     "shell.execute_reply.started": "2023-06-28T19:21:09.501881Z"
    }
   },
   "outputs": [
    {
     "name": "stdout",
     "output_type": "stream",
     "text": [
      "2018-05-01\n",
      "2018-04-30\n",
      "2018-05-01\n",
      "2018-05-07\n"
     ]
    }
   ],
   "source": [
    "# Método shift. Suma un número n de días hábiles a una fecha.\n",
    "mayo2 = qcf.QCDate(2, 5, 2018)\n",
    "print(scl.shift(mayo2, -1))\n",
    "print(scl.shift(abril30, 0))\n",
    "print(scl.shift(abril30, 1))\n",
    "print(scl.shift(abril30, 5))"
   ]
  },
  {
   "cell_type": "markdown",
   "metadata": {
    "heading_collapsed": true
   },
   "source": [
    "## Fracciones de Año"
   ]
  },
  {
   "cell_type": "code",
   "execution_count": 23,
   "metadata": {
    "ExecuteTime": {
     "end_time": "2022-01-21T13:43:02.276375Z",
     "start_time": "2022-01-21T13:43:02.262412Z"
    },
    "execution": {
     "iopub.execute_input": "2023-06-28T19:21:09.506299Z",
     "iopub.status.busy": "2023-06-28T19:21:09.506137Z",
     "iopub.status.idle": "2023-06-28T19:21:09.509479Z",
     "shell.execute_reply": "2023-06-28T19:21:09.508905Z",
     "shell.execute_reply.started": "2023-06-28T19:21:09.506283Z"
    },
    "hidden": true
   },
   "outputs": [],
   "source": [
    "# Existen Act/360, Act/365, 30/360 y Act/30\n",
    "act360 = qcf.QCAct360()\n",
    "act365 = qcf.QCAct365()\n",
    "t30360 = qcf.QC30360()\n",
    "act30 = qcf.QCAct30()\n",
    "yfs = [act360, act365, t30360, act30]"
   ]
  },
  {
   "cell_type": "code",
   "execution_count": 24,
   "metadata": {
    "ExecuteTime": {
     "end_time": "2022-01-21T13:43:02.292334Z",
     "start_time": "2022-01-21T13:43:02.277372Z"
    },
    "execution": {
     "iopub.execute_input": "2023-06-28T19:21:09.510492Z",
     "iopub.status.busy": "2023-06-28T19:21:09.510325Z",
     "iopub.status.idle": "2023-06-28T19:21:09.513889Z",
     "shell.execute_reply": "2023-06-28T19:21:09.513326Z",
     "shell.execute_reply.started": "2023-06-28T19:21:09.510476Z"
    },
    "hidden": true
   },
   "outputs": [
    {
     "name": "stdout",
     "output_type": "stream",
     "text": [
      "0.08333333333333333\n",
      "0.08333333333333333\n",
      "30\n",
      "\n",
      "0.0821917808219178\n",
      "0.0821917808219178\n",
      "30\n",
      "\n",
      "0.08333333333333333\n",
      "0.08055555555555556\n",
      "29\n",
      "\n",
      "1.0\n",
      "1.0\n",
      "30\n",
      "\n"
     ]
    }
   ],
   "source": [
    "# Métodos yf (sobrecargado) y count_days\n",
    "for yf in yfs:\n",
    "    print(yf.yf(30))\n",
    "    print(yf.yf(fecha1, fecha3))\n",
    "    print(yf.count_days(fecha1, fecha3))\n",
    "    print()"
   ]
  },
  {
   "cell_type": "markdown",
   "metadata": {
    "heading_collapsed": true
   },
   "source": [
    "## Factores de Capitalización"
   ]
  },
  {
   "cell_type": "code",
   "execution_count": 25,
   "metadata": {
    "ExecuteTime": {
     "end_time": "2022-01-21T13:43:02.308289Z",
     "start_time": "2022-01-21T13:43:02.293330Z"
    },
    "execution": {
     "iopub.execute_input": "2023-06-28T19:21:09.514741Z",
     "iopub.status.busy": "2023-06-28T19:21:09.514582Z",
     "iopub.status.idle": "2023-06-28T19:21:09.517917Z",
     "shell.execute_reply": "2023-06-28T19:21:09.517161Z",
     "shell.execute_reply.started": "2023-06-28T19:21:09.514726Z"
    },
    "hidden": true
   },
   "outputs": [],
   "source": [
    "# Existen: (yf es la fracción de año asociada a la tasa de valor r)\n",
    "#    QCLinearWf     ---> (1 + r * yf)\n",
    "#    QCCompundWf    ---> (1 + r)**yf\n",
    "#    QCContinousWf  ---> exp(r * yf)\n",
    "lin_wf = qcf.QCLinearWf()\n",
    "com_wf = qcf.QCCompoundWf()\n",
    "exp_wf = qcf.QCContinousWf()"
   ]
  },
  {
   "cell_type": "markdown",
   "metadata": {},
   "source": [
    "## Tasas de Interés"
   ]
  },
  {
   "cell_type": "code",
   "execution_count": 26,
   "metadata": {
    "ExecuteTime": {
     "end_time": "2022-01-21T13:43:02.324248Z",
     "start_time": "2022-01-21T13:43:02.309287Z"
    },
    "execution": {
     "iopub.execute_input": "2023-06-28T19:21:09.519076Z",
     "iopub.status.busy": "2023-06-28T19:21:09.518851Z",
     "iopub.status.idle": "2023-06-28T19:21:09.521933Z",
     "shell.execute_reply": "2023-06-28T19:21:09.521352Z",
     "shell.execute_reply.started": "2023-06-28T19:21:09.519059Z"
    }
   },
   "outputs": [],
   "source": [
    "# Dar de alta una tasa de interés\n",
    "tasa_lin_act360 = qcf.QCInterestRate(0.1, act360, lin_wf)\n",
    "tasa_com_act365 = qcf.QCInterestRate(0.1, act365, com_wf)\n",
    "tasas = [tasa_lin_act360, tasa_com_act365]"
   ]
  },
  {
   "cell_type": "code",
   "execution_count": 27,
   "metadata": {
    "ExecuteTime": {
     "end_time": "2022-01-21T13:43:02.340204Z",
     "start_time": "2022-01-21T13:43:02.325244Z"
    },
    "execution": {
     "iopub.execute_input": "2023-06-28T19:21:09.523052Z",
     "iopub.status.busy": "2023-06-28T19:21:09.522851Z",
     "iopub.status.idle": "2023-06-28T19:21:09.527559Z",
     "shell.execute_reply": "2023-06-28T19:21:09.526983Z",
     "shell.execute_reply.started": "2023-06-28T19:21:09.523035Z"
    }
   },
   "outputs": [
    {
     "name": "stdout",
     "output_type": "stream",
     "text": [
      "get 0.1\n",
      "get nuevo valor 0.12\n",
      "wf 1.01\n",
      "dwf 0.08333333333333333\n",
      "wf1 1.1216666666666666\n",
      "dwf1 1.0138888888888888\n",
      "\n",
      "get 0.1\n",
      "get nuevo valor 0.12\n",
      "wf 1.0093582031654136\n",
      "dwf 0.07407227518337182\n",
      "wf1 1.12\n",
      "dwf1 1.0\n",
      "\n"
     ]
    }
   ],
   "source": [
    "# Métodos get_value, set_value, wf (sobrecargado), dwf (sobrecargado)\n",
    "for tasa in tasas:\n",
    "    print(\"get\", tasa.get_value())\n",
    "    tasa.set_value(0.12)\n",
    "    print(\"get nuevo valor\", tasa.get_value())\n",
    "    print(\n",
    "        \"wf\", tasa.wf(fecha1, fecha3)\n",
    "    )  # Retorna el factor de capitalización entre las fechas\n",
    "    print(\n",
    "        \"dwf\", tasa.dwf(fecha1, fecha3)\n",
    "    )  # Retorna la derivada del factor de capitalización respecto al valor de la tasa\n",
    "    # entre las fechas\n",
    "    print(\n",
    "        \"wf1\", tasa.wf(365)\n",
    "    )  # Retorna el factor de capitalización para el número de días\n",
    "    print(\n",
    "        \"dwf1\", tasa.dwf(365)\n",
    "    )  # Retorna la derivada del factor de capitalización respecto al valor de la tasa\n",
    "    # para el número de días\n",
    "    print()"
   ]
  },
  {
   "cell_type": "code",
   "execution_count": 28,
   "metadata": {
    "ExecuteTime": {
     "end_time": "2022-01-21T13:43:02.355165Z",
     "start_time": "2022-01-21T13:43:02.344194Z"
    },
    "execution": {
     "iopub.execute_input": "2023-06-28T19:21:09.528776Z",
     "iopub.status.busy": "2023-06-28T19:21:09.528518Z",
     "iopub.status.idle": "2023-06-28T19:21:09.532612Z",
     "shell.execute_reply": "2023-06-28T19:21:09.531999Z",
     "shell.execute_reply.started": "2023-06-28T19:21:09.528758Z"
    }
   },
   "outputs": [
    {
     "data": {
      "text/plain": [
       "-0.03600000000000003"
      ]
     },
     "execution_count": 28,
     "metadata": {},
     "output_type": "execute_result"
    }
   ],
   "source": [
    "tasa_lin_act360.get_rate_from_wf(0.99, 100)"
   ]
  },
  {
   "cell_type": "markdown",
   "metadata": {},
   "source": [
    "### Tenor\n",
    "Es una clase que representa el concepto de tenor (1D, 1M, 1Y ...)."
   ]
  },
  {
   "cell_type": "code",
   "execution_count": 29,
   "metadata": {
    "ExecuteTime": {
     "end_time": "2022-01-21T13:43:02.371122Z",
     "start_time": "2022-01-21T13:43:02.356162Z"
    },
    "execution": {
     "iopub.execute_input": "2023-06-28T19:21:09.533750Z",
     "iopub.status.busy": "2023-06-28T19:21:09.533538Z",
     "iopub.status.idle": "2023-06-28T19:21:09.537353Z",
     "shell.execute_reply": "2023-06-28T19:21:09.536724Z",
     "shell.execute_reply.started": "2023-06-28T19:21:09.533732Z"
    }
   },
   "outputs": [],
   "source": [
    "# Ejemplo de Tenor\n",
    "one_d = qcf.Tenor(\"1d\")\n",
    "one_m = qcf.Tenor(\"1M\")\n",
    "one_y = qcf.Tenor(\"1y\")\n",
    "t1d1m1y = qcf.Tenor(\"1D1M1Y\")\n",
    "t2Y3M = qcf.Tenor(\"2yadv3m\")\n",
    "tenors = [one_d, one_m, one_y, t1d1m1y, t2Y3M]"
   ]
  },
  {
   "cell_type": "code",
   "execution_count": 30,
   "metadata": {
    "ExecuteTime": {
     "end_time": "2022-01-21T13:43:02.386082Z",
     "start_time": "2022-01-21T13:43:02.372119Z"
    },
    "execution": {
     "iopub.execute_input": "2023-06-28T19:21:09.538144Z",
     "iopub.status.busy": "2023-06-28T19:21:09.537980Z",
     "iopub.status.idle": "2023-06-28T19:21:09.543856Z",
     "shell.execute_reply": "2023-06-28T19:21:09.542894Z",
     "shell.execute_reply.started": "2023-06-28T19:21:09.538127Z"
    }
   },
   "outputs": [
    {
     "name": "stdout",
     "output_type": "stream",
     "text": [
      "string: 1D\n",
      "dias: 1\n",
      "meses: 0\n",
      "años: 0\n",
      "\n",
      "string: 1M\n",
      "dias: 0\n",
      "meses: 1\n",
      "años: 0\n",
      "\n",
      "string: 1Y\n",
      "dias: 0\n",
      "meses: 0\n",
      "años: 1\n",
      "\n",
      "string: 1Y1M1D\n",
      "dias: 1\n",
      "meses: 1\n",
      "años: 1\n",
      "\n",
      "string: 2Y3M\n",
      "dias: 0\n",
      "meses: 3\n",
      "años: 2\n",
      "\n",
      "32Y1M\n"
     ]
    }
   ],
   "source": [
    "# Métodos get_string, get_years, get_months, get_years\n",
    "for tenor in tenors:\n",
    "    print(\"string:\", tenor.get_string())\n",
    "    print(\"dias:\", tenor.get_days())\n",
    "    print(\"meses:\", tenor.get_months())\n",
    "    print(\"años:\", tenor.get_years())\n",
    "    print()\n",
    "\n",
    "# Método set_tenor\n",
    "t2Y3M.set_tenor(\"1m32y\")\n",
    "print(t2Y3M.get_string())"
   ]
  },
  {
   "cell_type": "markdown",
   "metadata": {
    "heading_collapsed": true
   },
   "source": [
    "## FX Rate\n",
    "Es una clase que representa el concepto de tipo de cambio entre dos monedas. Para dar de alta un FXRate se requiere:\n",
    "\n",
    "- QCCurrency: la moneda fuerte del par.\n",
    "- QCCurrency: la moneda débl del par."
   ]
  },
  {
   "cell_type": "code",
   "execution_count": 31,
   "metadata": {
    "ExecuteTime": {
     "end_time": "2022-01-21T13:43:02.402039Z",
     "start_time": "2022-01-21T13:43:02.387079Z"
    },
    "execution": {
     "iopub.execute_input": "2023-06-28T19:21:09.545503Z",
     "iopub.status.busy": "2023-06-28T19:21:09.545051Z",
     "iopub.status.idle": "2023-06-28T19:21:09.549685Z",
     "shell.execute_reply": "2023-06-28T19:21:09.548932Z",
     "shell.execute_reply.started": "2023-06-28T19:21:09.545477Z"
    },
    "hidden": true
   },
   "outputs": [
    {
     "name": "stdout",
     "output_type": "stream",
     "text": [
      "código: USDCLP\n"
     ]
    }
   ],
   "source": [
    "# Ejemplo. USDCLP. Método get_code. Se retorna el código del par según la convención usual.\n",
    "usdclp = qcf.FXRate(usd, clp)\n",
    "print(\"código:\", usdclp.get_code())"
   ]
  },
  {
   "cell_type": "markdown",
   "metadata": {},
   "source": [
    "### FXRateIndex\n",
    "\n",
    "Representa un índice de tipo de cambio."
   ]
  },
  {
   "cell_type": "code",
   "execution_count": 32,
   "metadata": {
    "execution": {
     "iopub.execute_input": "2023-06-28T19:21:09.550860Z",
     "iopub.status.busy": "2023-06-28T19:21:09.550482Z",
     "iopub.status.idle": "2023-06-28T19:21:09.554708Z",
     "shell.execute_reply": "2023-06-28T19:21:09.554121Z",
     "shell.execute_reply.started": "2023-06-28T19:21:09.550840Z"
    }
   },
   "outputs": [
    {
     "data": {
      "text/plain": [
       "<qcfinancial.FXRate at 0x103ce80b0>"
      ]
     },
     "execution_count": 32,
     "metadata": {},
     "output_type": "execute_result"
    }
   ],
   "source": [
    "usdclp"
   ]
  },
  {
   "cell_type": "markdown",
   "metadata": {},
   "source": [
    "## Índices\n",
    "Todo índice pertenece a un asset class. Los distintos asset class se representan con un el enum AssetClass. Los asset class disponibles son:\n",
    "\n",
    "- InterestRate\n",
    "- InterestRateVol\n",
    "- Fx\n",
    "- FxVol\n",
    "- Equity\n",
    "- EquityVol\n",
    "- Commodity\n",
    "- CommodityVol\n",
    "- Credit\n",
    "- CreditVol"
   ]
  },
  {
   "cell_type": "code",
   "execution_count": 33,
   "metadata": {
    "ExecuteTime": {
     "end_time": "2022-01-21T13:43:02.417997Z",
     "start_time": "2022-01-21T13:43:02.403037Z"
    },
    "execution": {
     "iopub.execute_input": "2023-06-28T19:21:09.555665Z",
     "iopub.status.busy": "2023-06-28T19:21:09.555497Z",
     "iopub.status.idle": "2023-06-28T19:21:09.558934Z",
     "shell.execute_reply": "2023-06-28T19:21:09.558352Z",
     "shell.execute_reply.started": "2023-06-28T19:21:09.555649Z"
    }
   },
   "outputs": [
    {
     "name": "stdout",
     "output_type": "stream",
     "text": [
      "AssetClass.InterestRate\n",
      "AssetClass.Fx\n"
     ]
    }
   ],
   "source": [
    "# AssetClass. Existen\n",
    "print(qcf.AssetClass.InterestRate)\n",
    "print(qcf.AssetClass.Fx)"
   ]
  },
  {
   "cell_type": "markdown",
   "metadata": {},
   "source": [
    "Para dar de alta un FXRateIndex se requiere:\n",
    "\n",
    "- `FXRate`: el FXRate correspoondiente.\n",
    "- `str`: nombre del índice\n",
    "- `Tenor`: la regla de fixing, es 1D como el USD Observado o es 0D como un ínidce de cierre de día.\n",
    "- `Tenor`: la regla para la valuta. Es 1D como el USDCLP o 2D como el EURUSD.\n",
    "- `BusinessCalendar`: el calendario adecuado para aplicar las reglas de fixing y valuta.\n"
   ]
  },
  {
   "cell_type": "code",
   "execution_count": 34,
   "metadata": {
    "ExecuteTime": {
     "end_time": "2022-01-21T13:43:02.433954Z",
     "start_time": "2022-01-21T13:43:02.418994Z"
    },
    "execution": {
     "iopub.execute_input": "2023-06-28T19:21:09.560627Z",
     "iopub.status.busy": "2023-06-28T19:21:09.560327Z",
     "iopub.status.idle": "2023-06-28T19:21:09.564336Z",
     "shell.execute_reply": "2023-06-28T19:21:09.563759Z",
     "shell.execute_reply.started": "2023-06-28T19:21:09.560607Z"
    }
   },
   "outputs": [
    {
     "name": "stdout",
     "output_type": "stream",
     "text": [
      "fecha de publicación: WeekDay.THU 2019-10-17\n",
      "fecha de fixing: 2019-10-16\n",
      "fecha de valuta: 2019-10-17\n"
     ]
    }
   ],
   "source": [
    "# Ejemplo.\n",
    "usdclp_obs = qcf.FXRateIndex(usdclp, \"USDOBS\", one_d, one_d, scl)\n",
    "print(\"fecha de publicación:\", fecha1.week_day(), fecha1)\n",
    "print(\"fecha de fixing:\", usdclp_obs.fixing_date(fecha1))\n",
    "print(\"fecha de valuta:\", usdclp_obs.value_date(fecha1))"
   ]
  },
  {
   "cell_type": "code",
   "execution_count": 35,
   "metadata": {
    "ExecuteTime": {
     "end_time": "2022-01-21T13:43:02.448914Z",
     "start_time": "2022-01-21T13:43:02.434952Z"
    },
    "execution": {
     "iopub.execute_input": "2023-06-28T19:21:09.565969Z",
     "iopub.status.busy": "2023-06-28T19:21:09.565536Z",
     "iopub.status.idle": "2023-06-28T19:21:09.569934Z",
     "shell.execute_reply": "2023-06-28T19:21:09.569085Z",
     "shell.execute_reply.started": "2023-06-28T19:21:09.565945Z"
    }
   },
   "outputs": [
    {
     "name": "stdout",
     "output_type": "stream",
     "text": [
      "Monto en CLP es: 700,000\n"
     ]
    }
   ],
   "source": [
    "result = usdclp_obs.convert(1000, qcf.QCUSD(), 700)\n",
    "print(f\"Monto en CLP es: {result:,.0f}\")"
   ]
  },
  {
   "cell_type": "markdown",
   "metadata": {},
   "source": [
    "### QCCurrencyConverter\n",
    "\n",
    "Este es un objeto que permite realizar conversiones de una moneda a otra."
   ]
  },
  {
   "cell_type": "code",
   "execution_count": 36,
   "metadata": {
    "execution": {
     "iopub.execute_input": "2023-06-28T19:21:09.571155Z",
     "iopub.status.busy": "2023-06-28T19:21:09.570800Z",
     "iopub.status.idle": "2023-06-28T19:21:09.575182Z",
     "shell.execute_reply": "2023-06-28T19:21:09.574374Z",
     "shell.execute_reply.started": "2023-06-28T19:21:09.571134Z"
    }
   },
   "outputs": [],
   "source": [
    "ccy_converter = qcf.QCCurrencyConverter()"
   ]
  },
  {
   "cell_type": "code",
   "execution_count": 37,
   "metadata": {
    "execution": {
     "iopub.execute_input": "2023-06-28T19:21:09.576794Z",
     "iopub.status.busy": "2023-06-28T19:21:09.576181Z",
     "iopub.status.idle": "2023-06-28T19:21:09.580988Z",
     "shell.execute_reply": "2023-06-28T19:21:09.580352Z",
     "shell.execute_reply.started": "2023-06-28T19:21:09.576767Z"
    }
   },
   "outputs": [
    {
     "name": "stdout",
     "output_type": "stream",
     "text": [
      "Monto en CLP: 800,000\n"
     ]
    }
   ],
   "source": [
    "print(f'Monto en CLP: {ccy_converter.convert(1_000, usd, 800, usdclp_obs):,.0f}')"
   ]
  },
  {
   "cell_type": "code",
   "execution_count": 38,
   "metadata": {
    "execution": {
     "iopub.execute_input": "2023-06-28T19:21:09.581961Z",
     "iopub.status.busy": "2023-06-28T19:21:09.581760Z",
     "iopub.status.idle": "2023-06-28T19:21:09.585966Z",
     "shell.execute_reply": "2023-06-28T19:21:09.585172Z",
     "shell.execute_reply.started": "2023-06-28T19:21:09.581941Z"
    }
   },
   "outputs": [
    {
     "name": "stdout",
     "output_type": "stream",
     "text": [
      "Monto en USD: 1,000\n"
     ]
    }
   ],
   "source": [
    "print(f'Monto en USD: {ccy_converter.convert(800_000, clp, 800, usdclp_obs):,.0f}')"
   ]
  },
  {
   "cell_type": "markdown",
   "metadata": {},
   "source": [
    "#### Enum para Monedas"
   ]
  },
  {
   "cell_type": "code",
   "execution_count": 39,
   "metadata": {
    "execution": {
     "iopub.execute_input": "2023-06-28T19:21:09.587316Z",
     "iopub.status.busy": "2023-06-28T19:21:09.586912Z",
     "iopub.status.idle": "2023-06-28T19:21:09.592215Z",
     "shell.execute_reply": "2023-06-28T19:21:09.591473Z",
     "shell.execute_reply.started": "2023-06-28T19:21:09.587292Z"
    }
   },
   "outputs": [
    {
     "data": {
      "text/plain": [
       "<QCCurrencyEnum.USD: 17>"
      ]
     },
     "execution_count": 39,
     "metadata": {},
     "output_type": "execute_result"
    }
   ],
   "source": [
    "qcf.QCCurrencyEnum.AUD\n",
    "qcf.QCCurrencyEnum.USD"
   ]
  },
  {
   "cell_type": "markdown",
   "metadata": {},
   "source": [
    "#### Enum para FXRates"
   ]
  },
  {
   "cell_type": "code",
   "execution_count": 40,
   "metadata": {
    "execution": {
     "iopub.execute_input": "2023-06-28T19:21:09.593605Z",
     "iopub.status.busy": "2023-06-28T19:21:09.593290Z",
     "iopub.status.idle": "2023-06-28T19:21:09.598309Z",
     "shell.execute_reply": "2023-06-28T19:21:09.597615Z",
     "shell.execute_reply.started": "2023-06-28T19:21:09.593585Z"
    }
   },
   "outputs": [
    {
     "data": {
      "text/plain": [
       "<QCFxRateEnum.EURUSD: 28>"
      ]
     },
     "execution_count": 40,
     "metadata": {},
     "output_type": "execute_result"
    }
   ],
   "source": [
    "qcf.QCFxRateEnum.USDCLP\n",
    "qcf.QCFxRateEnum.EURUSD"
   ]
  },
  {
   "cell_type": "markdown",
   "metadata": {},
   "source": [
    "Ambos `enum` se pueden utilizar con el método `convert`:"
   ]
  },
  {
   "cell_type": "code",
   "execution_count": 41,
   "metadata": {
    "execution": {
     "iopub.execute_input": "2023-06-28T19:21:09.607099Z",
     "iopub.status.busy": "2023-06-28T19:21:09.606750Z",
     "iopub.status.idle": "2023-06-28T19:21:09.612604Z",
     "shell.execute_reply": "2023-06-28T19:21:09.611473Z",
     "shell.execute_reply.started": "2023-06-28T19:21:09.607076Z"
    }
   },
   "outputs": [
    {
     "name": "stdout",
     "output_type": "stream",
     "text": [
      "Monto en USD: 1,000\n"
     ]
    }
   ],
   "source": [
    "print(f'Monto en USD: {ccy_converter.convert(800_000, qcf.QCCurrencyEnum.CLP, 800, qcf.QCFxRateEnum.USDCLP):,.0f}')"
   ]
  },
  {
   "cell_type": "code",
   "execution_count": 42,
   "metadata": {
    "execution": {
     "iopub.execute_input": "2023-06-28T19:21:09.614643Z",
     "iopub.status.busy": "2023-06-28T19:21:09.614055Z",
     "iopub.status.idle": "2023-06-28T19:21:09.619062Z",
     "shell.execute_reply": "2023-06-28T19:21:09.618353Z",
     "shell.execute_reply.started": "2023-06-28T19:21:09.614598Z"
    }
   },
   "outputs": [
    {
     "name": "stdout",
     "output_type": "stream",
     "text": [
      "Monto en USD: 800,000\n"
     ]
    }
   ],
   "source": [
    "print(f'Monto en USD: {ccy_converter.convert(1_000, qcf.QCCurrencyEnum.USD, 800, qcf.QCFxRateEnum.USDCLP):,.0f}')"
   ]
  },
  {
   "cell_type": "markdown",
   "metadata": {},
   "source": [
    "## Cashflows"
   ]
  },
  {
   "cell_type": "markdown",
   "metadata": {},
   "source": [
    "### Simple Cashflow\n",
    "Un objeto de tipo `SimpleCashflow` representa un flujo de caja cierto en una fecha y moneda."
   ]
  },
  {
   "cell_type": "code",
   "execution_count": 43,
   "metadata": {
    "ExecuteTime": {
     "end_time": "2022-01-21T13:43:02.463874Z",
     "start_time": "2022-01-21T13:43:02.449912Z"
    },
    "execution": {
     "iopub.execute_input": "2023-06-28T19:21:09.620482Z",
     "iopub.status.busy": "2023-06-28T19:21:09.620132Z",
     "iopub.status.idle": "2023-06-28T19:21:09.624329Z",
     "shell.execute_reply": "2023-06-28T19:21:09.623461Z",
     "shell.execute_reply.started": "2023-06-28T19:21:09.620458Z"
    }
   },
   "outputs": [],
   "source": [
    "# Como se inicializa un objeto SimpleCashflow.\n",
    "simple_cashflow = qcf.SimpleCashflow(\n",
    "    fecha1, 100, clp  # fecha del flujo  # monto\n",
    ")  # moneda"
   ]
  },
  {
   "cell_type": "code",
   "execution_count": 44,
   "metadata": {
    "execution": {
     "iopub.execute_input": "2023-06-28T19:21:09.625426Z",
     "iopub.status.busy": "2023-06-28T19:21:09.625080Z",
     "iopub.status.idle": "2023-06-28T19:21:09.629883Z",
     "shell.execute_reply": "2023-06-28T19:21:09.629214Z",
     "shell.execute_reply.started": "2023-06-28T19:21:09.625404Z"
    }
   },
   "outputs": [
    {
     "data": {
      "text/plain": [
       "<qcfinancial.SimpleCashflow at 0x103b31b30>"
      ]
     },
     "execution_count": 44,
     "metadata": {},
     "output_type": "execute_result"
    }
   ],
   "source": [
    "simple_cashflow"
   ]
  },
  {
   "cell_type": "code",
   "execution_count": 45,
   "metadata": {
    "ExecuteTime": {
     "end_time": "2022-01-21T13:43:02.479832Z",
     "start_time": "2022-01-21T13:43:02.464871Z"
    },
    "execution": {
     "iopub.execute_input": "2023-06-28T19:21:09.631267Z",
     "iopub.status.busy": "2023-06-28T19:21:09.630780Z",
     "iopub.status.idle": "2023-06-28T19:21:09.635033Z",
     "shell.execute_reply": "2023-06-28T19:21:09.634412Z",
     "shell.execute_reply.started": "2023-06-28T19:21:09.631245Z"
    }
   },
   "outputs": [
    {
     "name": "stdout",
     "output_type": "stream",
     "text": [
      "100.0\n",
      "CLP\n",
      "2019-10-17\n"
     ]
    }
   ],
   "source": [
    "# Métodos amount, ccy y date\n",
    "print(simple_cashflow.amount())\n",
    "print(simple_cashflow.ccy().get_iso_code())\n",
    "print(simple_cashflow.date())"
   ]
  },
  {
   "cell_type": "markdown",
   "metadata": {},
   "source": [
    " Primer ejemplo de la función `show`. Envuelve de forma cómoda todo el flujo en una tupla. La función show está sobregargada y admite muchos tipos de flujo."
   ]
  },
  {
   "cell_type": "code",
   "execution_count": 46,
   "metadata": {
    "ExecuteTime": {
     "end_time": "2022-01-21T13:43:02.495789Z",
     "start_time": "2022-01-21T13:43:02.480830Z"
    },
    "execution": {
     "iopub.execute_input": "2023-06-28T19:21:10.092209Z",
     "iopub.status.busy": "2023-06-28T19:21:10.091960Z",
     "iopub.status.idle": "2023-06-28T19:21:10.095969Z",
     "shell.execute_reply": "2023-06-28T19:21:10.095274Z",
     "shell.execute_reply.started": "2023-06-28T19:21:10.092191Z"
    }
   },
   "outputs": [
    {
     "data": {
      "text/plain": [
       "('2019-10-17', 100.0, 'CLP')"
      ]
     },
     "execution_count": 46,
     "metadata": {},
     "output_type": "execute_result"
    }
   ],
   "source": [
    "qcf.show(simple_cashflow)"
   ]
  },
  {
   "cell_type": "code",
   "execution_count": 48,
   "metadata": {
    "ExecuteTime": {
     "end_time": "2022-01-21T13:43:02.510748Z",
     "start_time": "2022-01-21T13:43:02.496786Z"
    },
    "execution": {
     "iopub.execute_input": "2023-06-28T19:22:04.837104Z",
     "iopub.status.busy": "2023-06-28T19:22:04.836846Z",
     "iopub.status.idle": "2023-06-28T19:22:04.840070Z",
     "shell.execute_reply": "2023-06-28T19:22:04.839344Z",
     "shell.execute_reply.started": "2023-06-28T19:22:04.837085Z"
    }
   },
   "outputs": [],
   "source": [
    "ts = qcf.time_series()\n",
    "ts[fecha1] = 10.0"
   ]
  },
  {
   "cell_type": "code",
   "execution_count": 50,
   "metadata": {
    "execution": {
     "iopub.execute_input": "2023-06-28T19:22:48.631979Z",
     "iopub.status.busy": "2023-06-28T19:22:48.631657Z",
     "iopub.status.idle": "2023-06-28T19:22:48.636417Z",
     "shell.execute_reply": "2023-06-28T19:22:48.635442Z",
     "shell.execute_reply.started": "2023-06-28T19:22:48.631953Z"
    }
   },
   "outputs": [
    {
     "name": "stdout",
     "output_type": "stream",
     "text": [
      "2019-10-17 10.0\n"
     ]
    }
   ],
   "source": [
    "for k, v in ts.items():\n",
    "    print(k, v)"
   ]
  },
  {
   "cell_type": "code",
   "execution_count": null,
   "metadata": {},
   "outputs": [],
   "source": [
    "quanto_simple_cashflow = Qcf.QuantoCashflow(simple_cashflow, usdclp_obs, ts, fecha1)\n",
    "print(quanto_simple_cashflow.amount())"
   ]
  },
  {
   "cell_type": "code",
   "execution_count": null,
   "metadata": {
    "ExecuteTime": {
     "end_time": "2022-01-21T13:43:02.526706Z",
     "start_time": "2022-01-21T13:43:02.511746Z"
    },
    "execution": {
     "iopub.status.busy": "2023-06-28T13:55:19.046235Z",
     "iopub.status.idle": "2023-06-28T13:55:19.046570Z",
     "shell.execute_reply": "2023-06-28T13:55:19.046425Z",
     "shell.execute_reply.started": "2023-06-28T13:55:19.046411Z"
    }
   },
   "outputs": [],
   "source": [
    "quanto_simple_cashflow_2 = Qcf.QuantoCashflow(\n",
    "    quanto_simple_cashflow, usdclp_obs, ts, fecha1\n",
    ")"
   ]
  },
  {
   "cell_type": "code",
   "execution_count": null,
   "metadata": {
    "ExecuteTime": {
     "end_time": "2022-01-21T13:43:02.541666Z",
     "start_time": "2022-01-21T13:43:02.527704Z"
    },
    "execution": {
     "iopub.status.busy": "2023-06-28T13:55:19.047424Z",
     "iopub.status.idle": "2023-06-28T13:55:19.047650Z",
     "shell.execute_reply": "2023-06-28T13:55:19.047538Z",
     "shell.execute_reply.started": "2023-06-28T13:55:19.047526Z"
    }
   },
   "outputs": [],
   "source": [
    "print(quanto_simple_cashflow_2.amount())"
   ]
  },
  {
   "cell_type": "markdown",
   "metadata": {},
   "source": [
    "### Simple Multicurrency Cashflow\n",
    "Un objeto de tipo `SimpleMultiCurrencyCashflow` representa un flujo de caja cierto en una fecha y moneda, que, sin embargo, se liquidará en una segunda moneda utilizando el valor de un índice de tipo de cambio. Para dar de alta uno de estos objetos se requiere:\n",
    "\n",
    "- `QCDate`: fecha final\n",
    "- `float`: nominal\n",
    "- `QCCurrency`: la moneda del nominal\n",
    "- `QCDate`: la fecha de publicación del `FXRateIndex` que se usará en la conversión\n",
    "- `QCCurrency`: la moneda final del flujo\n",
    "- `FXRateIndex`: el índice de tipo de cambio a utilizar\n",
    "- `float`: el valor del índice de tipo de cambio"
   ]
  },
  {
   "cell_type": "code",
   "execution_count": null,
   "metadata": {
    "ExecuteTime": {
     "end_time": "2022-01-21T13:43:02.557623Z",
     "start_time": "2022-01-21T13:43:02.542664Z"
    },
    "execution": {
     "iopub.status.busy": "2023-06-28T13:55:19.049153Z",
     "iopub.status.idle": "2023-06-28T13:55:19.049517Z",
     "shell.execute_reply": "2023-06-28T13:55:19.049389Z",
     "shell.execute_reply.started": "2023-06-28T13:55:19.049375Z"
    }
   },
   "outputs": [],
   "source": [
    "# Ejemplo.\n",
    "simple_mccy_cashflow = Qcf.SimpleMultiCurrencyCashflow(\n",
    "    fecha3, 700.00, clp, fecha3, usd, usdclp_obs, 700.00\n",
    ")\n",
    "print(\"fecha flujo:\", simple_mccy_cashflow.date())\n",
    "print(\"nominal:\", simple_mccy_cashflow.nominal())\n",
    "print(\"moneda nominal:\", simple_mccy_cashflow.ccy().get_iso_code())\n",
    "print(\"flujo:\", simple_mccy_cashflow.amount())\n",
    "print(\"moneda flujo:\", simple_mccy_cashflow.settlement_ccy().get_iso_code())"
   ]
  },
  {
   "cell_type": "code",
   "execution_count": null,
   "metadata": {
    "ExecuteTime": {
     "end_time": "2022-01-21T13:43:02.573581Z",
     "start_time": "2022-01-21T13:43:02.558621Z"
    },
    "execution": {
     "iopub.status.busy": "2023-06-28T13:55:19.050085Z",
     "iopub.status.idle": "2023-06-28T13:55:19.050311Z",
     "shell.execute_reply": "2023-06-28T13:55:19.050197Z",
     "shell.execute_reply.started": "2023-06-28T13:55:19.050186Z"
    }
   },
   "outputs": [],
   "source": [
    "# El valor del índice se puede alterar (existe un setter).\n",
    "simple_mccy_cashflow.set_fx_rate_index_value(800.00)\n",
    "print(\"flujo:\", simple_mccy_cashflow.amount())"
   ]
  },
  {
   "cell_type": "code",
   "execution_count": null,
   "metadata": {
    "ExecuteTime": {
     "end_time": "2022-01-21T13:43:02.588541Z",
     "start_time": "2022-01-21T13:43:02.574578Z"
    },
    "execution": {
     "iopub.status.busy": "2023-06-28T13:55:19.051037Z",
     "iopub.status.idle": "2023-06-28T13:55:19.051352Z",
     "shell.execute_reply": "2023-06-28T13:55:19.051227Z",
     "shell.execute_reply.started": "2023-06-28T13:55:19.051213Z"
    }
   },
   "outputs": [],
   "source": [
    "# Ejemplo 2. Las monedas están invertidas respecto al caso anterior. El valor del índice se usa de la forma correcta.\n",
    "simple_mccy_cashflow = Qcf.SimpleMultiCurrencyCashflow(\n",
    "    fecha3, 1, usd, fecha3, clp, usdclp_obs, 700.00\n",
    ")\n",
    "print(\"fecha flujo:\", simple_mccy_cashflow.date())\n",
    "print(\"nominal:\", simple_mccy_cashflow.nominal())\n",
    "print(\"moneda nominal:\", simple_mccy_cashflow.ccy().get_iso_code())\n",
    "print(\"flujo:\", simple_mccy_cashflow.amount())\n",
    "print(\"moneda flujo:\", simple_mccy_cashflow.settlement_ccy().get_iso_code())"
   ]
  },
  {
   "cell_type": "code",
   "execution_count": null,
   "metadata": {
    "ExecuteTime": {
     "end_time": "2022-01-21T13:43:02.604498Z",
     "start_time": "2022-01-21T13:43:02.590536Z"
    },
    "execution": {
     "iopub.status.busy": "2023-06-28T13:55:19.052234Z",
     "iopub.status.idle": "2023-06-28T13:55:19.052454Z",
     "shell.execute_reply": "2023-06-28T13:55:19.052343Z",
     "shell.execute_reply.started": "2023-06-28T13:55:19.052332Z"
    }
   },
   "outputs": [],
   "source": [
    "# Ejemplo 3. Hay inconsistencia entre las monedas y el tipo de cambio del índice.\n",
    "eur = Qcf.QCEUR()\n",
    "try:\n",
    "    simple_mccy_cashflow = Qcf.SimpleMultiCurrencyCashflow(\n",
    "        fecha3, 1, usd, fecha3, eur, usdclp_obs, 700.00\n",
    "    )\n",
    "except ValueError as e:\n",
    "    print(\"Error:\", e)"
   ]
  },
  {
   "cell_type": "code",
   "execution_count": null,
   "metadata": {
    "ExecuteTime": {
     "end_time": "2022-01-21T13:43:02.619460Z",
     "start_time": "2022-01-21T13:43:02.605495Z"
    },
    "execution": {
     "iopub.status.busy": "2023-06-28T13:55:19.053430Z",
     "iopub.status.idle": "2023-06-28T13:55:19.053657Z",
     "shell.execute_reply": "2023-06-28T13:55:19.053545Z",
     "shell.execute_reply.started": "2023-06-28T13:55:19.053533Z"
    }
   },
   "outputs": [],
   "source": [
    "# Función show\n",
    "Qcf.show(simple_mccy_cashflow)"
   ]
  },
  {
   "cell_type": "markdown",
   "metadata": {},
   "source": [
    "### Fixed Rate Cashflow\n",
    "Un objeto de tipo `FixedRateCashflow` representa un flujo de caja calculado a partir de la aplicación de una tasa prefijada, entre dos fechas prefijadas a un nominal prefijado. Para dar de alta uno de estos objetos se requiere:\n",
    "\n",
    "- `QCDate`: fecha inicio (para la aplicación de la tasa)\n",
    "- `QCDate`: fecha final (para la aplicación de la tasa)\n",
    "- `QCDate`: fecha de pago\n",
    "- `float`: nominal (monto al que se le aplica la tasa)\n",
    "- `float`: amortización (eventual flujo de caja que corresponde a una porción del nominal)\n",
    "- `bool`: indica si la amortización anterior es un flujo de caja o sólo una disminución de nominal\n",
    "- `QCInterestRate`: la tasa de interés a aplicar (su valor y convenciones)\n",
    "- `QCCurrency`: moneda del nominal y del flujo de caja"
   ]
  },
  {
   "cell_type": "code",
   "execution_count": null,
   "metadata": {
    "ExecuteTime": {
     "end_time": "2022-01-21T13:43:02.635039Z",
     "start_time": "2022-01-21T13:43:02.621077Z"
    },
    "execution": {
     "iopub.status.busy": "2023-06-28T13:55:19.054539Z",
     "iopub.status.idle": "2023-06-28T13:55:19.054868Z",
     "shell.execute_reply": "2023-06-28T13:55:19.054755Z",
     "shell.execute_reply.started": "2023-06-28T13:55:19.054743Z"
    }
   },
   "outputs": [],
   "source": [
    "# Ejemplo\n",
    "fecha_inicio = Qcf.QCDate(20, 9, 2018)\n",
    "fecha_final = Qcf.QCDate(20, 9, 2019)\n",
    "fecha_pago = Qcf.QCDate(23, 9, 2019)\n",
    "tasa = Qcf.QCInterestRate(0.1, act360, lin_wf)\n",
    "fixed_rate_cashflow = Qcf.FixedRateCashflow(\n",
    "    fecha_inicio, fecha_final, fecha_pago, 1000000000.0, 100000000.0, True, tasa, clp\n",
    ")"
   ]
  },
  {
   "cell_type": "code",
   "execution_count": null,
   "metadata": {
    "ExecuteTime": {
     "end_time": "2022-01-21T13:43:02.650997Z",
     "start_time": "2022-01-21T13:43:02.637034Z"
    },
    "execution": {
     "iopub.status.busy": "2023-06-28T13:55:19.055696Z",
     "iopub.status.idle": "2023-06-28T13:55:19.055908Z",
     "shell.execute_reply": "2023-06-28T13:55:19.055798Z",
     "shell.execute_reply.started": "2023-06-28T13:55:19.055788Z"
    }
   },
   "outputs": [],
   "source": [
    "# Getters\n",
    "print(\"Fecha Inicio:\", fixed_rate_cashflow.get_start_date())\n",
    "print(\"Fecha Final:\", fixed_rate_cashflow.get_end_date())\n",
    "print(\"Fecha Pago:\", fixed_rate_cashflow.get_settlement_date())\n",
    "print(\"Moneda:\", fixed_rate_cashflow.ccy().get_iso_code())\n",
    "print(\"Nominal:\", fixed_rate_cashflow.get_nominal())\n",
    "print(\"Amortización:\", fixed_rate_cashflow.get_amortization())"
   ]
  },
  {
   "cell_type": "code",
   "execution_count": null,
   "metadata": {
    "ExecuteTime": {
     "end_time": "2022-01-21T13:43:02.666955Z",
     "start_time": "2022-01-21T13:43:02.652992Z"
    },
    "execution": {
     "iopub.status.busy": "2023-06-28T13:55:19.057081Z",
     "iopub.status.idle": "2023-06-28T13:55:19.057286Z",
     "shell.execute_reply": "2023-06-28T13:55:19.057183Z",
     "shell.execute_reply.started": "2023-06-28T13:55:19.057173Z"
    }
   },
   "outputs": [],
   "source": [
    "# Setters\n",
    "# TODO: set_rate\n",
    "nuevo_nominal = 2000000000.0\n",
    "fixed_rate_cashflow.set_nominal(nuevo_nominal)\n",
    "print(\"Nuevo nominal:\", fixed_rate_cashflow.get_nominal())\n",
    "\n",
    "nueva_amortizacion = 200000000.0\n",
    "fixed_rate_cashflow.set_amortization(nueva_amortizacion)\n",
    "print(\"Nueva amortización:\", fixed_rate_cashflow.get_amortization())"
   ]
  },
  {
   "cell_type": "code",
   "execution_count": null,
   "metadata": {
    "ExecuteTime": {
     "end_time": "2022-01-21T13:43:02.681915Z",
     "start_time": "2022-01-21T13:43:02.667952Z"
    },
    "execution": {
     "iopub.status.busy": "2023-06-28T13:55:19.058342Z",
     "iopub.status.idle": "2023-06-28T13:55:19.058586Z",
     "shell.execute_reply": "2023-06-28T13:55:19.058461Z",
     "shell.execute_reply.started": "2023-06-28T13:55:19.058451Z"
    }
   },
   "outputs": [],
   "source": [
    "# Cálculos\n",
    "print(\"Flujo Total:\", fixed_rate_cashflow.amount())\n",
    "print(\n",
    "    \"Check:\",\n",
    "    fixed_rate_cashflow.get_nominal() * 0.1 * 365.0 / 360\n",
    "    + fixed_rate_cashflow.get_amortization(),\n",
    ")\n",
    "print()\n",
    "fecha_intermedia = Qcf.QCDate(2, 1, 2019)\n",
    "print(\"Interés Devengado:\", fixed_rate_cashflow.accrued_interest(fecha_intermedia))\n",
    "print(\n",
    "    \"Check:\",\n",
    "    fixed_rate_cashflow.get_nominal()\n",
    "    * 0.1\n",
    "    * fecha_inicio.day_diff(fecha_intermedia)\n",
    "    / 360.0,\n",
    ")"
   ]
  },
  {
   "cell_type": "code",
   "execution_count": null,
   "metadata": {
    "ExecuteTime": {
     "end_time": "2022-01-21T13:43:02.696875Z",
     "start_time": "2022-01-21T13:43:02.682912Z"
    },
    "execution": {
     "iopub.status.busy": "2023-06-28T13:55:19.059639Z",
     "iopub.status.idle": "2023-06-28T13:55:19.059846Z",
     "shell.execute_reply": "2023-06-28T13:55:19.059741Z",
     "shell.execute_reply.started": "2023-06-28T13:55:19.059731Z"
    }
   },
   "outputs": [],
   "source": [
    "# Función show\n",
    "print(Qcf.show(fixed_rate_cashflow))"
   ]
  },
  {
   "cell_type": "code",
   "execution_count": null,
   "metadata": {
    "ExecuteTime": {
     "end_time": "2022-01-21T13:43:02.712832Z",
     "start_time": "2022-01-21T13:43:02.698869Z"
    },
    "execution": {
     "iopub.status.busy": "2023-06-28T13:55:19.060610Z",
     "iopub.status.idle": "2023-06-28T13:55:19.060932Z",
     "shell.execute_reply": "2023-06-28T13:55:19.060813Z",
     "shell.execute_reply.started": "2023-06-28T13:55:19.060801Z"
    }
   },
   "outputs": [],
   "source": [
    "fixed_rate_cashflow.accrued_interest(fixed_rate_cashflow.get_end_date())"
   ]
  },
  {
   "cell_type": "markdown",
   "metadata": {},
   "source": [
    "### Fixed Rate Cashflow 2\n",
    "Un objeto de tipo `FixedRateCashflow2` representa un flujo de caja calculado a partir de la aplicación de una tasa prefijada, entre dos fechas prefijadas a un nominal prefijado. Este tipo de cashflow puede ser *quantizado*, es decir, se puede cambiar su moneda de pago componiéndolo con un objeto adicional. Para dar de alta uno de estos objetos se requiere:\n",
    "\n",
    "- `QCDate`: fecha inicio (para la aplicación de la tasa)\n",
    "- `QCDate`: fecha final (para la aplicación de la tasa)\n",
    "- `QCDate`: fecha de pago\n",
    "- `float`: nominal (monto al que se le aplica la tasa)\n",
    "- `float`: amortización (eventual flujo de caja que corresponde a una porción del nominal)\n",
    "- `bool`: indica si la amortización anterior es un flujo de caja o sólo una disminución de nominal\n",
    "- `QCInterestRate`: la tasa de interés a aplicar (su valor y convenciones)\n",
    "- `QCCurrency`: moneda del nominal y del flujo de caja"
   ]
  },
  {
   "cell_type": "code",
   "execution_count": null,
   "metadata": {
    "ExecuteTime": {
     "end_time": "2022-01-21T13:43:02.728789Z",
     "start_time": "2022-01-21T13:43:02.713829Z"
    },
    "execution": {
     "iopub.status.busy": "2023-06-28T13:55:19.061761Z",
     "iopub.status.idle": "2023-06-28T13:55:19.061975Z",
     "shell.execute_reply": "2023-06-28T13:55:19.061862Z",
     "shell.execute_reply.started": "2023-06-28T13:55:19.061852Z"
    }
   },
   "outputs": [],
   "source": [
    "# Ejemplo\n",
    "fecha_inicio = Qcf.QCDate(20, 9, 2018)\n",
    "fecha_final = Qcf.QCDate(20, 9, 2019)\n",
    "fecha_pago = Qcf.QCDate(23, 9, 2019)\n",
    "tasa = Qcf.QCInterestRate(0.1, act360, lin_wf)\n",
    "fixed_rate_cashflow_2 = Qcf.FixedRateCashflow2(\n",
    "    fecha_inicio, fecha_final, fecha_pago, 1000000000.0, 100000000.0, True, tasa, clp\n",
    ")"
   ]
  },
  {
   "cell_type": "code",
   "execution_count": null,
   "metadata": {
    "ExecuteTime": {
     "end_time": "2022-01-21T13:43:02.744747Z",
     "start_time": "2022-01-21T13:43:02.730784Z"
    },
    "execution": {
     "iopub.status.busy": "2023-06-28T13:55:19.063079Z",
     "iopub.status.idle": "2023-06-28T13:55:19.063285Z",
     "shell.execute_reply": "2023-06-28T13:55:19.063181Z",
     "shell.execute_reply.started": "2023-06-28T13:55:19.063171Z"
    }
   },
   "outputs": [],
   "source": [
    "fixed_rate_cashflow_2.accrued_fixing(fecha_inicio)"
   ]
  },
  {
   "cell_type": "code",
   "execution_count": null,
   "metadata": {
    "ExecuteTime": {
     "end_time": "2022-01-21T13:43:02.760704Z",
     "start_time": "2022-01-21T13:43:02.745744Z"
    },
    "execution": {
     "iopub.status.busy": "2023-06-28T13:55:19.064335Z",
     "iopub.status.idle": "2023-06-28T13:55:19.064771Z",
     "shell.execute_reply": "2023-06-28T13:55:19.064639Z",
     "shell.execute_reply.started": "2023-06-28T13:55:19.064624Z"
    }
   },
   "outputs": [],
   "source": [
    "print(\"amount:\", fixed_rate_cashflow_2.amount())\n",
    "print(\"currency:\", fixed_rate_cashflow_2.ccy().get_iso_code())\n",
    "print(\"date:\", fixed_rate_cashflow_2.date())\n",
    "print(\"start date:\", fixed_rate_cashflow_2.get_start_date())\n",
    "print(\"end date:\", fixed_rate_cashflow_2.get_end_date())\n",
    "print(\"settlement date:\", fixed_rate_cashflow_2.get_settlement_date())\n",
    "print(\"fixing dates:\")\n",
    "for f in fixed_rate_cashflow_2.get_fixing_dates():\n",
    "    print(\"\\t\", f)\n",
    "print(\"nominal:\", fixed_rate_cashflow_2.get_nominal())\n",
    "print(\"amortization:\", fixed_rate_cashflow_2.get_amortization())\n",
    "print(\"interest (1st overload):\", fixed_rate_cashflow_2.interest())\n",
    "ts = Qcf.time_series()\n",
    "print(\"interest (2nd overload):\", fixed_rate_cashflow_2.interest(ts))\n",
    "print(\"fixing (1st overload):\", fixed_rate_cashflow_2.fixing())\n",
    "print(\"fixing (2nd overload):\", fixed_rate_cashflow_2.fixing(ts))\n",
    "fecha_intermedia = Qcf.QCDate(20, 3, 2019)\n",
    "print(\n",
    "    \"accrued interest (1st overload):\",\n",
    "    fixed_rate_cashflow_2.accrued_interest(fecha_intermedia),\n",
    ")\n",
    "print(\n",
    "    \"accrued interest (2nd overload):\",\n",
    "    fixed_rate_cashflow_2.accrued_interest(fecha_intermedia, ts),\n",
    ")\n",
    "print(\n",
    "    \"accrued fixing (1st overload):\",\n",
    "    fixed_rate_cashflow_2.accrued_fixing(fecha_intermedia),\n",
    ")\n",
    "print(\n",
    "    \"accrued fixing (2nd overload):\",\n",
    "    fixed_rate_cashflow_2.accrued_fixing(fecha_intermedia, ts),\n",
    ")"
   ]
  },
  {
   "cell_type": "code",
   "execution_count": null,
   "metadata": {
    "ExecuteTime": {
     "end_time": "2022-01-21T13:43:02.775663Z",
     "start_time": "2022-01-21T13:43:02.761702Z"
    },
    "execution": {
     "iopub.status.busy": "2023-06-28T13:55:19.065583Z",
     "iopub.status.idle": "2023-06-28T13:55:19.065795Z",
     "shell.execute_reply": "2023-06-28T13:55:19.065687Z",
     "shell.execute_reply.started": "2023-06-28T13:55:19.065677Z"
    }
   },
   "outputs": [],
   "source": [
    "ts[fecha_pago] = 2000\n",
    "quanto_frc_2 = Qcf.QuantoLinearInterestRateCashflow(\n",
    "    fixed_rate_cashflow_2, usdclp_obs, ts, fecha_pago\n",
    ")"
   ]
  },
  {
   "cell_type": "code",
   "execution_count": null,
   "metadata": {
    "ExecuteTime": {
     "end_time": "2022-01-21T13:43:02.791621Z",
     "start_time": "2022-01-21T13:43:02.776662Z"
    },
    "execution": {
     "iopub.status.busy": "2023-06-28T13:55:19.066494Z",
     "iopub.status.idle": "2023-06-28T13:55:19.066698Z",
     "shell.execute_reply": "2023-06-28T13:55:19.066595Z",
     "shell.execute_reply.started": "2023-06-28T13:55:19.066585Z"
    }
   },
   "outputs": [],
   "source": [
    "ts[fecha_intermedia] = 1500"
   ]
  },
  {
   "cell_type": "code",
   "execution_count": null,
   "metadata": {
    "ExecuteTime": {
     "end_time": "2022-01-21T13:43:02.806581Z",
     "start_time": "2022-01-21T13:43:02.792618Z"
    },
    "execution": {
     "iopub.status.busy": "2023-06-28T13:55:19.067526Z",
     "iopub.status.idle": "2023-06-28T13:55:19.067767Z",
     "shell.execute_reply": "2023-06-28T13:55:19.067658Z",
     "shell.execute_reply.started": "2023-06-28T13:55:19.067647Z"
    }
   },
   "outputs": [],
   "source": [
    "print(\"fecha fixing fx:\", quanto_frc_2.get_fx_rate_index_fixing_date())\n",
    "print(\"amount:\", quanto_frc_2.amount())\n",
    "print(\"original currency:\", quanto_frc_2.get_initial_ccy())\n",
    "print(\"new currency:\", quanto_frc_2.ccy().get_iso_code())\n",
    "print(\"date:\", quanto_frc_2.date())\n",
    "print(\"start date:\", quanto_frc_2.get_start_date())\n",
    "print(\"end date:\", quanto_frc_2.get_end_date())\n",
    "print(\"settlement date:\", quanto_frc_2.get_settlement_date())\n",
    "print(\"fixing dates:\")\n",
    "for f in quanto_frc_2.get_fixing_dates():\n",
    "    print(\"\\t\", f)\n",
    "print(\"nominal:\", quanto_frc_2.get_nominal())\n",
    "print(\"amortization:\", quanto_frc_2.get_amortization())\n",
    "print(\"amortization in sett ccy:\", quanto_frc_2.amortization())\n",
    "print(\"interest (1st overload):\", quanto_frc_2.interest())\n",
    "ts1 = Qcf.time_series()\n",
    "print(\"interest (2nd overload):\", quanto_frc_2.interest(ts1))\n",
    "print(\"fixing (1st overload):\", quanto_frc_2.fixing())\n",
    "print(\"fixing (2nd overload):\", quanto_frc_2.fixing(ts1))\n",
    "fecha_intermedia = Qcf.QCDate(20, 3, 2019)\n",
    "print(\n",
    "    \"accrued interest (1st overload):\", quanto_frc_2.accrued_interest(fecha_intermedia)\n",
    ")\n",
    "print(\n",
    "    \"accrued interest (2nd overload):\",\n",
    "    quanto_frc_2.accrued_interest(fecha_intermedia, ts1),\n",
    ")\n",
    "print(\"accrued fixing (1st overload):\", quanto_frc_2.accrued_fixing(fecha_intermedia))\n",
    "print(\n",
    "    \"accrued fixing (2nd overload):\", quanto_frc_2.accrued_fixing(fecha_intermedia, ts1)\n",
    ")"
   ]
  },
  {
   "cell_type": "code",
   "execution_count": null,
   "metadata": {
    "ExecuteTime": {
     "end_time": "2022-01-21T13:43:02.821542Z",
     "start_time": "2022-01-21T13:43:02.807579Z"
    },
    "execution": {
     "iopub.status.busy": "2023-06-28T13:55:19.068523Z",
     "iopub.status.idle": "2023-06-28T13:55:19.068732Z",
     "shell.execute_reply": "2023-06-28T13:55:19.068625Z",
     "shell.execute_reply.started": "2023-06-28T13:55:19.068615Z"
    }
   },
   "outputs": [],
   "source": [
    "quanto_frc_3 = Qcf.QuantoLinearInterestRateCashflow(\n",
    "    quanto_frc_2, usdclp_obs, ts, fecha_pago\n",
    ")"
   ]
  },
  {
   "cell_type": "code",
   "execution_count": null,
   "metadata": {
    "ExecuteTime": {
     "end_time": "2022-01-21T13:43:02.837499Z",
     "start_time": "2022-01-21T13:43:02.822539Z"
    },
    "execution": {
     "iopub.status.busy": "2023-06-28T13:55:19.069662Z",
     "iopub.status.idle": "2023-06-28T13:55:19.069968Z",
     "shell.execute_reply": "2023-06-28T13:55:19.069862Z",
     "shell.execute_reply.started": "2023-06-28T13:55:19.069851Z"
    }
   },
   "outputs": [],
   "source": [
    "print(\"fecha fixing fx:\", quanto_frc_3.get_fx_rate_index_fixing_date())\n",
    "print(\"amount:\", quanto_frc_3.amount())\n",
    "print(\"original currency:\", quanto_frc_3.get_initial_ccy())\n",
    "print(\"new currency:\", quanto_frc_3.ccy().get_iso_code())\n",
    "print(\"date:\", quanto_frc_3.date())\n",
    "print(\"start date:\", quanto_frc_3.get_start_date())\n",
    "print(\"end date:\", quanto_frc_3.get_end_date())\n",
    "print(\"settlement date:\", quanto_frc_3.get_settlement_date())\n",
    "print(\"fixing dates:\")\n",
    "for f in quanto_frc_3.get_fixing_dates():\n",
    "    print(\"\\t\", f)\n",
    "print(\"nominal:\", quanto_frc_3.get_nominal())\n",
    "print(\"amortization:\", quanto_frc_3.get_amortization())\n",
    "print(\"amortization in sett ccy:\", quanto_frc_3.amortization())\n",
    "print(\"interest (1st overload):\", quanto_frc_3.interest())\n",
    "ts1 = Qcf.time_series()\n",
    "print(\"interest (2nd overload):\", quanto_frc_3.interest(ts1))\n",
    "print(\"fixing (1st overload):\", quanto_frc_3.fixing())\n",
    "print(\"fixing (2nd overload):\", quanto_frc_3.fixing(ts1))\n",
    "fecha_intermedia = Qcf.QCDate(20, 3, 2019)\n",
    "print(\n",
    "    \"accrued interest (1st overload):\", quanto_frc_3.accrued_interest(fecha_intermedia)\n",
    ")\n",
    "print(\n",
    "    \"accrued interest (2nd overload):\",\n",
    "    quanto_frc_3.accrued_interest(fecha_intermedia, ts1),\n",
    ")\n",
    "print(\"accrued fixing (1st overload):\", quanto_frc_3.accrued_fixing(fecha_intermedia))\n",
    "print(\n",
    "    \"accrued fixing (2nd overload):\", quanto_frc_3.accrued_fixing(fecha_intermedia, ts1)\n",
    ")"
   ]
  },
  {
   "cell_type": "markdown",
   "metadata": {},
   "source": [
    "### Fixed Rate Multi Currency Cashflow\n",
    "Un objeto de tipo `FixedRateMultiCurrencyCashflow` representa un flujo de caja a tasa fija (`FixedRateCashflow`) que se liquidará en una moneda distinta de la moneda del nominal utilizando el valor a una cierta fecha de un índice de tipo de cambio prefijado. Para dar de alta uno de estos objetos se requiere:\n",
    "\n",
    "- `QCDate`: fecha inicio (para la aplicación de la tasa)\n",
    "- `QCDate`: fecha final (para la aplicación de la tasa)\n",
    "- `QCDate`: fecha de pago\n",
    "- `float`: nominal (monto al que se le aplica la tasa)\n",
    "- `float`: amortización (eventual flujo de caja que corresponde a una porción del nominal)\n",
    "- `bool`: indica si la amortización anterior es un flujo de caja o sólo una disminución de nominal\n",
    "- `QCInterestRate`: la tasa de interés a aplicar (su valor y convenciones)\n",
    "- `QCCurrency`: moneda del nominal\n",
    "- `QCDate`: fecha de publicación del índice de tipo de cambio\n",
    "- `QCCurrency`: moneda en la que se liquida el flujo\n",
    "- `FXRateIndex`: índice de tipo de cambio a utilizar\n",
    "- `float`: valor del índice de tipo de cambio"
   ]
  },
  {
   "cell_type": "code",
   "execution_count": null,
   "metadata": {
    "ExecuteTime": {
     "end_time": "2022-01-21T13:43:02.852459Z",
     "start_time": "2022-01-21T13:43:02.838497Z"
    },
    "execution": {
     "iopub.status.busy": "2023-06-28T13:55:19.070559Z",
     "iopub.status.idle": "2023-06-28T13:55:19.070770Z",
     "shell.execute_reply": "2023-06-28T13:55:19.070660Z",
     "shell.execute_reply.started": "2023-06-28T13:55:19.070650Z"
    }
   },
   "outputs": [],
   "source": [
    "# Ejemplo\n",
    "fecha_inicio = Qcf.QCDate(20, 9, 2018)\n",
    "fecha_final = Qcf.QCDate(20, 9, 2019)\n",
    "fecha_pago = Qcf.QCDate(23, 9, 2019)\n",
    "fecha_publicacion = Qcf.QCDate(23, 9, 2019)\n",
    "usd = Qcf.QCUSD()\n",
    "indice = usdclp_obs\n",
    "valor_indice = 20.0\n",
    "nominal = 1000.0\n",
    "amort = 1000.0\n",
    "fixed_rate_mccy_cashflow = Qcf.FixedRateMultiCurrencyCashflow(\n",
    "    fecha_inicio,\n",
    "    fecha_final,\n",
    "    fecha_pago,\n",
    "    nominal,\n",
    "    amort,\n",
    "    False,\n",
    "    tasa,\n",
    "    usd,\n",
    "    fecha_publicacion,\n",
    "    clp,\n",
    "    indice,\n",
    "    valor_indice,\n",
    ")\n",
    "print(fixed_rate_mccy_cashflow)"
   ]
  },
  {
   "cell_type": "markdown",
   "metadata": {},
   "source": [
    "**TODO: get_rate.** Este getter no debe ser un getter tradicional, ya que no es necesario que retorne una referencia a todo el objeto ``QCInterestRate``, basta con el valor y la descripción de yf y wf asociado (mejor llamarlo get_rate_info)."
   ]
  },
  {
   "cell_type": "code",
   "execution_count": null,
   "metadata": {
    "ExecuteTime": {
     "end_time": "2022-01-21T13:43:02.868416Z",
     "start_time": "2022-01-21T13:43:02.853456Z"
    },
    "execution": {
     "iopub.status.busy": "2023-06-28T13:55:19.071676Z",
     "iopub.status.idle": "2023-06-28T13:55:19.071945Z",
     "shell.execute_reply": "2023-06-28T13:55:19.071837Z",
     "shell.execute_reply.started": "2023-06-28T13:55:19.071826Z"
    }
   },
   "outputs": [],
   "source": [
    "# Getters\n",
    "print(\"Fecha Inicio:\", fixed_rate_mccy_cashflow.get_start_date())\n",
    "print(\"Fecha Final:\", fixed_rate_mccy_cashflow.get_end_date())\n",
    "print(\"Fecha Pago:\", fixed_rate_mccy_cashflow.get_settlement_date())\n",
    "print(\"Moneda del Nominal:\", fixed_rate_mccy_cashflow.ccy())\n",
    "print(\"Nominal:\", fixed_rate_mccy_cashflow.get_nominal())\n",
    "print(\"Amortización:\", fixed_rate_mccy_cashflow.get_amortization())\n",
    "print(\"Moneda de Liquidación:\", fixed_rate_mccy_cashflow.settlement_currency())"
   ]
  },
  {
   "cell_type": "markdown",
   "metadata": {},
   "source": [
    "**TODO: set_rate_value.** Debe establecer el valor de la tasa de interés."
   ]
  },
  {
   "cell_type": "code",
   "execution_count": null,
   "metadata": {
    "ExecuteTime": {
     "end_time": "2022-01-21T13:43:02.884373Z",
     "start_time": "2022-01-21T13:43:02.870411Z"
    },
    "execution": {
     "iopub.status.busy": "2023-06-28T13:55:19.072936Z",
     "iopub.status.idle": "2023-06-28T13:55:19.073143Z",
     "shell.execute_reply": "2023-06-28T13:55:19.073037Z",
     "shell.execute_reply.started": "2023-06-28T13:55:19.073027Z"
    }
   },
   "outputs": [],
   "source": [
    "# Setters\n",
    "nuevo_nominal = 100.0\n",
    "fixed_rate_mccy_cashflow.set_nominal(nuevo_nominal)\n",
    "print(\"Nuevo nominal:\", fixed_rate_mccy_cashflow.get_nominal())\n",
    "\n",
    "nueva_amortizacion = 10.0\n",
    "fixed_rate_mccy_cashflow.set_amortization(nueva_amortizacion)\n",
    "print(\"Nueva amortización:\", fixed_rate_mccy_cashflow.get_amortization())"
   ]
  },
  {
   "cell_type": "code",
   "execution_count": null,
   "metadata": {
    "ExecuteTime": {
     "end_time": "2022-01-21T13:43:02.900331Z",
     "start_time": "2022-01-21T13:43:02.885371Z"
    },
    "execution": {
     "iopub.status.busy": "2023-06-28T13:55:19.074040Z",
     "iopub.status.idle": "2023-06-28T13:55:19.074296Z",
     "shell.execute_reply": "2023-06-28T13:55:19.074167Z",
     "shell.execute_reply.started": "2023-06-28T13:55:19.074155Z"
    }
   },
   "outputs": [],
   "source": [
    "# Cálculos\n",
    "fixed_rate_mccy_cashflow.set_nominal(nominal)\n",
    "fixed_rate_mccy_cashflow.set_amortization(amort)\n",
    "print(\"Flujo Total:\", fixed_rate_mccy_cashflow.amount())\n",
    "print(\n",
    "    \"Check:\",\n",
    "    (fixed_rate_mccy_cashflow.get_nominal() * 0.1 * 365.0 / 360) * valor_indice,\n",
    ")\n",
    "print\n",
    "fecha_intermedia = Qcf.QCDate(2, 1, 2019)\n",
    "print(\"Interés Devengado:\", fixed_rate_mccy_cashflow.accrued_interest(fecha_intermedia))\n",
    "print(\n",
    "    \"Check:\",\n",
    "    fixed_rate_mccy_cashflow.get_nominal()\n",
    "    * 0.1\n",
    "    * fecha_inicio.day_diff(fecha_intermedia)\n",
    "    / 360.0,\n",
    ")"
   ]
  },
  {
   "cell_type": "code",
   "execution_count": null,
   "metadata": {
    "ExecuteTime": {
     "end_time": "2022-01-21T13:43:02.915291Z",
     "start_time": "2022-01-21T13:43:02.901329Z"
    },
    "execution": {
     "iopub.status.busy": "2023-06-28T13:55:19.075405Z",
     "iopub.status.idle": "2023-06-28T13:55:19.076060Z",
     "shell.execute_reply": "2023-06-28T13:55:19.075771Z",
     "shell.execute_reply.started": "2023-06-28T13:55:19.075750Z"
    }
   },
   "outputs": [],
   "source": [
    "ts = Qcf.time_series()"
   ]
  },
  {
   "cell_type": "code",
   "execution_count": null,
   "metadata": {
    "ExecuteTime": {
     "end_time": "2022-01-21T13:43:02.930251Z",
     "start_time": "2022-01-21T13:43:02.916289Z"
    },
    "execution": {
     "iopub.status.busy": "2023-06-28T13:55:19.078200Z",
     "iopub.status.idle": "2023-06-28T13:55:19.078647Z",
     "shell.execute_reply": "2023-06-28T13:55:19.078458Z",
     "shell.execute_reply.started": "2023-06-28T13:55:19.078425Z"
    }
   },
   "outputs": [],
   "source": [
    "ts[fecha_inicio] = 10"
   ]
  },
  {
   "cell_type": "code",
   "execution_count": null,
   "metadata": {
    "ExecuteTime": {
     "end_time": "2022-01-21T13:43:02.946209Z",
     "start_time": "2022-01-21T13:43:02.931249Z"
    },
    "execution": {
     "iopub.status.busy": "2023-06-28T13:55:19.079843Z",
     "iopub.status.idle": "2023-06-28T13:55:19.080112Z",
     "shell.execute_reply": "2023-06-28T13:55:19.079999Z",
     "shell.execute_reply.started": "2023-06-28T13:55:19.079988Z"
    }
   },
   "outputs": [],
   "source": [
    "ts[fecha_inicio]"
   ]
  },
  {
   "cell_type": "code",
   "execution_count": null,
   "metadata": {
    "ExecuteTime": {
     "end_time": "2022-01-21T13:43:02.962166Z",
     "start_time": "2022-01-21T13:43:02.948204Z"
    },
    "execution": {
     "iopub.status.busy": "2023-06-28T13:55:19.081103Z",
     "iopub.status.idle": "2023-06-28T13:55:19.081476Z",
     "shell.execute_reply": "2023-06-28T13:55:19.081348Z",
     "shell.execute_reply.started": "2023-06-28T13:55:19.081334Z"
    }
   },
   "outputs": [],
   "source": [
    "ts[fecha_intermedia] = 15"
   ]
  },
  {
   "cell_type": "code",
   "execution_count": null,
   "metadata": {
    "ExecuteTime": {
     "end_time": "2022-01-21T13:43:02.978123Z",
     "start_time": "2022-01-21T13:43:02.964161Z"
    },
    "execution": {
     "iopub.status.busy": "2023-06-28T13:55:19.082654Z",
     "iopub.status.idle": "2023-06-28T13:55:19.082922Z",
     "shell.execute_reply": "2023-06-28T13:55:19.082803Z",
     "shell.execute_reply.started": "2023-06-28T13:55:19.082792Z"
    }
   },
   "outputs": [],
   "source": [
    "print(fixed_rate_mccy_cashflow.accrued_interest(fecha_intermedia, fecha_inicio, ts))"
   ]
  },
  {
   "cell_type": "code",
   "execution_count": null,
   "metadata": {
    "ExecuteTime": {
     "end_time": "2022-01-21T13:43:02.993083Z",
     "start_time": "2022-01-21T13:43:02.979121Z"
    },
    "execution": {
     "iopub.status.busy": "2023-06-28T13:55:19.083800Z",
     "iopub.status.idle": "2023-06-28T13:55:19.084030Z",
     "shell.execute_reply": "2023-06-28T13:55:19.083916Z",
     "shell.execute_reply.started": "2023-06-28T13:55:19.083905Z"
    }
   },
   "outputs": [],
   "source": [
    "print(fixed_rate_mccy_cashflow.accrued_interest(fecha_intermedia, fecha_intermedia, ts))"
   ]
  },
  {
   "cell_type": "code",
   "execution_count": null,
   "metadata": {
    "ExecuteTime": {
     "end_time": "2022-01-21T13:43:03.008043Z",
     "start_time": "2022-01-21T13:43:02.995079Z"
    },
    "execution": {
     "iopub.status.busy": "2023-06-28T13:55:19.084976Z",
     "iopub.status.idle": "2023-06-28T13:55:19.085376Z",
     "shell.execute_reply": "2023-06-28T13:55:19.085254Z",
     "shell.execute_reply.started": "2023-06-28T13:55:19.085241Z"
    }
   },
   "outputs": [],
   "source": [
    "fx_variation = fixed_rate_mccy_cashflow.accrued_fx_variation(fecha_intermedia, ts)"
   ]
  },
  {
   "cell_type": "code",
   "execution_count": null,
   "metadata": {
    "ExecuteTime": {
     "end_time": "2022-01-21T13:43:03.024002Z",
     "start_time": "2022-01-21T13:43:03.009041Z"
    },
    "execution": {
     "iopub.status.busy": "2023-06-28T13:55:19.086236Z",
     "iopub.status.idle": "2023-06-28T13:55:19.086459Z",
     "shell.execute_reply": "2023-06-28T13:55:19.086347Z",
     "shell.execute_reply.started": "2023-06-28T13:55:19.086336Z"
    }
   },
   "outputs": [],
   "source": [
    "print(fx_variation.interest_variation)\n",
    "print(fx_variation.nominal_variation)"
   ]
  },
  {
   "cell_type": "code",
   "execution_count": null,
   "metadata": {
    "ExecuteTime": {
     "end_time": "2022-01-21T13:43:03.039958Z",
     "start_time": "2022-01-21T13:43:03.025996Z"
    },
    "execution": {
     "iopub.status.busy": "2023-06-28T13:55:19.087203Z",
     "iopub.status.idle": "2023-06-28T13:55:19.087495Z",
     "shell.execute_reply": "2023-06-28T13:55:19.087369Z",
     "shell.execute_reply.started": "2023-06-28T13:55:19.087356Z"
    }
   },
   "outputs": [],
   "source": [
    "# Función show\n",
    "print(Qcf.show(fixed_rate_mccy_cashflow))"
   ]
  },
  {
   "cell_type": "markdown",
   "metadata": {},
   "source": [
    "### Ibor Cashflow\n",
    "Un objeto de tipo `IborCashflow` representa un flujo de caja calculado a partir de la aplicación de una tasa flotante fijada en una cierta fecha (Libor, Euribor, TAB, ...) , entre dos fechas prefijadas a un nominal prefijado. Para dar de alta uno de estos objetos se requiere:\n",
    "\n",
    "- `InterestRateIndex`: el índice de tasa de interés prefijado\n",
    "- `QCDate`: fecha inicio (para la aplicación de la tasa)\n",
    "- `QCDate`: fecha final (para la aplicación de la tasa)\n",
    "- `QCDate`: fecha de fijación del índice de tasa de interés \n",
    "- `QCDate`: fecha de pago\n",
    "- `float`: nominal (monto al que se le aplica la tasa)\n",
    "- `float`: amortización (eventual flujo de caja que corresponde a una porción del nominal)\n",
    "- `bool`: indica si la amortización anterior es un flujo de caja o sólo una disminución de nominal\n",
    "- `QCCurrency`: moneda del nominal y del flujo de caja\n",
    "- `float`: spread aditivo a aplicar a la fijación del índice\n",
    "- `float`: spread multiplicativo o gearing a aplicar a la fijación del índice\n",
    "\n",
    "Para dar de alta un `InterestRateIndex` se requiere:\n",
    "\n",
    "- `str`: código del índice\n",
    "- `QCInterestRate`: un objeto tasa de interés que contenga las convenciones del índice\n",
    "- `Tenor`: el lag de inicio del índice respecto a la fecha de fixing (por ejemplo 2d para Libor USD)\n",
    "- `Tenor`: el tenor del índice (3M por ejemplo para Libor USD 3M)\n",
    "- `QCBusinessCalendar`: el calendario de fixing\n",
    "- `QCBusinessCalendar`: el calendario de pago\n",
    "- `QCCurrency`: la moneda a la que corresponde el índice (por ejemplo EUR para EURIBOR 3M)\n"
   ]
  },
  {
   "cell_type": "markdown",
   "metadata": {},
   "source": [
    "**TODO: agregar end_date_adjustment al objeto (FOLLOW o MOD FOLLOW).** Esto debiera tener un correspondiente cambio en la BBDD de Front Desk."
   ]
  },
  {
   "cell_type": "code",
   "execution_count": null,
   "metadata": {
    "ExecuteTime": {
     "end_time": "2022-01-21T13:43:03.054918Z",
     "start_time": "2022-01-21T13:43:03.040956Z"
    },
    "execution": {
     "iopub.status.busy": "2023-06-28T13:55:19.088406Z",
     "iopub.status.idle": "2023-06-28T13:55:19.088723Z",
     "shell.execute_reply": "2023-06-28T13:55:19.088605Z",
     "shell.execute_reply.started": "2023-06-28T13:55:19.088593Z"
    }
   },
   "outputs": [],
   "source": [
    "# Se define el índice\n",
    "codigo = \"LIBORUSD3M\"\n",
    "lin_act360 = Qcf.QCInterestRate(0.0, act360, lin_wf)\n",
    "fixing_lag = Qcf.Tenor(\"2d\")\n",
    "tenor = Qcf.Tenor(\"3m\")\n",
    "fixing_calendar = scl  # No es el calendario correcto, pero sirve para el ejemplo\n",
    "settlement_calendar = scl  # Ídem arriba\n",
    "libor_usd_3m = Qcf.InterestRateIndex(\n",
    "    codigo, lin_act360, fixing_lag, tenor, fixing_calendar, settlement_calendar, usd\n",
    ")\n",
    "\n",
    "# Getters\n",
    "print(\"Tenor:\", libor_usd_3m.get_tenor())\n",
    "print(\"Tasa:\", libor_usd_3m.get_rate())\n",
    "print()\n",
    "\n",
    "# Para construir un fixing en particular\n",
    "libor_usd_3m.set_rate_value(0.01)\n",
    "print(\"Fixing Tasa:\", libor_usd_3m.get_rate())\n",
    "fecha_fixing = Qcf.QCDate(20, 9, 2018)\n",
    "print(\"Fecha Inicio:\", libor_usd_3m.get_start_date(fecha_fixing))\n",
    "print(\"Fecha Final:\", libor_usd_3m.get_end_date(fecha_fixing))"
   ]
  },
  {
   "cell_type": "code",
   "execution_count": null,
   "metadata": {
    "ExecuteTime": {
     "end_time": "2022-01-21T13:43:03.070875Z",
     "start_time": "2022-01-21T13:43:03.056913Z"
    },
    "execution": {
     "iopub.status.busy": "2023-06-28T13:55:19.089498Z",
     "iopub.status.idle": "2023-06-28T13:55:19.089769Z",
     "shell.execute_reply": "2023-06-28T13:55:19.089635Z",
     "shell.execute_reply.started": "2023-06-28T13:55:19.089622Z"
    }
   },
   "outputs": [],
   "source": [
    "libor_usd_3m.get_code()"
   ]
  },
  {
   "cell_type": "code",
   "execution_count": null,
   "metadata": {
    "ExecuteTime": {
     "end_time": "2022-01-21T13:43:03.085835Z",
     "start_time": "2022-01-21T13:43:03.071873Z"
    },
    "execution": {
     "iopub.status.busy": "2023-06-28T13:55:19.090859Z",
     "iopub.status.idle": "2023-06-28T13:55:19.091111Z",
     "shell.execute_reply": "2023-06-28T13:55:19.090993Z",
     "shell.execute_reply.started": "2023-06-28T13:55:19.090982Z"
    }
   },
   "outputs": [],
   "source": [
    "libor_usd_3m.set_rate_value(0.1)"
   ]
  },
  {
   "cell_type": "code",
   "execution_count": null,
   "metadata": {
    "ExecuteTime": {
     "end_time": "2022-01-21T13:43:03.101793Z",
     "start_time": "2022-01-21T13:43:03.087831Z"
    },
    "execution": {
     "iopub.status.busy": "2023-06-28T13:55:19.091966Z",
     "iopub.status.idle": "2023-06-28T13:55:19.092216Z",
     "shell.execute_reply": "2023-06-28T13:55:19.092096Z",
     "shell.execute_reply.started": "2023-06-28T13:55:19.092084Z"
    }
   },
   "outputs": [],
   "source": [
    "print(libor_usd_3m.get_rate())"
   ]
  },
  {
   "cell_type": "code",
   "execution_count": null,
   "metadata": {
    "ExecuteTime": {
     "end_time": "2022-01-21T13:43:03.117750Z",
     "start_time": "2022-01-21T13:43:03.102790Z"
    },
    "execution": {
     "iopub.status.busy": "2023-06-28T13:55:19.093277Z",
     "iopub.status.idle": "2023-06-28T13:55:19.093626Z",
     "shell.execute_reply": "2023-06-28T13:55:19.093492Z",
     "shell.execute_reply.started": "2023-06-28T13:55:19.093476Z"
    }
   },
   "outputs": [],
   "source": [
    "libor_usd_3m.get_rate()"
   ]
  },
  {
   "cell_type": "markdown",
   "metadata": {},
   "source": [
    "Con esto, veamos un ejemplo de construcción y uso de un `IborCashflow`."
   ]
  },
  {
   "cell_type": "markdown",
   "metadata": {},
   "source": [
    "**TODO:** Se debe crear un mecanismo de WARNING para las eventuales inconsistencias entre las fechas de inicio y fin del ``InterestRateIndex`` y las fechas de inicio y fin del ``IborCashflow``."
   ]
  },
  {
   "cell_type": "code",
   "execution_count": null,
   "metadata": {
    "ExecuteTime": {
     "end_time": "2022-01-21T13:43:03.132710Z",
     "start_time": "2022-01-21T13:43:03.118748Z"
    },
    "execution": {
     "iopub.status.busy": "2023-06-28T13:55:19.094423Z",
     "iopub.status.idle": "2023-06-28T13:55:19.094666Z",
     "shell.execute_reply": "2023-06-28T13:55:19.094539Z",
     "shell.execute_reply.started": "2023-06-28T13:55:19.094529Z"
    }
   },
   "outputs": [],
   "source": [
    "# Ejemplo\n",
    "fecha_inicio = Qcf.QCDate(20, 9, 2018)\n",
    "fecha_final = Qcf.QCDate(20, 9, 2019)\n",
    "fecha_pago = Qcf.QCDate(23, 9, 2019)\n",
    "fecha_fixing = Qcf.QCDate(20, 9, 2018)\n",
    "nominal = 1000000.0\n",
    "amort = 100000.0\n",
    "spread = 0.0\n",
    "gearing = 1.0\n",
    "ibor_cashflow = Qcf.IborCashflow(\n",
    "    libor_usd_3m,\n",
    "    fecha_inicio,\n",
    "    fecha_final,\n",
    "    fecha_fixing,\n",
    "    fecha_pago,\n",
    "    nominal,\n",
    "    amort,\n",
    "    True,\n",
    "    usd,\n",
    "    spread,\n",
    "    gearing,\n",
    ")"
   ]
  },
  {
   "cell_type": "code",
   "execution_count": null,
   "metadata": {
    "ExecuteTime": {
     "end_time": "2022-01-21T13:43:03.148668Z",
     "start_time": "2022-01-21T13:43:03.133708Z"
    },
    "execution": {
     "iopub.status.busy": "2023-06-28T13:55:19.095868Z",
     "iopub.status.idle": "2023-06-28T13:55:19.096106Z",
     "shell.execute_reply": "2023-06-28T13:55:19.095988Z",
     "shell.execute_reply.started": "2023-06-28T13:55:19.095977Z"
    }
   },
   "outputs": [],
   "source": [
    "# Getters\n",
    "print(\"Fecha Fixing:\\t\", ibor_cashflow.get_fixing_date())\n",
    "print(\"Fecha Inicio:\\t\", ibor_cashflow.get_start_date())\n",
    "print(\"Fecha Final:\\t\", ibor_cashflow.get_end_date())\n",
    "print(\"Fecha Pago:\\t\", ibor_cashflow.get_settlement_date())\n",
    "print(\"Nominal:\\t\", ibor_cashflow.get_nominal())\n",
    "print(\"Amortización:\\t\", ibor_cashflow.get_amortization())\n",
    "print(\"Moneda:\\t\\t\", ibor_cashflow.ccy())\n",
    "print(\"Valor Tasa:\\t\", ibor_cashflow.get_interest_rate_value())"
   ]
  },
  {
   "cell_type": "code",
   "execution_count": null,
   "metadata": {
    "ExecuteTime": {
     "end_time": "2022-01-21T13:43:03.163627Z",
     "start_time": "2022-01-21T13:43:03.149665Z"
    },
    "execution": {
     "iopub.status.busy": "2023-06-28T13:55:19.097335Z",
     "iopub.status.idle": "2023-06-28T13:55:19.097565Z",
     "shell.execute_reply": "2023-06-28T13:55:19.097453Z",
     "shell.execute_reply.started": "2023-06-28T13:55:19.097441Z"
    }
   },
   "outputs": [],
   "source": [
    "# Setters\n",
    "nuevo_nominal = 2000000.0\n",
    "ibor_cashflow.set_nominal(nuevo_nominal)\n",
    "print(\"Nominal:\\t\", ibor_cashflow.get_nominal())\n",
    "\n",
    "nueva_amortizacion = 200000.0\n",
    "ibor_cashflow.set_amortization(nueva_amortizacion)\n",
    "print(\"Amortización:\\t\", ibor_cashflow.get_amortization())\n",
    "\n",
    "nuevo_valor_tasa = 0.02\n",
    "ibor_cashflow.set_interest_rate_value(nuevo_valor_tasa)"
   ]
  },
  {
   "cell_type": "code",
   "execution_count": null,
   "metadata": {
    "ExecuteTime": {
     "end_time": "2022-01-21T13:43:03.179585Z",
     "start_time": "2022-01-21T13:43:03.164625Z"
    },
    "execution": {
     "iopub.status.busy": "2023-06-28T13:55:19.098528Z",
     "iopub.status.idle": "2023-06-28T13:55:19.098755Z",
     "shell.execute_reply": "2023-06-28T13:55:19.098639Z",
     "shell.execute_reply.started": "2023-06-28T13:55:19.098629Z"
    }
   },
   "outputs": [],
   "source": [
    "# Cálculos\n",
    "print(\"Flujo:\", ibor_cashflow.amount())\n",
    "\n",
    "fecha_devengo = Qcf.QCDate(20, 7, 2019)\n",
    "print(\"Interés Devengado:\", ibor_cashflow.accrued_interest(fecha_devengo))\n",
    "tasa = ibor_cashflow.get_interest_rate_value()\n",
    "print(\n",
    "    \"Check:\",\n",
    "    tasa * fecha_inicio.day_diff(fecha_devengo) / 360.0 * ibor_cashflow.get_nominal(),\n",
    ")"
   ]
  },
  {
   "cell_type": "code",
   "execution_count": null,
   "metadata": {
    "ExecuteTime": {
     "end_time": "2022-01-21T13:43:03.195543Z",
     "start_time": "2022-01-21T13:43:03.186566Z"
    },
    "execution": {
     "iopub.status.busy": "2023-06-28T13:55:19.099383Z",
     "iopub.status.idle": "2023-06-28T13:55:19.099718Z",
     "shell.execute_reply": "2023-06-28T13:55:19.099568Z",
     "shell.execute_reply.started": "2023-06-28T13:55:19.099555Z"
    }
   },
   "outputs": [],
   "source": [
    "# Función show\n",
    "print(Qcf.show(ibor_cashflow))"
   ]
  },
  {
   "cell_type": "markdown",
   "metadata": {},
   "source": [
    "### Ibor Cashflow 2\n",
    "Un objeto de tipo `IborCashflow2` representa un flujo de caja calculado a partir de la aplicación de una tasa flotante fijada en una cierta fecha (Libor, Euribor, TAB, ...) , entre dos fechas prefijadas a un nominal prefijado. Para dar de alta uno de estos objetos se requiere:\n",
    "\n",
    "- `InterestRateIndex`: el índice de tasa de interés prefijado\n",
    "- `QCDate`: fecha inicio (para la aplicación de la tasa)\n",
    "- `QCDate`: fecha final (para la aplicación de la tasa)\n",
    "- `QCDate`: fecha de fijación del índice de tasa de interés \n",
    "- `QCDate`: fecha de pago\n",
    "- `float`: nominal (monto al que se le aplica la tasa)\n",
    "- `float`: amortización (eventual flujo de caja que corresponde a una porción del nominal)\n",
    "- `bool`: indica si la amortización anterior es un flujo de caja o sólo una disminución de nominal\n",
    "- `QCCurrency`: moneda del nominal y del flujo de caja\n",
    "- `float`: spread aditivo a aplicar a la fijación del índice\n",
    "- `float`: spread multiplicativo o gearing a aplicar a la fijación del índice\n",
    "\n",
    "A diferencia de un `IborCashflow`, un `IborCashflow2` puede quantizarse."
   ]
  },
  {
   "cell_type": "code",
   "execution_count": null,
   "metadata": {
    "ExecuteTime": {
     "end_time": "2022-01-21T13:43:03.211499Z",
     "start_time": "2022-01-21T13:43:03.196541Z"
    },
    "execution": {
     "iopub.status.busy": "2023-06-28T13:55:19.100535Z",
     "iopub.status.idle": "2023-06-28T13:55:19.100780Z",
     "shell.execute_reply": "2023-06-28T13:55:19.100664Z",
     "shell.execute_reply.started": "2023-06-28T13:55:19.100653Z"
    }
   },
   "outputs": [],
   "source": [
    "# Ejemplo\n",
    "fecha_inicio = Qcf.QCDate(20, 9, 2018)\n",
    "fecha_final = Qcf.QCDate(20, 9, 2019)\n",
    "fecha_pago = Qcf.QCDate(23, 9, 2019)\n",
    "fecha_fixing = Qcf.QCDate(20, 9, 2018)\n",
    "nominal = 1000000.0\n",
    "amort = 100000.0\n",
    "spread = 0.0\n",
    "gearing = 1.0\n",
    "ibor_cashflow_2 = Qcf.IborCashflow2(\n",
    "    libor_usd_3m,\n",
    "    fecha_inicio,\n",
    "    fecha_final,\n",
    "    fecha_fixing,\n",
    "    fecha_pago,\n",
    "    nominal,\n",
    "    amort,\n",
    "    True,\n",
    "    usd,\n",
    "    spread,\n",
    "    gearing,\n",
    ")"
   ]
  },
  {
   "cell_type": "code",
   "execution_count": null,
   "metadata": {
    "ExecuteTime": {
     "end_time": "2022-01-21T13:43:03.227457Z",
     "start_time": "2022-01-21T13:43:03.212497Z"
    },
    "execution": {
     "iopub.status.busy": "2023-06-28T13:55:19.101749Z",
     "iopub.status.idle": "2023-06-28T13:55:19.101972Z",
     "shell.execute_reply": "2023-06-28T13:55:19.101860Z",
     "shell.execute_reply.started": "2023-06-28T13:55:19.101849Z"
    }
   },
   "outputs": [],
   "source": [
    "# Getters\n",
    "print(\"Fecha Fixing:\\t\", ibor_cashflow_2.get_fixing_dates())\n",
    "print(\"Fecha Inicio:\\t\", ibor_cashflow_2.get_start_date())\n",
    "print(\"Fecha Final:\\t\", ibor_cashflow_2.get_end_date())\n",
    "print(\"Fecha Pago:\\t\", ibor_cashflow_2.get_settlement_date())\n",
    "print(\"Nominal:\\t\", ibor_cashflow_2.get_nominal())\n",
    "print(\"Amortización:\\t\", ibor_cashflow_2.get_amortization())\n",
    "print(\"Moneda:\\t\\t\", ibor_cashflow_2.ccy())\n",
    "print(\"Valor Tasa:\\t\", ibor_cashflow_2.fixing())"
   ]
  },
  {
   "cell_type": "markdown",
   "metadata": {},
   "source": [
    "### Ibor Multi Currency Cashflow\n",
    "Un objeto de tipo `IborMultiCurrencyCashflow` representa un flujo de caja a tasa variable (`IborCashflow`) que se liquidará en una moneda distinta de la moneda del nominal utilizando el valor a una cierta fecha de un índice de tipo de cambio prefijado. Para dar de alta uno de estos objetos se requiere:\n",
    "\n",
    "- `InterestRateIndex`: el índice de tasa de interés prefijado\n",
    "- `QCDate`: fecha inicio (para la aplicación de la tasa)\n",
    "- `QCDate`: fecha final (para la aplicación de la tasa)\n",
    "- `QCDate`: fecha de fijación del índice de tasa de interés \n",
    "- `QCDate`: fecha de pago\n",
    "- `float`: nominal (monto al que se le aplica la tasa)\n",
    "- `float`: amortización (eventual flujo de caja que corresponde a una porción del nominal)\n",
    "- `bool`: indica si la amortización anterior es un flujo de caja o sólo una disminución de nominal\n",
    "- `QCCurrency`: moneda del nominal y del flujo de caja\n",
    "- `float`: spread aditivo a aplicar a la fijación del índice\n",
    "- `float`: spread multiplicativo o gearing a aplicar a la fijación del índice\n",
    "- `QCDate`: fecha de publicación del índice de tipo de cambio\n",
    "- `QCCurrency`: moneda en la que se liquida el flujo\n",
    "- `FXRateIndex`: índice de tipo de cambio a utilizar\n",
    "- `float`: valor del índice de tipo de cambio\n"
   ]
  },
  {
   "cell_type": "code",
   "execution_count": null,
   "metadata": {
    "ExecuteTime": {
     "end_time": "2022-01-21T13:43:03.242417Z",
     "start_time": "2022-01-21T13:43:03.228455Z"
    },
    "execution": {
     "iopub.status.busy": "2023-06-28T13:55:19.102809Z",
     "iopub.status.idle": "2023-06-28T13:55:19.103102Z",
     "shell.execute_reply": "2023-06-28T13:55:19.102947Z",
     "shell.execute_reply.started": "2023-06-28T13:55:19.102935Z"
    }
   },
   "outputs": [],
   "source": [
    "# Ejemplo\n",
    "fecha_inicio = Qcf.QCDate(20, 9, 2019)\n",
    "fecha_final = Qcf.QCDate(20, 12, 2019)\n",
    "fecha_pago = Qcf.QCDate(20, 12, 2019)\n",
    "fecha_fixing = Qcf.QCDate(20, 9, 2019)\n",
    "nominal = 100.0\n",
    "amort = 100.0\n",
    "spread = 0.02\n",
    "gearing = 1.0\n",
    "valor_indice = 10.0\n",
    "fecha_publicacion = Qcf.QCDate(20, 9, 2019)\n",
    "libor_usd_3m.set_rate_value(0.01)\n",
    "ibor_mccy_cashflow = Qcf.IborMultiCurrencyCashflow(\n",
    "    libor_usd_3m,\n",
    "    fecha_inicio,\n",
    "    fecha_final,\n",
    "    fecha_fixing,\n",
    "    fecha_pago,\n",
    "    nominal,\n",
    "    amort,\n",
    "    True,\n",
    "    usd,\n",
    "    spread,\n",
    "    gearing,\n",
    "    fecha_publicacion,\n",
    "    clp,\n",
    "    indice,\n",
    "    valor_indice,\n",
    ")\n",
    "print(ibor_mccy_cashflow)"
   ]
  },
  {
   "cell_type": "code",
   "execution_count": null,
   "metadata": {
    "ExecuteTime": {
     "end_time": "2022-01-21T13:43:03.257378Z",
     "start_time": "2022-01-21T13:43:03.244413Z"
    },
    "execution": {
     "iopub.status.busy": "2023-06-28T13:55:19.104188Z",
     "iopub.status.idle": "2023-06-28T13:55:19.104549Z",
     "shell.execute_reply": "2023-06-28T13:55:19.104421Z",
     "shell.execute_reply.started": "2023-06-28T13:55:19.104407Z"
    }
   },
   "outputs": [],
   "source": [
    "ibor_mccy_cashflow.set_interest_rate_value(0.01)"
   ]
  },
  {
   "cell_type": "code",
   "execution_count": null,
   "metadata": {
    "ExecuteTime": {
     "end_time": "2022-01-21T13:43:03.273335Z",
     "start_time": "2022-01-21T13:43:03.258375Z"
    },
    "execution": {
     "iopub.status.busy": "2023-06-28T13:55:19.105237Z",
     "iopub.status.idle": "2023-06-28T13:55:19.105509Z",
     "shell.execute_reply": "2023-06-28T13:55:19.105395Z",
     "shell.execute_reply.started": "2023-06-28T13:55:19.105384Z"
    }
   },
   "outputs": [],
   "source": [
    "print(Qcf.show(ibor_mccy_cashflow))"
   ]
  },
  {
   "cell_type": "code",
   "execution_count": null,
   "metadata": {
    "ExecuteTime": {
     "end_time": "2022-01-21T13:43:03.289292Z",
     "start_time": "2022-01-21T13:43:03.274332Z"
    },
    "execution": {
     "iopub.status.busy": "2023-06-28T13:55:19.106387Z",
     "iopub.status.idle": "2023-06-28T13:55:19.106723Z",
     "shell.execute_reply": "2023-06-28T13:55:19.106577Z",
     "shell.execute_reply.started": "2023-06-28T13:55:19.106561Z"
    }
   },
   "outputs": [],
   "source": [
    "fecha_intermedia = Qcf.QCDate(20, 10, 2019)\n",
    "print(ibor_mccy_cashflow.accrued_interest(fecha_intermedia))\n",
    "print(\n",
    "    (0.01 + spread)\n",
    "    * fecha_inicio.day_diff(fecha_intermedia)\n",
    "    / 360.0\n",
    "    * ibor_mccy_cashflow.get_nominal()\n",
    ")"
   ]
  },
  {
   "cell_type": "code",
   "execution_count": null,
   "metadata": {
    "ExecuteTime": {
     "end_time": "2022-01-21T13:43:03.305251Z",
     "start_time": "2022-01-21T13:43:03.290290Z"
    },
    "execution": {
     "iopub.status.busy": "2023-06-28T13:55:19.107780Z",
     "iopub.status.idle": "2023-06-28T13:55:19.108286Z",
     "shell.execute_reply": "2023-06-28T13:55:19.108157Z",
     "shell.execute_reply.started": "2023-06-28T13:55:19.108143Z"
    }
   },
   "outputs": [],
   "source": [
    "ts[fecha_inicio] = 1\n",
    "ts[fecha_intermedia] = 3\n",
    "for k in ts:\n",
    "    print(k)\n",
    "print(fecha_intermedia.description(False))\n",
    "print(ts[fecha_intermedia])"
   ]
  },
  {
   "cell_type": "code",
   "execution_count": null,
   "metadata": {
    "ExecuteTime": {
     "end_time": "2022-01-21T13:43:03.321207Z",
     "start_time": "2022-01-21T13:43:03.306247Z"
    },
    "execution": {
     "iopub.status.busy": "2023-06-28T13:55:19.109022Z",
     "iopub.status.idle": "2023-06-28T13:55:19.109254Z",
     "shell.execute_reply": "2023-06-28T13:55:19.109140Z",
     "shell.execute_reply.started": "2023-06-28T13:55:19.109129Z"
    }
   },
   "outputs": [],
   "source": [
    "print(ibor_mccy_cashflow.accrued_interest(fecha_intermedia, fecha_intermedia, ts))"
   ]
  },
  {
   "cell_type": "code",
   "execution_count": null,
   "metadata": {
    "ExecuteTime": {
     "end_time": "2022-01-21T13:43:03.336167Z",
     "start_time": "2022-01-21T13:43:03.322205Z"
    },
    "execution": {
     "iopub.status.busy": "2023-06-28T13:55:19.110279Z",
     "iopub.status.idle": "2023-06-28T13:55:19.110535Z",
     "shell.execute_reply": "2023-06-28T13:55:19.110413Z",
     "shell.execute_reply.started": "2023-06-28T13:55:19.110401Z"
    }
   },
   "outputs": [],
   "source": [
    "fxv = ibor_mccy_cashflow.accrued_fx_variation(fecha_intermedia, ts)"
   ]
  },
  {
   "cell_type": "code",
   "execution_count": null,
   "metadata": {
    "ExecuteTime": {
     "end_time": "2022-01-21T13:43:03.351128Z",
     "start_time": "2022-01-21T13:43:03.338162Z"
    },
    "execution": {
     "iopub.status.busy": "2023-06-28T13:55:19.112447Z",
     "iopub.status.idle": "2023-06-28T13:55:19.112994Z",
     "shell.execute_reply": "2023-06-28T13:55:19.112813Z",
     "shell.execute_reply.started": "2023-06-28T13:55:19.112794Z"
    }
   },
   "outputs": [],
   "source": [
    "print(fxv.interest_variation)\n",
    "print(fxv.nominal_variation)"
   ]
  },
  {
   "cell_type": "markdown",
   "metadata": {},
   "source": [
    "### Icp Clp Cashflow\n",
    "Un objeto de tipo `IcpClpCashflow` representa un flujo de caja calculado como un cupón de la pata flotante de un swap ICP (cámara promedio) de Chile. Para dar de alta uno de estos objetos se requiere:\n",
    "\n",
    "- `QCDate`: fecha inicio (para la aplicación de la tasa)\n",
    "- `QCDate`: fecha final (para la aplicación de la tasa)\n",
    "- `QCDate`: fecha de pago\n",
    "- `float`: nominal (monto al que se le aplica la tasa)\n",
    "- `float`: amortización (eventual flujo de caja que corresponde a una porción del nominal)\n",
    "- `bool`: indica si la amortización anterior es un flujo de caja o sólo una disminución de nominal\n",
    "- `float`: spread aditivo a aplicar a la fijación de la TNA\n",
    "- `float`: spread multiplicativo o gearing a aplicar a la fijación de la TNA\n",
    "- `float`: el valor del ICP a fecha de inicio (u otro valor arbitrario si el valor es desconocido)\n",
    "- `float`: el valor del ICP a fecha final (u otro valor arbitrario si el valor es desconocido)\n",
    "\n",
    "Recordar que TNA significa **Tasa Nominal Anual** y se determina utilizando los valores del índice ICP en la fecha de inicio y fecha final del `IcpClpCashflow`."
   ]
  },
  {
   "cell_type": "code",
   "execution_count": null,
   "metadata": {
    "ExecuteTime": {
     "end_time": "2022-01-21T13:43:03.367085Z",
     "start_time": "2022-01-21T13:43:03.352125Z"
    },
    "execution": {
     "iopub.status.busy": "2023-06-28T13:55:19.115017Z",
     "iopub.status.idle": "2023-06-28T13:55:19.115659Z",
     "shell.execute_reply": "2023-06-28T13:55:19.115365Z",
     "shell.execute_reply.started": "2023-06-28T13:55:19.115341Z"
    }
   },
   "outputs": [],
   "source": [
    "# Ejemplo\n",
    "fecha_inicio = Qcf.QCDate(20, 9, 2018)\n",
    "fecha_final = Qcf.QCDate(20, 9, 2019)\n",
    "fecha_pago = Qcf.QCDate(23, 9, 2019)\n",
    "nominal = 1000000000.0\n",
    "amort = 100000000.0\n",
    "spread = 0.0\n",
    "gearing = 1.0\n",
    "icp_clp_cashflow = Qcf.IcpClpCashflow(\n",
    "    fecha_inicio,\n",
    "    fecha_final,\n",
    "    fecha_pago,\n",
    "    nominal,\n",
    "    amort,\n",
    "    True,\n",
    "    spread,\n",
    "    gearing,\n",
    "    10000.0,\n",
    "    10250.0,\n",
    ")"
   ]
  },
  {
   "cell_type": "code",
   "execution_count": null,
   "metadata": {
    "ExecuteTime": {
     "end_time": "2022-01-21T13:43:03.382045Z",
     "start_time": "2022-01-21T13:43:03.368083Z"
    },
    "execution": {
     "iopub.status.busy": "2023-06-28T13:55:19.117149Z",
     "iopub.status.idle": "2023-06-28T13:55:19.117998Z",
     "shell.execute_reply": "2023-06-28T13:55:19.117780Z",
     "shell.execute_reply.started": "2023-06-28T13:55:19.117758Z"
    }
   },
   "outputs": [],
   "source": [
    "# Getters\n",
    "print(\"Fecha Inicio:\", icp_clp_cashflow.get_start_date())\n",
    "print(\"Fecha Final:\", icp_clp_cashflow.get_end_date())\n",
    "print(\"ICP Fecha Inicio:\", icp_clp_cashflow.get_start_date_icp())\n",
    "print(\"ICP Fecha Final:\", icp_clp_cashflow.get_end_date_icp())\n",
    "print(\"Valor TNA Todo el Período:\", icp_clp_cashflow.get_rate_value())\n",
    "print(\n",
    "    \"Check:\",\n",
    "    round((10250.0 / 10000 - 1) * 360.0 / fecha_inicio.day_diff(fecha_final), 4),\n",
    ")\n",
    "print(\"Nominal:\", icp_clp_cashflow.get_nominal())\n",
    "print(\"Amortización:\", icp_clp_cashflow.get_amortization())\n",
    "print(\"Tipo de Tasa:\", icp_clp_cashflow.get_type_of_rate())\n",
    "print(\"Moneda:\", icp_clp_cashflow.ccy())"
   ]
  },
  {
   "cell_type": "code",
   "execution_count": null,
   "metadata": {
    "ExecuteTime": {
     "end_time": "2022-01-21T13:43:03.397004Z",
     "start_time": "2022-01-21T13:43:03.383042Z"
    },
    "execution": {
     "iopub.status.busy": "2023-06-28T13:55:19.119100Z",
     "iopub.status.idle": "2023-06-28T13:55:19.119476Z",
     "shell.execute_reply": "2023-06-28T13:55:19.119337Z",
     "shell.execute_reply.started": "2023-06-28T13:55:19.119322Z"
    }
   },
   "outputs": [],
   "source": [
    "# Setters\n",
    "decimales_para_tna = 6\n",
    "icp_clp_cashflow.set_tna_decimal_places(decimales_para_tna)\n",
    "print(\"Nueva TNA:\", icp_clp_cashflow.get_rate_value())\n",
    "\n",
    "nuevo_nominal = 100\n",
    "icp_clp_cashflow.set_nominal(nuevo_nominal)\n",
    "print(\"Nuevo Nominal:\", icp_clp_cashflow.get_nominal())\n",
    "\n",
    "nueva_amortizacion = 10\n",
    "icp_clp_cashflow.set_amortization(nueva_amortizacion)\n",
    "print(\"Nueva Amortización:\", icp_clp_cashflow.get_amortization())\n",
    "\n",
    "nuevo_icp_inicio = 20000\n",
    "icp_clp_cashflow.set_start_date_icp(nuevo_icp_inicio)\n",
    "print(\"Nuevo ICP Inicio:\", icp_clp_cashflow.get_start_date_icp())\n",
    "\n",
    "nuevo_icp_final = 20000\n",
    "icp_clp_cashflow.set_end_date_icp(nuevo_icp_final)\n",
    "print(\"Nuevo ICP Final:\", icp_clp_cashflow.get_end_date_icp())\n",
    "print(\"Check TNA Final:\", icp_clp_cashflow.get_rate_value())"
   ]
  },
  {
   "cell_type": "code",
   "execution_count": null,
   "metadata": {
    "ExecuteTime": {
     "end_time": "2022-01-21T13:43:03.412962Z",
     "start_time": "2022-01-21T13:43:03.398002Z"
    },
    "execution": {
     "iopub.status.busy": "2023-06-28T13:55:19.120707Z",
     "iopub.status.idle": "2023-06-28T13:55:19.121128Z",
     "shell.execute_reply": "2023-06-28T13:55:19.120966Z",
     "shell.execute_reply.started": "2023-06-28T13:55:19.120949Z"
    }
   },
   "outputs": [],
   "source": [
    "# Cálculos\n",
    "decimales_para_tna = 4  # Se vuelve a 4 decimales de tasa\n",
    "icp_clp_cashflow.set_tna_decimal_places(decimales_para_tna)\n",
    "\n",
    "nuevo_icp_inicio = 10000.0\n",
    "icp_clp_cashflow.set_start_date_icp(nuevo_icp_inicio)\n",
    "\n",
    "nuevo_icp_final = 10250.0\n",
    "icp_clp_cashflow.set_end_date_icp(nuevo_icp_final)\n",
    "\n",
    "print(\"Flujo:\", icp_clp_cashflow.amount())\n",
    "\n",
    "fecha_devengo = Qcf.QCDate(29, 3, 2019)\n",
    "icp_devengo = 10125.0\n",
    "tna_devengo = icp_clp_cashflow.get_tna(fecha_devengo, icp_devengo)\n",
    "print(\"TNA fijada a \" + fecha_devengo.description(True) + \":\", tna_devengo)\n",
    "print(\n",
    "    \"Check:\",\n",
    "    round(\n",
    "        (10125.0 / 10000.0 - 1) * 360.0 / fecha_inicio.day_diff(fecha_devengo),\n",
    "        decimales_para_tna,\n",
    "    ),\n",
    ")\n",
    "print(\n",
    "    \"Interés Devengado a \" + fecha_devengo.description(True) + \":\",\n",
    "    icp_clp_cashflow.accrued_interest(fecha_devengo, icp_devengo),\n",
    ")\n",
    "print(\"Check:\", 100 * tna_devengo * fecha_inicio.day_diff(fecha_devengo) / 360.0)"
   ]
  },
  {
   "cell_type": "code",
   "execution_count": null,
   "metadata": {
    "ExecuteTime": {
     "end_time": "2022-01-21T13:43:03.428919Z",
     "start_time": "2022-01-21T13:43:03.413959Z"
    },
    "execution": {
     "iopub.status.busy": "2023-06-28T13:55:19.122134Z",
     "iopub.status.idle": "2023-06-28T13:55:19.122542Z",
     "shell.execute_reply": "2023-06-28T13:55:19.122374Z",
     "shell.execute_reply.started": "2023-06-28T13:55:19.122357Z"
    }
   },
   "outputs": [],
   "source": [
    "print(Qcf.show(icp_clp_cashflow))"
   ]
  },
  {
   "cell_type": "markdown",
   "metadata": {},
   "source": [
    "### Icp Clp Cashflow 2\n",
    "Un objeto de tipo `IcpClpCashflow2` representa un flujo de caja calculado como un cupón de la pata flotante de un swap ICP (cámara promedio) de Chile. Este tipo de cashflow puede ser *quantizado*, es decir, se puede cambiar su moneda de pago componiéndolo con un objeto adicional. Para dar de alta uno de estos objetos se requiere:\n",
    "\n",
    "- `QCDate`: fecha inicio (para la aplicación de la tasa)\n",
    "- `QCDate`: fecha final (para la aplicación de la tasa)\n",
    "- `QCDate`: fecha de pago\n",
    "- `float`: nominal (monto al que se le aplica la tasa)\n",
    "- `float`: amortización (eventual flujo de caja que corresponde a una porción del nominal)\n",
    "- `bool`: indica si la amortización anterior es un flujo de caja o sólo una disminución de nominal\n",
    "- `float`: spread aditivo a aplicar a la fijación de la TNA\n",
    "- `float`: spread multiplicativo o gearing a aplicar a la fijación de la TNA\n",
    "- `float`: el valor del ICP a fecha de inicio (u otro valor arbitrario si el valor es desconocido)\n",
    "- `float`: el valor del ICP a fecha final (u otro valor arbitrario si el valor es desconocido)\n",
    "\n",
    "Recordar que TNA significa **Tasa Nominal Anual** y se determina utilizando los valores del índice ICP en la fecha de inicio y fecha final del `IcpClpCashflow`."
   ]
  },
  {
   "cell_type": "code",
   "execution_count": null,
   "metadata": {
    "ExecuteTime": {
     "end_time": "2022-01-21T13:43:03.444877Z",
     "start_time": "2022-01-21T13:43:03.429917Z"
    },
    "execution": {
     "iopub.status.busy": "2023-06-28T13:55:19.124209Z",
     "iopub.status.idle": "2023-06-28T13:55:19.124603Z",
     "shell.execute_reply": "2023-06-28T13:55:19.124449Z",
     "shell.execute_reply.started": "2023-06-28T13:55:19.124433Z"
    }
   },
   "outputs": [],
   "source": [
    "# Ejemplo\n",
    "fecha_inicio = Qcf.QCDate(20, 9, 2018)\n",
    "fecha_final = Qcf.QCDate(20, 9, 2019)\n",
    "fecha_pago = Qcf.QCDate(23, 9, 2019)\n",
    "nominal = 1000000000.0\n",
    "amort = 100000000.0\n",
    "spread = 0.0\n",
    "gearing = 1.0\n",
    "icp_clp_cashflow2 = Qcf.IcpClpCashflow2(\n",
    "    fecha_inicio,\n",
    "    fecha_final,\n",
    "    fecha_pago,\n",
    "    nominal,\n",
    "    amort,\n",
    "    True,\n",
    "    spread,\n",
    "    gearing,\n",
    "    10000.0,\n",
    "    10250.0,\n",
    ")"
   ]
  },
  {
   "cell_type": "code",
   "execution_count": null,
   "metadata": {
    "ExecuteTime": {
     "end_time": "2022-01-21T13:43:03.460835Z",
     "start_time": "2022-01-21T13:43:03.445874Z"
    },
    "execution": {
     "iopub.status.busy": "2023-06-28T13:55:19.125824Z",
     "iopub.status.idle": "2023-06-28T13:55:19.126213Z",
     "shell.execute_reply": "2023-06-28T13:55:19.126070Z",
     "shell.execute_reply.started": "2023-06-28T13:55:19.126055Z"
    }
   },
   "outputs": [],
   "source": [
    "# Getters\n",
    "print(\"Fecha Inicio:\", icp_clp_cashflow2.get_start_date())\n",
    "print(\"Fecha Final:\", icp_clp_cashflow2.get_end_date())\n",
    "print(\"ICP Fecha Inicio:\", icp_clp_cashflow2.get_start_date_icp())\n",
    "print(\"ICP Fecha Final:\", icp_clp_cashflow2.get_end_date_icp())\n",
    "print(\"Valor TNA Todo el Período:\", icp_clp_cashflow2.get_rate_value())\n",
    "print(\n",
    "    \"Check:\",\n",
    "    round((10250.0 / 10000 - 1) * 360.0 / fecha_inicio.day_diff(fecha_final), 4),\n",
    ")\n",
    "print(\"Nominal:\", icp_clp_cashflow2.get_nominal())\n",
    "print(\"Amortización:\", icp_clp_cashflow2.get_amortization())\n",
    "print(\"Tipo de Tasa:\", icp_clp_cashflow2.get_type_of_rate())\n",
    "print(\"Moneda:\", icp_clp_cashflow2.ccy())"
   ]
  },
  {
   "cell_type": "code",
   "execution_count": null,
   "metadata": {
    "ExecuteTime": {
     "end_time": "2022-01-21T13:43:03.475794Z",
     "start_time": "2022-01-21T13:43:03.462829Z"
    },
    "execution": {
     "iopub.status.busy": "2023-06-28T13:55:19.127196Z",
     "iopub.status.idle": "2023-06-28T13:55:19.127532Z",
     "shell.execute_reply": "2023-06-28T13:55:19.127373Z",
     "shell.execute_reply.started": "2023-06-28T13:55:19.127357Z"
    }
   },
   "outputs": [],
   "source": [
    "# Setters\n",
    "decimales_para_tna = 6\n",
    "icp_clp_cashflow2.set_tna_decimal_places(decimales_para_tna)\n",
    "print(\"Nueva TNA:\", icp_clp_cashflow2.get_rate_value())\n",
    "\n",
    "nuevo_nominal = 100\n",
    "icp_clp_cashflow2.set_nominal(nuevo_nominal)\n",
    "print(\"Nuevo Nominal:\", icp_clp_cashflow2.get_nominal())\n",
    "\n",
    "nueva_amortizacion = 10\n",
    "icp_clp_cashflow2.set_amortization(nueva_amortizacion)\n",
    "print(\"Nueva Amortización:\", icp_clp_cashflow2.get_amortization())\n",
    "\n",
    "nuevo_icp_inicio = 20000\n",
    "icp_clp_cashflow2.set_start_date_icp(nuevo_icp_inicio)\n",
    "print(\"Nuevo ICP Inicio:\", icp_clp_cashflow2.get_start_date_icp())\n",
    "\n",
    "nuevo_icp_final = 20000\n",
    "icp_clp_cashflow2.set_end_date_icp(nuevo_icp_final)\n",
    "print(\"Nuevo ICP Final:\", icp_clp_cashflow2.get_end_date_icp())\n",
    "print(\"Check TNA Final:\", icp_clp_cashflow2.get_rate_value())"
   ]
  },
  {
   "cell_type": "code",
   "execution_count": null,
   "metadata": {
    "ExecuteTime": {
     "end_time": "2022-01-21T13:43:03.491752Z",
     "start_time": "2022-01-21T13:43:03.477789Z"
    },
    "execution": {
     "iopub.status.busy": "2023-06-28T13:55:19.128689Z",
     "iopub.status.idle": "2023-06-28T13:55:19.129038Z",
     "shell.execute_reply": "2023-06-28T13:55:19.128900Z",
     "shell.execute_reply.started": "2023-06-28T13:55:19.128886Z"
    }
   },
   "outputs": [],
   "source": [
    "# Cálculos\n",
    "decimales_para_tna = 4  # Se vuelve a 4 decimales de tasa\n",
    "icp_clp_cashflow2.set_tna_decimal_places(decimales_para_tna)\n",
    "\n",
    "nuevo_icp_inicio = 10000.0\n",
    "icp_clp_cashflow2.set_start_date_icp(nuevo_icp_inicio)\n",
    "\n",
    "nuevo_icp_final = 10250.0\n",
    "icp_clp_cashflow2.set_end_date_icp(nuevo_icp_final)\n",
    "\n",
    "print(\"Flujo:\", icp_clp_cashflow2.amount())\n",
    "\n",
    "fecha_devengo = Qcf.QCDate(29, 3, 2019)\n",
    "icp_devengo = 10125.0\n",
    "tna_devengo = icp_clp_cashflow2.get_tna(fecha_devengo, icp_devengo)\n",
    "print(\"TNA fijada a \" + fecha_devengo.description(True) + \":\", tna_devengo)\n",
    "print(\n",
    "    \"Check:\",\n",
    "    round(\n",
    "        (10125.0 / 10000.0 - 1) * 360.0 / fecha_inicio.day_diff(fecha_devengo),\n",
    "        decimales_para_tna,\n",
    "    ),\n",
    ")\n",
    "data = Qcf.time_series()\n",
    "data[fecha_devengo] = icp_devengo\n",
    "print(\n",
    "    \"Interés Devengado a \" + fecha_devengo.description(True) + \":\",\n",
    "    icp_clp_cashflow2.accrued_interest(fecha_devengo, data),\n",
    ")\n",
    "print(\"Check:\", 100 * tna_devengo * fecha_inicio.day_diff(fecha_devengo) / 360.0)"
   ]
  },
  {
   "cell_type": "code",
   "execution_count": null,
   "metadata": {
    "ExecuteTime": {
     "end_time": "2022-01-21T13:43:03.506711Z",
     "start_time": "2022-01-21T13:43:03.492748Z"
    },
    "execution": {
     "iopub.status.busy": "2023-06-28T13:55:19.130322Z",
     "iopub.status.idle": "2023-06-28T13:55:19.130674Z",
     "shell.execute_reply": "2023-06-28T13:55:19.130535Z",
     "shell.execute_reply.started": "2023-06-28T13:55:19.130520Z"
    }
   },
   "outputs": [],
   "source": [
    "print(Qcf.show(icp_clp_cashflow2))"
   ]
  },
  {
   "cell_type": "markdown",
   "metadata": {},
   "source": [
    "### Icp Clf Cashflow\n",
    "Un objeto de tipo `IcpClfCashflow` representa un flujo de caja calculado como un cupón de la pata flotante de un swap ICP (cámara promedio) en UF de Chile. Para dar de alta uno de estos objetos se requiere:\n",
    "\n",
    "- `QCDate`: fecha inicio (para la aplicación de la tasa)\n",
    "- `QCDate`: fecha final (para la aplicación de la tasa)\n",
    "- `QCDate`: fecha de pago\n",
    "- `float`: nominal (monto al que se le aplica la tasa)\n",
    "- `float`: amortización (eventual flujo de caja que corresponde a una porción del nominal)\n",
    "- `bool`: indica si la amortización anterior es un flujo de caja o sólo una disminución de nominal\n",
    "- `float`: spread aditivo a aplicar a la fijación de la TRA\n",
    "- `float`: spread multiplicativo o gearing a aplicar a la fijación de la TRA\n",
    "- `vector<float>`: objeto `double_vec` (en Python) que contiene ICP Inicio, ICP Final, UF Inicio, UF Final (se debe respetar el orden)\n",
    "\n",
    "Recordar que TRA significa **Tasa Real Anual** y se determina utilizando los valores del índice ICP y los valores de la UF en la fecha de inicio y fecha final del `IcpClfCashflow`."
   ]
  },
  {
   "cell_type": "code",
   "execution_count": null,
   "metadata": {
    "ExecuteTime": {
     "end_time": "2022-01-21T13:43:03.522669Z",
     "start_time": "2022-01-21T13:43:03.507709Z"
    },
    "execution": {
     "iopub.status.busy": "2023-06-28T13:55:19.131820Z",
     "iopub.status.idle": "2023-06-28T13:55:19.132284Z",
     "shell.execute_reply": "2023-06-28T13:55:19.132063Z",
     "shell.execute_reply.started": "2023-06-28T13:55:19.132047Z"
    }
   },
   "outputs": [],
   "source": [
    "# Ejemplo\n",
    "fecha_inicio = Qcf.QCDate(20, 9, 2018)\n",
    "fecha_final = Qcf.QCDate(20, 9, 2019)\n",
    "fecha_pago = Qcf.QCDate(23, 9, 2019)\n",
    "nominal = 300000.0\n",
    "amort = 100000.0\n",
    "spread = 0.0\n",
    "gearing = 1.0\n",
    "icp_uf = Qcf.double_vec()\n",
    "icp_uf.append(10000.0)\n",
    "icp_uf.append(10250.0)\n",
    "icp_uf.append(10000.0)\n",
    "icp_uf.append(10400.0)\n",
    "icp_clf_cashflow = Qcf.IcpClfCashflow(\n",
    "    fecha_inicio, fecha_final, fecha_pago, nominal, amort, True, spread, gearing, icp_uf\n",
    ")"
   ]
  },
  {
   "cell_type": "code",
   "execution_count": null,
   "metadata": {
    "ExecuteTime": {
     "end_time": "2022-01-21T13:43:03.538625Z",
     "start_time": "2022-01-21T13:43:03.523667Z"
    },
    "execution": {
     "iopub.status.busy": "2023-06-28T13:55:19.133466Z",
     "iopub.status.idle": "2023-06-28T13:55:19.133813Z",
     "shell.execute_reply": "2023-06-28T13:55:19.133674Z",
     "shell.execute_reply.started": "2023-06-28T13:55:19.133660Z"
    }
   },
   "outputs": [],
   "source": [
    "# Getters\n",
    "print(\"Fecha Inicio:\", icp_clf_cashflow.get_start_date())\n",
    "print(\"Fecha Final:\", icp_clf_cashflow.get_end_date())\n",
    "print(\"ICP Fecha Inicio:\", icp_clf_cashflow.get_start_date_icp())\n",
    "print(\"ICP Fecha Final:\", icp_clf_cashflow.get_end_date_icp())\n",
    "print(\"UF Fecha Inicio:\", icp_clf_cashflow.get_start_date_uf())\n",
    "print(\"UF Fecha Final:\", icp_clf_cashflow.get_end_date_uf())\n",
    "print(\"Valor TRA Todo el Período:\", icp_clf_cashflow.get_rate_value())\n",
    "tna = icp_clf_cashflow.get_tna(fecha_final, 10250.0)\n",
    "dias = fecha_inicio.day_diff(fecha_final)\n",
    "tra = ((1 + tna * dias / 360.0) * 10000.0 / 10400.0 - 1) * 360.0 / dias\n",
    "print(\"Check TRA:\", round(tra, 6))\n",
    "print(\"Nominal:\", icp_clf_cashflow.get_nominal())\n",
    "print(\"Amortización:\", icp_clf_cashflow.get_amortization())\n",
    "print(\"Tipo de Tasa:\", icp_clf_cashflow.get_type_of_rate())\n",
    "print(\"Moneda:\", icp_clf_cashflow.ccy())"
   ]
  },
  {
   "cell_type": "code",
   "execution_count": null,
   "metadata": {
    "ExecuteTime": {
     "end_time": "2022-01-21T13:43:03.553586Z",
     "start_time": "2022-01-21T13:43:03.539624Z"
    },
    "execution": {
     "iopub.status.busy": "2023-06-28T13:55:19.134804Z",
     "iopub.status.idle": "2023-06-28T13:55:19.135205Z",
     "shell.execute_reply": "2023-06-28T13:55:19.135067Z",
     "shell.execute_reply.started": "2023-06-28T13:55:19.135052Z"
    }
   },
   "outputs": [],
   "source": [
    "# Setters\n",
    "decimales_para_tra = 8\n",
    "icp_clf_cashflow.set_tra_decimal_places(decimales_para_tra)\n",
    "print(\"Nueva TRA:\", icp_clf_cashflow.get_rate_value())\n",
    "\n",
    "nuevo_nominal = 100000.0\n",
    "icp_clf_cashflow.set_nominal(nuevo_nominal)\n",
    "print(\"Nuevo Nominal:\", icp_clf_cashflow.get_nominal())\n",
    "\n",
    "nueva_amortizacion = 10000.0\n",
    "icp_clf_cashflow.set_amortization(nueva_amortizacion)\n",
    "print(\"Nueva Amortización:\", icp_clf_cashflow.get_amortization())\n",
    "\n",
    "nuevo_icp_inicio = 20000.0\n",
    "icp_clf_cashflow.set_start_date_icp(nuevo_icp_inicio)\n",
    "print(\"Nuevo ICP Inicio:\", icp_clf_cashflow.get_start_date_icp())\n",
    "\n",
    "nuevo_icp_final = 20000.0\n",
    "icp_clf_cashflow.set_end_date_icp(nuevo_icp_final)\n",
    "print(\"Nuevo ICP Final:\", icp_clf_cashflow.get_end_date_icp())\n",
    "print(\"Check TNA Final:\", icp_clf_cashflow.get_tna(fecha_final, nuevo_icp_final))"
   ]
  },
  {
   "cell_type": "markdown",
   "metadata": {},
   "source": [
    "### Compounded Overnight Rate Cashflow\n",
    "Un objeto de tipo `CompoundedOvernightRateCashflow` representa un flujo de caja calculado como un cupón de la pata flotante de un OIS sobre cualquier índice overnight (SOFR, FF, EONIA). Para dar de alta uno de estos objetos se requiere:\n",
    "\n",
    "- `InterestRateIndex`: el índice de tasa de interés prefijado\n",
    "- `QCDate`: fecha inicio (para la aplicación de la tasa)\n",
    "- `QCDate`: fecha final (para la aplicación de la tasa)\n",
    "- `QCDate`: fecha de pago\n",
    "- `DateList`: fechas de fixing del índice\n",
    "- `float`: nominal (monto al que se le aplica la tasa)\n",
    "- `float`: amortización (eventual flujo de caja que corresponde a una porción del nominal)\n",
    "- `bool`: indica si la amortización anterior es un flujo de caja o sólo una disminución de nominal\n",
    "- `QCCurrency`: moneda del nocional de la operación\n",
    "- `float`: spread aditivo a aplicar a la fijación de la TRA\n",
    "- `float`: spread multiplicativo o gearing a aplicar a la fijación de la TRA\n",
    "- `bool`: si `True` la tasa equivalente se calcula en convención Lin Act/360. En caso contrario es Lin 30/360\n",
    "- `unsigned int`: número de días de lookback\n",
    "- `unsigned int`: número de días de lockout\n",
    "\n",
    "El efecto de lookback y lockout aún no está implementado."
   ]
  },
  {
   "cell_type": "markdown",
   "metadata": {},
   "source": [
    "#### Constructor"
   ]
  },
  {
   "cell_type": "markdown",
   "metadata": {},
   "source": [
    "Se da de alta un índice overnight ficiticio de test."
   ]
  },
  {
   "cell_type": "code",
   "execution_count": null,
   "metadata": {
    "ExecuteTime": {
     "end_time": "2022-01-21T13:43:03.569544Z",
     "start_time": "2022-01-21T13:43:03.554583Z"
    },
    "execution": {
     "iopub.status.busy": "2023-06-28T13:55:19.136200Z",
     "iopub.status.idle": "2023-06-28T13:55:19.136496Z",
     "shell.execute_reply": "2023-06-28T13:55:19.136360Z",
     "shell.execute_reply.started": "2023-06-28T13:55:19.136346Z"
    }
   },
   "outputs": [],
   "source": [
    "codigo = \"OITEST\"\n",
    "lin_act360 = Qcf.QCInterestRate(0.0, act360, lin_wf)\n",
    "fixing_lag = Qcf.Tenor(\"0d\")\n",
    "tenor = Qcf.Tenor(\"1d\")\n",
    "fixing_calendar = scl\n",
    "settlement_calendar = scl\n",
    "oitest = Qcf.InterestRateIndex(\n",
    "    codigo, lin_act360, fixing_lag, tenor, fixing_calendar, settlement_calendar, usd\n",
    ")"
   ]
  },
  {
   "cell_type": "code",
   "execution_count": null,
   "metadata": {
    "ExecuteTime": {
     "end_time": "2022-01-21T13:43:03.584504Z",
     "start_time": "2022-01-21T13:43:03.570541Z"
    },
    "execution": {
     "iopub.status.busy": "2023-06-28T13:55:19.137743Z",
     "iopub.status.idle": "2023-06-28T13:55:19.138181Z",
     "shell.execute_reply": "2023-06-28T13:55:19.138019Z",
     "shell.execute_reply.started": "2023-06-28T13:55:19.138002Z"
    }
   },
   "outputs": [],
   "source": [
    "fixing_dates = Qcf.DateList()"
   ]
  },
  {
   "cell_type": "code",
   "execution_count": null,
   "metadata": {
    "ExecuteTime": {
     "end_time": "2022-01-21T13:43:03.600461Z",
     "start_time": "2022-01-21T13:43:03.585501Z"
    },
    "execution": {
     "iopub.status.busy": "2023-06-28T13:55:19.139157Z",
     "iopub.status.idle": "2023-06-28T13:55:19.139506Z",
     "shell.execute_reply": "2023-06-28T13:55:19.139351Z",
     "shell.execute_reply.started": "2023-06-28T13:55:19.139334Z"
    }
   },
   "outputs": [],
   "source": [
    "fixing_dates.append(Qcf.QCDate(27, 12, 2021))\n",
    "fixing_dates.append(Qcf.QCDate(28, 12, 2021))\n",
    "fixing_dates.append(Qcf.QCDate(29, 12, 2021))\n",
    "fixing_dates.append(Qcf.QCDate(30, 12, 2021))"
   ]
  },
  {
   "cell_type": "code",
   "execution_count": null,
   "metadata": {
    "ExecuteTime": {
     "end_time": "2022-01-21T13:43:03.679251Z",
     "start_time": "2022-01-21T13:43:03.601459Z"
    },
    "execution": {
     "iopub.status.busy": "2023-06-28T13:55:19.140648Z",
     "iopub.status.idle": "2023-06-28T13:55:19.141064Z",
     "shell.execute_reply": "2023-06-28T13:55:19.140916Z",
     "shell.execute_reply.started": "2023-06-28T13:55:19.140900Z"
    }
   },
   "outputs": [],
   "source": [
    "cor_cashflow = Qcf.CompoundedOvernightRateCashflow(\n",
    "    oitest,\n",
    "    Qcf.QCDate(27, 12, 2021),\n",
    "    Qcf.QCDate(31, 12, 2021),\n",
    "    Qcf.QCDate(31, 12, 2021),\n",
    "    fixing_dates,\n",
    "    10000000.0,\n",
    "    100000.0,\n",
    "    True,\n",
    "    Qcf.QCCLP(),\n",
    "    0.001,\n",
    "    1.0,\n",
    "    True,\n",
    "    8,\n",
    "    0,\n",
    "    0,\n",
    ")"
   ]
  },
  {
   "cell_type": "markdown",
   "metadata": {},
   "source": [
    "#### Getters"
   ]
  },
  {
   "cell_type": "code",
   "execution_count": null,
   "metadata": {
    "ExecuteTime": {
     "end_time": "2022-01-21T13:43:03.680249Z",
     "start_time": "2022-01-21T13:43:03.680249Z"
    },
    "execution": {
     "iopub.status.busy": "2023-06-28T13:55:19.142052Z",
     "iopub.status.idle": "2023-06-28T13:55:19.142376Z",
     "shell.execute_reply": "2023-06-28T13:55:19.142220Z",
     "shell.execute_reply.started": "2023-06-28T13:55:19.142204Z"
    }
   },
   "outputs": [],
   "source": [
    "cor_cashflow.get_start_date().description(False)"
   ]
  },
  {
   "cell_type": "code",
   "execution_count": null,
   "metadata": {
    "ExecuteTime": {
     "end_time": "2022-01-21T13:43:03.681246Z",
     "start_time": "2022-01-21T13:43:03.681246Z"
    },
    "execution": {
     "iopub.status.busy": "2023-06-28T13:55:19.143526Z",
     "iopub.status.idle": "2023-06-28T13:55:19.143891Z",
     "shell.execute_reply": "2023-06-28T13:55:19.143738Z",
     "shell.execute_reply.started": "2023-06-28T13:55:19.143723Z"
    }
   },
   "outputs": [],
   "source": [
    "cor_cashflow.get_end_date().description(False)"
   ]
  },
  {
   "cell_type": "code",
   "execution_count": null,
   "metadata": {
    "ExecuteTime": {
     "end_time": "2022-01-21T13:43:03.683241Z",
     "start_time": "2022-01-21T13:43:03.683241Z"
    },
    "execution": {
     "iopub.status.busy": "2023-06-28T13:55:19.145086Z",
     "iopub.status.idle": "2023-06-28T13:55:19.145490Z",
     "shell.execute_reply": "2023-06-28T13:55:19.145342Z",
     "shell.execute_reply.started": "2023-06-28T13:55:19.145326Z"
    }
   },
   "outputs": [],
   "source": [
    "cor_cashflow.get_settlement_date().description(False)"
   ]
  },
  {
   "cell_type": "code",
   "execution_count": null,
   "metadata": {
    "ExecuteTime": {
     "end_time": "2022-01-21T13:43:03.684238Z",
     "start_time": "2022-01-21T13:43:03.684238Z"
    },
    "execution": {
     "iopub.status.busy": "2023-06-28T13:55:19.146770Z",
     "iopub.status.idle": "2023-06-28T13:55:19.147192Z",
     "shell.execute_reply": "2023-06-28T13:55:19.147041Z",
     "shell.execute_reply.started": "2023-06-28T13:55:19.147025Z"
    }
   },
   "outputs": [],
   "source": [
    "for d in cor_cashflow.get_fixing_dates():\n",
    "    print(d)"
   ]
  },
  {
   "cell_type": "code",
   "execution_count": null,
   "metadata": {
    "ExecuteTime": {
     "end_time": "2022-01-21T13:43:03.685235Z",
     "start_time": "2022-01-21T13:43:03.685235Z"
    },
    "execution": {
     "iopub.status.busy": "2023-06-28T13:55:19.148803Z",
     "iopub.status.idle": "2023-06-28T13:55:19.149163Z",
     "shell.execute_reply": "2023-06-28T13:55:19.149010Z",
     "shell.execute_reply.started": "2023-06-28T13:55:19.148995Z"
    }
   },
   "outputs": [],
   "source": [
    "cor_cashflow.get_nominal()"
   ]
  },
  {
   "cell_type": "code",
   "execution_count": null,
   "metadata": {
    "ExecuteTime": {
     "end_time": "2022-01-21T13:43:03.687231Z",
     "start_time": "2022-01-21T13:43:03.687231Z"
    },
    "execution": {
     "iopub.status.busy": "2023-06-28T13:55:19.150551Z",
     "iopub.status.idle": "2023-06-28T13:55:19.150965Z",
     "shell.execute_reply": "2023-06-28T13:55:19.150805Z",
     "shell.execute_reply.started": "2023-06-28T13:55:19.150789Z"
    }
   },
   "outputs": [],
   "source": [
    "cor_cashflow.get_amortization()"
   ]
  },
  {
   "cell_type": "code",
   "execution_count": null,
   "metadata": {
    "ExecuteTime": {
     "end_time": "2022-01-21T13:43:03.688227Z",
     "start_time": "2022-01-21T13:43:03.688227Z"
    },
    "execution": {
     "iopub.status.busy": "2023-06-28T13:55:19.152591Z",
     "iopub.status.idle": "2023-06-28T13:55:19.153051Z",
     "shell.execute_reply": "2023-06-28T13:55:19.152863Z",
     "shell.execute_reply.started": "2023-06-28T13:55:19.152842Z"
    }
   },
   "outputs": [],
   "source": [
    "cor_cashflow.get_initial_currency().get_iso_code()"
   ]
  },
  {
   "cell_type": "code",
   "execution_count": null,
   "metadata": {
    "ExecuteTime": {
     "end_time": "2022-01-21T13:43:03.689224Z",
     "start_time": "2022-01-21T13:43:03.689224Z"
    },
    "execution": {
     "iopub.status.busy": "2023-06-28T13:55:19.154551Z",
     "iopub.status.idle": "2023-06-28T13:55:19.154994Z",
     "shell.execute_reply": "2023-06-28T13:55:19.154832Z",
     "shell.execute_reply.started": "2023-06-28T13:55:19.154815Z"
    }
   },
   "outputs": [],
   "source": [
    "cor_cashflow.get_spread()"
   ]
  },
  {
   "cell_type": "code",
   "execution_count": null,
   "metadata": {
    "ExecuteTime": {
     "end_time": "2022-01-21T13:43:03.690221Z",
     "start_time": "2022-01-21T13:43:03.690221Z"
    },
    "execution": {
     "iopub.status.busy": "2023-06-28T13:55:19.156045Z",
     "iopub.status.idle": "2023-06-28T13:55:19.156374Z",
     "shell.execute_reply": "2023-06-28T13:55:19.156220Z",
     "shell.execute_reply.started": "2023-06-28T13:55:19.156204Z"
    }
   },
   "outputs": [],
   "source": [
    "cor_cashflow.get_gearing()"
   ]
  },
  {
   "cell_type": "code",
   "execution_count": null,
   "metadata": {
    "ExecuteTime": {
     "end_time": "2022-01-21T13:43:03.691219Z",
     "start_time": "2022-01-21T13:43:03.691219Z"
    },
    "execution": {
     "iopub.status.busy": "2023-06-28T13:55:19.157520Z",
     "iopub.status.idle": "2023-06-28T13:55:19.157983Z",
     "shell.execute_reply": "2023-06-28T13:55:19.157839Z",
     "shell.execute_reply.started": "2023-06-28T13:55:19.157825Z"
    }
   },
   "outputs": [],
   "source": [
    "cor_cashflow.get_type()"
   ]
  },
  {
   "cell_type": "code",
   "execution_count": null,
   "metadata": {
    "ExecuteTime": {
     "end_time": "2022-01-21T13:43:03.692216Z",
     "start_time": "2022-01-21T13:43:03.692216Z"
    },
    "execution": {
     "iopub.status.busy": "2023-06-28T13:55:19.158892Z",
     "iopub.status.idle": "2023-06-28T13:55:19.159195Z",
     "shell.execute_reply": "2023-06-28T13:55:19.159057Z",
     "shell.execute_reply.started": "2023-06-28T13:55:19.159042Z"
    }
   },
   "outputs": [],
   "source": [
    "cor_cashflow.get_eq_rate_decimal_places()"
   ]
  },
  {
   "cell_type": "code",
   "execution_count": null,
   "metadata": {
    "ExecuteTime": {
     "end_time": "2022-01-21T13:43:03.693214Z",
     "start_time": "2022-01-21T13:43:03.693214Z"
    },
    "execution": {
     "iopub.status.busy": "2023-06-28T13:55:19.160520Z",
     "iopub.status.idle": "2023-06-28T13:55:19.160873Z",
     "shell.execute_reply": "2023-06-28T13:55:19.160744Z",
     "shell.execute_reply.started": "2023-06-28T13:55:19.160730Z"
    }
   },
   "outputs": [],
   "source": [
    "derivs = cor_cashflow.get_amount_derivatives()"
   ]
  },
  {
   "cell_type": "code",
   "execution_count": null,
   "metadata": {
    "ExecuteTime": {
     "end_time": "2022-01-21T13:43:03.695208Z",
     "start_time": "2022-01-21T13:43:03.695208Z"
    },
    "execution": {
     "iopub.status.busy": "2023-06-28T13:55:19.161946Z",
     "iopub.status.idle": "2023-06-28T13:55:19.162462Z",
     "shell.execute_reply": "2023-06-28T13:55:19.162321Z",
     "shell.execute_reply.started": "2023-06-28T13:55:19.162305Z"
    }
   },
   "outputs": [],
   "source": [
    "len(derivs)"
   ]
  },
  {
   "cell_type": "code",
   "execution_count": null,
   "metadata": {
    "ExecuteTime": {
     "end_time": "2022-01-21T13:43:03.696205Z",
     "start_time": "2022-01-21T13:43:03.696205Z"
    },
    "execution": {
     "iopub.status.busy": "2023-06-28T13:55:19.163378Z",
     "iopub.status.idle": "2023-06-28T13:55:19.163834Z",
     "shell.execute_reply": "2023-06-28T13:55:19.163702Z",
     "shell.execute_reply.started": "2023-06-28T13:55:19.163688Z"
    }
   },
   "outputs": [],
   "source": [
    "for der in derivs:\n",
    "    print(der)"
   ]
  },
  {
   "cell_type": "markdown",
   "metadata": {},
   "source": [
    "#### Setters"
   ]
  },
  {
   "cell_type": "code",
   "execution_count": null,
   "metadata": {
    "ExecuteTime": {
     "end_time": "2022-01-21T13:43:03.697203Z",
     "start_time": "2022-01-21T13:43:03.697203Z"
    },
    "execution": {
     "iopub.status.busy": "2023-06-28T13:55:19.164804Z",
     "iopub.status.idle": "2023-06-28T13:55:19.165198Z",
     "shell.execute_reply": "2023-06-28T13:55:19.165064Z",
     "shell.execute_reply.started": "2023-06-28T13:55:19.165050Z"
    }
   },
   "outputs": [],
   "source": [
    "cor_cashflow.set_nominal(1000)\n",
    "cor_cashflow.get_nominal()"
   ]
  },
  {
   "cell_type": "code",
   "execution_count": null,
   "metadata": {
    "ExecuteTime": {
     "end_time": "2022-01-21T13:43:03.698200Z",
     "start_time": "2022-01-21T13:43:03.698200Z"
    },
    "execution": {
     "iopub.status.busy": "2023-06-28T13:55:19.166339Z",
     "iopub.status.idle": "2023-06-28T13:55:19.166767Z",
     "shell.execute_reply": "2023-06-28T13:55:19.166634Z",
     "shell.execute_reply.started": "2023-06-28T13:55:19.166620Z"
    }
   },
   "outputs": [],
   "source": [
    "cor_cashflow.set_amortization(0)\n",
    "cor_cashflow.get_amortization()"
   ]
  },
  {
   "cell_type": "markdown",
   "metadata": {},
   "source": [
    "Se reversa el ejemplo."
   ]
  },
  {
   "cell_type": "code",
   "execution_count": null,
   "metadata": {
    "ExecuteTime": {
     "end_time": "2022-01-21T13:43:03.699197Z",
     "start_time": "2022-01-21T13:43:03.699197Z"
    },
    "execution": {
     "iopub.status.busy": "2023-06-28T13:55:19.168199Z",
     "iopub.status.idle": "2023-06-28T13:55:19.168533Z",
     "shell.execute_reply": "2023-06-28T13:55:19.168402Z",
     "shell.execute_reply.started": "2023-06-28T13:55:19.168388Z"
    }
   },
   "outputs": [],
   "source": [
    "cor_cashflow.set_nominal(10000000)\n",
    "cor_cashflow.set_amortization(100000)"
   ]
  },
  {
   "cell_type": "markdown",
   "metadata": {},
   "source": [
    "#### Accrued Fixing"
   ]
  },
  {
   "cell_type": "code",
   "execution_count": null,
   "metadata": {
    "ExecuteTime": {
     "end_time": "2022-01-21T13:43:03.700195Z",
     "start_time": "2022-01-21T13:43:03.700195Z"
    },
    "execution": {
     "iopub.status.busy": "2023-06-28T13:55:19.169471Z",
     "iopub.status.idle": "2023-06-28T13:55:19.169730Z",
     "shell.execute_reply": "2023-06-28T13:55:19.169602Z",
     "shell.execute_reply.started": "2023-06-28T13:55:19.169589Z"
    }
   },
   "outputs": [],
   "source": [
    "cor_cashflow.accrued_fixing(Qcf.QCDate(29, 12, 2021))"
   ]
  },
  {
   "cell_type": "code",
   "execution_count": null,
   "metadata": {
    "ExecuteTime": {
     "end_time": "2022-01-21T13:43:03.701192Z",
     "start_time": "2022-01-21T13:43:03.701192Z"
    },
    "execution": {
     "iopub.status.busy": "2023-06-28T13:55:19.170736Z",
     "iopub.status.idle": "2023-06-28T13:55:19.170983Z",
     "shell.execute_reply": "2023-06-28T13:55:19.170859Z",
     "shell.execute_reply.started": "2023-06-28T13:55:19.170847Z"
    }
   },
   "outputs": [],
   "source": [
    "ts = Qcf.time_series()"
   ]
  },
  {
   "cell_type": "code",
   "execution_count": null,
   "metadata": {
    "ExecuteTime": {
     "end_time": "2022-01-21T13:43:03.702189Z",
     "start_time": "2022-01-21T13:43:03.702189Z"
    },
    "execution": {
     "iopub.status.busy": "2023-06-28T13:55:19.172082Z",
     "iopub.status.idle": "2023-06-28T13:55:19.172534Z",
     "shell.execute_reply": "2023-06-28T13:55:19.172380Z",
     "shell.execute_reply.started": "2023-06-28T13:55:19.172363Z"
    }
   },
   "outputs": [],
   "source": [
    "ts[Qcf.QCDate(27, 12, 2021)] = 0.01\n",
    "ts[Qcf.QCDate(28, 12, 2021)] = 0.02\n",
    "ts[Qcf.QCDate(29, 12, 2021)] = 0.03\n",
    "ts[Qcf.QCDate(30, 12, 2021)] = 0.04"
   ]
  },
  {
   "cell_type": "code",
   "execution_count": null,
   "metadata": {
    "ExecuteTime": {
     "end_time": "2022-01-21T13:43:03.703186Z",
     "start_time": "2022-01-21T13:43:03.703186Z"
    },
    "execution": {
     "iopub.status.busy": "2023-06-28T13:55:19.173591Z",
     "iopub.status.idle": "2023-06-28T13:55:19.174000Z",
     "shell.execute_reply": "2023-06-28T13:55:19.173840Z",
     "shell.execute_reply.started": "2023-06-28T13:55:19.173822Z"
    }
   },
   "outputs": [],
   "source": [
    "cor_cashflow.accrued_fixing(Qcf.QCDate(29, 12, 2021), ts)"
   ]
  },
  {
   "cell_type": "code",
   "execution_count": null,
   "metadata": {
    "ExecuteTime": {
     "end_time": "2022-01-21T13:43:03.704184Z",
     "start_time": "2022-01-21T13:43:03.704184Z"
    },
    "execution": {
     "iopub.status.busy": "2023-06-28T13:55:19.175163Z",
     "iopub.status.idle": "2023-06-28T13:55:19.175606Z",
     "shell.execute_reply": "2023-06-28T13:55:19.175424Z",
     "shell.execute_reply.started": "2023-06-28T13:55:19.175406Z"
    }
   },
   "outputs": [],
   "source": [
    "check = ((1 + 0.01 / 360) * (1 + 0.02 / 360.0) - 1) * 360 / 2.0\n",
    "print(check)"
   ]
  },
  {
   "cell_type": "markdown",
   "metadata": {},
   "source": [
    "#### Accrued Interest"
   ]
  },
  {
   "cell_type": "code",
   "execution_count": null,
   "metadata": {
    "ExecuteTime": {
     "end_time": "2022-01-21T13:43:03.705181Z",
     "start_time": "2022-01-21T13:43:03.705181Z"
    },
    "execution": {
     "iopub.status.busy": "2023-06-28T13:55:19.176690Z",
     "iopub.status.idle": "2023-06-28T13:55:19.177151Z",
     "shell.execute_reply": "2023-06-28T13:55:19.176979Z",
     "shell.execute_reply.started": "2023-06-28T13:55:19.176962Z"
    }
   },
   "outputs": [],
   "source": [
    "cor_cashflow.accrued_interest(Qcf.QCDate(29, 12, 2021))"
   ]
  },
  {
   "cell_type": "code",
   "execution_count": null,
   "metadata": {
    "ExecuteTime": {
     "end_time": "2022-01-21T13:43:03.706179Z",
     "start_time": "2022-01-21T13:43:03.706179Z"
    },
    "execution": {
     "iopub.status.busy": "2023-06-28T13:55:19.178374Z",
     "iopub.status.idle": "2023-06-28T13:55:19.178855Z",
     "shell.execute_reply": "2023-06-28T13:55:19.178691Z",
     "shell.execute_reply.started": "2023-06-28T13:55:19.178674Z"
    }
   },
   "outputs": [],
   "source": [
    "cor_cashflow.accrued_interest(Qcf.QCDate(29, 12, 2021), ts)"
   ]
  },
  {
   "cell_type": "code",
   "execution_count": null,
   "metadata": {
    "ExecuteTime": {
     "end_time": "2022-01-21T13:43:03.707176Z",
     "start_time": "2022-01-21T13:43:03.707176Z"
    },
    "execution": {
     "iopub.status.busy": "2023-06-28T13:55:19.180395Z",
     "iopub.status.idle": "2023-06-28T13:55:19.180977Z",
     "shell.execute_reply": "2023-06-28T13:55:19.180812Z",
     "shell.execute_reply.started": "2023-06-28T13:55:19.180792Z"
    }
   },
   "outputs": [],
   "source": [
    "check = (\n",
    "    cor_cashflow.get_nominal()\n",
    "    * (cor_cashflow.accrued_fixing(Qcf.QCDate(29, 12, 2021), ts) + 0.001)\n",
    "    * 2\n",
    "    / 360.0\n",
    ")\n",
    "print(check)"
   ]
  },
  {
   "cell_type": "code",
   "execution_count": null,
   "metadata": {
    "ExecuteTime": {
     "end_time": "2022-01-21T13:43:03.708174Z",
     "start_time": "2022-01-21T13:43:03.708174Z"
    },
    "execution": {
     "iopub.status.busy": "2023-06-28T13:55:19.181972Z",
     "iopub.status.idle": "2023-06-28T13:55:19.182335Z",
     "shell.execute_reply": "2023-06-28T13:55:19.182172Z",
     "shell.execute_reply.started": "2023-06-28T13:55:19.182156Z"
    }
   },
   "outputs": [],
   "source": [
    "cor_cashflow.amount()"
   ]
  },
  {
   "cell_type": "code",
   "execution_count": null,
   "metadata": {
    "ExecuteTime": {
     "end_time": "2022-01-21T13:43:03.710168Z",
     "start_time": "2022-01-21T13:43:03.710168Z"
    },
    "execution": {
     "iopub.status.busy": "2023-06-28T13:55:19.183487Z",
     "iopub.status.idle": "2023-06-28T13:55:19.183896Z",
     "shell.execute_reply": "2023-06-28T13:55:19.183742Z",
     "shell.execute_reply.started": "2023-06-28T13:55:19.183727Z"
    }
   },
   "outputs": [],
   "source": [
    "cor_cashflow.date().description(False)"
   ]
  },
  {
   "cell_type": "code",
   "execution_count": null,
   "metadata": {
    "ExecuteTime": {
     "end_time": "2022-01-21T13:43:03.711165Z",
     "start_time": "2022-01-21T13:43:03.711165Z"
    },
    "execution": {
     "iopub.status.busy": "2023-06-28T13:55:19.184922Z",
     "iopub.status.idle": "2023-06-28T13:55:19.185589Z",
     "shell.execute_reply": "2023-06-28T13:55:19.185447Z",
     "shell.execute_reply.started": "2023-06-28T13:55:19.185433Z"
    }
   },
   "outputs": [],
   "source": [
    "cor_cashflow.fixing()"
   ]
  },
  {
   "cell_type": "code",
   "execution_count": null,
   "metadata": {
    "ExecuteTime": {
     "end_time": "2022-01-21T13:43:03.712162Z",
     "start_time": "2022-01-21T13:43:03.712162Z"
    },
    "execution": {
     "iopub.status.busy": "2023-06-28T13:55:19.186672Z",
     "iopub.status.idle": "2023-06-28T13:55:19.187032Z",
     "shell.execute_reply": "2023-06-28T13:55:19.186900Z",
     "shell.execute_reply.started": "2023-06-28T13:55:19.186887Z"
    }
   },
   "outputs": [],
   "source": [
    "cor_cashflow.interest()"
   ]
  },
  {
   "cell_type": "code",
   "execution_count": null,
   "metadata": {
    "ExecuteTime": {
     "end_time": "2022-01-21T13:43:03.713161Z",
     "start_time": "2022-01-21T13:43:03.713161Z"
    },
    "execution": {
     "iopub.status.busy": "2023-06-28T13:55:19.188072Z",
     "iopub.status.idle": "2023-06-28T13:55:19.188510Z",
     "shell.execute_reply": "2023-06-28T13:55:19.188382Z",
     "shell.execute_reply.started": "2023-06-28T13:55:19.188369Z"
    }
   },
   "outputs": [],
   "source": [
    "cor_cashflow.isExpired(Qcf.QCDate(29, 12, 2021))"
   ]
  },
  {
   "cell_type": "code",
   "execution_count": null,
   "metadata": {
    "ExecuteTime": {
     "end_time": "2022-01-21T13:43:03.714157Z",
     "start_time": "2022-01-21T13:43:03.714157Z"
    },
    "execution": {
     "iopub.status.busy": "2023-06-28T13:55:19.189355Z",
     "iopub.status.idle": "2023-06-28T13:55:19.189615Z",
     "shell.execute_reply": "2023-06-28T13:55:19.189484Z",
     "shell.execute_reply.started": "2023-06-28T13:55:19.189472Z"
    }
   },
   "outputs": [],
   "source": [
    "cor_cashflow.isExpired(Qcf.QCDate(31, 12, 2021))"
   ]
  },
  {
   "cell_type": "code",
   "execution_count": null,
   "metadata": {
    "ExecuteTime": {
     "end_time": "2022-01-21T13:43:03.716152Z",
     "start_time": "2022-01-21T13:43:03.716152Z"
    },
    "execution": {
     "iopub.status.busy": "2023-06-28T13:55:19.190833Z",
     "iopub.status.idle": "2023-06-28T13:55:19.191085Z",
     "shell.execute_reply": "2023-06-28T13:55:19.190960Z",
     "shell.execute_reply.started": "2023-06-28T13:55:19.190948Z"
    }
   },
   "outputs": [],
   "source": [
    "cor_cashflow.isExpired(Qcf.QCDate(1, 1, 2022))"
   ]
  }
 ],
 "metadata": {
  "hide_input": false,
  "kernelspec": {
   "display_name": "Python 3 (ipykernel)",
   "language": "python",
   "name": "python3"
  },
  "language_info": {
   "codemirror_mode": {
    "name": "ipython",
    "version": 3
   },
   "file_extension": ".py",
   "mimetype": "text/x-python",
   "name": "python",
   "nbconvert_exporter": "python",
   "pygments_lexer": "ipython3",
   "version": "3.11.3"
  },
  "toc": {
   "base_numbering": 1,
   "nav_menu": {},
   "number_sections": true,
   "sideBar": true,
   "skip_h1_title": true,
   "title_cell": "Table of Contents",
   "title_sidebar": "Contenido",
   "toc_cell": false,
   "toc_position": {
    "height": "675.455px",
    "left": "284px",
    "top": "282.284px",
    "width": "235px"
   },
   "toc_section_display": true,
   "toc_window_display": true
  },
  "varInspector": {
   "cols": {
    "lenName": 16,
    "lenType": 16,
    "lenVar": 40
   },
   "kernels_config": {
    "python": {
     "delete_cmd_postfix": "",
     "delete_cmd_prefix": "del ",
     "library": "var_list.py",
     "varRefreshCmd": "print(var_dic_list())"
    },
    "r": {
     "delete_cmd_postfix": ") ",
     "delete_cmd_prefix": "rm(",
     "library": "var_list.r",
     "varRefreshCmd": "cat(var_dic_list()) "
    }
   },
   "types_to_exclude": [
    "module",
    "function",
    "builtin_function_or_method",
    "instance",
    "_Feature"
   ],
   "window_display": false
  }
 },
 "nbformat": 4,
 "nbformat_minor": 4
}
