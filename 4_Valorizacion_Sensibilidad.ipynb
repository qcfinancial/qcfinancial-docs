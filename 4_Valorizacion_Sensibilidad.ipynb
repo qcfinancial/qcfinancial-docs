{
 "cells": [
  {
   "cell_type": "markdown",
   "metadata": {},
   "source": [
    "# Valorización y Sensibilidad"
   ]
  },
  {
   "cell_type": "markdown",
   "metadata": {},
   "source": [
    "## Configuración"
   ]
  },
  {
   "cell_type": "markdown",
   "metadata": {},
   "source": [
    "Para ejecutar todos los ejemplos se debe importar la librería. Se sugiere utilizar siempre el alias `qcf`. "
   ]
  },
  {
   "cell_type": "code",
   "metadata": {
    "execution": {
     "iopub.execute_input": "2024-06-25T21:49:18.835050Z",
     "iopub.status.busy": "2024-06-25T21:49:18.834624Z",
     "iopub.status.idle": "2024-06-25T21:49:18.860894Z",
     "shell.execute_reply": "2024-06-25T21:49:18.859095Z",
     "shell.execute_reply.started": "2024-06-25T21:49:18.835003Z"
    },
    "ExecuteTime": {
     "end_time": "2025-08-25T14:34:53.006459Z",
     "start_time": "2025-08-25T14:34:53.003162Z"
    }
   },
   "source": [
    "import qcfinancial as qcf\n",
    "import pickle"
   ],
   "outputs": [],
   "execution_count": 402
  },
  {
   "cell_type": "code",
   "metadata": {
    "execution": {
     "iopub.execute_input": "2024-06-25T21:49:18.864796Z",
     "iopub.status.busy": "2024-06-25T21:49:18.864453Z",
     "iopub.status.idle": "2024-06-25T21:49:18.873587Z",
     "shell.execute_reply": "2024-06-25T21:49:18.872523Z",
     "shell.execute_reply.started": "2024-06-25T21:49:18.864770Z"
    },
    "ExecuteTime": {
     "end_time": "2025-08-25T14:34:53.024705Z",
     "start_time": "2025-08-25T14:34:53.022138Z"
    }
   },
   "source": [
    "qcf.id()"
   ],
   "outputs": [
    {
     "data": {
      "text/plain": [
       "'version: 1.6.1, build: 2025-06-06 09:09'"
      ]
     },
     "execution_count": 403,
     "metadata": {},
     "output_type": "execute_result"
    }
   ],
   "execution_count": 403
  },
  {
   "cell_type": "markdown",
   "metadata": {},
   "source": [
    "Librerías adicionales."
   ]
  },
  {
   "cell_type": "code",
   "metadata": {
    "execution": {
     "iopub.execute_input": "2024-06-25T21:49:18.875323Z",
     "iopub.status.busy": "2024-06-25T21:49:18.874599Z",
     "iopub.status.idle": "2024-06-25T21:49:19.596768Z",
     "shell.execute_reply": "2024-06-25T21:49:19.595558Z",
     "shell.execute_reply.started": "2024-06-25T21:49:18.875294Z"
    },
    "ExecuteTime": {
     "end_time": "2025-08-25T14:34:53.054863Z",
     "start_time": "2025-08-25T14:34:53.052908Z"
    }
   },
   "source": [
    "import aux_functions as aux # Aquí se guardó la función leg_as_dataframe del notebook 3\n",
    "from math import exp, log\n",
    "import pandas as pd\n",
    "import numpy as np"
   ],
   "outputs": [],
   "execution_count": 404
  },
  {
   "cell_type": "code",
   "metadata": {
    "execution": {
     "iopub.execute_input": "2024-06-25T21:49:19.598586Z",
     "iopub.status.busy": "2024-06-25T21:49:19.597899Z",
     "iopub.status.idle": "2024-06-25T21:49:19.602847Z",
     "shell.execute_reply": "2024-06-25T21:49:19.602008Z",
     "shell.execute_reply.started": "2024-06-25T21:49:19.598555Z"
    },
    "ExecuteTime": {
     "end_time": "2025-08-25T14:34:53.078829Z",
     "start_time": "2025-08-25T14:34:53.076506Z"
    }
   },
   "source": [
    "pd.options.display.max_columns=300"
   ],
   "outputs": [],
   "execution_count": 405
  },
  {
   "cell_type": "markdown",
   "metadata": {},
   "source": [
    "Para formateo de `pandas.DataFrames`."
   ]
  },
  {
   "cell_type": "code",
   "metadata": {
    "execution": {
     "iopub.execute_input": "2024-06-25T21:49:19.604344Z",
     "iopub.status.busy": "2024-06-25T21:49:19.603827Z",
     "iopub.status.idle": "2024-06-25T21:49:19.609634Z",
     "shell.execute_reply": "2024-06-25T21:49:19.608828Z",
     "shell.execute_reply.started": "2024-06-25T21:49:19.604314Z"
    },
    "ExecuteTime": {
     "end_time": "2025-08-25T14:34:53.104323Z",
     "start_time": "2025-08-25T14:34:53.101389Z"
    }
   },
   "source": [
    "format_dict = {\n",
    "    'nominal': '{:,.2f}',\n",
    "    'amort': '{:,.2f}',\n",
    "    'interes': '{:,.2f}',\n",
    "    'flujo': '{:,.2f}',\n",
    "    'nocional': '{:,.2f}',\n",
    "    'amortizacion': '{:,.2f}',\n",
    "    'icp_inicial': '{:,.2f}',\n",
    "    'icp_final': '{:,.2f}',\n",
    "    'uf_inicial': '{:,.2f}',\n",
    "    'uf_final': '{:,.2f}',\n",
    "    'plazo': '{:,.0f}',\n",
    "    'tasa': '{:,.4%}',\n",
    "    'valor_tasa': '{:,.4%}',\n",
    "    'valor_tasa_equivalente': '{:,.4%}',\n",
    "    'spread': '{:,.4%}',\n",
    "    'gearing': '{:,.2f}',\n",
    "    'amort_moneda_pago': '{:,.2f}',\n",
    "    'interes_moneda_pago': '{:,.2f}',\n",
    "    'valor_indice_inicial': '{:,.2f}',\n",
    "    'valor_indice_final': '{:,.2f}',\n",
    "    'valor_indice_fx': '{:,.2f}',\n",
    "    'flujo_en_clp': '{:,.2f}',\n",
    "}"
   ],
   "outputs": [],
   "execution_count": 406
  },
  {
   "cell_type": "markdown",
   "metadata": {},
   "source": [
    "## Construcción de la Curva"
   ]
  },
  {
   "cell_type": "markdown",
   "metadata": {},
   "source": [
    "La construcción de una curva se hace en varios pasos."
   ]
  },
  {
   "cell_type": "markdown",
   "metadata": {},
   "source": [
    "### Vectores de `Float` e `Int`"
   ]
  },
  {
   "cell_type": "markdown",
   "metadata": {},
   "source": [
    "Este es un vector de números enteros (grandes, de ahí la l (long))"
   ]
  },
  {
   "cell_type": "code",
   "metadata": {
    "execution": {
     "iopub.execute_input": "2024-06-25T21:49:19.611463Z",
     "iopub.status.busy": "2024-06-25T21:49:19.610906Z",
     "iopub.status.idle": "2024-06-25T21:49:19.615104Z",
     "shell.execute_reply": "2024-06-25T21:49:19.614193Z",
     "shell.execute_reply.started": "2024-06-25T21:49:19.611433Z"
    },
    "ExecuteTime": {
     "end_time": "2025-08-25T14:34:53.130159Z",
     "start_time": "2025-08-25T14:34:53.127706Z"
    }
   },
   "source": [
    "lvec = qcf.long_vec()"
   ],
   "outputs": [],
   "execution_count": 407
  },
  {
   "cell_type": "markdown",
   "metadata": {},
   "source": [
    "Agregar un elemento."
   ]
  },
  {
   "cell_type": "code",
   "metadata": {
    "execution": {
     "iopub.execute_input": "2024-06-25T21:49:19.619688Z",
     "iopub.status.busy": "2024-06-25T21:49:19.619372Z",
     "iopub.status.idle": "2024-06-25T21:49:19.623655Z",
     "shell.execute_reply": "2024-06-25T21:49:19.622509Z",
     "shell.execute_reply.started": "2024-06-25T21:49:19.619659Z"
    },
    "ExecuteTime": {
     "end_time": "2025-08-25T14:34:53.151711Z",
     "start_time": "2025-08-25T14:34:53.150343Z"
    }
   },
   "source": [
    "lvec.append(1000)"
   ],
   "outputs": [],
   "execution_count": 408
  },
  {
   "cell_type": "markdown",
   "metadata": {},
   "source": [
    "Este es un vector de números `float`."
   ]
  },
  {
   "cell_type": "code",
   "metadata": {
    "execution": {
     "iopub.execute_input": "2024-06-25T21:49:19.624959Z",
     "iopub.status.busy": "2024-06-25T21:49:19.624560Z",
     "iopub.status.idle": "2024-06-25T21:49:19.628570Z",
     "shell.execute_reply": "2024-06-25T21:49:19.627585Z",
     "shell.execute_reply.started": "2024-06-25T21:49:19.624927Z"
    },
    "ExecuteTime": {
     "end_time": "2025-08-25T14:34:53.168445Z",
     "start_time": "2025-08-25T14:34:53.166934Z"
    }
   },
   "source": [
    "vec = qcf.double_vec()"
   ],
   "outputs": [],
   "execution_count": 409
  },
  {
   "cell_type": "markdown",
   "metadata": {},
   "source": [
    "Agregar un elemento."
   ]
  },
  {
   "cell_type": "code",
   "metadata": {
    "execution": {
     "iopub.execute_input": "2024-06-25T21:49:19.630022Z",
     "iopub.status.busy": "2024-06-25T21:49:19.629475Z",
     "iopub.status.idle": "2024-06-25T21:49:19.634005Z",
     "shell.execute_reply": "2024-06-25T21:49:19.633171Z",
     "shell.execute_reply.started": "2024-06-25T21:49:19.629995Z"
    },
    "ExecuteTime": {
     "end_time": "2025-08-25T14:34:53.193338Z",
     "start_time": "2025-08-25T14:34:53.191729Z"
    }
   },
   "source": [
    "vec.append(.025)"
   ],
   "outputs": [],
   "execution_count": 410
  },
  {
   "cell_type": "markdown",
   "metadata": {},
   "source": [
    "Obtener ese elemento."
   ]
  },
  {
   "cell_type": "code",
   "metadata": {
    "execution": {
     "iopub.execute_input": "2024-06-25T21:49:19.635300Z",
     "iopub.status.busy": "2024-06-25T21:49:19.634939Z",
     "iopub.status.idle": "2024-06-25T21:49:19.639576Z",
     "shell.execute_reply": "2024-06-25T21:49:19.638840Z",
     "shell.execute_reply.started": "2024-06-25T21:49:19.635274Z"
    },
    "ExecuteTime": {
     "end_time": "2025-08-25T14:34:53.219852Z",
     "start_time": "2025-08-25T14:34:53.217994Z"
    }
   },
   "source": [
    "print(f\"Plazo: {lvec[0]:,.0f}\")\n",
    "print(f\"Tasa: {vec[0]:,.2%}\")"
   ],
   "outputs": [
    {
     "name": "stdout",
     "output_type": "stream",
     "text": [
      "Plazo: 1,000\n",
      "Tasa: 2.50%\n"
     ]
    }
   ],
   "execution_count": 411
  },
  {
   "cell_type": "markdown",
   "metadata": {},
   "source": [
    "### Objeto Curva"
   ]
  },
  {
   "cell_type": "markdown",
   "metadata": {},
   "source": [
    "Es simplemente un `long_vec` que representa las abscisas de la curva y un `double_vec` que representa las ordenadas. Ambos vectores deben tener el mismo largo. "
   ]
  },
  {
   "cell_type": "code",
   "metadata": {
    "execution": {
     "iopub.execute_input": "2024-06-25T21:49:19.641391Z",
     "iopub.status.busy": "2024-06-25T21:49:19.640762Z",
     "iopub.status.idle": "2024-06-25T21:49:19.644907Z",
     "shell.execute_reply": "2024-06-25T21:49:19.644156Z",
     "shell.execute_reply.started": "2024-06-25T21:49:19.641361Z"
    },
    "ExecuteTime": {
     "end_time": "2025-08-25T14:34:53.259102Z",
     "start_time": "2025-08-25T14:34:53.257496Z"
    }
   },
   "source": [
    "curva = qcf.QCCurve(lvec, vec)"
   ],
   "outputs": [],
   "execution_count": 412
  },
  {
   "cell_type": "markdown",
   "metadata": {},
   "source": [
    "Un elemento de una curva se representa como un par abscisa, ordenada."
   ]
  },
  {
   "cell_type": "code",
   "metadata": {
    "execution": {
     "iopub.execute_input": "2024-06-25T21:49:19.646691Z",
     "iopub.status.busy": "2024-06-25T21:49:19.646131Z",
     "iopub.status.idle": "2024-06-25T21:49:19.653123Z",
     "shell.execute_reply": "2024-06-25T21:49:19.651987Z",
     "shell.execute_reply.started": "2024-06-25T21:49:19.646659Z"
    },
    "ExecuteTime": {
     "end_time": "2025-08-25T14:34:53.280611Z",
     "start_time": "2025-08-25T14:34:53.278813Z"
    }
   },
   "source": [
    "curva.get_values_at(0)"
   ],
   "outputs": [
    {
     "data": {
      "text/plain": [
       "(1000, 0.025)"
      ]
     },
     "execution_count": 413,
     "metadata": {},
     "output_type": "execute_result"
    }
   ],
   "execution_count": 413
  },
  {
   "cell_type": "markdown",
   "metadata": {},
   "source": [
    "Se obtiene el plazo en una posición de la curva."
   ]
  },
  {
   "cell_type": "code",
   "metadata": {
    "execution": {
     "iopub.execute_input": "2024-06-25T21:49:19.654546Z",
     "iopub.status.busy": "2024-06-25T21:49:19.654116Z",
     "iopub.status.idle": "2024-06-25T21:49:19.659738Z",
     "shell.execute_reply": "2024-06-25T21:49:19.658962Z",
     "shell.execute_reply.started": "2024-06-25T21:49:19.654517Z"
    },
    "ExecuteTime": {
     "end_time": "2025-08-25T14:34:53.320244Z",
     "start_time": "2025-08-25T14:34:53.318274Z"
    }
   },
   "source": [
    "curva.get_values_at(0)[0]"
   ],
   "outputs": [
    {
     "data": {
      "text/plain": [
       "1000"
      ]
     },
     "execution_count": 414,
     "metadata": {},
     "output_type": "execute_result"
    }
   ],
   "execution_count": 414
  },
  {
   "cell_type": "markdown",
   "metadata": {},
   "source": [
    "Se obtiene la tasa en una posición de la curva."
   ]
  },
  {
   "cell_type": "code",
   "metadata": {
    "execution": {
     "iopub.execute_input": "2024-06-25T21:49:19.661320Z",
     "iopub.status.busy": "2024-06-25T21:49:19.660685Z",
     "iopub.status.idle": "2024-06-25T21:49:19.666378Z",
     "shell.execute_reply": "2024-06-25T21:49:19.665670Z",
     "shell.execute_reply.started": "2024-06-25T21:49:19.661294Z"
    },
    "ExecuteTime": {
     "end_time": "2025-08-25T14:34:53.364957Z",
     "start_time": "2025-08-25T14:34:53.363078Z"
    }
   },
   "source": [
    "curva.get_values_at(0)[1]"
   ],
   "outputs": [
    {
     "data": {
      "text/plain": [
       "0.025"
      ]
     },
     "execution_count": 415,
     "metadata": {},
     "output_type": "execute_result"
    }
   ],
   "execution_count": 415
  },
  {
   "cell_type": "markdown",
   "metadata": {},
   "source": [
    "Se agrega un par (plazo, valor) a la curva."
   ]
  },
  {
   "cell_type": "code",
   "metadata": {
    "execution": {
     "iopub.execute_input": "2024-06-25T21:49:19.667985Z",
     "iopub.status.busy": "2024-06-25T21:49:19.667656Z",
     "iopub.status.idle": "2024-06-25T21:49:19.671918Z",
     "shell.execute_reply": "2024-06-25T21:49:19.671216Z",
     "shell.execute_reply.started": "2024-06-25T21:49:19.667960Z"
    },
    "ExecuteTime": {
     "end_time": "2025-08-25T14:34:53.409658Z",
     "start_time": "2025-08-25T14:34:53.408216Z"
    }
   },
   "source": [
    "curva.set_pair(100, .026)"
   ],
   "outputs": [],
   "execution_count": 416
  },
  {
   "cell_type": "markdown",
   "metadata": {},
   "source": [
    "Se verifica. Notar que se debe usar el índice 0 ya que la curva se ordena automáticamente por plazos ascendentes."
   ]
  },
  {
   "cell_type": "code",
   "metadata": {
    "execution": {
     "iopub.execute_input": "2024-06-25T21:49:19.673905Z",
     "iopub.status.busy": "2024-06-25T21:49:19.673406Z",
     "iopub.status.idle": "2024-06-25T21:49:19.679434Z",
     "shell.execute_reply": "2024-06-25T21:49:19.678620Z",
     "shell.execute_reply.started": "2024-06-25T21:49:19.673872Z"
    },
    "ExecuteTime": {
     "end_time": "2025-08-25T14:34:53.427870Z",
     "start_time": "2025-08-25T14:34:53.426101Z"
    }
   },
   "source": [
    "curva.get_values_at(0)[0]"
   ],
   "outputs": [
    {
     "data": {
      "text/plain": [
       "100"
      ]
     },
     "execution_count": 417,
     "metadata": {},
     "output_type": "execute_result"
    }
   ],
   "execution_count": 417
  },
  {
   "cell_type": "code",
   "metadata": {
    "execution": {
     "iopub.execute_input": "2024-06-25T21:49:19.681140Z",
     "iopub.status.busy": "2024-06-25T21:49:19.680572Z",
     "iopub.status.idle": "2024-06-25T21:49:19.686221Z",
     "shell.execute_reply": "2024-06-25T21:49:19.685508Z",
     "shell.execute_reply.started": "2024-06-25T21:49:19.681112Z"
    },
    "ExecuteTime": {
     "end_time": "2025-08-25T14:34:53.478235Z",
     "start_time": "2025-08-25T14:34:53.476078Z"
    }
   },
   "source": [
    "curva.get_values_at(0)[1]"
   ],
   "outputs": [
    {
     "data": {
      "text/plain": [
       "0.026"
      ]
     },
     "execution_count": 418,
     "metadata": {},
     "output_type": "execute_result"
    }
   ],
   "execution_count": 418
  },
  {
   "cell_type": "markdown",
   "metadata": {},
   "source": [
    "Se agrega un par más."
   ]
  },
  {
   "cell_type": "code",
   "metadata": {
    "execution": {
     "iopub.execute_input": "2024-06-25T21:49:19.687887Z",
     "iopub.status.busy": "2024-06-25T21:49:19.687598Z",
     "iopub.status.idle": "2024-06-25T21:49:19.691548Z",
     "shell.execute_reply": "2024-06-25T21:49:19.690706Z",
     "shell.execute_reply.started": "2024-06-25T21:49:19.687862Z"
    },
    "ExecuteTime": {
     "end_time": "2025-08-25T14:34:53.521318Z",
     "start_time": "2025-08-25T14:34:53.519737Z"
    }
   },
   "source": [
    "curva.set_pair(370, .03)"
   ],
   "outputs": [],
   "execution_count": 419
  },
  {
   "cell_type": "markdown",
   "metadata": {},
   "source": [
    "Se itera sobre la curva mostrando sus valores"
   ]
  },
  {
   "cell_type": "code",
   "metadata": {
    "execution": {
     "iopub.execute_input": "2024-06-25T21:49:19.693131Z",
     "iopub.status.busy": "2024-06-25T21:49:19.692819Z",
     "iopub.status.idle": "2024-06-25T21:49:19.698330Z",
     "shell.execute_reply": "2024-06-25T21:49:19.697450Z",
     "shell.execute_reply.started": "2024-06-25T21:49:19.693103Z"
    },
    "ExecuteTime": {
     "end_time": "2025-08-25T14:34:53.544501Z",
     "start_time": "2025-08-25T14:34:53.542844Z"
    }
   },
   "source": [
    "for i in range(curva.get_length()):\n",
    "    pair = curva.get_values_at(i)\n",
    "    print(\"Tenor: {0:,.0f} Valor: {1:.4%}\".format(pair[0], pair[1]))"
   ],
   "outputs": [
    {
     "name": "stdout",
     "output_type": "stream",
     "text": [
      "Tenor: 100 Valor: 2.6000%\n",
      "Tenor: 370 Valor: 3.0000%\n",
      "Tenor: 1,000 Valor: 2.5000%\n"
     ]
    }
   ],
   "execution_count": 420
  },
  {
   "cell_type": "markdown",
   "metadata": {},
   "source": [
    "### Interpolador"
   ]
  },
  {
   "cell_type": "markdown",
   "metadata": {},
   "source": [
    "Se agrega un interpolador. En este caso, un interpolador lineal."
   ]
  },
  {
   "cell_type": "code",
   "metadata": {
    "execution": {
     "iopub.execute_input": "2024-06-25T21:49:19.699873Z",
     "iopub.status.busy": "2024-06-25T21:49:19.699505Z",
     "iopub.status.idle": "2024-06-25T21:49:19.703717Z",
     "shell.execute_reply": "2024-06-25T21:49:19.702880Z",
     "shell.execute_reply.started": "2024-06-25T21:49:19.699846Z"
    },
    "ExecuteTime": {
     "end_time": "2025-08-25T14:34:53.581585Z",
     "start_time": "2025-08-25T14:34:53.579969Z"
    }
   },
   "source": [
    "lin = qcf.QCLinearInterpolator(curva)"
   ],
   "outputs": [],
   "execution_count": 421
  },
  {
   "cell_type": "markdown",
   "metadata": {},
   "source": [
    "Se puede ahora obtener una tasa a un plazo cualquiera."
   ]
  },
  {
   "cell_type": "code",
   "metadata": {
    "execution": {
     "iopub.execute_input": "2024-06-25T21:49:19.705486Z",
     "iopub.status.busy": "2024-06-25T21:49:19.704915Z",
     "iopub.status.idle": "2024-06-25T21:49:19.710241Z",
     "shell.execute_reply": "2024-06-25T21:49:19.709170Z",
     "shell.execute_reply.started": "2024-06-25T21:49:19.705454Z"
    },
    "ExecuteTime": {
     "end_time": "2025-08-25T14:34:53.606546Z",
     "start_time": "2025-08-25T14:34:53.604936Z"
    }
   },
   "source": [
    "plazo = 120\n",
    "print(f\"Tasa a {plazo:,.0f} días es igual a {lin.interpolate_at(plazo):.4%}\")"
   ],
   "outputs": [
    {
     "name": "stdout",
     "output_type": "stream",
     "text": [
      "Tasa a 120 días es igual a 2.6296%\n"
     ]
    }
   ],
   "execution_count": 422
  },
  {
   "cell_type": "markdown",
   "metadata": {},
   "source": [
    "### Curva Cero Cupón"
   ]
  },
  {
   "cell_type": "markdown",
   "metadata": {},
   "source": [
    "Para completar el proceso se define un objeto de tipo `QCInterestRate`. Con este objeto, que representa la convención de las tasas de interés asociadas a la curva, se termina de dar de alta una curva cero cupón."
   ]
  },
  {
   "cell_type": "code",
   "metadata": {
    "execution": {
     "iopub.execute_input": "2024-06-25T21:49:19.722284Z",
     "iopub.status.busy": "2024-06-25T21:49:19.721870Z",
     "iopub.status.idle": "2024-06-25T21:49:19.729019Z",
     "shell.execute_reply": "2024-06-25T21:49:19.727787Z",
     "shell.execute_reply.started": "2024-06-25T21:49:19.722253Z"
    },
    "ExecuteTime": {
     "end_time": "2025-08-25T14:34:53.645788Z",
     "start_time": "2025-08-25T14:34:53.643974Z"
    }
   },
   "source": [
    "yf = qcf.QCAct365()\n",
    "wf = qcf.QCContinousWf()\n",
    "tasa = qcf.QCInterestRate(.0, yf, wf)"
   ],
   "outputs": [],
   "execution_count": 423
  },
  {
   "cell_type": "code",
   "metadata": {
    "execution": {
     "iopub.execute_input": "2024-06-25T21:49:19.730991Z",
     "iopub.status.busy": "2024-06-25T21:49:19.730314Z",
     "iopub.status.idle": "2024-06-25T21:49:19.735693Z",
     "shell.execute_reply": "2024-06-25T21:49:19.734556Z",
     "shell.execute_reply.started": "2024-06-25T21:49:19.730950Z"
    },
    "ExecuteTime": {
     "end_time": "2025-08-25T14:34:53.670325Z",
     "start_time": "2025-08-25T14:34:53.668874Z"
    }
   },
   "source": [
    "zcc = qcf.ZeroCouponCurve(lin, tasa)"
   ],
   "outputs": [],
   "execution_count": 424
  },
  {
   "cell_type": "markdown",
   "metadata": {},
   "source": [
    "El interpolador permite obtener una tasa a cualquier plazo."
   ]
  },
  {
   "cell_type": "code",
   "metadata": {
    "execution": {
     "iopub.execute_input": "2024-06-25T21:49:19.737421Z",
     "iopub.status.busy": "2024-06-25T21:49:19.737017Z",
     "iopub.status.idle": "2024-06-25T21:49:19.742282Z",
     "shell.execute_reply": "2024-06-25T21:49:19.741171Z",
     "shell.execute_reply.started": "2024-06-25T21:49:19.737391Z"
    },
    "ExecuteTime": {
     "end_time": "2025-08-25T14:34:53.687445Z",
     "start_time": "2025-08-25T14:34:53.685843Z"
    }
   },
   "source": [
    "plazo = 300\n",
    "print(f\"Tasa en {plazo:,.0f} es igual a {zcc.get_rate_at(plazo):.4%}\")"
   ],
   "outputs": [
    {
     "name": "stdout",
     "output_type": "stream",
     "text": [
      "Tasa en 300 es igual a 2.8963%\n"
     ]
    }
   ],
   "execution_count": 425
  },
  {
   "cell_type": "markdown",
   "metadata": {},
   "source": [
    "#### Otros métodos:"
   ]
  },
  {
   "cell_type": "markdown",
   "metadata": {},
   "source": [
    "Discount factor."
   ]
  },
  {
   "cell_type": "code",
   "metadata": {
    "execution": {
     "iopub.execute_input": "2024-06-25T21:49:19.744138Z",
     "iopub.status.busy": "2024-06-25T21:49:19.743563Z",
     "iopub.status.idle": "2024-06-25T21:49:19.749325Z",
     "shell.execute_reply": "2024-06-25T21:49:19.748288Z",
     "shell.execute_reply.started": "2024-06-25T21:49:19.744108Z"
    },
    "ExecuteTime": {
     "end_time": "2025-08-25T14:34:53.744957Z",
     "start_time": "2025-08-25T14:34:53.742672Z"
    }
   },
   "source": [
    "print(f\"Discount factor at {plazo}: {zcc.get_discount_factor_at(plazo):.6%}\")\n",
    "print(f\"Check: {exp(-zcc.get_rate_at(plazo) * plazo / 365):.6%}\")"
   ],
   "outputs": [
    {
     "name": "stdout",
     "output_type": "stream",
     "text": [
      "Discount factor at 300: 97.647593%\n",
      "Check: 97.647593%\n"
     ]
    }
   ],
   "execution_count": 426
  },
  {
   "cell_type": "markdown",
   "metadata": {},
   "source": [
    "Tasa Forward"
   ]
  },
  {
   "cell_type": "code",
   "metadata": {
    "execution": {
     "iopub.execute_input": "2024-06-25T21:50:17.691861Z",
     "iopub.status.busy": "2024-06-25T21:50:17.691519Z",
     "iopub.status.idle": "2024-06-25T21:50:17.696786Z",
     "shell.execute_reply": "2024-06-25T21:50:17.695953Z",
     "shell.execute_reply.started": "2024-06-25T21:50:17.691830Z"
    },
    "ExecuteTime": {
     "end_time": "2025-08-25T14:34:53.790529Z",
     "start_time": "2025-08-25T14:34:53.788706Z"
    }
   },
   "source": [
    "d1 = 30\n",
    "d2 = 90\n",
    "print(f\"Tasa forward entre los días {d1:,.0f} y {d2:,.0f}: {zcc.get_forward_rate(d1, d2):.4%}\")"
   ],
   "outputs": [
    {
     "name": "stdout",
     "output_type": "stream",
     "text": [
      "Tasa forward entre los días 30 y 90: 2.6000%\n"
     ]
    }
   ],
   "execution_count": 427
  },
  {
   "cell_type": "markdown",
   "metadata": {},
   "source": [
    "Se verifica el cálculo."
   ]
  },
  {
   "cell_type": "code",
   "metadata": {
    "execution": {
     "iopub.execute_input": "2024-06-25T21:50:18.120165Z",
     "iopub.status.busy": "2024-06-25T21:50:18.119584Z",
     "iopub.status.idle": "2024-06-25T21:50:18.124538Z",
     "shell.execute_reply": "2024-06-25T21:50:18.123795Z",
     "shell.execute_reply.started": "2024-06-25T21:50:18.120138Z"
    },
    "ExecuteTime": {
     "end_time": "2025-08-25T14:34:53.835753Z",
     "start_time": "2025-08-25T14:34:53.833942Z"
    }
   },
   "source": [
    "df1 = zcc.get_discount_factor_at(d1)\n",
    "df2 = zcc.get_discount_factor_at(d2)\n",
    "df12 = df1 / df2\n",
    "print(f\"Check: {log(df12) * 365 / (d2 - d1):.4%}\")"
   ],
   "outputs": [
    {
     "name": "stdout",
     "output_type": "stream",
     "text": [
      "Check: 2.6000%\n"
     ]
    }
   ],
   "execution_count": 428
  },
  {
   "cell_type": "markdown",
   "metadata": {},
   "source": [
    "## Valorizar"
   ]
  },
  {
   "cell_type": "markdown",
   "metadata": {},
   "source": [
    "Para valorizar es necesario dar de alta un objeto de tipo `PresentValue`."
   ]
  },
  {
   "cell_type": "code",
   "metadata": {
    "execution": {
     "iopub.execute_input": "2024-06-25T21:50:19.756729Z",
     "iopub.status.busy": "2024-06-25T21:50:19.756121Z",
     "iopub.status.idle": "2024-06-25T21:50:19.760997Z",
     "shell.execute_reply": "2024-06-25T21:50:19.759745Z",
     "shell.execute_reply.started": "2024-06-25T21:50:19.756698Z"
    },
    "ExecuteTime": {
     "end_time": "2025-08-25T14:34:53.881144Z",
     "start_time": "2025-08-25T14:34:53.879280Z"
    }
   },
   "source": [
    "pv = qcf.PresentValue()"
   ],
   "outputs": [],
   "execution_count": 429
  },
  {
   "cell_type": "markdown",
   "metadata": {},
   "source": [
    "### Depósito a Plazo"
   ]
  },
  {
   "cell_type": "markdown",
   "metadata": {},
   "source": [
    "Se utilizará como instrumento un depósito a plazo en CLP o USD. Este instrumento se modela como un `SimpleCashflow`. Este, a su vez se construye con un monto, una fecha y una moneda."
   ]
  },
  {
   "cell_type": "code",
   "metadata": {
    "execution": {
     "iopub.execute_input": "2024-06-25T21:50:20.386620Z",
     "iopub.status.busy": "2024-06-25T21:50:20.386240Z",
     "iopub.status.idle": "2024-06-25T21:50:20.391976Z",
     "shell.execute_reply": "2024-06-25T21:50:20.391196Z",
     "shell.execute_reply.started": "2024-06-25T21:50:20.386591Z"
    },
    "ExecuteTime": {
     "end_time": "2025-08-25T14:34:53.901379Z",
     "start_time": "2025-08-25T14:34:53.899788Z"
    }
   },
   "source": [
    "fecha_vcto = qcf.QCDate(13, 1, 2025)\n",
    "monto = 10_000_000.0\n",
    "clp = qcf.QCCLP()\n",
    "\n",
    "# Se construye el depósito\n",
    "depo = qcf.SimpleCashflow(fecha_vcto, monto, clp)"
   ],
   "outputs": [],
   "execution_count": 430
  },
  {
   "cell_type": "code",
   "metadata": {
    "execution": {
     "iopub.execute_input": "2024-06-25T21:50:20.600018Z",
     "iopub.status.busy": "2024-06-25T21:50:20.599677Z",
     "iopub.status.idle": "2024-06-25T21:50:20.604379Z",
     "shell.execute_reply": "2024-06-25T21:50:20.603463Z",
     "shell.execute_reply.started": "2024-06-25T21:50:20.599988Z"
    },
    "ExecuteTime": {
     "end_time": "2025-08-25T14:34:53.918237Z",
     "start_time": "2025-08-25T14:34:53.916623Z"
    }
   },
   "source": [
    "print(f\"Monto del depósito: {depo.amount():,.0f}\")"
   ],
   "outputs": [
    {
     "name": "stdout",
     "output_type": "stream",
     "text": [
      "Monto del depósito: 10,000,000\n"
     ]
    }
   ],
   "execution_count": 431
  },
  {
   "cell_type": "markdown",
   "metadata": {},
   "source": [
    "Se define una fecha de valorización y se calcula el valor presente del depo."
   ]
  },
  {
   "cell_type": "code",
   "metadata": {
    "execution": {
     "iopub.execute_input": "2024-06-25T21:50:21.005116Z",
     "iopub.status.busy": "2024-06-25T21:50:21.004778Z",
     "iopub.status.idle": "2024-06-25T21:50:21.009595Z",
     "shell.execute_reply": "2024-06-25T21:50:21.008865Z",
     "shell.execute_reply.started": "2024-06-25T21:50:21.005088Z"
    },
    "ExecuteTime": {
     "end_time": "2025-08-25T14:34:53.963814Z",
     "start_time": "2025-08-25T14:34:53.962042Z"
    }
   },
   "source": [
    "fecha_hoy = qcf.QCDate(31, 1, 2024)\n",
    "print(f\"Valor presente depo: {pv.pv(fecha_hoy, depo, zcc):,.2f}\")"
   ],
   "outputs": [
    {
     "name": "stdout",
     "output_type": "stream",
     "text": [
      "Valor presente depo: 9,721,044.77\n"
     ]
    }
   ],
   "execution_count": 432
  },
  {
   "cell_type": "markdown",
   "metadata": {},
   "source": [
    "Se verifica *a mano* el resultado."
   ]
  },
  {
   "cell_type": "code",
   "metadata": {
    "execution": {
     "iopub.execute_input": "2024-06-25T21:50:21.400133Z",
     "iopub.status.busy": "2024-06-25T21:50:21.399797Z",
     "iopub.status.idle": "2024-06-25T21:50:21.404770Z",
     "shell.execute_reply": "2024-06-25T21:50:21.403966Z",
     "shell.execute_reply.started": "2024-06-25T21:50:21.400104Z"
    },
    "ExecuteTime": {
     "end_time": "2025-08-25T14:34:54.013580Z",
     "start_time": "2025-08-25T14:34:54.011846Z"
    }
   },
   "source": [
    "plazo = fecha_hoy.day_diff(fecha_vcto)\n",
    "print(\"Plazo:\", plazo)"
   ],
   "outputs": [
    {
     "name": "stdout",
     "output_type": "stream",
     "text": [
      "Plazo: 348\n"
     ]
    }
   ],
   "execution_count": 433
  },
  {
   "cell_type": "code",
   "metadata": {
    "execution": {
     "iopub.execute_input": "2024-06-25T21:50:21.626526Z",
     "iopub.status.busy": "2024-06-25T21:50:21.625785Z",
     "iopub.status.idle": "2024-06-25T21:50:21.630699Z",
     "shell.execute_reply": "2024-06-25T21:50:21.629844Z",
     "shell.execute_reply.started": "2024-06-25T21:50:21.626496Z"
    },
    "ExecuteTime": {
     "end_time": "2025-08-25T14:34:54.048264Z",
     "start_time": "2025-08-25T14:34:54.046649Z"
    }
   },
   "source": [
    "tasa_int = zcc.get_rate_at(plazo)\n",
    "print(f\"Tasa: {tasa_int:,.4%}\")"
   ],
   "outputs": [
    {
     "name": "stdout",
     "output_type": "stream",
     "text": [
      "Tasa: 2.9674%\n"
     ]
    }
   ],
   "execution_count": 434
  },
  {
   "cell_type": "code",
   "metadata": {
    "execution": {
     "iopub.execute_input": "2024-06-25T21:50:21.839369Z",
     "iopub.status.busy": "2024-06-25T21:50:21.838928Z",
     "iopub.status.idle": "2024-06-25T21:50:21.843756Z",
     "shell.execute_reply": "2024-06-25T21:50:21.843035Z",
     "shell.execute_reply.started": "2024-06-25T21:50:21.839342Z"
    },
    "ExecuteTime": {
     "end_time": "2025-08-25T14:34:54.080130Z",
     "start_time": "2025-08-25T14:34:54.078222Z"
    }
   },
   "source": [
    "valor_presente = monto * exp(-tasa_int * plazo / 365)\n",
    "print(f\"Valor presente a mano: {valor_presente:,.2f}\")"
   ],
   "outputs": [
    {
     "name": "stdout",
     "output_type": "stream",
     "text": [
      "Valor presente a mano: 9,721,044.77\n"
     ]
    }
   ],
   "execution_count": 435
  },
  {
   "cell_type": "markdown",
   "metadata": {},
   "source": [
    "### Renta Fija de Chile"
   ]
  },
  {
   "cell_type": "markdown",
   "metadata": {},
   "source": [
    "Se muestra el ejemplo de valorización de un bono bullet a tasa fija con las convenciones de la Bolsa de Comercio de Santiago. Para el ejemplo usamos las características del BTU0150326.\n",
    "\n",
    "Se dan de alta los parámetros requeridos para instanciar un objeto de tipo `FixedRateLeg`."
   ]
  },
  {
   "cell_type": "code",
   "metadata": {
    "execution": {
     "iopub.execute_input": "2024-06-25T21:50:22.691553Z",
     "iopub.status.busy": "2024-06-25T21:50:22.691202Z",
     "iopub.status.idle": "2024-06-25T21:50:22.697528Z",
     "shell.execute_reply": "2024-06-25T21:50:22.696668Z",
     "shell.execute_reply.started": "2024-06-25T21:50:22.691522Z"
    },
    "ExecuteTime": {
     "end_time": "2025-08-25T14:34:54.118064Z",
     "start_time": "2025-08-25T14:34:54.116002Z"
    }
   },
   "source": [
    "rp = qcf.RecPay.RECEIVE\n",
    "fecha_inicio = qcf.QCDate(1, 3, 2015)\n",
    "fecha_final = qcf.QCDate(1, 3, 2026)\n",
    "bus_adj_rule = qcf.BusyAdjRules.NO\n",
    "periodicidad = qcf.Tenor('6M')\n",
    "periodo_irregular = qcf.StubPeriod.NO\n",
    "calendario = qcf.BusinessCalendar(fecha_inicio, 20)\n",
    "lag_pago = 0\n",
    "nominal = 100.0\n",
    "amort_es_flujo = True\n",
    "valor_tasa_fija = .015\n",
    "tasa_cupon = qcf.QCInterestRate(\n",
    "    valor_tasa_fija, \n",
    "    qcf.QC30360(),\n",
    "    qcf.QCLinearWf()\n",
    ")\n",
    "moneda = qcf.QCCLP()\n",
    "es_bono = True"
   ],
   "outputs": [],
   "execution_count": 436
  },
  {
   "cell_type": "markdown",
   "metadata": {},
   "source": [
    "Se da de alta el objeto."
   ]
  },
  {
   "cell_type": "code",
   "metadata": {
    "execution": {
     "iopub.execute_input": "2024-06-25T21:50:24.885036Z",
     "iopub.status.busy": "2024-06-25T21:50:24.884696Z",
     "iopub.status.idle": "2024-06-25T21:50:24.889639Z",
     "shell.execute_reply": "2024-06-25T21:50:24.888723Z",
     "shell.execute_reply.started": "2024-06-25T21:50:24.885007Z"
    },
    "ExecuteTime": {
     "end_time": "2025-08-25T14:34:54.140778Z",
     "start_time": "2025-08-25T14:34:54.139230Z"
    }
   },
   "source": [
    "pata_bono = qcf.LegFactory.build_bullet_fixed_rate_leg(\n",
    "    rp,\n",
    "    fecha_inicio,\n",
    "    fecha_final,\n",
    "    bus_adj_rule,\n",
    "    periodicidad,\n",
    "    periodo_irregular,\n",
    "    calendario,\n",
    "    lag_pago,\n",
    "    nominal,\n",
    "    amort_es_flujo,\n",
    "    tasa_cupon,\n",
    "    moneda,\n",
    "    es_bono\n",
    ")"
   ],
   "outputs": [],
   "execution_count": 437
  },
  {
   "cell_type": "markdown",
   "metadata": {},
   "source": [
    "Se da de alta el valor de la TERA y luego se construye un objeto de tipo `ChileanFixedRateBond`."
   ]
  },
  {
   "cell_type": "code",
   "metadata": {
    "execution": {
     "iopub.execute_input": "2024-06-25T21:50:25.557075Z",
     "iopub.status.busy": "2024-06-25T21:50:25.556733Z",
     "iopub.status.idle": "2024-06-25T21:50:25.561253Z",
     "shell.execute_reply": "2024-06-25T21:50:25.560311Z",
     "shell.execute_reply.started": "2024-06-25T21:50:25.557046Z"
    },
    "ExecuteTime": {
     "end_time": "2025-08-25T14:34:54.157858Z",
     "start_time": "2025-08-25T14:34:54.156081Z"
    }
   },
   "source": [
    "tera = qcf.QCInterestRate(.015044, qcf.QCAct365(), qcf.QCCompoundWf())\n",
    "bono_chileno = qcf.ChileanFixedRateBond(pata_bono, tera)"
   ],
   "outputs": [],
   "execution_count": 438
  },
  {
   "cell_type": "markdown",
   "metadata": {},
   "source": [
    "Se valoriza al 2021-09-28 a una TIR de mercado del 1.61%."
   ]
  },
  {
   "cell_type": "code",
   "metadata": {
    "execution": {
     "iopub.execute_input": "2024-06-25T21:50:25.934927Z",
     "iopub.status.busy": "2024-06-25T21:50:25.934583Z",
     "iopub.status.idle": "2024-06-25T21:50:25.941067Z",
     "shell.execute_reply": "2024-06-25T21:50:25.940254Z",
     "shell.execute_reply.started": "2024-06-25T21:50:25.934899Z"
    },
    "ExecuteTime": {
     "end_time": "2025-08-25T14:34:54.183634Z",
     "start_time": "2025-08-25T14:34:54.181673Z"
    }
   },
   "source": [
    "fecha_valor = qcf.QCDate(28, 9, 2021)\n",
    "tir = qcf.QCInterestRate(.0161, qcf.QCAct365(), qcf.QCCompoundWf())\n",
    "\n",
    "valor_presente = bono_chileno.present_value(fecha_valor, tir)\n",
    "precio = bono_chileno.precio(fecha_valor, tir)\n",
    "valor_par = bono_chileno.valor_par(fecha_valor)\n",
    "\n",
    "print(f'Valor presente: {valor_presente:,.8f}')\n",
    "print(f'Precio: {precio:,.2%}')\n",
    "print(f'Valor par: {valor_par:,.18f}')"
   ],
   "outputs": [
    {
     "name": "stdout",
     "output_type": "stream",
     "text": [
      "Valor presente: 99.67188455\n",
      "Precio: 99.56%\n",
      "Valor par: 100.110516628864033351\n"
     ]
    }
   ],
   "execution_count": 439
  },
  {
   "cell_type": "markdown",
   "metadata": {},
   "source": [
    "Con esto el valor a pagar es:"
   ]
  },
  {
   "cell_type": "code",
   "metadata": {
    "execution": {
     "iopub.execute_input": "2024-06-25T21:50:26.551602Z",
     "iopub.status.busy": "2024-06-25T21:50:26.551260Z",
     "iopub.status.idle": "2024-06-25T21:50:26.556374Z",
     "shell.execute_reply": "2024-06-25T21:50:26.555621Z",
     "shell.execute_reply.started": "2024-06-25T21:50:26.551573Z"
    },
    "ExecuteTime": {
     "end_time": "2025-08-25T14:34:54.227589Z",
     "start_time": "2025-08-25T14:34:54.225871Z"
    }
   },
   "source": [
    "valor_uf = 30_080.37\n",
    "valor_pago = precio * valor_par * valor_uf\n",
    "print(f'Valor a pagar: {valor_pago:,.0f}')"
   ],
   "outputs": [
    {
     "name": "stdout",
     "output_type": "stream",
     "text": [
      "Valor a pagar: 2,998,111\n"
     ]
    }
   ],
   "execution_count": 440
  },
  {
   "cell_type": "markdown",
   "metadata": {},
   "source": [
    "Con 4 decimales en el precio (4 decimales porcentuales, 6 decimales en el número):"
   ]
  },
  {
   "cell_type": "code",
   "metadata": {
    "execution": {
     "iopub.execute_input": "2024-06-25T21:50:27.749321Z",
     "iopub.status.busy": "2024-06-25T21:50:27.748737Z",
     "iopub.status.idle": "2024-06-25T21:50:27.753613Z",
     "shell.execute_reply": "2024-06-25T21:50:27.752648Z",
     "shell.execute_reply.started": "2024-06-25T21:50:27.749292Z"
    },
    "ExecuteTime": {
     "end_time": "2025-08-25T14:34:54.281517Z",
     "start_time": "2025-08-25T14:34:54.279850Z"
    }
   },
   "source": [
    "precio2 = bono_chileno.precio2(fecha_valor, tir, 6)\n",
    "print(f'Precio a 4 decmales: {precio2:.4%}')"
   ],
   "outputs": [
    {
     "name": "stdout",
     "output_type": "stream",
     "text": [
      "Precio a 4 decmales: 99.5619%\n"
     ]
    }
   ],
   "execution_count": 441
  },
  {
   "cell_type": "markdown",
   "metadata": {},
   "source": [
    "La función `precio2` entrega el mismo resultado que la función precio cuando se utiliza con 2 decimales porcentuales."
   ]
  },
  {
   "cell_type": "code",
   "metadata": {
    "execution": {
     "iopub.execute_input": "2024-06-25T21:50:28.489431Z",
     "iopub.status.busy": "2024-06-25T21:50:28.489068Z",
     "iopub.status.idle": "2024-06-25T21:50:28.494011Z",
     "shell.execute_reply": "2024-06-25T21:50:28.493235Z",
     "shell.execute_reply.started": "2024-06-25T21:50:28.489403Z"
    },
    "ExecuteTime": {
     "end_time": "2025-08-25T14:34:54.332192Z",
     "start_time": "2025-08-25T14:34:54.330431Z"
    }
   },
   "source": [
    "precio22 = bono_chileno.precio2(fecha_valor, tir, 4)\n",
    "print(f'Precio a 4 decmales: {precio22:.4%}')"
   ],
   "outputs": [
    {
     "name": "stdout",
     "output_type": "stream",
     "text": [
      "Precio a 4 decmales: 99.5600%\n"
     ]
    }
   ],
   "execution_count": 442
  },
  {
   "cell_type": "markdown",
   "metadata": {},
   "source": [
    "Se muestran las diferencias con la convención de precio usual en mercados desarrollados."
   ]
  },
  {
   "cell_type": "code",
   "metadata": {
    "execution": {
     "iopub.execute_input": "2024-06-25T21:50:29.002486Z",
     "iopub.status.busy": "2024-06-25T21:50:29.001930Z",
     "iopub.status.idle": "2024-06-25T21:50:29.007083Z",
     "shell.execute_reply": "2024-06-25T21:50:29.006330Z",
     "shell.execute_reply.started": "2024-06-25T21:50:29.002460Z"
    },
    "ExecuteTime": {
     "end_time": "2025-08-25T14:34:54.373742Z",
     "start_time": "2025-08-25T14:34:54.371841Z"
    }
   },
   "source": [
    "bono = qcf.FixedRateBond(pata_bono)\n",
    "print(f'Valor presente: {bono.present_value(fecha_valor, tir):,.8f}')\n",
    "print(f'Precio: {bono.price(fecha_valor, tir):,.8f}')"
   ],
   "outputs": [
    {
     "name": "stdout",
     "output_type": "stream",
     "text": [
      "Valor presente: 99.67188455\n",
      "Precio: 99.55938455\n"
     ]
    }
   ],
   "execution_count": 443
  },
  {
   "cell_type": "markdown",
   "metadata": {},
   "source": [
    "### Curvas Reales"
   ]
  },
  {
   "cell_type": "markdown",
   "metadata": {},
   "source": [
    "Construyamos dos curvas a partir de data real. Primero una curva en CLP."
   ]
  },
  {
   "cell_type": "code",
   "metadata": {
    "execution": {
     "iopub.execute_input": "2024-06-25T21:50:30.413153Z",
     "iopub.status.busy": "2024-06-25T21:50:30.412762Z",
     "iopub.status.idle": "2024-06-25T21:50:30.834351Z",
     "shell.execute_reply": "2024-06-25T21:50:30.833307Z",
     "shell.execute_reply.started": "2024-06-25T21:50:30.413122Z"
    },
    "ExecuteTime": {
     "end_time": "2025-08-25T14:34:54.421742Z",
     "start_time": "2025-08-25T14:34:54.415065Z"
    }
   },
   "source": [
    "curva_clp = pd.read_excel(\"./input/curva_clp.xlsx\")\n",
    "curva_clp.style.format(format_dict)"
   ],
   "outputs": [
    {
     "data": {
      "text/plain": [
       "<pandas.io.formats.style.Styler at 0x10bea9950>"
      ],
      "text/html": [
       "<style type=\"text/css\">\n",
       "</style>\n",
       "<table id=\"T_2b0cf\">\n",
       "  <thead>\n",
       "    <tr>\n",
       "      <th class=\"blank level0\" >&nbsp;</th>\n",
       "      <th id=\"T_2b0cf_level0_col0\" class=\"col_heading level0 col0\" >plazo</th>\n",
       "      <th id=\"T_2b0cf_level0_col1\" class=\"col_heading level0 col1\" >tasa</th>\n",
       "    </tr>\n",
       "  </thead>\n",
       "  <tbody>\n",
       "    <tr>\n",
       "      <th id=\"T_2b0cf_level0_row0\" class=\"row_heading level0 row0\" >0</th>\n",
       "      <td id=\"T_2b0cf_row0_col0\" class=\"data row0 col0\" >1</td>\n",
       "      <td id=\"T_2b0cf_row0_col1\" class=\"data row0 col1\" >1.7500%</td>\n",
       "    </tr>\n",
       "    <tr>\n",
       "      <th id=\"T_2b0cf_level0_row1\" class=\"row_heading level0 row1\" >1</th>\n",
       "      <td id=\"T_2b0cf_row1_col0\" class=\"data row1 col0\" >4</td>\n",
       "      <td id=\"T_2b0cf_row1_col1\" class=\"data row1 col1\" >1.7501%</td>\n",
       "    </tr>\n",
       "    <tr>\n",
       "      <th id=\"T_2b0cf_level0_row2\" class=\"row_heading level0 row2\" >2</th>\n",
       "      <td id=\"T_2b0cf_row2_col0\" class=\"data row2 col0\" >96</td>\n",
       "      <td id=\"T_2b0cf_row2_col1\" class=\"data row2 col1\" >1.4867%</td>\n",
       "    </tr>\n",
       "    <tr>\n",
       "      <th id=\"T_2b0cf_level0_row3\" class=\"row_heading level0 row3\" >3</th>\n",
       "      <td id=\"T_2b0cf_row3_col0\" class=\"data row3 col0\" >188</td>\n",
       "      <td id=\"T_2b0cf_row3_col1\" class=\"data row3 col1\" >1.3049%</td>\n",
       "    </tr>\n",
       "    <tr>\n",
       "      <th id=\"T_2b0cf_level0_row4\" class=\"row_heading level0 row4\" >4</th>\n",
       "      <td id=\"T_2b0cf_row4_col0\" class=\"data row4 col0\" >279</td>\n",
       "      <td id=\"T_2b0cf_row4_col1\" class=\"data row4 col1\" >1.2870%</td>\n",
       "    </tr>\n",
       "    <tr>\n",
       "      <th id=\"T_2b0cf_level0_row5\" class=\"row_heading level0 row5\" >5</th>\n",
       "      <td id=\"T_2b0cf_row5_col0\" class=\"data row5 col0\" >369</td>\n",
       "      <td id=\"T_2b0cf_row5_col1\" class=\"data row5 col1\" >1.3002%</td>\n",
       "    </tr>\n",
       "    <tr>\n",
       "      <th id=\"T_2b0cf_level0_row6\" class=\"row_heading level0 row6\" >6</th>\n",
       "      <td id=\"T_2b0cf_row6_col0\" class=\"data row6 col0\" >553</td>\n",
       "      <td id=\"T_2b0cf_row6_col1\" class=\"data row6 col1\" >1.3035%</td>\n",
       "    </tr>\n",
       "    <tr>\n",
       "      <th id=\"T_2b0cf_level0_row7\" class=\"row_heading level0 row7\" >7</th>\n",
       "      <td id=\"T_2b0cf_row7_col0\" class=\"data row7 col0\" >734</td>\n",
       "      <td id=\"T_2b0cf_row7_col1\" class=\"data row7 col1\" >1.2951%</td>\n",
       "    </tr>\n",
       "    <tr>\n",
       "      <th id=\"T_2b0cf_level0_row8\" class=\"row_heading level0 row8\" >8</th>\n",
       "      <td id=\"T_2b0cf_row8_col0\" class=\"data row8 col0\" >1,099</td>\n",
       "      <td id=\"T_2b0cf_row8_col1\" class=\"data row8 col1\" >1.4440%</td>\n",
       "    </tr>\n",
       "    <tr>\n",
       "      <th id=\"T_2b0cf_level0_row9\" class=\"row_heading level0 row9\" >9</th>\n",
       "      <td id=\"T_2b0cf_row9_col0\" class=\"data row9 col0\" >1,465</td>\n",
       "      <td id=\"T_2b0cf_row9_col1\" class=\"data row9 col1\" >1.6736%</td>\n",
       "    </tr>\n",
       "    <tr>\n",
       "      <th id=\"T_2b0cf_level0_row10\" class=\"row_heading level0 row10\" >10</th>\n",
       "      <td id=\"T_2b0cf_row10_col0\" class=\"data row10 col0\" >1,830</td>\n",
       "      <td id=\"T_2b0cf_row10_col1\" class=\"data row10 col1\" >1.9860%</td>\n",
       "    </tr>\n",
       "    <tr>\n",
       "      <th id=\"T_2b0cf_level0_row11\" class=\"row_heading level0 row11\" >11</th>\n",
       "      <td id=\"T_2b0cf_row11_col0\" class=\"data row11 col0\" >2,195</td>\n",
       "      <td id=\"T_2b0cf_row11_col1\" class=\"data row11 col1\" >2.2766%</td>\n",
       "    </tr>\n",
       "    <tr>\n",
       "      <th id=\"T_2b0cf_level0_row12\" class=\"row_heading level0 row12\" >12</th>\n",
       "      <td id=\"T_2b0cf_row12_col0\" class=\"data row12 col0\" >2,560</td>\n",
       "      <td id=\"T_2b0cf_row12_col1\" class=\"data row12 col1\" >2.5812%</td>\n",
       "    </tr>\n",
       "    <tr>\n",
       "      <th id=\"T_2b0cf_level0_row13\" class=\"row_heading level0 row13\" >13</th>\n",
       "      <td id=\"T_2b0cf_row13_col0\" class=\"data row13 col0\" >2,926</td>\n",
       "      <td id=\"T_2b0cf_row13_col1\" class=\"data row13 col1\" >2.8216%</td>\n",
       "    </tr>\n",
       "    <tr>\n",
       "      <th id=\"T_2b0cf_level0_row14\" class=\"row_heading level0 row14\" >14</th>\n",
       "      <td id=\"T_2b0cf_row14_col0\" class=\"data row14 col0\" >3,291</td>\n",
       "      <td id=\"T_2b0cf_row14_col1\" class=\"data row14 col1\" >3.0373%</td>\n",
       "    </tr>\n",
       "    <tr>\n",
       "      <th id=\"T_2b0cf_level0_row15\" class=\"row_heading level0 row15\" >15</th>\n",
       "      <td id=\"T_2b0cf_row15_col0\" class=\"data row15 col0\" >3,656</td>\n",
       "      <td id=\"T_2b0cf_row15_col1\" class=\"data row15 col1\" >3.2154%</td>\n",
       "    </tr>\n",
       "    <tr>\n",
       "      <th id=\"T_2b0cf_level0_row16\" class=\"row_heading level0 row16\" >16</th>\n",
       "      <td id=\"T_2b0cf_row16_col0\" class=\"data row16 col0\" >4,387</td>\n",
       "      <td id=\"T_2b0cf_row16_col1\" class=\"data row16 col1\" >3.4525%</td>\n",
       "    </tr>\n",
       "    <tr>\n",
       "      <th id=\"T_2b0cf_level0_row17\" class=\"row_heading level0 row17\" >17</th>\n",
       "      <td id=\"T_2b0cf_row17_col0\" class=\"data row17 col0\" >5,482</td>\n",
       "      <td id=\"T_2b0cf_row17_col1\" class=\"data row17 col1\" >3.7636%</td>\n",
       "    </tr>\n",
       "    <tr>\n",
       "      <th id=\"T_2b0cf_level0_row18\" class=\"row_heading level0 row18\" >18</th>\n",
       "      <td id=\"T_2b0cf_row18_col0\" class=\"data row18 col0\" >7,309</td>\n",
       "      <td id=\"T_2b0cf_row18_col1\" class=\"data row18 col1\" >4.1641%</td>\n",
       "    </tr>\n",
       "  </tbody>\n",
       "</table>\n"
      ]
     },
     "execution_count": 444,
     "metadata": {},
     "output_type": "execute_result"
    }
   ],
   "execution_count": 444
  },
  {
   "cell_type": "markdown",
   "metadata": {},
   "source": [
    "Se da de alta un vector con los plazos (variable de tipo `long`) y un vector con las tasas (variable de tipo `double`)."
   ]
  },
  {
   "cell_type": "code",
   "metadata": {
    "execution": {
     "iopub.execute_input": "2024-06-25T21:50:30.939377Z",
     "iopub.status.busy": "2024-06-25T21:50:30.938650Z",
     "iopub.status.idle": "2024-06-25T21:50:30.944284Z",
     "shell.execute_reply": "2024-06-25T21:50:30.943327Z",
     "shell.execute_reply.started": "2024-06-25T21:50:30.939348Z"
    },
    "ExecuteTime": {
     "end_time": "2025-08-25T14:34:54.459304Z",
     "start_time": "2025-08-25T14:34:54.457516Z"
    }
   },
   "source": [
    "lvec1 = qcf.long_vec()\n",
    "vec1 = qcf.double_vec()\n",
    "for t in curva_clp.itertuples():\n",
    "    lvec1.append(int(t.plazo))\n",
    "    vec1.append(t.tasa)"
   ],
   "outputs": [],
   "execution_count": 445
  },
  {
   "cell_type": "markdown",
   "metadata": {},
   "source": [
    "Luego, con una curva, un interpolador y un objeto `QCInterestRate`(que indica la convención de las tasas de la curva) se construye una curva cupón cero."
   ]
  },
  {
   "cell_type": "code",
   "metadata": {
    "execution": {
     "iopub.execute_input": "2024-06-25T21:50:31.771313Z",
     "iopub.status.busy": "2024-06-25T21:50:31.770976Z",
     "iopub.status.idle": "2024-06-25T21:50:31.775558Z",
     "shell.execute_reply": "2024-06-25T21:50:31.774713Z",
     "shell.execute_reply.started": "2024-06-25T21:50:31.771287Z"
    },
    "ExecuteTime": {
     "end_time": "2025-08-25T14:34:54.482095Z",
     "start_time": "2025-08-25T14:34:54.480561Z"
    }
   },
   "source": [
    "curva1 = qcf.QCCurve(lvec1, vec1)\n",
    "lin1 = qcf.QCLinearInterpolator(curva1)\n",
    "zcc_clp = qcf.ZeroCouponCurve(lin1, tasa)"
   ],
   "outputs": [],
   "execution_count": 446
  },
  {
   "cell_type": "markdown",
   "metadata": {},
   "source": [
    "Luego, una curva en USD."
   ]
  },
  {
   "cell_type": "code",
   "metadata": {
    "execution": {
     "iopub.execute_input": "2024-06-25T21:50:32.555812Z",
     "iopub.status.busy": "2024-06-25T21:50:32.555473Z",
     "iopub.status.idle": "2024-06-25T21:50:32.636935Z",
     "shell.execute_reply": "2024-06-25T21:50:32.636108Z",
     "shell.execute_reply.started": "2024-06-25T21:50:32.555782Z"
    },
    "ExecuteTime": {
     "end_time": "2025-08-25T14:34:54.508494Z",
     "start_time": "2025-08-25T14:34:54.497751Z"
    }
   },
   "source": [
    "curva_usd = pd.read_excel(\"./input/curva_usd.xlsx\")\n",
    "curva_usd.style.format(format_dict)"
   ],
   "outputs": [
    {
     "data": {
      "text/plain": [
       "<pandas.io.formats.style.Styler at 0x10bea8a50>"
      ],
      "text/html": [
       "<style type=\"text/css\">\n",
       "</style>\n",
       "<table id=\"T_e52c3\">\n",
       "  <thead>\n",
       "    <tr>\n",
       "      <th class=\"blank level0\" >&nbsp;</th>\n",
       "      <th id=\"T_e52c3_level0_col0\" class=\"col_heading level0 col0\" >plazo</th>\n",
       "      <th id=\"T_e52c3_level0_col1\" class=\"col_heading level0 col1\" >tasa</th>\n",
       "    </tr>\n",
       "  </thead>\n",
       "  <tbody>\n",
       "    <tr>\n",
       "      <th id=\"T_e52c3_level0_row0\" class=\"row_heading level0 row0\" >0</th>\n",
       "      <td id=\"T_e52c3_row0_col0\" class=\"data row0 col0\" >3</td>\n",
       "      <td id=\"T_e52c3_row0_col1\" class=\"data row0 col1\" >1.5362%</td>\n",
       "    </tr>\n",
       "    <tr>\n",
       "      <th id=\"T_e52c3_level0_row1\" class=\"row_heading level0 row1\" >1</th>\n",
       "      <td id=\"T_e52c3_row1_col0\" class=\"data row1 col0\" >4</td>\n",
       "      <td id=\"T_e52c3_row1_col1\" class=\"data row1 col1\" >1.1521%</td>\n",
       "    </tr>\n",
       "    <tr>\n",
       "      <th id=\"T_e52c3_level0_row2\" class=\"row_heading level0 row2\" >2</th>\n",
       "      <td id=\"T_e52c3_row2_col0\" class=\"data row2 col0\" >7</td>\n",
       "      <td id=\"T_e52c3_row2_col1\" class=\"data row2 col1\" >1.5536%</td>\n",
       "    </tr>\n",
       "    <tr>\n",
       "      <th id=\"T_e52c3_level0_row3\" class=\"row_heading level0 row3\" >3</th>\n",
       "      <td id=\"T_e52c3_row3_col0\" class=\"data row3 col0\" >14</td>\n",
       "      <td id=\"T_e52c3_row3_col1\" class=\"data row3 col1\" >1.5850%</td>\n",
       "    </tr>\n",
       "    <tr>\n",
       "      <th id=\"T_e52c3_level0_row4\" class=\"row_heading level0 row4\" >4</th>\n",
       "      <td id=\"T_e52c3_row4_col0\" class=\"data row4 col0\" >31</td>\n",
       "      <td id=\"T_e52c3_row4_col1\" class=\"data row4 col1\" >1.6595%</td>\n",
       "    </tr>\n",
       "    <tr>\n",
       "      <th id=\"T_e52c3_level0_row5\" class=\"row_heading level0 row5\" >5</th>\n",
       "      <td id=\"T_e52c3_row5_col0\" class=\"data row5 col0\" >60</td>\n",
       "      <td id=\"T_e52c3_row5_col1\" class=\"data row5 col1\" >1.7698%</td>\n",
       "    </tr>\n",
       "    <tr>\n",
       "      <th id=\"T_e52c3_level0_row6\" class=\"row_heading level0 row6\" >6</th>\n",
       "      <td id=\"T_e52c3_row6_col0\" class=\"data row6 col0\" >91</td>\n",
       "      <td id=\"T_e52c3_row6_col1\" class=\"data row6 col1\" >1.8010%</td>\n",
       "    </tr>\n",
       "    <tr>\n",
       "      <th id=\"T_e52c3_level0_row7\" class=\"row_heading level0 row7\" >7</th>\n",
       "      <td id=\"T_e52c3_row7_col0\" class=\"data row7 col0\" >123</td>\n",
       "      <td id=\"T_e52c3_row7_col1\" class=\"data row7 col1\" >1.7711%</td>\n",
       "    </tr>\n",
       "    <tr>\n",
       "      <th id=\"T_e52c3_level0_row8\" class=\"row_heading level0 row8\" >8</th>\n",
       "      <td id=\"T_e52c3_row8_col0\" class=\"data row8 col0\" >152</td>\n",
       "      <td id=\"T_e52c3_row8_col1\" class=\"data row8 col1\" >1.7542%</td>\n",
       "    </tr>\n",
       "    <tr>\n",
       "      <th id=\"T_e52c3_level0_row9\" class=\"row_heading level0 row9\" >9</th>\n",
       "      <td id=\"T_e52c3_row9_col0\" class=\"data row9 col0\" >182</td>\n",
       "      <td id=\"T_e52c3_row9_col1\" class=\"data row9 col1\" >1.7394%</td>\n",
       "    </tr>\n",
       "    <tr>\n",
       "      <th id=\"T_e52c3_level0_row10\" class=\"row_heading level0 row10\" >10</th>\n",
       "      <td id=\"T_e52c3_row10_col0\" class=\"data row10 col0\" >213</td>\n",
       "      <td id=\"T_e52c3_row10_col1\" class=\"data row10 col1\" >1.7288%</td>\n",
       "    </tr>\n",
       "    <tr>\n",
       "      <th id=\"T_e52c3_level0_row11\" class=\"row_heading level0 row11\" >11</th>\n",
       "      <td id=\"T_e52c3_row11_col0\" class=\"data row11 col0\" >244</td>\n",
       "      <td id=\"T_e52c3_row11_col1\" class=\"data row11 col1\" >1.7183%</td>\n",
       "    </tr>\n",
       "    <tr>\n",
       "      <th id=\"T_e52c3_level0_row12\" class=\"row_heading level0 row12\" >12</th>\n",
       "      <td id=\"T_e52c3_row12_col0\" class=\"data row12 col0\" >276</td>\n",
       "      <td id=\"T_e52c3_row12_col1\" class=\"data row12 col1\" >1.7027%</td>\n",
       "    </tr>\n",
       "    <tr>\n",
       "      <th id=\"T_e52c3_level0_row13\" class=\"row_heading level0 row13\" >13</th>\n",
       "      <td id=\"T_e52c3_row13_col0\" class=\"data row13 col0\" >305</td>\n",
       "      <td id=\"T_e52c3_row13_col1\" class=\"data row13 col1\" >1.6917%</td>\n",
       "    </tr>\n",
       "    <tr>\n",
       "      <th id=\"T_e52c3_level0_row14\" class=\"row_heading level0 row14\" >14</th>\n",
       "      <td id=\"T_e52c3_row14_col0\" class=\"data row14 col0\" >335</td>\n",
       "      <td id=\"T_e52c3_row14_col1\" class=\"data row14 col1\" >1.6820%</td>\n",
       "    </tr>\n",
       "    <tr>\n",
       "      <th id=\"T_e52c3_level0_row15\" class=\"row_heading level0 row15\" >15</th>\n",
       "      <td id=\"T_e52c3_row15_col0\" class=\"data row15 col0\" >367</td>\n",
       "      <td id=\"T_e52c3_row15_col1\" class=\"data row15 col1\" >1.6722%</td>\n",
       "    </tr>\n",
       "    <tr>\n",
       "      <th id=\"T_e52c3_level0_row16\" class=\"row_heading level0 row16\" >16</th>\n",
       "      <td id=\"T_e52c3_row16_col0\" class=\"data row16 col0\" >549</td>\n",
       "      <td id=\"T_e52c3_row16_col1\" class=\"data row16 col1\" >1.6207%</td>\n",
       "    </tr>\n",
       "    <tr>\n",
       "      <th id=\"T_e52c3_level0_row17\" class=\"row_heading level0 row17\" >17</th>\n",
       "      <td id=\"T_e52c3_row17_col0\" class=\"data row17 col0\" >731</td>\n",
       "      <td id=\"T_e52c3_row17_col1\" class=\"data row17 col1\" >1.5947%</td>\n",
       "    </tr>\n",
       "    <tr>\n",
       "      <th id=\"T_e52c3_level0_row18\" class=\"row_heading level0 row18\" >18</th>\n",
       "      <td id=\"T_e52c3_row18_col0\" class=\"data row18 col0\" >1,096</td>\n",
       "      <td id=\"T_e52c3_row18_col1\" class=\"data row18 col1\" >1.5788%</td>\n",
       "    </tr>\n",
       "    <tr>\n",
       "      <th id=\"T_e52c3_level0_row19\" class=\"row_heading level0 row19\" >19</th>\n",
       "      <td id=\"T_e52c3_row19_col0\" class=\"data row19 col0\" >1,461</td>\n",
       "      <td id=\"T_e52c3_row19_col1\" class=\"data row19 col1\" >1.5906%</td>\n",
       "    </tr>\n",
       "    <tr>\n",
       "      <th id=\"T_e52c3_level0_row20\" class=\"row_heading level0 row20\" >20</th>\n",
       "      <td id=\"T_e52c3_row20_col0\" class=\"data row20 col0\" >1,827</td>\n",
       "      <td id=\"T_e52c3_row20_col1\" class=\"data row20 col1\" >1.6190%</td>\n",
       "    </tr>\n",
       "    <tr>\n",
       "      <th id=\"T_e52c3_level0_row21\" class=\"row_heading level0 row21\" >21</th>\n",
       "      <td id=\"T_e52c3_row21_col0\" class=\"data row21 col0\" >2,558</td>\n",
       "      <td id=\"T_e52c3_row21_col1\" class=\"data row21 col1\" >1.7028%</td>\n",
       "    </tr>\n",
       "    <tr>\n",
       "      <th id=\"T_e52c3_level0_row22\" class=\"row_heading level0 row22\" >22</th>\n",
       "      <td id=\"T_e52c3_row22_col0\" class=\"data row22 col0\" >3,653</td>\n",
       "      <td id=\"T_e52c3_row22_col1\" class=\"data row22 col1\" >1.8533%</td>\n",
       "    </tr>\n",
       "    <tr>\n",
       "      <th id=\"T_e52c3_level0_row23\" class=\"row_heading level0 row23\" >23</th>\n",
       "      <td id=\"T_e52c3_row23_col0\" class=\"data row23 col0\" >4,385</td>\n",
       "      <td id=\"T_e52c3_row23_col1\" class=\"data row23 col1\" >1.9547%</td>\n",
       "    </tr>\n",
       "    <tr>\n",
       "      <th id=\"T_e52c3_level0_row24\" class=\"row_heading level0 row24\" >24</th>\n",
       "      <td id=\"T_e52c3_row24_col0\" class=\"data row24 col0\" >5,479</td>\n",
       "      <td id=\"T_e52c3_row24_col1\" class=\"data row24 col1\" >2.0893%</td>\n",
       "    </tr>\n",
       "    <tr>\n",
       "      <th id=\"T_e52c3_level0_row25\" class=\"row_heading level0 row25\" >25</th>\n",
       "      <td id=\"T_e52c3_row25_col0\" class=\"data row25 col0\" >7,305</td>\n",
       "      <td id=\"T_e52c3_row25_col1\" class=\"data row25 col1\" >2.2831%</td>\n",
       "    </tr>\n",
       "    <tr>\n",
       "      <th id=\"T_e52c3_level0_row26\" class=\"row_heading level0 row26\" >26</th>\n",
       "      <td id=\"T_e52c3_row26_col0\" class=\"data row26 col0\" >9,132</td>\n",
       "      <td id=\"T_e52c3_row26_col1\" class=\"data row26 col1\" >2.4306%</td>\n",
       "    </tr>\n",
       "    <tr>\n",
       "      <th id=\"T_e52c3_level0_row27\" class=\"row_heading level0 row27\" >27</th>\n",
       "      <td id=\"T_e52c3_row27_col0\" class=\"data row27 col0\" >10,958</td>\n",
       "      <td id=\"T_e52c3_row27_col1\" class=\"data row27 col1\" >2.5576%</td>\n",
       "    </tr>\n",
       "  </tbody>\n",
       "</table>\n"
      ]
     },
     "execution_count": 447,
     "metadata": {},
     "output_type": "execute_result"
    }
   ],
   "execution_count": 447
  },
  {
   "cell_type": "markdown",
   "metadata": {},
   "source": [
    "Se encapasulará todo el procedimiento anterior en una función que dado un `DataFrame` construya un objeto `ZeroCouponCurve`."
   ]
  },
  {
   "cell_type": "code",
   "metadata": {
    "execution": {
     "iopub.execute_input": "2024-06-25T21:50:32.996263Z",
     "iopub.status.busy": "2024-06-25T21:50:32.995917Z",
     "iopub.status.idle": "2024-06-25T21:50:33.001903Z",
     "shell.execute_reply": "2024-06-25T21:50:33.001006Z",
     "shell.execute_reply.started": "2024-06-25T21:50:32.996234Z"
    },
    "ExecuteTime": {
     "end_time": "2025-08-25T14:34:54.544659Z",
     "start_time": "2025-08-25T14:34:54.542763Z"
    }
   },
   "source": [
    "def zcc_from_df(df: pd.DataFrame, tasa: qcf.QCInterestRate) -> qcf.ZeroCouponCurve:\n",
    "    lvec = qcf.long_vec()\n",
    "    vec = qcf.double_vec()\n",
    "    for t in df.itertuples():\n",
    "        lvec.append(int(t.plazo))\n",
    "        vec.append(t.tasa)\n",
    "    curva = qcf.QCCurve(lvec, vec)\n",
    "    lin = qcf.QCLinearInterpolator(curva)\n",
    "    return qcf.ZeroCouponCurve(lin, tasa)"
   ],
   "outputs": [],
   "execution_count": 448
  },
  {
   "cell_type": "code",
   "metadata": {
    "execution": {
     "iopub.execute_input": "2024-06-25T21:50:33.448339Z",
     "iopub.status.busy": "2024-06-25T21:50:33.447993Z",
     "iopub.status.idle": "2024-06-25T21:50:33.452533Z",
     "shell.execute_reply": "2024-06-25T21:50:33.451626Z",
     "shell.execute_reply.started": "2024-06-25T21:50:33.448311Z"
    },
    "ExecuteTime": {
     "end_time": "2025-08-25T14:34:54.564712Z",
     "start_time": "2025-08-25T14:34:54.562991Z"
    }
   },
   "source": [
    "zcc_usd = zcc_from_df(curva_usd, tasa)"
   ],
   "outputs": [],
   "execution_count": 449
  },
  {
   "cell_type": "markdown",
   "metadata": {},
   "source": [
    "Finalmente, una curva en CLF."
   ]
  },
  {
   "cell_type": "code",
   "metadata": {
    "execution": {
     "iopub.execute_input": "2024-06-25T21:50:34.400720Z",
     "iopub.status.busy": "2024-06-25T21:50:34.400377Z",
     "iopub.status.idle": "2024-06-25T21:50:34.421317Z",
     "shell.execute_reply": "2024-06-25T21:50:34.420385Z",
     "shell.execute_reply.started": "2024-06-25T21:50:34.400691Z"
    },
    "ExecuteTime": {
     "end_time": "2025-08-25T14:34:54.585583Z",
     "start_time": "2025-08-25T14:34:54.578460Z"
    }
   },
   "source": [
    "curva_clf = pd.read_excel(\"./input/curva_clf.xlsx\")\n",
    "curva_clf.style.format(format_dict)"
   ],
   "outputs": [
    {
     "data": {
      "text/plain": [
       "<pandas.io.formats.style.Styler at 0x10bea9f90>"
      ],
      "text/html": [
       "<style type=\"text/css\">\n",
       "</style>\n",
       "<table id=\"T_49929\">\n",
       "  <thead>\n",
       "    <tr>\n",
       "      <th class=\"blank level0\" >&nbsp;</th>\n",
       "      <th id=\"T_49929_level0_col0\" class=\"col_heading level0 col0\" >plazo</th>\n",
       "      <th id=\"T_49929_level0_col1\" class=\"col_heading level0 col1\" >tasa</th>\n",
       "    </tr>\n",
       "  </thead>\n",
       "  <tbody>\n",
       "    <tr>\n",
       "      <th id=\"T_49929_level0_row0\" class=\"row_heading level0 row0\" >0</th>\n",
       "      <td id=\"T_49929_row0_col0\" class=\"data row0 col0\" >1</td>\n",
       "      <td id=\"T_49929_row0_col1\" class=\"data row0 col1\" >-5.6780%</td>\n",
       "    </tr>\n",
       "    <tr>\n",
       "      <th id=\"T_49929_level0_row1\" class=\"row_heading level0 row1\" >1</th>\n",
       "      <td id=\"T_49929_row1_col0\" class=\"data row1 col0\" >4</td>\n",
       "      <td id=\"T_49929_row1_col1\" class=\"data row1 col1\" >-5.6744%</td>\n",
       "    </tr>\n",
       "    <tr>\n",
       "      <th id=\"T_49929_level0_row2\" class=\"row_heading level0 row2\" >2</th>\n",
       "      <td id=\"T_49929_row2_col0\" class=\"data row2 col0\" >35</td>\n",
       "      <td id=\"T_49929_row2_col1\" class=\"data row2 col1\" >-0.9340%</td>\n",
       "    </tr>\n",
       "    <tr>\n",
       "      <th id=\"T_49929_level0_row3\" class=\"row_heading level0 row3\" >3</th>\n",
       "      <td id=\"T_49929_row3_col0\" class=\"data row3 col0\" >64</td>\n",
       "      <td id=\"T_49929_row3_col1\" class=\"data row3 col1\" >-2.1183%</td>\n",
       "    </tr>\n",
       "    <tr>\n",
       "      <th id=\"T_49929_level0_row4\" class=\"row_heading level0 row4\" >4</th>\n",
       "      <td id=\"T_49929_row4_col0\" class=\"data row4 col0\" >96</td>\n",
       "      <td id=\"T_49929_row4_col1\" class=\"data row4 col1\" >-2.0079%</td>\n",
       "    </tr>\n",
       "    <tr>\n",
       "      <th id=\"T_49929_level0_row5\" class=\"row_heading level0 row5\" >5</th>\n",
       "      <td id=\"T_49929_row5_col0\" class=\"data row5 col0\" >126</td>\n",
       "      <td id=\"T_49929_row5_col1\" class=\"data row5 col1\" >-2.0762%</td>\n",
       "    </tr>\n",
       "    <tr>\n",
       "      <th id=\"T_49929_level0_row6\" class=\"row_heading level0 row6\" >6</th>\n",
       "      <td id=\"T_49929_row6_col0\" class=\"data row6 col0\" >155</td>\n",
       "      <td id=\"T_49929_row6_col1\" class=\"data row6 col1\" >-1.9197%</td>\n",
       "    </tr>\n",
       "    <tr>\n",
       "      <th id=\"T_49929_level0_row7\" class=\"row_heading level0 row7\" >7</th>\n",
       "      <td id=\"T_49929_row7_col0\" class=\"data row7 col0\" >188</td>\n",
       "      <td id=\"T_49929_row7_col1\" class=\"data row7 col1\" >-1.9347%</td>\n",
       "    </tr>\n",
       "    <tr>\n",
       "      <th id=\"T_49929_level0_row8\" class=\"row_heading level0 row8\" >8</th>\n",
       "      <td id=\"T_49929_row8_col0\" class=\"data row8 col0\" >218</td>\n",
       "      <td id=\"T_49929_row8_col1\" class=\"data row8 col1\" >-1.7626%</td>\n",
       "    </tr>\n",
       "    <tr>\n",
       "      <th id=\"T_49929_level0_row9\" class=\"row_heading level0 row9\" >9</th>\n",
       "      <td id=\"T_49929_row9_col0\" class=\"data row9 col0\" >249</td>\n",
       "      <td id=\"T_49929_row9_col1\" class=\"data row9 col1\" >-1.7987%</td>\n",
       "    </tr>\n",
       "    <tr>\n",
       "      <th id=\"T_49929_level0_row10\" class=\"row_heading level0 row10\" >10</th>\n",
       "      <td id=\"T_49929_row10_col0\" class=\"data row10 col0\" >279</td>\n",
       "      <td id=\"T_49929_row10_col1\" class=\"data row10 col1\" >-1.9335%</td>\n",
       "    </tr>\n",
       "    <tr>\n",
       "      <th id=\"T_49929_level0_row11\" class=\"row_heading level0 row11\" >11</th>\n",
       "      <td id=\"T_49929_row11_col0\" class=\"data row11 col0\" >309</td>\n",
       "      <td id=\"T_49929_row11_col1\" class=\"data row11 col1\" >-1.8159%</td>\n",
       "    </tr>\n",
       "    <tr>\n",
       "      <th id=\"T_49929_level0_row12\" class=\"row_heading level0 row12\" >12</th>\n",
       "      <td id=\"T_49929_row12_col0\" class=\"data row12 col0\" >341</td>\n",
       "      <td id=\"T_49929_row12_col1\" class=\"data row12 col1\" >-1.5940%</td>\n",
       "    </tr>\n",
       "    <tr>\n",
       "      <th id=\"T_49929_level0_row13\" class=\"row_heading level0 row13\" >13</th>\n",
       "      <td id=\"T_49929_row13_col0\" class=\"data row13 col0\" >369</td>\n",
       "      <td id=\"T_49929_row13_col1\" class=\"data row13 col1\" >-1.5994%</td>\n",
       "    </tr>\n",
       "    <tr>\n",
       "      <th id=\"T_49929_level0_row14\" class=\"row_heading level0 row14\" >14</th>\n",
       "      <td id=\"T_49929_row14_col0\" class=\"data row14 col0\" >400</td>\n",
       "      <td id=\"T_49929_row14_col1\" class=\"data row14 col1\" >-1.5068%</td>\n",
       "    </tr>\n",
       "    <tr>\n",
       "      <th id=\"T_49929_level0_row15\" class=\"row_heading level0 row15\" >15</th>\n",
       "      <td id=\"T_49929_row15_col0\" class=\"data row15 col0\" >428</td>\n",
       "      <td id=\"T_49929_row15_col1\" class=\"data row15 col1\" >-1.6115%</td>\n",
       "    </tr>\n",
       "    <tr>\n",
       "      <th id=\"T_49929_level0_row16\" class=\"row_heading level0 row16\" >16</th>\n",
       "      <td id=\"T_49929_row16_col0\" class=\"data row16 col0\" >461</td>\n",
       "      <td id=\"T_49929_row16_col1\" class=\"data row16 col1\" >-1.5923%</td>\n",
       "    </tr>\n",
       "    <tr>\n",
       "      <th id=\"T_49929_level0_row17\" class=\"row_heading level0 row17\" >17</th>\n",
       "      <td id=\"T_49929_row17_col0\" class=\"data row17 col0\" >491</td>\n",
       "      <td id=\"T_49929_row17_col1\" class=\"data row17 col1\" >-1.5780%</td>\n",
       "    </tr>\n",
       "    <tr>\n",
       "      <th id=\"T_49929_level0_row18\" class=\"row_heading level0 row18\" >18</th>\n",
       "      <td id=\"T_49929_row18_col0\" class=\"data row18 col0\" >522</td>\n",
       "      <td id=\"T_49929_row18_col1\" class=\"data row18 col1\" >-1.5186%</td>\n",
       "    </tr>\n",
       "    <tr>\n",
       "      <th id=\"T_49929_level0_row19\" class=\"row_heading level0 row19\" >19</th>\n",
       "      <td id=\"T_49929_row19_col0\" class=\"data row19 col0\" >553</td>\n",
       "      <td id=\"T_49929_row19_col1\" class=\"data row19 col1\" >-1.5533%</td>\n",
       "    </tr>\n",
       "    <tr>\n",
       "      <th id=\"T_49929_level0_row20\" class=\"row_heading level0 row20\" >20</th>\n",
       "      <td id=\"T_49929_row20_col0\" class=\"data row20 col0\" >582</td>\n",
       "      <td id=\"T_49929_row20_col1\" class=\"data row20 col1\" >-1.5649%</td>\n",
       "    </tr>\n",
       "    <tr>\n",
       "      <th id=\"T_49929_level0_row21\" class=\"row_heading level0 row21\" >21</th>\n",
       "      <td id=\"T_49929_row21_col0\" class=\"data row21 col0\" >734</td>\n",
       "      <td id=\"T_49929_row21_col1\" class=\"data row21 col1\" >-1.6594%</td>\n",
       "    </tr>\n",
       "    <tr>\n",
       "      <th id=\"T_49929_level0_row22\" class=\"row_heading level0 row22\" >22</th>\n",
       "      <td id=\"T_49929_row22_col0\" class=\"data row22 col0\" >1,099</td>\n",
       "      <td id=\"T_49929_row22_col1\" class=\"data row22 col1\" >-1.4881%</td>\n",
       "    </tr>\n",
       "    <tr>\n",
       "      <th id=\"T_49929_level0_row23\" class=\"row_heading level0 row23\" >23</th>\n",
       "      <td id=\"T_49929_row23_col0\" class=\"data row23 col0\" >1,465</td>\n",
       "      <td id=\"T_49929_row23_col1\" class=\"data row23 col1\" >-1.2740%</td>\n",
       "    </tr>\n",
       "    <tr>\n",
       "      <th id=\"T_49929_level0_row24\" class=\"row_heading level0 row24\" >24</th>\n",
       "      <td id=\"T_49929_row24_col0\" class=\"data row24 col0\" >1,830</td>\n",
       "      <td id=\"T_49929_row24_col1\" class=\"data row24 col1\" >-1.0201%</td>\n",
       "    </tr>\n",
       "    <tr>\n",
       "      <th id=\"T_49929_level0_row25\" class=\"row_heading level0 row25\" >25</th>\n",
       "      <td id=\"T_49929_row25_col0\" class=\"data row25 col0\" >2,195</td>\n",
       "      <td id=\"T_49929_row25_col1\" class=\"data row25 col1\" >-0.8009%</td>\n",
       "    </tr>\n",
       "    <tr>\n",
       "      <th id=\"T_49929_level0_row26\" class=\"row_heading level0 row26\" >26</th>\n",
       "      <td id=\"T_49929_row26_col0\" class=\"data row26 col0\" >2,560</td>\n",
       "      <td id=\"T_49929_row26_col1\" class=\"data row26 col1\" >-0.5868%</td>\n",
       "    </tr>\n",
       "    <tr>\n",
       "      <th id=\"T_49929_level0_row27\" class=\"row_heading level0 row27\" >27</th>\n",
       "      <td id=\"T_49929_row27_col0\" class=\"data row27 col0\" >2,926</td>\n",
       "      <td id=\"T_49929_row27_col1\" class=\"data row27 col1\" >-0.4145%</td>\n",
       "    </tr>\n",
       "    <tr>\n",
       "      <th id=\"T_49929_level0_row28\" class=\"row_heading level0 row28\" >28</th>\n",
       "      <td id=\"T_49929_row28_col0\" class=\"data row28 col0\" >3,291</td>\n",
       "      <td id=\"T_49929_row28_col1\" class=\"data row28 col1\" >-0.3047%</td>\n",
       "    </tr>\n",
       "    <tr>\n",
       "      <th id=\"T_49929_level0_row29\" class=\"row_heading level0 row29\" >29</th>\n",
       "      <td id=\"T_49929_row29_col0\" class=\"data row29 col0\" >3,656</td>\n",
       "      <td id=\"T_49929_row29_col1\" class=\"data row29 col1\" >-0.2242%</td>\n",
       "    </tr>\n",
       "    <tr>\n",
       "      <th id=\"T_49929_level0_row30\" class=\"row_heading level0 row30\" >30</th>\n",
       "      <td id=\"T_49929_row30_col0\" class=\"data row30 col0\" >4,387</td>\n",
       "      <td id=\"T_49929_row30_col1\" class=\"data row30 col1\" >-0.1871%</td>\n",
       "    </tr>\n",
       "    <tr>\n",
       "      <th id=\"T_49929_level0_row31\" class=\"row_heading level0 row31\" >31</th>\n",
       "      <td id=\"T_49929_row31_col0\" class=\"data row31 col0\" >5,482</td>\n",
       "      <td id=\"T_49929_row31_col1\" class=\"data row31 col1\" >-0.1056%</td>\n",
       "    </tr>\n",
       "    <tr>\n",
       "      <th id=\"T_49929_level0_row32\" class=\"row_heading level0 row32\" >32</th>\n",
       "      <td id=\"T_49929_row32_col0\" class=\"data row32 col0\" >7,309</td>\n",
       "      <td id=\"T_49929_row32_col1\" class=\"data row32 col1\" >-0.0639%</td>\n",
       "    </tr>\n",
       "  </tbody>\n",
       "</table>\n"
      ]
     },
     "execution_count": 450,
     "metadata": {},
     "output_type": "execute_result"
    }
   ],
   "execution_count": 450
  },
  {
   "cell_type": "code",
   "metadata": {
    "execution": {
     "iopub.execute_input": "2024-06-25T21:50:34.756743Z",
     "iopub.status.busy": "2024-06-25T21:50:34.756405Z",
     "iopub.status.idle": "2024-06-25T21:50:34.760948Z",
     "shell.execute_reply": "2024-06-25T21:50:34.760118Z",
     "shell.execute_reply.started": "2024-06-25T21:50:34.756715Z"
    },
    "ExecuteTime": {
     "end_time": "2025-08-25T14:34:54.621084Z",
     "start_time": "2025-08-25T14:34:54.619335Z"
    }
   },
   "source": [
    "zcc_clf = zcc_from_df(curva_clf, tasa)"
   ],
   "outputs": [],
   "execution_count": 451
  },
  {
   "cell_type": "code",
   "metadata": {
    "execution": {
     "iopub.execute_input": "2024-06-25T21:50:34.980501Z",
     "iopub.status.busy": "2024-06-25T21:50:34.980158Z",
     "iopub.status.idle": "2024-06-25T21:50:35.020130Z",
     "shell.execute_reply": "2024-06-25T21:50:35.019192Z",
     "shell.execute_reply.started": "2024-06-25T21:50:34.980472Z"
    },
    "ExecuteTime": {
     "end_time": "2025-08-25T14:34:54.659306Z",
     "start_time": "2025-08-25T14:34:54.646924Z"
    }
   },
   "source": [
    "curva_sofr = pd.read_excel(\"./input/sofr.xlsx\")\n",
    "curva_sofr.style.format(format_dict)"
   ],
   "outputs": [
    {
     "data": {
      "text/plain": [
       "<pandas.io.formats.style.Styler at 0x10bea9d10>"
      ],
      "text/html": [
       "<style type=\"text/css\">\n",
       "</style>\n",
       "<table id=\"T_9f5cc\">\n",
       "  <thead>\n",
       "    <tr>\n",
       "      <th class=\"blank level0\" >&nbsp;</th>\n",
       "      <th id=\"T_9f5cc_level0_col0\" class=\"col_heading level0 col0\" >curva</th>\n",
       "      <th id=\"T_9f5cc_level0_col1\" class=\"col_heading level0 col1\" >fecha</th>\n",
       "      <th id=\"T_9f5cc_level0_col2\" class=\"col_heading level0 col2\" >plazo</th>\n",
       "      <th id=\"T_9f5cc_level0_col3\" class=\"col_heading level0 col3\" >tasa</th>\n",
       "    </tr>\n",
       "  </thead>\n",
       "  <tbody>\n",
       "    <tr>\n",
       "      <th id=\"T_9f5cc_level0_row0\" class=\"row_heading level0 row0\" >0</th>\n",
       "      <td id=\"T_9f5cc_row0_col0\" class=\"data row0 col0\" >SOFR</td>\n",
       "      <td id=\"T_9f5cc_row0_col1\" class=\"data row0 col1\" >2024-06-11 00:00:00</td>\n",
       "      <td id=\"T_9f5cc_row0_col2\" class=\"data row0 col2\" >1</td>\n",
       "      <td id=\"T_9f5cc_row0_col3\" class=\"data row0 col3\" >5.3935%</td>\n",
       "    </tr>\n",
       "    <tr>\n",
       "      <th id=\"T_9f5cc_level0_row1\" class=\"row_heading level0 row1\" >1</th>\n",
       "      <td id=\"T_9f5cc_row1_col0\" class=\"data row1 col0\" >SOFR</td>\n",
       "      <td id=\"T_9f5cc_row1_col1\" class=\"data row1 col1\" >2024-06-11 00:00:00</td>\n",
       "      <td id=\"T_9f5cc_row1_col2\" class=\"data row1 col2\" >2</td>\n",
       "      <td id=\"T_9f5cc_row1_col3\" class=\"data row1 col3\" >5.3930%</td>\n",
       "    </tr>\n",
       "    <tr>\n",
       "      <th id=\"T_9f5cc_level0_row2\" class=\"row_heading level0 row2\" >2</th>\n",
       "      <td id=\"T_9f5cc_row2_col0\" class=\"data row2 col0\" >SOFR</td>\n",
       "      <td id=\"T_9f5cc_row2_col1\" class=\"data row2 col1\" >2024-06-11 00:00:00</td>\n",
       "      <td id=\"T_9f5cc_row2_col2\" class=\"data row2 col2\" >9</td>\n",
       "      <td id=\"T_9f5cc_row2_col3\" class=\"data row2 col3\" >5.3911%</td>\n",
       "    </tr>\n",
       "    <tr>\n",
       "      <th id=\"T_9f5cc_level0_row3\" class=\"row_heading level0 row3\" >3</th>\n",
       "      <td id=\"T_9f5cc_row3_col0\" class=\"data row3 col0\" >SOFR</td>\n",
       "      <td id=\"T_9f5cc_row3_col1\" class=\"data row3 col1\" >2024-06-11 00:00:00</td>\n",
       "      <td id=\"T_9f5cc_row3_col2\" class=\"data row3 col2\" >16</td>\n",
       "      <td id=\"T_9f5cc_row3_col3\" class=\"data row3 col3\" >5.3909%</td>\n",
       "    </tr>\n",
       "    <tr>\n",
       "      <th id=\"T_9f5cc_level0_row4\" class=\"row_heading level0 row4\" >4</th>\n",
       "      <td id=\"T_9f5cc_row4_col0\" class=\"data row4 col0\" >SOFR</td>\n",
       "      <td id=\"T_9f5cc_row4_col1\" class=\"data row4 col1\" >2024-06-11 00:00:00</td>\n",
       "      <td id=\"T_9f5cc_row4_col2\" class=\"data row4 col2\" >32</td>\n",
       "      <td id=\"T_9f5cc_row4_col3\" class=\"data row4 col3\" >5.3936%</td>\n",
       "    </tr>\n",
       "    <tr>\n",
       "      <th id=\"T_9f5cc_level0_row5\" class=\"row_heading level0 row5\" >5</th>\n",
       "      <td id=\"T_9f5cc_row5_col0\" class=\"data row5 col0\" >SOFR</td>\n",
       "      <td id=\"T_9f5cc_row5_col1\" class=\"data row5 col1\" >2024-06-11 00:00:00</td>\n",
       "      <td id=\"T_9f5cc_row5_col2\" class=\"data row5 col2\" >63</td>\n",
       "      <td id=\"T_9f5cc_row5_col3\" class=\"data row5 col3\" >5.3894%</td>\n",
       "    </tr>\n",
       "    <tr>\n",
       "      <th id=\"T_9f5cc_level0_row6\" class=\"row_heading level0 row6\" >6</th>\n",
       "      <td id=\"T_9f5cc_row6_col0\" class=\"data row6 col0\" >SOFR</td>\n",
       "      <td id=\"T_9f5cc_row6_col1\" class=\"data row6 col1\" >2024-06-11 00:00:00</td>\n",
       "      <td id=\"T_9f5cc_row6_col2\" class=\"data row6 col2\" >94</td>\n",
       "      <td id=\"T_9f5cc_row6_col3\" class=\"data row6 col3\" >5.3843%</td>\n",
       "    </tr>\n",
       "    <tr>\n",
       "      <th id=\"T_9f5cc_level0_row7\" class=\"row_heading level0 row7\" >7</th>\n",
       "      <td id=\"T_9f5cc_row7_col0\" class=\"data row7 col0\" >SOFR</td>\n",
       "      <td id=\"T_9f5cc_row7_col1\" class=\"data row7 col1\" >2024-06-11 00:00:00</td>\n",
       "      <td id=\"T_9f5cc_row7_col2\" class=\"data row7 col2\" >124</td>\n",
       "      <td id=\"T_9f5cc_row7_col3\" class=\"data row7 col3\" >5.3598%</td>\n",
       "    </tr>\n",
       "    <tr>\n",
       "      <th id=\"T_9f5cc_level0_row8\" class=\"row_heading level0 row8\" >8</th>\n",
       "      <td id=\"T_9f5cc_row8_col0\" class=\"data row8 col0\" >SOFR</td>\n",
       "      <td id=\"T_9f5cc_row8_col1\" class=\"data row8 col1\" >2024-06-11 00:00:00</td>\n",
       "      <td id=\"T_9f5cc_row8_col2\" class=\"data row8 col2\" >155</td>\n",
       "      <td id=\"T_9f5cc_row8_col3\" class=\"data row8 col3\" >5.3375%</td>\n",
       "    </tr>\n",
       "    <tr>\n",
       "      <th id=\"T_9f5cc_level0_row9\" class=\"row_heading level0 row9\" >9</th>\n",
       "      <td id=\"T_9f5cc_row9_col0\" class=\"data row9 col0\" >SOFR</td>\n",
       "      <td id=\"T_9f5cc_row9_col1\" class=\"data row9 col1\" >2024-06-11 00:00:00</td>\n",
       "      <td id=\"T_9f5cc_row9_col2\" class=\"data row9 col2\" >185</td>\n",
       "      <td id=\"T_9f5cc_row9_col3\" class=\"data row9 col3\" >5.3127%</td>\n",
       "    </tr>\n",
       "    <tr>\n",
       "      <th id=\"T_9f5cc_level0_row10\" class=\"row_heading level0 row10\" >10</th>\n",
       "      <td id=\"T_9f5cc_row10_col0\" class=\"data row10 col0\" >SOFR</td>\n",
       "      <td id=\"T_9f5cc_row10_col1\" class=\"data row10 col1\" >2024-06-11 00:00:00</td>\n",
       "      <td id=\"T_9f5cc_row10_col2\" class=\"data row10 col2\" >216</td>\n",
       "      <td id=\"T_9f5cc_row10_col3\" class=\"data row10 col3\" >5.2777%</td>\n",
       "    </tr>\n",
       "    <tr>\n",
       "      <th id=\"T_9f5cc_level0_row11\" class=\"row_heading level0 row11\" >11</th>\n",
       "      <td id=\"T_9f5cc_row11_col0\" class=\"data row11 col0\" >SOFR</td>\n",
       "      <td id=\"T_9f5cc_row11_col1\" class=\"data row11 col1\" >2024-06-11 00:00:00</td>\n",
       "      <td id=\"T_9f5cc_row11_col2\" class=\"data row11 col2\" >247</td>\n",
       "      <td id=\"T_9f5cc_row11_col3\" class=\"data row11 col3\" >5.2404%</td>\n",
       "    </tr>\n",
       "    <tr>\n",
       "      <th id=\"T_9f5cc_level0_row12\" class=\"row_heading level0 row12\" >12</th>\n",
       "      <td id=\"T_9f5cc_row12_col0\" class=\"data row12 col0\" >SOFR</td>\n",
       "      <td id=\"T_9f5cc_row12_col1\" class=\"data row12 col1\" >2024-06-11 00:00:00</td>\n",
       "      <td id=\"T_9f5cc_row12_col2\" class=\"data row12 col2\" >275</td>\n",
       "      <td id=\"T_9f5cc_row12_col3\" class=\"data row12 col3\" >5.2070%</td>\n",
       "    </tr>\n",
       "    <tr>\n",
       "      <th id=\"T_9f5cc_level0_row13\" class=\"row_heading level0 row13\" >13</th>\n",
       "      <td id=\"T_9f5cc_row13_col0\" class=\"data row13 col0\" >SOFR</td>\n",
       "      <td id=\"T_9f5cc_row13_col1\" class=\"data row13 col1\" >2024-06-11 00:00:00</td>\n",
       "      <td id=\"T_9f5cc_row13_col2\" class=\"data row13 col2\" >367</td>\n",
       "      <td id=\"T_9f5cc_row13_col3\" class=\"data row13 col3\" >5.0882%</td>\n",
       "    </tr>\n",
       "    <tr>\n",
       "      <th id=\"T_9f5cc_level0_row14\" class=\"row_heading level0 row14\" >14</th>\n",
       "      <td id=\"T_9f5cc_row14_col0\" class=\"data row14 col0\" >SOFR</td>\n",
       "      <td id=\"T_9f5cc_row14_col1\" class=\"data row14 col1\" >2024-06-11 00:00:00</td>\n",
       "      <td id=\"T_9f5cc_row14_col2\" class=\"data row14 col2\" >550</td>\n",
       "      <td id=\"T_9f5cc_row14_col3\" class=\"data row14 col3\" >4.8542%</td>\n",
       "    </tr>\n",
       "    <tr>\n",
       "      <th id=\"T_9f5cc_level0_row15\" class=\"row_heading level0 row15\" >15</th>\n",
       "      <td id=\"T_9f5cc_row15_col0\" class=\"data row15 col0\" >SOFR</td>\n",
       "      <td id=\"T_9f5cc_row15_col1\" class=\"data row15 col1\" >2024-06-11 00:00:00</td>\n",
       "      <td id=\"T_9f5cc_row15_col2\" class=\"data row15 col2\" >732</td>\n",
       "      <td id=\"T_9f5cc_row15_col3\" class=\"data row15 col3\" >4.6727%</td>\n",
       "    </tr>\n",
       "    <tr>\n",
       "      <th id=\"T_9f5cc_level0_row16\" class=\"row_heading level0 row16\" >16</th>\n",
       "      <td id=\"T_9f5cc_row16_col0\" class=\"data row16 col0\" >SOFR</td>\n",
       "      <td id=\"T_9f5cc_row16_col1\" class=\"data row16 col1\" >2024-06-11 00:00:00</td>\n",
       "      <td id=\"T_9f5cc_row16_col2\" class=\"data row16 col2\" >1,097</td>\n",
       "      <td id=\"T_9f5cc_row16_col3\" class=\"data row16 col3\" >4.4059%</td>\n",
       "    </tr>\n",
       "    <tr>\n",
       "      <th id=\"T_9f5cc_level0_row17\" class=\"row_heading level0 row17\" >17</th>\n",
       "      <td id=\"T_9f5cc_row17_col0\" class=\"data row17 col0\" >SOFR</td>\n",
       "      <td id=\"T_9f5cc_row17_col1\" class=\"data row17 col1\" >2024-06-11 00:00:00</td>\n",
       "      <td id=\"T_9f5cc_row17_col2\" class=\"data row17 col2\" >1,463</td>\n",
       "      <td id=\"T_9f5cc_row17_col3\" class=\"data row17 col3\" >4.2398%</td>\n",
       "    </tr>\n",
       "    <tr>\n",
       "      <th id=\"T_9f5cc_level0_row18\" class=\"row_heading level0 row18\" >18</th>\n",
       "      <td id=\"T_9f5cc_row18_col0\" class=\"data row18 col0\" >SOFR</td>\n",
       "      <td id=\"T_9f5cc_row18_col1\" class=\"data row18 col1\" >2024-06-11 00:00:00</td>\n",
       "      <td id=\"T_9f5cc_row18_col2\" class=\"data row18 col2\" >1,828</td>\n",
       "      <td id=\"T_9f5cc_row18_col3\" class=\"data row18 col3\" >4.1384%</td>\n",
       "    </tr>\n",
       "    <tr>\n",
       "      <th id=\"T_9f5cc_level0_row19\" class=\"row_heading level0 row19\" >19</th>\n",
       "      <td id=\"T_9f5cc_row19_col0\" class=\"data row19 col0\" >SOFR</td>\n",
       "      <td id=\"T_9f5cc_row19_col1\" class=\"data row19 col1\" >2024-06-11 00:00:00</td>\n",
       "      <td id=\"T_9f5cc_row19_col2\" class=\"data row19 col2\" >2,193</td>\n",
       "      <td id=\"T_9f5cc_row19_col3\" class=\"data row19 col3\" >4.0790%</td>\n",
       "    </tr>\n",
       "    <tr>\n",
       "      <th id=\"T_9f5cc_level0_row20\" class=\"row_heading level0 row20\" >20</th>\n",
       "      <td id=\"T_9f5cc_row20_col0\" class=\"data row20 col0\" >SOFR</td>\n",
       "      <td id=\"T_9f5cc_row20_col1\" class=\"data row20 col1\" >2024-06-11 00:00:00</td>\n",
       "      <td id=\"T_9f5cc_row20_col2\" class=\"data row20 col2\" >2,558</td>\n",
       "      <td id=\"T_9f5cc_row20_col3\" class=\"data row20 col3\" >4.0405%</td>\n",
       "    </tr>\n",
       "    <tr>\n",
       "      <th id=\"T_9f5cc_level0_row21\" class=\"row_heading level0 row21\" >21</th>\n",
       "      <td id=\"T_9f5cc_row21_col0\" class=\"data row21 col0\" >SOFR</td>\n",
       "      <td id=\"T_9f5cc_row21_col1\" class=\"data row21 col1\" >2024-06-11 00:00:00</td>\n",
       "      <td id=\"T_9f5cc_row21_col2\" class=\"data row21 col2\" >2,924</td>\n",
       "      <td id=\"T_9f5cc_row21_col3\" class=\"data row21 col3\" >4.0173%</td>\n",
       "    </tr>\n",
       "    <tr>\n",
       "      <th id=\"T_9f5cc_level0_row22\" class=\"row_heading level0 row22\" >22</th>\n",
       "      <td id=\"T_9f5cc_row22_col0\" class=\"data row22 col0\" >SOFR</td>\n",
       "      <td id=\"T_9f5cc_row22_col1\" class=\"data row22 col1\" >2024-06-11 00:00:00</td>\n",
       "      <td id=\"T_9f5cc_row22_col2\" class=\"data row22 col2\" >3,289</td>\n",
       "      <td id=\"T_9f5cc_row22_col3\" class=\"data row22 col3\" >4.0022%</td>\n",
       "    </tr>\n",
       "    <tr>\n",
       "      <th id=\"T_9f5cc_level0_row23\" class=\"row_heading level0 row23\" >23</th>\n",
       "      <td id=\"T_9f5cc_row23_col0\" class=\"data row23 col0\" >SOFR</td>\n",
       "      <td id=\"T_9f5cc_row23_col1\" class=\"data row23 col1\" >2024-06-11 00:00:00</td>\n",
       "      <td id=\"T_9f5cc_row23_col2\" class=\"data row23 col2\" >3,654</td>\n",
       "      <td id=\"T_9f5cc_row23_col3\" class=\"data row23 col3\" >3.9939%</td>\n",
       "    </tr>\n",
       "    <tr>\n",
       "      <th id=\"T_9f5cc_level0_row24\" class=\"row_heading level0 row24\" >24</th>\n",
       "      <td id=\"T_9f5cc_row24_col0\" class=\"data row24 col0\" >SOFR</td>\n",
       "      <td id=\"T_9f5cc_row24_col1\" class=\"data row24 col1\" >2024-06-11 00:00:00</td>\n",
       "      <td id=\"T_9f5cc_row24_col2\" class=\"data row24 col2\" >4,385</td>\n",
       "      <td id=\"T_9f5cc_row24_col3\" class=\"data row24 col3\" >3.9904%</td>\n",
       "    </tr>\n",
       "    <tr>\n",
       "      <th id=\"T_9f5cc_level0_row25\" class=\"row_heading level0 row25\" >25</th>\n",
       "      <td id=\"T_9f5cc_row25_col0\" class=\"data row25 col0\" >SOFR</td>\n",
       "      <td id=\"T_9f5cc_row25_col1\" class=\"data row25 col1\" >2024-06-11 00:00:00</td>\n",
       "      <td id=\"T_9f5cc_row25_col2\" class=\"data row25 col2\" >5,480</td>\n",
       "      <td id=\"T_9f5cc_row25_col3\" class=\"data row25 col3\" >3.9912%</td>\n",
       "    </tr>\n",
       "    <tr>\n",
       "      <th id=\"T_9f5cc_level0_row26\" class=\"row_heading level0 row26\" >26</th>\n",
       "      <td id=\"T_9f5cc_row26_col0\" class=\"data row26 col0\" >SOFR</td>\n",
       "      <td id=\"T_9f5cc_row26_col1\" class=\"data row26 col1\" >2024-06-11 00:00:00</td>\n",
       "      <td id=\"T_9f5cc_row26_col2\" class=\"data row26 col2\" >7,307</td>\n",
       "      <td id=\"T_9f5cc_row26_col3\" class=\"data row26 col3\" >3.9428%</td>\n",
       "    </tr>\n",
       "    <tr>\n",
       "      <th id=\"T_9f5cc_level0_row27\" class=\"row_heading level0 row27\" >27</th>\n",
       "      <td id=\"T_9f5cc_row27_col0\" class=\"data row27 col0\" >SOFR</td>\n",
       "      <td id=\"T_9f5cc_row27_col1\" class=\"data row27 col1\" >2024-06-11 00:00:00</td>\n",
       "      <td id=\"T_9f5cc_row27_col2\" class=\"data row27 col2\" >9,133</td>\n",
       "      <td id=\"T_9f5cc_row27_col3\" class=\"data row27 col3\" >3.8068%</td>\n",
       "    </tr>\n",
       "    <tr>\n",
       "      <th id=\"T_9f5cc_level0_row28\" class=\"row_heading level0 row28\" >28</th>\n",
       "      <td id=\"T_9f5cc_row28_col0\" class=\"data row28 col0\" >SOFR</td>\n",
       "      <td id=\"T_9f5cc_row28_col1\" class=\"data row28 col1\" >2024-06-11 00:00:00</td>\n",
       "      <td id=\"T_9f5cc_row28_col2\" class=\"data row28 col2\" >10,959</td>\n",
       "      <td id=\"T_9f5cc_row28_col3\" class=\"data row28 col3\" >3.6594%</td>\n",
       "    </tr>\n",
       "  </tbody>\n",
       "</table>\n"
      ]
     },
     "execution_count": 452,
     "metadata": {},
     "output_type": "execute_result"
    }
   ],
   "execution_count": 452
  },
  {
   "cell_type": "code",
   "metadata": {
    "execution": {
     "iopub.execute_input": "2024-06-25T21:50:35.404712Z",
     "iopub.status.busy": "2024-06-25T21:50:35.404364Z",
     "iopub.status.idle": "2024-06-25T21:50:35.410930Z",
     "shell.execute_reply": "2024-06-25T21:50:35.410153Z",
     "shell.execute_reply.started": "2024-06-25T21:50:35.404680Z"
    },
    "ExecuteTime": {
     "end_time": "2025-08-25T14:34:54.700081Z",
     "start_time": "2025-08-25T14:34:54.697576Z"
    }
   },
   "source": [
    "zcc_sofr = zcc_from_df(curva_sofr, tasa)\n",
    "zcc_sofr.get_rate_at(10_959)"
   ],
   "outputs": [
    {
     "data": {
      "text/plain": [
       "0.0365940888755"
      ]
     },
     "execution_count": 453,
     "metadata": {},
     "output_type": "execute_result"
    }
   ],
   "execution_count": 453
  },
  {
   "cell_type": "code",
   "metadata": {
    "execution": {
     "iopub.execute_input": "2024-06-25T21:50:36.085080Z",
     "iopub.status.busy": "2024-06-25T21:50:36.084639Z",
     "iopub.status.idle": "2024-06-25T21:50:36.097472Z",
     "shell.execute_reply": "2024-06-25T21:50:36.096708Z",
     "shell.execute_reply.started": "2024-06-25T21:50:36.085049Z"
    },
    "ExecuteTime": {
     "end_time": "2025-08-25T14:34:54.752079Z",
     "start_time": "2025-08-25T14:34:54.748111Z"
    }
   },
   "source": [
    "curva_sol = {\n",
    "  \"curve_code\": \"CSOFR\",\n",
    "  \"type_of_rate\": \"CON_ACT/365\",\n",
    "  \"process_date\": \"2024-06-11\",\n",
    "  \"jacobians\": {},\n",
    "  \"values\": [\n",
    "    {\n",
    "      \"tenor\": \"2D\",\n",
    "      \"maturity\": 2,\n",
    "      \"rate\": 0.05393091948998677\n",
    "    },\n",
    "    {\n",
    "      \"tenor\": \"7D\",\n",
    "      \"maturity\": 9,\n",
    "      \"rate\": 0.05391149528761137\n",
    "    },\n",
    "    {\n",
    "      \"tenor\": \"14D\",\n",
    "      \"maturity\": 16,\n",
    "      \"rate\": 0.053909500139491626\n",
    "    },\n",
    "    {\n",
    "      \"tenor\": \"1M\",\n",
    "      \"maturity\": 34,\n",
    "      \"rate\": 0.05392893501738643\n",
    "    },\n",
    "    {\n",
    "      \"tenor\": \"2M\",\n",
    "      \"maturity\": 63,\n",
    "      \"rate\": 0.053894362943625894\n",
    "    },\n",
    "    {\n",
    "      \"tenor\": \"3M\",\n",
    "      \"maturity\": 94,\n",
    "      \"rate\": 0.053843482977097415\n",
    "    },\n",
    "    {\n",
    "      \"tenor\": \"4M\",\n",
    "      \"maturity\": 125,\n",
    "      \"rate\": 0.05359443451658483\n",
    "    },\n",
    "    {\n",
    "      \"tenor\": \"5M\",\n",
    "      \"maturity\": 155,\n",
    "      \"rate\": 0.05337515689463274\n",
    "    },\n",
    "    {\n",
    "      \"tenor\": \"6M\",\n",
    "      \"maturity\": 185,\n",
    "      \"rate\": 0.05312657866085667\n",
    "    },\n",
    "    {\n",
    "      \"tenor\": \"7M\",\n",
    "      \"maturity\": 216,\n",
    "      \"rate\": 0.052777204713019304\n",
    "    },\n",
    "    {\n",
    "      \"tenor\": \"8M\",\n",
    "      \"maturity\": 247,\n",
    "      \"rate\": 0.05240381230639302\n",
    "    },\n",
    "    {\n",
    "      \"tenor\": \"9M\",\n",
    "      \"maturity\": 275,\n",
    "      \"rate\": 0.0520700981638382\n",
    "    },\n",
    "    {\n",
    "      \"tenor\": \"1Y\",\n",
    "      \"maturity\": 367,\n",
    "      \"rate\": 0.05088167612943658\n",
    "    },\n",
    "    {\n",
    "      \"tenor\": \"18M\",\n",
    "      \"maturity\": 552,\n",
    "      \"rate\": 0.04852936930616741\n",
    "    },\n",
    "    {\n",
    "      \"tenor\": \"2Y\",\n",
    "      \"maturity\": 734,\n",
    "      \"rate\": 0.04659950874645961\n",
    "    },\n",
    "    {\n",
    "      \"tenor\": \"3Y\",\n",
    "      \"maturity\": 1098,\n",
    "      \"rate\": 0.04394041235592892\n",
    "    },\n",
    "    {\n",
    "      \"tenor\": \"4Y\",\n",
    "      \"maturity\": 1463,\n",
    "      \"rate\": 0.04231284987923743\n",
    "    },\n",
    "    {\n",
    "      \"tenor\": \"5Y\",\n",
    "      \"maturity\": 1828,\n",
    "      \"rate\": 0.041317554448529636\n",
    "    },\n",
    "    {\n",
    "      \"tenor\": \"6Y\",\n",
    "      \"maturity\": 2193,\n",
    "      \"rate\": 0.04073549138440949\n",
    "    },\n",
    "    {\n",
    "      \"tenor\": \"7Y\",\n",
    "      \"maturity\": 2558,\n",
    "      \"rate\": 0.04035917885531376\n",
    "    },\n",
    "    {\n",
    "      \"tenor\": \"8Y\",\n",
    "      \"maturity\": 2925,\n",
    "      \"rate\": 0.040119782655144265\n",
    "    },\n",
    "    {\n",
    "      \"tenor\": \"9Y\",\n",
    "      \"maturity\": 3289,\n",
    "      \"rate\": 0.039975186953621844\n",
    "    },\n",
    "    {\n",
    "      \"tenor\": \"10Y\",\n",
    "      \"maturity\": 3654,\n",
    "      \"rate\": 0.03989648083295584\n",
    "    },\n",
    "    {\n",
    "      \"tenor\": \"12Y\",\n",
    "      \"maturity\": 4385,\n",
    "      \"rate\": 0.03986864130635106\n",
    "    },\n",
    "    {\n",
    "      \"tenor\": \"15Y\",\n",
    "      \"maturity\": 5480,\n",
    "      \"rate\": 0.039884006370912016\n",
    "    },\n",
    "    {\n",
    "      \"tenor\": \"20Y\",\n",
    "      \"maturity\": 7307,\n",
    "      \"rate\": 0.03940855790321542\n",
    "    },\n",
    "    {\n",
    "      \"tenor\": \"25Y\",\n",
    "      \"maturity\": 9134,\n",
    "      \"rate\": 0.03804951829543225\n",
    "    },\n",
    "    {\n",
    "      \"tenor\": \"30Y\",\n",
    "      \"maturity\": 10961,\n",
    "      \"rate\": 0.036573592658114495\n",
    "    },\n",
    "    {\n",
    "      \"tenor\": \"40Y\",\n",
    "      \"maturity\": 14612,\n",
    "      \"rate\": 0.03329402953514909\n",
    "    },\n",
    "    {\n",
    "      \"tenor\": \"50Y\",\n",
    "      \"maturity\": 18264,\n",
    "      \"rate\": 0.029736924965687982\n",
    "    }\n",
    "  ]\n",
    "}"
   ],
   "outputs": [],
   "execution_count": 454
  },
  {
   "cell_type": "code",
   "metadata": {
    "execution": {
     "iopub.execute_input": "2024-06-25T21:50:36.499960Z",
     "iopub.status.busy": "2024-06-25T21:50:36.499342Z",
     "iopub.status.idle": "2024-06-25T21:50:36.503884Z",
     "shell.execute_reply": "2024-06-25T21:50:36.503059Z",
     "shell.execute_reply.started": "2024-06-25T21:50:36.499935Z"
    },
    "ExecuteTime": {
     "end_time": "2025-08-25T14:34:54.778915Z",
     "start_time": "2025-08-25T14:34:54.777017Z"
    }
   },
   "source": [
    "df_curva_sol = pd.DataFrame(curva_sol[\"values\"])"
   ],
   "outputs": [],
   "execution_count": 455
  },
  {
   "cell_type": "code",
   "metadata": {
    "execution": {
     "iopub.execute_input": "2024-06-25T21:50:36.903675Z",
     "iopub.status.busy": "2024-06-25T21:50:36.903304Z",
     "iopub.status.idle": "2024-06-25T21:50:36.908659Z",
     "shell.execute_reply": "2024-06-25T21:50:36.907780Z",
     "shell.execute_reply.started": "2024-06-25T21:50:36.903647Z"
    },
    "ExecuteTime": {
     "end_time": "2025-08-25T14:34:54.797909Z",
     "start_time": "2025-08-25T14:34:54.795949Z"
    }
   },
   "source": [
    "df_curva_sol.columns = ['tenor', 'plazo', 'tasa']\n",
    "zcc_sol = zcc_from_df(df_curva_sol, tasa)"
   ],
   "outputs": [],
   "execution_count": 456
  },
  {
   "cell_type": "markdown",
   "metadata": {},
   "source": [
    "#### Curvas para Sensibilidad"
   ]
  },
  {
   "cell_type": "markdown",
   "metadata": {},
   "source": [
    "Para calcular sensibilidad a la curva cero cupón, se define qué vértice de la curva se quiere desplazar y el monto en puntos básicos del desplazamiento."
   ]
  },
  {
   "cell_type": "code",
   "metadata": {
    "execution": {
     "iopub.execute_input": "2024-06-25T21:50:37.747694Z",
     "iopub.status.busy": "2024-06-25T21:50:37.747326Z",
     "iopub.status.idle": "2024-06-25T21:50:37.751616Z",
     "shell.execute_reply": "2024-06-25T21:50:37.750787Z",
     "shell.execute_reply.started": "2024-06-25T21:50:37.747662Z"
    },
    "ExecuteTime": {
     "end_time": "2025-08-25T14:34:54.827743Z",
     "start_time": "2025-08-25T14:34:54.826006Z"
    }
   },
   "source": [
    "vertice = 15\n",
    "bp = 1"
   ],
   "outputs": [],
   "execution_count": 457
  },
  {
   "cell_type": "markdown",
   "metadata": {},
   "source": [
    "Se construyen las curvas con ese vértice 1 punto básico más arriba y 1 punto básico más abajo. Para esto se define una función auxiliar."
   ]
  },
  {
   "cell_type": "code",
   "metadata": {
    "execution": {
     "iopub.execute_input": "2024-06-25T21:50:39.673066Z",
     "iopub.status.busy": "2024-06-25T21:50:39.672689Z",
     "iopub.status.idle": "2024-06-25T21:50:39.680780Z",
     "shell.execute_reply": "2024-06-25T21:50:39.679831Z",
     "shell.execute_reply.started": "2024-06-25T21:50:39.673034Z"
    },
    "ExecuteTime": {
     "end_time": "2025-08-25T14:34:54.852655Z",
     "start_time": "2025-08-25T14:34:54.850222Z"
    }
   },
   "source": [
    "def curvas_sens(\n",
    "    df: pd.DataFrame, \n",
    "    tasa: qcf.QCInterestRate, \n",
    "    vertice: int, \n",
    "    bp: float\n",
    ") -> tuple[qcf.ZeroCouponCurve, qcf.ZeroCouponCurve]:\n",
    "    bp /= 10_000\n",
    "    lvec = qcf.long_vec()\n",
    "    vec_sens_up = qcf.double_vec()\n",
    "    vec_sens_down = qcf.double_vec()\n",
    "    for t in df.itertuples():\n",
    "        lvec.append(int(t.plazo))\n",
    "        if t.Index == vertice:\n",
    "            vec_sens_up.append(t.tasa + bp)\n",
    "            vec_sens_down.append(t.tasa - bp)\n",
    "        else:\n",
    "            vec_sens_up.append(t.tasa)\n",
    "            vec_sens_down.append(t.tasa)\n",
    "\n",
    "    zcc_sens_up = qcf.QCCurve(lvec, vec_sens_up)\n",
    "    lin_sens_up = qcf.QCLinearInterpolator(zcc_sens_up)\n",
    "    zz_sens_up = qcf.ZeroCouponCurve(lin_sens_up, tasa)\n",
    "\n",
    "    zcc_sens_down = qcf.QCCurve(lvec, vec_sens_down)\n",
    "    lin_sens_down = qcf.QCLinearInterpolator(zcc_sens_down)\n",
    "    zz_sens_down = qcf.ZeroCouponCurve(lin_sens_down, tasa)\n",
    "    \n",
    "    return zz_sens_up, zz_sens_down"
   ],
   "outputs": [],
   "execution_count": 458
  },
  {
   "cell_type": "code",
   "metadata": {
    "execution": {
     "iopub.execute_input": "2024-06-25T21:50:40.122806Z",
     "iopub.status.busy": "2024-06-25T21:50:40.122468Z",
     "iopub.status.idle": "2024-06-25T21:50:40.128648Z",
     "shell.execute_reply": "2024-06-25T21:50:40.127808Z",
     "shell.execute_reply.started": "2024-06-25T21:50:40.122778Z"
    },
    "ExecuteTime": {
     "end_time": "2025-08-25T14:34:54.871311Z",
     "start_time": "2025-08-25T14:34:54.869336Z"
    }
   },
   "source": [
    "zcc_clp_up, zcc_clp_down = curvas_sens(curva_clp, tasa, vertice, bp)\n",
    "zcc_usd_up, zcc_usd_down = curvas_sens(curva_usd, tasa, vertice, bp)\n",
    "zcc_clf_up, zcc_clf_down = curvas_sens(curva_clf, tasa, vertice, bp)"
   ],
   "outputs": [],
   "execution_count": 459
  },
  {
   "cell_type": "markdown",
   "metadata": {},
   "source": [
    "### FixedRateCashflow Leg"
   ]
  },
  {
   "cell_type": "markdown",
   "metadata": {},
   "source": [
    "Se da de alta una pata fija:"
   ]
  },
  {
   "cell_type": "code",
   "metadata": {
    "execution": {
     "iopub.execute_input": "2024-06-25T21:50:41.776635Z",
     "iopub.status.busy": "2024-06-25T21:50:41.776267Z",
     "iopub.status.idle": "2024-06-25T21:50:41.783863Z",
     "shell.execute_reply": "2024-06-25T21:50:41.782937Z",
     "shell.execute_reply.started": "2024-06-25T21:50:41.776603Z"
    },
    "ExecuteTime": {
     "end_time": "2025-08-25T14:34:54.888441Z",
     "start_time": "2025-08-25T14:34:54.885739Z"
    }
   },
   "source": [
    "rp = qcf.RecPay.RECEIVE\n",
    "fecha_inicio = qcf.QCDate(13, 6, 2024)\n",
    "fecha_final = qcf.QCDate(13, 6, 2026)\n",
    "bus_adj_rule = qcf.BusyAdjRules.MODFOLLOW\n",
    "periodicidad = qcf.Tenor('12M')\n",
    "periodo_irregular = qcf.StubPeriod.SHORTFRONT\n",
    "calendario = qcf.BusinessCalendar(fecha_inicio, 20)\n",
    "lag_pago = 0\n",
    "nominal = 1_000_000.0\n",
    "amort_es_flujo = True\n",
    "valor_tasa_fija = 0.048864\n",
    "valor_tasa_fija = 0.047134\n",
    "tasa_cupon = qcf.QCInterestRate(\n",
    "    valor_tasa_fija, \n",
    "    qcf.QCAct360(), \n",
    "    qcf.QCLinearWf()\n",
    ")\n",
    "moneda = qcf.QCUSD()\n",
    "es_bono = False\n",
    "\n",
    "fixed_rate_leg = qcf.LegFactory.build_bullet_fixed_rate_leg(\n",
    "    rp,\n",
    "    fecha_inicio,\n",
    "    fecha_final,\n",
    "    bus_adj_rule,\n",
    "    periodicidad,\n",
    "    periodo_irregular,\n",
    "    calendario,\n",
    "    lag_pago,\n",
    "    nominal,\n",
    "    amort_es_flujo,\n",
    "    tasa_cupon,\n",
    "    moneda,\n",
    "    es_bono\n",
    ")"
   ],
   "outputs": [],
   "execution_count": 460
  },
  {
   "cell_type": "code",
   "metadata": {
    "execution": {
     "iopub.execute_input": "2024-06-25T21:50:44.510155Z",
     "iopub.status.busy": "2024-06-25T21:50:44.509813Z",
     "iopub.status.idle": "2024-06-25T21:50:44.520366Z",
     "shell.execute_reply": "2024-06-25T21:50:44.519504Z",
     "shell.execute_reply.started": "2024-06-25T21:50:44.510127Z"
    },
    "ExecuteTime": {
     "end_time": "2025-08-25T14:34:54.907507Z",
     "start_time": "2025-08-25T14:34:54.903821Z"
    }
   },
   "source": [
    "aux.leg_as_dataframe(fixed_rate_leg).style.format(format_dict)"
   ],
   "outputs": [
    {
     "data": {
      "text/plain": [
       "<pandas.io.formats.style.Styler at 0x10beaa5d0>"
      ],
      "text/html": [
       "<style type=\"text/css\">\n",
       "</style>\n",
       "<table id=\"T_024c6\">\n",
       "  <thead>\n",
       "    <tr>\n",
       "      <th class=\"blank level0\" >&nbsp;</th>\n",
       "      <th id=\"T_024c6_level0_col0\" class=\"col_heading level0 col0\" >fecha_inicial</th>\n",
       "      <th id=\"T_024c6_level0_col1\" class=\"col_heading level0 col1\" >fecha_final</th>\n",
       "      <th id=\"T_024c6_level0_col2\" class=\"col_heading level0 col2\" >fecha_pago</th>\n",
       "      <th id=\"T_024c6_level0_col3\" class=\"col_heading level0 col3\" >nocional</th>\n",
       "      <th id=\"T_024c6_level0_col4\" class=\"col_heading level0 col4\" >amortizacion</th>\n",
       "      <th id=\"T_024c6_level0_col5\" class=\"col_heading level0 col5\" >interes</th>\n",
       "      <th id=\"T_024c6_level0_col6\" class=\"col_heading level0 col6\" >amort_es_flujo</th>\n",
       "      <th id=\"T_024c6_level0_col7\" class=\"col_heading level0 col7\" >flujo</th>\n",
       "      <th id=\"T_024c6_level0_col8\" class=\"col_heading level0 col8\" >moneda_nocional</th>\n",
       "      <th id=\"T_024c6_level0_col9\" class=\"col_heading level0 col9\" >valor_tasa</th>\n",
       "      <th id=\"T_024c6_level0_col10\" class=\"col_heading level0 col10\" >tipo_tasa</th>\n",
       "    </tr>\n",
       "  </thead>\n",
       "  <tbody>\n",
       "    <tr>\n",
       "      <th id=\"T_024c6_level0_row0\" class=\"row_heading level0 row0\" >0</th>\n",
       "      <td id=\"T_024c6_row0_col0\" class=\"data row0 col0\" >2024-06-13</td>\n",
       "      <td id=\"T_024c6_row0_col1\" class=\"data row0 col1\" >2025-06-13</td>\n",
       "      <td id=\"T_024c6_row0_col2\" class=\"data row0 col2\" >2025-06-13</td>\n",
       "      <td id=\"T_024c6_row0_col3\" class=\"data row0 col3\" >1,000,000.00</td>\n",
       "      <td id=\"T_024c6_row0_col4\" class=\"data row0 col4\" >0.00</td>\n",
       "      <td id=\"T_024c6_row0_col5\" class=\"data row0 col5\" >47,788.64</td>\n",
       "      <td id=\"T_024c6_row0_col6\" class=\"data row0 col6\" >True</td>\n",
       "      <td id=\"T_024c6_row0_col7\" class=\"data row0 col7\" >47,788.64</td>\n",
       "      <td id=\"T_024c6_row0_col8\" class=\"data row0 col8\" >USD</td>\n",
       "      <td id=\"T_024c6_row0_col9\" class=\"data row0 col9\" >4.7134%</td>\n",
       "      <td id=\"T_024c6_row0_col10\" class=\"data row0 col10\" >LinAct360</td>\n",
       "    </tr>\n",
       "    <tr>\n",
       "      <th id=\"T_024c6_level0_row1\" class=\"row_heading level0 row1\" >1</th>\n",
       "      <td id=\"T_024c6_row1_col0\" class=\"data row1 col0\" >2025-06-13</td>\n",
       "      <td id=\"T_024c6_row1_col1\" class=\"data row1 col1\" >2026-06-15</td>\n",
       "      <td id=\"T_024c6_row1_col2\" class=\"data row1 col2\" >2026-06-15</td>\n",
       "      <td id=\"T_024c6_row1_col3\" class=\"data row1 col3\" >1,000,000.00</td>\n",
       "      <td id=\"T_024c6_row1_col4\" class=\"data row1 col4\" >1,000,000.00</td>\n",
       "      <td id=\"T_024c6_row1_col5\" class=\"data row1 col5\" >48,050.49</td>\n",
       "      <td id=\"T_024c6_row1_col6\" class=\"data row1 col6\" >True</td>\n",
       "      <td id=\"T_024c6_row1_col7\" class=\"data row1 col7\" >1,048,050.49</td>\n",
       "      <td id=\"T_024c6_row1_col8\" class=\"data row1 col8\" >USD</td>\n",
       "      <td id=\"T_024c6_row1_col9\" class=\"data row1 col9\" >4.7134%</td>\n",
       "      <td id=\"T_024c6_row1_col10\" class=\"data row1 col10\" >LinAct360</td>\n",
       "    </tr>\n",
       "  </tbody>\n",
       "</table>\n"
      ]
     },
     "execution_count": 461,
     "metadata": {},
     "output_type": "execute_result"
    }
   ],
   "execution_count": 461
  },
  {
   "cell_type": "markdown",
   "metadata": {},
   "source": [
    "Se calcula ahora el valor presente:"
   ]
  },
  {
   "cell_type": "code",
   "metadata": {
    "execution": {
     "iopub.execute_input": "2024-06-25T21:50:44.953360Z",
     "iopub.status.busy": "2024-06-25T21:50:44.953017Z",
     "iopub.status.idle": "2024-06-25T21:50:44.958772Z",
     "shell.execute_reply": "2024-06-25T21:50:44.958051Z",
     "shell.execute_reply.started": "2024-06-25T21:50:44.953331Z"
    },
    "ExecuteTime": {
     "end_time": "2025-08-25T14:34:54.939338Z",
     "start_time": "2025-08-25T14:34:54.937246Z"
    }
   },
   "source": [
    "vp_fija = pv.pv(fecha_val:=qcf.QCDate(11, 6, 2024), fixed_rate_leg, zcc_sofr)\n",
    "dias = fecha_val.day_diff(qcf.QCDate(13, 6, 2024))\n",
    "print(f\"Días: {dias}\")\n",
    "print(f\"Valor presente de la pata fija es: {vp_fija / zcc_sofr.get_discount_factor_at(dias) :,.0f}\")"
   ],
   "outputs": [
    {
     "name": "stdout",
     "output_type": "stream",
     "text": [
      "Días: 2\n",
      "Valor presente de la pata fija es: 999,784\n"
     ]
    }
   ],
   "execution_count": 462
  },
  {
   "cell_type": "markdown",
   "metadata": {},
   "source": [
    "Al calcular el valor presente, también se calculan las derivadas del valor presente respecto a cada uno de los vértices de la curva."
   ]
  },
  {
   "cell_type": "code",
   "metadata": {
    "execution": {
     "iopub.execute_input": "2024-06-25T21:50:45.369765Z",
     "iopub.status.busy": "2024-06-25T21:50:45.369428Z",
     "iopub.status.idle": "2024-06-25T21:50:45.373669Z",
     "shell.execute_reply": "2024-06-25T21:50:45.372861Z",
     "shell.execute_reply.started": "2024-06-25T21:50:45.369736Z"
    },
    "ExecuteTime": {
     "end_time": "2025-08-25T14:34:54.986532Z",
     "start_time": "2025-08-25T14:34:54.985087Z"
    }
   },
   "source": [
    "der = pv.get_derivatives()"
   ],
   "outputs": [],
   "execution_count": 463
  },
  {
   "cell_type": "markdown",
   "metadata": {},
   "source": [
    "Con esas derivadas, se puede calcular la sensibilidad a la curva cupón cero a un movimiento de 1 punto básico."
   ]
  },
  {
   "cell_type": "code",
   "metadata": {
    "execution": {
     "iopub.execute_input": "2024-06-25T21:50:46.051649Z",
     "iopub.status.busy": "2024-06-25T21:50:46.051288Z",
     "iopub.status.idle": "2024-06-25T21:50:46.057534Z",
     "shell.execute_reply": "2024-06-25T21:50:46.056754Z",
     "shell.execute_reply.started": "2024-06-25T21:50:46.051620Z"
    },
    "ExecuteTime": {
     "end_time": "2025-08-25T14:34:55.012279Z",
     "start_time": "2025-08-25T14:34:55.010023Z"
    }
   },
   "source": [
    "i = 0\n",
    "total = 0\n",
    "for d in der:\n",
    "    total += d * bp / 10_000\n",
    "    print(f\"Sensibilidad en {i}: {d * bp / 10_000:0,.0f}\")\n",
    "    i += 1\n",
    "print(f\"Sensibilidad total: {total:,.0f}\")"
   ],
   "outputs": [
    {
     "name": "stdout",
     "output_type": "stream",
     "text": [
      "Sensibilidad en 0: 0\n",
      "Sensibilidad en 1: 0\n",
      "Sensibilidad en 2: 0\n",
      "Sensibilidad en 3: 0\n",
      "Sensibilidad en 4: 0\n",
      "Sensibilidad en 5: 0\n",
      "Sensibilidad en 6: 0\n",
      "Sensibilidad en 7: 0\n",
      "Sensibilidad en 8: 0\n",
      "Sensibilidad en 9: 0\n",
      "Sensibilidad en 10: 0\n",
      "Sensibilidad en 11: 0\n",
      "Sensibilidad en 12: 0\n",
      "Sensibilidad en 13: -5\n",
      "Sensibilidad en 14: 0\n",
      "Sensibilidad en 15: -191\n",
      "Sensibilidad en 16: -1\n",
      "Sensibilidad en 17: 0\n",
      "Sensibilidad en 18: 0\n",
      "Sensibilidad en 19: 0\n",
      "Sensibilidad en 20: 0\n",
      "Sensibilidad en 21: 0\n",
      "Sensibilidad en 22: 0\n",
      "Sensibilidad en 23: 0\n",
      "Sensibilidad en 24: 0\n",
      "Sensibilidad en 25: 0\n",
      "Sensibilidad en 26: 0\n",
      "Sensibilidad en 27: 0\n",
      "Sensibilidad en 28: 0\n",
      "Sensibilidad total: -196\n"
     ]
    }
   ],
   "execution_count": 464
  },
  {
   "cell_type": "markdown",
   "metadata": {},
   "source": [
    "Se puede verificar la sensibilidad por diferencias finitas."
   ]
  },
  {
   "cell_type": "markdown",
   "metadata": {},
   "source": [
    "Se calcula el valor presente con las curvas desplazadas."
   ]
  },
  {
   "cell_type": "code",
   "metadata": {
    "execution": {
     "iopub.execute_input": "2024-06-25T21:50:47.076320Z",
     "iopub.status.busy": "2024-06-25T21:50:47.075656Z",
     "iopub.status.idle": "2024-06-25T21:50:47.081015Z",
     "shell.execute_reply": "2024-06-25T21:50:47.080097Z",
     "shell.execute_reply.started": "2024-06-25T21:50:47.076290Z"
    },
    "ExecuteTime": {
     "end_time": "2025-08-25T14:34:55.046688Z",
     "start_time": "2025-08-25T14:34:55.044688Z"
    }
   },
   "source": [
    "vp_fija_sens_up = pv.pv(fecha_hoy, fixed_rate_leg, zcc_usd_up)\n",
    "vp_fija_sens_down = pv.pv(fecha_hoy, fixed_rate_leg, zcc_usd_down)\n",
    "print(f\"Valor presente up de la pata fija es: {vp_fija_sens_up:,.4f}\")\n",
    "print(f\"Valor presente down de la pata fija es: {vp_fija_sens_down:,.4f}\")"
   ],
   "outputs": [
    {
     "name": "stdout",
     "output_type": "stream",
     "text": [
      "Valor presente up de la pata fija es: 1,056,008.6812\n",
      "Valor presente down de la pata fija es: 1,056,012.1915\n"
     ]
    }
   ],
   "execution_count": 465
  },
  {
   "cell_type": "markdown",
   "metadata": {},
   "source": [
    "Finalmente, se calcula la sensibilidad (usando la aproximación central por diferencias finitas)."
   ]
  },
  {
   "cell_type": "code",
   "metadata": {
    "execution": {
     "iopub.execute_input": "2024-06-25T21:50:47.936222Z",
     "iopub.status.busy": "2024-06-25T21:50:47.935883Z",
     "iopub.status.idle": "2024-06-25T21:50:47.940561Z",
     "shell.execute_reply": "2024-06-25T21:50:47.939772Z",
     "shell.execute_reply.started": "2024-06-25T21:50:47.936194Z"
    },
    "ExecuteTime": {
     "end_time": "2025-08-25T14:34:55.087341Z",
     "start_time": "2025-08-25T14:34:55.085495Z"
    }
   },
   "source": [
    "print(f\"Sensibilidad por diferencias finitas: {(vp_fija_sens_up - vp_fija_sens_down) / 2:,.0f}\")"
   ],
   "outputs": [
    {
     "name": "stdout",
     "output_type": "stream",
     "text": [
      "Sensibilidad por diferencias finitas: -2\n"
     ]
    }
   ],
   "execution_count": 466
  },
  {
   "cell_type": "markdown",
   "metadata": {
    "collapsed": false,
    "jupyter": {
     "outputs_hidden": false
    }
   },
   "source": [
    "### OvernightIndex Leg"
   ]
  },
  {
   "cell_type": "markdown",
   "metadata": {},
   "source": [
    "Se da de alta una pata OvernightIndex."
   ]
  },
  {
   "cell_type": "code",
   "metadata": {
    "collapsed": false,
    "execution": {
     "iopub.execute_input": "2024-06-25T21:51:45.427612Z",
     "iopub.status.busy": "2024-06-25T21:51:45.427254Z",
     "iopub.status.idle": "2024-06-25T21:51:45.435420Z",
     "shell.execute_reply": "2024-06-25T21:51:45.434394Z",
     "shell.execute_reply.started": "2024-06-25T21:51:45.427581Z"
    },
    "jupyter": {
     "outputs_hidden": false
    },
    "ExecuteTime": {
     "end_time": "2025-08-25T14:34:55.123956Z",
     "start_time": "2025-08-25T14:34:55.121090Z"
    }
   },
   "source": [
    "rp = qcf.RecPay.RECEIVE\n",
    "fecha_inicio = qcf.QCDate(10, 1, 2019)\n",
    "fecha_final = qcf.QCDate(10, 1, 2022)\n",
    "bus_adj_rule = qcf.BusyAdjRules.FOLLOW\n",
    "fix_adj_rule = qcf.BusyAdjRules.PREVIOUS\n",
    "dates_for_eq_rate = qcf.DatesForEquivalentRate.ACCRUAL\n",
    "periodicidad_pago = qcf.Tenor('6M')\n",
    "periodo_irregular_pago = qcf.StubPeriod.SHORTFRONT\n",
    "calendario = qcf.BusinessCalendar(fecha_inicio, 20)\n",
    "lag_pago = 0\n",
    "nominal = 38_000_000_000.0\n",
    "amort_es_flujo = True\n",
    "spread = .0\n",
    "gearing = 1.0\n",
    "\n",
    "overnight_index_leg = qcf.LegFactory.build_bullet_overnight_index_leg(\n",
    "    rec_pay=rp,\n",
    "    start_date=fecha_inicio,\n",
    "    end_date=fecha_final,\n",
    "    bus_adj_rule=bus_adj_rule,\n",
    "    fix_adj_rule=fix_adj_rule,\n",
    "    settlement_periodicity=periodicidad_pago,\n",
    "    settlement_stub_period=periodo_irregular_pago,\n",
    "    settlement_calendar=calendario,\n",
    "    fixing_calendar=calendario,\n",
    "    settlement_lag=lag_pago,\n",
    "    initial_notional=nominal,\n",
    "    amort_is_cashflow=amort_es_flujo,\n",
    "    spread=spread,\n",
    "    gearing=gearing,\n",
    "    interest_rate=qcf.QCInterestRate(0.0, qcf.QCAct360(), qcf.QCLinearWf()),\n",
    "    index_name='ICPCLP',\n",
    "    eq_rate_decimal_places=4,\n",
    "    notional_currency=qcf.QCCLP(),\n",
    "    dates_for_eq_rate=dates_for_eq_rate,\n",
    "    sett_lag_behaviour=qcf.SettLagBehaviour.DONT_MOVE,\n",
    ")"
   ],
   "outputs": [],
   "execution_count": 467
  },
  {
   "cell_type": "code",
   "metadata": {
    "collapsed": false,
    "execution": {
     "iopub.execute_input": "2024-06-25T21:51:46.842167Z",
     "iopub.status.busy": "2024-06-25T21:51:46.841817Z",
     "iopub.status.idle": "2024-06-25T21:51:46.855989Z",
     "shell.execute_reply": "2024-06-25T21:51:46.855097Z",
     "shell.execute_reply.started": "2024-06-25T21:51:46.842138Z"
    },
    "jupyter": {
     "outputs_hidden": false
    },
    "ExecuteTime": {
     "end_time": "2025-08-25T14:34:55.152591Z",
     "start_time": "2025-08-25T14:34:55.146960Z"
    }
   },
   "source": [
    "aux.leg_as_dataframe(overnight_index_leg).style.format(format_dict)"
   ],
   "outputs": [
    {
     "data": {
      "text/plain": [
       "<pandas.io.formats.style.Styler at 0x10bea96d0>"
      ],
      "text/html": [
       "<style type=\"text/css\">\n",
       "</style>\n",
       "<table id=\"T_a74d6\">\n",
       "  <thead>\n",
       "    <tr>\n",
       "      <th class=\"blank level0\" >&nbsp;</th>\n",
       "      <th id=\"T_a74d6_level0_col0\" class=\"col_heading level0 col0\" >fecha_inicial</th>\n",
       "      <th id=\"T_a74d6_level0_col1\" class=\"col_heading level0 col1\" >fecha_final</th>\n",
       "      <th id=\"T_a74d6_level0_col2\" class=\"col_heading level0 col2\" >fecha_inicial_indice</th>\n",
       "      <th id=\"T_a74d6_level0_col3\" class=\"col_heading level0 col3\" >fecha_final_indice</th>\n",
       "      <th id=\"T_a74d6_level0_col4\" class=\"col_heading level0 col4\" >fecha_pago</th>\n",
       "      <th id=\"T_a74d6_level0_col5\" class=\"col_heading level0 col5\" >nocional</th>\n",
       "      <th id=\"T_a74d6_level0_col6\" class=\"col_heading level0 col6\" >amortizacion</th>\n",
       "      <th id=\"T_a74d6_level0_col7\" class=\"col_heading level0 col7\" >amort_es_flujo</th>\n",
       "      <th id=\"T_a74d6_level0_col8\" class=\"col_heading level0 col8\" >moneda_nocional</th>\n",
       "      <th id=\"T_a74d6_level0_col9\" class=\"col_heading level0 col9\" >nombre_indice</th>\n",
       "      <th id=\"T_a74d6_level0_col10\" class=\"col_heading level0 col10\" >valor_indice_inicial</th>\n",
       "      <th id=\"T_a74d6_level0_col11\" class=\"col_heading level0 col11\" >valor_indice_final</th>\n",
       "      <th id=\"T_a74d6_level0_col12\" class=\"col_heading level0 col12\" >valor_tasa</th>\n",
       "      <th id=\"T_a74d6_level0_col13\" class=\"col_heading level0 col13\" >tipo_tasa</th>\n",
       "      <th id=\"T_a74d6_level0_col14\" class=\"col_heading level0 col14\" >interes</th>\n",
       "      <th id=\"T_a74d6_level0_col15\" class=\"col_heading level0 col15\" >flujo</th>\n",
       "      <th id=\"T_a74d6_level0_col16\" class=\"col_heading level0 col16\" >spread</th>\n",
       "      <th id=\"T_a74d6_level0_col17\" class=\"col_heading level0 col17\" >gearing</th>\n",
       "    </tr>\n",
       "  </thead>\n",
       "  <tbody>\n",
       "    <tr>\n",
       "      <th id=\"T_a74d6_level0_row0\" class=\"row_heading level0 row0\" >0</th>\n",
       "      <td id=\"T_a74d6_row0_col0\" class=\"data row0 col0\" >2019-01-10</td>\n",
       "      <td id=\"T_a74d6_row0_col1\" class=\"data row0 col1\" >2019-07-10</td>\n",
       "      <td id=\"T_a74d6_row0_col2\" class=\"data row0 col2\" >2019-01-10</td>\n",
       "      <td id=\"T_a74d6_row0_col3\" class=\"data row0 col3\" >2019-07-10</td>\n",
       "      <td id=\"T_a74d6_row0_col4\" class=\"data row0 col4\" >2019-07-10</td>\n",
       "      <td id=\"T_a74d6_row0_col5\" class=\"data row0 col5\" >38,000,000,000.00</td>\n",
       "      <td id=\"T_a74d6_row0_col6\" class=\"data row0 col6\" >0.00</td>\n",
       "      <td id=\"T_a74d6_row0_col7\" class=\"data row0 col7\" >True</td>\n",
       "      <td id=\"T_a74d6_row0_col8\" class=\"data row0 col8\" >CLP</td>\n",
       "      <td id=\"T_a74d6_row0_col9\" class=\"data row0 col9\" >ICPCLP</td>\n",
       "      <td id=\"T_a74d6_row0_col10\" class=\"data row0 col10\" >1.00</td>\n",
       "      <td id=\"T_a74d6_row0_col11\" class=\"data row0 col11\" >1.00</td>\n",
       "      <td id=\"T_a74d6_row0_col12\" class=\"data row0 col12\" >0.0000%</td>\n",
       "      <td id=\"T_a74d6_row0_col13\" class=\"data row0 col13\" >LinAct360</td>\n",
       "      <td id=\"T_a74d6_row0_col14\" class=\"data row0 col14\" >0.00</td>\n",
       "      <td id=\"T_a74d6_row0_col15\" class=\"data row0 col15\" >0.00</td>\n",
       "      <td id=\"T_a74d6_row0_col16\" class=\"data row0 col16\" >0.0000%</td>\n",
       "      <td id=\"T_a74d6_row0_col17\" class=\"data row0 col17\" >1.00</td>\n",
       "    </tr>\n",
       "    <tr>\n",
       "      <th id=\"T_a74d6_level0_row1\" class=\"row_heading level0 row1\" >1</th>\n",
       "      <td id=\"T_a74d6_row1_col0\" class=\"data row1 col0\" >2019-07-10</td>\n",
       "      <td id=\"T_a74d6_row1_col1\" class=\"data row1 col1\" >2020-01-10</td>\n",
       "      <td id=\"T_a74d6_row1_col2\" class=\"data row1 col2\" >2019-07-10</td>\n",
       "      <td id=\"T_a74d6_row1_col3\" class=\"data row1 col3\" >2020-01-10</td>\n",
       "      <td id=\"T_a74d6_row1_col4\" class=\"data row1 col4\" >2020-01-10</td>\n",
       "      <td id=\"T_a74d6_row1_col5\" class=\"data row1 col5\" >38,000,000,000.00</td>\n",
       "      <td id=\"T_a74d6_row1_col6\" class=\"data row1 col6\" >0.00</td>\n",
       "      <td id=\"T_a74d6_row1_col7\" class=\"data row1 col7\" >True</td>\n",
       "      <td id=\"T_a74d6_row1_col8\" class=\"data row1 col8\" >CLP</td>\n",
       "      <td id=\"T_a74d6_row1_col9\" class=\"data row1 col9\" >ICPCLP</td>\n",
       "      <td id=\"T_a74d6_row1_col10\" class=\"data row1 col10\" >1.00</td>\n",
       "      <td id=\"T_a74d6_row1_col11\" class=\"data row1 col11\" >1.00</td>\n",
       "      <td id=\"T_a74d6_row1_col12\" class=\"data row1 col12\" >0.0000%</td>\n",
       "      <td id=\"T_a74d6_row1_col13\" class=\"data row1 col13\" >LinAct360</td>\n",
       "      <td id=\"T_a74d6_row1_col14\" class=\"data row1 col14\" >0.00</td>\n",
       "      <td id=\"T_a74d6_row1_col15\" class=\"data row1 col15\" >0.00</td>\n",
       "      <td id=\"T_a74d6_row1_col16\" class=\"data row1 col16\" >0.0000%</td>\n",
       "      <td id=\"T_a74d6_row1_col17\" class=\"data row1 col17\" >1.00</td>\n",
       "    </tr>\n",
       "    <tr>\n",
       "      <th id=\"T_a74d6_level0_row2\" class=\"row_heading level0 row2\" >2</th>\n",
       "      <td id=\"T_a74d6_row2_col0\" class=\"data row2 col0\" >2020-01-10</td>\n",
       "      <td id=\"T_a74d6_row2_col1\" class=\"data row2 col1\" >2020-07-10</td>\n",
       "      <td id=\"T_a74d6_row2_col2\" class=\"data row2 col2\" >2020-01-10</td>\n",
       "      <td id=\"T_a74d6_row2_col3\" class=\"data row2 col3\" >2020-07-10</td>\n",
       "      <td id=\"T_a74d6_row2_col4\" class=\"data row2 col4\" >2020-07-10</td>\n",
       "      <td id=\"T_a74d6_row2_col5\" class=\"data row2 col5\" >38,000,000,000.00</td>\n",
       "      <td id=\"T_a74d6_row2_col6\" class=\"data row2 col6\" >0.00</td>\n",
       "      <td id=\"T_a74d6_row2_col7\" class=\"data row2 col7\" >True</td>\n",
       "      <td id=\"T_a74d6_row2_col8\" class=\"data row2 col8\" >CLP</td>\n",
       "      <td id=\"T_a74d6_row2_col9\" class=\"data row2 col9\" >ICPCLP</td>\n",
       "      <td id=\"T_a74d6_row2_col10\" class=\"data row2 col10\" >1.00</td>\n",
       "      <td id=\"T_a74d6_row2_col11\" class=\"data row2 col11\" >1.00</td>\n",
       "      <td id=\"T_a74d6_row2_col12\" class=\"data row2 col12\" >0.0000%</td>\n",
       "      <td id=\"T_a74d6_row2_col13\" class=\"data row2 col13\" >LinAct360</td>\n",
       "      <td id=\"T_a74d6_row2_col14\" class=\"data row2 col14\" >0.00</td>\n",
       "      <td id=\"T_a74d6_row2_col15\" class=\"data row2 col15\" >0.00</td>\n",
       "      <td id=\"T_a74d6_row2_col16\" class=\"data row2 col16\" >0.0000%</td>\n",
       "      <td id=\"T_a74d6_row2_col17\" class=\"data row2 col17\" >1.00</td>\n",
       "    </tr>\n",
       "    <tr>\n",
       "      <th id=\"T_a74d6_level0_row3\" class=\"row_heading level0 row3\" >3</th>\n",
       "      <td id=\"T_a74d6_row3_col0\" class=\"data row3 col0\" >2020-07-10</td>\n",
       "      <td id=\"T_a74d6_row3_col1\" class=\"data row3 col1\" >2021-01-11</td>\n",
       "      <td id=\"T_a74d6_row3_col2\" class=\"data row3 col2\" >2020-07-10</td>\n",
       "      <td id=\"T_a74d6_row3_col3\" class=\"data row3 col3\" >2021-01-11</td>\n",
       "      <td id=\"T_a74d6_row3_col4\" class=\"data row3 col4\" >2021-01-11</td>\n",
       "      <td id=\"T_a74d6_row3_col5\" class=\"data row3 col5\" >38,000,000,000.00</td>\n",
       "      <td id=\"T_a74d6_row3_col6\" class=\"data row3 col6\" >0.00</td>\n",
       "      <td id=\"T_a74d6_row3_col7\" class=\"data row3 col7\" >True</td>\n",
       "      <td id=\"T_a74d6_row3_col8\" class=\"data row3 col8\" >CLP</td>\n",
       "      <td id=\"T_a74d6_row3_col9\" class=\"data row3 col9\" >ICPCLP</td>\n",
       "      <td id=\"T_a74d6_row3_col10\" class=\"data row3 col10\" >1.00</td>\n",
       "      <td id=\"T_a74d6_row3_col11\" class=\"data row3 col11\" >1.00</td>\n",
       "      <td id=\"T_a74d6_row3_col12\" class=\"data row3 col12\" >0.0000%</td>\n",
       "      <td id=\"T_a74d6_row3_col13\" class=\"data row3 col13\" >LinAct360</td>\n",
       "      <td id=\"T_a74d6_row3_col14\" class=\"data row3 col14\" >0.00</td>\n",
       "      <td id=\"T_a74d6_row3_col15\" class=\"data row3 col15\" >0.00</td>\n",
       "      <td id=\"T_a74d6_row3_col16\" class=\"data row3 col16\" >0.0000%</td>\n",
       "      <td id=\"T_a74d6_row3_col17\" class=\"data row3 col17\" >1.00</td>\n",
       "    </tr>\n",
       "    <tr>\n",
       "      <th id=\"T_a74d6_level0_row4\" class=\"row_heading level0 row4\" >4</th>\n",
       "      <td id=\"T_a74d6_row4_col0\" class=\"data row4 col0\" >2021-01-11</td>\n",
       "      <td id=\"T_a74d6_row4_col1\" class=\"data row4 col1\" >2021-07-12</td>\n",
       "      <td id=\"T_a74d6_row4_col2\" class=\"data row4 col2\" >2021-01-11</td>\n",
       "      <td id=\"T_a74d6_row4_col3\" class=\"data row4 col3\" >2021-07-12</td>\n",
       "      <td id=\"T_a74d6_row4_col4\" class=\"data row4 col4\" >2021-07-12</td>\n",
       "      <td id=\"T_a74d6_row4_col5\" class=\"data row4 col5\" >38,000,000,000.00</td>\n",
       "      <td id=\"T_a74d6_row4_col6\" class=\"data row4 col6\" >0.00</td>\n",
       "      <td id=\"T_a74d6_row4_col7\" class=\"data row4 col7\" >True</td>\n",
       "      <td id=\"T_a74d6_row4_col8\" class=\"data row4 col8\" >CLP</td>\n",
       "      <td id=\"T_a74d6_row4_col9\" class=\"data row4 col9\" >ICPCLP</td>\n",
       "      <td id=\"T_a74d6_row4_col10\" class=\"data row4 col10\" >1.00</td>\n",
       "      <td id=\"T_a74d6_row4_col11\" class=\"data row4 col11\" >1.00</td>\n",
       "      <td id=\"T_a74d6_row4_col12\" class=\"data row4 col12\" >0.0000%</td>\n",
       "      <td id=\"T_a74d6_row4_col13\" class=\"data row4 col13\" >LinAct360</td>\n",
       "      <td id=\"T_a74d6_row4_col14\" class=\"data row4 col14\" >0.00</td>\n",
       "      <td id=\"T_a74d6_row4_col15\" class=\"data row4 col15\" >0.00</td>\n",
       "      <td id=\"T_a74d6_row4_col16\" class=\"data row4 col16\" >0.0000%</td>\n",
       "      <td id=\"T_a74d6_row4_col17\" class=\"data row4 col17\" >1.00</td>\n",
       "    </tr>\n",
       "    <tr>\n",
       "      <th id=\"T_a74d6_level0_row5\" class=\"row_heading level0 row5\" >5</th>\n",
       "      <td id=\"T_a74d6_row5_col0\" class=\"data row5 col0\" >2021-07-12</td>\n",
       "      <td id=\"T_a74d6_row5_col1\" class=\"data row5 col1\" >2022-01-10</td>\n",
       "      <td id=\"T_a74d6_row5_col2\" class=\"data row5 col2\" >2021-07-12</td>\n",
       "      <td id=\"T_a74d6_row5_col3\" class=\"data row5 col3\" >2022-01-10</td>\n",
       "      <td id=\"T_a74d6_row5_col4\" class=\"data row5 col4\" >2022-01-10</td>\n",
       "      <td id=\"T_a74d6_row5_col5\" class=\"data row5 col5\" >38,000,000,000.00</td>\n",
       "      <td id=\"T_a74d6_row5_col6\" class=\"data row5 col6\" >38,000,000,000.00</td>\n",
       "      <td id=\"T_a74d6_row5_col7\" class=\"data row5 col7\" >True</td>\n",
       "      <td id=\"T_a74d6_row5_col8\" class=\"data row5 col8\" >CLP</td>\n",
       "      <td id=\"T_a74d6_row5_col9\" class=\"data row5 col9\" >ICPCLP</td>\n",
       "      <td id=\"T_a74d6_row5_col10\" class=\"data row5 col10\" >1.00</td>\n",
       "      <td id=\"T_a74d6_row5_col11\" class=\"data row5 col11\" >1.00</td>\n",
       "      <td id=\"T_a74d6_row5_col12\" class=\"data row5 col12\" >0.0000%</td>\n",
       "      <td id=\"T_a74d6_row5_col13\" class=\"data row5 col13\" >LinAct360</td>\n",
       "      <td id=\"T_a74d6_row5_col14\" class=\"data row5 col14\" >0.00</td>\n",
       "      <td id=\"T_a74d6_row5_col15\" class=\"data row5 col15\" >38,000,000,000.00</td>\n",
       "      <td id=\"T_a74d6_row5_col16\" class=\"data row5 col16\" >0.0000%</td>\n",
       "      <td id=\"T_a74d6_row5_col17\" class=\"data row5 col17\" >1.00</td>\n",
       "    </tr>\n",
       "  </tbody>\n",
       "</table>\n"
      ]
     },
     "execution_count": 468,
     "metadata": {},
     "output_type": "execute_result"
    }
   ],
   "execution_count": 468
  },
  {
   "cell_type": "markdown",
   "metadata": {
    "collapsed": false,
    "jupyter": {
     "outputs_hidden": false
    }
   },
   "source": [
    "Notar que al dar de alta un Leg con OvernightIndexCashflow, los valores futuros de los índeces son los default (=1.0). Por lo tanto, el primer paso para valorizar estos cashflows, es calcular los valores forward de los índices.\n",
    "\n",
    "Se da de alta un objeto de tipo `ForwardRates`."
   ]
  },
  {
   "cell_type": "code",
   "metadata": {
    "execution": {
     "iopub.execute_input": "2024-06-25T21:51:55.277099Z",
     "iopub.status.busy": "2024-06-25T21:51:55.276748Z",
     "iopub.status.idle": "2024-06-25T21:51:55.280760Z",
     "shell.execute_reply": "2024-06-25T21:51:55.279920Z",
     "shell.execute_reply.started": "2024-06-25T21:51:55.277070Z"
    },
    "ExecuteTime": {
     "end_time": "2025-08-25T14:34:55.183815Z",
     "start_time": "2025-08-25T14:34:55.182289Z"
    }
   },
   "source": [
    "fwd_rates = qcf.ForwardRates()"
   ],
   "outputs": [],
   "execution_count": 469
  },
  {
   "cell_type": "markdown",
   "metadata": {
    "collapsed": false,
    "jupyter": {
     "outputs_hidden": false
    }
   },
   "source": [
    "Se calculan los índices forward."
   ]
  },
  {
   "cell_type": "code",
   "metadata": {
    "collapsed": false,
    "execution": {
     "iopub.execute_input": "2024-06-25T21:52:43.848528Z",
     "iopub.status.busy": "2024-06-25T21:52:43.848178Z",
     "iopub.status.idle": "2024-06-25T21:52:43.854199Z",
     "shell.execute_reply": "2024-06-25T21:52:43.853269Z",
     "shell.execute_reply.started": "2024-06-25T21:52:43.848498Z"
    },
    "jupyter": {
     "outputs_hidden": false
    },
    "ExecuteTime": {
     "end_time": "2025-08-25T14:34:55.208385Z",
     "start_time": "2025-08-25T14:34:55.206454Z"
    }
   },
   "source": [
    "icp_val = 18_890.34 # icp a la fecha de proceso\n",
    "fecha_hoy = qcf.QCDate(8, 1, 2019)\n",
    "index = 0\n",
    "\n",
    "for i in range(overnight_index_leg.size()):\n",
    "    cashflow = overnight_index_leg.get_cashflow_at(i)\n",
    "    if cashflow.get_start_date() <= fecha_hoy <= cashflow.get_end_date():\n",
    "        index = i\n",
    "\n",
    "icp_fecha_inicio_cupon_vigente = 18_376.69\n",
    "overnight_index_leg.get_cashflow_at(index).set_start_date_index(icp_fecha_inicio_cupon_vigente)\n",
    "\n",
    "fwd_rates.set_rates_overnight_index_leg(fecha_hoy, icp_val, overnight_index_leg, zcc_clp)"
   ],
   "outputs": [],
   "execution_count": 470
  },
  {
   "cell_type": "code",
   "metadata": {
    "collapsed": false,
    "execution": {
     "iopub.execute_input": "2024-06-25T21:52:51.993936Z",
     "iopub.status.busy": "2024-06-25T21:52:51.993594Z",
     "iopub.status.idle": "2024-06-25T21:52:52.007589Z",
     "shell.execute_reply": "2024-06-25T21:52:52.006734Z",
     "shell.execute_reply.started": "2024-06-25T21:52:51.993908Z"
    },
    "jupyter": {
     "outputs_hidden": false
    },
    "ExecuteTime": {
     "end_time": "2025-08-25T14:34:55.233931Z",
     "start_time": "2025-08-25T14:34:55.228990Z"
    }
   },
   "source": [
    "aux.leg_as_dataframe(overnight_index_leg).style.format(format_dict)"
   ],
   "outputs": [
    {
     "data": {
      "text/plain": [
       "<pandas.io.formats.style.Styler at 0x10beaa990>"
      ],
      "text/html": [
       "<style type=\"text/css\">\n",
       "</style>\n",
       "<table id=\"T_5cb0f\">\n",
       "  <thead>\n",
       "    <tr>\n",
       "      <th class=\"blank level0\" >&nbsp;</th>\n",
       "      <th id=\"T_5cb0f_level0_col0\" class=\"col_heading level0 col0\" >fecha_inicial</th>\n",
       "      <th id=\"T_5cb0f_level0_col1\" class=\"col_heading level0 col1\" >fecha_final</th>\n",
       "      <th id=\"T_5cb0f_level0_col2\" class=\"col_heading level0 col2\" >fecha_inicial_indice</th>\n",
       "      <th id=\"T_5cb0f_level0_col3\" class=\"col_heading level0 col3\" >fecha_final_indice</th>\n",
       "      <th id=\"T_5cb0f_level0_col4\" class=\"col_heading level0 col4\" >fecha_pago</th>\n",
       "      <th id=\"T_5cb0f_level0_col5\" class=\"col_heading level0 col5\" >nocional</th>\n",
       "      <th id=\"T_5cb0f_level0_col6\" class=\"col_heading level0 col6\" >amortizacion</th>\n",
       "      <th id=\"T_5cb0f_level0_col7\" class=\"col_heading level0 col7\" >amort_es_flujo</th>\n",
       "      <th id=\"T_5cb0f_level0_col8\" class=\"col_heading level0 col8\" >moneda_nocional</th>\n",
       "      <th id=\"T_5cb0f_level0_col9\" class=\"col_heading level0 col9\" >nombre_indice</th>\n",
       "      <th id=\"T_5cb0f_level0_col10\" class=\"col_heading level0 col10\" >valor_indice_inicial</th>\n",
       "      <th id=\"T_5cb0f_level0_col11\" class=\"col_heading level0 col11\" >valor_indice_final</th>\n",
       "      <th id=\"T_5cb0f_level0_col12\" class=\"col_heading level0 col12\" >valor_tasa</th>\n",
       "      <th id=\"T_5cb0f_level0_col13\" class=\"col_heading level0 col13\" >tipo_tasa</th>\n",
       "      <th id=\"T_5cb0f_level0_col14\" class=\"col_heading level0 col14\" >interes</th>\n",
       "      <th id=\"T_5cb0f_level0_col15\" class=\"col_heading level0 col15\" >flujo</th>\n",
       "      <th id=\"T_5cb0f_level0_col16\" class=\"col_heading level0 col16\" >spread</th>\n",
       "      <th id=\"T_5cb0f_level0_col17\" class=\"col_heading level0 col17\" >gearing</th>\n",
       "    </tr>\n",
       "  </thead>\n",
       "  <tbody>\n",
       "    <tr>\n",
       "      <th id=\"T_5cb0f_level0_row0\" class=\"row_heading level0 row0\" >0</th>\n",
       "      <td id=\"T_5cb0f_row0_col0\" class=\"data row0 col0\" >2019-01-10</td>\n",
       "      <td id=\"T_5cb0f_row0_col1\" class=\"data row0 col1\" >2019-07-10</td>\n",
       "      <td id=\"T_5cb0f_row0_col2\" class=\"data row0 col2\" >2019-01-10</td>\n",
       "      <td id=\"T_5cb0f_row0_col3\" class=\"data row0 col3\" >2019-07-10</td>\n",
       "      <td id=\"T_5cb0f_row0_col4\" class=\"data row0 col4\" >2019-07-10</td>\n",
       "      <td id=\"T_5cb0f_row0_col5\" class=\"data row0 col5\" >38,000,000,000.00</td>\n",
       "      <td id=\"T_5cb0f_row0_col6\" class=\"data row0 col6\" >0.00</td>\n",
       "      <td id=\"T_5cb0f_row0_col7\" class=\"data row0 col7\" >True</td>\n",
       "      <td id=\"T_5cb0f_row0_col8\" class=\"data row0 col8\" >CLP</td>\n",
       "      <td id=\"T_5cb0f_row0_col9\" class=\"data row0 col9\" >ICPCLP</td>\n",
       "      <td id=\"T_5cb0f_row0_col10\" class=\"data row0 col10\" >18,892.15</td>\n",
       "      <td id=\"T_5cb0f_row0_col11\" class=\"data row0 col11\" >19,015.28</td>\n",
       "      <td id=\"T_5cb0f_row0_col12\" class=\"data row0 col12\" >1.3000%</td>\n",
       "      <td id=\"T_5cb0f_row0_col13\" class=\"data row0 col13\" >LinAct360</td>\n",
       "      <td id=\"T_5cb0f_row0_col14\" class=\"data row0 col14\" >248,372,222.00</td>\n",
       "      <td id=\"T_5cb0f_row0_col15\" class=\"data row0 col15\" >248,372,222.00</td>\n",
       "      <td id=\"T_5cb0f_row0_col16\" class=\"data row0 col16\" >0.0000%</td>\n",
       "      <td id=\"T_5cb0f_row0_col17\" class=\"data row0 col17\" >1.00</td>\n",
       "    </tr>\n",
       "    <tr>\n",
       "      <th id=\"T_5cb0f_level0_row1\" class=\"row_heading level0 row1\" >1</th>\n",
       "      <td id=\"T_5cb0f_row1_col0\" class=\"data row1 col0\" >2019-07-10</td>\n",
       "      <td id=\"T_5cb0f_row1_col1\" class=\"data row1 col1\" >2020-01-10</td>\n",
       "      <td id=\"T_5cb0f_row1_col2\" class=\"data row1 col2\" >2019-07-10</td>\n",
       "      <td id=\"T_5cb0f_row1_col3\" class=\"data row1 col3\" >2020-01-10</td>\n",
       "      <td id=\"T_5cb0f_row1_col4\" class=\"data row1 col4\" >2020-01-10</td>\n",
       "      <td id=\"T_5cb0f_row1_col5\" class=\"data row1 col5\" >38,000,000,000.00</td>\n",
       "      <td id=\"T_5cb0f_row1_col6\" class=\"data row1 col6\" >0.00</td>\n",
       "      <td id=\"T_5cb0f_row1_col7\" class=\"data row1 col7\" >True</td>\n",
       "      <td id=\"T_5cb0f_row1_col8\" class=\"data row1 col8\" >CLP</td>\n",
       "      <td id=\"T_5cb0f_row1_col9\" class=\"data row1 col9\" >ICPCLP</td>\n",
       "      <td id=\"T_5cb0f_row1_col10\" class=\"data row1 col10\" >19,015.28</td>\n",
       "      <td id=\"T_5cb0f_row1_col11\" class=\"data row1 col11\" >19,138.86</td>\n",
       "      <td id=\"T_5cb0f_row1_col12\" class=\"data row1 col12\" >1.2700%</td>\n",
       "      <td id=\"T_5cb0f_row1_col13\" class=\"data row1 col13\" >LinAct360</td>\n",
       "      <td id=\"T_5cb0f_row1_col14\" class=\"data row1 col14\" >246,662,222.00</td>\n",
       "      <td id=\"T_5cb0f_row1_col15\" class=\"data row1 col15\" >246,662,222.00</td>\n",
       "      <td id=\"T_5cb0f_row1_col16\" class=\"data row1 col16\" >0.0000%</td>\n",
       "      <td id=\"T_5cb0f_row1_col17\" class=\"data row1 col17\" >1.00</td>\n",
       "    </tr>\n",
       "    <tr>\n",
       "      <th id=\"T_5cb0f_level0_row2\" class=\"row_heading level0 row2\" >2</th>\n",
       "      <td id=\"T_5cb0f_row2_col0\" class=\"data row2 col0\" >2020-01-10</td>\n",
       "      <td id=\"T_5cb0f_row2_col1\" class=\"data row2 col1\" >2020-07-10</td>\n",
       "      <td id=\"T_5cb0f_row2_col2\" class=\"data row2 col2\" >2020-01-10</td>\n",
       "      <td id=\"T_5cb0f_row2_col3\" class=\"data row2 col3\" >2020-07-10</td>\n",
       "      <td id=\"T_5cb0f_row2_col4\" class=\"data row2 col4\" >2020-07-10</td>\n",
       "      <td id=\"T_5cb0f_row2_col5\" class=\"data row2 col5\" >38,000,000,000.00</td>\n",
       "      <td id=\"T_5cb0f_row2_col6\" class=\"data row2 col6\" >0.00</td>\n",
       "      <td id=\"T_5cb0f_row2_col7\" class=\"data row2 col7\" >True</td>\n",
       "      <td id=\"T_5cb0f_row2_col8\" class=\"data row2 col8\" >CLP</td>\n",
       "      <td id=\"T_5cb0f_row2_col9\" class=\"data row2 col9\" >ICPCLP</td>\n",
       "      <td id=\"T_5cb0f_row2_col10\" class=\"data row2 col10\" >19,138.86</td>\n",
       "      <td id=\"T_5cb0f_row2_col11\" class=\"data row2 col11\" >19,264.34</td>\n",
       "      <td id=\"T_5cb0f_row2_col12\" class=\"data row2 col12\" >1.3000%</td>\n",
       "      <td id=\"T_5cb0f_row2_col13\" class=\"data row2 col13\" >LinAct360</td>\n",
       "      <td id=\"T_5cb0f_row2_col14\" class=\"data row2 col14\" >249,744,444.00</td>\n",
       "      <td id=\"T_5cb0f_row2_col15\" class=\"data row2 col15\" >249,744,444.00</td>\n",
       "      <td id=\"T_5cb0f_row2_col16\" class=\"data row2 col16\" >0.0000%</td>\n",
       "      <td id=\"T_5cb0f_row2_col17\" class=\"data row2 col17\" >1.00</td>\n",
       "    </tr>\n",
       "    <tr>\n",
       "      <th id=\"T_5cb0f_level0_row3\" class=\"row_heading level0 row3\" >3</th>\n",
       "      <td id=\"T_5cb0f_row3_col0\" class=\"data row3 col0\" >2020-07-10</td>\n",
       "      <td id=\"T_5cb0f_row3_col1\" class=\"data row3 col1\" >2021-01-11</td>\n",
       "      <td id=\"T_5cb0f_row3_col2\" class=\"data row3 col2\" >2020-07-10</td>\n",
       "      <td id=\"T_5cb0f_row3_col3\" class=\"data row3 col3\" >2021-01-11</td>\n",
       "      <td id=\"T_5cb0f_row3_col4\" class=\"data row3 col4\" >2021-01-11</td>\n",
       "      <td id=\"T_5cb0f_row3_col5\" class=\"data row3 col5\" >38,000,000,000.00</td>\n",
       "      <td id=\"T_5cb0f_row3_col6\" class=\"data row3 col6\" >0.00</td>\n",
       "      <td id=\"T_5cb0f_row3_col7\" class=\"data row3 col7\" >True</td>\n",
       "      <td id=\"T_5cb0f_row3_col8\" class=\"data row3 col8\" >CLP</td>\n",
       "      <td id=\"T_5cb0f_row3_col9\" class=\"data row3 col9\" >ICPCLP</td>\n",
       "      <td id=\"T_5cb0f_row3_col10\" class=\"data row3 col10\" >19,264.34</td>\n",
       "      <td id=\"T_5cb0f_row3_col11\" class=\"data row3 col11\" >19,388.80</td>\n",
       "      <td id=\"T_5cb0f_row3_col12\" class=\"data row3 col12\" >1.2600%</td>\n",
       "      <td id=\"T_5cb0f_row3_col13\" class=\"data row3 col13\" >LinAct360</td>\n",
       "      <td id=\"T_5cb0f_row3_col14\" class=\"data row3 col14\" >246,050,000.00</td>\n",
       "      <td id=\"T_5cb0f_row3_col15\" class=\"data row3 col15\" >246,050,000.00</td>\n",
       "      <td id=\"T_5cb0f_row3_col16\" class=\"data row3 col16\" >0.0000%</td>\n",
       "      <td id=\"T_5cb0f_row3_col17\" class=\"data row3 col17\" >1.00</td>\n",
       "    </tr>\n",
       "    <tr>\n",
       "      <th id=\"T_5cb0f_level0_row4\" class=\"row_heading level0 row4\" >4</th>\n",
       "      <td id=\"T_5cb0f_row4_col0\" class=\"data row4 col0\" >2021-01-11</td>\n",
       "      <td id=\"T_5cb0f_row4_col1\" class=\"data row4 col1\" >2021-07-12</td>\n",
       "      <td id=\"T_5cb0f_row4_col2\" class=\"data row4 col2\" >2021-01-11</td>\n",
       "      <td id=\"T_5cb0f_row4_col3\" class=\"data row4 col3\" >2021-07-12</td>\n",
       "      <td id=\"T_5cb0f_row4_col4\" class=\"data row4 col4\" >2021-07-12</td>\n",
       "      <td id=\"T_5cb0f_row4_col5\" class=\"data row4 col5\" >38,000,000,000.00</td>\n",
       "      <td id=\"T_5cb0f_row4_col6\" class=\"data row4 col6\" >0.00</td>\n",
       "      <td id=\"T_5cb0f_row4_col7\" class=\"data row4 col7\" >True</td>\n",
       "      <td id=\"T_5cb0f_row4_col8\" class=\"data row4 col8\" >CLP</td>\n",
       "      <td id=\"T_5cb0f_row4_col9\" class=\"data row4 col9\" >ICPCLP</td>\n",
       "      <td id=\"T_5cb0f_row4_col10\" class=\"data row4 col10\" >19,388.80</td>\n",
       "      <td id=\"T_5cb0f_row4_col11\" class=\"data row4 col11\" >19,550.81</td>\n",
       "      <td id=\"T_5cb0f_row4_col12\" class=\"data row4 col12\" >1.6500%</td>\n",
       "      <td id=\"T_5cb0f_row4_col13\" class=\"data row4 col13\" >LinAct360</td>\n",
       "      <td id=\"T_5cb0f_row4_col14\" class=\"data row4 col14\" >316,983,333.00</td>\n",
       "      <td id=\"T_5cb0f_row4_col15\" class=\"data row4 col15\" >316,983,333.00</td>\n",
       "      <td id=\"T_5cb0f_row4_col16\" class=\"data row4 col16\" >0.0000%</td>\n",
       "      <td id=\"T_5cb0f_row4_col17\" class=\"data row4 col17\" >1.00</td>\n",
       "    </tr>\n",
       "    <tr>\n",
       "      <th id=\"T_5cb0f_level0_row5\" class=\"row_heading level0 row5\" >5</th>\n",
       "      <td id=\"T_5cb0f_row5_col0\" class=\"data row5 col0\" >2021-07-12</td>\n",
       "      <td id=\"T_5cb0f_row5_col1\" class=\"data row5 col1\" >2022-01-10</td>\n",
       "      <td id=\"T_5cb0f_row5_col2\" class=\"data row5 col2\" >2021-07-12</td>\n",
       "      <td id=\"T_5cb0f_row5_col3\" class=\"data row5 col3\" >2022-01-10</td>\n",
       "      <td id=\"T_5cb0f_row5_col4\" class=\"data row5 col4\" >2022-01-10</td>\n",
       "      <td id=\"T_5cb0f_row5_col5\" class=\"data row5 col5\" >38,000,000,000.00</td>\n",
       "      <td id=\"T_5cb0f_row5_col6\" class=\"data row5 col6\" >38,000,000,000.00</td>\n",
       "      <td id=\"T_5cb0f_row5_col7\" class=\"data row5 col7\" >True</td>\n",
       "      <td id=\"T_5cb0f_row5_col8\" class=\"data row5 col8\" >CLP</td>\n",
       "      <td id=\"T_5cb0f_row5_col9\" class=\"data row5 col9\" >ICPCLP</td>\n",
       "      <td id=\"T_5cb0f_row5_col10\" class=\"data row5 col10\" >19,550.81</td>\n",
       "      <td id=\"T_5cb0f_row5_col11\" class=\"data row5 col11\" >19,728.77</td>\n",
       "      <td id=\"T_5cb0f_row5_col12\" class=\"data row5 col12\" >1.8000%</td>\n",
       "      <td id=\"T_5cb0f_row5_col13\" class=\"data row5 col13\" >LinAct360</td>\n",
       "      <td id=\"T_5cb0f_row5_col14\" class=\"data row5 col14\" >345,800,000.00</td>\n",
       "      <td id=\"T_5cb0f_row5_col15\" class=\"data row5 col15\" >38,345,800,000.00</td>\n",
       "      <td id=\"T_5cb0f_row5_col16\" class=\"data row5 col16\" >0.0000%</td>\n",
       "      <td id=\"T_5cb0f_row5_col17\" class=\"data row5 col17\" >1.00</td>\n",
       "    </tr>\n",
       "  </tbody>\n",
       "</table>\n"
      ]
     },
     "execution_count": 471,
     "metadata": {},
     "output_type": "execute_result"
    }
   ],
   "execution_count": 471
  },
  {
   "cell_type": "markdown",
   "metadata": {
    "collapsed": false,
    "jupyter": {
     "outputs_hidden": false
    }
   },
   "source": [
    "Con esto, podemos calcular el valor presente."
   ]
  },
  {
   "cell_type": "code",
   "metadata": {
    "collapsed": false,
    "execution": {
     "iopub.execute_input": "2024-06-25T21:52:55.167077Z",
     "iopub.status.busy": "2024-06-25T21:52:55.166732Z",
     "iopub.status.idle": "2024-06-25T21:52:55.171789Z",
     "shell.execute_reply": "2024-06-25T21:52:55.170908Z",
     "shell.execute_reply.started": "2024-06-25T21:52:55.167044Z"
    },
    "jupyter": {
     "outputs_hidden": false
    },
    "ExecuteTime": {
     "end_time": "2025-08-25T14:34:55.278558Z",
     "start_time": "2025-08-25T14:34:55.276499Z"
    }
   },
   "source": [
    "vp_on_index_leg = pv.pv(fecha_hoy, overnight_index_leg, zcc_clp)\n",
    "print(f\"Valor presente pata ON Index Leg: {vp_on_index_leg:,.0f}\")"
   ],
   "outputs": [
    {
     "name": "stdout",
     "output_type": "stream",
     "text": [
      "Valor presente pata ON Index Leg: 37,996,356,295\n"
     ]
    }
   ],
   "execution_count": 472
  },
  {
   "cell_type": "code",
   "metadata": {
    "execution": {
     "iopub.execute_input": "2024-06-25T21:54:15.731401Z",
     "iopub.status.busy": "2024-06-25T21:54:15.731064Z",
     "iopub.status.idle": "2024-06-25T21:54:15.735980Z",
     "shell.execute_reply": "2024-06-25T21:54:15.735118Z",
     "shell.execute_reply.started": "2024-06-25T21:54:15.731373Z"
    },
    "ExecuteTime": {
     "end_time": "2025-08-25T14:34:55.315914Z",
     "start_time": "2025-08-25T14:34:55.314103Z"
    }
   },
   "source": [
    "print(f\"{nominal * zcc_clp.get_discount_factor_at(2):,.0f}\")"
   ],
   "outputs": [
    {
     "name": "stdout",
     "output_type": "stream",
     "text": [
      "37,996,356,295\n"
     ]
    }
   ],
   "execution_count": 473
  },
  {
   "cell_type": "markdown",
   "metadata": {
    "collapsed": false,
    "jupyter": {
     "outputs_hidden": false
    }
   },
   "source": [
    "También en este caso es posible calcular la sensibilidad a la curva de descuento."
   ]
  },
  {
   "cell_type": "code",
   "metadata": {
    "collapsed": false,
    "execution": {
     "iopub.status.busy": "2024-06-25T21:49:20.164306Z",
     "iopub.status.idle": "2024-06-25T21:49:20.164813Z",
     "shell.execute_reply": "2024-06-25T21:49:20.164648Z",
     "shell.execute_reply.started": "2024-06-25T21:49:20.164631Z"
    },
    "jupyter": {
     "outputs_hidden": false
    },
    "ExecuteTime": {
     "end_time": "2025-08-25T14:34:55.351444Z",
     "start_time": "2025-08-25T14:34:55.348981Z"
    }
   },
   "source": [
    "der = pv.get_derivatives()\n",
    "i = 0\n",
    "for d in der:\n",
    "    print(f\"Sensibilidad en {i:}: {d * bp / 10_000:0,.0f}\")\n",
    "    i += 1\n",
    "sens_disc = [d * bp / 10_000 for d in der]\n",
    "print()\n",
    "print(\"Sensibilidad de descuento: {0:,.0f} CLP\".format(sum(sens_disc)))"
   ],
   "outputs": [
    {
     "name": "stdout",
     "output_type": "stream",
     "text": [
      "Sensibilidad en 0: 0\n",
      "Sensibilidad en 1: 0\n",
      "Sensibilidad en 2: -670\n",
      "Sensibilidad en 3: -11,665\n",
      "Sensibilidad en 4: -545\n",
      "Sensibilidad en 5: -24,764\n",
      "Sensibilidad en 6: -35,947\n",
      "Sensibilidad en 7: -116,962\n",
      "Sensibilidad en 8: -11,053,193\n",
      "Sensibilidad en 9: 0\n",
      "Sensibilidad en 10: 0\n",
      "Sensibilidad en 11: 0\n",
      "Sensibilidad en 12: 0\n",
      "Sensibilidad en 13: 0\n",
      "Sensibilidad en 14: 0\n",
      "Sensibilidad en 15: 0\n",
      "Sensibilidad en 16: 0\n",
      "Sensibilidad en 17: 0\n",
      "Sensibilidad en 18: 0\n",
      "\n",
      "Sensibilidad de descuento: -11,243,745 CLP\n"
     ]
    }
   ],
   "execution_count": 474
  },
  {
   "cell_type": "markdown",
   "metadata": {
    "collapsed": false,
    "jupyter": {
     "outputs_hidden": false
    }
   },
   "source": [
    "La estructura es la misma que para una pata fija, lo que indica que se debe también incluir la sensibilidad a la curva de proyección."
   ]
  },
  {
   "cell_type": "code",
   "metadata": {
    "collapsed": false,
    "execution": {
     "iopub.status.busy": "2024-06-25T21:49:20.165838Z",
     "iopub.status.idle": "2024-06-25T21:49:20.166341Z",
     "shell.execute_reply": "2024-06-25T21:49:20.166166Z",
     "shell.execute_reply.started": "2024-06-25T21:49:20.166148Z"
    },
    "jupyter": {
     "outputs_hidden": false
    },
    "ExecuteTime": {
     "end_time": "2025-08-25T14:34:55.405574Z",
     "start_time": "2025-08-25T14:34:55.402444Z"
    }
   },
   "source": [
    "result = []\n",
    "for i in range(overnight_index_leg.size()):\n",
    "    cshflw = overnight_index_leg.get_cashflow_at(i)\n",
    "    amt_der = cshflw.get_amount_derivatives()\n",
    "    df = zcc_clp.get_discount_factor_at(fecha_hoy.day_diff(cshflw.get_settlement_date()))\n",
    "    amt_der = [a * bp / 10_000  * df for a in amt_der]\n",
    "    if len(amt_der) > 0:\n",
    "        result.append(np.array(amt_der))\n",
    "total = result[0] * 0\n",
    "\n",
    "for r in result:\n",
    "    total += r\n",
    "\n",
    "for i in range(len(total)):\n",
    "    print(\"Sensibilidad en {0:}: {1:0,.0f}\".format(i, total[i]))\n",
    "\n",
    "print()\n",
    "print(\"Sensibilidad de proyección: {0:,.0f} CLP\".format(sum(total)))"
   ],
   "outputs": [
    {
     "name": "stdout",
     "output_type": "stream",
     "text": [
      "Sensibilidad en 0: -13,880\n",
      "Sensibilidad en 1: -6,940\n",
      "Sensibilidad en 2: 670\n",
      "Sensibilidad en 3: 11,665\n",
      "Sensibilidad en 4: 545\n",
      "Sensibilidad en 5: 24,764\n",
      "Sensibilidad en 6: 35,947\n",
      "Sensibilidad en 7: 116,962\n",
      "Sensibilidad en 8: 11,053,193\n",
      "Sensibilidad en 9: 0\n",
      "Sensibilidad en 10: 0\n",
      "Sensibilidad en 11: 0\n",
      "Sensibilidad en 12: 0\n",
      "Sensibilidad en 13: 0\n",
      "Sensibilidad en 14: 0\n",
      "Sensibilidad en 15: 0\n",
      "Sensibilidad en 16: 0\n",
      "Sensibilidad en 17: 0\n",
      "Sensibilidad en 18: 0\n",
      "\n",
      "Sensibilidad de proyección: 11,222,925 CLP\n"
     ]
    }
   ],
   "execution_count": 475
  },
  {
   "cell_type": "markdown",
   "metadata": {
    "collapsed": false,
    "jupyter": {
     "outputs_hidden": false
    }
   },
   "source": [
    "Como se espera de una pata OvernightIndex (con lag de pago igual a 0 y spread igual a 0), ambas sensibilidades se cancelan."
   ]
  },
  {
   "cell_type": "markdown",
   "metadata": {
    "collapsed": false,
    "jupyter": {
     "outputs_hidden": false
    }
   },
   "source": [
    "#### Se verifica la sensibilidad de proyección por diferencias finitas:"
   ]
  },
  {
   "cell_type": "code",
   "metadata": {
    "collapsed": false,
    "execution": {
     "iopub.status.busy": "2024-06-25T21:49:20.167669Z",
     "iopub.status.idle": "2024-06-25T21:49:20.168130Z",
     "shell.execute_reply": "2024-06-25T21:49:20.167943Z",
     "shell.execute_reply.started": "2024-06-25T21:49:20.167924Z"
    },
    "jupyter": {
     "outputs_hidden": false
    },
    "ExecuteTime": {
     "end_time": "2025-08-25T14:34:55.440877Z",
     "start_time": "2025-08-25T14:34:55.438613Z"
    }
   },
   "source": [
    "fwd_rates.set_rates_overnight_index_leg(fecha_hoy, icp_val, overnight_index_leg, zcc_clp_up)\n",
    "vp_on_index_leg_up = pv.pv(fecha_hoy, overnight_index_leg, zcc_clp)\n",
    "\n",
    "fwd_rates.set_rates_overnight_index_leg(fecha_hoy, icp_val, overnight_index_leg, zcc_clp_down)\n",
    "vp_on_index_leg_down = pv.pv(fecha_hoy, overnight_index_leg, zcc_clp)\n",
    "\n",
    "print(f\"Sensibilidad en vértice {vertice}: {(vp_on_index_leg_up - vp_on_index_leg_down) / 2:,.0f} CLP\")"
   ],
   "outputs": [
    {
     "name": "stdout",
     "output_type": "stream",
     "text": [
      "Sensibilidad en vértice 15: 0 CLP\n"
     ]
    }
   ],
   "execution_count": 476
  },
  {
   "cell_type": "markdown",
   "metadata": {},
   "source": [
    "### IborCashflow Leg"
   ]
  },
  {
   "cell_type": "markdown",
   "metadata": {},
   "source": [
    "Se da de alta una pata de tipo IborCashflow."
   ]
  },
  {
   "cell_type": "code",
   "metadata": {
    "execution": {
     "iopub.status.busy": "2024-06-25T21:49:20.169703Z",
     "iopub.status.idle": "2024-06-25T21:49:20.170342Z",
     "shell.execute_reply": "2024-06-25T21:49:20.170145Z",
     "shell.execute_reply.started": "2024-06-25T21:49:20.170125Z"
    },
    "ExecuteTime": {
     "end_time": "2025-08-25T14:34:55.479319Z",
     "start_time": "2025-08-25T14:34:55.476109Z"
    }
   },
   "source": [
    "rp = qcf.RecPay.RECEIVE\n",
    "fecha_inicio = qcf.QCDate(12, 11, 2019)\n",
    "fecha_final = qcf.QCDate(12, 5, 2021)\n",
    "bus_adj_rule = qcf.BusyAdjRules.MODFOLLOW\n",
    "periodicidad_pago = qcf.Tenor('6M')\n",
    "periodo_irregular_pago = qcf.StubPeriod.NO\n",
    "calendario = qcf.BusinessCalendar(fecha_inicio, 20)\n",
    "lag_pago = 0\n",
    "periodicidad_fijacion = qcf.Tenor('6M')\n",
    "periodo_irregular_fijacion = qcf.StubPeriod.NO\n",
    "\n",
    "# vamos a usar el mismo calendario para pago y fijaciones\n",
    "lag_de_fijacion = 2\n",
    "\n",
    "# Definición del índice\n",
    "codigo = 'TERSOFR6M'\n",
    "lin_act360 = qcf.QCInterestRate(.0, qcf.QCAct360(), qcf.QCLinearWf())\n",
    "fixing_lag = qcf.Tenor('2d')\n",
    "tenor = qcf.Tenor('6m')\n",
    "fixing_calendar = calendario\n",
    "settlement_calendar = calendario\n",
    "usd = qcf.QCUSD()\n",
    "termsofr_6m = qcf.InterestRateIndex(\n",
    "    codigo,\n",
    "    lin_act360,\n",
    "    fixing_lag,\n",
    "    tenor,\n",
    "    fixing_calendar,\n",
    "    settlement_calendar,\n",
    "    usd\n",
    ")\n",
    "# Fin índice\n",
    "\n",
    "nominal = 20_000_000.0\n",
    "amort_es_flujo = True\n",
    "moneda = usd\n",
    "spread = .0\n",
    "gearing = 1.0\n",
    "\n",
    "ibor_leg = qcf.LegFactory.build_bullet_ibor_leg(\n",
    "    rp, \n",
    "    fecha_inicio, \n",
    "    fecha_final, \n",
    "    bus_adj_rule, \n",
    "    periodicidad_pago,\n",
    "    periodo_irregular_pago, \n",
    "    calendario, \n",
    "    lag_pago,\n",
    "    periodicidad_fijacion, \n",
    "    periodo_irregular_fijacion,\n",
    "    calendario, \n",
    "    lag_de_fijacion, \n",
    "    termsofr_6m,\n",
    "    nominal, \n",
    "    amort_es_flujo, \n",
    "    moneda, \n",
    "    spread, \n",
    "    gearing\n",
    ")"
   ],
   "outputs": [],
   "execution_count": 477
  },
  {
   "cell_type": "code",
   "metadata": {
    "execution": {
     "iopub.status.busy": "2024-06-25T21:49:20.171639Z",
     "iopub.status.idle": "2024-06-25T21:49:20.172091Z",
     "shell.execute_reply": "2024-06-25T21:49:20.171913Z",
     "shell.execute_reply.started": "2024-06-25T21:49:20.171895Z"
    },
    "ExecuteTime": {
     "end_time": "2025-08-25T14:34:55.499859Z",
     "start_time": "2025-08-25T14:34:55.495884Z"
    }
   },
   "source": [
    "aux.leg_as_dataframe(ibor_leg).style.format(format_dict)"
   ],
   "outputs": [
    {
     "data": {
      "text/plain": [
       "<pandas.io.formats.style.Styler at 0x10bea9450>"
      ],
      "text/html": [
       "<style type=\"text/css\">\n",
       "</style>\n",
       "<table id=\"T_fa344\">\n",
       "  <thead>\n",
       "    <tr>\n",
       "      <th class=\"blank level0\" >&nbsp;</th>\n",
       "      <th id=\"T_fa344_level0_col0\" class=\"col_heading level0 col0\" >fecha_inicial</th>\n",
       "      <th id=\"T_fa344_level0_col1\" class=\"col_heading level0 col1\" >fecha_final</th>\n",
       "      <th id=\"T_fa344_level0_col2\" class=\"col_heading level0 col2\" >fecha_fixing</th>\n",
       "      <th id=\"T_fa344_level0_col3\" class=\"col_heading level0 col3\" >fecha_pago</th>\n",
       "      <th id=\"T_fa344_level0_col4\" class=\"col_heading level0 col4\" >nocional</th>\n",
       "      <th id=\"T_fa344_level0_col5\" class=\"col_heading level0 col5\" >amortizacion</th>\n",
       "      <th id=\"T_fa344_level0_col6\" class=\"col_heading level0 col6\" >interes</th>\n",
       "      <th id=\"T_fa344_level0_col7\" class=\"col_heading level0 col7\" >amort_es_flujo</th>\n",
       "      <th id=\"T_fa344_level0_col8\" class=\"col_heading level0 col8\" >flujo</th>\n",
       "      <th id=\"T_fa344_level0_col9\" class=\"col_heading level0 col9\" >moneda_nocional</th>\n",
       "      <th id=\"T_fa344_level0_col10\" class=\"col_heading level0 col10\" >codigo_indice_tasa</th>\n",
       "      <th id=\"T_fa344_level0_col11\" class=\"col_heading level0 col11\" >valor_tasa</th>\n",
       "      <th id=\"T_fa344_level0_col12\" class=\"col_heading level0 col12\" >spread</th>\n",
       "      <th id=\"T_fa344_level0_col13\" class=\"col_heading level0 col13\" >gearing</th>\n",
       "      <th id=\"T_fa344_level0_col14\" class=\"col_heading level0 col14\" >tipo_tasa</th>\n",
       "    </tr>\n",
       "  </thead>\n",
       "  <tbody>\n",
       "    <tr>\n",
       "      <th id=\"T_fa344_level0_row0\" class=\"row_heading level0 row0\" >0</th>\n",
       "      <td id=\"T_fa344_row0_col0\" class=\"data row0 col0\" >2019-11-12</td>\n",
       "      <td id=\"T_fa344_row0_col1\" class=\"data row0 col1\" >2020-05-12</td>\n",
       "      <td id=\"T_fa344_row0_col2\" class=\"data row0 col2\" >2019-11-08</td>\n",
       "      <td id=\"T_fa344_row0_col3\" class=\"data row0 col3\" >2020-05-12</td>\n",
       "      <td id=\"T_fa344_row0_col4\" class=\"data row0 col4\" >20,000,000.00</td>\n",
       "      <td id=\"T_fa344_row0_col5\" class=\"data row0 col5\" >0.00</td>\n",
       "      <td id=\"T_fa344_row0_col6\" class=\"data row0 col6\" >0.00</td>\n",
       "      <td id=\"T_fa344_row0_col7\" class=\"data row0 col7\" >True</td>\n",
       "      <td id=\"T_fa344_row0_col8\" class=\"data row0 col8\" >0.00</td>\n",
       "      <td id=\"T_fa344_row0_col9\" class=\"data row0 col9\" >USD</td>\n",
       "      <td id=\"T_fa344_row0_col10\" class=\"data row0 col10\" >TERSOFR6M</td>\n",
       "      <td id=\"T_fa344_row0_col11\" class=\"data row0 col11\" >0.0000%</td>\n",
       "      <td id=\"T_fa344_row0_col12\" class=\"data row0 col12\" >0.0000%</td>\n",
       "      <td id=\"T_fa344_row0_col13\" class=\"data row0 col13\" >1.00</td>\n",
       "      <td id=\"T_fa344_row0_col14\" class=\"data row0 col14\" >LinAct360</td>\n",
       "    </tr>\n",
       "    <tr>\n",
       "      <th id=\"T_fa344_level0_row1\" class=\"row_heading level0 row1\" >1</th>\n",
       "      <td id=\"T_fa344_row1_col0\" class=\"data row1 col0\" >2020-05-12</td>\n",
       "      <td id=\"T_fa344_row1_col1\" class=\"data row1 col1\" >2020-11-12</td>\n",
       "      <td id=\"T_fa344_row1_col2\" class=\"data row1 col2\" >2020-05-08</td>\n",
       "      <td id=\"T_fa344_row1_col3\" class=\"data row1 col3\" >2020-11-12</td>\n",
       "      <td id=\"T_fa344_row1_col4\" class=\"data row1 col4\" >20,000,000.00</td>\n",
       "      <td id=\"T_fa344_row1_col5\" class=\"data row1 col5\" >0.00</td>\n",
       "      <td id=\"T_fa344_row1_col6\" class=\"data row1 col6\" >0.00</td>\n",
       "      <td id=\"T_fa344_row1_col7\" class=\"data row1 col7\" >True</td>\n",
       "      <td id=\"T_fa344_row1_col8\" class=\"data row1 col8\" >0.00</td>\n",
       "      <td id=\"T_fa344_row1_col9\" class=\"data row1 col9\" >USD</td>\n",
       "      <td id=\"T_fa344_row1_col10\" class=\"data row1 col10\" >TERSOFR6M</td>\n",
       "      <td id=\"T_fa344_row1_col11\" class=\"data row1 col11\" >0.0000%</td>\n",
       "      <td id=\"T_fa344_row1_col12\" class=\"data row1 col12\" >0.0000%</td>\n",
       "      <td id=\"T_fa344_row1_col13\" class=\"data row1 col13\" >1.00</td>\n",
       "      <td id=\"T_fa344_row1_col14\" class=\"data row1 col14\" >LinAct360</td>\n",
       "    </tr>\n",
       "    <tr>\n",
       "      <th id=\"T_fa344_level0_row2\" class=\"row_heading level0 row2\" >2</th>\n",
       "      <td id=\"T_fa344_row2_col0\" class=\"data row2 col0\" >2020-11-12</td>\n",
       "      <td id=\"T_fa344_row2_col1\" class=\"data row2 col1\" >2021-05-12</td>\n",
       "      <td id=\"T_fa344_row2_col2\" class=\"data row2 col2\" >2020-11-10</td>\n",
       "      <td id=\"T_fa344_row2_col3\" class=\"data row2 col3\" >2021-05-12</td>\n",
       "      <td id=\"T_fa344_row2_col4\" class=\"data row2 col4\" >20,000,000.00</td>\n",
       "      <td id=\"T_fa344_row2_col5\" class=\"data row2 col5\" >20,000,000.00</td>\n",
       "      <td id=\"T_fa344_row2_col6\" class=\"data row2 col6\" >0.00</td>\n",
       "      <td id=\"T_fa344_row2_col7\" class=\"data row2 col7\" >True</td>\n",
       "      <td id=\"T_fa344_row2_col8\" class=\"data row2 col8\" >20,000,000.00</td>\n",
       "      <td id=\"T_fa344_row2_col9\" class=\"data row2 col9\" >USD</td>\n",
       "      <td id=\"T_fa344_row2_col10\" class=\"data row2 col10\" >TERSOFR6M</td>\n",
       "      <td id=\"T_fa344_row2_col11\" class=\"data row2 col11\" >0.0000%</td>\n",
       "      <td id=\"T_fa344_row2_col12\" class=\"data row2 col12\" >0.0000%</td>\n",
       "      <td id=\"T_fa344_row2_col13\" class=\"data row2 col13\" >1.00</td>\n",
       "      <td id=\"T_fa344_row2_col14\" class=\"data row2 col14\" >LinAct360</td>\n",
       "    </tr>\n",
       "  </tbody>\n",
       "</table>\n"
      ]
     },
     "execution_count": 478,
     "metadata": {},
     "output_type": "execute_result"
    }
   ],
   "execution_count": 478
  },
  {
   "cell_type": "code",
   "metadata": {
    "execution": {
     "iopub.status.busy": "2024-06-25T21:49:20.173304Z",
     "iopub.status.idle": "2024-06-25T21:49:20.173700Z",
     "shell.execute_reply": "2024-06-25T21:49:20.173529Z",
     "shell.execute_reply.started": "2024-06-25T21:49:20.173511Z"
    },
    "ExecuteTime": {
     "end_time": "2025-08-25T14:34:55.535030Z",
     "start_time": "2025-08-25T14:34:55.533023Z"
    }
   },
   "source": [
    "valor_termsofr_6m = 0.02\n",
    "fecha_hoy = qcf.QCDate(25, 2, 2020)\n",
    "ibor_leg.get_cashflow_at(0).set_interest_rate_value(valor_termsofr_6m)\n",
    "fwd_rates.set_rates_ibor_leg1(fecha_hoy, ibor_leg, zcc_usd)"
   ],
   "outputs": [],
   "execution_count": 479
  },
  {
   "cell_type": "code",
   "metadata": {
    "execution": {
     "iopub.status.busy": "2024-06-25T21:49:20.174852Z",
     "iopub.status.idle": "2024-06-25T21:49:20.175434Z",
     "shell.execute_reply": "2024-06-25T21:49:20.175259Z",
     "shell.execute_reply.started": "2024-06-25T21:49:20.175240Z"
    },
    "ExecuteTime": {
     "end_time": "2025-08-25T14:34:55.561392Z",
     "start_time": "2025-08-25T14:34:55.557128Z"
    }
   },
   "source": [
    "aux.leg_as_dataframe(ibor_leg).style.format(format_dict)"
   ],
   "outputs": [
    {
     "data": {
      "text/plain": [
       "<pandas.io.formats.style.Styler at 0x10beaa710>"
      ],
      "text/html": [
       "<style type=\"text/css\">\n",
       "</style>\n",
       "<table id=\"T_e2210\">\n",
       "  <thead>\n",
       "    <tr>\n",
       "      <th class=\"blank level0\" >&nbsp;</th>\n",
       "      <th id=\"T_e2210_level0_col0\" class=\"col_heading level0 col0\" >fecha_inicial</th>\n",
       "      <th id=\"T_e2210_level0_col1\" class=\"col_heading level0 col1\" >fecha_final</th>\n",
       "      <th id=\"T_e2210_level0_col2\" class=\"col_heading level0 col2\" >fecha_fixing</th>\n",
       "      <th id=\"T_e2210_level0_col3\" class=\"col_heading level0 col3\" >fecha_pago</th>\n",
       "      <th id=\"T_e2210_level0_col4\" class=\"col_heading level0 col4\" >nocional</th>\n",
       "      <th id=\"T_e2210_level0_col5\" class=\"col_heading level0 col5\" >amortizacion</th>\n",
       "      <th id=\"T_e2210_level0_col6\" class=\"col_heading level0 col6\" >interes</th>\n",
       "      <th id=\"T_e2210_level0_col7\" class=\"col_heading level0 col7\" >amort_es_flujo</th>\n",
       "      <th id=\"T_e2210_level0_col8\" class=\"col_heading level0 col8\" >flujo</th>\n",
       "      <th id=\"T_e2210_level0_col9\" class=\"col_heading level0 col9\" >moneda_nocional</th>\n",
       "      <th id=\"T_e2210_level0_col10\" class=\"col_heading level0 col10\" >codigo_indice_tasa</th>\n",
       "      <th id=\"T_e2210_level0_col11\" class=\"col_heading level0 col11\" >valor_tasa</th>\n",
       "      <th id=\"T_e2210_level0_col12\" class=\"col_heading level0 col12\" >spread</th>\n",
       "      <th id=\"T_e2210_level0_col13\" class=\"col_heading level0 col13\" >gearing</th>\n",
       "      <th id=\"T_e2210_level0_col14\" class=\"col_heading level0 col14\" >tipo_tasa</th>\n",
       "    </tr>\n",
       "  </thead>\n",
       "  <tbody>\n",
       "    <tr>\n",
       "      <th id=\"T_e2210_level0_row0\" class=\"row_heading level0 row0\" >0</th>\n",
       "      <td id=\"T_e2210_row0_col0\" class=\"data row0 col0\" >2019-11-12</td>\n",
       "      <td id=\"T_e2210_row0_col1\" class=\"data row0 col1\" >2020-05-12</td>\n",
       "      <td id=\"T_e2210_row0_col2\" class=\"data row0 col2\" >2019-11-08</td>\n",
       "      <td id=\"T_e2210_row0_col3\" class=\"data row0 col3\" >2020-05-12</td>\n",
       "      <td id=\"T_e2210_row0_col4\" class=\"data row0 col4\" >20,000,000.00</td>\n",
       "      <td id=\"T_e2210_row0_col5\" class=\"data row0 col5\" >0.00</td>\n",
       "      <td id=\"T_e2210_row0_col6\" class=\"data row0 col6\" >202,222.22</td>\n",
       "      <td id=\"T_e2210_row0_col7\" class=\"data row0 col7\" >True</td>\n",
       "      <td id=\"T_e2210_row0_col8\" class=\"data row0 col8\" >202,222.22</td>\n",
       "      <td id=\"T_e2210_row0_col9\" class=\"data row0 col9\" >USD</td>\n",
       "      <td id=\"T_e2210_row0_col10\" class=\"data row0 col10\" >TERSOFR6M</td>\n",
       "      <td id=\"T_e2210_row0_col11\" class=\"data row0 col11\" >2.0000%</td>\n",
       "      <td id=\"T_e2210_row0_col12\" class=\"data row0 col12\" >0.0000%</td>\n",
       "      <td id=\"T_e2210_row0_col13\" class=\"data row0 col13\" >1.00</td>\n",
       "      <td id=\"T_e2210_row0_col14\" class=\"data row0 col14\" >LinAct360</td>\n",
       "    </tr>\n",
       "    <tr>\n",
       "      <th id=\"T_e2210_level0_row1\" class=\"row_heading level0 row1\" >1</th>\n",
       "      <td id=\"T_e2210_row1_col0\" class=\"data row1 col0\" >2020-05-12</td>\n",
       "      <td id=\"T_e2210_row1_col1\" class=\"data row1 col1\" >2020-11-12</td>\n",
       "      <td id=\"T_e2210_row1_col2\" class=\"data row1 col2\" >2020-05-08</td>\n",
       "      <td id=\"T_e2210_row1_col3\" class=\"data row1 col3\" >2020-11-12</td>\n",
       "      <td id=\"T_e2210_row1_col4\" class=\"data row1 col4\" >20,000,000.00</td>\n",
       "      <td id=\"T_e2210_row1_col5\" class=\"data row1 col5\" >0.00</td>\n",
       "      <td id=\"T_e2210_row1_col6\" class=\"data row1 col6\" >169,878.64</td>\n",
       "      <td id=\"T_e2210_row1_col7\" class=\"data row1 col7\" >True</td>\n",
       "      <td id=\"T_e2210_row1_col8\" class=\"data row1 col8\" >169,878.64</td>\n",
       "      <td id=\"T_e2210_row1_col9\" class=\"data row1 col9\" >USD</td>\n",
       "      <td id=\"T_e2210_row1_col10\" class=\"data row1 col10\" >TERSOFR6M</td>\n",
       "      <td id=\"T_e2210_row1_col11\" class=\"data row1 col11\" >1.6619%</td>\n",
       "      <td id=\"T_e2210_row1_col12\" class=\"data row1 col12\" >0.0000%</td>\n",
       "      <td id=\"T_e2210_row1_col13\" class=\"data row1 col13\" >1.00</td>\n",
       "      <td id=\"T_e2210_row1_col14\" class=\"data row1 col14\" >LinAct360</td>\n",
       "    </tr>\n",
       "    <tr>\n",
       "      <th id=\"T_e2210_level0_row2\" class=\"row_heading level0 row2\" >2</th>\n",
       "      <td id=\"T_e2210_row2_col0\" class=\"data row2 col0\" >2020-11-12</td>\n",
       "      <td id=\"T_e2210_row2_col1\" class=\"data row2 col1\" >2021-05-12</td>\n",
       "      <td id=\"T_e2210_row2_col2\" class=\"data row2 col2\" >2020-11-10</td>\n",
       "      <td id=\"T_e2210_row2_col3\" class=\"data row2 col3\" >2021-05-12</td>\n",
       "      <td id=\"T_e2210_row2_col4\" class=\"data row2 col4\" >20,000,000.00</td>\n",
       "      <td id=\"T_e2210_row2_col5\" class=\"data row2 col5\" >20,000,000.00</td>\n",
       "      <td id=\"T_e2210_row2_col6\" class=\"data row2 col6\" >155,899.59</td>\n",
       "      <td id=\"T_e2210_row2_col7\" class=\"data row2 col7\" >True</td>\n",
       "      <td id=\"T_e2210_row2_col8\" class=\"data row2 col8\" >20,155,899.59</td>\n",
       "      <td id=\"T_e2210_row2_col9\" class=\"data row2 col9\" >USD</td>\n",
       "      <td id=\"T_e2210_row2_col10\" class=\"data row2 col10\" >TERSOFR6M</td>\n",
       "      <td id=\"T_e2210_row2_col11\" class=\"data row2 col11\" >1.5504%</td>\n",
       "      <td id=\"T_e2210_row2_col12\" class=\"data row2 col12\" >0.0000%</td>\n",
       "      <td id=\"T_e2210_row2_col13\" class=\"data row2 col13\" >1.00</td>\n",
       "      <td id=\"T_e2210_row2_col14\" class=\"data row2 col14\" >LinAct360</td>\n",
       "    </tr>\n",
       "  </tbody>\n",
       "</table>\n"
      ]
     },
     "execution_count": 480,
     "metadata": {},
     "output_type": "execute_result"
    }
   ],
   "execution_count": 480
  },
  {
   "cell_type": "markdown",
   "metadata": {},
   "source": [
    "Se verifica la tasa forward del segundo cashflow."
   ]
  },
  {
   "cell_type": "code",
   "metadata": {
    "execution": {
     "iopub.status.busy": "2024-06-25T21:49:20.176463Z",
     "iopub.status.idle": "2024-06-25T21:49:20.177018Z",
     "shell.execute_reply": "2024-06-25T21:49:20.176837Z",
     "shell.execute_reply.started": "2024-06-25T21:49:20.176818Z"
    },
    "ExecuteTime": {
     "end_time": "2025-08-25T14:34:55.606196Z",
     "start_time": "2025-08-25T14:34:55.603334Z"
    }
   },
   "source": [
    "which_cashflow = 1\n",
    "d1 = fecha_hoy.day_diff(ibor_leg.get_cashflow_at(which_cashflow).get_start_date())\n",
    "d2 = fecha_hoy.day_diff(ibor_leg.get_cashflow_at(which_cashflow).get_end_date())\n",
    "print(f\"d1: {d1:,.0f}\")\n",
    "print(f\"d2: {d2:,.0f}\")\n",
    "crv = zcc_usd\n",
    "w1 = 1 / crv.get_discount_factor_at(d1)\n",
    "w2 = 1 / crv.get_discount_factor_at(d2)\n",
    "print(f\"Factor forward: {w2 / w1:.4%}\")\n",
    "print(f\"Tasa forward: {(w2 / w1 - 1) * 360 / (d2 - d1):.4%}\")\n",
    "print(f\"Curve method {crv.get_forward_rate_with_rate(termsofr_6m.get_rate(), d1, d2):.4%}\")"
   ],
   "outputs": [
    {
     "name": "stdout",
     "output_type": "stream",
     "text": [
      "d1: 77\n",
      "d2: 261\n",
      "Factor forward: 100.8494%\n",
      "Tasa forward: 1.6619%\n",
      "Curve method 1.6619%\n"
     ]
    }
   ],
   "execution_count": 481
  },
  {
   "cell_type": "markdown",
   "metadata": {},
   "source": [
    "Cálculo de valor presente."
   ]
  },
  {
   "cell_type": "code",
   "metadata": {
    "cell_style": "center",
    "execution": {
     "iopub.status.busy": "2024-06-25T21:49:20.178173Z",
     "iopub.status.idle": "2024-06-25T21:49:20.178734Z",
     "shell.execute_reply": "2024-06-25T21:49:20.178540Z",
     "shell.execute_reply.started": "2024-06-25T21:49:20.178520Z"
    },
    "ExecuteTime": {
     "end_time": "2025-08-25T14:34:55.640842Z",
     "start_time": "2025-08-25T14:34:55.638914Z"
    }
   },
   "source": [
    "vp_ibor = pv.pv(fecha_hoy, ibor_leg, zcc_usd)\n",
    "print(f\"Valor presente pata IBOR: {vp_ibor:,.0f}\")"
   ],
   "outputs": [
    {
     "name": "stdout",
     "output_type": "stream",
     "text": [
      "Valor presente pata IBOR: 20,126,209\n"
     ]
    }
   ],
   "execution_count": 482
  },
  {
   "cell_type": "markdown",
   "metadata": {},
   "source": [
    "Derivadas del valor presente."
   ]
  },
  {
   "cell_type": "code",
   "metadata": {
    "execution": {
     "iopub.status.busy": "2024-06-25T21:49:20.179867Z",
     "iopub.status.idle": "2024-06-25T21:49:20.180444Z",
     "shell.execute_reply": "2024-06-25T21:49:20.180262Z",
     "shell.execute_reply.started": "2024-06-25T21:49:20.180244Z"
    },
    "ExecuteTime": {
     "end_time": "2025-08-25T14:34:55.675813Z",
     "start_time": "2025-08-25T14:34:55.673405Z"
    }
   },
   "source": [
    "der = pv.get_derivatives()\n",
    "i = 0\n",
    "for d in der:\n",
    "    print(f\"Sensibilidad en {i}: {d * bp / 10_000:0,.0f}\")\n",
    "    i += 1\n",
    "print()\n",
    "print(f\"Sensibilidad de descuento: {sum(der) * bp / 10_000:,.0f} USD\")"
   ],
   "outputs": [
    {
     "name": "stdout",
     "output_type": "stream",
     "text": [
      "Sensibilidad en 0: 0\n",
      "Sensibilidad en 1: 0\n",
      "Sensibilidad en 2: 0\n",
      "Sensibilidad en 3: 0\n",
      "Sensibilidad en 4: 0\n",
      "Sensibilidad en 5: -2\n",
      "Sensibilidad en 6: -2\n",
      "Sensibilidad en 7: 0\n",
      "Sensibilidad en 8: 0\n",
      "Sensibilidad en 9: 0\n",
      "Sensibilidad en 10: 0\n",
      "Sensibilidad en 11: -6\n",
      "Sensibilidad en 12: -6\n",
      "Sensibilidad en 13: 0\n",
      "Sensibilidad en 14: 0\n",
      "Sensibilidad en 15: -1,407\n",
      "Sensibilidad en 16: -986\n",
      "Sensibilidad en 17: 0\n",
      "Sensibilidad en 18: 0\n",
      "Sensibilidad en 19: 0\n",
      "Sensibilidad en 20: 0\n",
      "Sensibilidad en 21: 0\n",
      "Sensibilidad en 22: 0\n",
      "Sensibilidad en 23: 0\n",
      "Sensibilidad en 24: 0\n",
      "Sensibilidad en 25: 0\n",
      "Sensibilidad en 26: 0\n",
      "Sensibilidad en 27: 0\n",
      "\n",
      "Sensibilidad de descuento: -2,409 USD\n"
     ]
    }
   ],
   "execution_count": 483
  },
  {
   "cell_type": "markdown",
   "metadata": {},
   "source": [
    "#### Se verifica la sensibilidad de descuento por diferencias finitas."
   ]
  },
  {
   "cell_type": "code",
   "metadata": {
    "execution": {
     "iopub.status.busy": "2024-06-25T21:49:20.182049Z",
     "iopub.status.idle": "2024-06-25T21:49:20.182518Z",
     "shell.execute_reply": "2024-06-25T21:49:20.182340Z",
     "shell.execute_reply.started": "2024-06-25T21:49:20.182321Z"
    },
    "ExecuteTime": {
     "end_time": "2025-08-25T14:34:55.711226Z",
     "start_time": "2025-08-25T14:34:55.709231Z"
    }
   },
   "source": [
    "vp_ibor_up = pv.pv(fecha_hoy, ibor_leg, zcc_usd_up)\n",
    "print(f\"Valor presente up pata IBOR: {vp_ibor_up:,.0f}\")\n",
    "\n",
    "vp_ibor_down = pv.pv(fecha_hoy, ibor_leg, zcc_usd_down)\n",
    "print(f\"Valor presente down pata IBOR: {vp_ibor_down:,.0f}\")\n",
    "\n",
    "print(f\"Sensibilidad de descuento en el vértice {vertice}: {(vp_ibor_up - vp_ibor_down) / 2:,.0f}\")"
   ],
   "outputs": [
    {
     "name": "stdout",
     "output_type": "stream",
     "text": [
      "Valor presente up pata IBOR: 20,124,803\n",
      "Valor presente down pata IBOR: 20,127,616\n",
      "Sensibilidad de descuento en el vértice 15: -1,407\n"
     ]
    }
   ],
   "execution_count": 484
  },
  {
   "cell_type": "markdown",
   "metadata": {},
   "source": [
    "Se calcula también la sensibilidad a la curva de proyección."
   ]
  },
  {
   "cell_type": "code",
   "metadata": {
    "execution": {
     "iopub.status.busy": "2024-06-25T21:49:20.184286Z",
     "iopub.status.idle": "2024-06-25T21:49:20.184775Z",
     "shell.execute_reply": "2024-06-25T21:49:20.184605Z",
     "shell.execute_reply.started": "2024-06-25T21:49:20.184587Z"
    },
    "ExecuteTime": {
     "end_time": "2025-08-25T14:34:55.747720Z",
     "start_time": "2025-08-25T14:34:55.744547Z"
    }
   },
   "source": [
    "result = []\n",
    "\n",
    "for i in range(ibor_leg.size()):\n",
    "    cshflw = ibor_leg.get_cashflow_at(i)\n",
    "    df = zcc_usd.get_discount_factor_at(fecha_hoy.day_diff(cshflw.get_settlement_date()))\n",
    "    amt_der = cshflw.get_amount_derivatives()\n",
    "    if len(amt_der) > 0:\n",
    "        amt_der = [a * bp / 10_000 * df for a in amt_der]\n",
    "        result.append(np.array(amt_der))\n",
    "\n",
    "total = result[0] * 0\n",
    "for r in result:\n",
    "    total += r\n",
    "\n",
    "for i in range(len(total)):\n",
    "    print(f\"Sensibilidad en {i}: {total[i]:0,.0f}\")\n",
    "print()\n",
    "print(f\"Sensibilidad de proyección: {sum(total):,.0f} USD\")"
   ],
   "outputs": [
    {
     "name": "stdout",
     "output_type": "stream",
     "text": [
      "Sensibilidad en 0: 0\n",
      "Sensibilidad en 1: 0\n",
      "Sensibilidad en 2: 0\n",
      "Sensibilidad en 3: 0\n",
      "Sensibilidad en 4: 0\n",
      "Sensibilidad en 5: -190\n",
      "Sensibilidad en 6: -231\n",
      "Sensibilidad en 7: 0\n",
      "Sensibilidad en 8: 0\n",
      "Sensibilidad en 9: 0\n",
      "Sensibilidad en 10: 0\n",
      "Sensibilidad en 11: 6\n",
      "Sensibilidad en 12: 6\n",
      "Sensibilidad en 13: 0\n",
      "Sensibilidad en 14: 0\n",
      "Sensibilidad en 15: 1,407\n",
      "Sensibilidad en 16: 986\n",
      "Sensibilidad en 17: 0\n",
      "Sensibilidad en 18: 0\n",
      "Sensibilidad en 19: 0\n",
      "Sensibilidad en 20: 0\n",
      "Sensibilidad en 21: 0\n",
      "Sensibilidad en 22: 0\n",
      "Sensibilidad en 23: 0\n",
      "Sensibilidad en 24: 0\n",
      "Sensibilidad en 25: 0\n",
      "Sensibilidad en 26: 0\n",
      "Sensibilidad en 27: 0\n",
      "\n",
      "Sensibilidad de proyección: 1,984 USD\n"
     ]
    }
   ],
   "execution_count": 485
  },
  {
   "cell_type": "markdown",
   "metadata": {},
   "source": [
    "#### Se verifica la sensibilidad de proyección por diferencias finitas."
   ]
  },
  {
   "cell_type": "code",
   "metadata": {
    "execution": {
     "iopub.status.busy": "2024-06-25T21:49:20.186085Z",
     "iopub.status.idle": "2024-06-25T21:49:20.186777Z",
     "shell.execute_reply": "2024-06-25T21:49:20.186596Z",
     "shell.execute_reply.started": "2024-06-25T21:49:20.186574Z"
    },
    "ExecuteTime": {
     "end_time": "2025-08-25T14:34:55.787600Z",
     "start_time": "2025-08-25T14:34:55.785259Z"
    }
   },
   "source": [
    "fwd_rates.set_rates_ibor_leg1(fecha_hoy, ibor_leg, zcc_usd_up)\n",
    "vp_ibor_up = pv.pv(fecha_hoy, ibor_leg, zcc_usd)\n",
    "print(f\"Valor presente up pata IBOR: {vp_ibor_up:,.0f}\")\n",
    "\n",
    "fwd_rates.set_rates_ibor_leg1(fecha_hoy, ibor_leg, zcc_usd_down)\n",
    "vp_ibor_down = pv.pv(fecha_hoy, ibor_leg, zcc_usd)\n",
    "print(f\"Valor presente down pata IBOR: {vp_ibor_down:,.0f}\")\n",
    "\n",
    "print(f\"Sensibilidad de proyección en el vértice {vertice}: {(vp_ibor_up - vp_ibor_down) / 2:,.0f}\")"
   ],
   "outputs": [
    {
     "name": "stdout",
     "output_type": "stream",
     "text": [
      "Valor presente up pata IBOR: 20,127,616\n",
      "Valor presente down pata IBOR: 20,124,803\n",
      "Sensibilidad de proyección en el vértice 15: 1,407\n"
     ]
    }
   ],
   "execution_count": 486
  },
  {
   "cell_type": "markdown",
   "metadata": {},
   "source": [
    "### IcpClfCashflow Leg"
   ]
  },
  {
   "cell_type": "markdown",
   "metadata": {},
   "source": [
    "Se da de alta una pata de tipo IcpClfCashflow."
   ]
  },
  {
   "cell_type": "code",
   "metadata": {
    "execution": {
     "iopub.status.busy": "2024-06-25T21:49:20.187919Z",
     "iopub.status.idle": "2024-06-25T21:49:20.188400Z",
     "shell.execute_reply": "2024-06-25T21:49:20.188207Z",
     "shell.execute_reply.started": "2024-06-25T21:49:20.188187Z"
    },
    "ExecuteTime": {
     "end_time": "2025-08-25T14:34:55.830685Z",
     "start_time": "2025-08-25T14:34:55.828303Z"
    }
   },
   "source": [
    "rp = qcf.RecPay.RECEIVE\n",
    "fecha_inicio = qcf.QCDate(31, 5, 2018)\n",
    "fecha_final = qcf.QCDate(31, 3, 2021) \n",
    "bus_adj_rule = qcf.BusyAdjRules.FOLLOW\n",
    "periodicidad_pago = qcf.Tenor('6M')\n",
    "periodo_irregular_pago = qcf.StubPeriod.SHORTFRONT\n",
    "calendario = qcf.BusinessCalendar(fecha_inicio, 20)\n",
    "lag_pago = 0\n",
    "nominal = 300_000.0\n",
    "amort_es_flujo = True \n",
    "spread = .0\n",
    "gearing = 1.0\n",
    "\n",
    "icp_clf_leg = qcf.LegFactory.build_bullet_icp_clf_leg(\n",
    "    rp, \n",
    "    fecha_inicio, \n",
    "    fecha_final, \n",
    "    bus_adj_rule, \n",
    "    periodicidad_pago,\n",
    "    periodo_irregular_pago, \n",
    "    calendario, \n",
    "    lag_pago,\n",
    "    nominal, \n",
    "    amort_es_flujo, \n",
    "    spread, \n",
    "    gearing\n",
    ")"
   ],
   "outputs": [],
   "execution_count": 487
  },
  {
   "cell_type": "code",
   "metadata": {
    "execution": {
     "iopub.status.busy": "2024-06-25T21:49:20.189515Z",
     "iopub.status.idle": "2024-06-25T21:49:20.190018Z",
     "shell.execute_reply": "2024-06-25T21:49:20.189834Z",
     "shell.execute_reply.started": "2024-06-25T21:49:20.189815Z"
    },
    "ExecuteTime": {
     "end_time": "2025-08-25T14:34:55.855473Z",
     "start_time": "2025-08-25T14:34:55.850838Z"
    }
   },
   "source": [
    "aux.leg_as_dataframe(icp_clf_leg).style.format(format_dict)"
   ],
   "outputs": [
    {
     "data": {
      "text/plain": [
       "<pandas.io.formats.style.Styler at 0x10bea8f50>"
      ],
      "text/html": [
       "<style type=\"text/css\">\n",
       "</style>\n",
       "<table id=\"T_9456e\">\n",
       "  <thead>\n",
       "    <tr>\n",
       "      <th class=\"blank level0\" >&nbsp;</th>\n",
       "      <th id=\"T_9456e_level0_col0\" class=\"col_heading level0 col0\" >fecha_inicial</th>\n",
       "      <th id=\"T_9456e_level0_col1\" class=\"col_heading level0 col1\" >fecha_final</th>\n",
       "      <th id=\"T_9456e_level0_col2\" class=\"col_heading level0 col2\" >fecha_pago</th>\n",
       "      <th id=\"T_9456e_level0_col3\" class=\"col_heading level0 col3\" >nocional</th>\n",
       "      <th id=\"T_9456e_level0_col4\" class=\"col_heading level0 col4\" >amortizacion</th>\n",
       "      <th id=\"T_9456e_level0_col5\" class=\"col_heading level0 col5\" >amort_es_flujo</th>\n",
       "      <th id=\"T_9456e_level0_col6\" class=\"col_heading level0 col6\" >flujo</th>\n",
       "      <th id=\"T_9456e_level0_col7\" class=\"col_heading level0 col7\" >moneda_nocional</th>\n",
       "      <th id=\"T_9456e_level0_col8\" class=\"col_heading level0 col8\" >icp_inicial</th>\n",
       "      <th id=\"T_9456e_level0_col9\" class=\"col_heading level0 col9\" >icp_final</th>\n",
       "      <th id=\"T_9456e_level0_col10\" class=\"col_heading level0 col10\" >uf_inicial</th>\n",
       "      <th id=\"T_9456e_level0_col11\" class=\"col_heading level0 col11\" >uf_final</th>\n",
       "      <th id=\"T_9456e_level0_col12\" class=\"col_heading level0 col12\" >valor_tasa</th>\n",
       "      <th id=\"T_9456e_level0_col13\" class=\"col_heading level0 col13\" >interes</th>\n",
       "      <th id=\"T_9456e_level0_col14\" class=\"col_heading level0 col14\" >spread</th>\n",
       "      <th id=\"T_9456e_level0_col15\" class=\"col_heading level0 col15\" >gearing</th>\n",
       "      <th id=\"T_9456e_level0_col16\" class=\"col_heading level0 col16\" >tipo_tasa</th>\n",
       "      <th id=\"T_9456e_level0_col17\" class=\"col_heading level0 col17\" >flujo_en_clp</th>\n",
       "    </tr>\n",
       "  </thead>\n",
       "  <tbody>\n",
       "    <tr>\n",
       "      <th id=\"T_9456e_level0_row0\" class=\"row_heading level0 row0\" >0</th>\n",
       "      <td id=\"T_9456e_row0_col0\" class=\"data row0 col0\" >2018-05-31</td>\n",
       "      <td id=\"T_9456e_row0_col1\" class=\"data row0 col1\" >2018-10-31</td>\n",
       "      <td id=\"T_9456e_row0_col2\" class=\"data row0 col2\" >2018-10-31</td>\n",
       "      <td id=\"T_9456e_row0_col3\" class=\"data row0 col3\" >300,000.00</td>\n",
       "      <td id=\"T_9456e_row0_col4\" class=\"data row0 col4\" >0.00</td>\n",
       "      <td id=\"T_9456e_row0_col5\" class=\"data row0 col5\" >True</td>\n",
       "      <td id=\"T_9456e_row0_col6\" class=\"data row0 col6\" >0.00</td>\n",
       "      <td id=\"T_9456e_row0_col7\" class=\"data row0 col7\" >CLF</td>\n",
       "      <td id=\"T_9456e_row0_col8\" class=\"data row0 col8\" >10,000.00</td>\n",
       "      <td id=\"T_9456e_row0_col9\" class=\"data row0 col9\" >10,000.00</td>\n",
       "      <td id=\"T_9456e_row0_col10\" class=\"data row0 col10\" >35,000.00</td>\n",
       "      <td id=\"T_9456e_row0_col11\" class=\"data row0 col11\" >35,000.00</td>\n",
       "      <td id=\"T_9456e_row0_col12\" class=\"data row0 col12\" >0.0000%</td>\n",
       "      <td id=\"T_9456e_row0_col13\" class=\"data row0 col13\" >0.00</td>\n",
       "      <td id=\"T_9456e_row0_col14\" class=\"data row0 col14\" >0.0000%</td>\n",
       "      <td id=\"T_9456e_row0_col15\" class=\"data row0 col15\" >1.00</td>\n",
       "      <td id=\"T_9456e_row0_col16\" class=\"data row0 col16\" >LinAct360</td>\n",
       "      <td id=\"T_9456e_row0_col17\" class=\"data row0 col17\" >0.00</td>\n",
       "    </tr>\n",
       "    <tr>\n",
       "      <th id=\"T_9456e_level0_row1\" class=\"row_heading level0 row1\" >1</th>\n",
       "      <td id=\"T_9456e_row1_col0\" class=\"data row1 col0\" >2018-10-31</td>\n",
       "      <td id=\"T_9456e_row1_col1\" class=\"data row1 col1\" >2019-04-30</td>\n",
       "      <td id=\"T_9456e_row1_col2\" class=\"data row1 col2\" >2019-04-30</td>\n",
       "      <td id=\"T_9456e_row1_col3\" class=\"data row1 col3\" >300,000.00</td>\n",
       "      <td id=\"T_9456e_row1_col4\" class=\"data row1 col4\" >0.00</td>\n",
       "      <td id=\"T_9456e_row1_col5\" class=\"data row1 col5\" >True</td>\n",
       "      <td id=\"T_9456e_row1_col6\" class=\"data row1 col6\" >0.00</td>\n",
       "      <td id=\"T_9456e_row1_col7\" class=\"data row1 col7\" >CLF</td>\n",
       "      <td id=\"T_9456e_row1_col8\" class=\"data row1 col8\" >10,000.00</td>\n",
       "      <td id=\"T_9456e_row1_col9\" class=\"data row1 col9\" >10,000.00</td>\n",
       "      <td id=\"T_9456e_row1_col10\" class=\"data row1 col10\" >35,000.00</td>\n",
       "      <td id=\"T_9456e_row1_col11\" class=\"data row1 col11\" >35,000.00</td>\n",
       "      <td id=\"T_9456e_row1_col12\" class=\"data row1 col12\" >0.0000%</td>\n",
       "      <td id=\"T_9456e_row1_col13\" class=\"data row1 col13\" >0.00</td>\n",
       "      <td id=\"T_9456e_row1_col14\" class=\"data row1 col14\" >0.0000%</td>\n",
       "      <td id=\"T_9456e_row1_col15\" class=\"data row1 col15\" >1.00</td>\n",
       "      <td id=\"T_9456e_row1_col16\" class=\"data row1 col16\" >LinAct360</td>\n",
       "      <td id=\"T_9456e_row1_col17\" class=\"data row1 col17\" >0.00</td>\n",
       "    </tr>\n",
       "    <tr>\n",
       "      <th id=\"T_9456e_level0_row2\" class=\"row_heading level0 row2\" >2</th>\n",
       "      <td id=\"T_9456e_row2_col0\" class=\"data row2 col0\" >2019-04-30</td>\n",
       "      <td id=\"T_9456e_row2_col1\" class=\"data row2 col1\" >2019-10-31</td>\n",
       "      <td id=\"T_9456e_row2_col2\" class=\"data row2 col2\" >2019-10-31</td>\n",
       "      <td id=\"T_9456e_row2_col3\" class=\"data row2 col3\" >300,000.00</td>\n",
       "      <td id=\"T_9456e_row2_col4\" class=\"data row2 col4\" >0.00</td>\n",
       "      <td id=\"T_9456e_row2_col5\" class=\"data row2 col5\" >True</td>\n",
       "      <td id=\"T_9456e_row2_col6\" class=\"data row2 col6\" >0.00</td>\n",
       "      <td id=\"T_9456e_row2_col7\" class=\"data row2 col7\" >CLF</td>\n",
       "      <td id=\"T_9456e_row2_col8\" class=\"data row2 col8\" >10,000.00</td>\n",
       "      <td id=\"T_9456e_row2_col9\" class=\"data row2 col9\" >10,000.00</td>\n",
       "      <td id=\"T_9456e_row2_col10\" class=\"data row2 col10\" >35,000.00</td>\n",
       "      <td id=\"T_9456e_row2_col11\" class=\"data row2 col11\" >35,000.00</td>\n",
       "      <td id=\"T_9456e_row2_col12\" class=\"data row2 col12\" >0.0000%</td>\n",
       "      <td id=\"T_9456e_row2_col13\" class=\"data row2 col13\" >0.00</td>\n",
       "      <td id=\"T_9456e_row2_col14\" class=\"data row2 col14\" >0.0000%</td>\n",
       "      <td id=\"T_9456e_row2_col15\" class=\"data row2 col15\" >1.00</td>\n",
       "      <td id=\"T_9456e_row2_col16\" class=\"data row2 col16\" >LinAct360</td>\n",
       "      <td id=\"T_9456e_row2_col17\" class=\"data row2 col17\" >0.00</td>\n",
       "    </tr>\n",
       "    <tr>\n",
       "      <th id=\"T_9456e_level0_row3\" class=\"row_heading level0 row3\" >3</th>\n",
       "      <td id=\"T_9456e_row3_col0\" class=\"data row3 col0\" >2019-10-31</td>\n",
       "      <td id=\"T_9456e_row3_col1\" class=\"data row3 col1\" >2020-04-30</td>\n",
       "      <td id=\"T_9456e_row3_col2\" class=\"data row3 col2\" >2020-04-30</td>\n",
       "      <td id=\"T_9456e_row3_col3\" class=\"data row3 col3\" >300,000.00</td>\n",
       "      <td id=\"T_9456e_row3_col4\" class=\"data row3 col4\" >0.00</td>\n",
       "      <td id=\"T_9456e_row3_col5\" class=\"data row3 col5\" >True</td>\n",
       "      <td id=\"T_9456e_row3_col6\" class=\"data row3 col6\" >0.00</td>\n",
       "      <td id=\"T_9456e_row3_col7\" class=\"data row3 col7\" >CLF</td>\n",
       "      <td id=\"T_9456e_row3_col8\" class=\"data row3 col8\" >10,000.00</td>\n",
       "      <td id=\"T_9456e_row3_col9\" class=\"data row3 col9\" >10,000.00</td>\n",
       "      <td id=\"T_9456e_row3_col10\" class=\"data row3 col10\" >35,000.00</td>\n",
       "      <td id=\"T_9456e_row3_col11\" class=\"data row3 col11\" >35,000.00</td>\n",
       "      <td id=\"T_9456e_row3_col12\" class=\"data row3 col12\" >0.0000%</td>\n",
       "      <td id=\"T_9456e_row3_col13\" class=\"data row3 col13\" >0.00</td>\n",
       "      <td id=\"T_9456e_row3_col14\" class=\"data row3 col14\" >0.0000%</td>\n",
       "      <td id=\"T_9456e_row3_col15\" class=\"data row3 col15\" >1.00</td>\n",
       "      <td id=\"T_9456e_row3_col16\" class=\"data row3 col16\" >LinAct360</td>\n",
       "      <td id=\"T_9456e_row3_col17\" class=\"data row3 col17\" >0.00</td>\n",
       "    </tr>\n",
       "    <tr>\n",
       "      <th id=\"T_9456e_level0_row4\" class=\"row_heading level0 row4\" >4</th>\n",
       "      <td id=\"T_9456e_row4_col0\" class=\"data row4 col0\" >2020-04-30</td>\n",
       "      <td id=\"T_9456e_row4_col1\" class=\"data row4 col1\" >2020-11-02</td>\n",
       "      <td id=\"T_9456e_row4_col2\" class=\"data row4 col2\" >2020-11-02</td>\n",
       "      <td id=\"T_9456e_row4_col3\" class=\"data row4 col3\" >300,000.00</td>\n",
       "      <td id=\"T_9456e_row4_col4\" class=\"data row4 col4\" >0.00</td>\n",
       "      <td id=\"T_9456e_row4_col5\" class=\"data row4 col5\" >True</td>\n",
       "      <td id=\"T_9456e_row4_col6\" class=\"data row4 col6\" >0.00</td>\n",
       "      <td id=\"T_9456e_row4_col7\" class=\"data row4 col7\" >CLF</td>\n",
       "      <td id=\"T_9456e_row4_col8\" class=\"data row4 col8\" >10,000.00</td>\n",
       "      <td id=\"T_9456e_row4_col9\" class=\"data row4 col9\" >10,000.00</td>\n",
       "      <td id=\"T_9456e_row4_col10\" class=\"data row4 col10\" >35,000.00</td>\n",
       "      <td id=\"T_9456e_row4_col11\" class=\"data row4 col11\" >35,000.00</td>\n",
       "      <td id=\"T_9456e_row4_col12\" class=\"data row4 col12\" >0.0000%</td>\n",
       "      <td id=\"T_9456e_row4_col13\" class=\"data row4 col13\" >0.00</td>\n",
       "      <td id=\"T_9456e_row4_col14\" class=\"data row4 col14\" >0.0000%</td>\n",
       "      <td id=\"T_9456e_row4_col15\" class=\"data row4 col15\" >1.00</td>\n",
       "      <td id=\"T_9456e_row4_col16\" class=\"data row4 col16\" >LinAct360</td>\n",
       "      <td id=\"T_9456e_row4_col17\" class=\"data row4 col17\" >0.00</td>\n",
       "    </tr>\n",
       "    <tr>\n",
       "      <th id=\"T_9456e_level0_row5\" class=\"row_heading level0 row5\" >5</th>\n",
       "      <td id=\"T_9456e_row5_col0\" class=\"data row5 col0\" >2020-11-02</td>\n",
       "      <td id=\"T_9456e_row5_col1\" class=\"data row5 col1\" >2021-04-30</td>\n",
       "      <td id=\"T_9456e_row5_col2\" class=\"data row5 col2\" >2021-04-30</td>\n",
       "      <td id=\"T_9456e_row5_col3\" class=\"data row5 col3\" >300,000.00</td>\n",
       "      <td id=\"T_9456e_row5_col4\" class=\"data row5 col4\" >300,000.00</td>\n",
       "      <td id=\"T_9456e_row5_col5\" class=\"data row5 col5\" >True</td>\n",
       "      <td id=\"T_9456e_row5_col6\" class=\"data row5 col6\" >300,000.00</td>\n",
       "      <td id=\"T_9456e_row5_col7\" class=\"data row5 col7\" >CLF</td>\n",
       "      <td id=\"T_9456e_row5_col8\" class=\"data row5 col8\" >10,000.00</td>\n",
       "      <td id=\"T_9456e_row5_col9\" class=\"data row5 col9\" >10,000.00</td>\n",
       "      <td id=\"T_9456e_row5_col10\" class=\"data row5 col10\" >35,000.00</td>\n",
       "      <td id=\"T_9456e_row5_col11\" class=\"data row5 col11\" >35,000.00</td>\n",
       "      <td id=\"T_9456e_row5_col12\" class=\"data row5 col12\" >0.0000%</td>\n",
       "      <td id=\"T_9456e_row5_col13\" class=\"data row5 col13\" >0.00</td>\n",
       "      <td id=\"T_9456e_row5_col14\" class=\"data row5 col14\" >0.0000%</td>\n",
       "      <td id=\"T_9456e_row5_col15\" class=\"data row5 col15\" >1.00</td>\n",
       "      <td id=\"T_9456e_row5_col16\" class=\"data row5 col16\" >LinAct360</td>\n",
       "      <td id=\"T_9456e_row5_col17\" class=\"data row5 col17\" >10,500,000,000.00</td>\n",
       "    </tr>\n",
       "  </tbody>\n",
       "</table>\n"
      ]
     },
     "execution_count": 488,
     "metadata": {},
     "output_type": "execute_result"
    }
   ],
   "execution_count": 488
  },
  {
   "cell_type": "code",
   "metadata": {
    "execution": {
     "iopub.status.busy": "2024-06-25T21:49:20.191258Z",
     "iopub.status.idle": "2024-06-25T21:49:20.191909Z",
     "shell.execute_reply": "2024-06-25T21:49:20.191726Z",
     "shell.execute_reply.started": "2024-06-25T21:49:20.191706Z"
    },
    "ExecuteTime": {
     "end_time": "2025-08-25T14:34:55.889236Z",
     "start_time": "2025-08-25T14:34:55.887432Z"
    }
   },
   "source": [
    "icp_hoy = 18_882.07\n",
    "uf_hoy = 28_440.19\n",
    "fwd_rates.set_rates_icp_clf_leg(fecha_hoy, icp_hoy, uf_hoy, icp_clf_leg, zcc_clp, zcc_clp, zcc_clf)\n",
    "cshflw = icp_clf_leg.get_cashflow_at(3)\n",
    "cshflw.set_start_date_uf(28_080.26)\n",
    "cshflw.set_start_date_icp(18_786.13)"
   ],
   "outputs": [],
   "execution_count": 489
  },
  {
   "cell_type": "code",
   "metadata": {
    "execution": {
     "iopub.status.busy": "2024-06-25T21:49:20.193321Z",
     "iopub.status.idle": "2024-06-25T21:49:20.193732Z",
     "shell.execute_reply": "2024-06-25T21:49:20.193568Z",
     "shell.execute_reply.started": "2024-06-25T21:49:20.193552Z"
    },
    "ExecuteTime": {
     "end_time": "2025-08-25T14:34:55.918397Z",
     "start_time": "2025-08-25T14:34:55.912124Z"
    }
   },
   "source": [
    "aux.leg_as_dataframe(icp_clf_leg).style.format(format_dict)"
   ],
   "outputs": [
    {
     "data": {
      "text/plain": [
       "<pandas.io.formats.style.Styler at 0x10beaac10>"
      ],
      "text/html": [
       "<style type=\"text/css\">\n",
       "</style>\n",
       "<table id=\"T_fbc87\">\n",
       "  <thead>\n",
       "    <tr>\n",
       "      <th class=\"blank level0\" >&nbsp;</th>\n",
       "      <th id=\"T_fbc87_level0_col0\" class=\"col_heading level0 col0\" >fecha_inicial</th>\n",
       "      <th id=\"T_fbc87_level0_col1\" class=\"col_heading level0 col1\" >fecha_final</th>\n",
       "      <th id=\"T_fbc87_level0_col2\" class=\"col_heading level0 col2\" >fecha_pago</th>\n",
       "      <th id=\"T_fbc87_level0_col3\" class=\"col_heading level0 col3\" >nocional</th>\n",
       "      <th id=\"T_fbc87_level0_col4\" class=\"col_heading level0 col4\" >amortizacion</th>\n",
       "      <th id=\"T_fbc87_level0_col5\" class=\"col_heading level0 col5\" >amort_es_flujo</th>\n",
       "      <th id=\"T_fbc87_level0_col6\" class=\"col_heading level0 col6\" >flujo</th>\n",
       "      <th id=\"T_fbc87_level0_col7\" class=\"col_heading level0 col7\" >moneda_nocional</th>\n",
       "      <th id=\"T_fbc87_level0_col8\" class=\"col_heading level0 col8\" >icp_inicial</th>\n",
       "      <th id=\"T_fbc87_level0_col9\" class=\"col_heading level0 col9\" >icp_final</th>\n",
       "      <th id=\"T_fbc87_level0_col10\" class=\"col_heading level0 col10\" >uf_inicial</th>\n",
       "      <th id=\"T_fbc87_level0_col11\" class=\"col_heading level0 col11\" >uf_final</th>\n",
       "      <th id=\"T_fbc87_level0_col12\" class=\"col_heading level0 col12\" >valor_tasa</th>\n",
       "      <th id=\"T_fbc87_level0_col13\" class=\"col_heading level0 col13\" >interes</th>\n",
       "      <th id=\"T_fbc87_level0_col14\" class=\"col_heading level0 col14\" >spread</th>\n",
       "      <th id=\"T_fbc87_level0_col15\" class=\"col_heading level0 col15\" >gearing</th>\n",
       "      <th id=\"T_fbc87_level0_col16\" class=\"col_heading level0 col16\" >tipo_tasa</th>\n",
       "      <th id=\"T_fbc87_level0_col17\" class=\"col_heading level0 col17\" >flujo_en_clp</th>\n",
       "    </tr>\n",
       "  </thead>\n",
       "  <tbody>\n",
       "    <tr>\n",
       "      <th id=\"T_fbc87_level0_row0\" class=\"row_heading level0 row0\" >0</th>\n",
       "      <td id=\"T_fbc87_row0_col0\" class=\"data row0 col0\" >2018-05-31</td>\n",
       "      <td id=\"T_fbc87_row0_col1\" class=\"data row0 col1\" >2018-10-31</td>\n",
       "      <td id=\"T_fbc87_row0_col2\" class=\"data row0 col2\" >2018-10-31</td>\n",
       "      <td id=\"T_fbc87_row0_col3\" class=\"data row0 col3\" >300,000.00</td>\n",
       "      <td id=\"T_fbc87_row0_col4\" class=\"data row0 col4\" >0.00</td>\n",
       "      <td id=\"T_fbc87_row0_col5\" class=\"data row0 col5\" >True</td>\n",
       "      <td id=\"T_fbc87_row0_col6\" class=\"data row0 col6\" >0.00</td>\n",
       "      <td id=\"T_fbc87_row0_col7\" class=\"data row0 col7\" >CLF</td>\n",
       "      <td id=\"T_fbc87_row0_col8\" class=\"data row0 col8\" >10,000.00</td>\n",
       "      <td id=\"T_fbc87_row0_col9\" class=\"data row0 col9\" >10,000.00</td>\n",
       "      <td id=\"T_fbc87_row0_col10\" class=\"data row0 col10\" >35,000.00</td>\n",
       "      <td id=\"T_fbc87_row0_col11\" class=\"data row0 col11\" >35,000.00</td>\n",
       "      <td id=\"T_fbc87_row0_col12\" class=\"data row0 col12\" >0.0000%</td>\n",
       "      <td id=\"T_fbc87_row0_col13\" class=\"data row0 col13\" >0.00</td>\n",
       "      <td id=\"T_fbc87_row0_col14\" class=\"data row0 col14\" >0.0000%</td>\n",
       "      <td id=\"T_fbc87_row0_col15\" class=\"data row0 col15\" >1.00</td>\n",
       "      <td id=\"T_fbc87_row0_col16\" class=\"data row0 col16\" >LinAct360</td>\n",
       "      <td id=\"T_fbc87_row0_col17\" class=\"data row0 col17\" >0.00</td>\n",
       "    </tr>\n",
       "    <tr>\n",
       "      <th id=\"T_fbc87_level0_row1\" class=\"row_heading level0 row1\" >1</th>\n",
       "      <td id=\"T_fbc87_row1_col0\" class=\"data row1 col0\" >2018-10-31</td>\n",
       "      <td id=\"T_fbc87_row1_col1\" class=\"data row1 col1\" >2019-04-30</td>\n",
       "      <td id=\"T_fbc87_row1_col2\" class=\"data row1 col2\" >2019-04-30</td>\n",
       "      <td id=\"T_fbc87_row1_col3\" class=\"data row1 col3\" >300,000.00</td>\n",
       "      <td id=\"T_fbc87_row1_col4\" class=\"data row1 col4\" >0.00</td>\n",
       "      <td id=\"T_fbc87_row1_col5\" class=\"data row1 col5\" >True</td>\n",
       "      <td id=\"T_fbc87_row1_col6\" class=\"data row1 col6\" >0.00</td>\n",
       "      <td id=\"T_fbc87_row1_col7\" class=\"data row1 col7\" >CLF</td>\n",
       "      <td id=\"T_fbc87_row1_col8\" class=\"data row1 col8\" >10,000.00</td>\n",
       "      <td id=\"T_fbc87_row1_col9\" class=\"data row1 col9\" >10,000.00</td>\n",
       "      <td id=\"T_fbc87_row1_col10\" class=\"data row1 col10\" >35,000.00</td>\n",
       "      <td id=\"T_fbc87_row1_col11\" class=\"data row1 col11\" >35,000.00</td>\n",
       "      <td id=\"T_fbc87_row1_col12\" class=\"data row1 col12\" >0.0000%</td>\n",
       "      <td id=\"T_fbc87_row1_col13\" class=\"data row1 col13\" >0.00</td>\n",
       "      <td id=\"T_fbc87_row1_col14\" class=\"data row1 col14\" >0.0000%</td>\n",
       "      <td id=\"T_fbc87_row1_col15\" class=\"data row1 col15\" >1.00</td>\n",
       "      <td id=\"T_fbc87_row1_col16\" class=\"data row1 col16\" >LinAct360</td>\n",
       "      <td id=\"T_fbc87_row1_col17\" class=\"data row1 col17\" >0.00</td>\n",
       "    </tr>\n",
       "    <tr>\n",
       "      <th id=\"T_fbc87_level0_row2\" class=\"row_heading level0 row2\" >2</th>\n",
       "      <td id=\"T_fbc87_row2_col0\" class=\"data row2 col0\" >2019-04-30</td>\n",
       "      <td id=\"T_fbc87_row2_col1\" class=\"data row2 col1\" >2019-10-31</td>\n",
       "      <td id=\"T_fbc87_row2_col2\" class=\"data row2 col2\" >2019-10-31</td>\n",
       "      <td id=\"T_fbc87_row2_col3\" class=\"data row2 col3\" >300,000.00</td>\n",
       "      <td id=\"T_fbc87_row2_col4\" class=\"data row2 col4\" >0.00</td>\n",
       "      <td id=\"T_fbc87_row2_col5\" class=\"data row2 col5\" >True</td>\n",
       "      <td id=\"T_fbc87_row2_col6\" class=\"data row2 col6\" >0.00</td>\n",
       "      <td id=\"T_fbc87_row2_col7\" class=\"data row2 col7\" >CLF</td>\n",
       "      <td id=\"T_fbc87_row2_col8\" class=\"data row2 col8\" >10,000.00</td>\n",
       "      <td id=\"T_fbc87_row2_col9\" class=\"data row2 col9\" >10,000.00</td>\n",
       "      <td id=\"T_fbc87_row2_col10\" class=\"data row2 col10\" >35,000.00</td>\n",
       "      <td id=\"T_fbc87_row2_col11\" class=\"data row2 col11\" >35,000.00</td>\n",
       "      <td id=\"T_fbc87_row2_col12\" class=\"data row2 col12\" >0.0000%</td>\n",
       "      <td id=\"T_fbc87_row2_col13\" class=\"data row2 col13\" >0.00</td>\n",
       "      <td id=\"T_fbc87_row2_col14\" class=\"data row2 col14\" >0.0000%</td>\n",
       "      <td id=\"T_fbc87_row2_col15\" class=\"data row2 col15\" >1.00</td>\n",
       "      <td id=\"T_fbc87_row2_col16\" class=\"data row2 col16\" >LinAct360</td>\n",
       "      <td id=\"T_fbc87_row2_col17\" class=\"data row2 col17\" >0.00</td>\n",
       "    </tr>\n",
       "    <tr>\n",
       "      <th id=\"T_fbc87_level0_row3\" class=\"row_heading level0 row3\" >3</th>\n",
       "      <td id=\"T_fbc87_row3_col0\" class=\"data row3 col0\" >2019-10-31</td>\n",
       "      <td id=\"T_fbc87_row3_col1\" class=\"data row3 col1\" >2020-04-30</td>\n",
       "      <td id=\"T_fbc87_row3_col2\" class=\"data row3 col2\" >2020-04-30</td>\n",
       "      <td id=\"T_fbc87_row3_col3\" class=\"data row3 col3\" >300,000.00</td>\n",
       "      <td id=\"T_fbc87_row3_col4\" class=\"data row3 col4\" >0.00</td>\n",
       "      <td id=\"T_fbc87_row3_col5\" class=\"data row3 col5\" >True</td>\n",
       "      <td id=\"T_fbc87_row3_col6\" class=\"data row3 col6\" >-3,401.28</td>\n",
       "      <td id=\"T_fbc87_row3_col7\" class=\"data row3 col7\" >CLF</td>\n",
       "      <td id=\"T_fbc87_row3_col8\" class=\"data row3 col8\" >18,786.13</td>\n",
       "      <td id=\"T_fbc87_row3_col9\" class=\"data row3 col9\" >18,935.12</td>\n",
       "      <td id=\"T_fbc87_row3_col10\" class=\"data row3 col10\" >28,080.26</td>\n",
       "      <td id=\"T_fbc87_row3_col11\" class=\"data row3 col11\" >28,627.71</td>\n",
       "      <td id=\"T_fbc87_row3_col12\" class=\"data row3 col12\" >-2.2426%</td>\n",
       "      <td id=\"T_fbc87_row3_col13\" class=\"data row3 col13\" >-3,401.28</td>\n",
       "      <td id=\"T_fbc87_row3_col14\" class=\"data row3 col14\" >0.0000%</td>\n",
       "      <td id=\"T_fbc87_row3_col15\" class=\"data row3 col15\" >1.00</td>\n",
       "      <td id=\"T_fbc87_row3_col16\" class=\"data row3 col16\" >LinAct360</td>\n",
       "      <td id=\"T_fbc87_row3_col17\" class=\"data row3 col17\" >-97,370,764.00</td>\n",
       "    </tr>\n",
       "    <tr>\n",
       "      <th id=\"T_fbc87_level0_row4\" class=\"row_heading level0 row4\" >4</th>\n",
       "      <td id=\"T_fbc87_row4_col0\" class=\"data row4 col0\" >2020-04-30</td>\n",
       "      <td id=\"T_fbc87_row4_col1\" class=\"data row4 col1\" >2020-11-02</td>\n",
       "      <td id=\"T_fbc87_row4_col2\" class=\"data row4 col2\" >2020-11-02</td>\n",
       "      <td id=\"T_fbc87_row4_col3\" class=\"data row4 col3\" >300,000.00</td>\n",
       "      <td id=\"T_fbc87_row4_col4\" class=\"data row4 col4\" >0.00</td>\n",
       "      <td id=\"T_fbc87_row4_col5\" class=\"data row4 col5\" >True</td>\n",
       "      <td id=\"T_fbc87_row4_col6\" class=\"data row4 col6\" >-2,589.43</td>\n",
       "      <td id=\"T_fbc87_row4_col7\" class=\"data row4 col7\" >CLF</td>\n",
       "      <td id=\"T_fbc87_row4_col8\" class=\"data row4 col8\" >18,935.12</td>\n",
       "      <td id=\"T_fbc87_row4_col9\" class=\"data row4 col9\" >19,050.65</td>\n",
       "      <td id=\"T_fbc87_row4_col10\" class=\"data row4 col10\" >28,627.71</td>\n",
       "      <td id=\"T_fbc87_row4_col11\" class=\"data row4 col11\" >29,053.02</td>\n",
       "      <td id=\"T_fbc87_row4_col12\" class=\"data row4 col12\" >-1.6706%</td>\n",
       "      <td id=\"T_fbc87_row4_col13\" class=\"data row4 col13\" >-2,589.43</td>\n",
       "      <td id=\"T_fbc87_row4_col14\" class=\"data row4 col14\" >0.0000%</td>\n",
       "      <td id=\"T_fbc87_row4_col15\" class=\"data row4 col15\" >1.00</td>\n",
       "      <td id=\"T_fbc87_row4_col16\" class=\"data row4 col16\" >LinAct360</td>\n",
       "      <td id=\"T_fbc87_row4_col17\" class=\"data row4 col17\" >-75,230,762.00</td>\n",
       "    </tr>\n",
       "    <tr>\n",
       "      <th id=\"T_fbc87_level0_row5\" class=\"row_heading level0 row5\" >5</th>\n",
       "      <td id=\"T_fbc87_row5_col0\" class=\"data row5 col0\" >2020-11-02</td>\n",
       "      <td id=\"T_fbc87_row5_col1\" class=\"data row5 col1\" >2021-04-30</td>\n",
       "      <td id=\"T_fbc87_row5_col2\" class=\"data row5 col2\" >2021-04-30</td>\n",
       "      <td id=\"T_fbc87_row5_col3\" class=\"data row5 col3\" >300,000.00</td>\n",
       "      <td id=\"T_fbc87_row5_col4\" class=\"data row5 col4\" >300,000.00</td>\n",
       "      <td id=\"T_fbc87_row5_col5\" class=\"data row5 col5\" >True</td>\n",
       "      <td id=\"T_fbc87_row5_col6\" class=\"data row5 col6\" >298,044.72</td>\n",
       "      <td id=\"T_fbc87_row5_col7\" class=\"data row5 col7\" >CLF</td>\n",
       "      <td id=\"T_fbc87_row5_col8\" class=\"data row5 col8\" >19,050.65</td>\n",
       "      <td id=\"T_fbc87_row5_col9\" class=\"data row5 col9\" >19,173.77</td>\n",
       "      <td id=\"T_fbc87_row5_col10\" class=\"data row5 col10\" >29,053.02</td>\n",
       "      <td id=\"T_fbc87_row5_col11\" class=\"data row5 col11\" >29,432.64</td>\n",
       "      <td id=\"T_fbc87_row5_col12\" class=\"data row5 col12\" >-1.3108%</td>\n",
       "      <td id=\"T_fbc87_row5_col13\" class=\"data row5 col13\" >-1,955.28</td>\n",
       "      <td id=\"T_fbc87_row5_col14\" class=\"data row5 col14\" >0.0000%</td>\n",
       "      <td id=\"T_fbc87_row5_col15\" class=\"data row5 col15\" >1.00</td>\n",
       "      <td id=\"T_fbc87_row5_col16\" class=\"data row5 col16\" >LinAct360</td>\n",
       "      <td id=\"T_fbc87_row5_col17\" class=\"data row5 col17\" >8,772,243,383.00</td>\n",
       "    </tr>\n",
       "  </tbody>\n",
       "</table>\n"
      ]
     },
     "execution_count": 490,
     "metadata": {},
     "output_type": "execute_result"
    }
   ],
   "execution_count": 490
  },
  {
   "cell_type": "code",
   "metadata": {
    "execution": {
     "iopub.status.busy": "2024-06-25T21:49:20.194902Z",
     "iopub.status.idle": "2024-06-25T21:49:20.195382Z",
     "shell.execute_reply": "2024-06-25T21:49:20.195200Z",
     "shell.execute_reply.started": "2024-06-25T21:49:20.195180Z"
    },
    "ExecuteTime": {
     "end_time": "2025-08-25T14:34:55.947943Z",
     "start_time": "2025-08-25T14:34:55.946046Z"
    }
   },
   "source": [
    "vp_icp_clf = pv.pv(fecha_hoy, icp_clf_leg, zcc_clf)\n",
    "print(f\"Valor presente en UF: {vp_icp_clf:,.2f}\")\n",
    "print(f\"Valor presente en CLP: {vp_icp_clf * uf_hoy:,.0f}\")"
   ],
   "outputs": [
    {
     "name": "stdout",
     "output_type": "stream",
     "text": [
      "Valor presente en UF: 297,715.99\n",
      "Valor presente en CLP: 8,467,099,423\n"
     ]
    }
   ],
   "execution_count": 491
  },
  {
   "cell_type": "markdown",
   "metadata": {},
   "source": [
    "#### Sensibilidad de Descuento"
   ]
  },
  {
   "cell_type": "code",
   "metadata": {
    "cell_style": "center",
    "execution": {
     "iopub.status.busy": "2024-06-25T21:49:20.196456Z",
     "iopub.status.idle": "2024-06-25T21:49:20.196845Z",
     "shell.execute_reply": "2024-06-25T21:49:20.196674Z",
     "shell.execute_reply.started": "2024-06-25T21:49:20.196656Z"
    },
    "scrolled": true,
    "ExecuteTime": {
     "end_time": "2025-08-25T14:34:55.988064Z",
     "start_time": "2025-08-25T14:34:55.985383Z"
    }
   },
   "source": [
    "der = pv.get_derivatives()\n",
    "i = 0\n",
    "for d in der:\n",
    "    print(f\"Sensibilidad en {i}: {d * bp / 10_000:0,.2f}\")\n",
    "    i += 1\n",
    "print()\n",
    "print(f\"Sensibilidad de descuento: {sum(der) * bp / 10_000:,.2f} CLF\")"
   ],
   "outputs": [
    {
     "name": "stdout",
     "output_type": "stream",
     "text": [
      "Sensibilidad en 0: 0.00\n",
      "Sensibilidad en 1: 0.00\n",
      "Sensibilidad en 2: 0.00\n",
      "Sensibilidad en 3: 0.06\n",
      "Sensibilidad en 4: 0.00\n",
      "Sensibilidad en 5: 0.00\n",
      "Sensibilidad en 6: 0.00\n",
      "Sensibilidad en 7: 0.00\n",
      "Sensibilidad en 8: 0.00\n",
      "Sensibilidad en 9: 0.17\n",
      "Sensibilidad en 10: 0.01\n",
      "Sensibilidad en 11: 0.00\n",
      "Sensibilidad en 12: 0.00\n",
      "Sensibilidad en 13: 0.00\n",
      "Sensibilidad en 14: 0.00\n",
      "Sensibilidad en 15: -33.62\n",
      "Sensibilidad en 16: -2.17\n",
      "Sensibilidad en 17: 0.00\n",
      "Sensibilidad en 18: 0.00\n",
      "Sensibilidad en 19: 0.00\n",
      "Sensibilidad en 20: 0.00\n",
      "Sensibilidad en 21: 0.00\n",
      "Sensibilidad en 22: 0.00\n",
      "Sensibilidad en 23: 0.00\n",
      "Sensibilidad en 24: 0.00\n",
      "Sensibilidad en 25: 0.00\n",
      "Sensibilidad en 26: 0.00\n",
      "Sensibilidad en 27: 0.00\n",
      "Sensibilidad en 28: 0.00\n",
      "Sensibilidad en 29: 0.00\n",
      "Sensibilidad en 30: 0.00\n",
      "Sensibilidad en 31: 0.00\n",
      "Sensibilidad en 32: 0.00\n",
      "\n",
      "Sensibilidad de descuento: -35.54 CLF\n"
     ]
    }
   ],
   "execution_count": 492
  },
  {
   "cell_type": "markdown",
   "metadata": {},
   "source": [
    "#### Sensibilidad de Proyección"
   ]
  },
  {
   "cell_type": "code",
   "metadata": {
    "cell_style": "center",
    "execution": {
     "iopub.status.busy": "2024-06-25T21:49:20.198057Z",
     "iopub.status.idle": "2024-06-25T21:49:20.198515Z",
     "shell.execute_reply": "2024-06-25T21:49:20.198334Z",
     "shell.execute_reply.started": "2024-06-25T21:49:20.198315Z"
    },
    "ExecuteTime": {
     "end_time": "2025-08-25T14:34:56.023487Z",
     "start_time": "2025-08-25T14:34:56.020703Z"
    }
   },
   "source": [
    "result = []\n",
    "for i in range(icp_clf_leg.size()):\n",
    "    cshflw = icp_clf_leg.get_cashflow_at(i)\n",
    "    df = zcc_clf.get_discount_factor_at(fecha_hoy.day_diff(cshflw.date()))\n",
    "    amt_der = cshflw.get_amount_ufclf_derivatives()\n",
    "    if len(amt_der) > 0:\n",
    "        amt_der = [a * bp / 10_000 * df for a in amt_der]\n",
    "        result.append(np.array(amt_der))\n",
    "\n",
    "total = result[0] * 0\n",
    "for r in result:\n",
    "    total += r\n",
    "\n",
    "for i in range(len(total)):\n",
    "    print(f\"Sensibilidad en {i}: {total[i]:0,.2f}\")"
   ],
   "outputs": [
    {
     "name": "stdout",
     "output_type": "stream",
     "text": [
      "Sensibilidad en 0: 0.00\n",
      "Sensibilidad en 1: 0.00\n",
      "Sensibilidad en 2: 0.00\n",
      "Sensibilidad en 3: -0.06\n",
      "Sensibilidad en 4: -0.00\n",
      "Sensibilidad en 5: 0.00\n",
      "Sensibilidad en 6: 0.00\n",
      "Sensibilidad en 7: 0.00\n",
      "Sensibilidad en 8: 0.00\n",
      "Sensibilidad en 9: -0.17\n",
      "Sensibilidad en 10: -0.01\n",
      "Sensibilidad en 11: 0.00\n",
      "Sensibilidad en 12: 0.00\n",
      "Sensibilidad en 13: 0.00\n",
      "Sensibilidad en 14: 0.00\n",
      "Sensibilidad en 15: 33.62\n",
      "Sensibilidad en 16: 2.17\n",
      "Sensibilidad en 17: 0.00\n",
      "Sensibilidad en 18: 0.00\n",
      "Sensibilidad en 19: 0.00\n",
      "Sensibilidad en 20: 0.00\n",
      "Sensibilidad en 21: 0.00\n",
      "Sensibilidad en 22: 0.00\n",
      "Sensibilidad en 23: 0.00\n",
      "Sensibilidad en 24: 0.00\n",
      "Sensibilidad en 25: 0.00\n",
      "Sensibilidad en 26: 0.00\n",
      "Sensibilidad en 27: 0.00\n",
      "Sensibilidad en 28: 0.00\n",
      "Sensibilidad en 29: 0.00\n",
      "Sensibilidad en 30: 0.00\n",
      "Sensibilidad en 31: 0.00\n",
      "Sensibilidad en 32: 0.00\n"
     ]
    }
   ],
   "execution_count": 493
  },
  {
   "cell_type": "markdown",
   "metadata": {},
   "source": [
    "### CompoundedOvernightRate Leg"
   ]
  },
  {
   "cell_type": "markdown",
   "metadata": {},
   "source": [
    "Se da de alta una pata de tipo CompoundedOvernightRate."
   ]
  },
  {
   "cell_type": "code",
   "metadata": {
    "execution": {
     "iopub.status.busy": "2024-06-25T21:49:20.199554Z",
     "iopub.status.idle": "2024-06-25T21:49:20.199984Z",
     "shell.execute_reply": "2024-06-25T21:49:20.199812Z",
     "shell.execute_reply.started": "2024-06-25T21:49:20.199794Z"
    },
    "ExecuteTime": {
     "end_time": "2025-08-25T14:34:56.056763Z",
     "start_time": "2025-08-25T14:34:56.053834Z"
    }
   },
   "source": [
    "rp = qcf.RecPay.PAY\n",
    "fecha_inicio = qcf.QCDate(13, 6, 2024)\n",
    "fecha_final = qcf.QCDate(13, 12, 2025)\n",
    "bus_adj_rule = qcf.BusyAdjRules.MODFOLLOW\n",
    "periodicidad_pago = qcf.Tenor('12M')\n",
    "periodo_irregular_pago = qcf.StubPeriod.SHORTFRONT\n",
    "calendario = qcf.BusinessCalendar(fecha_inicio, 20)\n",
    "lag_pago = 0\n",
    "lookback = 0\n",
    "\n",
    "######################################################################\n",
    "# Definición del índice\n",
    "\n",
    "codigo = 'OISTEST'\n",
    "lin_act360 = qcf.QCInterestRate(.0, qcf.QCAct360(), qcf.QCLinearWf())\n",
    "fixing_lag = qcf.Tenor('0d')\n",
    "tenor = qcf.Tenor('1d')\n",
    "fixing_calendar = calendario\n",
    "settlement_calendar = calendario\n",
    "usd = qcf.QCUSD()\n",
    "oistest = qcf.InterestRateIndex(\n",
    "    codigo,\n",
    "    lin_act360,\n",
    "    fixing_lag,\n",
    "    tenor,\n",
    "    fixing_calendar,\n",
    "    settlement_calendar,\n",
    "    usd)\n",
    "\n",
    "# Fin índice\n",
    "######################################################################\n",
    "\n",
    "nominal = 1_000_000.0\n",
    "amort_es_flujo = True\n",
    "moneda = usd\n",
    "spread = .0\n",
    "gearing = 1.0\n",
    "\n",
    "cor_leg = qcf.LegFactory.build_bullet_compounded_overnight_rate_leg_2(\n",
    "    rp,\n",
    "    fecha_inicio,\n",
    "    fecha_final,\n",
    "    bus_adj_rule,\n",
    "    periodicidad_pago,\n",
    "    periodo_irregular_pago,\n",
    "    calendario,\n",
    "    lag_pago,\n",
    "    calendario,\n",
    "    oistest,\n",
    "    nominal,\n",
    "    amort_es_flujo,\n",
    "    usd,\n",
    "    spread,\n",
    "    gearing,\n",
    "    qcf.QCInterestRate(0.0, qcf.QCAct360(), qcf.QCLinearWf()),\n",
    "    10,\n",
    "    lookback,\n",
    "    0\n",
    ")"
   ],
   "outputs": [],
   "execution_count": 494
  },
  {
   "cell_type": "markdown",
   "metadata": {},
   "source": [
    "#### Valor Presente"
   ]
  },
  {
   "cell_type": "code",
   "metadata": {
    "execution": {
     "iopub.status.busy": "2024-06-25T21:49:20.201097Z",
     "iopub.status.idle": "2024-06-25T21:49:20.201661Z",
     "shell.execute_reply": "2024-06-25T21:49:20.201474Z",
     "shell.execute_reply.started": "2024-06-25T21:49:20.201455Z"
    },
    "ExecuteTime": {
     "end_time": "2025-08-25T14:34:56.081616Z",
     "start_time": "2025-08-25T14:34:56.079876Z"
    }
   },
   "source": [
    "ts = qcf.time_series()\n",
    "fwd_rates.set_rates_compounded_overnight_leg2(\n",
    "    fecha_inicio,\n",
    "    cor_leg,\n",
    "    zcc_sofr,\n",
    "    ts\n",
    ")"
   ],
   "outputs": [],
   "execution_count": 495
  },
  {
   "cell_type": "code",
   "metadata": {
    "execution": {
     "iopub.status.busy": "2024-06-25T21:49:20.202726Z",
     "iopub.status.idle": "2024-06-25T21:49:20.203194Z",
     "shell.execute_reply": "2024-06-25T21:49:20.203004Z",
     "shell.execute_reply.started": "2024-06-25T21:49:20.202987Z"
    },
    "ExecuteTime": {
     "end_time": "2025-08-25T14:34:56.100163Z",
     "start_time": "2025-08-25T14:34:56.096606Z"
    }
   },
   "source": [
    "aux.leg_as_dataframe(cor_leg).style.format(format_dict)"
   ],
   "outputs": [
    {
     "data": {
      "text/plain": [
       "<pandas.io.formats.style.Styler at 0x10bcaf250>"
      ],
      "text/html": [
       "<style type=\"text/css\">\n",
       "</style>\n",
       "<table id=\"T_64435\">\n",
       "  <thead>\n",
       "    <tr>\n",
       "      <th class=\"blank level0\" >&nbsp;</th>\n",
       "      <th id=\"T_64435_level0_col0\" class=\"col_heading level0 col0\" >fecha_inicial</th>\n",
       "      <th id=\"T_64435_level0_col1\" class=\"col_heading level0 col1\" >fecha_final</th>\n",
       "      <th id=\"T_64435_level0_col2\" class=\"col_heading level0 col2\" >fecha_pago</th>\n",
       "      <th id=\"T_64435_level0_col3\" class=\"col_heading level0 col3\" >nocional</th>\n",
       "      <th id=\"T_64435_level0_col4\" class=\"col_heading level0 col4\" >amortizacion</th>\n",
       "      <th id=\"T_64435_level0_col5\" class=\"col_heading level0 col5\" >interes</th>\n",
       "      <th id=\"T_64435_level0_col6\" class=\"col_heading level0 col6\" >amort_es_flujo</th>\n",
       "      <th id=\"T_64435_level0_col7\" class=\"col_heading level0 col7\" >flujo</th>\n",
       "      <th id=\"T_64435_level0_col8\" class=\"col_heading level0 col8\" >moneda_nocional</th>\n",
       "      <th id=\"T_64435_level0_col9\" class=\"col_heading level0 col9\" >codigo_indice_tasa</th>\n",
       "      <th id=\"T_64435_level0_col10\" class=\"col_heading level0 col10\" >tipo_tasa</th>\n",
       "      <th id=\"T_64435_level0_col11\" class=\"col_heading level0 col11\" >valor_tasa</th>\n",
       "      <th id=\"T_64435_level0_col12\" class=\"col_heading level0 col12\" >spread</th>\n",
       "      <th id=\"T_64435_level0_col13\" class=\"col_heading level0 col13\" >gearing</th>\n",
       "    </tr>\n",
       "  </thead>\n",
       "  <tbody>\n",
       "    <tr>\n",
       "      <th id=\"T_64435_level0_row0\" class=\"row_heading level0 row0\" >0</th>\n",
       "      <td id=\"T_64435_row0_col0\" class=\"data row0 col0\" >2024-06-13</td>\n",
       "      <td id=\"T_64435_row0_col1\" class=\"data row0 col1\" >2024-12-13</td>\n",
       "      <td id=\"T_64435_row0_col2\" class=\"data row0 col2\" >2024-12-13</td>\n",
       "      <td id=\"T_64435_row0_col3\" class=\"data row0 col3\" >-1,000,000.00</td>\n",
       "      <td id=\"T_64435_row0_col4\" class=\"data row0 col4\" >0.00</td>\n",
       "      <td id=\"T_64435_row0_col5\" class=\"data row0 col5\" >-27,002.51</td>\n",
       "      <td id=\"T_64435_row0_col6\" class=\"data row0 col6\" >True</td>\n",
       "      <td id=\"T_64435_row0_col7\" class=\"data row0 col7\" >-27,002.51</td>\n",
       "      <td id=\"T_64435_row0_col8\" class=\"data row0 col8\" >USD</td>\n",
       "      <td id=\"T_64435_row0_col9\" class=\"data row0 col9\" >OISTEST</td>\n",
       "      <td id=\"T_64435_row0_col10\" class=\"data row0 col10\" >LinAct360</td>\n",
       "      <td id=\"T_64435_row0_col11\" class=\"data row0 col11\" >5.3120%</td>\n",
       "      <td id=\"T_64435_row0_col12\" class=\"data row0 col12\" >0.0000%</td>\n",
       "      <td id=\"T_64435_row0_col13\" class=\"data row0 col13\" >1.00</td>\n",
       "    </tr>\n",
       "    <tr>\n",
       "      <th id=\"T_64435_level0_row1\" class=\"row_heading level0 row1\" >1</th>\n",
       "      <td id=\"T_64435_row1_col0\" class=\"data row1 col0\" >2024-12-13</td>\n",
       "      <td id=\"T_64435_row1_col1\" class=\"data row1 col1\" >2025-12-15</td>\n",
       "      <td id=\"T_64435_row1_col2\" class=\"data row1 col2\" >2025-12-15</td>\n",
       "      <td id=\"T_64435_row1_col3\" class=\"data row1 col3\" >-1,000,000.00</td>\n",
       "      <td id=\"T_64435_row1_col4\" class=\"data row1 col4\" >-1,000,000.00</td>\n",
       "      <td id=\"T_64435_row1_col5\" class=\"data row1 col5\" >-47,599.76</td>\n",
       "      <td id=\"T_64435_row1_col6\" class=\"data row1 col6\" >True</td>\n",
       "      <td id=\"T_64435_row1_col7\" class=\"data row1 col7\" >-1,047,599.76</td>\n",
       "      <td id=\"T_64435_row1_col8\" class=\"data row1 col8\" >USD</td>\n",
       "      <td id=\"T_64435_row1_col9\" class=\"data row1 col9\" >OISTEST</td>\n",
       "      <td id=\"T_64435_row1_col10\" class=\"data row1 col10\" >LinAct360</td>\n",
       "      <td id=\"T_64435_row1_col11\" class=\"data row1 col11\" >4.6692%</td>\n",
       "      <td id=\"T_64435_row1_col12\" class=\"data row1 col12\" >0.0000%</td>\n",
       "      <td id=\"T_64435_row1_col13\" class=\"data row1 col13\" >1.00</td>\n",
       "    </tr>\n",
       "  </tbody>\n",
       "</table>\n"
      ]
     },
     "execution_count": 496,
     "metadata": {},
     "output_type": "execute_result"
    }
   ],
   "execution_count": 496
  },
  {
   "cell_type": "code",
   "metadata": {
    "execution": {
     "iopub.status.busy": "2024-06-25T21:49:20.204550Z",
     "iopub.status.idle": "2024-06-25T21:49:20.205067Z",
     "shell.execute_reply": "2024-06-25T21:49:20.204872Z",
     "shell.execute_reply.started": "2024-06-25T21:49:20.204852Z"
    },
    "ExecuteTime": {
     "end_time": "2025-08-25T14:34:56.138668Z",
     "start_time": "2025-08-25T14:34:56.136214Z"
    }
   },
   "source": [
    "print(f'Valor presente: {pv.pv(fecha_inicio, cor_leg, zcc_sofr):,.0f}')"
   ],
   "outputs": [
    {
     "name": "stdout",
     "output_type": "stream",
     "text": [
      "Valor presente: -1,000,000\n"
     ]
    }
   ],
   "execution_count": 497
  },
  {
   "cell_type": "markdown",
   "metadata": {},
   "source": [
    "#### Sensibilidad de Proyección"
   ]
  },
  {
   "cell_type": "code",
   "metadata": {
    "execution": {
     "iopub.status.busy": "2024-06-25T21:49:20.206277Z",
     "iopub.status.idle": "2024-06-25T21:49:20.206712Z",
     "shell.execute_reply": "2024-06-25T21:49:20.206520Z",
     "shell.execute_reply.started": "2024-06-25T21:49:20.206500Z"
    },
    "ExecuteTime": {
     "end_time": "2025-08-25T14:34:56.184937Z",
     "start_time": "2025-08-25T14:34:56.182251Z"
    }
   },
   "source": [
    "proj_sens_by_cashflow = np.array([np.array(\n",
    "    np.array(cor_leg.get_cashflow_at(i).get_amount_derivatives()) *\n",
    "    zcc_usd.get_discount_factor_at(fecha_hoy.day_diff(cor_leg.get_cashflow_at(i).get_settlement_date())) * bp / 10_000)\n",
    "                             for i in range(cor_leg.size())])\n",
    "proj_sens = np.sum(proj_sens_by_cashflow, axis=0)\n",
    "for i, s in enumerate(proj_sens):\n",
    "     print(f\"Sensibilidad en {i}: {s:0,.2f}\")"
   ],
   "outputs": [
    {
     "name": "stdout",
     "output_type": "stream",
     "text": [
      "Sensibilidad en 0: 0.00\n",
      "Sensibilidad en 1: 0.00\n",
      "Sensibilidad en 2: 0.00\n",
      "Sensibilidad en 3: 0.00\n",
      "Sensibilidad en 4: 0.00\n",
      "Sensibilidad en 5: 0.00\n",
      "Sensibilidad en 6: 0.00\n",
      "Sensibilidad en 7: 0.00\n",
      "Sensibilidad en 8: 0.00\n",
      "Sensibilidad en 9: 0.06\n",
      "Sensibilidad en 10: 0.00\n",
      "Sensibilidad en 11: 0.00\n",
      "Sensibilidad en 12: 0.00\n",
      "Sensibilidad en 13: 0.00\n",
      "Sensibilidad en 14: -143.41\n",
      "Sensibilidad en 15: 0.00\n",
      "Sensibilidad en 16: 0.00\n",
      "Sensibilidad en 17: 0.00\n",
      "Sensibilidad en 18: 0.00\n",
      "Sensibilidad en 19: 0.00\n",
      "Sensibilidad en 20: 0.00\n",
      "Sensibilidad en 21: 0.00\n",
      "Sensibilidad en 22: 0.00\n",
      "Sensibilidad en 23: 0.00\n",
      "Sensibilidad en 24: 0.00\n",
      "Sensibilidad en 25: 0.00\n",
      "Sensibilidad en 26: 0.00\n",
      "Sensibilidad en 27: 0.00\n",
      "Sensibilidad en 28: 0.00\n"
     ]
    }
   ],
   "execution_count": 498
  },
  {
   "cell_type": "markdown",
   "metadata": {},
   "source": [
    "Verifica sensibilidad de proyección."
   ]
  },
  {
   "cell_type": "code",
   "metadata": {
    "execution": {
     "iopub.status.busy": "2024-06-25T21:49:20.208212Z",
     "iopub.status.idle": "2024-06-25T21:49:20.208885Z",
     "shell.execute_reply": "2024-06-25T21:49:20.208675Z",
     "shell.execute_reply.started": "2024-06-25T21:49:20.208652Z"
    },
    "ExecuteTime": {
     "end_time": "2025-08-25T14:34:56.226661Z",
     "start_time": "2025-08-25T14:34:56.224181Z"
    }
   },
   "source": [
    "fwd_rates.set_rates_compounded_overnight_leg2(fecha_hoy, cor_leg, zcc_usd_up, ts)\n",
    "vp_cor_up = pv.pv(fecha_hoy, cor_leg, zcc_usd)\n",
    "print(f\"Valor presente up pata CompoundedOvernightRate: {vp_cor_up:,.0f}\")\n",
    "\n",
    "fwd_rates.set_rates_compounded_overnight_leg2(fecha_hoy, cor_leg, zcc_usd_down, ts)\n",
    "vp_cor_down = pv.pv(fecha_hoy, cor_leg, zcc_usd)\n",
    "print(f\"Valor presente down pata CompoundedOvernightRate: {vp_cor_down:,.0f}\")\n",
    "\n",
    "print(f\"Sensibilidad de proyección en el vértice {vertice}: {(vp_cor_up - vp_cor_down) / 2:,.2f}\")"
   ],
   "outputs": [
    {
     "name": "stdout",
     "output_type": "stream",
     "text": [
      "Valor presente up pata CompoundedOvernightRate: -933,530\n",
      "Valor presente down pata CompoundedOvernightRate: -933,530\n",
      "Sensibilidad de proyección en el vértice 15: 0.00\n"
     ]
    }
   ],
   "execution_count": 499
  },
  {
   "cell_type": "markdown",
   "metadata": {},
   "source": [
    "#### Sensibilidad de Descuento"
   ]
  },
  {
   "cell_type": "code",
   "metadata": {
    "execution": {
     "iopub.status.busy": "2024-06-25T21:49:20.210782Z",
     "iopub.status.idle": "2024-06-25T21:49:20.211538Z",
     "shell.execute_reply": "2024-06-25T21:49:20.211316Z",
     "shell.execute_reply.started": "2024-06-25T21:49:20.211293Z"
    },
    "ExecuteTime": {
     "end_time": "2025-08-25T14:34:56.265807Z",
     "start_time": "2025-08-25T14:34:56.263682Z"
    }
   },
   "source": [
    "disc_der = np.array(pv.get_derivatives()) * bp / 10_000\n",
    "for i, s in enumerate(disc_der):\n",
    "    print(f\"Sensibilidad en {i}: {s:0,.2f}\")"
   ],
   "outputs": [
    {
     "name": "stdout",
     "output_type": "stream",
     "text": [
      "Sensibilidad en 0: 0.00\n",
      "Sensibilidad en 1: 0.00\n",
      "Sensibilidad en 2: 0.00\n",
      "Sensibilidad en 3: 0.00\n",
      "Sensibilidad en 4: 0.00\n",
      "Sensibilidad en 5: 0.00\n",
      "Sensibilidad en 6: 0.00\n",
      "Sensibilidad en 7: 0.00\n",
      "Sensibilidad en 8: 0.00\n",
      "Sensibilidad en 9: 0.00\n",
      "Sensibilidad en 10: 0.00\n",
      "Sensibilidad en 11: 0.00\n",
      "Sensibilidad en 12: 0.00\n",
      "Sensibilidad en 13: 0.00\n",
      "Sensibilidad en 14: 0.00\n",
      "Sensibilidad en 15: 0.00\n",
      "Sensibilidad en 16: 0.00\n",
      "Sensibilidad en 17: 0.00\n",
      "Sensibilidad en 18: 0.00\n",
      "Sensibilidad en 19: 0.79\n",
      "Sensibilidad en 20: 325.17\n",
      "Sensibilidad en 21: 215.45\n",
      "Sensibilidad en 22: 0.00\n",
      "Sensibilidad en 23: 0.00\n",
      "Sensibilidad en 24: 0.00\n",
      "Sensibilidad en 25: 0.00\n",
      "Sensibilidad en 26: 0.00\n",
      "Sensibilidad en 27: 0.00\n"
     ]
    }
   ],
   "execution_count": 500
  },
  {
   "cell_type": "markdown",
   "metadata": {},
   "source": [
    "Verifica la sensibilidad de descuento."
   ]
  },
  {
   "cell_type": "code",
   "metadata": {
    "execution": {
     "iopub.status.busy": "2024-06-25T21:49:20.212788Z",
     "iopub.status.idle": "2024-06-25T21:49:20.213410Z",
     "shell.execute_reply": "2024-06-25T21:49:20.213220Z",
     "shell.execute_reply.started": "2024-06-25T21:49:20.213199Z"
    },
    "ExecuteTime": {
     "end_time": "2025-08-25T14:34:56.308324Z",
     "start_time": "2025-08-25T14:34:56.306082Z"
    }
   },
   "source": [
    "fwd_rates.set_rates_compounded_overnight_leg2(fecha_hoy, cor_leg, zcc_usd, ts)\n",
    "vp_cor_up = pv.pv(fecha_hoy, cor_leg, zcc_usd_up)\n",
    "print(f\"Valor presente up pata CompoundedOvernightRate: {vp_cor_up:,.2f}\")\n",
    "\n",
    "fwd_rates.set_rates_compounded_overnight_leg2(fecha_hoy, cor_leg, zcc_usd, ts)\n",
    "vp_cor_down = pv.pv(fecha_hoy, cor_leg, zcc_usd_down)\n",
    "print(f\"Valor presente down pata CompoundedOvernightRate: {vp_cor_down:,.2f}\")\n",
    "\n",
    "print(f\"Sensibilidad de descuento en el vértice {vertice}: {(vp_cor_up - vp_cor_down) / 2:,.2f}\")"
   ],
   "outputs": [
    {
     "name": "stdout",
     "output_type": "stream",
     "text": [
      "Valor presente up pata CompoundedOvernightRate: -933,530.48\n",
      "Valor presente down pata CompoundedOvernightRate: -933,530.48\n",
      "Sensibilidad de descuento en el vértice 15: 0.00\n"
     ]
    }
   ],
   "execution_count": 501
  },
  {
   "cell_type": "code",
   "metadata": {
    "ExecuteTime": {
     "end_time": "2025-08-25T14:34:56.354321Z",
     "start_time": "2025-08-25T14:34:56.353088Z"
    }
   },
   "source": [],
   "outputs": [],
   "execution_count": null
  },
  {
   "cell_type": "code",
   "metadata": {
    "ExecuteTime": {
     "end_time": "2025-08-25T14:34:56.395517Z",
     "start_time": "2025-08-25T14:34:56.394435Z"
    }
   },
   "source": [],
   "outputs": [],
   "execution_count": null
  },
  {
   "cell_type": "code",
   "metadata": {
    "ExecuteTime": {
     "end_time": "2025-08-25T14:34:56.413539Z",
     "start_time": "2025-08-25T14:34:56.412344Z"
    }
   },
   "source": [],
   "outputs": [],
   "execution_count": null
  },
  {
   "cell_type": "code",
   "metadata": {
    "ExecuteTime": {
     "end_time": "2025-08-25T14:34:56.432652Z",
     "start_time": "2025-08-25T14:34:56.431364Z"
    }
   },
   "source": [],
   "outputs": [],
   "execution_count": null
  },
  {
   "cell_type": "code",
   "metadata": {
    "ExecuteTime": {
     "end_time": "2025-08-25T14:34:56.449972Z",
     "start_time": "2025-08-25T14:34:56.448941Z"
    }
   },
   "source": [],
   "outputs": [],
   "execution_count": null
  },
  {
   "cell_type": "code",
   "metadata": {
    "ExecuteTime": {
     "end_time": "2025-08-25T14:34:56.466967Z",
     "start_time": "2025-08-25T14:34:56.465758Z"
    }
   },
   "source": [],
   "outputs": [],
   "execution_count": null
  },
  {
   "cell_type": "code",
   "metadata": {
    "ExecuteTime": {
     "end_time": "2025-08-25T14:34:56.488190Z",
     "start_time": "2025-08-25T14:34:56.487077Z"
    }
   },
   "source": [],
   "outputs": [],
   "execution_count": null
  },
  {
   "cell_type": "code",
   "metadata": {
    "ExecuteTime": {
     "end_time": "2025-08-25T14:34:56.504168Z",
     "start_time": "2025-08-25T14:34:56.502975Z"
    }
   },
   "source": [],
   "outputs": [],
   "execution_count": null
  }
 ],
 "metadata": {
  "hide_input": false,
  "kernelspec": {
   "display_name": "Python 3 (ipykernel)",
   "language": "python",
   "name": "python3"
  },
  "language_info": {
   "codemirror_mode": {
    "name": "ipython",
    "version": 3
   },
   "file_extension": ".py",
   "mimetype": "text/x-python",
   "name": "python",
   "nbconvert_exporter": "python",
   "pygments_lexer": "ipython3",
   "version": "3.11.5"
  },
  "toc": {
   "base_numbering": 1,
   "nav_menu": {},
   "number_sections": true,
   "sideBar": true,
   "skip_h1_title": true,
   "title_cell": "Table of Contents",
   "title_sidebar": "Contenidos",
   "toc_cell": false,
   "toc_position": {
    "height": "calc(100% - 180px)",
    "left": "10px",
    "top": "150px",
    "width": "311px"
   },
   "toc_section_display": true,
   "toc_window_display": true
  },
  "varInspector": {
   "cols": {
    "lenName": 16,
    "lenType": 16,
    "lenVar": 40
   },
   "kernels_config": {
    "python": {
     "delete_cmd_postfix": "",
     "delete_cmd_prefix": "del ",
     "library": "var_list.py",
     "varRefreshCmd": "print(var_dic_list())"
    },
    "r": {
     "delete_cmd_postfix": ") ",
     "delete_cmd_prefix": "rm(",
     "library": "var_list.r",
     "varRefreshCmd": "cat(var_dic_list()) "
    }
   },
   "types_to_exclude": [
    "module",
    "function",
    "builtin_function_or_method",
    "instance",
    "_Feature"
   ],
   "window_display": false
  }
 },
 "nbformat": 4,
 "nbformat_minor": 4
}
