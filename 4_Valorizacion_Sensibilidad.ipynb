{
 "cells": [
  {
   "cell_type": "markdown",
   "metadata": {},
   "source": [
    "# Valorización y Sensibilidad"
   ]
  },
  {
   "cell_type": "markdown",
   "metadata": {},
   "source": [
    "## Configuración"
   ]
  },
  {
   "cell_type": "markdown",
   "metadata": {},
   "source": [
    "Para ejecutar todos los ejemplos se debe importar la librería. Se sugiere utilizar siempre el alias `qcf`. "
   ]
  },
  {
   "cell_type": "code",
   "execution_count": 1,
   "metadata": {
    "ExecuteTime": {
     "end_time": "2023-12-19T16:07:13.963018Z",
     "start_time": "2023-12-19T16:07:13.955278Z"
    },
    "execution": {
     "iopub.execute_input": "2024-06-09T19:30:31.787452Z",
     "iopub.status.busy": "2024-06-09T19:30:31.787275Z",
     "iopub.status.idle": "2024-06-09T19:30:31.803028Z",
     "shell.execute_reply": "2024-06-09T19:30:31.802264Z",
     "shell.execute_reply.started": "2024-06-09T19:30:31.787432Z"
    }
   },
   "outputs": [],
   "source": [
    "import qcfinancial as qcf"
   ]
  },
  {
   "cell_type": "code",
   "execution_count": 2,
   "metadata": {
    "execution": {
     "iopub.execute_input": "2024-06-09T19:30:31.805797Z",
     "iopub.status.busy": "2024-06-09T19:30:31.805535Z",
     "iopub.status.idle": "2024-06-09T19:30:31.813119Z",
     "shell.execute_reply": "2024-06-09T19:30:31.812202Z",
     "shell.execute_reply.started": "2024-06-09T19:30:31.805777Z"
    }
   },
   "outputs": [
    {
     "data": {
      "text/plain": [
       "'version: 0.10.0, build: 2024-06-09 10:20'"
      ]
     },
     "execution_count": 2,
     "metadata": {},
     "output_type": "execute_result"
    }
   ],
   "source": [
    "qcf.id()"
   ]
  },
  {
   "cell_type": "markdown",
   "metadata": {},
   "source": [
    "Librerías adicionales."
   ]
  },
  {
   "cell_type": "code",
   "execution_count": 78,
   "metadata": {
    "ExecuteTime": {
     "end_time": "2023-12-19T16:07:20.335887Z",
     "start_time": "2023-12-19T16:07:18.385430Z"
    },
    "execution": {
     "iopub.execute_input": "2024-06-09T19:46:19.829170Z",
     "iopub.status.busy": "2024-06-09T19:46:19.828822Z",
     "iopub.status.idle": "2024-06-09T19:46:19.833370Z",
     "shell.execute_reply": "2024-06-09T19:46:19.832415Z",
     "shell.execute_reply.started": "2024-06-09T19:46:19.829140Z"
    }
   },
   "outputs": [],
   "source": [
    "import aux_functions as aux # Aquí se guardó la funcion leg_as_dataframe del notebook 3\n",
    "from math import exp, log\n",
    "import pandas as pd\n",
    "import numpy as np"
   ]
  },
  {
   "cell_type": "code",
   "execution_count": 4,
   "metadata": {
    "execution": {
     "iopub.execute_input": "2024-06-09T19:30:32.108143Z",
     "iopub.status.busy": "2024-06-09T19:30:32.107943Z",
     "iopub.status.idle": "2024-06-09T19:30:32.111951Z",
     "shell.execute_reply": "2024-06-09T19:30:32.110608Z",
     "shell.execute_reply.started": "2024-06-09T19:30:32.108126Z"
    }
   },
   "outputs": [],
   "source": [
    "pd.options.display.max_columns=300"
   ]
  },
  {
   "cell_type": "markdown",
   "metadata": {},
   "source": [
    "Para formateo de `pandas.DataFrames`."
   ]
  },
  {
   "cell_type": "code",
   "execution_count": 154,
   "metadata": {
    "ExecuteTime": {
     "end_time": "2023-12-19T16:07:23.208030Z",
     "start_time": "2023-12-19T16:07:23.186614Z"
    },
    "execution": {
     "iopub.execute_input": "2024-06-09T21:03:20.851948Z",
     "iopub.status.busy": "2024-06-09T21:03:20.851596Z",
     "iopub.status.idle": "2024-06-09T21:03:20.857593Z",
     "shell.execute_reply": "2024-06-09T21:03:20.856485Z",
     "shell.execute_reply.started": "2024-06-09T21:03:20.851920Z"
    }
   },
   "outputs": [],
   "source": [
    "format_dict = {\n",
    "    'nominal': '{:,.2f}',\n",
    "    'amort': '{:,.2f}',\n",
    "    'interes': '{:,.2f}',\n",
    "    'flujo': '{:,.2f}',\n",
    "    'nocional': '{:,.2f}',\n",
    "    'amortizacion': '{:,.2f}',\n",
    "    'icp_inicial': '{:,.2f}',\n",
    "    'icp_final': '{:,.2f}',\n",
    "    'uf_inicial': '{:,.2f}',\n",
    "    'uf_final': '{:,.2f}',\n",
    "    'plazo': '{:,.0f}',\n",
    "    'tasa': '{:,.4%}',\n",
    "    'valor_tasa': '{:,.4%}',\n",
    "    'valor_tasa_equivalente': '{:,.4%}',\n",
    "    'spread': '{:,.4%}',\n",
    "    'gearing': '{:,.2f}',\n",
    "    'amort_moneda_pago': '{:,.2f}',\n",
    "    'interes_moneda_pago': '{:,.2f}',\n",
    "    'valor_indice_inicial': '{:,.2f}',\n",
    "    'valor_indice_final': '{:,.2f}',\n",
    "    'valor_indice_fx': '{:,.2f}',\n",
    "    'flujo_en_clp': '{:,.2f}',\n",
    "}"
   ]
  },
  {
   "cell_type": "markdown",
   "metadata": {},
   "source": [
    "## Construcción de la Curva"
   ]
  },
  {
   "cell_type": "markdown",
   "metadata": {},
   "source": [
    "La construcción de una curva se hace en varios pasos."
   ]
  },
  {
   "cell_type": "markdown",
   "metadata": {},
   "source": [
    "### Vectores de `Float` e `Int`"
   ]
  },
  {
   "cell_type": "markdown",
   "metadata": {},
   "source": [
    "Este es un vector de números enteros (grandes, de ahí la l (long))"
   ]
  },
  {
   "cell_type": "code",
   "execution_count": 6,
   "metadata": {
    "ExecuteTime": {
     "end_time": "2023-12-19T16:07:38.902987Z",
     "start_time": "2023-12-19T16:07:38.881086Z"
    },
    "execution": {
     "iopub.execute_input": "2024-06-09T19:30:32.119529Z",
     "iopub.status.busy": "2024-06-09T19:30:32.119146Z",
     "iopub.status.idle": "2024-06-09T19:30:32.123014Z",
     "shell.execute_reply": "2024-06-09T19:30:32.122373Z",
     "shell.execute_reply.started": "2024-06-09T19:30:32.119487Z"
    }
   },
   "outputs": [],
   "source": [
    "lvec = qcf.long_vec()"
   ]
  },
  {
   "cell_type": "markdown",
   "metadata": {},
   "source": [
    "Agregar un elemento."
   ]
  },
  {
   "cell_type": "code",
   "execution_count": 7,
   "metadata": {
    "ExecuteTime": {
     "end_time": "2023-12-19T16:07:39.741311Z",
     "start_time": "2023-12-19T16:07:39.719856Z"
    },
    "execution": {
     "iopub.execute_input": "2024-06-09T19:30:32.127347Z",
     "iopub.status.busy": "2024-06-09T19:30:32.127071Z",
     "iopub.status.idle": "2024-06-09T19:30:32.131078Z",
     "shell.execute_reply": "2024-06-09T19:30:32.130325Z",
     "shell.execute_reply.started": "2024-06-09T19:30:32.127332Z"
    }
   },
   "outputs": [],
   "source": [
    "lvec.append(1000)"
   ]
  },
  {
   "cell_type": "markdown",
   "metadata": {},
   "source": [
    "Este es un vector de números `float`."
   ]
  },
  {
   "cell_type": "code",
   "execution_count": 8,
   "metadata": {
    "ExecuteTime": {
     "end_time": "2023-12-19T16:07:40.620299Z",
     "start_time": "2023-12-19T16:07:40.586796Z"
    },
    "execution": {
     "iopub.execute_input": "2024-06-09T19:30:32.133135Z",
     "iopub.status.busy": "2024-06-09T19:30:32.132779Z",
     "iopub.status.idle": "2024-06-09T19:30:32.136075Z",
     "shell.execute_reply": "2024-06-09T19:30:32.135394Z",
     "shell.execute_reply.started": "2024-06-09T19:30:32.133115Z"
    }
   },
   "outputs": [],
   "source": [
    "vec = qcf.double_vec()"
   ]
  },
  {
   "cell_type": "markdown",
   "metadata": {},
   "source": [
    "Agregar un elemento."
   ]
  },
  {
   "cell_type": "code",
   "execution_count": 9,
   "metadata": {
    "ExecuteTime": {
     "end_time": "2023-12-19T16:07:41.189811Z",
     "start_time": "2023-12-19T16:07:41.174641Z"
    },
    "execution": {
     "iopub.execute_input": "2024-06-09T19:30:32.136908Z",
     "iopub.status.busy": "2024-06-09T19:30:32.136744Z",
     "iopub.status.idle": "2024-06-09T19:30:32.139645Z",
     "shell.execute_reply": "2024-06-09T19:30:32.139040Z",
     "shell.execute_reply.started": "2024-06-09T19:30:32.136890Z"
    }
   },
   "outputs": [],
   "source": [
    "vec.append(.025)"
   ]
  },
  {
   "cell_type": "markdown",
   "metadata": {},
   "source": [
    "Obtener ese elemento."
   ]
  },
  {
   "cell_type": "code",
   "execution_count": 10,
   "metadata": {
    "ExecuteTime": {
     "end_time": "2023-12-19T16:07:41.691521Z",
     "start_time": "2023-12-19T16:07:41.650013Z"
    },
    "execution": {
     "iopub.execute_input": "2024-06-09T19:30:32.140755Z",
     "iopub.status.busy": "2024-06-09T19:30:32.140561Z",
     "iopub.status.idle": "2024-06-09T19:30:32.144090Z",
     "shell.execute_reply": "2024-06-09T19:30:32.143325Z",
     "shell.execute_reply.started": "2024-06-09T19:30:32.140737Z"
    }
   },
   "outputs": [
    {
     "name": "stdout",
     "output_type": "stream",
     "text": [
      "Plazo: 1,000\n",
      "Tasa: 2.50%\n"
     ]
    }
   ],
   "source": [
    "print(f\"Plazo: {lvec[0]:,.0f}\")\n",
    "print(f\"Tasa: {vec[0]:,.2%}\")"
   ]
  },
  {
   "cell_type": "markdown",
   "metadata": {},
   "source": [
    "### Objeto Curva"
   ]
  },
  {
   "cell_type": "markdown",
   "metadata": {},
   "source": [
    "Es simplemente un `long_vec` que representa las abscisas de la curva y un `double_vec` que representa las ordenadas. Ambos vectores deben tener el mismo largo. "
   ]
  },
  {
   "cell_type": "code",
   "execution_count": 11,
   "metadata": {
    "ExecuteTime": {
     "end_time": "2023-12-19T16:07:43.903491Z",
     "start_time": "2023-12-19T16:07:43.844697Z"
    },
    "execution": {
     "iopub.execute_input": "2024-06-09T19:30:32.145477Z",
     "iopub.status.busy": "2024-06-09T19:30:32.145020Z",
     "iopub.status.idle": "2024-06-09T19:30:32.148326Z",
     "shell.execute_reply": "2024-06-09T19:30:32.147776Z",
     "shell.execute_reply.started": "2024-06-09T19:30:32.145454Z"
    }
   },
   "outputs": [],
   "source": [
    "curva = qcf.QCCurve(lvec, vec)"
   ]
  },
  {
   "cell_type": "markdown",
   "metadata": {},
   "source": [
    "Un elemento de una curva se representa como un par abscisa, ordenada."
   ]
  },
  {
   "cell_type": "code",
   "execution_count": 12,
   "metadata": {
    "ExecuteTime": {
     "end_time": "2023-12-19T16:07:44.836420Z",
     "start_time": "2023-12-19T16:07:44.796024Z"
    },
    "execution": {
     "iopub.execute_input": "2024-06-09T19:30:32.149506Z",
     "iopub.status.busy": "2024-06-09T19:30:32.149254Z",
     "iopub.status.idle": "2024-06-09T19:30:32.153238Z",
     "shell.execute_reply": "2024-06-09T19:30:32.152473Z",
     "shell.execute_reply.started": "2024-06-09T19:30:32.149488Z"
    }
   },
   "outputs": [
    {
     "data": {
      "text/plain": [
       "(1000, 0.025)"
      ]
     },
     "execution_count": 12,
     "metadata": {},
     "output_type": "execute_result"
    }
   ],
   "source": [
    "curva.get_values_at(0)"
   ]
  },
  {
   "cell_type": "markdown",
   "metadata": {},
   "source": [
    "Se obtiene el plazo en una posición de la curva."
   ]
  },
  {
   "cell_type": "code",
   "execution_count": 13,
   "metadata": {
    "ExecuteTime": {
     "end_time": "2023-12-19T16:07:46.453257Z",
     "start_time": "2023-12-19T16:07:46.409855Z"
    },
    "execution": {
     "iopub.execute_input": "2024-06-09T19:30:32.154310Z",
     "iopub.status.busy": "2024-06-09T19:30:32.154099Z",
     "iopub.status.idle": "2024-06-09T19:30:32.157956Z",
     "shell.execute_reply": "2024-06-09T19:30:32.157298Z",
     "shell.execute_reply.started": "2024-06-09T19:30:32.154290Z"
    }
   },
   "outputs": [
    {
     "data": {
      "text/plain": [
       "1000"
      ]
     },
     "execution_count": 13,
     "metadata": {},
     "output_type": "execute_result"
    }
   ],
   "source": [
    "curva.get_values_at(0)[0]"
   ]
  },
  {
   "cell_type": "markdown",
   "metadata": {},
   "source": [
    "Se obtiene la tasa en una posición de la curva."
   ]
  },
  {
   "cell_type": "code",
   "execution_count": 14,
   "metadata": {
    "ExecuteTime": {
     "end_time": "2023-12-19T16:07:47.247205Z",
     "start_time": "2023-12-19T16:07:47.205409Z"
    },
    "execution": {
     "iopub.execute_input": "2024-06-09T19:30:32.158855Z",
     "iopub.status.busy": "2024-06-09T19:30:32.158687Z",
     "iopub.status.idle": "2024-06-09T19:30:32.162664Z",
     "shell.execute_reply": "2024-06-09T19:30:32.162143Z",
     "shell.execute_reply.started": "2024-06-09T19:30:32.158838Z"
    }
   },
   "outputs": [
    {
     "data": {
      "text/plain": [
       "0.025"
      ]
     },
     "execution_count": 14,
     "metadata": {},
     "output_type": "execute_result"
    }
   ],
   "source": [
    "curva.get_values_at(0)[1]"
   ]
  },
  {
   "cell_type": "markdown",
   "metadata": {},
   "source": [
    "Se agrega un par (plazo, valor) a la curva."
   ]
  },
  {
   "cell_type": "code",
   "execution_count": 15,
   "metadata": {
    "ExecuteTime": {
     "end_time": "2023-12-19T16:07:48.252361Z",
     "start_time": "2023-12-19T16:07:48.212421Z"
    },
    "execution": {
     "iopub.execute_input": "2024-06-09T19:30:32.163774Z",
     "iopub.status.busy": "2024-06-09T19:30:32.163552Z",
     "iopub.status.idle": "2024-06-09T19:30:32.166424Z",
     "shell.execute_reply": "2024-06-09T19:30:32.165906Z",
     "shell.execute_reply.started": "2024-06-09T19:30:32.163756Z"
    }
   },
   "outputs": [],
   "source": [
    "curva.set_pair(100, .026)"
   ]
  },
  {
   "cell_type": "markdown",
   "metadata": {},
   "source": [
    "Se verifica. Notar que se debe usar el índice 0 ya que la curva se ordena automáticamente por plazos ascendentes."
   ]
  },
  {
   "cell_type": "code",
   "execution_count": 16,
   "metadata": {
    "ExecuteTime": {
     "end_time": "2023-12-19T16:07:49.343628Z",
     "start_time": "2023-12-19T16:07:49.301831Z"
    },
    "execution": {
     "iopub.execute_input": "2024-06-09T19:30:32.167836Z",
     "iopub.status.busy": "2024-06-09T19:30:32.167377Z",
     "iopub.status.idle": "2024-06-09T19:30:32.171735Z",
     "shell.execute_reply": "2024-06-09T19:30:32.171028Z",
     "shell.execute_reply.started": "2024-06-09T19:30:32.167815Z"
    }
   },
   "outputs": [
    {
     "data": {
      "text/plain": [
       "100"
      ]
     },
     "execution_count": 16,
     "metadata": {},
     "output_type": "execute_result"
    }
   ],
   "source": [
    "curva.get_values_at(0)[0]"
   ]
  },
  {
   "cell_type": "code",
   "execution_count": 17,
   "metadata": {
    "ExecuteTime": {
     "end_time": "2023-12-19T16:07:49.885494Z",
     "start_time": "2023-12-19T16:07:49.843490Z"
    },
    "execution": {
     "iopub.execute_input": "2024-06-09T19:30:32.172629Z",
     "iopub.status.busy": "2024-06-09T19:30:32.172448Z",
     "iopub.status.idle": "2024-06-09T19:30:32.176601Z",
     "shell.execute_reply": "2024-06-09T19:30:32.175960Z",
     "shell.execute_reply.started": "2024-06-09T19:30:32.172611Z"
    }
   },
   "outputs": [
    {
     "data": {
      "text/plain": [
       "0.026"
      ]
     },
     "execution_count": 17,
     "metadata": {},
     "output_type": "execute_result"
    }
   ],
   "source": [
    "curva.get_values_at(0)[1]"
   ]
  },
  {
   "cell_type": "markdown",
   "metadata": {},
   "source": [
    "Se agrega un par más."
   ]
  },
  {
   "cell_type": "code",
   "execution_count": 18,
   "metadata": {
    "ExecuteTime": {
     "end_time": "2023-12-19T16:07:50.740604Z",
     "start_time": "2023-12-19T16:07:50.695956Z"
    },
    "execution": {
     "iopub.execute_input": "2024-06-09T19:30:32.177520Z",
     "iopub.status.busy": "2024-06-09T19:30:32.177348Z",
     "iopub.status.idle": "2024-06-09T19:30:32.180803Z",
     "shell.execute_reply": "2024-06-09T19:30:32.180028Z",
     "shell.execute_reply.started": "2024-06-09T19:30:32.177502Z"
    }
   },
   "outputs": [],
   "source": [
    "curva.set_pair(370, .03)"
   ]
  },
  {
   "cell_type": "markdown",
   "metadata": {},
   "source": [
    "Se itera sobre la curva mostrando sus valores"
   ]
  },
  {
   "cell_type": "code",
   "execution_count": 19,
   "metadata": {
    "ExecuteTime": {
     "end_time": "2023-12-19T16:07:51.912945Z",
     "start_time": "2023-12-19T16:07:51.874023Z"
    },
    "execution": {
     "iopub.execute_input": "2024-06-09T19:30:32.181925Z",
     "iopub.status.busy": "2024-06-09T19:30:32.181670Z",
     "iopub.status.idle": "2024-06-09T19:30:32.185362Z",
     "shell.execute_reply": "2024-06-09T19:30:32.184797Z",
     "shell.execute_reply.started": "2024-06-09T19:30:32.181904Z"
    }
   },
   "outputs": [
    {
     "name": "stdout",
     "output_type": "stream",
     "text": [
      "Tenor: 100 Valor: 2.6000%\n",
      "Tenor: 370 Valor: 3.0000%\n",
      "Tenor: 1,000 Valor: 2.5000%\n"
     ]
    }
   ],
   "source": [
    "for i in range(curva.get_length()):\n",
    "    pair = curva.get_values_at(i)\n",
    "    print(\"Tenor: {0:,.0f} Valor: {1:.4%}\".format(pair[0], pair[1]))"
   ]
  },
  {
   "cell_type": "markdown",
   "metadata": {},
   "source": [
    "### Interpolador"
   ]
  },
  {
   "cell_type": "markdown",
   "metadata": {},
   "source": [
    "Se agrega un interpolador. En este caso, un interpolador lineal."
   ]
  },
  {
   "cell_type": "code",
   "execution_count": 20,
   "metadata": {
    "ExecuteTime": {
     "end_time": "2023-12-19T16:07:53.034303Z",
     "start_time": "2023-12-19T16:07:52.985581Z"
    },
    "execution": {
     "iopub.execute_input": "2024-06-09T19:30:32.186463Z",
     "iopub.status.busy": "2024-06-09T19:30:32.186259Z",
     "iopub.status.idle": "2024-06-09T19:30:32.189119Z",
     "shell.execute_reply": "2024-06-09T19:30:32.188585Z",
     "shell.execute_reply.started": "2024-06-09T19:30:32.186445Z"
    }
   },
   "outputs": [],
   "source": [
    "lin = qcf.QCLinearInterpolator(curva)"
   ]
  },
  {
   "cell_type": "markdown",
   "metadata": {},
   "source": [
    "Se puede ahora obtener una tasa a un plazo cualquiera."
   ]
  },
  {
   "cell_type": "code",
   "execution_count": 21,
   "metadata": {
    "ExecuteTime": {
     "end_time": "2023-12-19T16:07:54.354396Z",
     "start_time": "2023-12-19T16:07:54.307514Z"
    },
    "execution": {
     "iopub.execute_input": "2024-06-09T19:30:32.190220Z",
     "iopub.status.busy": "2024-06-09T19:30:32.190009Z",
     "iopub.status.idle": "2024-06-09T19:30:32.193383Z",
     "shell.execute_reply": "2024-06-09T19:30:32.192824Z",
     "shell.execute_reply.started": "2024-06-09T19:30:32.190202Z"
    }
   },
   "outputs": [
    {
     "name": "stdout",
     "output_type": "stream",
     "text": [
      "Tasa a 120 días es igual a 2.6296%\n"
     ]
    }
   ],
   "source": [
    "plazo = 120\n",
    "print(f\"Tasa a {plazo:,.0f} días es igual a {lin.interpolate_at(plazo):.4%}\")"
   ]
  },
  {
   "cell_type": "markdown",
   "metadata": {},
   "source": [
    "### Curva Cero Cupón"
   ]
  },
  {
   "cell_type": "markdown",
   "metadata": {},
   "source": [
    "Para completar el proceso se define un objeto de tipo `QCInterestRate`. Con este objeto, que representa la convención de las tasas de interés asociadas a la curva, se termina de dar de alta una curva cero cupón."
   ]
  },
  {
   "cell_type": "code",
   "execution_count": 22,
   "metadata": {
    "ExecuteTime": {
     "end_time": "2023-12-19T16:07:55.302253Z",
     "start_time": "2023-12-19T16:07:55.259464Z"
    },
    "execution": {
     "iopub.execute_input": "2024-06-09T19:30:32.200428Z",
     "iopub.status.busy": "2024-06-09T19:30:32.200016Z",
     "iopub.status.idle": "2024-06-09T19:30:32.204232Z",
     "shell.execute_reply": "2024-06-09T19:30:32.203611Z",
     "shell.execute_reply.started": "2024-06-09T19:30:32.200395Z"
    }
   },
   "outputs": [],
   "source": [
    "yf = qcf.QCAct365()\n",
    "wf = qcf.QCContinousWf()\n",
    "tasa = qcf.QCInterestRate(.0, yf, wf)"
   ]
  },
  {
   "cell_type": "code",
   "execution_count": 23,
   "metadata": {
    "ExecuteTime": {
     "end_time": "2023-12-19T16:07:55.838713Z",
     "start_time": "2023-12-19T16:07:55.795036Z"
    },
    "execution": {
     "iopub.execute_input": "2024-06-09T19:30:32.205602Z",
     "iopub.status.busy": "2024-06-09T19:30:32.205149Z",
     "iopub.status.idle": "2024-06-09T19:30:32.208400Z",
     "shell.execute_reply": "2024-06-09T19:30:32.207898Z",
     "shell.execute_reply.started": "2024-06-09T19:30:32.205564Z"
    }
   },
   "outputs": [],
   "source": [
    "zcc = qcf.ZeroCouponCurve(lin, tasa)"
   ]
  },
  {
   "cell_type": "markdown",
   "metadata": {},
   "source": [
    "El interpolador permite obtener una tasa a cualquier plazo."
   ]
  },
  {
   "cell_type": "code",
   "execution_count": 24,
   "metadata": {
    "ExecuteTime": {
     "end_time": "2023-12-19T16:07:56.577170Z",
     "start_time": "2023-12-19T16:07:56.535663Z"
    },
    "execution": {
     "iopub.execute_input": "2024-06-09T19:30:32.209188Z",
     "iopub.status.busy": "2024-06-09T19:30:32.209026Z",
     "iopub.status.idle": "2024-06-09T19:30:32.212332Z",
     "shell.execute_reply": "2024-06-09T19:30:32.211770Z",
     "shell.execute_reply.started": "2024-06-09T19:30:32.209171Z"
    }
   },
   "outputs": [
    {
     "name": "stdout",
     "output_type": "stream",
     "text": [
      "Tasa en 300 es igual a 2.8963%\n"
     ]
    }
   ],
   "source": [
    "plazo = 300\n",
    "print(f\"Tasa en {plazo:,.0f} es igual a {zcc.get_rate_at(plazo):.4%}\")"
   ]
  },
  {
   "cell_type": "markdown",
   "metadata": {},
   "source": [
    "#### Otros métodos:"
   ]
  },
  {
   "cell_type": "markdown",
   "metadata": {},
   "source": [
    "Discount factor."
   ]
  },
  {
   "cell_type": "code",
   "execution_count": 25,
   "metadata": {
    "ExecuteTime": {
     "end_time": "2023-12-19T16:07:57.573813Z",
     "start_time": "2023-12-19T16:07:57.532059Z"
    },
    "execution": {
     "iopub.execute_input": "2024-06-09T19:30:32.213663Z",
     "iopub.status.busy": "2024-06-09T19:30:32.213315Z",
     "iopub.status.idle": "2024-06-09T19:30:32.216887Z",
     "shell.execute_reply": "2024-06-09T19:30:32.216205Z",
     "shell.execute_reply.started": "2024-06-09T19:30:32.213644Z"
    }
   },
   "outputs": [
    {
     "name": "stdout",
     "output_type": "stream",
     "text": [
      "Discount factor at 300: 97.647593%\n",
      "Check: 97.647593%\n"
     ]
    }
   ],
   "source": [
    "print(f\"Discount factor at {plazo}: {zcc.get_discount_factor_at(plazo):.6%}\")\n",
    "print(f\"Check: {exp(-zcc.get_rate_at(plazo) * plazo / 365):.6%}\")"
   ]
  },
  {
   "cell_type": "markdown",
   "metadata": {},
   "source": [
    "Derivadas del factor de descuento respecto a los vértices de la curva."
   ]
  },
  {
   "cell_type": "code",
   "execution_count": 26,
   "metadata": {
    "execution": {
     "iopub.execute_input": "2024-06-09T19:30:32.217725Z",
     "iopub.status.busy": "2024-06-09T19:30:32.217565Z",
     "iopub.status.idle": "2024-06-09T19:30:32.222239Z",
     "shell.execute_reply": "2024-06-09T19:30:32.221462Z",
     "shell.execute_reply.started": "2024-06-09T19:30:32.217708Z"
    }
   },
   "outputs": [
    {
     "data": {
      "text/plain": [
       "[0.21822330167566764, 0.6234951476447647, 0.0]"
      ]
     },
     "execution_count": 26,
     "metadata": {},
     "output_type": "execute_result"
    }
   ],
   "source": [
    "[zcc.wf_derivative_at(i) for i in range(zcc.get_length())]"
   ]
  },
  {
   "cell_type": "markdown",
   "metadata": {},
   "source": [
    "Tasa Forward"
   ]
  },
  {
   "cell_type": "code",
   "execution_count": 27,
   "metadata": {
    "ExecuteTime": {
     "end_time": "2023-12-19T16:07:58.444942Z",
     "start_time": "2023-12-19T16:07:58.406507Z"
    },
    "execution": {
     "iopub.execute_input": "2024-06-09T19:30:32.223252Z",
     "iopub.status.busy": "2024-06-09T19:30:32.223068Z",
     "iopub.status.idle": "2024-06-09T19:30:32.226983Z",
     "shell.execute_reply": "2024-06-09T19:30:32.226282Z",
     "shell.execute_reply.started": "2024-06-09T19:30:32.223234Z"
    }
   },
   "outputs": [
    {
     "name": "stdout",
     "output_type": "stream",
     "text": [
      "Tasa forward entre los días 30 y 90: 2.6000%\n"
     ]
    }
   ],
   "source": [
    "d1 = 30\n",
    "d2 = 90\n",
    "print(f\"Tasa forward entre los días {d1:,.0f} y {d2:,.0f}: {zcc.get_forward_rate(d1, d2):.4%}\")"
   ]
  },
  {
   "cell_type": "markdown",
   "metadata": {},
   "source": [
    "Se verifica el cálculo."
   ]
  },
  {
   "cell_type": "code",
   "execution_count": 28,
   "metadata": {
    "execution": {
     "iopub.execute_input": "2024-06-09T19:30:32.228042Z",
     "iopub.status.busy": "2024-06-09T19:30:32.227859Z",
     "iopub.status.idle": "2024-06-09T19:30:32.231844Z",
     "shell.execute_reply": "2024-06-09T19:30:32.231111Z",
     "shell.execute_reply.started": "2024-06-09T19:30:32.228023Z"
    }
   },
   "outputs": [
    {
     "name": "stdout",
     "output_type": "stream",
     "text": [
      "Check: 2.6000%\n"
     ]
    }
   ],
   "source": [
    "df1 = zcc.get_discount_factor_at(d1)\n",
    "df2 = zcc.get_discount_factor_at(d2)\n",
    "df12 = df1 / df2\n",
    "print(f\"Check: {log(df12) * 365 / (d2 - d1):.4%}\")"
   ]
  },
  {
   "cell_type": "markdown",
   "metadata": {},
   "source": [
    "Derivadas del factor de capitalización de la tasa forward."
   ]
  },
  {
   "cell_type": "code",
   "execution_count": 29,
   "metadata": {
    "ExecuteTime": {
     "end_time": "2023-12-19T16:07:59.115753Z",
     "start_time": "2023-12-19T16:07:59.066916Z"
    },
    "execution": {
     "iopub.execute_input": "2024-06-09T19:30:32.233136Z",
     "iopub.status.busy": "2024-06-09T19:30:32.232827Z",
     "iopub.status.idle": "2024-06-09T19:30:32.237968Z",
     "shell.execute_reply": "2024-06-09T19:30:32.237228Z",
     "shell.execute_reply.started": "2024-06-09T19:30:32.233110Z"
    }
   },
   "outputs": [
    {
     "data": {
      "text/plain": [
       "[0.16508763600814624, 0.0, 0.0]"
      ]
     },
     "execution_count": 29,
     "metadata": {},
     "output_type": "execute_result"
    }
   ],
   "source": [
    "[zcc.fwd_wf_derivative_at(i) for i in range(zcc.get_length())]"
   ]
  },
  {
   "cell_type": "markdown",
   "metadata": {},
   "source": [
    "## Valorizar"
   ]
  },
  {
   "cell_type": "markdown",
   "metadata": {},
   "source": [
    "Para valorizar es necesario dar de alta un objeto de tipo `PresentValue`."
   ]
  },
  {
   "cell_type": "code",
   "execution_count": 30,
   "metadata": {
    "ExecuteTime": {
     "end_time": "2023-12-19T16:08:00.420833Z",
     "start_time": "2023-12-19T16:08:00.380040Z"
    },
    "execution": {
     "iopub.execute_input": "2024-06-09T19:30:32.238941Z",
     "iopub.status.busy": "2024-06-09T19:30:32.238754Z",
     "iopub.status.idle": "2024-06-09T19:30:32.242013Z",
     "shell.execute_reply": "2024-06-09T19:30:32.241462Z",
     "shell.execute_reply.started": "2024-06-09T19:30:32.238923Z"
    }
   },
   "outputs": [],
   "source": [
    "pv = qcf.PresentValue()"
   ]
  },
  {
   "cell_type": "markdown",
   "metadata": {},
   "source": [
    "### Depósito a Plazo"
   ]
  },
  {
   "cell_type": "markdown",
   "metadata": {},
   "source": [
    "Se utilizará como instrumento un depósito a plazo en CLP o USD. Este instrumento se modela como un `SimpleCashflow`. Este, a su vez se construye con un monto, una fecha y una moneda."
   ]
  },
  {
   "cell_type": "code",
   "execution_count": 31,
   "metadata": {
    "ExecuteTime": {
     "end_time": "2023-12-19T16:08:01.443682Z",
     "start_time": "2023-12-19T16:08:01.417967Z"
    },
    "execution": {
     "iopub.execute_input": "2024-06-09T19:30:32.243114Z",
     "iopub.status.busy": "2024-06-09T19:30:32.242907Z",
     "iopub.status.idle": "2024-06-09T19:30:32.246412Z",
     "shell.execute_reply": "2024-06-09T19:30:32.245800Z",
     "shell.execute_reply.started": "2024-06-09T19:30:32.243095Z"
    }
   },
   "outputs": [],
   "source": [
    "fecha_vcto = qcf.QCDate(13, 1, 2025)\n",
    "monto = 10_000_000.0\n",
    "clp = qcf.QCCLP()\n",
    "\n",
    "# Se construye el depósito\n",
    "depo = qcf.SimpleCashflow(fecha_vcto, monto, clp)"
   ]
  },
  {
   "cell_type": "code",
   "execution_count": 32,
   "metadata": {
    "ExecuteTime": {
     "end_time": "2023-12-19T16:08:02.053007Z",
     "start_time": "2023-12-19T16:08:02.010581Z"
    },
    "execution": {
     "iopub.execute_input": "2024-06-09T19:30:32.247626Z",
     "iopub.status.busy": "2024-06-09T19:30:32.247369Z",
     "iopub.status.idle": "2024-06-09T19:30:32.251123Z",
     "shell.execute_reply": "2024-06-09T19:30:32.250483Z",
     "shell.execute_reply.started": "2024-06-09T19:30:32.247607Z"
    }
   },
   "outputs": [
    {
     "name": "stdout",
     "output_type": "stream",
     "text": [
      "Monto del depósito: 10,000,000\n"
     ]
    }
   ],
   "source": [
    "print(f\"Monto del depósito: {depo.amount():,.0f}\")"
   ]
  },
  {
   "cell_type": "markdown",
   "metadata": {},
   "source": [
    "Se define una fecha de valorización y se calcula el valor presente del depo."
   ]
  },
  {
   "cell_type": "code",
   "execution_count": 33,
   "metadata": {
    "ExecuteTime": {
     "end_time": "2023-12-19T16:08:02.946023Z",
     "start_time": "2023-12-19T16:08:02.904845Z"
    },
    "execution": {
     "iopub.execute_input": "2024-06-09T19:30:32.252230Z",
     "iopub.status.busy": "2024-06-09T19:30:32.251966Z",
     "iopub.status.idle": "2024-06-09T19:30:32.256198Z",
     "shell.execute_reply": "2024-06-09T19:30:32.255558Z",
     "shell.execute_reply.started": "2024-06-09T19:30:32.252208Z"
    }
   },
   "outputs": [
    {
     "name": "stdout",
     "output_type": "stream",
     "text": [
      "Valor presente depo: 9,721,044.77\n"
     ]
    }
   ],
   "source": [
    "fecha_hoy = qcf.QCDate(31, 1, 2024)\n",
    "print(f\"Valor presente depo: {pv.pv(fecha_hoy, depo, zcc):,.2f}\")"
   ]
  },
  {
   "cell_type": "markdown",
   "metadata": {},
   "source": [
    "Se verifica *a mano* el resultado."
   ]
  },
  {
   "cell_type": "code",
   "execution_count": 34,
   "metadata": {
    "ExecuteTime": {
     "end_time": "2023-12-19T16:08:03.740456Z",
     "start_time": "2023-12-19T16:08:03.697417Z"
    },
    "execution": {
     "iopub.execute_input": "2024-06-09T19:30:32.257646Z",
     "iopub.status.busy": "2024-06-09T19:30:32.257340Z",
     "iopub.status.idle": "2024-06-09T19:30:32.260848Z",
     "shell.execute_reply": "2024-06-09T19:30:32.260237Z",
     "shell.execute_reply.started": "2024-06-09T19:30:32.257624Z"
    }
   },
   "outputs": [
    {
     "name": "stdout",
     "output_type": "stream",
     "text": [
      "Plazo: 348\n"
     ]
    }
   ],
   "source": [
    "plazo = fecha_hoy.day_diff(fecha_vcto)\n",
    "print(\"Plazo:\", plazo)"
   ]
  },
  {
   "cell_type": "code",
   "execution_count": 35,
   "metadata": {
    "ExecuteTime": {
     "end_time": "2023-12-19T16:08:04.255797Z",
     "start_time": "2023-12-19T16:08:04.238740Z"
    },
    "execution": {
     "iopub.execute_input": "2024-06-09T19:30:32.261931Z",
     "iopub.status.busy": "2024-06-09T19:30:32.261696Z",
     "iopub.status.idle": "2024-06-09T19:30:32.264842Z",
     "shell.execute_reply": "2024-06-09T19:30:32.264340Z",
     "shell.execute_reply.started": "2024-06-09T19:30:32.261912Z"
    }
   },
   "outputs": [
    {
     "name": "stdout",
     "output_type": "stream",
     "text": [
      "Tasa: 2.9674%\n"
     ]
    }
   ],
   "source": [
    "tasa_int = zcc.get_rate_at(plazo)\n",
    "print(f\"Tasa: {tasa_int:,.4%}\")"
   ]
  },
  {
   "cell_type": "code",
   "execution_count": 36,
   "metadata": {
    "ExecuteTime": {
     "end_time": "2023-12-19T16:08:04.684330Z",
     "start_time": "2023-12-19T16:08:04.643709Z"
    },
    "execution": {
     "iopub.execute_input": "2024-06-09T19:30:32.265980Z",
     "iopub.status.busy": "2024-06-09T19:30:32.265777Z",
     "iopub.status.idle": "2024-06-09T19:30:32.269501Z",
     "shell.execute_reply": "2024-06-09T19:30:32.268842Z",
     "shell.execute_reply.started": "2024-06-09T19:30:32.265962Z"
    }
   },
   "outputs": [
    {
     "name": "stdout",
     "output_type": "stream",
     "text": [
      "Valor presente a mano: 9,721,044.77\n"
     ]
    }
   ],
   "source": [
    "valor_presente = monto * exp(-tasa_int * plazo / 365)\n",
    "print(f\"Valor presente a mano: {valor_presente:,.2f}\")"
   ]
  },
  {
   "cell_type": "markdown",
   "metadata": {},
   "source": [
    "### Renta Fija de Chile"
   ]
  },
  {
   "cell_type": "markdown",
   "metadata": {},
   "source": [
    "Se muestra el ejemplo de valorización de un bono bullet a tasa fija con las convenciones de la Bolsa de Comercio de Santiago. Para el ejemplo usamos las características del BTU0150326.\n",
    "\n",
    "Se dan de alta los parámetros requeridos para instanciar un objeto de tipo `FixedRateLeg`."
   ]
  },
  {
   "cell_type": "code",
   "execution_count": 37,
   "metadata": {
    "ExecuteTime": {
     "end_time": "2023-12-19T16:08:06.679468Z",
     "start_time": "2023-12-19T16:08:06.628258Z"
    },
    "execution": {
     "iopub.execute_input": "2024-06-09T19:30:32.270956Z",
     "iopub.status.busy": "2024-06-09T19:30:32.270668Z",
     "iopub.status.idle": "2024-06-09T19:30:32.275719Z",
     "shell.execute_reply": "2024-06-09T19:30:32.275047Z",
     "shell.execute_reply.started": "2024-06-09T19:30:32.270932Z"
    }
   },
   "outputs": [],
   "source": [
    "rp = qcf.RecPay.RECEIVE\n",
    "fecha_inicio = qcf.QCDate(1, 3, 2015)\n",
    "fecha_final = qcf.QCDate(1, 3, 2026)\n",
    "bus_adj_rule = qcf.BusyAdjRules.NO\n",
    "periodicidad = qcf.Tenor('6M')\n",
    "periodo_irregular = qcf.StubPeriod.NO\n",
    "calendario = qcf.BusinessCalendar(fecha_inicio, 20)\n",
    "lag_pago = 0\n",
    "nominal = 100.0\n",
    "amort_es_flujo = True\n",
    "valor_tasa_fija = .015\n",
    "tasa_cupon = qcf.QCInterestRate(\n",
    "    valor_tasa_fija, \n",
    "    qcf.QC30360(),\n",
    "    qcf.QCLinearWf()\n",
    ")\n",
    "moneda = qcf.QCCLP()\n",
    "es_bono = True"
   ]
  },
  {
   "cell_type": "markdown",
   "metadata": {},
   "source": [
    "Se da de alta el objeto."
   ]
  },
  {
   "cell_type": "code",
   "execution_count": 38,
   "metadata": {
    "execution": {
     "iopub.execute_input": "2024-06-09T19:30:32.276941Z",
     "iopub.status.busy": "2024-06-09T19:30:32.276670Z",
     "iopub.status.idle": "2024-06-09T19:30:32.281308Z",
     "shell.execute_reply": "2024-06-09T19:30:32.280364Z",
     "shell.execute_reply.started": "2024-06-09T19:30:32.276921Z"
    }
   },
   "outputs": [],
   "source": [
    "pata_bono = qcf.LegFactory.build_bullet_fixed_rate_leg(\n",
    "    rp,\n",
    "    fecha_inicio,\n",
    "    fecha_final,\n",
    "    bus_adj_rule,\n",
    "    periodicidad,\n",
    "    periodo_irregular,\n",
    "    calendario,\n",
    "    lag_pago,\n",
    "    nominal,\n",
    "    amort_es_flujo,\n",
    "    tasa_cupon,\n",
    "    moneda,\n",
    "    es_bono\n",
    ")"
   ]
  },
  {
   "cell_type": "markdown",
   "metadata": {},
   "source": [
    "Se da de alta el valor de la TERA y luego se construye un objeto de tipo `ChileanFixedRateBond`."
   ]
  },
  {
   "cell_type": "code",
   "execution_count": 39,
   "metadata": {
    "ExecuteTime": {
     "end_time": "2023-12-19T16:08:08.445931Z",
     "start_time": "2023-12-19T16:08:08.372194Z"
    },
    "execution": {
     "iopub.execute_input": "2024-06-09T19:30:32.282948Z",
     "iopub.status.busy": "2024-06-09T19:30:32.282672Z",
     "iopub.status.idle": "2024-06-09T19:30:32.286195Z",
     "shell.execute_reply": "2024-06-09T19:30:32.285589Z",
     "shell.execute_reply.started": "2024-06-09T19:30:32.282928Z"
    }
   },
   "outputs": [],
   "source": [
    "tera = qcf.QCInterestRate(.015044, qcf.QCAct365(), qcf.QCCompoundWf())\n",
    "bono_chileno = qcf.ChileanFixedRateBond(pata_bono, tera)"
   ]
  },
  {
   "cell_type": "markdown",
   "metadata": {},
   "source": [
    "Se valoriza al 2021-09-28 a una TIR de mercado del 1.61%."
   ]
  },
  {
   "cell_type": "code",
   "execution_count": 40,
   "metadata": {
    "ExecuteTime": {
     "end_time": "2023-12-19T16:08:09.670563Z",
     "start_time": "2023-12-19T16:08:09.629801Z"
    },
    "execution": {
     "iopub.execute_input": "2024-06-09T19:30:32.287410Z",
     "iopub.status.busy": "2024-06-09T19:30:32.287161Z",
     "iopub.status.idle": "2024-06-09T19:30:32.292277Z",
     "shell.execute_reply": "2024-06-09T19:30:32.291482Z",
     "shell.execute_reply.started": "2024-06-09T19:30:32.287391Z"
    }
   },
   "outputs": [
    {
     "name": "stdout",
     "output_type": "stream",
     "text": [
      "Valor presente: 99.67188455\n",
      "Precio: 99.56%\n",
      "Valor par: 100.110516628864033351\n"
     ]
    }
   ],
   "source": [
    "fecha_valor = qcf.QCDate(28, 9, 2021)\n",
    "tir = qcf.QCInterestRate(.0161, qcf.QCAct365(), qcf.QCCompoundWf())\n",
    "\n",
    "valor_presente = bono_chileno.present_value(fecha_valor, tir)\n",
    "precio = bono_chileno.precio(fecha_valor, tir)\n",
    "valor_par = bono_chileno.valor_par(fecha_valor)\n",
    "\n",
    "print(f'Valor presente: {valor_presente:,.8f}')\n",
    "print(f'Precio: {precio:,.2%}')\n",
    "print(f'Valor par: {valor_par:,.18f}')"
   ]
  },
  {
   "cell_type": "markdown",
   "metadata": {},
   "source": [
    "Con esto el valor a pagar es:"
   ]
  },
  {
   "cell_type": "code",
   "execution_count": 41,
   "metadata": {
    "ExecuteTime": {
     "end_time": "2023-12-19T16:08:11.631819Z",
     "start_time": "2023-12-19T16:08:11.563325Z"
    },
    "execution": {
     "iopub.execute_input": "2024-06-09T19:30:32.293489Z",
     "iopub.status.busy": "2024-06-09T19:30:32.293193Z",
     "iopub.status.idle": "2024-06-09T19:30:32.296987Z",
     "shell.execute_reply": "2024-06-09T19:30:32.296369Z",
     "shell.execute_reply.started": "2024-06-09T19:30:32.293468Z"
    }
   },
   "outputs": [
    {
     "name": "stdout",
     "output_type": "stream",
     "text": [
      "Valor a pagar: 2,998,111\n"
     ]
    }
   ],
   "source": [
    "valor_uf = 30_080.37\n",
    "valor_pago = precio * valor_par * valor_uf\n",
    "print(f'Valor a pagar: {valor_pago:,.0f}')"
   ]
  },
  {
   "cell_type": "markdown",
   "metadata": {},
   "source": [
    "Con 4 decimales en el precio (4 decimales porcentuales, 6 decimales en el número):"
   ]
  },
  {
   "cell_type": "code",
   "execution_count": 42,
   "metadata": {
    "ExecuteTime": {
     "end_time": "2023-12-19T16:08:12.721303Z",
     "start_time": "2023-12-19T16:08:12.649442Z"
    },
    "execution": {
     "iopub.execute_input": "2024-06-09T19:30:32.298256Z",
     "iopub.status.busy": "2024-06-09T19:30:32.298010Z",
     "iopub.status.idle": "2024-06-09T19:30:32.301529Z",
     "shell.execute_reply": "2024-06-09T19:30:32.300912Z",
     "shell.execute_reply.started": "2024-06-09T19:30:32.298236Z"
    }
   },
   "outputs": [
    {
     "name": "stdout",
     "output_type": "stream",
     "text": [
      "Precio a 4 decmales: 99.5619%\n"
     ]
    }
   ],
   "source": [
    "precio2 = bono_chileno.precio2(fecha_valor, tir, 6)\n",
    "print(f'Precio a 4 decmales: {precio2:.4%}')"
   ]
  },
  {
   "cell_type": "markdown",
   "metadata": {},
   "source": [
    "La función `precio2` entrega el mismo resultado que la función precio cuando se utiliza con 2 decimales porcentuales."
   ]
  },
  {
   "cell_type": "code",
   "execution_count": 43,
   "metadata": {
    "ExecuteTime": {
     "end_time": "2023-12-19T16:08:13.680546Z",
     "start_time": "2023-12-19T16:08:13.629598Z"
    },
    "execution": {
     "iopub.execute_input": "2024-06-09T19:30:32.302539Z",
     "iopub.status.busy": "2024-06-09T19:30:32.302344Z",
     "iopub.status.idle": "2024-06-09T19:30:32.305836Z",
     "shell.execute_reply": "2024-06-09T19:30:32.305250Z",
     "shell.execute_reply.started": "2024-06-09T19:30:32.302521Z"
    }
   },
   "outputs": [
    {
     "name": "stdout",
     "output_type": "stream",
     "text": [
      "Precio a 4 decmales: 99.5600%\n"
     ]
    }
   ],
   "source": [
    "precio22 = bono_chileno.precio2(fecha_valor, tir, 4)\n",
    "print(f'Precio a 4 decmales: {precio22:.4%}')"
   ]
  },
  {
   "cell_type": "markdown",
   "metadata": {},
   "source": [
    "Se muestran las diferencias con la convención de precio usual en mercados desarrollados."
   ]
  },
  {
   "cell_type": "code",
   "execution_count": 44,
   "metadata": {
    "ExecuteTime": {
     "end_time": "2023-12-19T16:08:15.460855Z",
     "start_time": "2023-12-19T16:08:15.409497Z"
    },
    "execution": {
     "iopub.execute_input": "2024-06-09T19:30:32.306840Z",
     "iopub.status.busy": "2024-06-09T19:30:32.306620Z",
     "iopub.status.idle": "2024-06-09T19:30:32.310363Z",
     "shell.execute_reply": "2024-06-09T19:30:32.309746Z",
     "shell.execute_reply.started": "2024-06-09T19:30:32.306823Z"
    }
   },
   "outputs": [
    {
     "name": "stdout",
     "output_type": "stream",
     "text": [
      "Valor presente: 99.67188455\n",
      "Precio: 99.55938455\n"
     ]
    }
   ],
   "source": [
    "bono = qcf.FixedRateBond(pata_bono)\n",
    "print(f'Valor presente: {bono.present_value(fecha_valor, tir):,.8f}')\n",
    "print(f'Precio: {bono.price(fecha_valor, tir):,.8f}')"
   ]
  },
  {
   "cell_type": "markdown",
   "metadata": {},
   "source": [
    "### Curvas Reales"
   ]
  },
  {
   "cell_type": "markdown",
   "metadata": {},
   "source": [
    "Construyamos dos curvas a partir de data real. Primero una curva en CLP."
   ]
  },
  {
   "cell_type": "code",
   "execution_count": 45,
   "metadata": {
    "ExecuteTime": {
     "end_time": "2023-12-19T16:09:02.099881Z",
     "start_time": "2023-12-19T16:09:02.038333Z"
    },
    "execution": {
     "iopub.execute_input": "2024-06-09T19:30:32.311456Z",
     "iopub.status.busy": "2024-06-09T19:30:32.311225Z",
     "iopub.status.idle": "2024-06-09T19:30:32.508295Z",
     "shell.execute_reply": "2024-06-09T19:30:32.507718Z",
     "shell.execute_reply.started": "2024-06-09T19:30:32.311437Z"
    }
   },
   "outputs": [
    {
     "data": {
      "text/html": [
       "<style type=\"text/css\">\n",
       "</style>\n",
       "<table id=\"T_287c4\">\n",
       "  <thead>\n",
       "    <tr>\n",
       "      <th class=\"blank level0\" >&nbsp;</th>\n",
       "      <th id=\"T_287c4_level0_col0\" class=\"col_heading level0 col0\" >plazo</th>\n",
       "      <th id=\"T_287c4_level0_col1\" class=\"col_heading level0 col1\" >tasa</th>\n",
       "    </tr>\n",
       "  </thead>\n",
       "  <tbody>\n",
       "    <tr>\n",
       "      <th id=\"T_287c4_level0_row0\" class=\"row_heading level0 row0\" >0</th>\n",
       "      <td id=\"T_287c4_row0_col0\" class=\"data row0 col0\" >1</td>\n",
       "      <td id=\"T_287c4_row0_col1\" class=\"data row0 col1\" >1.7500%</td>\n",
       "    </tr>\n",
       "    <tr>\n",
       "      <th id=\"T_287c4_level0_row1\" class=\"row_heading level0 row1\" >1</th>\n",
       "      <td id=\"T_287c4_row1_col0\" class=\"data row1 col0\" >4</td>\n",
       "      <td id=\"T_287c4_row1_col1\" class=\"data row1 col1\" >1.7501%</td>\n",
       "    </tr>\n",
       "    <tr>\n",
       "      <th id=\"T_287c4_level0_row2\" class=\"row_heading level0 row2\" >2</th>\n",
       "      <td id=\"T_287c4_row2_col0\" class=\"data row2 col0\" >96</td>\n",
       "      <td id=\"T_287c4_row2_col1\" class=\"data row2 col1\" >1.4867%</td>\n",
       "    </tr>\n",
       "    <tr>\n",
       "      <th id=\"T_287c4_level0_row3\" class=\"row_heading level0 row3\" >3</th>\n",
       "      <td id=\"T_287c4_row3_col0\" class=\"data row3 col0\" >188</td>\n",
       "      <td id=\"T_287c4_row3_col1\" class=\"data row3 col1\" >1.3049%</td>\n",
       "    </tr>\n",
       "    <tr>\n",
       "      <th id=\"T_287c4_level0_row4\" class=\"row_heading level0 row4\" >4</th>\n",
       "      <td id=\"T_287c4_row4_col0\" class=\"data row4 col0\" >279</td>\n",
       "      <td id=\"T_287c4_row4_col1\" class=\"data row4 col1\" >1.2870%</td>\n",
       "    </tr>\n",
       "    <tr>\n",
       "      <th id=\"T_287c4_level0_row5\" class=\"row_heading level0 row5\" >5</th>\n",
       "      <td id=\"T_287c4_row5_col0\" class=\"data row5 col0\" >369</td>\n",
       "      <td id=\"T_287c4_row5_col1\" class=\"data row5 col1\" >1.3002%</td>\n",
       "    </tr>\n",
       "    <tr>\n",
       "      <th id=\"T_287c4_level0_row6\" class=\"row_heading level0 row6\" >6</th>\n",
       "      <td id=\"T_287c4_row6_col0\" class=\"data row6 col0\" >553</td>\n",
       "      <td id=\"T_287c4_row6_col1\" class=\"data row6 col1\" >1.3035%</td>\n",
       "    </tr>\n",
       "    <tr>\n",
       "      <th id=\"T_287c4_level0_row7\" class=\"row_heading level0 row7\" >7</th>\n",
       "      <td id=\"T_287c4_row7_col0\" class=\"data row7 col0\" >734</td>\n",
       "      <td id=\"T_287c4_row7_col1\" class=\"data row7 col1\" >1.2951%</td>\n",
       "    </tr>\n",
       "    <tr>\n",
       "      <th id=\"T_287c4_level0_row8\" class=\"row_heading level0 row8\" >8</th>\n",
       "      <td id=\"T_287c4_row8_col0\" class=\"data row8 col0\" >1,099</td>\n",
       "      <td id=\"T_287c4_row8_col1\" class=\"data row8 col1\" >1.4440%</td>\n",
       "    </tr>\n",
       "    <tr>\n",
       "      <th id=\"T_287c4_level0_row9\" class=\"row_heading level0 row9\" >9</th>\n",
       "      <td id=\"T_287c4_row9_col0\" class=\"data row9 col0\" >1,465</td>\n",
       "      <td id=\"T_287c4_row9_col1\" class=\"data row9 col1\" >1.6736%</td>\n",
       "    </tr>\n",
       "    <tr>\n",
       "      <th id=\"T_287c4_level0_row10\" class=\"row_heading level0 row10\" >10</th>\n",
       "      <td id=\"T_287c4_row10_col0\" class=\"data row10 col0\" >1,830</td>\n",
       "      <td id=\"T_287c4_row10_col1\" class=\"data row10 col1\" >1.9860%</td>\n",
       "    </tr>\n",
       "    <tr>\n",
       "      <th id=\"T_287c4_level0_row11\" class=\"row_heading level0 row11\" >11</th>\n",
       "      <td id=\"T_287c4_row11_col0\" class=\"data row11 col0\" >2,195</td>\n",
       "      <td id=\"T_287c4_row11_col1\" class=\"data row11 col1\" >2.2766%</td>\n",
       "    </tr>\n",
       "    <tr>\n",
       "      <th id=\"T_287c4_level0_row12\" class=\"row_heading level0 row12\" >12</th>\n",
       "      <td id=\"T_287c4_row12_col0\" class=\"data row12 col0\" >2,560</td>\n",
       "      <td id=\"T_287c4_row12_col1\" class=\"data row12 col1\" >2.5812%</td>\n",
       "    </tr>\n",
       "    <tr>\n",
       "      <th id=\"T_287c4_level0_row13\" class=\"row_heading level0 row13\" >13</th>\n",
       "      <td id=\"T_287c4_row13_col0\" class=\"data row13 col0\" >2,926</td>\n",
       "      <td id=\"T_287c4_row13_col1\" class=\"data row13 col1\" >2.8216%</td>\n",
       "    </tr>\n",
       "    <tr>\n",
       "      <th id=\"T_287c4_level0_row14\" class=\"row_heading level0 row14\" >14</th>\n",
       "      <td id=\"T_287c4_row14_col0\" class=\"data row14 col0\" >3,291</td>\n",
       "      <td id=\"T_287c4_row14_col1\" class=\"data row14 col1\" >3.0373%</td>\n",
       "    </tr>\n",
       "    <tr>\n",
       "      <th id=\"T_287c4_level0_row15\" class=\"row_heading level0 row15\" >15</th>\n",
       "      <td id=\"T_287c4_row15_col0\" class=\"data row15 col0\" >3,656</td>\n",
       "      <td id=\"T_287c4_row15_col1\" class=\"data row15 col1\" >3.2154%</td>\n",
       "    </tr>\n",
       "    <tr>\n",
       "      <th id=\"T_287c4_level0_row16\" class=\"row_heading level0 row16\" >16</th>\n",
       "      <td id=\"T_287c4_row16_col0\" class=\"data row16 col0\" >4,387</td>\n",
       "      <td id=\"T_287c4_row16_col1\" class=\"data row16 col1\" >3.4525%</td>\n",
       "    </tr>\n",
       "    <tr>\n",
       "      <th id=\"T_287c4_level0_row17\" class=\"row_heading level0 row17\" >17</th>\n",
       "      <td id=\"T_287c4_row17_col0\" class=\"data row17 col0\" >5,482</td>\n",
       "      <td id=\"T_287c4_row17_col1\" class=\"data row17 col1\" >3.7636%</td>\n",
       "    </tr>\n",
       "    <tr>\n",
       "      <th id=\"T_287c4_level0_row18\" class=\"row_heading level0 row18\" >18</th>\n",
       "      <td id=\"T_287c4_row18_col0\" class=\"data row18 col0\" >7,309</td>\n",
       "      <td id=\"T_287c4_row18_col1\" class=\"data row18 col1\" >4.1641%</td>\n",
       "    </tr>\n",
       "  </tbody>\n",
       "</table>\n"
      ],
      "text/plain": [
       "<pandas.io.formats.style.Styler at 0x112d8c090>"
      ]
     },
     "execution_count": 45,
     "metadata": {},
     "output_type": "execute_result"
    }
   ],
   "source": [
    "curva_clp = pd.read_excel(\"./input/curva_clp.xlsx\")\n",
    "curva_clp.style.format(format_dict)"
   ]
  },
  {
   "cell_type": "markdown",
   "metadata": {},
   "source": [
    "Se da de alta un vector con los plazos (variable de tipo `long`) y un vector con las tasas (variable de tipo `double`)."
   ]
  },
  {
   "cell_type": "code",
   "execution_count": 46,
   "metadata": {
    "ExecuteTime": {
     "end_time": "2023-12-19T16:09:12.270999Z",
     "start_time": "2023-12-19T16:09:12.233624Z"
    },
    "execution": {
     "iopub.execute_input": "2024-06-09T19:30:32.509344Z",
     "iopub.status.busy": "2024-06-09T19:30:32.509107Z",
     "iopub.status.idle": "2024-06-09T19:30:32.513805Z",
     "shell.execute_reply": "2024-06-09T19:30:32.513073Z",
     "shell.execute_reply.started": "2024-06-09T19:30:32.509324Z"
    }
   },
   "outputs": [],
   "source": [
    "lvec1 = qcf.long_vec()\n",
    "vec1 = qcf.double_vec()\n",
    "for t in curva_clp.itertuples():\n",
    "    lvec1.append(int(t.plazo))\n",
    "    vec1.append(t.tasa)"
   ]
  },
  {
   "cell_type": "markdown",
   "metadata": {},
   "source": [
    "Luego, con una curva, un interpolador y un objeto `QCInterestRate`(que indica la convención de las tasas de la curva) se construye una curva cupón cero."
   ]
  },
  {
   "cell_type": "code",
   "execution_count": 47,
   "metadata": {
    "ExecuteTime": {
     "end_time": "2023-12-19T16:09:14.611482Z",
     "start_time": "2023-12-19T16:09:14.565464Z"
    },
    "execution": {
     "iopub.execute_input": "2024-06-09T19:30:32.514946Z",
     "iopub.status.busy": "2024-06-09T19:30:32.514696Z",
     "iopub.status.idle": "2024-06-09T19:30:32.518283Z",
     "shell.execute_reply": "2024-06-09T19:30:32.517569Z",
     "shell.execute_reply.started": "2024-06-09T19:30:32.514927Z"
    }
   },
   "outputs": [],
   "source": [
    "curva1 = qcf.QCCurve(lvec1, vec1)\n",
    "lin1 = qcf.QCLinearInterpolator(curva1)\n",
    "zcc_clp = qcf.ZeroCouponCurve(lin1, tasa)"
   ]
  },
  {
   "cell_type": "markdown",
   "metadata": {},
   "source": [
    "Luego, una curva en USD."
   ]
  },
  {
   "cell_type": "code",
   "execution_count": 48,
   "metadata": {
    "ExecuteTime": {
     "end_time": "2023-12-19T16:09:16.478008Z",
     "start_time": "2023-12-19T16:09:16.407650Z"
    },
    "execution": {
     "iopub.execute_input": "2024-06-09T19:30:32.519294Z",
     "iopub.status.busy": "2024-06-09T19:30:32.519089Z",
     "iopub.status.idle": "2024-06-09T19:30:32.544090Z",
     "shell.execute_reply": "2024-06-09T19:30:32.543286Z",
     "shell.execute_reply.started": "2024-06-09T19:30:32.519276Z"
    }
   },
   "outputs": [
    {
     "data": {
      "text/html": [
       "<style type=\"text/css\">\n",
       "</style>\n",
       "<table id=\"T_ea577\">\n",
       "  <thead>\n",
       "    <tr>\n",
       "      <th class=\"blank level0\" >&nbsp;</th>\n",
       "      <th id=\"T_ea577_level0_col0\" class=\"col_heading level0 col0\" >plazo</th>\n",
       "      <th id=\"T_ea577_level0_col1\" class=\"col_heading level0 col1\" >tasa</th>\n",
       "    </tr>\n",
       "  </thead>\n",
       "  <tbody>\n",
       "    <tr>\n",
       "      <th id=\"T_ea577_level0_row0\" class=\"row_heading level0 row0\" >0</th>\n",
       "      <td id=\"T_ea577_row0_col0\" class=\"data row0 col0\" >3</td>\n",
       "      <td id=\"T_ea577_row0_col1\" class=\"data row0 col1\" >1.5362%</td>\n",
       "    </tr>\n",
       "    <tr>\n",
       "      <th id=\"T_ea577_level0_row1\" class=\"row_heading level0 row1\" >1</th>\n",
       "      <td id=\"T_ea577_row1_col0\" class=\"data row1 col0\" >4</td>\n",
       "      <td id=\"T_ea577_row1_col1\" class=\"data row1 col1\" >1.1521%</td>\n",
       "    </tr>\n",
       "    <tr>\n",
       "      <th id=\"T_ea577_level0_row2\" class=\"row_heading level0 row2\" >2</th>\n",
       "      <td id=\"T_ea577_row2_col0\" class=\"data row2 col0\" >7</td>\n",
       "      <td id=\"T_ea577_row2_col1\" class=\"data row2 col1\" >1.5536%</td>\n",
       "    </tr>\n",
       "    <tr>\n",
       "      <th id=\"T_ea577_level0_row3\" class=\"row_heading level0 row3\" >3</th>\n",
       "      <td id=\"T_ea577_row3_col0\" class=\"data row3 col0\" >14</td>\n",
       "      <td id=\"T_ea577_row3_col1\" class=\"data row3 col1\" >1.5850%</td>\n",
       "    </tr>\n",
       "    <tr>\n",
       "      <th id=\"T_ea577_level0_row4\" class=\"row_heading level0 row4\" >4</th>\n",
       "      <td id=\"T_ea577_row4_col0\" class=\"data row4 col0\" >31</td>\n",
       "      <td id=\"T_ea577_row4_col1\" class=\"data row4 col1\" >1.6595%</td>\n",
       "    </tr>\n",
       "    <tr>\n",
       "      <th id=\"T_ea577_level0_row5\" class=\"row_heading level0 row5\" >5</th>\n",
       "      <td id=\"T_ea577_row5_col0\" class=\"data row5 col0\" >60</td>\n",
       "      <td id=\"T_ea577_row5_col1\" class=\"data row5 col1\" >1.7698%</td>\n",
       "    </tr>\n",
       "    <tr>\n",
       "      <th id=\"T_ea577_level0_row6\" class=\"row_heading level0 row6\" >6</th>\n",
       "      <td id=\"T_ea577_row6_col0\" class=\"data row6 col0\" >91</td>\n",
       "      <td id=\"T_ea577_row6_col1\" class=\"data row6 col1\" >1.8010%</td>\n",
       "    </tr>\n",
       "    <tr>\n",
       "      <th id=\"T_ea577_level0_row7\" class=\"row_heading level0 row7\" >7</th>\n",
       "      <td id=\"T_ea577_row7_col0\" class=\"data row7 col0\" >123</td>\n",
       "      <td id=\"T_ea577_row7_col1\" class=\"data row7 col1\" >1.7711%</td>\n",
       "    </tr>\n",
       "    <tr>\n",
       "      <th id=\"T_ea577_level0_row8\" class=\"row_heading level0 row8\" >8</th>\n",
       "      <td id=\"T_ea577_row8_col0\" class=\"data row8 col0\" >152</td>\n",
       "      <td id=\"T_ea577_row8_col1\" class=\"data row8 col1\" >1.7542%</td>\n",
       "    </tr>\n",
       "    <tr>\n",
       "      <th id=\"T_ea577_level0_row9\" class=\"row_heading level0 row9\" >9</th>\n",
       "      <td id=\"T_ea577_row9_col0\" class=\"data row9 col0\" >182</td>\n",
       "      <td id=\"T_ea577_row9_col1\" class=\"data row9 col1\" >1.7394%</td>\n",
       "    </tr>\n",
       "    <tr>\n",
       "      <th id=\"T_ea577_level0_row10\" class=\"row_heading level0 row10\" >10</th>\n",
       "      <td id=\"T_ea577_row10_col0\" class=\"data row10 col0\" >213</td>\n",
       "      <td id=\"T_ea577_row10_col1\" class=\"data row10 col1\" >1.7288%</td>\n",
       "    </tr>\n",
       "    <tr>\n",
       "      <th id=\"T_ea577_level0_row11\" class=\"row_heading level0 row11\" >11</th>\n",
       "      <td id=\"T_ea577_row11_col0\" class=\"data row11 col0\" >244</td>\n",
       "      <td id=\"T_ea577_row11_col1\" class=\"data row11 col1\" >1.7183%</td>\n",
       "    </tr>\n",
       "    <tr>\n",
       "      <th id=\"T_ea577_level0_row12\" class=\"row_heading level0 row12\" >12</th>\n",
       "      <td id=\"T_ea577_row12_col0\" class=\"data row12 col0\" >276</td>\n",
       "      <td id=\"T_ea577_row12_col1\" class=\"data row12 col1\" >1.7027%</td>\n",
       "    </tr>\n",
       "    <tr>\n",
       "      <th id=\"T_ea577_level0_row13\" class=\"row_heading level0 row13\" >13</th>\n",
       "      <td id=\"T_ea577_row13_col0\" class=\"data row13 col0\" >305</td>\n",
       "      <td id=\"T_ea577_row13_col1\" class=\"data row13 col1\" >1.6917%</td>\n",
       "    </tr>\n",
       "    <tr>\n",
       "      <th id=\"T_ea577_level0_row14\" class=\"row_heading level0 row14\" >14</th>\n",
       "      <td id=\"T_ea577_row14_col0\" class=\"data row14 col0\" >335</td>\n",
       "      <td id=\"T_ea577_row14_col1\" class=\"data row14 col1\" >1.6820%</td>\n",
       "    </tr>\n",
       "    <tr>\n",
       "      <th id=\"T_ea577_level0_row15\" class=\"row_heading level0 row15\" >15</th>\n",
       "      <td id=\"T_ea577_row15_col0\" class=\"data row15 col0\" >367</td>\n",
       "      <td id=\"T_ea577_row15_col1\" class=\"data row15 col1\" >1.6722%</td>\n",
       "    </tr>\n",
       "    <tr>\n",
       "      <th id=\"T_ea577_level0_row16\" class=\"row_heading level0 row16\" >16</th>\n",
       "      <td id=\"T_ea577_row16_col0\" class=\"data row16 col0\" >549</td>\n",
       "      <td id=\"T_ea577_row16_col1\" class=\"data row16 col1\" >1.6207%</td>\n",
       "    </tr>\n",
       "    <tr>\n",
       "      <th id=\"T_ea577_level0_row17\" class=\"row_heading level0 row17\" >17</th>\n",
       "      <td id=\"T_ea577_row17_col0\" class=\"data row17 col0\" >731</td>\n",
       "      <td id=\"T_ea577_row17_col1\" class=\"data row17 col1\" >1.5947%</td>\n",
       "    </tr>\n",
       "    <tr>\n",
       "      <th id=\"T_ea577_level0_row18\" class=\"row_heading level0 row18\" >18</th>\n",
       "      <td id=\"T_ea577_row18_col0\" class=\"data row18 col0\" >1,096</td>\n",
       "      <td id=\"T_ea577_row18_col1\" class=\"data row18 col1\" >1.5788%</td>\n",
       "    </tr>\n",
       "    <tr>\n",
       "      <th id=\"T_ea577_level0_row19\" class=\"row_heading level0 row19\" >19</th>\n",
       "      <td id=\"T_ea577_row19_col0\" class=\"data row19 col0\" >1,461</td>\n",
       "      <td id=\"T_ea577_row19_col1\" class=\"data row19 col1\" >1.5906%</td>\n",
       "    </tr>\n",
       "    <tr>\n",
       "      <th id=\"T_ea577_level0_row20\" class=\"row_heading level0 row20\" >20</th>\n",
       "      <td id=\"T_ea577_row20_col0\" class=\"data row20 col0\" >1,827</td>\n",
       "      <td id=\"T_ea577_row20_col1\" class=\"data row20 col1\" >1.6190%</td>\n",
       "    </tr>\n",
       "    <tr>\n",
       "      <th id=\"T_ea577_level0_row21\" class=\"row_heading level0 row21\" >21</th>\n",
       "      <td id=\"T_ea577_row21_col0\" class=\"data row21 col0\" >2,558</td>\n",
       "      <td id=\"T_ea577_row21_col1\" class=\"data row21 col1\" >1.7028%</td>\n",
       "    </tr>\n",
       "    <tr>\n",
       "      <th id=\"T_ea577_level0_row22\" class=\"row_heading level0 row22\" >22</th>\n",
       "      <td id=\"T_ea577_row22_col0\" class=\"data row22 col0\" >3,653</td>\n",
       "      <td id=\"T_ea577_row22_col1\" class=\"data row22 col1\" >1.8533%</td>\n",
       "    </tr>\n",
       "    <tr>\n",
       "      <th id=\"T_ea577_level0_row23\" class=\"row_heading level0 row23\" >23</th>\n",
       "      <td id=\"T_ea577_row23_col0\" class=\"data row23 col0\" >4,385</td>\n",
       "      <td id=\"T_ea577_row23_col1\" class=\"data row23 col1\" >1.9547%</td>\n",
       "    </tr>\n",
       "    <tr>\n",
       "      <th id=\"T_ea577_level0_row24\" class=\"row_heading level0 row24\" >24</th>\n",
       "      <td id=\"T_ea577_row24_col0\" class=\"data row24 col0\" >5,479</td>\n",
       "      <td id=\"T_ea577_row24_col1\" class=\"data row24 col1\" >2.0893%</td>\n",
       "    </tr>\n",
       "    <tr>\n",
       "      <th id=\"T_ea577_level0_row25\" class=\"row_heading level0 row25\" >25</th>\n",
       "      <td id=\"T_ea577_row25_col0\" class=\"data row25 col0\" >7,305</td>\n",
       "      <td id=\"T_ea577_row25_col1\" class=\"data row25 col1\" >2.2831%</td>\n",
       "    </tr>\n",
       "    <tr>\n",
       "      <th id=\"T_ea577_level0_row26\" class=\"row_heading level0 row26\" >26</th>\n",
       "      <td id=\"T_ea577_row26_col0\" class=\"data row26 col0\" >9,132</td>\n",
       "      <td id=\"T_ea577_row26_col1\" class=\"data row26 col1\" >2.4306%</td>\n",
       "    </tr>\n",
       "    <tr>\n",
       "      <th id=\"T_ea577_level0_row27\" class=\"row_heading level0 row27\" >27</th>\n",
       "      <td id=\"T_ea577_row27_col0\" class=\"data row27 col0\" >10,958</td>\n",
       "      <td id=\"T_ea577_row27_col1\" class=\"data row27 col1\" >2.5576%</td>\n",
       "    </tr>\n",
       "  </tbody>\n",
       "</table>\n"
      ],
      "text/plain": [
       "<pandas.io.formats.style.Styler at 0x113fc95d0>"
      ]
     },
     "execution_count": 48,
     "metadata": {},
     "output_type": "execute_result"
    }
   ],
   "source": [
    "curva_usd = pd.read_excel(\"./input/curva_usd.xlsx\")\n",
    "curva_usd.style.format(format_dict)"
   ]
  },
  {
   "cell_type": "markdown",
   "metadata": {},
   "source": [
    "Se encapasulará todo el procedimiento anterior en una función que dado un `DataFrame` construya un objeto `ZeroCouponCurve`."
   ]
  },
  {
   "cell_type": "code",
   "execution_count": 49,
   "metadata": {
    "execution": {
     "iopub.execute_input": "2024-06-09T19:30:32.545609Z",
     "iopub.status.busy": "2024-06-09T19:30:32.545150Z",
     "iopub.status.idle": "2024-06-09T19:30:32.550078Z",
     "shell.execute_reply": "2024-06-09T19:30:32.549495Z",
     "shell.execute_reply.started": "2024-06-09T19:30:32.545584Z"
    }
   },
   "outputs": [],
   "source": [
    "def zcc_from_df(df: pd.DataFrame, tasa: qcf.QCInterestRate) -> qcf.ZeroCouponCurve:\n",
    "    lvec = qcf.long_vec()\n",
    "    vec = qcf.double_vec()\n",
    "    for t in df.itertuples():\n",
    "        lvec.append(int(t.plazo))\n",
    "        vec.append(t.tasa)\n",
    "    curva = qcf.QCCurve(lvec, vec)\n",
    "    lin = qcf.QCLinearInterpolator(curva)\n",
    "    return qcf.ZeroCouponCurve(lin, tasa)"
   ]
  },
  {
   "cell_type": "code",
   "execution_count": 50,
   "metadata": {
    "ExecuteTime": {
     "end_time": "2023-12-19T16:09:17.248798Z",
     "start_time": "2023-12-19T16:09:17.208628Z"
    },
    "execution": {
     "iopub.execute_input": "2024-06-09T19:30:32.551306Z",
     "iopub.status.busy": "2024-06-09T19:30:32.551084Z",
     "iopub.status.idle": "2024-06-09T19:30:32.554532Z",
     "shell.execute_reply": "2024-06-09T19:30:32.553961Z",
     "shell.execute_reply.started": "2024-06-09T19:30:32.551285Z"
    }
   },
   "outputs": [],
   "source": [
    "zcc_usd = zcc_from_df(curva_usd, tasa)"
   ]
  },
  {
   "cell_type": "markdown",
   "metadata": {},
   "source": [
    "Finalmente, una curva en CLF."
   ]
  },
  {
   "cell_type": "code",
   "execution_count": 51,
   "metadata": {
    "ExecuteTime": {
     "end_time": "2023-12-19T16:09:18.252430Z",
     "start_time": "2023-12-19T16:09:18.204028Z"
    },
    "execution": {
     "iopub.execute_input": "2024-06-09T19:30:32.555454Z",
     "iopub.status.busy": "2024-06-09T19:30:32.555290Z",
     "iopub.status.idle": "2024-06-09T19:30:32.571903Z",
     "shell.execute_reply": "2024-06-09T19:30:32.571214Z",
     "shell.execute_reply.started": "2024-06-09T19:30:32.555436Z"
    }
   },
   "outputs": [
    {
     "data": {
      "text/html": [
       "<style type=\"text/css\">\n",
       "</style>\n",
       "<table id=\"T_f5c3d\">\n",
       "  <thead>\n",
       "    <tr>\n",
       "      <th class=\"blank level0\" >&nbsp;</th>\n",
       "      <th id=\"T_f5c3d_level0_col0\" class=\"col_heading level0 col0\" >plazo</th>\n",
       "      <th id=\"T_f5c3d_level0_col1\" class=\"col_heading level0 col1\" >tasa</th>\n",
       "    </tr>\n",
       "  </thead>\n",
       "  <tbody>\n",
       "    <tr>\n",
       "      <th id=\"T_f5c3d_level0_row0\" class=\"row_heading level0 row0\" >0</th>\n",
       "      <td id=\"T_f5c3d_row0_col0\" class=\"data row0 col0\" >1</td>\n",
       "      <td id=\"T_f5c3d_row0_col1\" class=\"data row0 col1\" >-5.6780%</td>\n",
       "    </tr>\n",
       "    <tr>\n",
       "      <th id=\"T_f5c3d_level0_row1\" class=\"row_heading level0 row1\" >1</th>\n",
       "      <td id=\"T_f5c3d_row1_col0\" class=\"data row1 col0\" >4</td>\n",
       "      <td id=\"T_f5c3d_row1_col1\" class=\"data row1 col1\" >-5.6744%</td>\n",
       "    </tr>\n",
       "    <tr>\n",
       "      <th id=\"T_f5c3d_level0_row2\" class=\"row_heading level0 row2\" >2</th>\n",
       "      <td id=\"T_f5c3d_row2_col0\" class=\"data row2 col0\" >35</td>\n",
       "      <td id=\"T_f5c3d_row2_col1\" class=\"data row2 col1\" >-0.9340%</td>\n",
       "    </tr>\n",
       "    <tr>\n",
       "      <th id=\"T_f5c3d_level0_row3\" class=\"row_heading level0 row3\" >3</th>\n",
       "      <td id=\"T_f5c3d_row3_col0\" class=\"data row3 col0\" >64</td>\n",
       "      <td id=\"T_f5c3d_row3_col1\" class=\"data row3 col1\" >-2.1183%</td>\n",
       "    </tr>\n",
       "    <tr>\n",
       "      <th id=\"T_f5c3d_level0_row4\" class=\"row_heading level0 row4\" >4</th>\n",
       "      <td id=\"T_f5c3d_row4_col0\" class=\"data row4 col0\" >96</td>\n",
       "      <td id=\"T_f5c3d_row4_col1\" class=\"data row4 col1\" >-2.0079%</td>\n",
       "    </tr>\n",
       "    <tr>\n",
       "      <th id=\"T_f5c3d_level0_row5\" class=\"row_heading level0 row5\" >5</th>\n",
       "      <td id=\"T_f5c3d_row5_col0\" class=\"data row5 col0\" >126</td>\n",
       "      <td id=\"T_f5c3d_row5_col1\" class=\"data row5 col1\" >-2.0762%</td>\n",
       "    </tr>\n",
       "    <tr>\n",
       "      <th id=\"T_f5c3d_level0_row6\" class=\"row_heading level0 row6\" >6</th>\n",
       "      <td id=\"T_f5c3d_row6_col0\" class=\"data row6 col0\" >155</td>\n",
       "      <td id=\"T_f5c3d_row6_col1\" class=\"data row6 col1\" >-1.9197%</td>\n",
       "    </tr>\n",
       "    <tr>\n",
       "      <th id=\"T_f5c3d_level0_row7\" class=\"row_heading level0 row7\" >7</th>\n",
       "      <td id=\"T_f5c3d_row7_col0\" class=\"data row7 col0\" >188</td>\n",
       "      <td id=\"T_f5c3d_row7_col1\" class=\"data row7 col1\" >-1.9347%</td>\n",
       "    </tr>\n",
       "    <tr>\n",
       "      <th id=\"T_f5c3d_level0_row8\" class=\"row_heading level0 row8\" >8</th>\n",
       "      <td id=\"T_f5c3d_row8_col0\" class=\"data row8 col0\" >218</td>\n",
       "      <td id=\"T_f5c3d_row8_col1\" class=\"data row8 col1\" >-1.7626%</td>\n",
       "    </tr>\n",
       "    <tr>\n",
       "      <th id=\"T_f5c3d_level0_row9\" class=\"row_heading level0 row9\" >9</th>\n",
       "      <td id=\"T_f5c3d_row9_col0\" class=\"data row9 col0\" >249</td>\n",
       "      <td id=\"T_f5c3d_row9_col1\" class=\"data row9 col1\" >-1.7987%</td>\n",
       "    </tr>\n",
       "    <tr>\n",
       "      <th id=\"T_f5c3d_level0_row10\" class=\"row_heading level0 row10\" >10</th>\n",
       "      <td id=\"T_f5c3d_row10_col0\" class=\"data row10 col0\" >279</td>\n",
       "      <td id=\"T_f5c3d_row10_col1\" class=\"data row10 col1\" >-1.9335%</td>\n",
       "    </tr>\n",
       "    <tr>\n",
       "      <th id=\"T_f5c3d_level0_row11\" class=\"row_heading level0 row11\" >11</th>\n",
       "      <td id=\"T_f5c3d_row11_col0\" class=\"data row11 col0\" >309</td>\n",
       "      <td id=\"T_f5c3d_row11_col1\" class=\"data row11 col1\" >-1.8159%</td>\n",
       "    </tr>\n",
       "    <tr>\n",
       "      <th id=\"T_f5c3d_level0_row12\" class=\"row_heading level0 row12\" >12</th>\n",
       "      <td id=\"T_f5c3d_row12_col0\" class=\"data row12 col0\" >341</td>\n",
       "      <td id=\"T_f5c3d_row12_col1\" class=\"data row12 col1\" >-1.5940%</td>\n",
       "    </tr>\n",
       "    <tr>\n",
       "      <th id=\"T_f5c3d_level0_row13\" class=\"row_heading level0 row13\" >13</th>\n",
       "      <td id=\"T_f5c3d_row13_col0\" class=\"data row13 col0\" >369</td>\n",
       "      <td id=\"T_f5c3d_row13_col1\" class=\"data row13 col1\" >-1.5994%</td>\n",
       "    </tr>\n",
       "    <tr>\n",
       "      <th id=\"T_f5c3d_level0_row14\" class=\"row_heading level0 row14\" >14</th>\n",
       "      <td id=\"T_f5c3d_row14_col0\" class=\"data row14 col0\" >400</td>\n",
       "      <td id=\"T_f5c3d_row14_col1\" class=\"data row14 col1\" >-1.5068%</td>\n",
       "    </tr>\n",
       "    <tr>\n",
       "      <th id=\"T_f5c3d_level0_row15\" class=\"row_heading level0 row15\" >15</th>\n",
       "      <td id=\"T_f5c3d_row15_col0\" class=\"data row15 col0\" >428</td>\n",
       "      <td id=\"T_f5c3d_row15_col1\" class=\"data row15 col1\" >-1.6115%</td>\n",
       "    </tr>\n",
       "    <tr>\n",
       "      <th id=\"T_f5c3d_level0_row16\" class=\"row_heading level0 row16\" >16</th>\n",
       "      <td id=\"T_f5c3d_row16_col0\" class=\"data row16 col0\" >461</td>\n",
       "      <td id=\"T_f5c3d_row16_col1\" class=\"data row16 col1\" >-1.5923%</td>\n",
       "    </tr>\n",
       "    <tr>\n",
       "      <th id=\"T_f5c3d_level0_row17\" class=\"row_heading level0 row17\" >17</th>\n",
       "      <td id=\"T_f5c3d_row17_col0\" class=\"data row17 col0\" >491</td>\n",
       "      <td id=\"T_f5c3d_row17_col1\" class=\"data row17 col1\" >-1.5780%</td>\n",
       "    </tr>\n",
       "    <tr>\n",
       "      <th id=\"T_f5c3d_level0_row18\" class=\"row_heading level0 row18\" >18</th>\n",
       "      <td id=\"T_f5c3d_row18_col0\" class=\"data row18 col0\" >522</td>\n",
       "      <td id=\"T_f5c3d_row18_col1\" class=\"data row18 col1\" >-1.5186%</td>\n",
       "    </tr>\n",
       "    <tr>\n",
       "      <th id=\"T_f5c3d_level0_row19\" class=\"row_heading level0 row19\" >19</th>\n",
       "      <td id=\"T_f5c3d_row19_col0\" class=\"data row19 col0\" >553</td>\n",
       "      <td id=\"T_f5c3d_row19_col1\" class=\"data row19 col1\" >-1.5533%</td>\n",
       "    </tr>\n",
       "    <tr>\n",
       "      <th id=\"T_f5c3d_level0_row20\" class=\"row_heading level0 row20\" >20</th>\n",
       "      <td id=\"T_f5c3d_row20_col0\" class=\"data row20 col0\" >582</td>\n",
       "      <td id=\"T_f5c3d_row20_col1\" class=\"data row20 col1\" >-1.5649%</td>\n",
       "    </tr>\n",
       "    <tr>\n",
       "      <th id=\"T_f5c3d_level0_row21\" class=\"row_heading level0 row21\" >21</th>\n",
       "      <td id=\"T_f5c3d_row21_col0\" class=\"data row21 col0\" >734</td>\n",
       "      <td id=\"T_f5c3d_row21_col1\" class=\"data row21 col1\" >-1.6594%</td>\n",
       "    </tr>\n",
       "    <tr>\n",
       "      <th id=\"T_f5c3d_level0_row22\" class=\"row_heading level0 row22\" >22</th>\n",
       "      <td id=\"T_f5c3d_row22_col0\" class=\"data row22 col0\" >1,099</td>\n",
       "      <td id=\"T_f5c3d_row22_col1\" class=\"data row22 col1\" >-1.4881%</td>\n",
       "    </tr>\n",
       "    <tr>\n",
       "      <th id=\"T_f5c3d_level0_row23\" class=\"row_heading level0 row23\" >23</th>\n",
       "      <td id=\"T_f5c3d_row23_col0\" class=\"data row23 col0\" >1,465</td>\n",
       "      <td id=\"T_f5c3d_row23_col1\" class=\"data row23 col1\" >-1.2740%</td>\n",
       "    </tr>\n",
       "    <tr>\n",
       "      <th id=\"T_f5c3d_level0_row24\" class=\"row_heading level0 row24\" >24</th>\n",
       "      <td id=\"T_f5c3d_row24_col0\" class=\"data row24 col0\" >1,830</td>\n",
       "      <td id=\"T_f5c3d_row24_col1\" class=\"data row24 col1\" >-1.0201%</td>\n",
       "    </tr>\n",
       "    <tr>\n",
       "      <th id=\"T_f5c3d_level0_row25\" class=\"row_heading level0 row25\" >25</th>\n",
       "      <td id=\"T_f5c3d_row25_col0\" class=\"data row25 col0\" >2,195</td>\n",
       "      <td id=\"T_f5c3d_row25_col1\" class=\"data row25 col1\" >-0.8009%</td>\n",
       "    </tr>\n",
       "    <tr>\n",
       "      <th id=\"T_f5c3d_level0_row26\" class=\"row_heading level0 row26\" >26</th>\n",
       "      <td id=\"T_f5c3d_row26_col0\" class=\"data row26 col0\" >2,560</td>\n",
       "      <td id=\"T_f5c3d_row26_col1\" class=\"data row26 col1\" >-0.5868%</td>\n",
       "    </tr>\n",
       "    <tr>\n",
       "      <th id=\"T_f5c3d_level0_row27\" class=\"row_heading level0 row27\" >27</th>\n",
       "      <td id=\"T_f5c3d_row27_col0\" class=\"data row27 col0\" >2,926</td>\n",
       "      <td id=\"T_f5c3d_row27_col1\" class=\"data row27 col1\" >-0.4145%</td>\n",
       "    </tr>\n",
       "    <tr>\n",
       "      <th id=\"T_f5c3d_level0_row28\" class=\"row_heading level0 row28\" >28</th>\n",
       "      <td id=\"T_f5c3d_row28_col0\" class=\"data row28 col0\" >3,291</td>\n",
       "      <td id=\"T_f5c3d_row28_col1\" class=\"data row28 col1\" >-0.3047%</td>\n",
       "    </tr>\n",
       "    <tr>\n",
       "      <th id=\"T_f5c3d_level0_row29\" class=\"row_heading level0 row29\" >29</th>\n",
       "      <td id=\"T_f5c3d_row29_col0\" class=\"data row29 col0\" >3,656</td>\n",
       "      <td id=\"T_f5c3d_row29_col1\" class=\"data row29 col1\" >-0.2242%</td>\n",
       "    </tr>\n",
       "    <tr>\n",
       "      <th id=\"T_f5c3d_level0_row30\" class=\"row_heading level0 row30\" >30</th>\n",
       "      <td id=\"T_f5c3d_row30_col0\" class=\"data row30 col0\" >4,387</td>\n",
       "      <td id=\"T_f5c3d_row30_col1\" class=\"data row30 col1\" >-0.1871%</td>\n",
       "    </tr>\n",
       "    <tr>\n",
       "      <th id=\"T_f5c3d_level0_row31\" class=\"row_heading level0 row31\" >31</th>\n",
       "      <td id=\"T_f5c3d_row31_col0\" class=\"data row31 col0\" >5,482</td>\n",
       "      <td id=\"T_f5c3d_row31_col1\" class=\"data row31 col1\" >-0.1056%</td>\n",
       "    </tr>\n",
       "    <tr>\n",
       "      <th id=\"T_f5c3d_level0_row32\" class=\"row_heading level0 row32\" >32</th>\n",
       "      <td id=\"T_f5c3d_row32_col0\" class=\"data row32 col0\" >7,309</td>\n",
       "      <td id=\"T_f5c3d_row32_col1\" class=\"data row32 col1\" >-0.0639%</td>\n",
       "    </tr>\n",
       "  </tbody>\n",
       "</table>\n"
      ],
      "text/plain": [
       "<pandas.io.formats.style.Styler at 0x12ae62290>"
      ]
     },
     "execution_count": 51,
     "metadata": {},
     "output_type": "execute_result"
    }
   ],
   "source": [
    "curva_clf = pd.read_excel(\"./input/curva_clf.xlsx\")\n",
    "curva_clf.style.format(format_dict)"
   ]
  },
  {
   "cell_type": "code",
   "execution_count": 52,
   "metadata": {
    "ExecuteTime": {
     "end_time": "2023-12-19T16:09:19.279786Z",
     "start_time": "2023-12-19T16:09:19.221569Z"
    },
    "execution": {
     "iopub.execute_input": "2024-06-09T19:30:32.573403Z",
     "iopub.status.busy": "2024-06-09T19:30:32.573044Z",
     "iopub.status.idle": "2024-06-09T19:30:32.576790Z",
     "shell.execute_reply": "2024-06-09T19:30:32.576125Z",
     "shell.execute_reply.started": "2024-06-09T19:30:32.573381Z"
    }
   },
   "outputs": [],
   "source": [
    "zcc_clf = zcc_from_df(curva_clf, tasa)"
   ]
  },
  {
   "cell_type": "markdown",
   "metadata": {},
   "source": [
    "#### Curvas para Sensibilidad"
   ]
  },
  {
   "cell_type": "markdown",
   "metadata": {},
   "source": [
    "Para calcular sensibilidad a la curva cero cupón, se define qué vértice de la curva se quiere desplazar y el monto en puntos básicos del desplazamiento."
   ]
  },
  {
   "cell_type": "code",
   "execution_count": 53,
   "metadata": {
    "ExecuteTime": {
     "end_time": "2023-12-19T16:09:27.266276Z",
     "start_time": "2023-12-19T16:09:27.223743Z"
    },
    "execution": {
     "iopub.execute_input": "2024-06-09T19:30:32.577759Z",
     "iopub.status.busy": "2024-06-09T19:30:32.577577Z",
     "iopub.status.idle": "2024-06-09T19:30:32.580830Z",
     "shell.execute_reply": "2024-06-09T19:30:32.580228Z",
     "shell.execute_reply.started": "2024-06-09T19:30:32.577741Z"
    }
   },
   "outputs": [],
   "source": [
    "vertice = 15\n",
    "bp = 1"
   ]
  },
  {
   "cell_type": "markdown",
   "metadata": {},
   "source": [
    "Se construyen las curvas con ese vértice 1 punto básico más arriba y 1 punto básico más abajo. Para esto se define una función auxiliar."
   ]
  },
  {
   "cell_type": "code",
   "execution_count": 54,
   "metadata": {
    "ExecuteTime": {
     "end_time": "2023-12-19T16:09:28.185960Z",
     "start_time": "2023-12-19T16:09:28.147053Z"
    },
    "execution": {
     "iopub.execute_input": "2024-06-09T19:30:32.581915Z",
     "iopub.status.busy": "2024-06-09T19:30:32.581680Z",
     "iopub.status.idle": "2024-06-09T19:30:32.587394Z",
     "shell.execute_reply": "2024-06-09T19:30:32.586692Z",
     "shell.execute_reply.started": "2024-06-09T19:30:32.581897Z"
    }
   },
   "outputs": [],
   "source": [
    "def curvas_sens(\n",
    "    df: pd.DataFrame, \n",
    "    tasa: qcf.QCInterestRate, \n",
    "    vertice: int, \n",
    "    bp: float\n",
    ") -> tuple[qcf.ZeroCouponCurve, qcf.ZeroCouponCurve]:\n",
    "    bp /= 10_000\n",
    "    lvec = qcf.long_vec()\n",
    "    vec_sens_up = qcf.double_vec()\n",
    "    vec_sens_down = qcf.double_vec()\n",
    "    for t in df.itertuples():\n",
    "        lvec.append(int(t.plazo))\n",
    "        if t.Index == vertice:\n",
    "            vec_sens_up.append(t.tasa + bp)\n",
    "            vec_sens_down.append(t.tasa - bp)\n",
    "        else:\n",
    "            vec_sens_up.append(t.tasa)\n",
    "            vec_sens_down.append(t.tasa)\n",
    "\n",
    "    zcc_sens_up = qcf.QCCurve(lvec, vec_sens_up)\n",
    "    lin_sens_up = qcf.QCLinearInterpolator(zcc_sens_up)\n",
    "    zz_sens_up = qcf.ZeroCouponCurve(lin_sens_up, tasa)\n",
    "\n",
    "    zcc_sens_down = qcf.QCCurve(lvec, vec_sens_down)\n",
    "    lin_sens_down = qcf.QCLinearInterpolator(zcc_sens_down)\n",
    "    zz_sens_down = qcf.ZeroCouponCurve(lin_sens_down, tasa)\n",
    "    \n",
    "    return zz_sens_up, zz_sens_down"
   ]
  },
  {
   "cell_type": "code",
   "execution_count": 55,
   "metadata": {
    "ExecuteTime": {
     "end_time": "2023-12-19T16:09:30.069042Z",
     "start_time": "2023-12-19T16:09:30.030743Z"
    },
    "execution": {
     "iopub.execute_input": "2024-06-09T19:30:32.588184Z",
     "iopub.status.busy": "2024-06-09T19:30:32.588013Z",
     "iopub.status.idle": "2024-06-09T19:30:32.592920Z",
     "shell.execute_reply": "2024-06-09T19:30:32.592274Z",
     "shell.execute_reply.started": "2024-06-09T19:30:32.588166Z"
    }
   },
   "outputs": [],
   "source": [
    "zcc_clp_up, zcc_clp_down = curvas_sens(curva_clp, tasa, vertice, bp)\n",
    "zcc_usd_up, zcc_usd_down = curvas_sens(curva_usd, tasa, vertice, bp)\n",
    "zcc_clf_up, zcc_clf_down = curvas_sens(curva_clf, tasa, vertice, bp)"
   ]
  },
  {
   "cell_type": "markdown",
   "metadata": {},
   "source": [
    "### FixedRateCashflow Leg"
   ]
  },
  {
   "cell_type": "markdown",
   "metadata": {},
   "source": [
    "Se da de alta una pata fija:"
   ]
  },
  {
   "cell_type": "code",
   "execution_count": 56,
   "metadata": {
    "ExecuteTime": {
     "end_time": "2023-12-19T16:09:33.304919Z",
     "start_time": "2023-12-19T16:09:33.264734Z"
    },
    "execution": {
     "iopub.execute_input": "2024-06-09T19:30:32.593888Z",
     "iopub.status.busy": "2024-06-09T19:30:32.593695Z",
     "iopub.status.idle": "2024-06-09T19:30:32.599568Z",
     "shell.execute_reply": "2024-06-09T19:30:32.598922Z",
     "shell.execute_reply.started": "2024-06-09T19:30:32.593869Z"
    }
   },
   "outputs": [],
   "source": [
    "rp = qcf.RecPay.RECEIVE\n",
    "fecha_inicio = qcf.QCDate(31, 1, 2024)\n",
    "fecha_final = qcf.QCDate(31, 1, 2025)\n",
    "bus_adj_rule = qcf.BusyAdjRules.MODFOLLOW\n",
    "periodicidad = qcf.Tenor('6M')\n",
    "periodo_irregular = qcf.StubPeriod.SHORTFRONT\n",
    "calendario = qcf.BusinessCalendar(fecha_inicio, 20)\n",
    "lag_pago = 0\n",
    "nominal = 20_000_000.0\n",
    "amort_es_flujo = True\n",
    "valor_tasa_fija = .01774\n",
    "tasa_cupon = qcf.QCInterestRate(\n",
    "    valor_tasa_fija, \n",
    "    qcf.QC30360(), \n",
    "    qcf.QCLinearWf()\n",
    ")\n",
    "moneda = qcf.QCUSD()\n",
    "es_bono = False\n",
    "\n",
    "fixed_rate_leg = qcf.LegFactory.build_bullet_fixed_rate_leg(\n",
    "    rp,\n",
    "    fecha_inicio,\n",
    "    fecha_final,\n",
    "    bus_adj_rule,\n",
    "    periodicidad,\n",
    "    periodo_irregular,\n",
    "    calendario,\n",
    "    lag_pago,\n",
    "    nominal,\n",
    "    amort_es_flujo,\n",
    "    tasa_cupon,\n",
    "    moneda,\n",
    "    es_bono\n",
    ")"
   ]
  },
  {
   "cell_type": "code",
   "execution_count": 57,
   "metadata": {
    "ExecuteTime": {
     "end_time": "2023-12-19T16:09:34.051636Z",
     "start_time": "2023-12-19T16:09:34.013841Z"
    },
    "execution": {
     "iopub.execute_input": "2024-06-09T19:30:32.600732Z",
     "iopub.status.busy": "2024-06-09T19:30:32.600421Z",
     "iopub.status.idle": "2024-06-09T19:30:32.608465Z",
     "shell.execute_reply": "2024-06-09T19:30:32.607760Z",
     "shell.execute_reply.started": "2024-06-09T19:30:32.600712Z"
    }
   },
   "outputs": [
    {
     "data": {
      "text/html": [
       "<style type=\"text/css\">\n",
       "</style>\n",
       "<table id=\"T_0db0a\">\n",
       "  <thead>\n",
       "    <tr>\n",
       "      <th class=\"blank level0\" >&nbsp;</th>\n",
       "      <th id=\"T_0db0a_level0_col0\" class=\"col_heading level0 col0\" >fecha_inicial</th>\n",
       "      <th id=\"T_0db0a_level0_col1\" class=\"col_heading level0 col1\" >fecha_final</th>\n",
       "      <th id=\"T_0db0a_level0_col2\" class=\"col_heading level0 col2\" >fecha_pago</th>\n",
       "      <th id=\"T_0db0a_level0_col3\" class=\"col_heading level0 col3\" >nominal</th>\n",
       "      <th id=\"T_0db0a_level0_col4\" class=\"col_heading level0 col4\" >amortizacion</th>\n",
       "      <th id=\"T_0db0a_level0_col5\" class=\"col_heading level0 col5\" >interes</th>\n",
       "      <th id=\"T_0db0a_level0_col6\" class=\"col_heading level0 col6\" >amort_es_flujo</th>\n",
       "      <th id=\"T_0db0a_level0_col7\" class=\"col_heading level0 col7\" >flujo</th>\n",
       "      <th id=\"T_0db0a_level0_col8\" class=\"col_heading level0 col8\" >moneda</th>\n",
       "      <th id=\"T_0db0a_level0_col9\" class=\"col_heading level0 col9\" >valor_tasa</th>\n",
       "      <th id=\"T_0db0a_level0_col10\" class=\"col_heading level0 col10\" >tipo_tasa</th>\n",
       "    </tr>\n",
       "  </thead>\n",
       "  <tbody>\n",
       "    <tr>\n",
       "      <th id=\"T_0db0a_level0_row0\" class=\"row_heading level0 row0\" >0</th>\n",
       "      <td id=\"T_0db0a_row0_col0\" class=\"data row0 col0\" >2024-01-31</td>\n",
       "      <td id=\"T_0db0a_row0_col1\" class=\"data row0 col1\" >2024-07-31</td>\n",
       "      <td id=\"T_0db0a_row0_col2\" class=\"data row0 col2\" >2024-07-31</td>\n",
       "      <td id=\"T_0db0a_row0_col3\" class=\"data row0 col3\" >20,000,000.00</td>\n",
       "      <td id=\"T_0db0a_row0_col4\" class=\"data row0 col4\" >0.00</td>\n",
       "      <td id=\"T_0db0a_row0_col5\" class=\"data row0 col5\" >177,400.00</td>\n",
       "      <td id=\"T_0db0a_row0_col6\" class=\"data row0 col6\" >True</td>\n",
       "      <td id=\"T_0db0a_row0_col7\" class=\"data row0 col7\" >177,400.00</td>\n",
       "      <td id=\"T_0db0a_row0_col8\" class=\"data row0 col8\" >USD</td>\n",
       "      <td id=\"T_0db0a_row0_col9\" class=\"data row0 col9\" >1.7740%</td>\n",
       "      <td id=\"T_0db0a_row0_col10\" class=\"data row0 col10\" >Lin30360</td>\n",
       "    </tr>\n",
       "    <tr>\n",
       "      <th id=\"T_0db0a_level0_row1\" class=\"row_heading level0 row1\" >1</th>\n",
       "      <td id=\"T_0db0a_row1_col0\" class=\"data row1 col0\" >2024-07-31</td>\n",
       "      <td id=\"T_0db0a_row1_col1\" class=\"data row1 col1\" >2025-01-31</td>\n",
       "      <td id=\"T_0db0a_row1_col2\" class=\"data row1 col2\" >2025-01-31</td>\n",
       "      <td id=\"T_0db0a_row1_col3\" class=\"data row1 col3\" >20,000,000.00</td>\n",
       "      <td id=\"T_0db0a_row1_col4\" class=\"data row1 col4\" >20,000,000.00</td>\n",
       "      <td id=\"T_0db0a_row1_col5\" class=\"data row1 col5\" >177,400.00</td>\n",
       "      <td id=\"T_0db0a_row1_col6\" class=\"data row1 col6\" >True</td>\n",
       "      <td id=\"T_0db0a_row1_col7\" class=\"data row1 col7\" >20,177,400.00</td>\n",
       "      <td id=\"T_0db0a_row1_col8\" class=\"data row1 col8\" >USD</td>\n",
       "      <td id=\"T_0db0a_row1_col9\" class=\"data row1 col9\" >1.7740%</td>\n",
       "      <td id=\"T_0db0a_row1_col10\" class=\"data row1 col10\" >Lin30360</td>\n",
       "    </tr>\n",
       "  </tbody>\n",
       "</table>\n"
      ],
      "text/plain": [
       "<pandas.io.formats.style.Styler at 0x12af62e90>"
      ]
     },
     "execution_count": 57,
     "metadata": {},
     "output_type": "execute_result"
    }
   ],
   "source": [
    "aux.leg_as_dataframe(fixed_rate_leg).style.format(format_dict)"
   ]
  },
  {
   "cell_type": "markdown",
   "metadata": {},
   "source": [
    "Se calcula ahora el valor presente:"
   ]
  },
  {
   "cell_type": "code",
   "execution_count": 58,
   "metadata": {
    "ExecuteTime": {
     "end_time": "2023-12-19T16:09:35.054192Z",
     "start_time": "2023-12-19T16:09:35.005479Z"
    },
    "execution": {
     "iopub.execute_input": "2024-06-09T19:30:32.609472Z",
     "iopub.status.busy": "2024-06-09T19:30:32.609272Z",
     "iopub.status.idle": "2024-06-09T19:30:32.612792Z",
     "shell.execute_reply": "2024-06-09T19:30:32.612109Z",
     "shell.execute_reply.started": "2024-06-09T19:30:32.609453Z"
    }
   },
   "outputs": [
    {
     "name": "stdout",
     "output_type": "stream",
     "text": [
      "Valor presente de la pata fija es: 20,017,705\n"
     ]
    }
   ],
   "source": [
    "vp_fija = pv.pv(fecha_hoy, fixed_rate_leg, zcc_usd)\n",
    "print(f\"Valor presente de la pata fija es: {vp_fija:,.0f}\")"
   ]
  },
  {
   "cell_type": "markdown",
   "metadata": {},
   "source": [
    "Al calcular el valor presente, también se calculan las derivadas del valor presente respecto a cada uno de los vértices de la curva."
   ]
  },
  {
   "cell_type": "code",
   "execution_count": 59,
   "metadata": {
    "ExecuteTime": {
     "end_time": "2023-12-19T16:09:36.058933Z",
     "start_time": "2023-12-19T16:09:35.996368Z"
    },
    "execution": {
     "iopub.execute_input": "2024-06-09T19:30:32.614625Z",
     "iopub.status.busy": "2024-06-09T19:30:32.613972Z",
     "iopub.status.idle": "2024-06-09T19:30:32.618011Z",
     "shell.execute_reply": "2024-06-09T19:30:32.617226Z",
     "shell.execute_reply.started": "2024-06-09T19:30:32.614575Z"
    }
   },
   "outputs": [],
   "source": [
    "der = pv.get_derivatives()"
   ]
  },
  {
   "cell_type": "markdown",
   "metadata": {},
   "source": [
    "Con esas derivadas, se puede calcular la sensibilidad a la curva cupón cero a un movimiento de 1 punto básico."
   ]
  },
  {
   "cell_type": "code",
   "execution_count": 60,
   "metadata": {
    "ExecuteTime": {
     "end_time": "2023-12-19T16:09:36.840368Z",
     "start_time": "2023-12-19T16:09:36.783043Z"
    },
    "execution": {
     "iopub.execute_input": "2024-06-09T19:30:32.619195Z",
     "iopub.status.busy": "2024-06-09T19:30:32.618902Z",
     "iopub.status.idle": "2024-06-09T19:30:32.623726Z",
     "shell.execute_reply": "2024-06-09T19:30:32.623054Z",
     "shell.execute_reply.started": "2024-06-09T19:30:32.619174Z"
    }
   },
   "outputs": [
    {
     "name": "stdout",
     "output_type": "stream",
     "text": [
      "Sensibilidad en 0: 0\n",
      "Sensibilidad en 1: 0\n",
      "Sensibilidad en 2: 0\n",
      "Sensibilidad en 3: 0\n",
      "Sensibilidad en 4: 0\n",
      "Sensibilidad en 5: 0\n",
      "Sensibilidad en 6: 0\n",
      "Sensibilidad en 7: 0\n",
      "Sensibilidad en 8: 0\n",
      "Sensibilidad en 9: -9\n",
      "Sensibilidad en 10: 0\n",
      "Sensibilidad en 11: 0\n",
      "Sensibilidad en 12: 0\n",
      "Sensibilidad en 13: 0\n",
      "Sensibilidad en 14: -62\n",
      "Sensibilidad en 15: -1,927\n",
      "Sensibilidad en 16: 0\n",
      "Sensibilidad en 17: 0\n",
      "Sensibilidad en 18: 0\n",
      "Sensibilidad en 19: 0\n",
      "Sensibilidad en 20: 0\n",
      "Sensibilidad en 21: 0\n",
      "Sensibilidad en 22: 0\n",
      "Sensibilidad en 23: 0\n",
      "Sensibilidad en 24: 0\n",
      "Sensibilidad en 25: 0\n",
      "Sensibilidad en 26: 0\n",
      "Sensibilidad en 27: 0\n",
      "Sensibilidad total: -1,998\n"
     ]
    }
   ],
   "source": [
    "i = 0\n",
    "total = 0\n",
    "for d in der:\n",
    "    total += d * bp / 10_000\n",
    "    print(f\"Sensibilidad en {i}: {d * bp / 10_000:0,.0f}\")\n",
    "    i += 1\n",
    "print(f\"Sensibilidad total: {total:,.0f}\")"
   ]
  },
  {
   "cell_type": "markdown",
   "metadata": {},
   "source": [
    "Se puede verificar la sensibilidad por diferencias finitas."
   ]
  },
  {
   "cell_type": "markdown",
   "metadata": {},
   "source": [
    "Se calcula el valor presente con las curvas desplazadas."
   ]
  },
  {
   "cell_type": "code",
   "execution_count": 61,
   "metadata": {
    "ExecuteTime": {
     "end_time": "2023-12-19T16:09:38.241682Z",
     "start_time": "2023-12-19T16:09:38.205322Z"
    },
    "execution": {
     "iopub.execute_input": "2024-06-09T19:30:32.624830Z",
     "iopub.status.busy": "2024-06-09T19:30:32.624559Z",
     "iopub.status.idle": "2024-06-09T19:30:32.628564Z",
     "shell.execute_reply": "2024-06-09T19:30:32.627920Z",
     "shell.execute_reply.started": "2024-06-09T19:30:32.624809Z"
    }
   },
   "outputs": [
    {
     "name": "stdout",
     "output_type": "stream",
     "text": [
      "Valor presente up de la pata fija es: 20,015,777.5553\n",
      "Valor presente down de la pata fija es: 20,019,632.4437\n"
     ]
    }
   ],
   "source": [
    "vp_fija_sens_up = pv.pv(fecha_hoy, fixed_rate_leg, zcc_usd_up)\n",
    "vp_fija_sens_down = pv.pv(fecha_hoy, fixed_rate_leg, zcc_usd_down)\n",
    "print(f\"Valor presente up de la pata fija es: {vp_fija_sens_up:,.4f}\")\n",
    "print(f\"Valor presente down de la pata fija es: {vp_fija_sens_down:,.4f}\")"
   ]
  },
  {
   "cell_type": "markdown",
   "metadata": {},
   "source": [
    "Finalmente, se calcula la sensibilidad (usando la aproximación central por diferencias finitas)."
   ]
  },
  {
   "cell_type": "code",
   "execution_count": 62,
   "metadata": {
    "ExecuteTime": {
     "end_time": "2023-12-19T16:09:39.039448Z",
     "start_time": "2023-12-19T16:09:38.997878Z"
    },
    "execution": {
     "iopub.execute_input": "2024-06-09T19:30:32.629707Z",
     "iopub.status.busy": "2024-06-09T19:30:32.629460Z",
     "iopub.status.idle": "2024-06-09T19:30:32.632860Z",
     "shell.execute_reply": "2024-06-09T19:30:32.632148Z",
     "shell.execute_reply.started": "2024-06-09T19:30:32.629688Z"
    }
   },
   "outputs": [
    {
     "name": "stdout",
     "output_type": "stream",
     "text": [
      "Sensibilidad por diferencias finitas: -1,927\n"
     ]
    }
   ],
   "source": [
    "print(f\"Sensibilidad por diferencias finitas: {(vp_fija_sens_up - vp_fija_sens_down) / 2:,.0f}\")"
   ]
  },
  {
   "cell_type": "markdown",
   "metadata": {
    "collapsed": false,
    "jupyter": {
     "outputs_hidden": false
    }
   },
   "source": [
    "### OvernightIndex Leg"
   ]
  },
  {
   "cell_type": "markdown",
   "metadata": {},
   "source": [
    "Se da de alta una pata OvernightIndex."
   ]
  },
  {
   "cell_type": "code",
   "execution_count": 65,
   "metadata": {
    "ExecuteTime": {
     "end_time": "2023-12-19T16:19:58.904014Z",
     "start_time": "2023-12-19T16:19:58.845809Z"
    },
    "collapsed": false,
    "execution": {
     "iopub.execute_input": "2024-06-09T19:31:40.893873Z",
     "iopub.status.busy": "2024-06-09T19:31:40.893518Z",
     "iopub.status.idle": "2024-06-09T19:31:40.901659Z",
     "shell.execute_reply": "2024-06-09T19:31:40.900800Z",
     "shell.execute_reply.started": "2024-06-09T19:31:40.893843Z"
    },
    "jupyter": {
     "outputs_hidden": false
    }
   },
   "outputs": [],
   "source": [
    "rp = qcf.RecPay.RECEIVE\n",
    "fecha_inicio = qcf.QCDate(10,1,2019)\n",
    "fecha_final = qcf.QCDate(10,7,2029)\n",
    "bus_adj_rule = qcf.BusyAdjRules.FOLLOW\n",
    "fix_adj_rule = qcf.BusyAdjRules.PREVIOUS\n",
    "dates_for_eq_rate = qcf.DatesForEquivalentRate.ACCRUAL\n",
    "periodicidad_pago = qcf.Tenor('2Y')\n",
    "periodo_irregular_pago = qcf.StubPeriod.SHORTFRONT\n",
    "calendario = qcf.BusinessCalendar(fecha_inicio, 20)\n",
    "lag_pago = 0\n",
    "nominal = 38_000_000_000.0\n",
    "amort_es_flujo = True\n",
    "spread = .0\n",
    "gearing = 1.0\n",
    "\n",
    "overnight_index_leg = qcf.LegFactory.build_bullet_overnight_index_leg(\n",
    "    rec_pay=rp,\n",
    "    start_date=fecha_inicio,\n",
    "    end_date=fecha_final,\n",
    "    bus_adj_rule=bus_adj_rule,\n",
    "    fix_adj_rule=fix_adj_rule,\n",
    "    settlement_periodicity=periodicidad_pago,\n",
    "    stub_period=periodo_irregular_pago,\n",
    "    settlement_calendar=calendario,\n",
    "    fixing_calendar=calendario,\n",
    "    settlement_lag=lag_pago,\n",
    "    initial_notional=nominal,\n",
    "    amort_is_cashflow=amort_es_flujo,\n",
    "    spread=spread,\n",
    "    gearing=gearing,\n",
    "    interest_rate=qcf.QCInterestRate(0.0, qcf.QCAct360(), qcf.QCLinearWf()),\n",
    "    index_name='ICPCLP',\n",
    "    eq_rate_decimal_places=2,\n",
    "    notional_currency=qcf.QCCLP(),\n",
    "    dates_for_eq_rate=dates_for_eq_rate,\n",
    ")"
   ]
  },
  {
   "cell_type": "code",
   "execution_count": 68,
   "metadata": {
    "ExecuteTime": {
     "end_time": "2023-12-19T16:20:56.581999Z",
     "start_time": "2023-12-19T16:20:56.511060Z"
    },
    "collapsed": false,
    "execution": {
     "iopub.execute_input": "2024-06-09T19:32:54.066831Z",
     "iopub.status.busy": "2024-06-09T19:32:54.066502Z",
     "iopub.status.idle": "2024-06-09T19:32:54.079798Z",
     "shell.execute_reply": "2024-06-09T19:32:54.078989Z",
     "shell.execute_reply.started": "2024-06-09T19:32:54.066803Z"
    },
    "jupyter": {
     "outputs_hidden": false
    }
   },
   "outputs": [
    {
     "data": {
      "text/html": [
       "<style type=\"text/css\">\n",
       "</style>\n",
       "<table id=\"T_f4938\">\n",
       "  <thead>\n",
       "    <tr>\n",
       "      <th class=\"blank level0\" >&nbsp;</th>\n",
       "      <th id=\"T_f4938_level0_col0\" class=\"col_heading level0 col0\" >fecha_inicial_devengo</th>\n",
       "      <th id=\"T_f4938_level0_col1\" class=\"col_heading level0 col1\" >fecha_final_devengo</th>\n",
       "      <th id=\"T_f4938_level0_col2\" class=\"col_heading level0 col2\" >fecha_inicial_indice</th>\n",
       "      <th id=\"T_f4938_level0_col3\" class=\"col_heading level0 col3\" >fecha_final_indice</th>\n",
       "      <th id=\"T_f4938_level0_col4\" class=\"col_heading level0 col4\" >fecha_pago</th>\n",
       "      <th id=\"T_f4938_level0_col5\" class=\"col_heading level0 col5\" >nocional</th>\n",
       "      <th id=\"T_f4938_level0_col6\" class=\"col_heading level0 col6\" >amortizacion</th>\n",
       "      <th id=\"T_f4938_level0_col7\" class=\"col_heading level0 col7\" >amort_es_flujo</th>\n",
       "      <th id=\"T_f4938_level0_col8\" class=\"col_heading level0 col8\" >moneda_nocional</th>\n",
       "      <th id=\"T_f4938_level0_col9\" class=\"col_heading level0 col9\" >nombre_indice</th>\n",
       "      <th id=\"T_f4938_level0_col10\" class=\"col_heading level0 col10\" >valor_indice_inicial</th>\n",
       "      <th id=\"T_f4938_level0_col11\" class=\"col_heading level0 col11\" >valor_indice_final</th>\n",
       "      <th id=\"T_f4938_level0_col12\" class=\"col_heading level0 col12\" >valor_tasa_equivalente</th>\n",
       "      <th id=\"T_f4938_level0_col13\" class=\"col_heading level0 col13\" >tipo_tasa</th>\n",
       "      <th id=\"T_f4938_level0_col14\" class=\"col_heading level0 col14\" >interes</th>\n",
       "      <th id=\"T_f4938_level0_col15\" class=\"col_heading level0 col15\" >flujo</th>\n",
       "      <th id=\"T_f4938_level0_col16\" class=\"col_heading level0 col16\" >spread</th>\n",
       "      <th id=\"T_f4938_level0_col17\" class=\"col_heading level0 col17\" >gearing</th>\n",
       "    </tr>\n",
       "  </thead>\n",
       "  <tbody>\n",
       "    <tr>\n",
       "      <th id=\"T_f4938_level0_row0\" class=\"row_heading level0 row0\" >0</th>\n",
       "      <td id=\"T_f4938_row0_col0\" class=\"data row0 col0\" >2019-01-10</td>\n",
       "      <td id=\"T_f4938_row0_col1\" class=\"data row0 col1\" >2019-07-10</td>\n",
       "      <td id=\"T_f4938_row0_col2\" class=\"data row0 col2\" >2019-01-10</td>\n",
       "      <td id=\"T_f4938_row0_col3\" class=\"data row0 col3\" >2019-07-10</td>\n",
       "      <td id=\"T_f4938_row0_col4\" class=\"data row0 col4\" >2019-07-10</td>\n",
       "      <td id=\"T_f4938_row0_col5\" class=\"data row0 col5\" >38,000,000,000.00</td>\n",
       "      <td id=\"T_f4938_row0_col6\" class=\"data row0 col6\" >0.00</td>\n",
       "      <td id=\"T_f4938_row0_col7\" class=\"data row0 col7\" >True</td>\n",
       "      <td id=\"T_f4938_row0_col8\" class=\"data row0 col8\" >CLP</td>\n",
       "      <td id=\"T_f4938_row0_col9\" class=\"data row0 col9\" >ICPCLP</td>\n",
       "      <td id=\"T_f4938_row0_col10\" class=\"data row0 col10\" >1.00</td>\n",
       "      <td id=\"T_f4938_row0_col11\" class=\"data row0 col11\" >1.00</td>\n",
       "      <td id=\"T_f4938_row0_col12\" class=\"data row0 col12\" >0.0000%</td>\n",
       "      <td id=\"T_f4938_row0_col13\" class=\"data row0 col13\" >LinAct360</td>\n",
       "      <td id=\"T_f4938_row0_col14\" class=\"data row0 col14\" >0.00</td>\n",
       "      <td id=\"T_f4938_row0_col15\" class=\"data row0 col15\" >0.00</td>\n",
       "      <td id=\"T_f4938_row0_col16\" class=\"data row0 col16\" >0.0000%</td>\n",
       "      <td id=\"T_f4938_row0_col17\" class=\"data row0 col17\" >1.00</td>\n",
       "    </tr>\n",
       "    <tr>\n",
       "      <th id=\"T_f4938_level0_row1\" class=\"row_heading level0 row1\" >1</th>\n",
       "      <td id=\"T_f4938_row1_col0\" class=\"data row1 col0\" >2019-07-10</td>\n",
       "      <td id=\"T_f4938_row1_col1\" class=\"data row1 col1\" >2021-07-12</td>\n",
       "      <td id=\"T_f4938_row1_col2\" class=\"data row1 col2\" >2019-07-10</td>\n",
       "      <td id=\"T_f4938_row1_col3\" class=\"data row1 col3\" >2021-07-12</td>\n",
       "      <td id=\"T_f4938_row1_col4\" class=\"data row1 col4\" >2021-07-12</td>\n",
       "      <td id=\"T_f4938_row1_col5\" class=\"data row1 col5\" >38,000,000,000.00</td>\n",
       "      <td id=\"T_f4938_row1_col6\" class=\"data row1 col6\" >0.00</td>\n",
       "      <td id=\"T_f4938_row1_col7\" class=\"data row1 col7\" >True</td>\n",
       "      <td id=\"T_f4938_row1_col8\" class=\"data row1 col8\" >CLP</td>\n",
       "      <td id=\"T_f4938_row1_col9\" class=\"data row1 col9\" >ICPCLP</td>\n",
       "      <td id=\"T_f4938_row1_col10\" class=\"data row1 col10\" >1.00</td>\n",
       "      <td id=\"T_f4938_row1_col11\" class=\"data row1 col11\" >1.00</td>\n",
       "      <td id=\"T_f4938_row1_col12\" class=\"data row1 col12\" >0.0000%</td>\n",
       "      <td id=\"T_f4938_row1_col13\" class=\"data row1 col13\" >LinAct360</td>\n",
       "      <td id=\"T_f4938_row1_col14\" class=\"data row1 col14\" >0.00</td>\n",
       "      <td id=\"T_f4938_row1_col15\" class=\"data row1 col15\" >0.00</td>\n",
       "      <td id=\"T_f4938_row1_col16\" class=\"data row1 col16\" >0.0000%</td>\n",
       "      <td id=\"T_f4938_row1_col17\" class=\"data row1 col17\" >1.00</td>\n",
       "    </tr>\n",
       "    <tr>\n",
       "      <th id=\"T_f4938_level0_row2\" class=\"row_heading level0 row2\" >2</th>\n",
       "      <td id=\"T_f4938_row2_col0\" class=\"data row2 col0\" >2021-07-12</td>\n",
       "      <td id=\"T_f4938_row2_col1\" class=\"data row2 col1\" >2023-07-10</td>\n",
       "      <td id=\"T_f4938_row2_col2\" class=\"data row2 col2\" >2021-07-12</td>\n",
       "      <td id=\"T_f4938_row2_col3\" class=\"data row2 col3\" >2023-07-10</td>\n",
       "      <td id=\"T_f4938_row2_col4\" class=\"data row2 col4\" >2023-07-10</td>\n",
       "      <td id=\"T_f4938_row2_col5\" class=\"data row2 col5\" >38,000,000,000.00</td>\n",
       "      <td id=\"T_f4938_row2_col6\" class=\"data row2 col6\" >0.00</td>\n",
       "      <td id=\"T_f4938_row2_col7\" class=\"data row2 col7\" >True</td>\n",
       "      <td id=\"T_f4938_row2_col8\" class=\"data row2 col8\" >CLP</td>\n",
       "      <td id=\"T_f4938_row2_col9\" class=\"data row2 col9\" >ICPCLP</td>\n",
       "      <td id=\"T_f4938_row2_col10\" class=\"data row2 col10\" >1.00</td>\n",
       "      <td id=\"T_f4938_row2_col11\" class=\"data row2 col11\" >1.00</td>\n",
       "      <td id=\"T_f4938_row2_col12\" class=\"data row2 col12\" >0.0000%</td>\n",
       "      <td id=\"T_f4938_row2_col13\" class=\"data row2 col13\" >LinAct360</td>\n",
       "      <td id=\"T_f4938_row2_col14\" class=\"data row2 col14\" >0.00</td>\n",
       "      <td id=\"T_f4938_row2_col15\" class=\"data row2 col15\" >0.00</td>\n",
       "      <td id=\"T_f4938_row2_col16\" class=\"data row2 col16\" >0.0000%</td>\n",
       "      <td id=\"T_f4938_row2_col17\" class=\"data row2 col17\" >1.00</td>\n",
       "    </tr>\n",
       "    <tr>\n",
       "      <th id=\"T_f4938_level0_row3\" class=\"row_heading level0 row3\" >3</th>\n",
       "      <td id=\"T_f4938_row3_col0\" class=\"data row3 col0\" >2023-07-10</td>\n",
       "      <td id=\"T_f4938_row3_col1\" class=\"data row3 col1\" >2025-07-10</td>\n",
       "      <td id=\"T_f4938_row3_col2\" class=\"data row3 col2\" >2023-07-10</td>\n",
       "      <td id=\"T_f4938_row3_col3\" class=\"data row3 col3\" >2025-07-10</td>\n",
       "      <td id=\"T_f4938_row3_col4\" class=\"data row3 col4\" >2025-07-10</td>\n",
       "      <td id=\"T_f4938_row3_col5\" class=\"data row3 col5\" >38,000,000,000.00</td>\n",
       "      <td id=\"T_f4938_row3_col6\" class=\"data row3 col6\" >0.00</td>\n",
       "      <td id=\"T_f4938_row3_col7\" class=\"data row3 col7\" >True</td>\n",
       "      <td id=\"T_f4938_row3_col8\" class=\"data row3 col8\" >CLP</td>\n",
       "      <td id=\"T_f4938_row3_col9\" class=\"data row3 col9\" >ICPCLP</td>\n",
       "      <td id=\"T_f4938_row3_col10\" class=\"data row3 col10\" >1.00</td>\n",
       "      <td id=\"T_f4938_row3_col11\" class=\"data row3 col11\" >1.00</td>\n",
       "      <td id=\"T_f4938_row3_col12\" class=\"data row3 col12\" >0.0000%</td>\n",
       "      <td id=\"T_f4938_row3_col13\" class=\"data row3 col13\" >LinAct360</td>\n",
       "      <td id=\"T_f4938_row3_col14\" class=\"data row3 col14\" >0.00</td>\n",
       "      <td id=\"T_f4938_row3_col15\" class=\"data row3 col15\" >0.00</td>\n",
       "      <td id=\"T_f4938_row3_col16\" class=\"data row3 col16\" >0.0000%</td>\n",
       "      <td id=\"T_f4938_row3_col17\" class=\"data row3 col17\" >1.00</td>\n",
       "    </tr>\n",
       "    <tr>\n",
       "      <th id=\"T_f4938_level0_row4\" class=\"row_heading level0 row4\" >4</th>\n",
       "      <td id=\"T_f4938_row4_col0\" class=\"data row4 col0\" >2025-07-10</td>\n",
       "      <td id=\"T_f4938_row4_col1\" class=\"data row4 col1\" >2027-07-12</td>\n",
       "      <td id=\"T_f4938_row4_col2\" class=\"data row4 col2\" >2025-07-10</td>\n",
       "      <td id=\"T_f4938_row4_col3\" class=\"data row4 col3\" >2027-07-12</td>\n",
       "      <td id=\"T_f4938_row4_col4\" class=\"data row4 col4\" >2027-07-12</td>\n",
       "      <td id=\"T_f4938_row4_col5\" class=\"data row4 col5\" >38,000,000,000.00</td>\n",
       "      <td id=\"T_f4938_row4_col6\" class=\"data row4 col6\" >0.00</td>\n",
       "      <td id=\"T_f4938_row4_col7\" class=\"data row4 col7\" >True</td>\n",
       "      <td id=\"T_f4938_row4_col8\" class=\"data row4 col8\" >CLP</td>\n",
       "      <td id=\"T_f4938_row4_col9\" class=\"data row4 col9\" >ICPCLP</td>\n",
       "      <td id=\"T_f4938_row4_col10\" class=\"data row4 col10\" >1.00</td>\n",
       "      <td id=\"T_f4938_row4_col11\" class=\"data row4 col11\" >1.00</td>\n",
       "      <td id=\"T_f4938_row4_col12\" class=\"data row4 col12\" >0.0000%</td>\n",
       "      <td id=\"T_f4938_row4_col13\" class=\"data row4 col13\" >LinAct360</td>\n",
       "      <td id=\"T_f4938_row4_col14\" class=\"data row4 col14\" >0.00</td>\n",
       "      <td id=\"T_f4938_row4_col15\" class=\"data row4 col15\" >0.00</td>\n",
       "      <td id=\"T_f4938_row4_col16\" class=\"data row4 col16\" >0.0000%</td>\n",
       "      <td id=\"T_f4938_row4_col17\" class=\"data row4 col17\" >1.00</td>\n",
       "    </tr>\n",
       "    <tr>\n",
       "      <th id=\"T_f4938_level0_row5\" class=\"row_heading level0 row5\" >5</th>\n",
       "      <td id=\"T_f4938_row5_col0\" class=\"data row5 col0\" >2027-07-12</td>\n",
       "      <td id=\"T_f4938_row5_col1\" class=\"data row5 col1\" >2029-07-10</td>\n",
       "      <td id=\"T_f4938_row5_col2\" class=\"data row5 col2\" >2027-07-12</td>\n",
       "      <td id=\"T_f4938_row5_col3\" class=\"data row5 col3\" >2029-07-10</td>\n",
       "      <td id=\"T_f4938_row5_col4\" class=\"data row5 col4\" >2029-07-10</td>\n",
       "      <td id=\"T_f4938_row5_col5\" class=\"data row5 col5\" >38,000,000,000.00</td>\n",
       "      <td id=\"T_f4938_row5_col6\" class=\"data row5 col6\" >38,000,000,000.00</td>\n",
       "      <td id=\"T_f4938_row5_col7\" class=\"data row5 col7\" >True</td>\n",
       "      <td id=\"T_f4938_row5_col8\" class=\"data row5 col8\" >CLP</td>\n",
       "      <td id=\"T_f4938_row5_col9\" class=\"data row5 col9\" >ICPCLP</td>\n",
       "      <td id=\"T_f4938_row5_col10\" class=\"data row5 col10\" >1.00</td>\n",
       "      <td id=\"T_f4938_row5_col11\" class=\"data row5 col11\" >1.00</td>\n",
       "      <td id=\"T_f4938_row5_col12\" class=\"data row5 col12\" >0.0000%</td>\n",
       "      <td id=\"T_f4938_row5_col13\" class=\"data row5 col13\" >LinAct360</td>\n",
       "      <td id=\"T_f4938_row5_col14\" class=\"data row5 col14\" >0.00</td>\n",
       "      <td id=\"T_f4938_row5_col15\" class=\"data row5 col15\" >38,000,000,000.00</td>\n",
       "      <td id=\"T_f4938_row5_col16\" class=\"data row5 col16\" >0.0000%</td>\n",
       "      <td id=\"T_f4938_row5_col17\" class=\"data row5 col17\" >1.00</td>\n",
       "    </tr>\n",
       "  </tbody>\n",
       "</table>\n"
      ],
      "text/plain": [
       "<pandas.io.formats.style.Styler at 0x12bad9f90>"
      ]
     },
     "execution_count": 68,
     "metadata": {},
     "output_type": "execute_result"
    }
   ],
   "source": [
    "aux.leg_as_dataframe(overnight_index_leg).style.format(format_dict)"
   ]
  },
  {
   "cell_type": "markdown",
   "metadata": {
    "collapsed": false,
    "jupyter": {
     "outputs_hidden": false
    }
   },
   "source": [
    "Notar que al dar de alta un Leg con OvernightIndexCashflow, los valores futuros de los índeces son los default (=1.0). Por lo tanto, el primer paso para valorizar estos cashflows, es calcular los valores forward de los índices.\n",
    "\n",
    "Se da de alta un objeto de tipo `ForwardRates`."
   ]
  },
  {
   "cell_type": "code",
   "execution_count": 69,
   "metadata": {
    "execution": {
     "iopub.execute_input": "2024-06-09T19:33:10.581455Z",
     "iopub.status.busy": "2024-06-09T19:33:10.581138Z",
     "iopub.status.idle": "2024-06-09T19:33:10.584917Z",
     "shell.execute_reply": "2024-06-09T19:33:10.584185Z",
     "shell.execute_reply.started": "2024-06-09T19:33:10.581429Z"
    }
   },
   "outputs": [],
   "source": [
    "fwd_rates = qcf.ForwardRates()"
   ]
  },
  {
   "cell_type": "markdown",
   "metadata": {
    "collapsed": false,
    "jupyter": {
     "outputs_hidden": false
    }
   },
   "source": [
    "Se calculan los índices forward."
   ]
  },
  {
   "cell_type": "code",
   "execution_count": 70,
   "metadata": {
    "ExecuteTime": {
     "end_time": "2023-12-19T16:23:18.392805Z",
     "start_time": "2023-12-19T16:23:18.354200Z"
    },
    "collapsed": false,
    "execution": {
     "iopub.execute_input": "2024-06-09T19:33:11.413443Z",
     "iopub.status.busy": "2024-06-09T19:33:11.413118Z",
     "iopub.status.idle": "2024-06-09T19:33:11.418834Z",
     "shell.execute_reply": "2024-06-09T19:33:11.417856Z",
     "shell.execute_reply.started": "2024-06-09T19:33:11.413416Z"
    },
    "jupyter": {
     "outputs_hidden": false
    }
   },
   "outputs": [],
   "source": [
    "icp_val = 18_890.34 # icp a la fecha de proceso\n",
    "fecha_hoy = qcf.QCDate(5, 3, 2020)\n",
    "\n",
    "for i in range(overnight_index_leg.size()):\n",
    "    cashflow = overnight_index_leg.get_cashflow_at(i)\n",
    "    if cashflow.get_start_date() <= fecha_hoy <= cashflow.get_end_date():\n",
    "        index = i\n",
    "\n",
    "icp_fecha_inicio_cupon_vigente = 18_376.69\n",
    "overnight_index_leg.get_cashflow_at(index).set_start_date_index(icp_fecha_inicio_cupon_vigente)\n",
    "\n",
    "fwd_rates.set_rates_overnight_index_leg(fecha_hoy, icp_val, overnight_index_leg, zcc_clp)"
   ]
  },
  {
   "cell_type": "code",
   "execution_count": 71,
   "metadata": {
    "ExecuteTime": {
     "end_time": "2023-12-19T16:23:50.411668Z",
     "start_time": "2023-12-19T16:23:50.371141Z"
    },
    "collapsed": false,
    "execution": {
     "iopub.execute_input": "2024-06-09T19:33:12.907704Z",
     "iopub.status.busy": "2024-06-09T19:33:12.907353Z",
     "iopub.status.idle": "2024-06-09T19:33:12.920157Z",
     "shell.execute_reply": "2024-06-09T19:33:12.919338Z",
     "shell.execute_reply.started": "2024-06-09T19:33:12.907675Z"
    },
    "jupyter": {
     "outputs_hidden": false
    }
   },
   "outputs": [
    {
     "data": {
      "text/html": [
       "<style type=\"text/css\">\n",
       "</style>\n",
       "<table id=\"T_732bb\">\n",
       "  <thead>\n",
       "    <tr>\n",
       "      <th class=\"blank level0\" >&nbsp;</th>\n",
       "      <th id=\"T_732bb_level0_col0\" class=\"col_heading level0 col0\" >fecha_inicial_devengo</th>\n",
       "      <th id=\"T_732bb_level0_col1\" class=\"col_heading level0 col1\" >fecha_final_devengo</th>\n",
       "      <th id=\"T_732bb_level0_col2\" class=\"col_heading level0 col2\" >fecha_inicial_indice</th>\n",
       "      <th id=\"T_732bb_level0_col3\" class=\"col_heading level0 col3\" >fecha_final_indice</th>\n",
       "      <th id=\"T_732bb_level0_col4\" class=\"col_heading level0 col4\" >fecha_pago</th>\n",
       "      <th id=\"T_732bb_level0_col5\" class=\"col_heading level0 col5\" >nocional</th>\n",
       "      <th id=\"T_732bb_level0_col6\" class=\"col_heading level0 col6\" >amortizacion</th>\n",
       "      <th id=\"T_732bb_level0_col7\" class=\"col_heading level0 col7\" >amort_es_flujo</th>\n",
       "      <th id=\"T_732bb_level0_col8\" class=\"col_heading level0 col8\" >moneda_nocional</th>\n",
       "      <th id=\"T_732bb_level0_col9\" class=\"col_heading level0 col9\" >nombre_indice</th>\n",
       "      <th id=\"T_732bb_level0_col10\" class=\"col_heading level0 col10\" >valor_indice_inicial</th>\n",
       "      <th id=\"T_732bb_level0_col11\" class=\"col_heading level0 col11\" >valor_indice_final</th>\n",
       "      <th id=\"T_732bb_level0_col12\" class=\"col_heading level0 col12\" >valor_tasa_equivalente</th>\n",
       "      <th id=\"T_732bb_level0_col13\" class=\"col_heading level0 col13\" >tipo_tasa</th>\n",
       "      <th id=\"T_732bb_level0_col14\" class=\"col_heading level0 col14\" >interes</th>\n",
       "      <th id=\"T_732bb_level0_col15\" class=\"col_heading level0 col15\" >flujo</th>\n",
       "      <th id=\"T_732bb_level0_col16\" class=\"col_heading level0 col16\" >spread</th>\n",
       "      <th id=\"T_732bb_level0_col17\" class=\"col_heading level0 col17\" >gearing</th>\n",
       "    </tr>\n",
       "  </thead>\n",
       "  <tbody>\n",
       "    <tr>\n",
       "      <th id=\"T_732bb_level0_row0\" class=\"row_heading level0 row0\" >0</th>\n",
       "      <td id=\"T_732bb_row0_col0\" class=\"data row0 col0\" >2019-01-10</td>\n",
       "      <td id=\"T_732bb_row0_col1\" class=\"data row0 col1\" >2019-07-10</td>\n",
       "      <td id=\"T_732bb_row0_col2\" class=\"data row0 col2\" >2019-01-10</td>\n",
       "      <td id=\"T_732bb_row0_col3\" class=\"data row0 col3\" >2019-07-10</td>\n",
       "      <td id=\"T_732bb_row0_col4\" class=\"data row0 col4\" >2019-07-10</td>\n",
       "      <td id=\"T_732bb_row0_col5\" class=\"data row0 col5\" >38,000,000,000.00</td>\n",
       "      <td id=\"T_732bb_row0_col6\" class=\"data row0 col6\" >0.00</td>\n",
       "      <td id=\"T_732bb_row0_col7\" class=\"data row0 col7\" >True</td>\n",
       "      <td id=\"T_732bb_row0_col8\" class=\"data row0 col8\" >CLP</td>\n",
       "      <td id=\"T_732bb_row0_col9\" class=\"data row0 col9\" >ICPCLP</td>\n",
       "      <td id=\"T_732bb_row0_col10\" class=\"data row0 col10\" >1.00</td>\n",
       "      <td id=\"T_732bb_row0_col11\" class=\"data row0 col11\" >1.00</td>\n",
       "      <td id=\"T_732bb_row0_col12\" class=\"data row0 col12\" >0.0000%</td>\n",
       "      <td id=\"T_732bb_row0_col13\" class=\"data row0 col13\" >LinAct360</td>\n",
       "      <td id=\"T_732bb_row0_col14\" class=\"data row0 col14\" >0.00</td>\n",
       "      <td id=\"T_732bb_row0_col15\" class=\"data row0 col15\" >0.00</td>\n",
       "      <td id=\"T_732bb_row0_col16\" class=\"data row0 col16\" >0.0000%</td>\n",
       "      <td id=\"T_732bb_row0_col17\" class=\"data row0 col17\" >1.00</td>\n",
       "    </tr>\n",
       "    <tr>\n",
       "      <th id=\"T_732bb_level0_row1\" class=\"row_heading level0 row1\" >1</th>\n",
       "      <td id=\"T_732bb_row1_col0\" class=\"data row1 col0\" >2019-07-10</td>\n",
       "      <td id=\"T_732bb_row1_col1\" class=\"data row1 col1\" >2021-07-12</td>\n",
       "      <td id=\"T_732bb_row1_col2\" class=\"data row1 col2\" >2019-07-10</td>\n",
       "      <td id=\"T_732bb_row1_col3\" class=\"data row1 col3\" >2021-07-12</td>\n",
       "      <td id=\"T_732bb_row1_col4\" class=\"data row1 col4\" >2021-07-12</td>\n",
       "      <td id=\"T_732bb_row1_col5\" class=\"data row1 col5\" >38,000,000,000.00</td>\n",
       "      <td id=\"T_732bb_row1_col6\" class=\"data row1 col6\" >0.00</td>\n",
       "      <td id=\"T_732bb_row1_col7\" class=\"data row1 col7\" >True</td>\n",
       "      <td id=\"T_732bb_row1_col8\" class=\"data row1 col8\" >CLP</td>\n",
       "      <td id=\"T_732bb_row1_col9\" class=\"data row1 col9\" >ICPCLP</td>\n",
       "      <td id=\"T_732bb_row1_col10\" class=\"data row1 col10\" >18,376.69</td>\n",
       "      <td id=\"T_732bb_row1_col11\" class=\"data row1 col11\" >19,226.28</td>\n",
       "      <td id=\"T_732bb_row1_col12\" class=\"data row1 col12\" >2.0000%</td>\n",
       "      <td id=\"T_732bb_row1_col13\" class=\"data row1 col13\" >LinAct360</td>\n",
       "      <td id=\"T_732bb_row1_col14\" class=\"data row1 col14\" >1,547,444,444.44</td>\n",
       "      <td id=\"T_732bb_row1_col15\" class=\"data row1 col15\" >1,547,444,444.44</td>\n",
       "      <td id=\"T_732bb_row1_col16\" class=\"data row1 col16\" >0.0000%</td>\n",
       "      <td id=\"T_732bb_row1_col17\" class=\"data row1 col17\" >1.00</td>\n",
       "    </tr>\n",
       "    <tr>\n",
       "      <th id=\"T_732bb_level0_row2\" class=\"row_heading level0 row2\" >2</th>\n",
       "      <td id=\"T_732bb_row2_col0\" class=\"data row2 col0\" >2021-07-12</td>\n",
       "      <td id=\"T_732bb_row2_col1\" class=\"data row2 col1\" >2023-07-10</td>\n",
       "      <td id=\"T_732bb_row2_col2\" class=\"data row2 col2\" >2021-07-12</td>\n",
       "      <td id=\"T_732bb_row2_col3\" class=\"data row2 col3\" >2023-07-10</td>\n",
       "      <td id=\"T_732bb_row2_col4\" class=\"data row2 col4\" >2023-07-10</td>\n",
       "      <td id=\"T_732bb_row2_col5\" class=\"data row2 col5\" >38,000,000,000.00</td>\n",
       "      <td id=\"T_732bb_row2_col6\" class=\"data row2 col6\" >0.00</td>\n",
       "      <td id=\"T_732bb_row2_col7\" class=\"data row2 col7\" >True</td>\n",
       "      <td id=\"T_732bb_row2_col8\" class=\"data row2 col8\" >CLP</td>\n",
       "      <td id=\"T_732bb_row2_col9\" class=\"data row2 col9\" >ICPCLP</td>\n",
       "      <td id=\"T_732bb_row2_col10\" class=\"data row2 col10\" >19,226.28</td>\n",
       "      <td id=\"T_732bb_row2_col11\" class=\"data row2 col11\" >19,877.30</td>\n",
       "      <td id=\"T_732bb_row2_col12\" class=\"data row2 col12\" >2.0000%</td>\n",
       "      <td id=\"T_732bb_row2_col13\" class=\"data row2 col13\" >LinAct360</td>\n",
       "      <td id=\"T_732bb_row2_col14\" class=\"data row2 col14\" >1,536,888,888.89</td>\n",
       "      <td id=\"T_732bb_row2_col15\" class=\"data row2 col15\" >1,536,888,888.89</td>\n",
       "      <td id=\"T_732bb_row2_col16\" class=\"data row2 col16\" >0.0000%</td>\n",
       "      <td id=\"T_732bb_row2_col17\" class=\"data row2 col17\" >1.00</td>\n",
       "    </tr>\n",
       "    <tr>\n",
       "      <th id=\"T_732bb_level0_row3\" class=\"row_heading level0 row3\" >3</th>\n",
       "      <td id=\"T_732bb_row3_col0\" class=\"data row3 col0\" >2023-07-10</td>\n",
       "      <td id=\"T_732bb_row3_col1\" class=\"data row3 col1\" >2025-07-10</td>\n",
       "      <td id=\"T_732bb_row3_col2\" class=\"data row3 col2\" >2023-07-10</td>\n",
       "      <td id=\"T_732bb_row3_col3\" class=\"data row3 col3\" >2025-07-10</td>\n",
       "      <td id=\"T_732bb_row3_col4\" class=\"data row3 col4\" >2025-07-10</td>\n",
       "      <td id=\"T_732bb_row3_col5\" class=\"data row3 col5\" >38,000,000,000.00</td>\n",
       "      <td id=\"T_732bb_row3_col6\" class=\"data row3 col6\" >0.00</td>\n",
       "      <td id=\"T_732bb_row3_col7\" class=\"data row3 col7\" >True</td>\n",
       "      <td id=\"T_732bb_row3_col8\" class=\"data row3 col8\" >CLP</td>\n",
       "      <td id=\"T_732bb_row3_col9\" class=\"data row3 col9\" >ICPCLP</td>\n",
       "      <td id=\"T_732bb_row3_col10\" class=\"data row3 col10\" >19,877.30</td>\n",
       "      <td id=\"T_732bb_row3_col11\" class=\"data row3 col11\" >21,118.61</td>\n",
       "      <td id=\"T_732bb_row3_col12\" class=\"data row3 col12\" >3.0000%</td>\n",
       "      <td id=\"T_732bb_row3_col13\" class=\"data row3 col13\" >LinAct360</td>\n",
       "      <td id=\"T_732bb_row3_col14\" class=\"data row3 col14\" >2,314,833,333.33</td>\n",
       "      <td id=\"T_732bb_row3_col15\" class=\"data row3 col15\" >2,314,833,333.33</td>\n",
       "      <td id=\"T_732bb_row3_col16\" class=\"data row3 col16\" >0.0000%</td>\n",
       "      <td id=\"T_732bb_row3_col17\" class=\"data row3 col17\" >1.00</td>\n",
       "    </tr>\n",
       "    <tr>\n",
       "      <th id=\"T_732bb_level0_row4\" class=\"row_heading level0 row4\" >4</th>\n",
       "      <td id=\"T_732bb_row4_col0\" class=\"data row4 col0\" >2025-07-10</td>\n",
       "      <td id=\"T_732bb_row4_col1\" class=\"data row4 col1\" >2027-07-12</td>\n",
       "      <td id=\"T_732bb_row4_col2\" class=\"data row4 col2\" >2025-07-10</td>\n",
       "      <td id=\"T_732bb_row4_col3\" class=\"data row4 col3\" >2027-07-12</td>\n",
       "      <td id=\"T_732bb_row4_col4\" class=\"data row4 col4\" >2027-07-12</td>\n",
       "      <td id=\"T_732bb_row4_col5\" class=\"data row4 col5\" >38,000,000,000.00</td>\n",
       "      <td id=\"T_732bb_row4_col6\" class=\"data row4 col6\" >0.00</td>\n",
       "      <td id=\"T_732bb_row4_col7\" class=\"data row4 col7\" >True</td>\n",
       "      <td id=\"T_732bb_row4_col8\" class=\"data row4 col8\" >CLP</td>\n",
       "      <td id=\"T_732bb_row4_col9\" class=\"data row4 col9\" >ICPCLP</td>\n",
       "      <td id=\"T_732bb_row4_col10\" class=\"data row4 col10\" >21,118.61</td>\n",
       "      <td id=\"T_732bb_row4_col11\" class=\"data row4 col11\" >22,978.68</td>\n",
       "      <td id=\"T_732bb_row4_col12\" class=\"data row4 col12\" >4.0000%</td>\n",
       "      <td id=\"T_732bb_row4_col13\" class=\"data row4 col13\" >LinAct360</td>\n",
       "      <td id=\"T_732bb_row4_col14\" class=\"data row4 col14\" >3,090,666,666.67</td>\n",
       "      <td id=\"T_732bb_row4_col15\" class=\"data row4 col15\" >3,090,666,666.67</td>\n",
       "      <td id=\"T_732bb_row4_col16\" class=\"data row4 col16\" >0.0000%</td>\n",
       "      <td id=\"T_732bb_row4_col17\" class=\"data row4 col17\" >1.00</td>\n",
       "    </tr>\n",
       "    <tr>\n",
       "      <th id=\"T_732bb_level0_row5\" class=\"row_heading level0 row5\" >5</th>\n",
       "      <td id=\"T_732bb_row5_col0\" class=\"data row5 col0\" >2027-07-12</td>\n",
       "      <td id=\"T_732bb_row5_col1\" class=\"data row5 col1\" >2029-07-10</td>\n",
       "      <td id=\"T_732bb_row5_col2\" class=\"data row5 col2\" >2027-07-12</td>\n",
       "      <td id=\"T_732bb_row5_col3\" class=\"data row5 col3\" >2029-07-10</td>\n",
       "      <td id=\"T_732bb_row5_col4\" class=\"data row5 col4\" >2029-07-10</td>\n",
       "      <td id=\"T_732bb_row5_col5\" class=\"data row5 col5\" >38,000,000,000.00</td>\n",
       "      <td id=\"T_732bb_row5_col6\" class=\"data row5 col6\" >38,000,000,000.00</td>\n",
       "      <td id=\"T_732bb_row5_col7\" class=\"data row5 col7\" >True</td>\n",
       "      <td id=\"T_732bb_row5_col8\" class=\"data row5 col8\" >CLP</td>\n",
       "      <td id=\"T_732bb_row5_col9\" class=\"data row5 col9\" >ICPCLP</td>\n",
       "      <td id=\"T_732bb_row5_col10\" class=\"data row5 col10\" >22,978.68</td>\n",
       "      <td id=\"T_732bb_row5_col11\" class=\"data row5 col11\" >25,238.13</td>\n",
       "      <td id=\"T_732bb_row5_col12\" class=\"data row5 col12\" >5.0000%</td>\n",
       "      <td id=\"T_732bb_row5_col13\" class=\"data row5 col13\" >LinAct360</td>\n",
       "      <td id=\"T_732bb_row5_col14\" class=\"data row5 col14\" >3,847,500,000.00</td>\n",
       "      <td id=\"T_732bb_row5_col15\" class=\"data row5 col15\" >41,847,500,000.00</td>\n",
       "      <td id=\"T_732bb_row5_col16\" class=\"data row5 col16\" >0.0000%</td>\n",
       "      <td id=\"T_732bb_row5_col17\" class=\"data row5 col17\" >1.00</td>\n",
       "    </tr>\n",
       "  </tbody>\n",
       "</table>\n"
      ],
      "text/plain": [
       "<pandas.io.formats.style.Styler at 0x12ba9e5d0>"
      ]
     },
     "execution_count": 71,
     "metadata": {},
     "output_type": "execute_result"
    }
   ],
   "source": [
    "aux.leg_as_dataframe(overnight_index_leg).style.format(format_dict)"
   ]
  },
  {
   "cell_type": "markdown",
   "metadata": {
    "collapsed": false,
    "jupyter": {
     "outputs_hidden": false
    }
   },
   "source": [
    "Con esto, podemos calcular el valor presente."
   ]
  },
  {
   "cell_type": "code",
   "execution_count": 80,
   "metadata": {
    "ExecuteTime": {
     "end_time": "2023-12-19T16:24:45.130058Z",
     "start_time": "2023-12-19T16:24:45.084461Z"
    },
    "collapsed": false,
    "execution": {
     "iopub.execute_input": "2024-06-09T19:48:05.300026Z",
     "iopub.status.busy": "2024-06-09T19:48:05.299715Z",
     "iopub.status.idle": "2024-06-09T19:48:05.304528Z",
     "shell.execute_reply": "2024-06-09T19:48:05.303583Z",
     "shell.execute_reply.started": "2024-06-09T19:48:05.299998Z"
    },
    "jupyter": {
     "outputs_hidden": false
    }
   },
   "outputs": [
    {
     "name": "stdout",
     "output_type": "stream",
     "text": [
      "Valor presente pata ON Index Leg: 39,062,144,488\n"
     ]
    }
   ],
   "source": [
    "vp_on_index_leg = pv.pv(fecha_hoy, overnight_index_leg, zcc_clp)\n",
    "print(f\"Valor presente pata ON Index Leg: {vp_on_index_leg:,.0f}\")"
   ]
  },
  {
   "cell_type": "markdown",
   "metadata": {
    "collapsed": false,
    "jupyter": {
     "outputs_hidden": false
    }
   },
   "source": [
    "También en este caso es posible calcular la sensibilidad a la curva de descuento."
   ]
  },
  {
   "cell_type": "code",
   "execution_count": 83,
   "metadata": {
    "ExecuteTime": {
     "end_time": "2023-12-19T16:25:05.316577Z",
     "start_time": "2023-12-19T16:25:05.264235Z"
    },
    "collapsed": false,
    "execution": {
     "iopub.execute_input": "2024-06-09T19:48:36.602543Z",
     "iopub.status.busy": "2024-06-09T19:48:36.602183Z",
     "iopub.status.idle": "2024-06-09T19:48:36.608602Z",
     "shell.execute_reply": "2024-06-09T19:48:36.607821Z",
     "shell.execute_reply.started": "2024-06-09T19:48:36.602512Z"
    },
    "jupyter": {
     "outputs_hidden": false
    }
   },
   "outputs": [
    {
     "name": "stdout",
     "output_type": "stream",
     "text": [
      "Sensibilidad en 0: 0\n",
      "Sensibilidad en 1: 0\n",
      "Sensibilidad en 2: 0\n",
      "Sensibilidad en 3: 0\n",
      "Sensibilidad en 4: 0\n",
      "Sensibilidad en 5: -74,910\n",
      "Sensibilidad en 6: -158,708\n",
      "Sensibilidad en 7: 0\n",
      "Sensibilidad en 8: -271,813\n",
      "Sensibilidad en 9: -137,584\n",
      "Sensibilidad en 10: -753,029\n",
      "Sensibilidad en 11: -382,738\n",
      "Sensibilidad en 12: -1,332,749\n",
      "Sensibilidad en 13: -691,260\n",
      "Sensibilidad en 14: -19,372,761\n",
      "Sensibilidad en 15: -9,846,486\n",
      "Sensibilidad en 16: 0\n",
      "Sensibilidad en 17: 0\n",
      "Sensibilidad en 18: 0\n",
      "\n",
      "Sensibilidad de descuento: -33,022,037 CLP\n"
     ]
    }
   ],
   "source": [
    "der = pv.get_derivatives()\n",
    "i = 0\n",
    "for d in der:\n",
    "    print(f\"Sensibilidad en {i:}: {d * bp / 10_000:0,.0f}\")\n",
    "    i += 1\n",
    "sens_disc = [d * bp / 10_000 for d in der]\n",
    "print()\n",
    "print(\"Sensibilidad de descuento: {0:,.0f} CLP\".format(sum(sens_disc)))"
   ]
  },
  {
   "cell_type": "markdown",
   "metadata": {
    "collapsed": false,
    "jupyter": {
     "outputs_hidden": false
    }
   },
   "source": [
    "La estructura es la misma que para una pata fija, lo que indica que se debe también incluir la sensibilidad a la curva de proyección."
   ]
  },
  {
   "cell_type": "code",
   "execution_count": 85,
   "metadata": {
    "ExecuteTime": {
     "end_time": "2023-12-19T16:25:44.267682Z",
     "start_time": "2023-12-19T16:25:44.243985Z"
    },
    "collapsed": false,
    "execution": {
     "iopub.execute_input": "2024-06-09T19:49:20.044277Z",
     "iopub.status.busy": "2024-06-09T19:49:20.043934Z",
     "iopub.status.idle": "2024-06-09T19:49:20.052347Z",
     "shell.execute_reply": "2024-06-09T19:49:20.051517Z",
     "shell.execute_reply.started": "2024-06-09T19:49:20.044247Z"
    },
    "jupyter": {
     "outputs_hidden": false
    }
   },
   "outputs": [
    {
     "name": "stdout",
     "output_type": "stream",
     "text": [
      "Sensibilidad en 0: 0\n",
      "Sensibilidad en 1: 0\n",
      "Sensibilidad en 2: 0\n",
      "Sensibilidad en 3: 0\n",
      "Sensibilidad en 4: 0\n",
      "Sensibilidad en 5: 74,910\n",
      "Sensibilidad en 6: 158,708\n",
      "Sensibilidad en 7: 0\n",
      "Sensibilidad en 8: 271,813\n",
      "Sensibilidad en 9: 137,584\n",
      "Sensibilidad en 10: 753,029\n",
      "Sensibilidad en 11: 382,738\n",
      "Sensibilidad en 12: 1,332,749\n",
      "Sensibilidad en 13: 691,260\n",
      "Sensibilidad en 14: 19,372,761\n",
      "Sensibilidad en 15: 9,846,486\n",
      "Sensibilidad en 16: 0\n",
      "Sensibilidad en 17: 0\n",
      "Sensibilidad en 18: 0\n",
      "\n",
      "Sensibilidad de proyección: 33,022,037 CLP\n"
     ]
    }
   ],
   "source": [
    "result = []\n",
    "for i in range(overnight_index_leg.size()):\n",
    "    cshflw = overnight_index_leg.get_cashflow_at(i)\n",
    "    amt_der = cshflw.get_amount_derivatives()\n",
    "    df = zcc_clp.get_discount_factor_at(fecha_hoy.day_diff(cshflw.get_settlement_date()))\n",
    "    amt_der = [a * bp / 10_000  * df for a in amt_der]\n",
    "    if len(amt_der) > 0:\n",
    "        result.append(np.array(amt_der))\n",
    "total = result[0] * 0\n",
    "\n",
    "for r in result:\n",
    "    total += r\n",
    "\n",
    "for i in range(len(total)):\n",
    "    print(\"Sensibilidad en {0:}: {1:0,.0f}\".format(i, total[i]))\n",
    "\n",
    "print()\n",
    "print(\"Sensibilidad de proyección: {0:,.0f} CLP\".format(sum(total)))"
   ]
  },
  {
   "cell_type": "markdown",
   "metadata": {
    "collapsed": false,
    "jupyter": {
     "outputs_hidden": false
    }
   },
   "source": [
    "Como se espera de una pata OvernightIndex (con lag de pago igual a 0 y spread igual a 0), ambas sensibilidades se cancelan."
   ]
  },
  {
   "cell_type": "markdown",
   "metadata": {
    "collapsed": false,
    "jupyter": {
     "outputs_hidden": false
    }
   },
   "source": [
    "#### Se verifica la sensibilidad de proyección por diferencias finitas:"
   ]
  },
  {
   "cell_type": "code",
   "execution_count": 88,
   "metadata": {
    "ExecuteTime": {
     "end_time": "2023-12-19T16:27:07.112269Z",
     "start_time": "2023-12-19T16:27:07.094307Z"
    },
    "collapsed": false,
    "execution": {
     "iopub.execute_input": "2024-06-09T19:51:55.612992Z",
     "iopub.status.busy": "2024-06-09T19:51:55.612646Z",
     "iopub.status.idle": "2024-06-09T19:51:55.618801Z",
     "shell.execute_reply": "2024-06-09T19:51:55.617973Z",
     "shell.execute_reply.started": "2024-06-09T19:51:55.612962Z"
    },
    "jupyter": {
     "outputs_hidden": false
    }
   },
   "outputs": [
    {
     "name": "stdout",
     "output_type": "stream",
     "text": [
      "Sensibilidad en vértice 15: 9,846,486 CLP\n"
     ]
    }
   ],
   "source": [
    "fwd_rates.set_rates_overnight_index_leg(fecha_hoy, icp_val, overnight_index_leg, zcc_clp_up)\n",
    "vp_on_index_leg_up = pv.pv(fecha_hoy, overnight_index_leg, zcc_clp)\n",
    "\n",
    "fwd_rates.set_rates_overnight_index_leg(fecha_hoy, icp_val, overnight_index_leg, zcc_clp_down)\n",
    "vp_on_index_leg_down = pv.pv(fecha_hoy, overnight_index_leg, zcc_clp)\n",
    "\n",
    "print(f\"Sensibilidad en vértice {vertice}: {(vp_on_index_leg_up - vp_on_index_leg_down) / 2:,.0f} CLP\")"
   ]
  },
  {
   "cell_type": "markdown",
   "metadata": {},
   "source": [
    "### IborCashflow Leg"
   ]
  },
  {
   "cell_type": "markdown",
   "metadata": {},
   "source": [
    "Se da de alta una pata de tipo IborCashflow."
   ]
  },
  {
   "cell_type": "code",
   "execution_count": 155,
   "metadata": {
    "execution": {
     "iopub.execute_input": "2024-06-09T21:03:30.162614Z",
     "iopub.status.busy": "2024-06-09T21:03:30.161968Z",
     "iopub.status.idle": "2024-06-09T21:03:30.171836Z",
     "shell.execute_reply": "2024-06-09T21:03:30.170986Z",
     "shell.execute_reply.started": "2024-06-09T21:03:30.162583Z"
    }
   },
   "outputs": [],
   "source": [
    "rp = qcf.RecPay.RECEIVE\n",
    "fecha_inicio = qcf.QCDate(12, 11, 2019)\n",
    "fecha_final = qcf.QCDate(12, 5, 2021)\n",
    "bus_adj_rule = qcf.BusyAdjRules.MODFOLLOW\n",
    "periodicidad_pago = qcf.Tenor('6M')\n",
    "periodo_irregular_pago = qcf.StubPeriod.NO\n",
    "calendario = qcf.BusinessCalendar(fecha_inicio, 20)\n",
    "lag_pago = 0\n",
    "periodicidad_fijacion = qcf.Tenor('6M')\n",
    "periodo_irregular_fijacion = qcf.StubPeriod.NO\n",
    "\n",
    "# vamos a usar el mismo calendario para pago y fijaciones\n",
    "lag_de_fijacion = 2\n",
    "\n",
    "# Definición del índice\n",
    "codigo = 'TERSOFR6M'\n",
    "lin_act360 = qcf.QCInterestRate(.0, qcf.QCAct360(), qcf.QCLinearWf())\n",
    "fixing_lag = qcf.Tenor('2d')\n",
    "tenor = qcf.Tenor('6m')\n",
    "fixing_calendar = calendario\n",
    "settlement_calendar = calendario\n",
    "usd = qcf.QCUSD()\n",
    "termsofr_6m = qcf.InterestRateIndex(\n",
    "    codigo,\n",
    "    lin_act360,\n",
    "    fixing_lag,\n",
    "    tenor,\n",
    "    fixing_calendar,\n",
    "    settlement_calendar,\n",
    "    usd\n",
    ")\n",
    "# Fin índice\n",
    "\n",
    "nominal = 20_000_000.0\n",
    "amort_es_flujo = True\n",
    "moneda = usd\n",
    "spread = .0\n",
    "gearing = 1.0\n",
    "\n",
    "ibor_leg = qcf.LegFactory.build_bullet_ibor_leg(\n",
    "    rp, \n",
    "    fecha_inicio, \n",
    "    fecha_final, \n",
    "    bus_adj_rule, \n",
    "    periodicidad_pago,\n",
    "    periodo_irregular_pago, \n",
    "    calendario, \n",
    "    lag_pago,\n",
    "    periodicidad_fijacion, \n",
    "    periodo_irregular_fijacion,\n",
    "    calendario, \n",
    "    lag_de_fijacion, \n",
    "    termsofr_6m,\n",
    "    nominal, \n",
    "    amort_es_flujo, \n",
    "    moneda, \n",
    "    spread, \n",
    "    gearing\n",
    ")"
   ]
  },
  {
   "cell_type": "code",
   "execution_count": 156,
   "metadata": {
    "execution": {
     "iopub.execute_input": "2024-06-09T21:03:31.127957Z",
     "iopub.status.busy": "2024-06-09T21:03:31.127604Z",
     "iopub.status.idle": "2024-06-09T21:03:31.139160Z",
     "shell.execute_reply": "2024-06-09T21:03:31.138354Z",
     "shell.execute_reply.started": "2024-06-09T21:03:31.127928Z"
    }
   },
   "outputs": [
    {
     "data": {
      "text/html": [
       "<style type=\"text/css\">\n",
       "</style>\n",
       "<table id=\"T_3c73b\">\n",
       "  <thead>\n",
       "    <tr>\n",
       "      <th class=\"blank level0\" >&nbsp;</th>\n",
       "      <th id=\"T_3c73b_level0_col0\" class=\"col_heading level0 col0\" >fecha_inicial</th>\n",
       "      <th id=\"T_3c73b_level0_col1\" class=\"col_heading level0 col1\" >fecha_final</th>\n",
       "      <th id=\"T_3c73b_level0_col2\" class=\"col_heading level0 col2\" >fecha_fixing</th>\n",
       "      <th id=\"T_3c73b_level0_col3\" class=\"col_heading level0 col3\" >fecha_pago</th>\n",
       "      <th id=\"T_3c73b_level0_col4\" class=\"col_heading level0 col4\" >nominal</th>\n",
       "      <th id=\"T_3c73b_level0_col5\" class=\"col_heading level0 col5\" >amortizacion</th>\n",
       "      <th id=\"T_3c73b_level0_col6\" class=\"col_heading level0 col6\" >interes</th>\n",
       "      <th id=\"T_3c73b_level0_col7\" class=\"col_heading level0 col7\" >amort_es_flujo</th>\n",
       "      <th id=\"T_3c73b_level0_col8\" class=\"col_heading level0 col8\" >flujo</th>\n",
       "      <th id=\"T_3c73b_level0_col9\" class=\"col_heading level0 col9\" >moneda</th>\n",
       "      <th id=\"T_3c73b_level0_col10\" class=\"col_heading level0 col10\" >codigo_indice_tasa</th>\n",
       "      <th id=\"T_3c73b_level0_col11\" class=\"col_heading level0 col11\" >valor_tasa</th>\n",
       "      <th id=\"T_3c73b_level0_col12\" class=\"col_heading level0 col12\" >spread</th>\n",
       "      <th id=\"T_3c73b_level0_col13\" class=\"col_heading level0 col13\" >gearing</th>\n",
       "      <th id=\"T_3c73b_level0_col14\" class=\"col_heading level0 col14\" >tipo_tasa</th>\n",
       "    </tr>\n",
       "  </thead>\n",
       "  <tbody>\n",
       "    <tr>\n",
       "      <th id=\"T_3c73b_level0_row0\" class=\"row_heading level0 row0\" >0</th>\n",
       "      <td id=\"T_3c73b_row0_col0\" class=\"data row0 col0\" >2019-11-12</td>\n",
       "      <td id=\"T_3c73b_row0_col1\" class=\"data row0 col1\" >2020-05-12</td>\n",
       "      <td id=\"T_3c73b_row0_col2\" class=\"data row0 col2\" >2019-11-08</td>\n",
       "      <td id=\"T_3c73b_row0_col3\" class=\"data row0 col3\" >2020-05-12</td>\n",
       "      <td id=\"T_3c73b_row0_col4\" class=\"data row0 col4\" >20,000,000.00</td>\n",
       "      <td id=\"T_3c73b_row0_col5\" class=\"data row0 col5\" >0.00</td>\n",
       "      <td id=\"T_3c73b_row0_col6\" class=\"data row0 col6\" >0.00</td>\n",
       "      <td id=\"T_3c73b_row0_col7\" class=\"data row0 col7\" >True</td>\n",
       "      <td id=\"T_3c73b_row0_col8\" class=\"data row0 col8\" >0.00</td>\n",
       "      <td id=\"T_3c73b_row0_col9\" class=\"data row0 col9\" >USD</td>\n",
       "      <td id=\"T_3c73b_row0_col10\" class=\"data row0 col10\" >TERSOFR6M</td>\n",
       "      <td id=\"T_3c73b_row0_col11\" class=\"data row0 col11\" >0.0000%</td>\n",
       "      <td id=\"T_3c73b_row0_col12\" class=\"data row0 col12\" >0.0000%</td>\n",
       "      <td id=\"T_3c73b_row0_col13\" class=\"data row0 col13\" >1.00</td>\n",
       "      <td id=\"T_3c73b_row0_col14\" class=\"data row0 col14\" >LinAct360</td>\n",
       "    </tr>\n",
       "    <tr>\n",
       "      <th id=\"T_3c73b_level0_row1\" class=\"row_heading level0 row1\" >1</th>\n",
       "      <td id=\"T_3c73b_row1_col0\" class=\"data row1 col0\" >2020-05-12</td>\n",
       "      <td id=\"T_3c73b_row1_col1\" class=\"data row1 col1\" >2020-11-12</td>\n",
       "      <td id=\"T_3c73b_row1_col2\" class=\"data row1 col2\" >2020-05-08</td>\n",
       "      <td id=\"T_3c73b_row1_col3\" class=\"data row1 col3\" >2020-11-12</td>\n",
       "      <td id=\"T_3c73b_row1_col4\" class=\"data row1 col4\" >20,000,000.00</td>\n",
       "      <td id=\"T_3c73b_row1_col5\" class=\"data row1 col5\" >0.00</td>\n",
       "      <td id=\"T_3c73b_row1_col6\" class=\"data row1 col6\" >0.00</td>\n",
       "      <td id=\"T_3c73b_row1_col7\" class=\"data row1 col7\" >True</td>\n",
       "      <td id=\"T_3c73b_row1_col8\" class=\"data row1 col8\" >0.00</td>\n",
       "      <td id=\"T_3c73b_row1_col9\" class=\"data row1 col9\" >USD</td>\n",
       "      <td id=\"T_3c73b_row1_col10\" class=\"data row1 col10\" >TERSOFR6M</td>\n",
       "      <td id=\"T_3c73b_row1_col11\" class=\"data row1 col11\" >0.0000%</td>\n",
       "      <td id=\"T_3c73b_row1_col12\" class=\"data row1 col12\" >0.0000%</td>\n",
       "      <td id=\"T_3c73b_row1_col13\" class=\"data row1 col13\" >1.00</td>\n",
       "      <td id=\"T_3c73b_row1_col14\" class=\"data row1 col14\" >LinAct360</td>\n",
       "    </tr>\n",
       "    <tr>\n",
       "      <th id=\"T_3c73b_level0_row2\" class=\"row_heading level0 row2\" >2</th>\n",
       "      <td id=\"T_3c73b_row2_col0\" class=\"data row2 col0\" >2020-11-12</td>\n",
       "      <td id=\"T_3c73b_row2_col1\" class=\"data row2 col1\" >2021-05-12</td>\n",
       "      <td id=\"T_3c73b_row2_col2\" class=\"data row2 col2\" >2020-11-10</td>\n",
       "      <td id=\"T_3c73b_row2_col3\" class=\"data row2 col3\" >2021-05-12</td>\n",
       "      <td id=\"T_3c73b_row2_col4\" class=\"data row2 col4\" >20,000,000.00</td>\n",
       "      <td id=\"T_3c73b_row2_col5\" class=\"data row2 col5\" >20,000,000.00</td>\n",
       "      <td id=\"T_3c73b_row2_col6\" class=\"data row2 col6\" >0.00</td>\n",
       "      <td id=\"T_3c73b_row2_col7\" class=\"data row2 col7\" >True</td>\n",
       "      <td id=\"T_3c73b_row2_col8\" class=\"data row2 col8\" >20,000,000.00</td>\n",
       "      <td id=\"T_3c73b_row2_col9\" class=\"data row2 col9\" >USD</td>\n",
       "      <td id=\"T_3c73b_row2_col10\" class=\"data row2 col10\" >TERSOFR6M</td>\n",
       "      <td id=\"T_3c73b_row2_col11\" class=\"data row2 col11\" >0.0000%</td>\n",
       "      <td id=\"T_3c73b_row2_col12\" class=\"data row2 col12\" >0.0000%</td>\n",
       "      <td id=\"T_3c73b_row2_col13\" class=\"data row2 col13\" >1.00</td>\n",
       "      <td id=\"T_3c73b_row2_col14\" class=\"data row2 col14\" >LinAct360</td>\n",
       "    </tr>\n",
       "  </tbody>\n",
       "</table>\n"
      ],
      "text/plain": [
       "<pandas.io.formats.style.Styler at 0x12beb2150>"
      ]
     },
     "execution_count": 156,
     "metadata": {},
     "output_type": "execute_result"
    }
   ],
   "source": [
    "aux.leg_as_dataframe(ibor_leg).style.format(format_dict)"
   ]
  },
  {
   "cell_type": "code",
   "execution_count": 141,
   "metadata": {
    "execution": {
     "iopub.execute_input": "2024-06-09T20:11:19.249994Z",
     "iopub.status.busy": "2024-06-09T20:11:19.249659Z",
     "iopub.status.idle": "2024-06-09T20:11:19.254333Z",
     "shell.execute_reply": "2024-06-09T20:11:19.253521Z",
     "shell.execute_reply.started": "2024-06-09T20:11:19.249966Z"
    }
   },
   "outputs": [],
   "source": [
    "valor_termsofr_6m = 0.02\n",
    "fecha_hoy = qcf.QCDate(25, 2, 2020)\n",
    "ibor_leg.get_cashflow_at(0).set_interest_rate_value(valor_termsofr_6m)\n",
    "fwd_rates.set_rates_ibor_leg1(fecha_hoy, ibor_leg, zcc_usd)"
   ]
  },
  {
   "cell_type": "code",
   "execution_count": 142,
   "metadata": {
    "execution": {
     "iopub.execute_input": "2024-06-09T20:11:19.783653Z",
     "iopub.status.busy": "2024-06-09T20:11:19.783355Z",
     "iopub.status.idle": "2024-06-09T20:11:19.793220Z",
     "shell.execute_reply": "2024-06-09T20:11:19.792563Z",
     "shell.execute_reply.started": "2024-06-09T20:11:19.783629Z"
    }
   },
   "outputs": [
    {
     "data": {
      "text/html": [
       "<style type=\"text/css\">\n",
       "</style>\n",
       "<table id=\"T_104d5\">\n",
       "  <thead>\n",
       "    <tr>\n",
       "      <th class=\"blank level0\" >&nbsp;</th>\n",
       "      <th id=\"T_104d5_level0_col0\" class=\"col_heading level0 col0\" >fecha_inicial</th>\n",
       "      <th id=\"T_104d5_level0_col1\" class=\"col_heading level0 col1\" >fecha_final</th>\n",
       "      <th id=\"T_104d5_level0_col2\" class=\"col_heading level0 col2\" >fecha_fixing</th>\n",
       "      <th id=\"T_104d5_level0_col3\" class=\"col_heading level0 col3\" >fecha_pago</th>\n",
       "      <th id=\"T_104d5_level0_col4\" class=\"col_heading level0 col4\" >nominal</th>\n",
       "      <th id=\"T_104d5_level0_col5\" class=\"col_heading level0 col5\" >amortizacion</th>\n",
       "      <th id=\"T_104d5_level0_col6\" class=\"col_heading level0 col6\" >interes</th>\n",
       "      <th id=\"T_104d5_level0_col7\" class=\"col_heading level0 col7\" >amort_es_flujo</th>\n",
       "      <th id=\"T_104d5_level0_col8\" class=\"col_heading level0 col8\" >flujo</th>\n",
       "      <th id=\"T_104d5_level0_col9\" class=\"col_heading level0 col9\" >moneda</th>\n",
       "      <th id=\"T_104d5_level0_col10\" class=\"col_heading level0 col10\" >codigo_indice_tasa</th>\n",
       "      <th id=\"T_104d5_level0_col11\" class=\"col_heading level0 col11\" >valor_tasa</th>\n",
       "      <th id=\"T_104d5_level0_col12\" class=\"col_heading level0 col12\" >spread</th>\n",
       "      <th id=\"T_104d5_level0_col13\" class=\"col_heading level0 col13\" >gearing</th>\n",
       "      <th id=\"T_104d5_level0_col14\" class=\"col_heading level0 col14\" >tipo_tasa</th>\n",
       "    </tr>\n",
       "  </thead>\n",
       "  <tbody>\n",
       "    <tr>\n",
       "      <th id=\"T_104d5_level0_row0\" class=\"row_heading level0 row0\" >0</th>\n",
       "      <td id=\"T_104d5_row0_col0\" class=\"data row0 col0\" >2019-11-12</td>\n",
       "      <td id=\"T_104d5_row0_col1\" class=\"data row0 col1\" >2020-05-12</td>\n",
       "      <td id=\"T_104d5_row0_col2\" class=\"data row0 col2\" >2019-11-08</td>\n",
       "      <td id=\"T_104d5_row0_col3\" class=\"data row0 col3\" >2020-05-12</td>\n",
       "      <td id=\"T_104d5_row0_col4\" class=\"data row0 col4\" >20,000,000.00</td>\n",
       "      <td id=\"T_104d5_row0_col5\" class=\"data row0 col5\" >0.00</td>\n",
       "      <td id=\"T_104d5_row0_col6\" class=\"data row0 col6\" >202,222.22</td>\n",
       "      <td id=\"T_104d5_row0_col7\" class=\"data row0 col7\" >True</td>\n",
       "      <td id=\"T_104d5_row0_col8\" class=\"data row0 col8\" >202,222.22</td>\n",
       "      <td id=\"T_104d5_row0_col9\" class=\"data row0 col9\" >USD</td>\n",
       "      <td id=\"T_104d5_row0_col10\" class=\"data row0 col10\" >TERSOFR6M</td>\n",
       "      <td id=\"T_104d5_row0_col11\" class=\"data row0 col11\" >2.0000%</td>\n",
       "      <td id=\"T_104d5_row0_col12\" class=\"data row0 col12\" >0.0000%</td>\n",
       "      <td id=\"T_104d5_row0_col13\" class=\"data row0 col13\" >1.00</td>\n",
       "      <td id=\"T_104d5_row0_col14\" class=\"data row0 col14\" >LinAct360</td>\n",
       "    </tr>\n",
       "    <tr>\n",
       "      <th id=\"T_104d5_level0_row1\" class=\"row_heading level0 row1\" >1</th>\n",
       "      <td id=\"T_104d5_row1_col0\" class=\"data row1 col0\" >2020-05-12</td>\n",
       "      <td id=\"T_104d5_row1_col1\" class=\"data row1 col1\" >2020-11-12</td>\n",
       "      <td id=\"T_104d5_row1_col2\" class=\"data row1 col2\" >2020-05-08</td>\n",
       "      <td id=\"T_104d5_row1_col3\" class=\"data row1 col3\" >2020-11-12</td>\n",
       "      <td id=\"T_104d5_row1_col4\" class=\"data row1 col4\" >20,000,000.00</td>\n",
       "      <td id=\"T_104d5_row1_col5\" class=\"data row1 col5\" >0.00</td>\n",
       "      <td id=\"T_104d5_row1_col6\" class=\"data row1 col6\" >169,878.64</td>\n",
       "      <td id=\"T_104d5_row1_col7\" class=\"data row1 col7\" >True</td>\n",
       "      <td id=\"T_104d5_row1_col8\" class=\"data row1 col8\" >169,878.64</td>\n",
       "      <td id=\"T_104d5_row1_col9\" class=\"data row1 col9\" >USD</td>\n",
       "      <td id=\"T_104d5_row1_col10\" class=\"data row1 col10\" >TERSOFR6M</td>\n",
       "      <td id=\"T_104d5_row1_col11\" class=\"data row1 col11\" >1.6619%</td>\n",
       "      <td id=\"T_104d5_row1_col12\" class=\"data row1 col12\" >0.0000%</td>\n",
       "      <td id=\"T_104d5_row1_col13\" class=\"data row1 col13\" >1.00</td>\n",
       "      <td id=\"T_104d5_row1_col14\" class=\"data row1 col14\" >LinAct360</td>\n",
       "    </tr>\n",
       "    <tr>\n",
       "      <th id=\"T_104d5_level0_row2\" class=\"row_heading level0 row2\" >2</th>\n",
       "      <td id=\"T_104d5_row2_col0\" class=\"data row2 col0\" >2020-11-12</td>\n",
       "      <td id=\"T_104d5_row2_col1\" class=\"data row2 col1\" >2021-05-12</td>\n",
       "      <td id=\"T_104d5_row2_col2\" class=\"data row2 col2\" >2020-11-10</td>\n",
       "      <td id=\"T_104d5_row2_col3\" class=\"data row2 col3\" >2021-05-12</td>\n",
       "      <td id=\"T_104d5_row2_col4\" class=\"data row2 col4\" >20,000,000.00</td>\n",
       "      <td id=\"T_104d5_row2_col5\" class=\"data row2 col5\" >20,000,000.00</td>\n",
       "      <td id=\"T_104d5_row2_col6\" class=\"data row2 col6\" >155,899.59</td>\n",
       "      <td id=\"T_104d5_row2_col7\" class=\"data row2 col7\" >True</td>\n",
       "      <td id=\"T_104d5_row2_col8\" class=\"data row2 col8\" >20,155,899.59</td>\n",
       "      <td id=\"T_104d5_row2_col9\" class=\"data row2 col9\" >USD</td>\n",
       "      <td id=\"T_104d5_row2_col10\" class=\"data row2 col10\" >TERSOFR6M</td>\n",
       "      <td id=\"T_104d5_row2_col11\" class=\"data row2 col11\" >1.5504%</td>\n",
       "      <td id=\"T_104d5_row2_col12\" class=\"data row2 col12\" >0.0000%</td>\n",
       "      <td id=\"T_104d5_row2_col13\" class=\"data row2 col13\" >1.00</td>\n",
       "      <td id=\"T_104d5_row2_col14\" class=\"data row2 col14\" >LinAct360</td>\n",
       "    </tr>\n",
       "  </tbody>\n",
       "</table>\n"
      ],
      "text/plain": [
       "<pandas.io.formats.style.Styler at 0x12be90650>"
      ]
     },
     "execution_count": 142,
     "metadata": {},
     "output_type": "execute_result"
    }
   ],
   "source": [
    "aux.leg_as_dataframe(ibor_leg).style.format(format_dict)"
   ]
  },
  {
   "cell_type": "markdown",
   "metadata": {},
   "source": [
    "Se verifica la tasa forward del segundo cashflow."
   ]
  },
  {
   "cell_type": "code",
   "execution_count": 143,
   "metadata": {
    "execution": {
     "iopub.execute_input": "2024-06-09T20:11:20.653388Z",
     "iopub.status.busy": "2024-06-09T20:11:20.652952Z",
     "iopub.status.idle": "2024-06-09T20:11:20.658171Z",
     "shell.execute_reply": "2024-06-09T20:11:20.657544Z",
     "shell.execute_reply.started": "2024-06-09T20:11:20.653365Z"
    }
   },
   "outputs": [
    {
     "name": "stdout",
     "output_type": "stream",
     "text": [
      "d1: 77\n",
      "d2: 261\n",
      "Factor forward: 100.8494%\n",
      "Tasa forward: 1.6619%\n",
      "Curve method 1.6619%\n"
     ]
    }
   ],
   "source": [
    "which_cashflow = 1\n",
    "d1 = fecha_hoy.day_diff(ibor_leg.get_cashflow_at(which_cashflow).get_start_date())\n",
    "d2 = fecha_hoy.day_diff(ibor_leg.get_cashflow_at(which_cashflow).get_end_date())\n",
    "print(f\"d1: {d1:,.0f}\")\n",
    "print(f\"d2: {d2:,.0f}\")\n",
    "crv = zcc_usd\n",
    "w1 = 1 / crv.get_discount_factor_at(d1)\n",
    "w2 = 1 / crv.get_discount_factor_at(d2)\n",
    "print(f\"Factor forward: {w2 / w1:.4%}\")\n",
    "print(f\"Tasa forward: {(w2 / w1 - 1) * 360 / (d2 - d1):.4%}\")\n",
    "print(f\"Curve method {crv.get_forward_rate_with_rate(termsofr_6m.get_rate(), d1, d2):.4%}\")"
   ]
  },
  {
   "cell_type": "markdown",
   "metadata": {},
   "source": [
    "Cálculo de valor presente."
   ]
  },
  {
   "cell_type": "code",
   "execution_count": 144,
   "metadata": {
    "cell_style": "center",
    "execution": {
     "iopub.execute_input": "2024-06-09T20:11:21.663036Z",
     "iopub.status.busy": "2024-06-09T20:11:21.662775Z",
     "iopub.status.idle": "2024-06-09T20:11:21.666337Z",
     "shell.execute_reply": "2024-06-09T20:11:21.665710Z",
     "shell.execute_reply.started": "2024-06-09T20:11:21.663014Z"
    }
   },
   "outputs": [
    {
     "name": "stdout",
     "output_type": "stream",
     "text": [
      "Valor presente pata IBOR: 20,126,209\n"
     ]
    }
   ],
   "source": [
    "vp_ibor = pv.pv(fecha_hoy, ibor_leg, zcc_usd)\n",
    "print(f\"Valor presente pata IBOR: {vp_ibor:,.0f}\")"
   ]
  },
  {
   "cell_type": "markdown",
   "metadata": {},
   "source": [
    "Derivadas del valor presente."
   ]
  },
  {
   "cell_type": "code",
   "execution_count": 145,
   "metadata": {
    "execution": {
     "iopub.execute_input": "2024-06-09T20:11:22.980925Z",
     "iopub.status.busy": "2024-06-09T20:11:22.980619Z",
     "iopub.status.idle": "2024-06-09T20:11:22.986555Z",
     "shell.execute_reply": "2024-06-09T20:11:22.985726Z",
     "shell.execute_reply.started": "2024-06-09T20:11:22.980899Z"
    }
   },
   "outputs": [
    {
     "name": "stdout",
     "output_type": "stream",
     "text": [
      "Sensibilidad en 0: 0\n",
      "Sensibilidad en 1: 0\n",
      "Sensibilidad en 2: 0\n",
      "Sensibilidad en 3: 0\n",
      "Sensibilidad en 4: 0\n",
      "Sensibilidad en 5: -2\n",
      "Sensibilidad en 6: -2\n",
      "Sensibilidad en 7: 0\n",
      "Sensibilidad en 8: 0\n",
      "Sensibilidad en 9: 0\n",
      "Sensibilidad en 10: 0\n",
      "Sensibilidad en 11: -6\n",
      "Sensibilidad en 12: -6\n",
      "Sensibilidad en 13: 0\n",
      "Sensibilidad en 14: 0\n",
      "Sensibilidad en 15: -1,407\n",
      "Sensibilidad en 16: -986\n",
      "Sensibilidad en 17: 0\n",
      "Sensibilidad en 18: 0\n",
      "Sensibilidad en 19: 0\n",
      "Sensibilidad en 20: 0\n",
      "Sensibilidad en 21: 0\n",
      "Sensibilidad en 22: 0\n",
      "Sensibilidad en 23: 0\n",
      "Sensibilidad en 24: 0\n",
      "Sensibilidad en 25: 0\n",
      "Sensibilidad en 26: 0\n",
      "Sensibilidad en 27: 0\n",
      "\n",
      "Sensibilidad de descuento: -2,409 USD\n"
     ]
    }
   ],
   "source": [
    "der = pv.get_derivatives()\n",
    "i = 0\n",
    "for d in der:\n",
    "    print(f\"Sensibilidad en {i}: {d * bp / 10_000:0,.0f}\")\n",
    "    i += 1\n",
    "print()\n",
    "print(f\"Sensibilidad de descuento: {sum(der) * bp / 10_000:,.0f} USD\")"
   ]
  },
  {
   "cell_type": "markdown",
   "metadata": {},
   "source": [
    "#### Se verifica la sensibilidad de descuento por diferencias finitas."
   ]
  },
  {
   "cell_type": "code",
   "execution_count": 146,
   "metadata": {
    "execution": {
     "iopub.execute_input": "2024-06-09T20:11:25.184315Z",
     "iopub.status.busy": "2024-06-09T20:11:25.183947Z",
     "iopub.status.idle": "2024-06-09T20:11:25.190230Z",
     "shell.execute_reply": "2024-06-09T20:11:25.189310Z",
     "shell.execute_reply.started": "2024-06-09T20:11:25.184284Z"
    }
   },
   "outputs": [
    {
     "name": "stdout",
     "output_type": "stream",
     "text": [
      "Valor presente up pata IBOR: 20,124,803\n",
      "Valor presente down pata IBOR: 20,127,616\n",
      "Sensibilidad de descuento en el vértice 15: -1,407\n"
     ]
    }
   ],
   "source": [
    "vp_ibor_up = pv.pv(fecha_hoy, ibor_leg, zcc_usd_up)\n",
    "print(f\"Valor presente up pata IBOR: {vp_ibor_up:,.0f}\")\n",
    "\n",
    "vp_ibor_down = pv.pv(fecha_hoy, ibor_leg, zcc_usd_down)\n",
    "print(f\"Valor presente down pata IBOR: {vp_ibor_down:,.0f}\")\n",
    "\n",
    "print(f\"Sensibilidad de descuento en el vértice {vertice}: {(vp_ibor_up - vp_ibor_down) / 2:,.0f}\")"
   ]
  },
  {
   "cell_type": "markdown",
   "metadata": {},
   "source": [
    "Se calcula también la sensibilidad a la curva de proyección."
   ]
  },
  {
   "cell_type": "code",
   "execution_count": 148,
   "metadata": {
    "execution": {
     "iopub.execute_input": "2024-06-09T20:12:47.775952Z",
     "iopub.status.busy": "2024-06-09T20:12:47.775597Z",
     "iopub.status.idle": "2024-06-09T20:12:47.784107Z",
     "shell.execute_reply": "2024-06-09T20:12:47.783276Z",
     "shell.execute_reply.started": "2024-06-09T20:12:47.775921Z"
    }
   },
   "outputs": [
    {
     "name": "stdout",
     "output_type": "stream",
     "text": [
      "Sensibilidad en 0: 0\n",
      "Sensibilidad en 1: 0\n",
      "Sensibilidad en 2: 0\n",
      "Sensibilidad en 3: 0\n",
      "Sensibilidad en 4: 0\n",
      "Sensibilidad en 5: -190\n",
      "Sensibilidad en 6: -231\n",
      "Sensibilidad en 7: 0\n",
      "Sensibilidad en 8: 0\n",
      "Sensibilidad en 9: 0\n",
      "Sensibilidad en 10: 0\n",
      "Sensibilidad en 11: 6\n",
      "Sensibilidad en 12: 6\n",
      "Sensibilidad en 13: 0\n",
      "Sensibilidad en 14: 0\n",
      "Sensibilidad en 15: 1,407\n",
      "Sensibilidad en 16: 986\n",
      "Sensibilidad en 17: 0\n",
      "Sensibilidad en 18: 0\n",
      "Sensibilidad en 19: 0\n",
      "Sensibilidad en 20: 0\n",
      "Sensibilidad en 21: 0\n",
      "Sensibilidad en 22: 0\n",
      "Sensibilidad en 23: 0\n",
      "Sensibilidad en 24: 0\n",
      "Sensibilidad en 25: 0\n",
      "Sensibilidad en 26: 0\n",
      "Sensibilidad en 27: 0\n",
      "\n",
      "Sensibilidad de proyección: 1,984 USD\n"
     ]
    }
   ],
   "source": [
    "result = []\n",
    "\n",
    "for i in range(ibor_leg.size()):\n",
    "    cshflw = ibor_leg.get_cashflow_at(i)\n",
    "    df = zcc_usd.get_discount_factor_at(fecha_hoy.day_diff(cshflw.get_settlement_date()))\n",
    "    amt_der = cshflw.get_amount_derivatives()\n",
    "    if len(amt_der) > 0:\n",
    "        amt_der = [a * bp / 10_000 * df for a in amt_der]\n",
    "        result.append(np.array(amt_der))\n",
    "\n",
    "total = result[0] * 0\n",
    "for r in result:\n",
    "    total += r\n",
    "\n",
    "for i in range(len(total)):\n",
    "    print(f\"Sensibilidad en {i}: {total[i]:0,.0f}\")\n",
    "print()\n",
    "print(f\"Sensibilidad de proyección: {sum(total):,.0f} USD\")"
   ]
  },
  {
   "cell_type": "markdown",
   "metadata": {},
   "source": [
    "#### Se verifica la sensibilidad de proyección por diferencias finitas."
   ]
  },
  {
   "cell_type": "code",
   "execution_count": 150,
   "metadata": {
    "execution": {
     "iopub.execute_input": "2024-06-09T20:14:27.854335Z",
     "iopub.status.busy": "2024-06-09T20:14:27.854011Z",
     "iopub.status.idle": "2024-06-09T20:14:27.860059Z",
     "shell.execute_reply": "2024-06-09T20:14:27.859294Z",
     "shell.execute_reply.started": "2024-06-09T20:14:27.854307Z"
    }
   },
   "outputs": [
    {
     "name": "stdout",
     "output_type": "stream",
     "text": [
      "Valor presente up pata IBOR: 20,127,616\n",
      "Valor presente down pata IBOR: 20,124,803\n",
      "Sensibilidad de proyección en el vértice 15: 1,407\n"
     ]
    }
   ],
   "source": [
    "fwd_rates.set_rates_ibor_leg1(fecha_hoy, ibor_leg, zcc_usd_up)\n",
    "vp_ibor_up = pv.pv(fecha_hoy, ibor_leg, zcc_usd)\n",
    "print(f\"Valor presente up pata IBOR: {vp_ibor_up:,.0f}\")\n",
    "\n",
    "fwd_rates.set_rates_ibor_leg1(fecha_hoy, ibor_leg, zcc_usd_down)\n",
    "vp_ibor_down = pv.pv(fecha_hoy, ibor_leg, zcc_usd)\n",
    "print(f\"Valor presente down pata IBOR: {vp_ibor_down:,.0f}\")\n",
    "\n",
    "print(f\"Sensibilidad de proyección en el vértice {vertice}: {(vp_ibor_up - vp_ibor_down) / 2:,.0f}\")"
   ]
  },
  {
   "cell_type": "markdown",
   "metadata": {},
   "source": [
    "### IcpClfCashflow Leg"
   ]
  },
  {
   "cell_type": "markdown",
   "metadata": {},
   "source": [
    "Se da de alta una pata de tipo IcpClfCashflow."
   ]
  },
  {
   "cell_type": "code",
   "execution_count": 176,
   "metadata": {
    "execution": {
     "iopub.execute_input": "2024-06-09T21:10:57.133249Z",
     "iopub.status.busy": "2024-06-09T21:10:57.132870Z",
     "iopub.status.idle": "2024-06-09T21:10:57.139968Z",
     "shell.execute_reply": "2024-06-09T21:10:57.138746Z",
     "shell.execute_reply.started": "2024-06-09T21:10:57.133218Z"
    }
   },
   "outputs": [],
   "source": [
    "rp = qcf.RecPay.RECEIVE\n",
    "fecha_inicio = qcf.QCDate(31, 5, 2018)\n",
    "fecha_final = qcf.QCDate(31, 3, 2021) \n",
    "bus_adj_rule = qcf.BusyAdjRules.FOLLOW\n",
    "periodicidad_pago = qcf.Tenor('6M')\n",
    "periodo_irregular_pago = qcf.StubPeriod.SHORTFRONT\n",
    "calendario = qcf.BusinessCalendar(fecha_inicio, 20)\n",
    "lag_pago = 0\n",
    "nominal = 300_000.0\n",
    "amort_es_flujo = True \n",
    "spread = .0\n",
    "gearing = 1.0\n",
    "\n",
    "icp_clf_leg = qcf.LegFactory.build_bullet_icp_clf_leg(\n",
    "    rp, \n",
    "    fecha_inicio, \n",
    "    fecha_final, \n",
    "    bus_adj_rule, \n",
    "    periodicidad_pago,\n",
    "    periodo_irregular_pago, \n",
    "    calendario, \n",
    "    lag_pago,\n",
    "    nominal, \n",
    "    amort_es_flujo, \n",
    "    spread, \n",
    "    gearing\n",
    ")"
   ]
  },
  {
   "cell_type": "code",
   "execution_count": 177,
   "metadata": {
    "execution": {
     "iopub.execute_input": "2024-06-09T21:10:57.977194Z",
     "iopub.status.busy": "2024-06-09T21:10:57.976819Z",
     "iopub.status.idle": "2024-06-09T21:10:57.994393Z",
     "shell.execute_reply": "2024-06-09T21:10:57.992560Z",
     "shell.execute_reply.started": "2024-06-09T21:10:57.977166Z"
    }
   },
   "outputs": [
    {
     "data": {
      "text/html": [
       "<style type=\"text/css\">\n",
       "</style>\n",
       "<table id=\"T_47697\">\n",
       "  <thead>\n",
       "    <tr>\n",
       "      <th class=\"blank level0\" >&nbsp;</th>\n",
       "      <th id=\"T_47697_level0_col0\" class=\"col_heading level0 col0\" >fecha_inicial</th>\n",
       "      <th id=\"T_47697_level0_col1\" class=\"col_heading level0 col1\" >fecha_final</th>\n",
       "      <th id=\"T_47697_level0_col2\" class=\"col_heading level0 col2\" >fecha_pago</th>\n",
       "      <th id=\"T_47697_level0_col3\" class=\"col_heading level0 col3\" >nominal</th>\n",
       "      <th id=\"T_47697_level0_col4\" class=\"col_heading level0 col4\" >amortizacion</th>\n",
       "      <th id=\"T_47697_level0_col5\" class=\"col_heading level0 col5\" >amort_es_flujo</th>\n",
       "      <th id=\"T_47697_level0_col6\" class=\"col_heading level0 col6\" >flujo</th>\n",
       "      <th id=\"T_47697_level0_col7\" class=\"col_heading level0 col7\" >moneda</th>\n",
       "      <th id=\"T_47697_level0_col8\" class=\"col_heading level0 col8\" >icp_inicial</th>\n",
       "      <th id=\"T_47697_level0_col9\" class=\"col_heading level0 col9\" >icp_final</th>\n",
       "      <th id=\"T_47697_level0_col10\" class=\"col_heading level0 col10\" >uf_inicial</th>\n",
       "      <th id=\"T_47697_level0_col11\" class=\"col_heading level0 col11\" >uf_final</th>\n",
       "      <th id=\"T_47697_level0_col12\" class=\"col_heading level0 col12\" >valor_tasa</th>\n",
       "      <th id=\"T_47697_level0_col13\" class=\"col_heading level0 col13\" >interes</th>\n",
       "      <th id=\"T_47697_level0_col14\" class=\"col_heading level0 col14\" >spread</th>\n",
       "      <th id=\"T_47697_level0_col15\" class=\"col_heading level0 col15\" >gearing</th>\n",
       "      <th id=\"T_47697_level0_col16\" class=\"col_heading level0 col16\" >tipo_tasa</th>\n",
       "      <th id=\"T_47697_level0_col17\" class=\"col_heading level0 col17\" >flujo_en_clp</th>\n",
       "    </tr>\n",
       "  </thead>\n",
       "  <tbody>\n",
       "    <tr>\n",
       "      <th id=\"T_47697_level0_row0\" class=\"row_heading level0 row0\" >0</th>\n",
       "      <td id=\"T_47697_row0_col0\" class=\"data row0 col0\" >2018-05-31</td>\n",
       "      <td id=\"T_47697_row0_col1\" class=\"data row0 col1\" >2018-10-31</td>\n",
       "      <td id=\"T_47697_row0_col2\" class=\"data row0 col2\" >2018-10-31</td>\n",
       "      <td id=\"T_47697_row0_col3\" class=\"data row0 col3\" >300,000.00</td>\n",
       "      <td id=\"T_47697_row0_col4\" class=\"data row0 col4\" >0.00</td>\n",
       "      <td id=\"T_47697_row0_col5\" class=\"data row0 col5\" >True</td>\n",
       "      <td id=\"T_47697_row0_col6\" class=\"data row0 col6\" >0.00</td>\n",
       "      <td id=\"T_47697_row0_col7\" class=\"data row0 col7\" >CLF</td>\n",
       "      <td id=\"T_47697_row0_col8\" class=\"data row0 col8\" >10,000.00</td>\n",
       "      <td id=\"T_47697_row0_col9\" class=\"data row0 col9\" >10,000.00</td>\n",
       "      <td id=\"T_47697_row0_col10\" class=\"data row0 col10\" >35,000.00</td>\n",
       "      <td id=\"T_47697_row0_col11\" class=\"data row0 col11\" >35,000.00</td>\n",
       "      <td id=\"T_47697_row0_col12\" class=\"data row0 col12\" >0.0000%</td>\n",
       "      <td id=\"T_47697_row0_col13\" class=\"data row0 col13\" >0.00</td>\n",
       "      <td id=\"T_47697_row0_col14\" class=\"data row0 col14\" >0.0000%</td>\n",
       "      <td id=\"T_47697_row0_col15\" class=\"data row0 col15\" >1.00</td>\n",
       "      <td id=\"T_47697_row0_col16\" class=\"data row0 col16\" >LinAct360</td>\n",
       "      <td id=\"T_47697_row0_col17\" class=\"data row0 col17\" >0.00</td>\n",
       "    </tr>\n",
       "    <tr>\n",
       "      <th id=\"T_47697_level0_row1\" class=\"row_heading level0 row1\" >1</th>\n",
       "      <td id=\"T_47697_row1_col0\" class=\"data row1 col0\" >2018-10-31</td>\n",
       "      <td id=\"T_47697_row1_col1\" class=\"data row1 col1\" >2019-04-30</td>\n",
       "      <td id=\"T_47697_row1_col2\" class=\"data row1 col2\" >2019-04-30</td>\n",
       "      <td id=\"T_47697_row1_col3\" class=\"data row1 col3\" >300,000.00</td>\n",
       "      <td id=\"T_47697_row1_col4\" class=\"data row1 col4\" >0.00</td>\n",
       "      <td id=\"T_47697_row1_col5\" class=\"data row1 col5\" >True</td>\n",
       "      <td id=\"T_47697_row1_col6\" class=\"data row1 col6\" >0.00</td>\n",
       "      <td id=\"T_47697_row1_col7\" class=\"data row1 col7\" >CLF</td>\n",
       "      <td id=\"T_47697_row1_col8\" class=\"data row1 col8\" >10,000.00</td>\n",
       "      <td id=\"T_47697_row1_col9\" class=\"data row1 col9\" >10,000.00</td>\n",
       "      <td id=\"T_47697_row1_col10\" class=\"data row1 col10\" >35,000.00</td>\n",
       "      <td id=\"T_47697_row1_col11\" class=\"data row1 col11\" >35,000.00</td>\n",
       "      <td id=\"T_47697_row1_col12\" class=\"data row1 col12\" >0.0000%</td>\n",
       "      <td id=\"T_47697_row1_col13\" class=\"data row1 col13\" >0.00</td>\n",
       "      <td id=\"T_47697_row1_col14\" class=\"data row1 col14\" >0.0000%</td>\n",
       "      <td id=\"T_47697_row1_col15\" class=\"data row1 col15\" >1.00</td>\n",
       "      <td id=\"T_47697_row1_col16\" class=\"data row1 col16\" >LinAct360</td>\n",
       "      <td id=\"T_47697_row1_col17\" class=\"data row1 col17\" >0.00</td>\n",
       "    </tr>\n",
       "    <tr>\n",
       "      <th id=\"T_47697_level0_row2\" class=\"row_heading level0 row2\" >2</th>\n",
       "      <td id=\"T_47697_row2_col0\" class=\"data row2 col0\" >2019-04-30</td>\n",
       "      <td id=\"T_47697_row2_col1\" class=\"data row2 col1\" >2019-10-31</td>\n",
       "      <td id=\"T_47697_row2_col2\" class=\"data row2 col2\" >2019-10-31</td>\n",
       "      <td id=\"T_47697_row2_col3\" class=\"data row2 col3\" >300,000.00</td>\n",
       "      <td id=\"T_47697_row2_col4\" class=\"data row2 col4\" >0.00</td>\n",
       "      <td id=\"T_47697_row2_col5\" class=\"data row2 col5\" >True</td>\n",
       "      <td id=\"T_47697_row2_col6\" class=\"data row2 col6\" >0.00</td>\n",
       "      <td id=\"T_47697_row2_col7\" class=\"data row2 col7\" >CLF</td>\n",
       "      <td id=\"T_47697_row2_col8\" class=\"data row2 col8\" >10,000.00</td>\n",
       "      <td id=\"T_47697_row2_col9\" class=\"data row2 col9\" >10,000.00</td>\n",
       "      <td id=\"T_47697_row2_col10\" class=\"data row2 col10\" >35,000.00</td>\n",
       "      <td id=\"T_47697_row2_col11\" class=\"data row2 col11\" >35,000.00</td>\n",
       "      <td id=\"T_47697_row2_col12\" class=\"data row2 col12\" >0.0000%</td>\n",
       "      <td id=\"T_47697_row2_col13\" class=\"data row2 col13\" >0.00</td>\n",
       "      <td id=\"T_47697_row2_col14\" class=\"data row2 col14\" >0.0000%</td>\n",
       "      <td id=\"T_47697_row2_col15\" class=\"data row2 col15\" >1.00</td>\n",
       "      <td id=\"T_47697_row2_col16\" class=\"data row2 col16\" >LinAct360</td>\n",
       "      <td id=\"T_47697_row2_col17\" class=\"data row2 col17\" >0.00</td>\n",
       "    </tr>\n",
       "    <tr>\n",
       "      <th id=\"T_47697_level0_row3\" class=\"row_heading level0 row3\" >3</th>\n",
       "      <td id=\"T_47697_row3_col0\" class=\"data row3 col0\" >2019-10-31</td>\n",
       "      <td id=\"T_47697_row3_col1\" class=\"data row3 col1\" >2020-04-30</td>\n",
       "      <td id=\"T_47697_row3_col2\" class=\"data row3 col2\" >2020-04-30</td>\n",
       "      <td id=\"T_47697_row3_col3\" class=\"data row3 col3\" >300,000.00</td>\n",
       "      <td id=\"T_47697_row3_col4\" class=\"data row3 col4\" >0.00</td>\n",
       "      <td id=\"T_47697_row3_col5\" class=\"data row3 col5\" >True</td>\n",
       "      <td id=\"T_47697_row3_col6\" class=\"data row3 col6\" >0.00</td>\n",
       "      <td id=\"T_47697_row3_col7\" class=\"data row3 col7\" >CLF</td>\n",
       "      <td id=\"T_47697_row3_col8\" class=\"data row3 col8\" >10,000.00</td>\n",
       "      <td id=\"T_47697_row3_col9\" class=\"data row3 col9\" >10,000.00</td>\n",
       "      <td id=\"T_47697_row3_col10\" class=\"data row3 col10\" >35,000.00</td>\n",
       "      <td id=\"T_47697_row3_col11\" class=\"data row3 col11\" >35,000.00</td>\n",
       "      <td id=\"T_47697_row3_col12\" class=\"data row3 col12\" >0.0000%</td>\n",
       "      <td id=\"T_47697_row3_col13\" class=\"data row3 col13\" >0.00</td>\n",
       "      <td id=\"T_47697_row3_col14\" class=\"data row3 col14\" >0.0000%</td>\n",
       "      <td id=\"T_47697_row3_col15\" class=\"data row3 col15\" >1.00</td>\n",
       "      <td id=\"T_47697_row3_col16\" class=\"data row3 col16\" >LinAct360</td>\n",
       "      <td id=\"T_47697_row3_col17\" class=\"data row3 col17\" >0.00</td>\n",
       "    </tr>\n",
       "    <tr>\n",
       "      <th id=\"T_47697_level0_row4\" class=\"row_heading level0 row4\" >4</th>\n",
       "      <td id=\"T_47697_row4_col0\" class=\"data row4 col0\" >2020-04-30</td>\n",
       "      <td id=\"T_47697_row4_col1\" class=\"data row4 col1\" >2020-11-02</td>\n",
       "      <td id=\"T_47697_row4_col2\" class=\"data row4 col2\" >2020-11-02</td>\n",
       "      <td id=\"T_47697_row4_col3\" class=\"data row4 col3\" >300,000.00</td>\n",
       "      <td id=\"T_47697_row4_col4\" class=\"data row4 col4\" >0.00</td>\n",
       "      <td id=\"T_47697_row4_col5\" class=\"data row4 col5\" >True</td>\n",
       "      <td id=\"T_47697_row4_col6\" class=\"data row4 col6\" >0.00</td>\n",
       "      <td id=\"T_47697_row4_col7\" class=\"data row4 col7\" >CLF</td>\n",
       "      <td id=\"T_47697_row4_col8\" class=\"data row4 col8\" >10,000.00</td>\n",
       "      <td id=\"T_47697_row4_col9\" class=\"data row4 col9\" >10,000.00</td>\n",
       "      <td id=\"T_47697_row4_col10\" class=\"data row4 col10\" >35,000.00</td>\n",
       "      <td id=\"T_47697_row4_col11\" class=\"data row4 col11\" >35,000.00</td>\n",
       "      <td id=\"T_47697_row4_col12\" class=\"data row4 col12\" >0.0000%</td>\n",
       "      <td id=\"T_47697_row4_col13\" class=\"data row4 col13\" >0.00</td>\n",
       "      <td id=\"T_47697_row4_col14\" class=\"data row4 col14\" >0.0000%</td>\n",
       "      <td id=\"T_47697_row4_col15\" class=\"data row4 col15\" >1.00</td>\n",
       "      <td id=\"T_47697_row4_col16\" class=\"data row4 col16\" >LinAct360</td>\n",
       "      <td id=\"T_47697_row4_col17\" class=\"data row4 col17\" >0.00</td>\n",
       "    </tr>\n",
       "    <tr>\n",
       "      <th id=\"T_47697_level0_row5\" class=\"row_heading level0 row5\" >5</th>\n",
       "      <td id=\"T_47697_row5_col0\" class=\"data row5 col0\" >2020-11-02</td>\n",
       "      <td id=\"T_47697_row5_col1\" class=\"data row5 col1\" >2021-04-30</td>\n",
       "      <td id=\"T_47697_row5_col2\" class=\"data row5 col2\" >2021-04-30</td>\n",
       "      <td id=\"T_47697_row5_col3\" class=\"data row5 col3\" >300,000.00</td>\n",
       "      <td id=\"T_47697_row5_col4\" class=\"data row5 col4\" >300,000.00</td>\n",
       "      <td id=\"T_47697_row5_col5\" class=\"data row5 col5\" >True</td>\n",
       "      <td id=\"T_47697_row5_col6\" class=\"data row5 col6\" >300,000.00</td>\n",
       "      <td id=\"T_47697_row5_col7\" class=\"data row5 col7\" >CLF</td>\n",
       "      <td id=\"T_47697_row5_col8\" class=\"data row5 col8\" >10,000.00</td>\n",
       "      <td id=\"T_47697_row5_col9\" class=\"data row5 col9\" >10,000.00</td>\n",
       "      <td id=\"T_47697_row5_col10\" class=\"data row5 col10\" >35,000.00</td>\n",
       "      <td id=\"T_47697_row5_col11\" class=\"data row5 col11\" >35,000.00</td>\n",
       "      <td id=\"T_47697_row5_col12\" class=\"data row5 col12\" >0.0000%</td>\n",
       "      <td id=\"T_47697_row5_col13\" class=\"data row5 col13\" >0.00</td>\n",
       "      <td id=\"T_47697_row5_col14\" class=\"data row5 col14\" >0.0000%</td>\n",
       "      <td id=\"T_47697_row5_col15\" class=\"data row5 col15\" >1.00</td>\n",
       "      <td id=\"T_47697_row5_col16\" class=\"data row5 col16\" >LinAct360</td>\n",
       "      <td id=\"T_47697_row5_col17\" class=\"data row5 col17\" >10,500,000,000.00</td>\n",
       "    </tr>\n",
       "  </tbody>\n",
       "</table>\n"
      ],
      "text/plain": [
       "<pandas.io.formats.style.Styler at 0x12bda7810>"
      ]
     },
     "execution_count": 177,
     "metadata": {},
     "output_type": "execute_result"
    }
   ],
   "source": [
    "aux.leg_as_dataframe(icp_clf_leg).style.format(format_dict)"
   ]
  },
  {
   "cell_type": "code",
   "execution_count": 178,
   "metadata": {
    "execution": {
     "iopub.execute_input": "2024-06-09T21:10:58.528757Z",
     "iopub.status.busy": "2024-06-09T21:10:58.528417Z",
     "iopub.status.idle": "2024-06-09T21:10:58.533907Z",
     "shell.execute_reply": "2024-06-09T21:10:58.533006Z",
     "shell.execute_reply.started": "2024-06-09T21:10:58.528730Z"
    }
   },
   "outputs": [],
   "source": [
    "icp_hoy = 18_882.07\n",
    "uf_hoy = 28_440.19\n",
    "fwd_rates.set_rates_icp_clf_leg(fecha_hoy, icp_hoy, uf_hoy, icp_clf_leg, zcc_clp, zcc_clp, zcc_clf)\n",
    "cshflw = icp_clf_leg.get_cashflow_at(3)\n",
    "cshflw.set_start_date_uf(28_080.26)\n",
    "cshflw.set_start_date_icp(18_786.13)"
   ]
  },
  {
   "cell_type": "code",
   "execution_count": 179,
   "metadata": {
    "execution": {
     "iopub.execute_input": "2024-06-09T21:10:59.278986Z",
     "iopub.status.busy": "2024-06-09T21:10:59.278570Z",
     "iopub.status.idle": "2024-06-09T21:10:59.296995Z",
     "shell.execute_reply": "2024-06-09T21:10:59.295502Z",
     "shell.execute_reply.started": "2024-06-09T21:10:59.278947Z"
    }
   },
   "outputs": [
    {
     "data": {
      "text/html": [
       "<style type=\"text/css\">\n",
       "</style>\n",
       "<table id=\"T_ed163\">\n",
       "  <thead>\n",
       "    <tr>\n",
       "      <th class=\"blank level0\" >&nbsp;</th>\n",
       "      <th id=\"T_ed163_level0_col0\" class=\"col_heading level0 col0\" >fecha_inicial</th>\n",
       "      <th id=\"T_ed163_level0_col1\" class=\"col_heading level0 col1\" >fecha_final</th>\n",
       "      <th id=\"T_ed163_level0_col2\" class=\"col_heading level0 col2\" >fecha_pago</th>\n",
       "      <th id=\"T_ed163_level0_col3\" class=\"col_heading level0 col3\" >nominal</th>\n",
       "      <th id=\"T_ed163_level0_col4\" class=\"col_heading level0 col4\" >amortizacion</th>\n",
       "      <th id=\"T_ed163_level0_col5\" class=\"col_heading level0 col5\" >amort_es_flujo</th>\n",
       "      <th id=\"T_ed163_level0_col6\" class=\"col_heading level0 col6\" >flujo</th>\n",
       "      <th id=\"T_ed163_level0_col7\" class=\"col_heading level0 col7\" >moneda</th>\n",
       "      <th id=\"T_ed163_level0_col8\" class=\"col_heading level0 col8\" >icp_inicial</th>\n",
       "      <th id=\"T_ed163_level0_col9\" class=\"col_heading level0 col9\" >icp_final</th>\n",
       "      <th id=\"T_ed163_level0_col10\" class=\"col_heading level0 col10\" >uf_inicial</th>\n",
       "      <th id=\"T_ed163_level0_col11\" class=\"col_heading level0 col11\" >uf_final</th>\n",
       "      <th id=\"T_ed163_level0_col12\" class=\"col_heading level0 col12\" >valor_tasa</th>\n",
       "      <th id=\"T_ed163_level0_col13\" class=\"col_heading level0 col13\" >interes</th>\n",
       "      <th id=\"T_ed163_level0_col14\" class=\"col_heading level0 col14\" >spread</th>\n",
       "      <th id=\"T_ed163_level0_col15\" class=\"col_heading level0 col15\" >gearing</th>\n",
       "      <th id=\"T_ed163_level0_col16\" class=\"col_heading level0 col16\" >tipo_tasa</th>\n",
       "      <th id=\"T_ed163_level0_col17\" class=\"col_heading level0 col17\" >flujo_en_clp</th>\n",
       "    </tr>\n",
       "  </thead>\n",
       "  <tbody>\n",
       "    <tr>\n",
       "      <th id=\"T_ed163_level0_row0\" class=\"row_heading level0 row0\" >0</th>\n",
       "      <td id=\"T_ed163_row0_col0\" class=\"data row0 col0\" >2018-05-31</td>\n",
       "      <td id=\"T_ed163_row0_col1\" class=\"data row0 col1\" >2018-10-31</td>\n",
       "      <td id=\"T_ed163_row0_col2\" class=\"data row0 col2\" >2018-10-31</td>\n",
       "      <td id=\"T_ed163_row0_col3\" class=\"data row0 col3\" >300,000.00</td>\n",
       "      <td id=\"T_ed163_row0_col4\" class=\"data row0 col4\" >0.00</td>\n",
       "      <td id=\"T_ed163_row0_col5\" class=\"data row0 col5\" >True</td>\n",
       "      <td id=\"T_ed163_row0_col6\" class=\"data row0 col6\" >0.00</td>\n",
       "      <td id=\"T_ed163_row0_col7\" class=\"data row0 col7\" >CLF</td>\n",
       "      <td id=\"T_ed163_row0_col8\" class=\"data row0 col8\" >10,000.00</td>\n",
       "      <td id=\"T_ed163_row0_col9\" class=\"data row0 col9\" >10,000.00</td>\n",
       "      <td id=\"T_ed163_row0_col10\" class=\"data row0 col10\" >35,000.00</td>\n",
       "      <td id=\"T_ed163_row0_col11\" class=\"data row0 col11\" >35,000.00</td>\n",
       "      <td id=\"T_ed163_row0_col12\" class=\"data row0 col12\" >0.0000%</td>\n",
       "      <td id=\"T_ed163_row0_col13\" class=\"data row0 col13\" >0.00</td>\n",
       "      <td id=\"T_ed163_row0_col14\" class=\"data row0 col14\" >0.0000%</td>\n",
       "      <td id=\"T_ed163_row0_col15\" class=\"data row0 col15\" >1.00</td>\n",
       "      <td id=\"T_ed163_row0_col16\" class=\"data row0 col16\" >LinAct360</td>\n",
       "      <td id=\"T_ed163_row0_col17\" class=\"data row0 col17\" >0.00</td>\n",
       "    </tr>\n",
       "    <tr>\n",
       "      <th id=\"T_ed163_level0_row1\" class=\"row_heading level0 row1\" >1</th>\n",
       "      <td id=\"T_ed163_row1_col0\" class=\"data row1 col0\" >2018-10-31</td>\n",
       "      <td id=\"T_ed163_row1_col1\" class=\"data row1 col1\" >2019-04-30</td>\n",
       "      <td id=\"T_ed163_row1_col2\" class=\"data row1 col2\" >2019-04-30</td>\n",
       "      <td id=\"T_ed163_row1_col3\" class=\"data row1 col3\" >300,000.00</td>\n",
       "      <td id=\"T_ed163_row1_col4\" class=\"data row1 col4\" >0.00</td>\n",
       "      <td id=\"T_ed163_row1_col5\" class=\"data row1 col5\" >True</td>\n",
       "      <td id=\"T_ed163_row1_col6\" class=\"data row1 col6\" >0.00</td>\n",
       "      <td id=\"T_ed163_row1_col7\" class=\"data row1 col7\" >CLF</td>\n",
       "      <td id=\"T_ed163_row1_col8\" class=\"data row1 col8\" >10,000.00</td>\n",
       "      <td id=\"T_ed163_row1_col9\" class=\"data row1 col9\" >10,000.00</td>\n",
       "      <td id=\"T_ed163_row1_col10\" class=\"data row1 col10\" >35,000.00</td>\n",
       "      <td id=\"T_ed163_row1_col11\" class=\"data row1 col11\" >35,000.00</td>\n",
       "      <td id=\"T_ed163_row1_col12\" class=\"data row1 col12\" >0.0000%</td>\n",
       "      <td id=\"T_ed163_row1_col13\" class=\"data row1 col13\" >0.00</td>\n",
       "      <td id=\"T_ed163_row1_col14\" class=\"data row1 col14\" >0.0000%</td>\n",
       "      <td id=\"T_ed163_row1_col15\" class=\"data row1 col15\" >1.00</td>\n",
       "      <td id=\"T_ed163_row1_col16\" class=\"data row1 col16\" >LinAct360</td>\n",
       "      <td id=\"T_ed163_row1_col17\" class=\"data row1 col17\" >0.00</td>\n",
       "    </tr>\n",
       "    <tr>\n",
       "      <th id=\"T_ed163_level0_row2\" class=\"row_heading level0 row2\" >2</th>\n",
       "      <td id=\"T_ed163_row2_col0\" class=\"data row2 col0\" >2019-04-30</td>\n",
       "      <td id=\"T_ed163_row2_col1\" class=\"data row2 col1\" >2019-10-31</td>\n",
       "      <td id=\"T_ed163_row2_col2\" class=\"data row2 col2\" >2019-10-31</td>\n",
       "      <td id=\"T_ed163_row2_col3\" class=\"data row2 col3\" >300,000.00</td>\n",
       "      <td id=\"T_ed163_row2_col4\" class=\"data row2 col4\" >0.00</td>\n",
       "      <td id=\"T_ed163_row2_col5\" class=\"data row2 col5\" >True</td>\n",
       "      <td id=\"T_ed163_row2_col6\" class=\"data row2 col6\" >0.00</td>\n",
       "      <td id=\"T_ed163_row2_col7\" class=\"data row2 col7\" >CLF</td>\n",
       "      <td id=\"T_ed163_row2_col8\" class=\"data row2 col8\" >10,000.00</td>\n",
       "      <td id=\"T_ed163_row2_col9\" class=\"data row2 col9\" >10,000.00</td>\n",
       "      <td id=\"T_ed163_row2_col10\" class=\"data row2 col10\" >35,000.00</td>\n",
       "      <td id=\"T_ed163_row2_col11\" class=\"data row2 col11\" >35,000.00</td>\n",
       "      <td id=\"T_ed163_row2_col12\" class=\"data row2 col12\" >0.0000%</td>\n",
       "      <td id=\"T_ed163_row2_col13\" class=\"data row2 col13\" >0.00</td>\n",
       "      <td id=\"T_ed163_row2_col14\" class=\"data row2 col14\" >0.0000%</td>\n",
       "      <td id=\"T_ed163_row2_col15\" class=\"data row2 col15\" >1.00</td>\n",
       "      <td id=\"T_ed163_row2_col16\" class=\"data row2 col16\" >LinAct360</td>\n",
       "      <td id=\"T_ed163_row2_col17\" class=\"data row2 col17\" >0.00</td>\n",
       "    </tr>\n",
       "    <tr>\n",
       "      <th id=\"T_ed163_level0_row3\" class=\"row_heading level0 row3\" >3</th>\n",
       "      <td id=\"T_ed163_row3_col0\" class=\"data row3 col0\" >2019-10-31</td>\n",
       "      <td id=\"T_ed163_row3_col1\" class=\"data row3 col1\" >2020-04-30</td>\n",
       "      <td id=\"T_ed163_row3_col2\" class=\"data row3 col2\" >2020-04-30</td>\n",
       "      <td id=\"T_ed163_row3_col3\" class=\"data row3 col3\" >300,000.00</td>\n",
       "      <td id=\"T_ed163_row3_col4\" class=\"data row3 col4\" >0.00</td>\n",
       "      <td id=\"T_ed163_row3_col5\" class=\"data row3 col5\" >True</td>\n",
       "      <td id=\"T_ed163_row3_col6\" class=\"data row3 col6\" >-3,401.28</td>\n",
       "      <td id=\"T_ed163_row3_col7\" class=\"data row3 col7\" >CLF</td>\n",
       "      <td id=\"T_ed163_row3_col8\" class=\"data row3 col8\" >18,786.13</td>\n",
       "      <td id=\"T_ed163_row3_col9\" class=\"data row3 col9\" >18,935.12</td>\n",
       "      <td id=\"T_ed163_row3_col10\" class=\"data row3 col10\" >28,080.26</td>\n",
       "      <td id=\"T_ed163_row3_col11\" class=\"data row3 col11\" >28,627.71</td>\n",
       "      <td id=\"T_ed163_row3_col12\" class=\"data row3 col12\" >-2.2426%</td>\n",
       "      <td id=\"T_ed163_row3_col13\" class=\"data row3 col13\" >-3,401.28</td>\n",
       "      <td id=\"T_ed163_row3_col14\" class=\"data row3 col14\" >0.0000%</td>\n",
       "      <td id=\"T_ed163_row3_col15\" class=\"data row3 col15\" >1.00</td>\n",
       "      <td id=\"T_ed163_row3_col16\" class=\"data row3 col16\" >LinAct360</td>\n",
       "      <td id=\"T_ed163_row3_col17\" class=\"data row3 col17\" >-97,370,764.00</td>\n",
       "    </tr>\n",
       "    <tr>\n",
       "      <th id=\"T_ed163_level0_row4\" class=\"row_heading level0 row4\" >4</th>\n",
       "      <td id=\"T_ed163_row4_col0\" class=\"data row4 col0\" >2020-04-30</td>\n",
       "      <td id=\"T_ed163_row4_col1\" class=\"data row4 col1\" >2020-11-02</td>\n",
       "      <td id=\"T_ed163_row4_col2\" class=\"data row4 col2\" >2020-11-02</td>\n",
       "      <td id=\"T_ed163_row4_col3\" class=\"data row4 col3\" >300,000.00</td>\n",
       "      <td id=\"T_ed163_row4_col4\" class=\"data row4 col4\" >0.00</td>\n",
       "      <td id=\"T_ed163_row4_col5\" class=\"data row4 col5\" >True</td>\n",
       "      <td id=\"T_ed163_row4_col6\" class=\"data row4 col6\" >-2,589.43</td>\n",
       "      <td id=\"T_ed163_row4_col7\" class=\"data row4 col7\" >CLF</td>\n",
       "      <td id=\"T_ed163_row4_col8\" class=\"data row4 col8\" >18,935.12</td>\n",
       "      <td id=\"T_ed163_row4_col9\" class=\"data row4 col9\" >19,050.65</td>\n",
       "      <td id=\"T_ed163_row4_col10\" class=\"data row4 col10\" >28,627.71</td>\n",
       "      <td id=\"T_ed163_row4_col11\" class=\"data row4 col11\" >29,053.02</td>\n",
       "      <td id=\"T_ed163_row4_col12\" class=\"data row4 col12\" >-1.6706%</td>\n",
       "      <td id=\"T_ed163_row4_col13\" class=\"data row4 col13\" >-2,589.43</td>\n",
       "      <td id=\"T_ed163_row4_col14\" class=\"data row4 col14\" >0.0000%</td>\n",
       "      <td id=\"T_ed163_row4_col15\" class=\"data row4 col15\" >1.00</td>\n",
       "      <td id=\"T_ed163_row4_col16\" class=\"data row4 col16\" >LinAct360</td>\n",
       "      <td id=\"T_ed163_row4_col17\" class=\"data row4 col17\" >-75,230,762.00</td>\n",
       "    </tr>\n",
       "    <tr>\n",
       "      <th id=\"T_ed163_level0_row5\" class=\"row_heading level0 row5\" >5</th>\n",
       "      <td id=\"T_ed163_row5_col0\" class=\"data row5 col0\" >2020-11-02</td>\n",
       "      <td id=\"T_ed163_row5_col1\" class=\"data row5 col1\" >2021-04-30</td>\n",
       "      <td id=\"T_ed163_row5_col2\" class=\"data row5 col2\" >2021-04-30</td>\n",
       "      <td id=\"T_ed163_row5_col3\" class=\"data row5 col3\" >300,000.00</td>\n",
       "      <td id=\"T_ed163_row5_col4\" class=\"data row5 col4\" >300,000.00</td>\n",
       "      <td id=\"T_ed163_row5_col5\" class=\"data row5 col5\" >True</td>\n",
       "      <td id=\"T_ed163_row5_col6\" class=\"data row5 col6\" >298,044.72</td>\n",
       "      <td id=\"T_ed163_row5_col7\" class=\"data row5 col7\" >CLF</td>\n",
       "      <td id=\"T_ed163_row5_col8\" class=\"data row5 col8\" >19,050.65</td>\n",
       "      <td id=\"T_ed163_row5_col9\" class=\"data row5 col9\" >19,173.77</td>\n",
       "      <td id=\"T_ed163_row5_col10\" class=\"data row5 col10\" >29,053.02</td>\n",
       "      <td id=\"T_ed163_row5_col11\" class=\"data row5 col11\" >29,432.64</td>\n",
       "      <td id=\"T_ed163_row5_col12\" class=\"data row5 col12\" >-1.3108%</td>\n",
       "      <td id=\"T_ed163_row5_col13\" class=\"data row5 col13\" >-1,955.28</td>\n",
       "      <td id=\"T_ed163_row5_col14\" class=\"data row5 col14\" >0.0000%</td>\n",
       "      <td id=\"T_ed163_row5_col15\" class=\"data row5 col15\" >1.00</td>\n",
       "      <td id=\"T_ed163_row5_col16\" class=\"data row5 col16\" >LinAct360</td>\n",
       "      <td id=\"T_ed163_row5_col17\" class=\"data row5 col17\" >8,772,243,383.00</td>\n",
       "    </tr>\n",
       "  </tbody>\n",
       "</table>\n"
      ],
      "text/plain": [
       "<pandas.io.formats.style.Styler at 0x12be28090>"
      ]
     },
     "execution_count": 179,
     "metadata": {},
     "output_type": "execute_result"
    }
   ],
   "source": [
    "aux.leg_as_dataframe(icp_clf_leg).style.format(format_dict)"
   ]
  },
  {
   "cell_type": "code",
   "execution_count": 180,
   "metadata": {
    "execution": {
     "iopub.execute_input": "2024-06-09T21:10:59.921784Z",
     "iopub.status.busy": "2024-06-09T21:10:59.921280Z",
     "iopub.status.idle": "2024-06-09T21:10:59.928823Z",
     "shell.execute_reply": "2024-06-09T21:10:59.927520Z",
     "shell.execute_reply.started": "2024-06-09T21:10:59.921741Z"
    }
   },
   "outputs": [
    {
     "name": "stdout",
     "output_type": "stream",
     "text": [
      "Valor presente en UF: 297,715.99\n",
      "Valor presente en CLP: 8,467,099,423\n"
     ]
    }
   ],
   "source": [
    "vp_icp_clf = pv.pv(fecha_hoy, icp_clf_leg, zcc_clf)\n",
    "print(f\"Valor presente en UF: {vp_icp_clf:,.2f}\")\n",
    "print(f\"Valor presente en CLP: {vp_icp_clf * uf_hoy:,.0f}\")"
   ]
  },
  {
   "cell_type": "markdown",
   "metadata": {},
   "source": [
    "#### Sensibilidad de Descuento"
   ]
  },
  {
   "cell_type": "code",
   "execution_count": 181,
   "metadata": {
    "cell_style": "center",
    "execution": {
     "iopub.execute_input": "2024-06-09T21:11:00.845901Z",
     "iopub.status.busy": "2024-06-09T21:11:00.844993Z",
     "iopub.status.idle": "2024-06-09T21:11:00.853586Z",
     "shell.execute_reply": "2024-06-09T21:11:00.852581Z",
     "shell.execute_reply.started": "2024-06-09T21:11:00.845856Z"
    },
    "scrolled": true
   },
   "outputs": [
    {
     "name": "stdout",
     "output_type": "stream",
     "text": [
      "Sensibilidad en 0: 0.00\n",
      "Sensibilidad en 1: 0.00\n",
      "Sensibilidad en 2: 0.00\n",
      "Sensibilidad en 3: 0.06\n",
      "Sensibilidad en 4: 0.00\n",
      "Sensibilidad en 5: 0.00\n",
      "Sensibilidad en 6: 0.00\n",
      "Sensibilidad en 7: 0.00\n",
      "Sensibilidad en 8: 0.00\n",
      "Sensibilidad en 9: 0.17\n",
      "Sensibilidad en 10: 0.01\n",
      "Sensibilidad en 11: 0.00\n",
      "Sensibilidad en 12: 0.00\n",
      "Sensibilidad en 13: 0.00\n",
      "Sensibilidad en 14: 0.00\n",
      "Sensibilidad en 15: -33.62\n",
      "Sensibilidad en 16: -2.17\n",
      "Sensibilidad en 17: 0.00\n",
      "Sensibilidad en 18: 0.00\n",
      "Sensibilidad en 19: 0.00\n",
      "Sensibilidad en 20: 0.00\n",
      "Sensibilidad en 21: 0.00\n",
      "Sensibilidad en 22: 0.00\n",
      "Sensibilidad en 23: 0.00\n",
      "Sensibilidad en 24: 0.00\n",
      "Sensibilidad en 25: 0.00\n",
      "Sensibilidad en 26: 0.00\n",
      "Sensibilidad en 27: 0.00\n",
      "Sensibilidad en 28: 0.00\n",
      "Sensibilidad en 29: 0.00\n",
      "Sensibilidad en 30: 0.00\n",
      "Sensibilidad en 31: 0.00\n",
      "Sensibilidad en 32: 0.00\n",
      "\n",
      "Sensibilidad de descuento: -35.54 CLF\n"
     ]
    }
   ],
   "source": [
    "der = pv.get_derivatives()\n",
    "i = 0\n",
    "for d in der:\n",
    "    print(f\"Sensibilidad en {i}: {d * bp / 10_000:0,.2f}\")\n",
    "    i += 1\n",
    "print()\n",
    "print(f\"Sensibilidad de descuento: {sum(der) * bp / 10_000:,.2f} CLF\")"
   ]
  },
  {
   "cell_type": "markdown",
   "metadata": {},
   "source": [
    "#### Sensibilidad de Proyección"
   ]
  },
  {
   "cell_type": "code",
   "execution_count": 184,
   "metadata": {
    "cell_style": "center",
    "execution": {
     "iopub.execute_input": "2024-06-09T21:15:02.797047Z",
     "iopub.status.busy": "2024-06-09T21:15:02.796712Z",
     "iopub.status.idle": "2024-06-09T21:15:02.804703Z",
     "shell.execute_reply": "2024-06-09T21:15:02.803779Z",
     "shell.execute_reply.started": "2024-06-09T21:15:02.797018Z"
    }
   },
   "outputs": [
    {
     "name": "stdout",
     "output_type": "stream",
     "text": [
      "Sensibilidad en 0: 0.00\n",
      "Sensibilidad en 1: 0.00\n",
      "Sensibilidad en 2: 0.00\n",
      "Sensibilidad en 3: -0.06\n",
      "Sensibilidad en 4: -0.00\n",
      "Sensibilidad en 5: 0.00\n",
      "Sensibilidad en 6: 0.00\n",
      "Sensibilidad en 7: 0.00\n",
      "Sensibilidad en 8: 0.00\n",
      "Sensibilidad en 9: -0.17\n",
      "Sensibilidad en 10: -0.01\n",
      "Sensibilidad en 11: 0.00\n",
      "Sensibilidad en 12: 0.00\n",
      "Sensibilidad en 13: 0.00\n",
      "Sensibilidad en 14: 0.00\n",
      "Sensibilidad en 15: 33.62\n",
      "Sensibilidad en 16: 2.17\n",
      "Sensibilidad en 17: 0.00\n",
      "Sensibilidad en 18: 0.00\n",
      "Sensibilidad en 19: 0.00\n",
      "Sensibilidad en 20: 0.00\n",
      "Sensibilidad en 21: 0.00\n",
      "Sensibilidad en 22: 0.00\n",
      "Sensibilidad en 23: 0.00\n",
      "Sensibilidad en 24: 0.00\n",
      "Sensibilidad en 25: 0.00\n",
      "Sensibilidad en 26: 0.00\n",
      "Sensibilidad en 27: 0.00\n",
      "Sensibilidad en 28: 0.00\n",
      "Sensibilidad en 29: 0.00\n",
      "Sensibilidad en 30: 0.00\n",
      "Sensibilidad en 31: 0.00\n",
      "Sensibilidad en 32: 0.00\n"
     ]
    }
   ],
   "source": [
    "result = []\n",
    "for i in range(icp_clf_leg.size()):\n",
    "    cshflw = icp_clf_leg.get_cashflow_at(i)\n",
    "    df = zcc_clf.get_discount_factor_at(fecha_hoy.day_diff(cshflw.date()))\n",
    "    amt_der = cshflw.get_amount_ufclf_derivatives()\n",
    "    if len(amt_der) > 0:\n",
    "        amt_der = [a * bp / 10_000 * df for a in amt_der]\n",
    "        result.append(np.array(amt_der))\n",
    "\n",
    "total = result[0] * 0\n",
    "for r in result:\n",
    "    total += r\n",
    "\n",
    "for i in range(len(total)):\n",
    "    print(f\"Sensibilidad en {i}: {total[i]:0,.2f}\")"
   ]
  },
  {
   "cell_type": "markdown",
   "metadata": {},
   "source": [
    "### CompoundedOvernightRate Leg"
   ]
  },
  {
   "cell_type": "markdown",
   "metadata": {},
   "source": [
    "Se da de alta una pata de tipo CompoundedOvernightRate."
   ]
  },
  {
   "cell_type": "code",
   "execution_count": 257,
   "metadata": {
    "execution": {
     "iopub.execute_input": "2024-06-09T21:41:22.960471Z",
     "iopub.status.busy": "2024-06-09T21:41:22.960107Z",
     "iopub.status.idle": "2024-06-09T21:41:22.969982Z",
     "shell.execute_reply": "2024-06-09T21:41:22.969090Z",
     "shell.execute_reply.started": "2024-06-09T21:41:22.960440Z"
    }
   },
   "outputs": [],
   "source": [
    "rp = qcf.RecPay.PAY\n",
    "fecha_inicio = qcf.QCDate(31, 3, 2020)\n",
    "fecha_final = qcf.QCDate(31, 1, 2023)\n",
    "bus_adj_rule = qcf.BusyAdjRules.MODFOLLOW\n",
    "periodicidad_pago = qcf.Tenor('12M')\n",
    "periodo_irregular_pago = qcf.StubPeriod.SHORTFRONT\n",
    "calendario = qcf.BusinessCalendar(fecha_inicio, 20)\n",
    "lag_pago = 0\n",
    "lookback = 2\n",
    "\n",
    "######################################################################\n",
    "# Definición del índice\n",
    "\n",
    "codigo = 'OISTEST'\n",
    "lin_act360 = qcf.QCInterestRate(.0, qcf.QCAct360(), qcf.QCLinearWf())\n",
    "fixing_lag = qcf.Tenor('0d')\n",
    "tenor = qcf.Tenor('1d')\n",
    "fixing_calendar = calendario\n",
    "settlement_calendar = calendario\n",
    "usd = qcf.QCUSD()\n",
    "oistest = qcf.InterestRateIndex(\n",
    "    codigo,\n",
    "    lin_act360,\n",
    "    fixing_lag,\n",
    "    tenor,\n",
    "    fixing_calendar,\n",
    "    settlement_calendar,\n",
    "    usd)\n",
    "\n",
    "# Fin índice\n",
    "######################################################################\n",
    "\n",
    "nominal = 5_500_000.0\n",
    "amort_es_flujo = True\n",
    "moneda = usd\n",
    "spread = .0\n",
    "gearing = 1.0\n",
    "\n",
    "cor_leg = qcf.LegFactory.build_bullet_compounded_overnight_rate_leg_2(\n",
    "    rp,\n",
    "    fecha_inicio,\n",
    "    fecha_final,\n",
    "    bus_adj_rule,\n",
    "    periodicidad_pago,\n",
    "    periodo_irregular_pago,\n",
    "    calendario,\n",
    "    lag_pago,\n",
    "    calendario,\n",
    "    oistest,\n",
    "    nominal,\n",
    "    amort_es_flujo,\n",
    "    usd,\n",
    "    spread,\n",
    "    gearing,\n",
    "    qcf.QCInterestRate(0.0, qcf.QCAct360(), qcf.QCLinearWf()),\n",
    "    10,\n",
    "    lookback,\n",
    "    0\n",
    ")"
   ]
  },
  {
   "cell_type": "markdown",
   "metadata": {},
   "source": [
    "#### Valor Presente"
   ]
  },
  {
   "cell_type": "code",
   "execution_count": 258,
   "metadata": {
    "execution": {
     "iopub.execute_input": "2024-06-09T21:41:24.354908Z",
     "iopub.status.busy": "2024-06-09T21:41:24.354563Z",
     "iopub.status.idle": "2024-06-09T21:41:24.359441Z",
     "shell.execute_reply": "2024-06-09T21:41:24.358434Z",
     "shell.execute_reply.started": "2024-06-09T21:41:24.354877Z"
    }
   },
   "outputs": [],
   "source": [
    "ts = qcf.time_series()\n",
    "fwd_rates.set_rates_compounded_overnight_leg2(\n",
    "    fecha_hoy,\n",
    "    cor_leg,\n",
    "    zcc_usd,\n",
    "    ts\n",
    ")"
   ]
  },
  {
   "cell_type": "code",
   "execution_count": 259,
   "metadata": {
    "execution": {
     "iopub.execute_input": "2024-06-09T21:41:25.416432Z",
     "iopub.status.busy": "2024-06-09T21:41:25.416062Z",
     "iopub.status.idle": "2024-06-09T21:41:25.428245Z",
     "shell.execute_reply": "2024-06-09T21:41:25.427211Z",
     "shell.execute_reply.started": "2024-06-09T21:41:25.416401Z"
    }
   },
   "outputs": [
    {
     "data": {
      "text/html": [
       "<style type=\"text/css\">\n",
       "</style>\n",
       "<table id=\"T_97b1e\">\n",
       "  <thead>\n",
       "    <tr>\n",
       "      <th class=\"blank level0\" >&nbsp;</th>\n",
       "      <th id=\"T_97b1e_level0_col0\" class=\"col_heading level0 col0\" >fecha_inicial</th>\n",
       "      <th id=\"T_97b1e_level0_col1\" class=\"col_heading level0 col1\" >fecha_final</th>\n",
       "      <th id=\"T_97b1e_level0_col2\" class=\"col_heading level0 col2\" >fecha_pago</th>\n",
       "      <th id=\"T_97b1e_level0_col3\" class=\"col_heading level0 col3\" >nominal</th>\n",
       "      <th id=\"T_97b1e_level0_col4\" class=\"col_heading level0 col4\" >amortizacion</th>\n",
       "      <th id=\"T_97b1e_level0_col5\" class=\"col_heading level0 col5\" >interes</th>\n",
       "      <th id=\"T_97b1e_level0_col6\" class=\"col_heading level0 col6\" >amort_es_flujo</th>\n",
       "      <th id=\"T_97b1e_level0_col7\" class=\"col_heading level0 col7\" >flujo</th>\n",
       "      <th id=\"T_97b1e_level0_col8\" class=\"col_heading level0 col8\" >moneda</th>\n",
       "      <th id=\"T_97b1e_level0_col9\" class=\"col_heading level0 col9\" >codigo_indice_tasa</th>\n",
       "      <th id=\"T_97b1e_level0_col10\" class=\"col_heading level0 col10\" >tipo_tasa</th>\n",
       "      <th id=\"T_97b1e_level0_col11\" class=\"col_heading level0 col11\" >valor_tasa</th>\n",
       "      <th id=\"T_97b1e_level0_col12\" class=\"col_heading level0 col12\" >spread</th>\n",
       "      <th id=\"T_97b1e_level0_col13\" class=\"col_heading level0 col13\" >gearing</th>\n",
       "    </tr>\n",
       "  </thead>\n",
       "  <tbody>\n",
       "    <tr>\n",
       "      <th id=\"T_97b1e_level0_row0\" class=\"row_heading level0 row0\" >0</th>\n",
       "      <td id=\"T_97b1e_row0_col0\" class=\"data row0 col0\" >2020-03-31</td>\n",
       "      <td id=\"T_97b1e_row0_col1\" class=\"data row0 col1\" >2021-01-29</td>\n",
       "      <td id=\"T_97b1e_row0_col2\" class=\"data row0 col2\" >2021-01-29</td>\n",
       "      <td id=\"T_97b1e_row0_col3\" class=\"data row0 col3\" >-5,500,000.00</td>\n",
       "      <td id=\"T_97b1e_row0_col4\" class=\"data row0 col4\" >0.00</td>\n",
       "      <td id=\"T_97b1e_row0_col5\" class=\"data row0 col5\" >-0.00</td>\n",
       "      <td id=\"T_97b1e_row0_col6\" class=\"data row0 col6\" >True</td>\n",
       "      <td id=\"T_97b1e_row0_col7\" class=\"data row0 col7\" >-77,568.07</td>\n",
       "      <td id=\"T_97b1e_row0_col8\" class=\"data row0 col8\" >USD</td>\n",
       "      <td id=\"T_97b1e_row0_col9\" class=\"data row0 col9\" >OISTEST</td>\n",
       "      <td id=\"T_97b1e_row0_col10\" class=\"data row0 col10\" >LinAct360</td>\n",
       "      <td id=\"T_97b1e_row0_col11\" class=\"data row0 col11\" >1.6701%</td>\n",
       "      <td id=\"T_97b1e_row0_col12\" class=\"data row0 col12\" >0.0000%</td>\n",
       "      <td id=\"T_97b1e_row0_col13\" class=\"data row0 col13\" >1.00</td>\n",
       "    </tr>\n",
       "    <tr>\n",
       "      <th id=\"T_97b1e_level0_row1\" class=\"row_heading level0 row1\" >1</th>\n",
       "      <td id=\"T_97b1e_row1_col0\" class=\"data row1 col0\" >2021-01-29</td>\n",
       "      <td id=\"T_97b1e_row1_col1\" class=\"data row1 col1\" >2022-01-31</td>\n",
       "      <td id=\"T_97b1e_row1_col2\" class=\"data row1 col2\" >2022-01-31</td>\n",
       "      <td id=\"T_97b1e_row1_col3\" class=\"data row1 col3\" >-5,500,000.00</td>\n",
       "      <td id=\"T_97b1e_row1_col4\" class=\"data row1 col4\" >0.00</td>\n",
       "      <td id=\"T_97b1e_row1_col5\" class=\"data row1 col5\" >-0.00</td>\n",
       "      <td id=\"T_97b1e_row1_col6\" class=\"data row1 col6\" >True</td>\n",
       "      <td id=\"T_97b1e_row1_col7\" class=\"data row1 col7\" >-84,818.39</td>\n",
       "      <td id=\"T_97b1e_row1_col8\" class=\"data row1 col8\" >USD</td>\n",
       "      <td id=\"T_97b1e_row1_col9\" class=\"data row1 col9\" >OISTEST</td>\n",
       "      <td id=\"T_97b1e_row1_col10\" class=\"data row1 col10\" >LinAct360</td>\n",
       "      <td id=\"T_97b1e_row1_col11\" class=\"data row1 col11\" >1.5127%</td>\n",
       "      <td id=\"T_97b1e_row1_col12\" class=\"data row1 col12\" >0.0000%</td>\n",
       "      <td id=\"T_97b1e_row1_col13\" class=\"data row1 col13\" >1.00</td>\n",
       "    </tr>\n",
       "    <tr>\n",
       "      <th id=\"T_97b1e_level0_row2\" class=\"row_heading level0 row2\" >2</th>\n",
       "      <td id=\"T_97b1e_row2_col0\" class=\"data row2 col0\" >2022-01-31</td>\n",
       "      <td id=\"T_97b1e_row2_col1\" class=\"data row2 col1\" >2023-01-31</td>\n",
       "      <td id=\"T_97b1e_row2_col2\" class=\"data row2 col2\" >2023-01-31</td>\n",
       "      <td id=\"T_97b1e_row2_col3\" class=\"data row2 col3\" >-5,500,000.00</td>\n",
       "      <td id=\"T_97b1e_row2_col4\" class=\"data row2 col4\" >-5,500,000.00</td>\n",
       "      <td id=\"T_97b1e_row2_col5\" class=\"data row2 col5\" >-0.00</td>\n",
       "      <td id=\"T_97b1e_row2_col6\" class=\"data row2 col6\" >True</td>\n",
       "      <td id=\"T_97b1e_row2_col7\" class=\"data row2 col7\" >-5,585,601.26</td>\n",
       "      <td id=\"T_97b1e_row2_col8\" class=\"data row2 col8\" >USD</td>\n",
       "      <td id=\"T_97b1e_row2_col9\" class=\"data row2 col9\" >OISTEST</td>\n",
       "      <td id=\"T_97b1e_row2_col10\" class=\"data row2 col10\" >LinAct360</td>\n",
       "      <td id=\"T_97b1e_row2_col11\" class=\"data row2 col11\" >1.5351%</td>\n",
       "      <td id=\"T_97b1e_row2_col12\" class=\"data row2 col12\" >0.0000%</td>\n",
       "      <td id=\"T_97b1e_row2_col13\" class=\"data row2 col13\" >1.00</td>\n",
       "    </tr>\n",
       "  </tbody>\n",
       "</table>\n"
      ],
      "text/plain": [
       "<pandas.io.formats.style.Styler at 0x12c0bae90>"
      ]
     },
     "execution_count": 259,
     "metadata": {},
     "output_type": "execute_result"
    }
   ],
   "source": [
    "aux.leg_as_dataframe(cor_leg).style.format(format_dict)"
   ]
  },
  {
   "cell_type": "code",
   "execution_count": 262,
   "metadata": {
    "execution": {
     "iopub.execute_input": "2024-06-09T21:41:38.274019Z",
     "iopub.status.busy": "2024-06-09T21:41:38.273620Z",
     "iopub.status.idle": "2024-06-09T21:41:38.278921Z",
     "shell.execute_reply": "2024-06-09T21:41:38.277880Z",
     "shell.execute_reply.started": "2024-06-09T21:41:38.273987Z"
    }
   },
   "outputs": [
    {
     "name": "stdout",
     "output_type": "stream",
     "text": [
      "Valor presente: -5,491,175\n"
     ]
    }
   ],
   "source": [
    "print(f'Valor presente: {pv.pv(fecha_hoy, cor_leg, zcc_usd):,.0f}')"
   ]
  },
  {
   "cell_type": "markdown",
   "metadata": {},
   "source": [
    "#### Sensibilidad de Proyección"
   ]
  },
  {
   "cell_type": "code",
   "execution_count": 263,
   "metadata": {
    "execution": {
     "iopub.execute_input": "2024-06-09T21:41:39.677225Z",
     "iopub.status.busy": "2024-06-09T21:41:39.676866Z",
     "iopub.status.idle": "2024-06-09T21:41:39.684557Z",
     "shell.execute_reply": "2024-06-09T21:41:39.683705Z",
     "shell.execute_reply.started": "2024-06-09T21:41:39.677195Z"
    }
   },
   "outputs": [
    {
     "name": "stdout",
     "output_type": "stream",
     "text": [
      "Sensibilidad en 0: 0.00\n",
      "Sensibilidad en 1: 0.00\n",
      "Sensibilidad en 2: 0.00\n",
      "Sensibilidad en 3: 0.00\n",
      "Sensibilidad en 4: 45.39\n",
      "Sensibilidad en 5: 7.26\n",
      "Sensibilidad en 6: 0.00\n",
      "Sensibilidad en 7: 0.00\n",
      "Sensibilidad en 8: 0.00\n",
      "Sensibilidad en 9: 0.00\n",
      "Sensibilidad en 10: 0.00\n",
      "Sensibilidad en 11: 0.00\n",
      "Sensibilidad en 12: 0.00\n",
      "Sensibilidad en 13: 0.00\n",
      "Sensibilidad en 14: -6.21\n",
      "Sensibilidad en 15: -0.89\n",
      "Sensibilidad en 16: -2.18\n",
      "Sensibilidad en 17: -120.89\n",
      "Sensibilidad en 18: -1,457.54\n",
      "Sensibilidad en 19: 0.00\n",
      "Sensibilidad en 20: 0.00\n",
      "Sensibilidad en 21: 0.00\n",
      "Sensibilidad en 22: 0.00\n",
      "Sensibilidad en 23: 0.00\n",
      "Sensibilidad en 24: 0.00\n",
      "Sensibilidad en 25: 0.00\n",
      "Sensibilidad en 26: 0.00\n",
      "Sensibilidad en 27: 0.00\n"
     ]
    }
   ],
   "source": [
    "proj_sens_by_cashflow = np.array([np.array(\n",
    "    np.array(cor_leg.get_cashflow_at(i).get_amount_derivatives()) *\n",
    "    zcc_usd.get_discount_factor_at(fecha_hoy.day_diff(cor_leg.get_cashflow_at(i).get_settlement_date())) * bp / 10_000)\n",
    "                             for i in range(cor_leg.size())])\n",
    "proj_sens = np.sum(proj_sens_by_cashflow, axis=0)\n",
    "for i, s in enumerate(proj_sens):\n",
    "     print(f\"Sensibilidad en {i}: {s:0,.2f}\")"
   ]
  },
  {
   "cell_type": "markdown",
   "metadata": {},
   "source": [
    "Verifica sensibilidad de proyección."
   ]
  },
  {
   "cell_type": "code",
   "execution_count": 264,
   "metadata": {
    "execution": {
     "iopub.execute_input": "2024-06-09T21:41:45.879978Z",
     "iopub.status.busy": "2024-06-09T21:41:45.879644Z",
     "iopub.status.idle": "2024-06-09T21:41:45.886364Z",
     "shell.execute_reply": "2024-06-09T21:41:45.885571Z",
     "shell.execute_reply.started": "2024-06-09T21:41:45.879950Z"
    }
   },
   "outputs": [
    {
     "name": "stdout",
     "output_type": "stream",
     "text": [
      "Valor presente up pata CompoundedOvernightRate: -5,491,175\n",
      "Valor presente down pata CompoundedOvernightRate: -5,491,174\n",
      "Sensibilidad de proyección en el vértice 15: -0.89\n"
     ]
    }
   ],
   "source": [
    "fwd_rates.set_rates_compounded_overnight_leg2(fecha_hoy, cor_leg, zcc_usd_up, ts)\n",
    "vp_cor_up = pv.pv(fecha_hoy, cor_leg, zcc_usd)\n",
    "print(f\"Valor presente up pata CompoundedOvernightRate: {vp_cor_up:,.0f}\")\n",
    "\n",
    "fwd_rates.set_rates_compounded_overnight_leg2(fecha_hoy, cor_leg, zcc_usd_down, ts)\n",
    "vp_cor_down = pv.pv(fecha_hoy, cor_leg, zcc_usd)\n",
    "print(f\"Valor presente down pata CompoundedOvernightRate: {vp_cor_down:,.0f}\")\n",
    "\n",
    "print(f\"Sensibilidad de proyección en el vértice {vertice}: {(vp_cor_up - vp_cor_down) / 2:,.2f}\")"
   ]
  },
  {
   "cell_type": "markdown",
   "metadata": {},
   "source": [
    "#### Sensibilidad de Descuento"
   ]
  },
  {
   "cell_type": "code",
   "execution_count": 265,
   "metadata": {
    "execution": {
     "iopub.execute_input": "2024-06-09T21:42:53.335224Z",
     "iopub.status.busy": "2024-06-09T21:42:53.334319Z",
     "iopub.status.idle": "2024-06-09T21:42:53.340221Z",
     "shell.execute_reply": "2024-06-09T21:42:53.339374Z",
     "shell.execute_reply.started": "2024-06-09T21:42:53.335194Z"
    }
   },
   "outputs": [
    {
     "name": "stdout",
     "output_type": "stream",
     "text": [
      "Sensibilidad en 0: 0.00\n",
      "Sensibilidad en 1: 0.00\n",
      "Sensibilidad en 2: 0.00\n",
      "Sensibilidad en 3: 0.00\n",
      "Sensibilidad en 4: 0.00\n",
      "Sensibilidad en 5: 0.00\n",
      "Sensibilidad en 6: 0.00\n",
      "Sensibilidad en 7: 0.00\n",
      "Sensibilidad en 8: 0.00\n",
      "Sensibilidad en 9: 0.00\n",
      "Sensibilidad en 10: 0.00\n",
      "Sensibilidad en 11: 0.00\n",
      "Sensibilidad en 12: 0.00\n",
      "Sensibilidad en 13: 0.00\n",
      "Sensibilidad en 14: 6.20\n",
      "Sensibilidad en 15: 0.89\n",
      "Sensibilidad en 16: 2.19\n",
      "Sensibilidad en 17: 120.90\n",
      "Sensibilidad en 18: 1,457.54\n",
      "Sensibilidad en 19: 0.00\n",
      "Sensibilidad en 20: 0.00\n",
      "Sensibilidad en 21: 0.00\n",
      "Sensibilidad en 22: 0.00\n",
      "Sensibilidad en 23: 0.00\n",
      "Sensibilidad en 24: 0.00\n",
      "Sensibilidad en 25: 0.00\n",
      "Sensibilidad en 26: 0.00\n",
      "Sensibilidad en 27: 0.00\n"
     ]
    }
   ],
   "source": [
    "disc_der = np.array(pv.get_derivatives()) * bp / 10_000\n",
    "for i, s in enumerate(disc_der):\n",
    "    print(f\"Sensibilidad en {i}: {s:0,.2f}\")"
   ]
  },
  {
   "cell_type": "markdown",
   "metadata": {},
   "source": [
    "Verifica la sensibilidad de descuento."
   ]
  },
  {
   "cell_type": "code",
   "execution_count": 266,
   "metadata": {
    "execution": {
     "iopub.execute_input": "2024-06-09T21:50:20.871060Z",
     "iopub.status.busy": "2024-06-09T21:50:20.870715Z",
     "iopub.status.idle": "2024-06-09T21:50:20.877615Z",
     "shell.execute_reply": "2024-06-09T21:50:20.876691Z",
     "shell.execute_reply.started": "2024-06-09T21:50:20.871029Z"
    }
   },
   "outputs": [
    {
     "name": "stdout",
     "output_type": "stream",
     "text": [
      "Valor presente up pata CompoundedOvernightRate: -5,491,174\n",
      "Valor presente down pata CompoundedOvernightRate: -5,491,175\n",
      "Sensibilidad de descuento en el vértice 15: 0.89\n"
     ]
    }
   ],
   "source": [
    "fwd_rates.set_rates_compounded_overnight_leg2(fecha_hoy, cor_leg, zcc_usd, ts)\n",
    "vp_cor_up = pv.pv(fecha_hoy, cor_leg, zcc_usd_up)\n",
    "print(f\"Valor presente up pata CompoundedOvernightRate: {vp_cor_up:,.2f}\")\n",
    "\n",
    "fwd_rates.set_rates_compounded_overnight_leg2(fecha_hoy, cor_leg, zcc_usd, ts)\n",
    "vp_cor_down = pv.pv(fecha_hoy, cor_leg, zcc_usd_down)\n",
    "print(f\"Valor presente down pata CompoundedOvernightRate: {vp_cor_down:,.2f}\")\n",
    "\n",
    "print(f\"Sensibilidad de descuento en el vértice {vertice}: {(vp_cor_up - vp_cor_down) / 2:,.2f}\")"
   ]
  }
 ],
 "metadata": {
  "hide_input": false,
  "kernelspec": {
   "display_name": "Python 3 (ipykernel)",
   "language": "python",
   "name": "python3"
  },
  "language_info": {
   "codemirror_mode": {
    "name": "ipython",
    "version": 3
   },
   "file_extension": ".py",
   "mimetype": "text/x-python",
   "name": "python",
   "nbconvert_exporter": "python",
   "pygments_lexer": "ipython3",
   "version": "3.11.5"
  },
  "toc": {
   "base_numbering": 1,
   "nav_menu": {},
   "number_sections": true,
   "sideBar": true,
   "skip_h1_title": true,
   "title_cell": "Table of Contents",
   "title_sidebar": "Contenidos",
   "toc_cell": false,
   "toc_position": {
    "height": "calc(100% - 180px)",
    "left": "10px",
    "top": "150px",
    "width": "311px"
   },
   "toc_section_display": true,
   "toc_window_display": true
  },
  "varInspector": {
   "cols": {
    "lenName": 16,
    "lenType": 16,
    "lenVar": 40
   },
   "kernels_config": {
    "python": {
     "delete_cmd_postfix": "",
     "delete_cmd_prefix": "del ",
     "library": "var_list.py",
     "varRefreshCmd": "print(var_dic_list())"
    },
    "r": {
     "delete_cmd_postfix": ") ",
     "delete_cmd_prefix": "rm(",
     "library": "var_list.r",
     "varRefreshCmd": "cat(var_dic_list()) "
    }
   },
   "types_to_exclude": [
    "module",
    "function",
    "builtin_function_or_method",
    "instance",
    "_Feature"
   ],
   "window_display": false
  }
 },
 "nbformat": 4,
 "nbformat_minor": 4
}
