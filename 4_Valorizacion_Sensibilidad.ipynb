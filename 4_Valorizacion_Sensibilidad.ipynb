{
 "cells": [
  {
   "cell_type": "markdown",
   "metadata": {},
   "source": [
    "# Valorización y Sensibilidad"
   ]
  },
  {
   "cell_type": "markdown",
   "metadata": {},
   "source": [
    "## Configuración"
   ]
  },
  {
   "cell_type": "markdown",
   "metadata": {},
   "source": [
    "Para ejecutar todos los ejemplos se debe importar la librería. Se sugiere utilizar siempre el alias `qcf`. "
   ]
  },
  {
   "cell_type": "code",
   "metadata": {
    "execution": {
     "iopub.execute_input": "2024-06-25T21:49:18.835050Z",
     "iopub.status.busy": "2024-06-25T21:49:18.834624Z",
     "iopub.status.idle": "2024-06-25T21:49:18.860894Z",
     "shell.execute_reply": "2024-06-25T21:49:18.859095Z",
     "shell.execute_reply.started": "2024-06-25T21:49:18.835003Z"
    }
   },
   "source": [
    "import qcfinancial as qcf\n",
    "import pickle"
   ],
   "outputs": [],
   "execution_count": null
  },
  {
   "cell_type": "code",
   "metadata": {
    "execution": {
     "iopub.execute_input": "2024-06-25T21:49:18.864796Z",
     "iopub.status.busy": "2024-06-25T21:49:18.864453Z",
     "iopub.status.idle": "2024-06-25T21:49:18.873587Z",
     "shell.execute_reply": "2024-06-25T21:49:18.872523Z",
     "shell.execute_reply.started": "2024-06-25T21:49:18.864770Z"
    }
   },
   "source": [
    "qcf.id()"
   ],
   "outputs": [],
   "execution_count": null
  },
  {
   "cell_type": "markdown",
   "metadata": {},
   "source": [
    "Librerías adicionales."
   ]
  },
  {
   "cell_type": "code",
   "metadata": {
    "execution": {
     "iopub.execute_input": "2024-06-25T21:49:18.875323Z",
     "iopub.status.busy": "2024-06-25T21:49:18.874599Z",
     "iopub.status.idle": "2024-06-25T21:49:19.596768Z",
     "shell.execute_reply": "2024-06-25T21:49:19.595558Z",
     "shell.execute_reply.started": "2024-06-25T21:49:18.875294Z"
    }
   },
   "source": [
    "import aux_functions as aux # Aquí se guardó la función leg_as_dataframe del notebook 3\n",
    "from math import exp, log\n",
    "import pandas as pd\n",
    "import numpy as np"
   ],
   "outputs": [],
   "execution_count": null
  },
  {
   "cell_type": "code",
   "metadata": {
    "execution": {
     "iopub.execute_input": "2024-06-25T21:49:19.598586Z",
     "iopub.status.busy": "2024-06-25T21:49:19.597899Z",
     "iopub.status.idle": "2024-06-25T21:49:19.602847Z",
     "shell.execute_reply": "2024-06-25T21:49:19.602008Z",
     "shell.execute_reply.started": "2024-06-25T21:49:19.598555Z"
    }
   },
   "source": [
    "pd.options.display.max_columns=300"
   ],
   "outputs": [],
   "execution_count": null
  },
  {
   "cell_type": "markdown",
   "metadata": {},
   "source": [
    "Para formateo de `pandas.DataFrames`."
   ]
  },
  {
   "cell_type": "code",
   "metadata": {
    "execution": {
     "iopub.execute_input": "2024-06-25T21:49:19.604344Z",
     "iopub.status.busy": "2024-06-25T21:49:19.603827Z",
     "iopub.status.idle": "2024-06-25T21:49:19.609634Z",
     "shell.execute_reply": "2024-06-25T21:49:19.608828Z",
     "shell.execute_reply.started": "2024-06-25T21:49:19.604314Z"
    }
   },
   "source": [
    "format_dict = {\n",
    "    'nominal': '{:,.2f}',\n",
    "    'amort': '{:,.2f}',\n",
    "    'interes': '{:,.2f}',\n",
    "    'flujo': '{:,.2f}',\n",
    "    'nocional': '{:,.2f}',\n",
    "    'amortizacion': '{:,.2f}',\n",
    "    'icp_inicial': '{:,.2f}',\n",
    "    'icp_final': '{:,.2f}',\n",
    "    'uf_inicial': '{:,.2f}',\n",
    "    'uf_final': '{:,.2f}',\n",
    "    'plazo': '{:,.0f}',\n",
    "    'tasa': '{:,.4%}',\n",
    "    'valor_tasa': '{:,.4%}',\n",
    "    'valor_tasa_equivalente': '{:,.4%}',\n",
    "    'spread': '{:,.4%}',\n",
    "    'gearing': '{:,.2f}',\n",
    "    'amort_moneda_pago': '{:,.2f}',\n",
    "    'interes_moneda_pago': '{:,.2f}',\n",
    "    'valor_indice_inicial': '{:,.2f}',\n",
    "    'valor_indice_final': '{:,.2f}',\n",
    "    'valor_indice_fx': '{:,.2f}',\n",
    "    'flujo_en_clp': '{:,.2f}',\n",
    "}"
   ],
   "outputs": [],
   "execution_count": null
  },
  {
   "cell_type": "markdown",
   "metadata": {},
   "source": [
    "## Construcción de la Curva"
   ]
  },
  {
   "cell_type": "markdown",
   "metadata": {},
   "source": [
    "La construcción de una curva se hace en varios pasos."
   ]
  },
  {
   "cell_type": "markdown",
   "metadata": {},
   "source": [
    "### Vectores de `Float` e `Int`"
   ]
  },
  {
   "cell_type": "markdown",
   "metadata": {},
   "source": [
    "Este es un vector de números enteros (grandes, de ahí la l (long))"
   ]
  },
  {
   "cell_type": "code",
   "metadata": {
    "execution": {
     "iopub.execute_input": "2024-06-25T21:49:19.611463Z",
     "iopub.status.busy": "2024-06-25T21:49:19.610906Z",
     "iopub.status.idle": "2024-06-25T21:49:19.615104Z",
     "shell.execute_reply": "2024-06-25T21:49:19.614193Z",
     "shell.execute_reply.started": "2024-06-25T21:49:19.611433Z"
    }
   },
   "source": [
    "lvec = qcf.long_vec()"
   ],
   "outputs": [],
   "execution_count": null
  },
  {
   "cell_type": "markdown",
   "metadata": {},
   "source": [
    "Agregar un elemento."
   ]
  },
  {
   "cell_type": "code",
   "metadata": {
    "execution": {
     "iopub.execute_input": "2024-06-25T21:49:19.619688Z",
     "iopub.status.busy": "2024-06-25T21:49:19.619372Z",
     "iopub.status.idle": "2024-06-25T21:49:19.623655Z",
     "shell.execute_reply": "2024-06-25T21:49:19.622509Z",
     "shell.execute_reply.started": "2024-06-25T21:49:19.619659Z"
    }
   },
   "source": [
    "lvec.append(1000)"
   ],
   "outputs": [],
   "execution_count": null
  },
  {
   "cell_type": "markdown",
   "metadata": {},
   "source": [
    "Este es un vector de números `float`."
   ]
  },
  {
   "cell_type": "code",
   "metadata": {
    "execution": {
     "iopub.execute_input": "2024-06-25T21:49:19.624959Z",
     "iopub.status.busy": "2024-06-25T21:49:19.624560Z",
     "iopub.status.idle": "2024-06-25T21:49:19.628570Z",
     "shell.execute_reply": "2024-06-25T21:49:19.627585Z",
     "shell.execute_reply.started": "2024-06-25T21:49:19.624927Z"
    }
   },
   "source": [
    "vec = qcf.double_vec()"
   ],
   "outputs": [],
   "execution_count": null
  },
  {
   "cell_type": "markdown",
   "metadata": {},
   "source": [
    "Agregar un elemento."
   ]
  },
  {
   "cell_type": "code",
   "metadata": {
    "execution": {
     "iopub.execute_input": "2024-06-25T21:49:19.630022Z",
     "iopub.status.busy": "2024-06-25T21:49:19.629475Z",
     "iopub.status.idle": "2024-06-25T21:49:19.634005Z",
     "shell.execute_reply": "2024-06-25T21:49:19.633171Z",
     "shell.execute_reply.started": "2024-06-25T21:49:19.629995Z"
    }
   },
   "source": [
    "vec.append(.025)"
   ],
   "outputs": [],
   "execution_count": null
  },
  {
   "cell_type": "markdown",
   "metadata": {},
   "source": [
    "Obtener ese elemento."
   ]
  },
  {
   "cell_type": "code",
   "metadata": {
    "execution": {
     "iopub.execute_input": "2024-06-25T21:49:19.635300Z",
     "iopub.status.busy": "2024-06-25T21:49:19.634939Z",
     "iopub.status.idle": "2024-06-25T21:49:19.639576Z",
     "shell.execute_reply": "2024-06-25T21:49:19.638840Z",
     "shell.execute_reply.started": "2024-06-25T21:49:19.635274Z"
    }
   },
   "source": [
    "print(f\"Plazo: {lvec[0]:,.0f}\")\n",
    "print(f\"Tasa: {vec[0]:,.2%}\")"
   ],
   "outputs": [],
   "execution_count": null
  },
  {
   "cell_type": "markdown",
   "metadata": {},
   "source": [
    "### Objeto Curva"
   ]
  },
  {
   "cell_type": "markdown",
   "metadata": {},
   "source": [
    "Es simplemente un `long_vec` que representa las abscisas de la curva y un `double_vec` que representa las ordenadas. Ambos vectores deben tener el mismo largo. "
   ]
  },
  {
   "cell_type": "code",
   "metadata": {
    "execution": {
     "iopub.execute_input": "2024-06-25T21:49:19.641391Z",
     "iopub.status.busy": "2024-06-25T21:49:19.640762Z",
     "iopub.status.idle": "2024-06-25T21:49:19.644907Z",
     "shell.execute_reply": "2024-06-25T21:49:19.644156Z",
     "shell.execute_reply.started": "2024-06-25T21:49:19.641361Z"
    }
   },
   "source": [
    "curva = qcf.QCCurve(lvec, vec)"
   ],
   "outputs": [],
   "execution_count": null
  },
  {
   "cell_type": "markdown",
   "metadata": {},
   "source": [
    "Un elemento de una curva se representa como un par abscisa, ordenada."
   ]
  },
  {
   "cell_type": "code",
   "metadata": {
    "execution": {
     "iopub.execute_input": "2024-06-25T21:49:19.646691Z",
     "iopub.status.busy": "2024-06-25T21:49:19.646131Z",
     "iopub.status.idle": "2024-06-25T21:49:19.653123Z",
     "shell.execute_reply": "2024-06-25T21:49:19.651987Z",
     "shell.execute_reply.started": "2024-06-25T21:49:19.646659Z"
    }
   },
   "source": [
    "curva.get_values_at(0)"
   ],
   "outputs": [],
   "execution_count": null
  },
  {
   "cell_type": "markdown",
   "metadata": {},
   "source": [
    "Se obtiene el plazo en una posición de la curva."
   ]
  },
  {
   "cell_type": "code",
   "metadata": {
    "execution": {
     "iopub.execute_input": "2024-06-25T21:49:19.654546Z",
     "iopub.status.busy": "2024-06-25T21:49:19.654116Z",
     "iopub.status.idle": "2024-06-25T21:49:19.659738Z",
     "shell.execute_reply": "2024-06-25T21:49:19.658962Z",
     "shell.execute_reply.started": "2024-06-25T21:49:19.654517Z"
    }
   },
   "source": [
    "curva.get_values_at(0)[0]"
   ],
   "outputs": [],
   "execution_count": null
  },
  {
   "cell_type": "markdown",
   "metadata": {},
   "source": [
    "Se obtiene la tasa en una posición de la curva."
   ]
  },
  {
   "cell_type": "code",
   "metadata": {
    "execution": {
     "iopub.execute_input": "2024-06-25T21:49:19.661320Z",
     "iopub.status.busy": "2024-06-25T21:49:19.660685Z",
     "iopub.status.idle": "2024-06-25T21:49:19.666378Z",
     "shell.execute_reply": "2024-06-25T21:49:19.665670Z",
     "shell.execute_reply.started": "2024-06-25T21:49:19.661294Z"
    }
   },
   "source": [
    "curva.get_values_at(0)[1]"
   ],
   "outputs": [],
   "execution_count": null
  },
  {
   "cell_type": "markdown",
   "metadata": {},
   "source": [
    "Se agrega un par (plazo, valor) a la curva."
   ]
  },
  {
   "cell_type": "code",
   "metadata": {
    "execution": {
     "iopub.execute_input": "2024-06-25T21:49:19.667985Z",
     "iopub.status.busy": "2024-06-25T21:49:19.667656Z",
     "iopub.status.idle": "2024-06-25T21:49:19.671918Z",
     "shell.execute_reply": "2024-06-25T21:49:19.671216Z",
     "shell.execute_reply.started": "2024-06-25T21:49:19.667960Z"
    }
   },
   "source": [
    "curva.set_pair(100, .026)"
   ],
   "outputs": [],
   "execution_count": null
  },
  {
   "cell_type": "markdown",
   "metadata": {},
   "source": [
    "Se verifica. Notar que se debe usar el índice 0 ya que la curva se ordena automáticamente por plazos ascendentes."
   ]
  },
  {
   "cell_type": "code",
   "metadata": {
    "execution": {
     "iopub.execute_input": "2024-06-25T21:49:19.673905Z",
     "iopub.status.busy": "2024-06-25T21:49:19.673406Z",
     "iopub.status.idle": "2024-06-25T21:49:19.679434Z",
     "shell.execute_reply": "2024-06-25T21:49:19.678620Z",
     "shell.execute_reply.started": "2024-06-25T21:49:19.673872Z"
    }
   },
   "source": [
    "curva.get_values_at(0)[0]"
   ],
   "outputs": [],
   "execution_count": null
  },
  {
   "cell_type": "code",
   "metadata": {
    "execution": {
     "iopub.execute_input": "2024-06-25T21:49:19.681140Z",
     "iopub.status.busy": "2024-06-25T21:49:19.680572Z",
     "iopub.status.idle": "2024-06-25T21:49:19.686221Z",
     "shell.execute_reply": "2024-06-25T21:49:19.685508Z",
     "shell.execute_reply.started": "2024-06-25T21:49:19.681112Z"
    }
   },
   "source": [
    "curva.get_values_at(0)[1]"
   ],
   "outputs": [],
   "execution_count": null
  },
  {
   "cell_type": "markdown",
   "metadata": {},
   "source": [
    "Se agrega un par más."
   ]
  },
  {
   "cell_type": "code",
   "metadata": {
    "execution": {
     "iopub.execute_input": "2024-06-25T21:49:19.687887Z",
     "iopub.status.busy": "2024-06-25T21:49:19.687598Z",
     "iopub.status.idle": "2024-06-25T21:49:19.691548Z",
     "shell.execute_reply": "2024-06-25T21:49:19.690706Z",
     "shell.execute_reply.started": "2024-06-25T21:49:19.687862Z"
    }
   },
   "source": [
    "curva.set_pair(370, .03)"
   ],
   "outputs": [],
   "execution_count": null
  },
  {
   "cell_type": "markdown",
   "metadata": {},
   "source": [
    "Se itera sobre la curva mostrando sus valores"
   ]
  },
  {
   "cell_type": "code",
   "metadata": {
    "execution": {
     "iopub.execute_input": "2024-06-25T21:49:19.693131Z",
     "iopub.status.busy": "2024-06-25T21:49:19.692819Z",
     "iopub.status.idle": "2024-06-25T21:49:19.698330Z",
     "shell.execute_reply": "2024-06-25T21:49:19.697450Z",
     "shell.execute_reply.started": "2024-06-25T21:49:19.693103Z"
    }
   },
   "source": [
    "for i in range(curva.get_length()):\n",
    "    pair = curva.get_values_at(i)\n",
    "    print(\"Tenor: {0:,.0f} Valor: {1:.4%}\".format(pair[0], pair[1]))"
   ],
   "outputs": [],
   "execution_count": null
  },
  {
   "cell_type": "markdown",
   "metadata": {},
   "source": [
    "### Interpolador"
   ]
  },
  {
   "cell_type": "markdown",
   "metadata": {},
   "source": [
    "Se agrega un interpolador. En este caso, un interpolador lineal."
   ]
  },
  {
   "cell_type": "code",
   "metadata": {
    "execution": {
     "iopub.execute_input": "2024-06-25T21:49:19.699873Z",
     "iopub.status.busy": "2024-06-25T21:49:19.699505Z",
     "iopub.status.idle": "2024-06-25T21:49:19.703717Z",
     "shell.execute_reply": "2024-06-25T21:49:19.702880Z",
     "shell.execute_reply.started": "2024-06-25T21:49:19.699846Z"
    }
   },
   "source": [
    "lin = qcf.QCLinearInterpolator(curva)"
   ],
   "outputs": [],
   "execution_count": null
  },
  {
   "cell_type": "markdown",
   "metadata": {},
   "source": [
    "Se puede ahora obtener una tasa a un plazo cualquiera."
   ]
  },
  {
   "cell_type": "code",
   "metadata": {
    "execution": {
     "iopub.execute_input": "2024-06-25T21:49:19.705486Z",
     "iopub.status.busy": "2024-06-25T21:49:19.704915Z",
     "iopub.status.idle": "2024-06-25T21:49:19.710241Z",
     "shell.execute_reply": "2024-06-25T21:49:19.709170Z",
     "shell.execute_reply.started": "2024-06-25T21:49:19.705454Z"
    }
   },
   "source": [
    "plazo = 120\n",
    "print(f\"Tasa a {plazo:,.0f} días es igual a {lin.interpolate_at(plazo):.4%}\")"
   ],
   "outputs": [],
   "execution_count": null
  },
  {
   "cell_type": "markdown",
   "metadata": {},
   "source": [
    "### Curva Cero Cupón"
   ]
  },
  {
   "cell_type": "markdown",
   "metadata": {},
   "source": [
    "Para completar el proceso se define un objeto de tipo `QCInterestRate`. Con este objeto, que representa la convención de las tasas de interés asociadas a la curva, se termina de dar de alta una curva cero cupón."
   ]
  },
  {
   "cell_type": "code",
   "metadata": {
    "execution": {
     "iopub.execute_input": "2024-06-25T21:49:19.722284Z",
     "iopub.status.busy": "2024-06-25T21:49:19.721870Z",
     "iopub.status.idle": "2024-06-25T21:49:19.729019Z",
     "shell.execute_reply": "2024-06-25T21:49:19.727787Z",
     "shell.execute_reply.started": "2024-06-25T21:49:19.722253Z"
    }
   },
   "source": [
    "yf = qcf.QCAct365()\n",
    "wf = qcf.QCContinousWf()\n",
    "tasa = qcf.QCInterestRate(.0, yf, wf)"
   ],
   "outputs": [],
   "execution_count": null
  },
  {
   "cell_type": "code",
   "metadata": {
    "execution": {
     "iopub.execute_input": "2024-06-25T21:49:19.730991Z",
     "iopub.status.busy": "2024-06-25T21:49:19.730314Z",
     "iopub.status.idle": "2024-06-25T21:49:19.735693Z",
     "shell.execute_reply": "2024-06-25T21:49:19.734556Z",
     "shell.execute_reply.started": "2024-06-25T21:49:19.730950Z"
    }
   },
   "source": [
    "zcc = qcf.ZeroCouponCurve(lin, tasa)"
   ],
   "outputs": [],
   "execution_count": null
  },
  {
   "cell_type": "markdown",
   "metadata": {},
   "source": [
    "El interpolador permite obtener una tasa a cualquier plazo."
   ]
  },
  {
   "cell_type": "code",
   "metadata": {
    "execution": {
     "iopub.execute_input": "2024-06-25T21:49:19.737421Z",
     "iopub.status.busy": "2024-06-25T21:49:19.737017Z",
     "iopub.status.idle": "2024-06-25T21:49:19.742282Z",
     "shell.execute_reply": "2024-06-25T21:49:19.741171Z",
     "shell.execute_reply.started": "2024-06-25T21:49:19.737391Z"
    }
   },
   "source": [
    "plazo = 300\n",
    "print(f\"Tasa en {plazo:,.0f} es igual a {zcc.get_rate_at(plazo):.4%}\")"
   ],
   "outputs": [],
   "execution_count": null
  },
  {
   "cell_type": "markdown",
   "metadata": {},
   "source": [
    "#### Otros métodos:"
   ]
  },
  {
   "cell_type": "markdown",
   "metadata": {},
   "source": [
    "Discount factor."
   ]
  },
  {
   "cell_type": "code",
   "metadata": {
    "execution": {
     "iopub.execute_input": "2024-06-25T21:49:19.744138Z",
     "iopub.status.busy": "2024-06-25T21:49:19.743563Z",
     "iopub.status.idle": "2024-06-25T21:49:19.749325Z",
     "shell.execute_reply": "2024-06-25T21:49:19.748288Z",
     "shell.execute_reply.started": "2024-06-25T21:49:19.744108Z"
    }
   },
   "source": [
    "print(f\"Discount factor at {plazo}: {zcc.get_discount_factor_at(plazo):.6%}\")\n",
    "print(f\"Check: {exp(-zcc.get_rate_at(plazo) * plazo / 365):.6%}\")"
   ],
   "outputs": [],
   "execution_count": null
  },
  {
   "cell_type": "markdown",
   "metadata": {},
   "source": [
    "Tasa Forward"
   ]
  },
  {
   "cell_type": "code",
   "metadata": {
    "execution": {
     "iopub.execute_input": "2024-06-25T21:50:17.691861Z",
     "iopub.status.busy": "2024-06-25T21:50:17.691519Z",
     "iopub.status.idle": "2024-06-25T21:50:17.696786Z",
     "shell.execute_reply": "2024-06-25T21:50:17.695953Z",
     "shell.execute_reply.started": "2024-06-25T21:50:17.691830Z"
    }
   },
   "source": [
    "d1 = 30\n",
    "d2 = 90\n",
    "print(f\"Tasa forward entre los días {d1:,.0f} y {d2:,.0f}: {zcc.get_forward_rate(d1, d2):.4%}\")"
   ],
   "outputs": [],
   "execution_count": null
  },
  {
   "cell_type": "markdown",
   "metadata": {},
   "source": [
    "Se verifica el cálculo."
   ]
  },
  {
   "cell_type": "code",
   "metadata": {
    "execution": {
     "iopub.execute_input": "2024-06-25T21:50:18.120165Z",
     "iopub.status.busy": "2024-06-25T21:50:18.119584Z",
     "iopub.status.idle": "2024-06-25T21:50:18.124538Z",
     "shell.execute_reply": "2024-06-25T21:50:18.123795Z",
     "shell.execute_reply.started": "2024-06-25T21:50:18.120138Z"
    }
   },
   "source": [
    "df1 = zcc.get_discount_factor_at(d1)\n",
    "df2 = zcc.get_discount_factor_at(d2)\n",
    "df12 = df1 / df2\n",
    "print(f\"Check: {log(df12) * 365 / (d2 - d1):.4%}\")"
   ],
   "outputs": [],
   "execution_count": null
  },
  {
   "cell_type": "markdown",
   "metadata": {},
   "source": [
    "## Valorizar"
   ]
  },
  {
   "cell_type": "markdown",
   "metadata": {},
   "source": [
    "Para valorizar es necesario dar de alta un objeto de tipo `PresentValue`."
   ]
  },
  {
   "cell_type": "code",
   "metadata": {
    "execution": {
     "iopub.execute_input": "2024-06-25T21:50:19.756729Z",
     "iopub.status.busy": "2024-06-25T21:50:19.756121Z",
     "iopub.status.idle": "2024-06-25T21:50:19.760997Z",
     "shell.execute_reply": "2024-06-25T21:50:19.759745Z",
     "shell.execute_reply.started": "2024-06-25T21:50:19.756698Z"
    }
   },
   "source": [
    "pv = qcf.PresentValue()"
   ],
   "outputs": [],
   "execution_count": null
  },
  {
   "cell_type": "markdown",
   "metadata": {},
   "source": [
    "### Depósito a Plazo"
   ]
  },
  {
   "cell_type": "markdown",
   "metadata": {},
   "source": [
    "Se utilizará como instrumento un depósito a plazo en CLP o USD. Este instrumento se modela como un `SimpleCashflow`. Este, a su vez se construye con un monto, una fecha y una moneda."
   ]
  },
  {
   "cell_type": "code",
   "metadata": {
    "execution": {
     "iopub.execute_input": "2024-06-25T21:50:20.386620Z",
     "iopub.status.busy": "2024-06-25T21:50:20.386240Z",
     "iopub.status.idle": "2024-06-25T21:50:20.391976Z",
     "shell.execute_reply": "2024-06-25T21:50:20.391196Z",
     "shell.execute_reply.started": "2024-06-25T21:50:20.386591Z"
    }
   },
   "source": [
    "fecha_vcto = qcf.QCDate(13, 1, 2025)\n",
    "monto = 10_000_000.0\n",
    "clp = qcf.QCCLP()\n",
    "\n",
    "# Se construye el depósito\n",
    "depo = qcf.SimpleCashflow(fecha_vcto, monto, clp)"
   ],
   "outputs": [],
   "execution_count": null
  },
  {
   "cell_type": "code",
   "metadata": {
    "execution": {
     "iopub.execute_input": "2024-06-25T21:50:20.600018Z",
     "iopub.status.busy": "2024-06-25T21:50:20.599677Z",
     "iopub.status.idle": "2024-06-25T21:50:20.604379Z",
     "shell.execute_reply": "2024-06-25T21:50:20.603463Z",
     "shell.execute_reply.started": "2024-06-25T21:50:20.599988Z"
    }
   },
   "source": [
    "print(f\"Monto del depósito: {depo.amount():,.0f}\")"
   ],
   "outputs": [],
   "execution_count": null
  },
  {
   "cell_type": "markdown",
   "metadata": {},
   "source": [
    "Se define una fecha de valorización y se calcula el valor presente del depo."
   ]
  },
  {
   "cell_type": "code",
   "metadata": {
    "execution": {
     "iopub.execute_input": "2024-06-25T21:50:21.005116Z",
     "iopub.status.busy": "2024-06-25T21:50:21.004778Z",
     "iopub.status.idle": "2024-06-25T21:50:21.009595Z",
     "shell.execute_reply": "2024-06-25T21:50:21.008865Z",
     "shell.execute_reply.started": "2024-06-25T21:50:21.005088Z"
    }
   },
   "source": [
    "fecha_hoy = qcf.QCDate(31, 1, 2024)\n",
    "print(f\"Valor presente depo: {pv.pv(fecha_hoy, depo, zcc):,.2f}\")"
   ],
   "outputs": [],
   "execution_count": null
  },
  {
   "cell_type": "markdown",
   "metadata": {},
   "source": [
    "Se verifica *a mano* el resultado."
   ]
  },
  {
   "cell_type": "code",
   "metadata": {
    "execution": {
     "iopub.execute_input": "2024-06-25T21:50:21.400133Z",
     "iopub.status.busy": "2024-06-25T21:50:21.399797Z",
     "iopub.status.idle": "2024-06-25T21:50:21.404770Z",
     "shell.execute_reply": "2024-06-25T21:50:21.403966Z",
     "shell.execute_reply.started": "2024-06-25T21:50:21.400104Z"
    }
   },
   "source": [
    "plazo = fecha_hoy.day_diff(fecha_vcto)\n",
    "print(\"Plazo:\", plazo)"
   ],
   "outputs": [],
   "execution_count": null
  },
  {
   "cell_type": "code",
   "metadata": {
    "execution": {
     "iopub.execute_input": "2024-06-25T21:50:21.626526Z",
     "iopub.status.busy": "2024-06-25T21:50:21.625785Z",
     "iopub.status.idle": "2024-06-25T21:50:21.630699Z",
     "shell.execute_reply": "2024-06-25T21:50:21.629844Z",
     "shell.execute_reply.started": "2024-06-25T21:50:21.626496Z"
    }
   },
   "source": [
    "tasa_int = zcc.get_rate_at(plazo)\n",
    "print(f\"Tasa: {tasa_int:,.4%}\")"
   ],
   "outputs": [],
   "execution_count": null
  },
  {
   "cell_type": "code",
   "metadata": {
    "execution": {
     "iopub.execute_input": "2024-06-25T21:50:21.839369Z",
     "iopub.status.busy": "2024-06-25T21:50:21.838928Z",
     "iopub.status.idle": "2024-06-25T21:50:21.843756Z",
     "shell.execute_reply": "2024-06-25T21:50:21.843035Z",
     "shell.execute_reply.started": "2024-06-25T21:50:21.839342Z"
    }
   },
   "source": [
    "valor_presente = monto * exp(-tasa_int * plazo / 365)\n",
    "print(f\"Valor presente a mano: {valor_presente:,.2f}\")"
   ],
   "outputs": [],
   "execution_count": null
  },
  {
   "cell_type": "markdown",
   "metadata": {},
   "source": [
    "### Renta Fija de Chile"
   ]
  },
  {
   "cell_type": "markdown",
   "metadata": {},
   "source": [
    "Se muestra el ejemplo de valorización de un bono bullet a tasa fija con las convenciones de la Bolsa de Comercio de Santiago. Para el ejemplo usamos las características del BTU0150326.\n",
    "\n",
    "Se dan de alta los parámetros requeridos para instanciar un objeto de tipo `FixedRateLeg`."
   ]
  },
  {
   "cell_type": "code",
   "metadata": {
    "execution": {
     "iopub.execute_input": "2024-06-25T21:50:22.691553Z",
     "iopub.status.busy": "2024-06-25T21:50:22.691202Z",
     "iopub.status.idle": "2024-06-25T21:50:22.697528Z",
     "shell.execute_reply": "2024-06-25T21:50:22.696668Z",
     "shell.execute_reply.started": "2024-06-25T21:50:22.691522Z"
    }
   },
   "source": [
    "rp = qcf.RecPay.RECEIVE\n",
    "fecha_inicio = qcf.QCDate(1, 3, 2015)\n",
    "fecha_final = qcf.QCDate(1, 3, 2026)\n",
    "bus_adj_rule = qcf.BusyAdjRules.NO\n",
    "periodicidad = qcf.Tenor('6M')\n",
    "periodo_irregular = qcf.StubPeriod.NO\n",
    "calendario = qcf.BusinessCalendar(fecha_inicio, 20)\n",
    "lag_pago = 0\n",
    "nominal = 100.0\n",
    "amort_es_flujo = True\n",
    "valor_tasa_fija = .015\n",
    "tasa_cupon = qcf.QCInterestRate(\n",
    "    valor_tasa_fija, \n",
    "    qcf.QC30360(),\n",
    "    qcf.QCLinearWf()\n",
    ")\n",
    "moneda = qcf.QCCLP()\n",
    "es_bono = True"
   ],
   "outputs": [],
   "execution_count": null
  },
  {
   "cell_type": "markdown",
   "metadata": {},
   "source": [
    "Se da de alta el objeto."
   ]
  },
  {
   "cell_type": "code",
   "metadata": {
    "execution": {
     "iopub.execute_input": "2024-06-25T21:50:24.885036Z",
     "iopub.status.busy": "2024-06-25T21:50:24.884696Z",
     "iopub.status.idle": "2024-06-25T21:50:24.889639Z",
     "shell.execute_reply": "2024-06-25T21:50:24.888723Z",
     "shell.execute_reply.started": "2024-06-25T21:50:24.885007Z"
    }
   },
   "source": [
    "pata_bono = qcf.LegFactory.build_bullet_fixed_rate_leg(\n",
    "    rp,\n",
    "    fecha_inicio,\n",
    "    fecha_final,\n",
    "    bus_adj_rule,\n",
    "    periodicidad,\n",
    "    periodo_irregular,\n",
    "    calendario,\n",
    "    lag_pago,\n",
    "    nominal,\n",
    "    amort_es_flujo,\n",
    "    tasa_cupon,\n",
    "    moneda,\n",
    "    es_bono\n",
    ")"
   ],
   "outputs": [],
   "execution_count": null
  },
  {
   "cell_type": "markdown",
   "metadata": {},
   "source": [
    "Se da de alta el valor de la TERA y luego se construye un objeto de tipo `ChileanFixedRateBond`."
   ]
  },
  {
   "cell_type": "code",
   "metadata": {
    "execution": {
     "iopub.execute_input": "2024-06-25T21:50:25.557075Z",
     "iopub.status.busy": "2024-06-25T21:50:25.556733Z",
     "iopub.status.idle": "2024-06-25T21:50:25.561253Z",
     "shell.execute_reply": "2024-06-25T21:50:25.560311Z",
     "shell.execute_reply.started": "2024-06-25T21:50:25.557046Z"
    }
   },
   "source": [
    "tera = qcf.QCInterestRate(.015044, qcf.QCAct365(), qcf.QCCompoundWf())\n",
    "bono_chileno = qcf.ChileanFixedRateBond(pata_bono, tera)"
   ],
   "outputs": [],
   "execution_count": null
  },
  {
   "cell_type": "markdown",
   "metadata": {},
   "source": [
    "Se valoriza al 2021-09-28 a una TIR de mercado del 1.61%."
   ]
  },
  {
   "cell_type": "code",
   "metadata": {
    "execution": {
     "iopub.execute_input": "2024-06-25T21:50:25.934927Z",
     "iopub.status.busy": "2024-06-25T21:50:25.934583Z",
     "iopub.status.idle": "2024-06-25T21:50:25.941067Z",
     "shell.execute_reply": "2024-06-25T21:50:25.940254Z",
     "shell.execute_reply.started": "2024-06-25T21:50:25.934899Z"
    }
   },
   "source": [
    "fecha_valor = qcf.QCDate(28, 9, 2021)\n",
    "tir = qcf.QCInterestRate(.0161, qcf.QCAct365(), qcf.QCCompoundWf())\n",
    "\n",
    "valor_presente = bono_chileno.present_value(fecha_valor, tir)\n",
    "precio = bono_chileno.precio(fecha_valor, tir)\n",
    "valor_par = bono_chileno.valor_par(fecha_valor)\n",
    "\n",
    "print(f'Valor presente: {valor_presente:,.8f}')\n",
    "print(f'Precio: {precio:,.2%}')\n",
    "print(f'Valor par: {valor_par:,.18f}')"
   ],
   "outputs": [],
   "execution_count": null
  },
  {
   "cell_type": "markdown",
   "metadata": {},
   "source": [
    "Con esto el valor a pagar es:"
   ]
  },
  {
   "cell_type": "code",
   "metadata": {
    "execution": {
     "iopub.execute_input": "2024-06-25T21:50:26.551602Z",
     "iopub.status.busy": "2024-06-25T21:50:26.551260Z",
     "iopub.status.idle": "2024-06-25T21:50:26.556374Z",
     "shell.execute_reply": "2024-06-25T21:50:26.555621Z",
     "shell.execute_reply.started": "2024-06-25T21:50:26.551573Z"
    }
   },
   "source": [
    "valor_uf = 30_080.37\n",
    "valor_pago = precio * valor_par * valor_uf\n",
    "print(f'Valor a pagar: {valor_pago:,.0f}')"
   ],
   "outputs": [],
   "execution_count": null
  },
  {
   "cell_type": "markdown",
   "metadata": {},
   "source": [
    "Con 4 decimales en el precio (4 decimales porcentuales, 6 decimales en el número):"
   ]
  },
  {
   "cell_type": "code",
   "metadata": {
    "execution": {
     "iopub.execute_input": "2024-06-25T21:50:27.749321Z",
     "iopub.status.busy": "2024-06-25T21:50:27.748737Z",
     "iopub.status.idle": "2024-06-25T21:50:27.753613Z",
     "shell.execute_reply": "2024-06-25T21:50:27.752648Z",
     "shell.execute_reply.started": "2024-06-25T21:50:27.749292Z"
    }
   },
   "source": [
    "precio2 = bono_chileno.precio2(fecha_valor, tir, 6)\n",
    "print(f'Precio a 4 decmales: {precio2:.4%}')"
   ],
   "outputs": [],
   "execution_count": null
  },
  {
   "cell_type": "markdown",
   "metadata": {},
   "source": [
    "La función `precio2` entrega el mismo resultado que la función precio cuando se utiliza con 2 decimales porcentuales."
   ]
  },
  {
   "cell_type": "code",
   "metadata": {
    "execution": {
     "iopub.execute_input": "2024-06-25T21:50:28.489431Z",
     "iopub.status.busy": "2024-06-25T21:50:28.489068Z",
     "iopub.status.idle": "2024-06-25T21:50:28.494011Z",
     "shell.execute_reply": "2024-06-25T21:50:28.493235Z",
     "shell.execute_reply.started": "2024-06-25T21:50:28.489403Z"
    }
   },
   "source": [
    "precio22 = bono_chileno.precio2(fecha_valor, tir, 4)\n",
    "print(f'Precio a 4 decmales: {precio22:.4%}')"
   ],
   "outputs": [],
   "execution_count": null
  },
  {
   "cell_type": "markdown",
   "metadata": {},
   "source": [
    "Se muestran las diferencias con la convención de precio usual en mercados desarrollados."
   ]
  },
  {
   "cell_type": "code",
   "metadata": {
    "execution": {
     "iopub.execute_input": "2024-06-25T21:50:29.002486Z",
     "iopub.status.busy": "2024-06-25T21:50:29.001930Z",
     "iopub.status.idle": "2024-06-25T21:50:29.007083Z",
     "shell.execute_reply": "2024-06-25T21:50:29.006330Z",
     "shell.execute_reply.started": "2024-06-25T21:50:29.002460Z"
    }
   },
   "source": [
    "bono = qcf.FixedRateBond(pata_bono)\n",
    "print(f'Valor presente: {bono.present_value(fecha_valor, tir):,.8f}')\n",
    "print(f'Precio: {bono.price(fecha_valor, tir):,.8f}')"
   ],
   "outputs": [],
   "execution_count": null
  },
  {
   "cell_type": "markdown",
   "metadata": {},
   "source": [
    "### Curvas Reales"
   ]
  },
  {
   "cell_type": "markdown",
   "metadata": {},
   "source": [
    "Construyamos dos curvas a partir de data real. Primero una curva en CLP."
   ]
  },
  {
   "cell_type": "code",
   "metadata": {
    "execution": {
     "iopub.execute_input": "2024-06-25T21:50:30.413153Z",
     "iopub.status.busy": "2024-06-25T21:50:30.412762Z",
     "iopub.status.idle": "2024-06-25T21:50:30.834351Z",
     "shell.execute_reply": "2024-06-25T21:50:30.833307Z",
     "shell.execute_reply.started": "2024-06-25T21:50:30.413122Z"
    }
   },
   "source": [
    "curva_clp = pd.read_excel(\"./input/curva_clp.xlsx\")\n",
    "curva_clp.style.format(format_dict)"
   ],
   "outputs": [],
   "execution_count": null
  },
  {
   "cell_type": "markdown",
   "metadata": {},
   "source": [
    "Se da de alta un vector con los plazos (variable de tipo `long`) y un vector con las tasas (variable de tipo `double`)."
   ]
  },
  {
   "cell_type": "code",
   "metadata": {
    "execution": {
     "iopub.execute_input": "2024-06-25T21:50:30.939377Z",
     "iopub.status.busy": "2024-06-25T21:50:30.938650Z",
     "iopub.status.idle": "2024-06-25T21:50:30.944284Z",
     "shell.execute_reply": "2024-06-25T21:50:30.943327Z",
     "shell.execute_reply.started": "2024-06-25T21:50:30.939348Z"
    }
   },
   "source": [
    "lvec1 = qcf.long_vec()\n",
    "vec1 = qcf.double_vec()\n",
    "for t in curva_clp.itertuples():\n",
    "    lvec1.append(int(t.plazo))\n",
    "    vec1.append(t.tasa)"
   ],
   "outputs": [],
   "execution_count": null
  },
  {
   "cell_type": "markdown",
   "metadata": {},
   "source": [
    "Luego, con una curva, un interpolador y un objeto `QCInterestRate`(que indica la convención de las tasas de la curva) se construye una curva cupón cero."
   ]
  },
  {
   "cell_type": "code",
   "metadata": {
    "execution": {
     "iopub.execute_input": "2024-06-25T21:50:31.771313Z",
     "iopub.status.busy": "2024-06-25T21:50:31.770976Z",
     "iopub.status.idle": "2024-06-25T21:50:31.775558Z",
     "shell.execute_reply": "2024-06-25T21:50:31.774713Z",
     "shell.execute_reply.started": "2024-06-25T21:50:31.771287Z"
    }
   },
   "source": [
    "curva1 = qcf.QCCurve(lvec1, vec1)\n",
    "lin1 = qcf.QCLinearInterpolator(curva1)\n",
    "zcc_clp = qcf.ZeroCouponCurve(lin1, tasa)"
   ],
   "outputs": [],
   "execution_count": null
  },
  {
   "cell_type": "markdown",
   "metadata": {},
   "source": [
    "Luego, una curva en USD."
   ]
  },
  {
   "cell_type": "code",
   "metadata": {
    "execution": {
     "iopub.execute_input": "2024-06-25T21:50:32.555812Z",
     "iopub.status.busy": "2024-06-25T21:50:32.555473Z",
     "iopub.status.idle": "2024-06-25T21:50:32.636935Z",
     "shell.execute_reply": "2024-06-25T21:50:32.636108Z",
     "shell.execute_reply.started": "2024-06-25T21:50:32.555782Z"
    }
   },
   "source": [
    "curva_usd = pd.read_excel(\"./input/curva_usd.xlsx\")\n",
    "curva_usd.style.format(format_dict)"
   ],
   "outputs": [],
   "execution_count": null
  },
  {
   "cell_type": "markdown",
   "metadata": {},
   "source": [
    "Se encapasulará todo el procedimiento anterior en una función que dado un `DataFrame` construya un objeto `ZeroCouponCurve`."
   ]
  },
  {
   "cell_type": "code",
   "metadata": {
    "execution": {
     "iopub.execute_input": "2024-06-25T21:50:32.996263Z",
     "iopub.status.busy": "2024-06-25T21:50:32.995917Z",
     "iopub.status.idle": "2024-06-25T21:50:33.001903Z",
     "shell.execute_reply": "2024-06-25T21:50:33.001006Z",
     "shell.execute_reply.started": "2024-06-25T21:50:32.996234Z"
    }
   },
   "source": [
    "def zcc_from_df(df: pd.DataFrame, tasa: qcf.QCInterestRate) -> qcf.ZeroCouponCurve:\n",
    "    lvec = qcf.long_vec()\n",
    "    vec = qcf.double_vec()\n",
    "    for t in df.itertuples():\n",
    "        lvec.append(int(t.plazo))\n",
    "        vec.append(t.tasa)\n",
    "    curva = qcf.QCCurve(lvec, vec)\n",
    "    lin = qcf.QCLinearInterpolator(curva)\n",
    "    return qcf.ZeroCouponCurve(lin, tasa)"
   ],
   "outputs": [],
   "execution_count": null
  },
  {
   "cell_type": "code",
   "metadata": {
    "execution": {
     "iopub.execute_input": "2024-06-25T21:50:33.448339Z",
     "iopub.status.busy": "2024-06-25T21:50:33.447993Z",
     "iopub.status.idle": "2024-06-25T21:50:33.452533Z",
     "shell.execute_reply": "2024-06-25T21:50:33.451626Z",
     "shell.execute_reply.started": "2024-06-25T21:50:33.448311Z"
    }
   },
   "source": [
    "zcc_usd = zcc_from_df(curva_usd, tasa)"
   ],
   "outputs": [],
   "execution_count": null
  },
  {
   "cell_type": "markdown",
   "metadata": {},
   "source": [
    "Finalmente, una curva en CLF."
   ]
  },
  {
   "cell_type": "code",
   "metadata": {
    "execution": {
     "iopub.execute_input": "2024-06-25T21:50:34.400720Z",
     "iopub.status.busy": "2024-06-25T21:50:34.400377Z",
     "iopub.status.idle": "2024-06-25T21:50:34.421317Z",
     "shell.execute_reply": "2024-06-25T21:50:34.420385Z",
     "shell.execute_reply.started": "2024-06-25T21:50:34.400691Z"
    }
   },
   "source": [
    "curva_clf = pd.read_excel(\"./input/curva_clf.xlsx\")\n",
    "curva_clf.style.format(format_dict)"
   ],
   "outputs": [],
   "execution_count": null
  },
  {
   "cell_type": "code",
   "metadata": {
    "execution": {
     "iopub.execute_input": "2024-06-25T21:50:34.756743Z",
     "iopub.status.busy": "2024-06-25T21:50:34.756405Z",
     "iopub.status.idle": "2024-06-25T21:50:34.760948Z",
     "shell.execute_reply": "2024-06-25T21:50:34.760118Z",
     "shell.execute_reply.started": "2024-06-25T21:50:34.756715Z"
    }
   },
   "source": [
    "zcc_clf = zcc_from_df(curva_clf, tasa)"
   ],
   "outputs": [],
   "execution_count": null
  },
  {
   "cell_type": "code",
   "metadata": {
    "execution": {
     "iopub.execute_input": "2024-06-25T21:50:34.980501Z",
     "iopub.status.busy": "2024-06-25T21:50:34.980158Z",
     "iopub.status.idle": "2024-06-25T21:50:35.020130Z",
     "shell.execute_reply": "2024-06-25T21:50:35.019192Z",
     "shell.execute_reply.started": "2024-06-25T21:50:34.980472Z"
    }
   },
   "source": [
    "curva_sofr = pd.read_excel(\"./input/sofr.xlsx\")\n",
    "curva_sofr.style.format(format_dict)"
   ],
   "outputs": [],
   "execution_count": null
  },
  {
   "cell_type": "code",
   "metadata": {
    "execution": {
     "iopub.execute_input": "2024-06-25T21:50:35.404712Z",
     "iopub.status.busy": "2024-06-25T21:50:35.404364Z",
     "iopub.status.idle": "2024-06-25T21:50:35.410930Z",
     "shell.execute_reply": "2024-06-25T21:50:35.410153Z",
     "shell.execute_reply.started": "2024-06-25T21:50:35.404680Z"
    }
   },
   "source": [
    "zcc_sofr = zcc_from_df(curva_sofr, tasa)\n",
    "zcc_sofr.get_rate_at(10_959)"
   ],
   "outputs": [],
   "execution_count": null
  },
  {
   "cell_type": "code",
   "metadata": {
    "execution": {
     "iopub.execute_input": "2024-06-25T21:50:36.085080Z",
     "iopub.status.busy": "2024-06-25T21:50:36.084639Z",
     "iopub.status.idle": "2024-06-25T21:50:36.097472Z",
     "shell.execute_reply": "2024-06-25T21:50:36.096708Z",
     "shell.execute_reply.started": "2024-06-25T21:50:36.085049Z"
    }
   },
   "source": [
    "curva_sol = {\n",
    "  \"curve_code\": \"CSOFR\",\n",
    "  \"type_of_rate\": \"CON_ACT/365\",\n",
    "  \"process_date\": \"2024-06-11\",\n",
    "  \"jacobians\": {},\n",
    "  \"values\": [\n",
    "    {\n",
    "      \"tenor\": \"2D\",\n",
    "      \"maturity\": 2,\n",
    "      \"rate\": 0.05393091948998677\n",
    "    },\n",
    "    {\n",
    "      \"tenor\": \"7D\",\n",
    "      \"maturity\": 9,\n",
    "      \"rate\": 0.05391149528761137\n",
    "    },\n",
    "    {\n",
    "      \"tenor\": \"14D\",\n",
    "      \"maturity\": 16,\n",
    "      \"rate\": 0.053909500139491626\n",
    "    },\n",
    "    {\n",
    "      \"tenor\": \"1M\",\n",
    "      \"maturity\": 34,\n",
    "      \"rate\": 0.05392893501738643\n",
    "    },\n",
    "    {\n",
    "      \"tenor\": \"2M\",\n",
    "      \"maturity\": 63,\n",
    "      \"rate\": 0.053894362943625894\n",
    "    },\n",
    "    {\n",
    "      \"tenor\": \"3M\",\n",
    "      \"maturity\": 94,\n",
    "      \"rate\": 0.053843482977097415\n",
    "    },\n",
    "    {\n",
    "      \"tenor\": \"4M\",\n",
    "      \"maturity\": 125,\n",
    "      \"rate\": 0.05359443451658483\n",
    "    },\n",
    "    {\n",
    "      \"tenor\": \"5M\",\n",
    "      \"maturity\": 155,\n",
    "      \"rate\": 0.05337515689463274\n",
    "    },\n",
    "    {\n",
    "      \"tenor\": \"6M\",\n",
    "      \"maturity\": 185,\n",
    "      \"rate\": 0.05312657866085667\n",
    "    },\n",
    "    {\n",
    "      \"tenor\": \"7M\",\n",
    "      \"maturity\": 216,\n",
    "      \"rate\": 0.052777204713019304\n",
    "    },\n",
    "    {\n",
    "      \"tenor\": \"8M\",\n",
    "      \"maturity\": 247,\n",
    "      \"rate\": 0.05240381230639302\n",
    "    },\n",
    "    {\n",
    "      \"tenor\": \"9M\",\n",
    "      \"maturity\": 275,\n",
    "      \"rate\": 0.0520700981638382\n",
    "    },\n",
    "    {\n",
    "      \"tenor\": \"1Y\",\n",
    "      \"maturity\": 367,\n",
    "      \"rate\": 0.05088167612943658\n",
    "    },\n",
    "    {\n",
    "      \"tenor\": \"18M\",\n",
    "      \"maturity\": 552,\n",
    "      \"rate\": 0.04852936930616741\n",
    "    },\n",
    "    {\n",
    "      \"tenor\": \"2Y\",\n",
    "      \"maturity\": 734,\n",
    "      \"rate\": 0.04659950874645961\n",
    "    },\n",
    "    {\n",
    "      \"tenor\": \"3Y\",\n",
    "      \"maturity\": 1098,\n",
    "      \"rate\": 0.04394041235592892\n",
    "    },\n",
    "    {\n",
    "      \"tenor\": \"4Y\",\n",
    "      \"maturity\": 1463,\n",
    "      \"rate\": 0.04231284987923743\n",
    "    },\n",
    "    {\n",
    "      \"tenor\": \"5Y\",\n",
    "      \"maturity\": 1828,\n",
    "      \"rate\": 0.041317554448529636\n",
    "    },\n",
    "    {\n",
    "      \"tenor\": \"6Y\",\n",
    "      \"maturity\": 2193,\n",
    "      \"rate\": 0.04073549138440949\n",
    "    },\n",
    "    {\n",
    "      \"tenor\": \"7Y\",\n",
    "      \"maturity\": 2558,\n",
    "      \"rate\": 0.04035917885531376\n",
    "    },\n",
    "    {\n",
    "      \"tenor\": \"8Y\",\n",
    "      \"maturity\": 2925,\n",
    "      \"rate\": 0.040119782655144265\n",
    "    },\n",
    "    {\n",
    "      \"tenor\": \"9Y\",\n",
    "      \"maturity\": 3289,\n",
    "      \"rate\": 0.039975186953621844\n",
    "    },\n",
    "    {\n",
    "      \"tenor\": \"10Y\",\n",
    "      \"maturity\": 3654,\n",
    "      \"rate\": 0.03989648083295584\n",
    "    },\n",
    "    {\n",
    "      \"tenor\": \"12Y\",\n",
    "      \"maturity\": 4385,\n",
    "      \"rate\": 0.03986864130635106\n",
    "    },\n",
    "    {\n",
    "      \"tenor\": \"15Y\",\n",
    "      \"maturity\": 5480,\n",
    "      \"rate\": 0.039884006370912016\n",
    "    },\n",
    "    {\n",
    "      \"tenor\": \"20Y\",\n",
    "      \"maturity\": 7307,\n",
    "      \"rate\": 0.03940855790321542\n",
    "    },\n",
    "    {\n",
    "      \"tenor\": \"25Y\",\n",
    "      \"maturity\": 9134,\n",
    "      \"rate\": 0.03804951829543225\n",
    "    },\n",
    "    {\n",
    "      \"tenor\": \"30Y\",\n",
    "      \"maturity\": 10961,\n",
    "      \"rate\": 0.036573592658114495\n",
    "    },\n",
    "    {\n",
    "      \"tenor\": \"40Y\",\n",
    "      \"maturity\": 14612,\n",
    "      \"rate\": 0.03329402953514909\n",
    "    },\n",
    "    {\n",
    "      \"tenor\": \"50Y\",\n",
    "      \"maturity\": 18264,\n",
    "      \"rate\": 0.029736924965687982\n",
    "    }\n",
    "  ]\n",
    "}"
   ],
   "outputs": [],
   "execution_count": null
  },
  {
   "cell_type": "code",
   "metadata": {
    "execution": {
     "iopub.execute_input": "2024-06-25T21:50:36.499960Z",
     "iopub.status.busy": "2024-06-25T21:50:36.499342Z",
     "iopub.status.idle": "2024-06-25T21:50:36.503884Z",
     "shell.execute_reply": "2024-06-25T21:50:36.503059Z",
     "shell.execute_reply.started": "2024-06-25T21:50:36.499935Z"
    }
   },
   "source": [
    "df_curva_sol = pd.DataFrame(curva_sol[\"values\"])"
   ],
   "outputs": [],
   "execution_count": null
  },
  {
   "cell_type": "code",
   "metadata": {
    "execution": {
     "iopub.execute_input": "2024-06-25T21:50:36.903675Z",
     "iopub.status.busy": "2024-06-25T21:50:36.903304Z",
     "iopub.status.idle": "2024-06-25T21:50:36.908659Z",
     "shell.execute_reply": "2024-06-25T21:50:36.907780Z",
     "shell.execute_reply.started": "2024-06-25T21:50:36.903647Z"
    }
   },
   "source": [
    "df_curva_sol.columns = ['tenor', 'plazo', 'tasa']\n",
    "zcc_sol = zcc_from_df(df_curva_sol, tasa)"
   ],
   "outputs": [],
   "execution_count": null
  },
  {
   "cell_type": "markdown",
   "metadata": {},
   "source": [
    "#### Curvas para Sensibilidad"
   ]
  },
  {
   "cell_type": "markdown",
   "metadata": {},
   "source": [
    "Para calcular sensibilidad a la curva cero cupón, se define qué vértice de la curva se quiere desplazar y el monto en puntos básicos del desplazamiento."
   ]
  },
  {
   "cell_type": "code",
   "metadata": {
    "execution": {
     "iopub.execute_input": "2024-06-25T21:50:37.747694Z",
     "iopub.status.busy": "2024-06-25T21:50:37.747326Z",
     "iopub.status.idle": "2024-06-25T21:50:37.751616Z",
     "shell.execute_reply": "2024-06-25T21:50:37.750787Z",
     "shell.execute_reply.started": "2024-06-25T21:50:37.747662Z"
    }
   },
   "source": [
    "vertice = 15\n",
    "bp = 1"
   ],
   "outputs": [],
   "execution_count": null
  },
  {
   "cell_type": "markdown",
   "metadata": {},
   "source": [
    "Se construyen las curvas con ese vértice 1 punto básico más arriba y 1 punto básico más abajo. Para esto se define una función auxiliar."
   ]
  },
  {
   "cell_type": "code",
   "metadata": {
    "execution": {
     "iopub.execute_input": "2024-06-25T21:50:39.673066Z",
     "iopub.status.busy": "2024-06-25T21:50:39.672689Z",
     "iopub.status.idle": "2024-06-25T21:50:39.680780Z",
     "shell.execute_reply": "2024-06-25T21:50:39.679831Z",
     "shell.execute_reply.started": "2024-06-25T21:50:39.673034Z"
    }
   },
   "source": [
    "def curvas_sens(\n",
    "    df: pd.DataFrame, \n",
    "    tasa: qcf.QCInterestRate, \n",
    "    vertice: int, \n",
    "    bp: float\n",
    ") -> tuple[qcf.ZeroCouponCurve, qcf.ZeroCouponCurve]:\n",
    "    bp /= 10_000\n",
    "    lvec = qcf.long_vec()\n",
    "    vec_sens_up = qcf.double_vec()\n",
    "    vec_sens_down = qcf.double_vec()\n",
    "    for t in df.itertuples():\n",
    "        lvec.append(int(t.plazo))\n",
    "        if t.Index == vertice:\n",
    "            vec_sens_up.append(t.tasa + bp)\n",
    "            vec_sens_down.append(t.tasa - bp)\n",
    "        else:\n",
    "            vec_sens_up.append(t.tasa)\n",
    "            vec_sens_down.append(t.tasa)\n",
    "\n",
    "    zcc_sens_up = qcf.QCCurve(lvec, vec_sens_up)\n",
    "    lin_sens_up = qcf.QCLinearInterpolator(zcc_sens_up)\n",
    "    zz_sens_up = qcf.ZeroCouponCurve(lin_sens_up, tasa)\n",
    "\n",
    "    zcc_sens_down = qcf.QCCurve(lvec, vec_sens_down)\n",
    "    lin_sens_down = qcf.QCLinearInterpolator(zcc_sens_down)\n",
    "    zz_sens_down = qcf.ZeroCouponCurve(lin_sens_down, tasa)\n",
    "    \n",
    "    return zz_sens_up, zz_sens_down"
   ],
   "outputs": [],
   "execution_count": null
  },
  {
   "cell_type": "code",
   "metadata": {
    "execution": {
     "iopub.execute_input": "2024-06-25T21:50:40.122806Z",
     "iopub.status.busy": "2024-06-25T21:50:40.122468Z",
     "iopub.status.idle": "2024-06-25T21:50:40.128648Z",
     "shell.execute_reply": "2024-06-25T21:50:40.127808Z",
     "shell.execute_reply.started": "2024-06-25T21:50:40.122778Z"
    }
   },
   "source": [
    "zcc_clp_up, zcc_clp_down = curvas_sens(curva_clp, tasa, vertice, bp)\n",
    "zcc_usd_up, zcc_usd_down = curvas_sens(curva_usd, tasa, vertice, bp)\n",
    "zcc_clf_up, zcc_clf_down = curvas_sens(curva_clf, tasa, vertice, bp)"
   ],
   "outputs": [],
   "execution_count": null
  },
  {
   "cell_type": "markdown",
   "metadata": {},
   "source": [
    "### FixedRateCashflow Leg"
   ]
  },
  {
   "cell_type": "markdown",
   "metadata": {},
   "source": [
    "Se da de alta una pata fija:"
   ]
  },
  {
   "cell_type": "code",
   "metadata": {
    "execution": {
     "iopub.execute_input": "2024-06-25T21:50:41.776635Z",
     "iopub.status.busy": "2024-06-25T21:50:41.776267Z",
     "iopub.status.idle": "2024-06-25T21:50:41.783863Z",
     "shell.execute_reply": "2024-06-25T21:50:41.782937Z",
     "shell.execute_reply.started": "2024-06-25T21:50:41.776603Z"
    }
   },
   "source": [
    "rp = qcf.RecPay.RECEIVE\n",
    "fecha_inicio = qcf.QCDate(13, 6, 2024)\n",
    "fecha_final = qcf.QCDate(13, 6, 2026)\n",
    "bus_adj_rule = qcf.BusyAdjRules.MODFOLLOW\n",
    "periodicidad = qcf.Tenor('12M')\n",
    "periodo_irregular = qcf.StubPeriod.SHORTFRONT\n",
    "calendario = qcf.BusinessCalendar(fecha_inicio, 20)\n",
    "lag_pago = 0\n",
    "nominal = 1_000_000.0\n",
    "amort_es_flujo = True\n",
    "valor_tasa_fija = 0.048864\n",
    "valor_tasa_fija = 0.047134\n",
    "tasa_cupon = qcf.QCInterestRate(\n",
    "    valor_tasa_fija, \n",
    "    qcf.QCAct360(), \n",
    "    qcf.QCLinearWf()\n",
    ")\n",
    "moneda = qcf.QCUSD()\n",
    "es_bono = False\n",
    "\n",
    "fixed_rate_leg = qcf.LegFactory.build_bullet_fixed_rate_leg(\n",
    "    rp,\n",
    "    fecha_inicio,\n",
    "    fecha_final,\n",
    "    bus_adj_rule,\n",
    "    periodicidad,\n",
    "    periodo_irregular,\n",
    "    calendario,\n",
    "    lag_pago,\n",
    "    nominal,\n",
    "    amort_es_flujo,\n",
    "    tasa_cupon,\n",
    "    moneda,\n",
    "    es_bono\n",
    ")"
   ],
   "outputs": [],
   "execution_count": null
  },
  {
   "cell_type": "code",
   "metadata": {
    "execution": {
     "iopub.execute_input": "2024-06-25T21:50:44.510155Z",
     "iopub.status.busy": "2024-06-25T21:50:44.509813Z",
     "iopub.status.idle": "2024-06-25T21:50:44.520366Z",
     "shell.execute_reply": "2024-06-25T21:50:44.519504Z",
     "shell.execute_reply.started": "2024-06-25T21:50:44.510127Z"
    }
   },
   "source": [
    "aux.leg_as_dataframe(fixed_rate_leg).style.format(format_dict)"
   ],
   "outputs": [],
   "execution_count": null
  },
  {
   "cell_type": "markdown",
   "metadata": {},
   "source": [
    "Se calcula ahora el valor presente:"
   ]
  },
  {
   "cell_type": "code",
   "metadata": {
    "execution": {
     "iopub.execute_input": "2024-06-25T21:50:44.953360Z",
     "iopub.status.busy": "2024-06-25T21:50:44.953017Z",
     "iopub.status.idle": "2024-06-25T21:50:44.958772Z",
     "shell.execute_reply": "2024-06-25T21:50:44.958051Z",
     "shell.execute_reply.started": "2024-06-25T21:50:44.953331Z"
    }
   },
   "source": [
    "vp_fija = pv.pv(fecha_val:=qcf.QCDate(11, 6, 2024), fixed_rate_leg, zcc_sofr)\n",
    "dias = fecha_val.day_diff(qcf.QCDate(13, 6, 2024))\n",
    "print(f\"Días: {dias}\")\n",
    "print(f\"Valor presente de la pata fija es: {vp_fija / zcc_sofr.get_discount_factor_at(dias) :,.0f}\")"
   ],
   "outputs": [],
   "execution_count": null
  },
  {
   "cell_type": "markdown",
   "metadata": {},
   "source": [
    "Al calcular el valor presente, también se calculan las derivadas del valor presente respecto a cada uno de los vértices de la curva."
   ]
  },
  {
   "cell_type": "code",
   "metadata": {
    "execution": {
     "iopub.execute_input": "2024-06-25T21:50:45.369765Z",
     "iopub.status.busy": "2024-06-25T21:50:45.369428Z",
     "iopub.status.idle": "2024-06-25T21:50:45.373669Z",
     "shell.execute_reply": "2024-06-25T21:50:45.372861Z",
     "shell.execute_reply.started": "2024-06-25T21:50:45.369736Z"
    }
   },
   "source": [
    "der = pv.get_derivatives()"
   ],
   "outputs": [],
   "execution_count": null
  },
  {
   "cell_type": "markdown",
   "metadata": {},
   "source": [
    "Con esas derivadas, se puede calcular la sensibilidad a la curva cupón cero a un movimiento de 1 punto básico."
   ]
  },
  {
   "cell_type": "code",
   "metadata": {
    "execution": {
     "iopub.execute_input": "2024-06-25T21:50:46.051649Z",
     "iopub.status.busy": "2024-06-25T21:50:46.051288Z",
     "iopub.status.idle": "2024-06-25T21:50:46.057534Z",
     "shell.execute_reply": "2024-06-25T21:50:46.056754Z",
     "shell.execute_reply.started": "2024-06-25T21:50:46.051620Z"
    }
   },
   "source": [
    "i = 0\n",
    "total = 0\n",
    "for d in der:\n",
    "    total += d * bp / 10_000\n",
    "    print(f\"Sensibilidad en {i}: {d * bp / 10_000:0,.0f}\")\n",
    "    i += 1\n",
    "print(f\"Sensibilidad total: {total:,.0f}\")"
   ],
   "outputs": [],
   "execution_count": null
  },
  {
   "cell_type": "markdown",
   "metadata": {},
   "source": [
    "Se puede verificar la sensibilidad por diferencias finitas."
   ]
  },
  {
   "cell_type": "markdown",
   "metadata": {},
   "source": [
    "Se calcula el valor presente con las curvas desplazadas."
   ]
  },
  {
   "cell_type": "code",
   "metadata": {
    "execution": {
     "iopub.execute_input": "2024-06-25T21:50:47.076320Z",
     "iopub.status.busy": "2024-06-25T21:50:47.075656Z",
     "iopub.status.idle": "2024-06-25T21:50:47.081015Z",
     "shell.execute_reply": "2024-06-25T21:50:47.080097Z",
     "shell.execute_reply.started": "2024-06-25T21:50:47.076290Z"
    }
   },
   "source": [
    "vp_fija_sens_up = pv.pv(fecha_hoy, fixed_rate_leg, zcc_usd_up)\n",
    "vp_fija_sens_down = pv.pv(fecha_hoy, fixed_rate_leg, zcc_usd_down)\n",
    "print(f\"Valor presente up de la pata fija es: {vp_fija_sens_up:,.4f}\")\n",
    "print(f\"Valor presente down de la pata fija es: {vp_fija_sens_down:,.4f}\")"
   ],
   "outputs": [],
   "execution_count": null
  },
  {
   "cell_type": "markdown",
   "metadata": {},
   "source": [
    "Finalmente, se calcula la sensibilidad (usando la aproximación central por diferencias finitas)."
   ]
  },
  {
   "cell_type": "code",
   "metadata": {
    "execution": {
     "iopub.execute_input": "2024-06-25T21:50:47.936222Z",
     "iopub.status.busy": "2024-06-25T21:50:47.935883Z",
     "iopub.status.idle": "2024-06-25T21:50:47.940561Z",
     "shell.execute_reply": "2024-06-25T21:50:47.939772Z",
     "shell.execute_reply.started": "2024-06-25T21:50:47.936194Z"
    }
   },
   "source": [
    "print(f\"Sensibilidad por diferencias finitas: {(vp_fija_sens_up - vp_fija_sens_down) / 2:,.0f}\")"
   ],
   "outputs": [],
   "execution_count": null
  },
  {
   "cell_type": "markdown",
   "metadata": {
    "collapsed": false,
    "jupyter": {
     "outputs_hidden": false
    }
   },
   "source": [
    "### OvernightIndex Leg"
   ]
  },
  {
   "cell_type": "markdown",
   "metadata": {},
   "source": [
    "Se da de alta una pata OvernightIndex."
   ]
  },
  {
   "cell_type": "code",
   "metadata": {
    "collapsed": false,
    "execution": {
     "iopub.execute_input": "2024-06-25T21:51:45.427612Z",
     "iopub.status.busy": "2024-06-25T21:51:45.427254Z",
     "iopub.status.idle": "2024-06-25T21:51:45.435420Z",
     "shell.execute_reply": "2024-06-25T21:51:45.434394Z",
     "shell.execute_reply.started": "2024-06-25T21:51:45.427581Z"
    },
    "jupyter": {
     "outputs_hidden": false
    }
   },
   "source": [
    "rp = qcf.RecPay.RECEIVE\n",
    "fecha_inicio = qcf.QCDate(10, 1, 2019)\n",
    "fecha_final = qcf.QCDate(10, 1, 2022)\n",
    "bus_adj_rule = qcf.BusyAdjRules.FOLLOW\n",
    "fix_adj_rule = qcf.BusyAdjRules.PREVIOUS\n",
    "dates_for_eq_rate = qcf.DatesForEquivalentRate.ACCRUAL\n",
    "periodicidad_pago = qcf.Tenor('6M')\n",
    "periodo_irregular_pago = qcf.StubPeriod.SHORTFRONT\n",
    "calendario = qcf.BusinessCalendar(fecha_inicio, 20)\n",
    "lag_pago = 0\n",
    "nominal = 38_000_000_000.0\n",
    "amort_es_flujo = True\n",
    "spread = .0\n",
    "gearing = 1.0\n",
    "\n",
    "overnight_index_leg = qcf.LegFactory.build_bullet_overnight_index_leg(\n",
    "    rec_pay=rp,\n",
    "    start_date=fecha_inicio,\n",
    "    end_date=fecha_final,\n",
    "    bus_adj_rule=bus_adj_rule,\n",
    "    fix_adj_rule=fix_adj_rule,\n",
    "    settlement_periodicity=periodicidad_pago,\n",
    "    settlement_stub_period=periodo_irregular_pago,\n",
    "    settlement_calendar=calendario,\n",
    "    fixing_calendar=calendario,\n",
    "    settlement_lag=lag_pago,\n",
    "    initial_notional=nominal,\n",
    "    amort_is_cashflow=amort_es_flujo,\n",
    "    spread=spread,\n",
    "    gearing=gearing,\n",
    "    interest_rate=qcf.QCInterestRate(0.0, qcf.QCAct360(), qcf.QCLinearWf()),\n",
    "    index_name='ICPCLP',\n",
    "    eq_rate_decimal_places=4,\n",
    "    notional_currency=qcf.QCCLP(),\n",
    "    dates_for_eq_rate=dates_for_eq_rate,\n",
    "    sett_lag_behaviour=qcf.SettLagBehaviour.DONT_MOVE,\n",
    ")"
   ],
   "outputs": [],
   "execution_count": null
  },
  {
   "cell_type": "code",
   "metadata": {
    "collapsed": false,
    "execution": {
     "iopub.execute_input": "2024-06-25T21:51:46.842167Z",
     "iopub.status.busy": "2024-06-25T21:51:46.841817Z",
     "iopub.status.idle": "2024-06-25T21:51:46.855989Z",
     "shell.execute_reply": "2024-06-25T21:51:46.855097Z",
     "shell.execute_reply.started": "2024-06-25T21:51:46.842138Z"
    },
    "jupyter": {
     "outputs_hidden": false
    }
   },
   "source": [
    "aux.leg_as_dataframe(overnight_index_leg).style.format(format_dict)"
   ],
   "outputs": [],
   "execution_count": null
  },
  {
   "cell_type": "markdown",
   "metadata": {
    "collapsed": false,
    "jupyter": {
     "outputs_hidden": false
    }
   },
   "source": [
    "Notar que al dar de alta un Leg con OvernightIndexCashflow, los valores futuros de los índeces son los default (=1.0). Por lo tanto, el primer paso para valorizar estos cashflows, es calcular los valores forward de los índices.\n",
    "\n",
    "Se da de alta un objeto de tipo `ForwardRates`."
   ]
  },
  {
   "cell_type": "code",
   "metadata": {
    "execution": {
     "iopub.execute_input": "2024-06-25T21:51:55.277099Z",
     "iopub.status.busy": "2024-06-25T21:51:55.276748Z",
     "iopub.status.idle": "2024-06-25T21:51:55.280760Z",
     "shell.execute_reply": "2024-06-25T21:51:55.279920Z",
     "shell.execute_reply.started": "2024-06-25T21:51:55.277070Z"
    }
   },
   "source": [
    "fwd_rates = qcf.ForwardRates()"
   ],
   "outputs": [],
   "execution_count": null
  },
  {
   "cell_type": "markdown",
   "metadata": {
    "collapsed": false,
    "jupyter": {
     "outputs_hidden": false
    }
   },
   "source": [
    "Se calculan los índices forward."
   ]
  },
  {
   "cell_type": "code",
   "metadata": {
    "collapsed": false,
    "execution": {
     "iopub.execute_input": "2024-06-25T21:52:43.848528Z",
     "iopub.status.busy": "2024-06-25T21:52:43.848178Z",
     "iopub.status.idle": "2024-06-25T21:52:43.854199Z",
     "shell.execute_reply": "2024-06-25T21:52:43.853269Z",
     "shell.execute_reply.started": "2024-06-25T21:52:43.848498Z"
    },
    "jupyter": {
     "outputs_hidden": false
    }
   },
   "source": [
    "icp_val = 18_890.34 # icp a la fecha de proceso\n",
    "fecha_hoy = qcf.QCDate(8, 1, 2019)\n",
    "index = 0\n",
    "\n",
    "for i in range(overnight_index_leg.size()):\n",
    "    cashflow = overnight_index_leg.get_cashflow_at(i)\n",
    "    if cashflow.get_start_date() <= fecha_hoy <= cashflow.get_end_date():\n",
    "        index = i\n",
    "\n",
    "icp_fecha_inicio_cupon_vigente = 18_376.69\n",
    "overnight_index_leg.get_cashflow_at(index).set_start_date_index(icp_fecha_inicio_cupon_vigente)\n",
    "\n",
    "fwd_rates.set_rates_overnight_index_leg(fecha_hoy, icp_val, overnight_index_leg, zcc_clp)"
   ],
   "outputs": [],
   "execution_count": null
  },
  {
   "cell_type": "code",
   "metadata": {
    "collapsed": false,
    "execution": {
     "iopub.execute_input": "2024-06-25T21:52:51.993936Z",
     "iopub.status.busy": "2024-06-25T21:52:51.993594Z",
     "iopub.status.idle": "2024-06-25T21:52:52.007589Z",
     "shell.execute_reply": "2024-06-25T21:52:52.006734Z",
     "shell.execute_reply.started": "2024-06-25T21:52:51.993908Z"
    },
    "jupyter": {
     "outputs_hidden": false
    }
   },
   "source": [
    "aux.leg_as_dataframe(overnight_index_leg).style.format(format_dict)"
   ],
   "outputs": [],
   "execution_count": null
  },
  {
   "cell_type": "markdown",
   "metadata": {
    "collapsed": false,
    "jupyter": {
     "outputs_hidden": false
    }
   },
   "source": [
    "Con esto, podemos calcular el valor presente."
   ]
  },
  {
   "cell_type": "code",
   "metadata": {
    "collapsed": false,
    "execution": {
     "iopub.execute_input": "2024-06-25T21:52:55.167077Z",
     "iopub.status.busy": "2024-06-25T21:52:55.166732Z",
     "iopub.status.idle": "2024-06-25T21:52:55.171789Z",
     "shell.execute_reply": "2024-06-25T21:52:55.170908Z",
     "shell.execute_reply.started": "2024-06-25T21:52:55.167044Z"
    },
    "jupyter": {
     "outputs_hidden": false
    }
   },
   "source": [
    "vp_on_index_leg = pv.pv(fecha_hoy, overnight_index_leg, zcc_clp)\n",
    "print(f\"Valor presente pata ON Index Leg: {vp_on_index_leg:,.0f}\")"
   ],
   "outputs": [],
   "execution_count": null
  },
  {
   "cell_type": "code",
   "metadata": {
    "execution": {
     "iopub.execute_input": "2024-06-25T21:54:15.731401Z",
     "iopub.status.busy": "2024-06-25T21:54:15.731064Z",
     "iopub.status.idle": "2024-06-25T21:54:15.735980Z",
     "shell.execute_reply": "2024-06-25T21:54:15.735118Z",
     "shell.execute_reply.started": "2024-06-25T21:54:15.731373Z"
    }
   },
   "source": [
    "print(f\"{nominal * zcc_clp.get_discount_factor_at(2):,.0f}\")"
   ],
   "outputs": [],
   "execution_count": null
  },
  {
   "cell_type": "markdown",
   "metadata": {
    "collapsed": false,
    "jupyter": {
     "outputs_hidden": false
    }
   },
   "source": [
    "También en este caso es posible calcular la sensibilidad a la curva de descuento."
   ]
  },
  {
   "cell_type": "code",
   "metadata": {
    "collapsed": false,
    "execution": {
     "iopub.status.busy": "2024-06-25T21:49:20.164306Z",
     "iopub.status.idle": "2024-06-25T21:49:20.164813Z",
     "shell.execute_reply": "2024-06-25T21:49:20.164648Z",
     "shell.execute_reply.started": "2024-06-25T21:49:20.164631Z"
    },
    "jupyter": {
     "outputs_hidden": false
    }
   },
   "source": [
    "der = pv.get_derivatives()\n",
    "i = 0\n",
    "for d in der:\n",
    "    print(f\"Sensibilidad en {i:}: {d * bp / 10_000:0,.0f}\")\n",
    "    i += 1\n",
    "sens_disc = [d * bp / 10_000 for d in der]\n",
    "print()\n",
    "print(\"Sensibilidad de descuento: {0:,.0f} CLP\".format(sum(sens_disc)))"
   ],
   "outputs": [],
   "execution_count": null
  },
  {
   "cell_type": "markdown",
   "metadata": {
    "collapsed": false,
    "jupyter": {
     "outputs_hidden": false
    }
   },
   "source": [
    "La estructura es la misma que para una pata fija, lo que indica que se debe también incluir la sensibilidad a la curva de proyección."
   ]
  },
  {
   "cell_type": "code",
   "metadata": {
    "collapsed": false,
    "execution": {
     "iopub.status.busy": "2024-06-25T21:49:20.165838Z",
     "iopub.status.idle": "2024-06-25T21:49:20.166341Z",
     "shell.execute_reply": "2024-06-25T21:49:20.166166Z",
     "shell.execute_reply.started": "2024-06-25T21:49:20.166148Z"
    },
    "jupyter": {
     "outputs_hidden": false
    }
   },
   "source": [
    "result = []\n",
    "for i in range(overnight_index_leg.size()):\n",
    "    cshflw = overnight_index_leg.get_cashflow_at(i)\n",
    "    amt_der = cshflw.get_amount_derivatives()\n",
    "    df = zcc_clp.get_discount_factor_at(fecha_hoy.day_diff(cshflw.get_settlement_date()))\n",
    "    amt_der = [a * bp / 10_000  * df for a in amt_der]\n",
    "    if len(amt_der) > 0:\n",
    "        result.append(np.array(amt_der))\n",
    "total = result[0] * 0\n",
    "\n",
    "for r in result:\n",
    "    total += r\n",
    "\n",
    "for i in range(len(total)):\n",
    "    print(\"Sensibilidad en {0:}: {1:0,.0f}\".format(i, total[i]))\n",
    "\n",
    "print()\n",
    "print(\"Sensibilidad de proyección: {0:,.0f} CLP\".format(sum(total)))"
   ],
   "outputs": [],
   "execution_count": null
  },
  {
   "cell_type": "markdown",
   "metadata": {
    "collapsed": false,
    "jupyter": {
     "outputs_hidden": false
    }
   },
   "source": [
    "Como se espera de una pata OvernightIndex (con lag de pago igual a 0 y spread igual a 0), ambas sensibilidades se cancelan."
   ]
  },
  {
   "cell_type": "markdown",
   "metadata": {
    "collapsed": false,
    "jupyter": {
     "outputs_hidden": false
    }
   },
   "source": [
    "#### Se verifica la sensibilidad de proyección por diferencias finitas:"
   ]
  },
  {
   "cell_type": "code",
   "metadata": {
    "collapsed": false,
    "execution": {
     "iopub.status.busy": "2024-06-25T21:49:20.167669Z",
     "iopub.status.idle": "2024-06-25T21:49:20.168130Z",
     "shell.execute_reply": "2024-06-25T21:49:20.167943Z",
     "shell.execute_reply.started": "2024-06-25T21:49:20.167924Z"
    },
    "jupyter": {
     "outputs_hidden": false
    }
   },
   "source": [
    "fwd_rates.set_rates_overnight_index_leg(fecha_hoy, icp_val, overnight_index_leg, zcc_clp_up)\n",
    "vp_on_index_leg_up = pv.pv(fecha_hoy, overnight_index_leg, zcc_clp)\n",
    "\n",
    "fwd_rates.set_rates_overnight_index_leg(fecha_hoy, icp_val, overnight_index_leg, zcc_clp_down)\n",
    "vp_on_index_leg_down = pv.pv(fecha_hoy, overnight_index_leg, zcc_clp)\n",
    "\n",
    "print(f\"Sensibilidad en vértice {vertice}: {(vp_on_index_leg_up - vp_on_index_leg_down) / 2:,.0f} CLP\")"
   ],
   "outputs": [],
   "execution_count": null
  },
  {
   "cell_type": "markdown",
   "metadata": {},
   "source": [
    "### IborCashflow Leg"
   ]
  },
  {
   "cell_type": "markdown",
   "metadata": {},
   "source": [
    "Se da de alta una pata de tipo IborCashflow."
   ]
  },
  {
   "cell_type": "code",
   "metadata": {
    "execution": {
     "iopub.status.busy": "2024-06-25T21:49:20.169703Z",
     "iopub.status.idle": "2024-06-25T21:49:20.170342Z",
     "shell.execute_reply": "2024-06-25T21:49:20.170145Z",
     "shell.execute_reply.started": "2024-06-25T21:49:20.170125Z"
    }
   },
   "source": [
    "rp = qcf.RecPay.RECEIVE\n",
    "fecha_inicio = qcf.QCDate(12, 11, 2019)\n",
    "fecha_final = qcf.QCDate(12, 5, 2021)\n",
    "bus_adj_rule = qcf.BusyAdjRules.MODFOLLOW\n",
    "periodicidad_pago = qcf.Tenor('6M')\n",
    "periodo_irregular_pago = qcf.StubPeriod.NO\n",
    "calendario = qcf.BusinessCalendar(fecha_inicio, 20)\n",
    "lag_pago = 0\n",
    "periodicidad_fijacion = qcf.Tenor('6M')\n",
    "periodo_irregular_fijacion = qcf.StubPeriod.NO\n",
    "\n",
    "# vamos a usar el mismo calendario para pago y fijaciones\n",
    "lag_de_fijacion = 2\n",
    "\n",
    "# Definición del índice\n",
    "codigo = 'TERSOFR6M'\n",
    "lin_act360 = qcf.QCInterestRate(.0, qcf.QCAct360(), qcf.QCLinearWf())\n",
    "fixing_lag = qcf.Tenor('2d')\n",
    "tenor = qcf.Tenor('6m')\n",
    "fixing_calendar = calendario\n",
    "settlement_calendar = calendario\n",
    "usd = qcf.QCUSD()\n",
    "termsofr_6m = qcf.InterestRateIndex(\n",
    "    codigo,\n",
    "    lin_act360,\n",
    "    fixing_lag,\n",
    "    tenor,\n",
    "    fixing_calendar,\n",
    "    settlement_calendar,\n",
    "    usd\n",
    ")\n",
    "# Fin índice\n",
    "\n",
    "nominal = 20_000_000.0\n",
    "amort_es_flujo = True\n",
    "moneda = usd\n",
    "spread = .0\n",
    "gearing = 1.0\n",
    "\n",
    "ibor_leg = qcf.LegFactory.build_bullet_ibor_leg(\n",
    "    rp, \n",
    "    fecha_inicio, \n",
    "    fecha_final, \n",
    "    bus_adj_rule, \n",
    "    periodicidad_pago,\n",
    "    periodo_irregular_pago, \n",
    "    calendario, \n",
    "    lag_pago,\n",
    "    periodicidad_fijacion, \n",
    "    periodo_irregular_fijacion,\n",
    "    calendario, \n",
    "    lag_de_fijacion, \n",
    "    termsofr_6m,\n",
    "    nominal, \n",
    "    amort_es_flujo, \n",
    "    moneda, \n",
    "    spread, \n",
    "    gearing\n",
    ")"
   ],
   "outputs": [],
   "execution_count": null
  },
  {
   "cell_type": "code",
   "metadata": {
    "execution": {
     "iopub.status.busy": "2024-06-25T21:49:20.171639Z",
     "iopub.status.idle": "2024-06-25T21:49:20.172091Z",
     "shell.execute_reply": "2024-06-25T21:49:20.171913Z",
     "shell.execute_reply.started": "2024-06-25T21:49:20.171895Z"
    }
   },
   "source": [
    "aux.leg_as_dataframe(ibor_leg).style.format(format_dict)"
   ],
   "outputs": [],
   "execution_count": null
  },
  {
   "cell_type": "code",
   "metadata": {
    "execution": {
     "iopub.status.busy": "2024-06-25T21:49:20.173304Z",
     "iopub.status.idle": "2024-06-25T21:49:20.173700Z",
     "shell.execute_reply": "2024-06-25T21:49:20.173529Z",
     "shell.execute_reply.started": "2024-06-25T21:49:20.173511Z"
    }
   },
   "source": [
    "valor_termsofr_6m = 0.02\n",
    "fecha_hoy = qcf.QCDate(25, 2, 2020)\n",
    "ibor_leg.get_cashflow_at(0).set_interest_rate_value(valor_termsofr_6m)\n",
    "fwd_rates.set_rates_ibor_leg1(fecha_hoy, ibor_leg, zcc_usd)"
   ],
   "outputs": [],
   "execution_count": null
  },
  {
   "cell_type": "code",
   "metadata": {
    "execution": {
     "iopub.status.busy": "2024-06-25T21:49:20.174852Z",
     "iopub.status.idle": "2024-06-25T21:49:20.175434Z",
     "shell.execute_reply": "2024-06-25T21:49:20.175259Z",
     "shell.execute_reply.started": "2024-06-25T21:49:20.175240Z"
    }
   },
   "source": [
    "aux.leg_as_dataframe(ibor_leg).style.format(format_dict)"
   ],
   "outputs": [],
   "execution_count": null
  },
  {
   "cell_type": "markdown",
   "metadata": {},
   "source": [
    "Se verifica la tasa forward del segundo cashflow."
   ]
  },
  {
   "cell_type": "code",
   "metadata": {
    "execution": {
     "iopub.status.busy": "2024-06-25T21:49:20.176463Z",
     "iopub.status.idle": "2024-06-25T21:49:20.177018Z",
     "shell.execute_reply": "2024-06-25T21:49:20.176837Z",
     "shell.execute_reply.started": "2024-06-25T21:49:20.176818Z"
    }
   },
   "source": [
    "which_cashflow = 1\n",
    "d1 = fecha_hoy.day_diff(ibor_leg.get_cashflow_at(which_cashflow).get_start_date())\n",
    "d2 = fecha_hoy.day_diff(ibor_leg.get_cashflow_at(which_cashflow).get_end_date())\n",
    "print(f\"d1: {d1:,.0f}\")\n",
    "print(f\"d2: {d2:,.0f}\")\n",
    "crv = zcc_usd\n",
    "w1 = 1 / crv.get_discount_factor_at(d1)\n",
    "w2 = 1 / crv.get_discount_factor_at(d2)\n",
    "print(f\"Factor forward: {w2 / w1:.4%}\")\n",
    "print(f\"Tasa forward: {(w2 / w1 - 1) * 360 / (d2 - d1):.4%}\")\n",
    "print(f\"Curve method {crv.get_forward_rate_with_rate(termsofr_6m.get_rate(), d1, d2):.4%}\")"
   ],
   "outputs": [],
   "execution_count": null
  },
  {
   "cell_type": "markdown",
   "metadata": {},
   "source": [
    "Cálculo de valor presente."
   ]
  },
  {
   "cell_type": "code",
   "metadata": {
    "cell_style": "center",
    "execution": {
     "iopub.status.busy": "2024-06-25T21:49:20.178173Z",
     "iopub.status.idle": "2024-06-25T21:49:20.178734Z",
     "shell.execute_reply": "2024-06-25T21:49:20.178540Z",
     "shell.execute_reply.started": "2024-06-25T21:49:20.178520Z"
    }
   },
   "source": [
    "vp_ibor = pv.pv(fecha_hoy, ibor_leg, zcc_usd)\n",
    "print(f\"Valor presente pata IBOR: {vp_ibor:,.0f}\")"
   ],
   "outputs": [],
   "execution_count": null
  },
  {
   "cell_type": "markdown",
   "metadata": {},
   "source": [
    "Derivadas del valor presente."
   ]
  },
  {
   "cell_type": "code",
   "metadata": {
    "execution": {
     "iopub.status.busy": "2024-06-25T21:49:20.179867Z",
     "iopub.status.idle": "2024-06-25T21:49:20.180444Z",
     "shell.execute_reply": "2024-06-25T21:49:20.180262Z",
     "shell.execute_reply.started": "2024-06-25T21:49:20.180244Z"
    }
   },
   "source": [
    "der = pv.get_derivatives()\n",
    "i = 0\n",
    "for d in der:\n",
    "    print(f\"Sensibilidad en {i}: {d * bp / 10_000:0,.0f}\")\n",
    "    i += 1\n",
    "print()\n",
    "print(f\"Sensibilidad de descuento: {sum(der) * bp / 10_000:,.0f} USD\")"
   ],
   "outputs": [],
   "execution_count": null
  },
  {
   "cell_type": "markdown",
   "metadata": {},
   "source": [
    "#### Se verifica la sensibilidad de descuento por diferencias finitas."
   ]
  },
  {
   "cell_type": "code",
   "metadata": {
    "execution": {
     "iopub.status.busy": "2024-06-25T21:49:20.182049Z",
     "iopub.status.idle": "2024-06-25T21:49:20.182518Z",
     "shell.execute_reply": "2024-06-25T21:49:20.182340Z",
     "shell.execute_reply.started": "2024-06-25T21:49:20.182321Z"
    }
   },
   "source": [
    "vp_ibor_up = pv.pv(fecha_hoy, ibor_leg, zcc_usd_up)\n",
    "print(f\"Valor presente up pata IBOR: {vp_ibor_up:,.0f}\")\n",
    "\n",
    "vp_ibor_down = pv.pv(fecha_hoy, ibor_leg, zcc_usd_down)\n",
    "print(f\"Valor presente down pata IBOR: {vp_ibor_down:,.0f}\")\n",
    "\n",
    "print(f\"Sensibilidad de descuento en el vértice {vertice}: {(vp_ibor_up - vp_ibor_down) / 2:,.0f}\")"
   ],
   "outputs": [],
   "execution_count": null
  },
  {
   "cell_type": "markdown",
   "metadata": {},
   "source": [
    "Se calcula también la sensibilidad a la curva de proyección."
   ]
  },
  {
   "cell_type": "code",
   "metadata": {
    "execution": {
     "iopub.status.busy": "2024-06-25T21:49:20.184286Z",
     "iopub.status.idle": "2024-06-25T21:49:20.184775Z",
     "shell.execute_reply": "2024-06-25T21:49:20.184605Z",
     "shell.execute_reply.started": "2024-06-25T21:49:20.184587Z"
    }
   },
   "source": [
    "result = []\n",
    "\n",
    "for i in range(ibor_leg.size()):\n",
    "    cshflw = ibor_leg.get_cashflow_at(i)\n",
    "    df = zcc_usd.get_discount_factor_at(fecha_hoy.day_diff(cshflw.get_settlement_date()))\n",
    "    amt_der = cshflw.get_amount_derivatives()\n",
    "    if len(amt_der) > 0:\n",
    "        amt_der = [a * bp / 10_000 * df for a in amt_der]\n",
    "        result.append(np.array(amt_der))\n",
    "\n",
    "total = result[0] * 0\n",
    "for r in result:\n",
    "    total += r\n",
    "\n",
    "for i in range(len(total)):\n",
    "    print(f\"Sensibilidad en {i}: {total[i]:0,.0f}\")\n",
    "print()\n",
    "print(f\"Sensibilidad de proyección: {sum(total):,.0f} USD\")"
   ],
   "outputs": [],
   "execution_count": null
  },
  {
   "cell_type": "markdown",
   "metadata": {},
   "source": [
    "#### Se verifica la sensibilidad de proyección por diferencias finitas."
   ]
  },
  {
   "cell_type": "code",
   "metadata": {
    "execution": {
     "iopub.status.busy": "2024-06-25T21:49:20.186085Z",
     "iopub.status.idle": "2024-06-25T21:49:20.186777Z",
     "shell.execute_reply": "2024-06-25T21:49:20.186596Z",
     "shell.execute_reply.started": "2024-06-25T21:49:20.186574Z"
    }
   },
   "source": [
    "fwd_rates.set_rates_ibor_leg1(fecha_hoy, ibor_leg, zcc_usd_up)\n",
    "vp_ibor_up = pv.pv(fecha_hoy, ibor_leg, zcc_usd)\n",
    "print(f\"Valor presente up pata IBOR: {vp_ibor_up:,.0f}\")\n",
    "\n",
    "fwd_rates.set_rates_ibor_leg1(fecha_hoy, ibor_leg, zcc_usd_down)\n",
    "vp_ibor_down = pv.pv(fecha_hoy, ibor_leg, zcc_usd)\n",
    "print(f\"Valor presente down pata IBOR: {vp_ibor_down:,.0f}\")\n",
    "\n",
    "print(f\"Sensibilidad de proyección en el vértice {vertice}: {(vp_ibor_up - vp_ibor_down) / 2:,.0f}\")"
   ],
   "outputs": [],
   "execution_count": null
  },
  {
   "cell_type": "markdown",
   "metadata": {},
   "source": [
    "### IcpClfCashflow Leg"
   ]
  },
  {
   "cell_type": "markdown",
   "metadata": {},
   "source": [
    "Se da de alta una pata de tipo IcpClfCashflow."
   ]
  },
  {
   "cell_type": "code",
   "metadata": {
    "execution": {
     "iopub.status.busy": "2024-06-25T21:49:20.187919Z",
     "iopub.status.idle": "2024-06-25T21:49:20.188400Z",
     "shell.execute_reply": "2024-06-25T21:49:20.188207Z",
     "shell.execute_reply.started": "2024-06-25T21:49:20.188187Z"
    }
   },
   "source": [
    "rp = qcf.RecPay.RECEIVE\n",
    "fecha_inicio = qcf.QCDate(31, 5, 2018)\n",
    "fecha_final = qcf.QCDate(31, 3, 2021) \n",
    "bus_adj_rule = qcf.BusyAdjRules.FOLLOW\n",
    "periodicidad_pago = qcf.Tenor('6M')\n",
    "periodo_irregular_pago = qcf.StubPeriod.SHORTFRONT\n",
    "calendario = qcf.BusinessCalendar(fecha_inicio, 20)\n",
    "lag_pago = 0\n",
    "nominal = 300_000.0\n",
    "amort_es_flujo = True \n",
    "spread = .0\n",
    "gearing = 1.0\n",
    "\n",
    "icp_clf_leg = qcf.LegFactory.build_bullet_icp_clf_leg(\n",
    "    rp, \n",
    "    fecha_inicio, \n",
    "    fecha_final, \n",
    "    bus_adj_rule, \n",
    "    periodicidad_pago,\n",
    "    periodo_irregular_pago, \n",
    "    calendario, \n",
    "    lag_pago,\n",
    "    nominal, \n",
    "    amort_es_flujo, \n",
    "    spread, \n",
    "    gearing\n",
    ")"
   ],
   "outputs": [],
   "execution_count": null
  },
  {
   "cell_type": "code",
   "metadata": {
    "execution": {
     "iopub.status.busy": "2024-06-25T21:49:20.189515Z",
     "iopub.status.idle": "2024-06-25T21:49:20.190018Z",
     "shell.execute_reply": "2024-06-25T21:49:20.189834Z",
     "shell.execute_reply.started": "2024-06-25T21:49:20.189815Z"
    }
   },
   "source": [
    "aux.leg_as_dataframe(icp_clf_leg).style.format(format_dict)"
   ],
   "outputs": [],
   "execution_count": null
  },
  {
   "cell_type": "code",
   "metadata": {
    "execution": {
     "iopub.status.busy": "2024-06-25T21:49:20.191258Z",
     "iopub.status.idle": "2024-06-25T21:49:20.191909Z",
     "shell.execute_reply": "2024-06-25T21:49:20.191726Z",
     "shell.execute_reply.started": "2024-06-25T21:49:20.191706Z"
    }
   },
   "source": [
    "icp_hoy = 18_882.07\n",
    "uf_hoy = 28_440.19\n",
    "fwd_rates.set_rates_icp_clf_leg(fecha_hoy, icp_hoy, uf_hoy, icp_clf_leg, zcc_clp, zcc_clp, zcc_clf)\n",
    "cshflw = icp_clf_leg.get_cashflow_at(3)\n",
    "cshflw.set_start_date_uf(28_080.26)\n",
    "cshflw.set_start_date_icp(18_786.13)"
   ],
   "outputs": [],
   "execution_count": null
  },
  {
   "cell_type": "code",
   "metadata": {
    "execution": {
     "iopub.status.busy": "2024-06-25T21:49:20.193321Z",
     "iopub.status.idle": "2024-06-25T21:49:20.193732Z",
     "shell.execute_reply": "2024-06-25T21:49:20.193568Z",
     "shell.execute_reply.started": "2024-06-25T21:49:20.193552Z"
    }
   },
   "source": [
    "aux.leg_as_dataframe(icp_clf_leg).style.format(format_dict)"
   ],
   "outputs": [],
   "execution_count": null
  },
  {
   "cell_type": "code",
   "metadata": {
    "execution": {
     "iopub.status.busy": "2024-06-25T21:49:20.194902Z",
     "iopub.status.idle": "2024-06-25T21:49:20.195382Z",
     "shell.execute_reply": "2024-06-25T21:49:20.195200Z",
     "shell.execute_reply.started": "2024-06-25T21:49:20.195180Z"
    }
   },
   "source": [
    "vp_icp_clf = pv.pv(fecha_hoy, icp_clf_leg, zcc_clf)\n",
    "print(f\"Valor presente en UF: {vp_icp_clf:,.2f}\")\n",
    "print(f\"Valor presente en CLP: {vp_icp_clf * uf_hoy:,.0f}\")"
   ],
   "outputs": [],
   "execution_count": null
  },
  {
   "cell_type": "markdown",
   "metadata": {},
   "source": [
    "#### Sensibilidad de Descuento"
   ]
  },
  {
   "cell_type": "code",
   "metadata": {
    "cell_style": "center",
    "execution": {
     "iopub.status.busy": "2024-06-25T21:49:20.196456Z",
     "iopub.status.idle": "2024-06-25T21:49:20.196845Z",
     "shell.execute_reply": "2024-06-25T21:49:20.196674Z",
     "shell.execute_reply.started": "2024-06-25T21:49:20.196656Z"
    },
    "scrolled": true
   },
   "source": [
    "der = pv.get_derivatives()\n",
    "i = 0\n",
    "for d in der:\n",
    "    print(f\"Sensibilidad en {i}: {d * bp / 10_000:0,.2f}\")\n",
    "    i += 1\n",
    "print()\n",
    "print(f\"Sensibilidad de descuento: {sum(der) * bp / 10_000:,.2f} CLF\")"
   ],
   "outputs": [],
   "execution_count": null
  },
  {
   "cell_type": "markdown",
   "metadata": {},
   "source": [
    "#### Sensibilidad de Proyección"
   ]
  },
  {
   "cell_type": "code",
   "metadata": {
    "cell_style": "center",
    "execution": {
     "iopub.status.busy": "2024-06-25T21:49:20.198057Z",
     "iopub.status.idle": "2024-06-25T21:49:20.198515Z",
     "shell.execute_reply": "2024-06-25T21:49:20.198334Z",
     "shell.execute_reply.started": "2024-06-25T21:49:20.198315Z"
    }
   },
   "source": [
    "result = []\n",
    "for i in range(icp_clf_leg.size()):\n",
    "    cshflw = icp_clf_leg.get_cashflow_at(i)\n",
    "    df = zcc_clf.get_discount_factor_at(fecha_hoy.day_diff(cshflw.date()))\n",
    "    amt_der = cshflw.get_amount_ufclf_derivatives()\n",
    "    if len(amt_der) > 0:\n",
    "        amt_der = [a * bp / 10_000 * df for a in amt_der]\n",
    "        result.append(np.array(amt_der))\n",
    "\n",
    "total = result[0] * 0\n",
    "for r in result:\n",
    "    total += r\n",
    "\n",
    "for i in range(len(total)):\n",
    "    print(f\"Sensibilidad en {i}: {total[i]:0,.2f}\")"
   ],
   "outputs": [],
   "execution_count": null
  },
  {
   "cell_type": "markdown",
   "metadata": {},
   "source": [
    "### CompoundedOvernightRate Leg"
   ]
  },
  {
   "cell_type": "markdown",
   "metadata": {},
   "source": [
    "Se da de alta una pata de tipo CompoundedOvernightRate."
   ]
  },
  {
   "cell_type": "code",
   "metadata": {
    "execution": {
     "iopub.status.busy": "2024-06-25T21:49:20.199554Z",
     "iopub.status.idle": "2024-06-25T21:49:20.199984Z",
     "shell.execute_reply": "2024-06-25T21:49:20.199812Z",
     "shell.execute_reply.started": "2024-06-25T21:49:20.199794Z"
    }
   },
   "source": [
    "rp = qcf.RecPay.PAY\n",
    "fecha_inicio = qcf.QCDate(13, 6, 2024)\n",
    "fecha_final = qcf.QCDate(13, 12, 2025)\n",
    "bus_adj_rule = qcf.BusyAdjRules.MODFOLLOW\n",
    "periodicidad_pago = qcf.Tenor('12M')\n",
    "periodo_irregular_pago = qcf.StubPeriod.SHORTFRONT\n",
    "calendario = qcf.BusinessCalendar(fecha_inicio, 20)\n",
    "lag_pago = 0\n",
    "lookback = 0\n",
    "\n",
    "######################################################################\n",
    "# Definición del índice\n",
    "\n",
    "codigo = 'OISTEST'\n",
    "lin_act360 = qcf.QCInterestRate(.0, qcf.QCAct360(), qcf.QCLinearWf())\n",
    "fixing_lag = qcf.Tenor('0d')\n",
    "tenor = qcf.Tenor('1d')\n",
    "fixing_calendar = calendario\n",
    "settlement_calendar = calendario\n",
    "usd = qcf.QCUSD()\n",
    "oistest = qcf.InterestRateIndex(\n",
    "    codigo,\n",
    "    lin_act360,\n",
    "    fixing_lag,\n",
    "    tenor,\n",
    "    fixing_calendar,\n",
    "    settlement_calendar,\n",
    "    usd)\n",
    "\n",
    "# Fin índice\n",
    "######################################################################\n",
    "\n",
    "nominal = 1_000_000.0\n",
    "amort_es_flujo = True\n",
    "moneda = usd\n",
    "spread = .0\n",
    "gearing = 1.0\n",
    "\n",
    "cor_leg = qcf.LegFactory.build_bullet_compounded_overnight_rate_leg_2(\n",
    "    rp,\n",
    "    fecha_inicio,\n",
    "    fecha_final,\n",
    "    bus_adj_rule,\n",
    "    periodicidad_pago,\n",
    "    periodo_irregular_pago,\n",
    "    calendario,\n",
    "    lag_pago,\n",
    "    calendario,\n",
    "    oistest,\n",
    "    nominal,\n",
    "    amort_es_flujo,\n",
    "    usd,\n",
    "    spread,\n",
    "    gearing,\n",
    "    qcf.QCInterestRate(0.0, qcf.QCAct360(), qcf.QCLinearWf()),\n",
    "    10,\n",
    "    lookback,\n",
    "    0\n",
    ")"
   ],
   "outputs": [],
   "execution_count": null
  },
  {
   "cell_type": "markdown",
   "metadata": {},
   "source": [
    "#### Valor Presente"
   ]
  },
  {
   "cell_type": "code",
   "metadata": {
    "execution": {
     "iopub.status.busy": "2024-06-25T21:49:20.201097Z",
     "iopub.status.idle": "2024-06-25T21:49:20.201661Z",
     "shell.execute_reply": "2024-06-25T21:49:20.201474Z",
     "shell.execute_reply.started": "2024-06-25T21:49:20.201455Z"
    }
   },
   "source": [
    "ts = qcf.time_series()\n",
    "fwd_rates.set_rates_compounded_overnight_leg2(\n",
    "    fecha_inicio,\n",
    "    cor_leg,\n",
    "    zcc_sofr,\n",
    "    ts\n",
    ")"
   ],
   "outputs": [],
   "execution_count": null
  },
  {
   "cell_type": "code",
   "metadata": {
    "execution": {
     "iopub.status.busy": "2024-06-25T21:49:20.202726Z",
     "iopub.status.idle": "2024-06-25T21:49:20.203194Z",
     "shell.execute_reply": "2024-06-25T21:49:20.203004Z",
     "shell.execute_reply.started": "2024-06-25T21:49:20.202987Z"
    }
   },
   "source": [
    "aux.leg_as_dataframe(cor_leg).style.format(format_dict)"
   ],
   "outputs": [],
   "execution_count": null
  },
  {
   "cell_type": "code",
   "metadata": {
    "execution": {
     "iopub.status.busy": "2024-06-25T21:49:20.204550Z",
     "iopub.status.idle": "2024-06-25T21:49:20.205067Z",
     "shell.execute_reply": "2024-06-25T21:49:20.204872Z",
     "shell.execute_reply.started": "2024-06-25T21:49:20.204852Z"
    }
   },
   "source": [
    "print(f'Valor presente: {pv.pv(fecha_inicio, cor_leg, zcc_sofr):,.0f}')"
   ],
   "outputs": [],
   "execution_count": null
  },
  {
   "cell_type": "markdown",
   "metadata": {},
   "source": [
    "#### Sensibilidad de Proyección"
   ]
  },
  {
   "cell_type": "code",
   "metadata": {
    "execution": {
     "iopub.status.busy": "2024-06-25T21:49:20.206277Z",
     "iopub.status.idle": "2024-06-25T21:49:20.206712Z",
     "shell.execute_reply": "2024-06-25T21:49:20.206520Z",
     "shell.execute_reply.started": "2024-06-25T21:49:20.206500Z"
    }
   },
   "source": [
    "proj_sens_by_cashflow = np.array([np.array(\n",
    "    np.array(cor_leg.get_cashflow_at(i).get_amount_derivatives()) *\n",
    "    zcc_usd.get_discount_factor_at(fecha_hoy.day_diff(cor_leg.get_cashflow_at(i).get_settlement_date())) * bp / 10_000)\n",
    "                             for i in range(cor_leg.size())])\n",
    "proj_sens = np.sum(proj_sens_by_cashflow, axis=0)\n",
    "for i, s in enumerate(proj_sens):\n",
    "     print(f\"Sensibilidad en {i}: {s:0,.2f}\")"
   ],
   "outputs": [],
   "execution_count": null
  },
  {
   "cell_type": "markdown",
   "metadata": {},
   "source": [
    "Verifica sensibilidad de proyección."
   ]
  },
  {
   "cell_type": "code",
   "metadata": {
    "execution": {
     "iopub.status.busy": "2024-06-25T21:49:20.208212Z",
     "iopub.status.idle": "2024-06-25T21:49:20.208885Z",
     "shell.execute_reply": "2024-06-25T21:49:20.208675Z",
     "shell.execute_reply.started": "2024-06-25T21:49:20.208652Z"
    }
   },
   "source": [
    "fwd_rates.set_rates_compounded_overnight_leg2(fecha_hoy, cor_leg, zcc_usd_up, ts)\n",
    "vp_cor_up = pv.pv(fecha_hoy, cor_leg, zcc_usd)\n",
    "print(f\"Valor presente up pata CompoundedOvernightRate: {vp_cor_up:,.0f}\")\n",
    "\n",
    "fwd_rates.set_rates_compounded_overnight_leg2(fecha_hoy, cor_leg, zcc_usd_down, ts)\n",
    "vp_cor_down = pv.pv(fecha_hoy, cor_leg, zcc_usd)\n",
    "print(f\"Valor presente down pata CompoundedOvernightRate: {vp_cor_down:,.0f}\")\n",
    "\n",
    "print(f\"Sensibilidad de proyección en el vértice {vertice}: {(vp_cor_up - vp_cor_down) / 2:,.2f}\")"
   ],
   "outputs": [],
   "execution_count": null
  },
  {
   "cell_type": "markdown",
   "metadata": {},
   "source": [
    "#### Sensibilidad de Descuento"
   ]
  },
  {
   "cell_type": "code",
   "metadata": {
    "execution": {
     "iopub.status.busy": "2024-06-25T21:49:20.210782Z",
     "iopub.status.idle": "2024-06-25T21:49:20.211538Z",
     "shell.execute_reply": "2024-06-25T21:49:20.211316Z",
     "shell.execute_reply.started": "2024-06-25T21:49:20.211293Z"
    }
   },
   "source": [
    "disc_der = np.array(pv.get_derivatives()) * bp / 10_000\n",
    "for i, s in enumerate(disc_der):\n",
    "    print(f\"Sensibilidad en {i}: {s:0,.2f}\")"
   ],
   "outputs": [],
   "execution_count": null
  },
  {
   "cell_type": "markdown",
   "metadata": {},
   "source": [
    "Verifica la sensibilidad de descuento."
   ]
  },
  {
   "cell_type": "code",
   "metadata": {
    "execution": {
     "iopub.status.busy": "2024-06-25T21:49:20.212788Z",
     "iopub.status.idle": "2024-06-25T21:49:20.213410Z",
     "shell.execute_reply": "2024-06-25T21:49:20.213220Z",
     "shell.execute_reply.started": "2024-06-25T21:49:20.213199Z"
    }
   },
   "source": [
    "fwd_rates.set_rates_compounded_overnight_leg2(fecha_hoy, cor_leg, zcc_usd, ts)\n",
    "vp_cor_up = pv.pv(fecha_hoy, cor_leg, zcc_usd_up)\n",
    "print(f\"Valor presente up pata CompoundedOvernightRate: {vp_cor_up:,.2f}\")\n",
    "\n",
    "fwd_rates.set_rates_compounded_overnight_leg2(fecha_hoy, cor_leg, zcc_usd, ts)\n",
    "vp_cor_down = pv.pv(fecha_hoy, cor_leg, zcc_usd_down)\n",
    "print(f\"Valor presente down pata CompoundedOvernightRate: {vp_cor_down:,.2f}\")\n",
    "\n",
    "print(f\"Sensibilidad de descuento en el vértice {vertice}: {(vp_cor_up - vp_cor_down) / 2:,.2f}\")"
   ],
   "outputs": [],
   "execution_count": null
  },
  {
   "cell_type": "code",
   "metadata": {},
   "source": [],
   "outputs": [],
   "execution_count": null
  },
  {
   "cell_type": "code",
   "metadata": {},
   "source": [],
   "outputs": [],
   "execution_count": null
  },
  {
   "cell_type": "code",
   "metadata": {},
   "source": [],
   "outputs": [],
   "execution_count": null
  },
  {
   "cell_type": "code",
   "metadata": {},
   "source": [],
   "outputs": [],
   "execution_count": null
  },
  {
   "cell_type": "code",
   "metadata": {},
   "source": [],
   "outputs": [],
   "execution_count": null
  },
  {
   "cell_type": "code",
   "metadata": {},
   "source": [],
   "outputs": [],
   "execution_count": null
  },
  {
   "cell_type": "code",
   "metadata": {},
   "source": [],
   "outputs": [],
   "execution_count": null
  },
  {
   "cell_type": "code",
   "metadata": {},
   "source": [],
   "outputs": [],
   "execution_count": null
  }
 ],
 "metadata": {
  "hide_input": false,
  "kernelspec": {
   "display_name": "Python 3 (ipykernel)",
   "language": "python",
   "name": "python3"
  },
  "language_info": {
   "codemirror_mode": {
    "name": "ipython",
    "version": 3
   },
   "file_extension": ".py",
   "mimetype": "text/x-python",
   "name": "python",
   "nbconvert_exporter": "python",
   "pygments_lexer": "ipython3",
   "version": "3.11.5"
  },
  "toc": {
   "base_numbering": 1,
   "nav_menu": {},
   "number_sections": true,
   "sideBar": true,
   "skip_h1_title": true,
   "title_cell": "Table of Contents",
   "title_sidebar": "Contenidos",
   "toc_cell": false,
   "toc_position": {
    "height": "calc(100% - 180px)",
    "left": "10px",
    "top": "150px",
    "width": "311px"
   },
   "toc_section_display": true,
   "toc_window_display": true
  },
  "varInspector": {
   "cols": {
    "lenName": 16,
    "lenType": 16,
    "lenVar": 40
   },
   "kernels_config": {
    "python": {
     "delete_cmd_postfix": "",
     "delete_cmd_prefix": "del ",
     "library": "var_list.py",
     "varRefreshCmd": "print(var_dic_list())"
    },
    "r": {
     "delete_cmd_postfix": ") ",
     "delete_cmd_prefix": "rm(",
     "library": "var_list.r",
     "varRefreshCmd": "cat(var_dic_list()) "
    }
   },
   "types_to_exclude": [
    "module",
    "function",
    "builtin_function_or_method",
    "instance",
    "_Feature"
   ],
   "window_display": false
  }
 },
 "nbformat": 4,
 "nbformat_minor": 4
}
