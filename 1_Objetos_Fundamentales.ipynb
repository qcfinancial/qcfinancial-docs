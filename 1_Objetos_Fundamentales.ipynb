{
 "cells": [
  {
   "cell_type": "markdown",
   "metadata": {
    "editable": true,
    "slideshow": {
     "slide_type": "slide"
    },
    "tags": []
   },
   "source": [
    "# Objetos Fundamentales"
   ]
  },
  {
   "cell_type": "markdown",
   "metadata": {
    "editable": true,
    "slideshow": {
     "slide_type": "subslide"
    },
    "tags": []
   },
   "source": [
    "Para ejecutar todos los ejemplos se debe importar la librería. Se sugiere utilizar siempre el alias `qcf`. "
   ]
  },
  {
   "cell_type": "code",
   "execution_count": 1,
   "metadata": {
    "ExecuteTime": {
     "end_time": "2022-01-21T13:43:01.933321Z",
     "start_time": "2022-01-21T13:43:01.913344Z"
    },
    "editable": true,
    "execution": {
     "iopub.execute_input": "2024-06-23T19:48:01.934127Z",
     "iopub.status.busy": "2024-06-23T19:48:01.933847Z",
     "iopub.status.idle": "2024-06-23T19:48:02.561428Z",
     "shell.execute_reply": "2024-06-23T19:48:02.560725Z",
     "shell.execute_reply.started": "2024-06-23T19:48:01.934104Z"
    },
    "slideshow": {
     "slide_type": "fragment"
    },
    "tags": []
   },
   "outputs": [],
   "source": [
    "import qcfinancial as qcf\n",
    "import pandas as pd\n",
    "import sys"
   ]
  },
  {
   "cell_type": "markdown",
   "metadata": {
    "editable": true,
    "slideshow": {
     "slide_type": "slide"
    },
    "tags": []
   },
   "source": [
    "## Monedas"
   ]
  },
  {
   "cell_type": "markdown",
   "metadata": {
    "editable": true,
    "slideshow": {
     "slide_type": "fragment"
    },
    "tags": []
   },
   "source": [
    "Las divisas se representan con objetos de tipo `QCCurrency` y sus subclases. En estos momentos, de forma explícita, están implementadas las siguientes divisas:\n",
    "\n",
    "\n",
    "|  Lista | de  | Divisas  |\n",
    "|---|---|---|\n",
    "| AUD  | CNY  | JPY   |\n",
    "| BRL  | COP  | MXN  |\n",
    "| CAD   | DKK   | NOK   |\n",
    "| CHF  | EUR   | PEN  |\n",
    "| CLF  | GBP   | SEK  |\n",
    "| CLP  | HKD   | USD  |\n",
    "\n",
    "Si se requiere otra, solicitarlo ingresando un *issue* en el [git repo](https://github.com/qcfinancial/qcfinancial.git) del proyecto."
   ]
  },
  {
   "cell_type": "markdown",
   "metadata": {
    "editable": true,
    "slideshow": {
     "slide_type": "slide"
    },
    "tags": []
   },
   "source": [
    "El constructor por default retorna USD."
   ]
  },
  {
   "cell_type": "code",
   "execution_count": 2,
   "metadata": {
    "ExecuteTime": {
     "end_time": "2022-01-21T13:43:01.949248Z",
     "start_time": "2022-01-21T13:43:01.935286Z"
    },
    "editable": true,
    "execution": {
     "iopub.execute_input": "2024-06-22T19:03:43.389971Z",
     "iopub.status.busy": "2024-06-22T19:03:43.389546Z",
     "iopub.status.idle": "2024-06-22T19:03:43.395179Z",
     "shell.execute_reply": "2024-06-22T19:03:43.394042Z",
     "shell.execute_reply.started": "2024-06-22T19:03:43.389941Z"
    },
    "slideshow": {
     "slide_type": "fragment"
    },
    "tags": []
   },
   "outputs": [
    {
     "name": "stdout",
     "output_type": "stream",
     "text": [
      "ISO Code: USD\n"
     ]
    }
   ],
   "source": [
    "x = qcf.QCCurrency()\n",
    "print(f\"ISO Code: {x.get_iso_code()}\")"
   ]
  },
  {
   "cell_type": "markdown",
   "metadata": {
    "editable": true,
    "slideshow": {
     "slide_type": "slide"
    },
    "tags": []
   },
   "source": [
    "Alta de divisas CLP, USD y JPY (USD se puede instanciar también de forma explícita)."
   ]
  },
  {
   "cell_type": "code",
   "execution_count": 3,
   "metadata": {
    "ExecuteTime": {
     "end_time": "2022-01-21T13:43:01.965206Z",
     "start_time": "2022-01-21T13:43:01.950246Z"
    },
    "editable": true,
    "execution": {
     "iopub.execute_input": "2024-06-22T19:04:11.874927Z",
     "iopub.status.busy": "2024-06-22T19:04:11.874555Z",
     "iopub.status.idle": "2024-06-22T19:04:11.879340Z",
     "shell.execute_reply": "2024-06-22T19:04:11.878204Z",
     "shell.execute_reply.started": "2024-06-22T19:04:11.874894Z"
    },
    "slideshow": {
     "slide_type": "fragment"
    },
    "tags": []
   },
   "outputs": [],
   "source": [
    "monedas = [\n",
    "    clp:=qcf.QCCLP(),\n",
    "    usd:=qcf.QCUSD(),\n",
    "    jpy:=qcf.QCJPY(),\n",
    "]"
   ]
  },
  {
   "cell_type": "markdown",
   "metadata": {
    "editable": true,
    "slideshow": {
     "slide_type": "slide"
    },
    "tags": []
   },
   "source": [
    "Sin usar las subclases se puede instanciar una divisa que no esté implementada, por ejemplo para el peso argentino ARS:"
   ]
  },
  {
   "cell_type": "code",
   "execution_count": 4,
   "metadata": {
    "editable": true,
    "execution": {
     "iopub.execute_input": "2024-06-22T19:05:19.854285Z",
     "iopub.status.busy": "2024-06-22T19:05:19.853673Z",
     "iopub.status.idle": "2024-06-22T19:05:19.858312Z",
     "shell.execute_reply": "2024-06-22T19:05:19.857368Z",
     "shell.execute_reply.started": "2024-06-22T19:05:19.854254Z"
    },
    "slideshow": {
     "slide_type": "fragment"
    },
    "tags": []
   },
   "outputs": [],
   "source": [
    "ars = qcf.QCCurrency('Peso argentino', 'ARS', 32, 0)\n",
    "monedas.append(ars)"
   ]
  },
  {
   "cell_type": "markdown",
   "metadata": {
    "editable": true,
    "slideshow": {
     "slide_type": "slide"
    },
    "tags": []
   },
   "source": [
    "### Métodos: `get_name`, `get_iso_code`, `get_iso_number`, `get_decimal_places` y `amount`."
   ]
  },
  {
   "cell_type": "markdown",
   "metadata": {
    "editable": true,
    "slideshow": {
     "slide_type": "slide"
    },
    "tags": []
   },
   "source": [
    "El método `amount`debe utilizarse cuando se debe pagar o recibir un monto resultado de un cálculo. De esta forma, el monto se redondea al número correcto de decimales en la divisa (que se obtiene con `get_decimal_places`). Por ejemplo, en CLP, se redondea a 0 decimales ya que en esta divisa no se utilizan los centavos."
   ]
  },
  {
   "cell_type": "code",
   "execution_count": 5,
   "metadata": {
    "ExecuteTime": {
     "end_time": "2022-01-21T13:43:01.980166Z",
     "start_time": "2022-01-21T13:43:01.967201Z"
    },
    "editable": true,
    "execution": {
     "iopub.execute_input": "2024-06-22T19:06:29.769933Z",
     "iopub.status.busy": "2024-06-22T19:06:29.769594Z",
     "iopub.status.idle": "2024-06-22T19:06:29.775880Z",
     "shell.execute_reply": "2024-06-22T19:06:29.775026Z",
     "shell.execute_reply.started": "2024-06-22T19:06:29.769902Z"
    },
    "slideshow": {
     "slide_type": "subslide"
    },
    "tags": []
   },
   "outputs": [
    {
     "name": "stdout",
     "output_type": "stream",
     "text": [
      "Nombre: Chilean Peso\n",
      "Código ISO: CLP\n",
      "Número ISO: 152\n",
      "Número de decimales: 0\n",
      "Cantidad 100.123456 con el número correcto de decimales: 100.0000\n",
      "\n",
      "Nombre: U. S. Dollar\n",
      "Código ISO: USD\n",
      "Número ISO: 840\n",
      "Número de decimales: 2\n",
      "Cantidad 100.123456 con el número correcto de decimales: 100.1200\n",
      "\n",
      "Nombre: Japanese Yen\n",
      "Código ISO: JPY\n",
      "Número ISO: 392\n",
      "Número de decimales: 2\n",
      "Cantidad 100.123456 con el número correcto de decimales: 100.1200\n",
      "\n",
      "Nombre: Peso argentino\n",
      "Código ISO: ARS\n",
      "Número ISO: 32\n",
      "Número de decimales: 0\n",
      "Cantidad 100.123456 con el número correcto de decimales: 100.0000\n",
      "\n"
     ]
    }
   ],
   "source": [
    "cantidad = 100.123456\n",
    "for moneda in monedas:\n",
    "    print(f\"Nombre: {format(moneda.get_name())}\")\n",
    "    print(f\"Código ISO: {moneda.get_iso_code()}\")\n",
    "    print(f\"Número ISO: {moneda.get_iso_number()}\")\n",
    "    print(f\"Número de decimales: {moneda.get_decimal_places()}\")\n",
    "    print(f\"Cantidad {cantidad} con el número correcto de decimales: {moneda.amount(cantidad):.4f}\")\n",
    "    print()"
   ]
  },
  {
   "cell_type": "markdown",
   "metadata": {
    "editable": true,
    "slideshow": {
     "slide_type": "fragment"
    },
    "tags": []
   },
   "source": [
    "Más adelante, cuando veamos el concepto de índice, veremos como disponer de un objeto moneda simplifica la conversión de montos de una moneda a otra."
   ]
  },
  {
   "cell_type": "markdown",
   "metadata": {
    "editable": true,
    "slideshow": {
     "slide_type": "slide"
    },
    "tags": []
   },
   "source": [
    "## Fechas"
   ]
  },
  {
   "cell_type": "markdown",
   "metadata": {
    "editable": true,
    "slideshow": {
     "slide_type": "fragment"
    },
    "tags": []
   },
   "source": [
    "Las fechas se representan con objetos de tipo `QCDate`. Para inicializar un `QCDate` se requiere el día, el mes y el año de la fecha. También se puede inicializar sin valor (default constructor) en cuyo caso se obtendrá el 12-01-1969."
   ]
  },
  {
   "cell_type": "markdown",
   "metadata": {
    "editable": true,
    "slideshow": {
     "slide_type": "slide"
    },
    "tags": []
   },
   "source": [
    "### Constructores"
   ]
  },
  {
   "cell_type": "markdown",
   "metadata": {
    "editable": true,
    "slideshow": {
     "slide_type": "slide"
    },
    "tags": []
   },
   "source": [
    "Inicializar sin valor."
   ]
  },
  {
   "cell_type": "code",
   "execution_count": 6,
   "metadata": {
    "ExecuteTime": {
     "end_time": "2022-01-21T13:43:01.996123Z",
     "start_time": "2022-01-21T13:43:01.981164Z"
    },
    "editable": true,
    "execution": {
     "iopub.execute_input": "2024-06-22T19:08:54.628885Z",
     "iopub.status.busy": "2024-06-22T19:08:54.628548Z",
     "iopub.status.idle": "2024-06-22T19:08:54.634870Z",
     "shell.execute_reply": "2024-06-22T19:08:54.633843Z",
     "shell.execute_reply.started": "2024-06-22T19:08:54.628857Z"
    },
    "slideshow": {
     "slide_type": "fragment"
    },
    "tags": []
   },
   "outputs": [
    {
     "name": "stdout",
     "output_type": "stream",
     "text": [
      "Fecha: 1969-01-12\n"
     ]
    }
   ],
   "source": [
    "fecha = qcf.QCDate()\n",
    "print(f\"Fecha: {fecha}\")"
   ]
  },
  {
   "cell_type": "markdown",
   "metadata": {
    "editable": true,
    "slideshow": {
     "slide_type": "slide"
    },
    "tags": []
   },
   "source": [
    "Inicializar con una fecha específica. En este caso, el contructor realiza una validación de los parámetros iniciales."
   ]
  },
  {
   "cell_type": "code",
   "execution_count": 7,
   "metadata": {
    "ExecuteTime": {
     "end_time": "2022-01-21T13:43:02.011084Z",
     "start_time": "2022-01-21T13:43:01.997121Z"
    },
    "editable": true,
    "execution": {
     "iopub.execute_input": "2024-06-22T19:09:09.099509Z",
     "iopub.status.busy": "2024-06-22T19:09:09.099160Z",
     "iopub.status.idle": "2024-06-22T19:09:09.104197Z",
     "shell.execute_reply": "2024-06-22T19:09:09.103321Z",
     "shell.execute_reply.started": "2024-06-22T19:09:09.099478Z"
    },
    "slideshow": {
     "slide_type": "fragment"
    },
    "tags": []
   },
   "outputs": [
    {
     "name": "stdout",
     "output_type": "stream",
     "text": [
      "Fecha: 2024-09-14\n"
     ]
    }
   ],
   "source": [
    "fecha1 = qcf.QCDate(14, 9, 2024)  # día, mes, año\n",
    "print(f\"Fecha: {fecha1}\")"
   ]
  },
  {
   "cell_type": "markdown",
   "metadata": {
    "editable": true,
    "slideshow": {
     "slide_type": "slide"
    },
    "tags": []
   },
   "source": [
    "Error al tratar de construir una fecha inválida."
   ]
  },
  {
   "cell_type": "code",
   "execution_count": 8,
   "metadata": {
    "ExecuteTime": {
     "end_time": "2022-01-21T13:43:02.027041Z",
     "start_time": "2022-01-21T13:43:02.012081Z"
    },
    "editable": true,
    "execution": {
     "iopub.execute_input": "2024-06-22T19:09:22.236673Z",
     "iopub.status.busy": "2024-06-22T19:09:22.236303Z",
     "iopub.status.idle": "2024-06-22T19:09:22.245028Z",
     "shell.execute_reply": "2024-06-22T19:09:22.243764Z",
     "shell.execute_reply.started": "2024-06-22T19:09:22.236640Z"
    },
    "slideshow": {
     "slide_type": "fragment"
    },
    "tags": []
   },
   "outputs": [
    {
     "name": "stdout",
     "output_type": "stream",
     "text": [
      "Invalid day for month = 2\n"
     ]
    }
   ],
   "source": [
    "try:\n",
    "    fecha0 = qcf.QCDate(31, 2, 2024)  # ¡¡¡ 31 de febrero !!!\n",
    "except ValueError as e:\n",
    "    print(e)"
   ]
  },
  {
   "cell_type": "markdown",
   "metadata": {},
   "source": [
    "### Métodos `description`, `iso_code` y `__str__`"
   ]
  },
  {
   "cell_type": "code",
   "execution_count": 9,
   "metadata": {
    "execution": {
     "iopub.execute_input": "2024-06-22T19:09:49.684363Z",
     "iopub.status.busy": "2024-06-22T19:09:49.683983Z",
     "iopub.status.idle": "2024-06-22T19:09:49.689349Z",
     "shell.execute_reply": "2024-06-22T19:09:49.688535Z",
     "shell.execute_reply.started": "2024-06-22T19:09:49.684332Z"
    }
   },
   "outputs": [
    {
     "name": "stdout",
     "output_type": "stream",
     "text": [
      "description(True): 12-01-1969\n",
      "description(False): 1969-01-12\n",
      "iso_code(): 1969-01-12\n",
      "__str__: 1969-01-12\n"
     ]
    }
   ],
   "source": [
    "print(f\"description(True): {fecha.description(True)}\")\n",
    "print(f\"description(False): {fecha.description(False)}\")\n",
    "print(f\"iso_code(): {fecha.iso_code()}\")\n",
    "print(f\"__str__: {fecha}\")"
   ]
  },
  {
   "cell_type": "markdown",
   "metadata": {
    "editable": true,
    "slideshow": {
     "slide_type": "slide"
    },
    "tags": []
   },
   "source": [
    "### Getters y Setters"
   ]
  },
  {
   "cell_type": "markdown",
   "metadata": {
    "editable": true,
    "slideshow": {
     "slide_type": "slide"
    },
    "tags": []
   },
   "source": [
    "Métodos: `set_day`, `set_month` y `set_year`."
   ]
  },
  {
   "cell_type": "code",
   "execution_count": 10,
   "metadata": {
    "ExecuteTime": {
     "end_time": "2022-01-21T13:43:02.042999Z",
     "start_time": "2022-01-21T13:43:02.028038Z"
    },
    "editable": true,
    "execution": {
     "iopub.execute_input": "2024-06-22T19:11:02.787813Z",
     "iopub.status.busy": "2024-06-22T19:11:02.787460Z",
     "iopub.status.idle": "2024-06-22T19:11:02.792831Z",
     "shell.execute_reply": "2024-06-22T19:11:02.791754Z",
     "shell.execute_reply.started": "2024-06-22T19:11:02.787783Z"
    },
    "slideshow": {
     "slide_type": "fragment"
    },
    "tags": []
   },
   "outputs": [
    {
     "name": "stdout",
     "output_type": "stream",
     "text": [
      "Fecha: 2024-10-17\n"
     ]
    }
   ],
   "source": [
    "fecha1.set_day(17)\n",
    "fecha1.set_month(10)\n",
    "fecha1.set_year(2024)\n",
    "print(f\"Fecha: {fecha1}\")"
   ]
  },
  {
   "cell_type": "markdown",
   "metadata": {
    "editable": true,
    "slideshow": {
     "slide_type": "slide"
    },
    "tags": []
   },
   "source": [
    "Métodos `day`, `month` y `year`."
   ]
  },
  {
   "cell_type": "code",
   "execution_count": 11,
   "metadata": {
    "ExecuteTime": {
     "end_time": "2022-01-21T13:43:02.058956Z",
     "start_time": "2022-01-21T13:43:02.043995Z"
    },
    "editable": true,
    "execution": {
     "iopub.execute_input": "2024-06-22T19:11:21.090775Z",
     "iopub.status.busy": "2024-06-22T19:11:21.090418Z",
     "iopub.status.idle": "2024-06-22T19:11:21.095648Z",
     "shell.execute_reply": "2024-06-22T19:11:21.094826Z",
     "shell.execute_reply.started": "2024-06-22T19:11:21.090746Z"
    },
    "slideshow": {
     "slide_type": "fragment"
    },
    "tags": []
   },
   "outputs": [
    {
     "name": "stdout",
     "output_type": "stream",
     "text": [
      "Día: 17\n",
      "Mes: 10\n",
      "Año: 2024\n"
     ]
    }
   ],
   "source": [
    "print(f\"Día: {fecha1.day()}\")\n",
    "print(f\"Mes: {fecha1.month()}\")\n",
    "print(f\"Año: {fecha1.year()}\")"
   ]
  },
  {
   "cell_type": "markdown",
   "metadata": {
    "editable": true,
    "slideshow": {
     "slide_type": ""
    },
    "tags": []
   },
   "source": [
    "### Método `week_day`"
   ]
  },
  {
   "cell_type": "markdown",
   "metadata": {
    "editable": true,
    "slideshow": {
     "slide_type": "fragment"
    },
    "tags": []
   },
   "source": [
    "Retorna una variable de tipo `enum QC_Financial.WeekDay` que representa el día de la semana al que corresponde a la fecha."
   ]
  },
  {
   "cell_type": "code",
   "execution_count": 12,
   "metadata": {
    "ExecuteTime": {
     "end_time": "2022-01-21T13:43:02.073916Z",
     "start_time": "2022-01-21T13:43:02.060950Z"
    },
    "editable": true,
    "execution": {
     "iopub.execute_input": "2024-06-22T19:11:44.220610Z",
     "iopub.status.busy": "2024-06-22T19:11:44.220016Z",
     "iopub.status.idle": "2024-06-22T19:11:44.225165Z",
     "shell.execute_reply": "2024-06-22T19:11:44.224115Z",
     "shell.execute_reply.started": "2024-06-22T19:11:44.220580Z"
    },
    "slideshow": {
     "slide_type": "fragment"
    },
    "tags": []
   },
   "outputs": [
    {
     "name": "stdout",
     "output_type": "stream",
     "text": [
      "Tipo del retorno: <class 'qcfinancial.WeekDay'>\n",
      "Día de la semana: WeekDay.THU\n"
     ]
    }
   ],
   "source": [
    "dia_semana = fecha1.week_day()\n",
    "print(f\"Tipo del retorno: {type(dia_semana)}\")\n",
    "print(f\"Día de la semana: {dia_semana}\")"
   ]
  },
  {
   "cell_type": "markdown",
   "metadata": {
    "editable": true,
    "slideshow": {
     "slide_type": "slide"
    },
    "tags": []
   },
   "source": [
    "### Método `add_months`"
   ]
  },
  {
   "cell_type": "markdown",
   "metadata": {
    "editable": true,
    "slideshow": {
     "slide_type": "fragment"
    },
    "tags": []
   },
   "source": [
    "Suma **n meses** a `fecha1` y retorna esa nueva fecha sin cambiar el valor de `fecha1`."
   ]
  },
  {
   "cell_type": "code",
   "execution_count": 14,
   "metadata": {
    "ExecuteTime": {
     "end_time": "2022-01-21T13:43:02.088876Z",
     "start_time": "2022-01-21T13:43:02.074913Z"
    },
    "editable": true,
    "execution": {
     "iopub.execute_input": "2024-06-22T19:12:49.614487Z",
     "iopub.status.busy": "2024-06-22T19:12:49.614153Z",
     "iopub.status.idle": "2024-06-22T19:12:49.619195Z",
     "shell.execute_reply": "2024-06-22T19:12:49.618144Z",
     "shell.execute_reply.started": "2024-06-22T19:12:49.614457Z"
    },
    "slideshow": {
     "slide_type": "fragment"
    },
    "tags": []
   },
   "outputs": [
    {
     "name": "stdout",
     "output_type": "stream",
     "text": [
      "fecha1: 2024-10-17\n",
      "fecha2: 2025-10-17\n"
     ]
    }
   ],
   "source": [
    "num_meses = 12\n",
    "fecha2 = fecha1.add_months(num_meses)\n",
    "print(f\"fecha1: {fecha1}\")\n",
    "print(f\"fecha2: {fecha2}\")"
   ]
  },
  {
   "cell_type": "markdown",
   "metadata": {
    "editable": true,
    "slideshow": {
     "slide_type": "slide"
    },
    "tags": []
   },
   "source": [
    "### Método `add_days`"
   ]
  },
  {
   "cell_type": "markdown",
   "metadata": {
    "editable": true,
    "slideshow": {
     "slide_type": "fragment"
    },
    "tags": []
   },
   "source": [
    "Suma **n días** a `fecha1` sin cambiar el valor de `fecha1`."
   ]
  },
  {
   "cell_type": "code",
   "execution_count": 17,
   "metadata": {
    "ExecuteTime": {
     "end_time": "2022-01-21T13:43:02.104833Z",
     "start_time": "2022-01-21T13:43:02.089873Z"
    },
    "editable": true,
    "execution": {
     "iopub.execute_input": "2024-06-22T19:13:39.678418Z",
     "iopub.status.busy": "2024-06-22T19:13:39.677745Z",
     "iopub.status.idle": "2024-06-22T19:13:39.682919Z",
     "shell.execute_reply": "2024-06-22T19:13:39.681906Z",
     "shell.execute_reply.started": "2024-06-22T19:13:39.678385Z"
    },
    "slideshow": {
     "slide_type": "fragment"
    },
    "tags": []
   },
   "outputs": [
    {
     "name": "stdout",
     "output_type": "stream",
     "text": [
      "fecha1: 2024-10-17\n",
      "fecha3: 2024-11-16\n"
     ]
    }
   ],
   "source": [
    "num_dias = 30\n",
    "fecha3 = fecha1.add_days(num_dias)\n",
    "print(f\"fecha1: {fecha1}\")\n",
    "print(f\"fecha3: {fecha3}\")"
   ]
  },
  {
   "cell_type": "markdown",
   "metadata": {
    "editable": true,
    "slideshow": {
     "slide_type": "slide"
    },
    "tags": []
   },
   "source": [
    "### Método `day_diff`"
   ]
  },
  {
   "cell_type": "markdown",
   "metadata": {
    "editable": true,
    "slideshow": {
     "slide_type": "fragment"
    },
    "tags": []
   },
   "source": [
    "Calcula la diferencia en días con otra fecha. Si la otra fecha es mayor el resultado es positivo, si no, es negativo."
   ]
  },
  {
   "cell_type": "code",
   "execution_count": 18,
   "metadata": {
    "ExecuteTime": {
     "end_time": "2022-01-21T13:43:02.120791Z",
     "start_time": "2022-01-21T13:43:02.105831Z"
    },
    "editable": true,
    "execution": {
     "iopub.execute_input": "2024-06-22T19:14:32.489963Z",
     "iopub.status.busy": "2024-06-22T19:14:32.489611Z",
     "iopub.status.idle": "2024-06-22T19:14:32.495007Z",
     "shell.execute_reply": "2024-06-22T19:14:32.494144Z",
     "shell.execute_reply.started": "2024-06-22T19:14:32.489934Z"
    },
    "slideshow": {
     "slide_type": "fragment"
    },
    "tags": []
   },
   "outputs": [
    {
     "name": "stdout",
     "output_type": "stream",
     "text": [
      "fecha1.day_diff(fecha3): 30 (días)\n",
      "fecha3.day_diff(fecha1): -30 (días)\n"
     ]
    }
   ],
   "source": [
    "# Dado que fecha3 > fecha1 entonces el resultado es positivo\n",
    "print(f\"fecha1.day_diff(fecha3): {fecha1.day_diff(fecha3)} (días)\")\n",
    "\n",
    "# Se invierten los roles y el resultado es negativo\n",
    "print(f\"fecha3.day_diff(fecha1): {fecha3.day_diff(fecha1)} (días)\")"
   ]
  },
  {
   "cell_type": "markdown",
   "metadata": {
    "editable": true,
    "slideshow": {
     "slide_type": "slide"
    },
    "tags": []
   },
   "source": [
    "### Orden en `QCDate`"
   ]
  },
  {
   "cell_type": "markdown",
   "metadata": {
    "editable": true,
    "slideshow": {
     "slide_type": "slide"
    },
    "tags": []
   },
   "source": [
    "El orden de `QCDate` permite que las fechas pueden compararse entre si."
   ]
  },
  {
   "cell_type": "code",
   "execution_count": 19,
   "metadata": {
    "ExecuteTime": {
     "end_time": "2022-01-21T13:43:02.136747Z",
     "start_time": "2022-01-21T13:43:02.124780Z"
    },
    "editable": true,
    "execution": {
     "iopub.execute_input": "2024-06-22T19:15:00.601704Z",
     "iopub.status.busy": "2024-06-22T19:15:00.601345Z",
     "iopub.status.idle": "2024-06-22T19:15:00.607797Z",
     "shell.execute_reply": "2024-06-22T19:15:00.606811Z",
     "shell.execute_reply.started": "2024-06-22T19:15:00.601675Z"
    },
    "slideshow": {
     "slide_type": ""
    },
    "tags": []
   },
   "outputs": [
    {
     "name": "stdout",
     "output_type": "stream",
     "text": [
      "fecha1: 2024-10-17\n",
      "fecha2: 2025-10-17\n",
      "fecha1 == fecha2: False\n",
      "fecha1 != fecha2: True\n",
      "fecha1 < fecha2: True\n",
      "fecha1 <= fecha2: True\n",
      "fecha1 > fecha2: False\n",
      "fecha1 >= fecha2: False\n"
     ]
    }
   ],
   "source": [
    "print(f\"fecha1: {fecha1}\")\n",
    "print(f\"fecha2: {fecha2}\")\n",
    "print(f\"fecha1 == fecha2: {fecha1 == fecha2}\")\n",
    "print(f\"fecha1 != fecha2: {fecha1 != fecha2}\")\n",
    "print(f\"fecha1 < fecha2: {fecha1 < fecha2}\")\n",
    "print(f\"fecha1 <= fecha2: {fecha1 <= fecha2}\")\n",
    "print(f\"fecha1 > fecha2: {fecha1 > fecha2}\")\n",
    "print(f\"fecha1 >= fecha2: {fecha1 >= fecha2}\")"
   ]
  },
  {
   "cell_type": "markdown",
   "metadata": {
    "editable": true,
    "slideshow": {
     "slide_type": "slide"
    },
    "tags": []
   },
   "source": [
    "### Un objeto `QCDate` es *hashable*"
   ]
  },
  {
   "cell_type": "markdown",
   "metadata": {
    "editable": true,
    "slideshow": {
     "slide_type": "slide"
    },
    "tags": []
   },
   "source": [
    "Esto permite que las fechas puedan usarse como `key` en un `dict`de Python. El hash que se utiliza coincide con la representación como entero de una fecha que se utiliza en Excel."
   ]
  },
  {
   "cell_type": "code",
   "execution_count": 20,
   "metadata": {
    "ExecuteTime": {
     "end_time": "2022-01-21T13:43:02.152705Z",
     "start_time": "2022-01-21T13:43:02.137746Z"
    },
    "editable": true,
    "execution": {
     "iopub.execute_input": "2024-06-22T19:16:05.422203Z",
     "iopub.status.busy": "2024-06-22T19:16:05.421856Z",
     "iopub.status.idle": "2024-06-22T19:16:05.426899Z",
     "shell.execute_reply": "2024-06-22T19:16:05.426002Z",
     "shell.execute_reply.started": "2024-06-22T19:16:05.422172Z"
    },
    "slideshow": {
     "slide_type": "fragment"
    },
    "tags": []
   },
   "outputs": [
    {
     "name": "stdout",
     "output_type": "stream",
     "text": [
      "45582\n"
     ]
    }
   ],
   "source": [
    "print(fecha1.__hash__())"
   ]
  },
  {
   "cell_type": "markdown",
   "metadata": {
    "editable": true,
    "slideshow": {
     "slide_type": "slide"
    },
    "tags": []
   },
   "source": [
    "Por ejemplo, una serie de tiempo:"
   ]
  },
  {
   "cell_type": "code",
   "execution_count": 21,
   "metadata": {
    "editable": true,
    "execution": {
     "iopub.execute_input": "2024-06-22T19:16:50.139683Z",
     "iopub.status.busy": "2024-06-22T19:16:50.139344Z",
     "iopub.status.idle": "2024-06-22T19:16:50.145088Z",
     "shell.execute_reply": "2024-06-22T19:16:50.144297Z",
     "shell.execute_reply.started": "2024-06-22T19:16:50.139655Z"
    },
    "slideshow": {
     "slide_type": "subslide"
    },
    "tags": []
   },
   "outputs": [
    {
     "name": "stdout",
     "output_type": "stream",
     "text": [
      "Valor al: 2024-05-23 es 100.02\n"
     ]
    }
   ],
   "source": [
    "serie_de_tiempo = {\n",
    "    qcf.QCDate(22, 5, 2024): 100.01,\n",
    "    qcf.QCDate(23, 5, 2024): 100.02,\n",
    "    qcf.QCDate(24, 5, 2024): 100.03,\n",
    "}\n",
    "print(f\"Valor al: {qcf.QCDate(23, 5, 2024)} es {serie_de_tiempo[qcf.QCDate(23, 5, 2024)]}\")"
   ]
  },
  {
   "cell_type": "markdown",
   "metadata": {
    "editable": true,
    "slideshow": {
     "slide_type": "slide"
    },
    "tags": []
   },
   "source": [
    "### Método `build_qcdate_from_string`"
   ]
  },
  {
   "cell_type": "markdown",
   "metadata": {
    "editable": true,
    "slideshow": {
     "slide_type": "slide"
    },
    "tags": []
   },
   "source": [
    "Se trata de un *factory method* que permite inicializar un objeto `QCDate` a partir de un `string`.\n",
    "El formato del `string` debe ser yyyy&mm&dd donde & es un separador arbitrario."
   ]
  },
  {
   "cell_type": "code",
   "execution_count": 22,
   "metadata": {
    "ExecuteTime": {
     "end_time": "2022-01-21T13:43:02.167665Z",
     "start_time": "2022-01-21T13:43:02.153703Z"
    },
    "editable": true,
    "execution": {
     "iopub.execute_input": "2024-06-22T19:17:42.797919Z",
     "iopub.status.busy": "2024-06-22T19:17:42.797422Z",
     "iopub.status.idle": "2024-06-22T19:17:42.803631Z",
     "shell.execute_reply": "2024-06-22T19:17:42.802722Z",
     "shell.execute_reply.started": "2024-06-22T19:17:42.797888Z"
    },
    "slideshow": {
     "slide_type": ""
    },
    "tags": []
   },
   "outputs": [
    {
     "name": "stdout",
     "output_type": "stream",
     "text": [
      "2020-01-01: 2020-01-01\n",
      "2020/01/02: 2020-01-02\n",
      "2020&01&03: 2020-01-03\n"
     ]
    }
   ],
   "source": [
    "str1 = \"2020-01-01\"\n",
    "str2 = \"2020/01/02\"\n",
    "str3 = \"2020&01&03\"\n",
    "\n",
    "fecha4 = qcf.build_qcdate_from_string(str1)\n",
    "print(f\"{str1}: {fecha4}\")\n",
    "\n",
    "fecha4 = qcf.build_qcdate_from_string(str2)\n",
    "print(f\"{str2}: {fecha4}\")\n",
    "\n",
    "fecha4 = qcf.build_qcdate_from_string(str3)\n",
    "print(f\"{str3}: {fecha4}\")"
   ]
  },
  {
   "cell_type": "markdown",
   "metadata": {},
   "source": [
    "## Calendarios\n",
    "Los calendarios se representan con objetos de tipo `BusinesssCalendar` y son **listas** de fechas arbitrarias que representan días feriados en alguna ciudad, país, región o unión de las anteriores. Para dar de alta un calendario se requiere una fecha inicial (`QCDate` y un número entero positivo que representa el plazo inicial total del calendario en años). El objeto `BusinessCalendar` incluye explícitamente todos los días 1 de enero y considera siempre como feriado los días sábado y domingo (aunque no pertenecen de forma explícita a la **lista**).\n",
    "\n",
    "En el siguiente loop, por ejemplo, no se imprime nada."
   ]
  },
  {
   "cell_type": "code",
   "execution_count": null,
   "metadata": {
    "ExecuteTime": {
     "end_time": "2022-01-21T13:43:02.183622Z",
     "start_time": "2022-01-21T13:43:02.168663Z"
    }
   },
   "outputs": [],
   "source": [
    "scl = qcf.BusinessCalendar(fecha1, 10)\n",
    "for holiday in scl.get_holidays():\n",
    "    print(holiday)"
   ]
  },
  {
   "cell_type": "markdown",
   "metadata": {},
   "source": [
    "### Método `add_holiday`"
   ]
  },
  {
   "cell_type": "markdown",
   "metadata": {},
   "source": [
    "Agrega una fecha a la lista."
   ]
  },
  {
   "cell_type": "code",
   "execution_count": null,
   "metadata": {
    "ExecuteTime": {
     "end_time": "2022-01-21T13:43:02.198582Z",
     "start_time": "2022-01-21T13:43:02.184620Z"
    }
   },
   "outputs": [],
   "source": [
    "scl.add_holiday(qcf.QCDate(2, 1, 2018))\n",
    "for holiday in scl.get_holidays():\n",
    "    print(holiday)"
   ]
  },
  {
   "cell_type": "markdown",
   "metadata": {},
   "source": [
    "### Método `next_busy_day`"
   ]
  },
  {
   "cell_type": "markdown",
   "metadata": {},
   "source": [
    "Dada una fecha, si ésta es hábil retorna la misma fecha, si, por el contrario, la fecha es inhábil, devuelve la siguiente fecha hábil del calendario."
   ]
  },
  {
   "cell_type": "code",
   "execution_count": null,
   "metadata": {
    "ExecuteTime": {
     "end_time": "2022-01-21T13:43:02.214541Z",
     "start_time": "2022-01-21T13:43:02.199580Z"
    }
   },
   "outputs": [],
   "source": [
    "print(\"next:\", scl.next_busy_day(qcf.QCDate(15, 9, 2018)))  # es sábado\n",
    "print(\"Se agrega el 17-9-2018 a la lista\")\n",
    "scl.add_holiday(qcf.QCDate(17, 9, 2018))\n",
    "print(\"nuevo next:\", scl.next_busy_day(qcf.QCDate(15, 9, 2018)))"
   ]
  },
  {
   "cell_type": "markdown",
   "metadata": {},
   "source": [
    "### Método `mod_next_busy_day`"
   ]
  },
  {
   "cell_type": "markdown",
   "metadata": {},
   "source": [
    "Opera igual que la función anterior a menos que la función anterior retorne una fecha del mes siguiente, en ese caso retorna la fecha hábil anterior."
   ]
  },
  {
   "cell_type": "code",
   "execution_count": null,
   "metadata": {
    "ExecuteTime": {
     "end_time": "2022-01-21T13:43:02.230498Z",
     "start_time": "2022-01-21T13:43:02.215538Z"
    }
   },
   "outputs": [],
   "source": [
    "abril30 = qcf.QCDate(30, 4, 2024)\n",
    "print(f\"Abril 30: {abril30.week_day()}, {abril30}\")\n",
    "\n",
    "scl.add_holiday(abril30)\n",
    "\n",
    "print(\"next:\", scl.next_busy_day(abril30))\n",
    "print(\"mod next:\", scl.mod_next_busy_day(abril30))"
   ]
  },
  {
   "cell_type": "markdown",
   "metadata": {},
   "source": [
    "### Método `prev_busy_day`"
   ]
  },
  {
   "cell_type": "markdown",
   "metadata": {},
   "source": [
    "Opera de forma análoga a `busy_day`, pero retornando la fecha hábil anterior."
   ]
  },
  {
   "cell_type": "code",
   "execution_count": null,
   "metadata": {
    "ExecuteTime": {
     "end_time": "2022-01-21T13:43:02.246455Z",
     "start_time": "2022-01-21T13:43:02.231495Z"
    }
   },
   "outputs": [],
   "source": [
    "print(\"prev:\", scl.prev_busy_day(abril30))"
   ]
  },
  {
   "cell_type": "markdown",
   "metadata": {},
   "source": [
    "### Método `shift`"
   ]
  },
  {
   "cell_type": "markdown",
   "metadata": {},
   "source": [
    "Suma un número *n* (positivo o negativo) de días hábiles a una fecha."
   ]
  },
  {
   "cell_type": "code",
   "execution_count": null,
   "metadata": {
    "ExecuteTime": {
     "end_time": "2022-01-21T13:43:02.261415Z",
     "start_time": "2022-01-21T13:43:02.247452Z"
    }
   },
   "outputs": [],
   "source": [
    "mayo2 = qcf.QCDate(2, 5, 2024)\n",
    "print(scl.shift(mayo2, -1))\n",
    "print(scl.shift(abril30, 0))\n",
    "print(scl.shift(abril30, 1))\n",
    "print(scl.shift(abril30, 5))"
   ]
  },
  {
   "cell_type": "markdown",
   "metadata": {},
   "source": [
    "Agreguemos el 2024-05-01 a los feriados de `scl` y veamos cómo cambia el primer resultado."
   ]
  },
  {
   "cell_type": "code",
   "execution_count": null,
   "metadata": {},
   "outputs": [],
   "source": [
    "scl.add_holiday(qcf.QCDate(1, 5, 2024))\n",
    "print(scl.shift(mayo2, -1))"
   ]
  },
  {
   "cell_type": "markdown",
   "metadata": {},
   "source": [
    "Se va al 29 de abril porque también agregamos como feriado el 30 de abril."
   ]
  },
  {
   "cell_type": "markdown",
   "metadata": {
    "editable": true,
    "heading_collapsed": true,
    "slideshow": {
     "slide_type": ""
    },
    "tags": []
   },
   "source": [
    "## Fracciones de Año"
   ]
  },
  {
   "cell_type": "markdown",
   "metadata": {},
   "source": [
    "Las fracciones de año corresponden a las distintas formas de medir un intervalo de tiempo entre dos fechas que comunmente se utilizan en los productos de tasa de interés."
   ]
  },
  {
   "cell_type": "code",
   "execution_count": null,
   "metadata": {
    "ExecuteTime": {
     "end_time": "2022-01-21T13:43:02.276375Z",
     "start_time": "2022-01-21T13:43:02.262412Z"
    },
    "hidden": true
   },
   "outputs": [],
   "source": [
    "yfs = [\n",
    "    act360:=qcf.QCAct360(),\n",
    "    act365:=qcf.QCAct365(),\n",
    "    act30:=qcf.QCAct30(),\n",
    "    t30360:=qcf.QC30360(),\n",
    "    t3030:=qcf.QC3030(),\n",
    "    \n",
    "    # Corresponde a depósitos a plazo en CLP\n",
    "    act30:=qcf.QCAct30(),\n",
    "\n",
    "    # La utilizan los bonos del tesoro americano\n",
    "    actact:=qcf.QCActAct(),\n",
    "]"
   ]
  },
  {
   "cell_type": "markdown",
   "metadata": {},
   "source": [
    "### Métodos `yf` y `count_days`"
   ]
  },
  {
   "cell_type": "markdown",
   "metadata": {},
   "source": [
    "El método `yf`, que retorna el valor de la fracción de año, está sobrecargado, se puede calcular usando como argumentos un número de días o un par de fechas (`QCDate`)."
   ]
  },
  {
   "cell_type": "code",
   "execution_count": null,
   "metadata": {
    "ExecuteTime": {
     "end_time": "2022-01-21T13:43:02.292334Z",
     "start_time": "2022-01-21T13:43:02.277372Z"
    },
    "hidden": true
   },
   "outputs": [],
   "source": [
    "print(f\"\\nfecha1: {fecha1} y fecha3: {fecha3}\")\n",
    "print(\"---------------------------------------\\n\")\n",
    "for yf in yfs:\n",
    "    print(type(yf))\n",
    "    print(f\"yf(30): {yf.yf(30):.6f}\")\n",
    "    print(f\"yf.yf(fecha1, fecha3): {yf.yf(fecha1, fecha3):.6f}\")\n",
    "    print(f\"yf.yf.count_days(fecha1, fecha3): {yf.count_days(fecha1, fecha3):.0f}\")\n",
    "    print()"
   ]
  },
  {
   "cell_type": "markdown",
   "metadata": {
    "editable": true,
    "heading_collapsed": true,
    "slideshow": {
     "slide_type": ""
    },
    "tags": []
   },
   "source": [
    "## Funciones y Factores de Capitalización"
   ]
  },
  {
   "cell_type": "markdown",
   "metadata": {
    "editable": true,
    "slideshow": {
     "slide_type": ""
    },
    "tags": []
   },
   "source": [
    "Las funciones de capitalización representan las distintas formas en que se puede usar el valor de una tasa de interés para calcular o traer a valor presente un flujo de caja futuro. Al resultado de la función de capitalización lo llamamos *factor de capitalización*."
   ]
  },
  {
   "cell_type": "markdown",
   "metadata": {
    "editable": true,
    "slideshow": {
     "slide_type": ""
    },
    "tags": []
   },
   "source": [
    "Están disponibles los siguientes 3 tipos de funciones (donde $yf$ es la fracción de año asociada a la tasa de valor $r$):\n",
    "\n",
    "- QCLinearWf:     $\\rightarrow 1 + r \\cdot yf$\n",
    "\n",
    "- QCCompoundWf:    $\\rightarrow \\left(1 + r \\right)^{yf}$\n",
    "\n",
    "- QCContinousWf:  $\\rightarrow exp(r \\cdot yf)$"
   ]
  },
  {
   "cell_type": "code",
   "execution_count": null,
   "metadata": {
    "ExecuteTime": {
     "end_time": "2022-01-21T13:43:02.308289Z",
     "start_time": "2022-01-21T13:43:02.293330Z"
    },
    "editable": true,
    "hidden": true,
    "slideshow": {
     "slide_type": ""
    },
    "tags": []
   },
   "outputs": [],
   "source": [
    "wfs = [\n",
    "    lin_wf:=qcf.QCLinearWf(),\n",
    "    com_wf:=qcf.QCCompoundWf(),\n",
    "    exp_wf:=qcf.QCContinousWf(),\n",
    "]"
   ]
  },
  {
   "cell_type": "markdown",
   "metadata": {
    "editable": true,
    "slideshow": {
     "slide_type": ""
    },
    "tags": []
   },
   "source": [
    "### Método `wf`"
   ]
  },
  {
   "cell_type": "markdown",
   "metadata": {
    "editable": true,
    "slideshow": {
     "slide_type": ""
    },
    "tags": []
   },
   "source": [
    "Este método permite calcular el factor de capitalización a partir del valor de una tasa y el valor de una fracción de año."
   ]
  },
  {
   "cell_type": "code",
   "execution_count": null,
   "metadata": {
    "editable": true,
    "slideshow": {
     "slide_type": ""
    },
    "tags": []
   },
   "outputs": [],
   "source": [
    "r = .1   # Valor de la tasa\n",
    "yf = .5  # Fracción de año\n",
    "\n",
    "for wf in wfs:\n",
    "    print(f\"Función: {wf}. Factor: {wf.wf(r, yf):6f}\")"
   ]
  },
  {
   "cell_type": "markdown",
   "metadata": {
    "editable": true,
    "slideshow": {
     "slide_type": ""
    },
    "tags": []
   },
   "source": [
    "## Tasas de Interés"
   ]
  },
  {
   "cell_type": "markdown",
   "metadata": {
    "editable": true,
    "slideshow": {
     "slide_type": ""
    },
    "tags": []
   },
   "source": [
    "Utilizando un número real, una fracción de año y un factor de capitalización, se puede dar de alta (instanciar) un objeto de tipo `QCInterestRate` que representa una tasa de interés (ver por ejemplo el video [Convenciones de Tasas](https://youtu.be/AdCMPKBFwgg?si=8v4wT1WER_poqEBg))."
   ]
  },
  {
   "cell_type": "code",
   "execution_count": null,
   "metadata": {
    "ExecuteTime": {
     "end_time": "2022-01-21T13:43:02.324248Z",
     "start_time": "2022-01-21T13:43:02.309287Z"
    },
    "editable": true,
    "slideshow": {
     "slide_type": ""
    },
    "tags": []
   },
   "outputs": [],
   "source": [
    "r0 = 0.1\n",
    "tasas = [\n",
    "    tasa_lin_act360:=qcf.QCInterestRate(0.1, act360, lin_wf),\n",
    "    tasa_com_act365:= qcf.QCInterestRate(0.1, act365, com_wf),\n",
    "    tasa_exp_act365:=qcf.QCInterestRate(0.1, act365, exp_wf),\n",
    "]"
   ]
  },
  {
   "cell_type": "markdown",
   "metadata": {
    "editable": true,
    "slideshow": {
     "slide_type": ""
    },
    "tags": []
   },
   "source": [
    "### Métodos `get_value` y `set_value`"
   ]
  },
  {
   "cell_type": "markdown",
   "metadata": {
    "editable": true,
    "slideshow": {
     "slide_type": ""
    },
    "tags": []
   },
   "source": [
    "Permiten obtener y definir el valor de la tasa de interés."
   ]
  },
  {
   "cell_type": "code",
   "execution_count": null,
   "metadata": {
    "ExecuteTime": {
     "end_time": "2022-01-21T13:43:02.340204Z",
     "start_time": "2022-01-21T13:43:02.325244Z"
    },
    "editable": true,
    "slideshow": {
     "slide_type": ""
    },
    "tags": []
   },
   "outputs": [],
   "source": [
    "for tasa in tasas:\n",
    "    print(f\"Descripción: {tasa}\") # Está definido el método __str__\n",
    "    \n",
    "    # Se obtiene el valor de la tasa utilizando get_value\n",
    "    print(\"Obtener valor:\", tasa.get_value())\n",
    "    \n",
    "    # Se utiliza set_value para cambiar el valor de la tasa\n",
    "    r1 = 0.12\n",
    "    tasa.set_value(r1)\n",
    "    print(\"Obtener nuevo valor:\", tasa.get_value())\n",
    "    print()"
   ]
  },
  {
   "cell_type": "markdown",
   "metadata": {
    "editable": true,
    "slideshow": {
     "slide_type": ""
    },
    "tags": []
   },
   "source": [
    "### Métodos `wf` y `dwf`"
   ]
  },
  {
   "cell_type": "markdown",
   "metadata": {
    "editable": true,
    "slideshow": {
     "slide_type": ""
    },
    "tags": []
   },
   "source": [
    "Tanto `wf` como `dwf`son métodos sobrecargados. El primero permite calcular el valor del factor de capitalización de la tasa de interés utilizando un número de días o un par de fechas, mientras que el segundo calcula la derivada del factor de capitalización respecto a la tasa de interés. \n",
    "\n",
    "¿Cómo se realiza el cálculo de la derivada? Veamos un ejemplo:"
   ]
  },
  {
   "cell_type": "markdown",
   "metadata": {
    "editable": true,
    "slideshow": {
     "slide_type": ""
    },
    "tags": []
   },
   "source": [
    "Consideremos una tasa de interés cuya función de capitalización es $g$. De ese modo el factor de capitalización $wf$ para un valor de tasa $r$ y una fracción de año $yf$ está dado por:\n",
    "\n",
    "$$wf = g\\left(r,yf\\right)$$\n",
    "\n",
    "En muchas situaciones nos interesará saber como cambia el factor de capitalización cuando el valor $r$ de la tasa cambia. Cuando el cambio de valor, es pequeño, digamos un punto básico, resulta conveniente calcular el cambio de valor en $wf$, $\\Delta wf$ usando la derivada de la función $g$ respecto a $r$, más precisamente:\n",
    "\n",
    "$$\\Delta wf = \\frac{dg\\left(r,yf\\right)}{dr}\\left(r_0,yf\\right)\\cdot\\delta$$\n",
    "\n",
    "Donde $r_0$ es el valor inicial de la tasa y $\\delta$ es el cambio en su valor. Tenemos que:\n",
    "\n",
    "- Si $g=1+r\\cdot yf$ entonces $\\Delta wf = yf\\cdot\\delta$\n",
    "  \n",
    "- Si $g=\\left(1+r\\right)^{yf}$ entonces $\\Delta wf = yf\\cdot\\left(1+r_0\\right)^{yf-1}\\cdot\\delta$\n",
    "\n",
    "- Si $g=exp\\left(r\\cdot yf\\right)$ entonces $\\Delta wf = yf\\cdot exp\\left(r_0\\cdot yf\\right)\\cdot\\delta$\n"
   ]
  },
  {
   "cell_type": "markdown",
   "metadata": {
    "editable": true,
    "slideshow": {
     "slide_type": ""
    },
    "tags": []
   },
   "source": [
    "Calculemos `wf` y `dwf` usando un par de fechas."
   ]
  },
  {
   "cell_type": "code",
   "execution_count": null,
   "metadata": {
    "ExecuteTime": {
     "end_time": "2022-01-21T13:43:02.340204Z",
     "start_time": "2022-01-21T13:43:02.325244Z"
    },
    "editable": true,
    "slideshow": {
     "slide_type": ""
    },
    "tags": []
   },
   "outputs": [],
   "source": [
    "for i, tasa in enumerate(tasas):\n",
    "    # Retorna el factor de capitalización entre las fechas\n",
    "    print(f\"wf(fecha1, fecha3): {tasa.wf(fecha1, fecha3):.8F}\")\n",
    "\n",
    "    # Retorna la derivada del factor de capitalización respecto al valor de la tasa entre las fechas\n",
    "    print(f\"dwf(fecha1, fecha3): {tasa.dwf(fecha1, fecha3):.8f}\")\n",
    "\n",
    "    # Para verificar se calcula \"a mano\" la derivada\n",
    "    match i:\n",
    "        case 0:\n",
    "            print(f\"Check: {tasa.yf(fecha1, fecha3) * r0:.8f}\")\n",
    "        case 1:\n",
    "            yf_ = tasa.yf(fecha1, fecha3)\n",
    "            print(f\"Check: {tasa.yf(fecha1, fecha3) * (1 + r0)**(yf_ - 1):.8f}\")\n",
    "        case 2:\n",
    "            print(f\"Check: {tasa.yf(fecha1, fecha3) * tasa.wf(fecha1, fecha3):.8f}\")\n",
    "    \n",
    "    print()"
   ]
  },
  {
   "cell_type": "markdown",
   "metadata": {
    "editable": true,
    "slideshow": {
     "slide_type": ""
    },
    "tags": []
   },
   "source": [
    "Veamos ahora la sobrecarga y utilicemos un número de días."
   ]
  },
  {
   "cell_type": "code",
   "execution_count": null,
   "metadata": {
    "ExecuteTime": {
     "end_time": "2022-01-21T13:43:02.340204Z",
     "start_time": "2022-01-21T13:43:02.325244Z"
    },
    "editable": true,
    "slideshow": {
     "slide_type": ""
    },
    "tags": []
   },
   "outputs": [],
   "source": [
    "dias = 400\n",
    "for i, tasa in enumerate(tasas):\n",
    "    # Retorna el factor de capitalización entre las fechas\n",
    "    print(f\"wf(dias): {tasa.wf(dias):.8F}\")\n",
    "\n",
    "    # Retorna la derivada del factor de capitalización respecto al valor de la tasa entre las fechas\n",
    "    print(f\"dwf(dias): {tasa.dwf(dias):.8f}\")\n",
    "\n",
    "    # Para verificar se calcula \"a mano\" la derivada\n",
    "    match i:\n",
    "        case 0:\n",
    "            print(f\"Check: {dias / 360 * r0:.8f}\")\n",
    "        case 1:\n",
    "            yf_ = dias / 365\n",
    "            print(f\"Check: {yf_ * (1 + r0)**(yf_ - 1):.8f}\")\n",
    "        case 2:\n",
    "            print(f\"Check: {dias / 365 * tasa.wf(dias):.8f}\")\n",
    "    \n",
    "    print()"
   ]
  },
  {
   "cell_type": "markdown",
   "metadata": {
    "editable": true,
    "slideshow": {
     "slide_type": ""
    },
    "tags": []
   },
   "source": [
    "### Método `get_rate_from_wf`"
   ]
  },
  {
   "cell_type": "markdown",
   "metadata": {
    "editable": true,
    "slideshow": {
     "slide_type": ""
    },
    "tags": []
   },
   "source": [
    "Este método permite calcular la tasa de interés correspondiente a un dado factor de capitalización, utilizando la función de capitalización y la fracción de año de la tasa. El intervalor de tiempo de la tasa se puede especificar con un par de fechas o con un número de días."
   ]
  },
  {
   "cell_type": "code",
   "execution_count": null,
   "metadata": {
    "ExecuteTime": {
     "end_time": "2022-01-21T13:43:02.355165Z",
     "start_time": "2022-01-21T13:43:02.344194Z"
    },
    "editable": true,
    "slideshow": {
     "slide_type": ""
    },
    "tags": []
   },
   "outputs": [],
   "source": [
    "factor = 1.0025\n",
    "dias = 31\n",
    "for tasa in tasas:\n",
    "    aux = f\"{tasa}\"[-10:]\n",
    "    print(f\"Tasa: {aux}\")\n",
    "    print(f\"get_rate_from_wf(factor, fecha1, fecha3): {tasa.get_rate_from_wf(factor, fecha1, fecha3):.4%}\")\n",
    "    print(f\"get_rate_from_wf(factor, dias): {tasa.get_rate_from_wf(factor, dias):.4%}\\n\")\n"
   ]
  },
  {
   "cell_type": "markdown",
   "metadata": {
    "editable": true,
    "slideshow": {
     "slide_type": ""
    },
    "tags": []
   },
   "source": [
    "## Tenor"
   ]
  },
  {
   "cell_type": "markdown",
   "metadata": {
    "editable": true,
    "slideshow": {
     "slide_type": ""
    },
    "tags": []
   },
   "source": [
    "Es una clase que representa el concepto de plazo estructurado o tenor (1D, 1M, 1Y ...)."
   ]
  },
  {
   "cell_type": "markdown",
   "metadata": {
    "editable": true,
    "slideshow": {
     "slide_type": ""
    },
    "tags": []
   },
   "source": [
    "### Ejemplos"
   ]
  },
  {
   "cell_type": "code",
   "execution_count": null,
   "metadata": {
    "ExecuteTime": {
     "end_time": "2022-01-21T13:43:02.371122Z",
     "start_time": "2022-01-21T13:43:02.356162Z"
    },
    "editable": true,
    "slideshow": {
     "slide_type": ""
    },
    "tags": []
   },
   "outputs": [],
   "source": [
    "tenors = [\n",
    "    _1d:=qcf.Tenor(\"1d\"),\n",
    "    _1m:=qcf.Tenor(\"1M\"),\n",
    "    _1y:=qcf.Tenor(\"1y\"),\n",
    "    _1d_1m_1y:=qcf.Tenor(\"1D1M1Y\"),\n",
    "\n",
    "    # Notar que, en este caso, el constructor es capaz de eliminar\n",
    "    # los espacios y la substr nyse\n",
    "    _2y_3m:=qcf.Tenor(\"2y nyse 3m\"),  \n",
    "]"
   ]
  },
  {
   "cell_type": "markdown",
   "metadata": {
    "editable": true,
    "slideshow": {
     "slide_type": ""
    },
    "tags": []
   },
   "source": [
    "### Métodos `get_string`, `get_days`, `get_months` y `get_years`"
   ]
  },
  {
   "cell_type": "code",
   "execution_count": null,
   "metadata": {
    "ExecuteTime": {
     "end_time": "2022-01-21T13:43:02.386082Z",
     "start_time": "2022-01-21T13:43:02.372119Z"
    },
    "editable": true,
    "slideshow": {
     "slide_type": ""
    },
    "tags": []
   },
   "outputs": [],
   "source": [
    "for tenor in tenors:\n",
    "    print(f\"string: {tenor.get_string()}\")\n",
    "    print(f\"dias: {tenor.get_days()}\")\n",
    "    print(f\"meses: {tenor.get_months()}\")\n",
    "    print(f\"años: {tenor.get_years()}\\n\")"
   ]
  },
  {
   "cell_type": "markdown",
   "metadata": {
    "editable": true,
    "slideshow": {
     "slide_type": ""
    },
    "tags": []
   },
   "source": [
    "### Método `set_tenor`"
   ]
  },
  {
   "cell_type": "code",
   "execution_count": null,
   "metadata": {
    "editable": true,
    "slideshow": {
     "slide_type": ""
    },
    "tags": []
   },
   "outputs": [],
   "source": [
    "for i, tenor in enumerate(tenors):\n",
    "    tenor.set_tenor(f\"{i}d{i}m{i}y\")\n",
    "    print(f\"string: {tenor.get_string()}\\n\")"
   ]
  },
  {
   "cell_type": "markdown",
   "metadata": {
    "editable": true,
    "heading_collapsed": true,
    "slideshow": {
     "slide_type": ""
    },
    "tags": []
   },
   "source": [
    "## FX Rate"
   ]
  },
  {
   "cell_type": "markdown",
   "metadata": {
    "editable": true,
    "slideshow": {
     "slide_type": ""
    },
    "tags": []
   },
   "source": [
    "Es una clase que representa el concepto de tipo de cambio entre dos monedas. Para dar de alta un FXRate se requiere:\n",
    "\n",
    "- QCCurrency: la moneda fuerte del par.\n",
    "- QCCurrency: la moneda débl del par."
   ]
  },
  {
   "cell_type": "markdown",
   "metadata": {
    "editable": true,
    "slideshow": {
     "slide_type": ""
    },
    "tags": []
   },
   "source": [
    "### Ejemplo: USDCLP"
   ]
  },
  {
   "cell_type": "code",
   "execution_count": null,
   "metadata": {
    "ExecuteTime": {
     "end_time": "2022-01-21T13:43:02.402039Z",
     "start_time": "2022-01-21T13:43:02.387079Z"
    },
    "editable": true,
    "hidden": true,
    "slideshow": {
     "slide_type": ""
    },
    "tags": []
   },
   "outputs": [],
   "source": [
    "usdclp = qcf.FXRate(usd, clp)"
   ]
  },
  {
   "cell_type": "markdown",
   "metadata": {
    "editable": true,
    "slideshow": {
     "slide_type": ""
    },
    "tags": []
   },
   "source": [
    "Utilizando el método `get_code` se puede obtener el código del par según la convención usual."
   ]
  },
  {
   "cell_type": "code",
   "execution_count": null,
   "metadata": {
    "editable": true,
    "slideshow": {
     "slide_type": ""
    },
    "tags": []
   },
   "outputs": [],
   "source": [
    "print(f\"Código: {usdclp.get_code()}\")"
   ]
  },
  {
   "cell_type": "markdown",
   "metadata": {
    "editable": true,
    "slideshow": {
     "slide_type": ""
    },
    "tags": []
   },
   "source": [
    "## FX Rate Index"
   ]
  },
  {
   "cell_type": "markdown",
   "metadata": {
    "editable": true,
    "slideshow": {
     "slide_type": ""
    },
    "tags": []
   },
   "source": [
    "Esta clase representa un índice de tipo de cambio, por ejemplo, el dólar observado que publica el Banco Central de Chile."
   ]
  },
  {
   "cell_type": "markdown",
   "metadata": {
    "editable": true,
    "slideshow": {
     "slide_type": ""
    },
    "tags": []
   },
   "source": [
    "Para dar de alta un FXRateIndex se requiere:\n",
    "\n",
    "- `FXRate`: el FXRate correspoondiente.\n",
    "- `str`: nombre del índice\n",
    "- `Tenor`: la regla de fixing, es 1D como el USD Observado o es 0D como un ínidce de cierre de día.\n",
    "- `Tenor`: la regla para la valuta. Es 1D como el USDCLP o 2D como el EURUSD.\n",
    "- `BusinessCalendar`: el calendario adecuado para aplicar las reglas de fixing y valuta."
   ]
  },
  {
   "cell_type": "markdown",
   "metadata": {
    "editable": true,
    "slideshow": {
     "slide_type": ""
    },
    "tags": []
   },
   "source": [
    "### Ejemplo"
   ]
  },
  {
   "cell_type": "code",
   "execution_count": null,
   "metadata": {
    "ExecuteTime": {
     "end_time": "2022-01-21T13:43:02.433954Z",
     "start_time": "2022-01-21T13:43:02.418994Z"
    },
    "editable": true,
    "slideshow": {
     "slide_type": ""
    },
    "tags": []
   },
   "outputs": [],
   "source": [
    "_1d.set_tenor(\"1d\")\n",
    "usdclp_obs = qcf.FXRateIndex(usdclp, \"USDOBS\", _1d, _1d, scl)"
   ]
  },
  {
   "cell_type": "markdown",
   "metadata": {
    "editable": true,
    "slideshow": {
     "slide_type": ""
    },
    "tags": []
   },
   "source": [
    "### Métodos `fixing_date` y `value_date`"
   ]
  },
  {
   "cell_type": "markdown",
   "metadata": {
    "editable": true,
    "slideshow": {
     "slide_type": ""
    },
    "tags": []
   },
   "source": [
    "El método `fixing_date` retorna la fecha de fixing del índice dada la fecha de publicación. Por su parte, `value_date` retorna la fecha de la valuta dada la fecha de publicación."
   ]
  },
  {
   "cell_type": "code",
   "execution_count": null,
   "metadata": {
    "editable": true,
    "slideshow": {
     "slide_type": ""
    },
    "tags": []
   },
   "outputs": [],
   "source": [
    "print(f\"Fecha de publicación: {fecha1.week_day()}, {fecha1}\")\n",
    "print(f\"Fecha de fixing: {usdclp_obs.fixing_date(fecha1)}\")\n",
    "print(f\"Fecha de valuta: {usdclp_obs.value_date(fecha1)}\")"
   ]
  },
  {
   "cell_type": "markdown",
   "metadata": {
    "editable": true,
    "slideshow": {
     "slide_type": ""
    },
    "tags": []
   },
   "source": [
    "Notar que la fecha de fixing se calcula aplicando la regla de fixing a la fecha de publicación, mientras que la fecha de valuta se calcula aplicando la regla de valuta a la fecha de fixing."
   ]
  },
  {
   "cell_type": "markdown",
   "metadata": {
    "editable": true,
    "slideshow": {
     "slide_type": ""
    },
    "tags": []
   },
   "source": [
    "### Método `convert`"
   ]
  },
  {
   "cell_type": "markdown",
   "metadata": {
    "editable": true,
    "slideshow": {
     "slide_type": ""
    },
    "tags": []
   },
   "source": [
    "El método `convert` permite pasar rápidamente de una moneda a la otra (de las que forman el par del índice) usando yun valor para el índice."
   ]
  },
  {
   "cell_type": "code",
   "execution_count": null,
   "metadata": {
    "ExecuteTime": {
     "end_time": "2022-01-21T13:43:02.448914Z",
     "start_time": "2022-01-21T13:43:02.434952Z"
    },
    "editable": true,
    "slideshow": {
     "slide_type": ""
    },
    "tags": []
   },
   "outputs": [],
   "source": [
    "monto_usd = 1_000_000\n",
    "monto_clp = 900_000_000\n",
    "valor_usdclp_obs = 900.00\n",
    "\n",
    "result = usdclp_obs.convert(monto_usd, qcf.QCUSD(), valor_usdclp_obs)\n",
    "print(f\"Monto en CLP es: {result:,.0f}\")\n",
    "\n",
    "result = usdclp_obs.convert(monto_clp, qcf.QCCLP(), valor_usdclp_obs)\n",
    "print(f\"Monto en USD es: {result:,.0f}\")"
   ]
  },
  {
   "cell_type": "markdown",
   "metadata": {
    "editable": true,
    "execution": {
     "iopub.execute_input": "2024-05-26T14:21:20.952930Z",
     "iopub.status.busy": "2024-05-26T14:21:20.952572Z",
     "iopub.status.idle": "2024-05-26T14:21:20.958741Z",
     "shell.execute_reply": "2024-05-26T14:21:20.957842Z",
     "shell.execute_reply.started": "2024-05-26T14:21:20.952899Z"
    },
    "slideshow": {
     "slide_type": ""
    },
    "tags": []
   },
   "source": [
    "Esta función es cómoda porque evita tener que controlar en el propio código si la divisa del monto a convertir es la fuerte o la débil del par."
   ]
  },
  {
   "cell_type": "markdown",
   "metadata": {
    "editable": true,
    "slideshow": {
     "slide_type": ""
    },
    "tags": []
   },
   "source": [
    "## QCCurrencyConverter\n",
    "\n",
    "Este es un objeto que permite realizar conversiones de una moneda a otra con un poco más de generalidad que en el caso anterior."
   ]
  },
  {
   "cell_type": "code",
   "execution_count": null,
   "metadata": {
    "editable": true,
    "slideshow": {
     "slide_type": ""
    },
    "tags": []
   },
   "outputs": [],
   "source": [
    "ccy_converter = qcf.QCCurrencyConverter()"
   ]
  },
  {
   "cell_type": "markdown",
   "metadata": {
    "editable": true,
    "slideshow": {
     "slide_type": ""
    },
    "tags": []
   },
   "source": [
    "Dentro de esta clase se definen dos "
   ]
  },
  {
   "cell_type": "markdown",
   "metadata": {
    "editable": true,
    "slideshow": {
     "slide_type": ""
    },
    "tags": []
   },
   "source": [
    "### Método `convert`"
   ]
  },
  {
   "cell_type": "markdown",
   "metadata": {
    "editable": true,
    "slideshow": {
     "slide_type": ""
    },
    "tags": []
   },
   "source": [
    "El método `convert` se puede utilizar con dos conjuntos distintos de argumentos:\n",
    "\n",
    "- float: que representa el monto en una divisa a convertir,\n",
    "- QCCurrency: que representa la divisa del monto anterior\n",
    "- float: que representa el valor del tipo de cambio a utilizar en la convención de mercado del par\n",
    "- QCFxRateIndex: que representa el par de monedas entre las cuales se realiza la conversión\n",
    "\n",
    "Por ejemplo:"
   ]
  },
  {
   "cell_type": "code",
   "execution_count": null,
   "metadata": {
    "editable": true,
    "slideshow": {
     "slide_type": ""
    },
    "tags": []
   },
   "outputs": [],
   "source": [
    "print(f'Monto en CLP: {ccy_converter.convert(monto_usd, usd, 900, usdclp_obs):,.0f}')\n",
    "print(f'Monto en USD: {ccy_converter.convert(monto_clp, clp, 900, usdclp_obs):,.0f}')"
   ]
  },
  {
   "cell_type": "markdown",
   "metadata": {
    "editable": true,
    "slideshow": {
     "slide_type": ""
    },
    "tags": []
   },
   "source": [
    "Para el segundo método se introducen dos `enum` definidos en `QCCurrencyConverter`:"
   ]
  },
  {
   "cell_type": "markdown",
   "metadata": {
    "editable": true,
    "slideshow": {
     "slide_type": ""
    },
    "tags": []
   },
   "source": [
    "#### Enum para Monedas"
   ]
  },
  {
   "cell_type": "code",
   "execution_count": null,
   "metadata": {
    "editable": true,
    "slideshow": {
     "slide_type": ""
    },
    "tags": []
   },
   "outputs": [],
   "source": [
    "qcf.QCCurrencyEnum.CLP"
   ]
  },
  {
   "cell_type": "code",
   "execution_count": null,
   "metadata": {
    "collapsed": false,
    "editable": true,
    "jupyter": {
     "outputs_hidden": false
    },
    "slideshow": {
     "slide_type": ""
    },
    "tags": []
   },
   "outputs": [],
   "source": [
    "qcf.QCCurrencyEnum.USD"
   ]
  },
  {
   "cell_type": "markdown",
   "metadata": {
    "editable": true,
    "slideshow": {
     "slide_type": ""
    },
    "tags": []
   },
   "source": [
    "#### Enum para FXRates"
   ]
  },
  {
   "cell_type": "code",
   "execution_count": null,
   "metadata": {
    "editable": true,
    "slideshow": {
     "slide_type": ""
    },
    "tags": []
   },
   "outputs": [],
   "source": [
    "qcf.QCFxRateEnum.USDCLP"
   ]
  },
  {
   "cell_type": "code",
   "execution_count": null,
   "metadata": {
    "collapsed": false,
    "editable": true,
    "jupyter": {
     "outputs_hidden": false
    },
    "slideshow": {
     "slide_type": ""
    },
    "tags": []
   },
   "outputs": [],
   "source": [
    "qcf.QCFxRateEnum.EURUSD"
   ]
  },
  {
   "cell_type": "code",
   "execution_count": null,
   "metadata": {
    "editable": true,
    "slideshow": {
     "slide_type": ""
    },
    "tags": []
   },
   "outputs": [],
   "source": [
    "print(f'Monto en CLP: {ccy_converter.convert(1_000, usd, 800, usdclp_obs):,.0f}')"
   ]
  },
  {
   "cell_type": "code",
   "execution_count": null,
   "metadata": {},
   "outputs": [],
   "source": [
    "print(f'Monto en USD: {ccy_converter.convert(800_000, clp, 800, usdclp_obs):,.0f}')"
   ]
  },
  {
   "cell_type": "markdown",
   "metadata": {
    "editable": true,
    "slideshow": {
     "slide_type": ""
    },
    "tags": []
   },
   "source": [
    "Con estos `enum` el segundo conjunto de argumentos para el método `convert` es:\n",
    "\n",
    "- float: que representa el monto en una divisa a convertir,\n",
    "- QCCurrencyEnum: que representa la divisa del monto anterior\n",
    "- float: que representa el valor del tipo de cambio a utilizar en la convención de mercado del par\n",
    "- QCFxRateEnum: que representa el par de monedas entre las cuales se realiza la conversión\n",
    "\n",
    "Por ejemplo:"
   ]
  },
  {
   "cell_type": "code",
   "execution_count": null,
   "metadata": {
    "editable": true,
    "slideshow": {
     "slide_type": ""
    },
    "tags": []
   },
   "outputs": [],
   "source": [
    "print(f'Monto en USD: {ccy_converter.convert(monto_clp, qcf.QCCurrencyEnum.CLP, 900, qcf.QCFxRateEnum.USDCLP):,.0f}')\n",
    "print(f'Monto en CLP: {ccy_converter.convert(monto_usd, qcf.QCCurrencyEnum.USD, 900, qcf.QCFxRateEnum.USDCLP):,.0f}')"
   ]
  },
  {
   "cell_type": "markdown",
   "metadata": {
    "editable": true,
    "execution": {
     "iopub.execute_input": "2024-05-26T15:12:28.240823Z",
     "iopub.status.busy": "2024-05-26T15:12:28.240443Z",
     "iopub.status.idle": "2024-05-26T15:12:28.281519Z",
     "shell.execute_reply": "2024-05-26T15:12:28.280077Z",
     "shell.execute_reply.started": "2024-05-26T15:12:28.240792Z"
    },
    "slideshow": {
     "slide_type": ""
    },
    "tags": []
   },
   "source": [
    "Las divisas disponibles en `QCCurrencyEnum` son las mismas que en `QCCurrency`:"
   ]
  },
  {
   "cell_type": "code",
   "execution_count": null,
   "metadata": {
    "editable": true,
    "slideshow": {
     "slide_type": ""
    },
    "tags": []
   },
   "outputs": [],
   "source": [
    "qcf.QCCurrencyEnum.AUD"
   ]
  },
  {
   "cell_type": "code",
   "execution_count": null,
   "metadata": {
    "editable": true,
    "slideshow": {
     "slide_type": ""
    },
    "tags": []
   },
   "outputs": [],
   "source": [
    "qcf.QCCurrencyEnum.BRL"
   ]
  },
  {
   "cell_type": "code",
   "execution_count": null,
   "metadata": {
    "editable": true,
    "slideshow": {
     "slide_type": ""
    },
    "tags": []
   },
   "outputs": [],
   "source": [
    "qcf.QCCurrencyEnum.PEN"
   ]
  },
  {
   "cell_type": "markdown",
   "metadata": {
    "editable": true,
    "slideshow": {
     "slide_type": ""
    },
    "tags": []
   },
   "source": [
    "Los pares de divisas en `QCFxRateEnum` son los pares de las divisas versus el USD (en su convención de mercado) y las divisas versus CLP, que aunque no son pares líquidos, son útiles cuando se quiere expresar montos en cualquier divisa en CLP."
   ]
  },
  {
   "cell_type": "code",
   "execution_count": null,
   "metadata": {
    "editable": true,
    "slideshow": {
     "slide_type": ""
    },
    "tags": []
   },
   "outputs": [],
   "source": [
    "qcf.QCFxRateEnum.USDCLP"
   ]
  },
  {
   "cell_type": "code",
   "execution_count": null,
   "metadata": {
    "collapsed": false,
    "editable": true,
    "jupyter": {
     "outputs_hidden": false
    },
    "slideshow": {
     "slide_type": ""
    },
    "tags": []
   },
   "outputs": [],
   "source": [
    "qcf.QCFxRateEnum.EURUSD"
   ]
  },
  {
   "cell_type": "code",
   "execution_count": null,
   "metadata": {
    "editable": true,
    "slideshow": {
     "slide_type": ""
    },
    "tags": []
   },
   "outputs": [],
   "source": [
    "qcf.QCFxRateEnum.EURCLP"
   ]
  },
  {
   "cell_type": "markdown",
   "metadata": {
    "editable": true,
    "slideshow": {
     "slide_type": ""
    },
    "tags": []
   },
   "source": [
    "## Time Series"
   ]
  },
  {
   "cell_type": "markdown",
   "metadata": {
    "editable": true,
    "slideshow": {
     "slide_type": ""
    },
    "tags": []
   },
   "source": [
    "Este es un objeto que permite almacenar series de tiempo financieras y se utilizarán más adelante en el fixing y valorización de flujos de caja de tasa de interés. Su estructura interna es muy similar a la de un objeto `dict[datetime.date, float]` en Python, sólo se debe reemplazar la `key` del `dict` por un objeto de tipo `QCCDate`."
   ]
  },
  {
   "cell_type": "markdown",
   "metadata": {
    "editable": true,
    "slideshow": {
     "slide_type": ""
    },
    "tags": []
   },
   "source": [
    "### Ejemplo"
   ]
  },
  {
   "cell_type": "code",
   "execution_count": null,
   "metadata": {
    "ExecuteTime": {
     "end_time": "2022-01-21T13:43:02.510748Z",
     "start_time": "2022-01-21T13:43:02.496786Z"
    },
    "editable": true,
    "slideshow": {
     "slide_type": ""
    },
    "tags": []
   },
   "outputs": [],
   "source": [
    "ts = qcf.time_series()\n",
    "ts[fecha1] = 10.0"
   ]
  },
  {
   "cell_type": "code",
   "execution_count": null,
   "metadata": {
    "editable": true,
    "slideshow": {
     "slide_type": ""
    },
    "tags": []
   },
   "outputs": [],
   "source": [
    "type(ts)"
   ]
  },
  {
   "cell_type": "code",
   "execution_count": null,
   "metadata": {
    "editable": true,
    "slideshow": {
     "slide_type": ""
    },
    "tags": []
   },
   "outputs": [],
   "source": [
    "ts[fecha1]"
   ]
  },
  {
   "cell_type": "code",
   "execution_count": null,
   "metadata": {
    "editable": true,
    "slideshow": {
     "slide_type": ""
    },
    "tags": []
   },
   "outputs": [],
   "source": [
    "for k, v in ts.items():\n",
    "    print(k, v)"
   ]
  }
 ],
 "metadata": {
  "hide_input": false,
  "kernelspec": {
   "display_name": "Python 3 (ipykernel)",
   "language": "python",
   "name": "python3"
  },
  "language_info": {
   "codemirror_mode": {
    "name": "ipython",
    "version": 3
   },
   "file_extension": ".py",
   "mimetype": "text/x-python",
   "name": "python",
   "nbconvert_exporter": "python",
   "pygments_lexer": "ipython3",
   "version": "3.11.5"
  },
  "toc": {
   "base_numbering": 1,
   "nav_menu": {},
   "number_sections": true,
   "sideBar": true,
   "skip_h1_title": true,
   "title_cell": "Table of Contents",
   "title_sidebar": "Contenido",
   "toc_cell": false,
   "toc_position": {
    "height": "675.455px",
    "left": "284px",
    "top": "282.284px",
    "width": "235px"
   },
   "toc_section_display": true,
   "toc_window_display": true
  },
  "varInspector": {
   "cols": {
    "lenName": 16,
    "lenType": 16,
    "lenVar": 40
   },
   "kernels_config": {
    "python": {
     "delete_cmd_postfix": "",
     "delete_cmd_prefix": "del ",
     "library": "var_list.py",
     "varRefreshCmd": "print(var_dic_list())"
    },
    "r": {
     "delete_cmd_postfix": ") ",
     "delete_cmd_prefix": "rm(",
     "library": "var_list.r",
     "varRefreshCmd": "cat(var_dic_list()) "
    }
   },
   "types_to_exclude": [
    "module",
    "function",
    "builtin_function_or_method",
    "instance",
    "_Feature"
   ],
   "window_display": false
  }
 },
 "nbformat": 4,
 "nbformat_minor": 4
}
