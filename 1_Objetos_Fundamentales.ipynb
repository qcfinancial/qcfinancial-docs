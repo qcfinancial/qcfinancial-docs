{
 "cells": [
  {
   "cell_type": "markdown",
   "metadata": {
    "editable": true,
    "slideshow": {
     "slide_type": "slide"
    },
    "tags": []
   },
   "source": [
    "# Objetos Fundamentales"
   ],
   "id": "2ac8281678afca10"
  },
  {
   "cell_type": "markdown",
   "metadata": {
    "editable": true,
    "slideshow": {
     "slide_type": "subslide"
    },
    "tags": []
   },
   "source": [
    "Para ejecutar todos los ejemplos se debe importar la librería. Se sugiere utilizar siempre el alias `qcf`. "
   ],
   "id": "af8e5bdaa2e5fc7"
  },
  {
   "cell_type": "code",
   "metadata": {
    "editable": true,
    "execution": {
     "iopub.execute_input": "2024-07-08T12:04:02.758431Z",
     "iopub.status.busy": "2024-07-08T12:04:02.758104Z",
     "iopub.status.idle": "2024-07-08T12:04:03.409331Z",
     "shell.execute_reply": "2024-07-08T12:04:03.408825Z",
     "shell.execute_reply.started": "2024-07-08T12:04:02.758404Z"
    },
    "slideshow": {
     "slide_type": "fragment"
    },
    "tags": [],
    "ExecuteTime": {
     "end_time": "2025-08-25T16:04:27.322813Z",
     "start_time": "2025-08-25T16:04:27.309776Z"
    }
   },
   "source": "import qcfinancial as qcf",
   "id": "143ac5aa0395e5b0",
   "outputs": [],
   "execution_count": 1
  },
  {
   "cell_type": "markdown",
   "metadata": {
    "editable": true,
    "slideshow": {
     "slide_type": "slide"
    },
    "tags": []
   },
   "source": [
    "## Monedas"
   ],
   "id": "5951ac3867853da3"
  },
  {
   "metadata": {
    "editable": true,
    "slideshow": {
     "slide_type": "fragment"
    },
    "tags": []
   },
   "cell_type": "markdown",
   "source": "Las divisas se representan con objetos de tipo `QCCurrency` y sus subclases. En estos momentos, de forma explícita, están implementadas las siguientes divisas:",
   "id": "29c1a69be89209c3"
  },
  {
   "metadata": {
    "ExecuteTime": {
     "end_time": "2025-08-25T16:04:27.387340Z",
     "start_time": "2025-08-25T16:04:27.380594Z"
    }
   },
   "cell_type": "code",
   "source": [
    "for fx in qcf.QCCurrencyEnum.__dict__['__entries']:\n",
    "    print(fx)"
   ],
   "id": "aeee8870e85f11a",
   "outputs": [
    {
     "name": "stdout",
     "output_type": "stream",
     "text": [
      "AUD\n",
      "BRL\n",
      "CAD\n",
      "CHF\n",
      "CLF\n",
      "CL2\n",
      "CLP\n",
      "CNY\n",
      "COP\n",
      "DKK\n",
      "EUR\n",
      "GBP\n",
      "HKD\n",
      "JPY\n",
      "MXN\n",
      "NOK\n",
      "PEN\n",
      "SEK\n",
      "USD\n"
     ]
    }
   ],
   "execution_count": 2
  },
  {
   "metadata": {},
   "cell_type": "markdown",
   "source": [
    "Si se requiere otra, solicitarlo ingresando un *issue* en el [git repo](https://github.com/qcfinancial/qcfinancial.git) del proyecto.\n",
    "\n",
    "Nota: La divisa `CL2` corresponde a CLF, pero usando solamente dos decimales."
   ],
   "id": "f7bfad89a214967a"
  },
  {
   "cell_type": "markdown",
   "metadata": {
    "editable": true,
    "slideshow": {
     "slide_type": "slide"
    },
    "tags": []
   },
   "source": [
    "El constructor por default retorna USD."
   ],
   "id": "197aeccded05eeda"
  },
  {
   "cell_type": "code",
   "metadata": {
    "editable": true,
    "execution": {
     "iopub.execute_input": "2024-07-08T12:04:03.411048Z",
     "iopub.status.busy": "2024-07-08T12:04:03.410614Z",
     "iopub.status.idle": "2024-07-08T12:04:03.414338Z",
     "shell.execute_reply": "2024-07-08T12:04:03.413735Z",
     "shell.execute_reply.started": "2024-07-08T12:04:03.411029Z"
    },
    "slideshow": {
     "slide_type": "fragment"
    },
    "tags": [],
    "ExecuteTime": {
     "end_time": "2025-08-25T16:04:27.462415Z",
     "start_time": "2025-08-25T16:04:27.455193Z"
    }
   },
   "source": [
    "x = qcf.QCCurrency()\n",
    "print(f\"ISO Code: {x.get_iso_code()}\")"
   ],
   "id": "afc4f0e9b915925a",
   "outputs": [
    {
     "name": "stdout",
     "output_type": "stream",
     "text": [
      "ISO Code: USD\n"
     ]
    }
   ],
   "execution_count": 3
  },
  {
   "cell_type": "markdown",
   "metadata": {
    "editable": true,
    "slideshow": {
     "slide_type": "slide"
    },
    "tags": []
   },
   "source": [
    "Alta de divisas CLP, USD y JPY (USD se puede instanciar también de forma explícita)."
   ],
   "id": "bb58ca3ef65e6129"
  },
  {
   "cell_type": "code",
   "metadata": {
    "editable": true,
    "execution": {
     "iopub.execute_input": "2024-07-08T12:04:03.415209Z",
     "iopub.status.busy": "2024-07-08T12:04:03.415014Z",
     "iopub.status.idle": "2024-07-08T12:04:03.418353Z",
     "shell.execute_reply": "2024-07-08T12:04:03.417720Z",
     "shell.execute_reply.started": "2024-07-08T12:04:03.415151Z"
    },
    "slideshow": {
     "slide_type": "fragment"
    },
    "tags": [],
    "ExecuteTime": {
     "end_time": "2025-08-25T16:04:27.522646Z",
     "start_time": "2025-08-25T16:04:27.521009Z"
    }
   },
   "source": [
    "monedas = [\n",
    "    clp:=qcf.QCCLP(),\n",
    "    usd:=qcf.QCUSD(),\n",
    "    jpy:=qcf.QCJPY(),\n",
    "]"
   ],
   "id": "2371ffb1b4f0ab2e",
   "outputs": [],
   "execution_count": 4
  },
  {
   "cell_type": "markdown",
   "metadata": {
    "editable": true,
    "slideshow": {
     "slide_type": "slide"
    },
    "tags": []
   },
   "source": [
    "Sin usar las subclases se puede instanciar una divisa que no esté implementada, por ejemplo para el peso argentino ARS:"
   ],
   "id": "5522b7fa6ea4c4fb"
  },
  {
   "cell_type": "code",
   "metadata": {
    "editable": true,
    "execution": {
     "iopub.execute_input": "2024-07-08T12:04:03.420138Z",
     "iopub.status.busy": "2024-07-08T12:04:03.419962Z",
     "iopub.status.idle": "2024-07-08T12:04:03.423343Z",
     "shell.execute_reply": "2024-07-08T12:04:03.422670Z",
     "shell.execute_reply.started": "2024-07-08T12:04:03.420122Z"
    },
    "slideshow": {
     "slide_type": "fragment"
    },
    "tags": [],
    "ExecuteTime": {
     "end_time": "2025-08-25T16:04:27.532644Z",
     "start_time": "2025-08-25T16:04:27.530825Z"
    }
   },
   "source": [
    "ars = qcf.QCCurrency('Peso argentino', 'ARS', 32, 0)\n",
    "monedas.append(ars)"
   ],
   "id": "701a2962f6be226f",
   "outputs": [],
   "execution_count": 5
  },
  {
   "cell_type": "markdown",
   "metadata": {
    "editable": true,
    "slideshow": {
     "slide_type": "slide"
    },
    "tags": []
   },
   "source": [
    "### Métodos: `get_name`, `get_iso_code`, `get_iso_number`, `get_decimal_places` y `amount`."
   ],
   "id": "b1d7ba50121290f7"
  },
  {
   "cell_type": "markdown",
   "metadata": {
    "editable": true,
    "slideshow": {
     "slide_type": "slide"
    },
    "tags": []
   },
   "source": [
    "El método `amount`debe utilizarse cuando se debe pagar o recibir un monto resultado de un cálculo. De esta forma, el monto se redondea al número correcto de decimales en la divisa (que se obtiene con `get_decimal_places`). Por ejemplo, en CLP, se redondea a 0 decimales ya que en esta divisa no se utilizan los centavos."
   ],
   "id": "4344c56e76db6412"
  },
  {
   "cell_type": "code",
   "metadata": {
    "editable": true,
    "execution": {
     "iopub.execute_input": "2024-07-08T12:04:03.424233Z",
     "iopub.status.busy": "2024-07-08T12:04:03.424089Z",
     "iopub.status.idle": "2024-07-08T12:04:03.428283Z",
     "shell.execute_reply": "2024-07-08T12:04:03.427793Z",
     "shell.execute_reply.started": "2024-07-08T12:04:03.424218Z"
    },
    "slideshow": {
     "slide_type": "subslide"
    },
    "tags": [],
    "ExecuteTime": {
     "end_time": "2025-08-25T16:04:27.542008Z",
     "start_time": "2025-08-25T16:04:27.539843Z"
    }
   },
   "source": [
    "cantidad = 100.123456\n",
    "for moneda in monedas:\n",
    "    print(f\"Nombre: {format(moneda.get_name())}\")\n",
    "    print(f\"Código ISO: {moneda.get_iso_code()}\")\n",
    "    print(f\"Número ISO: {moneda.get_iso_number()}\")\n",
    "    print(f\"Número de decimales: {moneda.get_decimal_places()}\")\n",
    "    print(f\"Cantidad {cantidad} con el número correcto de decimales: {moneda.amount(cantidad):.4f}\")\n",
    "    print()"
   ],
   "id": "de2ea3716d6e53fb",
   "outputs": [
    {
     "name": "stdout",
     "output_type": "stream",
     "text": [
      "Nombre: Chilean Peso\n",
      "Código ISO: CLP\n",
      "Número ISO: 152\n",
      "Número de decimales: 0\n",
      "Cantidad 100.123456 con el número correcto de decimales: 100.0000\n",
      "\n",
      "Nombre: U. S. Dollar\n",
      "Código ISO: USD\n",
      "Número ISO: 840\n",
      "Número de decimales: 2\n",
      "Cantidad 100.123456 con el número correcto de decimales: 100.1200\n",
      "\n",
      "Nombre: Japanese Yen\n",
      "Código ISO: JPY\n",
      "Número ISO: 392\n",
      "Número de decimales: 2\n",
      "Cantidad 100.123456 con el número correcto de decimales: 100.1200\n",
      "\n",
      "Nombre: Peso argentino\n",
      "Código ISO: ARS\n",
      "Número ISO: 32\n",
      "Número de decimales: 0\n",
      "Cantidad 100.123456 con el número correcto de decimales: 100.0000\n",
      "\n"
     ]
    }
   ],
   "execution_count": 6
  },
  {
   "cell_type": "markdown",
   "metadata": {
    "editable": true,
    "slideshow": {
     "slide_type": "fragment"
    },
    "tags": []
   },
   "source": [
    "Más adelante, cuando veamos el concepto de índice, veremos como disponer de un objeto moneda simplifica la conversión de montos de una moneda a otra."
   ],
   "id": "1d49e0745f715a02"
  },
  {
   "cell_type": "markdown",
   "metadata": {
    "editable": true,
    "slideshow": {
     "slide_type": "slide"
    },
    "tags": []
   },
   "source": [
    "## Fechas"
   ],
   "id": "a3ea55ffb3c776e1"
  },
  {
   "cell_type": "markdown",
   "metadata": {
    "editable": true,
    "slideshow": {
     "slide_type": "fragment"
    },
    "tags": []
   },
   "source": [
    "Las fechas se representan con objetos de tipo `QCDate`. Para inicializar un `QCDate` se requiere el día, el mes y el año de la fecha. También se puede inicializar sin valor (default constructor) en cuyo caso se obtendrá el 12-01-1969."
   ],
   "id": "e9e6c852a3e357ad"
  },
  {
   "cell_type": "markdown",
   "metadata": {
    "editable": true,
    "slideshow": {
     "slide_type": "slide"
    },
    "tags": []
   },
   "source": [
    "### Constructores"
   ],
   "id": "69f869102047e554"
  },
  {
   "cell_type": "markdown",
   "metadata": {
    "editable": true,
    "slideshow": {
     "slide_type": "slide"
    },
    "tags": []
   },
   "source": [
    "Inicializar sin valor."
   ],
   "id": "497efa7771a3a2f3"
  },
  {
   "cell_type": "code",
   "metadata": {
    "editable": true,
    "execution": {
     "iopub.execute_input": "2024-07-08T12:04:03.429632Z",
     "iopub.status.busy": "2024-07-08T12:04:03.429242Z",
     "iopub.status.idle": "2024-07-08T12:04:03.432837Z",
     "shell.execute_reply": "2024-07-08T12:04:03.432194Z",
     "shell.execute_reply.started": "2024-07-08T12:04:03.429613Z"
    },
    "slideshow": {
     "slide_type": "fragment"
    },
    "tags": [],
    "ExecuteTime": {
     "end_time": "2025-08-25T16:04:27.552291Z",
     "start_time": "2025-08-25T16:04:27.550794Z"
    }
   },
   "source": [
    "fecha = qcf.QCDate()\n",
    "print(f\"Fecha: {fecha}\")"
   ],
   "id": "414a68f94c32f143",
   "outputs": [
    {
     "name": "stdout",
     "output_type": "stream",
     "text": [
      "Fecha: 1969-01-12\n"
     ]
    }
   ],
   "execution_count": 7
  },
  {
   "cell_type": "markdown",
   "metadata": {
    "editable": true,
    "slideshow": {
     "slide_type": "slide"
    },
    "tags": []
   },
   "source": [
    "Inicializar con una fecha específica. En este caso, el contructor realiza una validación de los parámetros iniciales."
   ],
   "id": "31b5815080762058"
  },
  {
   "cell_type": "code",
   "metadata": {
    "editable": true,
    "execution": {
     "iopub.execute_input": "2024-07-08T12:04:03.433913Z",
     "iopub.status.busy": "2024-07-08T12:04:03.433772Z",
     "iopub.status.idle": "2024-07-08T12:04:03.437711Z",
     "shell.execute_reply": "2024-07-08T12:04:03.436790Z",
     "shell.execute_reply.started": "2024-07-08T12:04:03.433899Z"
    },
    "slideshow": {
     "slide_type": "fragment"
    },
    "tags": [],
    "ExecuteTime": {
     "end_time": "2025-08-25T16:04:27.576305Z",
     "start_time": "2025-08-25T16:04:27.574605Z"
    }
   },
   "source": [
    "fecha1 = qcf.QCDate(14, 9, 2024)  # día, mes, año\n",
    "print(f\"Fecha: {fecha1}\")"
   ],
   "id": "19fe3a5af6167cbd",
   "outputs": [
    {
     "name": "stdout",
     "output_type": "stream",
     "text": [
      "Fecha: 2024-09-14\n"
     ]
    }
   ],
   "execution_count": 8
  },
  {
   "cell_type": "markdown",
   "metadata": {
    "editable": true,
    "slideshow": {
     "slide_type": "slide"
    },
    "tags": []
   },
   "source": [
    "Error al tratar de construir una fecha inválida."
   ],
   "id": "2a531e3f3b312e98"
  },
  {
   "cell_type": "code",
   "metadata": {
    "editable": true,
    "execution": {
     "iopub.execute_input": "2024-07-08T12:04:03.439372Z",
     "iopub.status.busy": "2024-07-08T12:04:03.438647Z",
     "iopub.status.idle": "2024-07-08T12:04:03.443665Z",
     "shell.execute_reply": "2024-07-08T12:04:03.443065Z",
     "shell.execute_reply.started": "2024-07-08T12:04:03.439352Z"
    },
    "slideshow": {
     "slide_type": "fragment"
    },
    "tags": [],
    "ExecuteTime": {
     "end_time": "2025-08-25T16:04:27.610403Z",
     "start_time": "2025-08-25T16:04:27.608185Z"
    }
   },
   "source": [
    "try:\n",
    "    fecha0 = qcf.QCDate(31, 2, 2024)  # ¡¡¡ 31 de febrero !!!\n",
    "except ValueError as e:\n",
    "    print(e)"
   ],
   "id": "e61441a8a4c0fd46",
   "outputs": [
    {
     "name": "stdout",
     "output_type": "stream",
     "text": [
      "Invalid day for month = 2\n"
     ]
    }
   ],
   "execution_count": 9
  },
  {
   "cell_type": "markdown",
   "metadata": {
    "editable": true,
    "slideshow": {
     "slide_type": ""
    },
    "tags": []
   },
   "source": [
    "### Métodos `description`, `iso_code` y `__str__`"
   ],
   "id": "5e1a941ecea22ccc"
  },
  {
   "cell_type": "code",
   "metadata": {
    "editable": true,
    "execution": {
     "iopub.execute_input": "2024-07-08T12:04:03.445025Z",
     "iopub.status.busy": "2024-07-08T12:04:03.444802Z",
     "iopub.status.idle": "2024-07-08T12:04:03.448081Z",
     "shell.execute_reply": "2024-07-08T12:04:03.447647Z",
     "shell.execute_reply.started": "2024-07-08T12:04:03.445008Z"
    },
    "slideshow": {
     "slide_type": ""
    },
    "tags": [],
    "ExecuteTime": {
     "end_time": "2025-08-25T16:04:27.627828Z",
     "start_time": "2025-08-25T16:04:27.626131Z"
    }
   },
   "source": [
    "print(f\"description(True): {fecha.description(True)}\")\n",
    "print(f\"description(False): {fecha.description(False)}\")\n",
    "print(f\"iso_code(): {fecha.iso_code()}\")\n",
    "print(f\"__str__: {fecha}\")"
   ],
   "id": "9658b9609de6a44f",
   "outputs": [
    {
     "name": "stdout",
     "output_type": "stream",
     "text": [
      "description(True): 12-01-1969\n",
      "description(False): 1969-01-12\n",
      "iso_code(): 1969-01-12\n",
      "__str__: 1969-01-12\n"
     ]
    }
   ],
   "execution_count": 10
  },
  {
   "cell_type": "markdown",
   "metadata": {
    "editable": true,
    "slideshow": {
     "slide_type": "slide"
    },
    "tags": []
   },
   "source": [
    "### Getters y Setters"
   ],
   "id": "99640a82c26f72d8"
  },
  {
   "cell_type": "markdown",
   "metadata": {
    "editable": true,
    "slideshow": {
     "slide_type": "slide"
    },
    "tags": []
   },
   "source": [
    "Métodos: `set_day`, `set_month` y `set_year`."
   ],
   "id": "72fce9cf948f71a1"
  },
  {
   "cell_type": "code",
   "metadata": {
    "editable": true,
    "execution": {
     "iopub.execute_input": "2024-07-08T12:04:03.451096Z",
     "iopub.status.busy": "2024-07-08T12:04:03.450809Z",
     "iopub.status.idle": "2024-07-08T12:04:03.454909Z",
     "shell.execute_reply": "2024-07-08T12:04:03.454160Z",
     "shell.execute_reply.started": "2024-07-08T12:04:03.451079Z"
    },
    "slideshow": {
     "slide_type": "fragment"
    },
    "tags": [],
    "ExecuteTime": {
     "end_time": "2025-08-25T16:04:27.661303Z",
     "start_time": "2025-08-25T16:04:27.659057Z"
    }
   },
   "source": [
    "fecha1.set_day(17)\n",
    "fecha1.set_month(10)\n",
    "fecha1.set_year(2024)\n",
    "print(f\"Fecha: {fecha1}\")"
   ],
   "id": "de984f48c1304ccc",
   "outputs": [
    {
     "name": "stdout",
     "output_type": "stream",
     "text": [
      "Fecha: 2024-10-17\n"
     ]
    }
   ],
   "execution_count": 11
  },
  {
   "cell_type": "markdown",
   "metadata": {
    "editable": true,
    "slideshow": {
     "slide_type": "slide"
    },
    "tags": []
   },
   "source": [
    "Métodos `day`, `month` y `year`."
   ],
   "id": "23b97ef840fdd05"
  },
  {
   "cell_type": "code",
   "metadata": {
    "editable": true,
    "execution": {
     "iopub.execute_input": "2024-07-08T12:04:03.456516Z",
     "iopub.status.busy": "2024-07-08T12:04:03.456241Z",
     "iopub.status.idle": "2024-07-08T12:04:03.459808Z",
     "shell.execute_reply": "2024-07-08T12:04:03.459215Z",
     "shell.execute_reply.started": "2024-07-08T12:04:03.456498Z"
    },
    "slideshow": {
     "slide_type": "fragment"
    },
    "tags": [],
    "ExecuteTime": {
     "end_time": "2025-08-25T16:04:27.678282Z",
     "start_time": "2025-08-25T16:04:27.676432Z"
    }
   },
   "source": [
    "print(f\"Día: {fecha1.day()}\")\n",
    "print(f\"Mes: {fecha1.month()}\")\n",
    "print(f\"Año: {fecha1.year()}\")"
   ],
   "id": "26d585df6ca8a5bc",
   "outputs": [
    {
     "name": "stdout",
     "output_type": "stream",
     "text": [
      "Día: 17\n",
      "Mes: 10\n",
      "Año: 2024\n"
     ]
    }
   ],
   "execution_count": 12
  },
  {
   "cell_type": "markdown",
   "metadata": {
    "editable": true,
    "slideshow": {
     "slide_type": ""
    },
    "tags": []
   },
   "source": [
    "### Método `week_day`"
   ],
   "id": "d7e626172921603"
  },
  {
   "cell_type": "markdown",
   "metadata": {
    "editable": true,
    "slideshow": {
     "slide_type": "fragment"
    },
    "tags": []
   },
   "source": [
    "Retorna una variable de tipo `enum QC_Financial.WeekDay` que representa el día de la semana al que corresponde a la fecha."
   ],
   "id": "73081f80f78c8063"
  },
  {
   "cell_type": "code",
   "metadata": {
    "editable": true,
    "execution": {
     "iopub.execute_input": "2024-07-08T12:04:03.460706Z",
     "iopub.status.busy": "2024-07-08T12:04:03.460525Z",
     "iopub.status.idle": "2024-07-08T12:04:03.463834Z",
     "shell.execute_reply": "2024-07-08T12:04:03.463376Z",
     "shell.execute_reply.started": "2024-07-08T12:04:03.460690Z"
    },
    "slideshow": {
     "slide_type": "fragment"
    },
    "tags": [],
    "ExecuteTime": {
     "end_time": "2025-08-25T16:04:27.714571Z",
     "start_time": "2025-08-25T16:04:27.712585Z"
    }
   },
   "source": [
    "dia_semana = fecha1.week_day()\n",
    "print(f\"Tipo del retorno: {type(dia_semana)}\")\n",
    "print(f\"Día de la semana: {dia_semana}\")"
   ],
   "id": "6df0cae166268056",
   "outputs": [
    {
     "name": "stdout",
     "output_type": "stream",
     "text": [
      "Tipo del retorno: <class 'qcfinancial.WeekDay'>\n",
      "Día de la semana: WeekDay.THU\n"
     ]
    }
   ],
   "execution_count": 13
  },
  {
   "cell_type": "markdown",
   "metadata": {
    "editable": true,
    "slideshow": {
     "slide_type": "slide"
    },
    "tags": []
   },
   "source": [
    "### Método `add_months`"
   ],
   "id": "b9bdd2b5592281e2"
  },
  {
   "cell_type": "markdown",
   "metadata": {
    "editable": true,
    "slideshow": {
     "slide_type": "fragment"
    },
    "tags": []
   },
   "source": [
    "Suma **n meses** a `fecha1` y retorna esa nueva fecha sin cambiar el valor de `fecha1`."
   ],
   "id": "894cd34d50b6fdb5"
  },
  {
   "cell_type": "code",
   "metadata": {
    "editable": true,
    "execution": {
     "iopub.execute_input": "2024-07-08T12:04:03.464844Z",
     "iopub.status.busy": "2024-07-08T12:04:03.464649Z",
     "iopub.status.idle": "2024-07-08T12:04:03.468283Z",
     "shell.execute_reply": "2024-07-08T12:04:03.467821Z",
     "shell.execute_reply.started": "2024-07-08T12:04:03.464828Z"
    },
    "slideshow": {
     "slide_type": "fragment"
    },
    "tags": [],
    "ExecuteTime": {
     "end_time": "2025-08-25T16:04:27.741777Z",
     "start_time": "2025-08-25T16:04:27.739902Z"
    }
   },
   "source": [
    "num_meses = 12\n",
    "fecha2 = fecha1.add_months(num_meses)\n",
    "print(f\"fecha1: {fecha1}\")\n",
    "print(f\"fecha2: {fecha2}\")"
   ],
   "id": "495704e9cd04e0e1",
   "outputs": [
    {
     "name": "stdout",
     "output_type": "stream",
     "text": [
      "fecha1: 2024-10-17\n",
      "fecha2: 2025-10-17\n"
     ]
    }
   ],
   "execution_count": 14
  },
  {
   "cell_type": "markdown",
   "metadata": {
    "editable": true,
    "slideshow": {
     "slide_type": "slide"
    },
    "tags": []
   },
   "source": [
    "### Método `add_days`"
   ],
   "id": "971a1f37ac7936e0"
  },
  {
   "cell_type": "markdown",
   "metadata": {
    "editable": true,
    "slideshow": {
     "slide_type": "fragment"
    },
    "tags": []
   },
   "source": [
    "Suma **n días** a `fecha1` sin cambiar el valor de `fecha1`."
   ],
   "id": "f885e6ee684f7ec0"
  },
  {
   "cell_type": "code",
   "metadata": {
    "editable": true,
    "execution": {
     "iopub.execute_input": "2024-07-08T12:04:03.469295Z",
     "iopub.status.busy": "2024-07-08T12:04:03.469112Z",
     "iopub.status.idle": "2024-07-08T12:04:03.473485Z",
     "shell.execute_reply": "2024-07-08T12:04:03.472676Z",
     "shell.execute_reply.started": "2024-07-08T12:04:03.469279Z"
    },
    "slideshow": {
     "slide_type": "fragment"
    },
    "tags": [],
    "ExecuteTime": {
     "end_time": "2025-08-25T16:04:27.772695Z",
     "start_time": "2025-08-25T16:04:27.770476Z"
    }
   },
   "source": [
    "num_dias = 30\n",
    "fecha3 = fecha1.add_days(num_dias)\n",
    "print(f\"fecha1: {fecha1}\")\n",
    "print(f\"fecha3: {fecha3}\")"
   ],
   "id": "3da47a9b8a28d89f",
   "outputs": [
    {
     "name": "stdout",
     "output_type": "stream",
     "text": [
      "fecha1: 2024-10-17\n",
      "fecha3: 2024-11-16\n"
     ]
    }
   ],
   "execution_count": 15
  },
  {
   "cell_type": "markdown",
   "metadata": {
    "editable": true,
    "slideshow": {
     "slide_type": "slide"
    },
    "tags": []
   },
   "source": [
    "### Método `day_diff`"
   ],
   "id": "a9a3bc7ba63899e3"
  },
  {
   "cell_type": "markdown",
   "metadata": {
    "editable": true,
    "slideshow": {
     "slide_type": "fragment"
    },
    "tags": []
   },
   "source": [
    "Calcula la diferencia en días con otra fecha. Si la otra fecha es mayor el resultado es positivo, si no, es negativo."
   ],
   "id": "27acb56a65b3e8d7"
  },
  {
   "cell_type": "code",
   "metadata": {
    "editable": true,
    "execution": {
     "iopub.execute_input": "2024-07-08T12:04:03.475014Z",
     "iopub.status.busy": "2024-07-08T12:04:03.474798Z",
     "iopub.status.idle": "2024-07-08T12:04:03.478269Z",
     "shell.execute_reply": "2024-07-08T12:04:03.477642Z",
     "shell.execute_reply.started": "2024-07-08T12:04:03.474994Z"
    },
    "slideshow": {
     "slide_type": "fragment"
    },
    "tags": [],
    "ExecuteTime": {
     "end_time": "2025-08-25T16:04:27.789635Z",
     "start_time": "2025-08-25T16:04:27.787851Z"
    }
   },
   "source": [
    "# Dado que fecha3 > fecha1 entonces el resultado es positivo\n",
    "print(f\"fecha1.day_diff(fecha3): {fecha1.day_diff(fecha3)} (días)\")\n",
    "\n",
    "# Se invierten los roles y el resultado es negativo\n",
    "print(f\"fecha3.day_diff(fecha1): {fecha3.day_diff(fecha1)} (días)\")"
   ],
   "id": "3202049b6e3cb3be",
   "outputs": [
    {
     "name": "stdout",
     "output_type": "stream",
     "text": [
      "fecha1.day_diff(fecha3): 30 (días)\n",
      "fecha3.day_diff(fecha1): -30 (días)\n"
     ]
    }
   ],
   "execution_count": 16
  },
  {
   "cell_type": "markdown",
   "metadata": {
    "editable": true,
    "slideshow": {
     "slide_type": "slide"
    },
    "tags": []
   },
   "source": [
    "### Orden en `QCDate`"
   ],
   "id": "a4058ae60ad13e42"
  },
  {
   "cell_type": "markdown",
   "metadata": {
    "editable": true,
    "slideshow": {
     "slide_type": "slide"
    },
    "tags": []
   },
   "source": [
    "El orden de `QCDate` permite que las fechas pueden compararse entre si."
   ],
   "id": "81391cb39e8274d8"
  },
  {
   "cell_type": "code",
   "metadata": {
    "editable": true,
    "execution": {
     "iopub.execute_input": "2024-07-08T12:04:03.479446Z",
     "iopub.status.busy": "2024-07-08T12:04:03.479247Z",
     "iopub.status.idle": "2024-07-08T12:04:03.483051Z",
     "shell.execute_reply": "2024-07-08T12:04:03.482559Z",
     "shell.execute_reply.started": "2024-07-08T12:04:03.479431Z"
    },
    "slideshow": {
     "slide_type": ""
    },
    "tags": [],
    "ExecuteTime": {
     "end_time": "2025-08-25T16:04:27.827898Z",
     "start_time": "2025-08-25T16:04:27.825456Z"
    }
   },
   "source": [
    "print(f\"fecha1: {fecha1}\")\n",
    "print(f\"fecha2: {fecha2}\")\n",
    "print(f\"fecha1 == fecha2: {fecha1 == fecha2}\")\n",
    "print(f\"fecha1 != fecha2: {fecha1 != fecha2}\")\n",
    "print(f\"fecha1 < fecha2: {fecha1 < fecha2}\")\n",
    "print(f\"fecha1 <= fecha2: {fecha1 <= fecha2}\")\n",
    "print(f\"fecha1 > fecha2: {fecha1 > fecha2}\")\n",
    "print(f\"fecha1 >= fecha2: {fecha1 >= fecha2}\")"
   ],
   "id": "43ec1cb6123cf6a7",
   "outputs": [
    {
     "name": "stdout",
     "output_type": "stream",
     "text": [
      "fecha1: 2024-10-17\n",
      "fecha2: 2025-10-17\n",
      "fecha1 == fecha2: False\n",
      "fecha1 != fecha2: True\n",
      "fecha1 < fecha2: True\n",
      "fecha1 <= fecha2: True\n",
      "fecha1 > fecha2: False\n",
      "fecha1 >= fecha2: False\n"
     ]
    }
   ],
   "execution_count": 17
  },
  {
   "cell_type": "markdown",
   "metadata": {
    "editable": true,
    "slideshow": {
     "slide_type": "slide"
    },
    "tags": []
   },
   "source": [
    "### Un objeto `QCDate` es *hashable*"
   ],
   "id": "9ac9f1fc6952f38a"
  },
  {
   "cell_type": "markdown",
   "metadata": {
    "editable": true,
    "slideshow": {
     "slide_type": "slide"
    },
    "tags": []
   },
   "source": [
    "Esto permite que las fechas puedan usarse como `key` en un `dict`de Python. El hash que se utiliza coincide con la representación como entero de una fecha que se utiliza en Excel."
   ],
   "id": "3991c086b22f8b4b"
  },
  {
   "cell_type": "code",
   "metadata": {
    "editable": true,
    "execution": {
     "iopub.execute_input": "2024-07-08T12:04:03.484722Z",
     "iopub.status.busy": "2024-07-08T12:04:03.484374Z",
     "iopub.status.idle": "2024-07-08T12:04:03.488466Z",
     "shell.execute_reply": "2024-07-08T12:04:03.487296Z",
     "shell.execute_reply.started": "2024-07-08T12:04:03.484704Z"
    },
    "slideshow": {
     "slide_type": "fragment"
    },
    "tags": [],
    "ExecuteTime": {
     "end_time": "2025-08-25T16:04:27.848124Z",
     "start_time": "2025-08-25T16:04:27.846483Z"
    }
   },
   "source": [
    "print(fecha1.__hash__())"
   ],
   "id": "e883134468e513e2",
   "outputs": [
    {
     "name": "stdout",
     "output_type": "stream",
     "text": [
      "45582\n"
     ]
    }
   ],
   "execution_count": 18
  },
  {
   "cell_type": "markdown",
   "metadata": {
    "editable": true,
    "slideshow": {
     "slide_type": "slide"
    },
    "tags": []
   },
   "source": [
    "Por ejemplo, una serie de tiempo:"
   ],
   "id": "77e21a9c5587731e"
  },
  {
   "cell_type": "code",
   "metadata": {
    "editable": true,
    "execution": {
     "iopub.execute_input": "2024-07-08T12:04:03.490623Z",
     "iopub.status.busy": "2024-07-08T12:04:03.490271Z",
     "iopub.status.idle": "2024-07-08T12:04:03.494686Z",
     "shell.execute_reply": "2024-07-08T12:04:03.494187Z",
     "shell.execute_reply.started": "2024-07-08T12:04:03.490605Z"
    },
    "slideshow": {
     "slide_type": "subslide"
    },
    "tags": [],
    "ExecuteTime": {
     "end_time": "2025-08-25T16:04:27.874434Z",
     "start_time": "2025-08-25T16:04:27.872557Z"
    }
   },
   "source": [
    "serie_de_tiempo = {\n",
    "    qcf.QCDate(22, 5, 2024): 100.01,\n",
    "    qcf.QCDate(23, 5, 2024): 100.02,\n",
    "    qcf.QCDate(24, 5, 2024): 100.03,\n",
    "}\n",
    "print(f\"Valor al: {qcf.QCDate(23, 5, 2024)} es {serie_de_tiempo[qcf.QCDate(23, 5, 2024)]}\")"
   ],
   "id": "962fbb2d1df89669",
   "outputs": [
    {
     "name": "stdout",
     "output_type": "stream",
     "text": [
      "Valor al: 2024-05-23 es 100.02\n"
     ]
    }
   ],
   "execution_count": 19
  },
  {
   "cell_type": "markdown",
   "metadata": {
    "editable": true,
    "slideshow": {
     "slide_type": "slide"
    },
    "tags": []
   },
   "source": [
    "### Método `build_qcdate_from_string`"
   ],
   "id": "f0d5e5f3a85396db"
  },
  {
   "cell_type": "markdown",
   "metadata": {
    "editable": true,
    "slideshow": {
     "slide_type": "slide"
    },
    "tags": []
   },
   "source": [
    "Se trata de un *factory method* que permite inicializar un objeto `QCDate` a partir de un `string`.\n",
    "El formato del `string` debe ser yyyy&mm&dd donde & es un separador arbitrario."
   ],
   "id": "aaedc5b6d6a18b14"
  },
  {
   "cell_type": "code",
   "metadata": {
    "editable": true,
    "execution": {
     "iopub.execute_input": "2024-07-08T12:04:03.495654Z",
     "iopub.status.busy": "2024-07-08T12:04:03.495503Z",
     "iopub.status.idle": "2024-07-08T12:04:03.499434Z",
     "shell.execute_reply": "2024-07-08T12:04:03.498837Z",
     "shell.execute_reply.started": "2024-07-08T12:04:03.495638Z"
    },
    "scrolled": true,
    "slideshow": {
     "slide_type": ""
    },
    "tags": [],
    "ExecuteTime": {
     "end_time": "2025-08-25T16:04:27.918765Z",
     "start_time": "2025-08-25T16:04:27.916198Z"
    }
   },
   "source": [
    "str1 = \"2020-01-01\"\n",
    "str2 = \"2020/01/02\"\n",
    "str3 = \"2020&01&03\"\n",
    "\n",
    "fecha4 = qcf.build_qcdate_from_string(str1)\n",
    "print(f\"{str1}: {fecha4}\")\n",
    "\n",
    "fecha4 = qcf.build_qcdate_from_string(str2)\n",
    "print(f\"{str2}: {fecha4}\")\n",
    "\n",
    "fecha4 = qcf.build_qcdate_from_string(str3)\n",
    "print(f\"{str3}: {fecha4}\")"
   ],
   "id": "a0210ee495760c73",
   "outputs": [
    {
     "name": "stdout",
     "output_type": "stream",
     "text": [
      "2020-01-01: 2020-01-01\n",
      "2020/01/02: 2020-01-02\n",
      "2020&01&03: 2020-01-03\n"
     ]
    }
   ],
   "execution_count": 20
  },
  {
   "cell_type": "markdown",
   "metadata": {
    "editable": true,
    "slideshow": {
     "slide_type": "slide"
    },
    "tags": []
   },
   "source": [
    "## Calendarios"
   ],
   "id": "b92fd90fa9a362d"
  },
  {
   "cell_type": "markdown",
   "metadata": {
    "editable": true,
    "execution": {
     "iopub.execute_input": "2024-07-01T12:07:17.570743Z",
     "iopub.status.busy": "2024-07-01T12:07:17.570335Z",
     "iopub.status.idle": "2024-07-01T12:07:17.578122Z",
     "shell.execute_reply": "2024-07-01T12:07:17.576844Z",
     "shell.execute_reply.started": "2024-07-01T12:07:17.570713Z"
    },
    "slideshow": {
     "slide_type": "subslide"
    },
    "tags": []
   },
   "source": [
    "Para construir correctamente la tabla de desarrollo de un bono o de las patas de un swap, es necesario conocer los calendarios que se debe aplicar en cada caso. \n",
    "\n",
    "Sólo así es posible determinar qué fechas de pago, de inicio y fin de devengo y otras son admisibles."
   ],
   "id": "3e0eeff2a45f92bd"
  },
  {
   "cell_type": "markdown",
   "metadata": {
    "editable": true,
    "execution": {
     "iopub.execute_input": "2024-07-07T11:30:55.950395Z",
     "iopub.status.busy": "2024-07-07T11:30:55.950094Z",
     "iopub.status.idle": "2024-07-07T11:30:55.959768Z",
     "shell.execute_reply": "2024-07-07T11:30:55.958599Z",
     "shell.execute_reply.started": "2024-07-07T11:30:55.950367Z"
    },
    "slideshow": {
     "slide_type": "slide"
    },
    "tags": []
   },
   "source": [
    "Los calendarios se representan con objetos de tipo `BusinesssCalendar` y son **listas** de fechas arbitrarias que representan días feriados en alguna ciudad, país, región o unión de las anteriores. "
   ],
   "id": "ff20480b66bebfd8"
  },
  {
   "cell_type": "markdown",
   "metadata": {
    "editable": true,
    "slideshow": {
     "slide_type": "slide"
    },
    "tags": []
   },
   "source": [
    "Para dar de alta un calendario se requiere:\n",
    "\n",
    "- una fecha inicial (`QCDate`)\n",
    "- y un número entero positivo que representa el plazo inicial total del calendario en años."
   ],
   "id": "ff9223d6cdd8e21"
  },
  {
   "cell_type": "markdown",
   "metadata": {
    "editable": true,
    "slideshow": {
     "slide_type": "slide"
    },
    "tags": []
   },
   "source": [
    "El objeto `BusinessCalendar` incluye explícitamente todos los días 1 de enero y considera siempre como feriado los días sábado y domingo (aunque no pertenecen de forma explícita a la **lista**)."
   ],
   "id": "837c86d27fc32d36"
  },
  {
   "cell_type": "markdown",
   "metadata": {
    "editable": true,
    "slideshow": {
     "slide_type": "slide"
    },
    "tags": []
   },
   "source": [
    "En el siguiente loop, por ejemplo, no se imprime nada."
   ],
   "id": "c43e611460c09765"
  },
  {
   "cell_type": "code",
   "metadata": {
    "editable": true,
    "execution": {
     "iopub.execute_input": "2024-07-08T12:08:41.687906Z",
     "iopub.status.busy": "2024-07-08T12:08:41.687649Z",
     "iopub.status.idle": "2024-07-08T12:08:41.691565Z",
     "shell.execute_reply": "2024-07-08T12:08:41.690809Z",
     "shell.execute_reply.started": "2024-07-08T12:08:41.687886Z"
    },
    "slideshow": {
     "slide_type": "fragment"
    },
    "tags": [],
    "ExecuteTime": {
     "end_time": "2025-08-25T16:04:27.943185Z",
     "start_time": "2025-08-25T16:04:27.941679Z"
    }
   },
   "source": [
    "fecha_inicio_calendario = qcf.QCDate(1, 1, 2024)\n",
    "scl = qcf.BusinessCalendar(fecha1, 10)"
   ],
   "id": "fdcef638554c4fcb",
   "outputs": [],
   "execution_count": 21
  },
  {
   "cell_type": "code",
   "metadata": {
    "editable": true,
    "execution": {
     "iopub.execute_input": "2024-07-08T12:08:41.955129Z",
     "iopub.status.busy": "2024-07-08T12:08:41.954772Z",
     "iopub.status.idle": "2024-07-08T12:08:41.960983Z",
     "shell.execute_reply": "2024-07-08T12:08:41.960013Z",
     "shell.execute_reply.started": "2024-07-08T12:08:41.955106Z"
    },
    "slideshow": {
     "slide_type": "fragment"
    },
    "tags": [],
    "ExecuteTime": {
     "end_time": "2025-08-25T16:04:27.967664Z",
     "start_time": "2025-08-25T16:04:27.966218Z"
    }
   },
   "source": [
    "for holiday in scl.get_holidays():\n",
    "    print(holiday)"
   ],
   "id": "dd43ae93542d3780",
   "outputs": [],
   "execution_count": 22
  },
  {
   "cell_type": "markdown",
   "metadata": {
    "editable": true,
    "slideshow": {
     "slide_type": "slide"
    },
    "tags": []
   },
   "source": [
    "### Método `add_holiday`"
   ],
   "id": "61957f6e098d720d"
  },
  {
   "cell_type": "markdown",
   "metadata": {
    "editable": true,
    "slideshow": {
     "slide_type": "fragment"
    },
    "tags": []
   },
   "source": [
    "Agrega una fecha a la lista."
   ],
   "id": "59c609bc3c414f35"
  },
  {
   "cell_type": "code",
   "metadata": {
    "editable": true,
    "execution": {
     "iopub.execute_input": "2024-07-08T12:08:42.895096Z",
     "iopub.status.busy": "2024-07-08T12:08:42.894840Z",
     "iopub.status.idle": "2024-07-08T12:08:42.898809Z",
     "shell.execute_reply": "2024-07-08T12:08:42.897877Z",
     "shell.execute_reply.started": "2024-07-08T12:08:42.895077Z"
    },
    "slideshow": {
     "slide_type": "fragment"
    },
    "tags": [],
    "ExecuteTime": {
     "end_time": "2025-08-25T16:04:27.978503Z",
     "start_time": "2025-08-25T16:04:27.976913Z"
    }
   },
   "source": [
    "scl.add_holiday(qcf.QCDate(18, 9, 2024))"
   ],
   "id": "2ca0261fb75074c9",
   "outputs": [],
   "execution_count": 23
  },
  {
   "cell_type": "code",
   "metadata": {
    "editable": true,
    "execution": {
     "iopub.execute_input": "2024-07-08T12:08:43.253666Z",
     "iopub.status.busy": "2024-07-08T12:08:43.253417Z",
     "iopub.status.idle": "2024-07-08T12:08:43.258152Z",
     "shell.execute_reply": "2024-07-08T12:08:43.257172Z",
     "shell.execute_reply.started": "2024-07-08T12:08:43.253645Z"
    },
    "slideshow": {
     "slide_type": "fragment"
    },
    "tags": [],
    "ExecuteTime": {
     "end_time": "2025-08-25T16:04:27.987723Z",
     "start_time": "2025-08-25T16:04:27.985905Z"
    }
   },
   "source": [
    "for holiday in scl.get_holidays():\n",
    "    print(holiday)"
   ],
   "id": "a892cf07b2fd36dd",
   "outputs": [
    {
     "name": "stdout",
     "output_type": "stream",
     "text": [
      "2024-09-18\n"
     ]
    }
   ],
   "execution_count": 24
  },
  {
   "cell_type": "markdown",
   "metadata": {
    "editable": true,
    "slideshow": {
     "slide_type": "slide"
    },
    "tags": []
   },
   "source": [
    "### Método `next_busy_day`"
   ],
   "id": "bea30021268d327e"
  },
  {
   "cell_type": "markdown",
   "metadata": {
    "editable": true,
    "slideshow": {
     "slide_type": "fragment"
    },
    "tags": []
   },
   "source": [
    "Dada una fecha, si ésta es hábil retorna la misma fecha, si, por el contrario, la fecha es inhábil, devuelve la siguiente fecha hábil del calendario."
   ],
   "id": "e36ed773ec6ef6ba"
  },
  {
   "cell_type": "markdown",
   "metadata": {
    "editable": true,
    "slideshow": {
     "slide_type": "slide"
    },
    "tags": []
   },
   "source": [
    "Veamos qué ocurre si aplicamos este método al 18-09-2024, fecha que acabamos de incluir."
   ],
   "id": "4e68ed9c4a6813fc"
  },
  {
   "cell_type": "code",
   "metadata": {
    "editable": true,
    "execution": {
     "iopub.execute_input": "2024-07-08T12:08:44.537536Z",
     "iopub.status.busy": "2024-07-08T12:08:44.537103Z",
     "iopub.status.idle": "2024-07-08T12:08:44.541670Z",
     "shell.execute_reply": "2024-07-08T12:08:44.540683Z",
     "shell.execute_reply.started": "2024-07-08T12:08:44.537510Z"
    },
    "slideshow": {
     "slide_type": "fragment"
    },
    "tags": [],
    "ExecuteTime": {
     "end_time": "2025-08-25T16:04:28.007704Z",
     "start_time": "2025-08-25T16:04:28.005868Z"
    }
   },
   "source": [
    "print(f\"Next para el {(sept18 := qcf.QCDate(18, 9, 2024))}: {scl.next_busy_day(sept18)}\")"
   ],
   "id": "f4ef9871645cc78f",
   "outputs": [
    {
     "name": "stdout",
     "output_type": "stream",
     "text": [
      "Next para el 2024-09-18: 2024-09-19\n"
     ]
    }
   ],
   "execution_count": 25
  },
  {
   "cell_type": "markdown",
   "metadata": {
    "editable": true,
    "slideshow": {
     "slide_type": "fragment"
    },
    "tags": []
   },
   "source": [
    "Agregamos ahora el 19-09-2024 y vemos el nuevo resultado."
   ],
   "id": "501a6a8bdef6474f"
  },
  {
   "cell_type": "code",
   "metadata": {
    "editable": true,
    "execution": {
     "iopub.execute_input": "2024-07-08T12:08:45.000964Z",
     "iopub.status.busy": "2024-07-08T12:08:45.000640Z",
     "iopub.status.idle": "2024-07-08T12:08:45.006175Z",
     "shell.execute_reply": "2024-07-08T12:08:45.005217Z",
     "shell.execute_reply.started": "2024-07-08T12:08:45.000939Z"
    },
    "slideshow": {
     "slide_type": "fragment"
    },
    "tags": [],
    "ExecuteTime": {
     "end_time": "2025-08-25T16:04:28.023628Z",
     "start_time": "2025-08-25T16:04:28.021780Z"
    }
   },
   "source": [
    "print(\"Se agrega el 19-9-2024 a la lista\")\n",
    "scl.add_holiday(qcf.QCDate(19, 9, 2024))\n",
    "next = scl.next_busy_day(qcf.QCDate(18, 9, 2024))\n",
    "print(f\"Nuevo next para el {sept18}: {next.week_day()}, {next}\")"
   ],
   "id": "c7fd950c4a8b76d0",
   "outputs": [
    {
     "name": "stdout",
     "output_type": "stream",
     "text": [
      "Se agrega el 19-9-2024 a la lista\n",
      "Nuevo next para el 2024-09-18: WeekDay.FRI, 2024-09-20\n"
     ]
    }
   ],
   "execution_count": 26
  },
  {
   "cell_type": "markdown",
   "metadata": {
    "editable": true,
    "slideshow": {
     "slide_type": "slide"
    },
    "tags": []
   },
   "source": [
    "Pero el 2024, el 20 de septiembre también es feriado. Incluyámoslo y veamos el efecto."
   ],
   "id": "704c21bfb95144e1"
  },
  {
   "cell_type": "code",
   "metadata": {
    "editable": true,
    "execution": {
     "iopub.execute_input": "2024-07-08T12:08:45.654158Z",
     "iopub.status.busy": "2024-07-08T12:08:45.653898Z",
     "iopub.status.idle": "2024-07-08T12:08:45.658955Z",
     "shell.execute_reply": "2024-07-08T12:08:45.658217Z",
     "shell.execute_reply.started": "2024-07-08T12:08:45.654126Z"
    },
    "slideshow": {
     "slide_type": "fragment"
    },
    "tags": [],
    "ExecuteTime": {
     "end_time": "2025-08-25T16:04:28.057508Z",
     "start_time": "2025-08-25T16:04:28.055011Z"
    }
   },
   "source": [
    "print(\"Se agrega el 20-9-2024 a la lista\")\n",
    "scl.add_holiday(qcf.QCDate(20, 9, 2024))\n",
    "next = scl.next_busy_day(qcf.QCDate(18, 9, 2024))\n",
    "print(f\"Nuevo next para el {sept18}: {next.week_day()}, {next}\")"
   ],
   "id": "3871067a2d2b7a7a",
   "outputs": [
    {
     "name": "stdout",
     "output_type": "stream",
     "text": [
      "Se agrega el 20-9-2024 a la lista\n",
      "Nuevo next para el 2024-09-18: WeekDay.MON, 2024-09-23\n"
     ]
    }
   ],
   "execution_count": 27
  },
  {
   "cell_type": "markdown",
   "metadata": {
    "editable": true,
    "slideshow": {
     "slide_type": "slide"
    },
    "tags": []
   },
   "source": [
    "### Método `mod_next_busy_day`"
   ],
   "id": "8af2f9894aeeb294"
  },
  {
   "cell_type": "markdown",
   "metadata": {
    "editable": true,
    "slideshow": {
     "slide_type": "fragment"
    },
    "tags": []
   },
   "source": [
    "Opera igual que la función anterior a menos que ésta retorne una fecha del mes siguiente, en ese caso retorna la fecha hábil anterior."
   ],
   "id": "5a0347636a113598"
  },
  {
   "cell_type": "markdown",
   "metadata": {
    "editable": true,
    "slideshow": {
     "slide_type": "slide"
    },
    "tags": []
   },
   "source": [
    "Probemos el comportamiento usando el 30-04-2024."
   ],
   "id": "28ef9a7fc22e6122"
  },
  {
   "cell_type": "code",
   "metadata": {
    "editable": true,
    "execution": {
     "iopub.execute_input": "2024-07-08T12:08:46.849951Z",
     "iopub.status.busy": "2024-07-08T12:08:46.849714Z",
     "iopub.status.idle": "2024-07-08T12:08:46.853830Z",
     "shell.execute_reply": "2024-07-08T12:08:46.853032Z",
     "shell.execute_reply.started": "2024-07-08T12:08:46.849934Z"
    },
    "slideshow": {
     "slide_type": "fragment"
    },
    "tags": [],
    "ExecuteTime": {
     "end_time": "2025-08-25T16:04:28.079730Z",
     "start_time": "2025-08-25T16:04:28.078061Z"
    }
   },
   "source": [
    "abril30 = qcf.QCDate(30, 4, 2024)\n",
    "print(f\"Abril 30: {abril30.week_day()}, {abril30}\")"
   ],
   "id": "74078e88032ad5b5",
   "outputs": [
    {
     "name": "stdout",
     "output_type": "stream",
     "text": [
      "Abril 30: WeekDay.TUE, 2024-04-30\n"
     ]
    }
   ],
   "execution_count": 28
  },
  {
   "cell_type": "markdown",
   "metadata": {
    "editable": true,
    "slideshow": {
     "slide_type": "fragment"
    },
    "tags": []
   },
   "source": [
    "Vemos que es un martes y no es feriado, por lo tanto al aplicar `next_busy_day` no hay cambio de fecha:"
   ],
   "id": "e7df1679f47b9b30"
  },
  {
   "cell_type": "code",
   "metadata": {
    "editable": true,
    "execution": {
     "iopub.execute_input": "2024-07-08T12:08:47.565283Z",
     "iopub.status.busy": "2024-07-08T12:08:47.565024Z",
     "iopub.status.idle": "2024-07-08T12:08:47.568697Z",
     "shell.execute_reply": "2024-07-08T12:08:47.567914Z",
     "shell.execute_reply.started": "2024-07-08T12:08:47.565260Z"
    },
    "slideshow": {
     "slide_type": "fragment"
    },
    "tags": [],
    "ExecuteTime": {
     "end_time": "2025-08-25T16:04:28.102569Z",
     "start_time": "2025-08-25T16:04:28.101003Z"
    }
   },
   "source": [
    "print(f\"Next para el {abril30}: {scl.next_busy_day(abril30)}\")"
   ],
   "id": "f1f0d345aa5f3c31",
   "outputs": [
    {
     "name": "stdout",
     "output_type": "stream",
     "text": [
      "Next para el 2024-04-30: 2024-04-30\n"
     ]
    }
   ],
   "execution_count": 29
  },
  {
   "cell_type": "markdown",
   "metadata": {
    "editable": true,
    "slideshow": {
     "slide_type": "slide"
    },
    "tags": []
   },
   "source": [
    "Ahora, si lo agregamos al calendario, sí se produce el cambio de fecha."
   ],
   "id": "cbcefd7639aedbe1"
  },
  {
   "cell_type": "code",
   "metadata": {
    "editable": true,
    "execution": {
     "iopub.execute_input": "2024-07-08T12:08:48.042446Z",
     "iopub.status.busy": "2024-07-08T12:08:48.042180Z",
     "iopub.status.idle": "2024-07-08T12:08:48.046389Z",
     "shell.execute_reply": "2024-07-08T12:08:48.045488Z",
     "shell.execute_reply.started": "2024-07-08T12:08:48.042425Z"
    },
    "slideshow": {
     "slide_type": "fragment"
    },
    "tags": [],
    "ExecuteTime": {
     "end_time": "2025-08-25T16:04:28.136724Z",
     "start_time": "2025-08-25T16:04:28.134885Z"
    }
   },
   "source": [
    "scl.add_holiday(abril30)\n",
    "print(f\"Next para el {abril30}: {scl.next_busy_day(abril30)}\")"
   ],
   "id": "8e941566392fdc02",
   "outputs": [
    {
     "name": "stdout",
     "output_type": "stream",
     "text": [
      "Next para el 2024-04-30: 2024-05-01\n"
     ]
    }
   ],
   "execution_count": 30
  },
  {
   "cell_type": "markdown",
   "metadata": {
    "editable": true,
    "slideshow": {
     "slide_type": "fragment"
    },
    "tags": []
   },
   "source": [
    "Y vemos además que nos cambiamos de mes, pero si aplicamos `mod_next_busy_day` vemos que el resultado es el día hábil anterior."
   ],
   "id": "a2fe1f81909103a4"
  },
  {
   "cell_type": "code",
   "metadata": {
    "editable": true,
    "execution": {
     "iopub.execute_input": "2024-07-08T12:08:48.783473Z",
     "iopub.status.busy": "2024-07-08T12:08:48.783196Z",
     "iopub.status.idle": "2024-07-08T12:08:48.787371Z",
     "shell.execute_reply": "2024-07-08T12:08:48.786494Z",
     "shell.execute_reply.started": "2024-07-08T12:08:48.783448Z"
    },
    "slideshow": {
     "slide_type": "fragment"
    },
    "tags": [],
    "ExecuteTime": {
     "end_time": "2025-08-25T16:04:28.154995Z",
     "start_time": "2025-08-25T16:04:28.153555Z"
    }
   },
   "source": [
    "print(f\"Mod next para el {abril30}: {scl.mod_next_busy_day(abril30)}\")"
   ],
   "id": "ae553c688b53eb28",
   "outputs": [
    {
     "name": "stdout",
     "output_type": "stream",
     "text": [
      "Mod next para el 2024-04-30: 2024-04-29\n"
     ]
    }
   ],
   "execution_count": 31
  },
  {
   "cell_type": "markdown",
   "metadata": {
    "editable": true,
    "slideshow": {
     "slide_type": "slide"
    },
    "tags": []
   },
   "source": [
    "### Método `prev_busy_day`"
   ],
   "id": "cf2331827abe525d"
  },
  {
   "cell_type": "markdown",
   "metadata": {
    "editable": true,
    "slideshow": {
     "slide_type": "fragment"
    },
    "tags": []
   },
   "source": [
    "Opera de forma análoga a `busy_day`, pero retornando la fecha hábil anterior."
   ],
   "id": "628efda503f93117"
  },
  {
   "cell_type": "code",
   "metadata": {
    "editable": true,
    "execution": {
     "iopub.execute_input": "2024-07-08T12:08:50.235308Z",
     "iopub.status.busy": "2024-07-08T12:08:50.235046Z",
     "iopub.status.idle": "2024-07-08T12:08:50.238953Z",
     "shell.execute_reply": "2024-07-08T12:08:50.238009Z",
     "shell.execute_reply.started": "2024-07-08T12:08:50.235288Z"
    },
    "slideshow": {
     "slide_type": "fragment"
    },
    "tags": [],
    "ExecuteTime": {
     "end_time": "2025-08-25T16:04:28.176104Z",
     "start_time": "2025-08-25T16:04:28.174615Z"
    }
   },
   "source": [
    "print(\"prev:\", scl.prev_busy_day(abril30))"
   ],
   "id": "7654f8f7728ad270",
   "outputs": [
    {
     "name": "stdout",
     "output_type": "stream",
     "text": [
      "prev: 2024-04-29\n"
     ]
    }
   ],
   "execution_count": 32
  },
  {
   "cell_type": "markdown",
   "metadata": {
    "editable": true,
    "slideshow": {
     "slide_type": "slide"
    },
    "tags": []
   },
   "source": [
    "### Método `shift`"
   ],
   "id": "192fe85f124948d6"
  },
  {
   "cell_type": "markdown",
   "metadata": {
    "editable": true,
    "slideshow": {
     "slide_type": "fragment"
    },
    "tags": []
   },
   "source": [
    "Suma un número *n* (positivo o negativo) de días hábiles a una fecha."
   ],
   "id": "c7bf74788bc8c1a3"
  },
  {
   "cell_type": "markdown",
   "metadata": {
    "editable": true,
    "slideshow": {
     "slide_type": "slide"
    },
    "tags": []
   },
   "source": [
    "Veamos algunos ejemplos."
   ],
   "id": "d8035025cec06cd0"
  },
  {
   "cell_type": "code",
   "metadata": {
    "editable": true,
    "execution": {
     "iopub.execute_input": "2024-07-08T12:08:51.576270Z",
     "iopub.status.busy": "2024-07-08T12:08:51.576005Z",
     "iopub.status.idle": "2024-07-08T12:08:51.581030Z",
     "shell.execute_reply": "2024-07-08T12:08:51.580169Z",
     "shell.execute_reply.started": "2024-07-08T12:08:51.576247Z"
    },
    "slideshow": {
     "slide_type": "fragment"
    },
    "tags": [],
    "ExecuteTime": {
     "end_time": "2025-08-25T16:04:28.208038Z",
     "start_time": "2025-08-25T16:04:28.205736Z"
    }
   },
   "source": [
    "print(f\"Fecha inicial: {abril30}\")\n",
    "shifted = scl.shift(abril30, 0)\n",
    "print(f\"n = 0, {shifted.week_day()}, {shifted}\")\n",
    "\n",
    "shifted = scl.shift(abril30, 1)\n",
    "print(f\"n = 1, {shifted.week_day()}, {shifted}\")\n",
    "\n",
    "shifted = scl.shift(abril30, 5)\n",
    "print(f\"n = 5, {shifted.week_day()}, {shifted}\")"
   ],
   "id": "483ceeef4d34d450",
   "outputs": [
    {
     "name": "stdout",
     "output_type": "stream",
     "text": [
      "Fecha inicial: 2024-04-30\n",
      "n = 0, WeekDay.TUE, 2024-04-30\n",
      "n = 1, WeekDay.WED, 2024-05-01\n",
      "n = 5, WeekDay.TUE, 2024-05-07\n"
     ]
    }
   ],
   "execution_count": 33
  },
  {
   "cell_type": "markdown",
   "metadata": {
    "editable": true,
    "slideshow": {
     "slide_type": "slide"
    },
    "tags": []
   },
   "source": [
    "Veamos en particular qué ocurre cuando usamos un número negativo."
   ],
   "id": "fda738e37b7e2da0"
  },
  {
   "cell_type": "code",
   "metadata": {
    "editable": true,
    "execution": {
     "iopub.execute_input": "2024-07-08T12:08:52.778427Z",
     "iopub.status.busy": "2024-07-08T12:08:52.778146Z",
     "iopub.status.idle": "2024-07-08T12:08:52.782381Z",
     "shell.execute_reply": "2024-07-08T12:08:52.781476Z",
     "shell.execute_reply.started": "2024-07-08T12:08:52.778405Z"
    },
    "slideshow": {
     "slide_type": "fragment"
    },
    "tags": [],
    "ExecuteTime": {
     "end_time": "2025-08-25T16:04:28.226195Z",
     "start_time": "2025-08-25T16:04:28.224497Z"
    }
   },
   "source": [
    "mayo2 = qcf.QCDate(2, 5, 2024)\n",
    "print(f\"n = -1: {scl.shift(mayo2, -1)}\")"
   ],
   "id": "1df87f36d05bfaf0",
   "outputs": [
    {
     "name": "stdout",
     "output_type": "stream",
     "text": [
      "n = -1: 2024-05-01\n"
     ]
    }
   ],
   "execution_count": 34
  },
  {
   "cell_type": "markdown",
   "metadata": {
    "editable": true,
    "slideshow": {
     "slide_type": "fragment"
    },
    "tags": []
   },
   "source": [
    "Agreguemos el 2024-05-01 a los feriados de `scl` y veamos cómo cambia el primer resultado."
   ],
   "id": "1901885b31ed5014"
  },
  {
   "cell_type": "code",
   "metadata": {
    "editable": true,
    "execution": {
     "iopub.execute_input": "2024-07-08T12:08:53.735362Z",
     "iopub.status.busy": "2024-07-08T12:08:53.735054Z",
     "iopub.status.idle": "2024-07-08T12:08:53.740011Z",
     "shell.execute_reply": "2024-07-08T12:08:53.739104Z",
     "shell.execute_reply.started": "2024-07-08T12:08:53.735336Z"
    },
    "slideshow": {
     "slide_type": "fragment"
    },
    "tags": [],
    "ExecuteTime": {
     "end_time": "2025-08-25T16:04:28.256973Z",
     "start_time": "2025-08-25T16:04:28.254883Z"
    }
   },
   "source": [
    "scl.add_holiday(qcf.QCDate(1, 5, 2024))\n",
    "print(f\"n = -1: {scl.shift(mayo2, -1)}\")"
   ],
   "id": "ad1d9089249a96a6",
   "outputs": [
    {
     "name": "stdout",
     "output_type": "stream",
     "text": [
      "n = -1: 2024-04-29\n"
     ]
    }
   ],
   "execution_count": 35
  },
  {
   "cell_type": "markdown",
   "metadata": {
    "editable": true,
    "slideshow": {
     "slide_type": "fragment"
    },
    "tags": []
   },
   "source": [
    "Se va al 29 de abril porque también agregamos como feriado el 30 de abril."
   ],
   "id": "35218b81d6280abe"
  },
  {
   "cell_type": "markdown",
   "metadata": {
    "editable": true,
    "slideshow": {
     "slide_type": "slide"
    },
    "tags": []
   },
   "source": [
    "### Integración con `holidays`"
   ],
   "id": "fa14a4c256cdb746"
  },
  {
   "cell_type": "markdown",
   "metadata": {
    "editable": true,
    "slideshow": {
     "slide_type": "fragment"
    },
    "tags": []
   },
   "source": [
    "`holidays` es una muy buena librería en Python puro que provee los feriados de más de 100 países, ciudades y mercados. Cuando no se está conectado a una BBDD y se quiere dar de alta un calendario, integrar `holidays` con `qcf.BusinessCalendar` es una muy buena opción."
   ],
   "id": "2f513b0d7829695e"
  },
  {
   "cell_type": "markdown",
   "metadata": {
    "editable": true,
    "slideshow": {
     "slide_type": "slide"
    },
    "tags": []
   },
   "source": [
    "En el siguiente ejemplo, se construye el calendario de Santiago."
   ],
   "id": "ed5ef756a3aa6b2c"
  },
  {
   "cell_type": "code",
   "metadata": {
    "editable": true,
    "execution": {
     "iopub.execute_input": "2024-07-08T12:32:50.539912Z",
     "iopub.status.busy": "2024-07-08T12:32:50.539583Z",
     "iopub.status.idle": "2024-07-08T12:32:50.542997Z",
     "shell.execute_reply": "2024-07-08T12:32:50.542355Z",
     "shell.execute_reply.started": "2024-07-08T12:32:50.539890Z"
    },
    "slideshow": {
     "slide_type": "fragment"
    },
    "tags": [],
    "ExecuteTime": {
     "end_time": "2025-08-25T16:04:28.283010Z",
     "start_time": "2025-08-25T16:04:28.274614Z"
    }
   },
   "source": [
    "import holidays as hol"
   ],
   "id": "483e8ca923395ec5",
   "outputs": [],
   "execution_count": 36
  },
  {
   "cell_type": "code",
   "metadata": {
    "editable": true,
    "execution": {
     "iopub.execute_input": "2024-07-08T12:32:51.040554Z",
     "iopub.status.busy": "2024-07-08T12:32:51.040243Z",
     "iopub.status.idle": "2024-07-08T12:32:51.075096Z",
     "shell.execute_reply": "2024-07-08T12:32:51.074420Z",
     "shell.execute_reply.started": "2024-07-08T12:32:51.040528Z"
    },
    "slideshow": {
     "slide_type": "fragment"
    },
    "tags": [],
    "ExecuteTime": {
     "end_time": "2025-08-25T16:04:28.360197Z",
     "start_time": "2025-08-25T16:04:28.301742Z"
    }
   },
   "source": [
    "scl = us_holidays = hol.CL(years=range(2024, 2045))"
   ],
   "id": "f1ba0434a833b6c3",
   "outputs": [],
   "execution_count": 37
  },
  {
   "cell_type": "markdown",
   "metadata": {
    "editable": true,
    "slideshow": {
     "slide_type": "slide"
    },
    "tags": []
   },
   "source": [
    "Vemos que `scl` es un objeto similar a un Python `dict`."
   ],
   "id": "1157421a70a25be"
  },
  {
   "cell_type": "code",
   "metadata": {
    "editable": true,
    "execution": {
     "iopub.execute_input": "2024-07-08T12:32:51.520390Z",
     "iopub.status.busy": "2024-07-08T12:32:51.520060Z",
     "iopub.status.idle": "2024-07-08T12:32:51.524429Z",
     "shell.execute_reply": "2024-07-08T12:32:51.523631Z",
     "shell.execute_reply.started": "2024-07-08T12:32:51.520363Z"
    },
    "slideshow": {
     "slide_type": "fragment"
    },
    "tags": [],
    "ExecuteTime": {
     "end_time": "2025-08-25T16:04:28.370058Z",
     "start_time": "2025-08-25T16:04:28.368168Z"
    }
   },
   "source": [
    "for i, d in enumerate(scl.items()):\n",
    "    if i < 10:\n",
    "        print(d[0], d[1])"
   ],
   "id": "305dc7769cc76880",
   "outputs": [
    {
     "name": "stdout",
     "output_type": "stream",
     "text": [
      "2024-01-01 New Year's Day\n",
      "2024-03-29 Good Friday\n",
      "2024-03-30 Holy Saturday\n",
      "2024-05-01 Labor Day\n",
      "2024-05-21 Navy Day\n",
      "2024-06-20 National Day of Indigenous Peoples\n",
      "2024-06-29 Saint Peter and Saint Paul's Day\n",
      "2024-07-16 Our Lady of Mount Carmel\n",
      "2024-08-15 Assumption Day\n",
      "2024-09-18 Independence Day\n"
     ]
    }
   ],
   "execution_count": 38
  },
  {
   "cell_type": "markdown",
   "metadata": {
    "editable": true,
    "slideshow": {
     "slide_type": "slide"
    },
    "tags": []
   },
   "source": [
    "Damos de alta un objeto de tipo `qcf.BusinessCalendar`."
   ],
   "id": "69d649a45cd80067"
  },
  {
   "cell_type": "code",
   "metadata": {
    "editable": true,
    "execution": {
     "iopub.execute_input": "2024-07-08T12:32:52.295209Z",
     "iopub.status.busy": "2024-07-08T12:32:52.294791Z",
     "iopub.status.idle": "2024-07-08T12:32:52.298141Z",
     "shell.execute_reply": "2024-07-08T12:32:52.297459Z",
     "shell.execute_reply.started": "2024-07-08T12:32:52.295187Z"
    },
    "slideshow": {
     "slide_type": "fragment"
    },
    "tags": [],
    "ExecuteTime": {
     "end_time": "2025-08-25T16:04:28.381820Z",
     "start_time": "2025-08-25T16:04:28.380418Z"
    }
   },
   "source": [
    "qcf_scl = qcf.BusinessCalendar(qcf.QCDate(1, 2, 2024), 20)"
   ],
   "id": "116cd27c29937adc",
   "outputs": [],
   "execution_count": 39
  },
  {
   "cell_type": "markdown",
   "metadata": {
    "editable": true,
    "slideshow": {
     "slide_type": "fragment"
    },
    "tags": []
   },
   "source": [
    "Y luego lo poblamos con las fechas de `scl`."
   ],
   "id": "32130682d5e2095f"
  },
  {
   "cell_type": "code",
   "metadata": {
    "editable": true,
    "execution": {
     "iopub.execute_input": "2024-07-08T12:32:52.742583Z",
     "iopub.status.busy": "2024-07-08T12:32:52.742304Z",
     "iopub.status.idle": "2024-07-08T12:32:52.746990Z",
     "shell.execute_reply": "2024-07-08T12:32:52.746291Z",
     "shell.execute_reply.started": "2024-07-08T12:32:52.742561Z"
    },
    "slideshow": {
     "slide_type": "fragment"
    },
    "tags": [],
    "ExecuteTime": {
     "end_time": "2025-08-25T16:04:28.407466Z",
     "start_time": "2025-08-25T16:04:28.405600Z"
    }
   },
   "source": [
    "for d in scl.keys():\n",
    "    qcf_scl.add_holiday(qcf.QCDate(d.isoformat()))"
   ],
   "id": "66368026ce306425",
   "outputs": [],
   "execution_count": 40
  },
  {
   "cell_type": "markdown",
   "metadata": {
    "editable": true,
    "slideshow": {
     "slide_type": "slide"
    },
    "tags": []
   },
   "source": [
    "Este procedimiento puede encapsularse fácilmente en una función, de hecho, la agregaremos al módulo `aux_functions` para seguir utilizándola más adelante."
   ],
   "id": "2b7e071123123501"
  },
  {
   "cell_type": "code",
   "metadata": {
    "editable": true,
    "execution": {
     "iopub.execute_input": "2024-07-08T16:42:38.558483Z",
     "iopub.status.busy": "2024-07-08T16:42:38.557895Z",
     "iopub.status.idle": "2024-07-08T16:42:38.568700Z",
     "shell.execute_reply": "2024-07-08T16:42:38.567980Z",
     "shell.execute_reply.started": "2024-07-08T16:42:38.558411Z"
    },
    "slideshow": {
     "slide_type": "fragment"
    },
    "tags": [],
    "ExecuteTime": {
     "end_time": "2025-08-25T16:04:28.433679Z",
     "start_time": "2025-08-25T16:04:28.431792Z"
    }
   },
   "source": [
    "def get_business_calendar(which_holidays: str, years: range) -> qcf.BusinessCalendar:\n",
    "    py_cal = hol.country_holidays(which_holidays, years=years)\n",
    "    yrs = [y for y in years]\n",
    "    qcf_cal = qcf.BusinessCalendar(qcf.QCDate(1, 1, yrs[0]), yrs[-1] - yrs[0])\n",
    "    for d in py_cal.keys():\n",
    "        qcf_cal.add_holiday(qcf.QCDate(d.isoformat()))\n",
    "    return qcf_cal"
   ],
   "id": "c243220b229ffb89",
   "outputs": [],
   "execution_count": 41
  },
  {
   "cell_type": "markdown",
   "metadata": {
    "editable": true,
    "slideshow": {
     "slide_type": "slide"
    },
    "tags": []
   },
   "source": [
    "Ejemplo:"
   ],
   "id": "da9b7803c53078e2"
  },
  {
   "cell_type": "code",
   "metadata": {
    "editable": true,
    "execution": {
     "iopub.execute_input": "2024-07-08T16:42:39.648640Z",
     "iopub.status.busy": "2024-07-08T16:42:39.647916Z",
     "iopub.status.idle": "2024-07-08T16:42:39.663356Z",
     "shell.execute_reply": "2024-07-08T16:42:39.662504Z",
     "shell.execute_reply.started": "2024-07-08T16:42:39.648611Z"
    },
    "slideshow": {
     "slide_type": "fragment"
    },
    "tags": [],
    "ExecuteTime": {
     "end_time": "2025-08-25T16:04:28.453490Z",
     "start_time": "2025-08-25T16:04:28.446309Z"
    }
   },
   "source": [
    "ny = get_business_calendar('US', range(2024, 2045))"
   ],
   "id": "7609d76a5de04ced",
   "outputs": [],
   "execution_count": 42
  },
  {
   "cell_type": "code",
   "metadata": {
    "editable": true,
    "execution": {
     "iopub.execute_input": "2024-07-08T16:42:40.139354Z",
     "iopub.status.busy": "2024-07-08T16:42:40.139047Z",
     "iopub.status.idle": "2024-07-08T16:42:40.147521Z",
     "shell.execute_reply": "2024-07-08T16:42:40.146734Z",
     "shell.execute_reply.started": "2024-07-08T16:42:40.139329Z"
    },
    "slideshow": {
     "slide_type": "fragment"
    },
    "tags": [],
    "ExecuteTime": {
     "end_time": "2025-08-25T16:04:28.464661Z",
     "start_time": "2025-08-25T16:04:28.462740Z"
    }
   },
   "source": [
    "for i, d in enumerate(ny.get_holidays()):\n",
    "    if i < 10:\n",
    "        print(d)"
   ],
   "id": "16ef6e21d0b98c4f",
   "outputs": [
    {
     "name": "stdout",
     "output_type": "stream",
     "text": [
      "2024-01-01\n",
      "2024-01-15\n",
      "2024-02-19\n",
      "2024-05-27\n",
      "2024-06-19\n",
      "2024-07-04\n",
      "2024-09-02\n",
      "2024-10-14\n",
      "2024-11-11\n",
      "2024-11-28\n"
     ]
    }
   ],
   "execution_count": 43
  },
  {
   "cell_type": "markdown",
   "metadata": {
    "editable": true,
    "heading_collapsed": true,
    "slideshow": {
     "slide_type": "slide"
    },
    "tags": []
   },
   "source": [
    "## Fracciones de Año"
   ],
   "id": "6b64b684f2bb9697"
  },
  {
   "cell_type": "markdown",
   "metadata": {
    "editable": true,
    "slideshow": {
     "slide_type": "fragment"
    },
    "tags": []
   },
   "source": [
    "Las fracciones de año corresponden a las distintas formas de medir un intervalo de tiempo entre dos fechas que comúnmente se utiliza en los productos de tasa de interés."
   ],
   "id": "3eb6676186ac3032"
  },
  {
   "cell_type": "markdown",
   "metadata": {
    "editable": true,
    "slideshow": {
     "slide_type": "slide"
    },
    "tags": []
   },
   "source": [
    "En `qcfinancial` están definidas las más utilizadas."
   ],
   "id": "d789d9d4259fc943"
  },
  {
   "cell_type": "code",
   "metadata": {
    "editable": true,
    "execution": {
     "iopub.execute_input": "2024-07-08T16:42:46.266592Z",
     "iopub.status.busy": "2024-07-08T16:42:46.265903Z",
     "iopub.status.idle": "2024-07-08T16:42:46.275243Z",
     "shell.execute_reply": "2024-07-08T16:42:46.274468Z",
     "shell.execute_reply.started": "2024-07-08T16:42:46.266564Z"
    },
    "hidden": true,
    "slideshow": {
     "slide_type": "fragment"
    },
    "tags": [],
    "ExecuteTime": {
     "end_time": "2025-08-25T16:04:28.475959Z",
     "start_time": "2025-08-25T16:04:28.474301Z"
    }
   },
   "source": [
    "yfs = [\n",
    "    act360 := qcf.QCAct360(),\n",
    "    act365 := qcf.QCAct365(),\n",
    "    act30 := qcf.QCAct30(),\n",
    "    t30360 := qcf.QC30360(),\n",
    "    t3030 := qcf.QC3030(),\n",
    "    \n",
    "    # Corresponde a depósitos a plazo en CLP\n",
    "    act30 := qcf.QCAct30(),\n",
    "\n",
    "    # La utilizan los bonos del tesoro americano\n",
    "    actact := qcf.QCActAct(),\n",
    "]"
   ],
   "id": "4269cec34398f9d5",
   "outputs": [],
   "execution_count": 44
  },
  {
   "cell_type": "markdown",
   "metadata": {
    "editable": true,
    "slideshow": {
     "slide_type": "slide"
    },
    "tags": []
   },
   "source": [
    "### Métodos `yf` y `count_days`"
   ],
   "id": "ba0c8e92ce1f7bac"
  },
  {
   "cell_type": "markdown",
   "metadata": {
    "editable": true,
    "slideshow": {
     "slide_type": "slide"
    },
    "tags": []
   },
   "source": [
    "El método `yf`, que retorna el valor de la fracción de año, está sobrecargado, se puede calcular usando como argumentos un número de días o un par de fechas (`QCDate`)."
   ],
   "id": "1a99e3eef4e560d3"
  },
  {
   "cell_type": "code",
   "metadata": {
    "editable": true,
    "execution": {
     "iopub.execute_input": "2024-07-08T16:42:46.277165Z",
     "iopub.status.busy": "2024-07-08T16:42:46.276913Z",
     "iopub.status.idle": "2024-07-08T16:42:46.283630Z",
     "shell.execute_reply": "2024-07-08T16:42:46.283033Z",
     "shell.execute_reply.started": "2024-07-08T16:42:46.277142Z"
    },
    "hidden": true,
    "slideshow": {
     "slide_type": "slide"
    },
    "tags": [],
    "ExecuteTime": {
     "end_time": "2025-08-25T16:04:28.502305Z",
     "start_time": "2025-08-25T16:04:28.493664Z"
    }
   },
   "source": [
    "print(f\"\\nfecha1: {fecha1} y fecha3: {fecha3}\")\n",
    "print(\"---------------------------------------\\n\")\n",
    "for yf in yfs:\n",
    "    print(type(yf))\n",
    "    print(f\"yf(30): {yf.yf(30):.6f}\")\n",
    "    print(f\"yf.yf(fecha1, fecha3): {yf.yf(fecha1, fecha3):.6f}\")\n",
    "    print(f\"yf.yf.count_days(fecha1, fecha3): {yf.count_days(fecha1, fecha3):.0f}\")\n",
    "    print()"
   ],
   "id": "415f80fe7de1111b",
   "outputs": [
    {
     "name": "stdout",
     "output_type": "stream",
     "text": [
      "\n",
      "fecha1: 2024-10-17 y fecha3: 2024-11-16\n",
      "---------------------------------------\n",
      "\n",
      "<class 'qcfinancial.QCAct360'>\n",
      "yf(30): 0.083333\n",
      "yf.yf(fecha1, fecha3): 0.083333\n",
      "yf.yf.count_days(fecha1, fecha3): 30\n",
      "\n",
      "<class 'qcfinancial.QCAct365'>\n",
      "yf(30): 0.082192\n",
      "yf.yf(fecha1, fecha3): 0.082192\n",
      "yf.yf.count_days(fecha1, fecha3): 30\n",
      "\n",
      "<class 'qcfinancial.QCAct30'>\n",
      "yf(30): 1.000000\n",
      "yf.yf(fecha1, fecha3): 1.000000\n",
      "yf.yf.count_days(fecha1, fecha3): 30\n",
      "\n",
      "<class 'qcfinancial.QC30360'>\n",
      "yf(30): 0.083333\n",
      "yf.yf(fecha1, fecha3): 0.080556\n",
      "yf.yf.count_days(fecha1, fecha3): 29\n",
      "\n",
      "<class 'qcfinancial.QC3030'>\n",
      "yf(30): 1.000000\n",
      "yf.yf(fecha1, fecha3): 0.966667\n",
      "yf.yf.count_days(fecha1, fecha3): 29\n",
      "\n",
      "<class 'qcfinancial.QCAct30'>\n",
      "yf(30): 1.000000\n",
      "yf.yf(fecha1, fecha3): 1.000000\n",
      "yf.yf.count_days(fecha1, fecha3): 30\n",
      "\n",
      "<class 'qcfinancial.QCActAct'>\n",
      "yf(30): 0.082192\n",
      "yf.yf(fecha1, fecha3): 0.082192\n",
      "yf.yf.count_days(fecha1, fecha3): 30\n",
      "\n"
     ]
    }
   ],
   "execution_count": 45
  },
  {
   "cell_type": "markdown",
   "metadata": {
    "editable": true,
    "heading_collapsed": true,
    "slideshow": {
     "slide_type": "slide"
    },
    "tags": []
   },
   "source": [
    "## Funciones y Factores de Capitalización"
   ],
   "id": "1429042f370cda38"
  },
  {
   "cell_type": "markdown",
   "metadata": {
    "editable": true,
    "slideshow": {
     "slide_type": "fragment"
    },
    "tags": []
   },
   "source": [
    "Las funciones de capitalización representan las distintas formas en que se puede usar el valor de una tasa de interés para calcular o traer a valor presente un flujo de caja futuro. Al resultado de la función de capitalización lo llamamos *factor de capitalización*."
   ],
   "id": "bfe63c7443111685"
  },
  {
   "cell_type": "markdown",
   "metadata": {
    "editable": true,
    "slideshow": {
     "slide_type": "slide"
    },
    "tags": []
   },
   "source": [
    "Están disponibles los siguientes 3 tipos de funciones (donde $yf$ es la fracción de año asociada a la tasa de valor $r$):\n",
    "\n",
    "- QCLinearWf:     $\\rightarrow 1 + r \\cdot yf$\n",
    "\n",
    "- QCCompoundWf:    $\\rightarrow \\left(1 + r \\right)^{yf}$\n",
    "\n",
    "- QCContinousWf:  $\\rightarrow exp(r \\cdot yf)$"
   ],
   "id": "1fb38679f8a3ab20"
  },
  {
   "cell_type": "code",
   "metadata": {
    "editable": true,
    "execution": {
     "iopub.execute_input": "2024-07-08T16:42:46.284871Z",
     "iopub.status.busy": "2024-07-08T16:42:46.284594Z",
     "iopub.status.idle": "2024-07-08T16:42:46.288685Z",
     "shell.execute_reply": "2024-07-08T16:42:46.287969Z",
     "shell.execute_reply.started": "2024-07-08T16:42:46.284852Z"
    },
    "hidden": true,
    "slideshow": {
     "slide_type": "fragment"
    },
    "tags": [],
    "ExecuteTime": {
     "end_time": "2025-08-25T16:04:28.514582Z",
     "start_time": "2025-08-25T16:04:28.513076Z"
    }
   },
   "source": [
    "wfs = [\n",
    "    lin_wf:=qcf.QCLinearWf(),\n",
    "    com_wf:=qcf.QCCompoundWf(),\n",
    "    exp_wf:=qcf.QCContinousWf(),\n",
    "]"
   ],
   "id": "f4da3bf23d1c67",
   "outputs": [],
   "execution_count": 46
  },
  {
   "cell_type": "markdown",
   "metadata": {
    "editable": true,
    "slideshow": {
     "slide_type": "slide"
    },
    "tags": []
   },
   "source": [
    "### Método `wf`"
   ],
   "id": "3e4b26cb995020d"
  },
  {
   "cell_type": "markdown",
   "metadata": {
    "editable": true,
    "slideshow": {
     "slide_type": "slide"
    },
    "tags": []
   },
   "source": [
    "Este método permite calcular el factor de capitalización a partir del valor de una tasa y el valor de una fracción de año."
   ],
   "id": "8d44c9b06ac3f5a5"
  },
  {
   "cell_type": "code",
   "metadata": {
    "editable": true,
    "execution": {
     "iopub.execute_input": "2024-07-08T16:42:46.291016Z",
     "iopub.status.busy": "2024-07-08T16:42:46.290738Z",
     "iopub.status.idle": "2024-07-08T16:42:46.295963Z",
     "shell.execute_reply": "2024-07-08T16:42:46.295112Z",
     "shell.execute_reply.started": "2024-07-08T16:42:46.290994Z"
    },
    "slideshow": {
     "slide_type": "fragment"
    },
    "tags": [],
    "ExecuteTime": {
     "end_time": "2025-08-25T16:04:28.532789Z",
     "start_time": "2025-08-25T16:04:28.531191Z"
    }
   },
   "source": [
    "r = .1   # Valor de la tasa\n",
    "yf = .5  # Fracción de año\n",
    "\n",
    "for wf in wfs:\n",
    "    print(f\"Función: {wf}. Factor: {wf.wf(r, yf):6f}\")"
   ],
   "id": "eb49dcea0004f4e",
   "outputs": [
    {
     "name": "stdout",
     "output_type": "stream",
     "text": [
      "Función: Lin. Factor: 1.050000\n",
      "Función: Com. Factor: 1.048809\n",
      "Función: Exp. Factor: 1.051271\n"
     ]
    }
   ],
   "execution_count": 47
  },
  {
   "cell_type": "markdown",
   "metadata": {
    "editable": true,
    "slideshow": {
     "slide_type": "slide"
    },
    "tags": []
   },
   "source": [
    "### Método `rate`"
   ],
   "id": "c619e4c6ffe7b227"
  },
  {
   "cell_type": "markdown",
   "metadata": {
    "editable": true,
    "slideshow": {
     "slide_type": "fragment"
    },
    "tags": []
   },
   "source": [
    "Dada una función de capitalización, permite obtener la tasa de interés correspondiente a un factor de capitalización y fracción de año."
   ],
   "id": "ffc357428709b604"
  },
  {
   "cell_type": "markdown",
   "metadata": {
    "editable": true,
    "slideshow": {
     "slide_type": "slide"
    },
    "tags": []
   },
   "source": [
    "En este caso el factor de capitalización es 1.1, la fracción de año es 1.0 y la función de capitalización es Linear."
   ],
   "id": "9da9a1c2cb9bf10a"
  },
  {
   "cell_type": "code",
   "metadata": {
    "editable": true,
    "execution": {
     "iopub.execute_input": "2024-07-08T16:42:46.297068Z",
     "iopub.status.busy": "2024-07-08T16:42:46.296723Z",
     "iopub.status.idle": "2024-07-08T16:42:46.301946Z",
     "shell.execute_reply": "2024-07-08T16:42:46.301097Z",
     "shell.execute_reply.started": "2024-07-08T16:42:46.297045Z"
    },
    "slideshow": {
     "slide_type": "fragment"
    },
    "tags": [],
    "ExecuteTime": {
     "end_time": "2025-08-25T16:04:28.546480Z",
     "start_time": "2025-08-25T16:04:28.544942Z"
    }
   },
   "source": [
    "print(f\"Tasa equivalente: {wfs[0].rate(1.1, 1.0):.4%}\")"
   ],
   "id": "e4bf00ed4a9d1a4f",
   "outputs": [
    {
     "name": "stdout",
     "output_type": "stream",
     "text": [
      "Tasa equivalente: 10.0000%\n"
     ]
    }
   ],
   "execution_count": 48
  },
  {
   "cell_type": "markdown",
   "metadata": {
    "editable": true,
    "slideshow": {
     "slide_type": "slide"
    },
    "tags": []
   },
   "source": [
    "## Tasas de Interés"
   ],
   "id": "950c751746a8c74a"
  },
  {
   "cell_type": "markdown",
   "metadata": {
    "editable": true,
    "slideshow": {
     "slide_type": "fragment"
    },
    "tags": []
   },
   "source": [
    "Utilizando un número real, una fracción de año y una función de capitalización, se puede dar de alta (instanciar) un objeto de tipo `QCInterestRate` que representa una tasa de interés (ver por ejemplo el video [Convenciones de Tasas](https://youtu.be/AdCMPKBFwgg?si=8v4wT1WER_poqEBg))."
   ],
   "id": "ef653524e599db7a"
  },
  {
   "cell_type": "code",
   "metadata": {
    "editable": true,
    "execution": {
     "iopub.execute_input": "2024-07-08T16:42:46.302996Z",
     "iopub.status.busy": "2024-07-08T16:42:46.302693Z",
     "iopub.status.idle": "2024-07-08T16:42:46.307293Z",
     "shell.execute_reply": "2024-07-08T16:42:46.306412Z",
     "shell.execute_reply.started": "2024-07-08T16:42:46.302975Z"
    },
    "slideshow": {
     "slide_type": "fragment"
    },
    "tags": [],
    "ExecuteTime": {
     "end_time": "2025-08-25T16:04:28.572088Z",
     "start_time": "2025-08-25T16:04:28.570283Z"
    }
   },
   "source": [
    "r0 = 0.1\n",
    "tasas = [\n",
    "    tasa_lin_act360 := qcf.QCInterestRate(0.1, act360, lin_wf),\n",
    "    tasa_com_act365 := qcf.QCInterestRate(0.1, act365, com_wf),\n",
    "    tasa_exp_act365 := qcf.QCInterestRate(0.1, act365, exp_wf),\n",
    "]"
   ],
   "id": "7fa0ea9d75db8557",
   "outputs": [],
   "execution_count": 49
  },
  {
   "cell_type": "markdown",
   "metadata": {
    "editable": true,
    "slideshow": {
     "slide_type": "slide"
    },
    "tags": []
   },
   "source": [
    "### Métodos `get_value` y `set_value`"
   ],
   "id": "ae6d40abf48d460a"
  },
  {
   "cell_type": "markdown",
   "metadata": {
    "editable": true,
    "slideshow": {
     "slide_type": "fragment"
    },
    "tags": []
   },
   "source": [
    "Permiten obtener y definir el valor de la tasa de interés."
   ],
   "id": "cf2ab1c088588847"
  },
  {
   "cell_type": "code",
   "metadata": {
    "editable": true,
    "execution": {
     "iopub.execute_input": "2024-07-08T16:42:46.308653Z",
     "iopub.status.busy": "2024-07-08T16:42:46.308354Z",
     "iopub.status.idle": "2024-07-08T16:42:46.314396Z",
     "shell.execute_reply": "2024-07-08T16:42:46.313186Z",
     "shell.execute_reply.started": "2024-07-08T16:42:46.308632Z"
    },
    "slideshow": {
     "slide_type": "fragment"
    },
    "tags": [],
    "ExecuteTime": {
     "end_time": "2025-08-25T16:04:28.587757Z",
     "start_time": "2025-08-25T16:04:28.585869Z"
    }
   },
   "source": [
    "for tasa in tasas:\n",
    "    print(f\"Descripción: {tasa}\") # Está definido el método __str__\n",
    "    \n",
    "    # Se obtiene el valor de la tasa utilizando get_value\n",
    "    print(\"Obtener valor:\", tasa.get_value())\n",
    "    \n",
    "    # Se utiliza set_value para cambiar el valor de la tasa\n",
    "    r1 = 0.12\n",
    "    tasa.set_value(r1)\n",
    "    print(\"Obtener nuevo valor:\", tasa.get_value())\n",
    "    print()"
   ],
   "id": "60593a65452c8576",
   "outputs": [
    {
     "name": "stdout",
     "output_type": "stream",
     "text": [
      "Descripción: 0.100000 Act360 Lin\n",
      "Obtener valor: 0.1\n",
      "Obtener nuevo valor: 0.12\n",
      "\n",
      "Descripción: 0.100000 Act365 Com\n",
      "Obtener valor: 0.1\n",
      "Obtener nuevo valor: 0.12\n",
      "\n",
      "Descripción: 0.100000 Act365 Exp\n",
      "Obtener valor: 0.1\n",
      "Obtener nuevo valor: 0.12\n",
      "\n"
     ]
    }
   ],
   "execution_count": 50
  },
  {
   "cell_type": "markdown",
   "metadata": {
    "editable": true,
    "slideshow": {
     "slide_type": "slide"
    },
    "tags": []
   },
   "source": [
    "### Métodos `wf` y `dwf`"
   ],
   "id": "57a5b46b9ba5880d"
  },
  {
   "cell_type": "markdown",
   "metadata": {
    "editable": true,
    "slideshow": {
     "slide_type": "fragment"
    },
    "tags": []
   },
   "source": [
    "Tanto `wf` como `dwf`son métodos sobrecargados. El primero permite calcular el valor del factor de capitalización de la tasa de interés utilizando un número de días o un par de fechas, mientras que el segundo calcula la derivada del factor de capitalización respecto a la tasa de interés. \n",
    "\n",
    "¿Cómo se realiza el cálculo de la derivada? Veamos un ejemplo:"
   ],
   "id": "287acb5fdad952a3"
  },
  {
   "cell_type": "markdown",
   "metadata": {
    "editable": true,
    "slideshow": {
     "slide_type": "slide"
    },
    "tags": []
   },
   "source": [
    "Consideremos una tasa de interés cuya función de capitalización es $g$. De ese modo el factor de capitalización $wf$ para un valor de tasa $r$ y una fracción de año $yf$ está dado por:"
   ],
   "id": "23489ac1e926c247"
  },
  {
   "cell_type": "markdown",
   "metadata": {
    "editable": true,
    "slideshow": {
     "slide_type": "fragment"
    },
    "tags": []
   },
   "source": [
    "$$wf = g\\left(r,yf\\right)$$"
   ],
   "id": "dd518d1953030484"
  },
  {
   "cell_type": "markdown",
   "metadata": {
    "editable": true,
    "execution": {
     "iopub.execute_input": "2024-07-07T15:30:27.186265Z",
     "iopub.status.busy": "2024-07-07T15:30:27.185958Z",
     "iopub.status.idle": "2024-07-07T15:30:27.193936Z",
     "shell.execute_reply": "2024-07-07T15:30:27.192638Z",
     "shell.execute_reply.started": "2024-07-07T15:30:27.186241Z"
    },
    "slideshow": {
     "slide_type": "fragment"
    },
    "tags": []
   },
   "source": [
    "En muchas situaciones nos interesará saber como cambia el factor de capitalización cuando el valor $r$ de la tasa cambia. Cuando el cambio de valor, es pequeño, digamos un punto básico, resulta conveniente calcular el cambio de valor en $wf$, $\\Delta wf$ usando la derivada de la función $g$ respecto a $r$, más precisamente:"
   ],
   "id": "57d37e0aa3fd255d"
  },
  {
   "cell_type": "markdown",
   "metadata": {
    "editable": true,
    "slideshow": {
     "slide_type": "fragment"
    },
    "tags": []
   },
   "source": [
    "$$\\Delta wf = \\frac{dg\\left(r,yf\\right)}{dr}\\left(r_0,yf\\right)\\cdot\\delta$$"
   ],
   "id": "199cf7300a398760"
  },
  {
   "cell_type": "markdown",
   "metadata": {
    "editable": true,
    "execution": {
     "iopub.execute_input": "2024-07-07T15:34:12.043104Z",
     "iopub.status.busy": "2024-07-07T15:34:12.042812Z",
     "iopub.status.idle": "2024-07-07T15:34:12.048522Z",
     "shell.execute_reply": "2024-07-07T15:34:12.047325Z",
     "shell.execute_reply.started": "2024-07-07T15:34:12.043078Z"
    },
    "slideshow": {
     "slide_type": "fragment"
    },
    "tags": []
   },
   "source": [
    "Donde $r_0$ es el valor inicial de la tasa y $\\delta$ es el cambio en su valor."
   ],
   "id": "cd94ed0c27a9ffc6"
  },
  {
   "cell_type": "markdown",
   "metadata": {
    "editable": true,
    "slideshow": {
     "slide_type": "slide"
    },
    "tags": []
   },
   "source": [
    "Tenemos que:"
   ],
   "id": "fa3a08a7496a6e6b"
  },
  {
   "cell_type": "markdown",
   "metadata": {
    "editable": true,
    "slideshow": {
     "slide_type": "fragment"
    },
    "tags": []
   },
   "source": [
    "- Si $g=1+r\\cdot yf$ entonces $\\Delta wf = yf\\cdot\\delta$"
   ],
   "id": "a71546bac7ae4410"
  },
  {
   "cell_type": "markdown",
   "metadata": {
    "editable": true,
    "slideshow": {
     "slide_type": "fragment"
    },
    "tags": []
   },
   "source": [
    "- Si $g=\\left(1+r\\right)^{yf}$ entonces $\\Delta wf = yf\\cdot\\left(1+r_0\\right)^{yf-1}\\cdot\\delta$"
   ],
   "id": "b6b8ac1ba8e8d41d"
  },
  {
   "cell_type": "markdown",
   "metadata": {
    "editable": true,
    "slideshow": {
     "slide_type": "fragment"
    },
    "tags": []
   },
   "source": [
    "- Si $g=exp\\left(r\\cdot yf\\right)$ entonces $\\Delta wf = yf\\cdot exp\\left(r_0\\cdot yf\\right)\\cdot\\delta$"
   ],
   "id": "c89e71b2615c6dd1"
  },
  {
   "cell_type": "markdown",
   "metadata": {
    "editable": true,
    "slideshow": {
     "slide_type": "slide"
    },
    "tags": []
   },
   "source": [
    "Calculemos `wf` y `dwf` usando un par de fechas."
   ],
   "id": "eed834d13ed789c8"
  },
  {
   "cell_type": "code",
   "metadata": {
    "editable": true,
    "execution": {
     "iopub.execute_input": "2024-07-08T16:42:46.315488Z",
     "iopub.status.busy": "2024-07-08T16:42:46.315131Z",
     "iopub.status.idle": "2024-07-08T16:42:46.324466Z",
     "shell.execute_reply": "2024-07-08T16:42:46.323794Z",
     "shell.execute_reply.started": "2024-07-08T16:42:46.315468Z"
    },
    "slideshow": {
     "slide_type": "fragment"
    },
    "tags": [],
    "ExecuteTime": {
     "end_time": "2025-08-25T16:04:28.599706Z",
     "start_time": "2025-08-25T16:04:28.597290Z"
    }
   },
   "source": [
    "for i, tasa in enumerate(tasas):\n",
    "    # Retorna el factor de capitalización entre las fechas\n",
    "    print(f\"wf(fecha1, fecha3): {tasa.wf(fecha1, fecha3):.8f}\")\n",
    "\n",
    "    # Retorna la derivada del factor de capitalización respecto al valor de la tasa entre las fechas\n",
    "    print(f\"dwf(fecha1, fecha3): {tasa.dwf(fecha1, fecha3):.8f}\")\n",
    "\n",
    "    # Para verificar se calcula \"a mano\" la derivada\n",
    "    match i:\n",
    "        case 0:\n",
    "            print(f\"Check: {tasa.yf(fecha1, fecha3):.8f}\")\n",
    "        case 1:\n",
    "            yf_ = tasa.yf(fecha1, fecha3)\n",
    "            print(f\"Check: {tasa.yf(fecha1, fecha3) * (1 + r1)**(yf_ - 1):.8f}\")\n",
    "        case 2:\n",
    "            print(f\"Check: {tasa.yf(fecha1, fecha3) * tasa.wf(fecha1, fecha3):.8f}\")\n",
    "    \n",
    "    print()"
   ],
   "id": "cae19bca46a96c8b",
   "outputs": [
    {
     "name": "stdout",
     "output_type": "stream",
     "text": [
      "wf(fecha1, fecha3): 1.01000000\n",
      "dwf(fecha1, fecha3): 0.08333333\n",
      "Check: 0.08333333\n",
      "\n",
      "wf(fecha1, fecha3): 1.00935820\n",
      "dwf(fecha1, fecha3): 0.07407228\n",
      "Check: 0.07407228\n",
      "\n",
      "wf(fecha1, fecha3): 1.00991181\n",
      "dwf(fecha1, fecha3): 0.08300645\n",
      "Check: 0.08300645\n",
      "\n"
     ]
    }
   ],
   "execution_count": 51
  },
  {
   "cell_type": "markdown",
   "metadata": {
    "editable": true,
    "slideshow": {
     "slide_type": "slide"
    },
    "tags": []
   },
   "source": [
    "Veamos ahora la sobrecarga y utilicemos un número de días."
   ],
   "id": "4ec5d4108dac87a0"
  },
  {
   "cell_type": "code",
   "metadata": {
    "editable": true,
    "execution": {
     "iopub.execute_input": "2024-07-08T16:42:46.325539Z",
     "iopub.status.busy": "2024-07-08T16:42:46.325362Z",
     "iopub.status.idle": "2024-07-08T16:42:46.331435Z",
     "shell.execute_reply": "2024-07-08T16:42:46.330829Z",
     "shell.execute_reply.started": "2024-07-08T16:42:46.325522Z"
    },
    "slideshow": {
     "slide_type": "fragment"
    },
    "tags": [],
    "ExecuteTime": {
     "end_time": "2025-08-25T16:04:28.628008Z",
     "start_time": "2025-08-25T16:04:28.625236Z"
    }
   },
   "source": [
    "dias = 400\n",
    "for i, tasa in enumerate(tasas):\n",
    "    # Retorna el factor de capitalización entre las fechas\n",
    "    print(f\"wf(dias): {tasa.wf(dias):.8F}\")\n",
    "\n",
    "    # Retorna la derivada del factor de capitalización respecto al valor de la tasa entre las fechas\n",
    "    print(f\"dwf(dias): {tasa.dwf(dias):.8f}\")\n",
    "\n",
    "    # Para verificar se calcula \"a mano\" la derivada\n",
    "    match i:\n",
    "        case 0:\n",
    "            print(f\"Check: {dias / 360:.8f}\")\n",
    "        case 1:\n",
    "            yf_ = dias / 365\n",
    "            print(f\"Check: {yf_ * (1 + r1)**(yf_ - 1):.8f}\")\n",
    "        case 2:\n",
    "            print(f\"Check: {dias / 365 * tasa.wf(dias):.8f}\")\n",
    "    \n",
    "    print()"
   ],
   "id": "4d68fe28ba77ead8",
   "outputs": [
    {
     "name": "stdout",
     "output_type": "stream",
     "text": [
      "wf(dias): 1.13333333\n",
      "dwf(dias): 1.11111111\n",
      "Check: 1.11111111\n",
      "\n",
      "wf(dias): 1.13223756\n",
      "dwf(dias): 1.10786454\n",
      "Check: 1.10786454\n",
      "\n",
      "wf(dias): 1.14054572\n",
      "dwf(dias): 1.24991312\n",
      "Check: 1.24991312\n",
      "\n"
     ]
    }
   ],
   "execution_count": 52
  },
  {
   "cell_type": "markdown",
   "metadata": {
    "editable": true,
    "slideshow": {
     "slide_type": "slide"
    },
    "tags": []
   },
   "source": [
    "### Método `get_rate_from_wf`"
   ],
   "id": "319dde553443ea44"
  },
  {
   "cell_type": "markdown",
   "metadata": {
    "editable": true,
    "slideshow": {
     "slide_type": "fragment"
    },
    "tags": []
   },
   "source": [
    "Este método permite calcular la tasa de interés correspondiente a un dado factor de capitalización, utilizando la función de capitalización y la fracción de año de la tasa. El intervalo de tiempo de la tasa se puede especificar con un par de fechas o con un número de días."
   ],
   "id": "c84124391d9946b1"
  },
  {
   "cell_type": "markdown",
   "metadata": {
    "editable": true,
    "slideshow": {
     "slide_type": "slide"
    },
    "tags": []
   },
   "source": [
    "Veamos un ejemplo:"
   ],
   "id": "378cec3611640413"
  },
  {
   "cell_type": "code",
   "metadata": {
    "editable": true,
    "execution": {
     "iopub.execute_input": "2024-07-08T16:42:46.336319Z",
     "iopub.status.busy": "2024-07-08T16:42:46.336078Z",
     "iopub.status.idle": "2024-07-08T16:42:46.341956Z",
     "shell.execute_reply": "2024-07-08T16:42:46.341191Z",
     "shell.execute_reply.started": "2024-07-08T16:42:46.336300Z"
    },
    "slideshow": {
     "slide_type": "fragment"
    },
    "tags": [],
    "ExecuteTime": {
     "end_time": "2025-08-25T16:04:28.644646Z",
     "start_time": "2025-08-25T16:04:28.642673Z"
    }
   },
   "source": [
    "factor = 1.0025\n",
    "dias = 31\n",
    "for tasa in tasas:\n",
    "    aux = f\"{tasa}\"[-10:]\n",
    "    print(f\"Tasa: {aux}\")\n",
    "    print(f\"get_rate_from_wf(factor, fecha1, fecha3): {tasa.get_rate_from_wf(factor, fecha1, fecha3):.4%}\")\n",
    "    print(f\"get_rate_from_wf(factor, dias): {tasa.get_rate_from_wf(factor, dias):.4%}\\n\")\n"
   ],
   "id": "6ef98578c1e288",
   "outputs": [
    {
     "name": "stdout",
     "output_type": "stream",
     "text": [
      "Tasa: Act360 Lin\n",
      "get_rate_from_wf(factor, fecha1, fecha3): 3.0000%\n",
      "get_rate_from_wf(factor, dias): 2.9032%\n",
      "\n",
      "Tasa: Act365 Com\n",
      "get_rate_from_wf(factor, fecha1, fecha3): 3.0845%\n",
      "get_rate_from_wf(factor, dias): 2.9835%\n",
      "\n",
      "Tasa: Act365 Exp\n",
      "get_rate_from_wf(factor, fecha1, fecha3): 3.0379%\n",
      "get_rate_from_wf(factor, dias): 2.9399%\n",
      "\n"
     ]
    }
   ],
   "execution_count": 53
  },
  {
   "cell_type": "markdown",
   "metadata": {
    "editable": true,
    "slideshow": {
     "slide_type": "slide"
    },
    "tags": []
   },
   "source": [
    "## Tenor"
   ],
   "id": "ad4bfea557af4080"
  },
  {
   "cell_type": "markdown",
   "metadata": {
    "editable": true,
    "slideshow": {
     "slide_type": "fragment"
    },
    "tags": []
   },
   "source": [
    "Es una clase que representa el concepto de plazo estructurado o tenor (1D, 1M, 1Y ...)."
   ],
   "id": "5e4b86468bcbd807"
  },
  {
   "cell_type": "markdown",
   "metadata": {
    "editable": true,
    "slideshow": {
     "slide_type": "slide"
    },
    "tags": []
   },
   "source": [
    "### Ejemplos"
   ],
   "id": "91339e4fe8376f14"
  },
  {
   "cell_type": "code",
   "metadata": {
    "editable": true,
    "execution": {
     "iopub.execute_input": "2024-07-08T16:42:46.342898Z",
     "iopub.status.busy": "2024-07-08T16:42:46.342645Z",
     "iopub.status.idle": "2024-07-08T16:42:46.349275Z",
     "shell.execute_reply": "2024-07-08T16:42:46.348303Z",
     "shell.execute_reply.started": "2024-07-08T16:42:46.342877Z"
    },
    "slideshow": {
     "slide_type": "fragment"
    },
    "tags": [],
    "ExecuteTime": {
     "end_time": "2025-08-25T16:04:28.673401Z",
     "start_time": "2025-08-25T16:04:28.671659Z"
    }
   },
   "source": [
    "tenors = [\n",
    "    _1d := qcf.Tenor(\"1d\"),\n",
    "    _1m := qcf.Tenor(\"1M\"),\n",
    "    _1y := qcf.Tenor(\"1y\"),\n",
    "    _1d_1m_1y := qcf.Tenor(\"1D1M1Y\"),\n",
    "\n",
    "    # Notar que, en este caso, el constructor es capaz de eliminar\n",
    "    # los espacios y la substr nyse\n",
    "    _2y_3m := qcf.Tenor(\"2y nyse 3m\"),  \n",
    "]"
   ],
   "id": "df7efe4e9cd7e84c",
   "outputs": [],
   "execution_count": 54
  },
  {
   "cell_type": "markdown",
   "metadata": {
    "editable": true,
    "slideshow": {
     "slide_type": "slide"
    },
    "tags": []
   },
   "source": [
    "### Métodos `get_string`, `get_days`, `get_months` y `get_years`"
   ],
   "id": "98dfe8d0b6a5e629"
  },
  {
   "cell_type": "code",
   "metadata": {
    "editable": true,
    "execution": {
     "iopub.execute_input": "2024-07-08T16:42:46.350439Z",
     "iopub.status.busy": "2024-07-08T16:42:46.350033Z",
     "iopub.status.idle": "2024-07-08T16:42:46.356017Z",
     "shell.execute_reply": "2024-07-08T16:42:46.355372Z",
     "shell.execute_reply.started": "2024-07-08T16:42:46.350411Z"
    },
    "slideshow": {
     "slide_type": "fragment"
    },
    "tags": [],
    "ExecuteTime": {
     "end_time": "2025-08-25T16:04:28.689282Z",
     "start_time": "2025-08-25T16:04:28.687287Z"
    }
   },
   "source": [
    "for tenor in tenors:\n",
    "    print(f\"string: {tenor.get_string()}\")\n",
    "    print(f\"dias: {tenor.get_days()}\")\n",
    "    print(f\"meses: {tenor.get_months()}\")\n",
    "    print(f\"años: {tenor.get_years()}\\n\")"
   ],
   "id": "d205216c8cdf8891",
   "outputs": [
    {
     "name": "stdout",
     "output_type": "stream",
     "text": [
      "string: 1D\n",
      "dias: 1\n",
      "meses: 0\n",
      "años: 0\n",
      "\n",
      "string: 1M\n",
      "dias: 0\n",
      "meses: 1\n",
      "años: 0\n",
      "\n",
      "string: 1Y\n",
      "dias: 0\n",
      "meses: 0\n",
      "años: 1\n",
      "\n",
      "string: 1Y1M1D\n",
      "dias: 1\n",
      "meses: 1\n",
      "años: 1\n",
      "\n",
      "string: 2Y3M\n",
      "dias: 0\n",
      "meses: 3\n",
      "años: 2\n",
      "\n"
     ]
    }
   ],
   "execution_count": 55
  },
  {
   "cell_type": "markdown",
   "metadata": {
    "editable": true,
    "slideshow": {
     "slide_type": "slide"
    },
    "tags": []
   },
   "source": [
    "### Método `set_tenor`"
   ],
   "id": "2e982c9bd0be51d6"
  },
  {
   "cell_type": "code",
   "metadata": {
    "editable": true,
    "execution": {
     "iopub.execute_input": "2024-07-08T16:42:46.356927Z",
     "iopub.status.busy": "2024-07-08T16:42:46.356748Z",
     "iopub.status.idle": "2024-07-08T16:42:46.360908Z",
     "shell.execute_reply": "2024-07-08T16:42:46.360055Z",
     "shell.execute_reply.started": "2024-07-08T16:42:46.356908Z"
    },
    "slideshow": {
     "slide_type": "fragment"
    },
    "tags": [],
    "ExecuteTime": {
     "end_time": "2025-08-25T16:04:28.700276Z",
     "start_time": "2025-08-25T16:04:28.698711Z"
    }
   },
   "source": [
    "for i, tenor in enumerate(tenors):\n",
    "    tenor.set_tenor(f\"{i}d{i}m{i}y\")\n",
    "    print(f\"string: {tenor.get_string()}\\n\")"
   ],
   "id": "7ebc04e3d969500a",
   "outputs": [
    {
     "name": "stdout",
     "output_type": "stream",
     "text": [
      "string: 0D\n",
      "\n",
      "string: 1Y1M1D\n",
      "\n",
      "string: 2Y2M2D\n",
      "\n",
      "string: 3Y3M3D\n",
      "\n",
      "string: 4Y4M4D\n",
      "\n"
     ]
    }
   ],
   "execution_count": 56
  },
  {
   "cell_type": "markdown",
   "metadata": {
    "editable": true,
    "heading_collapsed": true,
    "slideshow": {
     "slide_type": "slide"
    },
    "tags": []
   },
   "source": [
    "## FX Rate"
   ],
   "id": "f763eecd6c39d520"
  },
  {
   "cell_type": "markdown",
   "metadata": {
    "editable": true,
    "slideshow": {
     "slide_type": "fragment"
    },
    "tags": []
   },
   "source": [
    "Es una clase que representa el concepto de tipo de cambio entre dos monedas. Para dar de alta un FXRate se requiere:"
   ],
   "id": "c59f803c25e70f61"
  },
  {
   "cell_type": "markdown",
   "metadata": {
    "editable": true,
    "slideshow": {
     "slide_type": ""
    },
    "tags": []
   },
   "source": [
    "- QCCurrency: la moneda fuerte del par."
   ],
   "id": "5c99355caffc3a22"
  },
  {
   "cell_type": "markdown",
   "metadata": {
    "editable": true,
    "slideshow": {
     "slide_type": ""
    },
    "tags": []
   },
   "source": [
    "- QCCurrency: la moneda débl del par."
   ],
   "id": "d6836181da3243c9"
  },
  {
   "cell_type": "markdown",
   "metadata": {
    "editable": true,
    "slideshow": {
     "slide_type": "slide"
    },
    "tags": []
   },
   "source": [
    "### Ejemplo: USDCLP"
   ],
   "id": "8882268ceac397e"
  },
  {
   "cell_type": "code",
   "metadata": {
    "editable": true,
    "execution": {
     "iopub.execute_input": "2024-07-08T16:42:46.362487Z",
     "iopub.status.busy": "2024-07-08T16:42:46.362211Z",
     "iopub.status.idle": "2024-07-08T16:42:46.366481Z",
     "shell.execute_reply": "2024-07-08T16:42:46.365872Z",
     "shell.execute_reply.started": "2024-07-08T16:42:46.362465Z"
    },
    "hidden": true,
    "slideshow": {
     "slide_type": "fragment"
    },
    "tags": [],
    "ExecuteTime": {
     "end_time": "2025-08-25T16:04:28.724012Z",
     "start_time": "2025-08-25T16:04:28.722443Z"
    }
   },
   "source": [
    "usdclp = qcf.FXRate(usd, clp)"
   ],
   "id": "fb9971c908d29cb4",
   "outputs": [],
   "execution_count": 57
  },
  {
   "cell_type": "markdown",
   "metadata": {
    "editable": true,
    "slideshow": {
     "slide_type": "fragment"
    },
    "tags": []
   },
   "source": [
    "Utilizando el método `get_code` se puede obtener el código del par según la convención usual."
   ],
   "id": "ec2888673149aabc"
  },
  {
   "cell_type": "code",
   "metadata": {
    "editable": true,
    "execution": {
     "iopub.execute_input": "2024-07-08T16:42:46.368810Z",
     "iopub.status.busy": "2024-07-08T16:42:46.368561Z",
     "iopub.status.idle": "2024-07-08T16:42:46.372040Z",
     "shell.execute_reply": "2024-07-08T16:42:46.371425Z",
     "shell.execute_reply.started": "2024-07-08T16:42:46.368791Z"
    },
    "slideshow": {
     "slide_type": "fragment"
    },
    "tags": [],
    "ExecuteTime": {
     "end_time": "2025-08-25T16:04:28.743814Z",
     "start_time": "2025-08-25T16:04:28.741965Z"
    }
   },
   "source": [
    "print(f\"Código: {usdclp.get_code()}\")"
   ],
   "id": "1556753f296b3572",
   "outputs": [
    {
     "name": "stdout",
     "output_type": "stream",
     "text": [
      "Código: USDCLP\n"
     ]
    }
   ],
   "execution_count": 58
  },
  {
   "cell_type": "markdown",
   "metadata": {
    "editable": true,
    "slideshow": {
     "slide_type": "slide"
    },
    "tags": []
   },
   "source": [
    "## FX Rate Index"
   ],
   "id": "d07d5975d04d7ce0"
  },
  {
   "cell_type": "markdown",
   "metadata": {
    "editable": true,
    "slideshow": {
     "slide_type": "fragment"
    },
    "tags": []
   },
   "source": [
    "Esta clase representa un índice de tipo de cambio, por ejemplo, el dólar observado que publica el Banco Central de Chile."
   ],
   "id": "cce2ad7327e01068"
  },
  {
   "cell_type": "markdown",
   "metadata": {
    "editable": true,
    "slideshow": {
     "slide_type": "fragment"
    },
    "tags": []
   },
   "source": [
    "Para dar de alta un FXRateIndex se requiere:\n",
    "\n",
    "- `FXRate`: el FXRate correspondiente.\n",
    "- `str`: nombre del índice\n",
    "- `Tenor`: la regla de fixing, es 1D como el USD Observado o es 0D como un índice de cierre de día.\n",
    "- `Tenor`: la regla para la valuta. Es 1D como el USDCLP o 2D como el EURUSD.\n",
    "- `BusinessCalendar`: el calendario adecuado para aplicar las reglas de fixing y valuta."
   ],
   "id": "ccf3113b531d9436"
  },
  {
   "cell_type": "markdown",
   "metadata": {
    "editable": true,
    "slideshow": {
     "slide_type": "slide"
    },
    "tags": []
   },
   "source": [
    "### Ejemplo"
   ],
   "id": "22bdbd3b38273013"
  },
  {
   "cell_type": "code",
   "metadata": {
    "editable": true,
    "execution": {
     "iopub.execute_input": "2024-07-08T16:42:46.373206Z",
     "iopub.status.busy": "2024-07-08T16:42:46.373005Z",
     "iopub.status.idle": "2024-07-08T16:42:46.749726Z",
     "shell.execute_reply": "2024-07-08T16:42:46.747531Z",
     "shell.execute_reply.started": "2024-07-08T16:42:46.373186Z"
    },
    "slideshow": {
     "slide_type": "fragment"
    },
    "tags": [],
    "ExecuteTime": {
     "end_time": "2025-08-25T16:04:28.755408Z",
     "start_time": "2025-08-25T16:04:28.753784Z"
    }
   },
   "source": [
    "_1d.set_tenor(\"1d\")\n",
    "usdclp_obs = qcf.FXRateIndex(usdclp, \"USDOBS\", _1d, _1d, qcf_scl)"
   ],
   "id": "e23bc84aec957af5",
   "outputs": [],
   "execution_count": 59
  },
  {
   "cell_type": "markdown",
   "metadata": {
    "editable": true,
    "slideshow": {
     "slide_type": "slide"
    },
    "tags": []
   },
   "source": [
    "### Métodos `fixing_date` y `value_date`"
   ],
   "id": "c4f607325aa70938"
  },
  {
   "cell_type": "markdown",
   "metadata": {
    "editable": true,
    "slideshow": {
     "slide_type": "fragment"
    },
    "tags": []
   },
   "source": [
    "El método `fixing_date` retorna la fecha de fixing del índice dada la fecha de publicación. Por su parte, `value_date` retorna la fecha de la valuta dada la fecha de publicación."
   ],
   "id": "b1ad3f12649363a8"
  },
  {
   "cell_type": "code",
   "metadata": {
    "editable": true,
    "execution": {
     "iopub.status.busy": "2024-07-08T16:42:46.750278Z",
     "iopub.status.idle": "2024-07-08T16:42:46.750547Z",
     "shell.execute_reply": "2024-07-08T16:42:46.750417Z",
     "shell.execute_reply.started": "2024-07-08T16:42:46.750405Z"
    },
    "slideshow": {
     "slide_type": "fragment"
    },
    "tags": [],
    "ExecuteTime": {
     "end_time": "2025-08-25T16:04:28.774544Z",
     "start_time": "2025-08-25T16:04:28.772479Z"
    }
   },
   "source": [
    "print(f\"Fecha de publicación: {fecha1.week_day()}, {fecha1}\")\n",
    "print(f\"Fecha de fixing: {usdclp_obs.fixing_date(fecha1)}\")\n",
    "print(f\"Fecha de valuta: {usdclp_obs.value_date(fecha1)}\")"
   ],
   "id": "a2b9050de56c3f1a",
   "outputs": [
    {
     "name": "stdout",
     "output_type": "stream",
     "text": [
      "Fecha de publicación: WeekDay.THU, 2024-10-17\n",
      "Fecha de fixing: 2024-10-16\n",
      "Fecha de valuta: 2024-10-17\n"
     ]
    }
   ],
   "execution_count": 60
  },
  {
   "cell_type": "markdown",
   "metadata": {
    "editable": true,
    "slideshow": {
     "slide_type": "fragment"
    },
    "tags": []
   },
   "source": [
    "Notar que la fecha de fixing se calcula aplicando la regla de fixing a la fecha de publicación, mientras que la fecha de valuta se calcula aplicando la regla de valuta a la fecha de fixing."
   ],
   "id": "2b6ddf0359174a3c"
  },
  {
   "cell_type": "markdown",
   "metadata": {
    "editable": true,
    "slideshow": {
     "slide_type": "slide"
    },
    "tags": []
   },
   "source": [
    "### Método `convert`"
   ],
   "id": "18384a813af4ba10"
  },
  {
   "cell_type": "markdown",
   "metadata": {
    "editable": true,
    "slideshow": {
     "slide_type": "fragment"
    },
    "tags": []
   },
   "source": [
    "El método `convert` permite pasar rápidamente de una moneda a la otra (de las que forman el par del índice) usando un valor para el índice."
   ],
   "id": "c8ca7338207e00cb"
  },
  {
   "cell_type": "markdown",
   "metadata": {
    "editable": true,
    "slideshow": {
     "slide_type": "slide"
    },
    "tags": []
   },
   "source": [
    "Veamos un ejemplo:"
   ],
   "id": "9ba5c9d11606cce6"
  },
  {
   "cell_type": "code",
   "metadata": {
    "editable": true,
    "execution": {
     "iopub.status.busy": "2024-07-08T16:42:46.751576Z",
     "iopub.status.idle": "2024-07-08T16:42:46.751860Z",
     "shell.execute_reply": "2024-07-08T16:42:46.751734Z",
     "shell.execute_reply.started": "2024-07-08T16:42:46.751722Z"
    },
    "slideshow": {
     "slide_type": "fragment"
    },
    "tags": [],
    "ExecuteTime": {
     "end_time": "2025-08-25T16:04:28.790999Z",
     "start_time": "2025-08-25T16:04:28.789095Z"
    }
   },
   "source": [
    "monto_usd = 1_000_000\n",
    "monto_clp = 900_000_000\n",
    "valor_usdclp_obs = 900.00\n",
    "\n",
    "result = usdclp_obs.convert(monto_usd, qcf.QCUSD(), valor_usdclp_obs)\n",
    "print(f\"Monto en CLP es: {result:,.0f}\")\n",
    "\n",
    "result = usdclp_obs.convert(monto_clp, qcf.QCCLP(), valor_usdclp_obs)\n",
    "print(f\"Monto en USD es: {result:,.0f}\")"
   ],
   "id": "3b2acc9b1e020029",
   "outputs": [
    {
     "name": "stdout",
     "output_type": "stream",
     "text": [
      "Monto en CLP es: 900,000,000\n",
      "Monto en USD es: 1,000,000\n"
     ]
    }
   ],
   "execution_count": 61
  },
  {
   "cell_type": "markdown",
   "metadata": {
    "editable": true,
    "execution": {
     "iopub.execute_input": "2024-05-26T14:21:20.952930Z",
     "iopub.status.busy": "2024-05-26T14:21:20.952572Z",
     "iopub.status.idle": "2024-05-26T14:21:20.958741Z",
     "shell.execute_reply": "2024-05-26T14:21:20.957842Z",
     "shell.execute_reply.started": "2024-05-26T14:21:20.952899Z"
    },
    "slideshow": {
     "slide_type": ""
    },
    "tags": []
   },
   "source": [
    "Esta función es cómoda porque evita tener que controlar en el propio código si la divisa del monto a convertir es la fuerte o la débil del par."
   ],
   "id": "b84424ed0b8782b2"
  },
  {
   "cell_type": "markdown",
   "metadata": {
    "editable": true,
    "slideshow": {
     "slide_type": "slide"
    },
    "tags": []
   },
   "source": [
    "## QCCurrencyConverter"
   ],
   "id": "fbcfa66e789dbb85"
  },
  {
   "cell_type": "markdown",
   "metadata": {
    "editable": true,
    "slideshow": {
     "slide_type": "fragment"
    },
    "tags": []
   },
   "source": [
    "Este es un objeto que permite realizar conversiones de una moneda a otra con un poco más de generalidad que en el caso anterior."
   ],
   "id": "a8cab3e647637059"
  },
  {
   "cell_type": "code",
   "metadata": {
    "editable": true,
    "execution": {
     "iopub.status.busy": "2024-07-08T16:42:46.752715Z",
     "iopub.status.idle": "2024-07-08T16:42:46.752924Z",
     "shell.execute_reply": "2024-07-08T16:42:46.752817Z",
     "shell.execute_reply.started": "2024-07-08T16:42:46.752807Z"
    },
    "slideshow": {
     "slide_type": "fragment"
    },
    "tags": [],
    "ExecuteTime": {
     "end_time": "2025-08-25T16:04:28.815660Z",
     "start_time": "2025-08-25T16:04:28.814020Z"
    }
   },
   "source": [
    "ccy_converter = qcf.QCCurrencyConverter()"
   ],
   "id": "3ba5ad7d04b3367f",
   "outputs": [],
   "execution_count": 62
  },
  {
   "cell_type": "markdown",
   "metadata": {
    "editable": true,
    "slideshow": {
     "slide_type": "slide"
    },
    "tags": []
   },
   "source": [
    "### Método `convert`"
   ],
   "id": "3f9b5a7ee1bdaa58"
  },
  {
   "cell_type": "markdown",
   "metadata": {
    "editable": true,
    "slideshow": {
     "slide_type": "fragment"
    },
    "tags": []
   },
   "source": [
    "El método `convert` se puede utilizar con dos conjuntos distintos de argumentos:\n",
    "\n",
    "- `float`: que representa el monto en una divisa a convertir,\n",
    "- `QCCurrency`: que representa la divisa del monto anterior\n",
    "- `float`: que representa el valor del tipo de cambio a utilizar en la convención de mercado del par\n",
    "- `FXRateIndex`: que representa el par de monedas entre las cuales se realiza la conversión"
   ],
   "id": "db0d088d7c695dc5"
  },
  {
   "cell_type": "markdown",
   "metadata": {
    "editable": true,
    "slideshow": {
     "slide_type": "slide"
    },
    "tags": []
   },
   "source": [
    "Por ejemplo:"
   ],
   "id": "e1a47c076db8e49f"
  },
  {
   "cell_type": "code",
   "metadata": {
    "editable": true,
    "execution": {
     "iopub.status.busy": "2024-07-08T16:42:46.754785Z",
     "iopub.status.idle": "2024-07-08T16:42:46.755252Z",
     "shell.execute_reply": "2024-07-08T16:42:46.755083Z",
     "shell.execute_reply.started": "2024-07-08T16:42:46.755071Z"
    },
    "slideshow": {
     "slide_type": "fragment"
    },
    "tags": [],
    "ExecuteTime": {
     "end_time": "2025-08-25T16:04:28.833734Z",
     "start_time": "2025-08-25T16:04:28.831931Z"
    }
   },
   "source": [
    "print(f'Monto en CLP: {ccy_converter.convert(monto_usd, usd, 900, usdclp_obs):,.0f}')\n",
    "print(f'Monto en USD: {ccy_converter.convert(monto_clp, clp, 900, usdclp_obs):,.0f}')"
   ],
   "id": "99f24ebf758af642",
   "outputs": [
    {
     "name": "stdout",
     "output_type": "stream",
     "text": [
      "Monto en CLP: 900,000,000\n",
      "Monto en USD: 1,000,000\n"
     ]
    }
   ],
   "execution_count": 63
  },
  {
   "cell_type": "markdown",
   "metadata": {
    "editable": true,
    "slideshow": {
     "slide_type": "fragment"
    },
    "tags": []
   },
   "source": [
    "Para el segundo método se introducen dos `enum` definidos en `QCCurrencyConverter`:"
   ],
   "id": "10f71025a7a002aa"
  },
  {
   "cell_type": "markdown",
   "metadata": {
    "editable": true,
    "slideshow": {
     "slide_type": "slide"
    },
    "tags": []
   },
   "source": [
    "#### Enum para Monedas"
   ],
   "id": "3020c802bb87a01f"
  },
  {
   "cell_type": "code",
   "metadata": {
    "editable": true,
    "execution": {
     "iopub.status.busy": "2024-07-08T16:42:46.756112Z",
     "iopub.status.idle": "2024-07-08T16:42:46.756525Z",
     "shell.execute_reply": "2024-07-08T16:42:46.756360Z",
     "shell.execute_reply.started": "2024-07-08T16:42:46.756335Z"
    },
    "slideshow": {
     "slide_type": "fragment"
    },
    "tags": [],
    "ExecuteTime": {
     "end_time": "2025-08-25T16:04:28.846557Z",
     "start_time": "2025-08-25T16:04:28.843434Z"
    }
   },
   "source": [
    "qcf.QCCurrencyEnum.CLP"
   ],
   "id": "eed3b52b99a76495",
   "outputs": [
    {
     "data": {
      "text/plain": [
       "<QCCurrencyEnum.CLP: 6>"
      ]
     },
     "execution_count": 64,
     "metadata": {},
     "output_type": "execute_result"
    }
   ],
   "execution_count": 64
  },
  {
   "cell_type": "code",
   "metadata": {
    "collapsed": false,
    "editable": true,
    "execution": {
     "iopub.status.busy": "2024-07-08T16:42:46.757601Z",
     "iopub.status.idle": "2024-07-08T16:42:46.758065Z",
     "shell.execute_reply": "2024-07-08T16:42:46.757892Z",
     "shell.execute_reply.started": "2024-07-08T16:42:46.757869Z"
    },
    "jupyter": {
     "outputs_hidden": false
    },
    "slideshow": {
     "slide_type": "fragment"
    },
    "tags": [],
    "ExecuteTime": {
     "end_time": "2025-08-25T16:04:28.879333Z",
     "start_time": "2025-08-25T16:04:28.876964Z"
    }
   },
   "source": [
    "qcf.QCCurrencyEnum.USD"
   ],
   "id": "eb7d83f7b10e24aa",
   "outputs": [
    {
     "data": {
      "text/plain": [
       "<QCCurrencyEnum.USD: 18>"
      ]
     },
     "execution_count": 65,
     "metadata": {},
     "output_type": "execute_result"
    }
   ],
   "execution_count": 65
  },
  {
   "cell_type": "markdown",
   "metadata": {
    "editable": true,
    "slideshow": {
     "slide_type": "slide"
    },
    "tags": []
   },
   "source": [
    "#### Enum para FXRates"
   ],
   "id": "1d0c6ef622b45983"
  },
  {
   "cell_type": "code",
   "metadata": {
    "editable": true,
    "execution": {
     "iopub.status.busy": "2024-07-08T16:42:46.759300Z",
     "iopub.status.idle": "2024-07-08T16:42:46.759733Z",
     "shell.execute_reply": "2024-07-08T16:42:46.759615Z",
     "shell.execute_reply.started": "2024-07-08T16:42:46.759604Z"
    },
    "slideshow": {
     "slide_type": "fragment"
    },
    "tags": [],
    "ExecuteTime": {
     "end_time": "2025-08-25T16:04:28.894827Z",
     "start_time": "2025-08-25T16:04:28.892820Z"
    }
   },
   "source": [
    "qcf.QCFxRateEnum.USDCLP"
   ],
   "id": "c67211a36624633b",
   "outputs": [
    {
     "data": {
      "text/plain": [
       "<QCFxRateEnum.USDCLP: 15>"
      ]
     },
     "execution_count": 66,
     "metadata": {},
     "output_type": "execute_result"
    }
   ],
   "execution_count": 66
  },
  {
   "cell_type": "code",
   "metadata": {
    "collapsed": false,
    "editable": true,
    "execution": {
     "iopub.status.busy": "2024-07-08T16:42:46.760806Z",
     "iopub.status.idle": "2024-07-08T16:42:46.761230Z",
     "shell.execute_reply": "2024-07-08T16:42:46.761028Z",
     "shell.execute_reply.started": "2024-07-08T16:42:46.760998Z"
    },
    "jupyter": {
     "outputs_hidden": false
    },
    "slideshow": {
     "slide_type": "fragment"
    },
    "tags": [],
    "ExecuteTime": {
     "end_time": "2025-08-25T16:04:28.926006Z",
     "start_time": "2025-08-25T16:04:28.923862Z"
    }
   },
   "source": [
    "qcf.QCFxRateEnum.EURUSD"
   ],
   "id": "18f14152a305d3d6",
   "outputs": [
    {
     "data": {
      "text/plain": [
       "<QCFxRateEnum.EURUSD: 31>"
      ]
     },
     "execution_count": 67,
     "metadata": {},
     "output_type": "execute_result"
    }
   ],
   "execution_count": 67
  },
  {
   "cell_type": "markdown",
   "metadata": {
    "editable": true,
    "slideshow": {
     "slide_type": "slide"
    },
    "tags": []
   },
   "source": [
    "Con estos `enum` el segundo conjunto de argumentos para el método `convert` es:\n",
    "\n",
    "- float: que representa el monto en una divisa a convertir,\n",
    "- QCCurrencyEnum: que representa la divisa del monto anterior\n",
    "- float: que representa el valor del tipo de cambio a utilizar en la convención de mercado del par\n",
    "- QCFxRateEnum: que representa el par de monedas entre las cuales se realiza la conversión"
   ],
   "id": "682245f1ec063333"
  },
  {
   "cell_type": "markdown",
   "metadata": {
    "editable": true,
    "slideshow": {
     "slide_type": "slide"
    },
    "tags": []
   },
   "source": [
    "Por ejemplo:"
   ],
   "id": "3cda1a6958b2c8af"
  },
  {
   "cell_type": "code",
   "metadata": {
    "editable": true,
    "execution": {
     "iopub.status.busy": "2024-07-08T16:42:46.762390Z",
     "iopub.status.idle": "2024-07-08T16:42:46.762716Z",
     "shell.execute_reply": "2024-07-08T16:42:46.762592Z",
     "shell.execute_reply.started": "2024-07-08T16:42:46.762579Z"
    },
    "slideshow": {
     "slide_type": "fragment"
    },
    "tags": [],
    "ExecuteTime": {
     "end_time": "2025-08-25T16:04:28.955343Z",
     "start_time": "2025-08-25T16:04:28.953291Z"
    }
   },
   "source": [
    "print(f'Monto en USD: {ccy_converter.convert(monto_clp, qcf.QCCurrencyEnum.CLP, 900, qcf.QCFxRateEnum.USDCLP):,.0f}')\n",
    "print(f'Monto en CLP: {ccy_converter.convert(monto_usd, qcf.QCCurrencyEnum.USD, 900, qcf.QCFxRateEnum.USDCLP):,.0f}')"
   ],
   "id": "7ff9f453208cae69",
   "outputs": [
    {
     "name": "stdout",
     "output_type": "stream",
     "text": [
      "Monto en USD: 1,000,000\n",
      "Monto en CLP: 900,000,000\n"
     ]
    }
   ],
   "execution_count": 68
  },
  {
   "cell_type": "markdown",
   "metadata": {
    "editable": true,
    "execution": {
     "iopub.execute_input": "2024-05-26T15:12:28.240823Z",
     "iopub.status.busy": "2024-05-26T15:12:28.240443Z",
     "iopub.status.idle": "2024-05-26T15:12:28.281519Z",
     "shell.execute_reply": "2024-05-26T15:12:28.280077Z",
     "shell.execute_reply.started": "2024-05-26T15:12:28.240792Z"
    },
    "slideshow": {
     "slide_type": "slide"
    },
    "tags": []
   },
   "source": [
    "Las divisas disponibles en `QCCurrencyEnum` son las mismas que en `QCCurrency`:"
   ],
   "id": "630cf3b626ba62c8"
  },
  {
   "cell_type": "code",
   "metadata": {
    "editable": true,
    "execution": {
     "iopub.status.busy": "2024-07-08T16:42:46.763843Z",
     "iopub.status.idle": "2024-07-08T16:42:46.764260Z",
     "shell.execute_reply": "2024-07-08T16:42:46.764104Z",
     "shell.execute_reply.started": "2024-07-08T16:42:46.764090Z"
    },
    "slideshow": {
     "slide_type": "fragment"
    },
    "tags": [],
    "ExecuteTime": {
     "end_time": "2025-08-25T16:04:28.979826Z",
     "start_time": "2025-08-25T16:04:28.977014Z"
    }
   },
   "source": [
    "qcf.QCCurrencyEnum.AUD"
   ],
   "id": "12ebf44198d052e4",
   "outputs": [
    {
     "data": {
      "text/plain": [
       "<QCCurrencyEnum.AUD: 0>"
      ]
     },
     "execution_count": 69,
     "metadata": {},
     "output_type": "execute_result"
    }
   ],
   "execution_count": 69
  },
  {
   "cell_type": "code",
   "metadata": {
    "editable": true,
    "execution": {
     "iopub.status.busy": "2024-07-08T16:42:46.765385Z",
     "iopub.status.idle": "2024-07-08T16:42:46.765844Z",
     "shell.execute_reply": "2024-07-08T16:42:46.765688Z",
     "shell.execute_reply.started": "2024-07-08T16:42:46.765658Z"
    },
    "slideshow": {
     "slide_type": "fragment"
    },
    "tags": [],
    "ExecuteTime": {
     "end_time": "2025-08-25T16:04:29.003052Z",
     "start_time": "2025-08-25T16:04:29.001166Z"
    }
   },
   "source": [
    "qcf.QCCurrencyEnum.BRL"
   ],
   "id": "b43a3bc5d49716f5",
   "outputs": [
    {
     "data": {
      "text/plain": [
       "<QCCurrencyEnum.BRL: 1>"
      ]
     },
     "execution_count": 70,
     "metadata": {},
     "output_type": "execute_result"
    }
   ],
   "execution_count": 70
  },
  {
   "cell_type": "code",
   "metadata": {
    "editable": true,
    "execution": {
     "iopub.status.busy": "2024-07-08T16:42:46.767112Z",
     "iopub.status.idle": "2024-07-08T16:42:46.767565Z",
     "shell.execute_reply": "2024-07-08T16:42:46.767391Z",
     "shell.execute_reply.started": "2024-07-08T16:42:46.767377Z"
    },
    "slideshow": {
     "slide_type": "fragment"
    },
    "tags": [],
    "ExecuteTime": {
     "end_time": "2025-08-25T16:04:29.026714Z",
     "start_time": "2025-08-25T16:04:29.024572Z"
    }
   },
   "source": [
    "qcf.QCCurrencyEnum.PEN"
   ],
   "id": "21e30a4b8c95fa08",
   "outputs": [
    {
     "data": {
      "text/plain": [
       "<QCCurrencyEnum.PEN: 16>"
      ]
     },
     "execution_count": 71,
     "metadata": {},
     "output_type": "execute_result"
    }
   ],
   "execution_count": 71
  },
  {
   "cell_type": "markdown",
   "metadata": {
    "editable": true,
    "slideshow": {
     "slide_type": "slide"
    },
    "tags": []
   },
   "source": [
    "Los pares de divisas en `QCFxRateEnum` son los pares de las divisas versus el USD (en su convención de mercado) y las divisas versus CLP, que aunque no son pares líquidos, son útiles cuando se quiere expresar montos en cualquier divisa en CLP."
   ],
   "id": "42628316b88e746c"
  },
  {
   "cell_type": "code",
   "metadata": {
    "editable": true,
    "execution": {
     "iopub.status.busy": "2024-07-08T16:42:46.769111Z",
     "iopub.status.idle": "2024-07-08T16:42:46.769570Z",
     "shell.execute_reply": "2024-07-08T16:42:46.769417Z",
     "shell.execute_reply.started": "2024-07-08T16:42:46.769402Z"
    },
    "slideshow": {
     "slide_type": "fragment"
    },
    "tags": [],
    "ExecuteTime": {
     "end_time": "2025-08-25T16:04:29.047671Z",
     "start_time": "2025-08-25T16:04:29.045693Z"
    }
   },
   "source": [
    "qcf.QCFxRateEnum.USDCLP"
   ],
   "id": "92e01074fc387e8c",
   "outputs": [
    {
     "data": {
      "text/plain": [
       "<QCFxRateEnum.USDCLP: 15>"
      ]
     },
     "execution_count": 72,
     "metadata": {},
     "output_type": "execute_result"
    }
   ],
   "execution_count": 72
  },
  {
   "cell_type": "code",
   "metadata": {
    "collapsed": false,
    "editable": true,
    "execution": {
     "iopub.status.busy": "2024-07-08T16:42:46.770952Z",
     "iopub.status.idle": "2024-07-08T16:42:46.771852Z",
     "shell.execute_reply": "2024-07-08T16:42:46.771646Z",
     "shell.execute_reply.started": "2024-07-08T16:42:46.771615Z"
    },
    "jupyter": {
     "outputs_hidden": false
    },
    "slideshow": {
     "slide_type": "fragment"
    },
    "tags": [],
    "ExecuteTime": {
     "end_time": "2025-08-25T16:04:29.070768Z",
     "start_time": "2025-08-25T16:04:29.068632Z"
    }
   },
   "source": [
    "qcf.QCFxRateEnum.EURUSD"
   ],
   "id": "fa6821019649416e",
   "outputs": [
    {
     "data": {
      "text/plain": [
       "<QCFxRateEnum.EURUSD: 31>"
      ]
     },
     "execution_count": 73,
     "metadata": {},
     "output_type": "execute_result"
    }
   ],
   "execution_count": 73
  },
  {
   "cell_type": "code",
   "metadata": {
    "editable": true,
    "execution": {
     "iopub.status.busy": "2024-07-08T16:42:46.772792Z",
     "iopub.status.idle": "2024-07-08T16:42:46.773353Z",
     "shell.execute_reply": "2024-07-08T16:42:46.773145Z",
     "shell.execute_reply.started": "2024-07-08T16:42:46.773133Z"
    },
    "slideshow": {
     "slide_type": "fragment"
    },
    "tags": [],
    "ExecuteTime": {
     "end_time": "2025-08-25T16:04:29.089735Z",
     "start_time": "2025-08-25T16:04:29.087975Z"
    }
   },
   "source": [
    "qcf.QCFxRateEnum.EURCLP"
   ],
   "id": "6eadee8a08e8e990",
   "outputs": [
    {
     "data": {
      "text/plain": [
       "<QCFxRateEnum.EURCLP: 32>"
      ]
     },
     "execution_count": 74,
     "metadata": {},
     "output_type": "execute_result"
    }
   ],
   "execution_count": 74
  },
  {
   "cell_type": "markdown",
   "metadata": {
    "editable": true,
    "slideshow": {
     "slide_type": "slide"
    },
    "tags": []
   },
   "source": [
    "## Time Series"
   ],
   "id": "c0f75b620a0c55f2"
  },
  {
   "cell_type": "markdown",
   "metadata": {
    "editable": true,
    "slideshow": {
     "slide_type": "fragment"
    },
    "tags": []
   },
   "source": [
    "Este es un objeto que permite almacenar series de tiempo financieras y se utilizarán más adelante en el fixing y valorización de flujos de caja de tasa de interés. Su estructura interna es muy similar a la de un objeto `dict[datetime.date, float]` en Python, sólo se debe reemplazar la `key` del `dict` por un objeto de tipo `QCCDate`."
   ],
   "id": "22c9cc707eb5a75e"
  },
  {
   "cell_type": "markdown",
   "metadata": {
    "editable": true,
    "slideshow": {
     "slide_type": "slide"
    },
    "tags": []
   },
   "source": [
    "### Ejemplo"
   ],
   "id": "d5d0aa0f07beed89"
  },
  {
   "cell_type": "code",
   "metadata": {
    "editable": true,
    "execution": {
     "iopub.status.busy": "2024-07-08T16:42:46.774939Z",
     "iopub.status.idle": "2024-07-08T16:42:46.775384Z",
     "shell.execute_reply": "2024-07-08T16:42:46.775269Z",
     "shell.execute_reply.started": "2024-07-08T16:42:46.775257Z"
    },
    "slideshow": {
     "slide_type": "fragment"
    },
    "tags": [],
    "ExecuteTime": {
     "end_time": "2025-08-25T16:04:29.109156Z",
     "start_time": "2025-08-25T16:04:29.107014Z"
    }
   },
   "source": [
    "ts = qcf.time_series()\n",
    "ts[fecha1] = 10.0"
   ],
   "id": "6cd120cb8f39e9e9",
   "outputs": [],
   "execution_count": 75
  },
  {
   "cell_type": "code",
   "metadata": {
    "editable": true,
    "execution": {
     "iopub.status.busy": "2024-07-08T16:42:46.776605Z",
     "iopub.status.idle": "2024-07-08T16:42:46.777206Z",
     "shell.execute_reply": "2024-07-08T16:42:46.776963Z",
     "shell.execute_reply.started": "2024-07-08T16:42:46.776932Z"
    },
    "slideshow": {
     "slide_type": "fragment"
    },
    "tags": [],
    "ExecuteTime": {
     "end_time": "2025-08-25T16:04:29.137265Z",
     "start_time": "2025-08-25T16:04:29.135325Z"
    }
   },
   "source": [
    "type(ts)"
   ],
   "id": "5d8edbd8d91d2f4",
   "outputs": [
    {
     "data": {
      "text/plain": [
       "qcfinancial.time_series"
      ]
     },
     "execution_count": 76,
     "metadata": {},
     "output_type": "execute_result"
    }
   ],
   "execution_count": 76
  },
  {
   "cell_type": "code",
   "metadata": {
    "editable": true,
    "execution": {
     "iopub.status.busy": "2024-07-08T16:42:46.779299Z",
     "iopub.status.idle": "2024-07-08T16:42:46.780232Z",
     "shell.execute_reply": "2024-07-08T16:42:46.779987Z",
     "shell.execute_reply.started": "2024-07-08T16:42:46.779939Z"
    },
    "slideshow": {
     "slide_type": "fragment"
    },
    "tags": [],
    "ExecuteTime": {
     "end_time": "2025-08-25T16:04:29.157239Z",
     "start_time": "2025-08-25T16:04:29.155063Z"
    }
   },
   "source": [
    "ts[fecha1]"
   ],
   "id": "4aad48402c6d4238",
   "outputs": [
    {
     "data": {
      "text/plain": [
       "10.0"
      ]
     },
     "execution_count": 77,
     "metadata": {},
     "output_type": "execute_result"
    }
   ],
   "execution_count": 77
  },
  {
   "cell_type": "code",
   "metadata": {
    "editable": true,
    "execution": {
     "iopub.status.busy": "2024-07-08T16:42:46.781986Z",
     "iopub.status.idle": "2024-07-08T16:42:46.782597Z",
     "shell.execute_reply": "2024-07-08T16:42:46.782425Z",
     "shell.execute_reply.started": "2024-07-08T16:42:46.782392Z"
    },
    "slideshow": {
     "slide_type": "fragment"
    },
    "tags": [],
    "ExecuteTime": {
     "end_time": "2025-08-25T16:04:29.178553Z",
     "start_time": "2025-08-25T16:04:29.176539Z"
    }
   },
   "source": [
    "for k, v in ts.items():\n",
    "    print(k, v)"
   ],
   "id": "e5817b3c052063df",
   "outputs": [
    {
     "name": "stdout",
     "output_type": "stream",
     "text": [
      "2024-10-17 10.0\n"
     ]
    }
   ],
   "execution_count": 78
  }
 ],
 "metadata": {
  "hide_input": false,
  "kernelspec": {
   "display_name": "Python 3 (ipykernel)",
   "language": "python",
   "name": "python3"
  },
  "language_info": {
   "codemirror_mode": {
    "name": "ipython",
    "version": 3
   },
   "file_extension": ".py",
   "mimetype": "text/x-python",
   "name": "python",
   "nbconvert_exporter": "python",
   "pygments_lexer": "ipython3",
   "version": "3.11.5"
  },
  "toc": {
   "base_numbering": 1,
   "nav_menu": {},
   "number_sections": true,
   "sideBar": true,
   "skip_h1_title": true,
   "title_cell": "Table of Contents",
   "title_sidebar": "Contenido",
   "toc_cell": false,
   "toc_position": {
    "height": "675.455px",
    "left": "284px",
    "top": "282.284px",
    "width": "235px"
   },
   "toc_section_display": true,
   "toc_window_display": true
  },
  "varInspector": {
   "cols": {
    "lenName": 16,
    "lenType": 16,
    "lenVar": 40
   },
   "kernels_config": {
    "python": {
     "delete_cmd_postfix": "",
     "delete_cmd_prefix": "del ",
     "library": "var_list.py",
     "varRefreshCmd": "print(var_dic_list())"
    },
    "r": {
     "delete_cmd_postfix": ") ",
     "delete_cmd_prefix": "rm(",
     "library": "var_list.r",
     "varRefreshCmd": "cat(var_dic_list()) "
    }
   },
   "types_to_exclude": [
    "module",
    "function",
    "builtin_function_or_method",
    "instance",
    "_Feature"
   ],
   "window_display": false
  }
 },
 "nbformat": 4,
 "nbformat_minor": 4
}
