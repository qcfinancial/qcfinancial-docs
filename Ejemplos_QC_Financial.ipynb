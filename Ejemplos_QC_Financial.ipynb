{
 "cells": [
  {
   "cell_type": "markdown",
   "metadata": {},
   "source": [
    "# Uso de QC_Financial (Parte 1)"
   ]
  },
  {
   "cell_type": "markdown",
   "metadata": {},
   "source": [
    "Se importa la librería compilada para Python3."
   ]
  },
  {
   "cell_type": "code",
   "execution_count": 1,
   "metadata": {
    "ExecuteTime": {
     "end_time": "2022-01-09T13:12:36.596586Z",
     "start_time": "2022-01-09T13:12:36.583584Z"
    }
   },
   "outputs": [],
   "source": [
    "import QC_Financial_3 as Qcf"
   ]
  },
  {
   "cell_type": "markdown",
   "metadata": {},
   "source": [
    "## Monedas"
   ]
  },
  {
   "cell_type": "markdown",
   "metadata": {},
   "source": [
    "Objetos para representar una divisa. En estos momentos sólo las siguientes divisas están implementadas:\n",
    "\n",
    "- BRL\n",
    "- CAD\n",
    "- CLF (esta es una representación del índice de inflación chileno UF como divisa)\n",
    "- CLP\n",
    "- EUR\n",
    "- GBP\n",
    "- JPY\n",
    "- MXN\n",
    "- USD\n",
    "\n",
    "Si se requiere otra, solicitarlo ingresando un *issue* en el [git repo](https://github.com/adiaz-efaa/derivative-valuation-engine) del proyecto."
   ]
  },
  {
   "cell_type": "markdown",
   "metadata": {},
   "source": [
    "El constructor por default retorna USD."
   ]
  },
  {
   "cell_type": "code",
   "execution_count": 2,
   "metadata": {
    "ExecuteTime": {
     "end_time": "2022-01-09T13:12:36.612595Z",
     "start_time": "2022-01-09T13:12:36.598587Z"
    }
   },
   "outputs": [
    {
     "data": {
      "text/plain": [
       "'USD'"
      ]
     },
     "execution_count": 2,
     "metadata": {},
     "output_type": "execute_result"
    }
   ],
   "source": [
    "x = Qcf.QCCurrency()\n",
    "x.get_iso_code()"
   ]
  },
  {
   "cell_type": "markdown",
   "metadata": {},
   "source": [
    "Alta de divisas CLP, USD y JPY (USD se puede instanciar también de forma explícita)."
   ]
  },
  {
   "cell_type": "code",
   "execution_count": 3,
   "metadata": {
    "ExecuteTime": {
     "end_time": "2022-01-09T13:12:36.628593Z",
     "start_time": "2022-01-09T13:12:36.614584Z"
    }
   },
   "outputs": [],
   "source": [
    "clp = Qcf.QCCLP()\n",
    "usd = Qcf.QCUSD()\n",
    "jpy = Qcf.QCJPY()\n",
    "monedas = [clp, usd, jpy]"
   ]
  },
  {
   "cell_type": "markdown",
   "metadata": {},
   "source": [
    "### Métodos: `get_name`, `get_iso_code`, `get_iso_number`, `get_decimal_places` y `amount`."
   ]
  },
  {
   "cell_type": "markdown",
   "metadata": {},
   "source": [
    "El método `amount`debe utilizarse cuando se debe pagar o recibir un monto resultado de un cálculo. De esta forma, el monto se redondea al número correcto de decimales en la divisa (que se obtiene con `get_decimal_places`). Por ejemplo, en CLP, se redondea a 0 decimales ya que en esta divisa no se utilizan los centavos."
   ]
  },
  {
   "cell_type": "code",
   "execution_count": 4,
   "metadata": {
    "ExecuteTime": {
     "end_time": "2022-01-09T13:12:36.644603Z",
     "start_time": "2022-01-09T13:12:36.630600Z"
    }
   },
   "outputs": [
    {
     "name": "stdout",
     "output_type": "stream",
     "text": [
      "Nombre: Chilean Peso\n",
      "Código ISO: CLP\n",
      "Número ISO: 152\n",
      "Número de decimales: 0\n",
      "Cantidad 100.123456 con el número correcto de decimales: 100.0\n",
      "\n",
      "Nombre: U. S. Dollar\n",
      "Código ISO: USD\n",
      "Número ISO: 840\n",
      "Número de decimales: 2\n",
      "Cantidad 100.123456 con el número correcto de decimales: 100.12\n",
      "\n",
      "Nombre: Japanese Yen\n",
      "Código ISO: JPY\n",
      "Número ISO: 392\n",
      "Número de decimales: 2\n",
      "Cantidad 100.123456 con el número correcto de decimales: 100.12\n",
      "\n"
     ]
    }
   ],
   "source": [
    "cantidad = 100.123456\n",
    "for moneda in monedas:\n",
    "    print(\"Nombre: {}\".format(moneda.get_name()))\n",
    "    print(\"Código ISO: {}\".format(moneda.get_iso_code()))\n",
    "    print(\"Número ISO: {}\".format(moneda.get_iso_number()))\n",
    "    print(\"Número de decimales: {}\".format(moneda.get_decimal_places()))\n",
    "    print(\"Cantidad {} con el número correcto de decimales: {}\".format(cantidad, moneda.amount(100.123456)))\n",
    "    print()"
   ]
  },
  {
   "cell_type": "markdown",
   "metadata": {},
   "source": [
    "## Fechas\n",
    "Las fechas se representan con objetos de tipo QCDate. Para inicializar un QCDate se requiere el día, el mes y el año de la fecha.  También se puede inicializar sin valor (default constructor) en cuyo caso se obtendrá el 12-1-1969."
   ]
  },
  {
   "cell_type": "markdown",
   "metadata": {},
   "source": [
    "### Constructores"
   ]
  },
  {
   "cell_type": "markdown",
   "metadata": {},
   "source": [
    "Inicializar sin valor. Se muestra además el método `description()`."
   ]
  },
  {
   "cell_type": "code",
   "execution_count": 5,
   "metadata": {
    "ExecuteTime": {
     "end_time": "2022-01-09T13:12:36.660607Z",
     "start_time": "2022-01-09T13:12:36.646598Z"
    }
   },
   "outputs": [
    {
     "name": "stdout",
     "output_type": "stream",
     "text": [
      "12-01-1969\n",
      "1969-01-12\n"
     ]
    }
   ],
   "source": [
    "fecha = Qcf.QCDate()\n",
    "print(fecha.description(True))\n",
    "print(fecha.description(False))"
   ]
  },
  {
   "cell_type": "markdown",
   "metadata": {},
   "source": [
    "Inicializar con una fecha específica. En este caso, el contructor realiza una validación de los parámetros iniciales."
   ]
  },
  {
   "cell_type": "code",
   "execution_count": 6,
   "metadata": {
    "ExecuteTime": {
     "end_time": "2022-01-09T13:12:36.676610Z",
     "start_time": "2022-01-09T13:12:36.662589Z"
    }
   },
   "outputs": [
    {
     "name": "stdout",
     "output_type": "stream",
     "text": [
      "Método description: 14-09-2018\n",
      "Print de Python: 14-9-2018\n"
     ]
    }
   ],
   "source": [
    "fecha1= Qcf.QCDate(14, 9, 2018) # día, mes, año\n",
    "print(\"Método description: {}\".format(fecha1.description(True)))\n",
    "print(\"Print de Python: {}\".format(fecha1))"
   ]
  },
  {
   "cell_type": "markdown",
   "metadata": {},
   "source": [
    "Error al tratar de construir una fecha inválida."
   ]
  },
  {
   "cell_type": "code",
   "execution_count": 7,
   "metadata": {
    "ExecuteTime": {
     "end_time": "2022-01-09T13:12:36.692608Z",
     "start_time": "2022-01-09T13:12:36.677610Z"
    }
   },
   "outputs": [
    {
     "name": "stdout",
     "output_type": "stream",
     "text": [
      "Invalid day for month = 2\n"
     ]
    }
   ],
   "source": [
    "try:\n",
    "    fecha0 = Qcf.QCDate(31, 2, 2018) # ¡¡¡ 31 de febrero !!!\n",
    "except ValueError as e:\n",
    "    print(e)"
   ]
  },
  {
   "cell_type": "markdown",
   "metadata": {},
   "source": [
    "### Getters y Setters"
   ]
  },
  {
   "cell_type": "code",
   "execution_count": 8,
   "metadata": {
    "ExecuteTime": {
     "end_time": "2022-01-09T13:12:36.708618Z",
     "start_time": "2022-01-09T13:12:36.694608Z"
    }
   },
   "outputs": [
    {
     "name": "stdout",
     "output_type": "stream",
     "text": [
      "Fecha: 17-10-2019\n"
     ]
    }
   ],
   "source": [
    "# Métodos: set_day, set_month, set_year\n",
    "fecha1.set_day(17)\n",
    "fecha1.set_month(10)\n",
    "fecha1.set_year(2019)\n",
    "print(\"Fecha: {}\".format(fecha1.description(True)))"
   ]
  },
  {
   "cell_type": "code",
   "execution_count": 9,
   "metadata": {
    "ExecuteTime": {
     "end_time": "2022-01-09T13:12:36.724615Z",
     "start_time": "2022-01-09T13:12:36.710612Z"
    }
   },
   "outputs": [
    {
     "name": "stdout",
     "output_type": "stream",
     "text": [
      "Día: 17\n",
      "Mes: 10\n",
      "Año: 2019\n"
     ]
    }
   ],
   "source": [
    "# Métodos day, month, year, weekday\n",
    "print(\"Día: {}\".format(fecha1.day()))\n",
    "print(\"Mes: {}\".format(fecha1.month()))\n",
    "print(\"Año: {}\".format(fecha1.year()))"
   ]
  },
  {
   "cell_type": "markdown",
   "metadata": {},
   "source": [
    "### Método `week_day`"
   ]
  },
  {
   "cell_type": "markdown",
   "metadata": {},
   "source": [
    "Retorna una variable de tipo `enum QC_Financial.WeekDay` que representa el día de la semana que corresponde a la fecha."
   ]
  },
  {
   "cell_type": "code",
   "execution_count": 10,
   "metadata": {
    "ExecuteTime": {
     "end_time": "2022-01-09T13:12:36.740624Z",
     "start_time": "2022-01-09T13:12:36.726616Z"
    }
   },
   "outputs": [
    {
     "name": "stdout",
     "output_type": "stream",
     "text": [
      "Tipo del retorno: <class 'QC_Financial_3.WeekDay'>\n",
      "Día de la semana: THU\n"
     ]
    }
   ],
   "source": [
    "dia_semana = fecha1.week_day() \n",
    "print(\"Tipo del retorno: {}\".format(type(dia_semana)))\n",
    "print(\"Día de la semana: {}\".format(dia_semana))"
   ]
  },
  {
   "cell_type": "markdown",
   "metadata": {},
   "source": [
    "### Método `add_months`"
   ]
  },
  {
   "cell_type": "markdown",
   "metadata": {},
   "source": [
    "Suma **n meses** a `fecha1` y retorna esa nueva fecha sin cambiar el valor de `fecha1`."
   ]
  },
  {
   "cell_type": "code",
   "execution_count": 11,
   "metadata": {
    "ExecuteTime": {
     "end_time": "2022-01-09T13:12:36.756623Z",
     "start_time": "2022-01-09T13:12:36.742613Z"
    }
   },
   "outputs": [
    {
     "name": "stdout",
     "output_type": "stream",
     "text": [
      "fecha1: 17-10-2019\n",
      "fecha2: 17-11-2019\n"
     ]
    }
   ],
   "source": [
    "num_meses = 1\n",
    "fecha2 = fecha1.add_months(num_meses)\n",
    "print(\"fecha1: {}\".format(fecha1.description(True)))\n",
    "print(\"fecha2: {}\".format(fecha2.description(True)))"
   ]
  },
  {
   "cell_type": "markdown",
   "metadata": {},
   "source": [
    "### Método `add_days`"
   ]
  },
  {
   "cell_type": "markdown",
   "metadata": {},
   "source": [
    "Suma **n días** a `fecha1` sin cambiar el valor de `fecha1`."
   ]
  },
  {
   "cell_type": "code",
   "execution_count": 12,
   "metadata": {
    "ExecuteTime": {
     "end_time": "2022-01-09T13:12:36.772626Z",
     "start_time": "2022-01-09T13:12:36.758619Z"
    }
   },
   "outputs": [
    {
     "name": "stdout",
     "output_type": "stream",
     "text": [
      "fecha1: 17-10-2019\n",
      "fecha3: 16-11-2019\n"
     ]
    }
   ],
   "source": [
    "num_dias = 30\n",
    "fecha3 = fecha1.add_days(num_dias)\n",
    "print(\"fecha1: {}\".format(fecha1.description(True)))\n",
    "print(\"fecha3: {}\".format(fecha3.description(True)))"
   ]
  },
  {
   "cell_type": "markdown",
   "metadata": {},
   "source": [
    "### Método `day_dif`"
   ]
  },
  {
   "cell_type": "markdown",
   "metadata": {},
   "source": [
    "Calcula la diferencia en días con otra fecha. Si la otra fecha es mayor el resultado es positivo, si no, es negativo."
   ]
  },
  {
   "cell_type": "code",
   "execution_count": 13,
   "metadata": {
    "ExecuteTime": {
     "end_time": "2022-01-09T13:12:36.788635Z",
     "start_time": "2022-01-09T13:12:36.774613Z"
    }
   },
   "outputs": [
    {
     "name": "stdout",
     "output_type": "stream",
     "text": [
      "fecha1.day_diff(fecha3): 30 (días)\n",
      "fecha3.day_diff(fecha1): -30 (días)\n"
     ]
    }
   ],
   "source": [
    "# Dado que fecha3 > fecha1 entonces el resultado es positivo\n",
    "print(\"fecha1.day_diff(fecha3): {} (días)\".format(fecha1.day_diff(fecha3)))\n",
    "\n",
    "# Se invierten los roles y el resultado es negativo\n",
    "print(\"fecha3.day_diff(fecha1): {} (días)\".format(fecha3.day_diff(fecha1)))"
   ]
  },
  {
   "cell_type": "markdown",
   "metadata": {},
   "source": [
    "### Orden en `QCDate`"
   ]
  },
  {
   "cell_type": "markdown",
   "metadata": {},
   "source": [
    "El orden de `QCDate` permite que las fechas pueden compararse entre si."
   ]
  },
  {
   "cell_type": "code",
   "execution_count": 14,
   "metadata": {
    "ExecuteTime": {
     "end_time": "2022-01-09T13:12:36.804639Z",
     "start_time": "2022-01-09T13:12:36.789630Z"
    }
   },
   "outputs": [
    {
     "name": "stdout",
     "output_type": "stream",
     "text": [
      "fecha1: 17-10-2019\n",
      "fecha2: 17-11-2019\n",
      "fecha1 == fecha2: False\n",
      "fecha1 != fecha2: True\n",
      "fecha1 < fecha2: True\n",
      "fecha1 <= fecha2: True\n",
      "fecha1 > fecha2: False\n",
      "fecha1 >= fecha2: False\n"
     ]
    }
   ],
   "source": [
    "print(\"fecha1: {}\".format(fecha1))\n",
    "print(\"fecha2: {}\".format(fecha2))\n",
    "print(\"fecha1 == fecha2: {}\".format(fecha1 == fecha2))\n",
    "print(\"fecha1 != fecha2: {}\".format(fecha1 != fecha2))\n",
    "print(\"fecha1 < fecha2: {}\".format(fecha1 < fecha2))\n",
    "print(\"fecha1 <= fecha2: {}\".format(fecha1 <= fecha2))\n",
    "print(\"fecha1 > fecha2: {}\".format(fecha1 > fecha2))\n",
    "print(\"fecha1 >= fecha2: {}\".format(fecha1 >= fecha2))"
   ]
  },
  {
   "cell_type": "markdown",
   "metadata": {},
   "source": [
    "### Un objeto `QCDate` es *hashable*"
   ]
  },
  {
   "cell_type": "markdown",
   "metadata": {},
   "source": [
    "Esto permite que las fechas puedan usarse como `key` en un `dict`de Python. El hash que se utiliza coincide con la representación como entero de uan fecha que se utiliza en Excel."
   ]
  },
  {
   "cell_type": "code",
   "execution_count": 15,
   "metadata": {
    "ExecuteTime": {
     "end_time": "2022-01-09T13:12:36.820643Z",
     "start_time": "2022-01-09T13:12:36.806627Z"
    }
   },
   "outputs": [
    {
     "name": "stdout",
     "output_type": "stream",
     "text": [
      "43755\n"
     ]
    }
   ],
   "source": [
    "print(fecha1.__hash__())"
   ]
  },
  {
   "cell_type": "markdown",
   "metadata": {},
   "source": [
    "### Método `build_qcdate_from_string`"
   ]
  },
  {
   "cell_type": "markdown",
   "metadata": {},
   "source": [
    "Se trata de un *factory method* que permite inicializar un objeto `QCDate` a partir de un `string`.\n",
    "El formato del `string` debe ser yyyy&mm&dd donde & es un separador arbitrario."
   ]
  },
  {
   "cell_type": "code",
   "execution_count": 16,
   "metadata": {
    "ExecuteTime": {
     "end_time": "2022-01-09T13:12:36.836646Z",
     "start_time": "2022-01-09T13:12:36.822623Z"
    }
   },
   "outputs": [
    {
     "name": "stdout",
     "output_type": "stream",
     "text": [
      "2020-01-01: 2020-01-01\n",
      "2020/01/02: 2020-01-02\n",
      "2020&01&03: 2020-01-03\n"
     ]
    }
   ],
   "source": [
    "str1 = '2020-01-01'\n",
    "str2 = '2020/01/02'\n",
    "str3 = '2020&01&03'\n",
    "\n",
    "fecha4 = Qcf.build_qcdate_from_string(str1)\n",
    "print((str1 + \": {}\").format(fecha4.description(False)))\n",
    "\n",
    "fecha4 = Qcf.build_qcdate_from_string(str2)\n",
    "print((str2 + \": {}\").format(fecha4.description(False)))\n",
    "\n",
    "fecha4 = Qcf.build_qcdate_from_string(str3)\n",
    "print((str3 + \": {}\").format(fecha4.description(False)))"
   ]
  },
  {
   "cell_type": "markdown",
   "metadata": {},
   "source": [
    "## Calendarios\n",
    "Los calendarios se representan con objetos de tipo `BusinesssCalendar` y son **listas** de fechas arbitrarias que representan días feriados en alguna ciudad, país, región o unión de las anteriores. Para dar de alta un calendario se requiere una fecha inicial (`QCDate` y un número entero positivo que representa el plazo inicial total del calendario en años). El objeto `BusinessCalendar` incluye explícitamente todos los días 1 de enero y considera siempre como feriado los días sábado y domingo (aunque no pertenecen de forma explícita a la **lista**).   "
   ]
  },
  {
   "cell_type": "code",
   "execution_count": 17,
   "metadata": {
    "ExecuteTime": {
     "end_time": "2022-01-09T13:12:36.852650Z",
     "start_time": "2022-01-09T13:12:36.838627Z"
    }
   },
   "outputs": [
    {
     "name": "stdout",
     "output_type": "stream",
     "text": [
      "1-1-2019\n",
      "1-1-2020\n",
      "1-1-2021\n",
      "1-1-2022\n",
      "1-1-2023\n",
      "1-1-2024\n",
      "1-1-2025\n",
      "1-1-2026\n",
      "1-1-2027\n",
      "1-1-2028\n",
      "1-1-2029\n"
     ]
    }
   ],
   "source": [
    "scl = Qcf.BusinessCalendar(fecha1, 10)\n",
    "for holiday in scl.get_holidays():\n",
    "    print(holiday)"
   ]
  },
  {
   "cell_type": "code",
   "execution_count": 18,
   "metadata": {
    "ExecuteTime": {
     "end_time": "2022-01-09T13:12:36.868641Z",
     "start_time": "2022-01-09T13:12:36.854644Z"
    }
   },
   "outputs": [
    {
     "name": "stdout",
     "output_type": "stream",
     "text": [
      "2-1-2018\n",
      "1-1-2019\n",
      "1-1-2020\n",
      "1-1-2021\n",
      "1-1-2022\n",
      "1-1-2023\n",
      "1-1-2024\n",
      "1-1-2025\n",
      "1-1-2026\n",
      "1-1-2027\n",
      "1-1-2028\n",
      "1-1-2029\n"
     ]
    }
   ],
   "source": [
    "# Método add_holiday. Agrega una fecha a la lista.\n",
    "scl.add_holiday(Qcf.QCDate(2, 1, 2018))\n",
    "for holiday in scl.get_holidays():\n",
    "    print(holiday)"
   ]
  },
  {
   "cell_type": "code",
   "execution_count": 19,
   "metadata": {
    "ExecuteTime": {
     "end_time": "2022-01-09T13:12:36.884644Z",
     "start_time": "2022-01-09T13:12:36.870634Z"
    }
   },
   "outputs": [
    {
     "name": "stdout",
     "output_type": "stream",
     "text": [
      "next: 17-9-2018\n",
      "Se agrega el 17-9-2018 a la lista\n",
      "nuevo next: 18-9-2018\n"
     ]
    }
   ],
   "source": [
    "# Método next_busy_day. Dada una fecha, si ésta es hábil retorna la misma fecha,\n",
    "## si, por el contrario, la fecha es inhábil, devuelve la siguiente fecha hábil del calendario.\n",
    "print('next:', scl.next_busy_day(Qcf.QCDate(15, 9, 2018))) # es sábado\n",
    "print('Se agrega el 17-9-2018 a la lista')\n",
    "scl.add_holiday(Qcf.QCDate(17, 9, 2018))\n",
    "print('nuevo next:', scl.next_busy_day(Qcf.QCDate(15, 9, 2018)))"
   ]
  },
  {
   "cell_type": "code",
   "execution_count": 20,
   "metadata": {
    "ExecuteTime": {
     "end_time": "2022-01-09T13:12:36.900654Z",
     "start_time": "2022-01-09T13:12:36.885646Z"
    }
   },
   "outputs": [
    {
     "name": "stdout",
     "output_type": "stream",
     "text": [
      "fecha: 2018-04-30\n",
      "next: 1-5-2018\n",
      "mod next: 27-4-2018\n",
      "abril30: 30-4-2018\n"
     ]
    }
   ],
   "source": [
    "# Método mod_next_busy_day. Opera igual que la función anterior a menos que la función anterior retorne una fecha\n",
    "# del mes siguiente, en ese caso retorna la fecha hábil anterior.\n",
    "print('fecha: 2018-04-30')\n",
    "abril30 = Qcf.QCDate(30, 4, 2018)\n",
    "scl.add_holiday(abril30)\n",
    "print('next:', scl.next_busy_day(abril30))\n",
    "print('mod next:', scl.mod_next_busy_day(Qcf.QCDate(30, 4, 2018)))\n",
    "print('abril30:', abril30)"
   ]
  },
  {
   "cell_type": "code",
   "execution_count": 21,
   "metadata": {
    "ExecuteTime": {
     "end_time": "2022-01-09T13:12:36.916647Z",
     "start_time": "2022-01-09T13:12:36.901649Z"
    }
   },
   "outputs": [
    {
     "name": "stdout",
     "output_type": "stream",
     "text": [
      "prev: 27-4-2018\n"
     ]
    }
   ],
   "source": [
    "# Método prev_busy_day. Opera de forma análoga a mod_busy_day, pero retornando la fecha hábil anterior.\n",
    "print('prev:', scl.prev_busy_day(abril30))"
   ]
  },
  {
   "cell_type": "code",
   "execution_count": 22,
   "metadata": {
    "ExecuteTime": {
     "end_time": "2022-01-09T13:12:36.932648Z",
     "start_time": "2022-01-09T13:12:36.917659Z"
    }
   },
   "outputs": [
    {
     "name": "stdout",
     "output_type": "stream",
     "text": [
      "1-5-2018\n",
      "30-4-2018\n",
      "1-5-2018\n",
      "7-5-2018\n"
     ]
    }
   ],
   "source": [
    "# Método shift. Suma un número n de días hábiles a una fecha.\n",
    "mayo2 = Qcf.QCDate(2, 5, 2018)\n",
    "print(scl.shift(mayo2, -1))\n",
    "print(scl.shift(abril30, 0))\n",
    "print(scl.shift(abril30, 1))\n",
    "print(scl.shift(abril30, 5))"
   ]
  },
  {
   "cell_type": "markdown",
   "metadata": {
    "heading_collapsed": true
   },
   "source": [
    "## Fracciones de Año"
   ]
  },
  {
   "cell_type": "code",
   "execution_count": 23,
   "metadata": {
    "ExecuteTime": {
     "end_time": "2022-01-09T13:12:36.948672Z",
     "start_time": "2022-01-09T13:12:36.934656Z"
    },
    "hidden": true
   },
   "outputs": [],
   "source": [
    "# Existen Act/360, Act/365, 30/360 y Act/30\n",
    "act360 = Qcf.QCAct360()\n",
    "act365 = Qcf.QCAct365()\n",
    "t30360 = Qcf.QC30360()\n",
    "act30 = Qcf.QCAct30()\n",
    "yfs = [act360, act365, t30360, act30]"
   ]
  },
  {
   "cell_type": "code",
   "execution_count": 24,
   "metadata": {
    "ExecuteTime": {
     "end_time": "2022-01-09T13:12:36.964674Z",
     "start_time": "2022-01-09T13:12:36.952660Z"
    },
    "hidden": true
   },
   "outputs": [
    {
     "name": "stdout",
     "output_type": "stream",
     "text": [
      "0.08333333333333333\n",
      "0.08333333333333333\n",
      "30\n",
      "\n",
      "0.0821917808219178\n",
      "0.0821917808219178\n",
      "30\n",
      "\n",
      "0.08333333333333333\n",
      "0.08055555555555556\n",
      "29\n",
      "\n",
      "1.0\n",
      "1.0\n",
      "30\n",
      "\n"
     ]
    }
   ],
   "source": [
    "# Métodos yf (sobrecargado) y count_days\n",
    "for yf in yfs:\n",
    "    print(yf.yf(30))\n",
    "    print(yf.yf(fecha1, fecha3))\n",
    "    print(yf.count_days(fecha1, fecha3))\n",
    "    print()"
   ]
  },
  {
   "cell_type": "markdown",
   "metadata": {
    "heading_collapsed": true
   },
   "source": [
    "## Factores de Capitalización"
   ]
  },
  {
   "cell_type": "code",
   "execution_count": 25,
   "metadata": {
    "ExecuteTime": {
     "end_time": "2022-01-09T13:12:36.980679Z",
     "start_time": "2022-01-09T13:12:36.966656Z"
    },
    "hidden": true
   },
   "outputs": [],
   "source": [
    "# Existen: (yf es la fracción de año asociada a la tasa de valor r)\n",
    "#    QCLinearWf     ---> (1 + r * yf)\n",
    "#    QCCompundWf    ---> (1 + r)**yf\n",
    "#    QCContinousWf  ---> exp(r * yf)\n",
    "lin_wf = Qcf.QCLinearWf()\n",
    "com_wf = Qcf.QCCompoundWf()\n",
    "exp_wf = Qcf.QCContinousWf()"
   ]
  },
  {
   "cell_type": "markdown",
   "metadata": {},
   "source": [
    "## Tasas de Interés"
   ]
  },
  {
   "cell_type": "code",
   "execution_count": 26,
   "metadata": {
    "ExecuteTime": {
     "end_time": "2022-01-09T13:12:36.996676Z",
     "start_time": "2022-01-09T13:12:36.982662Z"
    }
   },
   "outputs": [],
   "source": [
    "# Dar de alta una tasa de interés\n",
    "tasa_lin_act360 = Qcf.QCInterestRate(.1, act360, lin_wf)\n",
    "tasa_com_act365 = Qcf.QCInterestRate(.1, act365, com_wf)\n",
    "tasas = [tasa_lin_act360, tasa_com_act365]"
   ]
  },
  {
   "cell_type": "code",
   "execution_count": 27,
   "metadata": {
    "ExecuteTime": {
     "end_time": "2022-01-09T13:12:37.012685Z",
     "start_time": "2022-01-09T13:12:36.998663Z"
    }
   },
   "outputs": [
    {
     "name": "stdout",
     "output_type": "stream",
     "text": [
      "get 0.1\n",
      "get nuevo valor 0.12\n",
      "wf 1.01\n",
      "dwf 0.08333333333333333\n",
      "wf1 1.1216666666666666\n",
      "dwf1 1.0138888888888888\n",
      "\n",
      "get 0.1\n",
      "get nuevo valor 0.12\n",
      "wf 1.0093582031654136\n",
      "dwf 0.07407227518337182\n",
      "wf1 1.12\n",
      "dwf1 1.0\n",
      "\n"
     ]
    }
   ],
   "source": [
    "# Métodos get_value, set_value, wf (sobrecargado), dwf (sobrecargado)\n",
    "for tasa in tasas:\n",
    "    print('get', tasa.get_value())\n",
    "    tasa.set_value(.12)\n",
    "    print('get nuevo valor', tasa.get_value())\n",
    "    print('wf', tasa.wf(fecha1, fecha3))    # Retorna el factor de capitalización entre las fechas\n",
    "    print('dwf', tasa.dwf(fecha1, fecha3))  # Retorna la derivada del factor de capitalización respecto al valor de la tasa\n",
    "                                            # entre las fechas\n",
    "    print('wf1', tasa.wf(365)  )            # Retorna el factor de capitalización para el número de días\n",
    "    print('dwf1', tasa.dwf(365))            # Retorna la derivada del factor de capitalización respecto al valor de la tasa\n",
    "                                            # para el número de días\n",
    "    print()"
   ]
  },
  {
   "cell_type": "code",
   "execution_count": 28,
   "metadata": {
    "ExecuteTime": {
     "end_time": "2022-01-09T13:12:37.028684Z",
     "start_time": "2022-01-09T13:12:37.014666Z"
    }
   },
   "outputs": [
    {
     "data": {
      "text/plain": [
       "-0.03600000000000003"
      ]
     },
     "execution_count": 28,
     "metadata": {},
     "output_type": "execute_result"
    }
   ],
   "source": [
    "tasa_lin_act360.get_rate_from_wf(.99, 100)"
   ]
  },
  {
   "cell_type": "markdown",
   "metadata": {},
   "source": [
    "### Tenor\n",
    "Es una clase que representa el concepto de tenor (1D, 1M, 1Y ...)."
   ]
  },
  {
   "cell_type": "code",
   "execution_count": 29,
   "metadata": {
    "ExecuteTime": {
     "end_time": "2022-01-09T13:12:37.044680Z",
     "start_time": "2022-01-09T13:12:37.030679Z"
    }
   },
   "outputs": [],
   "source": [
    "# Ejemplo de Tenor\n",
    "one_d = Qcf.Tenor('1d')\n",
    "one_m = Qcf.Tenor('1M')\n",
    "one_y = Qcf.Tenor('1y')\n",
    "t1d1m1y = Qcf.Tenor('1D1M1Y')\n",
    "t2Y3M = Qcf.Tenor('2yadv3m')\n",
    "tenors = [one_d, one_m, one_y, t1d1m1y, t2Y3M]"
   ]
  },
  {
   "cell_type": "code",
   "execution_count": 30,
   "metadata": {
    "ExecuteTime": {
     "end_time": "2022-01-09T13:12:37.060684Z",
     "start_time": "2022-01-09T13:12:37.045693Z"
    }
   },
   "outputs": [
    {
     "name": "stdout",
     "output_type": "stream",
     "text": [
      "string: 1D\n",
      "dias: 1\n",
      "meses: 0\n",
      "años: 0\n",
      "\n",
      "string: 1M\n",
      "dias: 0\n",
      "meses: 1\n",
      "años: 0\n",
      "\n",
      "string: 1Y\n",
      "dias: 0\n",
      "meses: 0\n",
      "años: 1\n",
      "\n",
      "string: 1Y1M1D\n",
      "dias: 1\n",
      "meses: 1\n",
      "años: 1\n",
      "\n",
      "string: 2Y3M\n",
      "dias: 0\n",
      "meses: 3\n",
      "años: 2\n",
      "\n",
      "32Y1M\n"
     ]
    }
   ],
   "source": [
    "# Métodos get_string, get_years, get_months, get_years\n",
    "for tenor in tenors:\n",
    "    print('string:', tenor.get_string())\n",
    "    print('dias:', tenor.get_days())\n",
    "    print('meses:', tenor.get_months())\n",
    "    print('años:', tenor.get_years())\n",
    "    print()\n",
    "\n",
    "# Método set_tenor\n",
    "t2Y3M.set_tenor('1m32y')\n",
    "print(t2Y3M.get_string())"
   ]
  },
  {
   "cell_type": "markdown",
   "metadata": {
    "heading_collapsed": true
   },
   "source": [
    "## FX Rate\n",
    "Es una clase que representa el concepto de tipo de cambio entre dos monedas. Para dar de alta un FXRate se requiere:\n",
    "\n",
    "- QCCurrency: la moneda fuerte del par.\n",
    "- QCCurrency: la moneda débl del par."
   ]
  },
  {
   "cell_type": "code",
   "execution_count": 31,
   "metadata": {
    "ExecuteTime": {
     "end_time": "2022-01-09T13:12:37.076700Z",
     "start_time": "2022-01-09T13:12:37.062697Z"
    },
    "hidden": true
   },
   "outputs": [
    {
     "name": "stdout",
     "output_type": "stream",
     "text": [
      "código: USDCLP\n"
     ]
    }
   ],
   "source": [
    "# Ejemplo. USDCLP. Método get_code. Se retorna el código del par según la convención usual.\n",
    "usdclp = Qcf.FXRate(usd, clp)\n",
    "print('código:', usdclp.get_code())"
   ]
  },
  {
   "cell_type": "markdown",
   "metadata": {},
   "source": [
    "## Índices\n",
    "Todo índice pertenece a un asset class. Los distintos asset class se representan con un el enum AssetClass. Los asset class disponibles son:\n",
    "\n",
    "- InterestRate\n",
    "- InterestRateVol\n",
    "- Fx\n",
    "- FxVol\n",
    "- Equity\n",
    "- EquityVol\n",
    "- Commodity\n",
    "- CommodityVol\n",
    "- Credit\n",
    "- CreditVol"
   ]
  },
  {
   "cell_type": "code",
   "execution_count": 32,
   "metadata": {
    "ExecuteTime": {
     "end_time": "2022-01-09T13:12:37.092697Z",
     "start_time": "2022-01-09T13:12:37.078681Z"
    }
   },
   "outputs": [
    {
     "name": "stdout",
     "output_type": "stream",
     "text": [
      "InterestRate\n",
      "Fx\n"
     ]
    }
   ],
   "source": [
    "# AssetClass. Existen\n",
    "print(Qcf.AssetClass.InterestRate)\n",
    "print(Qcf.AssetClass.Fx)"
   ]
  },
  {
   "cell_type": "markdown",
   "metadata": {},
   "source": [
    "Para dar de alta un FXRateIndex se requiere:\n",
    "\n",
    "- `FXRate`: el FXRate correspoondiente.\n",
    "- `str`: nombre del índice\n",
    "- `Tenor`: la regla de fixing, es 1D como el USD Observado o es 0D como un ínidce de cierre de día.\n",
    "- `Tenor`: la regla para la valuta. Es 1D como el USDCLP o 2D como el EURUSD.\n",
    "- `BusinessCalendar`: el calendario adecuado para aplicar las reglas de fixing y valuta.\n"
   ]
  },
  {
   "cell_type": "code",
   "execution_count": 33,
   "metadata": {
    "ExecuteTime": {
     "end_time": "2022-01-09T13:12:37.108707Z",
     "start_time": "2022-01-09T13:12:37.094684Z"
    }
   },
   "outputs": [
    {
     "name": "stdout",
     "output_type": "stream",
     "text": [
      "fecha de publicación: THU 17-10-2019\n",
      "fecha de fixing: 16-10-2019\n",
      "fecha de valuta: 17-10-2019\n"
     ]
    }
   ],
   "source": [
    "# Ejemplo.\n",
    "usdclp_obs = Qcf.FXRateIndex(usdclp, 'USDOBS', one_d, one_d, scl)\n",
    "print('fecha de publicación:', fecha1.week_day(), fecha1)\n",
    "print('fecha de fixing:', usdclp_obs.fixing_date(fecha1))\n",
    "print('fecha de valuta:', usdclp_obs.value_date(fecha1))"
   ]
  },
  {
   "cell_type": "code",
   "execution_count": 34,
   "metadata": {
    "ExecuteTime": {
     "end_time": "2022-01-09T13:12:37.124705Z",
     "start_time": "2022-01-09T13:12:37.109708Z"
    }
   },
   "outputs": [
    {
     "data": {
      "text/plain": [
       "700000.0"
      ]
     },
     "execution_count": 34,
     "metadata": {},
     "output_type": "execute_result"
    }
   ],
   "source": [
    "usdclp_obs.convert(1000, Qcf.QCUSD(), 700)"
   ]
  },
  {
   "cell_type": "markdown",
   "metadata": {},
   "source": [
    "## Cashflows"
   ]
  },
  {
   "cell_type": "markdown",
   "metadata": {},
   "source": [
    "### Simple Cashflow\n",
    "Un objeto de tipo `SimpleCashflow` representa un flujo de caja cierto en una fecha y moneda."
   ]
  },
  {
   "cell_type": "code",
   "execution_count": 35,
   "metadata": {
    "ExecuteTime": {
     "end_time": "2022-01-09T13:12:37.140708Z",
     "start_time": "2022-01-09T13:12:37.127700Z"
    }
   },
   "outputs": [],
   "source": [
    "# Como se inicializa un objeto SimpleCashflow.\n",
    "simple_cashflow = Qcf.SimpleCashflow(fecha1,  # fecha del flujo\n",
    "                                     100,     # monto\n",
    "                                     clp)     # moneda"
   ]
  },
  {
   "cell_type": "code",
   "execution_count": 36,
   "metadata": {
    "ExecuteTime": {
     "end_time": "2022-01-09T13:12:37.156718Z",
     "start_time": "2022-01-09T13:12:37.142709Z"
    }
   },
   "outputs": [
    {
     "name": "stdout",
     "output_type": "stream",
     "text": [
      "100.0\n",
      "CLP\n",
      "17-10-2019\n"
     ]
    }
   ],
   "source": [
    "# Métodos amount, ccy y date\n",
    "print(simple_cashflow.amount())\n",
    "print(simple_cashflow.ccy().get_iso_code())\n",
    "print(simple_cashflow.date())"
   ]
  },
  {
   "cell_type": "code",
   "execution_count": 37,
   "metadata": {
    "ExecuteTime": {
     "end_time": "2022-01-09T13:12:37.172721Z",
     "start_time": "2022-01-09T13:12:37.158713Z"
    }
   },
   "outputs": [
    {
     "name": "stdout",
     "output_type": "stream",
     "text": [
      "('2019-10-17', 100.0, 'CLP')\n"
     ]
    }
   ],
   "source": [
    "# Función show. Envuelve de forma cómoda todo el flujo en una tupla.\n",
    "# La función show está sobregargada y admite muchos tipos de flujo.\n",
    "print(Qcf.show(simple_cashflow))"
   ]
  },
  {
   "cell_type": "code",
   "execution_count": 38,
   "metadata": {
    "ExecuteTime": {
     "end_time": "2022-01-09T13:12:37.188725Z",
     "start_time": "2022-01-09T13:12:37.174722Z"
    }
   },
   "outputs": [
    {
     "name": "stdout",
     "output_type": "stream",
     "text": [
      "10.0\n"
     ]
    }
   ],
   "source": [
    "ts = Qcf.time_series()\n",
    "ts[fecha1] = 10.0\n",
    "quanto_simple_cashflow = Qcf.QuantoCashflow(simple_cashflow, usdclp_obs, ts, fecha1)\n",
    "print(quanto_simple_cashflow.amount())"
   ]
  },
  {
   "cell_type": "code",
   "execution_count": 39,
   "metadata": {
    "ExecuteTime": {
     "end_time": "2022-01-09T13:12:37.204729Z",
     "start_time": "2022-01-09T13:12:37.189719Z"
    }
   },
   "outputs": [],
   "source": [
    "quanto_simple_cashflow_2 = Qcf.QuantoCashflow(quanto_simple_cashflow, usdclp_obs, ts, fecha1)"
   ]
  },
  {
   "cell_type": "code",
   "execution_count": 40,
   "metadata": {
    "ExecuteTime": {
     "end_time": "2022-01-09T13:12:37.220847Z",
     "start_time": "2022-01-09T13:12:37.206723Z"
    }
   },
   "outputs": [
    {
     "name": "stdout",
     "output_type": "stream",
     "text": [
      "100.0\n"
     ]
    }
   ],
   "source": [
    "print(quanto_simple_cashflow_2.amount())"
   ]
  },
  {
   "cell_type": "markdown",
   "metadata": {},
   "source": [
    "### Simple Multicurrency Cashflow\n",
    "Un objeto de tipo `SimpleMultiCurrencyCashflow` representa un flujo de caja cierto en una fecha y moneda, que, sin embargo, se liquidará en una segunda moneda utilizando el valor de un índice de tipo de cambio. Para dar de alta uno de estos objetos se requiere:\n",
    "\n",
    "- `QCDate`: fecha final\n",
    "- `float`: nominal\n",
    "- `QCCurrency`: la moneda del nominal\n",
    "- `QCDate`: la fecha de publicación del `FXRateIndex` que se usará en la conversión\n",
    "- `QCCurrency`: la moneda final del flujo\n",
    "- `FXRateIndex`: el índice de tipo de cambio a utilizar\n",
    "- `float`: el valor del índice de tipo de cambio"
   ]
  },
  {
   "cell_type": "code",
   "execution_count": 41,
   "metadata": {
    "ExecuteTime": {
     "end_time": "2022-01-09T13:12:37.236169Z",
     "start_time": "2022-01-09T13:12:37.222727Z"
    }
   },
   "outputs": [
    {
     "name": "stdout",
     "output_type": "stream",
     "text": [
      "fecha flujo: 16-11-2019\n",
      "nominal: 700.0\n",
      "moneda nominal: CLP\n",
      "flujo: 1.0\n",
      "moneda flujo: USD\n"
     ]
    }
   ],
   "source": [
    "# Ejemplo.\n",
    "simple_mccy_cashflow = Qcf.SimpleMultiCurrencyCashflow(fecha3,\n",
    "                                                      700.00,\n",
    "                                                      clp,\n",
    "                                                      fecha3,\n",
    "                                                      usd,\n",
    "                                                      usdclp_obs,\n",
    "                                                      700.00)\n",
    "print('fecha flujo:', simple_mccy_cashflow.date())\n",
    "print('nominal:', simple_mccy_cashflow.nominal())\n",
    "print('moneda nominal:', simple_mccy_cashflow.ccy().get_iso_code())\n",
    "print('flujo:', simple_mccy_cashflow.amount())\n",
    "print('moneda flujo:', simple_mccy_cashflow.settlement_ccy().get_iso_code())"
   ]
  },
  {
   "cell_type": "code",
   "execution_count": 42,
   "metadata": {
    "ExecuteTime": {
     "end_time": "2022-01-09T13:12:37.252161Z",
     "start_time": "2022-01-09T13:12:37.238149Z"
    }
   },
   "outputs": [
    {
     "name": "stdout",
     "output_type": "stream",
     "text": [
      "flujo: 0.875\n"
     ]
    }
   ],
   "source": [
    "# El valor del índice se puede alterar (existe un setter).\n",
    "simple_mccy_cashflow.set_fx_rate_index_value(800.00)\n",
    "print('flujo:', simple_mccy_cashflow.amount())"
   ]
  },
  {
   "cell_type": "code",
   "execution_count": 43,
   "metadata": {
    "ExecuteTime": {
     "end_time": "2022-01-09T13:12:37.268163Z",
     "start_time": "2022-01-09T13:12:37.254162Z"
    }
   },
   "outputs": [
    {
     "name": "stdout",
     "output_type": "stream",
     "text": [
      "fecha flujo: 16-11-2019\n",
      "nominal: 1.0\n",
      "moneda nominal: USD\n",
      "flujo: 700.0\n",
      "moneda flujo: CLP\n"
     ]
    }
   ],
   "source": [
    "# Ejemplo 2. Las monedas están invertidas respecto al caso anterior. El valor del índice se usa de la forma correcta.\n",
    "simple_mccy_cashflow = Qcf.SimpleMultiCurrencyCashflow(fecha3,\n",
    "                                                       1,\n",
    "                                                       usd,\n",
    "                                                       fecha3,\n",
    "                                                       clp,\n",
    "                                                       usdclp_obs,\n",
    "                                                       700.00)\n",
    "print('fecha flujo:', simple_mccy_cashflow.date())\n",
    "print('nominal:', simple_mccy_cashflow.nominal())\n",
    "print('moneda nominal:', simple_mccy_cashflow.ccy().get_iso_code())\n",
    "print('flujo:', simple_mccy_cashflow.amount())\n",
    "print('moneda flujo:', simple_mccy_cashflow.settlement_ccy().get_iso_code())"
   ]
  },
  {
   "cell_type": "code",
   "execution_count": 44,
   "metadata": {
    "ExecuteTime": {
     "end_time": "2022-01-09T13:12:37.284167Z",
     "start_time": "2022-01-09T13:12:37.270175Z"
    }
   },
   "outputs": [
    {
     "name": "stdout",
     "output_type": "stream",
     "text": [
      "Error: Fx Rate Index provided is not compatible with nominal and settlement currency. \n"
     ]
    }
   ],
   "source": [
    "# Ejemplo 3. Hay inconsistencia entre las monedas y el tipo de cambio del índice.\n",
    "eur = Qcf.QCEUR()\n",
    "try:\n",
    "    simple_mccy_cashflow = Qcf.SimpleMultiCurrencyCashflow(fecha3,\n",
    "                                                           1,\n",
    "                                                           usd,\n",
    "                                                           fecha3,\n",
    "                                                           eur,\n",
    "                                                           usdclp_obs,\n",
    "                                                           700.00)\n",
    "except ValueError as e:\n",
    "    print('Error:', e)"
   ]
  },
  {
   "cell_type": "code",
   "execution_count": 45,
   "metadata": {
    "ExecuteTime": {
     "end_time": "2022-01-09T13:12:37.300182Z",
     "start_time": "2022-01-09T13:12:37.285163Z"
    }
   },
   "outputs": [
    {
     "data": {
      "text/plain": [
       "('2019-11-16', 1.0, 'USD', '2019-11-16', 'CLP', 'USDOBS', 700.0, 700.0)"
      ]
     },
     "execution_count": 45,
     "metadata": {},
     "output_type": "execute_result"
    }
   ],
   "source": [
    "# Función show\n",
    "Qcf.show(simple_mccy_cashflow)"
   ]
  },
  {
   "cell_type": "markdown",
   "metadata": {},
   "source": [
    "### Fixed Rate Cashflow\n",
    "Un objeto de tipo `FixedRateCashflow` representa un flujo de caja calculado a partir de la aplicación de una tasa prefijada, entre dos fechas prefijadas a un nominal prefijado. Para dar de alta uno de estos objetos se requiere:\n",
    "\n",
    "- `QCDate`: fecha inicio (para la aplicación de la tasa)\n",
    "- `QCDate`: fecha final (para la aplicación de la tasa)\n",
    "- `QCDate`: fecha de pago\n",
    "- `float`: nominal (monto al que se le aplica la tasa)\n",
    "- `float`: amortización (eventual flujo de caja que corresponde a una porción del nominal)\n",
    "- `bool`: indica si la amortización anterior es un flujo de caja o sólo una disminución de nominal\n",
    "- `QCInterestRate`: la tasa de interés a aplicar (su valor y convenciones)\n",
    "- `QCCurrency`: moneda del nominal y del flujo de caja"
   ]
  },
  {
   "cell_type": "code",
   "execution_count": 46,
   "metadata": {
    "ExecuteTime": {
     "end_time": "2022-01-09T13:12:37.316168Z",
     "start_time": "2022-01-09T13:12:37.303167Z"
    }
   },
   "outputs": [],
   "source": [
    "# Ejemplo\n",
    "fecha_inicio = Qcf.QCDate(20, 9, 2018)\n",
    "fecha_final = Qcf.QCDate(20, 9, 2019)\n",
    "fecha_pago = Qcf.QCDate(23, 9, 2019)\n",
    "tasa = Qcf.QCInterestRate(.1, act360, lin_wf)\n",
    "fixed_rate_cashflow = Qcf.FixedRateCashflow(fecha_inicio,\n",
    "                                            fecha_final,\n",
    "                                            fecha_pago,\n",
    "                                            1000000000.0,\n",
    "                                            100000000.0,\n",
    "                                            True,\n",
    "                                            tasa,\n",
    "                                            clp)"
   ]
  },
  {
   "cell_type": "code",
   "execution_count": 47,
   "metadata": {
    "ExecuteTime": {
     "end_time": "2022-01-09T13:12:37.331178Z",
     "start_time": "2022-01-09T13:12:37.318181Z"
    }
   },
   "outputs": [
    {
     "name": "stdout",
     "output_type": "stream",
     "text": [
      "Fecha Inicio: 20-9-2018\n",
      "Fecha Final: 20-9-2019\n",
      "Fecha Pago: 23-9-2019\n",
      "Moneda: CLP\n",
      "Nominal: 1000000000.0\n",
      "Amortización: 100000000.0\n"
     ]
    }
   ],
   "source": [
    "# Getters\n",
    "print(\"Fecha Inicio:\", fixed_rate_cashflow.get_start_date())\n",
    "print(\"Fecha Final:\", fixed_rate_cashflow.get_end_date())\n",
    "print(\"Fecha Pago:\", fixed_rate_cashflow.get_settlement_date())\n",
    "print(\"Moneda:\", fixed_rate_cashflow.ccy().get_iso_code())\n",
    "print(\"Nominal:\", fixed_rate_cashflow.get_nominal())\n",
    "print(\"Amortización:\", fixed_rate_cashflow.get_amortization())"
   ]
  },
  {
   "cell_type": "code",
   "execution_count": 48,
   "metadata": {
    "ExecuteTime": {
     "end_time": "2022-01-09T13:12:37.347193Z",
     "start_time": "2022-01-09T13:12:37.333190Z"
    }
   },
   "outputs": [
    {
     "name": "stdout",
     "output_type": "stream",
     "text": [
      "Nuevo nominal: 2000000000.0\n",
      "Nueva amortización: 200000000.0\n"
     ]
    }
   ],
   "source": [
    "# Setters\n",
    "# TODO: set_rate\n",
    "nuevo_nominal = 2000000000.0\n",
    "fixed_rate_cashflow.set_nominal(nuevo_nominal)\n",
    "print(\"Nuevo nominal:\", fixed_rate_cashflow.get_nominal())\n",
    "\n",
    "nueva_amortizacion = 200000000.0\n",
    "fixed_rate_cashflow.set_amortization(nueva_amortizacion)\n",
    "print(\"Nueva amortización:\", fixed_rate_cashflow.get_amortization())"
   ]
  },
  {
   "cell_type": "code",
   "execution_count": 49,
   "metadata": {
    "ExecuteTime": {
     "end_time": "2022-01-09T13:12:37.363197Z",
     "start_time": "2022-01-09T13:12:37.350178Z"
    }
   },
   "outputs": [
    {
     "name": "stdout",
     "output_type": "stream",
     "text": [
      "Flujo Total: 402777777.7777779\n",
      "Check: 402777777.7777778\n",
      "\n",
      "Interés Devengado: 57777777.777777925\n",
      "Check: 57777777.777777776\n"
     ]
    }
   ],
   "source": [
    "# Cálculos\n",
    "print(\"Flujo Total:\", fixed_rate_cashflow.amount())\n",
    "print(\"Check:\", fixed_rate_cashflow.get_nominal() * .1 * 365.0/360 + fixed_rate_cashflow.get_amortization())\n",
    "print()\n",
    "fecha_intermedia = Qcf.QCDate(2, 1, 2019)\n",
    "print(\"Interés Devengado:\", fixed_rate_cashflow.accrued_interest(fecha_intermedia))\n",
    "print(\"Check:\",  fixed_rate_cashflow.get_nominal() * .1 * fecha_inicio.day_diff(fecha_intermedia) /360.0)"
   ]
  },
  {
   "cell_type": "code",
   "execution_count": 50,
   "metadata": {
    "ExecuteTime": {
     "end_time": "2022-01-09T13:12:37.378471Z",
     "start_time": "2022-01-09T13:12:37.365178Z"
    }
   },
   "outputs": [
    {
     "name": "stdout",
     "output_type": "stream",
     "text": [
      "('2018-09-20', '2019-09-20', '2019-09-23', 2000000000.0, 200000000.0, 202777777.77777794, True, 402777777.7777779, 'CLP', 0.1, 'LinAct360')\n"
     ]
    }
   ],
   "source": [
    "# Función show\n",
    "print(Qcf.show(fixed_rate_cashflow))"
   ]
  },
  {
   "cell_type": "code",
   "execution_count": 51,
   "metadata": {
    "ExecuteTime": {
     "end_time": "2022-01-09T13:12:37.394479Z",
     "start_time": "2022-01-09T13:12:37.380460Z"
    }
   },
   "outputs": [
    {
     "data": {
      "text/plain": [
       "202777777.77777794"
      ]
     },
     "execution_count": 51,
     "metadata": {},
     "output_type": "execute_result"
    }
   ],
   "source": [
    "fixed_rate_cashflow.accrued_interest(fixed_rate_cashflow.get_end_date())"
   ]
  },
  {
   "cell_type": "markdown",
   "metadata": {},
   "source": [
    "### Fixed Rate Cashflow 2\n",
    "Un objeto de tipo `FixedRateCashflow2` representa un flujo de caja calculado a partir de la aplicación de una tasa prefijada, entre dos fechas prefijadas a un nominal prefijado. Este tipo de cashflow puede ser *quantizado*, es decir, se puede cambiar su moneda de pago componiéndolo con un objeto adicional. Para dar de alta uno de estos objetos se requiere:\n",
    "\n",
    "- `QCDate`: fecha inicio (para la aplicación de la tasa)\n",
    "- `QCDate`: fecha final (para la aplicación de la tasa)\n",
    "- `QCDate`: fecha de pago\n",
    "- `float`: nominal (monto al que se le aplica la tasa)\n",
    "- `float`: amortización (eventual flujo de caja que corresponde a una porción del nominal)\n",
    "- `bool`: indica si la amortización anterior es un flujo de caja o sólo una disminución de nominal\n",
    "- `QCInterestRate`: la tasa de interés a aplicar (su valor y convenciones)\n",
    "- `QCCurrency`: moneda del nominal y del flujo de caja"
   ]
  },
  {
   "cell_type": "code",
   "execution_count": 52,
   "metadata": {
    "ExecuteTime": {
     "end_time": "2022-01-09T13:12:37.410478Z",
     "start_time": "2022-01-09T13:12:37.396463Z"
    }
   },
   "outputs": [],
   "source": [
    "# Ejemplo\n",
    "fecha_inicio = Qcf.QCDate(20, 9, 2018)\n",
    "fecha_final = Qcf.QCDate(20, 9, 2019)\n",
    "fecha_pago = Qcf.QCDate(23, 9, 2019)\n",
    "tasa = Qcf.QCInterestRate(.1, act360, lin_wf)\n",
    "fixed_rate_cashflow_2 = Qcf.FixedRateCashflow2(\n",
    "    fecha_inicio,\n",
    "    fecha_final,\n",
    "    fecha_pago,\n",
    "    1000000000.0,\n",
    "    100000000.0,\n",
    "    True,\n",
    "    tasa,\n",
    "    clp)"
   ]
  },
  {
   "cell_type": "code",
   "execution_count": 53,
   "metadata": {
    "ExecuteTime": {
     "end_time": "2022-01-09T13:12:37.426482Z",
     "start_time": "2022-01-09T13:12:37.412467Z"
    }
   },
   "outputs": [
    {
     "data": {
      "text/plain": [
       "0.1"
      ]
     },
     "execution_count": 53,
     "metadata": {},
     "output_type": "execute_result"
    }
   ],
   "source": [
    "fixed_rate_cashflow_2.accrued_fixing(fecha_inicio)"
   ]
  },
  {
   "cell_type": "code",
   "execution_count": 54,
   "metadata": {
    "ExecuteTime": {
     "end_time": "2022-01-09T13:12:37.442486Z",
     "start_time": "2022-01-09T13:12:37.428470Z"
    }
   },
   "outputs": [
    {
     "name": "stdout",
     "output_type": "stream",
     "text": [
      "amount: 201388888.88888896\n",
      "currency: CLP\n",
      "date: 23-9-2019\n",
      "start date: 20-9-2018\n",
      "end date: 20-9-2019\n",
      "settlement date: 23-9-2019\n",
      "fixing dates:\n",
      "\t 20-9-2018\n",
      "nominal: 1000000000.0\n",
      "amortization: 100000000.0\n",
      "interest (1st overload): 101388888.88888897\n",
      "interest (2nd overload): 101388888.88888897\n",
      "fixing (1st overload): 0.1\n",
      "fixing (2nd overload): 0.1\n",
      "accrued interest (1st overload): 50277777.777777866\n",
      "accrued interest (2nd overload): 50277777.777777866\n",
      "accrued fixing (1st overload): 0.1\n",
      "accrued fixing (2nd overload): 0.1\n"
     ]
    }
   ],
   "source": [
    "print(\"amount:\", fixed_rate_cashflow_2.amount())\n",
    "print(\"currency:\", fixed_rate_cashflow_2.ccy().get_iso_code())\n",
    "print(\"date:\", fixed_rate_cashflow_2.date())\n",
    "print(\"start date:\", fixed_rate_cashflow_2.get_start_date())\n",
    "print(\"end date:\", fixed_rate_cashflow_2.get_end_date())\n",
    "print(\"settlement date:\", fixed_rate_cashflow_2.get_settlement_date())\n",
    "print(\"fixing dates:\")\n",
    "for f in fixed_rate_cashflow_2.get_fixing_dates():\n",
    "    print(\"\\t\", f)\n",
    "print(\"nominal:\", fixed_rate_cashflow_2.get_nominal())\n",
    "print(\"amortization:\", fixed_rate_cashflow_2.get_amortization())\n",
    "print(\"interest (1st overload):\", fixed_rate_cashflow_2.interest())\n",
    "ts = Qcf.time_series()\n",
    "print(\"interest (2nd overload):\", fixed_rate_cashflow_2.interest(ts))\n",
    "print(\"fixing (1st overload):\", fixed_rate_cashflow_2.fixing())\n",
    "print(\"fixing (2nd overload):\", fixed_rate_cashflow_2.fixing(ts))\n",
    "fecha_intermedia = Qcf.QCDate(20, 3, 2019)\n",
    "print(\"accrued interest (1st overload):\", fixed_rate_cashflow_2.accrued_interest(fecha_intermedia))\n",
    "print(\"accrued interest (2nd overload):\", fixed_rate_cashflow_2.accrued_interest(fecha_intermedia, ts))\n",
    "print(\"accrued fixing (1st overload):\", fixed_rate_cashflow_2.accrued_fixing(fecha_intermedia))\n",
    "print(\"accrued fixing (2nd overload):\", fixed_rate_cashflow_2.accrued_fixing(fecha_intermedia, ts))"
   ]
  },
  {
   "cell_type": "code",
   "execution_count": 55,
   "metadata": {
    "ExecuteTime": {
     "end_time": "2022-01-09T13:12:37.458489Z",
     "start_time": "2022-01-09T13:12:37.444466Z"
    }
   },
   "outputs": [],
   "source": [
    "ts[fecha_pago] = 2000\n",
    "quanto_frc_2 = Qcf.QuantoLinearInterestRateCashflow(fixed_rate_cashflow_2, usdclp_obs, ts, fecha_pago)"
   ]
  },
  {
   "cell_type": "code",
   "execution_count": 56,
   "metadata": {
    "ExecuteTime": {
     "end_time": "2022-01-09T13:12:37.475182Z",
     "start_time": "2022-01-09T13:12:37.461473Z"
    }
   },
   "outputs": [],
   "source": [
    "ts[fecha_intermedia] = 1500"
   ]
  },
  {
   "cell_type": "code",
   "execution_count": 57,
   "metadata": {
    "ExecuteTime": {
     "end_time": "2022-01-09T13:12:37.490538Z",
     "start_time": "2022-01-09T13:12:37.477475Z"
    }
   },
   "outputs": [
    {
     "name": "stdout",
     "output_type": "stream",
     "text": [
      "fecha fixing fx: 23-9-2019\n",
      "amount: 100694.44444444448\n",
      "original currency: CLP\n",
      "new currency: USD\n",
      "date: 23-9-2019\n",
      "start date: 20-9-2018\n",
      "end date: 20-9-2019\n",
      "settlement date: 23-9-2019\n",
      "fixing dates:\n",
      "\t 20-9-2018\n",
      "nominal: 1000000000.0\n",
      "amortization: 100000000.0\n",
      "amortization in sett ccy: 50000.0\n",
      "interest (1st overload): 50694.44444444448\n",
      "interest (2nd overload): 50694.44444444448\n",
      "fixing (1st overload): 0.1\n",
      "fixing (2nd overload): 0.1\n",
      "accrued interest (1st overload): 33518.51851851858\n",
      "accrued interest (2nd overload): 33518.51851851858\n",
      "accrued fixing (1st overload): 0.1\n",
      "accrued fixing (2nd overload): 0.1\n"
     ]
    }
   ],
   "source": [
    "print(\"fecha fixing fx:\", quanto_frc_2.get_fx_rate_index_fixing_date())\n",
    "print(\"amount:\", quanto_frc_2.amount())\n",
    "print(\"original currency:\", quanto_frc_2.get_initial_ccy())\n",
    "print(\"new currency:\", quanto_frc_2.ccy().get_iso_code())\n",
    "print(\"date:\", quanto_frc_2.date())\n",
    "print(\"start date:\", quanto_frc_2.get_start_date())\n",
    "print(\"end date:\", quanto_frc_2.get_end_date())\n",
    "print(\"settlement date:\", quanto_frc_2.get_settlement_date())\n",
    "print(\"fixing dates:\")\n",
    "for f in quanto_frc_2.get_fixing_dates():\n",
    "    print(\"\\t\", f)\n",
    "print(\"nominal:\", quanto_frc_2.get_nominal())\n",
    "print(\"amortization:\", quanto_frc_2.get_amortization())\n",
    "print(\"amortization in sett ccy:\", quanto_frc_2.amortization())\n",
    "print(\"interest (1st overload):\", quanto_frc_2.interest())\n",
    "ts1 = Qcf.time_series()\n",
    "print(\"interest (2nd overload):\", quanto_frc_2.interest(ts1))\n",
    "print(\"fixing (1st overload):\", quanto_frc_2.fixing())\n",
    "print(\"fixing (2nd overload):\", quanto_frc_2.fixing(ts1))\n",
    "fecha_intermedia = Qcf.QCDate(20, 3, 2019)\n",
    "print(\"accrued interest (1st overload):\", quanto_frc_2.accrued_interest(fecha_intermedia))\n",
    "print(\"accrued interest (2nd overload):\", quanto_frc_2.accrued_interest(fecha_intermedia, ts1))\n",
    "print(\"accrued fixing (1st overload):\", quanto_frc_2.accrued_fixing(fecha_intermedia))\n",
    "print(\"accrued fixing (2nd overload):\", quanto_frc_2.accrued_fixing(fecha_intermedia, ts1))"
   ]
  },
  {
   "cell_type": "code",
   "execution_count": 58,
   "metadata": {
    "ExecuteTime": {
     "end_time": "2022-01-09T13:12:37.505931Z",
     "start_time": "2022-01-09T13:12:37.492695Z"
    }
   },
   "outputs": [],
   "source": [
    "quanto_frc_3 = Qcf.QuantoLinearInterestRateCashflow(quanto_frc_2, usdclp_obs, ts, fecha_pago)"
   ]
  },
  {
   "cell_type": "code",
   "execution_count": 59,
   "metadata": {
    "ExecuteTime": {
     "end_time": "2022-01-09T13:12:37.521934Z",
     "start_time": "2022-01-09T13:12:37.507919Z"
    }
   },
   "outputs": [
    {
     "name": "stdout",
     "output_type": "stream",
     "text": [
      "fecha fixing fx: 23-9-2019\n",
      "amount: 201388888.88888896\n",
      "original currency: CLP\n",
      "new currency: CLP\n",
      "date: 23-9-2019\n",
      "start date: 20-9-2018\n",
      "end date: 20-9-2019\n",
      "settlement date: 23-9-2019\n",
      "fixing dates:\n",
      "\t 20-9-2018\n",
      "nominal: 1000000000.0\n",
      "amortization: 100000000.0\n",
      "amortization in sett ccy: 100000000.0\n",
      "interest (1st overload): 101388888.88888897\n",
      "interest (2nd overload): 101388888.88888897\n",
      "fixing (1st overload): 0.1\n",
      "fixing (2nd overload): 0.1\n",
      "accrued interest (1st overload): 50277777.777777866\n",
      "accrued interest (2nd overload): 50277777.777777866\n",
      "accrued fixing (1st overload): 0.1\n",
      "accrued fixing (2nd overload): 0.1\n"
     ]
    }
   ],
   "source": [
    "print(\"fecha fixing fx:\", quanto_frc_3.get_fx_rate_index_fixing_date())\n",
    "print(\"amount:\", quanto_frc_3.amount())\n",
    "print(\"original currency:\", quanto_frc_3.get_initial_ccy())\n",
    "print(\"new currency:\", quanto_frc_3.ccy().get_iso_code())\n",
    "print(\"date:\", quanto_frc_3.date())\n",
    "print(\"start date:\", quanto_frc_3.get_start_date())\n",
    "print(\"end date:\", quanto_frc_3.get_end_date())\n",
    "print(\"settlement date:\", quanto_frc_3.get_settlement_date())\n",
    "print(\"fixing dates:\")\n",
    "for f in quanto_frc_3.get_fixing_dates():\n",
    "    print(\"\\t\", f)\n",
    "print(\"nominal:\", quanto_frc_3.get_nominal())\n",
    "print(\"amortization:\", quanto_frc_3.get_amortization())\n",
    "print(\"amortization in sett ccy:\", quanto_frc_3.amortization())\n",
    "print(\"interest (1st overload):\", quanto_frc_3.interest())\n",
    "ts1 = Qcf.time_series()\n",
    "print(\"interest (2nd overload):\", quanto_frc_3.interest(ts1))\n",
    "print(\"fixing (1st overload):\", quanto_frc_3.fixing())\n",
    "print(\"fixing (2nd overload):\", quanto_frc_3.fixing(ts1))\n",
    "fecha_intermedia = Qcf.QCDate(20, 3, 2019)\n",
    "print(\"accrued interest (1st overload):\", quanto_frc_3.accrued_interest(fecha_intermedia))\n",
    "print(\"accrued interest (2nd overload):\", quanto_frc_3.accrued_interest(fecha_intermedia, ts1))\n",
    "print(\"accrued fixing (1st overload):\", quanto_frc_3.accrued_fixing(fecha_intermedia))\n",
    "print(\"accrued fixing (2nd overload):\", quanto_frc_3.accrued_fixing(fecha_intermedia, ts1))"
   ]
  },
  {
   "cell_type": "markdown",
   "metadata": {},
   "source": [
    "### Fixed Rate Multi Currency Cashflow\n",
    "Un objeto de tipo `FixedRateMultiCurrencyCashflow` representa un flujo de caja a tasa fija (`FixedRateCashflow`) que se liquidará en una moneda distinta de la moneda del nominal utilizando el valor a una cierta fecha de un índice de tipo de cambio prefijado. Para dar de alta uno de estos objetos se requiere:\n",
    "\n",
    "- `QCDate`: fecha inicio (para la aplicación de la tasa)\n",
    "- `QCDate`: fecha final (para la aplicación de la tasa)\n",
    "- `QCDate`: fecha de pago\n",
    "- `float`: nominal (monto al que se le aplica la tasa)\n",
    "- `float`: amortización (eventual flujo de caja que corresponde a una porción del nominal)\n",
    "- `bool`: indica si la amortización anterior es un flujo de caja o sólo una disminución de nominal\n",
    "- `QCInterestRate`: la tasa de interés a aplicar (su valor y convenciones)\n",
    "- `QCCurrency`: moneda del nominal\n",
    "- `QCDate`: fecha de publicación del índice de tipo de cambio\n",
    "- `QCCurrency`: moneda en la que se liquida el flujo\n",
    "- `FXRateIndex`: índice de tipo de cambio a utilizar\n",
    "- `float`: valor del índice de tipo de cambio"
   ]
  },
  {
   "cell_type": "code",
   "execution_count": 60,
   "metadata": {
    "ExecuteTime": {
     "end_time": "2022-01-09T13:12:37.537938Z",
     "start_time": "2022-01-09T13:12:37.523929Z"
    }
   },
   "outputs": [
    {
     "name": "stdout",
     "output_type": "stream",
     "text": [
      "<QC_Financial_3.FixedRateMultiCurrencyCashflow object at 0x000001711C2E9360>\n"
     ]
    }
   ],
   "source": [
    "# Ejemplo\n",
    "fecha_inicio = Qcf.QCDate(20, 9, 2018)\n",
    "fecha_final = Qcf.QCDate(20, 9, 2019)\n",
    "fecha_pago = Qcf.QCDate(23, 9, 2019)\n",
    "fecha_publicacion = Qcf.QCDate(23, 9, 2019)\n",
    "usd = Qcf.QCUSD()\n",
    "indice = usdclp_obs\n",
    "valor_indice = 20.0\n",
    "nominal = 1000.0\n",
    "amort = 1000.0\n",
    "fixed_rate_mccy_cashflow = Qcf.FixedRateMultiCurrencyCashflow(fecha_inicio,\n",
    "                                                              fecha_final,\n",
    "                                                              fecha_pago,\n",
    "                                                              nominal,\n",
    "                                                              amort,\n",
    "                                                              False,\n",
    "                                                              tasa,\n",
    "                                                              usd,\n",
    "                                                              fecha_publicacion,\n",
    "                                                              clp,\n",
    "                                                              indice,\n",
    "                                                              valor_indice)\n",
    "print(fixed_rate_mccy_cashflow)"
   ]
  },
  {
   "cell_type": "markdown",
   "metadata": {},
   "source": [
    "**TODO: get_rate.** Este getter no debe ser un getter tradicional, ya que no es necesario que retorne una referencia a todo el objeto ``QCInterestRate``, basta con el valor y la descripción de yf y wf asociado (mejor llamarlo get_rate_info)."
   ]
  },
  {
   "cell_type": "code",
   "execution_count": 61,
   "metadata": {
    "ExecuteTime": {
     "end_time": "2022-01-09T13:12:37.554016Z",
     "start_time": "2022-01-09T13:12:37.540999Z"
    }
   },
   "outputs": [
    {
     "name": "stdout",
     "output_type": "stream",
     "text": [
      "Fecha Inicio: 20-9-2018\n",
      "Fecha Final: 20-9-2019\n",
      "Fecha Pago: 23-9-2019\n",
      "Moneda del Nominal: USD\n",
      "Nominal: 1000.0\n",
      "Amortización: 1000.0\n",
      "Moneda de Liquidación: CLP\n"
     ]
    }
   ],
   "source": [
    "# Getters\n",
    "print(\"Fecha Inicio:\", fixed_rate_mccy_cashflow.get_start_date())\n",
    "print(\"Fecha Final:\", fixed_rate_mccy_cashflow.get_end_date())\n",
    "print(\"Fecha Pago:\", fixed_rate_mccy_cashflow.get_settlement_date())\n",
    "print(\"Moneda del Nominal:\", fixed_rate_mccy_cashflow.ccy())\n",
    "print(\"Nominal:\", fixed_rate_mccy_cashflow.get_nominal())\n",
    "print(\"Amortización:\", fixed_rate_mccy_cashflow.get_amortization())\n",
    "print(\"Moneda de Liquidación:\", fixed_rate_mccy_cashflow.settlement_currency())"
   ]
  },
  {
   "cell_type": "markdown",
   "metadata": {},
   "source": [
    "**TODO: set_rate_value.** Debe establecer el valor de la tasa de interés."
   ]
  },
  {
   "cell_type": "code",
   "execution_count": 62,
   "metadata": {
    "ExecuteTime": {
     "end_time": "2022-01-09T13:12:37.570019Z",
     "start_time": "2022-01-09T13:12:37.555004Z"
    }
   },
   "outputs": [
    {
     "name": "stdout",
     "output_type": "stream",
     "text": [
      "Nuevo nominal: 100.0\n",
      "Nueva amortización: 10.0\n"
     ]
    }
   ],
   "source": [
    "# Setters\n",
    "nuevo_nominal = 100.0\n",
    "fixed_rate_mccy_cashflow.set_nominal(nuevo_nominal)\n",
    "print(\"Nuevo nominal:\", fixed_rate_mccy_cashflow.get_nominal())\n",
    "\n",
    "nueva_amortizacion = 10.0\n",
    "fixed_rate_mccy_cashflow.set_amortization(nueva_amortizacion)\n",
    "print(\"Nueva amortización:\", fixed_rate_mccy_cashflow.get_amortization())\n"
   ]
  },
  {
   "cell_type": "code",
   "execution_count": 63,
   "metadata": {
    "ExecuteTime": {
     "end_time": "2022-01-09T13:12:37.586017Z",
     "start_time": "2022-01-09T13:12:37.572000Z"
    }
   },
   "outputs": [
    {
     "name": "stdout",
     "output_type": "stream",
     "text": [
      "Flujo Total: 2027.7777777777794\n",
      "Check: 2027.7777777777778\n",
      "Interés Devengado: 28.888888888888964\n",
      "Check: 28.88888888888889\n"
     ]
    }
   ],
   "source": [
    "# Cálculos\n",
    "fixed_rate_mccy_cashflow.set_nominal(nominal)\n",
    "fixed_rate_mccy_cashflow.set_amortization(amort)\n",
    "print(\"Flujo Total:\", fixed_rate_mccy_cashflow.amount())\n",
    "print(\"Check:\", (fixed_rate_mccy_cashflow.get_nominal() * .1 * 365.0/360) * valor_indice)\n",
    "print\n",
    "fecha_intermedia = Qcf.QCDate(2, 1, 2019)\n",
    "print(\"Interés Devengado:\", fixed_rate_mccy_cashflow.accrued_interest(fecha_intermedia))\n",
    "print(\"Check:\",  fixed_rate_mccy_cashflow.get_nominal() * .1 * fecha_inicio.day_diff(fecha_intermedia) /360.0)"
   ]
  },
  {
   "cell_type": "code",
   "execution_count": 64,
   "metadata": {
    "ExecuteTime": {
     "end_time": "2022-01-09T13:12:37.602016Z",
     "start_time": "2022-01-09T13:12:37.588011Z"
    }
   },
   "outputs": [],
   "source": [
    "ts = Qcf.time_series()"
   ]
  },
  {
   "cell_type": "code",
   "execution_count": 65,
   "metadata": {
    "ExecuteTime": {
     "end_time": "2022-01-09T13:12:37.618024Z",
     "start_time": "2022-01-09T13:12:37.604022Z"
    }
   },
   "outputs": [],
   "source": [
    "ts[fecha_inicio] = 10"
   ]
  },
  {
   "cell_type": "code",
   "execution_count": 66,
   "metadata": {
    "ExecuteTime": {
     "end_time": "2022-01-09T13:12:37.634028Z",
     "start_time": "2022-01-09T13:12:37.620011Z"
    }
   },
   "outputs": [
    {
     "data": {
      "text/plain": [
       "10.0"
      ]
     },
     "execution_count": 66,
     "metadata": {},
     "output_type": "execute_result"
    }
   ],
   "source": [
    "ts[fecha_inicio]"
   ]
  },
  {
   "cell_type": "code",
   "execution_count": 67,
   "metadata": {
    "ExecuteTime": {
     "end_time": "2022-01-09T13:12:37.650020Z",
     "start_time": "2022-01-09T13:12:37.635028Z"
    }
   },
   "outputs": [],
   "source": [
    "ts[fecha_intermedia] = 15"
   ]
  },
  {
   "cell_type": "code",
   "execution_count": 68,
   "metadata": {
    "ExecuteTime": {
     "end_time": "2022-01-09T13:12:37.666022Z",
     "start_time": "2022-01-09T13:12:37.652026Z"
    }
   },
   "outputs": [
    {
     "name": "stdout",
     "output_type": "stream",
     "text": [
      "288.88888888888965\n"
     ]
    }
   ],
   "source": [
    "print(fixed_rate_mccy_cashflow.accrued_interest(fecha_intermedia, fecha_inicio, ts))"
   ]
  },
  {
   "cell_type": "code",
   "execution_count": 69,
   "metadata": {
    "ExecuteTime": {
     "end_time": "2022-01-09T13:12:37.682044Z",
     "start_time": "2022-01-09T13:12:37.672042Z"
    }
   },
   "outputs": [
    {
     "name": "stdout",
     "output_type": "stream",
     "text": [
      "433.33333333333445\n"
     ]
    }
   ],
   "source": [
    "print(fixed_rate_mccy_cashflow.accrued_interest(fecha_intermedia, fecha_intermedia, ts))"
   ]
  },
  {
   "cell_type": "code",
   "execution_count": 70,
   "metadata": {
    "ExecuteTime": {
     "end_time": "2022-01-09T13:12:37.698048Z",
     "start_time": "2022-01-09T13:12:37.685028Z"
    }
   },
   "outputs": [],
   "source": [
    "fx_variation = fixed_rate_mccy_cashflow.accrued_fx_variation(fecha_intermedia, ts)"
   ]
  },
  {
   "cell_type": "code",
   "execution_count": 71,
   "metadata": {
    "ExecuteTime": {
     "end_time": "2022-01-09T13:12:37.714052Z",
     "start_time": "2022-01-09T13:12:37.700043Z"
    }
   },
   "outputs": [
    {
     "name": "stdout",
     "output_type": "stream",
     "text": [
      "144.4444444444448\n",
      "5000.0\n"
     ]
    }
   ],
   "source": [
    "print(fx_variation.interest_variation)\n",
    "print(fx_variation.nominal_variation)"
   ]
  },
  {
   "cell_type": "code",
   "execution_count": 72,
   "metadata": {
    "ExecuteTime": {
     "end_time": "2022-01-09T13:12:37.729044Z",
     "start_time": "2022-01-09T13:12:37.716033Z"
    }
   },
   "outputs": [
    {
     "name": "stdout",
     "output_type": "stream",
     "text": [
      "('2018-09-20', '2019-09-20', '2019-09-23', 1000.0, 1000.0, 101.38888888888897, False, 2027.7777777777794, 'USD', 0.1, 'LinAct360', '2019-09-23', 'CLP', 'USDOBS', 20.0, 20000.0, 2027.7777777777794)\n"
     ]
    }
   ],
   "source": [
    "# Función show\n",
    "print(Qcf.show(fixed_rate_mccy_cashflow))"
   ]
  },
  {
   "cell_type": "markdown",
   "metadata": {},
   "source": [
    "### Ibor Cashflow\n",
    "Un objeto de tipo `IborCashflow` representa un flujo de caja calculado a partir de la aplicación de una tasa flotante fijada en una cierta fecha (Libor, Euribor, TAB, ...) , entre dos fechas prefijadas a un nominal prefijado. Para dar de alta uno de estos objetos se requiere:\n",
    "\n",
    "- `InterestRateIndex`: el índice de tasa de interés prefijado\n",
    "- `QCDate`: fecha inicio (para la aplicación de la tasa)\n",
    "- `QCDate`: fecha final (para la aplicación de la tasa)\n",
    "- `QCDate`: fecha de fijación del índice de tasa de interés \n",
    "- `QCDate`: fecha de pago\n",
    "- `float`: nominal (monto al que se le aplica la tasa)\n",
    "- `float`: amortización (eventual flujo de caja que corresponde a una porción del nominal)\n",
    "- `bool`: indica si la amortización anterior es un flujo de caja o sólo una disminución de nominal\n",
    "- `QCCurrency`: moneda del nominal y del flujo de caja\n",
    "- `float`: spread aditivo a aplicar a la fijación del índice\n",
    "- `float`: spread multiplicativo o gearing a aplicar a la fijación del índice\n",
    "\n",
    "Para dar de alta un `InterestRateIndex` se requiere:\n",
    "\n",
    "- `str`: código del índice\n",
    "- `QCInterestRate`: un objeto tasa de interés que contenga las convenciones del índice\n",
    "- `Tenor`: el lag de inicio del índice respecto a la fecha de fixing (por ejemplo 2d para Libor USD)\n",
    "- `Tenor`: el tenor del índice (3M por ejemplo para Libor USD 3M)\n",
    "- `QCBusinessCalendar`: el calendario de fixing\n",
    "- `QCBusinessCalendar`: el calendario de pago\n",
    "- `QCCurrency`: la moneda a la que corresponde el índice (por ejemplo EUR para EURIBOR 3M)\n"
   ]
  },
  {
   "cell_type": "markdown",
   "metadata": {},
   "source": [
    "**TODO: agregar end_date_adjustment al objeto (FOLLOW o MOD FOLLOW).** Esto debiera tener un correspondiente cambio en la BBDD de Front Desk."
   ]
  },
  {
   "cell_type": "code",
   "execution_count": 73,
   "metadata": {
    "ExecuteTime": {
     "end_time": "2022-01-09T13:12:37.745059Z",
     "start_time": "2022-01-09T13:12:37.730045Z"
    }
   },
   "outputs": [
    {
     "name": "stdout",
     "output_type": "stream",
     "text": [
      "Tenor: 3M\n",
      "Tasa: 0.000000 Act360 Lin\n",
      "\n",
      "Fixing Tasa: 0.010000 Act360 Lin\n",
      "Fecha Inicio: 24-9-2018\n",
      "Fecha Final: 24-12-2018\n"
     ]
    }
   ],
   "source": [
    "# Se define el índice\n",
    "codigo = 'LIBORUSD3M'\n",
    "lin_act360 = Qcf.QCInterestRate(.0, act360, lin_wf)\n",
    "fixing_lag = Qcf.Tenor('2d')\n",
    "tenor = Qcf.Tenor('3m')\n",
    "fixing_calendar = scl     # No es el calendario correcto, pero sirve para el ejemplo\n",
    "settlement_calendar = scl # Ídem arriba\n",
    "libor_usd_3m = Qcf.InterestRateIndex(codigo,\n",
    "                                    lin_act360,\n",
    "                                    fixing_lag,\n",
    "                                    tenor,\n",
    "                                    fixing_calendar,\n",
    "                                    settlement_calendar,\n",
    "                                    usd)\n",
    "\n",
    "# Getters\n",
    "print(\"Tenor:\", libor_usd_3m.get_tenor())\n",
    "print(\"Tasa:\", libor_usd_3m.get_rate())\n",
    "print()\n",
    "\n",
    "# Para construir un fixing en particular\n",
    "libor_usd_3m.set_rate_value(.01)\n",
    "print(\"Fixing Tasa:\", libor_usd_3m.get_rate())\n",
    "fecha_fixing = Qcf.QCDate(20, 9, 2018)\n",
    "print(\"Fecha Inicio:\", libor_usd_3m.get_start_date(fecha_fixing))\n",
    "print(\"Fecha Final:\", libor_usd_3m.get_end_date(fecha_fixing))"
   ]
  },
  {
   "cell_type": "code",
   "execution_count": 74,
   "metadata": {
    "ExecuteTime": {
     "end_time": "2022-01-09T13:12:37.761062Z",
     "start_time": "2022-01-09T13:12:37.747059Z"
    }
   },
   "outputs": [
    {
     "data": {
      "text/plain": [
       "'LIBORUSD3M'"
      ]
     },
     "execution_count": 74,
     "metadata": {},
     "output_type": "execute_result"
    }
   ],
   "source": [
    "libor_usd_3m.get_code()"
   ]
  },
  {
   "cell_type": "code",
   "execution_count": 75,
   "metadata": {
    "ExecuteTime": {
     "end_time": "2022-01-09T13:12:37.776509Z",
     "start_time": "2022-01-09T13:12:37.763051Z"
    }
   },
   "outputs": [],
   "source": [
    "libor_usd_3m.set_rate_value(.1)"
   ]
  },
  {
   "cell_type": "code",
   "execution_count": 76,
   "metadata": {
    "ExecuteTime": {
     "end_time": "2022-01-09T13:12:37.792677Z",
     "start_time": "2022-01-09T13:12:37.778060Z"
    }
   },
   "outputs": [
    {
     "name": "stdout",
     "output_type": "stream",
     "text": [
      "0.100000 Act360 Lin\n"
     ]
    }
   ],
   "source": [
    "print(libor_usd_3m.get_rate())"
   ]
  },
  {
   "cell_type": "code",
   "execution_count": 77,
   "metadata": {
    "ExecuteTime": {
     "end_time": "2022-01-09T13:12:37.808073Z",
     "start_time": "2022-01-09T13:12:37.795064Z"
    }
   },
   "outputs": [
    {
     "data": {
      "text/plain": [
       "<QC_Financial_3.QCInterestRate at 0x1711c2ebee0>"
      ]
     },
     "execution_count": 77,
     "metadata": {},
     "output_type": "execute_result"
    }
   ],
   "source": [
    "libor_usd_3m.get_rate()"
   ]
  },
  {
   "cell_type": "markdown",
   "metadata": {},
   "source": [
    "Con esto, veamos un ejemplo de construcción y uso de un `IborCashflow`."
   ]
  },
  {
   "cell_type": "markdown",
   "metadata": {},
   "source": [
    "**TODO:** Se debe crear un mecanismo de WARNING para las eventuales inconsistencias entre las fechas de inicio y fin del ``InterestRateIndex`` y las fechas de inicio y fin del ``IborCashflow``."
   ]
  },
  {
   "cell_type": "code",
   "execution_count": 78,
   "metadata": {
    "ExecuteTime": {
     "end_time": "2022-01-09T13:12:37.824056Z",
     "start_time": "2022-01-09T13:12:37.811068Z"
    }
   },
   "outputs": [],
   "source": [
    "# Ejemplo\n",
    "fecha_inicio = Qcf.QCDate(20, 9, 2018)\n",
    "fecha_final = Qcf.QCDate(20, 9, 2019)\n",
    "fecha_pago = Qcf.QCDate(23, 9, 2019)\n",
    "fecha_fixing = Qcf.QCDate(20, 9, 2018)\n",
    "nominal = 1000000.0\n",
    "amort = 100000.0\n",
    "spread = .0\n",
    "gearing = 1.0\n",
    "ibor_cashflow = Qcf.IborCashflow(libor_usd_3m,\n",
    "                                 fecha_inicio,\n",
    "                                 fecha_final,\n",
    "                                 fecha_fixing,\n",
    "                                 fecha_pago,\n",
    "                                 nominal,\n",
    "                                 amort,\n",
    "                                 True,\n",
    "                                 usd,\n",
    "                                 spread,\n",
    "                                 gearing)"
   ]
  },
  {
   "cell_type": "code",
   "execution_count": 79,
   "metadata": {
    "ExecuteTime": {
     "end_time": "2022-01-09T13:12:37.840080Z",
     "start_time": "2022-01-09T13:12:37.826057Z"
    }
   },
   "outputs": [
    {
     "name": "stdout",
     "output_type": "stream",
     "text": [
      "Fecha Fixing:\t 20-9-2018\n",
      "Fecha Inicio:\t 20-9-2018\n",
      "Fecha Final:\t 20-9-2019\n",
      "Fecha Pago:\t 23-9-2019\n",
      "Nominal:\t 1000000.0\n",
      "Amortización:\t 100000.0\n",
      "Moneda:\t\t USD\n",
      "Valor Tasa:\t 0.1\n"
     ]
    }
   ],
   "source": [
    "# Getters\n",
    "print(\"Fecha Fixing:\\t\", ibor_cashflow.get_fixing_date())\n",
    "print(\"Fecha Inicio:\\t\", ibor_cashflow.get_start_date())\n",
    "print(\"Fecha Final:\\t\", ibor_cashflow.get_end_date())\n",
    "print(\"Fecha Pago:\\t\", ibor_cashflow.get_settlement_date())\n",
    "print(\"Nominal:\\t\", ibor_cashflow.get_nominal())\n",
    "print(\"Amortización:\\t\", ibor_cashflow.get_amortization())\n",
    "print(\"Moneda:\\t\\t\", ibor_cashflow.ccy())\n",
    "print(\"Valor Tasa:\\t\", ibor_cashflow.get_interest_rate_value())"
   ]
  },
  {
   "cell_type": "code",
   "execution_count": 80,
   "metadata": {
    "ExecuteTime": {
     "end_time": "2022-01-09T13:12:37.856084Z",
     "start_time": "2022-01-09T13:12:37.842075Z"
    }
   },
   "outputs": [
    {
     "name": "stdout",
     "output_type": "stream",
     "text": [
      "Nominal:\t 2000000.0\n",
      "Amortización:\t 200000.0\n"
     ]
    }
   ],
   "source": [
    "# Setters\n",
    "nuevo_nominal = 2000000.0\n",
    "ibor_cashflow.set_nominal(nuevo_nominal)\n",
    "print(\"Nominal:\\t\", ibor_cashflow.get_nominal())\n",
    "\n",
    "nueva_amortizacion = 200000.0\n",
    "ibor_cashflow.set_amortization(nueva_amortizacion)\n",
    "print(\"Amortización:\\t\", ibor_cashflow.get_amortization())\n",
    "\n",
    "nuevo_valor_tasa = .02\n",
    "ibor_cashflow.set_interest_rate_value(nuevo_valor_tasa)"
   ]
  },
  {
   "cell_type": "code",
   "execution_count": 81,
   "metadata": {
    "ExecuteTime": {
     "end_time": "2022-01-09T13:12:37.872081Z",
     "start_time": "2022-01-09T13:12:37.858065Z"
    }
   },
   "outputs": [
    {
     "name": "stdout",
     "output_type": "stream",
     "text": [
      "Flujo: 240555.55555555568\n",
      "Interés Devengado: 33666.66666666651\n",
      "Check: 33666.66666666667\n"
     ]
    }
   ],
   "source": [
    "# Cálculos\n",
    "print(\"Flujo:\", ibor_cashflow.amount())\n",
    "\n",
    "fecha_devengo = Qcf.QCDate(20, 7, 2019)\n",
    "print(\"Interés Devengado:\", ibor_cashflow.accrued_interest(fecha_devengo))\n",
    "tasa = ibor_cashflow.get_interest_rate_value()\n",
    "print(\"Check:\", tasa * fecha_inicio.day_diff(fecha_devengo) / 360.0 * ibor_cashflow.get_nominal())"
   ]
  },
  {
   "cell_type": "code",
   "execution_count": 82,
   "metadata": {
    "ExecuteTime": {
     "end_time": "2022-01-09T13:12:37.888091Z",
     "start_time": "2022-01-09T13:12:37.874089Z"
    }
   },
   "outputs": [
    {
     "name": "stdout",
     "output_type": "stream",
     "text": [
      "('2018-09-20', '2019-09-20', '2018-09-20', '2019-09-23', 2000000.0, 200000.0, 40555.55555555568, True, 240555.55555555568, 'USD', 'LIBORUSD3M', 0.02, 0.0, 1.0, 'LinAct360')\n"
     ]
    }
   ],
   "source": [
    "# Función show\n",
    "print(Qcf.show(ibor_cashflow))"
   ]
  },
  {
   "cell_type": "markdown",
   "metadata": {},
   "source": [
    "### Ibor Cashflow 2\n",
    "Un objeto de tipo `IborCashflow2` representa un flujo de caja calculado a partir de la aplicación de una tasa flotante fijada en una cierta fecha (Libor, Euribor, TAB, ...) , entre dos fechas prefijadas a un nominal prefijado. Para dar de alta uno de estos objetos se requiere:\n",
    "\n",
    "- `InterestRateIndex`: el índice de tasa de interés prefijado\n",
    "- `QCDate`: fecha inicio (para la aplicación de la tasa)\n",
    "- `QCDate`: fecha final (para la aplicación de la tasa)\n",
    "- `QCDate`: fecha de fijación del índice de tasa de interés \n",
    "- `QCDate`: fecha de pago\n",
    "- `float`: nominal (monto al que se le aplica la tasa)\n",
    "- `float`: amortización (eventual flujo de caja que corresponde a una porción del nominal)\n",
    "- `bool`: indica si la amortización anterior es un flujo de caja o sólo una disminución de nominal\n",
    "- `QCCurrency`: moneda del nominal y del flujo de caja\n",
    "- `float`: spread aditivo a aplicar a la fijación del índice\n",
    "- `float`: spread multiplicativo o gearing a aplicar a la fijación del índice\n",
    "\n",
    "A diferencia de un `IborCashflow`, un `IborCashflow2` puede quantizarse."
   ]
  },
  {
   "cell_type": "code",
   "execution_count": 83,
   "metadata": {
    "ExecuteTime": {
     "end_time": "2022-01-09T13:12:37.904089Z",
     "start_time": "2022-01-09T13:12:37.890087Z"
    }
   },
   "outputs": [],
   "source": [
    "# Ejemplo\n",
    "fecha_inicio = Qcf.QCDate(20, 9, 2018)\n",
    "fecha_final = Qcf.QCDate(20, 9, 2019)\n",
    "fecha_pago = Qcf.QCDate(23, 9, 2019)\n",
    "fecha_fixing = Qcf.QCDate(20, 9, 2018)\n",
    "nominal = 1000000.0\n",
    "amort = 100000.0\n",
    "spread = .0\n",
    "gearing = 1.0\n",
    "ibor_cashflow_2 = Qcf.IborCashflow2(libor_usd_3m,\n",
    "                                 fecha_inicio,\n",
    "                                 fecha_final,\n",
    "                                 fecha_fixing,\n",
    "                                 fecha_pago,\n",
    "                                 nominal,\n",
    "                                 amort,\n",
    "                                 True,\n",
    "                                 usd,\n",
    "                                 spread,\n",
    "                                 gearing)"
   ]
  },
  {
   "cell_type": "code",
   "execution_count": 84,
   "metadata": {
    "ExecuteTime": {
     "end_time": "2022-01-09T13:12:37.920101Z",
     "start_time": "2022-01-09T13:12:37.906091Z"
    }
   },
   "outputs": [
    {
     "name": "stdout",
     "output_type": "stream",
     "text": [
      "Fecha Fixing:\t <QC_Financial_3.DateList object at 0x000001711C310820>\n",
      "Fecha Inicio:\t 20-9-2018\n",
      "Fecha Final:\t 20-9-2019\n",
      "Fecha Pago:\t 23-9-2019\n",
      "Nominal:\t 1000000.0\n",
      "Amortización:\t 100000.0\n",
      "Moneda:\t\t USD\n",
      "Valor Tasa:\t 0.02\n"
     ]
    }
   ],
   "source": [
    "# Getters\n",
    "print(\"Fecha Fixing:\\t\", ibor_cashflow_2.get_fixing_dates())\n",
    "print(\"Fecha Inicio:\\t\", ibor_cashflow_2.get_start_date())\n",
    "print(\"Fecha Final:\\t\", ibor_cashflow_2.get_end_date())\n",
    "print(\"Fecha Pago:\\t\", ibor_cashflow_2.get_settlement_date())\n",
    "print(\"Nominal:\\t\", ibor_cashflow_2.get_nominal())\n",
    "print(\"Amortización:\\t\", ibor_cashflow_2.get_amortization())\n",
    "print(\"Moneda:\\t\\t\", ibor_cashflow_2.ccy())\n",
    "print(\"Valor Tasa:\\t\", ibor_cashflow_2.fixing())"
   ]
  },
  {
   "cell_type": "markdown",
   "metadata": {},
   "source": [
    "### Ibor Multi Currency Cashflow\n",
    "Un objeto de tipo `IborMultiCurrencyCashflow` representa un flujo de caja a tasa variable (`IborCashflow`) que se liquidará en una moneda distinta de la moneda del nominal utilizando el valor a una cierta fecha de un índice de tipo de cambio prefijado. Para dar de alta uno de estos objetos se requiere:\n",
    "\n",
    "- `InterestRateIndex`: el índice de tasa de interés prefijado\n",
    "- `QCDate`: fecha inicio (para la aplicación de la tasa)\n",
    "- `QCDate`: fecha final (para la aplicación de la tasa)\n",
    "- `QCDate`: fecha de fijación del índice de tasa de interés \n",
    "- `QCDate`: fecha de pago\n",
    "- `float`: nominal (monto al que se le aplica la tasa)\n",
    "- `float`: amortización (eventual flujo de caja que corresponde a una porción del nominal)\n",
    "- `bool`: indica si la amortización anterior es un flujo de caja o sólo una disminución de nominal\n",
    "- `QCCurrency`: moneda del nominal y del flujo de caja\n",
    "- `float`: spread aditivo a aplicar a la fijación del índice\n",
    "- `float`: spread multiplicativo o gearing a aplicar a la fijación del índice\n",
    "- `QCDate`: fecha de publicación del índice de tipo de cambio\n",
    "- `QCCurrency`: moneda en la que se liquida el flujo\n",
    "- `FXRateIndex`: índice de tipo de cambio a utilizar\n",
    "- `float`: valor del índice de tipo de cambio\n"
   ]
  },
  {
   "cell_type": "code",
   "execution_count": 85,
   "metadata": {
    "ExecuteTime": {
     "end_time": "2022-01-09T13:12:37.936105Z",
     "start_time": "2022-01-09T13:12:37.923095Z"
    }
   },
   "outputs": [
    {
     "name": "stdout",
     "output_type": "stream",
     "text": [
      "<QC_Financial_3.IborMultiCurrencyCashflow object at 0x000001711C2E9E00>\n"
     ]
    }
   ],
   "source": [
    "# Ejemplo\n",
    "fecha_inicio = Qcf.QCDate(20, 9, 2019)\n",
    "fecha_final = Qcf.QCDate(20, 12, 2019)\n",
    "fecha_pago = Qcf.QCDate(20, 12, 2019)\n",
    "fecha_fixing = Qcf.QCDate(20, 9, 2019)\n",
    "nominal = 100.0\n",
    "amort = 100.0\n",
    "spread = .02\n",
    "gearing = 1.0\n",
    "valor_indice = 10.0\n",
    "fecha_publicacion = Qcf.QCDate(20, 9, 2019)\n",
    "libor_usd_3m.set_rate_value(.01)\n",
    "ibor_mccy_cashflow = Qcf.IborMultiCurrencyCashflow(libor_usd_3m,\n",
    "                                 fecha_inicio,\n",
    "                                 fecha_final,\n",
    "                                 fecha_fixing,\n",
    "                                 fecha_pago,\n",
    "                                 nominal,\n",
    "                                 amort,\n",
    "                                 True,\n",
    "                                 usd,\n",
    "                                 spread,\n",
    "                                 gearing,\n",
    "                                 fecha_publicacion,\n",
    "                                 clp,\n",
    "                                 indice,\n",
    "                                 valor_indice)\n",
    "print(ibor_mccy_cashflow)"
   ]
  },
  {
   "cell_type": "code",
   "execution_count": 86,
   "metadata": {
    "ExecuteTime": {
     "end_time": "2022-01-09T13:12:37.951651Z",
     "start_time": "2022-01-09T13:12:37.938100Z"
    }
   },
   "outputs": [],
   "source": [
    "ibor_mccy_cashflow.set_interest_rate_value(.01)"
   ]
  },
  {
   "cell_type": "code",
   "execution_count": 87,
   "metadata": {
    "ExecuteTime": {
     "end_time": "2022-01-09T13:12:37.967654Z",
     "start_time": "2022-01-09T13:12:37.953658Z"
    }
   },
   "outputs": [
    {
     "name": "stdout",
     "output_type": "stream",
     "text": [
      "('2019-09-20', '2019-12-20', '2019-09-20', '2019-12-20', 100.0, 100.0, 0.7583333333333275, True, 1007.5833333333333, 'USD', 'LIBORUSD3M', 0.02, 1.0, 0.01, 'LinAct360', '2019-09-20', 'CLP', 'USDOBS', 10.0, 1000.0, 7.583333333333275)\n"
     ]
    }
   ],
   "source": [
    "print(Qcf.show(ibor_mccy_cashflow))"
   ]
  },
  {
   "cell_type": "code",
   "execution_count": 88,
   "metadata": {
    "ExecuteTime": {
     "end_time": "2022-01-09T13:12:37.983658Z",
     "start_time": "2022-01-09T13:12:37.969642Z"
    }
   },
   "outputs": [
    {
     "name": "stdout",
     "output_type": "stream",
     "text": [
      "0.24999999999999467\n",
      "0.24999999999999997\n"
     ]
    }
   ],
   "source": [
    "fecha_intermedia = Qcf.QCDate(20, 10, 2019)\n",
    "print(ibor_mccy_cashflow.accrued_interest(fecha_intermedia))\n",
    "print((.01 + spread) * fecha_inicio.day_diff(fecha_intermedia) / 360.0 * ibor_mccy_cashflow.get_nominal())"
   ]
  },
  {
   "cell_type": "code",
   "execution_count": 89,
   "metadata": {
    "ExecuteTime": {
     "end_time": "2022-01-09T13:12:37.999650Z",
     "start_time": "2022-01-09T13:12:37.984659Z"
    }
   },
   "outputs": [
    {
     "name": "stdout",
     "output_type": "stream",
     "text": [
      "(20-9-2018, 10.0)\n",
      "(2-1-2019, 15.0)\n",
      "(20-9-2019, 1.0)\n",
      "(20-10-2019, 3.0)\n",
      "2019-10-20\n",
      "3.0\n"
     ]
    }
   ],
   "source": [
    "ts[fecha_inicio] = 1\n",
    "ts[fecha_intermedia] = 3\n",
    "for k in ts:\n",
    "    print(k)\n",
    "print(fecha_intermedia.description(False))\n",
    "print(ts[fecha_intermedia])"
   ]
  },
  {
   "cell_type": "code",
   "execution_count": 90,
   "metadata": {
    "ExecuteTime": {
     "end_time": "2022-01-09T13:12:38.015670Z",
     "start_time": "2022-01-09T13:12:38.001661Z"
    }
   },
   "outputs": [
    {
     "name": "stdout",
     "output_type": "stream",
     "text": [
      "0.749999999999984\n"
     ]
    }
   ],
   "source": [
    "print(ibor_mccy_cashflow.accrued_interest(fecha_intermedia, fecha_intermedia, ts))"
   ]
  },
  {
   "cell_type": "code",
   "execution_count": 91,
   "metadata": {
    "ExecuteTime": {
     "end_time": "2022-01-09T13:12:38.030673Z",
     "start_time": "2022-01-09T13:12:38.017659Z"
    }
   },
   "outputs": [],
   "source": [
    "fxv = ibor_mccy_cashflow.accrued_fx_variation(fecha_intermedia, ts)"
   ]
  },
  {
   "cell_type": "code",
   "execution_count": 92,
   "metadata": {
    "ExecuteTime": {
     "end_time": "2022-01-09T13:12:38.046665Z",
     "start_time": "2022-01-09T13:12:38.032656Z"
    }
   },
   "outputs": [
    {
     "name": "stdout",
     "output_type": "stream",
     "text": [
      "0.49999999999998934\n",
      "200.0\n"
     ]
    }
   ],
   "source": [
    "print(fxv.interest_variation)\n",
    "print(fxv.nominal_variation)"
   ]
  },
  {
   "cell_type": "markdown",
   "metadata": {},
   "source": [
    "### Icp Clp Cashflow\n",
    "Un objeto de tipo `IcpClpCashflow` representa un flujo de caja calculado como un cupón de la pata flotante de un swap ICP (cámara promedio) de Chile. Para dar de alta uno de estos objetos se requiere:\n",
    "\n",
    "- `QCDate`: fecha inicio (para la aplicación de la tasa)\n",
    "- `QCDate`: fecha final (para la aplicación de la tasa)\n",
    "- `QCDate`: fecha de pago\n",
    "- `float`: nominal (monto al que se le aplica la tasa)\n",
    "- `float`: amortización (eventual flujo de caja que corresponde a una porción del nominal)\n",
    "- `bool`: indica si la amortización anterior es un flujo de caja o sólo una disminución de nominal\n",
    "- `float`: spread aditivo a aplicar a la fijación de la TNA\n",
    "- `float`: spread multiplicativo o gearing a aplicar a la fijación de la TNA\n",
    "- `float`: el valor del ICP a fecha de inicio (u otro valor arbitrario si el valor es desconocido)\n",
    "- `float`: el valor del ICP a fecha final (u otro valor arbitrario si el valor es desconocido)\n",
    "\n",
    "Recordar que TNA significa **Tasa Nominal Anual** y se determina utilizando los valores del índice ICP en la fecha de inicio y fecha final del `IcpClpCashflow`."
   ]
  },
  {
   "cell_type": "code",
   "execution_count": 93,
   "metadata": {
    "ExecuteTime": {
     "end_time": "2022-01-09T13:12:38.062681Z",
     "start_time": "2022-01-09T13:12:38.048658Z"
    }
   },
   "outputs": [],
   "source": [
    "# Ejemplo\n",
    "fecha_inicio = Qcf.QCDate(20, 9, 2018)\n",
    "fecha_final = Qcf.QCDate(20, 9, 2019)\n",
    "fecha_pago = Qcf.QCDate(23, 9, 2019)\n",
    "nominal = 1000000000.0\n",
    "amort = 100000000.0\n",
    "spread = 0.0\n",
    "gearing = 1.0\n",
    "icp_clp_cashflow = Qcf.IcpClpCashflow(fecha_inicio,\n",
    "                                      fecha_final,\n",
    "                                      fecha_pago,\n",
    "                                      nominal,\n",
    "                                      amort,\n",
    "                                      True,\n",
    "                                      spread,\n",
    "                                      gearing,\n",
    "                                      10000.0,\n",
    "                                      10250.0)"
   ]
  },
  {
   "cell_type": "code",
   "execution_count": 94,
   "metadata": {
    "ExecuteTime": {
     "end_time": "2022-01-09T13:12:38.077684Z",
     "start_time": "2022-01-09T13:12:38.064676Z"
    }
   },
   "outputs": [
    {
     "name": "stdout",
     "output_type": "stream",
     "text": [
      "Fecha Inicio: 20-9-2018\n",
      "Fecha Final: 20-9-2019\n",
      "ICP Fecha Inicio: 10000.0\n",
      "ICP Fecha Final: 10250.0\n",
      "Valor TNA Todo el Período: 0.0247\n",
      "Check: 0.0247\n",
      "Nominal: 1000000000.0\n",
      "Amortización: 100000000.0\n",
      "Tipo de Tasa: LinAct360\n",
      "Moneda: CLP\n"
     ]
    }
   ],
   "source": [
    "# Getters\n",
    "print(\"Fecha Inicio:\", icp_clp_cashflow.get_start_date())\n",
    "print(\"Fecha Final:\", icp_clp_cashflow.get_end_date())\n",
    "print(\"ICP Fecha Inicio:\", icp_clp_cashflow.get_start_date_icp())\n",
    "print(\"ICP Fecha Final:\", icp_clp_cashflow.get_end_date_icp())\n",
    "print(\"Valor TNA Todo el Período:\", icp_clp_cashflow.get_rate_value())\n",
    "print(\"Check:\", round((10250.0 / 10000 - 1) * 360.0 / fecha_inicio.day_diff(fecha_final), 4))\n",
    "print(\"Nominal:\", icp_clp_cashflow.get_nominal())\n",
    "print(\"Amortización:\", icp_clp_cashflow.get_amortization())\n",
    "print(\"Tipo de Tasa:\", icp_clp_cashflow.get_type_of_rate())\n",
    "print(\"Moneda:\", icp_clp_cashflow.ccy())"
   ]
  },
  {
   "cell_type": "code",
   "execution_count": 95,
   "metadata": {
    "ExecuteTime": {
     "end_time": "2022-01-09T13:12:38.093688Z",
     "start_time": "2022-01-09T13:12:38.079685Z"
    }
   },
   "outputs": [
    {
     "name": "stdout",
     "output_type": "stream",
     "text": [
      "Nueva TNA: 0.024658\n",
      "Nuevo Nominal: 100.0\n",
      "Nueva Amortización: 10.0\n",
      "Nuevo ICP Inicio: 20000.0\n",
      "Nuevo ICP Final: 20000.0\n",
      "Check TNA Final: 0.0\n"
     ]
    }
   ],
   "source": [
    "# Setters\n",
    "decimales_para_tna = 6\n",
    "icp_clp_cashflow.set_tna_decimal_places(decimales_para_tna)\n",
    "print(\"Nueva TNA:\", icp_clp_cashflow.get_rate_value())\n",
    "\n",
    "nuevo_nominal = 100\n",
    "icp_clp_cashflow.set_nominal(nuevo_nominal)\n",
    "print(\"Nuevo Nominal:\", icp_clp_cashflow.get_nominal())\n",
    "\n",
    "nueva_amortizacion = 10\n",
    "icp_clp_cashflow.set_amortization(nueva_amortizacion)\n",
    "print(\"Nueva Amortización:\", icp_clp_cashflow.get_amortization())\n",
    "\n",
    "nuevo_icp_inicio = 20000\n",
    "icp_clp_cashflow.set_start_date_icp(nuevo_icp_inicio)\n",
    "print(\"Nuevo ICP Inicio:\", icp_clp_cashflow.get_start_date_icp())\n",
    "\n",
    "nuevo_icp_final = 20000\n",
    "icp_clp_cashflow.set_end_date_icp(nuevo_icp_final)\n",
    "print(\"Nuevo ICP Final:\", icp_clp_cashflow.get_end_date_icp())\n",
    "print(\"Check TNA Final:\", icp_clp_cashflow.get_rate_value())"
   ]
  },
  {
   "cell_type": "code",
   "execution_count": 96,
   "metadata": {
    "ExecuteTime": {
     "end_time": "2022-01-09T13:12:38.109691Z",
     "start_time": "2022-01-09T13:12:38.095670Z"
    }
   },
   "outputs": [
    {
     "name": "stdout",
     "output_type": "stream",
     "text": [
      "Flujo: 12.504305555555565\n",
      "TNA fijada a 29-03-2019: 0.0237\n",
      "Check: 0.0237\n",
      "Interés Devengado a 29-03-2019: 1.2508333333333344\n",
      "Check: 1.2508333333333335\n"
     ]
    }
   ],
   "source": [
    "# Cálculos\n",
    "decimales_para_tna = 4 # Se vuelve a 4 decimales de tasa\n",
    "icp_clp_cashflow.set_tna_decimal_places(decimales_para_tna)\n",
    "\n",
    "nuevo_icp_inicio = 10000.0\n",
    "icp_clp_cashflow.set_start_date_icp(nuevo_icp_inicio)\n",
    "\n",
    "nuevo_icp_final = 10250.0\n",
    "icp_clp_cashflow.set_end_date_icp(nuevo_icp_final)\n",
    "\n",
    "print(\"Flujo:\", icp_clp_cashflow.amount())\n",
    "\n",
    "fecha_devengo = Qcf.QCDate(29, 3, 2019)\n",
    "icp_devengo = 10125.0\n",
    "tna_devengo = icp_clp_cashflow.get_tna(fecha_devengo, icp_devengo)\n",
    "print(\"TNA fijada a \" + fecha_devengo.description(True) + \":\", tna_devengo)\n",
    "print(\"Check:\", round((10125.0 / 10000.0 - 1) * 360.0 / fecha_inicio.day_diff(fecha_devengo), decimales_para_tna))\n",
    "print(\"Interés Devengado a \" + fecha_devengo.description(True) + \":\", icp_clp_cashflow.accrued_interest(fecha_devengo, icp_devengo))\n",
    "print(\"Check:\", 100 * tna_devengo * fecha_inicio.day_diff(fecha_devengo) / 360.0)"
   ]
  },
  {
   "cell_type": "code",
   "execution_count": 97,
   "metadata": {
    "ExecuteTime": {
     "end_time": "2022-01-09T13:12:38.125695Z",
     "start_time": "2022-01-09T13:12:38.111686Z"
    }
   },
   "outputs": [
    {
     "name": "stdout",
     "output_type": "stream",
     "text": [
      "('2018-09-20', '2019-09-20', '2019-09-23', 100.0, 10.0, True, 12.504305555555565, 'CLP', 10000.0, 10250.0, 0.0247, 2.504305555555564, 0.0, 1.0, 'LinAct360')\n"
     ]
    }
   ],
   "source": [
    "print(Qcf.show(icp_clp_cashflow))"
   ]
  },
  {
   "cell_type": "markdown",
   "metadata": {},
   "source": [
    "### Icp Clp Cashflow 2\n",
    "Un objeto de tipo `IcpClpCashflow2` representa un flujo de caja calculado como un cupón de la pata flotante de un swap ICP (cámara promedio) de Chile. Este tipo de cashflow puede ser *quantizado*, es decir, se puede cambiar su moneda de pago componiéndolo con un objeto adicional. Para dar de alta uno de estos objetos se requiere:\n",
    "\n",
    "- `QCDate`: fecha inicio (para la aplicación de la tasa)\n",
    "- `QCDate`: fecha final (para la aplicación de la tasa)\n",
    "- `QCDate`: fecha de pago\n",
    "- `float`: nominal (monto al que se le aplica la tasa)\n",
    "- `float`: amortización (eventual flujo de caja que corresponde a una porción del nominal)\n",
    "- `bool`: indica si la amortización anterior es un flujo de caja o sólo una disminución de nominal\n",
    "- `float`: spread aditivo a aplicar a la fijación de la TNA\n",
    "- `float`: spread multiplicativo o gearing a aplicar a la fijación de la TNA\n",
    "- `float`: el valor del ICP a fecha de inicio (u otro valor arbitrario si el valor es desconocido)\n",
    "- `float`: el valor del ICP a fecha final (u otro valor arbitrario si el valor es desconocido)\n",
    "\n",
    "Recordar que TNA significa **Tasa Nominal Anual** y se determina utilizando los valores del índice ICP en la fecha de inicio y fecha final del `IcpClpCashflow`."
   ]
  },
  {
   "cell_type": "code",
   "execution_count": 98,
   "metadata": {
    "ExecuteTime": {
     "end_time": "2022-01-09T13:12:38.141699Z",
     "start_time": "2022-01-09T13:12:38.127678Z"
    }
   },
   "outputs": [],
   "source": [
    "# Ejemplo\n",
    "fecha_inicio = Qcf.QCDate(20, 9, 2018)\n",
    "fecha_final = Qcf.QCDate(20, 9, 2019)\n",
    "fecha_pago = Qcf.QCDate(23, 9, 2019)\n",
    "nominal = 1000000000.0\n",
    "amort = 100000000.0\n",
    "spread = 0.0\n",
    "gearing = 1.0\n",
    "icp_clp_cashflow2 = Qcf.IcpClpCashflow2(fecha_inicio,\n",
    "                                        fecha_final,\n",
    "                                        fecha_pago,\n",
    "                                        nominal,\n",
    "                                        amort,\n",
    "                                        True,\n",
    "                                        spread,\n",
    "                                        gearing,\n",
    "                                        10000.0,\n",
    "                                        10250.0)"
   ]
  },
  {
   "cell_type": "code",
   "execution_count": 99,
   "metadata": {
    "ExecuteTime": {
     "end_time": "2022-01-09T13:12:38.157702Z",
     "start_time": "2022-01-09T13:12:38.143693Z"
    }
   },
   "outputs": [
    {
     "name": "stdout",
     "output_type": "stream",
     "text": [
      "Fecha Inicio: 20-9-2018\n",
      "Fecha Final: 20-9-2019\n",
      "ICP Fecha Inicio: 10250.0\n",
      "ICP Fecha Final: 10000.0\n",
      "Valor TNA Todo el Período: -0.0241\n",
      "Check: 0.0247\n",
      "Nominal: 1000000000.0\n",
      "Amortización: 100000000.0\n",
      "Tipo de Tasa: LinAct360\n",
      "Moneda: CLP\n"
     ]
    }
   ],
   "source": [
    "# Getters\n",
    "print(\"Fecha Inicio:\", icp_clp_cashflow2.get_start_date())\n",
    "print(\"Fecha Final:\", icp_clp_cashflow2.get_end_date())\n",
    "print(\"ICP Fecha Inicio:\", icp_clp_cashflow2.get_start_date_icp())\n",
    "print(\"ICP Fecha Final:\", icp_clp_cashflow2.get_end_date_icp())\n",
    "print(\"Valor TNA Todo el Período:\", icp_clp_cashflow2.get_rate_value())\n",
    "print(\"Check:\", round((10250.0 / 10000 - 1) * 360.0 / fecha_inicio.day_diff(fecha_final), 4))\n",
    "print(\"Nominal:\", icp_clp_cashflow2.get_nominal())\n",
    "print(\"Amortización:\", icp_clp_cashflow2.get_amortization())\n",
    "print(\"Tipo de Tasa:\", icp_clp_cashflow2.get_type_of_rate())\n",
    "print(\"Moneda:\", icp_clp_cashflow2.ccy())"
   ]
  },
  {
   "cell_type": "code",
   "execution_count": 100,
   "metadata": {
    "ExecuteTime": {
     "end_time": "2022-01-09T13:12:38.173706Z",
     "start_time": "2022-01-09T13:12:38.159703Z"
    }
   },
   "outputs": [
    {
     "name": "stdout",
     "output_type": "stream",
     "text": [
      "Nueva TNA: -0.0241\n",
      "Nuevo Nominal: 100.0\n",
      "Nueva Amortización: 10.0\n",
      "Nuevo ICP Inicio: 20000.0\n",
      "Nuevo ICP Final: 20000.0\n",
      "Check TNA Final: -0.0241\n"
     ]
    }
   ],
   "source": [
    "# Setters\n",
    "decimales_para_tna = 6\n",
    "icp_clp_cashflow2.set_tna_decimal_places(decimales_para_tna)\n",
    "print(\"Nueva TNA:\", icp_clp_cashflow2.get_rate_value())\n",
    "\n",
    "nuevo_nominal = 100\n",
    "icp_clp_cashflow2.set_nominal(nuevo_nominal)\n",
    "print(\"Nuevo Nominal:\", icp_clp_cashflow2.get_nominal())\n",
    "\n",
    "nueva_amortizacion = 10\n",
    "icp_clp_cashflow2.set_amortization(nueva_amortizacion)\n",
    "print(\"Nueva Amortización:\", icp_clp_cashflow2.get_amortization())\n",
    "\n",
    "nuevo_icp_inicio = 20000\n",
    "icp_clp_cashflow2.set_start_date_icp(nuevo_icp_inicio)\n",
    "print(\"Nuevo ICP Inicio:\", icp_clp_cashflow2.get_start_date_icp())\n",
    "\n",
    "nuevo_icp_final = 20000\n",
    "icp_clp_cashflow2.set_end_date_icp(nuevo_icp_final)\n",
    "print(\"Nuevo ICP Final:\", icp_clp_cashflow2.get_end_date_icp())\n",
    "print(\"Check TNA Final:\", icp_clp_cashflow2.get_rate_value())"
   ]
  },
  {
   "cell_type": "code",
   "execution_count": 101,
   "metadata": {
    "ExecuteTime": {
     "end_time": "2022-01-09T13:12:38.189709Z",
     "start_time": "2022-01-09T13:12:38.176695Z"
    }
   },
   "outputs": [
    {
     "name": "stdout",
     "output_type": "stream",
     "text": [
      "Flujo: 12.499999999999991\n",
      "TNA fijada a 29-03-2019: 0.0237\n",
      "Check: 0.0237\n",
      "Interés Devengado a 29-03-2019: 1.2508333333333344\n",
      "Check: 1.2508333333333335\n"
     ]
    }
   ],
   "source": [
    "# Cálculos\n",
    "decimales_para_tna = 4 # Se vuelve a 4 decimales de tasa\n",
    "icp_clp_cashflow2.set_tna_decimal_places(decimales_para_tna)\n",
    "\n",
    "nuevo_icp_inicio = 10000.0\n",
    "icp_clp_cashflow2.set_start_date_icp(nuevo_icp_inicio)\n",
    "\n",
    "nuevo_icp_final = 10250.0\n",
    "icp_clp_cashflow2.set_end_date_icp(nuevo_icp_final)\n",
    "\n",
    "print(\"Flujo:\", icp_clp_cashflow2.amount())\n",
    "\n",
    "fecha_devengo = Qcf.QCDate(29, 3, 2019)\n",
    "icp_devengo = 10125.0\n",
    "tna_devengo = icp_clp_cashflow2.get_tna(fecha_devengo, icp_devengo)\n",
    "print(\"TNA fijada a \" + fecha_devengo.description(True) + \":\", tna_devengo)\n",
    "print(\"Check:\", round((10125.0 / 10000.0 - 1) * 360.0 / fecha_inicio.day_diff(fecha_devengo), decimales_para_tna))\n",
    "data = Qcf.time_series()\n",
    "data[fecha_devengo] = icp_devengo\n",
    "print(\"Interés Devengado a \" + fecha_devengo.description(True) + \":\", icp_clp_cashflow2.accrued_interest(fecha_devengo, data))\n",
    "print(\"Check:\", 100 * tna_devengo * fecha_inicio.day_diff(fecha_devengo) / 360.0)"
   ]
  },
  {
   "cell_type": "code",
   "execution_count": 102,
   "metadata": {
    "ExecuteTime": {
     "end_time": "2022-01-09T13:12:38.205714Z",
     "start_time": "2022-01-09T13:12:38.191695Z"
    }
   },
   "outputs": [
    {
     "name": "stdout",
     "output_type": "stream",
     "text": [
      "('2018-09-20', '2019-09-20', '2019-09-23', 100.0, 10.0, True, 12.499999999999991, 'CLP', 10000.0, 10250.0, 0.0247, 2.504305555555564, 0.0, 1.0, 'LinAct360')\n"
     ]
    }
   ],
   "source": [
    "print(Qcf.show(icp_clp_cashflow2))"
   ]
  },
  {
   "cell_type": "markdown",
   "metadata": {},
   "source": [
    "### Icp Clf Cashflow\n",
    "Un objeto de tipo `IcpClfCashflow` representa un flujo de caja calculado como un cupón de la pata flotante de un swap ICP (cámara promedio) en UF de Chile. Para dar de alta uno de estos objetos se requiere:\n",
    "\n",
    "- `QCDate`: fecha inicio (para la aplicación de la tasa)\n",
    "- `QCDate`: fecha final (para la aplicación de la tasa)\n",
    "- `QCDate`: fecha de pago\n",
    "- `float`: nominal (monto al que se le aplica la tasa)\n",
    "- `float`: amortización (eventual flujo de caja que corresponde a una porción del nominal)\n",
    "- `bool`: indica si la amortización anterior es un flujo de caja o sólo una disminución de nominal\n",
    "- `float`: spread aditivo a aplicar a la fijación de la TRA\n",
    "- `float`: spread multiplicativo o gearing a aplicar a la fijación de la TRA\n",
    "- `vector<float>`: objeto `double_vec` (en Python) que contiene ICP Inicio, ICP Final, UF Inicio, UF Final (se debe respetar el orden)\n",
    "\n",
    "Recordar que TRA significa **Tasa Real Anual** y se determina utilizando los valores del índice ICP y los valores de la UF en la fecha de inicio y fecha final del `IcpClfCashflow`."
   ]
  },
  {
   "cell_type": "code",
   "execution_count": 103,
   "metadata": {
    "ExecuteTime": {
     "end_time": "2022-01-09T13:12:38.221716Z",
     "start_time": "2022-01-09T13:12:38.207708Z"
    }
   },
   "outputs": [],
   "source": [
    "# Ejemplo\n",
    "fecha_inicio = Qcf.QCDate(20, 9, 2018)\n",
    "fecha_final = Qcf.QCDate(20, 9, 2019)\n",
    "fecha_pago = Qcf.QCDate(23, 9, 2019)\n",
    "nominal = 300000.0\n",
    "amort = 100000.0\n",
    "spread = 0.0\n",
    "gearing = 1.0\n",
    "icp_uf = Qcf.double_vec()\n",
    "icp_uf.append(10000.0)\n",
    "icp_uf.append(10250.0)\n",
    "icp_uf.append(10000.0)\n",
    "icp_uf.append(10400.0)\n",
    "icp_clf_cashflow = Qcf.IcpClfCashflow(fecha_inicio,\n",
    "                                      fecha_final,\n",
    "                                      fecha_pago,\n",
    "                                      nominal,\n",
    "                                      amort,\n",
    "                                      True,\n",
    "                                      spread,\n",
    "                                      gearing,\n",
    "                                      icp_uf)"
   ]
  },
  {
   "cell_type": "code",
   "execution_count": 104,
   "metadata": {
    "ExecuteTime": {
     "end_time": "2022-01-09T13:12:38.237721Z",
     "start_time": "2022-01-09T13:12:38.223717Z"
    }
   },
   "outputs": [
    {
     "name": "stdout",
     "output_type": "stream",
     "text": [
      "Fecha Inicio: 20-9-2018\n",
      "Fecha Final: 20-9-2019\n",
      "ICP Fecha Inicio: 10000.0\n",
      "ICP Fecha Final: 10250.0\n",
      "UF Fecha Inicio: 10000.0\n",
      "UF Fecha Final: 10400.0\n",
      "Valor TRA Todo el Período: -0.014185\n",
      "Check TRA: -0.014185\n",
      "Nominal: 300000.0\n",
      "Amortización: 100000.0\n",
      "Tipo de Tasa: LinAct360\n",
      "Moneda: CLF\n"
     ]
    }
   ],
   "source": [
    "# Getters\n",
    "print(\"Fecha Inicio:\", icp_clf_cashflow.get_start_date())\n",
    "print(\"Fecha Final:\", icp_clf_cashflow.get_end_date())\n",
    "print(\"ICP Fecha Inicio:\", icp_clf_cashflow.get_start_date_icp())\n",
    "print(\"ICP Fecha Final:\", icp_clf_cashflow.get_end_date_icp())\n",
    "print(\"UF Fecha Inicio:\", icp_clf_cashflow.get_start_date_uf())\n",
    "print(\"UF Fecha Final:\", icp_clf_cashflow.get_end_date_uf())\n",
    "print(\"Valor TRA Todo el Período:\", icp_clf_cashflow.get_rate_value())\n",
    "tna = icp_clf_cashflow.get_tna(fecha_final, 10250.0)\n",
    "dias = fecha_inicio.day_diff(fecha_final)\n",
    "tra = ((1 + tna * dias / 360.0) * 10000.0 / 10400.0 - 1) * 360.0 / dias\n",
    "print(\"Check TRA:\", round(tra, 6))\n",
    "print(\"Nominal:\", icp_clf_cashflow.get_nominal())\n",
    "print(\"Amortización:\", icp_clf_cashflow.get_amortization())\n",
    "print(\"Tipo de Tasa:\", icp_clf_cashflow.get_type_of_rate())\n",
    "print(\"Moneda:\", icp_clf_cashflow.ccy())"
   ]
  },
  {
   "cell_type": "code",
   "execution_count": 105,
   "metadata": {
    "ExecuteTime": {
     "end_time": "2022-01-09T13:12:38.252711Z",
     "start_time": "2022-01-09T13:12:38.239715Z"
    }
   },
   "outputs": [
    {
     "name": "stdout",
     "output_type": "stream",
     "text": [
      "Nueva TRA: -0.01418467\n",
      "Nuevo Nominal: 100000.0\n",
      "Nueva Amortización: 10000.0\n",
      "Nuevo ICP Inicio: 20000.0\n",
      "Nuevo ICP Final: 20000.0\n",
      "Check TNA Final: 0.0\n"
     ]
    }
   ],
   "source": [
    "# Setters\n",
    "decimales_para_tra = 8\n",
    "icp_clf_cashflow.set_tra_decimal_places(decimales_para_tra)\n",
    "print(\"Nueva TRA:\", icp_clf_cashflow.get_rate_value())\n",
    "\n",
    "nuevo_nominal = 100000.0\n",
    "icp_clf_cashflow.set_nominal(nuevo_nominal)\n",
    "print(\"Nuevo Nominal:\", icp_clf_cashflow.get_nominal())\n",
    "\n",
    "nueva_amortizacion = 10000.0\n",
    "icp_clf_cashflow.set_amortization(nueva_amortizacion)\n",
    "print(\"Nueva Amortización:\", icp_clf_cashflow.get_amortization())\n",
    "\n",
    "nuevo_icp_inicio = 20000.0\n",
    "icp_clf_cashflow.set_start_date_icp(nuevo_icp_inicio)\n",
    "print(\"Nuevo ICP Inicio:\", icp_clf_cashflow.get_start_date_icp())\n",
    "\n",
    "nuevo_icp_final = 20000.0\n",
    "icp_clf_cashflow.set_end_date_icp(nuevo_icp_final)\n",
    "print(\"Nuevo ICP Final:\", icp_clf_cashflow.get_end_date_icp())\n",
    "print(\"Check TNA Final:\", icp_clf_cashflow.get_tna(fecha_final, nuevo_icp_final))"
   ]
  },
  {
   "cell_type": "markdown",
   "metadata": {},
   "source": [
    "### Compounded Overnight Rate Cashflow\n",
    "Un objeto de tipo `CompoundedOvernightRateCashflow` representa un flujo de caja calculado como un cupón de la pata flotante de un OIS sobre cualquier índice overnight (SOFR, FF, EONIA). Para dar de alta uno de estos objetos se requiere:\n",
    "\n",
    "- `InterestRateIndex`: el índice de tasa de interés prefijado\n",
    "- `QCDate`: fecha inicio (para la aplicación de la tasa)\n",
    "- `QCDate`: fecha final (para la aplicación de la tasa)\n",
    "- `QCDate`: fecha de pago\n",
    "- `DateList`: fechas de fixing del índice\n",
    "- `float`: nominal (monto al que se le aplica la tasa)\n",
    "- `float`: amortización (eventual flujo de caja que corresponde a una porción del nominal)\n",
    "- `bool`: indica si la amortización anterior es un flujo de caja o sólo una disminución de nominal\n",
    "- `QCCurrency`: moneda del nocional de la operación\n",
    "- `float`: spread aditivo a aplicar a la fijación de la TRA\n",
    "- `float`: spread multiplicativo o gearing a aplicar a la fijación de la TRA\n",
    "- `bool`: si `True` la tasa equivalente se calcula en convención Lin Act/360. En caso contrario es Lin 30/360\n",
    "- `unsigned int`: número de días de lookback\n",
    "- `unsigned int`: número de días de lockout\n",
    "\n",
    "El efecto de lookback y lockout aún no está implementado."
   ]
  },
  {
   "cell_type": "markdown",
   "metadata": {},
   "source": [
    "#### Constructor"
   ]
  },
  {
   "cell_type": "markdown",
   "metadata": {},
   "source": [
    "Se da de alta un índice overnight ficiticio de test."
   ]
  },
  {
   "cell_type": "code",
   "execution_count": 106,
   "metadata": {
    "ExecuteTime": {
     "end_time": "2022-01-09T13:12:38.268715Z",
     "start_time": "2022-01-09T13:12:38.254718Z"
    }
   },
   "outputs": [],
   "source": [
    "codigo = 'OITEST'\n",
    "lin_act360 = Qcf.QCInterestRate(.0, act360, lin_wf)\n",
    "fixing_lag = Qcf.Tenor('0d')\n",
    "tenor = Qcf.Tenor('1d')\n",
    "fixing_calendar = scl\n",
    "settlement_calendar = scl\n",
    "oitest = Qcf.InterestRateIndex(\n",
    "    codigo,\n",
    "    lin_act360,\n",
    "    fixing_lag,\n",
    "    tenor,\n",
    "    fixing_calendar,\n",
    "    settlement_calendar,\n",
    "    usd)"
   ]
  },
  {
   "cell_type": "code",
   "execution_count": 107,
   "metadata": {
    "ExecuteTime": {
     "end_time": "2022-01-09T13:12:38.284719Z",
     "start_time": "2022-01-09T13:12:38.270709Z"
    }
   },
   "outputs": [],
   "source": [
    "fixing_dates = Qcf.DateList()"
   ]
  },
  {
   "cell_type": "code",
   "execution_count": 108,
   "metadata": {
    "ExecuteTime": {
     "end_time": "2022-01-09T13:12:38.300734Z",
     "start_time": "2022-01-09T13:12:38.286719Z"
    }
   },
   "outputs": [],
   "source": [
    "fixing_dates.append(Qcf.QCDate(27, 12, 2021))\n",
    "fixing_dates.append(Qcf.QCDate(28, 12, 2021))\n",
    "fixing_dates.append(Qcf.QCDate(29, 12, 2021))\n",
    "fixing_dates.append(Qcf.QCDate(30, 12, 2021))"
   ]
  },
  {
   "cell_type": "code",
   "execution_count": 109,
   "metadata": {
    "ExecuteTime": {
     "end_time": "2022-01-09T13:12:38.316738Z",
     "start_time": "2022-01-09T13:12:38.302730Z"
    }
   },
   "outputs": [],
   "source": [
    "cor_cashflow = Qcf.CompoundedOvernightRateCashflow(\n",
    "    oitest,\n",
    "    Qcf.QCDate(27, 12, 2021),\n",
    "    Qcf.QCDate(31, 12, 2021),\n",
    "    Qcf.QCDate(31, 12, 2021),\n",
    "    fixing_dates,\n",
    "    10000000.0,\n",
    "    100000.0,\n",
    "    True,\n",
    "    Qcf.QCCLP(),\n",
    "    .001,\n",
    "    1.0,\n",
    "    True,\n",
    "    8,\n",
    "    0,\n",
    "    0\n",
    ")"
   ]
  },
  {
   "cell_type": "markdown",
   "metadata": {},
   "source": [
    "#### Getters"
   ]
  },
  {
   "cell_type": "code",
   "execution_count": 110,
   "metadata": {
    "ExecuteTime": {
     "end_time": "2022-01-09T13:12:38.332726Z",
     "start_time": "2022-01-09T13:12:38.318719Z"
    }
   },
   "outputs": [
    {
     "data": {
      "text/plain": [
       "'2021-12-27'"
      ]
     },
     "execution_count": 110,
     "metadata": {},
     "output_type": "execute_result"
    }
   ],
   "source": [
    "cor_cashflow.get_start_date().description(False)"
   ]
  },
  {
   "cell_type": "code",
   "execution_count": 111,
   "metadata": {
    "ExecuteTime": {
     "end_time": "2022-01-09T13:12:38.348745Z",
     "start_time": "2022-01-09T13:12:38.333730Z"
    }
   },
   "outputs": [
    {
     "data": {
      "text/plain": [
       "'2021-12-31'"
      ]
     },
     "execution_count": 111,
     "metadata": {},
     "output_type": "execute_result"
    }
   ],
   "source": [
    "cor_cashflow.get_end_date().description(False)"
   ]
  },
  {
   "cell_type": "code",
   "execution_count": 112,
   "metadata": {
    "ExecuteTime": {
     "end_time": "2022-01-09T13:12:38.364749Z",
     "start_time": "2022-01-09T13:12:38.350740Z"
    }
   },
   "outputs": [
    {
     "data": {
      "text/plain": [
       "'2021-12-31'"
      ]
     },
     "execution_count": 112,
     "metadata": {},
     "output_type": "execute_result"
    }
   ],
   "source": [
    "cor_cashflow.get_settlement_date().description(False)"
   ]
  },
  {
   "cell_type": "code",
   "execution_count": 113,
   "metadata": {
    "ExecuteTime": {
     "end_time": "2022-01-09T13:12:38.380752Z",
     "start_time": "2022-01-09T13:12:38.366743Z"
    }
   },
   "outputs": [
    {
     "name": "stdout",
     "output_type": "stream",
     "text": [
      "27-12-2021\n",
      "28-12-2021\n",
      "29-12-2021\n",
      "30-12-2021\n"
     ]
    }
   ],
   "source": [
    "for d in cor_cashflow.get_fixing_dates():\n",
    "    print(d)"
   ]
  },
  {
   "cell_type": "code",
   "execution_count": 114,
   "metadata": {
    "ExecuteTime": {
     "end_time": "2022-01-09T13:12:38.396756Z",
     "start_time": "2022-01-09T13:12:38.382735Z"
    }
   },
   "outputs": [
    {
     "data": {
      "text/plain": [
       "10000000.0"
      ]
     },
     "execution_count": 114,
     "metadata": {},
     "output_type": "execute_result"
    }
   ],
   "source": [
    "cor_cashflow.get_nominal()"
   ]
  },
  {
   "cell_type": "code",
   "execution_count": 115,
   "metadata": {
    "ExecuteTime": {
     "end_time": "2022-01-09T13:12:38.412759Z",
     "start_time": "2022-01-09T13:12:38.398737Z"
    }
   },
   "outputs": [
    {
     "data": {
      "text/plain": [
       "100000.0"
      ]
     },
     "execution_count": 115,
     "metadata": {},
     "output_type": "execute_result"
    }
   ],
   "source": [
    "cor_cashflow.get_amortization()"
   ]
  },
  {
   "cell_type": "code",
   "execution_count": 116,
   "metadata": {
    "ExecuteTime": {
     "end_time": "2022-01-09T13:12:38.428763Z",
     "start_time": "2022-01-09T13:12:38.414739Z"
    }
   },
   "outputs": [
    {
     "data": {
      "text/plain": [
       "'CLP'"
      ]
     },
     "execution_count": 116,
     "metadata": {},
     "output_type": "execute_result"
    }
   ],
   "source": [
    "cor_cashflow.get_initial_currency().get_iso_code()"
   ]
  },
  {
   "cell_type": "code",
   "execution_count": 117,
   "metadata": {
    "ExecuteTime": {
     "end_time": "2022-01-09T13:12:38.444767Z",
     "start_time": "2022-01-09T13:12:38.430744Z"
    }
   },
   "outputs": [
    {
     "data": {
      "text/plain": [
       "0.001"
      ]
     },
     "execution_count": 117,
     "metadata": {},
     "output_type": "execute_result"
    }
   ],
   "source": [
    "cor_cashflow.get_spread()"
   ]
  },
  {
   "cell_type": "code",
   "execution_count": 118,
   "metadata": {
    "ExecuteTime": {
     "end_time": "2022-01-09T13:12:38.460770Z",
     "start_time": "2022-01-09T13:12:38.446748Z"
    }
   },
   "outputs": [
    {
     "data": {
      "text/plain": [
       "1.0"
      ]
     },
     "execution_count": 118,
     "metadata": {},
     "output_type": "execute_result"
    }
   ],
   "source": [
    "cor_cashflow.get_gearing()"
   ]
  },
  {
   "cell_type": "code",
   "execution_count": 119,
   "metadata": {
    "ExecuteTime": {
     "end_time": "2022-01-09T13:12:38.476774Z",
     "start_time": "2022-01-09T13:12:38.462771Z"
    }
   },
   "outputs": [
    {
     "data": {
      "text/plain": [
       "'COMPOUNDED_OVERNIGHT_RATE'"
      ]
     },
     "execution_count": 119,
     "metadata": {},
     "output_type": "execute_result"
    }
   ],
   "source": [
    "cor_cashflow.get_type()"
   ]
  },
  {
   "cell_type": "code",
   "execution_count": 120,
   "metadata": {
    "ExecuteTime": {
     "end_time": "2022-01-09T13:12:38.492778Z",
     "start_time": "2022-01-09T13:12:38.478762Z"
    }
   },
   "outputs": [
    {
     "data": {
      "text/plain": [
       "8"
      ]
     },
     "execution_count": 120,
     "metadata": {},
     "output_type": "execute_result"
    }
   ],
   "source": [
    "cor_cashflow.get_eq_rate_decimal_places()"
   ]
  },
  {
   "cell_type": "code",
   "execution_count": 121,
   "metadata": {
    "ExecuteTime": {
     "end_time": "2022-01-09T13:12:38.508781Z",
     "start_time": "2022-01-09T13:12:38.494766Z"
    }
   },
   "outputs": [],
   "source": [
    "derivs = cor_cashflow.get_amount_derivatives()"
   ]
  },
  {
   "cell_type": "code",
   "execution_count": 122,
   "metadata": {
    "ExecuteTime": {
     "end_time": "2022-01-09T13:12:38.523860Z",
     "start_time": "2022-01-09T13:12:38.510776Z"
    }
   },
   "outputs": [
    {
     "data": {
      "text/plain": [
       "2"
      ]
     },
     "execution_count": 122,
     "metadata": {},
     "output_type": "execute_result"
    }
   ],
   "source": [
    "len(derivs)"
   ]
  },
  {
   "cell_type": "code",
   "execution_count": 123,
   "metadata": {
    "ExecuteTime": {
     "end_time": "2022-01-09T13:12:38.538950Z",
     "start_time": "2022-01-09T13:12:38.524950Z"
    }
   },
   "outputs": [
    {
     "name": "stdout",
     "output_type": "stream",
     "text": [
      "0.0\n",
      "0.0\n"
     ]
    }
   ],
   "source": [
    "for der in derivs:\n",
    "    print(der)"
   ]
  },
  {
   "cell_type": "markdown",
   "metadata": {},
   "source": [
    "#### Setters"
   ]
  },
  {
   "cell_type": "code",
   "execution_count": 124,
   "metadata": {
    "ExecuteTime": {
     "end_time": "2022-01-09T13:12:38.554286Z",
     "start_time": "2022-01-09T13:12:38.540939Z"
    }
   },
   "outputs": [
    {
     "data": {
      "text/plain": [
       "1000.0"
      ]
     },
     "execution_count": 124,
     "metadata": {},
     "output_type": "execute_result"
    }
   ],
   "source": [
    "cor_cashflow.set_nominal(1000)\n",
    "cor_cashflow.get_nominal()"
   ]
  },
  {
   "cell_type": "code",
   "execution_count": 125,
   "metadata": {
    "ExecuteTime": {
     "end_time": "2022-01-09T13:12:38.570289Z",
     "start_time": "2022-01-09T13:12:38.556267Z"
    }
   },
   "outputs": [
    {
     "data": {
      "text/plain": [
       "0.0"
      ]
     },
     "execution_count": 125,
     "metadata": {},
     "output_type": "execute_result"
    }
   ],
   "source": [
    "cor_cashflow.set_amortization(0)\n",
    "cor_cashflow.get_amortization()"
   ]
  },
  {
   "cell_type": "markdown",
   "metadata": {},
   "source": [
    "Se reversa el ejemplo."
   ]
  },
  {
   "cell_type": "code",
   "execution_count": 126,
   "metadata": {
    "ExecuteTime": {
     "end_time": "2022-01-09T13:12:38.585709Z",
     "start_time": "2022-01-09T13:12:38.572271Z"
    }
   },
   "outputs": [],
   "source": [
    "cor_cashflow.set_nominal(10000000)\n",
    "cor_cashflow.set_amortization(100000)"
   ]
  },
  {
   "cell_type": "markdown",
   "metadata": {},
   "source": [
    "#### Accrued Fixing"
   ]
  },
  {
   "cell_type": "code",
   "execution_count": 127,
   "metadata": {
    "ExecuteTime": {
     "end_time": "2022-01-09T13:12:38.743739Z",
     "start_time": "2022-01-09T13:12:38.587703Z"
    }
   },
   "outputs": [
    {
     "ename": "ValueError",
     "evalue": "A TimeSeries object with overnight rate values is needed.",
     "output_type": "error",
     "traceback": [
      "\u001b[1;31m---------------------------------------------------------------------------\u001b[0m",
      "\u001b[1;31mValueError\u001b[0m                                Traceback (most recent call last)",
      "\u001b[1;32m~\\AppData\\Local\\Temp/ipykernel_19296/952219982.py\u001b[0m in \u001b[0;36m<module>\u001b[1;34m\u001b[0m\n\u001b[1;32m----> 1\u001b[1;33m \u001b[0mcor_cashflow\u001b[0m\u001b[1;33m.\u001b[0m\u001b[0maccrued_fixing\u001b[0m\u001b[1;33m(\u001b[0m\u001b[0mQcf\u001b[0m\u001b[1;33m.\u001b[0m\u001b[0mQCDate\u001b[0m\u001b[1;33m(\u001b[0m\u001b[1;36m29\u001b[0m\u001b[1;33m,\u001b[0m \u001b[1;36m12\u001b[0m\u001b[1;33m,\u001b[0m \u001b[1;36m2021\u001b[0m\u001b[1;33m)\u001b[0m\u001b[1;33m)\u001b[0m\u001b[1;33m\u001b[0m\u001b[1;33m\u001b[0m\u001b[0m\n\u001b[0m",
      "\u001b[1;31mValueError\u001b[0m: A TimeSeries object with overnight rate values is needed."
     ]
    }
   ],
   "source": [
    "cor_cashflow.accrued_fixing(Qcf.QCDate(29, 12, 2021))"
   ]
  },
  {
   "cell_type": "code",
   "execution_count": 128,
   "metadata": {
    "ExecuteTime": {
     "end_time": "2022-01-09T13:13:06.451571Z",
     "start_time": "2022-01-09T13:13:06.437558Z"
    }
   },
   "outputs": [],
   "source": [
    "ts = Qcf.time_series()"
   ]
  },
  {
   "cell_type": "code",
   "execution_count": 129,
   "metadata": {
    "ExecuteTime": {
     "end_time": "2022-01-09T13:13:06.858447Z",
     "start_time": "2022-01-09T13:13:06.843457Z"
    }
   },
   "outputs": [],
   "source": [
    "ts[Qcf.QCDate(27, 12, 2021)] = .01\n",
    "ts[Qcf.QCDate(28, 12, 2021)] = .02\n",
    "ts[Qcf.QCDate(29, 12, 2021)] = .03\n",
    "ts[Qcf.QCDate(30, 12, 2021)] = .04"
   ]
  },
  {
   "cell_type": "code",
   "execution_count": 130,
   "metadata": {
    "ExecuteTime": {
     "end_time": "2022-01-09T13:13:07.227046Z",
     "start_time": "2022-01-09T13:13:07.222037Z"
    }
   },
   "outputs": [
    {
     "data": {
      "text/plain": [
       "0.01500028"
      ]
     },
     "execution_count": 130,
     "metadata": {},
     "output_type": "execute_result"
    }
   ],
   "source": [
    "cor_cashflow.accrued_fixing(Qcf.QCDate(29, 12, 2021), ts)"
   ]
  },
  {
   "cell_type": "code",
   "execution_count": 131,
   "metadata": {
    "ExecuteTime": {
     "end_time": "2022-01-09T13:13:07.463792Z",
     "start_time": "2022-01-09T13:13:07.455802Z"
    }
   },
   "outputs": [
    {
     "name": "stdout",
     "output_type": "stream",
     "text": [
      "0.015000277777739157\n"
     ]
    }
   ],
   "source": [
    "check = ((1 + .01 / 360) * (1 + .02 / 360.0) - 1) * 360 / 2.0\n",
    "print(check)"
   ]
  },
  {
   "cell_type": "markdown",
   "metadata": {},
   "source": [
    "#### Accrued Interest"
   ]
  },
  {
   "cell_type": "code",
   "execution_count": 132,
   "metadata": {
    "ExecuteTime": {
     "end_time": "2022-01-09T13:13:07.857059Z",
     "start_time": "2022-01-09T13:13:07.837041Z"
    }
   },
   "outputs": [
    {
     "ename": "ValueError",
     "evalue": "A TimeSeries object with overnight rate values is needed.",
     "output_type": "error",
     "traceback": [
      "\u001b[1;31m---------------------------------------------------------------------------\u001b[0m",
      "\u001b[1;31mValueError\u001b[0m                                Traceback (most recent call last)",
      "\u001b[1;32m~\\AppData\\Local\\Temp/ipykernel_19296/2776265984.py\u001b[0m in \u001b[0;36m<module>\u001b[1;34m\u001b[0m\n\u001b[1;32m----> 1\u001b[1;33m \u001b[0mcor_cashflow\u001b[0m\u001b[1;33m.\u001b[0m\u001b[0maccrued_interest\u001b[0m\u001b[1;33m(\u001b[0m\u001b[0mQcf\u001b[0m\u001b[1;33m.\u001b[0m\u001b[0mQCDate\u001b[0m\u001b[1;33m(\u001b[0m\u001b[1;36m29\u001b[0m\u001b[1;33m,\u001b[0m \u001b[1;36m12\u001b[0m\u001b[1;33m,\u001b[0m \u001b[1;36m2021\u001b[0m\u001b[1;33m)\u001b[0m\u001b[1;33m)\u001b[0m\u001b[1;33m\u001b[0m\u001b[1;33m\u001b[0m\u001b[0m\n\u001b[0m",
      "\u001b[1;31mValueError\u001b[0m: A TimeSeries object with overnight rate values is needed."
     ]
    }
   ],
   "source": [
    "cor_cashflow.accrued_interest(Qcf.QCDate(29, 12, 2021))"
   ]
  },
  {
   "cell_type": "code",
   "execution_count": 133,
   "metadata": {
    "ExecuteTime": {
     "end_time": "2022-01-09T13:13:08.044191Z",
     "start_time": "2022-01-09T13:13:08.027187Z"
    }
   },
   "outputs": [
    {
     "data": {
      "text/plain": [
       "888.9044444448934"
      ]
     },
     "execution_count": 133,
     "metadata": {},
     "output_type": "execute_result"
    }
   ],
   "source": [
    "cor_cashflow.accrued_interest(Qcf.QCDate(29, 12, 2021), ts)"
   ]
  },
  {
   "cell_type": "code",
   "execution_count": 134,
   "metadata": {
    "ExecuteTime": {
     "end_time": "2022-01-09T13:13:08.238029Z",
     "start_time": "2022-01-09T13:13:08.222119Z"
    }
   },
   "outputs": [
    {
     "name": "stdout",
     "output_type": "stream",
     "text": [
      "888.9044444444444\n"
     ]
    }
   ],
   "source": [
    "check = cor_cashflow.get_nominal() * (cor_cashflow.accrued_fixing(Qcf.QCDate(29, 12, 2021), ts) +\n",
    "                                      .001) * 2 / 360.0\n",
    "print(check)"
   ]
  },
  {
   "cell_type": "code",
   "execution_count": 135,
   "metadata": {
    "ExecuteTime": {
     "end_time": "2022-01-09T13:13:08.425998Z",
     "start_time": "2022-01-09T13:13:08.413996Z"
    }
   },
   "outputs": [
    {
     "data": {
      "text/plain": [
       "10000000.0"
      ]
     },
     "execution_count": 135,
     "metadata": {},
     "output_type": "execute_result"
    }
   ],
   "source": [
    "cor_cashflow.amount()"
   ]
  },
  {
   "cell_type": "code",
   "execution_count": 136,
   "metadata": {
    "ExecuteTime": {
     "end_time": "2022-01-09T13:13:08.725601Z",
     "start_time": "2022-01-09T13:13:08.705590Z"
    }
   },
   "outputs": [
    {
     "data": {
      "text/plain": [
       "'2021-12-31'"
      ]
     },
     "execution_count": 136,
     "metadata": {},
     "output_type": "execute_result"
    }
   ],
   "source": [
    "cor_cashflow.date().description(False)"
   ]
  },
  {
   "cell_type": "code",
   "execution_count": 137,
   "metadata": {
    "ExecuteTime": {
     "end_time": "2022-01-09T13:13:09.088802Z",
     "start_time": "2022-01-09T13:13:09.072509Z"
    }
   },
   "outputs": [
    {
     "ename": "ValueError",
     "evalue": "A TimeSeries object with overnight rate values is needed.",
     "output_type": "error",
     "traceback": [
      "\u001b[1;31m---------------------------------------------------------------------------\u001b[0m",
      "\u001b[1;31mValueError\u001b[0m                                Traceback (most recent call last)",
      "\u001b[1;32m~\\AppData\\Local\\Temp/ipykernel_19296/2030891008.py\u001b[0m in \u001b[0;36m<module>\u001b[1;34m\u001b[0m\n\u001b[1;32m----> 1\u001b[1;33m \u001b[0mcor_cashflow\u001b[0m\u001b[1;33m.\u001b[0m\u001b[0mfixing\u001b[0m\u001b[1;33m(\u001b[0m\u001b[1;33m)\u001b[0m\u001b[1;33m\u001b[0m\u001b[1;33m\u001b[0m\u001b[0m\n\u001b[0m",
      "\u001b[1;31mValueError\u001b[0m: A TimeSeries object with overnight rate values is needed."
     ]
    }
   ],
   "source": [
    "cor_cashflow.fixing()"
   ]
  },
  {
   "cell_type": "code",
   "execution_count": 138,
   "metadata": {
    "ExecuteTime": {
     "end_time": "2022-01-09T13:13:09.334064Z",
     "start_time": "2022-01-09T13:13:09.320055Z"
    }
   },
   "outputs": [
    {
     "ename": "ValueError",
     "evalue": "A TimeSeries object with overnight rate values is needed.",
     "output_type": "error",
     "traceback": [
      "\u001b[1;31m---------------------------------------------------------------------------\u001b[0m",
      "\u001b[1;31mValueError\u001b[0m                                Traceback (most recent call last)",
      "\u001b[1;32m~\\AppData\\Local\\Temp/ipykernel_19296/2497411383.py\u001b[0m in \u001b[0;36m<module>\u001b[1;34m\u001b[0m\n\u001b[1;32m----> 1\u001b[1;33m \u001b[0mcor_cashflow\u001b[0m\u001b[1;33m.\u001b[0m\u001b[0minterest\u001b[0m\u001b[1;33m(\u001b[0m\u001b[1;33m)\u001b[0m\u001b[1;33m\u001b[0m\u001b[1;33m\u001b[0m\u001b[0m\n\u001b[0m",
      "\u001b[1;31mValueError\u001b[0m: A TimeSeries object with overnight rate values is needed."
     ]
    }
   ],
   "source": [
    "cor_cashflow.interest()"
   ]
  },
  {
   "cell_type": "code",
   "execution_count": 139,
   "metadata": {
    "ExecuteTime": {
     "end_time": "2022-01-09T13:13:11.531503Z",
     "start_time": "2022-01-09T13:13:11.525522Z"
    }
   },
   "outputs": [
    {
     "data": {
      "text/plain": [
       "False"
      ]
     },
     "execution_count": 139,
     "metadata": {},
     "output_type": "execute_result"
    }
   ],
   "source": [
    "cor_cashflow.isExpired(Qcf.QCDate(29, 12, 2021))"
   ]
  },
  {
   "cell_type": "code",
   "execution_count": 140,
   "metadata": {
    "ExecuteTime": {
     "end_time": "2022-01-09T13:13:11.863667Z",
     "start_time": "2022-01-09T13:13:11.854658Z"
    }
   },
   "outputs": [
    {
     "data": {
      "text/plain": [
       "False"
      ]
     },
     "execution_count": 140,
     "metadata": {},
     "output_type": "execute_result"
    }
   ],
   "source": [
    "cor_cashflow.isExpired(Qcf.QCDate(31, 12, 2021))"
   ]
  },
  {
   "cell_type": "code",
   "execution_count": 141,
   "metadata": {
    "ExecuteTime": {
     "end_time": "2022-01-09T13:13:12.717257Z",
     "start_time": "2022-01-09T13:13:12.707235Z"
    }
   },
   "outputs": [
    {
     "data": {
      "text/plain": [
       "True"
      ]
     },
     "execution_count": 141,
     "metadata": {},
     "output_type": "execute_result"
    }
   ],
   "source": [
    "cor_cashflow.isExpired(Qcf.QCDate(1, 1, 2022))"
   ]
  }
 ],
 "metadata": {
  "hide_input": false,
  "kernelspec": {
   "display_name": "Python 3 (ipykernel)",
   "language": "python",
   "name": "python3"
  },
  "language_info": {
   "codemirror_mode": {
    "name": "ipython",
    "version": 3
   },
   "file_extension": ".py",
   "mimetype": "text/x-python",
   "name": "python",
   "nbconvert_exporter": "python",
   "pygments_lexer": "ipython3",
   "version": "3.8.10"
  },
  "toc": {
   "base_numbering": 1,
   "nav_menu": {},
   "number_sections": true,
   "sideBar": true,
   "skip_h1_title": true,
   "title_cell": "Table of Contents",
   "title_sidebar": "Contenido",
   "toc_cell": false,
   "toc_position": {
    "height": "675.455px",
    "left": "284px",
    "top": "282.284px",
    "width": "235px"
   },
   "toc_section_display": true,
   "toc_window_display": true
  },
  "varInspector": {
   "cols": {
    "lenName": 16,
    "lenType": 16,
    "lenVar": 40
   },
   "kernels_config": {
    "python": {
     "delete_cmd_postfix": "",
     "delete_cmd_prefix": "del ",
     "library": "var_list.py",
     "varRefreshCmd": "print(var_dic_list())"
    },
    "r": {
     "delete_cmd_postfix": ") ",
     "delete_cmd_prefix": "rm(",
     "library": "var_list.r",
     "varRefreshCmd": "cat(var_dic_list()) "
    }
   },
   "types_to_exclude": [
    "module",
    "function",
    "builtin_function_or_method",
    "instance",
    "_Feature"
   ],
   "window_display": false
  }
 },
 "nbformat": 4,
 "nbformat_minor": 2
}
