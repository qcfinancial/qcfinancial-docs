{
 "cells": [
  {
   "cell_type": "markdown",
   "metadata": {},
   "source": [
    "# Valorización y Sensibilidad"
   ]
  },
  {
   "cell_type": "markdown",
   "metadata": {},
   "source": [
    "## Configuración"
   ]
  },
  {
   "cell_type": "markdown",
   "metadata": {},
   "source": [
    "Para ejecutar todos los ejemplos se debe importar la librería. Se sugiere utilizar siempre el alias `qcf`. "
   ]
  },
  {
   "cell_type": "code",
   "execution_count": 1,
   "metadata": {
    "ExecuteTime": {
     "end_time": "2023-12-19T16:07:13.963018Z",
     "start_time": "2023-12-19T16:07:13.955278Z"
    },
    "execution": {
     "iopub.execute_input": "2024-01-04T22:42:05.062045Z",
     "iopub.status.busy": "2024-01-04T22:42:05.061647Z",
     "iopub.status.idle": "2024-01-04T22:42:05.088301Z",
     "shell.execute_reply": "2024-01-04T22:42:05.085577Z",
     "shell.execute_reply.started": "2024-01-04T22:42:05.062014Z"
    }
   },
   "outputs": [],
   "source": [
    "import qcfinancial as qcf"
   ]
  },
  {
   "cell_type": "markdown",
   "metadata": {},
   "source": [
    "Librerías adicionales."
   ]
  },
  {
   "cell_type": "code",
   "execution_count": 2,
   "metadata": {
    "ExecuteTime": {
     "end_time": "2023-12-19T16:07:20.335887Z",
     "start_time": "2023-12-19T16:07:18.385430Z"
    },
    "execution": {
     "iopub.execute_input": "2024-01-04T22:42:05.090573Z",
     "iopub.status.busy": "2024-01-04T22:42:05.090012Z",
     "iopub.status.idle": "2024-01-04T22:42:05.707705Z",
     "shell.execute_reply": "2024-01-04T22:42:05.706894Z",
     "shell.execute_reply.started": "2024-01-04T22:42:05.090540Z"
    }
   },
   "outputs": [],
   "source": [
    "import pandas as pd"
   ]
  },
  {
   "cell_type": "markdown",
   "metadata": {},
   "source": [
    "Para formateo de `pandas.DataFrames`."
   ]
  },
  {
   "cell_type": "code",
   "execution_count": 3,
   "metadata": {
    "ExecuteTime": {
     "end_time": "2023-12-19T16:07:23.208030Z",
     "start_time": "2023-12-19T16:07:23.186614Z"
    },
    "execution": {
     "iopub.execute_input": "2024-01-04T22:42:05.709238Z",
     "iopub.status.busy": "2024-01-04T22:42:05.708761Z",
     "iopub.status.idle": "2024-01-04T22:42:05.714735Z",
     "shell.execute_reply": "2024-01-04T22:42:05.713716Z",
     "shell.execute_reply.started": "2024-01-04T22:42:05.709207Z"
    }
   },
   "outputs": [],
   "source": [
    "format_dict = {\n",
    "    'nominal': '{0:,.2f}',\n",
    "    'amort': '{0:,.2f}',\n",
    "    'interes': '{0:,.2f}',\n",
    "    'flujo': '{0:,.2f}',\n",
    "    'amortizacion': '{0:,.2f}',\n",
    "    'icp_inicial': '{0:,.2f}',\n",
    "    'icp_final': '{0:,.2f}',\n",
    "    'uf_inicial': '{0:,.2f}',\n",
    "    'uf_final': '{0:,.2f}',\n",
    "    'valor_tasa': '{0:,.4%}',\n",
    "    'spread': '{0:,.4%}',\n",
    "    'gearing': '{0:,.2f}',\n",
    "    'amort_moneda_pago': '{0:,.2f}',\n",
    "    'interes_moneda_pago': '{0:,.2f}',\n",
    "    'valor_indice_fx': '{0:,.2f}'\n",
    "}"
   ]
  },
  {
   "cell_type": "markdown",
   "metadata": {},
   "source": [
    "## Construcción de la Curva"
   ]
  },
  {
   "cell_type": "markdown",
   "metadata": {},
   "source": [
    "La construcción de una curva se hace en varios pasos."
   ]
  },
  {
   "cell_type": "markdown",
   "metadata": {},
   "source": [
    "### Vectores de `Float` e `Int`"
   ]
  },
  {
   "cell_type": "code",
   "execution_count": 4,
   "metadata": {
    "ExecuteTime": {
     "end_time": "2023-12-19T16:07:38.902987Z",
     "start_time": "2023-12-19T16:07:38.881086Z"
    },
    "execution": {
     "iopub.execute_input": "2024-01-04T22:42:05.718532Z",
     "iopub.status.busy": "2024-01-04T22:42:05.718103Z",
     "iopub.status.idle": "2024-01-04T22:42:05.722453Z",
     "shell.execute_reply": "2024-01-04T22:42:05.721675Z",
     "shell.execute_reply.started": "2024-01-04T22:42:05.718501Z"
    }
   },
   "outputs": [],
   "source": [
    "# Este es un vector de números enteros (grandes, de ahí la l (long))\n",
    "lvec = qcf.long_vec()"
   ]
  },
  {
   "cell_type": "code",
   "execution_count": 5,
   "metadata": {
    "ExecuteTime": {
     "end_time": "2023-12-19T16:07:39.741311Z",
     "start_time": "2023-12-19T16:07:39.719856Z"
    },
    "execution": {
     "iopub.execute_input": "2024-01-04T22:42:05.723854Z",
     "iopub.status.busy": "2024-01-04T22:42:05.723456Z",
     "iopub.status.idle": "2024-01-04T22:42:05.727649Z",
     "shell.execute_reply": "2024-01-04T22:42:05.726791Z",
     "shell.execute_reply.started": "2024-01-04T22:42:05.723827Z"
    }
   },
   "outputs": [],
   "source": [
    "# Agregar un elemento\n",
    "lvec.append(1000)"
   ]
  },
  {
   "cell_type": "code",
   "execution_count": 6,
   "metadata": {
    "ExecuteTime": {
     "end_time": "2023-12-19T16:07:40.620299Z",
     "start_time": "2023-12-19T16:07:40.586796Z"
    },
    "execution": {
     "iopub.execute_input": "2024-01-04T22:42:05.729191Z",
     "iopub.status.busy": "2024-01-04T22:42:05.728785Z",
     "iopub.status.idle": "2024-01-04T22:42:05.732936Z",
     "shell.execute_reply": "2024-01-04T22:42:05.732171Z",
     "shell.execute_reply.started": "2024-01-04T22:42:05.729161Z"
    }
   },
   "outputs": [],
   "source": [
    "# Este es un vector de números double.\n",
    "vec = qcf.double_vec()"
   ]
  },
  {
   "cell_type": "code",
   "execution_count": 7,
   "metadata": {
    "ExecuteTime": {
     "end_time": "2023-12-19T16:07:41.189811Z",
     "start_time": "2023-12-19T16:07:41.174641Z"
    },
    "execution": {
     "iopub.execute_input": "2024-01-04T22:42:05.734473Z",
     "iopub.status.busy": "2024-01-04T22:42:05.733987Z",
     "iopub.status.idle": "2024-01-04T22:42:05.739515Z",
     "shell.execute_reply": "2024-01-04T22:42:05.738652Z",
     "shell.execute_reply.started": "2024-01-04T22:42:05.734444Z"
    }
   },
   "outputs": [],
   "source": [
    "# Agregar un elemento\n",
    "vec.append(.025)"
   ]
  },
  {
   "cell_type": "code",
   "execution_count": 8,
   "metadata": {
    "ExecuteTime": {
     "end_time": "2023-12-19T16:07:41.691521Z",
     "start_time": "2023-12-19T16:07:41.650013Z"
    },
    "execution": {
     "iopub.execute_input": "2024-01-04T22:42:05.740840Z",
     "iopub.status.busy": "2024-01-04T22:42:05.740436Z",
     "iopub.status.idle": "2024-01-04T22:42:05.745479Z",
     "shell.execute_reply": "2024-01-04T22:42:05.744667Z",
     "shell.execute_reply.started": "2024-01-04T22:42:05.740808Z"
    }
   },
   "outputs": [
    {
     "name": "stdout",
     "output_type": "stream",
     "text": [
      "Tasa: 2.50%\n"
     ]
    }
   ],
   "source": [
    "# Obtener ese elemento\n",
    "print(\"Tasa: {0:,.2%}\".format(vec[0]))"
   ]
  },
  {
   "cell_type": "markdown",
   "metadata": {},
   "source": [
    "### Objeto Curva"
   ]
  },
  {
   "cell_type": "markdown",
   "metadata": {},
   "source": [
    "Es simplemente un `long_vec` que representa las abscisas de la curva y un `double_vec` que representa las ordenadas. Ambos vectores deben tener el mismo largo. "
   ]
  },
  {
   "cell_type": "code",
   "execution_count": 9,
   "metadata": {
    "ExecuteTime": {
     "end_time": "2023-12-19T16:07:43.903491Z",
     "start_time": "2023-12-19T16:07:43.844697Z"
    },
    "execution": {
     "iopub.execute_input": "2024-01-04T22:42:05.747148Z",
     "iopub.status.busy": "2024-01-04T22:42:05.746671Z",
     "iopub.status.idle": "2024-01-04T22:42:05.751294Z",
     "shell.execute_reply": "2024-01-04T22:42:05.750320Z",
     "shell.execute_reply.started": "2024-01-04T22:42:05.747121Z"
    }
   },
   "outputs": [],
   "source": [
    "zcc = qcf.QCCurve(lvec, vec)"
   ]
  },
  {
   "cell_type": "markdown",
   "metadata": {},
   "source": [
    "Un elemento de una curva se representa como un par abscisa, ordenada."
   ]
  },
  {
   "cell_type": "code",
   "execution_count": 10,
   "metadata": {
    "ExecuteTime": {
     "end_time": "2023-12-19T16:07:44.836420Z",
     "start_time": "2023-12-19T16:07:44.796024Z"
    },
    "execution": {
     "iopub.execute_input": "2024-01-04T22:42:05.752940Z",
     "iopub.status.busy": "2024-01-04T22:42:05.752415Z",
     "iopub.status.idle": "2024-01-04T22:42:05.761504Z",
     "shell.execute_reply": "2024-01-04T22:42:05.760605Z",
     "shell.execute_reply.started": "2024-01-04T22:42:05.752910Z"
    }
   },
   "outputs": [
    {
     "data": {
      "text/plain": [
       "(1000, 0.025)"
      ]
     },
     "execution_count": 10,
     "metadata": {},
     "output_type": "execute_result"
    }
   ],
   "source": [
    "zcc.get_values_at(0)"
   ]
  },
  {
   "cell_type": "markdown",
   "metadata": {},
   "source": [
    "Se obtiene el plazo en una posición de la curva."
   ]
  },
  {
   "cell_type": "code",
   "execution_count": 11,
   "metadata": {
    "ExecuteTime": {
     "end_time": "2023-12-19T16:07:46.453257Z",
     "start_time": "2023-12-19T16:07:46.409855Z"
    },
    "execution": {
     "iopub.execute_input": "2024-01-04T22:42:05.762983Z",
     "iopub.status.busy": "2024-01-04T22:42:05.762584Z",
     "iopub.status.idle": "2024-01-04T22:42:05.767223Z",
     "shell.execute_reply": "2024-01-04T22:42:05.766263Z",
     "shell.execute_reply.started": "2024-01-04T22:42:05.762953Z"
    }
   },
   "outputs": [
    {
     "name": "stdout",
     "output_type": "stream",
     "text": [
      "(1000, 0.025)\n"
     ]
    }
   ],
   "source": [
    "print(zcc.get_values_at(0))"
   ]
  },
  {
   "cell_type": "markdown",
   "metadata": {},
   "source": [
    "Se obtiene la tasa en una posición de la curva."
   ]
  },
  {
   "cell_type": "code",
   "execution_count": 12,
   "metadata": {
    "ExecuteTime": {
     "end_time": "2023-12-19T16:07:47.247205Z",
     "start_time": "2023-12-19T16:07:47.205409Z"
    },
    "execution": {
     "iopub.execute_input": "2024-01-04T22:42:05.768996Z",
     "iopub.status.busy": "2024-01-04T22:42:05.768666Z",
     "iopub.status.idle": "2024-01-04T22:42:05.774420Z",
     "shell.execute_reply": "2024-01-04T22:42:05.773554Z",
     "shell.execute_reply.started": "2024-01-04T22:42:05.768970Z"
    }
   },
   "outputs": [
    {
     "data": {
      "text/plain": [
       "0.025"
      ]
     },
     "execution_count": 12,
     "metadata": {},
     "output_type": "execute_result"
    }
   ],
   "source": [
    "zcc.get_values_at(0)[1]"
   ]
  },
  {
   "cell_type": "markdown",
   "metadata": {},
   "source": [
    "Se agrega un par (plazo, valor) a la curva."
   ]
  },
  {
   "cell_type": "code",
   "execution_count": 13,
   "metadata": {
    "ExecuteTime": {
     "end_time": "2023-12-19T16:07:48.252361Z",
     "start_time": "2023-12-19T16:07:48.212421Z"
    },
    "execution": {
     "iopub.execute_input": "2024-01-04T22:42:05.780929Z",
     "iopub.status.busy": "2024-01-04T22:42:05.780597Z",
     "iopub.status.idle": "2024-01-04T22:42:05.784674Z",
     "shell.execute_reply": "2024-01-04T22:42:05.783882Z",
     "shell.execute_reply.started": "2024-01-04T22:42:05.780898Z"
    }
   },
   "outputs": [],
   "source": [
    "zcc.set_pair(100, .026)"
   ]
  },
  {
   "cell_type": "markdown",
   "metadata": {},
   "source": [
    "Se verifica."
   ]
  },
  {
   "cell_type": "code",
   "execution_count": 14,
   "metadata": {
    "ExecuteTime": {
     "end_time": "2023-12-19T16:07:49.343628Z",
     "start_time": "2023-12-19T16:07:49.301831Z"
    },
    "execution": {
     "iopub.execute_input": "2024-01-04T22:42:05.786038Z",
     "iopub.status.busy": "2024-01-04T22:42:05.785629Z",
     "iopub.status.idle": "2024-01-04T22:42:05.791297Z",
     "shell.execute_reply": "2024-01-04T22:42:05.790394Z",
     "shell.execute_reply.started": "2024-01-04T22:42:05.786011Z"
    }
   },
   "outputs": [
    {
     "data": {
      "text/plain": [
       "1000"
      ]
     },
     "execution_count": 14,
     "metadata": {},
     "output_type": "execute_result"
    }
   ],
   "source": [
    "# Plazo\n",
    "zcc.get_values_at(1)[0]"
   ]
  },
  {
   "cell_type": "code",
   "execution_count": 15,
   "metadata": {
    "ExecuteTime": {
     "end_time": "2023-12-19T16:07:49.885494Z",
     "start_time": "2023-12-19T16:07:49.843490Z"
    },
    "execution": {
     "iopub.execute_input": "2024-01-04T22:42:05.793052Z",
     "iopub.status.busy": "2024-01-04T22:42:05.792637Z",
     "iopub.status.idle": "2024-01-04T22:42:05.825082Z",
     "shell.execute_reply": "2024-01-04T22:42:05.824306Z",
     "shell.execute_reply.started": "2024-01-04T22:42:05.793023Z"
    }
   },
   "outputs": [
    {
     "data": {
      "text/plain": [
       "0.025"
      ]
     },
     "execution_count": 15,
     "metadata": {},
     "output_type": "execute_result"
    }
   ],
   "source": [
    "# Valor\n",
    "zcc.get_values_at(1)[1]"
   ]
  },
  {
   "cell_type": "markdown",
   "metadata": {},
   "source": [
    "Se agrega un par más."
   ]
  },
  {
   "cell_type": "code",
   "execution_count": 16,
   "metadata": {
    "ExecuteTime": {
     "end_time": "2023-12-19T16:07:50.740604Z",
     "start_time": "2023-12-19T16:07:50.695956Z"
    },
    "execution": {
     "iopub.execute_input": "2024-01-04T22:42:05.826845Z",
     "iopub.status.busy": "2024-01-04T22:42:05.826359Z",
     "iopub.status.idle": "2024-01-04T22:42:05.830347Z",
     "shell.execute_reply": "2024-01-04T22:42:05.829565Z",
     "shell.execute_reply.started": "2024-01-04T22:42:05.826817Z"
    }
   },
   "outputs": [],
   "source": [
    "zcc.set_pair(370, .03)"
   ]
  },
  {
   "cell_type": "markdown",
   "metadata": {},
   "source": [
    "Se itera sobre la curva mostrando sus valores"
   ]
  },
  {
   "cell_type": "code",
   "execution_count": 17,
   "metadata": {
    "ExecuteTime": {
     "end_time": "2023-12-19T16:07:51.912945Z",
     "start_time": "2023-12-19T16:07:51.874023Z"
    },
    "execution": {
     "iopub.execute_input": "2024-01-04T22:42:05.832045Z",
     "iopub.status.busy": "2024-01-04T22:42:05.831767Z",
     "iopub.status.idle": "2024-01-04T22:42:05.836786Z",
     "shell.execute_reply": "2024-01-04T22:42:05.835881Z",
     "shell.execute_reply.started": "2024-01-04T22:42:05.832017Z"
    }
   },
   "outputs": [
    {
     "name": "stdout",
     "output_type": "stream",
     "text": [
      "Tenor: 100 Valor: 2.6000%\n",
      "Tenor: 370 Valor: 3.0000%\n",
      "Tenor: 1000 Valor: 2.5000%\n"
     ]
    }
   ],
   "source": [
    "for i in range(0, zcc.get_length()):\n",
    "    pair = zcc.get_values_at(i)\n",
    "    print(\"Tenor: {0:} Valor: {1:.4%}\".format(pair[0], pair[1]))"
   ]
  },
  {
   "cell_type": "markdown",
   "metadata": {},
   "source": [
    "Se define un interpolador. En este caso, un interpolador lineal."
   ]
  },
  {
   "cell_type": "code",
   "execution_count": 18,
   "metadata": {
    "ExecuteTime": {
     "end_time": "2023-12-19T16:07:53.034303Z",
     "start_time": "2023-12-19T16:07:52.985581Z"
    },
    "execution": {
     "iopub.execute_input": "2024-01-04T22:42:05.838371Z",
     "iopub.status.busy": "2024-01-04T22:42:05.837865Z",
     "iopub.status.idle": "2024-01-04T22:42:05.842077Z",
     "shell.execute_reply": "2024-01-04T22:42:05.841248Z",
     "shell.execute_reply.started": "2024-01-04T22:42:05.838340Z"
    }
   },
   "outputs": [],
   "source": [
    "lin = qcf.QCLinearInterpolator(zcc)"
   ]
  },
  {
   "cell_type": "markdown",
   "metadata": {},
   "source": [
    "Se hace una prueba."
   ]
  },
  {
   "cell_type": "code",
   "execution_count": 19,
   "metadata": {
    "ExecuteTime": {
     "end_time": "2023-12-19T16:07:54.354396Z",
     "start_time": "2023-12-19T16:07:54.307514Z"
    },
    "execution": {
     "iopub.execute_input": "2024-01-04T22:42:05.843740Z",
     "iopub.status.busy": "2024-01-04T22:42:05.843323Z",
     "iopub.status.idle": "2024-01-04T22:42:05.848731Z",
     "shell.execute_reply": "2024-01-04T22:42:05.847927Z",
     "shell.execute_reply.started": "2024-01-04T22:42:05.843709Z"
    }
   },
   "outputs": [
    {
     "name": "stdout",
     "output_type": "stream",
     "text": [
      "Tasa a 120 días es igual a 2.6296%\n"
     ]
    }
   ],
   "source": [
    "plazo = 120\n",
    "print(f\"Tasa a {plazo:.0f} días es igual a {lin.interpolate_at(plazo):.4%}\")"
   ]
  },
  {
   "cell_type": "markdown",
   "metadata": {},
   "source": [
    "Para completar el proceso se define una fracción de año, un factor de capitalización y un tipo de tasa. Con estos objetos se termina de dar de alta una curva cero."
   ]
  },
  {
   "cell_type": "code",
   "execution_count": 20,
   "metadata": {
    "ExecuteTime": {
     "end_time": "2023-12-19T16:07:55.302253Z",
     "start_time": "2023-12-19T16:07:55.259464Z"
    },
    "execution": {
     "iopub.execute_input": "2024-01-04T22:42:05.850103Z",
     "iopub.status.busy": "2024-01-04T22:42:05.849741Z",
     "iopub.status.idle": "2024-01-04T22:42:05.853999Z",
     "shell.execute_reply": "2024-01-04T22:42:05.853224Z",
     "shell.execute_reply.started": "2024-01-04T22:42:05.850077Z"
    }
   },
   "outputs": [],
   "source": [
    "yf = qcf.QCAct360()\n",
    "wf = qcf.QCLinearWf()\n",
    "tasa = qcf.QCInterestRate(.01, yf, wf)"
   ]
  },
  {
   "cell_type": "code",
   "execution_count": 21,
   "metadata": {
    "ExecuteTime": {
     "end_time": "2023-12-19T16:07:55.838713Z",
     "start_time": "2023-12-19T16:07:55.795036Z"
    },
    "execution": {
     "iopub.execute_input": "2024-01-04T22:42:05.855470Z",
     "iopub.status.busy": "2024-01-04T22:42:05.855011Z",
     "iopub.status.idle": "2024-01-04T22:42:05.859105Z",
     "shell.execute_reply": "2024-01-04T22:42:05.858338Z",
     "shell.execute_reply.started": "2024-01-04T22:42:05.855443Z"
    }
   },
   "outputs": [],
   "source": [
    "zz = qcf.ZeroCouponCurve(lin, tasa)"
   ]
  },
  {
   "cell_type": "markdown",
   "metadata": {},
   "source": [
    "El interpolador permite obtener una tasa a cualquier plazo."
   ]
  },
  {
   "cell_type": "code",
   "execution_count": 22,
   "metadata": {
    "ExecuteTime": {
     "end_time": "2023-12-19T16:07:56.577170Z",
     "start_time": "2023-12-19T16:07:56.535663Z"
    },
    "execution": {
     "iopub.execute_input": "2024-01-04T22:42:05.860590Z",
     "iopub.status.busy": "2024-01-04T22:42:05.860212Z",
     "iopub.status.idle": "2024-01-04T22:42:05.864670Z",
     "shell.execute_reply": "2024-01-04T22:42:05.863868Z",
     "shell.execute_reply.started": "2024-01-04T22:42:05.860563Z"
    }
   },
   "outputs": [
    {
     "name": "stdout",
     "output_type": "stream",
     "text": [
      "Tasa en 365 es igual a 2.9926%\n"
     ]
    }
   ],
   "source": [
    "plazo = 365\n",
    "print(\"Tasa en {0:} es igual a {1:.4%}\".format(plazo, zz.get_rate_at(plazo)))"
   ]
  },
  {
   "cell_type": "code",
   "execution_count": 23,
   "metadata": {
    "ExecuteTime": {
     "end_time": "2023-12-19T16:07:57.143117Z",
     "start_time": "2023-12-19T16:07:57.123914Z"
    },
    "execution": {
     "iopub.execute_input": "2024-01-04T22:42:05.866394Z",
     "iopub.status.busy": "2024-01-04T22:42:05.865933Z",
     "iopub.status.idle": "2024-01-04T22:42:05.871082Z",
     "shell.execute_reply": "2024-01-04T22:42:05.870375Z",
     "shell.execute_reply.started": "2024-01-04T22:42:05.866367Z"
    }
   },
   "outputs": [
    {
     "data": {
      "text/plain": [
       "qcfinancial.ZeroCouponCurve"
      ]
     },
     "execution_count": 23,
     "metadata": {},
     "output_type": "execute_result"
    }
   ],
   "source": [
    "type(zz)"
   ]
  },
  {
   "cell_type": "code",
   "execution_count": 24,
   "metadata": {
    "ExecuteTime": {
     "end_time": "2023-12-19T16:07:57.573813Z",
     "start_time": "2023-12-19T16:07:57.532059Z"
    },
    "execution": {
     "iopub.execute_input": "2024-01-04T22:42:05.872584Z",
     "iopub.status.busy": "2024-01-04T22:42:05.872222Z",
     "iopub.status.idle": "2024-01-04T22:42:05.878453Z",
     "shell.execute_reply": "2024-01-04T22:42:05.877480Z",
     "shell.execute_reply.started": "2024-01-04T22:42:05.872554Z"
    }
   },
   "outputs": [
    {
     "data": {
      "text/plain": [
       "0.9999277829934504"
      ]
     },
     "execution_count": 24,
     "metadata": {},
     "output_type": "execute_result"
    }
   ],
   "source": [
    "zz.get_discount_factor_at(1)"
   ]
  },
  {
   "cell_type": "markdown",
   "metadata": {},
   "source": [
    "#### Otros métodos:"
   ]
  },
  {
   "cell_type": "markdown",
   "metadata": {},
   "source": [
    "Tasa Forward"
   ]
  },
  {
   "cell_type": "code",
   "execution_count": 25,
   "metadata": {
    "ExecuteTime": {
     "end_time": "2023-12-19T16:07:58.444942Z",
     "start_time": "2023-12-19T16:07:58.406507Z"
    },
    "execution": {
     "iopub.execute_input": "2024-01-04T22:42:05.880676Z",
     "iopub.status.busy": "2024-01-04T22:42:05.880278Z",
     "iopub.status.idle": "2024-01-04T22:42:05.885863Z",
     "shell.execute_reply": "2024-01-04T22:42:05.884979Z",
     "shell.execute_reply.started": "2024-01-04T22:42:05.880649Z"
    }
   },
   "outputs": [
    {
     "name": "stdout",
     "output_type": "stream",
     "text": [
      "Tasa forward entre los días 30 y 90: 2.5944%\n"
     ]
    }
   ],
   "source": [
    "d1 = 30\n",
    "d2 = 90\n",
    "print(\"Tasa forward entre los días {0:} y {1:}: {2:.4%}\".format(\n",
    "    d1, d2, zz.get_forward_rate(d1, d2)))"
   ]
  },
  {
   "cell_type": "markdown",
   "metadata": {},
   "source": [
    "Derivada del factor de capitalización de la Tasa Forward. El argumento representa el índice de la tasa de la curva."
   ]
  },
  {
   "cell_type": "code",
   "execution_count": 26,
   "metadata": {
    "ExecuteTime": {
     "end_time": "2023-12-19T16:07:59.115753Z",
     "start_time": "2023-12-19T16:07:59.066916Z"
    },
    "execution": {
     "iopub.execute_input": "2024-01-04T22:42:05.887496Z",
     "iopub.status.busy": "2024-01-04T22:42:05.887037Z",
     "iopub.status.idle": "2024-01-04T22:42:05.893625Z",
     "shell.execute_reply": "2024-01-04T22:42:05.892707Z",
     "shell.execute_reply.started": "2024-01-04T22:42:05.887466Z"
    }
   },
   "outputs": [
    {
     "data": {
      "text/plain": [
       "0.1659467849041197"
      ]
     },
     "execution_count": 26,
     "metadata": {},
     "output_type": "execute_result"
    }
   ],
   "source": [
    "zz.fwd_wf_derivative_at(0)"
   ]
  },
  {
   "cell_type": "markdown",
   "metadata": {},
   "source": [
    "## Valorizar"
   ]
  },
  {
   "cell_type": "markdown",
   "metadata": {},
   "source": [
    "Se da de alta un objeto `PresentValue`."
   ]
  },
  {
   "cell_type": "code",
   "execution_count": 27,
   "metadata": {
    "ExecuteTime": {
     "end_time": "2023-12-19T16:08:00.420833Z",
     "start_time": "2023-12-19T16:08:00.380040Z"
    },
    "execution": {
     "iopub.execute_input": "2024-01-04T22:42:05.895205Z",
     "iopub.status.busy": "2024-01-04T22:42:05.894831Z",
     "iopub.status.idle": "2024-01-04T22:42:05.898969Z",
     "shell.execute_reply": "2024-01-04T22:42:05.898114Z",
     "shell.execute_reply.started": "2024-01-04T22:42:05.895175Z"
    }
   },
   "outputs": [],
   "source": [
    "pv = qcf.PresentValue()"
   ]
  },
  {
   "cell_type": "markdown",
   "metadata": {},
   "source": [
    "### Depósito a Plazo"
   ]
  },
  {
   "cell_type": "markdown",
   "metadata": {},
   "source": [
    "Se utilizará como instrumento un depósito a plazo en CLP o USD. Este instrumento se modela como un `SimpleCashflow`. Este, a su vez se construye con un monto, una fecha y una moneda."
   ]
  },
  {
   "cell_type": "code",
   "execution_count": 28,
   "metadata": {
    "ExecuteTime": {
     "end_time": "2023-12-19T16:08:01.443682Z",
     "start_time": "2023-12-19T16:08:01.417967Z"
    },
    "execution": {
     "iopub.execute_input": "2024-01-04T22:42:05.900732Z",
     "iopub.status.busy": "2024-01-04T22:42:05.900371Z",
     "iopub.status.idle": "2024-01-04T22:42:05.905060Z",
     "shell.execute_reply": "2024-01-04T22:42:05.904288Z",
     "shell.execute_reply.started": "2024-01-04T22:42:05.900703Z"
    }
   },
   "outputs": [],
   "source": [
    "# Con estas variables vamos a construir\n",
    "fecha_vcto = qcf.QCDate(12, 1, 2021)\n",
    "monto = 10_000_000.0\n",
    "clp = qcf.QCCLP()\n",
    "\n",
    "# Se construye el depósito\n",
    "depo = qcf.SimpleCashflow(fecha_vcto, monto, clp)"
   ]
  },
  {
   "cell_type": "code",
   "execution_count": 29,
   "metadata": {
    "ExecuteTime": {
     "end_time": "2023-12-19T16:08:02.053007Z",
     "start_time": "2023-12-19T16:08:02.010581Z"
    },
    "execution": {
     "iopub.execute_input": "2024-01-04T22:42:05.906825Z",
     "iopub.status.busy": "2024-01-04T22:42:05.906475Z",
     "iopub.status.idle": "2024-01-04T22:42:05.910982Z",
     "shell.execute_reply": "2024-01-04T22:42:05.910203Z",
     "shell.execute_reply.started": "2024-01-04T22:42:05.906797Z"
    }
   },
   "outputs": [
    {
     "name": "stdout",
     "output_type": "stream",
     "text": [
      "Monto del depósito: 10,000,000\n"
     ]
    }
   ],
   "source": [
    "print(\"Monto del depósito: {0:,.0f}\".format(depo.amount()))"
   ]
  },
  {
   "cell_type": "markdown",
   "metadata": {},
   "source": [
    "Se define una fecha de valorización y se calcula el valor presente del depo."
   ]
  },
  {
   "cell_type": "code",
   "execution_count": 30,
   "metadata": {
    "ExecuteTime": {
     "end_time": "2023-12-19T16:08:02.946023Z",
     "start_time": "2023-12-19T16:08:02.904845Z"
    },
    "execution": {
     "iopub.execute_input": "2024-01-04T22:42:05.912670Z",
     "iopub.status.busy": "2024-01-04T22:42:05.912353Z",
     "iopub.status.idle": "2024-01-04T22:42:05.917145Z",
     "shell.execute_reply": "2024-01-04T22:42:05.916345Z",
     "shell.execute_reply.started": "2024-01-04T22:42:05.912640Z"
    }
   },
   "outputs": [
    {
     "name": "stdout",
     "output_type": "stream",
     "text": [
      "Valor presente depo: 9,709,212.68\n"
     ]
    }
   ],
   "source": [
    "fecha_hoy = qcf.QCDate(17, 1, 2020)\n",
    "print(\"Valor presente depo: {0:,.2f}\".format(pv.pv(fecha_hoy, depo, zz)))"
   ]
  },
  {
   "cell_type": "markdown",
   "metadata": {},
   "source": [
    "Se verifica *a mano* el resultado."
   ]
  },
  {
   "cell_type": "code",
   "execution_count": 31,
   "metadata": {
    "ExecuteTime": {
     "end_time": "2023-12-19T16:08:03.740456Z",
     "start_time": "2023-12-19T16:08:03.697417Z"
    },
    "execution": {
     "iopub.execute_input": "2024-01-04T22:42:05.918829Z",
     "iopub.status.busy": "2024-01-04T22:42:05.918416Z",
     "iopub.status.idle": "2024-01-04T22:42:05.924501Z",
     "shell.execute_reply": "2024-01-04T22:42:05.923327Z",
     "shell.execute_reply.started": "2024-01-04T22:42:05.918799Z"
    }
   },
   "outputs": [
    {
     "name": "stdout",
     "output_type": "stream",
     "text": [
      "Plazo: 361\n"
     ]
    }
   ],
   "source": [
    "plazo = fecha_hoy.day_diff(fecha_vcto)\n",
    "print(\"Plazo:\", plazo)"
   ]
  },
  {
   "cell_type": "code",
   "execution_count": 32,
   "metadata": {
    "ExecuteTime": {
     "end_time": "2023-12-19T16:08:04.255797Z",
     "start_time": "2023-12-19T16:08:04.238740Z"
    },
    "execution": {
     "iopub.execute_input": "2024-01-04T22:42:05.926767Z",
     "iopub.status.busy": "2024-01-04T22:42:05.926332Z",
     "iopub.status.idle": "2024-01-04T22:42:05.930937Z",
     "shell.execute_reply": "2024-01-04T22:42:05.929798Z",
     "shell.execute_reply.started": "2024-01-04T22:42:05.926734Z"
    }
   },
   "outputs": [
    {
     "name": "stdout",
     "output_type": "stream",
     "text": [
      "Tasa: 2.9867%\n"
     ]
    }
   ],
   "source": [
    "tasa_int = zz.get_rate_at(plazo)\n",
    "print(\"Tasa: {0:,.4%}\".format(tasa_int))"
   ]
  },
  {
   "cell_type": "code",
   "execution_count": 33,
   "metadata": {
    "ExecuteTime": {
     "end_time": "2023-12-19T16:08:04.684330Z",
     "start_time": "2023-12-19T16:08:04.643709Z"
    },
    "execution": {
     "iopub.execute_input": "2024-01-04T22:42:05.932229Z",
     "iopub.status.busy": "2024-01-04T22:42:05.931837Z",
     "iopub.status.idle": "2024-01-04T22:42:05.936619Z",
     "shell.execute_reply": "2024-01-04T22:42:05.935881Z",
     "shell.execute_reply.started": "2024-01-04T22:42:05.932203Z"
    }
   },
   "outputs": [
    {
     "name": "stdout",
     "output_type": "stream",
     "text": [
      "Valor presente a mano: 9,709,212.68\n"
     ]
    }
   ],
   "source": [
    "valor_presente = monto / (1 + tasa_int * plazo / 360)\n",
    "print(\"Valor presente a mano: {0:,.2f}\".format(valor_presente))"
   ]
  },
  {
   "cell_type": "markdown",
   "metadata": {},
   "source": [
    "### Renta Fija Local"
   ]
  },
  {
   "cell_type": "markdown",
   "metadata": {},
   "source": [
    "Se muestra el ejemplo de valorización de un bono bullet a tasa fija con las convenciones de la Bolsa de Comercio. Para el ejemplo usamos las características del BTU0150326.\n",
    "\n",
    "Se dan de alta los parámetros requeridos para instanciar un objeto de tipo `FixedRateLeg`."
   ]
  },
  {
   "cell_type": "code",
   "execution_count": 34,
   "metadata": {
    "ExecuteTime": {
     "end_time": "2023-12-19T16:08:06.679468Z",
     "start_time": "2023-12-19T16:08:06.628258Z"
    },
    "execution": {
     "iopub.execute_input": "2024-01-04T22:42:05.938061Z",
     "iopub.status.busy": "2024-01-04T22:42:05.937662Z",
     "iopub.status.idle": "2024-01-04T22:42:05.944688Z",
     "shell.execute_reply": "2024-01-04T22:42:05.943709Z",
     "shell.execute_reply.started": "2024-01-04T22:42:05.938033Z"
    }
   },
   "outputs": [],
   "source": [
    "rp = qcf.RecPay.RECEIVE\n",
    "fecha_inicio = qcf.QCDate(1, 3, 2015)\n",
    "fecha_final = qcf.QCDate(1, 3, 2026)\n",
    "bus_adj_rule = qcf.BusyAdjRules.NO\n",
    "periodicidad = qcf.Tenor('6M')\n",
    "periodo_irregular = qcf.StubPeriod.NO\n",
    "calendario = qcf.BusinessCalendar(fecha_inicio, 20)\n",
    "lag_pago = 0\n",
    "nominal = 100.0\n",
    "amort_es_flujo = True\n",
    "valor_tasa_fija = .015\n",
    "tasa_cupon = qcf.QCInterestRate(\n",
    "    valor_tasa_fija, \n",
    "    qcf.QC30360(),\n",
    "    qcf.QCLinearWf()\n",
    ")\n",
    "moneda = qcf.QCCLP()\n",
    "es_bono = True\n",
    "\n",
    "# Se da de alta el objeto\n",
    "pata_bono = qcf.LegFactory.build_bullet_fixed_rate_leg(\n",
    "    rp,\n",
    "    fecha_inicio,\n",
    "    fecha_final,\n",
    "    bus_adj_rule,\n",
    "    periodicidad,\n",
    "    periodo_irregular,\n",
    "    calendario,\n",
    "    lag_pago,\n",
    "    nominal,\n",
    "    amort_es_flujo,\n",
    "    tasa_cupon,\n",
    "    moneda,\n",
    "    es_bono\n",
    ")"
   ]
  },
  {
   "cell_type": "markdown",
   "metadata": {},
   "source": [
    "Se da de alta el valor de la TERA y luego se construye un objeto de tipo `ChileanFixedRateBond`."
   ]
  },
  {
   "cell_type": "code",
   "execution_count": 35,
   "metadata": {
    "ExecuteTime": {
     "end_time": "2023-12-19T16:08:08.445931Z",
     "start_time": "2023-12-19T16:08:08.372194Z"
    },
    "execution": {
     "iopub.execute_input": "2024-01-04T22:42:05.946108Z",
     "iopub.status.busy": "2024-01-04T22:42:05.945732Z",
     "iopub.status.idle": "2024-01-04T22:42:05.950347Z",
     "shell.execute_reply": "2024-01-04T22:42:05.949560Z",
     "shell.execute_reply.started": "2024-01-04T22:42:05.946082Z"
    }
   },
   "outputs": [],
   "source": [
    "tera = qcf.QCInterestRate(.015044, qcf.QCAct365(), qcf.QCCompoundWf())\n",
    "bono_chileno = qcf.ChileanFixedRateBond(pata_bono, tera)"
   ]
  },
  {
   "cell_type": "markdown",
   "metadata": {},
   "source": [
    "Se valoriza al 2021-09-28 a una TIR de mercado del 1.61%."
   ]
  },
  {
   "cell_type": "code",
   "execution_count": 36,
   "metadata": {
    "ExecuteTime": {
     "end_time": "2023-12-19T16:08:09.670563Z",
     "start_time": "2023-12-19T16:08:09.629801Z"
    },
    "execution": {
     "iopub.execute_input": "2024-01-04T22:42:05.952085Z",
     "iopub.status.busy": "2024-01-04T22:42:05.951632Z",
     "iopub.status.idle": "2024-01-04T22:42:05.957431Z",
     "shell.execute_reply": "2024-01-04T22:42:05.956627Z",
     "shell.execute_reply.started": "2024-01-04T22:42:05.952058Z"
    }
   },
   "outputs": [
    {
     "name": "stdout",
     "output_type": "stream",
     "text": [
      "Valor presente: 99.67188455\n",
      "Precio: 99.56%\n",
      "Valor par: 100.110516628864033351\n"
     ]
    }
   ],
   "source": [
    "fecha_valor = qcf.QCDate(28, 9, 2021)\n",
    "tir = qcf.QCInterestRate(.0161, qcf.QCAct365(), qcf.QCCompoundWf())\n",
    "\n",
    "valor_presente = bono_chileno.present_value(fecha_valor, tir)\n",
    "precio = bono_chileno.precio(fecha_valor, tir)\n",
    "valor_par = bono_chileno.valor_par(fecha_valor)\n",
    "\n",
    "print(f'Valor presente: {valor_presente:,.8f}')\n",
    "print(f'Precio: {precio:,.2%}')\n",
    "print(f'Valor par: {valor_par:,.18f}')"
   ]
  },
  {
   "cell_type": "markdown",
   "metadata": {},
   "source": [
    "Con esto el valor a pagar es:"
   ]
  },
  {
   "cell_type": "code",
   "execution_count": 37,
   "metadata": {
    "ExecuteTime": {
     "end_time": "2023-12-19T16:08:11.631819Z",
     "start_time": "2023-12-19T16:08:11.563325Z"
    },
    "execution": {
     "iopub.execute_input": "2024-01-04T22:42:05.959283Z",
     "iopub.status.busy": "2024-01-04T22:42:05.958740Z",
     "iopub.status.idle": "2024-01-04T22:42:05.963230Z",
     "shell.execute_reply": "2024-01-04T22:42:05.962468Z",
     "shell.execute_reply.started": "2024-01-04T22:42:05.959256Z"
    }
   },
   "outputs": [
    {
     "name": "stdout",
     "output_type": "stream",
     "text": [
      "Valor a pagar: 2,998,111\n"
     ]
    }
   ],
   "source": [
    "valor_uf = 30_080.37\n",
    "valor_pago = precio * valor_par * valor_uf\n",
    "print(f'Valor a pagar: {valor_pago:,.0f}')"
   ]
  },
  {
   "cell_type": "markdown",
   "metadata": {},
   "source": [
    "Con 4 decimales en el precio (4 decimales porcentuales, 6 decimales en el número):"
   ]
  },
  {
   "cell_type": "code",
   "execution_count": 38,
   "metadata": {
    "ExecuteTime": {
     "end_time": "2023-12-19T16:08:12.721303Z",
     "start_time": "2023-12-19T16:08:12.649442Z"
    },
    "execution": {
     "iopub.execute_input": "2024-01-04T22:42:05.964921Z",
     "iopub.status.busy": "2024-01-04T22:42:05.964564Z",
     "iopub.status.idle": "2024-01-04T22:42:05.968878Z",
     "shell.execute_reply": "2024-01-04T22:42:05.968137Z",
     "shell.execute_reply.started": "2024-01-04T22:42:05.964893Z"
    }
   },
   "outputs": [
    {
     "name": "stdout",
     "output_type": "stream",
     "text": [
      "Precio a 4 decmales: 99.5619%\n"
     ]
    }
   ],
   "source": [
    "precio2 = bono_chileno.precio2(fecha_valor, tir, 6)\n",
    "print(f'Precio a 4 decmales: {precio2:.4%}')"
   ]
  },
  {
   "cell_type": "markdown",
   "metadata": {},
   "source": [
    "La función `precio2` entrega el mismo resultado que la función precio cuando se utiliza con 2 decimales porcentuales."
   ]
  },
  {
   "cell_type": "code",
   "execution_count": 39,
   "metadata": {
    "ExecuteTime": {
     "end_time": "2023-12-19T16:08:13.680546Z",
     "start_time": "2023-12-19T16:08:13.629598Z"
    },
    "execution": {
     "iopub.execute_input": "2024-01-04T22:42:05.970617Z",
     "iopub.status.busy": "2024-01-04T22:42:05.970291Z",
     "iopub.status.idle": "2024-01-04T22:42:05.974657Z",
     "shell.execute_reply": "2024-01-04T22:42:05.973744Z",
     "shell.execute_reply.started": "2024-01-04T22:42:05.970591Z"
    }
   },
   "outputs": [
    {
     "name": "stdout",
     "output_type": "stream",
     "text": [
      "Precio a 4 decmales: 99.5600%\n"
     ]
    }
   ],
   "source": [
    "precio22 = bono_chileno.precio2(fecha_valor, tir, 4)\n",
    "print(f'Precio a 4 decmales: {precio22:.4%}')"
   ]
  },
  {
   "cell_type": "markdown",
   "metadata": {},
   "source": [
    "Se muestran las diferencias con la convención de precio usual en mercados desarrollados."
   ]
  },
  {
   "cell_type": "code",
   "execution_count": 40,
   "metadata": {
    "ExecuteTime": {
     "end_time": "2023-12-19T16:08:15.460855Z",
     "start_time": "2023-12-19T16:08:15.409497Z"
    },
    "execution": {
     "iopub.execute_input": "2024-01-04T22:42:05.989568Z",
     "iopub.status.busy": "2024-01-04T22:42:05.989229Z",
     "iopub.status.idle": "2024-01-04T22:42:05.994619Z",
     "shell.execute_reply": "2024-01-04T22:42:05.993735Z",
     "shell.execute_reply.started": "2024-01-04T22:42:05.989536Z"
    }
   },
   "outputs": [
    {
     "name": "stdout",
     "output_type": "stream",
     "text": [
      "Valor presente: 99.67188455\n",
      "Precio: 99.55938455\n"
     ]
    }
   ],
   "source": [
    "bono = qcf.FixedRateBond(pata_bono)\n",
    "print(f'Valor presente: {bono.present_value(fecha_valor, tir):,.8f}')\n",
    "print(f'Precio: {bono.price(fecha_valor, tir):,.8f}')"
   ]
  },
  {
   "cell_type": "markdown",
   "metadata": {},
   "source": [
    "### Curvas Reales"
   ]
  },
  {
   "cell_type": "markdown",
   "metadata": {},
   "source": [
    "Construyamos dos curvas a partir de data real. Primero la curva CAMARACLP."
   ]
  },
  {
   "cell_type": "code",
   "execution_count": 41,
   "metadata": {
    "ExecuteTime": {
     "end_time": "2023-12-19T16:09:02.099881Z",
     "start_time": "2023-12-19T16:09:02.038333Z"
    },
    "execution": {
     "iopub.execute_input": "2024-01-04T22:42:05.995982Z",
     "iopub.status.busy": "2024-01-04T22:42:05.995583Z",
     "iopub.status.idle": "2024-01-04T22:42:06.257251Z",
     "shell.execute_reply": "2024-01-04T22:42:06.256440Z",
     "shell.execute_reply.started": "2024-01-04T22:42:05.995952Z"
    }
   },
   "outputs": [
    {
     "data": {
      "text/html": [
       "<div>\n",
       "<style scoped>\n",
       "    .dataframe tbody tr th:only-of-type {\n",
       "        vertical-align: middle;\n",
       "    }\n",
       "\n",
       "    .dataframe tbody tr th {\n",
       "        vertical-align: top;\n",
       "    }\n",
       "\n",
       "    .dataframe thead th {\n",
       "        text-align: right;\n",
       "    }\n",
       "</style>\n",
       "<table border=\"1\" class=\"dataframe\">\n",
       "  <thead>\n",
       "    <tr style=\"text-align: right;\">\n",
       "      <th></th>\n",
       "      <th>curva</th>\n",
       "      <th>fecha</th>\n",
       "      <th>plazo</th>\n",
       "      <th>tasa</th>\n",
       "    </tr>\n",
       "  </thead>\n",
       "  <tbody>\n",
       "    <tr>\n",
       "      <th>0</th>\n",
       "      <td>CAMARACLP</td>\n",
       "      <td>2020-03-05</td>\n",
       "      <td>1</td>\n",
       "      <td>0.017500</td>\n",
       "    </tr>\n",
       "    <tr>\n",
       "      <th>1</th>\n",
       "      <td>CAMARACLP</td>\n",
       "      <td>2020-03-05</td>\n",
       "      <td>4</td>\n",
       "      <td>0.017501</td>\n",
       "    </tr>\n",
       "    <tr>\n",
       "      <th>2</th>\n",
       "      <td>CAMARACLP</td>\n",
       "      <td>2020-03-05</td>\n",
       "      <td>96</td>\n",
       "      <td>0.014867</td>\n",
       "    </tr>\n",
       "    <tr>\n",
       "      <th>3</th>\n",
       "      <td>CAMARACLP</td>\n",
       "      <td>2020-03-05</td>\n",
       "      <td>188</td>\n",
       "      <td>0.013049</td>\n",
       "    </tr>\n",
       "    <tr>\n",
       "      <th>4</th>\n",
       "      <td>CAMARACLP</td>\n",
       "      <td>2020-03-05</td>\n",
       "      <td>279</td>\n",
       "      <td>0.012870</td>\n",
       "    </tr>\n",
       "    <tr>\n",
       "      <th>5</th>\n",
       "      <td>CAMARACLP</td>\n",
       "      <td>2020-03-05</td>\n",
       "      <td>369</td>\n",
       "      <td>0.013002</td>\n",
       "    </tr>\n",
       "    <tr>\n",
       "      <th>6</th>\n",
       "      <td>CAMARACLP</td>\n",
       "      <td>2020-03-05</td>\n",
       "      <td>553</td>\n",
       "      <td>0.013035</td>\n",
       "    </tr>\n",
       "    <tr>\n",
       "      <th>7</th>\n",
       "      <td>CAMARACLP</td>\n",
       "      <td>2020-03-05</td>\n",
       "      <td>734</td>\n",
       "      <td>0.012951</td>\n",
       "    </tr>\n",
       "    <tr>\n",
       "      <th>8</th>\n",
       "      <td>CAMARACLP</td>\n",
       "      <td>2020-03-05</td>\n",
       "      <td>1099</td>\n",
       "      <td>0.014440</td>\n",
       "    </tr>\n",
       "    <tr>\n",
       "      <th>9</th>\n",
       "      <td>CAMARACLP</td>\n",
       "      <td>2020-03-05</td>\n",
       "      <td>1465</td>\n",
       "      <td>0.016736</td>\n",
       "    </tr>\n",
       "    <tr>\n",
       "      <th>10</th>\n",
       "      <td>CAMARACLP</td>\n",
       "      <td>2020-03-05</td>\n",
       "      <td>1830</td>\n",
       "      <td>0.019860</td>\n",
       "    </tr>\n",
       "    <tr>\n",
       "      <th>11</th>\n",
       "      <td>CAMARACLP</td>\n",
       "      <td>2020-03-05</td>\n",
       "      <td>2195</td>\n",
       "      <td>0.022766</td>\n",
       "    </tr>\n",
       "    <tr>\n",
       "      <th>12</th>\n",
       "      <td>CAMARACLP</td>\n",
       "      <td>2020-03-05</td>\n",
       "      <td>2560</td>\n",
       "      <td>0.025812</td>\n",
       "    </tr>\n",
       "    <tr>\n",
       "      <th>13</th>\n",
       "      <td>CAMARACLP</td>\n",
       "      <td>2020-03-05</td>\n",
       "      <td>2926</td>\n",
       "      <td>0.028216</td>\n",
       "    </tr>\n",
       "    <tr>\n",
       "      <th>14</th>\n",
       "      <td>CAMARACLP</td>\n",
       "      <td>2020-03-05</td>\n",
       "      <td>3291</td>\n",
       "      <td>0.030373</td>\n",
       "    </tr>\n",
       "    <tr>\n",
       "      <th>15</th>\n",
       "      <td>CAMARACLP</td>\n",
       "      <td>2020-03-05</td>\n",
       "      <td>3656</td>\n",
       "      <td>0.032154</td>\n",
       "    </tr>\n",
       "    <tr>\n",
       "      <th>16</th>\n",
       "      <td>CAMARACLP</td>\n",
       "      <td>2020-03-05</td>\n",
       "      <td>4387</td>\n",
       "      <td>0.034525</td>\n",
       "    </tr>\n",
       "    <tr>\n",
       "      <th>17</th>\n",
       "      <td>CAMARACLP</td>\n",
       "      <td>2020-03-05</td>\n",
       "      <td>5482</td>\n",
       "      <td>0.037636</td>\n",
       "    </tr>\n",
       "    <tr>\n",
       "      <th>18</th>\n",
       "      <td>CAMARACLP</td>\n",
       "      <td>2020-03-05</td>\n",
       "      <td>7309</td>\n",
       "      <td>0.041641</td>\n",
       "    </tr>\n",
       "  </tbody>\n",
       "</table>\n",
       "</div>"
      ],
      "text/plain": [
       "        curva      fecha  plazo      tasa\n",
       "0   CAMARACLP 2020-03-05      1  0.017500\n",
       "1   CAMARACLP 2020-03-05      4  0.017501\n",
       "2   CAMARACLP 2020-03-05     96  0.014867\n",
       "3   CAMARACLP 2020-03-05    188  0.013049\n",
       "4   CAMARACLP 2020-03-05    279  0.012870\n",
       "5   CAMARACLP 2020-03-05    369  0.013002\n",
       "6   CAMARACLP 2020-03-05    553  0.013035\n",
       "7   CAMARACLP 2020-03-05    734  0.012951\n",
       "8   CAMARACLP 2020-03-05   1099  0.014440\n",
       "9   CAMARACLP 2020-03-05   1465  0.016736\n",
       "10  CAMARACLP 2020-03-05   1830  0.019860\n",
       "11  CAMARACLP 2020-03-05   2195  0.022766\n",
       "12  CAMARACLP 2020-03-05   2560  0.025812\n",
       "13  CAMARACLP 2020-03-05   2926  0.028216\n",
       "14  CAMARACLP 2020-03-05   3291  0.030373\n",
       "15  CAMARACLP 2020-03-05   3656  0.032154\n",
       "16  CAMARACLP 2020-03-05   4387  0.034525\n",
       "17  CAMARACLP 2020-03-05   5482  0.037636\n",
       "18  CAMARACLP 2020-03-05   7309  0.041641"
      ]
     },
     "execution_count": 41,
     "metadata": {},
     "output_type": "execute_result"
    }
   ],
   "source": [
    "curva = pd.read_excel(\"./input/curva_clp.xlsx\")\n",
    "curva"
   ]
  },
  {
   "cell_type": "markdown",
   "metadata": {},
   "source": [
    "Se da de alta un vector con los plazos (variable de tipo `long`) y un vector con las tasas (variable de tipo `double`)."
   ]
  },
  {
   "cell_type": "code",
   "execution_count": 42,
   "metadata": {
    "ExecuteTime": {
     "end_time": "2023-12-19T16:09:12.270999Z",
     "start_time": "2023-12-19T16:09:12.233624Z"
    },
    "execution": {
     "iopub.execute_input": "2024-01-04T22:42:06.258969Z",
     "iopub.status.busy": "2024-01-04T22:42:06.258471Z",
     "iopub.status.idle": "2024-01-04T22:42:06.265577Z",
     "shell.execute_reply": "2024-01-04T22:42:06.264601Z",
     "shell.execute_reply.started": "2024-01-04T22:42:06.258942Z"
    }
   },
   "outputs": [],
   "source": [
    "lvec1 = qcf.long_vec()\n",
    "vec1 = qcf.double_vec()\n",
    "for index, row in curva.iterrows():\n",
    "    lvec1.append(int(row['plazo']))\n",
    "    vec1.append(row['tasa'])"
   ]
  },
  {
   "cell_type": "markdown",
   "metadata": {},
   "source": [
    "Luego, con una curva, un interpolador y un objeto `QCInterestRate`(que indica la convención de las tasas de la curva) se construye una curva cupón cero."
   ]
  },
  {
   "cell_type": "code",
   "execution_count": 43,
   "metadata": {
    "ExecuteTime": {
     "end_time": "2023-12-19T16:09:14.611482Z",
     "start_time": "2023-12-19T16:09:14.565464Z"
    },
    "execution": {
     "iopub.execute_input": "2024-01-04T22:42:06.267182Z",
     "iopub.status.busy": "2024-01-04T22:42:06.266805Z",
     "iopub.status.idle": "2024-01-04T22:42:06.271299Z",
     "shell.execute_reply": "2024-01-04T22:42:06.270562Z",
     "shell.execute_reply.started": "2024-01-04T22:42:06.267153Z"
    }
   },
   "outputs": [],
   "source": [
    "zcc1 = qcf.QCCurve(lvec1, vec1)\n",
    "lin1 = qcf.QCLinearInterpolator(zcc1)\n",
    "zz1 = qcf.ZeroCouponCurve(lin1, tasa)"
   ]
  },
  {
   "cell_type": "markdown",
   "metadata": {},
   "source": [
    "Luego, la curva LIBORUSD3M."
   ]
  },
  {
   "cell_type": "code",
   "execution_count": 44,
   "metadata": {
    "ExecuteTime": {
     "end_time": "2023-12-19T16:09:16.478008Z",
     "start_time": "2023-12-19T16:09:16.407650Z"
    },
    "execution": {
     "iopub.execute_input": "2024-01-04T22:42:06.272995Z",
     "iopub.status.busy": "2024-01-04T22:42:06.272516Z",
     "iopub.status.idle": "2024-01-04T22:42:06.396452Z",
     "shell.execute_reply": "2024-01-04T22:42:06.395602Z",
     "shell.execute_reply.started": "2024-01-04T22:42:06.272967Z"
    }
   },
   "outputs": [
    {
     "data": {
      "text/html": [
       "<style type=\"text/css\">\n",
       "</style>\n",
       "<table id=\"T_a27b3\">\n",
       "  <thead>\n",
       "    <tr>\n",
       "      <th class=\"blank level0\" >&nbsp;</th>\n",
       "      <th id=\"T_a27b3_level0_col0\" class=\"col_heading level0 col0\" >curva</th>\n",
       "      <th id=\"T_a27b3_level0_col1\" class=\"col_heading level0 col1\" >fecha</th>\n",
       "      <th id=\"T_a27b3_level0_col2\" class=\"col_heading level0 col2\" >plazo</th>\n",
       "      <th id=\"T_a27b3_level0_col3\" class=\"col_heading level0 col3\" >tasa</th>\n",
       "    </tr>\n",
       "  </thead>\n",
       "  <tbody>\n",
       "    <tr>\n",
       "      <th id=\"T_a27b3_level0_row0\" class=\"row_heading level0 row0\" >0</th>\n",
       "      <td id=\"T_a27b3_row0_col0\" class=\"data row0 col0\" >LIBORUSD3MBBG</td>\n",
       "      <td id=\"T_a27b3_row0_col1\" class=\"data row0 col1\" >2020-01-22 00:00:00</td>\n",
       "      <td id=\"T_a27b3_row0_col2\" class=\"data row0 col2\" >3</td>\n",
       "      <td id=\"T_a27b3_row0_col3\" class=\"data row0 col3\" >1.5362%</td>\n",
       "    </tr>\n",
       "    <tr>\n",
       "      <th id=\"T_a27b3_level0_row1\" class=\"row_heading level0 row1\" >1</th>\n",
       "      <td id=\"T_a27b3_row1_col0\" class=\"data row1 col0\" >LIBORUSD3MBBG</td>\n",
       "      <td id=\"T_a27b3_row1_col1\" class=\"data row1 col1\" >2020-01-22 00:00:00</td>\n",
       "      <td id=\"T_a27b3_row1_col2\" class=\"data row1 col2\" >4</td>\n",
       "      <td id=\"T_a27b3_row1_col3\" class=\"data row1 col3\" >1.1521%</td>\n",
       "    </tr>\n",
       "    <tr>\n",
       "      <th id=\"T_a27b3_level0_row2\" class=\"row_heading level0 row2\" >2</th>\n",
       "      <td id=\"T_a27b3_row2_col0\" class=\"data row2 col0\" >LIBORUSD3MBBG</td>\n",
       "      <td id=\"T_a27b3_row2_col1\" class=\"data row2 col1\" >2020-01-22 00:00:00</td>\n",
       "      <td id=\"T_a27b3_row2_col2\" class=\"data row2 col2\" >7</td>\n",
       "      <td id=\"T_a27b3_row2_col3\" class=\"data row2 col3\" >1.5536%</td>\n",
       "    </tr>\n",
       "    <tr>\n",
       "      <th id=\"T_a27b3_level0_row3\" class=\"row_heading level0 row3\" >3</th>\n",
       "      <td id=\"T_a27b3_row3_col0\" class=\"data row3 col0\" >LIBORUSD3MBBG</td>\n",
       "      <td id=\"T_a27b3_row3_col1\" class=\"data row3 col1\" >2020-01-22 00:00:00</td>\n",
       "      <td id=\"T_a27b3_row3_col2\" class=\"data row3 col2\" >14</td>\n",
       "      <td id=\"T_a27b3_row3_col3\" class=\"data row3 col3\" >1.5850%</td>\n",
       "    </tr>\n",
       "    <tr>\n",
       "      <th id=\"T_a27b3_level0_row4\" class=\"row_heading level0 row4\" >4</th>\n",
       "      <td id=\"T_a27b3_row4_col0\" class=\"data row4 col0\" >LIBORUSD3MBBG</td>\n",
       "      <td id=\"T_a27b3_row4_col1\" class=\"data row4 col1\" >2020-01-22 00:00:00</td>\n",
       "      <td id=\"T_a27b3_row4_col2\" class=\"data row4 col2\" >31</td>\n",
       "      <td id=\"T_a27b3_row4_col3\" class=\"data row4 col3\" >1.6595%</td>\n",
       "    </tr>\n",
       "    <tr>\n",
       "      <th id=\"T_a27b3_level0_row5\" class=\"row_heading level0 row5\" >5</th>\n",
       "      <td id=\"T_a27b3_row5_col0\" class=\"data row5 col0\" >LIBORUSD3MBBG</td>\n",
       "      <td id=\"T_a27b3_row5_col1\" class=\"data row5 col1\" >2020-01-22 00:00:00</td>\n",
       "      <td id=\"T_a27b3_row5_col2\" class=\"data row5 col2\" >60</td>\n",
       "      <td id=\"T_a27b3_row5_col3\" class=\"data row5 col3\" >1.7698%</td>\n",
       "    </tr>\n",
       "    <tr>\n",
       "      <th id=\"T_a27b3_level0_row6\" class=\"row_heading level0 row6\" >6</th>\n",
       "      <td id=\"T_a27b3_row6_col0\" class=\"data row6 col0\" >LIBORUSD3MBBG</td>\n",
       "      <td id=\"T_a27b3_row6_col1\" class=\"data row6 col1\" >2020-01-22 00:00:00</td>\n",
       "      <td id=\"T_a27b3_row6_col2\" class=\"data row6 col2\" >91</td>\n",
       "      <td id=\"T_a27b3_row6_col3\" class=\"data row6 col3\" >1.8010%</td>\n",
       "    </tr>\n",
       "    <tr>\n",
       "      <th id=\"T_a27b3_level0_row7\" class=\"row_heading level0 row7\" >7</th>\n",
       "      <td id=\"T_a27b3_row7_col0\" class=\"data row7 col0\" >LIBORUSD3MBBG</td>\n",
       "      <td id=\"T_a27b3_row7_col1\" class=\"data row7 col1\" >2020-01-22 00:00:00</td>\n",
       "      <td id=\"T_a27b3_row7_col2\" class=\"data row7 col2\" >123</td>\n",
       "      <td id=\"T_a27b3_row7_col3\" class=\"data row7 col3\" >1.7711%</td>\n",
       "    </tr>\n",
       "    <tr>\n",
       "      <th id=\"T_a27b3_level0_row8\" class=\"row_heading level0 row8\" >8</th>\n",
       "      <td id=\"T_a27b3_row8_col0\" class=\"data row8 col0\" >LIBORUSD3MBBG</td>\n",
       "      <td id=\"T_a27b3_row8_col1\" class=\"data row8 col1\" >2020-01-22 00:00:00</td>\n",
       "      <td id=\"T_a27b3_row8_col2\" class=\"data row8 col2\" >152</td>\n",
       "      <td id=\"T_a27b3_row8_col3\" class=\"data row8 col3\" >1.7542%</td>\n",
       "    </tr>\n",
       "    <tr>\n",
       "      <th id=\"T_a27b3_level0_row9\" class=\"row_heading level0 row9\" >9</th>\n",
       "      <td id=\"T_a27b3_row9_col0\" class=\"data row9 col0\" >LIBORUSD3MBBG</td>\n",
       "      <td id=\"T_a27b3_row9_col1\" class=\"data row9 col1\" >2020-01-22 00:00:00</td>\n",
       "      <td id=\"T_a27b3_row9_col2\" class=\"data row9 col2\" >182</td>\n",
       "      <td id=\"T_a27b3_row9_col3\" class=\"data row9 col3\" >1.7394%</td>\n",
       "    </tr>\n",
       "    <tr>\n",
       "      <th id=\"T_a27b3_level0_row10\" class=\"row_heading level0 row10\" >10</th>\n",
       "      <td id=\"T_a27b3_row10_col0\" class=\"data row10 col0\" >LIBORUSD3MBBG</td>\n",
       "      <td id=\"T_a27b3_row10_col1\" class=\"data row10 col1\" >2020-01-22 00:00:00</td>\n",
       "      <td id=\"T_a27b3_row10_col2\" class=\"data row10 col2\" >213</td>\n",
       "      <td id=\"T_a27b3_row10_col3\" class=\"data row10 col3\" >1.7288%</td>\n",
       "    </tr>\n",
       "    <tr>\n",
       "      <th id=\"T_a27b3_level0_row11\" class=\"row_heading level0 row11\" >11</th>\n",
       "      <td id=\"T_a27b3_row11_col0\" class=\"data row11 col0\" >LIBORUSD3MBBG</td>\n",
       "      <td id=\"T_a27b3_row11_col1\" class=\"data row11 col1\" >2020-01-22 00:00:00</td>\n",
       "      <td id=\"T_a27b3_row11_col2\" class=\"data row11 col2\" >244</td>\n",
       "      <td id=\"T_a27b3_row11_col3\" class=\"data row11 col3\" >1.7183%</td>\n",
       "    </tr>\n",
       "    <tr>\n",
       "      <th id=\"T_a27b3_level0_row12\" class=\"row_heading level0 row12\" >12</th>\n",
       "      <td id=\"T_a27b3_row12_col0\" class=\"data row12 col0\" >LIBORUSD3MBBG</td>\n",
       "      <td id=\"T_a27b3_row12_col1\" class=\"data row12 col1\" >2020-01-22 00:00:00</td>\n",
       "      <td id=\"T_a27b3_row12_col2\" class=\"data row12 col2\" >276</td>\n",
       "      <td id=\"T_a27b3_row12_col3\" class=\"data row12 col3\" >1.7027%</td>\n",
       "    </tr>\n",
       "    <tr>\n",
       "      <th id=\"T_a27b3_level0_row13\" class=\"row_heading level0 row13\" >13</th>\n",
       "      <td id=\"T_a27b3_row13_col0\" class=\"data row13 col0\" >LIBORUSD3MBBG</td>\n",
       "      <td id=\"T_a27b3_row13_col1\" class=\"data row13 col1\" >2020-01-22 00:00:00</td>\n",
       "      <td id=\"T_a27b3_row13_col2\" class=\"data row13 col2\" >305</td>\n",
       "      <td id=\"T_a27b3_row13_col3\" class=\"data row13 col3\" >1.6917%</td>\n",
       "    </tr>\n",
       "    <tr>\n",
       "      <th id=\"T_a27b3_level0_row14\" class=\"row_heading level0 row14\" >14</th>\n",
       "      <td id=\"T_a27b3_row14_col0\" class=\"data row14 col0\" >LIBORUSD3MBBG</td>\n",
       "      <td id=\"T_a27b3_row14_col1\" class=\"data row14 col1\" >2020-01-22 00:00:00</td>\n",
       "      <td id=\"T_a27b3_row14_col2\" class=\"data row14 col2\" >335</td>\n",
       "      <td id=\"T_a27b3_row14_col3\" class=\"data row14 col3\" >1.6820%</td>\n",
       "    </tr>\n",
       "    <tr>\n",
       "      <th id=\"T_a27b3_level0_row15\" class=\"row_heading level0 row15\" >15</th>\n",
       "      <td id=\"T_a27b3_row15_col0\" class=\"data row15 col0\" >LIBORUSD3MBBG</td>\n",
       "      <td id=\"T_a27b3_row15_col1\" class=\"data row15 col1\" >2020-01-22 00:00:00</td>\n",
       "      <td id=\"T_a27b3_row15_col2\" class=\"data row15 col2\" >367</td>\n",
       "      <td id=\"T_a27b3_row15_col3\" class=\"data row15 col3\" >1.6722%</td>\n",
       "    </tr>\n",
       "    <tr>\n",
       "      <th id=\"T_a27b3_level0_row16\" class=\"row_heading level0 row16\" >16</th>\n",
       "      <td id=\"T_a27b3_row16_col0\" class=\"data row16 col0\" >LIBORUSD3MBBG</td>\n",
       "      <td id=\"T_a27b3_row16_col1\" class=\"data row16 col1\" >2020-01-22 00:00:00</td>\n",
       "      <td id=\"T_a27b3_row16_col2\" class=\"data row16 col2\" >549</td>\n",
       "      <td id=\"T_a27b3_row16_col3\" class=\"data row16 col3\" >1.6207%</td>\n",
       "    </tr>\n",
       "    <tr>\n",
       "      <th id=\"T_a27b3_level0_row17\" class=\"row_heading level0 row17\" >17</th>\n",
       "      <td id=\"T_a27b3_row17_col0\" class=\"data row17 col0\" >LIBORUSD3MBBG</td>\n",
       "      <td id=\"T_a27b3_row17_col1\" class=\"data row17 col1\" >2020-01-22 00:00:00</td>\n",
       "      <td id=\"T_a27b3_row17_col2\" class=\"data row17 col2\" >731</td>\n",
       "      <td id=\"T_a27b3_row17_col3\" class=\"data row17 col3\" >1.5947%</td>\n",
       "    </tr>\n",
       "    <tr>\n",
       "      <th id=\"T_a27b3_level0_row18\" class=\"row_heading level0 row18\" >18</th>\n",
       "      <td id=\"T_a27b3_row18_col0\" class=\"data row18 col0\" >LIBORUSD3MBBG</td>\n",
       "      <td id=\"T_a27b3_row18_col1\" class=\"data row18 col1\" >2020-01-22 00:00:00</td>\n",
       "      <td id=\"T_a27b3_row18_col2\" class=\"data row18 col2\" >1096</td>\n",
       "      <td id=\"T_a27b3_row18_col3\" class=\"data row18 col3\" >1.5788%</td>\n",
       "    </tr>\n",
       "    <tr>\n",
       "      <th id=\"T_a27b3_level0_row19\" class=\"row_heading level0 row19\" >19</th>\n",
       "      <td id=\"T_a27b3_row19_col0\" class=\"data row19 col0\" >LIBORUSD3MBBG</td>\n",
       "      <td id=\"T_a27b3_row19_col1\" class=\"data row19 col1\" >2020-01-22 00:00:00</td>\n",
       "      <td id=\"T_a27b3_row19_col2\" class=\"data row19 col2\" >1461</td>\n",
       "      <td id=\"T_a27b3_row19_col3\" class=\"data row19 col3\" >1.5906%</td>\n",
       "    </tr>\n",
       "    <tr>\n",
       "      <th id=\"T_a27b3_level0_row20\" class=\"row_heading level0 row20\" >20</th>\n",
       "      <td id=\"T_a27b3_row20_col0\" class=\"data row20 col0\" >LIBORUSD3MBBG</td>\n",
       "      <td id=\"T_a27b3_row20_col1\" class=\"data row20 col1\" >2020-01-22 00:00:00</td>\n",
       "      <td id=\"T_a27b3_row20_col2\" class=\"data row20 col2\" >1827</td>\n",
       "      <td id=\"T_a27b3_row20_col3\" class=\"data row20 col3\" >1.6190%</td>\n",
       "    </tr>\n",
       "    <tr>\n",
       "      <th id=\"T_a27b3_level0_row21\" class=\"row_heading level0 row21\" >21</th>\n",
       "      <td id=\"T_a27b3_row21_col0\" class=\"data row21 col0\" >LIBORUSD3MBBG</td>\n",
       "      <td id=\"T_a27b3_row21_col1\" class=\"data row21 col1\" >2020-01-22 00:00:00</td>\n",
       "      <td id=\"T_a27b3_row21_col2\" class=\"data row21 col2\" >2558</td>\n",
       "      <td id=\"T_a27b3_row21_col3\" class=\"data row21 col3\" >1.7028%</td>\n",
       "    </tr>\n",
       "    <tr>\n",
       "      <th id=\"T_a27b3_level0_row22\" class=\"row_heading level0 row22\" >22</th>\n",
       "      <td id=\"T_a27b3_row22_col0\" class=\"data row22 col0\" >LIBORUSD3MBBG</td>\n",
       "      <td id=\"T_a27b3_row22_col1\" class=\"data row22 col1\" >2020-01-22 00:00:00</td>\n",
       "      <td id=\"T_a27b3_row22_col2\" class=\"data row22 col2\" >3653</td>\n",
       "      <td id=\"T_a27b3_row22_col3\" class=\"data row22 col3\" >1.8533%</td>\n",
       "    </tr>\n",
       "    <tr>\n",
       "      <th id=\"T_a27b3_level0_row23\" class=\"row_heading level0 row23\" >23</th>\n",
       "      <td id=\"T_a27b3_row23_col0\" class=\"data row23 col0\" >LIBORUSD3MBBG</td>\n",
       "      <td id=\"T_a27b3_row23_col1\" class=\"data row23 col1\" >2020-01-22 00:00:00</td>\n",
       "      <td id=\"T_a27b3_row23_col2\" class=\"data row23 col2\" >4385</td>\n",
       "      <td id=\"T_a27b3_row23_col3\" class=\"data row23 col3\" >1.9547%</td>\n",
       "    </tr>\n",
       "    <tr>\n",
       "      <th id=\"T_a27b3_level0_row24\" class=\"row_heading level0 row24\" >24</th>\n",
       "      <td id=\"T_a27b3_row24_col0\" class=\"data row24 col0\" >LIBORUSD3MBBG</td>\n",
       "      <td id=\"T_a27b3_row24_col1\" class=\"data row24 col1\" >2020-01-22 00:00:00</td>\n",
       "      <td id=\"T_a27b3_row24_col2\" class=\"data row24 col2\" >5479</td>\n",
       "      <td id=\"T_a27b3_row24_col3\" class=\"data row24 col3\" >2.0893%</td>\n",
       "    </tr>\n",
       "    <tr>\n",
       "      <th id=\"T_a27b3_level0_row25\" class=\"row_heading level0 row25\" >25</th>\n",
       "      <td id=\"T_a27b3_row25_col0\" class=\"data row25 col0\" >LIBORUSD3MBBG</td>\n",
       "      <td id=\"T_a27b3_row25_col1\" class=\"data row25 col1\" >2020-01-22 00:00:00</td>\n",
       "      <td id=\"T_a27b3_row25_col2\" class=\"data row25 col2\" >7305</td>\n",
       "      <td id=\"T_a27b3_row25_col3\" class=\"data row25 col3\" >2.2831%</td>\n",
       "    </tr>\n",
       "    <tr>\n",
       "      <th id=\"T_a27b3_level0_row26\" class=\"row_heading level0 row26\" >26</th>\n",
       "      <td id=\"T_a27b3_row26_col0\" class=\"data row26 col0\" >LIBORUSD3MBBG</td>\n",
       "      <td id=\"T_a27b3_row26_col1\" class=\"data row26 col1\" >2020-01-22 00:00:00</td>\n",
       "      <td id=\"T_a27b3_row26_col2\" class=\"data row26 col2\" >9132</td>\n",
       "      <td id=\"T_a27b3_row26_col3\" class=\"data row26 col3\" >2.4306%</td>\n",
       "    </tr>\n",
       "    <tr>\n",
       "      <th id=\"T_a27b3_level0_row27\" class=\"row_heading level0 row27\" >27</th>\n",
       "      <td id=\"T_a27b3_row27_col0\" class=\"data row27 col0\" >LIBORUSD3MBBG</td>\n",
       "      <td id=\"T_a27b3_row27_col1\" class=\"data row27 col1\" >2020-01-22 00:00:00</td>\n",
       "      <td id=\"T_a27b3_row27_col2\" class=\"data row27 col2\" >10958</td>\n",
       "      <td id=\"T_a27b3_row27_col3\" class=\"data row27 col3\" >2.5576%</td>\n",
       "    </tr>\n",
       "  </tbody>\n",
       "</table>\n"
      ],
      "text/plain": [
       "<pandas.io.formats.style.Styler at 0x1252ae910>"
      ]
     },
     "execution_count": 44,
     "metadata": {},
     "output_type": "execute_result"
    }
   ],
   "source": [
    "curva_libor = pd.read_excel(\"./input/curva_usd.xlsx\")\n",
    "curva_libor.style.format({\"tasa\": \"{0:,.4%}\"})"
   ]
  },
  {
   "cell_type": "code",
   "execution_count": 45,
   "metadata": {
    "ExecuteTime": {
     "end_time": "2023-12-19T16:09:17.248798Z",
     "start_time": "2023-12-19T16:09:17.208628Z"
    },
    "execution": {
     "iopub.execute_input": "2024-01-04T22:42:06.398170Z",
     "iopub.status.busy": "2024-01-04T22:42:06.397666Z",
     "iopub.status.idle": "2024-01-04T22:42:06.406057Z",
     "shell.execute_reply": "2024-01-04T22:42:06.405194Z",
     "shell.execute_reply.started": "2024-01-04T22:42:06.398139Z"
    }
   },
   "outputs": [],
   "source": [
    "lvec2 = qcf.long_vec()\n",
    "vec2 = qcf.double_vec()\n",
    "for index, row in curva_libor.iterrows():\n",
    "    lvec2.append(int(row['plazo']))\n",
    "    vec2.append(row['tasa'])\n",
    "\n",
    "zcc2 = qcf.QCCurve(lvec2, vec2)\n",
    "lin2 = qcf.QCLinearInterpolator(zcc2)\n",
    "zz2 = qcf.ZeroCouponCurve(lin2, tasa)"
   ]
  },
  {
   "cell_type": "markdown",
   "metadata": {},
   "source": [
    "Finalmente, la curva CAMARACLF."
   ]
  },
  {
   "cell_type": "code",
   "execution_count": 46,
   "metadata": {
    "ExecuteTime": {
     "end_time": "2023-12-19T16:09:18.252430Z",
     "start_time": "2023-12-19T16:09:18.204028Z"
    },
    "execution": {
     "iopub.execute_input": "2024-01-04T22:42:06.408071Z",
     "iopub.status.busy": "2024-01-04T22:42:06.407523Z",
     "iopub.status.idle": "2024-01-04T22:42:06.431858Z",
     "shell.execute_reply": "2024-01-04T22:42:06.431040Z",
     "shell.execute_reply.started": "2024-01-04T22:42:06.408044Z"
    }
   },
   "outputs": [
    {
     "data": {
      "text/html": [
       "<style type=\"text/css\">\n",
       "</style>\n",
       "<table id=\"T_7545f\">\n",
       "  <thead>\n",
       "    <tr>\n",
       "      <th class=\"blank level0\" >&nbsp;</th>\n",
       "      <th id=\"T_7545f_level0_col0\" class=\"col_heading level0 col0\" >curva</th>\n",
       "      <th id=\"T_7545f_level0_col1\" class=\"col_heading level0 col1\" >fecha</th>\n",
       "      <th id=\"T_7545f_level0_col2\" class=\"col_heading level0 col2\" >plazo</th>\n",
       "      <th id=\"T_7545f_level0_col3\" class=\"col_heading level0 col3\" >tasa</th>\n",
       "    </tr>\n",
       "  </thead>\n",
       "  <tbody>\n",
       "    <tr>\n",
       "      <th id=\"T_7545f_level0_row0\" class=\"row_heading level0 row0\" >0</th>\n",
       "      <td id=\"T_7545f_row0_col0\" class=\"data row0 col0\" >CAMARACLF</td>\n",
       "      <td id=\"T_7545f_row0_col1\" class=\"data row0 col1\" >2020-03-05 00:00:00</td>\n",
       "      <td id=\"T_7545f_row0_col2\" class=\"data row0 col2\" >1</td>\n",
       "      <td id=\"T_7545f_row0_col3\" class=\"data row0 col3\" >-5.6780%</td>\n",
       "    </tr>\n",
       "    <tr>\n",
       "      <th id=\"T_7545f_level0_row1\" class=\"row_heading level0 row1\" >1</th>\n",
       "      <td id=\"T_7545f_row1_col0\" class=\"data row1 col0\" >CAMARACLF</td>\n",
       "      <td id=\"T_7545f_row1_col1\" class=\"data row1 col1\" >2020-03-05 00:00:00</td>\n",
       "      <td id=\"T_7545f_row1_col2\" class=\"data row1 col2\" >4</td>\n",
       "      <td id=\"T_7545f_row1_col3\" class=\"data row1 col3\" >-5.6744%</td>\n",
       "    </tr>\n",
       "    <tr>\n",
       "      <th id=\"T_7545f_level0_row2\" class=\"row_heading level0 row2\" >2</th>\n",
       "      <td id=\"T_7545f_row2_col0\" class=\"data row2 col0\" >CAMARACLF</td>\n",
       "      <td id=\"T_7545f_row2_col1\" class=\"data row2 col1\" >2020-03-05 00:00:00</td>\n",
       "      <td id=\"T_7545f_row2_col2\" class=\"data row2 col2\" >35</td>\n",
       "      <td id=\"T_7545f_row2_col3\" class=\"data row2 col3\" >-0.9340%</td>\n",
       "    </tr>\n",
       "    <tr>\n",
       "      <th id=\"T_7545f_level0_row3\" class=\"row_heading level0 row3\" >3</th>\n",
       "      <td id=\"T_7545f_row3_col0\" class=\"data row3 col0\" >CAMARACLF</td>\n",
       "      <td id=\"T_7545f_row3_col1\" class=\"data row3 col1\" >2020-03-05 00:00:00</td>\n",
       "      <td id=\"T_7545f_row3_col2\" class=\"data row3 col2\" >64</td>\n",
       "      <td id=\"T_7545f_row3_col3\" class=\"data row3 col3\" >-2.1183%</td>\n",
       "    </tr>\n",
       "    <tr>\n",
       "      <th id=\"T_7545f_level0_row4\" class=\"row_heading level0 row4\" >4</th>\n",
       "      <td id=\"T_7545f_row4_col0\" class=\"data row4 col0\" >CAMARACLF</td>\n",
       "      <td id=\"T_7545f_row4_col1\" class=\"data row4 col1\" >2020-03-05 00:00:00</td>\n",
       "      <td id=\"T_7545f_row4_col2\" class=\"data row4 col2\" >96</td>\n",
       "      <td id=\"T_7545f_row4_col3\" class=\"data row4 col3\" >-2.0079%</td>\n",
       "    </tr>\n",
       "    <tr>\n",
       "      <th id=\"T_7545f_level0_row5\" class=\"row_heading level0 row5\" >5</th>\n",
       "      <td id=\"T_7545f_row5_col0\" class=\"data row5 col0\" >CAMARACLF</td>\n",
       "      <td id=\"T_7545f_row5_col1\" class=\"data row5 col1\" >2020-03-05 00:00:00</td>\n",
       "      <td id=\"T_7545f_row5_col2\" class=\"data row5 col2\" >126</td>\n",
       "      <td id=\"T_7545f_row5_col3\" class=\"data row5 col3\" >-2.0762%</td>\n",
       "    </tr>\n",
       "    <tr>\n",
       "      <th id=\"T_7545f_level0_row6\" class=\"row_heading level0 row6\" >6</th>\n",
       "      <td id=\"T_7545f_row6_col0\" class=\"data row6 col0\" >CAMARACLF</td>\n",
       "      <td id=\"T_7545f_row6_col1\" class=\"data row6 col1\" >2020-03-05 00:00:00</td>\n",
       "      <td id=\"T_7545f_row6_col2\" class=\"data row6 col2\" >155</td>\n",
       "      <td id=\"T_7545f_row6_col3\" class=\"data row6 col3\" >-1.9197%</td>\n",
       "    </tr>\n",
       "    <tr>\n",
       "      <th id=\"T_7545f_level0_row7\" class=\"row_heading level0 row7\" >7</th>\n",
       "      <td id=\"T_7545f_row7_col0\" class=\"data row7 col0\" >CAMARACLF</td>\n",
       "      <td id=\"T_7545f_row7_col1\" class=\"data row7 col1\" >2020-03-05 00:00:00</td>\n",
       "      <td id=\"T_7545f_row7_col2\" class=\"data row7 col2\" >188</td>\n",
       "      <td id=\"T_7545f_row7_col3\" class=\"data row7 col3\" >-1.9347%</td>\n",
       "    </tr>\n",
       "    <tr>\n",
       "      <th id=\"T_7545f_level0_row8\" class=\"row_heading level0 row8\" >8</th>\n",
       "      <td id=\"T_7545f_row8_col0\" class=\"data row8 col0\" >CAMARACLF</td>\n",
       "      <td id=\"T_7545f_row8_col1\" class=\"data row8 col1\" >2020-03-05 00:00:00</td>\n",
       "      <td id=\"T_7545f_row8_col2\" class=\"data row8 col2\" >218</td>\n",
       "      <td id=\"T_7545f_row8_col3\" class=\"data row8 col3\" >-1.7626%</td>\n",
       "    </tr>\n",
       "    <tr>\n",
       "      <th id=\"T_7545f_level0_row9\" class=\"row_heading level0 row9\" >9</th>\n",
       "      <td id=\"T_7545f_row9_col0\" class=\"data row9 col0\" >CAMARACLF</td>\n",
       "      <td id=\"T_7545f_row9_col1\" class=\"data row9 col1\" >2020-03-05 00:00:00</td>\n",
       "      <td id=\"T_7545f_row9_col2\" class=\"data row9 col2\" >249</td>\n",
       "      <td id=\"T_7545f_row9_col3\" class=\"data row9 col3\" >-1.7987%</td>\n",
       "    </tr>\n",
       "    <tr>\n",
       "      <th id=\"T_7545f_level0_row10\" class=\"row_heading level0 row10\" >10</th>\n",
       "      <td id=\"T_7545f_row10_col0\" class=\"data row10 col0\" >CAMARACLF</td>\n",
       "      <td id=\"T_7545f_row10_col1\" class=\"data row10 col1\" >2020-03-05 00:00:00</td>\n",
       "      <td id=\"T_7545f_row10_col2\" class=\"data row10 col2\" >279</td>\n",
       "      <td id=\"T_7545f_row10_col3\" class=\"data row10 col3\" >-1.9335%</td>\n",
       "    </tr>\n",
       "    <tr>\n",
       "      <th id=\"T_7545f_level0_row11\" class=\"row_heading level0 row11\" >11</th>\n",
       "      <td id=\"T_7545f_row11_col0\" class=\"data row11 col0\" >CAMARACLF</td>\n",
       "      <td id=\"T_7545f_row11_col1\" class=\"data row11 col1\" >2020-03-05 00:00:00</td>\n",
       "      <td id=\"T_7545f_row11_col2\" class=\"data row11 col2\" >309</td>\n",
       "      <td id=\"T_7545f_row11_col3\" class=\"data row11 col3\" >-1.8159%</td>\n",
       "    </tr>\n",
       "    <tr>\n",
       "      <th id=\"T_7545f_level0_row12\" class=\"row_heading level0 row12\" >12</th>\n",
       "      <td id=\"T_7545f_row12_col0\" class=\"data row12 col0\" >CAMARACLF</td>\n",
       "      <td id=\"T_7545f_row12_col1\" class=\"data row12 col1\" >2020-03-05 00:00:00</td>\n",
       "      <td id=\"T_7545f_row12_col2\" class=\"data row12 col2\" >341</td>\n",
       "      <td id=\"T_7545f_row12_col3\" class=\"data row12 col3\" >-1.5940%</td>\n",
       "    </tr>\n",
       "    <tr>\n",
       "      <th id=\"T_7545f_level0_row13\" class=\"row_heading level0 row13\" >13</th>\n",
       "      <td id=\"T_7545f_row13_col0\" class=\"data row13 col0\" >CAMARACLF</td>\n",
       "      <td id=\"T_7545f_row13_col1\" class=\"data row13 col1\" >2020-03-05 00:00:00</td>\n",
       "      <td id=\"T_7545f_row13_col2\" class=\"data row13 col2\" >369</td>\n",
       "      <td id=\"T_7545f_row13_col3\" class=\"data row13 col3\" >-1.5994%</td>\n",
       "    </tr>\n",
       "    <tr>\n",
       "      <th id=\"T_7545f_level0_row14\" class=\"row_heading level0 row14\" >14</th>\n",
       "      <td id=\"T_7545f_row14_col0\" class=\"data row14 col0\" >CAMARACLF</td>\n",
       "      <td id=\"T_7545f_row14_col1\" class=\"data row14 col1\" >2020-03-05 00:00:00</td>\n",
       "      <td id=\"T_7545f_row14_col2\" class=\"data row14 col2\" >400</td>\n",
       "      <td id=\"T_7545f_row14_col3\" class=\"data row14 col3\" >-1.5068%</td>\n",
       "    </tr>\n",
       "    <tr>\n",
       "      <th id=\"T_7545f_level0_row15\" class=\"row_heading level0 row15\" >15</th>\n",
       "      <td id=\"T_7545f_row15_col0\" class=\"data row15 col0\" >CAMARACLF</td>\n",
       "      <td id=\"T_7545f_row15_col1\" class=\"data row15 col1\" >2020-03-05 00:00:00</td>\n",
       "      <td id=\"T_7545f_row15_col2\" class=\"data row15 col2\" >428</td>\n",
       "      <td id=\"T_7545f_row15_col3\" class=\"data row15 col3\" >-1.6115%</td>\n",
       "    </tr>\n",
       "    <tr>\n",
       "      <th id=\"T_7545f_level0_row16\" class=\"row_heading level0 row16\" >16</th>\n",
       "      <td id=\"T_7545f_row16_col0\" class=\"data row16 col0\" >CAMARACLF</td>\n",
       "      <td id=\"T_7545f_row16_col1\" class=\"data row16 col1\" >2020-03-05 00:00:00</td>\n",
       "      <td id=\"T_7545f_row16_col2\" class=\"data row16 col2\" >461</td>\n",
       "      <td id=\"T_7545f_row16_col3\" class=\"data row16 col3\" >-1.5923%</td>\n",
       "    </tr>\n",
       "    <tr>\n",
       "      <th id=\"T_7545f_level0_row17\" class=\"row_heading level0 row17\" >17</th>\n",
       "      <td id=\"T_7545f_row17_col0\" class=\"data row17 col0\" >CAMARACLF</td>\n",
       "      <td id=\"T_7545f_row17_col1\" class=\"data row17 col1\" >2020-03-05 00:00:00</td>\n",
       "      <td id=\"T_7545f_row17_col2\" class=\"data row17 col2\" >491</td>\n",
       "      <td id=\"T_7545f_row17_col3\" class=\"data row17 col3\" >-1.5780%</td>\n",
       "    </tr>\n",
       "    <tr>\n",
       "      <th id=\"T_7545f_level0_row18\" class=\"row_heading level0 row18\" >18</th>\n",
       "      <td id=\"T_7545f_row18_col0\" class=\"data row18 col0\" >CAMARACLF</td>\n",
       "      <td id=\"T_7545f_row18_col1\" class=\"data row18 col1\" >2020-03-05 00:00:00</td>\n",
       "      <td id=\"T_7545f_row18_col2\" class=\"data row18 col2\" >522</td>\n",
       "      <td id=\"T_7545f_row18_col3\" class=\"data row18 col3\" >-1.5186%</td>\n",
       "    </tr>\n",
       "    <tr>\n",
       "      <th id=\"T_7545f_level0_row19\" class=\"row_heading level0 row19\" >19</th>\n",
       "      <td id=\"T_7545f_row19_col0\" class=\"data row19 col0\" >CAMARACLF</td>\n",
       "      <td id=\"T_7545f_row19_col1\" class=\"data row19 col1\" >2020-03-05 00:00:00</td>\n",
       "      <td id=\"T_7545f_row19_col2\" class=\"data row19 col2\" >553</td>\n",
       "      <td id=\"T_7545f_row19_col3\" class=\"data row19 col3\" >-1.5533%</td>\n",
       "    </tr>\n",
       "    <tr>\n",
       "      <th id=\"T_7545f_level0_row20\" class=\"row_heading level0 row20\" >20</th>\n",
       "      <td id=\"T_7545f_row20_col0\" class=\"data row20 col0\" >CAMARACLF</td>\n",
       "      <td id=\"T_7545f_row20_col1\" class=\"data row20 col1\" >2020-03-05 00:00:00</td>\n",
       "      <td id=\"T_7545f_row20_col2\" class=\"data row20 col2\" >582</td>\n",
       "      <td id=\"T_7545f_row20_col3\" class=\"data row20 col3\" >-1.5649%</td>\n",
       "    </tr>\n",
       "    <tr>\n",
       "      <th id=\"T_7545f_level0_row21\" class=\"row_heading level0 row21\" >21</th>\n",
       "      <td id=\"T_7545f_row21_col0\" class=\"data row21 col0\" >CAMARACLF</td>\n",
       "      <td id=\"T_7545f_row21_col1\" class=\"data row21 col1\" >2020-03-05 00:00:00</td>\n",
       "      <td id=\"T_7545f_row21_col2\" class=\"data row21 col2\" >734</td>\n",
       "      <td id=\"T_7545f_row21_col3\" class=\"data row21 col3\" >-1.6594%</td>\n",
       "    </tr>\n",
       "    <tr>\n",
       "      <th id=\"T_7545f_level0_row22\" class=\"row_heading level0 row22\" >22</th>\n",
       "      <td id=\"T_7545f_row22_col0\" class=\"data row22 col0\" >CAMARACLF</td>\n",
       "      <td id=\"T_7545f_row22_col1\" class=\"data row22 col1\" >2020-03-05 00:00:00</td>\n",
       "      <td id=\"T_7545f_row22_col2\" class=\"data row22 col2\" >1099</td>\n",
       "      <td id=\"T_7545f_row22_col3\" class=\"data row22 col3\" >-1.4881%</td>\n",
       "    </tr>\n",
       "    <tr>\n",
       "      <th id=\"T_7545f_level0_row23\" class=\"row_heading level0 row23\" >23</th>\n",
       "      <td id=\"T_7545f_row23_col0\" class=\"data row23 col0\" >CAMARACLF</td>\n",
       "      <td id=\"T_7545f_row23_col1\" class=\"data row23 col1\" >2020-03-05 00:00:00</td>\n",
       "      <td id=\"T_7545f_row23_col2\" class=\"data row23 col2\" >1465</td>\n",
       "      <td id=\"T_7545f_row23_col3\" class=\"data row23 col3\" >-1.2740%</td>\n",
       "    </tr>\n",
       "    <tr>\n",
       "      <th id=\"T_7545f_level0_row24\" class=\"row_heading level0 row24\" >24</th>\n",
       "      <td id=\"T_7545f_row24_col0\" class=\"data row24 col0\" >CAMARACLF</td>\n",
       "      <td id=\"T_7545f_row24_col1\" class=\"data row24 col1\" >2020-03-05 00:00:00</td>\n",
       "      <td id=\"T_7545f_row24_col2\" class=\"data row24 col2\" >1830</td>\n",
       "      <td id=\"T_7545f_row24_col3\" class=\"data row24 col3\" >-1.0201%</td>\n",
       "    </tr>\n",
       "    <tr>\n",
       "      <th id=\"T_7545f_level0_row25\" class=\"row_heading level0 row25\" >25</th>\n",
       "      <td id=\"T_7545f_row25_col0\" class=\"data row25 col0\" >CAMARACLF</td>\n",
       "      <td id=\"T_7545f_row25_col1\" class=\"data row25 col1\" >2020-03-05 00:00:00</td>\n",
       "      <td id=\"T_7545f_row25_col2\" class=\"data row25 col2\" >2195</td>\n",
       "      <td id=\"T_7545f_row25_col3\" class=\"data row25 col3\" >-0.8009%</td>\n",
       "    </tr>\n",
       "    <tr>\n",
       "      <th id=\"T_7545f_level0_row26\" class=\"row_heading level0 row26\" >26</th>\n",
       "      <td id=\"T_7545f_row26_col0\" class=\"data row26 col0\" >CAMARACLF</td>\n",
       "      <td id=\"T_7545f_row26_col1\" class=\"data row26 col1\" >2020-03-05 00:00:00</td>\n",
       "      <td id=\"T_7545f_row26_col2\" class=\"data row26 col2\" >2560</td>\n",
       "      <td id=\"T_7545f_row26_col3\" class=\"data row26 col3\" >-0.5868%</td>\n",
       "    </tr>\n",
       "    <tr>\n",
       "      <th id=\"T_7545f_level0_row27\" class=\"row_heading level0 row27\" >27</th>\n",
       "      <td id=\"T_7545f_row27_col0\" class=\"data row27 col0\" >CAMARACLF</td>\n",
       "      <td id=\"T_7545f_row27_col1\" class=\"data row27 col1\" >2020-03-05 00:00:00</td>\n",
       "      <td id=\"T_7545f_row27_col2\" class=\"data row27 col2\" >2926</td>\n",
       "      <td id=\"T_7545f_row27_col3\" class=\"data row27 col3\" >-0.4145%</td>\n",
       "    </tr>\n",
       "    <tr>\n",
       "      <th id=\"T_7545f_level0_row28\" class=\"row_heading level0 row28\" >28</th>\n",
       "      <td id=\"T_7545f_row28_col0\" class=\"data row28 col0\" >CAMARACLF</td>\n",
       "      <td id=\"T_7545f_row28_col1\" class=\"data row28 col1\" >2020-03-05 00:00:00</td>\n",
       "      <td id=\"T_7545f_row28_col2\" class=\"data row28 col2\" >3291</td>\n",
       "      <td id=\"T_7545f_row28_col3\" class=\"data row28 col3\" >-0.3047%</td>\n",
       "    </tr>\n",
       "    <tr>\n",
       "      <th id=\"T_7545f_level0_row29\" class=\"row_heading level0 row29\" >29</th>\n",
       "      <td id=\"T_7545f_row29_col0\" class=\"data row29 col0\" >CAMARACLF</td>\n",
       "      <td id=\"T_7545f_row29_col1\" class=\"data row29 col1\" >2020-03-05 00:00:00</td>\n",
       "      <td id=\"T_7545f_row29_col2\" class=\"data row29 col2\" >3656</td>\n",
       "      <td id=\"T_7545f_row29_col3\" class=\"data row29 col3\" >-0.2242%</td>\n",
       "    </tr>\n",
       "    <tr>\n",
       "      <th id=\"T_7545f_level0_row30\" class=\"row_heading level0 row30\" >30</th>\n",
       "      <td id=\"T_7545f_row30_col0\" class=\"data row30 col0\" >CAMARACLF</td>\n",
       "      <td id=\"T_7545f_row30_col1\" class=\"data row30 col1\" >2020-03-05 00:00:00</td>\n",
       "      <td id=\"T_7545f_row30_col2\" class=\"data row30 col2\" >4387</td>\n",
       "      <td id=\"T_7545f_row30_col3\" class=\"data row30 col3\" >-0.1871%</td>\n",
       "    </tr>\n",
       "    <tr>\n",
       "      <th id=\"T_7545f_level0_row31\" class=\"row_heading level0 row31\" >31</th>\n",
       "      <td id=\"T_7545f_row31_col0\" class=\"data row31 col0\" >CAMARACLF</td>\n",
       "      <td id=\"T_7545f_row31_col1\" class=\"data row31 col1\" >2020-03-05 00:00:00</td>\n",
       "      <td id=\"T_7545f_row31_col2\" class=\"data row31 col2\" >5482</td>\n",
       "      <td id=\"T_7545f_row31_col3\" class=\"data row31 col3\" >-0.1056%</td>\n",
       "    </tr>\n",
       "    <tr>\n",
       "      <th id=\"T_7545f_level0_row32\" class=\"row_heading level0 row32\" >32</th>\n",
       "      <td id=\"T_7545f_row32_col0\" class=\"data row32 col0\" >CAMARACLF</td>\n",
       "      <td id=\"T_7545f_row32_col1\" class=\"data row32 col1\" >2020-03-05 00:00:00</td>\n",
       "      <td id=\"T_7545f_row32_col2\" class=\"data row32 col2\" >7309</td>\n",
       "      <td id=\"T_7545f_row32_col3\" class=\"data row32 col3\" >-0.0639%</td>\n",
       "    </tr>\n",
       "  </tbody>\n",
       "</table>\n"
      ],
      "text/plain": [
       "<pandas.io.formats.style.Styler at 0x1258ff850>"
      ]
     },
     "execution_count": 46,
     "metadata": {},
     "output_type": "execute_result"
    }
   ],
   "source": [
    "curva_camara_clf = pd.read_excel(\"./input/curva_clf.xlsx\")\n",
    "curva_camara_clf.style.format({\"tasa\": \"{0:,.4%}\"})"
   ]
  },
  {
   "cell_type": "code",
   "execution_count": 47,
   "metadata": {
    "ExecuteTime": {
     "end_time": "2023-12-19T16:09:19.279786Z",
     "start_time": "2023-12-19T16:09:19.221569Z"
    },
    "execution": {
     "iopub.execute_input": "2024-01-04T22:42:06.433691Z",
     "iopub.status.busy": "2024-01-04T22:42:06.433280Z",
     "iopub.status.idle": "2024-01-04T22:42:06.441700Z",
     "shell.execute_reply": "2024-01-04T22:42:06.440811Z",
     "shell.execute_reply.started": "2024-01-04T22:42:06.433662Z"
    }
   },
   "outputs": [],
   "source": [
    "lvec3 = qcf.long_vec()\n",
    "vec3 = qcf.double_vec()\n",
    "for index, row in curva_camara_clf.iterrows():\n",
    "    lvec3.append(int(row['plazo']))\n",
    "    vec3.append(row['tasa'])\n",
    "\n",
    "zcc3 = qcf.QCCurve(lvec3, vec3)\n",
    "lin3 = qcf.QCLinearInterpolator(zcc3)\n",
    "zz3 = qcf.ZeroCouponCurve(lin3, tasa)"
   ]
  },
  {
   "cell_type": "markdown",
   "metadata": {},
   "source": [
    "#### Curvas para Sensibilidad"
   ]
  },
  {
   "cell_type": "markdown",
   "metadata": {},
   "source": [
    "Se define que vértice de la curva se quiere desplazar."
   ]
  },
  {
   "cell_type": "code",
   "execution_count": 48,
   "metadata": {
    "ExecuteTime": {
     "end_time": "2023-12-19T16:09:27.266276Z",
     "start_time": "2023-12-19T16:09:27.223743Z"
    },
    "execution": {
     "iopub.execute_input": "2024-01-04T22:42:06.443045Z",
     "iopub.status.busy": "2024-01-04T22:42:06.442654Z",
     "iopub.status.idle": "2024-01-04T22:42:06.446663Z",
     "shell.execute_reply": "2024-01-04T22:42:06.445706Z",
     "shell.execute_reply.started": "2024-01-04T22:42:06.443019Z"
    }
   },
   "outputs": [],
   "source": [
    "vertice = 13"
   ]
  },
  {
   "cell_type": "markdown",
   "metadata": {},
   "source": [
    "Se construyen las curvas con ese vértice 1 punto básico más arriba y 1 punto básico más abajo."
   ]
  },
  {
   "cell_type": "code",
   "execution_count": 49,
   "metadata": {
    "ExecuteTime": {
     "end_time": "2023-12-19T16:09:28.185960Z",
     "start_time": "2023-12-19T16:09:28.147053Z"
    },
    "execution": {
     "iopub.execute_input": "2024-01-04T22:42:06.448772Z",
     "iopub.status.busy": "2024-01-04T22:42:06.448163Z",
     "iopub.status.idle": "2024-01-04T22:42:06.456862Z",
     "shell.execute_reply": "2024-01-04T22:42:06.456032Z",
     "shell.execute_reply.started": "2024-01-04T22:42:06.448742Z"
    }
   },
   "outputs": [],
   "source": [
    "bp = .0001\n",
    "vec_sens_up = qcf.double_vec()\n",
    "vec_sens_down = qcf.double_vec()\n",
    "for index, row in curva.iterrows():\n",
    "    if index == vertice:\n",
    "        vec_sens_up.append(row['tasa'] + bp)\n",
    "        vec_sens_down.append(row['tasa'] - bp)\n",
    "    else:\n",
    "        vec_sens_up.append(row['tasa'])\n",
    "        vec_sens_down.append(row['tasa'])\n",
    "\n",
    "zcc_sens_up = qcf.QCCurve(lvec1, vec_sens_up)\n",
    "lin_sens_up = qcf.QCLinearInterpolator(zcc_sens_up)\n",
    "zz_sens_up = qcf.ZeroCouponCurve(lin_sens_up, tasa)\n",
    "\n",
    "zcc_sens_down = qcf.QCCurve(lvec1, vec_sens_down)\n",
    "lin_sens_down = qcf.QCLinearInterpolator(zcc_sens_down)\n",
    "zz_sens_down = qcf.ZeroCouponCurve(lin_sens_down, tasa)"
   ]
  },
  {
   "cell_type": "code",
   "execution_count": 50,
   "metadata": {
    "ExecuteTime": {
     "end_time": "2023-12-19T16:09:30.069042Z",
     "start_time": "2023-12-19T16:09:30.030743Z"
    },
    "execution": {
     "iopub.execute_input": "2024-01-04T22:42:06.458493Z",
     "iopub.status.busy": "2024-01-04T22:42:06.458177Z",
     "iopub.status.idle": "2024-01-04T22:42:06.468178Z",
     "shell.execute_reply": "2024-01-04T22:42:06.467159Z",
     "shell.execute_reply.started": "2024-01-04T22:42:06.458463Z"
    }
   },
   "outputs": [],
   "source": [
    "vec2_sens_up = qcf.double_vec()\n",
    "vec2_sens_down = qcf.double_vec()\n",
    "for index, row in curva_libor.iterrows():\n",
    "    if index == vertice:\n",
    "        vec2_sens_up.append(row['tasa'] + bp)\n",
    "        vec2_sens_down.append(row['tasa'] - bp)\n",
    "    else:\n",
    "        vec2_sens_up.append(row['tasa'])\n",
    "        vec2_sens_down.append(row['tasa'])\n",
    "\n",
    "zcc2_sens_up = qcf.QCCurve(lvec2, vec2_sens_up)\n",
    "lin2_sens_up = qcf.QCLinearInterpolator(zcc2_sens_up)\n",
    "zz2_sens_up = qcf.ZeroCouponCurve(lin2_sens_up, tasa)\n",
    "\n",
    "zcc2_sens_down = qcf.QCCurve(lvec2, vec2_sens_down)\n",
    "lin2_sens_down = qcf.QCLinearInterpolator(zcc2_sens_down)\n",
    "zz2_sens_down = qcf.ZeroCouponCurve(lin2_sens_down, tasa)"
   ]
  },
  {
   "cell_type": "code",
   "execution_count": 51,
   "metadata": {
    "ExecuteTime": {
     "end_time": "2023-12-19T16:09:31.687794Z",
     "start_time": "2023-12-19T16:09:31.649706Z"
    },
    "execution": {
     "iopub.execute_input": "2024-01-04T22:42:06.469719Z",
     "iopub.status.busy": "2024-01-04T22:42:06.469288Z",
     "iopub.status.idle": "2024-01-04T22:42:06.479750Z",
     "shell.execute_reply": "2024-01-04T22:42:06.478819Z",
     "shell.execute_reply.started": "2024-01-04T22:42:06.469689Z"
    }
   },
   "outputs": [],
   "source": [
    "vec3_sens_up = qcf.double_vec()\n",
    "vec3_sens_down = qcf.double_vec()\n",
    "for index, row in curva_camara_clf.iterrows():\n",
    "    if index == vertice:\n",
    "        vec3_sens_up.append(row['tasa'] + bp)\n",
    "        vec3_sens_down.append(row['tasa'] - bp)\n",
    "    else:\n",
    "        vec3_sens_up.append(row['tasa'])\n",
    "        vec3_sens_down.append(row['tasa'])\n",
    "\n",
    "zcc3_sens_up = qcf.QCCurve(lvec3, vec3_sens_up)\n",
    "lin3_sens_up = qcf.QCLinearInterpolator(zcc3_sens_up)\n",
    "zz3_sens_up = qcf.ZeroCouponCurve(lin3_sens_up, tasa)\n",
    "\n",
    "zcc3_sens_down = qcf.QCCurve(lvec3, vec3_sens_down)\n",
    "lin3_sens_down = qcf.QCLinearInterpolator(zcc3_sens_down)\n",
    "zz3_sens_down = qcf.ZeroCouponCurve(lin3_sens_down, tasa)"
   ]
  },
  {
   "cell_type": "markdown",
   "metadata": {},
   "source": [
    "### FixedRateCashflow Leg"
   ]
  },
  {
   "cell_type": "markdown",
   "metadata": {},
   "source": [
    "Se da de alta una pata fija:"
   ]
  },
  {
   "cell_type": "code",
   "execution_count": 52,
   "metadata": {
    "ExecuteTime": {
     "end_time": "2023-12-19T16:09:33.304919Z",
     "start_time": "2023-12-19T16:09:33.264734Z"
    },
    "execution": {
     "iopub.execute_input": "2024-01-04T22:42:06.481167Z",
     "iopub.status.busy": "2024-01-04T22:42:06.480802Z",
     "iopub.status.idle": "2024-01-04T22:42:06.488513Z",
     "shell.execute_reply": "2024-01-04T22:42:06.487401Z",
     "shell.execute_reply.started": "2024-01-04T22:42:06.481140Z"
    }
   },
   "outputs": [],
   "source": [
    "# Se da de alta los parámetros requeridos\n",
    "rp = qcf.RecPay.RECEIVE\n",
    "fecha_inicio = qcf.QCDate(12, 11, 2019)\n",
    "fecha_final = qcf.QCDate(12, 11, 2020)\n",
    "bus_adj_rule = qcf.BusyAdjRules.MODFOLLOW\n",
    "periodicidad = qcf.Tenor('6M')\n",
    "periodo_irregular = qcf.StubPeriod.SHORTFRONT\n",
    "calendario = qcf.BusinessCalendar(fecha_inicio, 20)\n",
    "lag_pago = 0\n",
    "nominal = 20_000_000.0\n",
    "amort_es_flujo = True\n",
    "valor_tasa_fija = .01774\n",
    "tasa_cupon = qcf.QCInterestRate(\n",
    "    valor_tasa_fija, \n",
    "    qcf.QC30360(), \n",
    "    qcf.QCLinearWf()\n",
    ")\n",
    "moneda = qcf.QCUSD()\n",
    "es_bono = False\n",
    "\n",
    "# Se da de alta el objeto\n",
    "fixed_rate_leg = qcf.LegFactory.build_bullet_fixed_rate_leg(\n",
    "    rp,\n",
    "    fecha_inicio,\n",
    "    fecha_final,\n",
    "    bus_adj_rule,\n",
    "    periodicidad,\n",
    "    periodo_irregular,\n",
    "    calendario,\n",
    "    lag_pago,\n",
    "    nominal,\n",
    "    amort_es_flujo,\n",
    "    tasa_cupon,\n",
    "    moneda,\n",
    "    es_bono\n",
    ")"
   ]
  },
  {
   "cell_type": "code",
   "execution_count": 53,
   "metadata": {
    "ExecuteTime": {
     "end_time": "2023-12-19T16:09:34.051636Z",
     "start_time": "2023-12-19T16:09:34.013841Z"
    },
    "execution": {
     "iopub.execute_input": "2024-01-04T22:42:06.490011Z",
     "iopub.status.busy": "2024-01-04T22:42:06.489583Z",
     "iopub.status.idle": "2024-01-04T22:42:06.502588Z",
     "shell.execute_reply": "2024-01-04T22:42:06.501645Z",
     "shell.execute_reply.started": "2024-01-04T22:42:06.489977Z"
    }
   },
   "outputs": [
    {
     "data": {
      "text/html": [
       "<style type=\"text/css\">\n",
       "</style>\n",
       "<table id=\"T_53b17\">\n",
       "  <thead>\n",
       "    <tr>\n",
       "      <th class=\"blank level0\" >&nbsp;</th>\n",
       "      <th id=\"T_53b17_level0_col0\" class=\"col_heading level0 col0\" >fecha_inicial</th>\n",
       "      <th id=\"T_53b17_level0_col1\" class=\"col_heading level0 col1\" >fecha_final</th>\n",
       "      <th id=\"T_53b17_level0_col2\" class=\"col_heading level0 col2\" >fecha_pago</th>\n",
       "      <th id=\"T_53b17_level0_col3\" class=\"col_heading level0 col3\" >nominal</th>\n",
       "      <th id=\"T_53b17_level0_col4\" class=\"col_heading level0 col4\" >amortizacion</th>\n",
       "      <th id=\"T_53b17_level0_col5\" class=\"col_heading level0 col5\" >interes</th>\n",
       "      <th id=\"T_53b17_level0_col6\" class=\"col_heading level0 col6\" >amort_es_flujo</th>\n",
       "      <th id=\"T_53b17_level0_col7\" class=\"col_heading level0 col7\" >flujo</th>\n",
       "      <th id=\"T_53b17_level0_col8\" class=\"col_heading level0 col8\" >moneda</th>\n",
       "      <th id=\"T_53b17_level0_col9\" class=\"col_heading level0 col9\" >valor_tasa</th>\n",
       "      <th id=\"T_53b17_level0_col10\" class=\"col_heading level0 col10\" >tipo_tasa</th>\n",
       "    </tr>\n",
       "  </thead>\n",
       "  <tbody>\n",
       "    <tr>\n",
       "      <th id=\"T_53b17_level0_row0\" class=\"row_heading level0 row0\" >0</th>\n",
       "      <td id=\"T_53b17_row0_col0\" class=\"data row0 col0\" >2019-11-12</td>\n",
       "      <td id=\"T_53b17_row0_col1\" class=\"data row0 col1\" >2020-05-12</td>\n",
       "      <td id=\"T_53b17_row0_col2\" class=\"data row0 col2\" >2020-05-12</td>\n",
       "      <td id=\"T_53b17_row0_col3\" class=\"data row0 col3\" >20,000,000.00</td>\n",
       "      <td id=\"T_53b17_row0_col4\" class=\"data row0 col4\" >0.00</td>\n",
       "      <td id=\"T_53b17_row0_col5\" class=\"data row0 col5\" >177,400.00</td>\n",
       "      <td id=\"T_53b17_row0_col6\" class=\"data row0 col6\" >True</td>\n",
       "      <td id=\"T_53b17_row0_col7\" class=\"data row0 col7\" >177,400.00</td>\n",
       "      <td id=\"T_53b17_row0_col8\" class=\"data row0 col8\" >USD</td>\n",
       "      <td id=\"T_53b17_row0_col9\" class=\"data row0 col9\" >1.7740%</td>\n",
       "      <td id=\"T_53b17_row0_col10\" class=\"data row0 col10\" >Lin30360</td>\n",
       "    </tr>\n",
       "    <tr>\n",
       "      <th id=\"T_53b17_level0_row1\" class=\"row_heading level0 row1\" >1</th>\n",
       "      <td id=\"T_53b17_row1_col0\" class=\"data row1 col0\" >2020-05-12</td>\n",
       "      <td id=\"T_53b17_row1_col1\" class=\"data row1 col1\" >2020-11-12</td>\n",
       "      <td id=\"T_53b17_row1_col2\" class=\"data row1 col2\" >2020-11-12</td>\n",
       "      <td id=\"T_53b17_row1_col3\" class=\"data row1 col3\" >20,000,000.00</td>\n",
       "      <td id=\"T_53b17_row1_col4\" class=\"data row1 col4\" >20,000,000.00</td>\n",
       "      <td id=\"T_53b17_row1_col5\" class=\"data row1 col5\" >177,400.00</td>\n",
       "      <td id=\"T_53b17_row1_col6\" class=\"data row1 col6\" >True</td>\n",
       "      <td id=\"T_53b17_row1_col7\" class=\"data row1 col7\" >20,177,400.00</td>\n",
       "      <td id=\"T_53b17_row1_col8\" class=\"data row1 col8\" >USD</td>\n",
       "      <td id=\"T_53b17_row1_col9\" class=\"data row1 col9\" >1.7740%</td>\n",
       "      <td id=\"T_53b17_row1_col10\" class=\"data row1 col10\" >Lin30360</td>\n",
       "    </tr>\n",
       "  </tbody>\n",
       "</table>\n"
      ],
      "text/plain": [
       "<pandas.io.formats.style.Styler at 0x125acbe90>"
      ]
     },
     "execution_count": 53,
     "metadata": {},
     "output_type": "execute_result"
    }
   ],
   "source": [
    "# Se define un list donde almacenar los resultados de la función show\n",
    "tabla = []\n",
    "for i in range(0, fixed_rate_leg.size()):\n",
    "    tabla.append(qcf.show(fixed_rate_leg.get_cashflow_at(i)))\n",
    "\n",
    "# Se utiliza tabla para inicializar el Dataframe\n",
    "columnas = list(qcf.get_column_names(\"FixedRateCashflow\", \"\"))\n",
    "df = pd.DataFrame(tabla, columns=columnas)\n",
    "\n",
    "# Se despliega la data en este formato\n",
    "df.style.format(format_dict)"
   ]
  },
  {
   "cell_type": "markdown",
   "metadata": {},
   "source": [
    "Se calcula ahora el valor presente:"
   ]
  },
  {
   "cell_type": "code",
   "execution_count": 54,
   "metadata": {
    "ExecuteTime": {
     "end_time": "2023-12-19T16:09:35.054192Z",
     "start_time": "2023-12-19T16:09:35.005479Z"
    },
    "execution": {
     "iopub.execute_input": "2024-01-04T22:42:06.503996Z",
     "iopub.status.busy": "2024-01-04T22:42:06.503558Z",
     "iopub.status.idle": "2024-01-04T22:42:06.508473Z",
     "shell.execute_reply": "2024-01-04T22:42:06.507463Z",
     "shell.execute_reply.started": "2024-01-04T22:42:06.503965Z"
    }
   },
   "outputs": [
    {
     "name": "stdout",
     "output_type": "stream",
     "text": [
      "Valor presente de la pata fija es: 20,072,981\n"
     ]
    }
   ],
   "source": [
    "vp_fija = pv.pv(fecha_hoy, fixed_rate_leg, zz2)\n",
    "print(\"Valor presente de la pata fija es: {0:,.0f}\".format(vp_fija))"
   ]
  },
  {
   "cell_type": "markdown",
   "metadata": {},
   "source": [
    "Al calcular el valor presente, también se calculan las derivadas del valor presente respecto a cada uno de los vértices de la curva."
   ]
  },
  {
   "cell_type": "code",
   "execution_count": 55,
   "metadata": {
    "ExecuteTime": {
     "end_time": "2023-12-19T16:09:36.058933Z",
     "start_time": "2023-12-19T16:09:35.996368Z"
    },
    "execution": {
     "iopub.execute_input": "2024-01-04T22:42:06.509653Z",
     "iopub.status.busy": "2024-01-04T22:42:06.509281Z",
     "iopub.status.idle": "2024-01-04T22:42:06.513266Z",
     "shell.execute_reply": "2024-01-04T22:42:06.512276Z",
     "shell.execute_reply.started": "2024-01-04T22:42:06.509627Z"
    }
   },
   "outputs": [],
   "source": [
    "der = pv.get_derivatives()"
   ]
  },
  {
   "cell_type": "markdown",
   "metadata": {},
   "source": [
    "Con esas derivadas, se puede calcular la sensibilidad a la curva cupón cero a un movimiento de 1 punto básico."
   ]
  },
  {
   "cell_type": "code",
   "execution_count": 56,
   "metadata": {
    "ExecuteTime": {
     "end_time": "2023-12-19T16:09:36.840368Z",
     "start_time": "2023-12-19T16:09:36.783043Z"
    },
    "execution": {
     "iopub.execute_input": "2024-01-04T22:42:06.514780Z",
     "iopub.status.busy": "2024-01-04T22:42:06.514394Z",
     "iopub.status.idle": "2024-01-04T22:42:06.520509Z",
     "shell.execute_reply": "2024-01-04T22:42:06.519588Z",
     "shell.execute_reply.started": "2024-01-04T22:42:06.514751Z"
    }
   },
   "outputs": [
    {
     "name": "stdout",
     "output_type": "stream",
     "text": [
      "Sensibilidad en 0: 0\n",
      "Sensibilidad en 1: 0\n",
      "Sensibilidad en 2: 0\n",
      "Sensibilidad en 3: 0\n",
      "Sensibilidad en 4: 0\n",
      "Sensibilidad en 5: 0\n",
      "Sensibilidad en 6: -1\n",
      "Sensibilidad en 7: -4\n",
      "Sensibilidad en 8: 0\n",
      "Sensibilidad en 9: 0\n",
      "Sensibilidad en 10: 0\n",
      "Sensibilidad en 11: 0\n",
      "Sensibilidad en 12: -282\n",
      "Sensibilidad en 13: -1,353\n",
      "Sensibilidad en 14: 0\n",
      "Sensibilidad en 15: 0\n",
      "Sensibilidad en 16: 0\n",
      "Sensibilidad en 17: 0\n",
      "Sensibilidad en 18: 0\n",
      "Sensibilidad en 19: 0\n",
      "Sensibilidad en 20: 0\n",
      "Sensibilidad en 21: 0\n",
      "Sensibilidad en 22: 0\n",
      "Sensibilidad en 23: 0\n",
      "Sensibilidad en 24: 0\n",
      "Sensibilidad en 25: 0\n",
      "Sensibilidad en 26: 0\n",
      "Sensibilidad en 27: 0\n",
      "Sensibilidad total: -1,641\n"
     ]
    }
   ],
   "source": [
    "i = 0\n",
    "bp = .0001\n",
    "total = 0\n",
    "for d in der:\n",
    "    total += d * bp\n",
    "    print(\"Sensibilidad en {0:}: {1:0,.0f}\".format(i, d * bp))\n",
    "    i += 1\n",
    "print(\"Sensibilidad total: {0:,.0f}\".format(total))"
   ]
  },
  {
   "cell_type": "markdown",
   "metadata": {},
   "source": [
    "Se puede verificar la sensibilidad por diferencias finitas."
   ]
  },
  {
   "cell_type": "markdown",
   "metadata": {},
   "source": [
    "Se calcula el valor presente con las curvas desplazadas."
   ]
  },
  {
   "cell_type": "code",
   "execution_count": 57,
   "metadata": {
    "ExecuteTime": {
     "end_time": "2023-12-19T16:09:38.241682Z",
     "start_time": "2023-12-19T16:09:38.205322Z"
    },
    "execution": {
     "iopub.execute_input": "2024-01-04T22:42:06.521898Z",
     "iopub.status.busy": "2024-01-04T22:42:06.521446Z",
     "iopub.status.idle": "2024-01-04T22:42:06.526631Z",
     "shell.execute_reply": "2024-01-04T22:42:06.525700Z",
     "shell.execute_reply.started": "2024-01-04T22:42:06.521869Z"
    }
   },
   "outputs": [
    {
     "name": "stdout",
     "output_type": "stream",
     "text": [
      "Valor presente up de la pata fija es: 20,071,628\n",
      "Valor presente down de la pata fija es: 20,074,334\n"
     ]
    }
   ],
   "source": [
    "vp_fija_sens_up = pv.pv(fecha_hoy, fixed_rate_leg, zz2_sens_up)\n",
    "vp_fija_sens_down = pv.pv(fecha_hoy, fixed_rate_leg, zz2_sens_down)\n",
    "print(\"Valor presente up de la pata fija es: {0:,.0f}\".format(vp_fija_sens_up))\n",
    "print(\"Valor presente down de la pata fija es: {0:,.0f}\".format(\n",
    "    vp_fija_sens_down))"
   ]
  },
  {
   "cell_type": "markdown",
   "metadata": {},
   "source": [
    "Finalmente, se calcula la sensibilidad (usando la aproximación central por diferencias finitas)."
   ]
  },
  {
   "cell_type": "code",
   "execution_count": 58,
   "metadata": {
    "ExecuteTime": {
     "end_time": "2023-12-19T16:09:39.039448Z",
     "start_time": "2023-12-19T16:09:38.997878Z"
    },
    "execution": {
     "iopub.execute_input": "2024-01-04T22:42:06.527921Z",
     "iopub.status.busy": "2024-01-04T22:42:06.527492Z",
     "iopub.status.idle": "2024-01-04T22:42:06.532132Z",
     "shell.execute_reply": "2024-01-04T22:42:06.531275Z",
     "shell.execute_reply.started": "2024-01-04T22:42:06.527891Z"
    }
   },
   "outputs": [
    {
     "name": "stdout",
     "output_type": "stream",
     "text": [
      "Sensibilidad por diferencias finitas: -1,353\n"
     ]
    }
   ],
   "source": [
    "print(\"Sensibilidad por diferencias finitas: {0:,.0f}\".format(\n",
    "    (vp_fija_sens_up - vp_fija_sens_down) / 2))"
   ]
  },
  {
   "cell_type": "markdown",
   "metadata": {},
   "source": [
    "Tanto el VP como la sensibilidad coinciden con lo que muestra FD en la pata fija de la operación 2879."
   ]
  },
  {
   "cell_type": "markdown",
   "metadata": {},
   "source": [
    "### IcpClpCashflow2 Leg"
   ]
  },
  {
   "cell_type": "code",
   "execution_count": 59,
   "metadata": {
    "ExecuteTime": {
     "end_time": "2023-12-19T16:09:42.568516Z",
     "start_time": "2023-12-19T16:09:42.536454Z"
    },
    "execution": {
     "iopub.execute_input": "2024-01-04T22:42:06.533903Z",
     "iopub.status.busy": "2024-01-04T22:42:06.533575Z",
     "iopub.status.idle": "2024-01-04T22:42:06.540536Z",
     "shell.execute_reply": "2024-01-04T22:42:06.539507Z",
     "shell.execute_reply.started": "2024-01-04T22:42:06.533877Z"
    }
   },
   "outputs": [],
   "source": [
    "# Se da de alta los parámetros requeridos\n",
    "rp = qcf.RecPay.RECEIVE\n",
    "fecha_inicio = qcf.QCDate(10,1,2019)\n",
    "fecha_final = qcf.QCDate(10,7,2029)\n",
    "bus_adj_rule = qcf.BusyAdjRules.FOLLOW\n",
    "periodicidad_pago = qcf.Tenor('2Y')\n",
    "periodo_irregular_pago = qcf.StubPeriod.SHORTFRONT\n",
    "calendario = qcf.BusinessCalendar(fecha_inicio, 20)\n",
    "lag_pago = 0\n",
    "nominal = 38_000_000_000.0\n",
    "amort_es_flujo = True\n",
    "spread = .0\n",
    "gearing = 1.0\n",
    "\n",
    "icp_clp2_leg = qcf.LegFactory.build_bullet_icp_clp2_leg(\n",
    "    rp,\n",
    "    fecha_inicio,\n",
    "    fecha_final,\n",
    "    bus_adj_rule,\n",
    "    periodicidad_pago,\n",
    "    periodo_irregular_pago,\n",
    "    calendario,\n",
    "    lag_pago,\n",
    "    nominal,\n",
    "    amort_es_flujo,\n",
    "    spread,\n",
    "    gearing,\n",
    "    True\n",
    ")"
   ]
  },
  {
   "cell_type": "code",
   "execution_count": 60,
   "metadata": {
    "ExecuteTime": {
     "end_time": "2023-12-19T16:09:43.480564Z",
     "start_time": "2023-12-19T16:09:43.445913Z"
    },
    "execution": {
     "iopub.execute_input": "2024-01-04T22:42:06.542181Z",
     "iopub.status.busy": "2024-01-04T22:42:06.541769Z",
     "iopub.status.idle": "2024-01-04T22:42:06.556698Z",
     "shell.execute_reply": "2024-01-04T22:42:06.555787Z",
     "shell.execute_reply.started": "2024-01-04T22:42:06.542152Z"
    }
   },
   "outputs": [
    {
     "data": {
      "text/html": [
       "<style type=\"text/css\">\n",
       "</style>\n",
       "<table id=\"T_7e825\">\n",
       "  <thead>\n",
       "    <tr>\n",
       "      <th class=\"blank level0\" >&nbsp;</th>\n",
       "      <th id=\"T_7e825_level0_col0\" class=\"col_heading level0 col0\" >fecha_inicial</th>\n",
       "      <th id=\"T_7e825_level0_col1\" class=\"col_heading level0 col1\" >fecha_final</th>\n",
       "      <th id=\"T_7e825_level0_col2\" class=\"col_heading level0 col2\" >fecha_pago</th>\n",
       "      <th id=\"T_7e825_level0_col3\" class=\"col_heading level0 col3\" >nominal</th>\n",
       "      <th id=\"T_7e825_level0_col4\" class=\"col_heading level0 col4\" >amortizacion</th>\n",
       "      <th id=\"T_7e825_level0_col5\" class=\"col_heading level0 col5\" >amort_es_flujo</th>\n",
       "      <th id=\"T_7e825_level0_col6\" class=\"col_heading level0 col6\" >flujo</th>\n",
       "      <th id=\"T_7e825_level0_col7\" class=\"col_heading level0 col7\" >moneda</th>\n",
       "      <th id=\"T_7e825_level0_col8\" class=\"col_heading level0 col8\" >icp_inicial</th>\n",
       "      <th id=\"T_7e825_level0_col9\" class=\"col_heading level0 col9\" >icp_final</th>\n",
       "      <th id=\"T_7e825_level0_col10\" class=\"col_heading level0 col10\" >valor_tasa</th>\n",
       "      <th id=\"T_7e825_level0_col11\" class=\"col_heading level0 col11\" >interes</th>\n",
       "      <th id=\"T_7e825_level0_col12\" class=\"col_heading level0 col12\" >spread</th>\n",
       "      <th id=\"T_7e825_level0_col13\" class=\"col_heading level0 col13\" >gearing</th>\n",
       "      <th id=\"T_7e825_level0_col14\" class=\"col_heading level0 col14\" >tipo_tasa</th>\n",
       "    </tr>\n",
       "  </thead>\n",
       "  <tbody>\n",
       "    <tr>\n",
       "      <th id=\"T_7e825_level0_row0\" class=\"row_heading level0 row0\" >0</th>\n",
       "      <td id=\"T_7e825_row0_col0\" class=\"data row0 col0\" >2019-01-10</td>\n",
       "      <td id=\"T_7e825_row0_col1\" class=\"data row0 col1\" >2019-07-10</td>\n",
       "      <td id=\"T_7e825_row0_col2\" class=\"data row0 col2\" >2019-07-10</td>\n",
       "      <td id=\"T_7e825_row0_col3\" class=\"data row0 col3\" >38,000,000,000.00</td>\n",
       "      <td id=\"T_7e825_row0_col4\" class=\"data row0 col4\" >0.00</td>\n",
       "      <td id=\"T_7e825_row0_col5\" class=\"data row0 col5\" >True</td>\n",
       "      <td id=\"T_7e825_row0_col6\" class=\"data row0 col6\" >0.00</td>\n",
       "      <td id=\"T_7e825_row0_col7\" class=\"data row0 col7\" >CLP</td>\n",
       "      <td id=\"T_7e825_row0_col8\" class=\"data row0 col8\" >10,000.00</td>\n",
       "      <td id=\"T_7e825_row0_col9\" class=\"data row0 col9\" >10,000.00</td>\n",
       "      <td id=\"T_7e825_row0_col10\" class=\"data row0 col10\" >0.0000%</td>\n",
       "      <td id=\"T_7e825_row0_col11\" class=\"data row0 col11\" >0.00</td>\n",
       "      <td id=\"T_7e825_row0_col12\" class=\"data row0 col12\" >0.0000%</td>\n",
       "      <td id=\"T_7e825_row0_col13\" class=\"data row0 col13\" >1.00</td>\n",
       "      <td id=\"T_7e825_row0_col14\" class=\"data row0 col14\" >LinAct360</td>\n",
       "    </tr>\n",
       "    <tr>\n",
       "      <th id=\"T_7e825_level0_row1\" class=\"row_heading level0 row1\" >1</th>\n",
       "      <td id=\"T_7e825_row1_col0\" class=\"data row1 col0\" >2019-07-10</td>\n",
       "      <td id=\"T_7e825_row1_col1\" class=\"data row1 col1\" >2021-07-12</td>\n",
       "      <td id=\"T_7e825_row1_col2\" class=\"data row1 col2\" >2021-07-12</td>\n",
       "      <td id=\"T_7e825_row1_col3\" class=\"data row1 col3\" >38,000,000,000.00</td>\n",
       "      <td id=\"T_7e825_row1_col4\" class=\"data row1 col4\" >0.00</td>\n",
       "      <td id=\"T_7e825_row1_col5\" class=\"data row1 col5\" >True</td>\n",
       "      <td id=\"T_7e825_row1_col6\" class=\"data row1 col6\" >0.00</td>\n",
       "      <td id=\"T_7e825_row1_col7\" class=\"data row1 col7\" >CLP</td>\n",
       "      <td id=\"T_7e825_row1_col8\" class=\"data row1 col8\" >10,000.00</td>\n",
       "      <td id=\"T_7e825_row1_col9\" class=\"data row1 col9\" >10,000.00</td>\n",
       "      <td id=\"T_7e825_row1_col10\" class=\"data row1 col10\" >0.0000%</td>\n",
       "      <td id=\"T_7e825_row1_col11\" class=\"data row1 col11\" >0.00</td>\n",
       "      <td id=\"T_7e825_row1_col12\" class=\"data row1 col12\" >0.0000%</td>\n",
       "      <td id=\"T_7e825_row1_col13\" class=\"data row1 col13\" >1.00</td>\n",
       "      <td id=\"T_7e825_row1_col14\" class=\"data row1 col14\" >LinAct360</td>\n",
       "    </tr>\n",
       "    <tr>\n",
       "      <th id=\"T_7e825_level0_row2\" class=\"row_heading level0 row2\" >2</th>\n",
       "      <td id=\"T_7e825_row2_col0\" class=\"data row2 col0\" >2021-07-12</td>\n",
       "      <td id=\"T_7e825_row2_col1\" class=\"data row2 col1\" >2023-07-10</td>\n",
       "      <td id=\"T_7e825_row2_col2\" class=\"data row2 col2\" >2023-07-10</td>\n",
       "      <td id=\"T_7e825_row2_col3\" class=\"data row2 col3\" >38,000,000,000.00</td>\n",
       "      <td id=\"T_7e825_row2_col4\" class=\"data row2 col4\" >0.00</td>\n",
       "      <td id=\"T_7e825_row2_col5\" class=\"data row2 col5\" >True</td>\n",
       "      <td id=\"T_7e825_row2_col6\" class=\"data row2 col6\" >0.00</td>\n",
       "      <td id=\"T_7e825_row2_col7\" class=\"data row2 col7\" >CLP</td>\n",
       "      <td id=\"T_7e825_row2_col8\" class=\"data row2 col8\" >10,000.00</td>\n",
       "      <td id=\"T_7e825_row2_col9\" class=\"data row2 col9\" >10,000.00</td>\n",
       "      <td id=\"T_7e825_row2_col10\" class=\"data row2 col10\" >0.0000%</td>\n",
       "      <td id=\"T_7e825_row2_col11\" class=\"data row2 col11\" >0.00</td>\n",
       "      <td id=\"T_7e825_row2_col12\" class=\"data row2 col12\" >0.0000%</td>\n",
       "      <td id=\"T_7e825_row2_col13\" class=\"data row2 col13\" >1.00</td>\n",
       "      <td id=\"T_7e825_row2_col14\" class=\"data row2 col14\" >LinAct360</td>\n",
       "    </tr>\n",
       "    <tr>\n",
       "      <th id=\"T_7e825_level0_row3\" class=\"row_heading level0 row3\" >3</th>\n",
       "      <td id=\"T_7e825_row3_col0\" class=\"data row3 col0\" >2023-07-10</td>\n",
       "      <td id=\"T_7e825_row3_col1\" class=\"data row3 col1\" >2025-07-10</td>\n",
       "      <td id=\"T_7e825_row3_col2\" class=\"data row3 col2\" >2025-07-10</td>\n",
       "      <td id=\"T_7e825_row3_col3\" class=\"data row3 col3\" >38,000,000,000.00</td>\n",
       "      <td id=\"T_7e825_row3_col4\" class=\"data row3 col4\" >0.00</td>\n",
       "      <td id=\"T_7e825_row3_col5\" class=\"data row3 col5\" >True</td>\n",
       "      <td id=\"T_7e825_row3_col6\" class=\"data row3 col6\" >0.00</td>\n",
       "      <td id=\"T_7e825_row3_col7\" class=\"data row3 col7\" >CLP</td>\n",
       "      <td id=\"T_7e825_row3_col8\" class=\"data row3 col8\" >10,000.00</td>\n",
       "      <td id=\"T_7e825_row3_col9\" class=\"data row3 col9\" >10,000.00</td>\n",
       "      <td id=\"T_7e825_row3_col10\" class=\"data row3 col10\" >0.0000%</td>\n",
       "      <td id=\"T_7e825_row3_col11\" class=\"data row3 col11\" >0.00</td>\n",
       "      <td id=\"T_7e825_row3_col12\" class=\"data row3 col12\" >0.0000%</td>\n",
       "      <td id=\"T_7e825_row3_col13\" class=\"data row3 col13\" >1.00</td>\n",
       "      <td id=\"T_7e825_row3_col14\" class=\"data row3 col14\" >LinAct360</td>\n",
       "    </tr>\n",
       "    <tr>\n",
       "      <th id=\"T_7e825_level0_row4\" class=\"row_heading level0 row4\" >4</th>\n",
       "      <td id=\"T_7e825_row4_col0\" class=\"data row4 col0\" >2025-07-10</td>\n",
       "      <td id=\"T_7e825_row4_col1\" class=\"data row4 col1\" >2027-07-12</td>\n",
       "      <td id=\"T_7e825_row4_col2\" class=\"data row4 col2\" >2027-07-12</td>\n",
       "      <td id=\"T_7e825_row4_col3\" class=\"data row4 col3\" >38,000,000,000.00</td>\n",
       "      <td id=\"T_7e825_row4_col4\" class=\"data row4 col4\" >0.00</td>\n",
       "      <td id=\"T_7e825_row4_col5\" class=\"data row4 col5\" >True</td>\n",
       "      <td id=\"T_7e825_row4_col6\" class=\"data row4 col6\" >0.00</td>\n",
       "      <td id=\"T_7e825_row4_col7\" class=\"data row4 col7\" >CLP</td>\n",
       "      <td id=\"T_7e825_row4_col8\" class=\"data row4 col8\" >10,000.00</td>\n",
       "      <td id=\"T_7e825_row4_col9\" class=\"data row4 col9\" >10,000.00</td>\n",
       "      <td id=\"T_7e825_row4_col10\" class=\"data row4 col10\" >0.0000%</td>\n",
       "      <td id=\"T_7e825_row4_col11\" class=\"data row4 col11\" >0.00</td>\n",
       "      <td id=\"T_7e825_row4_col12\" class=\"data row4 col12\" >0.0000%</td>\n",
       "      <td id=\"T_7e825_row4_col13\" class=\"data row4 col13\" >1.00</td>\n",
       "      <td id=\"T_7e825_row4_col14\" class=\"data row4 col14\" >LinAct360</td>\n",
       "    </tr>\n",
       "    <tr>\n",
       "      <th id=\"T_7e825_level0_row5\" class=\"row_heading level0 row5\" >5</th>\n",
       "      <td id=\"T_7e825_row5_col0\" class=\"data row5 col0\" >2027-07-12</td>\n",
       "      <td id=\"T_7e825_row5_col1\" class=\"data row5 col1\" >2029-07-10</td>\n",
       "      <td id=\"T_7e825_row5_col2\" class=\"data row5 col2\" >2029-07-10</td>\n",
       "      <td id=\"T_7e825_row5_col3\" class=\"data row5 col3\" >38,000,000,000.00</td>\n",
       "      <td id=\"T_7e825_row5_col4\" class=\"data row5 col4\" >38,000,000,000.00</td>\n",
       "      <td id=\"T_7e825_row5_col5\" class=\"data row5 col5\" >True</td>\n",
       "      <td id=\"T_7e825_row5_col6\" class=\"data row5 col6\" >38,000,000,000.00</td>\n",
       "      <td id=\"T_7e825_row5_col7\" class=\"data row5 col7\" >CLP</td>\n",
       "      <td id=\"T_7e825_row5_col8\" class=\"data row5 col8\" >10,000.00</td>\n",
       "      <td id=\"T_7e825_row5_col9\" class=\"data row5 col9\" >10,000.00</td>\n",
       "      <td id=\"T_7e825_row5_col10\" class=\"data row5 col10\" >0.0000%</td>\n",
       "      <td id=\"T_7e825_row5_col11\" class=\"data row5 col11\" >0.00</td>\n",
       "      <td id=\"T_7e825_row5_col12\" class=\"data row5 col12\" >0.0000%</td>\n",
       "      <td id=\"T_7e825_row5_col13\" class=\"data row5 col13\" >1.00</td>\n",
       "      <td id=\"T_7e825_row5_col14\" class=\"data row5 col14\" >LinAct360</td>\n",
       "    </tr>\n",
       "  </tbody>\n",
       "</table>\n"
      ],
      "text/plain": [
       "<pandas.io.formats.style.Styler at 0x125a84e50>"
      ]
     },
     "execution_count": 60,
     "metadata": {},
     "output_type": "execute_result"
    }
   ],
   "source": [
    "# Se define un list donde almacenar los resultados de la función show\n",
    "tabla = []\n",
    "for i in range(0, icp_clp2_leg.size()):\n",
    "    tabla.append(qcf.show(icp_clp2_leg.get_cashflow_at(i)))\n",
    "\n",
    "# Se utiliza tabla para inicializar el Dataframe\n",
    "columnas = list(qcf.get_column_names(\"IcpClpCashflow2\", \"\"))\n",
    "df9 = pd.DataFrame(tabla, columns=columnas)\n",
    "\n",
    "# Se despliega la data en este formato\n",
    "df9.style.format(format_dict)"
   ]
  },
  {
   "cell_type": "markdown",
   "metadata": {},
   "source": [
    "Notar que al dar de alta un Leg con IcpClpCashflow2, los valores futuros de los ICP son los default (=10,000.00). Por lo tanto, el primer paso para valorizar estos cashflows, es calcular los valores forward de los índices.\n",
    "\n",
    "Se comienza dando de alta un objeto de tipo `ForwardRates`."
   ]
  },
  {
   "cell_type": "code",
   "execution_count": 61,
   "metadata": {
    "ExecuteTime": {
     "end_time": "2023-12-19T16:09:44.670532Z",
     "start_time": "2023-12-19T16:09:44.630630Z"
    },
    "execution": {
     "iopub.execute_input": "2024-01-04T22:42:06.557976Z",
     "iopub.status.busy": "2024-01-04T22:42:06.557593Z",
     "iopub.status.idle": "2024-01-04T22:42:06.561621Z",
     "shell.execute_reply": "2024-01-04T22:42:06.560879Z",
     "shell.execute_reply.started": "2024-01-04T22:42:06.557949Z"
    }
   },
   "outputs": [],
   "source": [
    "fwd_rates = qcf.ForwardRates()"
   ]
  },
  {
   "cell_type": "markdown",
   "metadata": {},
   "source": [
    "Se calculan los índices forward."
   ]
  },
  {
   "cell_type": "code",
   "execution_count": 62,
   "metadata": {
    "ExecuteTime": {
     "end_time": "2023-12-19T16:09:45.746843Z",
     "start_time": "2023-12-19T16:09:45.707701Z"
    },
    "execution": {
     "iopub.execute_input": "2024-01-04T22:42:06.563465Z",
     "iopub.status.busy": "2024-01-04T22:42:06.562766Z",
     "iopub.status.idle": "2024-01-04T22:42:06.570563Z",
     "shell.execute_reply": "2024-01-04T22:42:06.569591Z",
     "shell.execute_reply.started": "2024-01-04T22:42:06.563432Z"
    }
   },
   "outputs": [],
   "source": [
    "icp_val = 18_890.34 # icp a la fecha de proceso\n",
    "fecha_hoy = qcf.QCDate(5, 3, 2020)\n",
    "\n",
    "for i in range(icp_clp2_leg.size()):\n",
    "    cashflow = icp_clp2_leg.get_cashflow_at(i)\n",
    "    if cashflow.get_start_date() <= fecha_hoy <= cashflow.get_end_date():\n",
    "            index = i\n",
    "\n",
    "icp_fecha_inicio_cupon_vigente = 18_376.69\n",
    "icp_clp2_leg.get_cashflow_at(index).set_start_date_icp(icp_fecha_inicio_cupon_vigente)\n",
    "\n",
    "fwd_rates.set_rates_icp_clp_leg(fecha_hoy, icp_val, icp_clp2_leg, zz1)"
   ]
  },
  {
   "cell_type": "code",
   "execution_count": 63,
   "metadata": {
    "ExecuteTime": {
     "end_time": "2023-12-19T16:09:46.470917Z",
     "start_time": "2023-12-19T16:09:46.432926Z"
    },
    "execution": {
     "iopub.execute_input": "2024-01-04T22:42:06.572176Z",
     "iopub.status.busy": "2024-01-04T22:42:06.571635Z",
     "iopub.status.idle": "2024-01-04T22:42:06.586008Z",
     "shell.execute_reply": "2024-01-04T22:42:06.585298Z",
     "shell.execute_reply.started": "2024-01-04T22:42:06.572146Z"
    }
   },
   "outputs": [
    {
     "data": {
      "text/html": [
       "<style type=\"text/css\">\n",
       "</style>\n",
       "<table id=\"T_ec0a4\">\n",
       "  <thead>\n",
       "    <tr>\n",
       "      <th class=\"blank level0\" >&nbsp;</th>\n",
       "      <th id=\"T_ec0a4_level0_col0\" class=\"col_heading level0 col0\" >fecha_inicial</th>\n",
       "      <th id=\"T_ec0a4_level0_col1\" class=\"col_heading level0 col1\" >fecha_final</th>\n",
       "      <th id=\"T_ec0a4_level0_col2\" class=\"col_heading level0 col2\" >fecha_pago</th>\n",
       "      <th id=\"T_ec0a4_level0_col3\" class=\"col_heading level0 col3\" >nominal</th>\n",
       "      <th id=\"T_ec0a4_level0_col4\" class=\"col_heading level0 col4\" >amortizacion</th>\n",
       "      <th id=\"T_ec0a4_level0_col5\" class=\"col_heading level0 col5\" >amort_es_flujo</th>\n",
       "      <th id=\"T_ec0a4_level0_col6\" class=\"col_heading level0 col6\" >flujo</th>\n",
       "      <th id=\"T_ec0a4_level0_col7\" class=\"col_heading level0 col7\" >moneda</th>\n",
       "      <th id=\"T_ec0a4_level0_col8\" class=\"col_heading level0 col8\" >icp_inicial</th>\n",
       "      <th id=\"T_ec0a4_level0_col9\" class=\"col_heading level0 col9\" >icp_final</th>\n",
       "      <th id=\"T_ec0a4_level0_col10\" class=\"col_heading level0 col10\" >valor_tasa</th>\n",
       "      <th id=\"T_ec0a4_level0_col11\" class=\"col_heading level0 col11\" >interes</th>\n",
       "      <th id=\"T_ec0a4_level0_col12\" class=\"col_heading level0 col12\" >spread</th>\n",
       "      <th id=\"T_ec0a4_level0_col13\" class=\"col_heading level0 col13\" >gearing</th>\n",
       "      <th id=\"T_ec0a4_level0_col14\" class=\"col_heading level0 col14\" >tipo_tasa</th>\n",
       "    </tr>\n",
       "  </thead>\n",
       "  <tbody>\n",
       "    <tr>\n",
       "      <th id=\"T_ec0a4_level0_row0\" class=\"row_heading level0 row0\" >0</th>\n",
       "      <td id=\"T_ec0a4_row0_col0\" class=\"data row0 col0\" >2019-01-10</td>\n",
       "      <td id=\"T_ec0a4_row0_col1\" class=\"data row0 col1\" >2019-07-10</td>\n",
       "      <td id=\"T_ec0a4_row0_col2\" class=\"data row0 col2\" >2019-07-10</td>\n",
       "      <td id=\"T_ec0a4_row0_col3\" class=\"data row0 col3\" >38,000,000,000.00</td>\n",
       "      <td id=\"T_ec0a4_row0_col4\" class=\"data row0 col4\" >0.00</td>\n",
       "      <td id=\"T_ec0a4_row0_col5\" class=\"data row0 col5\" >True</td>\n",
       "      <td id=\"T_ec0a4_row0_col6\" class=\"data row0 col6\" >0.00</td>\n",
       "      <td id=\"T_ec0a4_row0_col7\" class=\"data row0 col7\" >CLP</td>\n",
       "      <td id=\"T_ec0a4_row0_col8\" class=\"data row0 col8\" >10,000.00</td>\n",
       "      <td id=\"T_ec0a4_row0_col9\" class=\"data row0 col9\" >10,000.00</td>\n",
       "      <td id=\"T_ec0a4_row0_col10\" class=\"data row0 col10\" >0.0000%</td>\n",
       "      <td id=\"T_ec0a4_row0_col11\" class=\"data row0 col11\" >0.00</td>\n",
       "      <td id=\"T_ec0a4_row0_col12\" class=\"data row0 col12\" >0.0000%</td>\n",
       "      <td id=\"T_ec0a4_row0_col13\" class=\"data row0 col13\" >1.00</td>\n",
       "      <td id=\"T_ec0a4_row0_col14\" class=\"data row0 col14\" >LinAct360</td>\n",
       "    </tr>\n",
       "    <tr>\n",
       "      <th id=\"T_ec0a4_level0_row1\" class=\"row_heading level0 row1\" >1</th>\n",
       "      <td id=\"T_ec0a4_row1_col0\" class=\"data row1 col0\" >2019-07-10</td>\n",
       "      <td id=\"T_ec0a4_row1_col1\" class=\"data row1 col1\" >2021-07-12</td>\n",
       "      <td id=\"T_ec0a4_row1_col2\" class=\"data row1 col2\" >2021-07-12</td>\n",
       "      <td id=\"T_ec0a4_row1_col3\" class=\"data row1 col3\" >38,000,000,000.00</td>\n",
       "      <td id=\"T_ec0a4_row1_col4\" class=\"data row1 col4\" >0.00</td>\n",
       "      <td id=\"T_ec0a4_row1_col5\" class=\"data row1 col5\" >True</td>\n",
       "      <td id=\"T_ec0a4_row1_col6\" class=\"data row1 col6\" >1,760,277,860.28</td>\n",
       "      <td id=\"T_ec0a4_row1_col7\" class=\"data row1 col7\" >CLP</td>\n",
       "      <td id=\"T_ec0a4_row1_col8\" class=\"data row1 col8\" >18,376.69</td>\n",
       "      <td id=\"T_ec0a4_row1_col9\" class=\"data row1 col9\" >19,227.96</td>\n",
       "      <td id=\"T_ec0a4_row1_col10\" class=\"data row1 col10\" >2.2800%</td>\n",
       "      <td id=\"T_ec0a4_row1_col11\" class=\"data row1 col11\" >1,764,086,666.67</td>\n",
       "      <td id=\"T_ec0a4_row1_col12\" class=\"data row1 col12\" >0.0000%</td>\n",
       "      <td id=\"T_ec0a4_row1_col13\" class=\"data row1 col13\" >1.00</td>\n",
       "      <td id=\"T_ec0a4_row1_col14\" class=\"data row1 col14\" >LinAct360</td>\n",
       "    </tr>\n",
       "    <tr>\n",
       "      <th id=\"T_ec0a4_level0_row2\" class=\"row_heading level0 row2\" >2</th>\n",
       "      <td id=\"T_ec0a4_row2_col0\" class=\"data row2 col0\" >2021-07-12</td>\n",
       "      <td id=\"T_ec0a4_row2_col1\" class=\"data row2 col1\" >2023-07-10</td>\n",
       "      <td id=\"T_ec0a4_row2_col2\" class=\"data row2 col2\" >2023-07-10</td>\n",
       "      <td id=\"T_ec0a4_row2_col3\" class=\"data row2 col3\" >38,000,000,000.00</td>\n",
       "      <td id=\"T_ec0a4_row2_col4\" class=\"data row2 col4\" >0.00</td>\n",
       "      <td id=\"T_ec0a4_row2_col5\" class=\"data row2 col5\" >True</td>\n",
       "      <td id=\"T_ec0a4_row2_col6\" class=\"data row2 col6\" >1,260,461,341.38</td>\n",
       "      <td id=\"T_ec0a4_row2_col7\" class=\"data row2 col7\" >CLP</td>\n",
       "      <td id=\"T_ec0a4_row2_col8\" class=\"data row2 col8\" >19,227.96</td>\n",
       "      <td id=\"T_ec0a4_row2_col9\" class=\"data row2 col9\" >19,865.75</td>\n",
       "      <td id=\"T_ec0a4_row2_col10\" class=\"data row2 col10\" >1.6400%</td>\n",
       "      <td id=\"T_ec0a4_row2_col11\" class=\"data row2 col11\" >1,260,248,888.89</td>\n",
       "      <td id=\"T_ec0a4_row2_col12\" class=\"data row2 col12\" >0.0000%</td>\n",
       "      <td id=\"T_ec0a4_row2_col13\" class=\"data row2 col13\" >1.00</td>\n",
       "      <td id=\"T_ec0a4_row2_col14\" class=\"data row2 col14\" >LinAct360</td>\n",
       "    </tr>\n",
       "    <tr>\n",
       "      <th id=\"T_ec0a4_level0_row3\" class=\"row_heading level0 row3\" >3</th>\n",
       "      <td id=\"T_ec0a4_row3_col0\" class=\"data row3 col0\" >2023-07-10</td>\n",
       "      <td id=\"T_ec0a4_row3_col1\" class=\"data row3 col1\" >2025-07-10</td>\n",
       "      <td id=\"T_ec0a4_row3_col2\" class=\"data row3 col2\" >2025-07-10</td>\n",
       "      <td id=\"T_ec0a4_row3_col3\" class=\"data row3 col3\" >38,000,000,000.00</td>\n",
       "      <td id=\"T_ec0a4_row3_col4\" class=\"data row3 col4\" >0.00</td>\n",
       "      <td id=\"T_ec0a4_row3_col5\" class=\"data row3 col5\" >True</td>\n",
       "      <td id=\"T_ec0a4_row3_col6\" class=\"data row3 col6\" >2,219,270,452.18</td>\n",
       "      <td id=\"T_ec0a4_row3_col7\" class=\"data row3 col7\" >CLP</td>\n",
       "      <td id=\"T_ec0a4_row3_col8\" class=\"data row3 col8\" >19,865.75</td>\n",
       "      <td id=\"T_ec0a4_row3_col9\" class=\"data row3 col9\" >21,025.94</td>\n",
       "      <td id=\"T_ec0a4_row3_col10\" class=\"data row3 col10\" >2.8800%</td>\n",
       "      <td id=\"T_ec0a4_row3_col11\" class=\"data row3 col11\" >2,222,240,000.00</td>\n",
       "      <td id=\"T_ec0a4_row3_col12\" class=\"data row3 col12\" >0.0000%</td>\n",
       "      <td id=\"T_ec0a4_row3_col13\" class=\"data row3 col13\" >1.00</td>\n",
       "      <td id=\"T_ec0a4_row3_col14\" class=\"data row3 col14\" >LinAct360</td>\n",
       "    </tr>\n",
       "    <tr>\n",
       "      <th id=\"T_ec0a4_level0_row4\" class=\"row_heading level0 row4\" >4</th>\n",
       "      <td id=\"T_ec0a4_row4_col0\" class=\"data row4 col0\" >2025-07-10</td>\n",
       "      <td id=\"T_ec0a4_row4_col1\" class=\"data row4 col1\" >2027-07-12</td>\n",
       "      <td id=\"T_ec0a4_row4_col2\" class=\"data row4 col2\" >2027-07-12</td>\n",
       "      <td id=\"T_ec0a4_row4_col3\" class=\"data row4 col3\" >38,000,000,000.00</td>\n",
       "      <td id=\"T_ec0a4_row4_col4\" class=\"data row4 col4\" >0.00</td>\n",
       "      <td id=\"T_ec0a4_row4_col5\" class=\"data row4 col5\" >True</td>\n",
       "      <td id=\"T_ec0a4_row4_col6\" class=\"data row4 col6\" >2,921,878,806.15</td>\n",
       "      <td id=\"T_ec0a4_row4_col7\" class=\"data row4 col7\" >CLP</td>\n",
       "      <td id=\"T_ec0a4_row4_col8\" class=\"data row4 col8\" >21,025.94</td>\n",
       "      <td id=\"T_ec0a4_row4_col9\" class=\"data row4 col9\" >22,642.66</td>\n",
       "      <td id=\"T_ec0a4_row4_col10\" class=\"data row4 col10\" >3.7800%</td>\n",
       "      <td id=\"T_ec0a4_row4_col11\" class=\"data row4 col11\" >2,920,680,000.00</td>\n",
       "      <td id=\"T_ec0a4_row4_col12\" class=\"data row4 col12\" >0.0000%</td>\n",
       "      <td id=\"T_ec0a4_row4_col13\" class=\"data row4 col13\" >1.00</td>\n",
       "      <td id=\"T_ec0a4_row4_col14\" class=\"data row4 col14\" >LinAct360</td>\n",
       "    </tr>\n",
       "    <tr>\n",
       "      <th id=\"T_ec0a4_level0_row5\" class=\"row_heading level0 row5\" >5</th>\n",
       "      <td id=\"T_ec0a4_row5_col0\" class=\"data row5 col0\" >2027-07-12</td>\n",
       "      <td id=\"T_ec0a4_row5_col1\" class=\"data row5 col1\" >2029-07-10</td>\n",
       "      <td id=\"T_ec0a4_row5_col2\" class=\"data row5 col2\" >2029-07-10</td>\n",
       "      <td id=\"T_ec0a4_row5_col3\" class=\"data row5 col3\" >38,000,000,000.00</td>\n",
       "      <td id=\"T_ec0a4_row5_col4\" class=\"data row5 col4\" >38,000,000,000.00</td>\n",
       "      <td id=\"T_ec0a4_row5_col5\" class=\"data row5 col5\" >True</td>\n",
       "      <td id=\"T_ec0a4_row5_col6\" class=\"data row5 col6\" >41,014,662,342.55</td>\n",
       "      <td id=\"T_ec0a4_row5_col7\" class=\"data row5 col7\" >CLP</td>\n",
       "      <td id=\"T_ec0a4_row5_col8\" class=\"data row5 col8\" >22,642.66</td>\n",
       "      <td id=\"T_ec0a4_row5_col9\" class=\"data row5 col9\" >24,438.98</td>\n",
       "      <td id=\"T_ec0a4_row5_col10\" class=\"data row5 col10\" >3.9200%</td>\n",
       "      <td id=\"T_ec0a4_row5_col11\" class=\"data row5 col11\" >3,016,440,000.00</td>\n",
       "      <td id=\"T_ec0a4_row5_col12\" class=\"data row5 col12\" >0.0000%</td>\n",
       "      <td id=\"T_ec0a4_row5_col13\" class=\"data row5 col13\" >1.00</td>\n",
       "      <td id=\"T_ec0a4_row5_col14\" class=\"data row5 col14\" >LinAct360</td>\n",
       "    </tr>\n",
       "  </tbody>\n",
       "</table>\n"
      ],
      "text/plain": [
       "<pandas.io.formats.style.Styler at 0x125b02010>"
      ]
     },
     "execution_count": 63,
     "metadata": {},
     "output_type": "execute_result"
    }
   ],
   "source": [
    "# Se define un list donde almacenar los resultados de la función show\n",
    "tabla = []\n",
    "for i in range(0, icp_clp2_leg.size()):\n",
    "    tabla.append(qcf.show(icp_clp2_leg.get_cashflow_at(i)))\n",
    "\n",
    "# Se utiliza tabla para inicializar el Dataframe\n",
    "columnas = list(qcf.get_column_names(\"IcpClpCashflow2\", \"\"))\n",
    "df9 = pd.DataFrame(tabla, columns=columnas)\n",
    "\n",
    "# Se despliega la data en este formato\n",
    "df9.style.format(format_dict)"
   ]
  },
  {
   "cell_type": "markdown",
   "metadata": {},
   "source": [
    "Con esto, podemos calcular el valor presente."
   ]
  },
  {
   "cell_type": "code",
   "execution_count": 64,
   "metadata": {
    "ExecuteTime": {
     "end_time": "2023-12-19T16:09:48.411055Z",
     "start_time": "2023-12-19T16:09:48.368056Z"
    },
    "execution": {
     "iopub.execute_input": "2024-01-04T22:42:06.587378Z",
     "iopub.status.busy": "2024-01-04T22:42:06.586970Z",
     "iopub.status.idle": "2024-01-04T22:42:06.591581Z",
     "shell.execute_reply": "2024-01-04T22:42:06.590583Z",
     "shell.execute_reply.started": "2024-01-04T22:42:06.587348Z"
    }
   },
   "outputs": [
    {
     "name": "stdout",
     "output_type": "stream",
     "text": [
      "Valor presente pata ICPCLP: 39,062,144,488\n"
     ]
    }
   ],
   "source": [
    "vp_icp_clp = pv.pv(fecha_hoy, icp_clp2_leg, zz1)\n",
    "print(\"Valor presente pata ICPCLP: {0:,.0f}\".format(vp_icp_clp))"
   ]
  },
  {
   "cell_type": "code",
   "execution_count": 65,
   "metadata": {
    "ExecuteTime": {
     "end_time": "2023-12-19T16:09:48.805852Z",
     "start_time": "2023-12-19T16:09:48.750669Z"
    },
    "execution": {
     "iopub.execute_input": "2024-01-04T22:42:06.593333Z",
     "iopub.status.busy": "2024-01-04T22:42:06.592803Z",
     "iopub.status.idle": "2024-01-04T22:42:06.596825Z",
     "shell.execute_reply": "2024-01-04T22:42:06.595979Z",
     "shell.execute_reply.started": "2024-01-04T22:42:06.593303Z"
    }
   },
   "outputs": [],
   "source": [
    "csh = icp_clp2_leg.get_cashflow_at(5)"
   ]
  },
  {
   "cell_type": "code",
   "execution_count": 66,
   "metadata": {
    "ExecuteTime": {
     "end_time": "2023-12-19T16:09:49.425134Z",
     "start_time": "2023-12-19T16:09:49.366975Z"
    },
    "execution": {
     "iopub.execute_input": "2024-01-04T22:42:06.598267Z",
     "iopub.status.busy": "2024-01-04T22:42:06.597800Z",
     "iopub.status.idle": "2024-01-04T22:42:06.603217Z",
     "shell.execute_reply": "2024-01-04T22:42:06.602434Z",
     "shell.execute_reply.started": "2024-01-04T22:42:06.598241Z"
    }
   },
   "outputs": [
    {
     "data": {
      "text/plain": [
       "31702674802.50826"
      ]
     },
     "execution_count": 66,
     "metadata": {},
     "output_type": "execute_result"
    }
   ],
   "source": [
    "pv.pv(fecha_hoy, csh, zz1)"
   ]
  },
  {
   "cell_type": "markdown",
   "metadata": {},
   "source": [
    "También en este caso es posible calcular la sensibilidad a la curva de descuento."
   ]
  },
  {
   "cell_type": "code",
   "execution_count": 67,
   "metadata": {
    "ExecuteTime": {
     "end_time": "2023-12-19T16:09:50.345959Z",
     "start_time": "2023-12-19T16:09:50.308782Z"
    },
    "execution": {
     "iopub.execute_input": "2024-01-04T22:42:06.604947Z",
     "iopub.status.busy": "2024-01-04T22:42:06.604621Z",
     "iopub.status.idle": "2024-01-04T22:42:06.609976Z",
     "shell.execute_reply": "2024-01-04T22:42:06.609161Z",
     "shell.execute_reply.started": "2024-01-04T22:42:06.604921Z"
    }
   },
   "outputs": [
    {
     "name": "stdout",
     "output_type": "stream",
     "text": [
      "Sensibilidad en 0: -0\n",
      "Sensibilidad en 1: -0\n",
      "Sensibilidad en 2: -0\n",
      "Sensibilidad en 3: -0\n",
      "Sensibilidad en 4: -0\n",
      "Sensibilidad en 5: -0\n",
      "Sensibilidad en 6: -0\n",
      "Sensibilidad en 7: -0\n",
      "Sensibilidad en 8: -0\n",
      "Sensibilidad en 9: -0\n",
      "Sensibilidad en 10: -0\n",
      "Sensibilidad en 11: -0\n",
      "Sensibilidad en 12: -0\n",
      "Sensibilidad en 13: -0\n",
      "Sensibilidad en 14: -15,407,642\n",
      "Sensibilidad en 15: -7,831,157\n",
      "Sensibilidad en 16: -0\n",
      "Sensibilidad en 17: -0\n",
      "Sensibilidad en 18: -0\n"
     ]
    }
   ],
   "source": [
    "der = pv.get_derivatives()\n",
    "i = 0\n",
    "bp = .0001\n",
    "for d in der:\n",
    "    print(\"Sensibilidad en {0:}: {1:0,.0f}\".format(i, d * bp))\n",
    "    i += 1"
   ]
  },
  {
   "cell_type": "markdown",
   "metadata": {},
   "source": [
    "Podemos ver la sensibilidad total:"
   ]
  },
  {
   "cell_type": "code",
   "execution_count": 68,
   "metadata": {
    "ExecuteTime": {
     "end_time": "2023-12-19T16:09:52.867205Z",
     "start_time": "2023-12-19T16:09:52.823255Z"
    },
    "execution": {
     "iopub.execute_input": "2024-01-04T22:42:06.611479Z",
     "iopub.status.busy": "2024-01-04T22:42:06.611006Z",
     "iopub.status.idle": "2024-01-04T22:42:06.615753Z",
     "shell.execute_reply": "2024-01-04T22:42:06.614976Z",
     "shell.execute_reply.started": "2024-01-04T22:42:06.611453Z"
    }
   },
   "outputs": [
    {
     "name": "stdout",
     "output_type": "stream",
     "text": [
      "Sensibilidad de descuento: -23,238,799 CLP\n"
     ]
    }
   ],
   "source": [
    "sens_disc = [d * bp for d in der]\n",
    "print(\"Sensibilidad de descuento: {0:,.0f} CLP\".format(sum(sens_disc)))"
   ]
  },
  {
   "cell_type": "markdown",
   "metadata": {},
   "source": [
    "La estructura es la misma que para una pata fija, lo que indica que se debe también incluir la sensibilidad a la curva de proyección."
   ]
  },
  {
   "cell_type": "code",
   "execution_count": 69,
   "metadata": {
    "ExecuteTime": {
     "end_time": "2023-12-19T16:09:55.571886Z",
     "start_time": "2023-12-19T16:09:55.535869Z"
    },
    "execution": {
     "iopub.execute_input": "2024-01-04T22:42:06.617495Z",
     "iopub.status.busy": "2024-01-04T22:42:06.617081Z",
     "iopub.status.idle": "2024-01-04T22:42:06.625967Z",
     "shell.execute_reply": "2024-01-04T22:42:06.625086Z",
     "shell.execute_reply.started": "2024-01-04T22:42:06.617469Z"
    }
   },
   "outputs": [
    {
     "name": "stdout",
     "output_type": "stream",
     "text": [
      "Sensibilidad en 0: 0\n",
      "Sensibilidad en 1: 0\n",
      "Sensibilidad en 2: 0\n",
      "Sensibilidad en 3: 0\n",
      "Sensibilidad en 4: 0\n",
      "Sensibilidad en 5: 74,757\n",
      "Sensibilidad en 6: 158,384\n",
      "Sensibilidad en 7: 0\n",
      "Sensibilidad en 8: 256,858\n",
      "Sensibilidad en 9: 130,015\n",
      "Sensibilidad en 10: 644,319\n",
      "Sensibilidad en 11: 327,485\n",
      "Sensibilidad en 12: 998,768\n",
      "Sensibilidad en 13: 518,033\n",
      "Sensibilidad en 14: 15,407,642\n",
      "Sensibilidad en 15: 7,831,157\n",
      "Sensibilidad en 16: 0\n",
      "Sensibilidad en 17: 0\n",
      "Sensibilidad en 18: 0\n",
      "Sensibilidad de proyección: 26,347,418 CLP\n"
     ]
    }
   ],
   "source": [
    "import numpy as np\n",
    "bp = .0001\n",
    "result = []\n",
    "for i in range(icp_clp2_leg.size()):\n",
    "    cshflw = icp_clp2_leg.get_cashflow_at(i)\n",
    "    amt_der = cshflw.get_amount_derivatives()\n",
    "    df = zz1.get_discount_factor_at(fecha_hoy.day_diff(cshflw.get_settlement_date()))\n",
    "    amt_der = [a * bp * df for a in amt_der]\n",
    "    if len(amt_der) > 0:\n",
    "        result.append(np.array(amt_der))\n",
    "total = result[0] * 0\n",
    "\n",
    "for r in result:\n",
    "    total += r\n",
    "\n",
    "for i in range(len(total)):\n",
    "    print(\"Sensibilidad en {0:}: {1:0,.0f}\".format(i, total[i]))\n",
    "\n",
    "print(\"Sensibilidad de proyección: {0:,.0f} CLP\".format(sum(total)))"
   ]
  },
  {
   "cell_type": "markdown",
   "metadata": {},
   "source": [
    "Como se espera de una pata ICPCLP (con lag de pago igual a 0 y spread igual a 0), ambas sensibilidades se cancelan."
   ]
  },
  {
   "cell_type": "markdown",
   "metadata": {},
   "source": [
    "#### Se verifica la sensibilidad de proyección por diferencias finitas:"
   ]
  },
  {
   "cell_type": "code",
   "execution_count": 70,
   "metadata": {
    "ExecuteTime": {
     "end_time": "2023-12-19T16:09:59.443904Z",
     "start_time": "2023-12-19T16:09:59.413544Z"
    },
    "execution": {
     "iopub.execute_input": "2024-01-04T22:42:06.627616Z",
     "iopub.status.busy": "2024-01-04T22:42:06.627135Z",
     "iopub.status.idle": "2024-01-04T22:42:06.633536Z",
     "shell.execute_reply": "2024-01-04T22:42:06.632634Z",
     "shell.execute_reply.started": "2024-01-04T22:42:06.627587Z"
    }
   },
   "outputs": [
    {
     "name": "stdout",
     "output_type": "stream",
     "text": [
      "Sensibilidad en vértice 13: 518,033 CLP\n"
     ]
    }
   ],
   "source": [
    "fwd_rates.set_rates_icp_clp_leg(fecha_hoy, icp_val, icp_clp2_leg, zz_sens_up)\n",
    "vp_icp_clp_up = pv.pv(fecha_hoy, icp_clp2_leg, zz1)\n",
    "\n",
    "fwd_rates.set_rates_icp_clp_leg(fecha_hoy, icp_val, icp_clp2_leg, zz_sens_down)\n",
    "vp_icp_clp_down = pv.pv(fecha_hoy, icp_clp2_leg, zz1)\n",
    "\n",
    "print(\"Sensibilidad en vértice {0:}: {1:,.0f} CLP\".format(\n",
    "    vertice, (vp_icp_clp_up - vp_icp_clp_down) / 2))"
   ]
  },
  {
   "cell_type": "markdown",
   "metadata": {
    "collapsed": false,
    "jupyter": {
     "outputs_hidden": false
    }
   },
   "source": [
    "### OvernightIndex Leg"
   ]
  },
  {
   "cell_type": "code",
   "execution_count": 71,
   "metadata": {
    "ExecuteTime": {
     "end_time": "2023-12-19T16:19:58.904014Z",
     "start_time": "2023-12-19T16:19:58.845809Z"
    },
    "collapsed": false,
    "execution": {
     "iopub.execute_input": "2024-01-04T22:42:06.635255Z",
     "iopub.status.busy": "2024-01-04T22:42:06.634887Z",
     "iopub.status.idle": "2024-01-04T22:42:06.642380Z",
     "shell.execute_reply": "2024-01-04T22:42:06.641516Z",
     "shell.execute_reply.started": "2024-01-04T22:42:06.635225Z"
    },
    "jupyter": {
     "outputs_hidden": false
    }
   },
   "outputs": [],
   "source": [
    "# Se da de alta los parámetros requeridos\n",
    "rp = qcf.RecPay.RECEIVE\n",
    "fecha_inicio = qcf.QCDate(10,1,2019)\n",
    "fecha_final = qcf.QCDate(10,7,2029)\n",
    "bus_adj_rule = qcf.BusyAdjRules.FOLLOW\n",
    "fix_adj_rule = qcf.BusyAdjRules.PREVIOUS\n",
    "periodicidad_pago = qcf.Tenor('2Y')\n",
    "periodo_irregular_pago = qcf.StubPeriod.SHORTFRONT\n",
    "calendario = qcf.BusinessCalendar(fecha_inicio, 20)\n",
    "lag_pago = 0\n",
    "nominal = 38_000_000_000.0\n",
    "amort_es_flujo = True\n",
    "spread = .0\n",
    "gearing = 1.0\n",
    "\n",
    "overnight_index_leg = qcf.LegFactory.build_bullet_overnight_index_leg(\n",
    "    rec_pay=rp,\n",
    "    start_date=fecha_inicio,\n",
    "    end_date=fecha_final,\n",
    "    bus_adj_rule=bus_adj_rule,\n",
    "    fix_adj_rule=fix_adj_rule,\n",
    "    settlement_periodicity=periodicidad_pago,\n",
    "    stub_period=periodo_irregular_pago,\n",
    "    settlement_calendar=calendario,\n",
    "    fixing_calendar=calendario,\n",
    "    settlement_lag=lag_pago,\n",
    "    initial_notional=nominal,\n",
    "    amort_is_cashflow=amort_es_flujo,\n",
    "    spread=spread,\n",
    "    gearing=gearing,\n",
    "    interest_rate=qcf.QCInterestRate(0.0, qcf.QCAct360(), qcf.QCLinearWf()),\n",
    "    index_name='ICPCLP',\n",
    "    eq_rate_decimal_places=2,\n",
    "    notional_currency=qcf.QCCLP(),\n",
    ")"
   ]
  },
  {
   "cell_type": "code",
   "execution_count": 72,
   "metadata": {
    "ExecuteTime": {
     "end_time": "2023-12-19T16:20:56.581999Z",
     "start_time": "2023-12-19T16:20:56.511060Z"
    },
    "collapsed": false,
    "execution": {
     "iopub.execute_input": "2024-01-04T22:42:06.643769Z",
     "iopub.status.busy": "2024-01-04T22:42:06.643363Z",
     "iopub.status.idle": "2024-01-04T22:42:06.669141Z",
     "shell.execute_reply": "2024-01-04T22:42:06.668199Z",
     "shell.execute_reply.started": "2024-01-04T22:42:06.643740Z"
    },
    "jupyter": {
     "outputs_hidden": false
    }
   },
   "outputs": [
    {
     "data": {
      "text/html": [
       "<div>\n",
       "<style scoped>\n",
       "    .dataframe tbody tr th:only-of-type {\n",
       "        vertical-align: middle;\n",
       "    }\n",
       "\n",
       "    .dataframe tbody tr th {\n",
       "        vertical-align: top;\n",
       "    }\n",
       "\n",
       "    .dataframe thead th {\n",
       "        text-align: right;\n",
       "    }\n",
       "</style>\n",
       "<table border=\"1\" class=\"dataframe\">\n",
       "  <thead>\n",
       "    <tr style=\"text-align: right;\">\n",
       "      <th></th>\n",
       "      <th>fecha_inicial_devengo</th>\n",
       "      <th>fecha_final_devengo</th>\n",
       "      <th>fecha_inicial_indice</th>\n",
       "      <th>fecha_final_indice</th>\n",
       "      <th>fecha_pago</th>\n",
       "      <th>nocional</th>\n",
       "      <th>amortizacion</th>\n",
       "      <th>amort_es_flujo</th>\n",
       "      <th>moneda_nocional</th>\n",
       "      <th>nombre_indice</th>\n",
       "      <th>valor_indice_inicial</th>\n",
       "      <th>valor_indice_final</th>\n",
       "      <th>valor_tasa_equivalente</th>\n",
       "      <th>tipo_tasa</th>\n",
       "      <th>interes</th>\n",
       "      <th>flujo</th>\n",
       "      <th>spread</th>\n",
       "      <th>gearing</th>\n",
       "    </tr>\n",
       "  </thead>\n",
       "  <tbody>\n",
       "    <tr>\n",
       "      <th>0</th>\n",
       "      <td>2019-01-10</td>\n",
       "      <td>2019-07-10</td>\n",
       "      <td>2019-01-10</td>\n",
       "      <td>2019-07-10</td>\n",
       "      <td>2019-07-10</td>\n",
       "      <td>3.800000e+10</td>\n",
       "      <td>0.000000e+00</td>\n",
       "      <td>True</td>\n",
       "      <td>CLP</td>\n",
       "      <td>ICPCLP</td>\n",
       "      <td>1.0</td>\n",
       "      <td>1.0</td>\n",
       "      <td>0.0</td>\n",
       "      <td>LinAct360</td>\n",
       "      <td>0.0</td>\n",
       "      <td>0.000000e+00</td>\n",
       "      <td>0.0</td>\n",
       "      <td>1.0</td>\n",
       "    </tr>\n",
       "    <tr>\n",
       "      <th>1</th>\n",
       "      <td>2019-07-10</td>\n",
       "      <td>2021-07-12</td>\n",
       "      <td>2019-07-10</td>\n",
       "      <td>2021-07-12</td>\n",
       "      <td>2021-07-12</td>\n",
       "      <td>3.800000e+10</td>\n",
       "      <td>0.000000e+00</td>\n",
       "      <td>True</td>\n",
       "      <td>CLP</td>\n",
       "      <td>ICPCLP</td>\n",
       "      <td>1.0</td>\n",
       "      <td>1.0</td>\n",
       "      <td>0.0</td>\n",
       "      <td>LinAct360</td>\n",
       "      <td>0.0</td>\n",
       "      <td>0.000000e+00</td>\n",
       "      <td>0.0</td>\n",
       "      <td>1.0</td>\n",
       "    </tr>\n",
       "    <tr>\n",
       "      <th>2</th>\n",
       "      <td>2021-07-12</td>\n",
       "      <td>2023-07-10</td>\n",
       "      <td>2021-07-12</td>\n",
       "      <td>2023-07-10</td>\n",
       "      <td>2023-07-10</td>\n",
       "      <td>3.800000e+10</td>\n",
       "      <td>0.000000e+00</td>\n",
       "      <td>True</td>\n",
       "      <td>CLP</td>\n",
       "      <td>ICPCLP</td>\n",
       "      <td>1.0</td>\n",
       "      <td>1.0</td>\n",
       "      <td>0.0</td>\n",
       "      <td>LinAct360</td>\n",
       "      <td>0.0</td>\n",
       "      <td>0.000000e+00</td>\n",
       "      <td>0.0</td>\n",
       "      <td>1.0</td>\n",
       "    </tr>\n",
       "    <tr>\n",
       "      <th>3</th>\n",
       "      <td>2023-07-10</td>\n",
       "      <td>2025-07-10</td>\n",
       "      <td>2023-07-10</td>\n",
       "      <td>2025-07-10</td>\n",
       "      <td>2025-07-10</td>\n",
       "      <td>3.800000e+10</td>\n",
       "      <td>0.000000e+00</td>\n",
       "      <td>True</td>\n",
       "      <td>CLP</td>\n",
       "      <td>ICPCLP</td>\n",
       "      <td>1.0</td>\n",
       "      <td>1.0</td>\n",
       "      <td>0.0</td>\n",
       "      <td>LinAct360</td>\n",
       "      <td>0.0</td>\n",
       "      <td>0.000000e+00</td>\n",
       "      <td>0.0</td>\n",
       "      <td>1.0</td>\n",
       "    </tr>\n",
       "    <tr>\n",
       "      <th>4</th>\n",
       "      <td>2025-07-10</td>\n",
       "      <td>2027-07-12</td>\n",
       "      <td>2025-07-10</td>\n",
       "      <td>2027-07-12</td>\n",
       "      <td>2027-07-12</td>\n",
       "      <td>3.800000e+10</td>\n",
       "      <td>0.000000e+00</td>\n",
       "      <td>True</td>\n",
       "      <td>CLP</td>\n",
       "      <td>ICPCLP</td>\n",
       "      <td>1.0</td>\n",
       "      <td>1.0</td>\n",
       "      <td>0.0</td>\n",
       "      <td>LinAct360</td>\n",
       "      <td>0.0</td>\n",
       "      <td>0.000000e+00</td>\n",
       "      <td>0.0</td>\n",
       "      <td>1.0</td>\n",
       "    </tr>\n",
       "    <tr>\n",
       "      <th>5</th>\n",
       "      <td>2027-07-12</td>\n",
       "      <td>2029-07-10</td>\n",
       "      <td>2027-07-12</td>\n",
       "      <td>2029-07-10</td>\n",
       "      <td>2029-07-10</td>\n",
       "      <td>3.800000e+10</td>\n",
       "      <td>3.800000e+10</td>\n",
       "      <td>True</td>\n",
       "      <td>CLP</td>\n",
       "      <td>ICPCLP</td>\n",
       "      <td>1.0</td>\n",
       "      <td>1.0</td>\n",
       "      <td>0.0</td>\n",
       "      <td>LinAct360</td>\n",
       "      <td>0.0</td>\n",
       "      <td>3.800000e+10</td>\n",
       "      <td>0.0</td>\n",
       "      <td>1.0</td>\n",
       "    </tr>\n",
       "  </tbody>\n",
       "</table>\n",
       "</div>"
      ],
      "text/plain": [
       "  fecha_inicial_devengo fecha_final_devengo fecha_inicial_indice  \\\n",
       "0            2019-01-10          2019-07-10           2019-01-10   \n",
       "1            2019-07-10          2021-07-12           2019-07-10   \n",
       "2            2021-07-12          2023-07-10           2021-07-12   \n",
       "3            2023-07-10          2025-07-10           2023-07-10   \n",
       "4            2025-07-10          2027-07-12           2025-07-10   \n",
       "5            2027-07-12          2029-07-10           2027-07-12   \n",
       "\n",
       "  fecha_final_indice  fecha_pago      nocional  amortizacion  amort_es_flujo  \\\n",
       "0         2019-07-10  2019-07-10  3.800000e+10  0.000000e+00            True   \n",
       "1         2021-07-12  2021-07-12  3.800000e+10  0.000000e+00            True   \n",
       "2         2023-07-10  2023-07-10  3.800000e+10  0.000000e+00            True   \n",
       "3         2025-07-10  2025-07-10  3.800000e+10  0.000000e+00            True   \n",
       "4         2027-07-12  2027-07-12  3.800000e+10  0.000000e+00            True   \n",
       "5         2029-07-10  2029-07-10  3.800000e+10  3.800000e+10            True   \n",
       "\n",
       "  moneda_nocional nombre_indice  valor_indice_inicial  valor_indice_final  \\\n",
       "0             CLP        ICPCLP                   1.0                 1.0   \n",
       "1             CLP        ICPCLP                   1.0                 1.0   \n",
       "2             CLP        ICPCLP                   1.0                 1.0   \n",
       "3             CLP        ICPCLP                   1.0                 1.0   \n",
       "4             CLP        ICPCLP                   1.0                 1.0   \n",
       "5             CLP        ICPCLP                   1.0                 1.0   \n",
       "\n",
       "   valor_tasa_equivalente  tipo_tasa  interes         flujo  spread  gearing  \n",
       "0                     0.0  LinAct360      0.0  0.000000e+00     0.0      1.0  \n",
       "1                     0.0  LinAct360      0.0  0.000000e+00     0.0      1.0  \n",
       "2                     0.0  LinAct360      0.0  0.000000e+00     0.0      1.0  \n",
       "3                     0.0  LinAct360      0.0  0.000000e+00     0.0      1.0  \n",
       "4                     0.0  LinAct360      0.0  0.000000e+00     0.0      1.0  \n",
       "5                     0.0  LinAct360      0.0  3.800000e+10     0.0      1.0  "
      ]
     },
     "execution_count": 72,
     "metadata": {},
     "output_type": "execute_result"
    }
   ],
   "source": [
    "# Se define un list donde almacenar los resultados de la función show\n",
    "tabla = []\n",
    "for i in range(0, overnight_index_leg.size()):\n",
    "    tabla.append(qcf.show(overnight_index_leg.get_cashflow_at(i)))\n",
    "\n",
    "# Se utiliza tabla para inicializar el Dataframe\n",
    "columnas = list(qcf.get_column_names(\"OvernightIndexCashflow\", \"\"))\n",
    "df9 = pd.DataFrame(tabla, columns=columnas)\n",
    "\n",
    "# Se despliega la data en este formato\n",
    "df9 # .style.format(format_dict)"
   ]
  },
  {
   "cell_type": "markdown",
   "metadata": {
    "collapsed": false,
    "jupyter": {
     "outputs_hidden": false
    }
   },
   "source": [
    "Notar que al dar de alta un Leg con OvernightIndexCashflow, los valores futuros de los índeces son los default (=1.0). Por lo tanto, el primer paso para valorizar estos cashflows, es calcular los valores forward de los índices.\n",
    "\n",
    "Ya tenemos un objeto de tipo `ForwardRates`."
   ]
  },
  {
   "cell_type": "markdown",
   "metadata": {
    "collapsed": false,
    "jupyter": {
     "outputs_hidden": false
    }
   },
   "source": [
    "Se calculan los índices forward."
   ]
  },
  {
   "cell_type": "code",
   "execution_count": 73,
   "metadata": {
    "ExecuteTime": {
     "end_time": "2023-12-19T16:23:18.392805Z",
     "start_time": "2023-12-19T16:23:18.354200Z"
    },
    "collapsed": false,
    "execution": {
     "iopub.execute_input": "2024-01-04T22:42:06.670782Z",
     "iopub.status.busy": "2024-01-04T22:42:06.670383Z",
     "iopub.status.idle": "2024-01-04T22:42:06.676547Z",
     "shell.execute_reply": "2024-01-04T22:42:06.675608Z",
     "shell.execute_reply.started": "2024-01-04T22:42:06.670753Z"
    },
    "jupyter": {
     "outputs_hidden": false
    }
   },
   "outputs": [],
   "source": [
    "icp_val = 18_890.34 # icp a la fecha de proceso\n",
    "fecha_hoy = qcf.QCDate(5, 3, 2020)\n",
    "\n",
    "for i in range(icp_clp2_leg.size()):\n",
    "    cashflow = overnight_index_leg.get_cashflow_at(i)\n",
    "    if cashflow.get_start_date() <= fecha_hoy <= cashflow.get_end_date():\n",
    "            index = i\n",
    "\n",
    "icp_fecha_inicio_cupon_vigente = 18_376.69\n",
    "overnight_index_leg.get_cashflow_at(index).set_start_date_index(icp_fecha_inicio_cupon_vigente)\n",
    "\n",
    "fwd_rates.set_rates_overnight_index_leg(fecha_hoy, icp_val, overnight_index_leg, zz1)"
   ]
  },
  {
   "cell_type": "code",
   "execution_count": 74,
   "metadata": {
    "ExecuteTime": {
     "end_time": "2023-12-19T16:23:50.411668Z",
     "start_time": "2023-12-19T16:23:50.371141Z"
    },
    "collapsed": false,
    "execution": {
     "iopub.execute_input": "2024-01-04T22:42:06.678225Z",
     "iopub.status.busy": "2024-01-04T22:42:06.677787Z",
     "iopub.status.idle": "2024-01-04T22:42:06.701983Z",
     "shell.execute_reply": "2024-01-04T22:42:06.701047Z",
     "shell.execute_reply.started": "2024-01-04T22:42:06.678196Z"
    },
    "jupyter": {
     "outputs_hidden": false
    }
   },
   "outputs": [
    {
     "data": {
      "text/html": [
       "<div>\n",
       "<style scoped>\n",
       "    .dataframe tbody tr th:only-of-type {\n",
       "        vertical-align: middle;\n",
       "    }\n",
       "\n",
       "    .dataframe tbody tr th {\n",
       "        vertical-align: top;\n",
       "    }\n",
       "\n",
       "    .dataframe thead th {\n",
       "        text-align: right;\n",
       "    }\n",
       "</style>\n",
       "<table border=\"1\" class=\"dataframe\">\n",
       "  <thead>\n",
       "    <tr style=\"text-align: right;\">\n",
       "      <th></th>\n",
       "      <th>fecha_inicial_devengo</th>\n",
       "      <th>fecha_final_devengo</th>\n",
       "      <th>fecha_inicial_indice</th>\n",
       "      <th>fecha_final_indice</th>\n",
       "      <th>fecha_pago</th>\n",
       "      <th>nocional</th>\n",
       "      <th>amortizacion</th>\n",
       "      <th>amort_es_flujo</th>\n",
       "      <th>moneda_nocional</th>\n",
       "      <th>nombre_indice</th>\n",
       "      <th>valor_indice_inicial</th>\n",
       "      <th>valor_indice_final</th>\n",
       "      <th>valor_tasa_equivalente</th>\n",
       "      <th>tipo_tasa</th>\n",
       "      <th>interes</th>\n",
       "      <th>flujo</th>\n",
       "      <th>spread</th>\n",
       "      <th>gearing</th>\n",
       "    </tr>\n",
       "  </thead>\n",
       "  <tbody>\n",
       "    <tr>\n",
       "      <th>0</th>\n",
       "      <td>2019-01-10</td>\n",
       "      <td>2019-07-10</td>\n",
       "      <td>2019-01-10</td>\n",
       "      <td>2019-07-10</td>\n",
       "      <td>2019-07-10</td>\n",
       "      <td>3.800000e+10</td>\n",
       "      <td>0.000000e+00</td>\n",
       "      <td>True</td>\n",
       "      <td>CLP</td>\n",
       "      <td>ICPCLP</td>\n",
       "      <td>1.000000</td>\n",
       "      <td>1.000000</td>\n",
       "      <td>0.00</td>\n",
       "      <td>LinAct360</td>\n",
       "      <td>0.000000e+00</td>\n",
       "      <td>0.000000e+00</td>\n",
       "      <td>0.0</td>\n",
       "      <td>1.0</td>\n",
       "    </tr>\n",
       "    <tr>\n",
       "      <th>1</th>\n",
       "      <td>2019-07-10</td>\n",
       "      <td>2021-07-12</td>\n",
       "      <td>2019-07-10</td>\n",
       "      <td>2021-07-12</td>\n",
       "      <td>2021-07-12</td>\n",
       "      <td>3.800000e+10</td>\n",
       "      <td>0.000000e+00</td>\n",
       "      <td>True</td>\n",
       "      <td>CLP</td>\n",
       "      <td>ICPCLP</td>\n",
       "      <td>18376.690000</td>\n",
       "      <td>19227.955278</td>\n",
       "      <td>0.02</td>\n",
       "      <td>LinAct360</td>\n",
       "      <td>1.547444e+09</td>\n",
       "      <td>1.547444e+09</td>\n",
       "      <td>0.0</td>\n",
       "      <td>1.0</td>\n",
       "    </tr>\n",
       "    <tr>\n",
       "      <th>2</th>\n",
       "      <td>2021-07-12</td>\n",
       "      <td>2023-07-10</td>\n",
       "      <td>2021-07-12</td>\n",
       "      <td>2023-07-10</td>\n",
       "      <td>2023-07-10</td>\n",
       "      <td>3.800000e+10</td>\n",
       "      <td>0.000000e+00</td>\n",
       "      <td>True</td>\n",
       "      <td>CLP</td>\n",
       "      <td>ICPCLP</td>\n",
       "      <td>19227.955278</td>\n",
       "      <td>19865.747233</td>\n",
       "      <td>0.02</td>\n",
       "      <td>LinAct360</td>\n",
       "      <td>1.536889e+09</td>\n",
       "      <td>1.536889e+09</td>\n",
       "      <td>0.0</td>\n",
       "      <td>1.0</td>\n",
       "    </tr>\n",
       "    <tr>\n",
       "      <th>3</th>\n",
       "      <td>2023-07-10</td>\n",
       "      <td>2025-07-10</td>\n",
       "      <td>2023-07-10</td>\n",
       "      <td>2025-07-10</td>\n",
       "      <td>2025-07-10</td>\n",
       "      <td>3.800000e+10</td>\n",
       "      <td>0.000000e+00</td>\n",
       "      <td>True</td>\n",
       "      <td>CLP</td>\n",
       "      <td>ICPCLP</td>\n",
       "      <td>19865.747233</td>\n",
       "      <td>21025.943703</td>\n",
       "      <td>0.03</td>\n",
       "      <td>LinAct360</td>\n",
       "      <td>2.314833e+09</td>\n",
       "      <td>2.314833e+09</td>\n",
       "      <td>0.0</td>\n",
       "      <td>1.0</td>\n",
       "    </tr>\n",
       "    <tr>\n",
       "      <th>4</th>\n",
       "      <td>2025-07-10</td>\n",
       "      <td>2027-07-12</td>\n",
       "      <td>2025-07-10</td>\n",
       "      <td>2027-07-12</td>\n",
       "      <td>2027-07-12</td>\n",
       "      <td>3.800000e+10</td>\n",
       "      <td>0.000000e+00</td>\n",
       "      <td>True</td>\n",
       "      <td>CLP</td>\n",
       "      <td>ICPCLP</td>\n",
       "      <td>21025.943703</td>\n",
       "      <td>22642.661052</td>\n",
       "      <td>0.04</td>\n",
       "      <td>LinAct360</td>\n",
       "      <td>3.090667e+09</td>\n",
       "      <td>3.090667e+09</td>\n",
       "      <td>0.0</td>\n",
       "      <td>1.0</td>\n",
       "    </tr>\n",
       "    <tr>\n",
       "      <th>5</th>\n",
       "      <td>2027-07-12</td>\n",
       "      <td>2029-07-10</td>\n",
       "      <td>2027-07-12</td>\n",
       "      <td>2029-07-10</td>\n",
       "      <td>2029-07-10</td>\n",
       "      <td>3.800000e+10</td>\n",
       "      <td>3.800000e+10</td>\n",
       "      <td>True</td>\n",
       "      <td>CLP</td>\n",
       "      <td>ICPCLP</td>\n",
       "      <td>22642.661052</td>\n",
       "      <td>24438.976252</td>\n",
       "      <td>0.04</td>\n",
       "      <td>LinAct360</td>\n",
       "      <td>3.078000e+09</td>\n",
       "      <td>4.107800e+10</td>\n",
       "      <td>0.0</td>\n",
       "      <td>1.0</td>\n",
       "    </tr>\n",
       "  </tbody>\n",
       "</table>\n",
       "</div>"
      ],
      "text/plain": [
       "  fecha_inicial_devengo fecha_final_devengo fecha_inicial_indice  \\\n",
       "0            2019-01-10          2019-07-10           2019-01-10   \n",
       "1            2019-07-10          2021-07-12           2019-07-10   \n",
       "2            2021-07-12          2023-07-10           2021-07-12   \n",
       "3            2023-07-10          2025-07-10           2023-07-10   \n",
       "4            2025-07-10          2027-07-12           2025-07-10   \n",
       "5            2027-07-12          2029-07-10           2027-07-12   \n",
       "\n",
       "  fecha_final_indice  fecha_pago      nocional  amortizacion  amort_es_flujo  \\\n",
       "0         2019-07-10  2019-07-10  3.800000e+10  0.000000e+00            True   \n",
       "1         2021-07-12  2021-07-12  3.800000e+10  0.000000e+00            True   \n",
       "2         2023-07-10  2023-07-10  3.800000e+10  0.000000e+00            True   \n",
       "3         2025-07-10  2025-07-10  3.800000e+10  0.000000e+00            True   \n",
       "4         2027-07-12  2027-07-12  3.800000e+10  0.000000e+00            True   \n",
       "5         2029-07-10  2029-07-10  3.800000e+10  3.800000e+10            True   \n",
       "\n",
       "  moneda_nocional nombre_indice  valor_indice_inicial  valor_indice_final  \\\n",
       "0             CLP        ICPCLP              1.000000            1.000000   \n",
       "1             CLP        ICPCLP          18376.690000        19227.955278   \n",
       "2             CLP        ICPCLP          19227.955278        19865.747233   \n",
       "3             CLP        ICPCLP          19865.747233        21025.943703   \n",
       "4             CLP        ICPCLP          21025.943703        22642.661052   \n",
       "5             CLP        ICPCLP          22642.661052        24438.976252   \n",
       "\n",
       "   valor_tasa_equivalente  tipo_tasa       interes         flujo  spread  \\\n",
       "0                    0.00  LinAct360  0.000000e+00  0.000000e+00     0.0   \n",
       "1                    0.02  LinAct360  1.547444e+09  1.547444e+09     0.0   \n",
       "2                    0.02  LinAct360  1.536889e+09  1.536889e+09     0.0   \n",
       "3                    0.03  LinAct360  2.314833e+09  2.314833e+09     0.0   \n",
       "4                    0.04  LinAct360  3.090667e+09  3.090667e+09     0.0   \n",
       "5                    0.04  LinAct360  3.078000e+09  4.107800e+10     0.0   \n",
       "\n",
       "   gearing  \n",
       "0      1.0  \n",
       "1      1.0  \n",
       "2      1.0  \n",
       "3      1.0  \n",
       "4      1.0  \n",
       "5      1.0  "
      ]
     },
     "execution_count": 74,
     "metadata": {},
     "output_type": "execute_result"
    }
   ],
   "source": [
    "# Se define un list donde almacenar los resultados de la función show\n",
    "tabla = []\n",
    "for i in range(0, overnight_index_leg.size()):\n",
    "    tabla.append(qcf.show(overnight_index_leg.get_cashflow_at(i)))\n",
    "\n",
    "# Se utiliza tabla para inicializar el Dataframe\n",
    "columnas = list(qcf.get_column_names(\"OvernightIndexCashflow\", \"\"))\n",
    "df9 = pd.DataFrame(tabla, columns=columnas)\n",
    "\n",
    "# Se despliega la data en este formato\n",
    "df9 # .style.format(format_dict)"
   ]
  },
  {
   "cell_type": "markdown",
   "metadata": {
    "collapsed": false,
    "jupyter": {
     "outputs_hidden": false
    }
   },
   "source": [
    "Con esto, podemos calcular el valor presente."
   ]
  },
  {
   "cell_type": "code",
   "execution_count": 75,
   "metadata": {
    "ExecuteTime": {
     "end_time": "2023-12-19T16:24:45.130058Z",
     "start_time": "2023-12-19T16:24:45.084461Z"
    },
    "collapsed": false,
    "execution": {
     "iopub.execute_input": "2024-01-04T22:42:06.703835Z",
     "iopub.status.busy": "2024-01-04T22:42:06.703396Z",
     "iopub.status.idle": "2024-01-04T22:42:06.709372Z",
     "shell.execute_reply": "2024-01-04T22:42:06.708207Z",
     "shell.execute_reply.started": "2024-01-04T22:42:06.703804Z"
    },
    "jupyter": {
     "outputs_hidden": false
    }
   },
   "outputs": [
    {
     "name": "stdout",
     "output_type": "stream",
     "text": [
      "Valor presente pata ON Index Leg: 39,062,144,488\n"
     ]
    }
   ],
   "source": [
    "vp_on_index_leg = pv.pv(fecha_hoy, overnight_index_leg, zz1)\n",
    "print(\"Valor presente pata ON Index Leg: {0:,.0f}\".format(vp_on_index_leg))"
   ]
  },
  {
   "cell_type": "code",
   "execution_count": 76,
   "metadata": {
    "ExecuteTime": {
     "end_time": "2023-12-19T16:24:54.267473Z",
     "start_time": "2023-12-19T16:24:54.225095Z"
    },
    "collapsed": false,
    "execution": {
     "iopub.execute_input": "2024-01-04T22:42:06.711450Z",
     "iopub.status.busy": "2024-01-04T22:42:06.711024Z",
     "iopub.status.idle": "2024-01-04T22:42:06.715855Z",
     "shell.execute_reply": "2024-01-04T22:42:06.714947Z",
     "shell.execute_reply.started": "2024-01-04T22:42:06.711412Z"
    },
    "jupyter": {
     "outputs_hidden": false
    }
   },
   "outputs": [],
   "source": [
    "csh = overnight_index_leg.get_cashflow_at(5)"
   ]
  },
  {
   "cell_type": "code",
   "execution_count": 77,
   "metadata": {
    "ExecuteTime": {
     "end_time": "2023-12-19T16:24:57.708234Z",
     "start_time": "2023-12-19T16:24:57.658082Z"
    },
    "collapsed": false,
    "execution": {
     "iopub.execute_input": "2024-01-04T22:42:06.717576Z",
     "iopub.status.busy": "2024-01-04T22:42:06.717149Z",
     "iopub.status.idle": "2024-01-04T22:42:06.723339Z",
     "shell.execute_reply": "2024-01-04T22:42:06.722280Z",
     "shell.execute_reply.started": "2024-01-04T22:42:06.717545Z"
    },
    "jupyter": {
     "outputs_hidden": false
    }
   },
   "outputs": [
    {
     "data": {
      "text/plain": [
       "31702674802.50826"
      ]
     },
     "execution_count": 77,
     "metadata": {},
     "output_type": "execute_result"
    }
   ],
   "source": [
    "pv.pv(fecha_hoy, csh, zz1)"
   ]
  },
  {
   "cell_type": "markdown",
   "metadata": {
    "collapsed": false,
    "jupyter": {
     "outputs_hidden": false
    }
   },
   "source": [
    "También en este caso es posible calcular la sensibilidad a la curva de descuento."
   ]
  },
  {
   "cell_type": "code",
   "execution_count": 78,
   "metadata": {
    "ExecuteTime": {
     "end_time": "2023-12-19T16:25:05.316577Z",
     "start_time": "2023-12-19T16:25:05.264235Z"
    },
    "collapsed": false,
    "execution": {
     "iopub.execute_input": "2024-01-04T22:42:06.725617Z",
     "iopub.status.busy": "2024-01-04T22:42:06.725220Z",
     "iopub.status.idle": "2024-01-04T22:42:06.731628Z",
     "shell.execute_reply": "2024-01-04T22:42:06.730447Z",
     "shell.execute_reply.started": "2024-01-04T22:42:06.725585Z"
    },
    "jupyter": {
     "outputs_hidden": false
    }
   },
   "outputs": [
    {
     "name": "stdout",
     "output_type": "stream",
     "text": [
      "Sensibilidad en 0: -0\n",
      "Sensibilidad en 1: -0\n",
      "Sensibilidad en 2: -0\n",
      "Sensibilidad en 3: -0\n",
      "Sensibilidad en 4: -0\n",
      "Sensibilidad en 5: -0\n",
      "Sensibilidad en 6: -0\n",
      "Sensibilidad en 7: -0\n",
      "Sensibilidad en 8: -0\n",
      "Sensibilidad en 9: -0\n",
      "Sensibilidad en 10: -0\n",
      "Sensibilidad en 11: -0\n",
      "Sensibilidad en 12: -0\n",
      "Sensibilidad en 13: -0\n",
      "Sensibilidad en 14: -15,407,642\n",
      "Sensibilidad en 15: -7,831,157\n",
      "Sensibilidad en 16: -0\n",
      "Sensibilidad en 17: -0\n",
      "Sensibilidad en 18: -0\n"
     ]
    }
   ],
   "source": [
    "der = pv.get_derivatives()\n",
    "i = 0\n",
    "bp = .0001\n",
    "for d in der:\n",
    "    print(\"Sensibilidad en {0:}: {1:0,.0f}\".format(i, d * bp))\n",
    "    i += 1"
   ]
  },
  {
   "cell_type": "markdown",
   "metadata": {
    "collapsed": false,
    "jupyter": {
     "outputs_hidden": false
    }
   },
   "source": [
    "Podemos ver la sensibilidad total:"
   ]
  },
  {
   "cell_type": "code",
   "execution_count": 79,
   "metadata": {
    "ExecuteTime": {
     "end_time": "2023-12-19T16:25:12.029562Z",
     "start_time": "2023-12-19T16:25:12.011553Z"
    },
    "collapsed": false,
    "execution": {
     "iopub.execute_input": "2024-01-04T22:42:06.733266Z",
     "iopub.status.busy": "2024-01-04T22:42:06.732727Z",
     "iopub.status.idle": "2024-01-04T22:42:06.738942Z",
     "shell.execute_reply": "2024-01-04T22:42:06.737682Z",
     "shell.execute_reply.started": "2024-01-04T22:42:06.733235Z"
    },
    "jupyter": {
     "outputs_hidden": false
    }
   },
   "outputs": [
    {
     "name": "stdout",
     "output_type": "stream",
     "text": [
      "Sensibilidad de descuento: -23,238,799 CLP\n"
     ]
    }
   ],
   "source": [
    "sens_disc = [d * bp for d in der]\n",
    "print(\"Sensibilidad de descuento: {0:,.0f} CLP\".format(sum(sens_disc)))"
   ]
  },
  {
   "cell_type": "markdown",
   "metadata": {
    "collapsed": false,
    "jupyter": {
     "outputs_hidden": false
    }
   },
   "source": [
    "La estructura es la misma que para una pata fija, lo que indica que se debe también incluir la sensibilidad a la curva de proyección."
   ]
  },
  {
   "cell_type": "code",
   "execution_count": 80,
   "metadata": {
    "ExecuteTime": {
     "end_time": "2023-12-19T16:25:44.267682Z",
     "start_time": "2023-12-19T16:25:44.243985Z"
    },
    "collapsed": false,
    "execution": {
     "iopub.execute_input": "2024-01-04T22:42:06.740826Z",
     "iopub.status.busy": "2024-01-04T22:42:06.740449Z",
     "iopub.status.idle": "2024-01-04T22:42:06.749878Z",
     "shell.execute_reply": "2024-01-04T22:42:06.748744Z",
     "shell.execute_reply.started": "2024-01-04T22:42:06.740797Z"
    },
    "jupyter": {
     "outputs_hidden": false
    }
   },
   "outputs": [
    {
     "name": "stdout",
     "output_type": "stream",
     "text": [
      "Sensibilidad en 0: 0\n",
      "Sensibilidad en 1: 0\n",
      "Sensibilidad en 2: 0\n",
      "Sensibilidad en 3: 0\n",
      "Sensibilidad en 4: 0\n",
      "Sensibilidad en 5: 74,757\n",
      "Sensibilidad en 6: 158,384\n",
      "Sensibilidad en 7: 0\n",
      "Sensibilidad en 8: 256,858\n",
      "Sensibilidad en 9: 130,015\n",
      "Sensibilidad en 10: 644,319\n",
      "Sensibilidad en 11: 327,485\n",
      "Sensibilidad en 12: 998,768\n",
      "Sensibilidad en 13: 518,033\n",
      "Sensibilidad en 14: 15,407,642\n",
      "Sensibilidad en 15: 7,831,157\n",
      "Sensibilidad en 16: 0\n",
      "Sensibilidad en 17: 0\n",
      "Sensibilidad en 18: 0\n",
      "Sensibilidad de proyección: 26,347,418 CLP\n"
     ]
    }
   ],
   "source": [
    "import numpy as np\n",
    "bp = .0001\n",
    "result = []\n",
    "for i in range(overnight_index_leg.size()):\n",
    "    cshflw = overnight_index_leg.get_cashflow_at(i)\n",
    "    amt_der = cshflw.get_amount_derivatives()\n",
    "    df = zz1.get_discount_factor_at(fecha_hoy.day_diff(cshflw.get_settlement_date()))\n",
    "    amt_der = [a * bp * df for a in amt_der]\n",
    "    if len(amt_der) > 0:\n",
    "        result.append(np.array(amt_der))\n",
    "total = result[0] * 0\n",
    "\n",
    "for r in result:\n",
    "    total += r\n",
    "\n",
    "for i in range(len(total)):\n",
    "    print(\"Sensibilidad en {0:}: {1:0,.0f}\".format(i, total[i]))\n",
    "\n",
    "print(\"Sensibilidad de proyección: {0:,.0f} CLP\".format(sum(total)))"
   ]
  },
  {
   "cell_type": "markdown",
   "metadata": {
    "collapsed": false,
    "jupyter": {
     "outputs_hidden": false
    }
   },
   "source": [
    "Como se espera de una pata OvernightIndex (con lag de pago igual a 0 y spread igual a 0), ambas sensibilidades se cancelan."
   ]
  },
  {
   "cell_type": "markdown",
   "metadata": {
    "collapsed": false,
    "jupyter": {
     "outputs_hidden": false
    }
   },
   "source": [
    "#### Se verifica la sensibilidad de proyección por diferencias finitas:"
   ]
  },
  {
   "cell_type": "code",
   "execution_count": 81,
   "metadata": {
    "ExecuteTime": {
     "end_time": "2023-12-19T16:27:07.112269Z",
     "start_time": "2023-12-19T16:27:07.094307Z"
    },
    "collapsed": false,
    "execution": {
     "iopub.execute_input": "2024-01-04T22:42:06.751349Z",
     "iopub.status.busy": "2024-01-04T22:42:06.750879Z",
     "iopub.status.idle": "2024-01-04T22:42:06.757086Z",
     "shell.execute_reply": "2024-01-04T22:42:06.756089Z",
     "shell.execute_reply.started": "2024-01-04T22:42:06.751317Z"
    },
    "jupyter": {
     "outputs_hidden": false
    }
   },
   "outputs": [
    {
     "name": "stdout",
     "output_type": "stream",
     "text": [
      "Sensibilidad en vértice 13: 518,033 CLP\n"
     ]
    }
   ],
   "source": [
    "fwd_rates.set_rates_overnight_index_leg(fecha_hoy, icp_val, overnight_index_leg, zz_sens_up)\n",
    "vp_on_index_leg_up = pv.pv(fecha_hoy, overnight_index_leg, zz1)\n",
    "\n",
    "fwd_rates.set_rates_overnight_index_leg(fecha_hoy, icp_val, overnight_index_leg, zz_sens_down)\n",
    "vp_on_index_leg_down = pv.pv(fecha_hoy, icp_clp2_leg, zz1)\n",
    "\n",
    "print(\"Sensibilidad en vértice {0:}: {1:,.0f} CLP\".format(\n",
    "    vertice, (vp_on_index_leg_up - vp_on_index_leg_down) / 2))"
   ]
  },
  {
   "cell_type": "markdown",
   "metadata": {},
   "source": [
    "### IborCashflow2 Leg"
   ]
  },
  {
   "cell_type": "code",
   "execution_count": 82,
   "metadata": {
    "execution": {
     "iopub.execute_input": "2024-01-04T22:42:06.759089Z",
     "iopub.status.busy": "2024-01-04T22:42:06.758422Z",
     "iopub.status.idle": "2024-01-04T22:42:06.768586Z",
     "shell.execute_reply": "2024-01-04T22:42:06.767416Z",
     "shell.execute_reply.started": "2024-01-04T22:42:06.759057Z"
    }
   },
   "outputs": [],
   "source": [
    "### Se da de alta los parámetros requeridos\n",
    "rp = qcf.RecPay.RECEIVE\n",
    "fecha_inicio = qcf.QCDate(12, 11, 2019)\n",
    "fecha_final = qcf.QCDate(12, 11, 2029)\n",
    "bus_adj_rule = qcf.BusyAdjRules.MODFOLLOW\n",
    "periodicidad_pago = qcf.Tenor('3M')\n",
    "periodo_irregular_pago = qcf.StubPeriod.NO\n",
    "calendario = qcf.BusinessCalendar(fecha_inicio, 20)\n",
    "lag_pago = 0\n",
    "periodicidad_fijacion = qcf.Tenor('3M')\n",
    "periodo_irregular_fijacion = qcf.StubPeriod.NO\n",
    "\n",
    "# vamos a usar el mismo calendario para pago y fijaciones\n",
    "lag_de_fijacion = 2\n",
    "\n",
    "# Definición del índice\n",
    "codigo = 'LIBORUSD3M'\n",
    "lin_act360 = qcf.QCInterestRate(.0, qcf.QCAct360(), qcf.QCLinearWf())\n",
    "fixing_lag = qcf.Tenor('2d')\n",
    "tenor = qcf.Tenor('3m')\n",
    "fixing_calendar = calendario\n",
    "settlement_calendar = calendario\n",
    "usd = qcf.QCUSD()\n",
    "libor_usd_3m = qcf.InterestRateIndex(\n",
    "    codigo,\n",
    "    lin_act360,\n",
    "    fixing_lag,\n",
    "    tenor,\n",
    "    fixing_calendar,\n",
    "    settlement_calendar,\n",
    "    usd\n",
    ")\n",
    "# Fin índice\n",
    "\n",
    "nominal = 20_000_000.0\n",
    "amort_es_flujo = True\n",
    "moneda = usd\n",
    "spread = .0\n",
    "gearing = 1.0\n",
    "\n",
    "# Es la op 2879 en FD\n",
    "ibor_leg = qcf.LegFactory.build_bullet_ibor2_leg(\n",
    "    rp, \n",
    "    fecha_inicio, \n",
    "    fecha_final, \n",
    "    bus_adj_rule, \n",
    "    periodicidad_pago,\n",
    "    periodo_irregular_pago, \n",
    "    calendario, \n",
    "    lag_pago,\n",
    "    periodicidad_fijacion, \n",
    "    periodo_irregular_fijacion,\n",
    "    calendario, \n",
    "    lag_de_fijacion, \n",
    "    libor_usd_3m,\n",
    "    nominal, \n",
    "    amort_es_flujo, \n",
    "    moneda, \n",
    "    spread, \n",
    "    gearing\n",
    ")"
   ]
  },
  {
   "cell_type": "code",
   "execution_count": 83,
   "metadata": {
    "execution": {
     "iopub.execute_input": "2024-01-04T22:42:06.771180Z",
     "iopub.status.busy": "2024-01-04T22:42:06.770631Z",
     "iopub.status.idle": "2024-01-04T22:42:06.805139Z",
     "shell.execute_reply": "2024-01-04T22:42:06.804221Z",
     "shell.execute_reply.started": "2024-01-04T22:42:06.771147Z"
    }
   },
   "outputs": [
    {
     "data": {
      "text/html": [
       "<style type=\"text/css\">\n",
       "</style>\n",
       "<table id=\"T_c18cd\">\n",
       "  <thead>\n",
       "    <tr>\n",
       "      <th class=\"blank level0\" >&nbsp;</th>\n",
       "      <th id=\"T_c18cd_level0_col0\" class=\"col_heading level0 col0\" >fecha_inicial</th>\n",
       "      <th id=\"T_c18cd_level0_col1\" class=\"col_heading level0 col1\" >fecha__final</th>\n",
       "      <th id=\"T_c18cd_level0_col2\" class=\"col_heading level0 col2\" >fecha_fixing</th>\n",
       "      <th id=\"T_c18cd_level0_col3\" class=\"col_heading level0 col3\" >fecha__pago</th>\n",
       "      <th id=\"T_c18cd_level0_col4\" class=\"col_heading level0 col4\" >nominal</th>\n",
       "      <th id=\"T_c18cd_level0_col5\" class=\"col_heading level0 col5\" >amort</th>\n",
       "      <th id=\"T_c18cd_level0_col6\" class=\"col_heading level0 col6\" >interes</th>\n",
       "      <th id=\"T_c18cd_level0_col7\" class=\"col_heading level0 col7\" >amort_es_flujo</th>\n",
       "      <th id=\"T_c18cd_level0_col8\" class=\"col_heading level0 col8\" >flujo</th>\n",
       "      <th id=\"T_c18cd_level0_col9\" class=\"col_heading level0 col9\" >moneda</th>\n",
       "      <th id=\"T_c18cd_level0_col10\" class=\"col_heading level0 col10\" >codigo_indice</th>\n",
       "      <th id=\"T_c18cd_level0_col11\" class=\"col_heading level0 col11\" >valor_tasa</th>\n",
       "      <th id=\"T_c18cd_level0_col12\" class=\"col_heading level0 col12\" >spread</th>\n",
       "      <th id=\"T_c18cd_level0_col13\" class=\"col_heading level0 col13\" >gearing</th>\n",
       "      <th id=\"T_c18cd_level0_col14\" class=\"col_heading level0 col14\" >tipo_tasa</th>\n",
       "    </tr>\n",
       "  </thead>\n",
       "  <tbody>\n",
       "    <tr>\n",
       "      <th id=\"T_c18cd_level0_row0\" class=\"row_heading level0 row0\" >0</th>\n",
       "      <td id=\"T_c18cd_row0_col0\" class=\"data row0 col0\" >2019-11-12</td>\n",
       "      <td id=\"T_c18cd_row0_col1\" class=\"data row0 col1\" >2020-02-12</td>\n",
       "      <td id=\"T_c18cd_row0_col2\" class=\"data row0 col2\" >2019-11-08</td>\n",
       "      <td id=\"T_c18cd_row0_col3\" class=\"data row0 col3\" >2020-02-12</td>\n",
       "      <td id=\"T_c18cd_row0_col4\" class=\"data row0 col4\" >20,000,000.00</td>\n",
       "      <td id=\"T_c18cd_row0_col5\" class=\"data row0 col5\" >0.00</td>\n",
       "      <td id=\"T_c18cd_row0_col6\" class=\"data row0 col6\" >0.00</td>\n",
       "      <td id=\"T_c18cd_row0_col7\" class=\"data row0 col7\" >True</td>\n",
       "      <td id=\"T_c18cd_row0_col8\" class=\"data row0 col8\" >0.00</td>\n",
       "      <td id=\"T_c18cd_row0_col9\" class=\"data row0 col9\" >USD</td>\n",
       "      <td id=\"T_c18cd_row0_col10\" class=\"data row0 col10\" >LIBORUSD3M</td>\n",
       "      <td id=\"T_c18cd_row0_col11\" class=\"data row0 col11\" >0.0000%</td>\n",
       "      <td id=\"T_c18cd_row0_col12\" class=\"data row0 col12\" >0.0000%</td>\n",
       "      <td id=\"T_c18cd_row0_col13\" class=\"data row0 col13\" >1.00</td>\n",
       "      <td id=\"T_c18cd_row0_col14\" class=\"data row0 col14\" >LinAct360</td>\n",
       "    </tr>\n",
       "    <tr>\n",
       "      <th id=\"T_c18cd_level0_row1\" class=\"row_heading level0 row1\" >1</th>\n",
       "      <td id=\"T_c18cd_row1_col0\" class=\"data row1 col0\" >2020-02-12</td>\n",
       "      <td id=\"T_c18cd_row1_col1\" class=\"data row1 col1\" >2020-05-12</td>\n",
       "      <td id=\"T_c18cd_row1_col2\" class=\"data row1 col2\" >2020-02-10</td>\n",
       "      <td id=\"T_c18cd_row1_col3\" class=\"data row1 col3\" >2020-05-12</td>\n",
       "      <td id=\"T_c18cd_row1_col4\" class=\"data row1 col4\" >20,000,000.00</td>\n",
       "      <td id=\"T_c18cd_row1_col5\" class=\"data row1 col5\" >0.00</td>\n",
       "      <td id=\"T_c18cd_row1_col6\" class=\"data row1 col6\" >0.00</td>\n",
       "      <td id=\"T_c18cd_row1_col7\" class=\"data row1 col7\" >True</td>\n",
       "      <td id=\"T_c18cd_row1_col8\" class=\"data row1 col8\" >0.00</td>\n",
       "      <td id=\"T_c18cd_row1_col9\" class=\"data row1 col9\" >USD</td>\n",
       "      <td id=\"T_c18cd_row1_col10\" class=\"data row1 col10\" >LIBORUSD3M</td>\n",
       "      <td id=\"T_c18cd_row1_col11\" class=\"data row1 col11\" >0.0000%</td>\n",
       "      <td id=\"T_c18cd_row1_col12\" class=\"data row1 col12\" >0.0000%</td>\n",
       "      <td id=\"T_c18cd_row1_col13\" class=\"data row1 col13\" >1.00</td>\n",
       "      <td id=\"T_c18cd_row1_col14\" class=\"data row1 col14\" >LinAct360</td>\n",
       "    </tr>\n",
       "    <tr>\n",
       "      <th id=\"T_c18cd_level0_row2\" class=\"row_heading level0 row2\" >2</th>\n",
       "      <td id=\"T_c18cd_row2_col0\" class=\"data row2 col0\" >2020-05-12</td>\n",
       "      <td id=\"T_c18cd_row2_col1\" class=\"data row2 col1\" >2020-08-12</td>\n",
       "      <td id=\"T_c18cd_row2_col2\" class=\"data row2 col2\" >2020-05-08</td>\n",
       "      <td id=\"T_c18cd_row2_col3\" class=\"data row2 col3\" >2020-08-12</td>\n",
       "      <td id=\"T_c18cd_row2_col4\" class=\"data row2 col4\" >20,000,000.00</td>\n",
       "      <td id=\"T_c18cd_row2_col5\" class=\"data row2 col5\" >0.00</td>\n",
       "      <td id=\"T_c18cd_row2_col6\" class=\"data row2 col6\" >0.00</td>\n",
       "      <td id=\"T_c18cd_row2_col7\" class=\"data row2 col7\" >True</td>\n",
       "      <td id=\"T_c18cd_row2_col8\" class=\"data row2 col8\" >0.00</td>\n",
       "      <td id=\"T_c18cd_row2_col9\" class=\"data row2 col9\" >USD</td>\n",
       "      <td id=\"T_c18cd_row2_col10\" class=\"data row2 col10\" >LIBORUSD3M</td>\n",
       "      <td id=\"T_c18cd_row2_col11\" class=\"data row2 col11\" >0.0000%</td>\n",
       "      <td id=\"T_c18cd_row2_col12\" class=\"data row2 col12\" >0.0000%</td>\n",
       "      <td id=\"T_c18cd_row2_col13\" class=\"data row2 col13\" >1.00</td>\n",
       "      <td id=\"T_c18cd_row2_col14\" class=\"data row2 col14\" >LinAct360</td>\n",
       "    </tr>\n",
       "    <tr>\n",
       "      <th id=\"T_c18cd_level0_row3\" class=\"row_heading level0 row3\" >3</th>\n",
       "      <td id=\"T_c18cd_row3_col0\" class=\"data row3 col0\" >2020-08-12</td>\n",
       "      <td id=\"T_c18cd_row3_col1\" class=\"data row3 col1\" >2020-11-12</td>\n",
       "      <td id=\"T_c18cd_row3_col2\" class=\"data row3 col2\" >2020-08-10</td>\n",
       "      <td id=\"T_c18cd_row3_col3\" class=\"data row3 col3\" >2020-11-12</td>\n",
       "      <td id=\"T_c18cd_row3_col4\" class=\"data row3 col4\" >20,000,000.00</td>\n",
       "      <td id=\"T_c18cd_row3_col5\" class=\"data row3 col5\" >0.00</td>\n",
       "      <td id=\"T_c18cd_row3_col6\" class=\"data row3 col6\" >0.00</td>\n",
       "      <td id=\"T_c18cd_row3_col7\" class=\"data row3 col7\" >True</td>\n",
       "      <td id=\"T_c18cd_row3_col8\" class=\"data row3 col8\" >0.00</td>\n",
       "      <td id=\"T_c18cd_row3_col9\" class=\"data row3 col9\" >USD</td>\n",
       "      <td id=\"T_c18cd_row3_col10\" class=\"data row3 col10\" >LIBORUSD3M</td>\n",
       "      <td id=\"T_c18cd_row3_col11\" class=\"data row3 col11\" >0.0000%</td>\n",
       "      <td id=\"T_c18cd_row3_col12\" class=\"data row3 col12\" >0.0000%</td>\n",
       "      <td id=\"T_c18cd_row3_col13\" class=\"data row3 col13\" >1.00</td>\n",
       "      <td id=\"T_c18cd_row3_col14\" class=\"data row3 col14\" >LinAct360</td>\n",
       "    </tr>\n",
       "    <tr>\n",
       "      <th id=\"T_c18cd_level0_row4\" class=\"row_heading level0 row4\" >4</th>\n",
       "      <td id=\"T_c18cd_row4_col0\" class=\"data row4 col0\" >2020-11-12</td>\n",
       "      <td id=\"T_c18cd_row4_col1\" class=\"data row4 col1\" >2021-02-12</td>\n",
       "      <td id=\"T_c18cd_row4_col2\" class=\"data row4 col2\" >2020-11-10</td>\n",
       "      <td id=\"T_c18cd_row4_col3\" class=\"data row4 col3\" >2021-02-12</td>\n",
       "      <td id=\"T_c18cd_row4_col4\" class=\"data row4 col4\" >20,000,000.00</td>\n",
       "      <td id=\"T_c18cd_row4_col5\" class=\"data row4 col5\" >0.00</td>\n",
       "      <td id=\"T_c18cd_row4_col6\" class=\"data row4 col6\" >0.00</td>\n",
       "      <td id=\"T_c18cd_row4_col7\" class=\"data row4 col7\" >True</td>\n",
       "      <td id=\"T_c18cd_row4_col8\" class=\"data row4 col8\" >0.00</td>\n",
       "      <td id=\"T_c18cd_row4_col9\" class=\"data row4 col9\" >USD</td>\n",
       "      <td id=\"T_c18cd_row4_col10\" class=\"data row4 col10\" >LIBORUSD3M</td>\n",
       "      <td id=\"T_c18cd_row4_col11\" class=\"data row4 col11\" >0.0000%</td>\n",
       "      <td id=\"T_c18cd_row4_col12\" class=\"data row4 col12\" >0.0000%</td>\n",
       "      <td id=\"T_c18cd_row4_col13\" class=\"data row4 col13\" >1.00</td>\n",
       "      <td id=\"T_c18cd_row4_col14\" class=\"data row4 col14\" >LinAct360</td>\n",
       "    </tr>\n",
       "    <tr>\n",
       "      <th id=\"T_c18cd_level0_row5\" class=\"row_heading level0 row5\" >5</th>\n",
       "      <td id=\"T_c18cd_row5_col0\" class=\"data row5 col0\" >2021-02-12</td>\n",
       "      <td id=\"T_c18cd_row5_col1\" class=\"data row5 col1\" >2021-05-12</td>\n",
       "      <td id=\"T_c18cd_row5_col2\" class=\"data row5 col2\" >2021-02-10</td>\n",
       "      <td id=\"T_c18cd_row5_col3\" class=\"data row5 col3\" >2021-05-12</td>\n",
       "      <td id=\"T_c18cd_row5_col4\" class=\"data row5 col4\" >20,000,000.00</td>\n",
       "      <td id=\"T_c18cd_row5_col5\" class=\"data row5 col5\" >0.00</td>\n",
       "      <td id=\"T_c18cd_row5_col6\" class=\"data row5 col6\" >0.00</td>\n",
       "      <td id=\"T_c18cd_row5_col7\" class=\"data row5 col7\" >True</td>\n",
       "      <td id=\"T_c18cd_row5_col8\" class=\"data row5 col8\" >0.00</td>\n",
       "      <td id=\"T_c18cd_row5_col9\" class=\"data row5 col9\" >USD</td>\n",
       "      <td id=\"T_c18cd_row5_col10\" class=\"data row5 col10\" >LIBORUSD3M</td>\n",
       "      <td id=\"T_c18cd_row5_col11\" class=\"data row5 col11\" >0.0000%</td>\n",
       "      <td id=\"T_c18cd_row5_col12\" class=\"data row5 col12\" >0.0000%</td>\n",
       "      <td id=\"T_c18cd_row5_col13\" class=\"data row5 col13\" >1.00</td>\n",
       "      <td id=\"T_c18cd_row5_col14\" class=\"data row5 col14\" >LinAct360</td>\n",
       "    </tr>\n",
       "    <tr>\n",
       "      <th id=\"T_c18cd_level0_row6\" class=\"row_heading level0 row6\" >6</th>\n",
       "      <td id=\"T_c18cd_row6_col0\" class=\"data row6 col0\" >2021-05-12</td>\n",
       "      <td id=\"T_c18cd_row6_col1\" class=\"data row6 col1\" >2021-08-12</td>\n",
       "      <td id=\"T_c18cd_row6_col2\" class=\"data row6 col2\" >2021-05-10</td>\n",
       "      <td id=\"T_c18cd_row6_col3\" class=\"data row6 col3\" >2021-08-12</td>\n",
       "      <td id=\"T_c18cd_row6_col4\" class=\"data row6 col4\" >20,000,000.00</td>\n",
       "      <td id=\"T_c18cd_row6_col5\" class=\"data row6 col5\" >0.00</td>\n",
       "      <td id=\"T_c18cd_row6_col6\" class=\"data row6 col6\" >0.00</td>\n",
       "      <td id=\"T_c18cd_row6_col7\" class=\"data row6 col7\" >True</td>\n",
       "      <td id=\"T_c18cd_row6_col8\" class=\"data row6 col8\" >0.00</td>\n",
       "      <td id=\"T_c18cd_row6_col9\" class=\"data row6 col9\" >USD</td>\n",
       "      <td id=\"T_c18cd_row6_col10\" class=\"data row6 col10\" >LIBORUSD3M</td>\n",
       "      <td id=\"T_c18cd_row6_col11\" class=\"data row6 col11\" >0.0000%</td>\n",
       "      <td id=\"T_c18cd_row6_col12\" class=\"data row6 col12\" >0.0000%</td>\n",
       "      <td id=\"T_c18cd_row6_col13\" class=\"data row6 col13\" >1.00</td>\n",
       "      <td id=\"T_c18cd_row6_col14\" class=\"data row6 col14\" >LinAct360</td>\n",
       "    </tr>\n",
       "    <tr>\n",
       "      <th id=\"T_c18cd_level0_row7\" class=\"row_heading level0 row7\" >7</th>\n",
       "      <td id=\"T_c18cd_row7_col0\" class=\"data row7 col0\" >2021-08-12</td>\n",
       "      <td id=\"T_c18cd_row7_col1\" class=\"data row7 col1\" >2021-11-12</td>\n",
       "      <td id=\"T_c18cd_row7_col2\" class=\"data row7 col2\" >2021-08-10</td>\n",
       "      <td id=\"T_c18cd_row7_col3\" class=\"data row7 col3\" >2021-11-12</td>\n",
       "      <td id=\"T_c18cd_row7_col4\" class=\"data row7 col4\" >20,000,000.00</td>\n",
       "      <td id=\"T_c18cd_row7_col5\" class=\"data row7 col5\" >0.00</td>\n",
       "      <td id=\"T_c18cd_row7_col6\" class=\"data row7 col6\" >0.00</td>\n",
       "      <td id=\"T_c18cd_row7_col7\" class=\"data row7 col7\" >True</td>\n",
       "      <td id=\"T_c18cd_row7_col8\" class=\"data row7 col8\" >0.00</td>\n",
       "      <td id=\"T_c18cd_row7_col9\" class=\"data row7 col9\" >USD</td>\n",
       "      <td id=\"T_c18cd_row7_col10\" class=\"data row7 col10\" >LIBORUSD3M</td>\n",
       "      <td id=\"T_c18cd_row7_col11\" class=\"data row7 col11\" >0.0000%</td>\n",
       "      <td id=\"T_c18cd_row7_col12\" class=\"data row7 col12\" >0.0000%</td>\n",
       "      <td id=\"T_c18cd_row7_col13\" class=\"data row7 col13\" >1.00</td>\n",
       "      <td id=\"T_c18cd_row7_col14\" class=\"data row7 col14\" >LinAct360</td>\n",
       "    </tr>\n",
       "    <tr>\n",
       "      <th id=\"T_c18cd_level0_row8\" class=\"row_heading level0 row8\" >8</th>\n",
       "      <td id=\"T_c18cd_row8_col0\" class=\"data row8 col0\" >2021-11-12</td>\n",
       "      <td id=\"T_c18cd_row8_col1\" class=\"data row8 col1\" >2022-02-14</td>\n",
       "      <td id=\"T_c18cd_row8_col2\" class=\"data row8 col2\" >2021-11-10</td>\n",
       "      <td id=\"T_c18cd_row8_col3\" class=\"data row8 col3\" >2022-02-14</td>\n",
       "      <td id=\"T_c18cd_row8_col4\" class=\"data row8 col4\" >20,000,000.00</td>\n",
       "      <td id=\"T_c18cd_row8_col5\" class=\"data row8 col5\" >0.00</td>\n",
       "      <td id=\"T_c18cd_row8_col6\" class=\"data row8 col6\" >0.00</td>\n",
       "      <td id=\"T_c18cd_row8_col7\" class=\"data row8 col7\" >True</td>\n",
       "      <td id=\"T_c18cd_row8_col8\" class=\"data row8 col8\" >0.00</td>\n",
       "      <td id=\"T_c18cd_row8_col9\" class=\"data row8 col9\" >USD</td>\n",
       "      <td id=\"T_c18cd_row8_col10\" class=\"data row8 col10\" >LIBORUSD3M</td>\n",
       "      <td id=\"T_c18cd_row8_col11\" class=\"data row8 col11\" >0.0000%</td>\n",
       "      <td id=\"T_c18cd_row8_col12\" class=\"data row8 col12\" >0.0000%</td>\n",
       "      <td id=\"T_c18cd_row8_col13\" class=\"data row8 col13\" >1.00</td>\n",
       "      <td id=\"T_c18cd_row8_col14\" class=\"data row8 col14\" >LinAct360</td>\n",
       "    </tr>\n",
       "    <tr>\n",
       "      <th id=\"T_c18cd_level0_row9\" class=\"row_heading level0 row9\" >9</th>\n",
       "      <td id=\"T_c18cd_row9_col0\" class=\"data row9 col0\" >2022-02-14</td>\n",
       "      <td id=\"T_c18cd_row9_col1\" class=\"data row9 col1\" >2022-05-12</td>\n",
       "      <td id=\"T_c18cd_row9_col2\" class=\"data row9 col2\" >2022-02-10</td>\n",
       "      <td id=\"T_c18cd_row9_col3\" class=\"data row9 col3\" >2022-05-12</td>\n",
       "      <td id=\"T_c18cd_row9_col4\" class=\"data row9 col4\" >20,000,000.00</td>\n",
       "      <td id=\"T_c18cd_row9_col5\" class=\"data row9 col5\" >0.00</td>\n",
       "      <td id=\"T_c18cd_row9_col6\" class=\"data row9 col6\" >0.00</td>\n",
       "      <td id=\"T_c18cd_row9_col7\" class=\"data row9 col7\" >True</td>\n",
       "      <td id=\"T_c18cd_row9_col8\" class=\"data row9 col8\" >0.00</td>\n",
       "      <td id=\"T_c18cd_row9_col9\" class=\"data row9 col9\" >USD</td>\n",
       "      <td id=\"T_c18cd_row9_col10\" class=\"data row9 col10\" >LIBORUSD3M</td>\n",
       "      <td id=\"T_c18cd_row9_col11\" class=\"data row9 col11\" >0.0000%</td>\n",
       "      <td id=\"T_c18cd_row9_col12\" class=\"data row9 col12\" >0.0000%</td>\n",
       "      <td id=\"T_c18cd_row9_col13\" class=\"data row9 col13\" >1.00</td>\n",
       "      <td id=\"T_c18cd_row9_col14\" class=\"data row9 col14\" >LinAct360</td>\n",
       "    </tr>\n",
       "    <tr>\n",
       "      <th id=\"T_c18cd_level0_row10\" class=\"row_heading level0 row10\" >10</th>\n",
       "      <td id=\"T_c18cd_row10_col0\" class=\"data row10 col0\" >2022-05-12</td>\n",
       "      <td id=\"T_c18cd_row10_col1\" class=\"data row10 col1\" >2022-08-12</td>\n",
       "      <td id=\"T_c18cd_row10_col2\" class=\"data row10 col2\" >2022-05-10</td>\n",
       "      <td id=\"T_c18cd_row10_col3\" class=\"data row10 col3\" >2022-08-12</td>\n",
       "      <td id=\"T_c18cd_row10_col4\" class=\"data row10 col4\" >20,000,000.00</td>\n",
       "      <td id=\"T_c18cd_row10_col5\" class=\"data row10 col5\" >0.00</td>\n",
       "      <td id=\"T_c18cd_row10_col6\" class=\"data row10 col6\" >0.00</td>\n",
       "      <td id=\"T_c18cd_row10_col7\" class=\"data row10 col7\" >True</td>\n",
       "      <td id=\"T_c18cd_row10_col8\" class=\"data row10 col8\" >0.00</td>\n",
       "      <td id=\"T_c18cd_row10_col9\" class=\"data row10 col9\" >USD</td>\n",
       "      <td id=\"T_c18cd_row10_col10\" class=\"data row10 col10\" >LIBORUSD3M</td>\n",
       "      <td id=\"T_c18cd_row10_col11\" class=\"data row10 col11\" >0.0000%</td>\n",
       "      <td id=\"T_c18cd_row10_col12\" class=\"data row10 col12\" >0.0000%</td>\n",
       "      <td id=\"T_c18cd_row10_col13\" class=\"data row10 col13\" >1.00</td>\n",
       "      <td id=\"T_c18cd_row10_col14\" class=\"data row10 col14\" >LinAct360</td>\n",
       "    </tr>\n",
       "    <tr>\n",
       "      <th id=\"T_c18cd_level0_row11\" class=\"row_heading level0 row11\" >11</th>\n",
       "      <td id=\"T_c18cd_row11_col0\" class=\"data row11 col0\" >2022-08-12</td>\n",
       "      <td id=\"T_c18cd_row11_col1\" class=\"data row11 col1\" >2022-11-14</td>\n",
       "      <td id=\"T_c18cd_row11_col2\" class=\"data row11 col2\" >2022-08-10</td>\n",
       "      <td id=\"T_c18cd_row11_col3\" class=\"data row11 col3\" >2022-11-14</td>\n",
       "      <td id=\"T_c18cd_row11_col4\" class=\"data row11 col4\" >20,000,000.00</td>\n",
       "      <td id=\"T_c18cd_row11_col5\" class=\"data row11 col5\" >0.00</td>\n",
       "      <td id=\"T_c18cd_row11_col6\" class=\"data row11 col6\" >0.00</td>\n",
       "      <td id=\"T_c18cd_row11_col7\" class=\"data row11 col7\" >True</td>\n",
       "      <td id=\"T_c18cd_row11_col8\" class=\"data row11 col8\" >0.00</td>\n",
       "      <td id=\"T_c18cd_row11_col9\" class=\"data row11 col9\" >USD</td>\n",
       "      <td id=\"T_c18cd_row11_col10\" class=\"data row11 col10\" >LIBORUSD3M</td>\n",
       "      <td id=\"T_c18cd_row11_col11\" class=\"data row11 col11\" >0.0000%</td>\n",
       "      <td id=\"T_c18cd_row11_col12\" class=\"data row11 col12\" >0.0000%</td>\n",
       "      <td id=\"T_c18cd_row11_col13\" class=\"data row11 col13\" >1.00</td>\n",
       "      <td id=\"T_c18cd_row11_col14\" class=\"data row11 col14\" >LinAct360</td>\n",
       "    </tr>\n",
       "    <tr>\n",
       "      <th id=\"T_c18cd_level0_row12\" class=\"row_heading level0 row12\" >12</th>\n",
       "      <td id=\"T_c18cd_row12_col0\" class=\"data row12 col0\" >2022-11-14</td>\n",
       "      <td id=\"T_c18cd_row12_col1\" class=\"data row12 col1\" >2023-02-13</td>\n",
       "      <td id=\"T_c18cd_row12_col2\" class=\"data row12 col2\" >2022-11-10</td>\n",
       "      <td id=\"T_c18cd_row12_col3\" class=\"data row12 col3\" >2023-02-13</td>\n",
       "      <td id=\"T_c18cd_row12_col4\" class=\"data row12 col4\" >20,000,000.00</td>\n",
       "      <td id=\"T_c18cd_row12_col5\" class=\"data row12 col5\" >0.00</td>\n",
       "      <td id=\"T_c18cd_row12_col6\" class=\"data row12 col6\" >0.00</td>\n",
       "      <td id=\"T_c18cd_row12_col7\" class=\"data row12 col7\" >True</td>\n",
       "      <td id=\"T_c18cd_row12_col8\" class=\"data row12 col8\" >0.00</td>\n",
       "      <td id=\"T_c18cd_row12_col9\" class=\"data row12 col9\" >USD</td>\n",
       "      <td id=\"T_c18cd_row12_col10\" class=\"data row12 col10\" >LIBORUSD3M</td>\n",
       "      <td id=\"T_c18cd_row12_col11\" class=\"data row12 col11\" >0.0000%</td>\n",
       "      <td id=\"T_c18cd_row12_col12\" class=\"data row12 col12\" >0.0000%</td>\n",
       "      <td id=\"T_c18cd_row12_col13\" class=\"data row12 col13\" >1.00</td>\n",
       "      <td id=\"T_c18cd_row12_col14\" class=\"data row12 col14\" >LinAct360</td>\n",
       "    </tr>\n",
       "    <tr>\n",
       "      <th id=\"T_c18cd_level0_row13\" class=\"row_heading level0 row13\" >13</th>\n",
       "      <td id=\"T_c18cd_row13_col0\" class=\"data row13 col0\" >2023-02-13</td>\n",
       "      <td id=\"T_c18cd_row13_col1\" class=\"data row13 col1\" >2023-05-12</td>\n",
       "      <td id=\"T_c18cd_row13_col2\" class=\"data row13 col2\" >2023-02-09</td>\n",
       "      <td id=\"T_c18cd_row13_col3\" class=\"data row13 col3\" >2023-05-12</td>\n",
       "      <td id=\"T_c18cd_row13_col4\" class=\"data row13 col4\" >20,000,000.00</td>\n",
       "      <td id=\"T_c18cd_row13_col5\" class=\"data row13 col5\" >0.00</td>\n",
       "      <td id=\"T_c18cd_row13_col6\" class=\"data row13 col6\" >0.00</td>\n",
       "      <td id=\"T_c18cd_row13_col7\" class=\"data row13 col7\" >True</td>\n",
       "      <td id=\"T_c18cd_row13_col8\" class=\"data row13 col8\" >0.00</td>\n",
       "      <td id=\"T_c18cd_row13_col9\" class=\"data row13 col9\" >USD</td>\n",
       "      <td id=\"T_c18cd_row13_col10\" class=\"data row13 col10\" >LIBORUSD3M</td>\n",
       "      <td id=\"T_c18cd_row13_col11\" class=\"data row13 col11\" >0.0000%</td>\n",
       "      <td id=\"T_c18cd_row13_col12\" class=\"data row13 col12\" >0.0000%</td>\n",
       "      <td id=\"T_c18cd_row13_col13\" class=\"data row13 col13\" >1.00</td>\n",
       "      <td id=\"T_c18cd_row13_col14\" class=\"data row13 col14\" >LinAct360</td>\n",
       "    </tr>\n",
       "    <tr>\n",
       "      <th id=\"T_c18cd_level0_row14\" class=\"row_heading level0 row14\" >14</th>\n",
       "      <td id=\"T_c18cd_row14_col0\" class=\"data row14 col0\" >2023-05-12</td>\n",
       "      <td id=\"T_c18cd_row14_col1\" class=\"data row14 col1\" >2023-08-14</td>\n",
       "      <td id=\"T_c18cd_row14_col2\" class=\"data row14 col2\" >2023-05-10</td>\n",
       "      <td id=\"T_c18cd_row14_col3\" class=\"data row14 col3\" >2023-08-14</td>\n",
       "      <td id=\"T_c18cd_row14_col4\" class=\"data row14 col4\" >20,000,000.00</td>\n",
       "      <td id=\"T_c18cd_row14_col5\" class=\"data row14 col5\" >0.00</td>\n",
       "      <td id=\"T_c18cd_row14_col6\" class=\"data row14 col6\" >0.00</td>\n",
       "      <td id=\"T_c18cd_row14_col7\" class=\"data row14 col7\" >True</td>\n",
       "      <td id=\"T_c18cd_row14_col8\" class=\"data row14 col8\" >0.00</td>\n",
       "      <td id=\"T_c18cd_row14_col9\" class=\"data row14 col9\" >USD</td>\n",
       "      <td id=\"T_c18cd_row14_col10\" class=\"data row14 col10\" >LIBORUSD3M</td>\n",
       "      <td id=\"T_c18cd_row14_col11\" class=\"data row14 col11\" >0.0000%</td>\n",
       "      <td id=\"T_c18cd_row14_col12\" class=\"data row14 col12\" >0.0000%</td>\n",
       "      <td id=\"T_c18cd_row14_col13\" class=\"data row14 col13\" >1.00</td>\n",
       "      <td id=\"T_c18cd_row14_col14\" class=\"data row14 col14\" >LinAct360</td>\n",
       "    </tr>\n",
       "    <tr>\n",
       "      <th id=\"T_c18cd_level0_row15\" class=\"row_heading level0 row15\" >15</th>\n",
       "      <td id=\"T_c18cd_row15_col0\" class=\"data row15 col0\" >2023-08-14</td>\n",
       "      <td id=\"T_c18cd_row15_col1\" class=\"data row15 col1\" >2023-11-13</td>\n",
       "      <td id=\"T_c18cd_row15_col2\" class=\"data row15 col2\" >2023-08-10</td>\n",
       "      <td id=\"T_c18cd_row15_col3\" class=\"data row15 col3\" >2023-11-13</td>\n",
       "      <td id=\"T_c18cd_row15_col4\" class=\"data row15 col4\" >20,000,000.00</td>\n",
       "      <td id=\"T_c18cd_row15_col5\" class=\"data row15 col5\" >0.00</td>\n",
       "      <td id=\"T_c18cd_row15_col6\" class=\"data row15 col6\" >0.00</td>\n",
       "      <td id=\"T_c18cd_row15_col7\" class=\"data row15 col7\" >True</td>\n",
       "      <td id=\"T_c18cd_row15_col8\" class=\"data row15 col8\" >0.00</td>\n",
       "      <td id=\"T_c18cd_row15_col9\" class=\"data row15 col9\" >USD</td>\n",
       "      <td id=\"T_c18cd_row15_col10\" class=\"data row15 col10\" >LIBORUSD3M</td>\n",
       "      <td id=\"T_c18cd_row15_col11\" class=\"data row15 col11\" >0.0000%</td>\n",
       "      <td id=\"T_c18cd_row15_col12\" class=\"data row15 col12\" >0.0000%</td>\n",
       "      <td id=\"T_c18cd_row15_col13\" class=\"data row15 col13\" >1.00</td>\n",
       "      <td id=\"T_c18cd_row15_col14\" class=\"data row15 col14\" >LinAct360</td>\n",
       "    </tr>\n",
       "    <tr>\n",
       "      <th id=\"T_c18cd_level0_row16\" class=\"row_heading level0 row16\" >16</th>\n",
       "      <td id=\"T_c18cd_row16_col0\" class=\"data row16 col0\" >2023-11-13</td>\n",
       "      <td id=\"T_c18cd_row16_col1\" class=\"data row16 col1\" >2024-02-12</td>\n",
       "      <td id=\"T_c18cd_row16_col2\" class=\"data row16 col2\" >2023-11-09</td>\n",
       "      <td id=\"T_c18cd_row16_col3\" class=\"data row16 col3\" >2024-02-12</td>\n",
       "      <td id=\"T_c18cd_row16_col4\" class=\"data row16 col4\" >20,000,000.00</td>\n",
       "      <td id=\"T_c18cd_row16_col5\" class=\"data row16 col5\" >0.00</td>\n",
       "      <td id=\"T_c18cd_row16_col6\" class=\"data row16 col6\" >0.00</td>\n",
       "      <td id=\"T_c18cd_row16_col7\" class=\"data row16 col7\" >True</td>\n",
       "      <td id=\"T_c18cd_row16_col8\" class=\"data row16 col8\" >0.00</td>\n",
       "      <td id=\"T_c18cd_row16_col9\" class=\"data row16 col9\" >USD</td>\n",
       "      <td id=\"T_c18cd_row16_col10\" class=\"data row16 col10\" >LIBORUSD3M</td>\n",
       "      <td id=\"T_c18cd_row16_col11\" class=\"data row16 col11\" >0.0000%</td>\n",
       "      <td id=\"T_c18cd_row16_col12\" class=\"data row16 col12\" >0.0000%</td>\n",
       "      <td id=\"T_c18cd_row16_col13\" class=\"data row16 col13\" >1.00</td>\n",
       "      <td id=\"T_c18cd_row16_col14\" class=\"data row16 col14\" >LinAct360</td>\n",
       "    </tr>\n",
       "    <tr>\n",
       "      <th id=\"T_c18cd_level0_row17\" class=\"row_heading level0 row17\" >17</th>\n",
       "      <td id=\"T_c18cd_row17_col0\" class=\"data row17 col0\" >2024-02-12</td>\n",
       "      <td id=\"T_c18cd_row17_col1\" class=\"data row17 col1\" >2024-05-13</td>\n",
       "      <td id=\"T_c18cd_row17_col2\" class=\"data row17 col2\" >2024-02-08</td>\n",
       "      <td id=\"T_c18cd_row17_col3\" class=\"data row17 col3\" >2024-05-13</td>\n",
       "      <td id=\"T_c18cd_row17_col4\" class=\"data row17 col4\" >20,000,000.00</td>\n",
       "      <td id=\"T_c18cd_row17_col5\" class=\"data row17 col5\" >0.00</td>\n",
       "      <td id=\"T_c18cd_row17_col6\" class=\"data row17 col6\" >0.00</td>\n",
       "      <td id=\"T_c18cd_row17_col7\" class=\"data row17 col7\" >True</td>\n",
       "      <td id=\"T_c18cd_row17_col8\" class=\"data row17 col8\" >0.00</td>\n",
       "      <td id=\"T_c18cd_row17_col9\" class=\"data row17 col9\" >USD</td>\n",
       "      <td id=\"T_c18cd_row17_col10\" class=\"data row17 col10\" >LIBORUSD3M</td>\n",
       "      <td id=\"T_c18cd_row17_col11\" class=\"data row17 col11\" >0.0000%</td>\n",
       "      <td id=\"T_c18cd_row17_col12\" class=\"data row17 col12\" >0.0000%</td>\n",
       "      <td id=\"T_c18cd_row17_col13\" class=\"data row17 col13\" >1.00</td>\n",
       "      <td id=\"T_c18cd_row17_col14\" class=\"data row17 col14\" >LinAct360</td>\n",
       "    </tr>\n",
       "    <tr>\n",
       "      <th id=\"T_c18cd_level0_row18\" class=\"row_heading level0 row18\" >18</th>\n",
       "      <td id=\"T_c18cd_row18_col0\" class=\"data row18 col0\" >2024-05-13</td>\n",
       "      <td id=\"T_c18cd_row18_col1\" class=\"data row18 col1\" >2024-08-12</td>\n",
       "      <td id=\"T_c18cd_row18_col2\" class=\"data row18 col2\" >2024-05-09</td>\n",
       "      <td id=\"T_c18cd_row18_col3\" class=\"data row18 col3\" >2024-08-12</td>\n",
       "      <td id=\"T_c18cd_row18_col4\" class=\"data row18 col4\" >20,000,000.00</td>\n",
       "      <td id=\"T_c18cd_row18_col5\" class=\"data row18 col5\" >0.00</td>\n",
       "      <td id=\"T_c18cd_row18_col6\" class=\"data row18 col6\" >0.00</td>\n",
       "      <td id=\"T_c18cd_row18_col7\" class=\"data row18 col7\" >True</td>\n",
       "      <td id=\"T_c18cd_row18_col8\" class=\"data row18 col8\" >0.00</td>\n",
       "      <td id=\"T_c18cd_row18_col9\" class=\"data row18 col9\" >USD</td>\n",
       "      <td id=\"T_c18cd_row18_col10\" class=\"data row18 col10\" >LIBORUSD3M</td>\n",
       "      <td id=\"T_c18cd_row18_col11\" class=\"data row18 col11\" >0.0000%</td>\n",
       "      <td id=\"T_c18cd_row18_col12\" class=\"data row18 col12\" >0.0000%</td>\n",
       "      <td id=\"T_c18cd_row18_col13\" class=\"data row18 col13\" >1.00</td>\n",
       "      <td id=\"T_c18cd_row18_col14\" class=\"data row18 col14\" >LinAct360</td>\n",
       "    </tr>\n",
       "    <tr>\n",
       "      <th id=\"T_c18cd_level0_row19\" class=\"row_heading level0 row19\" >19</th>\n",
       "      <td id=\"T_c18cd_row19_col0\" class=\"data row19 col0\" >2024-08-12</td>\n",
       "      <td id=\"T_c18cd_row19_col1\" class=\"data row19 col1\" >2024-11-12</td>\n",
       "      <td id=\"T_c18cd_row19_col2\" class=\"data row19 col2\" >2024-08-08</td>\n",
       "      <td id=\"T_c18cd_row19_col3\" class=\"data row19 col3\" >2024-11-12</td>\n",
       "      <td id=\"T_c18cd_row19_col4\" class=\"data row19 col4\" >20,000,000.00</td>\n",
       "      <td id=\"T_c18cd_row19_col5\" class=\"data row19 col5\" >0.00</td>\n",
       "      <td id=\"T_c18cd_row19_col6\" class=\"data row19 col6\" >0.00</td>\n",
       "      <td id=\"T_c18cd_row19_col7\" class=\"data row19 col7\" >True</td>\n",
       "      <td id=\"T_c18cd_row19_col8\" class=\"data row19 col8\" >0.00</td>\n",
       "      <td id=\"T_c18cd_row19_col9\" class=\"data row19 col9\" >USD</td>\n",
       "      <td id=\"T_c18cd_row19_col10\" class=\"data row19 col10\" >LIBORUSD3M</td>\n",
       "      <td id=\"T_c18cd_row19_col11\" class=\"data row19 col11\" >0.0000%</td>\n",
       "      <td id=\"T_c18cd_row19_col12\" class=\"data row19 col12\" >0.0000%</td>\n",
       "      <td id=\"T_c18cd_row19_col13\" class=\"data row19 col13\" >1.00</td>\n",
       "      <td id=\"T_c18cd_row19_col14\" class=\"data row19 col14\" >LinAct360</td>\n",
       "    </tr>\n",
       "    <tr>\n",
       "      <th id=\"T_c18cd_level0_row20\" class=\"row_heading level0 row20\" >20</th>\n",
       "      <td id=\"T_c18cd_row20_col0\" class=\"data row20 col0\" >2024-11-12</td>\n",
       "      <td id=\"T_c18cd_row20_col1\" class=\"data row20 col1\" >2025-02-12</td>\n",
       "      <td id=\"T_c18cd_row20_col2\" class=\"data row20 col2\" >2024-11-08</td>\n",
       "      <td id=\"T_c18cd_row20_col3\" class=\"data row20 col3\" >2025-02-12</td>\n",
       "      <td id=\"T_c18cd_row20_col4\" class=\"data row20 col4\" >20,000,000.00</td>\n",
       "      <td id=\"T_c18cd_row20_col5\" class=\"data row20 col5\" >0.00</td>\n",
       "      <td id=\"T_c18cd_row20_col6\" class=\"data row20 col6\" >0.00</td>\n",
       "      <td id=\"T_c18cd_row20_col7\" class=\"data row20 col7\" >True</td>\n",
       "      <td id=\"T_c18cd_row20_col8\" class=\"data row20 col8\" >0.00</td>\n",
       "      <td id=\"T_c18cd_row20_col9\" class=\"data row20 col9\" >USD</td>\n",
       "      <td id=\"T_c18cd_row20_col10\" class=\"data row20 col10\" >LIBORUSD3M</td>\n",
       "      <td id=\"T_c18cd_row20_col11\" class=\"data row20 col11\" >0.0000%</td>\n",
       "      <td id=\"T_c18cd_row20_col12\" class=\"data row20 col12\" >0.0000%</td>\n",
       "      <td id=\"T_c18cd_row20_col13\" class=\"data row20 col13\" >1.00</td>\n",
       "      <td id=\"T_c18cd_row20_col14\" class=\"data row20 col14\" >LinAct360</td>\n",
       "    </tr>\n",
       "    <tr>\n",
       "      <th id=\"T_c18cd_level0_row21\" class=\"row_heading level0 row21\" >21</th>\n",
       "      <td id=\"T_c18cd_row21_col0\" class=\"data row21 col0\" >2025-02-12</td>\n",
       "      <td id=\"T_c18cd_row21_col1\" class=\"data row21 col1\" >2025-05-12</td>\n",
       "      <td id=\"T_c18cd_row21_col2\" class=\"data row21 col2\" >2025-02-10</td>\n",
       "      <td id=\"T_c18cd_row21_col3\" class=\"data row21 col3\" >2025-05-12</td>\n",
       "      <td id=\"T_c18cd_row21_col4\" class=\"data row21 col4\" >20,000,000.00</td>\n",
       "      <td id=\"T_c18cd_row21_col5\" class=\"data row21 col5\" >0.00</td>\n",
       "      <td id=\"T_c18cd_row21_col6\" class=\"data row21 col6\" >0.00</td>\n",
       "      <td id=\"T_c18cd_row21_col7\" class=\"data row21 col7\" >True</td>\n",
       "      <td id=\"T_c18cd_row21_col8\" class=\"data row21 col8\" >0.00</td>\n",
       "      <td id=\"T_c18cd_row21_col9\" class=\"data row21 col9\" >USD</td>\n",
       "      <td id=\"T_c18cd_row21_col10\" class=\"data row21 col10\" >LIBORUSD3M</td>\n",
       "      <td id=\"T_c18cd_row21_col11\" class=\"data row21 col11\" >0.0000%</td>\n",
       "      <td id=\"T_c18cd_row21_col12\" class=\"data row21 col12\" >0.0000%</td>\n",
       "      <td id=\"T_c18cd_row21_col13\" class=\"data row21 col13\" >1.00</td>\n",
       "      <td id=\"T_c18cd_row21_col14\" class=\"data row21 col14\" >LinAct360</td>\n",
       "    </tr>\n",
       "    <tr>\n",
       "      <th id=\"T_c18cd_level0_row22\" class=\"row_heading level0 row22\" >22</th>\n",
       "      <td id=\"T_c18cd_row22_col0\" class=\"data row22 col0\" >2025-05-12</td>\n",
       "      <td id=\"T_c18cd_row22_col1\" class=\"data row22 col1\" >2025-08-12</td>\n",
       "      <td id=\"T_c18cd_row22_col2\" class=\"data row22 col2\" >2025-05-08</td>\n",
       "      <td id=\"T_c18cd_row22_col3\" class=\"data row22 col3\" >2025-08-12</td>\n",
       "      <td id=\"T_c18cd_row22_col4\" class=\"data row22 col4\" >20,000,000.00</td>\n",
       "      <td id=\"T_c18cd_row22_col5\" class=\"data row22 col5\" >0.00</td>\n",
       "      <td id=\"T_c18cd_row22_col6\" class=\"data row22 col6\" >0.00</td>\n",
       "      <td id=\"T_c18cd_row22_col7\" class=\"data row22 col7\" >True</td>\n",
       "      <td id=\"T_c18cd_row22_col8\" class=\"data row22 col8\" >0.00</td>\n",
       "      <td id=\"T_c18cd_row22_col9\" class=\"data row22 col9\" >USD</td>\n",
       "      <td id=\"T_c18cd_row22_col10\" class=\"data row22 col10\" >LIBORUSD3M</td>\n",
       "      <td id=\"T_c18cd_row22_col11\" class=\"data row22 col11\" >0.0000%</td>\n",
       "      <td id=\"T_c18cd_row22_col12\" class=\"data row22 col12\" >0.0000%</td>\n",
       "      <td id=\"T_c18cd_row22_col13\" class=\"data row22 col13\" >1.00</td>\n",
       "      <td id=\"T_c18cd_row22_col14\" class=\"data row22 col14\" >LinAct360</td>\n",
       "    </tr>\n",
       "    <tr>\n",
       "      <th id=\"T_c18cd_level0_row23\" class=\"row_heading level0 row23\" >23</th>\n",
       "      <td id=\"T_c18cd_row23_col0\" class=\"data row23 col0\" >2025-08-12</td>\n",
       "      <td id=\"T_c18cd_row23_col1\" class=\"data row23 col1\" >2025-11-12</td>\n",
       "      <td id=\"T_c18cd_row23_col2\" class=\"data row23 col2\" >2025-08-08</td>\n",
       "      <td id=\"T_c18cd_row23_col3\" class=\"data row23 col3\" >2025-11-12</td>\n",
       "      <td id=\"T_c18cd_row23_col4\" class=\"data row23 col4\" >20,000,000.00</td>\n",
       "      <td id=\"T_c18cd_row23_col5\" class=\"data row23 col5\" >0.00</td>\n",
       "      <td id=\"T_c18cd_row23_col6\" class=\"data row23 col6\" >0.00</td>\n",
       "      <td id=\"T_c18cd_row23_col7\" class=\"data row23 col7\" >True</td>\n",
       "      <td id=\"T_c18cd_row23_col8\" class=\"data row23 col8\" >0.00</td>\n",
       "      <td id=\"T_c18cd_row23_col9\" class=\"data row23 col9\" >USD</td>\n",
       "      <td id=\"T_c18cd_row23_col10\" class=\"data row23 col10\" >LIBORUSD3M</td>\n",
       "      <td id=\"T_c18cd_row23_col11\" class=\"data row23 col11\" >0.0000%</td>\n",
       "      <td id=\"T_c18cd_row23_col12\" class=\"data row23 col12\" >0.0000%</td>\n",
       "      <td id=\"T_c18cd_row23_col13\" class=\"data row23 col13\" >1.00</td>\n",
       "      <td id=\"T_c18cd_row23_col14\" class=\"data row23 col14\" >LinAct360</td>\n",
       "    </tr>\n",
       "    <tr>\n",
       "      <th id=\"T_c18cd_level0_row24\" class=\"row_heading level0 row24\" >24</th>\n",
       "      <td id=\"T_c18cd_row24_col0\" class=\"data row24 col0\" >2025-11-12</td>\n",
       "      <td id=\"T_c18cd_row24_col1\" class=\"data row24 col1\" >2026-02-12</td>\n",
       "      <td id=\"T_c18cd_row24_col2\" class=\"data row24 col2\" >2025-11-10</td>\n",
       "      <td id=\"T_c18cd_row24_col3\" class=\"data row24 col3\" >2026-02-12</td>\n",
       "      <td id=\"T_c18cd_row24_col4\" class=\"data row24 col4\" >20,000,000.00</td>\n",
       "      <td id=\"T_c18cd_row24_col5\" class=\"data row24 col5\" >0.00</td>\n",
       "      <td id=\"T_c18cd_row24_col6\" class=\"data row24 col6\" >0.00</td>\n",
       "      <td id=\"T_c18cd_row24_col7\" class=\"data row24 col7\" >True</td>\n",
       "      <td id=\"T_c18cd_row24_col8\" class=\"data row24 col8\" >0.00</td>\n",
       "      <td id=\"T_c18cd_row24_col9\" class=\"data row24 col9\" >USD</td>\n",
       "      <td id=\"T_c18cd_row24_col10\" class=\"data row24 col10\" >LIBORUSD3M</td>\n",
       "      <td id=\"T_c18cd_row24_col11\" class=\"data row24 col11\" >0.0000%</td>\n",
       "      <td id=\"T_c18cd_row24_col12\" class=\"data row24 col12\" >0.0000%</td>\n",
       "      <td id=\"T_c18cd_row24_col13\" class=\"data row24 col13\" >1.00</td>\n",
       "      <td id=\"T_c18cd_row24_col14\" class=\"data row24 col14\" >LinAct360</td>\n",
       "    </tr>\n",
       "    <tr>\n",
       "      <th id=\"T_c18cd_level0_row25\" class=\"row_heading level0 row25\" >25</th>\n",
       "      <td id=\"T_c18cd_row25_col0\" class=\"data row25 col0\" >2026-02-12</td>\n",
       "      <td id=\"T_c18cd_row25_col1\" class=\"data row25 col1\" >2026-05-12</td>\n",
       "      <td id=\"T_c18cd_row25_col2\" class=\"data row25 col2\" >2026-02-10</td>\n",
       "      <td id=\"T_c18cd_row25_col3\" class=\"data row25 col3\" >2026-05-12</td>\n",
       "      <td id=\"T_c18cd_row25_col4\" class=\"data row25 col4\" >20,000,000.00</td>\n",
       "      <td id=\"T_c18cd_row25_col5\" class=\"data row25 col5\" >0.00</td>\n",
       "      <td id=\"T_c18cd_row25_col6\" class=\"data row25 col6\" >0.00</td>\n",
       "      <td id=\"T_c18cd_row25_col7\" class=\"data row25 col7\" >True</td>\n",
       "      <td id=\"T_c18cd_row25_col8\" class=\"data row25 col8\" >0.00</td>\n",
       "      <td id=\"T_c18cd_row25_col9\" class=\"data row25 col9\" >USD</td>\n",
       "      <td id=\"T_c18cd_row25_col10\" class=\"data row25 col10\" >LIBORUSD3M</td>\n",
       "      <td id=\"T_c18cd_row25_col11\" class=\"data row25 col11\" >0.0000%</td>\n",
       "      <td id=\"T_c18cd_row25_col12\" class=\"data row25 col12\" >0.0000%</td>\n",
       "      <td id=\"T_c18cd_row25_col13\" class=\"data row25 col13\" >1.00</td>\n",
       "      <td id=\"T_c18cd_row25_col14\" class=\"data row25 col14\" >LinAct360</td>\n",
       "    </tr>\n",
       "    <tr>\n",
       "      <th id=\"T_c18cd_level0_row26\" class=\"row_heading level0 row26\" >26</th>\n",
       "      <td id=\"T_c18cd_row26_col0\" class=\"data row26 col0\" >2026-05-12</td>\n",
       "      <td id=\"T_c18cd_row26_col1\" class=\"data row26 col1\" >2026-08-12</td>\n",
       "      <td id=\"T_c18cd_row26_col2\" class=\"data row26 col2\" >2026-05-08</td>\n",
       "      <td id=\"T_c18cd_row26_col3\" class=\"data row26 col3\" >2026-08-12</td>\n",
       "      <td id=\"T_c18cd_row26_col4\" class=\"data row26 col4\" >20,000,000.00</td>\n",
       "      <td id=\"T_c18cd_row26_col5\" class=\"data row26 col5\" >0.00</td>\n",
       "      <td id=\"T_c18cd_row26_col6\" class=\"data row26 col6\" >0.00</td>\n",
       "      <td id=\"T_c18cd_row26_col7\" class=\"data row26 col7\" >True</td>\n",
       "      <td id=\"T_c18cd_row26_col8\" class=\"data row26 col8\" >0.00</td>\n",
       "      <td id=\"T_c18cd_row26_col9\" class=\"data row26 col9\" >USD</td>\n",
       "      <td id=\"T_c18cd_row26_col10\" class=\"data row26 col10\" >LIBORUSD3M</td>\n",
       "      <td id=\"T_c18cd_row26_col11\" class=\"data row26 col11\" >0.0000%</td>\n",
       "      <td id=\"T_c18cd_row26_col12\" class=\"data row26 col12\" >0.0000%</td>\n",
       "      <td id=\"T_c18cd_row26_col13\" class=\"data row26 col13\" >1.00</td>\n",
       "      <td id=\"T_c18cd_row26_col14\" class=\"data row26 col14\" >LinAct360</td>\n",
       "    </tr>\n",
       "    <tr>\n",
       "      <th id=\"T_c18cd_level0_row27\" class=\"row_heading level0 row27\" >27</th>\n",
       "      <td id=\"T_c18cd_row27_col0\" class=\"data row27 col0\" >2026-08-12</td>\n",
       "      <td id=\"T_c18cd_row27_col1\" class=\"data row27 col1\" >2026-11-12</td>\n",
       "      <td id=\"T_c18cd_row27_col2\" class=\"data row27 col2\" >2026-08-10</td>\n",
       "      <td id=\"T_c18cd_row27_col3\" class=\"data row27 col3\" >2026-11-12</td>\n",
       "      <td id=\"T_c18cd_row27_col4\" class=\"data row27 col4\" >20,000,000.00</td>\n",
       "      <td id=\"T_c18cd_row27_col5\" class=\"data row27 col5\" >0.00</td>\n",
       "      <td id=\"T_c18cd_row27_col6\" class=\"data row27 col6\" >0.00</td>\n",
       "      <td id=\"T_c18cd_row27_col7\" class=\"data row27 col7\" >True</td>\n",
       "      <td id=\"T_c18cd_row27_col8\" class=\"data row27 col8\" >0.00</td>\n",
       "      <td id=\"T_c18cd_row27_col9\" class=\"data row27 col9\" >USD</td>\n",
       "      <td id=\"T_c18cd_row27_col10\" class=\"data row27 col10\" >LIBORUSD3M</td>\n",
       "      <td id=\"T_c18cd_row27_col11\" class=\"data row27 col11\" >0.0000%</td>\n",
       "      <td id=\"T_c18cd_row27_col12\" class=\"data row27 col12\" >0.0000%</td>\n",
       "      <td id=\"T_c18cd_row27_col13\" class=\"data row27 col13\" >1.00</td>\n",
       "      <td id=\"T_c18cd_row27_col14\" class=\"data row27 col14\" >LinAct360</td>\n",
       "    </tr>\n",
       "    <tr>\n",
       "      <th id=\"T_c18cd_level0_row28\" class=\"row_heading level0 row28\" >28</th>\n",
       "      <td id=\"T_c18cd_row28_col0\" class=\"data row28 col0\" >2026-11-12</td>\n",
       "      <td id=\"T_c18cd_row28_col1\" class=\"data row28 col1\" >2027-02-12</td>\n",
       "      <td id=\"T_c18cd_row28_col2\" class=\"data row28 col2\" >2026-11-10</td>\n",
       "      <td id=\"T_c18cd_row28_col3\" class=\"data row28 col3\" >2027-02-12</td>\n",
       "      <td id=\"T_c18cd_row28_col4\" class=\"data row28 col4\" >20,000,000.00</td>\n",
       "      <td id=\"T_c18cd_row28_col5\" class=\"data row28 col5\" >0.00</td>\n",
       "      <td id=\"T_c18cd_row28_col6\" class=\"data row28 col6\" >0.00</td>\n",
       "      <td id=\"T_c18cd_row28_col7\" class=\"data row28 col7\" >True</td>\n",
       "      <td id=\"T_c18cd_row28_col8\" class=\"data row28 col8\" >0.00</td>\n",
       "      <td id=\"T_c18cd_row28_col9\" class=\"data row28 col9\" >USD</td>\n",
       "      <td id=\"T_c18cd_row28_col10\" class=\"data row28 col10\" >LIBORUSD3M</td>\n",
       "      <td id=\"T_c18cd_row28_col11\" class=\"data row28 col11\" >0.0000%</td>\n",
       "      <td id=\"T_c18cd_row28_col12\" class=\"data row28 col12\" >0.0000%</td>\n",
       "      <td id=\"T_c18cd_row28_col13\" class=\"data row28 col13\" >1.00</td>\n",
       "      <td id=\"T_c18cd_row28_col14\" class=\"data row28 col14\" >LinAct360</td>\n",
       "    </tr>\n",
       "    <tr>\n",
       "      <th id=\"T_c18cd_level0_row29\" class=\"row_heading level0 row29\" >29</th>\n",
       "      <td id=\"T_c18cd_row29_col0\" class=\"data row29 col0\" >2027-02-12</td>\n",
       "      <td id=\"T_c18cd_row29_col1\" class=\"data row29 col1\" >2027-05-12</td>\n",
       "      <td id=\"T_c18cd_row29_col2\" class=\"data row29 col2\" >2027-02-10</td>\n",
       "      <td id=\"T_c18cd_row29_col3\" class=\"data row29 col3\" >2027-05-12</td>\n",
       "      <td id=\"T_c18cd_row29_col4\" class=\"data row29 col4\" >20,000,000.00</td>\n",
       "      <td id=\"T_c18cd_row29_col5\" class=\"data row29 col5\" >0.00</td>\n",
       "      <td id=\"T_c18cd_row29_col6\" class=\"data row29 col6\" >0.00</td>\n",
       "      <td id=\"T_c18cd_row29_col7\" class=\"data row29 col7\" >True</td>\n",
       "      <td id=\"T_c18cd_row29_col8\" class=\"data row29 col8\" >0.00</td>\n",
       "      <td id=\"T_c18cd_row29_col9\" class=\"data row29 col9\" >USD</td>\n",
       "      <td id=\"T_c18cd_row29_col10\" class=\"data row29 col10\" >LIBORUSD3M</td>\n",
       "      <td id=\"T_c18cd_row29_col11\" class=\"data row29 col11\" >0.0000%</td>\n",
       "      <td id=\"T_c18cd_row29_col12\" class=\"data row29 col12\" >0.0000%</td>\n",
       "      <td id=\"T_c18cd_row29_col13\" class=\"data row29 col13\" >1.00</td>\n",
       "      <td id=\"T_c18cd_row29_col14\" class=\"data row29 col14\" >LinAct360</td>\n",
       "    </tr>\n",
       "    <tr>\n",
       "      <th id=\"T_c18cd_level0_row30\" class=\"row_heading level0 row30\" >30</th>\n",
       "      <td id=\"T_c18cd_row30_col0\" class=\"data row30 col0\" >2027-05-12</td>\n",
       "      <td id=\"T_c18cd_row30_col1\" class=\"data row30 col1\" >2027-08-12</td>\n",
       "      <td id=\"T_c18cd_row30_col2\" class=\"data row30 col2\" >2027-05-10</td>\n",
       "      <td id=\"T_c18cd_row30_col3\" class=\"data row30 col3\" >2027-08-12</td>\n",
       "      <td id=\"T_c18cd_row30_col4\" class=\"data row30 col4\" >20,000,000.00</td>\n",
       "      <td id=\"T_c18cd_row30_col5\" class=\"data row30 col5\" >0.00</td>\n",
       "      <td id=\"T_c18cd_row30_col6\" class=\"data row30 col6\" >0.00</td>\n",
       "      <td id=\"T_c18cd_row30_col7\" class=\"data row30 col7\" >True</td>\n",
       "      <td id=\"T_c18cd_row30_col8\" class=\"data row30 col8\" >0.00</td>\n",
       "      <td id=\"T_c18cd_row30_col9\" class=\"data row30 col9\" >USD</td>\n",
       "      <td id=\"T_c18cd_row30_col10\" class=\"data row30 col10\" >LIBORUSD3M</td>\n",
       "      <td id=\"T_c18cd_row30_col11\" class=\"data row30 col11\" >0.0000%</td>\n",
       "      <td id=\"T_c18cd_row30_col12\" class=\"data row30 col12\" >0.0000%</td>\n",
       "      <td id=\"T_c18cd_row30_col13\" class=\"data row30 col13\" >1.00</td>\n",
       "      <td id=\"T_c18cd_row30_col14\" class=\"data row30 col14\" >LinAct360</td>\n",
       "    </tr>\n",
       "    <tr>\n",
       "      <th id=\"T_c18cd_level0_row31\" class=\"row_heading level0 row31\" >31</th>\n",
       "      <td id=\"T_c18cd_row31_col0\" class=\"data row31 col0\" >2027-08-12</td>\n",
       "      <td id=\"T_c18cd_row31_col1\" class=\"data row31 col1\" >2027-11-12</td>\n",
       "      <td id=\"T_c18cd_row31_col2\" class=\"data row31 col2\" >2027-08-10</td>\n",
       "      <td id=\"T_c18cd_row31_col3\" class=\"data row31 col3\" >2027-11-12</td>\n",
       "      <td id=\"T_c18cd_row31_col4\" class=\"data row31 col4\" >20,000,000.00</td>\n",
       "      <td id=\"T_c18cd_row31_col5\" class=\"data row31 col5\" >0.00</td>\n",
       "      <td id=\"T_c18cd_row31_col6\" class=\"data row31 col6\" >0.00</td>\n",
       "      <td id=\"T_c18cd_row31_col7\" class=\"data row31 col7\" >True</td>\n",
       "      <td id=\"T_c18cd_row31_col8\" class=\"data row31 col8\" >0.00</td>\n",
       "      <td id=\"T_c18cd_row31_col9\" class=\"data row31 col9\" >USD</td>\n",
       "      <td id=\"T_c18cd_row31_col10\" class=\"data row31 col10\" >LIBORUSD3M</td>\n",
       "      <td id=\"T_c18cd_row31_col11\" class=\"data row31 col11\" >0.0000%</td>\n",
       "      <td id=\"T_c18cd_row31_col12\" class=\"data row31 col12\" >0.0000%</td>\n",
       "      <td id=\"T_c18cd_row31_col13\" class=\"data row31 col13\" >1.00</td>\n",
       "      <td id=\"T_c18cd_row31_col14\" class=\"data row31 col14\" >LinAct360</td>\n",
       "    </tr>\n",
       "    <tr>\n",
       "      <th id=\"T_c18cd_level0_row32\" class=\"row_heading level0 row32\" >32</th>\n",
       "      <td id=\"T_c18cd_row32_col0\" class=\"data row32 col0\" >2027-11-12</td>\n",
       "      <td id=\"T_c18cd_row32_col1\" class=\"data row32 col1\" >2028-02-14</td>\n",
       "      <td id=\"T_c18cd_row32_col2\" class=\"data row32 col2\" >2027-11-10</td>\n",
       "      <td id=\"T_c18cd_row32_col3\" class=\"data row32 col3\" >2028-02-14</td>\n",
       "      <td id=\"T_c18cd_row32_col4\" class=\"data row32 col4\" >20,000,000.00</td>\n",
       "      <td id=\"T_c18cd_row32_col5\" class=\"data row32 col5\" >0.00</td>\n",
       "      <td id=\"T_c18cd_row32_col6\" class=\"data row32 col6\" >0.00</td>\n",
       "      <td id=\"T_c18cd_row32_col7\" class=\"data row32 col7\" >True</td>\n",
       "      <td id=\"T_c18cd_row32_col8\" class=\"data row32 col8\" >0.00</td>\n",
       "      <td id=\"T_c18cd_row32_col9\" class=\"data row32 col9\" >USD</td>\n",
       "      <td id=\"T_c18cd_row32_col10\" class=\"data row32 col10\" >LIBORUSD3M</td>\n",
       "      <td id=\"T_c18cd_row32_col11\" class=\"data row32 col11\" >0.0000%</td>\n",
       "      <td id=\"T_c18cd_row32_col12\" class=\"data row32 col12\" >0.0000%</td>\n",
       "      <td id=\"T_c18cd_row32_col13\" class=\"data row32 col13\" >1.00</td>\n",
       "      <td id=\"T_c18cd_row32_col14\" class=\"data row32 col14\" >LinAct360</td>\n",
       "    </tr>\n",
       "    <tr>\n",
       "      <th id=\"T_c18cd_level0_row33\" class=\"row_heading level0 row33\" >33</th>\n",
       "      <td id=\"T_c18cd_row33_col0\" class=\"data row33 col0\" >2028-02-14</td>\n",
       "      <td id=\"T_c18cd_row33_col1\" class=\"data row33 col1\" >2028-05-12</td>\n",
       "      <td id=\"T_c18cd_row33_col2\" class=\"data row33 col2\" >2028-02-10</td>\n",
       "      <td id=\"T_c18cd_row33_col3\" class=\"data row33 col3\" >2028-05-12</td>\n",
       "      <td id=\"T_c18cd_row33_col4\" class=\"data row33 col4\" >20,000,000.00</td>\n",
       "      <td id=\"T_c18cd_row33_col5\" class=\"data row33 col5\" >0.00</td>\n",
       "      <td id=\"T_c18cd_row33_col6\" class=\"data row33 col6\" >0.00</td>\n",
       "      <td id=\"T_c18cd_row33_col7\" class=\"data row33 col7\" >True</td>\n",
       "      <td id=\"T_c18cd_row33_col8\" class=\"data row33 col8\" >0.00</td>\n",
       "      <td id=\"T_c18cd_row33_col9\" class=\"data row33 col9\" >USD</td>\n",
       "      <td id=\"T_c18cd_row33_col10\" class=\"data row33 col10\" >LIBORUSD3M</td>\n",
       "      <td id=\"T_c18cd_row33_col11\" class=\"data row33 col11\" >0.0000%</td>\n",
       "      <td id=\"T_c18cd_row33_col12\" class=\"data row33 col12\" >0.0000%</td>\n",
       "      <td id=\"T_c18cd_row33_col13\" class=\"data row33 col13\" >1.00</td>\n",
       "      <td id=\"T_c18cd_row33_col14\" class=\"data row33 col14\" >LinAct360</td>\n",
       "    </tr>\n",
       "    <tr>\n",
       "      <th id=\"T_c18cd_level0_row34\" class=\"row_heading level0 row34\" >34</th>\n",
       "      <td id=\"T_c18cd_row34_col0\" class=\"data row34 col0\" >2028-05-12</td>\n",
       "      <td id=\"T_c18cd_row34_col1\" class=\"data row34 col1\" >2028-08-14</td>\n",
       "      <td id=\"T_c18cd_row34_col2\" class=\"data row34 col2\" >2028-05-10</td>\n",
       "      <td id=\"T_c18cd_row34_col3\" class=\"data row34 col3\" >2028-08-14</td>\n",
       "      <td id=\"T_c18cd_row34_col4\" class=\"data row34 col4\" >20,000,000.00</td>\n",
       "      <td id=\"T_c18cd_row34_col5\" class=\"data row34 col5\" >0.00</td>\n",
       "      <td id=\"T_c18cd_row34_col6\" class=\"data row34 col6\" >0.00</td>\n",
       "      <td id=\"T_c18cd_row34_col7\" class=\"data row34 col7\" >True</td>\n",
       "      <td id=\"T_c18cd_row34_col8\" class=\"data row34 col8\" >0.00</td>\n",
       "      <td id=\"T_c18cd_row34_col9\" class=\"data row34 col9\" >USD</td>\n",
       "      <td id=\"T_c18cd_row34_col10\" class=\"data row34 col10\" >LIBORUSD3M</td>\n",
       "      <td id=\"T_c18cd_row34_col11\" class=\"data row34 col11\" >0.0000%</td>\n",
       "      <td id=\"T_c18cd_row34_col12\" class=\"data row34 col12\" >0.0000%</td>\n",
       "      <td id=\"T_c18cd_row34_col13\" class=\"data row34 col13\" >1.00</td>\n",
       "      <td id=\"T_c18cd_row34_col14\" class=\"data row34 col14\" >LinAct360</td>\n",
       "    </tr>\n",
       "    <tr>\n",
       "      <th id=\"T_c18cd_level0_row35\" class=\"row_heading level0 row35\" >35</th>\n",
       "      <td id=\"T_c18cd_row35_col0\" class=\"data row35 col0\" >2028-08-14</td>\n",
       "      <td id=\"T_c18cd_row35_col1\" class=\"data row35 col1\" >2028-11-13</td>\n",
       "      <td id=\"T_c18cd_row35_col2\" class=\"data row35 col2\" >2028-08-10</td>\n",
       "      <td id=\"T_c18cd_row35_col3\" class=\"data row35 col3\" >2028-11-13</td>\n",
       "      <td id=\"T_c18cd_row35_col4\" class=\"data row35 col4\" >20,000,000.00</td>\n",
       "      <td id=\"T_c18cd_row35_col5\" class=\"data row35 col5\" >0.00</td>\n",
       "      <td id=\"T_c18cd_row35_col6\" class=\"data row35 col6\" >0.00</td>\n",
       "      <td id=\"T_c18cd_row35_col7\" class=\"data row35 col7\" >True</td>\n",
       "      <td id=\"T_c18cd_row35_col8\" class=\"data row35 col8\" >0.00</td>\n",
       "      <td id=\"T_c18cd_row35_col9\" class=\"data row35 col9\" >USD</td>\n",
       "      <td id=\"T_c18cd_row35_col10\" class=\"data row35 col10\" >LIBORUSD3M</td>\n",
       "      <td id=\"T_c18cd_row35_col11\" class=\"data row35 col11\" >0.0000%</td>\n",
       "      <td id=\"T_c18cd_row35_col12\" class=\"data row35 col12\" >0.0000%</td>\n",
       "      <td id=\"T_c18cd_row35_col13\" class=\"data row35 col13\" >1.00</td>\n",
       "      <td id=\"T_c18cd_row35_col14\" class=\"data row35 col14\" >LinAct360</td>\n",
       "    </tr>\n",
       "    <tr>\n",
       "      <th id=\"T_c18cd_level0_row36\" class=\"row_heading level0 row36\" >36</th>\n",
       "      <td id=\"T_c18cd_row36_col0\" class=\"data row36 col0\" >2028-11-13</td>\n",
       "      <td id=\"T_c18cd_row36_col1\" class=\"data row36 col1\" >2029-02-12</td>\n",
       "      <td id=\"T_c18cd_row36_col2\" class=\"data row36 col2\" >2028-11-09</td>\n",
       "      <td id=\"T_c18cd_row36_col3\" class=\"data row36 col3\" >2029-02-12</td>\n",
       "      <td id=\"T_c18cd_row36_col4\" class=\"data row36 col4\" >20,000,000.00</td>\n",
       "      <td id=\"T_c18cd_row36_col5\" class=\"data row36 col5\" >0.00</td>\n",
       "      <td id=\"T_c18cd_row36_col6\" class=\"data row36 col6\" >0.00</td>\n",
       "      <td id=\"T_c18cd_row36_col7\" class=\"data row36 col7\" >True</td>\n",
       "      <td id=\"T_c18cd_row36_col8\" class=\"data row36 col8\" >0.00</td>\n",
       "      <td id=\"T_c18cd_row36_col9\" class=\"data row36 col9\" >USD</td>\n",
       "      <td id=\"T_c18cd_row36_col10\" class=\"data row36 col10\" >LIBORUSD3M</td>\n",
       "      <td id=\"T_c18cd_row36_col11\" class=\"data row36 col11\" >0.0000%</td>\n",
       "      <td id=\"T_c18cd_row36_col12\" class=\"data row36 col12\" >0.0000%</td>\n",
       "      <td id=\"T_c18cd_row36_col13\" class=\"data row36 col13\" >1.00</td>\n",
       "      <td id=\"T_c18cd_row36_col14\" class=\"data row36 col14\" >LinAct360</td>\n",
       "    </tr>\n",
       "    <tr>\n",
       "      <th id=\"T_c18cd_level0_row37\" class=\"row_heading level0 row37\" >37</th>\n",
       "      <td id=\"T_c18cd_row37_col0\" class=\"data row37 col0\" >2029-02-12</td>\n",
       "      <td id=\"T_c18cd_row37_col1\" class=\"data row37 col1\" >2029-05-14</td>\n",
       "      <td id=\"T_c18cd_row37_col2\" class=\"data row37 col2\" >2029-02-08</td>\n",
       "      <td id=\"T_c18cd_row37_col3\" class=\"data row37 col3\" >2029-05-14</td>\n",
       "      <td id=\"T_c18cd_row37_col4\" class=\"data row37 col4\" >20,000,000.00</td>\n",
       "      <td id=\"T_c18cd_row37_col5\" class=\"data row37 col5\" >0.00</td>\n",
       "      <td id=\"T_c18cd_row37_col6\" class=\"data row37 col6\" >0.00</td>\n",
       "      <td id=\"T_c18cd_row37_col7\" class=\"data row37 col7\" >True</td>\n",
       "      <td id=\"T_c18cd_row37_col8\" class=\"data row37 col8\" >0.00</td>\n",
       "      <td id=\"T_c18cd_row37_col9\" class=\"data row37 col9\" >USD</td>\n",
       "      <td id=\"T_c18cd_row37_col10\" class=\"data row37 col10\" >LIBORUSD3M</td>\n",
       "      <td id=\"T_c18cd_row37_col11\" class=\"data row37 col11\" >0.0000%</td>\n",
       "      <td id=\"T_c18cd_row37_col12\" class=\"data row37 col12\" >0.0000%</td>\n",
       "      <td id=\"T_c18cd_row37_col13\" class=\"data row37 col13\" >1.00</td>\n",
       "      <td id=\"T_c18cd_row37_col14\" class=\"data row37 col14\" >LinAct360</td>\n",
       "    </tr>\n",
       "    <tr>\n",
       "      <th id=\"T_c18cd_level0_row38\" class=\"row_heading level0 row38\" >38</th>\n",
       "      <td id=\"T_c18cd_row38_col0\" class=\"data row38 col0\" >2029-05-14</td>\n",
       "      <td id=\"T_c18cd_row38_col1\" class=\"data row38 col1\" >2029-08-13</td>\n",
       "      <td id=\"T_c18cd_row38_col2\" class=\"data row38 col2\" >2029-05-10</td>\n",
       "      <td id=\"T_c18cd_row38_col3\" class=\"data row38 col3\" >2029-08-13</td>\n",
       "      <td id=\"T_c18cd_row38_col4\" class=\"data row38 col4\" >20,000,000.00</td>\n",
       "      <td id=\"T_c18cd_row38_col5\" class=\"data row38 col5\" >0.00</td>\n",
       "      <td id=\"T_c18cd_row38_col6\" class=\"data row38 col6\" >0.00</td>\n",
       "      <td id=\"T_c18cd_row38_col7\" class=\"data row38 col7\" >True</td>\n",
       "      <td id=\"T_c18cd_row38_col8\" class=\"data row38 col8\" >0.00</td>\n",
       "      <td id=\"T_c18cd_row38_col9\" class=\"data row38 col9\" >USD</td>\n",
       "      <td id=\"T_c18cd_row38_col10\" class=\"data row38 col10\" >LIBORUSD3M</td>\n",
       "      <td id=\"T_c18cd_row38_col11\" class=\"data row38 col11\" >0.0000%</td>\n",
       "      <td id=\"T_c18cd_row38_col12\" class=\"data row38 col12\" >0.0000%</td>\n",
       "      <td id=\"T_c18cd_row38_col13\" class=\"data row38 col13\" >1.00</td>\n",
       "      <td id=\"T_c18cd_row38_col14\" class=\"data row38 col14\" >LinAct360</td>\n",
       "    </tr>\n",
       "    <tr>\n",
       "      <th id=\"T_c18cd_level0_row39\" class=\"row_heading level0 row39\" >39</th>\n",
       "      <td id=\"T_c18cd_row39_col0\" class=\"data row39 col0\" >2029-08-13</td>\n",
       "      <td id=\"T_c18cd_row39_col1\" class=\"data row39 col1\" >2029-11-12</td>\n",
       "      <td id=\"T_c18cd_row39_col2\" class=\"data row39 col2\" >2029-08-09</td>\n",
       "      <td id=\"T_c18cd_row39_col3\" class=\"data row39 col3\" >2029-11-12</td>\n",
       "      <td id=\"T_c18cd_row39_col4\" class=\"data row39 col4\" >20,000,000.00</td>\n",
       "      <td id=\"T_c18cd_row39_col5\" class=\"data row39 col5\" >20,000,000.00</td>\n",
       "      <td id=\"T_c18cd_row39_col6\" class=\"data row39 col6\" >0.00</td>\n",
       "      <td id=\"T_c18cd_row39_col7\" class=\"data row39 col7\" >True</td>\n",
       "      <td id=\"T_c18cd_row39_col8\" class=\"data row39 col8\" >20,000,000.00</td>\n",
       "      <td id=\"T_c18cd_row39_col9\" class=\"data row39 col9\" >USD</td>\n",
       "      <td id=\"T_c18cd_row39_col10\" class=\"data row39 col10\" >LIBORUSD3M</td>\n",
       "      <td id=\"T_c18cd_row39_col11\" class=\"data row39 col11\" >0.0000%</td>\n",
       "      <td id=\"T_c18cd_row39_col12\" class=\"data row39 col12\" >0.0000%</td>\n",
       "      <td id=\"T_c18cd_row39_col13\" class=\"data row39 col13\" >1.00</td>\n",
       "      <td id=\"T_c18cd_row39_col14\" class=\"data row39 col14\" >LinAct360</td>\n",
       "    </tr>\n",
       "  </tbody>\n",
       "</table>\n"
      ],
      "text/plain": [
       "<pandas.io.formats.style.Styler at 0x125b0bb50>"
      ]
     },
     "execution_count": 83,
     "metadata": {},
     "output_type": "execute_result"
    }
   ],
   "source": [
    "# Se define un list donde almacenar los resultados de la función show\n",
    "tabla = []\n",
    "for i in range(0, ibor_leg.size()):\n",
    "    tabla.append(qcf.show(ibor_leg.get_cashflow_at(i)))\n",
    "\n",
    "# Se utiliza tabla para inicializar el Dataframe\n",
    "columnas = ['fecha_inicial', 'fecha__final', 'fecha_fixing', 'fecha__pago', 'nominal', 'amort', 'interes', 'amort_es_flujo', 'flujo',\n",
    "            'moneda', 'codigo_indice', 'valor_tasa', 'spread', 'gearing', 'tipo_tasa']\n",
    "df5 = pd.DataFrame(tabla, columns=columnas)\n",
    "\n",
    "# Se despliega la data en este formato\n",
    "df5.style.format(format_dict)"
   ]
  },
  {
   "cell_type": "code",
   "execution_count": 84,
   "metadata": {
    "execution": {
     "iopub.execute_input": "2024-01-04T22:42:06.806617Z",
     "iopub.status.busy": "2024-01-04T22:42:06.806189Z",
     "iopub.status.idle": "2024-01-04T22:42:06.811699Z",
     "shell.execute_reply": "2024-01-04T22:42:06.810722Z",
     "shell.execute_reply.started": "2024-01-04T22:42:06.806586Z"
    }
   },
   "outputs": [],
   "source": [
    "libor = 0.0190063\n",
    "fecha_hoy = qcf.QCDate(25, 2, 2020)\n",
    "ibor_leg.get_cashflow_at(0).set_rate_value(libor)\n",
    "fwd_rates.set_rates_ibor_leg(fecha_hoy, ibor_leg, zz2)"
   ]
  },
  {
   "cell_type": "code",
   "execution_count": 85,
   "metadata": {
    "execution": {
     "iopub.execute_input": "2024-01-04T22:42:06.813056Z",
     "iopub.status.busy": "2024-01-04T22:42:06.812651Z",
     "iopub.status.idle": "2024-01-04T22:42:06.844115Z",
     "shell.execute_reply": "2024-01-04T22:42:06.842969Z",
     "shell.execute_reply.started": "2024-01-04T22:42:06.813025Z"
    }
   },
   "outputs": [
    {
     "data": {
      "text/html": [
       "<style type=\"text/css\">\n",
       "</style>\n",
       "<table id=\"T_c912d\">\n",
       "  <thead>\n",
       "    <tr>\n",
       "      <th class=\"blank level0\" >&nbsp;</th>\n",
       "      <th id=\"T_c912d_level0_col0\" class=\"col_heading level0 col0\" >fecha_inicial</th>\n",
       "      <th id=\"T_c912d_level0_col1\" class=\"col_heading level0 col1\" >fecha__final</th>\n",
       "      <th id=\"T_c912d_level0_col2\" class=\"col_heading level0 col2\" >fecha_fixing</th>\n",
       "      <th id=\"T_c912d_level0_col3\" class=\"col_heading level0 col3\" >fecha__pago</th>\n",
       "      <th id=\"T_c912d_level0_col4\" class=\"col_heading level0 col4\" >nominal</th>\n",
       "      <th id=\"T_c912d_level0_col5\" class=\"col_heading level0 col5\" >amort</th>\n",
       "      <th id=\"T_c912d_level0_col6\" class=\"col_heading level0 col6\" >interes</th>\n",
       "      <th id=\"T_c912d_level0_col7\" class=\"col_heading level0 col7\" >amort_es_flujo</th>\n",
       "      <th id=\"T_c912d_level0_col8\" class=\"col_heading level0 col8\" >flujo</th>\n",
       "      <th id=\"T_c912d_level0_col9\" class=\"col_heading level0 col9\" >moneda</th>\n",
       "      <th id=\"T_c912d_level0_col10\" class=\"col_heading level0 col10\" >codigo_indice</th>\n",
       "      <th id=\"T_c912d_level0_col11\" class=\"col_heading level0 col11\" >valor_tasa</th>\n",
       "      <th id=\"T_c912d_level0_col12\" class=\"col_heading level0 col12\" >spread</th>\n",
       "      <th id=\"T_c912d_level0_col13\" class=\"col_heading level0 col13\" >gearing</th>\n",
       "      <th id=\"T_c912d_level0_col14\" class=\"col_heading level0 col14\" >tipo_tasa</th>\n",
       "    </tr>\n",
       "  </thead>\n",
       "  <tbody>\n",
       "    <tr>\n",
       "      <th id=\"T_c912d_level0_row0\" class=\"row_heading level0 row0\" >0</th>\n",
       "      <td id=\"T_c912d_row0_col0\" class=\"data row0 col0\" >2019-11-12</td>\n",
       "      <td id=\"T_c912d_row0_col1\" class=\"data row0 col1\" >2020-02-12</td>\n",
       "      <td id=\"T_c912d_row0_col2\" class=\"data row0 col2\" >2019-11-08</td>\n",
       "      <td id=\"T_c912d_row0_col3\" class=\"data row0 col3\" >2020-02-12</td>\n",
       "      <td id=\"T_c912d_row0_col4\" class=\"data row0 col4\" >20,000,000.00</td>\n",
       "      <td id=\"T_c912d_row0_col5\" class=\"data row0 col5\" >0.00</td>\n",
       "      <td id=\"T_c912d_row0_col6\" class=\"data row0 col6\" >97,143.31</td>\n",
       "      <td id=\"T_c912d_row0_col7\" class=\"data row0 col7\" >True</td>\n",
       "      <td id=\"T_c912d_row0_col8\" class=\"data row0 col8\" >97,143.31</td>\n",
       "      <td id=\"T_c912d_row0_col9\" class=\"data row0 col9\" >USD</td>\n",
       "      <td id=\"T_c912d_row0_col10\" class=\"data row0 col10\" >LIBORUSD3M</td>\n",
       "      <td id=\"T_c912d_row0_col11\" class=\"data row0 col11\" >1.9006%</td>\n",
       "      <td id=\"T_c912d_row0_col12\" class=\"data row0 col12\" >0.0000%</td>\n",
       "      <td id=\"T_c912d_row0_col13\" class=\"data row0 col13\" >1.00</td>\n",
       "      <td id=\"T_c912d_row0_col14\" class=\"data row0 col14\" >LinAct360</td>\n",
       "    </tr>\n",
       "    <tr>\n",
       "      <th id=\"T_c912d_level0_row1\" class=\"row_heading level0 row1\" >1</th>\n",
       "      <td id=\"T_c912d_row1_col0\" class=\"data row1 col0\" >2020-02-12</td>\n",
       "      <td id=\"T_c912d_row1_col1\" class=\"data row1 col1\" >2020-05-12</td>\n",
       "      <td id=\"T_c912d_row1_col2\" class=\"data row1 col2\" >2020-02-10</td>\n",
       "      <td id=\"T_c912d_row1_col3\" class=\"data row1 col3\" >2020-05-12</td>\n",
       "      <td id=\"T_c912d_row1_col4\" class=\"data row1 col4\" >20,000,000.00</td>\n",
       "      <td id=\"T_c912d_row1_col5\" class=\"data row1 col5\" >0.00</td>\n",
       "      <td id=\"T_c912d_row1_col6\" class=\"data row1 col6\" >0.00</td>\n",
       "      <td id=\"T_c912d_row1_col7\" class=\"data row1 col7\" >True</td>\n",
       "      <td id=\"T_c912d_row1_col8\" class=\"data row1 col8\" >0.00</td>\n",
       "      <td id=\"T_c912d_row1_col9\" class=\"data row1 col9\" >USD</td>\n",
       "      <td id=\"T_c912d_row1_col10\" class=\"data row1 col10\" >LIBORUSD3M</td>\n",
       "      <td id=\"T_c912d_row1_col11\" class=\"data row1 col11\" >0.0000%</td>\n",
       "      <td id=\"T_c912d_row1_col12\" class=\"data row1 col12\" >0.0000%</td>\n",
       "      <td id=\"T_c912d_row1_col13\" class=\"data row1 col13\" >1.00</td>\n",
       "      <td id=\"T_c912d_row1_col14\" class=\"data row1 col14\" >LinAct360</td>\n",
       "    </tr>\n",
       "    <tr>\n",
       "      <th id=\"T_c912d_level0_row2\" class=\"row_heading level0 row2\" >2</th>\n",
       "      <td id=\"T_c912d_row2_col0\" class=\"data row2 col0\" >2020-05-12</td>\n",
       "      <td id=\"T_c912d_row2_col1\" class=\"data row2 col1\" >2020-08-12</td>\n",
       "      <td id=\"T_c912d_row2_col2\" class=\"data row2 col2\" >2020-05-08</td>\n",
       "      <td id=\"T_c912d_row2_col3\" class=\"data row2 col3\" >2020-08-12</td>\n",
       "      <td id=\"T_c912d_row2_col4\" class=\"data row2 col4\" >20,000,000.00</td>\n",
       "      <td id=\"T_c912d_row2_col5\" class=\"data row2 col5\" >0.00</td>\n",
       "      <td id=\"T_c912d_row2_col6\" class=\"data row2 col6\" >87,136.92</td>\n",
       "      <td id=\"T_c912d_row2_col7\" class=\"data row2 col7\" >True</td>\n",
       "      <td id=\"T_c912d_row2_col8\" class=\"data row2 col8\" >87,136.92</td>\n",
       "      <td id=\"T_c912d_row2_col9\" class=\"data row2 col9\" >USD</td>\n",
       "      <td id=\"T_c912d_row2_col10\" class=\"data row2 col10\" >LIBORUSD3M</td>\n",
       "      <td id=\"T_c912d_row2_col11\" class=\"data row2 col11\" >1.7049%</td>\n",
       "      <td id=\"T_c912d_row2_col12\" class=\"data row2 col12\" >0.0000%</td>\n",
       "      <td id=\"T_c912d_row2_col13\" class=\"data row2 col13\" >1.00</td>\n",
       "      <td id=\"T_c912d_row2_col14\" class=\"data row2 col14\" >LinAct360</td>\n",
       "    </tr>\n",
       "    <tr>\n",
       "      <th id=\"T_c912d_level0_row3\" class=\"row_heading level0 row3\" >3</th>\n",
       "      <td id=\"T_c912d_row3_col0\" class=\"data row3 col0\" >2020-08-12</td>\n",
       "      <td id=\"T_c912d_row3_col1\" class=\"data row3 col1\" >2020-11-12</td>\n",
       "      <td id=\"T_c912d_row3_col2\" class=\"data row3 col2\" >2020-08-10</td>\n",
       "      <td id=\"T_c912d_row3_col3\" class=\"data row3 col3\" >2020-11-12</td>\n",
       "      <td id=\"T_c912d_row3_col4\" class=\"data row3 col4\" >20,000,000.00</td>\n",
       "      <td id=\"T_c912d_row3_col5\" class=\"data row3 col5\" >0.00</td>\n",
       "      <td id=\"T_c912d_row3_col6\" class=\"data row3 col6\" >83,357.57</td>\n",
       "      <td id=\"T_c912d_row3_col7\" class=\"data row3 col7\" >True</td>\n",
       "      <td id=\"T_c912d_row3_col8\" class=\"data row3 col8\" >83,357.57</td>\n",
       "      <td id=\"T_c912d_row3_col9\" class=\"data row3 col9\" >USD</td>\n",
       "      <td id=\"T_c912d_row3_col10\" class=\"data row3 col10\" >LIBORUSD3M</td>\n",
       "      <td id=\"T_c912d_row3_col11\" class=\"data row3 col11\" >1.6309%</td>\n",
       "      <td id=\"T_c912d_row3_col12\" class=\"data row3 col12\" >0.0000%</td>\n",
       "      <td id=\"T_c912d_row3_col13\" class=\"data row3 col13\" >1.00</td>\n",
       "      <td id=\"T_c912d_row3_col14\" class=\"data row3 col14\" >LinAct360</td>\n",
       "    </tr>\n",
       "    <tr>\n",
       "      <th id=\"T_c912d_level0_row4\" class=\"row_heading level0 row4\" >4</th>\n",
       "      <td id=\"T_c912d_row4_col0\" class=\"data row4 col0\" >2020-11-12</td>\n",
       "      <td id=\"T_c912d_row4_col1\" class=\"data row4 col1\" >2021-02-12</td>\n",
       "      <td id=\"T_c912d_row4_col2\" class=\"data row4 col2\" >2020-11-10</td>\n",
       "      <td id=\"T_c912d_row4_col3\" class=\"data row4 col3\" >2021-02-12</td>\n",
       "      <td id=\"T_c912d_row4_col4\" class=\"data row4 col4\" >20,000,000.00</td>\n",
       "      <td id=\"T_c912d_row4_col5\" class=\"data row4 col5\" >0.00</td>\n",
       "      <td id=\"T_c912d_row4_col6\" class=\"data row4 col6\" >79,834.14</td>\n",
       "      <td id=\"T_c912d_row4_col7\" class=\"data row4 col7\" >True</td>\n",
       "      <td id=\"T_c912d_row4_col8\" class=\"data row4 col8\" >79,834.14</td>\n",
       "      <td id=\"T_c912d_row4_col9\" class=\"data row4 col9\" >USD</td>\n",
       "      <td id=\"T_c912d_row4_col10\" class=\"data row4 col10\" >LIBORUSD3M</td>\n",
       "      <td id=\"T_c912d_row4_col11\" class=\"data row4 col11\" >1.5620%</td>\n",
       "      <td id=\"T_c912d_row4_col12\" class=\"data row4 col12\" >0.0000%</td>\n",
       "      <td id=\"T_c912d_row4_col13\" class=\"data row4 col13\" >1.00</td>\n",
       "      <td id=\"T_c912d_row4_col14\" class=\"data row4 col14\" >LinAct360</td>\n",
       "    </tr>\n",
       "    <tr>\n",
       "      <th id=\"T_c912d_level0_row5\" class=\"row_heading level0 row5\" >5</th>\n",
       "      <td id=\"T_c912d_row5_col0\" class=\"data row5 col0\" >2021-02-12</td>\n",
       "      <td id=\"T_c912d_row5_col1\" class=\"data row5 col1\" >2021-05-12</td>\n",
       "      <td id=\"T_c912d_row5_col2\" class=\"data row5 col2\" >2021-02-10</td>\n",
       "      <td id=\"T_c912d_row5_col3\" class=\"data row5 col3\" >2021-05-12</td>\n",
       "      <td id=\"T_c912d_row5_col4\" class=\"data row5 col4\" >20,000,000.00</td>\n",
       "      <td id=\"T_c912d_row5_col5\" class=\"data row5 col5\" >0.00</td>\n",
       "      <td id=\"T_c912d_row5_col6\" class=\"data row5 col6\" >75,388.80</td>\n",
       "      <td id=\"T_c912d_row5_col7\" class=\"data row5 col7\" >True</td>\n",
       "      <td id=\"T_c912d_row5_col8\" class=\"data row5 col8\" >75,388.80</td>\n",
       "      <td id=\"T_c912d_row5_col9\" class=\"data row5 col9\" >USD</td>\n",
       "      <td id=\"T_c912d_row5_col10\" class=\"data row5 col10\" >LIBORUSD3M</td>\n",
       "      <td id=\"T_c912d_row5_col11\" class=\"data row5 col11\" >1.5247%</td>\n",
       "      <td id=\"T_c912d_row5_col12\" class=\"data row5 col12\" >0.0000%</td>\n",
       "      <td id=\"T_c912d_row5_col13\" class=\"data row5 col13\" >1.00</td>\n",
       "      <td id=\"T_c912d_row5_col14\" class=\"data row5 col14\" >LinAct360</td>\n",
       "    </tr>\n",
       "    <tr>\n",
       "      <th id=\"T_c912d_level0_row6\" class=\"row_heading level0 row6\" >6</th>\n",
       "      <td id=\"T_c912d_row6_col0\" class=\"data row6 col0\" >2021-05-12</td>\n",
       "      <td id=\"T_c912d_row6_col1\" class=\"data row6 col1\" >2021-08-12</td>\n",
       "      <td id=\"T_c912d_row6_col2\" class=\"data row6 col2\" >2021-05-10</td>\n",
       "      <td id=\"T_c912d_row6_col3\" class=\"data row6 col3\" >2021-08-12</td>\n",
       "      <td id=\"T_c912d_row6_col4\" class=\"data row6 col4\" >20,000,000.00</td>\n",
       "      <td id=\"T_c912d_row6_col5\" class=\"data row6 col5\" >0.00</td>\n",
       "      <td id=\"T_c912d_row6_col6\" class=\"data row6 col6\" >75,147.35</td>\n",
       "      <td id=\"T_c912d_row6_col7\" class=\"data row6 col7\" >True</td>\n",
       "      <td id=\"T_c912d_row6_col8\" class=\"data row6 col8\" >75,147.35</td>\n",
       "      <td id=\"T_c912d_row6_col9\" class=\"data row6 col9\" >USD</td>\n",
       "      <td id=\"T_c912d_row6_col10\" class=\"data row6 col10\" >LIBORUSD3M</td>\n",
       "      <td id=\"T_c912d_row6_col11\" class=\"data row6 col11\" >1.4703%</td>\n",
       "      <td id=\"T_c912d_row6_col12\" class=\"data row6 col12\" >0.0000%</td>\n",
       "      <td id=\"T_c912d_row6_col13\" class=\"data row6 col13\" >1.00</td>\n",
       "      <td id=\"T_c912d_row6_col14\" class=\"data row6 col14\" >LinAct360</td>\n",
       "    </tr>\n",
       "    <tr>\n",
       "      <th id=\"T_c912d_level0_row7\" class=\"row_heading level0 row7\" >7</th>\n",
       "      <td id=\"T_c912d_row7_col0\" class=\"data row7 col0\" >2021-08-12</td>\n",
       "      <td id=\"T_c912d_row7_col1\" class=\"data row7 col1\" >2021-11-12</td>\n",
       "      <td id=\"T_c912d_row7_col2\" class=\"data row7 col2\" >2021-08-10</td>\n",
       "      <td id=\"T_c912d_row7_col3\" class=\"data row7 col3\" >2021-11-12</td>\n",
       "      <td id=\"T_c912d_row7_col4\" class=\"data row7 col4\" >20,000,000.00</td>\n",
       "      <td id=\"T_c912d_row7_col5\" class=\"data row7 col5\" >0.00</td>\n",
       "      <td id=\"T_c912d_row7_col6\" class=\"data row7 col6\" >75,919.01</td>\n",
       "      <td id=\"T_c912d_row7_col7\" class=\"data row7 col7\" >True</td>\n",
       "      <td id=\"T_c912d_row7_col8\" class=\"data row7 col8\" >75,919.01</td>\n",
       "      <td id=\"T_c912d_row7_col9\" class=\"data row7 col9\" >USD</td>\n",
       "      <td id=\"T_c912d_row7_col10\" class=\"data row7 col10\" >LIBORUSD3M</td>\n",
       "      <td id=\"T_c912d_row7_col11\" class=\"data row7 col11\" >1.4854%</td>\n",
       "      <td id=\"T_c912d_row7_col12\" class=\"data row7 col12\" >0.0000%</td>\n",
       "      <td id=\"T_c912d_row7_col13\" class=\"data row7 col13\" >1.00</td>\n",
       "      <td id=\"T_c912d_row7_col14\" class=\"data row7 col14\" >LinAct360</td>\n",
       "    </tr>\n",
       "    <tr>\n",
       "      <th id=\"T_c912d_level0_row8\" class=\"row_heading level0 row8\" >8</th>\n",
       "      <td id=\"T_c912d_row8_col0\" class=\"data row8 col0\" >2021-11-12</td>\n",
       "      <td id=\"T_c912d_row8_col1\" class=\"data row8 col1\" >2022-02-14</td>\n",
       "      <td id=\"T_c912d_row8_col2\" class=\"data row8 col2\" >2021-11-10</td>\n",
       "      <td id=\"T_c912d_row8_col3\" class=\"data row8 col3\" >2022-02-14</td>\n",
       "      <td id=\"T_c912d_row8_col4\" class=\"data row8 col4\" >20,000,000.00</td>\n",
       "      <td id=\"T_c912d_row8_col5\" class=\"data row8 col5\" >0.00</td>\n",
       "      <td id=\"T_c912d_row8_col6\" class=\"data row8 col6\" >76,541.33</td>\n",
       "      <td id=\"T_c912d_row8_col7\" class=\"data row8 col7\" >True</td>\n",
       "      <td id=\"T_c912d_row8_col8\" class=\"data row8 col8\" >76,541.33</td>\n",
       "      <td id=\"T_c912d_row8_col9\" class=\"data row8 col9\" >USD</td>\n",
       "      <td id=\"T_c912d_row8_col10\" class=\"data row8 col10\" >LIBORUSD3M</td>\n",
       "      <td id=\"T_c912d_row8_col11\" class=\"data row8 col11\" >1.4657%</td>\n",
       "      <td id=\"T_c912d_row8_col12\" class=\"data row8 col12\" >0.0000%</td>\n",
       "      <td id=\"T_c912d_row8_col13\" class=\"data row8 col13\" >1.00</td>\n",
       "      <td id=\"T_c912d_row8_col14\" class=\"data row8 col14\" >LinAct360</td>\n",
       "    </tr>\n",
       "    <tr>\n",
       "      <th id=\"T_c912d_level0_row9\" class=\"row_heading level0 row9\" >9</th>\n",
       "      <td id=\"T_c912d_row9_col0\" class=\"data row9 col0\" >2022-02-14</td>\n",
       "      <td id=\"T_c912d_row9_col1\" class=\"data row9 col1\" >2022-05-12</td>\n",
       "      <td id=\"T_c912d_row9_col2\" class=\"data row9 col2\" >2022-02-10</td>\n",
       "      <td id=\"T_c912d_row9_col3\" class=\"data row9 col3\" >2022-05-12</td>\n",
       "      <td id=\"T_c912d_row9_col4\" class=\"data row9 col4\" >20,000,000.00</td>\n",
       "      <td id=\"T_c912d_row9_col5\" class=\"data row9 col5\" >0.00</td>\n",
       "      <td id=\"T_c912d_row9_col6\" class=\"data row9 col6\" >72,657.16</td>\n",
       "      <td id=\"T_c912d_row9_col7\" class=\"data row9 col7\" >True</td>\n",
       "      <td id=\"T_c912d_row9_col8\" class=\"data row9 col8\" >72,657.16</td>\n",
       "      <td id=\"T_c912d_row9_col9\" class=\"data row9 col9\" >USD</td>\n",
       "      <td id=\"T_c912d_row9_col10\" class=\"data row9 col10\" >LIBORUSD3M</td>\n",
       "      <td id=\"T_c912d_row9_col11\" class=\"data row9 col11\" >1.5033%</td>\n",
       "      <td id=\"T_c912d_row9_col12\" class=\"data row9 col12\" >0.0000%</td>\n",
       "      <td id=\"T_c912d_row9_col13\" class=\"data row9 col13\" >1.00</td>\n",
       "      <td id=\"T_c912d_row9_col14\" class=\"data row9 col14\" >LinAct360</td>\n",
       "    </tr>\n",
       "    <tr>\n",
       "      <th id=\"T_c912d_level0_row10\" class=\"row_heading level0 row10\" >10</th>\n",
       "      <td id=\"T_c912d_row10_col0\" class=\"data row10 col0\" >2022-05-12</td>\n",
       "      <td id=\"T_c912d_row10_col1\" class=\"data row10 col1\" >2022-08-12</td>\n",
       "      <td id=\"T_c912d_row10_col2\" class=\"data row10 col2\" >2022-05-10</td>\n",
       "      <td id=\"T_c912d_row10_col3\" class=\"data row10 col3\" >2022-08-12</td>\n",
       "      <td id=\"T_c912d_row10_col4\" class=\"data row10 col4\" >20,000,000.00</td>\n",
       "      <td id=\"T_c912d_row10_col5\" class=\"data row10 col5\" >0.00</td>\n",
       "      <td id=\"T_c912d_row10_col6\" class=\"data row10 col6\" >76,607.00</td>\n",
       "      <td id=\"T_c912d_row10_col7\" class=\"data row10 col7\" >True</td>\n",
       "      <td id=\"T_c912d_row10_col8\" class=\"data row10 col8\" >76,607.00</td>\n",
       "      <td id=\"T_c912d_row10_col9\" class=\"data row10 col9\" >USD</td>\n",
       "      <td id=\"T_c912d_row10_col10\" class=\"data row10 col10\" >LIBORUSD3M</td>\n",
       "      <td id=\"T_c912d_row10_col11\" class=\"data row10 col11\" >1.4988%</td>\n",
       "      <td id=\"T_c912d_row10_col12\" class=\"data row10 col12\" >0.0000%</td>\n",
       "      <td id=\"T_c912d_row10_col13\" class=\"data row10 col13\" >1.00</td>\n",
       "      <td id=\"T_c912d_row10_col14\" class=\"data row10 col14\" >LinAct360</td>\n",
       "    </tr>\n",
       "    <tr>\n",
       "      <th id=\"T_c912d_level0_row11\" class=\"row_heading level0 row11\" >11</th>\n",
       "      <td id=\"T_c912d_row11_col0\" class=\"data row11 col0\" >2022-08-12</td>\n",
       "      <td id=\"T_c912d_row11_col1\" class=\"data row11 col1\" >2022-11-14</td>\n",
       "      <td id=\"T_c912d_row11_col2\" class=\"data row11 col2\" >2022-08-10</td>\n",
       "      <td id=\"T_c912d_row11_col3\" class=\"data row11 col3\" >2022-11-14</td>\n",
       "      <td id=\"T_c912d_row11_col4\" class=\"data row11 col4\" >20,000,000.00</td>\n",
       "      <td id=\"T_c912d_row11_col5\" class=\"data row11 col5\" >0.00</td>\n",
       "      <td id=\"T_c912d_row11_col6\" class=\"data row11 col6\" >77,567.48</td>\n",
       "      <td id=\"T_c912d_row11_col7\" class=\"data row11 col7\" >True</td>\n",
       "      <td id=\"T_c912d_row11_col8\" class=\"data row11 col8\" >77,567.48</td>\n",
       "      <td id=\"T_c912d_row11_col9\" class=\"data row11 col9\" >USD</td>\n",
       "      <td id=\"T_c912d_row11_col10\" class=\"data row11 col10\" >LIBORUSD3M</td>\n",
       "      <td id=\"T_c912d_row11_col11\" class=\"data row11 col11\" >1.4853%</td>\n",
       "      <td id=\"T_c912d_row11_col12\" class=\"data row11 col12\" >0.0000%</td>\n",
       "      <td id=\"T_c912d_row11_col13\" class=\"data row11 col13\" >1.00</td>\n",
       "      <td id=\"T_c912d_row11_col14\" class=\"data row11 col14\" >LinAct360</td>\n",
       "    </tr>\n",
       "    <tr>\n",
       "      <th id=\"T_c912d_level0_row12\" class=\"row_heading level0 row12\" >12</th>\n",
       "      <td id=\"T_c912d_row12_col0\" class=\"data row12 col0\" >2022-11-14</td>\n",
       "      <td id=\"T_c912d_row12_col1\" class=\"data row12 col1\" >2023-02-13</td>\n",
       "      <td id=\"T_c912d_row12_col2\" class=\"data row12 col2\" >2022-11-10</td>\n",
       "      <td id=\"T_c912d_row12_col3\" class=\"data row12 col3\" >2023-02-13</td>\n",
       "      <td id=\"T_c912d_row12_col4\" class=\"data row12 col4\" >20,000,000.00</td>\n",
       "      <td id=\"T_c912d_row12_col5\" class=\"data row12 col5\" >0.00</td>\n",
       "      <td id=\"T_c912d_row12_col6\" class=\"data row12 col6\" >74,410.06</td>\n",
       "      <td id=\"T_c912d_row12_col7\" class=\"data row12 col7\" >True</td>\n",
       "      <td id=\"T_c912d_row12_col8\" class=\"data row12 col8\" >74,410.06</td>\n",
       "      <td id=\"T_c912d_row12_col9\" class=\"data row12 col9\" >USD</td>\n",
       "      <td id=\"T_c912d_row12_col10\" class=\"data row12 col10\" >LIBORUSD3M</td>\n",
       "      <td id=\"T_c912d_row12_col11\" class=\"data row12 col11\" >1.4718%</td>\n",
       "      <td id=\"T_c912d_row12_col12\" class=\"data row12 col12\" >0.0000%</td>\n",
       "      <td id=\"T_c912d_row12_col13\" class=\"data row12 col13\" >1.00</td>\n",
       "      <td id=\"T_c912d_row12_col14\" class=\"data row12 col14\" >LinAct360</td>\n",
       "    </tr>\n",
       "    <tr>\n",
       "      <th id=\"T_c912d_level0_row13\" class=\"row_heading level0 row13\" >13</th>\n",
       "      <td id=\"T_c912d_row13_col0\" class=\"data row13 col0\" >2023-02-13</td>\n",
       "      <td id=\"T_c912d_row13_col1\" class=\"data row13 col1\" >2023-05-12</td>\n",
       "      <td id=\"T_c912d_row13_col2\" class=\"data row13 col2\" >2023-02-09</td>\n",
       "      <td id=\"T_c912d_row13_col3\" class=\"data row13 col3\" >2023-05-12</td>\n",
       "      <td id=\"T_c912d_row13_col4\" class=\"data row13 col4\" >20,000,000.00</td>\n",
       "      <td id=\"T_c912d_row13_col5\" class=\"data row13 col5\" >0.00</td>\n",
       "      <td id=\"T_c912d_row13_col6\" class=\"data row13 col6\" >74,928.43</td>\n",
       "      <td id=\"T_c912d_row13_col7\" class=\"data row13 col7\" >True</td>\n",
       "      <td id=\"T_c912d_row13_col8\" class=\"data row13 col8\" >74,928.43</td>\n",
       "      <td id=\"T_c912d_row13_col9\" class=\"data row13 col9\" >USD</td>\n",
       "      <td id=\"T_c912d_row13_col10\" class=\"data row13 col10\" >LIBORUSD3M</td>\n",
       "      <td id=\"T_c912d_row13_col11\" class=\"data row13 col11\" >1.5326%</td>\n",
       "      <td id=\"T_c912d_row13_col12\" class=\"data row13 col12\" >0.0000%</td>\n",
       "      <td id=\"T_c912d_row13_col13\" class=\"data row13 col13\" >1.00</td>\n",
       "      <td id=\"T_c912d_row13_col14\" class=\"data row13 col14\" >LinAct360</td>\n",
       "    </tr>\n",
       "    <tr>\n",
       "      <th id=\"T_c912d_level0_row14\" class=\"row_heading level0 row14\" >14</th>\n",
       "      <td id=\"T_c912d_row14_col0\" class=\"data row14 col0\" >2023-05-12</td>\n",
       "      <td id=\"T_c912d_row14_col1\" class=\"data row14 col1\" >2023-08-14</td>\n",
       "      <td id=\"T_c912d_row14_col2\" class=\"data row14 col2\" >2023-05-10</td>\n",
       "      <td id=\"T_c912d_row14_col3\" class=\"data row14 col3\" >2023-08-14</td>\n",
       "      <td id=\"T_c912d_row14_col4\" class=\"data row14 col4\" >20,000,000.00</td>\n",
       "      <td id=\"T_c912d_row14_col5\" class=\"data row14 col5\" >0.00</td>\n",
       "      <td id=\"T_c912d_row14_col6\" class=\"data row14 col6\" >80,562.98</td>\n",
       "      <td id=\"T_c912d_row14_col7\" class=\"data row14 col7\" >True</td>\n",
       "      <td id=\"T_c912d_row14_col8\" class=\"data row14 col8\" >80,562.98</td>\n",
       "      <td id=\"T_c912d_row14_col9\" class=\"data row14 col9\" >USD</td>\n",
       "      <td id=\"T_c912d_row14_col10\" class=\"data row14 col10\" >LIBORUSD3M</td>\n",
       "      <td id=\"T_c912d_row14_col11\" class=\"data row14 col11\" >1.5427%</td>\n",
       "      <td id=\"T_c912d_row14_col12\" class=\"data row14 col12\" >0.0000%</td>\n",
       "      <td id=\"T_c912d_row14_col13\" class=\"data row14 col13\" >1.00</td>\n",
       "      <td id=\"T_c912d_row14_col14\" class=\"data row14 col14\" >LinAct360</td>\n",
       "    </tr>\n",
       "    <tr>\n",
       "      <th id=\"T_c912d_level0_row15\" class=\"row_heading level0 row15\" >15</th>\n",
       "      <td id=\"T_c912d_row15_col0\" class=\"data row15 col0\" >2023-08-14</td>\n",
       "      <td id=\"T_c912d_row15_col1\" class=\"data row15 col1\" >2023-11-13</td>\n",
       "      <td id=\"T_c912d_row15_col2\" class=\"data row15 col2\" >2023-08-10</td>\n",
       "      <td id=\"T_c912d_row15_col3\" class=\"data row15 col3\" >2023-11-13</td>\n",
       "      <td id=\"T_c912d_row15_col4\" class=\"data row15 col4\" >20,000,000.00</td>\n",
       "      <td id=\"T_c912d_row15_col5\" class=\"data row15 col5\" >0.00</td>\n",
       "      <td id=\"T_c912d_row15_col6\" class=\"data row15 col6\" >77,966.23</td>\n",
       "      <td id=\"T_c912d_row15_col7\" class=\"data row15 col7\" >True</td>\n",
       "      <td id=\"T_c912d_row15_col8\" class=\"data row15 col8\" >77,966.23</td>\n",
       "      <td id=\"T_c912d_row15_col9\" class=\"data row15 col9\" >USD</td>\n",
       "      <td id=\"T_c912d_row15_col10\" class=\"data row15 col10\" >LIBORUSD3M</td>\n",
       "      <td id=\"T_c912d_row15_col11\" class=\"data row15 col11\" >1.5422%</td>\n",
       "      <td id=\"T_c912d_row15_col12\" class=\"data row15 col12\" >0.0000%</td>\n",
       "      <td id=\"T_c912d_row15_col13\" class=\"data row15 col13\" >1.00</td>\n",
       "      <td id=\"T_c912d_row15_col14\" class=\"data row15 col14\" >LinAct360</td>\n",
       "    </tr>\n",
       "    <tr>\n",
       "      <th id=\"T_c912d_level0_row16\" class=\"row_heading level0 row16\" >16</th>\n",
       "      <td id=\"T_c912d_row16_col0\" class=\"data row16 col0\" >2023-11-13</td>\n",
       "      <td id=\"T_c912d_row16_col1\" class=\"data row16 col1\" >2024-02-12</td>\n",
       "      <td id=\"T_c912d_row16_col2\" class=\"data row16 col2\" >2023-11-09</td>\n",
       "      <td id=\"T_c912d_row16_col3\" class=\"data row16 col3\" >2024-02-12</td>\n",
       "      <td id=\"T_c912d_row16_col4\" class=\"data row16 col4\" >20,000,000.00</td>\n",
       "      <td id=\"T_c912d_row16_col5\" class=\"data row16 col5\" >0.00</td>\n",
       "      <td id=\"T_c912d_row16_col6\" class=\"data row16 col6\" >77,943.52</td>\n",
       "      <td id=\"T_c912d_row16_col7\" class=\"data row16 col7\" >True</td>\n",
       "      <td id=\"T_c912d_row16_col8\" class=\"data row16 col8\" >77,943.52</td>\n",
       "      <td id=\"T_c912d_row16_col9\" class=\"data row16 col9\" >USD</td>\n",
       "      <td id=\"T_c912d_row16_col10\" class=\"data row16 col10\" >LIBORUSD3M</td>\n",
       "      <td id=\"T_c912d_row16_col11\" class=\"data row16 col11\" >1.5417%</td>\n",
       "      <td id=\"T_c912d_row16_col12\" class=\"data row16 col12\" >0.0000%</td>\n",
       "      <td id=\"T_c912d_row16_col13\" class=\"data row16 col13\" >1.00</td>\n",
       "      <td id=\"T_c912d_row16_col14\" class=\"data row16 col14\" >LinAct360</td>\n",
       "    </tr>\n",
       "    <tr>\n",
       "      <th id=\"T_c912d_level0_row17\" class=\"row_heading level0 row17\" >17</th>\n",
       "      <td id=\"T_c912d_row17_col0\" class=\"data row17 col0\" >2024-02-12</td>\n",
       "      <td id=\"T_c912d_row17_col1\" class=\"data row17 col1\" >2024-05-13</td>\n",
       "      <td id=\"T_c912d_row17_col2\" class=\"data row17 col2\" >2024-02-08</td>\n",
       "      <td id=\"T_c912d_row17_col3\" class=\"data row17 col3\" >2024-05-13</td>\n",
       "      <td id=\"T_c912d_row17_col4\" class=\"data row17 col4\" >20,000,000.00</td>\n",
       "      <td id=\"T_c912d_row17_col5\" class=\"data row17 col5\" >0.00</td>\n",
       "      <td id=\"T_c912d_row17_col6\" class=\"data row17 col6\" >80,765.17</td>\n",
       "      <td id=\"T_c912d_row17_col7\" class=\"data row17 col7\" >True</td>\n",
       "      <td id=\"T_c912d_row17_col8\" class=\"data row17 col8\" >80,765.17</td>\n",
       "      <td id=\"T_c912d_row17_col9\" class=\"data row17 col9\" >USD</td>\n",
       "      <td id=\"T_c912d_row17_col10\" class=\"data row17 col10\" >LIBORUSD3M</td>\n",
       "      <td id=\"T_c912d_row17_col11\" class=\"data row17 col11\" >1.5976%</td>\n",
       "      <td id=\"T_c912d_row17_col12\" class=\"data row17 col12\" >0.0000%</td>\n",
       "      <td id=\"T_c912d_row17_col13\" class=\"data row17 col13\" >1.00</td>\n",
       "      <td id=\"T_c912d_row17_col14\" class=\"data row17 col14\" >LinAct360</td>\n",
       "    </tr>\n",
       "    <tr>\n",
       "      <th id=\"T_c912d_level0_row18\" class=\"row_heading level0 row18\" >18</th>\n",
       "      <td id=\"T_c912d_row18_col0\" class=\"data row18 col0\" >2024-05-13</td>\n",
       "      <td id=\"T_c912d_row18_col1\" class=\"data row18 col1\" >2024-08-12</td>\n",
       "      <td id=\"T_c912d_row18_col2\" class=\"data row18 col2\" >2024-05-09</td>\n",
       "      <td id=\"T_c912d_row18_col3\" class=\"data row18 col3\" >2024-08-12</td>\n",
       "      <td id=\"T_c912d_row18_col4\" class=\"data row18 col4\" >20,000,000.00</td>\n",
       "      <td id=\"T_c912d_row18_col5\" class=\"data row18 col5\" >0.00</td>\n",
       "      <td id=\"T_c912d_row18_col6\" class=\"data row18 col6\" >81,557.64</td>\n",
       "      <td id=\"T_c912d_row18_col7\" class=\"data row18 col7\" >True</td>\n",
       "      <td id=\"T_c912d_row18_col8\" class=\"data row18 col8\" >81,557.64</td>\n",
       "      <td id=\"T_c912d_row18_col9\" class=\"data row18 col9\" >USD</td>\n",
       "      <td id=\"T_c912d_row18_col10\" class=\"data row18 col10\" >LIBORUSD3M</td>\n",
       "      <td id=\"T_c912d_row18_col11\" class=\"data row18 col11\" >1.6132%</td>\n",
       "      <td id=\"T_c912d_row18_col12\" class=\"data row18 col12\" >0.0000%</td>\n",
       "      <td id=\"T_c912d_row18_col13\" class=\"data row18 col13\" >1.00</td>\n",
       "      <td id=\"T_c912d_row18_col14\" class=\"data row18 col14\" >LinAct360</td>\n",
       "    </tr>\n",
       "    <tr>\n",
       "      <th id=\"T_c912d_level0_row19\" class=\"row_heading level0 row19\" >19</th>\n",
       "      <td id=\"T_c912d_row19_col0\" class=\"data row19 col0\" >2024-08-12</td>\n",
       "      <td id=\"T_c912d_row19_col1\" class=\"data row19 col1\" >2024-11-12</td>\n",
       "      <td id=\"T_c912d_row19_col2\" class=\"data row19 col2\" >2024-08-08</td>\n",
       "      <td id=\"T_c912d_row19_col3\" class=\"data row19 col3\" >2024-11-12</td>\n",
       "      <td id=\"T_c912d_row19_col4\" class=\"data row19 col4\" >20,000,000.00</td>\n",
       "      <td id=\"T_c912d_row19_col5\" class=\"data row19 col5\" >0.00</td>\n",
       "      <td id=\"T_c912d_row19_col6\" class=\"data row19 col6\" >82,792.65</td>\n",
       "      <td id=\"T_c912d_row19_col7\" class=\"data row19 col7\" >True</td>\n",
       "      <td id=\"T_c912d_row19_col8\" class=\"data row19 col8\" >82,792.65</td>\n",
       "      <td id=\"T_c912d_row19_col9\" class=\"data row19 col9\" >USD</td>\n",
       "      <td id=\"T_c912d_row19_col10\" class=\"data row19 col10\" >LIBORUSD3M</td>\n",
       "      <td id=\"T_c912d_row19_col11\" class=\"data row19 col11\" >1.6199%</td>\n",
       "      <td id=\"T_c912d_row19_col12\" class=\"data row19 col12\" >0.0000%</td>\n",
       "      <td id=\"T_c912d_row19_col13\" class=\"data row19 col13\" >1.00</td>\n",
       "      <td id=\"T_c912d_row19_col14\" class=\"data row19 col14\" >LinAct360</td>\n",
       "    </tr>\n",
       "    <tr>\n",
       "      <th id=\"T_c912d_level0_row20\" class=\"row_heading level0 row20\" >20</th>\n",
       "      <td id=\"T_c912d_row20_col0\" class=\"data row20 col0\" >2024-11-12</td>\n",
       "      <td id=\"T_c912d_row20_col1\" class=\"data row20 col1\" >2025-02-12</td>\n",
       "      <td id=\"T_c912d_row20_col2\" class=\"data row20 col2\" >2024-11-08</td>\n",
       "      <td id=\"T_c912d_row20_col3\" class=\"data row20 col3\" >2025-02-12</td>\n",
       "      <td id=\"T_c912d_row20_col4\" class=\"data row20 col4\" >20,000,000.00</td>\n",
       "      <td id=\"T_c912d_row20_col5\" class=\"data row20 col5\" >0.00</td>\n",
       "      <td id=\"T_c912d_row20_col6\" class=\"data row20 col6\" >83,129.55</td>\n",
       "      <td id=\"T_c912d_row20_col7\" class=\"data row20 col7\" >True</td>\n",
       "      <td id=\"T_c912d_row20_col8\" class=\"data row20 col8\" >83,129.55</td>\n",
       "      <td id=\"T_c912d_row20_col9\" class=\"data row20 col9\" >USD</td>\n",
       "      <td id=\"T_c912d_row20_col10\" class=\"data row20 col10\" >LIBORUSD3M</td>\n",
       "      <td id=\"T_c912d_row20_col11\" class=\"data row20 col11\" >1.6264%</td>\n",
       "      <td id=\"T_c912d_row20_col12\" class=\"data row20 col12\" >0.0000%</td>\n",
       "      <td id=\"T_c912d_row20_col13\" class=\"data row20 col13\" >1.00</td>\n",
       "      <td id=\"T_c912d_row20_col14\" class=\"data row20 col14\" >LinAct360</td>\n",
       "    </tr>\n",
       "    <tr>\n",
       "      <th id=\"T_c912d_level0_row21\" class=\"row_heading level0 row21\" >21</th>\n",
       "      <td id=\"T_c912d_row21_col0\" class=\"data row21 col0\" >2025-02-12</td>\n",
       "      <td id=\"T_c912d_row21_col1\" class=\"data row21 col1\" >2025-05-12</td>\n",
       "      <td id=\"T_c912d_row21_col2\" class=\"data row21 col2\" >2025-02-10</td>\n",
       "      <td id=\"T_c912d_row21_col3\" class=\"data row21 col3\" >2025-05-12</td>\n",
       "      <td id=\"T_c912d_row21_col4\" class=\"data row21 col4\" >20,000,000.00</td>\n",
       "      <td id=\"T_c912d_row21_col5\" class=\"data row21 col5\" >0.00</td>\n",
       "      <td id=\"T_c912d_row21_col6\" class=\"data row21 col6\" >83,469.23</td>\n",
       "      <td id=\"T_c912d_row21_col7\" class=\"data row21 col7\" >True</td>\n",
       "      <td id=\"T_c912d_row21_col8\" class=\"data row21 col8\" >83,469.23</td>\n",
       "      <td id=\"T_c912d_row21_col9\" class=\"data row21 col9\" >USD</td>\n",
       "      <td id=\"T_c912d_row21_col10\" class=\"data row21 col10\" >LIBORUSD3M</td>\n",
       "      <td id=\"T_c912d_row21_col11\" class=\"data row21 col11\" >1.6881%</td>\n",
       "      <td id=\"T_c912d_row21_col12\" class=\"data row21 col12\" >0.0000%</td>\n",
       "      <td id=\"T_c912d_row21_col13\" class=\"data row21 col13\" >1.00</td>\n",
       "      <td id=\"T_c912d_row21_col14\" class=\"data row21 col14\" >LinAct360</td>\n",
       "    </tr>\n",
       "    <tr>\n",
       "      <th id=\"T_c912d_level0_row22\" class=\"row_heading level0 row22\" >22</th>\n",
       "      <td id=\"T_c912d_row22_col0\" class=\"data row22 col0\" >2025-05-12</td>\n",
       "      <td id=\"T_c912d_row22_col1\" class=\"data row22 col1\" >2025-08-12</td>\n",
       "      <td id=\"T_c912d_row22_col2\" class=\"data row22 col2\" >2025-05-08</td>\n",
       "      <td id=\"T_c912d_row22_col3\" class=\"data row22 col3\" >2025-08-12</td>\n",
       "      <td id=\"T_c912d_row22_col4\" class=\"data row22 col4\" >20,000,000.00</td>\n",
       "      <td id=\"T_c912d_row22_col5\" class=\"data row22 col5\" >0.00</td>\n",
       "      <td id=\"T_c912d_row22_col6\" class=\"data row22 col6\" >87,360.07</td>\n",
       "      <td id=\"T_c912d_row22_col7\" class=\"data row22 col7\" >True</td>\n",
       "      <td id=\"T_c912d_row22_col8\" class=\"data row22 col8\" >87,360.07</td>\n",
       "      <td id=\"T_c912d_row22_col9\" class=\"data row22 col9\" >USD</td>\n",
       "      <td id=\"T_c912d_row22_col10\" class=\"data row22 col10\" >LIBORUSD3M</td>\n",
       "      <td id=\"T_c912d_row22_col11\" class=\"data row22 col11\" >1.7092%</td>\n",
       "      <td id=\"T_c912d_row22_col12\" class=\"data row22 col12\" >0.0000%</td>\n",
       "      <td id=\"T_c912d_row22_col13\" class=\"data row22 col13\" >1.00</td>\n",
       "      <td id=\"T_c912d_row22_col14\" class=\"data row22 col14\" >LinAct360</td>\n",
       "    </tr>\n",
       "    <tr>\n",
       "      <th id=\"T_c912d_level0_row23\" class=\"row_heading level0 row23\" >23</th>\n",
       "      <td id=\"T_c912d_row23_col0\" class=\"data row23 col0\" >2025-08-12</td>\n",
       "      <td id=\"T_c912d_row23_col1\" class=\"data row23 col1\" >2025-11-12</td>\n",
       "      <td id=\"T_c912d_row23_col2\" class=\"data row23 col2\" >2025-08-08</td>\n",
       "      <td id=\"T_c912d_row23_col3\" class=\"data row23 col3\" >2025-11-12</td>\n",
       "      <td id=\"T_c912d_row23_col4\" class=\"data row23 col4\" >20,000,000.00</td>\n",
       "      <td id=\"T_c912d_row23_col5\" class=\"data row23 col5\" >0.00</td>\n",
       "      <td id=\"T_c912d_row23_col6\" class=\"data row23 col6\" >87,967.87</td>\n",
       "      <td id=\"T_c912d_row23_col7\" class=\"data row23 col7\" >True</td>\n",
       "      <td id=\"T_c912d_row23_col8\" class=\"data row23 col8\" >87,967.87</td>\n",
       "      <td id=\"T_c912d_row23_col9\" class=\"data row23 col9\" >USD</td>\n",
       "      <td id=\"T_c912d_row23_col10\" class=\"data row23 col10\" >LIBORUSD3M</td>\n",
       "      <td id=\"T_c912d_row23_col11\" class=\"data row23 col11\" >1.7211%</td>\n",
       "      <td id=\"T_c912d_row23_col12\" class=\"data row23 col12\" >0.0000%</td>\n",
       "      <td id=\"T_c912d_row23_col13\" class=\"data row23 col13\" >1.00</td>\n",
       "      <td id=\"T_c912d_row23_col14\" class=\"data row23 col14\" >LinAct360</td>\n",
       "    </tr>\n",
       "    <tr>\n",
       "      <th id=\"T_c912d_level0_row24\" class=\"row_heading level0 row24\" >24</th>\n",
       "      <td id=\"T_c912d_row24_col0\" class=\"data row24 col0\" >2025-11-12</td>\n",
       "      <td id=\"T_c912d_row24_col1\" class=\"data row24 col1\" >2026-02-12</td>\n",
       "      <td id=\"T_c912d_row24_col2\" class=\"data row24 col2\" >2025-11-10</td>\n",
       "      <td id=\"T_c912d_row24_col3\" class=\"data row24 col3\" >2026-02-12</td>\n",
       "      <td id=\"T_c912d_row24_col4\" class=\"data row24 col4\" >20,000,000.00</td>\n",
       "      <td id=\"T_c912d_row24_col5\" class=\"data row24 col5\" >0.00</td>\n",
       "      <td id=\"T_c912d_row24_col6\" class=\"data row24 col6\" >88,566.05</td>\n",
       "      <td id=\"T_c912d_row24_col7\" class=\"data row24 col7\" >True</td>\n",
       "      <td id=\"T_c912d_row24_col8\" class=\"data row24 col8\" >88,566.05</td>\n",
       "      <td id=\"T_c912d_row24_col9\" class=\"data row24 col9\" >USD</td>\n",
       "      <td id=\"T_c912d_row24_col10\" class=\"data row24 col10\" >LIBORUSD3M</td>\n",
       "      <td id=\"T_c912d_row24_col11\" class=\"data row24 col11\" >1.7328%</td>\n",
       "      <td id=\"T_c912d_row24_col12\" class=\"data row24 col12\" >0.0000%</td>\n",
       "      <td id=\"T_c912d_row24_col13\" class=\"data row24 col13\" >1.00</td>\n",
       "      <td id=\"T_c912d_row24_col14\" class=\"data row24 col14\" >LinAct360</td>\n",
       "    </tr>\n",
       "    <tr>\n",
       "      <th id=\"T_c912d_level0_row25\" class=\"row_heading level0 row25\" >25</th>\n",
       "      <td id=\"T_c912d_row25_col0\" class=\"data row25 col0\" >2026-02-12</td>\n",
       "      <td id=\"T_c912d_row25_col1\" class=\"data row25 col1\" >2026-05-12</td>\n",
       "      <td id=\"T_c912d_row25_col2\" class=\"data row25 col2\" >2026-02-10</td>\n",
       "      <td id=\"T_c912d_row25_col3\" class=\"data row25 col3\" >2026-05-12</td>\n",
       "      <td id=\"T_c912d_row25_col4\" class=\"data row25 col4\" >20,000,000.00</td>\n",
       "      <td id=\"T_c912d_row25_col5\" class=\"data row25 col5\" >0.00</td>\n",
       "      <td id=\"T_c912d_row25_col6\" class=\"data row25 col6\" >86,231.99</td>\n",
       "      <td id=\"T_c912d_row25_col7\" class=\"data row25 col7\" >True</td>\n",
       "      <td id=\"T_c912d_row25_col8\" class=\"data row25 col8\" >86,231.99</td>\n",
       "      <td id=\"T_c912d_row25_col9\" class=\"data row25 col9\" >USD</td>\n",
       "      <td id=\"T_c912d_row25_col10\" class=\"data row25 col10\" >LIBORUSD3M</td>\n",
       "      <td id=\"T_c912d_row25_col11\" class=\"data row25 col11\" >1.7440%</td>\n",
       "      <td id=\"T_c912d_row25_col12\" class=\"data row25 col12\" >0.0000%</td>\n",
       "      <td id=\"T_c912d_row25_col13\" class=\"data row25 col13\" >1.00</td>\n",
       "      <td id=\"T_c912d_row25_col14\" class=\"data row25 col14\" >LinAct360</td>\n",
       "    </tr>\n",
       "    <tr>\n",
       "      <th id=\"T_c912d_level0_row26\" class=\"row_heading level0 row26\" >26</th>\n",
       "      <td id=\"T_c912d_row26_col0\" class=\"data row26 col0\" >2026-05-12</td>\n",
       "      <td id=\"T_c912d_row26_col1\" class=\"data row26 col1\" >2026-08-12</td>\n",
       "      <td id=\"T_c912d_row26_col2\" class=\"data row26 col2\" >2026-05-08</td>\n",
       "      <td id=\"T_c912d_row26_col3\" class=\"data row26 col3\" >2026-08-12</td>\n",
       "      <td id=\"T_c912d_row26_col4\" class=\"data row26 col4\" >20,000,000.00</td>\n",
       "      <td id=\"T_c912d_row26_col5\" class=\"data row26 col5\" >0.00</td>\n",
       "      <td id=\"T_c912d_row26_col6\" class=\"data row26 col6\" >89,714.97</td>\n",
       "      <td id=\"T_c912d_row26_col7\" class=\"data row26 col7\" >True</td>\n",
       "      <td id=\"T_c912d_row26_col8\" class=\"data row26 col8\" >89,714.97</td>\n",
       "      <td id=\"T_c912d_row26_col9\" class=\"data row26 col9\" >USD</td>\n",
       "      <td id=\"T_c912d_row26_col10\" class=\"data row26 col10\" >LIBORUSD3M</td>\n",
       "      <td id=\"T_c912d_row26_col11\" class=\"data row26 col11\" >1.7553%</td>\n",
       "      <td id=\"T_c912d_row26_col12\" class=\"data row26 col12\" >0.0000%</td>\n",
       "      <td id=\"T_c912d_row26_col13\" class=\"data row26 col13\" >1.00</td>\n",
       "      <td id=\"T_c912d_row26_col14\" class=\"data row26 col14\" >LinAct360</td>\n",
       "    </tr>\n",
       "    <tr>\n",
       "      <th id=\"T_c912d_level0_row27\" class=\"row_heading level0 row27\" >27</th>\n",
       "      <td id=\"T_c912d_row27_col0\" class=\"data row27 col0\" >2026-08-12</td>\n",
       "      <td id=\"T_c912d_row27_col1\" class=\"data row27 col1\" >2026-11-12</td>\n",
       "      <td id=\"T_c912d_row27_col2\" class=\"data row27 col2\" >2026-08-10</td>\n",
       "      <td id=\"T_c912d_row27_col3\" class=\"data row27 col3\" >2026-11-12</td>\n",
       "      <td id=\"T_c912d_row27_col4\" class=\"data row27 col4\" >20,000,000.00</td>\n",
       "      <td id=\"T_c912d_row27_col5\" class=\"data row27 col5\" >0.00</td>\n",
       "      <td id=\"T_c912d_row27_col6\" class=\"data row27 col6\" >90,284.84</td>\n",
       "      <td id=\"T_c912d_row27_col7\" class=\"data row27 col7\" >True</td>\n",
       "      <td id=\"T_c912d_row27_col8\" class=\"data row27 col8\" >90,284.84</td>\n",
       "      <td id=\"T_c912d_row27_col9\" class=\"data row27 col9\" >USD</td>\n",
       "      <td id=\"T_c912d_row27_col10\" class=\"data row27 col10\" >LIBORUSD3M</td>\n",
       "      <td id=\"T_c912d_row27_col11\" class=\"data row27 col11\" >1.7664%</td>\n",
       "      <td id=\"T_c912d_row27_col12\" class=\"data row27 col12\" >0.0000%</td>\n",
       "      <td id=\"T_c912d_row27_col13\" class=\"data row27 col13\" >1.00</td>\n",
       "      <td id=\"T_c912d_row27_col14\" class=\"data row27 col14\" >LinAct360</td>\n",
       "    </tr>\n",
       "    <tr>\n",
       "      <th id=\"T_c912d_level0_row28\" class=\"row_heading level0 row28\" >28</th>\n",
       "      <td id=\"T_c912d_row28_col0\" class=\"data row28 col0\" >2026-11-12</td>\n",
       "      <td id=\"T_c912d_row28_col1\" class=\"data row28 col1\" >2027-02-12</td>\n",
       "      <td id=\"T_c912d_row28_col2\" class=\"data row28 col2\" >2026-11-10</td>\n",
       "      <td id=\"T_c912d_row28_col3\" class=\"data row28 col3\" >2027-02-12</td>\n",
       "      <td id=\"T_c912d_row28_col4\" class=\"data row28 col4\" >20,000,000.00</td>\n",
       "      <td id=\"T_c912d_row28_col5\" class=\"data row28 col5\" >0.00</td>\n",
       "      <td id=\"T_c912d_row28_col6\" class=\"data row28 col6\" >90,845.26</td>\n",
       "      <td id=\"T_c912d_row28_col7\" class=\"data row28 col7\" >True</td>\n",
       "      <td id=\"T_c912d_row28_col8\" class=\"data row28 col8\" >90,845.26</td>\n",
       "      <td id=\"T_c912d_row28_col9\" class=\"data row28 col9\" >USD</td>\n",
       "      <td id=\"T_c912d_row28_col10\" class=\"data row28 col10\" >LIBORUSD3M</td>\n",
       "      <td id=\"T_c912d_row28_col11\" class=\"data row28 col11\" >1.7774%</td>\n",
       "      <td id=\"T_c912d_row28_col12\" class=\"data row28 col12\" >0.0000%</td>\n",
       "      <td id=\"T_c912d_row28_col13\" class=\"data row28 col13\" >1.00</td>\n",
       "      <td id=\"T_c912d_row28_col14\" class=\"data row28 col14\" >LinAct360</td>\n",
       "    </tr>\n",
       "    <tr>\n",
       "      <th id=\"T_c912d_level0_row29\" class=\"row_heading level0 row29\" >29</th>\n",
       "      <td id=\"T_c912d_row29_col0\" class=\"data row29 col0\" >2027-02-12</td>\n",
       "      <td id=\"T_c912d_row29_col1\" class=\"data row29 col1\" >2027-05-12</td>\n",
       "      <td id=\"T_c912d_row29_col2\" class=\"data row29 col2\" >2027-02-10</td>\n",
       "      <td id=\"T_c912d_row29_col3\" class=\"data row29 col3\" >2027-05-12</td>\n",
       "      <td id=\"T_c912d_row29_col4\" class=\"data row29 col4\" >20,000,000.00</td>\n",
       "      <td id=\"T_c912d_row29_col5\" class=\"data row29 col5\" >0.00</td>\n",
       "      <td id=\"T_c912d_row29_col6\" class=\"data row29 col6\" >90,645.79</td>\n",
       "      <td id=\"T_c912d_row29_col7\" class=\"data row29 col7\" >True</td>\n",
       "      <td id=\"T_c912d_row29_col8\" class=\"data row29 col8\" >90,645.79</td>\n",
       "      <td id=\"T_c912d_row29_col9\" class=\"data row29 col9\" >USD</td>\n",
       "      <td id=\"T_c912d_row29_col10\" class=\"data row29 col10\" >LIBORUSD3M</td>\n",
       "      <td id=\"T_c912d_row29_col11\" class=\"data row29 col11\" >1.8333%</td>\n",
       "      <td id=\"T_c912d_row29_col12\" class=\"data row29 col12\" >0.0000%</td>\n",
       "      <td id=\"T_c912d_row29_col13\" class=\"data row29 col13\" >1.00</td>\n",
       "      <td id=\"T_c912d_row29_col14\" class=\"data row29 col14\" >LinAct360</td>\n",
       "    </tr>\n",
       "    <tr>\n",
       "      <th id=\"T_c912d_level0_row30\" class=\"row_heading level0 row30\" >30</th>\n",
       "      <td id=\"T_c912d_row30_col0\" class=\"data row30 col0\" >2027-05-12</td>\n",
       "      <td id=\"T_c912d_row30_col1\" class=\"data row30 col1\" >2027-08-12</td>\n",
       "      <td id=\"T_c912d_row30_col2\" class=\"data row30 col2\" >2027-05-10</td>\n",
       "      <td id=\"T_c912d_row30_col3\" class=\"data row30 col3\" >2027-08-12</td>\n",
       "      <td id=\"T_c912d_row30_col4\" class=\"data row30 col4\" >20,000,000.00</td>\n",
       "      <td id=\"T_c912d_row30_col5\" class=\"data row30 col5\" >0.00</td>\n",
       "      <td id=\"T_c912d_row30_col6\" class=\"data row30 col6\" >94,825.45</td>\n",
       "      <td id=\"T_c912d_row30_col7\" class=\"data row30 col7\" >True</td>\n",
       "      <td id=\"T_c912d_row30_col8\" class=\"data row30 col8\" >94,825.45</td>\n",
       "      <td id=\"T_c912d_row30_col9\" class=\"data row30 col9\" >USD</td>\n",
       "      <td id=\"T_c912d_row30_col10\" class=\"data row30 col10\" >LIBORUSD3M</td>\n",
       "      <td id=\"T_c912d_row30_col11\" class=\"data row30 col11\" >1.8553%</td>\n",
       "      <td id=\"T_c912d_row30_col12\" class=\"data row30 col12\" >0.0000%</td>\n",
       "      <td id=\"T_c912d_row30_col13\" class=\"data row30 col13\" >1.00</td>\n",
       "      <td id=\"T_c912d_row30_col14\" class=\"data row30 col14\" >LinAct360</td>\n",
       "    </tr>\n",
       "    <tr>\n",
       "      <th id=\"T_c912d_level0_row31\" class=\"row_heading level0 row31\" >31</th>\n",
       "      <td id=\"T_c912d_row31_col0\" class=\"data row31 col0\" >2027-08-12</td>\n",
       "      <td id=\"T_c912d_row31_col1\" class=\"data row31 col1\" >2027-11-12</td>\n",
       "      <td id=\"T_c912d_row31_col2\" class=\"data row31 col2\" >2027-08-10</td>\n",
       "      <td id=\"T_c912d_row31_col3\" class=\"data row31 col3\" >2027-11-12</td>\n",
       "      <td id=\"T_c912d_row31_col4\" class=\"data row31 col4\" >20,000,000.00</td>\n",
       "      <td id=\"T_c912d_row31_col5\" class=\"data row31 col5\" >0.00</td>\n",
       "      <td id=\"T_c912d_row31_col6\" class=\"data row31 col6\" >95,521.58</td>\n",
       "      <td id=\"T_c912d_row31_col7\" class=\"data row31 col7\" >True</td>\n",
       "      <td id=\"T_c912d_row31_col8\" class=\"data row31 col8\" >95,521.58</td>\n",
       "      <td id=\"T_c912d_row31_col9\" class=\"data row31 col9\" >USD</td>\n",
       "      <td id=\"T_c912d_row31_col10\" class=\"data row31 col10\" >LIBORUSD3M</td>\n",
       "      <td id=\"T_c912d_row31_col11\" class=\"data row31 col11\" >1.8689%</td>\n",
       "      <td id=\"T_c912d_row31_col12\" class=\"data row31 col12\" >0.0000%</td>\n",
       "      <td id=\"T_c912d_row31_col13\" class=\"data row31 col13\" >1.00</td>\n",
       "      <td id=\"T_c912d_row31_col14\" class=\"data row31 col14\" >LinAct360</td>\n",
       "    </tr>\n",
       "    <tr>\n",
       "      <th id=\"T_c912d_level0_row32\" class=\"row_heading level0 row32\" >32</th>\n",
       "      <td id=\"T_c912d_row32_col0\" class=\"data row32 col0\" >2027-11-12</td>\n",
       "      <td id=\"T_c912d_row32_col1\" class=\"data row32 col1\" >2028-02-14</td>\n",
       "      <td id=\"T_c912d_row32_col2\" class=\"data row32 col2\" >2027-11-10</td>\n",
       "      <td id=\"T_c912d_row32_col3\" class=\"data row32 col3\" >2028-02-14</td>\n",
       "      <td id=\"T_c912d_row32_col4\" class=\"data row32 col4\" >20,000,000.00</td>\n",
       "      <td id=\"T_c912d_row32_col5\" class=\"data row32 col5\" >0.00</td>\n",
       "      <td id=\"T_c912d_row32_col6\" class=\"data row32 col6\" >98,309.76</td>\n",
       "      <td id=\"T_c912d_row32_col7\" class=\"data row32 col7\" >True</td>\n",
       "      <td id=\"T_c912d_row32_col8\" class=\"data row32 col8\" >98,309.76</td>\n",
       "      <td id=\"T_c912d_row32_col9\" class=\"data row32 col9\" >USD</td>\n",
       "      <td id=\"T_c912d_row32_col10\" class=\"data row32 col10\" >LIBORUSD3M</td>\n",
       "      <td id=\"T_c912d_row32_col11\" class=\"data row32 col11\" >1.8825%</td>\n",
       "      <td id=\"T_c912d_row32_col12\" class=\"data row32 col12\" >0.0000%</td>\n",
       "      <td id=\"T_c912d_row32_col13\" class=\"data row32 col13\" >1.00</td>\n",
       "      <td id=\"T_c912d_row32_col14\" class=\"data row32 col14\" >LinAct360</td>\n",
       "    </tr>\n",
       "    <tr>\n",
       "      <th id=\"T_c912d_level0_row33\" class=\"row_heading level0 row33\" >33</th>\n",
       "      <td id=\"T_c912d_row33_col0\" class=\"data row33 col0\" >2028-02-14</td>\n",
       "      <td id=\"T_c912d_row33_col1\" class=\"data row33 col1\" >2028-05-12</td>\n",
       "      <td id=\"T_c912d_row33_col2\" class=\"data row33 col2\" >2028-02-10</td>\n",
       "      <td id=\"T_c912d_row33_col3\" class=\"data row33 col3\" >2028-05-12</td>\n",
       "      <td id=\"T_c912d_row33_col4\" class=\"data row33 col4\" >20,000,000.00</td>\n",
       "      <td id=\"T_c912d_row33_col5\" class=\"data row33 col5\" >0.00</td>\n",
       "      <td id=\"T_c912d_row33_col6\" class=\"data row33 col6\" >92,673.72</td>\n",
       "      <td id=\"T_c912d_row33_col7\" class=\"data row33 col7\" >True</td>\n",
       "      <td id=\"T_c912d_row33_col8\" class=\"data row33 col8\" >92,673.72</td>\n",
       "      <td id=\"T_c912d_row33_col9\" class=\"data row33 col9\" >USD</td>\n",
       "      <td id=\"T_c912d_row33_col10\" class=\"data row33 col10\" >LIBORUSD3M</td>\n",
       "      <td id=\"T_c912d_row33_col11\" class=\"data row33 col11\" >1.8956%</td>\n",
       "      <td id=\"T_c912d_row33_col12\" class=\"data row33 col12\" >0.0000%</td>\n",
       "      <td id=\"T_c912d_row33_col13\" class=\"data row33 col13\" >1.00</td>\n",
       "      <td id=\"T_c912d_row33_col14\" class=\"data row33 col14\" >LinAct360</td>\n",
       "    </tr>\n",
       "    <tr>\n",
       "      <th id=\"T_c912d_level0_row34\" class=\"row_heading level0 row34\" >34</th>\n",
       "      <td id=\"T_c912d_row34_col0\" class=\"data row34 col0\" >2028-05-12</td>\n",
       "      <td id=\"T_c912d_row34_col1\" class=\"data row34 col1\" >2028-08-14</td>\n",
       "      <td id=\"T_c912d_row34_col2\" class=\"data row34 col2\" >2028-05-10</td>\n",
       "      <td id=\"T_c912d_row34_col3\" class=\"data row34 col3\" >2028-08-14</td>\n",
       "      <td id=\"T_c912d_row34_col4\" class=\"data row34 col4\" >20,000,000.00</td>\n",
       "      <td id=\"T_c912d_row34_col5\" class=\"data row34 col5\" >0.00</td>\n",
       "      <td id=\"T_c912d_row34_col6\" class=\"data row34 col6\" >99,656.47</td>\n",
       "      <td id=\"T_c912d_row34_col7\" class=\"data row34 col7\" >True</td>\n",
       "      <td id=\"T_c912d_row34_col8\" class=\"data row34 col8\" >99,656.47</td>\n",
       "      <td id=\"T_c912d_row34_col9\" class=\"data row34 col9\" >USD</td>\n",
       "      <td id=\"T_c912d_row34_col10\" class=\"data row34 col10\" >LIBORUSD3M</td>\n",
       "      <td id=\"T_c912d_row34_col11\" class=\"data row34 col11\" >1.9083%</td>\n",
       "      <td id=\"T_c912d_row34_col12\" class=\"data row34 col12\" >0.0000%</td>\n",
       "      <td id=\"T_c912d_row34_col13\" class=\"data row34 col13\" >1.00</td>\n",
       "      <td id=\"T_c912d_row34_col14\" class=\"data row34 col14\" >LinAct360</td>\n",
       "    </tr>\n",
       "    <tr>\n",
       "      <th id=\"T_c912d_level0_row35\" class=\"row_heading level0 row35\" >35</th>\n",
       "      <td id=\"T_c912d_row35_col0\" class=\"data row35 col0\" >2028-08-14</td>\n",
       "      <td id=\"T_c912d_row35_col1\" class=\"data row35 col1\" >2028-11-13</td>\n",
       "      <td id=\"T_c912d_row35_col2\" class=\"data row35 col2\" >2028-08-10</td>\n",
       "      <td id=\"T_c912d_row35_col3\" class=\"data row35 col3\" >2028-11-13</td>\n",
       "      <td id=\"T_c912d_row35_col4\" class=\"data row35 col4\" >20,000,000.00</td>\n",
       "      <td id=\"T_c912d_row35_col5\" class=\"data row35 col5\" >0.00</td>\n",
       "      <td id=\"T_c912d_row35_col6\" class=\"data row35 col6\" >97,119.25</td>\n",
       "      <td id=\"T_c912d_row35_col7\" class=\"data row35 col7\" >True</td>\n",
       "      <td id=\"T_c912d_row35_col8\" class=\"data row35 col8\" >97,119.25</td>\n",
       "      <td id=\"T_c912d_row35_col9\" class=\"data row35 col9\" >USD</td>\n",
       "      <td id=\"T_c912d_row35_col10\" class=\"data row35 col10\" >LIBORUSD3M</td>\n",
       "      <td id=\"T_c912d_row35_col11\" class=\"data row35 col11\" >1.9210%</td>\n",
       "      <td id=\"T_c912d_row35_col12\" class=\"data row35 col12\" >0.0000%</td>\n",
       "      <td id=\"T_c912d_row35_col13\" class=\"data row35 col13\" >1.00</td>\n",
       "      <td id=\"T_c912d_row35_col14\" class=\"data row35 col14\" >LinAct360</td>\n",
       "    </tr>\n",
       "    <tr>\n",
       "      <th id=\"T_c912d_level0_row36\" class=\"row_heading level0 row36\" >36</th>\n",
       "      <td id=\"T_c912d_row36_col0\" class=\"data row36 col0\" >2028-11-13</td>\n",
       "      <td id=\"T_c912d_row36_col1\" class=\"data row36 col1\" >2029-02-12</td>\n",
       "      <td id=\"T_c912d_row36_col2\" class=\"data row36 col2\" >2028-11-09</td>\n",
       "      <td id=\"T_c912d_row36_col3\" class=\"data row36 col3\" >2029-02-12</td>\n",
       "      <td id=\"T_c912d_row36_col4\" class=\"data row36 col4\" >20,000,000.00</td>\n",
       "      <td id=\"T_c912d_row36_col5\" class=\"data row36 col5\" >0.00</td>\n",
       "      <td id=\"T_c912d_row36_col6\" class=\"data row36 col6\" >97,742.18</td>\n",
       "      <td id=\"T_c912d_row36_col7\" class=\"data row36 col7\" >True</td>\n",
       "      <td id=\"T_c912d_row36_col8\" class=\"data row36 col8\" >97,742.18</td>\n",
       "      <td id=\"T_c912d_row36_col9\" class=\"data row36 col9\" >USD</td>\n",
       "      <td id=\"T_c912d_row36_col10\" class=\"data row36 col10\" >LIBORUSD3M</td>\n",
       "      <td id=\"T_c912d_row36_col11\" class=\"data row36 col11\" >1.9334%</td>\n",
       "      <td id=\"T_c912d_row36_col12\" class=\"data row36 col12\" >0.0000%</td>\n",
       "      <td id=\"T_c912d_row36_col13\" class=\"data row36 col13\" >1.00</td>\n",
       "      <td id=\"T_c912d_row36_col14\" class=\"data row36 col14\" >LinAct360</td>\n",
       "    </tr>\n",
       "    <tr>\n",
       "      <th id=\"T_c912d_level0_row37\" class=\"row_heading level0 row37\" >37</th>\n",
       "      <td id=\"T_c912d_row37_col0\" class=\"data row37 col0\" >2029-02-12</td>\n",
       "      <td id=\"T_c912d_row37_col1\" class=\"data row37 col1\" >2029-05-14</td>\n",
       "      <td id=\"T_c912d_row37_col2\" class=\"data row37 col2\" >2029-02-08</td>\n",
       "      <td id=\"T_c912d_row37_col3\" class=\"data row37 col3\" >2029-05-14</td>\n",
       "      <td id=\"T_c912d_row37_col4\" class=\"data row37 col4\" >20,000,000.00</td>\n",
       "      <td id=\"T_c912d_row37_col5\" class=\"data row37 col5\" >0.00</td>\n",
       "      <td id=\"T_c912d_row37_col6\" class=\"data row37 col6\" >98,347.80</td>\n",
       "      <td id=\"T_c912d_row37_col7\" class=\"data row37 col7\" >True</td>\n",
       "      <td id=\"T_c912d_row37_col8\" class=\"data row37 col8\" >98,347.80</td>\n",
       "      <td id=\"T_c912d_row37_col9\" class=\"data row37 col9\" >USD</td>\n",
       "      <td id=\"T_c912d_row37_col10\" class=\"data row37 col10\" >LIBORUSD3M</td>\n",
       "      <td id=\"T_c912d_row37_col11\" class=\"data row37 col11\" >1.9453%</td>\n",
       "      <td id=\"T_c912d_row37_col12\" class=\"data row37 col12\" >0.0000%</td>\n",
       "      <td id=\"T_c912d_row37_col13\" class=\"data row37 col13\" >1.00</td>\n",
       "      <td id=\"T_c912d_row37_col14\" class=\"data row37 col14\" >LinAct360</td>\n",
       "    </tr>\n",
       "    <tr>\n",
       "      <th id=\"T_c912d_level0_row38\" class=\"row_heading level0 row38\" >38</th>\n",
       "      <td id=\"T_c912d_row38_col0\" class=\"data row38 col0\" >2029-05-14</td>\n",
       "      <td id=\"T_c912d_row38_col1\" class=\"data row38 col1\" >2029-08-13</td>\n",
       "      <td id=\"T_c912d_row38_col2\" class=\"data row38 col2\" >2029-05-10</td>\n",
       "      <td id=\"T_c912d_row38_col3\" class=\"data row38 col3\" >2029-08-13</td>\n",
       "      <td id=\"T_c912d_row38_col4\" class=\"data row38 col4\" >20,000,000.00</td>\n",
       "      <td id=\"T_c912d_row38_col5\" class=\"data row38 col5\" >0.00</td>\n",
       "      <td id=\"T_c912d_row38_col6\" class=\"data row38 col6\" >98,954.09</td>\n",
       "      <td id=\"T_c912d_row38_col7\" class=\"data row38 col7\" >True</td>\n",
       "      <td id=\"T_c912d_row38_col8\" class=\"data row38 col8\" >98,954.09</td>\n",
       "      <td id=\"T_c912d_row38_col9\" class=\"data row38 col9\" >USD</td>\n",
       "      <td id=\"T_c912d_row38_col10\" class=\"data row38 col10\" >LIBORUSD3M</td>\n",
       "      <td id=\"T_c912d_row38_col11\" class=\"data row38 col11\" >1.9573%</td>\n",
       "      <td id=\"T_c912d_row38_col12\" class=\"data row38 col12\" >0.0000%</td>\n",
       "      <td id=\"T_c912d_row38_col13\" class=\"data row38 col13\" >1.00</td>\n",
       "      <td id=\"T_c912d_row38_col14\" class=\"data row38 col14\" >LinAct360</td>\n",
       "    </tr>\n",
       "    <tr>\n",
       "      <th id=\"T_c912d_level0_row39\" class=\"row_heading level0 row39\" >39</th>\n",
       "      <td id=\"T_c912d_row39_col0\" class=\"data row39 col0\" >2029-08-13</td>\n",
       "      <td id=\"T_c912d_row39_col1\" class=\"data row39 col1\" >2029-11-12</td>\n",
       "      <td id=\"T_c912d_row39_col2\" class=\"data row39 col2\" >2029-08-09</td>\n",
       "      <td id=\"T_c912d_row39_col3\" class=\"data row39 col3\" >2029-11-12</td>\n",
       "      <td id=\"T_c912d_row39_col4\" class=\"data row39 col4\" >20,000,000.00</td>\n",
       "      <td id=\"T_c912d_row39_col5\" class=\"data row39 col5\" >20,000,000.00</td>\n",
       "      <td id=\"T_c912d_row39_col6\" class=\"data row39 col6\" >99,543.20</td>\n",
       "      <td id=\"T_c912d_row39_col7\" class=\"data row39 col7\" >True</td>\n",
       "      <td id=\"T_c912d_row39_col8\" class=\"data row39 col8\" >20,099,543.20</td>\n",
       "      <td id=\"T_c912d_row39_col9\" class=\"data row39 col9\" >USD</td>\n",
       "      <td id=\"T_c912d_row39_col10\" class=\"data row39 col10\" >LIBORUSD3M</td>\n",
       "      <td id=\"T_c912d_row39_col11\" class=\"data row39 col11\" >1.9690%</td>\n",
       "      <td id=\"T_c912d_row39_col12\" class=\"data row39 col12\" >0.0000%</td>\n",
       "      <td id=\"T_c912d_row39_col13\" class=\"data row39 col13\" >1.00</td>\n",
       "      <td id=\"T_c912d_row39_col14\" class=\"data row39 col14\" >LinAct360</td>\n",
       "    </tr>\n",
       "  </tbody>\n",
       "</table>\n"
      ],
      "text/plain": [
       "<pandas.io.formats.style.Styler at 0x125b4d1d0>"
      ]
     },
     "execution_count": 85,
     "metadata": {},
     "output_type": "execute_result"
    }
   ],
   "source": [
    "# Se define un list donde almacenar los resultados de la función show\n",
    "tabla = []\n",
    "for i in range(0, ibor_leg.size()):\n",
    "    tabla.append(qcf.show(ibor_leg.get_cashflow_at(i)))\n",
    "\n",
    "# Se utiliza tabla para inicializar el Dataframe\n",
    "columnas = ['fecha_inicial', 'fecha__final', 'fecha_fixing', 'fecha__pago', 'nominal', 'amort', 'interes', 'amort_es_flujo', 'flujo',\n",
    "            'moneda', 'codigo_indice', 'valor_tasa', 'spread', 'gearing', 'tipo_tasa']\n",
    "df5 = pd.DataFrame(tabla, columns=columnas)\n",
    "\n",
    "# Se despliega la data en este formato\n",
    "df5.style.format(format_dict)"
   ]
  },
  {
   "cell_type": "code",
   "execution_count": 86,
   "metadata": {
    "execution": {
     "iopub.execute_input": "2024-01-04T22:42:06.846131Z",
     "iopub.status.busy": "2024-01-04T22:42:06.845542Z",
     "iopub.status.idle": "2024-01-04T22:42:06.855145Z",
     "shell.execute_reply": "2024-01-04T22:42:06.854120Z",
     "shell.execute_reply.started": "2024-01-04T22:42:06.846049Z"
    }
   },
   "outputs": [
    {
     "name": "stdout",
     "output_type": "stream",
     "text": [
      "d1: -13\n",
      "d2: 77\n",
      "Factor forward: 100.4379%\n",
      "Tasa forward: 1.7517%\n",
      "Curve method 1.5288%\n"
     ]
    }
   ],
   "source": [
    "which_cashflow = 1\n",
    "d1 = fecha_hoy.day_diff(ibor_leg.get_cashflow_at(which_cashflow).get_start_date())\n",
    "d2 = fecha_hoy.day_diff(ibor_leg.get_cashflow_at(which_cashflow).get_end_date())\n",
    "print(\"d1: {0:,.0f}\".format(d1))\n",
    "print(\"d2: {0:,.0f}\".format(d2))\n",
    "crv = zz2\n",
    "w1 = 1 / crv.get_discount_factor_at(d1)\n",
    "w2 = 1 / crv.get_discount_factor_at(d2)\n",
    "print(\"Factor forward: {0:.4%}\".format(w2 / w1))\n",
    "print(\"Tasa forward: {0:.4%}\".format((w2 / w1 - 1) * 360 / (d2 - d1)))\n",
    "print(\"Curve method {0:.4%}\".format(crv.get_forward_rate_with_rate(libor_usd_3m.get_rate(), d1, d2)))"
   ]
  },
  {
   "cell_type": "code",
   "execution_count": 87,
   "metadata": {
    "cell_style": "center",
    "execution": {
     "iopub.execute_input": "2024-01-04T22:42:06.857252Z",
     "iopub.status.busy": "2024-01-04T22:42:06.856845Z",
     "iopub.status.idle": "2024-01-04T22:42:06.861888Z",
     "shell.execute_reply": "2024-01-04T22:42:06.860731Z",
     "shell.execute_reply.started": "2024-01-04T22:42:06.857222Z"
    }
   },
   "outputs": [
    {
     "name": "stdout",
     "output_type": "stream",
     "text": [
      "Valor presente pata IBOR: 19,923,921\n"
     ]
    }
   ],
   "source": [
    "vp_ibor = pv.pv(fecha_hoy, ibor_leg, zz2)\n",
    "print(\"Valor presente pata IBOR: {0:,.0f}\".format(vp_ibor))"
   ]
  },
  {
   "cell_type": "code",
   "execution_count": 88,
   "metadata": {
    "execution": {
     "iopub.execute_input": "2024-01-04T22:42:06.863795Z",
     "iopub.status.busy": "2024-01-04T22:42:06.863071Z",
     "iopub.status.idle": "2024-01-04T22:42:06.870144Z",
     "shell.execute_reply": "2024-01-04T22:42:06.869147Z",
     "shell.execute_reply.started": "2024-01-04T22:42:06.863764Z"
    }
   },
   "outputs": [
    {
     "name": "stdout",
     "output_type": "stream",
     "text": [
      "Sensibilidad en 0: 0\n",
      "Sensibilidad en 1: 0\n",
      "Sensibilidad en 2: 0\n",
      "Sensibilidad en 3: 0\n",
      "Sensibilidad en 4: 0\n",
      "Sensibilidad en 5: 0\n",
      "Sensibilidad en 6: 0\n",
      "Sensibilidad en 7: 0\n",
      "Sensibilidad en 8: -2\n",
      "Sensibilidad en 9: -2\n",
      "Sensibilidad en 10: 0\n",
      "Sensibilidad en 11: -3\n",
      "Sensibilidad en 12: -3\n",
      "Sensibilidad en 13: 0\n",
      "Sensibilidad en 14: -3\n",
      "Sensibilidad en 15: -10\n",
      "Sensibilidad en 16: -21\n",
      "Sensibilidad en 17: -47\n",
      "Sensibilidad en 18: -85\n",
      "Sensibilidad en 19: -114\n",
      "Sensibilidad en 20: -234\n",
      "Sensibilidad en 21: -1,895\n",
      "Sensibilidad en 22: -13,122\n",
      "Sensibilidad en 23: 0\n",
      "Sensibilidad en 24: 0\n",
      "Sensibilidad en 25: 0\n",
      "Sensibilidad en 26: 0\n",
      "Sensibilidad en 27: 0\n",
      "Sensibilidad de descuento: -15,541 USD\n"
     ]
    }
   ],
   "source": [
    "der = pv.get_derivatives()\n",
    "i = 0\n",
    "bp = .0001\n",
    "for d in der:\n",
    "    print(\"Sensibilidad en {0:}: {1:0,.0f}\".format(i, d * bp))\n",
    "    i += 1\n",
    "print(\"Sensibilidad de descuento: {0:,.0f} USD\".format(sum(der) * bp))"
   ]
  },
  {
   "cell_type": "markdown",
   "metadata": {},
   "source": [
    "#### Se verifica la sensibilidad de descuento por diferencias finitas."
   ]
  },
  {
   "cell_type": "code",
   "execution_count": 89,
   "metadata": {
    "execution": {
     "iopub.execute_input": "2024-01-04T22:42:06.872176Z",
     "iopub.status.busy": "2024-01-04T22:42:06.871751Z",
     "iopub.status.idle": "2024-01-04T22:42:06.879185Z",
     "shell.execute_reply": "2024-01-04T22:42:06.878016Z",
     "shell.execute_reply.started": "2024-01-04T22:42:06.872144Z"
    }
   },
   "outputs": [
    {
     "name": "stdout",
     "output_type": "stream",
     "text": [
      "Valor presente up pata IBOR: 19,923,921\n",
      "Valor presente down pata IBOR: 19,923,921\n",
      "Sensibilidad de descuento en el vértice 13: 0\n"
     ]
    }
   ],
   "source": [
    "vp_ibor_up = pv.pv(fecha_hoy, ibor_leg, zz2_sens_up)\n",
    "print(\"Valor presente up pata IBOR: {0:,.0f}\".format(vp_ibor_up))\n",
    "\n",
    "vp_ibor_down = pv.pv(fecha_hoy, ibor_leg, zz2_sens_down)\n",
    "print(\"Valor presente down pata IBOR: {0:,.0f}\".format(vp_ibor_down))\n",
    "\n",
    "print(\"Sensibilidad de descuento en el vértice {0:}: {1:,.0f}\".format(vertice, (vp_ibor_up - vp_ibor_down) / 2))"
   ]
  },
  {
   "cell_type": "markdown",
   "metadata": {},
   "source": [
    "Se calcula también la sensibilidad a la curva de proyección."
   ]
  },
  {
   "cell_type": "code",
   "execution_count": 90,
   "metadata": {
    "execution": {
     "iopub.execute_input": "2024-01-04T22:42:06.880639Z",
     "iopub.status.busy": "2024-01-04T22:42:06.880201Z",
     "iopub.status.idle": "2024-01-04T22:42:06.896431Z",
     "shell.execute_reply": "2024-01-04T22:42:06.895353Z",
     "shell.execute_reply.started": "2024-01-04T22:42:06.880609Z"
    }
   },
   "outputs": [
    {
     "name": "stdout",
     "output_type": "stream",
     "text": [
      "Sensibilidad en 0: 0\n",
      "Sensibilidad en 1: 0\n",
      "Sensibilidad en 2: 0\n",
      "Sensibilidad en 3: 0\n",
      "Sensibilidad en 4: 0\n",
      "Sensibilidad en 5: -192\n",
      "Sensibilidad en 6: -233\n",
      "Sensibilidad en 7: 0\n",
      "Sensibilidad en 8: 2\n",
      "Sensibilidad en 9: 2\n",
      "Sensibilidad en 10: 0\n",
      "Sensibilidad en 11: 3\n",
      "Sensibilidad en 12: 3\n",
      "Sensibilidad en 13: 0\n",
      "Sensibilidad en 14: 3\n",
      "Sensibilidad en 15: 10\n",
      "Sensibilidad en 16: 21\n",
      "Sensibilidad en 17: 1\n",
      "Sensibilidad en 18: 81\n",
      "Sensibilidad en 19: 193\n",
      "Sensibilidad en 20: 258\n",
      "Sensibilidad en 21: 1,820\n",
      "Sensibilidad en 22: 13,222\n",
      "Sensibilidad en 23: 0\n",
      "Sensibilidad en 24: 0\n",
      "Sensibilidad en 25: 0\n",
      "Sensibilidad en 26: 0\n",
      "Sensibilidad en 27: 0\n",
      "Sensibilidad de proyección: 15,194 USD\n"
     ]
    }
   ],
   "source": [
    "import numpy as np\n",
    "bp = .0001\n",
    "result = []\n",
    "\n",
    "for i in range(ibor_leg.size()):\n",
    "    cshflw = ibor_leg.get_cashflow_at(i)\n",
    "    df = zz2.get_discount_factor_at(fecha_hoy.day_diff(cshflw.get_settlement_date()))\n",
    "    amt_der = cshflw.get_amount_derivatives()\n",
    "    if len(amt_der) > 0:\n",
    "        amt_der = [a * bp * df for a in amt_der]\n",
    "        result.append(np.array(amt_der))\n",
    "\n",
    "total = result[0] * 0\n",
    "for r in result:\n",
    "    total += r\n",
    "\n",
    "for i in range(len(total)):\n",
    "    print(\"Sensibilidad en {0:}: {1:0,.0f}\".format(i, total[i]))\n",
    "\n",
    "print(\"Sensibilidad de proyección: {0:,.0f} USD\".format(sum(total)))"
   ]
  },
  {
   "cell_type": "markdown",
   "metadata": {},
   "source": [
    "#### Se verifica la sensibilidad de proyección por diferencias finitas."
   ]
  },
  {
   "cell_type": "code",
   "execution_count": 91,
   "metadata": {
    "execution": {
     "iopub.execute_input": "2024-01-04T22:42:06.898208Z",
     "iopub.status.busy": "2024-01-04T22:42:06.897572Z",
     "iopub.status.idle": "2024-01-04T22:42:06.905396Z",
     "shell.execute_reply": "2024-01-04T22:42:06.904427Z",
     "shell.execute_reply.started": "2024-01-04T22:42:06.898177Z"
    }
   },
   "outputs": [
    {
     "name": "stdout",
     "output_type": "stream",
     "text": [
      "Valor presente up pata IBOR: 19,923,921\n",
      "Valor presente down pata IBOR: 19,923,921\n",
      "Sensibilidad de proyección en el vértice 13: 0\n"
     ]
    }
   ],
   "source": [
    "fwd_rates.set_rates_ibor_leg(fecha_hoy, ibor_leg, zz2_sens_up)\n",
    "vp_ibor_up = pv.pv(fecha_hoy, ibor_leg, zz2)\n",
    "print(\"Valor presente up pata IBOR: {0:,.0f}\".format(vp_ibor_up))\n",
    "\n",
    "fwd_rates.set_rates_ibor_leg(fecha_hoy, ibor_leg, zz2_sens_down)\n",
    "vp_ibor_down = pv.pv(fecha_hoy, ibor_leg, zz2)\n",
    "print(\"Valor presente down pata IBOR: {0:,.0f}\".format(vp_ibor_down))\n",
    "\n",
    "print(\"Sensibilidad de proyección en el vértice {0:}: {1:,.0f}\".format(vertice, (vp_ibor_up - vp_ibor_down) / 2))"
   ]
  },
  {
   "cell_type": "markdown",
   "metadata": {},
   "source": [
    "### IcpClfCashflow Leg"
   ]
  },
  {
   "cell_type": "code",
   "execution_count": 92,
   "metadata": {
    "execution": {
     "iopub.execute_input": "2024-01-04T22:42:06.907053Z",
     "iopub.status.busy": "2024-01-04T22:42:06.906698Z",
     "iopub.status.idle": "2024-01-04T22:42:06.913674Z",
     "shell.execute_reply": "2024-01-04T22:42:06.912622Z",
     "shell.execute_reply.started": "2024-01-04T22:42:06.907026Z"
    }
   },
   "outputs": [],
   "source": [
    "# Se da de alta los parámetros requeridos\n",
    "rp = qcf.RecPay.RECEIVE\n",
    "fecha_inicio = qcf.QCDate(31, 5, 2018)\n",
    "fecha_final = qcf.QCDate(9, 5, 2026) \n",
    "bus_adj_rule = qcf.BusyAdjRules.FOLLOW\n",
    "periodicidad_pago = qcf.Tenor('6M')\n",
    "periodo_irregular_pago = qcf.StubPeriod.SHORTFRONT\n",
    "calendario = qcf.BusinessCalendar(fecha_inicio, 20)\n",
    "lag_pago = 0\n",
    "nominal = 6000_00.0\n",
    "amort_es_flujo = True \n",
    "spread = .0\n",
    "gearing = 1.0\n",
    "\n",
    "icp_clf_leg = qcf.LegFactory.build_bullet_icp_clf_leg(\n",
    "    rp, \n",
    "    fecha_inicio, \n",
    "    fecha_final, \n",
    "    bus_adj_rule, \n",
    "    periodicidad_pago,\n",
    "    periodo_irregular_pago, \n",
    "    calendario, \n",
    "    lag_pago,\n",
    "    nominal, \n",
    "    amort_es_flujo, \n",
    "    spread, \n",
    "    gearing\n",
    ")"
   ]
  },
  {
   "cell_type": "code",
   "execution_count": 93,
   "metadata": {
    "execution": {
     "iopub.execute_input": "2024-01-04T22:42:06.915386Z",
     "iopub.status.busy": "2024-01-04T22:42:06.914966Z",
     "iopub.status.idle": "2024-01-04T22:42:06.936670Z",
     "shell.execute_reply": "2024-01-04T22:42:06.935734Z",
     "shell.execute_reply.started": "2024-01-04T22:42:06.915357Z"
    }
   },
   "outputs": [
    {
     "data": {
      "text/html": [
       "<style type=\"text/css\">\n",
       "</style>\n",
       "<table id=\"T_60772\">\n",
       "  <thead>\n",
       "    <tr>\n",
       "      <th class=\"blank level0\" >&nbsp;</th>\n",
       "      <th id=\"T_60772_level0_col0\" class=\"col_heading level0 col0\" >fecha_inicial</th>\n",
       "      <th id=\"T_60772_level0_col1\" class=\"col_heading level0 col1\" >fecha__final</th>\n",
       "      <th id=\"T_60772_level0_col2\" class=\"col_heading level0 col2\" >fecha__pago</th>\n",
       "      <th id=\"T_60772_level0_col3\" class=\"col_heading level0 col3\" >nominal</th>\n",
       "      <th id=\"T_60772_level0_col4\" class=\"col_heading level0 col4\" >amort</th>\n",
       "      <th id=\"T_60772_level0_col5\" class=\"col_heading level0 col5\" >amort_es_flujo</th>\n",
       "      <th id=\"T_60772_level0_col6\" class=\"col_heading level0 col6\" >flujo</th>\n",
       "      <th id=\"T_60772_level0_col7\" class=\"col_heading level0 col7\" >moneda</th>\n",
       "      <th id=\"T_60772_level0_col8\" class=\"col_heading level0 col8\" >icp_inicial</th>\n",
       "      <th id=\"T_60772_level0_col9\" class=\"col_heading level0 col9\" >icp_final</th>\n",
       "      <th id=\"T_60772_level0_col10\" class=\"col_heading level0 col10\" >uf_inicial</th>\n",
       "      <th id=\"T_60772_level0_col11\" class=\"col_heading level0 col11\" >uf_final</th>\n",
       "      <th id=\"T_60772_level0_col12\" class=\"col_heading level0 col12\" >valor_tasa</th>\n",
       "      <th id=\"T_60772_level0_col13\" class=\"col_heading level0 col13\" >interes</th>\n",
       "      <th id=\"T_60772_level0_col14\" class=\"col_heading level0 col14\" >spread</th>\n",
       "      <th id=\"T_60772_level0_col15\" class=\"col_heading level0 col15\" >gearing</th>\n",
       "      <th id=\"T_60772_level0_col16\" class=\"col_heading level0 col16\" >tipo_tasa</th>\n",
       "    </tr>\n",
       "  </thead>\n",
       "  <tbody>\n",
       "    <tr>\n",
       "      <th id=\"T_60772_level0_row0\" class=\"row_heading level0 row0\" >0</th>\n",
       "      <td id=\"T_60772_row0_col0\" class=\"data row0 col0\" >2018-05-31</td>\n",
       "      <td id=\"T_60772_row0_col1\" class=\"data row0 col1\" >2018-11-09</td>\n",
       "      <td id=\"T_60772_row0_col2\" class=\"data row0 col2\" >2018-11-09</td>\n",
       "      <td id=\"T_60772_row0_col3\" class=\"data row0 col3\" >600,000.00</td>\n",
       "      <td id=\"T_60772_row0_col4\" class=\"data row0 col4\" >0.00</td>\n",
       "      <td id=\"T_60772_row0_col5\" class=\"data row0 col5\" >True</td>\n",
       "      <td id=\"T_60772_row0_col6\" class=\"data row0 col6\" >0.00</td>\n",
       "      <td id=\"T_60772_row0_col7\" class=\"data row0 col7\" >CLF</td>\n",
       "      <td id=\"T_60772_row0_col8\" class=\"data row0 col8\" >10,000.00</td>\n",
       "      <td id=\"T_60772_row0_col9\" class=\"data row0 col9\" >10,000.00</td>\n",
       "      <td id=\"T_60772_row0_col10\" class=\"data row0 col10\" >35,000.00</td>\n",
       "      <td id=\"T_60772_row0_col11\" class=\"data row0 col11\" >35,000.00</td>\n",
       "      <td id=\"T_60772_row0_col12\" class=\"data row0 col12\" >0.0000%</td>\n",
       "      <td id=\"T_60772_row0_col13\" class=\"data row0 col13\" >0.00</td>\n",
       "      <td id=\"T_60772_row0_col14\" class=\"data row0 col14\" >0.0000%</td>\n",
       "      <td id=\"T_60772_row0_col15\" class=\"data row0 col15\" >1.00</td>\n",
       "      <td id=\"T_60772_row0_col16\" class=\"data row0 col16\" >LinAct360</td>\n",
       "    </tr>\n",
       "    <tr>\n",
       "      <th id=\"T_60772_level0_row1\" class=\"row_heading level0 row1\" >1</th>\n",
       "      <td id=\"T_60772_row1_col0\" class=\"data row1 col0\" >2018-11-09</td>\n",
       "      <td id=\"T_60772_row1_col1\" class=\"data row1 col1\" >2019-05-09</td>\n",
       "      <td id=\"T_60772_row1_col2\" class=\"data row1 col2\" >2019-05-09</td>\n",
       "      <td id=\"T_60772_row1_col3\" class=\"data row1 col3\" >600,000.00</td>\n",
       "      <td id=\"T_60772_row1_col4\" class=\"data row1 col4\" >0.00</td>\n",
       "      <td id=\"T_60772_row1_col5\" class=\"data row1 col5\" >True</td>\n",
       "      <td id=\"T_60772_row1_col6\" class=\"data row1 col6\" >0.00</td>\n",
       "      <td id=\"T_60772_row1_col7\" class=\"data row1 col7\" >CLF</td>\n",
       "      <td id=\"T_60772_row1_col8\" class=\"data row1 col8\" >10,000.00</td>\n",
       "      <td id=\"T_60772_row1_col9\" class=\"data row1 col9\" >10,000.00</td>\n",
       "      <td id=\"T_60772_row1_col10\" class=\"data row1 col10\" >35,000.00</td>\n",
       "      <td id=\"T_60772_row1_col11\" class=\"data row1 col11\" >35,000.00</td>\n",
       "      <td id=\"T_60772_row1_col12\" class=\"data row1 col12\" >0.0000%</td>\n",
       "      <td id=\"T_60772_row1_col13\" class=\"data row1 col13\" >0.00</td>\n",
       "      <td id=\"T_60772_row1_col14\" class=\"data row1 col14\" >0.0000%</td>\n",
       "      <td id=\"T_60772_row1_col15\" class=\"data row1 col15\" >1.00</td>\n",
       "      <td id=\"T_60772_row1_col16\" class=\"data row1 col16\" >LinAct360</td>\n",
       "    </tr>\n",
       "    <tr>\n",
       "      <th id=\"T_60772_level0_row2\" class=\"row_heading level0 row2\" >2</th>\n",
       "      <td id=\"T_60772_row2_col0\" class=\"data row2 col0\" >2019-05-09</td>\n",
       "      <td id=\"T_60772_row2_col1\" class=\"data row2 col1\" >2019-11-11</td>\n",
       "      <td id=\"T_60772_row2_col2\" class=\"data row2 col2\" >2019-11-11</td>\n",
       "      <td id=\"T_60772_row2_col3\" class=\"data row2 col3\" >600,000.00</td>\n",
       "      <td id=\"T_60772_row2_col4\" class=\"data row2 col4\" >0.00</td>\n",
       "      <td id=\"T_60772_row2_col5\" class=\"data row2 col5\" >True</td>\n",
       "      <td id=\"T_60772_row2_col6\" class=\"data row2 col6\" >0.00</td>\n",
       "      <td id=\"T_60772_row2_col7\" class=\"data row2 col7\" >CLF</td>\n",
       "      <td id=\"T_60772_row2_col8\" class=\"data row2 col8\" >10,000.00</td>\n",
       "      <td id=\"T_60772_row2_col9\" class=\"data row2 col9\" >10,000.00</td>\n",
       "      <td id=\"T_60772_row2_col10\" class=\"data row2 col10\" >35,000.00</td>\n",
       "      <td id=\"T_60772_row2_col11\" class=\"data row2 col11\" >35,000.00</td>\n",
       "      <td id=\"T_60772_row2_col12\" class=\"data row2 col12\" >0.0000%</td>\n",
       "      <td id=\"T_60772_row2_col13\" class=\"data row2 col13\" >0.00</td>\n",
       "      <td id=\"T_60772_row2_col14\" class=\"data row2 col14\" >0.0000%</td>\n",
       "      <td id=\"T_60772_row2_col15\" class=\"data row2 col15\" >1.00</td>\n",
       "      <td id=\"T_60772_row2_col16\" class=\"data row2 col16\" >LinAct360</td>\n",
       "    </tr>\n",
       "    <tr>\n",
       "      <th id=\"T_60772_level0_row3\" class=\"row_heading level0 row3\" >3</th>\n",
       "      <td id=\"T_60772_row3_col0\" class=\"data row3 col0\" >2019-11-11</td>\n",
       "      <td id=\"T_60772_row3_col1\" class=\"data row3 col1\" >2020-05-11</td>\n",
       "      <td id=\"T_60772_row3_col2\" class=\"data row3 col2\" >2020-05-11</td>\n",
       "      <td id=\"T_60772_row3_col3\" class=\"data row3 col3\" >600,000.00</td>\n",
       "      <td id=\"T_60772_row3_col4\" class=\"data row3 col4\" >0.00</td>\n",
       "      <td id=\"T_60772_row3_col5\" class=\"data row3 col5\" >True</td>\n",
       "      <td id=\"T_60772_row3_col6\" class=\"data row3 col6\" >0.00</td>\n",
       "      <td id=\"T_60772_row3_col7\" class=\"data row3 col7\" >CLF</td>\n",
       "      <td id=\"T_60772_row3_col8\" class=\"data row3 col8\" >10,000.00</td>\n",
       "      <td id=\"T_60772_row3_col9\" class=\"data row3 col9\" >10,000.00</td>\n",
       "      <td id=\"T_60772_row3_col10\" class=\"data row3 col10\" >35,000.00</td>\n",
       "      <td id=\"T_60772_row3_col11\" class=\"data row3 col11\" >35,000.00</td>\n",
       "      <td id=\"T_60772_row3_col12\" class=\"data row3 col12\" >0.0000%</td>\n",
       "      <td id=\"T_60772_row3_col13\" class=\"data row3 col13\" >0.00</td>\n",
       "      <td id=\"T_60772_row3_col14\" class=\"data row3 col14\" >0.0000%</td>\n",
       "      <td id=\"T_60772_row3_col15\" class=\"data row3 col15\" >1.00</td>\n",
       "      <td id=\"T_60772_row3_col16\" class=\"data row3 col16\" >LinAct360</td>\n",
       "    </tr>\n",
       "    <tr>\n",
       "      <th id=\"T_60772_level0_row4\" class=\"row_heading level0 row4\" >4</th>\n",
       "      <td id=\"T_60772_row4_col0\" class=\"data row4 col0\" >2020-05-11</td>\n",
       "      <td id=\"T_60772_row4_col1\" class=\"data row4 col1\" >2020-11-09</td>\n",
       "      <td id=\"T_60772_row4_col2\" class=\"data row4 col2\" >2020-11-09</td>\n",
       "      <td id=\"T_60772_row4_col3\" class=\"data row4 col3\" >600,000.00</td>\n",
       "      <td id=\"T_60772_row4_col4\" class=\"data row4 col4\" >0.00</td>\n",
       "      <td id=\"T_60772_row4_col5\" class=\"data row4 col5\" >True</td>\n",
       "      <td id=\"T_60772_row4_col6\" class=\"data row4 col6\" >0.00</td>\n",
       "      <td id=\"T_60772_row4_col7\" class=\"data row4 col7\" >CLF</td>\n",
       "      <td id=\"T_60772_row4_col8\" class=\"data row4 col8\" >10,000.00</td>\n",
       "      <td id=\"T_60772_row4_col9\" class=\"data row4 col9\" >10,000.00</td>\n",
       "      <td id=\"T_60772_row4_col10\" class=\"data row4 col10\" >35,000.00</td>\n",
       "      <td id=\"T_60772_row4_col11\" class=\"data row4 col11\" >35,000.00</td>\n",
       "      <td id=\"T_60772_row4_col12\" class=\"data row4 col12\" >0.0000%</td>\n",
       "      <td id=\"T_60772_row4_col13\" class=\"data row4 col13\" >0.00</td>\n",
       "      <td id=\"T_60772_row4_col14\" class=\"data row4 col14\" >0.0000%</td>\n",
       "      <td id=\"T_60772_row4_col15\" class=\"data row4 col15\" >1.00</td>\n",
       "      <td id=\"T_60772_row4_col16\" class=\"data row4 col16\" >LinAct360</td>\n",
       "    </tr>\n",
       "    <tr>\n",
       "      <th id=\"T_60772_level0_row5\" class=\"row_heading level0 row5\" >5</th>\n",
       "      <td id=\"T_60772_row5_col0\" class=\"data row5 col0\" >2020-11-09</td>\n",
       "      <td id=\"T_60772_row5_col1\" class=\"data row5 col1\" >2021-05-10</td>\n",
       "      <td id=\"T_60772_row5_col2\" class=\"data row5 col2\" >2021-05-10</td>\n",
       "      <td id=\"T_60772_row5_col3\" class=\"data row5 col3\" >600,000.00</td>\n",
       "      <td id=\"T_60772_row5_col4\" class=\"data row5 col4\" >0.00</td>\n",
       "      <td id=\"T_60772_row5_col5\" class=\"data row5 col5\" >True</td>\n",
       "      <td id=\"T_60772_row5_col6\" class=\"data row5 col6\" >0.00</td>\n",
       "      <td id=\"T_60772_row5_col7\" class=\"data row5 col7\" >CLF</td>\n",
       "      <td id=\"T_60772_row5_col8\" class=\"data row5 col8\" >10,000.00</td>\n",
       "      <td id=\"T_60772_row5_col9\" class=\"data row5 col9\" >10,000.00</td>\n",
       "      <td id=\"T_60772_row5_col10\" class=\"data row5 col10\" >35,000.00</td>\n",
       "      <td id=\"T_60772_row5_col11\" class=\"data row5 col11\" >35,000.00</td>\n",
       "      <td id=\"T_60772_row5_col12\" class=\"data row5 col12\" >0.0000%</td>\n",
       "      <td id=\"T_60772_row5_col13\" class=\"data row5 col13\" >0.00</td>\n",
       "      <td id=\"T_60772_row5_col14\" class=\"data row5 col14\" >0.0000%</td>\n",
       "      <td id=\"T_60772_row5_col15\" class=\"data row5 col15\" >1.00</td>\n",
       "      <td id=\"T_60772_row5_col16\" class=\"data row5 col16\" >LinAct360</td>\n",
       "    </tr>\n",
       "    <tr>\n",
       "      <th id=\"T_60772_level0_row6\" class=\"row_heading level0 row6\" >6</th>\n",
       "      <td id=\"T_60772_row6_col0\" class=\"data row6 col0\" >2021-05-10</td>\n",
       "      <td id=\"T_60772_row6_col1\" class=\"data row6 col1\" >2021-11-09</td>\n",
       "      <td id=\"T_60772_row6_col2\" class=\"data row6 col2\" >2021-11-09</td>\n",
       "      <td id=\"T_60772_row6_col3\" class=\"data row6 col3\" >600,000.00</td>\n",
       "      <td id=\"T_60772_row6_col4\" class=\"data row6 col4\" >0.00</td>\n",
       "      <td id=\"T_60772_row6_col5\" class=\"data row6 col5\" >True</td>\n",
       "      <td id=\"T_60772_row6_col6\" class=\"data row6 col6\" >0.00</td>\n",
       "      <td id=\"T_60772_row6_col7\" class=\"data row6 col7\" >CLF</td>\n",
       "      <td id=\"T_60772_row6_col8\" class=\"data row6 col8\" >10,000.00</td>\n",
       "      <td id=\"T_60772_row6_col9\" class=\"data row6 col9\" >10,000.00</td>\n",
       "      <td id=\"T_60772_row6_col10\" class=\"data row6 col10\" >35,000.00</td>\n",
       "      <td id=\"T_60772_row6_col11\" class=\"data row6 col11\" >35,000.00</td>\n",
       "      <td id=\"T_60772_row6_col12\" class=\"data row6 col12\" >0.0000%</td>\n",
       "      <td id=\"T_60772_row6_col13\" class=\"data row6 col13\" >0.00</td>\n",
       "      <td id=\"T_60772_row6_col14\" class=\"data row6 col14\" >0.0000%</td>\n",
       "      <td id=\"T_60772_row6_col15\" class=\"data row6 col15\" >1.00</td>\n",
       "      <td id=\"T_60772_row6_col16\" class=\"data row6 col16\" >LinAct360</td>\n",
       "    </tr>\n",
       "    <tr>\n",
       "      <th id=\"T_60772_level0_row7\" class=\"row_heading level0 row7\" >7</th>\n",
       "      <td id=\"T_60772_row7_col0\" class=\"data row7 col0\" >2021-11-09</td>\n",
       "      <td id=\"T_60772_row7_col1\" class=\"data row7 col1\" >2022-05-09</td>\n",
       "      <td id=\"T_60772_row7_col2\" class=\"data row7 col2\" >2022-05-09</td>\n",
       "      <td id=\"T_60772_row7_col3\" class=\"data row7 col3\" >600,000.00</td>\n",
       "      <td id=\"T_60772_row7_col4\" class=\"data row7 col4\" >0.00</td>\n",
       "      <td id=\"T_60772_row7_col5\" class=\"data row7 col5\" >True</td>\n",
       "      <td id=\"T_60772_row7_col6\" class=\"data row7 col6\" >0.00</td>\n",
       "      <td id=\"T_60772_row7_col7\" class=\"data row7 col7\" >CLF</td>\n",
       "      <td id=\"T_60772_row7_col8\" class=\"data row7 col8\" >10,000.00</td>\n",
       "      <td id=\"T_60772_row7_col9\" class=\"data row7 col9\" >10,000.00</td>\n",
       "      <td id=\"T_60772_row7_col10\" class=\"data row7 col10\" >35,000.00</td>\n",
       "      <td id=\"T_60772_row7_col11\" class=\"data row7 col11\" >35,000.00</td>\n",
       "      <td id=\"T_60772_row7_col12\" class=\"data row7 col12\" >0.0000%</td>\n",
       "      <td id=\"T_60772_row7_col13\" class=\"data row7 col13\" >0.00</td>\n",
       "      <td id=\"T_60772_row7_col14\" class=\"data row7 col14\" >0.0000%</td>\n",
       "      <td id=\"T_60772_row7_col15\" class=\"data row7 col15\" >1.00</td>\n",
       "      <td id=\"T_60772_row7_col16\" class=\"data row7 col16\" >LinAct360</td>\n",
       "    </tr>\n",
       "    <tr>\n",
       "      <th id=\"T_60772_level0_row8\" class=\"row_heading level0 row8\" >8</th>\n",
       "      <td id=\"T_60772_row8_col0\" class=\"data row8 col0\" >2022-05-09</td>\n",
       "      <td id=\"T_60772_row8_col1\" class=\"data row8 col1\" >2022-11-09</td>\n",
       "      <td id=\"T_60772_row8_col2\" class=\"data row8 col2\" >2022-11-09</td>\n",
       "      <td id=\"T_60772_row8_col3\" class=\"data row8 col3\" >600,000.00</td>\n",
       "      <td id=\"T_60772_row8_col4\" class=\"data row8 col4\" >0.00</td>\n",
       "      <td id=\"T_60772_row8_col5\" class=\"data row8 col5\" >True</td>\n",
       "      <td id=\"T_60772_row8_col6\" class=\"data row8 col6\" >0.00</td>\n",
       "      <td id=\"T_60772_row8_col7\" class=\"data row8 col7\" >CLF</td>\n",
       "      <td id=\"T_60772_row8_col8\" class=\"data row8 col8\" >10,000.00</td>\n",
       "      <td id=\"T_60772_row8_col9\" class=\"data row8 col9\" >10,000.00</td>\n",
       "      <td id=\"T_60772_row8_col10\" class=\"data row8 col10\" >35,000.00</td>\n",
       "      <td id=\"T_60772_row8_col11\" class=\"data row8 col11\" >35,000.00</td>\n",
       "      <td id=\"T_60772_row8_col12\" class=\"data row8 col12\" >0.0000%</td>\n",
       "      <td id=\"T_60772_row8_col13\" class=\"data row8 col13\" >0.00</td>\n",
       "      <td id=\"T_60772_row8_col14\" class=\"data row8 col14\" >0.0000%</td>\n",
       "      <td id=\"T_60772_row8_col15\" class=\"data row8 col15\" >1.00</td>\n",
       "      <td id=\"T_60772_row8_col16\" class=\"data row8 col16\" >LinAct360</td>\n",
       "    </tr>\n",
       "    <tr>\n",
       "      <th id=\"T_60772_level0_row9\" class=\"row_heading level0 row9\" >9</th>\n",
       "      <td id=\"T_60772_row9_col0\" class=\"data row9 col0\" >2022-11-09</td>\n",
       "      <td id=\"T_60772_row9_col1\" class=\"data row9 col1\" >2023-05-09</td>\n",
       "      <td id=\"T_60772_row9_col2\" class=\"data row9 col2\" >2023-05-09</td>\n",
       "      <td id=\"T_60772_row9_col3\" class=\"data row9 col3\" >600,000.00</td>\n",
       "      <td id=\"T_60772_row9_col4\" class=\"data row9 col4\" >0.00</td>\n",
       "      <td id=\"T_60772_row9_col5\" class=\"data row9 col5\" >True</td>\n",
       "      <td id=\"T_60772_row9_col6\" class=\"data row9 col6\" >0.00</td>\n",
       "      <td id=\"T_60772_row9_col7\" class=\"data row9 col7\" >CLF</td>\n",
       "      <td id=\"T_60772_row9_col8\" class=\"data row9 col8\" >10,000.00</td>\n",
       "      <td id=\"T_60772_row9_col9\" class=\"data row9 col9\" >10,000.00</td>\n",
       "      <td id=\"T_60772_row9_col10\" class=\"data row9 col10\" >35,000.00</td>\n",
       "      <td id=\"T_60772_row9_col11\" class=\"data row9 col11\" >35,000.00</td>\n",
       "      <td id=\"T_60772_row9_col12\" class=\"data row9 col12\" >0.0000%</td>\n",
       "      <td id=\"T_60772_row9_col13\" class=\"data row9 col13\" >0.00</td>\n",
       "      <td id=\"T_60772_row9_col14\" class=\"data row9 col14\" >0.0000%</td>\n",
       "      <td id=\"T_60772_row9_col15\" class=\"data row9 col15\" >1.00</td>\n",
       "      <td id=\"T_60772_row9_col16\" class=\"data row9 col16\" >LinAct360</td>\n",
       "    </tr>\n",
       "    <tr>\n",
       "      <th id=\"T_60772_level0_row10\" class=\"row_heading level0 row10\" >10</th>\n",
       "      <td id=\"T_60772_row10_col0\" class=\"data row10 col0\" >2023-05-09</td>\n",
       "      <td id=\"T_60772_row10_col1\" class=\"data row10 col1\" >2023-11-09</td>\n",
       "      <td id=\"T_60772_row10_col2\" class=\"data row10 col2\" >2023-11-09</td>\n",
       "      <td id=\"T_60772_row10_col3\" class=\"data row10 col3\" >600,000.00</td>\n",
       "      <td id=\"T_60772_row10_col4\" class=\"data row10 col4\" >0.00</td>\n",
       "      <td id=\"T_60772_row10_col5\" class=\"data row10 col5\" >True</td>\n",
       "      <td id=\"T_60772_row10_col6\" class=\"data row10 col6\" >0.00</td>\n",
       "      <td id=\"T_60772_row10_col7\" class=\"data row10 col7\" >CLF</td>\n",
       "      <td id=\"T_60772_row10_col8\" class=\"data row10 col8\" >10,000.00</td>\n",
       "      <td id=\"T_60772_row10_col9\" class=\"data row10 col9\" >10,000.00</td>\n",
       "      <td id=\"T_60772_row10_col10\" class=\"data row10 col10\" >35,000.00</td>\n",
       "      <td id=\"T_60772_row10_col11\" class=\"data row10 col11\" >35,000.00</td>\n",
       "      <td id=\"T_60772_row10_col12\" class=\"data row10 col12\" >0.0000%</td>\n",
       "      <td id=\"T_60772_row10_col13\" class=\"data row10 col13\" >0.00</td>\n",
       "      <td id=\"T_60772_row10_col14\" class=\"data row10 col14\" >0.0000%</td>\n",
       "      <td id=\"T_60772_row10_col15\" class=\"data row10 col15\" >1.00</td>\n",
       "      <td id=\"T_60772_row10_col16\" class=\"data row10 col16\" >LinAct360</td>\n",
       "    </tr>\n",
       "    <tr>\n",
       "      <th id=\"T_60772_level0_row11\" class=\"row_heading level0 row11\" >11</th>\n",
       "      <td id=\"T_60772_row11_col0\" class=\"data row11 col0\" >2023-11-09</td>\n",
       "      <td id=\"T_60772_row11_col1\" class=\"data row11 col1\" >2024-05-09</td>\n",
       "      <td id=\"T_60772_row11_col2\" class=\"data row11 col2\" >2024-05-09</td>\n",
       "      <td id=\"T_60772_row11_col3\" class=\"data row11 col3\" >600,000.00</td>\n",
       "      <td id=\"T_60772_row11_col4\" class=\"data row11 col4\" >0.00</td>\n",
       "      <td id=\"T_60772_row11_col5\" class=\"data row11 col5\" >True</td>\n",
       "      <td id=\"T_60772_row11_col6\" class=\"data row11 col6\" >0.00</td>\n",
       "      <td id=\"T_60772_row11_col7\" class=\"data row11 col7\" >CLF</td>\n",
       "      <td id=\"T_60772_row11_col8\" class=\"data row11 col8\" >10,000.00</td>\n",
       "      <td id=\"T_60772_row11_col9\" class=\"data row11 col9\" >10,000.00</td>\n",
       "      <td id=\"T_60772_row11_col10\" class=\"data row11 col10\" >35,000.00</td>\n",
       "      <td id=\"T_60772_row11_col11\" class=\"data row11 col11\" >35,000.00</td>\n",
       "      <td id=\"T_60772_row11_col12\" class=\"data row11 col12\" >0.0000%</td>\n",
       "      <td id=\"T_60772_row11_col13\" class=\"data row11 col13\" >0.00</td>\n",
       "      <td id=\"T_60772_row11_col14\" class=\"data row11 col14\" >0.0000%</td>\n",
       "      <td id=\"T_60772_row11_col15\" class=\"data row11 col15\" >1.00</td>\n",
       "      <td id=\"T_60772_row11_col16\" class=\"data row11 col16\" >LinAct360</td>\n",
       "    </tr>\n",
       "    <tr>\n",
       "      <th id=\"T_60772_level0_row12\" class=\"row_heading level0 row12\" >12</th>\n",
       "      <td id=\"T_60772_row12_col0\" class=\"data row12 col0\" >2024-05-09</td>\n",
       "      <td id=\"T_60772_row12_col1\" class=\"data row12 col1\" >2024-11-11</td>\n",
       "      <td id=\"T_60772_row12_col2\" class=\"data row12 col2\" >2024-11-11</td>\n",
       "      <td id=\"T_60772_row12_col3\" class=\"data row12 col3\" >600,000.00</td>\n",
       "      <td id=\"T_60772_row12_col4\" class=\"data row12 col4\" >0.00</td>\n",
       "      <td id=\"T_60772_row12_col5\" class=\"data row12 col5\" >True</td>\n",
       "      <td id=\"T_60772_row12_col6\" class=\"data row12 col6\" >0.00</td>\n",
       "      <td id=\"T_60772_row12_col7\" class=\"data row12 col7\" >CLF</td>\n",
       "      <td id=\"T_60772_row12_col8\" class=\"data row12 col8\" >10,000.00</td>\n",
       "      <td id=\"T_60772_row12_col9\" class=\"data row12 col9\" >10,000.00</td>\n",
       "      <td id=\"T_60772_row12_col10\" class=\"data row12 col10\" >35,000.00</td>\n",
       "      <td id=\"T_60772_row12_col11\" class=\"data row12 col11\" >35,000.00</td>\n",
       "      <td id=\"T_60772_row12_col12\" class=\"data row12 col12\" >0.0000%</td>\n",
       "      <td id=\"T_60772_row12_col13\" class=\"data row12 col13\" >0.00</td>\n",
       "      <td id=\"T_60772_row12_col14\" class=\"data row12 col14\" >0.0000%</td>\n",
       "      <td id=\"T_60772_row12_col15\" class=\"data row12 col15\" >1.00</td>\n",
       "      <td id=\"T_60772_row12_col16\" class=\"data row12 col16\" >LinAct360</td>\n",
       "    </tr>\n",
       "    <tr>\n",
       "      <th id=\"T_60772_level0_row13\" class=\"row_heading level0 row13\" >13</th>\n",
       "      <td id=\"T_60772_row13_col0\" class=\"data row13 col0\" >2024-11-11</td>\n",
       "      <td id=\"T_60772_row13_col1\" class=\"data row13 col1\" >2025-05-09</td>\n",
       "      <td id=\"T_60772_row13_col2\" class=\"data row13 col2\" >2025-05-09</td>\n",
       "      <td id=\"T_60772_row13_col3\" class=\"data row13 col3\" >600,000.00</td>\n",
       "      <td id=\"T_60772_row13_col4\" class=\"data row13 col4\" >0.00</td>\n",
       "      <td id=\"T_60772_row13_col5\" class=\"data row13 col5\" >True</td>\n",
       "      <td id=\"T_60772_row13_col6\" class=\"data row13 col6\" >0.00</td>\n",
       "      <td id=\"T_60772_row13_col7\" class=\"data row13 col7\" >CLF</td>\n",
       "      <td id=\"T_60772_row13_col8\" class=\"data row13 col8\" >10,000.00</td>\n",
       "      <td id=\"T_60772_row13_col9\" class=\"data row13 col9\" >10,000.00</td>\n",
       "      <td id=\"T_60772_row13_col10\" class=\"data row13 col10\" >35,000.00</td>\n",
       "      <td id=\"T_60772_row13_col11\" class=\"data row13 col11\" >35,000.00</td>\n",
       "      <td id=\"T_60772_row13_col12\" class=\"data row13 col12\" >0.0000%</td>\n",
       "      <td id=\"T_60772_row13_col13\" class=\"data row13 col13\" >0.00</td>\n",
       "      <td id=\"T_60772_row13_col14\" class=\"data row13 col14\" >0.0000%</td>\n",
       "      <td id=\"T_60772_row13_col15\" class=\"data row13 col15\" >1.00</td>\n",
       "      <td id=\"T_60772_row13_col16\" class=\"data row13 col16\" >LinAct360</td>\n",
       "    </tr>\n",
       "    <tr>\n",
       "      <th id=\"T_60772_level0_row14\" class=\"row_heading level0 row14\" >14</th>\n",
       "      <td id=\"T_60772_row14_col0\" class=\"data row14 col0\" >2025-05-09</td>\n",
       "      <td id=\"T_60772_row14_col1\" class=\"data row14 col1\" >2025-11-10</td>\n",
       "      <td id=\"T_60772_row14_col2\" class=\"data row14 col2\" >2025-11-10</td>\n",
       "      <td id=\"T_60772_row14_col3\" class=\"data row14 col3\" >600,000.00</td>\n",
       "      <td id=\"T_60772_row14_col4\" class=\"data row14 col4\" >0.00</td>\n",
       "      <td id=\"T_60772_row14_col5\" class=\"data row14 col5\" >True</td>\n",
       "      <td id=\"T_60772_row14_col6\" class=\"data row14 col6\" >0.00</td>\n",
       "      <td id=\"T_60772_row14_col7\" class=\"data row14 col7\" >CLF</td>\n",
       "      <td id=\"T_60772_row14_col8\" class=\"data row14 col8\" >10,000.00</td>\n",
       "      <td id=\"T_60772_row14_col9\" class=\"data row14 col9\" >10,000.00</td>\n",
       "      <td id=\"T_60772_row14_col10\" class=\"data row14 col10\" >35,000.00</td>\n",
       "      <td id=\"T_60772_row14_col11\" class=\"data row14 col11\" >35,000.00</td>\n",
       "      <td id=\"T_60772_row14_col12\" class=\"data row14 col12\" >0.0000%</td>\n",
       "      <td id=\"T_60772_row14_col13\" class=\"data row14 col13\" >0.00</td>\n",
       "      <td id=\"T_60772_row14_col14\" class=\"data row14 col14\" >0.0000%</td>\n",
       "      <td id=\"T_60772_row14_col15\" class=\"data row14 col15\" >1.00</td>\n",
       "      <td id=\"T_60772_row14_col16\" class=\"data row14 col16\" >LinAct360</td>\n",
       "    </tr>\n",
       "    <tr>\n",
       "      <th id=\"T_60772_level0_row15\" class=\"row_heading level0 row15\" >15</th>\n",
       "      <td id=\"T_60772_row15_col0\" class=\"data row15 col0\" >2025-11-10</td>\n",
       "      <td id=\"T_60772_row15_col1\" class=\"data row15 col1\" >2026-05-11</td>\n",
       "      <td id=\"T_60772_row15_col2\" class=\"data row15 col2\" >2026-05-11</td>\n",
       "      <td id=\"T_60772_row15_col3\" class=\"data row15 col3\" >600,000.00</td>\n",
       "      <td id=\"T_60772_row15_col4\" class=\"data row15 col4\" >600,000.00</td>\n",
       "      <td id=\"T_60772_row15_col5\" class=\"data row15 col5\" >True</td>\n",
       "      <td id=\"T_60772_row15_col6\" class=\"data row15 col6\" >600,000.00</td>\n",
       "      <td id=\"T_60772_row15_col7\" class=\"data row15 col7\" >CLF</td>\n",
       "      <td id=\"T_60772_row15_col8\" class=\"data row15 col8\" >10,000.00</td>\n",
       "      <td id=\"T_60772_row15_col9\" class=\"data row15 col9\" >10,000.00</td>\n",
       "      <td id=\"T_60772_row15_col10\" class=\"data row15 col10\" >35,000.00</td>\n",
       "      <td id=\"T_60772_row15_col11\" class=\"data row15 col11\" >35,000.00</td>\n",
       "      <td id=\"T_60772_row15_col12\" class=\"data row15 col12\" >0.0000%</td>\n",
       "      <td id=\"T_60772_row15_col13\" class=\"data row15 col13\" >0.00</td>\n",
       "      <td id=\"T_60772_row15_col14\" class=\"data row15 col14\" >0.0000%</td>\n",
       "      <td id=\"T_60772_row15_col15\" class=\"data row15 col15\" >1.00</td>\n",
       "      <td id=\"T_60772_row15_col16\" class=\"data row15 col16\" >LinAct360</td>\n",
       "    </tr>\n",
       "  </tbody>\n",
       "</table>\n"
      ],
      "text/plain": [
       "<pandas.io.formats.style.Styler at 0x125b75350>"
      ]
     },
     "execution_count": 93,
     "metadata": {},
     "output_type": "execute_result"
    }
   ],
   "source": [
    "# Se define un list donde almacenar los resultados de la función show\n",
    "tabla = []\n",
    "for i in range(0, icp_clf_leg.size()):\n",
    "    tabla.append(qcf.show(icp_clf_leg.get_cashflow_at(i)))\n",
    "\n",
    "# Se utiliza tabla para inicializar el Dataframe\n",
    "columnas = ['fecha_inicial', 'fecha__final', 'fecha__pago', 'nominal', 'amort', 'amort_es_flujo', 'flujo',\n",
    "            'moneda', 'icp_inicial', 'icp_final', 'uf_inicial', 'uf_final',\n",
    "            'valor_tasa', 'interes', 'spread', 'gearing', 'tipo_tasa']\n",
    "df8 = pd.DataFrame(tabla, columns=columnas)\n",
    "\n",
    "# Se despliega la data en este formato\n",
    "df8.style.format(format_dict)"
   ]
  },
  {
   "cell_type": "code",
   "execution_count": 94,
   "metadata": {
    "execution": {
     "iopub.execute_input": "2024-01-04T22:42:06.938352Z",
     "iopub.status.busy": "2024-01-04T22:42:06.937883Z",
     "iopub.status.idle": "2024-01-04T22:42:06.943840Z",
     "shell.execute_reply": "2024-01-04T22:42:06.942887Z",
     "shell.execute_reply.started": "2024-01-04T22:42:06.938322Z"
    }
   },
   "outputs": [],
   "source": [
    "icp_hoy = 18_882.07\n",
    "uf_hoy = 28440.19\n",
    "fwd_rates.set_rates_icp_clf_leg(fecha_hoy, icp_hoy, uf_hoy, icp_clf_leg, zz1, zz1, zz3)\n",
    "cshflw = icp_clf_leg.get_cashflow_at(3)\n",
    "cshflw.set_start_date_uf(28080.26)\n",
    "cshflw.set_start_date_icp(18786.13)"
   ]
  },
  {
   "cell_type": "code",
   "execution_count": 95,
   "metadata": {
    "execution": {
     "iopub.execute_input": "2024-01-04T22:42:06.945676Z",
     "iopub.status.busy": "2024-01-04T22:42:06.945317Z",
     "iopub.status.idle": "2024-01-04T22:42:06.949639Z",
     "shell.execute_reply": "2024-01-04T22:42:06.948819Z",
     "shell.execute_reply.started": "2024-01-04T22:42:06.945649Z"
    }
   },
   "outputs": [
    {
     "name": "stdout",
     "output_type": "stream",
     "text": [
      "2020-02-25\n"
     ]
    }
   ],
   "source": [
    "print(fecha_hoy)"
   ]
  },
  {
   "cell_type": "code",
   "execution_count": 96,
   "metadata": {
    "execution": {
     "iopub.execute_input": "2024-01-04T22:42:06.951741Z",
     "iopub.status.busy": "2024-01-04T22:42:06.951395Z",
     "iopub.status.idle": "2024-01-04T22:42:06.972407Z",
     "shell.execute_reply": "2024-01-04T22:42:06.971527Z",
     "shell.execute_reply.started": "2024-01-04T22:42:06.951714Z"
    }
   },
   "outputs": [
    {
     "data": {
      "text/html": [
       "<style type=\"text/css\">\n",
       "</style>\n",
       "<table id=\"T_19fb3\">\n",
       "  <thead>\n",
       "    <tr>\n",
       "      <th class=\"blank level0\" >&nbsp;</th>\n",
       "      <th id=\"T_19fb3_level0_col0\" class=\"col_heading level0 col0\" >fecha_inicial</th>\n",
       "      <th id=\"T_19fb3_level0_col1\" class=\"col_heading level0 col1\" >fecha__final</th>\n",
       "      <th id=\"T_19fb3_level0_col2\" class=\"col_heading level0 col2\" >fecha__pago</th>\n",
       "      <th id=\"T_19fb3_level0_col3\" class=\"col_heading level0 col3\" >nominal</th>\n",
       "      <th id=\"T_19fb3_level0_col4\" class=\"col_heading level0 col4\" >amort</th>\n",
       "      <th id=\"T_19fb3_level0_col5\" class=\"col_heading level0 col5\" >amort_es_flujo</th>\n",
       "      <th id=\"T_19fb3_level0_col6\" class=\"col_heading level0 col6\" >flujo</th>\n",
       "      <th id=\"T_19fb3_level0_col7\" class=\"col_heading level0 col7\" >moneda</th>\n",
       "      <th id=\"T_19fb3_level0_col8\" class=\"col_heading level0 col8\" >icp_inicial</th>\n",
       "      <th id=\"T_19fb3_level0_col9\" class=\"col_heading level0 col9\" >icp_final</th>\n",
       "      <th id=\"T_19fb3_level0_col10\" class=\"col_heading level0 col10\" >uf_inicial</th>\n",
       "      <th id=\"T_19fb3_level0_col11\" class=\"col_heading level0 col11\" >uf_final</th>\n",
       "      <th id=\"T_19fb3_level0_col12\" class=\"col_heading level0 col12\" >valor_tasa</th>\n",
       "      <th id=\"T_19fb3_level0_col13\" class=\"col_heading level0 col13\" >interes</th>\n",
       "      <th id=\"T_19fb3_level0_col14\" class=\"col_heading level0 col14\" >spread</th>\n",
       "      <th id=\"T_19fb3_level0_col15\" class=\"col_heading level0 col15\" >gearing</th>\n",
       "      <th id=\"T_19fb3_level0_col16\" class=\"col_heading level0 col16\" >tipo_tasa</th>\n",
       "    </tr>\n",
       "  </thead>\n",
       "  <tbody>\n",
       "    <tr>\n",
       "      <th id=\"T_19fb3_level0_row0\" class=\"row_heading level0 row0\" >0</th>\n",
       "      <td id=\"T_19fb3_row0_col0\" class=\"data row0 col0\" >2018-05-31</td>\n",
       "      <td id=\"T_19fb3_row0_col1\" class=\"data row0 col1\" >2018-11-09</td>\n",
       "      <td id=\"T_19fb3_row0_col2\" class=\"data row0 col2\" >2018-11-09</td>\n",
       "      <td id=\"T_19fb3_row0_col3\" class=\"data row0 col3\" >600,000.00</td>\n",
       "      <td id=\"T_19fb3_row0_col4\" class=\"data row0 col4\" >0.00</td>\n",
       "      <td id=\"T_19fb3_row0_col5\" class=\"data row0 col5\" >True</td>\n",
       "      <td id=\"T_19fb3_row0_col6\" class=\"data row0 col6\" >0.00</td>\n",
       "      <td id=\"T_19fb3_row0_col7\" class=\"data row0 col7\" >CLF</td>\n",
       "      <td id=\"T_19fb3_row0_col8\" class=\"data row0 col8\" >10,000.00</td>\n",
       "      <td id=\"T_19fb3_row0_col9\" class=\"data row0 col9\" >10,000.00</td>\n",
       "      <td id=\"T_19fb3_row0_col10\" class=\"data row0 col10\" >35,000.00</td>\n",
       "      <td id=\"T_19fb3_row0_col11\" class=\"data row0 col11\" >35,000.00</td>\n",
       "      <td id=\"T_19fb3_row0_col12\" class=\"data row0 col12\" >0.0000%</td>\n",
       "      <td id=\"T_19fb3_row0_col13\" class=\"data row0 col13\" >0.00</td>\n",
       "      <td id=\"T_19fb3_row0_col14\" class=\"data row0 col14\" >0.0000%</td>\n",
       "      <td id=\"T_19fb3_row0_col15\" class=\"data row0 col15\" >1.00</td>\n",
       "      <td id=\"T_19fb3_row0_col16\" class=\"data row0 col16\" >LinAct360</td>\n",
       "    </tr>\n",
       "    <tr>\n",
       "      <th id=\"T_19fb3_level0_row1\" class=\"row_heading level0 row1\" >1</th>\n",
       "      <td id=\"T_19fb3_row1_col0\" class=\"data row1 col0\" >2018-11-09</td>\n",
       "      <td id=\"T_19fb3_row1_col1\" class=\"data row1 col1\" >2019-05-09</td>\n",
       "      <td id=\"T_19fb3_row1_col2\" class=\"data row1 col2\" >2019-05-09</td>\n",
       "      <td id=\"T_19fb3_row1_col3\" class=\"data row1 col3\" >600,000.00</td>\n",
       "      <td id=\"T_19fb3_row1_col4\" class=\"data row1 col4\" >0.00</td>\n",
       "      <td id=\"T_19fb3_row1_col5\" class=\"data row1 col5\" >True</td>\n",
       "      <td id=\"T_19fb3_row1_col6\" class=\"data row1 col6\" >0.00</td>\n",
       "      <td id=\"T_19fb3_row1_col7\" class=\"data row1 col7\" >CLF</td>\n",
       "      <td id=\"T_19fb3_row1_col8\" class=\"data row1 col8\" >10,000.00</td>\n",
       "      <td id=\"T_19fb3_row1_col9\" class=\"data row1 col9\" >10,000.00</td>\n",
       "      <td id=\"T_19fb3_row1_col10\" class=\"data row1 col10\" >35,000.00</td>\n",
       "      <td id=\"T_19fb3_row1_col11\" class=\"data row1 col11\" >35,000.00</td>\n",
       "      <td id=\"T_19fb3_row1_col12\" class=\"data row1 col12\" >0.0000%</td>\n",
       "      <td id=\"T_19fb3_row1_col13\" class=\"data row1 col13\" >0.00</td>\n",
       "      <td id=\"T_19fb3_row1_col14\" class=\"data row1 col14\" >0.0000%</td>\n",
       "      <td id=\"T_19fb3_row1_col15\" class=\"data row1 col15\" >1.00</td>\n",
       "      <td id=\"T_19fb3_row1_col16\" class=\"data row1 col16\" >LinAct360</td>\n",
       "    </tr>\n",
       "    <tr>\n",
       "      <th id=\"T_19fb3_level0_row2\" class=\"row_heading level0 row2\" >2</th>\n",
       "      <td id=\"T_19fb3_row2_col0\" class=\"data row2 col0\" >2019-05-09</td>\n",
       "      <td id=\"T_19fb3_row2_col1\" class=\"data row2 col1\" >2019-11-11</td>\n",
       "      <td id=\"T_19fb3_row2_col2\" class=\"data row2 col2\" >2019-11-11</td>\n",
       "      <td id=\"T_19fb3_row2_col3\" class=\"data row2 col3\" >600,000.00</td>\n",
       "      <td id=\"T_19fb3_row2_col4\" class=\"data row2 col4\" >0.00</td>\n",
       "      <td id=\"T_19fb3_row2_col5\" class=\"data row2 col5\" >True</td>\n",
       "      <td id=\"T_19fb3_row2_col6\" class=\"data row2 col6\" >0.00</td>\n",
       "      <td id=\"T_19fb3_row2_col7\" class=\"data row2 col7\" >CLF</td>\n",
       "      <td id=\"T_19fb3_row2_col8\" class=\"data row2 col8\" >10,000.00</td>\n",
       "      <td id=\"T_19fb3_row2_col9\" class=\"data row2 col9\" >10,000.00</td>\n",
       "      <td id=\"T_19fb3_row2_col10\" class=\"data row2 col10\" >35,000.00</td>\n",
       "      <td id=\"T_19fb3_row2_col11\" class=\"data row2 col11\" >35,000.00</td>\n",
       "      <td id=\"T_19fb3_row2_col12\" class=\"data row2 col12\" >0.0000%</td>\n",
       "      <td id=\"T_19fb3_row2_col13\" class=\"data row2 col13\" >0.00</td>\n",
       "      <td id=\"T_19fb3_row2_col14\" class=\"data row2 col14\" >0.0000%</td>\n",
       "      <td id=\"T_19fb3_row2_col15\" class=\"data row2 col15\" >1.00</td>\n",
       "      <td id=\"T_19fb3_row2_col16\" class=\"data row2 col16\" >LinAct360</td>\n",
       "    </tr>\n",
       "    <tr>\n",
       "      <th id=\"T_19fb3_level0_row3\" class=\"row_heading level0 row3\" >3</th>\n",
       "      <td id=\"T_19fb3_row3_col0\" class=\"data row3 col0\" >2019-11-11</td>\n",
       "      <td id=\"T_19fb3_row3_col1\" class=\"data row3 col1\" >2020-05-11</td>\n",
       "      <td id=\"T_19fb3_row3_col2\" class=\"data row3 col2\" >2020-05-11</td>\n",
       "      <td id=\"T_19fb3_row3_col3\" class=\"data row3 col3\" >600,000.00</td>\n",
       "      <td id=\"T_19fb3_row3_col4\" class=\"data row3 col4\" >0.00</td>\n",
       "      <td id=\"T_19fb3_row3_col5\" class=\"data row3 col5\" >True</td>\n",
       "      <td id=\"T_19fb3_row3_col6\" class=\"data row3 col6\" >-7,178.78</td>\n",
       "      <td id=\"T_19fb3_row3_col7\" class=\"data row3 col7\" >CLF</td>\n",
       "      <td id=\"T_19fb3_row3_col8\" class=\"data row3 col8\" >18,786.13</td>\n",
       "      <td id=\"T_19fb3_row3_col9\" class=\"data row3 col9\" >18,943.62</td>\n",
       "      <td id=\"T_19fb3_row3_col10\" class=\"data row3 col10\" >28,080.26</td>\n",
       "      <td id=\"T_19fb3_row3_col11\" class=\"data row3 col11\" >28,658.55</td>\n",
       "      <td id=\"T_19fb3_row3_col12\" class=\"data row3 col12\" >-2.3649%</td>\n",
       "      <td id=\"T_19fb3_row3_col13\" class=\"data row3 col13\" >-7,173.53</td>\n",
       "      <td id=\"T_19fb3_row3_col14\" class=\"data row3 col14\" >0.0000%</td>\n",
       "      <td id=\"T_19fb3_row3_col15\" class=\"data row3 col15\" >1.00</td>\n",
       "      <td id=\"T_19fb3_row3_col16\" class=\"data row3 col16\" >LinAct360</td>\n",
       "    </tr>\n",
       "    <tr>\n",
       "      <th id=\"T_19fb3_level0_row4\" class=\"row_heading level0 row4\" >4</th>\n",
       "      <td id=\"T_19fb3_row4_col0\" class=\"data row4 col0\" >2020-05-11</td>\n",
       "      <td id=\"T_19fb3_row4_col1\" class=\"data row4 col1\" >2020-11-09</td>\n",
       "      <td id=\"T_19fb3_row4_col2\" class=\"data row4 col2\" >2020-11-09</td>\n",
       "      <td id=\"T_19fb3_row4_col3\" class=\"data row4 col3\" >600,000.00</td>\n",
       "      <td id=\"T_19fb3_row4_col4\" class=\"data row4 col4\" >0.00</td>\n",
       "      <td id=\"T_19fb3_row4_col5\" class=\"data row4 col5\" >True</td>\n",
       "      <td id=\"T_19fb3_row4_col6\" class=\"data row4 col6\" >-5,300.72</td>\n",
       "      <td id=\"T_19fb3_row4_col7\" class=\"data row4 col7\" >CLF</td>\n",
       "      <td id=\"T_19fb3_row4_col8\" class=\"data row4 col8\" >18,943.62</td>\n",
       "      <td id=\"T_19fb3_row4_col9\" class=\"data row4 col9\" >19,056.79</td>\n",
       "      <td id=\"T_19fb3_row4_col10\" class=\"data row4 col10\" >28,658.55</td>\n",
       "      <td id=\"T_19fb3_row4_col11\" class=\"data row4 col11\" >29,086.73</td>\n",
       "      <td id=\"T_19fb3_row4_col12\" class=\"data row4 col12\" >-1.7492%</td>\n",
       "      <td id=\"T_19fb3_row4_col13\" class=\"data row4 col13\" >-5,305.91</td>\n",
       "      <td id=\"T_19fb3_row4_col14\" class=\"data row4 col14\" >0.0000%</td>\n",
       "      <td id=\"T_19fb3_row4_col15\" class=\"data row4 col15\" >1.00</td>\n",
       "      <td id=\"T_19fb3_row4_col16\" class=\"data row4 col16\" >LinAct360</td>\n",
       "    </tr>\n",
       "    <tr>\n",
       "      <th id=\"T_19fb3_level0_row5\" class=\"row_heading level0 row5\" >5</th>\n",
       "      <td id=\"T_19fb3_row5_col0\" class=\"data row5 col0\" >2020-11-09</td>\n",
       "      <td id=\"T_19fb3_row5_col1\" class=\"data row5 col1\" >2021-05-10</td>\n",
       "      <td id=\"T_19fb3_row5_col2\" class=\"data row5 col2\" >2021-05-10</td>\n",
       "      <td id=\"T_19fb3_row5_col3\" class=\"data row5 col3\" >600,000.00</td>\n",
       "      <td id=\"T_19fb3_row5_col4\" class=\"data row5 col4\" >0.00</td>\n",
       "      <td id=\"T_19fb3_row5_col5\" class=\"data row5 col5\" >True</td>\n",
       "      <td id=\"T_19fb3_row5_col6\" class=\"data row5 col6\" >-3,909.59</td>\n",
       "      <td id=\"T_19fb3_row5_col7\" class=\"data row5 col7\" >CLF</td>\n",
       "      <td id=\"T_19fb3_row5_col8\" class=\"data row5 col8\" >19,056.79</td>\n",
       "      <td id=\"T_19fb3_row5_col9\" class=\"data row5 col9\" >19,182.42</td>\n",
       "      <td id=\"T_19fb3_row5_col10\" class=\"data row5 col10\" >29,086.73</td>\n",
       "      <td id=\"T_19fb3_row5_col11\" class=\"data row5 col11\" >29,470.52</td>\n",
       "      <td id=\"T_19fb3_row5_col12\" class=\"data row5 col12\" >-1.2929%</td>\n",
       "      <td id=\"T_19fb3_row5_col13\" class=\"data row5 col13\" >-3,921.80</td>\n",
       "      <td id=\"T_19fb3_row5_col14\" class=\"data row5 col14\" >0.0000%</td>\n",
       "      <td id=\"T_19fb3_row5_col15\" class=\"data row5 col15\" >1.00</td>\n",
       "      <td id=\"T_19fb3_row5_col16\" class=\"data row5 col16\" >LinAct360</td>\n",
       "    </tr>\n",
       "    <tr>\n",
       "      <th id=\"T_19fb3_level0_row6\" class=\"row_heading level0 row6\" >6</th>\n",
       "      <td id=\"T_19fb3_row6_col0\" class=\"data row6 col0\" >2021-05-10</td>\n",
       "      <td id=\"T_19fb3_row6_col1\" class=\"data row6 col1\" >2021-11-09</td>\n",
       "      <td id=\"T_19fb3_row6_col2\" class=\"data row6 col2\" >2021-11-09</td>\n",
       "      <td id=\"T_19fb3_row6_col3\" class=\"data row6 col3\" >600,000.00</td>\n",
       "      <td id=\"T_19fb3_row6_col4\" class=\"data row6 col4\" >0.00</td>\n",
       "      <td id=\"T_19fb3_row6_col5\" class=\"data row6 col5\" >True</td>\n",
       "      <td id=\"T_19fb3_row6_col6\" class=\"data row6 col6\" >-4,842.13</td>\n",
       "      <td id=\"T_19fb3_row6_col7\" class=\"data row6 col7\" >CLF</td>\n",
       "      <td id=\"T_19fb3_row6_col8\" class=\"data row6 col8\" >19,182.42</td>\n",
       "      <td id=\"T_19fb3_row6_col9\" class=\"data row6 col9\" >19,306.95</td>\n",
       "      <td id=\"T_19fb3_row6_col10\" class=\"data row6 col10\" >29,470.52</td>\n",
       "      <td id=\"T_19fb3_row6_col11\" class=\"data row6 col11\" >29,903.16</td>\n",
       "      <td id=\"T_19fb3_row6_col12\" class=\"data row6 col12\" >-1.5847%</td>\n",
       "      <td id=\"T_19fb3_row6_col13\" class=\"data row6 col13\" >-4,833.34</td>\n",
       "      <td id=\"T_19fb3_row6_col14\" class=\"data row6 col14\" >0.0000%</td>\n",
       "      <td id=\"T_19fb3_row6_col15\" class=\"data row6 col15\" >1.00</td>\n",
       "      <td id=\"T_19fb3_row6_col16\" class=\"data row6 col16\" >LinAct360</td>\n",
       "    </tr>\n",
       "    <tr>\n",
       "      <th id=\"T_19fb3_level0_row7\" class=\"row_heading level0 row7\" >7</th>\n",
       "      <td id=\"T_19fb3_row7_col0\" class=\"data row7 col0\" >2021-11-09</td>\n",
       "      <td id=\"T_19fb3_row7_col1\" class=\"data row7 col1\" >2022-05-09</td>\n",
       "      <td id=\"T_19fb3_row7_col2\" class=\"data row7 col2\" >2022-05-09</td>\n",
       "      <td id=\"T_19fb3_row7_col3\" class=\"data row7 col3\" >600,000.00</td>\n",
       "      <td id=\"T_19fb3_row7_col4\" class=\"data row7 col4\" >0.00</td>\n",
       "      <td id=\"T_19fb3_row7_col5\" class=\"data row7 col5\" >True</td>\n",
       "      <td id=\"T_19fb3_row7_col6\" class=\"data row7 col6\" >-5,431.38</td>\n",
       "      <td id=\"T_19fb3_row7_col7\" class=\"data row7 col7\" >CLF</td>\n",
       "      <td id=\"T_19fb3_row7_col8\" class=\"data row7 col8\" >19,306.95</td>\n",
       "      <td id=\"T_19fb3_row7_col9\" class=\"data row7 col9\" >19,440.27</td>\n",
       "      <td id=\"T_19fb3_row7_col10\" class=\"data row7 col10\" >29,903.16</td>\n",
       "      <td id=\"T_19fb3_row7_col11\" class=\"data row7 col11\" >30,384.70</td>\n",
       "      <td id=\"T_19fb3_row7_col12\" class=\"data row7 col12\" >-1.8038%</td>\n",
       "      <td id=\"T_19fb3_row7_col13\" class=\"data row7 col13\" >-5,441.46</td>\n",
       "      <td id=\"T_19fb3_row7_col14\" class=\"data row7 col14\" >0.0000%</td>\n",
       "      <td id=\"T_19fb3_row7_col15\" class=\"data row7 col15\" >1.00</td>\n",
       "      <td id=\"T_19fb3_row7_col16\" class=\"data row7 col16\" >LinAct360</td>\n",
       "    </tr>\n",
       "    <tr>\n",
       "      <th id=\"T_19fb3_level0_row8\" class=\"row_heading level0 row8\" >8</th>\n",
       "      <td id=\"T_19fb3_row8_col0\" class=\"data row8 col0\" >2022-05-09</td>\n",
       "      <td id=\"T_19fb3_row8_col1\" class=\"data row8 col1\" >2022-11-09</td>\n",
       "      <td id=\"T_19fb3_row8_col2\" class=\"data row8 col2\" >2022-11-09</td>\n",
       "      <td id=\"T_19fb3_row8_col3\" class=\"data row8 col3\" >600,000.00</td>\n",
       "      <td id=\"T_19fb3_row8_col4\" class=\"data row8 col4\" >0.00</td>\n",
       "      <td id=\"T_19fb3_row8_col5\" class=\"data row8 col5\" >True</td>\n",
       "      <td id=\"T_19fb3_row8_col6\" class=\"data row8 col6\" >-3,700.83</td>\n",
       "      <td id=\"T_19fb3_row8_col7\" class=\"data row8 col7\" >CLF</td>\n",
       "      <td id=\"T_19fb3_row8_col8\" class=\"data row8 col8\" >19,440.27</td>\n",
       "      <td id=\"T_19fb3_row8_col9\" class=\"data row8 col9\" >19,606.92</td>\n",
       "      <td id=\"T_19fb3_row8_col10\" class=\"data row8 col10\" >30,384.70</td>\n",
       "      <td id=\"T_19fb3_row8_col11\" class=\"data row8 col11\" >30,835.35</td>\n",
       "      <td id=\"T_19fb3_row8_col12\" class=\"data row8 col12\" >-1.2040%</td>\n",
       "      <td id=\"T_19fb3_row8_col13\" class=\"data row8 col13\" >-3,692.27</td>\n",
       "      <td id=\"T_19fb3_row8_col14\" class=\"data row8 col14\" >0.0000%</td>\n",
       "      <td id=\"T_19fb3_row8_col15\" class=\"data row8 col15\" >1.00</td>\n",
       "      <td id=\"T_19fb3_row8_col16\" class=\"data row8 col16\" >LinAct360</td>\n",
       "    </tr>\n",
       "    <tr>\n",
       "      <th id=\"T_19fb3_level0_row9\" class=\"row_heading level0 row9\" >9</th>\n",
       "      <td id=\"T_19fb3_row9_col0\" class=\"data row9 col0\" >2022-11-09</td>\n",
       "      <td id=\"T_19fb3_row9_col1\" class=\"data row9 col1\" >2023-05-09</td>\n",
       "      <td id=\"T_19fb3_row9_col2\" class=\"data row9 col2\" >2023-05-09</td>\n",
       "      <td id=\"T_19fb3_row9_col3\" class=\"data row9 col3\" >600,000.00</td>\n",
       "      <td id=\"T_19fb3_row9_col4\" class=\"data row9 col4\" >0.00</td>\n",
       "      <td id=\"T_19fb3_row9_col5\" class=\"data row9 col5\" >True</td>\n",
       "      <td id=\"T_19fb3_row9_col6\" class=\"data row9 col6\" >-2,958.63</td>\n",
       "      <td id=\"T_19fb3_row9_col7\" class=\"data row9 col7\" >CLF</td>\n",
       "      <td id=\"T_19fb3_row9_col8\" class=\"data row9 col8\" >19,606.92</td>\n",
       "      <td id=\"T_19fb3_row9_col9\" class=\"data row9 col9\" >19,794.39</td>\n",
       "      <td id=\"T_19fb3_row9_col10\" class=\"data row9 col10\" >30,835.35</td>\n",
       "      <td id=\"T_19fb3_row9_col11\" class=\"data row9 col11\" >31,284.45</td>\n",
       "      <td id=\"T_19fb3_row9_col12\" class=\"data row9 col12\" >-0.9825%</td>\n",
       "      <td id=\"T_19fb3_row9_col13\" class=\"data row9 col13\" >-2,963.88</td>\n",
       "      <td id=\"T_19fb3_row9_col14\" class=\"data row9 col14\" >0.0000%</td>\n",
       "      <td id=\"T_19fb3_row9_col15\" class=\"data row9 col15\" >1.00</td>\n",
       "      <td id=\"T_19fb3_row9_col16\" class=\"data row9 col16\" >LinAct360</td>\n",
       "    </tr>\n",
       "    <tr>\n",
       "      <th id=\"T_19fb3_level0_row10\" class=\"row_heading level0 row10\" >10</th>\n",
       "      <td id=\"T_19fb3_row10_col0\" class=\"data row10 col0\" >2023-05-09</td>\n",
       "      <td id=\"T_19fb3_row10_col1\" class=\"data row10 col1\" >2023-11-09</td>\n",
       "      <td id=\"T_19fb3_row10_col2\" class=\"data row10 col2\" >2023-11-09</td>\n",
       "      <td id=\"T_19fb3_row10_col3\" class=\"data row10 col3\" >600,000.00</td>\n",
       "      <td id=\"T_19fb3_row10_col4\" class=\"data row10 col4\" >0.00</td>\n",
       "      <td id=\"T_19fb3_row10_col5\" class=\"data row10 col5\" >True</td>\n",
       "      <td id=\"T_19fb3_row10_col6\" class=\"data row10 col6\" >-2,109.44</td>\n",
       "      <td id=\"T_19fb3_row10_col7\" class=\"data row10 col7\" >CLF</td>\n",
       "      <td id=\"T_19fb3_row10_col8\" class=\"data row10 col8\" >19,794.39</td>\n",
       "      <td id=\"T_19fb3_row10_col9\" class=\"data row10 col9\" >20,019.87</td>\n",
       "      <td id=\"T_19fb3_row10_col10\" class=\"data row10 col10\" >31,284.45</td>\n",
       "      <td id=\"T_19fb3_row10_col11\" class=\"data row10 col11\" >31,752.45</td>\n",
       "      <td id=\"T_19fb3_row10_col12\" class=\"data row10 col12\" >-0.6866%</td>\n",
       "      <td id=\"T_19fb3_row10_col13\" class=\"data row10 col13\" >-2,105.57</td>\n",
       "      <td id=\"T_19fb3_row10_col14\" class=\"data row10 col14\" >0.0000%</td>\n",
       "      <td id=\"T_19fb3_row10_col15\" class=\"data row10 col15\" >1.00</td>\n",
       "      <td id=\"T_19fb3_row10_col16\" class=\"data row10 col16\" >LinAct360</td>\n",
       "    </tr>\n",
       "    <tr>\n",
       "      <th id=\"T_19fb3_level0_row11\" class=\"row_heading level0 row11\" >11</th>\n",
       "      <td id=\"T_19fb3_row11_col0\" class=\"data row11 col0\" >2023-11-09</td>\n",
       "      <td id=\"T_19fb3_row11_col1\" class=\"data row11 col1\" >2024-05-09</td>\n",
       "      <td id=\"T_19fb3_row11_col2\" class=\"data row11 col2\" >2024-05-09</td>\n",
       "      <td id=\"T_19fb3_row11_col3\" class=\"data row11 col3\" >600,000.00</td>\n",
       "      <td id=\"T_19fb3_row11_col4\" class=\"data row11 col4\" >0.00</td>\n",
       "      <td id=\"T_19fb3_row11_col5\" class=\"data row11 col5\" >True</td>\n",
       "      <td id=\"T_19fb3_row11_col6\" class=\"data row11 col6\" >-1,201.71</td>\n",
       "      <td id=\"T_19fb3_row11_col7\" class=\"data row11 col7\" >CLF</td>\n",
       "      <td id=\"T_19fb3_row11_col8\" class=\"data row11 col8\" >20,019.87</td>\n",
       "      <td id=\"T_19fb3_row11_col9\" class=\"data row11 col9\" >20,277.70</td>\n",
       "      <td id=\"T_19fb3_row11_col10\" class=\"data row11 col10\" >31,752.45</td>\n",
       "      <td id=\"T_19fb3_row11_col11\" class=\"data row11 col11\" >32,225.93</td>\n",
       "      <td id=\"T_19fb3_row11_col12\" class=\"data row11 col12\" >-0.3937%</td>\n",
       "      <td id=\"T_19fb3_row11_col13\" class=\"data row11 col13\" >-1,194.22</td>\n",
       "      <td id=\"T_19fb3_row11_col14\" class=\"data row11 col14\" >0.0000%</td>\n",
       "      <td id=\"T_19fb3_row11_col15\" class=\"data row11 col15\" >1.00</td>\n",
       "      <td id=\"T_19fb3_row11_col16\" class=\"data row11 col16\" >LinAct360</td>\n",
       "    </tr>\n",
       "    <tr>\n",
       "      <th id=\"T_19fb3_level0_row12\" class=\"row_heading level0 row12\" >12</th>\n",
       "      <td id=\"T_19fb3_row12_col0\" class=\"data row12 col0\" >2024-05-09</td>\n",
       "      <td id=\"T_19fb3_row12_col1\" class=\"data row12 col1\" >2024-11-11</td>\n",
       "      <td id=\"T_19fb3_row12_col2\" class=\"data row12 col2\" >2024-11-11</td>\n",
       "      <td id=\"T_19fb3_row12_col3\" class=\"data row12 col3\" >600,000.00</td>\n",
       "      <td id=\"T_19fb3_row12_col4\" class=\"data row12 col4\" >0.00</td>\n",
       "      <td id=\"T_19fb3_row12_col5\" class=\"data row12 col5\" >True</td>\n",
       "      <td id=\"T_19fb3_row12_col6\" class=\"data row12 col6\" >-92.82</td>\n",
       "      <td id=\"T_19fb3_row12_col7\" class=\"data row12 col7\" >CLF</td>\n",
       "      <td id=\"T_19fb3_row12_col8\" class=\"data row12 col8\" >20,277.70</td>\n",
       "      <td id=\"T_19fb3_row12_col9\" class=\"data row12 col9\" >20,590.52</td>\n",
       "      <td id=\"T_19fb3_row12_col10\" class=\"data row12 col10\" >32,225.93</td>\n",
       "      <td id=\"T_19fb3_row12_col11\" class=\"data row12 col11\" >32,728.13</td>\n",
       "      <td id=\"T_19fb3_row12_col12\" class=\"data row12 col12\" >-0.0258%</td>\n",
       "      <td id=\"T_19fb3_row12_col13\" class=\"data row12 col13\" >-79.98</td>\n",
       "      <td id=\"T_19fb3_row12_col14\" class=\"data row12 col14\" >0.0000%</td>\n",
       "      <td id=\"T_19fb3_row12_col15\" class=\"data row12 col15\" >1.00</td>\n",
       "      <td id=\"T_19fb3_row12_col16\" class=\"data row12 col16\" >LinAct360</td>\n",
       "    </tr>\n",
       "    <tr>\n",
       "      <th id=\"T_19fb3_level0_row13\" class=\"row_heading level0 row13\" >13</th>\n",
       "      <td id=\"T_19fb3_row13_col0\" class=\"data row13 col0\" >2024-11-11</td>\n",
       "      <td id=\"T_19fb3_row13_col1\" class=\"data row13 col1\" >2025-05-09</td>\n",
       "      <td id=\"T_19fb3_row13_col2\" class=\"data row13 col2\" >2025-05-09</td>\n",
       "      <td id=\"T_19fb3_row13_col3\" class=\"data row13 col3\" >600,000.00</td>\n",
       "      <td id=\"T_19fb3_row13_col4\" class=\"data row13 col4\" >0.00</td>\n",
       "      <td id=\"T_19fb3_row13_col5\" class=\"data row13 col5\" >True</td>\n",
       "      <td id=\"T_19fb3_row13_col6\" class=\"data row13 col6\" >488.22</td>\n",
       "      <td id=\"T_19fb3_row13_col7\" class=\"data row13 col7\" >CLF</td>\n",
       "      <td id=\"T_19fb3_row13_col8\" class=\"data row13 col8\" >20,590.52</td>\n",
       "      <td id=\"T_19fb3_row13_col9\" class=\"data row13 col9\" >20,916.74</td>\n",
       "      <td id=\"T_19fb3_row13_col10\" class=\"data row13 col10\" >32,728.13</td>\n",
       "      <td id=\"T_19fb3_row13_col11\" class=\"data row13 col11\" >33,219.63</td>\n",
       "      <td id=\"T_19fb3_row13_col12\" class=\"data row13 col12\" >0.1672%</td>\n",
       "      <td id=\"T_19fb3_row13_col13\" class=\"data row13 col13\" >498.81</td>\n",
       "      <td id=\"T_19fb3_row13_col14\" class=\"data row13 col14\" >0.0000%</td>\n",
       "      <td id=\"T_19fb3_row13_col15\" class=\"data row13 col15\" >1.00</td>\n",
       "      <td id=\"T_19fb3_row13_col16\" class=\"data row13 col16\" >LinAct360</td>\n",
       "    </tr>\n",
       "    <tr>\n",
       "      <th id=\"T_19fb3_level0_row14\" class=\"row_heading level0 row14\" >14</th>\n",
       "      <td id=\"T_19fb3_row14_col0\" class=\"data row14 col0\" >2025-05-09</td>\n",
       "      <td id=\"T_19fb3_row14_col1\" class=\"data row14 col1\" >2025-11-10</td>\n",
       "      <td id=\"T_19fb3_row14_col2\" class=\"data row14 col2\" >2025-11-10</td>\n",
       "      <td id=\"T_19fb3_row14_col3\" class=\"data row14 col3\" >600,000.00</td>\n",
       "      <td id=\"T_19fb3_row14_col4\" class=\"data row14 col4\" >0.00</td>\n",
       "      <td id=\"T_19fb3_row14_col5\" class=\"data row14 col5\" >True</td>\n",
       "      <td id=\"T_19fb3_row14_col6\" class=\"data row14 col6\" >892.29</td>\n",
       "      <td id=\"T_19fb3_row14_col7\" class=\"data row14 col7\" >CLF</td>\n",
       "      <td id=\"T_19fb3_row14_col8\" class=\"data row14 col8\" >20,916.74</td>\n",
       "      <td id=\"T_19fb3_row14_col9\" class=\"data row14 col9\" >21,275.98</td>\n",
       "      <td id=\"T_19fb3_row14_col10\" class=\"data row14 col10\" >33,219.63</td>\n",
       "      <td id=\"T_19fb3_row14_col11\" class=\"data row14 col11\" >33,739.98</td>\n",
       "      <td id=\"T_19fb3_row14_col12\" class=\"data row14 col12\" >0.2874%</td>\n",
       "      <td id=\"T_19fb3_row14_col13\" class=\"data row14 col13\" >886.15</td>\n",
       "      <td id=\"T_19fb3_row14_col14\" class=\"data row14 col14\" >0.0000%</td>\n",
       "      <td id=\"T_19fb3_row14_col15\" class=\"data row14 col15\" >1.00</td>\n",
       "      <td id=\"T_19fb3_row14_col16\" class=\"data row14 col16\" >LinAct360</td>\n",
       "    </tr>\n",
       "    <tr>\n",
       "      <th id=\"T_19fb3_level0_row15\" class=\"row_heading level0 row15\" >15</th>\n",
       "      <td id=\"T_19fb3_row15_col0\" class=\"data row15 col0\" >2025-11-10</td>\n",
       "      <td id=\"T_19fb3_row15_col1\" class=\"data row15 col1\" >2026-05-11</td>\n",
       "      <td id=\"T_19fb3_row15_col2\" class=\"data row15 col2\" >2026-05-11</td>\n",
       "      <td id=\"T_19fb3_row15_col3\" class=\"data row15 col3\" >600,000.00</td>\n",
       "      <td id=\"T_19fb3_row15_col4\" class=\"data row15 col4\" >600,000.00</td>\n",
       "      <td id=\"T_19fb3_row15_col5\" class=\"data row15 col5\" >True</td>\n",
       "      <td id=\"T_19fb3_row15_col6\" class=\"data row15 col6\" >601,540.00</td>\n",
       "      <td id=\"T_19fb3_row15_col7\" class=\"data row15 col7\" >CLF</td>\n",
       "      <td id=\"T_19fb3_row15_col8\" class=\"data row15 col8\" >21,275.98</td>\n",
       "      <td id=\"T_19fb3_row15_col9\" class=\"data row15 col9\" >21,660.54</td>\n",
       "      <td id=\"T_19fb3_row15_col10\" class=\"data row15 col10\" >33,739.98</td>\n",
       "      <td id=\"T_19fb3_row15_col11\" class=\"data row15 col11\" >34,261.88</td>\n",
       "      <td id=\"T_19fb3_row15_col12\" class=\"data row15 col12\" >0.5124%</td>\n",
       "      <td id=\"T_19fb3_row15_col13\" class=\"data row15 col13\" >1,554.28</td>\n",
       "      <td id=\"T_19fb3_row15_col14\" class=\"data row15 col14\" >0.0000%</td>\n",
       "      <td id=\"T_19fb3_row15_col15\" class=\"data row15 col15\" >1.00</td>\n",
       "      <td id=\"T_19fb3_row15_col16\" class=\"data row15 col16\" >LinAct360</td>\n",
       "    </tr>\n",
       "  </tbody>\n",
       "</table>\n"
      ],
      "text/plain": [
       "<pandas.io.formats.style.Styler at 0x125b96f50>"
      ]
     },
     "execution_count": 96,
     "metadata": {},
     "output_type": "execute_result"
    }
   ],
   "source": [
    "# Se define un list donde almacenar los resultados de la función show\n",
    "tabla = []\n",
    "for i in range(0, icp_clf_leg.size()):\n",
    "    tabla.append(qcf.show(icp_clf_leg.get_cashflow_at(i)))\n",
    "\n",
    "# Se utiliza tabla para inicializar el Dataframe\n",
    "columnas = ['fecha_inicial', 'fecha__final', 'fecha__pago', 'nominal', 'amort', 'amort_es_flujo', 'flujo',\n",
    "            'moneda', 'icp_inicial', 'icp_final', 'uf_inicial', 'uf_final',\n",
    "            'valor_tasa', 'interes', 'spread', 'gearing', 'tipo_tasa']\n",
    "df8 = pd.DataFrame(tabla, columns=columnas)\n",
    "\n",
    "# Se despliega la data en este formato\n",
    "df8.style.format(format_dict)"
   ]
  },
  {
   "cell_type": "code",
   "execution_count": 97,
   "metadata": {
    "execution": {
     "iopub.execute_input": "2024-01-04T22:42:06.974469Z",
     "iopub.status.busy": "2024-01-04T22:42:06.974054Z",
     "iopub.status.idle": "2024-01-04T22:42:06.979411Z",
     "shell.execute_reply": "2024-01-04T22:42:06.978417Z",
     "shell.execute_reply.started": "2024-01-04T22:42:06.974439Z"
    }
   },
   "outputs": [
    {
     "name": "stdout",
     "output_type": "stream",
     "text": [
      "Valor presente en UF: 595,431.99\n",
      "Valor presente en CLP: 16,934,198,846\n"
     ]
    }
   ],
   "source": [
    "vp_icp_clf = pv.pv(fecha_hoy, icp_clf_leg, zz3)\n",
    "print(\"Valor presente en UF: {0:,.2f}\".format(vp_icp_clf))\n",
    "print(\"Valor presente en CLP: {0:,.0f}\".format(vp_icp_clf * uf_hoy))"
   ]
  },
  {
   "cell_type": "code",
   "execution_count": 98,
   "metadata": {
    "execution": {
     "iopub.execute_input": "2024-01-04T22:42:06.981315Z",
     "iopub.status.busy": "2024-01-04T22:42:06.980827Z",
     "iopub.status.idle": "2024-01-04T22:42:06.985631Z",
     "shell.execute_reply": "2024-01-04T22:42:06.984684Z",
     "shell.execute_reply.started": "2024-01-04T22:42:06.981282Z"
    }
   },
   "outputs": [
    {
     "name": "stdout",
     "output_type": "stream",
     "text": [
      "Dif %: -0.0223%\n"
     ]
    }
   ],
   "source": [
    "print(\"Dif %: {0:.4%}\".format(12_940.56/12_943.45-1))"
   ]
  },
  {
   "cell_type": "code",
   "execution_count": 99,
   "metadata": {
    "cell_style": "center",
    "execution": {
     "iopub.execute_input": "2024-01-04T22:42:06.987164Z",
     "iopub.status.busy": "2024-01-04T22:42:06.986721Z",
     "iopub.status.idle": "2024-01-04T22:42:06.993444Z",
     "shell.execute_reply": "2024-01-04T22:42:06.992520Z",
     "shell.execute_reply.started": "2024-01-04T22:42:06.987136Z"
    },
    "scrolled": true
   },
   "outputs": [
    {
     "name": "stdout",
     "output_type": "stream",
     "text": [
      "Sensibilidad en 0: 0.00\n",
      "Sensibilidad en 1: 0.00\n",
      "Sensibilidad en 2: 0.00\n",
      "Sensibilidad en 3: 0.10\n",
      "Sensibilidad en 4: 0.06\n",
      "Sensibilidad en 5: 0.00\n",
      "Sensibilidad en 6: 0.00\n",
      "Sensibilidad en 7: 0.00\n",
      "Sensibilidad en 8: 0.00\n",
      "Sensibilidad en 9: 0.27\n",
      "Sensibilidad en 10: 0.12\n",
      "Sensibilidad en 11: 0.00\n",
      "Sensibilidad en 12: 0.00\n",
      "Sensibilidad en 13: 0.00\n",
      "Sensibilidad en 14: 0.00\n",
      "Sensibilidad en 15: 0.32\n",
      "Sensibilidad en 16: 0.18\n",
      "Sensibilidad en 17: 0.00\n",
      "Sensibilidad en 18: 0.00\n",
      "Sensibilidad en 19: 0.00\n",
      "Sensibilidad en 20: 0.65\n",
      "Sensibilidad en 21: 1.63\n",
      "Sensibilidad en 22: 2.15\n",
      "Sensibilidad en 23: 1.29\n",
      "Sensibilidad en 24: -0.26\n",
      "Sensibilidad en 25: -335.81\n",
      "Sensibilidad en 26: -82.41\n",
      "Sensibilidad en 27: 0.00\n",
      "Sensibilidad en 28: 0.00\n",
      "Sensibilidad en 29: 0.00\n",
      "Sensibilidad en 30: 0.00\n",
      "Sensibilidad en 31: 0.00\n",
      "Sensibilidad en 32: 0.00\n",
      "Sensibilidad de descuento: -411.73 CLF\n"
     ]
    }
   ],
   "source": [
    "der = pv.get_derivatives()\n",
    "i = 0\n",
    "bp = .0001\n",
    "for d in der:\n",
    "    print(\"Sensibilidad en {0:}: {1:0,.2f}\".format(i, d * bp))\n",
    "    i += 1\n",
    "print(\"Sensibilidad de descuento: {0:,.2f} CLF\".format(sum(der) * bp))"
   ]
  },
  {
   "cell_type": "code",
   "execution_count": 100,
   "metadata": {
    "cell_style": "center",
    "execution": {
     "iopub.execute_input": "2024-01-04T22:42:06.994908Z",
     "iopub.status.busy": "2024-01-04T22:42:06.994414Z",
     "iopub.status.idle": "2024-01-04T22:42:07.006304Z",
     "shell.execute_reply": "2024-01-04T22:42:07.005285Z",
     "shell.execute_reply.started": "2024-01-04T22:42:06.994868Z"
    }
   },
   "outputs": [
    {
     "name": "stdout",
     "output_type": "stream",
     "text": [
      "Sensibilidad en 0: 0.00\n",
      "Sensibilidad en 1: 0.00\n",
      "Sensibilidad en 2: 0.00\n",
      "Sensibilidad en 3: -0.10\n",
      "Sensibilidad en 4: -0.06\n",
      "Sensibilidad en 5: 0.00\n",
      "Sensibilidad en 6: 0.00\n",
      "Sensibilidad en 7: 0.00\n",
      "Sensibilidad en 8: 0.00\n",
      "Sensibilidad en 9: -0.27\n",
      "Sensibilidad en 10: -0.12\n",
      "Sensibilidad en 11: 0.00\n",
      "Sensibilidad en 12: 0.00\n",
      "Sensibilidad en 13: 0.00\n",
      "Sensibilidad en 14: 0.00\n",
      "Sensibilidad en 15: -0.32\n",
      "Sensibilidad en 16: -0.18\n",
      "Sensibilidad en 17: 0.00\n",
      "Sensibilidad en 18: 0.00\n",
      "Sensibilidad en 19: 0.00\n",
      "Sensibilidad en 20: -0.65\n",
      "Sensibilidad en 21: -1.63\n",
      "Sensibilidad en 22: -2.15\n",
      "Sensibilidad en 23: -1.29\n",
      "Sensibilidad en 24: 0.26\n",
      "Sensibilidad en 25: 335.81\n",
      "Sensibilidad en 26: 82.41\n",
      "Sensibilidad en 27: 0.00\n",
      "Sensibilidad en 28: 0.00\n",
      "Sensibilidad en 29: 0.00\n",
      "Sensibilidad en 30: 0.00\n",
      "Sensibilidad en 31: 0.00\n",
      "Sensibilidad en 32: 0.00\n"
     ]
    }
   ],
   "source": [
    "bp = .0001\n",
    "result = []\n",
    "\n",
    "for i in range(icp_clf_leg.size()):\n",
    "    cshflw = icp_clf_leg.get_cashflow_at(i)\n",
    "    df = zz3.get_discount_factor_at(fecha_hoy.day_diff(cshflw.date()))\n",
    "    amt_der = cshflw.get_amount_ufclf_derivatives()\n",
    "    if len(amt_der) > 0:\n",
    "        amt_der = [a * bp * df for a in amt_der]\n",
    "        result.append(np.array(amt_der))\n",
    "\n",
    "total = result[0] * 0\n",
    "for r in result:\n",
    "    total += r\n",
    "\n",
    "for i in range(len(total)):\n",
    "    print(\"Sensibilidad en {0:}: {1:0,.2f}\".format(i, total[i]))"
   ]
  },
  {
   "cell_type": "markdown",
   "metadata": {},
   "source": [
    "### CompoundedOvernightRate Leg"
   ]
  },
  {
   "cell_type": "code",
   "execution_count": 101,
   "metadata": {
    "execution": {
     "iopub.execute_input": "2024-01-04T22:42:07.007893Z",
     "iopub.status.busy": "2024-01-04T22:42:07.007373Z",
     "iopub.status.idle": "2024-01-04T22:42:07.016579Z",
     "shell.execute_reply": "2024-01-04T22:42:07.015779Z",
     "shell.execute_reply.started": "2024-01-04T22:42:07.007863Z"
    }
   },
   "outputs": [],
   "source": [
    "# Se da de alta los parámetros requeridos\n",
    "rp = qcf.RecPay.PAY\n",
    "fecha_inicio = qcf.QCDate(17, 7, 2023)\n",
    "fecha_final = qcf.QCDate(17, 7, 2027)\n",
    "bus_adj_rule = qcf.BusyAdjRules.MODFOLLOW\n",
    "periodicidad_pago = qcf.Tenor('12M')\n",
    "periodo_irregular_pago = qcf.StubPeriod.NO\n",
    "calendario = qcf.BusinessCalendar(fecha_inicio, 20)\n",
    "lag_pago = 2\n",
    "\n",
    "######################################################################\n",
    "# Definición del índice\n",
    "\n",
    "codigo = 'OISTEST'\n",
    "lin_act360 = qcf.QCInterestRate(.0, qcf.QCAct360(), qcf.QCLinearWf())\n",
    "fixing_lag = qcf.Tenor('0d')\n",
    "tenor = qcf.Tenor('1d')\n",
    "fixing_calendar = calendario\n",
    "settlement_calendar = calendario\n",
    "usd = qcf.QCUSD()\n",
    "oistest = qcf.InterestRateIndex(\n",
    "    codigo,\n",
    "    lin_act360,\n",
    "    fixing_lag,\n",
    "    tenor,\n",
    "    fixing_calendar,\n",
    "    settlement_calendar,\n",
    "    usd)\n",
    "\n",
    "# Fin índice\n",
    "######################################################################\n",
    "\n",
    "nominal = 5_500_000.0\n",
    "amort_es_flujo = True\n",
    "moneda = usd\n",
    "spread = .0\n",
    "gearing = 1.0\n",
    "\n",
    "cor_leg = qcf.LegFactory.build_bullet_compounded_overnight_rate_leg(\n",
    "    rp,\n",
    "    fecha_inicio,\n",
    "    fecha_final,\n",
    "    bus_adj_rule,\n",
    "    periodicidad_pago,\n",
    "    periodo_irregular_pago,\n",
    "    calendario,\n",
    "    lag_pago,\n",
    "    calendario,\n",
    "    oistest,\n",
    "    nominal,\n",
    "    amort_es_flujo,\n",
    "    usd,\n",
    "    spread,\n",
    "    gearing,\n",
    "    True,\n",
    "    10,\n",
    "    0,\n",
    "    0\n",
    ")"
   ]
  },
  {
   "cell_type": "code",
   "execution_count": 102,
   "metadata": {
    "execution": {
     "iopub.execute_input": "2024-01-04T22:42:07.017966Z",
     "iopub.status.busy": "2024-01-04T22:42:07.017573Z",
     "iopub.status.idle": "2024-01-04T22:42:07.023309Z",
     "shell.execute_reply": "2024-01-04T22:42:07.022510Z",
     "shell.execute_reply.started": "2024-01-04T22:42:07.017940Z"
    }
   },
   "outputs": [],
   "source": [
    "ts = qcf.time_series()\n",
    "ts[qcf.QCDate(17, 7, 2023)] = .01\n",
    "ts[qcf.QCDate(18, 7, 2023)] = .02\n",
    "ts[qcf.QCDate(19, 7, 2023)] = .03\n",
    "ts[qcf.QCDate(20, 7, 2023)] = .04\n",
    "ts[qcf.QCDate(21, 7, 2023)] = .04"
   ]
  },
  {
   "cell_type": "markdown",
   "metadata": {},
   "source": [
    "#### Valor Presente"
   ]
  },
  {
   "cell_type": "code",
   "execution_count": 103,
   "metadata": {
    "execution": {
     "iopub.execute_input": "2024-01-04T22:42:07.024872Z",
     "iopub.status.busy": "2024-01-04T22:42:07.024461Z",
     "iopub.status.idle": "2024-01-04T22:42:07.028841Z",
     "shell.execute_reply": "2024-01-04T22:42:07.027935Z",
     "shell.execute_reply.started": "2024-01-04T22:42:07.024845Z"
    }
   },
   "outputs": [],
   "source": [
    "fwd_rates.set_rates_compounded_overnight_leg(\n",
    "    fecha_inicio,\n",
    "    cor_leg,\n",
    "    zz1,\n",
    "    ts\n",
    ")"
   ]
  },
  {
   "cell_type": "code",
   "execution_count": 104,
   "metadata": {
    "execution": {
     "iopub.execute_input": "2024-01-04T22:42:07.030411Z",
     "iopub.status.busy": "2024-01-04T22:42:07.029932Z",
     "iopub.status.idle": "2024-01-04T22:42:07.044126Z",
     "shell.execute_reply": "2024-01-04T22:42:07.043226Z",
     "shell.execute_reply.started": "2024-01-04T22:42:07.030382Z"
    }
   },
   "outputs": [
    {
     "data": {
      "text/html": [
       "<style type=\"text/css\">\n",
       "</style>\n",
       "<table id=\"T_9d79b\">\n",
       "  <thead>\n",
       "    <tr>\n",
       "      <th class=\"blank level0\" >&nbsp;</th>\n",
       "      <th id=\"T_9d79b_level0_col0\" class=\"col_heading level0 col0\" >fecha_inicial</th>\n",
       "      <th id=\"T_9d79b_level0_col1\" class=\"col_heading level0 col1\" >fecha__final</th>\n",
       "      <th id=\"T_9d79b_level0_col2\" class=\"col_heading level0 col2\" >fecha__pago</th>\n",
       "      <th id=\"T_9d79b_level0_col3\" class=\"col_heading level0 col3\" >nominal</th>\n",
       "      <th id=\"T_9d79b_level0_col4\" class=\"col_heading level0 col4\" >amort</th>\n",
       "      <th id=\"T_9d79b_level0_col5\" class=\"col_heading level0 col5\" >interes</th>\n",
       "      <th id=\"T_9d79b_level0_col6\" class=\"col_heading level0 col6\" >amort_es_flujo</th>\n",
       "      <th id=\"T_9d79b_level0_col7\" class=\"col_heading level0 col7\" >flujo</th>\n",
       "      <th id=\"T_9d79b_level0_col8\" class=\"col_heading level0 col8\" >moneda</th>\n",
       "      <th id=\"T_9d79b_level0_col9\" class=\"col_heading level0 col9\" >indice</th>\n",
       "      <th id=\"T_9d79b_level0_col10\" class=\"col_heading level0 col10\" >valor_tasa</th>\n",
       "      <th id=\"T_9d79b_level0_col11\" class=\"col_heading level0 col11\" >spread</th>\n",
       "      <th id=\"T_9d79b_level0_col12\" class=\"col_heading level0 col12\" >gearing</th>\n",
       "      <th id=\"T_9d79b_level0_col13\" class=\"col_heading level0 col13\" >tipo_tasa</th>\n",
       "    </tr>\n",
       "  </thead>\n",
       "  <tbody>\n",
       "    <tr>\n",
       "      <th id=\"T_9d79b_level0_row0\" class=\"row_heading level0 row0\" >0</th>\n",
       "      <td id=\"T_9d79b_row0_col0\" class=\"data row0 col0\" >2023-07-17</td>\n",
       "      <td id=\"T_9d79b_row0_col1\" class=\"data row0 col1\" >2024-07-17</td>\n",
       "      <td id=\"T_9d79b_row0_col2\" class=\"data row0 col2\" >2024-07-19</td>\n",
       "      <td id=\"T_9d79b_row0_col3\" class=\"data row0 col3\" >-5,500,000.00</td>\n",
       "      <td id=\"T_9d79b_row0_col4\" class=\"data row0 col4\" >0.00</td>\n",
       "      <td id=\"T_9d79b_row0_col5\" class=\"data row0 col5\" >-0.00</td>\n",
       "      <td id=\"T_9d79b_row0_col6\" class=\"data row0 col6\" >True</td>\n",
       "      <td id=\"T_9d79b_row0_col7\" class=\"data row0 col7\" >-72,677.25</td>\n",
       "      <td id=\"T_9d79b_row0_col8\" class=\"data row0 col8\" >USD</td>\n",
       "      <td id=\"T_9d79b_row0_col9\" class=\"data row0 col9\" >OISTEST</td>\n",
       "      <td id=\"T_9d79b_row0_col10\" class=\"data row0 col10\" >1.2997%</td>\n",
       "      <td id=\"T_9d79b_row0_col11\" class=\"data row0 col11\" >0.0000%</td>\n",
       "      <td id=\"T_9d79b_row0_col12\" class=\"data row0 col12\" >1.00</td>\n",
       "      <td id=\"T_9d79b_row0_col13\" class=\"data row0 col13\" >LinAct360</td>\n",
       "    </tr>\n",
       "    <tr>\n",
       "      <th id=\"T_9d79b_level0_row1\" class=\"row_heading level0 row1\" >1</th>\n",
       "      <td id=\"T_9d79b_row1_col0\" class=\"data row1 col0\" >2024-07-17</td>\n",
       "      <td id=\"T_9d79b_row1_col1\" class=\"data row1 col1\" >2025-07-17</td>\n",
       "      <td id=\"T_9d79b_row1_col2\" class=\"data row1 col2\" >2025-07-21</td>\n",
       "      <td id=\"T_9d79b_row1_col3\" class=\"data row1 col3\" >-5,500,000.00</td>\n",
       "      <td id=\"T_9d79b_row1_col4\" class=\"data row1 col4\" >0.00</td>\n",
       "      <td id=\"T_9d79b_row1_col5\" class=\"data row1 col5\" >-0.00</td>\n",
       "      <td id=\"T_9d79b_row1_col6\" class=\"data row1 col6\" >True</td>\n",
       "      <td id=\"T_9d79b_row1_col7\" class=\"data row1 col7\" >-71,041.19</td>\n",
       "      <td id=\"T_9d79b_row1_col8\" class=\"data row1 col8\" >USD</td>\n",
       "      <td id=\"T_9d79b_row1_col9\" class=\"data row1 col9\" >OISTEST</td>\n",
       "      <td id=\"T_9d79b_row1_col10\" class=\"data row1 col10\" >1.2740%</td>\n",
       "      <td id=\"T_9d79b_row1_col11\" class=\"data row1 col11\" >0.0000%</td>\n",
       "      <td id=\"T_9d79b_row1_col12\" class=\"data row1 col12\" >1.00</td>\n",
       "      <td id=\"T_9d79b_row1_col13\" class=\"data row1 col13\" >LinAct360</td>\n",
       "    </tr>\n",
       "    <tr>\n",
       "      <th id=\"T_9d79b_level0_row2\" class=\"row_heading level0 row2\" >2</th>\n",
       "      <td id=\"T_9d79b_row2_col0\" class=\"data row2 col0\" >2025-07-17</td>\n",
       "      <td id=\"T_9d79b_row2_col1\" class=\"data row2 col1\" >2026-07-17</td>\n",
       "      <td id=\"T_9d79b_row2_col2\" class=\"data row2 col2\" >2026-07-21</td>\n",
       "      <td id=\"T_9d79b_row2_col3\" class=\"data row2 col3\" >-5,500,000.00</td>\n",
       "      <td id=\"T_9d79b_row2_col4\" class=\"data row2 col4\" >0.00</td>\n",
       "      <td id=\"T_9d79b_row2_col5\" class=\"data row2 col5\" >-0.00</td>\n",
       "      <td id=\"T_9d79b_row2_col6\" class=\"data row2 col6\" >True</td>\n",
       "      <td id=\"T_9d79b_row2_col7\" class=\"data row2 col7\" >-94,449.59</td>\n",
       "      <td id=\"T_9d79b_row2_col8\" class=\"data row2 col8\" >USD</td>\n",
       "      <td id=\"T_9d79b_row2_col9\" class=\"data row2 col9\" >OISTEST</td>\n",
       "      <td id=\"T_9d79b_row2_col10\" class=\"data row2 col10\" >1.6937%</td>\n",
       "      <td id=\"T_9d79b_row2_col11\" class=\"data row2 col11\" >0.0000%</td>\n",
       "      <td id=\"T_9d79b_row2_col12\" class=\"data row2 col12\" >1.00</td>\n",
       "      <td id=\"T_9d79b_row2_col13\" class=\"data row2 col13\" >LinAct360</td>\n",
       "    </tr>\n",
       "    <tr>\n",
       "      <th id=\"T_9d79b_level0_row3\" class=\"row_heading level0 row3\" >3</th>\n",
       "      <td id=\"T_9d79b_row3_col0\" class=\"data row3 col0\" >2026-07-17</td>\n",
       "      <td id=\"T_9d79b_row3_col1\" class=\"data row3 col1\" >2027-07-19</td>\n",
       "      <td id=\"T_9d79b_row3_col2\" class=\"data row3 col2\" >2027-07-21</td>\n",
       "      <td id=\"T_9d79b_row3_col3\" class=\"data row3 col3\" >-5,500,000.00</td>\n",
       "      <td id=\"T_9d79b_row3_col4\" class=\"data row3 col4\" >-5,500,000.00</td>\n",
       "      <td id=\"T_9d79b_row3_col5\" class=\"data row3 col5\" >-0.00</td>\n",
       "      <td id=\"T_9d79b_row3_col6\" class=\"data row3 col6\" >True</td>\n",
       "      <td id=\"T_9d79b_row3_col7\" class=\"data row3 col7\" >-5,626,628.96</td>\n",
       "      <td id=\"T_9d79b_row3_col8\" class=\"data row3 col8\" >USD</td>\n",
       "      <td id=\"T_9d79b_row3_col9\" class=\"data row3 col9\" >OISTEST</td>\n",
       "      <td id=\"T_9d79b_row3_col10\" class=\"data row3 col10\" >2.2584%</td>\n",
       "      <td id=\"T_9d79b_row3_col11\" class=\"data row3 col11\" >0.0000%</td>\n",
       "      <td id=\"T_9d79b_row3_col12\" class=\"data row3 col12\" >1.00</td>\n",
       "      <td id=\"T_9d79b_row3_col13\" class=\"data row3 col13\" >LinAct360</td>\n",
       "    </tr>\n",
       "  </tbody>\n",
       "</table>\n"
      ],
      "text/plain": [
       "<pandas.io.formats.style.Styler at 0x125b56690>"
      ]
     },
     "execution_count": 104,
     "metadata": {},
     "output_type": "execute_result"
    }
   ],
   "source": [
    "# Se define un list donde almacenar los resultados de la función show\n",
    "tabla = []\n",
    "for i in range(0, cor_leg.size()):\n",
    "    tabla.append(qcf.show(cor_leg.get_cashflow_at(i)))\n",
    "\n",
    "# Se utiliza tabla para inicializar el Dataframe\n",
    "columnas = ['fecha_inicial', 'fecha__final', 'fecha__pago', 'nominal', 'amort', 'interes', 'amort_es_flujo', 'flujo',\n",
    "            'moneda', 'indice', 'valor_tasa', 'spread', 'gearing', 'tipo_tasa']\n",
    "df9 = pd.DataFrame(tabla, columns=columnas)\n",
    "\n",
    "# Se despliega la data en este formato\n",
    "df9.style.format(format_dict)"
   ]
  },
  {
   "cell_type": "code",
   "execution_count": 105,
   "metadata": {
    "execution": {
     "iopub.execute_input": "2024-01-04T22:42:07.045892Z",
     "iopub.status.busy": "2024-01-04T22:42:07.045528Z",
     "iopub.status.idle": "2024-01-04T22:42:07.050230Z",
     "shell.execute_reply": "2024-01-04T22:42:07.049279Z",
     "shell.execute_reply.started": "2024-01-04T22:42:07.045865Z"
    }
   },
   "outputs": [
    {
     "name": "stdout",
     "output_type": "stream",
     "text": [
      "-5,499,256\n"
     ]
    }
   ],
   "source": [
    "print(f'{pv.pv(fecha_inicio, cor_leg, zz1):,.0f}')"
   ]
  },
  {
   "cell_type": "code",
   "execution_count": 106,
   "metadata": {
    "execution": {
     "iopub.execute_input": "2024-01-04T22:42:07.051755Z",
     "iopub.status.busy": "2024-01-04T22:42:07.051376Z",
     "iopub.status.idle": "2024-01-04T22:42:07.057777Z",
     "shell.execute_reply": "2024-01-04T22:42:07.056832Z",
     "shell.execute_reply.started": "2024-01-04T22:42:07.051727Z"
    }
   },
   "outputs": [
    {
     "name": "stdout",
     "output_type": "stream",
     "text": [
      "-72,677.25, 0.0\n",
      "-71,041.19, 0.0\n",
      "-94,449.59, 0.0\n",
      "-5,626,628.96, -5500000.0\n",
      "-5,499,256\n"
     ]
    }
   ],
   "source": [
    "pres_value = 0.0\n",
    "for i in range(0, cor_leg.size()):\n",
    "    cshflw = cor_leg.get_cashflow_at(i)\n",
    "    print(f'{cshflw.amount():,.2f}, {cshflw.get_amortization()}')\n",
    "    temp = pv.pv(fecha_inicio, cshflw, zz1)\n",
    "    # print(f'{temp:,.0f}')\n",
    "    pres_value += temp\n",
    "print(f'{pres_value:,.0f}')"
   ]
  },
  {
   "cell_type": "markdown",
   "metadata": {},
   "source": [
    "#### Sensibilidad"
   ]
  },
  {
   "cell_type": "code",
   "execution_count": 107,
   "metadata": {
    "execution": {
     "iopub.execute_input": "2024-01-04T22:42:07.059282Z",
     "iopub.status.busy": "2024-01-04T22:42:07.058797Z",
     "iopub.status.idle": "2024-01-04T22:42:07.063555Z",
     "shell.execute_reply": "2024-01-04T22:42:07.062552Z",
     "shell.execute_reply.started": "2024-01-04T22:42:07.059252Z"
    }
   },
   "outputs": [],
   "source": [
    "pips = .0001 # 1 punto básico"
   ]
  },
  {
   "cell_type": "markdown",
   "metadata": {},
   "source": [
    "##### Curva de Proyección"
   ]
  },
  {
   "cell_type": "markdown",
   "metadata": {},
   "source": [
    "Estas derivadas se deben obtener inmediatamente después de calcular el valor presente."
   ]
  },
  {
   "cell_type": "code",
   "execution_count": 108,
   "metadata": {
    "execution": {
     "iopub.execute_input": "2024-01-04T22:42:07.065473Z",
     "iopub.status.busy": "2024-01-04T22:42:07.065125Z",
     "iopub.status.idle": "2024-01-04T22:42:07.071407Z",
     "shell.execute_reply": "2024-01-04T22:42:07.070444Z",
     "shell.execute_reply.started": "2024-01-04T22:42:07.065446Z"
    }
   },
   "outputs": [],
   "source": [
    "proj_sens_by_cashflow = np.array([np.array(\n",
    "    np.array(cor_leg.get_cashflow_at(i).get_amount_derivatives()) *\n",
    "    zz1.get_discount_factor_at(fecha_inicio.day_diff(cor_leg.get_cashflow_at(i).get_settlement_date())) * pips)\n",
    "                             for i in range(cor_leg.size())])\n",
    "proj_sens = np.sum(proj_sens_by_cashflow, axis=0)"
   ]
  },
  {
   "cell_type": "markdown",
   "metadata": {},
   "source": [
    "##### Curva de Descuento"
   ]
  },
  {
   "cell_type": "code",
   "execution_count": 109,
   "metadata": {
    "execution": {
     "iopub.execute_input": "2024-01-04T22:42:07.073305Z",
     "iopub.status.busy": "2024-01-04T22:42:07.072887Z",
     "iopub.status.idle": "2024-01-04T22:42:07.077524Z",
     "shell.execute_reply": "2024-01-04T22:42:07.076636Z",
     "shell.execute_reply.started": "2024-01-04T22:42:07.073275Z"
    }
   },
   "outputs": [],
   "source": [
    "disc_der = np.array(pv.get_derivatives()) * pips"
   ]
  },
  {
   "cell_type": "code",
   "execution_count": 110,
   "metadata": {
    "execution": {
     "iopub.execute_input": "2024-01-04T22:42:28.135082Z",
     "iopub.status.busy": "2024-01-04T22:42:28.134695Z",
     "iopub.status.idle": "2024-01-04T22:42:28.142572Z",
     "shell.execute_reply": "2024-01-04T22:42:28.141661Z",
     "shell.execute_reply.started": "2024-01-04T22:42:28.135050Z"
    }
   },
   "outputs": [
    {
     "data": {
      "text/plain": [
       "array([   0.       ,    0.       ,    0.       ,    0.       ,\n",
       "          0.       ,    0.       ,    0.       ,    0.       ,\n",
       "          0.       , 2007.0400924,    0.       ,    0.       ,\n",
       "          0.       ,    0.       ,    0.       ,    0.       ,\n",
       "          0.       ,    0.       ,    0.       ])"
      ]
     },
     "execution_count": 110,
     "metadata": {},
     "output_type": "execute_result"
    }
   ],
   "source": [
    "disc_der"
   ]
  }
 ],
 "metadata": {
  "hide_input": false,
  "kernelspec": {
   "display_name": "Python 3 (ipykernel)",
   "language": "python",
   "name": "python3"
  },
  "language_info": {
   "codemirror_mode": {
    "name": "ipython",
    "version": 3
   },
   "file_extension": ".py",
   "mimetype": "text/x-python",
   "name": "python",
   "nbconvert_exporter": "python",
   "pygments_lexer": "ipython3",
   "version": "3.11.5"
  },
  "toc": {
   "base_numbering": 1,
   "nav_menu": {},
   "number_sections": true,
   "sideBar": true,
   "skip_h1_title": true,
   "title_cell": "Table of Contents",
   "title_sidebar": "Contenidos",
   "toc_cell": false,
   "toc_position": {
    "height": "calc(100% - 180px)",
    "left": "10px",
    "top": "150px",
    "width": "311px"
   },
   "toc_section_display": true,
   "toc_window_display": true
  },
  "varInspector": {
   "cols": {
    "lenName": 16,
    "lenType": 16,
    "lenVar": 40
   },
   "kernels_config": {
    "python": {
     "delete_cmd_postfix": "",
     "delete_cmd_prefix": "del ",
     "library": "var_list.py",
     "varRefreshCmd": "print(var_dic_list())"
    },
    "r": {
     "delete_cmd_postfix": ") ",
     "delete_cmd_prefix": "rm(",
     "library": "var_list.r",
     "varRefreshCmd": "cat(var_dic_list()) "
    }
   },
   "types_to_exclude": [
    "module",
    "function",
    "builtin_function_or_method",
    "instance",
    "_Feature"
   ],
   "window_display": false
  }
 },
 "nbformat": 4,
 "nbformat_minor": 4
}
