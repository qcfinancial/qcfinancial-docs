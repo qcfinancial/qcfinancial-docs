{
 "cells": [
  {
   "cell_type": "markdown",
   "metadata": {},
   "source": [
    "# Valorización y Sensibilidad"
   ]
  },
  {
   "cell_type": "markdown",
   "metadata": {},
   "source": [
    "## Configuración"
   ]
  },
  {
   "cell_type": "markdown",
   "metadata": {},
   "source": [
    "Para ejecutar todos los ejemplos se debe importar la librería. Se sugiere utilizar siempre el alias `qcf`. "
   ]
  },
  {
   "cell_type": "code",
   "execution_count": 1,
   "metadata": {
    "ExecuteTime": {
     "end_time": "2022-01-28T16:17:40.550986Z",
     "start_time": "2022-01-28T16:17:40.504746Z"
    },
    "execution": {
     "iopub.execute_input": "2023-10-16T14:40:43.624547Z",
     "iopub.status.busy": "2023-10-16T14:40:43.624273Z",
     "iopub.status.idle": "2023-10-16T14:40:43.643929Z",
     "shell.execute_reply": "2023-10-16T14:40:43.643169Z",
     "shell.execute_reply.started": "2023-10-16T14:40:43.624526Z"
    }
   },
   "outputs": [],
   "source": [
    "import qcfinancial as qcf"
   ]
  },
  {
   "cell_type": "markdown",
   "metadata": {},
   "source": [
    "Librerías adicionales."
   ]
  },
  {
   "cell_type": "code",
   "execution_count": 2,
   "metadata": {
    "ExecuteTime": {
     "end_time": "2022-01-28T16:17:42.129519Z",
     "start_time": "2022-01-28T16:17:41.427949Z"
    },
    "execution": {
     "iopub.execute_input": "2023-10-16T14:40:43.645900Z",
     "iopub.status.busy": "2023-10-16T14:40:43.645396Z",
     "iopub.status.idle": "2023-10-16T14:40:44.354225Z",
     "shell.execute_reply": "2023-10-16T14:40:44.353929Z",
     "shell.execute_reply.started": "2023-10-16T14:40:43.645877Z"
    }
   },
   "outputs": [],
   "source": [
    "import pandas as pd"
   ]
  },
  {
   "cell_type": "markdown",
   "metadata": {},
   "source": [
    "Para formateo de `pandas.DataFrames`."
   ]
  },
  {
   "cell_type": "code",
   "execution_count": 3,
   "metadata": {
    "ExecuteTime": {
     "end_time": "2022-01-28T16:17:43.082752Z",
     "start_time": "2022-01-28T16:17:43.069810Z"
    },
    "execution": {
     "iopub.execute_input": "2023-10-16T14:40:44.354826Z",
     "iopub.status.busy": "2023-10-16T14:40:44.354704Z",
     "iopub.status.idle": "2023-10-16T14:40:44.357814Z",
     "shell.execute_reply": "2023-10-16T14:40:44.357476Z",
     "shell.execute_reply.started": "2023-10-16T14:40:44.354818Z"
    }
   },
   "outputs": [],
   "source": [
    "format_dict = {\n",
    "    'nominal': '{0:,.2f}',\n",
    "    'amort': '{0:,.2f}',\n",
    "    'interes': '{0:,.2f}',\n",
    "    'flujo': '{0:,.2f}',\n",
    "    'amortizacion': '{0:,.2f}',\n",
    "    'icp_inicial': '{0:,.2f}',\n",
    "    'icp_final': '{0:,.2f}',\n",
    "    'uf_inicial': '{0:,.2f}',\n",
    "    'uf_final': '{0:,.2f}',\n",
    "    'valor_tasa': '{0:,.4%}',\n",
    "    'spread': '{0:,.4%}',\n",
    "    'gearing': '{0:,.2f}',\n",
    "    'amort_moneda_pago': '{0:,.2f}',\n",
    "    'interes_moneda_pago': '{0:,.2f}',\n",
    "    'valor_indice_fx': '{0:,.2f}'\n",
    "}"
   ]
  },
  {
   "cell_type": "markdown",
   "metadata": {},
   "source": [
    "## Construcción de la Curva"
   ]
  },
  {
   "cell_type": "markdown",
   "metadata": {},
   "source": [
    "La construcción de una curva se hace en varios pasos."
   ]
  },
  {
   "cell_type": "markdown",
   "metadata": {},
   "source": [
    "### Vectores de `Float` e `Int`"
   ]
  },
  {
   "cell_type": "code",
   "execution_count": 4,
   "metadata": {
    "ExecuteTime": {
     "end_time": "2022-01-28T16:17:44.442292Z",
     "start_time": "2022-01-28T16:17:44.426747Z"
    },
    "execution": {
     "iopub.execute_input": "2023-10-16T14:40:44.359065Z",
     "iopub.status.busy": "2023-10-16T14:40:44.358964Z",
     "iopub.status.idle": "2023-10-16T14:40:44.361631Z",
     "shell.execute_reply": "2023-10-16T14:40:44.361394Z",
     "shell.execute_reply.started": "2023-10-16T14:40:44.359058Z"
    }
   },
   "outputs": [],
   "source": [
    "# Este es un vector de números enteros (grandes, de ahí la l (long))\n",
    "lvec = qcf.long_vec()"
   ]
  },
  {
   "cell_type": "code",
   "execution_count": 5,
   "metadata": {
    "ExecuteTime": {
     "end_time": "2022-01-28T16:17:44.771100Z",
     "start_time": "2022-01-28T16:17:44.764092Z"
    },
    "execution": {
     "iopub.execute_input": "2023-10-16T14:40:44.362188Z",
     "iopub.status.busy": "2023-10-16T14:40:44.362054Z",
     "iopub.status.idle": "2023-10-16T14:40:44.365702Z",
     "shell.execute_reply": "2023-10-16T14:40:44.365404Z",
     "shell.execute_reply.started": "2023-10-16T14:40:44.362180Z"
    }
   },
   "outputs": [],
   "source": [
    "# Agregar un elemento\n",
    "lvec.append(1000)"
   ]
  },
  {
   "cell_type": "code",
   "execution_count": 6,
   "metadata": {
    "ExecuteTime": {
     "end_time": "2022-01-28T16:17:45.052855Z",
     "start_time": "2022-01-28T16:17:45.037092Z"
    },
    "execution": {
     "iopub.execute_input": "2023-10-16T14:40:44.366109Z",
     "iopub.status.busy": "2023-10-16T14:40:44.366038Z",
     "iopub.status.idle": "2023-10-16T14:40:44.368218Z",
     "shell.execute_reply": "2023-10-16T14:40:44.367835Z",
     "shell.execute_reply.started": "2023-10-16T14:40:44.366102Z"
    }
   },
   "outputs": [],
   "source": [
    "# Este es un vector de números double.\n",
    "vec = qcf.double_vec()"
   ]
  },
  {
   "cell_type": "code",
   "execution_count": 7,
   "metadata": {
    "ExecuteTime": {
     "end_time": "2022-01-28T16:17:45.270196Z",
     "start_time": "2022-01-28T16:17:45.254432Z"
    },
    "execution": {
     "iopub.execute_input": "2023-10-16T14:40:44.368620Z",
     "iopub.status.busy": "2023-10-16T14:40:44.368518Z",
     "iopub.status.idle": "2023-10-16T14:40:44.370789Z",
     "shell.execute_reply": "2023-10-16T14:40:44.370553Z",
     "shell.execute_reply.started": "2023-10-16T14:40:44.368609Z"
    }
   },
   "outputs": [],
   "source": [
    "# Agregar un elemento\n",
    "vec.append(.025)"
   ]
  },
  {
   "cell_type": "code",
   "execution_count": 8,
   "metadata": {
    "ExecuteTime": {
     "end_time": "2022-01-28T16:17:45.504837Z",
     "start_time": "2022-01-28T16:17:45.490682Z"
    },
    "execution": {
     "iopub.execute_input": "2023-10-16T14:40:44.371344Z",
     "iopub.status.busy": "2023-10-16T14:40:44.371145Z",
     "iopub.status.idle": "2023-10-16T14:40:44.373302Z",
     "shell.execute_reply": "2023-10-16T14:40:44.372981Z",
     "shell.execute_reply.started": "2023-10-16T14:40:44.371332Z"
    }
   },
   "outputs": [
    {
     "name": "stdout",
     "output_type": "stream",
     "text": [
      "Tasa: 2.50%\n"
     ]
    }
   ],
   "source": [
    "# Obtener ese elemento\n",
    "print(\"Tasa: {0:,.2%}\".format(vec[0]))"
   ]
  },
  {
   "cell_type": "markdown",
   "metadata": {},
   "source": [
    "### Objeto Curva"
   ]
  },
  {
   "cell_type": "markdown",
   "metadata": {},
   "source": [
    "Es simplemente un `long_vec` que representa las abscisas de la curva y un `double_vec` que representa las ordenadas. Ambos vectores deben tener el mismo largo. "
   ]
  },
  {
   "cell_type": "code",
   "execution_count": 9,
   "metadata": {
    "ExecuteTime": {
     "end_time": "2022-01-28T16:17:46.598464Z",
     "start_time": "2022-01-28T16:17:46.574818Z"
    },
    "execution": {
     "iopub.execute_input": "2023-10-16T14:40:44.373686Z",
     "iopub.status.busy": "2023-10-16T14:40:44.373619Z",
     "iopub.status.idle": "2023-10-16T14:40:44.375528Z",
     "shell.execute_reply": "2023-10-16T14:40:44.375309Z",
     "shell.execute_reply.started": "2023-10-16T14:40:44.373680Z"
    }
   },
   "outputs": [],
   "source": [
    "zcc = qcf.QCCurve(lvec, vec)"
   ]
  },
  {
   "cell_type": "markdown",
   "metadata": {},
   "source": [
    "Un elemento de una curva se representa como un par abscisa, ordenada."
   ]
  },
  {
   "cell_type": "code",
   "execution_count": 10,
   "metadata": {
    "ExecuteTime": {
     "end_time": "2022-01-28T16:17:47.274933Z",
     "start_time": "2022-01-28T16:17:47.260972Z"
    },
    "execution": {
     "iopub.execute_input": "2023-10-16T14:40:44.377383Z",
     "iopub.status.busy": "2023-10-16T14:40:44.377307Z",
     "iopub.status.idle": "2023-10-16T14:40:44.380329Z",
     "shell.execute_reply": "2023-10-16T14:40:44.380066Z",
     "shell.execute_reply.started": "2023-10-16T14:40:44.377377Z"
    }
   },
   "outputs": [
    {
     "data": {
      "text/plain": [
       "(1000, 0.025)"
      ]
     },
     "execution_count": 10,
     "metadata": {},
     "output_type": "execute_result"
    }
   ],
   "source": [
    "zcc.get_values_at(0)"
   ]
  },
  {
   "cell_type": "markdown",
   "metadata": {},
   "source": [
    "Se obtiene el plazo en una posición de la curva."
   ]
  },
  {
   "cell_type": "code",
   "execution_count": 11,
   "metadata": {
    "ExecuteTime": {
     "end_time": "2022-01-28T16:17:47.770458Z",
     "start_time": "2022-01-28T16:17:47.740187Z"
    },
    "execution": {
     "iopub.execute_input": "2023-10-16T14:40:44.380879Z",
     "iopub.status.busy": "2023-10-16T14:40:44.380685Z",
     "iopub.status.idle": "2023-10-16T14:40:44.383031Z",
     "shell.execute_reply": "2023-10-16T14:40:44.382766Z",
     "shell.execute_reply.started": "2023-10-16T14:40:44.380872Z"
    }
   },
   "outputs": [
    {
     "name": "stdout",
     "output_type": "stream",
     "text": [
      "(1000, 0.025)\n"
     ]
    }
   ],
   "source": [
    "print(zcc.get_values_at(0))"
   ]
  },
  {
   "cell_type": "markdown",
   "metadata": {},
   "source": [
    "Se obtiene la tasa en una posición de la curva."
   ]
  },
  {
   "cell_type": "code",
   "execution_count": 12,
   "metadata": {
    "ExecuteTime": {
     "end_time": "2022-01-28T16:17:48.207876Z",
     "start_time": "2022-01-28T16:17:48.194910Z"
    },
    "execution": {
     "iopub.execute_input": "2023-10-16T14:40:44.383452Z",
     "iopub.status.busy": "2023-10-16T14:40:44.383381Z",
     "iopub.status.idle": "2023-10-16T14:40:44.386859Z",
     "shell.execute_reply": "2023-10-16T14:40:44.386623Z",
     "shell.execute_reply.started": "2023-10-16T14:40:44.383444Z"
    }
   },
   "outputs": [
    {
     "data": {
      "text/plain": [
       "0.025"
      ]
     },
     "execution_count": 12,
     "metadata": {},
     "output_type": "execute_result"
    }
   ],
   "source": [
    "zcc.get_values_at(0)[1]"
   ]
  },
  {
   "cell_type": "markdown",
   "metadata": {},
   "source": [
    "Se agrega un par (plazo, valor) a la curva."
   ]
  },
  {
   "cell_type": "code",
   "execution_count": 13,
   "metadata": {
    "ExecuteTime": {
     "end_time": "2022-01-28T16:17:48.567854Z",
     "start_time": "2022-01-28T16:17:48.562896Z"
    },
    "execution": {
     "iopub.execute_input": "2023-10-16T14:40:44.387395Z",
     "iopub.status.busy": "2023-10-16T14:40:44.387301Z",
     "iopub.status.idle": "2023-10-16T14:40:44.389451Z",
     "shell.execute_reply": "2023-10-16T14:40:44.389240Z",
     "shell.execute_reply.started": "2023-10-16T14:40:44.387389Z"
    }
   },
   "outputs": [],
   "source": [
    "zcc.set_pair(100, .026)"
   ]
  },
  {
   "cell_type": "markdown",
   "metadata": {},
   "source": [
    "Se verifica."
   ]
  },
  {
   "cell_type": "code",
   "execution_count": 14,
   "metadata": {
    "ExecuteTime": {
     "end_time": "2022-01-28T16:17:49.019759Z",
     "start_time": "2022-01-28T16:17:48.990019Z"
    },
    "execution": {
     "iopub.execute_input": "2023-10-16T14:40:44.389714Z",
     "iopub.status.busy": "2023-10-16T14:40:44.389664Z",
     "iopub.status.idle": "2023-10-16T14:40:44.392040Z",
     "shell.execute_reply": "2023-10-16T14:40:44.391812Z",
     "shell.execute_reply.started": "2023-10-16T14:40:44.389709Z"
    }
   },
   "outputs": [
    {
     "data": {
      "text/plain": [
       "1000"
      ]
     },
     "execution_count": 14,
     "metadata": {},
     "output_type": "execute_result"
    }
   ],
   "source": [
    "# Plazo\n",
    "zcc.get_values_at(1)[0]"
   ]
  },
  {
   "cell_type": "code",
   "execution_count": 15,
   "metadata": {
    "ExecuteTime": {
     "end_time": "2022-01-28T16:17:49.224900Z",
     "start_time": "2022-01-28T16:17:49.211933Z"
    },
    "execution": {
     "iopub.execute_input": "2023-10-16T14:40:44.392494Z",
     "iopub.status.busy": "2023-10-16T14:40:44.392387Z",
     "iopub.status.idle": "2023-10-16T14:40:44.395578Z",
     "shell.execute_reply": "2023-10-16T14:40:44.395303Z",
     "shell.execute_reply.started": "2023-10-16T14:40:44.392486Z"
    }
   },
   "outputs": [
    {
     "data": {
      "text/plain": [
       "0.025"
      ]
     },
     "execution_count": 15,
     "metadata": {},
     "output_type": "execute_result"
    }
   ],
   "source": [
    "# Valor\n",
    "zcc.get_values_at(1)[1]"
   ]
  },
  {
   "cell_type": "markdown",
   "metadata": {},
   "source": [
    "Se agrega un par más."
   ]
  },
  {
   "cell_type": "code",
   "execution_count": 16,
   "metadata": {
    "ExecuteTime": {
     "end_time": "2022-01-28T16:17:49.754598Z",
     "start_time": "2022-01-28T16:17:49.739989Z"
    },
    "execution": {
     "iopub.execute_input": "2023-10-16T14:40:44.395983Z",
     "iopub.status.busy": "2023-10-16T14:40:44.395920Z",
     "iopub.status.idle": "2023-10-16T14:40:44.397921Z",
     "shell.execute_reply": "2023-10-16T14:40:44.397698Z",
     "shell.execute_reply.started": "2023-10-16T14:40:44.395977Z"
    }
   },
   "outputs": [],
   "source": [
    "zcc.set_pair(370, .03)"
   ]
  },
  {
   "cell_type": "markdown",
   "metadata": {},
   "source": [
    "Se itera sobre la curva mostrando sus valores"
   ]
  },
  {
   "cell_type": "code",
   "execution_count": 17,
   "metadata": {
    "ExecuteTime": {
     "end_time": "2022-01-28T16:17:50.348687Z",
     "start_time": "2022-01-28T16:17:50.330764Z"
    },
    "execution": {
     "iopub.execute_input": "2023-10-16T14:40:44.398342Z",
     "iopub.status.busy": "2023-10-16T14:40:44.398281Z",
     "iopub.status.idle": "2023-10-16T14:40:44.400868Z",
     "shell.execute_reply": "2023-10-16T14:40:44.400432Z",
     "shell.execute_reply.started": "2023-10-16T14:40:44.398336Z"
    }
   },
   "outputs": [
    {
     "name": "stdout",
     "output_type": "stream",
     "text": [
      "Tenor: 100 Valor: 2.6000%\n",
      "Tenor: 370 Valor: 3.0000%\n",
      "Tenor: 1000 Valor: 2.5000%\n"
     ]
    }
   ],
   "source": [
    "for i in range(0, zcc.get_length()):\n",
    "    pair = zcc.get_values_at(i)\n",
    "    print(\"Tenor: {0:} Valor: {1:.4%}\".format(pair[0], pair[1]))"
   ]
  },
  {
   "cell_type": "markdown",
   "metadata": {},
   "source": [
    "Se define un interpolador. En este caso, un interpolador lineal."
   ]
  },
  {
   "cell_type": "code",
   "execution_count": 18,
   "metadata": {
    "ExecuteTime": {
     "end_time": "2022-01-28T16:17:50.894828Z",
     "start_time": "2022-01-28T16:17:50.889814Z"
    },
    "execution": {
     "iopub.execute_input": "2023-10-16T14:40:44.401297Z",
     "iopub.status.busy": "2023-10-16T14:40:44.401230Z",
     "iopub.status.idle": "2023-10-16T14:40:44.403803Z",
     "shell.execute_reply": "2023-10-16T14:40:44.403486Z",
     "shell.execute_reply.started": "2023-10-16T14:40:44.401291Z"
    }
   },
   "outputs": [],
   "source": [
    "lin = qcf.QCLinearInterpolator(zcc)"
   ]
  },
  {
   "cell_type": "markdown",
   "metadata": {},
   "source": [
    "Se hace una prueba."
   ]
  },
  {
   "cell_type": "code",
   "execution_count": 19,
   "metadata": {
    "ExecuteTime": {
     "end_time": "2022-01-28T16:17:51.536128Z",
     "start_time": "2022-01-28T16:17:51.531113Z"
    },
    "execution": {
     "iopub.execute_input": "2023-10-16T14:40:44.404126Z",
     "iopub.status.busy": "2023-10-16T14:40:44.404054Z",
     "iopub.status.idle": "2023-10-16T14:40:44.406428Z",
     "shell.execute_reply": "2023-10-16T14:40:44.406208Z",
     "shell.execute_reply.started": "2023-10-16T14:40:44.404120Z"
    }
   },
   "outputs": [
    {
     "name": "stdout",
     "output_type": "stream",
     "text": [
      "Tasa a 120 días es igual a 2.6296%\n"
     ]
    }
   ],
   "source": [
    "plazo = 120\n",
    "print(f\"Tasa a {plazo:.0f} días es igual a {lin.interpolate_at(plazo):.4%}\")"
   ]
  },
  {
   "cell_type": "markdown",
   "metadata": {},
   "source": [
    "Para completar el proceso se define una fracción de año, un factor de capitalización y un tipo de tasa. Con estos objetos se termina de dar de alta una curva cero."
   ]
  },
  {
   "cell_type": "code",
   "execution_count": 20,
   "metadata": {
    "ExecuteTime": {
     "end_time": "2022-01-28T16:17:52.645547Z",
     "start_time": "2022-01-28T16:17:52.635553Z"
    },
    "execution": {
     "iopub.execute_input": "2023-10-16T14:40:44.406920Z",
     "iopub.status.busy": "2023-10-16T14:40:44.406797Z",
     "iopub.status.idle": "2023-10-16T14:40:44.408757Z",
     "shell.execute_reply": "2023-10-16T14:40:44.408492Z",
     "shell.execute_reply.started": "2023-10-16T14:40:44.406906Z"
    }
   },
   "outputs": [],
   "source": [
    "yf = qcf.QCAct360()\n",
    "wf = qcf.QCLinearWf()\n",
    "tasa = qcf.QCInterestRate(.01, yf, wf)"
   ]
  },
  {
   "cell_type": "code",
   "execution_count": 21,
   "metadata": {
    "ExecuteTime": {
     "end_time": "2022-01-28T16:17:53.051529Z",
     "start_time": "2022-01-28T16:17:53.023710Z"
    },
    "execution": {
     "iopub.execute_input": "2023-10-16T14:40:44.409221Z",
     "iopub.status.busy": "2023-10-16T14:40:44.409126Z",
     "iopub.status.idle": "2023-10-16T14:40:44.411164Z",
     "shell.execute_reply": "2023-10-16T14:40:44.410828Z",
     "shell.execute_reply.started": "2023-10-16T14:40:44.409214Z"
    }
   },
   "outputs": [],
   "source": [
    "zz = qcf.ZeroCouponCurve(lin, tasa)"
   ]
  },
  {
   "cell_type": "markdown",
   "metadata": {},
   "source": [
    "El interpolador permite obtener una tasa a cualquier plazo."
   ]
  },
  {
   "cell_type": "code",
   "execution_count": 22,
   "metadata": {
    "ExecuteTime": {
     "end_time": "2022-01-28T16:17:53.537480Z",
     "start_time": "2022-01-28T16:17:53.532465Z"
    },
    "execution": {
     "iopub.execute_input": "2023-10-16T14:40:44.411551Z",
     "iopub.status.busy": "2023-10-16T14:40:44.411452Z",
     "iopub.status.idle": "2023-10-16T14:40:44.413250Z",
     "shell.execute_reply": "2023-10-16T14:40:44.413015Z",
     "shell.execute_reply.started": "2023-10-16T14:40:44.411543Z"
    }
   },
   "outputs": [
    {
     "name": "stdout",
     "output_type": "stream",
     "text": [
      "Tasa en 365 es igual a 2.9926%\n"
     ]
    }
   ],
   "source": [
    "plazo = 365\n",
    "print(\"Tasa en {0:} es igual a {1:.4%}\".format(plazo, zz.get_rate_at(plazo)))"
   ]
  },
  {
   "cell_type": "code",
   "execution_count": 23,
   "metadata": {
    "ExecuteTime": {
     "end_time": "2022-01-28T16:17:53.786157Z",
     "start_time": "2022-01-28T16:17:53.771504Z"
    },
    "execution": {
     "iopub.execute_input": "2023-10-16T14:40:44.413660Z",
     "iopub.status.busy": "2023-10-16T14:40:44.413599Z",
     "iopub.status.idle": "2023-10-16T14:40:44.415755Z",
     "shell.execute_reply": "2023-10-16T14:40:44.415497Z",
     "shell.execute_reply.started": "2023-10-16T14:40:44.413654Z"
    }
   },
   "outputs": [
    {
     "data": {
      "text/plain": [
       "qcfinancial.ZeroCouponCurve"
      ]
     },
     "execution_count": 23,
     "metadata": {},
     "output_type": "execute_result"
    }
   ],
   "source": [
    "type(zz)"
   ]
  },
  {
   "cell_type": "code",
   "execution_count": 24,
   "metadata": {
    "ExecuteTime": {
     "end_time": "2022-01-28T16:17:54.113829Z",
     "start_time": "2022-01-28T16:17:54.098204Z"
    },
    "execution": {
     "iopub.execute_input": "2023-10-16T14:40:44.416110Z",
     "iopub.status.busy": "2023-10-16T14:40:44.416047Z",
     "iopub.status.idle": "2023-10-16T14:40:44.420160Z",
     "shell.execute_reply": "2023-10-16T14:40:44.419905Z",
     "shell.execute_reply.started": "2023-10-16T14:40:44.416104Z"
    }
   },
   "outputs": [
    {
     "data": {
      "text/plain": [
       "0.9999277829934504"
      ]
     },
     "execution_count": 24,
     "metadata": {},
     "output_type": "execute_result"
    }
   ],
   "source": [
    "zz.get_discount_factor_at(1)"
   ]
  },
  {
   "cell_type": "markdown",
   "metadata": {},
   "source": [
    "#### Otros métodos:"
   ]
  },
  {
   "cell_type": "markdown",
   "metadata": {},
   "source": [
    "Tasa Forward"
   ]
  },
  {
   "cell_type": "code",
   "execution_count": 25,
   "metadata": {
    "ExecuteTime": {
     "end_time": "2022-01-28T16:17:55.317819Z",
     "start_time": "2022-01-28T16:17:55.309812Z"
    },
    "execution": {
     "iopub.execute_input": "2023-10-16T14:40:44.420671Z",
     "iopub.status.busy": "2023-10-16T14:40:44.420578Z",
     "iopub.status.idle": "2023-10-16T14:40:44.422710Z",
     "shell.execute_reply": "2023-10-16T14:40:44.422424Z",
     "shell.execute_reply.started": "2023-10-16T14:40:44.420665Z"
    }
   },
   "outputs": [
    {
     "name": "stdout",
     "output_type": "stream",
     "text": [
      "Tasa forward entre los días 30 y 90: 2.5944%\n"
     ]
    }
   ],
   "source": [
    "d1 = 30\n",
    "d2 = 90\n",
    "print(\"Tasa forward entre los días {0:} y {1:}: {2:.4%}\".format(\n",
    "    d1, d2, zz.get_forward_rate(d1, d2)))"
   ]
  },
  {
   "cell_type": "markdown",
   "metadata": {},
   "source": [
    "Derivada del factor de capitalización de la Tasa Forward. El argumento representa el índice de la tasa de la curva."
   ]
  },
  {
   "cell_type": "code",
   "execution_count": 26,
   "metadata": {
    "ExecuteTime": {
     "end_time": "2022-01-28T16:17:56.020285Z",
     "start_time": "2022-01-28T16:17:55.989595Z"
    },
    "execution": {
     "iopub.execute_input": "2023-10-16T14:40:44.423268Z",
     "iopub.status.busy": "2023-10-16T14:40:44.423201Z",
     "iopub.status.idle": "2023-10-16T14:40:44.425678Z",
     "shell.execute_reply": "2023-10-16T14:40:44.425386Z",
     "shell.execute_reply.started": "2023-10-16T14:40:44.423262Z"
    }
   },
   "outputs": [
    {
     "data": {
      "text/plain": [
       "0.1659467849041197"
      ]
     },
     "execution_count": 26,
     "metadata": {},
     "output_type": "execute_result"
    }
   ],
   "source": [
    "zz.fwd_wf_derivative_at(0)"
   ]
  },
  {
   "cell_type": "markdown",
   "metadata": {},
   "source": [
    "## Valorizar"
   ]
  },
  {
   "cell_type": "markdown",
   "metadata": {},
   "source": [
    "Se da de alta un objeto `PresentValue`."
   ]
  },
  {
   "cell_type": "code",
   "execution_count": 27,
   "metadata": {
    "ExecuteTime": {
     "end_time": "2022-01-28T16:17:57.067333Z",
     "start_time": "2022-01-28T16:17:57.055365Z"
    },
    "execution": {
     "iopub.execute_input": "2023-10-16T14:40:44.426211Z",
     "iopub.status.busy": "2023-10-16T14:40:44.426048Z",
     "iopub.status.idle": "2023-10-16T14:40:44.428002Z",
     "shell.execute_reply": "2023-10-16T14:40:44.427790Z",
     "shell.execute_reply.started": "2023-10-16T14:40:44.426204Z"
    }
   },
   "outputs": [],
   "source": [
    "pv = qcf.PresentValue()"
   ]
  },
  {
   "cell_type": "markdown",
   "metadata": {},
   "source": [
    "### Depósito a Plazo"
   ]
  },
  {
   "cell_type": "markdown",
   "metadata": {},
   "source": [
    "Se utilizará como instrumento un depósito a plazo en CLP o USD. Este instrumento se modela como un `SimpleCashflow`. Este, a su vez se construye con un monto, una fecha y una moneda."
   ]
  },
  {
   "cell_type": "code",
   "execution_count": 28,
   "metadata": {
    "ExecuteTime": {
     "end_time": "2022-01-28T16:17:57.677058Z",
     "start_time": "2022-01-28T16:17:57.661432Z"
    },
    "execution": {
     "iopub.execute_input": "2023-10-16T14:40:44.432060Z",
     "iopub.status.busy": "2023-10-16T14:40:44.431960Z",
     "iopub.status.idle": "2023-10-16T14:40:44.433754Z",
     "shell.execute_reply": "2023-10-16T14:40:44.433496Z",
     "shell.execute_reply.started": "2023-10-16T14:40:44.432053Z"
    }
   },
   "outputs": [],
   "source": [
    "# Con estas variables vamos a construir\n",
    "fecha_vcto = qcf.QCDate(12, 1, 2021)\n",
    "monto = 10_000_000.0\n",
    "clp = qcf.QCCLP()\n",
    "\n",
    "# Se construye el depósito\n",
    "depo = qcf.SimpleCashflow(fecha_vcto, monto, clp)"
   ]
  },
  {
   "cell_type": "code",
   "execution_count": 29,
   "metadata": {
    "ExecuteTime": {
     "end_time": "2022-01-28T16:17:57.817581Z",
     "start_time": "2022-01-28T16:17:57.801844Z"
    },
    "execution": {
     "iopub.execute_input": "2023-10-16T14:40:44.434268Z",
     "iopub.status.busy": "2023-10-16T14:40:44.434175Z",
     "iopub.status.idle": "2023-10-16T14:40:44.436219Z",
     "shell.execute_reply": "2023-10-16T14:40:44.435988Z",
     "shell.execute_reply.started": "2023-10-16T14:40:44.434262Z"
    }
   },
   "outputs": [
    {
     "name": "stdout",
     "output_type": "stream",
     "text": [
      "Monto del depósito: 10,000,000\n"
     ]
    }
   ],
   "source": [
    "print(\"Monto del depósito: {0:,.0f}\".format(depo.amount()))"
   ]
  },
  {
   "cell_type": "markdown",
   "metadata": {},
   "source": [
    "Se define una fecha de valorización y se calcula el valor presente del depo."
   ]
  },
  {
   "cell_type": "code",
   "execution_count": 30,
   "metadata": {
    "ExecuteTime": {
     "end_time": "2022-01-28T16:25:51.613974Z",
     "start_time": "2022-01-28T16:25:51.600011Z"
    },
    "execution": {
     "iopub.execute_input": "2023-10-16T14:40:44.436720Z",
     "iopub.status.busy": "2023-10-16T14:40:44.436631Z",
     "iopub.status.idle": "2023-10-16T14:40:44.438602Z",
     "shell.execute_reply": "2023-10-16T14:40:44.438387Z",
     "shell.execute_reply.started": "2023-10-16T14:40:44.436713Z"
    }
   },
   "outputs": [
    {
     "name": "stdout",
     "output_type": "stream",
     "text": [
      "Valor presente depo: 9,709,212.68\n"
     ]
    }
   ],
   "source": [
    "fecha_hoy = qcf.QCDate(17, 1, 2020)\n",
    "print(\"Valor presente depo: {0:,.2f}\".format(pv.pv(fecha_hoy, depo, zz)))"
   ]
  },
  {
   "cell_type": "markdown",
   "metadata": {},
   "source": [
    "Se verifica *a mano* el resultado."
   ]
  },
  {
   "cell_type": "code",
   "execution_count": 31,
   "metadata": {
    "ExecuteTime": {
     "end_time": "2022-01-28T16:25:57.967387Z",
     "start_time": "2022-01-28T16:25:57.958440Z"
    },
    "execution": {
     "iopub.execute_input": "2023-10-16T14:40:44.438979Z",
     "iopub.status.busy": "2023-10-16T14:40:44.438922Z",
     "iopub.status.idle": "2023-10-16T14:40:44.442453Z",
     "shell.execute_reply": "2023-10-16T14:40:44.442147Z",
     "shell.execute_reply.started": "2023-10-16T14:40:44.438974Z"
    }
   },
   "outputs": [
    {
     "name": "stdout",
     "output_type": "stream",
     "text": [
      "Plazo: 361\n"
     ]
    }
   ],
   "source": [
    "plazo = fecha_hoy.day_diff(fecha_vcto)\n",
    "print(\"Plazo:\", plazo)"
   ]
  },
  {
   "cell_type": "code",
   "execution_count": 32,
   "metadata": {
    "ExecuteTime": {
     "end_time": "2022-01-28T16:25:58.166586Z",
     "start_time": "2022-01-28T16:25:58.148604Z"
    },
    "execution": {
     "iopub.execute_input": "2023-10-16T14:40:44.443132Z",
     "iopub.status.busy": "2023-10-16T14:40:44.443016Z",
     "iopub.status.idle": "2023-10-16T14:40:44.451638Z",
     "shell.execute_reply": "2023-10-16T14:40:44.451263Z",
     "shell.execute_reply.started": "2023-10-16T14:40:44.443124Z"
    }
   },
   "outputs": [
    {
     "name": "stdout",
     "output_type": "stream",
     "text": [
      "Tasa: 2.9867%\n"
     ]
    }
   ],
   "source": [
    "tasa_int = zz.get_rate_at(plazo)\n",
    "print(\"Tasa: {0:,.4%}\".format(tasa_int))"
   ]
  },
  {
   "cell_type": "code",
   "execution_count": 33,
   "metadata": {
    "ExecuteTime": {
     "end_time": "2022-01-28T16:25:58.275815Z",
     "start_time": "2022-01-28T16:25:58.268815Z"
    },
    "execution": {
     "iopub.execute_input": "2023-10-16T14:40:44.452088Z",
     "iopub.status.busy": "2023-10-16T14:40:44.451954Z",
     "iopub.status.idle": "2023-10-16T14:40:44.453976Z",
     "shell.execute_reply": "2023-10-16T14:40:44.453720Z",
     "shell.execute_reply.started": "2023-10-16T14:40:44.452078Z"
    }
   },
   "outputs": [
    {
     "name": "stdout",
     "output_type": "stream",
     "text": [
      "Valor presente a mano: 9,709,212.68\n"
     ]
    }
   ],
   "source": [
    "valor_presente = monto / (1 + tasa_int * plazo / 360)\n",
    "print(\"Valor presente a mano: {0:,.2f}\".format(valor_presente))"
   ]
  },
  {
   "cell_type": "markdown",
   "metadata": {},
   "source": [
    "### Renta Fija Local"
   ]
  },
  {
   "cell_type": "markdown",
   "metadata": {},
   "source": [
    "Se muestra el ejemplo de valorización de un bono bullet a tasa fija con las convenciones de la Bolsa de Comercio. Para el ejemplo usamos las características del BTU0150326.\n",
    "\n",
    "Se dan de alta los parámetros requeridos para instanciar un objeto de tipo `FixedRateLeg`."
   ]
  },
  {
   "cell_type": "code",
   "execution_count": 34,
   "metadata": {
    "ExecuteTime": {
     "end_time": "2022-01-24T13:13:30.988721Z",
     "start_time": "2022-01-24T13:13:30.973722Z"
    },
    "execution": {
     "iopub.execute_input": "2023-10-16T14:40:44.454424Z",
     "iopub.status.busy": "2023-10-16T14:40:44.454355Z",
     "iopub.status.idle": "2023-10-16T14:40:44.457191Z",
     "shell.execute_reply": "2023-10-16T14:40:44.456920Z",
     "shell.execute_reply.started": "2023-10-16T14:40:44.454417Z"
    }
   },
   "outputs": [],
   "source": [
    "rp = qcf.RecPay.RECEIVE\n",
    "fecha_inicio = qcf.QCDate(1, 3, 2015)\n",
    "fecha_final = qcf.QCDate(1, 3, 2026)\n",
    "bus_adj_rule = qcf.BusyAdjRules.NO\n",
    "periodicidad = qcf.Tenor('6M')\n",
    "periodo_irregular = qcf.StubPeriod.NO\n",
    "calendario = qcf.BusinessCalendar(fecha_inicio, 20)\n",
    "lag_pago = 0\n",
    "nominal = 100.0\n",
    "amort_es_flujo = True\n",
    "valor_tasa_fija = .015\n",
    "tasa_cupon = qcf.QCInterestRate(\n",
    "    valor_tasa_fija, \n",
    "    qcf.QC30360(),\n",
    "    qcf.QCLinearWf()\n",
    ")\n",
    "moneda = qcf.QCCLP()\n",
    "es_bono = True\n",
    "\n",
    "# Se da de alta el objeto\n",
    "pata_bono = qcf.LegFactory.build_bullet_fixed_rate_leg(\n",
    "    rp,\n",
    "    fecha_inicio,\n",
    "    fecha_final,\n",
    "    bus_adj_rule,\n",
    "    periodicidad,\n",
    "    periodo_irregular,\n",
    "    calendario,\n",
    "    lag_pago,\n",
    "    nominal,\n",
    "    amort_es_flujo,\n",
    "    tasa_cupon,\n",
    "    moneda,\n",
    "    es_bono\n",
    ")"
   ]
  },
  {
   "cell_type": "markdown",
   "metadata": {},
   "source": [
    "Se da de alta el valor de la TERA y luego se construye un objeto de tipo `ChileanFixedRateBond`."
   ]
  },
  {
   "cell_type": "code",
   "execution_count": 35,
   "metadata": {
    "ExecuteTime": {
     "end_time": "2022-01-24T13:13:31.004720Z",
     "start_time": "2022-01-24T13:13:30.989723Z"
    },
    "execution": {
     "iopub.execute_input": "2023-10-16T14:40:44.457945Z",
     "iopub.status.busy": "2023-10-16T14:40:44.457711Z",
     "iopub.status.idle": "2023-10-16T14:40:44.459806Z",
     "shell.execute_reply": "2023-10-16T14:40:44.459567Z",
     "shell.execute_reply.started": "2023-10-16T14:40:44.457935Z"
    }
   },
   "outputs": [],
   "source": [
    "tera = qcf.QCInterestRate(.015044, qcf.QCAct365(), qcf.QCCompoundWf())\n",
    "bono_chileno = qcf.ChileanFixedRateBond(pata_bono, tera)"
   ]
  },
  {
   "cell_type": "markdown",
   "metadata": {},
   "source": [
    "Se valoriza al 2021-09-28 a una TIR de mercado del 1.61%."
   ]
  },
  {
   "cell_type": "code",
   "execution_count": 36,
   "metadata": {
    "ExecuteTime": {
     "end_time": "2022-01-24T13:13:31.020720Z",
     "start_time": "2022-01-24T13:13:31.005723Z"
    },
    "execution": {
     "iopub.execute_input": "2023-10-16T14:40:44.460263Z",
     "iopub.status.busy": "2023-10-16T14:40:44.460161Z",
     "iopub.status.idle": "2023-10-16T14:40:44.462624Z",
     "shell.execute_reply": "2023-10-16T14:40:44.462335Z",
     "shell.execute_reply.started": "2023-10-16T14:40:44.460253Z"
    }
   },
   "outputs": [
    {
     "name": "stdout",
     "output_type": "stream",
     "text": [
      "Valor presente: 99.67188455\n",
      "Precio: 99.56%\n",
      "Valor par: 100.110516628864033351\n"
     ]
    }
   ],
   "source": [
    "fecha_valor = qcf.QCDate(28, 9, 2021)\n",
    "tir = qcf.QCInterestRate(.0161, qcf.QCAct365(), qcf.QCCompoundWf())\n",
    "\n",
    "valor_presente = bono_chileno.present_value(fecha_valor, tir)\n",
    "precio = bono_chileno.precio(fecha_valor, tir)\n",
    "valor_par = bono_chileno.valor_par(fecha_valor)\n",
    "\n",
    "print(f'Valor presente: {valor_presente:,.8f}')\n",
    "print(f'Precio: {precio:,.2%}')\n",
    "print(f'Valor par: {valor_par:,.18f}')"
   ]
  },
  {
   "cell_type": "markdown",
   "metadata": {},
   "source": [
    "Con esto el valor a pagar es:"
   ]
  },
  {
   "cell_type": "code",
   "execution_count": 37,
   "metadata": {
    "ExecuteTime": {
     "end_time": "2022-01-24T13:13:31.035900Z",
     "start_time": "2022-01-24T13:13:31.021722Z"
    },
    "execution": {
     "iopub.execute_input": "2023-10-16T14:40:44.463107Z",
     "iopub.status.busy": "2023-10-16T14:40:44.463047Z",
     "iopub.status.idle": "2023-10-16T14:40:44.465098Z",
     "shell.execute_reply": "2023-10-16T14:40:44.464832Z",
     "shell.execute_reply.started": "2023-10-16T14:40:44.463102Z"
    }
   },
   "outputs": [
    {
     "name": "stdout",
     "output_type": "stream",
     "text": [
      "Valor a pagar: 2,998,111\n"
     ]
    }
   ],
   "source": [
    "valor_uf = 30_080.37\n",
    "valor_pago = precio * valor_par * valor_uf\n",
    "print(f'Valor a pagar: {valor_pago:,.0f}')"
   ]
  },
  {
   "cell_type": "markdown",
   "metadata": {},
   "source": [
    "Con 4 decimales en el precio (4 decimales porcentuales, 6 decimales en el número):"
   ]
  },
  {
   "cell_type": "code",
   "execution_count": 38,
   "metadata": {
    "ExecuteTime": {
     "end_time": "2022-01-24T13:13:31.050901Z",
     "start_time": "2022-01-24T13:13:31.036903Z"
    },
    "execution": {
     "iopub.execute_input": "2023-10-16T14:40:44.465719Z",
     "iopub.status.busy": "2023-10-16T14:40:44.465603Z",
     "iopub.status.idle": "2023-10-16T14:40:44.467503Z",
     "shell.execute_reply": "2023-10-16T14:40:44.467259Z",
     "shell.execute_reply.started": "2023-10-16T14:40:44.465712Z"
    }
   },
   "outputs": [
    {
     "name": "stdout",
     "output_type": "stream",
     "text": [
      "Precio a 4 decmales: 99.5619%\n"
     ]
    }
   ],
   "source": [
    "precio2 = bono_chileno.precio2(fecha_valor, tir, 6)\n",
    "print(f'Precio a 4 decmales: {precio2:.4%}')"
   ]
  },
  {
   "cell_type": "markdown",
   "metadata": {},
   "source": [
    "La función `precio2` entrega el mismo resultado que la función precio cuando se utiliza con 2 decimales porcentuales."
   ]
  },
  {
   "cell_type": "code",
   "execution_count": 39,
   "metadata": {
    "ExecuteTime": {
     "end_time": "2022-01-24T13:13:31.066901Z",
     "start_time": "2022-01-24T13:13:31.051904Z"
    },
    "execution": {
     "iopub.execute_input": "2023-10-16T14:40:44.467828Z",
     "iopub.status.busy": "2023-10-16T14:40:44.467771Z",
     "iopub.status.idle": "2023-10-16T14:40:44.469658Z",
     "shell.execute_reply": "2023-10-16T14:40:44.469323Z",
     "shell.execute_reply.started": "2023-10-16T14:40:44.467823Z"
    }
   },
   "outputs": [
    {
     "name": "stdout",
     "output_type": "stream",
     "text": [
      "Precio a 4 decmales: 99.5600%\n"
     ]
    }
   ],
   "source": [
    "precio22 = bono_chileno.precio2(fecha_valor, tir, 4)\n",
    "print(f'Precio a 4 decmales: {precio22:.4%}')"
   ]
  },
  {
   "cell_type": "markdown",
   "metadata": {},
   "source": [
    "Se muestran las diferencias con la convención de precio usual en mercados desarrollados."
   ]
  },
  {
   "cell_type": "code",
   "execution_count": 40,
   "metadata": {
    "ExecuteTime": {
     "end_time": "2022-01-24T13:13:31.082900Z",
     "start_time": "2022-01-24T13:13:31.067902Z"
    },
    "execution": {
     "iopub.execute_input": "2023-10-16T14:40:44.470238Z",
     "iopub.status.busy": "2023-10-16T14:40:44.470045Z",
     "iopub.status.idle": "2023-10-16T14:40:44.472071Z",
     "shell.execute_reply": "2023-10-16T14:40:44.471827Z",
     "shell.execute_reply.started": "2023-10-16T14:40:44.470231Z"
    }
   },
   "outputs": [
    {
     "name": "stdout",
     "output_type": "stream",
     "text": [
      "Valor presente: 99.67188455\n",
      "Precio: 99.55938455\n"
     ]
    }
   ],
   "source": [
    "bono = qcf.FixedRateBond(pata_bono)\n",
    "print(f'Valor presente: {bono.present_value(fecha_valor, tir):,.8f}')\n",
    "print(f'Precio: {bono.price(fecha_valor, tir):,.8f}')"
   ]
  },
  {
   "cell_type": "markdown",
   "metadata": {},
   "source": [
    "### Curvas Reales"
   ]
  },
  {
   "cell_type": "markdown",
   "metadata": {},
   "source": [
    "Construyamos dos curvas a partir de data real. Primero la curva CAMARACLP."
   ]
  },
  {
   "cell_type": "code",
   "execution_count": 41,
   "metadata": {
    "ExecuteTime": {
     "end_time": "2022-01-24T13:13:31.495025Z",
     "start_time": "2022-01-24T13:13:31.083901Z"
    },
    "execution": {
     "iopub.execute_input": "2023-10-16T14:40:44.472583Z",
     "iopub.status.busy": "2023-10-16T14:40:44.472505Z",
     "iopub.status.idle": "2023-10-16T14:40:44.680744Z",
     "shell.execute_reply": "2023-10-16T14:40:44.680474Z",
     "shell.execute_reply.started": "2023-10-16T14:40:44.472578Z"
    }
   },
   "outputs": [
    {
     "data": {
      "text/html": [
       "<style type=\"text/css\">\n",
       "</style>\n",
       "<table id=\"T_0fdcc\">\n",
       "  <thead>\n",
       "    <tr>\n",
       "      <th class=\"blank level0\" >&nbsp;</th>\n",
       "      <th id=\"T_0fdcc_level0_col0\" class=\"col_heading level0 col0\" >curva</th>\n",
       "      <th id=\"T_0fdcc_level0_col1\" class=\"col_heading level0 col1\" >fecha</th>\n",
       "      <th id=\"T_0fdcc_level0_col2\" class=\"col_heading level0 col2\" >plazo</th>\n",
       "      <th id=\"T_0fdcc_level0_col3\" class=\"col_heading level0 col3\" >tasa</th>\n",
       "    </tr>\n",
       "  </thead>\n",
       "  <tbody>\n",
       "    <tr>\n",
       "      <th id=\"T_0fdcc_level0_row0\" class=\"row_heading level0 row0\" >0</th>\n",
       "      <td id=\"T_0fdcc_row0_col0\" class=\"data row0 col0\" >CAMARACLP</td>\n",
       "      <td id=\"T_0fdcc_row0_col1\" class=\"data row0 col1\" >2020-03-05 00:00:00</td>\n",
       "      <td id=\"T_0fdcc_row0_col2\" class=\"data row0 col2\" >1</td>\n",
       "      <td id=\"T_0fdcc_row0_col3\" class=\"data row0 col3\" >1.7500%</td>\n",
       "    </tr>\n",
       "    <tr>\n",
       "      <th id=\"T_0fdcc_level0_row1\" class=\"row_heading level0 row1\" >1</th>\n",
       "      <td id=\"T_0fdcc_row1_col0\" class=\"data row1 col0\" >CAMARACLP</td>\n",
       "      <td id=\"T_0fdcc_row1_col1\" class=\"data row1 col1\" >2020-03-05 00:00:00</td>\n",
       "      <td id=\"T_0fdcc_row1_col2\" class=\"data row1 col2\" >4</td>\n",
       "      <td id=\"T_0fdcc_row1_col3\" class=\"data row1 col3\" >1.7501%</td>\n",
       "    </tr>\n",
       "    <tr>\n",
       "      <th id=\"T_0fdcc_level0_row2\" class=\"row_heading level0 row2\" >2</th>\n",
       "      <td id=\"T_0fdcc_row2_col0\" class=\"data row2 col0\" >CAMARACLP</td>\n",
       "      <td id=\"T_0fdcc_row2_col1\" class=\"data row2 col1\" >2020-03-05 00:00:00</td>\n",
       "      <td id=\"T_0fdcc_row2_col2\" class=\"data row2 col2\" >96</td>\n",
       "      <td id=\"T_0fdcc_row2_col3\" class=\"data row2 col3\" >1.4867%</td>\n",
       "    </tr>\n",
       "    <tr>\n",
       "      <th id=\"T_0fdcc_level0_row3\" class=\"row_heading level0 row3\" >3</th>\n",
       "      <td id=\"T_0fdcc_row3_col0\" class=\"data row3 col0\" >CAMARACLP</td>\n",
       "      <td id=\"T_0fdcc_row3_col1\" class=\"data row3 col1\" >2020-03-05 00:00:00</td>\n",
       "      <td id=\"T_0fdcc_row3_col2\" class=\"data row3 col2\" >188</td>\n",
       "      <td id=\"T_0fdcc_row3_col3\" class=\"data row3 col3\" >1.3049%</td>\n",
       "    </tr>\n",
       "    <tr>\n",
       "      <th id=\"T_0fdcc_level0_row4\" class=\"row_heading level0 row4\" >4</th>\n",
       "      <td id=\"T_0fdcc_row4_col0\" class=\"data row4 col0\" >CAMARACLP</td>\n",
       "      <td id=\"T_0fdcc_row4_col1\" class=\"data row4 col1\" >2020-03-05 00:00:00</td>\n",
       "      <td id=\"T_0fdcc_row4_col2\" class=\"data row4 col2\" >279</td>\n",
       "      <td id=\"T_0fdcc_row4_col3\" class=\"data row4 col3\" >1.2870%</td>\n",
       "    </tr>\n",
       "    <tr>\n",
       "      <th id=\"T_0fdcc_level0_row5\" class=\"row_heading level0 row5\" >5</th>\n",
       "      <td id=\"T_0fdcc_row5_col0\" class=\"data row5 col0\" >CAMARACLP</td>\n",
       "      <td id=\"T_0fdcc_row5_col1\" class=\"data row5 col1\" >2020-03-05 00:00:00</td>\n",
       "      <td id=\"T_0fdcc_row5_col2\" class=\"data row5 col2\" >369</td>\n",
       "      <td id=\"T_0fdcc_row5_col3\" class=\"data row5 col3\" >1.3002%</td>\n",
       "    </tr>\n",
       "    <tr>\n",
       "      <th id=\"T_0fdcc_level0_row6\" class=\"row_heading level0 row6\" >6</th>\n",
       "      <td id=\"T_0fdcc_row6_col0\" class=\"data row6 col0\" >CAMARACLP</td>\n",
       "      <td id=\"T_0fdcc_row6_col1\" class=\"data row6 col1\" >2020-03-05 00:00:00</td>\n",
       "      <td id=\"T_0fdcc_row6_col2\" class=\"data row6 col2\" >553</td>\n",
       "      <td id=\"T_0fdcc_row6_col3\" class=\"data row6 col3\" >1.3035%</td>\n",
       "    </tr>\n",
       "    <tr>\n",
       "      <th id=\"T_0fdcc_level0_row7\" class=\"row_heading level0 row7\" >7</th>\n",
       "      <td id=\"T_0fdcc_row7_col0\" class=\"data row7 col0\" >CAMARACLP</td>\n",
       "      <td id=\"T_0fdcc_row7_col1\" class=\"data row7 col1\" >2020-03-05 00:00:00</td>\n",
       "      <td id=\"T_0fdcc_row7_col2\" class=\"data row7 col2\" >734</td>\n",
       "      <td id=\"T_0fdcc_row7_col3\" class=\"data row7 col3\" >1.2951%</td>\n",
       "    </tr>\n",
       "    <tr>\n",
       "      <th id=\"T_0fdcc_level0_row8\" class=\"row_heading level0 row8\" >8</th>\n",
       "      <td id=\"T_0fdcc_row8_col0\" class=\"data row8 col0\" >CAMARACLP</td>\n",
       "      <td id=\"T_0fdcc_row8_col1\" class=\"data row8 col1\" >2020-03-05 00:00:00</td>\n",
       "      <td id=\"T_0fdcc_row8_col2\" class=\"data row8 col2\" >1099</td>\n",
       "      <td id=\"T_0fdcc_row8_col3\" class=\"data row8 col3\" >1.4440%</td>\n",
       "    </tr>\n",
       "    <tr>\n",
       "      <th id=\"T_0fdcc_level0_row9\" class=\"row_heading level0 row9\" >9</th>\n",
       "      <td id=\"T_0fdcc_row9_col0\" class=\"data row9 col0\" >CAMARACLP</td>\n",
       "      <td id=\"T_0fdcc_row9_col1\" class=\"data row9 col1\" >2020-03-05 00:00:00</td>\n",
       "      <td id=\"T_0fdcc_row9_col2\" class=\"data row9 col2\" >1465</td>\n",
       "      <td id=\"T_0fdcc_row9_col3\" class=\"data row9 col3\" >1.6736%</td>\n",
       "    </tr>\n",
       "    <tr>\n",
       "      <th id=\"T_0fdcc_level0_row10\" class=\"row_heading level0 row10\" >10</th>\n",
       "      <td id=\"T_0fdcc_row10_col0\" class=\"data row10 col0\" >CAMARACLP</td>\n",
       "      <td id=\"T_0fdcc_row10_col1\" class=\"data row10 col1\" >2020-03-05 00:00:00</td>\n",
       "      <td id=\"T_0fdcc_row10_col2\" class=\"data row10 col2\" >1830</td>\n",
       "      <td id=\"T_0fdcc_row10_col3\" class=\"data row10 col3\" >1.9860%</td>\n",
       "    </tr>\n",
       "    <tr>\n",
       "      <th id=\"T_0fdcc_level0_row11\" class=\"row_heading level0 row11\" >11</th>\n",
       "      <td id=\"T_0fdcc_row11_col0\" class=\"data row11 col0\" >CAMARACLP</td>\n",
       "      <td id=\"T_0fdcc_row11_col1\" class=\"data row11 col1\" >2020-03-05 00:00:00</td>\n",
       "      <td id=\"T_0fdcc_row11_col2\" class=\"data row11 col2\" >2195</td>\n",
       "      <td id=\"T_0fdcc_row11_col3\" class=\"data row11 col3\" >2.2766%</td>\n",
       "    </tr>\n",
       "    <tr>\n",
       "      <th id=\"T_0fdcc_level0_row12\" class=\"row_heading level0 row12\" >12</th>\n",
       "      <td id=\"T_0fdcc_row12_col0\" class=\"data row12 col0\" >CAMARACLP</td>\n",
       "      <td id=\"T_0fdcc_row12_col1\" class=\"data row12 col1\" >2020-03-05 00:00:00</td>\n",
       "      <td id=\"T_0fdcc_row12_col2\" class=\"data row12 col2\" >2560</td>\n",
       "      <td id=\"T_0fdcc_row12_col3\" class=\"data row12 col3\" >2.5812%</td>\n",
       "    </tr>\n",
       "    <tr>\n",
       "      <th id=\"T_0fdcc_level0_row13\" class=\"row_heading level0 row13\" >13</th>\n",
       "      <td id=\"T_0fdcc_row13_col0\" class=\"data row13 col0\" >CAMARACLP</td>\n",
       "      <td id=\"T_0fdcc_row13_col1\" class=\"data row13 col1\" >2020-03-05 00:00:00</td>\n",
       "      <td id=\"T_0fdcc_row13_col2\" class=\"data row13 col2\" >2926</td>\n",
       "      <td id=\"T_0fdcc_row13_col3\" class=\"data row13 col3\" >2.8216%</td>\n",
       "    </tr>\n",
       "    <tr>\n",
       "      <th id=\"T_0fdcc_level0_row14\" class=\"row_heading level0 row14\" >14</th>\n",
       "      <td id=\"T_0fdcc_row14_col0\" class=\"data row14 col0\" >CAMARACLP</td>\n",
       "      <td id=\"T_0fdcc_row14_col1\" class=\"data row14 col1\" >2020-03-05 00:00:00</td>\n",
       "      <td id=\"T_0fdcc_row14_col2\" class=\"data row14 col2\" >3291</td>\n",
       "      <td id=\"T_0fdcc_row14_col3\" class=\"data row14 col3\" >3.0373%</td>\n",
       "    </tr>\n",
       "    <tr>\n",
       "      <th id=\"T_0fdcc_level0_row15\" class=\"row_heading level0 row15\" >15</th>\n",
       "      <td id=\"T_0fdcc_row15_col0\" class=\"data row15 col0\" >CAMARACLP</td>\n",
       "      <td id=\"T_0fdcc_row15_col1\" class=\"data row15 col1\" >2020-03-05 00:00:00</td>\n",
       "      <td id=\"T_0fdcc_row15_col2\" class=\"data row15 col2\" >3656</td>\n",
       "      <td id=\"T_0fdcc_row15_col3\" class=\"data row15 col3\" >3.2154%</td>\n",
       "    </tr>\n",
       "    <tr>\n",
       "      <th id=\"T_0fdcc_level0_row16\" class=\"row_heading level0 row16\" >16</th>\n",
       "      <td id=\"T_0fdcc_row16_col0\" class=\"data row16 col0\" >CAMARACLP</td>\n",
       "      <td id=\"T_0fdcc_row16_col1\" class=\"data row16 col1\" >2020-03-05 00:00:00</td>\n",
       "      <td id=\"T_0fdcc_row16_col2\" class=\"data row16 col2\" >4387</td>\n",
       "      <td id=\"T_0fdcc_row16_col3\" class=\"data row16 col3\" >3.4525%</td>\n",
       "    </tr>\n",
       "    <tr>\n",
       "      <th id=\"T_0fdcc_level0_row17\" class=\"row_heading level0 row17\" >17</th>\n",
       "      <td id=\"T_0fdcc_row17_col0\" class=\"data row17 col0\" >CAMARACLP</td>\n",
       "      <td id=\"T_0fdcc_row17_col1\" class=\"data row17 col1\" >2020-03-05 00:00:00</td>\n",
       "      <td id=\"T_0fdcc_row17_col2\" class=\"data row17 col2\" >5482</td>\n",
       "      <td id=\"T_0fdcc_row17_col3\" class=\"data row17 col3\" >3.7636%</td>\n",
       "    </tr>\n",
       "    <tr>\n",
       "      <th id=\"T_0fdcc_level0_row18\" class=\"row_heading level0 row18\" >18</th>\n",
       "      <td id=\"T_0fdcc_row18_col0\" class=\"data row18 col0\" >CAMARACLP</td>\n",
       "      <td id=\"T_0fdcc_row18_col1\" class=\"data row18 col1\" >2020-03-05 00:00:00</td>\n",
       "      <td id=\"T_0fdcc_row18_col2\" class=\"data row18 col2\" >7309</td>\n",
       "      <td id=\"T_0fdcc_row18_col3\" class=\"data row18 col3\" >4.1641%</td>\n",
       "    </tr>\n",
       "  </tbody>\n",
       "</table>\n"
      ],
      "text/plain": [
       "<pandas.io.formats.style.Styler at 0x105fdfc90>"
      ]
     },
     "execution_count": 41,
     "metadata": {},
     "output_type": "execute_result"
    }
   ],
   "source": [
    "curva = pd.read_excel(\"./input/curva_clp.xlsx\")\n",
    "curva.style.format({\"tasa\": \"{0:,.4%}\"})"
   ]
  },
  {
   "cell_type": "markdown",
   "metadata": {},
   "source": [
    "Se da de alta un vector con los plazos (variable de tipo `long`) y un vector con las tasas (variable de tipo `double`)."
   ]
  },
  {
   "cell_type": "code",
   "execution_count": 42,
   "metadata": {
    "ExecuteTime": {
     "end_time": "2022-01-24T13:13:31.511023Z",
     "start_time": "2022-01-24T13:13:31.496024Z"
    },
    "execution": {
     "iopub.execute_input": "2023-10-16T14:40:44.681567Z",
     "iopub.status.busy": "2023-10-16T14:40:44.681290Z",
     "iopub.status.idle": "2023-10-16T14:40:44.683956Z",
     "shell.execute_reply": "2023-10-16T14:40:44.683553Z",
     "shell.execute_reply.started": "2023-10-16T14:40:44.681559Z"
    }
   },
   "outputs": [],
   "source": [
    "lvec1 = qcf.long_vec()\n",
    "vec1 = qcf.double_vec()\n",
    "for index, row in curva.iterrows():\n",
    "    lvec1.append(int(row['plazo']))\n",
    "    vec1.append(row['tasa'])"
   ]
  },
  {
   "cell_type": "markdown",
   "metadata": {},
   "source": [
    "Luego, con una curva, un interpolador y un objeto `QCInterestRate`(que indica la convención de las tasas de la curva) se construye una curva cupón cero."
   ]
  },
  {
   "cell_type": "code",
   "execution_count": 43,
   "metadata": {
    "ExecuteTime": {
     "end_time": "2022-01-24T13:13:31.527023Z",
     "start_time": "2022-01-24T13:13:31.512026Z"
    },
    "execution": {
     "iopub.execute_input": "2023-10-16T14:40:44.684565Z",
     "iopub.status.busy": "2023-10-16T14:40:44.684429Z",
     "iopub.status.idle": "2023-10-16T14:40:44.686937Z",
     "shell.execute_reply": "2023-10-16T14:40:44.686707Z",
     "shell.execute_reply.started": "2023-10-16T14:40:44.684556Z"
    }
   },
   "outputs": [],
   "source": [
    "zcc1 = qcf.QCCurve(lvec1, vec1)\n",
    "lin1 = qcf.QCLinearInterpolator(zcc1)\n",
    "zz1 = qcf.ZeroCouponCurve(lin1, tasa)"
   ]
  },
  {
   "cell_type": "markdown",
   "metadata": {},
   "source": [
    "Luego, la curva LIBORUSD3M."
   ]
  },
  {
   "cell_type": "code",
   "execution_count": 44,
   "metadata": {
    "ExecuteTime": {
     "end_time": "2022-01-24T13:13:31.607024Z",
     "start_time": "2022-01-24T13:13:31.528025Z"
    },
    "execution": {
     "iopub.execute_input": "2023-10-16T14:40:44.687342Z",
     "iopub.status.busy": "2023-10-16T14:40:44.687282Z",
     "iopub.status.idle": "2023-10-16T14:40:44.700004Z",
     "shell.execute_reply": "2023-10-16T14:40:44.699770Z",
     "shell.execute_reply.started": "2023-10-16T14:40:44.687336Z"
    }
   },
   "outputs": [
    {
     "data": {
      "text/html": [
       "<style type=\"text/css\">\n",
       "</style>\n",
       "<table id=\"T_060ab\">\n",
       "  <thead>\n",
       "    <tr>\n",
       "      <th class=\"blank level0\" >&nbsp;</th>\n",
       "      <th id=\"T_060ab_level0_col0\" class=\"col_heading level0 col0\" >curva</th>\n",
       "      <th id=\"T_060ab_level0_col1\" class=\"col_heading level0 col1\" >fecha</th>\n",
       "      <th id=\"T_060ab_level0_col2\" class=\"col_heading level0 col2\" >plazo</th>\n",
       "      <th id=\"T_060ab_level0_col3\" class=\"col_heading level0 col3\" >tasa</th>\n",
       "    </tr>\n",
       "  </thead>\n",
       "  <tbody>\n",
       "    <tr>\n",
       "      <th id=\"T_060ab_level0_row0\" class=\"row_heading level0 row0\" >0</th>\n",
       "      <td id=\"T_060ab_row0_col0\" class=\"data row0 col0\" >LIBORUSD3MBBG</td>\n",
       "      <td id=\"T_060ab_row0_col1\" class=\"data row0 col1\" >2020-01-22 00:00:00</td>\n",
       "      <td id=\"T_060ab_row0_col2\" class=\"data row0 col2\" >3</td>\n",
       "      <td id=\"T_060ab_row0_col3\" class=\"data row0 col3\" >1.5362%</td>\n",
       "    </tr>\n",
       "    <tr>\n",
       "      <th id=\"T_060ab_level0_row1\" class=\"row_heading level0 row1\" >1</th>\n",
       "      <td id=\"T_060ab_row1_col0\" class=\"data row1 col0\" >LIBORUSD3MBBG</td>\n",
       "      <td id=\"T_060ab_row1_col1\" class=\"data row1 col1\" >2020-01-22 00:00:00</td>\n",
       "      <td id=\"T_060ab_row1_col2\" class=\"data row1 col2\" >4</td>\n",
       "      <td id=\"T_060ab_row1_col3\" class=\"data row1 col3\" >1.1521%</td>\n",
       "    </tr>\n",
       "    <tr>\n",
       "      <th id=\"T_060ab_level0_row2\" class=\"row_heading level0 row2\" >2</th>\n",
       "      <td id=\"T_060ab_row2_col0\" class=\"data row2 col0\" >LIBORUSD3MBBG</td>\n",
       "      <td id=\"T_060ab_row2_col1\" class=\"data row2 col1\" >2020-01-22 00:00:00</td>\n",
       "      <td id=\"T_060ab_row2_col2\" class=\"data row2 col2\" >7</td>\n",
       "      <td id=\"T_060ab_row2_col3\" class=\"data row2 col3\" >1.5536%</td>\n",
       "    </tr>\n",
       "    <tr>\n",
       "      <th id=\"T_060ab_level0_row3\" class=\"row_heading level0 row3\" >3</th>\n",
       "      <td id=\"T_060ab_row3_col0\" class=\"data row3 col0\" >LIBORUSD3MBBG</td>\n",
       "      <td id=\"T_060ab_row3_col1\" class=\"data row3 col1\" >2020-01-22 00:00:00</td>\n",
       "      <td id=\"T_060ab_row3_col2\" class=\"data row3 col2\" >14</td>\n",
       "      <td id=\"T_060ab_row3_col3\" class=\"data row3 col3\" >1.5850%</td>\n",
       "    </tr>\n",
       "    <tr>\n",
       "      <th id=\"T_060ab_level0_row4\" class=\"row_heading level0 row4\" >4</th>\n",
       "      <td id=\"T_060ab_row4_col0\" class=\"data row4 col0\" >LIBORUSD3MBBG</td>\n",
       "      <td id=\"T_060ab_row4_col1\" class=\"data row4 col1\" >2020-01-22 00:00:00</td>\n",
       "      <td id=\"T_060ab_row4_col2\" class=\"data row4 col2\" >31</td>\n",
       "      <td id=\"T_060ab_row4_col3\" class=\"data row4 col3\" >1.6595%</td>\n",
       "    </tr>\n",
       "    <tr>\n",
       "      <th id=\"T_060ab_level0_row5\" class=\"row_heading level0 row5\" >5</th>\n",
       "      <td id=\"T_060ab_row5_col0\" class=\"data row5 col0\" >LIBORUSD3MBBG</td>\n",
       "      <td id=\"T_060ab_row5_col1\" class=\"data row5 col1\" >2020-01-22 00:00:00</td>\n",
       "      <td id=\"T_060ab_row5_col2\" class=\"data row5 col2\" >60</td>\n",
       "      <td id=\"T_060ab_row5_col3\" class=\"data row5 col3\" >1.7698%</td>\n",
       "    </tr>\n",
       "    <tr>\n",
       "      <th id=\"T_060ab_level0_row6\" class=\"row_heading level0 row6\" >6</th>\n",
       "      <td id=\"T_060ab_row6_col0\" class=\"data row6 col0\" >LIBORUSD3MBBG</td>\n",
       "      <td id=\"T_060ab_row6_col1\" class=\"data row6 col1\" >2020-01-22 00:00:00</td>\n",
       "      <td id=\"T_060ab_row6_col2\" class=\"data row6 col2\" >91</td>\n",
       "      <td id=\"T_060ab_row6_col3\" class=\"data row6 col3\" >1.8010%</td>\n",
       "    </tr>\n",
       "    <tr>\n",
       "      <th id=\"T_060ab_level0_row7\" class=\"row_heading level0 row7\" >7</th>\n",
       "      <td id=\"T_060ab_row7_col0\" class=\"data row7 col0\" >LIBORUSD3MBBG</td>\n",
       "      <td id=\"T_060ab_row7_col1\" class=\"data row7 col1\" >2020-01-22 00:00:00</td>\n",
       "      <td id=\"T_060ab_row7_col2\" class=\"data row7 col2\" >123</td>\n",
       "      <td id=\"T_060ab_row7_col3\" class=\"data row7 col3\" >1.7711%</td>\n",
       "    </tr>\n",
       "    <tr>\n",
       "      <th id=\"T_060ab_level0_row8\" class=\"row_heading level0 row8\" >8</th>\n",
       "      <td id=\"T_060ab_row8_col0\" class=\"data row8 col0\" >LIBORUSD3MBBG</td>\n",
       "      <td id=\"T_060ab_row8_col1\" class=\"data row8 col1\" >2020-01-22 00:00:00</td>\n",
       "      <td id=\"T_060ab_row8_col2\" class=\"data row8 col2\" >152</td>\n",
       "      <td id=\"T_060ab_row8_col3\" class=\"data row8 col3\" >1.7542%</td>\n",
       "    </tr>\n",
       "    <tr>\n",
       "      <th id=\"T_060ab_level0_row9\" class=\"row_heading level0 row9\" >9</th>\n",
       "      <td id=\"T_060ab_row9_col0\" class=\"data row9 col0\" >LIBORUSD3MBBG</td>\n",
       "      <td id=\"T_060ab_row9_col1\" class=\"data row9 col1\" >2020-01-22 00:00:00</td>\n",
       "      <td id=\"T_060ab_row9_col2\" class=\"data row9 col2\" >182</td>\n",
       "      <td id=\"T_060ab_row9_col3\" class=\"data row9 col3\" >1.7394%</td>\n",
       "    </tr>\n",
       "    <tr>\n",
       "      <th id=\"T_060ab_level0_row10\" class=\"row_heading level0 row10\" >10</th>\n",
       "      <td id=\"T_060ab_row10_col0\" class=\"data row10 col0\" >LIBORUSD3MBBG</td>\n",
       "      <td id=\"T_060ab_row10_col1\" class=\"data row10 col1\" >2020-01-22 00:00:00</td>\n",
       "      <td id=\"T_060ab_row10_col2\" class=\"data row10 col2\" >213</td>\n",
       "      <td id=\"T_060ab_row10_col3\" class=\"data row10 col3\" >1.7288%</td>\n",
       "    </tr>\n",
       "    <tr>\n",
       "      <th id=\"T_060ab_level0_row11\" class=\"row_heading level0 row11\" >11</th>\n",
       "      <td id=\"T_060ab_row11_col0\" class=\"data row11 col0\" >LIBORUSD3MBBG</td>\n",
       "      <td id=\"T_060ab_row11_col1\" class=\"data row11 col1\" >2020-01-22 00:00:00</td>\n",
       "      <td id=\"T_060ab_row11_col2\" class=\"data row11 col2\" >244</td>\n",
       "      <td id=\"T_060ab_row11_col3\" class=\"data row11 col3\" >1.7183%</td>\n",
       "    </tr>\n",
       "    <tr>\n",
       "      <th id=\"T_060ab_level0_row12\" class=\"row_heading level0 row12\" >12</th>\n",
       "      <td id=\"T_060ab_row12_col0\" class=\"data row12 col0\" >LIBORUSD3MBBG</td>\n",
       "      <td id=\"T_060ab_row12_col1\" class=\"data row12 col1\" >2020-01-22 00:00:00</td>\n",
       "      <td id=\"T_060ab_row12_col2\" class=\"data row12 col2\" >276</td>\n",
       "      <td id=\"T_060ab_row12_col3\" class=\"data row12 col3\" >1.7027%</td>\n",
       "    </tr>\n",
       "    <tr>\n",
       "      <th id=\"T_060ab_level0_row13\" class=\"row_heading level0 row13\" >13</th>\n",
       "      <td id=\"T_060ab_row13_col0\" class=\"data row13 col0\" >LIBORUSD3MBBG</td>\n",
       "      <td id=\"T_060ab_row13_col1\" class=\"data row13 col1\" >2020-01-22 00:00:00</td>\n",
       "      <td id=\"T_060ab_row13_col2\" class=\"data row13 col2\" >305</td>\n",
       "      <td id=\"T_060ab_row13_col3\" class=\"data row13 col3\" >1.6917%</td>\n",
       "    </tr>\n",
       "    <tr>\n",
       "      <th id=\"T_060ab_level0_row14\" class=\"row_heading level0 row14\" >14</th>\n",
       "      <td id=\"T_060ab_row14_col0\" class=\"data row14 col0\" >LIBORUSD3MBBG</td>\n",
       "      <td id=\"T_060ab_row14_col1\" class=\"data row14 col1\" >2020-01-22 00:00:00</td>\n",
       "      <td id=\"T_060ab_row14_col2\" class=\"data row14 col2\" >335</td>\n",
       "      <td id=\"T_060ab_row14_col3\" class=\"data row14 col3\" >1.6820%</td>\n",
       "    </tr>\n",
       "    <tr>\n",
       "      <th id=\"T_060ab_level0_row15\" class=\"row_heading level0 row15\" >15</th>\n",
       "      <td id=\"T_060ab_row15_col0\" class=\"data row15 col0\" >LIBORUSD3MBBG</td>\n",
       "      <td id=\"T_060ab_row15_col1\" class=\"data row15 col1\" >2020-01-22 00:00:00</td>\n",
       "      <td id=\"T_060ab_row15_col2\" class=\"data row15 col2\" >367</td>\n",
       "      <td id=\"T_060ab_row15_col3\" class=\"data row15 col3\" >1.6722%</td>\n",
       "    </tr>\n",
       "    <tr>\n",
       "      <th id=\"T_060ab_level0_row16\" class=\"row_heading level0 row16\" >16</th>\n",
       "      <td id=\"T_060ab_row16_col0\" class=\"data row16 col0\" >LIBORUSD3MBBG</td>\n",
       "      <td id=\"T_060ab_row16_col1\" class=\"data row16 col1\" >2020-01-22 00:00:00</td>\n",
       "      <td id=\"T_060ab_row16_col2\" class=\"data row16 col2\" >549</td>\n",
       "      <td id=\"T_060ab_row16_col3\" class=\"data row16 col3\" >1.6207%</td>\n",
       "    </tr>\n",
       "    <tr>\n",
       "      <th id=\"T_060ab_level0_row17\" class=\"row_heading level0 row17\" >17</th>\n",
       "      <td id=\"T_060ab_row17_col0\" class=\"data row17 col0\" >LIBORUSD3MBBG</td>\n",
       "      <td id=\"T_060ab_row17_col1\" class=\"data row17 col1\" >2020-01-22 00:00:00</td>\n",
       "      <td id=\"T_060ab_row17_col2\" class=\"data row17 col2\" >731</td>\n",
       "      <td id=\"T_060ab_row17_col3\" class=\"data row17 col3\" >1.5947%</td>\n",
       "    </tr>\n",
       "    <tr>\n",
       "      <th id=\"T_060ab_level0_row18\" class=\"row_heading level0 row18\" >18</th>\n",
       "      <td id=\"T_060ab_row18_col0\" class=\"data row18 col0\" >LIBORUSD3MBBG</td>\n",
       "      <td id=\"T_060ab_row18_col1\" class=\"data row18 col1\" >2020-01-22 00:00:00</td>\n",
       "      <td id=\"T_060ab_row18_col2\" class=\"data row18 col2\" >1096</td>\n",
       "      <td id=\"T_060ab_row18_col3\" class=\"data row18 col3\" >1.5788%</td>\n",
       "    </tr>\n",
       "    <tr>\n",
       "      <th id=\"T_060ab_level0_row19\" class=\"row_heading level0 row19\" >19</th>\n",
       "      <td id=\"T_060ab_row19_col0\" class=\"data row19 col0\" >LIBORUSD3MBBG</td>\n",
       "      <td id=\"T_060ab_row19_col1\" class=\"data row19 col1\" >2020-01-22 00:00:00</td>\n",
       "      <td id=\"T_060ab_row19_col2\" class=\"data row19 col2\" >1461</td>\n",
       "      <td id=\"T_060ab_row19_col3\" class=\"data row19 col3\" >1.5906%</td>\n",
       "    </tr>\n",
       "    <tr>\n",
       "      <th id=\"T_060ab_level0_row20\" class=\"row_heading level0 row20\" >20</th>\n",
       "      <td id=\"T_060ab_row20_col0\" class=\"data row20 col0\" >LIBORUSD3MBBG</td>\n",
       "      <td id=\"T_060ab_row20_col1\" class=\"data row20 col1\" >2020-01-22 00:00:00</td>\n",
       "      <td id=\"T_060ab_row20_col2\" class=\"data row20 col2\" >1827</td>\n",
       "      <td id=\"T_060ab_row20_col3\" class=\"data row20 col3\" >1.6190%</td>\n",
       "    </tr>\n",
       "    <tr>\n",
       "      <th id=\"T_060ab_level0_row21\" class=\"row_heading level0 row21\" >21</th>\n",
       "      <td id=\"T_060ab_row21_col0\" class=\"data row21 col0\" >LIBORUSD3MBBG</td>\n",
       "      <td id=\"T_060ab_row21_col1\" class=\"data row21 col1\" >2020-01-22 00:00:00</td>\n",
       "      <td id=\"T_060ab_row21_col2\" class=\"data row21 col2\" >2558</td>\n",
       "      <td id=\"T_060ab_row21_col3\" class=\"data row21 col3\" >1.7028%</td>\n",
       "    </tr>\n",
       "    <tr>\n",
       "      <th id=\"T_060ab_level0_row22\" class=\"row_heading level0 row22\" >22</th>\n",
       "      <td id=\"T_060ab_row22_col0\" class=\"data row22 col0\" >LIBORUSD3MBBG</td>\n",
       "      <td id=\"T_060ab_row22_col1\" class=\"data row22 col1\" >2020-01-22 00:00:00</td>\n",
       "      <td id=\"T_060ab_row22_col2\" class=\"data row22 col2\" >3653</td>\n",
       "      <td id=\"T_060ab_row22_col3\" class=\"data row22 col3\" >1.8533%</td>\n",
       "    </tr>\n",
       "    <tr>\n",
       "      <th id=\"T_060ab_level0_row23\" class=\"row_heading level0 row23\" >23</th>\n",
       "      <td id=\"T_060ab_row23_col0\" class=\"data row23 col0\" >LIBORUSD3MBBG</td>\n",
       "      <td id=\"T_060ab_row23_col1\" class=\"data row23 col1\" >2020-01-22 00:00:00</td>\n",
       "      <td id=\"T_060ab_row23_col2\" class=\"data row23 col2\" >4385</td>\n",
       "      <td id=\"T_060ab_row23_col3\" class=\"data row23 col3\" >1.9547%</td>\n",
       "    </tr>\n",
       "    <tr>\n",
       "      <th id=\"T_060ab_level0_row24\" class=\"row_heading level0 row24\" >24</th>\n",
       "      <td id=\"T_060ab_row24_col0\" class=\"data row24 col0\" >LIBORUSD3MBBG</td>\n",
       "      <td id=\"T_060ab_row24_col1\" class=\"data row24 col1\" >2020-01-22 00:00:00</td>\n",
       "      <td id=\"T_060ab_row24_col2\" class=\"data row24 col2\" >5479</td>\n",
       "      <td id=\"T_060ab_row24_col3\" class=\"data row24 col3\" >2.0893%</td>\n",
       "    </tr>\n",
       "    <tr>\n",
       "      <th id=\"T_060ab_level0_row25\" class=\"row_heading level0 row25\" >25</th>\n",
       "      <td id=\"T_060ab_row25_col0\" class=\"data row25 col0\" >LIBORUSD3MBBG</td>\n",
       "      <td id=\"T_060ab_row25_col1\" class=\"data row25 col1\" >2020-01-22 00:00:00</td>\n",
       "      <td id=\"T_060ab_row25_col2\" class=\"data row25 col2\" >7305</td>\n",
       "      <td id=\"T_060ab_row25_col3\" class=\"data row25 col3\" >2.2831%</td>\n",
       "    </tr>\n",
       "    <tr>\n",
       "      <th id=\"T_060ab_level0_row26\" class=\"row_heading level0 row26\" >26</th>\n",
       "      <td id=\"T_060ab_row26_col0\" class=\"data row26 col0\" >LIBORUSD3MBBG</td>\n",
       "      <td id=\"T_060ab_row26_col1\" class=\"data row26 col1\" >2020-01-22 00:00:00</td>\n",
       "      <td id=\"T_060ab_row26_col2\" class=\"data row26 col2\" >9132</td>\n",
       "      <td id=\"T_060ab_row26_col3\" class=\"data row26 col3\" >2.4306%</td>\n",
       "    </tr>\n",
       "    <tr>\n",
       "      <th id=\"T_060ab_level0_row27\" class=\"row_heading level0 row27\" >27</th>\n",
       "      <td id=\"T_060ab_row27_col0\" class=\"data row27 col0\" >LIBORUSD3MBBG</td>\n",
       "      <td id=\"T_060ab_row27_col1\" class=\"data row27 col1\" >2020-01-22 00:00:00</td>\n",
       "      <td id=\"T_060ab_row27_col2\" class=\"data row27 col2\" >10958</td>\n",
       "      <td id=\"T_060ab_row27_col3\" class=\"data row27 col3\" >2.5576%</td>\n",
       "    </tr>\n",
       "  </tbody>\n",
       "</table>\n"
      ],
      "text/plain": [
       "<pandas.io.formats.style.Styler at 0x1082dd390>"
      ]
     },
     "execution_count": 44,
     "metadata": {},
     "output_type": "execute_result"
    }
   ],
   "source": [
    "curva_libor = pd.read_excel(\"./input/curva_usd.xlsx\")\n",
    "curva_libor.style.format({\"tasa\": \"{0:,.4%}\"})"
   ]
  },
  {
   "cell_type": "code",
   "execution_count": 45,
   "metadata": {
    "ExecuteTime": {
     "end_time": "2022-01-24T13:13:31.623025Z",
     "start_time": "2022-01-24T13:13:31.609024Z"
    },
    "execution": {
     "iopub.execute_input": "2023-10-16T14:40:44.700498Z",
     "iopub.status.busy": "2023-10-16T14:40:44.700438Z",
     "iopub.status.idle": "2023-10-16T14:40:44.703126Z",
     "shell.execute_reply": "2023-10-16T14:40:44.702905Z",
     "shell.execute_reply.started": "2023-10-16T14:40:44.700492Z"
    }
   },
   "outputs": [],
   "source": [
    "lvec2 = qcf.long_vec()\n",
    "vec2 = qcf.double_vec()\n",
    "for index, row in curva_libor.iterrows():\n",
    "    lvec2.append(int(row['plazo']))\n",
    "    vec2.append(row['tasa'])\n",
    "\n",
    "zcc2 = qcf.QCCurve(lvec2, vec2)\n",
    "lin2 = qcf.QCLinearInterpolator(zcc2)\n",
    "zz2 = qcf.ZeroCouponCurve(lin2, tasa)"
   ]
  },
  {
   "cell_type": "markdown",
   "metadata": {},
   "source": [
    "Finalmente, la curva CAMARACLF."
   ]
  },
  {
   "cell_type": "code",
   "execution_count": 46,
   "metadata": {
    "ExecuteTime": {
     "end_time": "2022-01-24T13:13:31.687022Z",
     "start_time": "2022-01-24T13:13:31.624025Z"
    },
    "execution": {
     "iopub.execute_input": "2023-10-16T14:40:44.703537Z",
     "iopub.status.busy": "2023-10-16T14:40:44.703473Z",
     "iopub.status.idle": "2023-10-16T14:40:44.712139Z",
     "shell.execute_reply": "2023-10-16T14:40:44.711880Z",
     "shell.execute_reply.started": "2023-10-16T14:40:44.703531Z"
    }
   },
   "outputs": [
    {
     "data": {
      "text/html": [
       "<style type=\"text/css\">\n",
       "</style>\n",
       "<table id=\"T_667cb\">\n",
       "  <thead>\n",
       "    <tr>\n",
       "      <th class=\"blank level0\" >&nbsp;</th>\n",
       "      <th id=\"T_667cb_level0_col0\" class=\"col_heading level0 col0\" >curva</th>\n",
       "      <th id=\"T_667cb_level0_col1\" class=\"col_heading level0 col1\" >fecha</th>\n",
       "      <th id=\"T_667cb_level0_col2\" class=\"col_heading level0 col2\" >plazo</th>\n",
       "      <th id=\"T_667cb_level0_col3\" class=\"col_heading level0 col3\" >tasa</th>\n",
       "    </tr>\n",
       "  </thead>\n",
       "  <tbody>\n",
       "    <tr>\n",
       "      <th id=\"T_667cb_level0_row0\" class=\"row_heading level0 row0\" >0</th>\n",
       "      <td id=\"T_667cb_row0_col0\" class=\"data row0 col0\" >CAMARACLF</td>\n",
       "      <td id=\"T_667cb_row0_col1\" class=\"data row0 col1\" >2020-03-05 00:00:00</td>\n",
       "      <td id=\"T_667cb_row0_col2\" class=\"data row0 col2\" >1</td>\n",
       "      <td id=\"T_667cb_row0_col3\" class=\"data row0 col3\" >-5.6780%</td>\n",
       "    </tr>\n",
       "    <tr>\n",
       "      <th id=\"T_667cb_level0_row1\" class=\"row_heading level0 row1\" >1</th>\n",
       "      <td id=\"T_667cb_row1_col0\" class=\"data row1 col0\" >CAMARACLF</td>\n",
       "      <td id=\"T_667cb_row1_col1\" class=\"data row1 col1\" >2020-03-05 00:00:00</td>\n",
       "      <td id=\"T_667cb_row1_col2\" class=\"data row1 col2\" >4</td>\n",
       "      <td id=\"T_667cb_row1_col3\" class=\"data row1 col3\" >-5.6744%</td>\n",
       "    </tr>\n",
       "    <tr>\n",
       "      <th id=\"T_667cb_level0_row2\" class=\"row_heading level0 row2\" >2</th>\n",
       "      <td id=\"T_667cb_row2_col0\" class=\"data row2 col0\" >CAMARACLF</td>\n",
       "      <td id=\"T_667cb_row2_col1\" class=\"data row2 col1\" >2020-03-05 00:00:00</td>\n",
       "      <td id=\"T_667cb_row2_col2\" class=\"data row2 col2\" >35</td>\n",
       "      <td id=\"T_667cb_row2_col3\" class=\"data row2 col3\" >-0.9340%</td>\n",
       "    </tr>\n",
       "    <tr>\n",
       "      <th id=\"T_667cb_level0_row3\" class=\"row_heading level0 row3\" >3</th>\n",
       "      <td id=\"T_667cb_row3_col0\" class=\"data row3 col0\" >CAMARACLF</td>\n",
       "      <td id=\"T_667cb_row3_col1\" class=\"data row3 col1\" >2020-03-05 00:00:00</td>\n",
       "      <td id=\"T_667cb_row3_col2\" class=\"data row3 col2\" >64</td>\n",
       "      <td id=\"T_667cb_row3_col3\" class=\"data row3 col3\" >-2.1183%</td>\n",
       "    </tr>\n",
       "    <tr>\n",
       "      <th id=\"T_667cb_level0_row4\" class=\"row_heading level0 row4\" >4</th>\n",
       "      <td id=\"T_667cb_row4_col0\" class=\"data row4 col0\" >CAMARACLF</td>\n",
       "      <td id=\"T_667cb_row4_col1\" class=\"data row4 col1\" >2020-03-05 00:00:00</td>\n",
       "      <td id=\"T_667cb_row4_col2\" class=\"data row4 col2\" >96</td>\n",
       "      <td id=\"T_667cb_row4_col3\" class=\"data row4 col3\" >-2.0079%</td>\n",
       "    </tr>\n",
       "    <tr>\n",
       "      <th id=\"T_667cb_level0_row5\" class=\"row_heading level0 row5\" >5</th>\n",
       "      <td id=\"T_667cb_row5_col0\" class=\"data row5 col0\" >CAMARACLF</td>\n",
       "      <td id=\"T_667cb_row5_col1\" class=\"data row5 col1\" >2020-03-05 00:00:00</td>\n",
       "      <td id=\"T_667cb_row5_col2\" class=\"data row5 col2\" >126</td>\n",
       "      <td id=\"T_667cb_row5_col3\" class=\"data row5 col3\" >-2.0762%</td>\n",
       "    </tr>\n",
       "    <tr>\n",
       "      <th id=\"T_667cb_level0_row6\" class=\"row_heading level0 row6\" >6</th>\n",
       "      <td id=\"T_667cb_row6_col0\" class=\"data row6 col0\" >CAMARACLF</td>\n",
       "      <td id=\"T_667cb_row6_col1\" class=\"data row6 col1\" >2020-03-05 00:00:00</td>\n",
       "      <td id=\"T_667cb_row6_col2\" class=\"data row6 col2\" >155</td>\n",
       "      <td id=\"T_667cb_row6_col3\" class=\"data row6 col3\" >-1.9197%</td>\n",
       "    </tr>\n",
       "    <tr>\n",
       "      <th id=\"T_667cb_level0_row7\" class=\"row_heading level0 row7\" >7</th>\n",
       "      <td id=\"T_667cb_row7_col0\" class=\"data row7 col0\" >CAMARACLF</td>\n",
       "      <td id=\"T_667cb_row7_col1\" class=\"data row7 col1\" >2020-03-05 00:00:00</td>\n",
       "      <td id=\"T_667cb_row7_col2\" class=\"data row7 col2\" >188</td>\n",
       "      <td id=\"T_667cb_row7_col3\" class=\"data row7 col3\" >-1.9347%</td>\n",
       "    </tr>\n",
       "    <tr>\n",
       "      <th id=\"T_667cb_level0_row8\" class=\"row_heading level0 row8\" >8</th>\n",
       "      <td id=\"T_667cb_row8_col0\" class=\"data row8 col0\" >CAMARACLF</td>\n",
       "      <td id=\"T_667cb_row8_col1\" class=\"data row8 col1\" >2020-03-05 00:00:00</td>\n",
       "      <td id=\"T_667cb_row8_col2\" class=\"data row8 col2\" >218</td>\n",
       "      <td id=\"T_667cb_row8_col3\" class=\"data row8 col3\" >-1.7626%</td>\n",
       "    </tr>\n",
       "    <tr>\n",
       "      <th id=\"T_667cb_level0_row9\" class=\"row_heading level0 row9\" >9</th>\n",
       "      <td id=\"T_667cb_row9_col0\" class=\"data row9 col0\" >CAMARACLF</td>\n",
       "      <td id=\"T_667cb_row9_col1\" class=\"data row9 col1\" >2020-03-05 00:00:00</td>\n",
       "      <td id=\"T_667cb_row9_col2\" class=\"data row9 col2\" >249</td>\n",
       "      <td id=\"T_667cb_row9_col3\" class=\"data row9 col3\" >-1.7987%</td>\n",
       "    </tr>\n",
       "    <tr>\n",
       "      <th id=\"T_667cb_level0_row10\" class=\"row_heading level0 row10\" >10</th>\n",
       "      <td id=\"T_667cb_row10_col0\" class=\"data row10 col0\" >CAMARACLF</td>\n",
       "      <td id=\"T_667cb_row10_col1\" class=\"data row10 col1\" >2020-03-05 00:00:00</td>\n",
       "      <td id=\"T_667cb_row10_col2\" class=\"data row10 col2\" >279</td>\n",
       "      <td id=\"T_667cb_row10_col3\" class=\"data row10 col3\" >-1.9335%</td>\n",
       "    </tr>\n",
       "    <tr>\n",
       "      <th id=\"T_667cb_level0_row11\" class=\"row_heading level0 row11\" >11</th>\n",
       "      <td id=\"T_667cb_row11_col0\" class=\"data row11 col0\" >CAMARACLF</td>\n",
       "      <td id=\"T_667cb_row11_col1\" class=\"data row11 col1\" >2020-03-05 00:00:00</td>\n",
       "      <td id=\"T_667cb_row11_col2\" class=\"data row11 col2\" >309</td>\n",
       "      <td id=\"T_667cb_row11_col3\" class=\"data row11 col3\" >-1.8159%</td>\n",
       "    </tr>\n",
       "    <tr>\n",
       "      <th id=\"T_667cb_level0_row12\" class=\"row_heading level0 row12\" >12</th>\n",
       "      <td id=\"T_667cb_row12_col0\" class=\"data row12 col0\" >CAMARACLF</td>\n",
       "      <td id=\"T_667cb_row12_col1\" class=\"data row12 col1\" >2020-03-05 00:00:00</td>\n",
       "      <td id=\"T_667cb_row12_col2\" class=\"data row12 col2\" >341</td>\n",
       "      <td id=\"T_667cb_row12_col3\" class=\"data row12 col3\" >-1.5940%</td>\n",
       "    </tr>\n",
       "    <tr>\n",
       "      <th id=\"T_667cb_level0_row13\" class=\"row_heading level0 row13\" >13</th>\n",
       "      <td id=\"T_667cb_row13_col0\" class=\"data row13 col0\" >CAMARACLF</td>\n",
       "      <td id=\"T_667cb_row13_col1\" class=\"data row13 col1\" >2020-03-05 00:00:00</td>\n",
       "      <td id=\"T_667cb_row13_col2\" class=\"data row13 col2\" >369</td>\n",
       "      <td id=\"T_667cb_row13_col3\" class=\"data row13 col3\" >-1.5994%</td>\n",
       "    </tr>\n",
       "    <tr>\n",
       "      <th id=\"T_667cb_level0_row14\" class=\"row_heading level0 row14\" >14</th>\n",
       "      <td id=\"T_667cb_row14_col0\" class=\"data row14 col0\" >CAMARACLF</td>\n",
       "      <td id=\"T_667cb_row14_col1\" class=\"data row14 col1\" >2020-03-05 00:00:00</td>\n",
       "      <td id=\"T_667cb_row14_col2\" class=\"data row14 col2\" >400</td>\n",
       "      <td id=\"T_667cb_row14_col3\" class=\"data row14 col3\" >-1.5068%</td>\n",
       "    </tr>\n",
       "    <tr>\n",
       "      <th id=\"T_667cb_level0_row15\" class=\"row_heading level0 row15\" >15</th>\n",
       "      <td id=\"T_667cb_row15_col0\" class=\"data row15 col0\" >CAMARACLF</td>\n",
       "      <td id=\"T_667cb_row15_col1\" class=\"data row15 col1\" >2020-03-05 00:00:00</td>\n",
       "      <td id=\"T_667cb_row15_col2\" class=\"data row15 col2\" >428</td>\n",
       "      <td id=\"T_667cb_row15_col3\" class=\"data row15 col3\" >-1.6115%</td>\n",
       "    </tr>\n",
       "    <tr>\n",
       "      <th id=\"T_667cb_level0_row16\" class=\"row_heading level0 row16\" >16</th>\n",
       "      <td id=\"T_667cb_row16_col0\" class=\"data row16 col0\" >CAMARACLF</td>\n",
       "      <td id=\"T_667cb_row16_col1\" class=\"data row16 col1\" >2020-03-05 00:00:00</td>\n",
       "      <td id=\"T_667cb_row16_col2\" class=\"data row16 col2\" >461</td>\n",
       "      <td id=\"T_667cb_row16_col3\" class=\"data row16 col3\" >-1.5923%</td>\n",
       "    </tr>\n",
       "    <tr>\n",
       "      <th id=\"T_667cb_level0_row17\" class=\"row_heading level0 row17\" >17</th>\n",
       "      <td id=\"T_667cb_row17_col0\" class=\"data row17 col0\" >CAMARACLF</td>\n",
       "      <td id=\"T_667cb_row17_col1\" class=\"data row17 col1\" >2020-03-05 00:00:00</td>\n",
       "      <td id=\"T_667cb_row17_col2\" class=\"data row17 col2\" >491</td>\n",
       "      <td id=\"T_667cb_row17_col3\" class=\"data row17 col3\" >-1.5780%</td>\n",
       "    </tr>\n",
       "    <tr>\n",
       "      <th id=\"T_667cb_level0_row18\" class=\"row_heading level0 row18\" >18</th>\n",
       "      <td id=\"T_667cb_row18_col0\" class=\"data row18 col0\" >CAMARACLF</td>\n",
       "      <td id=\"T_667cb_row18_col1\" class=\"data row18 col1\" >2020-03-05 00:00:00</td>\n",
       "      <td id=\"T_667cb_row18_col2\" class=\"data row18 col2\" >522</td>\n",
       "      <td id=\"T_667cb_row18_col3\" class=\"data row18 col3\" >-1.5186%</td>\n",
       "    </tr>\n",
       "    <tr>\n",
       "      <th id=\"T_667cb_level0_row19\" class=\"row_heading level0 row19\" >19</th>\n",
       "      <td id=\"T_667cb_row19_col0\" class=\"data row19 col0\" >CAMARACLF</td>\n",
       "      <td id=\"T_667cb_row19_col1\" class=\"data row19 col1\" >2020-03-05 00:00:00</td>\n",
       "      <td id=\"T_667cb_row19_col2\" class=\"data row19 col2\" >553</td>\n",
       "      <td id=\"T_667cb_row19_col3\" class=\"data row19 col3\" >-1.5533%</td>\n",
       "    </tr>\n",
       "    <tr>\n",
       "      <th id=\"T_667cb_level0_row20\" class=\"row_heading level0 row20\" >20</th>\n",
       "      <td id=\"T_667cb_row20_col0\" class=\"data row20 col0\" >CAMARACLF</td>\n",
       "      <td id=\"T_667cb_row20_col1\" class=\"data row20 col1\" >2020-03-05 00:00:00</td>\n",
       "      <td id=\"T_667cb_row20_col2\" class=\"data row20 col2\" >582</td>\n",
       "      <td id=\"T_667cb_row20_col3\" class=\"data row20 col3\" >-1.5649%</td>\n",
       "    </tr>\n",
       "    <tr>\n",
       "      <th id=\"T_667cb_level0_row21\" class=\"row_heading level0 row21\" >21</th>\n",
       "      <td id=\"T_667cb_row21_col0\" class=\"data row21 col0\" >CAMARACLF</td>\n",
       "      <td id=\"T_667cb_row21_col1\" class=\"data row21 col1\" >2020-03-05 00:00:00</td>\n",
       "      <td id=\"T_667cb_row21_col2\" class=\"data row21 col2\" >734</td>\n",
       "      <td id=\"T_667cb_row21_col3\" class=\"data row21 col3\" >-1.6594%</td>\n",
       "    </tr>\n",
       "    <tr>\n",
       "      <th id=\"T_667cb_level0_row22\" class=\"row_heading level0 row22\" >22</th>\n",
       "      <td id=\"T_667cb_row22_col0\" class=\"data row22 col0\" >CAMARACLF</td>\n",
       "      <td id=\"T_667cb_row22_col1\" class=\"data row22 col1\" >2020-03-05 00:00:00</td>\n",
       "      <td id=\"T_667cb_row22_col2\" class=\"data row22 col2\" >1099</td>\n",
       "      <td id=\"T_667cb_row22_col3\" class=\"data row22 col3\" >-1.4881%</td>\n",
       "    </tr>\n",
       "    <tr>\n",
       "      <th id=\"T_667cb_level0_row23\" class=\"row_heading level0 row23\" >23</th>\n",
       "      <td id=\"T_667cb_row23_col0\" class=\"data row23 col0\" >CAMARACLF</td>\n",
       "      <td id=\"T_667cb_row23_col1\" class=\"data row23 col1\" >2020-03-05 00:00:00</td>\n",
       "      <td id=\"T_667cb_row23_col2\" class=\"data row23 col2\" >1465</td>\n",
       "      <td id=\"T_667cb_row23_col3\" class=\"data row23 col3\" >-1.2740%</td>\n",
       "    </tr>\n",
       "    <tr>\n",
       "      <th id=\"T_667cb_level0_row24\" class=\"row_heading level0 row24\" >24</th>\n",
       "      <td id=\"T_667cb_row24_col0\" class=\"data row24 col0\" >CAMARACLF</td>\n",
       "      <td id=\"T_667cb_row24_col1\" class=\"data row24 col1\" >2020-03-05 00:00:00</td>\n",
       "      <td id=\"T_667cb_row24_col2\" class=\"data row24 col2\" >1830</td>\n",
       "      <td id=\"T_667cb_row24_col3\" class=\"data row24 col3\" >-1.0201%</td>\n",
       "    </tr>\n",
       "    <tr>\n",
       "      <th id=\"T_667cb_level0_row25\" class=\"row_heading level0 row25\" >25</th>\n",
       "      <td id=\"T_667cb_row25_col0\" class=\"data row25 col0\" >CAMARACLF</td>\n",
       "      <td id=\"T_667cb_row25_col1\" class=\"data row25 col1\" >2020-03-05 00:00:00</td>\n",
       "      <td id=\"T_667cb_row25_col2\" class=\"data row25 col2\" >2195</td>\n",
       "      <td id=\"T_667cb_row25_col3\" class=\"data row25 col3\" >-0.8009%</td>\n",
       "    </tr>\n",
       "    <tr>\n",
       "      <th id=\"T_667cb_level0_row26\" class=\"row_heading level0 row26\" >26</th>\n",
       "      <td id=\"T_667cb_row26_col0\" class=\"data row26 col0\" >CAMARACLF</td>\n",
       "      <td id=\"T_667cb_row26_col1\" class=\"data row26 col1\" >2020-03-05 00:00:00</td>\n",
       "      <td id=\"T_667cb_row26_col2\" class=\"data row26 col2\" >2560</td>\n",
       "      <td id=\"T_667cb_row26_col3\" class=\"data row26 col3\" >-0.5868%</td>\n",
       "    </tr>\n",
       "    <tr>\n",
       "      <th id=\"T_667cb_level0_row27\" class=\"row_heading level0 row27\" >27</th>\n",
       "      <td id=\"T_667cb_row27_col0\" class=\"data row27 col0\" >CAMARACLF</td>\n",
       "      <td id=\"T_667cb_row27_col1\" class=\"data row27 col1\" >2020-03-05 00:00:00</td>\n",
       "      <td id=\"T_667cb_row27_col2\" class=\"data row27 col2\" >2926</td>\n",
       "      <td id=\"T_667cb_row27_col3\" class=\"data row27 col3\" >-0.4145%</td>\n",
       "    </tr>\n",
       "    <tr>\n",
       "      <th id=\"T_667cb_level0_row28\" class=\"row_heading level0 row28\" >28</th>\n",
       "      <td id=\"T_667cb_row28_col0\" class=\"data row28 col0\" >CAMARACLF</td>\n",
       "      <td id=\"T_667cb_row28_col1\" class=\"data row28 col1\" >2020-03-05 00:00:00</td>\n",
       "      <td id=\"T_667cb_row28_col2\" class=\"data row28 col2\" >3291</td>\n",
       "      <td id=\"T_667cb_row28_col3\" class=\"data row28 col3\" >-0.3047%</td>\n",
       "    </tr>\n",
       "    <tr>\n",
       "      <th id=\"T_667cb_level0_row29\" class=\"row_heading level0 row29\" >29</th>\n",
       "      <td id=\"T_667cb_row29_col0\" class=\"data row29 col0\" >CAMARACLF</td>\n",
       "      <td id=\"T_667cb_row29_col1\" class=\"data row29 col1\" >2020-03-05 00:00:00</td>\n",
       "      <td id=\"T_667cb_row29_col2\" class=\"data row29 col2\" >3656</td>\n",
       "      <td id=\"T_667cb_row29_col3\" class=\"data row29 col3\" >-0.2242%</td>\n",
       "    </tr>\n",
       "    <tr>\n",
       "      <th id=\"T_667cb_level0_row30\" class=\"row_heading level0 row30\" >30</th>\n",
       "      <td id=\"T_667cb_row30_col0\" class=\"data row30 col0\" >CAMARACLF</td>\n",
       "      <td id=\"T_667cb_row30_col1\" class=\"data row30 col1\" >2020-03-05 00:00:00</td>\n",
       "      <td id=\"T_667cb_row30_col2\" class=\"data row30 col2\" >4387</td>\n",
       "      <td id=\"T_667cb_row30_col3\" class=\"data row30 col3\" >-0.1871%</td>\n",
       "    </tr>\n",
       "    <tr>\n",
       "      <th id=\"T_667cb_level0_row31\" class=\"row_heading level0 row31\" >31</th>\n",
       "      <td id=\"T_667cb_row31_col0\" class=\"data row31 col0\" >CAMARACLF</td>\n",
       "      <td id=\"T_667cb_row31_col1\" class=\"data row31 col1\" >2020-03-05 00:00:00</td>\n",
       "      <td id=\"T_667cb_row31_col2\" class=\"data row31 col2\" >5482</td>\n",
       "      <td id=\"T_667cb_row31_col3\" class=\"data row31 col3\" >-0.1056%</td>\n",
       "    </tr>\n",
       "    <tr>\n",
       "      <th id=\"T_667cb_level0_row32\" class=\"row_heading level0 row32\" >32</th>\n",
       "      <td id=\"T_667cb_row32_col0\" class=\"data row32 col0\" >CAMARACLF</td>\n",
       "      <td id=\"T_667cb_row32_col1\" class=\"data row32 col1\" >2020-03-05 00:00:00</td>\n",
       "      <td id=\"T_667cb_row32_col2\" class=\"data row32 col2\" >7309</td>\n",
       "      <td id=\"T_667cb_row32_col3\" class=\"data row32 col3\" >-0.0639%</td>\n",
       "    </tr>\n",
       "  </tbody>\n",
       "</table>\n"
      ],
      "text/plain": [
       "<pandas.io.formats.style.Styler at 0x11e115050>"
      ]
     },
     "execution_count": 46,
     "metadata": {},
     "output_type": "execute_result"
    }
   ],
   "source": [
    "curva_camara_clf = pd.read_excel(\"./input/curva_clf.xlsx\")\n",
    "curva_camara_clf.style.format({\"tasa\": \"{0:,.4%}\"})"
   ]
  },
  {
   "cell_type": "code",
   "execution_count": 47,
   "metadata": {
    "ExecuteTime": {
     "end_time": "2022-01-24T13:13:31.703023Z",
     "start_time": "2022-01-24T13:13:31.688024Z"
    },
    "execution": {
     "iopub.execute_input": "2023-10-16T14:40:44.712782Z",
     "iopub.status.busy": "2023-10-16T14:40:44.712556Z",
     "iopub.status.idle": "2023-10-16T14:40:44.715387Z",
     "shell.execute_reply": "2023-10-16T14:40:44.715137Z",
     "shell.execute_reply.started": "2023-10-16T14:40:44.712775Z"
    }
   },
   "outputs": [],
   "source": [
    "lvec3 = qcf.long_vec()\n",
    "vec3 = qcf.double_vec()\n",
    "for index, row in curva_camara_clf.iterrows():\n",
    "    lvec3.append(int(row['plazo']))\n",
    "    vec3.append(row['tasa'])\n",
    "\n",
    "zcc3 = qcf.QCCurve(lvec3, vec3)\n",
    "lin3 = qcf.QCLinearInterpolator(zcc3)\n",
    "zz3 = qcf.ZeroCouponCurve(lin3, tasa)"
   ]
  },
  {
   "cell_type": "markdown",
   "metadata": {},
   "source": [
    "#### Curvas para Sensibilidad"
   ]
  },
  {
   "cell_type": "markdown",
   "metadata": {},
   "source": [
    "Se define que vértice de la curva se quiere desplazar."
   ]
  },
  {
   "cell_type": "code",
   "execution_count": 48,
   "metadata": {
    "ExecuteTime": {
     "end_time": "2022-01-24T13:13:31.719022Z",
     "start_time": "2022-01-24T13:13:31.704023Z"
    },
    "execution": {
     "iopub.execute_input": "2023-10-16T14:40:44.715866Z",
     "iopub.status.busy": "2023-10-16T14:40:44.715776Z",
     "iopub.status.idle": "2023-10-16T14:40:44.718198Z",
     "shell.execute_reply": "2023-10-16T14:40:44.717856Z",
     "shell.execute_reply.started": "2023-10-16T14:40:44.715860Z"
    }
   },
   "outputs": [],
   "source": [
    "vertice = 13"
   ]
  },
  {
   "cell_type": "markdown",
   "metadata": {},
   "source": [
    "Se construyen las curvas con ese vértice 1 punto básico más arriba y 1 punto básico más abajo."
   ]
  },
  {
   "cell_type": "code",
   "execution_count": 49,
   "metadata": {
    "ExecuteTime": {
     "end_time": "2022-01-24T13:13:31.735022Z",
     "start_time": "2022-01-24T13:13:31.720023Z"
    },
    "execution": {
     "iopub.execute_input": "2023-10-16T14:40:44.718584Z",
     "iopub.status.busy": "2023-10-16T14:40:44.718470Z",
     "iopub.status.idle": "2023-10-16T14:40:44.721496Z",
     "shell.execute_reply": "2023-10-16T14:40:44.721232Z",
     "shell.execute_reply.started": "2023-10-16T14:40:44.718572Z"
    }
   },
   "outputs": [],
   "source": [
    "bp = .0001\n",
    "vec_sens_up = qcf.double_vec()\n",
    "vec_sens_down = qcf.double_vec()\n",
    "for index, row in curva.iterrows():\n",
    "    if index == vertice:\n",
    "        vec_sens_up.append(row['tasa'] + bp)\n",
    "        vec_sens_down.append(row['tasa'] - bp)\n",
    "    else:\n",
    "        vec_sens_up.append(row['tasa'])\n",
    "        vec_sens_down.append(row['tasa'])\n",
    "\n",
    "zcc_sens_up = qcf.QCCurve(lvec1, vec_sens_up)\n",
    "lin_sens_up = qcf.QCLinearInterpolator(zcc_sens_up)\n",
    "zz_sens_up = qcf.ZeroCouponCurve(lin_sens_up, tasa)\n",
    "\n",
    "zcc_sens_down = qcf.QCCurve(lvec1, vec_sens_down)\n",
    "lin_sens_down = qcf.QCLinearInterpolator(zcc_sens_down)\n",
    "zz_sens_down = qcf.ZeroCouponCurve(lin_sens_down, tasa)"
   ]
  },
  {
   "cell_type": "code",
   "execution_count": 50,
   "metadata": {
    "ExecuteTime": {
     "end_time": "2022-01-24T13:13:31.751022Z",
     "start_time": "2022-01-24T13:13:31.736024Z"
    },
    "execution": {
     "iopub.execute_input": "2023-10-16T14:40:44.721819Z",
     "iopub.status.busy": "2023-10-16T14:40:44.721760Z",
     "iopub.status.idle": "2023-10-16T14:40:44.724751Z",
     "shell.execute_reply": "2023-10-16T14:40:44.724488Z",
     "shell.execute_reply.started": "2023-10-16T14:40:44.721812Z"
    }
   },
   "outputs": [],
   "source": [
    "vec2_sens_up = qcf.double_vec()\n",
    "vec2_sens_down = qcf.double_vec()\n",
    "for index, row in curva_libor.iterrows():\n",
    "    if index == vertice:\n",
    "        vec2_sens_up.append(row['tasa'] + bp)\n",
    "        vec2_sens_down.append(row['tasa'] - bp)\n",
    "    else:\n",
    "        vec2_sens_up.append(row['tasa'])\n",
    "        vec2_sens_down.append(row['tasa'])\n",
    "\n",
    "zcc2_sens_up = qcf.QCCurve(lvec2, vec2_sens_up)\n",
    "lin2_sens_up = qcf.QCLinearInterpolator(zcc2_sens_up)\n",
    "zz2_sens_up = qcf.ZeroCouponCurve(lin2_sens_up, tasa)\n",
    "\n",
    "zcc2_sens_down = qcf.QCCurve(lvec2, vec2_sens_down)\n",
    "lin2_sens_down = qcf.QCLinearInterpolator(zcc2_sens_down)\n",
    "zz2_sens_down = qcf.ZeroCouponCurve(lin2_sens_down, tasa)"
   ]
  },
  {
   "cell_type": "code",
   "execution_count": 51,
   "metadata": {
    "ExecuteTime": {
     "end_time": "2022-01-24T13:13:31.767023Z",
     "start_time": "2022-01-24T13:13:31.752023Z"
    },
    "execution": {
     "iopub.execute_input": "2023-10-16T14:40:44.725358Z",
     "iopub.status.busy": "2023-10-16T14:40:44.725243Z",
     "iopub.status.idle": "2023-10-16T14:40:44.728391Z",
     "shell.execute_reply": "2023-10-16T14:40:44.728097Z",
     "shell.execute_reply.started": "2023-10-16T14:40:44.725348Z"
    }
   },
   "outputs": [],
   "source": [
    "vec3_sens_up = qcf.double_vec()\n",
    "vec3_sens_down = qcf.double_vec()\n",
    "for index, row in curva_camara_clf.iterrows():\n",
    "    if index == vertice:\n",
    "        vec3_sens_up.append(row['tasa'] + bp)\n",
    "        vec3_sens_down.append(row['tasa'] - bp)\n",
    "    else:\n",
    "        vec3_sens_up.append(row['tasa'])\n",
    "        vec3_sens_down.append(row['tasa'])\n",
    "\n",
    "zcc3_sens_up = qcf.QCCurve(lvec3, vec3_sens_up)\n",
    "lin3_sens_up = qcf.QCLinearInterpolator(zcc3_sens_up)\n",
    "zz3_sens_up = qcf.ZeroCouponCurve(lin3_sens_up, tasa)\n",
    "\n",
    "zcc3_sens_down = qcf.QCCurve(lvec3, vec3_sens_down)\n",
    "lin3_sens_down = qcf.QCLinearInterpolator(zcc3_sens_down)\n",
    "zz3_sens_down = qcf.ZeroCouponCurve(lin3_sens_down, tasa)"
   ]
  },
  {
   "cell_type": "markdown",
   "metadata": {},
   "source": [
    "### FixedRateCashflow Leg"
   ]
  },
  {
   "cell_type": "markdown",
   "metadata": {},
   "source": [
    "Se da de alta una pata fija:"
   ]
  },
  {
   "cell_type": "code",
   "execution_count": 52,
   "metadata": {
    "ExecuteTime": {
     "end_time": "2022-01-24T13:13:31.783021Z",
     "start_time": "2022-01-24T13:13:31.768024Z"
    },
    "execution": {
     "iopub.execute_input": "2023-10-16T14:40:44.728867Z",
     "iopub.status.busy": "2023-10-16T14:40:44.728774Z",
     "iopub.status.idle": "2023-10-16T14:40:44.731323Z",
     "shell.execute_reply": "2023-10-16T14:40:44.731054Z",
     "shell.execute_reply.started": "2023-10-16T14:40:44.728861Z"
    }
   },
   "outputs": [],
   "source": [
    "# Se da de alta los parámetros requeridos\n",
    "rp = qcf.RecPay.RECEIVE\n",
    "fecha_inicio = qcf.QCDate(12, 11, 2019)\n",
    "fecha_final = qcf.QCDate(12, 11, 2020)\n",
    "bus_adj_rule = qcf.BusyAdjRules.MODFOLLOW\n",
    "periodicidad = qcf.Tenor('6M')\n",
    "periodo_irregular = qcf.StubPeriod.SHORTFRONT\n",
    "calendario = qcf.BusinessCalendar(fecha_inicio, 20)\n",
    "lag_pago = 0\n",
    "nominal = 20_000_000.0\n",
    "amort_es_flujo = True\n",
    "valor_tasa_fija = .01774\n",
    "tasa_cupon = qcf.QCInterestRate(\n",
    "    valor_tasa_fija, \n",
    "    qcf.QC30360(), \n",
    "    qcf.QCLinearWf()\n",
    ")\n",
    "moneda = qcf.QCUSD()\n",
    "es_bono = False\n",
    "\n",
    "# Se da de alta el objeto\n",
    "fixed_rate_leg = qcf.LegFactory.build_bullet_fixed_rate_leg(\n",
    "    rp,\n",
    "    fecha_inicio,\n",
    "    fecha_final,\n",
    "    bus_adj_rule,\n",
    "    periodicidad,\n",
    "    periodo_irregular,\n",
    "    calendario,\n",
    "    lag_pago,\n",
    "    nominal,\n",
    "    amort_es_flujo,\n",
    "    tasa_cupon,\n",
    "    moneda,\n",
    "    es_bono\n",
    ")"
   ]
  },
  {
   "cell_type": "code",
   "execution_count": 53,
   "metadata": {
    "ExecuteTime": {
     "end_time": "2022-01-24T13:13:31.799025Z",
     "start_time": "2022-01-24T13:13:31.784023Z"
    },
    "execution": {
     "iopub.execute_input": "2023-10-16T14:40:44.731674Z",
     "iopub.status.busy": "2023-10-16T14:40:44.731608Z",
     "iopub.status.idle": "2023-10-16T14:40:44.735646Z",
     "shell.execute_reply": "2023-10-16T14:40:44.735398Z",
     "shell.execute_reply.started": "2023-10-16T14:40:44.731668Z"
    }
   },
   "outputs": [
    {
     "data": {
      "text/html": [
       "<style type=\"text/css\">\n",
       "</style>\n",
       "<table id=\"T_3d54f\">\n",
       "  <thead>\n",
       "    <tr>\n",
       "      <th class=\"blank level0\" >&nbsp;</th>\n",
       "      <th id=\"T_3d54f_level0_col0\" class=\"col_heading level0 col0\" >fecha_inicial</th>\n",
       "      <th id=\"T_3d54f_level0_col1\" class=\"col_heading level0 col1\" >fecha_final</th>\n",
       "      <th id=\"T_3d54f_level0_col2\" class=\"col_heading level0 col2\" >fecha_pago</th>\n",
       "      <th id=\"T_3d54f_level0_col3\" class=\"col_heading level0 col3\" >nominal</th>\n",
       "      <th id=\"T_3d54f_level0_col4\" class=\"col_heading level0 col4\" >amortizacion</th>\n",
       "      <th id=\"T_3d54f_level0_col5\" class=\"col_heading level0 col5\" >interes</th>\n",
       "      <th id=\"T_3d54f_level0_col6\" class=\"col_heading level0 col6\" >amort_es_flujo</th>\n",
       "      <th id=\"T_3d54f_level0_col7\" class=\"col_heading level0 col7\" >flujo</th>\n",
       "      <th id=\"T_3d54f_level0_col8\" class=\"col_heading level0 col8\" >moneda</th>\n",
       "      <th id=\"T_3d54f_level0_col9\" class=\"col_heading level0 col9\" >valor_tasa</th>\n",
       "      <th id=\"T_3d54f_level0_col10\" class=\"col_heading level0 col10\" >tipo_tasa</th>\n",
       "    </tr>\n",
       "  </thead>\n",
       "  <tbody>\n",
       "    <tr>\n",
       "      <th id=\"T_3d54f_level0_row0\" class=\"row_heading level0 row0\" >0</th>\n",
       "      <td id=\"T_3d54f_row0_col0\" class=\"data row0 col0\" >2019-11-12</td>\n",
       "      <td id=\"T_3d54f_row0_col1\" class=\"data row0 col1\" >2020-05-12</td>\n",
       "      <td id=\"T_3d54f_row0_col2\" class=\"data row0 col2\" >2020-05-12</td>\n",
       "      <td id=\"T_3d54f_row0_col3\" class=\"data row0 col3\" >20,000,000.00</td>\n",
       "      <td id=\"T_3d54f_row0_col4\" class=\"data row0 col4\" >0.00</td>\n",
       "      <td id=\"T_3d54f_row0_col5\" class=\"data row0 col5\" >177,400.00</td>\n",
       "      <td id=\"T_3d54f_row0_col6\" class=\"data row0 col6\" >True</td>\n",
       "      <td id=\"T_3d54f_row0_col7\" class=\"data row0 col7\" >177,400.00</td>\n",
       "      <td id=\"T_3d54f_row0_col8\" class=\"data row0 col8\" >USD</td>\n",
       "      <td id=\"T_3d54f_row0_col9\" class=\"data row0 col9\" >1.7740%</td>\n",
       "      <td id=\"T_3d54f_row0_col10\" class=\"data row0 col10\" >Lin30360</td>\n",
       "    </tr>\n",
       "    <tr>\n",
       "      <th id=\"T_3d54f_level0_row1\" class=\"row_heading level0 row1\" >1</th>\n",
       "      <td id=\"T_3d54f_row1_col0\" class=\"data row1 col0\" >2020-05-12</td>\n",
       "      <td id=\"T_3d54f_row1_col1\" class=\"data row1 col1\" >2020-11-12</td>\n",
       "      <td id=\"T_3d54f_row1_col2\" class=\"data row1 col2\" >2020-11-12</td>\n",
       "      <td id=\"T_3d54f_row1_col3\" class=\"data row1 col3\" >20,000,000.00</td>\n",
       "      <td id=\"T_3d54f_row1_col4\" class=\"data row1 col4\" >20,000,000.00</td>\n",
       "      <td id=\"T_3d54f_row1_col5\" class=\"data row1 col5\" >177,400.00</td>\n",
       "      <td id=\"T_3d54f_row1_col6\" class=\"data row1 col6\" >True</td>\n",
       "      <td id=\"T_3d54f_row1_col7\" class=\"data row1 col7\" >20,177,400.00</td>\n",
       "      <td id=\"T_3d54f_row1_col8\" class=\"data row1 col8\" >USD</td>\n",
       "      <td id=\"T_3d54f_row1_col9\" class=\"data row1 col9\" >1.7740%</td>\n",
       "      <td id=\"T_3d54f_row1_col10\" class=\"data row1 col10\" >Lin30360</td>\n",
       "    </tr>\n",
       "  </tbody>\n",
       "</table>\n"
      ],
      "text/plain": [
       "<pandas.io.formats.style.Styler at 0x109c65610>"
      ]
     },
     "execution_count": 53,
     "metadata": {},
     "output_type": "execute_result"
    }
   ],
   "source": [
    "# Se define un list donde almacenar los resultados de la función show\n",
    "tabla = []\n",
    "for i in range(0, fixed_rate_leg.size()):\n",
    "    tabla.append(qcf.show(fixed_rate_leg.get_cashflow_at(i)))\n",
    "\n",
    "# Se utiliza tabla para inicializar el Dataframe\n",
    "columnas = list(qcf.get_column_names(\"FixedRateCashflow\", \"\"))\n",
    "df = pd.DataFrame(tabla, columns=columnas)\n",
    "\n",
    "# Se despliega la data en este formato\n",
    "df.style.format(format_dict)"
   ]
  },
  {
   "cell_type": "markdown",
   "metadata": {},
   "source": [
    "Se calcula ahora el valor presente:"
   ]
  },
  {
   "cell_type": "code",
   "execution_count": 54,
   "metadata": {
    "ExecuteTime": {
     "end_time": "2022-01-24T13:13:31.815022Z",
     "start_time": "2022-01-24T13:13:31.800023Z"
    },
    "execution": {
     "iopub.execute_input": "2023-10-16T14:40:44.736168Z",
     "iopub.status.busy": "2023-10-16T14:40:44.736036Z",
     "iopub.status.idle": "2023-10-16T14:40:44.737952Z",
     "shell.execute_reply": "2023-10-16T14:40:44.737646Z",
     "shell.execute_reply.started": "2023-10-16T14:40:44.736162Z"
    }
   },
   "outputs": [
    {
     "name": "stdout",
     "output_type": "stream",
     "text": [
      "Valor presente de la pata fija es: 20,072,981\n"
     ]
    }
   ],
   "source": [
    "vp_fija = pv.pv(fecha_hoy, fixed_rate_leg, zz2)\n",
    "print(\"Valor presente de la pata fija es: {0:,.0f}\".format(vp_fija))"
   ]
  },
  {
   "cell_type": "markdown",
   "metadata": {},
   "source": [
    "Al calcular el valor presente, también se calculan las derivadas del valor presente respecto a cada uno de los vértices de la curva."
   ]
  },
  {
   "cell_type": "code",
   "execution_count": 55,
   "metadata": {
    "ExecuteTime": {
     "end_time": "2022-01-24T13:13:31.831021Z",
     "start_time": "2022-01-24T13:13:31.816022Z"
    },
    "execution": {
     "iopub.execute_input": "2023-10-16T14:40:44.738336Z",
     "iopub.status.busy": "2023-10-16T14:40:44.738264Z",
     "iopub.status.idle": "2023-10-16T14:40:44.740160Z",
     "shell.execute_reply": "2023-10-16T14:40:44.739808Z",
     "shell.execute_reply.started": "2023-10-16T14:40:44.738330Z"
    }
   },
   "outputs": [],
   "source": [
    "der = pv.get_derivatives()"
   ]
  },
  {
   "cell_type": "markdown",
   "metadata": {},
   "source": [
    "Con esas derivadas, se puede calcular la sensibilidad a la curva cupón cero a un movimiento de 1 punto básico."
   ]
  },
  {
   "cell_type": "code",
   "execution_count": 56,
   "metadata": {
    "ExecuteTime": {
     "end_time": "2022-01-24T13:13:31.846023Z",
     "start_time": "2022-01-24T13:13:31.832021Z"
    },
    "execution": {
     "iopub.execute_input": "2023-10-16T14:40:44.740594Z",
     "iopub.status.busy": "2023-10-16T14:40:44.740495Z",
     "iopub.status.idle": "2023-10-16T14:40:44.743204Z",
     "shell.execute_reply": "2023-10-16T14:40:44.742979Z",
     "shell.execute_reply.started": "2023-10-16T14:40:44.740587Z"
    }
   },
   "outputs": [
    {
     "name": "stdout",
     "output_type": "stream",
     "text": [
      "Sensibilidad en 0: 0\n",
      "Sensibilidad en 1: 0\n",
      "Sensibilidad en 2: 0\n",
      "Sensibilidad en 3: 0\n",
      "Sensibilidad en 4: 0\n",
      "Sensibilidad en 5: 0\n",
      "Sensibilidad en 6: -1\n",
      "Sensibilidad en 7: -4\n",
      "Sensibilidad en 8: 0\n",
      "Sensibilidad en 9: 0\n",
      "Sensibilidad en 10: 0\n",
      "Sensibilidad en 11: 0\n",
      "Sensibilidad en 12: -282\n",
      "Sensibilidad en 13: -1,353\n",
      "Sensibilidad en 14: 0\n",
      "Sensibilidad en 15: 0\n",
      "Sensibilidad en 16: 0\n",
      "Sensibilidad en 17: 0\n",
      "Sensibilidad en 18: 0\n",
      "Sensibilidad en 19: 0\n",
      "Sensibilidad en 20: 0\n",
      "Sensibilidad en 21: 0\n",
      "Sensibilidad en 22: 0\n",
      "Sensibilidad en 23: 0\n",
      "Sensibilidad en 24: 0\n",
      "Sensibilidad en 25: 0\n",
      "Sensibilidad en 26: 0\n",
      "Sensibilidad en 27: 0\n",
      "Sensibilidad total: -1,641\n"
     ]
    }
   ],
   "source": [
    "i = 0\n",
    "bp = .0001\n",
    "total = 0\n",
    "for d in der:\n",
    "    total += d * bp\n",
    "    print(\"Sensibilidad en {0:}: {1:0,.0f}\".format(i, d * bp))\n",
    "    i += 1\n",
    "print(\"Sensibilidad total: {0:,.0f}\".format(total))"
   ]
  },
  {
   "cell_type": "markdown",
   "metadata": {},
   "source": [
    "Se puede verificar la sensibilidad por diferencias finitas."
   ]
  },
  {
   "cell_type": "markdown",
   "metadata": {},
   "source": [
    "Se calcula el valor presente con las curvas desplazadas."
   ]
  },
  {
   "cell_type": "code",
   "execution_count": 57,
   "metadata": {
    "ExecuteTime": {
     "end_time": "2022-01-24T13:13:31.861023Z",
     "start_time": "2022-01-24T13:13:31.849023Z"
    },
    "execution": {
     "iopub.execute_input": "2023-10-16T14:40:44.743771Z",
     "iopub.status.busy": "2023-10-16T14:40:44.743652Z",
     "iopub.status.idle": "2023-10-16T14:40:44.745692Z",
     "shell.execute_reply": "2023-10-16T14:40:44.745470Z",
     "shell.execute_reply.started": "2023-10-16T14:40:44.743761Z"
    }
   },
   "outputs": [
    {
     "name": "stdout",
     "output_type": "stream",
     "text": [
      "Valor presente up de la pata fija es: 20,071,628\n",
      "Valor presente down de la pata fija es: 20,074,334\n"
     ]
    }
   ],
   "source": [
    "vp_fija_sens_up = pv.pv(fecha_hoy, fixed_rate_leg, zz2_sens_up)\n",
    "vp_fija_sens_down = pv.pv(fecha_hoy, fixed_rate_leg, zz2_sens_down)\n",
    "print(\"Valor presente up de la pata fija es: {0:,.0f}\".format(vp_fija_sens_up))\n",
    "print(\"Valor presente down de la pata fija es: {0:,.0f}\".format(\n",
    "    vp_fija_sens_down))"
   ]
  },
  {
   "cell_type": "markdown",
   "metadata": {},
   "source": [
    "Finalmente, se calcula la sensibilidad (usando la aproximación central por diferencias finitas)."
   ]
  },
  {
   "cell_type": "code",
   "execution_count": 58,
   "metadata": {
    "ExecuteTime": {
     "end_time": "2022-01-24T13:13:31.877020Z",
     "start_time": "2022-01-24T13:13:31.862022Z"
    },
    "execution": {
     "iopub.execute_input": "2023-10-16T14:40:44.746207Z",
     "iopub.status.busy": "2023-10-16T14:40:44.746096Z",
     "iopub.status.idle": "2023-10-16T14:40:44.747971Z",
     "shell.execute_reply": "2023-10-16T14:40:44.747737Z",
     "shell.execute_reply.started": "2023-10-16T14:40:44.746196Z"
    }
   },
   "outputs": [
    {
     "name": "stdout",
     "output_type": "stream",
     "text": [
      "Sensibilidad por diferencias finitas: -1,353\n"
     ]
    }
   ],
   "source": [
    "print(\"Sensibilidad por diferencias finitas: {0:,.0f}\".format(\n",
    "    (vp_fija_sens_up - vp_fija_sens_down) / 2))"
   ]
  },
  {
   "cell_type": "markdown",
   "metadata": {},
   "source": [
    "Tanto el VP como la sensibilidad coinciden con lo que muestra FD en la pata fija de la operación 2879."
   ]
  },
  {
   "cell_type": "markdown",
   "metadata": {},
   "source": [
    "### IcpClpCashflow2 Leg"
   ]
  },
  {
   "cell_type": "code",
   "execution_count": 59,
   "metadata": {
    "ExecuteTime": {
     "end_time": "2022-01-24T13:13:31.893021Z",
     "start_time": "2022-01-24T13:13:31.878021Z"
    },
    "execution": {
     "iopub.execute_input": "2023-10-16T14:40:44.748406Z",
     "iopub.status.busy": "2023-10-16T14:40:44.748349Z",
     "iopub.status.idle": "2023-10-16T14:40:44.750668Z",
     "shell.execute_reply": "2023-10-16T14:40:44.750454Z",
     "shell.execute_reply.started": "2023-10-16T14:40:44.748400Z"
    }
   },
   "outputs": [],
   "source": [
    "# Se da de alta los parámetros requeridos\n",
    "rp = qcf.RecPay.RECEIVE\n",
    "fecha_inicio = qcf.QCDate(10,1,2019)\n",
    "fecha_final = qcf.QCDate(10,7,2029)\n",
    "bus_adj_rule = qcf.BusyAdjRules.FOLLOW\n",
    "periodicidad_pago = qcf.Tenor('2Y')\n",
    "periodo_irregular_pago = qcf.StubPeriod.SHORTFRONT\n",
    "calendario = qcf.BusinessCalendar(fecha_inicio, 20)\n",
    "lag_pago = 0\n",
    "nominal = 38_000_000_000.0\n",
    "amort_es_flujo = True\n",
    "spread = .0\n",
    "gearing = 1.0\n",
    "\n",
    "icp_clp2_leg = qcf.LegFactory.build_bullet_icp_clp2_leg(\n",
    "    rp,\n",
    "    fecha_inicio,\n",
    "    fecha_final,\n",
    "    bus_adj_rule,\n",
    "    periodicidad_pago,\n",
    "    periodo_irregular_pago,\n",
    "    calendario,\n",
    "    lag_pago,\n",
    "    nominal,\n",
    "    amort_es_flujo,\n",
    "    spread,\n",
    "    gearing,\n",
    "    True\n",
    ")"
   ]
  },
  {
   "cell_type": "code",
   "execution_count": 60,
   "metadata": {
    "ExecuteTime": {
     "end_time": "2022-01-24T13:13:31.909021Z",
     "start_time": "2022-01-24T13:13:31.894023Z"
    },
    "execution": {
     "iopub.execute_input": "2023-10-16T14:40:44.751210Z",
     "iopub.status.busy": "2023-10-16T14:40:44.751006Z",
     "iopub.status.idle": "2023-10-16T14:40:44.756597Z",
     "shell.execute_reply": "2023-10-16T14:40:44.756380Z",
     "shell.execute_reply.started": "2023-10-16T14:40:44.751203Z"
    }
   },
   "outputs": [
    {
     "data": {
      "text/html": [
       "<style type=\"text/css\">\n",
       "</style>\n",
       "<table id=\"T_dc5ad\">\n",
       "  <thead>\n",
       "    <tr>\n",
       "      <th class=\"blank level0\" >&nbsp;</th>\n",
       "      <th id=\"T_dc5ad_level0_col0\" class=\"col_heading level0 col0\" >fecha_inicial</th>\n",
       "      <th id=\"T_dc5ad_level0_col1\" class=\"col_heading level0 col1\" >fecha_final</th>\n",
       "      <th id=\"T_dc5ad_level0_col2\" class=\"col_heading level0 col2\" >fecha_pago</th>\n",
       "      <th id=\"T_dc5ad_level0_col3\" class=\"col_heading level0 col3\" >nominal</th>\n",
       "      <th id=\"T_dc5ad_level0_col4\" class=\"col_heading level0 col4\" >amortizacion</th>\n",
       "      <th id=\"T_dc5ad_level0_col5\" class=\"col_heading level0 col5\" >amort_es_flujo</th>\n",
       "      <th id=\"T_dc5ad_level0_col6\" class=\"col_heading level0 col6\" >flujo</th>\n",
       "      <th id=\"T_dc5ad_level0_col7\" class=\"col_heading level0 col7\" >moneda</th>\n",
       "      <th id=\"T_dc5ad_level0_col8\" class=\"col_heading level0 col8\" >icp_inicial</th>\n",
       "      <th id=\"T_dc5ad_level0_col9\" class=\"col_heading level0 col9\" >icp_final</th>\n",
       "      <th id=\"T_dc5ad_level0_col10\" class=\"col_heading level0 col10\" >valor_tasa</th>\n",
       "      <th id=\"T_dc5ad_level0_col11\" class=\"col_heading level0 col11\" >interes</th>\n",
       "      <th id=\"T_dc5ad_level0_col12\" class=\"col_heading level0 col12\" >spread</th>\n",
       "      <th id=\"T_dc5ad_level0_col13\" class=\"col_heading level0 col13\" >gearing</th>\n",
       "      <th id=\"T_dc5ad_level0_col14\" class=\"col_heading level0 col14\" >tipo_tasa</th>\n",
       "    </tr>\n",
       "  </thead>\n",
       "  <tbody>\n",
       "    <tr>\n",
       "      <th id=\"T_dc5ad_level0_row0\" class=\"row_heading level0 row0\" >0</th>\n",
       "      <td id=\"T_dc5ad_row0_col0\" class=\"data row0 col0\" >2019-01-10</td>\n",
       "      <td id=\"T_dc5ad_row0_col1\" class=\"data row0 col1\" >2019-07-10</td>\n",
       "      <td id=\"T_dc5ad_row0_col2\" class=\"data row0 col2\" >2019-07-10</td>\n",
       "      <td id=\"T_dc5ad_row0_col3\" class=\"data row0 col3\" >38,000,000,000.00</td>\n",
       "      <td id=\"T_dc5ad_row0_col4\" class=\"data row0 col4\" >0.00</td>\n",
       "      <td id=\"T_dc5ad_row0_col5\" class=\"data row0 col5\" >True</td>\n",
       "      <td id=\"T_dc5ad_row0_col6\" class=\"data row0 col6\" >0.00</td>\n",
       "      <td id=\"T_dc5ad_row0_col7\" class=\"data row0 col7\" >CLP</td>\n",
       "      <td id=\"T_dc5ad_row0_col8\" class=\"data row0 col8\" >10,000.00</td>\n",
       "      <td id=\"T_dc5ad_row0_col9\" class=\"data row0 col9\" >10,000.00</td>\n",
       "      <td id=\"T_dc5ad_row0_col10\" class=\"data row0 col10\" >0.0000%</td>\n",
       "      <td id=\"T_dc5ad_row0_col11\" class=\"data row0 col11\" >0.00</td>\n",
       "      <td id=\"T_dc5ad_row0_col12\" class=\"data row0 col12\" >0.0000%</td>\n",
       "      <td id=\"T_dc5ad_row0_col13\" class=\"data row0 col13\" >1.00</td>\n",
       "      <td id=\"T_dc5ad_row0_col14\" class=\"data row0 col14\" >LinAct360</td>\n",
       "    </tr>\n",
       "    <tr>\n",
       "      <th id=\"T_dc5ad_level0_row1\" class=\"row_heading level0 row1\" >1</th>\n",
       "      <td id=\"T_dc5ad_row1_col0\" class=\"data row1 col0\" >2019-07-10</td>\n",
       "      <td id=\"T_dc5ad_row1_col1\" class=\"data row1 col1\" >2021-07-12</td>\n",
       "      <td id=\"T_dc5ad_row1_col2\" class=\"data row1 col2\" >2021-07-12</td>\n",
       "      <td id=\"T_dc5ad_row1_col3\" class=\"data row1 col3\" >38,000,000,000.00</td>\n",
       "      <td id=\"T_dc5ad_row1_col4\" class=\"data row1 col4\" >0.00</td>\n",
       "      <td id=\"T_dc5ad_row1_col5\" class=\"data row1 col5\" >True</td>\n",
       "      <td id=\"T_dc5ad_row1_col6\" class=\"data row1 col6\" >0.00</td>\n",
       "      <td id=\"T_dc5ad_row1_col7\" class=\"data row1 col7\" >CLP</td>\n",
       "      <td id=\"T_dc5ad_row1_col8\" class=\"data row1 col8\" >10,000.00</td>\n",
       "      <td id=\"T_dc5ad_row1_col9\" class=\"data row1 col9\" >10,000.00</td>\n",
       "      <td id=\"T_dc5ad_row1_col10\" class=\"data row1 col10\" >0.0000%</td>\n",
       "      <td id=\"T_dc5ad_row1_col11\" class=\"data row1 col11\" >0.00</td>\n",
       "      <td id=\"T_dc5ad_row1_col12\" class=\"data row1 col12\" >0.0000%</td>\n",
       "      <td id=\"T_dc5ad_row1_col13\" class=\"data row1 col13\" >1.00</td>\n",
       "      <td id=\"T_dc5ad_row1_col14\" class=\"data row1 col14\" >LinAct360</td>\n",
       "    </tr>\n",
       "    <tr>\n",
       "      <th id=\"T_dc5ad_level0_row2\" class=\"row_heading level0 row2\" >2</th>\n",
       "      <td id=\"T_dc5ad_row2_col0\" class=\"data row2 col0\" >2021-07-12</td>\n",
       "      <td id=\"T_dc5ad_row2_col1\" class=\"data row2 col1\" >2023-07-10</td>\n",
       "      <td id=\"T_dc5ad_row2_col2\" class=\"data row2 col2\" >2023-07-10</td>\n",
       "      <td id=\"T_dc5ad_row2_col3\" class=\"data row2 col3\" >38,000,000,000.00</td>\n",
       "      <td id=\"T_dc5ad_row2_col4\" class=\"data row2 col4\" >0.00</td>\n",
       "      <td id=\"T_dc5ad_row2_col5\" class=\"data row2 col5\" >True</td>\n",
       "      <td id=\"T_dc5ad_row2_col6\" class=\"data row2 col6\" >0.00</td>\n",
       "      <td id=\"T_dc5ad_row2_col7\" class=\"data row2 col7\" >CLP</td>\n",
       "      <td id=\"T_dc5ad_row2_col8\" class=\"data row2 col8\" >10,000.00</td>\n",
       "      <td id=\"T_dc5ad_row2_col9\" class=\"data row2 col9\" >10,000.00</td>\n",
       "      <td id=\"T_dc5ad_row2_col10\" class=\"data row2 col10\" >0.0000%</td>\n",
       "      <td id=\"T_dc5ad_row2_col11\" class=\"data row2 col11\" >0.00</td>\n",
       "      <td id=\"T_dc5ad_row2_col12\" class=\"data row2 col12\" >0.0000%</td>\n",
       "      <td id=\"T_dc5ad_row2_col13\" class=\"data row2 col13\" >1.00</td>\n",
       "      <td id=\"T_dc5ad_row2_col14\" class=\"data row2 col14\" >LinAct360</td>\n",
       "    </tr>\n",
       "    <tr>\n",
       "      <th id=\"T_dc5ad_level0_row3\" class=\"row_heading level0 row3\" >3</th>\n",
       "      <td id=\"T_dc5ad_row3_col0\" class=\"data row3 col0\" >2023-07-10</td>\n",
       "      <td id=\"T_dc5ad_row3_col1\" class=\"data row3 col1\" >2025-07-10</td>\n",
       "      <td id=\"T_dc5ad_row3_col2\" class=\"data row3 col2\" >2025-07-10</td>\n",
       "      <td id=\"T_dc5ad_row3_col3\" class=\"data row3 col3\" >38,000,000,000.00</td>\n",
       "      <td id=\"T_dc5ad_row3_col4\" class=\"data row3 col4\" >0.00</td>\n",
       "      <td id=\"T_dc5ad_row3_col5\" class=\"data row3 col5\" >True</td>\n",
       "      <td id=\"T_dc5ad_row3_col6\" class=\"data row3 col6\" >0.00</td>\n",
       "      <td id=\"T_dc5ad_row3_col7\" class=\"data row3 col7\" >CLP</td>\n",
       "      <td id=\"T_dc5ad_row3_col8\" class=\"data row3 col8\" >10,000.00</td>\n",
       "      <td id=\"T_dc5ad_row3_col9\" class=\"data row3 col9\" >10,000.00</td>\n",
       "      <td id=\"T_dc5ad_row3_col10\" class=\"data row3 col10\" >0.0000%</td>\n",
       "      <td id=\"T_dc5ad_row3_col11\" class=\"data row3 col11\" >0.00</td>\n",
       "      <td id=\"T_dc5ad_row3_col12\" class=\"data row3 col12\" >0.0000%</td>\n",
       "      <td id=\"T_dc5ad_row3_col13\" class=\"data row3 col13\" >1.00</td>\n",
       "      <td id=\"T_dc5ad_row3_col14\" class=\"data row3 col14\" >LinAct360</td>\n",
       "    </tr>\n",
       "    <tr>\n",
       "      <th id=\"T_dc5ad_level0_row4\" class=\"row_heading level0 row4\" >4</th>\n",
       "      <td id=\"T_dc5ad_row4_col0\" class=\"data row4 col0\" >2025-07-10</td>\n",
       "      <td id=\"T_dc5ad_row4_col1\" class=\"data row4 col1\" >2027-07-12</td>\n",
       "      <td id=\"T_dc5ad_row4_col2\" class=\"data row4 col2\" >2027-07-12</td>\n",
       "      <td id=\"T_dc5ad_row4_col3\" class=\"data row4 col3\" >38,000,000,000.00</td>\n",
       "      <td id=\"T_dc5ad_row4_col4\" class=\"data row4 col4\" >0.00</td>\n",
       "      <td id=\"T_dc5ad_row4_col5\" class=\"data row4 col5\" >True</td>\n",
       "      <td id=\"T_dc5ad_row4_col6\" class=\"data row4 col6\" >0.00</td>\n",
       "      <td id=\"T_dc5ad_row4_col7\" class=\"data row4 col7\" >CLP</td>\n",
       "      <td id=\"T_dc5ad_row4_col8\" class=\"data row4 col8\" >10,000.00</td>\n",
       "      <td id=\"T_dc5ad_row4_col9\" class=\"data row4 col9\" >10,000.00</td>\n",
       "      <td id=\"T_dc5ad_row4_col10\" class=\"data row4 col10\" >0.0000%</td>\n",
       "      <td id=\"T_dc5ad_row4_col11\" class=\"data row4 col11\" >0.00</td>\n",
       "      <td id=\"T_dc5ad_row4_col12\" class=\"data row4 col12\" >0.0000%</td>\n",
       "      <td id=\"T_dc5ad_row4_col13\" class=\"data row4 col13\" >1.00</td>\n",
       "      <td id=\"T_dc5ad_row4_col14\" class=\"data row4 col14\" >LinAct360</td>\n",
       "    </tr>\n",
       "    <tr>\n",
       "      <th id=\"T_dc5ad_level0_row5\" class=\"row_heading level0 row5\" >5</th>\n",
       "      <td id=\"T_dc5ad_row5_col0\" class=\"data row5 col0\" >2027-07-12</td>\n",
       "      <td id=\"T_dc5ad_row5_col1\" class=\"data row5 col1\" >2029-07-10</td>\n",
       "      <td id=\"T_dc5ad_row5_col2\" class=\"data row5 col2\" >2029-07-10</td>\n",
       "      <td id=\"T_dc5ad_row5_col3\" class=\"data row5 col3\" >38,000,000,000.00</td>\n",
       "      <td id=\"T_dc5ad_row5_col4\" class=\"data row5 col4\" >38,000,000,000.00</td>\n",
       "      <td id=\"T_dc5ad_row5_col5\" class=\"data row5 col5\" >True</td>\n",
       "      <td id=\"T_dc5ad_row5_col6\" class=\"data row5 col6\" >38,000,000,000.00</td>\n",
       "      <td id=\"T_dc5ad_row5_col7\" class=\"data row5 col7\" >CLP</td>\n",
       "      <td id=\"T_dc5ad_row5_col8\" class=\"data row5 col8\" >10,000.00</td>\n",
       "      <td id=\"T_dc5ad_row5_col9\" class=\"data row5 col9\" >10,000.00</td>\n",
       "      <td id=\"T_dc5ad_row5_col10\" class=\"data row5 col10\" >0.0000%</td>\n",
       "      <td id=\"T_dc5ad_row5_col11\" class=\"data row5 col11\" >0.00</td>\n",
       "      <td id=\"T_dc5ad_row5_col12\" class=\"data row5 col12\" >0.0000%</td>\n",
       "      <td id=\"T_dc5ad_row5_col13\" class=\"data row5 col13\" >1.00</td>\n",
       "      <td id=\"T_dc5ad_row5_col14\" class=\"data row5 col14\" >LinAct360</td>\n",
       "    </tr>\n",
       "  </tbody>\n",
       "</table>\n"
      ],
      "text/plain": [
       "<pandas.io.formats.style.Styler at 0x11e764490>"
      ]
     },
     "execution_count": 60,
     "metadata": {},
     "output_type": "execute_result"
    }
   ],
   "source": [
    "# Se define un list donde almacenar los resultados de la función show\n",
    "tabla = []\n",
    "for i in range(0, icp_clp2_leg.size()):\n",
    "    tabla.append(qcf.show(icp_clp2_leg.get_cashflow_at(i)))\n",
    "\n",
    "# Se utiliza tabla para inicializar el Dataframe\n",
    "columnas = list(qcf.get_column_names(\"IcpClpCashflow2\", \"\"))\n",
    "df9 = pd.DataFrame(tabla, columns=columnas)\n",
    "\n",
    "# Se despliega la data en este formato\n",
    "df9.style.format(format_dict)"
   ]
  },
  {
   "cell_type": "markdown",
   "metadata": {},
   "source": [
    "Notar que al dar de alta un Leg con IcpClpCashflow2, los valores futuros de los ICP son los default (=10,000.00). Por lo tanto, el primer paso para valorizar estos cashflows, es calcular los valores forward de los índices.\n",
    "\n",
    "Se comienza dando de alta un objeto de tipo `ForwardRates`."
   ]
  },
  {
   "cell_type": "code",
   "execution_count": 61,
   "metadata": {
    "ExecuteTime": {
     "end_time": "2022-01-24T13:13:31.925020Z",
     "start_time": "2022-01-24T13:13:31.910022Z"
    },
    "execution": {
     "iopub.execute_input": "2023-10-16T14:40:44.757150Z",
     "iopub.status.busy": "2023-10-16T14:40:44.757048Z",
     "iopub.status.idle": "2023-10-16T14:40:44.758836Z",
     "shell.execute_reply": "2023-10-16T14:40:44.758493Z",
     "shell.execute_reply.started": "2023-10-16T14:40:44.757143Z"
    }
   },
   "outputs": [],
   "source": [
    "fwd_rates = qcf.ForwardRates()"
   ]
  },
  {
   "cell_type": "markdown",
   "metadata": {},
   "source": [
    "Se calculan los índices forward."
   ]
  },
  {
   "cell_type": "code",
   "execution_count": 62,
   "metadata": {
    "ExecuteTime": {
     "end_time": "2022-01-24T13:13:31.941020Z",
     "start_time": "2022-01-24T13:13:31.926022Z"
    },
    "execution": {
     "iopub.execute_input": "2023-10-16T14:40:44.759323Z",
     "iopub.status.busy": "2023-10-16T14:40:44.759254Z",
     "iopub.status.idle": "2023-10-16T14:40:44.761542Z",
     "shell.execute_reply": "2023-10-16T14:40:44.761301Z",
     "shell.execute_reply.started": "2023-10-16T14:40:44.759316Z"
    }
   },
   "outputs": [],
   "source": [
    "icp_val = 18_890.34 # icp a la fecha de proceso\n",
    "fecha_hoy = qcf.QCDate(5, 3, 2020)\n",
    "\n",
    "for i in range(icp_clp2_leg.size()):\n",
    "    cashflow = icp_clp2_leg.get_cashflow_at(i)\n",
    "    if cashflow.get_start_date() <= fecha_hoy <= cashflow.get_end_date():\n",
    "            index = i\n",
    "\n",
    "icp_fecha_inicio_cupon_vigente = 18_376.69\n",
    "icp_clp2_leg.get_cashflow_at(index).set_start_date_icp(icp_fecha_inicio_cupon_vigente)\n",
    "\n",
    "fwd_rates.set_rates_icp_clp_leg(fecha_hoy, icp_val, icp_clp2_leg, zz1)"
   ]
  },
  {
   "cell_type": "code",
   "execution_count": 63,
   "metadata": {
    "ExecuteTime": {
     "end_time": "2022-01-24T13:13:31.957022Z",
     "start_time": "2022-01-24T13:13:31.942021Z"
    },
    "execution": {
     "iopub.execute_input": "2023-10-16T14:40:44.761997Z",
     "iopub.status.busy": "2023-10-16T14:40:44.761895Z",
     "iopub.status.idle": "2023-10-16T14:40:44.766841Z",
     "shell.execute_reply": "2023-10-16T14:40:44.766489Z",
     "shell.execute_reply.started": "2023-10-16T14:40:44.761991Z"
    }
   },
   "outputs": [
    {
     "data": {
      "text/html": [
       "<style type=\"text/css\">\n",
       "</style>\n",
       "<table id=\"T_76a5a\">\n",
       "  <thead>\n",
       "    <tr>\n",
       "      <th class=\"blank level0\" >&nbsp;</th>\n",
       "      <th id=\"T_76a5a_level0_col0\" class=\"col_heading level0 col0\" >fecha_inicial</th>\n",
       "      <th id=\"T_76a5a_level0_col1\" class=\"col_heading level0 col1\" >fecha_final</th>\n",
       "      <th id=\"T_76a5a_level0_col2\" class=\"col_heading level0 col2\" >fecha_pago</th>\n",
       "      <th id=\"T_76a5a_level0_col3\" class=\"col_heading level0 col3\" >nominal</th>\n",
       "      <th id=\"T_76a5a_level0_col4\" class=\"col_heading level0 col4\" >amortizacion</th>\n",
       "      <th id=\"T_76a5a_level0_col5\" class=\"col_heading level0 col5\" >amort_es_flujo</th>\n",
       "      <th id=\"T_76a5a_level0_col6\" class=\"col_heading level0 col6\" >flujo</th>\n",
       "      <th id=\"T_76a5a_level0_col7\" class=\"col_heading level0 col7\" >moneda</th>\n",
       "      <th id=\"T_76a5a_level0_col8\" class=\"col_heading level0 col8\" >icp_inicial</th>\n",
       "      <th id=\"T_76a5a_level0_col9\" class=\"col_heading level0 col9\" >icp_final</th>\n",
       "      <th id=\"T_76a5a_level0_col10\" class=\"col_heading level0 col10\" >valor_tasa</th>\n",
       "      <th id=\"T_76a5a_level0_col11\" class=\"col_heading level0 col11\" >interes</th>\n",
       "      <th id=\"T_76a5a_level0_col12\" class=\"col_heading level0 col12\" >spread</th>\n",
       "      <th id=\"T_76a5a_level0_col13\" class=\"col_heading level0 col13\" >gearing</th>\n",
       "      <th id=\"T_76a5a_level0_col14\" class=\"col_heading level0 col14\" >tipo_tasa</th>\n",
       "    </tr>\n",
       "  </thead>\n",
       "  <tbody>\n",
       "    <tr>\n",
       "      <th id=\"T_76a5a_level0_row0\" class=\"row_heading level0 row0\" >0</th>\n",
       "      <td id=\"T_76a5a_row0_col0\" class=\"data row0 col0\" >2019-01-10</td>\n",
       "      <td id=\"T_76a5a_row0_col1\" class=\"data row0 col1\" >2019-07-10</td>\n",
       "      <td id=\"T_76a5a_row0_col2\" class=\"data row0 col2\" >2019-07-10</td>\n",
       "      <td id=\"T_76a5a_row0_col3\" class=\"data row0 col3\" >38,000,000,000.00</td>\n",
       "      <td id=\"T_76a5a_row0_col4\" class=\"data row0 col4\" >0.00</td>\n",
       "      <td id=\"T_76a5a_row0_col5\" class=\"data row0 col5\" >True</td>\n",
       "      <td id=\"T_76a5a_row0_col6\" class=\"data row0 col6\" >0.00</td>\n",
       "      <td id=\"T_76a5a_row0_col7\" class=\"data row0 col7\" >CLP</td>\n",
       "      <td id=\"T_76a5a_row0_col8\" class=\"data row0 col8\" >10,000.00</td>\n",
       "      <td id=\"T_76a5a_row0_col9\" class=\"data row0 col9\" >10,000.00</td>\n",
       "      <td id=\"T_76a5a_row0_col10\" class=\"data row0 col10\" >0.0000%</td>\n",
       "      <td id=\"T_76a5a_row0_col11\" class=\"data row0 col11\" >0.00</td>\n",
       "      <td id=\"T_76a5a_row0_col12\" class=\"data row0 col12\" >0.0000%</td>\n",
       "      <td id=\"T_76a5a_row0_col13\" class=\"data row0 col13\" >1.00</td>\n",
       "      <td id=\"T_76a5a_row0_col14\" class=\"data row0 col14\" >LinAct360</td>\n",
       "    </tr>\n",
       "    <tr>\n",
       "      <th id=\"T_76a5a_level0_row1\" class=\"row_heading level0 row1\" >1</th>\n",
       "      <td id=\"T_76a5a_row1_col0\" class=\"data row1 col0\" >2019-07-10</td>\n",
       "      <td id=\"T_76a5a_row1_col1\" class=\"data row1 col1\" >2021-07-12</td>\n",
       "      <td id=\"T_76a5a_row1_col2\" class=\"data row1 col2\" >2021-07-12</td>\n",
       "      <td id=\"T_76a5a_row1_col3\" class=\"data row1 col3\" >38,000,000,000.00</td>\n",
       "      <td id=\"T_76a5a_row1_col4\" class=\"data row1 col4\" >0.00</td>\n",
       "      <td id=\"T_76a5a_row1_col5\" class=\"data row1 col5\" >True</td>\n",
       "      <td id=\"T_76a5a_row1_col6\" class=\"data row1 col6\" >1,760,277,860.28</td>\n",
       "      <td id=\"T_76a5a_row1_col7\" class=\"data row1 col7\" >CLP</td>\n",
       "      <td id=\"T_76a5a_row1_col8\" class=\"data row1 col8\" >18,376.69</td>\n",
       "      <td id=\"T_76a5a_row1_col9\" class=\"data row1 col9\" >19,227.96</td>\n",
       "      <td id=\"T_76a5a_row1_col10\" class=\"data row1 col10\" >2.2800%</td>\n",
       "      <td id=\"T_76a5a_row1_col11\" class=\"data row1 col11\" >1,764,086,666.67</td>\n",
       "      <td id=\"T_76a5a_row1_col12\" class=\"data row1 col12\" >0.0000%</td>\n",
       "      <td id=\"T_76a5a_row1_col13\" class=\"data row1 col13\" >1.00</td>\n",
       "      <td id=\"T_76a5a_row1_col14\" class=\"data row1 col14\" >LinAct360</td>\n",
       "    </tr>\n",
       "    <tr>\n",
       "      <th id=\"T_76a5a_level0_row2\" class=\"row_heading level0 row2\" >2</th>\n",
       "      <td id=\"T_76a5a_row2_col0\" class=\"data row2 col0\" >2021-07-12</td>\n",
       "      <td id=\"T_76a5a_row2_col1\" class=\"data row2 col1\" >2023-07-10</td>\n",
       "      <td id=\"T_76a5a_row2_col2\" class=\"data row2 col2\" >2023-07-10</td>\n",
       "      <td id=\"T_76a5a_row2_col3\" class=\"data row2 col3\" >38,000,000,000.00</td>\n",
       "      <td id=\"T_76a5a_row2_col4\" class=\"data row2 col4\" >0.00</td>\n",
       "      <td id=\"T_76a5a_row2_col5\" class=\"data row2 col5\" >True</td>\n",
       "      <td id=\"T_76a5a_row2_col6\" class=\"data row2 col6\" >1,260,461,341.38</td>\n",
       "      <td id=\"T_76a5a_row2_col7\" class=\"data row2 col7\" >CLP</td>\n",
       "      <td id=\"T_76a5a_row2_col8\" class=\"data row2 col8\" >19,227.96</td>\n",
       "      <td id=\"T_76a5a_row2_col9\" class=\"data row2 col9\" >19,865.75</td>\n",
       "      <td id=\"T_76a5a_row2_col10\" class=\"data row2 col10\" >1.6400%</td>\n",
       "      <td id=\"T_76a5a_row2_col11\" class=\"data row2 col11\" >1,260,248,888.89</td>\n",
       "      <td id=\"T_76a5a_row2_col12\" class=\"data row2 col12\" >0.0000%</td>\n",
       "      <td id=\"T_76a5a_row2_col13\" class=\"data row2 col13\" >1.00</td>\n",
       "      <td id=\"T_76a5a_row2_col14\" class=\"data row2 col14\" >LinAct360</td>\n",
       "    </tr>\n",
       "    <tr>\n",
       "      <th id=\"T_76a5a_level0_row3\" class=\"row_heading level0 row3\" >3</th>\n",
       "      <td id=\"T_76a5a_row3_col0\" class=\"data row3 col0\" >2023-07-10</td>\n",
       "      <td id=\"T_76a5a_row3_col1\" class=\"data row3 col1\" >2025-07-10</td>\n",
       "      <td id=\"T_76a5a_row3_col2\" class=\"data row3 col2\" >2025-07-10</td>\n",
       "      <td id=\"T_76a5a_row3_col3\" class=\"data row3 col3\" >38,000,000,000.00</td>\n",
       "      <td id=\"T_76a5a_row3_col4\" class=\"data row3 col4\" >0.00</td>\n",
       "      <td id=\"T_76a5a_row3_col5\" class=\"data row3 col5\" >True</td>\n",
       "      <td id=\"T_76a5a_row3_col6\" class=\"data row3 col6\" >2,219,270,452.18</td>\n",
       "      <td id=\"T_76a5a_row3_col7\" class=\"data row3 col7\" >CLP</td>\n",
       "      <td id=\"T_76a5a_row3_col8\" class=\"data row3 col8\" >19,865.75</td>\n",
       "      <td id=\"T_76a5a_row3_col9\" class=\"data row3 col9\" >21,025.94</td>\n",
       "      <td id=\"T_76a5a_row3_col10\" class=\"data row3 col10\" >2.8800%</td>\n",
       "      <td id=\"T_76a5a_row3_col11\" class=\"data row3 col11\" >2,222,240,000.00</td>\n",
       "      <td id=\"T_76a5a_row3_col12\" class=\"data row3 col12\" >0.0000%</td>\n",
       "      <td id=\"T_76a5a_row3_col13\" class=\"data row3 col13\" >1.00</td>\n",
       "      <td id=\"T_76a5a_row3_col14\" class=\"data row3 col14\" >LinAct360</td>\n",
       "    </tr>\n",
       "    <tr>\n",
       "      <th id=\"T_76a5a_level0_row4\" class=\"row_heading level0 row4\" >4</th>\n",
       "      <td id=\"T_76a5a_row4_col0\" class=\"data row4 col0\" >2025-07-10</td>\n",
       "      <td id=\"T_76a5a_row4_col1\" class=\"data row4 col1\" >2027-07-12</td>\n",
       "      <td id=\"T_76a5a_row4_col2\" class=\"data row4 col2\" >2027-07-12</td>\n",
       "      <td id=\"T_76a5a_row4_col3\" class=\"data row4 col3\" >38,000,000,000.00</td>\n",
       "      <td id=\"T_76a5a_row4_col4\" class=\"data row4 col4\" >0.00</td>\n",
       "      <td id=\"T_76a5a_row4_col5\" class=\"data row4 col5\" >True</td>\n",
       "      <td id=\"T_76a5a_row4_col6\" class=\"data row4 col6\" >2,921,878,806.15</td>\n",
       "      <td id=\"T_76a5a_row4_col7\" class=\"data row4 col7\" >CLP</td>\n",
       "      <td id=\"T_76a5a_row4_col8\" class=\"data row4 col8\" >21,025.94</td>\n",
       "      <td id=\"T_76a5a_row4_col9\" class=\"data row4 col9\" >22,642.66</td>\n",
       "      <td id=\"T_76a5a_row4_col10\" class=\"data row4 col10\" >3.7800%</td>\n",
       "      <td id=\"T_76a5a_row4_col11\" class=\"data row4 col11\" >2,920,680,000.00</td>\n",
       "      <td id=\"T_76a5a_row4_col12\" class=\"data row4 col12\" >0.0000%</td>\n",
       "      <td id=\"T_76a5a_row4_col13\" class=\"data row4 col13\" >1.00</td>\n",
       "      <td id=\"T_76a5a_row4_col14\" class=\"data row4 col14\" >LinAct360</td>\n",
       "    </tr>\n",
       "    <tr>\n",
       "      <th id=\"T_76a5a_level0_row5\" class=\"row_heading level0 row5\" >5</th>\n",
       "      <td id=\"T_76a5a_row5_col0\" class=\"data row5 col0\" >2027-07-12</td>\n",
       "      <td id=\"T_76a5a_row5_col1\" class=\"data row5 col1\" >2029-07-10</td>\n",
       "      <td id=\"T_76a5a_row5_col2\" class=\"data row5 col2\" >2029-07-10</td>\n",
       "      <td id=\"T_76a5a_row5_col3\" class=\"data row5 col3\" >38,000,000,000.00</td>\n",
       "      <td id=\"T_76a5a_row5_col4\" class=\"data row5 col4\" >38,000,000,000.00</td>\n",
       "      <td id=\"T_76a5a_row5_col5\" class=\"data row5 col5\" >True</td>\n",
       "      <td id=\"T_76a5a_row5_col6\" class=\"data row5 col6\" >41,014,662,342.55</td>\n",
       "      <td id=\"T_76a5a_row5_col7\" class=\"data row5 col7\" >CLP</td>\n",
       "      <td id=\"T_76a5a_row5_col8\" class=\"data row5 col8\" >22,642.66</td>\n",
       "      <td id=\"T_76a5a_row5_col9\" class=\"data row5 col9\" >24,438.98</td>\n",
       "      <td id=\"T_76a5a_row5_col10\" class=\"data row5 col10\" >3.9200%</td>\n",
       "      <td id=\"T_76a5a_row5_col11\" class=\"data row5 col11\" >3,016,440,000.00</td>\n",
       "      <td id=\"T_76a5a_row5_col12\" class=\"data row5 col12\" >0.0000%</td>\n",
       "      <td id=\"T_76a5a_row5_col13\" class=\"data row5 col13\" >1.00</td>\n",
       "      <td id=\"T_76a5a_row5_col14\" class=\"data row5 col14\" >LinAct360</td>\n",
       "    </tr>\n",
       "  </tbody>\n",
       "</table>\n"
      ],
      "text/plain": [
       "<pandas.io.formats.style.Styler at 0x11e778b50>"
      ]
     },
     "execution_count": 63,
     "metadata": {},
     "output_type": "execute_result"
    }
   ],
   "source": [
    "# Se define un list donde almacenar los resultados de la función show\n",
    "tabla = []\n",
    "for i in range(0, icp_clp2_leg.size()):\n",
    "    tabla.append(qcf.show(icp_clp2_leg.get_cashflow_at(i)))\n",
    "\n",
    "# Se utiliza tabla para inicializar el Dataframe\n",
    "columnas = list(qcf.get_column_names(\"IcpClpCashflow2\", \"\"))\n",
    "df9 = pd.DataFrame(tabla, columns=columnas)\n",
    "\n",
    "# Se despliega la data en este formato\n",
    "df9.style.format(format_dict)"
   ]
  },
  {
   "cell_type": "markdown",
   "metadata": {},
   "source": [
    "Con esto, podemos calcular el valor presente."
   ]
  },
  {
   "cell_type": "code",
   "execution_count": 64,
   "metadata": {
    "ExecuteTime": {
     "end_time": "2022-01-24T13:13:31.973020Z",
     "start_time": "2022-01-24T13:13:31.959021Z"
    },
    "execution": {
     "iopub.execute_input": "2023-10-16T14:40:44.767219Z",
     "iopub.status.busy": "2023-10-16T14:40:44.767150Z",
     "iopub.status.idle": "2023-10-16T14:40:44.768961Z",
     "shell.execute_reply": "2023-10-16T14:40:44.768627Z",
     "shell.execute_reply.started": "2023-10-16T14:40:44.767213Z"
    }
   },
   "outputs": [
    {
     "name": "stdout",
     "output_type": "stream",
     "text": [
      "Valor presente pata ICPCLP: 39,062,144,488\n"
     ]
    }
   ],
   "source": [
    "vp_icp_clp = pv.pv(fecha_hoy, icp_clp2_leg, zz1)\n",
    "print(\"Valor presente pata ICPCLP: {0:,.0f}\".format(vp_icp_clp))"
   ]
  },
  {
   "cell_type": "code",
   "execution_count": 65,
   "metadata": {
    "execution": {
     "iopub.execute_input": "2023-10-16T14:40:44.769319Z",
     "iopub.status.busy": "2023-10-16T14:40:44.769231Z",
     "iopub.status.idle": "2023-10-16T14:40:44.771206Z",
     "shell.execute_reply": "2023-10-16T14:40:44.770987Z",
     "shell.execute_reply.started": "2023-10-16T14:40:44.769312Z"
    }
   },
   "outputs": [],
   "source": [
    "csh = icp_clp2_leg.get_cashflow_at(5)"
   ]
  },
  {
   "cell_type": "code",
   "execution_count": 66,
   "metadata": {
    "execution": {
     "iopub.execute_input": "2023-10-16T14:40:44.771755Z",
     "iopub.status.busy": "2023-10-16T14:40:44.771642Z",
     "iopub.status.idle": "2023-10-16T14:40:44.773847Z",
     "shell.execute_reply": "2023-10-16T14:40:44.773538Z",
     "shell.execute_reply.started": "2023-10-16T14:40:44.771747Z"
    }
   },
   "outputs": [
    {
     "data": {
      "text/plain": [
       "31702674802.50826"
      ]
     },
     "execution_count": 66,
     "metadata": {},
     "output_type": "execute_result"
    }
   ],
   "source": [
    "pv.pv(fecha_hoy, csh, zz1)"
   ]
  },
  {
   "cell_type": "markdown",
   "metadata": {},
   "source": [
    "También en este caso es posible calcular la sensibilidad a la curva de descuento."
   ]
  },
  {
   "cell_type": "code",
   "execution_count": 67,
   "metadata": {
    "ExecuteTime": {
     "end_time": "2022-01-24T13:13:31.989020Z",
     "start_time": "2022-01-24T13:13:31.974021Z"
    },
    "execution": {
     "iopub.execute_input": "2023-10-16T14:40:44.774320Z",
     "iopub.status.busy": "2023-10-16T14:40:44.774127Z",
     "iopub.status.idle": "2023-10-16T14:40:44.776177Z",
     "shell.execute_reply": "2023-10-16T14:40:44.775973Z",
     "shell.execute_reply.started": "2023-10-16T14:40:44.774313Z"
    }
   },
   "outputs": [
    {
     "name": "stdout",
     "output_type": "stream",
     "text": [
      "Sensibilidad en 0: -0\n",
      "Sensibilidad en 1: -0\n",
      "Sensibilidad en 2: -0\n",
      "Sensibilidad en 3: -0\n",
      "Sensibilidad en 4: -0\n",
      "Sensibilidad en 5: -0\n",
      "Sensibilidad en 6: -0\n",
      "Sensibilidad en 7: -0\n",
      "Sensibilidad en 8: -0\n",
      "Sensibilidad en 9: -0\n",
      "Sensibilidad en 10: -0\n",
      "Sensibilidad en 11: -0\n",
      "Sensibilidad en 12: -0\n",
      "Sensibilidad en 13: -0\n",
      "Sensibilidad en 14: -15,407,642\n",
      "Sensibilidad en 15: -7,831,157\n",
      "Sensibilidad en 16: -0\n",
      "Sensibilidad en 17: -0\n",
      "Sensibilidad en 18: -0\n"
     ]
    }
   ],
   "source": [
    "der = pv.get_derivatives()\n",
    "i = 0\n",
    "bp = .0001\n",
    "for d in der:\n",
    "    print(\"Sensibilidad en {0:}: {1:0,.0f}\".format(i, d * bp))\n",
    "    i += 1"
   ]
  },
  {
   "cell_type": "markdown",
   "metadata": {},
   "source": [
    "Podemos ver la sensibilidad total:"
   ]
  },
  {
   "cell_type": "code",
   "execution_count": 68,
   "metadata": {
    "ExecuteTime": {
     "end_time": "2022-01-24T13:13:32.004020Z",
     "start_time": "2022-01-24T13:13:31.990022Z"
    },
    "execution": {
     "iopub.execute_input": "2023-10-16T14:40:44.776564Z",
     "iopub.status.busy": "2023-10-16T14:40:44.776508Z",
     "iopub.status.idle": "2023-10-16T14:40:44.778455Z",
     "shell.execute_reply": "2023-10-16T14:40:44.778216Z",
     "shell.execute_reply.started": "2023-10-16T14:40:44.776558Z"
    }
   },
   "outputs": [
    {
     "name": "stdout",
     "output_type": "stream",
     "text": [
      "Sensibilidad de descuento: -23,238,799 CLP\n"
     ]
    }
   ],
   "source": [
    "sens_disc = [d * bp for d in der]\n",
    "print(\"Sensibilidad de descuento: {0:,.0f} CLP\".format(sum(sens_disc)))"
   ]
  },
  {
   "cell_type": "markdown",
   "metadata": {},
   "source": [
    "La estructura es la misma que para una pata fija, lo que indica que se debe también incluir la sensibilidad a la curva de proyección."
   ]
  },
  {
   "cell_type": "code",
   "execution_count": 69,
   "metadata": {
    "ExecuteTime": {
     "end_time": "2022-01-24T13:13:32.020019Z",
     "start_time": "2022-01-24T13:13:32.005020Z"
    },
    "execution": {
     "iopub.execute_input": "2023-10-16T14:40:44.778830Z",
     "iopub.status.busy": "2023-10-16T14:40:44.778758Z",
     "iopub.status.idle": "2023-10-16T14:40:44.782089Z",
     "shell.execute_reply": "2023-10-16T14:40:44.781812Z",
     "shell.execute_reply.started": "2023-10-16T14:40:44.778824Z"
    }
   },
   "outputs": [
    {
     "name": "stdout",
     "output_type": "stream",
     "text": [
      "Sensibilidad en 0: 0\n",
      "Sensibilidad en 1: 0\n",
      "Sensibilidad en 2: 0\n",
      "Sensibilidad en 3: 0\n",
      "Sensibilidad en 4: 0\n",
      "Sensibilidad en 5: 74,757\n",
      "Sensibilidad en 6: 158,384\n",
      "Sensibilidad en 7: 0\n",
      "Sensibilidad en 8: 256,858\n",
      "Sensibilidad en 9: 130,015\n",
      "Sensibilidad en 10: 644,319\n",
      "Sensibilidad en 11: 327,485\n",
      "Sensibilidad en 12: 998,768\n",
      "Sensibilidad en 13: 518,033\n",
      "Sensibilidad en 14: 15,407,642\n",
      "Sensibilidad en 15: 7,831,157\n",
      "Sensibilidad en 16: 0\n",
      "Sensibilidad en 17: 0\n",
      "Sensibilidad en 18: 0\n",
      "Sensibilidad de proyección: 26,347,418 CLP\n"
     ]
    }
   ],
   "source": [
    "import numpy as np\n",
    "bp = .0001\n",
    "result = []\n",
    "for i in range(icp_clp2_leg.size()):\n",
    "    cshflw = icp_clp2_leg.get_cashflow_at(i)\n",
    "    amt_der = cshflw.get_amount_derivatives()\n",
    "    df = zz1.get_discount_factor_at(fecha_hoy.day_diff(cshflw.get_settlement_date()))\n",
    "    amt_der = [a * bp * df for a in amt_der]\n",
    "    if len(amt_der) > 0:\n",
    "        result.append(np.array(amt_der))\n",
    "total = result[0] * 0\n",
    "\n",
    "for r in result:\n",
    "    total += r\n",
    "\n",
    "for i in range(len(total)):\n",
    "    print(\"Sensibilidad en {0:}: {1:0,.0f}\".format(i, total[i]))\n",
    "\n",
    "print(\"Sensibilidad de proyección: {0:,.0f} CLP\".format(sum(total)))"
   ]
  },
  {
   "cell_type": "markdown",
   "metadata": {},
   "source": [
    "Como se espera de una pata ICPCLP (con lag de pago igual a 0 y spread igual a 0), ambas sensibilidades se cancelan."
   ]
  },
  {
   "cell_type": "markdown",
   "metadata": {},
   "source": [
    "#### Se verifica la sensibilidad de proyección por diferencias finitas:"
   ]
  },
  {
   "cell_type": "code",
   "execution_count": 70,
   "metadata": {
    "ExecuteTime": {
     "end_time": "2022-01-24T13:13:32.035021Z",
     "start_time": "2022-01-24T13:13:32.021021Z"
    },
    "execution": {
     "iopub.execute_input": "2023-10-16T14:40:44.782688Z",
     "iopub.status.busy": "2023-10-16T14:40:44.782616Z",
     "iopub.status.idle": "2023-10-16T14:40:44.784691Z",
     "shell.execute_reply": "2023-10-16T14:40:44.784482Z",
     "shell.execute_reply.started": "2023-10-16T14:40:44.782681Z"
    }
   },
   "outputs": [
    {
     "name": "stdout",
     "output_type": "stream",
     "text": [
      "Sensibilidad en vértice 13: 518,033 CLP\n"
     ]
    }
   ],
   "source": [
    "fwd_rates.set_rates_icp_clp_leg(fecha_hoy, icp_val, icp_clp2_leg, zz_sens_up)\n",
    "vp_icp_clp_up = pv.pv(fecha_hoy, icp_clp2_leg, zz1)\n",
    "\n",
    "fwd_rates.set_rates_icp_clp_leg(fecha_hoy, icp_val, icp_clp2_leg, zz_sens_down)\n",
    "vp_icp_clp_down = pv.pv(fecha_hoy, icp_clp2_leg, zz1)\n",
    "\n",
    "print(\"Sensibilidad en vértice {0:}: {1:,.0f} CLP\".format(\n",
    "    vertice, (vp_icp_clp_up - vp_icp_clp_down) / 2))"
   ]
  },
  {
   "cell_type": "markdown",
   "metadata": {},
   "source": [
    "### IborCashflow2 Leg"
   ]
  },
  {
   "cell_type": "code",
   "execution_count": 71,
   "metadata": {
    "ExecuteTime": {
     "end_time": "2022-01-24T13:13:32.051019Z",
     "start_time": "2022-01-24T13:13:32.036020Z"
    },
    "execution": {
     "iopub.execute_input": "2023-10-16T14:40:44.785197Z",
     "iopub.status.busy": "2023-10-16T14:40:44.785075Z",
     "iopub.status.idle": "2023-10-16T14:40:44.788253Z",
     "shell.execute_reply": "2023-10-16T14:40:44.787922Z",
     "shell.execute_reply.started": "2023-10-16T14:40:44.785190Z"
    }
   },
   "outputs": [],
   "source": [
    "### Se da de alta los parámetros requeridos\n",
    "rp = qcf.RecPay.RECEIVE\n",
    "fecha_inicio = qcf.QCDate(12, 11, 2019)\n",
    "fecha_final = qcf.QCDate(12, 11, 2029)\n",
    "bus_adj_rule = qcf.BusyAdjRules.MODFOLLOW\n",
    "periodicidad_pago = qcf.Tenor('3M')\n",
    "periodo_irregular_pago = qcf.StubPeriod.NO\n",
    "calendario = qcf.BusinessCalendar(fecha_inicio, 20)\n",
    "lag_pago = 0\n",
    "periodicidad_fijacion = qcf.Tenor('3M')\n",
    "periodo_irregular_fijacion = qcf.StubPeriod.NO\n",
    "\n",
    "# vamos a usar el mismo calendario para pago y fijaciones\n",
    "lag_de_fijacion = 2\n",
    "\n",
    "# Definición del índice\n",
    "codigo = 'LIBORUSD3M'\n",
    "lin_act360 = qcf.QCInterestRate(.0, qcf.QCAct360(), qcf.QCLinearWf())\n",
    "fixing_lag = qcf.Tenor('2d')\n",
    "tenor = qcf.Tenor('3m')\n",
    "fixing_calendar = calendario\n",
    "settlement_calendar = calendario\n",
    "usd = qcf.QCUSD()\n",
    "libor_usd_3m = qcf.InterestRateIndex(\n",
    "    codigo,\n",
    "    lin_act360,\n",
    "    fixing_lag,\n",
    "    tenor,\n",
    "    fixing_calendar,\n",
    "    settlement_calendar,\n",
    "    usd\n",
    ")\n",
    "# Fin índice\n",
    "\n",
    "nominal = 20_000_000.0\n",
    "amort_es_flujo = True\n",
    "moneda = usd\n",
    "spread = .0\n",
    "gearing = 1.0\n",
    "\n",
    "# Es la op 2879 en FD\n",
    "ibor_leg = qcf.LegFactory.build_bullet_ibor2_leg(\n",
    "    rp, \n",
    "    fecha_inicio, \n",
    "    fecha_final, \n",
    "    bus_adj_rule, \n",
    "    periodicidad_pago,\n",
    "    periodo_irregular_pago, \n",
    "    calendario, \n",
    "    lag_pago,\n",
    "    periodicidad_fijacion, \n",
    "    periodo_irregular_fijacion,\n",
    "    calendario, \n",
    "    lag_de_fijacion, \n",
    "    libor_usd_3m,\n",
    "    nominal, \n",
    "    amort_es_flujo, \n",
    "    moneda, \n",
    "    spread, \n",
    "    gearing\n",
    ")"
   ]
  },
  {
   "cell_type": "code",
   "execution_count": 72,
   "metadata": {
    "ExecuteTime": {
     "end_time": "2022-01-24T13:13:32.067020Z",
     "start_time": "2022-01-24T13:13:32.052020Z"
    },
    "execution": {
     "iopub.execute_input": "2023-10-16T14:40:44.788650Z",
     "iopub.status.busy": "2023-10-16T14:40:44.788554Z",
     "iopub.status.idle": "2023-10-16T14:40:44.797782Z",
     "shell.execute_reply": "2023-10-16T14:40:44.797458Z",
     "shell.execute_reply.started": "2023-10-16T14:40:44.788641Z"
    }
   },
   "outputs": [
    {
     "data": {
      "text/html": [
       "<style type=\"text/css\">\n",
       "</style>\n",
       "<table id=\"T_2e5b3\">\n",
       "  <thead>\n",
       "    <tr>\n",
       "      <th class=\"blank level0\" >&nbsp;</th>\n",
       "      <th id=\"T_2e5b3_level0_col0\" class=\"col_heading level0 col0\" >fecha_inicial</th>\n",
       "      <th id=\"T_2e5b3_level0_col1\" class=\"col_heading level0 col1\" >fecha__final</th>\n",
       "      <th id=\"T_2e5b3_level0_col2\" class=\"col_heading level0 col2\" >fecha_fixing</th>\n",
       "      <th id=\"T_2e5b3_level0_col3\" class=\"col_heading level0 col3\" >fecha__pago</th>\n",
       "      <th id=\"T_2e5b3_level0_col4\" class=\"col_heading level0 col4\" >nominal</th>\n",
       "      <th id=\"T_2e5b3_level0_col5\" class=\"col_heading level0 col5\" >amort</th>\n",
       "      <th id=\"T_2e5b3_level0_col6\" class=\"col_heading level0 col6\" >interes</th>\n",
       "      <th id=\"T_2e5b3_level0_col7\" class=\"col_heading level0 col7\" >amort_es_flujo</th>\n",
       "      <th id=\"T_2e5b3_level0_col8\" class=\"col_heading level0 col8\" >flujo</th>\n",
       "      <th id=\"T_2e5b3_level0_col9\" class=\"col_heading level0 col9\" >moneda</th>\n",
       "      <th id=\"T_2e5b3_level0_col10\" class=\"col_heading level0 col10\" >codigo_indice</th>\n",
       "      <th id=\"T_2e5b3_level0_col11\" class=\"col_heading level0 col11\" >valor_tasa</th>\n",
       "      <th id=\"T_2e5b3_level0_col12\" class=\"col_heading level0 col12\" >spread</th>\n",
       "      <th id=\"T_2e5b3_level0_col13\" class=\"col_heading level0 col13\" >gearing</th>\n",
       "      <th id=\"T_2e5b3_level0_col14\" class=\"col_heading level0 col14\" >tipo_tasa</th>\n",
       "    </tr>\n",
       "  </thead>\n",
       "  <tbody>\n",
       "    <tr>\n",
       "      <th id=\"T_2e5b3_level0_row0\" class=\"row_heading level0 row0\" >0</th>\n",
       "      <td id=\"T_2e5b3_row0_col0\" class=\"data row0 col0\" >2019-11-12</td>\n",
       "      <td id=\"T_2e5b3_row0_col1\" class=\"data row0 col1\" >2020-02-12</td>\n",
       "      <td id=\"T_2e5b3_row0_col2\" class=\"data row0 col2\" >2019-11-08</td>\n",
       "      <td id=\"T_2e5b3_row0_col3\" class=\"data row0 col3\" >2020-02-12</td>\n",
       "      <td id=\"T_2e5b3_row0_col4\" class=\"data row0 col4\" >20,000,000.00</td>\n",
       "      <td id=\"T_2e5b3_row0_col5\" class=\"data row0 col5\" >0.00</td>\n",
       "      <td id=\"T_2e5b3_row0_col6\" class=\"data row0 col6\" >0.00</td>\n",
       "      <td id=\"T_2e5b3_row0_col7\" class=\"data row0 col7\" >True</td>\n",
       "      <td id=\"T_2e5b3_row0_col8\" class=\"data row0 col8\" >0.00</td>\n",
       "      <td id=\"T_2e5b3_row0_col9\" class=\"data row0 col9\" >USD</td>\n",
       "      <td id=\"T_2e5b3_row0_col10\" class=\"data row0 col10\" >LIBORUSD3M</td>\n",
       "      <td id=\"T_2e5b3_row0_col11\" class=\"data row0 col11\" >0.0000%</td>\n",
       "      <td id=\"T_2e5b3_row0_col12\" class=\"data row0 col12\" >0.0000%</td>\n",
       "      <td id=\"T_2e5b3_row0_col13\" class=\"data row0 col13\" >1.00</td>\n",
       "      <td id=\"T_2e5b3_row0_col14\" class=\"data row0 col14\" >LinAct360</td>\n",
       "    </tr>\n",
       "    <tr>\n",
       "      <th id=\"T_2e5b3_level0_row1\" class=\"row_heading level0 row1\" >1</th>\n",
       "      <td id=\"T_2e5b3_row1_col0\" class=\"data row1 col0\" >2020-02-12</td>\n",
       "      <td id=\"T_2e5b3_row1_col1\" class=\"data row1 col1\" >2020-05-12</td>\n",
       "      <td id=\"T_2e5b3_row1_col2\" class=\"data row1 col2\" >2020-02-10</td>\n",
       "      <td id=\"T_2e5b3_row1_col3\" class=\"data row1 col3\" >2020-05-12</td>\n",
       "      <td id=\"T_2e5b3_row1_col4\" class=\"data row1 col4\" >20,000,000.00</td>\n",
       "      <td id=\"T_2e5b3_row1_col5\" class=\"data row1 col5\" >0.00</td>\n",
       "      <td id=\"T_2e5b3_row1_col6\" class=\"data row1 col6\" >0.00</td>\n",
       "      <td id=\"T_2e5b3_row1_col7\" class=\"data row1 col7\" >True</td>\n",
       "      <td id=\"T_2e5b3_row1_col8\" class=\"data row1 col8\" >0.00</td>\n",
       "      <td id=\"T_2e5b3_row1_col9\" class=\"data row1 col9\" >USD</td>\n",
       "      <td id=\"T_2e5b3_row1_col10\" class=\"data row1 col10\" >LIBORUSD3M</td>\n",
       "      <td id=\"T_2e5b3_row1_col11\" class=\"data row1 col11\" >0.0000%</td>\n",
       "      <td id=\"T_2e5b3_row1_col12\" class=\"data row1 col12\" >0.0000%</td>\n",
       "      <td id=\"T_2e5b3_row1_col13\" class=\"data row1 col13\" >1.00</td>\n",
       "      <td id=\"T_2e5b3_row1_col14\" class=\"data row1 col14\" >LinAct360</td>\n",
       "    </tr>\n",
       "    <tr>\n",
       "      <th id=\"T_2e5b3_level0_row2\" class=\"row_heading level0 row2\" >2</th>\n",
       "      <td id=\"T_2e5b3_row2_col0\" class=\"data row2 col0\" >2020-05-12</td>\n",
       "      <td id=\"T_2e5b3_row2_col1\" class=\"data row2 col1\" >2020-08-12</td>\n",
       "      <td id=\"T_2e5b3_row2_col2\" class=\"data row2 col2\" >2020-05-08</td>\n",
       "      <td id=\"T_2e5b3_row2_col3\" class=\"data row2 col3\" >2020-08-12</td>\n",
       "      <td id=\"T_2e5b3_row2_col4\" class=\"data row2 col4\" >20,000,000.00</td>\n",
       "      <td id=\"T_2e5b3_row2_col5\" class=\"data row2 col5\" >0.00</td>\n",
       "      <td id=\"T_2e5b3_row2_col6\" class=\"data row2 col6\" >0.00</td>\n",
       "      <td id=\"T_2e5b3_row2_col7\" class=\"data row2 col7\" >True</td>\n",
       "      <td id=\"T_2e5b3_row2_col8\" class=\"data row2 col8\" >0.00</td>\n",
       "      <td id=\"T_2e5b3_row2_col9\" class=\"data row2 col9\" >USD</td>\n",
       "      <td id=\"T_2e5b3_row2_col10\" class=\"data row2 col10\" >LIBORUSD3M</td>\n",
       "      <td id=\"T_2e5b3_row2_col11\" class=\"data row2 col11\" >0.0000%</td>\n",
       "      <td id=\"T_2e5b3_row2_col12\" class=\"data row2 col12\" >0.0000%</td>\n",
       "      <td id=\"T_2e5b3_row2_col13\" class=\"data row2 col13\" >1.00</td>\n",
       "      <td id=\"T_2e5b3_row2_col14\" class=\"data row2 col14\" >LinAct360</td>\n",
       "    </tr>\n",
       "    <tr>\n",
       "      <th id=\"T_2e5b3_level0_row3\" class=\"row_heading level0 row3\" >3</th>\n",
       "      <td id=\"T_2e5b3_row3_col0\" class=\"data row3 col0\" >2020-08-12</td>\n",
       "      <td id=\"T_2e5b3_row3_col1\" class=\"data row3 col1\" >2020-11-12</td>\n",
       "      <td id=\"T_2e5b3_row3_col2\" class=\"data row3 col2\" >2020-08-10</td>\n",
       "      <td id=\"T_2e5b3_row3_col3\" class=\"data row3 col3\" >2020-11-12</td>\n",
       "      <td id=\"T_2e5b3_row3_col4\" class=\"data row3 col4\" >20,000,000.00</td>\n",
       "      <td id=\"T_2e5b3_row3_col5\" class=\"data row3 col5\" >0.00</td>\n",
       "      <td id=\"T_2e5b3_row3_col6\" class=\"data row3 col6\" >0.00</td>\n",
       "      <td id=\"T_2e5b3_row3_col7\" class=\"data row3 col7\" >True</td>\n",
       "      <td id=\"T_2e5b3_row3_col8\" class=\"data row3 col8\" >0.00</td>\n",
       "      <td id=\"T_2e5b3_row3_col9\" class=\"data row3 col9\" >USD</td>\n",
       "      <td id=\"T_2e5b3_row3_col10\" class=\"data row3 col10\" >LIBORUSD3M</td>\n",
       "      <td id=\"T_2e5b3_row3_col11\" class=\"data row3 col11\" >0.0000%</td>\n",
       "      <td id=\"T_2e5b3_row3_col12\" class=\"data row3 col12\" >0.0000%</td>\n",
       "      <td id=\"T_2e5b3_row3_col13\" class=\"data row3 col13\" >1.00</td>\n",
       "      <td id=\"T_2e5b3_row3_col14\" class=\"data row3 col14\" >LinAct360</td>\n",
       "    </tr>\n",
       "    <tr>\n",
       "      <th id=\"T_2e5b3_level0_row4\" class=\"row_heading level0 row4\" >4</th>\n",
       "      <td id=\"T_2e5b3_row4_col0\" class=\"data row4 col0\" >2020-11-12</td>\n",
       "      <td id=\"T_2e5b3_row4_col1\" class=\"data row4 col1\" >2021-02-12</td>\n",
       "      <td id=\"T_2e5b3_row4_col2\" class=\"data row4 col2\" >2020-11-10</td>\n",
       "      <td id=\"T_2e5b3_row4_col3\" class=\"data row4 col3\" >2021-02-12</td>\n",
       "      <td id=\"T_2e5b3_row4_col4\" class=\"data row4 col4\" >20,000,000.00</td>\n",
       "      <td id=\"T_2e5b3_row4_col5\" class=\"data row4 col5\" >0.00</td>\n",
       "      <td id=\"T_2e5b3_row4_col6\" class=\"data row4 col6\" >0.00</td>\n",
       "      <td id=\"T_2e5b3_row4_col7\" class=\"data row4 col7\" >True</td>\n",
       "      <td id=\"T_2e5b3_row4_col8\" class=\"data row4 col8\" >0.00</td>\n",
       "      <td id=\"T_2e5b3_row4_col9\" class=\"data row4 col9\" >USD</td>\n",
       "      <td id=\"T_2e5b3_row4_col10\" class=\"data row4 col10\" >LIBORUSD3M</td>\n",
       "      <td id=\"T_2e5b3_row4_col11\" class=\"data row4 col11\" >0.0000%</td>\n",
       "      <td id=\"T_2e5b3_row4_col12\" class=\"data row4 col12\" >0.0000%</td>\n",
       "      <td id=\"T_2e5b3_row4_col13\" class=\"data row4 col13\" >1.00</td>\n",
       "      <td id=\"T_2e5b3_row4_col14\" class=\"data row4 col14\" >LinAct360</td>\n",
       "    </tr>\n",
       "    <tr>\n",
       "      <th id=\"T_2e5b3_level0_row5\" class=\"row_heading level0 row5\" >5</th>\n",
       "      <td id=\"T_2e5b3_row5_col0\" class=\"data row5 col0\" >2021-02-12</td>\n",
       "      <td id=\"T_2e5b3_row5_col1\" class=\"data row5 col1\" >2021-05-12</td>\n",
       "      <td id=\"T_2e5b3_row5_col2\" class=\"data row5 col2\" >2021-02-10</td>\n",
       "      <td id=\"T_2e5b3_row5_col3\" class=\"data row5 col3\" >2021-05-12</td>\n",
       "      <td id=\"T_2e5b3_row5_col4\" class=\"data row5 col4\" >20,000,000.00</td>\n",
       "      <td id=\"T_2e5b3_row5_col5\" class=\"data row5 col5\" >0.00</td>\n",
       "      <td id=\"T_2e5b3_row5_col6\" class=\"data row5 col6\" >0.00</td>\n",
       "      <td id=\"T_2e5b3_row5_col7\" class=\"data row5 col7\" >True</td>\n",
       "      <td id=\"T_2e5b3_row5_col8\" class=\"data row5 col8\" >0.00</td>\n",
       "      <td id=\"T_2e5b3_row5_col9\" class=\"data row5 col9\" >USD</td>\n",
       "      <td id=\"T_2e5b3_row5_col10\" class=\"data row5 col10\" >LIBORUSD3M</td>\n",
       "      <td id=\"T_2e5b3_row5_col11\" class=\"data row5 col11\" >0.0000%</td>\n",
       "      <td id=\"T_2e5b3_row5_col12\" class=\"data row5 col12\" >0.0000%</td>\n",
       "      <td id=\"T_2e5b3_row5_col13\" class=\"data row5 col13\" >1.00</td>\n",
       "      <td id=\"T_2e5b3_row5_col14\" class=\"data row5 col14\" >LinAct360</td>\n",
       "    </tr>\n",
       "    <tr>\n",
       "      <th id=\"T_2e5b3_level0_row6\" class=\"row_heading level0 row6\" >6</th>\n",
       "      <td id=\"T_2e5b3_row6_col0\" class=\"data row6 col0\" >2021-05-12</td>\n",
       "      <td id=\"T_2e5b3_row6_col1\" class=\"data row6 col1\" >2021-08-12</td>\n",
       "      <td id=\"T_2e5b3_row6_col2\" class=\"data row6 col2\" >2021-05-10</td>\n",
       "      <td id=\"T_2e5b3_row6_col3\" class=\"data row6 col3\" >2021-08-12</td>\n",
       "      <td id=\"T_2e5b3_row6_col4\" class=\"data row6 col4\" >20,000,000.00</td>\n",
       "      <td id=\"T_2e5b3_row6_col5\" class=\"data row6 col5\" >0.00</td>\n",
       "      <td id=\"T_2e5b3_row6_col6\" class=\"data row6 col6\" >0.00</td>\n",
       "      <td id=\"T_2e5b3_row6_col7\" class=\"data row6 col7\" >True</td>\n",
       "      <td id=\"T_2e5b3_row6_col8\" class=\"data row6 col8\" >0.00</td>\n",
       "      <td id=\"T_2e5b3_row6_col9\" class=\"data row6 col9\" >USD</td>\n",
       "      <td id=\"T_2e5b3_row6_col10\" class=\"data row6 col10\" >LIBORUSD3M</td>\n",
       "      <td id=\"T_2e5b3_row6_col11\" class=\"data row6 col11\" >0.0000%</td>\n",
       "      <td id=\"T_2e5b3_row6_col12\" class=\"data row6 col12\" >0.0000%</td>\n",
       "      <td id=\"T_2e5b3_row6_col13\" class=\"data row6 col13\" >1.00</td>\n",
       "      <td id=\"T_2e5b3_row6_col14\" class=\"data row6 col14\" >LinAct360</td>\n",
       "    </tr>\n",
       "    <tr>\n",
       "      <th id=\"T_2e5b3_level0_row7\" class=\"row_heading level0 row7\" >7</th>\n",
       "      <td id=\"T_2e5b3_row7_col0\" class=\"data row7 col0\" >2021-08-12</td>\n",
       "      <td id=\"T_2e5b3_row7_col1\" class=\"data row7 col1\" >2021-11-12</td>\n",
       "      <td id=\"T_2e5b3_row7_col2\" class=\"data row7 col2\" >2021-08-10</td>\n",
       "      <td id=\"T_2e5b3_row7_col3\" class=\"data row7 col3\" >2021-11-12</td>\n",
       "      <td id=\"T_2e5b3_row7_col4\" class=\"data row7 col4\" >20,000,000.00</td>\n",
       "      <td id=\"T_2e5b3_row7_col5\" class=\"data row7 col5\" >0.00</td>\n",
       "      <td id=\"T_2e5b3_row7_col6\" class=\"data row7 col6\" >0.00</td>\n",
       "      <td id=\"T_2e5b3_row7_col7\" class=\"data row7 col7\" >True</td>\n",
       "      <td id=\"T_2e5b3_row7_col8\" class=\"data row7 col8\" >0.00</td>\n",
       "      <td id=\"T_2e5b3_row7_col9\" class=\"data row7 col9\" >USD</td>\n",
       "      <td id=\"T_2e5b3_row7_col10\" class=\"data row7 col10\" >LIBORUSD3M</td>\n",
       "      <td id=\"T_2e5b3_row7_col11\" class=\"data row7 col11\" >0.0000%</td>\n",
       "      <td id=\"T_2e5b3_row7_col12\" class=\"data row7 col12\" >0.0000%</td>\n",
       "      <td id=\"T_2e5b3_row7_col13\" class=\"data row7 col13\" >1.00</td>\n",
       "      <td id=\"T_2e5b3_row7_col14\" class=\"data row7 col14\" >LinAct360</td>\n",
       "    </tr>\n",
       "    <tr>\n",
       "      <th id=\"T_2e5b3_level0_row8\" class=\"row_heading level0 row8\" >8</th>\n",
       "      <td id=\"T_2e5b3_row8_col0\" class=\"data row8 col0\" >2021-11-12</td>\n",
       "      <td id=\"T_2e5b3_row8_col1\" class=\"data row8 col1\" >2022-02-14</td>\n",
       "      <td id=\"T_2e5b3_row8_col2\" class=\"data row8 col2\" >2021-11-10</td>\n",
       "      <td id=\"T_2e5b3_row8_col3\" class=\"data row8 col3\" >2022-02-14</td>\n",
       "      <td id=\"T_2e5b3_row8_col4\" class=\"data row8 col4\" >20,000,000.00</td>\n",
       "      <td id=\"T_2e5b3_row8_col5\" class=\"data row8 col5\" >0.00</td>\n",
       "      <td id=\"T_2e5b3_row8_col6\" class=\"data row8 col6\" >0.00</td>\n",
       "      <td id=\"T_2e5b3_row8_col7\" class=\"data row8 col7\" >True</td>\n",
       "      <td id=\"T_2e5b3_row8_col8\" class=\"data row8 col8\" >0.00</td>\n",
       "      <td id=\"T_2e5b3_row8_col9\" class=\"data row8 col9\" >USD</td>\n",
       "      <td id=\"T_2e5b3_row8_col10\" class=\"data row8 col10\" >LIBORUSD3M</td>\n",
       "      <td id=\"T_2e5b3_row8_col11\" class=\"data row8 col11\" >0.0000%</td>\n",
       "      <td id=\"T_2e5b3_row8_col12\" class=\"data row8 col12\" >0.0000%</td>\n",
       "      <td id=\"T_2e5b3_row8_col13\" class=\"data row8 col13\" >1.00</td>\n",
       "      <td id=\"T_2e5b3_row8_col14\" class=\"data row8 col14\" >LinAct360</td>\n",
       "    </tr>\n",
       "    <tr>\n",
       "      <th id=\"T_2e5b3_level0_row9\" class=\"row_heading level0 row9\" >9</th>\n",
       "      <td id=\"T_2e5b3_row9_col0\" class=\"data row9 col0\" >2022-02-14</td>\n",
       "      <td id=\"T_2e5b3_row9_col1\" class=\"data row9 col1\" >2022-05-12</td>\n",
       "      <td id=\"T_2e5b3_row9_col2\" class=\"data row9 col2\" >2022-02-10</td>\n",
       "      <td id=\"T_2e5b3_row9_col3\" class=\"data row9 col3\" >2022-05-12</td>\n",
       "      <td id=\"T_2e5b3_row9_col4\" class=\"data row9 col4\" >20,000,000.00</td>\n",
       "      <td id=\"T_2e5b3_row9_col5\" class=\"data row9 col5\" >0.00</td>\n",
       "      <td id=\"T_2e5b3_row9_col6\" class=\"data row9 col6\" >0.00</td>\n",
       "      <td id=\"T_2e5b3_row9_col7\" class=\"data row9 col7\" >True</td>\n",
       "      <td id=\"T_2e5b3_row9_col8\" class=\"data row9 col8\" >0.00</td>\n",
       "      <td id=\"T_2e5b3_row9_col9\" class=\"data row9 col9\" >USD</td>\n",
       "      <td id=\"T_2e5b3_row9_col10\" class=\"data row9 col10\" >LIBORUSD3M</td>\n",
       "      <td id=\"T_2e5b3_row9_col11\" class=\"data row9 col11\" >0.0000%</td>\n",
       "      <td id=\"T_2e5b3_row9_col12\" class=\"data row9 col12\" >0.0000%</td>\n",
       "      <td id=\"T_2e5b3_row9_col13\" class=\"data row9 col13\" >1.00</td>\n",
       "      <td id=\"T_2e5b3_row9_col14\" class=\"data row9 col14\" >LinAct360</td>\n",
       "    </tr>\n",
       "    <tr>\n",
       "      <th id=\"T_2e5b3_level0_row10\" class=\"row_heading level0 row10\" >10</th>\n",
       "      <td id=\"T_2e5b3_row10_col0\" class=\"data row10 col0\" >2022-05-12</td>\n",
       "      <td id=\"T_2e5b3_row10_col1\" class=\"data row10 col1\" >2022-08-12</td>\n",
       "      <td id=\"T_2e5b3_row10_col2\" class=\"data row10 col2\" >2022-05-10</td>\n",
       "      <td id=\"T_2e5b3_row10_col3\" class=\"data row10 col3\" >2022-08-12</td>\n",
       "      <td id=\"T_2e5b3_row10_col4\" class=\"data row10 col4\" >20,000,000.00</td>\n",
       "      <td id=\"T_2e5b3_row10_col5\" class=\"data row10 col5\" >0.00</td>\n",
       "      <td id=\"T_2e5b3_row10_col6\" class=\"data row10 col6\" >0.00</td>\n",
       "      <td id=\"T_2e5b3_row10_col7\" class=\"data row10 col7\" >True</td>\n",
       "      <td id=\"T_2e5b3_row10_col8\" class=\"data row10 col8\" >0.00</td>\n",
       "      <td id=\"T_2e5b3_row10_col9\" class=\"data row10 col9\" >USD</td>\n",
       "      <td id=\"T_2e5b3_row10_col10\" class=\"data row10 col10\" >LIBORUSD3M</td>\n",
       "      <td id=\"T_2e5b3_row10_col11\" class=\"data row10 col11\" >0.0000%</td>\n",
       "      <td id=\"T_2e5b3_row10_col12\" class=\"data row10 col12\" >0.0000%</td>\n",
       "      <td id=\"T_2e5b3_row10_col13\" class=\"data row10 col13\" >1.00</td>\n",
       "      <td id=\"T_2e5b3_row10_col14\" class=\"data row10 col14\" >LinAct360</td>\n",
       "    </tr>\n",
       "    <tr>\n",
       "      <th id=\"T_2e5b3_level0_row11\" class=\"row_heading level0 row11\" >11</th>\n",
       "      <td id=\"T_2e5b3_row11_col0\" class=\"data row11 col0\" >2022-08-12</td>\n",
       "      <td id=\"T_2e5b3_row11_col1\" class=\"data row11 col1\" >2022-11-14</td>\n",
       "      <td id=\"T_2e5b3_row11_col2\" class=\"data row11 col2\" >2022-08-10</td>\n",
       "      <td id=\"T_2e5b3_row11_col3\" class=\"data row11 col3\" >2022-11-14</td>\n",
       "      <td id=\"T_2e5b3_row11_col4\" class=\"data row11 col4\" >20,000,000.00</td>\n",
       "      <td id=\"T_2e5b3_row11_col5\" class=\"data row11 col5\" >0.00</td>\n",
       "      <td id=\"T_2e5b3_row11_col6\" class=\"data row11 col6\" >0.00</td>\n",
       "      <td id=\"T_2e5b3_row11_col7\" class=\"data row11 col7\" >True</td>\n",
       "      <td id=\"T_2e5b3_row11_col8\" class=\"data row11 col8\" >0.00</td>\n",
       "      <td id=\"T_2e5b3_row11_col9\" class=\"data row11 col9\" >USD</td>\n",
       "      <td id=\"T_2e5b3_row11_col10\" class=\"data row11 col10\" >LIBORUSD3M</td>\n",
       "      <td id=\"T_2e5b3_row11_col11\" class=\"data row11 col11\" >0.0000%</td>\n",
       "      <td id=\"T_2e5b3_row11_col12\" class=\"data row11 col12\" >0.0000%</td>\n",
       "      <td id=\"T_2e5b3_row11_col13\" class=\"data row11 col13\" >1.00</td>\n",
       "      <td id=\"T_2e5b3_row11_col14\" class=\"data row11 col14\" >LinAct360</td>\n",
       "    </tr>\n",
       "    <tr>\n",
       "      <th id=\"T_2e5b3_level0_row12\" class=\"row_heading level0 row12\" >12</th>\n",
       "      <td id=\"T_2e5b3_row12_col0\" class=\"data row12 col0\" >2022-11-14</td>\n",
       "      <td id=\"T_2e5b3_row12_col1\" class=\"data row12 col1\" >2023-02-13</td>\n",
       "      <td id=\"T_2e5b3_row12_col2\" class=\"data row12 col2\" >2022-11-10</td>\n",
       "      <td id=\"T_2e5b3_row12_col3\" class=\"data row12 col3\" >2023-02-13</td>\n",
       "      <td id=\"T_2e5b3_row12_col4\" class=\"data row12 col4\" >20,000,000.00</td>\n",
       "      <td id=\"T_2e5b3_row12_col5\" class=\"data row12 col5\" >0.00</td>\n",
       "      <td id=\"T_2e5b3_row12_col6\" class=\"data row12 col6\" >0.00</td>\n",
       "      <td id=\"T_2e5b3_row12_col7\" class=\"data row12 col7\" >True</td>\n",
       "      <td id=\"T_2e5b3_row12_col8\" class=\"data row12 col8\" >0.00</td>\n",
       "      <td id=\"T_2e5b3_row12_col9\" class=\"data row12 col9\" >USD</td>\n",
       "      <td id=\"T_2e5b3_row12_col10\" class=\"data row12 col10\" >LIBORUSD3M</td>\n",
       "      <td id=\"T_2e5b3_row12_col11\" class=\"data row12 col11\" >0.0000%</td>\n",
       "      <td id=\"T_2e5b3_row12_col12\" class=\"data row12 col12\" >0.0000%</td>\n",
       "      <td id=\"T_2e5b3_row12_col13\" class=\"data row12 col13\" >1.00</td>\n",
       "      <td id=\"T_2e5b3_row12_col14\" class=\"data row12 col14\" >LinAct360</td>\n",
       "    </tr>\n",
       "    <tr>\n",
       "      <th id=\"T_2e5b3_level0_row13\" class=\"row_heading level0 row13\" >13</th>\n",
       "      <td id=\"T_2e5b3_row13_col0\" class=\"data row13 col0\" >2023-02-13</td>\n",
       "      <td id=\"T_2e5b3_row13_col1\" class=\"data row13 col1\" >2023-05-12</td>\n",
       "      <td id=\"T_2e5b3_row13_col2\" class=\"data row13 col2\" >2023-02-09</td>\n",
       "      <td id=\"T_2e5b3_row13_col3\" class=\"data row13 col3\" >2023-05-12</td>\n",
       "      <td id=\"T_2e5b3_row13_col4\" class=\"data row13 col4\" >20,000,000.00</td>\n",
       "      <td id=\"T_2e5b3_row13_col5\" class=\"data row13 col5\" >0.00</td>\n",
       "      <td id=\"T_2e5b3_row13_col6\" class=\"data row13 col6\" >0.00</td>\n",
       "      <td id=\"T_2e5b3_row13_col7\" class=\"data row13 col7\" >True</td>\n",
       "      <td id=\"T_2e5b3_row13_col8\" class=\"data row13 col8\" >0.00</td>\n",
       "      <td id=\"T_2e5b3_row13_col9\" class=\"data row13 col9\" >USD</td>\n",
       "      <td id=\"T_2e5b3_row13_col10\" class=\"data row13 col10\" >LIBORUSD3M</td>\n",
       "      <td id=\"T_2e5b3_row13_col11\" class=\"data row13 col11\" >0.0000%</td>\n",
       "      <td id=\"T_2e5b3_row13_col12\" class=\"data row13 col12\" >0.0000%</td>\n",
       "      <td id=\"T_2e5b3_row13_col13\" class=\"data row13 col13\" >1.00</td>\n",
       "      <td id=\"T_2e5b3_row13_col14\" class=\"data row13 col14\" >LinAct360</td>\n",
       "    </tr>\n",
       "    <tr>\n",
       "      <th id=\"T_2e5b3_level0_row14\" class=\"row_heading level0 row14\" >14</th>\n",
       "      <td id=\"T_2e5b3_row14_col0\" class=\"data row14 col0\" >2023-05-12</td>\n",
       "      <td id=\"T_2e5b3_row14_col1\" class=\"data row14 col1\" >2023-08-14</td>\n",
       "      <td id=\"T_2e5b3_row14_col2\" class=\"data row14 col2\" >2023-05-10</td>\n",
       "      <td id=\"T_2e5b3_row14_col3\" class=\"data row14 col3\" >2023-08-14</td>\n",
       "      <td id=\"T_2e5b3_row14_col4\" class=\"data row14 col4\" >20,000,000.00</td>\n",
       "      <td id=\"T_2e5b3_row14_col5\" class=\"data row14 col5\" >0.00</td>\n",
       "      <td id=\"T_2e5b3_row14_col6\" class=\"data row14 col6\" >0.00</td>\n",
       "      <td id=\"T_2e5b3_row14_col7\" class=\"data row14 col7\" >True</td>\n",
       "      <td id=\"T_2e5b3_row14_col8\" class=\"data row14 col8\" >0.00</td>\n",
       "      <td id=\"T_2e5b3_row14_col9\" class=\"data row14 col9\" >USD</td>\n",
       "      <td id=\"T_2e5b3_row14_col10\" class=\"data row14 col10\" >LIBORUSD3M</td>\n",
       "      <td id=\"T_2e5b3_row14_col11\" class=\"data row14 col11\" >0.0000%</td>\n",
       "      <td id=\"T_2e5b3_row14_col12\" class=\"data row14 col12\" >0.0000%</td>\n",
       "      <td id=\"T_2e5b3_row14_col13\" class=\"data row14 col13\" >1.00</td>\n",
       "      <td id=\"T_2e5b3_row14_col14\" class=\"data row14 col14\" >LinAct360</td>\n",
       "    </tr>\n",
       "    <tr>\n",
       "      <th id=\"T_2e5b3_level0_row15\" class=\"row_heading level0 row15\" >15</th>\n",
       "      <td id=\"T_2e5b3_row15_col0\" class=\"data row15 col0\" >2023-08-14</td>\n",
       "      <td id=\"T_2e5b3_row15_col1\" class=\"data row15 col1\" >2023-11-13</td>\n",
       "      <td id=\"T_2e5b3_row15_col2\" class=\"data row15 col2\" >2023-08-10</td>\n",
       "      <td id=\"T_2e5b3_row15_col3\" class=\"data row15 col3\" >2023-11-13</td>\n",
       "      <td id=\"T_2e5b3_row15_col4\" class=\"data row15 col4\" >20,000,000.00</td>\n",
       "      <td id=\"T_2e5b3_row15_col5\" class=\"data row15 col5\" >0.00</td>\n",
       "      <td id=\"T_2e5b3_row15_col6\" class=\"data row15 col6\" >0.00</td>\n",
       "      <td id=\"T_2e5b3_row15_col7\" class=\"data row15 col7\" >True</td>\n",
       "      <td id=\"T_2e5b3_row15_col8\" class=\"data row15 col8\" >0.00</td>\n",
       "      <td id=\"T_2e5b3_row15_col9\" class=\"data row15 col9\" >USD</td>\n",
       "      <td id=\"T_2e5b3_row15_col10\" class=\"data row15 col10\" >LIBORUSD3M</td>\n",
       "      <td id=\"T_2e5b3_row15_col11\" class=\"data row15 col11\" >0.0000%</td>\n",
       "      <td id=\"T_2e5b3_row15_col12\" class=\"data row15 col12\" >0.0000%</td>\n",
       "      <td id=\"T_2e5b3_row15_col13\" class=\"data row15 col13\" >1.00</td>\n",
       "      <td id=\"T_2e5b3_row15_col14\" class=\"data row15 col14\" >LinAct360</td>\n",
       "    </tr>\n",
       "    <tr>\n",
       "      <th id=\"T_2e5b3_level0_row16\" class=\"row_heading level0 row16\" >16</th>\n",
       "      <td id=\"T_2e5b3_row16_col0\" class=\"data row16 col0\" >2023-11-13</td>\n",
       "      <td id=\"T_2e5b3_row16_col1\" class=\"data row16 col1\" >2024-02-12</td>\n",
       "      <td id=\"T_2e5b3_row16_col2\" class=\"data row16 col2\" >2023-11-09</td>\n",
       "      <td id=\"T_2e5b3_row16_col3\" class=\"data row16 col3\" >2024-02-12</td>\n",
       "      <td id=\"T_2e5b3_row16_col4\" class=\"data row16 col4\" >20,000,000.00</td>\n",
       "      <td id=\"T_2e5b3_row16_col5\" class=\"data row16 col5\" >0.00</td>\n",
       "      <td id=\"T_2e5b3_row16_col6\" class=\"data row16 col6\" >0.00</td>\n",
       "      <td id=\"T_2e5b3_row16_col7\" class=\"data row16 col7\" >True</td>\n",
       "      <td id=\"T_2e5b3_row16_col8\" class=\"data row16 col8\" >0.00</td>\n",
       "      <td id=\"T_2e5b3_row16_col9\" class=\"data row16 col9\" >USD</td>\n",
       "      <td id=\"T_2e5b3_row16_col10\" class=\"data row16 col10\" >LIBORUSD3M</td>\n",
       "      <td id=\"T_2e5b3_row16_col11\" class=\"data row16 col11\" >0.0000%</td>\n",
       "      <td id=\"T_2e5b3_row16_col12\" class=\"data row16 col12\" >0.0000%</td>\n",
       "      <td id=\"T_2e5b3_row16_col13\" class=\"data row16 col13\" >1.00</td>\n",
       "      <td id=\"T_2e5b3_row16_col14\" class=\"data row16 col14\" >LinAct360</td>\n",
       "    </tr>\n",
       "    <tr>\n",
       "      <th id=\"T_2e5b3_level0_row17\" class=\"row_heading level0 row17\" >17</th>\n",
       "      <td id=\"T_2e5b3_row17_col0\" class=\"data row17 col0\" >2024-02-12</td>\n",
       "      <td id=\"T_2e5b3_row17_col1\" class=\"data row17 col1\" >2024-05-13</td>\n",
       "      <td id=\"T_2e5b3_row17_col2\" class=\"data row17 col2\" >2024-02-08</td>\n",
       "      <td id=\"T_2e5b3_row17_col3\" class=\"data row17 col3\" >2024-05-13</td>\n",
       "      <td id=\"T_2e5b3_row17_col4\" class=\"data row17 col4\" >20,000,000.00</td>\n",
       "      <td id=\"T_2e5b3_row17_col5\" class=\"data row17 col5\" >0.00</td>\n",
       "      <td id=\"T_2e5b3_row17_col6\" class=\"data row17 col6\" >0.00</td>\n",
       "      <td id=\"T_2e5b3_row17_col7\" class=\"data row17 col7\" >True</td>\n",
       "      <td id=\"T_2e5b3_row17_col8\" class=\"data row17 col8\" >0.00</td>\n",
       "      <td id=\"T_2e5b3_row17_col9\" class=\"data row17 col9\" >USD</td>\n",
       "      <td id=\"T_2e5b3_row17_col10\" class=\"data row17 col10\" >LIBORUSD3M</td>\n",
       "      <td id=\"T_2e5b3_row17_col11\" class=\"data row17 col11\" >0.0000%</td>\n",
       "      <td id=\"T_2e5b3_row17_col12\" class=\"data row17 col12\" >0.0000%</td>\n",
       "      <td id=\"T_2e5b3_row17_col13\" class=\"data row17 col13\" >1.00</td>\n",
       "      <td id=\"T_2e5b3_row17_col14\" class=\"data row17 col14\" >LinAct360</td>\n",
       "    </tr>\n",
       "    <tr>\n",
       "      <th id=\"T_2e5b3_level0_row18\" class=\"row_heading level0 row18\" >18</th>\n",
       "      <td id=\"T_2e5b3_row18_col0\" class=\"data row18 col0\" >2024-05-13</td>\n",
       "      <td id=\"T_2e5b3_row18_col1\" class=\"data row18 col1\" >2024-08-12</td>\n",
       "      <td id=\"T_2e5b3_row18_col2\" class=\"data row18 col2\" >2024-05-09</td>\n",
       "      <td id=\"T_2e5b3_row18_col3\" class=\"data row18 col3\" >2024-08-12</td>\n",
       "      <td id=\"T_2e5b3_row18_col4\" class=\"data row18 col4\" >20,000,000.00</td>\n",
       "      <td id=\"T_2e5b3_row18_col5\" class=\"data row18 col5\" >0.00</td>\n",
       "      <td id=\"T_2e5b3_row18_col6\" class=\"data row18 col6\" >0.00</td>\n",
       "      <td id=\"T_2e5b3_row18_col7\" class=\"data row18 col7\" >True</td>\n",
       "      <td id=\"T_2e5b3_row18_col8\" class=\"data row18 col8\" >0.00</td>\n",
       "      <td id=\"T_2e5b3_row18_col9\" class=\"data row18 col9\" >USD</td>\n",
       "      <td id=\"T_2e5b3_row18_col10\" class=\"data row18 col10\" >LIBORUSD3M</td>\n",
       "      <td id=\"T_2e5b3_row18_col11\" class=\"data row18 col11\" >0.0000%</td>\n",
       "      <td id=\"T_2e5b3_row18_col12\" class=\"data row18 col12\" >0.0000%</td>\n",
       "      <td id=\"T_2e5b3_row18_col13\" class=\"data row18 col13\" >1.00</td>\n",
       "      <td id=\"T_2e5b3_row18_col14\" class=\"data row18 col14\" >LinAct360</td>\n",
       "    </tr>\n",
       "    <tr>\n",
       "      <th id=\"T_2e5b3_level0_row19\" class=\"row_heading level0 row19\" >19</th>\n",
       "      <td id=\"T_2e5b3_row19_col0\" class=\"data row19 col0\" >2024-08-12</td>\n",
       "      <td id=\"T_2e5b3_row19_col1\" class=\"data row19 col1\" >2024-11-12</td>\n",
       "      <td id=\"T_2e5b3_row19_col2\" class=\"data row19 col2\" >2024-08-08</td>\n",
       "      <td id=\"T_2e5b3_row19_col3\" class=\"data row19 col3\" >2024-11-12</td>\n",
       "      <td id=\"T_2e5b3_row19_col4\" class=\"data row19 col4\" >20,000,000.00</td>\n",
       "      <td id=\"T_2e5b3_row19_col5\" class=\"data row19 col5\" >0.00</td>\n",
       "      <td id=\"T_2e5b3_row19_col6\" class=\"data row19 col6\" >0.00</td>\n",
       "      <td id=\"T_2e5b3_row19_col7\" class=\"data row19 col7\" >True</td>\n",
       "      <td id=\"T_2e5b3_row19_col8\" class=\"data row19 col8\" >0.00</td>\n",
       "      <td id=\"T_2e5b3_row19_col9\" class=\"data row19 col9\" >USD</td>\n",
       "      <td id=\"T_2e5b3_row19_col10\" class=\"data row19 col10\" >LIBORUSD3M</td>\n",
       "      <td id=\"T_2e5b3_row19_col11\" class=\"data row19 col11\" >0.0000%</td>\n",
       "      <td id=\"T_2e5b3_row19_col12\" class=\"data row19 col12\" >0.0000%</td>\n",
       "      <td id=\"T_2e5b3_row19_col13\" class=\"data row19 col13\" >1.00</td>\n",
       "      <td id=\"T_2e5b3_row19_col14\" class=\"data row19 col14\" >LinAct360</td>\n",
       "    </tr>\n",
       "    <tr>\n",
       "      <th id=\"T_2e5b3_level0_row20\" class=\"row_heading level0 row20\" >20</th>\n",
       "      <td id=\"T_2e5b3_row20_col0\" class=\"data row20 col0\" >2024-11-12</td>\n",
       "      <td id=\"T_2e5b3_row20_col1\" class=\"data row20 col1\" >2025-02-12</td>\n",
       "      <td id=\"T_2e5b3_row20_col2\" class=\"data row20 col2\" >2024-11-08</td>\n",
       "      <td id=\"T_2e5b3_row20_col3\" class=\"data row20 col3\" >2025-02-12</td>\n",
       "      <td id=\"T_2e5b3_row20_col4\" class=\"data row20 col4\" >20,000,000.00</td>\n",
       "      <td id=\"T_2e5b3_row20_col5\" class=\"data row20 col5\" >0.00</td>\n",
       "      <td id=\"T_2e5b3_row20_col6\" class=\"data row20 col6\" >0.00</td>\n",
       "      <td id=\"T_2e5b3_row20_col7\" class=\"data row20 col7\" >True</td>\n",
       "      <td id=\"T_2e5b3_row20_col8\" class=\"data row20 col8\" >0.00</td>\n",
       "      <td id=\"T_2e5b3_row20_col9\" class=\"data row20 col9\" >USD</td>\n",
       "      <td id=\"T_2e5b3_row20_col10\" class=\"data row20 col10\" >LIBORUSD3M</td>\n",
       "      <td id=\"T_2e5b3_row20_col11\" class=\"data row20 col11\" >0.0000%</td>\n",
       "      <td id=\"T_2e5b3_row20_col12\" class=\"data row20 col12\" >0.0000%</td>\n",
       "      <td id=\"T_2e5b3_row20_col13\" class=\"data row20 col13\" >1.00</td>\n",
       "      <td id=\"T_2e5b3_row20_col14\" class=\"data row20 col14\" >LinAct360</td>\n",
       "    </tr>\n",
       "    <tr>\n",
       "      <th id=\"T_2e5b3_level0_row21\" class=\"row_heading level0 row21\" >21</th>\n",
       "      <td id=\"T_2e5b3_row21_col0\" class=\"data row21 col0\" >2025-02-12</td>\n",
       "      <td id=\"T_2e5b3_row21_col1\" class=\"data row21 col1\" >2025-05-12</td>\n",
       "      <td id=\"T_2e5b3_row21_col2\" class=\"data row21 col2\" >2025-02-10</td>\n",
       "      <td id=\"T_2e5b3_row21_col3\" class=\"data row21 col3\" >2025-05-12</td>\n",
       "      <td id=\"T_2e5b3_row21_col4\" class=\"data row21 col4\" >20,000,000.00</td>\n",
       "      <td id=\"T_2e5b3_row21_col5\" class=\"data row21 col5\" >0.00</td>\n",
       "      <td id=\"T_2e5b3_row21_col6\" class=\"data row21 col6\" >0.00</td>\n",
       "      <td id=\"T_2e5b3_row21_col7\" class=\"data row21 col7\" >True</td>\n",
       "      <td id=\"T_2e5b3_row21_col8\" class=\"data row21 col8\" >0.00</td>\n",
       "      <td id=\"T_2e5b3_row21_col9\" class=\"data row21 col9\" >USD</td>\n",
       "      <td id=\"T_2e5b3_row21_col10\" class=\"data row21 col10\" >LIBORUSD3M</td>\n",
       "      <td id=\"T_2e5b3_row21_col11\" class=\"data row21 col11\" >0.0000%</td>\n",
       "      <td id=\"T_2e5b3_row21_col12\" class=\"data row21 col12\" >0.0000%</td>\n",
       "      <td id=\"T_2e5b3_row21_col13\" class=\"data row21 col13\" >1.00</td>\n",
       "      <td id=\"T_2e5b3_row21_col14\" class=\"data row21 col14\" >LinAct360</td>\n",
       "    </tr>\n",
       "    <tr>\n",
       "      <th id=\"T_2e5b3_level0_row22\" class=\"row_heading level0 row22\" >22</th>\n",
       "      <td id=\"T_2e5b3_row22_col0\" class=\"data row22 col0\" >2025-05-12</td>\n",
       "      <td id=\"T_2e5b3_row22_col1\" class=\"data row22 col1\" >2025-08-12</td>\n",
       "      <td id=\"T_2e5b3_row22_col2\" class=\"data row22 col2\" >2025-05-08</td>\n",
       "      <td id=\"T_2e5b3_row22_col3\" class=\"data row22 col3\" >2025-08-12</td>\n",
       "      <td id=\"T_2e5b3_row22_col4\" class=\"data row22 col4\" >20,000,000.00</td>\n",
       "      <td id=\"T_2e5b3_row22_col5\" class=\"data row22 col5\" >0.00</td>\n",
       "      <td id=\"T_2e5b3_row22_col6\" class=\"data row22 col6\" >0.00</td>\n",
       "      <td id=\"T_2e5b3_row22_col7\" class=\"data row22 col7\" >True</td>\n",
       "      <td id=\"T_2e5b3_row22_col8\" class=\"data row22 col8\" >0.00</td>\n",
       "      <td id=\"T_2e5b3_row22_col9\" class=\"data row22 col9\" >USD</td>\n",
       "      <td id=\"T_2e5b3_row22_col10\" class=\"data row22 col10\" >LIBORUSD3M</td>\n",
       "      <td id=\"T_2e5b3_row22_col11\" class=\"data row22 col11\" >0.0000%</td>\n",
       "      <td id=\"T_2e5b3_row22_col12\" class=\"data row22 col12\" >0.0000%</td>\n",
       "      <td id=\"T_2e5b3_row22_col13\" class=\"data row22 col13\" >1.00</td>\n",
       "      <td id=\"T_2e5b3_row22_col14\" class=\"data row22 col14\" >LinAct360</td>\n",
       "    </tr>\n",
       "    <tr>\n",
       "      <th id=\"T_2e5b3_level0_row23\" class=\"row_heading level0 row23\" >23</th>\n",
       "      <td id=\"T_2e5b3_row23_col0\" class=\"data row23 col0\" >2025-08-12</td>\n",
       "      <td id=\"T_2e5b3_row23_col1\" class=\"data row23 col1\" >2025-11-12</td>\n",
       "      <td id=\"T_2e5b3_row23_col2\" class=\"data row23 col2\" >2025-08-08</td>\n",
       "      <td id=\"T_2e5b3_row23_col3\" class=\"data row23 col3\" >2025-11-12</td>\n",
       "      <td id=\"T_2e5b3_row23_col4\" class=\"data row23 col4\" >20,000,000.00</td>\n",
       "      <td id=\"T_2e5b3_row23_col5\" class=\"data row23 col5\" >0.00</td>\n",
       "      <td id=\"T_2e5b3_row23_col6\" class=\"data row23 col6\" >0.00</td>\n",
       "      <td id=\"T_2e5b3_row23_col7\" class=\"data row23 col7\" >True</td>\n",
       "      <td id=\"T_2e5b3_row23_col8\" class=\"data row23 col8\" >0.00</td>\n",
       "      <td id=\"T_2e5b3_row23_col9\" class=\"data row23 col9\" >USD</td>\n",
       "      <td id=\"T_2e5b3_row23_col10\" class=\"data row23 col10\" >LIBORUSD3M</td>\n",
       "      <td id=\"T_2e5b3_row23_col11\" class=\"data row23 col11\" >0.0000%</td>\n",
       "      <td id=\"T_2e5b3_row23_col12\" class=\"data row23 col12\" >0.0000%</td>\n",
       "      <td id=\"T_2e5b3_row23_col13\" class=\"data row23 col13\" >1.00</td>\n",
       "      <td id=\"T_2e5b3_row23_col14\" class=\"data row23 col14\" >LinAct360</td>\n",
       "    </tr>\n",
       "    <tr>\n",
       "      <th id=\"T_2e5b3_level0_row24\" class=\"row_heading level0 row24\" >24</th>\n",
       "      <td id=\"T_2e5b3_row24_col0\" class=\"data row24 col0\" >2025-11-12</td>\n",
       "      <td id=\"T_2e5b3_row24_col1\" class=\"data row24 col1\" >2026-02-12</td>\n",
       "      <td id=\"T_2e5b3_row24_col2\" class=\"data row24 col2\" >2025-11-10</td>\n",
       "      <td id=\"T_2e5b3_row24_col3\" class=\"data row24 col3\" >2026-02-12</td>\n",
       "      <td id=\"T_2e5b3_row24_col4\" class=\"data row24 col4\" >20,000,000.00</td>\n",
       "      <td id=\"T_2e5b3_row24_col5\" class=\"data row24 col5\" >0.00</td>\n",
       "      <td id=\"T_2e5b3_row24_col6\" class=\"data row24 col6\" >0.00</td>\n",
       "      <td id=\"T_2e5b3_row24_col7\" class=\"data row24 col7\" >True</td>\n",
       "      <td id=\"T_2e5b3_row24_col8\" class=\"data row24 col8\" >0.00</td>\n",
       "      <td id=\"T_2e5b3_row24_col9\" class=\"data row24 col9\" >USD</td>\n",
       "      <td id=\"T_2e5b3_row24_col10\" class=\"data row24 col10\" >LIBORUSD3M</td>\n",
       "      <td id=\"T_2e5b3_row24_col11\" class=\"data row24 col11\" >0.0000%</td>\n",
       "      <td id=\"T_2e5b3_row24_col12\" class=\"data row24 col12\" >0.0000%</td>\n",
       "      <td id=\"T_2e5b3_row24_col13\" class=\"data row24 col13\" >1.00</td>\n",
       "      <td id=\"T_2e5b3_row24_col14\" class=\"data row24 col14\" >LinAct360</td>\n",
       "    </tr>\n",
       "    <tr>\n",
       "      <th id=\"T_2e5b3_level0_row25\" class=\"row_heading level0 row25\" >25</th>\n",
       "      <td id=\"T_2e5b3_row25_col0\" class=\"data row25 col0\" >2026-02-12</td>\n",
       "      <td id=\"T_2e5b3_row25_col1\" class=\"data row25 col1\" >2026-05-12</td>\n",
       "      <td id=\"T_2e5b3_row25_col2\" class=\"data row25 col2\" >2026-02-10</td>\n",
       "      <td id=\"T_2e5b3_row25_col3\" class=\"data row25 col3\" >2026-05-12</td>\n",
       "      <td id=\"T_2e5b3_row25_col4\" class=\"data row25 col4\" >20,000,000.00</td>\n",
       "      <td id=\"T_2e5b3_row25_col5\" class=\"data row25 col5\" >0.00</td>\n",
       "      <td id=\"T_2e5b3_row25_col6\" class=\"data row25 col6\" >0.00</td>\n",
       "      <td id=\"T_2e5b3_row25_col7\" class=\"data row25 col7\" >True</td>\n",
       "      <td id=\"T_2e5b3_row25_col8\" class=\"data row25 col8\" >0.00</td>\n",
       "      <td id=\"T_2e5b3_row25_col9\" class=\"data row25 col9\" >USD</td>\n",
       "      <td id=\"T_2e5b3_row25_col10\" class=\"data row25 col10\" >LIBORUSD3M</td>\n",
       "      <td id=\"T_2e5b3_row25_col11\" class=\"data row25 col11\" >0.0000%</td>\n",
       "      <td id=\"T_2e5b3_row25_col12\" class=\"data row25 col12\" >0.0000%</td>\n",
       "      <td id=\"T_2e5b3_row25_col13\" class=\"data row25 col13\" >1.00</td>\n",
       "      <td id=\"T_2e5b3_row25_col14\" class=\"data row25 col14\" >LinAct360</td>\n",
       "    </tr>\n",
       "    <tr>\n",
       "      <th id=\"T_2e5b3_level0_row26\" class=\"row_heading level0 row26\" >26</th>\n",
       "      <td id=\"T_2e5b3_row26_col0\" class=\"data row26 col0\" >2026-05-12</td>\n",
       "      <td id=\"T_2e5b3_row26_col1\" class=\"data row26 col1\" >2026-08-12</td>\n",
       "      <td id=\"T_2e5b3_row26_col2\" class=\"data row26 col2\" >2026-05-08</td>\n",
       "      <td id=\"T_2e5b3_row26_col3\" class=\"data row26 col3\" >2026-08-12</td>\n",
       "      <td id=\"T_2e5b3_row26_col4\" class=\"data row26 col4\" >20,000,000.00</td>\n",
       "      <td id=\"T_2e5b3_row26_col5\" class=\"data row26 col5\" >0.00</td>\n",
       "      <td id=\"T_2e5b3_row26_col6\" class=\"data row26 col6\" >0.00</td>\n",
       "      <td id=\"T_2e5b3_row26_col7\" class=\"data row26 col7\" >True</td>\n",
       "      <td id=\"T_2e5b3_row26_col8\" class=\"data row26 col8\" >0.00</td>\n",
       "      <td id=\"T_2e5b3_row26_col9\" class=\"data row26 col9\" >USD</td>\n",
       "      <td id=\"T_2e5b3_row26_col10\" class=\"data row26 col10\" >LIBORUSD3M</td>\n",
       "      <td id=\"T_2e5b3_row26_col11\" class=\"data row26 col11\" >0.0000%</td>\n",
       "      <td id=\"T_2e5b3_row26_col12\" class=\"data row26 col12\" >0.0000%</td>\n",
       "      <td id=\"T_2e5b3_row26_col13\" class=\"data row26 col13\" >1.00</td>\n",
       "      <td id=\"T_2e5b3_row26_col14\" class=\"data row26 col14\" >LinAct360</td>\n",
       "    </tr>\n",
       "    <tr>\n",
       "      <th id=\"T_2e5b3_level0_row27\" class=\"row_heading level0 row27\" >27</th>\n",
       "      <td id=\"T_2e5b3_row27_col0\" class=\"data row27 col0\" >2026-08-12</td>\n",
       "      <td id=\"T_2e5b3_row27_col1\" class=\"data row27 col1\" >2026-11-12</td>\n",
       "      <td id=\"T_2e5b3_row27_col2\" class=\"data row27 col2\" >2026-08-10</td>\n",
       "      <td id=\"T_2e5b3_row27_col3\" class=\"data row27 col3\" >2026-11-12</td>\n",
       "      <td id=\"T_2e5b3_row27_col4\" class=\"data row27 col4\" >20,000,000.00</td>\n",
       "      <td id=\"T_2e5b3_row27_col5\" class=\"data row27 col5\" >0.00</td>\n",
       "      <td id=\"T_2e5b3_row27_col6\" class=\"data row27 col6\" >0.00</td>\n",
       "      <td id=\"T_2e5b3_row27_col7\" class=\"data row27 col7\" >True</td>\n",
       "      <td id=\"T_2e5b3_row27_col8\" class=\"data row27 col8\" >0.00</td>\n",
       "      <td id=\"T_2e5b3_row27_col9\" class=\"data row27 col9\" >USD</td>\n",
       "      <td id=\"T_2e5b3_row27_col10\" class=\"data row27 col10\" >LIBORUSD3M</td>\n",
       "      <td id=\"T_2e5b3_row27_col11\" class=\"data row27 col11\" >0.0000%</td>\n",
       "      <td id=\"T_2e5b3_row27_col12\" class=\"data row27 col12\" >0.0000%</td>\n",
       "      <td id=\"T_2e5b3_row27_col13\" class=\"data row27 col13\" >1.00</td>\n",
       "      <td id=\"T_2e5b3_row27_col14\" class=\"data row27 col14\" >LinAct360</td>\n",
       "    </tr>\n",
       "    <tr>\n",
       "      <th id=\"T_2e5b3_level0_row28\" class=\"row_heading level0 row28\" >28</th>\n",
       "      <td id=\"T_2e5b3_row28_col0\" class=\"data row28 col0\" >2026-11-12</td>\n",
       "      <td id=\"T_2e5b3_row28_col1\" class=\"data row28 col1\" >2027-02-12</td>\n",
       "      <td id=\"T_2e5b3_row28_col2\" class=\"data row28 col2\" >2026-11-10</td>\n",
       "      <td id=\"T_2e5b3_row28_col3\" class=\"data row28 col3\" >2027-02-12</td>\n",
       "      <td id=\"T_2e5b3_row28_col4\" class=\"data row28 col4\" >20,000,000.00</td>\n",
       "      <td id=\"T_2e5b3_row28_col5\" class=\"data row28 col5\" >0.00</td>\n",
       "      <td id=\"T_2e5b3_row28_col6\" class=\"data row28 col6\" >0.00</td>\n",
       "      <td id=\"T_2e5b3_row28_col7\" class=\"data row28 col7\" >True</td>\n",
       "      <td id=\"T_2e5b3_row28_col8\" class=\"data row28 col8\" >0.00</td>\n",
       "      <td id=\"T_2e5b3_row28_col9\" class=\"data row28 col9\" >USD</td>\n",
       "      <td id=\"T_2e5b3_row28_col10\" class=\"data row28 col10\" >LIBORUSD3M</td>\n",
       "      <td id=\"T_2e5b3_row28_col11\" class=\"data row28 col11\" >0.0000%</td>\n",
       "      <td id=\"T_2e5b3_row28_col12\" class=\"data row28 col12\" >0.0000%</td>\n",
       "      <td id=\"T_2e5b3_row28_col13\" class=\"data row28 col13\" >1.00</td>\n",
       "      <td id=\"T_2e5b3_row28_col14\" class=\"data row28 col14\" >LinAct360</td>\n",
       "    </tr>\n",
       "    <tr>\n",
       "      <th id=\"T_2e5b3_level0_row29\" class=\"row_heading level0 row29\" >29</th>\n",
       "      <td id=\"T_2e5b3_row29_col0\" class=\"data row29 col0\" >2027-02-12</td>\n",
       "      <td id=\"T_2e5b3_row29_col1\" class=\"data row29 col1\" >2027-05-12</td>\n",
       "      <td id=\"T_2e5b3_row29_col2\" class=\"data row29 col2\" >2027-02-10</td>\n",
       "      <td id=\"T_2e5b3_row29_col3\" class=\"data row29 col3\" >2027-05-12</td>\n",
       "      <td id=\"T_2e5b3_row29_col4\" class=\"data row29 col4\" >20,000,000.00</td>\n",
       "      <td id=\"T_2e5b3_row29_col5\" class=\"data row29 col5\" >0.00</td>\n",
       "      <td id=\"T_2e5b3_row29_col6\" class=\"data row29 col6\" >0.00</td>\n",
       "      <td id=\"T_2e5b3_row29_col7\" class=\"data row29 col7\" >True</td>\n",
       "      <td id=\"T_2e5b3_row29_col8\" class=\"data row29 col8\" >0.00</td>\n",
       "      <td id=\"T_2e5b3_row29_col9\" class=\"data row29 col9\" >USD</td>\n",
       "      <td id=\"T_2e5b3_row29_col10\" class=\"data row29 col10\" >LIBORUSD3M</td>\n",
       "      <td id=\"T_2e5b3_row29_col11\" class=\"data row29 col11\" >0.0000%</td>\n",
       "      <td id=\"T_2e5b3_row29_col12\" class=\"data row29 col12\" >0.0000%</td>\n",
       "      <td id=\"T_2e5b3_row29_col13\" class=\"data row29 col13\" >1.00</td>\n",
       "      <td id=\"T_2e5b3_row29_col14\" class=\"data row29 col14\" >LinAct360</td>\n",
       "    </tr>\n",
       "    <tr>\n",
       "      <th id=\"T_2e5b3_level0_row30\" class=\"row_heading level0 row30\" >30</th>\n",
       "      <td id=\"T_2e5b3_row30_col0\" class=\"data row30 col0\" >2027-05-12</td>\n",
       "      <td id=\"T_2e5b3_row30_col1\" class=\"data row30 col1\" >2027-08-12</td>\n",
       "      <td id=\"T_2e5b3_row30_col2\" class=\"data row30 col2\" >2027-05-10</td>\n",
       "      <td id=\"T_2e5b3_row30_col3\" class=\"data row30 col3\" >2027-08-12</td>\n",
       "      <td id=\"T_2e5b3_row30_col4\" class=\"data row30 col4\" >20,000,000.00</td>\n",
       "      <td id=\"T_2e5b3_row30_col5\" class=\"data row30 col5\" >0.00</td>\n",
       "      <td id=\"T_2e5b3_row30_col6\" class=\"data row30 col6\" >0.00</td>\n",
       "      <td id=\"T_2e5b3_row30_col7\" class=\"data row30 col7\" >True</td>\n",
       "      <td id=\"T_2e5b3_row30_col8\" class=\"data row30 col8\" >0.00</td>\n",
       "      <td id=\"T_2e5b3_row30_col9\" class=\"data row30 col9\" >USD</td>\n",
       "      <td id=\"T_2e5b3_row30_col10\" class=\"data row30 col10\" >LIBORUSD3M</td>\n",
       "      <td id=\"T_2e5b3_row30_col11\" class=\"data row30 col11\" >0.0000%</td>\n",
       "      <td id=\"T_2e5b3_row30_col12\" class=\"data row30 col12\" >0.0000%</td>\n",
       "      <td id=\"T_2e5b3_row30_col13\" class=\"data row30 col13\" >1.00</td>\n",
       "      <td id=\"T_2e5b3_row30_col14\" class=\"data row30 col14\" >LinAct360</td>\n",
       "    </tr>\n",
       "    <tr>\n",
       "      <th id=\"T_2e5b3_level0_row31\" class=\"row_heading level0 row31\" >31</th>\n",
       "      <td id=\"T_2e5b3_row31_col0\" class=\"data row31 col0\" >2027-08-12</td>\n",
       "      <td id=\"T_2e5b3_row31_col1\" class=\"data row31 col1\" >2027-11-12</td>\n",
       "      <td id=\"T_2e5b3_row31_col2\" class=\"data row31 col2\" >2027-08-10</td>\n",
       "      <td id=\"T_2e5b3_row31_col3\" class=\"data row31 col3\" >2027-11-12</td>\n",
       "      <td id=\"T_2e5b3_row31_col4\" class=\"data row31 col4\" >20,000,000.00</td>\n",
       "      <td id=\"T_2e5b3_row31_col5\" class=\"data row31 col5\" >0.00</td>\n",
       "      <td id=\"T_2e5b3_row31_col6\" class=\"data row31 col6\" >0.00</td>\n",
       "      <td id=\"T_2e5b3_row31_col7\" class=\"data row31 col7\" >True</td>\n",
       "      <td id=\"T_2e5b3_row31_col8\" class=\"data row31 col8\" >0.00</td>\n",
       "      <td id=\"T_2e5b3_row31_col9\" class=\"data row31 col9\" >USD</td>\n",
       "      <td id=\"T_2e5b3_row31_col10\" class=\"data row31 col10\" >LIBORUSD3M</td>\n",
       "      <td id=\"T_2e5b3_row31_col11\" class=\"data row31 col11\" >0.0000%</td>\n",
       "      <td id=\"T_2e5b3_row31_col12\" class=\"data row31 col12\" >0.0000%</td>\n",
       "      <td id=\"T_2e5b3_row31_col13\" class=\"data row31 col13\" >1.00</td>\n",
       "      <td id=\"T_2e5b3_row31_col14\" class=\"data row31 col14\" >LinAct360</td>\n",
       "    </tr>\n",
       "    <tr>\n",
       "      <th id=\"T_2e5b3_level0_row32\" class=\"row_heading level0 row32\" >32</th>\n",
       "      <td id=\"T_2e5b3_row32_col0\" class=\"data row32 col0\" >2027-11-12</td>\n",
       "      <td id=\"T_2e5b3_row32_col1\" class=\"data row32 col1\" >2028-02-14</td>\n",
       "      <td id=\"T_2e5b3_row32_col2\" class=\"data row32 col2\" >2027-11-10</td>\n",
       "      <td id=\"T_2e5b3_row32_col3\" class=\"data row32 col3\" >2028-02-14</td>\n",
       "      <td id=\"T_2e5b3_row32_col4\" class=\"data row32 col4\" >20,000,000.00</td>\n",
       "      <td id=\"T_2e5b3_row32_col5\" class=\"data row32 col5\" >0.00</td>\n",
       "      <td id=\"T_2e5b3_row32_col6\" class=\"data row32 col6\" >0.00</td>\n",
       "      <td id=\"T_2e5b3_row32_col7\" class=\"data row32 col7\" >True</td>\n",
       "      <td id=\"T_2e5b3_row32_col8\" class=\"data row32 col8\" >0.00</td>\n",
       "      <td id=\"T_2e5b3_row32_col9\" class=\"data row32 col9\" >USD</td>\n",
       "      <td id=\"T_2e5b3_row32_col10\" class=\"data row32 col10\" >LIBORUSD3M</td>\n",
       "      <td id=\"T_2e5b3_row32_col11\" class=\"data row32 col11\" >0.0000%</td>\n",
       "      <td id=\"T_2e5b3_row32_col12\" class=\"data row32 col12\" >0.0000%</td>\n",
       "      <td id=\"T_2e5b3_row32_col13\" class=\"data row32 col13\" >1.00</td>\n",
       "      <td id=\"T_2e5b3_row32_col14\" class=\"data row32 col14\" >LinAct360</td>\n",
       "    </tr>\n",
       "    <tr>\n",
       "      <th id=\"T_2e5b3_level0_row33\" class=\"row_heading level0 row33\" >33</th>\n",
       "      <td id=\"T_2e5b3_row33_col0\" class=\"data row33 col0\" >2028-02-14</td>\n",
       "      <td id=\"T_2e5b3_row33_col1\" class=\"data row33 col1\" >2028-05-12</td>\n",
       "      <td id=\"T_2e5b3_row33_col2\" class=\"data row33 col2\" >2028-02-10</td>\n",
       "      <td id=\"T_2e5b3_row33_col3\" class=\"data row33 col3\" >2028-05-12</td>\n",
       "      <td id=\"T_2e5b3_row33_col4\" class=\"data row33 col4\" >20,000,000.00</td>\n",
       "      <td id=\"T_2e5b3_row33_col5\" class=\"data row33 col5\" >0.00</td>\n",
       "      <td id=\"T_2e5b3_row33_col6\" class=\"data row33 col6\" >0.00</td>\n",
       "      <td id=\"T_2e5b3_row33_col7\" class=\"data row33 col7\" >True</td>\n",
       "      <td id=\"T_2e5b3_row33_col8\" class=\"data row33 col8\" >0.00</td>\n",
       "      <td id=\"T_2e5b3_row33_col9\" class=\"data row33 col9\" >USD</td>\n",
       "      <td id=\"T_2e5b3_row33_col10\" class=\"data row33 col10\" >LIBORUSD3M</td>\n",
       "      <td id=\"T_2e5b3_row33_col11\" class=\"data row33 col11\" >0.0000%</td>\n",
       "      <td id=\"T_2e5b3_row33_col12\" class=\"data row33 col12\" >0.0000%</td>\n",
       "      <td id=\"T_2e5b3_row33_col13\" class=\"data row33 col13\" >1.00</td>\n",
       "      <td id=\"T_2e5b3_row33_col14\" class=\"data row33 col14\" >LinAct360</td>\n",
       "    </tr>\n",
       "    <tr>\n",
       "      <th id=\"T_2e5b3_level0_row34\" class=\"row_heading level0 row34\" >34</th>\n",
       "      <td id=\"T_2e5b3_row34_col0\" class=\"data row34 col0\" >2028-05-12</td>\n",
       "      <td id=\"T_2e5b3_row34_col1\" class=\"data row34 col1\" >2028-08-14</td>\n",
       "      <td id=\"T_2e5b3_row34_col2\" class=\"data row34 col2\" >2028-05-10</td>\n",
       "      <td id=\"T_2e5b3_row34_col3\" class=\"data row34 col3\" >2028-08-14</td>\n",
       "      <td id=\"T_2e5b3_row34_col4\" class=\"data row34 col4\" >20,000,000.00</td>\n",
       "      <td id=\"T_2e5b3_row34_col5\" class=\"data row34 col5\" >0.00</td>\n",
       "      <td id=\"T_2e5b3_row34_col6\" class=\"data row34 col6\" >0.00</td>\n",
       "      <td id=\"T_2e5b3_row34_col7\" class=\"data row34 col7\" >True</td>\n",
       "      <td id=\"T_2e5b3_row34_col8\" class=\"data row34 col8\" >0.00</td>\n",
       "      <td id=\"T_2e5b3_row34_col9\" class=\"data row34 col9\" >USD</td>\n",
       "      <td id=\"T_2e5b3_row34_col10\" class=\"data row34 col10\" >LIBORUSD3M</td>\n",
       "      <td id=\"T_2e5b3_row34_col11\" class=\"data row34 col11\" >0.0000%</td>\n",
       "      <td id=\"T_2e5b3_row34_col12\" class=\"data row34 col12\" >0.0000%</td>\n",
       "      <td id=\"T_2e5b3_row34_col13\" class=\"data row34 col13\" >1.00</td>\n",
       "      <td id=\"T_2e5b3_row34_col14\" class=\"data row34 col14\" >LinAct360</td>\n",
       "    </tr>\n",
       "    <tr>\n",
       "      <th id=\"T_2e5b3_level0_row35\" class=\"row_heading level0 row35\" >35</th>\n",
       "      <td id=\"T_2e5b3_row35_col0\" class=\"data row35 col0\" >2028-08-14</td>\n",
       "      <td id=\"T_2e5b3_row35_col1\" class=\"data row35 col1\" >2028-11-13</td>\n",
       "      <td id=\"T_2e5b3_row35_col2\" class=\"data row35 col2\" >2028-08-10</td>\n",
       "      <td id=\"T_2e5b3_row35_col3\" class=\"data row35 col3\" >2028-11-13</td>\n",
       "      <td id=\"T_2e5b3_row35_col4\" class=\"data row35 col4\" >20,000,000.00</td>\n",
       "      <td id=\"T_2e5b3_row35_col5\" class=\"data row35 col5\" >0.00</td>\n",
       "      <td id=\"T_2e5b3_row35_col6\" class=\"data row35 col6\" >0.00</td>\n",
       "      <td id=\"T_2e5b3_row35_col7\" class=\"data row35 col7\" >True</td>\n",
       "      <td id=\"T_2e5b3_row35_col8\" class=\"data row35 col8\" >0.00</td>\n",
       "      <td id=\"T_2e5b3_row35_col9\" class=\"data row35 col9\" >USD</td>\n",
       "      <td id=\"T_2e5b3_row35_col10\" class=\"data row35 col10\" >LIBORUSD3M</td>\n",
       "      <td id=\"T_2e5b3_row35_col11\" class=\"data row35 col11\" >0.0000%</td>\n",
       "      <td id=\"T_2e5b3_row35_col12\" class=\"data row35 col12\" >0.0000%</td>\n",
       "      <td id=\"T_2e5b3_row35_col13\" class=\"data row35 col13\" >1.00</td>\n",
       "      <td id=\"T_2e5b3_row35_col14\" class=\"data row35 col14\" >LinAct360</td>\n",
       "    </tr>\n",
       "    <tr>\n",
       "      <th id=\"T_2e5b3_level0_row36\" class=\"row_heading level0 row36\" >36</th>\n",
       "      <td id=\"T_2e5b3_row36_col0\" class=\"data row36 col0\" >2028-11-13</td>\n",
       "      <td id=\"T_2e5b3_row36_col1\" class=\"data row36 col1\" >2029-02-12</td>\n",
       "      <td id=\"T_2e5b3_row36_col2\" class=\"data row36 col2\" >2028-11-09</td>\n",
       "      <td id=\"T_2e5b3_row36_col3\" class=\"data row36 col3\" >2029-02-12</td>\n",
       "      <td id=\"T_2e5b3_row36_col4\" class=\"data row36 col4\" >20,000,000.00</td>\n",
       "      <td id=\"T_2e5b3_row36_col5\" class=\"data row36 col5\" >0.00</td>\n",
       "      <td id=\"T_2e5b3_row36_col6\" class=\"data row36 col6\" >0.00</td>\n",
       "      <td id=\"T_2e5b3_row36_col7\" class=\"data row36 col7\" >True</td>\n",
       "      <td id=\"T_2e5b3_row36_col8\" class=\"data row36 col8\" >0.00</td>\n",
       "      <td id=\"T_2e5b3_row36_col9\" class=\"data row36 col9\" >USD</td>\n",
       "      <td id=\"T_2e5b3_row36_col10\" class=\"data row36 col10\" >LIBORUSD3M</td>\n",
       "      <td id=\"T_2e5b3_row36_col11\" class=\"data row36 col11\" >0.0000%</td>\n",
       "      <td id=\"T_2e5b3_row36_col12\" class=\"data row36 col12\" >0.0000%</td>\n",
       "      <td id=\"T_2e5b3_row36_col13\" class=\"data row36 col13\" >1.00</td>\n",
       "      <td id=\"T_2e5b3_row36_col14\" class=\"data row36 col14\" >LinAct360</td>\n",
       "    </tr>\n",
       "    <tr>\n",
       "      <th id=\"T_2e5b3_level0_row37\" class=\"row_heading level0 row37\" >37</th>\n",
       "      <td id=\"T_2e5b3_row37_col0\" class=\"data row37 col0\" >2029-02-12</td>\n",
       "      <td id=\"T_2e5b3_row37_col1\" class=\"data row37 col1\" >2029-05-14</td>\n",
       "      <td id=\"T_2e5b3_row37_col2\" class=\"data row37 col2\" >2029-02-08</td>\n",
       "      <td id=\"T_2e5b3_row37_col3\" class=\"data row37 col3\" >2029-05-14</td>\n",
       "      <td id=\"T_2e5b3_row37_col4\" class=\"data row37 col4\" >20,000,000.00</td>\n",
       "      <td id=\"T_2e5b3_row37_col5\" class=\"data row37 col5\" >0.00</td>\n",
       "      <td id=\"T_2e5b3_row37_col6\" class=\"data row37 col6\" >0.00</td>\n",
       "      <td id=\"T_2e5b3_row37_col7\" class=\"data row37 col7\" >True</td>\n",
       "      <td id=\"T_2e5b3_row37_col8\" class=\"data row37 col8\" >0.00</td>\n",
       "      <td id=\"T_2e5b3_row37_col9\" class=\"data row37 col9\" >USD</td>\n",
       "      <td id=\"T_2e5b3_row37_col10\" class=\"data row37 col10\" >LIBORUSD3M</td>\n",
       "      <td id=\"T_2e5b3_row37_col11\" class=\"data row37 col11\" >0.0000%</td>\n",
       "      <td id=\"T_2e5b3_row37_col12\" class=\"data row37 col12\" >0.0000%</td>\n",
       "      <td id=\"T_2e5b3_row37_col13\" class=\"data row37 col13\" >1.00</td>\n",
       "      <td id=\"T_2e5b3_row37_col14\" class=\"data row37 col14\" >LinAct360</td>\n",
       "    </tr>\n",
       "    <tr>\n",
       "      <th id=\"T_2e5b3_level0_row38\" class=\"row_heading level0 row38\" >38</th>\n",
       "      <td id=\"T_2e5b3_row38_col0\" class=\"data row38 col0\" >2029-05-14</td>\n",
       "      <td id=\"T_2e5b3_row38_col1\" class=\"data row38 col1\" >2029-08-13</td>\n",
       "      <td id=\"T_2e5b3_row38_col2\" class=\"data row38 col2\" >2029-05-10</td>\n",
       "      <td id=\"T_2e5b3_row38_col3\" class=\"data row38 col3\" >2029-08-13</td>\n",
       "      <td id=\"T_2e5b3_row38_col4\" class=\"data row38 col4\" >20,000,000.00</td>\n",
       "      <td id=\"T_2e5b3_row38_col5\" class=\"data row38 col5\" >0.00</td>\n",
       "      <td id=\"T_2e5b3_row38_col6\" class=\"data row38 col6\" >0.00</td>\n",
       "      <td id=\"T_2e5b3_row38_col7\" class=\"data row38 col7\" >True</td>\n",
       "      <td id=\"T_2e5b3_row38_col8\" class=\"data row38 col8\" >0.00</td>\n",
       "      <td id=\"T_2e5b3_row38_col9\" class=\"data row38 col9\" >USD</td>\n",
       "      <td id=\"T_2e5b3_row38_col10\" class=\"data row38 col10\" >LIBORUSD3M</td>\n",
       "      <td id=\"T_2e5b3_row38_col11\" class=\"data row38 col11\" >0.0000%</td>\n",
       "      <td id=\"T_2e5b3_row38_col12\" class=\"data row38 col12\" >0.0000%</td>\n",
       "      <td id=\"T_2e5b3_row38_col13\" class=\"data row38 col13\" >1.00</td>\n",
       "      <td id=\"T_2e5b3_row38_col14\" class=\"data row38 col14\" >LinAct360</td>\n",
       "    </tr>\n",
       "    <tr>\n",
       "      <th id=\"T_2e5b3_level0_row39\" class=\"row_heading level0 row39\" >39</th>\n",
       "      <td id=\"T_2e5b3_row39_col0\" class=\"data row39 col0\" >2029-08-13</td>\n",
       "      <td id=\"T_2e5b3_row39_col1\" class=\"data row39 col1\" >2029-11-12</td>\n",
       "      <td id=\"T_2e5b3_row39_col2\" class=\"data row39 col2\" >2029-08-09</td>\n",
       "      <td id=\"T_2e5b3_row39_col3\" class=\"data row39 col3\" >2029-11-12</td>\n",
       "      <td id=\"T_2e5b3_row39_col4\" class=\"data row39 col4\" >20,000,000.00</td>\n",
       "      <td id=\"T_2e5b3_row39_col5\" class=\"data row39 col5\" >20,000,000.00</td>\n",
       "      <td id=\"T_2e5b3_row39_col6\" class=\"data row39 col6\" >0.00</td>\n",
       "      <td id=\"T_2e5b3_row39_col7\" class=\"data row39 col7\" >True</td>\n",
       "      <td id=\"T_2e5b3_row39_col8\" class=\"data row39 col8\" >20,000,000.00</td>\n",
       "      <td id=\"T_2e5b3_row39_col9\" class=\"data row39 col9\" >USD</td>\n",
       "      <td id=\"T_2e5b3_row39_col10\" class=\"data row39 col10\" >LIBORUSD3M</td>\n",
       "      <td id=\"T_2e5b3_row39_col11\" class=\"data row39 col11\" >0.0000%</td>\n",
       "      <td id=\"T_2e5b3_row39_col12\" class=\"data row39 col12\" >0.0000%</td>\n",
       "      <td id=\"T_2e5b3_row39_col13\" class=\"data row39 col13\" >1.00</td>\n",
       "      <td id=\"T_2e5b3_row39_col14\" class=\"data row39 col14\" >LinAct360</td>\n",
       "    </tr>\n",
       "  </tbody>\n",
       "</table>\n"
      ],
      "text/plain": [
       "<pandas.io.formats.style.Styler at 0x10fda0610>"
      ]
     },
     "execution_count": 72,
     "metadata": {},
     "output_type": "execute_result"
    }
   ],
   "source": [
    "# Se define un list donde almacenar los resultados de la función show\n",
    "tabla = []\n",
    "for i in range(0, ibor_leg.size()):\n",
    "    tabla.append(qcf.show(ibor_leg.get_cashflow_at(i)))\n",
    "\n",
    "# Se utiliza tabla para inicializar el Dataframe\n",
    "columnas = ['fecha_inicial', 'fecha__final', 'fecha_fixing', 'fecha__pago', 'nominal', 'amort', 'interes', 'amort_es_flujo', 'flujo',\n",
    "            'moneda', 'codigo_indice', 'valor_tasa', 'spread', 'gearing', 'tipo_tasa']\n",
    "df5 = pd.DataFrame(tabla, columns=columnas)\n",
    "\n",
    "# Se despliega la data en este formato\n",
    "df5.style.format(format_dict)"
   ]
  },
  {
   "cell_type": "code",
   "execution_count": 73,
   "metadata": {
    "ExecuteTime": {
     "end_time": "2022-01-24T13:13:32.083019Z",
     "start_time": "2022-01-24T13:13:32.068020Z"
    },
    "execution": {
     "iopub.execute_input": "2023-10-16T14:40:44.798322Z",
     "iopub.status.busy": "2023-10-16T14:40:44.798153Z",
     "iopub.status.idle": "2023-10-16T14:40:44.800222Z",
     "shell.execute_reply": "2023-10-16T14:40:44.799995Z",
     "shell.execute_reply.started": "2023-10-16T14:40:44.798316Z"
    }
   },
   "outputs": [],
   "source": [
    "libor = 0.0190063\n",
    "fecha_hoy = qcf.QCDate(25, 2, 2020)\n",
    "ibor_leg.get_cashflow_at(0).set_rate_value(libor)\n",
    "fwd_rates.set_rates_ibor_leg(fecha_hoy, ibor_leg, zz2)"
   ]
  },
  {
   "cell_type": "code",
   "execution_count": 74,
   "metadata": {
    "ExecuteTime": {
     "end_time": "2022-01-24T13:13:32.099019Z",
     "start_time": "2022-01-24T13:13:32.084021Z"
    },
    "execution": {
     "iopub.execute_input": "2023-10-16T14:40:44.800634Z",
     "iopub.status.busy": "2023-10-16T14:40:44.800576Z",
     "iopub.status.idle": "2023-10-16T14:40:44.809425Z",
     "shell.execute_reply": "2023-10-16T14:40:44.809086Z",
     "shell.execute_reply.started": "2023-10-16T14:40:44.800628Z"
    }
   },
   "outputs": [
    {
     "data": {
      "text/html": [
       "<style type=\"text/css\">\n",
       "</style>\n",
       "<table id=\"T_91a30\">\n",
       "  <thead>\n",
       "    <tr>\n",
       "      <th class=\"blank level0\" >&nbsp;</th>\n",
       "      <th id=\"T_91a30_level0_col0\" class=\"col_heading level0 col0\" >fecha_inicial</th>\n",
       "      <th id=\"T_91a30_level0_col1\" class=\"col_heading level0 col1\" >fecha__final</th>\n",
       "      <th id=\"T_91a30_level0_col2\" class=\"col_heading level0 col2\" >fecha_fixing</th>\n",
       "      <th id=\"T_91a30_level0_col3\" class=\"col_heading level0 col3\" >fecha__pago</th>\n",
       "      <th id=\"T_91a30_level0_col4\" class=\"col_heading level0 col4\" >nominal</th>\n",
       "      <th id=\"T_91a30_level0_col5\" class=\"col_heading level0 col5\" >amort</th>\n",
       "      <th id=\"T_91a30_level0_col6\" class=\"col_heading level0 col6\" >interes</th>\n",
       "      <th id=\"T_91a30_level0_col7\" class=\"col_heading level0 col7\" >amort_es_flujo</th>\n",
       "      <th id=\"T_91a30_level0_col8\" class=\"col_heading level0 col8\" >flujo</th>\n",
       "      <th id=\"T_91a30_level0_col9\" class=\"col_heading level0 col9\" >moneda</th>\n",
       "      <th id=\"T_91a30_level0_col10\" class=\"col_heading level0 col10\" >codigo_indice</th>\n",
       "      <th id=\"T_91a30_level0_col11\" class=\"col_heading level0 col11\" >valor_tasa</th>\n",
       "      <th id=\"T_91a30_level0_col12\" class=\"col_heading level0 col12\" >spread</th>\n",
       "      <th id=\"T_91a30_level0_col13\" class=\"col_heading level0 col13\" >gearing</th>\n",
       "      <th id=\"T_91a30_level0_col14\" class=\"col_heading level0 col14\" >tipo_tasa</th>\n",
       "    </tr>\n",
       "  </thead>\n",
       "  <tbody>\n",
       "    <tr>\n",
       "      <th id=\"T_91a30_level0_row0\" class=\"row_heading level0 row0\" >0</th>\n",
       "      <td id=\"T_91a30_row0_col0\" class=\"data row0 col0\" >2019-11-12</td>\n",
       "      <td id=\"T_91a30_row0_col1\" class=\"data row0 col1\" >2020-02-12</td>\n",
       "      <td id=\"T_91a30_row0_col2\" class=\"data row0 col2\" >2019-11-08</td>\n",
       "      <td id=\"T_91a30_row0_col3\" class=\"data row0 col3\" >2020-02-12</td>\n",
       "      <td id=\"T_91a30_row0_col4\" class=\"data row0 col4\" >20,000,000.00</td>\n",
       "      <td id=\"T_91a30_row0_col5\" class=\"data row0 col5\" >0.00</td>\n",
       "      <td id=\"T_91a30_row0_col6\" class=\"data row0 col6\" >97,143.31</td>\n",
       "      <td id=\"T_91a30_row0_col7\" class=\"data row0 col7\" >True</td>\n",
       "      <td id=\"T_91a30_row0_col8\" class=\"data row0 col8\" >97,143.31</td>\n",
       "      <td id=\"T_91a30_row0_col9\" class=\"data row0 col9\" >USD</td>\n",
       "      <td id=\"T_91a30_row0_col10\" class=\"data row0 col10\" >LIBORUSD3M</td>\n",
       "      <td id=\"T_91a30_row0_col11\" class=\"data row0 col11\" >1.9006%</td>\n",
       "      <td id=\"T_91a30_row0_col12\" class=\"data row0 col12\" >0.0000%</td>\n",
       "      <td id=\"T_91a30_row0_col13\" class=\"data row0 col13\" >1.00</td>\n",
       "      <td id=\"T_91a30_row0_col14\" class=\"data row0 col14\" >LinAct360</td>\n",
       "    </tr>\n",
       "    <tr>\n",
       "      <th id=\"T_91a30_level0_row1\" class=\"row_heading level0 row1\" >1</th>\n",
       "      <td id=\"T_91a30_row1_col0\" class=\"data row1 col0\" >2020-02-12</td>\n",
       "      <td id=\"T_91a30_row1_col1\" class=\"data row1 col1\" >2020-05-12</td>\n",
       "      <td id=\"T_91a30_row1_col2\" class=\"data row1 col2\" >2020-02-10</td>\n",
       "      <td id=\"T_91a30_row1_col3\" class=\"data row1 col3\" >2020-05-12</td>\n",
       "      <td id=\"T_91a30_row1_col4\" class=\"data row1 col4\" >20,000,000.00</td>\n",
       "      <td id=\"T_91a30_row1_col5\" class=\"data row1 col5\" >0.00</td>\n",
       "      <td id=\"T_91a30_row1_col6\" class=\"data row1 col6\" >0.00</td>\n",
       "      <td id=\"T_91a30_row1_col7\" class=\"data row1 col7\" >True</td>\n",
       "      <td id=\"T_91a30_row1_col8\" class=\"data row1 col8\" >0.00</td>\n",
       "      <td id=\"T_91a30_row1_col9\" class=\"data row1 col9\" >USD</td>\n",
       "      <td id=\"T_91a30_row1_col10\" class=\"data row1 col10\" >LIBORUSD3M</td>\n",
       "      <td id=\"T_91a30_row1_col11\" class=\"data row1 col11\" >0.0000%</td>\n",
       "      <td id=\"T_91a30_row1_col12\" class=\"data row1 col12\" >0.0000%</td>\n",
       "      <td id=\"T_91a30_row1_col13\" class=\"data row1 col13\" >1.00</td>\n",
       "      <td id=\"T_91a30_row1_col14\" class=\"data row1 col14\" >LinAct360</td>\n",
       "    </tr>\n",
       "    <tr>\n",
       "      <th id=\"T_91a30_level0_row2\" class=\"row_heading level0 row2\" >2</th>\n",
       "      <td id=\"T_91a30_row2_col0\" class=\"data row2 col0\" >2020-05-12</td>\n",
       "      <td id=\"T_91a30_row2_col1\" class=\"data row2 col1\" >2020-08-12</td>\n",
       "      <td id=\"T_91a30_row2_col2\" class=\"data row2 col2\" >2020-05-08</td>\n",
       "      <td id=\"T_91a30_row2_col3\" class=\"data row2 col3\" >2020-08-12</td>\n",
       "      <td id=\"T_91a30_row2_col4\" class=\"data row2 col4\" >20,000,000.00</td>\n",
       "      <td id=\"T_91a30_row2_col5\" class=\"data row2 col5\" >0.00</td>\n",
       "      <td id=\"T_91a30_row2_col6\" class=\"data row2 col6\" >87,136.92</td>\n",
       "      <td id=\"T_91a30_row2_col7\" class=\"data row2 col7\" >True</td>\n",
       "      <td id=\"T_91a30_row2_col8\" class=\"data row2 col8\" >87,136.92</td>\n",
       "      <td id=\"T_91a30_row2_col9\" class=\"data row2 col9\" >USD</td>\n",
       "      <td id=\"T_91a30_row2_col10\" class=\"data row2 col10\" >LIBORUSD3M</td>\n",
       "      <td id=\"T_91a30_row2_col11\" class=\"data row2 col11\" >1.7049%</td>\n",
       "      <td id=\"T_91a30_row2_col12\" class=\"data row2 col12\" >0.0000%</td>\n",
       "      <td id=\"T_91a30_row2_col13\" class=\"data row2 col13\" >1.00</td>\n",
       "      <td id=\"T_91a30_row2_col14\" class=\"data row2 col14\" >LinAct360</td>\n",
       "    </tr>\n",
       "    <tr>\n",
       "      <th id=\"T_91a30_level0_row3\" class=\"row_heading level0 row3\" >3</th>\n",
       "      <td id=\"T_91a30_row3_col0\" class=\"data row3 col0\" >2020-08-12</td>\n",
       "      <td id=\"T_91a30_row3_col1\" class=\"data row3 col1\" >2020-11-12</td>\n",
       "      <td id=\"T_91a30_row3_col2\" class=\"data row3 col2\" >2020-08-10</td>\n",
       "      <td id=\"T_91a30_row3_col3\" class=\"data row3 col3\" >2020-11-12</td>\n",
       "      <td id=\"T_91a30_row3_col4\" class=\"data row3 col4\" >20,000,000.00</td>\n",
       "      <td id=\"T_91a30_row3_col5\" class=\"data row3 col5\" >0.00</td>\n",
       "      <td id=\"T_91a30_row3_col6\" class=\"data row3 col6\" >83,357.57</td>\n",
       "      <td id=\"T_91a30_row3_col7\" class=\"data row3 col7\" >True</td>\n",
       "      <td id=\"T_91a30_row3_col8\" class=\"data row3 col8\" >83,357.57</td>\n",
       "      <td id=\"T_91a30_row3_col9\" class=\"data row3 col9\" >USD</td>\n",
       "      <td id=\"T_91a30_row3_col10\" class=\"data row3 col10\" >LIBORUSD3M</td>\n",
       "      <td id=\"T_91a30_row3_col11\" class=\"data row3 col11\" >1.6309%</td>\n",
       "      <td id=\"T_91a30_row3_col12\" class=\"data row3 col12\" >0.0000%</td>\n",
       "      <td id=\"T_91a30_row3_col13\" class=\"data row3 col13\" >1.00</td>\n",
       "      <td id=\"T_91a30_row3_col14\" class=\"data row3 col14\" >LinAct360</td>\n",
       "    </tr>\n",
       "    <tr>\n",
       "      <th id=\"T_91a30_level0_row4\" class=\"row_heading level0 row4\" >4</th>\n",
       "      <td id=\"T_91a30_row4_col0\" class=\"data row4 col0\" >2020-11-12</td>\n",
       "      <td id=\"T_91a30_row4_col1\" class=\"data row4 col1\" >2021-02-12</td>\n",
       "      <td id=\"T_91a30_row4_col2\" class=\"data row4 col2\" >2020-11-10</td>\n",
       "      <td id=\"T_91a30_row4_col3\" class=\"data row4 col3\" >2021-02-12</td>\n",
       "      <td id=\"T_91a30_row4_col4\" class=\"data row4 col4\" >20,000,000.00</td>\n",
       "      <td id=\"T_91a30_row4_col5\" class=\"data row4 col5\" >0.00</td>\n",
       "      <td id=\"T_91a30_row4_col6\" class=\"data row4 col6\" >79,834.14</td>\n",
       "      <td id=\"T_91a30_row4_col7\" class=\"data row4 col7\" >True</td>\n",
       "      <td id=\"T_91a30_row4_col8\" class=\"data row4 col8\" >79,834.14</td>\n",
       "      <td id=\"T_91a30_row4_col9\" class=\"data row4 col9\" >USD</td>\n",
       "      <td id=\"T_91a30_row4_col10\" class=\"data row4 col10\" >LIBORUSD3M</td>\n",
       "      <td id=\"T_91a30_row4_col11\" class=\"data row4 col11\" >1.5620%</td>\n",
       "      <td id=\"T_91a30_row4_col12\" class=\"data row4 col12\" >0.0000%</td>\n",
       "      <td id=\"T_91a30_row4_col13\" class=\"data row4 col13\" >1.00</td>\n",
       "      <td id=\"T_91a30_row4_col14\" class=\"data row4 col14\" >LinAct360</td>\n",
       "    </tr>\n",
       "    <tr>\n",
       "      <th id=\"T_91a30_level0_row5\" class=\"row_heading level0 row5\" >5</th>\n",
       "      <td id=\"T_91a30_row5_col0\" class=\"data row5 col0\" >2021-02-12</td>\n",
       "      <td id=\"T_91a30_row5_col1\" class=\"data row5 col1\" >2021-05-12</td>\n",
       "      <td id=\"T_91a30_row5_col2\" class=\"data row5 col2\" >2021-02-10</td>\n",
       "      <td id=\"T_91a30_row5_col3\" class=\"data row5 col3\" >2021-05-12</td>\n",
       "      <td id=\"T_91a30_row5_col4\" class=\"data row5 col4\" >20,000,000.00</td>\n",
       "      <td id=\"T_91a30_row5_col5\" class=\"data row5 col5\" >0.00</td>\n",
       "      <td id=\"T_91a30_row5_col6\" class=\"data row5 col6\" >75,388.80</td>\n",
       "      <td id=\"T_91a30_row5_col7\" class=\"data row5 col7\" >True</td>\n",
       "      <td id=\"T_91a30_row5_col8\" class=\"data row5 col8\" >75,388.80</td>\n",
       "      <td id=\"T_91a30_row5_col9\" class=\"data row5 col9\" >USD</td>\n",
       "      <td id=\"T_91a30_row5_col10\" class=\"data row5 col10\" >LIBORUSD3M</td>\n",
       "      <td id=\"T_91a30_row5_col11\" class=\"data row5 col11\" >1.5247%</td>\n",
       "      <td id=\"T_91a30_row5_col12\" class=\"data row5 col12\" >0.0000%</td>\n",
       "      <td id=\"T_91a30_row5_col13\" class=\"data row5 col13\" >1.00</td>\n",
       "      <td id=\"T_91a30_row5_col14\" class=\"data row5 col14\" >LinAct360</td>\n",
       "    </tr>\n",
       "    <tr>\n",
       "      <th id=\"T_91a30_level0_row6\" class=\"row_heading level0 row6\" >6</th>\n",
       "      <td id=\"T_91a30_row6_col0\" class=\"data row6 col0\" >2021-05-12</td>\n",
       "      <td id=\"T_91a30_row6_col1\" class=\"data row6 col1\" >2021-08-12</td>\n",
       "      <td id=\"T_91a30_row6_col2\" class=\"data row6 col2\" >2021-05-10</td>\n",
       "      <td id=\"T_91a30_row6_col3\" class=\"data row6 col3\" >2021-08-12</td>\n",
       "      <td id=\"T_91a30_row6_col4\" class=\"data row6 col4\" >20,000,000.00</td>\n",
       "      <td id=\"T_91a30_row6_col5\" class=\"data row6 col5\" >0.00</td>\n",
       "      <td id=\"T_91a30_row6_col6\" class=\"data row6 col6\" >75,147.35</td>\n",
       "      <td id=\"T_91a30_row6_col7\" class=\"data row6 col7\" >True</td>\n",
       "      <td id=\"T_91a30_row6_col8\" class=\"data row6 col8\" >75,147.35</td>\n",
       "      <td id=\"T_91a30_row6_col9\" class=\"data row6 col9\" >USD</td>\n",
       "      <td id=\"T_91a30_row6_col10\" class=\"data row6 col10\" >LIBORUSD3M</td>\n",
       "      <td id=\"T_91a30_row6_col11\" class=\"data row6 col11\" >1.4703%</td>\n",
       "      <td id=\"T_91a30_row6_col12\" class=\"data row6 col12\" >0.0000%</td>\n",
       "      <td id=\"T_91a30_row6_col13\" class=\"data row6 col13\" >1.00</td>\n",
       "      <td id=\"T_91a30_row6_col14\" class=\"data row6 col14\" >LinAct360</td>\n",
       "    </tr>\n",
       "    <tr>\n",
       "      <th id=\"T_91a30_level0_row7\" class=\"row_heading level0 row7\" >7</th>\n",
       "      <td id=\"T_91a30_row7_col0\" class=\"data row7 col0\" >2021-08-12</td>\n",
       "      <td id=\"T_91a30_row7_col1\" class=\"data row7 col1\" >2021-11-12</td>\n",
       "      <td id=\"T_91a30_row7_col2\" class=\"data row7 col2\" >2021-08-10</td>\n",
       "      <td id=\"T_91a30_row7_col3\" class=\"data row7 col3\" >2021-11-12</td>\n",
       "      <td id=\"T_91a30_row7_col4\" class=\"data row7 col4\" >20,000,000.00</td>\n",
       "      <td id=\"T_91a30_row7_col5\" class=\"data row7 col5\" >0.00</td>\n",
       "      <td id=\"T_91a30_row7_col6\" class=\"data row7 col6\" >75,919.01</td>\n",
       "      <td id=\"T_91a30_row7_col7\" class=\"data row7 col7\" >True</td>\n",
       "      <td id=\"T_91a30_row7_col8\" class=\"data row7 col8\" >75,919.01</td>\n",
       "      <td id=\"T_91a30_row7_col9\" class=\"data row7 col9\" >USD</td>\n",
       "      <td id=\"T_91a30_row7_col10\" class=\"data row7 col10\" >LIBORUSD3M</td>\n",
       "      <td id=\"T_91a30_row7_col11\" class=\"data row7 col11\" >1.4854%</td>\n",
       "      <td id=\"T_91a30_row7_col12\" class=\"data row7 col12\" >0.0000%</td>\n",
       "      <td id=\"T_91a30_row7_col13\" class=\"data row7 col13\" >1.00</td>\n",
       "      <td id=\"T_91a30_row7_col14\" class=\"data row7 col14\" >LinAct360</td>\n",
       "    </tr>\n",
       "    <tr>\n",
       "      <th id=\"T_91a30_level0_row8\" class=\"row_heading level0 row8\" >8</th>\n",
       "      <td id=\"T_91a30_row8_col0\" class=\"data row8 col0\" >2021-11-12</td>\n",
       "      <td id=\"T_91a30_row8_col1\" class=\"data row8 col1\" >2022-02-14</td>\n",
       "      <td id=\"T_91a30_row8_col2\" class=\"data row8 col2\" >2021-11-10</td>\n",
       "      <td id=\"T_91a30_row8_col3\" class=\"data row8 col3\" >2022-02-14</td>\n",
       "      <td id=\"T_91a30_row8_col4\" class=\"data row8 col4\" >20,000,000.00</td>\n",
       "      <td id=\"T_91a30_row8_col5\" class=\"data row8 col5\" >0.00</td>\n",
       "      <td id=\"T_91a30_row8_col6\" class=\"data row8 col6\" >76,541.33</td>\n",
       "      <td id=\"T_91a30_row8_col7\" class=\"data row8 col7\" >True</td>\n",
       "      <td id=\"T_91a30_row8_col8\" class=\"data row8 col8\" >76,541.33</td>\n",
       "      <td id=\"T_91a30_row8_col9\" class=\"data row8 col9\" >USD</td>\n",
       "      <td id=\"T_91a30_row8_col10\" class=\"data row8 col10\" >LIBORUSD3M</td>\n",
       "      <td id=\"T_91a30_row8_col11\" class=\"data row8 col11\" >1.4657%</td>\n",
       "      <td id=\"T_91a30_row8_col12\" class=\"data row8 col12\" >0.0000%</td>\n",
       "      <td id=\"T_91a30_row8_col13\" class=\"data row8 col13\" >1.00</td>\n",
       "      <td id=\"T_91a30_row8_col14\" class=\"data row8 col14\" >LinAct360</td>\n",
       "    </tr>\n",
       "    <tr>\n",
       "      <th id=\"T_91a30_level0_row9\" class=\"row_heading level0 row9\" >9</th>\n",
       "      <td id=\"T_91a30_row9_col0\" class=\"data row9 col0\" >2022-02-14</td>\n",
       "      <td id=\"T_91a30_row9_col1\" class=\"data row9 col1\" >2022-05-12</td>\n",
       "      <td id=\"T_91a30_row9_col2\" class=\"data row9 col2\" >2022-02-10</td>\n",
       "      <td id=\"T_91a30_row9_col3\" class=\"data row9 col3\" >2022-05-12</td>\n",
       "      <td id=\"T_91a30_row9_col4\" class=\"data row9 col4\" >20,000,000.00</td>\n",
       "      <td id=\"T_91a30_row9_col5\" class=\"data row9 col5\" >0.00</td>\n",
       "      <td id=\"T_91a30_row9_col6\" class=\"data row9 col6\" >72,657.16</td>\n",
       "      <td id=\"T_91a30_row9_col7\" class=\"data row9 col7\" >True</td>\n",
       "      <td id=\"T_91a30_row9_col8\" class=\"data row9 col8\" >72,657.16</td>\n",
       "      <td id=\"T_91a30_row9_col9\" class=\"data row9 col9\" >USD</td>\n",
       "      <td id=\"T_91a30_row9_col10\" class=\"data row9 col10\" >LIBORUSD3M</td>\n",
       "      <td id=\"T_91a30_row9_col11\" class=\"data row9 col11\" >1.5033%</td>\n",
       "      <td id=\"T_91a30_row9_col12\" class=\"data row9 col12\" >0.0000%</td>\n",
       "      <td id=\"T_91a30_row9_col13\" class=\"data row9 col13\" >1.00</td>\n",
       "      <td id=\"T_91a30_row9_col14\" class=\"data row9 col14\" >LinAct360</td>\n",
       "    </tr>\n",
       "    <tr>\n",
       "      <th id=\"T_91a30_level0_row10\" class=\"row_heading level0 row10\" >10</th>\n",
       "      <td id=\"T_91a30_row10_col0\" class=\"data row10 col0\" >2022-05-12</td>\n",
       "      <td id=\"T_91a30_row10_col1\" class=\"data row10 col1\" >2022-08-12</td>\n",
       "      <td id=\"T_91a30_row10_col2\" class=\"data row10 col2\" >2022-05-10</td>\n",
       "      <td id=\"T_91a30_row10_col3\" class=\"data row10 col3\" >2022-08-12</td>\n",
       "      <td id=\"T_91a30_row10_col4\" class=\"data row10 col4\" >20,000,000.00</td>\n",
       "      <td id=\"T_91a30_row10_col5\" class=\"data row10 col5\" >0.00</td>\n",
       "      <td id=\"T_91a30_row10_col6\" class=\"data row10 col6\" >76,607.00</td>\n",
       "      <td id=\"T_91a30_row10_col7\" class=\"data row10 col7\" >True</td>\n",
       "      <td id=\"T_91a30_row10_col8\" class=\"data row10 col8\" >76,607.00</td>\n",
       "      <td id=\"T_91a30_row10_col9\" class=\"data row10 col9\" >USD</td>\n",
       "      <td id=\"T_91a30_row10_col10\" class=\"data row10 col10\" >LIBORUSD3M</td>\n",
       "      <td id=\"T_91a30_row10_col11\" class=\"data row10 col11\" >1.4988%</td>\n",
       "      <td id=\"T_91a30_row10_col12\" class=\"data row10 col12\" >0.0000%</td>\n",
       "      <td id=\"T_91a30_row10_col13\" class=\"data row10 col13\" >1.00</td>\n",
       "      <td id=\"T_91a30_row10_col14\" class=\"data row10 col14\" >LinAct360</td>\n",
       "    </tr>\n",
       "    <tr>\n",
       "      <th id=\"T_91a30_level0_row11\" class=\"row_heading level0 row11\" >11</th>\n",
       "      <td id=\"T_91a30_row11_col0\" class=\"data row11 col0\" >2022-08-12</td>\n",
       "      <td id=\"T_91a30_row11_col1\" class=\"data row11 col1\" >2022-11-14</td>\n",
       "      <td id=\"T_91a30_row11_col2\" class=\"data row11 col2\" >2022-08-10</td>\n",
       "      <td id=\"T_91a30_row11_col3\" class=\"data row11 col3\" >2022-11-14</td>\n",
       "      <td id=\"T_91a30_row11_col4\" class=\"data row11 col4\" >20,000,000.00</td>\n",
       "      <td id=\"T_91a30_row11_col5\" class=\"data row11 col5\" >0.00</td>\n",
       "      <td id=\"T_91a30_row11_col6\" class=\"data row11 col6\" >77,567.48</td>\n",
       "      <td id=\"T_91a30_row11_col7\" class=\"data row11 col7\" >True</td>\n",
       "      <td id=\"T_91a30_row11_col8\" class=\"data row11 col8\" >77,567.48</td>\n",
       "      <td id=\"T_91a30_row11_col9\" class=\"data row11 col9\" >USD</td>\n",
       "      <td id=\"T_91a30_row11_col10\" class=\"data row11 col10\" >LIBORUSD3M</td>\n",
       "      <td id=\"T_91a30_row11_col11\" class=\"data row11 col11\" >1.4853%</td>\n",
       "      <td id=\"T_91a30_row11_col12\" class=\"data row11 col12\" >0.0000%</td>\n",
       "      <td id=\"T_91a30_row11_col13\" class=\"data row11 col13\" >1.00</td>\n",
       "      <td id=\"T_91a30_row11_col14\" class=\"data row11 col14\" >LinAct360</td>\n",
       "    </tr>\n",
       "    <tr>\n",
       "      <th id=\"T_91a30_level0_row12\" class=\"row_heading level0 row12\" >12</th>\n",
       "      <td id=\"T_91a30_row12_col0\" class=\"data row12 col0\" >2022-11-14</td>\n",
       "      <td id=\"T_91a30_row12_col1\" class=\"data row12 col1\" >2023-02-13</td>\n",
       "      <td id=\"T_91a30_row12_col2\" class=\"data row12 col2\" >2022-11-10</td>\n",
       "      <td id=\"T_91a30_row12_col3\" class=\"data row12 col3\" >2023-02-13</td>\n",
       "      <td id=\"T_91a30_row12_col4\" class=\"data row12 col4\" >20,000,000.00</td>\n",
       "      <td id=\"T_91a30_row12_col5\" class=\"data row12 col5\" >0.00</td>\n",
       "      <td id=\"T_91a30_row12_col6\" class=\"data row12 col6\" >74,410.06</td>\n",
       "      <td id=\"T_91a30_row12_col7\" class=\"data row12 col7\" >True</td>\n",
       "      <td id=\"T_91a30_row12_col8\" class=\"data row12 col8\" >74,410.06</td>\n",
       "      <td id=\"T_91a30_row12_col9\" class=\"data row12 col9\" >USD</td>\n",
       "      <td id=\"T_91a30_row12_col10\" class=\"data row12 col10\" >LIBORUSD3M</td>\n",
       "      <td id=\"T_91a30_row12_col11\" class=\"data row12 col11\" >1.4718%</td>\n",
       "      <td id=\"T_91a30_row12_col12\" class=\"data row12 col12\" >0.0000%</td>\n",
       "      <td id=\"T_91a30_row12_col13\" class=\"data row12 col13\" >1.00</td>\n",
       "      <td id=\"T_91a30_row12_col14\" class=\"data row12 col14\" >LinAct360</td>\n",
       "    </tr>\n",
       "    <tr>\n",
       "      <th id=\"T_91a30_level0_row13\" class=\"row_heading level0 row13\" >13</th>\n",
       "      <td id=\"T_91a30_row13_col0\" class=\"data row13 col0\" >2023-02-13</td>\n",
       "      <td id=\"T_91a30_row13_col1\" class=\"data row13 col1\" >2023-05-12</td>\n",
       "      <td id=\"T_91a30_row13_col2\" class=\"data row13 col2\" >2023-02-09</td>\n",
       "      <td id=\"T_91a30_row13_col3\" class=\"data row13 col3\" >2023-05-12</td>\n",
       "      <td id=\"T_91a30_row13_col4\" class=\"data row13 col4\" >20,000,000.00</td>\n",
       "      <td id=\"T_91a30_row13_col5\" class=\"data row13 col5\" >0.00</td>\n",
       "      <td id=\"T_91a30_row13_col6\" class=\"data row13 col6\" >74,928.43</td>\n",
       "      <td id=\"T_91a30_row13_col7\" class=\"data row13 col7\" >True</td>\n",
       "      <td id=\"T_91a30_row13_col8\" class=\"data row13 col8\" >74,928.43</td>\n",
       "      <td id=\"T_91a30_row13_col9\" class=\"data row13 col9\" >USD</td>\n",
       "      <td id=\"T_91a30_row13_col10\" class=\"data row13 col10\" >LIBORUSD3M</td>\n",
       "      <td id=\"T_91a30_row13_col11\" class=\"data row13 col11\" >1.5326%</td>\n",
       "      <td id=\"T_91a30_row13_col12\" class=\"data row13 col12\" >0.0000%</td>\n",
       "      <td id=\"T_91a30_row13_col13\" class=\"data row13 col13\" >1.00</td>\n",
       "      <td id=\"T_91a30_row13_col14\" class=\"data row13 col14\" >LinAct360</td>\n",
       "    </tr>\n",
       "    <tr>\n",
       "      <th id=\"T_91a30_level0_row14\" class=\"row_heading level0 row14\" >14</th>\n",
       "      <td id=\"T_91a30_row14_col0\" class=\"data row14 col0\" >2023-05-12</td>\n",
       "      <td id=\"T_91a30_row14_col1\" class=\"data row14 col1\" >2023-08-14</td>\n",
       "      <td id=\"T_91a30_row14_col2\" class=\"data row14 col2\" >2023-05-10</td>\n",
       "      <td id=\"T_91a30_row14_col3\" class=\"data row14 col3\" >2023-08-14</td>\n",
       "      <td id=\"T_91a30_row14_col4\" class=\"data row14 col4\" >20,000,000.00</td>\n",
       "      <td id=\"T_91a30_row14_col5\" class=\"data row14 col5\" >0.00</td>\n",
       "      <td id=\"T_91a30_row14_col6\" class=\"data row14 col6\" >80,562.98</td>\n",
       "      <td id=\"T_91a30_row14_col7\" class=\"data row14 col7\" >True</td>\n",
       "      <td id=\"T_91a30_row14_col8\" class=\"data row14 col8\" >80,562.98</td>\n",
       "      <td id=\"T_91a30_row14_col9\" class=\"data row14 col9\" >USD</td>\n",
       "      <td id=\"T_91a30_row14_col10\" class=\"data row14 col10\" >LIBORUSD3M</td>\n",
       "      <td id=\"T_91a30_row14_col11\" class=\"data row14 col11\" >1.5427%</td>\n",
       "      <td id=\"T_91a30_row14_col12\" class=\"data row14 col12\" >0.0000%</td>\n",
       "      <td id=\"T_91a30_row14_col13\" class=\"data row14 col13\" >1.00</td>\n",
       "      <td id=\"T_91a30_row14_col14\" class=\"data row14 col14\" >LinAct360</td>\n",
       "    </tr>\n",
       "    <tr>\n",
       "      <th id=\"T_91a30_level0_row15\" class=\"row_heading level0 row15\" >15</th>\n",
       "      <td id=\"T_91a30_row15_col0\" class=\"data row15 col0\" >2023-08-14</td>\n",
       "      <td id=\"T_91a30_row15_col1\" class=\"data row15 col1\" >2023-11-13</td>\n",
       "      <td id=\"T_91a30_row15_col2\" class=\"data row15 col2\" >2023-08-10</td>\n",
       "      <td id=\"T_91a30_row15_col3\" class=\"data row15 col3\" >2023-11-13</td>\n",
       "      <td id=\"T_91a30_row15_col4\" class=\"data row15 col4\" >20,000,000.00</td>\n",
       "      <td id=\"T_91a30_row15_col5\" class=\"data row15 col5\" >0.00</td>\n",
       "      <td id=\"T_91a30_row15_col6\" class=\"data row15 col6\" >77,966.23</td>\n",
       "      <td id=\"T_91a30_row15_col7\" class=\"data row15 col7\" >True</td>\n",
       "      <td id=\"T_91a30_row15_col8\" class=\"data row15 col8\" >77,966.23</td>\n",
       "      <td id=\"T_91a30_row15_col9\" class=\"data row15 col9\" >USD</td>\n",
       "      <td id=\"T_91a30_row15_col10\" class=\"data row15 col10\" >LIBORUSD3M</td>\n",
       "      <td id=\"T_91a30_row15_col11\" class=\"data row15 col11\" >1.5422%</td>\n",
       "      <td id=\"T_91a30_row15_col12\" class=\"data row15 col12\" >0.0000%</td>\n",
       "      <td id=\"T_91a30_row15_col13\" class=\"data row15 col13\" >1.00</td>\n",
       "      <td id=\"T_91a30_row15_col14\" class=\"data row15 col14\" >LinAct360</td>\n",
       "    </tr>\n",
       "    <tr>\n",
       "      <th id=\"T_91a30_level0_row16\" class=\"row_heading level0 row16\" >16</th>\n",
       "      <td id=\"T_91a30_row16_col0\" class=\"data row16 col0\" >2023-11-13</td>\n",
       "      <td id=\"T_91a30_row16_col1\" class=\"data row16 col1\" >2024-02-12</td>\n",
       "      <td id=\"T_91a30_row16_col2\" class=\"data row16 col2\" >2023-11-09</td>\n",
       "      <td id=\"T_91a30_row16_col3\" class=\"data row16 col3\" >2024-02-12</td>\n",
       "      <td id=\"T_91a30_row16_col4\" class=\"data row16 col4\" >20,000,000.00</td>\n",
       "      <td id=\"T_91a30_row16_col5\" class=\"data row16 col5\" >0.00</td>\n",
       "      <td id=\"T_91a30_row16_col6\" class=\"data row16 col6\" >77,943.52</td>\n",
       "      <td id=\"T_91a30_row16_col7\" class=\"data row16 col7\" >True</td>\n",
       "      <td id=\"T_91a30_row16_col8\" class=\"data row16 col8\" >77,943.52</td>\n",
       "      <td id=\"T_91a30_row16_col9\" class=\"data row16 col9\" >USD</td>\n",
       "      <td id=\"T_91a30_row16_col10\" class=\"data row16 col10\" >LIBORUSD3M</td>\n",
       "      <td id=\"T_91a30_row16_col11\" class=\"data row16 col11\" >1.5417%</td>\n",
       "      <td id=\"T_91a30_row16_col12\" class=\"data row16 col12\" >0.0000%</td>\n",
       "      <td id=\"T_91a30_row16_col13\" class=\"data row16 col13\" >1.00</td>\n",
       "      <td id=\"T_91a30_row16_col14\" class=\"data row16 col14\" >LinAct360</td>\n",
       "    </tr>\n",
       "    <tr>\n",
       "      <th id=\"T_91a30_level0_row17\" class=\"row_heading level0 row17\" >17</th>\n",
       "      <td id=\"T_91a30_row17_col0\" class=\"data row17 col0\" >2024-02-12</td>\n",
       "      <td id=\"T_91a30_row17_col1\" class=\"data row17 col1\" >2024-05-13</td>\n",
       "      <td id=\"T_91a30_row17_col2\" class=\"data row17 col2\" >2024-02-08</td>\n",
       "      <td id=\"T_91a30_row17_col3\" class=\"data row17 col3\" >2024-05-13</td>\n",
       "      <td id=\"T_91a30_row17_col4\" class=\"data row17 col4\" >20,000,000.00</td>\n",
       "      <td id=\"T_91a30_row17_col5\" class=\"data row17 col5\" >0.00</td>\n",
       "      <td id=\"T_91a30_row17_col6\" class=\"data row17 col6\" >80,765.17</td>\n",
       "      <td id=\"T_91a30_row17_col7\" class=\"data row17 col7\" >True</td>\n",
       "      <td id=\"T_91a30_row17_col8\" class=\"data row17 col8\" >80,765.17</td>\n",
       "      <td id=\"T_91a30_row17_col9\" class=\"data row17 col9\" >USD</td>\n",
       "      <td id=\"T_91a30_row17_col10\" class=\"data row17 col10\" >LIBORUSD3M</td>\n",
       "      <td id=\"T_91a30_row17_col11\" class=\"data row17 col11\" >1.5976%</td>\n",
       "      <td id=\"T_91a30_row17_col12\" class=\"data row17 col12\" >0.0000%</td>\n",
       "      <td id=\"T_91a30_row17_col13\" class=\"data row17 col13\" >1.00</td>\n",
       "      <td id=\"T_91a30_row17_col14\" class=\"data row17 col14\" >LinAct360</td>\n",
       "    </tr>\n",
       "    <tr>\n",
       "      <th id=\"T_91a30_level0_row18\" class=\"row_heading level0 row18\" >18</th>\n",
       "      <td id=\"T_91a30_row18_col0\" class=\"data row18 col0\" >2024-05-13</td>\n",
       "      <td id=\"T_91a30_row18_col1\" class=\"data row18 col1\" >2024-08-12</td>\n",
       "      <td id=\"T_91a30_row18_col2\" class=\"data row18 col2\" >2024-05-09</td>\n",
       "      <td id=\"T_91a30_row18_col3\" class=\"data row18 col3\" >2024-08-12</td>\n",
       "      <td id=\"T_91a30_row18_col4\" class=\"data row18 col4\" >20,000,000.00</td>\n",
       "      <td id=\"T_91a30_row18_col5\" class=\"data row18 col5\" >0.00</td>\n",
       "      <td id=\"T_91a30_row18_col6\" class=\"data row18 col6\" >81,557.64</td>\n",
       "      <td id=\"T_91a30_row18_col7\" class=\"data row18 col7\" >True</td>\n",
       "      <td id=\"T_91a30_row18_col8\" class=\"data row18 col8\" >81,557.64</td>\n",
       "      <td id=\"T_91a30_row18_col9\" class=\"data row18 col9\" >USD</td>\n",
       "      <td id=\"T_91a30_row18_col10\" class=\"data row18 col10\" >LIBORUSD3M</td>\n",
       "      <td id=\"T_91a30_row18_col11\" class=\"data row18 col11\" >1.6132%</td>\n",
       "      <td id=\"T_91a30_row18_col12\" class=\"data row18 col12\" >0.0000%</td>\n",
       "      <td id=\"T_91a30_row18_col13\" class=\"data row18 col13\" >1.00</td>\n",
       "      <td id=\"T_91a30_row18_col14\" class=\"data row18 col14\" >LinAct360</td>\n",
       "    </tr>\n",
       "    <tr>\n",
       "      <th id=\"T_91a30_level0_row19\" class=\"row_heading level0 row19\" >19</th>\n",
       "      <td id=\"T_91a30_row19_col0\" class=\"data row19 col0\" >2024-08-12</td>\n",
       "      <td id=\"T_91a30_row19_col1\" class=\"data row19 col1\" >2024-11-12</td>\n",
       "      <td id=\"T_91a30_row19_col2\" class=\"data row19 col2\" >2024-08-08</td>\n",
       "      <td id=\"T_91a30_row19_col3\" class=\"data row19 col3\" >2024-11-12</td>\n",
       "      <td id=\"T_91a30_row19_col4\" class=\"data row19 col4\" >20,000,000.00</td>\n",
       "      <td id=\"T_91a30_row19_col5\" class=\"data row19 col5\" >0.00</td>\n",
       "      <td id=\"T_91a30_row19_col6\" class=\"data row19 col6\" >82,792.65</td>\n",
       "      <td id=\"T_91a30_row19_col7\" class=\"data row19 col7\" >True</td>\n",
       "      <td id=\"T_91a30_row19_col8\" class=\"data row19 col8\" >82,792.65</td>\n",
       "      <td id=\"T_91a30_row19_col9\" class=\"data row19 col9\" >USD</td>\n",
       "      <td id=\"T_91a30_row19_col10\" class=\"data row19 col10\" >LIBORUSD3M</td>\n",
       "      <td id=\"T_91a30_row19_col11\" class=\"data row19 col11\" >1.6199%</td>\n",
       "      <td id=\"T_91a30_row19_col12\" class=\"data row19 col12\" >0.0000%</td>\n",
       "      <td id=\"T_91a30_row19_col13\" class=\"data row19 col13\" >1.00</td>\n",
       "      <td id=\"T_91a30_row19_col14\" class=\"data row19 col14\" >LinAct360</td>\n",
       "    </tr>\n",
       "    <tr>\n",
       "      <th id=\"T_91a30_level0_row20\" class=\"row_heading level0 row20\" >20</th>\n",
       "      <td id=\"T_91a30_row20_col0\" class=\"data row20 col0\" >2024-11-12</td>\n",
       "      <td id=\"T_91a30_row20_col1\" class=\"data row20 col1\" >2025-02-12</td>\n",
       "      <td id=\"T_91a30_row20_col2\" class=\"data row20 col2\" >2024-11-08</td>\n",
       "      <td id=\"T_91a30_row20_col3\" class=\"data row20 col3\" >2025-02-12</td>\n",
       "      <td id=\"T_91a30_row20_col4\" class=\"data row20 col4\" >20,000,000.00</td>\n",
       "      <td id=\"T_91a30_row20_col5\" class=\"data row20 col5\" >0.00</td>\n",
       "      <td id=\"T_91a30_row20_col6\" class=\"data row20 col6\" >83,129.55</td>\n",
       "      <td id=\"T_91a30_row20_col7\" class=\"data row20 col7\" >True</td>\n",
       "      <td id=\"T_91a30_row20_col8\" class=\"data row20 col8\" >83,129.55</td>\n",
       "      <td id=\"T_91a30_row20_col9\" class=\"data row20 col9\" >USD</td>\n",
       "      <td id=\"T_91a30_row20_col10\" class=\"data row20 col10\" >LIBORUSD3M</td>\n",
       "      <td id=\"T_91a30_row20_col11\" class=\"data row20 col11\" >1.6264%</td>\n",
       "      <td id=\"T_91a30_row20_col12\" class=\"data row20 col12\" >0.0000%</td>\n",
       "      <td id=\"T_91a30_row20_col13\" class=\"data row20 col13\" >1.00</td>\n",
       "      <td id=\"T_91a30_row20_col14\" class=\"data row20 col14\" >LinAct360</td>\n",
       "    </tr>\n",
       "    <tr>\n",
       "      <th id=\"T_91a30_level0_row21\" class=\"row_heading level0 row21\" >21</th>\n",
       "      <td id=\"T_91a30_row21_col0\" class=\"data row21 col0\" >2025-02-12</td>\n",
       "      <td id=\"T_91a30_row21_col1\" class=\"data row21 col1\" >2025-05-12</td>\n",
       "      <td id=\"T_91a30_row21_col2\" class=\"data row21 col2\" >2025-02-10</td>\n",
       "      <td id=\"T_91a30_row21_col3\" class=\"data row21 col3\" >2025-05-12</td>\n",
       "      <td id=\"T_91a30_row21_col4\" class=\"data row21 col4\" >20,000,000.00</td>\n",
       "      <td id=\"T_91a30_row21_col5\" class=\"data row21 col5\" >0.00</td>\n",
       "      <td id=\"T_91a30_row21_col6\" class=\"data row21 col6\" >83,469.23</td>\n",
       "      <td id=\"T_91a30_row21_col7\" class=\"data row21 col7\" >True</td>\n",
       "      <td id=\"T_91a30_row21_col8\" class=\"data row21 col8\" >83,469.23</td>\n",
       "      <td id=\"T_91a30_row21_col9\" class=\"data row21 col9\" >USD</td>\n",
       "      <td id=\"T_91a30_row21_col10\" class=\"data row21 col10\" >LIBORUSD3M</td>\n",
       "      <td id=\"T_91a30_row21_col11\" class=\"data row21 col11\" >1.6881%</td>\n",
       "      <td id=\"T_91a30_row21_col12\" class=\"data row21 col12\" >0.0000%</td>\n",
       "      <td id=\"T_91a30_row21_col13\" class=\"data row21 col13\" >1.00</td>\n",
       "      <td id=\"T_91a30_row21_col14\" class=\"data row21 col14\" >LinAct360</td>\n",
       "    </tr>\n",
       "    <tr>\n",
       "      <th id=\"T_91a30_level0_row22\" class=\"row_heading level0 row22\" >22</th>\n",
       "      <td id=\"T_91a30_row22_col0\" class=\"data row22 col0\" >2025-05-12</td>\n",
       "      <td id=\"T_91a30_row22_col1\" class=\"data row22 col1\" >2025-08-12</td>\n",
       "      <td id=\"T_91a30_row22_col2\" class=\"data row22 col2\" >2025-05-08</td>\n",
       "      <td id=\"T_91a30_row22_col3\" class=\"data row22 col3\" >2025-08-12</td>\n",
       "      <td id=\"T_91a30_row22_col4\" class=\"data row22 col4\" >20,000,000.00</td>\n",
       "      <td id=\"T_91a30_row22_col5\" class=\"data row22 col5\" >0.00</td>\n",
       "      <td id=\"T_91a30_row22_col6\" class=\"data row22 col6\" >87,360.07</td>\n",
       "      <td id=\"T_91a30_row22_col7\" class=\"data row22 col7\" >True</td>\n",
       "      <td id=\"T_91a30_row22_col8\" class=\"data row22 col8\" >87,360.07</td>\n",
       "      <td id=\"T_91a30_row22_col9\" class=\"data row22 col9\" >USD</td>\n",
       "      <td id=\"T_91a30_row22_col10\" class=\"data row22 col10\" >LIBORUSD3M</td>\n",
       "      <td id=\"T_91a30_row22_col11\" class=\"data row22 col11\" >1.7092%</td>\n",
       "      <td id=\"T_91a30_row22_col12\" class=\"data row22 col12\" >0.0000%</td>\n",
       "      <td id=\"T_91a30_row22_col13\" class=\"data row22 col13\" >1.00</td>\n",
       "      <td id=\"T_91a30_row22_col14\" class=\"data row22 col14\" >LinAct360</td>\n",
       "    </tr>\n",
       "    <tr>\n",
       "      <th id=\"T_91a30_level0_row23\" class=\"row_heading level0 row23\" >23</th>\n",
       "      <td id=\"T_91a30_row23_col0\" class=\"data row23 col0\" >2025-08-12</td>\n",
       "      <td id=\"T_91a30_row23_col1\" class=\"data row23 col1\" >2025-11-12</td>\n",
       "      <td id=\"T_91a30_row23_col2\" class=\"data row23 col2\" >2025-08-08</td>\n",
       "      <td id=\"T_91a30_row23_col3\" class=\"data row23 col3\" >2025-11-12</td>\n",
       "      <td id=\"T_91a30_row23_col4\" class=\"data row23 col4\" >20,000,000.00</td>\n",
       "      <td id=\"T_91a30_row23_col5\" class=\"data row23 col5\" >0.00</td>\n",
       "      <td id=\"T_91a30_row23_col6\" class=\"data row23 col6\" >87,967.87</td>\n",
       "      <td id=\"T_91a30_row23_col7\" class=\"data row23 col7\" >True</td>\n",
       "      <td id=\"T_91a30_row23_col8\" class=\"data row23 col8\" >87,967.87</td>\n",
       "      <td id=\"T_91a30_row23_col9\" class=\"data row23 col9\" >USD</td>\n",
       "      <td id=\"T_91a30_row23_col10\" class=\"data row23 col10\" >LIBORUSD3M</td>\n",
       "      <td id=\"T_91a30_row23_col11\" class=\"data row23 col11\" >1.7211%</td>\n",
       "      <td id=\"T_91a30_row23_col12\" class=\"data row23 col12\" >0.0000%</td>\n",
       "      <td id=\"T_91a30_row23_col13\" class=\"data row23 col13\" >1.00</td>\n",
       "      <td id=\"T_91a30_row23_col14\" class=\"data row23 col14\" >LinAct360</td>\n",
       "    </tr>\n",
       "    <tr>\n",
       "      <th id=\"T_91a30_level0_row24\" class=\"row_heading level0 row24\" >24</th>\n",
       "      <td id=\"T_91a30_row24_col0\" class=\"data row24 col0\" >2025-11-12</td>\n",
       "      <td id=\"T_91a30_row24_col1\" class=\"data row24 col1\" >2026-02-12</td>\n",
       "      <td id=\"T_91a30_row24_col2\" class=\"data row24 col2\" >2025-11-10</td>\n",
       "      <td id=\"T_91a30_row24_col3\" class=\"data row24 col3\" >2026-02-12</td>\n",
       "      <td id=\"T_91a30_row24_col4\" class=\"data row24 col4\" >20,000,000.00</td>\n",
       "      <td id=\"T_91a30_row24_col5\" class=\"data row24 col5\" >0.00</td>\n",
       "      <td id=\"T_91a30_row24_col6\" class=\"data row24 col6\" >88,566.05</td>\n",
       "      <td id=\"T_91a30_row24_col7\" class=\"data row24 col7\" >True</td>\n",
       "      <td id=\"T_91a30_row24_col8\" class=\"data row24 col8\" >88,566.05</td>\n",
       "      <td id=\"T_91a30_row24_col9\" class=\"data row24 col9\" >USD</td>\n",
       "      <td id=\"T_91a30_row24_col10\" class=\"data row24 col10\" >LIBORUSD3M</td>\n",
       "      <td id=\"T_91a30_row24_col11\" class=\"data row24 col11\" >1.7328%</td>\n",
       "      <td id=\"T_91a30_row24_col12\" class=\"data row24 col12\" >0.0000%</td>\n",
       "      <td id=\"T_91a30_row24_col13\" class=\"data row24 col13\" >1.00</td>\n",
       "      <td id=\"T_91a30_row24_col14\" class=\"data row24 col14\" >LinAct360</td>\n",
       "    </tr>\n",
       "    <tr>\n",
       "      <th id=\"T_91a30_level0_row25\" class=\"row_heading level0 row25\" >25</th>\n",
       "      <td id=\"T_91a30_row25_col0\" class=\"data row25 col0\" >2026-02-12</td>\n",
       "      <td id=\"T_91a30_row25_col1\" class=\"data row25 col1\" >2026-05-12</td>\n",
       "      <td id=\"T_91a30_row25_col2\" class=\"data row25 col2\" >2026-02-10</td>\n",
       "      <td id=\"T_91a30_row25_col3\" class=\"data row25 col3\" >2026-05-12</td>\n",
       "      <td id=\"T_91a30_row25_col4\" class=\"data row25 col4\" >20,000,000.00</td>\n",
       "      <td id=\"T_91a30_row25_col5\" class=\"data row25 col5\" >0.00</td>\n",
       "      <td id=\"T_91a30_row25_col6\" class=\"data row25 col6\" >86,231.99</td>\n",
       "      <td id=\"T_91a30_row25_col7\" class=\"data row25 col7\" >True</td>\n",
       "      <td id=\"T_91a30_row25_col8\" class=\"data row25 col8\" >86,231.99</td>\n",
       "      <td id=\"T_91a30_row25_col9\" class=\"data row25 col9\" >USD</td>\n",
       "      <td id=\"T_91a30_row25_col10\" class=\"data row25 col10\" >LIBORUSD3M</td>\n",
       "      <td id=\"T_91a30_row25_col11\" class=\"data row25 col11\" >1.7440%</td>\n",
       "      <td id=\"T_91a30_row25_col12\" class=\"data row25 col12\" >0.0000%</td>\n",
       "      <td id=\"T_91a30_row25_col13\" class=\"data row25 col13\" >1.00</td>\n",
       "      <td id=\"T_91a30_row25_col14\" class=\"data row25 col14\" >LinAct360</td>\n",
       "    </tr>\n",
       "    <tr>\n",
       "      <th id=\"T_91a30_level0_row26\" class=\"row_heading level0 row26\" >26</th>\n",
       "      <td id=\"T_91a30_row26_col0\" class=\"data row26 col0\" >2026-05-12</td>\n",
       "      <td id=\"T_91a30_row26_col1\" class=\"data row26 col1\" >2026-08-12</td>\n",
       "      <td id=\"T_91a30_row26_col2\" class=\"data row26 col2\" >2026-05-08</td>\n",
       "      <td id=\"T_91a30_row26_col3\" class=\"data row26 col3\" >2026-08-12</td>\n",
       "      <td id=\"T_91a30_row26_col4\" class=\"data row26 col4\" >20,000,000.00</td>\n",
       "      <td id=\"T_91a30_row26_col5\" class=\"data row26 col5\" >0.00</td>\n",
       "      <td id=\"T_91a30_row26_col6\" class=\"data row26 col6\" >89,714.97</td>\n",
       "      <td id=\"T_91a30_row26_col7\" class=\"data row26 col7\" >True</td>\n",
       "      <td id=\"T_91a30_row26_col8\" class=\"data row26 col8\" >89,714.97</td>\n",
       "      <td id=\"T_91a30_row26_col9\" class=\"data row26 col9\" >USD</td>\n",
       "      <td id=\"T_91a30_row26_col10\" class=\"data row26 col10\" >LIBORUSD3M</td>\n",
       "      <td id=\"T_91a30_row26_col11\" class=\"data row26 col11\" >1.7553%</td>\n",
       "      <td id=\"T_91a30_row26_col12\" class=\"data row26 col12\" >0.0000%</td>\n",
       "      <td id=\"T_91a30_row26_col13\" class=\"data row26 col13\" >1.00</td>\n",
       "      <td id=\"T_91a30_row26_col14\" class=\"data row26 col14\" >LinAct360</td>\n",
       "    </tr>\n",
       "    <tr>\n",
       "      <th id=\"T_91a30_level0_row27\" class=\"row_heading level0 row27\" >27</th>\n",
       "      <td id=\"T_91a30_row27_col0\" class=\"data row27 col0\" >2026-08-12</td>\n",
       "      <td id=\"T_91a30_row27_col1\" class=\"data row27 col1\" >2026-11-12</td>\n",
       "      <td id=\"T_91a30_row27_col2\" class=\"data row27 col2\" >2026-08-10</td>\n",
       "      <td id=\"T_91a30_row27_col3\" class=\"data row27 col3\" >2026-11-12</td>\n",
       "      <td id=\"T_91a30_row27_col4\" class=\"data row27 col4\" >20,000,000.00</td>\n",
       "      <td id=\"T_91a30_row27_col5\" class=\"data row27 col5\" >0.00</td>\n",
       "      <td id=\"T_91a30_row27_col6\" class=\"data row27 col6\" >90,284.84</td>\n",
       "      <td id=\"T_91a30_row27_col7\" class=\"data row27 col7\" >True</td>\n",
       "      <td id=\"T_91a30_row27_col8\" class=\"data row27 col8\" >90,284.84</td>\n",
       "      <td id=\"T_91a30_row27_col9\" class=\"data row27 col9\" >USD</td>\n",
       "      <td id=\"T_91a30_row27_col10\" class=\"data row27 col10\" >LIBORUSD3M</td>\n",
       "      <td id=\"T_91a30_row27_col11\" class=\"data row27 col11\" >1.7664%</td>\n",
       "      <td id=\"T_91a30_row27_col12\" class=\"data row27 col12\" >0.0000%</td>\n",
       "      <td id=\"T_91a30_row27_col13\" class=\"data row27 col13\" >1.00</td>\n",
       "      <td id=\"T_91a30_row27_col14\" class=\"data row27 col14\" >LinAct360</td>\n",
       "    </tr>\n",
       "    <tr>\n",
       "      <th id=\"T_91a30_level0_row28\" class=\"row_heading level0 row28\" >28</th>\n",
       "      <td id=\"T_91a30_row28_col0\" class=\"data row28 col0\" >2026-11-12</td>\n",
       "      <td id=\"T_91a30_row28_col1\" class=\"data row28 col1\" >2027-02-12</td>\n",
       "      <td id=\"T_91a30_row28_col2\" class=\"data row28 col2\" >2026-11-10</td>\n",
       "      <td id=\"T_91a30_row28_col3\" class=\"data row28 col3\" >2027-02-12</td>\n",
       "      <td id=\"T_91a30_row28_col4\" class=\"data row28 col4\" >20,000,000.00</td>\n",
       "      <td id=\"T_91a30_row28_col5\" class=\"data row28 col5\" >0.00</td>\n",
       "      <td id=\"T_91a30_row28_col6\" class=\"data row28 col6\" >90,845.26</td>\n",
       "      <td id=\"T_91a30_row28_col7\" class=\"data row28 col7\" >True</td>\n",
       "      <td id=\"T_91a30_row28_col8\" class=\"data row28 col8\" >90,845.26</td>\n",
       "      <td id=\"T_91a30_row28_col9\" class=\"data row28 col9\" >USD</td>\n",
       "      <td id=\"T_91a30_row28_col10\" class=\"data row28 col10\" >LIBORUSD3M</td>\n",
       "      <td id=\"T_91a30_row28_col11\" class=\"data row28 col11\" >1.7774%</td>\n",
       "      <td id=\"T_91a30_row28_col12\" class=\"data row28 col12\" >0.0000%</td>\n",
       "      <td id=\"T_91a30_row28_col13\" class=\"data row28 col13\" >1.00</td>\n",
       "      <td id=\"T_91a30_row28_col14\" class=\"data row28 col14\" >LinAct360</td>\n",
       "    </tr>\n",
       "    <tr>\n",
       "      <th id=\"T_91a30_level0_row29\" class=\"row_heading level0 row29\" >29</th>\n",
       "      <td id=\"T_91a30_row29_col0\" class=\"data row29 col0\" >2027-02-12</td>\n",
       "      <td id=\"T_91a30_row29_col1\" class=\"data row29 col1\" >2027-05-12</td>\n",
       "      <td id=\"T_91a30_row29_col2\" class=\"data row29 col2\" >2027-02-10</td>\n",
       "      <td id=\"T_91a30_row29_col3\" class=\"data row29 col3\" >2027-05-12</td>\n",
       "      <td id=\"T_91a30_row29_col4\" class=\"data row29 col4\" >20,000,000.00</td>\n",
       "      <td id=\"T_91a30_row29_col5\" class=\"data row29 col5\" >0.00</td>\n",
       "      <td id=\"T_91a30_row29_col6\" class=\"data row29 col6\" >90,645.79</td>\n",
       "      <td id=\"T_91a30_row29_col7\" class=\"data row29 col7\" >True</td>\n",
       "      <td id=\"T_91a30_row29_col8\" class=\"data row29 col8\" >90,645.79</td>\n",
       "      <td id=\"T_91a30_row29_col9\" class=\"data row29 col9\" >USD</td>\n",
       "      <td id=\"T_91a30_row29_col10\" class=\"data row29 col10\" >LIBORUSD3M</td>\n",
       "      <td id=\"T_91a30_row29_col11\" class=\"data row29 col11\" >1.8333%</td>\n",
       "      <td id=\"T_91a30_row29_col12\" class=\"data row29 col12\" >0.0000%</td>\n",
       "      <td id=\"T_91a30_row29_col13\" class=\"data row29 col13\" >1.00</td>\n",
       "      <td id=\"T_91a30_row29_col14\" class=\"data row29 col14\" >LinAct360</td>\n",
       "    </tr>\n",
       "    <tr>\n",
       "      <th id=\"T_91a30_level0_row30\" class=\"row_heading level0 row30\" >30</th>\n",
       "      <td id=\"T_91a30_row30_col0\" class=\"data row30 col0\" >2027-05-12</td>\n",
       "      <td id=\"T_91a30_row30_col1\" class=\"data row30 col1\" >2027-08-12</td>\n",
       "      <td id=\"T_91a30_row30_col2\" class=\"data row30 col2\" >2027-05-10</td>\n",
       "      <td id=\"T_91a30_row30_col3\" class=\"data row30 col3\" >2027-08-12</td>\n",
       "      <td id=\"T_91a30_row30_col4\" class=\"data row30 col4\" >20,000,000.00</td>\n",
       "      <td id=\"T_91a30_row30_col5\" class=\"data row30 col5\" >0.00</td>\n",
       "      <td id=\"T_91a30_row30_col6\" class=\"data row30 col6\" >94,825.45</td>\n",
       "      <td id=\"T_91a30_row30_col7\" class=\"data row30 col7\" >True</td>\n",
       "      <td id=\"T_91a30_row30_col8\" class=\"data row30 col8\" >94,825.45</td>\n",
       "      <td id=\"T_91a30_row30_col9\" class=\"data row30 col9\" >USD</td>\n",
       "      <td id=\"T_91a30_row30_col10\" class=\"data row30 col10\" >LIBORUSD3M</td>\n",
       "      <td id=\"T_91a30_row30_col11\" class=\"data row30 col11\" >1.8553%</td>\n",
       "      <td id=\"T_91a30_row30_col12\" class=\"data row30 col12\" >0.0000%</td>\n",
       "      <td id=\"T_91a30_row30_col13\" class=\"data row30 col13\" >1.00</td>\n",
       "      <td id=\"T_91a30_row30_col14\" class=\"data row30 col14\" >LinAct360</td>\n",
       "    </tr>\n",
       "    <tr>\n",
       "      <th id=\"T_91a30_level0_row31\" class=\"row_heading level0 row31\" >31</th>\n",
       "      <td id=\"T_91a30_row31_col0\" class=\"data row31 col0\" >2027-08-12</td>\n",
       "      <td id=\"T_91a30_row31_col1\" class=\"data row31 col1\" >2027-11-12</td>\n",
       "      <td id=\"T_91a30_row31_col2\" class=\"data row31 col2\" >2027-08-10</td>\n",
       "      <td id=\"T_91a30_row31_col3\" class=\"data row31 col3\" >2027-11-12</td>\n",
       "      <td id=\"T_91a30_row31_col4\" class=\"data row31 col4\" >20,000,000.00</td>\n",
       "      <td id=\"T_91a30_row31_col5\" class=\"data row31 col5\" >0.00</td>\n",
       "      <td id=\"T_91a30_row31_col6\" class=\"data row31 col6\" >95,521.58</td>\n",
       "      <td id=\"T_91a30_row31_col7\" class=\"data row31 col7\" >True</td>\n",
       "      <td id=\"T_91a30_row31_col8\" class=\"data row31 col8\" >95,521.58</td>\n",
       "      <td id=\"T_91a30_row31_col9\" class=\"data row31 col9\" >USD</td>\n",
       "      <td id=\"T_91a30_row31_col10\" class=\"data row31 col10\" >LIBORUSD3M</td>\n",
       "      <td id=\"T_91a30_row31_col11\" class=\"data row31 col11\" >1.8689%</td>\n",
       "      <td id=\"T_91a30_row31_col12\" class=\"data row31 col12\" >0.0000%</td>\n",
       "      <td id=\"T_91a30_row31_col13\" class=\"data row31 col13\" >1.00</td>\n",
       "      <td id=\"T_91a30_row31_col14\" class=\"data row31 col14\" >LinAct360</td>\n",
       "    </tr>\n",
       "    <tr>\n",
       "      <th id=\"T_91a30_level0_row32\" class=\"row_heading level0 row32\" >32</th>\n",
       "      <td id=\"T_91a30_row32_col0\" class=\"data row32 col0\" >2027-11-12</td>\n",
       "      <td id=\"T_91a30_row32_col1\" class=\"data row32 col1\" >2028-02-14</td>\n",
       "      <td id=\"T_91a30_row32_col2\" class=\"data row32 col2\" >2027-11-10</td>\n",
       "      <td id=\"T_91a30_row32_col3\" class=\"data row32 col3\" >2028-02-14</td>\n",
       "      <td id=\"T_91a30_row32_col4\" class=\"data row32 col4\" >20,000,000.00</td>\n",
       "      <td id=\"T_91a30_row32_col5\" class=\"data row32 col5\" >0.00</td>\n",
       "      <td id=\"T_91a30_row32_col6\" class=\"data row32 col6\" >98,309.76</td>\n",
       "      <td id=\"T_91a30_row32_col7\" class=\"data row32 col7\" >True</td>\n",
       "      <td id=\"T_91a30_row32_col8\" class=\"data row32 col8\" >98,309.76</td>\n",
       "      <td id=\"T_91a30_row32_col9\" class=\"data row32 col9\" >USD</td>\n",
       "      <td id=\"T_91a30_row32_col10\" class=\"data row32 col10\" >LIBORUSD3M</td>\n",
       "      <td id=\"T_91a30_row32_col11\" class=\"data row32 col11\" >1.8825%</td>\n",
       "      <td id=\"T_91a30_row32_col12\" class=\"data row32 col12\" >0.0000%</td>\n",
       "      <td id=\"T_91a30_row32_col13\" class=\"data row32 col13\" >1.00</td>\n",
       "      <td id=\"T_91a30_row32_col14\" class=\"data row32 col14\" >LinAct360</td>\n",
       "    </tr>\n",
       "    <tr>\n",
       "      <th id=\"T_91a30_level0_row33\" class=\"row_heading level0 row33\" >33</th>\n",
       "      <td id=\"T_91a30_row33_col0\" class=\"data row33 col0\" >2028-02-14</td>\n",
       "      <td id=\"T_91a30_row33_col1\" class=\"data row33 col1\" >2028-05-12</td>\n",
       "      <td id=\"T_91a30_row33_col2\" class=\"data row33 col2\" >2028-02-10</td>\n",
       "      <td id=\"T_91a30_row33_col3\" class=\"data row33 col3\" >2028-05-12</td>\n",
       "      <td id=\"T_91a30_row33_col4\" class=\"data row33 col4\" >20,000,000.00</td>\n",
       "      <td id=\"T_91a30_row33_col5\" class=\"data row33 col5\" >0.00</td>\n",
       "      <td id=\"T_91a30_row33_col6\" class=\"data row33 col6\" >92,673.72</td>\n",
       "      <td id=\"T_91a30_row33_col7\" class=\"data row33 col7\" >True</td>\n",
       "      <td id=\"T_91a30_row33_col8\" class=\"data row33 col8\" >92,673.72</td>\n",
       "      <td id=\"T_91a30_row33_col9\" class=\"data row33 col9\" >USD</td>\n",
       "      <td id=\"T_91a30_row33_col10\" class=\"data row33 col10\" >LIBORUSD3M</td>\n",
       "      <td id=\"T_91a30_row33_col11\" class=\"data row33 col11\" >1.8956%</td>\n",
       "      <td id=\"T_91a30_row33_col12\" class=\"data row33 col12\" >0.0000%</td>\n",
       "      <td id=\"T_91a30_row33_col13\" class=\"data row33 col13\" >1.00</td>\n",
       "      <td id=\"T_91a30_row33_col14\" class=\"data row33 col14\" >LinAct360</td>\n",
       "    </tr>\n",
       "    <tr>\n",
       "      <th id=\"T_91a30_level0_row34\" class=\"row_heading level0 row34\" >34</th>\n",
       "      <td id=\"T_91a30_row34_col0\" class=\"data row34 col0\" >2028-05-12</td>\n",
       "      <td id=\"T_91a30_row34_col1\" class=\"data row34 col1\" >2028-08-14</td>\n",
       "      <td id=\"T_91a30_row34_col2\" class=\"data row34 col2\" >2028-05-10</td>\n",
       "      <td id=\"T_91a30_row34_col3\" class=\"data row34 col3\" >2028-08-14</td>\n",
       "      <td id=\"T_91a30_row34_col4\" class=\"data row34 col4\" >20,000,000.00</td>\n",
       "      <td id=\"T_91a30_row34_col5\" class=\"data row34 col5\" >0.00</td>\n",
       "      <td id=\"T_91a30_row34_col6\" class=\"data row34 col6\" >99,656.47</td>\n",
       "      <td id=\"T_91a30_row34_col7\" class=\"data row34 col7\" >True</td>\n",
       "      <td id=\"T_91a30_row34_col8\" class=\"data row34 col8\" >99,656.47</td>\n",
       "      <td id=\"T_91a30_row34_col9\" class=\"data row34 col9\" >USD</td>\n",
       "      <td id=\"T_91a30_row34_col10\" class=\"data row34 col10\" >LIBORUSD3M</td>\n",
       "      <td id=\"T_91a30_row34_col11\" class=\"data row34 col11\" >1.9083%</td>\n",
       "      <td id=\"T_91a30_row34_col12\" class=\"data row34 col12\" >0.0000%</td>\n",
       "      <td id=\"T_91a30_row34_col13\" class=\"data row34 col13\" >1.00</td>\n",
       "      <td id=\"T_91a30_row34_col14\" class=\"data row34 col14\" >LinAct360</td>\n",
       "    </tr>\n",
       "    <tr>\n",
       "      <th id=\"T_91a30_level0_row35\" class=\"row_heading level0 row35\" >35</th>\n",
       "      <td id=\"T_91a30_row35_col0\" class=\"data row35 col0\" >2028-08-14</td>\n",
       "      <td id=\"T_91a30_row35_col1\" class=\"data row35 col1\" >2028-11-13</td>\n",
       "      <td id=\"T_91a30_row35_col2\" class=\"data row35 col2\" >2028-08-10</td>\n",
       "      <td id=\"T_91a30_row35_col3\" class=\"data row35 col3\" >2028-11-13</td>\n",
       "      <td id=\"T_91a30_row35_col4\" class=\"data row35 col4\" >20,000,000.00</td>\n",
       "      <td id=\"T_91a30_row35_col5\" class=\"data row35 col5\" >0.00</td>\n",
       "      <td id=\"T_91a30_row35_col6\" class=\"data row35 col6\" >97,119.25</td>\n",
       "      <td id=\"T_91a30_row35_col7\" class=\"data row35 col7\" >True</td>\n",
       "      <td id=\"T_91a30_row35_col8\" class=\"data row35 col8\" >97,119.25</td>\n",
       "      <td id=\"T_91a30_row35_col9\" class=\"data row35 col9\" >USD</td>\n",
       "      <td id=\"T_91a30_row35_col10\" class=\"data row35 col10\" >LIBORUSD3M</td>\n",
       "      <td id=\"T_91a30_row35_col11\" class=\"data row35 col11\" >1.9210%</td>\n",
       "      <td id=\"T_91a30_row35_col12\" class=\"data row35 col12\" >0.0000%</td>\n",
       "      <td id=\"T_91a30_row35_col13\" class=\"data row35 col13\" >1.00</td>\n",
       "      <td id=\"T_91a30_row35_col14\" class=\"data row35 col14\" >LinAct360</td>\n",
       "    </tr>\n",
       "    <tr>\n",
       "      <th id=\"T_91a30_level0_row36\" class=\"row_heading level0 row36\" >36</th>\n",
       "      <td id=\"T_91a30_row36_col0\" class=\"data row36 col0\" >2028-11-13</td>\n",
       "      <td id=\"T_91a30_row36_col1\" class=\"data row36 col1\" >2029-02-12</td>\n",
       "      <td id=\"T_91a30_row36_col2\" class=\"data row36 col2\" >2028-11-09</td>\n",
       "      <td id=\"T_91a30_row36_col3\" class=\"data row36 col3\" >2029-02-12</td>\n",
       "      <td id=\"T_91a30_row36_col4\" class=\"data row36 col4\" >20,000,000.00</td>\n",
       "      <td id=\"T_91a30_row36_col5\" class=\"data row36 col5\" >0.00</td>\n",
       "      <td id=\"T_91a30_row36_col6\" class=\"data row36 col6\" >97,742.18</td>\n",
       "      <td id=\"T_91a30_row36_col7\" class=\"data row36 col7\" >True</td>\n",
       "      <td id=\"T_91a30_row36_col8\" class=\"data row36 col8\" >97,742.18</td>\n",
       "      <td id=\"T_91a30_row36_col9\" class=\"data row36 col9\" >USD</td>\n",
       "      <td id=\"T_91a30_row36_col10\" class=\"data row36 col10\" >LIBORUSD3M</td>\n",
       "      <td id=\"T_91a30_row36_col11\" class=\"data row36 col11\" >1.9334%</td>\n",
       "      <td id=\"T_91a30_row36_col12\" class=\"data row36 col12\" >0.0000%</td>\n",
       "      <td id=\"T_91a30_row36_col13\" class=\"data row36 col13\" >1.00</td>\n",
       "      <td id=\"T_91a30_row36_col14\" class=\"data row36 col14\" >LinAct360</td>\n",
       "    </tr>\n",
       "    <tr>\n",
       "      <th id=\"T_91a30_level0_row37\" class=\"row_heading level0 row37\" >37</th>\n",
       "      <td id=\"T_91a30_row37_col0\" class=\"data row37 col0\" >2029-02-12</td>\n",
       "      <td id=\"T_91a30_row37_col1\" class=\"data row37 col1\" >2029-05-14</td>\n",
       "      <td id=\"T_91a30_row37_col2\" class=\"data row37 col2\" >2029-02-08</td>\n",
       "      <td id=\"T_91a30_row37_col3\" class=\"data row37 col3\" >2029-05-14</td>\n",
       "      <td id=\"T_91a30_row37_col4\" class=\"data row37 col4\" >20,000,000.00</td>\n",
       "      <td id=\"T_91a30_row37_col5\" class=\"data row37 col5\" >0.00</td>\n",
       "      <td id=\"T_91a30_row37_col6\" class=\"data row37 col6\" >98,347.80</td>\n",
       "      <td id=\"T_91a30_row37_col7\" class=\"data row37 col7\" >True</td>\n",
       "      <td id=\"T_91a30_row37_col8\" class=\"data row37 col8\" >98,347.80</td>\n",
       "      <td id=\"T_91a30_row37_col9\" class=\"data row37 col9\" >USD</td>\n",
       "      <td id=\"T_91a30_row37_col10\" class=\"data row37 col10\" >LIBORUSD3M</td>\n",
       "      <td id=\"T_91a30_row37_col11\" class=\"data row37 col11\" >1.9453%</td>\n",
       "      <td id=\"T_91a30_row37_col12\" class=\"data row37 col12\" >0.0000%</td>\n",
       "      <td id=\"T_91a30_row37_col13\" class=\"data row37 col13\" >1.00</td>\n",
       "      <td id=\"T_91a30_row37_col14\" class=\"data row37 col14\" >LinAct360</td>\n",
       "    </tr>\n",
       "    <tr>\n",
       "      <th id=\"T_91a30_level0_row38\" class=\"row_heading level0 row38\" >38</th>\n",
       "      <td id=\"T_91a30_row38_col0\" class=\"data row38 col0\" >2029-05-14</td>\n",
       "      <td id=\"T_91a30_row38_col1\" class=\"data row38 col1\" >2029-08-13</td>\n",
       "      <td id=\"T_91a30_row38_col2\" class=\"data row38 col2\" >2029-05-10</td>\n",
       "      <td id=\"T_91a30_row38_col3\" class=\"data row38 col3\" >2029-08-13</td>\n",
       "      <td id=\"T_91a30_row38_col4\" class=\"data row38 col4\" >20,000,000.00</td>\n",
       "      <td id=\"T_91a30_row38_col5\" class=\"data row38 col5\" >0.00</td>\n",
       "      <td id=\"T_91a30_row38_col6\" class=\"data row38 col6\" >98,954.09</td>\n",
       "      <td id=\"T_91a30_row38_col7\" class=\"data row38 col7\" >True</td>\n",
       "      <td id=\"T_91a30_row38_col8\" class=\"data row38 col8\" >98,954.09</td>\n",
       "      <td id=\"T_91a30_row38_col9\" class=\"data row38 col9\" >USD</td>\n",
       "      <td id=\"T_91a30_row38_col10\" class=\"data row38 col10\" >LIBORUSD3M</td>\n",
       "      <td id=\"T_91a30_row38_col11\" class=\"data row38 col11\" >1.9573%</td>\n",
       "      <td id=\"T_91a30_row38_col12\" class=\"data row38 col12\" >0.0000%</td>\n",
       "      <td id=\"T_91a30_row38_col13\" class=\"data row38 col13\" >1.00</td>\n",
       "      <td id=\"T_91a30_row38_col14\" class=\"data row38 col14\" >LinAct360</td>\n",
       "    </tr>\n",
       "    <tr>\n",
       "      <th id=\"T_91a30_level0_row39\" class=\"row_heading level0 row39\" >39</th>\n",
       "      <td id=\"T_91a30_row39_col0\" class=\"data row39 col0\" >2029-08-13</td>\n",
       "      <td id=\"T_91a30_row39_col1\" class=\"data row39 col1\" >2029-11-12</td>\n",
       "      <td id=\"T_91a30_row39_col2\" class=\"data row39 col2\" >2029-08-09</td>\n",
       "      <td id=\"T_91a30_row39_col3\" class=\"data row39 col3\" >2029-11-12</td>\n",
       "      <td id=\"T_91a30_row39_col4\" class=\"data row39 col4\" >20,000,000.00</td>\n",
       "      <td id=\"T_91a30_row39_col5\" class=\"data row39 col5\" >20,000,000.00</td>\n",
       "      <td id=\"T_91a30_row39_col6\" class=\"data row39 col6\" >99,543.20</td>\n",
       "      <td id=\"T_91a30_row39_col7\" class=\"data row39 col7\" >True</td>\n",
       "      <td id=\"T_91a30_row39_col8\" class=\"data row39 col8\" >20,099,543.20</td>\n",
       "      <td id=\"T_91a30_row39_col9\" class=\"data row39 col9\" >USD</td>\n",
       "      <td id=\"T_91a30_row39_col10\" class=\"data row39 col10\" >LIBORUSD3M</td>\n",
       "      <td id=\"T_91a30_row39_col11\" class=\"data row39 col11\" >1.9690%</td>\n",
       "      <td id=\"T_91a30_row39_col12\" class=\"data row39 col12\" >0.0000%</td>\n",
       "      <td id=\"T_91a30_row39_col13\" class=\"data row39 col13\" >1.00</td>\n",
       "      <td id=\"T_91a30_row39_col14\" class=\"data row39 col14\" >LinAct360</td>\n",
       "    </tr>\n",
       "  </tbody>\n",
       "</table>\n"
      ],
      "text/plain": [
       "<pandas.io.formats.style.Styler at 0x11e7e1010>"
      ]
     },
     "execution_count": 74,
     "metadata": {},
     "output_type": "execute_result"
    }
   ],
   "source": [
    "# Se define un list donde almacenar los resultados de la función show\n",
    "tabla = []\n",
    "for i in range(0, ibor_leg.size()):\n",
    "    tabla.append(qcf.show(ibor_leg.get_cashflow_at(i)))\n",
    "\n",
    "# Se utiliza tabla para inicializar el Dataframe\n",
    "columnas = ['fecha_inicial', 'fecha__final', 'fecha_fixing', 'fecha__pago', 'nominal', 'amort', 'interes', 'amort_es_flujo', 'flujo',\n",
    "            'moneda', 'codigo_indice', 'valor_tasa', 'spread', 'gearing', 'tipo_tasa']\n",
    "df5 = pd.DataFrame(tabla, columns=columnas)\n",
    "\n",
    "# Se despliega la data en este formato\n",
    "df5.style.format(format_dict)"
   ]
  },
  {
   "cell_type": "code",
   "execution_count": 75,
   "metadata": {
    "ExecuteTime": {
     "end_time": "2022-01-24T13:13:32.115021Z",
     "start_time": "2022-01-24T13:13:32.100019Z"
    },
    "execution": {
     "iopub.execute_input": "2023-10-16T14:40:44.809836Z",
     "iopub.status.busy": "2023-10-16T14:40:44.809769Z",
     "iopub.status.idle": "2023-10-16T14:40:44.812473Z",
     "shell.execute_reply": "2023-10-16T14:40:44.812163Z",
     "shell.execute_reply.started": "2023-10-16T14:40:44.809830Z"
    }
   },
   "outputs": [
    {
     "name": "stdout",
     "output_type": "stream",
     "text": [
      "d1: -13\n",
      "d2: 77\n",
      "Factor forward: 100.4379%\n",
      "Tasa forward: 1.7517%\n",
      "Curve method 1.5288%\n"
     ]
    }
   ],
   "source": [
    "which_cashflow = 1\n",
    "d1 = fecha_hoy.day_diff(ibor_leg.get_cashflow_at(which_cashflow).get_start_date())\n",
    "d2 = fecha_hoy.day_diff(ibor_leg.get_cashflow_at(which_cashflow).get_end_date())\n",
    "print(\"d1: {0:,.0f}\".format(d1))\n",
    "print(\"d2: {0:,.0f}\".format(d2))\n",
    "crv = zz2\n",
    "w1 = 1 / crv.get_discount_factor_at(d1)\n",
    "w2 = 1 / crv.get_discount_factor_at(d2)\n",
    "print(\"Factor forward: {0:.4%}\".format(w2 / w1))\n",
    "print(\"Tasa forward: {0:.4%}\".format((w2 / w1 - 1) * 360 / (d2 - d1)))\n",
    "print(\"Curve method {0:.4%}\".format(crv.get_forward_rate_with_rate(libor_usd_3m.get_rate(), d1, d2)))"
   ]
  },
  {
   "cell_type": "code",
   "execution_count": 76,
   "metadata": {
    "ExecuteTime": {
     "end_time": "2022-01-24T13:13:32.130615Z",
     "start_time": "2022-01-24T13:13:32.116020Z"
    },
    "cell_style": "center",
    "execution": {
     "iopub.execute_input": "2023-10-16T14:40:44.812937Z",
     "iopub.status.busy": "2023-10-16T14:40:44.812829Z",
     "iopub.status.idle": "2023-10-16T14:40:44.814739Z",
     "shell.execute_reply": "2023-10-16T14:40:44.814445Z",
     "shell.execute_reply.started": "2023-10-16T14:40:44.812928Z"
    }
   },
   "outputs": [
    {
     "name": "stdout",
     "output_type": "stream",
     "text": [
      "Valor presente pata IBOR: 19,923,921\n"
     ]
    }
   ],
   "source": [
    "vp_ibor = pv.pv(fecha_hoy, ibor_leg, zz2)\n",
    "print(\"Valor presente pata IBOR: {0:,.0f}\".format(vp_ibor))"
   ]
  },
  {
   "cell_type": "code",
   "execution_count": 77,
   "metadata": {
    "ExecuteTime": {
     "end_time": "2022-01-24T13:13:32.146545Z",
     "start_time": "2022-01-24T13:13:32.131621Z"
    },
    "execution": {
     "iopub.execute_input": "2023-10-16T14:40:44.815281Z",
     "iopub.status.busy": "2023-10-16T14:40:44.815203Z",
     "iopub.status.idle": "2023-10-16T14:40:44.817557Z",
     "shell.execute_reply": "2023-10-16T14:40:44.817331Z",
     "shell.execute_reply.started": "2023-10-16T14:40:44.815275Z"
    }
   },
   "outputs": [
    {
     "name": "stdout",
     "output_type": "stream",
     "text": [
      "Sensibilidad en 0: 0\n",
      "Sensibilidad en 1: 0\n",
      "Sensibilidad en 2: 0\n",
      "Sensibilidad en 3: 0\n",
      "Sensibilidad en 4: 0\n",
      "Sensibilidad en 5: 0\n",
      "Sensibilidad en 6: 0\n",
      "Sensibilidad en 7: 0\n",
      "Sensibilidad en 8: -2\n",
      "Sensibilidad en 9: -2\n",
      "Sensibilidad en 10: 0\n",
      "Sensibilidad en 11: -3\n",
      "Sensibilidad en 12: -3\n",
      "Sensibilidad en 13: 0\n",
      "Sensibilidad en 14: -3\n",
      "Sensibilidad en 15: -10\n",
      "Sensibilidad en 16: -21\n",
      "Sensibilidad en 17: -47\n",
      "Sensibilidad en 18: -85\n",
      "Sensibilidad en 19: -114\n",
      "Sensibilidad en 20: -234\n",
      "Sensibilidad en 21: -1,895\n",
      "Sensibilidad en 22: -13,122\n",
      "Sensibilidad en 23: 0\n",
      "Sensibilidad en 24: 0\n",
      "Sensibilidad en 25: 0\n",
      "Sensibilidad en 26: 0\n",
      "Sensibilidad en 27: 0\n",
      "Sensibilidad de descuento: -15,541 USD\n"
     ]
    }
   ],
   "source": [
    "der = pv.get_derivatives()\n",
    "i = 0\n",
    "bp = .0001\n",
    "for d in der:\n",
    "    print(\"Sensibilidad en {0:}: {1:0,.0f}\".format(i, d * bp))\n",
    "    i += 1\n",
    "print(\"Sensibilidad de descuento: {0:,.0f} USD\".format(sum(der) * bp))"
   ]
  },
  {
   "cell_type": "markdown",
   "metadata": {},
   "source": [
    "#### Se verifica la sensibilidad de descuento por diferencias finitas."
   ]
  },
  {
   "cell_type": "code",
   "execution_count": 78,
   "metadata": {
    "ExecuteTime": {
     "end_time": "2022-01-24T13:13:32.162546Z",
     "start_time": "2022-01-24T13:13:32.147546Z"
    },
    "execution": {
     "iopub.execute_input": "2023-10-16T14:40:44.818010Z",
     "iopub.status.busy": "2023-10-16T14:40:44.817930Z",
     "iopub.status.idle": "2023-10-16T14:40:44.820066Z",
     "shell.execute_reply": "2023-10-16T14:40:44.819851Z",
     "shell.execute_reply.started": "2023-10-16T14:40:44.818004Z"
    }
   },
   "outputs": [
    {
     "name": "stdout",
     "output_type": "stream",
     "text": [
      "Valor presente up pata IBOR: 19,923,921\n",
      "Valor presente down pata IBOR: 19,923,921\n",
      "Sensibilidad de descuento en el vértice 13: 0\n"
     ]
    }
   ],
   "source": [
    "vp_ibor_up = pv.pv(fecha_hoy, ibor_leg, zz2_sens_up)\n",
    "print(\"Valor presente up pata IBOR: {0:,.0f}\".format(vp_ibor_up))\n",
    "\n",
    "vp_ibor_down = pv.pv(fecha_hoy, ibor_leg, zz2_sens_down)\n",
    "print(\"Valor presente down pata IBOR: {0:,.0f}\".format(vp_ibor_down))\n",
    "\n",
    "print(\"Sensibilidad de descuento en el vértice {0:}: {1:,.0f}\".format(vertice, (vp_ibor_up - vp_ibor_down) / 2))"
   ]
  },
  {
   "cell_type": "markdown",
   "metadata": {},
   "source": [
    "Se calcula también la sensibilidad a la curva de proyección."
   ]
  },
  {
   "cell_type": "code",
   "execution_count": 79,
   "metadata": {
    "ExecuteTime": {
     "end_time": "2022-01-24T13:13:32.178544Z",
     "start_time": "2022-01-24T13:13:32.163545Z"
    },
    "execution": {
     "iopub.execute_input": "2023-10-16T14:40:44.820400Z",
     "iopub.status.busy": "2023-10-16T14:40:44.820346Z",
     "iopub.status.idle": "2023-10-16T14:40:44.825612Z",
     "shell.execute_reply": "2023-10-16T14:40:44.825391Z",
     "shell.execute_reply.started": "2023-10-16T14:40:44.820395Z"
    }
   },
   "outputs": [
    {
     "name": "stdout",
     "output_type": "stream",
     "text": [
      "Sensibilidad en 0: 0\n",
      "Sensibilidad en 1: 0\n",
      "Sensibilidad en 2: 0\n",
      "Sensibilidad en 3: 0\n",
      "Sensibilidad en 4: 0\n",
      "Sensibilidad en 5: -192\n",
      "Sensibilidad en 6: -233\n",
      "Sensibilidad en 7: 0\n",
      "Sensibilidad en 8: 2\n",
      "Sensibilidad en 9: 2\n",
      "Sensibilidad en 10: 0\n",
      "Sensibilidad en 11: 3\n",
      "Sensibilidad en 12: 3\n",
      "Sensibilidad en 13: 0\n",
      "Sensibilidad en 14: 3\n",
      "Sensibilidad en 15: 10\n",
      "Sensibilidad en 16: 21\n",
      "Sensibilidad en 17: 1\n",
      "Sensibilidad en 18: 81\n",
      "Sensibilidad en 19: 193\n",
      "Sensibilidad en 20: 258\n",
      "Sensibilidad en 21: 1,820\n",
      "Sensibilidad en 22: 13,222\n",
      "Sensibilidad en 23: 0\n",
      "Sensibilidad en 24: 0\n",
      "Sensibilidad en 25: 0\n",
      "Sensibilidad en 26: 0\n",
      "Sensibilidad en 27: 0\n",
      "Sensibilidad de proyección: 15,194 USD\n"
     ]
    }
   ],
   "source": [
    "import numpy as np\n",
    "bp = .0001\n",
    "result = []\n",
    "\n",
    "for i in range(ibor_leg.size()):\n",
    "    cshflw = ibor_leg.get_cashflow_at(i)\n",
    "    df = zz2.get_discount_factor_at(fecha_hoy.day_diff(cshflw.get_settlement_date()))\n",
    "    amt_der = cshflw.get_amount_derivatives()\n",
    "    if len(amt_der) > 0:\n",
    "        amt_der = [a * bp * df for a in amt_der]\n",
    "        result.append(np.array(amt_der))\n",
    "\n",
    "total = result[0] * 0\n",
    "for r in result:\n",
    "    total += r\n",
    "\n",
    "for i in range(len(total)):\n",
    "    print(\"Sensibilidad en {0:}: {1:0,.0f}\".format(i, total[i]))\n",
    "\n",
    "print(\"Sensibilidad de proyección: {0:,.0f} USD\".format(sum(total)))"
   ]
  },
  {
   "cell_type": "markdown",
   "metadata": {},
   "source": [
    "#### Se verifica la sensibilidad de proyección por diferencias finitas."
   ]
  },
  {
   "cell_type": "code",
   "execution_count": 80,
   "metadata": {
    "ExecuteTime": {
     "end_time": "2022-01-24T13:13:32.194544Z",
     "start_time": "2022-01-24T13:13:32.179545Z"
    },
    "execution": {
     "iopub.execute_input": "2023-10-16T14:40:44.826102Z",
     "iopub.status.busy": "2023-10-16T14:40:44.826002Z",
     "iopub.status.idle": "2023-10-16T14:40:44.828713Z",
     "shell.execute_reply": "2023-10-16T14:40:44.828379Z",
     "shell.execute_reply.started": "2023-10-16T14:40:44.826096Z"
    }
   },
   "outputs": [
    {
     "name": "stdout",
     "output_type": "stream",
     "text": [
      "Valor presente up pata IBOR: 19,923,921\n",
      "Valor presente down pata IBOR: 19,923,921\n",
      "Sensibilidad de proyección en el vértice 13: 0\n"
     ]
    }
   ],
   "source": [
    "fwd_rates.set_rates_ibor_leg(fecha_hoy, ibor_leg, zz2_sens_up)\n",
    "vp_ibor_up = pv.pv(fecha_hoy, ibor_leg, zz2)\n",
    "print(\"Valor presente up pata IBOR: {0:,.0f}\".format(vp_ibor_up))\n",
    "\n",
    "fwd_rates.set_rates_ibor_leg(fecha_hoy, ibor_leg, zz2_sens_down)\n",
    "vp_ibor_down = pv.pv(fecha_hoy, ibor_leg, zz2)\n",
    "print(\"Valor presente down pata IBOR: {0:,.0f}\".format(vp_ibor_down))\n",
    "\n",
    "print(\"Sensibilidad de proyección en el vértice {0:}: {1:,.0f}\".format(vertice, (vp_ibor_up - vp_ibor_down) / 2))"
   ]
  },
  {
   "cell_type": "markdown",
   "metadata": {},
   "source": [
    "### IcpClfCashflow Leg"
   ]
  },
  {
   "cell_type": "code",
   "execution_count": 81,
   "metadata": {
    "ExecuteTime": {
     "end_time": "2022-01-24T13:13:32.210544Z",
     "start_time": "2022-01-24T13:13:32.195546Z"
    },
    "execution": {
     "iopub.execute_input": "2023-10-16T14:40:44.829104Z",
     "iopub.status.busy": "2023-10-16T14:40:44.829014Z",
     "iopub.status.idle": "2023-10-16T14:40:44.831443Z",
     "shell.execute_reply": "2023-10-16T14:40:44.831248Z",
     "shell.execute_reply.started": "2023-10-16T14:40:44.829098Z"
    }
   },
   "outputs": [],
   "source": [
    "# Se da de alta los parámetros requeridos\n",
    "rp = qcf.RecPay.RECEIVE\n",
    "fecha_inicio = qcf.QCDate(31, 5, 2018)\n",
    "fecha_final = qcf.QCDate(9, 5, 2026) \n",
    "bus_adj_rule = qcf.BusyAdjRules.FOLLOW\n",
    "periodicidad_pago = qcf.Tenor('6M')\n",
    "periodo_irregular_pago = qcf.StubPeriod.SHORTFRONT\n",
    "calendario = qcf.BusinessCalendar(fecha_inicio, 20)\n",
    "lag_pago = 0\n",
    "nominal = 6000_00.0\n",
    "amort_es_flujo = True \n",
    "spread = .0\n",
    "gearing = 1.0\n",
    "\n",
    "icp_clf_leg = qcf.LegFactory.build_bullet_icp_clf_leg(\n",
    "    rp, \n",
    "    fecha_inicio, \n",
    "    fecha_final, \n",
    "    bus_adj_rule, \n",
    "    periodicidad_pago,\n",
    "    periodo_irregular_pago, \n",
    "    calendario, \n",
    "    lag_pago,\n",
    "    nominal, \n",
    "    amort_es_flujo, \n",
    "    spread, \n",
    "    gearing\n",
    ")"
   ]
  },
  {
   "cell_type": "code",
   "execution_count": 82,
   "metadata": {
    "ExecuteTime": {
     "end_time": "2022-01-24T13:13:32.241545Z",
     "start_time": "2022-01-24T13:13:32.211545Z"
    },
    "execution": {
     "iopub.execute_input": "2023-10-16T14:40:44.838852Z",
     "iopub.status.busy": "2023-10-16T14:40:44.838699Z",
     "iopub.status.idle": "2023-10-16T14:40:44.845054Z",
     "shell.execute_reply": "2023-10-16T14:40:44.844825Z",
     "shell.execute_reply.started": "2023-10-16T14:40:44.838845Z"
    }
   },
   "outputs": [
    {
     "data": {
      "text/html": [
       "<style type=\"text/css\">\n",
       "</style>\n",
       "<table id=\"T_fce29\">\n",
       "  <thead>\n",
       "    <tr>\n",
       "      <th class=\"blank level0\" >&nbsp;</th>\n",
       "      <th id=\"T_fce29_level0_col0\" class=\"col_heading level0 col0\" >fecha_inicial</th>\n",
       "      <th id=\"T_fce29_level0_col1\" class=\"col_heading level0 col1\" >fecha__final</th>\n",
       "      <th id=\"T_fce29_level0_col2\" class=\"col_heading level0 col2\" >fecha__pago</th>\n",
       "      <th id=\"T_fce29_level0_col3\" class=\"col_heading level0 col3\" >nominal</th>\n",
       "      <th id=\"T_fce29_level0_col4\" class=\"col_heading level0 col4\" >amort</th>\n",
       "      <th id=\"T_fce29_level0_col5\" class=\"col_heading level0 col5\" >amort_es_flujo</th>\n",
       "      <th id=\"T_fce29_level0_col6\" class=\"col_heading level0 col6\" >flujo</th>\n",
       "      <th id=\"T_fce29_level0_col7\" class=\"col_heading level0 col7\" >moneda</th>\n",
       "      <th id=\"T_fce29_level0_col8\" class=\"col_heading level0 col8\" >icp_inicial</th>\n",
       "      <th id=\"T_fce29_level0_col9\" class=\"col_heading level0 col9\" >icp_final</th>\n",
       "      <th id=\"T_fce29_level0_col10\" class=\"col_heading level0 col10\" >uf_inicial</th>\n",
       "      <th id=\"T_fce29_level0_col11\" class=\"col_heading level0 col11\" >uf_final</th>\n",
       "      <th id=\"T_fce29_level0_col12\" class=\"col_heading level0 col12\" >valor_tasa</th>\n",
       "      <th id=\"T_fce29_level0_col13\" class=\"col_heading level0 col13\" >interes</th>\n",
       "      <th id=\"T_fce29_level0_col14\" class=\"col_heading level0 col14\" >spread</th>\n",
       "      <th id=\"T_fce29_level0_col15\" class=\"col_heading level0 col15\" >gearing</th>\n",
       "      <th id=\"T_fce29_level0_col16\" class=\"col_heading level0 col16\" >tipo_tasa</th>\n",
       "    </tr>\n",
       "  </thead>\n",
       "  <tbody>\n",
       "    <tr>\n",
       "      <th id=\"T_fce29_level0_row0\" class=\"row_heading level0 row0\" >0</th>\n",
       "      <td id=\"T_fce29_row0_col0\" class=\"data row0 col0\" >2018-05-31</td>\n",
       "      <td id=\"T_fce29_row0_col1\" class=\"data row0 col1\" >2018-11-09</td>\n",
       "      <td id=\"T_fce29_row0_col2\" class=\"data row0 col2\" >2018-11-09</td>\n",
       "      <td id=\"T_fce29_row0_col3\" class=\"data row0 col3\" >600,000.00</td>\n",
       "      <td id=\"T_fce29_row0_col4\" class=\"data row0 col4\" >0.00</td>\n",
       "      <td id=\"T_fce29_row0_col5\" class=\"data row0 col5\" >True</td>\n",
       "      <td id=\"T_fce29_row0_col6\" class=\"data row0 col6\" >0.00</td>\n",
       "      <td id=\"T_fce29_row0_col7\" class=\"data row0 col7\" >CLF</td>\n",
       "      <td id=\"T_fce29_row0_col8\" class=\"data row0 col8\" >10,000.00</td>\n",
       "      <td id=\"T_fce29_row0_col9\" class=\"data row0 col9\" >10,000.00</td>\n",
       "      <td id=\"T_fce29_row0_col10\" class=\"data row0 col10\" >35,000.00</td>\n",
       "      <td id=\"T_fce29_row0_col11\" class=\"data row0 col11\" >35,000.00</td>\n",
       "      <td id=\"T_fce29_row0_col12\" class=\"data row0 col12\" >0.0000%</td>\n",
       "      <td id=\"T_fce29_row0_col13\" class=\"data row0 col13\" >0.00</td>\n",
       "      <td id=\"T_fce29_row0_col14\" class=\"data row0 col14\" >0.0000%</td>\n",
       "      <td id=\"T_fce29_row0_col15\" class=\"data row0 col15\" >1.00</td>\n",
       "      <td id=\"T_fce29_row0_col16\" class=\"data row0 col16\" >LinAct360</td>\n",
       "    </tr>\n",
       "    <tr>\n",
       "      <th id=\"T_fce29_level0_row1\" class=\"row_heading level0 row1\" >1</th>\n",
       "      <td id=\"T_fce29_row1_col0\" class=\"data row1 col0\" >2018-11-09</td>\n",
       "      <td id=\"T_fce29_row1_col1\" class=\"data row1 col1\" >2019-05-09</td>\n",
       "      <td id=\"T_fce29_row1_col2\" class=\"data row1 col2\" >2019-05-09</td>\n",
       "      <td id=\"T_fce29_row1_col3\" class=\"data row1 col3\" >600,000.00</td>\n",
       "      <td id=\"T_fce29_row1_col4\" class=\"data row1 col4\" >0.00</td>\n",
       "      <td id=\"T_fce29_row1_col5\" class=\"data row1 col5\" >True</td>\n",
       "      <td id=\"T_fce29_row1_col6\" class=\"data row1 col6\" >0.00</td>\n",
       "      <td id=\"T_fce29_row1_col7\" class=\"data row1 col7\" >CLF</td>\n",
       "      <td id=\"T_fce29_row1_col8\" class=\"data row1 col8\" >10,000.00</td>\n",
       "      <td id=\"T_fce29_row1_col9\" class=\"data row1 col9\" >10,000.00</td>\n",
       "      <td id=\"T_fce29_row1_col10\" class=\"data row1 col10\" >35,000.00</td>\n",
       "      <td id=\"T_fce29_row1_col11\" class=\"data row1 col11\" >35,000.00</td>\n",
       "      <td id=\"T_fce29_row1_col12\" class=\"data row1 col12\" >0.0000%</td>\n",
       "      <td id=\"T_fce29_row1_col13\" class=\"data row1 col13\" >0.00</td>\n",
       "      <td id=\"T_fce29_row1_col14\" class=\"data row1 col14\" >0.0000%</td>\n",
       "      <td id=\"T_fce29_row1_col15\" class=\"data row1 col15\" >1.00</td>\n",
       "      <td id=\"T_fce29_row1_col16\" class=\"data row1 col16\" >LinAct360</td>\n",
       "    </tr>\n",
       "    <tr>\n",
       "      <th id=\"T_fce29_level0_row2\" class=\"row_heading level0 row2\" >2</th>\n",
       "      <td id=\"T_fce29_row2_col0\" class=\"data row2 col0\" >2019-05-09</td>\n",
       "      <td id=\"T_fce29_row2_col1\" class=\"data row2 col1\" >2019-11-11</td>\n",
       "      <td id=\"T_fce29_row2_col2\" class=\"data row2 col2\" >2019-11-11</td>\n",
       "      <td id=\"T_fce29_row2_col3\" class=\"data row2 col3\" >600,000.00</td>\n",
       "      <td id=\"T_fce29_row2_col4\" class=\"data row2 col4\" >0.00</td>\n",
       "      <td id=\"T_fce29_row2_col5\" class=\"data row2 col5\" >True</td>\n",
       "      <td id=\"T_fce29_row2_col6\" class=\"data row2 col6\" >0.00</td>\n",
       "      <td id=\"T_fce29_row2_col7\" class=\"data row2 col7\" >CLF</td>\n",
       "      <td id=\"T_fce29_row2_col8\" class=\"data row2 col8\" >10,000.00</td>\n",
       "      <td id=\"T_fce29_row2_col9\" class=\"data row2 col9\" >10,000.00</td>\n",
       "      <td id=\"T_fce29_row2_col10\" class=\"data row2 col10\" >35,000.00</td>\n",
       "      <td id=\"T_fce29_row2_col11\" class=\"data row2 col11\" >35,000.00</td>\n",
       "      <td id=\"T_fce29_row2_col12\" class=\"data row2 col12\" >0.0000%</td>\n",
       "      <td id=\"T_fce29_row2_col13\" class=\"data row2 col13\" >0.00</td>\n",
       "      <td id=\"T_fce29_row2_col14\" class=\"data row2 col14\" >0.0000%</td>\n",
       "      <td id=\"T_fce29_row2_col15\" class=\"data row2 col15\" >1.00</td>\n",
       "      <td id=\"T_fce29_row2_col16\" class=\"data row2 col16\" >LinAct360</td>\n",
       "    </tr>\n",
       "    <tr>\n",
       "      <th id=\"T_fce29_level0_row3\" class=\"row_heading level0 row3\" >3</th>\n",
       "      <td id=\"T_fce29_row3_col0\" class=\"data row3 col0\" >2019-11-11</td>\n",
       "      <td id=\"T_fce29_row3_col1\" class=\"data row3 col1\" >2020-05-11</td>\n",
       "      <td id=\"T_fce29_row3_col2\" class=\"data row3 col2\" >2020-05-11</td>\n",
       "      <td id=\"T_fce29_row3_col3\" class=\"data row3 col3\" >600,000.00</td>\n",
       "      <td id=\"T_fce29_row3_col4\" class=\"data row3 col4\" >0.00</td>\n",
       "      <td id=\"T_fce29_row3_col5\" class=\"data row3 col5\" >True</td>\n",
       "      <td id=\"T_fce29_row3_col6\" class=\"data row3 col6\" >0.00</td>\n",
       "      <td id=\"T_fce29_row3_col7\" class=\"data row3 col7\" >CLF</td>\n",
       "      <td id=\"T_fce29_row3_col8\" class=\"data row3 col8\" >10,000.00</td>\n",
       "      <td id=\"T_fce29_row3_col9\" class=\"data row3 col9\" >10,000.00</td>\n",
       "      <td id=\"T_fce29_row3_col10\" class=\"data row3 col10\" >35,000.00</td>\n",
       "      <td id=\"T_fce29_row3_col11\" class=\"data row3 col11\" >35,000.00</td>\n",
       "      <td id=\"T_fce29_row3_col12\" class=\"data row3 col12\" >0.0000%</td>\n",
       "      <td id=\"T_fce29_row3_col13\" class=\"data row3 col13\" >0.00</td>\n",
       "      <td id=\"T_fce29_row3_col14\" class=\"data row3 col14\" >0.0000%</td>\n",
       "      <td id=\"T_fce29_row3_col15\" class=\"data row3 col15\" >1.00</td>\n",
       "      <td id=\"T_fce29_row3_col16\" class=\"data row3 col16\" >LinAct360</td>\n",
       "    </tr>\n",
       "    <tr>\n",
       "      <th id=\"T_fce29_level0_row4\" class=\"row_heading level0 row4\" >4</th>\n",
       "      <td id=\"T_fce29_row4_col0\" class=\"data row4 col0\" >2020-05-11</td>\n",
       "      <td id=\"T_fce29_row4_col1\" class=\"data row4 col1\" >2020-11-09</td>\n",
       "      <td id=\"T_fce29_row4_col2\" class=\"data row4 col2\" >2020-11-09</td>\n",
       "      <td id=\"T_fce29_row4_col3\" class=\"data row4 col3\" >600,000.00</td>\n",
       "      <td id=\"T_fce29_row4_col4\" class=\"data row4 col4\" >0.00</td>\n",
       "      <td id=\"T_fce29_row4_col5\" class=\"data row4 col5\" >True</td>\n",
       "      <td id=\"T_fce29_row4_col6\" class=\"data row4 col6\" >0.00</td>\n",
       "      <td id=\"T_fce29_row4_col7\" class=\"data row4 col7\" >CLF</td>\n",
       "      <td id=\"T_fce29_row4_col8\" class=\"data row4 col8\" >10,000.00</td>\n",
       "      <td id=\"T_fce29_row4_col9\" class=\"data row4 col9\" >10,000.00</td>\n",
       "      <td id=\"T_fce29_row4_col10\" class=\"data row4 col10\" >35,000.00</td>\n",
       "      <td id=\"T_fce29_row4_col11\" class=\"data row4 col11\" >35,000.00</td>\n",
       "      <td id=\"T_fce29_row4_col12\" class=\"data row4 col12\" >0.0000%</td>\n",
       "      <td id=\"T_fce29_row4_col13\" class=\"data row4 col13\" >0.00</td>\n",
       "      <td id=\"T_fce29_row4_col14\" class=\"data row4 col14\" >0.0000%</td>\n",
       "      <td id=\"T_fce29_row4_col15\" class=\"data row4 col15\" >1.00</td>\n",
       "      <td id=\"T_fce29_row4_col16\" class=\"data row4 col16\" >LinAct360</td>\n",
       "    </tr>\n",
       "    <tr>\n",
       "      <th id=\"T_fce29_level0_row5\" class=\"row_heading level0 row5\" >5</th>\n",
       "      <td id=\"T_fce29_row5_col0\" class=\"data row5 col0\" >2020-11-09</td>\n",
       "      <td id=\"T_fce29_row5_col1\" class=\"data row5 col1\" >2021-05-10</td>\n",
       "      <td id=\"T_fce29_row5_col2\" class=\"data row5 col2\" >2021-05-10</td>\n",
       "      <td id=\"T_fce29_row5_col3\" class=\"data row5 col3\" >600,000.00</td>\n",
       "      <td id=\"T_fce29_row5_col4\" class=\"data row5 col4\" >0.00</td>\n",
       "      <td id=\"T_fce29_row5_col5\" class=\"data row5 col5\" >True</td>\n",
       "      <td id=\"T_fce29_row5_col6\" class=\"data row5 col6\" >0.00</td>\n",
       "      <td id=\"T_fce29_row5_col7\" class=\"data row5 col7\" >CLF</td>\n",
       "      <td id=\"T_fce29_row5_col8\" class=\"data row5 col8\" >10,000.00</td>\n",
       "      <td id=\"T_fce29_row5_col9\" class=\"data row5 col9\" >10,000.00</td>\n",
       "      <td id=\"T_fce29_row5_col10\" class=\"data row5 col10\" >35,000.00</td>\n",
       "      <td id=\"T_fce29_row5_col11\" class=\"data row5 col11\" >35,000.00</td>\n",
       "      <td id=\"T_fce29_row5_col12\" class=\"data row5 col12\" >0.0000%</td>\n",
       "      <td id=\"T_fce29_row5_col13\" class=\"data row5 col13\" >0.00</td>\n",
       "      <td id=\"T_fce29_row5_col14\" class=\"data row5 col14\" >0.0000%</td>\n",
       "      <td id=\"T_fce29_row5_col15\" class=\"data row5 col15\" >1.00</td>\n",
       "      <td id=\"T_fce29_row5_col16\" class=\"data row5 col16\" >LinAct360</td>\n",
       "    </tr>\n",
       "    <tr>\n",
       "      <th id=\"T_fce29_level0_row6\" class=\"row_heading level0 row6\" >6</th>\n",
       "      <td id=\"T_fce29_row6_col0\" class=\"data row6 col0\" >2021-05-10</td>\n",
       "      <td id=\"T_fce29_row6_col1\" class=\"data row6 col1\" >2021-11-09</td>\n",
       "      <td id=\"T_fce29_row6_col2\" class=\"data row6 col2\" >2021-11-09</td>\n",
       "      <td id=\"T_fce29_row6_col3\" class=\"data row6 col3\" >600,000.00</td>\n",
       "      <td id=\"T_fce29_row6_col4\" class=\"data row6 col4\" >0.00</td>\n",
       "      <td id=\"T_fce29_row6_col5\" class=\"data row6 col5\" >True</td>\n",
       "      <td id=\"T_fce29_row6_col6\" class=\"data row6 col6\" >0.00</td>\n",
       "      <td id=\"T_fce29_row6_col7\" class=\"data row6 col7\" >CLF</td>\n",
       "      <td id=\"T_fce29_row6_col8\" class=\"data row6 col8\" >10,000.00</td>\n",
       "      <td id=\"T_fce29_row6_col9\" class=\"data row6 col9\" >10,000.00</td>\n",
       "      <td id=\"T_fce29_row6_col10\" class=\"data row6 col10\" >35,000.00</td>\n",
       "      <td id=\"T_fce29_row6_col11\" class=\"data row6 col11\" >35,000.00</td>\n",
       "      <td id=\"T_fce29_row6_col12\" class=\"data row6 col12\" >0.0000%</td>\n",
       "      <td id=\"T_fce29_row6_col13\" class=\"data row6 col13\" >0.00</td>\n",
       "      <td id=\"T_fce29_row6_col14\" class=\"data row6 col14\" >0.0000%</td>\n",
       "      <td id=\"T_fce29_row6_col15\" class=\"data row6 col15\" >1.00</td>\n",
       "      <td id=\"T_fce29_row6_col16\" class=\"data row6 col16\" >LinAct360</td>\n",
       "    </tr>\n",
       "    <tr>\n",
       "      <th id=\"T_fce29_level0_row7\" class=\"row_heading level0 row7\" >7</th>\n",
       "      <td id=\"T_fce29_row7_col0\" class=\"data row7 col0\" >2021-11-09</td>\n",
       "      <td id=\"T_fce29_row7_col1\" class=\"data row7 col1\" >2022-05-09</td>\n",
       "      <td id=\"T_fce29_row7_col2\" class=\"data row7 col2\" >2022-05-09</td>\n",
       "      <td id=\"T_fce29_row7_col3\" class=\"data row7 col3\" >600,000.00</td>\n",
       "      <td id=\"T_fce29_row7_col4\" class=\"data row7 col4\" >0.00</td>\n",
       "      <td id=\"T_fce29_row7_col5\" class=\"data row7 col5\" >True</td>\n",
       "      <td id=\"T_fce29_row7_col6\" class=\"data row7 col6\" >0.00</td>\n",
       "      <td id=\"T_fce29_row7_col7\" class=\"data row7 col7\" >CLF</td>\n",
       "      <td id=\"T_fce29_row7_col8\" class=\"data row7 col8\" >10,000.00</td>\n",
       "      <td id=\"T_fce29_row7_col9\" class=\"data row7 col9\" >10,000.00</td>\n",
       "      <td id=\"T_fce29_row7_col10\" class=\"data row7 col10\" >35,000.00</td>\n",
       "      <td id=\"T_fce29_row7_col11\" class=\"data row7 col11\" >35,000.00</td>\n",
       "      <td id=\"T_fce29_row7_col12\" class=\"data row7 col12\" >0.0000%</td>\n",
       "      <td id=\"T_fce29_row7_col13\" class=\"data row7 col13\" >0.00</td>\n",
       "      <td id=\"T_fce29_row7_col14\" class=\"data row7 col14\" >0.0000%</td>\n",
       "      <td id=\"T_fce29_row7_col15\" class=\"data row7 col15\" >1.00</td>\n",
       "      <td id=\"T_fce29_row7_col16\" class=\"data row7 col16\" >LinAct360</td>\n",
       "    </tr>\n",
       "    <tr>\n",
       "      <th id=\"T_fce29_level0_row8\" class=\"row_heading level0 row8\" >8</th>\n",
       "      <td id=\"T_fce29_row8_col0\" class=\"data row8 col0\" >2022-05-09</td>\n",
       "      <td id=\"T_fce29_row8_col1\" class=\"data row8 col1\" >2022-11-09</td>\n",
       "      <td id=\"T_fce29_row8_col2\" class=\"data row8 col2\" >2022-11-09</td>\n",
       "      <td id=\"T_fce29_row8_col3\" class=\"data row8 col3\" >600,000.00</td>\n",
       "      <td id=\"T_fce29_row8_col4\" class=\"data row8 col4\" >0.00</td>\n",
       "      <td id=\"T_fce29_row8_col5\" class=\"data row8 col5\" >True</td>\n",
       "      <td id=\"T_fce29_row8_col6\" class=\"data row8 col6\" >0.00</td>\n",
       "      <td id=\"T_fce29_row8_col7\" class=\"data row8 col7\" >CLF</td>\n",
       "      <td id=\"T_fce29_row8_col8\" class=\"data row8 col8\" >10,000.00</td>\n",
       "      <td id=\"T_fce29_row8_col9\" class=\"data row8 col9\" >10,000.00</td>\n",
       "      <td id=\"T_fce29_row8_col10\" class=\"data row8 col10\" >35,000.00</td>\n",
       "      <td id=\"T_fce29_row8_col11\" class=\"data row8 col11\" >35,000.00</td>\n",
       "      <td id=\"T_fce29_row8_col12\" class=\"data row8 col12\" >0.0000%</td>\n",
       "      <td id=\"T_fce29_row8_col13\" class=\"data row8 col13\" >0.00</td>\n",
       "      <td id=\"T_fce29_row8_col14\" class=\"data row8 col14\" >0.0000%</td>\n",
       "      <td id=\"T_fce29_row8_col15\" class=\"data row8 col15\" >1.00</td>\n",
       "      <td id=\"T_fce29_row8_col16\" class=\"data row8 col16\" >LinAct360</td>\n",
       "    </tr>\n",
       "    <tr>\n",
       "      <th id=\"T_fce29_level0_row9\" class=\"row_heading level0 row9\" >9</th>\n",
       "      <td id=\"T_fce29_row9_col0\" class=\"data row9 col0\" >2022-11-09</td>\n",
       "      <td id=\"T_fce29_row9_col1\" class=\"data row9 col1\" >2023-05-09</td>\n",
       "      <td id=\"T_fce29_row9_col2\" class=\"data row9 col2\" >2023-05-09</td>\n",
       "      <td id=\"T_fce29_row9_col3\" class=\"data row9 col3\" >600,000.00</td>\n",
       "      <td id=\"T_fce29_row9_col4\" class=\"data row9 col4\" >0.00</td>\n",
       "      <td id=\"T_fce29_row9_col5\" class=\"data row9 col5\" >True</td>\n",
       "      <td id=\"T_fce29_row9_col6\" class=\"data row9 col6\" >0.00</td>\n",
       "      <td id=\"T_fce29_row9_col7\" class=\"data row9 col7\" >CLF</td>\n",
       "      <td id=\"T_fce29_row9_col8\" class=\"data row9 col8\" >10,000.00</td>\n",
       "      <td id=\"T_fce29_row9_col9\" class=\"data row9 col9\" >10,000.00</td>\n",
       "      <td id=\"T_fce29_row9_col10\" class=\"data row9 col10\" >35,000.00</td>\n",
       "      <td id=\"T_fce29_row9_col11\" class=\"data row9 col11\" >35,000.00</td>\n",
       "      <td id=\"T_fce29_row9_col12\" class=\"data row9 col12\" >0.0000%</td>\n",
       "      <td id=\"T_fce29_row9_col13\" class=\"data row9 col13\" >0.00</td>\n",
       "      <td id=\"T_fce29_row9_col14\" class=\"data row9 col14\" >0.0000%</td>\n",
       "      <td id=\"T_fce29_row9_col15\" class=\"data row9 col15\" >1.00</td>\n",
       "      <td id=\"T_fce29_row9_col16\" class=\"data row9 col16\" >LinAct360</td>\n",
       "    </tr>\n",
       "    <tr>\n",
       "      <th id=\"T_fce29_level0_row10\" class=\"row_heading level0 row10\" >10</th>\n",
       "      <td id=\"T_fce29_row10_col0\" class=\"data row10 col0\" >2023-05-09</td>\n",
       "      <td id=\"T_fce29_row10_col1\" class=\"data row10 col1\" >2023-11-09</td>\n",
       "      <td id=\"T_fce29_row10_col2\" class=\"data row10 col2\" >2023-11-09</td>\n",
       "      <td id=\"T_fce29_row10_col3\" class=\"data row10 col3\" >600,000.00</td>\n",
       "      <td id=\"T_fce29_row10_col4\" class=\"data row10 col4\" >0.00</td>\n",
       "      <td id=\"T_fce29_row10_col5\" class=\"data row10 col5\" >True</td>\n",
       "      <td id=\"T_fce29_row10_col6\" class=\"data row10 col6\" >0.00</td>\n",
       "      <td id=\"T_fce29_row10_col7\" class=\"data row10 col7\" >CLF</td>\n",
       "      <td id=\"T_fce29_row10_col8\" class=\"data row10 col8\" >10,000.00</td>\n",
       "      <td id=\"T_fce29_row10_col9\" class=\"data row10 col9\" >10,000.00</td>\n",
       "      <td id=\"T_fce29_row10_col10\" class=\"data row10 col10\" >35,000.00</td>\n",
       "      <td id=\"T_fce29_row10_col11\" class=\"data row10 col11\" >35,000.00</td>\n",
       "      <td id=\"T_fce29_row10_col12\" class=\"data row10 col12\" >0.0000%</td>\n",
       "      <td id=\"T_fce29_row10_col13\" class=\"data row10 col13\" >0.00</td>\n",
       "      <td id=\"T_fce29_row10_col14\" class=\"data row10 col14\" >0.0000%</td>\n",
       "      <td id=\"T_fce29_row10_col15\" class=\"data row10 col15\" >1.00</td>\n",
       "      <td id=\"T_fce29_row10_col16\" class=\"data row10 col16\" >LinAct360</td>\n",
       "    </tr>\n",
       "    <tr>\n",
       "      <th id=\"T_fce29_level0_row11\" class=\"row_heading level0 row11\" >11</th>\n",
       "      <td id=\"T_fce29_row11_col0\" class=\"data row11 col0\" >2023-11-09</td>\n",
       "      <td id=\"T_fce29_row11_col1\" class=\"data row11 col1\" >2024-05-09</td>\n",
       "      <td id=\"T_fce29_row11_col2\" class=\"data row11 col2\" >2024-05-09</td>\n",
       "      <td id=\"T_fce29_row11_col3\" class=\"data row11 col3\" >600,000.00</td>\n",
       "      <td id=\"T_fce29_row11_col4\" class=\"data row11 col4\" >0.00</td>\n",
       "      <td id=\"T_fce29_row11_col5\" class=\"data row11 col5\" >True</td>\n",
       "      <td id=\"T_fce29_row11_col6\" class=\"data row11 col6\" >0.00</td>\n",
       "      <td id=\"T_fce29_row11_col7\" class=\"data row11 col7\" >CLF</td>\n",
       "      <td id=\"T_fce29_row11_col8\" class=\"data row11 col8\" >10,000.00</td>\n",
       "      <td id=\"T_fce29_row11_col9\" class=\"data row11 col9\" >10,000.00</td>\n",
       "      <td id=\"T_fce29_row11_col10\" class=\"data row11 col10\" >35,000.00</td>\n",
       "      <td id=\"T_fce29_row11_col11\" class=\"data row11 col11\" >35,000.00</td>\n",
       "      <td id=\"T_fce29_row11_col12\" class=\"data row11 col12\" >0.0000%</td>\n",
       "      <td id=\"T_fce29_row11_col13\" class=\"data row11 col13\" >0.00</td>\n",
       "      <td id=\"T_fce29_row11_col14\" class=\"data row11 col14\" >0.0000%</td>\n",
       "      <td id=\"T_fce29_row11_col15\" class=\"data row11 col15\" >1.00</td>\n",
       "      <td id=\"T_fce29_row11_col16\" class=\"data row11 col16\" >LinAct360</td>\n",
       "    </tr>\n",
       "    <tr>\n",
       "      <th id=\"T_fce29_level0_row12\" class=\"row_heading level0 row12\" >12</th>\n",
       "      <td id=\"T_fce29_row12_col0\" class=\"data row12 col0\" >2024-05-09</td>\n",
       "      <td id=\"T_fce29_row12_col1\" class=\"data row12 col1\" >2024-11-11</td>\n",
       "      <td id=\"T_fce29_row12_col2\" class=\"data row12 col2\" >2024-11-11</td>\n",
       "      <td id=\"T_fce29_row12_col3\" class=\"data row12 col3\" >600,000.00</td>\n",
       "      <td id=\"T_fce29_row12_col4\" class=\"data row12 col4\" >0.00</td>\n",
       "      <td id=\"T_fce29_row12_col5\" class=\"data row12 col5\" >True</td>\n",
       "      <td id=\"T_fce29_row12_col6\" class=\"data row12 col6\" >0.00</td>\n",
       "      <td id=\"T_fce29_row12_col7\" class=\"data row12 col7\" >CLF</td>\n",
       "      <td id=\"T_fce29_row12_col8\" class=\"data row12 col8\" >10,000.00</td>\n",
       "      <td id=\"T_fce29_row12_col9\" class=\"data row12 col9\" >10,000.00</td>\n",
       "      <td id=\"T_fce29_row12_col10\" class=\"data row12 col10\" >35,000.00</td>\n",
       "      <td id=\"T_fce29_row12_col11\" class=\"data row12 col11\" >35,000.00</td>\n",
       "      <td id=\"T_fce29_row12_col12\" class=\"data row12 col12\" >0.0000%</td>\n",
       "      <td id=\"T_fce29_row12_col13\" class=\"data row12 col13\" >0.00</td>\n",
       "      <td id=\"T_fce29_row12_col14\" class=\"data row12 col14\" >0.0000%</td>\n",
       "      <td id=\"T_fce29_row12_col15\" class=\"data row12 col15\" >1.00</td>\n",
       "      <td id=\"T_fce29_row12_col16\" class=\"data row12 col16\" >LinAct360</td>\n",
       "    </tr>\n",
       "    <tr>\n",
       "      <th id=\"T_fce29_level0_row13\" class=\"row_heading level0 row13\" >13</th>\n",
       "      <td id=\"T_fce29_row13_col0\" class=\"data row13 col0\" >2024-11-11</td>\n",
       "      <td id=\"T_fce29_row13_col1\" class=\"data row13 col1\" >2025-05-09</td>\n",
       "      <td id=\"T_fce29_row13_col2\" class=\"data row13 col2\" >2025-05-09</td>\n",
       "      <td id=\"T_fce29_row13_col3\" class=\"data row13 col3\" >600,000.00</td>\n",
       "      <td id=\"T_fce29_row13_col4\" class=\"data row13 col4\" >0.00</td>\n",
       "      <td id=\"T_fce29_row13_col5\" class=\"data row13 col5\" >True</td>\n",
       "      <td id=\"T_fce29_row13_col6\" class=\"data row13 col6\" >0.00</td>\n",
       "      <td id=\"T_fce29_row13_col7\" class=\"data row13 col7\" >CLF</td>\n",
       "      <td id=\"T_fce29_row13_col8\" class=\"data row13 col8\" >10,000.00</td>\n",
       "      <td id=\"T_fce29_row13_col9\" class=\"data row13 col9\" >10,000.00</td>\n",
       "      <td id=\"T_fce29_row13_col10\" class=\"data row13 col10\" >35,000.00</td>\n",
       "      <td id=\"T_fce29_row13_col11\" class=\"data row13 col11\" >35,000.00</td>\n",
       "      <td id=\"T_fce29_row13_col12\" class=\"data row13 col12\" >0.0000%</td>\n",
       "      <td id=\"T_fce29_row13_col13\" class=\"data row13 col13\" >0.00</td>\n",
       "      <td id=\"T_fce29_row13_col14\" class=\"data row13 col14\" >0.0000%</td>\n",
       "      <td id=\"T_fce29_row13_col15\" class=\"data row13 col15\" >1.00</td>\n",
       "      <td id=\"T_fce29_row13_col16\" class=\"data row13 col16\" >LinAct360</td>\n",
       "    </tr>\n",
       "    <tr>\n",
       "      <th id=\"T_fce29_level0_row14\" class=\"row_heading level0 row14\" >14</th>\n",
       "      <td id=\"T_fce29_row14_col0\" class=\"data row14 col0\" >2025-05-09</td>\n",
       "      <td id=\"T_fce29_row14_col1\" class=\"data row14 col1\" >2025-11-10</td>\n",
       "      <td id=\"T_fce29_row14_col2\" class=\"data row14 col2\" >2025-11-10</td>\n",
       "      <td id=\"T_fce29_row14_col3\" class=\"data row14 col3\" >600,000.00</td>\n",
       "      <td id=\"T_fce29_row14_col4\" class=\"data row14 col4\" >0.00</td>\n",
       "      <td id=\"T_fce29_row14_col5\" class=\"data row14 col5\" >True</td>\n",
       "      <td id=\"T_fce29_row14_col6\" class=\"data row14 col6\" >0.00</td>\n",
       "      <td id=\"T_fce29_row14_col7\" class=\"data row14 col7\" >CLF</td>\n",
       "      <td id=\"T_fce29_row14_col8\" class=\"data row14 col8\" >10,000.00</td>\n",
       "      <td id=\"T_fce29_row14_col9\" class=\"data row14 col9\" >10,000.00</td>\n",
       "      <td id=\"T_fce29_row14_col10\" class=\"data row14 col10\" >35,000.00</td>\n",
       "      <td id=\"T_fce29_row14_col11\" class=\"data row14 col11\" >35,000.00</td>\n",
       "      <td id=\"T_fce29_row14_col12\" class=\"data row14 col12\" >0.0000%</td>\n",
       "      <td id=\"T_fce29_row14_col13\" class=\"data row14 col13\" >0.00</td>\n",
       "      <td id=\"T_fce29_row14_col14\" class=\"data row14 col14\" >0.0000%</td>\n",
       "      <td id=\"T_fce29_row14_col15\" class=\"data row14 col15\" >1.00</td>\n",
       "      <td id=\"T_fce29_row14_col16\" class=\"data row14 col16\" >LinAct360</td>\n",
       "    </tr>\n",
       "    <tr>\n",
       "      <th id=\"T_fce29_level0_row15\" class=\"row_heading level0 row15\" >15</th>\n",
       "      <td id=\"T_fce29_row15_col0\" class=\"data row15 col0\" >2025-11-10</td>\n",
       "      <td id=\"T_fce29_row15_col1\" class=\"data row15 col1\" >2026-05-11</td>\n",
       "      <td id=\"T_fce29_row15_col2\" class=\"data row15 col2\" >2026-05-11</td>\n",
       "      <td id=\"T_fce29_row15_col3\" class=\"data row15 col3\" >600,000.00</td>\n",
       "      <td id=\"T_fce29_row15_col4\" class=\"data row15 col4\" >600,000.00</td>\n",
       "      <td id=\"T_fce29_row15_col5\" class=\"data row15 col5\" >True</td>\n",
       "      <td id=\"T_fce29_row15_col6\" class=\"data row15 col6\" >600,000.00</td>\n",
       "      <td id=\"T_fce29_row15_col7\" class=\"data row15 col7\" >CLF</td>\n",
       "      <td id=\"T_fce29_row15_col8\" class=\"data row15 col8\" >10,000.00</td>\n",
       "      <td id=\"T_fce29_row15_col9\" class=\"data row15 col9\" >10,000.00</td>\n",
       "      <td id=\"T_fce29_row15_col10\" class=\"data row15 col10\" >35,000.00</td>\n",
       "      <td id=\"T_fce29_row15_col11\" class=\"data row15 col11\" >35,000.00</td>\n",
       "      <td id=\"T_fce29_row15_col12\" class=\"data row15 col12\" >0.0000%</td>\n",
       "      <td id=\"T_fce29_row15_col13\" class=\"data row15 col13\" >0.00</td>\n",
       "      <td id=\"T_fce29_row15_col14\" class=\"data row15 col14\" >0.0000%</td>\n",
       "      <td id=\"T_fce29_row15_col15\" class=\"data row15 col15\" >1.00</td>\n",
       "      <td id=\"T_fce29_row15_col16\" class=\"data row15 col16\" >LinAct360</td>\n",
       "    </tr>\n",
       "  </tbody>\n",
       "</table>\n"
      ],
      "text/plain": [
       "<pandas.io.formats.style.Styler at 0x105fbd010>"
      ]
     },
     "execution_count": 82,
     "metadata": {},
     "output_type": "execute_result"
    }
   ],
   "source": [
    "# Se define un list donde almacenar los resultados de la función show\n",
    "tabla = []\n",
    "for i in range(0, icp_clf_leg.size()):\n",
    "    tabla.append(qcf.show(icp_clf_leg.get_cashflow_at(i)))\n",
    "\n",
    "# Se utiliza tabla para inicializar el Dataframe\n",
    "columnas = ['fecha_inicial', 'fecha__final', 'fecha__pago', 'nominal', 'amort', 'amort_es_flujo', 'flujo',\n",
    "            'moneda', 'icp_inicial', 'icp_final', 'uf_inicial', 'uf_final',\n",
    "            'valor_tasa', 'interes', 'spread', 'gearing', 'tipo_tasa']\n",
    "df8 = pd.DataFrame(tabla, columns=columnas)\n",
    "\n",
    "# Se despliega la data en este formato\n",
    "df8.style.format(format_dict)"
   ]
  },
  {
   "cell_type": "code",
   "execution_count": 83,
   "metadata": {
    "ExecuteTime": {
     "end_time": "2022-01-24T13:13:32.257544Z",
     "start_time": "2022-01-24T13:13:32.242545Z"
    },
    "execution": {
     "iopub.execute_input": "2023-10-16T14:40:44.845489Z",
     "iopub.status.busy": "2023-10-16T14:40:44.845426Z",
     "iopub.status.idle": "2023-10-16T14:40:44.847559Z",
     "shell.execute_reply": "2023-10-16T14:40:44.847337Z",
     "shell.execute_reply.started": "2023-10-16T14:40:44.845482Z"
    }
   },
   "outputs": [],
   "source": [
    "icp_hoy = 18_882.07\n",
    "uf_hoy = 28440.19\n",
    "fwd_rates.set_rates_icp_clf_leg(fecha_hoy, icp_hoy, uf_hoy, icp_clf_leg, zz1, zz1, zz3)\n",
    "cshflw = icp_clf_leg.get_cashflow_at(3)\n",
    "cshflw.set_start_date_uf(28080.26)\n",
    "cshflw.set_start_date_icp(18786.13)"
   ]
  },
  {
   "cell_type": "code",
   "execution_count": 84,
   "metadata": {
    "ExecuteTime": {
     "end_time": "2022-01-24T13:13:32.272547Z",
     "start_time": "2022-01-24T13:13:32.265544Z"
    },
    "execution": {
     "iopub.execute_input": "2023-10-16T14:40:44.847887Z",
     "iopub.status.busy": "2023-10-16T14:40:44.847827Z",
     "iopub.status.idle": "2023-10-16T14:40:44.849880Z",
     "shell.execute_reply": "2023-10-16T14:40:44.849649Z",
     "shell.execute_reply.started": "2023-10-16T14:40:44.847882Z"
    }
   },
   "outputs": [
    {
     "name": "stdout",
     "output_type": "stream",
     "text": [
      "2020-02-25\n"
     ]
    }
   ],
   "source": [
    "print(fecha_hoy)"
   ]
  },
  {
   "cell_type": "code",
   "execution_count": 85,
   "metadata": {
    "ExecuteTime": {
     "end_time": "2022-01-24T13:13:32.288545Z",
     "start_time": "2022-01-24T13:13:32.273544Z"
    },
    "execution": {
     "iopub.execute_input": "2023-10-16T14:40:44.850475Z",
     "iopub.status.busy": "2023-10-16T14:40:44.850357Z",
     "iopub.status.idle": "2023-10-16T14:40:44.856879Z",
     "shell.execute_reply": "2023-10-16T14:40:44.856644Z",
     "shell.execute_reply.started": "2023-10-16T14:40:44.850464Z"
    }
   },
   "outputs": [
    {
     "data": {
      "text/html": [
       "<style type=\"text/css\">\n",
       "</style>\n",
       "<table id=\"T_b2832\">\n",
       "  <thead>\n",
       "    <tr>\n",
       "      <th class=\"blank level0\" >&nbsp;</th>\n",
       "      <th id=\"T_b2832_level0_col0\" class=\"col_heading level0 col0\" >fecha_inicial</th>\n",
       "      <th id=\"T_b2832_level0_col1\" class=\"col_heading level0 col1\" >fecha__final</th>\n",
       "      <th id=\"T_b2832_level0_col2\" class=\"col_heading level0 col2\" >fecha__pago</th>\n",
       "      <th id=\"T_b2832_level0_col3\" class=\"col_heading level0 col3\" >nominal</th>\n",
       "      <th id=\"T_b2832_level0_col4\" class=\"col_heading level0 col4\" >amort</th>\n",
       "      <th id=\"T_b2832_level0_col5\" class=\"col_heading level0 col5\" >amort_es_flujo</th>\n",
       "      <th id=\"T_b2832_level0_col6\" class=\"col_heading level0 col6\" >flujo</th>\n",
       "      <th id=\"T_b2832_level0_col7\" class=\"col_heading level0 col7\" >moneda</th>\n",
       "      <th id=\"T_b2832_level0_col8\" class=\"col_heading level0 col8\" >icp_inicial</th>\n",
       "      <th id=\"T_b2832_level0_col9\" class=\"col_heading level0 col9\" >icp_final</th>\n",
       "      <th id=\"T_b2832_level0_col10\" class=\"col_heading level0 col10\" >uf_inicial</th>\n",
       "      <th id=\"T_b2832_level0_col11\" class=\"col_heading level0 col11\" >uf_final</th>\n",
       "      <th id=\"T_b2832_level0_col12\" class=\"col_heading level0 col12\" >valor_tasa</th>\n",
       "      <th id=\"T_b2832_level0_col13\" class=\"col_heading level0 col13\" >interes</th>\n",
       "      <th id=\"T_b2832_level0_col14\" class=\"col_heading level0 col14\" >spread</th>\n",
       "      <th id=\"T_b2832_level0_col15\" class=\"col_heading level0 col15\" >gearing</th>\n",
       "      <th id=\"T_b2832_level0_col16\" class=\"col_heading level0 col16\" >tipo_tasa</th>\n",
       "    </tr>\n",
       "  </thead>\n",
       "  <tbody>\n",
       "    <tr>\n",
       "      <th id=\"T_b2832_level0_row0\" class=\"row_heading level0 row0\" >0</th>\n",
       "      <td id=\"T_b2832_row0_col0\" class=\"data row0 col0\" >2018-05-31</td>\n",
       "      <td id=\"T_b2832_row0_col1\" class=\"data row0 col1\" >2018-11-09</td>\n",
       "      <td id=\"T_b2832_row0_col2\" class=\"data row0 col2\" >2018-11-09</td>\n",
       "      <td id=\"T_b2832_row0_col3\" class=\"data row0 col3\" >600,000.00</td>\n",
       "      <td id=\"T_b2832_row0_col4\" class=\"data row0 col4\" >0.00</td>\n",
       "      <td id=\"T_b2832_row0_col5\" class=\"data row0 col5\" >True</td>\n",
       "      <td id=\"T_b2832_row0_col6\" class=\"data row0 col6\" >0.00</td>\n",
       "      <td id=\"T_b2832_row0_col7\" class=\"data row0 col7\" >CLF</td>\n",
       "      <td id=\"T_b2832_row0_col8\" class=\"data row0 col8\" >10,000.00</td>\n",
       "      <td id=\"T_b2832_row0_col9\" class=\"data row0 col9\" >10,000.00</td>\n",
       "      <td id=\"T_b2832_row0_col10\" class=\"data row0 col10\" >35,000.00</td>\n",
       "      <td id=\"T_b2832_row0_col11\" class=\"data row0 col11\" >35,000.00</td>\n",
       "      <td id=\"T_b2832_row0_col12\" class=\"data row0 col12\" >0.0000%</td>\n",
       "      <td id=\"T_b2832_row0_col13\" class=\"data row0 col13\" >0.00</td>\n",
       "      <td id=\"T_b2832_row0_col14\" class=\"data row0 col14\" >0.0000%</td>\n",
       "      <td id=\"T_b2832_row0_col15\" class=\"data row0 col15\" >1.00</td>\n",
       "      <td id=\"T_b2832_row0_col16\" class=\"data row0 col16\" >LinAct360</td>\n",
       "    </tr>\n",
       "    <tr>\n",
       "      <th id=\"T_b2832_level0_row1\" class=\"row_heading level0 row1\" >1</th>\n",
       "      <td id=\"T_b2832_row1_col0\" class=\"data row1 col0\" >2018-11-09</td>\n",
       "      <td id=\"T_b2832_row1_col1\" class=\"data row1 col1\" >2019-05-09</td>\n",
       "      <td id=\"T_b2832_row1_col2\" class=\"data row1 col2\" >2019-05-09</td>\n",
       "      <td id=\"T_b2832_row1_col3\" class=\"data row1 col3\" >600,000.00</td>\n",
       "      <td id=\"T_b2832_row1_col4\" class=\"data row1 col4\" >0.00</td>\n",
       "      <td id=\"T_b2832_row1_col5\" class=\"data row1 col5\" >True</td>\n",
       "      <td id=\"T_b2832_row1_col6\" class=\"data row1 col6\" >0.00</td>\n",
       "      <td id=\"T_b2832_row1_col7\" class=\"data row1 col7\" >CLF</td>\n",
       "      <td id=\"T_b2832_row1_col8\" class=\"data row1 col8\" >10,000.00</td>\n",
       "      <td id=\"T_b2832_row1_col9\" class=\"data row1 col9\" >10,000.00</td>\n",
       "      <td id=\"T_b2832_row1_col10\" class=\"data row1 col10\" >35,000.00</td>\n",
       "      <td id=\"T_b2832_row1_col11\" class=\"data row1 col11\" >35,000.00</td>\n",
       "      <td id=\"T_b2832_row1_col12\" class=\"data row1 col12\" >0.0000%</td>\n",
       "      <td id=\"T_b2832_row1_col13\" class=\"data row1 col13\" >0.00</td>\n",
       "      <td id=\"T_b2832_row1_col14\" class=\"data row1 col14\" >0.0000%</td>\n",
       "      <td id=\"T_b2832_row1_col15\" class=\"data row1 col15\" >1.00</td>\n",
       "      <td id=\"T_b2832_row1_col16\" class=\"data row1 col16\" >LinAct360</td>\n",
       "    </tr>\n",
       "    <tr>\n",
       "      <th id=\"T_b2832_level0_row2\" class=\"row_heading level0 row2\" >2</th>\n",
       "      <td id=\"T_b2832_row2_col0\" class=\"data row2 col0\" >2019-05-09</td>\n",
       "      <td id=\"T_b2832_row2_col1\" class=\"data row2 col1\" >2019-11-11</td>\n",
       "      <td id=\"T_b2832_row2_col2\" class=\"data row2 col2\" >2019-11-11</td>\n",
       "      <td id=\"T_b2832_row2_col3\" class=\"data row2 col3\" >600,000.00</td>\n",
       "      <td id=\"T_b2832_row2_col4\" class=\"data row2 col4\" >0.00</td>\n",
       "      <td id=\"T_b2832_row2_col5\" class=\"data row2 col5\" >True</td>\n",
       "      <td id=\"T_b2832_row2_col6\" class=\"data row2 col6\" >0.00</td>\n",
       "      <td id=\"T_b2832_row2_col7\" class=\"data row2 col7\" >CLF</td>\n",
       "      <td id=\"T_b2832_row2_col8\" class=\"data row2 col8\" >10,000.00</td>\n",
       "      <td id=\"T_b2832_row2_col9\" class=\"data row2 col9\" >10,000.00</td>\n",
       "      <td id=\"T_b2832_row2_col10\" class=\"data row2 col10\" >35,000.00</td>\n",
       "      <td id=\"T_b2832_row2_col11\" class=\"data row2 col11\" >35,000.00</td>\n",
       "      <td id=\"T_b2832_row2_col12\" class=\"data row2 col12\" >0.0000%</td>\n",
       "      <td id=\"T_b2832_row2_col13\" class=\"data row2 col13\" >0.00</td>\n",
       "      <td id=\"T_b2832_row2_col14\" class=\"data row2 col14\" >0.0000%</td>\n",
       "      <td id=\"T_b2832_row2_col15\" class=\"data row2 col15\" >1.00</td>\n",
       "      <td id=\"T_b2832_row2_col16\" class=\"data row2 col16\" >LinAct360</td>\n",
       "    </tr>\n",
       "    <tr>\n",
       "      <th id=\"T_b2832_level0_row3\" class=\"row_heading level0 row3\" >3</th>\n",
       "      <td id=\"T_b2832_row3_col0\" class=\"data row3 col0\" >2019-11-11</td>\n",
       "      <td id=\"T_b2832_row3_col1\" class=\"data row3 col1\" >2020-05-11</td>\n",
       "      <td id=\"T_b2832_row3_col2\" class=\"data row3 col2\" >2020-05-11</td>\n",
       "      <td id=\"T_b2832_row3_col3\" class=\"data row3 col3\" >600,000.00</td>\n",
       "      <td id=\"T_b2832_row3_col4\" class=\"data row3 col4\" >0.00</td>\n",
       "      <td id=\"T_b2832_row3_col5\" class=\"data row3 col5\" >True</td>\n",
       "      <td id=\"T_b2832_row3_col6\" class=\"data row3 col6\" >-7,178.78</td>\n",
       "      <td id=\"T_b2832_row3_col7\" class=\"data row3 col7\" >CLF</td>\n",
       "      <td id=\"T_b2832_row3_col8\" class=\"data row3 col8\" >18,786.13</td>\n",
       "      <td id=\"T_b2832_row3_col9\" class=\"data row3 col9\" >18,943.62</td>\n",
       "      <td id=\"T_b2832_row3_col10\" class=\"data row3 col10\" >28,080.26</td>\n",
       "      <td id=\"T_b2832_row3_col11\" class=\"data row3 col11\" >28,658.55</td>\n",
       "      <td id=\"T_b2832_row3_col12\" class=\"data row3 col12\" >-2.3649%</td>\n",
       "      <td id=\"T_b2832_row3_col13\" class=\"data row3 col13\" >-7,173.53</td>\n",
       "      <td id=\"T_b2832_row3_col14\" class=\"data row3 col14\" >0.0000%</td>\n",
       "      <td id=\"T_b2832_row3_col15\" class=\"data row3 col15\" >1.00</td>\n",
       "      <td id=\"T_b2832_row3_col16\" class=\"data row3 col16\" >LinAct360</td>\n",
       "    </tr>\n",
       "    <tr>\n",
       "      <th id=\"T_b2832_level0_row4\" class=\"row_heading level0 row4\" >4</th>\n",
       "      <td id=\"T_b2832_row4_col0\" class=\"data row4 col0\" >2020-05-11</td>\n",
       "      <td id=\"T_b2832_row4_col1\" class=\"data row4 col1\" >2020-11-09</td>\n",
       "      <td id=\"T_b2832_row4_col2\" class=\"data row4 col2\" >2020-11-09</td>\n",
       "      <td id=\"T_b2832_row4_col3\" class=\"data row4 col3\" >600,000.00</td>\n",
       "      <td id=\"T_b2832_row4_col4\" class=\"data row4 col4\" >0.00</td>\n",
       "      <td id=\"T_b2832_row4_col5\" class=\"data row4 col5\" >True</td>\n",
       "      <td id=\"T_b2832_row4_col6\" class=\"data row4 col6\" >-5,300.72</td>\n",
       "      <td id=\"T_b2832_row4_col7\" class=\"data row4 col7\" >CLF</td>\n",
       "      <td id=\"T_b2832_row4_col8\" class=\"data row4 col8\" >18,943.62</td>\n",
       "      <td id=\"T_b2832_row4_col9\" class=\"data row4 col9\" >19,056.79</td>\n",
       "      <td id=\"T_b2832_row4_col10\" class=\"data row4 col10\" >28,658.55</td>\n",
       "      <td id=\"T_b2832_row4_col11\" class=\"data row4 col11\" >29,086.73</td>\n",
       "      <td id=\"T_b2832_row4_col12\" class=\"data row4 col12\" >-1.7492%</td>\n",
       "      <td id=\"T_b2832_row4_col13\" class=\"data row4 col13\" >-5,305.91</td>\n",
       "      <td id=\"T_b2832_row4_col14\" class=\"data row4 col14\" >0.0000%</td>\n",
       "      <td id=\"T_b2832_row4_col15\" class=\"data row4 col15\" >1.00</td>\n",
       "      <td id=\"T_b2832_row4_col16\" class=\"data row4 col16\" >LinAct360</td>\n",
       "    </tr>\n",
       "    <tr>\n",
       "      <th id=\"T_b2832_level0_row5\" class=\"row_heading level0 row5\" >5</th>\n",
       "      <td id=\"T_b2832_row5_col0\" class=\"data row5 col0\" >2020-11-09</td>\n",
       "      <td id=\"T_b2832_row5_col1\" class=\"data row5 col1\" >2021-05-10</td>\n",
       "      <td id=\"T_b2832_row5_col2\" class=\"data row5 col2\" >2021-05-10</td>\n",
       "      <td id=\"T_b2832_row5_col3\" class=\"data row5 col3\" >600,000.00</td>\n",
       "      <td id=\"T_b2832_row5_col4\" class=\"data row5 col4\" >0.00</td>\n",
       "      <td id=\"T_b2832_row5_col5\" class=\"data row5 col5\" >True</td>\n",
       "      <td id=\"T_b2832_row5_col6\" class=\"data row5 col6\" >-3,909.59</td>\n",
       "      <td id=\"T_b2832_row5_col7\" class=\"data row5 col7\" >CLF</td>\n",
       "      <td id=\"T_b2832_row5_col8\" class=\"data row5 col8\" >19,056.79</td>\n",
       "      <td id=\"T_b2832_row5_col9\" class=\"data row5 col9\" >19,182.42</td>\n",
       "      <td id=\"T_b2832_row5_col10\" class=\"data row5 col10\" >29,086.73</td>\n",
       "      <td id=\"T_b2832_row5_col11\" class=\"data row5 col11\" >29,470.52</td>\n",
       "      <td id=\"T_b2832_row5_col12\" class=\"data row5 col12\" >-1.2929%</td>\n",
       "      <td id=\"T_b2832_row5_col13\" class=\"data row5 col13\" >-3,921.80</td>\n",
       "      <td id=\"T_b2832_row5_col14\" class=\"data row5 col14\" >0.0000%</td>\n",
       "      <td id=\"T_b2832_row5_col15\" class=\"data row5 col15\" >1.00</td>\n",
       "      <td id=\"T_b2832_row5_col16\" class=\"data row5 col16\" >LinAct360</td>\n",
       "    </tr>\n",
       "    <tr>\n",
       "      <th id=\"T_b2832_level0_row6\" class=\"row_heading level0 row6\" >6</th>\n",
       "      <td id=\"T_b2832_row6_col0\" class=\"data row6 col0\" >2021-05-10</td>\n",
       "      <td id=\"T_b2832_row6_col1\" class=\"data row6 col1\" >2021-11-09</td>\n",
       "      <td id=\"T_b2832_row6_col2\" class=\"data row6 col2\" >2021-11-09</td>\n",
       "      <td id=\"T_b2832_row6_col3\" class=\"data row6 col3\" >600,000.00</td>\n",
       "      <td id=\"T_b2832_row6_col4\" class=\"data row6 col4\" >0.00</td>\n",
       "      <td id=\"T_b2832_row6_col5\" class=\"data row6 col5\" >True</td>\n",
       "      <td id=\"T_b2832_row6_col6\" class=\"data row6 col6\" >-4,842.13</td>\n",
       "      <td id=\"T_b2832_row6_col7\" class=\"data row6 col7\" >CLF</td>\n",
       "      <td id=\"T_b2832_row6_col8\" class=\"data row6 col8\" >19,182.42</td>\n",
       "      <td id=\"T_b2832_row6_col9\" class=\"data row6 col9\" >19,306.95</td>\n",
       "      <td id=\"T_b2832_row6_col10\" class=\"data row6 col10\" >29,470.52</td>\n",
       "      <td id=\"T_b2832_row6_col11\" class=\"data row6 col11\" >29,903.16</td>\n",
       "      <td id=\"T_b2832_row6_col12\" class=\"data row6 col12\" >-1.5847%</td>\n",
       "      <td id=\"T_b2832_row6_col13\" class=\"data row6 col13\" >-4,833.34</td>\n",
       "      <td id=\"T_b2832_row6_col14\" class=\"data row6 col14\" >0.0000%</td>\n",
       "      <td id=\"T_b2832_row6_col15\" class=\"data row6 col15\" >1.00</td>\n",
       "      <td id=\"T_b2832_row6_col16\" class=\"data row6 col16\" >LinAct360</td>\n",
       "    </tr>\n",
       "    <tr>\n",
       "      <th id=\"T_b2832_level0_row7\" class=\"row_heading level0 row7\" >7</th>\n",
       "      <td id=\"T_b2832_row7_col0\" class=\"data row7 col0\" >2021-11-09</td>\n",
       "      <td id=\"T_b2832_row7_col1\" class=\"data row7 col1\" >2022-05-09</td>\n",
       "      <td id=\"T_b2832_row7_col2\" class=\"data row7 col2\" >2022-05-09</td>\n",
       "      <td id=\"T_b2832_row7_col3\" class=\"data row7 col3\" >600,000.00</td>\n",
       "      <td id=\"T_b2832_row7_col4\" class=\"data row7 col4\" >0.00</td>\n",
       "      <td id=\"T_b2832_row7_col5\" class=\"data row7 col5\" >True</td>\n",
       "      <td id=\"T_b2832_row7_col6\" class=\"data row7 col6\" >-5,431.38</td>\n",
       "      <td id=\"T_b2832_row7_col7\" class=\"data row7 col7\" >CLF</td>\n",
       "      <td id=\"T_b2832_row7_col8\" class=\"data row7 col8\" >19,306.95</td>\n",
       "      <td id=\"T_b2832_row7_col9\" class=\"data row7 col9\" >19,440.27</td>\n",
       "      <td id=\"T_b2832_row7_col10\" class=\"data row7 col10\" >29,903.16</td>\n",
       "      <td id=\"T_b2832_row7_col11\" class=\"data row7 col11\" >30,384.70</td>\n",
       "      <td id=\"T_b2832_row7_col12\" class=\"data row7 col12\" >-1.8038%</td>\n",
       "      <td id=\"T_b2832_row7_col13\" class=\"data row7 col13\" >-5,441.46</td>\n",
       "      <td id=\"T_b2832_row7_col14\" class=\"data row7 col14\" >0.0000%</td>\n",
       "      <td id=\"T_b2832_row7_col15\" class=\"data row7 col15\" >1.00</td>\n",
       "      <td id=\"T_b2832_row7_col16\" class=\"data row7 col16\" >LinAct360</td>\n",
       "    </tr>\n",
       "    <tr>\n",
       "      <th id=\"T_b2832_level0_row8\" class=\"row_heading level0 row8\" >8</th>\n",
       "      <td id=\"T_b2832_row8_col0\" class=\"data row8 col0\" >2022-05-09</td>\n",
       "      <td id=\"T_b2832_row8_col1\" class=\"data row8 col1\" >2022-11-09</td>\n",
       "      <td id=\"T_b2832_row8_col2\" class=\"data row8 col2\" >2022-11-09</td>\n",
       "      <td id=\"T_b2832_row8_col3\" class=\"data row8 col3\" >600,000.00</td>\n",
       "      <td id=\"T_b2832_row8_col4\" class=\"data row8 col4\" >0.00</td>\n",
       "      <td id=\"T_b2832_row8_col5\" class=\"data row8 col5\" >True</td>\n",
       "      <td id=\"T_b2832_row8_col6\" class=\"data row8 col6\" >-3,700.83</td>\n",
       "      <td id=\"T_b2832_row8_col7\" class=\"data row8 col7\" >CLF</td>\n",
       "      <td id=\"T_b2832_row8_col8\" class=\"data row8 col8\" >19,440.27</td>\n",
       "      <td id=\"T_b2832_row8_col9\" class=\"data row8 col9\" >19,606.92</td>\n",
       "      <td id=\"T_b2832_row8_col10\" class=\"data row8 col10\" >30,384.70</td>\n",
       "      <td id=\"T_b2832_row8_col11\" class=\"data row8 col11\" >30,835.35</td>\n",
       "      <td id=\"T_b2832_row8_col12\" class=\"data row8 col12\" >-1.2040%</td>\n",
       "      <td id=\"T_b2832_row8_col13\" class=\"data row8 col13\" >-3,692.27</td>\n",
       "      <td id=\"T_b2832_row8_col14\" class=\"data row8 col14\" >0.0000%</td>\n",
       "      <td id=\"T_b2832_row8_col15\" class=\"data row8 col15\" >1.00</td>\n",
       "      <td id=\"T_b2832_row8_col16\" class=\"data row8 col16\" >LinAct360</td>\n",
       "    </tr>\n",
       "    <tr>\n",
       "      <th id=\"T_b2832_level0_row9\" class=\"row_heading level0 row9\" >9</th>\n",
       "      <td id=\"T_b2832_row9_col0\" class=\"data row9 col0\" >2022-11-09</td>\n",
       "      <td id=\"T_b2832_row9_col1\" class=\"data row9 col1\" >2023-05-09</td>\n",
       "      <td id=\"T_b2832_row9_col2\" class=\"data row9 col2\" >2023-05-09</td>\n",
       "      <td id=\"T_b2832_row9_col3\" class=\"data row9 col3\" >600,000.00</td>\n",
       "      <td id=\"T_b2832_row9_col4\" class=\"data row9 col4\" >0.00</td>\n",
       "      <td id=\"T_b2832_row9_col5\" class=\"data row9 col5\" >True</td>\n",
       "      <td id=\"T_b2832_row9_col6\" class=\"data row9 col6\" >-2,958.63</td>\n",
       "      <td id=\"T_b2832_row9_col7\" class=\"data row9 col7\" >CLF</td>\n",
       "      <td id=\"T_b2832_row9_col8\" class=\"data row9 col8\" >19,606.92</td>\n",
       "      <td id=\"T_b2832_row9_col9\" class=\"data row9 col9\" >19,794.39</td>\n",
       "      <td id=\"T_b2832_row9_col10\" class=\"data row9 col10\" >30,835.35</td>\n",
       "      <td id=\"T_b2832_row9_col11\" class=\"data row9 col11\" >31,284.45</td>\n",
       "      <td id=\"T_b2832_row9_col12\" class=\"data row9 col12\" >-0.9825%</td>\n",
       "      <td id=\"T_b2832_row9_col13\" class=\"data row9 col13\" >-2,963.88</td>\n",
       "      <td id=\"T_b2832_row9_col14\" class=\"data row9 col14\" >0.0000%</td>\n",
       "      <td id=\"T_b2832_row9_col15\" class=\"data row9 col15\" >1.00</td>\n",
       "      <td id=\"T_b2832_row9_col16\" class=\"data row9 col16\" >LinAct360</td>\n",
       "    </tr>\n",
       "    <tr>\n",
       "      <th id=\"T_b2832_level0_row10\" class=\"row_heading level0 row10\" >10</th>\n",
       "      <td id=\"T_b2832_row10_col0\" class=\"data row10 col0\" >2023-05-09</td>\n",
       "      <td id=\"T_b2832_row10_col1\" class=\"data row10 col1\" >2023-11-09</td>\n",
       "      <td id=\"T_b2832_row10_col2\" class=\"data row10 col2\" >2023-11-09</td>\n",
       "      <td id=\"T_b2832_row10_col3\" class=\"data row10 col3\" >600,000.00</td>\n",
       "      <td id=\"T_b2832_row10_col4\" class=\"data row10 col4\" >0.00</td>\n",
       "      <td id=\"T_b2832_row10_col5\" class=\"data row10 col5\" >True</td>\n",
       "      <td id=\"T_b2832_row10_col6\" class=\"data row10 col6\" >-2,109.44</td>\n",
       "      <td id=\"T_b2832_row10_col7\" class=\"data row10 col7\" >CLF</td>\n",
       "      <td id=\"T_b2832_row10_col8\" class=\"data row10 col8\" >19,794.39</td>\n",
       "      <td id=\"T_b2832_row10_col9\" class=\"data row10 col9\" >20,019.87</td>\n",
       "      <td id=\"T_b2832_row10_col10\" class=\"data row10 col10\" >31,284.45</td>\n",
       "      <td id=\"T_b2832_row10_col11\" class=\"data row10 col11\" >31,752.45</td>\n",
       "      <td id=\"T_b2832_row10_col12\" class=\"data row10 col12\" >-0.6866%</td>\n",
       "      <td id=\"T_b2832_row10_col13\" class=\"data row10 col13\" >-2,105.57</td>\n",
       "      <td id=\"T_b2832_row10_col14\" class=\"data row10 col14\" >0.0000%</td>\n",
       "      <td id=\"T_b2832_row10_col15\" class=\"data row10 col15\" >1.00</td>\n",
       "      <td id=\"T_b2832_row10_col16\" class=\"data row10 col16\" >LinAct360</td>\n",
       "    </tr>\n",
       "    <tr>\n",
       "      <th id=\"T_b2832_level0_row11\" class=\"row_heading level0 row11\" >11</th>\n",
       "      <td id=\"T_b2832_row11_col0\" class=\"data row11 col0\" >2023-11-09</td>\n",
       "      <td id=\"T_b2832_row11_col1\" class=\"data row11 col1\" >2024-05-09</td>\n",
       "      <td id=\"T_b2832_row11_col2\" class=\"data row11 col2\" >2024-05-09</td>\n",
       "      <td id=\"T_b2832_row11_col3\" class=\"data row11 col3\" >600,000.00</td>\n",
       "      <td id=\"T_b2832_row11_col4\" class=\"data row11 col4\" >0.00</td>\n",
       "      <td id=\"T_b2832_row11_col5\" class=\"data row11 col5\" >True</td>\n",
       "      <td id=\"T_b2832_row11_col6\" class=\"data row11 col6\" >-1,201.71</td>\n",
       "      <td id=\"T_b2832_row11_col7\" class=\"data row11 col7\" >CLF</td>\n",
       "      <td id=\"T_b2832_row11_col8\" class=\"data row11 col8\" >20,019.87</td>\n",
       "      <td id=\"T_b2832_row11_col9\" class=\"data row11 col9\" >20,277.70</td>\n",
       "      <td id=\"T_b2832_row11_col10\" class=\"data row11 col10\" >31,752.45</td>\n",
       "      <td id=\"T_b2832_row11_col11\" class=\"data row11 col11\" >32,225.93</td>\n",
       "      <td id=\"T_b2832_row11_col12\" class=\"data row11 col12\" >-0.3937%</td>\n",
       "      <td id=\"T_b2832_row11_col13\" class=\"data row11 col13\" >-1,194.22</td>\n",
       "      <td id=\"T_b2832_row11_col14\" class=\"data row11 col14\" >0.0000%</td>\n",
       "      <td id=\"T_b2832_row11_col15\" class=\"data row11 col15\" >1.00</td>\n",
       "      <td id=\"T_b2832_row11_col16\" class=\"data row11 col16\" >LinAct360</td>\n",
       "    </tr>\n",
       "    <tr>\n",
       "      <th id=\"T_b2832_level0_row12\" class=\"row_heading level0 row12\" >12</th>\n",
       "      <td id=\"T_b2832_row12_col0\" class=\"data row12 col0\" >2024-05-09</td>\n",
       "      <td id=\"T_b2832_row12_col1\" class=\"data row12 col1\" >2024-11-11</td>\n",
       "      <td id=\"T_b2832_row12_col2\" class=\"data row12 col2\" >2024-11-11</td>\n",
       "      <td id=\"T_b2832_row12_col3\" class=\"data row12 col3\" >600,000.00</td>\n",
       "      <td id=\"T_b2832_row12_col4\" class=\"data row12 col4\" >0.00</td>\n",
       "      <td id=\"T_b2832_row12_col5\" class=\"data row12 col5\" >True</td>\n",
       "      <td id=\"T_b2832_row12_col6\" class=\"data row12 col6\" >-92.82</td>\n",
       "      <td id=\"T_b2832_row12_col7\" class=\"data row12 col7\" >CLF</td>\n",
       "      <td id=\"T_b2832_row12_col8\" class=\"data row12 col8\" >20,277.70</td>\n",
       "      <td id=\"T_b2832_row12_col9\" class=\"data row12 col9\" >20,590.52</td>\n",
       "      <td id=\"T_b2832_row12_col10\" class=\"data row12 col10\" >32,225.93</td>\n",
       "      <td id=\"T_b2832_row12_col11\" class=\"data row12 col11\" >32,728.13</td>\n",
       "      <td id=\"T_b2832_row12_col12\" class=\"data row12 col12\" >-0.0258%</td>\n",
       "      <td id=\"T_b2832_row12_col13\" class=\"data row12 col13\" >-79.98</td>\n",
       "      <td id=\"T_b2832_row12_col14\" class=\"data row12 col14\" >0.0000%</td>\n",
       "      <td id=\"T_b2832_row12_col15\" class=\"data row12 col15\" >1.00</td>\n",
       "      <td id=\"T_b2832_row12_col16\" class=\"data row12 col16\" >LinAct360</td>\n",
       "    </tr>\n",
       "    <tr>\n",
       "      <th id=\"T_b2832_level0_row13\" class=\"row_heading level0 row13\" >13</th>\n",
       "      <td id=\"T_b2832_row13_col0\" class=\"data row13 col0\" >2024-11-11</td>\n",
       "      <td id=\"T_b2832_row13_col1\" class=\"data row13 col1\" >2025-05-09</td>\n",
       "      <td id=\"T_b2832_row13_col2\" class=\"data row13 col2\" >2025-05-09</td>\n",
       "      <td id=\"T_b2832_row13_col3\" class=\"data row13 col3\" >600,000.00</td>\n",
       "      <td id=\"T_b2832_row13_col4\" class=\"data row13 col4\" >0.00</td>\n",
       "      <td id=\"T_b2832_row13_col5\" class=\"data row13 col5\" >True</td>\n",
       "      <td id=\"T_b2832_row13_col6\" class=\"data row13 col6\" >488.22</td>\n",
       "      <td id=\"T_b2832_row13_col7\" class=\"data row13 col7\" >CLF</td>\n",
       "      <td id=\"T_b2832_row13_col8\" class=\"data row13 col8\" >20,590.52</td>\n",
       "      <td id=\"T_b2832_row13_col9\" class=\"data row13 col9\" >20,916.74</td>\n",
       "      <td id=\"T_b2832_row13_col10\" class=\"data row13 col10\" >32,728.13</td>\n",
       "      <td id=\"T_b2832_row13_col11\" class=\"data row13 col11\" >33,219.63</td>\n",
       "      <td id=\"T_b2832_row13_col12\" class=\"data row13 col12\" >0.1672%</td>\n",
       "      <td id=\"T_b2832_row13_col13\" class=\"data row13 col13\" >498.81</td>\n",
       "      <td id=\"T_b2832_row13_col14\" class=\"data row13 col14\" >0.0000%</td>\n",
       "      <td id=\"T_b2832_row13_col15\" class=\"data row13 col15\" >1.00</td>\n",
       "      <td id=\"T_b2832_row13_col16\" class=\"data row13 col16\" >LinAct360</td>\n",
       "    </tr>\n",
       "    <tr>\n",
       "      <th id=\"T_b2832_level0_row14\" class=\"row_heading level0 row14\" >14</th>\n",
       "      <td id=\"T_b2832_row14_col0\" class=\"data row14 col0\" >2025-05-09</td>\n",
       "      <td id=\"T_b2832_row14_col1\" class=\"data row14 col1\" >2025-11-10</td>\n",
       "      <td id=\"T_b2832_row14_col2\" class=\"data row14 col2\" >2025-11-10</td>\n",
       "      <td id=\"T_b2832_row14_col3\" class=\"data row14 col3\" >600,000.00</td>\n",
       "      <td id=\"T_b2832_row14_col4\" class=\"data row14 col4\" >0.00</td>\n",
       "      <td id=\"T_b2832_row14_col5\" class=\"data row14 col5\" >True</td>\n",
       "      <td id=\"T_b2832_row14_col6\" class=\"data row14 col6\" >892.29</td>\n",
       "      <td id=\"T_b2832_row14_col7\" class=\"data row14 col7\" >CLF</td>\n",
       "      <td id=\"T_b2832_row14_col8\" class=\"data row14 col8\" >20,916.74</td>\n",
       "      <td id=\"T_b2832_row14_col9\" class=\"data row14 col9\" >21,275.98</td>\n",
       "      <td id=\"T_b2832_row14_col10\" class=\"data row14 col10\" >33,219.63</td>\n",
       "      <td id=\"T_b2832_row14_col11\" class=\"data row14 col11\" >33,739.98</td>\n",
       "      <td id=\"T_b2832_row14_col12\" class=\"data row14 col12\" >0.2874%</td>\n",
       "      <td id=\"T_b2832_row14_col13\" class=\"data row14 col13\" >886.15</td>\n",
       "      <td id=\"T_b2832_row14_col14\" class=\"data row14 col14\" >0.0000%</td>\n",
       "      <td id=\"T_b2832_row14_col15\" class=\"data row14 col15\" >1.00</td>\n",
       "      <td id=\"T_b2832_row14_col16\" class=\"data row14 col16\" >LinAct360</td>\n",
       "    </tr>\n",
       "    <tr>\n",
       "      <th id=\"T_b2832_level0_row15\" class=\"row_heading level0 row15\" >15</th>\n",
       "      <td id=\"T_b2832_row15_col0\" class=\"data row15 col0\" >2025-11-10</td>\n",
       "      <td id=\"T_b2832_row15_col1\" class=\"data row15 col1\" >2026-05-11</td>\n",
       "      <td id=\"T_b2832_row15_col2\" class=\"data row15 col2\" >2026-05-11</td>\n",
       "      <td id=\"T_b2832_row15_col3\" class=\"data row15 col3\" >600,000.00</td>\n",
       "      <td id=\"T_b2832_row15_col4\" class=\"data row15 col4\" >600,000.00</td>\n",
       "      <td id=\"T_b2832_row15_col5\" class=\"data row15 col5\" >True</td>\n",
       "      <td id=\"T_b2832_row15_col6\" class=\"data row15 col6\" >601,540.00</td>\n",
       "      <td id=\"T_b2832_row15_col7\" class=\"data row15 col7\" >CLF</td>\n",
       "      <td id=\"T_b2832_row15_col8\" class=\"data row15 col8\" >21,275.98</td>\n",
       "      <td id=\"T_b2832_row15_col9\" class=\"data row15 col9\" >21,660.54</td>\n",
       "      <td id=\"T_b2832_row15_col10\" class=\"data row15 col10\" >33,739.98</td>\n",
       "      <td id=\"T_b2832_row15_col11\" class=\"data row15 col11\" >34,261.88</td>\n",
       "      <td id=\"T_b2832_row15_col12\" class=\"data row15 col12\" >0.5124%</td>\n",
       "      <td id=\"T_b2832_row15_col13\" class=\"data row15 col13\" >1,554.28</td>\n",
       "      <td id=\"T_b2832_row15_col14\" class=\"data row15 col14\" >0.0000%</td>\n",
       "      <td id=\"T_b2832_row15_col15\" class=\"data row15 col15\" >1.00</td>\n",
       "      <td id=\"T_b2832_row15_col16\" class=\"data row15 col16\" >LinAct360</td>\n",
       "    </tr>\n",
       "  </tbody>\n",
       "</table>\n"
      ],
      "text/plain": [
       "<pandas.io.formats.style.Styler at 0x11e78cad0>"
      ]
     },
     "execution_count": 85,
     "metadata": {},
     "output_type": "execute_result"
    }
   ],
   "source": [
    "# Se define un list donde almacenar los resultados de la función show\n",
    "tabla = []\n",
    "for i in range(0, icp_clf_leg.size()):\n",
    "    tabla.append(qcf.show(icp_clf_leg.get_cashflow_at(i)))\n",
    "\n",
    "# Se utiliza tabla para inicializar el Dataframe\n",
    "columnas = ['fecha_inicial', 'fecha__final', 'fecha__pago', 'nominal', 'amort', 'amort_es_flujo', 'flujo',\n",
    "            'moneda', 'icp_inicial', 'icp_final', 'uf_inicial', 'uf_final',\n",
    "            'valor_tasa', 'interes', 'spread', 'gearing', 'tipo_tasa']\n",
    "df8 = pd.DataFrame(tabla, columns=columnas)\n",
    "\n",
    "# Se despliega la data en este formato\n",
    "df8.style.format(format_dict)"
   ]
  },
  {
   "cell_type": "code",
   "execution_count": 86,
   "metadata": {
    "ExecuteTime": {
     "end_time": "2022-01-24T13:13:32.304548Z",
     "start_time": "2022-01-24T13:13:32.289545Z"
    },
    "execution": {
     "iopub.execute_input": "2023-10-16T14:40:44.857388Z",
     "iopub.status.busy": "2023-10-16T14:40:44.857295Z",
     "iopub.status.idle": "2023-10-16T14:40:44.859271Z",
     "shell.execute_reply": "2023-10-16T14:40:44.858952Z",
     "shell.execute_reply.started": "2023-10-16T14:40:44.857382Z"
    }
   },
   "outputs": [
    {
     "name": "stdout",
     "output_type": "stream",
     "text": [
      "Valor presente en UF: 595,431.99\n",
      "Valor presente en CLP: 16,934,198,846\n"
     ]
    }
   ],
   "source": [
    "vp_icp_clf = pv.pv(fecha_hoy, icp_clf_leg, zz3)\n",
    "print(\"Valor presente en UF: {0:,.2f}\".format(vp_icp_clf))\n",
    "print(\"Valor presente en CLP: {0:,.0f}\".format(vp_icp_clf * uf_hoy))"
   ]
  },
  {
   "cell_type": "code",
   "execution_count": 87,
   "metadata": {
    "ExecuteTime": {
     "end_time": "2022-01-24T13:13:32.320543Z",
     "start_time": "2022-01-24T13:13:32.305544Z"
    },
    "execution": {
     "iopub.execute_input": "2023-10-16T14:40:44.859660Z",
     "iopub.status.busy": "2023-10-16T14:40:44.859569Z",
     "iopub.status.idle": "2023-10-16T14:40:44.861337Z",
     "shell.execute_reply": "2023-10-16T14:40:44.861136Z",
     "shell.execute_reply.started": "2023-10-16T14:40:44.859653Z"
    }
   },
   "outputs": [
    {
     "name": "stdout",
     "output_type": "stream",
     "text": [
      "Dif %: -0.0223%\n"
     ]
    }
   ],
   "source": [
    "print(\"Dif %: {0:.4%}\".format(12_940.56/12_943.45-1))"
   ]
  },
  {
   "cell_type": "code",
   "execution_count": 88,
   "metadata": {
    "ExecuteTime": {
     "end_time": "2022-01-24T13:13:32.336545Z",
     "start_time": "2022-01-24T13:13:32.321544Z"
    },
    "cell_style": "center",
    "execution": {
     "iopub.execute_input": "2023-10-16T14:40:44.861747Z",
     "iopub.status.busy": "2023-10-16T14:40:44.861688Z",
     "iopub.status.idle": "2023-10-16T14:40:44.864006Z",
     "shell.execute_reply": "2023-10-16T14:40:44.863783Z",
     "shell.execute_reply.started": "2023-10-16T14:40:44.861742Z"
    },
    "scrolled": true
   },
   "outputs": [
    {
     "name": "stdout",
     "output_type": "stream",
     "text": [
      "Sensibilidad en 0: 0.00\n",
      "Sensibilidad en 1: 0.00\n",
      "Sensibilidad en 2: 0.00\n",
      "Sensibilidad en 3: 0.10\n",
      "Sensibilidad en 4: 0.06\n",
      "Sensibilidad en 5: 0.00\n",
      "Sensibilidad en 6: 0.00\n",
      "Sensibilidad en 7: 0.00\n",
      "Sensibilidad en 8: 0.00\n",
      "Sensibilidad en 9: 0.27\n",
      "Sensibilidad en 10: 0.12\n",
      "Sensibilidad en 11: 0.00\n",
      "Sensibilidad en 12: 0.00\n",
      "Sensibilidad en 13: 0.00\n",
      "Sensibilidad en 14: 0.00\n",
      "Sensibilidad en 15: 0.32\n",
      "Sensibilidad en 16: 0.18\n",
      "Sensibilidad en 17: 0.00\n",
      "Sensibilidad en 18: 0.00\n",
      "Sensibilidad en 19: 0.00\n",
      "Sensibilidad en 20: 0.65\n",
      "Sensibilidad en 21: 1.63\n",
      "Sensibilidad en 22: 2.15\n",
      "Sensibilidad en 23: 1.29\n",
      "Sensibilidad en 24: -0.26\n",
      "Sensibilidad en 25: -335.81\n",
      "Sensibilidad en 26: -82.41\n",
      "Sensibilidad en 27: 0.00\n",
      "Sensibilidad en 28: 0.00\n",
      "Sensibilidad en 29: 0.00\n",
      "Sensibilidad en 30: 0.00\n",
      "Sensibilidad en 31: 0.00\n",
      "Sensibilidad en 32: 0.00\n",
      "Sensibilidad de descuento: -411.73 CLF\n"
     ]
    }
   ],
   "source": [
    "der = pv.get_derivatives()\n",
    "i = 0\n",
    "bp = .0001\n",
    "for d in der:\n",
    "    print(\"Sensibilidad en {0:}: {1:0,.2f}\".format(i, d * bp))\n",
    "    i += 1\n",
    "print(\"Sensibilidad de descuento: {0:,.2f} CLF\".format(sum(der) * bp))"
   ]
  },
  {
   "cell_type": "code",
   "execution_count": 89,
   "metadata": {
    "ExecuteTime": {
     "end_time": "2022-01-24T13:13:32.351544Z",
     "start_time": "2022-01-24T13:13:32.337544Z"
    },
    "cell_style": "center",
    "execution": {
     "iopub.execute_input": "2023-10-16T14:40:44.864546Z",
     "iopub.status.busy": "2023-10-16T14:40:44.864456Z",
     "iopub.status.idle": "2023-10-16T14:40:44.868067Z",
     "shell.execute_reply": "2023-10-16T14:40:44.867797Z",
     "shell.execute_reply.started": "2023-10-16T14:40:44.864537Z"
    }
   },
   "outputs": [
    {
     "name": "stdout",
     "output_type": "stream",
     "text": [
      "Sensibilidad en 0: 0.00\n",
      "Sensibilidad en 1: 0.00\n",
      "Sensibilidad en 2: 0.00\n",
      "Sensibilidad en 3: -0.10\n",
      "Sensibilidad en 4: -0.06\n",
      "Sensibilidad en 5: 0.00\n",
      "Sensibilidad en 6: 0.00\n",
      "Sensibilidad en 7: 0.00\n",
      "Sensibilidad en 8: 0.00\n",
      "Sensibilidad en 9: -0.27\n",
      "Sensibilidad en 10: -0.12\n",
      "Sensibilidad en 11: 0.00\n",
      "Sensibilidad en 12: 0.00\n",
      "Sensibilidad en 13: 0.00\n",
      "Sensibilidad en 14: 0.00\n",
      "Sensibilidad en 15: -0.32\n",
      "Sensibilidad en 16: -0.18\n",
      "Sensibilidad en 17: 0.00\n",
      "Sensibilidad en 18: 0.00\n",
      "Sensibilidad en 19: 0.00\n",
      "Sensibilidad en 20: -0.65\n",
      "Sensibilidad en 21: -1.63\n",
      "Sensibilidad en 22: -2.15\n",
      "Sensibilidad en 23: -1.29\n",
      "Sensibilidad en 24: 0.26\n",
      "Sensibilidad en 25: 335.81\n",
      "Sensibilidad en 26: 82.41\n",
      "Sensibilidad en 27: 0.00\n",
      "Sensibilidad en 28: 0.00\n",
      "Sensibilidad en 29: 0.00\n",
      "Sensibilidad en 30: 0.00\n",
      "Sensibilidad en 31: 0.00\n",
      "Sensibilidad en 32: 0.00\n"
     ]
    }
   ],
   "source": [
    "bp = .0001\n",
    "result = []\n",
    "\n",
    "for i in range(icp_clf_leg.size()):\n",
    "    cshflw = icp_clf_leg.get_cashflow_at(i)\n",
    "    df = zz3.get_discount_factor_at(fecha_hoy.day_diff(cshflw.date()))\n",
    "    amt_der = cshflw.get_amount_ufclf_derivatives()\n",
    "    if len(amt_der) > 0:\n",
    "        amt_der = [a * bp * df for a in amt_der]\n",
    "        result.append(np.array(amt_der))\n",
    "\n",
    "total = result[0] * 0\n",
    "for r in result:\n",
    "    total += r\n",
    "\n",
    "for i in range(len(total)):\n",
    "    print(\"Sensibilidad en {0:}: {1:0,.2f}\".format(i, total[i]))"
   ]
  },
  {
   "cell_type": "markdown",
   "metadata": {},
   "source": [
    "### CompoundedOvernightRate Leg"
   ]
  },
  {
   "cell_type": "code",
   "execution_count": 124,
   "metadata": {
    "ExecuteTime": {
     "end_time": "2022-01-24T13:13:32.367543Z",
     "start_time": "2022-01-24T13:13:32.352544Z"
    },
    "execution": {
     "iopub.execute_input": "2023-10-16T14:53:51.904294Z",
     "iopub.status.busy": "2023-10-16T14:53:51.903768Z",
     "iopub.status.idle": "2023-10-16T14:53:51.916846Z",
     "shell.execute_reply": "2023-10-16T14:53:51.916144Z",
     "shell.execute_reply.started": "2023-10-16T14:53:51.904257Z"
    }
   },
   "outputs": [],
   "source": [
    "# Se da de alta los parámetros requeridos\n",
    "rp = qcf.RecPay.PAY\n",
    "fecha_inicio = qcf.QCDate(17, 7, 2023)\n",
    "fecha_final = qcf.QCDate(17, 7, 2027)\n",
    "bus_adj_rule = qcf.BusyAdjRules.MODFOLLOW\n",
    "periodicidad_pago = qcf.Tenor('12M')\n",
    "periodo_irregular_pago = qcf.StubPeriod.NO\n",
    "calendario = qcf.BusinessCalendar(fecha_inicio, 20)\n",
    "lag_pago = 2\n",
    "\n",
    "######################################################################\n",
    "# Definición del índice\n",
    "\n",
    "codigo = 'OISTEST'\n",
    "lin_act360 = qcf.QCInterestRate(.0, qcf.QCAct360(), qcf.QCLinearWf())\n",
    "fixing_lag = qcf.Tenor('0d')\n",
    "tenor = qcf.Tenor('1d')\n",
    "fixing_calendar = calendario\n",
    "settlement_calendar = calendario\n",
    "usd = qcf.QCUSD()\n",
    "oistest = qcf.InterestRateIndex(\n",
    "    codigo,\n",
    "    lin_act360,\n",
    "    fixing_lag,\n",
    "    tenor,\n",
    "    fixing_calendar,\n",
    "    settlement_calendar,\n",
    "    usd)\n",
    "\n",
    "# Fin índice\n",
    "######################################################################\n",
    "\n",
    "nominal = 5_500_000.0\n",
    "amort_es_flujo = True\n",
    "moneda = usd\n",
    "spread = .0\n",
    "gearing = 1.0\n",
    "\n",
    "cor_leg = qcf.LegFactory.build_bullet_compounded_overnight_rate_leg(\n",
    "    rp,\n",
    "    fecha_inicio,\n",
    "    fecha_final,\n",
    "    bus_adj_rule,\n",
    "    periodicidad_pago,\n",
    "    periodo_irregular_pago,\n",
    "    calendario,\n",
    "    lag_pago,\n",
    "    calendario,\n",
    "    oistest,\n",
    "    nominal,\n",
    "    amort_es_flujo,\n",
    "    usd,\n",
    "    spread,\n",
    "    gearing,\n",
    "    True,\n",
    "    10,\n",
    "    0,\n",
    "    0\n",
    ")"
   ]
  },
  {
   "cell_type": "code",
   "execution_count": 125,
   "metadata": {
    "ExecuteTime": {
     "end_time": "2022-01-24T13:13:32.382542Z",
     "start_time": "2022-01-24T13:13:32.368545Z"
    },
    "execution": {
     "iopub.execute_input": "2023-10-16T14:53:52.604704Z",
     "iopub.status.busy": "2023-10-16T14:53:52.603710Z",
     "iopub.status.idle": "2023-10-16T14:53:52.612162Z",
     "shell.execute_reply": "2023-10-16T14:53:52.610982Z",
     "shell.execute_reply.started": "2023-10-16T14:53:52.604657Z"
    }
   },
   "outputs": [],
   "source": [
    "ts = qcf.time_series()\n",
    "ts[qcf.QCDate(17, 7, 2023)] = .01\n",
    "ts[qcf.QCDate(18, 7, 2023)] = .02\n",
    "ts[qcf.QCDate(19, 7, 2023)] = .03\n",
    "ts[qcf.QCDate(20, 7, 2023)] = .04\n",
    "ts[qcf.QCDate(21, 7, 2023)] = .04"
   ]
  },
  {
   "cell_type": "markdown",
   "metadata": {},
   "source": [
    "#### Valor Presente"
   ]
  },
  {
   "cell_type": "code",
   "execution_count": 114,
   "metadata": {
    "ExecuteTime": {
     "end_time": "2022-01-24T13:13:32.398542Z",
     "start_time": "2022-01-24T13:13:32.383544Z"
    },
    "execution": {
     "iopub.execute_input": "2023-10-16T14:47:04.061379Z",
     "iopub.status.busy": "2023-10-16T14:47:04.060676Z",
     "iopub.status.idle": "2023-10-16T14:47:04.068458Z",
     "shell.execute_reply": "2023-10-16T14:47:04.067138Z",
     "shell.execute_reply.started": "2023-10-16T14:47:04.061327Z"
    }
   },
   "outputs": [],
   "source": [
    "fwd_rates.set_rates_compounded_overnight_leg(\n",
    "    fecha_inicio,\n",
    "    cor_leg,\n",
    "    zz1,\n",
    "    ts\n",
    ")"
   ]
  },
  {
   "cell_type": "code",
   "execution_count": 115,
   "metadata": {
    "ExecuteTime": {
     "end_time": "2022-01-24T13:13:32.414543Z",
     "start_time": "2022-01-24T13:13:32.399544Z"
    },
    "execution": {
     "iopub.execute_input": "2023-10-16T14:47:04.822880Z",
     "iopub.status.busy": "2023-10-16T14:47:04.822213Z",
     "iopub.status.idle": "2023-10-16T14:47:04.842406Z",
     "shell.execute_reply": "2023-10-16T14:47:04.841455Z",
     "shell.execute_reply.started": "2023-10-16T14:47:04.822839Z"
    }
   },
   "outputs": [
    {
     "data": {
      "text/html": [
       "<style type=\"text/css\">\n",
       "</style>\n",
       "<table id=\"T_43940\">\n",
       "  <thead>\n",
       "    <tr>\n",
       "      <th class=\"blank level0\" >&nbsp;</th>\n",
       "      <th id=\"T_43940_level0_col0\" class=\"col_heading level0 col0\" >fecha_inicial</th>\n",
       "      <th id=\"T_43940_level0_col1\" class=\"col_heading level0 col1\" >fecha__final</th>\n",
       "      <th id=\"T_43940_level0_col2\" class=\"col_heading level0 col2\" >fecha__pago</th>\n",
       "      <th id=\"T_43940_level0_col3\" class=\"col_heading level0 col3\" >nominal</th>\n",
       "      <th id=\"T_43940_level0_col4\" class=\"col_heading level0 col4\" >amort</th>\n",
       "      <th id=\"T_43940_level0_col5\" class=\"col_heading level0 col5\" >interes</th>\n",
       "      <th id=\"T_43940_level0_col6\" class=\"col_heading level0 col6\" >amort_es_flujo</th>\n",
       "      <th id=\"T_43940_level0_col7\" class=\"col_heading level0 col7\" >flujo</th>\n",
       "      <th id=\"T_43940_level0_col8\" class=\"col_heading level0 col8\" >moneda</th>\n",
       "      <th id=\"T_43940_level0_col9\" class=\"col_heading level0 col9\" >indice</th>\n",
       "      <th id=\"T_43940_level0_col10\" class=\"col_heading level0 col10\" >valor_tasa</th>\n",
       "      <th id=\"T_43940_level0_col11\" class=\"col_heading level0 col11\" >spread</th>\n",
       "      <th id=\"T_43940_level0_col12\" class=\"col_heading level0 col12\" >gearing</th>\n",
       "      <th id=\"T_43940_level0_col13\" class=\"col_heading level0 col13\" >tipo_tasa</th>\n",
       "    </tr>\n",
       "  </thead>\n",
       "  <tbody>\n",
       "    <tr>\n",
       "      <th id=\"T_43940_level0_row0\" class=\"row_heading level0 row0\" >0</th>\n",
       "      <td id=\"T_43940_row0_col0\" class=\"data row0 col0\" >2023-07-17</td>\n",
       "      <td id=\"T_43940_row0_col1\" class=\"data row0 col1\" >2024-07-17</td>\n",
       "      <td id=\"T_43940_row0_col2\" class=\"data row0 col2\" >2024-07-19</td>\n",
       "      <td id=\"T_43940_row0_col3\" class=\"data row0 col3\" >-5,500,000.00</td>\n",
       "      <td id=\"T_43940_row0_col4\" class=\"data row0 col4\" >0.00</td>\n",
       "      <td id=\"T_43940_row0_col5\" class=\"data row0 col5\" >-0.00</td>\n",
       "      <td id=\"T_43940_row0_col6\" class=\"data row0 col6\" >True</td>\n",
       "      <td id=\"T_43940_row0_col7\" class=\"data row0 col7\" >-72,677.25</td>\n",
       "      <td id=\"T_43940_row0_col8\" class=\"data row0 col8\" >USD</td>\n",
       "      <td id=\"T_43940_row0_col9\" class=\"data row0 col9\" >OISTEST</td>\n",
       "      <td id=\"T_43940_row0_col10\" class=\"data row0 col10\" >1.2997%</td>\n",
       "      <td id=\"T_43940_row0_col11\" class=\"data row0 col11\" >0.0000%</td>\n",
       "      <td id=\"T_43940_row0_col12\" class=\"data row0 col12\" >1.00</td>\n",
       "      <td id=\"T_43940_row0_col13\" class=\"data row0 col13\" >LinAct360</td>\n",
       "    </tr>\n",
       "    <tr>\n",
       "      <th id=\"T_43940_level0_row1\" class=\"row_heading level0 row1\" >1</th>\n",
       "      <td id=\"T_43940_row1_col0\" class=\"data row1 col0\" >2024-07-17</td>\n",
       "      <td id=\"T_43940_row1_col1\" class=\"data row1 col1\" >2025-07-17</td>\n",
       "      <td id=\"T_43940_row1_col2\" class=\"data row1 col2\" >2025-07-21</td>\n",
       "      <td id=\"T_43940_row1_col3\" class=\"data row1 col3\" >-5,500,000.00</td>\n",
       "      <td id=\"T_43940_row1_col4\" class=\"data row1 col4\" >0.00</td>\n",
       "      <td id=\"T_43940_row1_col5\" class=\"data row1 col5\" >-0.00</td>\n",
       "      <td id=\"T_43940_row1_col6\" class=\"data row1 col6\" >True</td>\n",
       "      <td id=\"T_43940_row1_col7\" class=\"data row1 col7\" >-71,041.19</td>\n",
       "      <td id=\"T_43940_row1_col8\" class=\"data row1 col8\" >USD</td>\n",
       "      <td id=\"T_43940_row1_col9\" class=\"data row1 col9\" >OISTEST</td>\n",
       "      <td id=\"T_43940_row1_col10\" class=\"data row1 col10\" >1.2740%</td>\n",
       "      <td id=\"T_43940_row1_col11\" class=\"data row1 col11\" >0.0000%</td>\n",
       "      <td id=\"T_43940_row1_col12\" class=\"data row1 col12\" >1.00</td>\n",
       "      <td id=\"T_43940_row1_col13\" class=\"data row1 col13\" >LinAct360</td>\n",
       "    </tr>\n",
       "    <tr>\n",
       "      <th id=\"T_43940_level0_row2\" class=\"row_heading level0 row2\" >2</th>\n",
       "      <td id=\"T_43940_row2_col0\" class=\"data row2 col0\" >2025-07-17</td>\n",
       "      <td id=\"T_43940_row2_col1\" class=\"data row2 col1\" >2026-07-17</td>\n",
       "      <td id=\"T_43940_row2_col2\" class=\"data row2 col2\" >2026-07-21</td>\n",
       "      <td id=\"T_43940_row2_col3\" class=\"data row2 col3\" >-5,500,000.00</td>\n",
       "      <td id=\"T_43940_row2_col4\" class=\"data row2 col4\" >0.00</td>\n",
       "      <td id=\"T_43940_row2_col5\" class=\"data row2 col5\" >-0.00</td>\n",
       "      <td id=\"T_43940_row2_col6\" class=\"data row2 col6\" >True</td>\n",
       "      <td id=\"T_43940_row2_col7\" class=\"data row2 col7\" >-94,449.59</td>\n",
       "      <td id=\"T_43940_row2_col8\" class=\"data row2 col8\" >USD</td>\n",
       "      <td id=\"T_43940_row2_col9\" class=\"data row2 col9\" >OISTEST</td>\n",
       "      <td id=\"T_43940_row2_col10\" class=\"data row2 col10\" >1.6937%</td>\n",
       "      <td id=\"T_43940_row2_col11\" class=\"data row2 col11\" >0.0000%</td>\n",
       "      <td id=\"T_43940_row2_col12\" class=\"data row2 col12\" >1.00</td>\n",
       "      <td id=\"T_43940_row2_col13\" class=\"data row2 col13\" >LinAct360</td>\n",
       "    </tr>\n",
       "    <tr>\n",
       "      <th id=\"T_43940_level0_row3\" class=\"row_heading level0 row3\" >3</th>\n",
       "      <td id=\"T_43940_row3_col0\" class=\"data row3 col0\" >2026-07-17</td>\n",
       "      <td id=\"T_43940_row3_col1\" class=\"data row3 col1\" >2027-07-19</td>\n",
       "      <td id=\"T_43940_row3_col2\" class=\"data row3 col2\" >2027-07-21</td>\n",
       "      <td id=\"T_43940_row3_col3\" class=\"data row3 col3\" >-5,500,000.00</td>\n",
       "      <td id=\"T_43940_row3_col4\" class=\"data row3 col4\" >-5,500,000.00</td>\n",
       "      <td id=\"T_43940_row3_col5\" class=\"data row3 col5\" >-0.00</td>\n",
       "      <td id=\"T_43940_row3_col6\" class=\"data row3 col6\" >True</td>\n",
       "      <td id=\"T_43940_row3_col7\" class=\"data row3 col7\" >-5,626,628.96</td>\n",
       "      <td id=\"T_43940_row3_col8\" class=\"data row3 col8\" >USD</td>\n",
       "      <td id=\"T_43940_row3_col9\" class=\"data row3 col9\" >OISTEST</td>\n",
       "      <td id=\"T_43940_row3_col10\" class=\"data row3 col10\" >2.2584%</td>\n",
       "      <td id=\"T_43940_row3_col11\" class=\"data row3 col11\" >0.0000%</td>\n",
       "      <td id=\"T_43940_row3_col12\" class=\"data row3 col12\" >1.00</td>\n",
       "      <td id=\"T_43940_row3_col13\" class=\"data row3 col13\" >LinAct360</td>\n",
       "    </tr>\n",
       "  </tbody>\n",
       "</table>\n"
      ],
      "text/plain": [
       "<pandas.io.formats.style.Styler at 0x10fd72bd0>"
      ]
     },
     "execution_count": 115,
     "metadata": {},
     "output_type": "execute_result"
    }
   ],
   "source": [
    "# Se define un list donde almacenar los resultados de la función show\n",
    "tabla = []\n",
    "for i in range(0, cor_leg.size()):\n",
    "    tabla.append(qcf.show(cor_leg.get_cashflow_at(i)))\n",
    "\n",
    "# Se utiliza tabla para inicializar el Dataframe\n",
    "columnas = ['fecha_inicial', 'fecha__final', 'fecha__pago', 'nominal', 'amort', 'interes', 'amort_es_flujo', 'flujo',\n",
    "            'moneda', 'indice', 'valor_tasa', 'spread', 'gearing', 'tipo_tasa']\n",
    "df9 = pd.DataFrame(tabla, columns=columnas)\n",
    "\n",
    "# Se despliega la data en este formato\n",
    "df9.style.format(format_dict)"
   ]
  },
  {
   "cell_type": "code",
   "execution_count": 94,
   "metadata": {
    "ExecuteTime": {
     "end_time": "2022-01-24T13:13:32.430544Z",
     "start_time": "2022-01-24T13:13:32.415542Z"
    },
    "execution": {
     "iopub.execute_input": "2023-10-16T14:40:44.882154Z",
     "iopub.status.busy": "2023-10-16T14:40:44.881949Z",
     "iopub.status.idle": "2023-10-16T14:40:44.883758Z",
     "shell.execute_reply": "2023-10-16T14:40:44.883537Z",
     "shell.execute_reply.started": "2023-10-16T14:40:44.882147Z"
    }
   },
   "outputs": [
    {
     "name": "stdout",
     "output_type": "stream",
     "text": [
      "1,010,055\n"
     ]
    }
   ],
   "source": [
    "print(f'{pv.pv(fecha_inicio, cor_leg, zz1):,.0f}')"
   ]
  },
  {
   "cell_type": "code",
   "execution_count": 95,
   "metadata": {
    "ExecuteTime": {
     "end_time": "2022-01-24T13:13:32.446543Z",
     "start_time": "2022-01-24T13:13:32.431543Z"
    },
    "execution": {
     "iopub.execute_input": "2023-10-16T14:40:44.884192Z",
     "iopub.status.busy": "2023-10-16T14:40:44.884116Z",
     "iopub.status.idle": "2023-10-16T14:40:44.886285Z",
     "shell.execute_reply": "2023-10-16T14:40:44.886063Z",
     "shell.execute_reply.started": "2023-10-16T14:40:44.884186Z"
    }
   },
   "outputs": [
    {
     "name": "stdout",
     "output_type": "stream",
     "text": [
      "6,322.09, 0.0\n",
      "5,379.73, 0.0\n",
      "5,618.72, 0.0\n",
      "1,005,930.44, 1000000.0\n",
      "1,010,055\n"
     ]
    }
   ],
   "source": [
    "pres_value = 0.0\n",
    "for i in range(0, cor_leg.size()):\n",
    "    cshflw = cor_leg.get_cashflow_at(i)\n",
    "    print(f'{cshflw.amount():,.2f}, {cshflw.get_amortization()}')\n",
    "    temp = pv.pv(fecha_inicio, cshflw, zz1)\n",
    "    # print(f'{temp:,.0f}')\n",
    "    pres_value += temp\n",
    "print(f'{pres_value:,.0f}')"
   ]
  },
  {
   "cell_type": "markdown",
   "metadata": {},
   "source": [
    "#### Sensibilidad"
   ]
  },
  {
   "cell_type": "code",
   "execution_count": 96,
   "metadata": {
    "ExecuteTime": {
     "end_time": "2022-01-24T13:55:59.170062Z",
     "start_time": "2022-01-24T13:55:59.153327Z"
    },
    "execution": {
     "iopub.execute_input": "2023-10-16T14:40:44.886873Z",
     "iopub.status.busy": "2023-10-16T14:40:44.886719Z",
     "iopub.status.idle": "2023-10-16T14:40:44.888455Z",
     "shell.execute_reply": "2023-10-16T14:40:44.888234Z",
     "shell.execute_reply.started": "2023-10-16T14:40:44.886864Z"
    }
   },
   "outputs": [],
   "source": [
    "pips = .0001 # 1 punto básico"
   ]
  },
  {
   "cell_type": "markdown",
   "metadata": {},
   "source": [
    "##### Curva de Proyección"
   ]
  },
  {
   "cell_type": "markdown",
   "metadata": {},
   "source": [
    "Estas derivadas se deben obtener inmediatamente después de calcular el valor presente."
   ]
  },
  {
   "cell_type": "code",
   "execution_count": 97,
   "metadata": {
    "ExecuteTime": {
     "end_time": "2022-01-24T13:57:30.393915Z",
     "start_time": "2022-01-24T13:57:30.375950Z"
    },
    "execution": {
     "iopub.execute_input": "2023-10-16T14:40:44.888820Z",
     "iopub.status.busy": "2023-10-16T14:40:44.888750Z",
     "iopub.status.idle": "2023-10-16T14:40:44.891132Z",
     "shell.execute_reply": "2023-10-16T14:40:44.890907Z",
     "shell.execute_reply.started": "2023-10-16T14:40:44.888814Z"
    }
   },
   "outputs": [],
   "source": [
    "proj_sens_by_cashflow = np.array([np.array(\n",
    "    np.array(cor_leg.get_cashflow_at(i).get_amount_derivatives()) *\n",
    "    zz1.get_discount_factor_at(fecha_inicio.day_diff(cor_leg.get_cashflow_at(i).get_settlement_date())) * pips)\n",
    "                             for i in range(cor_leg.size())])\n",
    "proj_sens = np.sum(proj_sens_by_cashflow, axis=0)"
   ]
  },
  {
   "cell_type": "markdown",
   "metadata": {},
   "source": [
    "##### Curva de Descuento"
   ]
  },
  {
   "cell_type": "code",
   "execution_count": 98,
   "metadata": {
    "ExecuteTime": {
     "end_time": "2022-01-24T14:01:15.710430Z",
     "start_time": "2022-01-24T14:01:15.705461Z"
    },
    "execution": {
     "iopub.execute_input": "2023-10-16T14:40:44.891468Z",
     "iopub.status.busy": "2023-10-16T14:40:44.891408Z",
     "iopub.status.idle": "2023-10-16T14:40:44.893205Z",
     "shell.execute_reply": "2023-10-16T14:40:44.892931Z",
     "shell.execute_reply.started": "2023-10-16T14:40:44.891463Z"
    }
   },
   "outputs": [],
   "source": [
    "disc_der = np.array(pv.get_derivatives()) * pips"
   ]
  }
 ],
 "metadata": {
  "hide_input": false,
  "kernelspec": {
   "display_name": "Python 3 (ipykernel)",
   "language": "python",
   "name": "python3"
  },
  "language_info": {
   "codemirror_mode": {
    "name": "ipython",
    "version": 3
   },
   "file_extension": ".py",
   "mimetype": "text/x-python",
   "name": "python",
   "nbconvert_exporter": "python",
   "pygments_lexer": "ipython3",
   "version": "3.11.4"
  },
  "toc": {
   "base_numbering": 1,
   "nav_menu": {},
   "number_sections": true,
   "sideBar": true,
   "skip_h1_title": true,
   "title_cell": "Table of Contents",
   "title_sidebar": "Contenidos",
   "toc_cell": false,
   "toc_position": {
    "height": "calc(100% - 180px)",
    "left": "10px",
    "top": "150px",
    "width": "311px"
   },
   "toc_section_display": true,
   "toc_window_display": true
  },
  "varInspector": {
   "cols": {
    "lenName": 16,
    "lenType": 16,
    "lenVar": 40
   },
   "kernels_config": {
    "python": {
     "delete_cmd_postfix": "",
     "delete_cmd_prefix": "del ",
     "library": "var_list.py",
     "varRefreshCmd": "print(var_dic_list())"
    },
    "r": {
     "delete_cmd_postfix": ") ",
     "delete_cmd_prefix": "rm(",
     "library": "var_list.r",
     "varRefreshCmd": "cat(var_dic_list()) "
    }
   },
   "types_to_exclude": [
    "module",
    "function",
    "builtin_function_or_method",
    "instance",
    "_Feature"
   ],
   "window_display": false
  }
 },
 "nbformat": 4,
 "nbformat_minor": 4
}
