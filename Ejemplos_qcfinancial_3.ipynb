{
 "cells": [
  {
   "cell_type": "markdown",
   "metadata": {},
   "source": [
    "# Valorización y Sensibilidad"
   ]
  },
  {
   "cell_type": "markdown",
   "metadata": {},
   "source": [
    "## Configuración"
   ]
  },
  {
   "cell_type": "markdown",
   "metadata": {},
   "source": [
    "Para ejecutar todos los ejemplos se debe importar la librería. Se sugiere utilizar siempre el alias `qcf`. "
   ]
  },
  {
   "cell_type": "code",
   "execution_count": 1,
   "metadata": {
    "execution": {
     "iopub.execute_input": "2023-10-16T14:40:43.624547Z",
     "iopub.status.busy": "2023-10-16T14:40:43.624273Z",
     "iopub.status.idle": "2023-10-16T14:40:43.643929Z",
     "shell.execute_reply": "2023-10-16T14:40:43.643169Z",
     "shell.execute_reply.started": "2023-10-16T14:40:43.624526Z"
    },
    "ExecuteTime": {
     "end_time": "2023-12-19T16:07:13.963018Z",
     "start_time": "2023-12-19T16:07:13.955278Z"
    }
   },
   "outputs": [],
   "source": [
    "import qcfinancial as qcf"
   ]
  },
  {
   "cell_type": "code",
   "execution_count": 2,
   "outputs": [
    {
     "data": {
      "text/plain": "'42'"
     },
     "execution_count": 2,
     "metadata": {},
     "output_type": "execute_result"
    }
   ],
   "source": [
    "qcf.id()"
   ],
   "metadata": {
    "collapsed": false,
    "ExecuteTime": {
     "end_time": "2023-12-19T16:07:16.638062Z",
     "start_time": "2023-12-19T16:07:16.604836Z"
    }
   }
  },
  {
   "cell_type": "markdown",
   "metadata": {},
   "source": [
    "Librerías adicionales."
   ]
  },
  {
   "cell_type": "code",
   "execution_count": 3,
   "metadata": {
    "execution": {
     "iopub.execute_input": "2023-10-16T14:40:43.645900Z",
     "iopub.status.busy": "2023-10-16T14:40:43.645396Z",
     "iopub.status.idle": "2023-10-16T14:40:44.354225Z",
     "shell.execute_reply": "2023-10-16T14:40:44.353929Z",
     "shell.execute_reply.started": "2023-10-16T14:40:43.645877Z"
    },
    "ExecuteTime": {
     "end_time": "2023-12-19T16:07:20.335887Z",
     "start_time": "2023-12-19T16:07:18.385430Z"
    }
   },
   "outputs": [],
   "source": [
    "import pandas as pd"
   ]
  },
  {
   "cell_type": "markdown",
   "metadata": {},
   "source": [
    "Para formateo de `pandas.DataFrames`."
   ]
  },
  {
   "cell_type": "code",
   "execution_count": 4,
   "metadata": {
    "execution": {
     "iopub.execute_input": "2023-10-16T14:40:44.354826Z",
     "iopub.status.busy": "2023-10-16T14:40:44.354704Z",
     "iopub.status.idle": "2023-10-16T14:40:44.357814Z",
     "shell.execute_reply": "2023-10-16T14:40:44.357476Z",
     "shell.execute_reply.started": "2023-10-16T14:40:44.354818Z"
    },
    "ExecuteTime": {
     "end_time": "2023-12-19T16:07:23.208030Z",
     "start_time": "2023-12-19T16:07:23.186614Z"
    }
   },
   "outputs": [],
   "source": [
    "format_dict = {\n",
    "    'nominal': '{0:,.2f}',\n",
    "    'amort': '{0:,.2f}',\n",
    "    'interes': '{0:,.2f}',\n",
    "    'flujo': '{0:,.2f}',\n",
    "    'amortizacion': '{0:,.2f}',\n",
    "    'icp_inicial': '{0:,.2f}',\n",
    "    'icp_final': '{0:,.2f}',\n",
    "    'uf_inicial': '{0:,.2f}',\n",
    "    'uf_final': '{0:,.2f}',\n",
    "    'valor_tasa': '{0:,.4%}',\n",
    "    'spread': '{0:,.4%}',\n",
    "    'gearing': '{0:,.2f}',\n",
    "    'amort_moneda_pago': '{0:,.2f}',\n",
    "    'interes_moneda_pago': '{0:,.2f}',\n",
    "    'valor_indice_fx': '{0:,.2f}'\n",
    "}"
   ]
  },
  {
   "cell_type": "markdown",
   "metadata": {},
   "source": [
    "## Construcción de la Curva"
   ]
  },
  {
   "cell_type": "markdown",
   "metadata": {},
   "source": [
    "La construcción de una curva se hace en varios pasos."
   ]
  },
  {
   "cell_type": "markdown",
   "metadata": {},
   "source": [
    "### Vectores de `Float` e `Int`"
   ]
  },
  {
   "cell_type": "code",
   "execution_count": 6,
   "metadata": {
    "execution": {
     "iopub.execute_input": "2023-10-16T14:40:44.359065Z",
     "iopub.status.busy": "2023-10-16T14:40:44.358964Z",
     "iopub.status.idle": "2023-10-16T14:40:44.361631Z",
     "shell.execute_reply": "2023-10-16T14:40:44.361394Z",
     "shell.execute_reply.started": "2023-10-16T14:40:44.359058Z"
    },
    "ExecuteTime": {
     "end_time": "2023-12-19T16:07:38.902987Z",
     "start_time": "2023-12-19T16:07:38.881086Z"
    }
   },
   "outputs": [],
   "source": [
    "# Este es un vector de números enteros (grandes, de ahí la l (long))\n",
    "lvec = qcf.long_vec()"
   ]
  },
  {
   "cell_type": "code",
   "execution_count": 7,
   "metadata": {
    "execution": {
     "iopub.execute_input": "2023-10-16T14:40:44.362188Z",
     "iopub.status.busy": "2023-10-16T14:40:44.362054Z",
     "iopub.status.idle": "2023-10-16T14:40:44.365702Z",
     "shell.execute_reply": "2023-10-16T14:40:44.365404Z",
     "shell.execute_reply.started": "2023-10-16T14:40:44.362180Z"
    },
    "ExecuteTime": {
     "end_time": "2023-12-19T16:07:39.741311Z",
     "start_time": "2023-12-19T16:07:39.719856Z"
    }
   },
   "outputs": [],
   "source": [
    "# Agregar un elemento\n",
    "lvec.append(1000)"
   ]
  },
  {
   "cell_type": "code",
   "execution_count": 8,
   "metadata": {
    "execution": {
     "iopub.execute_input": "2023-10-16T14:40:44.366109Z",
     "iopub.status.busy": "2023-10-16T14:40:44.366038Z",
     "iopub.status.idle": "2023-10-16T14:40:44.368218Z",
     "shell.execute_reply": "2023-10-16T14:40:44.367835Z",
     "shell.execute_reply.started": "2023-10-16T14:40:44.366102Z"
    },
    "ExecuteTime": {
     "end_time": "2023-12-19T16:07:40.620299Z",
     "start_time": "2023-12-19T16:07:40.586796Z"
    }
   },
   "outputs": [],
   "source": [
    "# Este es un vector de números double.\n",
    "vec = qcf.double_vec()"
   ]
  },
  {
   "cell_type": "code",
   "execution_count": 9,
   "metadata": {
    "execution": {
     "iopub.execute_input": "2023-10-16T14:40:44.368620Z",
     "iopub.status.busy": "2023-10-16T14:40:44.368518Z",
     "iopub.status.idle": "2023-10-16T14:40:44.370789Z",
     "shell.execute_reply": "2023-10-16T14:40:44.370553Z",
     "shell.execute_reply.started": "2023-10-16T14:40:44.368609Z"
    },
    "ExecuteTime": {
     "end_time": "2023-12-19T16:07:41.189811Z",
     "start_time": "2023-12-19T16:07:41.174641Z"
    }
   },
   "outputs": [],
   "source": [
    "# Agregar un elemento\n",
    "vec.append(.025)"
   ]
  },
  {
   "cell_type": "code",
   "execution_count": 10,
   "metadata": {
    "execution": {
     "iopub.execute_input": "2023-10-16T14:40:44.371344Z",
     "iopub.status.busy": "2023-10-16T14:40:44.371145Z",
     "iopub.status.idle": "2023-10-16T14:40:44.373302Z",
     "shell.execute_reply": "2023-10-16T14:40:44.372981Z",
     "shell.execute_reply.started": "2023-10-16T14:40:44.371332Z"
    },
    "ExecuteTime": {
     "end_time": "2023-12-19T16:07:41.691521Z",
     "start_time": "2023-12-19T16:07:41.650013Z"
    }
   },
   "outputs": [
    {
     "name": "stdout",
     "output_type": "stream",
     "text": [
      "Tasa: 2.50%\n"
     ]
    }
   ],
   "source": [
    "# Obtener ese elemento\n",
    "print(\"Tasa: {0:,.2%}\".format(vec[0]))"
   ]
  },
  {
   "cell_type": "markdown",
   "metadata": {},
   "source": [
    "### Objeto Curva"
   ]
  },
  {
   "cell_type": "markdown",
   "metadata": {},
   "source": [
    "Es simplemente un `long_vec` que representa las abscisas de la curva y un `double_vec` que representa las ordenadas. Ambos vectores deben tener el mismo largo. "
   ]
  },
  {
   "cell_type": "code",
   "execution_count": 11,
   "metadata": {
    "execution": {
     "iopub.execute_input": "2023-10-16T14:40:44.373686Z",
     "iopub.status.busy": "2023-10-16T14:40:44.373619Z",
     "iopub.status.idle": "2023-10-16T14:40:44.375528Z",
     "shell.execute_reply": "2023-10-16T14:40:44.375309Z",
     "shell.execute_reply.started": "2023-10-16T14:40:44.373680Z"
    },
    "ExecuteTime": {
     "end_time": "2023-12-19T16:07:43.903491Z",
     "start_time": "2023-12-19T16:07:43.844697Z"
    }
   },
   "outputs": [],
   "source": [
    "zcc = qcf.QCCurve(lvec, vec)"
   ]
  },
  {
   "cell_type": "markdown",
   "metadata": {},
   "source": [
    "Un elemento de una curva se representa como un par abscisa, ordenada."
   ]
  },
  {
   "cell_type": "code",
   "execution_count": 12,
   "metadata": {
    "execution": {
     "iopub.execute_input": "2023-10-16T14:40:44.377383Z",
     "iopub.status.busy": "2023-10-16T14:40:44.377307Z",
     "iopub.status.idle": "2023-10-16T14:40:44.380329Z",
     "shell.execute_reply": "2023-10-16T14:40:44.380066Z",
     "shell.execute_reply.started": "2023-10-16T14:40:44.377377Z"
    },
    "ExecuteTime": {
     "end_time": "2023-12-19T16:07:44.836420Z",
     "start_time": "2023-12-19T16:07:44.796024Z"
    }
   },
   "outputs": [
    {
     "data": {
      "text/plain": "(1000, 0.025)"
     },
     "execution_count": 12,
     "metadata": {},
     "output_type": "execute_result"
    }
   ],
   "source": [
    "zcc.get_values_at(0)"
   ]
  },
  {
   "cell_type": "markdown",
   "metadata": {},
   "source": [
    "Se obtiene el plazo en una posición de la curva."
   ]
  },
  {
   "cell_type": "code",
   "execution_count": 13,
   "metadata": {
    "execution": {
     "iopub.execute_input": "2023-10-16T14:40:44.380879Z",
     "iopub.status.busy": "2023-10-16T14:40:44.380685Z",
     "iopub.status.idle": "2023-10-16T14:40:44.383031Z",
     "shell.execute_reply": "2023-10-16T14:40:44.382766Z",
     "shell.execute_reply.started": "2023-10-16T14:40:44.380872Z"
    },
    "ExecuteTime": {
     "end_time": "2023-12-19T16:07:46.453257Z",
     "start_time": "2023-12-19T16:07:46.409855Z"
    }
   },
   "outputs": [
    {
     "name": "stdout",
     "output_type": "stream",
     "text": [
      "(1000, 0.025)\n"
     ]
    }
   ],
   "source": [
    "print(zcc.get_values_at(0))"
   ]
  },
  {
   "cell_type": "markdown",
   "metadata": {},
   "source": [
    "Se obtiene la tasa en una posición de la curva."
   ]
  },
  {
   "cell_type": "code",
   "execution_count": 14,
   "metadata": {
    "execution": {
     "iopub.execute_input": "2023-10-16T14:40:44.383452Z",
     "iopub.status.busy": "2023-10-16T14:40:44.383381Z",
     "iopub.status.idle": "2023-10-16T14:40:44.386859Z",
     "shell.execute_reply": "2023-10-16T14:40:44.386623Z",
     "shell.execute_reply.started": "2023-10-16T14:40:44.383444Z"
    },
    "ExecuteTime": {
     "end_time": "2023-12-19T16:07:47.247205Z",
     "start_time": "2023-12-19T16:07:47.205409Z"
    }
   },
   "outputs": [
    {
     "data": {
      "text/plain": "0.025"
     },
     "execution_count": 14,
     "metadata": {},
     "output_type": "execute_result"
    }
   ],
   "source": [
    "zcc.get_values_at(0)[1]"
   ]
  },
  {
   "cell_type": "markdown",
   "metadata": {},
   "source": [
    "Se agrega un par (plazo, valor) a la curva."
   ]
  },
  {
   "cell_type": "code",
   "execution_count": 15,
   "metadata": {
    "execution": {
     "iopub.execute_input": "2023-10-16T14:40:44.387395Z",
     "iopub.status.busy": "2023-10-16T14:40:44.387301Z",
     "iopub.status.idle": "2023-10-16T14:40:44.389451Z",
     "shell.execute_reply": "2023-10-16T14:40:44.389240Z",
     "shell.execute_reply.started": "2023-10-16T14:40:44.387389Z"
    },
    "ExecuteTime": {
     "end_time": "2023-12-19T16:07:48.252361Z",
     "start_time": "2023-12-19T16:07:48.212421Z"
    }
   },
   "outputs": [],
   "source": [
    "zcc.set_pair(100, .026)"
   ]
  },
  {
   "cell_type": "markdown",
   "metadata": {},
   "source": [
    "Se verifica."
   ]
  },
  {
   "cell_type": "code",
   "execution_count": 16,
   "metadata": {
    "execution": {
     "iopub.execute_input": "2023-10-16T14:40:44.389714Z",
     "iopub.status.busy": "2023-10-16T14:40:44.389664Z",
     "iopub.status.idle": "2023-10-16T14:40:44.392040Z",
     "shell.execute_reply": "2023-10-16T14:40:44.391812Z",
     "shell.execute_reply.started": "2023-10-16T14:40:44.389709Z"
    },
    "ExecuteTime": {
     "end_time": "2023-12-19T16:07:49.343628Z",
     "start_time": "2023-12-19T16:07:49.301831Z"
    }
   },
   "outputs": [
    {
     "data": {
      "text/plain": "1000"
     },
     "execution_count": 16,
     "metadata": {},
     "output_type": "execute_result"
    }
   ],
   "source": [
    "# Plazo\n",
    "zcc.get_values_at(1)[0]"
   ]
  },
  {
   "cell_type": "code",
   "execution_count": 17,
   "metadata": {
    "execution": {
     "iopub.execute_input": "2023-10-16T14:40:44.392494Z",
     "iopub.status.busy": "2023-10-16T14:40:44.392387Z",
     "iopub.status.idle": "2023-10-16T14:40:44.395578Z",
     "shell.execute_reply": "2023-10-16T14:40:44.395303Z",
     "shell.execute_reply.started": "2023-10-16T14:40:44.392486Z"
    },
    "ExecuteTime": {
     "end_time": "2023-12-19T16:07:49.885494Z",
     "start_time": "2023-12-19T16:07:49.843490Z"
    }
   },
   "outputs": [
    {
     "data": {
      "text/plain": "0.025"
     },
     "execution_count": 17,
     "metadata": {},
     "output_type": "execute_result"
    }
   ],
   "source": [
    "# Valor\n",
    "zcc.get_values_at(1)[1]"
   ]
  },
  {
   "cell_type": "markdown",
   "metadata": {},
   "source": [
    "Se agrega un par más."
   ]
  },
  {
   "cell_type": "code",
   "execution_count": 18,
   "metadata": {
    "execution": {
     "iopub.execute_input": "2023-10-16T14:40:44.395983Z",
     "iopub.status.busy": "2023-10-16T14:40:44.395920Z",
     "iopub.status.idle": "2023-10-16T14:40:44.397921Z",
     "shell.execute_reply": "2023-10-16T14:40:44.397698Z",
     "shell.execute_reply.started": "2023-10-16T14:40:44.395977Z"
    },
    "ExecuteTime": {
     "end_time": "2023-12-19T16:07:50.740604Z",
     "start_time": "2023-12-19T16:07:50.695956Z"
    }
   },
   "outputs": [],
   "source": [
    "zcc.set_pair(370, .03)"
   ]
  },
  {
   "cell_type": "markdown",
   "metadata": {},
   "source": [
    "Se itera sobre la curva mostrando sus valores"
   ]
  },
  {
   "cell_type": "code",
   "execution_count": 19,
   "metadata": {
    "execution": {
     "iopub.execute_input": "2023-10-16T14:40:44.398342Z",
     "iopub.status.busy": "2023-10-16T14:40:44.398281Z",
     "iopub.status.idle": "2023-10-16T14:40:44.400868Z",
     "shell.execute_reply": "2023-10-16T14:40:44.400432Z",
     "shell.execute_reply.started": "2023-10-16T14:40:44.398336Z"
    },
    "ExecuteTime": {
     "end_time": "2023-12-19T16:07:51.912945Z",
     "start_time": "2023-12-19T16:07:51.874023Z"
    }
   },
   "outputs": [
    {
     "name": "stdout",
     "output_type": "stream",
     "text": [
      "Tenor: 100 Valor: 2.6000%\n",
      "Tenor: 370 Valor: 3.0000%\n",
      "Tenor: 1000 Valor: 2.5000%\n"
     ]
    }
   ],
   "source": [
    "for i in range(0, zcc.get_length()):\n",
    "    pair = zcc.get_values_at(i)\n",
    "    print(\"Tenor: {0:} Valor: {1:.4%}\".format(pair[0], pair[1]))"
   ]
  },
  {
   "cell_type": "markdown",
   "metadata": {},
   "source": [
    "Se define un interpolador. En este caso, un interpolador lineal."
   ]
  },
  {
   "cell_type": "code",
   "execution_count": 20,
   "metadata": {
    "execution": {
     "iopub.execute_input": "2023-10-16T14:40:44.401297Z",
     "iopub.status.busy": "2023-10-16T14:40:44.401230Z",
     "iopub.status.idle": "2023-10-16T14:40:44.403803Z",
     "shell.execute_reply": "2023-10-16T14:40:44.403486Z",
     "shell.execute_reply.started": "2023-10-16T14:40:44.401291Z"
    },
    "ExecuteTime": {
     "end_time": "2023-12-19T16:07:53.034303Z",
     "start_time": "2023-12-19T16:07:52.985581Z"
    }
   },
   "outputs": [],
   "source": [
    "lin = qcf.QCLinearInterpolator(zcc)"
   ]
  },
  {
   "cell_type": "markdown",
   "metadata": {},
   "source": [
    "Se hace una prueba."
   ]
  },
  {
   "cell_type": "code",
   "execution_count": 21,
   "metadata": {
    "execution": {
     "iopub.execute_input": "2023-10-16T14:40:44.404126Z",
     "iopub.status.busy": "2023-10-16T14:40:44.404054Z",
     "iopub.status.idle": "2023-10-16T14:40:44.406428Z",
     "shell.execute_reply": "2023-10-16T14:40:44.406208Z",
     "shell.execute_reply.started": "2023-10-16T14:40:44.404120Z"
    },
    "ExecuteTime": {
     "end_time": "2023-12-19T16:07:54.354396Z",
     "start_time": "2023-12-19T16:07:54.307514Z"
    }
   },
   "outputs": [
    {
     "name": "stdout",
     "output_type": "stream",
     "text": [
      "Tasa a 120 días es igual a 2.6296%\n"
     ]
    }
   ],
   "source": [
    "plazo = 120\n",
    "print(f\"Tasa a {plazo:.0f} días es igual a {lin.interpolate_at(plazo):.4%}\")"
   ]
  },
  {
   "cell_type": "markdown",
   "metadata": {},
   "source": [
    "Para completar el proceso se define una fracción de año, un factor de capitalización y un tipo de tasa. Con estos objetos se termina de dar de alta una curva cero."
   ]
  },
  {
   "cell_type": "code",
   "execution_count": 22,
   "metadata": {
    "execution": {
     "iopub.execute_input": "2023-10-16T14:40:44.406920Z",
     "iopub.status.busy": "2023-10-16T14:40:44.406797Z",
     "iopub.status.idle": "2023-10-16T14:40:44.408757Z",
     "shell.execute_reply": "2023-10-16T14:40:44.408492Z",
     "shell.execute_reply.started": "2023-10-16T14:40:44.406906Z"
    },
    "ExecuteTime": {
     "end_time": "2023-12-19T16:07:55.302253Z",
     "start_time": "2023-12-19T16:07:55.259464Z"
    }
   },
   "outputs": [],
   "source": [
    "yf = qcf.QCAct360()\n",
    "wf = qcf.QCLinearWf()\n",
    "tasa = qcf.QCInterestRate(.01, yf, wf)"
   ]
  },
  {
   "cell_type": "code",
   "execution_count": 23,
   "metadata": {
    "execution": {
     "iopub.execute_input": "2023-10-16T14:40:44.409221Z",
     "iopub.status.busy": "2023-10-16T14:40:44.409126Z",
     "iopub.status.idle": "2023-10-16T14:40:44.411164Z",
     "shell.execute_reply": "2023-10-16T14:40:44.410828Z",
     "shell.execute_reply.started": "2023-10-16T14:40:44.409214Z"
    },
    "ExecuteTime": {
     "end_time": "2023-12-19T16:07:55.838713Z",
     "start_time": "2023-12-19T16:07:55.795036Z"
    }
   },
   "outputs": [],
   "source": [
    "zz = qcf.ZeroCouponCurve(lin, tasa)"
   ]
  },
  {
   "cell_type": "markdown",
   "metadata": {},
   "source": [
    "El interpolador permite obtener una tasa a cualquier plazo."
   ]
  },
  {
   "cell_type": "code",
   "execution_count": 24,
   "metadata": {
    "execution": {
     "iopub.execute_input": "2023-10-16T14:40:44.411551Z",
     "iopub.status.busy": "2023-10-16T14:40:44.411452Z",
     "iopub.status.idle": "2023-10-16T14:40:44.413250Z",
     "shell.execute_reply": "2023-10-16T14:40:44.413015Z",
     "shell.execute_reply.started": "2023-10-16T14:40:44.411543Z"
    },
    "ExecuteTime": {
     "end_time": "2023-12-19T16:07:56.577170Z",
     "start_time": "2023-12-19T16:07:56.535663Z"
    }
   },
   "outputs": [
    {
     "name": "stdout",
     "output_type": "stream",
     "text": [
      "Tasa en 365 es igual a 2.9926%\n"
     ]
    }
   ],
   "source": [
    "plazo = 365\n",
    "print(\"Tasa en {0:} es igual a {1:.4%}\".format(plazo, zz.get_rate_at(plazo)))"
   ]
  },
  {
   "cell_type": "code",
   "execution_count": 25,
   "metadata": {
    "execution": {
     "iopub.execute_input": "2023-10-16T14:40:44.413660Z",
     "iopub.status.busy": "2023-10-16T14:40:44.413599Z",
     "iopub.status.idle": "2023-10-16T14:40:44.415755Z",
     "shell.execute_reply": "2023-10-16T14:40:44.415497Z",
     "shell.execute_reply.started": "2023-10-16T14:40:44.413654Z"
    },
    "ExecuteTime": {
     "end_time": "2023-12-19T16:07:57.143117Z",
     "start_time": "2023-12-19T16:07:57.123914Z"
    }
   },
   "outputs": [
    {
     "data": {
      "text/plain": "qcfinancial.ZeroCouponCurve"
     },
     "execution_count": 25,
     "metadata": {},
     "output_type": "execute_result"
    }
   ],
   "source": [
    "type(zz)"
   ]
  },
  {
   "cell_type": "code",
   "execution_count": 26,
   "metadata": {
    "execution": {
     "iopub.execute_input": "2023-10-16T14:40:44.416110Z",
     "iopub.status.busy": "2023-10-16T14:40:44.416047Z",
     "iopub.status.idle": "2023-10-16T14:40:44.420160Z",
     "shell.execute_reply": "2023-10-16T14:40:44.419905Z",
     "shell.execute_reply.started": "2023-10-16T14:40:44.416104Z"
    },
    "ExecuteTime": {
     "end_time": "2023-12-19T16:07:57.573813Z",
     "start_time": "2023-12-19T16:07:57.532059Z"
    }
   },
   "outputs": [
    {
     "data": {
      "text/plain": "0.9999277829934504"
     },
     "execution_count": 26,
     "metadata": {},
     "output_type": "execute_result"
    }
   ],
   "source": [
    "zz.get_discount_factor_at(1)"
   ]
  },
  {
   "cell_type": "markdown",
   "metadata": {},
   "source": [
    "#### Otros métodos:"
   ]
  },
  {
   "cell_type": "markdown",
   "metadata": {},
   "source": [
    "Tasa Forward"
   ]
  },
  {
   "cell_type": "code",
   "execution_count": 27,
   "metadata": {
    "execution": {
     "iopub.execute_input": "2023-10-16T14:40:44.420671Z",
     "iopub.status.busy": "2023-10-16T14:40:44.420578Z",
     "iopub.status.idle": "2023-10-16T14:40:44.422710Z",
     "shell.execute_reply": "2023-10-16T14:40:44.422424Z",
     "shell.execute_reply.started": "2023-10-16T14:40:44.420665Z"
    },
    "ExecuteTime": {
     "end_time": "2023-12-19T16:07:58.444942Z",
     "start_time": "2023-12-19T16:07:58.406507Z"
    }
   },
   "outputs": [
    {
     "name": "stdout",
     "output_type": "stream",
     "text": [
      "Tasa forward entre los días 30 y 90: 2.5944%\n"
     ]
    }
   ],
   "source": [
    "d1 = 30\n",
    "d2 = 90\n",
    "print(\"Tasa forward entre los días {0:} y {1:}: {2:.4%}\".format(\n",
    "    d1, d2, zz.get_forward_rate(d1, d2)))"
   ]
  },
  {
   "cell_type": "markdown",
   "metadata": {},
   "source": [
    "Derivada del factor de capitalización de la Tasa Forward. El argumento representa el índice de la tasa de la curva."
   ]
  },
  {
   "cell_type": "code",
   "execution_count": 28,
   "metadata": {
    "execution": {
     "iopub.execute_input": "2023-10-16T14:40:44.423268Z",
     "iopub.status.busy": "2023-10-16T14:40:44.423201Z",
     "iopub.status.idle": "2023-10-16T14:40:44.425678Z",
     "shell.execute_reply": "2023-10-16T14:40:44.425386Z",
     "shell.execute_reply.started": "2023-10-16T14:40:44.423262Z"
    },
    "ExecuteTime": {
     "end_time": "2023-12-19T16:07:59.115753Z",
     "start_time": "2023-12-19T16:07:59.066916Z"
    }
   },
   "outputs": [
    {
     "data": {
      "text/plain": "0.1659467849041197"
     },
     "execution_count": 28,
     "metadata": {},
     "output_type": "execute_result"
    }
   ],
   "source": [
    "zz.fwd_wf_derivative_at(0)"
   ]
  },
  {
   "cell_type": "markdown",
   "metadata": {},
   "source": [
    "## Valorizar"
   ]
  },
  {
   "cell_type": "markdown",
   "metadata": {},
   "source": [
    "Se da de alta un objeto `PresentValue`."
   ]
  },
  {
   "cell_type": "code",
   "execution_count": 29,
   "metadata": {
    "execution": {
     "iopub.execute_input": "2023-10-16T14:40:44.426211Z",
     "iopub.status.busy": "2023-10-16T14:40:44.426048Z",
     "iopub.status.idle": "2023-10-16T14:40:44.428002Z",
     "shell.execute_reply": "2023-10-16T14:40:44.427790Z",
     "shell.execute_reply.started": "2023-10-16T14:40:44.426204Z"
    },
    "ExecuteTime": {
     "end_time": "2023-12-19T16:08:00.420833Z",
     "start_time": "2023-12-19T16:08:00.380040Z"
    }
   },
   "outputs": [],
   "source": [
    "pv = qcf.PresentValue()"
   ]
  },
  {
   "cell_type": "markdown",
   "metadata": {},
   "source": [
    "### Depósito a Plazo"
   ]
  },
  {
   "cell_type": "markdown",
   "metadata": {},
   "source": [
    "Se utilizará como instrumento un depósito a plazo en CLP o USD. Este instrumento se modela como un `SimpleCashflow`. Este, a su vez se construye con un monto, una fecha y una moneda."
   ]
  },
  {
   "cell_type": "code",
   "execution_count": 30,
   "metadata": {
    "execution": {
     "iopub.execute_input": "2023-10-16T14:40:44.432060Z",
     "iopub.status.busy": "2023-10-16T14:40:44.431960Z",
     "iopub.status.idle": "2023-10-16T14:40:44.433754Z",
     "shell.execute_reply": "2023-10-16T14:40:44.433496Z",
     "shell.execute_reply.started": "2023-10-16T14:40:44.432053Z"
    },
    "ExecuteTime": {
     "end_time": "2023-12-19T16:08:01.443682Z",
     "start_time": "2023-12-19T16:08:01.417967Z"
    }
   },
   "outputs": [],
   "source": [
    "# Con estas variables vamos a construir\n",
    "fecha_vcto = qcf.QCDate(12, 1, 2021)\n",
    "monto = 10_000_000.0\n",
    "clp = qcf.QCCLP()\n",
    "\n",
    "# Se construye el depósito\n",
    "depo = qcf.SimpleCashflow(fecha_vcto, monto, clp)"
   ]
  },
  {
   "cell_type": "code",
   "execution_count": 31,
   "metadata": {
    "execution": {
     "iopub.execute_input": "2023-10-16T14:40:44.434268Z",
     "iopub.status.busy": "2023-10-16T14:40:44.434175Z",
     "iopub.status.idle": "2023-10-16T14:40:44.436219Z",
     "shell.execute_reply": "2023-10-16T14:40:44.435988Z",
     "shell.execute_reply.started": "2023-10-16T14:40:44.434262Z"
    },
    "ExecuteTime": {
     "end_time": "2023-12-19T16:08:02.053007Z",
     "start_time": "2023-12-19T16:08:02.010581Z"
    }
   },
   "outputs": [
    {
     "name": "stdout",
     "output_type": "stream",
     "text": [
      "Monto del depósito: 10,000,000\n"
     ]
    }
   ],
   "source": [
    "print(\"Monto del depósito: {0:,.0f}\".format(depo.amount()))"
   ]
  },
  {
   "cell_type": "markdown",
   "metadata": {},
   "source": [
    "Se define una fecha de valorización y se calcula el valor presente del depo."
   ]
  },
  {
   "cell_type": "code",
   "execution_count": 32,
   "metadata": {
    "execution": {
     "iopub.execute_input": "2023-10-16T14:40:44.436720Z",
     "iopub.status.busy": "2023-10-16T14:40:44.436631Z",
     "iopub.status.idle": "2023-10-16T14:40:44.438602Z",
     "shell.execute_reply": "2023-10-16T14:40:44.438387Z",
     "shell.execute_reply.started": "2023-10-16T14:40:44.436713Z"
    },
    "ExecuteTime": {
     "end_time": "2023-12-19T16:08:02.946023Z",
     "start_time": "2023-12-19T16:08:02.904845Z"
    }
   },
   "outputs": [
    {
     "name": "stdout",
     "output_type": "stream",
     "text": [
      "Valor presente depo: 9,709,212.68\n"
     ]
    }
   ],
   "source": [
    "fecha_hoy = qcf.QCDate(17, 1, 2020)\n",
    "print(\"Valor presente depo: {0:,.2f}\".format(pv.pv(fecha_hoy, depo, zz)))"
   ]
  },
  {
   "cell_type": "markdown",
   "metadata": {},
   "source": [
    "Se verifica *a mano* el resultado."
   ]
  },
  {
   "cell_type": "code",
   "execution_count": 33,
   "metadata": {
    "execution": {
     "iopub.execute_input": "2023-10-16T14:40:44.438979Z",
     "iopub.status.busy": "2023-10-16T14:40:44.438922Z",
     "iopub.status.idle": "2023-10-16T14:40:44.442453Z",
     "shell.execute_reply": "2023-10-16T14:40:44.442147Z",
     "shell.execute_reply.started": "2023-10-16T14:40:44.438974Z"
    },
    "ExecuteTime": {
     "end_time": "2023-12-19T16:08:03.740456Z",
     "start_time": "2023-12-19T16:08:03.697417Z"
    }
   },
   "outputs": [
    {
     "name": "stdout",
     "output_type": "stream",
     "text": [
      "Plazo: 361\n"
     ]
    }
   ],
   "source": [
    "plazo = fecha_hoy.day_diff(fecha_vcto)\n",
    "print(\"Plazo:\", plazo)"
   ]
  },
  {
   "cell_type": "code",
   "execution_count": 34,
   "metadata": {
    "execution": {
     "iopub.execute_input": "2023-10-16T14:40:44.443132Z",
     "iopub.status.busy": "2023-10-16T14:40:44.443016Z",
     "iopub.status.idle": "2023-10-16T14:40:44.451638Z",
     "shell.execute_reply": "2023-10-16T14:40:44.451263Z",
     "shell.execute_reply.started": "2023-10-16T14:40:44.443124Z"
    },
    "ExecuteTime": {
     "end_time": "2023-12-19T16:08:04.255797Z",
     "start_time": "2023-12-19T16:08:04.238740Z"
    }
   },
   "outputs": [
    {
     "name": "stdout",
     "output_type": "stream",
     "text": [
      "Tasa: 2.9867%\n"
     ]
    }
   ],
   "source": [
    "tasa_int = zz.get_rate_at(plazo)\n",
    "print(\"Tasa: {0:,.4%}\".format(tasa_int))"
   ]
  },
  {
   "cell_type": "code",
   "execution_count": 35,
   "metadata": {
    "execution": {
     "iopub.execute_input": "2023-10-16T14:40:44.452088Z",
     "iopub.status.busy": "2023-10-16T14:40:44.451954Z",
     "iopub.status.idle": "2023-10-16T14:40:44.453976Z",
     "shell.execute_reply": "2023-10-16T14:40:44.453720Z",
     "shell.execute_reply.started": "2023-10-16T14:40:44.452078Z"
    },
    "ExecuteTime": {
     "end_time": "2023-12-19T16:08:04.684330Z",
     "start_time": "2023-12-19T16:08:04.643709Z"
    }
   },
   "outputs": [
    {
     "name": "stdout",
     "output_type": "stream",
     "text": [
      "Valor presente a mano: 9,709,212.68\n"
     ]
    }
   ],
   "source": [
    "valor_presente = monto / (1 + tasa_int * plazo / 360)\n",
    "print(\"Valor presente a mano: {0:,.2f}\".format(valor_presente))"
   ]
  },
  {
   "cell_type": "markdown",
   "metadata": {},
   "source": [
    "### Renta Fija Local"
   ]
  },
  {
   "cell_type": "markdown",
   "metadata": {},
   "source": [
    "Se muestra el ejemplo de valorización de un bono bullet a tasa fija con las convenciones de la Bolsa de Comercio. Para el ejemplo usamos las características del BTU0150326.\n",
    "\n",
    "Se dan de alta los parámetros requeridos para instanciar un objeto de tipo `FixedRateLeg`."
   ]
  },
  {
   "cell_type": "code",
   "execution_count": 36,
   "metadata": {
    "execution": {
     "iopub.execute_input": "2023-10-16T14:40:44.454424Z",
     "iopub.status.busy": "2023-10-16T14:40:44.454355Z",
     "iopub.status.idle": "2023-10-16T14:40:44.457191Z",
     "shell.execute_reply": "2023-10-16T14:40:44.456920Z",
     "shell.execute_reply.started": "2023-10-16T14:40:44.454417Z"
    },
    "ExecuteTime": {
     "end_time": "2023-12-19T16:08:06.679468Z",
     "start_time": "2023-12-19T16:08:06.628258Z"
    }
   },
   "outputs": [],
   "source": [
    "rp = qcf.RecPay.RECEIVE\n",
    "fecha_inicio = qcf.QCDate(1, 3, 2015)\n",
    "fecha_final = qcf.QCDate(1, 3, 2026)\n",
    "bus_adj_rule = qcf.BusyAdjRules.NO\n",
    "periodicidad = qcf.Tenor('6M')\n",
    "periodo_irregular = qcf.StubPeriod.NO\n",
    "calendario = qcf.BusinessCalendar(fecha_inicio, 20)\n",
    "lag_pago = 0\n",
    "nominal = 100.0\n",
    "amort_es_flujo = True\n",
    "valor_tasa_fija = .015\n",
    "tasa_cupon = qcf.QCInterestRate(\n",
    "    valor_tasa_fija, \n",
    "    qcf.QC30360(),\n",
    "    qcf.QCLinearWf()\n",
    ")\n",
    "moneda = qcf.QCCLP()\n",
    "es_bono = True\n",
    "\n",
    "# Se da de alta el objeto\n",
    "pata_bono = qcf.LegFactory.build_bullet_fixed_rate_leg(\n",
    "    rp,\n",
    "    fecha_inicio,\n",
    "    fecha_final,\n",
    "    bus_adj_rule,\n",
    "    periodicidad,\n",
    "    periodo_irregular,\n",
    "    calendario,\n",
    "    lag_pago,\n",
    "    nominal,\n",
    "    amort_es_flujo,\n",
    "    tasa_cupon,\n",
    "    moneda,\n",
    "    es_bono\n",
    ")"
   ]
  },
  {
   "cell_type": "markdown",
   "metadata": {},
   "source": [
    "Se da de alta el valor de la TERA y luego se construye un objeto de tipo `ChileanFixedRateBond`."
   ]
  },
  {
   "cell_type": "code",
   "execution_count": 37,
   "metadata": {
    "execution": {
     "iopub.execute_input": "2023-10-16T14:40:44.457945Z",
     "iopub.status.busy": "2023-10-16T14:40:44.457711Z",
     "iopub.status.idle": "2023-10-16T14:40:44.459806Z",
     "shell.execute_reply": "2023-10-16T14:40:44.459567Z",
     "shell.execute_reply.started": "2023-10-16T14:40:44.457935Z"
    },
    "ExecuteTime": {
     "end_time": "2023-12-19T16:08:08.445931Z",
     "start_time": "2023-12-19T16:08:08.372194Z"
    }
   },
   "outputs": [],
   "source": [
    "tera = qcf.QCInterestRate(.015044, qcf.QCAct365(), qcf.QCCompoundWf())\n",
    "bono_chileno = qcf.ChileanFixedRateBond(pata_bono, tera)"
   ]
  },
  {
   "cell_type": "markdown",
   "metadata": {},
   "source": [
    "Se valoriza al 2021-09-28 a una TIR de mercado del 1.61%."
   ]
  },
  {
   "cell_type": "code",
   "execution_count": 38,
   "metadata": {
    "execution": {
     "iopub.execute_input": "2023-10-16T14:40:44.460263Z",
     "iopub.status.busy": "2023-10-16T14:40:44.460161Z",
     "iopub.status.idle": "2023-10-16T14:40:44.462624Z",
     "shell.execute_reply": "2023-10-16T14:40:44.462335Z",
     "shell.execute_reply.started": "2023-10-16T14:40:44.460253Z"
    },
    "ExecuteTime": {
     "end_time": "2023-12-19T16:08:09.670563Z",
     "start_time": "2023-12-19T16:08:09.629801Z"
    }
   },
   "outputs": [
    {
     "name": "stdout",
     "output_type": "stream",
     "text": [
      "Valor presente: 99.67188455\n",
      "Precio: 99.56%\n",
      "Valor par: 100.110516628864033351\n"
     ]
    }
   ],
   "source": [
    "fecha_valor = qcf.QCDate(28, 9, 2021)\n",
    "tir = qcf.QCInterestRate(.0161, qcf.QCAct365(), qcf.QCCompoundWf())\n",
    "\n",
    "valor_presente = bono_chileno.present_value(fecha_valor, tir)\n",
    "precio = bono_chileno.precio(fecha_valor, tir)\n",
    "valor_par = bono_chileno.valor_par(fecha_valor)\n",
    "\n",
    "print(f'Valor presente: {valor_presente:,.8f}')\n",
    "print(f'Precio: {precio:,.2%}')\n",
    "print(f'Valor par: {valor_par:,.18f}')"
   ]
  },
  {
   "cell_type": "markdown",
   "metadata": {},
   "source": [
    "Con esto el valor a pagar es:"
   ]
  },
  {
   "cell_type": "code",
   "execution_count": 39,
   "metadata": {
    "execution": {
     "iopub.execute_input": "2023-10-16T14:40:44.463107Z",
     "iopub.status.busy": "2023-10-16T14:40:44.463047Z",
     "iopub.status.idle": "2023-10-16T14:40:44.465098Z",
     "shell.execute_reply": "2023-10-16T14:40:44.464832Z",
     "shell.execute_reply.started": "2023-10-16T14:40:44.463102Z"
    },
    "ExecuteTime": {
     "end_time": "2023-12-19T16:08:11.631819Z",
     "start_time": "2023-12-19T16:08:11.563325Z"
    }
   },
   "outputs": [
    {
     "name": "stdout",
     "output_type": "stream",
     "text": [
      "Valor a pagar: 2,998,111\n"
     ]
    }
   ],
   "source": [
    "valor_uf = 30_080.37\n",
    "valor_pago = precio * valor_par * valor_uf\n",
    "print(f'Valor a pagar: {valor_pago:,.0f}')"
   ]
  },
  {
   "cell_type": "markdown",
   "metadata": {},
   "source": [
    "Con 4 decimales en el precio (4 decimales porcentuales, 6 decimales en el número):"
   ]
  },
  {
   "cell_type": "code",
   "execution_count": 40,
   "metadata": {
    "execution": {
     "iopub.execute_input": "2023-10-16T14:40:44.465719Z",
     "iopub.status.busy": "2023-10-16T14:40:44.465603Z",
     "iopub.status.idle": "2023-10-16T14:40:44.467503Z",
     "shell.execute_reply": "2023-10-16T14:40:44.467259Z",
     "shell.execute_reply.started": "2023-10-16T14:40:44.465712Z"
    },
    "ExecuteTime": {
     "end_time": "2023-12-19T16:08:12.721303Z",
     "start_time": "2023-12-19T16:08:12.649442Z"
    }
   },
   "outputs": [
    {
     "name": "stdout",
     "output_type": "stream",
     "text": [
      "Precio a 4 decmales: 99.5619%\n"
     ]
    }
   ],
   "source": [
    "precio2 = bono_chileno.precio2(fecha_valor, tir, 6)\n",
    "print(f'Precio a 4 decmales: {precio2:.4%}')"
   ]
  },
  {
   "cell_type": "markdown",
   "metadata": {},
   "source": [
    "La función `precio2` entrega el mismo resultado que la función precio cuando se utiliza con 2 decimales porcentuales."
   ]
  },
  {
   "cell_type": "code",
   "execution_count": 41,
   "metadata": {
    "execution": {
     "iopub.execute_input": "2023-10-16T14:40:44.467828Z",
     "iopub.status.busy": "2023-10-16T14:40:44.467771Z",
     "iopub.status.idle": "2023-10-16T14:40:44.469658Z",
     "shell.execute_reply": "2023-10-16T14:40:44.469323Z",
     "shell.execute_reply.started": "2023-10-16T14:40:44.467823Z"
    },
    "ExecuteTime": {
     "end_time": "2023-12-19T16:08:13.680546Z",
     "start_time": "2023-12-19T16:08:13.629598Z"
    }
   },
   "outputs": [
    {
     "name": "stdout",
     "output_type": "stream",
     "text": [
      "Precio a 4 decmales: 99.5600%\n"
     ]
    }
   ],
   "source": [
    "precio22 = bono_chileno.precio2(fecha_valor, tir, 4)\n",
    "print(f'Precio a 4 decmales: {precio22:.4%}')"
   ]
  },
  {
   "cell_type": "markdown",
   "metadata": {},
   "source": [
    "Se muestran las diferencias con la convención de precio usual en mercados desarrollados."
   ]
  },
  {
   "cell_type": "code",
   "execution_count": 42,
   "metadata": {
    "execution": {
     "iopub.execute_input": "2023-10-16T14:40:44.470238Z",
     "iopub.status.busy": "2023-10-16T14:40:44.470045Z",
     "iopub.status.idle": "2023-10-16T14:40:44.472071Z",
     "shell.execute_reply": "2023-10-16T14:40:44.471827Z",
     "shell.execute_reply.started": "2023-10-16T14:40:44.470231Z"
    },
    "ExecuteTime": {
     "end_time": "2023-12-19T16:08:15.460855Z",
     "start_time": "2023-12-19T16:08:15.409497Z"
    }
   },
   "outputs": [
    {
     "name": "stdout",
     "output_type": "stream",
     "text": [
      "Valor presente: 99.67188455\n",
      "Precio: 99.55938455\n"
     ]
    }
   ],
   "source": [
    "bono = qcf.FixedRateBond(pata_bono)\n",
    "print(f'Valor presente: {bono.present_value(fecha_valor, tir):,.8f}')\n",
    "print(f'Precio: {bono.price(fecha_valor, tir):,.8f}')"
   ]
  },
  {
   "cell_type": "markdown",
   "metadata": {},
   "source": [
    "### Curvas Reales"
   ]
  },
  {
   "cell_type": "markdown",
   "metadata": {},
   "source": [
    "Construyamos dos curvas a partir de data real. Primero la curva CAMARACLP."
   ]
  },
  {
   "cell_type": "code",
   "execution_count": 45,
   "metadata": {
    "execution": {
     "iopub.execute_input": "2023-10-16T14:40:44.472583Z",
     "iopub.status.busy": "2023-10-16T14:40:44.472505Z",
     "iopub.status.idle": "2023-10-16T14:40:44.680744Z",
     "shell.execute_reply": "2023-10-16T14:40:44.680474Z",
     "shell.execute_reply.started": "2023-10-16T14:40:44.472578Z"
    },
    "ExecuteTime": {
     "end_time": "2023-12-19T16:09:02.099881Z",
     "start_time": "2023-12-19T16:09:02.038333Z"
    }
   },
   "outputs": [
    {
     "data": {
      "text/plain": "        curva      fecha  plazo      tasa\n0   CAMARACLP 2020-03-05      1  0.017500\n1   CAMARACLP 2020-03-05      4  0.017501\n2   CAMARACLP 2020-03-05     96  0.014867\n3   CAMARACLP 2020-03-05    188  0.013049\n4   CAMARACLP 2020-03-05    279  0.012870\n5   CAMARACLP 2020-03-05    369  0.013002\n6   CAMARACLP 2020-03-05    553  0.013035\n7   CAMARACLP 2020-03-05    734  0.012951\n8   CAMARACLP 2020-03-05   1099  0.014440\n9   CAMARACLP 2020-03-05   1465  0.016736\n10  CAMARACLP 2020-03-05   1830  0.019860\n11  CAMARACLP 2020-03-05   2195  0.022766\n12  CAMARACLP 2020-03-05   2560  0.025812\n13  CAMARACLP 2020-03-05   2926  0.028216\n14  CAMARACLP 2020-03-05   3291  0.030373\n15  CAMARACLP 2020-03-05   3656  0.032154\n16  CAMARACLP 2020-03-05   4387  0.034525\n17  CAMARACLP 2020-03-05   5482  0.037636\n18  CAMARACLP 2020-03-05   7309  0.041641",
      "text/html": "<div>\n<style scoped>\n    .dataframe tbody tr th:only-of-type {\n        vertical-align: middle;\n    }\n\n    .dataframe tbody tr th {\n        vertical-align: top;\n    }\n\n    .dataframe thead th {\n        text-align: right;\n    }\n</style>\n<table border=\"1\" class=\"dataframe\">\n  <thead>\n    <tr style=\"text-align: right;\">\n      <th></th>\n      <th>curva</th>\n      <th>fecha</th>\n      <th>plazo</th>\n      <th>tasa</th>\n    </tr>\n  </thead>\n  <tbody>\n    <tr>\n      <th>0</th>\n      <td>CAMARACLP</td>\n      <td>2020-03-05</td>\n      <td>1</td>\n      <td>0.017500</td>\n    </tr>\n    <tr>\n      <th>1</th>\n      <td>CAMARACLP</td>\n      <td>2020-03-05</td>\n      <td>4</td>\n      <td>0.017501</td>\n    </tr>\n    <tr>\n      <th>2</th>\n      <td>CAMARACLP</td>\n      <td>2020-03-05</td>\n      <td>96</td>\n      <td>0.014867</td>\n    </tr>\n    <tr>\n      <th>3</th>\n      <td>CAMARACLP</td>\n      <td>2020-03-05</td>\n      <td>188</td>\n      <td>0.013049</td>\n    </tr>\n    <tr>\n      <th>4</th>\n      <td>CAMARACLP</td>\n      <td>2020-03-05</td>\n      <td>279</td>\n      <td>0.012870</td>\n    </tr>\n    <tr>\n      <th>5</th>\n      <td>CAMARACLP</td>\n      <td>2020-03-05</td>\n      <td>369</td>\n      <td>0.013002</td>\n    </tr>\n    <tr>\n      <th>6</th>\n      <td>CAMARACLP</td>\n      <td>2020-03-05</td>\n      <td>553</td>\n      <td>0.013035</td>\n    </tr>\n    <tr>\n      <th>7</th>\n      <td>CAMARACLP</td>\n      <td>2020-03-05</td>\n      <td>734</td>\n      <td>0.012951</td>\n    </tr>\n    <tr>\n      <th>8</th>\n      <td>CAMARACLP</td>\n      <td>2020-03-05</td>\n      <td>1099</td>\n      <td>0.014440</td>\n    </tr>\n    <tr>\n      <th>9</th>\n      <td>CAMARACLP</td>\n      <td>2020-03-05</td>\n      <td>1465</td>\n      <td>0.016736</td>\n    </tr>\n    <tr>\n      <th>10</th>\n      <td>CAMARACLP</td>\n      <td>2020-03-05</td>\n      <td>1830</td>\n      <td>0.019860</td>\n    </tr>\n    <tr>\n      <th>11</th>\n      <td>CAMARACLP</td>\n      <td>2020-03-05</td>\n      <td>2195</td>\n      <td>0.022766</td>\n    </tr>\n    <tr>\n      <th>12</th>\n      <td>CAMARACLP</td>\n      <td>2020-03-05</td>\n      <td>2560</td>\n      <td>0.025812</td>\n    </tr>\n    <tr>\n      <th>13</th>\n      <td>CAMARACLP</td>\n      <td>2020-03-05</td>\n      <td>2926</td>\n      <td>0.028216</td>\n    </tr>\n    <tr>\n      <th>14</th>\n      <td>CAMARACLP</td>\n      <td>2020-03-05</td>\n      <td>3291</td>\n      <td>0.030373</td>\n    </tr>\n    <tr>\n      <th>15</th>\n      <td>CAMARACLP</td>\n      <td>2020-03-05</td>\n      <td>3656</td>\n      <td>0.032154</td>\n    </tr>\n    <tr>\n      <th>16</th>\n      <td>CAMARACLP</td>\n      <td>2020-03-05</td>\n      <td>4387</td>\n      <td>0.034525</td>\n    </tr>\n    <tr>\n      <th>17</th>\n      <td>CAMARACLP</td>\n      <td>2020-03-05</td>\n      <td>5482</td>\n      <td>0.037636</td>\n    </tr>\n    <tr>\n      <th>18</th>\n      <td>CAMARACLP</td>\n      <td>2020-03-05</td>\n      <td>7309</td>\n      <td>0.041641</td>\n    </tr>\n  </tbody>\n</table>\n</div>"
     },
     "execution_count": 45,
     "metadata": {},
     "output_type": "execute_result"
    }
   ],
   "source": [
    "curva = pd.read_excel(\"./input/curva_clp.xlsx\")\n",
    "curva"
   ]
  },
  {
   "cell_type": "markdown",
   "metadata": {},
   "source": [
    "Se da de alta un vector con los plazos (variable de tipo `long`) y un vector con las tasas (variable de tipo `double`)."
   ]
  },
  {
   "cell_type": "code",
   "execution_count": 46,
   "metadata": {
    "execution": {
     "iopub.execute_input": "2023-10-16T14:40:44.681567Z",
     "iopub.status.busy": "2023-10-16T14:40:44.681290Z",
     "iopub.status.idle": "2023-10-16T14:40:44.683956Z",
     "shell.execute_reply": "2023-10-16T14:40:44.683553Z",
     "shell.execute_reply.started": "2023-10-16T14:40:44.681559Z"
    },
    "ExecuteTime": {
     "end_time": "2023-12-19T16:09:12.270999Z",
     "start_time": "2023-12-19T16:09:12.233624Z"
    }
   },
   "outputs": [],
   "source": [
    "lvec1 = qcf.long_vec()\n",
    "vec1 = qcf.double_vec()\n",
    "for index, row in curva.iterrows():\n",
    "    lvec1.append(int(row['plazo']))\n",
    "    vec1.append(row['tasa'])"
   ]
  },
  {
   "cell_type": "markdown",
   "metadata": {},
   "source": [
    "Luego, con una curva, un interpolador y un objeto `QCInterestRate`(que indica la convención de las tasas de la curva) se construye una curva cupón cero."
   ]
  },
  {
   "cell_type": "code",
   "execution_count": 47,
   "metadata": {
    "execution": {
     "iopub.execute_input": "2023-10-16T14:40:44.684565Z",
     "iopub.status.busy": "2023-10-16T14:40:44.684429Z",
     "iopub.status.idle": "2023-10-16T14:40:44.686937Z",
     "shell.execute_reply": "2023-10-16T14:40:44.686707Z",
     "shell.execute_reply.started": "2023-10-16T14:40:44.684556Z"
    },
    "ExecuteTime": {
     "end_time": "2023-12-19T16:09:14.611482Z",
     "start_time": "2023-12-19T16:09:14.565464Z"
    }
   },
   "outputs": [],
   "source": [
    "zcc1 = qcf.QCCurve(lvec1, vec1)\n",
    "lin1 = qcf.QCLinearInterpolator(zcc1)\n",
    "zz1 = qcf.ZeroCouponCurve(lin1, tasa)"
   ]
  },
  {
   "cell_type": "markdown",
   "metadata": {},
   "source": [
    "Luego, la curva LIBORUSD3M."
   ]
  },
  {
   "cell_type": "code",
   "execution_count": 48,
   "metadata": {
    "execution": {
     "iopub.execute_input": "2023-10-16T14:40:44.687342Z",
     "iopub.status.busy": "2023-10-16T14:40:44.687282Z",
     "iopub.status.idle": "2023-10-16T14:40:44.700004Z",
     "shell.execute_reply": "2023-10-16T14:40:44.699770Z",
     "shell.execute_reply.started": "2023-10-16T14:40:44.687336Z"
    },
    "ExecuteTime": {
     "end_time": "2023-12-19T16:09:16.478008Z",
     "start_time": "2023-12-19T16:09:16.407650Z"
    }
   },
   "outputs": [
    {
     "data": {
      "text/plain": "<pandas.io.formats.style.Styler at 0x10798dbd0>",
      "text/html": "<style type=\"text/css\">\n</style>\n<table id=\"T_6f78c\">\n  <thead>\n    <tr>\n      <th class=\"blank level0\" >&nbsp;</th>\n      <th id=\"T_6f78c_level0_col0\" class=\"col_heading level0 col0\" >curva</th>\n      <th id=\"T_6f78c_level0_col1\" class=\"col_heading level0 col1\" >fecha</th>\n      <th id=\"T_6f78c_level0_col2\" class=\"col_heading level0 col2\" >plazo</th>\n      <th id=\"T_6f78c_level0_col3\" class=\"col_heading level0 col3\" >tasa</th>\n    </tr>\n  </thead>\n  <tbody>\n    <tr>\n      <th id=\"T_6f78c_level0_row0\" class=\"row_heading level0 row0\" >0</th>\n      <td id=\"T_6f78c_row0_col0\" class=\"data row0 col0\" >LIBORUSD3MBBG</td>\n      <td id=\"T_6f78c_row0_col1\" class=\"data row0 col1\" >2020-01-22 00:00:00</td>\n      <td id=\"T_6f78c_row0_col2\" class=\"data row0 col2\" >3</td>\n      <td id=\"T_6f78c_row0_col3\" class=\"data row0 col3\" >1.5362%</td>\n    </tr>\n    <tr>\n      <th id=\"T_6f78c_level0_row1\" class=\"row_heading level0 row1\" >1</th>\n      <td id=\"T_6f78c_row1_col0\" class=\"data row1 col0\" >LIBORUSD3MBBG</td>\n      <td id=\"T_6f78c_row1_col1\" class=\"data row1 col1\" >2020-01-22 00:00:00</td>\n      <td id=\"T_6f78c_row1_col2\" class=\"data row1 col2\" >4</td>\n      <td id=\"T_6f78c_row1_col3\" class=\"data row1 col3\" >1.1521%</td>\n    </tr>\n    <tr>\n      <th id=\"T_6f78c_level0_row2\" class=\"row_heading level0 row2\" >2</th>\n      <td id=\"T_6f78c_row2_col0\" class=\"data row2 col0\" >LIBORUSD3MBBG</td>\n      <td id=\"T_6f78c_row2_col1\" class=\"data row2 col1\" >2020-01-22 00:00:00</td>\n      <td id=\"T_6f78c_row2_col2\" class=\"data row2 col2\" >7</td>\n      <td id=\"T_6f78c_row2_col3\" class=\"data row2 col3\" >1.5536%</td>\n    </tr>\n    <tr>\n      <th id=\"T_6f78c_level0_row3\" class=\"row_heading level0 row3\" >3</th>\n      <td id=\"T_6f78c_row3_col0\" class=\"data row3 col0\" >LIBORUSD3MBBG</td>\n      <td id=\"T_6f78c_row3_col1\" class=\"data row3 col1\" >2020-01-22 00:00:00</td>\n      <td id=\"T_6f78c_row3_col2\" class=\"data row3 col2\" >14</td>\n      <td id=\"T_6f78c_row3_col3\" class=\"data row3 col3\" >1.5850%</td>\n    </tr>\n    <tr>\n      <th id=\"T_6f78c_level0_row4\" class=\"row_heading level0 row4\" >4</th>\n      <td id=\"T_6f78c_row4_col0\" class=\"data row4 col0\" >LIBORUSD3MBBG</td>\n      <td id=\"T_6f78c_row4_col1\" class=\"data row4 col1\" >2020-01-22 00:00:00</td>\n      <td id=\"T_6f78c_row4_col2\" class=\"data row4 col2\" >31</td>\n      <td id=\"T_6f78c_row4_col3\" class=\"data row4 col3\" >1.6595%</td>\n    </tr>\n    <tr>\n      <th id=\"T_6f78c_level0_row5\" class=\"row_heading level0 row5\" >5</th>\n      <td id=\"T_6f78c_row5_col0\" class=\"data row5 col0\" >LIBORUSD3MBBG</td>\n      <td id=\"T_6f78c_row5_col1\" class=\"data row5 col1\" >2020-01-22 00:00:00</td>\n      <td id=\"T_6f78c_row5_col2\" class=\"data row5 col2\" >60</td>\n      <td id=\"T_6f78c_row5_col3\" class=\"data row5 col3\" >1.7698%</td>\n    </tr>\n    <tr>\n      <th id=\"T_6f78c_level0_row6\" class=\"row_heading level0 row6\" >6</th>\n      <td id=\"T_6f78c_row6_col0\" class=\"data row6 col0\" >LIBORUSD3MBBG</td>\n      <td id=\"T_6f78c_row6_col1\" class=\"data row6 col1\" >2020-01-22 00:00:00</td>\n      <td id=\"T_6f78c_row6_col2\" class=\"data row6 col2\" >91</td>\n      <td id=\"T_6f78c_row6_col3\" class=\"data row6 col3\" >1.8010%</td>\n    </tr>\n    <tr>\n      <th id=\"T_6f78c_level0_row7\" class=\"row_heading level0 row7\" >7</th>\n      <td id=\"T_6f78c_row7_col0\" class=\"data row7 col0\" >LIBORUSD3MBBG</td>\n      <td id=\"T_6f78c_row7_col1\" class=\"data row7 col1\" >2020-01-22 00:00:00</td>\n      <td id=\"T_6f78c_row7_col2\" class=\"data row7 col2\" >123</td>\n      <td id=\"T_6f78c_row7_col3\" class=\"data row7 col3\" >1.7711%</td>\n    </tr>\n    <tr>\n      <th id=\"T_6f78c_level0_row8\" class=\"row_heading level0 row8\" >8</th>\n      <td id=\"T_6f78c_row8_col0\" class=\"data row8 col0\" >LIBORUSD3MBBG</td>\n      <td id=\"T_6f78c_row8_col1\" class=\"data row8 col1\" >2020-01-22 00:00:00</td>\n      <td id=\"T_6f78c_row8_col2\" class=\"data row8 col2\" >152</td>\n      <td id=\"T_6f78c_row8_col3\" class=\"data row8 col3\" >1.7542%</td>\n    </tr>\n    <tr>\n      <th id=\"T_6f78c_level0_row9\" class=\"row_heading level0 row9\" >9</th>\n      <td id=\"T_6f78c_row9_col0\" class=\"data row9 col0\" >LIBORUSD3MBBG</td>\n      <td id=\"T_6f78c_row9_col1\" class=\"data row9 col1\" >2020-01-22 00:00:00</td>\n      <td id=\"T_6f78c_row9_col2\" class=\"data row9 col2\" >182</td>\n      <td id=\"T_6f78c_row9_col3\" class=\"data row9 col3\" >1.7394%</td>\n    </tr>\n    <tr>\n      <th id=\"T_6f78c_level0_row10\" class=\"row_heading level0 row10\" >10</th>\n      <td id=\"T_6f78c_row10_col0\" class=\"data row10 col0\" >LIBORUSD3MBBG</td>\n      <td id=\"T_6f78c_row10_col1\" class=\"data row10 col1\" >2020-01-22 00:00:00</td>\n      <td id=\"T_6f78c_row10_col2\" class=\"data row10 col2\" >213</td>\n      <td id=\"T_6f78c_row10_col3\" class=\"data row10 col3\" >1.7288%</td>\n    </tr>\n    <tr>\n      <th id=\"T_6f78c_level0_row11\" class=\"row_heading level0 row11\" >11</th>\n      <td id=\"T_6f78c_row11_col0\" class=\"data row11 col0\" >LIBORUSD3MBBG</td>\n      <td id=\"T_6f78c_row11_col1\" class=\"data row11 col1\" >2020-01-22 00:00:00</td>\n      <td id=\"T_6f78c_row11_col2\" class=\"data row11 col2\" >244</td>\n      <td id=\"T_6f78c_row11_col3\" class=\"data row11 col3\" >1.7183%</td>\n    </tr>\n    <tr>\n      <th id=\"T_6f78c_level0_row12\" class=\"row_heading level0 row12\" >12</th>\n      <td id=\"T_6f78c_row12_col0\" class=\"data row12 col0\" >LIBORUSD3MBBG</td>\n      <td id=\"T_6f78c_row12_col1\" class=\"data row12 col1\" >2020-01-22 00:00:00</td>\n      <td id=\"T_6f78c_row12_col2\" class=\"data row12 col2\" >276</td>\n      <td id=\"T_6f78c_row12_col3\" class=\"data row12 col3\" >1.7027%</td>\n    </tr>\n    <tr>\n      <th id=\"T_6f78c_level0_row13\" class=\"row_heading level0 row13\" >13</th>\n      <td id=\"T_6f78c_row13_col0\" class=\"data row13 col0\" >LIBORUSD3MBBG</td>\n      <td id=\"T_6f78c_row13_col1\" class=\"data row13 col1\" >2020-01-22 00:00:00</td>\n      <td id=\"T_6f78c_row13_col2\" class=\"data row13 col2\" >305</td>\n      <td id=\"T_6f78c_row13_col3\" class=\"data row13 col3\" >1.6917%</td>\n    </tr>\n    <tr>\n      <th id=\"T_6f78c_level0_row14\" class=\"row_heading level0 row14\" >14</th>\n      <td id=\"T_6f78c_row14_col0\" class=\"data row14 col0\" >LIBORUSD3MBBG</td>\n      <td id=\"T_6f78c_row14_col1\" class=\"data row14 col1\" >2020-01-22 00:00:00</td>\n      <td id=\"T_6f78c_row14_col2\" class=\"data row14 col2\" >335</td>\n      <td id=\"T_6f78c_row14_col3\" class=\"data row14 col3\" >1.6820%</td>\n    </tr>\n    <tr>\n      <th id=\"T_6f78c_level0_row15\" class=\"row_heading level0 row15\" >15</th>\n      <td id=\"T_6f78c_row15_col0\" class=\"data row15 col0\" >LIBORUSD3MBBG</td>\n      <td id=\"T_6f78c_row15_col1\" class=\"data row15 col1\" >2020-01-22 00:00:00</td>\n      <td id=\"T_6f78c_row15_col2\" class=\"data row15 col2\" >367</td>\n      <td id=\"T_6f78c_row15_col3\" class=\"data row15 col3\" >1.6722%</td>\n    </tr>\n    <tr>\n      <th id=\"T_6f78c_level0_row16\" class=\"row_heading level0 row16\" >16</th>\n      <td id=\"T_6f78c_row16_col0\" class=\"data row16 col0\" >LIBORUSD3MBBG</td>\n      <td id=\"T_6f78c_row16_col1\" class=\"data row16 col1\" >2020-01-22 00:00:00</td>\n      <td id=\"T_6f78c_row16_col2\" class=\"data row16 col2\" >549</td>\n      <td id=\"T_6f78c_row16_col3\" class=\"data row16 col3\" >1.6207%</td>\n    </tr>\n    <tr>\n      <th id=\"T_6f78c_level0_row17\" class=\"row_heading level0 row17\" >17</th>\n      <td id=\"T_6f78c_row17_col0\" class=\"data row17 col0\" >LIBORUSD3MBBG</td>\n      <td id=\"T_6f78c_row17_col1\" class=\"data row17 col1\" >2020-01-22 00:00:00</td>\n      <td id=\"T_6f78c_row17_col2\" class=\"data row17 col2\" >731</td>\n      <td id=\"T_6f78c_row17_col3\" class=\"data row17 col3\" >1.5947%</td>\n    </tr>\n    <tr>\n      <th id=\"T_6f78c_level0_row18\" class=\"row_heading level0 row18\" >18</th>\n      <td id=\"T_6f78c_row18_col0\" class=\"data row18 col0\" >LIBORUSD3MBBG</td>\n      <td id=\"T_6f78c_row18_col1\" class=\"data row18 col1\" >2020-01-22 00:00:00</td>\n      <td id=\"T_6f78c_row18_col2\" class=\"data row18 col2\" >1096</td>\n      <td id=\"T_6f78c_row18_col3\" class=\"data row18 col3\" >1.5788%</td>\n    </tr>\n    <tr>\n      <th id=\"T_6f78c_level0_row19\" class=\"row_heading level0 row19\" >19</th>\n      <td id=\"T_6f78c_row19_col0\" class=\"data row19 col0\" >LIBORUSD3MBBG</td>\n      <td id=\"T_6f78c_row19_col1\" class=\"data row19 col1\" >2020-01-22 00:00:00</td>\n      <td id=\"T_6f78c_row19_col2\" class=\"data row19 col2\" >1461</td>\n      <td id=\"T_6f78c_row19_col3\" class=\"data row19 col3\" >1.5906%</td>\n    </tr>\n    <tr>\n      <th id=\"T_6f78c_level0_row20\" class=\"row_heading level0 row20\" >20</th>\n      <td id=\"T_6f78c_row20_col0\" class=\"data row20 col0\" >LIBORUSD3MBBG</td>\n      <td id=\"T_6f78c_row20_col1\" class=\"data row20 col1\" >2020-01-22 00:00:00</td>\n      <td id=\"T_6f78c_row20_col2\" class=\"data row20 col2\" >1827</td>\n      <td id=\"T_6f78c_row20_col3\" class=\"data row20 col3\" >1.6190%</td>\n    </tr>\n    <tr>\n      <th id=\"T_6f78c_level0_row21\" class=\"row_heading level0 row21\" >21</th>\n      <td id=\"T_6f78c_row21_col0\" class=\"data row21 col0\" >LIBORUSD3MBBG</td>\n      <td id=\"T_6f78c_row21_col1\" class=\"data row21 col1\" >2020-01-22 00:00:00</td>\n      <td id=\"T_6f78c_row21_col2\" class=\"data row21 col2\" >2558</td>\n      <td id=\"T_6f78c_row21_col3\" class=\"data row21 col3\" >1.7028%</td>\n    </tr>\n    <tr>\n      <th id=\"T_6f78c_level0_row22\" class=\"row_heading level0 row22\" >22</th>\n      <td id=\"T_6f78c_row22_col0\" class=\"data row22 col0\" >LIBORUSD3MBBG</td>\n      <td id=\"T_6f78c_row22_col1\" class=\"data row22 col1\" >2020-01-22 00:00:00</td>\n      <td id=\"T_6f78c_row22_col2\" class=\"data row22 col2\" >3653</td>\n      <td id=\"T_6f78c_row22_col3\" class=\"data row22 col3\" >1.8533%</td>\n    </tr>\n    <tr>\n      <th id=\"T_6f78c_level0_row23\" class=\"row_heading level0 row23\" >23</th>\n      <td id=\"T_6f78c_row23_col0\" class=\"data row23 col0\" >LIBORUSD3MBBG</td>\n      <td id=\"T_6f78c_row23_col1\" class=\"data row23 col1\" >2020-01-22 00:00:00</td>\n      <td id=\"T_6f78c_row23_col2\" class=\"data row23 col2\" >4385</td>\n      <td id=\"T_6f78c_row23_col3\" class=\"data row23 col3\" >1.9547%</td>\n    </tr>\n    <tr>\n      <th id=\"T_6f78c_level0_row24\" class=\"row_heading level0 row24\" >24</th>\n      <td id=\"T_6f78c_row24_col0\" class=\"data row24 col0\" >LIBORUSD3MBBG</td>\n      <td id=\"T_6f78c_row24_col1\" class=\"data row24 col1\" >2020-01-22 00:00:00</td>\n      <td id=\"T_6f78c_row24_col2\" class=\"data row24 col2\" >5479</td>\n      <td id=\"T_6f78c_row24_col3\" class=\"data row24 col3\" >2.0893%</td>\n    </tr>\n    <tr>\n      <th id=\"T_6f78c_level0_row25\" class=\"row_heading level0 row25\" >25</th>\n      <td id=\"T_6f78c_row25_col0\" class=\"data row25 col0\" >LIBORUSD3MBBG</td>\n      <td id=\"T_6f78c_row25_col1\" class=\"data row25 col1\" >2020-01-22 00:00:00</td>\n      <td id=\"T_6f78c_row25_col2\" class=\"data row25 col2\" >7305</td>\n      <td id=\"T_6f78c_row25_col3\" class=\"data row25 col3\" >2.2831%</td>\n    </tr>\n    <tr>\n      <th id=\"T_6f78c_level0_row26\" class=\"row_heading level0 row26\" >26</th>\n      <td id=\"T_6f78c_row26_col0\" class=\"data row26 col0\" >LIBORUSD3MBBG</td>\n      <td id=\"T_6f78c_row26_col1\" class=\"data row26 col1\" >2020-01-22 00:00:00</td>\n      <td id=\"T_6f78c_row26_col2\" class=\"data row26 col2\" >9132</td>\n      <td id=\"T_6f78c_row26_col3\" class=\"data row26 col3\" >2.4306%</td>\n    </tr>\n    <tr>\n      <th id=\"T_6f78c_level0_row27\" class=\"row_heading level0 row27\" >27</th>\n      <td id=\"T_6f78c_row27_col0\" class=\"data row27 col0\" >LIBORUSD3MBBG</td>\n      <td id=\"T_6f78c_row27_col1\" class=\"data row27 col1\" >2020-01-22 00:00:00</td>\n      <td id=\"T_6f78c_row27_col2\" class=\"data row27 col2\" >10958</td>\n      <td id=\"T_6f78c_row27_col3\" class=\"data row27 col3\" >2.5576%</td>\n    </tr>\n  </tbody>\n</table>\n"
     },
     "execution_count": 48,
     "metadata": {},
     "output_type": "execute_result"
    }
   ],
   "source": [
    "curva_libor = pd.read_excel(\"./input/curva_usd.xlsx\")\n",
    "curva_libor.style.format({\"tasa\": \"{0:,.4%}\"})"
   ]
  },
  {
   "cell_type": "code",
   "execution_count": 49,
   "metadata": {
    "execution": {
     "iopub.execute_input": "2023-10-16T14:40:44.700498Z",
     "iopub.status.busy": "2023-10-16T14:40:44.700438Z",
     "iopub.status.idle": "2023-10-16T14:40:44.703126Z",
     "shell.execute_reply": "2023-10-16T14:40:44.702905Z",
     "shell.execute_reply.started": "2023-10-16T14:40:44.700492Z"
    },
    "ExecuteTime": {
     "end_time": "2023-12-19T16:09:17.248798Z",
     "start_time": "2023-12-19T16:09:17.208628Z"
    }
   },
   "outputs": [],
   "source": [
    "lvec2 = qcf.long_vec()\n",
    "vec2 = qcf.double_vec()\n",
    "for index, row in curva_libor.iterrows():\n",
    "    lvec2.append(int(row['plazo']))\n",
    "    vec2.append(row['tasa'])\n",
    "\n",
    "zcc2 = qcf.QCCurve(lvec2, vec2)\n",
    "lin2 = qcf.QCLinearInterpolator(zcc2)\n",
    "zz2 = qcf.ZeroCouponCurve(lin2, tasa)"
   ]
  },
  {
   "cell_type": "markdown",
   "metadata": {},
   "source": [
    "Finalmente, la curva CAMARACLF."
   ]
  },
  {
   "cell_type": "code",
   "execution_count": 50,
   "metadata": {
    "execution": {
     "iopub.execute_input": "2023-10-16T14:40:44.703537Z",
     "iopub.status.busy": "2023-10-16T14:40:44.703473Z",
     "iopub.status.idle": "2023-10-16T14:40:44.712139Z",
     "shell.execute_reply": "2023-10-16T14:40:44.711880Z",
     "shell.execute_reply.started": "2023-10-16T14:40:44.703531Z"
    },
    "ExecuteTime": {
     "end_time": "2023-12-19T16:09:18.252430Z",
     "start_time": "2023-12-19T16:09:18.204028Z"
    }
   },
   "outputs": [
    {
     "data": {
      "text/plain": "<pandas.io.formats.style.Styler at 0x1200fc390>",
      "text/html": "<style type=\"text/css\">\n</style>\n<table id=\"T_6a300\">\n  <thead>\n    <tr>\n      <th class=\"blank level0\" >&nbsp;</th>\n      <th id=\"T_6a300_level0_col0\" class=\"col_heading level0 col0\" >curva</th>\n      <th id=\"T_6a300_level0_col1\" class=\"col_heading level0 col1\" >fecha</th>\n      <th id=\"T_6a300_level0_col2\" class=\"col_heading level0 col2\" >plazo</th>\n      <th id=\"T_6a300_level0_col3\" class=\"col_heading level0 col3\" >tasa</th>\n    </tr>\n  </thead>\n  <tbody>\n    <tr>\n      <th id=\"T_6a300_level0_row0\" class=\"row_heading level0 row0\" >0</th>\n      <td id=\"T_6a300_row0_col0\" class=\"data row0 col0\" >CAMARACLF</td>\n      <td id=\"T_6a300_row0_col1\" class=\"data row0 col1\" >2020-03-05 00:00:00</td>\n      <td id=\"T_6a300_row0_col2\" class=\"data row0 col2\" >1</td>\n      <td id=\"T_6a300_row0_col3\" class=\"data row0 col3\" >-5.6780%</td>\n    </tr>\n    <tr>\n      <th id=\"T_6a300_level0_row1\" class=\"row_heading level0 row1\" >1</th>\n      <td id=\"T_6a300_row1_col0\" class=\"data row1 col0\" >CAMARACLF</td>\n      <td id=\"T_6a300_row1_col1\" class=\"data row1 col1\" >2020-03-05 00:00:00</td>\n      <td id=\"T_6a300_row1_col2\" class=\"data row1 col2\" >4</td>\n      <td id=\"T_6a300_row1_col3\" class=\"data row1 col3\" >-5.6744%</td>\n    </tr>\n    <tr>\n      <th id=\"T_6a300_level0_row2\" class=\"row_heading level0 row2\" >2</th>\n      <td id=\"T_6a300_row2_col0\" class=\"data row2 col0\" >CAMARACLF</td>\n      <td id=\"T_6a300_row2_col1\" class=\"data row2 col1\" >2020-03-05 00:00:00</td>\n      <td id=\"T_6a300_row2_col2\" class=\"data row2 col2\" >35</td>\n      <td id=\"T_6a300_row2_col3\" class=\"data row2 col3\" >-0.9340%</td>\n    </tr>\n    <tr>\n      <th id=\"T_6a300_level0_row3\" class=\"row_heading level0 row3\" >3</th>\n      <td id=\"T_6a300_row3_col0\" class=\"data row3 col0\" >CAMARACLF</td>\n      <td id=\"T_6a300_row3_col1\" class=\"data row3 col1\" >2020-03-05 00:00:00</td>\n      <td id=\"T_6a300_row3_col2\" class=\"data row3 col2\" >64</td>\n      <td id=\"T_6a300_row3_col3\" class=\"data row3 col3\" >-2.1183%</td>\n    </tr>\n    <tr>\n      <th id=\"T_6a300_level0_row4\" class=\"row_heading level0 row4\" >4</th>\n      <td id=\"T_6a300_row4_col0\" class=\"data row4 col0\" >CAMARACLF</td>\n      <td id=\"T_6a300_row4_col1\" class=\"data row4 col1\" >2020-03-05 00:00:00</td>\n      <td id=\"T_6a300_row4_col2\" class=\"data row4 col2\" >96</td>\n      <td id=\"T_6a300_row4_col3\" class=\"data row4 col3\" >-2.0079%</td>\n    </tr>\n    <tr>\n      <th id=\"T_6a300_level0_row5\" class=\"row_heading level0 row5\" >5</th>\n      <td id=\"T_6a300_row5_col0\" class=\"data row5 col0\" >CAMARACLF</td>\n      <td id=\"T_6a300_row5_col1\" class=\"data row5 col1\" >2020-03-05 00:00:00</td>\n      <td id=\"T_6a300_row5_col2\" class=\"data row5 col2\" >126</td>\n      <td id=\"T_6a300_row5_col3\" class=\"data row5 col3\" >-2.0762%</td>\n    </tr>\n    <tr>\n      <th id=\"T_6a300_level0_row6\" class=\"row_heading level0 row6\" >6</th>\n      <td id=\"T_6a300_row6_col0\" class=\"data row6 col0\" >CAMARACLF</td>\n      <td id=\"T_6a300_row6_col1\" class=\"data row6 col1\" >2020-03-05 00:00:00</td>\n      <td id=\"T_6a300_row6_col2\" class=\"data row6 col2\" >155</td>\n      <td id=\"T_6a300_row6_col3\" class=\"data row6 col3\" >-1.9197%</td>\n    </tr>\n    <tr>\n      <th id=\"T_6a300_level0_row7\" class=\"row_heading level0 row7\" >7</th>\n      <td id=\"T_6a300_row7_col0\" class=\"data row7 col0\" >CAMARACLF</td>\n      <td id=\"T_6a300_row7_col1\" class=\"data row7 col1\" >2020-03-05 00:00:00</td>\n      <td id=\"T_6a300_row7_col2\" class=\"data row7 col2\" >188</td>\n      <td id=\"T_6a300_row7_col3\" class=\"data row7 col3\" >-1.9347%</td>\n    </tr>\n    <tr>\n      <th id=\"T_6a300_level0_row8\" class=\"row_heading level0 row8\" >8</th>\n      <td id=\"T_6a300_row8_col0\" class=\"data row8 col0\" >CAMARACLF</td>\n      <td id=\"T_6a300_row8_col1\" class=\"data row8 col1\" >2020-03-05 00:00:00</td>\n      <td id=\"T_6a300_row8_col2\" class=\"data row8 col2\" >218</td>\n      <td id=\"T_6a300_row8_col3\" class=\"data row8 col3\" >-1.7626%</td>\n    </tr>\n    <tr>\n      <th id=\"T_6a300_level0_row9\" class=\"row_heading level0 row9\" >9</th>\n      <td id=\"T_6a300_row9_col0\" class=\"data row9 col0\" >CAMARACLF</td>\n      <td id=\"T_6a300_row9_col1\" class=\"data row9 col1\" >2020-03-05 00:00:00</td>\n      <td id=\"T_6a300_row9_col2\" class=\"data row9 col2\" >249</td>\n      <td id=\"T_6a300_row9_col3\" class=\"data row9 col3\" >-1.7987%</td>\n    </tr>\n    <tr>\n      <th id=\"T_6a300_level0_row10\" class=\"row_heading level0 row10\" >10</th>\n      <td id=\"T_6a300_row10_col0\" class=\"data row10 col0\" >CAMARACLF</td>\n      <td id=\"T_6a300_row10_col1\" class=\"data row10 col1\" >2020-03-05 00:00:00</td>\n      <td id=\"T_6a300_row10_col2\" class=\"data row10 col2\" >279</td>\n      <td id=\"T_6a300_row10_col3\" class=\"data row10 col3\" >-1.9335%</td>\n    </tr>\n    <tr>\n      <th id=\"T_6a300_level0_row11\" class=\"row_heading level0 row11\" >11</th>\n      <td id=\"T_6a300_row11_col0\" class=\"data row11 col0\" >CAMARACLF</td>\n      <td id=\"T_6a300_row11_col1\" class=\"data row11 col1\" >2020-03-05 00:00:00</td>\n      <td id=\"T_6a300_row11_col2\" class=\"data row11 col2\" >309</td>\n      <td id=\"T_6a300_row11_col3\" class=\"data row11 col3\" >-1.8159%</td>\n    </tr>\n    <tr>\n      <th id=\"T_6a300_level0_row12\" class=\"row_heading level0 row12\" >12</th>\n      <td id=\"T_6a300_row12_col0\" class=\"data row12 col0\" >CAMARACLF</td>\n      <td id=\"T_6a300_row12_col1\" class=\"data row12 col1\" >2020-03-05 00:00:00</td>\n      <td id=\"T_6a300_row12_col2\" class=\"data row12 col2\" >341</td>\n      <td id=\"T_6a300_row12_col3\" class=\"data row12 col3\" >-1.5940%</td>\n    </tr>\n    <tr>\n      <th id=\"T_6a300_level0_row13\" class=\"row_heading level0 row13\" >13</th>\n      <td id=\"T_6a300_row13_col0\" class=\"data row13 col0\" >CAMARACLF</td>\n      <td id=\"T_6a300_row13_col1\" class=\"data row13 col1\" >2020-03-05 00:00:00</td>\n      <td id=\"T_6a300_row13_col2\" class=\"data row13 col2\" >369</td>\n      <td id=\"T_6a300_row13_col3\" class=\"data row13 col3\" >-1.5994%</td>\n    </tr>\n    <tr>\n      <th id=\"T_6a300_level0_row14\" class=\"row_heading level0 row14\" >14</th>\n      <td id=\"T_6a300_row14_col0\" class=\"data row14 col0\" >CAMARACLF</td>\n      <td id=\"T_6a300_row14_col1\" class=\"data row14 col1\" >2020-03-05 00:00:00</td>\n      <td id=\"T_6a300_row14_col2\" class=\"data row14 col2\" >400</td>\n      <td id=\"T_6a300_row14_col3\" class=\"data row14 col3\" >-1.5068%</td>\n    </tr>\n    <tr>\n      <th id=\"T_6a300_level0_row15\" class=\"row_heading level0 row15\" >15</th>\n      <td id=\"T_6a300_row15_col0\" class=\"data row15 col0\" >CAMARACLF</td>\n      <td id=\"T_6a300_row15_col1\" class=\"data row15 col1\" >2020-03-05 00:00:00</td>\n      <td id=\"T_6a300_row15_col2\" class=\"data row15 col2\" >428</td>\n      <td id=\"T_6a300_row15_col3\" class=\"data row15 col3\" >-1.6115%</td>\n    </tr>\n    <tr>\n      <th id=\"T_6a300_level0_row16\" class=\"row_heading level0 row16\" >16</th>\n      <td id=\"T_6a300_row16_col0\" class=\"data row16 col0\" >CAMARACLF</td>\n      <td id=\"T_6a300_row16_col1\" class=\"data row16 col1\" >2020-03-05 00:00:00</td>\n      <td id=\"T_6a300_row16_col2\" class=\"data row16 col2\" >461</td>\n      <td id=\"T_6a300_row16_col3\" class=\"data row16 col3\" >-1.5923%</td>\n    </tr>\n    <tr>\n      <th id=\"T_6a300_level0_row17\" class=\"row_heading level0 row17\" >17</th>\n      <td id=\"T_6a300_row17_col0\" class=\"data row17 col0\" >CAMARACLF</td>\n      <td id=\"T_6a300_row17_col1\" class=\"data row17 col1\" >2020-03-05 00:00:00</td>\n      <td id=\"T_6a300_row17_col2\" class=\"data row17 col2\" >491</td>\n      <td id=\"T_6a300_row17_col3\" class=\"data row17 col3\" >-1.5780%</td>\n    </tr>\n    <tr>\n      <th id=\"T_6a300_level0_row18\" class=\"row_heading level0 row18\" >18</th>\n      <td id=\"T_6a300_row18_col0\" class=\"data row18 col0\" >CAMARACLF</td>\n      <td id=\"T_6a300_row18_col1\" class=\"data row18 col1\" >2020-03-05 00:00:00</td>\n      <td id=\"T_6a300_row18_col2\" class=\"data row18 col2\" >522</td>\n      <td id=\"T_6a300_row18_col3\" class=\"data row18 col3\" >-1.5186%</td>\n    </tr>\n    <tr>\n      <th id=\"T_6a300_level0_row19\" class=\"row_heading level0 row19\" >19</th>\n      <td id=\"T_6a300_row19_col0\" class=\"data row19 col0\" >CAMARACLF</td>\n      <td id=\"T_6a300_row19_col1\" class=\"data row19 col1\" >2020-03-05 00:00:00</td>\n      <td id=\"T_6a300_row19_col2\" class=\"data row19 col2\" >553</td>\n      <td id=\"T_6a300_row19_col3\" class=\"data row19 col3\" >-1.5533%</td>\n    </tr>\n    <tr>\n      <th id=\"T_6a300_level0_row20\" class=\"row_heading level0 row20\" >20</th>\n      <td id=\"T_6a300_row20_col0\" class=\"data row20 col0\" >CAMARACLF</td>\n      <td id=\"T_6a300_row20_col1\" class=\"data row20 col1\" >2020-03-05 00:00:00</td>\n      <td id=\"T_6a300_row20_col2\" class=\"data row20 col2\" >582</td>\n      <td id=\"T_6a300_row20_col3\" class=\"data row20 col3\" >-1.5649%</td>\n    </tr>\n    <tr>\n      <th id=\"T_6a300_level0_row21\" class=\"row_heading level0 row21\" >21</th>\n      <td id=\"T_6a300_row21_col0\" class=\"data row21 col0\" >CAMARACLF</td>\n      <td id=\"T_6a300_row21_col1\" class=\"data row21 col1\" >2020-03-05 00:00:00</td>\n      <td id=\"T_6a300_row21_col2\" class=\"data row21 col2\" >734</td>\n      <td id=\"T_6a300_row21_col3\" class=\"data row21 col3\" >-1.6594%</td>\n    </tr>\n    <tr>\n      <th id=\"T_6a300_level0_row22\" class=\"row_heading level0 row22\" >22</th>\n      <td id=\"T_6a300_row22_col0\" class=\"data row22 col0\" >CAMARACLF</td>\n      <td id=\"T_6a300_row22_col1\" class=\"data row22 col1\" >2020-03-05 00:00:00</td>\n      <td id=\"T_6a300_row22_col2\" class=\"data row22 col2\" >1099</td>\n      <td id=\"T_6a300_row22_col3\" class=\"data row22 col3\" >-1.4881%</td>\n    </tr>\n    <tr>\n      <th id=\"T_6a300_level0_row23\" class=\"row_heading level0 row23\" >23</th>\n      <td id=\"T_6a300_row23_col0\" class=\"data row23 col0\" >CAMARACLF</td>\n      <td id=\"T_6a300_row23_col1\" class=\"data row23 col1\" >2020-03-05 00:00:00</td>\n      <td id=\"T_6a300_row23_col2\" class=\"data row23 col2\" >1465</td>\n      <td id=\"T_6a300_row23_col3\" class=\"data row23 col3\" >-1.2740%</td>\n    </tr>\n    <tr>\n      <th id=\"T_6a300_level0_row24\" class=\"row_heading level0 row24\" >24</th>\n      <td id=\"T_6a300_row24_col0\" class=\"data row24 col0\" >CAMARACLF</td>\n      <td id=\"T_6a300_row24_col1\" class=\"data row24 col1\" >2020-03-05 00:00:00</td>\n      <td id=\"T_6a300_row24_col2\" class=\"data row24 col2\" >1830</td>\n      <td id=\"T_6a300_row24_col3\" class=\"data row24 col3\" >-1.0201%</td>\n    </tr>\n    <tr>\n      <th id=\"T_6a300_level0_row25\" class=\"row_heading level0 row25\" >25</th>\n      <td id=\"T_6a300_row25_col0\" class=\"data row25 col0\" >CAMARACLF</td>\n      <td id=\"T_6a300_row25_col1\" class=\"data row25 col1\" >2020-03-05 00:00:00</td>\n      <td id=\"T_6a300_row25_col2\" class=\"data row25 col2\" >2195</td>\n      <td id=\"T_6a300_row25_col3\" class=\"data row25 col3\" >-0.8009%</td>\n    </tr>\n    <tr>\n      <th id=\"T_6a300_level0_row26\" class=\"row_heading level0 row26\" >26</th>\n      <td id=\"T_6a300_row26_col0\" class=\"data row26 col0\" >CAMARACLF</td>\n      <td id=\"T_6a300_row26_col1\" class=\"data row26 col1\" >2020-03-05 00:00:00</td>\n      <td id=\"T_6a300_row26_col2\" class=\"data row26 col2\" >2560</td>\n      <td id=\"T_6a300_row26_col3\" class=\"data row26 col3\" >-0.5868%</td>\n    </tr>\n    <tr>\n      <th id=\"T_6a300_level0_row27\" class=\"row_heading level0 row27\" >27</th>\n      <td id=\"T_6a300_row27_col0\" class=\"data row27 col0\" >CAMARACLF</td>\n      <td id=\"T_6a300_row27_col1\" class=\"data row27 col1\" >2020-03-05 00:00:00</td>\n      <td id=\"T_6a300_row27_col2\" class=\"data row27 col2\" >2926</td>\n      <td id=\"T_6a300_row27_col3\" class=\"data row27 col3\" >-0.4145%</td>\n    </tr>\n    <tr>\n      <th id=\"T_6a300_level0_row28\" class=\"row_heading level0 row28\" >28</th>\n      <td id=\"T_6a300_row28_col0\" class=\"data row28 col0\" >CAMARACLF</td>\n      <td id=\"T_6a300_row28_col1\" class=\"data row28 col1\" >2020-03-05 00:00:00</td>\n      <td id=\"T_6a300_row28_col2\" class=\"data row28 col2\" >3291</td>\n      <td id=\"T_6a300_row28_col3\" class=\"data row28 col3\" >-0.3047%</td>\n    </tr>\n    <tr>\n      <th id=\"T_6a300_level0_row29\" class=\"row_heading level0 row29\" >29</th>\n      <td id=\"T_6a300_row29_col0\" class=\"data row29 col0\" >CAMARACLF</td>\n      <td id=\"T_6a300_row29_col1\" class=\"data row29 col1\" >2020-03-05 00:00:00</td>\n      <td id=\"T_6a300_row29_col2\" class=\"data row29 col2\" >3656</td>\n      <td id=\"T_6a300_row29_col3\" class=\"data row29 col3\" >-0.2242%</td>\n    </tr>\n    <tr>\n      <th id=\"T_6a300_level0_row30\" class=\"row_heading level0 row30\" >30</th>\n      <td id=\"T_6a300_row30_col0\" class=\"data row30 col0\" >CAMARACLF</td>\n      <td id=\"T_6a300_row30_col1\" class=\"data row30 col1\" >2020-03-05 00:00:00</td>\n      <td id=\"T_6a300_row30_col2\" class=\"data row30 col2\" >4387</td>\n      <td id=\"T_6a300_row30_col3\" class=\"data row30 col3\" >-0.1871%</td>\n    </tr>\n    <tr>\n      <th id=\"T_6a300_level0_row31\" class=\"row_heading level0 row31\" >31</th>\n      <td id=\"T_6a300_row31_col0\" class=\"data row31 col0\" >CAMARACLF</td>\n      <td id=\"T_6a300_row31_col1\" class=\"data row31 col1\" >2020-03-05 00:00:00</td>\n      <td id=\"T_6a300_row31_col2\" class=\"data row31 col2\" >5482</td>\n      <td id=\"T_6a300_row31_col3\" class=\"data row31 col3\" >-0.1056%</td>\n    </tr>\n    <tr>\n      <th id=\"T_6a300_level0_row32\" class=\"row_heading level0 row32\" >32</th>\n      <td id=\"T_6a300_row32_col0\" class=\"data row32 col0\" >CAMARACLF</td>\n      <td id=\"T_6a300_row32_col1\" class=\"data row32 col1\" >2020-03-05 00:00:00</td>\n      <td id=\"T_6a300_row32_col2\" class=\"data row32 col2\" >7309</td>\n      <td id=\"T_6a300_row32_col3\" class=\"data row32 col3\" >-0.0639%</td>\n    </tr>\n  </tbody>\n</table>\n"
     },
     "execution_count": 50,
     "metadata": {},
     "output_type": "execute_result"
    }
   ],
   "source": [
    "curva_camara_clf = pd.read_excel(\"./input/curva_clf.xlsx\")\n",
    "curva_camara_clf.style.format({\"tasa\": \"{0:,.4%}\"})"
   ]
  },
  {
   "cell_type": "code",
   "execution_count": 51,
   "metadata": {
    "execution": {
     "iopub.execute_input": "2023-10-16T14:40:44.712782Z",
     "iopub.status.busy": "2023-10-16T14:40:44.712556Z",
     "iopub.status.idle": "2023-10-16T14:40:44.715387Z",
     "shell.execute_reply": "2023-10-16T14:40:44.715137Z",
     "shell.execute_reply.started": "2023-10-16T14:40:44.712775Z"
    },
    "ExecuteTime": {
     "end_time": "2023-12-19T16:09:19.279786Z",
     "start_time": "2023-12-19T16:09:19.221569Z"
    }
   },
   "outputs": [],
   "source": [
    "lvec3 = qcf.long_vec()\n",
    "vec3 = qcf.double_vec()\n",
    "for index, row in curva_camara_clf.iterrows():\n",
    "    lvec3.append(int(row['plazo']))\n",
    "    vec3.append(row['tasa'])\n",
    "\n",
    "zcc3 = qcf.QCCurve(lvec3, vec3)\n",
    "lin3 = qcf.QCLinearInterpolator(zcc3)\n",
    "zz3 = qcf.ZeroCouponCurve(lin3, tasa)"
   ]
  },
  {
   "cell_type": "markdown",
   "metadata": {},
   "source": [
    "#### Curvas para Sensibilidad"
   ]
  },
  {
   "cell_type": "markdown",
   "metadata": {},
   "source": [
    "Se define que vértice de la curva se quiere desplazar."
   ]
  },
  {
   "cell_type": "code",
   "execution_count": 53,
   "metadata": {
    "execution": {
     "iopub.execute_input": "2023-10-16T14:40:44.715866Z",
     "iopub.status.busy": "2023-10-16T14:40:44.715776Z",
     "iopub.status.idle": "2023-10-16T14:40:44.718198Z",
     "shell.execute_reply": "2023-10-16T14:40:44.717856Z",
     "shell.execute_reply.started": "2023-10-16T14:40:44.715860Z"
    },
    "ExecuteTime": {
     "end_time": "2023-12-19T16:09:27.266276Z",
     "start_time": "2023-12-19T16:09:27.223743Z"
    }
   },
   "outputs": [],
   "source": [
    "vertice = 13"
   ]
  },
  {
   "cell_type": "markdown",
   "metadata": {},
   "source": [
    "Se construyen las curvas con ese vértice 1 punto básico más arriba y 1 punto básico más abajo."
   ]
  },
  {
   "cell_type": "code",
   "execution_count": 54,
   "metadata": {
    "execution": {
     "iopub.execute_input": "2023-10-16T14:40:44.718584Z",
     "iopub.status.busy": "2023-10-16T14:40:44.718470Z",
     "iopub.status.idle": "2023-10-16T14:40:44.721496Z",
     "shell.execute_reply": "2023-10-16T14:40:44.721232Z",
     "shell.execute_reply.started": "2023-10-16T14:40:44.718572Z"
    },
    "ExecuteTime": {
     "end_time": "2023-12-19T16:09:28.185960Z",
     "start_time": "2023-12-19T16:09:28.147053Z"
    }
   },
   "outputs": [],
   "source": [
    "bp = .0001\n",
    "vec_sens_up = qcf.double_vec()\n",
    "vec_sens_down = qcf.double_vec()\n",
    "for index, row in curva.iterrows():\n",
    "    if index == vertice:\n",
    "        vec_sens_up.append(row['tasa'] + bp)\n",
    "        vec_sens_down.append(row['tasa'] - bp)\n",
    "    else:\n",
    "        vec_sens_up.append(row['tasa'])\n",
    "        vec_sens_down.append(row['tasa'])\n",
    "\n",
    "zcc_sens_up = qcf.QCCurve(lvec1, vec_sens_up)\n",
    "lin_sens_up = qcf.QCLinearInterpolator(zcc_sens_up)\n",
    "zz_sens_up = qcf.ZeroCouponCurve(lin_sens_up, tasa)\n",
    "\n",
    "zcc_sens_down = qcf.QCCurve(lvec1, vec_sens_down)\n",
    "lin_sens_down = qcf.QCLinearInterpolator(zcc_sens_down)\n",
    "zz_sens_down = qcf.ZeroCouponCurve(lin_sens_down, tasa)"
   ]
  },
  {
   "cell_type": "code",
   "execution_count": 55,
   "metadata": {
    "execution": {
     "iopub.execute_input": "2023-10-16T14:40:44.721819Z",
     "iopub.status.busy": "2023-10-16T14:40:44.721760Z",
     "iopub.status.idle": "2023-10-16T14:40:44.724751Z",
     "shell.execute_reply": "2023-10-16T14:40:44.724488Z",
     "shell.execute_reply.started": "2023-10-16T14:40:44.721812Z"
    },
    "ExecuteTime": {
     "end_time": "2023-12-19T16:09:30.069042Z",
     "start_time": "2023-12-19T16:09:30.030743Z"
    }
   },
   "outputs": [],
   "source": [
    "vec2_sens_up = qcf.double_vec()\n",
    "vec2_sens_down = qcf.double_vec()\n",
    "for index, row in curva_libor.iterrows():\n",
    "    if index == vertice:\n",
    "        vec2_sens_up.append(row['tasa'] + bp)\n",
    "        vec2_sens_down.append(row['tasa'] - bp)\n",
    "    else:\n",
    "        vec2_sens_up.append(row['tasa'])\n",
    "        vec2_sens_down.append(row['tasa'])\n",
    "\n",
    "zcc2_sens_up = qcf.QCCurve(lvec2, vec2_sens_up)\n",
    "lin2_sens_up = qcf.QCLinearInterpolator(zcc2_sens_up)\n",
    "zz2_sens_up = qcf.ZeroCouponCurve(lin2_sens_up, tasa)\n",
    "\n",
    "zcc2_sens_down = qcf.QCCurve(lvec2, vec2_sens_down)\n",
    "lin2_sens_down = qcf.QCLinearInterpolator(zcc2_sens_down)\n",
    "zz2_sens_down = qcf.ZeroCouponCurve(lin2_sens_down, tasa)"
   ]
  },
  {
   "cell_type": "code",
   "execution_count": 56,
   "metadata": {
    "execution": {
     "iopub.execute_input": "2023-10-16T14:40:44.725358Z",
     "iopub.status.busy": "2023-10-16T14:40:44.725243Z",
     "iopub.status.idle": "2023-10-16T14:40:44.728391Z",
     "shell.execute_reply": "2023-10-16T14:40:44.728097Z",
     "shell.execute_reply.started": "2023-10-16T14:40:44.725348Z"
    },
    "ExecuteTime": {
     "end_time": "2023-12-19T16:09:31.687794Z",
     "start_time": "2023-12-19T16:09:31.649706Z"
    }
   },
   "outputs": [],
   "source": [
    "vec3_sens_up = qcf.double_vec()\n",
    "vec3_sens_down = qcf.double_vec()\n",
    "for index, row in curva_camara_clf.iterrows():\n",
    "    if index == vertice:\n",
    "        vec3_sens_up.append(row['tasa'] + bp)\n",
    "        vec3_sens_down.append(row['tasa'] - bp)\n",
    "    else:\n",
    "        vec3_sens_up.append(row['tasa'])\n",
    "        vec3_sens_down.append(row['tasa'])\n",
    "\n",
    "zcc3_sens_up = qcf.QCCurve(lvec3, vec3_sens_up)\n",
    "lin3_sens_up = qcf.QCLinearInterpolator(zcc3_sens_up)\n",
    "zz3_sens_up = qcf.ZeroCouponCurve(lin3_sens_up, tasa)\n",
    "\n",
    "zcc3_sens_down = qcf.QCCurve(lvec3, vec3_sens_down)\n",
    "lin3_sens_down = qcf.QCLinearInterpolator(zcc3_sens_down)\n",
    "zz3_sens_down = qcf.ZeroCouponCurve(lin3_sens_down, tasa)"
   ]
  },
  {
   "cell_type": "markdown",
   "metadata": {},
   "source": [
    "### FixedRateCashflow Leg"
   ]
  },
  {
   "cell_type": "markdown",
   "metadata": {},
   "source": [
    "Se da de alta una pata fija:"
   ]
  },
  {
   "cell_type": "code",
   "execution_count": 57,
   "metadata": {
    "execution": {
     "iopub.execute_input": "2023-10-16T14:40:44.728867Z",
     "iopub.status.busy": "2023-10-16T14:40:44.728774Z",
     "iopub.status.idle": "2023-10-16T14:40:44.731323Z",
     "shell.execute_reply": "2023-10-16T14:40:44.731054Z",
     "shell.execute_reply.started": "2023-10-16T14:40:44.728861Z"
    },
    "ExecuteTime": {
     "end_time": "2023-12-19T16:09:33.304919Z",
     "start_time": "2023-12-19T16:09:33.264734Z"
    }
   },
   "outputs": [],
   "source": [
    "# Se da de alta los parámetros requeridos\n",
    "rp = qcf.RecPay.RECEIVE\n",
    "fecha_inicio = qcf.QCDate(12, 11, 2019)\n",
    "fecha_final = qcf.QCDate(12, 11, 2020)\n",
    "bus_adj_rule = qcf.BusyAdjRules.MODFOLLOW\n",
    "periodicidad = qcf.Tenor('6M')\n",
    "periodo_irregular = qcf.StubPeriod.SHORTFRONT\n",
    "calendario = qcf.BusinessCalendar(fecha_inicio, 20)\n",
    "lag_pago = 0\n",
    "nominal = 20_000_000.0\n",
    "amort_es_flujo = True\n",
    "valor_tasa_fija = .01774\n",
    "tasa_cupon = qcf.QCInterestRate(\n",
    "    valor_tasa_fija, \n",
    "    qcf.QC30360(), \n",
    "    qcf.QCLinearWf()\n",
    ")\n",
    "moneda = qcf.QCUSD()\n",
    "es_bono = False\n",
    "\n",
    "# Se da de alta el objeto\n",
    "fixed_rate_leg = qcf.LegFactory.build_bullet_fixed_rate_leg(\n",
    "    rp,\n",
    "    fecha_inicio,\n",
    "    fecha_final,\n",
    "    bus_adj_rule,\n",
    "    periodicidad,\n",
    "    periodo_irregular,\n",
    "    calendario,\n",
    "    lag_pago,\n",
    "    nominal,\n",
    "    amort_es_flujo,\n",
    "    tasa_cupon,\n",
    "    moneda,\n",
    "    es_bono\n",
    ")"
   ]
  },
  {
   "cell_type": "code",
   "execution_count": 58,
   "metadata": {
    "execution": {
     "iopub.execute_input": "2023-10-16T14:40:44.731674Z",
     "iopub.status.busy": "2023-10-16T14:40:44.731608Z",
     "iopub.status.idle": "2023-10-16T14:40:44.735646Z",
     "shell.execute_reply": "2023-10-16T14:40:44.735398Z",
     "shell.execute_reply.started": "2023-10-16T14:40:44.731668Z"
    },
    "ExecuteTime": {
     "end_time": "2023-12-19T16:09:34.051636Z",
     "start_time": "2023-12-19T16:09:34.013841Z"
    }
   },
   "outputs": [
    {
     "data": {
      "text/plain": "<pandas.io.formats.style.Styler at 0x12749d0d0>",
      "text/html": "<style type=\"text/css\">\n</style>\n<table id=\"T_5ab7f\">\n  <thead>\n    <tr>\n      <th class=\"blank level0\" >&nbsp;</th>\n      <th id=\"T_5ab7f_level0_col0\" class=\"col_heading level0 col0\" >fecha_inicial</th>\n      <th id=\"T_5ab7f_level0_col1\" class=\"col_heading level0 col1\" >fecha_final</th>\n      <th id=\"T_5ab7f_level0_col2\" class=\"col_heading level0 col2\" >fecha_pago</th>\n      <th id=\"T_5ab7f_level0_col3\" class=\"col_heading level0 col3\" >nominal</th>\n      <th id=\"T_5ab7f_level0_col4\" class=\"col_heading level0 col4\" >amortizacion</th>\n      <th id=\"T_5ab7f_level0_col5\" class=\"col_heading level0 col5\" >interes</th>\n      <th id=\"T_5ab7f_level0_col6\" class=\"col_heading level0 col6\" >amort_es_flujo</th>\n      <th id=\"T_5ab7f_level0_col7\" class=\"col_heading level0 col7\" >flujo</th>\n      <th id=\"T_5ab7f_level0_col8\" class=\"col_heading level0 col8\" >moneda</th>\n      <th id=\"T_5ab7f_level0_col9\" class=\"col_heading level0 col9\" >valor_tasa</th>\n      <th id=\"T_5ab7f_level0_col10\" class=\"col_heading level0 col10\" >tipo_tasa</th>\n    </tr>\n  </thead>\n  <tbody>\n    <tr>\n      <th id=\"T_5ab7f_level0_row0\" class=\"row_heading level0 row0\" >0</th>\n      <td id=\"T_5ab7f_row0_col0\" class=\"data row0 col0\" >2019-11-12</td>\n      <td id=\"T_5ab7f_row0_col1\" class=\"data row0 col1\" >2020-05-12</td>\n      <td id=\"T_5ab7f_row0_col2\" class=\"data row0 col2\" >2020-05-12</td>\n      <td id=\"T_5ab7f_row0_col3\" class=\"data row0 col3\" >20,000,000.00</td>\n      <td id=\"T_5ab7f_row0_col4\" class=\"data row0 col4\" >0.00</td>\n      <td id=\"T_5ab7f_row0_col5\" class=\"data row0 col5\" >177,400.00</td>\n      <td id=\"T_5ab7f_row0_col6\" class=\"data row0 col6\" >True</td>\n      <td id=\"T_5ab7f_row0_col7\" class=\"data row0 col7\" >177,400.00</td>\n      <td id=\"T_5ab7f_row0_col8\" class=\"data row0 col8\" >USD</td>\n      <td id=\"T_5ab7f_row0_col9\" class=\"data row0 col9\" >1.7740%</td>\n      <td id=\"T_5ab7f_row0_col10\" class=\"data row0 col10\" >Lin30360</td>\n    </tr>\n    <tr>\n      <th id=\"T_5ab7f_level0_row1\" class=\"row_heading level0 row1\" >1</th>\n      <td id=\"T_5ab7f_row1_col0\" class=\"data row1 col0\" >2020-05-12</td>\n      <td id=\"T_5ab7f_row1_col1\" class=\"data row1 col1\" >2020-11-12</td>\n      <td id=\"T_5ab7f_row1_col2\" class=\"data row1 col2\" >2020-11-12</td>\n      <td id=\"T_5ab7f_row1_col3\" class=\"data row1 col3\" >20,000,000.00</td>\n      <td id=\"T_5ab7f_row1_col4\" class=\"data row1 col4\" >20,000,000.00</td>\n      <td id=\"T_5ab7f_row1_col5\" class=\"data row1 col5\" >177,400.00</td>\n      <td id=\"T_5ab7f_row1_col6\" class=\"data row1 col6\" >True</td>\n      <td id=\"T_5ab7f_row1_col7\" class=\"data row1 col7\" >20,177,400.00</td>\n      <td id=\"T_5ab7f_row1_col8\" class=\"data row1 col8\" >USD</td>\n      <td id=\"T_5ab7f_row1_col9\" class=\"data row1 col9\" >1.7740%</td>\n      <td id=\"T_5ab7f_row1_col10\" class=\"data row1 col10\" >Lin30360</td>\n    </tr>\n  </tbody>\n</table>\n"
     },
     "execution_count": 58,
     "metadata": {},
     "output_type": "execute_result"
    }
   ],
   "source": [
    "# Se define un list donde almacenar los resultados de la función show\n",
    "tabla = []\n",
    "for i in range(0, fixed_rate_leg.size()):\n",
    "    tabla.append(qcf.show(fixed_rate_leg.get_cashflow_at(i)))\n",
    "\n",
    "# Se utiliza tabla para inicializar el Dataframe\n",
    "columnas = list(qcf.get_column_names(\"FixedRateCashflow\", \"\"))\n",
    "df = pd.DataFrame(tabla, columns=columnas)\n",
    "\n",
    "# Se despliega la data en este formato\n",
    "df.style.format(format_dict)"
   ]
  },
  {
   "cell_type": "markdown",
   "metadata": {},
   "source": [
    "Se calcula ahora el valor presente:"
   ]
  },
  {
   "cell_type": "code",
   "execution_count": 59,
   "metadata": {
    "execution": {
     "iopub.execute_input": "2023-10-16T14:40:44.736168Z",
     "iopub.status.busy": "2023-10-16T14:40:44.736036Z",
     "iopub.status.idle": "2023-10-16T14:40:44.737952Z",
     "shell.execute_reply": "2023-10-16T14:40:44.737646Z",
     "shell.execute_reply.started": "2023-10-16T14:40:44.736162Z"
    },
    "ExecuteTime": {
     "end_time": "2023-12-19T16:09:35.054192Z",
     "start_time": "2023-12-19T16:09:35.005479Z"
    }
   },
   "outputs": [
    {
     "name": "stdout",
     "output_type": "stream",
     "text": [
      "Valor presente de la pata fija es: 20,072,981\n"
     ]
    }
   ],
   "source": [
    "vp_fija = pv.pv(fecha_hoy, fixed_rate_leg, zz2)\n",
    "print(\"Valor presente de la pata fija es: {0:,.0f}\".format(vp_fija))"
   ]
  },
  {
   "cell_type": "markdown",
   "metadata": {},
   "source": [
    "Al calcular el valor presente, también se calculan las derivadas del valor presente respecto a cada uno de los vértices de la curva."
   ]
  },
  {
   "cell_type": "code",
   "execution_count": 60,
   "metadata": {
    "execution": {
     "iopub.execute_input": "2023-10-16T14:40:44.738336Z",
     "iopub.status.busy": "2023-10-16T14:40:44.738264Z",
     "iopub.status.idle": "2023-10-16T14:40:44.740160Z",
     "shell.execute_reply": "2023-10-16T14:40:44.739808Z",
     "shell.execute_reply.started": "2023-10-16T14:40:44.738330Z"
    },
    "ExecuteTime": {
     "end_time": "2023-12-19T16:09:36.058933Z",
     "start_time": "2023-12-19T16:09:35.996368Z"
    }
   },
   "outputs": [],
   "source": [
    "der = pv.get_derivatives()"
   ]
  },
  {
   "cell_type": "markdown",
   "metadata": {},
   "source": [
    "Con esas derivadas, se puede calcular la sensibilidad a la curva cupón cero a un movimiento de 1 punto básico."
   ]
  },
  {
   "cell_type": "code",
   "execution_count": 61,
   "metadata": {
    "execution": {
     "iopub.execute_input": "2023-10-16T14:40:44.740594Z",
     "iopub.status.busy": "2023-10-16T14:40:44.740495Z",
     "iopub.status.idle": "2023-10-16T14:40:44.743204Z",
     "shell.execute_reply": "2023-10-16T14:40:44.742979Z",
     "shell.execute_reply.started": "2023-10-16T14:40:44.740587Z"
    },
    "ExecuteTime": {
     "end_time": "2023-12-19T16:09:36.840368Z",
     "start_time": "2023-12-19T16:09:36.783043Z"
    }
   },
   "outputs": [
    {
     "name": "stdout",
     "output_type": "stream",
     "text": [
      "Sensibilidad en 0: 0\n",
      "Sensibilidad en 1: 0\n",
      "Sensibilidad en 2: 0\n",
      "Sensibilidad en 3: 0\n",
      "Sensibilidad en 4: 0\n",
      "Sensibilidad en 5: 0\n",
      "Sensibilidad en 6: -1\n",
      "Sensibilidad en 7: -4\n",
      "Sensibilidad en 8: 0\n",
      "Sensibilidad en 9: 0\n",
      "Sensibilidad en 10: 0\n",
      "Sensibilidad en 11: 0\n",
      "Sensibilidad en 12: -282\n",
      "Sensibilidad en 13: -1,353\n",
      "Sensibilidad en 14: 0\n",
      "Sensibilidad en 15: 0\n",
      "Sensibilidad en 16: 0\n",
      "Sensibilidad en 17: 0\n",
      "Sensibilidad en 18: 0\n",
      "Sensibilidad en 19: 0\n",
      "Sensibilidad en 20: 0\n",
      "Sensibilidad en 21: 0\n",
      "Sensibilidad en 22: 0\n",
      "Sensibilidad en 23: 0\n",
      "Sensibilidad en 24: 0\n",
      "Sensibilidad en 25: 0\n",
      "Sensibilidad en 26: 0\n",
      "Sensibilidad en 27: 0\n",
      "Sensibilidad total: -1,641\n"
     ]
    }
   ],
   "source": [
    "i = 0\n",
    "bp = .0001\n",
    "total = 0\n",
    "for d in der:\n",
    "    total += d * bp\n",
    "    print(\"Sensibilidad en {0:}: {1:0,.0f}\".format(i, d * bp))\n",
    "    i += 1\n",
    "print(\"Sensibilidad total: {0:,.0f}\".format(total))"
   ]
  },
  {
   "cell_type": "markdown",
   "metadata": {},
   "source": [
    "Se puede verificar la sensibilidad por diferencias finitas."
   ]
  },
  {
   "cell_type": "markdown",
   "metadata": {},
   "source": [
    "Se calcula el valor presente con las curvas desplazadas."
   ]
  },
  {
   "cell_type": "code",
   "execution_count": 62,
   "metadata": {
    "execution": {
     "iopub.execute_input": "2023-10-16T14:40:44.743771Z",
     "iopub.status.busy": "2023-10-16T14:40:44.743652Z",
     "iopub.status.idle": "2023-10-16T14:40:44.745692Z",
     "shell.execute_reply": "2023-10-16T14:40:44.745470Z",
     "shell.execute_reply.started": "2023-10-16T14:40:44.743761Z"
    },
    "ExecuteTime": {
     "end_time": "2023-12-19T16:09:38.241682Z",
     "start_time": "2023-12-19T16:09:38.205322Z"
    }
   },
   "outputs": [
    {
     "name": "stdout",
     "output_type": "stream",
     "text": [
      "Valor presente up de la pata fija es: 20,071,628\n",
      "Valor presente down de la pata fija es: 20,074,334\n"
     ]
    }
   ],
   "source": [
    "vp_fija_sens_up = pv.pv(fecha_hoy, fixed_rate_leg, zz2_sens_up)\n",
    "vp_fija_sens_down = pv.pv(fecha_hoy, fixed_rate_leg, zz2_sens_down)\n",
    "print(\"Valor presente up de la pata fija es: {0:,.0f}\".format(vp_fija_sens_up))\n",
    "print(\"Valor presente down de la pata fija es: {0:,.0f}\".format(\n",
    "    vp_fija_sens_down))"
   ]
  },
  {
   "cell_type": "markdown",
   "metadata": {},
   "source": [
    "Finalmente, se calcula la sensibilidad (usando la aproximación central por diferencias finitas)."
   ]
  },
  {
   "cell_type": "code",
   "execution_count": 63,
   "metadata": {
    "execution": {
     "iopub.execute_input": "2023-10-16T14:40:44.746207Z",
     "iopub.status.busy": "2023-10-16T14:40:44.746096Z",
     "iopub.status.idle": "2023-10-16T14:40:44.747971Z",
     "shell.execute_reply": "2023-10-16T14:40:44.747737Z",
     "shell.execute_reply.started": "2023-10-16T14:40:44.746196Z"
    },
    "ExecuteTime": {
     "end_time": "2023-12-19T16:09:39.039448Z",
     "start_time": "2023-12-19T16:09:38.997878Z"
    }
   },
   "outputs": [
    {
     "name": "stdout",
     "output_type": "stream",
     "text": [
      "Sensibilidad por diferencias finitas: -1,353\n"
     ]
    }
   ],
   "source": [
    "print(\"Sensibilidad por diferencias finitas: {0:,.0f}\".format(\n",
    "    (vp_fija_sens_up - vp_fija_sens_down) / 2))"
   ]
  },
  {
   "cell_type": "markdown",
   "metadata": {},
   "source": [
    "Tanto el VP como la sensibilidad coinciden con lo que muestra FD en la pata fija de la operación 2879."
   ]
  },
  {
   "cell_type": "markdown",
   "metadata": {},
   "source": [
    "### IcpClpCashflow2 Leg"
   ]
  },
  {
   "cell_type": "code",
   "execution_count": 64,
   "metadata": {
    "execution": {
     "iopub.execute_input": "2023-10-16T14:40:44.748406Z",
     "iopub.status.busy": "2023-10-16T14:40:44.748349Z",
     "iopub.status.idle": "2023-10-16T14:40:44.750668Z",
     "shell.execute_reply": "2023-10-16T14:40:44.750454Z",
     "shell.execute_reply.started": "2023-10-16T14:40:44.748400Z"
    },
    "ExecuteTime": {
     "end_time": "2023-12-19T16:09:42.568516Z",
     "start_time": "2023-12-19T16:09:42.536454Z"
    }
   },
   "outputs": [],
   "source": [
    "# Se da de alta los parámetros requeridos\n",
    "rp = qcf.RecPay.RECEIVE\n",
    "fecha_inicio = qcf.QCDate(10,1,2019)\n",
    "fecha_final = qcf.QCDate(10,7,2029)\n",
    "bus_adj_rule = qcf.BusyAdjRules.FOLLOW\n",
    "periodicidad_pago = qcf.Tenor('2Y')\n",
    "periodo_irregular_pago = qcf.StubPeriod.SHORTFRONT\n",
    "calendario = qcf.BusinessCalendar(fecha_inicio, 20)\n",
    "lag_pago = 0\n",
    "nominal = 38_000_000_000.0\n",
    "amort_es_flujo = True\n",
    "spread = .0\n",
    "gearing = 1.0\n",
    "\n",
    "icp_clp2_leg = qcf.LegFactory.build_bullet_icp_clp2_leg(\n",
    "    rp,\n",
    "    fecha_inicio,\n",
    "    fecha_final,\n",
    "    bus_adj_rule,\n",
    "    periodicidad_pago,\n",
    "    periodo_irregular_pago,\n",
    "    calendario,\n",
    "    lag_pago,\n",
    "    nominal,\n",
    "    amort_es_flujo,\n",
    "    spread,\n",
    "    gearing,\n",
    "    True\n",
    ")"
   ]
  },
  {
   "cell_type": "code",
   "execution_count": 65,
   "metadata": {
    "execution": {
     "iopub.execute_input": "2023-10-16T14:40:44.751210Z",
     "iopub.status.busy": "2023-10-16T14:40:44.751006Z",
     "iopub.status.idle": "2023-10-16T14:40:44.756597Z",
     "shell.execute_reply": "2023-10-16T14:40:44.756380Z",
     "shell.execute_reply.started": "2023-10-16T14:40:44.751203Z"
    },
    "ExecuteTime": {
     "end_time": "2023-12-19T16:09:43.480564Z",
     "start_time": "2023-12-19T16:09:43.445913Z"
    }
   },
   "outputs": [
    {
     "data": {
      "text/plain": "<pandas.io.formats.style.Styler at 0x1273aaed0>",
      "text/html": "<style type=\"text/css\">\n</style>\n<table id=\"T_48878\">\n  <thead>\n    <tr>\n      <th class=\"blank level0\" >&nbsp;</th>\n      <th id=\"T_48878_level0_col0\" class=\"col_heading level0 col0\" >fecha_inicial</th>\n      <th id=\"T_48878_level0_col1\" class=\"col_heading level0 col1\" >fecha_final</th>\n      <th id=\"T_48878_level0_col2\" class=\"col_heading level0 col2\" >fecha_pago</th>\n      <th id=\"T_48878_level0_col3\" class=\"col_heading level0 col3\" >nominal</th>\n      <th id=\"T_48878_level0_col4\" class=\"col_heading level0 col4\" >amortizacion</th>\n      <th id=\"T_48878_level0_col5\" class=\"col_heading level0 col5\" >amort_es_flujo</th>\n      <th id=\"T_48878_level0_col6\" class=\"col_heading level0 col6\" >flujo</th>\n      <th id=\"T_48878_level0_col7\" class=\"col_heading level0 col7\" >moneda</th>\n      <th id=\"T_48878_level0_col8\" class=\"col_heading level0 col8\" >icp_inicial</th>\n      <th id=\"T_48878_level0_col9\" class=\"col_heading level0 col9\" >icp_final</th>\n      <th id=\"T_48878_level0_col10\" class=\"col_heading level0 col10\" >valor_tasa</th>\n      <th id=\"T_48878_level0_col11\" class=\"col_heading level0 col11\" >interes</th>\n      <th id=\"T_48878_level0_col12\" class=\"col_heading level0 col12\" >spread</th>\n      <th id=\"T_48878_level0_col13\" class=\"col_heading level0 col13\" >gearing</th>\n      <th id=\"T_48878_level0_col14\" class=\"col_heading level0 col14\" >tipo_tasa</th>\n    </tr>\n  </thead>\n  <tbody>\n    <tr>\n      <th id=\"T_48878_level0_row0\" class=\"row_heading level0 row0\" >0</th>\n      <td id=\"T_48878_row0_col0\" class=\"data row0 col0\" >2019-01-10</td>\n      <td id=\"T_48878_row0_col1\" class=\"data row0 col1\" >2019-07-10</td>\n      <td id=\"T_48878_row0_col2\" class=\"data row0 col2\" >2019-07-10</td>\n      <td id=\"T_48878_row0_col3\" class=\"data row0 col3\" >38,000,000,000.00</td>\n      <td id=\"T_48878_row0_col4\" class=\"data row0 col4\" >0.00</td>\n      <td id=\"T_48878_row0_col5\" class=\"data row0 col5\" >True</td>\n      <td id=\"T_48878_row0_col6\" class=\"data row0 col6\" >0.00</td>\n      <td id=\"T_48878_row0_col7\" class=\"data row0 col7\" >CLP</td>\n      <td id=\"T_48878_row0_col8\" class=\"data row0 col8\" >10,000.00</td>\n      <td id=\"T_48878_row0_col9\" class=\"data row0 col9\" >10,000.00</td>\n      <td id=\"T_48878_row0_col10\" class=\"data row0 col10\" >0.0000%</td>\n      <td id=\"T_48878_row0_col11\" class=\"data row0 col11\" >0.00</td>\n      <td id=\"T_48878_row0_col12\" class=\"data row0 col12\" >0.0000%</td>\n      <td id=\"T_48878_row0_col13\" class=\"data row0 col13\" >1.00</td>\n      <td id=\"T_48878_row0_col14\" class=\"data row0 col14\" >LinAct360</td>\n    </tr>\n    <tr>\n      <th id=\"T_48878_level0_row1\" class=\"row_heading level0 row1\" >1</th>\n      <td id=\"T_48878_row1_col0\" class=\"data row1 col0\" >2019-07-10</td>\n      <td id=\"T_48878_row1_col1\" class=\"data row1 col1\" >2021-07-12</td>\n      <td id=\"T_48878_row1_col2\" class=\"data row1 col2\" >2021-07-12</td>\n      <td id=\"T_48878_row1_col3\" class=\"data row1 col3\" >38,000,000,000.00</td>\n      <td id=\"T_48878_row1_col4\" class=\"data row1 col4\" >0.00</td>\n      <td id=\"T_48878_row1_col5\" class=\"data row1 col5\" >True</td>\n      <td id=\"T_48878_row1_col6\" class=\"data row1 col6\" >0.00</td>\n      <td id=\"T_48878_row1_col7\" class=\"data row1 col7\" >CLP</td>\n      <td id=\"T_48878_row1_col8\" class=\"data row1 col8\" >10,000.00</td>\n      <td id=\"T_48878_row1_col9\" class=\"data row1 col9\" >10,000.00</td>\n      <td id=\"T_48878_row1_col10\" class=\"data row1 col10\" >0.0000%</td>\n      <td id=\"T_48878_row1_col11\" class=\"data row1 col11\" >0.00</td>\n      <td id=\"T_48878_row1_col12\" class=\"data row1 col12\" >0.0000%</td>\n      <td id=\"T_48878_row1_col13\" class=\"data row1 col13\" >1.00</td>\n      <td id=\"T_48878_row1_col14\" class=\"data row1 col14\" >LinAct360</td>\n    </tr>\n    <tr>\n      <th id=\"T_48878_level0_row2\" class=\"row_heading level0 row2\" >2</th>\n      <td id=\"T_48878_row2_col0\" class=\"data row2 col0\" >2021-07-12</td>\n      <td id=\"T_48878_row2_col1\" class=\"data row2 col1\" >2023-07-10</td>\n      <td id=\"T_48878_row2_col2\" class=\"data row2 col2\" >2023-07-10</td>\n      <td id=\"T_48878_row2_col3\" class=\"data row2 col3\" >38,000,000,000.00</td>\n      <td id=\"T_48878_row2_col4\" class=\"data row2 col4\" >0.00</td>\n      <td id=\"T_48878_row2_col5\" class=\"data row2 col5\" >True</td>\n      <td id=\"T_48878_row2_col6\" class=\"data row2 col6\" >0.00</td>\n      <td id=\"T_48878_row2_col7\" class=\"data row2 col7\" >CLP</td>\n      <td id=\"T_48878_row2_col8\" class=\"data row2 col8\" >10,000.00</td>\n      <td id=\"T_48878_row2_col9\" class=\"data row2 col9\" >10,000.00</td>\n      <td id=\"T_48878_row2_col10\" class=\"data row2 col10\" >0.0000%</td>\n      <td id=\"T_48878_row2_col11\" class=\"data row2 col11\" >0.00</td>\n      <td id=\"T_48878_row2_col12\" class=\"data row2 col12\" >0.0000%</td>\n      <td id=\"T_48878_row2_col13\" class=\"data row2 col13\" >1.00</td>\n      <td id=\"T_48878_row2_col14\" class=\"data row2 col14\" >LinAct360</td>\n    </tr>\n    <tr>\n      <th id=\"T_48878_level0_row3\" class=\"row_heading level0 row3\" >3</th>\n      <td id=\"T_48878_row3_col0\" class=\"data row3 col0\" >2023-07-10</td>\n      <td id=\"T_48878_row3_col1\" class=\"data row3 col1\" >2025-07-10</td>\n      <td id=\"T_48878_row3_col2\" class=\"data row3 col2\" >2025-07-10</td>\n      <td id=\"T_48878_row3_col3\" class=\"data row3 col3\" >38,000,000,000.00</td>\n      <td id=\"T_48878_row3_col4\" class=\"data row3 col4\" >0.00</td>\n      <td id=\"T_48878_row3_col5\" class=\"data row3 col5\" >True</td>\n      <td id=\"T_48878_row3_col6\" class=\"data row3 col6\" >0.00</td>\n      <td id=\"T_48878_row3_col7\" class=\"data row3 col7\" >CLP</td>\n      <td id=\"T_48878_row3_col8\" class=\"data row3 col8\" >10,000.00</td>\n      <td id=\"T_48878_row3_col9\" class=\"data row3 col9\" >10,000.00</td>\n      <td id=\"T_48878_row3_col10\" class=\"data row3 col10\" >0.0000%</td>\n      <td id=\"T_48878_row3_col11\" class=\"data row3 col11\" >0.00</td>\n      <td id=\"T_48878_row3_col12\" class=\"data row3 col12\" >0.0000%</td>\n      <td id=\"T_48878_row3_col13\" class=\"data row3 col13\" >1.00</td>\n      <td id=\"T_48878_row3_col14\" class=\"data row3 col14\" >LinAct360</td>\n    </tr>\n    <tr>\n      <th id=\"T_48878_level0_row4\" class=\"row_heading level0 row4\" >4</th>\n      <td id=\"T_48878_row4_col0\" class=\"data row4 col0\" >2025-07-10</td>\n      <td id=\"T_48878_row4_col1\" class=\"data row4 col1\" >2027-07-12</td>\n      <td id=\"T_48878_row4_col2\" class=\"data row4 col2\" >2027-07-12</td>\n      <td id=\"T_48878_row4_col3\" class=\"data row4 col3\" >38,000,000,000.00</td>\n      <td id=\"T_48878_row4_col4\" class=\"data row4 col4\" >0.00</td>\n      <td id=\"T_48878_row4_col5\" class=\"data row4 col5\" >True</td>\n      <td id=\"T_48878_row4_col6\" class=\"data row4 col6\" >0.00</td>\n      <td id=\"T_48878_row4_col7\" class=\"data row4 col7\" >CLP</td>\n      <td id=\"T_48878_row4_col8\" class=\"data row4 col8\" >10,000.00</td>\n      <td id=\"T_48878_row4_col9\" class=\"data row4 col9\" >10,000.00</td>\n      <td id=\"T_48878_row4_col10\" class=\"data row4 col10\" >0.0000%</td>\n      <td id=\"T_48878_row4_col11\" class=\"data row4 col11\" >0.00</td>\n      <td id=\"T_48878_row4_col12\" class=\"data row4 col12\" >0.0000%</td>\n      <td id=\"T_48878_row4_col13\" class=\"data row4 col13\" >1.00</td>\n      <td id=\"T_48878_row4_col14\" class=\"data row4 col14\" >LinAct360</td>\n    </tr>\n    <tr>\n      <th id=\"T_48878_level0_row5\" class=\"row_heading level0 row5\" >5</th>\n      <td id=\"T_48878_row5_col0\" class=\"data row5 col0\" >2027-07-12</td>\n      <td id=\"T_48878_row5_col1\" class=\"data row5 col1\" >2029-07-10</td>\n      <td id=\"T_48878_row5_col2\" class=\"data row5 col2\" >2029-07-10</td>\n      <td id=\"T_48878_row5_col3\" class=\"data row5 col3\" >38,000,000,000.00</td>\n      <td id=\"T_48878_row5_col4\" class=\"data row5 col4\" >38,000,000,000.00</td>\n      <td id=\"T_48878_row5_col5\" class=\"data row5 col5\" >True</td>\n      <td id=\"T_48878_row5_col6\" class=\"data row5 col6\" >38,000,000,000.00</td>\n      <td id=\"T_48878_row5_col7\" class=\"data row5 col7\" >CLP</td>\n      <td id=\"T_48878_row5_col8\" class=\"data row5 col8\" >10,000.00</td>\n      <td id=\"T_48878_row5_col9\" class=\"data row5 col9\" >10,000.00</td>\n      <td id=\"T_48878_row5_col10\" class=\"data row5 col10\" >0.0000%</td>\n      <td id=\"T_48878_row5_col11\" class=\"data row5 col11\" >0.00</td>\n      <td id=\"T_48878_row5_col12\" class=\"data row5 col12\" >0.0000%</td>\n      <td id=\"T_48878_row5_col13\" class=\"data row5 col13\" >1.00</td>\n      <td id=\"T_48878_row5_col14\" class=\"data row5 col14\" >LinAct360</td>\n    </tr>\n  </tbody>\n</table>\n"
     },
     "execution_count": 65,
     "metadata": {},
     "output_type": "execute_result"
    }
   ],
   "source": [
    "# Se define un list donde almacenar los resultados de la función show\n",
    "tabla = []\n",
    "for i in range(0, icp_clp2_leg.size()):\n",
    "    tabla.append(qcf.show(icp_clp2_leg.get_cashflow_at(i)))\n",
    "\n",
    "# Se utiliza tabla para inicializar el Dataframe\n",
    "columnas = list(qcf.get_column_names(\"IcpClpCashflow2\", \"\"))\n",
    "df9 = pd.DataFrame(tabla, columns=columnas)\n",
    "\n",
    "# Se despliega la data en este formato\n",
    "df9.style.format(format_dict)"
   ]
  },
  {
   "cell_type": "markdown",
   "metadata": {},
   "source": [
    "Notar que al dar de alta un Leg con IcpClpCashflow2, los valores futuros de los ICP son los default (=10,000.00). Por lo tanto, el primer paso para valorizar estos cashflows, es calcular los valores forward de los índices.\n",
    "\n",
    "Se comienza dando de alta un objeto de tipo `ForwardRates`."
   ]
  },
  {
   "cell_type": "code",
   "execution_count": 66,
   "metadata": {
    "execution": {
     "iopub.execute_input": "2023-10-16T14:40:44.757150Z",
     "iopub.status.busy": "2023-10-16T14:40:44.757048Z",
     "iopub.status.idle": "2023-10-16T14:40:44.758836Z",
     "shell.execute_reply": "2023-10-16T14:40:44.758493Z",
     "shell.execute_reply.started": "2023-10-16T14:40:44.757143Z"
    },
    "ExecuteTime": {
     "end_time": "2023-12-19T16:09:44.670532Z",
     "start_time": "2023-12-19T16:09:44.630630Z"
    }
   },
   "outputs": [],
   "source": [
    "fwd_rates = qcf.ForwardRates()"
   ]
  },
  {
   "cell_type": "markdown",
   "metadata": {},
   "source": [
    "Se calculan los índices forward."
   ]
  },
  {
   "cell_type": "code",
   "execution_count": 67,
   "metadata": {
    "execution": {
     "iopub.execute_input": "2023-10-16T14:40:44.759323Z",
     "iopub.status.busy": "2023-10-16T14:40:44.759254Z",
     "iopub.status.idle": "2023-10-16T14:40:44.761542Z",
     "shell.execute_reply": "2023-10-16T14:40:44.761301Z",
     "shell.execute_reply.started": "2023-10-16T14:40:44.759316Z"
    },
    "ExecuteTime": {
     "end_time": "2023-12-19T16:09:45.746843Z",
     "start_time": "2023-12-19T16:09:45.707701Z"
    }
   },
   "outputs": [],
   "source": [
    "icp_val = 18_890.34 # icp a la fecha de proceso\n",
    "fecha_hoy = qcf.QCDate(5, 3, 2020)\n",
    "\n",
    "for i in range(icp_clp2_leg.size()):\n",
    "    cashflow = icp_clp2_leg.get_cashflow_at(i)\n",
    "    if cashflow.get_start_date() <= fecha_hoy <= cashflow.get_end_date():\n",
    "            index = i\n",
    "\n",
    "icp_fecha_inicio_cupon_vigente = 18_376.69\n",
    "icp_clp2_leg.get_cashflow_at(index).set_start_date_icp(icp_fecha_inicio_cupon_vigente)\n",
    "\n",
    "fwd_rates.set_rates_icp_clp_leg(fecha_hoy, icp_val, icp_clp2_leg, zz1)"
   ]
  },
  {
   "cell_type": "code",
   "execution_count": 68,
   "metadata": {
    "execution": {
     "iopub.execute_input": "2023-10-16T14:40:44.761997Z",
     "iopub.status.busy": "2023-10-16T14:40:44.761895Z",
     "iopub.status.idle": "2023-10-16T14:40:44.766841Z",
     "shell.execute_reply": "2023-10-16T14:40:44.766489Z",
     "shell.execute_reply.started": "2023-10-16T14:40:44.761991Z"
    },
    "ExecuteTime": {
     "end_time": "2023-12-19T16:09:46.470917Z",
     "start_time": "2023-12-19T16:09:46.432926Z"
    }
   },
   "outputs": [
    {
     "data": {
      "text/plain": "<pandas.io.formats.style.Styler at 0x12747d610>",
      "text/html": "<style type=\"text/css\">\n</style>\n<table id=\"T_45f02\">\n  <thead>\n    <tr>\n      <th class=\"blank level0\" >&nbsp;</th>\n      <th id=\"T_45f02_level0_col0\" class=\"col_heading level0 col0\" >fecha_inicial</th>\n      <th id=\"T_45f02_level0_col1\" class=\"col_heading level0 col1\" >fecha_final</th>\n      <th id=\"T_45f02_level0_col2\" class=\"col_heading level0 col2\" >fecha_pago</th>\n      <th id=\"T_45f02_level0_col3\" class=\"col_heading level0 col3\" >nominal</th>\n      <th id=\"T_45f02_level0_col4\" class=\"col_heading level0 col4\" >amortizacion</th>\n      <th id=\"T_45f02_level0_col5\" class=\"col_heading level0 col5\" >amort_es_flujo</th>\n      <th id=\"T_45f02_level0_col6\" class=\"col_heading level0 col6\" >flujo</th>\n      <th id=\"T_45f02_level0_col7\" class=\"col_heading level0 col7\" >moneda</th>\n      <th id=\"T_45f02_level0_col8\" class=\"col_heading level0 col8\" >icp_inicial</th>\n      <th id=\"T_45f02_level0_col9\" class=\"col_heading level0 col9\" >icp_final</th>\n      <th id=\"T_45f02_level0_col10\" class=\"col_heading level0 col10\" >valor_tasa</th>\n      <th id=\"T_45f02_level0_col11\" class=\"col_heading level0 col11\" >interes</th>\n      <th id=\"T_45f02_level0_col12\" class=\"col_heading level0 col12\" >spread</th>\n      <th id=\"T_45f02_level0_col13\" class=\"col_heading level0 col13\" >gearing</th>\n      <th id=\"T_45f02_level0_col14\" class=\"col_heading level0 col14\" >tipo_tasa</th>\n    </tr>\n  </thead>\n  <tbody>\n    <tr>\n      <th id=\"T_45f02_level0_row0\" class=\"row_heading level0 row0\" >0</th>\n      <td id=\"T_45f02_row0_col0\" class=\"data row0 col0\" >2019-01-10</td>\n      <td id=\"T_45f02_row0_col1\" class=\"data row0 col1\" >2019-07-10</td>\n      <td id=\"T_45f02_row0_col2\" class=\"data row0 col2\" >2019-07-10</td>\n      <td id=\"T_45f02_row0_col3\" class=\"data row0 col3\" >38,000,000,000.00</td>\n      <td id=\"T_45f02_row0_col4\" class=\"data row0 col4\" >0.00</td>\n      <td id=\"T_45f02_row0_col5\" class=\"data row0 col5\" >True</td>\n      <td id=\"T_45f02_row0_col6\" class=\"data row0 col6\" >0.00</td>\n      <td id=\"T_45f02_row0_col7\" class=\"data row0 col7\" >CLP</td>\n      <td id=\"T_45f02_row0_col8\" class=\"data row0 col8\" >10,000.00</td>\n      <td id=\"T_45f02_row0_col9\" class=\"data row0 col9\" >10,000.00</td>\n      <td id=\"T_45f02_row0_col10\" class=\"data row0 col10\" >0.0000%</td>\n      <td id=\"T_45f02_row0_col11\" class=\"data row0 col11\" >0.00</td>\n      <td id=\"T_45f02_row0_col12\" class=\"data row0 col12\" >0.0000%</td>\n      <td id=\"T_45f02_row0_col13\" class=\"data row0 col13\" >1.00</td>\n      <td id=\"T_45f02_row0_col14\" class=\"data row0 col14\" >LinAct360</td>\n    </tr>\n    <tr>\n      <th id=\"T_45f02_level0_row1\" class=\"row_heading level0 row1\" >1</th>\n      <td id=\"T_45f02_row1_col0\" class=\"data row1 col0\" >2019-07-10</td>\n      <td id=\"T_45f02_row1_col1\" class=\"data row1 col1\" >2021-07-12</td>\n      <td id=\"T_45f02_row1_col2\" class=\"data row1 col2\" >2021-07-12</td>\n      <td id=\"T_45f02_row1_col3\" class=\"data row1 col3\" >38,000,000,000.00</td>\n      <td id=\"T_45f02_row1_col4\" class=\"data row1 col4\" >0.00</td>\n      <td id=\"T_45f02_row1_col5\" class=\"data row1 col5\" >True</td>\n      <td id=\"T_45f02_row1_col6\" class=\"data row1 col6\" >1,760,277,860.28</td>\n      <td id=\"T_45f02_row1_col7\" class=\"data row1 col7\" >CLP</td>\n      <td id=\"T_45f02_row1_col8\" class=\"data row1 col8\" >18,376.69</td>\n      <td id=\"T_45f02_row1_col9\" class=\"data row1 col9\" >19,227.96</td>\n      <td id=\"T_45f02_row1_col10\" class=\"data row1 col10\" >2.2800%</td>\n      <td id=\"T_45f02_row1_col11\" class=\"data row1 col11\" >1,764,086,666.67</td>\n      <td id=\"T_45f02_row1_col12\" class=\"data row1 col12\" >0.0000%</td>\n      <td id=\"T_45f02_row1_col13\" class=\"data row1 col13\" >1.00</td>\n      <td id=\"T_45f02_row1_col14\" class=\"data row1 col14\" >LinAct360</td>\n    </tr>\n    <tr>\n      <th id=\"T_45f02_level0_row2\" class=\"row_heading level0 row2\" >2</th>\n      <td id=\"T_45f02_row2_col0\" class=\"data row2 col0\" >2021-07-12</td>\n      <td id=\"T_45f02_row2_col1\" class=\"data row2 col1\" >2023-07-10</td>\n      <td id=\"T_45f02_row2_col2\" class=\"data row2 col2\" >2023-07-10</td>\n      <td id=\"T_45f02_row2_col3\" class=\"data row2 col3\" >38,000,000,000.00</td>\n      <td id=\"T_45f02_row2_col4\" class=\"data row2 col4\" >0.00</td>\n      <td id=\"T_45f02_row2_col5\" class=\"data row2 col5\" >True</td>\n      <td id=\"T_45f02_row2_col6\" class=\"data row2 col6\" >1,260,461,341.38</td>\n      <td id=\"T_45f02_row2_col7\" class=\"data row2 col7\" >CLP</td>\n      <td id=\"T_45f02_row2_col8\" class=\"data row2 col8\" >19,227.96</td>\n      <td id=\"T_45f02_row2_col9\" class=\"data row2 col9\" >19,865.75</td>\n      <td id=\"T_45f02_row2_col10\" class=\"data row2 col10\" >1.6400%</td>\n      <td id=\"T_45f02_row2_col11\" class=\"data row2 col11\" >1,260,248,888.89</td>\n      <td id=\"T_45f02_row2_col12\" class=\"data row2 col12\" >0.0000%</td>\n      <td id=\"T_45f02_row2_col13\" class=\"data row2 col13\" >1.00</td>\n      <td id=\"T_45f02_row2_col14\" class=\"data row2 col14\" >LinAct360</td>\n    </tr>\n    <tr>\n      <th id=\"T_45f02_level0_row3\" class=\"row_heading level0 row3\" >3</th>\n      <td id=\"T_45f02_row3_col0\" class=\"data row3 col0\" >2023-07-10</td>\n      <td id=\"T_45f02_row3_col1\" class=\"data row3 col1\" >2025-07-10</td>\n      <td id=\"T_45f02_row3_col2\" class=\"data row3 col2\" >2025-07-10</td>\n      <td id=\"T_45f02_row3_col3\" class=\"data row3 col3\" >38,000,000,000.00</td>\n      <td id=\"T_45f02_row3_col4\" class=\"data row3 col4\" >0.00</td>\n      <td id=\"T_45f02_row3_col5\" class=\"data row3 col5\" >True</td>\n      <td id=\"T_45f02_row3_col6\" class=\"data row3 col6\" >2,219,270,452.18</td>\n      <td id=\"T_45f02_row3_col7\" class=\"data row3 col7\" >CLP</td>\n      <td id=\"T_45f02_row3_col8\" class=\"data row3 col8\" >19,865.75</td>\n      <td id=\"T_45f02_row3_col9\" class=\"data row3 col9\" >21,025.94</td>\n      <td id=\"T_45f02_row3_col10\" class=\"data row3 col10\" >2.8800%</td>\n      <td id=\"T_45f02_row3_col11\" class=\"data row3 col11\" >2,222,240,000.00</td>\n      <td id=\"T_45f02_row3_col12\" class=\"data row3 col12\" >0.0000%</td>\n      <td id=\"T_45f02_row3_col13\" class=\"data row3 col13\" >1.00</td>\n      <td id=\"T_45f02_row3_col14\" class=\"data row3 col14\" >LinAct360</td>\n    </tr>\n    <tr>\n      <th id=\"T_45f02_level0_row4\" class=\"row_heading level0 row4\" >4</th>\n      <td id=\"T_45f02_row4_col0\" class=\"data row4 col0\" >2025-07-10</td>\n      <td id=\"T_45f02_row4_col1\" class=\"data row4 col1\" >2027-07-12</td>\n      <td id=\"T_45f02_row4_col2\" class=\"data row4 col2\" >2027-07-12</td>\n      <td id=\"T_45f02_row4_col3\" class=\"data row4 col3\" >38,000,000,000.00</td>\n      <td id=\"T_45f02_row4_col4\" class=\"data row4 col4\" >0.00</td>\n      <td id=\"T_45f02_row4_col5\" class=\"data row4 col5\" >True</td>\n      <td id=\"T_45f02_row4_col6\" class=\"data row4 col6\" >2,921,878,806.15</td>\n      <td id=\"T_45f02_row4_col7\" class=\"data row4 col7\" >CLP</td>\n      <td id=\"T_45f02_row4_col8\" class=\"data row4 col8\" >21,025.94</td>\n      <td id=\"T_45f02_row4_col9\" class=\"data row4 col9\" >22,642.66</td>\n      <td id=\"T_45f02_row4_col10\" class=\"data row4 col10\" >3.7800%</td>\n      <td id=\"T_45f02_row4_col11\" class=\"data row4 col11\" >2,920,680,000.00</td>\n      <td id=\"T_45f02_row4_col12\" class=\"data row4 col12\" >0.0000%</td>\n      <td id=\"T_45f02_row4_col13\" class=\"data row4 col13\" >1.00</td>\n      <td id=\"T_45f02_row4_col14\" class=\"data row4 col14\" >LinAct360</td>\n    </tr>\n    <tr>\n      <th id=\"T_45f02_level0_row5\" class=\"row_heading level0 row5\" >5</th>\n      <td id=\"T_45f02_row5_col0\" class=\"data row5 col0\" >2027-07-12</td>\n      <td id=\"T_45f02_row5_col1\" class=\"data row5 col1\" >2029-07-10</td>\n      <td id=\"T_45f02_row5_col2\" class=\"data row5 col2\" >2029-07-10</td>\n      <td id=\"T_45f02_row5_col3\" class=\"data row5 col3\" >38,000,000,000.00</td>\n      <td id=\"T_45f02_row5_col4\" class=\"data row5 col4\" >38,000,000,000.00</td>\n      <td id=\"T_45f02_row5_col5\" class=\"data row5 col5\" >True</td>\n      <td id=\"T_45f02_row5_col6\" class=\"data row5 col6\" >41,014,662,342.55</td>\n      <td id=\"T_45f02_row5_col7\" class=\"data row5 col7\" >CLP</td>\n      <td id=\"T_45f02_row5_col8\" class=\"data row5 col8\" >22,642.66</td>\n      <td id=\"T_45f02_row5_col9\" class=\"data row5 col9\" >24,438.98</td>\n      <td id=\"T_45f02_row5_col10\" class=\"data row5 col10\" >3.9200%</td>\n      <td id=\"T_45f02_row5_col11\" class=\"data row5 col11\" >3,016,440,000.00</td>\n      <td id=\"T_45f02_row5_col12\" class=\"data row5 col12\" >0.0000%</td>\n      <td id=\"T_45f02_row5_col13\" class=\"data row5 col13\" >1.00</td>\n      <td id=\"T_45f02_row5_col14\" class=\"data row5 col14\" >LinAct360</td>\n    </tr>\n  </tbody>\n</table>\n"
     },
     "execution_count": 68,
     "metadata": {},
     "output_type": "execute_result"
    }
   ],
   "source": [
    "# Se define un list donde almacenar los resultados de la función show\n",
    "tabla = []\n",
    "for i in range(0, icp_clp2_leg.size()):\n",
    "    tabla.append(qcf.show(icp_clp2_leg.get_cashflow_at(i)))\n",
    "\n",
    "# Se utiliza tabla para inicializar el Dataframe\n",
    "columnas = list(qcf.get_column_names(\"IcpClpCashflow2\", \"\"))\n",
    "df9 = pd.DataFrame(tabla, columns=columnas)\n",
    "\n",
    "# Se despliega la data en este formato\n",
    "df9.style.format(format_dict)"
   ]
  },
  {
   "cell_type": "markdown",
   "metadata": {},
   "source": [
    "Con esto, podemos calcular el valor presente."
   ]
  },
  {
   "cell_type": "code",
   "execution_count": 69,
   "metadata": {
    "execution": {
     "iopub.execute_input": "2023-10-16T14:40:44.767219Z",
     "iopub.status.busy": "2023-10-16T14:40:44.767150Z",
     "iopub.status.idle": "2023-10-16T14:40:44.768961Z",
     "shell.execute_reply": "2023-10-16T14:40:44.768627Z",
     "shell.execute_reply.started": "2023-10-16T14:40:44.767213Z"
    },
    "ExecuteTime": {
     "end_time": "2023-12-19T16:09:48.411055Z",
     "start_time": "2023-12-19T16:09:48.368056Z"
    }
   },
   "outputs": [
    {
     "name": "stdout",
     "output_type": "stream",
     "text": [
      "Valor presente pata ICPCLP: 39,062,144,488\n"
     ]
    }
   ],
   "source": [
    "vp_icp_clp = pv.pv(fecha_hoy, icp_clp2_leg, zz1)\n",
    "print(\"Valor presente pata ICPCLP: {0:,.0f}\".format(vp_icp_clp))"
   ]
  },
  {
   "cell_type": "code",
   "execution_count": 70,
   "metadata": {
    "execution": {
     "iopub.execute_input": "2023-10-16T14:40:44.769319Z",
     "iopub.status.busy": "2023-10-16T14:40:44.769231Z",
     "iopub.status.idle": "2023-10-16T14:40:44.771206Z",
     "shell.execute_reply": "2023-10-16T14:40:44.770987Z",
     "shell.execute_reply.started": "2023-10-16T14:40:44.769312Z"
    },
    "ExecuteTime": {
     "end_time": "2023-12-19T16:09:48.805852Z",
     "start_time": "2023-12-19T16:09:48.750669Z"
    }
   },
   "outputs": [],
   "source": [
    "csh = icp_clp2_leg.get_cashflow_at(5)"
   ]
  },
  {
   "cell_type": "code",
   "execution_count": 71,
   "metadata": {
    "execution": {
     "iopub.execute_input": "2023-10-16T14:40:44.771755Z",
     "iopub.status.busy": "2023-10-16T14:40:44.771642Z",
     "iopub.status.idle": "2023-10-16T14:40:44.773847Z",
     "shell.execute_reply": "2023-10-16T14:40:44.773538Z",
     "shell.execute_reply.started": "2023-10-16T14:40:44.771747Z"
    },
    "ExecuteTime": {
     "end_time": "2023-12-19T16:09:49.425134Z",
     "start_time": "2023-12-19T16:09:49.366975Z"
    }
   },
   "outputs": [
    {
     "data": {
      "text/plain": "31702674802.50826"
     },
     "execution_count": 71,
     "metadata": {},
     "output_type": "execute_result"
    }
   ],
   "source": [
    "pv.pv(fecha_hoy, csh, zz1)"
   ]
  },
  {
   "cell_type": "markdown",
   "metadata": {},
   "source": [
    "También en este caso es posible calcular la sensibilidad a la curva de descuento."
   ]
  },
  {
   "cell_type": "code",
   "execution_count": 72,
   "metadata": {
    "execution": {
     "iopub.execute_input": "2023-10-16T14:40:44.774320Z",
     "iopub.status.busy": "2023-10-16T14:40:44.774127Z",
     "iopub.status.idle": "2023-10-16T14:40:44.776177Z",
     "shell.execute_reply": "2023-10-16T14:40:44.775973Z",
     "shell.execute_reply.started": "2023-10-16T14:40:44.774313Z"
    },
    "ExecuteTime": {
     "end_time": "2023-12-19T16:09:50.345959Z",
     "start_time": "2023-12-19T16:09:50.308782Z"
    }
   },
   "outputs": [
    {
     "name": "stdout",
     "output_type": "stream",
     "text": [
      "Sensibilidad en 0: -0\n",
      "Sensibilidad en 1: -0\n",
      "Sensibilidad en 2: -0\n",
      "Sensibilidad en 3: -0\n",
      "Sensibilidad en 4: -0\n",
      "Sensibilidad en 5: -0\n",
      "Sensibilidad en 6: -0\n",
      "Sensibilidad en 7: -0\n",
      "Sensibilidad en 8: -0\n",
      "Sensibilidad en 9: -0\n",
      "Sensibilidad en 10: -0\n",
      "Sensibilidad en 11: -0\n",
      "Sensibilidad en 12: -0\n",
      "Sensibilidad en 13: -0\n",
      "Sensibilidad en 14: -15,407,642\n",
      "Sensibilidad en 15: -7,831,157\n",
      "Sensibilidad en 16: -0\n",
      "Sensibilidad en 17: -0\n",
      "Sensibilidad en 18: -0\n"
     ]
    }
   ],
   "source": [
    "der = pv.get_derivatives()\n",
    "i = 0\n",
    "bp = .0001\n",
    "for d in der:\n",
    "    print(\"Sensibilidad en {0:}: {1:0,.0f}\".format(i, d * bp))\n",
    "    i += 1"
   ]
  },
  {
   "cell_type": "markdown",
   "metadata": {},
   "source": [
    "Podemos ver la sensibilidad total:"
   ]
  },
  {
   "cell_type": "code",
   "execution_count": 73,
   "metadata": {
    "execution": {
     "iopub.execute_input": "2023-10-16T14:40:44.776564Z",
     "iopub.status.busy": "2023-10-16T14:40:44.776508Z",
     "iopub.status.idle": "2023-10-16T14:40:44.778455Z",
     "shell.execute_reply": "2023-10-16T14:40:44.778216Z",
     "shell.execute_reply.started": "2023-10-16T14:40:44.776558Z"
    },
    "ExecuteTime": {
     "end_time": "2023-12-19T16:09:52.867205Z",
     "start_time": "2023-12-19T16:09:52.823255Z"
    }
   },
   "outputs": [
    {
     "name": "stdout",
     "output_type": "stream",
     "text": [
      "Sensibilidad de descuento: -23,238,799 CLP\n"
     ]
    }
   ],
   "source": [
    "sens_disc = [d * bp for d in der]\n",
    "print(\"Sensibilidad de descuento: {0:,.0f} CLP\".format(sum(sens_disc)))"
   ]
  },
  {
   "cell_type": "markdown",
   "metadata": {},
   "source": [
    "La estructura es la misma que para una pata fija, lo que indica que se debe también incluir la sensibilidad a la curva de proyección."
   ]
  },
  {
   "cell_type": "code",
   "execution_count": 74,
   "metadata": {
    "execution": {
     "iopub.execute_input": "2023-10-16T14:40:44.778830Z",
     "iopub.status.busy": "2023-10-16T14:40:44.778758Z",
     "iopub.status.idle": "2023-10-16T14:40:44.782089Z",
     "shell.execute_reply": "2023-10-16T14:40:44.781812Z",
     "shell.execute_reply.started": "2023-10-16T14:40:44.778824Z"
    },
    "ExecuteTime": {
     "end_time": "2023-12-19T16:09:55.571886Z",
     "start_time": "2023-12-19T16:09:55.535869Z"
    }
   },
   "outputs": [
    {
     "name": "stdout",
     "output_type": "stream",
     "text": [
      "Sensibilidad en 0: 0\n",
      "Sensibilidad en 1: 0\n",
      "Sensibilidad en 2: 0\n",
      "Sensibilidad en 3: 0\n",
      "Sensibilidad en 4: 0\n",
      "Sensibilidad en 5: 74,757\n",
      "Sensibilidad en 6: 158,384\n",
      "Sensibilidad en 7: 0\n",
      "Sensibilidad en 8: 256,858\n",
      "Sensibilidad en 9: 130,015\n",
      "Sensibilidad en 10: 644,319\n",
      "Sensibilidad en 11: 327,485\n",
      "Sensibilidad en 12: 998,768\n",
      "Sensibilidad en 13: 518,033\n",
      "Sensibilidad en 14: 15,407,642\n",
      "Sensibilidad en 15: 7,831,157\n",
      "Sensibilidad en 16: 0\n",
      "Sensibilidad en 17: 0\n",
      "Sensibilidad en 18: 0\n",
      "Sensibilidad de proyección: 26,347,418 CLP\n"
     ]
    }
   ],
   "source": [
    "import numpy as np\n",
    "bp = .0001\n",
    "result = []\n",
    "for i in range(icp_clp2_leg.size()):\n",
    "    cshflw = icp_clp2_leg.get_cashflow_at(i)\n",
    "    amt_der = cshflw.get_amount_derivatives()\n",
    "    df = zz1.get_discount_factor_at(fecha_hoy.day_diff(cshflw.get_settlement_date()))\n",
    "    amt_der = [a * bp * df for a in amt_der]\n",
    "    if len(amt_der) > 0:\n",
    "        result.append(np.array(amt_der))\n",
    "total = result[0] * 0\n",
    "\n",
    "for r in result:\n",
    "    total += r\n",
    "\n",
    "for i in range(len(total)):\n",
    "    print(\"Sensibilidad en {0:}: {1:0,.0f}\".format(i, total[i]))\n",
    "\n",
    "print(\"Sensibilidad de proyección: {0:,.0f} CLP\".format(sum(total)))"
   ]
  },
  {
   "cell_type": "markdown",
   "metadata": {},
   "source": [
    "Como se espera de una pata ICPCLP (con lag de pago igual a 0 y spread igual a 0), ambas sensibilidades se cancelan."
   ]
  },
  {
   "cell_type": "markdown",
   "metadata": {},
   "source": [
    "#### Se verifica la sensibilidad de proyección por diferencias finitas:"
   ]
  },
  {
   "cell_type": "code",
   "execution_count": 75,
   "metadata": {
    "execution": {
     "iopub.execute_input": "2023-10-16T14:40:44.782688Z",
     "iopub.status.busy": "2023-10-16T14:40:44.782616Z",
     "iopub.status.idle": "2023-10-16T14:40:44.784691Z",
     "shell.execute_reply": "2023-10-16T14:40:44.784482Z",
     "shell.execute_reply.started": "2023-10-16T14:40:44.782681Z"
    },
    "ExecuteTime": {
     "end_time": "2023-12-19T16:09:59.443904Z",
     "start_time": "2023-12-19T16:09:59.413544Z"
    }
   },
   "outputs": [
    {
     "name": "stdout",
     "output_type": "stream",
     "text": [
      "Sensibilidad en vértice 13: 518,033 CLP\n"
     ]
    }
   ],
   "source": [
    "fwd_rates.set_rates_icp_clp_leg(fecha_hoy, icp_val, icp_clp2_leg, zz_sens_up)\n",
    "vp_icp_clp_up = pv.pv(fecha_hoy, icp_clp2_leg, zz1)\n",
    "\n",
    "fwd_rates.set_rates_icp_clp_leg(fecha_hoy, icp_val, icp_clp2_leg, zz_sens_down)\n",
    "vp_icp_clp_down = pv.pv(fecha_hoy, icp_clp2_leg, zz1)\n",
    "\n",
    "print(\"Sensibilidad en vértice {0:}: {1:,.0f} CLP\".format(\n",
    "    vertice, (vp_icp_clp_up - vp_icp_clp_down) / 2))"
   ]
  },
  {
   "cell_type": "markdown",
   "source": [
    "### OvernightIndex Leg"
   ],
   "metadata": {
    "collapsed": false
   }
  },
  {
   "cell_type": "code",
   "execution_count": 79,
   "outputs": [],
   "source": [
    "# Se da de alta los parámetros requeridos\n",
    "rp = qcf.RecPay.RECEIVE\n",
    "fecha_inicio = qcf.QCDate(10,1,2019)\n",
    "fecha_final = qcf.QCDate(10,7,2029)\n",
    "bus_adj_rule = qcf.BusyAdjRules.FOLLOW\n",
    "fix_adj_rule = qcf.BusyAdjRules.PREVIOUS\n",
    "periodicidad_pago = qcf.Tenor('2Y')\n",
    "periodo_irregular_pago = qcf.StubPeriod.SHORTFRONT\n",
    "calendario = qcf.BusinessCalendar(fecha_inicio, 20)\n",
    "lag_pago = 0\n",
    "nominal = 38_000_000_000.0\n",
    "amort_es_flujo = True\n",
    "spread = .0\n",
    "gearing = 1.0\n",
    "\n",
    "overnight_index_leg = qcf.LegFactory.build_bullet_overnight_index_leg(\n",
    "    rec_pay=rp,\n",
    "    start_date=fecha_inicio,\n",
    "    end_date=fecha_final,\n",
    "    bus_adj_rule=bus_adj_rule,\n",
    "    fix_adj_rule=fix_adj_rule,\n",
    "    settlement_periodicity=periodicidad_pago,\n",
    "    stub_period=periodo_irregular_pago,\n",
    "    settlement_calendar=calendario,\n",
    "    fixing_calendar=calendario,\n",
    "    settlement_lag=lag_pago,\n",
    "    initial_notional=nominal,\n",
    "    amort_is_cashflow=amort_es_flujo,\n",
    "    spread=spread,\n",
    "    gearing=gearing,\n",
    "    interest_rate=qcf.QCInterestRate(0.0, qcf.QCAct360(), qcf.QCLinearWf()),\n",
    "    index_name='ICPCLP',\n",
    "    eq_rate_decimal_places=2,\n",
    "    notional_currency=qcf.QCCLP(),\n",
    ")"
   ],
   "metadata": {
    "collapsed": false,
    "ExecuteTime": {
     "end_time": "2023-12-19T16:19:58.904014Z",
     "start_time": "2023-12-19T16:19:58.845809Z"
    }
   }
  },
  {
   "cell_type": "code",
   "execution_count": 81,
   "outputs": [
    {
     "data": {
      "text/plain": "  fecha_inicial_devengo fecha_final_devengo fecha_inicial_indice  \\\n0            2019-01-10          2019-07-10           2019-01-10   \n1            2019-07-10          2021-07-12           2019-07-10   \n2            2021-07-12          2023-07-10           2021-07-12   \n3            2023-07-10          2025-07-10           2023-07-10   \n4            2025-07-10          2027-07-12           2025-07-10   \n5            2027-07-12          2029-07-10           2027-07-12   \n\n  fecha_final_indice  fecha_pago      nocional  amortizacion  amort_es_flujo  \\\n0         2019-07-10  2019-07-10  3.800000e+10  0.000000e+00            True   \n1         2021-07-12  2021-07-12  3.800000e+10  0.000000e+00            True   \n2         2023-07-10  2023-07-10  3.800000e+10  0.000000e+00            True   \n3         2025-07-10  2025-07-10  3.800000e+10  0.000000e+00            True   \n4         2027-07-12  2027-07-12  3.800000e+10  0.000000e+00            True   \n5         2029-07-10  2029-07-10  3.800000e+10  3.800000e+10            True   \n\n  moneda_nocional nombre_indice  valor_indice_inicial  valor_indice_final  \\\n0             CLP        ICPCLP                   1.0                 1.0   \n1             CLP        ICPCLP                   1.0                 1.0   \n2             CLP        ICPCLP                   1.0                 1.0   \n3             CLP        ICPCLP                   1.0                 1.0   \n4             CLP        ICPCLP                   1.0                 1.0   \n5             CLP        ICPCLP                   1.0                 1.0   \n\n   valor_tasa_equivalente  tipo_tasa  interes         flujo  spread  gearing  \n0                     0.0  LinAct360      0.0  0.000000e+00     0.0      1.0  \n1                     0.0  LinAct360      0.0  0.000000e+00     0.0      1.0  \n2                     0.0  LinAct360      0.0  0.000000e+00     0.0      1.0  \n3                     0.0  LinAct360      0.0  0.000000e+00     0.0      1.0  \n4                     0.0  LinAct360      0.0  0.000000e+00     0.0      1.0  \n5                     0.0  LinAct360      0.0  3.800000e+10     0.0      1.0  ",
      "text/html": "<div>\n<style scoped>\n    .dataframe tbody tr th:only-of-type {\n        vertical-align: middle;\n    }\n\n    .dataframe tbody tr th {\n        vertical-align: top;\n    }\n\n    .dataframe thead th {\n        text-align: right;\n    }\n</style>\n<table border=\"1\" class=\"dataframe\">\n  <thead>\n    <tr style=\"text-align: right;\">\n      <th></th>\n      <th>fecha_inicial_devengo</th>\n      <th>fecha_final_devengo</th>\n      <th>fecha_inicial_indice</th>\n      <th>fecha_final_indice</th>\n      <th>fecha_pago</th>\n      <th>nocional</th>\n      <th>amortizacion</th>\n      <th>amort_es_flujo</th>\n      <th>moneda_nocional</th>\n      <th>nombre_indice</th>\n      <th>valor_indice_inicial</th>\n      <th>valor_indice_final</th>\n      <th>valor_tasa_equivalente</th>\n      <th>tipo_tasa</th>\n      <th>interes</th>\n      <th>flujo</th>\n      <th>spread</th>\n      <th>gearing</th>\n    </tr>\n  </thead>\n  <tbody>\n    <tr>\n      <th>0</th>\n      <td>2019-01-10</td>\n      <td>2019-07-10</td>\n      <td>2019-01-10</td>\n      <td>2019-07-10</td>\n      <td>2019-07-10</td>\n      <td>3.800000e+10</td>\n      <td>0.000000e+00</td>\n      <td>True</td>\n      <td>CLP</td>\n      <td>ICPCLP</td>\n      <td>1.0</td>\n      <td>1.0</td>\n      <td>0.0</td>\n      <td>LinAct360</td>\n      <td>0.0</td>\n      <td>0.000000e+00</td>\n      <td>0.0</td>\n      <td>1.0</td>\n    </tr>\n    <tr>\n      <th>1</th>\n      <td>2019-07-10</td>\n      <td>2021-07-12</td>\n      <td>2019-07-10</td>\n      <td>2021-07-12</td>\n      <td>2021-07-12</td>\n      <td>3.800000e+10</td>\n      <td>0.000000e+00</td>\n      <td>True</td>\n      <td>CLP</td>\n      <td>ICPCLP</td>\n      <td>1.0</td>\n      <td>1.0</td>\n      <td>0.0</td>\n      <td>LinAct360</td>\n      <td>0.0</td>\n      <td>0.000000e+00</td>\n      <td>0.0</td>\n      <td>1.0</td>\n    </tr>\n    <tr>\n      <th>2</th>\n      <td>2021-07-12</td>\n      <td>2023-07-10</td>\n      <td>2021-07-12</td>\n      <td>2023-07-10</td>\n      <td>2023-07-10</td>\n      <td>3.800000e+10</td>\n      <td>0.000000e+00</td>\n      <td>True</td>\n      <td>CLP</td>\n      <td>ICPCLP</td>\n      <td>1.0</td>\n      <td>1.0</td>\n      <td>0.0</td>\n      <td>LinAct360</td>\n      <td>0.0</td>\n      <td>0.000000e+00</td>\n      <td>0.0</td>\n      <td>1.0</td>\n    </tr>\n    <tr>\n      <th>3</th>\n      <td>2023-07-10</td>\n      <td>2025-07-10</td>\n      <td>2023-07-10</td>\n      <td>2025-07-10</td>\n      <td>2025-07-10</td>\n      <td>3.800000e+10</td>\n      <td>0.000000e+00</td>\n      <td>True</td>\n      <td>CLP</td>\n      <td>ICPCLP</td>\n      <td>1.0</td>\n      <td>1.0</td>\n      <td>0.0</td>\n      <td>LinAct360</td>\n      <td>0.0</td>\n      <td>0.000000e+00</td>\n      <td>0.0</td>\n      <td>1.0</td>\n    </tr>\n    <tr>\n      <th>4</th>\n      <td>2025-07-10</td>\n      <td>2027-07-12</td>\n      <td>2025-07-10</td>\n      <td>2027-07-12</td>\n      <td>2027-07-12</td>\n      <td>3.800000e+10</td>\n      <td>0.000000e+00</td>\n      <td>True</td>\n      <td>CLP</td>\n      <td>ICPCLP</td>\n      <td>1.0</td>\n      <td>1.0</td>\n      <td>0.0</td>\n      <td>LinAct360</td>\n      <td>0.0</td>\n      <td>0.000000e+00</td>\n      <td>0.0</td>\n      <td>1.0</td>\n    </tr>\n    <tr>\n      <th>5</th>\n      <td>2027-07-12</td>\n      <td>2029-07-10</td>\n      <td>2027-07-12</td>\n      <td>2029-07-10</td>\n      <td>2029-07-10</td>\n      <td>3.800000e+10</td>\n      <td>3.800000e+10</td>\n      <td>True</td>\n      <td>CLP</td>\n      <td>ICPCLP</td>\n      <td>1.0</td>\n      <td>1.0</td>\n      <td>0.0</td>\n      <td>LinAct360</td>\n      <td>0.0</td>\n      <td>3.800000e+10</td>\n      <td>0.0</td>\n      <td>1.0</td>\n    </tr>\n  </tbody>\n</table>\n</div>"
     },
     "execution_count": 81,
     "metadata": {},
     "output_type": "execute_result"
    }
   ],
   "source": [
    "# Se define un list donde almacenar los resultados de la función show\n",
    "tabla = []\n",
    "for i in range(0, overnight_index_leg.size()):\n",
    "    tabla.append(qcf.show(overnight_index_leg.get_cashflow_at(i)))\n",
    "\n",
    "# Se utiliza tabla para inicializar el Dataframe\n",
    "columnas = list(qcf.get_column_names(\"OvernightIndexCashflow\", \"\"))\n",
    "df9 = pd.DataFrame(tabla, columns=columnas)\n",
    "\n",
    "# Se despliega la data en este formato\n",
    "df9 # .style.format(format_dict)"
   ],
   "metadata": {
    "collapsed": false,
    "ExecuteTime": {
     "end_time": "2023-12-19T16:20:56.581999Z",
     "start_time": "2023-12-19T16:20:56.511060Z"
    }
   }
  },
  {
   "cell_type": "markdown",
   "source": [
    "Notar que al dar de alta un Leg con OvernightIndexCashflow, los valores futuros de los índeces son los default (=1.0). Por lo tanto, el primer paso para valorizar estos cashflows, es calcular los valores forward de los índices.\n",
    "\n",
    "Ya tenemos un objeto de tipo `ForwardRates`."
   ],
   "metadata": {
    "collapsed": false
   }
  },
  {
   "cell_type": "markdown",
   "source": [
    "Se calculan los índices forward."
   ],
   "metadata": {
    "collapsed": false
   }
  },
  {
   "cell_type": "code",
   "execution_count": 84,
   "outputs": [],
   "source": [
    "icp_val = 18_890.34 # icp a la fecha de proceso\n",
    "fecha_hoy = qcf.QCDate(5, 3, 2020)\n",
    "\n",
    "for i in range(icp_clp2_leg.size()):\n",
    "    cashflow = overnight_index_leg.get_cashflow_at(i)\n",
    "    if cashflow.get_start_date() <= fecha_hoy <= cashflow.get_end_date():\n",
    "            index = i\n",
    "\n",
    "icp_fecha_inicio_cupon_vigente = 18_376.69\n",
    "overnight_index_leg.get_cashflow_at(index).set_start_date_index(icp_fecha_inicio_cupon_vigente)\n",
    "\n",
    "fwd_rates.set_rates_overnight_index_leg(fecha_hoy, icp_val, overnight_index_leg, zz1)"
   ],
   "metadata": {
    "collapsed": false,
    "ExecuteTime": {
     "end_time": "2023-12-19T16:23:18.392805Z",
     "start_time": "2023-12-19T16:23:18.354200Z"
    }
   }
  },
  {
   "cell_type": "code",
   "execution_count": 85,
   "outputs": [
    {
     "data": {
      "text/plain": "  fecha_inicial_devengo fecha_final_devengo fecha_inicial_indice  \\\n0            2019-01-10          2019-07-10           2019-01-10   \n1            2019-07-10          2021-07-12           2019-07-10   \n2            2021-07-12          2023-07-10           2021-07-12   \n3            2023-07-10          2025-07-10           2023-07-10   \n4            2025-07-10          2027-07-12           2025-07-10   \n5            2027-07-12          2029-07-10           2027-07-12   \n\n  fecha_final_indice  fecha_pago      nocional  amortizacion  amort_es_flujo  \\\n0         2019-07-10  2019-07-10  3.800000e+10  0.000000e+00            True   \n1         2021-07-12  2021-07-12  3.800000e+10  0.000000e+00            True   \n2         2023-07-10  2023-07-10  3.800000e+10  0.000000e+00            True   \n3         2025-07-10  2025-07-10  3.800000e+10  0.000000e+00            True   \n4         2027-07-12  2027-07-12  3.800000e+10  0.000000e+00            True   \n5         2029-07-10  2029-07-10  3.800000e+10  3.800000e+10            True   \n\n  moneda_nocional nombre_indice  valor_indice_inicial  valor_indice_final  \\\n0             CLP        ICPCLP              1.000000            1.000000   \n1             CLP        ICPCLP          18376.690000        19227.955278   \n2             CLP        ICPCLP          19227.955278        19865.747233   \n3             CLP        ICPCLP          19865.747233        21025.943703   \n4             CLP        ICPCLP          21025.943703        22642.661052   \n5             CLP        ICPCLP          22642.661052        24438.976252   \n\n   valor_tasa_equivalente  tipo_tasa       interes         flujo  spread  \\\n0                    0.00  LinAct360  0.000000e+00  0.000000e+00     0.0   \n1                    0.02  LinAct360  1.547444e+09  1.547444e+09     0.0   \n2                    0.02  LinAct360  1.536889e+09  1.536889e+09     0.0   \n3                    0.03  LinAct360  2.314833e+09  2.314833e+09     0.0   \n4                    0.04  LinAct360  3.090667e+09  3.090667e+09     0.0   \n5                    0.04  LinAct360  3.078000e+09  4.107800e+10     0.0   \n\n   gearing  \n0      1.0  \n1      1.0  \n2      1.0  \n3      1.0  \n4      1.0  \n5      1.0  ",
      "text/html": "<div>\n<style scoped>\n    .dataframe tbody tr th:only-of-type {\n        vertical-align: middle;\n    }\n\n    .dataframe tbody tr th {\n        vertical-align: top;\n    }\n\n    .dataframe thead th {\n        text-align: right;\n    }\n</style>\n<table border=\"1\" class=\"dataframe\">\n  <thead>\n    <tr style=\"text-align: right;\">\n      <th></th>\n      <th>fecha_inicial_devengo</th>\n      <th>fecha_final_devengo</th>\n      <th>fecha_inicial_indice</th>\n      <th>fecha_final_indice</th>\n      <th>fecha_pago</th>\n      <th>nocional</th>\n      <th>amortizacion</th>\n      <th>amort_es_flujo</th>\n      <th>moneda_nocional</th>\n      <th>nombre_indice</th>\n      <th>valor_indice_inicial</th>\n      <th>valor_indice_final</th>\n      <th>valor_tasa_equivalente</th>\n      <th>tipo_tasa</th>\n      <th>interes</th>\n      <th>flujo</th>\n      <th>spread</th>\n      <th>gearing</th>\n    </tr>\n  </thead>\n  <tbody>\n    <tr>\n      <th>0</th>\n      <td>2019-01-10</td>\n      <td>2019-07-10</td>\n      <td>2019-01-10</td>\n      <td>2019-07-10</td>\n      <td>2019-07-10</td>\n      <td>3.800000e+10</td>\n      <td>0.000000e+00</td>\n      <td>True</td>\n      <td>CLP</td>\n      <td>ICPCLP</td>\n      <td>1.000000</td>\n      <td>1.000000</td>\n      <td>0.00</td>\n      <td>LinAct360</td>\n      <td>0.000000e+00</td>\n      <td>0.000000e+00</td>\n      <td>0.0</td>\n      <td>1.0</td>\n    </tr>\n    <tr>\n      <th>1</th>\n      <td>2019-07-10</td>\n      <td>2021-07-12</td>\n      <td>2019-07-10</td>\n      <td>2021-07-12</td>\n      <td>2021-07-12</td>\n      <td>3.800000e+10</td>\n      <td>0.000000e+00</td>\n      <td>True</td>\n      <td>CLP</td>\n      <td>ICPCLP</td>\n      <td>18376.690000</td>\n      <td>19227.955278</td>\n      <td>0.02</td>\n      <td>LinAct360</td>\n      <td>1.547444e+09</td>\n      <td>1.547444e+09</td>\n      <td>0.0</td>\n      <td>1.0</td>\n    </tr>\n    <tr>\n      <th>2</th>\n      <td>2021-07-12</td>\n      <td>2023-07-10</td>\n      <td>2021-07-12</td>\n      <td>2023-07-10</td>\n      <td>2023-07-10</td>\n      <td>3.800000e+10</td>\n      <td>0.000000e+00</td>\n      <td>True</td>\n      <td>CLP</td>\n      <td>ICPCLP</td>\n      <td>19227.955278</td>\n      <td>19865.747233</td>\n      <td>0.02</td>\n      <td>LinAct360</td>\n      <td>1.536889e+09</td>\n      <td>1.536889e+09</td>\n      <td>0.0</td>\n      <td>1.0</td>\n    </tr>\n    <tr>\n      <th>3</th>\n      <td>2023-07-10</td>\n      <td>2025-07-10</td>\n      <td>2023-07-10</td>\n      <td>2025-07-10</td>\n      <td>2025-07-10</td>\n      <td>3.800000e+10</td>\n      <td>0.000000e+00</td>\n      <td>True</td>\n      <td>CLP</td>\n      <td>ICPCLP</td>\n      <td>19865.747233</td>\n      <td>21025.943703</td>\n      <td>0.03</td>\n      <td>LinAct360</td>\n      <td>2.314833e+09</td>\n      <td>2.314833e+09</td>\n      <td>0.0</td>\n      <td>1.0</td>\n    </tr>\n    <tr>\n      <th>4</th>\n      <td>2025-07-10</td>\n      <td>2027-07-12</td>\n      <td>2025-07-10</td>\n      <td>2027-07-12</td>\n      <td>2027-07-12</td>\n      <td>3.800000e+10</td>\n      <td>0.000000e+00</td>\n      <td>True</td>\n      <td>CLP</td>\n      <td>ICPCLP</td>\n      <td>21025.943703</td>\n      <td>22642.661052</td>\n      <td>0.04</td>\n      <td>LinAct360</td>\n      <td>3.090667e+09</td>\n      <td>3.090667e+09</td>\n      <td>0.0</td>\n      <td>1.0</td>\n    </tr>\n    <tr>\n      <th>5</th>\n      <td>2027-07-12</td>\n      <td>2029-07-10</td>\n      <td>2027-07-12</td>\n      <td>2029-07-10</td>\n      <td>2029-07-10</td>\n      <td>3.800000e+10</td>\n      <td>3.800000e+10</td>\n      <td>True</td>\n      <td>CLP</td>\n      <td>ICPCLP</td>\n      <td>22642.661052</td>\n      <td>24438.976252</td>\n      <td>0.04</td>\n      <td>LinAct360</td>\n      <td>3.078000e+09</td>\n      <td>4.107800e+10</td>\n      <td>0.0</td>\n      <td>1.0</td>\n    </tr>\n  </tbody>\n</table>\n</div>"
     },
     "execution_count": 85,
     "metadata": {},
     "output_type": "execute_result"
    }
   ],
   "source": [
    "# Se define un list donde almacenar los resultados de la función show\n",
    "tabla = []\n",
    "for i in range(0, overnight_index_leg.size()):\n",
    "    tabla.append(qcf.show(overnight_index_leg.get_cashflow_at(i)))\n",
    "\n",
    "# Se utiliza tabla para inicializar el Dataframe\n",
    "columnas = list(qcf.get_column_names(\"OvernightIndexCashflow\", \"\"))\n",
    "df9 = pd.DataFrame(tabla, columns=columnas)\n",
    "\n",
    "# Se despliega la data en este formato\n",
    "df9 # .style.format(format_dict)"
   ],
   "metadata": {
    "collapsed": false,
    "ExecuteTime": {
     "end_time": "2023-12-19T16:23:50.411668Z",
     "start_time": "2023-12-19T16:23:50.371141Z"
    }
   }
  },
  {
   "cell_type": "markdown",
   "source": [
    "Con esto, podemos calcular el valor presente."
   ],
   "metadata": {
    "collapsed": false
   }
  },
  {
   "cell_type": "code",
   "execution_count": 86,
   "outputs": [
    {
     "name": "stdout",
     "output_type": "stream",
     "text": [
      "Valor presente pata ON Index Leg: 39,062,144,488\n"
     ]
    }
   ],
   "source": [
    "vp_on_index_leg = pv.pv(fecha_hoy, overnight_index_leg, zz1)\n",
    "print(\"Valor presente pata ON Index Leg: {0:,.0f}\".format(vp_on_index_leg))"
   ],
   "metadata": {
    "collapsed": false,
    "ExecuteTime": {
     "end_time": "2023-12-19T16:24:45.130058Z",
     "start_time": "2023-12-19T16:24:45.084461Z"
    }
   }
  },
  {
   "cell_type": "code",
   "execution_count": 87,
   "outputs": [],
   "source": [
    "csh = overnight_index_leg.get_cashflow_at(5)"
   ],
   "metadata": {
    "collapsed": false,
    "ExecuteTime": {
     "end_time": "2023-12-19T16:24:54.267473Z",
     "start_time": "2023-12-19T16:24:54.225095Z"
    }
   }
  },
  {
   "cell_type": "code",
   "execution_count": 88,
   "outputs": [
    {
     "data": {
      "text/plain": "31702674802.50826"
     },
     "execution_count": 88,
     "metadata": {},
     "output_type": "execute_result"
    }
   ],
   "source": [
    "pv.pv(fecha_hoy, csh, zz1)"
   ],
   "metadata": {
    "collapsed": false,
    "ExecuteTime": {
     "end_time": "2023-12-19T16:24:57.708234Z",
     "start_time": "2023-12-19T16:24:57.658082Z"
    }
   }
  },
  {
   "cell_type": "markdown",
   "source": [
    "También en este caso es posible calcular la sensibilidad a la curva de descuento."
   ],
   "metadata": {
    "collapsed": false
   }
  },
  {
   "cell_type": "code",
   "execution_count": 89,
   "outputs": [
    {
     "name": "stdout",
     "output_type": "stream",
     "text": [
      "Sensibilidad en 0: -0\n",
      "Sensibilidad en 1: -0\n",
      "Sensibilidad en 2: -0\n",
      "Sensibilidad en 3: -0\n",
      "Sensibilidad en 4: -0\n",
      "Sensibilidad en 5: -0\n",
      "Sensibilidad en 6: -0\n",
      "Sensibilidad en 7: -0\n",
      "Sensibilidad en 8: -0\n",
      "Sensibilidad en 9: -0\n",
      "Sensibilidad en 10: -0\n",
      "Sensibilidad en 11: -0\n",
      "Sensibilidad en 12: -0\n",
      "Sensibilidad en 13: -0\n",
      "Sensibilidad en 14: -15,407,642\n",
      "Sensibilidad en 15: -7,831,157\n",
      "Sensibilidad en 16: -0\n",
      "Sensibilidad en 17: -0\n",
      "Sensibilidad en 18: -0\n"
     ]
    }
   ],
   "source": [
    "der = pv.get_derivatives()\n",
    "i = 0\n",
    "bp = .0001\n",
    "for d in der:\n",
    "    print(\"Sensibilidad en {0:}: {1:0,.0f}\".format(i, d * bp))\n",
    "    i += 1"
   ],
   "metadata": {
    "collapsed": false,
    "ExecuteTime": {
     "end_time": "2023-12-19T16:25:05.316577Z",
     "start_time": "2023-12-19T16:25:05.264235Z"
    }
   }
  },
  {
   "cell_type": "markdown",
   "source": [
    "Podemos ver la sensibilidad total:"
   ],
   "metadata": {
    "collapsed": false
   }
  },
  {
   "cell_type": "code",
   "execution_count": 90,
   "outputs": [
    {
     "name": "stdout",
     "output_type": "stream",
     "text": [
      "Sensibilidad de descuento: -23,238,799 CLP\n"
     ]
    }
   ],
   "source": [
    "sens_disc = [d * bp for d in der]\n",
    "print(\"Sensibilidad de descuento: {0:,.0f} CLP\".format(sum(sens_disc)))"
   ],
   "metadata": {
    "collapsed": false,
    "ExecuteTime": {
     "end_time": "2023-12-19T16:25:12.029562Z",
     "start_time": "2023-12-19T16:25:12.011553Z"
    }
   }
  },
  {
   "cell_type": "markdown",
   "source": [
    "La estructura es la misma que para una pata fija, lo que indica que se debe también incluir la sensibilidad a la curva de proyección."
   ],
   "metadata": {
    "collapsed": false
   }
  },
  {
   "cell_type": "code",
   "execution_count": 91,
   "outputs": [
    {
     "name": "stdout",
     "output_type": "stream",
     "text": [
      "Sensibilidad en 0: 0\n",
      "Sensibilidad en 1: 0\n",
      "Sensibilidad en 2: 0\n",
      "Sensibilidad en 3: 0\n",
      "Sensibilidad en 4: 0\n",
      "Sensibilidad en 5: 74,757\n",
      "Sensibilidad en 6: 158,384\n",
      "Sensibilidad en 7: 0\n",
      "Sensibilidad en 8: 256,858\n",
      "Sensibilidad en 9: 130,015\n",
      "Sensibilidad en 10: 644,319\n",
      "Sensibilidad en 11: 327,485\n",
      "Sensibilidad en 12: 998,768\n",
      "Sensibilidad en 13: 518,033\n",
      "Sensibilidad en 14: 15,407,642\n",
      "Sensibilidad en 15: 7,831,157\n",
      "Sensibilidad en 16: 0\n",
      "Sensibilidad en 17: 0\n",
      "Sensibilidad en 18: 0\n",
      "Sensibilidad de proyección: 26,347,418 CLP\n"
     ]
    }
   ],
   "source": [
    "import numpy as np\n",
    "bp = .0001\n",
    "result = []\n",
    "for i in range(overnight_index_leg.size()):\n",
    "    cshflw = overnight_index_leg.get_cashflow_at(i)\n",
    "    amt_der = cshflw.get_amount_derivatives()\n",
    "    df = zz1.get_discount_factor_at(fecha_hoy.day_diff(cshflw.get_settlement_date()))\n",
    "    amt_der = [a * bp * df for a in amt_der]\n",
    "    if len(amt_der) > 0:\n",
    "        result.append(np.array(amt_der))\n",
    "total = result[0] * 0\n",
    "\n",
    "for r in result:\n",
    "    total += r\n",
    "\n",
    "for i in range(len(total)):\n",
    "    print(\"Sensibilidad en {0:}: {1:0,.0f}\".format(i, total[i]))\n",
    "\n",
    "print(\"Sensibilidad de proyección: {0:,.0f} CLP\".format(sum(total)))"
   ],
   "metadata": {
    "collapsed": false,
    "ExecuteTime": {
     "end_time": "2023-12-19T16:25:44.267682Z",
     "start_time": "2023-12-19T16:25:44.243985Z"
    }
   }
  },
  {
   "cell_type": "markdown",
   "source": [
    "Como se espera de una pata OvernightIndex (con lag de pago igual a 0 y spread igual a 0), ambas sensibilidades se cancelan."
   ],
   "metadata": {
    "collapsed": false
   }
  },
  {
   "cell_type": "markdown",
   "source": [
    "#### Se verifica la sensibilidad de proyección por diferencias finitas:"
   ],
   "metadata": {
    "collapsed": false
   }
  },
  {
   "cell_type": "code",
   "execution_count": 92,
   "outputs": [
    {
     "name": "stdout",
     "output_type": "stream",
     "text": [
      "Sensibilidad en vértice 13: 518,033 CLP\n"
     ]
    }
   ],
   "source": [
    "fwd_rates.set_rates_overnight_index_leg(fecha_hoy, icp_val, overnight_index_leg, zz_sens_up)\n",
    "vp_on_index_leg_up = pv.pv(fecha_hoy, overnight_index_leg, zz1)\n",
    "\n",
    "fwd_rates.set_rates_overnight_index_leg(fecha_hoy, icp_val, overnight_index_leg, zz_sens_down)\n",
    "vp_on_index_leg_down = pv.pv(fecha_hoy, icp_clp2_leg, zz1)\n",
    "\n",
    "print(\"Sensibilidad en vértice {0:}: {1:,.0f} CLP\".format(\n",
    "    vertice, (vp_on_index_leg_up - vp_on_index_leg_down) / 2))"
   ],
   "metadata": {
    "collapsed": false,
    "ExecuteTime": {
     "end_time": "2023-12-19T16:27:07.112269Z",
     "start_time": "2023-12-19T16:27:07.094307Z"
    }
   }
  },
  {
   "cell_type": "markdown",
   "metadata": {},
   "source": [
    "### IborCashflow2 Leg"
   ]
  },
  {
   "cell_type": "code",
   "execution_count": null,
   "metadata": {
    "execution": {
     "iopub.execute_input": "2023-10-16T14:40:44.785197Z",
     "iopub.status.busy": "2023-10-16T14:40:44.785075Z",
     "iopub.status.idle": "2023-10-16T14:40:44.788253Z",
     "shell.execute_reply": "2023-10-16T14:40:44.787922Z",
     "shell.execute_reply.started": "2023-10-16T14:40:44.785190Z"
    }
   },
   "outputs": [],
   "source": [
    "### Se da de alta los parámetros requeridos\n",
    "rp = qcf.RecPay.RECEIVE\n",
    "fecha_inicio = qcf.QCDate(12, 11, 2019)\n",
    "fecha_final = qcf.QCDate(12, 11, 2029)\n",
    "bus_adj_rule = qcf.BusyAdjRules.MODFOLLOW\n",
    "periodicidad_pago = qcf.Tenor('3M')\n",
    "periodo_irregular_pago = qcf.StubPeriod.NO\n",
    "calendario = qcf.BusinessCalendar(fecha_inicio, 20)\n",
    "lag_pago = 0\n",
    "periodicidad_fijacion = qcf.Tenor('3M')\n",
    "periodo_irregular_fijacion = qcf.StubPeriod.NO\n",
    "\n",
    "# vamos a usar el mismo calendario para pago y fijaciones\n",
    "lag_de_fijacion = 2\n",
    "\n",
    "# Definición del índice\n",
    "codigo = 'LIBORUSD3M'\n",
    "lin_act360 = qcf.QCInterestRate(.0, qcf.QCAct360(), qcf.QCLinearWf())\n",
    "fixing_lag = qcf.Tenor('2d')\n",
    "tenor = qcf.Tenor('3m')\n",
    "fixing_calendar = calendario\n",
    "settlement_calendar = calendario\n",
    "usd = qcf.QCUSD()\n",
    "libor_usd_3m = qcf.InterestRateIndex(\n",
    "    codigo,\n",
    "    lin_act360,\n",
    "    fixing_lag,\n",
    "    tenor,\n",
    "    fixing_calendar,\n",
    "    settlement_calendar,\n",
    "    usd\n",
    ")\n",
    "# Fin índice\n",
    "\n",
    "nominal = 20_000_000.0\n",
    "amort_es_flujo = True\n",
    "moneda = usd\n",
    "spread = .0\n",
    "gearing = 1.0\n",
    "\n",
    "# Es la op 2879 en FD\n",
    "ibor_leg = qcf.LegFactory.build_bullet_ibor2_leg(\n",
    "    rp, \n",
    "    fecha_inicio, \n",
    "    fecha_final, \n",
    "    bus_adj_rule, \n",
    "    periodicidad_pago,\n",
    "    periodo_irregular_pago, \n",
    "    calendario, \n",
    "    lag_pago,\n",
    "    periodicidad_fijacion, \n",
    "    periodo_irregular_fijacion,\n",
    "    calendario, \n",
    "    lag_de_fijacion, \n",
    "    libor_usd_3m,\n",
    "    nominal, \n",
    "    amort_es_flujo, \n",
    "    moneda, \n",
    "    spread, \n",
    "    gearing\n",
    ")"
   ]
  },
  {
   "cell_type": "code",
   "execution_count": null,
   "metadata": {
    "execution": {
     "iopub.execute_input": "2023-10-16T14:40:44.788650Z",
     "iopub.status.busy": "2023-10-16T14:40:44.788554Z",
     "iopub.status.idle": "2023-10-16T14:40:44.797782Z",
     "shell.execute_reply": "2023-10-16T14:40:44.797458Z",
     "shell.execute_reply.started": "2023-10-16T14:40:44.788641Z"
    }
   },
   "outputs": [],
   "source": [
    "# Se define un list donde almacenar los resultados de la función show\n",
    "tabla = []\n",
    "for i in range(0, ibor_leg.size()):\n",
    "    tabla.append(qcf.show(ibor_leg.get_cashflow_at(i)))\n",
    "\n",
    "# Se utiliza tabla para inicializar el Dataframe\n",
    "columnas = ['fecha_inicial', 'fecha__final', 'fecha_fixing', 'fecha__pago', 'nominal', 'amort', 'interes', 'amort_es_flujo', 'flujo',\n",
    "            'moneda', 'codigo_indice', 'valor_tasa', 'spread', 'gearing', 'tipo_tasa']\n",
    "df5 = pd.DataFrame(tabla, columns=columnas)\n",
    "\n",
    "# Se despliega la data en este formato\n",
    "df5.style.format(format_dict)"
   ]
  },
  {
   "cell_type": "code",
   "execution_count": null,
   "metadata": {
    "execution": {
     "iopub.execute_input": "2023-10-16T14:40:44.798322Z",
     "iopub.status.busy": "2023-10-16T14:40:44.798153Z",
     "iopub.status.idle": "2023-10-16T14:40:44.800222Z",
     "shell.execute_reply": "2023-10-16T14:40:44.799995Z",
     "shell.execute_reply.started": "2023-10-16T14:40:44.798316Z"
    }
   },
   "outputs": [],
   "source": [
    "libor = 0.0190063\n",
    "fecha_hoy = qcf.QCDate(25, 2, 2020)\n",
    "ibor_leg.get_cashflow_at(0).set_rate_value(libor)\n",
    "fwd_rates.set_rates_ibor_leg(fecha_hoy, ibor_leg, zz2)"
   ]
  },
  {
   "cell_type": "code",
   "execution_count": null,
   "metadata": {
    "execution": {
     "iopub.execute_input": "2023-10-16T14:40:44.800634Z",
     "iopub.status.busy": "2023-10-16T14:40:44.800576Z",
     "iopub.status.idle": "2023-10-16T14:40:44.809425Z",
     "shell.execute_reply": "2023-10-16T14:40:44.809086Z",
     "shell.execute_reply.started": "2023-10-16T14:40:44.800628Z"
    }
   },
   "outputs": [],
   "source": [
    "# Se define un list donde almacenar los resultados de la función show\n",
    "tabla = []\n",
    "for i in range(0, ibor_leg.size()):\n",
    "    tabla.append(qcf.show(ibor_leg.get_cashflow_at(i)))\n",
    "\n",
    "# Se utiliza tabla para inicializar el Dataframe\n",
    "columnas = ['fecha_inicial', 'fecha__final', 'fecha_fixing', 'fecha__pago', 'nominal', 'amort', 'interes', 'amort_es_flujo', 'flujo',\n",
    "            'moneda', 'codigo_indice', 'valor_tasa', 'spread', 'gearing', 'tipo_tasa']\n",
    "df5 = pd.DataFrame(tabla, columns=columnas)\n",
    "\n",
    "# Se despliega la data en este formato\n",
    "df5.style.format(format_dict)"
   ]
  },
  {
   "cell_type": "code",
   "execution_count": null,
   "metadata": {
    "execution": {
     "iopub.execute_input": "2023-10-16T14:40:44.809836Z",
     "iopub.status.busy": "2023-10-16T14:40:44.809769Z",
     "iopub.status.idle": "2023-10-16T14:40:44.812473Z",
     "shell.execute_reply": "2023-10-16T14:40:44.812163Z",
     "shell.execute_reply.started": "2023-10-16T14:40:44.809830Z"
    }
   },
   "outputs": [],
   "source": [
    "which_cashflow = 1\n",
    "d1 = fecha_hoy.day_diff(ibor_leg.get_cashflow_at(which_cashflow).get_start_date())\n",
    "d2 = fecha_hoy.day_diff(ibor_leg.get_cashflow_at(which_cashflow).get_end_date())\n",
    "print(\"d1: {0:,.0f}\".format(d1))\n",
    "print(\"d2: {0:,.0f}\".format(d2))\n",
    "crv = zz2\n",
    "w1 = 1 / crv.get_discount_factor_at(d1)\n",
    "w2 = 1 / crv.get_discount_factor_at(d2)\n",
    "print(\"Factor forward: {0:.4%}\".format(w2 / w1))\n",
    "print(\"Tasa forward: {0:.4%}\".format((w2 / w1 - 1) * 360 / (d2 - d1)))\n",
    "print(\"Curve method {0:.4%}\".format(crv.get_forward_rate_with_rate(libor_usd_3m.get_rate(), d1, d2)))"
   ]
  },
  {
   "cell_type": "code",
   "execution_count": null,
   "metadata": {
    "cell_style": "center",
    "execution": {
     "iopub.execute_input": "2023-10-16T14:40:44.812937Z",
     "iopub.status.busy": "2023-10-16T14:40:44.812829Z",
     "iopub.status.idle": "2023-10-16T14:40:44.814739Z",
     "shell.execute_reply": "2023-10-16T14:40:44.814445Z",
     "shell.execute_reply.started": "2023-10-16T14:40:44.812928Z"
    }
   },
   "outputs": [],
   "source": [
    "vp_ibor = pv.pv(fecha_hoy, ibor_leg, zz2)\n",
    "print(\"Valor presente pata IBOR: {0:,.0f}\".format(vp_ibor))"
   ]
  },
  {
   "cell_type": "code",
   "execution_count": null,
   "metadata": {
    "execution": {
     "iopub.execute_input": "2023-10-16T14:40:44.815281Z",
     "iopub.status.busy": "2023-10-16T14:40:44.815203Z",
     "iopub.status.idle": "2023-10-16T14:40:44.817557Z",
     "shell.execute_reply": "2023-10-16T14:40:44.817331Z",
     "shell.execute_reply.started": "2023-10-16T14:40:44.815275Z"
    }
   },
   "outputs": [],
   "source": [
    "der = pv.get_derivatives()\n",
    "i = 0\n",
    "bp = .0001\n",
    "for d in der:\n",
    "    print(\"Sensibilidad en {0:}: {1:0,.0f}\".format(i, d * bp))\n",
    "    i += 1\n",
    "print(\"Sensibilidad de descuento: {0:,.0f} USD\".format(sum(der) * bp))"
   ]
  },
  {
   "cell_type": "markdown",
   "metadata": {},
   "source": [
    "#### Se verifica la sensibilidad de descuento por diferencias finitas."
   ]
  },
  {
   "cell_type": "code",
   "execution_count": null,
   "metadata": {
    "execution": {
     "iopub.execute_input": "2023-10-16T14:40:44.818010Z",
     "iopub.status.busy": "2023-10-16T14:40:44.817930Z",
     "iopub.status.idle": "2023-10-16T14:40:44.820066Z",
     "shell.execute_reply": "2023-10-16T14:40:44.819851Z",
     "shell.execute_reply.started": "2023-10-16T14:40:44.818004Z"
    }
   },
   "outputs": [],
   "source": [
    "vp_ibor_up = pv.pv(fecha_hoy, ibor_leg, zz2_sens_up)\n",
    "print(\"Valor presente up pata IBOR: {0:,.0f}\".format(vp_ibor_up))\n",
    "\n",
    "vp_ibor_down = pv.pv(fecha_hoy, ibor_leg, zz2_sens_down)\n",
    "print(\"Valor presente down pata IBOR: {0:,.0f}\".format(vp_ibor_down))\n",
    "\n",
    "print(\"Sensibilidad de descuento en el vértice {0:}: {1:,.0f}\".format(vertice, (vp_ibor_up - vp_ibor_down) / 2))"
   ]
  },
  {
   "cell_type": "markdown",
   "metadata": {},
   "source": [
    "Se calcula también la sensibilidad a la curva de proyección."
   ]
  },
  {
   "cell_type": "code",
   "execution_count": null,
   "metadata": {
    "execution": {
     "iopub.execute_input": "2023-10-16T14:40:44.820400Z",
     "iopub.status.busy": "2023-10-16T14:40:44.820346Z",
     "iopub.status.idle": "2023-10-16T14:40:44.825612Z",
     "shell.execute_reply": "2023-10-16T14:40:44.825391Z",
     "shell.execute_reply.started": "2023-10-16T14:40:44.820395Z"
    }
   },
   "outputs": [],
   "source": [
    "import numpy as np\n",
    "bp = .0001\n",
    "result = []\n",
    "\n",
    "for i in range(ibor_leg.size()):\n",
    "    cshflw = ibor_leg.get_cashflow_at(i)\n",
    "    df = zz2.get_discount_factor_at(fecha_hoy.day_diff(cshflw.get_settlement_date()))\n",
    "    amt_der = cshflw.get_amount_derivatives()\n",
    "    if len(amt_der) > 0:\n",
    "        amt_der = [a * bp * df for a in amt_der]\n",
    "        result.append(np.array(amt_der))\n",
    "\n",
    "total = result[0] * 0\n",
    "for r in result:\n",
    "    total += r\n",
    "\n",
    "for i in range(len(total)):\n",
    "    print(\"Sensibilidad en {0:}: {1:0,.0f}\".format(i, total[i]))\n",
    "\n",
    "print(\"Sensibilidad de proyección: {0:,.0f} USD\".format(sum(total)))"
   ]
  },
  {
   "cell_type": "markdown",
   "metadata": {},
   "source": [
    "#### Se verifica la sensibilidad de proyección por diferencias finitas."
   ]
  },
  {
   "cell_type": "code",
   "execution_count": null,
   "metadata": {
    "execution": {
     "iopub.execute_input": "2023-10-16T14:40:44.826102Z",
     "iopub.status.busy": "2023-10-16T14:40:44.826002Z",
     "iopub.status.idle": "2023-10-16T14:40:44.828713Z",
     "shell.execute_reply": "2023-10-16T14:40:44.828379Z",
     "shell.execute_reply.started": "2023-10-16T14:40:44.826096Z"
    }
   },
   "outputs": [],
   "source": [
    "fwd_rates.set_rates_ibor_leg(fecha_hoy, ibor_leg, zz2_sens_up)\n",
    "vp_ibor_up = pv.pv(fecha_hoy, ibor_leg, zz2)\n",
    "print(\"Valor presente up pata IBOR: {0:,.0f}\".format(vp_ibor_up))\n",
    "\n",
    "fwd_rates.set_rates_ibor_leg(fecha_hoy, ibor_leg, zz2_sens_down)\n",
    "vp_ibor_down = pv.pv(fecha_hoy, ibor_leg, zz2)\n",
    "print(\"Valor presente down pata IBOR: {0:,.0f}\".format(vp_ibor_down))\n",
    "\n",
    "print(\"Sensibilidad de proyección en el vértice {0:}: {1:,.0f}\".format(vertice, (vp_ibor_up - vp_ibor_down) / 2))"
   ]
  },
  {
   "cell_type": "markdown",
   "metadata": {},
   "source": [
    "### IcpClfCashflow Leg"
   ]
  },
  {
   "cell_type": "code",
   "execution_count": null,
   "metadata": {
    "execution": {
     "iopub.execute_input": "2023-10-16T14:40:44.829104Z",
     "iopub.status.busy": "2023-10-16T14:40:44.829014Z",
     "iopub.status.idle": "2023-10-16T14:40:44.831443Z",
     "shell.execute_reply": "2023-10-16T14:40:44.831248Z",
     "shell.execute_reply.started": "2023-10-16T14:40:44.829098Z"
    }
   },
   "outputs": [],
   "source": [
    "# Se da de alta los parámetros requeridos\n",
    "rp = qcf.RecPay.RECEIVE\n",
    "fecha_inicio = qcf.QCDate(31, 5, 2018)\n",
    "fecha_final = qcf.QCDate(9, 5, 2026) \n",
    "bus_adj_rule = qcf.BusyAdjRules.FOLLOW\n",
    "periodicidad_pago = qcf.Tenor('6M')\n",
    "periodo_irregular_pago = qcf.StubPeriod.SHORTFRONT\n",
    "calendario = qcf.BusinessCalendar(fecha_inicio, 20)\n",
    "lag_pago = 0\n",
    "nominal = 6000_00.0\n",
    "amort_es_flujo = True \n",
    "spread = .0\n",
    "gearing = 1.0\n",
    "\n",
    "icp_clf_leg = qcf.LegFactory.build_bullet_icp_clf_leg(\n",
    "    rp, \n",
    "    fecha_inicio, \n",
    "    fecha_final, \n",
    "    bus_adj_rule, \n",
    "    periodicidad_pago,\n",
    "    periodo_irregular_pago, \n",
    "    calendario, \n",
    "    lag_pago,\n",
    "    nominal, \n",
    "    amort_es_flujo, \n",
    "    spread, \n",
    "    gearing\n",
    ")"
   ]
  },
  {
   "cell_type": "code",
   "execution_count": null,
   "metadata": {
    "execution": {
     "iopub.execute_input": "2023-10-16T14:40:44.838852Z",
     "iopub.status.busy": "2023-10-16T14:40:44.838699Z",
     "iopub.status.idle": "2023-10-16T14:40:44.845054Z",
     "shell.execute_reply": "2023-10-16T14:40:44.844825Z",
     "shell.execute_reply.started": "2023-10-16T14:40:44.838845Z"
    }
   },
   "outputs": [],
   "source": [
    "# Se define un list donde almacenar los resultados de la función show\n",
    "tabla = []\n",
    "for i in range(0, icp_clf_leg.size()):\n",
    "    tabla.append(qcf.show(icp_clf_leg.get_cashflow_at(i)))\n",
    "\n",
    "# Se utiliza tabla para inicializar el Dataframe\n",
    "columnas = ['fecha_inicial', 'fecha__final', 'fecha__pago', 'nominal', 'amort', 'amort_es_flujo', 'flujo',\n",
    "            'moneda', 'icp_inicial', 'icp_final', 'uf_inicial', 'uf_final',\n",
    "            'valor_tasa', 'interes', 'spread', 'gearing', 'tipo_tasa']\n",
    "df8 = pd.DataFrame(tabla, columns=columnas)\n",
    "\n",
    "# Se despliega la data en este formato\n",
    "df8.style.format(format_dict)"
   ]
  },
  {
   "cell_type": "code",
   "execution_count": null,
   "metadata": {
    "execution": {
     "iopub.execute_input": "2023-10-16T14:40:44.845489Z",
     "iopub.status.busy": "2023-10-16T14:40:44.845426Z",
     "iopub.status.idle": "2023-10-16T14:40:44.847559Z",
     "shell.execute_reply": "2023-10-16T14:40:44.847337Z",
     "shell.execute_reply.started": "2023-10-16T14:40:44.845482Z"
    }
   },
   "outputs": [],
   "source": [
    "icp_hoy = 18_882.07\n",
    "uf_hoy = 28440.19\n",
    "fwd_rates.set_rates_icp_clf_leg(fecha_hoy, icp_hoy, uf_hoy, icp_clf_leg, zz1, zz1, zz3)\n",
    "cshflw = icp_clf_leg.get_cashflow_at(3)\n",
    "cshflw.set_start_date_uf(28080.26)\n",
    "cshflw.set_start_date_icp(18786.13)"
   ]
  },
  {
   "cell_type": "code",
   "execution_count": null,
   "metadata": {
    "execution": {
     "iopub.execute_input": "2023-10-16T14:40:44.847887Z",
     "iopub.status.busy": "2023-10-16T14:40:44.847827Z",
     "iopub.status.idle": "2023-10-16T14:40:44.849880Z",
     "shell.execute_reply": "2023-10-16T14:40:44.849649Z",
     "shell.execute_reply.started": "2023-10-16T14:40:44.847882Z"
    }
   },
   "outputs": [],
   "source": [
    "print(fecha_hoy)"
   ]
  },
  {
   "cell_type": "code",
   "execution_count": null,
   "metadata": {
    "execution": {
     "iopub.execute_input": "2023-10-16T14:40:44.850475Z",
     "iopub.status.busy": "2023-10-16T14:40:44.850357Z",
     "iopub.status.idle": "2023-10-16T14:40:44.856879Z",
     "shell.execute_reply": "2023-10-16T14:40:44.856644Z",
     "shell.execute_reply.started": "2023-10-16T14:40:44.850464Z"
    }
   },
   "outputs": [],
   "source": [
    "# Se define un list donde almacenar los resultados de la función show\n",
    "tabla = []\n",
    "for i in range(0, icp_clf_leg.size()):\n",
    "    tabla.append(qcf.show(icp_clf_leg.get_cashflow_at(i)))\n",
    "\n",
    "# Se utiliza tabla para inicializar el Dataframe\n",
    "columnas = ['fecha_inicial', 'fecha__final', 'fecha__pago', 'nominal', 'amort', 'amort_es_flujo', 'flujo',\n",
    "            'moneda', 'icp_inicial', 'icp_final', 'uf_inicial', 'uf_final',\n",
    "            'valor_tasa', 'interes', 'spread', 'gearing', 'tipo_tasa']\n",
    "df8 = pd.DataFrame(tabla, columns=columnas)\n",
    "\n",
    "# Se despliega la data en este formato\n",
    "df8.style.format(format_dict)"
   ]
  },
  {
   "cell_type": "code",
   "execution_count": null,
   "metadata": {
    "execution": {
     "iopub.execute_input": "2023-10-16T14:40:44.857388Z",
     "iopub.status.busy": "2023-10-16T14:40:44.857295Z",
     "iopub.status.idle": "2023-10-16T14:40:44.859271Z",
     "shell.execute_reply": "2023-10-16T14:40:44.858952Z",
     "shell.execute_reply.started": "2023-10-16T14:40:44.857382Z"
    }
   },
   "outputs": [],
   "source": [
    "vp_icp_clf = pv.pv(fecha_hoy, icp_clf_leg, zz3)\n",
    "print(\"Valor presente en UF: {0:,.2f}\".format(vp_icp_clf))\n",
    "print(\"Valor presente en CLP: {0:,.0f}\".format(vp_icp_clf * uf_hoy))"
   ]
  },
  {
   "cell_type": "code",
   "execution_count": null,
   "metadata": {
    "execution": {
     "iopub.execute_input": "2023-10-16T14:40:44.859660Z",
     "iopub.status.busy": "2023-10-16T14:40:44.859569Z",
     "iopub.status.idle": "2023-10-16T14:40:44.861337Z",
     "shell.execute_reply": "2023-10-16T14:40:44.861136Z",
     "shell.execute_reply.started": "2023-10-16T14:40:44.859653Z"
    }
   },
   "outputs": [],
   "source": [
    "print(\"Dif %: {0:.4%}\".format(12_940.56/12_943.45-1))"
   ]
  },
  {
   "cell_type": "code",
   "execution_count": null,
   "metadata": {
    "cell_style": "center",
    "execution": {
     "iopub.execute_input": "2023-10-16T14:40:44.861747Z",
     "iopub.status.busy": "2023-10-16T14:40:44.861688Z",
     "iopub.status.idle": "2023-10-16T14:40:44.864006Z",
     "shell.execute_reply": "2023-10-16T14:40:44.863783Z",
     "shell.execute_reply.started": "2023-10-16T14:40:44.861742Z"
    },
    "scrolled": true
   },
   "outputs": [],
   "source": [
    "der = pv.get_derivatives()\n",
    "i = 0\n",
    "bp = .0001\n",
    "for d in der:\n",
    "    print(\"Sensibilidad en {0:}: {1:0,.2f}\".format(i, d * bp))\n",
    "    i += 1\n",
    "print(\"Sensibilidad de descuento: {0:,.2f} CLF\".format(sum(der) * bp))"
   ]
  },
  {
   "cell_type": "code",
   "execution_count": null,
   "metadata": {
    "cell_style": "center",
    "execution": {
     "iopub.execute_input": "2023-10-16T14:40:44.864546Z",
     "iopub.status.busy": "2023-10-16T14:40:44.864456Z",
     "iopub.status.idle": "2023-10-16T14:40:44.868067Z",
     "shell.execute_reply": "2023-10-16T14:40:44.867797Z",
     "shell.execute_reply.started": "2023-10-16T14:40:44.864537Z"
    }
   },
   "outputs": [],
   "source": [
    "bp = .0001\n",
    "result = []\n",
    "\n",
    "for i in range(icp_clf_leg.size()):\n",
    "    cshflw = icp_clf_leg.get_cashflow_at(i)\n",
    "    df = zz3.get_discount_factor_at(fecha_hoy.day_diff(cshflw.date()))\n",
    "    amt_der = cshflw.get_amount_ufclf_derivatives()\n",
    "    if len(amt_der) > 0:\n",
    "        amt_der = [a * bp * df for a in amt_der]\n",
    "        result.append(np.array(amt_der))\n",
    "\n",
    "total = result[0] * 0\n",
    "for r in result:\n",
    "    total += r\n",
    "\n",
    "for i in range(len(total)):\n",
    "    print(\"Sensibilidad en {0:}: {1:0,.2f}\".format(i, total[i]))"
   ]
  },
  {
   "cell_type": "markdown",
   "metadata": {},
   "source": [
    "### CompoundedOvernightRate Leg"
   ]
  },
  {
   "cell_type": "code",
   "execution_count": null,
   "metadata": {
    "execution": {
     "iopub.execute_input": "2023-10-16T14:53:51.904294Z",
     "iopub.status.busy": "2023-10-16T14:53:51.903768Z",
     "iopub.status.idle": "2023-10-16T14:53:51.916846Z",
     "shell.execute_reply": "2023-10-16T14:53:51.916144Z",
     "shell.execute_reply.started": "2023-10-16T14:53:51.904257Z"
    }
   },
   "outputs": [],
   "source": [
    "# Se da de alta los parámetros requeridos\n",
    "rp = qcf.RecPay.PAY\n",
    "fecha_inicio = qcf.QCDate(17, 7, 2023)\n",
    "fecha_final = qcf.QCDate(17, 7, 2027)\n",
    "bus_adj_rule = qcf.BusyAdjRules.MODFOLLOW\n",
    "periodicidad_pago = qcf.Tenor('12M')\n",
    "periodo_irregular_pago = qcf.StubPeriod.NO\n",
    "calendario = qcf.BusinessCalendar(fecha_inicio, 20)\n",
    "lag_pago = 2\n",
    "\n",
    "######################################################################\n",
    "# Definición del índice\n",
    "\n",
    "codigo = 'OISTEST'\n",
    "lin_act360 = qcf.QCInterestRate(.0, qcf.QCAct360(), qcf.QCLinearWf())\n",
    "fixing_lag = qcf.Tenor('0d')\n",
    "tenor = qcf.Tenor('1d')\n",
    "fixing_calendar = calendario\n",
    "settlement_calendar = calendario\n",
    "usd = qcf.QCUSD()\n",
    "oistest = qcf.InterestRateIndex(\n",
    "    codigo,\n",
    "    lin_act360,\n",
    "    fixing_lag,\n",
    "    tenor,\n",
    "    fixing_calendar,\n",
    "    settlement_calendar,\n",
    "    usd)\n",
    "\n",
    "# Fin índice\n",
    "######################################################################\n",
    "\n",
    "nominal = 5_500_000.0\n",
    "amort_es_flujo = True\n",
    "moneda = usd\n",
    "spread = .0\n",
    "gearing = 1.0\n",
    "\n",
    "cor_leg = qcf.LegFactory.build_bullet_compounded_overnight_rate_leg(\n",
    "    rp,\n",
    "    fecha_inicio,\n",
    "    fecha_final,\n",
    "    bus_adj_rule,\n",
    "    periodicidad_pago,\n",
    "    periodo_irregular_pago,\n",
    "    calendario,\n",
    "    lag_pago,\n",
    "    calendario,\n",
    "    oistest,\n",
    "    nominal,\n",
    "    amort_es_flujo,\n",
    "    usd,\n",
    "    spread,\n",
    "    gearing,\n",
    "    True,\n",
    "    10,\n",
    "    0,\n",
    "    0\n",
    ")"
   ]
  },
  {
   "cell_type": "code",
   "execution_count": null,
   "metadata": {
    "execution": {
     "iopub.execute_input": "2023-10-16T14:53:52.604704Z",
     "iopub.status.busy": "2023-10-16T14:53:52.603710Z",
     "iopub.status.idle": "2023-10-16T14:53:52.612162Z",
     "shell.execute_reply": "2023-10-16T14:53:52.610982Z",
     "shell.execute_reply.started": "2023-10-16T14:53:52.604657Z"
    }
   },
   "outputs": [],
   "source": [
    "ts = qcf.time_series()\n",
    "ts[qcf.QCDate(17, 7, 2023)] = .01\n",
    "ts[qcf.QCDate(18, 7, 2023)] = .02\n",
    "ts[qcf.QCDate(19, 7, 2023)] = .03\n",
    "ts[qcf.QCDate(20, 7, 2023)] = .04\n",
    "ts[qcf.QCDate(21, 7, 2023)] = .04"
   ]
  },
  {
   "cell_type": "markdown",
   "metadata": {},
   "source": [
    "#### Valor Presente"
   ]
  },
  {
   "cell_type": "code",
   "execution_count": null,
   "metadata": {
    "execution": {
     "iopub.execute_input": "2023-10-16T14:47:04.061379Z",
     "iopub.status.busy": "2023-10-16T14:47:04.060676Z",
     "iopub.status.idle": "2023-10-16T14:47:04.068458Z",
     "shell.execute_reply": "2023-10-16T14:47:04.067138Z",
     "shell.execute_reply.started": "2023-10-16T14:47:04.061327Z"
    }
   },
   "outputs": [],
   "source": [
    "fwd_rates.set_rates_compounded_overnight_leg(\n",
    "    fecha_inicio,\n",
    "    cor_leg,\n",
    "    zz1,\n",
    "    ts\n",
    ")"
   ]
  },
  {
   "cell_type": "code",
   "execution_count": null,
   "metadata": {
    "execution": {
     "iopub.execute_input": "2023-10-16T14:47:04.822880Z",
     "iopub.status.busy": "2023-10-16T14:47:04.822213Z",
     "iopub.status.idle": "2023-10-16T14:47:04.842406Z",
     "shell.execute_reply": "2023-10-16T14:47:04.841455Z",
     "shell.execute_reply.started": "2023-10-16T14:47:04.822839Z"
    }
   },
   "outputs": [],
   "source": [
    "# Se define un list donde almacenar los resultados de la función show\n",
    "tabla = []\n",
    "for i in range(0, cor_leg.size()):\n",
    "    tabla.append(qcf.show(cor_leg.get_cashflow_at(i)))\n",
    "\n",
    "# Se utiliza tabla para inicializar el Dataframe\n",
    "columnas = ['fecha_inicial', 'fecha__final', 'fecha__pago', 'nominal', 'amort', 'interes', 'amort_es_flujo', 'flujo',\n",
    "            'moneda', 'indice', 'valor_tasa', 'spread', 'gearing', 'tipo_tasa']\n",
    "df9 = pd.DataFrame(tabla, columns=columnas)\n",
    "\n",
    "# Se despliega la data en este formato\n",
    "df9.style.format(format_dict)"
   ]
  },
  {
   "cell_type": "code",
   "execution_count": null,
   "metadata": {
    "execution": {
     "iopub.execute_input": "2023-10-16T14:40:44.882154Z",
     "iopub.status.busy": "2023-10-16T14:40:44.881949Z",
     "iopub.status.idle": "2023-10-16T14:40:44.883758Z",
     "shell.execute_reply": "2023-10-16T14:40:44.883537Z",
     "shell.execute_reply.started": "2023-10-16T14:40:44.882147Z"
    }
   },
   "outputs": [],
   "source": [
    "print(f'{pv.pv(fecha_inicio, cor_leg, zz1):,.0f}')"
   ]
  },
  {
   "cell_type": "code",
   "execution_count": null,
   "metadata": {
    "execution": {
     "iopub.execute_input": "2023-10-16T14:40:44.884192Z",
     "iopub.status.busy": "2023-10-16T14:40:44.884116Z",
     "iopub.status.idle": "2023-10-16T14:40:44.886285Z",
     "shell.execute_reply": "2023-10-16T14:40:44.886063Z",
     "shell.execute_reply.started": "2023-10-16T14:40:44.884186Z"
    }
   },
   "outputs": [],
   "source": [
    "pres_value = 0.0\n",
    "for i in range(0, cor_leg.size()):\n",
    "    cshflw = cor_leg.get_cashflow_at(i)\n",
    "    print(f'{cshflw.amount():,.2f}, {cshflw.get_amortization()}')\n",
    "    temp = pv.pv(fecha_inicio, cshflw, zz1)\n",
    "    # print(f'{temp:,.0f}')\n",
    "    pres_value += temp\n",
    "print(f'{pres_value:,.0f}')"
   ]
  },
  {
   "cell_type": "markdown",
   "metadata": {},
   "source": [
    "#### Sensibilidad"
   ]
  },
  {
   "cell_type": "code",
   "execution_count": null,
   "metadata": {
    "execution": {
     "iopub.execute_input": "2023-10-16T14:40:44.886873Z",
     "iopub.status.busy": "2023-10-16T14:40:44.886719Z",
     "iopub.status.idle": "2023-10-16T14:40:44.888455Z",
     "shell.execute_reply": "2023-10-16T14:40:44.888234Z",
     "shell.execute_reply.started": "2023-10-16T14:40:44.886864Z"
    }
   },
   "outputs": [],
   "source": [
    "pips = .0001 # 1 punto básico"
   ]
  },
  {
   "cell_type": "markdown",
   "metadata": {},
   "source": [
    "##### Curva de Proyección"
   ]
  },
  {
   "cell_type": "markdown",
   "metadata": {},
   "source": [
    "Estas derivadas se deben obtener inmediatamente después de calcular el valor presente."
   ]
  },
  {
   "cell_type": "code",
   "execution_count": null,
   "metadata": {
    "execution": {
     "iopub.execute_input": "2023-10-16T14:40:44.888820Z",
     "iopub.status.busy": "2023-10-16T14:40:44.888750Z",
     "iopub.status.idle": "2023-10-16T14:40:44.891132Z",
     "shell.execute_reply": "2023-10-16T14:40:44.890907Z",
     "shell.execute_reply.started": "2023-10-16T14:40:44.888814Z"
    }
   },
   "outputs": [],
   "source": [
    "proj_sens_by_cashflow = np.array([np.array(\n",
    "    np.array(cor_leg.get_cashflow_at(i).get_amount_derivatives()) *\n",
    "    zz1.get_discount_factor_at(fecha_inicio.day_diff(cor_leg.get_cashflow_at(i).get_settlement_date())) * pips)\n",
    "                             for i in range(cor_leg.size())])\n",
    "proj_sens = np.sum(proj_sens_by_cashflow, axis=0)"
   ]
  },
  {
   "cell_type": "markdown",
   "metadata": {},
   "source": [
    "##### Curva de Descuento"
   ]
  },
  {
   "cell_type": "code",
   "execution_count": null,
   "metadata": {
    "execution": {
     "iopub.execute_input": "2023-10-16T14:40:44.891468Z",
     "iopub.status.busy": "2023-10-16T14:40:44.891408Z",
     "iopub.status.idle": "2023-10-16T14:40:44.893205Z",
     "shell.execute_reply": "2023-10-16T14:40:44.892931Z",
     "shell.execute_reply.started": "2023-10-16T14:40:44.891463Z"
    }
   },
   "outputs": [],
   "source": [
    "disc_der = np.array(pv.get_derivatives()) * pips"
   ]
  }
 ],
 "metadata": {
  "hide_input": false,
  "kernelspec": {
   "display_name": "Python 3 (ipykernel)",
   "language": "python",
   "name": "python3"
  },
  "language_info": {
   "codemirror_mode": {
    "name": "ipython",
    "version": 3
   },
   "file_extension": ".py",
   "mimetype": "text/x-python",
   "name": "python",
   "nbconvert_exporter": "python",
   "pygments_lexer": "ipython3",
   "version": "3.11.4"
  },
  "toc": {
   "base_numbering": 1,
   "nav_menu": {},
   "number_sections": true,
   "sideBar": true,
   "skip_h1_title": true,
   "title_cell": "Table of Contents",
   "title_sidebar": "Contenidos",
   "toc_cell": false,
   "toc_position": {
    "height": "calc(100% - 180px)",
    "left": "10px",
    "top": "150px",
    "width": "311px"
   },
   "toc_section_display": true,
   "toc_window_display": true
  },
  "varInspector": {
   "cols": {
    "lenName": 16,
    "lenType": 16,
    "lenVar": 40
   },
   "kernels_config": {
    "python": {
     "delete_cmd_postfix": "",
     "delete_cmd_prefix": "del ",
     "library": "var_list.py",
     "varRefreshCmd": "print(var_dic_list())"
    },
    "r": {
     "delete_cmd_postfix": ") ",
     "delete_cmd_prefix": "rm(",
     "library": "var_list.r",
     "varRefreshCmd": "cat(var_dic_list()) "
    }
   },
   "types_to_exclude": [
    "module",
    "function",
    "builtin_function_or_method",
    "instance",
    "_Feature"
   ],
   "window_display": false
  }
 },
 "nbformat": 4,
 "nbformat_minor": 4
}
