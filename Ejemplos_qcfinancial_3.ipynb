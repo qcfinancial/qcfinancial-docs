{
 "cells": [
  {
   "cell_type": "markdown",
   "metadata": {},
   "source": [
    "# Construcción y Uso de Una Curva Cero Cupón"
   ]
  },
  {
   "cell_type": "markdown",
   "metadata": {},
   "source": [
    "## Configuración"
   ]
  },
  {
   "cell_type": "code",
   "execution_count": 1,
   "metadata": {
    "execution": {
     "iopub.execute_input": "2023-07-24T00:28:50.481081Z",
     "iopub.status.busy": "2023-07-24T00:28:50.480221Z",
     "iopub.status.idle": "2023-07-24T00:28:50.487263Z",
     "shell.execute_reply": "2023-07-24T00:28:50.486352Z",
     "shell.execute_reply.started": "2023-07-24T00:28:50.481011Z"
    }
   },
   "outputs": [],
   "source": [
    "# !cp ../derivative-valuation-engine/QC_DVE_CORE/cmake-build-release/qcfinancial.cpython-311-darwin.so ."
   ]
  },
  {
   "cell_type": "markdown",
   "metadata": {},
   "source": [
    "Se importa la versión de `QC_Financial` compilada para Python3."
   ]
  },
  {
   "cell_type": "code",
   "execution_count": 2,
   "metadata": {
    "ExecuteTime": {
     "end_time": "2022-01-28T16:17:40.550986Z",
     "start_time": "2022-01-28T16:17:40.504746Z"
    },
    "execution": {
     "iopub.execute_input": "2023-07-17T23:13:44.957828Z",
     "iopub.status.busy": "2023-07-17T23:13:44.957233Z",
     "iopub.status.idle": "2023-07-17T23:13:45.023457Z",
     "shell.execute_reply": "2023-07-17T23:13:45.022581Z",
     "shell.execute_reply.started": "2023-07-17T23:13:44.957800Z"
    }
   },
   "outputs": [],
   "source": [
    "import qcfinancial as qcf"
   ]
  },
  {
   "cell_type": "markdown",
   "metadata": {},
   "source": [
    "Librerías adicionales."
   ]
  },
  {
   "cell_type": "code",
   "execution_count": 3,
   "metadata": {
    "ExecuteTime": {
     "end_time": "2022-01-28T16:17:42.129519Z",
     "start_time": "2022-01-28T16:17:41.427949Z"
    },
    "execution": {
     "iopub.execute_input": "2023-07-17T23:13:45.025131Z",
     "iopub.status.busy": "2023-07-17T23:13:45.024846Z",
     "iopub.status.idle": "2023-07-17T23:13:45.588065Z",
     "shell.execute_reply": "2023-07-17T23:13:45.587765Z",
     "shell.execute_reply.started": "2023-07-17T23:13:45.025109Z"
    }
   },
   "outputs": [],
   "source": [
    "import pandas as pd"
   ]
  },
  {
   "cell_type": "markdown",
   "metadata": {},
   "source": [
    "Para formateo de `pandas.DataFrames`."
   ]
  },
  {
   "cell_type": "code",
   "execution_count": 4,
   "metadata": {
    "ExecuteTime": {
     "end_time": "2022-01-28T16:17:43.082752Z",
     "start_time": "2022-01-28T16:17:43.069810Z"
    },
    "execution": {
     "iopub.execute_input": "2023-07-17T23:13:45.588565Z",
     "iopub.status.busy": "2023-07-17T23:13:45.588462Z",
     "iopub.status.idle": "2023-07-17T23:13:45.590763Z",
     "shell.execute_reply": "2023-07-17T23:13:45.590330Z",
     "shell.execute_reply.started": "2023-07-17T23:13:45.588557Z"
    }
   },
   "outputs": [],
   "source": [
    "format_dict = {\n",
    "    'nominal': '{0:,.2f}',\n",
    "    'amort': '{0:,.2f}',\n",
    "    'interes': '{0:,.2f}',\n",
    "    'flujo': '{0:,.2f}',\n",
    "    'amortizacion': '{0:,.2f}',\n",
    "    'icp_inicial': '{0:,.2f}',\n",
    "    'icp_final': '{0:,.2f}',\n",
    "    'uf_inicial': '{0:,.2f}',\n",
    "    'uf_final': '{0:,.2f}',\n",
    "    'valor_tasa': '{0:,.4%}',\n",
    "    'spread': '{0:,.4%}',\n",
    "    'gearing': '{0:,.2f}',\n",
    "    'amort_moneda_pago': '{0:,.2f}',\n",
    "    'interes_moneda_pago': '{0:,.2f}',\n",
    "    'valor_indice_fx': '{0:,.2f}'\n",
    "}"
   ]
  },
  {
   "cell_type": "markdown",
   "metadata": {},
   "source": [
    "## Construcción de la Curva"
   ]
  },
  {
   "cell_type": "markdown",
   "metadata": {},
   "source": [
    "La construcción de una curva se hace en varios pasos."
   ]
  },
  {
   "cell_type": "markdown",
   "metadata": {},
   "source": [
    "### Vectores de `Float` e `Int`"
   ]
  },
  {
   "cell_type": "code",
   "execution_count": 5,
   "metadata": {
    "ExecuteTime": {
     "end_time": "2022-01-28T16:17:44.442292Z",
     "start_time": "2022-01-28T16:17:44.426747Z"
    },
    "execution": {
     "iopub.execute_input": "2023-07-17T23:13:45.591290Z",
     "iopub.status.busy": "2023-07-17T23:13:45.591224Z",
     "iopub.status.idle": "2023-07-17T23:13:45.593067Z",
     "shell.execute_reply": "2023-07-17T23:13:45.592810Z",
     "shell.execute_reply.started": "2023-07-17T23:13:45.591282Z"
    }
   },
   "outputs": [],
   "source": [
    "# Este es un vector de números enteros (grandes, de ahí la l (long))\n",
    "lvec = qcf.long_vec()"
   ]
  },
  {
   "cell_type": "code",
   "execution_count": 6,
   "metadata": {
    "ExecuteTime": {
     "end_time": "2022-01-28T16:17:44.771100Z",
     "start_time": "2022-01-28T16:17:44.764092Z"
    },
    "execution": {
     "iopub.execute_input": "2023-07-17T23:13:45.593461Z",
     "iopub.status.busy": "2023-07-17T23:13:45.593401Z",
     "iopub.status.idle": "2023-07-17T23:13:45.595482Z",
     "shell.execute_reply": "2023-07-17T23:13:45.595134Z",
     "shell.execute_reply.started": "2023-07-17T23:13:45.593454Z"
    }
   },
   "outputs": [],
   "source": [
    "# Agregar un elemento\n",
    "lvec.append(1000)"
   ]
  },
  {
   "cell_type": "code",
   "execution_count": 7,
   "metadata": {
    "ExecuteTime": {
     "end_time": "2022-01-28T16:17:45.052855Z",
     "start_time": "2022-01-28T16:17:45.037092Z"
    },
    "execution": {
     "iopub.execute_input": "2023-07-17T23:13:45.597127Z",
     "iopub.status.busy": "2023-07-17T23:13:45.596959Z",
     "iopub.status.idle": "2023-07-17T23:13:45.598668Z",
     "shell.execute_reply": "2023-07-17T23:13:45.598461Z",
     "shell.execute_reply.started": "2023-07-17T23:13:45.597120Z"
    }
   },
   "outputs": [],
   "source": [
    "# Este es un vector de números double.\n",
    "vec = qcf.double_vec()"
   ]
  },
  {
   "cell_type": "code",
   "execution_count": 8,
   "metadata": {
    "ExecuteTime": {
     "end_time": "2022-01-28T16:17:45.270196Z",
     "start_time": "2022-01-28T16:17:45.254432Z"
    },
    "execution": {
     "iopub.execute_input": "2023-07-17T23:13:45.598980Z",
     "iopub.status.busy": "2023-07-17T23:13:45.598924Z",
     "iopub.status.idle": "2023-07-17T23:13:45.600803Z",
     "shell.execute_reply": "2023-07-17T23:13:45.600491Z",
     "shell.execute_reply.started": "2023-07-17T23:13:45.598974Z"
    }
   },
   "outputs": [],
   "source": [
    "# Agregar un elemento\n",
    "vec.append(.025)"
   ]
  },
  {
   "cell_type": "code",
   "execution_count": 9,
   "metadata": {
    "ExecuteTime": {
     "end_time": "2022-01-28T16:17:45.504837Z",
     "start_time": "2022-01-28T16:17:45.490682Z"
    },
    "execution": {
     "iopub.execute_input": "2023-07-17T23:13:45.601231Z",
     "iopub.status.busy": "2023-07-17T23:13:45.601120Z",
     "iopub.status.idle": "2023-07-17T23:13:45.602999Z",
     "shell.execute_reply": "2023-07-17T23:13:45.602738Z",
     "shell.execute_reply.started": "2023-07-17T23:13:45.601222Z"
    }
   },
   "outputs": [
    {
     "name": "stdout",
     "output_type": "stream",
     "text": [
      "Tasa: 2.50%\n"
     ]
    }
   ],
   "source": [
    "# Obtener ese elemento\n",
    "print(\"Tasa: {0:,.2%}\".format(vec[0]))"
   ]
  },
  {
   "cell_type": "markdown",
   "metadata": {},
   "source": [
    "### Objeto Curva"
   ]
  },
  {
   "cell_type": "markdown",
   "metadata": {},
   "source": [
    "Es simplemente un `long_vec` que representa las abscisas de la curva y un `double_vec` que representa las ordenadas. Ambos vectores deben tener el mismo largo. "
   ]
  },
  {
   "cell_type": "code",
   "execution_count": 10,
   "metadata": {
    "ExecuteTime": {
     "end_time": "2022-01-28T16:17:46.598464Z",
     "start_time": "2022-01-28T16:17:46.574818Z"
    },
    "execution": {
     "iopub.execute_input": "2023-07-17T23:13:45.603494Z",
     "iopub.status.busy": "2023-07-17T23:13:45.603415Z",
     "iopub.status.idle": "2023-07-17T23:13:45.605096Z",
     "shell.execute_reply": "2023-07-17T23:13:45.604883Z",
     "shell.execute_reply.started": "2023-07-17T23:13:45.603486Z"
    }
   },
   "outputs": [],
   "source": [
    "zcc = qcf.QCCurve(lvec, vec)"
   ]
  },
  {
   "cell_type": "markdown",
   "metadata": {},
   "source": [
    "Un elemento de una curva se representa como un par abscisa, ordenada."
   ]
  },
  {
   "cell_type": "code",
   "execution_count": 11,
   "metadata": {
    "ExecuteTime": {
     "end_time": "2022-01-28T16:17:47.274933Z",
     "start_time": "2022-01-28T16:17:47.260972Z"
    },
    "execution": {
     "iopub.execute_input": "2023-07-17T23:13:45.605615Z",
     "iopub.status.busy": "2023-07-17T23:13:45.605501Z",
     "iopub.status.idle": "2023-07-17T23:13:45.608440Z",
     "shell.execute_reply": "2023-07-17T23:13:45.608211Z",
     "shell.execute_reply.started": "2023-07-17T23:13:45.605609Z"
    }
   },
   "outputs": [
    {
     "data": {
      "text/plain": [
       "(1000, 0.025)"
      ]
     },
     "execution_count": 11,
     "metadata": {},
     "output_type": "execute_result"
    }
   ],
   "source": [
    "zcc.get_values_at(0)"
   ]
  },
  {
   "cell_type": "markdown",
   "metadata": {},
   "source": [
    "Se obtiene el plazo en una posición de la curva."
   ]
  },
  {
   "cell_type": "code",
   "execution_count": 12,
   "metadata": {
    "ExecuteTime": {
     "end_time": "2022-01-28T16:17:47.770458Z",
     "start_time": "2022-01-28T16:17:47.740187Z"
    },
    "execution": {
     "iopub.execute_input": "2023-07-17T23:13:45.608889Z",
     "iopub.status.busy": "2023-07-17T23:13:45.608828Z",
     "iopub.status.idle": "2023-07-17T23:13:45.610636Z",
     "shell.execute_reply": "2023-07-17T23:13:45.610416Z",
     "shell.execute_reply.started": "2023-07-17T23:13:45.608883Z"
    }
   },
   "outputs": [
    {
     "name": "stdout",
     "output_type": "stream",
     "text": [
      "(1000, 0.025)\n"
     ]
    }
   ],
   "source": [
    "print(zcc.get_values_at(0))"
   ]
  },
  {
   "cell_type": "markdown",
   "metadata": {},
   "source": [
    "Se obtiene la tasa en una posición de la curva."
   ]
  },
  {
   "cell_type": "code",
   "execution_count": 13,
   "metadata": {
    "ExecuteTime": {
     "end_time": "2022-01-28T16:17:48.207876Z",
     "start_time": "2022-01-28T16:17:48.194910Z"
    },
    "execution": {
     "iopub.execute_input": "2023-07-17T23:13:45.611147Z",
     "iopub.status.busy": "2023-07-17T23:13:45.611051Z",
     "iopub.status.idle": "2023-07-17T23:13:45.613214Z",
     "shell.execute_reply": "2023-07-17T23:13:45.612917Z",
     "shell.execute_reply.started": "2023-07-17T23:13:45.611140Z"
    }
   },
   "outputs": [
    {
     "data": {
      "text/plain": [
       "0.025"
      ]
     },
     "execution_count": 13,
     "metadata": {},
     "output_type": "execute_result"
    }
   ],
   "source": [
    "zcc.get_values_at(0)[1]"
   ]
  },
  {
   "cell_type": "markdown",
   "metadata": {},
   "source": [
    "Se agrega un par (plazo, valor) a la curva."
   ]
  },
  {
   "cell_type": "code",
   "execution_count": 14,
   "metadata": {
    "ExecuteTime": {
     "end_time": "2022-01-28T16:17:48.567854Z",
     "start_time": "2022-01-28T16:17:48.562896Z"
    },
    "execution": {
     "iopub.execute_input": "2023-07-17T23:13:45.613691Z",
     "iopub.status.busy": "2023-07-17T23:13:45.613553Z",
     "iopub.status.idle": "2023-07-17T23:13:45.615379Z",
     "shell.execute_reply": "2023-07-17T23:13:45.615018Z",
     "shell.execute_reply.started": "2023-07-17T23:13:45.613682Z"
    }
   },
   "outputs": [],
   "source": [
    "zcc.set_pair(100, .026)"
   ]
  },
  {
   "cell_type": "markdown",
   "metadata": {},
   "source": [
    "Se verifica."
   ]
  },
  {
   "cell_type": "code",
   "execution_count": 15,
   "metadata": {
    "ExecuteTime": {
     "end_time": "2022-01-28T16:17:49.019759Z",
     "start_time": "2022-01-28T16:17:48.990019Z"
    },
    "execution": {
     "iopub.execute_input": "2023-07-17T23:13:45.615751Z",
     "iopub.status.busy": "2023-07-17T23:13:45.615683Z",
     "iopub.status.idle": "2023-07-17T23:13:45.618009Z",
     "shell.execute_reply": "2023-07-17T23:13:45.617775Z",
     "shell.execute_reply.started": "2023-07-17T23:13:45.615745Z"
    }
   },
   "outputs": [
    {
     "data": {
      "text/plain": [
       "1000"
      ]
     },
     "execution_count": 15,
     "metadata": {},
     "output_type": "execute_result"
    }
   ],
   "source": [
    "# Plazo\n",
    "zcc.get_values_at(1)[0]"
   ]
  },
  {
   "cell_type": "code",
   "execution_count": 16,
   "metadata": {
    "ExecuteTime": {
     "end_time": "2022-01-28T16:17:49.224900Z",
     "start_time": "2022-01-28T16:17:49.211933Z"
    },
    "execution": {
     "iopub.execute_input": "2023-07-17T23:13:45.618614Z",
     "iopub.status.busy": "2023-07-17T23:13:45.618488Z",
     "iopub.status.idle": "2023-07-17T23:13:45.620534Z",
     "shell.execute_reply": "2023-07-17T23:13:45.620189Z",
     "shell.execute_reply.started": "2023-07-17T23:13:45.618606Z"
    }
   },
   "outputs": [
    {
     "data": {
      "text/plain": [
       "0.025"
      ]
     },
     "execution_count": 16,
     "metadata": {},
     "output_type": "execute_result"
    }
   ],
   "source": [
    "# Valor\n",
    "zcc.get_values_at(1)[1]"
   ]
  },
  {
   "cell_type": "markdown",
   "metadata": {},
   "source": [
    "Se agrega un par más."
   ]
  },
  {
   "cell_type": "code",
   "execution_count": 17,
   "metadata": {
    "ExecuteTime": {
     "end_time": "2022-01-28T16:17:49.754598Z",
     "start_time": "2022-01-28T16:17:49.739989Z"
    },
    "execution": {
     "iopub.execute_input": "2023-07-17T23:13:45.621011Z",
     "iopub.status.busy": "2023-07-17T23:13:45.620917Z",
     "iopub.status.idle": "2023-07-17T23:13:45.622508Z",
     "shell.execute_reply": "2023-07-17T23:13:45.622264Z",
     "shell.execute_reply.started": "2023-07-17T23:13:45.621004Z"
    }
   },
   "outputs": [],
   "source": [
    "zcc.set_pair(370, .03)"
   ]
  },
  {
   "cell_type": "markdown",
   "metadata": {},
   "source": [
    "Se itera sobre la curva mostrando sus valores"
   ]
  },
  {
   "cell_type": "code",
   "execution_count": 18,
   "metadata": {
    "ExecuteTime": {
     "end_time": "2022-01-28T16:17:50.348687Z",
     "start_time": "2022-01-28T16:17:50.330764Z"
    },
    "execution": {
     "iopub.execute_input": "2023-07-17T23:13:45.622899Z",
     "iopub.status.busy": "2023-07-17T23:13:45.622843Z",
     "iopub.status.idle": "2023-07-17T23:13:45.624867Z",
     "shell.execute_reply": "2023-07-17T23:13:45.624654Z",
     "shell.execute_reply.started": "2023-07-17T23:13:45.622894Z"
    }
   },
   "outputs": [
    {
     "name": "stdout",
     "output_type": "stream",
     "text": [
      "Tenor: 100 Valor: 2.6000%\n",
      "Tenor: 370 Valor: 3.0000%\n",
      "Tenor: 1000 Valor: 2.5000%\n"
     ]
    }
   ],
   "source": [
    "for i in range(0, zcc.get_length()):\n",
    "    pair = zcc.get_values_at(i)\n",
    "    print(\"Tenor: {0:} Valor: {1:.4%}\".format(pair[0], pair[1]))"
   ]
  },
  {
   "cell_type": "markdown",
   "metadata": {},
   "source": [
    "Se define un interpolador. En este caso, un interpolador lineal."
   ]
  },
  {
   "cell_type": "code",
   "execution_count": 19,
   "metadata": {
    "ExecuteTime": {
     "end_time": "2022-01-28T16:17:50.894828Z",
     "start_time": "2022-01-28T16:17:50.889814Z"
    },
    "execution": {
     "iopub.execute_input": "2023-07-17T23:13:45.625368Z",
     "iopub.status.busy": "2023-07-17T23:13:45.625280Z",
     "iopub.status.idle": "2023-07-17T23:13:45.627064Z",
     "shell.execute_reply": "2023-07-17T23:13:45.626830Z",
     "shell.execute_reply.started": "2023-07-17T23:13:45.625362Z"
    }
   },
   "outputs": [],
   "source": [
    "lin = qcf.QCLinearInterpolator(zcc)"
   ]
  },
  {
   "cell_type": "markdown",
   "metadata": {},
   "source": [
    "Se hace una prueba."
   ]
  },
  {
   "cell_type": "code",
   "execution_count": 20,
   "metadata": {
    "ExecuteTime": {
     "end_time": "2022-01-28T16:17:51.536128Z",
     "start_time": "2022-01-28T16:17:51.531113Z"
    },
    "execution": {
     "iopub.execute_input": "2023-07-17T23:13:45.627364Z",
     "iopub.status.busy": "2023-07-17T23:13:45.627312Z",
     "iopub.status.idle": "2023-07-17T23:13:45.629363Z",
     "shell.execute_reply": "2023-07-17T23:13:45.629088Z",
     "shell.execute_reply.started": "2023-07-17T23:13:45.627359Z"
    }
   },
   "outputs": [
    {
     "name": "stdout",
     "output_type": "stream",
     "text": [
      "Tasa a 120 días es igual a 2.6296%\n"
     ]
    }
   ],
   "source": [
    "plazo = 120\n",
    "print(f\"Tasa a {plazo:.0f} días es igual a {lin.interpolate_at(plazo):.4%}\")"
   ]
  },
  {
   "cell_type": "markdown",
   "metadata": {},
   "source": [
    "Para completar el proceso se define una fracción de año, un factor de capitalización y un tipo de tasa. Con estos objetos se termina de dar de alta una curva cero."
   ]
  },
  {
   "cell_type": "code",
   "execution_count": 21,
   "metadata": {
    "ExecuteTime": {
     "end_time": "2022-01-28T16:17:52.645547Z",
     "start_time": "2022-01-28T16:17:52.635553Z"
    },
    "execution": {
     "iopub.execute_input": "2023-07-17T23:13:45.629810Z",
     "iopub.status.busy": "2023-07-17T23:13:45.629746Z",
     "iopub.status.idle": "2023-07-17T23:13:45.631654Z",
     "shell.execute_reply": "2023-07-17T23:13:45.631398Z",
     "shell.execute_reply.started": "2023-07-17T23:13:45.629804Z"
    }
   },
   "outputs": [],
   "source": [
    "yf = qcf.QCAct360()\n",
    "wf = qcf.QCLinearWf()\n",
    "tasa = qcf.QCInterestRate(.01, yf, wf)"
   ]
  },
  {
   "cell_type": "code",
   "execution_count": 22,
   "metadata": {
    "ExecuteTime": {
     "end_time": "2022-01-28T16:17:53.051529Z",
     "start_time": "2022-01-28T16:17:53.023710Z"
    },
    "execution": {
     "iopub.execute_input": "2023-07-17T23:13:45.635526Z",
     "iopub.status.busy": "2023-07-17T23:13:45.635418Z",
     "iopub.status.idle": "2023-07-17T23:13:45.636940Z",
     "shell.execute_reply": "2023-07-17T23:13:45.636683Z",
     "shell.execute_reply.started": "2023-07-17T23:13:45.635519Z"
    }
   },
   "outputs": [],
   "source": [
    "zz = qcf.ZeroCouponCurve(lin, tasa)"
   ]
  },
  {
   "cell_type": "markdown",
   "metadata": {},
   "source": [
    "El interpolador permite obtener una tasa a cualquier plazo."
   ]
  },
  {
   "cell_type": "code",
   "execution_count": 23,
   "metadata": {
    "ExecuteTime": {
     "end_time": "2022-01-28T16:17:53.537480Z",
     "start_time": "2022-01-28T16:17:53.532465Z"
    },
    "execution": {
     "iopub.execute_input": "2023-07-17T23:13:45.637917Z",
     "iopub.status.busy": "2023-07-17T23:13:45.637858Z",
     "iopub.status.idle": "2023-07-17T23:13:45.639622Z",
     "shell.execute_reply": "2023-07-17T23:13:45.639381Z",
     "shell.execute_reply.started": "2023-07-17T23:13:45.637911Z"
    }
   },
   "outputs": [
    {
     "name": "stdout",
     "output_type": "stream",
     "text": [
      "Tasa en 365 es igual a 2.9926%\n"
     ]
    }
   ],
   "source": [
    "plazo = 365\n",
    "print(\"Tasa en {0:} es igual a {1:.4%}\".format(plazo, zz.get_rate_at(plazo)))"
   ]
  },
  {
   "cell_type": "code",
   "execution_count": 24,
   "metadata": {
    "ExecuteTime": {
     "end_time": "2022-01-28T16:17:53.786157Z",
     "start_time": "2022-01-28T16:17:53.771504Z"
    },
    "execution": {
     "iopub.execute_input": "2023-07-17T23:13:45.639970Z",
     "iopub.status.busy": "2023-07-17T23:13:45.639914Z",
     "iopub.status.idle": "2023-07-17T23:13:45.642030Z",
     "shell.execute_reply": "2023-07-17T23:13:45.641796Z",
     "shell.execute_reply.started": "2023-07-17T23:13:45.639964Z"
    }
   },
   "outputs": [
    {
     "data": {
      "text/plain": [
       "qcfinancial.ZeroCouponCurve"
      ]
     },
     "execution_count": 24,
     "metadata": {},
     "output_type": "execute_result"
    }
   ],
   "source": [
    "type(zz)"
   ]
  },
  {
   "cell_type": "code",
   "execution_count": 25,
   "metadata": {
    "ExecuteTime": {
     "end_time": "2022-01-28T16:17:54.113829Z",
     "start_time": "2022-01-28T16:17:54.098204Z"
    },
    "execution": {
     "iopub.execute_input": "2023-07-17T23:13:45.642574Z",
     "iopub.status.busy": "2023-07-17T23:13:45.642482Z",
     "iopub.status.idle": "2023-07-17T23:13:45.644472Z",
     "shell.execute_reply": "2023-07-17T23:13:45.644225Z",
     "shell.execute_reply.started": "2023-07-17T23:13:45.642568Z"
    }
   },
   "outputs": [
    {
     "data": {
      "text/plain": [
       "0.9999277829934504"
      ]
     },
     "execution_count": 25,
     "metadata": {},
     "output_type": "execute_result"
    }
   ],
   "source": [
    "zz.get_discount_factor_at(1)"
   ]
  },
  {
   "cell_type": "markdown",
   "metadata": {},
   "source": [
    "#### Otros métodos:"
   ]
  },
  {
   "cell_type": "markdown",
   "metadata": {},
   "source": [
    "Tasa Forward"
   ]
  },
  {
   "cell_type": "code",
   "execution_count": 26,
   "metadata": {
    "ExecuteTime": {
     "end_time": "2022-01-28T16:17:55.317819Z",
     "start_time": "2022-01-28T16:17:55.309812Z"
    },
    "execution": {
     "iopub.execute_input": "2023-07-17T23:13:45.645047Z",
     "iopub.status.busy": "2023-07-17T23:13:45.644928Z",
     "iopub.status.idle": "2023-07-17T23:13:45.646732Z",
     "shell.execute_reply": "2023-07-17T23:13:45.646478Z",
     "shell.execute_reply.started": "2023-07-17T23:13:45.645030Z"
    }
   },
   "outputs": [
    {
     "name": "stdout",
     "output_type": "stream",
     "text": [
      "Tasa forward entre los días 30 y 90: 2.5944%\n"
     ]
    }
   ],
   "source": [
    "d1 = 30\n",
    "d2 = 90\n",
    "print(\"Tasa forward entre los días {0:} y {1:}: {2:.4%}\".format(\n",
    "    d1, d2, zz.get_forward_rate(d1, d2)))"
   ]
  },
  {
   "cell_type": "markdown",
   "metadata": {},
   "source": [
    "Derivada del factor de capitalización de la Tasa Forward. El argumento representa el índice de la tasa de la curva."
   ]
  },
  {
   "cell_type": "code",
   "execution_count": 27,
   "metadata": {
    "ExecuteTime": {
     "end_time": "2022-01-28T16:17:56.020285Z",
     "start_time": "2022-01-28T16:17:55.989595Z"
    },
    "execution": {
     "iopub.execute_input": "2023-07-17T23:13:45.647154Z",
     "iopub.status.busy": "2023-07-17T23:13:45.647098Z",
     "iopub.status.idle": "2023-07-17T23:13:45.649293Z",
     "shell.execute_reply": "2023-07-17T23:13:45.648991Z",
     "shell.execute_reply.started": "2023-07-17T23:13:45.647148Z"
    }
   },
   "outputs": [
    {
     "data": {
      "text/plain": [
       "0.1659467849041197"
      ]
     },
     "execution_count": 27,
     "metadata": {},
     "output_type": "execute_result"
    }
   ],
   "source": [
    "zz.fwd_wf_derivative_at(0)"
   ]
  },
  {
   "cell_type": "markdown",
   "metadata": {},
   "source": [
    "## Valorizar"
   ]
  },
  {
   "cell_type": "markdown",
   "metadata": {},
   "source": [
    "Se da de alta un objeto `PresentValue`."
   ]
  },
  {
   "cell_type": "code",
   "execution_count": 28,
   "metadata": {
    "ExecuteTime": {
     "end_time": "2022-01-28T16:17:57.067333Z",
     "start_time": "2022-01-28T16:17:57.055365Z"
    },
    "execution": {
     "iopub.execute_input": "2023-07-17T23:13:45.649785Z",
     "iopub.status.busy": "2023-07-17T23:13:45.649629Z",
     "iopub.status.idle": "2023-07-17T23:13:45.651285Z",
     "shell.execute_reply": "2023-07-17T23:13:45.651059Z",
     "shell.execute_reply.started": "2023-07-17T23:13:45.649778Z"
    }
   },
   "outputs": [],
   "source": [
    "pv = qcf.PresentValue()"
   ]
  },
  {
   "cell_type": "markdown",
   "metadata": {},
   "source": [
    "### Depósito a Plazo"
   ]
  },
  {
   "cell_type": "markdown",
   "metadata": {},
   "source": [
    "Se utilizará como instrumento un depósito a plazo en CLP o USD. Este instrumento se modela como un `SimpleCashflow`. Este, a su vez se construye con un monto, una fecha y una moneda."
   ]
  },
  {
   "cell_type": "code",
   "execution_count": 29,
   "metadata": {
    "ExecuteTime": {
     "end_time": "2022-01-28T16:17:57.677058Z",
     "start_time": "2022-01-28T16:17:57.661432Z"
    },
    "execution": {
     "iopub.execute_input": "2023-07-17T23:13:45.651815Z",
     "iopub.status.busy": "2023-07-17T23:13:45.651667Z",
     "iopub.status.idle": "2023-07-17T23:13:45.653605Z",
     "shell.execute_reply": "2023-07-17T23:13:45.653390Z",
     "shell.execute_reply.started": "2023-07-17T23:13:45.651807Z"
    }
   },
   "outputs": [],
   "source": [
    "# Con estas variables vamos a construir\n",
    "fecha_vcto = qcf.QCDate(12, 1, 2021)\n",
    "monto = 10_000_000.0\n",
    "clp = qcf.QCCLP()\n",
    "\n",
    "# Se construye el depósito\n",
    "depo = qcf.SimpleCashflow(fecha_vcto, monto, clp)"
   ]
  },
  {
   "cell_type": "code",
   "execution_count": 30,
   "metadata": {
    "ExecuteTime": {
     "end_time": "2022-01-28T16:17:57.817581Z",
     "start_time": "2022-01-28T16:17:57.801844Z"
    },
    "execution": {
     "iopub.execute_input": "2023-07-17T23:13:45.653936Z",
     "iopub.status.busy": "2023-07-17T23:13:45.653865Z",
     "iopub.status.idle": "2023-07-17T23:13:45.655701Z",
     "shell.execute_reply": "2023-07-17T23:13:45.655467Z",
     "shell.execute_reply.started": "2023-07-17T23:13:45.653931Z"
    }
   },
   "outputs": [
    {
     "name": "stdout",
     "output_type": "stream",
     "text": [
      "Monto del depósito: 10,000,000\n"
     ]
    }
   ],
   "source": [
    "print(\"Monto del depósito: {0:,.0f}\".format(depo.amount()))"
   ]
  },
  {
   "cell_type": "markdown",
   "metadata": {},
   "source": [
    "Se define una fecha de valorización y se calcula el valor presente del depo."
   ]
  },
  {
   "cell_type": "code",
   "execution_count": 31,
   "metadata": {
    "ExecuteTime": {
     "end_time": "2022-01-28T16:25:51.613974Z",
     "start_time": "2022-01-28T16:25:51.600011Z"
    },
    "execution": {
     "iopub.execute_input": "2023-07-17T23:13:45.656183Z",
     "iopub.status.busy": "2023-07-17T23:13:45.656100Z",
     "iopub.status.idle": "2023-07-17T23:13:45.658048Z",
     "shell.execute_reply": "2023-07-17T23:13:45.657738Z",
     "shell.execute_reply.started": "2023-07-17T23:13:45.656177Z"
    }
   },
   "outputs": [
    {
     "name": "stdout",
     "output_type": "stream",
     "text": [
      "Valor presente depo: 9,709,212.68\n"
     ]
    }
   ],
   "source": [
    "fecha_hoy = qcf.QCDate(17, 1, 2020)\n",
    "print(\"Valor presente depo: {0:,.2f}\".format(pv.pv(fecha_hoy, depo, zz)))"
   ]
  },
  {
   "cell_type": "markdown",
   "metadata": {},
   "source": [
    "Se verifica *a mano* el resultado."
   ]
  },
  {
   "cell_type": "code",
   "execution_count": 32,
   "metadata": {
    "ExecuteTime": {
     "end_time": "2022-01-28T16:25:57.967387Z",
     "start_time": "2022-01-28T16:25:57.958440Z"
    },
    "execution": {
     "iopub.execute_input": "2023-07-17T23:13:45.658504Z",
     "iopub.status.busy": "2023-07-17T23:13:45.658394Z",
     "iopub.status.idle": "2023-07-17T23:13:45.660179Z",
     "shell.execute_reply": "2023-07-17T23:13:45.659925Z",
     "shell.execute_reply.started": "2023-07-17T23:13:45.658498Z"
    }
   },
   "outputs": [
    {
     "name": "stdout",
     "output_type": "stream",
     "text": [
      "Plazo: 361\n"
     ]
    }
   ],
   "source": [
    "plazo = fecha_hoy.day_diff(fecha_vcto)\n",
    "print(\"Plazo:\", plazo)"
   ]
  },
  {
   "cell_type": "code",
   "execution_count": 33,
   "metadata": {
    "ExecuteTime": {
     "end_time": "2022-01-28T16:25:58.166586Z",
     "start_time": "2022-01-28T16:25:58.148604Z"
    },
    "execution": {
     "iopub.execute_input": "2023-07-17T23:13:45.660602Z",
     "iopub.status.busy": "2023-07-17T23:13:45.660547Z",
     "iopub.status.idle": "2023-07-17T23:13:45.662453Z",
     "shell.execute_reply": "2023-07-17T23:13:45.662176Z",
     "shell.execute_reply.started": "2023-07-17T23:13:45.660597Z"
    }
   },
   "outputs": [
    {
     "name": "stdout",
     "output_type": "stream",
     "text": [
      "Tasa: 2.9867%\n"
     ]
    }
   ],
   "source": [
    "tasa_int = zz.get_rate_at(plazo)\n",
    "print(\"Tasa: {0:,.4%}\".format(tasa_int))"
   ]
  },
  {
   "cell_type": "code",
   "execution_count": 34,
   "metadata": {
    "ExecuteTime": {
     "end_time": "2022-01-28T16:25:58.275815Z",
     "start_time": "2022-01-28T16:25:58.268815Z"
    },
    "execution": {
     "iopub.execute_input": "2023-07-17T23:13:45.662909Z",
     "iopub.status.busy": "2023-07-17T23:13:45.662824Z",
     "iopub.status.idle": "2023-07-17T23:13:45.664794Z",
     "shell.execute_reply": "2023-07-17T23:13:45.664462Z",
     "shell.execute_reply.started": "2023-07-17T23:13:45.662897Z"
    }
   },
   "outputs": [
    {
     "name": "stdout",
     "output_type": "stream",
     "text": [
      "Valor presente a mano: 9,709,212.68\n"
     ]
    }
   ],
   "source": [
    "valor_presente = monto / (1 + tasa_int * plazo / 360)\n",
    "print(\"Valor presente a mano: {0:,.2f}\".format(valor_presente))"
   ]
  },
  {
   "cell_type": "markdown",
   "metadata": {},
   "source": [
    "### Renta Fija Local"
   ]
  },
  {
   "cell_type": "markdown",
   "metadata": {},
   "source": [
    "Se muestra el ejemplo de valorización de un bono bullet a tasa fija con las convenciones de la Bolsa de Comercio. Para el ejemplo usamos las características del BTU0150326.\n",
    "\n",
    "Se dan de alta los parámetros requeridos para instanciar un objeto de tipo `FixedRateLeg`."
   ]
  },
  {
   "cell_type": "code",
   "execution_count": 35,
   "metadata": {
    "ExecuteTime": {
     "end_time": "2022-01-24T13:13:30.988721Z",
     "start_time": "2022-01-24T13:13:30.973722Z"
    },
    "execution": {
     "iopub.execute_input": "2023-07-17T23:13:45.665418Z",
     "iopub.status.busy": "2023-07-17T23:13:45.665303Z",
     "iopub.status.idle": "2023-07-17T23:13:45.669273Z",
     "shell.execute_reply": "2023-07-17T23:13:45.669041Z",
     "shell.execute_reply.started": "2023-07-17T23:13:45.665409Z"
    }
   },
   "outputs": [],
   "source": [
    "rp = qcf.RecPay.RECEIVE\n",
    "fecha_inicio = qcf.QCDate(1, 3, 2015)\n",
    "fecha_final = qcf.QCDate(1, 3, 2026)\n",
    "bus_adj_rule = qcf.BusyAdjRules.NO\n",
    "periodicidad = qcf.Tenor('6M')\n",
    "periodo_irregular = qcf.StubPeriod.NO\n",
    "calendario = qcf.BusinessCalendar(fecha_inicio, 20)\n",
    "lag_pago = 0\n",
    "nominal = 100.0\n",
    "amort_es_flujo = True\n",
    "valor_tasa_fija = .015\n",
    "tasa_cupon = qcf.QCInterestRate(\n",
    "    valor_tasa_fija, \n",
    "    qcf.QC30360(),\n",
    "    qcf.QCLinearWf()\n",
    ")\n",
    "moneda = qcf.QCCLP()\n",
    "es_bono = True\n",
    "\n",
    "# Se da de alta el objeto\n",
    "pata_bono = qcf.LegFactory.build_bullet_fixed_rate_leg(\n",
    "    rp,\n",
    "    fecha_inicio,\n",
    "    fecha_final,\n",
    "    bus_adj_rule,\n",
    "    periodicidad,\n",
    "    periodo_irregular,\n",
    "    calendario,\n",
    "    lag_pago,\n",
    "    nominal,\n",
    "    amort_es_flujo,\n",
    "    tasa_cupon,\n",
    "    moneda,\n",
    "    es_bono\n",
    ")"
   ]
  },
  {
   "cell_type": "markdown",
   "metadata": {},
   "source": [
    "Se da de alta el valor de la TERA y luego se construye un objeto de tipo `ChileanFixedRateBond`."
   ]
  },
  {
   "cell_type": "code",
   "execution_count": 36,
   "metadata": {
    "ExecuteTime": {
     "end_time": "2022-01-24T13:13:31.004720Z",
     "start_time": "2022-01-24T13:13:30.989723Z"
    },
    "execution": {
     "iopub.execute_input": "2023-07-17T23:13:45.669691Z",
     "iopub.status.busy": "2023-07-17T23:13:45.669631Z",
     "iopub.status.idle": "2023-07-17T23:13:45.671425Z",
     "shell.execute_reply": "2023-07-17T23:13:45.671192Z",
     "shell.execute_reply.started": "2023-07-17T23:13:45.669685Z"
    }
   },
   "outputs": [],
   "source": [
    "tera = qcf.QCInterestRate(.015044, qcf.QCAct365(), qcf.QCCompoundWf())\n",
    "bono_chileno = qcf.ChileanFixedRateBond(pata_bono, tera)"
   ]
  },
  {
   "cell_type": "markdown",
   "metadata": {},
   "source": [
    "Se valoriza al 2021-09-28 a una TIR de mercado del 1.61%."
   ]
  },
  {
   "cell_type": "code",
   "execution_count": 37,
   "metadata": {
    "ExecuteTime": {
     "end_time": "2022-01-24T13:13:31.020720Z",
     "start_time": "2022-01-24T13:13:31.005723Z"
    },
    "execution": {
     "iopub.execute_input": "2023-07-17T23:13:45.671918Z",
     "iopub.status.busy": "2023-07-17T23:13:45.671820Z",
     "iopub.status.idle": "2023-07-17T23:13:45.674081Z",
     "shell.execute_reply": "2023-07-17T23:13:45.673854Z",
     "shell.execute_reply.started": "2023-07-17T23:13:45.671912Z"
    }
   },
   "outputs": [
    {
     "name": "stdout",
     "output_type": "stream",
     "text": [
      "Valor presente: 99.67188455\n",
      "Precio: 99.56%\n",
      "Valor par: 100.110516628864033351\n"
     ]
    }
   ],
   "source": [
    "fecha_valor = qcf.QCDate(28, 9, 2021)\n",
    "tir = qcf.QCInterestRate(.0161, qcf.QCAct365(), qcf.QCCompoundWf())\n",
    "\n",
    "valor_presente = bono_chileno.present_value(fecha_valor, tir)\n",
    "precio = bono_chileno.precio(fecha_valor, tir)\n",
    "valor_par = bono_chileno.valor_par(fecha_valor)\n",
    "\n",
    "print(f'Valor presente: {valor_presente:,.8f}')\n",
    "print(f'Precio: {precio:,.2%}')\n",
    "print(f'Valor par: {valor_par:,.18f}')"
   ]
  },
  {
   "cell_type": "markdown",
   "metadata": {},
   "source": [
    "Con esto el valor a pagar es:"
   ]
  },
  {
   "cell_type": "code",
   "execution_count": 38,
   "metadata": {
    "ExecuteTime": {
     "end_time": "2022-01-24T13:13:31.035900Z",
     "start_time": "2022-01-24T13:13:31.021722Z"
    },
    "execution": {
     "iopub.execute_input": "2023-07-17T23:13:45.674694Z",
     "iopub.status.busy": "2023-07-17T23:13:45.674545Z",
     "iopub.status.idle": "2023-07-17T23:13:45.676227Z",
     "shell.execute_reply": "2023-07-17T23:13:45.675968Z",
     "shell.execute_reply.started": "2023-07-17T23:13:45.674687Z"
    }
   },
   "outputs": [
    {
     "name": "stdout",
     "output_type": "stream",
     "text": [
      "Valor a pagar: 2,998,111\n"
     ]
    }
   ],
   "source": [
    "valor_uf = 30_080.37\n",
    "valor_pago = precio * valor_par * valor_uf\n",
    "print(f'Valor a pagar: {valor_pago:,.0f}')"
   ]
  },
  {
   "cell_type": "markdown",
   "metadata": {},
   "source": [
    "Con 4 decimales en el precio (4 decimales porcentuales, 6 decimales en el número):"
   ]
  },
  {
   "cell_type": "code",
   "execution_count": 39,
   "metadata": {
    "ExecuteTime": {
     "end_time": "2022-01-24T13:13:31.050901Z",
     "start_time": "2022-01-24T13:13:31.036903Z"
    },
    "execution": {
     "iopub.execute_input": "2023-07-17T23:13:45.676669Z",
     "iopub.status.busy": "2023-07-17T23:13:45.676602Z",
     "iopub.status.idle": "2023-07-17T23:13:45.678389Z",
     "shell.execute_reply": "2023-07-17T23:13:45.678158Z",
     "shell.execute_reply.started": "2023-07-17T23:13:45.676663Z"
    }
   },
   "outputs": [
    {
     "name": "stdout",
     "output_type": "stream",
     "text": [
      "Precio a 4 decmales: 99.5619%\n"
     ]
    }
   ],
   "source": [
    "precio2 = bono_chileno.precio2(fecha_valor, tir, 6)\n",
    "print(f'Precio a 4 decmales: {precio2:.4%}')"
   ]
  },
  {
   "cell_type": "markdown",
   "metadata": {},
   "source": [
    "La función `precio2` entrega el mismo resultado que la función precio cuando se utiliza con 2 decimales porcentuales."
   ]
  },
  {
   "cell_type": "code",
   "execution_count": 40,
   "metadata": {
    "ExecuteTime": {
     "end_time": "2022-01-24T13:13:31.066901Z",
     "start_time": "2022-01-24T13:13:31.051904Z"
    },
    "execution": {
     "iopub.execute_input": "2023-07-17T23:13:45.678784Z",
     "iopub.status.busy": "2023-07-17T23:13:45.678719Z",
     "iopub.status.idle": "2023-07-17T23:13:45.680591Z",
     "shell.execute_reply": "2023-07-17T23:13:45.680316Z",
     "shell.execute_reply.started": "2023-07-17T23:13:45.678778Z"
    }
   },
   "outputs": [
    {
     "name": "stdout",
     "output_type": "stream",
     "text": [
      "Precio a 4 decmales: 99.5600%\n"
     ]
    }
   ],
   "source": [
    "precio22 = bono_chileno.precio2(fecha_valor, tir, 4)\n",
    "print(f'Precio a 4 decmales: {precio22:.4%}')"
   ]
  },
  {
   "cell_type": "markdown",
   "metadata": {},
   "source": [
    "Se muestran las diferencias con la convención de precio usual en mercados desarrollados."
   ]
  },
  {
   "cell_type": "code",
   "execution_count": 41,
   "metadata": {
    "ExecuteTime": {
     "end_time": "2022-01-24T13:13:31.082900Z",
     "start_time": "2022-01-24T13:13:31.067902Z"
    },
    "execution": {
     "iopub.execute_input": "2023-07-17T23:13:45.680987Z",
     "iopub.status.busy": "2023-07-17T23:13:45.680907Z",
     "iopub.status.idle": "2023-07-17T23:13:45.682746Z",
     "shell.execute_reply": "2023-07-17T23:13:45.682543Z",
     "shell.execute_reply.started": "2023-07-17T23:13:45.680981Z"
    }
   },
   "outputs": [
    {
     "name": "stdout",
     "output_type": "stream",
     "text": [
      "Valor presente: 99.67188455\n",
      "Precio: 99.55938455\n"
     ]
    }
   ],
   "source": [
    "bono = qcf.FixedRateBond(pata_bono)\n",
    "print(f'Valor presente: {bono.present_value(fecha_valor, tir):,.8f}')\n",
    "print(f'Precio: {bono.price(fecha_valor, tir):,.8f}')"
   ]
  },
  {
   "cell_type": "markdown",
   "metadata": {},
   "source": [
    "### Curvas Reales"
   ]
  },
  {
   "cell_type": "markdown",
   "metadata": {},
   "source": [
    "Construyamos dos curvas a partir de data real. Primero la curva CAMARACLP."
   ]
  },
  {
   "cell_type": "code",
   "execution_count": 42,
   "metadata": {
    "ExecuteTime": {
     "end_time": "2022-01-24T13:13:31.495025Z",
     "start_time": "2022-01-24T13:13:31.083901Z"
    },
    "execution": {
     "iopub.execute_input": "2023-07-17T23:13:45.683200Z",
     "iopub.status.busy": "2023-07-17T23:13:45.683131Z",
     "iopub.status.idle": "2023-07-17T23:13:45.938054Z",
     "shell.execute_reply": "2023-07-17T23:13:45.937630Z",
     "shell.execute_reply.started": "2023-07-17T23:13:45.683194Z"
    }
   },
   "outputs": [
    {
     "data": {
      "text/html": [
       "<style type=\"text/css\">\n",
       "</style>\n",
       "<table id=\"T_69601\">\n",
       "  <thead>\n",
       "    <tr>\n",
       "      <th class=\"blank level0\" >&nbsp;</th>\n",
       "      <th id=\"T_69601_level0_col0\" class=\"col_heading level0 col0\" >curva</th>\n",
       "      <th id=\"T_69601_level0_col1\" class=\"col_heading level0 col1\" >fecha</th>\n",
       "      <th id=\"T_69601_level0_col2\" class=\"col_heading level0 col2\" >plazo</th>\n",
       "      <th id=\"T_69601_level0_col3\" class=\"col_heading level0 col3\" >tasa</th>\n",
       "    </tr>\n",
       "  </thead>\n",
       "  <tbody>\n",
       "    <tr>\n",
       "      <th id=\"T_69601_level0_row0\" class=\"row_heading level0 row0\" >0</th>\n",
       "      <td id=\"T_69601_row0_col0\" class=\"data row0 col0\" >CAMARACLP</td>\n",
       "      <td id=\"T_69601_row0_col1\" class=\"data row0 col1\" >2020-03-05 00:00:00</td>\n",
       "      <td id=\"T_69601_row0_col2\" class=\"data row0 col2\" >1</td>\n",
       "      <td id=\"T_69601_row0_col3\" class=\"data row0 col3\" >1.7500%</td>\n",
       "    </tr>\n",
       "    <tr>\n",
       "      <th id=\"T_69601_level0_row1\" class=\"row_heading level0 row1\" >1</th>\n",
       "      <td id=\"T_69601_row1_col0\" class=\"data row1 col0\" >CAMARACLP</td>\n",
       "      <td id=\"T_69601_row1_col1\" class=\"data row1 col1\" >2020-03-05 00:00:00</td>\n",
       "      <td id=\"T_69601_row1_col2\" class=\"data row1 col2\" >4</td>\n",
       "      <td id=\"T_69601_row1_col3\" class=\"data row1 col3\" >1.7501%</td>\n",
       "    </tr>\n",
       "    <tr>\n",
       "      <th id=\"T_69601_level0_row2\" class=\"row_heading level0 row2\" >2</th>\n",
       "      <td id=\"T_69601_row2_col0\" class=\"data row2 col0\" >CAMARACLP</td>\n",
       "      <td id=\"T_69601_row2_col1\" class=\"data row2 col1\" >2020-03-05 00:00:00</td>\n",
       "      <td id=\"T_69601_row2_col2\" class=\"data row2 col2\" >96</td>\n",
       "      <td id=\"T_69601_row2_col3\" class=\"data row2 col3\" >1.4867%</td>\n",
       "    </tr>\n",
       "    <tr>\n",
       "      <th id=\"T_69601_level0_row3\" class=\"row_heading level0 row3\" >3</th>\n",
       "      <td id=\"T_69601_row3_col0\" class=\"data row3 col0\" >CAMARACLP</td>\n",
       "      <td id=\"T_69601_row3_col1\" class=\"data row3 col1\" >2020-03-05 00:00:00</td>\n",
       "      <td id=\"T_69601_row3_col2\" class=\"data row3 col2\" >188</td>\n",
       "      <td id=\"T_69601_row3_col3\" class=\"data row3 col3\" >1.3049%</td>\n",
       "    </tr>\n",
       "    <tr>\n",
       "      <th id=\"T_69601_level0_row4\" class=\"row_heading level0 row4\" >4</th>\n",
       "      <td id=\"T_69601_row4_col0\" class=\"data row4 col0\" >CAMARACLP</td>\n",
       "      <td id=\"T_69601_row4_col1\" class=\"data row4 col1\" >2020-03-05 00:00:00</td>\n",
       "      <td id=\"T_69601_row4_col2\" class=\"data row4 col2\" >279</td>\n",
       "      <td id=\"T_69601_row4_col3\" class=\"data row4 col3\" >1.2870%</td>\n",
       "    </tr>\n",
       "    <tr>\n",
       "      <th id=\"T_69601_level0_row5\" class=\"row_heading level0 row5\" >5</th>\n",
       "      <td id=\"T_69601_row5_col0\" class=\"data row5 col0\" >CAMARACLP</td>\n",
       "      <td id=\"T_69601_row5_col1\" class=\"data row5 col1\" >2020-03-05 00:00:00</td>\n",
       "      <td id=\"T_69601_row5_col2\" class=\"data row5 col2\" >369</td>\n",
       "      <td id=\"T_69601_row5_col3\" class=\"data row5 col3\" >1.3002%</td>\n",
       "    </tr>\n",
       "    <tr>\n",
       "      <th id=\"T_69601_level0_row6\" class=\"row_heading level0 row6\" >6</th>\n",
       "      <td id=\"T_69601_row6_col0\" class=\"data row6 col0\" >CAMARACLP</td>\n",
       "      <td id=\"T_69601_row6_col1\" class=\"data row6 col1\" >2020-03-05 00:00:00</td>\n",
       "      <td id=\"T_69601_row6_col2\" class=\"data row6 col2\" >553</td>\n",
       "      <td id=\"T_69601_row6_col3\" class=\"data row6 col3\" >1.3035%</td>\n",
       "    </tr>\n",
       "    <tr>\n",
       "      <th id=\"T_69601_level0_row7\" class=\"row_heading level0 row7\" >7</th>\n",
       "      <td id=\"T_69601_row7_col0\" class=\"data row7 col0\" >CAMARACLP</td>\n",
       "      <td id=\"T_69601_row7_col1\" class=\"data row7 col1\" >2020-03-05 00:00:00</td>\n",
       "      <td id=\"T_69601_row7_col2\" class=\"data row7 col2\" >734</td>\n",
       "      <td id=\"T_69601_row7_col3\" class=\"data row7 col3\" >1.2951%</td>\n",
       "    </tr>\n",
       "    <tr>\n",
       "      <th id=\"T_69601_level0_row8\" class=\"row_heading level0 row8\" >8</th>\n",
       "      <td id=\"T_69601_row8_col0\" class=\"data row8 col0\" >CAMARACLP</td>\n",
       "      <td id=\"T_69601_row8_col1\" class=\"data row8 col1\" >2020-03-05 00:00:00</td>\n",
       "      <td id=\"T_69601_row8_col2\" class=\"data row8 col2\" >1099</td>\n",
       "      <td id=\"T_69601_row8_col3\" class=\"data row8 col3\" >1.4440%</td>\n",
       "    </tr>\n",
       "    <tr>\n",
       "      <th id=\"T_69601_level0_row9\" class=\"row_heading level0 row9\" >9</th>\n",
       "      <td id=\"T_69601_row9_col0\" class=\"data row9 col0\" >CAMARACLP</td>\n",
       "      <td id=\"T_69601_row9_col1\" class=\"data row9 col1\" >2020-03-05 00:00:00</td>\n",
       "      <td id=\"T_69601_row9_col2\" class=\"data row9 col2\" >1465</td>\n",
       "      <td id=\"T_69601_row9_col3\" class=\"data row9 col3\" >1.6736%</td>\n",
       "    </tr>\n",
       "    <tr>\n",
       "      <th id=\"T_69601_level0_row10\" class=\"row_heading level0 row10\" >10</th>\n",
       "      <td id=\"T_69601_row10_col0\" class=\"data row10 col0\" >CAMARACLP</td>\n",
       "      <td id=\"T_69601_row10_col1\" class=\"data row10 col1\" >2020-03-05 00:00:00</td>\n",
       "      <td id=\"T_69601_row10_col2\" class=\"data row10 col2\" >1830</td>\n",
       "      <td id=\"T_69601_row10_col3\" class=\"data row10 col3\" >1.9860%</td>\n",
       "    </tr>\n",
       "    <tr>\n",
       "      <th id=\"T_69601_level0_row11\" class=\"row_heading level0 row11\" >11</th>\n",
       "      <td id=\"T_69601_row11_col0\" class=\"data row11 col0\" >CAMARACLP</td>\n",
       "      <td id=\"T_69601_row11_col1\" class=\"data row11 col1\" >2020-03-05 00:00:00</td>\n",
       "      <td id=\"T_69601_row11_col2\" class=\"data row11 col2\" >2195</td>\n",
       "      <td id=\"T_69601_row11_col3\" class=\"data row11 col3\" >2.2766%</td>\n",
       "    </tr>\n",
       "    <tr>\n",
       "      <th id=\"T_69601_level0_row12\" class=\"row_heading level0 row12\" >12</th>\n",
       "      <td id=\"T_69601_row12_col0\" class=\"data row12 col0\" >CAMARACLP</td>\n",
       "      <td id=\"T_69601_row12_col1\" class=\"data row12 col1\" >2020-03-05 00:00:00</td>\n",
       "      <td id=\"T_69601_row12_col2\" class=\"data row12 col2\" >2560</td>\n",
       "      <td id=\"T_69601_row12_col3\" class=\"data row12 col3\" >2.5812%</td>\n",
       "    </tr>\n",
       "    <tr>\n",
       "      <th id=\"T_69601_level0_row13\" class=\"row_heading level0 row13\" >13</th>\n",
       "      <td id=\"T_69601_row13_col0\" class=\"data row13 col0\" >CAMARACLP</td>\n",
       "      <td id=\"T_69601_row13_col1\" class=\"data row13 col1\" >2020-03-05 00:00:00</td>\n",
       "      <td id=\"T_69601_row13_col2\" class=\"data row13 col2\" >2926</td>\n",
       "      <td id=\"T_69601_row13_col3\" class=\"data row13 col3\" >2.8216%</td>\n",
       "    </tr>\n",
       "    <tr>\n",
       "      <th id=\"T_69601_level0_row14\" class=\"row_heading level0 row14\" >14</th>\n",
       "      <td id=\"T_69601_row14_col0\" class=\"data row14 col0\" >CAMARACLP</td>\n",
       "      <td id=\"T_69601_row14_col1\" class=\"data row14 col1\" >2020-03-05 00:00:00</td>\n",
       "      <td id=\"T_69601_row14_col2\" class=\"data row14 col2\" >3291</td>\n",
       "      <td id=\"T_69601_row14_col3\" class=\"data row14 col3\" >3.0373%</td>\n",
       "    </tr>\n",
       "    <tr>\n",
       "      <th id=\"T_69601_level0_row15\" class=\"row_heading level0 row15\" >15</th>\n",
       "      <td id=\"T_69601_row15_col0\" class=\"data row15 col0\" >CAMARACLP</td>\n",
       "      <td id=\"T_69601_row15_col1\" class=\"data row15 col1\" >2020-03-05 00:00:00</td>\n",
       "      <td id=\"T_69601_row15_col2\" class=\"data row15 col2\" >3656</td>\n",
       "      <td id=\"T_69601_row15_col3\" class=\"data row15 col3\" >3.2154%</td>\n",
       "    </tr>\n",
       "    <tr>\n",
       "      <th id=\"T_69601_level0_row16\" class=\"row_heading level0 row16\" >16</th>\n",
       "      <td id=\"T_69601_row16_col0\" class=\"data row16 col0\" >CAMARACLP</td>\n",
       "      <td id=\"T_69601_row16_col1\" class=\"data row16 col1\" >2020-03-05 00:00:00</td>\n",
       "      <td id=\"T_69601_row16_col2\" class=\"data row16 col2\" >4387</td>\n",
       "      <td id=\"T_69601_row16_col3\" class=\"data row16 col3\" >3.4525%</td>\n",
       "    </tr>\n",
       "    <tr>\n",
       "      <th id=\"T_69601_level0_row17\" class=\"row_heading level0 row17\" >17</th>\n",
       "      <td id=\"T_69601_row17_col0\" class=\"data row17 col0\" >CAMARACLP</td>\n",
       "      <td id=\"T_69601_row17_col1\" class=\"data row17 col1\" >2020-03-05 00:00:00</td>\n",
       "      <td id=\"T_69601_row17_col2\" class=\"data row17 col2\" >5482</td>\n",
       "      <td id=\"T_69601_row17_col3\" class=\"data row17 col3\" >3.7636%</td>\n",
       "    </tr>\n",
       "    <tr>\n",
       "      <th id=\"T_69601_level0_row18\" class=\"row_heading level0 row18\" >18</th>\n",
       "      <td id=\"T_69601_row18_col0\" class=\"data row18 col0\" >CAMARACLP</td>\n",
       "      <td id=\"T_69601_row18_col1\" class=\"data row18 col1\" >2020-03-05 00:00:00</td>\n",
       "      <td id=\"T_69601_row18_col2\" class=\"data row18 col2\" >7309</td>\n",
       "      <td id=\"T_69601_row18_col3\" class=\"data row18 col3\" >4.1641%</td>\n",
       "    </tr>\n",
       "  </tbody>\n",
       "</table>\n"
      ],
      "text/plain": [
       "<pandas.io.formats.style.Styler at 0x10664c690>"
      ]
     },
     "execution_count": 42,
     "metadata": {},
     "output_type": "execute_result"
    }
   ],
   "source": [
    "curva = pd.read_excel(\"20200305_camaraclp.xlsx\")\n",
    "curva.style.format({\"tasa\": \"{0:,.4%}\"})"
   ]
  },
  {
   "cell_type": "markdown",
   "metadata": {},
   "source": [
    "Se da de alta un vector con los plazos (variable de tipo `long`) y un vector con las tasas (variable de tipo `double`)."
   ]
  },
  {
   "cell_type": "code",
   "execution_count": 43,
   "metadata": {
    "ExecuteTime": {
     "end_time": "2022-01-24T13:13:31.511023Z",
     "start_time": "2022-01-24T13:13:31.496024Z"
    },
    "execution": {
     "iopub.execute_input": "2023-07-17T23:13:45.939150Z",
     "iopub.status.busy": "2023-07-17T23:13:45.938985Z",
     "iopub.status.idle": "2023-07-17T23:13:45.942743Z",
     "shell.execute_reply": "2023-07-17T23:13:45.942249Z",
     "shell.execute_reply.started": "2023-07-17T23:13:45.939140Z"
    }
   },
   "outputs": [],
   "source": [
    "lvec1 = qcf.long_vec()\n",
    "vec1 = qcf.double_vec()\n",
    "for index, row in curva.iterrows():\n",
    "    lvec1.append(int(row['plazo']))\n",
    "    vec1.append(row['tasa'])"
   ]
  },
  {
   "cell_type": "markdown",
   "metadata": {},
   "source": [
    "Luego, con una curva, un interpolador y un objeto `QCInterestRate`(que indica la convención de las tasas de la curva) se construye una curva cupón cero."
   ]
  },
  {
   "cell_type": "code",
   "execution_count": 44,
   "metadata": {
    "ExecuteTime": {
     "end_time": "2022-01-24T13:13:31.527023Z",
     "start_time": "2022-01-24T13:13:31.512026Z"
    },
    "execution": {
     "iopub.execute_input": "2023-07-17T23:13:45.943780Z",
     "iopub.status.busy": "2023-07-17T23:13:45.943585Z",
     "iopub.status.idle": "2023-07-17T23:13:45.946690Z",
     "shell.execute_reply": "2023-07-17T23:13:45.946354Z",
     "shell.execute_reply.started": "2023-07-17T23:13:45.943764Z"
    }
   },
   "outputs": [],
   "source": [
    "zcc1 = qcf.QCCurve(lvec1, vec1)\n",
    "lin1 = qcf.QCLinearInterpolator(zcc1)\n",
    "zz1 = qcf.ZeroCouponCurve(lin1, tasa)"
   ]
  },
  {
   "cell_type": "markdown",
   "metadata": {},
   "source": [
    "Luego, la curva LIBORUSD3M."
   ]
  },
  {
   "cell_type": "code",
   "execution_count": 45,
   "metadata": {
    "ExecuteTime": {
     "end_time": "2022-01-24T13:13:31.607024Z",
     "start_time": "2022-01-24T13:13:31.528025Z"
    },
    "execution": {
     "iopub.execute_input": "2023-07-17T23:13:45.947377Z",
     "iopub.status.busy": "2023-07-17T23:13:45.947243Z",
     "iopub.status.idle": "2023-07-17T23:13:45.963687Z",
     "shell.execute_reply": "2023-07-17T23:13:45.963304Z",
     "shell.execute_reply.started": "2023-07-17T23:13:45.947367Z"
    }
   },
   "outputs": [
    {
     "data": {
      "text/html": [
       "<style type=\"text/css\">\n",
       "</style>\n",
       "<table id=\"T_84251\">\n",
       "  <thead>\n",
       "    <tr>\n",
       "      <th class=\"blank level0\" >&nbsp;</th>\n",
       "      <th id=\"T_84251_level0_col0\" class=\"col_heading level0 col0\" >curva</th>\n",
       "      <th id=\"T_84251_level0_col1\" class=\"col_heading level0 col1\" >fecha</th>\n",
       "      <th id=\"T_84251_level0_col2\" class=\"col_heading level0 col2\" >plazo</th>\n",
       "      <th id=\"T_84251_level0_col3\" class=\"col_heading level0 col3\" >tasa</th>\n",
       "    </tr>\n",
       "  </thead>\n",
       "  <tbody>\n",
       "    <tr>\n",
       "      <th id=\"T_84251_level0_row0\" class=\"row_heading level0 row0\" >0</th>\n",
       "      <td id=\"T_84251_row0_col0\" class=\"data row0 col0\" >LIBORUSD3MBBG</td>\n",
       "      <td id=\"T_84251_row0_col1\" class=\"data row0 col1\" >2020-01-22 00:00:00</td>\n",
       "      <td id=\"T_84251_row0_col2\" class=\"data row0 col2\" >3</td>\n",
       "      <td id=\"T_84251_row0_col3\" class=\"data row0 col3\" >1.5362%</td>\n",
       "    </tr>\n",
       "    <tr>\n",
       "      <th id=\"T_84251_level0_row1\" class=\"row_heading level0 row1\" >1</th>\n",
       "      <td id=\"T_84251_row1_col0\" class=\"data row1 col0\" >LIBORUSD3MBBG</td>\n",
       "      <td id=\"T_84251_row1_col1\" class=\"data row1 col1\" >2020-01-22 00:00:00</td>\n",
       "      <td id=\"T_84251_row1_col2\" class=\"data row1 col2\" >4</td>\n",
       "      <td id=\"T_84251_row1_col3\" class=\"data row1 col3\" >1.1521%</td>\n",
       "    </tr>\n",
       "    <tr>\n",
       "      <th id=\"T_84251_level0_row2\" class=\"row_heading level0 row2\" >2</th>\n",
       "      <td id=\"T_84251_row2_col0\" class=\"data row2 col0\" >LIBORUSD3MBBG</td>\n",
       "      <td id=\"T_84251_row2_col1\" class=\"data row2 col1\" >2020-01-22 00:00:00</td>\n",
       "      <td id=\"T_84251_row2_col2\" class=\"data row2 col2\" >7</td>\n",
       "      <td id=\"T_84251_row2_col3\" class=\"data row2 col3\" >1.5536%</td>\n",
       "    </tr>\n",
       "    <tr>\n",
       "      <th id=\"T_84251_level0_row3\" class=\"row_heading level0 row3\" >3</th>\n",
       "      <td id=\"T_84251_row3_col0\" class=\"data row3 col0\" >LIBORUSD3MBBG</td>\n",
       "      <td id=\"T_84251_row3_col1\" class=\"data row3 col1\" >2020-01-22 00:00:00</td>\n",
       "      <td id=\"T_84251_row3_col2\" class=\"data row3 col2\" >14</td>\n",
       "      <td id=\"T_84251_row3_col3\" class=\"data row3 col3\" >1.5850%</td>\n",
       "    </tr>\n",
       "    <tr>\n",
       "      <th id=\"T_84251_level0_row4\" class=\"row_heading level0 row4\" >4</th>\n",
       "      <td id=\"T_84251_row4_col0\" class=\"data row4 col0\" >LIBORUSD3MBBG</td>\n",
       "      <td id=\"T_84251_row4_col1\" class=\"data row4 col1\" >2020-01-22 00:00:00</td>\n",
       "      <td id=\"T_84251_row4_col2\" class=\"data row4 col2\" >31</td>\n",
       "      <td id=\"T_84251_row4_col3\" class=\"data row4 col3\" >1.6595%</td>\n",
       "    </tr>\n",
       "    <tr>\n",
       "      <th id=\"T_84251_level0_row5\" class=\"row_heading level0 row5\" >5</th>\n",
       "      <td id=\"T_84251_row5_col0\" class=\"data row5 col0\" >LIBORUSD3MBBG</td>\n",
       "      <td id=\"T_84251_row5_col1\" class=\"data row5 col1\" >2020-01-22 00:00:00</td>\n",
       "      <td id=\"T_84251_row5_col2\" class=\"data row5 col2\" >60</td>\n",
       "      <td id=\"T_84251_row5_col3\" class=\"data row5 col3\" >1.7698%</td>\n",
       "    </tr>\n",
       "    <tr>\n",
       "      <th id=\"T_84251_level0_row6\" class=\"row_heading level0 row6\" >6</th>\n",
       "      <td id=\"T_84251_row6_col0\" class=\"data row6 col0\" >LIBORUSD3MBBG</td>\n",
       "      <td id=\"T_84251_row6_col1\" class=\"data row6 col1\" >2020-01-22 00:00:00</td>\n",
       "      <td id=\"T_84251_row6_col2\" class=\"data row6 col2\" >91</td>\n",
       "      <td id=\"T_84251_row6_col3\" class=\"data row6 col3\" >1.8010%</td>\n",
       "    </tr>\n",
       "    <tr>\n",
       "      <th id=\"T_84251_level0_row7\" class=\"row_heading level0 row7\" >7</th>\n",
       "      <td id=\"T_84251_row7_col0\" class=\"data row7 col0\" >LIBORUSD3MBBG</td>\n",
       "      <td id=\"T_84251_row7_col1\" class=\"data row7 col1\" >2020-01-22 00:00:00</td>\n",
       "      <td id=\"T_84251_row7_col2\" class=\"data row7 col2\" >123</td>\n",
       "      <td id=\"T_84251_row7_col3\" class=\"data row7 col3\" >1.7711%</td>\n",
       "    </tr>\n",
       "    <tr>\n",
       "      <th id=\"T_84251_level0_row8\" class=\"row_heading level0 row8\" >8</th>\n",
       "      <td id=\"T_84251_row8_col0\" class=\"data row8 col0\" >LIBORUSD3MBBG</td>\n",
       "      <td id=\"T_84251_row8_col1\" class=\"data row8 col1\" >2020-01-22 00:00:00</td>\n",
       "      <td id=\"T_84251_row8_col2\" class=\"data row8 col2\" >152</td>\n",
       "      <td id=\"T_84251_row8_col3\" class=\"data row8 col3\" >1.7542%</td>\n",
       "    </tr>\n",
       "    <tr>\n",
       "      <th id=\"T_84251_level0_row9\" class=\"row_heading level0 row9\" >9</th>\n",
       "      <td id=\"T_84251_row9_col0\" class=\"data row9 col0\" >LIBORUSD3MBBG</td>\n",
       "      <td id=\"T_84251_row9_col1\" class=\"data row9 col1\" >2020-01-22 00:00:00</td>\n",
       "      <td id=\"T_84251_row9_col2\" class=\"data row9 col2\" >182</td>\n",
       "      <td id=\"T_84251_row9_col3\" class=\"data row9 col3\" >1.7394%</td>\n",
       "    </tr>\n",
       "    <tr>\n",
       "      <th id=\"T_84251_level0_row10\" class=\"row_heading level0 row10\" >10</th>\n",
       "      <td id=\"T_84251_row10_col0\" class=\"data row10 col0\" >LIBORUSD3MBBG</td>\n",
       "      <td id=\"T_84251_row10_col1\" class=\"data row10 col1\" >2020-01-22 00:00:00</td>\n",
       "      <td id=\"T_84251_row10_col2\" class=\"data row10 col2\" >213</td>\n",
       "      <td id=\"T_84251_row10_col3\" class=\"data row10 col3\" >1.7288%</td>\n",
       "    </tr>\n",
       "    <tr>\n",
       "      <th id=\"T_84251_level0_row11\" class=\"row_heading level0 row11\" >11</th>\n",
       "      <td id=\"T_84251_row11_col0\" class=\"data row11 col0\" >LIBORUSD3MBBG</td>\n",
       "      <td id=\"T_84251_row11_col1\" class=\"data row11 col1\" >2020-01-22 00:00:00</td>\n",
       "      <td id=\"T_84251_row11_col2\" class=\"data row11 col2\" >244</td>\n",
       "      <td id=\"T_84251_row11_col3\" class=\"data row11 col3\" >1.7183%</td>\n",
       "    </tr>\n",
       "    <tr>\n",
       "      <th id=\"T_84251_level0_row12\" class=\"row_heading level0 row12\" >12</th>\n",
       "      <td id=\"T_84251_row12_col0\" class=\"data row12 col0\" >LIBORUSD3MBBG</td>\n",
       "      <td id=\"T_84251_row12_col1\" class=\"data row12 col1\" >2020-01-22 00:00:00</td>\n",
       "      <td id=\"T_84251_row12_col2\" class=\"data row12 col2\" >276</td>\n",
       "      <td id=\"T_84251_row12_col3\" class=\"data row12 col3\" >1.7027%</td>\n",
       "    </tr>\n",
       "    <tr>\n",
       "      <th id=\"T_84251_level0_row13\" class=\"row_heading level0 row13\" >13</th>\n",
       "      <td id=\"T_84251_row13_col0\" class=\"data row13 col0\" >LIBORUSD3MBBG</td>\n",
       "      <td id=\"T_84251_row13_col1\" class=\"data row13 col1\" >2020-01-22 00:00:00</td>\n",
       "      <td id=\"T_84251_row13_col2\" class=\"data row13 col2\" >305</td>\n",
       "      <td id=\"T_84251_row13_col3\" class=\"data row13 col3\" >1.6917%</td>\n",
       "    </tr>\n",
       "    <tr>\n",
       "      <th id=\"T_84251_level0_row14\" class=\"row_heading level0 row14\" >14</th>\n",
       "      <td id=\"T_84251_row14_col0\" class=\"data row14 col0\" >LIBORUSD3MBBG</td>\n",
       "      <td id=\"T_84251_row14_col1\" class=\"data row14 col1\" >2020-01-22 00:00:00</td>\n",
       "      <td id=\"T_84251_row14_col2\" class=\"data row14 col2\" >335</td>\n",
       "      <td id=\"T_84251_row14_col3\" class=\"data row14 col3\" >1.6820%</td>\n",
       "    </tr>\n",
       "    <tr>\n",
       "      <th id=\"T_84251_level0_row15\" class=\"row_heading level0 row15\" >15</th>\n",
       "      <td id=\"T_84251_row15_col0\" class=\"data row15 col0\" >LIBORUSD3MBBG</td>\n",
       "      <td id=\"T_84251_row15_col1\" class=\"data row15 col1\" >2020-01-22 00:00:00</td>\n",
       "      <td id=\"T_84251_row15_col2\" class=\"data row15 col2\" >367</td>\n",
       "      <td id=\"T_84251_row15_col3\" class=\"data row15 col3\" >1.6722%</td>\n",
       "    </tr>\n",
       "    <tr>\n",
       "      <th id=\"T_84251_level0_row16\" class=\"row_heading level0 row16\" >16</th>\n",
       "      <td id=\"T_84251_row16_col0\" class=\"data row16 col0\" >LIBORUSD3MBBG</td>\n",
       "      <td id=\"T_84251_row16_col1\" class=\"data row16 col1\" >2020-01-22 00:00:00</td>\n",
       "      <td id=\"T_84251_row16_col2\" class=\"data row16 col2\" >549</td>\n",
       "      <td id=\"T_84251_row16_col3\" class=\"data row16 col3\" >1.6207%</td>\n",
       "    </tr>\n",
       "    <tr>\n",
       "      <th id=\"T_84251_level0_row17\" class=\"row_heading level0 row17\" >17</th>\n",
       "      <td id=\"T_84251_row17_col0\" class=\"data row17 col0\" >LIBORUSD3MBBG</td>\n",
       "      <td id=\"T_84251_row17_col1\" class=\"data row17 col1\" >2020-01-22 00:00:00</td>\n",
       "      <td id=\"T_84251_row17_col2\" class=\"data row17 col2\" >731</td>\n",
       "      <td id=\"T_84251_row17_col3\" class=\"data row17 col3\" >1.5947%</td>\n",
       "    </tr>\n",
       "    <tr>\n",
       "      <th id=\"T_84251_level0_row18\" class=\"row_heading level0 row18\" >18</th>\n",
       "      <td id=\"T_84251_row18_col0\" class=\"data row18 col0\" >LIBORUSD3MBBG</td>\n",
       "      <td id=\"T_84251_row18_col1\" class=\"data row18 col1\" >2020-01-22 00:00:00</td>\n",
       "      <td id=\"T_84251_row18_col2\" class=\"data row18 col2\" >1096</td>\n",
       "      <td id=\"T_84251_row18_col3\" class=\"data row18 col3\" >1.5788%</td>\n",
       "    </tr>\n",
       "    <tr>\n",
       "      <th id=\"T_84251_level0_row19\" class=\"row_heading level0 row19\" >19</th>\n",
       "      <td id=\"T_84251_row19_col0\" class=\"data row19 col0\" >LIBORUSD3MBBG</td>\n",
       "      <td id=\"T_84251_row19_col1\" class=\"data row19 col1\" >2020-01-22 00:00:00</td>\n",
       "      <td id=\"T_84251_row19_col2\" class=\"data row19 col2\" >1461</td>\n",
       "      <td id=\"T_84251_row19_col3\" class=\"data row19 col3\" >1.5906%</td>\n",
       "    </tr>\n",
       "    <tr>\n",
       "      <th id=\"T_84251_level0_row20\" class=\"row_heading level0 row20\" >20</th>\n",
       "      <td id=\"T_84251_row20_col0\" class=\"data row20 col0\" >LIBORUSD3MBBG</td>\n",
       "      <td id=\"T_84251_row20_col1\" class=\"data row20 col1\" >2020-01-22 00:00:00</td>\n",
       "      <td id=\"T_84251_row20_col2\" class=\"data row20 col2\" >1827</td>\n",
       "      <td id=\"T_84251_row20_col3\" class=\"data row20 col3\" >1.6190%</td>\n",
       "    </tr>\n",
       "    <tr>\n",
       "      <th id=\"T_84251_level0_row21\" class=\"row_heading level0 row21\" >21</th>\n",
       "      <td id=\"T_84251_row21_col0\" class=\"data row21 col0\" >LIBORUSD3MBBG</td>\n",
       "      <td id=\"T_84251_row21_col1\" class=\"data row21 col1\" >2020-01-22 00:00:00</td>\n",
       "      <td id=\"T_84251_row21_col2\" class=\"data row21 col2\" >2558</td>\n",
       "      <td id=\"T_84251_row21_col3\" class=\"data row21 col3\" >1.7028%</td>\n",
       "    </tr>\n",
       "    <tr>\n",
       "      <th id=\"T_84251_level0_row22\" class=\"row_heading level0 row22\" >22</th>\n",
       "      <td id=\"T_84251_row22_col0\" class=\"data row22 col0\" >LIBORUSD3MBBG</td>\n",
       "      <td id=\"T_84251_row22_col1\" class=\"data row22 col1\" >2020-01-22 00:00:00</td>\n",
       "      <td id=\"T_84251_row22_col2\" class=\"data row22 col2\" >3653</td>\n",
       "      <td id=\"T_84251_row22_col3\" class=\"data row22 col3\" >1.8533%</td>\n",
       "    </tr>\n",
       "    <tr>\n",
       "      <th id=\"T_84251_level0_row23\" class=\"row_heading level0 row23\" >23</th>\n",
       "      <td id=\"T_84251_row23_col0\" class=\"data row23 col0\" >LIBORUSD3MBBG</td>\n",
       "      <td id=\"T_84251_row23_col1\" class=\"data row23 col1\" >2020-01-22 00:00:00</td>\n",
       "      <td id=\"T_84251_row23_col2\" class=\"data row23 col2\" >4385</td>\n",
       "      <td id=\"T_84251_row23_col3\" class=\"data row23 col3\" >1.9547%</td>\n",
       "    </tr>\n",
       "    <tr>\n",
       "      <th id=\"T_84251_level0_row24\" class=\"row_heading level0 row24\" >24</th>\n",
       "      <td id=\"T_84251_row24_col0\" class=\"data row24 col0\" >LIBORUSD3MBBG</td>\n",
       "      <td id=\"T_84251_row24_col1\" class=\"data row24 col1\" >2020-01-22 00:00:00</td>\n",
       "      <td id=\"T_84251_row24_col2\" class=\"data row24 col2\" >5479</td>\n",
       "      <td id=\"T_84251_row24_col3\" class=\"data row24 col3\" >2.0893%</td>\n",
       "    </tr>\n",
       "    <tr>\n",
       "      <th id=\"T_84251_level0_row25\" class=\"row_heading level0 row25\" >25</th>\n",
       "      <td id=\"T_84251_row25_col0\" class=\"data row25 col0\" >LIBORUSD3MBBG</td>\n",
       "      <td id=\"T_84251_row25_col1\" class=\"data row25 col1\" >2020-01-22 00:00:00</td>\n",
       "      <td id=\"T_84251_row25_col2\" class=\"data row25 col2\" >7305</td>\n",
       "      <td id=\"T_84251_row25_col3\" class=\"data row25 col3\" >2.2831%</td>\n",
       "    </tr>\n",
       "    <tr>\n",
       "      <th id=\"T_84251_level0_row26\" class=\"row_heading level0 row26\" >26</th>\n",
       "      <td id=\"T_84251_row26_col0\" class=\"data row26 col0\" >LIBORUSD3MBBG</td>\n",
       "      <td id=\"T_84251_row26_col1\" class=\"data row26 col1\" >2020-01-22 00:00:00</td>\n",
       "      <td id=\"T_84251_row26_col2\" class=\"data row26 col2\" >9132</td>\n",
       "      <td id=\"T_84251_row26_col3\" class=\"data row26 col3\" >2.4306%</td>\n",
       "    </tr>\n",
       "    <tr>\n",
       "      <th id=\"T_84251_level0_row27\" class=\"row_heading level0 row27\" >27</th>\n",
       "      <td id=\"T_84251_row27_col0\" class=\"data row27 col0\" >LIBORUSD3MBBG</td>\n",
       "      <td id=\"T_84251_row27_col1\" class=\"data row27 col1\" >2020-01-22 00:00:00</td>\n",
       "      <td id=\"T_84251_row27_col2\" class=\"data row27 col2\" >10958</td>\n",
       "      <td id=\"T_84251_row27_col3\" class=\"data row27 col3\" >2.5576%</td>\n",
       "    </tr>\n",
       "  </tbody>\n",
       "</table>\n"
      ],
      "text/plain": [
       "<pandas.io.formats.style.Styler at 0x12a8c7f10>"
      ]
     },
     "execution_count": 45,
     "metadata": {},
     "output_type": "execute_result"
    }
   ],
   "source": [
    "curva_libor = pd.read_excel(\"20200122_libor3mbbg.xlsx\")\n",
    "curva_libor.style.format({\"tasa\": \"{0:,.4%}\"})"
   ]
  },
  {
   "cell_type": "code",
   "execution_count": 46,
   "metadata": {
    "ExecuteTime": {
     "end_time": "2022-01-24T13:13:31.623025Z",
     "start_time": "2022-01-24T13:13:31.609024Z"
    },
    "execution": {
     "iopub.execute_input": "2023-07-17T23:13:45.964320Z",
     "iopub.status.busy": "2023-07-17T23:13:45.964223Z",
     "iopub.status.idle": "2023-07-17T23:13:45.967575Z",
     "shell.execute_reply": "2023-07-17T23:13:45.967104Z",
     "shell.execute_reply.started": "2023-07-17T23:13:45.964312Z"
    }
   },
   "outputs": [],
   "source": [
    "lvec2 = qcf.long_vec()\n",
    "vec2 = qcf.double_vec()\n",
    "for index, row in curva_libor.iterrows():\n",
    "    lvec2.append(int(row['plazo']))\n",
    "    vec2.append(row['tasa'])\n",
    "\n",
    "zcc2 = qcf.QCCurve(lvec2, vec2)\n",
    "lin2 = qcf.QCLinearInterpolator(zcc2)\n",
    "zz2 = qcf.ZeroCouponCurve(lin2, tasa)"
   ]
  },
  {
   "cell_type": "markdown",
   "metadata": {},
   "source": [
    "Finalmente, la curva CAMARACLF."
   ]
  },
  {
   "cell_type": "code",
   "execution_count": 47,
   "metadata": {
    "ExecuteTime": {
     "end_time": "2022-01-24T13:13:31.687022Z",
     "start_time": "2022-01-24T13:13:31.624025Z"
    },
    "execution": {
     "iopub.execute_input": "2023-07-17T23:13:45.968086Z",
     "iopub.status.busy": "2023-07-17T23:13:45.967988Z",
     "iopub.status.idle": "2023-07-17T23:13:45.979123Z",
     "shell.execute_reply": "2023-07-17T23:13:45.978643Z",
     "shell.execute_reply.started": "2023-07-17T23:13:45.968080Z"
    }
   },
   "outputs": [
    {
     "data": {
      "text/html": [
       "<style type=\"text/css\">\n",
       "</style>\n",
       "<table id=\"T_9323a\">\n",
       "  <thead>\n",
       "    <tr>\n",
       "      <th class=\"blank level0\" >&nbsp;</th>\n",
       "      <th id=\"T_9323a_level0_col0\" class=\"col_heading level0 col0\" >curva</th>\n",
       "      <th id=\"T_9323a_level0_col1\" class=\"col_heading level0 col1\" >fecha</th>\n",
       "      <th id=\"T_9323a_level0_col2\" class=\"col_heading level0 col2\" >plazo</th>\n",
       "      <th id=\"T_9323a_level0_col3\" class=\"col_heading level0 col3\" >tasa</th>\n",
       "    </tr>\n",
       "  </thead>\n",
       "  <tbody>\n",
       "    <tr>\n",
       "      <th id=\"T_9323a_level0_row0\" class=\"row_heading level0 row0\" >0</th>\n",
       "      <td id=\"T_9323a_row0_col0\" class=\"data row0 col0\" >CAMARACLF</td>\n",
       "      <td id=\"T_9323a_row0_col1\" class=\"data row0 col1\" >2020-03-05 00:00:00</td>\n",
       "      <td id=\"T_9323a_row0_col2\" class=\"data row0 col2\" >1</td>\n",
       "      <td id=\"T_9323a_row0_col3\" class=\"data row0 col3\" >-5.6780%</td>\n",
       "    </tr>\n",
       "    <tr>\n",
       "      <th id=\"T_9323a_level0_row1\" class=\"row_heading level0 row1\" >1</th>\n",
       "      <td id=\"T_9323a_row1_col0\" class=\"data row1 col0\" >CAMARACLF</td>\n",
       "      <td id=\"T_9323a_row1_col1\" class=\"data row1 col1\" >2020-03-05 00:00:00</td>\n",
       "      <td id=\"T_9323a_row1_col2\" class=\"data row1 col2\" >4</td>\n",
       "      <td id=\"T_9323a_row1_col3\" class=\"data row1 col3\" >-5.6744%</td>\n",
       "    </tr>\n",
       "    <tr>\n",
       "      <th id=\"T_9323a_level0_row2\" class=\"row_heading level0 row2\" >2</th>\n",
       "      <td id=\"T_9323a_row2_col0\" class=\"data row2 col0\" >CAMARACLF</td>\n",
       "      <td id=\"T_9323a_row2_col1\" class=\"data row2 col1\" >2020-03-05 00:00:00</td>\n",
       "      <td id=\"T_9323a_row2_col2\" class=\"data row2 col2\" >35</td>\n",
       "      <td id=\"T_9323a_row2_col3\" class=\"data row2 col3\" >-0.9340%</td>\n",
       "    </tr>\n",
       "    <tr>\n",
       "      <th id=\"T_9323a_level0_row3\" class=\"row_heading level0 row3\" >3</th>\n",
       "      <td id=\"T_9323a_row3_col0\" class=\"data row3 col0\" >CAMARACLF</td>\n",
       "      <td id=\"T_9323a_row3_col1\" class=\"data row3 col1\" >2020-03-05 00:00:00</td>\n",
       "      <td id=\"T_9323a_row3_col2\" class=\"data row3 col2\" >64</td>\n",
       "      <td id=\"T_9323a_row3_col3\" class=\"data row3 col3\" >-2.1183%</td>\n",
       "    </tr>\n",
       "    <tr>\n",
       "      <th id=\"T_9323a_level0_row4\" class=\"row_heading level0 row4\" >4</th>\n",
       "      <td id=\"T_9323a_row4_col0\" class=\"data row4 col0\" >CAMARACLF</td>\n",
       "      <td id=\"T_9323a_row4_col1\" class=\"data row4 col1\" >2020-03-05 00:00:00</td>\n",
       "      <td id=\"T_9323a_row4_col2\" class=\"data row4 col2\" >96</td>\n",
       "      <td id=\"T_9323a_row4_col3\" class=\"data row4 col3\" >-2.0079%</td>\n",
       "    </tr>\n",
       "    <tr>\n",
       "      <th id=\"T_9323a_level0_row5\" class=\"row_heading level0 row5\" >5</th>\n",
       "      <td id=\"T_9323a_row5_col0\" class=\"data row5 col0\" >CAMARACLF</td>\n",
       "      <td id=\"T_9323a_row5_col1\" class=\"data row5 col1\" >2020-03-05 00:00:00</td>\n",
       "      <td id=\"T_9323a_row5_col2\" class=\"data row5 col2\" >126</td>\n",
       "      <td id=\"T_9323a_row5_col3\" class=\"data row5 col3\" >-2.0762%</td>\n",
       "    </tr>\n",
       "    <tr>\n",
       "      <th id=\"T_9323a_level0_row6\" class=\"row_heading level0 row6\" >6</th>\n",
       "      <td id=\"T_9323a_row6_col0\" class=\"data row6 col0\" >CAMARACLF</td>\n",
       "      <td id=\"T_9323a_row6_col1\" class=\"data row6 col1\" >2020-03-05 00:00:00</td>\n",
       "      <td id=\"T_9323a_row6_col2\" class=\"data row6 col2\" >155</td>\n",
       "      <td id=\"T_9323a_row6_col3\" class=\"data row6 col3\" >-1.9197%</td>\n",
       "    </tr>\n",
       "    <tr>\n",
       "      <th id=\"T_9323a_level0_row7\" class=\"row_heading level0 row7\" >7</th>\n",
       "      <td id=\"T_9323a_row7_col0\" class=\"data row7 col0\" >CAMARACLF</td>\n",
       "      <td id=\"T_9323a_row7_col1\" class=\"data row7 col1\" >2020-03-05 00:00:00</td>\n",
       "      <td id=\"T_9323a_row7_col2\" class=\"data row7 col2\" >188</td>\n",
       "      <td id=\"T_9323a_row7_col3\" class=\"data row7 col3\" >-1.9347%</td>\n",
       "    </tr>\n",
       "    <tr>\n",
       "      <th id=\"T_9323a_level0_row8\" class=\"row_heading level0 row8\" >8</th>\n",
       "      <td id=\"T_9323a_row8_col0\" class=\"data row8 col0\" >CAMARACLF</td>\n",
       "      <td id=\"T_9323a_row8_col1\" class=\"data row8 col1\" >2020-03-05 00:00:00</td>\n",
       "      <td id=\"T_9323a_row8_col2\" class=\"data row8 col2\" >218</td>\n",
       "      <td id=\"T_9323a_row8_col3\" class=\"data row8 col3\" >-1.7626%</td>\n",
       "    </tr>\n",
       "    <tr>\n",
       "      <th id=\"T_9323a_level0_row9\" class=\"row_heading level0 row9\" >9</th>\n",
       "      <td id=\"T_9323a_row9_col0\" class=\"data row9 col0\" >CAMARACLF</td>\n",
       "      <td id=\"T_9323a_row9_col1\" class=\"data row9 col1\" >2020-03-05 00:00:00</td>\n",
       "      <td id=\"T_9323a_row9_col2\" class=\"data row9 col2\" >249</td>\n",
       "      <td id=\"T_9323a_row9_col3\" class=\"data row9 col3\" >-1.7987%</td>\n",
       "    </tr>\n",
       "    <tr>\n",
       "      <th id=\"T_9323a_level0_row10\" class=\"row_heading level0 row10\" >10</th>\n",
       "      <td id=\"T_9323a_row10_col0\" class=\"data row10 col0\" >CAMARACLF</td>\n",
       "      <td id=\"T_9323a_row10_col1\" class=\"data row10 col1\" >2020-03-05 00:00:00</td>\n",
       "      <td id=\"T_9323a_row10_col2\" class=\"data row10 col2\" >279</td>\n",
       "      <td id=\"T_9323a_row10_col3\" class=\"data row10 col3\" >-1.9335%</td>\n",
       "    </tr>\n",
       "    <tr>\n",
       "      <th id=\"T_9323a_level0_row11\" class=\"row_heading level0 row11\" >11</th>\n",
       "      <td id=\"T_9323a_row11_col0\" class=\"data row11 col0\" >CAMARACLF</td>\n",
       "      <td id=\"T_9323a_row11_col1\" class=\"data row11 col1\" >2020-03-05 00:00:00</td>\n",
       "      <td id=\"T_9323a_row11_col2\" class=\"data row11 col2\" >309</td>\n",
       "      <td id=\"T_9323a_row11_col3\" class=\"data row11 col3\" >-1.8159%</td>\n",
       "    </tr>\n",
       "    <tr>\n",
       "      <th id=\"T_9323a_level0_row12\" class=\"row_heading level0 row12\" >12</th>\n",
       "      <td id=\"T_9323a_row12_col0\" class=\"data row12 col0\" >CAMARACLF</td>\n",
       "      <td id=\"T_9323a_row12_col1\" class=\"data row12 col1\" >2020-03-05 00:00:00</td>\n",
       "      <td id=\"T_9323a_row12_col2\" class=\"data row12 col2\" >341</td>\n",
       "      <td id=\"T_9323a_row12_col3\" class=\"data row12 col3\" >-1.5940%</td>\n",
       "    </tr>\n",
       "    <tr>\n",
       "      <th id=\"T_9323a_level0_row13\" class=\"row_heading level0 row13\" >13</th>\n",
       "      <td id=\"T_9323a_row13_col0\" class=\"data row13 col0\" >CAMARACLF</td>\n",
       "      <td id=\"T_9323a_row13_col1\" class=\"data row13 col1\" >2020-03-05 00:00:00</td>\n",
       "      <td id=\"T_9323a_row13_col2\" class=\"data row13 col2\" >369</td>\n",
       "      <td id=\"T_9323a_row13_col3\" class=\"data row13 col3\" >-1.5994%</td>\n",
       "    </tr>\n",
       "    <tr>\n",
       "      <th id=\"T_9323a_level0_row14\" class=\"row_heading level0 row14\" >14</th>\n",
       "      <td id=\"T_9323a_row14_col0\" class=\"data row14 col0\" >CAMARACLF</td>\n",
       "      <td id=\"T_9323a_row14_col1\" class=\"data row14 col1\" >2020-03-05 00:00:00</td>\n",
       "      <td id=\"T_9323a_row14_col2\" class=\"data row14 col2\" >400</td>\n",
       "      <td id=\"T_9323a_row14_col3\" class=\"data row14 col3\" >-1.5068%</td>\n",
       "    </tr>\n",
       "    <tr>\n",
       "      <th id=\"T_9323a_level0_row15\" class=\"row_heading level0 row15\" >15</th>\n",
       "      <td id=\"T_9323a_row15_col0\" class=\"data row15 col0\" >CAMARACLF</td>\n",
       "      <td id=\"T_9323a_row15_col1\" class=\"data row15 col1\" >2020-03-05 00:00:00</td>\n",
       "      <td id=\"T_9323a_row15_col2\" class=\"data row15 col2\" >428</td>\n",
       "      <td id=\"T_9323a_row15_col3\" class=\"data row15 col3\" >-1.6115%</td>\n",
       "    </tr>\n",
       "    <tr>\n",
       "      <th id=\"T_9323a_level0_row16\" class=\"row_heading level0 row16\" >16</th>\n",
       "      <td id=\"T_9323a_row16_col0\" class=\"data row16 col0\" >CAMARACLF</td>\n",
       "      <td id=\"T_9323a_row16_col1\" class=\"data row16 col1\" >2020-03-05 00:00:00</td>\n",
       "      <td id=\"T_9323a_row16_col2\" class=\"data row16 col2\" >461</td>\n",
       "      <td id=\"T_9323a_row16_col3\" class=\"data row16 col3\" >-1.5923%</td>\n",
       "    </tr>\n",
       "    <tr>\n",
       "      <th id=\"T_9323a_level0_row17\" class=\"row_heading level0 row17\" >17</th>\n",
       "      <td id=\"T_9323a_row17_col0\" class=\"data row17 col0\" >CAMARACLF</td>\n",
       "      <td id=\"T_9323a_row17_col1\" class=\"data row17 col1\" >2020-03-05 00:00:00</td>\n",
       "      <td id=\"T_9323a_row17_col2\" class=\"data row17 col2\" >491</td>\n",
       "      <td id=\"T_9323a_row17_col3\" class=\"data row17 col3\" >-1.5780%</td>\n",
       "    </tr>\n",
       "    <tr>\n",
       "      <th id=\"T_9323a_level0_row18\" class=\"row_heading level0 row18\" >18</th>\n",
       "      <td id=\"T_9323a_row18_col0\" class=\"data row18 col0\" >CAMARACLF</td>\n",
       "      <td id=\"T_9323a_row18_col1\" class=\"data row18 col1\" >2020-03-05 00:00:00</td>\n",
       "      <td id=\"T_9323a_row18_col2\" class=\"data row18 col2\" >522</td>\n",
       "      <td id=\"T_9323a_row18_col3\" class=\"data row18 col3\" >-1.5186%</td>\n",
       "    </tr>\n",
       "    <tr>\n",
       "      <th id=\"T_9323a_level0_row19\" class=\"row_heading level0 row19\" >19</th>\n",
       "      <td id=\"T_9323a_row19_col0\" class=\"data row19 col0\" >CAMARACLF</td>\n",
       "      <td id=\"T_9323a_row19_col1\" class=\"data row19 col1\" >2020-03-05 00:00:00</td>\n",
       "      <td id=\"T_9323a_row19_col2\" class=\"data row19 col2\" >553</td>\n",
       "      <td id=\"T_9323a_row19_col3\" class=\"data row19 col3\" >-1.5533%</td>\n",
       "    </tr>\n",
       "    <tr>\n",
       "      <th id=\"T_9323a_level0_row20\" class=\"row_heading level0 row20\" >20</th>\n",
       "      <td id=\"T_9323a_row20_col0\" class=\"data row20 col0\" >CAMARACLF</td>\n",
       "      <td id=\"T_9323a_row20_col1\" class=\"data row20 col1\" >2020-03-05 00:00:00</td>\n",
       "      <td id=\"T_9323a_row20_col2\" class=\"data row20 col2\" >582</td>\n",
       "      <td id=\"T_9323a_row20_col3\" class=\"data row20 col3\" >-1.5649%</td>\n",
       "    </tr>\n",
       "    <tr>\n",
       "      <th id=\"T_9323a_level0_row21\" class=\"row_heading level0 row21\" >21</th>\n",
       "      <td id=\"T_9323a_row21_col0\" class=\"data row21 col0\" >CAMARACLF</td>\n",
       "      <td id=\"T_9323a_row21_col1\" class=\"data row21 col1\" >2020-03-05 00:00:00</td>\n",
       "      <td id=\"T_9323a_row21_col2\" class=\"data row21 col2\" >734</td>\n",
       "      <td id=\"T_9323a_row21_col3\" class=\"data row21 col3\" >-1.6594%</td>\n",
       "    </tr>\n",
       "    <tr>\n",
       "      <th id=\"T_9323a_level0_row22\" class=\"row_heading level0 row22\" >22</th>\n",
       "      <td id=\"T_9323a_row22_col0\" class=\"data row22 col0\" >CAMARACLF</td>\n",
       "      <td id=\"T_9323a_row22_col1\" class=\"data row22 col1\" >2020-03-05 00:00:00</td>\n",
       "      <td id=\"T_9323a_row22_col2\" class=\"data row22 col2\" >1099</td>\n",
       "      <td id=\"T_9323a_row22_col3\" class=\"data row22 col3\" >-1.4881%</td>\n",
       "    </tr>\n",
       "    <tr>\n",
       "      <th id=\"T_9323a_level0_row23\" class=\"row_heading level0 row23\" >23</th>\n",
       "      <td id=\"T_9323a_row23_col0\" class=\"data row23 col0\" >CAMARACLF</td>\n",
       "      <td id=\"T_9323a_row23_col1\" class=\"data row23 col1\" >2020-03-05 00:00:00</td>\n",
       "      <td id=\"T_9323a_row23_col2\" class=\"data row23 col2\" >1465</td>\n",
       "      <td id=\"T_9323a_row23_col3\" class=\"data row23 col3\" >-1.2740%</td>\n",
       "    </tr>\n",
       "    <tr>\n",
       "      <th id=\"T_9323a_level0_row24\" class=\"row_heading level0 row24\" >24</th>\n",
       "      <td id=\"T_9323a_row24_col0\" class=\"data row24 col0\" >CAMARACLF</td>\n",
       "      <td id=\"T_9323a_row24_col1\" class=\"data row24 col1\" >2020-03-05 00:00:00</td>\n",
       "      <td id=\"T_9323a_row24_col2\" class=\"data row24 col2\" >1830</td>\n",
       "      <td id=\"T_9323a_row24_col3\" class=\"data row24 col3\" >-1.0201%</td>\n",
       "    </tr>\n",
       "    <tr>\n",
       "      <th id=\"T_9323a_level0_row25\" class=\"row_heading level0 row25\" >25</th>\n",
       "      <td id=\"T_9323a_row25_col0\" class=\"data row25 col0\" >CAMARACLF</td>\n",
       "      <td id=\"T_9323a_row25_col1\" class=\"data row25 col1\" >2020-03-05 00:00:00</td>\n",
       "      <td id=\"T_9323a_row25_col2\" class=\"data row25 col2\" >2195</td>\n",
       "      <td id=\"T_9323a_row25_col3\" class=\"data row25 col3\" >-0.8009%</td>\n",
       "    </tr>\n",
       "    <tr>\n",
       "      <th id=\"T_9323a_level0_row26\" class=\"row_heading level0 row26\" >26</th>\n",
       "      <td id=\"T_9323a_row26_col0\" class=\"data row26 col0\" >CAMARACLF</td>\n",
       "      <td id=\"T_9323a_row26_col1\" class=\"data row26 col1\" >2020-03-05 00:00:00</td>\n",
       "      <td id=\"T_9323a_row26_col2\" class=\"data row26 col2\" >2560</td>\n",
       "      <td id=\"T_9323a_row26_col3\" class=\"data row26 col3\" >-0.5868%</td>\n",
       "    </tr>\n",
       "    <tr>\n",
       "      <th id=\"T_9323a_level0_row27\" class=\"row_heading level0 row27\" >27</th>\n",
       "      <td id=\"T_9323a_row27_col0\" class=\"data row27 col0\" >CAMARACLF</td>\n",
       "      <td id=\"T_9323a_row27_col1\" class=\"data row27 col1\" >2020-03-05 00:00:00</td>\n",
       "      <td id=\"T_9323a_row27_col2\" class=\"data row27 col2\" >2926</td>\n",
       "      <td id=\"T_9323a_row27_col3\" class=\"data row27 col3\" >-0.4145%</td>\n",
       "    </tr>\n",
       "    <tr>\n",
       "      <th id=\"T_9323a_level0_row28\" class=\"row_heading level0 row28\" >28</th>\n",
       "      <td id=\"T_9323a_row28_col0\" class=\"data row28 col0\" >CAMARACLF</td>\n",
       "      <td id=\"T_9323a_row28_col1\" class=\"data row28 col1\" >2020-03-05 00:00:00</td>\n",
       "      <td id=\"T_9323a_row28_col2\" class=\"data row28 col2\" >3291</td>\n",
       "      <td id=\"T_9323a_row28_col3\" class=\"data row28 col3\" >-0.3047%</td>\n",
       "    </tr>\n",
       "    <tr>\n",
       "      <th id=\"T_9323a_level0_row29\" class=\"row_heading level0 row29\" >29</th>\n",
       "      <td id=\"T_9323a_row29_col0\" class=\"data row29 col0\" >CAMARACLF</td>\n",
       "      <td id=\"T_9323a_row29_col1\" class=\"data row29 col1\" >2020-03-05 00:00:00</td>\n",
       "      <td id=\"T_9323a_row29_col2\" class=\"data row29 col2\" >3656</td>\n",
       "      <td id=\"T_9323a_row29_col3\" class=\"data row29 col3\" >-0.2242%</td>\n",
       "    </tr>\n",
       "    <tr>\n",
       "      <th id=\"T_9323a_level0_row30\" class=\"row_heading level0 row30\" >30</th>\n",
       "      <td id=\"T_9323a_row30_col0\" class=\"data row30 col0\" >CAMARACLF</td>\n",
       "      <td id=\"T_9323a_row30_col1\" class=\"data row30 col1\" >2020-03-05 00:00:00</td>\n",
       "      <td id=\"T_9323a_row30_col2\" class=\"data row30 col2\" >4387</td>\n",
       "      <td id=\"T_9323a_row30_col3\" class=\"data row30 col3\" >-0.1871%</td>\n",
       "    </tr>\n",
       "    <tr>\n",
       "      <th id=\"T_9323a_level0_row31\" class=\"row_heading level0 row31\" >31</th>\n",
       "      <td id=\"T_9323a_row31_col0\" class=\"data row31 col0\" >CAMARACLF</td>\n",
       "      <td id=\"T_9323a_row31_col1\" class=\"data row31 col1\" >2020-03-05 00:00:00</td>\n",
       "      <td id=\"T_9323a_row31_col2\" class=\"data row31 col2\" >5482</td>\n",
       "      <td id=\"T_9323a_row31_col3\" class=\"data row31 col3\" >-0.1056%</td>\n",
       "    </tr>\n",
       "    <tr>\n",
       "      <th id=\"T_9323a_level0_row32\" class=\"row_heading level0 row32\" >32</th>\n",
       "      <td id=\"T_9323a_row32_col0\" class=\"data row32 col0\" >CAMARACLF</td>\n",
       "      <td id=\"T_9323a_row32_col1\" class=\"data row32 col1\" >2020-03-05 00:00:00</td>\n",
       "      <td id=\"T_9323a_row32_col2\" class=\"data row32 col2\" >7309</td>\n",
       "      <td id=\"T_9323a_row32_col3\" class=\"data row32 col3\" >-0.0639%</td>\n",
       "    </tr>\n",
       "  </tbody>\n",
       "</table>\n"
      ],
      "text/plain": [
       "<pandas.io.formats.style.Styler at 0x12a8fb390>"
      ]
     },
     "execution_count": 47,
     "metadata": {},
     "output_type": "execute_result"
    }
   ],
   "source": [
    "curva_camara_clf = pd.read_excel(\"20200305_camaraclf.xlsx\")\n",
    "curva_camara_clf.style.format({\"tasa\": \"{0:,.4%}\"})"
   ]
  },
  {
   "cell_type": "code",
   "execution_count": 48,
   "metadata": {
    "ExecuteTime": {
     "end_time": "2022-01-24T13:13:31.703023Z",
     "start_time": "2022-01-24T13:13:31.688024Z"
    },
    "execution": {
     "iopub.execute_input": "2023-07-17T23:13:45.979702Z",
     "iopub.status.busy": "2023-07-17T23:13:45.979552Z",
     "iopub.status.idle": "2023-07-17T23:13:45.982597Z",
     "shell.execute_reply": "2023-07-17T23:13:45.982338Z",
     "shell.execute_reply.started": "2023-07-17T23:13:45.979694Z"
    }
   },
   "outputs": [],
   "source": [
    "lvec3 = qcf.long_vec()\n",
    "vec3 = qcf.double_vec()\n",
    "for index, row in curva_camara_clf.iterrows():\n",
    "    lvec3.append(int(row['plazo']))\n",
    "    vec3.append(row['tasa'])\n",
    "\n",
    "zcc3 = qcf.QCCurve(lvec3, vec3)\n",
    "lin3 = qcf.QCLinearInterpolator(zcc3)\n",
    "zz3 = qcf.ZeroCouponCurve(lin3, tasa)"
   ]
  },
  {
   "cell_type": "markdown",
   "metadata": {},
   "source": [
    "#### Curvas para Sensibilidad"
   ]
  },
  {
   "cell_type": "markdown",
   "metadata": {},
   "source": [
    "Se define que vértice de la curva se quiere desplazar."
   ]
  },
  {
   "cell_type": "code",
   "execution_count": 49,
   "metadata": {
    "ExecuteTime": {
     "end_time": "2022-01-24T13:13:31.719022Z",
     "start_time": "2022-01-24T13:13:31.704023Z"
    },
    "execution": {
     "iopub.execute_input": "2023-07-17T23:13:45.983362Z",
     "iopub.status.busy": "2023-07-17T23:13:45.983085Z",
     "iopub.status.idle": "2023-07-17T23:13:45.985267Z",
     "shell.execute_reply": "2023-07-17T23:13:45.984975Z",
     "shell.execute_reply.started": "2023-07-17T23:13:45.983344Z"
    }
   },
   "outputs": [],
   "source": [
    "vertice = 13"
   ]
  },
  {
   "cell_type": "markdown",
   "metadata": {},
   "source": [
    "Se construyen las curvas con ese vértice 1 punto básico más arriba y 1 punto básico más abajo."
   ]
  },
  {
   "cell_type": "code",
   "execution_count": 50,
   "metadata": {
    "ExecuteTime": {
     "end_time": "2022-01-24T13:13:31.735022Z",
     "start_time": "2022-01-24T13:13:31.720023Z"
    },
    "execution": {
     "iopub.execute_input": "2023-07-17T23:13:45.985770Z",
     "iopub.status.busy": "2023-07-17T23:13:45.985668Z",
     "iopub.status.idle": "2023-07-17T23:13:45.988750Z",
     "shell.execute_reply": "2023-07-17T23:13:45.988374Z",
     "shell.execute_reply.started": "2023-07-17T23:13:45.985764Z"
    }
   },
   "outputs": [],
   "source": [
    "bp = .0001\n",
    "vec_sens_up = qcf.double_vec()\n",
    "vec_sens_down = qcf.double_vec()\n",
    "for index, row in curva.iterrows():\n",
    "    if index == vertice:\n",
    "        vec_sens_up.append(row['tasa'] + bp)\n",
    "        vec_sens_down.append(row['tasa'] - bp)\n",
    "    else:\n",
    "        vec_sens_up.append(row['tasa'])\n",
    "        vec_sens_down.append(row['tasa'])\n",
    "\n",
    "zcc_sens_up = qcf.QCCurve(lvec1, vec_sens_up)\n",
    "lin_sens_up = qcf.QCLinearInterpolator(zcc_sens_up)\n",
    "zz_sens_up = qcf.ZeroCouponCurve(lin_sens_up, tasa)\n",
    "\n",
    "zcc_sens_down = qcf.QCCurve(lvec1, vec_sens_down)\n",
    "lin_sens_down = qcf.QCLinearInterpolator(zcc_sens_down)\n",
    "zz_sens_down = qcf.ZeroCouponCurve(lin_sens_down, tasa)"
   ]
  },
  {
   "cell_type": "code",
   "execution_count": 51,
   "metadata": {
    "ExecuteTime": {
     "end_time": "2022-01-24T13:13:31.751022Z",
     "start_time": "2022-01-24T13:13:31.736024Z"
    },
    "execution": {
     "iopub.execute_input": "2023-07-17T23:13:45.989241Z",
     "iopub.status.busy": "2023-07-17T23:13:45.989059Z",
     "iopub.status.idle": "2023-07-17T23:13:45.992311Z",
     "shell.execute_reply": "2023-07-17T23:13:45.991932Z",
     "shell.execute_reply.started": "2023-07-17T23:13:45.989233Z"
    }
   },
   "outputs": [],
   "source": [
    "vec2_sens_up = qcf.double_vec()\n",
    "vec2_sens_down = qcf.double_vec()\n",
    "for index, row in curva_libor.iterrows():\n",
    "    if index == vertice:\n",
    "        vec2_sens_up.append(row['tasa'] + bp)\n",
    "        vec2_sens_down.append(row['tasa'] - bp)\n",
    "    else:\n",
    "        vec2_sens_up.append(row['tasa'])\n",
    "        vec2_sens_down.append(row['tasa'])\n",
    "\n",
    "zcc2_sens_up = qcf.QCCurve(lvec2, vec2_sens_up)\n",
    "lin2_sens_up = qcf.QCLinearInterpolator(zcc2_sens_up)\n",
    "zz2_sens_up = qcf.ZeroCouponCurve(lin2_sens_up, tasa)\n",
    "\n",
    "zcc2_sens_down = qcf.QCCurve(lvec2, vec2_sens_down)\n",
    "lin2_sens_down = qcf.QCLinearInterpolator(zcc2_sens_down)\n",
    "zz2_sens_down = qcf.ZeroCouponCurve(lin2_sens_down, tasa)"
   ]
  },
  {
   "cell_type": "code",
   "execution_count": 52,
   "metadata": {
    "ExecuteTime": {
     "end_time": "2022-01-24T13:13:31.767023Z",
     "start_time": "2022-01-24T13:13:31.752023Z"
    },
    "execution": {
     "iopub.execute_input": "2023-07-17T23:13:45.992725Z",
     "iopub.status.busy": "2023-07-17T23:13:45.992635Z",
     "iopub.status.idle": "2023-07-17T23:13:45.995870Z",
     "shell.execute_reply": "2023-07-17T23:13:45.995506Z",
     "shell.execute_reply.started": "2023-07-17T23:13:45.992718Z"
    }
   },
   "outputs": [],
   "source": [
    "vec3_sens_up = qcf.double_vec()\n",
    "vec3_sens_down = qcf.double_vec()\n",
    "for index, row in curva_camara_clf.iterrows():\n",
    "    if index == vertice:\n",
    "        vec3_sens_up.append(row['tasa'] + bp)\n",
    "        vec3_sens_down.append(row['tasa'] - bp)\n",
    "    else:\n",
    "        vec3_sens_up.append(row['tasa'])\n",
    "        vec3_sens_down.append(row['tasa'])\n",
    "\n",
    "zcc3_sens_up = qcf.QCCurve(lvec3, vec3_sens_up)\n",
    "lin3_sens_up = qcf.QCLinearInterpolator(zcc3_sens_up)\n",
    "zz3_sens_up = qcf.ZeroCouponCurve(lin3_sens_up, tasa)\n",
    "\n",
    "zcc3_sens_down = qcf.QCCurve(lvec3, vec3_sens_down)\n",
    "lin3_sens_down = qcf.QCLinearInterpolator(zcc3_sens_down)\n",
    "zz3_sens_down = qcf.ZeroCouponCurve(lin3_sens_down, tasa)"
   ]
  },
  {
   "cell_type": "markdown",
   "metadata": {},
   "source": [
    "### FixedRateCashflow Leg"
   ]
  },
  {
   "cell_type": "markdown",
   "metadata": {},
   "source": [
    "Se da de alta una pata fija:"
   ]
  },
  {
   "cell_type": "code",
   "execution_count": 53,
   "metadata": {
    "ExecuteTime": {
     "end_time": "2022-01-24T13:13:31.783021Z",
     "start_time": "2022-01-24T13:13:31.768024Z"
    },
    "execution": {
     "iopub.execute_input": "2023-07-17T23:13:45.996326Z",
     "iopub.status.busy": "2023-07-17T23:13:45.996181Z",
     "iopub.status.idle": "2023-07-17T23:13:45.999001Z",
     "shell.execute_reply": "2023-07-17T23:13:45.998757Z",
     "shell.execute_reply.started": "2023-07-17T23:13:45.996320Z"
    }
   },
   "outputs": [],
   "source": [
    "# Se da de alta los parámetros requeridos\n",
    "rp = qcf.RecPay.RECEIVE\n",
    "fecha_inicio = qcf.QCDate(12, 11, 2019)\n",
    "fecha_final = qcf.QCDate(12, 11, 2020)\n",
    "bus_adj_rule = qcf.BusyAdjRules.MODFOLLOW\n",
    "periodicidad = qcf.Tenor('6M')\n",
    "periodo_irregular = qcf.StubPeriod.SHORTFRONT\n",
    "calendario = qcf.BusinessCalendar(fecha_inicio, 20)\n",
    "lag_pago = 0\n",
    "nominal = 20_000_000.0\n",
    "amort_es_flujo = True\n",
    "valor_tasa_fija = .01774\n",
    "tasa_cupon = qcf.QCInterestRate(\n",
    "    valor_tasa_fija, \n",
    "    qcf.QC30360(), \n",
    "    qcf.QCLinearWf()\n",
    ")\n",
    "moneda = qcf.QCUSD()\n",
    "es_bono = False\n",
    "\n",
    "# Se da de alta el objeto\n",
    "fixed_rate_leg = qcf.LegFactory.build_bullet_fixed_rate_leg(\n",
    "    rp,\n",
    "    fecha_inicio,\n",
    "    fecha_final,\n",
    "    bus_adj_rule,\n",
    "    periodicidad,\n",
    "    periodo_irregular,\n",
    "    calendario,\n",
    "    lag_pago,\n",
    "    nominal,\n",
    "    amort_es_flujo,\n",
    "    tasa_cupon,\n",
    "    moneda,\n",
    "    es_bono\n",
    ")"
   ]
  },
  {
   "cell_type": "code",
   "execution_count": 54,
   "metadata": {
    "ExecuteTime": {
     "end_time": "2022-01-24T13:13:31.799025Z",
     "start_time": "2022-01-24T13:13:31.784023Z"
    },
    "execution": {
     "iopub.execute_input": "2023-07-17T23:13:45.999406Z",
     "iopub.status.busy": "2023-07-17T23:13:45.999339Z",
     "iopub.status.idle": "2023-07-17T23:13:46.003918Z",
     "shell.execute_reply": "2023-07-17T23:13:46.003648Z",
     "shell.execute_reply.started": "2023-07-17T23:13:45.999401Z"
    }
   },
   "outputs": [
    {
     "data": {
      "text/html": [
       "<style type=\"text/css\">\n",
       "</style>\n",
       "<table id=\"T_045b6\">\n",
       "  <thead>\n",
       "    <tr>\n",
       "      <th class=\"blank level0\" >&nbsp;</th>\n",
       "      <th id=\"T_045b6_level0_col0\" class=\"col_heading level0 col0\" >fecha_inicial</th>\n",
       "      <th id=\"T_045b6_level0_col1\" class=\"col_heading level0 col1\" >fecha_final</th>\n",
       "      <th id=\"T_045b6_level0_col2\" class=\"col_heading level0 col2\" >fecha_pago</th>\n",
       "      <th id=\"T_045b6_level0_col3\" class=\"col_heading level0 col3\" >nominal</th>\n",
       "      <th id=\"T_045b6_level0_col4\" class=\"col_heading level0 col4\" >amortizacion</th>\n",
       "      <th id=\"T_045b6_level0_col5\" class=\"col_heading level0 col5\" >interes</th>\n",
       "      <th id=\"T_045b6_level0_col6\" class=\"col_heading level0 col6\" >amort_es_flujo</th>\n",
       "      <th id=\"T_045b6_level0_col7\" class=\"col_heading level0 col7\" >flujo</th>\n",
       "      <th id=\"T_045b6_level0_col8\" class=\"col_heading level0 col8\" >moneda</th>\n",
       "      <th id=\"T_045b6_level0_col9\" class=\"col_heading level0 col9\" >valor_tasa</th>\n",
       "      <th id=\"T_045b6_level0_col10\" class=\"col_heading level0 col10\" >tipo_tasa</th>\n",
       "    </tr>\n",
       "  </thead>\n",
       "  <tbody>\n",
       "    <tr>\n",
       "      <th id=\"T_045b6_level0_row0\" class=\"row_heading level0 row0\" >0</th>\n",
       "      <td id=\"T_045b6_row0_col0\" class=\"data row0 col0\" >2019-11-12</td>\n",
       "      <td id=\"T_045b6_row0_col1\" class=\"data row0 col1\" >2020-05-12</td>\n",
       "      <td id=\"T_045b6_row0_col2\" class=\"data row0 col2\" >2020-05-12</td>\n",
       "      <td id=\"T_045b6_row0_col3\" class=\"data row0 col3\" >20,000,000.00</td>\n",
       "      <td id=\"T_045b6_row0_col4\" class=\"data row0 col4\" >0.00</td>\n",
       "      <td id=\"T_045b6_row0_col5\" class=\"data row0 col5\" >177,400.00</td>\n",
       "      <td id=\"T_045b6_row0_col6\" class=\"data row0 col6\" >True</td>\n",
       "      <td id=\"T_045b6_row0_col7\" class=\"data row0 col7\" >177,400.00</td>\n",
       "      <td id=\"T_045b6_row0_col8\" class=\"data row0 col8\" >USD</td>\n",
       "      <td id=\"T_045b6_row0_col9\" class=\"data row0 col9\" >1.7740%</td>\n",
       "      <td id=\"T_045b6_row0_col10\" class=\"data row0 col10\" >Lin30360</td>\n",
       "    </tr>\n",
       "    <tr>\n",
       "      <th id=\"T_045b6_level0_row1\" class=\"row_heading level0 row1\" >1</th>\n",
       "      <td id=\"T_045b6_row1_col0\" class=\"data row1 col0\" >2020-05-12</td>\n",
       "      <td id=\"T_045b6_row1_col1\" class=\"data row1 col1\" >2020-11-12</td>\n",
       "      <td id=\"T_045b6_row1_col2\" class=\"data row1 col2\" >2020-11-12</td>\n",
       "      <td id=\"T_045b6_row1_col3\" class=\"data row1 col3\" >20,000,000.00</td>\n",
       "      <td id=\"T_045b6_row1_col4\" class=\"data row1 col4\" >20,000,000.00</td>\n",
       "      <td id=\"T_045b6_row1_col5\" class=\"data row1 col5\" >177,400.00</td>\n",
       "      <td id=\"T_045b6_row1_col6\" class=\"data row1 col6\" >True</td>\n",
       "      <td id=\"T_045b6_row1_col7\" class=\"data row1 col7\" >20,177,400.00</td>\n",
       "      <td id=\"T_045b6_row1_col8\" class=\"data row1 col8\" >USD</td>\n",
       "      <td id=\"T_045b6_row1_col9\" class=\"data row1 col9\" >1.7740%</td>\n",
       "      <td id=\"T_045b6_row1_col10\" class=\"data row1 col10\" >Lin30360</td>\n",
       "    </tr>\n",
       "  </tbody>\n",
       "</table>\n"
      ],
      "text/plain": [
       "<pandas.io.formats.style.Styler at 0x12adea710>"
      ]
     },
     "execution_count": 54,
     "metadata": {},
     "output_type": "execute_result"
    }
   ],
   "source": [
    "# Se define un list donde almacenar los resultados de la función show\n",
    "tabla = []\n",
    "for i in range(0, fixed_rate_leg.size()):\n",
    "    tabla.append(qcf.show(fixed_rate_leg.get_cashflow_at(i)))\n",
    "\n",
    "# Se utiliza tabla para inicializar el Dataframe\n",
    "columnas = list(qcf.get_column_names(\"FixedRateCashflow\", \"\"))\n",
    "df = pd.DataFrame(tabla, columns=columnas)\n",
    "\n",
    "# Se despliega la data en este formato\n",
    "df.style.format(format_dict)"
   ]
  },
  {
   "cell_type": "markdown",
   "metadata": {},
   "source": [
    "Se calcula ahora el valor presente:"
   ]
  },
  {
   "cell_type": "code",
   "execution_count": 55,
   "metadata": {
    "ExecuteTime": {
     "end_time": "2022-01-24T13:13:31.815022Z",
     "start_time": "2022-01-24T13:13:31.800023Z"
    },
    "execution": {
     "iopub.execute_input": "2023-07-17T23:13:46.004526Z",
     "iopub.status.busy": "2023-07-17T23:13:46.004451Z",
     "iopub.status.idle": "2023-07-17T23:13:46.006361Z",
     "shell.execute_reply": "2023-07-17T23:13:46.006083Z",
     "shell.execute_reply.started": "2023-07-17T23:13:46.004520Z"
    }
   },
   "outputs": [
    {
     "name": "stdout",
     "output_type": "stream",
     "text": [
      "Valor presente de la pata fija es: 20,072,981\n"
     ]
    }
   ],
   "source": [
    "vp_fija = pv.pv(fecha_hoy, fixed_rate_leg, zz2)\n",
    "print(\"Valor presente de la pata fija es: {0:,.0f}\".format(vp_fija))"
   ]
  },
  {
   "cell_type": "markdown",
   "metadata": {},
   "source": [
    "Al calcular el valor presente, también se calculan las derivadas del valor presente respecto a cada uno de los vértices de la curva."
   ]
  },
  {
   "cell_type": "code",
   "execution_count": 56,
   "metadata": {
    "ExecuteTime": {
     "end_time": "2022-01-24T13:13:31.831021Z",
     "start_time": "2022-01-24T13:13:31.816022Z"
    },
    "execution": {
     "iopub.execute_input": "2023-07-17T23:13:46.006795Z",
     "iopub.status.busy": "2023-07-17T23:13:46.006734Z",
     "iopub.status.idle": "2023-07-17T23:13:46.008381Z",
     "shell.execute_reply": "2023-07-17T23:13:46.008150Z",
     "shell.execute_reply.started": "2023-07-17T23:13:46.006788Z"
    }
   },
   "outputs": [],
   "source": [
    "der = pv.get_derivatives()"
   ]
  },
  {
   "cell_type": "markdown",
   "metadata": {},
   "source": [
    "Con esas derivadas, se puede calcular la sensibilidad a la curva cupón cero a un movimiento de 1 punto básico."
   ]
  },
  {
   "cell_type": "code",
   "execution_count": 57,
   "metadata": {
    "ExecuteTime": {
     "end_time": "2022-01-24T13:13:31.846023Z",
     "start_time": "2022-01-24T13:13:31.832021Z"
    },
    "execution": {
     "iopub.execute_input": "2023-07-17T23:13:46.008849Z",
     "iopub.status.busy": "2023-07-17T23:13:46.008778Z",
     "iopub.status.idle": "2023-07-17T23:13:46.011290Z",
     "shell.execute_reply": "2023-07-17T23:13:46.011064Z",
     "shell.execute_reply.started": "2023-07-17T23:13:46.008843Z"
    }
   },
   "outputs": [
    {
     "name": "stdout",
     "output_type": "stream",
     "text": [
      "Sensibilidad en 0: 0\n",
      "Sensibilidad en 1: 0\n",
      "Sensibilidad en 2: 0\n",
      "Sensibilidad en 3: 0\n",
      "Sensibilidad en 4: 0\n",
      "Sensibilidad en 5: 0\n",
      "Sensibilidad en 6: -1\n",
      "Sensibilidad en 7: -4\n",
      "Sensibilidad en 8: 0\n",
      "Sensibilidad en 9: 0\n",
      "Sensibilidad en 10: 0\n",
      "Sensibilidad en 11: 0\n",
      "Sensibilidad en 12: -282\n",
      "Sensibilidad en 13: -1,353\n",
      "Sensibilidad en 14: 0\n",
      "Sensibilidad en 15: 0\n",
      "Sensibilidad en 16: 0\n",
      "Sensibilidad en 17: 0\n",
      "Sensibilidad en 18: 0\n",
      "Sensibilidad en 19: 0\n",
      "Sensibilidad en 20: 0\n",
      "Sensibilidad en 21: 0\n",
      "Sensibilidad en 22: 0\n",
      "Sensibilidad en 23: 0\n",
      "Sensibilidad en 24: 0\n",
      "Sensibilidad en 25: 0\n",
      "Sensibilidad en 26: 0\n",
      "Sensibilidad en 27: 0\n",
      "Sensibilidad total: -1,641\n"
     ]
    }
   ],
   "source": [
    "i = 0\n",
    "bp = .0001\n",
    "total = 0\n",
    "for d in der:\n",
    "    total += d * bp\n",
    "    print(\"Sensibilidad en {0:}: {1:0,.0f}\".format(i, d * bp))\n",
    "    i += 1\n",
    "print(\"Sensibilidad total: {0:,.0f}\".format(total))"
   ]
  },
  {
   "cell_type": "markdown",
   "metadata": {},
   "source": [
    "Se puede verificar la sensibilidad por diferencias finitas."
   ]
  },
  {
   "cell_type": "markdown",
   "metadata": {},
   "source": [
    "Se calcula el valor presente con las curvas desplazadas."
   ]
  },
  {
   "cell_type": "code",
   "execution_count": 58,
   "metadata": {
    "ExecuteTime": {
     "end_time": "2022-01-24T13:13:31.861023Z",
     "start_time": "2022-01-24T13:13:31.849023Z"
    },
    "execution": {
     "iopub.execute_input": "2023-07-17T23:13:46.011859Z",
     "iopub.status.busy": "2023-07-17T23:13:46.011711Z",
     "iopub.status.idle": "2023-07-17T23:13:46.013601Z",
     "shell.execute_reply": "2023-07-17T23:13:46.013361Z",
     "shell.execute_reply.started": "2023-07-17T23:13:46.011849Z"
    }
   },
   "outputs": [
    {
     "name": "stdout",
     "output_type": "stream",
     "text": [
      "Valor presente up de la pata fija es: 20,071,628\n",
      "Valor presente down de la pata fija es: 20,074,334\n"
     ]
    }
   ],
   "source": [
    "vp_fija_sens_up = pv.pv(fecha_hoy, fixed_rate_leg, zz2_sens_up)\n",
    "vp_fija_sens_down = pv.pv(fecha_hoy, fixed_rate_leg, zz2_sens_down)\n",
    "print(\"Valor presente up de la pata fija es: {0:,.0f}\".format(vp_fija_sens_up))\n",
    "print(\"Valor presente down de la pata fija es: {0:,.0f}\".format(\n",
    "    vp_fija_sens_down))"
   ]
  },
  {
   "cell_type": "markdown",
   "metadata": {},
   "source": [
    "Finalmente, se calcula la sensibilidad (usando la aproximación central por diferencias finitas)."
   ]
  },
  {
   "cell_type": "code",
   "execution_count": 59,
   "metadata": {
    "ExecuteTime": {
     "end_time": "2022-01-24T13:13:31.877020Z",
     "start_time": "2022-01-24T13:13:31.862022Z"
    },
    "execution": {
     "iopub.execute_input": "2023-07-17T23:13:46.014141Z",
     "iopub.status.busy": "2023-07-17T23:13:46.013988Z",
     "iopub.status.idle": "2023-07-17T23:13:46.015722Z",
     "shell.execute_reply": "2023-07-17T23:13:46.015501Z",
     "shell.execute_reply.started": "2023-07-17T23:13:46.014135Z"
    }
   },
   "outputs": [
    {
     "name": "stdout",
     "output_type": "stream",
     "text": [
      "Sensibilidad por diferencias finitas: -1,353\n"
     ]
    }
   ],
   "source": [
    "print(\"Sensibilidad por diferencias finitas: {0:,.0f}\".format(\n",
    "    (vp_fija_sens_up - vp_fija_sens_down) / 2))"
   ]
  },
  {
   "cell_type": "markdown",
   "metadata": {},
   "source": [
    "Tanto el VP como la sensibilidad coinciden con lo que muestra FD en la pata fija de la operación 2879."
   ]
  },
  {
   "cell_type": "markdown",
   "metadata": {},
   "source": [
    "### IcpClpCashflow2 Leg"
   ]
  },
  {
   "cell_type": "code",
   "execution_count": 60,
   "metadata": {
    "ExecuteTime": {
     "end_time": "2022-01-24T13:13:31.893021Z",
     "start_time": "2022-01-24T13:13:31.878021Z"
    },
    "execution": {
     "iopub.execute_input": "2023-07-17T23:13:46.016081Z",
     "iopub.status.busy": "2023-07-17T23:13:46.016027Z",
     "iopub.status.idle": "2023-07-17T23:13:46.019704Z",
     "shell.execute_reply": "2023-07-17T23:13:46.019484Z",
     "shell.execute_reply.started": "2023-07-17T23:13:46.016076Z"
    }
   },
   "outputs": [],
   "source": [
    "# Se da de alta los parámetros requeridos\n",
    "rp = qcf.RecPay.RECEIVE\n",
    "fecha_inicio = qcf.QCDate(10,1,2019)\n",
    "fecha_final = qcf.QCDate(10,7,2029)\n",
    "bus_adj_rule = qcf.BusyAdjRules.FOLLOW\n",
    "periodicidad_pago = qcf.Tenor('2Y')\n",
    "periodo_irregular_pago = qcf.StubPeriod.SHORTFRONT\n",
    "calendario = qcf.BusinessCalendar(fecha_inicio, 20)\n",
    "lag_pago = 0\n",
    "nominal = 38_000_000_000.0\n",
    "amort_es_flujo = True\n",
    "spread = .0\n",
    "gearing = 1.0\n",
    "\n",
    "icp_clp2_leg = qcf.LegFactory.build_bullet_icp_clp2_leg(\n",
    "    rp,\n",
    "    fecha_inicio,\n",
    "    fecha_final,\n",
    "    bus_adj_rule,\n",
    "    periodicidad_pago,\n",
    "    periodo_irregular_pago,\n",
    "    calendario,\n",
    "    lag_pago,\n",
    "    nominal,\n",
    "    amort_es_flujo,\n",
    "    spread,\n",
    "    gearing,\n",
    "    True\n",
    ")"
   ]
  },
  {
   "cell_type": "code",
   "execution_count": 61,
   "metadata": {
    "ExecuteTime": {
     "end_time": "2022-01-24T13:13:31.909021Z",
     "start_time": "2022-01-24T13:13:31.894023Z"
    },
    "execution": {
     "iopub.execute_input": "2023-07-17T23:13:46.020229Z",
     "iopub.status.busy": "2023-07-17T23:13:46.020108Z",
     "iopub.status.idle": "2023-07-17T23:13:46.025213Z",
     "shell.execute_reply": "2023-07-17T23:13:46.024980Z",
     "shell.execute_reply.started": "2023-07-17T23:13:46.020223Z"
    }
   },
   "outputs": [
    {
     "data": {
      "text/html": [
       "<style type=\"text/css\">\n",
       "</style>\n",
       "<table id=\"T_d1ebd\">\n",
       "  <thead>\n",
       "    <tr>\n",
       "      <th class=\"blank level0\" >&nbsp;</th>\n",
       "      <th id=\"T_d1ebd_level0_col0\" class=\"col_heading level0 col0\" >fecha_inicial</th>\n",
       "      <th id=\"T_d1ebd_level0_col1\" class=\"col_heading level0 col1\" >fecha_final</th>\n",
       "      <th id=\"T_d1ebd_level0_col2\" class=\"col_heading level0 col2\" >fecha_pago</th>\n",
       "      <th id=\"T_d1ebd_level0_col3\" class=\"col_heading level0 col3\" >nominal</th>\n",
       "      <th id=\"T_d1ebd_level0_col4\" class=\"col_heading level0 col4\" >amortizacion</th>\n",
       "      <th id=\"T_d1ebd_level0_col5\" class=\"col_heading level0 col5\" >amort_es_flujo</th>\n",
       "      <th id=\"T_d1ebd_level0_col6\" class=\"col_heading level0 col6\" >flujo</th>\n",
       "      <th id=\"T_d1ebd_level0_col7\" class=\"col_heading level0 col7\" >moneda</th>\n",
       "      <th id=\"T_d1ebd_level0_col8\" class=\"col_heading level0 col8\" >icp_inicial</th>\n",
       "      <th id=\"T_d1ebd_level0_col9\" class=\"col_heading level0 col9\" >icp_final</th>\n",
       "      <th id=\"T_d1ebd_level0_col10\" class=\"col_heading level0 col10\" >valor_tasa</th>\n",
       "      <th id=\"T_d1ebd_level0_col11\" class=\"col_heading level0 col11\" >interes</th>\n",
       "      <th id=\"T_d1ebd_level0_col12\" class=\"col_heading level0 col12\" >spread</th>\n",
       "      <th id=\"T_d1ebd_level0_col13\" class=\"col_heading level0 col13\" >gearing</th>\n",
       "      <th id=\"T_d1ebd_level0_col14\" class=\"col_heading level0 col14\" >tipo_tasa</th>\n",
       "    </tr>\n",
       "  </thead>\n",
       "  <tbody>\n",
       "    <tr>\n",
       "      <th id=\"T_d1ebd_level0_row0\" class=\"row_heading level0 row0\" >0</th>\n",
       "      <td id=\"T_d1ebd_row0_col0\" class=\"data row0 col0\" >2019-01-10</td>\n",
       "      <td id=\"T_d1ebd_row0_col1\" class=\"data row0 col1\" >2019-07-10</td>\n",
       "      <td id=\"T_d1ebd_row0_col2\" class=\"data row0 col2\" >2019-07-10</td>\n",
       "      <td id=\"T_d1ebd_row0_col3\" class=\"data row0 col3\" >38,000,000,000.00</td>\n",
       "      <td id=\"T_d1ebd_row0_col4\" class=\"data row0 col4\" >0.00</td>\n",
       "      <td id=\"T_d1ebd_row0_col5\" class=\"data row0 col5\" >True</td>\n",
       "      <td id=\"T_d1ebd_row0_col6\" class=\"data row0 col6\" >0.00</td>\n",
       "      <td id=\"T_d1ebd_row0_col7\" class=\"data row0 col7\" >CLP</td>\n",
       "      <td id=\"T_d1ebd_row0_col8\" class=\"data row0 col8\" >10,000.00</td>\n",
       "      <td id=\"T_d1ebd_row0_col9\" class=\"data row0 col9\" >10,000.00</td>\n",
       "      <td id=\"T_d1ebd_row0_col10\" class=\"data row0 col10\" >0.0000%</td>\n",
       "      <td id=\"T_d1ebd_row0_col11\" class=\"data row0 col11\" >0.00</td>\n",
       "      <td id=\"T_d1ebd_row0_col12\" class=\"data row0 col12\" >0.0000%</td>\n",
       "      <td id=\"T_d1ebd_row0_col13\" class=\"data row0 col13\" >1.00</td>\n",
       "      <td id=\"T_d1ebd_row0_col14\" class=\"data row0 col14\" >LinAct360</td>\n",
       "    </tr>\n",
       "    <tr>\n",
       "      <th id=\"T_d1ebd_level0_row1\" class=\"row_heading level0 row1\" >1</th>\n",
       "      <td id=\"T_d1ebd_row1_col0\" class=\"data row1 col0\" >2019-07-10</td>\n",
       "      <td id=\"T_d1ebd_row1_col1\" class=\"data row1 col1\" >2021-07-12</td>\n",
       "      <td id=\"T_d1ebd_row1_col2\" class=\"data row1 col2\" >2021-07-12</td>\n",
       "      <td id=\"T_d1ebd_row1_col3\" class=\"data row1 col3\" >38,000,000,000.00</td>\n",
       "      <td id=\"T_d1ebd_row1_col4\" class=\"data row1 col4\" >0.00</td>\n",
       "      <td id=\"T_d1ebd_row1_col5\" class=\"data row1 col5\" >True</td>\n",
       "      <td id=\"T_d1ebd_row1_col6\" class=\"data row1 col6\" >0.00</td>\n",
       "      <td id=\"T_d1ebd_row1_col7\" class=\"data row1 col7\" >CLP</td>\n",
       "      <td id=\"T_d1ebd_row1_col8\" class=\"data row1 col8\" >10,000.00</td>\n",
       "      <td id=\"T_d1ebd_row1_col9\" class=\"data row1 col9\" >10,000.00</td>\n",
       "      <td id=\"T_d1ebd_row1_col10\" class=\"data row1 col10\" >0.0000%</td>\n",
       "      <td id=\"T_d1ebd_row1_col11\" class=\"data row1 col11\" >0.00</td>\n",
       "      <td id=\"T_d1ebd_row1_col12\" class=\"data row1 col12\" >0.0000%</td>\n",
       "      <td id=\"T_d1ebd_row1_col13\" class=\"data row1 col13\" >1.00</td>\n",
       "      <td id=\"T_d1ebd_row1_col14\" class=\"data row1 col14\" >LinAct360</td>\n",
       "    </tr>\n",
       "    <tr>\n",
       "      <th id=\"T_d1ebd_level0_row2\" class=\"row_heading level0 row2\" >2</th>\n",
       "      <td id=\"T_d1ebd_row2_col0\" class=\"data row2 col0\" >2021-07-12</td>\n",
       "      <td id=\"T_d1ebd_row2_col1\" class=\"data row2 col1\" >2023-07-10</td>\n",
       "      <td id=\"T_d1ebd_row2_col2\" class=\"data row2 col2\" >2023-07-10</td>\n",
       "      <td id=\"T_d1ebd_row2_col3\" class=\"data row2 col3\" >38,000,000,000.00</td>\n",
       "      <td id=\"T_d1ebd_row2_col4\" class=\"data row2 col4\" >0.00</td>\n",
       "      <td id=\"T_d1ebd_row2_col5\" class=\"data row2 col5\" >True</td>\n",
       "      <td id=\"T_d1ebd_row2_col6\" class=\"data row2 col6\" >0.00</td>\n",
       "      <td id=\"T_d1ebd_row2_col7\" class=\"data row2 col7\" >CLP</td>\n",
       "      <td id=\"T_d1ebd_row2_col8\" class=\"data row2 col8\" >10,000.00</td>\n",
       "      <td id=\"T_d1ebd_row2_col9\" class=\"data row2 col9\" >10,000.00</td>\n",
       "      <td id=\"T_d1ebd_row2_col10\" class=\"data row2 col10\" >0.0000%</td>\n",
       "      <td id=\"T_d1ebd_row2_col11\" class=\"data row2 col11\" >0.00</td>\n",
       "      <td id=\"T_d1ebd_row2_col12\" class=\"data row2 col12\" >0.0000%</td>\n",
       "      <td id=\"T_d1ebd_row2_col13\" class=\"data row2 col13\" >1.00</td>\n",
       "      <td id=\"T_d1ebd_row2_col14\" class=\"data row2 col14\" >LinAct360</td>\n",
       "    </tr>\n",
       "    <tr>\n",
       "      <th id=\"T_d1ebd_level0_row3\" class=\"row_heading level0 row3\" >3</th>\n",
       "      <td id=\"T_d1ebd_row3_col0\" class=\"data row3 col0\" >2023-07-10</td>\n",
       "      <td id=\"T_d1ebd_row3_col1\" class=\"data row3 col1\" >2025-07-10</td>\n",
       "      <td id=\"T_d1ebd_row3_col2\" class=\"data row3 col2\" >2025-07-10</td>\n",
       "      <td id=\"T_d1ebd_row3_col3\" class=\"data row3 col3\" >38,000,000,000.00</td>\n",
       "      <td id=\"T_d1ebd_row3_col4\" class=\"data row3 col4\" >0.00</td>\n",
       "      <td id=\"T_d1ebd_row3_col5\" class=\"data row3 col5\" >True</td>\n",
       "      <td id=\"T_d1ebd_row3_col6\" class=\"data row3 col6\" >0.00</td>\n",
       "      <td id=\"T_d1ebd_row3_col7\" class=\"data row3 col7\" >CLP</td>\n",
       "      <td id=\"T_d1ebd_row3_col8\" class=\"data row3 col8\" >10,000.00</td>\n",
       "      <td id=\"T_d1ebd_row3_col9\" class=\"data row3 col9\" >10,000.00</td>\n",
       "      <td id=\"T_d1ebd_row3_col10\" class=\"data row3 col10\" >0.0000%</td>\n",
       "      <td id=\"T_d1ebd_row3_col11\" class=\"data row3 col11\" >0.00</td>\n",
       "      <td id=\"T_d1ebd_row3_col12\" class=\"data row3 col12\" >0.0000%</td>\n",
       "      <td id=\"T_d1ebd_row3_col13\" class=\"data row3 col13\" >1.00</td>\n",
       "      <td id=\"T_d1ebd_row3_col14\" class=\"data row3 col14\" >LinAct360</td>\n",
       "    </tr>\n",
       "    <tr>\n",
       "      <th id=\"T_d1ebd_level0_row4\" class=\"row_heading level0 row4\" >4</th>\n",
       "      <td id=\"T_d1ebd_row4_col0\" class=\"data row4 col0\" >2025-07-10</td>\n",
       "      <td id=\"T_d1ebd_row4_col1\" class=\"data row4 col1\" >2027-07-12</td>\n",
       "      <td id=\"T_d1ebd_row4_col2\" class=\"data row4 col2\" >2027-07-12</td>\n",
       "      <td id=\"T_d1ebd_row4_col3\" class=\"data row4 col3\" >38,000,000,000.00</td>\n",
       "      <td id=\"T_d1ebd_row4_col4\" class=\"data row4 col4\" >0.00</td>\n",
       "      <td id=\"T_d1ebd_row4_col5\" class=\"data row4 col5\" >True</td>\n",
       "      <td id=\"T_d1ebd_row4_col6\" class=\"data row4 col6\" >0.00</td>\n",
       "      <td id=\"T_d1ebd_row4_col7\" class=\"data row4 col7\" >CLP</td>\n",
       "      <td id=\"T_d1ebd_row4_col8\" class=\"data row4 col8\" >10,000.00</td>\n",
       "      <td id=\"T_d1ebd_row4_col9\" class=\"data row4 col9\" >10,000.00</td>\n",
       "      <td id=\"T_d1ebd_row4_col10\" class=\"data row4 col10\" >0.0000%</td>\n",
       "      <td id=\"T_d1ebd_row4_col11\" class=\"data row4 col11\" >0.00</td>\n",
       "      <td id=\"T_d1ebd_row4_col12\" class=\"data row4 col12\" >0.0000%</td>\n",
       "      <td id=\"T_d1ebd_row4_col13\" class=\"data row4 col13\" >1.00</td>\n",
       "      <td id=\"T_d1ebd_row4_col14\" class=\"data row4 col14\" >LinAct360</td>\n",
       "    </tr>\n",
       "    <tr>\n",
       "      <th id=\"T_d1ebd_level0_row5\" class=\"row_heading level0 row5\" >5</th>\n",
       "      <td id=\"T_d1ebd_row5_col0\" class=\"data row5 col0\" >2027-07-12</td>\n",
       "      <td id=\"T_d1ebd_row5_col1\" class=\"data row5 col1\" >2029-07-10</td>\n",
       "      <td id=\"T_d1ebd_row5_col2\" class=\"data row5 col2\" >2029-07-10</td>\n",
       "      <td id=\"T_d1ebd_row5_col3\" class=\"data row5 col3\" >38,000,000,000.00</td>\n",
       "      <td id=\"T_d1ebd_row5_col4\" class=\"data row5 col4\" >38,000,000,000.00</td>\n",
       "      <td id=\"T_d1ebd_row5_col5\" class=\"data row5 col5\" >True</td>\n",
       "      <td id=\"T_d1ebd_row5_col6\" class=\"data row5 col6\" >38,000,000,000.00</td>\n",
       "      <td id=\"T_d1ebd_row5_col7\" class=\"data row5 col7\" >CLP</td>\n",
       "      <td id=\"T_d1ebd_row5_col8\" class=\"data row5 col8\" >10,000.00</td>\n",
       "      <td id=\"T_d1ebd_row5_col9\" class=\"data row5 col9\" >10,000.00</td>\n",
       "      <td id=\"T_d1ebd_row5_col10\" class=\"data row5 col10\" >0.0000%</td>\n",
       "      <td id=\"T_d1ebd_row5_col11\" class=\"data row5 col11\" >0.00</td>\n",
       "      <td id=\"T_d1ebd_row5_col12\" class=\"data row5 col12\" >0.0000%</td>\n",
       "      <td id=\"T_d1ebd_row5_col13\" class=\"data row5 col13\" >1.00</td>\n",
       "      <td id=\"T_d1ebd_row5_col14\" class=\"data row5 col14\" >LinAct360</td>\n",
       "    </tr>\n",
       "  </tbody>\n",
       "</table>\n"
      ],
      "text/plain": [
       "<pandas.io.formats.style.Styler at 0x1185e5990>"
      ]
     },
     "execution_count": 61,
     "metadata": {},
     "output_type": "execute_result"
    }
   ],
   "source": [
    "# Se define un list donde almacenar los resultados de la función show\n",
    "tabla = []\n",
    "for i in range(0, icp_clp2_leg.size()):\n",
    "    tabla.append(qcf.show(icp_clp2_leg.get_cashflow_at(i)))\n",
    "\n",
    "# Se utiliza tabla para inicializar el Dataframe\n",
    "columnas = list(qcf.get_column_names(\"IcpClpCashflow2\", \"\"))\n",
    "df9 = pd.DataFrame(tabla, columns=columnas)\n",
    "\n",
    "# Se despliega la data en este formato\n",
    "df9.style.format(format_dict)"
   ]
  },
  {
   "cell_type": "markdown",
   "metadata": {},
   "source": [
    "Notar que al dar de alta un Leg con IcpClpCashflow2, los valores futuros de los ICP son los default (=10,000.00). Por lo tanto, el primer paso para valorizar estos cashflows, es calcular los valores forward de los índices.\n",
    "\n",
    "Se comienza dando de alta un objeto de tipo `ForwardRates`."
   ]
  },
  {
   "cell_type": "code",
   "execution_count": 62,
   "metadata": {
    "ExecuteTime": {
     "end_time": "2022-01-24T13:13:31.925020Z",
     "start_time": "2022-01-24T13:13:31.910022Z"
    },
    "execution": {
     "iopub.execute_input": "2023-07-17T23:13:46.025646Z",
     "iopub.status.busy": "2023-07-17T23:13:46.025574Z",
     "iopub.status.idle": "2023-07-17T23:13:46.026976Z",
     "shell.execute_reply": "2023-07-17T23:13:46.026753Z",
     "shell.execute_reply.started": "2023-07-17T23:13:46.025640Z"
    }
   },
   "outputs": [],
   "source": [
    "fwd_rates = qcf.ForwardRates()"
   ]
  },
  {
   "cell_type": "markdown",
   "metadata": {},
   "source": [
    "Se calculan los índices forward."
   ]
  },
  {
   "cell_type": "code",
   "execution_count": 63,
   "metadata": {
    "ExecuteTime": {
     "end_time": "2022-01-24T13:13:31.941020Z",
     "start_time": "2022-01-24T13:13:31.926022Z"
    },
    "execution": {
     "iopub.execute_input": "2023-07-17T23:13:46.027462Z",
     "iopub.status.busy": "2023-07-17T23:13:46.027355Z",
     "iopub.status.idle": "2023-07-17T23:13:46.030731Z",
     "shell.execute_reply": "2023-07-17T23:13:46.030500Z",
     "shell.execute_reply.started": "2023-07-17T23:13:46.027455Z"
    }
   },
   "outputs": [],
   "source": [
    "icp_val = 18_890.34 # icp a la fecha de proceso\n",
    "fecha_hoy = qcf.QCDate(5, 3, 2020)\n",
    "\n",
    "for i in range(icp_clp2_leg.size()):\n",
    "    cashflow = icp_clp2_leg.get_cashflow_at(i)\n",
    "    if cashflow.get_start_date() <= fecha_hoy <= cashflow.get_end_date():\n",
    "            index = i\n",
    "\n",
    "icp_fecha_inicio_cupon_vigente = 18_376.69\n",
    "icp_clp2_leg.get_cashflow_at(index).set_start_date_icp(icp_fecha_inicio_cupon_vigente)\n",
    "\n",
    "fwd_rates.set_rates_icp_clp_leg(fecha_hoy, icp_val, icp_clp2_leg, zz1)"
   ]
  },
  {
   "cell_type": "code",
   "execution_count": 64,
   "metadata": {
    "ExecuteTime": {
     "end_time": "2022-01-24T13:13:31.957022Z",
     "start_time": "2022-01-24T13:13:31.942021Z"
    },
    "execution": {
     "iopub.execute_input": "2023-07-17T23:13:46.031167Z",
     "iopub.status.busy": "2023-07-17T23:13:46.031105Z",
     "iopub.status.idle": "2023-07-17T23:13:46.035719Z",
     "shell.execute_reply": "2023-07-17T23:13:46.035485Z",
     "shell.execute_reply.started": "2023-07-17T23:13:46.031162Z"
    }
   },
   "outputs": [
    {
     "data": {
      "text/html": [
       "<style type=\"text/css\">\n",
       "</style>\n",
       "<table id=\"T_250b0\">\n",
       "  <thead>\n",
       "    <tr>\n",
       "      <th class=\"blank level0\" >&nbsp;</th>\n",
       "      <th id=\"T_250b0_level0_col0\" class=\"col_heading level0 col0\" >fecha_inicial</th>\n",
       "      <th id=\"T_250b0_level0_col1\" class=\"col_heading level0 col1\" >fecha_final</th>\n",
       "      <th id=\"T_250b0_level0_col2\" class=\"col_heading level0 col2\" >fecha_pago</th>\n",
       "      <th id=\"T_250b0_level0_col3\" class=\"col_heading level0 col3\" >nominal</th>\n",
       "      <th id=\"T_250b0_level0_col4\" class=\"col_heading level0 col4\" >amortizacion</th>\n",
       "      <th id=\"T_250b0_level0_col5\" class=\"col_heading level0 col5\" >amort_es_flujo</th>\n",
       "      <th id=\"T_250b0_level0_col6\" class=\"col_heading level0 col6\" >flujo</th>\n",
       "      <th id=\"T_250b0_level0_col7\" class=\"col_heading level0 col7\" >moneda</th>\n",
       "      <th id=\"T_250b0_level0_col8\" class=\"col_heading level0 col8\" >icp_inicial</th>\n",
       "      <th id=\"T_250b0_level0_col9\" class=\"col_heading level0 col9\" >icp_final</th>\n",
       "      <th id=\"T_250b0_level0_col10\" class=\"col_heading level0 col10\" >valor_tasa</th>\n",
       "      <th id=\"T_250b0_level0_col11\" class=\"col_heading level0 col11\" >interes</th>\n",
       "      <th id=\"T_250b0_level0_col12\" class=\"col_heading level0 col12\" >spread</th>\n",
       "      <th id=\"T_250b0_level0_col13\" class=\"col_heading level0 col13\" >gearing</th>\n",
       "      <th id=\"T_250b0_level0_col14\" class=\"col_heading level0 col14\" >tipo_tasa</th>\n",
       "    </tr>\n",
       "  </thead>\n",
       "  <tbody>\n",
       "    <tr>\n",
       "      <th id=\"T_250b0_level0_row0\" class=\"row_heading level0 row0\" >0</th>\n",
       "      <td id=\"T_250b0_row0_col0\" class=\"data row0 col0\" >2019-01-10</td>\n",
       "      <td id=\"T_250b0_row0_col1\" class=\"data row0 col1\" >2019-07-10</td>\n",
       "      <td id=\"T_250b0_row0_col2\" class=\"data row0 col2\" >2019-07-10</td>\n",
       "      <td id=\"T_250b0_row0_col3\" class=\"data row0 col3\" >38,000,000,000.00</td>\n",
       "      <td id=\"T_250b0_row0_col4\" class=\"data row0 col4\" >0.00</td>\n",
       "      <td id=\"T_250b0_row0_col5\" class=\"data row0 col5\" >True</td>\n",
       "      <td id=\"T_250b0_row0_col6\" class=\"data row0 col6\" >0.00</td>\n",
       "      <td id=\"T_250b0_row0_col7\" class=\"data row0 col7\" >CLP</td>\n",
       "      <td id=\"T_250b0_row0_col8\" class=\"data row0 col8\" >10,000.00</td>\n",
       "      <td id=\"T_250b0_row0_col9\" class=\"data row0 col9\" >10,000.00</td>\n",
       "      <td id=\"T_250b0_row0_col10\" class=\"data row0 col10\" >0.0000%</td>\n",
       "      <td id=\"T_250b0_row0_col11\" class=\"data row0 col11\" >0.00</td>\n",
       "      <td id=\"T_250b0_row0_col12\" class=\"data row0 col12\" >0.0000%</td>\n",
       "      <td id=\"T_250b0_row0_col13\" class=\"data row0 col13\" >1.00</td>\n",
       "      <td id=\"T_250b0_row0_col14\" class=\"data row0 col14\" >LinAct360</td>\n",
       "    </tr>\n",
       "    <tr>\n",
       "      <th id=\"T_250b0_level0_row1\" class=\"row_heading level0 row1\" >1</th>\n",
       "      <td id=\"T_250b0_row1_col0\" class=\"data row1 col0\" >2019-07-10</td>\n",
       "      <td id=\"T_250b0_row1_col1\" class=\"data row1 col1\" >2021-07-12</td>\n",
       "      <td id=\"T_250b0_row1_col2\" class=\"data row1 col2\" >2021-07-12</td>\n",
       "      <td id=\"T_250b0_row1_col3\" class=\"data row1 col3\" >38,000,000,000.00</td>\n",
       "      <td id=\"T_250b0_row1_col4\" class=\"data row1 col4\" >0.00</td>\n",
       "      <td id=\"T_250b0_row1_col5\" class=\"data row1 col5\" >True</td>\n",
       "      <td id=\"T_250b0_row1_col6\" class=\"data row1 col6\" >1,760,277,860.28</td>\n",
       "      <td id=\"T_250b0_row1_col7\" class=\"data row1 col7\" >CLP</td>\n",
       "      <td id=\"T_250b0_row1_col8\" class=\"data row1 col8\" >18,376.69</td>\n",
       "      <td id=\"T_250b0_row1_col9\" class=\"data row1 col9\" >19,227.96</td>\n",
       "      <td id=\"T_250b0_row1_col10\" class=\"data row1 col10\" >2.2800%</td>\n",
       "      <td id=\"T_250b0_row1_col11\" class=\"data row1 col11\" >1,764,086,666.67</td>\n",
       "      <td id=\"T_250b0_row1_col12\" class=\"data row1 col12\" >0.0000%</td>\n",
       "      <td id=\"T_250b0_row1_col13\" class=\"data row1 col13\" >1.00</td>\n",
       "      <td id=\"T_250b0_row1_col14\" class=\"data row1 col14\" >LinAct360</td>\n",
       "    </tr>\n",
       "    <tr>\n",
       "      <th id=\"T_250b0_level0_row2\" class=\"row_heading level0 row2\" >2</th>\n",
       "      <td id=\"T_250b0_row2_col0\" class=\"data row2 col0\" >2021-07-12</td>\n",
       "      <td id=\"T_250b0_row2_col1\" class=\"data row2 col1\" >2023-07-10</td>\n",
       "      <td id=\"T_250b0_row2_col2\" class=\"data row2 col2\" >2023-07-10</td>\n",
       "      <td id=\"T_250b0_row2_col3\" class=\"data row2 col3\" >38,000,000,000.00</td>\n",
       "      <td id=\"T_250b0_row2_col4\" class=\"data row2 col4\" >0.00</td>\n",
       "      <td id=\"T_250b0_row2_col5\" class=\"data row2 col5\" >True</td>\n",
       "      <td id=\"T_250b0_row2_col6\" class=\"data row2 col6\" >1,260,461,341.38</td>\n",
       "      <td id=\"T_250b0_row2_col7\" class=\"data row2 col7\" >CLP</td>\n",
       "      <td id=\"T_250b0_row2_col8\" class=\"data row2 col8\" >19,227.96</td>\n",
       "      <td id=\"T_250b0_row2_col9\" class=\"data row2 col9\" >19,865.75</td>\n",
       "      <td id=\"T_250b0_row2_col10\" class=\"data row2 col10\" >1.6400%</td>\n",
       "      <td id=\"T_250b0_row2_col11\" class=\"data row2 col11\" >1,260,248,888.89</td>\n",
       "      <td id=\"T_250b0_row2_col12\" class=\"data row2 col12\" >0.0000%</td>\n",
       "      <td id=\"T_250b0_row2_col13\" class=\"data row2 col13\" >1.00</td>\n",
       "      <td id=\"T_250b0_row2_col14\" class=\"data row2 col14\" >LinAct360</td>\n",
       "    </tr>\n",
       "    <tr>\n",
       "      <th id=\"T_250b0_level0_row3\" class=\"row_heading level0 row3\" >3</th>\n",
       "      <td id=\"T_250b0_row3_col0\" class=\"data row3 col0\" >2023-07-10</td>\n",
       "      <td id=\"T_250b0_row3_col1\" class=\"data row3 col1\" >2025-07-10</td>\n",
       "      <td id=\"T_250b0_row3_col2\" class=\"data row3 col2\" >2025-07-10</td>\n",
       "      <td id=\"T_250b0_row3_col3\" class=\"data row3 col3\" >38,000,000,000.00</td>\n",
       "      <td id=\"T_250b0_row3_col4\" class=\"data row3 col4\" >0.00</td>\n",
       "      <td id=\"T_250b0_row3_col5\" class=\"data row3 col5\" >True</td>\n",
       "      <td id=\"T_250b0_row3_col6\" class=\"data row3 col6\" >2,219,270,452.18</td>\n",
       "      <td id=\"T_250b0_row3_col7\" class=\"data row3 col7\" >CLP</td>\n",
       "      <td id=\"T_250b0_row3_col8\" class=\"data row3 col8\" >19,865.75</td>\n",
       "      <td id=\"T_250b0_row3_col9\" class=\"data row3 col9\" >21,025.94</td>\n",
       "      <td id=\"T_250b0_row3_col10\" class=\"data row3 col10\" >2.8800%</td>\n",
       "      <td id=\"T_250b0_row3_col11\" class=\"data row3 col11\" >2,222,240,000.00</td>\n",
       "      <td id=\"T_250b0_row3_col12\" class=\"data row3 col12\" >0.0000%</td>\n",
       "      <td id=\"T_250b0_row3_col13\" class=\"data row3 col13\" >1.00</td>\n",
       "      <td id=\"T_250b0_row3_col14\" class=\"data row3 col14\" >LinAct360</td>\n",
       "    </tr>\n",
       "    <tr>\n",
       "      <th id=\"T_250b0_level0_row4\" class=\"row_heading level0 row4\" >4</th>\n",
       "      <td id=\"T_250b0_row4_col0\" class=\"data row4 col0\" >2025-07-10</td>\n",
       "      <td id=\"T_250b0_row4_col1\" class=\"data row4 col1\" >2027-07-12</td>\n",
       "      <td id=\"T_250b0_row4_col2\" class=\"data row4 col2\" >2027-07-12</td>\n",
       "      <td id=\"T_250b0_row4_col3\" class=\"data row4 col3\" >38,000,000,000.00</td>\n",
       "      <td id=\"T_250b0_row4_col4\" class=\"data row4 col4\" >0.00</td>\n",
       "      <td id=\"T_250b0_row4_col5\" class=\"data row4 col5\" >True</td>\n",
       "      <td id=\"T_250b0_row4_col6\" class=\"data row4 col6\" >2,921,878,806.15</td>\n",
       "      <td id=\"T_250b0_row4_col7\" class=\"data row4 col7\" >CLP</td>\n",
       "      <td id=\"T_250b0_row4_col8\" class=\"data row4 col8\" >21,025.94</td>\n",
       "      <td id=\"T_250b0_row4_col9\" class=\"data row4 col9\" >22,642.66</td>\n",
       "      <td id=\"T_250b0_row4_col10\" class=\"data row4 col10\" >3.7800%</td>\n",
       "      <td id=\"T_250b0_row4_col11\" class=\"data row4 col11\" >2,920,680,000.00</td>\n",
       "      <td id=\"T_250b0_row4_col12\" class=\"data row4 col12\" >0.0000%</td>\n",
       "      <td id=\"T_250b0_row4_col13\" class=\"data row4 col13\" >1.00</td>\n",
       "      <td id=\"T_250b0_row4_col14\" class=\"data row4 col14\" >LinAct360</td>\n",
       "    </tr>\n",
       "    <tr>\n",
       "      <th id=\"T_250b0_level0_row5\" class=\"row_heading level0 row5\" >5</th>\n",
       "      <td id=\"T_250b0_row5_col0\" class=\"data row5 col0\" >2027-07-12</td>\n",
       "      <td id=\"T_250b0_row5_col1\" class=\"data row5 col1\" >2029-07-10</td>\n",
       "      <td id=\"T_250b0_row5_col2\" class=\"data row5 col2\" >2029-07-10</td>\n",
       "      <td id=\"T_250b0_row5_col3\" class=\"data row5 col3\" >38,000,000,000.00</td>\n",
       "      <td id=\"T_250b0_row5_col4\" class=\"data row5 col4\" >38,000,000,000.00</td>\n",
       "      <td id=\"T_250b0_row5_col5\" class=\"data row5 col5\" >True</td>\n",
       "      <td id=\"T_250b0_row5_col6\" class=\"data row5 col6\" >41,014,662,342.55</td>\n",
       "      <td id=\"T_250b0_row5_col7\" class=\"data row5 col7\" >CLP</td>\n",
       "      <td id=\"T_250b0_row5_col8\" class=\"data row5 col8\" >22,642.66</td>\n",
       "      <td id=\"T_250b0_row5_col9\" class=\"data row5 col9\" >24,438.98</td>\n",
       "      <td id=\"T_250b0_row5_col10\" class=\"data row5 col10\" >3.9200%</td>\n",
       "      <td id=\"T_250b0_row5_col11\" class=\"data row5 col11\" >3,016,440,000.00</td>\n",
       "      <td id=\"T_250b0_row5_col12\" class=\"data row5 col12\" >0.0000%</td>\n",
       "      <td id=\"T_250b0_row5_col13\" class=\"data row5 col13\" >1.00</td>\n",
       "      <td id=\"T_250b0_row5_col14\" class=\"data row5 col14\" >LinAct360</td>\n",
       "    </tr>\n",
       "  </tbody>\n",
       "</table>\n"
      ],
      "text/plain": [
       "<pandas.io.formats.style.Styler at 0x12af85810>"
      ]
     },
     "execution_count": 64,
     "metadata": {},
     "output_type": "execute_result"
    }
   ],
   "source": [
    "# Se define un list donde almacenar los resultados de la función show\n",
    "tabla = []\n",
    "for i in range(0, icp_clp2_leg.size()):\n",
    "    tabla.append(qcf.show(icp_clp2_leg.get_cashflow_at(i)))\n",
    "\n",
    "# Se utiliza tabla para inicializar el Dataframe\n",
    "columnas = list(qcf.get_column_names(\"IcpClpCashflow2\", \"\"))\n",
    "df9 = pd.DataFrame(tabla, columns=columnas)\n",
    "\n",
    "# Se despliega la data en este formato\n",
    "df9.style.format(format_dict)"
   ]
  },
  {
   "cell_type": "markdown",
   "metadata": {},
   "source": [
    "Con esto, podemos calcular el valor presente."
   ]
  },
  {
   "cell_type": "code",
   "execution_count": 65,
   "metadata": {
    "ExecuteTime": {
     "end_time": "2022-01-24T13:13:31.973020Z",
     "start_time": "2022-01-24T13:13:31.959021Z"
    },
    "execution": {
     "iopub.execute_input": "2023-07-17T23:13:46.036151Z",
     "iopub.status.busy": "2023-07-17T23:13:46.036081Z",
     "iopub.status.idle": "2023-07-17T23:13:46.038043Z",
     "shell.execute_reply": "2023-07-17T23:13:46.037642Z",
     "shell.execute_reply.started": "2023-07-17T23:13:46.036144Z"
    }
   },
   "outputs": [
    {
     "name": "stdout",
     "output_type": "stream",
     "text": [
      "Valor presente pata ICPCLP: 39,062,144,488\n"
     ]
    }
   ],
   "source": [
    "vp_icp_clp = pv.pv(fecha_hoy, icp_clp2_leg, zz1)\n",
    "print(\"Valor presente pata ICPCLP: {0:,.0f}\".format(vp_icp_clp))"
   ]
  },
  {
   "cell_type": "code",
   "execution_count": 100,
   "metadata": {
    "execution": {
     "iopub.execute_input": "2023-07-17T23:14:10.921226Z",
     "iopub.status.busy": "2023-07-17T23:14:10.920493Z",
     "iopub.status.idle": "2023-07-17T23:14:10.927112Z",
     "shell.execute_reply": "2023-07-17T23:14:10.926465Z",
     "shell.execute_reply.started": "2023-07-17T23:14:10.921171Z"
    }
   },
   "outputs": [],
   "source": [
    "csh = icp_clp2_leg.get_cashflow_at(5)"
   ]
  },
  {
   "cell_type": "code",
   "execution_count": 101,
   "metadata": {
    "execution": {
     "iopub.execute_input": "2023-07-17T23:14:11.607494Z",
     "iopub.status.busy": "2023-07-17T23:14:11.606882Z",
     "iopub.status.idle": "2023-07-17T23:14:11.615261Z",
     "shell.execute_reply": "2023-07-17T23:14:11.614346Z",
     "shell.execute_reply.started": "2023-07-17T23:14:11.607447Z"
    }
   },
   "outputs": [
    {
     "data": {
      "text/plain": [
       "31680225332.9399"
      ]
     },
     "execution_count": 101,
     "metadata": {},
     "output_type": "execute_result"
    }
   ],
   "source": [
    "pv.pv(fecha_hoy, csh, zz1)"
   ]
  },
  {
   "cell_type": "markdown",
   "metadata": {},
   "source": [
    "También en este caso es posible calcular la sensibilidad a la curva de descuento."
   ]
  },
  {
   "cell_type": "code",
   "execution_count": 68,
   "metadata": {
    "ExecuteTime": {
     "end_time": "2022-01-24T13:13:31.989020Z",
     "start_time": "2022-01-24T13:13:31.974021Z"
    },
    "execution": {
     "iopub.execute_input": "2023-07-17T23:13:46.049109Z",
     "iopub.status.busy": "2023-07-17T23:13:46.049045Z",
     "iopub.status.idle": "2023-07-17T23:13:46.051292Z",
     "shell.execute_reply": "2023-07-17T23:13:46.051053Z",
     "shell.execute_reply.started": "2023-07-17T23:13:46.049102Z"
    }
   },
   "outputs": [
    {
     "name": "stdout",
     "output_type": "stream",
     "text": [
      "Sensibilidad en 0: 0\n",
      "Sensibilidad en 1: 0\n",
      "Sensibilidad en 2: 0\n",
      "Sensibilidad en 3: 0\n",
      "Sensibilidad en 4: 0\n",
      "Sensibilidad en 5: 0\n",
      "Sensibilidad en 6: 0\n",
      "Sensibilidad en 7: 0\n",
      "Sensibilidad en 8: 0\n",
      "Sensibilidad en 9: 0\n",
      "Sensibilidad en 10: 0\n",
      "Sensibilidad en 11: 0\n",
      "Sensibilidad en 12: 0\n",
      "Sensibilidad en 13: 0\n",
      "Sensibilidad en 14: 0\n",
      "Sensibilidad en 15: 0\n",
      "Sensibilidad en 16: 0\n",
      "Sensibilidad en 17: 0\n",
      "Sensibilidad en 18: 0\n"
     ]
    }
   ],
   "source": [
    "der = pv.get_derivatives()\n",
    "i = 0\n",
    "bp = .0001\n",
    "for d in der:\n",
    "    print(\"Sensibilidad en {0:}: {1:0,.0f}\".format(i, d * bp))\n",
    "    i += 1"
   ]
  },
  {
   "cell_type": "markdown",
   "metadata": {},
   "source": [
    "Podemos ver la sensibilidad total:"
   ]
  },
  {
   "cell_type": "code",
   "execution_count": 69,
   "metadata": {
    "ExecuteTime": {
     "end_time": "2022-01-24T13:13:32.004020Z",
     "start_time": "2022-01-24T13:13:31.990022Z"
    },
    "execution": {
     "iopub.execute_input": "2023-07-17T23:13:46.051742Z",
     "iopub.status.busy": "2023-07-17T23:13:46.051678Z",
     "iopub.status.idle": "2023-07-17T23:13:46.053685Z",
     "shell.execute_reply": "2023-07-17T23:13:46.053414Z",
     "shell.execute_reply.started": "2023-07-17T23:13:46.051735Z"
    }
   },
   "outputs": [
    {
     "name": "stdout",
     "output_type": "stream",
     "text": [
      "Sensibilidad de descuento: 0 CLP\n"
     ]
    }
   ],
   "source": [
    "sens_disc = [d * bp for d in der]\n",
    "print(\"Sensibilidad de descuento: {0:,.0f} CLP\".format(sum(sens_disc)))"
   ]
  },
  {
   "cell_type": "markdown",
   "metadata": {},
   "source": [
    "La estructura es la misma que para una pata fija, lo que indica que se debe también incluir la sensibilidad a la curva de proyección."
   ]
  },
  {
   "cell_type": "code",
   "execution_count": 70,
   "metadata": {
    "ExecuteTime": {
     "end_time": "2022-01-24T13:13:32.020019Z",
     "start_time": "2022-01-24T13:13:32.005020Z"
    },
    "execution": {
     "iopub.execute_input": "2023-07-17T23:13:46.054085Z",
     "iopub.status.busy": "2023-07-17T23:13:46.054024Z",
     "iopub.status.idle": "2023-07-17T23:13:46.057196Z",
     "shell.execute_reply": "2023-07-17T23:13:46.056960Z",
     "shell.execute_reply.started": "2023-07-17T23:13:46.054079Z"
    }
   },
   "outputs": [
    {
     "name": "stdout",
     "output_type": "stream",
     "text": [
      "Sensibilidad en 0: 0\n",
      "Sensibilidad en 1: 0\n",
      "Sensibilidad en 2: 0\n",
      "Sensibilidad en 3: 0\n",
      "Sensibilidad en 4: 0\n",
      "Sensibilidad en 5: 74,757\n",
      "Sensibilidad en 6: 158,384\n",
      "Sensibilidad en 7: 0\n",
      "Sensibilidad en 8: 256,858\n",
      "Sensibilidad en 9: 130,015\n",
      "Sensibilidad en 10: 644,319\n",
      "Sensibilidad en 11: 327,485\n",
      "Sensibilidad en 12: 998,768\n",
      "Sensibilidad en 13: 518,033\n",
      "Sensibilidad en 14: 15,407,642\n",
      "Sensibilidad en 15: 7,831,157\n",
      "Sensibilidad en 16: 0\n",
      "Sensibilidad en 17: 0\n",
      "Sensibilidad en 18: 0\n",
      "Sensibilidad de proyección: 26,347,418 CLP\n"
     ]
    }
   ],
   "source": [
    "import numpy as np\n",
    "bp = .0001\n",
    "result = []\n",
    "for i in range(icp_clp2_leg.size()):\n",
    "    cshflw = icp_clp2_leg.get_cashflow_at(i)\n",
    "    amt_der = cshflw.get_amount_derivatives()\n",
    "    df = zz1.get_discount_factor_at(fecha_hoy.day_diff(cshflw.get_settlement_date()))\n",
    "    amt_der = [a * bp * df for a in amt_der]\n",
    "    if len(amt_der) > 0:\n",
    "        result.append(np.array(amt_der))\n",
    "total = result[0] * 0\n",
    "\n",
    "for r in result:\n",
    "    total += r\n",
    "\n",
    "for i in range(len(total)):\n",
    "    print(\"Sensibilidad en {0:}: {1:0,.0f}\".format(i, total[i]))\n",
    "\n",
    "print(\"Sensibilidad de proyección: {0:,.0f} CLP\".format(sum(total)))"
   ]
  },
  {
   "cell_type": "markdown",
   "metadata": {},
   "source": [
    "Como se espera de una pata ICPCLP (con lag de pago igual a 0 y spread igual a 0), ambas sensibilidades se cancelan."
   ]
  },
  {
   "cell_type": "markdown",
   "metadata": {},
   "source": [
    "#### Se verifica la sensibilidad de proyección por diferencias finitas:"
   ]
  },
  {
   "cell_type": "code",
   "execution_count": 71,
   "metadata": {
    "ExecuteTime": {
     "end_time": "2022-01-24T13:13:32.035021Z",
     "start_time": "2022-01-24T13:13:32.021021Z"
    },
    "execution": {
     "iopub.execute_input": "2023-07-17T23:13:46.057665Z",
     "iopub.status.busy": "2023-07-17T23:13:46.057571Z",
     "iopub.status.idle": "2023-07-17T23:13:46.059662Z",
     "shell.execute_reply": "2023-07-17T23:13:46.059430Z",
     "shell.execute_reply.started": "2023-07-17T23:13:46.057658Z"
    }
   },
   "outputs": [
    {
     "name": "stdout",
     "output_type": "stream",
     "text": [
      "Sensibilidad en vértice 13: 518,033 CLP\n"
     ]
    }
   ],
   "source": [
    "fwd_rates.set_rates_icp_clp_leg(fecha_hoy, icp_val, icp_clp2_leg, zz_sens_up)\n",
    "vp_icp_clp_up = pv.pv(fecha_hoy, icp_clp2_leg, zz1)\n",
    "\n",
    "fwd_rates.set_rates_icp_clp_leg(fecha_hoy, icp_val, icp_clp2_leg, zz_sens_down)\n",
    "vp_icp_clp_down = pv.pv(fecha_hoy, icp_clp2_leg, zz1)\n",
    "\n",
    "print(\"Sensibilidad en vértice {0:}: {1:,.0f} CLP\".format(\n",
    "    vertice, (vp_icp_clp_up - vp_icp_clp_down) / 2))"
   ]
  },
  {
   "cell_type": "markdown",
   "metadata": {},
   "source": [
    "### IborCashflow2 Leg"
   ]
  },
  {
   "cell_type": "code",
   "execution_count": 72,
   "metadata": {
    "ExecuteTime": {
     "end_time": "2022-01-24T13:13:32.051019Z",
     "start_time": "2022-01-24T13:13:32.036020Z"
    },
    "execution": {
     "iopub.execute_input": "2023-07-17T23:13:46.060239Z",
     "iopub.status.busy": "2023-07-17T23:13:46.060042Z",
     "iopub.status.idle": "2023-07-17T23:13:46.065963Z",
     "shell.execute_reply": "2023-07-17T23:13:46.065719Z",
     "shell.execute_reply.started": "2023-07-17T23:13:46.060230Z"
    }
   },
   "outputs": [],
   "source": [
    "### Se da de alta los parámetros requeridos\n",
    "rp = qcf.RecPay.RECEIVE\n",
    "fecha_inicio = qcf.QCDate(12, 11, 2019)\n",
    "fecha_final = qcf.QCDate(12, 11, 2029)\n",
    "bus_adj_rule = qcf.BusyAdjRules.MODFOLLOW\n",
    "periodicidad_pago = qcf.Tenor('3M')\n",
    "periodo_irregular_pago = qcf.StubPeriod.NO\n",
    "calendario = qcf.BusinessCalendar(fecha_inicio, 20)\n",
    "lag_pago = 0\n",
    "periodicidad_fijacion = qcf.Tenor('3M')\n",
    "periodo_irregular_fijacion = qcf.StubPeriod.NO\n",
    "\n",
    "# vamos a usar el mismo calendario para pago y fijaciones\n",
    "lag_de_fijacion = 2\n",
    "\n",
    "# Definición del índice\n",
    "codigo = 'LIBORUSD3M'\n",
    "lin_act360 = qcf.QCInterestRate(.0, qcf.QCAct360(), qcf.QCLinearWf())\n",
    "fixing_lag = qcf.Tenor('2d')\n",
    "tenor = qcf.Tenor('3m')\n",
    "fixing_calendar = calendario\n",
    "settlement_calendar = calendario\n",
    "usd = qcf.QCUSD()\n",
    "libor_usd_3m = qcf.InterestRateIndex(\n",
    "    codigo,\n",
    "    lin_act360,\n",
    "    fixing_lag,\n",
    "    tenor,\n",
    "    fixing_calendar,\n",
    "    settlement_calendar,\n",
    "    usd\n",
    ")\n",
    "# Fin índice\n",
    "\n",
    "nominal = 20_000_000.0\n",
    "amort_es_flujo = True\n",
    "moneda = usd\n",
    "spread = .0\n",
    "gearing = 1.0\n",
    "\n",
    "# Es la op 2879 en FD\n",
    "ibor_leg = qcf.LegFactory.build_bullet_ibor2_leg(\n",
    "    rp, \n",
    "    fecha_inicio, \n",
    "    fecha_final, \n",
    "    bus_adj_rule, \n",
    "    periodicidad_pago,\n",
    "    periodo_irregular_pago, \n",
    "    calendario, \n",
    "    lag_pago,\n",
    "    periodicidad_fijacion, \n",
    "    periodo_irregular_fijacion,\n",
    "    calendario, \n",
    "    lag_de_fijacion, \n",
    "    libor_usd_3m,\n",
    "    nominal, \n",
    "    amort_es_flujo, \n",
    "    moneda, \n",
    "    spread, \n",
    "    gearing\n",
    ")"
   ]
  },
  {
   "cell_type": "code",
   "execution_count": 73,
   "metadata": {
    "ExecuteTime": {
     "end_time": "2022-01-24T13:13:32.067020Z",
     "start_time": "2022-01-24T13:13:32.052020Z"
    },
    "execution": {
     "iopub.execute_input": "2023-07-17T23:13:46.066548Z",
     "iopub.status.busy": "2023-07-17T23:13:46.066372Z",
     "iopub.status.idle": "2023-07-17T23:13:46.076306Z",
     "shell.execute_reply": "2023-07-17T23:13:46.076066Z",
     "shell.execute_reply.started": "2023-07-17T23:13:46.066539Z"
    }
   },
   "outputs": [
    {
     "data": {
      "text/html": [
       "<style type=\"text/css\">\n",
       "</style>\n",
       "<table id=\"T_5e79f\">\n",
       "  <thead>\n",
       "    <tr>\n",
       "      <th class=\"blank level0\" >&nbsp;</th>\n",
       "      <th id=\"T_5e79f_level0_col0\" class=\"col_heading level0 col0\" >fecha_inicial</th>\n",
       "      <th id=\"T_5e79f_level0_col1\" class=\"col_heading level0 col1\" >fecha__final</th>\n",
       "      <th id=\"T_5e79f_level0_col2\" class=\"col_heading level0 col2\" >fecha_fixing</th>\n",
       "      <th id=\"T_5e79f_level0_col3\" class=\"col_heading level0 col3\" >fecha__pago</th>\n",
       "      <th id=\"T_5e79f_level0_col4\" class=\"col_heading level0 col4\" >nominal</th>\n",
       "      <th id=\"T_5e79f_level0_col5\" class=\"col_heading level0 col5\" >amort</th>\n",
       "      <th id=\"T_5e79f_level0_col6\" class=\"col_heading level0 col6\" >interes</th>\n",
       "      <th id=\"T_5e79f_level0_col7\" class=\"col_heading level0 col7\" >amort_es_flujo</th>\n",
       "      <th id=\"T_5e79f_level0_col8\" class=\"col_heading level0 col8\" >flujo</th>\n",
       "      <th id=\"T_5e79f_level0_col9\" class=\"col_heading level0 col9\" >moneda</th>\n",
       "      <th id=\"T_5e79f_level0_col10\" class=\"col_heading level0 col10\" >codigo_indice</th>\n",
       "      <th id=\"T_5e79f_level0_col11\" class=\"col_heading level0 col11\" >valor_tasa</th>\n",
       "      <th id=\"T_5e79f_level0_col12\" class=\"col_heading level0 col12\" >spread</th>\n",
       "      <th id=\"T_5e79f_level0_col13\" class=\"col_heading level0 col13\" >gearing</th>\n",
       "      <th id=\"T_5e79f_level0_col14\" class=\"col_heading level0 col14\" >tipo_tasa</th>\n",
       "    </tr>\n",
       "  </thead>\n",
       "  <tbody>\n",
       "    <tr>\n",
       "      <th id=\"T_5e79f_level0_row0\" class=\"row_heading level0 row0\" >0</th>\n",
       "      <td id=\"T_5e79f_row0_col0\" class=\"data row0 col0\" >2019-11-12</td>\n",
       "      <td id=\"T_5e79f_row0_col1\" class=\"data row0 col1\" >2020-02-12</td>\n",
       "      <td id=\"T_5e79f_row0_col2\" class=\"data row0 col2\" >2019-11-08</td>\n",
       "      <td id=\"T_5e79f_row0_col3\" class=\"data row0 col3\" >2020-02-12</td>\n",
       "      <td id=\"T_5e79f_row0_col4\" class=\"data row0 col4\" >20,000,000.00</td>\n",
       "      <td id=\"T_5e79f_row0_col5\" class=\"data row0 col5\" >0.00</td>\n",
       "      <td id=\"T_5e79f_row0_col6\" class=\"data row0 col6\" >0.00</td>\n",
       "      <td id=\"T_5e79f_row0_col7\" class=\"data row0 col7\" >True</td>\n",
       "      <td id=\"T_5e79f_row0_col8\" class=\"data row0 col8\" >0.00</td>\n",
       "      <td id=\"T_5e79f_row0_col9\" class=\"data row0 col9\" >USD</td>\n",
       "      <td id=\"T_5e79f_row0_col10\" class=\"data row0 col10\" >LIBORUSD3M</td>\n",
       "      <td id=\"T_5e79f_row0_col11\" class=\"data row0 col11\" >0.0000%</td>\n",
       "      <td id=\"T_5e79f_row0_col12\" class=\"data row0 col12\" >0.0000%</td>\n",
       "      <td id=\"T_5e79f_row0_col13\" class=\"data row0 col13\" >1.00</td>\n",
       "      <td id=\"T_5e79f_row0_col14\" class=\"data row0 col14\" >LinAct360</td>\n",
       "    </tr>\n",
       "    <tr>\n",
       "      <th id=\"T_5e79f_level0_row1\" class=\"row_heading level0 row1\" >1</th>\n",
       "      <td id=\"T_5e79f_row1_col0\" class=\"data row1 col0\" >2020-02-12</td>\n",
       "      <td id=\"T_5e79f_row1_col1\" class=\"data row1 col1\" >2020-05-12</td>\n",
       "      <td id=\"T_5e79f_row1_col2\" class=\"data row1 col2\" >2020-02-10</td>\n",
       "      <td id=\"T_5e79f_row1_col3\" class=\"data row1 col3\" >2020-05-12</td>\n",
       "      <td id=\"T_5e79f_row1_col4\" class=\"data row1 col4\" >20,000,000.00</td>\n",
       "      <td id=\"T_5e79f_row1_col5\" class=\"data row1 col5\" >0.00</td>\n",
       "      <td id=\"T_5e79f_row1_col6\" class=\"data row1 col6\" >0.00</td>\n",
       "      <td id=\"T_5e79f_row1_col7\" class=\"data row1 col7\" >True</td>\n",
       "      <td id=\"T_5e79f_row1_col8\" class=\"data row1 col8\" >0.00</td>\n",
       "      <td id=\"T_5e79f_row1_col9\" class=\"data row1 col9\" >USD</td>\n",
       "      <td id=\"T_5e79f_row1_col10\" class=\"data row1 col10\" >LIBORUSD3M</td>\n",
       "      <td id=\"T_5e79f_row1_col11\" class=\"data row1 col11\" >0.0000%</td>\n",
       "      <td id=\"T_5e79f_row1_col12\" class=\"data row1 col12\" >0.0000%</td>\n",
       "      <td id=\"T_5e79f_row1_col13\" class=\"data row1 col13\" >1.00</td>\n",
       "      <td id=\"T_5e79f_row1_col14\" class=\"data row1 col14\" >LinAct360</td>\n",
       "    </tr>\n",
       "    <tr>\n",
       "      <th id=\"T_5e79f_level0_row2\" class=\"row_heading level0 row2\" >2</th>\n",
       "      <td id=\"T_5e79f_row2_col0\" class=\"data row2 col0\" >2020-05-12</td>\n",
       "      <td id=\"T_5e79f_row2_col1\" class=\"data row2 col1\" >2020-08-12</td>\n",
       "      <td id=\"T_5e79f_row2_col2\" class=\"data row2 col2\" >2020-05-08</td>\n",
       "      <td id=\"T_5e79f_row2_col3\" class=\"data row2 col3\" >2020-08-12</td>\n",
       "      <td id=\"T_5e79f_row2_col4\" class=\"data row2 col4\" >20,000,000.00</td>\n",
       "      <td id=\"T_5e79f_row2_col5\" class=\"data row2 col5\" >0.00</td>\n",
       "      <td id=\"T_5e79f_row2_col6\" class=\"data row2 col6\" >0.00</td>\n",
       "      <td id=\"T_5e79f_row2_col7\" class=\"data row2 col7\" >True</td>\n",
       "      <td id=\"T_5e79f_row2_col8\" class=\"data row2 col8\" >0.00</td>\n",
       "      <td id=\"T_5e79f_row2_col9\" class=\"data row2 col9\" >USD</td>\n",
       "      <td id=\"T_5e79f_row2_col10\" class=\"data row2 col10\" >LIBORUSD3M</td>\n",
       "      <td id=\"T_5e79f_row2_col11\" class=\"data row2 col11\" >0.0000%</td>\n",
       "      <td id=\"T_5e79f_row2_col12\" class=\"data row2 col12\" >0.0000%</td>\n",
       "      <td id=\"T_5e79f_row2_col13\" class=\"data row2 col13\" >1.00</td>\n",
       "      <td id=\"T_5e79f_row2_col14\" class=\"data row2 col14\" >LinAct360</td>\n",
       "    </tr>\n",
       "    <tr>\n",
       "      <th id=\"T_5e79f_level0_row3\" class=\"row_heading level0 row3\" >3</th>\n",
       "      <td id=\"T_5e79f_row3_col0\" class=\"data row3 col0\" >2020-08-12</td>\n",
       "      <td id=\"T_5e79f_row3_col1\" class=\"data row3 col1\" >2020-11-12</td>\n",
       "      <td id=\"T_5e79f_row3_col2\" class=\"data row3 col2\" >2020-08-10</td>\n",
       "      <td id=\"T_5e79f_row3_col3\" class=\"data row3 col3\" >2020-11-12</td>\n",
       "      <td id=\"T_5e79f_row3_col4\" class=\"data row3 col4\" >20,000,000.00</td>\n",
       "      <td id=\"T_5e79f_row3_col5\" class=\"data row3 col5\" >0.00</td>\n",
       "      <td id=\"T_5e79f_row3_col6\" class=\"data row3 col6\" >0.00</td>\n",
       "      <td id=\"T_5e79f_row3_col7\" class=\"data row3 col7\" >True</td>\n",
       "      <td id=\"T_5e79f_row3_col8\" class=\"data row3 col8\" >0.00</td>\n",
       "      <td id=\"T_5e79f_row3_col9\" class=\"data row3 col9\" >USD</td>\n",
       "      <td id=\"T_5e79f_row3_col10\" class=\"data row3 col10\" >LIBORUSD3M</td>\n",
       "      <td id=\"T_5e79f_row3_col11\" class=\"data row3 col11\" >0.0000%</td>\n",
       "      <td id=\"T_5e79f_row3_col12\" class=\"data row3 col12\" >0.0000%</td>\n",
       "      <td id=\"T_5e79f_row3_col13\" class=\"data row3 col13\" >1.00</td>\n",
       "      <td id=\"T_5e79f_row3_col14\" class=\"data row3 col14\" >LinAct360</td>\n",
       "    </tr>\n",
       "    <tr>\n",
       "      <th id=\"T_5e79f_level0_row4\" class=\"row_heading level0 row4\" >4</th>\n",
       "      <td id=\"T_5e79f_row4_col0\" class=\"data row4 col0\" >2020-11-12</td>\n",
       "      <td id=\"T_5e79f_row4_col1\" class=\"data row4 col1\" >2021-02-12</td>\n",
       "      <td id=\"T_5e79f_row4_col2\" class=\"data row4 col2\" >2020-11-10</td>\n",
       "      <td id=\"T_5e79f_row4_col3\" class=\"data row4 col3\" >2021-02-12</td>\n",
       "      <td id=\"T_5e79f_row4_col4\" class=\"data row4 col4\" >20,000,000.00</td>\n",
       "      <td id=\"T_5e79f_row4_col5\" class=\"data row4 col5\" >0.00</td>\n",
       "      <td id=\"T_5e79f_row4_col6\" class=\"data row4 col6\" >0.00</td>\n",
       "      <td id=\"T_5e79f_row4_col7\" class=\"data row4 col7\" >True</td>\n",
       "      <td id=\"T_5e79f_row4_col8\" class=\"data row4 col8\" >0.00</td>\n",
       "      <td id=\"T_5e79f_row4_col9\" class=\"data row4 col9\" >USD</td>\n",
       "      <td id=\"T_5e79f_row4_col10\" class=\"data row4 col10\" >LIBORUSD3M</td>\n",
       "      <td id=\"T_5e79f_row4_col11\" class=\"data row4 col11\" >0.0000%</td>\n",
       "      <td id=\"T_5e79f_row4_col12\" class=\"data row4 col12\" >0.0000%</td>\n",
       "      <td id=\"T_5e79f_row4_col13\" class=\"data row4 col13\" >1.00</td>\n",
       "      <td id=\"T_5e79f_row4_col14\" class=\"data row4 col14\" >LinAct360</td>\n",
       "    </tr>\n",
       "    <tr>\n",
       "      <th id=\"T_5e79f_level0_row5\" class=\"row_heading level0 row5\" >5</th>\n",
       "      <td id=\"T_5e79f_row5_col0\" class=\"data row5 col0\" >2021-02-12</td>\n",
       "      <td id=\"T_5e79f_row5_col1\" class=\"data row5 col1\" >2021-05-12</td>\n",
       "      <td id=\"T_5e79f_row5_col2\" class=\"data row5 col2\" >2021-02-10</td>\n",
       "      <td id=\"T_5e79f_row5_col3\" class=\"data row5 col3\" >2021-05-12</td>\n",
       "      <td id=\"T_5e79f_row5_col4\" class=\"data row5 col4\" >20,000,000.00</td>\n",
       "      <td id=\"T_5e79f_row5_col5\" class=\"data row5 col5\" >0.00</td>\n",
       "      <td id=\"T_5e79f_row5_col6\" class=\"data row5 col6\" >0.00</td>\n",
       "      <td id=\"T_5e79f_row5_col7\" class=\"data row5 col7\" >True</td>\n",
       "      <td id=\"T_5e79f_row5_col8\" class=\"data row5 col8\" >0.00</td>\n",
       "      <td id=\"T_5e79f_row5_col9\" class=\"data row5 col9\" >USD</td>\n",
       "      <td id=\"T_5e79f_row5_col10\" class=\"data row5 col10\" >LIBORUSD3M</td>\n",
       "      <td id=\"T_5e79f_row5_col11\" class=\"data row5 col11\" >0.0000%</td>\n",
       "      <td id=\"T_5e79f_row5_col12\" class=\"data row5 col12\" >0.0000%</td>\n",
       "      <td id=\"T_5e79f_row5_col13\" class=\"data row5 col13\" >1.00</td>\n",
       "      <td id=\"T_5e79f_row5_col14\" class=\"data row5 col14\" >LinAct360</td>\n",
       "    </tr>\n",
       "    <tr>\n",
       "      <th id=\"T_5e79f_level0_row6\" class=\"row_heading level0 row6\" >6</th>\n",
       "      <td id=\"T_5e79f_row6_col0\" class=\"data row6 col0\" >2021-05-12</td>\n",
       "      <td id=\"T_5e79f_row6_col1\" class=\"data row6 col1\" >2021-08-12</td>\n",
       "      <td id=\"T_5e79f_row6_col2\" class=\"data row6 col2\" >2021-05-10</td>\n",
       "      <td id=\"T_5e79f_row6_col3\" class=\"data row6 col3\" >2021-08-12</td>\n",
       "      <td id=\"T_5e79f_row6_col4\" class=\"data row6 col4\" >20,000,000.00</td>\n",
       "      <td id=\"T_5e79f_row6_col5\" class=\"data row6 col5\" >0.00</td>\n",
       "      <td id=\"T_5e79f_row6_col6\" class=\"data row6 col6\" >0.00</td>\n",
       "      <td id=\"T_5e79f_row6_col7\" class=\"data row6 col7\" >True</td>\n",
       "      <td id=\"T_5e79f_row6_col8\" class=\"data row6 col8\" >0.00</td>\n",
       "      <td id=\"T_5e79f_row6_col9\" class=\"data row6 col9\" >USD</td>\n",
       "      <td id=\"T_5e79f_row6_col10\" class=\"data row6 col10\" >LIBORUSD3M</td>\n",
       "      <td id=\"T_5e79f_row6_col11\" class=\"data row6 col11\" >0.0000%</td>\n",
       "      <td id=\"T_5e79f_row6_col12\" class=\"data row6 col12\" >0.0000%</td>\n",
       "      <td id=\"T_5e79f_row6_col13\" class=\"data row6 col13\" >1.00</td>\n",
       "      <td id=\"T_5e79f_row6_col14\" class=\"data row6 col14\" >LinAct360</td>\n",
       "    </tr>\n",
       "    <tr>\n",
       "      <th id=\"T_5e79f_level0_row7\" class=\"row_heading level0 row7\" >7</th>\n",
       "      <td id=\"T_5e79f_row7_col0\" class=\"data row7 col0\" >2021-08-12</td>\n",
       "      <td id=\"T_5e79f_row7_col1\" class=\"data row7 col1\" >2021-11-12</td>\n",
       "      <td id=\"T_5e79f_row7_col2\" class=\"data row7 col2\" >2021-08-10</td>\n",
       "      <td id=\"T_5e79f_row7_col3\" class=\"data row7 col3\" >2021-11-12</td>\n",
       "      <td id=\"T_5e79f_row7_col4\" class=\"data row7 col4\" >20,000,000.00</td>\n",
       "      <td id=\"T_5e79f_row7_col5\" class=\"data row7 col5\" >0.00</td>\n",
       "      <td id=\"T_5e79f_row7_col6\" class=\"data row7 col6\" >0.00</td>\n",
       "      <td id=\"T_5e79f_row7_col7\" class=\"data row7 col7\" >True</td>\n",
       "      <td id=\"T_5e79f_row7_col8\" class=\"data row7 col8\" >0.00</td>\n",
       "      <td id=\"T_5e79f_row7_col9\" class=\"data row7 col9\" >USD</td>\n",
       "      <td id=\"T_5e79f_row7_col10\" class=\"data row7 col10\" >LIBORUSD3M</td>\n",
       "      <td id=\"T_5e79f_row7_col11\" class=\"data row7 col11\" >0.0000%</td>\n",
       "      <td id=\"T_5e79f_row7_col12\" class=\"data row7 col12\" >0.0000%</td>\n",
       "      <td id=\"T_5e79f_row7_col13\" class=\"data row7 col13\" >1.00</td>\n",
       "      <td id=\"T_5e79f_row7_col14\" class=\"data row7 col14\" >LinAct360</td>\n",
       "    </tr>\n",
       "    <tr>\n",
       "      <th id=\"T_5e79f_level0_row8\" class=\"row_heading level0 row8\" >8</th>\n",
       "      <td id=\"T_5e79f_row8_col0\" class=\"data row8 col0\" >2021-11-12</td>\n",
       "      <td id=\"T_5e79f_row8_col1\" class=\"data row8 col1\" >2022-02-14</td>\n",
       "      <td id=\"T_5e79f_row8_col2\" class=\"data row8 col2\" >2021-11-10</td>\n",
       "      <td id=\"T_5e79f_row8_col3\" class=\"data row8 col3\" >2022-02-14</td>\n",
       "      <td id=\"T_5e79f_row8_col4\" class=\"data row8 col4\" >20,000,000.00</td>\n",
       "      <td id=\"T_5e79f_row8_col5\" class=\"data row8 col5\" >0.00</td>\n",
       "      <td id=\"T_5e79f_row8_col6\" class=\"data row8 col6\" >0.00</td>\n",
       "      <td id=\"T_5e79f_row8_col7\" class=\"data row8 col7\" >True</td>\n",
       "      <td id=\"T_5e79f_row8_col8\" class=\"data row8 col8\" >0.00</td>\n",
       "      <td id=\"T_5e79f_row8_col9\" class=\"data row8 col9\" >USD</td>\n",
       "      <td id=\"T_5e79f_row8_col10\" class=\"data row8 col10\" >LIBORUSD3M</td>\n",
       "      <td id=\"T_5e79f_row8_col11\" class=\"data row8 col11\" >0.0000%</td>\n",
       "      <td id=\"T_5e79f_row8_col12\" class=\"data row8 col12\" >0.0000%</td>\n",
       "      <td id=\"T_5e79f_row8_col13\" class=\"data row8 col13\" >1.00</td>\n",
       "      <td id=\"T_5e79f_row8_col14\" class=\"data row8 col14\" >LinAct360</td>\n",
       "    </tr>\n",
       "    <tr>\n",
       "      <th id=\"T_5e79f_level0_row9\" class=\"row_heading level0 row9\" >9</th>\n",
       "      <td id=\"T_5e79f_row9_col0\" class=\"data row9 col0\" >2022-02-14</td>\n",
       "      <td id=\"T_5e79f_row9_col1\" class=\"data row9 col1\" >2022-05-12</td>\n",
       "      <td id=\"T_5e79f_row9_col2\" class=\"data row9 col2\" >2022-02-10</td>\n",
       "      <td id=\"T_5e79f_row9_col3\" class=\"data row9 col3\" >2022-05-12</td>\n",
       "      <td id=\"T_5e79f_row9_col4\" class=\"data row9 col4\" >20,000,000.00</td>\n",
       "      <td id=\"T_5e79f_row9_col5\" class=\"data row9 col5\" >0.00</td>\n",
       "      <td id=\"T_5e79f_row9_col6\" class=\"data row9 col6\" >0.00</td>\n",
       "      <td id=\"T_5e79f_row9_col7\" class=\"data row9 col7\" >True</td>\n",
       "      <td id=\"T_5e79f_row9_col8\" class=\"data row9 col8\" >0.00</td>\n",
       "      <td id=\"T_5e79f_row9_col9\" class=\"data row9 col9\" >USD</td>\n",
       "      <td id=\"T_5e79f_row9_col10\" class=\"data row9 col10\" >LIBORUSD3M</td>\n",
       "      <td id=\"T_5e79f_row9_col11\" class=\"data row9 col11\" >0.0000%</td>\n",
       "      <td id=\"T_5e79f_row9_col12\" class=\"data row9 col12\" >0.0000%</td>\n",
       "      <td id=\"T_5e79f_row9_col13\" class=\"data row9 col13\" >1.00</td>\n",
       "      <td id=\"T_5e79f_row9_col14\" class=\"data row9 col14\" >LinAct360</td>\n",
       "    </tr>\n",
       "    <tr>\n",
       "      <th id=\"T_5e79f_level0_row10\" class=\"row_heading level0 row10\" >10</th>\n",
       "      <td id=\"T_5e79f_row10_col0\" class=\"data row10 col0\" >2022-05-12</td>\n",
       "      <td id=\"T_5e79f_row10_col1\" class=\"data row10 col1\" >2022-08-12</td>\n",
       "      <td id=\"T_5e79f_row10_col2\" class=\"data row10 col2\" >2022-05-10</td>\n",
       "      <td id=\"T_5e79f_row10_col3\" class=\"data row10 col3\" >2022-08-12</td>\n",
       "      <td id=\"T_5e79f_row10_col4\" class=\"data row10 col4\" >20,000,000.00</td>\n",
       "      <td id=\"T_5e79f_row10_col5\" class=\"data row10 col5\" >0.00</td>\n",
       "      <td id=\"T_5e79f_row10_col6\" class=\"data row10 col6\" >0.00</td>\n",
       "      <td id=\"T_5e79f_row10_col7\" class=\"data row10 col7\" >True</td>\n",
       "      <td id=\"T_5e79f_row10_col8\" class=\"data row10 col8\" >0.00</td>\n",
       "      <td id=\"T_5e79f_row10_col9\" class=\"data row10 col9\" >USD</td>\n",
       "      <td id=\"T_5e79f_row10_col10\" class=\"data row10 col10\" >LIBORUSD3M</td>\n",
       "      <td id=\"T_5e79f_row10_col11\" class=\"data row10 col11\" >0.0000%</td>\n",
       "      <td id=\"T_5e79f_row10_col12\" class=\"data row10 col12\" >0.0000%</td>\n",
       "      <td id=\"T_5e79f_row10_col13\" class=\"data row10 col13\" >1.00</td>\n",
       "      <td id=\"T_5e79f_row10_col14\" class=\"data row10 col14\" >LinAct360</td>\n",
       "    </tr>\n",
       "    <tr>\n",
       "      <th id=\"T_5e79f_level0_row11\" class=\"row_heading level0 row11\" >11</th>\n",
       "      <td id=\"T_5e79f_row11_col0\" class=\"data row11 col0\" >2022-08-12</td>\n",
       "      <td id=\"T_5e79f_row11_col1\" class=\"data row11 col1\" >2022-11-14</td>\n",
       "      <td id=\"T_5e79f_row11_col2\" class=\"data row11 col2\" >2022-08-10</td>\n",
       "      <td id=\"T_5e79f_row11_col3\" class=\"data row11 col3\" >2022-11-14</td>\n",
       "      <td id=\"T_5e79f_row11_col4\" class=\"data row11 col4\" >20,000,000.00</td>\n",
       "      <td id=\"T_5e79f_row11_col5\" class=\"data row11 col5\" >0.00</td>\n",
       "      <td id=\"T_5e79f_row11_col6\" class=\"data row11 col6\" >0.00</td>\n",
       "      <td id=\"T_5e79f_row11_col7\" class=\"data row11 col7\" >True</td>\n",
       "      <td id=\"T_5e79f_row11_col8\" class=\"data row11 col8\" >0.00</td>\n",
       "      <td id=\"T_5e79f_row11_col9\" class=\"data row11 col9\" >USD</td>\n",
       "      <td id=\"T_5e79f_row11_col10\" class=\"data row11 col10\" >LIBORUSD3M</td>\n",
       "      <td id=\"T_5e79f_row11_col11\" class=\"data row11 col11\" >0.0000%</td>\n",
       "      <td id=\"T_5e79f_row11_col12\" class=\"data row11 col12\" >0.0000%</td>\n",
       "      <td id=\"T_5e79f_row11_col13\" class=\"data row11 col13\" >1.00</td>\n",
       "      <td id=\"T_5e79f_row11_col14\" class=\"data row11 col14\" >LinAct360</td>\n",
       "    </tr>\n",
       "    <tr>\n",
       "      <th id=\"T_5e79f_level0_row12\" class=\"row_heading level0 row12\" >12</th>\n",
       "      <td id=\"T_5e79f_row12_col0\" class=\"data row12 col0\" >2022-11-14</td>\n",
       "      <td id=\"T_5e79f_row12_col1\" class=\"data row12 col1\" >2023-02-13</td>\n",
       "      <td id=\"T_5e79f_row12_col2\" class=\"data row12 col2\" >2022-11-10</td>\n",
       "      <td id=\"T_5e79f_row12_col3\" class=\"data row12 col3\" >2023-02-13</td>\n",
       "      <td id=\"T_5e79f_row12_col4\" class=\"data row12 col4\" >20,000,000.00</td>\n",
       "      <td id=\"T_5e79f_row12_col5\" class=\"data row12 col5\" >0.00</td>\n",
       "      <td id=\"T_5e79f_row12_col6\" class=\"data row12 col6\" >0.00</td>\n",
       "      <td id=\"T_5e79f_row12_col7\" class=\"data row12 col7\" >True</td>\n",
       "      <td id=\"T_5e79f_row12_col8\" class=\"data row12 col8\" >0.00</td>\n",
       "      <td id=\"T_5e79f_row12_col9\" class=\"data row12 col9\" >USD</td>\n",
       "      <td id=\"T_5e79f_row12_col10\" class=\"data row12 col10\" >LIBORUSD3M</td>\n",
       "      <td id=\"T_5e79f_row12_col11\" class=\"data row12 col11\" >0.0000%</td>\n",
       "      <td id=\"T_5e79f_row12_col12\" class=\"data row12 col12\" >0.0000%</td>\n",
       "      <td id=\"T_5e79f_row12_col13\" class=\"data row12 col13\" >1.00</td>\n",
       "      <td id=\"T_5e79f_row12_col14\" class=\"data row12 col14\" >LinAct360</td>\n",
       "    </tr>\n",
       "    <tr>\n",
       "      <th id=\"T_5e79f_level0_row13\" class=\"row_heading level0 row13\" >13</th>\n",
       "      <td id=\"T_5e79f_row13_col0\" class=\"data row13 col0\" >2023-02-13</td>\n",
       "      <td id=\"T_5e79f_row13_col1\" class=\"data row13 col1\" >2023-05-12</td>\n",
       "      <td id=\"T_5e79f_row13_col2\" class=\"data row13 col2\" >2023-02-09</td>\n",
       "      <td id=\"T_5e79f_row13_col3\" class=\"data row13 col3\" >2023-05-12</td>\n",
       "      <td id=\"T_5e79f_row13_col4\" class=\"data row13 col4\" >20,000,000.00</td>\n",
       "      <td id=\"T_5e79f_row13_col5\" class=\"data row13 col5\" >0.00</td>\n",
       "      <td id=\"T_5e79f_row13_col6\" class=\"data row13 col6\" >0.00</td>\n",
       "      <td id=\"T_5e79f_row13_col7\" class=\"data row13 col7\" >True</td>\n",
       "      <td id=\"T_5e79f_row13_col8\" class=\"data row13 col8\" >0.00</td>\n",
       "      <td id=\"T_5e79f_row13_col9\" class=\"data row13 col9\" >USD</td>\n",
       "      <td id=\"T_5e79f_row13_col10\" class=\"data row13 col10\" >LIBORUSD3M</td>\n",
       "      <td id=\"T_5e79f_row13_col11\" class=\"data row13 col11\" >0.0000%</td>\n",
       "      <td id=\"T_5e79f_row13_col12\" class=\"data row13 col12\" >0.0000%</td>\n",
       "      <td id=\"T_5e79f_row13_col13\" class=\"data row13 col13\" >1.00</td>\n",
       "      <td id=\"T_5e79f_row13_col14\" class=\"data row13 col14\" >LinAct360</td>\n",
       "    </tr>\n",
       "    <tr>\n",
       "      <th id=\"T_5e79f_level0_row14\" class=\"row_heading level0 row14\" >14</th>\n",
       "      <td id=\"T_5e79f_row14_col0\" class=\"data row14 col0\" >2023-05-12</td>\n",
       "      <td id=\"T_5e79f_row14_col1\" class=\"data row14 col1\" >2023-08-14</td>\n",
       "      <td id=\"T_5e79f_row14_col2\" class=\"data row14 col2\" >2023-05-10</td>\n",
       "      <td id=\"T_5e79f_row14_col3\" class=\"data row14 col3\" >2023-08-14</td>\n",
       "      <td id=\"T_5e79f_row14_col4\" class=\"data row14 col4\" >20,000,000.00</td>\n",
       "      <td id=\"T_5e79f_row14_col5\" class=\"data row14 col5\" >0.00</td>\n",
       "      <td id=\"T_5e79f_row14_col6\" class=\"data row14 col6\" >0.00</td>\n",
       "      <td id=\"T_5e79f_row14_col7\" class=\"data row14 col7\" >True</td>\n",
       "      <td id=\"T_5e79f_row14_col8\" class=\"data row14 col8\" >0.00</td>\n",
       "      <td id=\"T_5e79f_row14_col9\" class=\"data row14 col9\" >USD</td>\n",
       "      <td id=\"T_5e79f_row14_col10\" class=\"data row14 col10\" >LIBORUSD3M</td>\n",
       "      <td id=\"T_5e79f_row14_col11\" class=\"data row14 col11\" >0.0000%</td>\n",
       "      <td id=\"T_5e79f_row14_col12\" class=\"data row14 col12\" >0.0000%</td>\n",
       "      <td id=\"T_5e79f_row14_col13\" class=\"data row14 col13\" >1.00</td>\n",
       "      <td id=\"T_5e79f_row14_col14\" class=\"data row14 col14\" >LinAct360</td>\n",
       "    </tr>\n",
       "    <tr>\n",
       "      <th id=\"T_5e79f_level0_row15\" class=\"row_heading level0 row15\" >15</th>\n",
       "      <td id=\"T_5e79f_row15_col0\" class=\"data row15 col0\" >2023-08-14</td>\n",
       "      <td id=\"T_5e79f_row15_col1\" class=\"data row15 col1\" >2023-11-13</td>\n",
       "      <td id=\"T_5e79f_row15_col2\" class=\"data row15 col2\" >2023-08-10</td>\n",
       "      <td id=\"T_5e79f_row15_col3\" class=\"data row15 col3\" >2023-11-13</td>\n",
       "      <td id=\"T_5e79f_row15_col4\" class=\"data row15 col4\" >20,000,000.00</td>\n",
       "      <td id=\"T_5e79f_row15_col5\" class=\"data row15 col5\" >0.00</td>\n",
       "      <td id=\"T_5e79f_row15_col6\" class=\"data row15 col6\" >0.00</td>\n",
       "      <td id=\"T_5e79f_row15_col7\" class=\"data row15 col7\" >True</td>\n",
       "      <td id=\"T_5e79f_row15_col8\" class=\"data row15 col8\" >0.00</td>\n",
       "      <td id=\"T_5e79f_row15_col9\" class=\"data row15 col9\" >USD</td>\n",
       "      <td id=\"T_5e79f_row15_col10\" class=\"data row15 col10\" >LIBORUSD3M</td>\n",
       "      <td id=\"T_5e79f_row15_col11\" class=\"data row15 col11\" >0.0000%</td>\n",
       "      <td id=\"T_5e79f_row15_col12\" class=\"data row15 col12\" >0.0000%</td>\n",
       "      <td id=\"T_5e79f_row15_col13\" class=\"data row15 col13\" >1.00</td>\n",
       "      <td id=\"T_5e79f_row15_col14\" class=\"data row15 col14\" >LinAct360</td>\n",
       "    </tr>\n",
       "    <tr>\n",
       "      <th id=\"T_5e79f_level0_row16\" class=\"row_heading level0 row16\" >16</th>\n",
       "      <td id=\"T_5e79f_row16_col0\" class=\"data row16 col0\" >2023-11-13</td>\n",
       "      <td id=\"T_5e79f_row16_col1\" class=\"data row16 col1\" >2024-02-12</td>\n",
       "      <td id=\"T_5e79f_row16_col2\" class=\"data row16 col2\" >2023-11-09</td>\n",
       "      <td id=\"T_5e79f_row16_col3\" class=\"data row16 col3\" >2024-02-12</td>\n",
       "      <td id=\"T_5e79f_row16_col4\" class=\"data row16 col4\" >20,000,000.00</td>\n",
       "      <td id=\"T_5e79f_row16_col5\" class=\"data row16 col5\" >0.00</td>\n",
       "      <td id=\"T_5e79f_row16_col6\" class=\"data row16 col6\" >0.00</td>\n",
       "      <td id=\"T_5e79f_row16_col7\" class=\"data row16 col7\" >True</td>\n",
       "      <td id=\"T_5e79f_row16_col8\" class=\"data row16 col8\" >0.00</td>\n",
       "      <td id=\"T_5e79f_row16_col9\" class=\"data row16 col9\" >USD</td>\n",
       "      <td id=\"T_5e79f_row16_col10\" class=\"data row16 col10\" >LIBORUSD3M</td>\n",
       "      <td id=\"T_5e79f_row16_col11\" class=\"data row16 col11\" >0.0000%</td>\n",
       "      <td id=\"T_5e79f_row16_col12\" class=\"data row16 col12\" >0.0000%</td>\n",
       "      <td id=\"T_5e79f_row16_col13\" class=\"data row16 col13\" >1.00</td>\n",
       "      <td id=\"T_5e79f_row16_col14\" class=\"data row16 col14\" >LinAct360</td>\n",
       "    </tr>\n",
       "    <tr>\n",
       "      <th id=\"T_5e79f_level0_row17\" class=\"row_heading level0 row17\" >17</th>\n",
       "      <td id=\"T_5e79f_row17_col0\" class=\"data row17 col0\" >2024-02-12</td>\n",
       "      <td id=\"T_5e79f_row17_col1\" class=\"data row17 col1\" >2024-05-13</td>\n",
       "      <td id=\"T_5e79f_row17_col2\" class=\"data row17 col2\" >2024-02-08</td>\n",
       "      <td id=\"T_5e79f_row17_col3\" class=\"data row17 col3\" >2024-05-13</td>\n",
       "      <td id=\"T_5e79f_row17_col4\" class=\"data row17 col4\" >20,000,000.00</td>\n",
       "      <td id=\"T_5e79f_row17_col5\" class=\"data row17 col5\" >0.00</td>\n",
       "      <td id=\"T_5e79f_row17_col6\" class=\"data row17 col6\" >0.00</td>\n",
       "      <td id=\"T_5e79f_row17_col7\" class=\"data row17 col7\" >True</td>\n",
       "      <td id=\"T_5e79f_row17_col8\" class=\"data row17 col8\" >0.00</td>\n",
       "      <td id=\"T_5e79f_row17_col9\" class=\"data row17 col9\" >USD</td>\n",
       "      <td id=\"T_5e79f_row17_col10\" class=\"data row17 col10\" >LIBORUSD3M</td>\n",
       "      <td id=\"T_5e79f_row17_col11\" class=\"data row17 col11\" >0.0000%</td>\n",
       "      <td id=\"T_5e79f_row17_col12\" class=\"data row17 col12\" >0.0000%</td>\n",
       "      <td id=\"T_5e79f_row17_col13\" class=\"data row17 col13\" >1.00</td>\n",
       "      <td id=\"T_5e79f_row17_col14\" class=\"data row17 col14\" >LinAct360</td>\n",
       "    </tr>\n",
       "    <tr>\n",
       "      <th id=\"T_5e79f_level0_row18\" class=\"row_heading level0 row18\" >18</th>\n",
       "      <td id=\"T_5e79f_row18_col0\" class=\"data row18 col0\" >2024-05-13</td>\n",
       "      <td id=\"T_5e79f_row18_col1\" class=\"data row18 col1\" >2024-08-12</td>\n",
       "      <td id=\"T_5e79f_row18_col2\" class=\"data row18 col2\" >2024-05-09</td>\n",
       "      <td id=\"T_5e79f_row18_col3\" class=\"data row18 col3\" >2024-08-12</td>\n",
       "      <td id=\"T_5e79f_row18_col4\" class=\"data row18 col4\" >20,000,000.00</td>\n",
       "      <td id=\"T_5e79f_row18_col5\" class=\"data row18 col5\" >0.00</td>\n",
       "      <td id=\"T_5e79f_row18_col6\" class=\"data row18 col6\" >0.00</td>\n",
       "      <td id=\"T_5e79f_row18_col7\" class=\"data row18 col7\" >True</td>\n",
       "      <td id=\"T_5e79f_row18_col8\" class=\"data row18 col8\" >0.00</td>\n",
       "      <td id=\"T_5e79f_row18_col9\" class=\"data row18 col9\" >USD</td>\n",
       "      <td id=\"T_5e79f_row18_col10\" class=\"data row18 col10\" >LIBORUSD3M</td>\n",
       "      <td id=\"T_5e79f_row18_col11\" class=\"data row18 col11\" >0.0000%</td>\n",
       "      <td id=\"T_5e79f_row18_col12\" class=\"data row18 col12\" >0.0000%</td>\n",
       "      <td id=\"T_5e79f_row18_col13\" class=\"data row18 col13\" >1.00</td>\n",
       "      <td id=\"T_5e79f_row18_col14\" class=\"data row18 col14\" >LinAct360</td>\n",
       "    </tr>\n",
       "    <tr>\n",
       "      <th id=\"T_5e79f_level0_row19\" class=\"row_heading level0 row19\" >19</th>\n",
       "      <td id=\"T_5e79f_row19_col0\" class=\"data row19 col0\" >2024-08-12</td>\n",
       "      <td id=\"T_5e79f_row19_col1\" class=\"data row19 col1\" >2024-11-12</td>\n",
       "      <td id=\"T_5e79f_row19_col2\" class=\"data row19 col2\" >2024-08-08</td>\n",
       "      <td id=\"T_5e79f_row19_col3\" class=\"data row19 col3\" >2024-11-12</td>\n",
       "      <td id=\"T_5e79f_row19_col4\" class=\"data row19 col4\" >20,000,000.00</td>\n",
       "      <td id=\"T_5e79f_row19_col5\" class=\"data row19 col5\" >0.00</td>\n",
       "      <td id=\"T_5e79f_row19_col6\" class=\"data row19 col6\" >0.00</td>\n",
       "      <td id=\"T_5e79f_row19_col7\" class=\"data row19 col7\" >True</td>\n",
       "      <td id=\"T_5e79f_row19_col8\" class=\"data row19 col8\" >0.00</td>\n",
       "      <td id=\"T_5e79f_row19_col9\" class=\"data row19 col9\" >USD</td>\n",
       "      <td id=\"T_5e79f_row19_col10\" class=\"data row19 col10\" >LIBORUSD3M</td>\n",
       "      <td id=\"T_5e79f_row19_col11\" class=\"data row19 col11\" >0.0000%</td>\n",
       "      <td id=\"T_5e79f_row19_col12\" class=\"data row19 col12\" >0.0000%</td>\n",
       "      <td id=\"T_5e79f_row19_col13\" class=\"data row19 col13\" >1.00</td>\n",
       "      <td id=\"T_5e79f_row19_col14\" class=\"data row19 col14\" >LinAct360</td>\n",
       "    </tr>\n",
       "    <tr>\n",
       "      <th id=\"T_5e79f_level0_row20\" class=\"row_heading level0 row20\" >20</th>\n",
       "      <td id=\"T_5e79f_row20_col0\" class=\"data row20 col0\" >2024-11-12</td>\n",
       "      <td id=\"T_5e79f_row20_col1\" class=\"data row20 col1\" >2025-02-12</td>\n",
       "      <td id=\"T_5e79f_row20_col2\" class=\"data row20 col2\" >2024-11-08</td>\n",
       "      <td id=\"T_5e79f_row20_col3\" class=\"data row20 col3\" >2025-02-12</td>\n",
       "      <td id=\"T_5e79f_row20_col4\" class=\"data row20 col4\" >20,000,000.00</td>\n",
       "      <td id=\"T_5e79f_row20_col5\" class=\"data row20 col5\" >0.00</td>\n",
       "      <td id=\"T_5e79f_row20_col6\" class=\"data row20 col6\" >0.00</td>\n",
       "      <td id=\"T_5e79f_row20_col7\" class=\"data row20 col7\" >True</td>\n",
       "      <td id=\"T_5e79f_row20_col8\" class=\"data row20 col8\" >0.00</td>\n",
       "      <td id=\"T_5e79f_row20_col9\" class=\"data row20 col9\" >USD</td>\n",
       "      <td id=\"T_5e79f_row20_col10\" class=\"data row20 col10\" >LIBORUSD3M</td>\n",
       "      <td id=\"T_5e79f_row20_col11\" class=\"data row20 col11\" >0.0000%</td>\n",
       "      <td id=\"T_5e79f_row20_col12\" class=\"data row20 col12\" >0.0000%</td>\n",
       "      <td id=\"T_5e79f_row20_col13\" class=\"data row20 col13\" >1.00</td>\n",
       "      <td id=\"T_5e79f_row20_col14\" class=\"data row20 col14\" >LinAct360</td>\n",
       "    </tr>\n",
       "    <tr>\n",
       "      <th id=\"T_5e79f_level0_row21\" class=\"row_heading level0 row21\" >21</th>\n",
       "      <td id=\"T_5e79f_row21_col0\" class=\"data row21 col0\" >2025-02-12</td>\n",
       "      <td id=\"T_5e79f_row21_col1\" class=\"data row21 col1\" >2025-05-12</td>\n",
       "      <td id=\"T_5e79f_row21_col2\" class=\"data row21 col2\" >2025-02-10</td>\n",
       "      <td id=\"T_5e79f_row21_col3\" class=\"data row21 col3\" >2025-05-12</td>\n",
       "      <td id=\"T_5e79f_row21_col4\" class=\"data row21 col4\" >20,000,000.00</td>\n",
       "      <td id=\"T_5e79f_row21_col5\" class=\"data row21 col5\" >0.00</td>\n",
       "      <td id=\"T_5e79f_row21_col6\" class=\"data row21 col6\" >0.00</td>\n",
       "      <td id=\"T_5e79f_row21_col7\" class=\"data row21 col7\" >True</td>\n",
       "      <td id=\"T_5e79f_row21_col8\" class=\"data row21 col8\" >0.00</td>\n",
       "      <td id=\"T_5e79f_row21_col9\" class=\"data row21 col9\" >USD</td>\n",
       "      <td id=\"T_5e79f_row21_col10\" class=\"data row21 col10\" >LIBORUSD3M</td>\n",
       "      <td id=\"T_5e79f_row21_col11\" class=\"data row21 col11\" >0.0000%</td>\n",
       "      <td id=\"T_5e79f_row21_col12\" class=\"data row21 col12\" >0.0000%</td>\n",
       "      <td id=\"T_5e79f_row21_col13\" class=\"data row21 col13\" >1.00</td>\n",
       "      <td id=\"T_5e79f_row21_col14\" class=\"data row21 col14\" >LinAct360</td>\n",
       "    </tr>\n",
       "    <tr>\n",
       "      <th id=\"T_5e79f_level0_row22\" class=\"row_heading level0 row22\" >22</th>\n",
       "      <td id=\"T_5e79f_row22_col0\" class=\"data row22 col0\" >2025-05-12</td>\n",
       "      <td id=\"T_5e79f_row22_col1\" class=\"data row22 col1\" >2025-08-12</td>\n",
       "      <td id=\"T_5e79f_row22_col2\" class=\"data row22 col2\" >2025-05-08</td>\n",
       "      <td id=\"T_5e79f_row22_col3\" class=\"data row22 col3\" >2025-08-12</td>\n",
       "      <td id=\"T_5e79f_row22_col4\" class=\"data row22 col4\" >20,000,000.00</td>\n",
       "      <td id=\"T_5e79f_row22_col5\" class=\"data row22 col5\" >0.00</td>\n",
       "      <td id=\"T_5e79f_row22_col6\" class=\"data row22 col6\" >0.00</td>\n",
       "      <td id=\"T_5e79f_row22_col7\" class=\"data row22 col7\" >True</td>\n",
       "      <td id=\"T_5e79f_row22_col8\" class=\"data row22 col8\" >0.00</td>\n",
       "      <td id=\"T_5e79f_row22_col9\" class=\"data row22 col9\" >USD</td>\n",
       "      <td id=\"T_5e79f_row22_col10\" class=\"data row22 col10\" >LIBORUSD3M</td>\n",
       "      <td id=\"T_5e79f_row22_col11\" class=\"data row22 col11\" >0.0000%</td>\n",
       "      <td id=\"T_5e79f_row22_col12\" class=\"data row22 col12\" >0.0000%</td>\n",
       "      <td id=\"T_5e79f_row22_col13\" class=\"data row22 col13\" >1.00</td>\n",
       "      <td id=\"T_5e79f_row22_col14\" class=\"data row22 col14\" >LinAct360</td>\n",
       "    </tr>\n",
       "    <tr>\n",
       "      <th id=\"T_5e79f_level0_row23\" class=\"row_heading level0 row23\" >23</th>\n",
       "      <td id=\"T_5e79f_row23_col0\" class=\"data row23 col0\" >2025-08-12</td>\n",
       "      <td id=\"T_5e79f_row23_col1\" class=\"data row23 col1\" >2025-11-12</td>\n",
       "      <td id=\"T_5e79f_row23_col2\" class=\"data row23 col2\" >2025-08-08</td>\n",
       "      <td id=\"T_5e79f_row23_col3\" class=\"data row23 col3\" >2025-11-12</td>\n",
       "      <td id=\"T_5e79f_row23_col4\" class=\"data row23 col4\" >20,000,000.00</td>\n",
       "      <td id=\"T_5e79f_row23_col5\" class=\"data row23 col5\" >0.00</td>\n",
       "      <td id=\"T_5e79f_row23_col6\" class=\"data row23 col6\" >0.00</td>\n",
       "      <td id=\"T_5e79f_row23_col7\" class=\"data row23 col7\" >True</td>\n",
       "      <td id=\"T_5e79f_row23_col8\" class=\"data row23 col8\" >0.00</td>\n",
       "      <td id=\"T_5e79f_row23_col9\" class=\"data row23 col9\" >USD</td>\n",
       "      <td id=\"T_5e79f_row23_col10\" class=\"data row23 col10\" >LIBORUSD3M</td>\n",
       "      <td id=\"T_5e79f_row23_col11\" class=\"data row23 col11\" >0.0000%</td>\n",
       "      <td id=\"T_5e79f_row23_col12\" class=\"data row23 col12\" >0.0000%</td>\n",
       "      <td id=\"T_5e79f_row23_col13\" class=\"data row23 col13\" >1.00</td>\n",
       "      <td id=\"T_5e79f_row23_col14\" class=\"data row23 col14\" >LinAct360</td>\n",
       "    </tr>\n",
       "    <tr>\n",
       "      <th id=\"T_5e79f_level0_row24\" class=\"row_heading level0 row24\" >24</th>\n",
       "      <td id=\"T_5e79f_row24_col0\" class=\"data row24 col0\" >2025-11-12</td>\n",
       "      <td id=\"T_5e79f_row24_col1\" class=\"data row24 col1\" >2026-02-12</td>\n",
       "      <td id=\"T_5e79f_row24_col2\" class=\"data row24 col2\" >2025-11-10</td>\n",
       "      <td id=\"T_5e79f_row24_col3\" class=\"data row24 col3\" >2026-02-12</td>\n",
       "      <td id=\"T_5e79f_row24_col4\" class=\"data row24 col4\" >20,000,000.00</td>\n",
       "      <td id=\"T_5e79f_row24_col5\" class=\"data row24 col5\" >0.00</td>\n",
       "      <td id=\"T_5e79f_row24_col6\" class=\"data row24 col6\" >0.00</td>\n",
       "      <td id=\"T_5e79f_row24_col7\" class=\"data row24 col7\" >True</td>\n",
       "      <td id=\"T_5e79f_row24_col8\" class=\"data row24 col8\" >0.00</td>\n",
       "      <td id=\"T_5e79f_row24_col9\" class=\"data row24 col9\" >USD</td>\n",
       "      <td id=\"T_5e79f_row24_col10\" class=\"data row24 col10\" >LIBORUSD3M</td>\n",
       "      <td id=\"T_5e79f_row24_col11\" class=\"data row24 col11\" >0.0000%</td>\n",
       "      <td id=\"T_5e79f_row24_col12\" class=\"data row24 col12\" >0.0000%</td>\n",
       "      <td id=\"T_5e79f_row24_col13\" class=\"data row24 col13\" >1.00</td>\n",
       "      <td id=\"T_5e79f_row24_col14\" class=\"data row24 col14\" >LinAct360</td>\n",
       "    </tr>\n",
       "    <tr>\n",
       "      <th id=\"T_5e79f_level0_row25\" class=\"row_heading level0 row25\" >25</th>\n",
       "      <td id=\"T_5e79f_row25_col0\" class=\"data row25 col0\" >2026-02-12</td>\n",
       "      <td id=\"T_5e79f_row25_col1\" class=\"data row25 col1\" >2026-05-12</td>\n",
       "      <td id=\"T_5e79f_row25_col2\" class=\"data row25 col2\" >2026-02-10</td>\n",
       "      <td id=\"T_5e79f_row25_col3\" class=\"data row25 col3\" >2026-05-12</td>\n",
       "      <td id=\"T_5e79f_row25_col4\" class=\"data row25 col4\" >20,000,000.00</td>\n",
       "      <td id=\"T_5e79f_row25_col5\" class=\"data row25 col5\" >0.00</td>\n",
       "      <td id=\"T_5e79f_row25_col6\" class=\"data row25 col6\" >0.00</td>\n",
       "      <td id=\"T_5e79f_row25_col7\" class=\"data row25 col7\" >True</td>\n",
       "      <td id=\"T_5e79f_row25_col8\" class=\"data row25 col8\" >0.00</td>\n",
       "      <td id=\"T_5e79f_row25_col9\" class=\"data row25 col9\" >USD</td>\n",
       "      <td id=\"T_5e79f_row25_col10\" class=\"data row25 col10\" >LIBORUSD3M</td>\n",
       "      <td id=\"T_5e79f_row25_col11\" class=\"data row25 col11\" >0.0000%</td>\n",
       "      <td id=\"T_5e79f_row25_col12\" class=\"data row25 col12\" >0.0000%</td>\n",
       "      <td id=\"T_5e79f_row25_col13\" class=\"data row25 col13\" >1.00</td>\n",
       "      <td id=\"T_5e79f_row25_col14\" class=\"data row25 col14\" >LinAct360</td>\n",
       "    </tr>\n",
       "    <tr>\n",
       "      <th id=\"T_5e79f_level0_row26\" class=\"row_heading level0 row26\" >26</th>\n",
       "      <td id=\"T_5e79f_row26_col0\" class=\"data row26 col0\" >2026-05-12</td>\n",
       "      <td id=\"T_5e79f_row26_col1\" class=\"data row26 col1\" >2026-08-12</td>\n",
       "      <td id=\"T_5e79f_row26_col2\" class=\"data row26 col2\" >2026-05-08</td>\n",
       "      <td id=\"T_5e79f_row26_col3\" class=\"data row26 col3\" >2026-08-12</td>\n",
       "      <td id=\"T_5e79f_row26_col4\" class=\"data row26 col4\" >20,000,000.00</td>\n",
       "      <td id=\"T_5e79f_row26_col5\" class=\"data row26 col5\" >0.00</td>\n",
       "      <td id=\"T_5e79f_row26_col6\" class=\"data row26 col6\" >0.00</td>\n",
       "      <td id=\"T_5e79f_row26_col7\" class=\"data row26 col7\" >True</td>\n",
       "      <td id=\"T_5e79f_row26_col8\" class=\"data row26 col8\" >0.00</td>\n",
       "      <td id=\"T_5e79f_row26_col9\" class=\"data row26 col9\" >USD</td>\n",
       "      <td id=\"T_5e79f_row26_col10\" class=\"data row26 col10\" >LIBORUSD3M</td>\n",
       "      <td id=\"T_5e79f_row26_col11\" class=\"data row26 col11\" >0.0000%</td>\n",
       "      <td id=\"T_5e79f_row26_col12\" class=\"data row26 col12\" >0.0000%</td>\n",
       "      <td id=\"T_5e79f_row26_col13\" class=\"data row26 col13\" >1.00</td>\n",
       "      <td id=\"T_5e79f_row26_col14\" class=\"data row26 col14\" >LinAct360</td>\n",
       "    </tr>\n",
       "    <tr>\n",
       "      <th id=\"T_5e79f_level0_row27\" class=\"row_heading level0 row27\" >27</th>\n",
       "      <td id=\"T_5e79f_row27_col0\" class=\"data row27 col0\" >2026-08-12</td>\n",
       "      <td id=\"T_5e79f_row27_col1\" class=\"data row27 col1\" >2026-11-12</td>\n",
       "      <td id=\"T_5e79f_row27_col2\" class=\"data row27 col2\" >2026-08-10</td>\n",
       "      <td id=\"T_5e79f_row27_col3\" class=\"data row27 col3\" >2026-11-12</td>\n",
       "      <td id=\"T_5e79f_row27_col4\" class=\"data row27 col4\" >20,000,000.00</td>\n",
       "      <td id=\"T_5e79f_row27_col5\" class=\"data row27 col5\" >0.00</td>\n",
       "      <td id=\"T_5e79f_row27_col6\" class=\"data row27 col6\" >0.00</td>\n",
       "      <td id=\"T_5e79f_row27_col7\" class=\"data row27 col7\" >True</td>\n",
       "      <td id=\"T_5e79f_row27_col8\" class=\"data row27 col8\" >0.00</td>\n",
       "      <td id=\"T_5e79f_row27_col9\" class=\"data row27 col9\" >USD</td>\n",
       "      <td id=\"T_5e79f_row27_col10\" class=\"data row27 col10\" >LIBORUSD3M</td>\n",
       "      <td id=\"T_5e79f_row27_col11\" class=\"data row27 col11\" >0.0000%</td>\n",
       "      <td id=\"T_5e79f_row27_col12\" class=\"data row27 col12\" >0.0000%</td>\n",
       "      <td id=\"T_5e79f_row27_col13\" class=\"data row27 col13\" >1.00</td>\n",
       "      <td id=\"T_5e79f_row27_col14\" class=\"data row27 col14\" >LinAct360</td>\n",
       "    </tr>\n",
       "    <tr>\n",
       "      <th id=\"T_5e79f_level0_row28\" class=\"row_heading level0 row28\" >28</th>\n",
       "      <td id=\"T_5e79f_row28_col0\" class=\"data row28 col0\" >2026-11-12</td>\n",
       "      <td id=\"T_5e79f_row28_col1\" class=\"data row28 col1\" >2027-02-12</td>\n",
       "      <td id=\"T_5e79f_row28_col2\" class=\"data row28 col2\" >2026-11-10</td>\n",
       "      <td id=\"T_5e79f_row28_col3\" class=\"data row28 col3\" >2027-02-12</td>\n",
       "      <td id=\"T_5e79f_row28_col4\" class=\"data row28 col4\" >20,000,000.00</td>\n",
       "      <td id=\"T_5e79f_row28_col5\" class=\"data row28 col5\" >0.00</td>\n",
       "      <td id=\"T_5e79f_row28_col6\" class=\"data row28 col6\" >0.00</td>\n",
       "      <td id=\"T_5e79f_row28_col7\" class=\"data row28 col7\" >True</td>\n",
       "      <td id=\"T_5e79f_row28_col8\" class=\"data row28 col8\" >0.00</td>\n",
       "      <td id=\"T_5e79f_row28_col9\" class=\"data row28 col9\" >USD</td>\n",
       "      <td id=\"T_5e79f_row28_col10\" class=\"data row28 col10\" >LIBORUSD3M</td>\n",
       "      <td id=\"T_5e79f_row28_col11\" class=\"data row28 col11\" >0.0000%</td>\n",
       "      <td id=\"T_5e79f_row28_col12\" class=\"data row28 col12\" >0.0000%</td>\n",
       "      <td id=\"T_5e79f_row28_col13\" class=\"data row28 col13\" >1.00</td>\n",
       "      <td id=\"T_5e79f_row28_col14\" class=\"data row28 col14\" >LinAct360</td>\n",
       "    </tr>\n",
       "    <tr>\n",
       "      <th id=\"T_5e79f_level0_row29\" class=\"row_heading level0 row29\" >29</th>\n",
       "      <td id=\"T_5e79f_row29_col0\" class=\"data row29 col0\" >2027-02-12</td>\n",
       "      <td id=\"T_5e79f_row29_col1\" class=\"data row29 col1\" >2027-05-12</td>\n",
       "      <td id=\"T_5e79f_row29_col2\" class=\"data row29 col2\" >2027-02-10</td>\n",
       "      <td id=\"T_5e79f_row29_col3\" class=\"data row29 col3\" >2027-05-12</td>\n",
       "      <td id=\"T_5e79f_row29_col4\" class=\"data row29 col4\" >20,000,000.00</td>\n",
       "      <td id=\"T_5e79f_row29_col5\" class=\"data row29 col5\" >0.00</td>\n",
       "      <td id=\"T_5e79f_row29_col6\" class=\"data row29 col6\" >0.00</td>\n",
       "      <td id=\"T_5e79f_row29_col7\" class=\"data row29 col7\" >True</td>\n",
       "      <td id=\"T_5e79f_row29_col8\" class=\"data row29 col8\" >0.00</td>\n",
       "      <td id=\"T_5e79f_row29_col9\" class=\"data row29 col9\" >USD</td>\n",
       "      <td id=\"T_5e79f_row29_col10\" class=\"data row29 col10\" >LIBORUSD3M</td>\n",
       "      <td id=\"T_5e79f_row29_col11\" class=\"data row29 col11\" >0.0000%</td>\n",
       "      <td id=\"T_5e79f_row29_col12\" class=\"data row29 col12\" >0.0000%</td>\n",
       "      <td id=\"T_5e79f_row29_col13\" class=\"data row29 col13\" >1.00</td>\n",
       "      <td id=\"T_5e79f_row29_col14\" class=\"data row29 col14\" >LinAct360</td>\n",
       "    </tr>\n",
       "    <tr>\n",
       "      <th id=\"T_5e79f_level0_row30\" class=\"row_heading level0 row30\" >30</th>\n",
       "      <td id=\"T_5e79f_row30_col0\" class=\"data row30 col0\" >2027-05-12</td>\n",
       "      <td id=\"T_5e79f_row30_col1\" class=\"data row30 col1\" >2027-08-12</td>\n",
       "      <td id=\"T_5e79f_row30_col2\" class=\"data row30 col2\" >2027-05-10</td>\n",
       "      <td id=\"T_5e79f_row30_col3\" class=\"data row30 col3\" >2027-08-12</td>\n",
       "      <td id=\"T_5e79f_row30_col4\" class=\"data row30 col4\" >20,000,000.00</td>\n",
       "      <td id=\"T_5e79f_row30_col5\" class=\"data row30 col5\" >0.00</td>\n",
       "      <td id=\"T_5e79f_row30_col6\" class=\"data row30 col6\" >0.00</td>\n",
       "      <td id=\"T_5e79f_row30_col7\" class=\"data row30 col7\" >True</td>\n",
       "      <td id=\"T_5e79f_row30_col8\" class=\"data row30 col8\" >0.00</td>\n",
       "      <td id=\"T_5e79f_row30_col9\" class=\"data row30 col9\" >USD</td>\n",
       "      <td id=\"T_5e79f_row30_col10\" class=\"data row30 col10\" >LIBORUSD3M</td>\n",
       "      <td id=\"T_5e79f_row30_col11\" class=\"data row30 col11\" >0.0000%</td>\n",
       "      <td id=\"T_5e79f_row30_col12\" class=\"data row30 col12\" >0.0000%</td>\n",
       "      <td id=\"T_5e79f_row30_col13\" class=\"data row30 col13\" >1.00</td>\n",
       "      <td id=\"T_5e79f_row30_col14\" class=\"data row30 col14\" >LinAct360</td>\n",
       "    </tr>\n",
       "    <tr>\n",
       "      <th id=\"T_5e79f_level0_row31\" class=\"row_heading level0 row31\" >31</th>\n",
       "      <td id=\"T_5e79f_row31_col0\" class=\"data row31 col0\" >2027-08-12</td>\n",
       "      <td id=\"T_5e79f_row31_col1\" class=\"data row31 col1\" >2027-11-12</td>\n",
       "      <td id=\"T_5e79f_row31_col2\" class=\"data row31 col2\" >2027-08-10</td>\n",
       "      <td id=\"T_5e79f_row31_col3\" class=\"data row31 col3\" >2027-11-12</td>\n",
       "      <td id=\"T_5e79f_row31_col4\" class=\"data row31 col4\" >20,000,000.00</td>\n",
       "      <td id=\"T_5e79f_row31_col5\" class=\"data row31 col5\" >0.00</td>\n",
       "      <td id=\"T_5e79f_row31_col6\" class=\"data row31 col6\" >0.00</td>\n",
       "      <td id=\"T_5e79f_row31_col7\" class=\"data row31 col7\" >True</td>\n",
       "      <td id=\"T_5e79f_row31_col8\" class=\"data row31 col8\" >0.00</td>\n",
       "      <td id=\"T_5e79f_row31_col9\" class=\"data row31 col9\" >USD</td>\n",
       "      <td id=\"T_5e79f_row31_col10\" class=\"data row31 col10\" >LIBORUSD3M</td>\n",
       "      <td id=\"T_5e79f_row31_col11\" class=\"data row31 col11\" >0.0000%</td>\n",
       "      <td id=\"T_5e79f_row31_col12\" class=\"data row31 col12\" >0.0000%</td>\n",
       "      <td id=\"T_5e79f_row31_col13\" class=\"data row31 col13\" >1.00</td>\n",
       "      <td id=\"T_5e79f_row31_col14\" class=\"data row31 col14\" >LinAct360</td>\n",
       "    </tr>\n",
       "    <tr>\n",
       "      <th id=\"T_5e79f_level0_row32\" class=\"row_heading level0 row32\" >32</th>\n",
       "      <td id=\"T_5e79f_row32_col0\" class=\"data row32 col0\" >2027-11-12</td>\n",
       "      <td id=\"T_5e79f_row32_col1\" class=\"data row32 col1\" >2028-02-14</td>\n",
       "      <td id=\"T_5e79f_row32_col2\" class=\"data row32 col2\" >2027-11-10</td>\n",
       "      <td id=\"T_5e79f_row32_col3\" class=\"data row32 col3\" >2028-02-14</td>\n",
       "      <td id=\"T_5e79f_row32_col4\" class=\"data row32 col4\" >20,000,000.00</td>\n",
       "      <td id=\"T_5e79f_row32_col5\" class=\"data row32 col5\" >0.00</td>\n",
       "      <td id=\"T_5e79f_row32_col6\" class=\"data row32 col6\" >0.00</td>\n",
       "      <td id=\"T_5e79f_row32_col7\" class=\"data row32 col7\" >True</td>\n",
       "      <td id=\"T_5e79f_row32_col8\" class=\"data row32 col8\" >0.00</td>\n",
       "      <td id=\"T_5e79f_row32_col9\" class=\"data row32 col9\" >USD</td>\n",
       "      <td id=\"T_5e79f_row32_col10\" class=\"data row32 col10\" >LIBORUSD3M</td>\n",
       "      <td id=\"T_5e79f_row32_col11\" class=\"data row32 col11\" >0.0000%</td>\n",
       "      <td id=\"T_5e79f_row32_col12\" class=\"data row32 col12\" >0.0000%</td>\n",
       "      <td id=\"T_5e79f_row32_col13\" class=\"data row32 col13\" >1.00</td>\n",
       "      <td id=\"T_5e79f_row32_col14\" class=\"data row32 col14\" >LinAct360</td>\n",
       "    </tr>\n",
       "    <tr>\n",
       "      <th id=\"T_5e79f_level0_row33\" class=\"row_heading level0 row33\" >33</th>\n",
       "      <td id=\"T_5e79f_row33_col0\" class=\"data row33 col0\" >2028-02-14</td>\n",
       "      <td id=\"T_5e79f_row33_col1\" class=\"data row33 col1\" >2028-05-12</td>\n",
       "      <td id=\"T_5e79f_row33_col2\" class=\"data row33 col2\" >2028-02-10</td>\n",
       "      <td id=\"T_5e79f_row33_col3\" class=\"data row33 col3\" >2028-05-12</td>\n",
       "      <td id=\"T_5e79f_row33_col4\" class=\"data row33 col4\" >20,000,000.00</td>\n",
       "      <td id=\"T_5e79f_row33_col5\" class=\"data row33 col5\" >0.00</td>\n",
       "      <td id=\"T_5e79f_row33_col6\" class=\"data row33 col6\" >0.00</td>\n",
       "      <td id=\"T_5e79f_row33_col7\" class=\"data row33 col7\" >True</td>\n",
       "      <td id=\"T_5e79f_row33_col8\" class=\"data row33 col8\" >0.00</td>\n",
       "      <td id=\"T_5e79f_row33_col9\" class=\"data row33 col9\" >USD</td>\n",
       "      <td id=\"T_5e79f_row33_col10\" class=\"data row33 col10\" >LIBORUSD3M</td>\n",
       "      <td id=\"T_5e79f_row33_col11\" class=\"data row33 col11\" >0.0000%</td>\n",
       "      <td id=\"T_5e79f_row33_col12\" class=\"data row33 col12\" >0.0000%</td>\n",
       "      <td id=\"T_5e79f_row33_col13\" class=\"data row33 col13\" >1.00</td>\n",
       "      <td id=\"T_5e79f_row33_col14\" class=\"data row33 col14\" >LinAct360</td>\n",
       "    </tr>\n",
       "    <tr>\n",
       "      <th id=\"T_5e79f_level0_row34\" class=\"row_heading level0 row34\" >34</th>\n",
       "      <td id=\"T_5e79f_row34_col0\" class=\"data row34 col0\" >2028-05-12</td>\n",
       "      <td id=\"T_5e79f_row34_col1\" class=\"data row34 col1\" >2028-08-14</td>\n",
       "      <td id=\"T_5e79f_row34_col2\" class=\"data row34 col2\" >2028-05-10</td>\n",
       "      <td id=\"T_5e79f_row34_col3\" class=\"data row34 col3\" >2028-08-14</td>\n",
       "      <td id=\"T_5e79f_row34_col4\" class=\"data row34 col4\" >20,000,000.00</td>\n",
       "      <td id=\"T_5e79f_row34_col5\" class=\"data row34 col5\" >0.00</td>\n",
       "      <td id=\"T_5e79f_row34_col6\" class=\"data row34 col6\" >0.00</td>\n",
       "      <td id=\"T_5e79f_row34_col7\" class=\"data row34 col7\" >True</td>\n",
       "      <td id=\"T_5e79f_row34_col8\" class=\"data row34 col8\" >0.00</td>\n",
       "      <td id=\"T_5e79f_row34_col9\" class=\"data row34 col9\" >USD</td>\n",
       "      <td id=\"T_5e79f_row34_col10\" class=\"data row34 col10\" >LIBORUSD3M</td>\n",
       "      <td id=\"T_5e79f_row34_col11\" class=\"data row34 col11\" >0.0000%</td>\n",
       "      <td id=\"T_5e79f_row34_col12\" class=\"data row34 col12\" >0.0000%</td>\n",
       "      <td id=\"T_5e79f_row34_col13\" class=\"data row34 col13\" >1.00</td>\n",
       "      <td id=\"T_5e79f_row34_col14\" class=\"data row34 col14\" >LinAct360</td>\n",
       "    </tr>\n",
       "    <tr>\n",
       "      <th id=\"T_5e79f_level0_row35\" class=\"row_heading level0 row35\" >35</th>\n",
       "      <td id=\"T_5e79f_row35_col0\" class=\"data row35 col0\" >2028-08-14</td>\n",
       "      <td id=\"T_5e79f_row35_col1\" class=\"data row35 col1\" >2028-11-13</td>\n",
       "      <td id=\"T_5e79f_row35_col2\" class=\"data row35 col2\" >2028-08-10</td>\n",
       "      <td id=\"T_5e79f_row35_col3\" class=\"data row35 col3\" >2028-11-13</td>\n",
       "      <td id=\"T_5e79f_row35_col4\" class=\"data row35 col4\" >20,000,000.00</td>\n",
       "      <td id=\"T_5e79f_row35_col5\" class=\"data row35 col5\" >0.00</td>\n",
       "      <td id=\"T_5e79f_row35_col6\" class=\"data row35 col6\" >0.00</td>\n",
       "      <td id=\"T_5e79f_row35_col7\" class=\"data row35 col7\" >True</td>\n",
       "      <td id=\"T_5e79f_row35_col8\" class=\"data row35 col8\" >0.00</td>\n",
       "      <td id=\"T_5e79f_row35_col9\" class=\"data row35 col9\" >USD</td>\n",
       "      <td id=\"T_5e79f_row35_col10\" class=\"data row35 col10\" >LIBORUSD3M</td>\n",
       "      <td id=\"T_5e79f_row35_col11\" class=\"data row35 col11\" >0.0000%</td>\n",
       "      <td id=\"T_5e79f_row35_col12\" class=\"data row35 col12\" >0.0000%</td>\n",
       "      <td id=\"T_5e79f_row35_col13\" class=\"data row35 col13\" >1.00</td>\n",
       "      <td id=\"T_5e79f_row35_col14\" class=\"data row35 col14\" >LinAct360</td>\n",
       "    </tr>\n",
       "    <tr>\n",
       "      <th id=\"T_5e79f_level0_row36\" class=\"row_heading level0 row36\" >36</th>\n",
       "      <td id=\"T_5e79f_row36_col0\" class=\"data row36 col0\" >2028-11-13</td>\n",
       "      <td id=\"T_5e79f_row36_col1\" class=\"data row36 col1\" >2029-02-12</td>\n",
       "      <td id=\"T_5e79f_row36_col2\" class=\"data row36 col2\" >2028-11-09</td>\n",
       "      <td id=\"T_5e79f_row36_col3\" class=\"data row36 col3\" >2029-02-12</td>\n",
       "      <td id=\"T_5e79f_row36_col4\" class=\"data row36 col4\" >20,000,000.00</td>\n",
       "      <td id=\"T_5e79f_row36_col5\" class=\"data row36 col5\" >0.00</td>\n",
       "      <td id=\"T_5e79f_row36_col6\" class=\"data row36 col6\" >0.00</td>\n",
       "      <td id=\"T_5e79f_row36_col7\" class=\"data row36 col7\" >True</td>\n",
       "      <td id=\"T_5e79f_row36_col8\" class=\"data row36 col8\" >0.00</td>\n",
       "      <td id=\"T_5e79f_row36_col9\" class=\"data row36 col9\" >USD</td>\n",
       "      <td id=\"T_5e79f_row36_col10\" class=\"data row36 col10\" >LIBORUSD3M</td>\n",
       "      <td id=\"T_5e79f_row36_col11\" class=\"data row36 col11\" >0.0000%</td>\n",
       "      <td id=\"T_5e79f_row36_col12\" class=\"data row36 col12\" >0.0000%</td>\n",
       "      <td id=\"T_5e79f_row36_col13\" class=\"data row36 col13\" >1.00</td>\n",
       "      <td id=\"T_5e79f_row36_col14\" class=\"data row36 col14\" >LinAct360</td>\n",
       "    </tr>\n",
       "    <tr>\n",
       "      <th id=\"T_5e79f_level0_row37\" class=\"row_heading level0 row37\" >37</th>\n",
       "      <td id=\"T_5e79f_row37_col0\" class=\"data row37 col0\" >2029-02-12</td>\n",
       "      <td id=\"T_5e79f_row37_col1\" class=\"data row37 col1\" >2029-05-14</td>\n",
       "      <td id=\"T_5e79f_row37_col2\" class=\"data row37 col2\" >2029-02-08</td>\n",
       "      <td id=\"T_5e79f_row37_col3\" class=\"data row37 col3\" >2029-05-14</td>\n",
       "      <td id=\"T_5e79f_row37_col4\" class=\"data row37 col4\" >20,000,000.00</td>\n",
       "      <td id=\"T_5e79f_row37_col5\" class=\"data row37 col5\" >0.00</td>\n",
       "      <td id=\"T_5e79f_row37_col6\" class=\"data row37 col6\" >0.00</td>\n",
       "      <td id=\"T_5e79f_row37_col7\" class=\"data row37 col7\" >True</td>\n",
       "      <td id=\"T_5e79f_row37_col8\" class=\"data row37 col8\" >0.00</td>\n",
       "      <td id=\"T_5e79f_row37_col9\" class=\"data row37 col9\" >USD</td>\n",
       "      <td id=\"T_5e79f_row37_col10\" class=\"data row37 col10\" >LIBORUSD3M</td>\n",
       "      <td id=\"T_5e79f_row37_col11\" class=\"data row37 col11\" >0.0000%</td>\n",
       "      <td id=\"T_5e79f_row37_col12\" class=\"data row37 col12\" >0.0000%</td>\n",
       "      <td id=\"T_5e79f_row37_col13\" class=\"data row37 col13\" >1.00</td>\n",
       "      <td id=\"T_5e79f_row37_col14\" class=\"data row37 col14\" >LinAct360</td>\n",
       "    </tr>\n",
       "    <tr>\n",
       "      <th id=\"T_5e79f_level0_row38\" class=\"row_heading level0 row38\" >38</th>\n",
       "      <td id=\"T_5e79f_row38_col0\" class=\"data row38 col0\" >2029-05-14</td>\n",
       "      <td id=\"T_5e79f_row38_col1\" class=\"data row38 col1\" >2029-08-13</td>\n",
       "      <td id=\"T_5e79f_row38_col2\" class=\"data row38 col2\" >2029-05-10</td>\n",
       "      <td id=\"T_5e79f_row38_col3\" class=\"data row38 col3\" >2029-08-13</td>\n",
       "      <td id=\"T_5e79f_row38_col4\" class=\"data row38 col4\" >20,000,000.00</td>\n",
       "      <td id=\"T_5e79f_row38_col5\" class=\"data row38 col5\" >0.00</td>\n",
       "      <td id=\"T_5e79f_row38_col6\" class=\"data row38 col6\" >0.00</td>\n",
       "      <td id=\"T_5e79f_row38_col7\" class=\"data row38 col7\" >True</td>\n",
       "      <td id=\"T_5e79f_row38_col8\" class=\"data row38 col8\" >0.00</td>\n",
       "      <td id=\"T_5e79f_row38_col9\" class=\"data row38 col9\" >USD</td>\n",
       "      <td id=\"T_5e79f_row38_col10\" class=\"data row38 col10\" >LIBORUSD3M</td>\n",
       "      <td id=\"T_5e79f_row38_col11\" class=\"data row38 col11\" >0.0000%</td>\n",
       "      <td id=\"T_5e79f_row38_col12\" class=\"data row38 col12\" >0.0000%</td>\n",
       "      <td id=\"T_5e79f_row38_col13\" class=\"data row38 col13\" >1.00</td>\n",
       "      <td id=\"T_5e79f_row38_col14\" class=\"data row38 col14\" >LinAct360</td>\n",
       "    </tr>\n",
       "    <tr>\n",
       "      <th id=\"T_5e79f_level0_row39\" class=\"row_heading level0 row39\" >39</th>\n",
       "      <td id=\"T_5e79f_row39_col0\" class=\"data row39 col0\" >2029-08-13</td>\n",
       "      <td id=\"T_5e79f_row39_col1\" class=\"data row39 col1\" >2029-11-12</td>\n",
       "      <td id=\"T_5e79f_row39_col2\" class=\"data row39 col2\" >2029-08-09</td>\n",
       "      <td id=\"T_5e79f_row39_col3\" class=\"data row39 col3\" >2029-11-12</td>\n",
       "      <td id=\"T_5e79f_row39_col4\" class=\"data row39 col4\" >20,000,000.00</td>\n",
       "      <td id=\"T_5e79f_row39_col5\" class=\"data row39 col5\" >20,000,000.00</td>\n",
       "      <td id=\"T_5e79f_row39_col6\" class=\"data row39 col6\" >0.00</td>\n",
       "      <td id=\"T_5e79f_row39_col7\" class=\"data row39 col7\" >True</td>\n",
       "      <td id=\"T_5e79f_row39_col8\" class=\"data row39 col8\" >20,000,000.00</td>\n",
       "      <td id=\"T_5e79f_row39_col9\" class=\"data row39 col9\" >USD</td>\n",
       "      <td id=\"T_5e79f_row39_col10\" class=\"data row39 col10\" >LIBORUSD3M</td>\n",
       "      <td id=\"T_5e79f_row39_col11\" class=\"data row39 col11\" >0.0000%</td>\n",
       "      <td id=\"T_5e79f_row39_col12\" class=\"data row39 col12\" >0.0000%</td>\n",
       "      <td id=\"T_5e79f_row39_col13\" class=\"data row39 col13\" >1.00</td>\n",
       "      <td id=\"T_5e79f_row39_col14\" class=\"data row39 col14\" >LinAct360</td>\n",
       "    </tr>\n",
       "  </tbody>\n",
       "</table>\n"
      ],
      "text/plain": [
       "<pandas.io.formats.style.Styler at 0x11ff6c4d0>"
      ]
     },
     "execution_count": 73,
     "metadata": {},
     "output_type": "execute_result"
    }
   ],
   "source": [
    "# Se define un list donde almacenar los resultados de la función show\n",
    "tabla = []\n",
    "for i in range(0, ibor_leg.size()):\n",
    "    tabla.append(qcf.show(ibor_leg.get_cashflow_at(i)))\n",
    "\n",
    "# Se utiliza tabla para inicializar el Dataframe\n",
    "columnas = ['fecha_inicial', 'fecha__final', 'fecha_fixing', 'fecha__pago', 'nominal', 'amort', 'interes', 'amort_es_flujo', 'flujo',\n",
    "            'moneda', 'codigo_indice', 'valor_tasa', 'spread', 'gearing', 'tipo_tasa']\n",
    "df5 = pd.DataFrame(tabla, columns=columnas)\n",
    "\n",
    "# Se despliega la data en este formato\n",
    "df5.style.format(format_dict)"
   ]
  },
  {
   "cell_type": "code",
   "execution_count": 74,
   "metadata": {
    "ExecuteTime": {
     "end_time": "2022-01-24T13:13:32.083019Z",
     "start_time": "2022-01-24T13:13:32.068020Z"
    },
    "execution": {
     "iopub.execute_input": "2023-07-17T23:13:46.076853Z",
     "iopub.status.busy": "2023-07-17T23:13:46.076743Z",
     "iopub.status.idle": "2023-07-17T23:13:46.078763Z",
     "shell.execute_reply": "2023-07-17T23:13:46.078402Z",
     "shell.execute_reply.started": "2023-07-17T23:13:46.076845Z"
    }
   },
   "outputs": [],
   "source": [
    "libor = 0.0190063\n",
    "fecha_hoy = qcf.QCDate(25, 2, 2020)\n",
    "ibor_leg.get_cashflow_at(0).set_rate_value(libor)\n",
    "fwd_rates.set_rates_ibor_leg(fecha_hoy, ibor_leg, zz2)"
   ]
  },
  {
   "cell_type": "code",
   "execution_count": 75,
   "metadata": {
    "ExecuteTime": {
     "end_time": "2022-01-24T13:13:32.099019Z",
     "start_time": "2022-01-24T13:13:32.084021Z"
    },
    "execution": {
     "iopub.execute_input": "2023-07-17T23:13:46.079147Z",
     "iopub.status.busy": "2023-07-17T23:13:46.079072Z",
     "iopub.status.idle": "2023-07-17T23:13:46.088235Z",
     "shell.execute_reply": "2023-07-17T23:13:46.087978Z",
     "shell.execute_reply.started": "2023-07-17T23:13:46.079141Z"
    }
   },
   "outputs": [
    {
     "data": {
      "text/html": [
       "<style type=\"text/css\">\n",
       "</style>\n",
       "<table id=\"T_04bc5\">\n",
       "  <thead>\n",
       "    <tr>\n",
       "      <th class=\"blank level0\" >&nbsp;</th>\n",
       "      <th id=\"T_04bc5_level0_col0\" class=\"col_heading level0 col0\" >fecha_inicial</th>\n",
       "      <th id=\"T_04bc5_level0_col1\" class=\"col_heading level0 col1\" >fecha__final</th>\n",
       "      <th id=\"T_04bc5_level0_col2\" class=\"col_heading level0 col2\" >fecha_fixing</th>\n",
       "      <th id=\"T_04bc5_level0_col3\" class=\"col_heading level0 col3\" >fecha__pago</th>\n",
       "      <th id=\"T_04bc5_level0_col4\" class=\"col_heading level0 col4\" >nominal</th>\n",
       "      <th id=\"T_04bc5_level0_col5\" class=\"col_heading level0 col5\" >amort</th>\n",
       "      <th id=\"T_04bc5_level0_col6\" class=\"col_heading level0 col6\" >interes</th>\n",
       "      <th id=\"T_04bc5_level0_col7\" class=\"col_heading level0 col7\" >amort_es_flujo</th>\n",
       "      <th id=\"T_04bc5_level0_col8\" class=\"col_heading level0 col8\" >flujo</th>\n",
       "      <th id=\"T_04bc5_level0_col9\" class=\"col_heading level0 col9\" >moneda</th>\n",
       "      <th id=\"T_04bc5_level0_col10\" class=\"col_heading level0 col10\" >codigo_indice</th>\n",
       "      <th id=\"T_04bc5_level0_col11\" class=\"col_heading level0 col11\" >valor_tasa</th>\n",
       "      <th id=\"T_04bc5_level0_col12\" class=\"col_heading level0 col12\" >spread</th>\n",
       "      <th id=\"T_04bc5_level0_col13\" class=\"col_heading level0 col13\" >gearing</th>\n",
       "      <th id=\"T_04bc5_level0_col14\" class=\"col_heading level0 col14\" >tipo_tasa</th>\n",
       "    </tr>\n",
       "  </thead>\n",
       "  <tbody>\n",
       "    <tr>\n",
       "      <th id=\"T_04bc5_level0_row0\" class=\"row_heading level0 row0\" >0</th>\n",
       "      <td id=\"T_04bc5_row0_col0\" class=\"data row0 col0\" >2019-11-12</td>\n",
       "      <td id=\"T_04bc5_row0_col1\" class=\"data row0 col1\" >2020-02-12</td>\n",
       "      <td id=\"T_04bc5_row0_col2\" class=\"data row0 col2\" >2019-11-08</td>\n",
       "      <td id=\"T_04bc5_row0_col3\" class=\"data row0 col3\" >2020-02-12</td>\n",
       "      <td id=\"T_04bc5_row0_col4\" class=\"data row0 col4\" >20,000,000.00</td>\n",
       "      <td id=\"T_04bc5_row0_col5\" class=\"data row0 col5\" >0.00</td>\n",
       "      <td id=\"T_04bc5_row0_col6\" class=\"data row0 col6\" >97,143.31</td>\n",
       "      <td id=\"T_04bc5_row0_col7\" class=\"data row0 col7\" >True</td>\n",
       "      <td id=\"T_04bc5_row0_col8\" class=\"data row0 col8\" >97,143.31</td>\n",
       "      <td id=\"T_04bc5_row0_col9\" class=\"data row0 col9\" >USD</td>\n",
       "      <td id=\"T_04bc5_row0_col10\" class=\"data row0 col10\" >LIBORUSD3M</td>\n",
       "      <td id=\"T_04bc5_row0_col11\" class=\"data row0 col11\" >1.9006%</td>\n",
       "      <td id=\"T_04bc5_row0_col12\" class=\"data row0 col12\" >0.0000%</td>\n",
       "      <td id=\"T_04bc5_row0_col13\" class=\"data row0 col13\" >1.00</td>\n",
       "      <td id=\"T_04bc5_row0_col14\" class=\"data row0 col14\" >LinAct360</td>\n",
       "    </tr>\n",
       "    <tr>\n",
       "      <th id=\"T_04bc5_level0_row1\" class=\"row_heading level0 row1\" >1</th>\n",
       "      <td id=\"T_04bc5_row1_col0\" class=\"data row1 col0\" >2020-02-12</td>\n",
       "      <td id=\"T_04bc5_row1_col1\" class=\"data row1 col1\" >2020-05-12</td>\n",
       "      <td id=\"T_04bc5_row1_col2\" class=\"data row1 col2\" >2020-02-10</td>\n",
       "      <td id=\"T_04bc5_row1_col3\" class=\"data row1 col3\" >2020-05-12</td>\n",
       "      <td id=\"T_04bc5_row1_col4\" class=\"data row1 col4\" >20,000,000.00</td>\n",
       "      <td id=\"T_04bc5_row1_col5\" class=\"data row1 col5\" >0.00</td>\n",
       "      <td id=\"T_04bc5_row1_col6\" class=\"data row1 col6\" >0.00</td>\n",
       "      <td id=\"T_04bc5_row1_col7\" class=\"data row1 col7\" >True</td>\n",
       "      <td id=\"T_04bc5_row1_col8\" class=\"data row1 col8\" >0.00</td>\n",
       "      <td id=\"T_04bc5_row1_col9\" class=\"data row1 col9\" >USD</td>\n",
       "      <td id=\"T_04bc5_row1_col10\" class=\"data row1 col10\" >LIBORUSD3M</td>\n",
       "      <td id=\"T_04bc5_row1_col11\" class=\"data row1 col11\" >0.0000%</td>\n",
       "      <td id=\"T_04bc5_row1_col12\" class=\"data row1 col12\" >0.0000%</td>\n",
       "      <td id=\"T_04bc5_row1_col13\" class=\"data row1 col13\" >1.00</td>\n",
       "      <td id=\"T_04bc5_row1_col14\" class=\"data row1 col14\" >LinAct360</td>\n",
       "    </tr>\n",
       "    <tr>\n",
       "      <th id=\"T_04bc5_level0_row2\" class=\"row_heading level0 row2\" >2</th>\n",
       "      <td id=\"T_04bc5_row2_col0\" class=\"data row2 col0\" >2020-05-12</td>\n",
       "      <td id=\"T_04bc5_row2_col1\" class=\"data row2 col1\" >2020-08-12</td>\n",
       "      <td id=\"T_04bc5_row2_col2\" class=\"data row2 col2\" >2020-05-08</td>\n",
       "      <td id=\"T_04bc5_row2_col3\" class=\"data row2 col3\" >2020-08-12</td>\n",
       "      <td id=\"T_04bc5_row2_col4\" class=\"data row2 col4\" >20,000,000.00</td>\n",
       "      <td id=\"T_04bc5_row2_col5\" class=\"data row2 col5\" >0.00</td>\n",
       "      <td id=\"T_04bc5_row2_col6\" class=\"data row2 col6\" >87,136.92</td>\n",
       "      <td id=\"T_04bc5_row2_col7\" class=\"data row2 col7\" >True</td>\n",
       "      <td id=\"T_04bc5_row2_col8\" class=\"data row2 col8\" >87,136.92</td>\n",
       "      <td id=\"T_04bc5_row2_col9\" class=\"data row2 col9\" >USD</td>\n",
       "      <td id=\"T_04bc5_row2_col10\" class=\"data row2 col10\" >LIBORUSD3M</td>\n",
       "      <td id=\"T_04bc5_row2_col11\" class=\"data row2 col11\" >1.7049%</td>\n",
       "      <td id=\"T_04bc5_row2_col12\" class=\"data row2 col12\" >0.0000%</td>\n",
       "      <td id=\"T_04bc5_row2_col13\" class=\"data row2 col13\" >1.00</td>\n",
       "      <td id=\"T_04bc5_row2_col14\" class=\"data row2 col14\" >LinAct360</td>\n",
       "    </tr>\n",
       "    <tr>\n",
       "      <th id=\"T_04bc5_level0_row3\" class=\"row_heading level0 row3\" >3</th>\n",
       "      <td id=\"T_04bc5_row3_col0\" class=\"data row3 col0\" >2020-08-12</td>\n",
       "      <td id=\"T_04bc5_row3_col1\" class=\"data row3 col1\" >2020-11-12</td>\n",
       "      <td id=\"T_04bc5_row3_col2\" class=\"data row3 col2\" >2020-08-10</td>\n",
       "      <td id=\"T_04bc5_row3_col3\" class=\"data row3 col3\" >2020-11-12</td>\n",
       "      <td id=\"T_04bc5_row3_col4\" class=\"data row3 col4\" >20,000,000.00</td>\n",
       "      <td id=\"T_04bc5_row3_col5\" class=\"data row3 col5\" >0.00</td>\n",
       "      <td id=\"T_04bc5_row3_col6\" class=\"data row3 col6\" >83,357.57</td>\n",
       "      <td id=\"T_04bc5_row3_col7\" class=\"data row3 col7\" >True</td>\n",
       "      <td id=\"T_04bc5_row3_col8\" class=\"data row3 col8\" >83,357.57</td>\n",
       "      <td id=\"T_04bc5_row3_col9\" class=\"data row3 col9\" >USD</td>\n",
       "      <td id=\"T_04bc5_row3_col10\" class=\"data row3 col10\" >LIBORUSD3M</td>\n",
       "      <td id=\"T_04bc5_row3_col11\" class=\"data row3 col11\" >1.6309%</td>\n",
       "      <td id=\"T_04bc5_row3_col12\" class=\"data row3 col12\" >0.0000%</td>\n",
       "      <td id=\"T_04bc5_row3_col13\" class=\"data row3 col13\" >1.00</td>\n",
       "      <td id=\"T_04bc5_row3_col14\" class=\"data row3 col14\" >LinAct360</td>\n",
       "    </tr>\n",
       "    <tr>\n",
       "      <th id=\"T_04bc5_level0_row4\" class=\"row_heading level0 row4\" >4</th>\n",
       "      <td id=\"T_04bc5_row4_col0\" class=\"data row4 col0\" >2020-11-12</td>\n",
       "      <td id=\"T_04bc5_row4_col1\" class=\"data row4 col1\" >2021-02-12</td>\n",
       "      <td id=\"T_04bc5_row4_col2\" class=\"data row4 col2\" >2020-11-10</td>\n",
       "      <td id=\"T_04bc5_row4_col3\" class=\"data row4 col3\" >2021-02-12</td>\n",
       "      <td id=\"T_04bc5_row4_col4\" class=\"data row4 col4\" >20,000,000.00</td>\n",
       "      <td id=\"T_04bc5_row4_col5\" class=\"data row4 col5\" >0.00</td>\n",
       "      <td id=\"T_04bc5_row4_col6\" class=\"data row4 col6\" >79,834.14</td>\n",
       "      <td id=\"T_04bc5_row4_col7\" class=\"data row4 col7\" >True</td>\n",
       "      <td id=\"T_04bc5_row4_col8\" class=\"data row4 col8\" >79,834.14</td>\n",
       "      <td id=\"T_04bc5_row4_col9\" class=\"data row4 col9\" >USD</td>\n",
       "      <td id=\"T_04bc5_row4_col10\" class=\"data row4 col10\" >LIBORUSD3M</td>\n",
       "      <td id=\"T_04bc5_row4_col11\" class=\"data row4 col11\" >1.5620%</td>\n",
       "      <td id=\"T_04bc5_row4_col12\" class=\"data row4 col12\" >0.0000%</td>\n",
       "      <td id=\"T_04bc5_row4_col13\" class=\"data row4 col13\" >1.00</td>\n",
       "      <td id=\"T_04bc5_row4_col14\" class=\"data row4 col14\" >LinAct360</td>\n",
       "    </tr>\n",
       "    <tr>\n",
       "      <th id=\"T_04bc5_level0_row5\" class=\"row_heading level0 row5\" >5</th>\n",
       "      <td id=\"T_04bc5_row5_col0\" class=\"data row5 col0\" >2021-02-12</td>\n",
       "      <td id=\"T_04bc5_row5_col1\" class=\"data row5 col1\" >2021-05-12</td>\n",
       "      <td id=\"T_04bc5_row5_col2\" class=\"data row5 col2\" >2021-02-10</td>\n",
       "      <td id=\"T_04bc5_row5_col3\" class=\"data row5 col3\" >2021-05-12</td>\n",
       "      <td id=\"T_04bc5_row5_col4\" class=\"data row5 col4\" >20,000,000.00</td>\n",
       "      <td id=\"T_04bc5_row5_col5\" class=\"data row5 col5\" >0.00</td>\n",
       "      <td id=\"T_04bc5_row5_col6\" class=\"data row5 col6\" >75,388.80</td>\n",
       "      <td id=\"T_04bc5_row5_col7\" class=\"data row5 col7\" >True</td>\n",
       "      <td id=\"T_04bc5_row5_col8\" class=\"data row5 col8\" >75,388.80</td>\n",
       "      <td id=\"T_04bc5_row5_col9\" class=\"data row5 col9\" >USD</td>\n",
       "      <td id=\"T_04bc5_row5_col10\" class=\"data row5 col10\" >LIBORUSD3M</td>\n",
       "      <td id=\"T_04bc5_row5_col11\" class=\"data row5 col11\" >1.5247%</td>\n",
       "      <td id=\"T_04bc5_row5_col12\" class=\"data row5 col12\" >0.0000%</td>\n",
       "      <td id=\"T_04bc5_row5_col13\" class=\"data row5 col13\" >1.00</td>\n",
       "      <td id=\"T_04bc5_row5_col14\" class=\"data row5 col14\" >LinAct360</td>\n",
       "    </tr>\n",
       "    <tr>\n",
       "      <th id=\"T_04bc5_level0_row6\" class=\"row_heading level0 row6\" >6</th>\n",
       "      <td id=\"T_04bc5_row6_col0\" class=\"data row6 col0\" >2021-05-12</td>\n",
       "      <td id=\"T_04bc5_row6_col1\" class=\"data row6 col1\" >2021-08-12</td>\n",
       "      <td id=\"T_04bc5_row6_col2\" class=\"data row6 col2\" >2021-05-10</td>\n",
       "      <td id=\"T_04bc5_row6_col3\" class=\"data row6 col3\" >2021-08-12</td>\n",
       "      <td id=\"T_04bc5_row6_col4\" class=\"data row6 col4\" >20,000,000.00</td>\n",
       "      <td id=\"T_04bc5_row6_col5\" class=\"data row6 col5\" >0.00</td>\n",
       "      <td id=\"T_04bc5_row6_col6\" class=\"data row6 col6\" >75,147.35</td>\n",
       "      <td id=\"T_04bc5_row6_col7\" class=\"data row6 col7\" >True</td>\n",
       "      <td id=\"T_04bc5_row6_col8\" class=\"data row6 col8\" >75,147.35</td>\n",
       "      <td id=\"T_04bc5_row6_col9\" class=\"data row6 col9\" >USD</td>\n",
       "      <td id=\"T_04bc5_row6_col10\" class=\"data row6 col10\" >LIBORUSD3M</td>\n",
       "      <td id=\"T_04bc5_row6_col11\" class=\"data row6 col11\" >1.4703%</td>\n",
       "      <td id=\"T_04bc5_row6_col12\" class=\"data row6 col12\" >0.0000%</td>\n",
       "      <td id=\"T_04bc5_row6_col13\" class=\"data row6 col13\" >1.00</td>\n",
       "      <td id=\"T_04bc5_row6_col14\" class=\"data row6 col14\" >LinAct360</td>\n",
       "    </tr>\n",
       "    <tr>\n",
       "      <th id=\"T_04bc5_level0_row7\" class=\"row_heading level0 row7\" >7</th>\n",
       "      <td id=\"T_04bc5_row7_col0\" class=\"data row7 col0\" >2021-08-12</td>\n",
       "      <td id=\"T_04bc5_row7_col1\" class=\"data row7 col1\" >2021-11-12</td>\n",
       "      <td id=\"T_04bc5_row7_col2\" class=\"data row7 col2\" >2021-08-10</td>\n",
       "      <td id=\"T_04bc5_row7_col3\" class=\"data row7 col3\" >2021-11-12</td>\n",
       "      <td id=\"T_04bc5_row7_col4\" class=\"data row7 col4\" >20,000,000.00</td>\n",
       "      <td id=\"T_04bc5_row7_col5\" class=\"data row7 col5\" >0.00</td>\n",
       "      <td id=\"T_04bc5_row7_col6\" class=\"data row7 col6\" >75,919.01</td>\n",
       "      <td id=\"T_04bc5_row7_col7\" class=\"data row7 col7\" >True</td>\n",
       "      <td id=\"T_04bc5_row7_col8\" class=\"data row7 col8\" >75,919.01</td>\n",
       "      <td id=\"T_04bc5_row7_col9\" class=\"data row7 col9\" >USD</td>\n",
       "      <td id=\"T_04bc5_row7_col10\" class=\"data row7 col10\" >LIBORUSD3M</td>\n",
       "      <td id=\"T_04bc5_row7_col11\" class=\"data row7 col11\" >1.4854%</td>\n",
       "      <td id=\"T_04bc5_row7_col12\" class=\"data row7 col12\" >0.0000%</td>\n",
       "      <td id=\"T_04bc5_row7_col13\" class=\"data row7 col13\" >1.00</td>\n",
       "      <td id=\"T_04bc5_row7_col14\" class=\"data row7 col14\" >LinAct360</td>\n",
       "    </tr>\n",
       "    <tr>\n",
       "      <th id=\"T_04bc5_level0_row8\" class=\"row_heading level0 row8\" >8</th>\n",
       "      <td id=\"T_04bc5_row8_col0\" class=\"data row8 col0\" >2021-11-12</td>\n",
       "      <td id=\"T_04bc5_row8_col1\" class=\"data row8 col1\" >2022-02-14</td>\n",
       "      <td id=\"T_04bc5_row8_col2\" class=\"data row8 col2\" >2021-11-10</td>\n",
       "      <td id=\"T_04bc5_row8_col3\" class=\"data row8 col3\" >2022-02-14</td>\n",
       "      <td id=\"T_04bc5_row8_col4\" class=\"data row8 col4\" >20,000,000.00</td>\n",
       "      <td id=\"T_04bc5_row8_col5\" class=\"data row8 col5\" >0.00</td>\n",
       "      <td id=\"T_04bc5_row8_col6\" class=\"data row8 col6\" >76,541.33</td>\n",
       "      <td id=\"T_04bc5_row8_col7\" class=\"data row8 col7\" >True</td>\n",
       "      <td id=\"T_04bc5_row8_col8\" class=\"data row8 col8\" >76,541.33</td>\n",
       "      <td id=\"T_04bc5_row8_col9\" class=\"data row8 col9\" >USD</td>\n",
       "      <td id=\"T_04bc5_row8_col10\" class=\"data row8 col10\" >LIBORUSD3M</td>\n",
       "      <td id=\"T_04bc5_row8_col11\" class=\"data row8 col11\" >1.4657%</td>\n",
       "      <td id=\"T_04bc5_row8_col12\" class=\"data row8 col12\" >0.0000%</td>\n",
       "      <td id=\"T_04bc5_row8_col13\" class=\"data row8 col13\" >1.00</td>\n",
       "      <td id=\"T_04bc5_row8_col14\" class=\"data row8 col14\" >LinAct360</td>\n",
       "    </tr>\n",
       "    <tr>\n",
       "      <th id=\"T_04bc5_level0_row9\" class=\"row_heading level0 row9\" >9</th>\n",
       "      <td id=\"T_04bc5_row9_col0\" class=\"data row9 col0\" >2022-02-14</td>\n",
       "      <td id=\"T_04bc5_row9_col1\" class=\"data row9 col1\" >2022-05-12</td>\n",
       "      <td id=\"T_04bc5_row9_col2\" class=\"data row9 col2\" >2022-02-10</td>\n",
       "      <td id=\"T_04bc5_row9_col3\" class=\"data row9 col3\" >2022-05-12</td>\n",
       "      <td id=\"T_04bc5_row9_col4\" class=\"data row9 col4\" >20,000,000.00</td>\n",
       "      <td id=\"T_04bc5_row9_col5\" class=\"data row9 col5\" >0.00</td>\n",
       "      <td id=\"T_04bc5_row9_col6\" class=\"data row9 col6\" >72,657.16</td>\n",
       "      <td id=\"T_04bc5_row9_col7\" class=\"data row9 col7\" >True</td>\n",
       "      <td id=\"T_04bc5_row9_col8\" class=\"data row9 col8\" >72,657.16</td>\n",
       "      <td id=\"T_04bc5_row9_col9\" class=\"data row9 col9\" >USD</td>\n",
       "      <td id=\"T_04bc5_row9_col10\" class=\"data row9 col10\" >LIBORUSD3M</td>\n",
       "      <td id=\"T_04bc5_row9_col11\" class=\"data row9 col11\" >1.5033%</td>\n",
       "      <td id=\"T_04bc5_row9_col12\" class=\"data row9 col12\" >0.0000%</td>\n",
       "      <td id=\"T_04bc5_row9_col13\" class=\"data row9 col13\" >1.00</td>\n",
       "      <td id=\"T_04bc5_row9_col14\" class=\"data row9 col14\" >LinAct360</td>\n",
       "    </tr>\n",
       "    <tr>\n",
       "      <th id=\"T_04bc5_level0_row10\" class=\"row_heading level0 row10\" >10</th>\n",
       "      <td id=\"T_04bc5_row10_col0\" class=\"data row10 col0\" >2022-05-12</td>\n",
       "      <td id=\"T_04bc5_row10_col1\" class=\"data row10 col1\" >2022-08-12</td>\n",
       "      <td id=\"T_04bc5_row10_col2\" class=\"data row10 col2\" >2022-05-10</td>\n",
       "      <td id=\"T_04bc5_row10_col3\" class=\"data row10 col3\" >2022-08-12</td>\n",
       "      <td id=\"T_04bc5_row10_col4\" class=\"data row10 col4\" >20,000,000.00</td>\n",
       "      <td id=\"T_04bc5_row10_col5\" class=\"data row10 col5\" >0.00</td>\n",
       "      <td id=\"T_04bc5_row10_col6\" class=\"data row10 col6\" >76,607.00</td>\n",
       "      <td id=\"T_04bc5_row10_col7\" class=\"data row10 col7\" >True</td>\n",
       "      <td id=\"T_04bc5_row10_col8\" class=\"data row10 col8\" >76,607.00</td>\n",
       "      <td id=\"T_04bc5_row10_col9\" class=\"data row10 col9\" >USD</td>\n",
       "      <td id=\"T_04bc5_row10_col10\" class=\"data row10 col10\" >LIBORUSD3M</td>\n",
       "      <td id=\"T_04bc5_row10_col11\" class=\"data row10 col11\" >1.4988%</td>\n",
       "      <td id=\"T_04bc5_row10_col12\" class=\"data row10 col12\" >0.0000%</td>\n",
       "      <td id=\"T_04bc5_row10_col13\" class=\"data row10 col13\" >1.00</td>\n",
       "      <td id=\"T_04bc5_row10_col14\" class=\"data row10 col14\" >LinAct360</td>\n",
       "    </tr>\n",
       "    <tr>\n",
       "      <th id=\"T_04bc5_level0_row11\" class=\"row_heading level0 row11\" >11</th>\n",
       "      <td id=\"T_04bc5_row11_col0\" class=\"data row11 col0\" >2022-08-12</td>\n",
       "      <td id=\"T_04bc5_row11_col1\" class=\"data row11 col1\" >2022-11-14</td>\n",
       "      <td id=\"T_04bc5_row11_col2\" class=\"data row11 col2\" >2022-08-10</td>\n",
       "      <td id=\"T_04bc5_row11_col3\" class=\"data row11 col3\" >2022-11-14</td>\n",
       "      <td id=\"T_04bc5_row11_col4\" class=\"data row11 col4\" >20,000,000.00</td>\n",
       "      <td id=\"T_04bc5_row11_col5\" class=\"data row11 col5\" >0.00</td>\n",
       "      <td id=\"T_04bc5_row11_col6\" class=\"data row11 col6\" >77,567.48</td>\n",
       "      <td id=\"T_04bc5_row11_col7\" class=\"data row11 col7\" >True</td>\n",
       "      <td id=\"T_04bc5_row11_col8\" class=\"data row11 col8\" >77,567.48</td>\n",
       "      <td id=\"T_04bc5_row11_col9\" class=\"data row11 col9\" >USD</td>\n",
       "      <td id=\"T_04bc5_row11_col10\" class=\"data row11 col10\" >LIBORUSD3M</td>\n",
       "      <td id=\"T_04bc5_row11_col11\" class=\"data row11 col11\" >1.4853%</td>\n",
       "      <td id=\"T_04bc5_row11_col12\" class=\"data row11 col12\" >0.0000%</td>\n",
       "      <td id=\"T_04bc5_row11_col13\" class=\"data row11 col13\" >1.00</td>\n",
       "      <td id=\"T_04bc5_row11_col14\" class=\"data row11 col14\" >LinAct360</td>\n",
       "    </tr>\n",
       "    <tr>\n",
       "      <th id=\"T_04bc5_level0_row12\" class=\"row_heading level0 row12\" >12</th>\n",
       "      <td id=\"T_04bc5_row12_col0\" class=\"data row12 col0\" >2022-11-14</td>\n",
       "      <td id=\"T_04bc5_row12_col1\" class=\"data row12 col1\" >2023-02-13</td>\n",
       "      <td id=\"T_04bc5_row12_col2\" class=\"data row12 col2\" >2022-11-10</td>\n",
       "      <td id=\"T_04bc5_row12_col3\" class=\"data row12 col3\" >2023-02-13</td>\n",
       "      <td id=\"T_04bc5_row12_col4\" class=\"data row12 col4\" >20,000,000.00</td>\n",
       "      <td id=\"T_04bc5_row12_col5\" class=\"data row12 col5\" >0.00</td>\n",
       "      <td id=\"T_04bc5_row12_col6\" class=\"data row12 col6\" >74,410.06</td>\n",
       "      <td id=\"T_04bc5_row12_col7\" class=\"data row12 col7\" >True</td>\n",
       "      <td id=\"T_04bc5_row12_col8\" class=\"data row12 col8\" >74,410.06</td>\n",
       "      <td id=\"T_04bc5_row12_col9\" class=\"data row12 col9\" >USD</td>\n",
       "      <td id=\"T_04bc5_row12_col10\" class=\"data row12 col10\" >LIBORUSD3M</td>\n",
       "      <td id=\"T_04bc5_row12_col11\" class=\"data row12 col11\" >1.4718%</td>\n",
       "      <td id=\"T_04bc5_row12_col12\" class=\"data row12 col12\" >0.0000%</td>\n",
       "      <td id=\"T_04bc5_row12_col13\" class=\"data row12 col13\" >1.00</td>\n",
       "      <td id=\"T_04bc5_row12_col14\" class=\"data row12 col14\" >LinAct360</td>\n",
       "    </tr>\n",
       "    <tr>\n",
       "      <th id=\"T_04bc5_level0_row13\" class=\"row_heading level0 row13\" >13</th>\n",
       "      <td id=\"T_04bc5_row13_col0\" class=\"data row13 col0\" >2023-02-13</td>\n",
       "      <td id=\"T_04bc5_row13_col1\" class=\"data row13 col1\" >2023-05-12</td>\n",
       "      <td id=\"T_04bc5_row13_col2\" class=\"data row13 col2\" >2023-02-09</td>\n",
       "      <td id=\"T_04bc5_row13_col3\" class=\"data row13 col3\" >2023-05-12</td>\n",
       "      <td id=\"T_04bc5_row13_col4\" class=\"data row13 col4\" >20,000,000.00</td>\n",
       "      <td id=\"T_04bc5_row13_col5\" class=\"data row13 col5\" >0.00</td>\n",
       "      <td id=\"T_04bc5_row13_col6\" class=\"data row13 col6\" >74,928.43</td>\n",
       "      <td id=\"T_04bc5_row13_col7\" class=\"data row13 col7\" >True</td>\n",
       "      <td id=\"T_04bc5_row13_col8\" class=\"data row13 col8\" >74,928.43</td>\n",
       "      <td id=\"T_04bc5_row13_col9\" class=\"data row13 col9\" >USD</td>\n",
       "      <td id=\"T_04bc5_row13_col10\" class=\"data row13 col10\" >LIBORUSD3M</td>\n",
       "      <td id=\"T_04bc5_row13_col11\" class=\"data row13 col11\" >1.5326%</td>\n",
       "      <td id=\"T_04bc5_row13_col12\" class=\"data row13 col12\" >0.0000%</td>\n",
       "      <td id=\"T_04bc5_row13_col13\" class=\"data row13 col13\" >1.00</td>\n",
       "      <td id=\"T_04bc5_row13_col14\" class=\"data row13 col14\" >LinAct360</td>\n",
       "    </tr>\n",
       "    <tr>\n",
       "      <th id=\"T_04bc5_level0_row14\" class=\"row_heading level0 row14\" >14</th>\n",
       "      <td id=\"T_04bc5_row14_col0\" class=\"data row14 col0\" >2023-05-12</td>\n",
       "      <td id=\"T_04bc5_row14_col1\" class=\"data row14 col1\" >2023-08-14</td>\n",
       "      <td id=\"T_04bc5_row14_col2\" class=\"data row14 col2\" >2023-05-10</td>\n",
       "      <td id=\"T_04bc5_row14_col3\" class=\"data row14 col3\" >2023-08-14</td>\n",
       "      <td id=\"T_04bc5_row14_col4\" class=\"data row14 col4\" >20,000,000.00</td>\n",
       "      <td id=\"T_04bc5_row14_col5\" class=\"data row14 col5\" >0.00</td>\n",
       "      <td id=\"T_04bc5_row14_col6\" class=\"data row14 col6\" >80,562.98</td>\n",
       "      <td id=\"T_04bc5_row14_col7\" class=\"data row14 col7\" >True</td>\n",
       "      <td id=\"T_04bc5_row14_col8\" class=\"data row14 col8\" >80,562.98</td>\n",
       "      <td id=\"T_04bc5_row14_col9\" class=\"data row14 col9\" >USD</td>\n",
       "      <td id=\"T_04bc5_row14_col10\" class=\"data row14 col10\" >LIBORUSD3M</td>\n",
       "      <td id=\"T_04bc5_row14_col11\" class=\"data row14 col11\" >1.5427%</td>\n",
       "      <td id=\"T_04bc5_row14_col12\" class=\"data row14 col12\" >0.0000%</td>\n",
       "      <td id=\"T_04bc5_row14_col13\" class=\"data row14 col13\" >1.00</td>\n",
       "      <td id=\"T_04bc5_row14_col14\" class=\"data row14 col14\" >LinAct360</td>\n",
       "    </tr>\n",
       "    <tr>\n",
       "      <th id=\"T_04bc5_level0_row15\" class=\"row_heading level0 row15\" >15</th>\n",
       "      <td id=\"T_04bc5_row15_col0\" class=\"data row15 col0\" >2023-08-14</td>\n",
       "      <td id=\"T_04bc5_row15_col1\" class=\"data row15 col1\" >2023-11-13</td>\n",
       "      <td id=\"T_04bc5_row15_col2\" class=\"data row15 col2\" >2023-08-10</td>\n",
       "      <td id=\"T_04bc5_row15_col3\" class=\"data row15 col3\" >2023-11-13</td>\n",
       "      <td id=\"T_04bc5_row15_col4\" class=\"data row15 col4\" >20,000,000.00</td>\n",
       "      <td id=\"T_04bc5_row15_col5\" class=\"data row15 col5\" >0.00</td>\n",
       "      <td id=\"T_04bc5_row15_col6\" class=\"data row15 col6\" >77,966.23</td>\n",
       "      <td id=\"T_04bc5_row15_col7\" class=\"data row15 col7\" >True</td>\n",
       "      <td id=\"T_04bc5_row15_col8\" class=\"data row15 col8\" >77,966.23</td>\n",
       "      <td id=\"T_04bc5_row15_col9\" class=\"data row15 col9\" >USD</td>\n",
       "      <td id=\"T_04bc5_row15_col10\" class=\"data row15 col10\" >LIBORUSD3M</td>\n",
       "      <td id=\"T_04bc5_row15_col11\" class=\"data row15 col11\" >1.5422%</td>\n",
       "      <td id=\"T_04bc5_row15_col12\" class=\"data row15 col12\" >0.0000%</td>\n",
       "      <td id=\"T_04bc5_row15_col13\" class=\"data row15 col13\" >1.00</td>\n",
       "      <td id=\"T_04bc5_row15_col14\" class=\"data row15 col14\" >LinAct360</td>\n",
       "    </tr>\n",
       "    <tr>\n",
       "      <th id=\"T_04bc5_level0_row16\" class=\"row_heading level0 row16\" >16</th>\n",
       "      <td id=\"T_04bc5_row16_col0\" class=\"data row16 col0\" >2023-11-13</td>\n",
       "      <td id=\"T_04bc5_row16_col1\" class=\"data row16 col1\" >2024-02-12</td>\n",
       "      <td id=\"T_04bc5_row16_col2\" class=\"data row16 col2\" >2023-11-09</td>\n",
       "      <td id=\"T_04bc5_row16_col3\" class=\"data row16 col3\" >2024-02-12</td>\n",
       "      <td id=\"T_04bc5_row16_col4\" class=\"data row16 col4\" >20,000,000.00</td>\n",
       "      <td id=\"T_04bc5_row16_col5\" class=\"data row16 col5\" >0.00</td>\n",
       "      <td id=\"T_04bc5_row16_col6\" class=\"data row16 col6\" >77,943.52</td>\n",
       "      <td id=\"T_04bc5_row16_col7\" class=\"data row16 col7\" >True</td>\n",
       "      <td id=\"T_04bc5_row16_col8\" class=\"data row16 col8\" >77,943.52</td>\n",
       "      <td id=\"T_04bc5_row16_col9\" class=\"data row16 col9\" >USD</td>\n",
       "      <td id=\"T_04bc5_row16_col10\" class=\"data row16 col10\" >LIBORUSD3M</td>\n",
       "      <td id=\"T_04bc5_row16_col11\" class=\"data row16 col11\" >1.5417%</td>\n",
       "      <td id=\"T_04bc5_row16_col12\" class=\"data row16 col12\" >0.0000%</td>\n",
       "      <td id=\"T_04bc5_row16_col13\" class=\"data row16 col13\" >1.00</td>\n",
       "      <td id=\"T_04bc5_row16_col14\" class=\"data row16 col14\" >LinAct360</td>\n",
       "    </tr>\n",
       "    <tr>\n",
       "      <th id=\"T_04bc5_level0_row17\" class=\"row_heading level0 row17\" >17</th>\n",
       "      <td id=\"T_04bc5_row17_col0\" class=\"data row17 col0\" >2024-02-12</td>\n",
       "      <td id=\"T_04bc5_row17_col1\" class=\"data row17 col1\" >2024-05-13</td>\n",
       "      <td id=\"T_04bc5_row17_col2\" class=\"data row17 col2\" >2024-02-08</td>\n",
       "      <td id=\"T_04bc5_row17_col3\" class=\"data row17 col3\" >2024-05-13</td>\n",
       "      <td id=\"T_04bc5_row17_col4\" class=\"data row17 col4\" >20,000,000.00</td>\n",
       "      <td id=\"T_04bc5_row17_col5\" class=\"data row17 col5\" >0.00</td>\n",
       "      <td id=\"T_04bc5_row17_col6\" class=\"data row17 col6\" >80,765.17</td>\n",
       "      <td id=\"T_04bc5_row17_col7\" class=\"data row17 col7\" >True</td>\n",
       "      <td id=\"T_04bc5_row17_col8\" class=\"data row17 col8\" >80,765.17</td>\n",
       "      <td id=\"T_04bc5_row17_col9\" class=\"data row17 col9\" >USD</td>\n",
       "      <td id=\"T_04bc5_row17_col10\" class=\"data row17 col10\" >LIBORUSD3M</td>\n",
       "      <td id=\"T_04bc5_row17_col11\" class=\"data row17 col11\" >1.5976%</td>\n",
       "      <td id=\"T_04bc5_row17_col12\" class=\"data row17 col12\" >0.0000%</td>\n",
       "      <td id=\"T_04bc5_row17_col13\" class=\"data row17 col13\" >1.00</td>\n",
       "      <td id=\"T_04bc5_row17_col14\" class=\"data row17 col14\" >LinAct360</td>\n",
       "    </tr>\n",
       "    <tr>\n",
       "      <th id=\"T_04bc5_level0_row18\" class=\"row_heading level0 row18\" >18</th>\n",
       "      <td id=\"T_04bc5_row18_col0\" class=\"data row18 col0\" >2024-05-13</td>\n",
       "      <td id=\"T_04bc5_row18_col1\" class=\"data row18 col1\" >2024-08-12</td>\n",
       "      <td id=\"T_04bc5_row18_col2\" class=\"data row18 col2\" >2024-05-09</td>\n",
       "      <td id=\"T_04bc5_row18_col3\" class=\"data row18 col3\" >2024-08-12</td>\n",
       "      <td id=\"T_04bc5_row18_col4\" class=\"data row18 col4\" >20,000,000.00</td>\n",
       "      <td id=\"T_04bc5_row18_col5\" class=\"data row18 col5\" >0.00</td>\n",
       "      <td id=\"T_04bc5_row18_col6\" class=\"data row18 col6\" >81,557.64</td>\n",
       "      <td id=\"T_04bc5_row18_col7\" class=\"data row18 col7\" >True</td>\n",
       "      <td id=\"T_04bc5_row18_col8\" class=\"data row18 col8\" >81,557.64</td>\n",
       "      <td id=\"T_04bc5_row18_col9\" class=\"data row18 col9\" >USD</td>\n",
       "      <td id=\"T_04bc5_row18_col10\" class=\"data row18 col10\" >LIBORUSD3M</td>\n",
       "      <td id=\"T_04bc5_row18_col11\" class=\"data row18 col11\" >1.6132%</td>\n",
       "      <td id=\"T_04bc5_row18_col12\" class=\"data row18 col12\" >0.0000%</td>\n",
       "      <td id=\"T_04bc5_row18_col13\" class=\"data row18 col13\" >1.00</td>\n",
       "      <td id=\"T_04bc5_row18_col14\" class=\"data row18 col14\" >LinAct360</td>\n",
       "    </tr>\n",
       "    <tr>\n",
       "      <th id=\"T_04bc5_level0_row19\" class=\"row_heading level0 row19\" >19</th>\n",
       "      <td id=\"T_04bc5_row19_col0\" class=\"data row19 col0\" >2024-08-12</td>\n",
       "      <td id=\"T_04bc5_row19_col1\" class=\"data row19 col1\" >2024-11-12</td>\n",
       "      <td id=\"T_04bc5_row19_col2\" class=\"data row19 col2\" >2024-08-08</td>\n",
       "      <td id=\"T_04bc5_row19_col3\" class=\"data row19 col3\" >2024-11-12</td>\n",
       "      <td id=\"T_04bc5_row19_col4\" class=\"data row19 col4\" >20,000,000.00</td>\n",
       "      <td id=\"T_04bc5_row19_col5\" class=\"data row19 col5\" >0.00</td>\n",
       "      <td id=\"T_04bc5_row19_col6\" class=\"data row19 col6\" >82,792.65</td>\n",
       "      <td id=\"T_04bc5_row19_col7\" class=\"data row19 col7\" >True</td>\n",
       "      <td id=\"T_04bc5_row19_col8\" class=\"data row19 col8\" >82,792.65</td>\n",
       "      <td id=\"T_04bc5_row19_col9\" class=\"data row19 col9\" >USD</td>\n",
       "      <td id=\"T_04bc5_row19_col10\" class=\"data row19 col10\" >LIBORUSD3M</td>\n",
       "      <td id=\"T_04bc5_row19_col11\" class=\"data row19 col11\" >1.6199%</td>\n",
       "      <td id=\"T_04bc5_row19_col12\" class=\"data row19 col12\" >0.0000%</td>\n",
       "      <td id=\"T_04bc5_row19_col13\" class=\"data row19 col13\" >1.00</td>\n",
       "      <td id=\"T_04bc5_row19_col14\" class=\"data row19 col14\" >LinAct360</td>\n",
       "    </tr>\n",
       "    <tr>\n",
       "      <th id=\"T_04bc5_level0_row20\" class=\"row_heading level0 row20\" >20</th>\n",
       "      <td id=\"T_04bc5_row20_col0\" class=\"data row20 col0\" >2024-11-12</td>\n",
       "      <td id=\"T_04bc5_row20_col1\" class=\"data row20 col1\" >2025-02-12</td>\n",
       "      <td id=\"T_04bc5_row20_col2\" class=\"data row20 col2\" >2024-11-08</td>\n",
       "      <td id=\"T_04bc5_row20_col3\" class=\"data row20 col3\" >2025-02-12</td>\n",
       "      <td id=\"T_04bc5_row20_col4\" class=\"data row20 col4\" >20,000,000.00</td>\n",
       "      <td id=\"T_04bc5_row20_col5\" class=\"data row20 col5\" >0.00</td>\n",
       "      <td id=\"T_04bc5_row20_col6\" class=\"data row20 col6\" >83,129.55</td>\n",
       "      <td id=\"T_04bc5_row20_col7\" class=\"data row20 col7\" >True</td>\n",
       "      <td id=\"T_04bc5_row20_col8\" class=\"data row20 col8\" >83,129.55</td>\n",
       "      <td id=\"T_04bc5_row20_col9\" class=\"data row20 col9\" >USD</td>\n",
       "      <td id=\"T_04bc5_row20_col10\" class=\"data row20 col10\" >LIBORUSD3M</td>\n",
       "      <td id=\"T_04bc5_row20_col11\" class=\"data row20 col11\" >1.6264%</td>\n",
       "      <td id=\"T_04bc5_row20_col12\" class=\"data row20 col12\" >0.0000%</td>\n",
       "      <td id=\"T_04bc5_row20_col13\" class=\"data row20 col13\" >1.00</td>\n",
       "      <td id=\"T_04bc5_row20_col14\" class=\"data row20 col14\" >LinAct360</td>\n",
       "    </tr>\n",
       "    <tr>\n",
       "      <th id=\"T_04bc5_level0_row21\" class=\"row_heading level0 row21\" >21</th>\n",
       "      <td id=\"T_04bc5_row21_col0\" class=\"data row21 col0\" >2025-02-12</td>\n",
       "      <td id=\"T_04bc5_row21_col1\" class=\"data row21 col1\" >2025-05-12</td>\n",
       "      <td id=\"T_04bc5_row21_col2\" class=\"data row21 col2\" >2025-02-10</td>\n",
       "      <td id=\"T_04bc5_row21_col3\" class=\"data row21 col3\" >2025-05-12</td>\n",
       "      <td id=\"T_04bc5_row21_col4\" class=\"data row21 col4\" >20,000,000.00</td>\n",
       "      <td id=\"T_04bc5_row21_col5\" class=\"data row21 col5\" >0.00</td>\n",
       "      <td id=\"T_04bc5_row21_col6\" class=\"data row21 col6\" >83,469.23</td>\n",
       "      <td id=\"T_04bc5_row21_col7\" class=\"data row21 col7\" >True</td>\n",
       "      <td id=\"T_04bc5_row21_col8\" class=\"data row21 col8\" >83,469.23</td>\n",
       "      <td id=\"T_04bc5_row21_col9\" class=\"data row21 col9\" >USD</td>\n",
       "      <td id=\"T_04bc5_row21_col10\" class=\"data row21 col10\" >LIBORUSD3M</td>\n",
       "      <td id=\"T_04bc5_row21_col11\" class=\"data row21 col11\" >1.6881%</td>\n",
       "      <td id=\"T_04bc5_row21_col12\" class=\"data row21 col12\" >0.0000%</td>\n",
       "      <td id=\"T_04bc5_row21_col13\" class=\"data row21 col13\" >1.00</td>\n",
       "      <td id=\"T_04bc5_row21_col14\" class=\"data row21 col14\" >LinAct360</td>\n",
       "    </tr>\n",
       "    <tr>\n",
       "      <th id=\"T_04bc5_level0_row22\" class=\"row_heading level0 row22\" >22</th>\n",
       "      <td id=\"T_04bc5_row22_col0\" class=\"data row22 col0\" >2025-05-12</td>\n",
       "      <td id=\"T_04bc5_row22_col1\" class=\"data row22 col1\" >2025-08-12</td>\n",
       "      <td id=\"T_04bc5_row22_col2\" class=\"data row22 col2\" >2025-05-08</td>\n",
       "      <td id=\"T_04bc5_row22_col3\" class=\"data row22 col3\" >2025-08-12</td>\n",
       "      <td id=\"T_04bc5_row22_col4\" class=\"data row22 col4\" >20,000,000.00</td>\n",
       "      <td id=\"T_04bc5_row22_col5\" class=\"data row22 col5\" >0.00</td>\n",
       "      <td id=\"T_04bc5_row22_col6\" class=\"data row22 col6\" >87,360.07</td>\n",
       "      <td id=\"T_04bc5_row22_col7\" class=\"data row22 col7\" >True</td>\n",
       "      <td id=\"T_04bc5_row22_col8\" class=\"data row22 col8\" >87,360.07</td>\n",
       "      <td id=\"T_04bc5_row22_col9\" class=\"data row22 col9\" >USD</td>\n",
       "      <td id=\"T_04bc5_row22_col10\" class=\"data row22 col10\" >LIBORUSD3M</td>\n",
       "      <td id=\"T_04bc5_row22_col11\" class=\"data row22 col11\" >1.7092%</td>\n",
       "      <td id=\"T_04bc5_row22_col12\" class=\"data row22 col12\" >0.0000%</td>\n",
       "      <td id=\"T_04bc5_row22_col13\" class=\"data row22 col13\" >1.00</td>\n",
       "      <td id=\"T_04bc5_row22_col14\" class=\"data row22 col14\" >LinAct360</td>\n",
       "    </tr>\n",
       "    <tr>\n",
       "      <th id=\"T_04bc5_level0_row23\" class=\"row_heading level0 row23\" >23</th>\n",
       "      <td id=\"T_04bc5_row23_col0\" class=\"data row23 col0\" >2025-08-12</td>\n",
       "      <td id=\"T_04bc5_row23_col1\" class=\"data row23 col1\" >2025-11-12</td>\n",
       "      <td id=\"T_04bc5_row23_col2\" class=\"data row23 col2\" >2025-08-08</td>\n",
       "      <td id=\"T_04bc5_row23_col3\" class=\"data row23 col3\" >2025-11-12</td>\n",
       "      <td id=\"T_04bc5_row23_col4\" class=\"data row23 col4\" >20,000,000.00</td>\n",
       "      <td id=\"T_04bc5_row23_col5\" class=\"data row23 col5\" >0.00</td>\n",
       "      <td id=\"T_04bc5_row23_col6\" class=\"data row23 col6\" >87,967.87</td>\n",
       "      <td id=\"T_04bc5_row23_col7\" class=\"data row23 col7\" >True</td>\n",
       "      <td id=\"T_04bc5_row23_col8\" class=\"data row23 col8\" >87,967.87</td>\n",
       "      <td id=\"T_04bc5_row23_col9\" class=\"data row23 col9\" >USD</td>\n",
       "      <td id=\"T_04bc5_row23_col10\" class=\"data row23 col10\" >LIBORUSD3M</td>\n",
       "      <td id=\"T_04bc5_row23_col11\" class=\"data row23 col11\" >1.7211%</td>\n",
       "      <td id=\"T_04bc5_row23_col12\" class=\"data row23 col12\" >0.0000%</td>\n",
       "      <td id=\"T_04bc5_row23_col13\" class=\"data row23 col13\" >1.00</td>\n",
       "      <td id=\"T_04bc5_row23_col14\" class=\"data row23 col14\" >LinAct360</td>\n",
       "    </tr>\n",
       "    <tr>\n",
       "      <th id=\"T_04bc5_level0_row24\" class=\"row_heading level0 row24\" >24</th>\n",
       "      <td id=\"T_04bc5_row24_col0\" class=\"data row24 col0\" >2025-11-12</td>\n",
       "      <td id=\"T_04bc5_row24_col1\" class=\"data row24 col1\" >2026-02-12</td>\n",
       "      <td id=\"T_04bc5_row24_col2\" class=\"data row24 col2\" >2025-11-10</td>\n",
       "      <td id=\"T_04bc5_row24_col3\" class=\"data row24 col3\" >2026-02-12</td>\n",
       "      <td id=\"T_04bc5_row24_col4\" class=\"data row24 col4\" >20,000,000.00</td>\n",
       "      <td id=\"T_04bc5_row24_col5\" class=\"data row24 col5\" >0.00</td>\n",
       "      <td id=\"T_04bc5_row24_col6\" class=\"data row24 col6\" >88,566.05</td>\n",
       "      <td id=\"T_04bc5_row24_col7\" class=\"data row24 col7\" >True</td>\n",
       "      <td id=\"T_04bc5_row24_col8\" class=\"data row24 col8\" >88,566.05</td>\n",
       "      <td id=\"T_04bc5_row24_col9\" class=\"data row24 col9\" >USD</td>\n",
       "      <td id=\"T_04bc5_row24_col10\" class=\"data row24 col10\" >LIBORUSD3M</td>\n",
       "      <td id=\"T_04bc5_row24_col11\" class=\"data row24 col11\" >1.7328%</td>\n",
       "      <td id=\"T_04bc5_row24_col12\" class=\"data row24 col12\" >0.0000%</td>\n",
       "      <td id=\"T_04bc5_row24_col13\" class=\"data row24 col13\" >1.00</td>\n",
       "      <td id=\"T_04bc5_row24_col14\" class=\"data row24 col14\" >LinAct360</td>\n",
       "    </tr>\n",
       "    <tr>\n",
       "      <th id=\"T_04bc5_level0_row25\" class=\"row_heading level0 row25\" >25</th>\n",
       "      <td id=\"T_04bc5_row25_col0\" class=\"data row25 col0\" >2026-02-12</td>\n",
       "      <td id=\"T_04bc5_row25_col1\" class=\"data row25 col1\" >2026-05-12</td>\n",
       "      <td id=\"T_04bc5_row25_col2\" class=\"data row25 col2\" >2026-02-10</td>\n",
       "      <td id=\"T_04bc5_row25_col3\" class=\"data row25 col3\" >2026-05-12</td>\n",
       "      <td id=\"T_04bc5_row25_col4\" class=\"data row25 col4\" >20,000,000.00</td>\n",
       "      <td id=\"T_04bc5_row25_col5\" class=\"data row25 col5\" >0.00</td>\n",
       "      <td id=\"T_04bc5_row25_col6\" class=\"data row25 col6\" >86,231.99</td>\n",
       "      <td id=\"T_04bc5_row25_col7\" class=\"data row25 col7\" >True</td>\n",
       "      <td id=\"T_04bc5_row25_col8\" class=\"data row25 col8\" >86,231.99</td>\n",
       "      <td id=\"T_04bc5_row25_col9\" class=\"data row25 col9\" >USD</td>\n",
       "      <td id=\"T_04bc5_row25_col10\" class=\"data row25 col10\" >LIBORUSD3M</td>\n",
       "      <td id=\"T_04bc5_row25_col11\" class=\"data row25 col11\" >1.7440%</td>\n",
       "      <td id=\"T_04bc5_row25_col12\" class=\"data row25 col12\" >0.0000%</td>\n",
       "      <td id=\"T_04bc5_row25_col13\" class=\"data row25 col13\" >1.00</td>\n",
       "      <td id=\"T_04bc5_row25_col14\" class=\"data row25 col14\" >LinAct360</td>\n",
       "    </tr>\n",
       "    <tr>\n",
       "      <th id=\"T_04bc5_level0_row26\" class=\"row_heading level0 row26\" >26</th>\n",
       "      <td id=\"T_04bc5_row26_col0\" class=\"data row26 col0\" >2026-05-12</td>\n",
       "      <td id=\"T_04bc5_row26_col1\" class=\"data row26 col1\" >2026-08-12</td>\n",
       "      <td id=\"T_04bc5_row26_col2\" class=\"data row26 col2\" >2026-05-08</td>\n",
       "      <td id=\"T_04bc5_row26_col3\" class=\"data row26 col3\" >2026-08-12</td>\n",
       "      <td id=\"T_04bc5_row26_col4\" class=\"data row26 col4\" >20,000,000.00</td>\n",
       "      <td id=\"T_04bc5_row26_col5\" class=\"data row26 col5\" >0.00</td>\n",
       "      <td id=\"T_04bc5_row26_col6\" class=\"data row26 col6\" >89,714.97</td>\n",
       "      <td id=\"T_04bc5_row26_col7\" class=\"data row26 col7\" >True</td>\n",
       "      <td id=\"T_04bc5_row26_col8\" class=\"data row26 col8\" >89,714.97</td>\n",
       "      <td id=\"T_04bc5_row26_col9\" class=\"data row26 col9\" >USD</td>\n",
       "      <td id=\"T_04bc5_row26_col10\" class=\"data row26 col10\" >LIBORUSD3M</td>\n",
       "      <td id=\"T_04bc5_row26_col11\" class=\"data row26 col11\" >1.7553%</td>\n",
       "      <td id=\"T_04bc5_row26_col12\" class=\"data row26 col12\" >0.0000%</td>\n",
       "      <td id=\"T_04bc5_row26_col13\" class=\"data row26 col13\" >1.00</td>\n",
       "      <td id=\"T_04bc5_row26_col14\" class=\"data row26 col14\" >LinAct360</td>\n",
       "    </tr>\n",
       "    <tr>\n",
       "      <th id=\"T_04bc5_level0_row27\" class=\"row_heading level0 row27\" >27</th>\n",
       "      <td id=\"T_04bc5_row27_col0\" class=\"data row27 col0\" >2026-08-12</td>\n",
       "      <td id=\"T_04bc5_row27_col1\" class=\"data row27 col1\" >2026-11-12</td>\n",
       "      <td id=\"T_04bc5_row27_col2\" class=\"data row27 col2\" >2026-08-10</td>\n",
       "      <td id=\"T_04bc5_row27_col3\" class=\"data row27 col3\" >2026-11-12</td>\n",
       "      <td id=\"T_04bc5_row27_col4\" class=\"data row27 col4\" >20,000,000.00</td>\n",
       "      <td id=\"T_04bc5_row27_col5\" class=\"data row27 col5\" >0.00</td>\n",
       "      <td id=\"T_04bc5_row27_col6\" class=\"data row27 col6\" >90,284.84</td>\n",
       "      <td id=\"T_04bc5_row27_col7\" class=\"data row27 col7\" >True</td>\n",
       "      <td id=\"T_04bc5_row27_col8\" class=\"data row27 col8\" >90,284.84</td>\n",
       "      <td id=\"T_04bc5_row27_col9\" class=\"data row27 col9\" >USD</td>\n",
       "      <td id=\"T_04bc5_row27_col10\" class=\"data row27 col10\" >LIBORUSD3M</td>\n",
       "      <td id=\"T_04bc5_row27_col11\" class=\"data row27 col11\" >1.7664%</td>\n",
       "      <td id=\"T_04bc5_row27_col12\" class=\"data row27 col12\" >0.0000%</td>\n",
       "      <td id=\"T_04bc5_row27_col13\" class=\"data row27 col13\" >1.00</td>\n",
       "      <td id=\"T_04bc5_row27_col14\" class=\"data row27 col14\" >LinAct360</td>\n",
       "    </tr>\n",
       "    <tr>\n",
       "      <th id=\"T_04bc5_level0_row28\" class=\"row_heading level0 row28\" >28</th>\n",
       "      <td id=\"T_04bc5_row28_col0\" class=\"data row28 col0\" >2026-11-12</td>\n",
       "      <td id=\"T_04bc5_row28_col1\" class=\"data row28 col1\" >2027-02-12</td>\n",
       "      <td id=\"T_04bc5_row28_col2\" class=\"data row28 col2\" >2026-11-10</td>\n",
       "      <td id=\"T_04bc5_row28_col3\" class=\"data row28 col3\" >2027-02-12</td>\n",
       "      <td id=\"T_04bc5_row28_col4\" class=\"data row28 col4\" >20,000,000.00</td>\n",
       "      <td id=\"T_04bc5_row28_col5\" class=\"data row28 col5\" >0.00</td>\n",
       "      <td id=\"T_04bc5_row28_col6\" class=\"data row28 col6\" >90,845.26</td>\n",
       "      <td id=\"T_04bc5_row28_col7\" class=\"data row28 col7\" >True</td>\n",
       "      <td id=\"T_04bc5_row28_col8\" class=\"data row28 col8\" >90,845.26</td>\n",
       "      <td id=\"T_04bc5_row28_col9\" class=\"data row28 col9\" >USD</td>\n",
       "      <td id=\"T_04bc5_row28_col10\" class=\"data row28 col10\" >LIBORUSD3M</td>\n",
       "      <td id=\"T_04bc5_row28_col11\" class=\"data row28 col11\" >1.7774%</td>\n",
       "      <td id=\"T_04bc5_row28_col12\" class=\"data row28 col12\" >0.0000%</td>\n",
       "      <td id=\"T_04bc5_row28_col13\" class=\"data row28 col13\" >1.00</td>\n",
       "      <td id=\"T_04bc5_row28_col14\" class=\"data row28 col14\" >LinAct360</td>\n",
       "    </tr>\n",
       "    <tr>\n",
       "      <th id=\"T_04bc5_level0_row29\" class=\"row_heading level0 row29\" >29</th>\n",
       "      <td id=\"T_04bc5_row29_col0\" class=\"data row29 col0\" >2027-02-12</td>\n",
       "      <td id=\"T_04bc5_row29_col1\" class=\"data row29 col1\" >2027-05-12</td>\n",
       "      <td id=\"T_04bc5_row29_col2\" class=\"data row29 col2\" >2027-02-10</td>\n",
       "      <td id=\"T_04bc5_row29_col3\" class=\"data row29 col3\" >2027-05-12</td>\n",
       "      <td id=\"T_04bc5_row29_col4\" class=\"data row29 col4\" >20,000,000.00</td>\n",
       "      <td id=\"T_04bc5_row29_col5\" class=\"data row29 col5\" >0.00</td>\n",
       "      <td id=\"T_04bc5_row29_col6\" class=\"data row29 col6\" >90,645.79</td>\n",
       "      <td id=\"T_04bc5_row29_col7\" class=\"data row29 col7\" >True</td>\n",
       "      <td id=\"T_04bc5_row29_col8\" class=\"data row29 col8\" >90,645.79</td>\n",
       "      <td id=\"T_04bc5_row29_col9\" class=\"data row29 col9\" >USD</td>\n",
       "      <td id=\"T_04bc5_row29_col10\" class=\"data row29 col10\" >LIBORUSD3M</td>\n",
       "      <td id=\"T_04bc5_row29_col11\" class=\"data row29 col11\" >1.8333%</td>\n",
       "      <td id=\"T_04bc5_row29_col12\" class=\"data row29 col12\" >0.0000%</td>\n",
       "      <td id=\"T_04bc5_row29_col13\" class=\"data row29 col13\" >1.00</td>\n",
       "      <td id=\"T_04bc5_row29_col14\" class=\"data row29 col14\" >LinAct360</td>\n",
       "    </tr>\n",
       "    <tr>\n",
       "      <th id=\"T_04bc5_level0_row30\" class=\"row_heading level0 row30\" >30</th>\n",
       "      <td id=\"T_04bc5_row30_col0\" class=\"data row30 col0\" >2027-05-12</td>\n",
       "      <td id=\"T_04bc5_row30_col1\" class=\"data row30 col1\" >2027-08-12</td>\n",
       "      <td id=\"T_04bc5_row30_col2\" class=\"data row30 col2\" >2027-05-10</td>\n",
       "      <td id=\"T_04bc5_row30_col3\" class=\"data row30 col3\" >2027-08-12</td>\n",
       "      <td id=\"T_04bc5_row30_col4\" class=\"data row30 col4\" >20,000,000.00</td>\n",
       "      <td id=\"T_04bc5_row30_col5\" class=\"data row30 col5\" >0.00</td>\n",
       "      <td id=\"T_04bc5_row30_col6\" class=\"data row30 col6\" >94,825.45</td>\n",
       "      <td id=\"T_04bc5_row30_col7\" class=\"data row30 col7\" >True</td>\n",
       "      <td id=\"T_04bc5_row30_col8\" class=\"data row30 col8\" >94,825.45</td>\n",
       "      <td id=\"T_04bc5_row30_col9\" class=\"data row30 col9\" >USD</td>\n",
       "      <td id=\"T_04bc5_row30_col10\" class=\"data row30 col10\" >LIBORUSD3M</td>\n",
       "      <td id=\"T_04bc5_row30_col11\" class=\"data row30 col11\" >1.8553%</td>\n",
       "      <td id=\"T_04bc5_row30_col12\" class=\"data row30 col12\" >0.0000%</td>\n",
       "      <td id=\"T_04bc5_row30_col13\" class=\"data row30 col13\" >1.00</td>\n",
       "      <td id=\"T_04bc5_row30_col14\" class=\"data row30 col14\" >LinAct360</td>\n",
       "    </tr>\n",
       "    <tr>\n",
       "      <th id=\"T_04bc5_level0_row31\" class=\"row_heading level0 row31\" >31</th>\n",
       "      <td id=\"T_04bc5_row31_col0\" class=\"data row31 col0\" >2027-08-12</td>\n",
       "      <td id=\"T_04bc5_row31_col1\" class=\"data row31 col1\" >2027-11-12</td>\n",
       "      <td id=\"T_04bc5_row31_col2\" class=\"data row31 col2\" >2027-08-10</td>\n",
       "      <td id=\"T_04bc5_row31_col3\" class=\"data row31 col3\" >2027-11-12</td>\n",
       "      <td id=\"T_04bc5_row31_col4\" class=\"data row31 col4\" >20,000,000.00</td>\n",
       "      <td id=\"T_04bc5_row31_col5\" class=\"data row31 col5\" >0.00</td>\n",
       "      <td id=\"T_04bc5_row31_col6\" class=\"data row31 col6\" >95,521.58</td>\n",
       "      <td id=\"T_04bc5_row31_col7\" class=\"data row31 col7\" >True</td>\n",
       "      <td id=\"T_04bc5_row31_col8\" class=\"data row31 col8\" >95,521.58</td>\n",
       "      <td id=\"T_04bc5_row31_col9\" class=\"data row31 col9\" >USD</td>\n",
       "      <td id=\"T_04bc5_row31_col10\" class=\"data row31 col10\" >LIBORUSD3M</td>\n",
       "      <td id=\"T_04bc5_row31_col11\" class=\"data row31 col11\" >1.8689%</td>\n",
       "      <td id=\"T_04bc5_row31_col12\" class=\"data row31 col12\" >0.0000%</td>\n",
       "      <td id=\"T_04bc5_row31_col13\" class=\"data row31 col13\" >1.00</td>\n",
       "      <td id=\"T_04bc5_row31_col14\" class=\"data row31 col14\" >LinAct360</td>\n",
       "    </tr>\n",
       "    <tr>\n",
       "      <th id=\"T_04bc5_level0_row32\" class=\"row_heading level0 row32\" >32</th>\n",
       "      <td id=\"T_04bc5_row32_col0\" class=\"data row32 col0\" >2027-11-12</td>\n",
       "      <td id=\"T_04bc5_row32_col1\" class=\"data row32 col1\" >2028-02-14</td>\n",
       "      <td id=\"T_04bc5_row32_col2\" class=\"data row32 col2\" >2027-11-10</td>\n",
       "      <td id=\"T_04bc5_row32_col3\" class=\"data row32 col3\" >2028-02-14</td>\n",
       "      <td id=\"T_04bc5_row32_col4\" class=\"data row32 col4\" >20,000,000.00</td>\n",
       "      <td id=\"T_04bc5_row32_col5\" class=\"data row32 col5\" >0.00</td>\n",
       "      <td id=\"T_04bc5_row32_col6\" class=\"data row32 col6\" >98,309.76</td>\n",
       "      <td id=\"T_04bc5_row32_col7\" class=\"data row32 col7\" >True</td>\n",
       "      <td id=\"T_04bc5_row32_col8\" class=\"data row32 col8\" >98,309.76</td>\n",
       "      <td id=\"T_04bc5_row32_col9\" class=\"data row32 col9\" >USD</td>\n",
       "      <td id=\"T_04bc5_row32_col10\" class=\"data row32 col10\" >LIBORUSD3M</td>\n",
       "      <td id=\"T_04bc5_row32_col11\" class=\"data row32 col11\" >1.8825%</td>\n",
       "      <td id=\"T_04bc5_row32_col12\" class=\"data row32 col12\" >0.0000%</td>\n",
       "      <td id=\"T_04bc5_row32_col13\" class=\"data row32 col13\" >1.00</td>\n",
       "      <td id=\"T_04bc5_row32_col14\" class=\"data row32 col14\" >LinAct360</td>\n",
       "    </tr>\n",
       "    <tr>\n",
       "      <th id=\"T_04bc5_level0_row33\" class=\"row_heading level0 row33\" >33</th>\n",
       "      <td id=\"T_04bc5_row33_col0\" class=\"data row33 col0\" >2028-02-14</td>\n",
       "      <td id=\"T_04bc5_row33_col1\" class=\"data row33 col1\" >2028-05-12</td>\n",
       "      <td id=\"T_04bc5_row33_col2\" class=\"data row33 col2\" >2028-02-10</td>\n",
       "      <td id=\"T_04bc5_row33_col3\" class=\"data row33 col3\" >2028-05-12</td>\n",
       "      <td id=\"T_04bc5_row33_col4\" class=\"data row33 col4\" >20,000,000.00</td>\n",
       "      <td id=\"T_04bc5_row33_col5\" class=\"data row33 col5\" >0.00</td>\n",
       "      <td id=\"T_04bc5_row33_col6\" class=\"data row33 col6\" >92,673.72</td>\n",
       "      <td id=\"T_04bc5_row33_col7\" class=\"data row33 col7\" >True</td>\n",
       "      <td id=\"T_04bc5_row33_col8\" class=\"data row33 col8\" >92,673.72</td>\n",
       "      <td id=\"T_04bc5_row33_col9\" class=\"data row33 col9\" >USD</td>\n",
       "      <td id=\"T_04bc5_row33_col10\" class=\"data row33 col10\" >LIBORUSD3M</td>\n",
       "      <td id=\"T_04bc5_row33_col11\" class=\"data row33 col11\" >1.8956%</td>\n",
       "      <td id=\"T_04bc5_row33_col12\" class=\"data row33 col12\" >0.0000%</td>\n",
       "      <td id=\"T_04bc5_row33_col13\" class=\"data row33 col13\" >1.00</td>\n",
       "      <td id=\"T_04bc5_row33_col14\" class=\"data row33 col14\" >LinAct360</td>\n",
       "    </tr>\n",
       "    <tr>\n",
       "      <th id=\"T_04bc5_level0_row34\" class=\"row_heading level0 row34\" >34</th>\n",
       "      <td id=\"T_04bc5_row34_col0\" class=\"data row34 col0\" >2028-05-12</td>\n",
       "      <td id=\"T_04bc5_row34_col1\" class=\"data row34 col1\" >2028-08-14</td>\n",
       "      <td id=\"T_04bc5_row34_col2\" class=\"data row34 col2\" >2028-05-10</td>\n",
       "      <td id=\"T_04bc5_row34_col3\" class=\"data row34 col3\" >2028-08-14</td>\n",
       "      <td id=\"T_04bc5_row34_col4\" class=\"data row34 col4\" >20,000,000.00</td>\n",
       "      <td id=\"T_04bc5_row34_col5\" class=\"data row34 col5\" >0.00</td>\n",
       "      <td id=\"T_04bc5_row34_col6\" class=\"data row34 col6\" >99,656.47</td>\n",
       "      <td id=\"T_04bc5_row34_col7\" class=\"data row34 col7\" >True</td>\n",
       "      <td id=\"T_04bc5_row34_col8\" class=\"data row34 col8\" >99,656.47</td>\n",
       "      <td id=\"T_04bc5_row34_col9\" class=\"data row34 col9\" >USD</td>\n",
       "      <td id=\"T_04bc5_row34_col10\" class=\"data row34 col10\" >LIBORUSD3M</td>\n",
       "      <td id=\"T_04bc5_row34_col11\" class=\"data row34 col11\" >1.9083%</td>\n",
       "      <td id=\"T_04bc5_row34_col12\" class=\"data row34 col12\" >0.0000%</td>\n",
       "      <td id=\"T_04bc5_row34_col13\" class=\"data row34 col13\" >1.00</td>\n",
       "      <td id=\"T_04bc5_row34_col14\" class=\"data row34 col14\" >LinAct360</td>\n",
       "    </tr>\n",
       "    <tr>\n",
       "      <th id=\"T_04bc5_level0_row35\" class=\"row_heading level0 row35\" >35</th>\n",
       "      <td id=\"T_04bc5_row35_col0\" class=\"data row35 col0\" >2028-08-14</td>\n",
       "      <td id=\"T_04bc5_row35_col1\" class=\"data row35 col1\" >2028-11-13</td>\n",
       "      <td id=\"T_04bc5_row35_col2\" class=\"data row35 col2\" >2028-08-10</td>\n",
       "      <td id=\"T_04bc5_row35_col3\" class=\"data row35 col3\" >2028-11-13</td>\n",
       "      <td id=\"T_04bc5_row35_col4\" class=\"data row35 col4\" >20,000,000.00</td>\n",
       "      <td id=\"T_04bc5_row35_col5\" class=\"data row35 col5\" >0.00</td>\n",
       "      <td id=\"T_04bc5_row35_col6\" class=\"data row35 col6\" >97,119.25</td>\n",
       "      <td id=\"T_04bc5_row35_col7\" class=\"data row35 col7\" >True</td>\n",
       "      <td id=\"T_04bc5_row35_col8\" class=\"data row35 col8\" >97,119.25</td>\n",
       "      <td id=\"T_04bc5_row35_col9\" class=\"data row35 col9\" >USD</td>\n",
       "      <td id=\"T_04bc5_row35_col10\" class=\"data row35 col10\" >LIBORUSD3M</td>\n",
       "      <td id=\"T_04bc5_row35_col11\" class=\"data row35 col11\" >1.9210%</td>\n",
       "      <td id=\"T_04bc5_row35_col12\" class=\"data row35 col12\" >0.0000%</td>\n",
       "      <td id=\"T_04bc5_row35_col13\" class=\"data row35 col13\" >1.00</td>\n",
       "      <td id=\"T_04bc5_row35_col14\" class=\"data row35 col14\" >LinAct360</td>\n",
       "    </tr>\n",
       "    <tr>\n",
       "      <th id=\"T_04bc5_level0_row36\" class=\"row_heading level0 row36\" >36</th>\n",
       "      <td id=\"T_04bc5_row36_col0\" class=\"data row36 col0\" >2028-11-13</td>\n",
       "      <td id=\"T_04bc5_row36_col1\" class=\"data row36 col1\" >2029-02-12</td>\n",
       "      <td id=\"T_04bc5_row36_col2\" class=\"data row36 col2\" >2028-11-09</td>\n",
       "      <td id=\"T_04bc5_row36_col3\" class=\"data row36 col3\" >2029-02-12</td>\n",
       "      <td id=\"T_04bc5_row36_col4\" class=\"data row36 col4\" >20,000,000.00</td>\n",
       "      <td id=\"T_04bc5_row36_col5\" class=\"data row36 col5\" >0.00</td>\n",
       "      <td id=\"T_04bc5_row36_col6\" class=\"data row36 col6\" >97,742.18</td>\n",
       "      <td id=\"T_04bc5_row36_col7\" class=\"data row36 col7\" >True</td>\n",
       "      <td id=\"T_04bc5_row36_col8\" class=\"data row36 col8\" >97,742.18</td>\n",
       "      <td id=\"T_04bc5_row36_col9\" class=\"data row36 col9\" >USD</td>\n",
       "      <td id=\"T_04bc5_row36_col10\" class=\"data row36 col10\" >LIBORUSD3M</td>\n",
       "      <td id=\"T_04bc5_row36_col11\" class=\"data row36 col11\" >1.9334%</td>\n",
       "      <td id=\"T_04bc5_row36_col12\" class=\"data row36 col12\" >0.0000%</td>\n",
       "      <td id=\"T_04bc5_row36_col13\" class=\"data row36 col13\" >1.00</td>\n",
       "      <td id=\"T_04bc5_row36_col14\" class=\"data row36 col14\" >LinAct360</td>\n",
       "    </tr>\n",
       "    <tr>\n",
       "      <th id=\"T_04bc5_level0_row37\" class=\"row_heading level0 row37\" >37</th>\n",
       "      <td id=\"T_04bc5_row37_col0\" class=\"data row37 col0\" >2029-02-12</td>\n",
       "      <td id=\"T_04bc5_row37_col1\" class=\"data row37 col1\" >2029-05-14</td>\n",
       "      <td id=\"T_04bc5_row37_col2\" class=\"data row37 col2\" >2029-02-08</td>\n",
       "      <td id=\"T_04bc5_row37_col3\" class=\"data row37 col3\" >2029-05-14</td>\n",
       "      <td id=\"T_04bc5_row37_col4\" class=\"data row37 col4\" >20,000,000.00</td>\n",
       "      <td id=\"T_04bc5_row37_col5\" class=\"data row37 col5\" >0.00</td>\n",
       "      <td id=\"T_04bc5_row37_col6\" class=\"data row37 col6\" >98,347.80</td>\n",
       "      <td id=\"T_04bc5_row37_col7\" class=\"data row37 col7\" >True</td>\n",
       "      <td id=\"T_04bc5_row37_col8\" class=\"data row37 col8\" >98,347.80</td>\n",
       "      <td id=\"T_04bc5_row37_col9\" class=\"data row37 col9\" >USD</td>\n",
       "      <td id=\"T_04bc5_row37_col10\" class=\"data row37 col10\" >LIBORUSD3M</td>\n",
       "      <td id=\"T_04bc5_row37_col11\" class=\"data row37 col11\" >1.9453%</td>\n",
       "      <td id=\"T_04bc5_row37_col12\" class=\"data row37 col12\" >0.0000%</td>\n",
       "      <td id=\"T_04bc5_row37_col13\" class=\"data row37 col13\" >1.00</td>\n",
       "      <td id=\"T_04bc5_row37_col14\" class=\"data row37 col14\" >LinAct360</td>\n",
       "    </tr>\n",
       "    <tr>\n",
       "      <th id=\"T_04bc5_level0_row38\" class=\"row_heading level0 row38\" >38</th>\n",
       "      <td id=\"T_04bc5_row38_col0\" class=\"data row38 col0\" >2029-05-14</td>\n",
       "      <td id=\"T_04bc5_row38_col1\" class=\"data row38 col1\" >2029-08-13</td>\n",
       "      <td id=\"T_04bc5_row38_col2\" class=\"data row38 col2\" >2029-05-10</td>\n",
       "      <td id=\"T_04bc5_row38_col3\" class=\"data row38 col3\" >2029-08-13</td>\n",
       "      <td id=\"T_04bc5_row38_col4\" class=\"data row38 col4\" >20,000,000.00</td>\n",
       "      <td id=\"T_04bc5_row38_col5\" class=\"data row38 col5\" >0.00</td>\n",
       "      <td id=\"T_04bc5_row38_col6\" class=\"data row38 col6\" >98,954.09</td>\n",
       "      <td id=\"T_04bc5_row38_col7\" class=\"data row38 col7\" >True</td>\n",
       "      <td id=\"T_04bc5_row38_col8\" class=\"data row38 col8\" >98,954.09</td>\n",
       "      <td id=\"T_04bc5_row38_col9\" class=\"data row38 col9\" >USD</td>\n",
       "      <td id=\"T_04bc5_row38_col10\" class=\"data row38 col10\" >LIBORUSD3M</td>\n",
       "      <td id=\"T_04bc5_row38_col11\" class=\"data row38 col11\" >1.9573%</td>\n",
       "      <td id=\"T_04bc5_row38_col12\" class=\"data row38 col12\" >0.0000%</td>\n",
       "      <td id=\"T_04bc5_row38_col13\" class=\"data row38 col13\" >1.00</td>\n",
       "      <td id=\"T_04bc5_row38_col14\" class=\"data row38 col14\" >LinAct360</td>\n",
       "    </tr>\n",
       "    <tr>\n",
       "      <th id=\"T_04bc5_level0_row39\" class=\"row_heading level0 row39\" >39</th>\n",
       "      <td id=\"T_04bc5_row39_col0\" class=\"data row39 col0\" >2029-08-13</td>\n",
       "      <td id=\"T_04bc5_row39_col1\" class=\"data row39 col1\" >2029-11-12</td>\n",
       "      <td id=\"T_04bc5_row39_col2\" class=\"data row39 col2\" >2029-08-09</td>\n",
       "      <td id=\"T_04bc5_row39_col3\" class=\"data row39 col3\" >2029-11-12</td>\n",
       "      <td id=\"T_04bc5_row39_col4\" class=\"data row39 col4\" >20,000,000.00</td>\n",
       "      <td id=\"T_04bc5_row39_col5\" class=\"data row39 col5\" >20,000,000.00</td>\n",
       "      <td id=\"T_04bc5_row39_col6\" class=\"data row39 col6\" >99,543.20</td>\n",
       "      <td id=\"T_04bc5_row39_col7\" class=\"data row39 col7\" >True</td>\n",
       "      <td id=\"T_04bc5_row39_col8\" class=\"data row39 col8\" >20,099,543.20</td>\n",
       "      <td id=\"T_04bc5_row39_col9\" class=\"data row39 col9\" >USD</td>\n",
       "      <td id=\"T_04bc5_row39_col10\" class=\"data row39 col10\" >LIBORUSD3M</td>\n",
       "      <td id=\"T_04bc5_row39_col11\" class=\"data row39 col11\" >1.9690%</td>\n",
       "      <td id=\"T_04bc5_row39_col12\" class=\"data row39 col12\" >0.0000%</td>\n",
       "      <td id=\"T_04bc5_row39_col13\" class=\"data row39 col13\" >1.00</td>\n",
       "      <td id=\"T_04bc5_row39_col14\" class=\"data row39 col14\" >LinAct360</td>\n",
       "    </tr>\n",
       "  </tbody>\n",
       "</table>\n"
      ],
      "text/plain": [
       "<pandas.io.formats.style.Styler at 0x12afb5650>"
      ]
     },
     "execution_count": 75,
     "metadata": {},
     "output_type": "execute_result"
    }
   ],
   "source": [
    "# Se define un list donde almacenar los resultados de la función show\n",
    "tabla = []\n",
    "for i in range(0, ibor_leg.size()):\n",
    "    tabla.append(qcf.show(ibor_leg.get_cashflow_at(i)))\n",
    "\n",
    "# Se utiliza tabla para inicializar el Dataframe\n",
    "columnas = ['fecha_inicial', 'fecha__final', 'fecha_fixing', 'fecha__pago', 'nominal', 'amort', 'interes', 'amort_es_flujo', 'flujo',\n",
    "            'moneda', 'codigo_indice', 'valor_tasa', 'spread', 'gearing', 'tipo_tasa']\n",
    "df5 = pd.DataFrame(tabla, columns=columnas)\n",
    "\n",
    "# Se despliega la data en este formato\n",
    "df5.style.format(format_dict)"
   ]
  },
  {
   "cell_type": "code",
   "execution_count": 76,
   "metadata": {
    "ExecuteTime": {
     "end_time": "2022-01-24T13:13:32.115021Z",
     "start_time": "2022-01-24T13:13:32.100019Z"
    },
    "execution": {
     "iopub.execute_input": "2023-07-17T23:13:46.088769Z",
     "iopub.status.busy": "2023-07-17T23:13:46.088680Z",
     "iopub.status.idle": "2023-07-17T23:13:46.091184Z",
     "shell.execute_reply": "2023-07-17T23:13:46.090912Z",
     "shell.execute_reply.started": "2023-07-17T23:13:46.088763Z"
    }
   },
   "outputs": [
    {
     "name": "stdout",
     "output_type": "stream",
     "text": [
      "d1: -13\n",
      "d2: 77\n",
      "Factor forward: 100.4379%\n",
      "Tasa forward: 1.7517%\n",
      "Curve method 1.5288%\n"
     ]
    }
   ],
   "source": [
    "which_cashflow = 1\n",
    "d1 = fecha_hoy.day_diff(ibor_leg.get_cashflow_at(which_cashflow).get_start_date())\n",
    "d2 = fecha_hoy.day_diff(ibor_leg.get_cashflow_at(which_cashflow).get_end_date())\n",
    "print(\"d1: {0:,.0f}\".format(d1))\n",
    "print(\"d2: {0:,.0f}\".format(d2))\n",
    "crv = zz2\n",
    "w1 = 1 / crv.get_discount_factor_at(d1)\n",
    "w2 = 1 / crv.get_discount_factor_at(d2)\n",
    "print(\"Factor forward: {0:.4%}\".format(w2 / w1))\n",
    "print(\"Tasa forward: {0:.4%}\".format((w2 / w1 - 1) * 360 / (d2 - d1)))\n",
    "print(\"Curve method {0:.4%}\".format(crv.get_forward_rate_with_rate(libor_usd_3m.get_rate(), d1, d2)))"
   ]
  },
  {
   "cell_type": "code",
   "execution_count": 77,
   "metadata": {
    "ExecuteTime": {
     "end_time": "2022-01-24T13:13:32.130615Z",
     "start_time": "2022-01-24T13:13:32.116020Z"
    },
    "cell_style": "center",
    "execution": {
     "iopub.execute_input": "2023-07-17T23:13:46.091581Z",
     "iopub.status.busy": "2023-07-17T23:13:46.091523Z",
     "iopub.status.idle": "2023-07-17T23:13:46.093499Z",
     "shell.execute_reply": "2023-07-17T23:13:46.093249Z",
     "shell.execute_reply.started": "2023-07-17T23:13:46.091575Z"
    }
   },
   "outputs": [
    {
     "name": "stdout",
     "output_type": "stream",
     "text": [
      "Valor presente pata IBOR: 19,923,921\n"
     ]
    }
   ],
   "source": [
    "vp_ibor = pv.pv(fecha_hoy, ibor_leg, zz2)\n",
    "print(\"Valor presente pata IBOR: {0:,.0f}\".format(vp_ibor))"
   ]
  },
  {
   "cell_type": "code",
   "execution_count": 78,
   "metadata": {
    "ExecuteTime": {
     "end_time": "2022-01-24T13:13:32.146545Z",
     "start_time": "2022-01-24T13:13:32.131621Z"
    },
    "execution": {
     "iopub.execute_input": "2023-07-17T23:13:46.093887Z",
     "iopub.status.busy": "2023-07-17T23:13:46.093830Z",
     "iopub.status.idle": "2023-07-17T23:13:46.096130Z",
     "shell.execute_reply": "2023-07-17T23:13:46.095912Z",
     "shell.execute_reply.started": "2023-07-17T23:13:46.093881Z"
    }
   },
   "outputs": [
    {
     "name": "stdout",
     "output_type": "stream",
     "text": [
      "Sensibilidad en 0: 0\n",
      "Sensibilidad en 1: 0\n",
      "Sensibilidad en 2: 0\n",
      "Sensibilidad en 3: 0\n",
      "Sensibilidad en 4: 0\n",
      "Sensibilidad en 5: 0\n",
      "Sensibilidad en 6: 0\n",
      "Sensibilidad en 7: 0\n",
      "Sensibilidad en 8: -2\n",
      "Sensibilidad en 9: -2\n",
      "Sensibilidad en 10: 0\n",
      "Sensibilidad en 11: -3\n",
      "Sensibilidad en 12: -3\n",
      "Sensibilidad en 13: 0\n",
      "Sensibilidad en 14: -3\n",
      "Sensibilidad en 15: -10\n",
      "Sensibilidad en 16: -21\n",
      "Sensibilidad en 17: -47\n",
      "Sensibilidad en 18: -85\n",
      "Sensibilidad en 19: -114\n",
      "Sensibilidad en 20: -234\n",
      "Sensibilidad en 21: -1,895\n",
      "Sensibilidad en 22: -13,122\n",
      "Sensibilidad en 23: 0\n",
      "Sensibilidad en 24: 0\n",
      "Sensibilidad en 25: 0\n",
      "Sensibilidad en 26: 0\n",
      "Sensibilidad en 27: 0\n",
      "Sensibilidad de descuento: -15,541 USD\n"
     ]
    }
   ],
   "source": [
    "der = pv.get_derivatives()\n",
    "i = 0\n",
    "bp = .0001\n",
    "for d in der:\n",
    "    print(\"Sensibilidad en {0:}: {1:0,.0f}\".format(i, d * bp))\n",
    "    i += 1\n",
    "print(\"Sensibilidad de descuento: {0:,.0f} USD\".format(sum(der) * bp))"
   ]
  },
  {
   "cell_type": "markdown",
   "metadata": {},
   "source": [
    "#### Se verifica la sensibilidad de descuento por diferencias finitas."
   ]
  },
  {
   "cell_type": "code",
   "execution_count": 79,
   "metadata": {
    "ExecuteTime": {
     "end_time": "2022-01-24T13:13:32.162546Z",
     "start_time": "2022-01-24T13:13:32.147546Z"
    },
    "execution": {
     "iopub.execute_input": "2023-07-17T23:13:46.096666Z",
     "iopub.status.busy": "2023-07-17T23:13:46.096425Z",
     "iopub.status.idle": "2023-07-17T23:13:46.098763Z",
     "shell.execute_reply": "2023-07-17T23:13:46.098512Z",
     "shell.execute_reply.started": "2023-07-17T23:13:46.096657Z"
    }
   },
   "outputs": [
    {
     "name": "stdout",
     "output_type": "stream",
     "text": [
      "Valor presente up pata IBOR: 19,923,921\n",
      "Valor presente down pata IBOR: 19,923,921\n",
      "Sensibilidad de descuento en el vértice 13: 0\n"
     ]
    }
   ],
   "source": [
    "vp_ibor_up = pv.pv(fecha_hoy, ibor_leg, zz2_sens_up)\n",
    "print(\"Valor presente up pata IBOR: {0:,.0f}\".format(vp_ibor_up))\n",
    "\n",
    "vp_ibor_down = pv.pv(fecha_hoy, ibor_leg, zz2_sens_down)\n",
    "print(\"Valor presente down pata IBOR: {0:,.0f}\".format(vp_ibor_down))\n",
    "\n",
    "print(\"Sensibilidad de descuento en el vértice {0:}: {1:,.0f}\".format(vertice, (vp_ibor_up - vp_ibor_down) / 2))"
   ]
  },
  {
   "cell_type": "markdown",
   "metadata": {},
   "source": [
    "Se calcula también la sensibilidad a la curva de proyección."
   ]
  },
  {
   "cell_type": "code",
   "execution_count": 80,
   "metadata": {
    "ExecuteTime": {
     "end_time": "2022-01-24T13:13:32.178544Z",
     "start_time": "2022-01-24T13:13:32.163545Z"
    },
    "execution": {
     "iopub.execute_input": "2023-07-17T23:13:46.099267Z",
     "iopub.status.busy": "2023-07-17T23:13:46.099198Z",
     "iopub.status.idle": "2023-07-17T23:13:46.104714Z",
     "shell.execute_reply": "2023-07-17T23:13:46.104476Z",
     "shell.execute_reply.started": "2023-07-17T23:13:46.099261Z"
    }
   },
   "outputs": [
    {
     "name": "stdout",
     "output_type": "stream",
     "text": [
      "Sensibilidad en 0: 0\n",
      "Sensibilidad en 1: 0\n",
      "Sensibilidad en 2: 0\n",
      "Sensibilidad en 3: 0\n",
      "Sensibilidad en 4: 0\n",
      "Sensibilidad en 5: -192\n",
      "Sensibilidad en 6: -233\n",
      "Sensibilidad en 7: 0\n",
      "Sensibilidad en 8: 2\n",
      "Sensibilidad en 9: 2\n",
      "Sensibilidad en 10: 0\n",
      "Sensibilidad en 11: 3\n",
      "Sensibilidad en 12: 3\n",
      "Sensibilidad en 13: 0\n",
      "Sensibilidad en 14: 3\n",
      "Sensibilidad en 15: 10\n",
      "Sensibilidad en 16: 21\n",
      "Sensibilidad en 17: 1\n",
      "Sensibilidad en 18: 81\n",
      "Sensibilidad en 19: 193\n",
      "Sensibilidad en 20: 258\n",
      "Sensibilidad en 21: 1,820\n",
      "Sensibilidad en 22: 13,222\n",
      "Sensibilidad en 23: 0\n",
      "Sensibilidad en 24: 0\n",
      "Sensibilidad en 25: 0\n",
      "Sensibilidad en 26: 0\n",
      "Sensibilidad en 27: 0\n",
      "Sensibilidad de proyección: 15,194 USD\n"
     ]
    }
   ],
   "source": [
    "import numpy as np\n",
    "bp = .0001\n",
    "result = []\n",
    "\n",
    "for i in range(ibor_leg.size()):\n",
    "    cshflw = ibor_leg.get_cashflow_at(i)\n",
    "    df = zz2.get_discount_factor_at(fecha_hoy.day_diff(cshflw.get_settlement_date()))\n",
    "    amt_der = cshflw.get_amount_derivatives()\n",
    "    if len(amt_der) > 0:\n",
    "        amt_der = [a * bp * df for a in amt_der]\n",
    "        result.append(np.array(amt_der))\n",
    "\n",
    "total = result[0] * 0\n",
    "for r in result:\n",
    "    total += r\n",
    "\n",
    "for i in range(len(total)):\n",
    "    print(\"Sensibilidad en {0:}: {1:0,.0f}\".format(i, total[i]))\n",
    "\n",
    "print(\"Sensibilidad de proyección: {0:,.0f} USD\".format(sum(total)))"
   ]
  },
  {
   "cell_type": "markdown",
   "metadata": {},
   "source": [
    "#### Se verifica la sensibilidad de proyección por diferencias finitas."
   ]
  },
  {
   "cell_type": "code",
   "execution_count": 81,
   "metadata": {
    "ExecuteTime": {
     "end_time": "2022-01-24T13:13:32.194544Z",
     "start_time": "2022-01-24T13:13:32.179545Z"
    },
    "execution": {
     "iopub.execute_input": "2023-07-17T23:13:46.105209Z",
     "iopub.status.busy": "2023-07-17T23:13:46.105122Z",
     "iopub.status.idle": "2023-07-17T23:13:46.107840Z",
     "shell.execute_reply": "2023-07-17T23:13:46.107609Z",
     "shell.execute_reply.started": "2023-07-17T23:13:46.105203Z"
    }
   },
   "outputs": [
    {
     "name": "stdout",
     "output_type": "stream",
     "text": [
      "Valor presente up pata IBOR: 19,923,921\n",
      "Valor presente down pata IBOR: 19,923,921\n",
      "Sensibilidad de proyección en el vértice 13: 0\n"
     ]
    }
   ],
   "source": [
    "fwd_rates.set_rates_ibor_leg(fecha_hoy, ibor_leg, zz2_sens_up)\n",
    "vp_ibor_up = pv.pv(fecha_hoy, ibor_leg, zz2)\n",
    "print(\"Valor presente up pata IBOR: {0:,.0f}\".format(vp_ibor_up))\n",
    "\n",
    "fwd_rates.set_rates_ibor_leg(fecha_hoy, ibor_leg, zz2_sens_down)\n",
    "vp_ibor_down = pv.pv(fecha_hoy, ibor_leg, zz2)\n",
    "print(\"Valor presente down pata IBOR: {0:,.0f}\".format(vp_ibor_down))\n",
    "\n",
    "print(\"Sensibilidad de proyección en el vértice {0:}: {1:,.0f}\".format(vertice, (vp_ibor_up - vp_ibor_down) / 2))"
   ]
  },
  {
   "cell_type": "markdown",
   "metadata": {},
   "source": [
    "### IcpClfCashflow Leg"
   ]
  },
  {
   "cell_type": "code",
   "execution_count": 82,
   "metadata": {
    "ExecuteTime": {
     "end_time": "2022-01-24T13:13:32.210544Z",
     "start_time": "2022-01-24T13:13:32.195546Z"
    },
    "execution": {
     "iopub.execute_input": "2023-07-17T23:13:46.108365Z",
     "iopub.status.busy": "2023-07-17T23:13:46.108290Z",
     "iopub.status.idle": "2023-07-17T23:13:46.111832Z",
     "shell.execute_reply": "2023-07-17T23:13:46.111595Z",
     "shell.execute_reply.started": "2023-07-17T23:13:46.108359Z"
    }
   },
   "outputs": [],
   "source": [
    "# Se da de alta los parámetros requeridos\n",
    "rp = qcf.RecPay.RECEIVE\n",
    "fecha_inicio = qcf.QCDate(31, 5, 2018)\n",
    "fecha_final = qcf.QCDate(9, 5, 2026) \n",
    "bus_adj_rule = qcf.BusyAdjRules.FOLLOW\n",
    "periodicidad_pago = qcf.Tenor('6M')\n",
    "periodo_irregular_pago = qcf.StubPeriod.SHORTFRONT\n",
    "calendario = qcf.BusinessCalendar(fecha_inicio, 20)\n",
    "lag_pago = 0\n",
    "nominal = 6000_00.0\n",
    "amort_es_flujo = True \n",
    "spread = .0\n",
    "gearing = 1.0\n",
    "\n",
    "icp_clf_leg = qcf.LegFactory.build_bullet_icp_clf_leg(\n",
    "    rp, \n",
    "    fecha_inicio, \n",
    "    fecha_final, \n",
    "    bus_adj_rule, \n",
    "    periodicidad_pago,\n",
    "    periodo_irregular_pago, \n",
    "    calendario, \n",
    "    lag_pago,\n",
    "    nominal, \n",
    "    amort_es_flujo, \n",
    "    spread, \n",
    "    gearing\n",
    ")"
   ]
  },
  {
   "cell_type": "code",
   "execution_count": 83,
   "metadata": {
    "ExecuteTime": {
     "end_time": "2022-01-24T13:13:32.241545Z",
     "start_time": "2022-01-24T13:13:32.211545Z"
    },
    "execution": {
     "iopub.execute_input": "2023-07-17T23:13:46.112367Z",
     "iopub.status.busy": "2023-07-17T23:13:46.112273Z",
     "iopub.status.idle": "2023-07-17T23:13:46.118689Z",
     "shell.execute_reply": "2023-07-17T23:13:46.118459Z",
     "shell.execute_reply.started": "2023-07-17T23:13:46.112361Z"
    }
   },
   "outputs": [
    {
     "data": {
      "text/html": [
       "<style type=\"text/css\">\n",
       "</style>\n",
       "<table id=\"T_e3f13\">\n",
       "  <thead>\n",
       "    <tr>\n",
       "      <th class=\"blank level0\" >&nbsp;</th>\n",
       "      <th id=\"T_e3f13_level0_col0\" class=\"col_heading level0 col0\" >fecha_inicial</th>\n",
       "      <th id=\"T_e3f13_level0_col1\" class=\"col_heading level0 col1\" >fecha__final</th>\n",
       "      <th id=\"T_e3f13_level0_col2\" class=\"col_heading level0 col2\" >fecha__pago</th>\n",
       "      <th id=\"T_e3f13_level0_col3\" class=\"col_heading level0 col3\" >nominal</th>\n",
       "      <th id=\"T_e3f13_level0_col4\" class=\"col_heading level0 col4\" >amort</th>\n",
       "      <th id=\"T_e3f13_level0_col5\" class=\"col_heading level0 col5\" >amort_es_flujo</th>\n",
       "      <th id=\"T_e3f13_level0_col6\" class=\"col_heading level0 col6\" >flujo</th>\n",
       "      <th id=\"T_e3f13_level0_col7\" class=\"col_heading level0 col7\" >moneda</th>\n",
       "      <th id=\"T_e3f13_level0_col8\" class=\"col_heading level0 col8\" >icp_inicial</th>\n",
       "      <th id=\"T_e3f13_level0_col9\" class=\"col_heading level0 col9\" >icp_final</th>\n",
       "      <th id=\"T_e3f13_level0_col10\" class=\"col_heading level0 col10\" >uf_inicial</th>\n",
       "      <th id=\"T_e3f13_level0_col11\" class=\"col_heading level0 col11\" >uf_final</th>\n",
       "      <th id=\"T_e3f13_level0_col12\" class=\"col_heading level0 col12\" >valor_tasa</th>\n",
       "      <th id=\"T_e3f13_level0_col13\" class=\"col_heading level0 col13\" >interes</th>\n",
       "      <th id=\"T_e3f13_level0_col14\" class=\"col_heading level0 col14\" >spread</th>\n",
       "      <th id=\"T_e3f13_level0_col15\" class=\"col_heading level0 col15\" >gearing</th>\n",
       "      <th id=\"T_e3f13_level0_col16\" class=\"col_heading level0 col16\" >tipo_tasa</th>\n",
       "    </tr>\n",
       "  </thead>\n",
       "  <tbody>\n",
       "    <tr>\n",
       "      <th id=\"T_e3f13_level0_row0\" class=\"row_heading level0 row0\" >0</th>\n",
       "      <td id=\"T_e3f13_row0_col0\" class=\"data row0 col0\" >2018-05-31</td>\n",
       "      <td id=\"T_e3f13_row0_col1\" class=\"data row0 col1\" >2018-11-09</td>\n",
       "      <td id=\"T_e3f13_row0_col2\" class=\"data row0 col2\" >2018-11-09</td>\n",
       "      <td id=\"T_e3f13_row0_col3\" class=\"data row0 col3\" >600,000.00</td>\n",
       "      <td id=\"T_e3f13_row0_col4\" class=\"data row0 col4\" >0.00</td>\n",
       "      <td id=\"T_e3f13_row0_col5\" class=\"data row0 col5\" >True</td>\n",
       "      <td id=\"T_e3f13_row0_col6\" class=\"data row0 col6\" >0.00</td>\n",
       "      <td id=\"T_e3f13_row0_col7\" class=\"data row0 col7\" >CLF</td>\n",
       "      <td id=\"T_e3f13_row0_col8\" class=\"data row0 col8\" >10,000.00</td>\n",
       "      <td id=\"T_e3f13_row0_col9\" class=\"data row0 col9\" >10,000.00</td>\n",
       "      <td id=\"T_e3f13_row0_col10\" class=\"data row0 col10\" >35,000.00</td>\n",
       "      <td id=\"T_e3f13_row0_col11\" class=\"data row0 col11\" >35,000.00</td>\n",
       "      <td id=\"T_e3f13_row0_col12\" class=\"data row0 col12\" >0.0000%</td>\n",
       "      <td id=\"T_e3f13_row0_col13\" class=\"data row0 col13\" >0.00</td>\n",
       "      <td id=\"T_e3f13_row0_col14\" class=\"data row0 col14\" >0.0000%</td>\n",
       "      <td id=\"T_e3f13_row0_col15\" class=\"data row0 col15\" >1.00</td>\n",
       "      <td id=\"T_e3f13_row0_col16\" class=\"data row0 col16\" >LinAct360</td>\n",
       "    </tr>\n",
       "    <tr>\n",
       "      <th id=\"T_e3f13_level0_row1\" class=\"row_heading level0 row1\" >1</th>\n",
       "      <td id=\"T_e3f13_row1_col0\" class=\"data row1 col0\" >2018-11-09</td>\n",
       "      <td id=\"T_e3f13_row1_col1\" class=\"data row1 col1\" >2019-05-09</td>\n",
       "      <td id=\"T_e3f13_row1_col2\" class=\"data row1 col2\" >2019-05-09</td>\n",
       "      <td id=\"T_e3f13_row1_col3\" class=\"data row1 col3\" >600,000.00</td>\n",
       "      <td id=\"T_e3f13_row1_col4\" class=\"data row1 col4\" >0.00</td>\n",
       "      <td id=\"T_e3f13_row1_col5\" class=\"data row1 col5\" >True</td>\n",
       "      <td id=\"T_e3f13_row1_col6\" class=\"data row1 col6\" >0.00</td>\n",
       "      <td id=\"T_e3f13_row1_col7\" class=\"data row1 col7\" >CLF</td>\n",
       "      <td id=\"T_e3f13_row1_col8\" class=\"data row1 col8\" >10,000.00</td>\n",
       "      <td id=\"T_e3f13_row1_col9\" class=\"data row1 col9\" >10,000.00</td>\n",
       "      <td id=\"T_e3f13_row1_col10\" class=\"data row1 col10\" >35,000.00</td>\n",
       "      <td id=\"T_e3f13_row1_col11\" class=\"data row1 col11\" >35,000.00</td>\n",
       "      <td id=\"T_e3f13_row1_col12\" class=\"data row1 col12\" >0.0000%</td>\n",
       "      <td id=\"T_e3f13_row1_col13\" class=\"data row1 col13\" >0.00</td>\n",
       "      <td id=\"T_e3f13_row1_col14\" class=\"data row1 col14\" >0.0000%</td>\n",
       "      <td id=\"T_e3f13_row1_col15\" class=\"data row1 col15\" >1.00</td>\n",
       "      <td id=\"T_e3f13_row1_col16\" class=\"data row1 col16\" >LinAct360</td>\n",
       "    </tr>\n",
       "    <tr>\n",
       "      <th id=\"T_e3f13_level0_row2\" class=\"row_heading level0 row2\" >2</th>\n",
       "      <td id=\"T_e3f13_row2_col0\" class=\"data row2 col0\" >2019-05-09</td>\n",
       "      <td id=\"T_e3f13_row2_col1\" class=\"data row2 col1\" >2019-11-11</td>\n",
       "      <td id=\"T_e3f13_row2_col2\" class=\"data row2 col2\" >2019-11-11</td>\n",
       "      <td id=\"T_e3f13_row2_col3\" class=\"data row2 col3\" >600,000.00</td>\n",
       "      <td id=\"T_e3f13_row2_col4\" class=\"data row2 col4\" >0.00</td>\n",
       "      <td id=\"T_e3f13_row2_col5\" class=\"data row2 col5\" >True</td>\n",
       "      <td id=\"T_e3f13_row2_col6\" class=\"data row2 col6\" >0.00</td>\n",
       "      <td id=\"T_e3f13_row2_col7\" class=\"data row2 col7\" >CLF</td>\n",
       "      <td id=\"T_e3f13_row2_col8\" class=\"data row2 col8\" >10,000.00</td>\n",
       "      <td id=\"T_e3f13_row2_col9\" class=\"data row2 col9\" >10,000.00</td>\n",
       "      <td id=\"T_e3f13_row2_col10\" class=\"data row2 col10\" >35,000.00</td>\n",
       "      <td id=\"T_e3f13_row2_col11\" class=\"data row2 col11\" >35,000.00</td>\n",
       "      <td id=\"T_e3f13_row2_col12\" class=\"data row2 col12\" >0.0000%</td>\n",
       "      <td id=\"T_e3f13_row2_col13\" class=\"data row2 col13\" >0.00</td>\n",
       "      <td id=\"T_e3f13_row2_col14\" class=\"data row2 col14\" >0.0000%</td>\n",
       "      <td id=\"T_e3f13_row2_col15\" class=\"data row2 col15\" >1.00</td>\n",
       "      <td id=\"T_e3f13_row2_col16\" class=\"data row2 col16\" >LinAct360</td>\n",
       "    </tr>\n",
       "    <tr>\n",
       "      <th id=\"T_e3f13_level0_row3\" class=\"row_heading level0 row3\" >3</th>\n",
       "      <td id=\"T_e3f13_row3_col0\" class=\"data row3 col0\" >2019-11-11</td>\n",
       "      <td id=\"T_e3f13_row3_col1\" class=\"data row3 col1\" >2020-05-11</td>\n",
       "      <td id=\"T_e3f13_row3_col2\" class=\"data row3 col2\" >2020-05-11</td>\n",
       "      <td id=\"T_e3f13_row3_col3\" class=\"data row3 col3\" >600,000.00</td>\n",
       "      <td id=\"T_e3f13_row3_col4\" class=\"data row3 col4\" >0.00</td>\n",
       "      <td id=\"T_e3f13_row3_col5\" class=\"data row3 col5\" >True</td>\n",
       "      <td id=\"T_e3f13_row3_col6\" class=\"data row3 col6\" >0.00</td>\n",
       "      <td id=\"T_e3f13_row3_col7\" class=\"data row3 col7\" >CLF</td>\n",
       "      <td id=\"T_e3f13_row3_col8\" class=\"data row3 col8\" >10,000.00</td>\n",
       "      <td id=\"T_e3f13_row3_col9\" class=\"data row3 col9\" >10,000.00</td>\n",
       "      <td id=\"T_e3f13_row3_col10\" class=\"data row3 col10\" >35,000.00</td>\n",
       "      <td id=\"T_e3f13_row3_col11\" class=\"data row3 col11\" >35,000.00</td>\n",
       "      <td id=\"T_e3f13_row3_col12\" class=\"data row3 col12\" >0.0000%</td>\n",
       "      <td id=\"T_e3f13_row3_col13\" class=\"data row3 col13\" >0.00</td>\n",
       "      <td id=\"T_e3f13_row3_col14\" class=\"data row3 col14\" >0.0000%</td>\n",
       "      <td id=\"T_e3f13_row3_col15\" class=\"data row3 col15\" >1.00</td>\n",
       "      <td id=\"T_e3f13_row3_col16\" class=\"data row3 col16\" >LinAct360</td>\n",
       "    </tr>\n",
       "    <tr>\n",
       "      <th id=\"T_e3f13_level0_row4\" class=\"row_heading level0 row4\" >4</th>\n",
       "      <td id=\"T_e3f13_row4_col0\" class=\"data row4 col0\" >2020-05-11</td>\n",
       "      <td id=\"T_e3f13_row4_col1\" class=\"data row4 col1\" >2020-11-09</td>\n",
       "      <td id=\"T_e3f13_row4_col2\" class=\"data row4 col2\" >2020-11-09</td>\n",
       "      <td id=\"T_e3f13_row4_col3\" class=\"data row4 col3\" >600,000.00</td>\n",
       "      <td id=\"T_e3f13_row4_col4\" class=\"data row4 col4\" >0.00</td>\n",
       "      <td id=\"T_e3f13_row4_col5\" class=\"data row4 col5\" >True</td>\n",
       "      <td id=\"T_e3f13_row4_col6\" class=\"data row4 col6\" >0.00</td>\n",
       "      <td id=\"T_e3f13_row4_col7\" class=\"data row4 col7\" >CLF</td>\n",
       "      <td id=\"T_e3f13_row4_col8\" class=\"data row4 col8\" >10,000.00</td>\n",
       "      <td id=\"T_e3f13_row4_col9\" class=\"data row4 col9\" >10,000.00</td>\n",
       "      <td id=\"T_e3f13_row4_col10\" class=\"data row4 col10\" >35,000.00</td>\n",
       "      <td id=\"T_e3f13_row4_col11\" class=\"data row4 col11\" >35,000.00</td>\n",
       "      <td id=\"T_e3f13_row4_col12\" class=\"data row4 col12\" >0.0000%</td>\n",
       "      <td id=\"T_e3f13_row4_col13\" class=\"data row4 col13\" >0.00</td>\n",
       "      <td id=\"T_e3f13_row4_col14\" class=\"data row4 col14\" >0.0000%</td>\n",
       "      <td id=\"T_e3f13_row4_col15\" class=\"data row4 col15\" >1.00</td>\n",
       "      <td id=\"T_e3f13_row4_col16\" class=\"data row4 col16\" >LinAct360</td>\n",
       "    </tr>\n",
       "    <tr>\n",
       "      <th id=\"T_e3f13_level0_row5\" class=\"row_heading level0 row5\" >5</th>\n",
       "      <td id=\"T_e3f13_row5_col0\" class=\"data row5 col0\" >2020-11-09</td>\n",
       "      <td id=\"T_e3f13_row5_col1\" class=\"data row5 col1\" >2021-05-10</td>\n",
       "      <td id=\"T_e3f13_row5_col2\" class=\"data row5 col2\" >2021-05-10</td>\n",
       "      <td id=\"T_e3f13_row5_col3\" class=\"data row5 col3\" >600,000.00</td>\n",
       "      <td id=\"T_e3f13_row5_col4\" class=\"data row5 col4\" >0.00</td>\n",
       "      <td id=\"T_e3f13_row5_col5\" class=\"data row5 col5\" >True</td>\n",
       "      <td id=\"T_e3f13_row5_col6\" class=\"data row5 col6\" >0.00</td>\n",
       "      <td id=\"T_e3f13_row5_col7\" class=\"data row5 col7\" >CLF</td>\n",
       "      <td id=\"T_e3f13_row5_col8\" class=\"data row5 col8\" >10,000.00</td>\n",
       "      <td id=\"T_e3f13_row5_col9\" class=\"data row5 col9\" >10,000.00</td>\n",
       "      <td id=\"T_e3f13_row5_col10\" class=\"data row5 col10\" >35,000.00</td>\n",
       "      <td id=\"T_e3f13_row5_col11\" class=\"data row5 col11\" >35,000.00</td>\n",
       "      <td id=\"T_e3f13_row5_col12\" class=\"data row5 col12\" >0.0000%</td>\n",
       "      <td id=\"T_e3f13_row5_col13\" class=\"data row5 col13\" >0.00</td>\n",
       "      <td id=\"T_e3f13_row5_col14\" class=\"data row5 col14\" >0.0000%</td>\n",
       "      <td id=\"T_e3f13_row5_col15\" class=\"data row5 col15\" >1.00</td>\n",
       "      <td id=\"T_e3f13_row5_col16\" class=\"data row5 col16\" >LinAct360</td>\n",
       "    </tr>\n",
       "    <tr>\n",
       "      <th id=\"T_e3f13_level0_row6\" class=\"row_heading level0 row6\" >6</th>\n",
       "      <td id=\"T_e3f13_row6_col0\" class=\"data row6 col0\" >2021-05-10</td>\n",
       "      <td id=\"T_e3f13_row6_col1\" class=\"data row6 col1\" >2021-11-09</td>\n",
       "      <td id=\"T_e3f13_row6_col2\" class=\"data row6 col2\" >2021-11-09</td>\n",
       "      <td id=\"T_e3f13_row6_col3\" class=\"data row6 col3\" >600,000.00</td>\n",
       "      <td id=\"T_e3f13_row6_col4\" class=\"data row6 col4\" >0.00</td>\n",
       "      <td id=\"T_e3f13_row6_col5\" class=\"data row6 col5\" >True</td>\n",
       "      <td id=\"T_e3f13_row6_col6\" class=\"data row6 col6\" >0.00</td>\n",
       "      <td id=\"T_e3f13_row6_col7\" class=\"data row6 col7\" >CLF</td>\n",
       "      <td id=\"T_e3f13_row6_col8\" class=\"data row6 col8\" >10,000.00</td>\n",
       "      <td id=\"T_e3f13_row6_col9\" class=\"data row6 col9\" >10,000.00</td>\n",
       "      <td id=\"T_e3f13_row6_col10\" class=\"data row6 col10\" >35,000.00</td>\n",
       "      <td id=\"T_e3f13_row6_col11\" class=\"data row6 col11\" >35,000.00</td>\n",
       "      <td id=\"T_e3f13_row6_col12\" class=\"data row6 col12\" >0.0000%</td>\n",
       "      <td id=\"T_e3f13_row6_col13\" class=\"data row6 col13\" >0.00</td>\n",
       "      <td id=\"T_e3f13_row6_col14\" class=\"data row6 col14\" >0.0000%</td>\n",
       "      <td id=\"T_e3f13_row6_col15\" class=\"data row6 col15\" >1.00</td>\n",
       "      <td id=\"T_e3f13_row6_col16\" class=\"data row6 col16\" >LinAct360</td>\n",
       "    </tr>\n",
       "    <tr>\n",
       "      <th id=\"T_e3f13_level0_row7\" class=\"row_heading level0 row7\" >7</th>\n",
       "      <td id=\"T_e3f13_row7_col0\" class=\"data row7 col0\" >2021-11-09</td>\n",
       "      <td id=\"T_e3f13_row7_col1\" class=\"data row7 col1\" >2022-05-09</td>\n",
       "      <td id=\"T_e3f13_row7_col2\" class=\"data row7 col2\" >2022-05-09</td>\n",
       "      <td id=\"T_e3f13_row7_col3\" class=\"data row7 col3\" >600,000.00</td>\n",
       "      <td id=\"T_e3f13_row7_col4\" class=\"data row7 col4\" >0.00</td>\n",
       "      <td id=\"T_e3f13_row7_col5\" class=\"data row7 col5\" >True</td>\n",
       "      <td id=\"T_e3f13_row7_col6\" class=\"data row7 col6\" >0.00</td>\n",
       "      <td id=\"T_e3f13_row7_col7\" class=\"data row7 col7\" >CLF</td>\n",
       "      <td id=\"T_e3f13_row7_col8\" class=\"data row7 col8\" >10,000.00</td>\n",
       "      <td id=\"T_e3f13_row7_col9\" class=\"data row7 col9\" >10,000.00</td>\n",
       "      <td id=\"T_e3f13_row7_col10\" class=\"data row7 col10\" >35,000.00</td>\n",
       "      <td id=\"T_e3f13_row7_col11\" class=\"data row7 col11\" >35,000.00</td>\n",
       "      <td id=\"T_e3f13_row7_col12\" class=\"data row7 col12\" >0.0000%</td>\n",
       "      <td id=\"T_e3f13_row7_col13\" class=\"data row7 col13\" >0.00</td>\n",
       "      <td id=\"T_e3f13_row7_col14\" class=\"data row7 col14\" >0.0000%</td>\n",
       "      <td id=\"T_e3f13_row7_col15\" class=\"data row7 col15\" >1.00</td>\n",
       "      <td id=\"T_e3f13_row7_col16\" class=\"data row7 col16\" >LinAct360</td>\n",
       "    </tr>\n",
       "    <tr>\n",
       "      <th id=\"T_e3f13_level0_row8\" class=\"row_heading level0 row8\" >8</th>\n",
       "      <td id=\"T_e3f13_row8_col0\" class=\"data row8 col0\" >2022-05-09</td>\n",
       "      <td id=\"T_e3f13_row8_col1\" class=\"data row8 col1\" >2022-11-09</td>\n",
       "      <td id=\"T_e3f13_row8_col2\" class=\"data row8 col2\" >2022-11-09</td>\n",
       "      <td id=\"T_e3f13_row8_col3\" class=\"data row8 col3\" >600,000.00</td>\n",
       "      <td id=\"T_e3f13_row8_col4\" class=\"data row8 col4\" >0.00</td>\n",
       "      <td id=\"T_e3f13_row8_col5\" class=\"data row8 col5\" >True</td>\n",
       "      <td id=\"T_e3f13_row8_col6\" class=\"data row8 col6\" >0.00</td>\n",
       "      <td id=\"T_e3f13_row8_col7\" class=\"data row8 col7\" >CLF</td>\n",
       "      <td id=\"T_e3f13_row8_col8\" class=\"data row8 col8\" >10,000.00</td>\n",
       "      <td id=\"T_e3f13_row8_col9\" class=\"data row8 col9\" >10,000.00</td>\n",
       "      <td id=\"T_e3f13_row8_col10\" class=\"data row8 col10\" >35,000.00</td>\n",
       "      <td id=\"T_e3f13_row8_col11\" class=\"data row8 col11\" >35,000.00</td>\n",
       "      <td id=\"T_e3f13_row8_col12\" class=\"data row8 col12\" >0.0000%</td>\n",
       "      <td id=\"T_e3f13_row8_col13\" class=\"data row8 col13\" >0.00</td>\n",
       "      <td id=\"T_e3f13_row8_col14\" class=\"data row8 col14\" >0.0000%</td>\n",
       "      <td id=\"T_e3f13_row8_col15\" class=\"data row8 col15\" >1.00</td>\n",
       "      <td id=\"T_e3f13_row8_col16\" class=\"data row8 col16\" >LinAct360</td>\n",
       "    </tr>\n",
       "    <tr>\n",
       "      <th id=\"T_e3f13_level0_row9\" class=\"row_heading level0 row9\" >9</th>\n",
       "      <td id=\"T_e3f13_row9_col0\" class=\"data row9 col0\" >2022-11-09</td>\n",
       "      <td id=\"T_e3f13_row9_col1\" class=\"data row9 col1\" >2023-05-09</td>\n",
       "      <td id=\"T_e3f13_row9_col2\" class=\"data row9 col2\" >2023-05-09</td>\n",
       "      <td id=\"T_e3f13_row9_col3\" class=\"data row9 col3\" >600,000.00</td>\n",
       "      <td id=\"T_e3f13_row9_col4\" class=\"data row9 col4\" >0.00</td>\n",
       "      <td id=\"T_e3f13_row9_col5\" class=\"data row9 col5\" >True</td>\n",
       "      <td id=\"T_e3f13_row9_col6\" class=\"data row9 col6\" >0.00</td>\n",
       "      <td id=\"T_e3f13_row9_col7\" class=\"data row9 col7\" >CLF</td>\n",
       "      <td id=\"T_e3f13_row9_col8\" class=\"data row9 col8\" >10,000.00</td>\n",
       "      <td id=\"T_e3f13_row9_col9\" class=\"data row9 col9\" >10,000.00</td>\n",
       "      <td id=\"T_e3f13_row9_col10\" class=\"data row9 col10\" >35,000.00</td>\n",
       "      <td id=\"T_e3f13_row9_col11\" class=\"data row9 col11\" >35,000.00</td>\n",
       "      <td id=\"T_e3f13_row9_col12\" class=\"data row9 col12\" >0.0000%</td>\n",
       "      <td id=\"T_e3f13_row9_col13\" class=\"data row9 col13\" >0.00</td>\n",
       "      <td id=\"T_e3f13_row9_col14\" class=\"data row9 col14\" >0.0000%</td>\n",
       "      <td id=\"T_e3f13_row9_col15\" class=\"data row9 col15\" >1.00</td>\n",
       "      <td id=\"T_e3f13_row9_col16\" class=\"data row9 col16\" >LinAct360</td>\n",
       "    </tr>\n",
       "    <tr>\n",
       "      <th id=\"T_e3f13_level0_row10\" class=\"row_heading level0 row10\" >10</th>\n",
       "      <td id=\"T_e3f13_row10_col0\" class=\"data row10 col0\" >2023-05-09</td>\n",
       "      <td id=\"T_e3f13_row10_col1\" class=\"data row10 col1\" >2023-11-09</td>\n",
       "      <td id=\"T_e3f13_row10_col2\" class=\"data row10 col2\" >2023-11-09</td>\n",
       "      <td id=\"T_e3f13_row10_col3\" class=\"data row10 col3\" >600,000.00</td>\n",
       "      <td id=\"T_e3f13_row10_col4\" class=\"data row10 col4\" >0.00</td>\n",
       "      <td id=\"T_e3f13_row10_col5\" class=\"data row10 col5\" >True</td>\n",
       "      <td id=\"T_e3f13_row10_col6\" class=\"data row10 col6\" >0.00</td>\n",
       "      <td id=\"T_e3f13_row10_col7\" class=\"data row10 col7\" >CLF</td>\n",
       "      <td id=\"T_e3f13_row10_col8\" class=\"data row10 col8\" >10,000.00</td>\n",
       "      <td id=\"T_e3f13_row10_col9\" class=\"data row10 col9\" >10,000.00</td>\n",
       "      <td id=\"T_e3f13_row10_col10\" class=\"data row10 col10\" >35,000.00</td>\n",
       "      <td id=\"T_e3f13_row10_col11\" class=\"data row10 col11\" >35,000.00</td>\n",
       "      <td id=\"T_e3f13_row10_col12\" class=\"data row10 col12\" >0.0000%</td>\n",
       "      <td id=\"T_e3f13_row10_col13\" class=\"data row10 col13\" >0.00</td>\n",
       "      <td id=\"T_e3f13_row10_col14\" class=\"data row10 col14\" >0.0000%</td>\n",
       "      <td id=\"T_e3f13_row10_col15\" class=\"data row10 col15\" >1.00</td>\n",
       "      <td id=\"T_e3f13_row10_col16\" class=\"data row10 col16\" >LinAct360</td>\n",
       "    </tr>\n",
       "    <tr>\n",
       "      <th id=\"T_e3f13_level0_row11\" class=\"row_heading level0 row11\" >11</th>\n",
       "      <td id=\"T_e3f13_row11_col0\" class=\"data row11 col0\" >2023-11-09</td>\n",
       "      <td id=\"T_e3f13_row11_col1\" class=\"data row11 col1\" >2024-05-09</td>\n",
       "      <td id=\"T_e3f13_row11_col2\" class=\"data row11 col2\" >2024-05-09</td>\n",
       "      <td id=\"T_e3f13_row11_col3\" class=\"data row11 col3\" >600,000.00</td>\n",
       "      <td id=\"T_e3f13_row11_col4\" class=\"data row11 col4\" >0.00</td>\n",
       "      <td id=\"T_e3f13_row11_col5\" class=\"data row11 col5\" >True</td>\n",
       "      <td id=\"T_e3f13_row11_col6\" class=\"data row11 col6\" >0.00</td>\n",
       "      <td id=\"T_e3f13_row11_col7\" class=\"data row11 col7\" >CLF</td>\n",
       "      <td id=\"T_e3f13_row11_col8\" class=\"data row11 col8\" >10,000.00</td>\n",
       "      <td id=\"T_e3f13_row11_col9\" class=\"data row11 col9\" >10,000.00</td>\n",
       "      <td id=\"T_e3f13_row11_col10\" class=\"data row11 col10\" >35,000.00</td>\n",
       "      <td id=\"T_e3f13_row11_col11\" class=\"data row11 col11\" >35,000.00</td>\n",
       "      <td id=\"T_e3f13_row11_col12\" class=\"data row11 col12\" >0.0000%</td>\n",
       "      <td id=\"T_e3f13_row11_col13\" class=\"data row11 col13\" >0.00</td>\n",
       "      <td id=\"T_e3f13_row11_col14\" class=\"data row11 col14\" >0.0000%</td>\n",
       "      <td id=\"T_e3f13_row11_col15\" class=\"data row11 col15\" >1.00</td>\n",
       "      <td id=\"T_e3f13_row11_col16\" class=\"data row11 col16\" >LinAct360</td>\n",
       "    </tr>\n",
       "    <tr>\n",
       "      <th id=\"T_e3f13_level0_row12\" class=\"row_heading level0 row12\" >12</th>\n",
       "      <td id=\"T_e3f13_row12_col0\" class=\"data row12 col0\" >2024-05-09</td>\n",
       "      <td id=\"T_e3f13_row12_col1\" class=\"data row12 col1\" >2024-11-11</td>\n",
       "      <td id=\"T_e3f13_row12_col2\" class=\"data row12 col2\" >2024-11-11</td>\n",
       "      <td id=\"T_e3f13_row12_col3\" class=\"data row12 col3\" >600,000.00</td>\n",
       "      <td id=\"T_e3f13_row12_col4\" class=\"data row12 col4\" >0.00</td>\n",
       "      <td id=\"T_e3f13_row12_col5\" class=\"data row12 col5\" >True</td>\n",
       "      <td id=\"T_e3f13_row12_col6\" class=\"data row12 col6\" >0.00</td>\n",
       "      <td id=\"T_e3f13_row12_col7\" class=\"data row12 col7\" >CLF</td>\n",
       "      <td id=\"T_e3f13_row12_col8\" class=\"data row12 col8\" >10,000.00</td>\n",
       "      <td id=\"T_e3f13_row12_col9\" class=\"data row12 col9\" >10,000.00</td>\n",
       "      <td id=\"T_e3f13_row12_col10\" class=\"data row12 col10\" >35,000.00</td>\n",
       "      <td id=\"T_e3f13_row12_col11\" class=\"data row12 col11\" >35,000.00</td>\n",
       "      <td id=\"T_e3f13_row12_col12\" class=\"data row12 col12\" >0.0000%</td>\n",
       "      <td id=\"T_e3f13_row12_col13\" class=\"data row12 col13\" >0.00</td>\n",
       "      <td id=\"T_e3f13_row12_col14\" class=\"data row12 col14\" >0.0000%</td>\n",
       "      <td id=\"T_e3f13_row12_col15\" class=\"data row12 col15\" >1.00</td>\n",
       "      <td id=\"T_e3f13_row12_col16\" class=\"data row12 col16\" >LinAct360</td>\n",
       "    </tr>\n",
       "    <tr>\n",
       "      <th id=\"T_e3f13_level0_row13\" class=\"row_heading level0 row13\" >13</th>\n",
       "      <td id=\"T_e3f13_row13_col0\" class=\"data row13 col0\" >2024-11-11</td>\n",
       "      <td id=\"T_e3f13_row13_col1\" class=\"data row13 col1\" >2025-05-09</td>\n",
       "      <td id=\"T_e3f13_row13_col2\" class=\"data row13 col2\" >2025-05-09</td>\n",
       "      <td id=\"T_e3f13_row13_col3\" class=\"data row13 col3\" >600,000.00</td>\n",
       "      <td id=\"T_e3f13_row13_col4\" class=\"data row13 col4\" >0.00</td>\n",
       "      <td id=\"T_e3f13_row13_col5\" class=\"data row13 col5\" >True</td>\n",
       "      <td id=\"T_e3f13_row13_col6\" class=\"data row13 col6\" >0.00</td>\n",
       "      <td id=\"T_e3f13_row13_col7\" class=\"data row13 col7\" >CLF</td>\n",
       "      <td id=\"T_e3f13_row13_col8\" class=\"data row13 col8\" >10,000.00</td>\n",
       "      <td id=\"T_e3f13_row13_col9\" class=\"data row13 col9\" >10,000.00</td>\n",
       "      <td id=\"T_e3f13_row13_col10\" class=\"data row13 col10\" >35,000.00</td>\n",
       "      <td id=\"T_e3f13_row13_col11\" class=\"data row13 col11\" >35,000.00</td>\n",
       "      <td id=\"T_e3f13_row13_col12\" class=\"data row13 col12\" >0.0000%</td>\n",
       "      <td id=\"T_e3f13_row13_col13\" class=\"data row13 col13\" >0.00</td>\n",
       "      <td id=\"T_e3f13_row13_col14\" class=\"data row13 col14\" >0.0000%</td>\n",
       "      <td id=\"T_e3f13_row13_col15\" class=\"data row13 col15\" >1.00</td>\n",
       "      <td id=\"T_e3f13_row13_col16\" class=\"data row13 col16\" >LinAct360</td>\n",
       "    </tr>\n",
       "    <tr>\n",
       "      <th id=\"T_e3f13_level0_row14\" class=\"row_heading level0 row14\" >14</th>\n",
       "      <td id=\"T_e3f13_row14_col0\" class=\"data row14 col0\" >2025-05-09</td>\n",
       "      <td id=\"T_e3f13_row14_col1\" class=\"data row14 col1\" >2025-11-10</td>\n",
       "      <td id=\"T_e3f13_row14_col2\" class=\"data row14 col2\" >2025-11-10</td>\n",
       "      <td id=\"T_e3f13_row14_col3\" class=\"data row14 col3\" >600,000.00</td>\n",
       "      <td id=\"T_e3f13_row14_col4\" class=\"data row14 col4\" >0.00</td>\n",
       "      <td id=\"T_e3f13_row14_col5\" class=\"data row14 col5\" >True</td>\n",
       "      <td id=\"T_e3f13_row14_col6\" class=\"data row14 col6\" >0.00</td>\n",
       "      <td id=\"T_e3f13_row14_col7\" class=\"data row14 col7\" >CLF</td>\n",
       "      <td id=\"T_e3f13_row14_col8\" class=\"data row14 col8\" >10,000.00</td>\n",
       "      <td id=\"T_e3f13_row14_col9\" class=\"data row14 col9\" >10,000.00</td>\n",
       "      <td id=\"T_e3f13_row14_col10\" class=\"data row14 col10\" >35,000.00</td>\n",
       "      <td id=\"T_e3f13_row14_col11\" class=\"data row14 col11\" >35,000.00</td>\n",
       "      <td id=\"T_e3f13_row14_col12\" class=\"data row14 col12\" >0.0000%</td>\n",
       "      <td id=\"T_e3f13_row14_col13\" class=\"data row14 col13\" >0.00</td>\n",
       "      <td id=\"T_e3f13_row14_col14\" class=\"data row14 col14\" >0.0000%</td>\n",
       "      <td id=\"T_e3f13_row14_col15\" class=\"data row14 col15\" >1.00</td>\n",
       "      <td id=\"T_e3f13_row14_col16\" class=\"data row14 col16\" >LinAct360</td>\n",
       "    </tr>\n",
       "    <tr>\n",
       "      <th id=\"T_e3f13_level0_row15\" class=\"row_heading level0 row15\" >15</th>\n",
       "      <td id=\"T_e3f13_row15_col0\" class=\"data row15 col0\" >2025-11-10</td>\n",
       "      <td id=\"T_e3f13_row15_col1\" class=\"data row15 col1\" >2026-05-11</td>\n",
       "      <td id=\"T_e3f13_row15_col2\" class=\"data row15 col2\" >2026-05-11</td>\n",
       "      <td id=\"T_e3f13_row15_col3\" class=\"data row15 col3\" >600,000.00</td>\n",
       "      <td id=\"T_e3f13_row15_col4\" class=\"data row15 col4\" >600,000.00</td>\n",
       "      <td id=\"T_e3f13_row15_col5\" class=\"data row15 col5\" >True</td>\n",
       "      <td id=\"T_e3f13_row15_col6\" class=\"data row15 col6\" >600,000.00</td>\n",
       "      <td id=\"T_e3f13_row15_col7\" class=\"data row15 col7\" >CLF</td>\n",
       "      <td id=\"T_e3f13_row15_col8\" class=\"data row15 col8\" >10,000.00</td>\n",
       "      <td id=\"T_e3f13_row15_col9\" class=\"data row15 col9\" >10,000.00</td>\n",
       "      <td id=\"T_e3f13_row15_col10\" class=\"data row15 col10\" >35,000.00</td>\n",
       "      <td id=\"T_e3f13_row15_col11\" class=\"data row15 col11\" >35,000.00</td>\n",
       "      <td id=\"T_e3f13_row15_col12\" class=\"data row15 col12\" >0.0000%</td>\n",
       "      <td id=\"T_e3f13_row15_col13\" class=\"data row15 col13\" >0.00</td>\n",
       "      <td id=\"T_e3f13_row15_col14\" class=\"data row15 col14\" >0.0000%</td>\n",
       "      <td id=\"T_e3f13_row15_col15\" class=\"data row15 col15\" >1.00</td>\n",
       "      <td id=\"T_e3f13_row15_col16\" class=\"data row15 col16\" >LinAct360</td>\n",
       "    </tr>\n",
       "  </tbody>\n",
       "</table>\n"
      ],
      "text/plain": [
       "<pandas.io.formats.style.Styler at 0x12af55910>"
      ]
     },
     "execution_count": 83,
     "metadata": {},
     "output_type": "execute_result"
    }
   ],
   "source": [
    "# Se define un list donde almacenar los resultados de la función show\n",
    "tabla = []\n",
    "for i in range(0, icp_clf_leg.size()):\n",
    "    tabla.append(qcf.show(icp_clf_leg.get_cashflow_at(i)))\n",
    "\n",
    "# Se utiliza tabla para inicializar el Dataframe\n",
    "columnas = ['fecha_inicial', 'fecha__final', 'fecha__pago', 'nominal', 'amort', 'amort_es_flujo', 'flujo',\n",
    "            'moneda', 'icp_inicial', 'icp_final', 'uf_inicial', 'uf_final',\n",
    "            'valor_tasa', 'interes', 'spread', 'gearing', 'tipo_tasa']\n",
    "df8 = pd.DataFrame(tabla, columns=columnas)\n",
    "\n",
    "# Se despliega la data en este formato\n",
    "df8.style.format(format_dict)"
   ]
  },
  {
   "cell_type": "code",
   "execution_count": 84,
   "metadata": {
    "ExecuteTime": {
     "end_time": "2022-01-24T13:13:32.257544Z",
     "start_time": "2022-01-24T13:13:32.242545Z"
    },
    "execution": {
     "iopub.execute_input": "2023-07-17T23:13:46.119208Z",
     "iopub.status.busy": "2023-07-17T23:13:46.119118Z",
     "iopub.status.idle": "2023-07-17T23:13:46.121030Z",
     "shell.execute_reply": "2023-07-17T23:13:46.120791Z",
     "shell.execute_reply.started": "2023-07-17T23:13:46.119202Z"
    }
   },
   "outputs": [],
   "source": [
    "icp_hoy = 18_882.07\n",
    "uf_hoy = 28440.19\n",
    "fwd_rates.set_rates_icp_clf_leg(fecha_hoy, icp_hoy, uf_hoy, icp_clf_leg, zz1, zz1, zz3)\n",
    "cshflw = icp_clf_leg.get_cashflow_at(3)\n",
    "cshflw.set_start_date_uf(28080.26)\n",
    "cshflw.set_start_date_icp(18786.13)"
   ]
  },
  {
   "cell_type": "code",
   "execution_count": 85,
   "metadata": {
    "ExecuteTime": {
     "end_time": "2022-01-24T13:13:32.272547Z",
     "start_time": "2022-01-24T13:13:32.265544Z"
    },
    "execution": {
     "iopub.execute_input": "2023-07-17T23:13:46.121561Z",
     "iopub.status.busy": "2023-07-17T23:13:46.121484Z",
     "iopub.status.idle": "2023-07-17T23:13:46.123364Z",
     "shell.execute_reply": "2023-07-17T23:13:46.123037Z",
     "shell.execute_reply.started": "2023-07-17T23:13:46.121554Z"
    }
   },
   "outputs": [
    {
     "name": "stdout",
     "output_type": "stream",
     "text": [
      "2020-02-25\n"
     ]
    }
   ],
   "source": [
    "print(fecha_hoy)"
   ]
  },
  {
   "cell_type": "code",
   "execution_count": 86,
   "metadata": {
    "ExecuteTime": {
     "end_time": "2022-01-24T13:13:32.288545Z",
     "start_time": "2022-01-24T13:13:32.273544Z"
    },
    "execution": {
     "iopub.execute_input": "2023-07-17T23:13:46.123922Z",
     "iopub.status.busy": "2023-07-17T23:13:46.123850Z",
     "iopub.status.idle": "2023-07-17T23:13:46.130506Z",
     "shell.execute_reply": "2023-07-17T23:13:46.130287Z",
     "shell.execute_reply.started": "2023-07-17T23:13:46.123915Z"
    }
   },
   "outputs": [
    {
     "data": {
      "text/html": [
       "<style type=\"text/css\">\n",
       "</style>\n",
       "<table id=\"T_b4d41\">\n",
       "  <thead>\n",
       "    <tr>\n",
       "      <th class=\"blank level0\" >&nbsp;</th>\n",
       "      <th id=\"T_b4d41_level0_col0\" class=\"col_heading level0 col0\" >fecha_inicial</th>\n",
       "      <th id=\"T_b4d41_level0_col1\" class=\"col_heading level0 col1\" >fecha__final</th>\n",
       "      <th id=\"T_b4d41_level0_col2\" class=\"col_heading level0 col2\" >fecha__pago</th>\n",
       "      <th id=\"T_b4d41_level0_col3\" class=\"col_heading level0 col3\" >nominal</th>\n",
       "      <th id=\"T_b4d41_level0_col4\" class=\"col_heading level0 col4\" >amort</th>\n",
       "      <th id=\"T_b4d41_level0_col5\" class=\"col_heading level0 col5\" >amort_es_flujo</th>\n",
       "      <th id=\"T_b4d41_level0_col6\" class=\"col_heading level0 col6\" >flujo</th>\n",
       "      <th id=\"T_b4d41_level0_col7\" class=\"col_heading level0 col7\" >moneda</th>\n",
       "      <th id=\"T_b4d41_level0_col8\" class=\"col_heading level0 col8\" >icp_inicial</th>\n",
       "      <th id=\"T_b4d41_level0_col9\" class=\"col_heading level0 col9\" >icp_final</th>\n",
       "      <th id=\"T_b4d41_level0_col10\" class=\"col_heading level0 col10\" >uf_inicial</th>\n",
       "      <th id=\"T_b4d41_level0_col11\" class=\"col_heading level0 col11\" >uf_final</th>\n",
       "      <th id=\"T_b4d41_level0_col12\" class=\"col_heading level0 col12\" >valor_tasa</th>\n",
       "      <th id=\"T_b4d41_level0_col13\" class=\"col_heading level0 col13\" >interes</th>\n",
       "      <th id=\"T_b4d41_level0_col14\" class=\"col_heading level0 col14\" >spread</th>\n",
       "      <th id=\"T_b4d41_level0_col15\" class=\"col_heading level0 col15\" >gearing</th>\n",
       "      <th id=\"T_b4d41_level0_col16\" class=\"col_heading level0 col16\" >tipo_tasa</th>\n",
       "    </tr>\n",
       "  </thead>\n",
       "  <tbody>\n",
       "    <tr>\n",
       "      <th id=\"T_b4d41_level0_row0\" class=\"row_heading level0 row0\" >0</th>\n",
       "      <td id=\"T_b4d41_row0_col0\" class=\"data row0 col0\" >2018-05-31</td>\n",
       "      <td id=\"T_b4d41_row0_col1\" class=\"data row0 col1\" >2018-11-09</td>\n",
       "      <td id=\"T_b4d41_row0_col2\" class=\"data row0 col2\" >2018-11-09</td>\n",
       "      <td id=\"T_b4d41_row0_col3\" class=\"data row0 col3\" >600,000.00</td>\n",
       "      <td id=\"T_b4d41_row0_col4\" class=\"data row0 col4\" >0.00</td>\n",
       "      <td id=\"T_b4d41_row0_col5\" class=\"data row0 col5\" >True</td>\n",
       "      <td id=\"T_b4d41_row0_col6\" class=\"data row0 col6\" >0.00</td>\n",
       "      <td id=\"T_b4d41_row0_col7\" class=\"data row0 col7\" >CLF</td>\n",
       "      <td id=\"T_b4d41_row0_col8\" class=\"data row0 col8\" >10,000.00</td>\n",
       "      <td id=\"T_b4d41_row0_col9\" class=\"data row0 col9\" >10,000.00</td>\n",
       "      <td id=\"T_b4d41_row0_col10\" class=\"data row0 col10\" >35,000.00</td>\n",
       "      <td id=\"T_b4d41_row0_col11\" class=\"data row0 col11\" >35,000.00</td>\n",
       "      <td id=\"T_b4d41_row0_col12\" class=\"data row0 col12\" >0.0000%</td>\n",
       "      <td id=\"T_b4d41_row0_col13\" class=\"data row0 col13\" >0.00</td>\n",
       "      <td id=\"T_b4d41_row0_col14\" class=\"data row0 col14\" >0.0000%</td>\n",
       "      <td id=\"T_b4d41_row0_col15\" class=\"data row0 col15\" >1.00</td>\n",
       "      <td id=\"T_b4d41_row0_col16\" class=\"data row0 col16\" >LinAct360</td>\n",
       "    </tr>\n",
       "    <tr>\n",
       "      <th id=\"T_b4d41_level0_row1\" class=\"row_heading level0 row1\" >1</th>\n",
       "      <td id=\"T_b4d41_row1_col0\" class=\"data row1 col0\" >2018-11-09</td>\n",
       "      <td id=\"T_b4d41_row1_col1\" class=\"data row1 col1\" >2019-05-09</td>\n",
       "      <td id=\"T_b4d41_row1_col2\" class=\"data row1 col2\" >2019-05-09</td>\n",
       "      <td id=\"T_b4d41_row1_col3\" class=\"data row1 col3\" >600,000.00</td>\n",
       "      <td id=\"T_b4d41_row1_col4\" class=\"data row1 col4\" >0.00</td>\n",
       "      <td id=\"T_b4d41_row1_col5\" class=\"data row1 col5\" >True</td>\n",
       "      <td id=\"T_b4d41_row1_col6\" class=\"data row1 col6\" >0.00</td>\n",
       "      <td id=\"T_b4d41_row1_col7\" class=\"data row1 col7\" >CLF</td>\n",
       "      <td id=\"T_b4d41_row1_col8\" class=\"data row1 col8\" >10,000.00</td>\n",
       "      <td id=\"T_b4d41_row1_col9\" class=\"data row1 col9\" >10,000.00</td>\n",
       "      <td id=\"T_b4d41_row1_col10\" class=\"data row1 col10\" >35,000.00</td>\n",
       "      <td id=\"T_b4d41_row1_col11\" class=\"data row1 col11\" >35,000.00</td>\n",
       "      <td id=\"T_b4d41_row1_col12\" class=\"data row1 col12\" >0.0000%</td>\n",
       "      <td id=\"T_b4d41_row1_col13\" class=\"data row1 col13\" >0.00</td>\n",
       "      <td id=\"T_b4d41_row1_col14\" class=\"data row1 col14\" >0.0000%</td>\n",
       "      <td id=\"T_b4d41_row1_col15\" class=\"data row1 col15\" >1.00</td>\n",
       "      <td id=\"T_b4d41_row1_col16\" class=\"data row1 col16\" >LinAct360</td>\n",
       "    </tr>\n",
       "    <tr>\n",
       "      <th id=\"T_b4d41_level0_row2\" class=\"row_heading level0 row2\" >2</th>\n",
       "      <td id=\"T_b4d41_row2_col0\" class=\"data row2 col0\" >2019-05-09</td>\n",
       "      <td id=\"T_b4d41_row2_col1\" class=\"data row2 col1\" >2019-11-11</td>\n",
       "      <td id=\"T_b4d41_row2_col2\" class=\"data row2 col2\" >2019-11-11</td>\n",
       "      <td id=\"T_b4d41_row2_col3\" class=\"data row2 col3\" >600,000.00</td>\n",
       "      <td id=\"T_b4d41_row2_col4\" class=\"data row2 col4\" >0.00</td>\n",
       "      <td id=\"T_b4d41_row2_col5\" class=\"data row2 col5\" >True</td>\n",
       "      <td id=\"T_b4d41_row2_col6\" class=\"data row2 col6\" >0.00</td>\n",
       "      <td id=\"T_b4d41_row2_col7\" class=\"data row2 col7\" >CLF</td>\n",
       "      <td id=\"T_b4d41_row2_col8\" class=\"data row2 col8\" >10,000.00</td>\n",
       "      <td id=\"T_b4d41_row2_col9\" class=\"data row2 col9\" >10,000.00</td>\n",
       "      <td id=\"T_b4d41_row2_col10\" class=\"data row2 col10\" >35,000.00</td>\n",
       "      <td id=\"T_b4d41_row2_col11\" class=\"data row2 col11\" >35,000.00</td>\n",
       "      <td id=\"T_b4d41_row2_col12\" class=\"data row2 col12\" >0.0000%</td>\n",
       "      <td id=\"T_b4d41_row2_col13\" class=\"data row2 col13\" >0.00</td>\n",
       "      <td id=\"T_b4d41_row2_col14\" class=\"data row2 col14\" >0.0000%</td>\n",
       "      <td id=\"T_b4d41_row2_col15\" class=\"data row2 col15\" >1.00</td>\n",
       "      <td id=\"T_b4d41_row2_col16\" class=\"data row2 col16\" >LinAct360</td>\n",
       "    </tr>\n",
       "    <tr>\n",
       "      <th id=\"T_b4d41_level0_row3\" class=\"row_heading level0 row3\" >3</th>\n",
       "      <td id=\"T_b4d41_row3_col0\" class=\"data row3 col0\" >2019-11-11</td>\n",
       "      <td id=\"T_b4d41_row3_col1\" class=\"data row3 col1\" >2020-05-11</td>\n",
       "      <td id=\"T_b4d41_row3_col2\" class=\"data row3 col2\" >2020-05-11</td>\n",
       "      <td id=\"T_b4d41_row3_col3\" class=\"data row3 col3\" >600,000.00</td>\n",
       "      <td id=\"T_b4d41_row3_col4\" class=\"data row3 col4\" >0.00</td>\n",
       "      <td id=\"T_b4d41_row3_col5\" class=\"data row3 col5\" >True</td>\n",
       "      <td id=\"T_b4d41_row3_col6\" class=\"data row3 col6\" >-7,178.78</td>\n",
       "      <td id=\"T_b4d41_row3_col7\" class=\"data row3 col7\" >CLF</td>\n",
       "      <td id=\"T_b4d41_row3_col8\" class=\"data row3 col8\" >18,786.13</td>\n",
       "      <td id=\"T_b4d41_row3_col9\" class=\"data row3 col9\" >18,943.62</td>\n",
       "      <td id=\"T_b4d41_row3_col10\" class=\"data row3 col10\" >28,080.26</td>\n",
       "      <td id=\"T_b4d41_row3_col11\" class=\"data row3 col11\" >28,658.55</td>\n",
       "      <td id=\"T_b4d41_row3_col12\" class=\"data row3 col12\" >-2.3649%</td>\n",
       "      <td id=\"T_b4d41_row3_col13\" class=\"data row3 col13\" >-7,173.53</td>\n",
       "      <td id=\"T_b4d41_row3_col14\" class=\"data row3 col14\" >0.0000%</td>\n",
       "      <td id=\"T_b4d41_row3_col15\" class=\"data row3 col15\" >1.00</td>\n",
       "      <td id=\"T_b4d41_row3_col16\" class=\"data row3 col16\" >LinAct360</td>\n",
       "    </tr>\n",
       "    <tr>\n",
       "      <th id=\"T_b4d41_level0_row4\" class=\"row_heading level0 row4\" >4</th>\n",
       "      <td id=\"T_b4d41_row4_col0\" class=\"data row4 col0\" >2020-05-11</td>\n",
       "      <td id=\"T_b4d41_row4_col1\" class=\"data row4 col1\" >2020-11-09</td>\n",
       "      <td id=\"T_b4d41_row4_col2\" class=\"data row4 col2\" >2020-11-09</td>\n",
       "      <td id=\"T_b4d41_row4_col3\" class=\"data row4 col3\" >600,000.00</td>\n",
       "      <td id=\"T_b4d41_row4_col4\" class=\"data row4 col4\" >0.00</td>\n",
       "      <td id=\"T_b4d41_row4_col5\" class=\"data row4 col5\" >True</td>\n",
       "      <td id=\"T_b4d41_row4_col6\" class=\"data row4 col6\" >-5,300.72</td>\n",
       "      <td id=\"T_b4d41_row4_col7\" class=\"data row4 col7\" >CLF</td>\n",
       "      <td id=\"T_b4d41_row4_col8\" class=\"data row4 col8\" >18,943.62</td>\n",
       "      <td id=\"T_b4d41_row4_col9\" class=\"data row4 col9\" >19,056.79</td>\n",
       "      <td id=\"T_b4d41_row4_col10\" class=\"data row4 col10\" >28,658.55</td>\n",
       "      <td id=\"T_b4d41_row4_col11\" class=\"data row4 col11\" >29,086.73</td>\n",
       "      <td id=\"T_b4d41_row4_col12\" class=\"data row4 col12\" >-1.7492%</td>\n",
       "      <td id=\"T_b4d41_row4_col13\" class=\"data row4 col13\" >-5,305.91</td>\n",
       "      <td id=\"T_b4d41_row4_col14\" class=\"data row4 col14\" >0.0000%</td>\n",
       "      <td id=\"T_b4d41_row4_col15\" class=\"data row4 col15\" >1.00</td>\n",
       "      <td id=\"T_b4d41_row4_col16\" class=\"data row4 col16\" >LinAct360</td>\n",
       "    </tr>\n",
       "    <tr>\n",
       "      <th id=\"T_b4d41_level0_row5\" class=\"row_heading level0 row5\" >5</th>\n",
       "      <td id=\"T_b4d41_row5_col0\" class=\"data row5 col0\" >2020-11-09</td>\n",
       "      <td id=\"T_b4d41_row5_col1\" class=\"data row5 col1\" >2021-05-10</td>\n",
       "      <td id=\"T_b4d41_row5_col2\" class=\"data row5 col2\" >2021-05-10</td>\n",
       "      <td id=\"T_b4d41_row5_col3\" class=\"data row5 col3\" >600,000.00</td>\n",
       "      <td id=\"T_b4d41_row5_col4\" class=\"data row5 col4\" >0.00</td>\n",
       "      <td id=\"T_b4d41_row5_col5\" class=\"data row5 col5\" >True</td>\n",
       "      <td id=\"T_b4d41_row5_col6\" class=\"data row5 col6\" >-3,909.59</td>\n",
       "      <td id=\"T_b4d41_row5_col7\" class=\"data row5 col7\" >CLF</td>\n",
       "      <td id=\"T_b4d41_row5_col8\" class=\"data row5 col8\" >19,056.79</td>\n",
       "      <td id=\"T_b4d41_row5_col9\" class=\"data row5 col9\" >19,182.42</td>\n",
       "      <td id=\"T_b4d41_row5_col10\" class=\"data row5 col10\" >29,086.73</td>\n",
       "      <td id=\"T_b4d41_row5_col11\" class=\"data row5 col11\" >29,470.52</td>\n",
       "      <td id=\"T_b4d41_row5_col12\" class=\"data row5 col12\" >-1.2929%</td>\n",
       "      <td id=\"T_b4d41_row5_col13\" class=\"data row5 col13\" >-3,921.80</td>\n",
       "      <td id=\"T_b4d41_row5_col14\" class=\"data row5 col14\" >0.0000%</td>\n",
       "      <td id=\"T_b4d41_row5_col15\" class=\"data row5 col15\" >1.00</td>\n",
       "      <td id=\"T_b4d41_row5_col16\" class=\"data row5 col16\" >LinAct360</td>\n",
       "    </tr>\n",
       "    <tr>\n",
       "      <th id=\"T_b4d41_level0_row6\" class=\"row_heading level0 row6\" >6</th>\n",
       "      <td id=\"T_b4d41_row6_col0\" class=\"data row6 col0\" >2021-05-10</td>\n",
       "      <td id=\"T_b4d41_row6_col1\" class=\"data row6 col1\" >2021-11-09</td>\n",
       "      <td id=\"T_b4d41_row6_col2\" class=\"data row6 col2\" >2021-11-09</td>\n",
       "      <td id=\"T_b4d41_row6_col3\" class=\"data row6 col3\" >600,000.00</td>\n",
       "      <td id=\"T_b4d41_row6_col4\" class=\"data row6 col4\" >0.00</td>\n",
       "      <td id=\"T_b4d41_row6_col5\" class=\"data row6 col5\" >True</td>\n",
       "      <td id=\"T_b4d41_row6_col6\" class=\"data row6 col6\" >-4,842.13</td>\n",
       "      <td id=\"T_b4d41_row6_col7\" class=\"data row6 col7\" >CLF</td>\n",
       "      <td id=\"T_b4d41_row6_col8\" class=\"data row6 col8\" >19,182.42</td>\n",
       "      <td id=\"T_b4d41_row6_col9\" class=\"data row6 col9\" >19,306.95</td>\n",
       "      <td id=\"T_b4d41_row6_col10\" class=\"data row6 col10\" >29,470.52</td>\n",
       "      <td id=\"T_b4d41_row6_col11\" class=\"data row6 col11\" >29,903.16</td>\n",
       "      <td id=\"T_b4d41_row6_col12\" class=\"data row6 col12\" >-1.5847%</td>\n",
       "      <td id=\"T_b4d41_row6_col13\" class=\"data row6 col13\" >-4,833.34</td>\n",
       "      <td id=\"T_b4d41_row6_col14\" class=\"data row6 col14\" >0.0000%</td>\n",
       "      <td id=\"T_b4d41_row6_col15\" class=\"data row6 col15\" >1.00</td>\n",
       "      <td id=\"T_b4d41_row6_col16\" class=\"data row6 col16\" >LinAct360</td>\n",
       "    </tr>\n",
       "    <tr>\n",
       "      <th id=\"T_b4d41_level0_row7\" class=\"row_heading level0 row7\" >7</th>\n",
       "      <td id=\"T_b4d41_row7_col0\" class=\"data row7 col0\" >2021-11-09</td>\n",
       "      <td id=\"T_b4d41_row7_col1\" class=\"data row7 col1\" >2022-05-09</td>\n",
       "      <td id=\"T_b4d41_row7_col2\" class=\"data row7 col2\" >2022-05-09</td>\n",
       "      <td id=\"T_b4d41_row7_col3\" class=\"data row7 col3\" >600,000.00</td>\n",
       "      <td id=\"T_b4d41_row7_col4\" class=\"data row7 col4\" >0.00</td>\n",
       "      <td id=\"T_b4d41_row7_col5\" class=\"data row7 col5\" >True</td>\n",
       "      <td id=\"T_b4d41_row7_col6\" class=\"data row7 col6\" >-5,431.38</td>\n",
       "      <td id=\"T_b4d41_row7_col7\" class=\"data row7 col7\" >CLF</td>\n",
       "      <td id=\"T_b4d41_row7_col8\" class=\"data row7 col8\" >19,306.95</td>\n",
       "      <td id=\"T_b4d41_row7_col9\" class=\"data row7 col9\" >19,440.27</td>\n",
       "      <td id=\"T_b4d41_row7_col10\" class=\"data row7 col10\" >29,903.16</td>\n",
       "      <td id=\"T_b4d41_row7_col11\" class=\"data row7 col11\" >30,384.70</td>\n",
       "      <td id=\"T_b4d41_row7_col12\" class=\"data row7 col12\" >-1.8038%</td>\n",
       "      <td id=\"T_b4d41_row7_col13\" class=\"data row7 col13\" >-5,441.46</td>\n",
       "      <td id=\"T_b4d41_row7_col14\" class=\"data row7 col14\" >0.0000%</td>\n",
       "      <td id=\"T_b4d41_row7_col15\" class=\"data row7 col15\" >1.00</td>\n",
       "      <td id=\"T_b4d41_row7_col16\" class=\"data row7 col16\" >LinAct360</td>\n",
       "    </tr>\n",
       "    <tr>\n",
       "      <th id=\"T_b4d41_level0_row8\" class=\"row_heading level0 row8\" >8</th>\n",
       "      <td id=\"T_b4d41_row8_col0\" class=\"data row8 col0\" >2022-05-09</td>\n",
       "      <td id=\"T_b4d41_row8_col1\" class=\"data row8 col1\" >2022-11-09</td>\n",
       "      <td id=\"T_b4d41_row8_col2\" class=\"data row8 col2\" >2022-11-09</td>\n",
       "      <td id=\"T_b4d41_row8_col3\" class=\"data row8 col3\" >600,000.00</td>\n",
       "      <td id=\"T_b4d41_row8_col4\" class=\"data row8 col4\" >0.00</td>\n",
       "      <td id=\"T_b4d41_row8_col5\" class=\"data row8 col5\" >True</td>\n",
       "      <td id=\"T_b4d41_row8_col6\" class=\"data row8 col6\" >-3,700.83</td>\n",
       "      <td id=\"T_b4d41_row8_col7\" class=\"data row8 col7\" >CLF</td>\n",
       "      <td id=\"T_b4d41_row8_col8\" class=\"data row8 col8\" >19,440.27</td>\n",
       "      <td id=\"T_b4d41_row8_col9\" class=\"data row8 col9\" >19,606.92</td>\n",
       "      <td id=\"T_b4d41_row8_col10\" class=\"data row8 col10\" >30,384.70</td>\n",
       "      <td id=\"T_b4d41_row8_col11\" class=\"data row8 col11\" >30,835.35</td>\n",
       "      <td id=\"T_b4d41_row8_col12\" class=\"data row8 col12\" >-1.2040%</td>\n",
       "      <td id=\"T_b4d41_row8_col13\" class=\"data row8 col13\" >-3,692.27</td>\n",
       "      <td id=\"T_b4d41_row8_col14\" class=\"data row8 col14\" >0.0000%</td>\n",
       "      <td id=\"T_b4d41_row8_col15\" class=\"data row8 col15\" >1.00</td>\n",
       "      <td id=\"T_b4d41_row8_col16\" class=\"data row8 col16\" >LinAct360</td>\n",
       "    </tr>\n",
       "    <tr>\n",
       "      <th id=\"T_b4d41_level0_row9\" class=\"row_heading level0 row9\" >9</th>\n",
       "      <td id=\"T_b4d41_row9_col0\" class=\"data row9 col0\" >2022-11-09</td>\n",
       "      <td id=\"T_b4d41_row9_col1\" class=\"data row9 col1\" >2023-05-09</td>\n",
       "      <td id=\"T_b4d41_row9_col2\" class=\"data row9 col2\" >2023-05-09</td>\n",
       "      <td id=\"T_b4d41_row9_col3\" class=\"data row9 col3\" >600,000.00</td>\n",
       "      <td id=\"T_b4d41_row9_col4\" class=\"data row9 col4\" >0.00</td>\n",
       "      <td id=\"T_b4d41_row9_col5\" class=\"data row9 col5\" >True</td>\n",
       "      <td id=\"T_b4d41_row9_col6\" class=\"data row9 col6\" >-2,958.63</td>\n",
       "      <td id=\"T_b4d41_row9_col7\" class=\"data row9 col7\" >CLF</td>\n",
       "      <td id=\"T_b4d41_row9_col8\" class=\"data row9 col8\" >19,606.92</td>\n",
       "      <td id=\"T_b4d41_row9_col9\" class=\"data row9 col9\" >19,794.39</td>\n",
       "      <td id=\"T_b4d41_row9_col10\" class=\"data row9 col10\" >30,835.35</td>\n",
       "      <td id=\"T_b4d41_row9_col11\" class=\"data row9 col11\" >31,284.45</td>\n",
       "      <td id=\"T_b4d41_row9_col12\" class=\"data row9 col12\" >-0.9825%</td>\n",
       "      <td id=\"T_b4d41_row9_col13\" class=\"data row9 col13\" >-2,963.88</td>\n",
       "      <td id=\"T_b4d41_row9_col14\" class=\"data row9 col14\" >0.0000%</td>\n",
       "      <td id=\"T_b4d41_row9_col15\" class=\"data row9 col15\" >1.00</td>\n",
       "      <td id=\"T_b4d41_row9_col16\" class=\"data row9 col16\" >LinAct360</td>\n",
       "    </tr>\n",
       "    <tr>\n",
       "      <th id=\"T_b4d41_level0_row10\" class=\"row_heading level0 row10\" >10</th>\n",
       "      <td id=\"T_b4d41_row10_col0\" class=\"data row10 col0\" >2023-05-09</td>\n",
       "      <td id=\"T_b4d41_row10_col1\" class=\"data row10 col1\" >2023-11-09</td>\n",
       "      <td id=\"T_b4d41_row10_col2\" class=\"data row10 col2\" >2023-11-09</td>\n",
       "      <td id=\"T_b4d41_row10_col3\" class=\"data row10 col3\" >600,000.00</td>\n",
       "      <td id=\"T_b4d41_row10_col4\" class=\"data row10 col4\" >0.00</td>\n",
       "      <td id=\"T_b4d41_row10_col5\" class=\"data row10 col5\" >True</td>\n",
       "      <td id=\"T_b4d41_row10_col6\" class=\"data row10 col6\" >-2,109.44</td>\n",
       "      <td id=\"T_b4d41_row10_col7\" class=\"data row10 col7\" >CLF</td>\n",
       "      <td id=\"T_b4d41_row10_col8\" class=\"data row10 col8\" >19,794.39</td>\n",
       "      <td id=\"T_b4d41_row10_col9\" class=\"data row10 col9\" >20,019.87</td>\n",
       "      <td id=\"T_b4d41_row10_col10\" class=\"data row10 col10\" >31,284.45</td>\n",
       "      <td id=\"T_b4d41_row10_col11\" class=\"data row10 col11\" >31,752.45</td>\n",
       "      <td id=\"T_b4d41_row10_col12\" class=\"data row10 col12\" >-0.6866%</td>\n",
       "      <td id=\"T_b4d41_row10_col13\" class=\"data row10 col13\" >-2,105.57</td>\n",
       "      <td id=\"T_b4d41_row10_col14\" class=\"data row10 col14\" >0.0000%</td>\n",
       "      <td id=\"T_b4d41_row10_col15\" class=\"data row10 col15\" >1.00</td>\n",
       "      <td id=\"T_b4d41_row10_col16\" class=\"data row10 col16\" >LinAct360</td>\n",
       "    </tr>\n",
       "    <tr>\n",
       "      <th id=\"T_b4d41_level0_row11\" class=\"row_heading level0 row11\" >11</th>\n",
       "      <td id=\"T_b4d41_row11_col0\" class=\"data row11 col0\" >2023-11-09</td>\n",
       "      <td id=\"T_b4d41_row11_col1\" class=\"data row11 col1\" >2024-05-09</td>\n",
       "      <td id=\"T_b4d41_row11_col2\" class=\"data row11 col2\" >2024-05-09</td>\n",
       "      <td id=\"T_b4d41_row11_col3\" class=\"data row11 col3\" >600,000.00</td>\n",
       "      <td id=\"T_b4d41_row11_col4\" class=\"data row11 col4\" >0.00</td>\n",
       "      <td id=\"T_b4d41_row11_col5\" class=\"data row11 col5\" >True</td>\n",
       "      <td id=\"T_b4d41_row11_col6\" class=\"data row11 col6\" >-1,201.71</td>\n",
       "      <td id=\"T_b4d41_row11_col7\" class=\"data row11 col7\" >CLF</td>\n",
       "      <td id=\"T_b4d41_row11_col8\" class=\"data row11 col8\" >20,019.87</td>\n",
       "      <td id=\"T_b4d41_row11_col9\" class=\"data row11 col9\" >20,277.70</td>\n",
       "      <td id=\"T_b4d41_row11_col10\" class=\"data row11 col10\" >31,752.45</td>\n",
       "      <td id=\"T_b4d41_row11_col11\" class=\"data row11 col11\" >32,225.93</td>\n",
       "      <td id=\"T_b4d41_row11_col12\" class=\"data row11 col12\" >-0.3937%</td>\n",
       "      <td id=\"T_b4d41_row11_col13\" class=\"data row11 col13\" >-1,194.22</td>\n",
       "      <td id=\"T_b4d41_row11_col14\" class=\"data row11 col14\" >0.0000%</td>\n",
       "      <td id=\"T_b4d41_row11_col15\" class=\"data row11 col15\" >1.00</td>\n",
       "      <td id=\"T_b4d41_row11_col16\" class=\"data row11 col16\" >LinAct360</td>\n",
       "    </tr>\n",
       "    <tr>\n",
       "      <th id=\"T_b4d41_level0_row12\" class=\"row_heading level0 row12\" >12</th>\n",
       "      <td id=\"T_b4d41_row12_col0\" class=\"data row12 col0\" >2024-05-09</td>\n",
       "      <td id=\"T_b4d41_row12_col1\" class=\"data row12 col1\" >2024-11-11</td>\n",
       "      <td id=\"T_b4d41_row12_col2\" class=\"data row12 col2\" >2024-11-11</td>\n",
       "      <td id=\"T_b4d41_row12_col3\" class=\"data row12 col3\" >600,000.00</td>\n",
       "      <td id=\"T_b4d41_row12_col4\" class=\"data row12 col4\" >0.00</td>\n",
       "      <td id=\"T_b4d41_row12_col5\" class=\"data row12 col5\" >True</td>\n",
       "      <td id=\"T_b4d41_row12_col6\" class=\"data row12 col6\" >-92.82</td>\n",
       "      <td id=\"T_b4d41_row12_col7\" class=\"data row12 col7\" >CLF</td>\n",
       "      <td id=\"T_b4d41_row12_col8\" class=\"data row12 col8\" >20,277.70</td>\n",
       "      <td id=\"T_b4d41_row12_col9\" class=\"data row12 col9\" >20,590.52</td>\n",
       "      <td id=\"T_b4d41_row12_col10\" class=\"data row12 col10\" >32,225.93</td>\n",
       "      <td id=\"T_b4d41_row12_col11\" class=\"data row12 col11\" >32,728.13</td>\n",
       "      <td id=\"T_b4d41_row12_col12\" class=\"data row12 col12\" >-0.0258%</td>\n",
       "      <td id=\"T_b4d41_row12_col13\" class=\"data row12 col13\" >-79.98</td>\n",
       "      <td id=\"T_b4d41_row12_col14\" class=\"data row12 col14\" >0.0000%</td>\n",
       "      <td id=\"T_b4d41_row12_col15\" class=\"data row12 col15\" >1.00</td>\n",
       "      <td id=\"T_b4d41_row12_col16\" class=\"data row12 col16\" >LinAct360</td>\n",
       "    </tr>\n",
       "    <tr>\n",
       "      <th id=\"T_b4d41_level0_row13\" class=\"row_heading level0 row13\" >13</th>\n",
       "      <td id=\"T_b4d41_row13_col0\" class=\"data row13 col0\" >2024-11-11</td>\n",
       "      <td id=\"T_b4d41_row13_col1\" class=\"data row13 col1\" >2025-05-09</td>\n",
       "      <td id=\"T_b4d41_row13_col2\" class=\"data row13 col2\" >2025-05-09</td>\n",
       "      <td id=\"T_b4d41_row13_col3\" class=\"data row13 col3\" >600,000.00</td>\n",
       "      <td id=\"T_b4d41_row13_col4\" class=\"data row13 col4\" >0.00</td>\n",
       "      <td id=\"T_b4d41_row13_col5\" class=\"data row13 col5\" >True</td>\n",
       "      <td id=\"T_b4d41_row13_col6\" class=\"data row13 col6\" >488.22</td>\n",
       "      <td id=\"T_b4d41_row13_col7\" class=\"data row13 col7\" >CLF</td>\n",
       "      <td id=\"T_b4d41_row13_col8\" class=\"data row13 col8\" >20,590.52</td>\n",
       "      <td id=\"T_b4d41_row13_col9\" class=\"data row13 col9\" >20,916.74</td>\n",
       "      <td id=\"T_b4d41_row13_col10\" class=\"data row13 col10\" >32,728.13</td>\n",
       "      <td id=\"T_b4d41_row13_col11\" class=\"data row13 col11\" >33,219.63</td>\n",
       "      <td id=\"T_b4d41_row13_col12\" class=\"data row13 col12\" >0.1672%</td>\n",
       "      <td id=\"T_b4d41_row13_col13\" class=\"data row13 col13\" >498.81</td>\n",
       "      <td id=\"T_b4d41_row13_col14\" class=\"data row13 col14\" >0.0000%</td>\n",
       "      <td id=\"T_b4d41_row13_col15\" class=\"data row13 col15\" >1.00</td>\n",
       "      <td id=\"T_b4d41_row13_col16\" class=\"data row13 col16\" >LinAct360</td>\n",
       "    </tr>\n",
       "    <tr>\n",
       "      <th id=\"T_b4d41_level0_row14\" class=\"row_heading level0 row14\" >14</th>\n",
       "      <td id=\"T_b4d41_row14_col0\" class=\"data row14 col0\" >2025-05-09</td>\n",
       "      <td id=\"T_b4d41_row14_col1\" class=\"data row14 col1\" >2025-11-10</td>\n",
       "      <td id=\"T_b4d41_row14_col2\" class=\"data row14 col2\" >2025-11-10</td>\n",
       "      <td id=\"T_b4d41_row14_col3\" class=\"data row14 col3\" >600,000.00</td>\n",
       "      <td id=\"T_b4d41_row14_col4\" class=\"data row14 col4\" >0.00</td>\n",
       "      <td id=\"T_b4d41_row14_col5\" class=\"data row14 col5\" >True</td>\n",
       "      <td id=\"T_b4d41_row14_col6\" class=\"data row14 col6\" >892.29</td>\n",
       "      <td id=\"T_b4d41_row14_col7\" class=\"data row14 col7\" >CLF</td>\n",
       "      <td id=\"T_b4d41_row14_col8\" class=\"data row14 col8\" >20,916.74</td>\n",
       "      <td id=\"T_b4d41_row14_col9\" class=\"data row14 col9\" >21,275.98</td>\n",
       "      <td id=\"T_b4d41_row14_col10\" class=\"data row14 col10\" >33,219.63</td>\n",
       "      <td id=\"T_b4d41_row14_col11\" class=\"data row14 col11\" >33,739.98</td>\n",
       "      <td id=\"T_b4d41_row14_col12\" class=\"data row14 col12\" >0.2874%</td>\n",
       "      <td id=\"T_b4d41_row14_col13\" class=\"data row14 col13\" >886.15</td>\n",
       "      <td id=\"T_b4d41_row14_col14\" class=\"data row14 col14\" >0.0000%</td>\n",
       "      <td id=\"T_b4d41_row14_col15\" class=\"data row14 col15\" >1.00</td>\n",
       "      <td id=\"T_b4d41_row14_col16\" class=\"data row14 col16\" >LinAct360</td>\n",
       "    </tr>\n",
       "    <tr>\n",
       "      <th id=\"T_b4d41_level0_row15\" class=\"row_heading level0 row15\" >15</th>\n",
       "      <td id=\"T_b4d41_row15_col0\" class=\"data row15 col0\" >2025-11-10</td>\n",
       "      <td id=\"T_b4d41_row15_col1\" class=\"data row15 col1\" >2026-05-11</td>\n",
       "      <td id=\"T_b4d41_row15_col2\" class=\"data row15 col2\" >2026-05-11</td>\n",
       "      <td id=\"T_b4d41_row15_col3\" class=\"data row15 col3\" >600,000.00</td>\n",
       "      <td id=\"T_b4d41_row15_col4\" class=\"data row15 col4\" >600,000.00</td>\n",
       "      <td id=\"T_b4d41_row15_col5\" class=\"data row15 col5\" >True</td>\n",
       "      <td id=\"T_b4d41_row15_col6\" class=\"data row15 col6\" >601,540.00</td>\n",
       "      <td id=\"T_b4d41_row15_col7\" class=\"data row15 col7\" >CLF</td>\n",
       "      <td id=\"T_b4d41_row15_col8\" class=\"data row15 col8\" >21,275.98</td>\n",
       "      <td id=\"T_b4d41_row15_col9\" class=\"data row15 col9\" >21,660.54</td>\n",
       "      <td id=\"T_b4d41_row15_col10\" class=\"data row15 col10\" >33,739.98</td>\n",
       "      <td id=\"T_b4d41_row15_col11\" class=\"data row15 col11\" >34,261.88</td>\n",
       "      <td id=\"T_b4d41_row15_col12\" class=\"data row15 col12\" >0.5124%</td>\n",
       "      <td id=\"T_b4d41_row15_col13\" class=\"data row15 col13\" >1,554.28</td>\n",
       "      <td id=\"T_b4d41_row15_col14\" class=\"data row15 col14\" >0.0000%</td>\n",
       "      <td id=\"T_b4d41_row15_col15\" class=\"data row15 col15\" >1.00</td>\n",
       "      <td id=\"T_b4d41_row15_col16\" class=\"data row15 col16\" >LinAct360</td>\n",
       "    </tr>\n",
       "  </tbody>\n",
       "</table>\n"
      ],
      "text/plain": [
       "<pandas.io.formats.style.Styler at 0x12af30150>"
      ]
     },
     "execution_count": 86,
     "metadata": {},
     "output_type": "execute_result"
    }
   ],
   "source": [
    "# Se define un list donde almacenar los resultados de la función show\n",
    "tabla = []\n",
    "for i in range(0, icp_clf_leg.size()):\n",
    "    tabla.append(qcf.show(icp_clf_leg.get_cashflow_at(i)))\n",
    "\n",
    "# Se utiliza tabla para inicializar el Dataframe\n",
    "columnas = ['fecha_inicial', 'fecha__final', 'fecha__pago', 'nominal', 'amort', 'amort_es_flujo', 'flujo',\n",
    "            'moneda', 'icp_inicial', 'icp_final', 'uf_inicial', 'uf_final',\n",
    "            'valor_tasa', 'interes', 'spread', 'gearing', 'tipo_tasa']\n",
    "df8 = pd.DataFrame(tabla, columns=columnas)\n",
    "\n",
    "# Se despliega la data en este formato\n",
    "df8.style.format(format_dict)"
   ]
  },
  {
   "cell_type": "code",
   "execution_count": 87,
   "metadata": {
    "ExecuteTime": {
     "end_time": "2022-01-24T13:13:32.304548Z",
     "start_time": "2022-01-24T13:13:32.289545Z"
    },
    "execution": {
     "iopub.execute_input": "2023-07-17T23:13:46.131215Z",
     "iopub.status.busy": "2023-07-17T23:13:46.130986Z",
     "iopub.status.idle": "2023-07-17T23:13:46.132881Z",
     "shell.execute_reply": "2023-07-17T23:13:46.132640Z",
     "shell.execute_reply.started": "2023-07-17T23:13:46.131205Z"
    }
   },
   "outputs": [
    {
     "name": "stdout",
     "output_type": "stream",
     "text": [
      "Valor presente en UF: 595,431.99\n",
      "Valor presente en CLP: 16,934,198,846\n"
     ]
    }
   ],
   "source": [
    "vp_icp_clf = pv.pv(fecha_hoy, icp_clf_leg, zz3)\n",
    "print(\"Valor presente en UF: {0:,.2f}\".format(vp_icp_clf))\n",
    "print(\"Valor presente en CLP: {0:,.0f}\".format(vp_icp_clf * uf_hoy))"
   ]
  },
  {
   "cell_type": "code",
   "execution_count": 88,
   "metadata": {
    "ExecuteTime": {
     "end_time": "2022-01-24T13:13:32.320543Z",
     "start_time": "2022-01-24T13:13:32.305544Z"
    },
    "execution": {
     "iopub.execute_input": "2023-07-17T23:13:46.133246Z",
     "iopub.status.busy": "2023-07-17T23:13:46.133173Z",
     "iopub.status.idle": "2023-07-17T23:13:46.135142Z",
     "shell.execute_reply": "2023-07-17T23:13:46.134803Z",
     "shell.execute_reply.started": "2023-07-17T23:13:46.133241Z"
    }
   },
   "outputs": [
    {
     "name": "stdout",
     "output_type": "stream",
     "text": [
      "Dif %: -0.0223%\n"
     ]
    }
   ],
   "source": [
    "print(\"Dif %: {0:.4%}\".format(12_940.56/12_943.45-1))"
   ]
  },
  {
   "cell_type": "code",
   "execution_count": 89,
   "metadata": {
    "ExecuteTime": {
     "end_time": "2022-01-24T13:13:32.336545Z",
     "start_time": "2022-01-24T13:13:32.321544Z"
    },
    "cell_style": "center",
    "execution": {
     "iopub.execute_input": "2023-07-17T23:13:46.135549Z",
     "iopub.status.busy": "2023-07-17T23:13:46.135455Z",
     "iopub.status.idle": "2023-07-17T23:13:46.137910Z",
     "shell.execute_reply": "2023-07-17T23:13:46.137615Z",
     "shell.execute_reply.started": "2023-07-17T23:13:46.135541Z"
    },
    "scrolled": true
   },
   "outputs": [
    {
     "name": "stdout",
     "output_type": "stream",
     "text": [
      "Sensibilidad en 0: 0.00\n",
      "Sensibilidad en 1: 0.00\n",
      "Sensibilidad en 2: 0.00\n",
      "Sensibilidad en 3: 0.10\n",
      "Sensibilidad en 4: 0.06\n",
      "Sensibilidad en 5: 0.00\n",
      "Sensibilidad en 6: 0.00\n",
      "Sensibilidad en 7: 0.00\n",
      "Sensibilidad en 8: 0.00\n",
      "Sensibilidad en 9: 0.27\n",
      "Sensibilidad en 10: 0.12\n",
      "Sensibilidad en 11: 0.00\n",
      "Sensibilidad en 12: 0.00\n",
      "Sensibilidad en 13: 0.00\n",
      "Sensibilidad en 14: 0.00\n",
      "Sensibilidad en 15: 0.32\n",
      "Sensibilidad en 16: 0.18\n",
      "Sensibilidad en 17: 0.00\n",
      "Sensibilidad en 18: 0.00\n",
      "Sensibilidad en 19: 0.00\n",
      "Sensibilidad en 20: 0.65\n",
      "Sensibilidad en 21: 1.63\n",
      "Sensibilidad en 22: 2.15\n",
      "Sensibilidad en 23: 1.29\n",
      "Sensibilidad en 24: -0.26\n",
      "Sensibilidad en 25: -335.81\n",
      "Sensibilidad en 26: -82.41\n",
      "Sensibilidad en 27: 0.00\n",
      "Sensibilidad en 28: 0.00\n",
      "Sensibilidad en 29: 0.00\n",
      "Sensibilidad en 30: 0.00\n",
      "Sensibilidad en 31: 0.00\n",
      "Sensibilidad en 32: 0.00\n",
      "Sensibilidad de descuento: -411.73 CLF\n"
     ]
    }
   ],
   "source": [
    "der = pv.get_derivatives()\n",
    "i = 0\n",
    "bp = .0001\n",
    "for d in der:\n",
    "    print(\"Sensibilidad en {0:}: {1:0,.2f}\".format(i, d * bp))\n",
    "    i += 1\n",
    "print(\"Sensibilidad de descuento: {0:,.2f} CLF\".format(sum(der) * bp))"
   ]
  },
  {
   "cell_type": "code",
   "execution_count": 90,
   "metadata": {
    "ExecuteTime": {
     "end_time": "2022-01-24T13:13:32.351544Z",
     "start_time": "2022-01-24T13:13:32.337544Z"
    },
    "cell_style": "center",
    "execution": {
     "iopub.execute_input": "2023-07-17T23:13:46.138495Z",
     "iopub.status.busy": "2023-07-17T23:13:46.138397Z",
     "iopub.status.idle": "2023-07-17T23:13:46.141983Z",
     "shell.execute_reply": "2023-07-17T23:13:46.141743Z",
     "shell.execute_reply.started": "2023-07-17T23:13:46.138489Z"
    }
   },
   "outputs": [
    {
     "name": "stdout",
     "output_type": "stream",
     "text": [
      "Sensibilidad en 0: 0.00\n",
      "Sensibilidad en 1: 0.00\n",
      "Sensibilidad en 2: 0.00\n",
      "Sensibilidad en 3: -0.10\n",
      "Sensibilidad en 4: -0.06\n",
      "Sensibilidad en 5: 0.00\n",
      "Sensibilidad en 6: 0.00\n",
      "Sensibilidad en 7: 0.00\n",
      "Sensibilidad en 8: 0.00\n",
      "Sensibilidad en 9: -0.27\n",
      "Sensibilidad en 10: -0.12\n",
      "Sensibilidad en 11: 0.00\n",
      "Sensibilidad en 12: 0.00\n",
      "Sensibilidad en 13: 0.00\n",
      "Sensibilidad en 14: 0.00\n",
      "Sensibilidad en 15: -0.32\n",
      "Sensibilidad en 16: -0.18\n",
      "Sensibilidad en 17: 0.00\n",
      "Sensibilidad en 18: 0.00\n",
      "Sensibilidad en 19: 0.00\n",
      "Sensibilidad en 20: -0.65\n",
      "Sensibilidad en 21: -1.63\n",
      "Sensibilidad en 22: -2.15\n",
      "Sensibilidad en 23: -1.29\n",
      "Sensibilidad en 24: 0.26\n",
      "Sensibilidad en 25: 335.81\n",
      "Sensibilidad en 26: 82.41\n",
      "Sensibilidad en 27: 0.00\n",
      "Sensibilidad en 28: 0.00\n",
      "Sensibilidad en 29: 0.00\n",
      "Sensibilidad en 30: 0.00\n",
      "Sensibilidad en 31: 0.00\n",
      "Sensibilidad en 32: 0.00\n"
     ]
    }
   ],
   "source": [
    "bp = .0001\n",
    "result = []\n",
    "\n",
    "for i in range(icp_clf_leg.size()):\n",
    "    cshflw = icp_clf_leg.get_cashflow_at(i)\n",
    "    df = zz3.get_discount_factor_at(fecha_hoy.day_diff(cshflw.date()))\n",
    "    amt_der = cshflw.get_amount_ufclf_derivatives()\n",
    "    if len(amt_der) > 0:\n",
    "        amt_der = [a * bp * df for a in amt_der]\n",
    "        result.append(np.array(amt_der))\n",
    "\n",
    "total = result[0] * 0\n",
    "for r in result:\n",
    "    total += r\n",
    "\n",
    "for i in range(len(total)):\n",
    "    print(\"Sensibilidad en {0:}: {1:0,.2f}\".format(i, total[i]))"
   ]
  },
  {
   "cell_type": "markdown",
   "metadata": {},
   "source": [
    "### CompoundedOvernightRate Leg"
   ]
  },
  {
   "cell_type": "code",
   "execution_count": 91,
   "metadata": {
    "ExecuteTime": {
     "end_time": "2022-01-24T13:13:32.367543Z",
     "start_time": "2022-01-24T13:13:32.352544Z"
    },
    "execution": {
     "iopub.execute_input": "2023-07-17T23:13:46.142534Z",
     "iopub.status.busy": "2023-07-17T23:13:46.142441Z",
     "iopub.status.idle": "2023-07-17T23:13:46.145687Z",
     "shell.execute_reply": "2023-07-17T23:13:46.145465Z",
     "shell.execute_reply.started": "2023-07-17T23:13:46.142528Z"
    }
   },
   "outputs": [],
   "source": [
    "# Se da de alta los parámetros requeridos\n",
    "rp = qcf.RecPay.RECEIVE\n",
    "fecha_inicio = qcf.QCDate(3, 1, 2022)\n",
    "fecha_final = qcf.QCDate(3, 1, 2023)\n",
    "bus_adj_rule = qcf.BusyAdjRules.MODFOLLOW\n",
    "periodicidad_pago = qcf.Tenor('3M')\n",
    "periodo_irregular_pago = qcf.StubPeriod.NO\n",
    "calendario = qcf.BusinessCalendar(fecha_inicio, 20)\n",
    "lag_pago = 0\n",
    "\n",
    "######################################################################\n",
    "# Definición del índice\n",
    "\n",
    "codigo = 'OISTEST'\n",
    "lin_act360 = qcf.QCInterestRate(.0, qcf.QCAct360(), qcf.QCLinearWf())\n",
    "fixing_lag = qcf.Tenor('0d')\n",
    "tenor = qcf.Tenor('1d')\n",
    "fixing_calendar = calendario\n",
    "settlement_calendar = calendario\n",
    "usd = qcf.QCUSD()\n",
    "oistest = qcf.InterestRateIndex(\n",
    "    codigo,\n",
    "    lin_act360,\n",
    "    fixing_lag,\n",
    "    tenor,\n",
    "    fixing_calendar,\n",
    "    settlement_calendar,\n",
    "    usd)\n",
    "\n",
    "# Fin índice\n",
    "######################################################################\n",
    "\n",
    "nominal = 1000000.0\n",
    "amort_es_flujo = True\n",
    "moneda = usd\n",
    "spread = .01\n",
    "gearing = 1.0\n",
    "\n",
    "cor_leg = qcf.LegFactory.build_bullet_compounded_overnight_rate_leg(\n",
    "    rp,\n",
    "    fecha_inicio,\n",
    "    fecha_final,\n",
    "    bus_adj_rule,\n",
    "    periodicidad_pago,\n",
    "    periodo_irregular_pago,\n",
    "    calendario,\n",
    "    lag_pago,\n",
    "    calendario,\n",
    "    oistest,\n",
    "    nominal,\n",
    "    amort_es_flujo,\n",
    "    usd,\n",
    "    spread,\n",
    "    gearing,\n",
    "    True,\n",
    "    8,\n",
    "    0,\n",
    "    0\n",
    ")"
   ]
  },
  {
   "cell_type": "code",
   "execution_count": 92,
   "metadata": {
    "ExecuteTime": {
     "end_time": "2022-01-24T13:13:32.382542Z",
     "start_time": "2022-01-24T13:13:32.368545Z"
    },
    "execution": {
     "iopub.execute_input": "2023-07-17T23:13:46.146176Z",
     "iopub.status.busy": "2023-07-17T23:13:46.146104Z",
     "iopub.status.idle": "2023-07-17T23:13:46.148139Z",
     "shell.execute_reply": "2023-07-17T23:13:46.147895Z",
     "shell.execute_reply.started": "2023-07-17T23:13:46.146171Z"
    }
   },
   "outputs": [],
   "source": [
    "ts = qcf.time_series()\n",
    "ts[qcf.QCDate(27, 12, 2021)] = .01\n",
    "ts[qcf.QCDate(28, 12, 2021)] = .02\n",
    "ts[qcf.QCDate(29, 12, 2021)] = .03\n",
    "ts[qcf.QCDate(30, 12, 2021)] = .04\n",
    "ts[qcf.QCDate(31, 12, 2021)] = .04"
   ]
  },
  {
   "cell_type": "markdown",
   "metadata": {},
   "source": [
    "#### Valor Presente"
   ]
  },
  {
   "cell_type": "code",
   "execution_count": 93,
   "metadata": {
    "ExecuteTime": {
     "end_time": "2022-01-24T13:13:32.398542Z",
     "start_time": "2022-01-24T13:13:32.383544Z"
    },
    "execution": {
     "iopub.execute_input": "2023-07-17T23:13:46.148578Z",
     "iopub.status.busy": "2023-07-17T23:13:46.148515Z",
     "iopub.status.idle": "2023-07-17T23:13:46.150197Z",
     "shell.execute_reply": "2023-07-17T23:13:46.149981Z",
     "shell.execute_reply.started": "2023-07-17T23:13:46.148572Z"
    }
   },
   "outputs": [],
   "source": [
    "fwd_rates.set_rates_compounded_overnight_leg(\n",
    "    fecha_inicio,\n",
    "    cor_leg,\n",
    "    zz1,\n",
    "    ts\n",
    ")"
   ]
  },
  {
   "cell_type": "code",
   "execution_count": 94,
   "metadata": {
    "ExecuteTime": {
     "end_time": "2022-01-24T13:13:32.414543Z",
     "start_time": "2022-01-24T13:13:32.399544Z"
    },
    "execution": {
     "iopub.execute_input": "2023-07-17T23:13:46.150654Z",
     "iopub.status.busy": "2023-07-17T23:13:46.150573Z",
     "iopub.status.idle": "2023-07-17T23:13:46.155120Z",
     "shell.execute_reply": "2023-07-17T23:13:46.154903Z",
     "shell.execute_reply.started": "2023-07-17T23:13:46.150649Z"
    }
   },
   "outputs": [
    {
     "data": {
      "text/html": [
       "<style type=\"text/css\">\n",
       "</style>\n",
       "<table id=\"T_aea1d\">\n",
       "  <thead>\n",
       "    <tr>\n",
       "      <th class=\"blank level0\" >&nbsp;</th>\n",
       "      <th id=\"T_aea1d_level0_col0\" class=\"col_heading level0 col0\" >fecha_inicial</th>\n",
       "      <th id=\"T_aea1d_level0_col1\" class=\"col_heading level0 col1\" >fecha__final</th>\n",
       "      <th id=\"T_aea1d_level0_col2\" class=\"col_heading level0 col2\" >fecha__pago</th>\n",
       "      <th id=\"T_aea1d_level0_col3\" class=\"col_heading level0 col3\" >nominal</th>\n",
       "      <th id=\"T_aea1d_level0_col4\" class=\"col_heading level0 col4\" >amort</th>\n",
       "      <th id=\"T_aea1d_level0_col5\" class=\"col_heading level0 col5\" >interes</th>\n",
       "      <th id=\"T_aea1d_level0_col6\" class=\"col_heading level0 col6\" >amort_es_flujo</th>\n",
       "      <th id=\"T_aea1d_level0_col7\" class=\"col_heading level0 col7\" >flujo</th>\n",
       "      <th id=\"T_aea1d_level0_col8\" class=\"col_heading level0 col8\" >moneda</th>\n",
       "      <th id=\"T_aea1d_level0_col9\" class=\"col_heading level0 col9\" >indice</th>\n",
       "      <th id=\"T_aea1d_level0_col10\" class=\"col_heading level0 col10\" >valor_tasa</th>\n",
       "      <th id=\"T_aea1d_level0_col11\" class=\"col_heading level0 col11\" >spread</th>\n",
       "      <th id=\"T_aea1d_level0_col12\" class=\"col_heading level0 col12\" >gearing</th>\n",
       "      <th id=\"T_aea1d_level0_col13\" class=\"col_heading level0 col13\" >tipo_tasa</th>\n",
       "    </tr>\n",
       "  </thead>\n",
       "  <tbody>\n",
       "    <tr>\n",
       "      <th id=\"T_aea1d_level0_row0\" class=\"row_heading level0 row0\" >0</th>\n",
       "      <td id=\"T_aea1d_row0_col0\" class=\"data row0 col0\" >2022-01-03</td>\n",
       "      <td id=\"T_aea1d_row0_col1\" class=\"data row0 col1\" >2022-04-04</td>\n",
       "      <td id=\"T_aea1d_row0_col2\" class=\"data row0 col2\" >2022-04-04</td>\n",
       "      <td id=\"T_aea1d_row0_col3\" class=\"data row0 col3\" >1,000,000.00</td>\n",
       "      <td id=\"T_aea1d_row0_col4\" class=\"data row0 col4\" >0.00</td>\n",
       "      <td id=\"T_aea1d_row0_col5\" class=\"data row0 col5\" >2,527.78</td>\n",
       "      <td id=\"T_aea1d_row0_col6\" class=\"data row0 col6\" >True</td>\n",
       "      <td id=\"T_aea1d_row0_col7\" class=\"data row0 col7\" >6,322.09</td>\n",
       "      <td id=\"T_aea1d_row0_col8\" class=\"data row0 col8\" >USD</td>\n",
       "      <td id=\"T_aea1d_row0_col9\" class=\"data row0 col9\" >OISTEST</td>\n",
       "      <td id=\"T_aea1d_row0_col10\" class=\"data row0 col10\" >1.5010%</td>\n",
       "      <td id=\"T_aea1d_row0_col11\" class=\"data row0 col11\" >1.0000%</td>\n",
       "      <td id=\"T_aea1d_row0_col12\" class=\"data row0 col12\" >1.00</td>\n",
       "      <td id=\"T_aea1d_row0_col13\" class=\"data row0 col13\" >LinAct360</td>\n",
       "    </tr>\n",
       "    <tr>\n",
       "      <th id=\"T_aea1d_level0_row1\" class=\"row_heading level0 row1\" >1</th>\n",
       "      <td id=\"T_aea1d_row1_col0\" class=\"data row1 col0\" >2022-04-04</td>\n",
       "      <td id=\"T_aea1d_row1_col1\" class=\"data row1 col1\" >2022-07-04</td>\n",
       "      <td id=\"T_aea1d_row1_col2\" class=\"data row1 col2\" >2022-07-04</td>\n",
       "      <td id=\"T_aea1d_row1_col3\" class=\"data row1 col3\" >1,000,000.00</td>\n",
       "      <td id=\"T_aea1d_row1_col4\" class=\"data row1 col4\" >0.00</td>\n",
       "      <td id=\"T_aea1d_row1_col5\" class=\"data row1 col5\" >2,527.78</td>\n",
       "      <td id=\"T_aea1d_row1_col6\" class=\"data row1 col6\" >True</td>\n",
       "      <td id=\"T_aea1d_row1_col7\" class=\"data row1 col7\" >5,379.73</td>\n",
       "      <td id=\"T_aea1d_row1_col8\" class=\"data row1 col8\" >USD</td>\n",
       "      <td id=\"T_aea1d_row1_col9\" class=\"data row1 col9\" >OISTEST</td>\n",
       "      <td id=\"T_aea1d_row1_col10\" class=\"data row1 col10\" >1.1282%</td>\n",
       "      <td id=\"T_aea1d_row1_col11\" class=\"data row1 col11\" >1.0000%</td>\n",
       "      <td id=\"T_aea1d_row1_col12\" class=\"data row1 col12\" >1.00</td>\n",
       "      <td id=\"T_aea1d_row1_col13\" class=\"data row1 col13\" >LinAct360</td>\n",
       "    </tr>\n",
       "    <tr>\n",
       "      <th id=\"T_aea1d_level0_row2\" class=\"row_heading level0 row2\" >2</th>\n",
       "      <td id=\"T_aea1d_row2_col0\" class=\"data row2 col0\" >2022-07-04</td>\n",
       "      <td id=\"T_aea1d_row2_col1\" class=\"data row2 col1\" >2022-10-03</td>\n",
       "      <td id=\"T_aea1d_row2_col2\" class=\"data row2 col2\" >2022-10-03</td>\n",
       "      <td id=\"T_aea1d_row2_col3\" class=\"data row2 col3\" >1,000,000.00</td>\n",
       "      <td id=\"T_aea1d_row2_col4\" class=\"data row2 col4\" >0.00</td>\n",
       "      <td id=\"T_aea1d_row2_col5\" class=\"data row2 col5\" >2,527.78</td>\n",
       "      <td id=\"T_aea1d_row2_col6\" class=\"data row2 col6\" >True</td>\n",
       "      <td id=\"T_aea1d_row2_col7\" class=\"data row2 col7\" >5,618.72</td>\n",
       "      <td id=\"T_aea1d_row2_col8\" class=\"data row2 col8\" >USD</td>\n",
       "      <td id=\"T_aea1d_row2_col9\" class=\"data row2 col9\" >OISTEST</td>\n",
       "      <td id=\"T_aea1d_row2_col10\" class=\"data row2 col10\" >1.2228%</td>\n",
       "      <td id=\"T_aea1d_row2_col11\" class=\"data row2 col11\" >1.0000%</td>\n",
       "      <td id=\"T_aea1d_row2_col12\" class=\"data row2 col12\" >1.00</td>\n",
       "      <td id=\"T_aea1d_row2_col13\" class=\"data row2 col13\" >LinAct360</td>\n",
       "    </tr>\n",
       "    <tr>\n",
       "      <th id=\"T_aea1d_level0_row3\" class=\"row_heading level0 row3\" >3</th>\n",
       "      <td id=\"T_aea1d_row3_col0\" class=\"data row3 col0\" >2022-10-03</td>\n",
       "      <td id=\"T_aea1d_row3_col1\" class=\"data row3 col1\" >2023-01-03</td>\n",
       "      <td id=\"T_aea1d_row3_col2\" class=\"data row3 col2\" >2023-01-03</td>\n",
       "      <td id=\"T_aea1d_row3_col3\" class=\"data row3 col3\" >1,000,000.00</td>\n",
       "      <td id=\"T_aea1d_row3_col4\" class=\"data row3 col4\" >1,000,000.00</td>\n",
       "      <td id=\"T_aea1d_row3_col5\" class=\"data row3 col5\" >2,555.56</td>\n",
       "      <td id=\"T_aea1d_row3_col6\" class=\"data row3 col6\" >True</td>\n",
       "      <td id=\"T_aea1d_row3_col7\" class=\"data row3 col7\" >1,005,930.44</td>\n",
       "      <td id=\"T_aea1d_row3_col8\" class=\"data row3 col8\" >USD</td>\n",
       "      <td id=\"T_aea1d_row3_col9\" class=\"data row3 col9\" >OISTEST</td>\n",
       "      <td id=\"T_aea1d_row3_col10\" class=\"data row3 col10\" >1.3206%</td>\n",
       "      <td id=\"T_aea1d_row3_col11\" class=\"data row3 col11\" >1.0000%</td>\n",
       "      <td id=\"T_aea1d_row3_col12\" class=\"data row3 col12\" >1.00</td>\n",
       "      <td id=\"T_aea1d_row3_col13\" class=\"data row3 col13\" >LinAct360</td>\n",
       "    </tr>\n",
       "  </tbody>\n",
       "</table>\n"
      ],
      "text/plain": [
       "<pandas.io.formats.style.Styler at 0x12af09790>"
      ]
     },
     "execution_count": 94,
     "metadata": {},
     "output_type": "execute_result"
    }
   ],
   "source": [
    "# Se define un list donde almacenar los resultados de la función show\n",
    "tabla = []\n",
    "for i in range(0, cor_leg.size()):\n",
    "    tabla.append(qcf.show(cor_leg.get_cashflow_at(i)))\n",
    "\n",
    "# Se utiliza tabla para inicializar el Dataframe\n",
    "columnas = ['fecha_inicial', 'fecha__final', 'fecha__pago', 'nominal', 'amort', 'interes', 'amort_es_flujo', 'flujo',\n",
    "            'moneda', 'indice', 'valor_tasa', 'spread', 'gearing', 'tipo_tasa']\n",
    "df9 = pd.DataFrame(tabla, columns=columnas)\n",
    "\n",
    "# Se despliega la data en este formato\n",
    "df9.style.format(format_dict)"
   ]
  },
  {
   "cell_type": "code",
   "execution_count": 95,
   "metadata": {
    "ExecuteTime": {
     "end_time": "2022-01-24T13:13:32.430544Z",
     "start_time": "2022-01-24T13:13:32.415542Z"
    },
    "execution": {
     "iopub.execute_input": "2023-07-17T23:13:46.155450Z",
     "iopub.status.busy": "2023-07-17T23:13:46.155392Z",
     "iopub.status.idle": "2023-07-17T23:13:46.157031Z",
     "shell.execute_reply": "2023-07-17T23:13:46.156814Z",
     "shell.execute_reply.started": "2023-07-17T23:13:46.155444Z"
    }
   },
   "outputs": [
    {
     "name": "stdout",
     "output_type": "stream",
     "text": [
      "1,010,055\n"
     ]
    }
   ],
   "source": [
    "print(f'{pv.pv(fecha_inicio, cor_leg, zz1):,.0f}')"
   ]
  },
  {
   "cell_type": "code",
   "execution_count": 96,
   "metadata": {
    "ExecuteTime": {
     "end_time": "2022-01-24T13:13:32.446543Z",
     "start_time": "2022-01-24T13:13:32.431543Z"
    },
    "execution": {
     "iopub.execute_input": "2023-07-17T23:13:46.157442Z",
     "iopub.status.busy": "2023-07-17T23:13:46.157381Z",
     "iopub.status.idle": "2023-07-17T23:13:46.159458Z",
     "shell.execute_reply": "2023-07-17T23:13:46.159235Z",
     "shell.execute_reply.started": "2023-07-17T23:13:46.157437Z"
    }
   },
   "outputs": [
    {
     "name": "stdout",
     "output_type": "stream",
     "text": [
      "6,322.09, 0.0\n",
      "5,379.73, 0.0\n",
      "5,618.72, 0.0\n",
      "1,005,930.44, 1000000.0\n",
      "1,010,055\n"
     ]
    }
   ],
   "source": [
    "pres_value = 0.0\n",
    "for i in range(0, cor_leg.size()):\n",
    "    cshflw = cor_leg.get_cashflow_at(i)\n",
    "    print(f'{cshflw.amount():,.2f}, {cshflw.get_amortization()}')\n",
    "    temp = pv.pv(fecha_inicio, cshflw, zz1)\n",
    "    # print(f'{temp:,.0f}')\n",
    "    pres_value += temp\n",
    "print(f'{pres_value:,.0f}')"
   ]
  },
  {
   "cell_type": "markdown",
   "metadata": {},
   "source": [
    "#### Sensibilidad"
   ]
  },
  {
   "cell_type": "code",
   "execution_count": 97,
   "metadata": {
    "ExecuteTime": {
     "end_time": "2022-01-24T13:55:59.170062Z",
     "start_time": "2022-01-24T13:55:59.153327Z"
    },
    "execution": {
     "iopub.execute_input": "2023-07-17T23:13:46.159854Z",
     "iopub.status.busy": "2023-07-17T23:13:46.159800Z",
     "iopub.status.idle": "2023-07-17T23:13:46.161510Z",
     "shell.execute_reply": "2023-07-17T23:13:46.161189Z",
     "shell.execute_reply.started": "2023-07-17T23:13:46.159849Z"
    }
   },
   "outputs": [],
   "source": [
    "pips = .0001 # 1 punto básico"
   ]
  },
  {
   "cell_type": "markdown",
   "metadata": {},
   "source": [
    "##### Curva de Proyección"
   ]
  },
  {
   "cell_type": "markdown",
   "metadata": {},
   "source": [
    "Estas derivadas se deben obtener inmediatamente después de calcular el valor presente."
   ]
  },
  {
   "cell_type": "code",
   "execution_count": 98,
   "metadata": {
    "ExecuteTime": {
     "end_time": "2022-01-24T13:57:30.393915Z",
     "start_time": "2022-01-24T13:57:30.375950Z"
    },
    "execution": {
     "iopub.execute_input": "2023-07-17T23:13:46.161937Z",
     "iopub.status.busy": "2023-07-17T23:13:46.161818Z",
     "iopub.status.idle": "2023-07-17T23:13:46.164098Z",
     "shell.execute_reply": "2023-07-17T23:13:46.163889Z",
     "shell.execute_reply.started": "2023-07-17T23:13:46.161931Z"
    }
   },
   "outputs": [],
   "source": [
    "proj_sens_by_cashflow = np.array([np.array(\n",
    "    np.array(cor_leg.get_cashflow_at(i).get_amount_derivatives()) *\n",
    "    zz1.get_discount_factor_at(fecha_inicio.day_diff(cor_leg.get_cashflow_at(i).get_settlement_date())) * pips)\n",
    "                             for i in range(cor_leg.size())])\n",
    "proj_sens = np.sum(proj_sens_by_cashflow, axis=0)"
   ]
  },
  {
   "cell_type": "markdown",
   "metadata": {},
   "source": [
    "##### Curva de Descuento"
   ]
  },
  {
   "cell_type": "code",
   "execution_count": 99,
   "metadata": {
    "ExecuteTime": {
     "end_time": "2022-01-24T14:01:15.710430Z",
     "start_time": "2022-01-24T14:01:15.705461Z"
    },
    "execution": {
     "iopub.execute_input": "2023-07-17T23:13:46.164488Z",
     "iopub.status.busy": "2023-07-17T23:13:46.164428Z",
     "iopub.status.idle": "2023-07-17T23:13:46.166162Z",
     "shell.execute_reply": "2023-07-17T23:13:46.165957Z",
     "shell.execute_reply.started": "2023-07-17T23:13:46.164482Z"
    }
   },
   "outputs": [],
   "source": [
    "disc_der = np.array(pv.get_derivatives()) * pips"
   ]
  }
 ],
 "metadata": {
  "hide_input": false,
  "kernelspec": {
   "display_name": "Python 3 (ipykernel)",
   "language": "python",
   "name": "python3"
  },
  "language_info": {
   "codemirror_mode": {
    "name": "ipython",
    "version": 3
   },
   "file_extension": ".py",
   "mimetype": "text/x-python",
   "name": "python",
   "nbconvert_exporter": "python",
   "pygments_lexer": "ipython3",
   "version": "3.11.4"
  },
  "toc": {
   "base_numbering": 1,
   "nav_menu": {},
   "number_sections": true,
   "sideBar": true,
   "skip_h1_title": true,
   "title_cell": "Table of Contents",
   "title_sidebar": "Contenidos",
   "toc_cell": false,
   "toc_position": {
    "height": "calc(100% - 180px)",
    "left": "10px",
    "top": "150px",
    "width": "311px"
   },
   "toc_section_display": true,
   "toc_window_display": true
  },
  "varInspector": {
   "cols": {
    "lenName": 16,
    "lenType": 16,
    "lenVar": 40
   },
   "kernels_config": {
    "python": {
     "delete_cmd_postfix": "",
     "delete_cmd_prefix": "del ",
     "library": "var_list.py",
     "varRefreshCmd": "print(var_dic_list())"
    },
    "r": {
     "delete_cmd_postfix": ") ",
     "delete_cmd_prefix": "rm(",
     "library": "var_list.r",
     "varRefreshCmd": "cat(var_dic_list()) "
    }
   },
   "types_to_exclude": [
    "module",
    "function",
    "builtin_function_or_method",
    "instance",
    "_Feature"
   ],
   "window_display": false
  }
 },
 "nbformat": 4,
 "nbformat_minor": 4
}
