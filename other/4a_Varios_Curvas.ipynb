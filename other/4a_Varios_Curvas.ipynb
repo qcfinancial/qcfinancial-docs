{
 "cells": [
  {
   "cell_type": "markdown",
   "metadata": {
    "editable": true,
    "slideshow": {
     "slide_type": "slide"
    },
    "tags": []
   },
   "source": [
    "# Varios Curvas"
   ]
  },
  {
   "cell_type": "markdown",
   "metadata": {
    "editable": true,
    "slideshow": {
     "slide_type": "slide"
    },
    "tags": []
   },
   "source": [
    "## Configuración"
   ]
  },
  {
   "cell_type": "markdown",
   "metadata": {
    "editable": true,
    "slideshow": {
     "slide_type": "slide"
    },
    "tags": []
   },
   "source": [
    "Para ejecutar todos los ejemplos se debe importar la librería. Se sugiere utilizar siempre el alias `qcf`. "
   ]
  },
  {
   "cell_type": "code",
   "execution_count": 1,
   "metadata": {
    "ExecuteTime": {
     "end_time": "2023-12-19T16:07:13.963018Z",
     "start_time": "2023-12-19T16:07:13.955278Z"
    },
    "editable": true,
    "execution": {
     "iopub.execute_input": "2024-06-12T16:04:52.250371Z",
     "iopub.status.busy": "2024-06-12T16:04:52.249982Z",
     "iopub.status.idle": "2024-06-12T16:04:52.270308Z",
     "shell.execute_reply": "2024-06-12T16:04:52.269240Z",
     "shell.execute_reply.started": "2024-06-12T16:04:52.250336Z"
    },
    "slideshow": {
     "slide_type": "fragment"
    },
    "tags": []
   },
   "outputs": [],
   "source": [
    "import qcfinancial as qcf"
   ]
  },
  {
   "cell_type": "code",
   "execution_count": 2,
   "metadata": {
    "editable": true,
    "execution": {
     "iopub.execute_input": "2024-06-12T16:04:52.800060Z",
     "iopub.status.busy": "2024-06-12T16:04:52.799643Z",
     "iopub.status.idle": "2024-06-12T16:04:52.808712Z",
     "shell.execute_reply": "2024-06-12T16:04:52.807932Z",
     "shell.execute_reply.started": "2024-06-12T16:04:52.800022Z"
    },
    "slideshow": {
     "slide_type": "fragment"
    },
    "tags": []
   },
   "outputs": [
    {
     "data": {
      "text/plain": [
       "'version: 0.10.0, build: 2024-06-09 10:20'"
      ]
     },
     "execution_count": 2,
     "metadata": {},
     "output_type": "execute_result"
    }
   ],
   "source": [
    "qcf.id()"
   ]
  },
  {
   "cell_type": "markdown",
   "metadata": {
    "editable": true,
    "slideshow": {
     "slide_type": "slide"
    },
    "tags": []
   },
   "source": [
    "Librerías adicionales."
   ]
  },
  {
   "cell_type": "code",
   "execution_count": 3,
   "metadata": {
    "ExecuteTime": {
     "end_time": "2023-12-19T16:07:20.335887Z",
     "start_time": "2023-12-19T16:07:18.385430Z"
    },
    "editable": true,
    "execution": {
     "iopub.execute_input": "2024-06-12T16:04:54.638336Z",
     "iopub.status.busy": "2024-06-12T16:04:54.637999Z",
     "iopub.status.idle": "2024-06-12T16:04:55.182048Z",
     "shell.execute_reply": "2024-06-12T16:04:55.181075Z",
     "shell.execute_reply.started": "2024-06-12T16:04:54.638309Z"
    },
    "slideshow": {
     "slide_type": "fragment"
    },
    "tags": []
   },
   "outputs": [],
   "source": [
    "import aux_functions as aux # Aquí se guardó la funcion leg_as_dataframe del notebook 3\n",
    "from math import exp, log\n",
    "import pandas as pd\n",
    "import numpy as np\n",
    "\n",
    "pd.options.display.max_columns=300"
   ]
  },
  {
   "cell_type": "markdown",
   "metadata": {
    "editable": true,
    "slideshow": {
     "slide_type": "slide"
    },
    "tags": []
   },
   "source": [
    "Para formateo de `pandas.DataFrames`."
   ]
  },
  {
   "cell_type": "code",
   "execution_count": 5,
   "metadata": {
    "ExecuteTime": {
     "end_time": "2023-12-19T16:07:23.208030Z",
     "start_time": "2023-12-19T16:07:23.186614Z"
    },
    "editable": true,
    "execution": {
     "iopub.execute_input": "2024-06-12T16:04:57.305831Z",
     "iopub.status.busy": "2024-06-12T16:04:57.305280Z",
     "iopub.status.idle": "2024-06-12T16:04:57.310517Z",
     "shell.execute_reply": "2024-06-12T16:04:57.309692Z",
     "shell.execute_reply.started": "2024-06-12T16:04:57.305806Z"
    },
    "slideshow": {
     "slide_type": "fragment"
    },
    "tags": []
   },
   "outputs": [],
   "source": [
    "format_dict = {\n",
    "    'nominal': '{:,.2f}',\n",
    "    'amort': '{:,.2f}',\n",
    "    'interes': '{:,.2f}',\n",
    "    'flujo': '{:,.2f}',\n",
    "    'nocional': '{:,.2f}',\n",
    "    'amortizacion': '{:,.2f}',\n",
    "    'icp_inicial': '{:,.2f}',\n",
    "    'icp_final': '{:,.2f}',\n",
    "    'uf_inicial': '{:,.2f}',\n",
    "    'uf_final': '{:,.2f}',\n",
    "    'plazo': '{:,.0f}',\n",
    "    'tasa': '{:,.4%}',\n",
    "    'valor_tasa': '{:,.4%}',\n",
    "    'valor_tasa_equivalente': '{:,.4%}',\n",
    "    'spread': '{:,.4%}',\n",
    "    'gearing': '{:,.2f}',\n",
    "    'amort_moneda_pago': '{:,.2f}',\n",
    "    'interes_moneda_pago': '{:,.2f}',\n",
    "    'valor_indice_inicial': '{:,.2f}',\n",
    "    'valor_indice_final': '{:,.2f}',\n",
    "    'valor_indice_fx': '{:,.2f}',\n",
    "    'flujo_en_clp': '{:,.2f}',\n",
    "}"
   ]
  },
  {
   "cell_type": "markdown",
   "metadata": {
    "editable": true,
    "slideshow": {
     "slide_type": "slide"
    },
    "tags": []
   },
   "source": [
    "## Curvas"
   ]
  },
  {
   "cell_type": "markdown",
   "metadata": {
    "editable": true,
    "slideshow": {
     "slide_type": "slide"
    },
    "tags": []
   },
   "source": [
    "Este objeto permite definir el tipo de las curvas."
   ]
  },
  {
   "cell_type": "code",
   "execution_count": 10,
   "metadata": {
    "editable": true,
    "execution": {
     "iopub.execute_input": "2024-06-12T16:07:35.077416Z",
     "iopub.status.busy": "2024-06-12T16:07:35.077124Z",
     "iopub.status.idle": "2024-06-12T16:07:35.080780Z",
     "shell.execute_reply": "2024-06-12T16:07:35.080103Z",
     "shell.execute_reply.started": "2024-06-12T16:07:35.077392Z"
    },
    "slideshow": {
     "slide_type": "fragment"
    },
    "tags": []
   },
   "outputs": [],
   "source": [
    "tasa = qcf.QCInterestRate(\n",
    "    0.0,\n",
    "    qcf.QCAct365(),\n",
    "    qcf.QCContinousWf(),\n",
    ")"
   ]
  },
  {
   "cell_type": "markdown",
   "metadata": {
    "editable": true,
    "slideshow": {
     "slide_type": "slide"
    },
    "tags": []
   },
   "source": [
    "La siguiente función dado un `DataFrame` construye un objeto `ZeroCouponCurve`."
   ]
  },
  {
   "cell_type": "code",
   "execution_count": 11,
   "metadata": {
    "editable": true,
    "execution": {
     "iopub.execute_input": "2024-06-12T16:07:37.983019Z",
     "iopub.status.busy": "2024-06-12T16:07:37.982672Z",
     "iopub.status.idle": "2024-06-12T16:07:37.987559Z",
     "shell.execute_reply": "2024-06-12T16:07:37.986886Z",
     "shell.execute_reply.started": "2024-06-12T16:07:37.982988Z"
    },
    "slideshow": {
     "slide_type": "fragment"
    },
    "tags": []
   },
   "outputs": [],
   "source": [
    "def zcc_from_df(df: pd.DataFrame, tasa: qcf.QCInterestRate) -> qcf.ZeroCouponCurve:\n",
    "    lvec = qcf.long_vec()\n",
    "    vec = qcf.double_vec()\n",
    "    for t in df.itertuples():\n",
    "        lvec.append(int(t.plazo))\n",
    "        vec.append(t.tasa)\n",
    "    curva = qcf.QCCurve(lvec, vec)\n",
    "    lin = qcf.QCLinearInterpolator(curva)\n",
    "    return qcf.ZeroCouponCurve(lin, tasa)"
   ]
  },
  {
   "cell_type": "markdown",
   "metadata": {
    "editable": true,
    "slideshow": {
     "slide_type": "slide"
    },
    "tags": []
   },
   "source": [
    "Esta es la curva de RF."
   ]
  },
  {
   "cell_type": "code",
   "execution_count": 12,
   "metadata": {
    "ExecuteTime": {
     "end_time": "2023-12-19T16:09:18.252430Z",
     "start_time": "2023-12-19T16:09:18.204028Z"
    },
    "editable": true,
    "execution": {
     "iopub.execute_input": "2024-06-12T16:07:39.770426Z",
     "iopub.status.busy": "2024-06-12T16:07:39.770134Z",
     "iopub.status.idle": "2024-06-12T16:07:39.823900Z",
     "shell.execute_reply": "2024-06-12T16:07:39.823133Z",
     "shell.execute_reply.started": "2024-06-12T16:07:39.770399Z"
    },
    "slideshow": {
     "slide_type": "fragment"
    },
    "tags": []
   },
   "outputs": [
    {
     "data": {
      "text/html": [
       "<style type=\"text/css\">\n",
       "</style>\n",
       "<table id=\"T_ae2c0\">\n",
       "  <thead>\n",
       "    <tr>\n",
       "      <th class=\"blank level0\" >&nbsp;</th>\n",
       "      <th id=\"T_ae2c0_level0_col0\" class=\"col_heading level0 col0\" >curva</th>\n",
       "      <th id=\"T_ae2c0_level0_col1\" class=\"col_heading level0 col1\" >fecha</th>\n",
       "      <th id=\"T_ae2c0_level0_col2\" class=\"col_heading level0 col2\" >plazo</th>\n",
       "      <th id=\"T_ae2c0_level0_col3\" class=\"col_heading level0 col3\" >tasa</th>\n",
       "    </tr>\n",
       "  </thead>\n",
       "  <tbody>\n",
       "    <tr>\n",
       "      <th id=\"T_ae2c0_level0_row0\" class=\"row_heading level0 row0\" >0</th>\n",
       "      <td id=\"T_ae2c0_row0_col0\" class=\"data row0 col0\" >SOFR</td>\n",
       "      <td id=\"T_ae2c0_row0_col1\" class=\"data row0 col1\" >2024-06-11 00:00:00</td>\n",
       "      <td id=\"T_ae2c0_row0_col2\" class=\"data row0 col2\" >1</td>\n",
       "      <td id=\"T_ae2c0_row0_col3\" class=\"data row0 col3\" >5.3935%</td>\n",
       "    </tr>\n",
       "    <tr>\n",
       "      <th id=\"T_ae2c0_level0_row1\" class=\"row_heading level0 row1\" >1</th>\n",
       "      <td id=\"T_ae2c0_row1_col0\" class=\"data row1 col0\" >SOFR</td>\n",
       "      <td id=\"T_ae2c0_row1_col1\" class=\"data row1 col1\" >2024-06-11 00:00:00</td>\n",
       "      <td id=\"T_ae2c0_row1_col2\" class=\"data row1 col2\" >2</td>\n",
       "      <td id=\"T_ae2c0_row1_col3\" class=\"data row1 col3\" >5.3930%</td>\n",
       "    </tr>\n",
       "    <tr>\n",
       "      <th id=\"T_ae2c0_level0_row2\" class=\"row_heading level0 row2\" >2</th>\n",
       "      <td id=\"T_ae2c0_row2_col0\" class=\"data row2 col0\" >SOFR</td>\n",
       "      <td id=\"T_ae2c0_row2_col1\" class=\"data row2 col1\" >2024-06-11 00:00:00</td>\n",
       "      <td id=\"T_ae2c0_row2_col2\" class=\"data row2 col2\" >9</td>\n",
       "      <td id=\"T_ae2c0_row2_col3\" class=\"data row2 col3\" >5.3911%</td>\n",
       "    </tr>\n",
       "    <tr>\n",
       "      <th id=\"T_ae2c0_level0_row3\" class=\"row_heading level0 row3\" >3</th>\n",
       "      <td id=\"T_ae2c0_row3_col0\" class=\"data row3 col0\" >SOFR</td>\n",
       "      <td id=\"T_ae2c0_row3_col1\" class=\"data row3 col1\" >2024-06-11 00:00:00</td>\n",
       "      <td id=\"T_ae2c0_row3_col2\" class=\"data row3 col2\" >16</td>\n",
       "      <td id=\"T_ae2c0_row3_col3\" class=\"data row3 col3\" >5.3909%</td>\n",
       "    </tr>\n",
       "    <tr>\n",
       "      <th id=\"T_ae2c0_level0_row4\" class=\"row_heading level0 row4\" >4</th>\n",
       "      <td id=\"T_ae2c0_row4_col0\" class=\"data row4 col0\" >SOFR</td>\n",
       "      <td id=\"T_ae2c0_row4_col1\" class=\"data row4 col1\" >2024-06-11 00:00:00</td>\n",
       "      <td id=\"T_ae2c0_row4_col2\" class=\"data row4 col2\" >32</td>\n",
       "      <td id=\"T_ae2c0_row4_col3\" class=\"data row4 col3\" >5.3936%</td>\n",
       "    </tr>\n",
       "    <tr>\n",
       "      <th id=\"T_ae2c0_level0_row5\" class=\"row_heading level0 row5\" >5</th>\n",
       "      <td id=\"T_ae2c0_row5_col0\" class=\"data row5 col0\" >SOFR</td>\n",
       "      <td id=\"T_ae2c0_row5_col1\" class=\"data row5 col1\" >2024-06-11 00:00:00</td>\n",
       "      <td id=\"T_ae2c0_row5_col2\" class=\"data row5 col2\" >63</td>\n",
       "      <td id=\"T_ae2c0_row5_col3\" class=\"data row5 col3\" >5.3894%</td>\n",
       "    </tr>\n",
       "    <tr>\n",
       "      <th id=\"T_ae2c0_level0_row6\" class=\"row_heading level0 row6\" >6</th>\n",
       "      <td id=\"T_ae2c0_row6_col0\" class=\"data row6 col0\" >SOFR</td>\n",
       "      <td id=\"T_ae2c0_row6_col1\" class=\"data row6 col1\" >2024-06-11 00:00:00</td>\n",
       "      <td id=\"T_ae2c0_row6_col2\" class=\"data row6 col2\" >94</td>\n",
       "      <td id=\"T_ae2c0_row6_col3\" class=\"data row6 col3\" >5.3843%</td>\n",
       "    </tr>\n",
       "    <tr>\n",
       "      <th id=\"T_ae2c0_level0_row7\" class=\"row_heading level0 row7\" >7</th>\n",
       "      <td id=\"T_ae2c0_row7_col0\" class=\"data row7 col0\" >SOFR</td>\n",
       "      <td id=\"T_ae2c0_row7_col1\" class=\"data row7 col1\" >2024-06-11 00:00:00</td>\n",
       "      <td id=\"T_ae2c0_row7_col2\" class=\"data row7 col2\" >124</td>\n",
       "      <td id=\"T_ae2c0_row7_col3\" class=\"data row7 col3\" >5.3598%</td>\n",
       "    </tr>\n",
       "    <tr>\n",
       "      <th id=\"T_ae2c0_level0_row8\" class=\"row_heading level0 row8\" >8</th>\n",
       "      <td id=\"T_ae2c0_row8_col0\" class=\"data row8 col0\" >SOFR</td>\n",
       "      <td id=\"T_ae2c0_row8_col1\" class=\"data row8 col1\" >2024-06-11 00:00:00</td>\n",
       "      <td id=\"T_ae2c0_row8_col2\" class=\"data row8 col2\" >155</td>\n",
       "      <td id=\"T_ae2c0_row8_col3\" class=\"data row8 col3\" >5.3375%</td>\n",
       "    </tr>\n",
       "    <tr>\n",
       "      <th id=\"T_ae2c0_level0_row9\" class=\"row_heading level0 row9\" >9</th>\n",
       "      <td id=\"T_ae2c0_row9_col0\" class=\"data row9 col0\" >SOFR</td>\n",
       "      <td id=\"T_ae2c0_row9_col1\" class=\"data row9 col1\" >2024-06-11 00:00:00</td>\n",
       "      <td id=\"T_ae2c0_row9_col2\" class=\"data row9 col2\" >185</td>\n",
       "      <td id=\"T_ae2c0_row9_col3\" class=\"data row9 col3\" >5.3127%</td>\n",
       "    </tr>\n",
       "    <tr>\n",
       "      <th id=\"T_ae2c0_level0_row10\" class=\"row_heading level0 row10\" >10</th>\n",
       "      <td id=\"T_ae2c0_row10_col0\" class=\"data row10 col0\" >SOFR</td>\n",
       "      <td id=\"T_ae2c0_row10_col1\" class=\"data row10 col1\" >2024-06-11 00:00:00</td>\n",
       "      <td id=\"T_ae2c0_row10_col2\" class=\"data row10 col2\" >216</td>\n",
       "      <td id=\"T_ae2c0_row10_col3\" class=\"data row10 col3\" >5.2777%</td>\n",
       "    </tr>\n",
       "    <tr>\n",
       "      <th id=\"T_ae2c0_level0_row11\" class=\"row_heading level0 row11\" >11</th>\n",
       "      <td id=\"T_ae2c0_row11_col0\" class=\"data row11 col0\" >SOFR</td>\n",
       "      <td id=\"T_ae2c0_row11_col1\" class=\"data row11 col1\" >2024-06-11 00:00:00</td>\n",
       "      <td id=\"T_ae2c0_row11_col2\" class=\"data row11 col2\" >247</td>\n",
       "      <td id=\"T_ae2c0_row11_col3\" class=\"data row11 col3\" >5.2404%</td>\n",
       "    </tr>\n",
       "    <tr>\n",
       "      <th id=\"T_ae2c0_level0_row12\" class=\"row_heading level0 row12\" >12</th>\n",
       "      <td id=\"T_ae2c0_row12_col0\" class=\"data row12 col0\" >SOFR</td>\n",
       "      <td id=\"T_ae2c0_row12_col1\" class=\"data row12 col1\" >2024-06-11 00:00:00</td>\n",
       "      <td id=\"T_ae2c0_row12_col2\" class=\"data row12 col2\" >275</td>\n",
       "      <td id=\"T_ae2c0_row12_col3\" class=\"data row12 col3\" >5.2070%</td>\n",
       "    </tr>\n",
       "    <tr>\n",
       "      <th id=\"T_ae2c0_level0_row13\" class=\"row_heading level0 row13\" >13</th>\n",
       "      <td id=\"T_ae2c0_row13_col0\" class=\"data row13 col0\" >SOFR</td>\n",
       "      <td id=\"T_ae2c0_row13_col1\" class=\"data row13 col1\" >2024-06-11 00:00:00</td>\n",
       "      <td id=\"T_ae2c0_row13_col2\" class=\"data row13 col2\" >367</td>\n",
       "      <td id=\"T_ae2c0_row13_col3\" class=\"data row13 col3\" >5.0882%</td>\n",
       "    </tr>\n",
       "    <tr>\n",
       "      <th id=\"T_ae2c0_level0_row14\" class=\"row_heading level0 row14\" >14</th>\n",
       "      <td id=\"T_ae2c0_row14_col0\" class=\"data row14 col0\" >SOFR</td>\n",
       "      <td id=\"T_ae2c0_row14_col1\" class=\"data row14 col1\" >2024-06-11 00:00:00</td>\n",
       "      <td id=\"T_ae2c0_row14_col2\" class=\"data row14 col2\" >550</td>\n",
       "      <td id=\"T_ae2c0_row14_col3\" class=\"data row14 col3\" >4.8542%</td>\n",
       "    </tr>\n",
       "    <tr>\n",
       "      <th id=\"T_ae2c0_level0_row15\" class=\"row_heading level0 row15\" >15</th>\n",
       "      <td id=\"T_ae2c0_row15_col0\" class=\"data row15 col0\" >SOFR</td>\n",
       "      <td id=\"T_ae2c0_row15_col1\" class=\"data row15 col1\" >2024-06-11 00:00:00</td>\n",
       "      <td id=\"T_ae2c0_row15_col2\" class=\"data row15 col2\" >732</td>\n",
       "      <td id=\"T_ae2c0_row15_col3\" class=\"data row15 col3\" >4.6727%</td>\n",
       "    </tr>\n",
       "    <tr>\n",
       "      <th id=\"T_ae2c0_level0_row16\" class=\"row_heading level0 row16\" >16</th>\n",
       "      <td id=\"T_ae2c0_row16_col0\" class=\"data row16 col0\" >SOFR</td>\n",
       "      <td id=\"T_ae2c0_row16_col1\" class=\"data row16 col1\" >2024-06-11 00:00:00</td>\n",
       "      <td id=\"T_ae2c0_row16_col2\" class=\"data row16 col2\" >1,097</td>\n",
       "      <td id=\"T_ae2c0_row16_col3\" class=\"data row16 col3\" >4.4059%</td>\n",
       "    </tr>\n",
       "    <tr>\n",
       "      <th id=\"T_ae2c0_level0_row17\" class=\"row_heading level0 row17\" >17</th>\n",
       "      <td id=\"T_ae2c0_row17_col0\" class=\"data row17 col0\" >SOFR</td>\n",
       "      <td id=\"T_ae2c0_row17_col1\" class=\"data row17 col1\" >2024-06-11 00:00:00</td>\n",
       "      <td id=\"T_ae2c0_row17_col2\" class=\"data row17 col2\" >1,463</td>\n",
       "      <td id=\"T_ae2c0_row17_col3\" class=\"data row17 col3\" >4.2398%</td>\n",
       "    </tr>\n",
       "    <tr>\n",
       "      <th id=\"T_ae2c0_level0_row18\" class=\"row_heading level0 row18\" >18</th>\n",
       "      <td id=\"T_ae2c0_row18_col0\" class=\"data row18 col0\" >SOFR</td>\n",
       "      <td id=\"T_ae2c0_row18_col1\" class=\"data row18 col1\" >2024-06-11 00:00:00</td>\n",
       "      <td id=\"T_ae2c0_row18_col2\" class=\"data row18 col2\" >1,828</td>\n",
       "      <td id=\"T_ae2c0_row18_col3\" class=\"data row18 col3\" >4.1384%</td>\n",
       "    </tr>\n",
       "    <tr>\n",
       "      <th id=\"T_ae2c0_level0_row19\" class=\"row_heading level0 row19\" >19</th>\n",
       "      <td id=\"T_ae2c0_row19_col0\" class=\"data row19 col0\" >SOFR</td>\n",
       "      <td id=\"T_ae2c0_row19_col1\" class=\"data row19 col1\" >2024-06-11 00:00:00</td>\n",
       "      <td id=\"T_ae2c0_row19_col2\" class=\"data row19 col2\" >2,193</td>\n",
       "      <td id=\"T_ae2c0_row19_col3\" class=\"data row19 col3\" >4.0790%</td>\n",
       "    </tr>\n",
       "    <tr>\n",
       "      <th id=\"T_ae2c0_level0_row20\" class=\"row_heading level0 row20\" >20</th>\n",
       "      <td id=\"T_ae2c0_row20_col0\" class=\"data row20 col0\" >SOFR</td>\n",
       "      <td id=\"T_ae2c0_row20_col1\" class=\"data row20 col1\" >2024-06-11 00:00:00</td>\n",
       "      <td id=\"T_ae2c0_row20_col2\" class=\"data row20 col2\" >2,558</td>\n",
       "      <td id=\"T_ae2c0_row20_col3\" class=\"data row20 col3\" >4.0405%</td>\n",
       "    </tr>\n",
       "    <tr>\n",
       "      <th id=\"T_ae2c0_level0_row21\" class=\"row_heading level0 row21\" >21</th>\n",
       "      <td id=\"T_ae2c0_row21_col0\" class=\"data row21 col0\" >SOFR</td>\n",
       "      <td id=\"T_ae2c0_row21_col1\" class=\"data row21 col1\" >2024-06-11 00:00:00</td>\n",
       "      <td id=\"T_ae2c0_row21_col2\" class=\"data row21 col2\" >2,924</td>\n",
       "      <td id=\"T_ae2c0_row21_col3\" class=\"data row21 col3\" >4.0173%</td>\n",
       "    </tr>\n",
       "    <tr>\n",
       "      <th id=\"T_ae2c0_level0_row22\" class=\"row_heading level0 row22\" >22</th>\n",
       "      <td id=\"T_ae2c0_row22_col0\" class=\"data row22 col0\" >SOFR</td>\n",
       "      <td id=\"T_ae2c0_row22_col1\" class=\"data row22 col1\" >2024-06-11 00:00:00</td>\n",
       "      <td id=\"T_ae2c0_row22_col2\" class=\"data row22 col2\" >3,289</td>\n",
       "      <td id=\"T_ae2c0_row22_col3\" class=\"data row22 col3\" >4.0022%</td>\n",
       "    </tr>\n",
       "    <tr>\n",
       "      <th id=\"T_ae2c0_level0_row23\" class=\"row_heading level0 row23\" >23</th>\n",
       "      <td id=\"T_ae2c0_row23_col0\" class=\"data row23 col0\" >SOFR</td>\n",
       "      <td id=\"T_ae2c0_row23_col1\" class=\"data row23 col1\" >2024-06-11 00:00:00</td>\n",
       "      <td id=\"T_ae2c0_row23_col2\" class=\"data row23 col2\" >3,654</td>\n",
       "      <td id=\"T_ae2c0_row23_col3\" class=\"data row23 col3\" >3.9939%</td>\n",
       "    </tr>\n",
       "    <tr>\n",
       "      <th id=\"T_ae2c0_level0_row24\" class=\"row_heading level0 row24\" >24</th>\n",
       "      <td id=\"T_ae2c0_row24_col0\" class=\"data row24 col0\" >SOFR</td>\n",
       "      <td id=\"T_ae2c0_row24_col1\" class=\"data row24 col1\" >2024-06-11 00:00:00</td>\n",
       "      <td id=\"T_ae2c0_row24_col2\" class=\"data row24 col2\" >4,385</td>\n",
       "      <td id=\"T_ae2c0_row24_col3\" class=\"data row24 col3\" >3.9904%</td>\n",
       "    </tr>\n",
       "    <tr>\n",
       "      <th id=\"T_ae2c0_level0_row25\" class=\"row_heading level0 row25\" >25</th>\n",
       "      <td id=\"T_ae2c0_row25_col0\" class=\"data row25 col0\" >SOFR</td>\n",
       "      <td id=\"T_ae2c0_row25_col1\" class=\"data row25 col1\" >2024-06-11 00:00:00</td>\n",
       "      <td id=\"T_ae2c0_row25_col2\" class=\"data row25 col2\" >5,480</td>\n",
       "      <td id=\"T_ae2c0_row25_col3\" class=\"data row25 col3\" >3.9912%</td>\n",
       "    </tr>\n",
       "    <tr>\n",
       "      <th id=\"T_ae2c0_level0_row26\" class=\"row_heading level0 row26\" >26</th>\n",
       "      <td id=\"T_ae2c0_row26_col0\" class=\"data row26 col0\" >SOFR</td>\n",
       "      <td id=\"T_ae2c0_row26_col1\" class=\"data row26 col1\" >2024-06-11 00:00:00</td>\n",
       "      <td id=\"T_ae2c0_row26_col2\" class=\"data row26 col2\" >7,307</td>\n",
       "      <td id=\"T_ae2c0_row26_col3\" class=\"data row26 col3\" >3.9428%</td>\n",
       "    </tr>\n",
       "    <tr>\n",
       "      <th id=\"T_ae2c0_level0_row27\" class=\"row_heading level0 row27\" >27</th>\n",
       "      <td id=\"T_ae2c0_row27_col0\" class=\"data row27 col0\" >SOFR</td>\n",
       "      <td id=\"T_ae2c0_row27_col1\" class=\"data row27 col1\" >2024-06-11 00:00:00</td>\n",
       "      <td id=\"T_ae2c0_row27_col2\" class=\"data row27 col2\" >9,133</td>\n",
       "      <td id=\"T_ae2c0_row27_col3\" class=\"data row27 col3\" >3.8068%</td>\n",
       "    </tr>\n",
       "    <tr>\n",
       "      <th id=\"T_ae2c0_level0_row28\" class=\"row_heading level0 row28\" >28</th>\n",
       "      <td id=\"T_ae2c0_row28_col0\" class=\"data row28 col0\" >SOFR</td>\n",
       "      <td id=\"T_ae2c0_row28_col1\" class=\"data row28 col1\" >2024-06-11 00:00:00</td>\n",
       "      <td id=\"T_ae2c0_row28_col2\" class=\"data row28 col2\" >10,959</td>\n",
       "      <td id=\"T_ae2c0_row28_col3\" class=\"data row28 col3\" >3.6594%</td>\n",
       "    </tr>\n",
       "  </tbody>\n",
       "</table>\n"
      ],
      "text/plain": [
       "<pandas.io.formats.style.Styler at 0x1264ab390>"
      ]
     },
     "execution_count": 12,
     "metadata": {},
     "output_type": "execute_result"
    }
   ],
   "source": [
    "curva_sofr = pd.read_excel(\"./input/sofr.xlsx\")\n",
    "curva_sofr.style.format(format_dict)"
   ]
  },
  {
   "cell_type": "markdown",
   "metadata": {
    "editable": true,
    "slideshow": {
     "slide_type": "slide"
    },
    "tags": []
   },
   "source": [
    "Se construye un objeto de tipo `qcf.ZeroCouponCurve` que es el que se utiliza luego para valorizar."
   ]
  },
  {
   "cell_type": "code",
   "execution_count": 13,
   "metadata": {
    "ExecuteTime": {
     "end_time": "2023-12-19T16:09:19.279786Z",
     "start_time": "2023-12-19T16:09:19.221569Z"
    },
    "editable": true,
    "execution": {
     "iopub.execute_input": "2024-06-12T16:07:42.328518Z",
     "iopub.status.busy": "2024-06-12T16:07:42.328228Z",
     "iopub.status.idle": "2024-06-12T16:07:42.332315Z",
     "shell.execute_reply": "2024-06-12T16:07:42.331724Z",
     "shell.execute_reply.started": "2024-06-12T16:07:42.328496Z"
    },
    "slideshow": {
     "slide_type": "fragment"
    },
    "tags": []
   },
   "outputs": [],
   "source": [
    "zcc_sofr = zcc_from_df(curva_sofr, tasa)"
   ]
  },
  {
   "cell_type": "markdown",
   "metadata": {
    "editable": true,
    "slideshow": {
     "slide_type": "slide"
    },
    "tags": []
   },
   "source": [
    "Esta es la curva de Treasury"
   ]
  },
  {
   "cell_type": "code",
   "execution_count": 14,
   "metadata": {
    "editable": true,
    "execution": {
     "iopub.execute_input": "2024-06-12T16:08:08.350141Z",
     "iopub.status.busy": "2024-06-12T16:08:08.349782Z",
     "iopub.status.idle": "2024-06-12T16:08:08.359655Z",
     "shell.execute_reply": "2024-06-12T16:08:08.359047Z",
     "shell.execute_reply.started": "2024-06-12T16:08:08.350112Z"
    },
    "slideshow": {
     "slide_type": "fragment"
    },
    "tags": []
   },
   "outputs": [],
   "source": [
    "curva_trsry = {\n",
    "  \"curve_code\": \"CSOFR\",\n",
    "  \"type_of_rate\": \"CON_ACT/365\",\n",
    "  \"process_date\": \"2024-06-11\",\n",
    "  \"jacobians\": {},\n",
    "  \"values\": [\n",
    "    {\n",
    "      \"tenor\": \"2D\",\n",
    "      \"maturity\": 2,\n",
    "      \"rate\": 0.05393091948998677\n",
    "    },\n",
    "    {\n",
    "      \"tenor\": \"7D\",\n",
    "      \"maturity\": 9,\n",
    "      \"rate\": 0.05391149528761137\n",
    "    },\n",
    "    {\n",
    "      \"tenor\": \"14D\",\n",
    "      \"maturity\": 16,\n",
    "      \"rate\": 0.053909500139491626\n",
    "    },\n",
    "    {\n",
    "      \"tenor\": \"1M\",\n",
    "      \"maturity\": 34,\n",
    "      \"rate\": 0.05392893501738643\n",
    "    },\n",
    "    {\n",
    "      \"tenor\": \"2M\",\n",
    "      \"maturity\": 63,\n",
    "      \"rate\": 0.053894362943625894\n",
    "    },\n",
    "    {\n",
    "      \"tenor\": \"3M\",\n",
    "      \"maturity\": 94,\n",
    "      \"rate\": 0.053843482977097415\n",
    "    },\n",
    "    {\n",
    "      \"tenor\": \"4M\",\n",
    "      \"maturity\": 125,\n",
    "      \"rate\": 0.05359443451658483\n",
    "    },\n",
    "    {\n",
    "      \"tenor\": \"5M\",\n",
    "      \"maturity\": 155,\n",
    "      \"rate\": 0.05337515689463274\n",
    "    },\n",
    "    {\n",
    "      \"tenor\": \"6M\",\n",
    "      \"maturity\": 185,\n",
    "      \"rate\": 0.05312657866085667\n",
    "    },\n",
    "    {\n",
    "      \"tenor\": \"7M\",\n",
    "      \"maturity\": 216,\n",
    "      \"rate\": 0.052777204713019304\n",
    "    },\n",
    "    {\n",
    "      \"tenor\": \"8M\",\n",
    "      \"maturity\": 247,\n",
    "      \"rate\": 0.05240381230639302\n",
    "    },\n",
    "    {\n",
    "      \"tenor\": \"9M\",\n",
    "      \"maturity\": 275,\n",
    "      \"rate\": 0.0520700981638382\n",
    "    },\n",
    "    {\n",
    "      \"tenor\": \"1Y\",\n",
    "      \"maturity\": 367,\n",
    "      \"rate\": 0.05088167612943658\n",
    "    },\n",
    "    {\n",
    "      \"tenor\": \"18M\",\n",
    "      \"maturity\": 552,\n",
    "      \"rate\": 0.04852936930616741\n",
    "    },\n",
    "    {\n",
    "      \"tenor\": \"2Y\",\n",
    "      \"maturity\": 734,\n",
    "      \"rate\": 0.04659950874645961\n",
    "    },\n",
    "    {\n",
    "      \"tenor\": \"3Y\",\n",
    "      \"maturity\": 1098,\n",
    "      \"rate\": 0.04394041235592892\n",
    "    },\n",
    "    {\n",
    "      \"tenor\": \"4Y\",\n",
    "      \"maturity\": 1463,\n",
    "      \"rate\": 0.04231284987923743\n",
    "    },\n",
    "    {\n",
    "      \"tenor\": \"5Y\",\n",
    "      \"maturity\": 1828,\n",
    "      \"rate\": 0.041317554448529636\n",
    "    },\n",
    "    {\n",
    "      \"tenor\": \"6Y\",\n",
    "      \"maturity\": 2193,\n",
    "      \"rate\": 0.04073549138440949\n",
    "    },\n",
    "    {\n",
    "      \"tenor\": \"7Y\",\n",
    "      \"maturity\": 2558,\n",
    "      \"rate\": 0.04035917885531376\n",
    "    },\n",
    "    {\n",
    "      \"tenor\": \"8Y\",\n",
    "      \"maturity\": 2925,\n",
    "      \"rate\": 0.040119782655144265\n",
    "    },\n",
    "    {\n",
    "      \"tenor\": \"9Y\",\n",
    "      \"maturity\": 3289,\n",
    "      \"rate\": 0.039975186953621844\n",
    "    },\n",
    "    {\n",
    "      \"tenor\": \"10Y\",\n",
    "      \"maturity\": 3654,\n",
    "      \"rate\": 0.03989648083295584\n",
    "    },\n",
    "    {\n",
    "      \"tenor\": \"12Y\",\n",
    "      \"maturity\": 4385,\n",
    "      \"rate\": 0.03986864130635106\n",
    "    },\n",
    "    {\n",
    "      \"tenor\": \"15Y\",\n",
    "      \"maturity\": 5480,\n",
    "      \"rate\": 0.039884006370912016\n",
    "    },\n",
    "    {\n",
    "      \"tenor\": \"20Y\",\n",
    "      \"maturity\": 7307,\n",
    "      \"rate\": 0.03940855790321542\n",
    "    },\n",
    "    {\n",
    "      \"tenor\": \"25Y\",\n",
    "      \"maturity\": 9134,\n",
    "      \"rate\": 0.03804951829543225\n",
    "    },\n",
    "    {\n",
    "      \"tenor\": \"30Y\",\n",
    "      \"maturity\": 10961,\n",
    "      \"rate\": 0.036573592658114495\n",
    "    },\n",
    "    {\n",
    "      \"tenor\": \"40Y\",\n",
    "      \"maturity\": 14612,\n",
    "      \"rate\": 0.03329402953514909\n",
    "    },\n",
    "    {\n",
    "      \"tenor\": \"50Y\",\n",
    "      \"maturity\": 18264,\n",
    "      \"rate\": 0.029736924965687982\n",
    "    }\n",
    "  ]\n",
    "}"
   ]
  },
  {
   "cell_type": "markdown",
   "metadata": {
    "editable": true,
    "slideshow": {
     "slide_type": "slide"
    },
    "tags": []
   },
   "source": [
    "Se pasa a `DataFrame`."
   ]
  },
  {
   "cell_type": "code",
   "execution_count": 15,
   "metadata": {
    "editable": true,
    "execution": {
     "iopub.execute_input": "2024-06-12T16:08:28.675230Z",
     "iopub.status.busy": "2024-06-12T16:08:28.674808Z",
     "iopub.status.idle": "2024-06-12T16:08:28.680292Z",
     "shell.execute_reply": "2024-06-12T16:08:28.679398Z",
     "shell.execute_reply.started": "2024-06-12T16:08:28.675194Z"
    },
    "slideshow": {
     "slide_type": "fragment"
    },
    "tags": []
   },
   "outputs": [],
   "source": [
    "df_curva_trsry = pd.DataFrame(curva_trsry[\"values\"])"
   ]
  },
  {
   "cell_type": "markdown",
   "metadata": {
    "editable": true,
    "slideshow": {
     "slide_type": "slide"
    },
    "tags": []
   },
   "source": [
    "Se construye el objeto `qcf.ZeroCouponCurve`."
   ]
  },
  {
   "cell_type": "code",
   "execution_count": 16,
   "metadata": {
    "editable": true,
    "execution": {
     "iopub.execute_input": "2024-06-12T16:08:46.283289Z",
     "iopub.status.busy": "2024-06-12T16:08:46.283029Z",
     "iopub.status.idle": "2024-06-12T16:08:46.287119Z",
     "shell.execute_reply": "2024-06-12T16:08:46.286471Z",
     "shell.execute_reply.started": "2024-06-12T16:08:46.283268Z"
    },
    "slideshow": {
     "slide_type": "fragment"
    },
    "tags": []
   },
   "outputs": [],
   "source": [
    "df_curva_trsry.columns = ['tenor', 'plazo', 'tasa']\n",
    "zcc_trsry = zcc_from_df(df_curva_trsry, tasa)"
   ]
  },
  {
   "cell_type": "markdown",
   "metadata": {
    "editable": true,
    "slideshow": {
     "slide_type": "slide"
    },
    "tags": []
   },
   "source": [
    "## Present Value"
   ]
  },
  {
   "cell_type": "code",
   "execution_count": 26,
   "metadata": {
    "editable": true,
    "execution": {
     "iopub.execute_input": "2024-06-12T16:21:17.294098Z",
     "iopub.status.busy": "2024-06-12T16:21:17.293733Z",
     "iopub.status.idle": "2024-06-12T16:21:17.298290Z",
     "shell.execute_reply": "2024-06-12T16:21:17.297254Z",
     "shell.execute_reply.started": "2024-06-12T16:21:17.294067Z"
    },
    "slideshow": {
     "slide_type": "fragment"
    },
    "tags": []
   },
   "outputs": [],
   "source": [
    "pv = qcf.PresentValue()"
   ]
  },
  {
   "cell_type": "markdown",
   "metadata": {
    "editable": true,
    "slideshow": {
     "slide_type": "slide"
    },
    "tags": []
   },
   "source": [
    "## Check Curvas SOFR"
   ]
  },
  {
   "cell_type": "markdown",
   "metadata": {
    "editable": true,
    "slideshow": {
     "slide_type": "slide"
    },
    "tags": []
   },
   "source": [
    "Se verifica que las curvas cumplan con la condición de valorizar correctamente los swaps de mercado."
   ]
  },
  {
   "cell_type": "markdown",
   "metadata": {
    "editable": true,
    "slideshow": {
     "slide_type": "fragment"
    },
    "tags": []
   },
   "source": [
    "Parámetros comunes a todos los plazos de cotizaciones SOFR."
   ]
  },
  {
   "cell_type": "code",
   "execution_count": 65,
   "metadata": {
    "ExecuteTime": {
     "end_time": "2023-12-19T16:09:33.304919Z",
     "start_time": "2023-12-19T16:09:33.264734Z"
    },
    "editable": true,
    "execution": {
     "iopub.execute_input": "2024-06-12T17:35:52.829806Z",
     "iopub.status.busy": "2024-06-12T17:35:52.829429Z",
     "iopub.status.idle": "2024-06-12T17:35:52.835887Z",
     "shell.execute_reply": "2024-06-12T17:35:52.834926Z",
     "shell.execute_reply.started": "2024-06-12T17:35:52.829773Z"
    },
    "slideshow": {
     "slide_type": "fragment"
    },
    "tags": []
   },
   "outputs": [],
   "source": [
    "rp = qcf.RecPay.RECEIVE\n",
    "bus_adj_rule = qcf.BusyAdjRules.MODFOLLOW\n",
    "periodicidad = qcf.Tenor('12M')\n",
    "periodo_irregular = qcf.StubPeriod.SHORTFRONT\n",
    "calendario = qcf.BusinessCalendar(qcf.QCDate(10, 6, 2024), 20)\n",
    "lag_pago = 0\n",
    "nominal = 1_000_000.0\n",
    "amort_es_flujo = True\n",
    "moneda = qcf.QCUSD()\n",
    "es_bono = False"
   ]
  },
  {
   "cell_type": "markdown",
   "metadata": {
    "editable": true,
    "slideshow": {
     "slide_type": "slide"
    },
    "tags": []
   },
   "source": [
    "Parámetros para la valorización."
   ]
  },
  {
   "cell_type": "code",
   "execution_count": 57,
   "metadata": {
    "editable": true,
    "execution": {
     "iopub.execute_input": "2024-06-12T17:33:33.948188Z",
     "iopub.status.busy": "2024-06-12T17:33:33.947827Z",
     "iopub.status.idle": "2024-06-12T17:33:33.952848Z",
     "shell.execute_reply": "2024-06-12T17:33:33.952014Z",
     "shell.execute_reply.started": "2024-06-12T17:33:33.948158Z"
    },
    "slideshow": {
     "slide_type": "fragment"
    },
    "tags": []
   },
   "outputs": [],
   "source": [
    "fecha_val = qcf.QCDate(11, 6, 2024)\n",
    "fecha_start = qcf.QCDate(13, 6, 2024)\n",
    "dias = fecha_val.day_diff(fecha_start)"
   ]
  },
  {
   "cell_type": "markdown",
   "metadata": {
    "editable": true,
    "slideshow": {
     "slide_type": "slide"
    },
    "tags": []
   },
   "source": [
    "Cotizaciones."
   ]
  },
  {
   "cell_type": "code",
   "execution_count": 66,
   "metadata": {
    "editable": true,
    "execution": {
     "iopub.execute_input": "2024-06-12T17:36:11.491617Z",
     "iopub.status.busy": "2024-06-12T17:36:11.491252Z",
     "iopub.status.idle": "2024-06-12T17:36:11.499736Z",
     "shell.execute_reply": "2024-06-12T17:36:11.498787Z",
     "shell.execute_reply.started": "2024-06-12T17:36:11.491587Z"
    },
    "slideshow": {
     "slide_type": "fragment"
    },
    "tags": []
   },
   "outputs": [],
   "source": [
    "datos = {\n",
    "    \"18M\": {\n",
    "        \"fecha_inicio\": qcf.QCDate(13, 6, 2024),\n",
    "        \"fecha_final\":qcf.QCDate(13, 12, 2025),\n",
    "        \"tasa_cupon\": qcf.QCInterestRate(\n",
    "            0.048864, \n",
    "            qcf.QCAct360(), \n",
    "            qcf.QCLinearWf()\n",
    "        )\n",
    "    },\n",
    "    \"2Y\": {\n",
    "        \"fecha_inicio\": qcf.QCDate(13, 6, 2024),\n",
    "        \"fecha_final\":qcf.QCDate(13, 6, 2026),\n",
    "        \"tasa_cupon\": qcf.QCInterestRate(\n",
    "            0.047134, \n",
    "            qcf.QCAct360(), \n",
    "            qcf.QCLinearWf()\n",
    "        )\n",
    "    },\n",
    "    \"3Y\": {\n",
    "        \"fecha_inicio\": qcf.QCDate(13, 6, 2024),\n",
    "        \"fecha_final\":qcf.QCDate(13, 6, 2027),\n",
    "        \"tasa_cupon\": qcf.QCInterestRate(\n",
    "            0.044473, \n",
    "            qcf.QCAct360(), \n",
    "            qcf.QCLinearWf()\n",
    "        )\n",
    "    },\n",
    "    \"4Y\": {\n",
    "        \"fecha_inicio\": qcf.QCDate(13, 6, 2024),\n",
    "        \"fecha_final\":qcf.QCDate(13, 6, 2028),\n",
    "        \"tasa_cupon\": qcf.QCInterestRate(\n",
    "            0.042855, \n",
    "            qcf.QCAct360(), \n",
    "            qcf.QCLinearWf()\n",
    "        )\n",
    "    },\n",
    "    \"5Y\": {\n",
    "        \"fecha_inicio\": qcf.QCDate(13, 6, 2024),\n",
    "        \"fecha_final\":qcf.QCDate(13, 6, 2029),\n",
    "        \"tasa_cupon\": qcf.QCInterestRate(\n",
    "            0.041867, \n",
    "            qcf.QCAct360(), \n",
    "            qcf.QCLinearWf()\n",
    "        )\n",
    "    }\n",
    "}"
   ]
  },
  {
   "cell_type": "markdown",
   "metadata": {
    "editable": true,
    "slideshow": {
     "slide_type": "slide"
    },
    "tags": []
   },
   "source": [
    "Se da de alta la pata."
   ]
  },
  {
   "cell_type": "code",
   "execution_count": 75,
   "metadata": {
    "editable": true,
    "execution": {
     "iopub.execute_input": "2024-06-12T17:37:05.383218Z",
     "iopub.status.busy": "2024-06-12T17:37:05.382847Z",
     "iopub.status.idle": "2024-06-12T17:37:05.388579Z",
     "shell.execute_reply": "2024-06-12T17:37:05.387547Z",
     "shell.execute_reply.started": "2024-06-12T17:37:05.383187Z"
    },
    "slideshow": {
     "slide_type": "fragment"
    },
    "tags": []
   },
   "outputs": [],
   "source": [
    "que_tenor = \"3Y\"\n",
    "fixed_rate_leg = qcf.LegFactory.build_bullet_fixed_rate_leg(\n",
    "    rp,\n",
    "    datos[que_tenor][\"fecha_inicio\"],\n",
    "    datos[que_tenor][\"fecha_final\"],\n",
    "    bus_adj_rule,\n",
    "    periodicidad,\n",
    "    periodo_irregular,\n",
    "    calendario,\n",
    "    lag_pago,\n",
    "    nominal,\n",
    "    amort_es_flujo,\n",
    "    datos[que_tenor][\"tasa_cupon\"],\n",
    "    moneda,\n",
    "    es_bono\n",
    ")"
   ]
  },
  {
   "cell_type": "markdown",
   "metadata": {
    "editable": true,
    "slideshow": {
     "slide_type": "slide"
    },
    "tags": []
   },
   "source": [
    "Se visualiza."
   ]
  },
  {
   "cell_type": "code",
   "execution_count": 76,
   "metadata": {
    "ExecuteTime": {
     "end_time": "2023-12-19T16:09:34.051636Z",
     "start_time": "2023-12-19T16:09:34.013841Z"
    },
    "editable": true,
    "execution": {
     "iopub.execute_input": "2024-06-12T17:37:06.126317Z",
     "iopub.status.busy": "2024-06-12T17:37:06.125955Z",
     "iopub.status.idle": "2024-06-12T17:37:06.137027Z",
     "shell.execute_reply": "2024-06-12T17:37:06.136239Z",
     "shell.execute_reply.started": "2024-06-12T17:37:06.126286Z"
    },
    "slideshow": {
     "slide_type": "fragment"
    },
    "tags": []
   },
   "outputs": [
    {
     "data": {
      "text/html": [
       "<style type=\"text/css\">\n",
       "</style>\n",
       "<table id=\"T_0a7c5\">\n",
       "  <thead>\n",
       "    <tr>\n",
       "      <th class=\"blank level0\" >&nbsp;</th>\n",
       "      <th id=\"T_0a7c5_level0_col0\" class=\"col_heading level0 col0\" >fecha_inicial</th>\n",
       "      <th id=\"T_0a7c5_level0_col1\" class=\"col_heading level0 col1\" >fecha_final</th>\n",
       "      <th id=\"T_0a7c5_level0_col2\" class=\"col_heading level0 col2\" >fecha_pago</th>\n",
       "      <th id=\"T_0a7c5_level0_col3\" class=\"col_heading level0 col3\" >nominal</th>\n",
       "      <th id=\"T_0a7c5_level0_col4\" class=\"col_heading level0 col4\" >amortizacion</th>\n",
       "      <th id=\"T_0a7c5_level0_col5\" class=\"col_heading level0 col5\" >interes</th>\n",
       "      <th id=\"T_0a7c5_level0_col6\" class=\"col_heading level0 col6\" >amort_es_flujo</th>\n",
       "      <th id=\"T_0a7c5_level0_col7\" class=\"col_heading level0 col7\" >flujo</th>\n",
       "      <th id=\"T_0a7c5_level0_col8\" class=\"col_heading level0 col8\" >moneda</th>\n",
       "      <th id=\"T_0a7c5_level0_col9\" class=\"col_heading level0 col9\" >valor_tasa</th>\n",
       "      <th id=\"T_0a7c5_level0_col10\" class=\"col_heading level0 col10\" >tipo_tasa</th>\n",
       "    </tr>\n",
       "  </thead>\n",
       "  <tbody>\n",
       "    <tr>\n",
       "      <th id=\"T_0a7c5_level0_row0\" class=\"row_heading level0 row0\" >0</th>\n",
       "      <td id=\"T_0a7c5_row0_col0\" class=\"data row0 col0\" >2024-06-13</td>\n",
       "      <td id=\"T_0a7c5_row0_col1\" class=\"data row0 col1\" >2025-06-13</td>\n",
       "      <td id=\"T_0a7c5_row0_col2\" class=\"data row0 col2\" >2025-06-13</td>\n",
       "      <td id=\"T_0a7c5_row0_col3\" class=\"data row0 col3\" >1,000,000.00</td>\n",
       "      <td id=\"T_0a7c5_row0_col4\" class=\"data row0 col4\" >0.00</td>\n",
       "      <td id=\"T_0a7c5_row0_col5\" class=\"data row0 col5\" >45,090.68</td>\n",
       "      <td id=\"T_0a7c5_row0_col6\" class=\"data row0 col6\" >True</td>\n",
       "      <td id=\"T_0a7c5_row0_col7\" class=\"data row0 col7\" >45,090.68</td>\n",
       "      <td id=\"T_0a7c5_row0_col8\" class=\"data row0 col8\" >USD</td>\n",
       "      <td id=\"T_0a7c5_row0_col9\" class=\"data row0 col9\" >4.4473%</td>\n",
       "      <td id=\"T_0a7c5_row0_col10\" class=\"data row0 col10\" >LinAct360</td>\n",
       "    </tr>\n",
       "    <tr>\n",
       "      <th id=\"T_0a7c5_level0_row1\" class=\"row_heading level0 row1\" >1</th>\n",
       "      <td id=\"T_0a7c5_row1_col0\" class=\"data row1 col0\" >2025-06-13</td>\n",
       "      <td id=\"T_0a7c5_row1_col1\" class=\"data row1 col1\" >2026-06-15</td>\n",
       "      <td id=\"T_0a7c5_row1_col2\" class=\"data row1 col2\" >2026-06-15</td>\n",
       "      <td id=\"T_0a7c5_row1_col3\" class=\"data row1 col3\" >1,000,000.00</td>\n",
       "      <td id=\"T_0a7c5_row1_col4\" class=\"data row1 col4\" >0.00</td>\n",
       "      <td id=\"T_0a7c5_row1_col5\" class=\"data row1 col5\" >45,337.75</td>\n",
       "      <td id=\"T_0a7c5_row1_col6\" class=\"data row1 col6\" >True</td>\n",
       "      <td id=\"T_0a7c5_row1_col7\" class=\"data row1 col7\" >45,337.75</td>\n",
       "      <td id=\"T_0a7c5_row1_col8\" class=\"data row1 col8\" >USD</td>\n",
       "      <td id=\"T_0a7c5_row1_col9\" class=\"data row1 col9\" >4.4473%</td>\n",
       "      <td id=\"T_0a7c5_row1_col10\" class=\"data row1 col10\" >LinAct360</td>\n",
       "    </tr>\n",
       "    <tr>\n",
       "      <th id=\"T_0a7c5_level0_row2\" class=\"row_heading level0 row2\" >2</th>\n",
       "      <td id=\"T_0a7c5_row2_col0\" class=\"data row2 col0\" >2026-06-15</td>\n",
       "      <td id=\"T_0a7c5_row2_col1\" class=\"data row2 col1\" >2027-06-14</td>\n",
       "      <td id=\"T_0a7c5_row2_col2\" class=\"data row2 col2\" >2027-06-14</td>\n",
       "      <td id=\"T_0a7c5_row2_col3\" class=\"data row2 col3\" >1,000,000.00</td>\n",
       "      <td id=\"T_0a7c5_row2_col4\" class=\"data row2 col4\" >1,000,000.00</td>\n",
       "      <td id=\"T_0a7c5_row2_col5\" class=\"data row2 col5\" >44,967.14</td>\n",
       "      <td id=\"T_0a7c5_row2_col6\" class=\"data row2 col6\" >True</td>\n",
       "      <td id=\"T_0a7c5_row2_col7\" class=\"data row2 col7\" >1,044,967.14</td>\n",
       "      <td id=\"T_0a7c5_row2_col8\" class=\"data row2 col8\" >USD</td>\n",
       "      <td id=\"T_0a7c5_row2_col9\" class=\"data row2 col9\" >4.4473%</td>\n",
       "      <td id=\"T_0a7c5_row2_col10\" class=\"data row2 col10\" >LinAct360</td>\n",
       "    </tr>\n",
       "  </tbody>\n",
       "</table>\n"
      ],
      "text/plain": [
       "<pandas.io.formats.style.Styler at 0x126e06f50>"
      ]
     },
     "execution_count": 76,
     "metadata": {},
     "output_type": "execute_result"
    }
   ],
   "source": [
    "aux.leg_as_dataframe(fixed_rate_leg).style.format(format_dict)"
   ]
  },
  {
   "cell_type": "markdown",
   "metadata": {
    "editable": true,
    "slideshow": {
     "slide_type": "slide"
    },
    "tags": []
   },
   "source": [
    "Check Curva RF:"
   ]
  },
  {
   "cell_type": "code",
   "execution_count": 77,
   "metadata": {
    "ExecuteTime": {
     "end_time": "2023-12-19T16:09:35.054192Z",
     "start_time": "2023-12-19T16:09:35.005479Z"
    },
    "editable": true,
    "execution": {
     "iopub.execute_input": "2024-06-12T17:37:09.128987Z",
     "iopub.status.busy": "2024-06-12T17:37:09.128627Z",
     "iopub.status.idle": "2024-06-12T17:37:09.133972Z",
     "shell.execute_reply": "2024-06-12T17:37:09.133132Z",
     "shell.execute_reply.started": "2024-06-12T17:37:09.128956Z"
    },
    "slideshow": {
     "slide_type": "fragment"
    },
    "tags": []
   },
   "outputs": [
    {
     "name": "stdout",
     "output_type": "stream",
     "text": [
      "Valor presente de la pata fija es: 999,676\n"
     ]
    }
   ],
   "source": [
    "vp_fija = pv.pv(fecha_val, fixed_rate_leg, zcc_sofr)\n",
    "print(f\"Valor presente de la pata fija es: {vp_fija / zcc_sofr.get_discount_factor_at(dias) :,.0f}\")"
   ]
  },
  {
   "cell_type": "markdown",
   "metadata": {
    "editable": true,
    "slideshow": {
     "slide_type": "slide"
    },
    "tags": []
   },
   "source": [
    "Check Curva TRSRY:"
   ]
  },
  {
   "cell_type": "code",
   "execution_count": 78,
   "metadata": {
    "ExecuteTime": {
     "end_time": "2023-12-19T16:09:35.054192Z",
     "start_time": "2023-12-19T16:09:35.005479Z"
    },
    "editable": true,
    "execution": {
     "iopub.execute_input": "2024-06-12T17:37:12.155030Z",
     "iopub.status.busy": "2024-06-12T17:37:12.154652Z",
     "iopub.status.idle": "2024-06-12T17:37:12.160442Z",
     "shell.execute_reply": "2024-06-12T17:37:12.159581Z",
     "shell.execute_reply.started": "2024-06-12T17:37:12.155000Z"
    },
    "slideshow": {
     "slide_type": "fragment"
    },
    "tags": []
   },
   "outputs": [
    {
     "name": "stdout",
     "output_type": "stream",
     "text": [
      "Valor presente de la pata fija es: 1,000,000\n"
     ]
    }
   ],
   "source": [
    "vp_fija = pv.pv(fecha_val:=qcf.QCDate(11, 6, 2024), fixed_rate_leg, zcc_trsry)\n",
    "print(f\"Valor presente de la pata fija es: {vp_fija / zcc_trsry.get_discount_factor_at(dias) :,.0f}\")"
   ]
  },
  {
   "cell_type": "markdown",
   "metadata": {
    "editable": true,
    "slideshow": {
     "slide_type": "slide"
    },
    "tags": []
   },
   "source": [
    "## Puntos Forward"
   ]
  },
  {
   "cell_type": "markdown",
   "metadata": {
    "editable": true,
    "slideshow": {
     "slide_type": "slide"
    },
    "tags": []
   },
   "source": [
    "Un precio forward se calcula como:\n",
    "\n",
    "$$F=S\\cdot\\delta$$\n",
    "\n",
    "donde $\\delta$ representa el diferencial de tasas entre las dos divisas involucradas."
   ]
  },
  {
   "cell_type": "markdown",
   "metadata": {
    "editable": true,
    "slideshow": {
     "slide_type": "slide"
    },
    "tags": []
   },
   "source": [
    "En el mercado también se utiliza la siguiente relación:\n",
    "\n",
    "$$F=S+p$$\n",
    "\n",
    "donde $p$ son los llamados puntos forward."
   ]
  },
  {
   "cell_type": "markdown",
   "metadata": {
    "editable": true,
    "slideshow": {
     "slide_type": "slide"
    },
    "tags": []
   },
   "source": [
    "De esto se desprende que sólo hay puntos forward cuando hay un plazo invloucrado.\n",
    "\n",
    "Igualando las expresiones anteriores tenemos que:\n",
    "\n",
    "$$S+p=S\\cdot\\delta$$\n",
    "$$p=S\\cdot\\left(\\delta-1\\right)$$\n",
    "\n",
    "Y por tanto:\n",
    "\n",
    "$$\\frac{dp}{dS}=\\delta-1\\approx 0$$\n",
    "\n",
    "Esta última relación es valida sobretodo en plazos cortos."
   ]
  },
  {
   "cell_type": "markdown",
   "metadata": {
    "editable": true,
    "slideshow": {
     "slide_type": "slide"
    },
    "tags": []
   },
   "source": [
    "Consideremos ahora una cotización puntos overnight (ON). Dado lo anterior podemos escribir:\n",
    "\n",
    "$$Spot+p=Spot\\cdot\\delta$$\n",
    "\n",
    "Incluso si *Spot Date* es T+1 o T+2 (recordar también que las cotizaciones de mercado representan operaciones FX swap)."
   ]
  },
  {
   "cell_type": "markdown",
   "metadata": {
    "editable": true,
    "slideshow": {
     "slide_type": ""
    },
    "tags": []
   },
   "source": [
    "Para fijar las ideas, supongamos que estamos en el mercado EURUSD y que queremos despejar una tasa en EURCOLUSD. De la cotización ON se deduce entonces que:\n",
    "\n",
    "$$Spot+p=Spot\\cdot\\frac{1+r_{USD}\\cdot yf}{1+r_{EUR}\\cdot yf}$$\n",
    "$$yf=\\frac{n}{360}$$\n",
    "$$n\\in\\{1,2,3,4\\}$$"
   ]
  },
  {
   "cell_type": "markdown",
   "metadata": {
    "editable": true,
    "slideshow": {
     "slide_type": ""
    },
    "tags": []
   },
   "source": [
    "Por lo tanto:\n",
    "\n",
    "$$r_{EUR}=\\left[\\frac{Spot\\cdot\\left(1+r_{USD}\\cdot yf\\right)}{Spot+p}-1\\right]\\cdot\\frac{1}{yf}$$"
   ]
  },
  {
   "cell_type": "markdown",
   "metadata": {
    "editable": true,
    "slideshow": {
     "slide_type": "slide"
    },
    "tags": []
   },
   "source": [
    "Se puede aplicar el mismo razonamiento usando una cotización tomorrow next (TN), pero recordando que la tasa que se obtiene no es de T+0 a T+1 (de hecho sería la ON) si no que de T+1 a Spot Date (que suele ser T+2)"
   ]
  },
  {
   "cell_type": "markdown",
   "metadata": {
    "editable": true,
    "slideshow": {
     "slide_type": "slide"
    },
    "tags": []
   },
   "source": [
    "¿Qué ocurre cuándo no hay cotizaciones ON y/o TN? Esto es usual en las divisas emergentes como el USDCLP.\n",
    "\n",
    "Dichas cotizaciones no se pueden sintetizar porque dependen de las mismas tasas que queremos deducir."
   ]
  },
  {
   "cell_type": "markdown",
   "metadata": {
    "editable": true,
    "slideshow": {
     "slide_type": ""
    },
    "tags": []
   },
   "source": [
    "Por lo tanto, la alternativa que queda es utilizar como proxy de las tasas cortas tasas de otro mercado (no FX). Típicamente, se utiliza un índice ON (SOFR, CESTR)."
   ]
  }
 ],
 "metadata": {
  "hide_input": false,
  "kernelspec": {
   "display_name": "Python 3 (ipykernel)",
   "language": "python",
   "name": "python3"
  },
  "language_info": {
   "codemirror_mode": {
    "name": "ipython",
    "version": 3
   },
   "file_extension": ".py",
   "mimetype": "text/x-python",
   "name": "python",
   "nbconvert_exporter": "python",
   "pygments_lexer": "ipython3",
   "version": "3.11.5"
  },
  "toc": {
   "base_numbering": 1,
   "nav_menu": {},
   "number_sections": true,
   "sideBar": true,
   "skip_h1_title": true,
   "title_cell": "Table of Contents",
   "title_sidebar": "Contenidos",
   "toc_cell": false,
   "toc_position": {
    "height": "calc(100% - 180px)",
    "left": "10px",
    "top": "150px",
    "width": "311px"
   },
   "toc_section_display": true,
   "toc_window_display": true
  },
  "varInspector": {
   "cols": {
    "lenName": 16,
    "lenType": 16,
    "lenVar": 40
   },
   "kernels_config": {
    "python": {
     "delete_cmd_postfix": "",
     "delete_cmd_prefix": "del ",
     "library": "var_list.py",
     "varRefreshCmd": "print(var_dic_list())"
    },
    "r": {
     "delete_cmd_postfix": ") ",
     "delete_cmd_prefix": "rm(",
     "library": "var_list.r",
     "varRefreshCmd": "cat(var_dic_list()) "
    }
   },
   "types_to_exclude": [
    "module",
    "function",
    "builtin_function_or_method",
    "instance",
    "_Feature"
   ],
   "window_display": false
  }
 },
 "nbformat": 4,
 "nbformat_minor": 4
}
