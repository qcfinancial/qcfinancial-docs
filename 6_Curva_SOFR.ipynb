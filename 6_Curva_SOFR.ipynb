{
 "cells": [
  {
   "cell_type": "markdown",
   "id": "2cc34743-6b3b-47a9-a3f6-3736f7c0062b",
   "metadata": {},
   "source": [
    "# Curva SOFR"
   ]
  },
  {
   "cell_type": "markdown",
   "id": "89e70a1f-5cdd-4f8c-b500-ce67c0b521d2",
   "metadata": {},
   "source": [
    "Se construye la curva cupón cero asociada a los swaps de SOFR vs tasa fija:\n",
    "\n",
    "Se utiliza el procedimiento clásico que consiste en:\n",
    "\n",
    "- Resolver el sistema de ecuaciones que iguala el valor presente de las patas fijas (en `start_date`) con el valor del nocional.\n",
    "- Se considera como flujo el nocional al vencimiento.\n",
    "- Es importante notar que para que estas ecuaciones sean válidas se debe suponer que el settlement lag es siempre igual a 0."
   ]
  },
  {
   "cell_type": "code",
   "id": "7a07df2c-1811-4f59-bdf5-2690b27264fc",
   "metadata": {
    "execution": {
     "iopub.execute_input": "2024-06-24T14:25:13.790286Z",
     "iopub.status.busy": "2024-06-24T14:25:13.789925Z",
     "iopub.status.idle": "2024-06-24T14:25:14.925675Z",
     "shell.execute_reply": "2024-06-24T14:25:14.924848Z",
     "shell.execute_reply.started": "2024-06-24T14:25:13.790247Z"
    }
   },
   "source": [
    "import qcfinancial as qcf\n",
    "import pandas as pd\n",
    "import aux_functions as aux"
   ],
   "outputs": [],
   "execution_count": null
  },
  {
   "cell_type": "markdown",
   "id": "ccc93f8f-3cad-4c1e-9b0a-9a92a7c99fb5",
   "metadata": {},
   "source": [
    "## Data"
   ]
  },
  {
   "cell_type": "markdown",
   "id": "e5cedd35-482a-45e9-b2e5-d8e9f5e0f72c",
   "metadata": {},
   "source": [
    "La data se obtiene del asiguiente archivo Excel. En él, además de las tasas de los swaps, se ha registrado las características principales de estos contratos."
   ]
  },
  {
   "cell_type": "code",
   "id": "de1300c2-96d7-48d7-99ec-d4d6910179d7",
   "metadata": {
    "execution": {
     "iopub.execute_input": "2024-06-24T14:25:18.857411Z",
     "iopub.status.busy": "2024-06-24T14:25:18.856653Z",
     "iopub.status.idle": "2024-06-24T14:25:19.248135Z",
     "shell.execute_reply": "2024-06-24T14:25:19.247169Z",
     "shell.execute_reply.started": "2024-06-24T14:25:18.857380Z"
    }
   },
   "source": [
    "data = pd.read_excel(\"./input/20240621_sofr_data.xlsx\")"
   ],
   "outputs": [],
   "execution_count": null
  },
  {
   "cell_type": "code",
   "id": "79e05117-d360-4bb0-b377-19fb9b232078",
   "metadata": {
    "execution": {
     "iopub.execute_input": "2024-06-24T14:25:19.828049Z",
     "iopub.status.busy": "2024-06-24T14:25:19.827628Z",
     "iopub.status.idle": "2024-06-24T14:25:19.937977Z",
     "shell.execute_reply": "2024-06-24T14:25:19.937137Z",
     "shell.execute_reply.started": "2024-06-24T14:25:19.828015Z"
    }
   },
   "source": [
    "data.style.format({'rate':'{:.4%}'})"
   ],
   "outputs": [],
   "execution_count": null
  },
  {
   "cell_type": "markdown",
   "id": "d61e4d43-997e-465c-a6ef-9de6c475f81c",
   "metadata": {},
   "source": [
    "## Input"
   ]
  },
  {
   "cell_type": "markdown",
   "id": "8d6235f3-ad45-4b63-958d-3f346c16efb5",
   "metadata": {},
   "source": [
    "Se definen los inputs que son comunes a todas las operaciones. Notar que, contrariamente a lo que indican los datos, se establece que el settlement lag sea igual a 0. Esto para poder aplicar la condición que iguala el valor prersente de la pata fija en `start_date` al nocional."
   ]
  },
  {
   "cell_type": "code",
   "id": "a84d3201-568d-431f-bc86-e8a86ebb140d",
   "metadata": {
    "execution": {
     "iopub.execute_input": "2024-06-24T14:25:24.219889Z",
     "iopub.status.busy": "2024-06-24T14:25:24.219448Z",
     "iopub.status.idle": "2024-06-24T14:25:24.224862Z",
     "shell.execute_reply": "2024-06-24T14:25:24.223966Z",
     "shell.execute_reply.started": "2024-06-24T14:25:24.219856Z"
    }
   },
   "source": [
    "# Debe coincidir con la fecha de los datos\n",
    "trade_date = qcf.QCDate(21, 6, 2024)"
   ],
   "outputs": [],
   "execution_count": null
  },
  {
   "cell_type": "code",
   "id": "cdd5be8b-2e61-40a7-a22e-c83f7422875a",
   "metadata": {
    "execution": {
     "iopub.execute_input": "2024-06-24T14:25:27.102333Z",
     "iopub.status.busy": "2024-06-24T14:25:27.101997Z",
     "iopub.status.idle": "2024-06-24T14:25:27.107046Z",
     "shell.execute_reply": "2024-06-24T14:25:27.106278Z",
     "shell.execute_reply.started": "2024-06-24T14:25:27.102303Z"
    }
   },
   "source": [
    "# Convención de las tasas de las patas fijas\n",
    "yf = qcf.QCAct360()\n",
    "wf = qcf.QCLinearWf()"
   ],
   "outputs": [],
   "execution_count": null
  },
  {
   "cell_type": "code",
   "id": "460e6f9c-c8fc-4689-8f3c-f411187b9b9e",
   "metadata": {
    "execution": {
     "iopub.execute_input": "2024-06-24T14:25:28.064007Z",
     "iopub.status.busy": "2024-06-24T14:25:28.063615Z",
     "iopub.status.idle": "2024-06-24T14:25:28.069163Z",
     "shell.execute_reply": "2024-06-24T14:25:28.068247Z",
     "shell.execute_reply.started": "2024-06-24T14:25:28.063975Z"
    }
   },
   "source": [
    "# Los parámetros se organizan en un dict.\n",
    "common_params = {\n",
    "    \"rec_pay\": qcf.RecPay.RECEIVE,\n",
    "    \"start_date\": qcf.QCDate(25, 6, 2024),\n",
    "    \"bus_adj_rule\": qcf.BusyAdjRules.MODFOLLOW,\n",
    "    \"settlement_stub_period\": qcf.StubPeriod.SHORTFRONT,\n",
    "    \"settlement_calendar\": qcf.BusinessCalendar(trade_date, 50),\n",
    "    \"settlement_lag\": 0,  # Se impone = 0\n",
    "    \"initial_notional\": 1_000_000,\n",
    "    \"amort_is_cashflow\": True,\n",
    "    \"notional_currency\": qcf.QCUSD(),\n",
    "    \"is_bond\": False,\n",
    "    \"sett_lag_behaviour\": qcf.SettLagBehaviour.DONT_MOVE,\n",
    "}"
   ],
   "outputs": [],
   "execution_count": null
  },
  {
   "cell_type": "markdown",
   "id": "13f31bb6-97ce-4966-9265-14f8cfd935bc",
   "metadata": {},
   "source": [
    "La siguiente celda es para facilitar la escritura del código que viene ya que nos recuerda cuáles son los argumentos de la función que construye patas fijas."
   ]
  },
  {
   "cell_type": "code",
   "id": "9c4e61f7-c58a-4c82-84a9-64a8747a7dec",
   "metadata": {
    "execution": {
     "iopub.execute_input": "2024-06-24T14:25:33.182005Z",
     "iopub.status.busy": "2024-06-24T14:25:33.181662Z",
     "iopub.status.idle": "2024-06-24T14:25:33.187632Z",
     "shell.execute_reply": "2024-06-24T14:25:33.186720Z",
     "shell.execute_reply.started": "2024-06-24T14:25:33.181974Z"
    }
   },
   "source": [
    "for p in qcf.LegFactory.build_bullet_fixed_rate_leg.__doc__.split(','):\n",
    "    print(p)"
   ],
   "outputs": [],
   "execution_count": null
  },
  {
   "cell_type": "markdown",
   "id": "c66e836c-9b41-4513-9d71-c0e452ebd506",
   "metadata": {},
   "source": [
    "En el siguiente loop, se construyen todas las patas fijas."
   ]
  },
  {
   "cell_type": "code",
   "id": "bc3cf0a6-1d27-44b4-aafc-db3b3e6b0bbe",
   "metadata": {
    "execution": {
     "iopub.execute_input": "2024-06-24T14:25:37.881294Z",
     "iopub.status.busy": "2024-06-24T14:25:37.880907Z",
     "iopub.status.idle": "2024-06-24T14:25:37.894590Z",
     "shell.execute_reply": "2024-06-24T14:25:37.893701Z",
     "shell.execute_reply.started": "2024-06-24T14:25:37.881263Z"
    }
   },
   "source": [
    "# Aquí se almacenarán los resultados\n",
    "fixed_rate_legs = []\n",
    "\n",
    "# Se recorre el DataFrame con la data\n",
    "for t in data.itertuples():\n",
    "    # Madurez del contrato\n",
    "    tenor = qcf.Tenor(t.tenor)\n",
    "    \n",
    "    # Se calcula el número de meses de la madurez\n",
    "    months = tenor.get_months() + 12 * tenor.get_years()\n",
    "\n",
    "    # Se calcula la fecha final del swap sin aplicar todavía ajustes de calendario\n",
    "    if (days:=tenor.get_days()) > 0:\n",
    "        end_date = common_params[\"start_date\"].add_days(days)\n",
    "    else:\n",
    "        end_date = common_params[\"start_date\"].add_months(months)\n",
    "\n",
    "    # Se define un dict con los parámetros propios de cada contrato\n",
    "    other_params = {\n",
    "        \"end_date\": end_date,\n",
    "        \"settlement_periodicity\": qcf.Tenor(t.pay_freq),\n",
    "        \"interest_rate\": qcf.QCInterestRate(t.rate, yf, wf),\n",
    "    }\n",
    "\n",
    "    # Se construye y almacena la pata fija correspondiente\n",
    "    fixed_rate_legs.append(\n",
    "        qcf.LegFactory.build_bullet_fixed_rate_leg(\n",
    "            **(common_params | other_params),\n",
    "        )\n",
    "    )"
   ],
   "outputs": [],
   "execution_count": null
  },
  {
   "cell_type": "markdown",
   "id": "ec2a936f-08f8-4668-9b5b-5b151c006de2",
   "metadata": {},
   "source": [
    "Se muestra la estructura de un par de patas fijas."
   ]
  },
  {
   "cell_type": "code",
   "id": "f74dadaf-6afa-4cc3-996d-145341762420",
   "metadata": {
    "execution": {
     "iopub.execute_input": "2024-06-24T14:25:44.234026Z",
     "iopub.status.busy": "2024-06-24T14:25:44.233676Z",
     "iopub.status.idle": "2024-06-24T14:25:44.246356Z",
     "shell.execute_reply": "2024-06-24T14:25:44.245548Z",
     "shell.execute_reply.started": "2024-06-24T14:25:44.233995Z"
    }
   },
   "source": [
    "aux.leg_as_dataframe(fixed_rate_legs[0]).style.format(aux.format_dict)"
   ],
   "outputs": [],
   "execution_count": null
  },
  {
   "cell_type": "code",
   "id": "96edb34d-6b35-4ff0-b881-d4637ad03faa",
   "metadata": {
    "execution": {
     "iopub.execute_input": "2024-06-24T14:25:44.997741Z",
     "iopub.status.busy": "2024-06-24T14:25:44.997380Z",
     "iopub.status.idle": "2024-06-24T14:25:45.008633Z",
     "shell.execute_reply": "2024-06-24T14:25:45.007705Z",
     "shell.execute_reply.started": "2024-06-24T14:25:44.997710Z"
    }
   },
   "source": [
    "aux.leg_as_dataframe(fixed_rate_legs[14]).style.format(aux.format_dict)"
   ],
   "outputs": [],
   "execution_count": null
  },
  {
   "cell_type": "markdown",
   "id": "e7415163-ec2c-48af-b7fd-718a4ace0130",
   "metadata": {},
   "source": [
    "## Curva Inicial"
   ]
  },
  {
   "cell_type": "markdown",
   "id": "17072c57-661a-4d72-a711-e372ff8f457c",
   "metadata": {},
   "source": [
    "La curva cero cupón se construye usando bootstrapping y el algoritmo de Newton-Raphson. En el siguiente loop se construye la curva inicial. Newton-Raphson comenzará sus iteraciones desde cada punto de esta curva."
   ]
  },
  {
   "cell_type": "code",
   "id": "7b133398-100f-439c-9365-6aa823c7bcb7",
   "metadata": {
    "execution": {
     "iopub.execute_input": "2024-06-24T14:25:54.074008Z",
     "iopub.status.busy": "2024-06-24T14:25:54.073649Z",
     "iopub.status.idle": "2024-06-24T14:25:54.082019Z",
     "shell.execute_reply": "2024-06-24T14:25:54.081073Z",
     "shell.execute_reply.started": "2024-06-24T14:25:54.073979Z"
    }
   },
   "source": [
    "# Se define los vectores de plazos y tasas\n",
    "plazos = qcf.long_vec()\n",
    "tasas = qcf.double_vec()\n",
    "\n",
    "# Para rellenarlos se utiliza la información contenida \n",
    "# en las patas fijas.\n",
    "for leg in fixed_rate_legs:\n",
    "    # Número de cupones de la pata\n",
    "    num_cup = leg.size()\n",
    "\n",
    "    # Último cashflow de la pata\n",
    "    cashflow = leg.get_cashflow_at(num_cup - 1)\n",
    "\n",
    "    # Se calcula el número de días desde start_date \n",
    "    # hasta la última settlement_date\n",
    "    plazo = common_params[\"start_date\"].day_diff(cashflow.get_settlement_date())\n",
    "    plazos.append(plazo)\n",
    "\n",
    "    # Se obtiene el valor de la tasa fija\n",
    "    tasa = cashflow.get_rate().get_value()\n",
    "    tasas.append(tasa)\n",
    "\n",
    "# Con la información anterior, se termina de construir la curva\n",
    "curva = qcf.QCCurve(plazos, tasas)\n",
    "interpolator = qcf.QCLinearInterpolator(curva)\n",
    "initial_zcc = qcf.ZeroCouponCurve(\n",
    "    interpolator, \n",
    "    rate:=(qcf.QCInterestRate(\n",
    "        0.0, \n",
    "        qcf.QCAct365(), \n",
    "        qcf.QCContinousWf()\n",
    "    ))\n",
    ")"
   ],
   "outputs": [],
   "execution_count": null
  },
  {
   "cell_type": "markdown",
   "id": "060449e3-300d-46bb-82bf-0aaf6cb8930b",
   "metadata": {},
   "source": [
    "## Bootstrapping"
   ]
  },
  {
   "cell_type": "markdown",
   "id": "e460f464-da34-4cd0-a19e-eb7e9240bb05",
   "metadata": {},
   "source": [
    "Se procede ahora a aplicar el bootstrapping. Se comienza dando de alta el objeto `PresentValue` de `qcfinancial`que permite valorizar todo tipo de patas."
   ]
  },
  {
   "cell_type": "code",
   "id": "936e9381-db89-4518-88ba-bb9d2927b825",
   "metadata": {
    "execution": {
     "iopub.execute_input": "2024-06-24T14:25:58.193308Z",
     "iopub.status.busy": "2024-06-24T14:25:58.192912Z",
     "iopub.status.idle": "2024-06-24T14:25:58.197054Z",
     "shell.execute_reply": "2024-06-24T14:25:58.196090Z",
     "shell.execute_reply.started": "2024-06-24T14:25:58.193275Z"
    }
   },
   "source": [
    "pv = qcf.PresentValue()"
   ],
   "outputs": [],
   "execution_count": null
  },
  {
   "cell_type": "markdown",
   "id": "4ba5fa55-2514-4a45-80fa-46db55e422e6",
   "metadata": {},
   "source": [
    "El siguiente loop ejecuta el bootstrapping."
   ]
  },
  {
   "cell_type": "code",
   "id": "03c2a856-e1a1-464b-9b83-5f3ab0876101",
   "metadata": {
    "execution": {
     "iopub.execute_input": "2024-06-24T14:26:03.961771Z",
     "iopub.status.busy": "2024-06-24T14:26:03.961436Z",
     "iopub.status.idle": "2024-06-24T14:26:03.979651Z",
     "shell.execute_reply": "2024-06-24T14:26:03.978701Z",
     "shell.execute_reply.started": "2024-06-24T14:26:03.961742Z"
    }
   },
   "source": [
    "# Se resuelve la ecuación:\n",
    "# VP(pata_fija(i), z1,...,z(i),...,zN) - nocional = 0, para todo i\n",
    "for i, leg in enumerate(fixed_rate_legs):\n",
    "    \n",
    "    # Se define la función objetivo\n",
    "    def obj(zcc):\n",
    "        # VP - nocional\n",
    "        return pv.pv(common_params[\"start_date\"], leg, zcc) - common_params[\"initial_notional\"]\n",
    "    \n",
    "    # Aquí comienza la resolución\n",
    "    error = 1_000\n",
    "    epsilon = .00001\n",
    "    x = initial_zcc.get_rate_at(i)  # Valor inicial para Newton-Raphson\n",
    "    new_zcc = initial_zcc  # En new_zcc se almacena el resultado\n",
    "    \n",
    "    # Se aplica Newton-Raphson\n",
    "    while error > epsilon:\n",
    "        x = x - obj(new_zcc) / pv.get_derivatives()[i]  # La derivada del VP se calcula al momento de valorizar \n",
    "        tasas[i] = x\n",
    "        # Se reconstruye la curva con el valor de la iteración\n",
    "        curva = qcf.QCCurve(plazos, tasas)\n",
    "        interpolator = qcf.QCLinearInterpolator(curva)\n",
    "        new_zcc = qcf.ZeroCouponCurve(\n",
    "            interpolator, \n",
    "            rate,\n",
    "        )\n",
    "        # Se calcula el nuevo error\n",
    "        error = abs(obj(new_zcc))"
   ],
   "outputs": [],
   "execution_count": null
  },
  {
   "cell_type": "markdown",
   "id": "18669426-8fa2-4e29-85e8-c661d56a838c",
   "metadata": {},
   "source": [
    "Una vez ejecutado el bootstrapping, verificamos que, para cada pata, se cumple la condición deseada."
   ]
  },
  {
   "cell_type": "code",
   "id": "2f0f6849-da8a-47c9-b8d3-0048c38f036e",
   "metadata": {
    "execution": {
     "iopub.execute_input": "2024-06-24T14:26:23.951287Z",
     "iopub.status.busy": "2024-06-24T14:26:23.950947Z",
     "iopub.status.idle": "2024-06-24T14:26:23.965229Z",
     "shell.execute_reply": "2024-06-24T14:26:23.964275Z",
     "shell.execute_reply.started": "2024-06-24T14:26:23.951258Z"
    }
   },
   "source": [
    "check = []\n",
    "for i, leg in enumerate(fixed_rate_legs):\n",
    "    check.append({\n",
    "        \"leg_number\": i, \n",
    "        \"present_value\": pv.pv(common_params['start_date'], leg, new_zcc),\n",
    "    })\n",
    "df_check = pd.DataFrame(check)\n",
    "df_check.style.format({\"present_value\": \"{:,.4f}\"})"
   ],
   "outputs": [],
   "execution_count": null
  },
  {
   "cell_type": "markdown",
   "id": "9c8753f7-10c6-40c2-8456-2763e931a8a3",
   "metadata": {},
   "source": [
    "Finalmente, se despliega los valores de la curva obtenida."
   ]
  },
  {
   "cell_type": "code",
   "id": "ea5e4c5e-8dc4-4525-8805-3a6f0718e183",
   "metadata": {
    "execution": {
     "iopub.execute_input": "2024-06-24T14:26:30.350882Z",
     "iopub.status.busy": "2024-06-24T14:26:30.350531Z",
     "iopub.status.idle": "2024-06-24T14:26:30.366250Z",
     "shell.execute_reply": "2024-06-24T14:26:30.365162Z",
     "shell.execute_reply.started": "2024-06-24T14:26:30.350851Z"
    }
   },
   "source": [
    "df_curva = pd.concat([pd.DataFrame(plazos), pd.DataFrame(tasas)], axis=1)\n",
    "df_curva.columns = ['plazo', 'tasa']\n",
    "df_curva.style.format({'tasa':'{:.4%}'})"
   ],
   "outputs": [],
   "execution_count": null
  },
  {
   "cell_type": "code",
   "id": "b6505dcd-366d-4680-a042-b1503dc7ed70",
   "metadata": {},
   "source": [],
   "outputs": [],
   "execution_count": null
  }
 ],
 "metadata": {
  "kernelspec": {
   "display_name": "Python 3 (ipykernel)",
   "language": "python",
   "name": "python3"
  },
  "language_info": {
   "codemirror_mode": {
    "name": "ipython",
    "version": 3
   },
   "file_extension": ".py",
   "mimetype": "text/x-python",
   "name": "python",
   "nbconvert_exporter": "python",
   "pygments_lexer": "ipython3",
   "version": "3.11.5"
  }
 },
 "nbformat": 4,
 "nbformat_minor": 5
}
