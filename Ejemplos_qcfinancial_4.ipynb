{
 "cells": [
  {
   "cell_type": "markdown",
   "metadata": {},
   "source": "# Valorización de un Forward de BTU"
  },
  {
   "cell_type": "markdown",
   "metadata": {},
   "source": [
    "## Configuración"
   ]
  },
  {
   "cell_type": "markdown",
   "metadata": {},
   "source": [
    "Para ejecutar todos los ejemplos se debe importar la librería. Se sugiere utilizar siempre el alias `qcf`. "
   ]
  },
  {
   "cell_type": "code",
   "metadata": {
    "execution": {
     "iopub.execute_input": "2024-01-04T22:42:05.062045Z",
     "iopub.status.busy": "2024-01-04T22:42:05.061647Z",
     "iopub.status.idle": "2024-01-04T22:42:05.088301Z",
     "shell.execute_reply": "2024-01-04T22:42:05.085577Z",
     "shell.execute_reply.started": "2024-01-04T22:42:05.062014Z"
    },
    "ExecuteTime": {
     "end_time": "2024-04-19T12:56:44.635221Z",
     "start_time": "2024-04-19T12:56:44.601408Z"
    }
   },
   "source": [
    "import qcfinancial as qcf"
   ],
   "outputs": [],
   "execution_count": 1
  },
  {
   "cell_type": "markdown",
   "metadata": {},
   "source": [
    "Librerías adicionales."
   ]
  },
  {
   "cell_type": "code",
   "metadata": {
    "execution": {
     "iopub.execute_input": "2024-01-04T22:42:05.090573Z",
     "iopub.status.busy": "2024-01-04T22:42:05.090012Z",
     "iopub.status.idle": "2024-01-04T22:42:05.707705Z",
     "shell.execute_reply": "2024-01-04T22:42:05.706894Z",
     "shell.execute_reply.started": "2024-01-04T22:42:05.090540Z"
    },
    "ExecuteTime": {
     "end_time": "2024-04-19T12:56:47.332278Z",
     "start_time": "2024-04-19T12:56:46.517984Z"
    }
   },
   "source": [
    "import pandas as pd"
   ],
   "outputs": [],
   "execution_count": 2
  },
  {
   "cell_type": "markdown",
   "metadata": {},
   "source": [
    "Para formateo de `pandas.DataFrames`."
   ]
  },
  {
   "cell_type": "code",
   "metadata": {
    "execution": {
     "iopub.execute_input": "2024-01-04T22:42:05.709238Z",
     "iopub.status.busy": "2024-01-04T22:42:05.708761Z",
     "iopub.status.idle": "2024-01-04T22:42:05.714735Z",
     "shell.execute_reply": "2024-01-04T22:42:05.713716Z",
     "shell.execute_reply.started": "2024-01-04T22:42:05.709207Z"
    },
    "ExecuteTime": {
     "end_time": "2024-04-19T12:56:50.912741Z",
     "start_time": "2024-04-19T12:56:50.908527Z"
    }
   },
   "source": [
    "format_dict = {\n",
    "    'nominal': '{0:,.2f}',\n",
    "    'amort': '{0:,.2f}',\n",
    "    'interes': '{0:,.2f}',\n",
    "    'flujo': '{0:,.2f}',\n",
    "    'amortizacion': '{0:,.2f}',\n",
    "    'icp_inicial': '{0:,.2f}',\n",
    "    'icp_final': '{0:,.2f}',\n",
    "    'uf_inicial': '{0:,.2f}',\n",
    "    'uf_final': '{0:,.2f}',\n",
    "    'valor_tasa': '{0:,.4%}',\n",
    "    'spread': '{0:,.4%}',\n",
    "    'gearing': '{0:,.2f}',\n",
    "    'amort_moneda_pago': '{0:,.2f}',\n",
    "    'interes_moneda_pago': '{0:,.2f}',\n",
    "    'valor_indice_fx': '{0:,.2f}'\n",
    "}"
   ],
   "outputs": [],
   "execution_count": 3
  },
  {
   "cell_type": "markdown",
   "metadata": {},
   "source": [
    "## Construcción de la Curva"
   ]
  },
  {
   "cell_type": "markdown",
   "metadata": {},
   "source": [
    "## Valorizar"
   ]
  },
  {
   "cell_type": "markdown",
   "metadata": {},
   "source": [
    "Se da de alta un objeto `PresentValue`."
   ]
  },
  {
   "cell_type": "code",
   "execution_count": 27,
   "metadata": {
    "ExecuteTime": {
     "end_time": "2023-12-19T16:08:00.420833Z",
     "start_time": "2023-12-19T16:08:00.380040Z"
    },
    "execution": {
     "iopub.execute_input": "2024-01-04T22:42:05.895205Z",
     "iopub.status.busy": "2024-01-04T22:42:05.894831Z",
     "iopub.status.idle": "2024-01-04T22:42:05.898969Z",
     "shell.execute_reply": "2024-01-04T22:42:05.898114Z",
     "shell.execute_reply.started": "2024-01-04T22:42:05.895175Z"
    }
   },
   "outputs": [],
   "source": [
    "pv = qcf.PresentValue()"
   ]
  },
  {
   "cell_type": "markdown",
   "metadata": {},
   "source": [
    "### Renta Fija Local"
   ]
  },
  {
   "cell_type": "markdown",
   "metadata": {},
   "source": [
    "Se muestra el ejemplo de valorización de un bono bullet a tasa fija con las convenciones de la Bolsa de Comercio. Para el ejemplo usamos las características del BTU0150326.\n",
    "\n",
    "Se dan de alta los parámetros requeridos para instanciar un objeto de tipo `FixedRateLeg`."
   ]
  },
  {
   "cell_type": "code",
   "metadata": {
    "execution": {
     "iopub.execute_input": "2024-01-04T22:42:05.938061Z",
     "iopub.status.busy": "2024-01-04T22:42:05.937662Z",
     "iopub.status.idle": "2024-01-04T22:42:05.944688Z",
     "shell.execute_reply": "2024-01-04T22:42:05.943709Z",
     "shell.execute_reply.started": "2024-01-04T22:42:05.938033Z"
    },
    "ExecuteTime": {
     "end_time": "2024-04-19T12:59:08.343778Z",
     "start_time": "2024-04-19T12:59:08.329264Z"
    }
   },
   "source": [
    "rp = qcf.RecPay.RECEIVE\n",
    "fecha_inicio = qcf.QCDate(1, 3, 2015)\n",
    "fecha_final = qcf.QCDate(1, 3, 2026)\n",
    "bus_adj_rule = qcf.BusyAdjRules.NO\n",
    "periodicidad = qcf.Tenor('6M')\n",
    "periodo_irregular = qcf.StubPeriod.NO\n",
    "calendario = qcf.BusinessCalendar(fecha_inicio, 20)\n",
    "lag_pago = 0\n",
    "nominal = 100.0\n",
    "amort_es_flujo = True\n",
    "valor_tasa_fija = .015\n",
    "tasa_cupon = qcf.QCInterestRate(\n",
    "    valor_tasa_fija, \n",
    "    qcf.QC30360(),\n",
    "    qcf.QCLinearWf()\n",
    ")\n",
    "moneda = qcf.QCCLP()\n",
    "es_bono = True\n",
    "\n",
    "# Se da de alta el objeto\n",
    "pata_bono = qcf.LegFactory.build_bullet_fixed_rate_leg(\n",
    "    rp,\n",
    "    fecha_inicio,\n",
    "    fecha_final,\n",
    "    bus_adj_rule,\n",
    "    periodicidad,\n",
    "    periodo_irregular,\n",
    "    calendario,\n",
    "    lag_pago,\n",
    "    nominal,\n",
    "    amort_es_flujo,\n",
    "    tasa_cupon,\n",
    "    moneda,\n",
    "    es_bono\n",
    ")"
   ],
   "outputs": [],
   "execution_count": 4
  },
  {
   "cell_type": "markdown",
   "metadata": {},
   "source": [
    "Se da de alta el valor de la TERA y luego se construye un objeto de tipo `ChileanFixedRateBond`."
   ]
  },
  {
   "cell_type": "code",
   "metadata": {
    "execution": {
     "iopub.execute_input": "2024-01-04T22:42:05.946108Z",
     "iopub.status.busy": "2024-01-04T22:42:05.945732Z",
     "iopub.status.idle": "2024-01-04T22:42:05.950347Z",
     "shell.execute_reply": "2024-01-04T22:42:05.949560Z",
     "shell.execute_reply.started": "2024-01-04T22:42:05.946082Z"
    },
    "ExecuteTime": {
     "end_time": "2024-04-19T12:59:10.621309Z",
     "start_time": "2024-04-19T12:59:10.617218Z"
    }
   },
   "source": [
    "tera = qcf.QCInterestRate(.015044, qcf.QCAct365(), qcf.QCCompoundWf())\n",
    "bono_chileno = qcf.ChileanFixedRateBond(pata_bono, tera)"
   ],
   "outputs": [],
   "execution_count": 5
  },
  {
   "cell_type": "markdown",
   "metadata": {},
   "source": "El Fwd de BTU se pacta a una TIR del 2.99% y vence el 9 de junio del 2023. Por lo tanto el valor a pagar (suponiendo que es un forward de compra) debe ser:"
  },
  {
   "cell_type": "code",
   "metadata": {
    "execution": {
     "iopub.execute_input": "2024-01-04T22:42:05.952085Z",
     "iopub.status.busy": "2024-01-04T22:42:05.951632Z",
     "iopub.status.idle": "2024-01-04T22:42:05.957431Z",
     "shell.execute_reply": "2024-01-04T22:42:05.956627Z",
     "shell.execute_reply.started": "2024-01-04T22:42:05.952058Z"
    },
    "ExecuteTime": {
     "end_time": "2024-04-19T13:06:49.608341Z",
     "start_time": "2024-04-19T13:06:49.603910Z"
    }
   },
   "source": [
    "fecha_vcto = qcf.QCDate(9, 6, 2023)\n",
    "tir = qcf.QCInterestRate(.0299, qcf.QCAct365(), qcf.QCCompoundWf())\n",
    "\n",
    "valor_presente = bono_chileno.present_value(fecha_vcto, tir)\n",
    "precio = bono_chileno.precio2(fecha_vcto, tir, 6)\n",
    "valor_par = bono_chileno.valor_par(fecha_vcto)\n",
    "\n",
    "print(f'Valor presente: {valor_presente:,.8f}')\n",
    "print(f'Precio: {precio:,.4%}')\n",
    "print(f'Valor par: {valor_par:,.18f}')"
   ],
   "outputs": [
    {
     "name": "stdout",
     "output_type": "stream",
     "text": [
      "Valor presente: 96.58457614\n",
      "Precio: 96.1903%\n",
      "Valor par: 100.409932765513914887\n"
     ]
    }
   ],
   "execution_count": 11
  },
  {
   "cell_type": "markdown",
   "metadata": {},
   "source": [
    "Con esto el valor a pagar es:"
   ]
  },
  {
   "cell_type": "code",
   "metadata": {
    "execution": {
     "iopub.execute_input": "2024-01-04T22:42:05.959283Z",
     "iopub.status.busy": "2024-01-04T22:42:05.958740Z",
     "iopub.status.idle": "2024-01-04T22:42:05.963230Z",
     "shell.execute_reply": "2024-01-04T22:42:05.962468Z",
     "shell.execute_reply.started": "2024-01-04T22:42:05.959256Z"
    },
    "ExecuteTime": {
     "end_time": "2024-04-19T13:06:52.812942Z",
     "start_time": "2024-04-19T13:06:52.808346Z"
    }
   },
   "source": [
    "nominal = 30_000\n",
    "valor_uf = 35_956.37\n",
    "valor_pago = nominal / 100.0 * precio * valor_par * valor_uf\n",
    "print(f'Valor a pagar: {valor_pago:,.0f}')"
   ],
   "outputs": [
    {
     "name": "stdout",
     "output_type": "stream",
     "text": [
      "Valor a pagar: 1,041,849,652\n"
     ]
    }
   ],
   "execution_count": 12
  },
  {
   "metadata": {},
   "cell_type": "markdown",
   "source": "Para valorizar, debemos traer a valor presente este flujo en CLP con una tasa apropiada desde la fecha de vencimiento del forward hasta la fecha de valorización."
  },
  {
   "metadata": {
    "ExecuteTime": {
     "end_time": "2024-04-19T13:30:25.250545Z",
     "start_time": "2024-04-19T13:30:25.236723Z"
    }
   },
   "cell_type": "code",
   "source": [
    "fecha_valorizacion = qcf.QCDate(17, 5, 2023)\n",
    "plazo = fecha_valorizacion.day_diff(fecha_vcto)\n",
    "tasa_descuento = .01 # Lineal Act/360"
   ],
   "outputs": [],
   "execution_count": 16
  },
  {
   "metadata": {
    "ExecuteTime": {
     "end_time": "2024-04-19T13:31:06.817659Z",
     "start_time": "2024-04-19T13:31:06.814166Z"
    }
   },
   "cell_type": "code",
   "source": "vp_tasa_contrato = valor_pago / (1 + tasa_descuento * plazo / 360)",
   "outputs": [],
   "execution_count": 17
  },
  {
   "metadata": {},
   "cell_type": "markdown",
   "source": "Por otro lado, la TIR de mercado a fecha de valorización es 3.15%. Por lo que el valor presente del bono a fecha de valorización es:"
  },
  {
   "metadata": {
    "ExecuteTime": {
     "end_time": "2024-04-19T13:37:15.900750Z",
     "start_time": "2024-04-19T13:37:15.896216Z"
    }
   },
   "cell_type": "code",
   "source": [
    "tir_hoy = qcf.QCInterestRate(.0355, qcf.QCAct365(), qcf.QCCompoundWf())\n",
    "valor_uf_hoy = 35_984.18\n",
    "valor_presente_hoy = bono_chileno.present_value(fecha_valorizacion, tir_hoy)\n",
    "precio_hoy = bono_chileno.precio2(fecha_valorizacion, tir_hoy, 6)\n",
    "valor_par_hoy = bono_chileno.valor_par(fecha_valorizacion)\n",
    "valor_hoy = nominal / 100.0 * precio_hoy * valor_par_hoy * valor_uf_hoy"
   ],
   "outputs": [],
   "execution_count": 19
  },
  {
   "metadata": {
    "ExecuteTime": {
     "end_time": "2024-04-19T13:38:00.819855Z",
     "start_time": "2024-04-19T13:38:00.816807Z"
    }
   },
   "cell_type": "code",
   "source": "m2m = valor_hoy - vp_tasa_contrato",
   "outputs": [],
   "execution_count": 20
  },
  {
   "metadata": {
    "ExecuteTime": {
     "end_time": "2024-04-19T14:16:31.069075Z",
     "start_time": "2024-04-19T14:16:31.065889Z"
    }
   },
   "cell_type": "code",
   "source": "print(f\"Valor de mercado (M2M): {m2m:,.0f} CLP\")",
   "outputs": [
    {
     "name": "stdout",
     "output_type": "stream",
     "text": [
      "Valor de mercado (M2M): -15,783,877 CLP\n"
     ]
    }
   ],
   "execution_count": 23
  }
 ],
 "metadata": {
  "hide_input": false,
  "kernelspec": {
   "display_name": "Python 3 (ipykernel)",
   "language": "python",
   "name": "python3"
  },
  "language_info": {
   "codemirror_mode": {
    "name": "ipython",
    "version": 3
   },
   "file_extension": ".py",
   "mimetype": "text/x-python",
   "name": "python",
   "nbconvert_exporter": "python",
   "pygments_lexer": "ipython3",
   "version": "3.11.5"
  },
  "toc": {
   "base_numbering": 1,
   "nav_menu": {},
   "number_sections": true,
   "sideBar": true,
   "skip_h1_title": true,
   "title_cell": "Table of Contents",
   "title_sidebar": "Contenidos",
   "toc_cell": false,
   "toc_position": {
    "height": "calc(100% - 180px)",
    "left": "10px",
    "top": "150px",
    "width": "311px"
   },
   "toc_section_display": true,
   "toc_window_display": true
  },
  "varInspector": {
   "cols": {
    "lenName": 16,
    "lenType": 16,
    "lenVar": 40
   },
   "kernels_config": {
    "python": {
     "delete_cmd_postfix": "",
     "delete_cmd_prefix": "del ",
     "library": "var_list.py",
     "varRefreshCmd": "print(var_dic_list())"
    },
    "r": {
     "delete_cmd_postfix": ") ",
     "delete_cmd_prefix": "rm(",
     "library": "var_list.r",
     "varRefreshCmd": "cat(var_dic_list()) "
    }
   },
   "types_to_exclude": [
    "module",
    "function",
    "builtin_function_or_method",
    "instance",
    "_Feature"
   ],
   "window_display": false
  }
 },
 "nbformat": 4,
 "nbformat_minor": 4
}
